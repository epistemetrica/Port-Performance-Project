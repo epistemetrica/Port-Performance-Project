{
 "cells": [
  {
   "cell_type": "markdown",
   "metadata": {},
   "source": [
    "# Port Statistics\n",
    "\n",
    "This notebook develops and explores the various port statistics used in the [Port Performance Project](https://github.com/epistemetrica/Port-Performance-Project). See the README.md file in the main directory for more info.\n",
    "\n",
    "The primary data set comes from a combination of AIS vessel data and port data, processed in the Port Geodata notebook.\n",
    "\n",
    "Statistics and final dataframes developed here are used in the Port Performance Dashboard.\n",
    "\n"
   ]
  },
  {
   "cell_type": "code",
   "execution_count": 1,
   "metadata": {},
   "outputs": [],
   "source": [
    "#prelims\n",
    "import polars as pl\n",
    "import polars.selectors as cs\n",
    "import pandas as pd\n",
    "import geopandas as gpd\n",
    "import time\n",
    "import plotly.express as px\n",
    "import matplotlib.pyplot as plt\n",
    "import contextily as cx\n",
    "import numpy as np\n",
    "import glob\n",
    "import folium\n",
    "from folium.plugins import HeatMap\n",
    "\n",
    "#enable string cache for polars categoricals\n",
    "pl.enable_string_cache()\n",
    "#display settings\n",
    "pd.set_option('display.max_columns', None)\n",
    "pd.set_option('display.max_rows', None)\n",
    "pl.Config(tbl_rows=100);"
   ]
  },
  {
   "cell_type": "markdown",
   "metadata": {},
   "source": [
    "## Load Data from geodata_prep notebook"
   ]
  },
  {
   "cell_type": "code",
   "execution_count": 2,
   "metadata": {},
   "outputs": [],
   "source": [
    "#load data from parquet\n",
    "main_lf = pl.scan_parquet('port data/dashboard/main.parquet')"
   ]
  },
  {
   "cell_type": "markdown",
   "metadata": {},
   "source": [
    "## Generate Stats"
   ]
  },
  {
   "cell_type": "code",
   "execution_count": 3,
   "metadata": {},
   "outputs": [
    {
     "data": {
      "text/html": [
       "<div><style>\n",
       ".dataframe > thead > tr,\n",
       ".dataframe > tbody > tr {\n",
       "  text-align: right;\n",
       "  white-space: pre-wrap;\n",
       "}\n",
       "</style>\n",
       "<small>shape: (9, 21)</small><table border=\"1\" class=\"dataframe\"><thead><tr><th>statistic</th><th>call_id</th><th>port_name</th><th>port_lat</th><th>port_lon</th><th>dock_name</th><th>dock_id</th><th>facility_type</th><th>dock_lat</th><th>dock_lon</th><th>imo</th><th>vessel_size</th><th>time_port_entry</th><th>time_arrival</th><th>time_departure</th><th>time_port_exit</th><th>hrs_at_berth</th><th>hrs_at_anchor</th><th>hrs_to_dock</th><th>hrs_in_port_after_dock</th><th>hrs_in_port_waters</th></tr><tr><td>str</td><td>str</td><td>str</td><td>f64</td><td>f64</td><td>str</td><td>str</td><td>str</td><td>f64</td><td>f64</td><td>f64</td><td>f64</td><td>str</td><td>str</td><td>str</td><td>str</td><td>f64</td><td>f64</td><td>f64</td><td>f64</td><td>f64</td></tr></thead><tbody><tr><td>&quot;count&quot;</td><td>&quot;155019&quot;</td><td>&quot;155019&quot;</td><td>155019.0</td><td>155019.0</td><td>&quot;155019&quot;</td><td>&quot;155019&quot;</td><td>&quot;154638&quot;</td><td>155019.0</td><td>155019.0</td><td>155019.0</td><td>155019.0</td><td>&quot;155019&quot;</td><td>&quot;155019&quot;</td><td>&quot;155019&quot;</td><td>&quot;155019&quot;</td><td>155019.0</td><td>155019.0</td><td>155019.0</td><td>155019.0</td><td>155019.0</td></tr><tr><td>&quot;null_count&quot;</td><td>&quot;0&quot;</td><td>&quot;0&quot;</td><td>0.0</td><td>0.0</td><td>&quot;0&quot;</td><td>&quot;0&quot;</td><td>&quot;381&quot;</td><td>0.0</td><td>0.0</td><td>0.0</td><td>0.0</td><td>&quot;0&quot;</td><td>&quot;0&quot;</td><td>&quot;0&quot;</td><td>&quot;0&quot;</td><td>0.0</td><td>0.0</td><td>0.0</td><td>0.0</td><td>0.0</td></tr><tr><td>&quot;mean&quot;</td><td>null</td><td>null</td><td>32.344251</td><td>-94.716349</td><td>null</td><td>null</td><td>null</td><td>32.344489</td><td>-94.715416</td><td>1.0138e7</td><td>207.567021</td><td>&quot;2021-07-23 18:12:34.583173&quot;</td><td>&quot;2021-07-25 02:22:24.542139&quot;</td><td>&quot;2021-07-30 22:47:06.953302&quot;</td><td>&quot;2021-08-01 18:36:51.122881&quot;</td><td>63.190444</td><td>14.147425</td><td>32.155965</td><td>43.821222</td><td>216.396416</td></tr><tr><td>&quot;std&quot;</td><td>null</td><td>null</td><td>6.898889</td><td>20.731927</td><td>null</td><td>null</td><td>null</td><td>6.899166</td><td>20.732273</td><td>2.6403e7</td><td>58.934606</td><td>null</td><td>null</td><td>null</td><td>null</td><td>453.486576</td><td>90.894383</td><td>827.510313</td><td>1252.007228</td><td>2417.441186</td></tr><tr><td>&quot;min&quot;</td><td>&quot;0_Corpus Christi, TX_2020-04-0…</td><td>&quot;Albany Port District, NY&quot;</td><td>17.938939</td><td>-166.549916</td><td>&quot;ADM Corpus Christi Grain Eleva…</td><td>&quot;00XE&quot;</td><td>&quot;Anchorage&quot;</td><td>17.936081</td><td>-166.53444</td><td>0.0</td><td>101.0</td><td>&quot;2018-01-01 00:35:19&quot;</td><td>&quot;2018-01-01 00:35:19&quot;</td><td>&quot;2018-01-01 04:23:54&quot;</td><td>&quot;2018-01-01 09:15:57&quot;</td><td>0.083333</td><td>0.0</td><td>0.0</td><td>0.0</td><td>0.133333</td></tr><tr><td>&quot;25%&quot;</td><td>null</td><td>null</td><td>28.629389</td><td>-118.2095</td><td>null</td><td>null</td><td>null</td><td>28.645767</td><td>-118.21111</td><td>9.298698e6</td><td>176.0</td><td>&quot;2019-09-21 17:53:15&quot;</td><td>&quot;2019-09-22 23:05:00&quot;</td><td>&quot;2019-09-28 10:30:03&quot;</td><td>&quot;2019-09-30 09:43:37&quot;</td><td>16.783333</td><td>0.0</td><td>2.666667</td><td>2.15</td><td>26.116667</td></tr><tr><td>&quot;50%&quot;</td><td>null</td><td>null</td><td>30.69123</td><td>-90.085256</td><td>null</td><td>null</td><td>null</td><td>30.710833</td><td>-90.112537</td><td>9.40532e6</td><td>190.0</td><td>&quot;2021-09-04 01:42:56&quot;</td><td>&quot;2021-09-06 15:58:35&quot;</td><td>&quot;2021-09-12 22:28:49&quot;</td><td>&quot;2021-09-15 06:37:22&quot;</td><td>31.55</td><td>0.0</td><td>3.55</td><td>2.8</td><td>44.75</td></tr><tr><td>&quot;75%&quot;</td><td>null</td><td>null</td><td>36.86642</td><td>-80.117801</td><td>null</td><td>null</td><td>null</td><td>36.875896</td><td>-80.114322</td><td>9.619684e6</td><td>230.0</td><td>&quot;2023-05-04 23:51:39&quot;</td><td>&quot;2023-05-06 13:57:36&quot;</td><td>&quot;2023-05-12 07:35:27&quot;</td><td>&quot;2023-05-14 03:41:33&quot;</td><td>58.366667</td><td>0.0</td><td>5.516667</td><td>3.55</td><td>84.5</td></tr><tr><td>&quot;max&quot;</td><td>&quot;9993808_Honolulu, O&#x27;ahu, HI_20…</td><td>&quot;Wilmington, NC&quot;</td><td>61.23778</td><td>-66.096678</td><td>&quot;YUSEN TERMINALS BERTHS 212-221&quot;</td><td>&quot;1JHK&quot;</td><td>&quot;Tie Off&quot;</td><td>61.24306</td><td>-66.086926</td><td>9.800025e8</td><td>667.0</td><td>&quot;2024-12-31 18:55:48&quot;</td><td>&quot;2024-12-31 22:30:59&quot;</td><td>&quot;2024-12-31 23:37:00&quot;</td><td>&quot;2024-12-31 23:37:00&quot;</td><td>48583.366667</td><td>14389.4</td><td>61186.266667</td><td>61100.566667</td><td>61302.516667</td></tr></tbody></table></div>"
      ],
      "text/plain": [
       "shape: (9, 21)\n",
       "┌───────────┬───────────┬───────────┬───────────┬───┬───────────┬───────────┬───────────┬──────────┐\n",
       "│ statistic ┆ call_id   ┆ port_name ┆ port_lat  ┆ … ┆ hrs_at_an ┆ hrs_to_do ┆ hrs_in_po ┆ hrs_in_p │\n",
       "│ ---       ┆ ---       ┆ ---       ┆ ---       ┆   ┆ chor      ┆ ck        ┆ rt_after_ ┆ ort_wate │\n",
       "│ str       ┆ str       ┆ str       ┆ f64       ┆   ┆ ---       ┆ ---       ┆ dock      ┆ rs       │\n",
       "│           ┆           ┆           ┆           ┆   ┆ f64       ┆ f64       ┆ ---       ┆ ---      │\n",
       "│           ┆           ┆           ┆           ┆   ┆           ┆           ┆ f64       ┆ f64      │\n",
       "╞═══════════╪═══════════╪═══════════╪═══════════╪═══╪═══════════╪═══════════╪═══════════╪══════════╡\n",
       "│ count     ┆ 155019    ┆ 155019    ┆ 155019.0  ┆ … ┆ 155019.0  ┆ 155019.0  ┆ 155019.0  ┆ 155019.0 │\n",
       "│ null_coun ┆ 0         ┆ 0         ┆ 0.0       ┆ … ┆ 0.0       ┆ 0.0       ┆ 0.0       ┆ 0.0      │\n",
       "│ t         ┆           ┆           ┆           ┆   ┆           ┆           ┆           ┆          │\n",
       "│ mean      ┆ null      ┆ null      ┆ 32.344251 ┆ … ┆ 14.147425 ┆ 32.155965 ┆ 43.821222 ┆ 216.3964 │\n",
       "│           ┆           ┆           ┆           ┆   ┆           ┆           ┆           ┆ 16       │\n",
       "│ std       ┆ null      ┆ null      ┆ 6.898889  ┆ … ┆ 90.894383 ┆ 827.51031 ┆ 1252.0072 ┆ 2417.441 │\n",
       "│           ┆           ┆           ┆           ┆   ┆           ┆ 3         ┆ 28        ┆ 186      │\n",
       "│ min       ┆ 0_Corpus  ┆ Albany    ┆ 17.938939 ┆ … ┆ 0.0       ┆ 0.0       ┆ 0.0       ┆ 0.133333 │\n",
       "│           ┆ Christi,  ┆ Port      ┆           ┆   ┆           ┆           ┆           ┆          │\n",
       "│           ┆ TX_2020-0 ┆ District, ┆           ┆   ┆           ┆           ┆           ┆          │\n",
       "│           ┆ 4-0…      ┆ NY        ┆           ┆   ┆           ┆           ┆           ┆          │\n",
       "│ 25%       ┆ null      ┆ null      ┆ 28.629389 ┆ … ┆ 0.0       ┆ 2.666667  ┆ 2.15      ┆ 26.11666 │\n",
       "│           ┆           ┆           ┆           ┆   ┆           ┆           ┆           ┆ 7        │\n",
       "│ 50%       ┆ null      ┆ null      ┆ 30.69123  ┆ … ┆ 0.0       ┆ 3.55      ┆ 2.8       ┆ 44.75    │\n",
       "│ 75%       ┆ null      ┆ null      ┆ 36.86642  ┆ … ┆ 0.0       ┆ 5.516667  ┆ 3.55      ┆ 84.5     │\n",
       "│ max       ┆ 9993808_H ┆ Wilmingto ┆ 61.23778  ┆ … ┆ 14389.4   ┆ 61186.266 ┆ 61100.566 ┆ 61302.51 │\n",
       "│           ┆ onolulu,  ┆ n, NC     ┆           ┆   ┆           ┆ 667       ┆ 667       ┆ 6667     │\n",
       "│           ┆ O'ahu,    ┆           ┆           ┆   ┆           ┆           ┆           ┆          │\n",
       "│           ┆ HI_20…    ┆           ┆           ┆   ┆           ┆           ┆           ┆          │\n",
       "└───────────┴───────────┴───────────┴───────────┴───┴───────────┴───────────┴───────────┴──────────┘"
      ]
     },
     "metadata": {},
     "output_type": "display_data"
    },
    {
     "data": {
      "text/html": [
       "<div><style>\n",
       ".dataframe > thead > tr,\n",
       ".dataframe > tbody > tr {\n",
       "  text-align: right;\n",
       "  white-space: pre-wrap;\n",
       "}\n",
       "</style>\n",
       "<small>shape: (5, 20)</small><table border=\"1\" class=\"dataframe\"><thead><tr><th>call_id</th><th>port_name</th><th>port_lat</th><th>port_lon</th><th>dock_name</th><th>dock_id</th><th>facility_type</th><th>dock_lat</th><th>dock_lon</th><th>imo</th><th>vessel_size</th><th>time_port_entry</th><th>time_arrival</th><th>time_departure</th><th>time_port_exit</th><th>hrs_at_berth</th><th>hrs_at_anchor</th><th>hrs_to_dock</th><th>hrs_in_port_after_dock</th><th>hrs_in_port_waters</th></tr><tr><td>str</td><td>str</td><td>f64</td><td>f64</td><td>str</td><td>str</td><td>str</td><td>f64</td><td>f64</td><td>i64</td><td>f64</td><td>datetime[μs]</td><td>datetime[μs]</td><td>datetime[μs]</td><td>datetime[μs]</td><td>f64</td><td>f64</td><td>f64</td><td>f64</td><td>f64</td></tr></thead><tbody><tr><td>&quot;9355240_Oxnard Harbor District…</td><td>&quot;Oxnard Harbor District, CA&quot;</td><td>34.148244</td><td>-119.208475</td><td>&quot;OXNARD HARBOR DISTRICT WHARF N…</td><td>&quot;0UUC&quot;</td><td>&quot;Dock&quot;</td><td>34.1475</td><td>-119.20583</td><td>9355240</td><td>199.0</td><td>2021-05-26 20:15:39</td><td>2021-05-27 13:19:48</td><td>2021-05-27 23:24:09</td><td>2021-05-28 03:49:08</td><td>10.066667</td><td>11.483333</td><td>17.066667</td><td>4.4</td><td>31.55</td></tr><tr><td>&quot;9347839_Port of Charleston, SC…</td><td>&quot;Port of Charleston, SC&quot;</td><td>32.788781</td><td>-79.921595</td><td>&quot;STATE PIER 8, COLUMBUS STREET …</td><td>&quot;0XD3&quot;</td><td>&quot;Dock&quot;</td><td>32.798889</td><td>-79.928889</td><td>9347839</td><td>119.0</td><td>2022-06-27 09:00:13</td><td>2022-06-27 23:36:35</td><td>2022-06-28 00:54:49</td><td>2022-06-28 03:11:16</td><td>1.3</td><td>0.0</td><td>14.6</td><td>2.266667</td><td>18.183333</td></tr><tr><td>&quot;9640061_Houston Port Authority…</td><td>&quot;Houston Port Authority, TX&quot;</td><td>29.747023</td><td>-95.293679</td><td>&quot;PORT OF HOUSTON, TURNING BASIN…</td><td>&quot;0VZV&quot;</td><td>&quot;Dock&quot;</td><td>29.726873</td><td>-95.264865</td><td>9640061</td><td>179.0</td><td>2020-07-07 13:46:05</td><td>2020-07-07 17:20:00</td><td>2020-07-08 23:23:00</td><td>2020-07-09 01:57:26</td><td>23.833333</td><td>0.0</td><td>3.55</td><td>2.566667</td><td>36.183333</td></tr><tr><td>&quot;9110389_Port Everglades, FL_20…</td><td>&quot;Port Everglades, FL&quot;</td><td>26.093392</td><td>-80.117801</td><td>&quot;PORT EVERGLADES BERTHS 30, 31 …</td><td>&quot;0YSY&quot;</td><td>&quot;Dock&quot;</td><td>26.069167</td><td>-80.116111</td><td>9110389</td><td>274.0</td><td>2023-05-11 02:34:01</td><td>2023-05-11 07:09:21</td><td>2023-07-10 23:46:07</td><td>2023-07-10 23:46:07</td><td>1456.6</td><td>0.0</td><td>4.583333</td><td>0.0</td><td>1461.2</td></tr><tr><td>&quot;9113721_Port Everglades, FL_20…</td><td>&quot;Port Everglades, FL&quot;</td><td>26.093392</td><td>-80.117801</td><td>&quot;PORT EVERGLADES BERTHS 14 &amp; 15&quot;</td><td>&quot;0YXV&quot;</td><td>&quot;Dock&quot;</td><td>26.090278</td><td>-80.122222</td><td>9113721</td><td>101.0</td><td>2023-11-09 08:19:44</td><td>2023-11-09 12:15:55</td><td>2023-11-09 20:27:57</td><td>2023-11-09 22:57:42</td><td>8.2</td><td>0.0</td><td>3.933333</td><td>2.483333</td><td>14.616667</td></tr></tbody></table></div>"
      ],
      "text/plain": [
       "shape: (5, 20)\n",
       "┌───────────┬───────────┬───────────┬───────────┬───┬───────────┬───────────┬───────────┬──────────┐\n",
       "│ call_id   ┆ port_name ┆ port_lat  ┆ port_lon  ┆ … ┆ hrs_at_an ┆ hrs_to_do ┆ hrs_in_po ┆ hrs_in_p │\n",
       "│ ---       ┆ ---       ┆ ---       ┆ ---       ┆   ┆ chor      ┆ ck        ┆ rt_after_ ┆ ort_wate │\n",
       "│ str       ┆ str       ┆ f64       ┆ f64       ┆   ┆ ---       ┆ ---       ┆ dock      ┆ rs       │\n",
       "│           ┆           ┆           ┆           ┆   ┆ f64       ┆ f64       ┆ ---       ┆ ---      │\n",
       "│           ┆           ┆           ┆           ┆   ┆           ┆           ┆ f64       ┆ f64      │\n",
       "╞═══════════╪═══════════╪═══════════╪═══════════╪═══╪═══════════╪═══════════╪═══════════╪══════════╡\n",
       "│ 9355240_O ┆ Oxnard    ┆ 34.148244 ┆ -119.2084 ┆ … ┆ 11.483333 ┆ 17.066667 ┆ 4.4       ┆ 31.55    │\n",
       "│ xnard     ┆ Harbor    ┆           ┆ 75        ┆   ┆           ┆           ┆           ┆          │\n",
       "│ Harbor    ┆ District, ┆           ┆           ┆   ┆           ┆           ┆           ┆          │\n",
       "│ District… ┆ CA        ┆           ┆           ┆   ┆           ┆           ┆           ┆          │\n",
       "│ 9347839_P ┆ Port of   ┆ 32.788781 ┆ -79.92159 ┆ … ┆ 0.0       ┆ 14.6      ┆ 2.266667  ┆ 18.18333 │\n",
       "│ ort of    ┆ Charlesto ┆           ┆ 5         ┆   ┆           ┆           ┆           ┆ 3        │\n",
       "│ Charlesto ┆ n, SC     ┆           ┆           ┆   ┆           ┆           ┆           ┆          │\n",
       "│ n, SC…    ┆           ┆           ┆           ┆   ┆           ┆           ┆           ┆          │\n",
       "│ 9640061_H ┆ Houston   ┆ 29.747023 ┆ -95.29367 ┆ … ┆ 0.0       ┆ 3.55      ┆ 2.566667  ┆ 36.18333 │\n",
       "│ ouston    ┆ Port Auth ┆           ┆ 9         ┆   ┆           ┆           ┆           ┆ 3        │\n",
       "│ Port Auth ┆ ority, TX ┆           ┆           ┆   ┆           ┆           ┆           ┆          │\n",
       "│ ority…    ┆           ┆           ┆           ┆   ┆           ┆           ┆           ┆          │\n",
       "│ 9110389_P ┆ Port Ever ┆ 26.093392 ┆ -80.11780 ┆ … ┆ 0.0       ┆ 4.583333  ┆ 0.0       ┆ 1461.2   │\n",
       "│ ort Everg ┆ glades,   ┆           ┆ 1         ┆   ┆           ┆           ┆           ┆          │\n",
       "│ lades,    ┆ FL        ┆           ┆           ┆   ┆           ┆           ┆           ┆          │\n",
       "│ FL_20…    ┆           ┆           ┆           ┆   ┆           ┆           ┆           ┆          │\n",
       "│ 9113721_P ┆ Port Ever ┆ 26.093392 ┆ -80.11780 ┆ … ┆ 0.0       ┆ 3.933333  ┆ 2.483333  ┆ 14.61666 │\n",
       "│ ort Everg ┆ glades,   ┆           ┆ 1         ┆   ┆           ┆           ┆           ┆ 7        │\n",
       "│ lades,    ┆ FL        ┆           ┆           ┆   ┆           ┆           ┆           ┆          │\n",
       "│ FL_20…    ┆           ┆           ┆           ┆   ┆           ┆           ┆           ┆          │\n",
       "└───────────┴───────────┴───────────┴───────────┴───┴───────────┴───────────┴───────────┴──────────┘"
      ]
     },
     "execution_count": 3,
     "metadata": {},
     "output_type": "execute_result"
    }
   ],
   "source": [
    "#get stats for each call\n",
    "calls_df = (\n",
    "    main_lf\n",
    "    #ensure sorting by vessel and time\n",
    "    .sort(['imo', 'time'])\n",
    "    #grouby by call id\n",
    "    .group_by('call_id')\n",
    "    .agg(\n",
    "        #port name\n",
    "        port_name = pl.first('port_name'),\n",
    "        #port lat and lon\n",
    "        port_lat = pl.first('port_lat'),\n",
    "        port_lon = pl.first('port_lon'),\n",
    "        #dock name\n",
    "        dock_name = pl.first('dock_name'),\n",
    "        #dock_id\n",
    "        dock_id = pl.first('dock_id'),\n",
    "        #facility type\n",
    "        facility_type = pl.first('facility_type'),\n",
    "        #dock lat and lon\n",
    "        dock_lat = pl.first('dock_lat'),\n",
    "        dock_lon = pl.first('dock_lon'),\n",
    "        #vessel imo\n",
    "        imo = pl.first('imo'),\n",
    "        #vessel size\n",
    "        vessel_size = pl.first('length'),\n",
    "        #time entering port waters\n",
    "        time_port_entry = pl.col('time').min(),\n",
    "        #time of arrival at dock\n",
    "        time_arrival = (\n",
    "            pl.when(pl.col('status')==5)\n",
    "            .then(pl.col('time'))\n",
    "            .otherwise(pl.lit(None))\n",
    "        ).min(),\n",
    "        #time of departure from dock\n",
    "        time_departure = (\n",
    "            pl.when(pl.col('status')==5)\n",
    "            .then(pl.col('time')+pl.col('status_duration'))\n",
    "            .otherwise(pl.lit(None))\n",
    "        ).max(),\n",
    "        #time port exit\n",
    "        time_port_exit = (pl.col('time') + pl.col('status_duration')).max(),\n",
    "        #hrs a berth\n",
    "        hrs_at_berth = (\n",
    "            ((pl.col('status')==5)*\n",
    "            (pl.col('status_duration').dt.total_minutes()/60)\n",
    "            )\n",
    "        ).sum(),\n",
    "        #hrs at anchor\n",
    "        hrs_at_anchor = (\n",
    "            (pl.col('status')==1)*\n",
    "            (pl.col('status_duration').dt.total_minutes()/60)\n",
    "        ).sum()\n",
    "    )\n",
    "    #drop calls with missing arrival or departure time\n",
    "    .filter(pl.col('time_arrival').is_not_null() & \n",
    "            pl.col('time_departure').is_not_null())\n",
    "    #drop calls with missing port entry or exit time\n",
    "    .filter(pl.col('time_port_entry').is_not_null() & \n",
    "            pl.col('time_port_exit').is_not_null())\n",
    "    #compute additional stats\n",
    "    .with_columns(\n",
    "        #time from port entry to docking in hrs\n",
    "        hrs_to_dock = (\n",
    "            (pl.col('time_arrival') - pl.col('time_port_entry'))\n",
    "            .dt.total_minutes()/60\n",
    "        ),\n",
    "        #time in port waters after leaving dock\n",
    "        hrs_in_port_after_dock = (\n",
    "            (pl.col('time_port_exit') - pl.col('time_departure'))\n",
    "            .dt.total_minutes()/60\n",
    "        ),\n",
    "        #total time in port waters in hrs\n",
    "        hrs_in_port_waters =(\n",
    "            (pl.col('time_port_exit') - pl.col('time_port_entry'))\n",
    "            .dt.total_minutes()/60\n",
    "        )\n",
    "    )\n",
    "    #collect\n",
    "    .collect()\n",
    ")\n",
    "\n",
    "#inspect\n",
    "display(calls_df.describe())\n",
    "calls_df.head(5)\n"
   ]
  },
  {
   "cell_type": "markdown",
   "metadata": {},
   "source": [
    "### Notes on Calls Frame and additional cleaning\n",
    "\n",
    "- hrs_in_port_after_dock can be 0 when a vessel docks in overlapping port waters and visits both ports. 4692 (3.2%) of port calls have hrs_in_port_after_dock == 0. \n",
    "- hrs_to_dock == 0 implies that the first time the vessel sent an AIS message while in port waters was while at dock. This would be expected with new vessels that send their first messages from a dock, and accounts for ~1.6% (2234) of port calls. \n",
    "    - Of these, ~17% (336) were docked in overlapping port waters prior to visiting the next dock. This would result in hrs_in_port_waters == hrs_at_berth. \n",
    "- The mean and quartile statistics for the port calls seems reasonable; however, some calls have very long (6+ years in some cases) hrs_at_berth and related stats. This would result from vessel AIS transponders going offline at some stage during their visit to port waters. Rectifying this issue will be done either in the AIS ingestion or geodata_prep stages at a later date. For now we simply drop these as outliers. \n",
    "- Null status_duration values exist in ~3k of 1.3M status changes in the main_df; this is expected whenever an AIS transciever goes offline while in port waters. \n",
    "    - There are no observations of entirely-null duration values for mooring statuses, which limits the potential impacts of this issue on the stats.\n",
    "    - Null status_duration would cause undervalued time data (e.g., time_port_exit == the timestamp of the last status change + the status duration); however, dropping calls with null status_durations has no measurable impact on the statistics, so they are left in the data for now. "
   ]
  },
  {
   "cell_type": "code",
   "execution_count": 4,
   "metadata": {},
   "outputs": [],
   "source": [
    "#define outlier drop\n",
    "def drop_outliers(df, cols, threshold=3):\n",
    "    '''\n",
    "    Drops outliers from the dataframe for the specified columns.\n",
    "    Args:\n",
    "        df: Polars DataFrame\n",
    "        cols: List of columns to drop outliers from\n",
    "        threshold: Z-score threshold for outlier detection\n",
    "    Returns:\n",
    "        Polars DataFrame with outliers dropped\n",
    "    '''\n",
    "    print(f'Outlier threshold: {threshold} Std Devs')\n",
    "    for col in cols:\n",
    "        #compute z scores\n",
    "        df = df.with_columns(\n",
    "            z_score = (pl.col(col) - pl.col(col).mean()) / pl.col(col).std()\n",
    "        )\n",
    "        #drop outliers\n",
    "        df = df.filter(pl.col('z_score').abs() < threshold)\n",
    "    return df.drop('z_score')"
   ]
  },
  {
   "cell_type": "code",
   "execution_count": 5,
   "metadata": {},
   "outputs": [
    {
     "name": "stdout",
     "output_type": "stream",
     "text": [
      "hrs_at_berth outlier threshold: 56.7 days\n",
      "hrs_to_dock outlier threshold: 103.4 days\n",
      "hrs_at_anchor outlier threshold: 11.4 days\n",
      "hrs_in_port_after_dock outlier threshold: 156.5 days\n",
      "hrs_in_port_waters outlier threshold: 302.2 days\n",
      "Outlier threshold: 3 Std Devs\n",
      "Total outlier rows dropped: 2680 of 155019\n"
     ]
    },
    {
     "data": {
      "text/html": [
       "<div><style>\n",
       ".dataframe > thead > tr,\n",
       ".dataframe > tbody > tr {\n",
       "  text-align: right;\n",
       "  white-space: pre-wrap;\n",
       "}\n",
       "</style>\n",
       "<small>shape: (9, 21)</small><table border=\"1\" class=\"dataframe\"><thead><tr><th>statistic</th><th>call_id</th><th>port_name</th><th>port_lat</th><th>port_lon</th><th>dock_name</th><th>dock_id</th><th>facility_type</th><th>dock_lat</th><th>dock_lon</th><th>imo</th><th>vessel_size</th><th>time_port_entry</th><th>time_arrival</th><th>time_departure</th><th>time_port_exit</th><th>hrs_at_berth</th><th>hrs_at_anchor</th><th>hrs_to_dock</th><th>hrs_in_port_after_dock</th><th>hrs_in_port_waters</th></tr><tr><td>str</td><td>str</td><td>str</td><td>f64</td><td>f64</td><td>str</td><td>str</td><td>str</td><td>f64</td><td>f64</td><td>f64</td><td>f64</td><td>str</td><td>str</td><td>str</td><td>str</td><td>f64</td><td>f64</td><td>f64</td><td>f64</td><td>f64</td></tr></thead><tbody><tr><td>&quot;count&quot;</td><td>&quot;152339&quot;</td><td>&quot;152339&quot;</td><td>152339.0</td><td>152339.0</td><td>&quot;152339&quot;</td><td>&quot;152339&quot;</td><td>&quot;151966&quot;</td><td>152339.0</td><td>152339.0</td><td>152339.0</td><td>152339.0</td><td>&quot;152339&quot;</td><td>&quot;152339&quot;</td><td>&quot;152339&quot;</td><td>&quot;152339&quot;</td><td>152339.0</td><td>152339.0</td><td>152339.0</td><td>152339.0</td><td>152339.0</td></tr><tr><td>&quot;null_count&quot;</td><td>&quot;0&quot;</td><td>&quot;0&quot;</td><td>0.0</td><td>0.0</td><td>&quot;0&quot;</td><td>&quot;0&quot;</td><td>&quot;373&quot;</td><td>0.0</td><td>0.0</td><td>0.0</td><td>0.0</td><td>&quot;0&quot;</td><td>&quot;0&quot;</td><td>&quot;0&quot;</td><td>&quot;0&quot;</td><td>0.0</td><td>0.0</td><td>0.0</td><td>0.0</td><td>0.0</td></tr><tr><td>&quot;mean&quot;</td><td>null</td><td>null</td><td>32.314243</td><td>-94.595966</td><td>null</td><td>null</td><td>null</td><td>32.314355</td><td>-94.594993</td><td>1.0138e7</td><td>207.282114</td><td>&quot;2021-07-25 12:09:45.520457&quot;</td><td>&quot;2021-07-25 23:42:49.418494&quot;</td><td>&quot;2021-07-28 04:42:50.440307&quot;</td><td>&quot;2021-07-28 09:58:48.028312&quot;</td><td>47.902378</td><td>8.398775</td><td>11.543167</td><td>5.258262</td><td>69.809185</td></tr><tr><td>&quot;std&quot;</td><td>null</td><td>null</td><td>6.905596</td><td>20.709946</td><td>null</td><td>null</td><td>null</td><td>6.905846</td><td>20.710309</td><td>2.6423e7</td><td>58.862874</td><td>null</td><td>null</td><td>null</td><td>null</td><td>62.483046</td><td>28.999441</td><td>35.440416</td><td>41.451654</td><td>96.098973</td></tr><tr><td>&quot;min&quot;</td><td>&quot;0_Corpus Christi, TX_2020-04-0…</td><td>&quot;Albany Port District, NY&quot;</td><td>17.938939</td><td>-166.549916</td><td>&quot;ADM Corpus Christi Grain Eleva…</td><td>&quot;00XE&quot;</td><td>&quot;Anchorage&quot;</td><td>17.936081</td><td>-166.53444</td><td>0.0</td><td>101.0</td><td>&quot;2018-01-01 00:35:19&quot;</td><td>&quot;2018-01-01 00:35:19&quot;</td><td>&quot;2018-01-01 04:23:54&quot;</td><td>&quot;2018-01-01 09:15:57&quot;</td><td>0.083333</td><td>0.0</td><td>0.0</td><td>0.0</td><td>0.133333</td></tr><tr><td>&quot;25%&quot;</td><td>null</td><td>null</td><td>28.629389</td><td>-118.2095</td><td>null</td><td>null</td><td>null</td><td>28.645767</td><td>-118.21083</td><td>9.298636e6</td><td>176.0</td><td>&quot;2019-09-23 05:36:19&quot;</td><td>&quot;2019-09-23 14:53:58&quot;</td><td>&quot;2019-09-25 11:07:36&quot;</td><td>&quot;2019-09-25 15:04:34&quot;</td><td>16.616667</td><td>0.0</td><td>2.666667</td><td>2.15</td><td>25.866667</td></tr><tr><td>&quot;50%&quot;</td><td>null</td><td>null</td><td>30.69123</td><td>-90.085256</td><td>null</td><td>null</td><td>null</td><td>30.706768</td><td>-90.112537</td><td>9.403451e6</td><td>190.0</td><td>&quot;2021-09-06 01:03:18&quot;</td><td>&quot;2021-09-06 20:50:23&quot;</td><td>&quot;2021-09-09 01:06:40&quot;</td><td>&quot;2021-09-09 05:20:12&quot;</td><td>31.116667</td><td>0.0</td><td>3.516667</td><td>2.783333</td><td>43.933333</td></tr><tr><td>&quot;75%&quot;</td><td>null</td><td>null</td><td>36.86642</td><td>-80.05267</td><td>null</td><td>null</td><td>null</td><td>36.875896</td><td>-80.053495</td><td>9.619426e6</td><td>230.0</td><td>&quot;2023-05-07 10:13:53&quot;</td><td>&quot;2023-05-07 22:10:37&quot;</td><td>&quot;2023-05-10 09:57:31&quot;</td><td>&quot;2023-05-10 13:19:05&quot;</td><td>57.183333</td><td>0.0</td><td>5.383333</td><td>3.533333</td><td>80.966667</td></tr><tr><td>&quot;max&quot;</td><td>&quot;9993808_Honolulu, O&#x27;ahu, HI_20…</td><td>&quot;Wilmington, NC&quot;</td><td>61.23778</td><td>-66.096678</td><td>&quot;YUSEN TERMINALS BERTHS 212-221&quot;</td><td>&quot;1JHK&quot;</td><td>&quot;Tie Off&quot;</td><td>61.24306</td><td>-66.086926</td><td>9.800025e8</td><td>667.0</td><td>&quot;2024-12-31 18:55:48&quot;</td><td>&quot;2024-12-31 22:30:59&quot;</td><td>&quot;2024-12-31 23:37:00&quot;</td><td>&quot;2024-12-31 23:37:00&quot;</td><td>1398.416667</td><td>244.45</td><td>2152.533333</td><td>3653.166667</td><td>4453.8</td></tr></tbody></table></div>"
      ],
      "text/plain": [
       "shape: (9, 21)\n",
       "┌───────────┬───────────┬───────────┬───────────┬───┬───────────┬───────────┬───────────┬──────────┐\n",
       "│ statistic ┆ call_id   ┆ port_name ┆ port_lat  ┆ … ┆ hrs_at_an ┆ hrs_to_do ┆ hrs_in_po ┆ hrs_in_p │\n",
       "│ ---       ┆ ---       ┆ ---       ┆ ---       ┆   ┆ chor      ┆ ck        ┆ rt_after_ ┆ ort_wate │\n",
       "│ str       ┆ str       ┆ str       ┆ f64       ┆   ┆ ---       ┆ ---       ┆ dock      ┆ rs       │\n",
       "│           ┆           ┆           ┆           ┆   ┆ f64       ┆ f64       ┆ ---       ┆ ---      │\n",
       "│           ┆           ┆           ┆           ┆   ┆           ┆           ┆ f64       ┆ f64      │\n",
       "╞═══════════╪═══════════╪═══════════╪═══════════╪═══╪═══════════╪═══════════╪═══════════╪══════════╡\n",
       "│ count     ┆ 152339    ┆ 152339    ┆ 152339.0  ┆ … ┆ 152339.0  ┆ 152339.0  ┆ 152339.0  ┆ 152339.0 │\n",
       "│ null_coun ┆ 0         ┆ 0         ┆ 0.0       ┆ … ┆ 0.0       ┆ 0.0       ┆ 0.0       ┆ 0.0      │\n",
       "│ t         ┆           ┆           ┆           ┆   ┆           ┆           ┆           ┆          │\n",
       "│ mean      ┆ null      ┆ null      ┆ 32.314243 ┆ … ┆ 8.398775  ┆ 11.543167 ┆ 5.258262  ┆ 69.80918 │\n",
       "│           ┆           ┆           ┆           ┆   ┆           ┆           ┆           ┆ 5        │\n",
       "│ std       ┆ null      ┆ null      ┆ 6.905596  ┆ … ┆ 28.999441 ┆ 35.440416 ┆ 41.451654 ┆ 96.09897 │\n",
       "│           ┆           ┆           ┆           ┆   ┆           ┆           ┆           ┆ 3        │\n",
       "│ min       ┆ 0_Corpus  ┆ Albany    ┆ 17.938939 ┆ … ┆ 0.0       ┆ 0.0       ┆ 0.0       ┆ 0.133333 │\n",
       "│           ┆ Christi,  ┆ Port      ┆           ┆   ┆           ┆           ┆           ┆          │\n",
       "│           ┆ TX_2020-0 ┆ District, ┆           ┆   ┆           ┆           ┆           ┆          │\n",
       "│           ┆ 4-0…      ┆ NY        ┆           ┆   ┆           ┆           ┆           ┆          │\n",
       "│ 25%       ┆ null      ┆ null      ┆ 28.629389 ┆ … ┆ 0.0       ┆ 2.666667  ┆ 2.15      ┆ 25.86666 │\n",
       "│           ┆           ┆           ┆           ┆   ┆           ┆           ┆           ┆ 7        │\n",
       "│ 50%       ┆ null      ┆ null      ┆ 30.69123  ┆ … ┆ 0.0       ┆ 3.516667  ┆ 2.783333  ┆ 43.93333 │\n",
       "│           ┆           ┆           ┆           ┆   ┆           ┆           ┆           ┆ 3        │\n",
       "│ 75%       ┆ null      ┆ null      ┆ 36.86642  ┆ … ┆ 0.0       ┆ 5.383333  ┆ 3.533333  ┆ 80.96666 │\n",
       "│           ┆           ┆           ┆           ┆   ┆           ┆           ┆           ┆ 7        │\n",
       "│ max       ┆ 9993808_H ┆ Wilmingto ┆ 61.23778  ┆ … ┆ 244.45    ┆ 2152.5333 ┆ 3653.1666 ┆ 4453.8   │\n",
       "│           ┆ onolulu,  ┆ n, NC     ┆           ┆   ┆           ┆ 33        ┆ 67        ┆          │\n",
       "│           ┆ O'ahu,    ┆           ┆           ┆   ┆           ┆           ┆           ┆          │\n",
       "│           ┆ HI_20…    ┆           ┆           ┆   ┆           ┆           ┆           ┆          │\n",
       "└───────────┴───────────┴───────────┴───────────┴───┴───────────┴───────────┴───────────┴──────────┘"
      ]
     },
     "metadata": {},
     "output_type": "display_data"
    },
    {
     "data": {
      "text/html": [
       "<div><style>\n",
       ".dataframe > thead > tr,\n",
       ".dataframe > tbody > tr {\n",
       "  text-align: right;\n",
       "  white-space: pre-wrap;\n",
       "}\n",
       "</style>\n",
       "<small>shape: (5, 20)</small><table border=\"1\" class=\"dataframe\"><thead><tr><th>call_id</th><th>port_name</th><th>port_lat</th><th>port_lon</th><th>dock_name</th><th>dock_id</th><th>facility_type</th><th>dock_lat</th><th>dock_lon</th><th>imo</th><th>vessel_size</th><th>time_port_entry</th><th>time_arrival</th><th>time_departure</th><th>time_port_exit</th><th>hrs_at_berth</th><th>hrs_at_anchor</th><th>hrs_to_dock</th><th>hrs_in_port_after_dock</th><th>hrs_in_port_waters</th></tr><tr><td>str</td><td>str</td><td>f64</td><td>f64</td><td>str</td><td>str</td><td>str</td><td>f64</td><td>f64</td><td>i64</td><td>f64</td><td>datetime[μs]</td><td>datetime[μs]</td><td>datetime[μs]</td><td>datetime[μs]</td><td>f64</td><td>f64</td><td>f64</td><td>f64</td><td>f64</td></tr></thead><tbody><tr><td>&quot;9355240_Oxnard Harbor District…</td><td>&quot;Oxnard Harbor District, CA&quot;</td><td>34.148244</td><td>-119.208475</td><td>&quot;OXNARD HARBOR DISTRICT WHARF N…</td><td>&quot;0UUC&quot;</td><td>&quot;Dock&quot;</td><td>34.1475</td><td>-119.20583</td><td>9355240</td><td>199.0</td><td>2021-05-26 20:15:39</td><td>2021-05-27 13:19:48</td><td>2021-05-27 23:24:09</td><td>2021-05-28 03:49:08</td><td>10.066667</td><td>11.483333</td><td>17.066667</td><td>4.4</td><td>31.55</td></tr><tr><td>&quot;9347839_Port of Charleston, SC…</td><td>&quot;Port of Charleston, SC&quot;</td><td>32.788781</td><td>-79.921595</td><td>&quot;STATE PIER 8, COLUMBUS STREET …</td><td>&quot;0XD3&quot;</td><td>&quot;Dock&quot;</td><td>32.798889</td><td>-79.928889</td><td>9347839</td><td>119.0</td><td>2022-06-27 09:00:13</td><td>2022-06-27 23:36:35</td><td>2022-06-28 00:54:49</td><td>2022-06-28 03:11:16</td><td>1.3</td><td>0.0</td><td>14.6</td><td>2.266667</td><td>18.183333</td></tr><tr><td>&quot;9640061_Houston Port Authority…</td><td>&quot;Houston Port Authority, TX&quot;</td><td>29.747023</td><td>-95.293679</td><td>&quot;PORT OF HOUSTON, TURNING BASIN…</td><td>&quot;0VZV&quot;</td><td>&quot;Dock&quot;</td><td>29.726873</td><td>-95.264865</td><td>9640061</td><td>179.0</td><td>2020-07-07 13:46:05</td><td>2020-07-07 17:20:00</td><td>2020-07-08 23:23:00</td><td>2020-07-09 01:57:26</td><td>23.833333</td><td>0.0</td><td>3.55</td><td>2.566667</td><td>36.183333</td></tr><tr><td>&quot;9113721_Port Everglades, FL_20…</td><td>&quot;Port Everglades, FL&quot;</td><td>26.093392</td><td>-80.117801</td><td>&quot;PORT EVERGLADES BERTHS 14 &amp; 15&quot;</td><td>&quot;0YXV&quot;</td><td>&quot;Dock&quot;</td><td>26.090278</td><td>-80.122222</td><td>9113721</td><td>101.0</td><td>2023-11-09 08:19:44</td><td>2023-11-09 12:15:55</td><td>2023-11-09 20:27:57</td><td>2023-11-09 22:57:42</td><td>8.2</td><td>0.0</td><td>3.933333</td><td>2.483333</td><td>14.616667</td></tr><tr><td>&quot;9343716_New York, NY &amp; NJ_2019…</td><td>&quot;New York, NY &amp; NJ&quot;</td><td>40.673949</td><td>-74.038357</td><td>&quot;GLOBAL TERMINAL WHARF&quot;</td><td>&quot;0XUD&quot;</td><td>&quot;Dock&quot;</td><td>40.672441</td><td>-74.082249</td><td>9343716</td><td>336.0</td><td>2019-01-15 19:10:37</td><td>2019-01-15 23:02:03</td><td>2019-01-18 05:05:25</td><td>2019-01-18 08:31:13</td><td>54.05</td><td>0.0</td><td>3.85</td><td>3.416667</td><td>61.333333</td></tr></tbody></table></div>"
      ],
      "text/plain": [
       "shape: (5, 20)\n",
       "┌───────────┬───────────┬───────────┬───────────┬───┬───────────┬───────────┬───────────┬──────────┐\n",
       "│ call_id   ┆ port_name ┆ port_lat  ┆ port_lon  ┆ … ┆ hrs_at_an ┆ hrs_to_do ┆ hrs_in_po ┆ hrs_in_p │\n",
       "│ ---       ┆ ---       ┆ ---       ┆ ---       ┆   ┆ chor      ┆ ck        ┆ rt_after_ ┆ ort_wate │\n",
       "│ str       ┆ str       ┆ f64       ┆ f64       ┆   ┆ ---       ┆ ---       ┆ dock      ┆ rs       │\n",
       "│           ┆           ┆           ┆           ┆   ┆ f64       ┆ f64       ┆ ---       ┆ ---      │\n",
       "│           ┆           ┆           ┆           ┆   ┆           ┆           ┆ f64       ┆ f64      │\n",
       "╞═══════════╪═══════════╪═══════════╪═══════════╪═══╪═══════════╪═══════════╪═══════════╪══════════╡\n",
       "│ 9355240_O ┆ Oxnard    ┆ 34.148244 ┆ -119.2084 ┆ … ┆ 11.483333 ┆ 17.066667 ┆ 4.4       ┆ 31.55    │\n",
       "│ xnard     ┆ Harbor    ┆           ┆ 75        ┆   ┆           ┆           ┆           ┆          │\n",
       "│ Harbor    ┆ District, ┆           ┆           ┆   ┆           ┆           ┆           ┆          │\n",
       "│ District… ┆ CA        ┆           ┆           ┆   ┆           ┆           ┆           ┆          │\n",
       "│ 9347839_P ┆ Port of   ┆ 32.788781 ┆ -79.92159 ┆ … ┆ 0.0       ┆ 14.6      ┆ 2.266667  ┆ 18.18333 │\n",
       "│ ort of    ┆ Charlesto ┆           ┆ 5         ┆   ┆           ┆           ┆           ┆ 3        │\n",
       "│ Charlesto ┆ n, SC     ┆           ┆           ┆   ┆           ┆           ┆           ┆          │\n",
       "│ n, SC…    ┆           ┆           ┆           ┆   ┆           ┆           ┆           ┆          │\n",
       "│ 9640061_H ┆ Houston   ┆ 29.747023 ┆ -95.29367 ┆ … ┆ 0.0       ┆ 3.55      ┆ 2.566667  ┆ 36.18333 │\n",
       "│ ouston    ┆ Port Auth ┆           ┆ 9         ┆   ┆           ┆           ┆           ┆ 3        │\n",
       "│ Port Auth ┆ ority, TX ┆           ┆           ┆   ┆           ┆           ┆           ┆          │\n",
       "│ ority…    ┆           ┆           ┆           ┆   ┆           ┆           ┆           ┆          │\n",
       "│ 9113721_P ┆ Port Ever ┆ 26.093392 ┆ -80.11780 ┆ … ┆ 0.0       ┆ 3.933333  ┆ 2.483333  ┆ 14.61666 │\n",
       "│ ort Everg ┆ glades,   ┆           ┆ 1         ┆   ┆           ┆           ┆           ┆ 7        │\n",
       "│ lades,    ┆ FL        ┆           ┆           ┆   ┆           ┆           ┆           ┆          │\n",
       "│ FL_20…    ┆           ┆           ┆           ┆   ┆           ┆           ┆           ┆          │\n",
       "│ 9343716_N ┆ New York, ┆ 40.673949 ┆ -74.03835 ┆ … ┆ 0.0       ┆ 3.85      ┆ 3.416667  ┆ 61.33333 │\n",
       "│ ew York,  ┆ NY & NJ   ┆           ┆ 7         ┆   ┆           ┆           ┆           ┆ 3        │\n",
       "│ NY &      ┆           ┆           ┆           ┆   ┆           ┆           ┆           ┆          │\n",
       "│ NJ_2019…  ┆           ┆           ┆           ┆   ┆           ┆           ┆           ┆          │\n",
       "└───────────┴───────────┴───────────┴───────────┴───┴───────────┴───────────┴───────────┴──────────┘"
      ]
     },
     "execution_count": 5,
     "metadata": {},
     "output_type": "execute_result"
    }
   ],
   "source": [
    "#get count of rows from calls_df before drop\n",
    "rows_prior = calls_df.shape[0]\n",
    "\n",
    "#list cols for outlier drop\n",
    "outlier_cols = ['hrs_at_berth', 'hrs_to_dock', 'hrs_at_anchor', \n",
    "                'hrs_in_port_after_dock', 'hrs_in_port_waters']\n",
    "\n",
    "#drop outliers\n",
    "#print z_score thresholds\n",
    "for col in outlier_cols:\n",
    "    print(f'{col} outlier threshold: {calls_df[col].std()*3/24:.1f} days')\n",
    "#drop outliers\n",
    "calls_df = drop_outliers(calls_df, outlier_cols, threshold=3)\n",
    "#print rows dropped\n",
    "print(f'Total outlier rows dropped: {rows_prior - calls_df.shape[0]} of {rows_prior}')\n",
    "\n",
    "#inspect\n",
    "display(calls_df.describe())\n",
    "calls_df.head()"
   ]
  },
  {
   "cell_type": "code",
   "execution_count": 6,
   "metadata": {},
   "outputs": [],
   "source": [
    "#save calls dataframe to parquet\n",
    "calls_df.write_parquet('dashboard/calls.parquet')"
   ]
  },
  {
   "cell_type": "markdown",
   "metadata": {},
   "source": [
    "## Simple delay calculations\n",
    "\n",
    "Differentiating between delay time and the \"efficient\" time it takes for a ship to get to a dock is somewhat difficult. \n",
    "\n",
    "At its most basic, we can calculate the difference between the hrs_to_dock time for each port call and the minimum hrs_to_dock for that vessel and dock. "
   ]
  },
  {
   "cell_type": "code",
   "execution_count": 7,
   "metadata": {},
   "outputs": [],
   "source": [
    "## these stats tabled for now\n",
    "\n",
    "#add min hrs to dock for each vessel-dock pair\n",
    "delay_df = (\n",
    "    calls_df\n",
    "    #min hrs to dock for each vessel-dock pair\n",
    "    .with_columns(\n",
    "        min_hrs_to_dock = pl.col('hrs_to_dock').min().over('imo', 'dock_id')\n",
    "    )\n",
    "    #\"delay\" in hrs\n",
    "    .with_columns(\n",
    "        hrs_delay = pl.col('hrs_to_dock') - pl.col('min_hrs_to_dock')\n",
    "    )\n",
    "    #drop unnecessary columns\n",
    "    .drop('min_hrs_to_dock')\n",
    ")"
   ]
  },
  {
   "cell_type": "markdown",
   "metadata": {},
   "source": [
    "64k of 145k port calls align show zero delay indicating those calls represent the only time that that vessel visited that dock. "
   ]
  },
  {
   "cell_type": "markdown",
   "metadata": {},
   "source": [
    "### Time Awaiting Berth\n",
    "\n",
    "We define time awaiting berth as the total time it takes a vessel to get to the dock minus the amount of time the dock was occupied while that vessel was en route. \n",
    "\n",
    "Generating this statistic is tabled for now. "
   ]
  },
  {
   "cell_type": "code",
   "execution_count": 8,
   "metadata": {},
   "outputs": [
    {
     "name": "stdout",
     "output_type": "stream",
     "text": [
      "skipping\n"
     ]
    }
   ],
   "source": [
    "%%script echo skipping\n",
    "#calculate time awaiting berth\n",
    "\n",
    "#for each call_id and dock, get the total time dock was occupied between time_port_entry and time_arrival\n",
    "\n",
    "#get time_port_entry, time_arrival for each call id\n",
    "lf = (calls_df.select('call_id', 'time_port_entry', 'time_arrival')\n",
    "      .unique().lazy())\n",
    "#join to main lf\n",
    "main_lf = main_lf.join(lf, on='call_id', how='left')\n",
    "\n",
    "for call in calls_df.select('call_id').unique().to_series():\n",
    "      #get start time and end time\n",
    "      start = (calls_df.filter(pl.col('call_id')==call)\n",
    "               .select('time_port_entry').item())\n",
    "      end = (calls_df.filter(pl.col('call_id')==call)\n",
    "               .select('time_arrival').item())\n",
    "      #get dock occupancy\n",
    "      df = (\n",
    "            main_lf\n",
    "            .with_columns(\n",
    "                  dock_occupied = (\n",
    "                        (pl.col('status')==5)\n",
    "                        .then(pl.col('status_duration'))\n",
    "                        .otherwise(pl.lit(None))\n",
    "                  )\n",
    "            )\n",
    "      )\n"
   ]
  },
  {
   "cell_type": "code",
   "execution_count": 9,
   "metadata": {},
   "outputs": [],
   "source": [
    "#create monthly stats dataframe\n",
    "monthly_df = (\n",
    "    calls_df\n",
    "    #get month from docking time\n",
    "    .with_columns(\n",
    "        #extract month from docking time\n",
    "        month = pl.col('time_arrival').dt.strftime('%Y%m')\n",
    "    )\n",
    "    #group by port dock and month\n",
    "    .group_by(['port_name', 'port_lat', 'port_lon', \n",
    "               'dock_id', 'dock_name', 'dock_lat', 'dock_lon', \n",
    "               'month'])\n",
    "    .agg(\n",
    "        #count number of vessels\n",
    "        vessels = pl.n_unique('imo'),\n",
    "        #mean vessel size\n",
    "        vessel_size_mean = pl.mean('vessel_size'),\n",
    "        #count number of vessel calls\n",
    "        calls = pl.n_unique('call_id'),\n",
    "        #time at dock stats for each vessel in hours\n",
    "        hrs_occupied = pl.sum('hrs_at_berth'),\n",
    "        hrs_at_berth_median = pl.median('hrs_at_berth'),\n",
    "        hrs_at_berth_mean = pl.mean('hrs_at_berth'),\n",
    "        #time at anchor stats for each vessel visit in hours\n",
    "        hrs_at_anchor_median = pl.median('hrs_at_anchor'),\n",
    "        hrs_at_anchor_mean = pl.mean('hrs_at_anchor'),\n",
    "        #time in port waters \n",
    "        hrs_in_port_waters_total = pl.sum('hrs_in_port_waters'),\n",
    "        hrs_in_port_waters_mean = pl.mean('hrs_in_port_waters'),\n",
    "        hrs_in_port_waters_median = pl.median('hrs_in_port_waters')\n",
    "    )\n",
    "    #get hours from each month\n",
    "    .with_columns(\n",
    "        hrs_in_month = (\n",
    "            pl.when(pl.col('month').str.tail(2).is_in(['01', '03', '05', '07',\n",
    "                                                       '08', '10', '12']))\n",
    "            .then(31*24)\n",
    "            .when(pl.col('month').str.tail(2).is_in(['04', '06', '09', '11']))\n",
    "            .then(30*24)\n",
    "            .otherwise(28*24)\n",
    "        )\n",
    "    )\n",
    "    .with_columns(\n",
    "        #dock utilization - percentage of time a dock is occupied\n",
    "        utilization = (\n",
    "            pl.col('hrs_occupied')/pl.col('hrs_in_month')\n",
    "        )\n",
    "    )\n",
    "    #drop hours in month\n",
    "    .drop('hrs_in_month')\n",
    "    #sort by port dock then month\n",
    "    .sort(['port_name', 'dock_id', 'month'])\n",
    ")"
   ]
  },
  {
   "cell_type": "code",
   "execution_count": 10,
   "metadata": {},
   "outputs": [
    {
     "data": {
      "text/html": [
       "<div><style>\n",
       ".dataframe > thead > tr,\n",
       ".dataframe > tbody > tr {\n",
       "  text-align: right;\n",
       "  white-space: pre-wrap;\n",
       "}\n",
       "</style>\n",
       "<small>shape: (9, 21)</small><table border=\"1\" class=\"dataframe\"><thead><tr><th>statistic</th><th>port_name</th><th>port_lat</th><th>port_lon</th><th>dock_id</th><th>dock_name</th><th>dock_lat</th><th>dock_lon</th><th>month</th><th>vessels</th><th>vessel_size_mean</th><th>calls</th><th>hrs_occupied</th><th>hrs_at_berth_median</th><th>hrs_at_berth_mean</th><th>hrs_at_anchor_median</th><th>hrs_at_anchor_mean</th><th>hrs_in_port_waters_total</th><th>hrs_in_port_waters_mean</th><th>hrs_in_port_waters_median</th><th>utilization</th></tr><tr><td>str</td><td>str</td><td>f64</td><td>f64</td><td>str</td><td>str</td><td>f64</td><td>f64</td><td>str</td><td>f64</td><td>f64</td><td>f64</td><td>f64</td><td>f64</td><td>f64</td><td>f64</td><td>f64</td><td>f64</td><td>f64</td><td>f64</td><td>f64</td></tr></thead><tbody><tr><td>&quot;count&quot;</td><td>&quot;35746&quot;</td><td>35746.0</td><td>35746.0</td><td>&quot;35746&quot;</td><td>&quot;35746&quot;</td><td>35746.0</td><td>35746.0</td><td>&quot;35746&quot;</td><td>35746.0</td><td>35746.0</td><td>35746.0</td><td>35746.0</td><td>35746.0</td><td>35746.0</td><td>35746.0</td><td>35746.0</td><td>35746.0</td><td>35746.0</td><td>35746.0</td><td>35746.0</td></tr><tr><td>&quot;null_count&quot;</td><td>&quot;0&quot;</td><td>0.0</td><td>0.0</td><td>&quot;0&quot;</td><td>&quot;0&quot;</td><td>0.0</td><td>0.0</td><td>&quot;0&quot;</td><td>0.0</td><td>0.0</td><td>0.0</td><td>0.0</td><td>0.0</td><td>0.0</td><td>0.0</td><td>0.0</td><td>0.0</td><td>0.0</td><td>0.0</td><td>0.0</td></tr><tr><td>&quot;mean&quot;</td><td>null</td><td>32.721944</td><td>-95.49309</td><td>null</td><td>null</td><td>32.723667</td><td>-95.491237</td><td>null</td><td>3.740978</td><td>195.758837</td><td>4.261708</td><td>204.14593</td><td>59.574686</td><td>62.750084</td><td>7.275815</td><td>9.427696</td><td>297.506336</td><td>88.113728</td><td>82.852549</td><td>0.27972</td></tr><tr><td>&quot;std&quot;</td><td>null</td><td>6.877859</td><td>20.876249</td><td>null</td><td>null</td><td>6.877518</td><td>20.876881</td><td>null</td><td>3.723582</td><td>49.218592</td><td>4.413761</td><td>196.632551</td><td>68.648542</td><td>69.109932</td><td>23.690352</td><td>24.539466</td><td>312.643224</td><td>100.579476</td><td>98.980695</td><td>0.269216</td></tr><tr><td>&quot;min&quot;</td><td>&quot;Albany Port District, NY&quot;</td><td>17.938939</td><td>-166.549916</td><td>&quot;00XE&quot;</td><td>&quot;ADM Corpus Christi Grain Eleva…</td><td>17.936081</td><td>-166.53444</td><td>&quot;201801&quot;</td><td>1.0</td><td>101.0</td><td>1.0</td><td>0.083333</td><td>0.083333</td><td>0.083333</td><td>0.0</td><td>0.0</td><td>0.65</td><td>0.65</td><td>0.65</td><td>0.000112</td></tr><tr><td>&quot;25%&quot;</td><td>null</td><td>29.31049</td><td>-118.2095</td><td>null</td><td>null</td><td>29.309167</td><td>-118.21083</td><td>null</td><td>1.0</td><td>168.0</td><td>1.0</td><td>68.15</td><td>22.95</td><td>25.591667</td><td>0.0</td><td>0.0</td><td>97.816667</td><td>37.805556</td><td>34.25</td><td>0.093302</td></tr><tr><td>&quot;50%&quot;</td><td>null</td><td>30.69123</td><td>-91.19934</td><td>null</td><td>null</td><td>30.710833</td><td>-91.199983</td><td>null</td><td>3.0</td><td>184.666667</td><td>3.0</td><td>148.85</td><td>40.808333</td><td>44.1375</td><td>0.0</td><td>0.0</td><td>206.75</td><td>63.670833</td><td>58.083333</td><td>0.203875</td></tr><tr><td>&quot;75%&quot;</td><td>null</td><td>37.82152</td><td>-80.117801</td><td>null</td><td>null</td><td>37.811944</td><td>-80.114722</td><td>null</td><td>5.0</td><td>211.428571</td><td>5.0</td><td>279.7</td><td>72.533333</td><td>76.633333</td><td>0.0</td><td>4.634848</td><td>389.166667</td><td>107.25</td><td>100.866667</td><td>0.383234</td></tr><tr><td>&quot;max&quot;</td><td>&quot;Wilmington, NC&quot;</td><td>61.23778</td><td>-66.096678</td><td>&quot;1JHK&quot;</td><td>&quot;YUSEN TERMINALS BERTHS 212-221&quot;</td><td>61.24306</td><td>-66.086926</td><td>&quot;202412&quot;</td><td>44.0</td><td>385.0</td><td>53.0</td><td>3851.016667</td><td>1312.966667</td><td>1312.966667</td><td>244.3</td><td>244.3</td><td>6076.233333</td><td>3290.8</td><td>3290.8</td><td>5.176098</td></tr></tbody></table></div>"
      ],
      "text/plain": [
       "shape: (9, 21)\n",
       "┌───────────┬───────────┬───────────┬───────────┬───┬───────────┬───────────┬───────────┬──────────┐\n",
       "│ statistic ┆ port_name ┆ port_lat  ┆ port_lon  ┆ … ┆ hrs_in_po ┆ hrs_in_po ┆ hrs_in_po ┆ utilizat │\n",
       "│ ---       ┆ ---       ┆ ---       ┆ ---       ┆   ┆ rt_waters ┆ rt_waters ┆ rt_waters ┆ ion      │\n",
       "│ str       ┆ str       ┆ f64       ┆ f64       ┆   ┆ _total    ┆ _mean     ┆ _median   ┆ ---      │\n",
       "│           ┆           ┆           ┆           ┆   ┆ ---       ┆ ---       ┆ ---       ┆ f64      │\n",
       "│           ┆           ┆           ┆           ┆   ┆ f64       ┆ f64       ┆ f64       ┆          │\n",
       "╞═══════════╪═══════════╪═══════════╪═══════════╪═══╪═══════════╪═══════════╪═══════════╪══════════╡\n",
       "│ count     ┆ 35746     ┆ 35746.0   ┆ 35746.0   ┆ … ┆ 35746.0   ┆ 35746.0   ┆ 35746.0   ┆ 35746.0  │\n",
       "│ null_coun ┆ 0         ┆ 0.0       ┆ 0.0       ┆ … ┆ 0.0       ┆ 0.0       ┆ 0.0       ┆ 0.0      │\n",
       "│ t         ┆           ┆           ┆           ┆   ┆           ┆           ┆           ┆          │\n",
       "│ mean      ┆ null      ┆ 32.721944 ┆ -95.49309 ┆ … ┆ 297.50633 ┆ 88.113728 ┆ 82.852549 ┆ 0.27972  │\n",
       "│           ┆           ┆           ┆           ┆   ┆ 6         ┆           ┆           ┆          │\n",
       "│ std       ┆ null      ┆ 6.877859  ┆ 20.876249 ┆ … ┆ 312.64322 ┆ 100.57947 ┆ 98.980695 ┆ 0.269216 │\n",
       "│           ┆           ┆           ┆           ┆   ┆ 4         ┆ 6         ┆           ┆          │\n",
       "│ min       ┆ Albany    ┆ 17.938939 ┆ -166.5499 ┆ … ┆ 0.65      ┆ 0.65      ┆ 0.65      ┆ 0.000112 │\n",
       "│           ┆ Port      ┆           ┆ 16        ┆   ┆           ┆           ┆           ┆          │\n",
       "│           ┆ District, ┆           ┆           ┆   ┆           ┆           ┆           ┆          │\n",
       "│           ┆ NY        ┆           ┆           ┆   ┆           ┆           ┆           ┆          │\n",
       "│ 25%       ┆ null      ┆ 29.31049  ┆ -118.2095 ┆ … ┆ 97.816667 ┆ 37.805556 ┆ 34.25     ┆ 0.093302 │\n",
       "│ 50%       ┆ null      ┆ 30.69123  ┆ -91.19934 ┆ … ┆ 206.75    ┆ 63.670833 ┆ 58.083333 ┆ 0.203875 │\n",
       "│ 75%       ┆ null      ┆ 37.82152  ┆ -80.11780 ┆ … ┆ 389.16666 ┆ 107.25    ┆ 100.86666 ┆ 0.383234 │\n",
       "│           ┆           ┆           ┆ 1         ┆   ┆ 7         ┆           ┆ 7         ┆          │\n",
       "│ max       ┆ Wilmingto ┆ 61.23778  ┆ -66.09667 ┆ … ┆ 6076.2333 ┆ 3290.8    ┆ 3290.8    ┆ 5.176098 │\n",
       "│           ┆ n, NC     ┆           ┆ 8         ┆   ┆ 33        ┆           ┆           ┆          │\n",
       "└───────────┴───────────┴───────────┴───────────┴───┴───────────┴───────────┴───────────┴──────────┘"
      ]
     },
     "execution_count": 10,
     "metadata": {},
     "output_type": "execute_result"
    }
   ],
   "source": [
    "monthly_df.describe()"
   ]
  },
  {
   "cell_type": "markdown",
   "metadata": {},
   "source": [
    "#### Hours calc discussion\n",
    "\n",
    "The current code first associates the call_id with the month in which the vessel arrived at dock, then counts total times for that call_id to that month. This results in some edge cases where hours stats far exceed the total hours in the month, as in the case that a vessel arrives at the dock and stays there for a very long period of time. \n",
    "\n",
    "This can be partially resolved by dropping statuses that are very long, which needs to be done anyway.\n",
    "- what's the right strategy? set status duration to (the median for that dock? zero? 12hr?) and give an unknown status afterwards? \n",
    "\n",
    "It would be fully resolved by totaling monthly hrs (at dock or hrs utilized, for example) independently of call_id.  "
   ]
  },
  {
   "cell_type": "code",
   "execution_count": 11,
   "metadata": {},
   "outputs": [
    {
     "data": {
      "text/html": [
       "<div><style>\n",
       ".dataframe > thead > tr,\n",
       ".dataframe > tbody > tr {\n",
       "  text-align: right;\n",
       "  white-space: pre-wrap;\n",
       "}\n",
       "</style>\n",
       "<small>shape: (9, 11)</small><table border=\"1\" class=\"dataframe\"><thead><tr><th>statistic</th><th>port_name</th><th>port_lat</th><th>port_lon</th><th>vessels</th><th>vessel_size_mean</th><th>calls</th><th>hrs_at_berth_median</th><th>hrs_at_berth_mean</th><th>hrs_at_anchor_median</th><th>hrs_at_anchor_mean</th></tr><tr><td>str</td><td>str</td><td>f64</td><td>f64</td><td>f64</td><td>f64</td><td>f64</td><td>f64</td><td>f64</td><td>f64</td><td>f64</td></tr></thead><tbody><tr><td>&quot;count&quot;</td><td>&quot;70&quot;</td><td>70.0</td><td>70.0</td><td>70.0</td><td>70.0</td><td>70.0</td><td>70.0</td><td>70.0</td><td>70.0</td><td>70.0</td></tr><tr><td>&quot;null_count&quot;</td><td>&quot;0&quot;</td><td>0.0</td><td>0.0</td><td>0.0</td><td>0.0</td><td>0.0</td><td>0.0</td><td>0.0</td><td>0.0</td><td>0.0</td></tr><tr><td>&quot;mean&quot;</td><td>null</td><td>34.780064</td><td>-98.610501</td><td>713.142857</td><td>196.452262</td><td>2176.271429</td><td>51.854048</td><td>66.047065</td><td>0.791548</td><td>8.117152</td></tr><tr><td>&quot;std&quot;</td><td>null</td><td>9.238289</td><td>26.613336</td><td>723.929981</td><td>36.704321</td><td>2321.500314</td><td>101.84844</td><td>93.386368</td><td>2.854727</td><td>9.545016</td></tr><tr><td>&quot;min&quot;</td><td>&quot;Albany Port District, NY&quot;</td><td>17.938939</td><td>-166.549916</td><td>3.0</td><td>116.649057</td><td>3.0</td><td>8.283333</td><td>10.697699</td><td>0.0</td><td>0.0</td></tr><tr><td>&quot;25%&quot;</td><td>null</td><td>29.31049</td><td>-121.541541</td><td>135.0</td><td>172.516129</td><td>421.0</td><td>22.716667</td><td>34.625976</td><td>0.0</td><td>1.077004</td></tr><tr><td>&quot;50%&quot;</td><td>null</td><td>32.788781</td><td>-90.61794</td><td>554.0</td><td>189.904811</td><td>1278.0</td><td>33.9</td><td>49.357393</td><td>0.0</td><td>4.162376</td></tr><tr><td>&quot;75%&quot;</td><td>null</td><td>41.172</td><td>-76.72421</td><td>981.0</td><td>214.217852</td><td>3476.0</td><td>50.583333</td><td>62.423874</td><td>0.0</td><td>13.501658</td></tr><tr><td>&quot;max&quot;</td><td>&quot;Wilmington, NC&quot;</td><td>61.23778</td><td>-66.096678</td><td>2768.0</td><td>294.860534</td><td>10203.0</td><td>854.516667</td><td>745.248718</td><td>17.5</td><td>43.655026</td></tr></tbody></table></div>"
      ],
      "text/plain": [
       "shape: (9, 11)\n",
       "┌───────────┬───────────┬───────────┬───────────┬───┬───────────┬───────────┬───────────┬──────────┐\n",
       "│ statistic ┆ port_name ┆ port_lat  ┆ port_lon  ┆ … ┆ hrs_at_be ┆ hrs_at_be ┆ hrs_at_an ┆ hrs_at_a │\n",
       "│ ---       ┆ ---       ┆ ---       ┆ ---       ┆   ┆ rth_media ┆ rth_mean  ┆ chor_medi ┆ nchor_me │\n",
       "│ str       ┆ str       ┆ f64       ┆ f64       ┆   ┆ n         ┆ ---       ┆ an        ┆ an       │\n",
       "│           ┆           ┆           ┆           ┆   ┆ ---       ┆ f64       ┆ ---       ┆ ---      │\n",
       "│           ┆           ┆           ┆           ┆   ┆ f64       ┆           ┆ f64       ┆ f64      │\n",
       "╞═══════════╪═══════════╪═══════════╪═══════════╪═══╪═══════════╪═══════════╪═══════════╪══════════╡\n",
       "│ count     ┆ 70        ┆ 70.0      ┆ 70.0      ┆ … ┆ 70.0      ┆ 70.0      ┆ 70.0      ┆ 70.0     │\n",
       "│ null_coun ┆ 0         ┆ 0.0       ┆ 0.0       ┆ … ┆ 0.0       ┆ 0.0       ┆ 0.0       ┆ 0.0      │\n",
       "│ t         ┆           ┆           ┆           ┆   ┆           ┆           ┆           ┆          │\n",
       "│ mean      ┆ null      ┆ 34.780064 ┆ -98.61050 ┆ … ┆ 51.854048 ┆ 66.047065 ┆ 0.791548  ┆ 8.117152 │\n",
       "│           ┆           ┆           ┆ 1         ┆   ┆           ┆           ┆           ┆          │\n",
       "│ std       ┆ null      ┆ 9.238289  ┆ 26.613336 ┆ … ┆ 101.84844 ┆ 93.386368 ┆ 2.854727  ┆ 9.545016 │\n",
       "│ min       ┆ Albany    ┆ 17.938939 ┆ -166.5499 ┆ … ┆ 8.283333  ┆ 10.697699 ┆ 0.0       ┆ 0.0      │\n",
       "│           ┆ Port      ┆           ┆ 16        ┆   ┆           ┆           ┆           ┆          │\n",
       "│           ┆ District, ┆           ┆           ┆   ┆           ┆           ┆           ┆          │\n",
       "│           ┆ NY        ┆           ┆           ┆   ┆           ┆           ┆           ┆          │\n",
       "│ 25%       ┆ null      ┆ 29.31049  ┆ -121.5415 ┆ … ┆ 22.716667 ┆ 34.625976 ┆ 0.0       ┆ 1.077004 │\n",
       "│           ┆           ┆           ┆ 41        ┆   ┆           ┆           ┆           ┆          │\n",
       "│ 50%       ┆ null      ┆ 32.788781 ┆ -90.61794 ┆ … ┆ 33.9      ┆ 49.357393 ┆ 0.0       ┆ 4.162376 │\n",
       "│ 75%       ┆ null      ┆ 41.172    ┆ -76.72421 ┆ … ┆ 50.583333 ┆ 62.423874 ┆ 0.0       ┆ 13.50165 │\n",
       "│           ┆           ┆           ┆           ┆   ┆           ┆           ┆           ┆ 8        │\n",
       "│ max       ┆ Wilmingto ┆ 61.23778  ┆ -66.09667 ┆ … ┆ 854.51666 ┆ 745.24871 ┆ 17.5      ┆ 43.65502 │\n",
       "│           ┆ n, NC     ┆           ┆ 8         ┆   ┆ 7         ┆ 8         ┆           ┆ 6        │\n",
       "└───────────┴───────────┴───────────┴───────────┴───┴───────────┴───────────┴───────────┴──────────┘"
      ]
     },
     "metadata": {},
     "output_type": "display_data"
    },
    {
     "data": {
      "text/html": [
       "<div><style>\n",
       ".dataframe > thead > tr,\n",
       ".dataframe > tbody > tr {\n",
       "  text-align: right;\n",
       "  white-space: pre-wrap;\n",
       "}\n",
       "</style>\n",
       "<small>shape: (5, 10)</small><table border=\"1\" class=\"dataframe\"><thead><tr><th>port_name</th><th>port_lat</th><th>port_lon</th><th>vessels</th><th>vessel_size_mean</th><th>calls</th><th>hrs_at_berth_median</th><th>hrs_at_berth_mean</th><th>hrs_at_anchor_median</th><th>hrs_at_anchor_mean</th></tr><tr><td>str</td><td>f64</td><td>f64</td><td>u32</td><td>f64</td><td>u32</td><td>f64</td><td>f64</td><td>f64</td><td>f64</td></tr></thead><tbody><tr><td>&quot;Albany Port District, NY&quot;</td><td>42.64271</td><td>-73.74816</td><td>269</td><td>157.955614</td><td>383</td><td>65.8</td><td>81.078024</td><td>0.0</td><td>0.240992</td></tr><tr><td>&quot;Anacortes, WA&quot;</td><td>48.495943</td><td>-122.59961</td><td>284</td><td>218.627907</td><td>1161</td><td>36.933333</td><td>49.357393</td><td>0.0</td><td>25.017069</td></tr><tr><td>&quot;Baltimore, MD&quot;</td><td>39.250827</td><td>-76.56164</td><td>2594</td><td>213.463707</td><td>7770</td><td>34.366667</td><td>47.896729</td><td>0.0</td><td>13.069196</td></tr><tr><td>&quot;Beaumont, TX&quot;</td><td>30.084872</td><td>-94.094985</td><td>1036</td><td>183.200397</td><td>2016</td><td>54.0</td><td>66.975174</td><td>0.0</td><td>3.611938</td></tr><tr><td>&quot;Boston, MA&quot;</td><td>42.342468</td><td>-71.032029</td><td>326</td><td>294.860534</td><td>1011</td><td>17.766667</td><td>28.00061</td><td>0.0</td><td>2.473656</td></tr></tbody></table></div>"
      ],
      "text/plain": [
       "shape: (5, 10)\n",
       "┌────────────┬───────────┬───────────┬─────────┬───┬───────────┬───────────┬───────────┬───────────┐\n",
       "│ port_name  ┆ port_lat  ┆ port_lon  ┆ vessels ┆ … ┆ hrs_at_be ┆ hrs_at_be ┆ hrs_at_an ┆ hrs_at_an │\n",
       "│ ---        ┆ ---       ┆ ---       ┆ ---     ┆   ┆ rth_media ┆ rth_mean  ┆ chor_medi ┆ chor_mean │\n",
       "│ str        ┆ f64       ┆ f64       ┆ u32     ┆   ┆ n         ┆ ---       ┆ an        ┆ ---       │\n",
       "│            ┆           ┆           ┆         ┆   ┆ ---       ┆ f64       ┆ ---       ┆ f64       │\n",
       "│            ┆           ┆           ┆         ┆   ┆ f64       ┆           ┆ f64       ┆           │\n",
       "╞════════════╪═══════════╪═══════════╪═════════╪═══╪═══════════╪═══════════╪═══════════╪═══════════╡\n",
       "│ Albany     ┆ 42.64271  ┆ -73.74816 ┆ 269     ┆ … ┆ 65.8      ┆ 81.078024 ┆ 0.0       ┆ 0.240992  │\n",
       "│ Port       ┆           ┆           ┆         ┆   ┆           ┆           ┆           ┆           │\n",
       "│ District,  ┆           ┆           ┆         ┆   ┆           ┆           ┆           ┆           │\n",
       "│ NY         ┆           ┆           ┆         ┆   ┆           ┆           ┆           ┆           │\n",
       "│ Anacortes, ┆ 48.495943 ┆ -122.5996 ┆ 284     ┆ … ┆ 36.933333 ┆ 49.357393 ┆ 0.0       ┆ 25.017069 │\n",
       "│ WA         ┆           ┆ 1         ┆         ┆   ┆           ┆           ┆           ┆           │\n",
       "│ Baltimore, ┆ 39.250827 ┆ -76.56164 ┆ 2594    ┆ … ┆ 34.366667 ┆ 47.896729 ┆ 0.0       ┆ 13.069196 │\n",
       "│ MD         ┆           ┆           ┆         ┆   ┆           ┆           ┆           ┆           │\n",
       "│ Beaumont,  ┆ 30.084872 ┆ -94.09498 ┆ 1036    ┆ … ┆ 54.0      ┆ 66.975174 ┆ 0.0       ┆ 3.611938  │\n",
       "│ TX         ┆           ┆ 5         ┆         ┆   ┆           ┆           ┆           ┆           │\n",
       "│ Boston, MA ┆ 42.342468 ┆ -71.03202 ┆ 326     ┆ … ┆ 17.766667 ┆ 28.00061  ┆ 0.0       ┆ 2.473656  │\n",
       "│            ┆           ┆ 9         ┆         ┆   ┆           ┆           ┆           ┆           │\n",
       "└────────────┴───────────┴───────────┴─────────┴───┴───────────┴───────────┴───────────┴───────────┘"
      ]
     },
     "execution_count": 11,
     "metadata": {},
     "output_type": "execute_result"
    }
   ],
   "source": [
    "ports_alltime_df = (\n",
    "    calls_df\n",
    "    #group by port \n",
    "    .group_by('port_name')\n",
    "    .agg(\n",
    "        #port lat and lon\n",
    "        port_lat = pl.first('port_lat'),\n",
    "        port_lon = pl.first('port_lon'),\n",
    "        #count number of vessels\n",
    "        vessels = pl.n_unique('imo'),\n",
    "        #mean vessel size\n",
    "        vessel_size_mean = pl.mean('vessel_size'),\n",
    "        #count number of vessel calls\n",
    "        calls = pl.n_unique('call_id'),\n",
    "        #time at dock stats for each vessel in hours\n",
    "        hrs_at_berth_median = pl.median('hrs_at_berth'),\n",
    "        hrs_at_berth_mean = pl.mean('hrs_at_berth'),\n",
    "        #time at anchor stats for each vessel visit in hours\n",
    "        hrs_at_anchor_median = pl.median('hrs_at_anchor'),\n",
    "        hrs_at_anchor_mean = pl.mean('hrs_at_anchor')\n",
    "    )\n",
    "    #sort by port\n",
    "    .sort('port_name')\n",
    ")\n",
    "#inspect\n",
    "display(ports_alltime_df.describe())\n",
    "ports_alltime_df.head()"
   ]
  },
  {
   "cell_type": "markdown",
   "metadata": {},
   "source": [
    "## Visualizations"
   ]
  },
  {
   "cell_type": "code",
   "execution_count": 12,
   "metadata": {},
   "outputs": [
    {
     "data": {
      "application/vnd.plotly.v1+json": {
       "config": {
        "plotlyServerURL": "https://plot.ly"
       },
       "data": [
        {
         "geo": "geo",
         "hovertemplate": "<b>%{hovertext}</b><br><br>vessels=%{marker.size}<br>port_lat=%{lat}<br>port_lon=%{lon}<br>hrs_at_berth_median=%{marker.color}<extra></extra>",
         "hovertext": [
          "Albany Port District, NY",
          "Anacortes, WA",
          "Baltimore, MD",
          "Beaumont, TX",
          "Boston, MA",
          "Bridgeport, CT",
          "Brownsville, TX",
          "Calhoun Port Authority, TX",
          "Canaveral Port District, FL",
          "Coos Bay OR, Port of",
          "Corpus Christi, TX",
          "Galveston, TX",
          "Greater Lafourche Port, LA",
          "Guayama, PR",
          "Guaynabo, PR",
          "Honolulu, O'ahu, HI",
          "Houston Port Authority, TX",
          "Jacksonville, FL",
          "Kahului, Maui, HI",
          "Kalaeloa Barbers Point, HI",
          "Lake Charles Harbor District, LA",
          "Manatee County Port, FL",
          "Mobile, AL",
          "Morehead City, NC",
          "Nawiliwili, Kaua'i, HI",
          "New Haven, CT",
          "New Orleans, LA",
          "New York, NY & NJ",
          "Orange County Nav District, TX",
          "Oxnard Harbor District, CA",
          "Panama City Port Authority, FL",
          "Philadelphia Regional Port, PA",
          "Port Arthur, TX",
          "Port Everglades, FL",
          "Port Freeport, TX",
          "Port of Alaska, AK",
          "Port of Brunswick, GA",
          "Port of Charleston, SC",
          "Port of Everett, WA",
          "Port of Greater Baton Rouge, LA",
          "Port of Gulfport, MS",
          "Port of Kalama, WA",
          "Port of Long Beach, CA",
          "Port of Los Angeles, CA",
          "Port of Oakland, CA",
          "Port of Palm Beach District, FL",
          "Port of Pascagoula, MS",
          "Port of Providence, RI",
          "Port of Savannah, GA",
          "Port of Vancouver USA, WA",
          "PortMiami, FL",
          "Portland, ME",
          "Portsmouth, NH",
          "Redwood City, CA",
          "Richmond, CA",
          "Sacramento-Yolo Port, CA",
          "San Diego Unified Port, CA",
          "San Juan, PR",
          "Searsport, ME",
          "Seattle, WA",
          "South Jersey Port Corp, NJ",
          "South Louisiana, LA, Port of",
          "Stockton, CA",
          "Tacoma, WA",
          "Texas City, TX",
          "Unalaska Island, AK",
          "Valdez, AK",
          "Virginia, VA, Port of",
          "Wilmington, DE",
          "Wilmington, NC"
         ],
         "lat": {
          "bdata": "+Wc/UkRSRUAN12oPez9IQBL6YBkboENAlljgK7oVPkCd9s391StFQLx0kxgElkRA8DfaccPzOUBVdjOjH6E8QL+ZX80BajxAaeLkfoeuRUB4K9mxEdA7QCa8y0V8Tz1AIOmayTcfPUBj8GlOXvAxQHQNpfYibjJAbnWr56RPNUAaXDrmPL89QCSO5zOgUj5AzNsRTgvmNEAZcxB0tFI1QCoZcmw9Gz5AtRgD6ziiO0CjAwRz9LA+QLTCu1zEW0FAlvbN/dXzNUAriLoPQKZEQCD3OxQF6j1AABb59UNWREDwBBcrahg+QP7pzaj5EkFAv7pjsU0iPkCSdM3km/VDQIA97fDX1D1ARLXBiegXOkDvqQ65GfY8QEvSNZNvnk5A2SObq+YhP0BgWpvG9mRAQFo0nZ0M/kdAC9MwfERsPkBy9DEfEFw+QCYaa39nA0dAKY3ROqreQECEkCxgAt1AQEWBPpEn6UJA2FAxzt/EOkCYWrbWF1k+QP/FM2jo50RAQU5fz9cKQEBz3CkdrM9GQAVI36RpyDlAZDbIJCPTRUBtRzgteIlFQG9a8KKvwEJAZmDkZU32QkALv5tu2UdDQJ5ZEqCmWkBAwEPf3cpuMkAu/yH99jlGQOo/Mh06y0dAam5MT1jsQ0AYDeAtkAg+QBpz1xLy+UJA0XoxlBOlR0BpOUIG8lw9QHLJcad08kpAQmoTJ/ePTkDSTL7Z5m5CQEPElEii20NAoqDbSxodQUA=",
          "dtype": "f8"
         },
         "legendgroup": "",
         "lon": {
          "bdata": "Owt72uFvUsCdFp8CYKZewAQI5ujxI1PACSf3OxSGV8CC4VzDDMJRwASkNnFyS1LA5lLOF3tZWMC0KOyi6CVYwPxD+u3rJlTAuyCwcmgNX8AEWp4Hd1lYwF1d3EYDtFfAn+OHSiONVsAVB9Dv+4lQwKkPJO8ch1DAfP1l9+S7Y8B8IQGjy9JXwCSwcmiRalTAhTF3LSGPY8CW44dKo8NjwOwN95FbUlfAGdE96xqkVMBthbAaSwJWwOtb5nRZLlPAT9h+MkbrY8B0bagY5zlSwHDylNV0hVbApSTrcHSCUsBYLJrOTm5XwDHChqdXzV3ApNx9jo9oVcDpIoWy8MxSwPPl6PF7fVfA5ps0DYoHVMBAKH6MuddXwGM9CtejvGLAkkQvo1hiVMAPSphp+/pTwBJtVn2ujl7AJzKP/MHMVsD+KVWi7EVWwGaNXaJ6t17A1SCwcmiNXcDcRbWIKJFdwH35D+m3k17Av9798V4DVMA/1SE3wyNWwMdafAqA2VHAH6gavRpGVMAjak3zjqtewCBlxAWgC1TATQte9BWQUcAUnwJgPK9RwNY8Y1+yjV7AVgX4bvOXXsBmHJWbqGJewL1m1edqS13AiQ/s+C+GUMD/8V61MjtRwLmIfm39ll7AeR7cnbXQUsDvuDZUjKdWwJ+nV8oyVF7AHolBYOWcXsAe8MAAwrpXwIZxcOmY0WTAqepztRVLYsC6NlSM8xNTwGSDTDJy4FLApr4s7dR8U8A=",
          "dtype": "f8"
         },
         "marker": {
          "color": {
           "bdata": "MzMzMzNzUEB3d3d3d3dCQO/u7u7uLkFAAAAAAAAAS0BERERERMQxQLy7u7u7OyxAmpmZmZnZSUAQEREREbE6QN7d3d3d7UFAd3d3d3f/XUDv7u7u7s5GQDMzMzMz8zlAeHd3d3cXTUDv7u7u7k42QO/u7u7uzkhAAAAAAABAQECIiIiIiPhQQERERERENGtAERERERGRIEDNzMzMzMxGQBIRERER0VFAVVVVVVXlQEAQEREREXFDQM3MzMzMTE1AeHd3d3e3JEDNzMzMzAxAQLy7u7u72zpAIiIiIiKiP0AiIiIiIrSKQIiIiIiICDRAERERERGRSUDe3d3d3V09QM3MzMzMTEVA7+7u7u4uM0BmZmZmZqY2QCIiIiIioi5AZmZmZmZmMEBmZmZmZgYwQGZmZmZmJj9Aq6qqqqpKSUBmZmZmZuYoQFVVVVVVlUlAREREREQEQ0BWVVVVVeVOQJmZmZmZGTpAd3d3d3e3NkDMzMzMzBRWQHh3d3d390JAeHd3d3eXOkDe3d3d3a1JQKuqqqqqajBAmZmZmZmZPECIiIiIiMg3QM3MzMzMTDhA7+7u7u6eQ0B3d3d3d/dZQIiIiIiISEdAiIiIiIgIKkBmZmZmZiY7QBERERERUT9AMzMzMzPzQECZmZmZmRlEQM3MzMzMrFBAqqqqqqoqRkBERERERORAQEREREREhDBAAAAAAABgQ0BERERERAQ2QFVVVVVVJUZAIiIiIiKiLkA=",
           "dtype": "f8"
          },
          "coloraxis": "coloraxis",
          "size": {
           "bdata": "DQEAABwBAAAiCgAADAQAAEYBAAAGAAAAbwMAAPQBAAAoAwAAGAAAAEcHAADqBgAAPQAAAAsAAACxAgAAZwEAAIQIAAAJAAAAFQAAALsAAABiAAAANgIAAKgKAADhAQAAFwAAANMCAABoBwAATAIAAAkAAADJAQAATAAAABkAAAA6CAAAvwUAAP4CAABJAAAA6wIAAEACAADLAAAAEwMAAJAAAADIAgAA0AoAALQGAADtAgAA3AAAAEkAAABHAgAA8gYAAEAEAADvAQAAzwAAAFsAAACBAAAA1QMAAP0AAAChAAAAbAIAAIcAAAAqAgAAdwIAANsGAADpAgAA5wEAAMIGAAAvAAAAAwAAAJcEAAAdAgAAMgQAAA==",
           "dtype": "u4"
          },
          "sizemode": "area",
          "sizeref": 3.0755555555555554,
          "symbol": "circle"
         },
         "mode": "markers",
         "name": "",
         "showlegend": false,
         "type": "scattergeo"
        }
       ],
       "layout": {
        "annotations": [
         {
          "align": "left",
          "font": {
           "color": "black",
           "size": 14
          },
          "showarrow": false,
          "text": "Note: Circle size corresponds to averages vessels per month",
          "x": 0,
          "xref": "paper",
          "y": -0.05,
          "yref": "paper"
         }
        ],
        "coloraxis": {
         "cmax": 50,
         "cmin": 0,
         "colorbar": {
          "title": {
           "text": "hrs_at_berth_median"
          }
         },
         "colorscale": [
          [
           0,
           "#440154"
          ],
          [
           0.1111111111111111,
           "#482878"
          ],
          [
           0.2222222222222222,
           "#3e4989"
          ],
          [
           0.3333333333333333,
           "#31688e"
          ],
          [
           0.4444444444444444,
           "#26828e"
          ],
          [
           0.5555555555555556,
           "#1f9e89"
          ],
          [
           0.6666666666666666,
           "#35b779"
          ],
          [
           0.7777777777777778,
           "#6ece58"
          ],
          [
           0.8888888888888888,
           "#b5de2b"
          ],
          [
           1,
           "#fde725"
          ]
         ]
        },
        "geo": {
         "center": {},
         "domain": {
          "x": [
           0,
           1
          ],
          "y": [
           0,
           1
          ]
         },
         "fitbounds": "locations"
        },
        "height": 600,
        "legend": {
         "itemsizing": "constant",
         "tracegroupgap": 0
        },
        "template": {
         "data": {
          "bar": [
           {
            "error_x": {
             "color": "#2a3f5f"
            },
            "error_y": {
             "color": "#2a3f5f"
            },
            "marker": {
             "line": {
              "color": "#E5ECF6",
              "width": 0.5
             },
             "pattern": {
              "fillmode": "overlay",
              "size": 10,
              "solidity": 0.2
             }
            },
            "type": "bar"
           }
          ],
          "barpolar": [
           {
            "marker": {
             "line": {
              "color": "#E5ECF6",
              "width": 0.5
             },
             "pattern": {
              "fillmode": "overlay",
              "size": 10,
              "solidity": 0.2
             }
            },
            "type": "barpolar"
           }
          ],
          "carpet": [
           {
            "aaxis": {
             "endlinecolor": "#2a3f5f",
             "gridcolor": "white",
             "linecolor": "white",
             "minorgridcolor": "white",
             "startlinecolor": "#2a3f5f"
            },
            "baxis": {
             "endlinecolor": "#2a3f5f",
             "gridcolor": "white",
             "linecolor": "white",
             "minorgridcolor": "white",
             "startlinecolor": "#2a3f5f"
            },
            "type": "carpet"
           }
          ],
          "choropleth": [
           {
            "colorbar": {
             "outlinewidth": 0,
             "ticks": ""
            },
            "type": "choropleth"
           }
          ],
          "contour": [
           {
            "colorbar": {
             "outlinewidth": 0,
             "ticks": ""
            },
            "colorscale": [
             [
              0,
              "#0d0887"
             ],
             [
              0.1111111111111111,
              "#46039f"
             ],
             [
              0.2222222222222222,
              "#7201a8"
             ],
             [
              0.3333333333333333,
              "#9c179e"
             ],
             [
              0.4444444444444444,
              "#bd3786"
             ],
             [
              0.5555555555555556,
              "#d8576b"
             ],
             [
              0.6666666666666666,
              "#ed7953"
             ],
             [
              0.7777777777777778,
              "#fb9f3a"
             ],
             [
              0.8888888888888888,
              "#fdca26"
             ],
             [
              1,
              "#f0f921"
             ]
            ],
            "type": "contour"
           }
          ],
          "contourcarpet": [
           {
            "colorbar": {
             "outlinewidth": 0,
             "ticks": ""
            },
            "type": "contourcarpet"
           }
          ],
          "heatmap": [
           {
            "colorbar": {
             "outlinewidth": 0,
             "ticks": ""
            },
            "colorscale": [
             [
              0,
              "#0d0887"
             ],
             [
              0.1111111111111111,
              "#46039f"
             ],
             [
              0.2222222222222222,
              "#7201a8"
             ],
             [
              0.3333333333333333,
              "#9c179e"
             ],
             [
              0.4444444444444444,
              "#bd3786"
             ],
             [
              0.5555555555555556,
              "#d8576b"
             ],
             [
              0.6666666666666666,
              "#ed7953"
             ],
             [
              0.7777777777777778,
              "#fb9f3a"
             ],
             [
              0.8888888888888888,
              "#fdca26"
             ],
             [
              1,
              "#f0f921"
             ]
            ],
            "type": "heatmap"
           }
          ],
          "histogram": [
           {
            "marker": {
             "pattern": {
              "fillmode": "overlay",
              "size": 10,
              "solidity": 0.2
             }
            },
            "type": "histogram"
           }
          ],
          "histogram2d": [
           {
            "colorbar": {
             "outlinewidth": 0,
             "ticks": ""
            },
            "colorscale": [
             [
              0,
              "#0d0887"
             ],
             [
              0.1111111111111111,
              "#46039f"
             ],
             [
              0.2222222222222222,
              "#7201a8"
             ],
             [
              0.3333333333333333,
              "#9c179e"
             ],
             [
              0.4444444444444444,
              "#bd3786"
             ],
             [
              0.5555555555555556,
              "#d8576b"
             ],
             [
              0.6666666666666666,
              "#ed7953"
             ],
             [
              0.7777777777777778,
              "#fb9f3a"
             ],
             [
              0.8888888888888888,
              "#fdca26"
             ],
             [
              1,
              "#f0f921"
             ]
            ],
            "type": "histogram2d"
           }
          ],
          "histogram2dcontour": [
           {
            "colorbar": {
             "outlinewidth": 0,
             "ticks": ""
            },
            "colorscale": [
             [
              0,
              "#0d0887"
             ],
             [
              0.1111111111111111,
              "#46039f"
             ],
             [
              0.2222222222222222,
              "#7201a8"
             ],
             [
              0.3333333333333333,
              "#9c179e"
             ],
             [
              0.4444444444444444,
              "#bd3786"
             ],
             [
              0.5555555555555556,
              "#d8576b"
             ],
             [
              0.6666666666666666,
              "#ed7953"
             ],
             [
              0.7777777777777778,
              "#fb9f3a"
             ],
             [
              0.8888888888888888,
              "#fdca26"
             ],
             [
              1,
              "#f0f921"
             ]
            ],
            "type": "histogram2dcontour"
           }
          ],
          "mesh3d": [
           {
            "colorbar": {
             "outlinewidth": 0,
             "ticks": ""
            },
            "type": "mesh3d"
           }
          ],
          "parcoords": [
           {
            "line": {
             "colorbar": {
              "outlinewidth": 0,
              "ticks": ""
             }
            },
            "type": "parcoords"
           }
          ],
          "pie": [
           {
            "automargin": true,
            "type": "pie"
           }
          ],
          "scatter": [
           {
            "fillpattern": {
             "fillmode": "overlay",
             "size": 10,
             "solidity": 0.2
            },
            "type": "scatter"
           }
          ],
          "scatter3d": [
           {
            "line": {
             "colorbar": {
              "outlinewidth": 0,
              "ticks": ""
             }
            },
            "marker": {
             "colorbar": {
              "outlinewidth": 0,
              "ticks": ""
             }
            },
            "type": "scatter3d"
           }
          ],
          "scattercarpet": [
           {
            "marker": {
             "colorbar": {
              "outlinewidth": 0,
              "ticks": ""
             }
            },
            "type": "scattercarpet"
           }
          ],
          "scattergeo": [
           {
            "marker": {
             "colorbar": {
              "outlinewidth": 0,
              "ticks": ""
             }
            },
            "type": "scattergeo"
           }
          ],
          "scattergl": [
           {
            "marker": {
             "colorbar": {
              "outlinewidth": 0,
              "ticks": ""
             }
            },
            "type": "scattergl"
           }
          ],
          "scattermap": [
           {
            "marker": {
             "colorbar": {
              "outlinewidth": 0,
              "ticks": ""
             }
            },
            "type": "scattermap"
           }
          ],
          "scattermapbox": [
           {
            "marker": {
             "colorbar": {
              "outlinewidth": 0,
              "ticks": ""
             }
            },
            "type": "scattermapbox"
           }
          ],
          "scatterpolar": [
           {
            "marker": {
             "colorbar": {
              "outlinewidth": 0,
              "ticks": ""
             }
            },
            "type": "scatterpolar"
           }
          ],
          "scatterpolargl": [
           {
            "marker": {
             "colorbar": {
              "outlinewidth": 0,
              "ticks": ""
             }
            },
            "type": "scatterpolargl"
           }
          ],
          "scatterternary": [
           {
            "marker": {
             "colorbar": {
              "outlinewidth": 0,
              "ticks": ""
             }
            },
            "type": "scatterternary"
           }
          ],
          "surface": [
           {
            "colorbar": {
             "outlinewidth": 0,
             "ticks": ""
            },
            "colorscale": [
             [
              0,
              "#0d0887"
             ],
             [
              0.1111111111111111,
              "#46039f"
             ],
             [
              0.2222222222222222,
              "#7201a8"
             ],
             [
              0.3333333333333333,
              "#9c179e"
             ],
             [
              0.4444444444444444,
              "#bd3786"
             ],
             [
              0.5555555555555556,
              "#d8576b"
             ],
             [
              0.6666666666666666,
              "#ed7953"
             ],
             [
              0.7777777777777778,
              "#fb9f3a"
             ],
             [
              0.8888888888888888,
              "#fdca26"
             ],
             [
              1,
              "#f0f921"
             ]
            ],
            "type": "surface"
           }
          ],
          "table": [
           {
            "cells": {
             "fill": {
              "color": "#EBF0F8"
             },
             "line": {
              "color": "white"
             }
            },
            "header": {
             "fill": {
              "color": "#C8D4E3"
             },
             "line": {
              "color": "white"
             }
            },
            "type": "table"
           }
          ]
         },
         "layout": {
          "annotationdefaults": {
           "arrowcolor": "#2a3f5f",
           "arrowhead": 0,
           "arrowwidth": 1
          },
          "autotypenumbers": "strict",
          "coloraxis": {
           "colorbar": {
            "outlinewidth": 0,
            "ticks": ""
           }
          },
          "colorscale": {
           "diverging": [
            [
             0,
             "#8e0152"
            ],
            [
             0.1,
             "#c51b7d"
            ],
            [
             0.2,
             "#de77ae"
            ],
            [
             0.3,
             "#f1b6da"
            ],
            [
             0.4,
             "#fde0ef"
            ],
            [
             0.5,
             "#f7f7f7"
            ],
            [
             0.6,
             "#e6f5d0"
            ],
            [
             0.7,
             "#b8e186"
            ],
            [
             0.8,
             "#7fbc41"
            ],
            [
             0.9,
             "#4d9221"
            ],
            [
             1,
             "#276419"
            ]
           ],
           "sequential": [
            [
             0,
             "#0d0887"
            ],
            [
             0.1111111111111111,
             "#46039f"
            ],
            [
             0.2222222222222222,
             "#7201a8"
            ],
            [
             0.3333333333333333,
             "#9c179e"
            ],
            [
             0.4444444444444444,
             "#bd3786"
            ],
            [
             0.5555555555555556,
             "#d8576b"
            ],
            [
             0.6666666666666666,
             "#ed7953"
            ],
            [
             0.7777777777777778,
             "#fb9f3a"
            ],
            [
             0.8888888888888888,
             "#fdca26"
            ],
            [
             1,
             "#f0f921"
            ]
           ],
           "sequentialminus": [
            [
             0,
             "#0d0887"
            ],
            [
             0.1111111111111111,
             "#46039f"
            ],
            [
             0.2222222222222222,
             "#7201a8"
            ],
            [
             0.3333333333333333,
             "#9c179e"
            ],
            [
             0.4444444444444444,
             "#bd3786"
            ],
            [
             0.5555555555555556,
             "#d8576b"
            ],
            [
             0.6666666666666666,
             "#ed7953"
            ],
            [
             0.7777777777777778,
             "#fb9f3a"
            ],
            [
             0.8888888888888888,
             "#fdca26"
            ],
            [
             1,
             "#f0f921"
            ]
           ]
          },
          "colorway": [
           "#636efa",
           "#EF553B",
           "#00cc96",
           "#ab63fa",
           "#FFA15A",
           "#19d3f3",
           "#FF6692",
           "#B6E880",
           "#FF97FF",
           "#FECB52"
          ],
          "font": {
           "color": "#2a3f5f"
          },
          "geo": {
           "bgcolor": "white",
           "lakecolor": "white",
           "landcolor": "#E5ECF6",
           "showlakes": true,
           "showland": true,
           "subunitcolor": "white"
          },
          "hoverlabel": {
           "align": "left"
          },
          "hovermode": "closest",
          "mapbox": {
           "style": "light"
          },
          "paper_bgcolor": "white",
          "plot_bgcolor": "#E5ECF6",
          "polar": {
           "angularaxis": {
            "gridcolor": "white",
            "linecolor": "white",
            "ticks": ""
           },
           "bgcolor": "#E5ECF6",
           "radialaxis": {
            "gridcolor": "white",
            "linecolor": "white",
            "ticks": ""
           }
          },
          "scene": {
           "xaxis": {
            "backgroundcolor": "#E5ECF6",
            "gridcolor": "white",
            "gridwidth": 2,
            "linecolor": "white",
            "showbackground": true,
            "ticks": "",
            "zerolinecolor": "white"
           },
           "yaxis": {
            "backgroundcolor": "#E5ECF6",
            "gridcolor": "white",
            "gridwidth": 2,
            "linecolor": "white",
            "showbackground": true,
            "ticks": "",
            "zerolinecolor": "white"
           },
           "zaxis": {
            "backgroundcolor": "#E5ECF6",
            "gridcolor": "white",
            "gridwidth": 2,
            "linecolor": "white",
            "showbackground": true,
            "ticks": "",
            "zerolinecolor": "white"
           }
          },
          "shapedefaults": {
           "line": {
            "color": "#2a3f5f"
           }
          },
          "ternary": {
           "aaxis": {
            "gridcolor": "white",
            "linecolor": "white",
            "ticks": ""
           },
           "baxis": {
            "gridcolor": "white",
            "linecolor": "white",
            "ticks": ""
           },
           "bgcolor": "#E5ECF6",
           "caxis": {
            "gridcolor": "white",
            "linecolor": "white",
            "ticks": ""
           }
          },
          "title": {
           "x": 0.05
          },
          "xaxis": {
           "automargin": true,
           "gridcolor": "white",
           "linecolor": "white",
           "ticks": "",
           "title": {
            "standoff": 15
           },
           "zerolinecolor": "white",
           "zerolinewidth": 2
          },
          "yaxis": {
           "automargin": true,
           "gridcolor": "white",
           "linecolor": "white",
           "ticks": "",
           "title": {
            "standoff": 15
           },
           "zerolinecolor": "white",
           "zerolinewidth": 2
          }
         }
        },
        "title": {
         "text": "Total Vessels (all time) and Median Hours at Berth"
        },
        "width": 1000
       }
      }
     },
     "metadata": {},
     "output_type": "display_data"
    }
   ],
   "source": [
    "#scatterplot\n",
    "fig = px.scatter_geo(\n",
    "    ports_alltime_df,\n",
    "    lon='port_lon',\n",
    "    lat='port_lat',\n",
    "    size='vessels',\n",
    "    color='hrs_at_berth_median',\n",
    "    range_color=[0,50],\n",
    "    hover_name='port_name',\n",
    "    size_max=30,\n",
    "    title='Total Vessels (all time) and Median Hours at Berth',\n",
    "    color_continuous_scale=px.colors.sequential.Viridis,\n",
    "    width=1000,\n",
    "    height=600,\n",
    "    labels={\n",
    "        'time_at_berth_avg':'Hours at Berth'\n",
    "    }\n",
    ")\n",
    "\n",
    "# Fit the view to ports\n",
    "fig.update_geos(fitbounds=\"locations\")\n",
    "\n",
    "# Add footnote using add_annotation\n",
    "fig.add_annotation(\n",
    "    text=\"Note: Circle size corresponds to averages vessels per month\",  # Footnote text\n",
    "    xref=\"paper\", yref=\"paper\",  # Position relative to the plot area\n",
    "    x=0, y=0-0.05,  # Adjust to footnote position\n",
    "    showarrow=False,  # No arrow, just text\n",
    "    font=dict(size=14, color=\"black\"),  # Customize the font style\n",
    "    align=\"left\"\n",
    ")\n",
    "\n",
    "# Show the figure\n",
    "fig.show()"
   ]
  },
  {
   "cell_type": "markdown",
   "metadata": {},
   "source": [
    "### Port-level Scatter Plots\n",
    "\n",
    "Developing core visualization and data-agg functions for geographic scatter plots. \n",
    "\n",
    "Initial goal:\n",
    "- User selects port and time bounds; dashboard shows standard visualizations\n",
    "    - calls over time (monthly)\n",
    "    - avg hrs at berth over time (monthly)\n",
    "    - vessel size and hrs at berth scatter\n",
    "    - vessel size and hrs at anchors scatter\n"
   ]
  },
  {
   "cell_type": "code",
   "execution_count": 13,
   "metadata": {},
   "outputs": [
    {
     "data": {
      "text/html": [
       "<div>\n",
       "<style scoped>\n",
       "    .dataframe tbody tr th:only-of-type {\n",
       "        vertical-align: middle;\n",
       "    }\n",
       "\n",
       "    .dataframe tbody tr th {\n",
       "        vertical-align: top;\n",
       "    }\n",
       "\n",
       "    .dataframe thead th {\n",
       "        text-align: right;\n",
       "    }\n",
       "</style>\n",
       "<table border=\"1\" class=\"dataframe\">\n",
       "  <thead>\n",
       "    <tr style=\"text-align: right;\">\n",
       "      <th></th>\n",
       "      <th>dock_name</th>\n",
       "      <th>dock_lat</th>\n",
       "      <th>dock_lon</th>\n",
       "      <th>facility_type</th>\n",
       "      <th>vessel_size_mean</th>\n",
       "      <th>vessel_size_median</th>\n",
       "      <th>hrs_at_berth_mean</th>\n",
       "      <th>hrs_at_berth_median</th>\n",
       "      <th>hrs_at_anchor_mean</th>\n",
       "      <th>hrs_at_anchor_median</th>\n",
       "      <th>hrs_in_port_waters_mean</th>\n",
       "      <th>hrs_in_port_waters_median</th>\n",
       "    </tr>\n",
       "  </thead>\n",
       "  <tbody>\n",
       "    <tr>\n",
       "      <th>0</th>\n",
       "      <td>ELLIOTT BAY GENERAL ANCHORAGE</td>\n",
       "      <td>47.593705</td>\n",
       "      <td>-122.352556</td>\n",
       "      <td>Anchorage</td>\n",
       "      <td>199.000000</td>\n",
       "      <td>199.0</td>\n",
       "      <td>16.050000</td>\n",
       "      <td>16.050000</td>\n",
       "      <td>28.716667</td>\n",
       "      <td>28.716667</td>\n",
       "      <td>48.816667</td>\n",
       "      <td>48.816667</td>\n",
       "    </tr>\n",
       "    <tr>\n",
       "      <th>1</th>\n",
       "      <td>U. S. COAST GUARD, PIER 35</td>\n",
       "      <td>47.589444</td>\n",
       "      <td>-122.343050</td>\n",
       "      <td>Dock</td>\n",
       "      <td>225.615385</td>\n",
       "      <td>228.0</td>\n",
       "      <td>58.202564</td>\n",
       "      <td>55.250000</td>\n",
       "      <td>19.023077</td>\n",
       "      <td>0.000000</td>\n",
       "      <td>82.834615</td>\n",
       "      <td>81.650000</td>\n",
       "    </tr>\n",
       "    <tr>\n",
       "      <th>2</th>\n",
       "      <td>TRANS PACIFIC CONTAINER SERVICE CORP., TERMINA...</td>\n",
       "      <td>47.582943</td>\n",
       "      <td>-122.342930</td>\n",
       "      <td>Dock</td>\n",
       "      <td>263.711712</td>\n",
       "      <td>262.0</td>\n",
       "      <td>30.012988</td>\n",
       "      <td>23.366667</td>\n",
       "      <td>5.294845</td>\n",
       "      <td>0.000000</td>\n",
       "      <td>42.135210</td>\n",
       "      <td>34.150000</td>\n",
       "    </tr>\n",
       "    <tr>\n",
       "      <th>3</th>\n",
       "      <td>CRANE DOCK PIER 20</td>\n",
       "      <td>47.574757</td>\n",
       "      <td>-122.346077</td>\n",
       "      <td>Dock</td>\n",
       "      <td>160.444444</td>\n",
       "      <td>149.0</td>\n",
       "      <td>61.175926</td>\n",
       "      <td>60.400000</td>\n",
       "      <td>0.000000</td>\n",
       "      <td>0.000000</td>\n",
       "      <td>68.744444</td>\n",
       "      <td>73.516667</td>\n",
       "    </tr>\n",
       "    <tr>\n",
       "      <th>4</th>\n",
       "      <td>S S A TERMINALS, TERMINAL 18, BERTHS 2-6</td>\n",
       "      <td>47.583557</td>\n",
       "      <td>-122.346129</td>\n",
       "      <td>Dock</td>\n",
       "      <td>307.503390</td>\n",
       "      <td>304.0</td>\n",
       "      <td>47.989576</td>\n",
       "      <td>38.291667</td>\n",
       "      <td>9.961497</td>\n",
       "      <td>0.000000</td>\n",
       "      <td>65.132147</td>\n",
       "      <td>48.825000</td>\n",
       "    </tr>\n",
       "  </tbody>\n",
       "</table>\n",
       "</div>"
      ],
      "text/plain": [
       "                                           dock_name   dock_lat    dock_lon  \\\n",
       "0                      ELLIOTT BAY GENERAL ANCHORAGE  47.593705 -122.352556   \n",
       "1                         U. S. COAST GUARD, PIER 35  47.589444 -122.343050   \n",
       "2  TRANS PACIFIC CONTAINER SERVICE CORP., TERMINA...  47.582943 -122.342930   \n",
       "3                                 CRANE DOCK PIER 20  47.574757 -122.346077   \n",
       "4           S S A TERMINALS, TERMINAL 18, BERTHS 2-6  47.583557 -122.346129   \n",
       "\n",
       "  facility_type  vessel_size_mean  vessel_size_median  hrs_at_berth_mean  \\\n",
       "0     Anchorage        199.000000               199.0          16.050000   \n",
       "1          Dock        225.615385               228.0          58.202564   \n",
       "2          Dock        263.711712               262.0          30.012988   \n",
       "3          Dock        160.444444               149.0          61.175926   \n",
       "4          Dock        307.503390               304.0          47.989576   \n",
       "\n",
       "   hrs_at_berth_median  hrs_at_anchor_mean  hrs_at_anchor_median  \\\n",
       "0            16.050000           28.716667             28.716667   \n",
       "1            55.250000           19.023077              0.000000   \n",
       "2            23.366667            5.294845              0.000000   \n",
       "3            60.400000            0.000000              0.000000   \n",
       "4            38.291667            9.961497              0.000000   \n",
       "\n",
       "   hrs_in_port_waters_mean  hrs_in_port_waters_median  \n",
       "0                48.816667                  48.816667  \n",
       "1                82.834615                  81.650000  \n",
       "2                42.135210                  34.150000  \n",
       "3                68.744444                  73.516667  \n",
       "4                65.132147                  48.825000  "
      ]
     },
     "execution_count": 13,
     "metadata": {},
     "output_type": "execute_result"
    }
   ],
   "source": [
    "#set date range\n",
    "start_month = '201801'\n",
    "end_month = '202312'\n",
    "\n",
    "#set port name\n",
    "port_name = 'Seattle, WA'\n",
    "\n",
    "#convert start and end month to datetime\n",
    "start_month = pd.to_datetime(start_month, format='%Y%m')\n",
    "end_month = pd.to_datetime(end_month, format='%Y%m')\n",
    "\n",
    "#get dataframe\n",
    "df = (\n",
    "    calls_df\n",
    "    #filter for Seattle\n",
    "    .filter(pl.col('port_name') == port_name)\n",
    "    #filter by date\n",
    "    .filter(pl.col('time_arrival').is_between(start_month, end_month))\n",
    "    #get month from docking time\n",
    "    .with_columns(\n",
    "        #extract month from docking time\n",
    "        month = pl.col('time_arrival').dt.strftime('%Y%m')\n",
    "    )\n",
    ")\n",
    "\n",
    "#get dock stats\n",
    "docks_df = (\n",
    "    df.group_by(['dock_name', 'dock_lat', 'dock_lon', 'facility_type'])\n",
    "    .agg(\n",
    "        #mean vessel size\n",
    "        vessel_size_mean = pl.mean('vessel_size'),\n",
    "        #median vessel size\n",
    "        vessel_size_median = pl.median('vessel_size'),\n",
    "        #mean hours at berth\n",
    "        hrs_at_berth_mean = pl.mean('hrs_at_berth'),\n",
    "        #median hours at berth\n",
    "        hrs_at_berth_median = pl.median('hrs_at_berth'),\n",
    "        #mean hours at anchor\n",
    "        hrs_at_anchor_mean = pl.mean('hrs_at_anchor'),\n",
    "        #median hours at anchor\n",
    "        hrs_at_anchor_median = pl.median('hrs_at_anchor'),\n",
    "        #mean hours in port waters\n",
    "        hrs_in_port_waters_mean = pl.mean('hrs_in_port_waters'),\n",
    "        #median hours in port waters\n",
    "        hrs_in_port_waters_median = pl.median('hrs_in_port_waters'),\n",
    "    )\n",
    "    #convert to pandas\n",
    "    .to_pandas()\n",
    ")\n",
    "\n",
    "#inspect\n",
    "docks_df.head()"
   ]
  },
  {
   "cell_type": "code",
   "execution_count": 14,
   "metadata": {},
   "outputs": [],
   "source": [
    "def mapbox_zoom_finder(lons, lats, lon_pad=0, lat_pad=0):\n",
    "    \"\"\"\n",
    "    Calculates the optimal zoom level for a Plotly Mapbox plot.\n",
    "    Args:\n",
    "        lons (list): List of longitudes.\n",
    "        lats (list): List of latitudes.\n",
    "        lon_pad (float, optional): Padding to add to the longitude range. Defaults to 0.\n",
    "        lat_pad (float, optional): Padding to add to the latitude range. Defaults to 0.\n",
    "    Returns:\n",
    "        zoom (int): the calculated zoom level\n",
    "    \"\"\"\n",
    "    # Check if the lengths of lons and lats are equal and not empty\n",
    "    if len(lons) != len(lats) or len(lons) == 0:\n",
    "        return 10\n",
    "    # Calculate the maximum and minimum longitude and latitude\n",
    "    max_lon, min_lon = max(lons), min(lons)\n",
    "    max_lat, min_lat = max(lats), min(lats)\n",
    "    # Calculate the longitude and latitude ranges\n",
    "    lon_range = max_lon - min_lon\n",
    "    lat_range = max_lat - min_lat\n",
    "    # Calculate the zoom level based on the ranges\n",
    "    zoom = 7 - np.log2(max(lon_range + lon_pad, lat_range + lat_pad))\n",
    "    return zoom"
   ]
  },
  {
   "cell_type": "code",
   "execution_count": 15,
   "metadata": {},
   "outputs": [],
   "source": [
    "def plot_mapbox(df, lat_col, lon_col, size_col, color_col, title, zoom=None,\n",
    "                width=800, height=600, size_max=30, hover_name=None, range_color=None,\n",
    "                hover_data=None, mapbox_style='carto-positron', labels=None, \n",
    "                color_continuous_scale=None, color_outlier_z=None):\n",
    "    \"\"\"\n",
    "    Plots a Mapbox scatter plot using Plotly.\n",
    "    Args:\n",
    "        df (pd.DataFrame): DataFrame containing the data to plot.\n",
    "        lat_col (str): Column name for latitude.\n",
    "        lon_col (str): Column name for longitude.\n",
    "        size_col (str): Column name for size.\n",
    "        color_col (str): Column name for color.\n",
    "        title (str): Title of the plot.\n",
    "        zoom (float, optional): Zoom level for the map. Defaults to None.\n",
    "        width (int, optional): Width of the plot. Defaults to 800.\n",
    "        height (int, optional): Height of the plot. Defaults to 600.\n",
    "        size_max (int, optional): Maximum size of the markers. Defaults to 30.\n",
    "        hover_name (str, optional): Column name for hover text. Defaults to None.\n",
    "        range_color (list, optional): Range for color scale. Defaults to None.\n",
    "        hover_data (list, optional): Additional data to show on hover. Defaults to None.\n",
    "        mapbox_style (str, optional): Mapbox style. Defaults to 'carto-positron'.\n",
    "        labels (dict, optional): Labels for the axes. Defaults to None.\n",
    "        color_continuous_scale (list, optional): Color scale for the plot. Defaults to None.\n",
    "        color_outlier_z (float, optional): Z-score threshold for outlier detection. Defaults to None.\n",
    "    Returns:\n",
    "        None\n",
    "    \"\"\"\n",
    "    #Set default color scale if not provided\n",
    "    if not color_continuous_scale:\n",
    "        color_continuous_scale = px.colors.sequential.Viridis\n",
    "\n",
    "    # Set the zoom level automatically if not provided\n",
    "    if not zoom:\n",
    "        zoom = mapbox_zoom_finder(df[lon_col], df[lat_col])\n",
    "\n",
    "    #drop outliers if specified\n",
    "    if color_outlier_z:\n",
    "        #get color_col upper and lower limits based on z score\n",
    "        color_col_mean, color_col_std = df[color_col].mean(), df[color_col].std()\n",
    "        color_col_upper = color_col_mean + (color_col_std * color_outlier_z)\n",
    "        color_col_lower = color_col_mean - (color_col_std * color_outlier_z)\n",
    "        #set range color\n",
    "        range_color = [color_col_lower, color_col_upper]\n",
    "\n",
    "    # Create a scatter mapbox figure\n",
    "    fig = px.scatter_mapbox(\n",
    "        #data\n",
    "        df, lat=lat_col, lon=lon_col,\n",
    "        #categories\n",
    "        size=size_col, color=color_col,\n",
    "        #hover info\n",
    "        hover_name=hover_name, hover_data=hover_data,\n",
    "        #display settings\n",
    "        range_color=range_color, size_max=size_max,\n",
    "        color_continuous_scale=color_continuous_scale, mapbox_style=mapbox_style,\n",
    "        width=width, height=height,\n",
    "        #title and labals\n",
    "        title=title, labels=labels\n",
    "    )\n",
    "    # Set the zoom level\n",
    "    fig.update_layout(mapbox_zoom=zoom)\n",
    "    # Show the figure\n",
    "    fig.show()"
   ]
  },
  {
   "cell_type": "code",
   "execution_count": 16,
   "metadata": {},
   "outputs": [
    {
     "name": "stderr",
     "output_type": "stream",
     "text": [
      "/var/folders/dc/sgfd2dls28n4y4v4_jw03ly40000gp/T/ipykernel_21890/225847291.py:46: DeprecationWarning:\n",
      "\n",
      "*scatter_mapbox* is deprecated! Use *scatter_map* instead. Learn more at: https://plotly.com/python/mapbox-to-maplibre/\n",
      "\n"
     ]
    },
    {
     "data": {
      "application/vnd.plotly.v1+json": {
       "config": {
        "plotlyServerURL": "https://plot.ly"
       },
       "data": [
        {
         "customdata": [
          [
           "ELLIOTT BAY GENERAL ANCHORAGE",
           199
          ],
          [
           "U. S. COAST GUARD, PIER 35",
           225.6153846153846
          ],
          [
           "TRANS PACIFIC CONTAINER SERVICE CORP., TERMINAL 30 WHARF",
           263.7117117117117
          ],
          [
           "CRANE DOCK PIER 20",
           160.44444444444446
          ],
          [
           "S S A TERMINALS, TERMINAL 18, BERTHS 2-6",
           307.50338983050847
          ],
          [
           "TODD PACIFIC SHIPYARDS CORP., BERTHS F-K, PIERS NO. 4-6",
           227
          ],
          [
           "Birmingham Steel Corp., Terminal 105, Berth No. 2.",
           168.53846153846155
          ],
          [
           "B P OIL CO., SEATTLE TERMINAL, PIER NO. 11",
           183
          ],
          [
           "SSA TERMINALS, TERMINAL 37 WHARF",
           296.056338028169
          ],
          [
           "PACIFIC TERMINALS LTD., WHARVES",
           262
          ],
          [
           "SSA TERMINALS, TERMINAL 18, BERTH 7",
           205.2941176470588
          ],
          [
           "BIRMINGHAM STEEL CORP., TERMINAL 105, BERTH NO. 1",
           159
          ],
          [
           "SSA TERMINALS, TERMINAL 25 WHARF",
           262
          ],
          [
           "OPEN WATER-BUOYS & DOLPHINS",
           292.625
          ],
          [
           "TOTAL TERMINALS, TERMINAL 46 WHARF",
           306.15
          ],
          [
           "PIER 34",
           298.31382978723406
          ],
          [
           "TERMINAL 5 SEATTLE, SSA MARINE",
           274.9139072847682
          ],
          [
           "CROWLEY MARITIME, TERMINAL 28 WHARF",
           251.5
          ]
         ],
         "hovertemplate": "<b>%{hovertext}</b><br><br>vessel_size_mean=%{customdata[1]}<br>dock_lat=%{lat}<br>dock_lon=%{lon}<br>dock_name=%{customdata[0]}<br>hrs_at_berth_mean=%{marker.color}<extra></extra>",
         "hovertext": [
          "ELLIOTT BAY GENERAL ANCHORAGE",
          "U. S. COAST GUARD, PIER 35",
          "TRANS PACIFIC CONTAINER SERVICE CORP., TERMINAL 30 WHARF",
          "CRANE DOCK PIER 20",
          "S S A TERMINALS, TERMINAL 18, BERTHS 2-6",
          "TODD PACIFIC SHIPYARDS CORP., BERTHS F-K, PIERS NO. 4-6",
          "Birmingham Steel Corp., Terminal 105, Berth No. 2.",
          "B P OIL CO., SEATTLE TERMINAL, PIER NO. 11",
          "SSA TERMINALS, TERMINAL 37 WHARF",
          "PACIFIC TERMINALS LTD., WHARVES",
          "SSA TERMINALS, TERMINAL 18, BERTH 7",
          "BIRMINGHAM STEEL CORP., TERMINAL 105, BERTH NO. 1",
          "SSA TERMINALS, TERMINAL 25 WHARF",
          "OPEN WATER-BUOYS & DOLPHINS",
          "TOTAL TERMINALS, TERMINAL 46 WHARF",
          "PIER 34",
          "TERMINAL 5 SEATTLE, SSA MARINE",
          "CROWLEY MARITIME, TERMINAL 28 WHARF"
         ],
         "lat": {
          "bdata": "ZDyDhv7LR0BwaafmcstHQFY3UOCdykdA2xIro5HJR0AOLev+scpHQIhe8dQjy0dARnQIHAnIR0DD9Shcj8pHQGT8NO7Ny0dAZETbMXXJR0DT7lcBvslHQLwehetRyEdAKIKq0avJR0AyCFdAocpHQCzNkZVfzEdAiZwwYTTLR0DSzw1N2clHQItStHIvykdA",
          "dtype": "f8"
         },
         "legendgroup": "",
         "lon": {
          "bdata": "lIAKR5CWXsAeufyH9JVewEa0q5DylV7AXTklICaWXsC3zD/6JpZewMVztoDQll7As0NRoE+WXsAry/Pg7pZewGW4HoXrlV7AJczR4/eWXsBo/iYUIpZewIqOxwxUll7AHrn8h/SVXsArjnVxG5dewL6VCb/UlV7AbQlrY+yVXsBNW5TZIJdewL+Ee2XelV7A",
          "dtype": "f8"
         },
         "marker": {
          "color": {
           "bdata": "zMzMzMwMMECf7dme7RlNQDmmRy5TAz5AaS+hvYSWTkBS0mxvqv5HQDMzMzMzM0ZAl2/5lm8xYEAiIiIiIiIyQNOsyRHGyEZAmpmZmZkZNED29fX19RU7QIiIiIiIjGdAiYiIiIj8YUBnZmZmZkBQQCz5xZJfSENALclWUSDDSUDY4tFXTzJHQDMzMzMz8zJA",
           "dtype": "f8"
          },
          "coloraxis": "coloraxis",
          "size": {
           "bdata": "AAAAAADgaEA7sRM7sTNsQLbf0Stje3BA5DiO4zgOZEDEsn7iDThzQAAAAAAAYGxAFDuxEzsRZUAAAAAAAOBmQB1ItMLmgHJAAAAAAABgcEBpaWlpaalpQAAAAAAA4GNAAAAAAABgcEAAAAAAAEpyQGZmZmZmInNA5QpicgWlckB9uj5dny5xQAAAAAAAcG9A",
           "dtype": "f8"
          },
          "sizemode": "area",
          "sizeref": 0.7687584745762712
         },
         "mode": "markers",
         "name": "",
         "showlegend": false,
         "subplot": "mapbox",
         "type": "scattermapbox"
        }
       ],
       "layout": {
        "coloraxis": {
         "cmax": 106.03758960161971,
         "cmin": 10.738639114715312,
         "colorbar": {
          "title": {
           "text": "hrs_at_berth_mean"
          }
         },
         "colorscale": [
          [
           0,
           "#440154"
          ],
          [
           0.1111111111111111,
           "#482878"
          ],
          [
           0.2222222222222222,
           "#3e4989"
          ],
          [
           0.3333333333333333,
           "#31688e"
          ],
          [
           0.4444444444444444,
           "#26828e"
          ],
          [
           0.5555555555555556,
           "#1f9e89"
          ],
          [
           0.6666666666666666,
           "#35b779"
          ],
          [
           0.7777777777777778,
           "#6ece58"
          ],
          [
           0.8888888888888888,
           "#b5de2b"
          ],
          [
           1,
           "#fde725"
          ]
         ]
        },
        "height": 600,
        "legend": {
         "itemsizing": "constant",
         "tracegroupgap": 0
        },
        "mapbox": {
         "center": {
          "lat": 47.581292166666714,
          "lon": -122.34894944444439
         },
         "domain": {
          "x": [
           0,
           1
          ],
          "y": [
           0,
           1
          ]
         },
         "style": "carto-positron",
         "zoom": 11.883039123510514
        },
        "template": {
         "data": {
          "bar": [
           {
            "error_x": {
             "color": "#2a3f5f"
            },
            "error_y": {
             "color": "#2a3f5f"
            },
            "marker": {
             "line": {
              "color": "#E5ECF6",
              "width": 0.5
             },
             "pattern": {
              "fillmode": "overlay",
              "size": 10,
              "solidity": 0.2
             }
            },
            "type": "bar"
           }
          ],
          "barpolar": [
           {
            "marker": {
             "line": {
              "color": "#E5ECF6",
              "width": 0.5
             },
             "pattern": {
              "fillmode": "overlay",
              "size": 10,
              "solidity": 0.2
             }
            },
            "type": "barpolar"
           }
          ],
          "carpet": [
           {
            "aaxis": {
             "endlinecolor": "#2a3f5f",
             "gridcolor": "white",
             "linecolor": "white",
             "minorgridcolor": "white",
             "startlinecolor": "#2a3f5f"
            },
            "baxis": {
             "endlinecolor": "#2a3f5f",
             "gridcolor": "white",
             "linecolor": "white",
             "minorgridcolor": "white",
             "startlinecolor": "#2a3f5f"
            },
            "type": "carpet"
           }
          ],
          "choropleth": [
           {
            "colorbar": {
             "outlinewidth": 0,
             "ticks": ""
            },
            "type": "choropleth"
           }
          ],
          "contour": [
           {
            "colorbar": {
             "outlinewidth": 0,
             "ticks": ""
            },
            "colorscale": [
             [
              0,
              "#0d0887"
             ],
             [
              0.1111111111111111,
              "#46039f"
             ],
             [
              0.2222222222222222,
              "#7201a8"
             ],
             [
              0.3333333333333333,
              "#9c179e"
             ],
             [
              0.4444444444444444,
              "#bd3786"
             ],
             [
              0.5555555555555556,
              "#d8576b"
             ],
             [
              0.6666666666666666,
              "#ed7953"
             ],
             [
              0.7777777777777778,
              "#fb9f3a"
             ],
             [
              0.8888888888888888,
              "#fdca26"
             ],
             [
              1,
              "#f0f921"
             ]
            ],
            "type": "contour"
           }
          ],
          "contourcarpet": [
           {
            "colorbar": {
             "outlinewidth": 0,
             "ticks": ""
            },
            "type": "contourcarpet"
           }
          ],
          "heatmap": [
           {
            "colorbar": {
             "outlinewidth": 0,
             "ticks": ""
            },
            "colorscale": [
             [
              0,
              "#0d0887"
             ],
             [
              0.1111111111111111,
              "#46039f"
             ],
             [
              0.2222222222222222,
              "#7201a8"
             ],
             [
              0.3333333333333333,
              "#9c179e"
             ],
             [
              0.4444444444444444,
              "#bd3786"
             ],
             [
              0.5555555555555556,
              "#d8576b"
             ],
             [
              0.6666666666666666,
              "#ed7953"
             ],
             [
              0.7777777777777778,
              "#fb9f3a"
             ],
             [
              0.8888888888888888,
              "#fdca26"
             ],
             [
              1,
              "#f0f921"
             ]
            ],
            "type": "heatmap"
           }
          ],
          "histogram": [
           {
            "marker": {
             "pattern": {
              "fillmode": "overlay",
              "size": 10,
              "solidity": 0.2
             }
            },
            "type": "histogram"
           }
          ],
          "histogram2d": [
           {
            "colorbar": {
             "outlinewidth": 0,
             "ticks": ""
            },
            "colorscale": [
             [
              0,
              "#0d0887"
             ],
             [
              0.1111111111111111,
              "#46039f"
             ],
             [
              0.2222222222222222,
              "#7201a8"
             ],
             [
              0.3333333333333333,
              "#9c179e"
             ],
             [
              0.4444444444444444,
              "#bd3786"
             ],
             [
              0.5555555555555556,
              "#d8576b"
             ],
             [
              0.6666666666666666,
              "#ed7953"
             ],
             [
              0.7777777777777778,
              "#fb9f3a"
             ],
             [
              0.8888888888888888,
              "#fdca26"
             ],
             [
              1,
              "#f0f921"
             ]
            ],
            "type": "histogram2d"
           }
          ],
          "histogram2dcontour": [
           {
            "colorbar": {
             "outlinewidth": 0,
             "ticks": ""
            },
            "colorscale": [
             [
              0,
              "#0d0887"
             ],
             [
              0.1111111111111111,
              "#46039f"
             ],
             [
              0.2222222222222222,
              "#7201a8"
             ],
             [
              0.3333333333333333,
              "#9c179e"
             ],
             [
              0.4444444444444444,
              "#bd3786"
             ],
             [
              0.5555555555555556,
              "#d8576b"
             ],
             [
              0.6666666666666666,
              "#ed7953"
             ],
             [
              0.7777777777777778,
              "#fb9f3a"
             ],
             [
              0.8888888888888888,
              "#fdca26"
             ],
             [
              1,
              "#f0f921"
             ]
            ],
            "type": "histogram2dcontour"
           }
          ],
          "mesh3d": [
           {
            "colorbar": {
             "outlinewidth": 0,
             "ticks": ""
            },
            "type": "mesh3d"
           }
          ],
          "parcoords": [
           {
            "line": {
             "colorbar": {
              "outlinewidth": 0,
              "ticks": ""
             }
            },
            "type": "parcoords"
           }
          ],
          "pie": [
           {
            "automargin": true,
            "type": "pie"
           }
          ],
          "scatter": [
           {
            "fillpattern": {
             "fillmode": "overlay",
             "size": 10,
             "solidity": 0.2
            },
            "type": "scatter"
           }
          ],
          "scatter3d": [
           {
            "line": {
             "colorbar": {
              "outlinewidth": 0,
              "ticks": ""
             }
            },
            "marker": {
             "colorbar": {
              "outlinewidth": 0,
              "ticks": ""
             }
            },
            "type": "scatter3d"
           }
          ],
          "scattercarpet": [
           {
            "marker": {
             "colorbar": {
              "outlinewidth": 0,
              "ticks": ""
             }
            },
            "type": "scattercarpet"
           }
          ],
          "scattergeo": [
           {
            "marker": {
             "colorbar": {
              "outlinewidth": 0,
              "ticks": ""
             }
            },
            "type": "scattergeo"
           }
          ],
          "scattergl": [
           {
            "marker": {
             "colorbar": {
              "outlinewidth": 0,
              "ticks": ""
             }
            },
            "type": "scattergl"
           }
          ],
          "scattermap": [
           {
            "marker": {
             "colorbar": {
              "outlinewidth": 0,
              "ticks": ""
             }
            },
            "type": "scattermap"
           }
          ],
          "scattermapbox": [
           {
            "marker": {
             "colorbar": {
              "outlinewidth": 0,
              "ticks": ""
             }
            },
            "type": "scattermapbox"
           }
          ],
          "scatterpolar": [
           {
            "marker": {
             "colorbar": {
              "outlinewidth": 0,
              "ticks": ""
             }
            },
            "type": "scatterpolar"
           }
          ],
          "scatterpolargl": [
           {
            "marker": {
             "colorbar": {
              "outlinewidth": 0,
              "ticks": ""
             }
            },
            "type": "scatterpolargl"
           }
          ],
          "scatterternary": [
           {
            "marker": {
             "colorbar": {
              "outlinewidth": 0,
              "ticks": ""
             }
            },
            "type": "scatterternary"
           }
          ],
          "surface": [
           {
            "colorbar": {
             "outlinewidth": 0,
             "ticks": ""
            },
            "colorscale": [
             [
              0,
              "#0d0887"
             ],
             [
              0.1111111111111111,
              "#46039f"
             ],
             [
              0.2222222222222222,
              "#7201a8"
             ],
             [
              0.3333333333333333,
              "#9c179e"
             ],
             [
              0.4444444444444444,
              "#bd3786"
             ],
             [
              0.5555555555555556,
              "#d8576b"
             ],
             [
              0.6666666666666666,
              "#ed7953"
             ],
             [
              0.7777777777777778,
              "#fb9f3a"
             ],
             [
              0.8888888888888888,
              "#fdca26"
             ],
             [
              1,
              "#f0f921"
             ]
            ],
            "type": "surface"
           }
          ],
          "table": [
           {
            "cells": {
             "fill": {
              "color": "#EBF0F8"
             },
             "line": {
              "color": "white"
             }
            },
            "header": {
             "fill": {
              "color": "#C8D4E3"
             },
             "line": {
              "color": "white"
             }
            },
            "type": "table"
           }
          ]
         },
         "layout": {
          "annotationdefaults": {
           "arrowcolor": "#2a3f5f",
           "arrowhead": 0,
           "arrowwidth": 1
          },
          "autotypenumbers": "strict",
          "coloraxis": {
           "colorbar": {
            "outlinewidth": 0,
            "ticks": ""
           }
          },
          "colorscale": {
           "diverging": [
            [
             0,
             "#8e0152"
            ],
            [
             0.1,
             "#c51b7d"
            ],
            [
             0.2,
             "#de77ae"
            ],
            [
             0.3,
             "#f1b6da"
            ],
            [
             0.4,
             "#fde0ef"
            ],
            [
             0.5,
             "#f7f7f7"
            ],
            [
             0.6,
             "#e6f5d0"
            ],
            [
             0.7,
             "#b8e186"
            ],
            [
             0.8,
             "#7fbc41"
            ],
            [
             0.9,
             "#4d9221"
            ],
            [
             1,
             "#276419"
            ]
           ],
           "sequential": [
            [
             0,
             "#0d0887"
            ],
            [
             0.1111111111111111,
             "#46039f"
            ],
            [
             0.2222222222222222,
             "#7201a8"
            ],
            [
             0.3333333333333333,
             "#9c179e"
            ],
            [
             0.4444444444444444,
             "#bd3786"
            ],
            [
             0.5555555555555556,
             "#d8576b"
            ],
            [
             0.6666666666666666,
             "#ed7953"
            ],
            [
             0.7777777777777778,
             "#fb9f3a"
            ],
            [
             0.8888888888888888,
             "#fdca26"
            ],
            [
             1,
             "#f0f921"
            ]
           ],
           "sequentialminus": [
            [
             0,
             "#0d0887"
            ],
            [
             0.1111111111111111,
             "#46039f"
            ],
            [
             0.2222222222222222,
             "#7201a8"
            ],
            [
             0.3333333333333333,
             "#9c179e"
            ],
            [
             0.4444444444444444,
             "#bd3786"
            ],
            [
             0.5555555555555556,
             "#d8576b"
            ],
            [
             0.6666666666666666,
             "#ed7953"
            ],
            [
             0.7777777777777778,
             "#fb9f3a"
            ],
            [
             0.8888888888888888,
             "#fdca26"
            ],
            [
             1,
             "#f0f921"
            ]
           ]
          },
          "colorway": [
           "#636efa",
           "#EF553B",
           "#00cc96",
           "#ab63fa",
           "#FFA15A",
           "#19d3f3",
           "#FF6692",
           "#B6E880",
           "#FF97FF",
           "#FECB52"
          ],
          "font": {
           "color": "#2a3f5f"
          },
          "geo": {
           "bgcolor": "white",
           "lakecolor": "white",
           "landcolor": "#E5ECF6",
           "showlakes": true,
           "showland": true,
           "subunitcolor": "white"
          },
          "hoverlabel": {
           "align": "left"
          },
          "hovermode": "closest",
          "mapbox": {
           "style": "light"
          },
          "paper_bgcolor": "white",
          "plot_bgcolor": "#E5ECF6",
          "polar": {
           "angularaxis": {
            "gridcolor": "white",
            "linecolor": "white",
            "ticks": ""
           },
           "bgcolor": "#E5ECF6",
           "radialaxis": {
            "gridcolor": "white",
            "linecolor": "white",
            "ticks": ""
           }
          },
          "scene": {
           "xaxis": {
            "backgroundcolor": "#E5ECF6",
            "gridcolor": "white",
            "gridwidth": 2,
            "linecolor": "white",
            "showbackground": true,
            "ticks": "",
            "zerolinecolor": "white"
           },
           "yaxis": {
            "backgroundcolor": "#E5ECF6",
            "gridcolor": "white",
            "gridwidth": 2,
            "linecolor": "white",
            "showbackground": true,
            "ticks": "",
            "zerolinecolor": "white"
           },
           "zaxis": {
            "backgroundcolor": "#E5ECF6",
            "gridcolor": "white",
            "gridwidth": 2,
            "linecolor": "white",
            "showbackground": true,
            "ticks": "",
            "zerolinecolor": "white"
           }
          },
          "shapedefaults": {
           "line": {
            "color": "#2a3f5f"
           }
          },
          "ternary": {
           "aaxis": {
            "gridcolor": "white",
            "linecolor": "white",
            "ticks": ""
           },
           "baxis": {
            "gridcolor": "white",
            "linecolor": "white",
            "ticks": ""
           },
           "bgcolor": "#E5ECF6",
           "caxis": {
            "gridcolor": "white",
            "linecolor": "white",
            "ticks": ""
           }
          },
          "title": {
           "x": 0.05
          },
          "xaxis": {
           "automargin": true,
           "gridcolor": "white",
           "linecolor": "white",
           "ticks": "",
           "title": {
            "standoff": 15
           },
           "zerolinecolor": "white",
           "zerolinewidth": 2
          },
          "yaxis": {
           "automargin": true,
           "gridcolor": "white",
           "linecolor": "white",
           "ticks": "",
           "title": {
            "standoff": 15
           },
           "zerolinecolor": "white",
           "zerolinewidth": 2
          }
         }
        },
        "title": {
         "text": "Average Vessel Size and Average Hours at Berth for Seattle, WA"
        },
        "width": 800
       }
      }
     },
     "metadata": {},
     "output_type": "display_data"
    }
   ],
   "source": [
    "plot_mapbox(\n",
    "    df=docks_df,\n",
    "    lat_col='dock_lat',\n",
    "    lon_col='dock_lon',\n",
    "    size_col='vessel_size_mean',\n",
    "    color_col='hrs_at_berth_mean',\n",
    "    #symbol='facility_type', #NOTE not working; needs to be dock type (container terminal, bulk terminal, etc)\n",
    "    size_max=20,\n",
    "    title=f'Average Vessel Size and Average Hours at Berth for {port_name}',\n",
    "    hover_name='dock_name',\n",
    "    hover_data={'dock_name': True, 'vessel_size_mean': True},\n",
    "    mapbox_style='carto-positron',\n",
    "    color_outlier_z=1,\n",
    "    labels={\n",
    "        'vessel_size_median': 'Median Vessel Size (ft)',\n",
    "        'hrs_at_berth_median': 'Median Hours at Berth'\n",
    "    },\n",
    ")"
   ]
  },
  {
   "cell_type": "code",
   "execution_count": 17,
   "metadata": {},
   "outputs": [
    {
     "name": "stderr",
     "output_type": "stream",
     "text": [
      "/var/folders/dc/sgfd2dls28n4y4v4_jw03ly40000gp/T/ipykernel_21890/2840294651.py:2: DeprecationWarning:\n",
      "\n",
      "*scatter_mapbox* is deprecated! Use *scatter_map* instead. Learn more at: https://plotly.com/python/mapbox-to-maplibre/\n",
      "\n"
     ]
    },
    {
     "data": {
      "application/vnd.plotly.v1+json": {
       "config": {
        "plotlyServerURL": "https://plot.ly"
       },
       "data": [
        {
         "hovertemplate": "<b>%{hovertext}</b><br><br>vessel_size_mean=%{marker.size}<br>dock_lat=%{lat}<br>dock_lon=%{lon}<br>Mean Hours at Berth=%{marker.color}<extra></extra>",
         "hovertext": [
          "ELLIOTT BAY GENERAL ANCHORAGE",
          "U. S. COAST GUARD, PIER 35",
          "TRANS PACIFIC CONTAINER SERVICE CORP., TERMINAL 30 WHARF",
          "CRANE DOCK PIER 20",
          "S S A TERMINALS, TERMINAL 18, BERTHS 2-6",
          "TODD PACIFIC SHIPYARDS CORP., BERTHS F-K, PIERS NO. 4-6",
          "Birmingham Steel Corp., Terminal 105, Berth No. 2.",
          "B P OIL CO., SEATTLE TERMINAL, PIER NO. 11",
          "SSA TERMINALS, TERMINAL 37 WHARF",
          "PACIFIC TERMINALS LTD., WHARVES",
          "SSA TERMINALS, TERMINAL 18, BERTH 7",
          "BIRMINGHAM STEEL CORP., TERMINAL 105, BERTH NO. 1",
          "SSA TERMINALS, TERMINAL 25 WHARF",
          "OPEN WATER-BUOYS & DOLPHINS",
          "TOTAL TERMINALS, TERMINAL 46 WHARF",
          "PIER 34",
          "TERMINAL 5 SEATTLE, SSA MARINE",
          "CROWLEY MARITIME, TERMINAL 28 WHARF"
         ],
         "lat": {
          "bdata": "ZDyDhv7LR0BwaafmcstHQFY3UOCdykdA2xIro5HJR0AOLev+scpHQIhe8dQjy0dARnQIHAnIR0DD9Shcj8pHQGT8NO7Ny0dAZETbMXXJR0DT7lcBvslHQLwehetRyEdAKIKq0avJR0AyCFdAocpHQCzNkZVfzEdAiZwwYTTLR0DSzw1N2clHQItStHIvykdA",
          "dtype": "f8"
         },
         "legendgroup": "",
         "lon": {
          "bdata": "lIAKR5CWXsAeufyH9JVewEa0q5DylV7AXTklICaWXsC3zD/6JpZewMVztoDQll7As0NRoE+WXsAry/Pg7pZewGW4HoXrlV7AJczR4/eWXsBo/iYUIpZewIqOxwxUll7AHrn8h/SVXsArjnVxG5dewL6VCb/UlV7AbQlrY+yVXsBNW5TZIJdewL+Ee2XelV7A",
          "dtype": "f8"
         },
         "marker": {
          "color": {
           "bdata": "zMzMzMwMMECf7dme7RlNQDmmRy5TAz5AaS+hvYSWTkBS0mxvqv5HQDMzMzMzM0ZAl2/5lm8xYEAiIiIiIiIyQNOsyRHGyEZAmpmZmZkZNED29fX19RU7QIiIiIiIjGdAiYiIiIj8YUBnZmZmZkBQQCz5xZJfSENALclWUSDDSUDY4tFXTzJHQDMzMzMz8zJA",
           "dtype": "f8"
          },
          "coloraxis": "coloraxis",
          "size": {
           "bdata": "AAAAAADgaEA7sRM7sTNsQLbf0Stje3BA5DiO4zgOZEDEsn7iDThzQAAAAAAAYGxAFDuxEzsRZUAAAAAAAOBmQB1ItMLmgHJAAAAAAABgcEBpaWlpaalpQAAAAAAA4GNAAAAAAABgcEAAAAAAAEpyQGZmZmZmInNA5QpicgWlckB9uj5dny5xQAAAAAAAcG9A",
           "dtype": "f8"
          },
          "sizemode": "area",
          "sizeref": 0.7687584745762712
         },
         "mode": "markers",
         "name": "",
         "showlegend": false,
         "subplot": "mapbox",
         "type": "scattermapbox"
        }
       ],
       "layout": {
        "annotations": [
         {
          "align": "left",
          "font": {
           "color": "black",
           "size": 13
          },
          "showarrow": false,
          "text": "Circle size corresponds to mean vessel length",
          "x": 0,
          "xref": "paper",
          "y": -0.05,
          "yref": "paper"
         }
        ],
        "coloraxis": {
         "colorbar": {
          "title": {
           "text": "Mean Hours at Berth"
          }
         },
         "colorscale": [
          [
           0,
           "#440154"
          ],
          [
           0.1111111111111111,
           "#482878"
          ],
          [
           0.2222222222222222,
           "#3e4989"
          ],
          [
           0.3333333333333333,
           "#31688e"
          ],
          [
           0.4444444444444444,
           "#26828e"
          ],
          [
           0.5555555555555556,
           "#1f9e89"
          ],
          [
           0.6666666666666666,
           "#35b779"
          ],
          [
           0.7777777777777778,
           "#6ece58"
          ],
          [
           0.8888888888888888,
           "#b5de2b"
          ],
          [
           1,
           "#fde725"
          ]
         ]
        },
        "height": 600,
        "legend": {
         "itemsizing": "constant",
         "tracegroupgap": 0
        },
        "mapbox": {
         "center": {
          "lat": 47.581292166666714,
          "lon": -122.34894944444439
         },
         "domain": {
          "x": [
           0,
           1
          ],
          "y": [
           0,
           1
          ]
         },
         "style": "carto-positron",
         "zoom": 11.883039123510514
        },
        "template": {
         "data": {
          "bar": [
           {
            "error_x": {
             "color": "#2a3f5f"
            },
            "error_y": {
             "color": "#2a3f5f"
            },
            "marker": {
             "line": {
              "color": "#E5ECF6",
              "width": 0.5
             },
             "pattern": {
              "fillmode": "overlay",
              "size": 10,
              "solidity": 0.2
             }
            },
            "type": "bar"
           }
          ],
          "barpolar": [
           {
            "marker": {
             "line": {
              "color": "#E5ECF6",
              "width": 0.5
             },
             "pattern": {
              "fillmode": "overlay",
              "size": 10,
              "solidity": 0.2
             }
            },
            "type": "barpolar"
           }
          ],
          "carpet": [
           {
            "aaxis": {
             "endlinecolor": "#2a3f5f",
             "gridcolor": "white",
             "linecolor": "white",
             "minorgridcolor": "white",
             "startlinecolor": "#2a3f5f"
            },
            "baxis": {
             "endlinecolor": "#2a3f5f",
             "gridcolor": "white",
             "linecolor": "white",
             "minorgridcolor": "white",
             "startlinecolor": "#2a3f5f"
            },
            "type": "carpet"
           }
          ],
          "choropleth": [
           {
            "colorbar": {
             "outlinewidth": 0,
             "ticks": ""
            },
            "type": "choropleth"
           }
          ],
          "contour": [
           {
            "colorbar": {
             "outlinewidth": 0,
             "ticks": ""
            },
            "colorscale": [
             [
              0,
              "#0d0887"
             ],
             [
              0.1111111111111111,
              "#46039f"
             ],
             [
              0.2222222222222222,
              "#7201a8"
             ],
             [
              0.3333333333333333,
              "#9c179e"
             ],
             [
              0.4444444444444444,
              "#bd3786"
             ],
             [
              0.5555555555555556,
              "#d8576b"
             ],
             [
              0.6666666666666666,
              "#ed7953"
             ],
             [
              0.7777777777777778,
              "#fb9f3a"
             ],
             [
              0.8888888888888888,
              "#fdca26"
             ],
             [
              1,
              "#f0f921"
             ]
            ],
            "type": "contour"
           }
          ],
          "contourcarpet": [
           {
            "colorbar": {
             "outlinewidth": 0,
             "ticks": ""
            },
            "type": "contourcarpet"
           }
          ],
          "heatmap": [
           {
            "colorbar": {
             "outlinewidth": 0,
             "ticks": ""
            },
            "colorscale": [
             [
              0,
              "#0d0887"
             ],
             [
              0.1111111111111111,
              "#46039f"
             ],
             [
              0.2222222222222222,
              "#7201a8"
             ],
             [
              0.3333333333333333,
              "#9c179e"
             ],
             [
              0.4444444444444444,
              "#bd3786"
             ],
             [
              0.5555555555555556,
              "#d8576b"
             ],
             [
              0.6666666666666666,
              "#ed7953"
             ],
             [
              0.7777777777777778,
              "#fb9f3a"
             ],
             [
              0.8888888888888888,
              "#fdca26"
             ],
             [
              1,
              "#f0f921"
             ]
            ],
            "type": "heatmap"
           }
          ],
          "histogram": [
           {
            "marker": {
             "pattern": {
              "fillmode": "overlay",
              "size": 10,
              "solidity": 0.2
             }
            },
            "type": "histogram"
           }
          ],
          "histogram2d": [
           {
            "colorbar": {
             "outlinewidth": 0,
             "ticks": ""
            },
            "colorscale": [
             [
              0,
              "#0d0887"
             ],
             [
              0.1111111111111111,
              "#46039f"
             ],
             [
              0.2222222222222222,
              "#7201a8"
             ],
             [
              0.3333333333333333,
              "#9c179e"
             ],
             [
              0.4444444444444444,
              "#bd3786"
             ],
             [
              0.5555555555555556,
              "#d8576b"
             ],
             [
              0.6666666666666666,
              "#ed7953"
             ],
             [
              0.7777777777777778,
              "#fb9f3a"
             ],
             [
              0.8888888888888888,
              "#fdca26"
             ],
             [
              1,
              "#f0f921"
             ]
            ],
            "type": "histogram2d"
           }
          ],
          "histogram2dcontour": [
           {
            "colorbar": {
             "outlinewidth": 0,
             "ticks": ""
            },
            "colorscale": [
             [
              0,
              "#0d0887"
             ],
             [
              0.1111111111111111,
              "#46039f"
             ],
             [
              0.2222222222222222,
              "#7201a8"
             ],
             [
              0.3333333333333333,
              "#9c179e"
             ],
             [
              0.4444444444444444,
              "#bd3786"
             ],
             [
              0.5555555555555556,
              "#d8576b"
             ],
             [
              0.6666666666666666,
              "#ed7953"
             ],
             [
              0.7777777777777778,
              "#fb9f3a"
             ],
             [
              0.8888888888888888,
              "#fdca26"
             ],
             [
              1,
              "#f0f921"
             ]
            ],
            "type": "histogram2dcontour"
           }
          ],
          "mesh3d": [
           {
            "colorbar": {
             "outlinewidth": 0,
             "ticks": ""
            },
            "type": "mesh3d"
           }
          ],
          "parcoords": [
           {
            "line": {
             "colorbar": {
              "outlinewidth": 0,
              "ticks": ""
             }
            },
            "type": "parcoords"
           }
          ],
          "pie": [
           {
            "automargin": true,
            "type": "pie"
           }
          ],
          "scatter": [
           {
            "fillpattern": {
             "fillmode": "overlay",
             "size": 10,
             "solidity": 0.2
            },
            "type": "scatter"
           }
          ],
          "scatter3d": [
           {
            "line": {
             "colorbar": {
              "outlinewidth": 0,
              "ticks": ""
             }
            },
            "marker": {
             "colorbar": {
              "outlinewidth": 0,
              "ticks": ""
             }
            },
            "type": "scatter3d"
           }
          ],
          "scattercarpet": [
           {
            "marker": {
             "colorbar": {
              "outlinewidth": 0,
              "ticks": ""
             }
            },
            "type": "scattercarpet"
           }
          ],
          "scattergeo": [
           {
            "marker": {
             "colorbar": {
              "outlinewidth": 0,
              "ticks": ""
             }
            },
            "type": "scattergeo"
           }
          ],
          "scattergl": [
           {
            "marker": {
             "colorbar": {
              "outlinewidth": 0,
              "ticks": ""
             }
            },
            "type": "scattergl"
           }
          ],
          "scattermap": [
           {
            "marker": {
             "colorbar": {
              "outlinewidth": 0,
              "ticks": ""
             }
            },
            "type": "scattermap"
           }
          ],
          "scattermapbox": [
           {
            "marker": {
             "colorbar": {
              "outlinewidth": 0,
              "ticks": ""
             }
            },
            "type": "scattermapbox"
           }
          ],
          "scatterpolar": [
           {
            "marker": {
             "colorbar": {
              "outlinewidth": 0,
              "ticks": ""
             }
            },
            "type": "scatterpolar"
           }
          ],
          "scatterpolargl": [
           {
            "marker": {
             "colorbar": {
              "outlinewidth": 0,
              "ticks": ""
             }
            },
            "type": "scatterpolargl"
           }
          ],
          "scatterternary": [
           {
            "marker": {
             "colorbar": {
              "outlinewidth": 0,
              "ticks": ""
             }
            },
            "type": "scatterternary"
           }
          ],
          "surface": [
           {
            "colorbar": {
             "outlinewidth": 0,
             "ticks": ""
            },
            "colorscale": [
             [
              0,
              "#0d0887"
             ],
             [
              0.1111111111111111,
              "#46039f"
             ],
             [
              0.2222222222222222,
              "#7201a8"
             ],
             [
              0.3333333333333333,
              "#9c179e"
             ],
             [
              0.4444444444444444,
              "#bd3786"
             ],
             [
              0.5555555555555556,
              "#d8576b"
             ],
             [
              0.6666666666666666,
              "#ed7953"
             ],
             [
              0.7777777777777778,
              "#fb9f3a"
             ],
             [
              0.8888888888888888,
              "#fdca26"
             ],
             [
              1,
              "#f0f921"
             ]
            ],
            "type": "surface"
           }
          ],
          "table": [
           {
            "cells": {
             "fill": {
              "color": "#EBF0F8"
             },
             "line": {
              "color": "white"
             }
            },
            "header": {
             "fill": {
              "color": "#C8D4E3"
             },
             "line": {
              "color": "white"
             }
            },
            "type": "table"
           }
          ]
         },
         "layout": {
          "annotationdefaults": {
           "arrowcolor": "#2a3f5f",
           "arrowhead": 0,
           "arrowwidth": 1
          },
          "autotypenumbers": "strict",
          "coloraxis": {
           "colorbar": {
            "outlinewidth": 0,
            "ticks": ""
           }
          },
          "colorscale": {
           "diverging": [
            [
             0,
             "#8e0152"
            ],
            [
             0.1,
             "#c51b7d"
            ],
            [
             0.2,
             "#de77ae"
            ],
            [
             0.3,
             "#f1b6da"
            ],
            [
             0.4,
             "#fde0ef"
            ],
            [
             0.5,
             "#f7f7f7"
            ],
            [
             0.6,
             "#e6f5d0"
            ],
            [
             0.7,
             "#b8e186"
            ],
            [
             0.8,
             "#7fbc41"
            ],
            [
             0.9,
             "#4d9221"
            ],
            [
             1,
             "#276419"
            ]
           ],
           "sequential": [
            [
             0,
             "#0d0887"
            ],
            [
             0.1111111111111111,
             "#46039f"
            ],
            [
             0.2222222222222222,
             "#7201a8"
            ],
            [
             0.3333333333333333,
             "#9c179e"
            ],
            [
             0.4444444444444444,
             "#bd3786"
            ],
            [
             0.5555555555555556,
             "#d8576b"
            ],
            [
             0.6666666666666666,
             "#ed7953"
            ],
            [
             0.7777777777777778,
             "#fb9f3a"
            ],
            [
             0.8888888888888888,
             "#fdca26"
            ],
            [
             1,
             "#f0f921"
            ]
           ],
           "sequentialminus": [
            [
             0,
             "#0d0887"
            ],
            [
             0.1111111111111111,
             "#46039f"
            ],
            [
             0.2222222222222222,
             "#7201a8"
            ],
            [
             0.3333333333333333,
             "#9c179e"
            ],
            [
             0.4444444444444444,
             "#bd3786"
            ],
            [
             0.5555555555555556,
             "#d8576b"
            ],
            [
             0.6666666666666666,
             "#ed7953"
            ],
            [
             0.7777777777777778,
             "#fb9f3a"
            ],
            [
             0.8888888888888888,
             "#fdca26"
            ],
            [
             1,
             "#f0f921"
            ]
           ]
          },
          "colorway": [
           "#636efa",
           "#EF553B",
           "#00cc96",
           "#ab63fa",
           "#FFA15A",
           "#19d3f3",
           "#FF6692",
           "#B6E880",
           "#FF97FF",
           "#FECB52"
          ],
          "font": {
           "color": "#2a3f5f"
          },
          "geo": {
           "bgcolor": "white",
           "lakecolor": "white",
           "landcolor": "#E5ECF6",
           "showlakes": true,
           "showland": true,
           "subunitcolor": "white"
          },
          "hoverlabel": {
           "align": "left"
          },
          "hovermode": "closest",
          "mapbox": {
           "style": "light"
          },
          "paper_bgcolor": "white",
          "plot_bgcolor": "#E5ECF6",
          "polar": {
           "angularaxis": {
            "gridcolor": "white",
            "linecolor": "white",
            "ticks": ""
           },
           "bgcolor": "#E5ECF6",
           "radialaxis": {
            "gridcolor": "white",
            "linecolor": "white",
            "ticks": ""
           }
          },
          "scene": {
           "xaxis": {
            "backgroundcolor": "#E5ECF6",
            "gridcolor": "white",
            "gridwidth": 2,
            "linecolor": "white",
            "showbackground": true,
            "ticks": "",
            "zerolinecolor": "white"
           },
           "yaxis": {
            "backgroundcolor": "#E5ECF6",
            "gridcolor": "white",
            "gridwidth": 2,
            "linecolor": "white",
            "showbackground": true,
            "ticks": "",
            "zerolinecolor": "white"
           },
           "zaxis": {
            "backgroundcolor": "#E5ECF6",
            "gridcolor": "white",
            "gridwidth": 2,
            "linecolor": "white",
            "showbackground": true,
            "ticks": "",
            "zerolinecolor": "white"
           }
          },
          "shapedefaults": {
           "line": {
            "color": "#2a3f5f"
           }
          },
          "ternary": {
           "aaxis": {
            "gridcolor": "white",
            "linecolor": "white",
            "ticks": ""
           },
           "baxis": {
            "gridcolor": "white",
            "linecolor": "white",
            "ticks": ""
           },
           "bgcolor": "#E5ECF6",
           "caxis": {
            "gridcolor": "white",
            "linecolor": "white",
            "ticks": ""
           }
          },
          "title": {
           "x": 0.05
          },
          "xaxis": {
           "automargin": true,
           "gridcolor": "white",
           "linecolor": "white",
           "ticks": "",
           "title": {
            "standoff": 15
           },
           "zerolinecolor": "white",
           "zerolinewidth": 2
          },
          "yaxis": {
           "automargin": true,
           "gridcolor": "white",
           "linecolor": "white",
           "ticks": "",
           "title": {
            "standoff": 15
           },
           "zerolinecolor": "white",
           "zerolinewidth": 2
          }
         }
        },
        "title": {
         "text": "Vessel Size & Hours at Berth"
        },
        "width": 800
       }
      }
     },
     "metadata": {},
     "output_type": "display_data"
    }
   ],
   "source": [
    "\n",
    "# seattle mapbox\n",
    "fig_seattle = px.scatter_mapbox(\n",
    "    docks_df,\n",
    "    lon='dock_lon',\n",
    "    lat='dock_lat',\n",
    "    size='vessel_size_mean',\n",
    "    color='hrs_at_berth_mean',\n",
    "    hover_name='dock_name',\n",
    "    #size_max=20,\n",
    "    title='Vessel Size & Hours at Berth',\n",
    "    color_continuous_scale=px.colors.sequential.Viridis,\n",
    "    labels={'hrs_at_berth_mean': 'Mean Hours at Berth'},\n",
    "    height=600, width=800\n",
    ")\n",
    "\n",
    "# Set Mapbox style\n",
    "fig_seattle.update_layout(\n",
    "    mapbox_style=\"carto-positron\", \n",
    "    mapbox_zoom=mapbox_zoom_finder(docks_df['dock_lon'], docks_df['dock_lat']),\n",
    "    mapbox_center={\"lat\": docks_df['dock_lat'].mean(), \n",
    "                   \"lon\": docks_df['dock_lon'].mean()},\n",
    ")\n",
    "\n",
    "# Add footnote using add_annotation\n",
    "fig_seattle.add_annotation(\n",
    "    text=\"Circle size corresponds to mean vessel length\",\n",
    "    xref=\"paper\", yref=\"paper\",\n",
    "    x=0, y=-0.05,\n",
    "    showarrow=False,\n",
    "    font=dict(size=13, color=\"black\"),\n",
    "    align=\"left\"\n",
    ")\n",
    "\n",
    "fig_seattle.show()"
   ]
  },
  {
   "cell_type": "markdown",
   "metadata": {},
   "source": [
    "## Point in Time Stats\n",
    "\n",
    "Still under development"
   ]
  },
  {
   "cell_type": "code",
   "execution_count": 18,
   "metadata": {},
   "outputs": [],
   "source": [
    "#get point in time stats\n",
    "\n",
    "#create point in time (pit) df to join stats to\n",
    "pit_df = (\n",
    "    main_lf\n",
    "    .with_columns(\n",
    "        date = pl.col('time').dt.date(),\n",
    "        month = pl.col('time').dt.strftime('%Y%m')\n",
    "    )\n",
    "    .select('port_name', 'dock_id', 'month', 'date')\n",
    "    .unique().collect()\n",
    ")\n",
    "\n",
    "for hour in range(0, 24):\n",
    "    #create a time object for each hour\n",
    "    hour_dt = pl.time(hour)\n",
    "    #create a dataframe for each hour\n",
    "    hour_df = (\n",
    "        main_lf\n",
    "        .with_columns(\n",
    "            #get end of status time\n",
    "            end_time = pl.col('time') + pl.col('status_duration'),\n",
    "            #get date from time\n",
    "            date = pl.col('time').dt.date(),\n",
    "            #get month from time\n",
    "            month = pl.col('time').dt.strftime('%Y%m')\n",
    "        )\n",
    "        #group by port dock and hour\n",
    "        .group_by(['port_name', 'dock_id', 'month', 'date'])\n",
    "        .agg(\n",
    "            #number of vessels at dock at each hour\n",
    "            vessels_at_dock = (\n",
    "                #when moored at hour\n",
    "                pl.when((pl.col('status')==5) & \n",
    "                        (hour_dt.is_between(pl.col('time').dt.time(), \n",
    "                                         pl.col('end_time').dt.time())))\n",
    "                #then count the individual vessels\n",
    "                .then(pl.col('imo'))\n",
    "                .otherwise(pl.lit(None))\n",
    "                .drop_nulls() #n_unique counts nulls as unique values\n",
    "                .n_unique()\n",
    "            ),\n",
    "            #number of vessels at anchor at each hour\n",
    "            vessels_at_anchor = (\n",
    "                #when anchored at hour\n",
    "                pl.when((pl.col('status')==1) & \n",
    "                        (hour_dt.is_between(pl.col('time').dt.time(), \n",
    "                                        pl.col('end_time').dt.time())))\n",
    "                #then count the individual vessels\n",
    "                .then(pl.col('imo'))\n",
    "                .otherwise(pl.lit(None))\n",
    "                .drop_nulls()\n",
    "                .n_unique()\n",
    "            )\n",
    "        )\n",
    "        .collect()\n",
    "    )\n",
    "    #join the hour dataframe to the main pit dataframe\n",
    "    pit_df = (\n",
    "        pit_df\n",
    "        .join(hour_df, \n",
    "              on=['port_name', 'dock_id', 'month', 'date'], \n",
    "              how='left')\n",
    "        #rename the columns to include the hour\n",
    "        .rename({\n",
    "            'vessels_at_dock': f'vessels_at_dock_{hour}',\n",
    "            'vessels_at_anchor': f'vessels_at_anchor_{hour}'\n",
    "        })\n",
    "    )\n",
    "\n",
    "#get port stats by month\n",
    "pit_df = (\n",
    "    pit_df\n",
    "    #group by port and date\n",
    "    .group_by(['port_name', 'month', 'date'])\n",
    "    .agg(\n",
    "        #sum the number of vessels at all docks at each hour\n",
    "        cs.starts_with('vessels_at_dock_').sum(),\n",
    "        #sum the number of vessels at anchor at each hour\n",
    "        cs.starts_with('vessels_at_anchor_').sum()\n",
    "    )\n",
    "    #get the max at any hour\n",
    "    .with_columns(\n",
    "        #get max at dock at any hour\n",
    "        vessels_at_dock_max = (\n",
    "            pl.max_horizontal(cs.starts_with('vessels_at_dock_'))\n",
    "        ),\n",
    "        #get mean at dock any hour\n",
    "        vessels_at_dock_mean = (\n",
    "            pl.mean_horizontal(cs.starts_with('vessels_at_dock_'))\n",
    "        ),\n",
    "        #get max at anchor at any hour\n",
    "        vessels_at_anchor_max = (\n",
    "            pl.max_horizontal(cs.starts_with('vessels_at_anchor_'))\n",
    "        ),\n",
    "        #get mean at anchor any hour\n",
    "        vessels_at_anchor_mean = (\n",
    "            pl.mean_horizontal(cs.starts_with('vessels_at_anchor_'))\n",
    "        )\n",
    "    )\n",
    "    #select the columns to keep\n",
    "    .select(['port_name', 'month', 'date', 'vessels_at_dock_max', \n",
    "             'vessels_at_dock_mean', 'vessels_at_anchor_max',\n",
    "             'vessels_at_anchor_mean'])\n",
    "    #aggregate by month\n",
    "    .group_by(['port_name', 'month'])\n",
    "    .agg(\n",
    "        #get max at anchor on any date during that month\n",
    "        vessels_at_anchor_max = pl.max('vessels_at_anchor_max'),\n",
    "        #get mean at anchor on any date during that month\n",
    "        vessels_at_anchor_mean = pl.mean('vessels_at_anchor_mean'),\n",
    "        #get max at dock on any date during that month\n",
    "        vessels_at_dock_max = pl.max('vessels_at_dock_max'),\n",
    "        #get mean at dock on any date during that month\n",
    "        vessels_at_dock_mean = pl.mean('vessels_at_dock_mean'\n",
    "        )\n",
    "    )\n",
    ")"
   ]
  },
  {
   "cell_type": "code",
   "execution_count": 19,
   "metadata": {},
   "outputs": [
    {
     "data": {
      "text/html": [
       "<div><style>\n",
       ".dataframe > thead > tr,\n",
       ".dataframe > tbody > tr {\n",
       "  text-align: right;\n",
       "  white-space: pre-wrap;\n",
       "}\n",
       "</style>\n",
       "<small>shape: (9, 7)</small><table border=\"1\" class=\"dataframe\"><thead><tr><th>statistic</th><th>port_name</th><th>month</th><th>vessels_at_anchor_max</th><th>vessels_at_anchor_mean</th><th>vessels_at_dock_max</th><th>vessels_at_dock_mean</th></tr><tr><td>str</td><td>str</td><td>str</td><td>f64</td><td>f64</td><td>f64</td><td>f64</td></tr></thead><tbody><tr><td>&quot;count&quot;</td><td>&quot;5393&quot;</td><td>&quot;5393&quot;</td><td>5393.0</td><td>5393.0</td><td>5393.0</td><td>5393.0</td></tr><tr><td>&quot;null_count&quot;</td><td>&quot;0&quot;</td><td>&quot;0&quot;</td><td>0.0</td><td>0.0</td><td>0.0</td><td>0.0</td></tr><tr><td>&quot;mean&quot;</td><td>null</td><td>null</td><td>0.788615</td><td>0.047081</td><td>2.600223</td><td>0.494654</td></tr><tr><td>&quot;std&quot;</td><td>null</td><td>null</td><td>0.806481</td><td>0.086936</td><td>1.772067</td><td>0.477951</td></tr><tr><td>&quot;min&quot;</td><td>&quot;Albany Port District, NY&quot;</td><td>&quot;201801&quot;</td><td>0.0</td><td>0.0</td><td>0.0</td><td>0.0</td></tr><tr><td>&quot;25%&quot;</td><td>null</td><td>null</td><td>0.0</td><td>0.0</td><td>1.0</td><td>0.194444</td></tr><tr><td>&quot;50%&quot;</td><td>null</td><td>null</td><td>1.0</td><td>0.013889</td><td>2.0</td><td>0.349702</td></tr><tr><td>&quot;75%&quot;</td><td>null</td><td>null</td><td>1.0</td><td>0.056818</td><td>3.0</td><td>0.609195</td></tr><tr><td>&quot;max&quot;</td><td>&quot;Wilmington, NC&quot;</td><td>&quot;202412&quot;</td><td>6.0</td><td>0.951389</td><td>12.0</td><td>3.938889</td></tr></tbody></table></div>"
      ],
      "text/plain": [
       "shape: (9, 7)\n",
       "┌────────────┬───────────────┬────────┬───────────────┬──────────────┬──────────────┬──────────────┐\n",
       "│ statistic  ┆ port_name     ┆ month  ┆ vessels_at_an ┆ vessels_at_a ┆ vessels_at_d ┆ vessels_at_d │\n",
       "│ ---        ┆ ---           ┆ ---    ┆ chor_max      ┆ nchor_mean   ┆ ock_max      ┆ ock_mean     │\n",
       "│ str        ┆ str           ┆ str    ┆ ---           ┆ ---          ┆ ---          ┆ ---          │\n",
       "│            ┆               ┆        ┆ f64           ┆ f64          ┆ f64          ┆ f64          │\n",
       "╞════════════╪═══════════════╪════════╪═══════════════╪══════════════╪══════════════╪══════════════╡\n",
       "│ count      ┆ 5393          ┆ 5393   ┆ 5393.0        ┆ 5393.0       ┆ 5393.0       ┆ 5393.0       │\n",
       "│ null_count ┆ 0             ┆ 0      ┆ 0.0           ┆ 0.0          ┆ 0.0          ┆ 0.0          │\n",
       "│ mean       ┆ null          ┆ null   ┆ 0.788615      ┆ 0.047081     ┆ 2.600223     ┆ 0.494654     │\n",
       "│ std        ┆ null          ┆ null   ┆ 0.806481      ┆ 0.086936     ┆ 1.772067     ┆ 0.477951     │\n",
       "│ min        ┆ Albany Port   ┆ 201801 ┆ 0.0           ┆ 0.0          ┆ 0.0          ┆ 0.0          │\n",
       "│            ┆ District, NY  ┆        ┆               ┆              ┆              ┆              │\n",
       "│ 25%        ┆ null          ┆ null   ┆ 0.0           ┆ 0.0          ┆ 1.0          ┆ 0.194444     │\n",
       "│ 50%        ┆ null          ┆ null   ┆ 1.0           ┆ 0.013889     ┆ 2.0          ┆ 0.349702     │\n",
       "│ 75%        ┆ null          ┆ null   ┆ 1.0           ┆ 0.056818     ┆ 3.0          ┆ 0.609195     │\n",
       "│ max        ┆ Wilmington,   ┆ 202412 ┆ 6.0           ┆ 0.951389     ┆ 12.0         ┆ 3.938889     │\n",
       "│            ┆ NC            ┆        ┆               ┆              ┆              ┆              │\n",
       "└────────────┴───────────────┴────────┴───────────────┴──────────────┴──────────────┴──────────────┘"
      ]
     },
     "metadata": {},
     "output_type": "display_data"
    },
    {
     "data": {
      "text/html": [
       "<div><style>\n",
       ".dataframe > thead > tr,\n",
       ".dataframe > tbody > tr {\n",
       "  text-align: right;\n",
       "  white-space: pre-wrap;\n",
       "}\n",
       "</style>\n",
       "<small>shape: (5, 6)</small><table border=\"1\" class=\"dataframe\"><thead><tr><th>port_name</th><th>month</th><th>vessels_at_anchor_max</th><th>vessels_at_anchor_mean</th><th>vessels_at_dock_max</th><th>vessels_at_dock_mean</th></tr><tr><td>str</td><td>str</td><td>u32</td><td>f64</td><td>u32</td><td>f64</td></tr></thead><tbody><tr><td>&quot;Port of Palm Beach District, F…</td><td>&quot;202305&quot;</td><td>1</td><td>0.023611</td><td>3</td><td>0.295833</td></tr><tr><td>&quot;Baltimore, MD&quot;</td><td>&quot;201810&quot;</td><td>2</td><td>0.149194</td><td>6</td><td>1.198925</td></tr><tr><td>&quot;Port of Brunswick, GA&quot;</td><td>&quot;202104&quot;</td><td>0</td><td>0.0</td><td>3</td><td>0.630747</td></tr><tr><td>&quot;Port of Savannah, GA&quot;</td><td>&quot;201805&quot;</td><td>1</td><td>0.033602</td><td>5</td><td>0.991935</td></tr><tr><td>&quot;Texas City, TX&quot;</td><td>&quot;202302&quot;</td><td>0</td><td>0.0</td><td>4</td><td>0.60119</td></tr></tbody></table></div>"
      ],
      "text/plain": [
       "shape: (5, 6)\n",
       "┌─────────────────┬────────┬─────────────────┬─────────────────┬─────────────────┬─────────────────┐\n",
       "│ port_name       ┆ month  ┆ vessels_at_anch ┆ vessels_at_anch ┆ vessels_at_dock ┆ vessels_at_dock │\n",
       "│ ---             ┆ ---    ┆ or_max          ┆ or_mean         ┆ _max            ┆ _mean           │\n",
       "│ str             ┆ str    ┆ ---             ┆ ---             ┆ ---             ┆ ---             │\n",
       "│                 ┆        ┆ u32             ┆ f64             ┆ u32             ┆ f64             │\n",
       "╞═════════════════╪════════╪═════════════════╪═════════════════╪═════════════════╪═════════════════╡\n",
       "│ Port of Palm    ┆ 202305 ┆ 1               ┆ 0.023611        ┆ 3               ┆ 0.295833        │\n",
       "│ Beach District, ┆        ┆                 ┆                 ┆                 ┆                 │\n",
       "│ F…              ┆        ┆                 ┆                 ┆                 ┆                 │\n",
       "│ Baltimore, MD   ┆ 201810 ┆ 2               ┆ 0.149194        ┆ 6               ┆ 1.198925        │\n",
       "│ Port of         ┆ 202104 ┆ 0               ┆ 0.0             ┆ 3               ┆ 0.630747        │\n",
       "│ Brunswick, GA   ┆        ┆                 ┆                 ┆                 ┆                 │\n",
       "│ Port of         ┆ 201805 ┆ 1               ┆ 0.033602        ┆ 5               ┆ 0.991935        │\n",
       "│ Savannah, GA    ┆        ┆                 ┆                 ┆                 ┆                 │\n",
       "│ Texas City, TX  ┆ 202302 ┆ 0               ┆ 0.0             ┆ 4               ┆ 0.60119         │\n",
       "└─────────────────┴────────┴─────────────────┴─────────────────┴─────────────────┴─────────────────┘"
      ]
     },
     "execution_count": 19,
     "metadata": {},
     "output_type": "execute_result"
    }
   ],
   "source": [
    "#inspect\n",
    "display(pit_df.describe())\n",
    "pit_df.head()"
   ]
  },
  {
   "cell_type": "markdown",
   "metadata": {},
   "source": [
    "### Max/Mean stats for vessels_at_dock \n",
    "\n",
    "- Current output seems far too low - e.g. Port of LA shows a max of 11 vessels at dock at any time since 2018; since there are 37 docks at LA we expect a max in the 20s or higher. "
   ]
  }
 ],
 "metadata": {
  "kernelspec": {
   "display_name": "port_performance",
   "language": "python",
   "name": "python3"
  },
  "language_info": {
   "codemirror_mode": {
    "name": "ipython",
    "version": 3
   },
   "file_extension": ".py",
   "mimetype": "text/x-python",
   "name": "python",
   "nbconvert_exporter": "python",
   "pygments_lexer": "ipython3",
   "version": "3.13.2"
  }
 },
 "nbformat": 4,
 "nbformat_minor": 2
}
