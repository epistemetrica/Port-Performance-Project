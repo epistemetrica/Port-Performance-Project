{
 "cells": [
  {
   "cell_type": "markdown",
   "metadata": {},
   "source": [
    "# Port Statistics\n",
    "\n",
    "This notebook develops and explores the various port statistics used in the [Port Performance Project](https://github.com/epistemetrica/Port-Performance-Project). See the README.md file in the main directory for more info.\n",
    "\n",
    "The primary data set comes from a combination of AIS vessel data and port data, processed in the Port Geodata notebook.\n",
    "\n",
    "Statistics and final dataframes developed here are used in the Port Performance Dashboard.\n",
    "\n"
   ]
  },
  {
   "cell_type": "code",
   "execution_count": 1,
   "metadata": {},
   "outputs": [],
   "source": [
    "#prelims\n",
    "import polars as pl\n",
    "import polars.selectors as cs\n",
    "import pandas as pd\n",
    "import geopandas as gpd\n",
    "import time\n",
    "import plotly.express as px\n",
    "import matplotlib.pyplot as plt\n",
    "import contextily as cx\n",
    "import numpy as np\n",
    "import glob\n",
    "import folium\n",
    "from folium.plugins import HeatMap\n",
    "\n",
    "#enable string cache for polars categoricals\n",
    "pl.enable_string_cache()\n",
    "#display settings\n",
    "pd.set_option('display.max_columns', None)\n",
    "pd.set_option('display.max_rows', None)\n",
    "pl.Config(tbl_rows=100);"
   ]
  },
  {
   "cell_type": "markdown",
   "metadata": {},
   "source": [
    "## Load Data from geodata_prep notebook"
   ]
  },
  {
   "cell_type": "code",
   "execution_count": 2,
   "metadata": {},
   "outputs": [],
   "source": [
    "#load data from parquet\n",
    "main_lf = pl.scan_parquet('port data/dashboard/main.parquet')"
   ]
  },
  {
   "cell_type": "markdown",
   "metadata": {},
   "source": [
    "## Generate Stats"
   ]
  },
  {
   "cell_type": "code",
   "execution_count": 3,
   "metadata": {},
   "outputs": [
    {
     "data": {
      "text/html": [
       "<div><style>\n",
       ".dataframe > thead > tr,\n",
       ".dataframe > tbody > tr {\n",
       "  text-align: right;\n",
       "  white-space: pre-wrap;\n",
       "}\n",
       "</style>\n",
       "<small>shape: (9, 21)</small><table border=\"1\" class=\"dataframe\"><thead><tr><th>statistic</th><th>call_id</th><th>port_name</th><th>port_lat</th><th>port_lon</th><th>dock_name</th><th>dock_id</th><th>facility_type</th><th>dock_lat</th><th>dock_lon</th><th>imo</th><th>vessel_size</th><th>time_port_entry</th><th>time_arrival</th><th>time_departure</th><th>time_port_exit</th><th>hrs_at_berth</th><th>hrs_at_anchor</th><th>hrs_to_dock</th><th>hrs_in_port_after_dock</th><th>hrs_in_port_waters</th></tr><tr><td>str</td><td>str</td><td>str</td><td>f64</td><td>f64</td><td>str</td><td>str</td><td>str</td><td>f64</td><td>f64</td><td>f64</td><td>f64</td><td>str</td><td>str</td><td>str</td><td>str</td><td>f64</td><td>f64</td><td>f64</td><td>f64</td><td>f64</td></tr></thead><tbody><tr><td>&quot;count&quot;</td><td>&quot;158925&quot;</td><td>&quot;158925&quot;</td><td>158925.0</td><td>158925.0</td><td>&quot;158925&quot;</td><td>&quot;158925&quot;</td><td>&quot;158544&quot;</td><td>158925.0</td><td>158925.0</td><td>158925.0</td><td>158925.0</td><td>&quot;158925&quot;</td><td>&quot;158925&quot;</td><td>&quot;158925&quot;</td><td>&quot;158925&quot;</td><td>158925.0</td><td>158925.0</td><td>158925.0</td><td>158925.0</td><td>158925.0</td></tr><tr><td>&quot;null_count&quot;</td><td>&quot;0&quot;</td><td>&quot;0&quot;</td><td>0.0</td><td>0.0</td><td>&quot;0&quot;</td><td>&quot;0&quot;</td><td>&quot;381&quot;</td><td>0.0</td><td>0.0</td><td>0.0</td><td>0.0</td><td>&quot;0&quot;</td><td>&quot;0&quot;</td><td>&quot;0&quot;</td><td>&quot;0&quot;</td><td>0.0</td><td>0.0</td><td>0.0</td><td>0.0</td><td>0.0</td></tr><tr><td>&quot;mean&quot;</td><td>null</td><td>null</td><td>32.711017</td><td>-95.396925</td><td>null</td><td>null</td><td>null</td><td>32.711218</td><td>-95.395769</td><td>1.0116e7</td><td>208.356539</td><td>&quot;2021-07-24 15:38:24.891275&quot;</td><td>&quot;2021-07-25 23:03:53.296938&quot;</td><td>&quot;2021-07-31 16:38:26.894692&quot;</td><td>&quot;2021-08-02 11:47:14.233833&quot;</td><td>62.591922</td><td>13.811287</td><td>31.416648</td><td>43.138775</td><td>212.138861</td></tr><tr><td>&quot;std&quot;</td><td>null</td><td>null</td><td>7.19469</td><td>20.919646</td><td>null</td><td>null</td><td>null</td><td>7.194876</td><td>20.919692</td><td>2.6077e7</td><td>58.918295</td><td>null</td><td>null</td><td>null</td><td>null</td><td>447.966521</td><td>89.803974</td><td>817.510818</td><td>1245.059111</td><td>2387.714469</td></tr><tr><td>&quot;min&quot;</td><td>&quot;0_Corpus Christi, TX_2020-04-0…</td><td>&quot;Albany Port District, NY&quot;</td><td>17.938939</td><td>-166.549916</td><td>&quot;ADM Corpus Christi Grain Eleva…</td><td>&quot;00XE&quot;</td><td>&quot;Anchorage&quot;</td><td>17.936081</td><td>-166.53444</td><td>0.0</td><td>101.0</td><td>&quot;2018-01-01 00:35:19&quot;</td><td>&quot;2018-01-01 00:35:19&quot;</td><td>&quot;2018-01-01 04:23:54&quot;</td><td>&quot;2018-01-01 09:15:57&quot;</td><td>0.083333</td><td>0.0</td><td>0.0</td><td>0.0</td><td>0.083333</td></tr><tr><td>&quot;25%&quot;</td><td>null</td><td>null</td><td>28.96133</td><td>-118.2095</td><td>null</td><td>null</td><td>null</td><td>28.94062</td><td>-118.21888</td><td>9.295218e6</td><td>177.0</td><td>&quot;2019-09-23 01:04:29&quot;</td><td>&quot;2019-09-24 09:02:28&quot;</td><td>&quot;2019-09-29 16:19:41&quot;</td><td>&quot;2019-10-01 12:01:30&quot;</td><td>16.616667</td><td>0.0</td><td>2.6</td><td>2.083333</td><td>25.75</td></tr><tr><td>&quot;50%&quot;</td><td>null</td><td>null</td><td>30.69123</td><td>-90.205279</td><td>null</td><td>null</td><td>null</td><td>30.728322</td><td>-90.207222</td><td>9.402237e6</td><td>190.0</td><td>&quot;2021-09-04 09:32:11&quot;</td><td>&quot;2021-09-06 20:50:55&quot;</td><td>&quot;2021-09-13 00:33:17&quot;</td><td>&quot;2021-09-15 07:53:41&quot;</td><td>31.316667</td><td>0.0</td><td>3.5</td><td>2.766667</td><td>44.266667</td></tr><tr><td>&quot;75%&quot;</td><td>null</td><td>null</td><td>37.82152</td><td>-80.117801</td><td>null</td><td>null</td><td>null</td><td>37.797222</td><td>-80.115556</td><td>9.616058e6</td><td>231.0</td><td>&quot;2023-05-06 06:22:22&quot;</td><td>&quot;2023-05-07 15:35:06&quot;</td><td>&quot;2023-05-13 07:49:39&quot;</td><td>&quot;2023-05-15 01:20:08&quot;</td><td>58.216667</td><td>0.0</td><td>5.433333</td><td>3.533333</td><td>83.633333</td></tr><tr><td>&quot;max&quot;</td><td>&quot;9993808_Honolulu, O&#x27;ahu, HI_20…</td><td>&quot;Wilmington, NC&quot;</td><td>61.23778</td><td>-66.096678</td><td>&quot;YUSEN TERMINALS BERTHS 212-221&quot;</td><td>&quot;1JHK&quot;</td><td>&quot;Tie Off&quot;</td><td>61.24306</td><td>-66.086926</td><td>9.800025e8</td><td>667.0</td><td>&quot;2024-12-31 18:55:48&quot;</td><td>&quot;2024-12-31 22:30:59&quot;</td><td>&quot;2024-12-31 23:37:00&quot;</td><td>&quot;2024-12-31 23:37:00&quot;</td><td>48583.366667</td><td>14389.4</td><td>61186.266667</td><td>61100.566667</td><td>61302.516667</td></tr></tbody></table></div>"
      ],
      "text/plain": [
       "shape: (9, 21)\n",
       "┌───────────┬───────────┬───────────┬───────────┬───┬───────────┬───────────┬───────────┬──────────┐\n",
       "│ statistic ┆ call_id   ┆ port_name ┆ port_lat  ┆ … ┆ hrs_at_an ┆ hrs_to_do ┆ hrs_in_po ┆ hrs_in_p │\n",
       "│ ---       ┆ ---       ┆ ---       ┆ ---       ┆   ┆ chor      ┆ ck        ┆ rt_after_ ┆ ort_wate │\n",
       "│ str       ┆ str       ┆ str       ┆ f64       ┆   ┆ ---       ┆ ---       ┆ dock      ┆ rs       │\n",
       "│           ┆           ┆           ┆           ┆   ┆ f64       ┆ f64       ┆ ---       ┆ ---      │\n",
       "│           ┆           ┆           ┆           ┆   ┆           ┆           ┆ f64       ┆ f64      │\n",
       "╞═══════════╪═══════════╪═══════════╪═══════════╪═══╪═══════════╪═══════════╪═══════════╪══════════╡\n",
       "│ count     ┆ 158925    ┆ 158925    ┆ 158925.0  ┆ … ┆ 158925.0  ┆ 158925.0  ┆ 158925.0  ┆ 158925.0 │\n",
       "│ null_coun ┆ 0         ┆ 0         ┆ 0.0       ┆ … ┆ 0.0       ┆ 0.0       ┆ 0.0       ┆ 0.0      │\n",
       "│ t         ┆           ┆           ┆           ┆   ┆           ┆           ┆           ┆          │\n",
       "│ mean      ┆ null      ┆ null      ┆ 32.711017 ┆ … ┆ 13.811287 ┆ 31.416648 ┆ 43.138775 ┆ 212.1388 │\n",
       "│           ┆           ┆           ┆           ┆   ┆           ┆           ┆           ┆ 61       │\n",
       "│ std       ┆ null      ┆ null      ┆ 7.19469   ┆ … ┆ 89.803974 ┆ 817.51081 ┆ 1245.0591 ┆ 2387.714 │\n",
       "│           ┆           ┆           ┆           ┆   ┆           ┆ 8         ┆ 11        ┆ 469      │\n",
       "│ min       ┆ 0_Corpus  ┆ Albany    ┆ 17.938939 ┆ … ┆ 0.0       ┆ 0.0       ┆ 0.0       ┆ 0.083333 │\n",
       "│           ┆ Christi,  ┆ Port      ┆           ┆   ┆           ┆           ┆           ┆          │\n",
       "│           ┆ TX_2020-0 ┆ District, ┆           ┆   ┆           ┆           ┆           ┆          │\n",
       "│           ┆ 4-0…      ┆ NY        ┆           ┆   ┆           ┆           ┆           ┆          │\n",
       "│ 25%       ┆ null      ┆ null      ┆ 28.96133  ┆ … ┆ 0.0       ┆ 2.6       ┆ 2.083333  ┆ 25.75    │\n",
       "│ 50%       ┆ null      ┆ null      ┆ 30.69123  ┆ … ┆ 0.0       ┆ 3.5       ┆ 2.766667  ┆ 44.26666 │\n",
       "│           ┆           ┆           ┆           ┆   ┆           ┆           ┆           ┆ 7        │\n",
       "│ 75%       ┆ null      ┆ null      ┆ 37.82152  ┆ … ┆ 0.0       ┆ 5.433333  ┆ 3.533333  ┆ 83.63333 │\n",
       "│           ┆           ┆           ┆           ┆   ┆           ┆           ┆           ┆ 3        │\n",
       "│ max       ┆ 9993808_H ┆ Wilmingto ┆ 61.23778  ┆ … ┆ 14389.4   ┆ 61186.266 ┆ 61100.566 ┆ 61302.51 │\n",
       "│           ┆ onolulu,  ┆ n, NC     ┆           ┆   ┆           ┆ 667       ┆ 667       ┆ 6667     │\n",
       "│           ┆ O'ahu,    ┆           ┆           ┆   ┆           ┆           ┆           ┆          │\n",
       "│           ┆ HI_20…    ┆           ┆           ┆   ┆           ┆           ┆           ┆          │\n",
       "└───────────┴───────────┴───────────┴───────────┴───┴───────────┴───────────┴───────────┴──────────┘"
      ]
     },
     "metadata": {},
     "output_type": "display_data"
    },
    {
     "data": {
      "text/html": [
       "<div><style>\n",
       ".dataframe > thead > tr,\n",
       ".dataframe > tbody > tr {\n",
       "  text-align: right;\n",
       "  white-space: pre-wrap;\n",
       "}\n",
       "</style>\n",
       "<small>shape: (5, 20)</small><table border=\"1\" class=\"dataframe\"><thead><tr><th>call_id</th><th>port_name</th><th>port_lat</th><th>port_lon</th><th>dock_name</th><th>dock_id</th><th>facility_type</th><th>dock_lat</th><th>dock_lon</th><th>imo</th><th>vessel_size</th><th>time_port_entry</th><th>time_arrival</th><th>time_departure</th><th>time_port_exit</th><th>hrs_at_berth</th><th>hrs_at_anchor</th><th>hrs_to_dock</th><th>hrs_in_port_after_dock</th><th>hrs_in_port_waters</th></tr><tr><td>str</td><td>str</td><td>f64</td><td>f64</td><td>str</td><td>str</td><td>str</td><td>f64</td><td>f64</td><td>i64</td><td>f64</td><td>datetime[μs]</td><td>datetime[μs]</td><td>datetime[μs]</td><td>datetime[μs]</td><td>f64</td><td>f64</td><td>f64</td><td>f64</td><td>f64</td></tr></thead><tbody><tr><td>&quot;9720512_Seattle, WA_2018-06-26&quot;</td><td>&quot;Seattle, WA&quot;</td><td>47.587711</td><td>-122.359218</td><td>&quot;SSA TERMINALS, TERMINAL 37 WHA…</td><td>&quot;0UPC&quot;</td><td>&quot;Dock&quot;</td><td>47.592222</td><td>-122.3425</td><td>9720512</td><td>299.0</td><td>2018-06-26 22:24:21</td><td>2018-06-26 23:28:28</td><td>2018-06-27 23:52:59</td><td>2018-06-28 00:42:04</td><td>24.4</td><td>0.0</td><td>1.066667</td><td>0.816667</td><td>26.283333</td></tr><tr><td>&quot;9274939_Port Arthur, TX_2023-1…</td><td>&quot;Port Arthur, TX&quot;</td><td>29.83142</td><td>-93.96069</td><td>&quot;GULF COPPER &amp; MANUFACTURING CO…</td><td>&quot;0Q9N&quot;</td><td>&quot;Dock&quot;</td><td>29.84694</td><td>-93.97056</td><td>9274939</td><td>189.0</td><td>2023-12-05 13:56:01</td><td>2023-12-05 16:38:29</td><td>2023-12-07 20:58:17</td><td>2023-12-07 23:13:07</td><td>52.316667</td><td>0.0</td><td>2.7</td><td>2.233333</td><td>57.283333</td></tr><tr><td>&quot;9453858_Port Arthur, TX_2018-0…</td><td>&quot;Port Arthur, TX&quot;</td><td>29.83142</td><td>-93.96069</td><td>&quot;COASTAL BANK STABILIZATION, SA…</td><td>&quot;0NQH&quot;</td><td>&quot;Dock&quot;</td><td>29.820219</td><td>-93.956497</td><td>9453858</td><td>274.0</td><td>2018-02-12 07:41:00</td><td>2018-02-12 09:49:30</td><td>2018-02-13 17:12:12</td><td>2018-02-13 20:30:30</td><td>27.25</td><td>0.0</td><td>2.133333</td><td>3.3</td><td>36.816667</td></tr><tr><td>&quot;9622552_Corpus Christi, TX_201…</td><td>&quot;Corpus Christi, TX&quot;</td><td>27.81277</td><td>-97.39789</td><td>&quot;ADM Corpus Christi Grain Eleva…</td><td>&quot;0VMP&quot;</td><td>&quot;Dock&quot;</td><td>27.818384</td><td>-97.422371</td><td>9622552</td><td>228.0</td><td>2018-01-25 23:42:32</td><td>2018-01-26 03:21:12</td><td>2018-01-31 20:09:09</td><td>2018-01-31 23:54:50</td><td>136.783333</td><td>0.0</td><td>3.633333</td><td>3.75</td><td>144.2</td></tr><tr><td>&quot;9711561_South Louisiana, LA, P…</td><td>&quot;South Louisiana, LA, Port of&quot;</td><td>30.03345</td><td>-90.61794</td><td>&quot;CARGILL-RESERVE OILSEED WHARF&quot;</td><td>&quot;0U23&quot;</td><td>&quot;Dock&quot;</td><td>30.052841</td><td>-90.588304</td><td>9711561</td><td>184.0</td><td>2020-09-20 19:52:12</td><td>2020-09-20 21:00:12</td><td>2020-09-22 16:15:06</td><td>2020-09-22 16:51:47</td><td>42.783333</td><td>0.0</td><td>1.133333</td><td>0.6</td><td>44.983333</td></tr></tbody></table></div>"
      ],
      "text/plain": [
       "shape: (5, 20)\n",
       "┌───────────┬───────────┬───────────┬───────────┬───┬───────────┬───────────┬───────────┬──────────┐\n",
       "│ call_id   ┆ port_name ┆ port_lat  ┆ port_lon  ┆ … ┆ hrs_at_an ┆ hrs_to_do ┆ hrs_in_po ┆ hrs_in_p │\n",
       "│ ---       ┆ ---       ┆ ---       ┆ ---       ┆   ┆ chor      ┆ ck        ┆ rt_after_ ┆ ort_wate │\n",
       "│ str       ┆ str       ┆ f64       ┆ f64       ┆   ┆ ---       ┆ ---       ┆ dock      ┆ rs       │\n",
       "│           ┆           ┆           ┆           ┆   ┆ f64       ┆ f64       ┆ ---       ┆ ---      │\n",
       "│           ┆           ┆           ┆           ┆   ┆           ┆           ┆ f64       ┆ f64      │\n",
       "╞═══════════╪═══════════╪═══════════╪═══════════╪═══╪═══════════╪═══════════╪═══════════╪══════════╡\n",
       "│ 9720512_S ┆ Seattle,  ┆ 47.587711 ┆ -122.3592 ┆ … ┆ 0.0       ┆ 1.066667  ┆ 0.816667  ┆ 26.28333 │\n",
       "│ eattle,   ┆ WA        ┆           ┆ 18        ┆   ┆           ┆           ┆           ┆ 3        │\n",
       "│ WA_2018-0 ┆           ┆           ┆           ┆   ┆           ┆           ┆           ┆          │\n",
       "│ 6-26      ┆           ┆           ┆           ┆   ┆           ┆           ┆           ┆          │\n",
       "│ 9274939_P ┆ Port      ┆ 29.83142  ┆ -93.96069 ┆ … ┆ 0.0       ┆ 2.7       ┆ 2.233333  ┆ 57.28333 │\n",
       "│ ort       ┆ Arthur,   ┆           ┆           ┆   ┆           ┆           ┆           ┆ 3        │\n",
       "│ Arthur,   ┆ TX        ┆           ┆           ┆   ┆           ┆           ┆           ┆          │\n",
       "│ TX_2023-1 ┆           ┆           ┆           ┆   ┆           ┆           ┆           ┆          │\n",
       "│ …         ┆           ┆           ┆           ┆   ┆           ┆           ┆           ┆          │\n",
       "│ 9453858_P ┆ Port      ┆ 29.83142  ┆ -93.96069 ┆ … ┆ 0.0       ┆ 2.133333  ┆ 3.3       ┆ 36.81666 │\n",
       "│ ort       ┆ Arthur,   ┆           ┆           ┆   ┆           ┆           ┆           ┆ 7        │\n",
       "│ Arthur,   ┆ TX        ┆           ┆           ┆   ┆           ┆           ┆           ┆          │\n",
       "│ TX_2018-0 ┆           ┆           ┆           ┆   ┆           ┆           ┆           ┆          │\n",
       "│ …         ┆           ┆           ┆           ┆   ┆           ┆           ┆           ┆          │\n",
       "│ 9622552_C ┆ Corpus    ┆ 27.81277  ┆ -97.39789 ┆ … ┆ 0.0       ┆ 3.633333  ┆ 3.75      ┆ 144.2    │\n",
       "│ orpus     ┆ Christi,  ┆           ┆           ┆   ┆           ┆           ┆           ┆          │\n",
       "│ Christi,  ┆ TX        ┆           ┆           ┆   ┆           ┆           ┆           ┆          │\n",
       "│ TX_201…   ┆           ┆           ┆           ┆   ┆           ┆           ┆           ┆          │\n",
       "│ 9711561_S ┆ South Lou ┆ 30.03345  ┆ -90.61794 ┆ … ┆ 0.0       ┆ 1.133333  ┆ 0.6       ┆ 44.98333 │\n",
       "│ outh Loui ┆ isiana,   ┆           ┆           ┆   ┆           ┆           ┆           ┆ 3        │\n",
       "│ siana,    ┆ LA, Port  ┆           ┆           ┆   ┆           ┆           ┆           ┆          │\n",
       "│ LA, P…    ┆ of        ┆           ┆           ┆   ┆           ┆           ┆           ┆          │\n",
       "└───────────┴───────────┴───────────┴───────────┴───┴───────────┴───────────┴───────────┴──────────┘"
      ]
     },
     "execution_count": 3,
     "metadata": {},
     "output_type": "execute_result"
    }
   ],
   "source": [
    "#get stats for each call\n",
    "calls_df = (\n",
    "    main_lf\n",
    "    #ensure sorting by vessel and time\n",
    "    .sort(['imo', 'time'])\n",
    "    #grouby by call id\n",
    "    .group_by('call_id')\n",
    "    .agg(\n",
    "        #port name\n",
    "        port_name = pl.first('port_name'),\n",
    "        #port lat and lon\n",
    "        port_lat = pl.first('port_lat'),\n",
    "        port_lon = pl.first('port_lon'),\n",
    "        #dock name\n",
    "        dock_name = pl.first('dock_name'),\n",
    "        #dock_id\n",
    "        dock_id = pl.first('dock_id'),\n",
    "        #facility type\n",
    "        facility_type = pl.first('facility_type'),\n",
    "        #dock lat and lon\n",
    "        dock_lat = pl.first('dock_lat'),\n",
    "        dock_lon = pl.first('dock_lon'),\n",
    "        #vessel imo\n",
    "        imo = pl.first('imo'),\n",
    "        #vessel size\n",
    "        vessel_size = pl.first('length'),\n",
    "        #time entering port waters\n",
    "        time_port_entry = pl.col('time').min(),\n",
    "        #time of arrival at dock\n",
    "        time_arrival = (\n",
    "            pl.when(pl.col('status')==5)\n",
    "            .then(pl.col('time'))\n",
    "            .otherwise(pl.lit(None))\n",
    "        ).min(),\n",
    "        #time of departure from dock\n",
    "        time_departure = (\n",
    "            pl.when(pl.col('status')==5)\n",
    "            .then(pl.col('time')+pl.col('status_duration'))\n",
    "            .otherwise(pl.lit(None))\n",
    "        ).max(),\n",
    "        #time port exit\n",
    "        time_port_exit = (pl.col('time') + pl.col('status_duration')).max(),\n",
    "        #hrs a berth\n",
    "        hrs_at_berth = (\n",
    "            ((pl.col('status')==5)*\n",
    "            (pl.col('status_duration').dt.total_minutes()/60)\n",
    "            )\n",
    "        ).sum(),\n",
    "        #hrs at anchor\n",
    "        hrs_at_anchor = (\n",
    "            (pl.col('status')==1)*\n",
    "            (pl.col('status_duration').dt.total_minutes()/60)\n",
    "        ).sum()\n",
    "    )\n",
    "    #drop calls with missing arrival or departure time\n",
    "    .filter(pl.col('time_arrival').is_not_null() & \n",
    "            pl.col('time_departure').is_not_null())\n",
    "    #drop calls with missing port entry or exit time\n",
    "    .filter(pl.col('time_port_entry').is_not_null() & \n",
    "            pl.col('time_port_exit').is_not_null())\n",
    "    #compute additional stats\n",
    "    .with_columns(\n",
    "        #time from port entry to docking in hrs\n",
    "        hrs_to_dock = (\n",
    "            (pl.col('time_arrival') - pl.col('time_port_entry'))\n",
    "            .dt.total_minutes()/60\n",
    "        ),\n",
    "        #time in port waters after leaving dock\n",
    "        hrs_in_port_after_dock = (\n",
    "            (pl.col('time_port_exit') - pl.col('time_departure'))\n",
    "            .dt.total_minutes()/60\n",
    "        ),\n",
    "        #total time in port waters in hrs\n",
    "        hrs_in_port_waters =(\n",
    "            (pl.col('time_port_exit') - pl.col('time_port_entry'))\n",
    "            .dt.total_minutes()/60\n",
    "        )\n",
    "    )\n",
    "    #collect\n",
    "    .collect()\n",
    ")\n",
    "\n",
    "#inspect\n",
    "display(calls_df.describe())\n",
    "calls_df.head(5)\n"
   ]
  },
  {
   "cell_type": "markdown",
   "metadata": {},
   "source": [
    "### Notes on Calls Frame and additional cleaning\n",
    "\n",
    "- hrs_in_port_after_dock can be 0 when a vessel docks in overlapping port waters and visits both ports. 4692 (3.2%) of port calls have hrs_in_port_after_dock == 0. \n",
    "- hrs_to_dock == 0 implies that the first time the vessel sent an AIS message while in port waters was while at dock. This would be expected with new vessels that send their first messages from a dock, and accounts for ~1.6% (2234) of port calls. \n",
    "    - Of these, ~17% (336) were docked in overlapping port waters prior to visiting the next dock. This would result in hrs_in_port_waters == hrs_at_berth. \n",
    "- The mean and quartile statistics for the port calls seems reasonable; however, some calls have very long (6+ years in some cases) hrs_at_berth and related stats. This would result from vessel AIS transponders going offline at some stage during their visit to port waters. Rectifying this issue will be done either in the AIS ingestion or geodata_prep stages at a later date. For now we simply drop these as outliers. \n",
    "- Null status_duration values exist in ~3k of 1.3M status changes in the main_df; this is expected whenever an AIS transciever goes offline while in port waters. \n",
    "    - There are no observations of entirely-null duration values for mooring statuses, which limits the potential impacts of this issue on the stats.\n",
    "    - Null status_duration would cause undervalued time data (e.g., time_port_exit == the timestamp of the last status change + the status duration); however, dropping calls with null status_durations has no measurable impact on the statistics, so they are left in the data for now. "
   ]
  },
  {
   "cell_type": "code",
   "execution_count": 4,
   "metadata": {},
   "outputs": [],
   "source": [
    "#define outlier drop\n",
    "def drop_outliers(df, cols, threshold=3):\n",
    "    '''\n",
    "    Drops outliers from the dataframe for the specified columns.\n",
    "    Args:\n",
    "        df: Polars DataFrame\n",
    "        cols: List of columns to drop outliers from\n",
    "        threshold: Z-score threshold for outlier detection\n",
    "    Returns:\n",
    "        Polars DataFrame with outliers dropped\n",
    "    '''\n",
    "    print(f'Outlier threshold: {threshold} Std Devs')\n",
    "    for col in cols:\n",
    "        #compute z scores\n",
    "        df = df.with_columns(\n",
    "            z_score = (pl.col(col) - pl.col(col).mean()) / pl.col(col).std()\n",
    "        )\n",
    "        #drop outliers\n",
    "        df = df.filter(pl.col('z_score').abs() < threshold)\n",
    "    return df.drop('z_score')"
   ]
  },
  {
   "cell_type": "code",
   "execution_count": 5,
   "metadata": {},
   "outputs": [
    {
     "name": "stdout",
     "output_type": "stream",
     "text": [
      "hrs_at_berth outlier threshold: 56.0 days\n",
      "hrs_to_dock outlier threshold: 102.2 days\n",
      "hrs_at_anchor outlier threshold: 11.2 days\n",
      "hrs_in_port_after_dock outlier threshold: 155.6 days\n",
      "hrs_in_port_waters outlier threshold: 298.5 days\n",
      "Outlier threshold: 3 Std Devs\n",
      "Total outlier rows dropped: 2720 of 158925\n"
     ]
    },
    {
     "data": {
      "text/html": [
       "<div><style>\n",
       ".dataframe > thead > tr,\n",
       ".dataframe > tbody > tr {\n",
       "  text-align: right;\n",
       "  white-space: pre-wrap;\n",
       "}\n",
       "</style>\n",
       "<small>shape: (9, 21)</small><table border=\"1\" class=\"dataframe\"><thead><tr><th>statistic</th><th>call_id</th><th>port_name</th><th>port_lat</th><th>port_lon</th><th>dock_name</th><th>dock_id</th><th>facility_type</th><th>dock_lat</th><th>dock_lon</th><th>imo</th><th>vessel_size</th><th>time_port_entry</th><th>time_arrival</th><th>time_departure</th><th>time_port_exit</th><th>hrs_at_berth</th><th>hrs_at_anchor</th><th>hrs_to_dock</th><th>hrs_in_port_after_dock</th><th>hrs_in_port_waters</th></tr><tr><td>str</td><td>str</td><td>str</td><td>f64</td><td>f64</td><td>str</td><td>str</td><td>str</td><td>f64</td><td>f64</td><td>f64</td><td>f64</td><td>str</td><td>str</td><td>str</td><td>str</td><td>f64</td><td>f64</td><td>f64</td><td>f64</td><td>f64</td></tr></thead><tbody><tr><td>&quot;count&quot;</td><td>&quot;156205&quot;</td><td>&quot;156205&quot;</td><td>156205.0</td><td>156205.0</td><td>&quot;156205&quot;</td><td>&quot;156205&quot;</td><td>&quot;155832&quot;</td><td>156205.0</td><td>156205.0</td><td>156205.0</td><td>156205.0</td><td>&quot;156205&quot;</td><td>&quot;156205&quot;</td><td>&quot;156205&quot;</td><td>&quot;156205&quot;</td><td>156205.0</td><td>156205.0</td><td>156205.0</td><td>156205.0</td><td>156205.0</td></tr><tr><td>&quot;null_count&quot;</td><td>&quot;0&quot;</td><td>&quot;0&quot;</td><td>0.0</td><td>0.0</td><td>&quot;0&quot;</td><td>&quot;0&quot;</td><td>&quot;373&quot;</td><td>0.0</td><td>0.0</td><td>0.0</td><td>0.0</td><td>&quot;0&quot;</td><td>&quot;0&quot;</td><td>&quot;0&quot;</td><td>&quot;0&quot;</td><td>0.0</td><td>0.0</td><td>0.0</td><td>0.0</td><td>0.0</td></tr><tr><td>&quot;mean&quot;</td><td>null</td><td>null</td><td>32.686926</td><td>-95.288618</td><td>null</td><td>null</td><td>null</td><td>32.686999</td><td>-95.287408</td><td>1.0116e7</td><td>208.089351</td><td>&quot;2021-07-26 08:52:21.130284&quot;</td><td>&quot;2021-07-26 20:08:02.973278&quot;</td><td>&quot;2021-07-29 00:46:41.506270&quot;</td><td>&quot;2021-07-29 05:56:08.875797&quot;</td><td>47.656672</td><td>8.141756</td><td>11.253709</td><td>5.149874</td><td>69.055084</td></tr><tr><td>&quot;std&quot;</td><td>null</td><td>null</td><td>7.207185</td><td>20.905249</td><td>null</td><td>null</td><td>null</td><td>7.207342</td><td>20.905297</td><td>2.6094e7</td><td>58.853774</td><td>null</td><td>null</td><td>null</td><td>null</td><td>62.115883</td><td>28.449073</td><td>34.912037</td><td>40.933445</td><td>95.135948</td></tr><tr><td>&quot;min&quot;</td><td>&quot;0_Corpus Christi, TX_2020-04-0…</td><td>&quot;Albany Port District, NY&quot;</td><td>17.938939</td><td>-166.549916</td><td>&quot;ADM Corpus Christi Grain Eleva…</td><td>&quot;00XE&quot;</td><td>&quot;Anchorage&quot;</td><td>17.936081</td><td>-166.53444</td><td>0.0</td><td>101.0</td><td>&quot;2018-01-01 00:35:19&quot;</td><td>&quot;2018-01-01 00:35:19&quot;</td><td>&quot;2018-01-01 04:23:54&quot;</td><td>&quot;2018-01-01 09:15:57&quot;</td><td>0.083333</td><td>0.0</td><td>0.0</td><td>0.0</td><td>0.083333</td></tr><tr><td>&quot;25%&quot;</td><td>null</td><td>null</td><td>28.96133</td><td>-118.2095</td><td>null</td><td>null</td><td>null</td><td>28.936819</td><td>-118.217936</td><td>9.294977e6</td><td>177.0</td><td>&quot;2019-09-24 13:52:02&quot;</td><td>&quot;2019-09-24 21:12:08&quot;</td><td>&quot;2019-09-26 17:14:26&quot;</td><td>&quot;2019-09-26 20:53:34&quot;</td><td>16.45</td><td>0.0</td><td>2.583333</td><td>2.083333</td><td>25.516667</td></tr><tr><td>&quot;50%&quot;</td><td>null</td><td>null</td><td>30.69123</td><td>-90.085256</td><td>null</td><td>null</td><td>null</td><td>30.723889</td><td>-90.12417</td><td>9.401491e6</td><td>190.0</td><td>&quot;2021-09-06 09:40:43&quot;</td><td>&quot;2021-09-07 02:34:37&quot;</td><td>&quot;2021-09-09 04:35:42&quot;</td><td>&quot;2021-09-09 11:20:56&quot;</td><td>30.85</td><td>0.0</td><td>3.483333</td><td>2.75</td><td>43.466667</td></tr><tr><td>&quot;75%&quot;</td><td>null</td><td>null</td><td>37.82152</td><td>-80.117801</td><td>null</td><td>null</td><td>null</td><td>37.797222</td><td>-80.115556</td><td>9.615042e6</td><td>231.0</td><td>&quot;2023-05-08 10:41:45&quot;</td><td>&quot;2023-05-08 22:48:08&quot;</td><td>&quot;2023-05-11 09:53:50&quot;</td><td>&quot;2023-05-11 13:02:31&quot;</td><td>56.983333</td><td>0.0</td><td>5.3</td><td>3.5</td><td>80.233333</td></tr><tr><td>&quot;max&quot;</td><td>&quot;9993808_Honolulu, O&#x27;ahu, HI_20…</td><td>&quot;Wilmington, NC&quot;</td><td>61.23778</td><td>-66.096678</td><td>&quot;YUSEN TERMINALS BERTHS 212-221&quot;</td><td>&quot;1JHK&quot;</td><td>&quot;Tie Off&quot;</td><td>61.24306</td><td>-66.086926</td><td>9.800025e8</td><td>667.0</td><td>&quot;2024-12-31 18:55:48&quot;</td><td>&quot;2024-12-31 22:30:59&quot;</td><td>&quot;2024-12-31 23:37:00&quot;</td><td>&quot;2024-12-31 23:37:00&quot;</td><td>1398.416667</td><td>241.483333</td><td>2152.533333</td><td>3653.166667</td><td>4453.8</td></tr></tbody></table></div>"
      ],
      "text/plain": [
       "shape: (9, 21)\n",
       "┌───────────┬───────────┬───────────┬───────────┬───┬───────────┬───────────┬───────────┬──────────┐\n",
       "│ statistic ┆ call_id   ┆ port_name ┆ port_lat  ┆ … ┆ hrs_at_an ┆ hrs_to_do ┆ hrs_in_po ┆ hrs_in_p │\n",
       "│ ---       ┆ ---       ┆ ---       ┆ ---       ┆   ┆ chor      ┆ ck        ┆ rt_after_ ┆ ort_wate │\n",
       "│ str       ┆ str       ┆ str       ┆ f64       ┆   ┆ ---       ┆ ---       ┆ dock      ┆ rs       │\n",
       "│           ┆           ┆           ┆           ┆   ┆ f64       ┆ f64       ┆ ---       ┆ ---      │\n",
       "│           ┆           ┆           ┆           ┆   ┆           ┆           ┆ f64       ┆ f64      │\n",
       "╞═══════════╪═══════════╪═══════════╪═══════════╪═══╪═══════════╪═══════════╪═══════════╪══════════╡\n",
       "│ count     ┆ 156205    ┆ 156205    ┆ 156205.0  ┆ … ┆ 156205.0  ┆ 156205.0  ┆ 156205.0  ┆ 156205.0 │\n",
       "│ null_coun ┆ 0         ┆ 0         ┆ 0.0       ┆ … ┆ 0.0       ┆ 0.0       ┆ 0.0       ┆ 0.0      │\n",
       "│ t         ┆           ┆           ┆           ┆   ┆           ┆           ┆           ┆          │\n",
       "│ mean      ┆ null      ┆ null      ┆ 32.686926 ┆ … ┆ 8.141756  ┆ 11.253709 ┆ 5.149874  ┆ 69.05508 │\n",
       "│           ┆           ┆           ┆           ┆   ┆           ┆           ┆           ┆ 4        │\n",
       "│ std       ┆ null      ┆ null      ┆ 7.207185  ┆ … ┆ 28.449073 ┆ 34.912037 ┆ 40.933445 ┆ 95.13594 │\n",
       "│           ┆           ┆           ┆           ┆   ┆           ┆           ┆           ┆ 8        │\n",
       "│ min       ┆ 0_Corpus  ┆ Albany    ┆ 17.938939 ┆ … ┆ 0.0       ┆ 0.0       ┆ 0.0       ┆ 0.083333 │\n",
       "│           ┆ Christi,  ┆ Port      ┆           ┆   ┆           ┆           ┆           ┆          │\n",
       "│           ┆ TX_2020-0 ┆ District, ┆           ┆   ┆           ┆           ┆           ┆          │\n",
       "│           ┆ 4-0…      ┆ NY        ┆           ┆   ┆           ┆           ┆           ┆          │\n",
       "│ 25%       ┆ null      ┆ null      ┆ 28.96133  ┆ … ┆ 0.0       ┆ 2.583333  ┆ 2.083333  ┆ 25.51666 │\n",
       "│           ┆           ┆           ┆           ┆   ┆           ┆           ┆           ┆ 7        │\n",
       "│ 50%       ┆ null      ┆ null      ┆ 30.69123  ┆ … ┆ 0.0       ┆ 3.483333  ┆ 2.75      ┆ 43.46666 │\n",
       "│           ┆           ┆           ┆           ┆   ┆           ┆           ┆           ┆ 7        │\n",
       "│ 75%       ┆ null      ┆ null      ┆ 37.82152  ┆ … ┆ 0.0       ┆ 5.3       ┆ 3.5       ┆ 80.23333 │\n",
       "│           ┆           ┆           ┆           ┆   ┆           ┆           ┆           ┆ 3        │\n",
       "│ max       ┆ 9993808_H ┆ Wilmingto ┆ 61.23778  ┆ … ┆ 241.48333 ┆ 2152.5333 ┆ 3653.1666 ┆ 4453.8   │\n",
       "│           ┆ onolulu,  ┆ n, NC     ┆           ┆   ┆ 3         ┆ 33        ┆ 67        ┆          │\n",
       "│           ┆ O'ahu,    ┆           ┆           ┆   ┆           ┆           ┆           ┆          │\n",
       "│           ┆ HI_20…    ┆           ┆           ┆   ┆           ┆           ┆           ┆          │\n",
       "└───────────┴───────────┴───────────┴───────────┴───┴───────────┴───────────┴───────────┴──────────┘"
      ]
     },
     "metadata": {},
     "output_type": "display_data"
    },
    {
     "data": {
      "text/html": [
       "<div><style>\n",
       ".dataframe > thead > tr,\n",
       ".dataframe > tbody > tr {\n",
       "  text-align: right;\n",
       "  white-space: pre-wrap;\n",
       "}\n",
       "</style>\n",
       "<small>shape: (5, 20)</small><table border=\"1\" class=\"dataframe\"><thead><tr><th>call_id</th><th>port_name</th><th>port_lat</th><th>port_lon</th><th>dock_name</th><th>dock_id</th><th>facility_type</th><th>dock_lat</th><th>dock_lon</th><th>imo</th><th>vessel_size</th><th>time_port_entry</th><th>time_arrival</th><th>time_departure</th><th>time_port_exit</th><th>hrs_at_berth</th><th>hrs_at_anchor</th><th>hrs_to_dock</th><th>hrs_in_port_after_dock</th><th>hrs_in_port_waters</th></tr><tr><td>str</td><td>str</td><td>f64</td><td>f64</td><td>str</td><td>str</td><td>str</td><td>f64</td><td>f64</td><td>i64</td><td>f64</td><td>datetime[μs]</td><td>datetime[μs]</td><td>datetime[μs]</td><td>datetime[μs]</td><td>f64</td><td>f64</td><td>f64</td><td>f64</td><td>f64</td></tr></thead><tbody><tr><td>&quot;9720512_Seattle, WA_2018-06-26&quot;</td><td>&quot;Seattle, WA&quot;</td><td>47.587711</td><td>-122.359218</td><td>&quot;SSA TERMINALS, TERMINAL 37 WHA…</td><td>&quot;0UPC&quot;</td><td>&quot;Dock&quot;</td><td>47.592222</td><td>-122.3425</td><td>9720512</td><td>299.0</td><td>2018-06-26 22:24:21</td><td>2018-06-26 23:28:28</td><td>2018-06-27 23:52:59</td><td>2018-06-28 00:42:04</td><td>24.4</td><td>0.0</td><td>1.066667</td><td>0.816667</td><td>26.283333</td></tr><tr><td>&quot;9274939_Port Arthur, TX_2023-1…</td><td>&quot;Port Arthur, TX&quot;</td><td>29.83142</td><td>-93.96069</td><td>&quot;GULF COPPER &amp; MANUFACTURING CO…</td><td>&quot;0Q9N&quot;</td><td>&quot;Dock&quot;</td><td>29.84694</td><td>-93.97056</td><td>9274939</td><td>189.0</td><td>2023-12-05 13:56:01</td><td>2023-12-05 16:38:29</td><td>2023-12-07 20:58:17</td><td>2023-12-07 23:13:07</td><td>52.316667</td><td>0.0</td><td>2.7</td><td>2.233333</td><td>57.283333</td></tr><tr><td>&quot;9453858_Port Arthur, TX_2018-0…</td><td>&quot;Port Arthur, TX&quot;</td><td>29.83142</td><td>-93.96069</td><td>&quot;COASTAL BANK STABILIZATION, SA…</td><td>&quot;0NQH&quot;</td><td>&quot;Dock&quot;</td><td>29.820219</td><td>-93.956497</td><td>9453858</td><td>274.0</td><td>2018-02-12 07:41:00</td><td>2018-02-12 09:49:30</td><td>2018-02-13 17:12:12</td><td>2018-02-13 20:30:30</td><td>27.25</td><td>0.0</td><td>2.133333</td><td>3.3</td><td>36.816667</td></tr><tr><td>&quot;9622552_Corpus Christi, TX_201…</td><td>&quot;Corpus Christi, TX&quot;</td><td>27.81277</td><td>-97.39789</td><td>&quot;ADM Corpus Christi Grain Eleva…</td><td>&quot;0VMP&quot;</td><td>&quot;Dock&quot;</td><td>27.818384</td><td>-97.422371</td><td>9622552</td><td>228.0</td><td>2018-01-25 23:42:32</td><td>2018-01-26 03:21:12</td><td>2018-01-31 20:09:09</td><td>2018-01-31 23:54:50</td><td>136.783333</td><td>0.0</td><td>3.633333</td><td>3.75</td><td>144.2</td></tr><tr><td>&quot;9711561_South Louisiana, LA, P…</td><td>&quot;South Louisiana, LA, Port of&quot;</td><td>30.03345</td><td>-90.61794</td><td>&quot;CARGILL-RESERVE OILSEED WHARF&quot;</td><td>&quot;0U23&quot;</td><td>&quot;Dock&quot;</td><td>30.052841</td><td>-90.588304</td><td>9711561</td><td>184.0</td><td>2020-09-20 19:52:12</td><td>2020-09-20 21:00:12</td><td>2020-09-22 16:15:06</td><td>2020-09-22 16:51:47</td><td>42.783333</td><td>0.0</td><td>1.133333</td><td>0.6</td><td>44.983333</td></tr></tbody></table></div>"
      ],
      "text/plain": [
       "shape: (5, 20)\n",
       "┌───────────┬───────────┬───────────┬───────────┬───┬───────────┬───────────┬───────────┬──────────┐\n",
       "│ call_id   ┆ port_name ┆ port_lat  ┆ port_lon  ┆ … ┆ hrs_at_an ┆ hrs_to_do ┆ hrs_in_po ┆ hrs_in_p │\n",
       "│ ---       ┆ ---       ┆ ---       ┆ ---       ┆   ┆ chor      ┆ ck        ┆ rt_after_ ┆ ort_wate │\n",
       "│ str       ┆ str       ┆ f64       ┆ f64       ┆   ┆ ---       ┆ ---       ┆ dock      ┆ rs       │\n",
       "│           ┆           ┆           ┆           ┆   ┆ f64       ┆ f64       ┆ ---       ┆ ---      │\n",
       "│           ┆           ┆           ┆           ┆   ┆           ┆           ┆ f64       ┆ f64      │\n",
       "╞═══════════╪═══════════╪═══════════╪═══════════╪═══╪═══════════╪═══════════╪═══════════╪══════════╡\n",
       "│ 9720512_S ┆ Seattle,  ┆ 47.587711 ┆ -122.3592 ┆ … ┆ 0.0       ┆ 1.066667  ┆ 0.816667  ┆ 26.28333 │\n",
       "│ eattle,   ┆ WA        ┆           ┆ 18        ┆   ┆           ┆           ┆           ┆ 3        │\n",
       "│ WA_2018-0 ┆           ┆           ┆           ┆   ┆           ┆           ┆           ┆          │\n",
       "│ 6-26      ┆           ┆           ┆           ┆   ┆           ┆           ┆           ┆          │\n",
       "│ 9274939_P ┆ Port      ┆ 29.83142  ┆ -93.96069 ┆ … ┆ 0.0       ┆ 2.7       ┆ 2.233333  ┆ 57.28333 │\n",
       "│ ort       ┆ Arthur,   ┆           ┆           ┆   ┆           ┆           ┆           ┆ 3        │\n",
       "│ Arthur,   ┆ TX        ┆           ┆           ┆   ┆           ┆           ┆           ┆          │\n",
       "│ TX_2023-1 ┆           ┆           ┆           ┆   ┆           ┆           ┆           ┆          │\n",
       "│ …         ┆           ┆           ┆           ┆   ┆           ┆           ┆           ┆          │\n",
       "│ 9453858_P ┆ Port      ┆ 29.83142  ┆ -93.96069 ┆ … ┆ 0.0       ┆ 2.133333  ┆ 3.3       ┆ 36.81666 │\n",
       "│ ort       ┆ Arthur,   ┆           ┆           ┆   ┆           ┆           ┆           ┆ 7        │\n",
       "│ Arthur,   ┆ TX        ┆           ┆           ┆   ┆           ┆           ┆           ┆          │\n",
       "│ TX_2018-0 ┆           ┆           ┆           ┆   ┆           ┆           ┆           ┆          │\n",
       "│ …         ┆           ┆           ┆           ┆   ┆           ┆           ┆           ┆          │\n",
       "│ 9622552_C ┆ Corpus    ┆ 27.81277  ┆ -97.39789 ┆ … ┆ 0.0       ┆ 3.633333  ┆ 3.75      ┆ 144.2    │\n",
       "│ orpus     ┆ Christi,  ┆           ┆           ┆   ┆           ┆           ┆           ┆          │\n",
       "│ Christi,  ┆ TX        ┆           ┆           ┆   ┆           ┆           ┆           ┆          │\n",
       "│ TX_201…   ┆           ┆           ┆           ┆   ┆           ┆           ┆           ┆          │\n",
       "│ 9711561_S ┆ South Lou ┆ 30.03345  ┆ -90.61794 ┆ … ┆ 0.0       ┆ 1.133333  ┆ 0.6       ┆ 44.98333 │\n",
       "│ outh Loui ┆ isiana,   ┆           ┆           ┆   ┆           ┆           ┆           ┆ 3        │\n",
       "│ siana,    ┆ LA, Port  ┆           ┆           ┆   ┆           ┆           ┆           ┆          │\n",
       "│ LA, P…    ┆ of        ┆           ┆           ┆   ┆           ┆           ┆           ┆          │\n",
       "└───────────┴───────────┴───────────┴───────────┴───┴───────────┴───────────┴───────────┴──────────┘"
      ]
     },
     "execution_count": 5,
     "metadata": {},
     "output_type": "execute_result"
    }
   ],
   "source": [
    "#get count of rows from calls_df before drop\n",
    "rows_prior = calls_df.shape[0]\n",
    "\n",
    "#list cols for outlier drop\n",
    "outlier_cols = ['hrs_at_berth', 'hrs_to_dock', 'hrs_at_anchor', \n",
    "                'hrs_in_port_after_dock', 'hrs_in_port_waters']\n",
    "\n",
    "#drop outliers\n",
    "#print z_score thresholds\n",
    "for col in outlier_cols:\n",
    "    print(f'{col} outlier threshold: {calls_df[col].std()*3/24:.1f} days')\n",
    "#drop outliers\n",
    "calls_df = drop_outliers(calls_df, outlier_cols, threshold=3)\n",
    "#print rows dropped\n",
    "print(f'Total outlier rows dropped: {rows_prior - calls_df.shape[0]} of {rows_prior}')\n",
    "\n",
    "#inspect\n",
    "display(calls_df.describe())\n",
    "calls_df.head()"
   ]
  },
  {
   "cell_type": "code",
   "execution_count": 6,
   "metadata": {},
   "outputs": [],
   "source": [
    "#save calls dataframe to parquet\n",
    "calls_df.write_parquet('dashboard/calls.parquet')"
   ]
  },
  {
   "cell_type": "markdown",
   "metadata": {},
   "source": [
    "## Simple delay calculations\n",
    "\n",
    "Differentiating between delay time and the \"efficient\" time it takes for a ship to get to a dock is somewhat difficult. \n",
    "\n",
    "At its most basic, we can calculate the difference between the hrs_to_dock time for each port call and the minimum hrs_to_dock for that vessel and dock. "
   ]
  },
  {
   "cell_type": "code",
   "execution_count": 7,
   "metadata": {},
   "outputs": [],
   "source": [
    "## these stats tabled for now\n",
    "\n",
    "#add min hrs to dock for each vessel-dock pair\n",
    "delay_df = (\n",
    "    calls_df\n",
    "    #min hrs to dock for each vessel-dock pair\n",
    "    .with_columns(\n",
    "        min_hrs_to_dock = pl.col('hrs_to_dock').min().over('imo', 'dock_id')\n",
    "    )\n",
    "    #\"delay\" in hrs\n",
    "    .with_columns(\n",
    "        hrs_delay = pl.col('hrs_to_dock') - pl.col('min_hrs_to_dock')\n",
    "    )\n",
    "    #drop unnecessary columns\n",
    "    .drop('min_hrs_to_dock')\n",
    ")"
   ]
  },
  {
   "cell_type": "markdown",
   "metadata": {},
   "source": [
    "64k of 145k port calls align show zero delay indicating those calls represent the only time that that vessel visited that dock. "
   ]
  },
  {
   "cell_type": "markdown",
   "metadata": {},
   "source": [
    "### Time Awaiting Berth\n",
    "\n",
    "We define time awaiting berth as the total time it takes a vessel to get to the dock minus the amount of time the dock was occupied while that vessel was en route. \n",
    "\n",
    "Generating this statistic is tabled for now. "
   ]
  },
  {
   "cell_type": "code",
   "execution_count": 8,
   "metadata": {},
   "outputs": [
    {
     "name": "stdout",
     "output_type": "stream",
     "text": [
      "skipping\n"
     ]
    }
   ],
   "source": [
    "%%script echo skipping\n",
    "#calculate time awaiting berth\n",
    "\n",
    "#for each call_id and dock, get the total time dock was occupied between time_port_entry and time_arrival\n",
    "\n",
    "#get time_port_entry, time_arrival for each call id\n",
    "lf = (calls_df.select('call_id', 'time_port_entry', 'time_arrival')\n",
    "      .unique().lazy())\n",
    "#join to main lf\n",
    "main_lf = main_lf.join(lf, on='call_id', how='left')\n",
    "\n",
    "for call in calls_df.select('call_id').unique().to_series():\n",
    "      #get start time and end time\n",
    "      start = (calls_df.filter(pl.col('call_id')==call)\n",
    "               .select('time_port_entry').item())\n",
    "      end = (calls_df.filter(pl.col('call_id')==call)\n",
    "               .select('time_arrival').item())\n",
    "      #get dock occupancy\n",
    "      df = (\n",
    "            main_lf\n",
    "            .with_columns(\n",
    "                  dock_occupied = (\n",
    "                        (pl.col('status')==5)\n",
    "                        .then(pl.col('status_duration'))\n",
    "                        .otherwise(pl.lit(None))\n",
    "                  )\n",
    "            )\n",
    "      )\n"
   ]
  },
  {
   "cell_type": "code",
   "execution_count": 9,
   "metadata": {},
   "outputs": [],
   "source": [
    "#create monthly stats dataframe\n",
    "monthly_df = (\n",
    "    calls_df\n",
    "    #get month from docking time\n",
    "    .with_columns(\n",
    "        #extract month from docking time\n",
    "        month = pl.col('time_arrival').dt.strftime('%Y%m')\n",
    "    )\n",
    "    #group by port dock and month\n",
    "    .group_by(['port_name', 'port_lat', 'port_lon', \n",
    "               'dock_id', 'dock_name', 'dock_lat', 'dock_lon', \n",
    "               'month'])\n",
    "    .agg(\n",
    "        #count number of vessels\n",
    "        vessels = pl.n_unique('imo'),\n",
    "        #mean vessel size\n",
    "        vessel_size_mean = pl.mean('vessel_size'),\n",
    "        #count number of vessel calls\n",
    "        calls = pl.n_unique('call_id'),\n",
    "        #time at dock stats for each vessel in hours\n",
    "        hrs_occupied = pl.sum('hrs_at_berth'),\n",
    "        hrs_at_berth_median = pl.median('hrs_at_berth'),\n",
    "        hrs_at_berth_mean = pl.mean('hrs_at_berth'),\n",
    "        #time at anchor stats for each vessel visit in hours\n",
    "        hrs_at_anchor_median = pl.median('hrs_at_anchor'),\n",
    "        hrs_at_anchor_mean = pl.mean('hrs_at_anchor'),\n",
    "        #time in port waters \n",
    "        hrs_in_port_waters_total = pl.sum('hrs_in_port_waters'),\n",
    "        hrs_in_port_waters_mean = pl.mean('hrs_in_port_waters'),\n",
    "        hrs_in_port_waters_median = pl.median('hrs_in_port_waters')\n",
    "    )\n",
    "    #get hours from each month\n",
    "    .with_columns(\n",
    "        hrs_in_month = (\n",
    "            pl.when(pl.col('month').str.tail(2).is_in(['01', '03', '05', '07',\n",
    "                                                       '08', '10', '12']))\n",
    "            .then(31*24)\n",
    "            .when(pl.col('month').str.tail(2).is_in(['04', '06', '09', '11']))\n",
    "            .then(30*24)\n",
    "            .otherwise(28*24)\n",
    "        )\n",
    "    )\n",
    "    .with_columns(\n",
    "        #dock utilization - percentage of time a dock is occupied\n",
    "        utilization = (\n",
    "            pl.col('hrs_occupied')/pl.col('hrs_in_month')\n",
    "        )\n",
    "    )\n",
    "    #drop hours in month\n",
    "    .drop('hrs_in_month')\n",
    "    #sort by port dock then month\n",
    "    .sort(['port_name', 'dock_id', 'month'])\n",
    ")"
   ]
  },
  {
   "cell_type": "code",
   "execution_count": 10,
   "metadata": {},
   "outputs": [
    {
     "data": {
      "text/html": [
       "<div><style>\n",
       ".dataframe > thead > tr,\n",
       ".dataframe > tbody > tr {\n",
       "  text-align: right;\n",
       "  white-space: pre-wrap;\n",
       "}\n",
       "</style>\n",
       "<small>shape: (9, 21)</small><table border=\"1\" class=\"dataframe\"><thead><tr><th>statistic</th><th>port_name</th><th>port_lat</th><th>port_lon</th><th>dock_id</th><th>dock_name</th><th>dock_lat</th><th>dock_lon</th><th>month</th><th>vessels</th><th>vessel_size_mean</th><th>calls</th><th>hrs_occupied</th><th>hrs_at_berth_median</th><th>hrs_at_berth_mean</th><th>hrs_at_anchor_median</th><th>hrs_at_anchor_mean</th><th>hrs_in_port_waters_total</th><th>hrs_in_port_waters_mean</th><th>hrs_in_port_waters_median</th><th>utilization</th></tr><tr><td>str</td><td>str</td><td>f64</td><td>f64</td><td>str</td><td>str</td><td>f64</td><td>f64</td><td>str</td><td>f64</td><td>f64</td><td>f64</td><td>f64</td><td>f64</td><td>f64</td><td>f64</td><td>f64</td><td>f64</td><td>f64</td><td>f64</td><td>f64</td></tr></thead><tbody><tr><td>&quot;count&quot;</td><td>&quot;36608&quot;</td><td>36608.0</td><td>36608.0</td><td>&quot;36608&quot;</td><td>&quot;36608&quot;</td><td>36608.0</td><td>36608.0</td><td>&quot;36608&quot;</td><td>36608.0</td><td>36608.0</td><td>36608.0</td><td>36608.0</td><td>36608.0</td><td>36608.0</td><td>36608.0</td><td>36608.0</td><td>36608.0</td><td>36608.0</td><td>36608.0</td><td>36608.0</td></tr><tr><td>&quot;null_count&quot;</td><td>&quot;0&quot;</td><td>0.0</td><td>0.0</td><td>&quot;0&quot;</td><td>&quot;0&quot;</td><td>0.0</td><td>0.0</td><td>&quot;0&quot;</td><td>0.0</td><td>0.0</td><td>0.0</td><td>0.0</td><td>0.0</td><td>0.0</td><td>0.0</td><td>0.0</td><td>0.0</td><td>0.0</td><td>0.0</td><td>0.0</td></tr><tr><td>&quot;mean&quot;</td><td>null</td><td>33.065602</td><td>-96.129839</td><td>null</td><td>null</td><td>33.067246</td><td>-96.127767</td><td>null</td><td>3.734484</td><td>196.575189</td><td>4.266964</td><td>203.349279</td><td>59.07298</td><td>62.280449</td><td>7.063938</td><td>9.161418</td><td>294.655525</td><td>87.07361</td><td>81.833121</td><td>0.278623</td></tr><tr><td>&quot;std&quot;</td><td>null</td><td>7.146354</td><td>21.029876</td><td>null</td><td>null</td><td>7.145876</td><td>21.030218</td><td>null</td><td>3.699281</td><td>49.41352</td><td>4.382633</td><td>195.933579</td><td>68.080966</td><td>68.545964</td><td>23.254675</td><td>24.108798</td><td>309.790545</td><td>99.516213</td><td>97.928535</td><td>0.268247</td></tr><tr><td>&quot;min&quot;</td><td>&quot;Albany Port District, NY&quot;</td><td>17.938939</td><td>-166.549916</td><td>&quot;00XE&quot;</td><td>&quot;ADM Corpus Christi Grain Eleva…</td><td>17.936081</td><td>-166.53444</td><td>&quot;201801&quot;</td><td>1.0</td><td>101.0</td><td>1.0</td><td>0.083333</td><td>0.083333</td><td>0.083333</td><td>0.0</td><td>0.0</td><td>0.65</td><td>0.65</td><td>0.65</td><td>0.000112</td></tr><tr><td>&quot;25%&quot;</td><td>null</td><td>29.31049</td><td>-118.2095</td><td>null</td><td>null</td><td>29.312778</td><td>-118.21666</td><td>null</td><td>1.0</td><td>169.0</td><td>1.0</td><td>67.9</td><td>22.716667</td><td>25.3</td><td>0.0</td><td>0.0</td><td>96.683333</td><td>37.184722</td><td>33.6</td><td>0.092986</td></tr><tr><td>&quot;50%&quot;</td><td>null</td><td>30.69123</td><td>-93.96069</td><td>null</td><td>null</td><td>30.721049</td><td>-93.941127</td><td>null</td><td>3.0</td><td>185.333333</td><td>3.0</td><td>147.716667</td><td>40.45</td><td>43.779167</td><td>0.0</td><td>0.0</td><td>204.6</td><td>62.958333</td><td>57.341667</td><td>0.202487</td></tr><tr><td>&quot;75%&quot;</td><td>null</td><td>37.924237</td><td>-80.117801</td><td>null</td><td>null</td><td>37.92194</td><td>-80.116111</td><td>null</td><td>5.0</td><td>213.0</td><td>5.0</td><td>278.7</td><td>72.133333</td><td>76.288889</td><td>0.0</td><td>4.22619</td><td>385.933333</td><td>105.845833</td><td>99.783333</td><td>0.381698</td></tr><tr><td>&quot;max&quot;</td><td>&quot;Wilmington, NC&quot;</td><td>61.23778</td><td>-66.096678</td><td>&quot;1JHK&quot;</td><td>&quot;YUSEN TERMINALS BERTHS 212-221&quot;</td><td>61.24306</td><td>-66.086926</td><td>&quot;202412&quot;</td><td>44.0</td><td>385.0</td><td>53.0</td><td>3851.016667</td><td>1312.966667</td><td>1312.966667</td><td>239.7</td><td>239.7</td><td>6076.233333</td><td>3290.8</td><td>3290.8</td><td>5.176098</td></tr></tbody></table></div>"
      ],
      "text/plain": [
       "shape: (9, 21)\n",
       "┌───────────┬───────────┬───────────┬───────────┬───┬───────────┬───────────┬───────────┬──────────┐\n",
       "│ statistic ┆ port_name ┆ port_lat  ┆ port_lon  ┆ … ┆ hrs_in_po ┆ hrs_in_po ┆ hrs_in_po ┆ utilizat │\n",
       "│ ---       ┆ ---       ┆ ---       ┆ ---       ┆   ┆ rt_waters ┆ rt_waters ┆ rt_waters ┆ ion      │\n",
       "│ str       ┆ str       ┆ f64       ┆ f64       ┆   ┆ _total    ┆ _mean     ┆ _median   ┆ ---      │\n",
       "│           ┆           ┆           ┆           ┆   ┆ ---       ┆ ---       ┆ ---       ┆ f64      │\n",
       "│           ┆           ┆           ┆           ┆   ┆ f64       ┆ f64       ┆ f64       ┆          │\n",
       "╞═══════════╪═══════════╪═══════════╪═══════════╪═══╪═══════════╪═══════════╪═══════════╪══════════╡\n",
       "│ count     ┆ 36608     ┆ 36608.0   ┆ 36608.0   ┆ … ┆ 36608.0   ┆ 36608.0   ┆ 36608.0   ┆ 36608.0  │\n",
       "│ null_coun ┆ 0         ┆ 0.0       ┆ 0.0       ┆ … ┆ 0.0       ┆ 0.0       ┆ 0.0       ┆ 0.0      │\n",
       "│ t         ┆           ┆           ┆           ┆   ┆           ┆           ┆           ┆          │\n",
       "│ mean      ┆ null      ┆ 33.065602 ┆ -96.12983 ┆ … ┆ 294.65552 ┆ 87.07361  ┆ 81.833121 ┆ 0.278623 │\n",
       "│           ┆           ┆           ┆ 9         ┆   ┆ 5         ┆           ┆           ┆          │\n",
       "│ std       ┆ null      ┆ 7.146354  ┆ 21.029876 ┆ … ┆ 309.79054 ┆ 99.516213 ┆ 97.928535 ┆ 0.268247 │\n",
       "│           ┆           ┆           ┆           ┆   ┆ 5         ┆           ┆           ┆          │\n",
       "│ min       ┆ Albany    ┆ 17.938939 ┆ -166.5499 ┆ … ┆ 0.65      ┆ 0.65      ┆ 0.65      ┆ 0.000112 │\n",
       "│           ┆ Port      ┆           ┆ 16        ┆   ┆           ┆           ┆           ┆          │\n",
       "│           ┆ District, ┆           ┆           ┆   ┆           ┆           ┆           ┆          │\n",
       "│           ┆ NY        ┆           ┆           ┆   ┆           ┆           ┆           ┆          │\n",
       "│ 25%       ┆ null      ┆ 29.31049  ┆ -118.2095 ┆ … ┆ 96.683333 ┆ 37.184722 ┆ 33.6      ┆ 0.092986 │\n",
       "│ 50%       ┆ null      ┆ 30.69123  ┆ -93.96069 ┆ … ┆ 204.6     ┆ 62.958333 ┆ 57.341667 ┆ 0.202487 │\n",
       "│ 75%       ┆ null      ┆ 37.924237 ┆ -80.11780 ┆ … ┆ 385.93333 ┆ 105.84583 ┆ 99.783333 ┆ 0.381698 │\n",
       "│           ┆           ┆           ┆ 1         ┆   ┆ 3         ┆ 3         ┆           ┆          │\n",
       "│ max       ┆ Wilmingto ┆ 61.23778  ┆ -66.09667 ┆ … ┆ 6076.2333 ┆ 3290.8    ┆ 3290.8    ┆ 5.176098 │\n",
       "│           ┆ n, NC     ┆           ┆ 8         ┆   ┆ 33        ┆           ┆           ┆          │\n",
       "└───────────┴───────────┴───────────┴───────────┴───┴───────────┴───────────┴───────────┴──────────┘"
      ]
     },
     "execution_count": 10,
     "metadata": {},
     "output_type": "execute_result"
    }
   ],
   "source": [
    "monthly_df.describe()"
   ]
  },
  {
   "cell_type": "markdown",
   "metadata": {},
   "source": [
    "#### Hours calc discussion\n",
    "\n",
    "The current code first associates the call_id with the month in which the vessel arrived at dock, then counts total times for that call_id to that month. This results in some edge cases where hours stats far exceed the total hours in the month, as in the case that a vessel arrives at the dock and stays there for a very long period of time. \n",
    "\n",
    "This can be partially resolved by dropping statuses that are very long, which needs to be done anyway.\n",
    "- what's the right strategy? set status duration to (the median for that dock? zero? 12hr?) and give an unknown status afterwards? \n",
    "\n",
    "It would be fully resolved by totaling monthly hrs (at dock or hrs utilized, for example) independently of call_id.  "
   ]
  },
  {
   "cell_type": "code",
   "execution_count": 11,
   "metadata": {},
   "outputs": [
    {
     "data": {
      "text/html": [
       "<div><style>\n",
       ".dataframe > thead > tr,\n",
       ".dataframe > tbody > tr {\n",
       "  text-align: right;\n",
       "  white-space: pre-wrap;\n",
       "}\n",
       "</style>\n",
       "<small>shape: (9, 11)</small><table border=\"1\" class=\"dataframe\"><thead><tr><th>statistic</th><th>port_name</th><th>port_lat</th><th>port_lon</th><th>vessels</th><th>vessel_size_mean</th><th>calls</th><th>hrs_at_berth_median</th><th>hrs_at_berth_mean</th><th>hrs_at_anchor_median</th><th>hrs_at_anchor_mean</th></tr><tr><td>str</td><td>str</td><td>f64</td><td>f64</td><td>f64</td><td>f64</td><td>f64</td><td>f64</td><td>f64</td><td>f64</td><td>f64</td></tr></thead><tbody><tr><td>&quot;count&quot;</td><td>&quot;70&quot;</td><td>70.0</td><td>70.0</td><td>70.0</td><td>70.0</td><td>70.0</td><td>70.0</td><td>70.0</td><td>70.0</td><td>70.0</td></tr><tr><td>&quot;null_count&quot;</td><td>&quot;0&quot;</td><td>0.0</td><td>0.0</td><td>0.0</td><td>0.0</td><td>0.0</td><td>0.0</td><td>0.0</td><td>0.0</td><td>0.0</td></tr><tr><td>&quot;mean&quot;</td><td>null</td><td>34.779816</td><td>-98.610018</td><td>721.157143</td><td>196.553312</td><td>2231.5</td><td>51.583095</td><td>65.860549</td><td>0.789286</td><td>7.880859</td></tr><tr><td>&quot;std&quot;</td><td>null</td><td>9.237948</td><td>26.612897</td><td>724.276243</td><td>36.808856</td><td>2342.781115</td><td>101.894353</td><td>93.421029</td><td>2.841881</td><td>9.419134</td></tr><tr><td>&quot;min&quot;</td><td>&quot;Albany Port District, NY&quot;</td><td>17.938939</td><td>-166.549916</td><td>3.0</td><td>116.649057</td><td>3.0</td><td>8.283333</td><td>10.697699</td><td>0.0</td><td>0.0</td></tr><tr><td>&quot;25%&quot;</td><td>null</td><td>29.31049</td><td>-121.541541</td><td>135.0</td><td>172.516129</td><td>421.0</td><td>22.716667</td><td>34.629341</td><td>0.0</td><td>1.077004</td></tr><tr><td>&quot;50%&quot;</td><td>null</td><td>32.788781</td><td>-90.61794</td><td>566.0</td><td>189.904811</td><td>1281.0</td><td>33.791667</td><td>49.059608</td><td>0.0</td><td>4.162376</td></tr><tr><td>&quot;75%&quot;</td><td>null</td><td>41.172</td><td>-76.72421</td><td>1036.0</td><td>214.217852</td><td>3535.0</td><td>50.583333</td><td>62.423874</td><td>0.0</td><td>12.891602</td></tr><tr><td>&quot;max&quot;</td><td>&quot;Wilmington, NC&quot;</td><td>61.23778</td><td>-66.096678</td><td>2763.0</td><td>294.860534</td><td>10203.0</td><td>854.516667</td><td>745.248718</td><td>17.35</td><td>43.294419</td></tr></tbody></table></div>"
      ],
      "text/plain": [
       "shape: (9, 11)\n",
       "┌───────────┬───────────┬───────────┬───────────┬───┬───────────┬───────────┬───────────┬──────────┐\n",
       "│ statistic ┆ port_name ┆ port_lat  ┆ port_lon  ┆ … ┆ hrs_at_be ┆ hrs_at_be ┆ hrs_at_an ┆ hrs_at_a │\n",
       "│ ---       ┆ ---       ┆ ---       ┆ ---       ┆   ┆ rth_media ┆ rth_mean  ┆ chor_medi ┆ nchor_me │\n",
       "│ str       ┆ str       ┆ f64       ┆ f64       ┆   ┆ n         ┆ ---       ┆ an        ┆ an       │\n",
       "│           ┆           ┆           ┆           ┆   ┆ ---       ┆ f64       ┆ ---       ┆ ---      │\n",
       "│           ┆           ┆           ┆           ┆   ┆ f64       ┆           ┆ f64       ┆ f64      │\n",
       "╞═══════════╪═══════════╪═══════════╪═══════════╪═══╪═══════════╪═══════════╪═══════════╪══════════╡\n",
       "│ count     ┆ 70        ┆ 70.0      ┆ 70.0      ┆ … ┆ 70.0      ┆ 70.0      ┆ 70.0      ┆ 70.0     │\n",
       "│ null_coun ┆ 0         ┆ 0.0       ┆ 0.0       ┆ … ┆ 0.0       ┆ 0.0       ┆ 0.0       ┆ 0.0      │\n",
       "│ t         ┆           ┆           ┆           ┆   ┆           ┆           ┆           ┆          │\n",
       "│ mean      ┆ null      ┆ 34.779816 ┆ -98.61001 ┆ … ┆ 51.583095 ┆ 65.860549 ┆ 0.789286  ┆ 7.880859 │\n",
       "│           ┆           ┆           ┆ 8         ┆   ┆           ┆           ┆           ┆          │\n",
       "│ std       ┆ null      ┆ 9.237948  ┆ 26.612897 ┆ … ┆ 101.89435 ┆ 93.421029 ┆ 2.841881  ┆ 9.419134 │\n",
       "│           ┆           ┆           ┆           ┆   ┆ 3         ┆           ┆           ┆          │\n",
       "│ min       ┆ Albany    ┆ 17.938939 ┆ -166.5499 ┆ … ┆ 8.283333  ┆ 10.697699 ┆ 0.0       ┆ 0.0      │\n",
       "│           ┆ Port      ┆           ┆ 16        ┆   ┆           ┆           ┆           ┆          │\n",
       "│           ┆ District, ┆           ┆           ┆   ┆           ┆           ┆           ┆          │\n",
       "│           ┆ NY        ┆           ┆           ┆   ┆           ┆           ┆           ┆          │\n",
       "│ 25%       ┆ null      ┆ 29.31049  ┆ -121.5415 ┆ … ┆ 22.716667 ┆ 34.629341 ┆ 0.0       ┆ 1.077004 │\n",
       "│           ┆           ┆           ┆ 41        ┆   ┆           ┆           ┆           ┆          │\n",
       "│ 50%       ┆ null      ┆ 32.788781 ┆ -90.61794 ┆ … ┆ 33.791667 ┆ 49.059608 ┆ 0.0       ┆ 4.162376 │\n",
       "│ 75%       ┆ null      ┆ 41.172    ┆ -76.72421 ┆ … ┆ 50.583333 ┆ 62.423874 ┆ 0.0       ┆ 12.89160 │\n",
       "│           ┆           ┆           ┆           ┆   ┆           ┆           ┆           ┆ 2        │\n",
       "│ max       ┆ Wilmingto ┆ 61.23778  ┆ -66.09667 ┆ … ┆ 854.51666 ┆ 745.24871 ┆ 17.35     ┆ 43.29441 │\n",
       "│           ┆ n, NC     ┆           ┆ 8         ┆   ┆ 7         ┆ 8         ┆           ┆ 9        │\n",
       "└───────────┴───────────┴───────────┴───────────┴───┴───────────┴───────────┴───────────┴──────────┘"
      ]
     },
     "metadata": {},
     "output_type": "display_data"
    },
    {
     "data": {
      "text/html": [
       "<div><style>\n",
       ".dataframe > thead > tr,\n",
       ".dataframe > tbody > tr {\n",
       "  text-align: right;\n",
       "  white-space: pre-wrap;\n",
       "}\n",
       "</style>\n",
       "<small>shape: (5, 10)</small><table border=\"1\" class=\"dataframe\"><thead><tr><th>port_name</th><th>port_lat</th><th>port_lon</th><th>vessels</th><th>vessel_size_mean</th><th>calls</th><th>hrs_at_berth_median</th><th>hrs_at_berth_mean</th><th>hrs_at_anchor_median</th><th>hrs_at_anchor_mean</th></tr><tr><td>str</td><td>f64</td><td>f64</td><td>u32</td><td>f64</td><td>u32</td><td>f64</td><td>f64</td><td>f64</td><td>f64</td></tr></thead><tbody><tr><td>&quot;Albany Port District, NY&quot;</td><td>42.64271</td><td>-73.74816</td><td>269</td><td>157.955614</td><td>383</td><td>65.8</td><td>81.078024</td><td>0.0</td><td>0.240992</td></tr><tr><td>&quot;Anacortes, WA&quot;</td><td>48.495943</td><td>-122.59961</td><td>283</td><td>218.612069</td><td>1160</td><td>36.925</td><td>49.28352</td><td>0.0</td><td>24.829353</td></tr><tr><td>&quot;Baltimore, MD&quot;</td><td>39.250827</td><td>-76.56164</td><td>2592</td><td>213.42916</td><td>7764</td><td>34.358333</td><td>47.868891</td><td>0.0</td><td>12.891602</td></tr><tr><td>&quot;Beaumont, TX&quot;</td><td>30.084872</td><td>-94.094985</td><td>1036</td><td>183.204467</td><td>2015</td><td>53.983333</td><td>66.821241</td><td>0.0</td><td>3.493176</td></tr><tr><td>&quot;Boston, MA&quot;</td><td>42.342468</td><td>-71.032029</td><td>326</td><td>294.860534</td><td>1011</td><td>17.766667</td><td>28.00061</td><td>0.0</td><td>2.473656</td></tr></tbody></table></div>"
      ],
      "text/plain": [
       "shape: (5, 10)\n",
       "┌────────────┬───────────┬───────────┬─────────┬───┬───────────┬───────────┬───────────┬───────────┐\n",
       "│ port_name  ┆ port_lat  ┆ port_lon  ┆ vessels ┆ … ┆ hrs_at_be ┆ hrs_at_be ┆ hrs_at_an ┆ hrs_at_an │\n",
       "│ ---        ┆ ---       ┆ ---       ┆ ---     ┆   ┆ rth_media ┆ rth_mean  ┆ chor_medi ┆ chor_mean │\n",
       "│ str        ┆ f64       ┆ f64       ┆ u32     ┆   ┆ n         ┆ ---       ┆ an        ┆ ---       │\n",
       "│            ┆           ┆           ┆         ┆   ┆ ---       ┆ f64       ┆ ---       ┆ f64       │\n",
       "│            ┆           ┆           ┆         ┆   ┆ f64       ┆           ┆ f64       ┆           │\n",
       "╞════════════╪═══════════╪═══════════╪═════════╪═══╪═══════════╪═══════════╪═══════════╪═══════════╡\n",
       "│ Albany     ┆ 42.64271  ┆ -73.74816 ┆ 269     ┆ … ┆ 65.8      ┆ 81.078024 ┆ 0.0       ┆ 0.240992  │\n",
       "│ Port       ┆           ┆           ┆         ┆   ┆           ┆           ┆           ┆           │\n",
       "│ District,  ┆           ┆           ┆         ┆   ┆           ┆           ┆           ┆           │\n",
       "│ NY         ┆           ┆           ┆         ┆   ┆           ┆           ┆           ┆           │\n",
       "│ Anacortes, ┆ 48.495943 ┆ -122.5996 ┆ 283     ┆ … ┆ 36.925    ┆ 49.28352  ┆ 0.0       ┆ 24.829353 │\n",
       "│ WA         ┆           ┆ 1         ┆         ┆   ┆           ┆           ┆           ┆           │\n",
       "│ Baltimore, ┆ 39.250827 ┆ -76.56164 ┆ 2592    ┆ … ┆ 34.358333 ┆ 47.868891 ┆ 0.0       ┆ 12.891602 │\n",
       "│ MD         ┆           ┆           ┆         ┆   ┆           ┆           ┆           ┆           │\n",
       "│ Beaumont,  ┆ 30.084872 ┆ -94.09498 ┆ 1036    ┆ … ┆ 53.983333 ┆ 66.821241 ┆ 0.0       ┆ 3.493176  │\n",
       "│ TX         ┆           ┆ 5         ┆         ┆   ┆           ┆           ┆           ┆           │\n",
       "│ Boston, MA ┆ 42.342468 ┆ -71.03202 ┆ 326     ┆ … ┆ 17.766667 ┆ 28.00061  ┆ 0.0       ┆ 2.473656  │\n",
       "│            ┆           ┆ 9         ┆         ┆   ┆           ┆           ┆           ┆           │\n",
       "└────────────┴───────────┴───────────┴─────────┴───┴───────────┴───────────┴───────────┴───────────┘"
      ]
     },
     "execution_count": 11,
     "metadata": {},
     "output_type": "execute_result"
    }
   ],
   "source": [
    "ports_alltime_df = (\n",
    "    calls_df\n",
    "    #group by port \n",
    "    .group_by('port_name')\n",
    "    .agg(\n",
    "        #port lat and lon\n",
    "        port_lat = pl.first('port_lat'),\n",
    "        port_lon = pl.first('port_lon'),\n",
    "        #count number of vessels\n",
    "        vessels = pl.n_unique('imo'),\n",
    "        #mean vessel size\n",
    "        vessel_size_mean = pl.mean('vessel_size'),\n",
    "        #count number of vessel calls\n",
    "        calls = pl.n_unique('call_id'),\n",
    "        #time at dock stats for each vessel in hours\n",
    "        hrs_at_berth_median = pl.median('hrs_at_berth'),\n",
    "        hrs_at_berth_mean = pl.mean('hrs_at_berth'),\n",
    "        #time at anchor stats for each vessel visit in hours\n",
    "        hrs_at_anchor_median = pl.median('hrs_at_anchor'),\n",
    "        hrs_at_anchor_mean = pl.mean('hrs_at_anchor')\n",
    "    )\n",
    "    #sort by port\n",
    "    .sort('port_name')\n",
    ")\n",
    "#inspect\n",
    "display(ports_alltime_df.describe())\n",
    "ports_alltime_df.head()"
   ]
  },
  {
   "cell_type": "markdown",
   "metadata": {},
   "source": [
    "## Visualizations"
   ]
  },
  {
   "cell_type": "code",
   "execution_count": 12,
   "metadata": {},
   "outputs": [
    {
     "data": {
      "application/vnd.plotly.v1+json": {
       "config": {
        "plotlyServerURL": "https://plot.ly"
       },
       "data": [
        {
         "geo": "geo",
         "hovertemplate": "<b>%{hovertext}</b><br><br>vessels=%{marker.size}<br>port_lat=%{lat}<br>port_lon=%{lon}<br>hrs_at_berth_median=%{marker.color}<extra></extra>",
         "hovertext": [
          "Albany Port District, NY",
          "Anacortes, WA",
          "Baltimore, MD",
          "Beaumont, TX",
          "Boston, MA",
          "Bridgeport, CT",
          "Brownsville, TX",
          "Calhoun Port Authority, TX",
          "Canaveral Port District, FL",
          "Coos Bay OR, Port of",
          "Corpus Christi, TX",
          "Galveston, TX",
          "Greater Lafourche Port, LA",
          "Guayama, PR",
          "Guaynabo, PR",
          "Honolulu, O'ahu, HI",
          "Houston Port Authority, TX",
          "Jacksonville, FL",
          "Kahului, Maui, HI",
          "Kalaeloa Barbers Point, HI",
          "Lake Charles Harbor District, LA",
          "Manatee County Port, FL",
          "Mobile, AL",
          "Morehead City, NC",
          "Nawiliwili, Kaua'i, HI",
          "New Haven, CT",
          "New Orleans, LA",
          "New York, NY & NJ",
          "Orange County Nav District, TX",
          "Oxnard Harbor District, CA",
          "Panama City Port Authority, FL",
          "Philadelphia Regional Port, PA",
          "Port Arthur, TX",
          "Port Everglades, FL",
          "Port Freeport, TX",
          "Port of Alaska, AK",
          "Port of Brunswick, GA",
          "Port of Charleston, SC",
          "Port of Everett, WA",
          "Port of Greater Baton Rouge, LA",
          "Port of Gulfport, MS",
          "Port of Kalama, WA",
          "Port of Long Beach, CA",
          "Port of Los Angeles, CA",
          "Port of Oakland, CA",
          "Port of Palm Beach District, FL",
          "Port of Pascagoula, MS",
          "Port of Providence, RI",
          "Port of Savannah, GA",
          "Port of Vancouver USA, WA",
          "PortMiami, FL",
          "Portland, ME",
          "Portsmouth, NH",
          "Redwood City, CA",
          "Richmond, CA",
          "Sacramento-Yolo Port, CA",
          "San Diego Unified Port, CA",
          "San Juan, PR",
          "Searsport, ME",
          "Seattle, WA",
          "South Jersey Port Corp, NJ",
          "South Louisiana, LA, Port of",
          "Stockton, CA",
          "Tacoma, WA",
          "Texas City, TX",
          "Unalaska Island, AK",
          "Valdez, AK",
          "Virginia, VA, Port of",
          "Wilmington, DE",
          "Wilmington, NC"
         ],
         "lat": {
          "bdata": "+Wc/UkRSRUAN12oPez9IQBL6YBkboENAlljgK7oVPkCd9s391StFQLx0kxgElkRA8DfaccPzOUBVdjOjH6E8QL+ZX80BajxAaeLkfoeuRUB4K9mxEdA7QCa8y0V8Tz1AIOmayTcfPUBj8GlOXvAxQHQNpfYibjJAbnWr56RPNUAaXDrmPL89QCSO5zOgUj5AzNsRTgvmNEAZcxB0tFI1QCoZcmw9Gz5AtRgD6ziiO0CjAwRz9LA+QLTCu1zEW0FAlvbN/dXzNUAriLoPQKZEQCD3OxQF6j1AABb59UNWREDwBBcrahg+QP7pzaj5EkFAv7pjsU0iPkCSdM3km/VDQIA97fDX1D1ARLXBiegXOkDvqQ65GfY8QEvSNZNvnk5A2SObq+YhP0BgWpvG9mRAQFo0nZ0M/kdAC9MwfERsPkBy9DEfEFw+QCYaa39nA0dAKY3ROqreQECEkCxgAt1AQEWBPpEn6UJA2FAxzt/EOkCYWrbWF1k+QP/FM2jo50RAQU5fz9cKQEBz3CkdrM9GQAVI36RpyDlAZDbIJCPTRUBtRzgteIlFQG9a8KKvwEJAZmDkZU32QkALv5tu2UdDQJ5ZEqCmWkBAwEPf3cpuMkAu/yH99jlGQOo/Mh06y0dAam5MT1jsQ0AYDeAtkAg+QBpz1xLy+UJAkIMSZtqiR0BpOUIG8lw9QHLJcad08kpAQmoTJ/ePTkDSTL7Z5m5CQEPElEii20NAoqDbSxodQUA=",
          "dtype": "f8"
         },
         "legendgroup": "",
         "lon": {
          "bdata": "Owt72uFvUsCdFp8CYKZewAQI5ujxI1PACSf3OxSGV8CC4VzDDMJRwASkNnFyS1LA5lLOF3tZWMC0KOyi6CVYwPxD+u3rJlTAuyCwcmgNX8AEWp4Hd1lYwF1d3EYDtFfAn+OHSiONVsAVB9Dv+4lQwKkPJO8ch1DAfP1l9+S7Y8B8IQGjy9JXwCSwcmiRalTAhTF3LSGPY8CW44dKo8NjwOwN95FbUlfAGdE96xqkVMBthbAaSwJWwOtb5nRZLlPAT9h+MkbrY8B0bagY5zlSwHDylNV0hVbApSTrcHSCUsBYLJrOTm5XwDHChqdXzV3ApNx9jo9oVcDpIoWy8MxSwPPl6PF7fVfA5ps0DYoHVMBAKH6MuddXwGM9CtejvGLAkkQvo1hiVMAPSphp+/pTwBJtVn2ujl7AJzKP/MHMVsD+KVWi7EVWwGaNXaJ6t17A1SCwcmiNXcDcRbWIKJFdwH35D+m3k17Av9798V4DVMA/1SE3wyNWwMdafAqA2VHAH6gavRpGVMAjak3zjqtewCBlxAWgC1TATQte9BWQUcAUnwJgPK9RwNY8Y1+yjV7AVgX4bvOXXsBmHJWbqGJewL1m1edqS13AiQ/s+C+GUMD/8V61MjtRwLmIfm39ll7AeR7cnbXQUsDvuDZUjKdWwJ+nV8oyVF7AOzYC8bqaXsAe8MAAwrpXwIZxcOmY0WTAqepztRVLYsC6NlSM8xNTwGSDTDJy4FLApr4s7dR8U8A=",
          "dtype": "f8"
         },
         "marker": {
          "color": {
           "bdata": "MzMzMzNzUEBmZmZmZnZCQN7d3d3dLUFA3t3d3d39SkBERERERMQxQLy7u7u7OyxAiIiIiIjoSUAQEREREbE6QN7d3d3d7UFAd3d3d3f/XUDv7u7u7s5GQBERERER8TlAeHd3d3cXTUDv7u7u7k42QO/u7u7uzkhAAAAAAABAQECIiIiIiPhQQERERERENGtAERERERGRIEDNzMzMzMxGQBIRERER0VFAVVVVVVXlQEAQEREREXFDQM3MzMzMTE1AeHd3d3e3JEDNzMzMzAxAQJqZmZmZ2TpA3t3d3d2dP0AiIiIiIrSKQIiIiIiICDRAERERERGRSUDe3d3d3V09QM3MzMzMTEVA7+7u7u4uM0BmZmZmZqY2QCIiIiIioi5AZmZmZmZmMEBmZmZmZgYwQGZmZmZmJj9Aq6qqqqpKSUBmZmZmZuYoQDIzMzMzk0lAAAAAAAAAQ0BEREREROROQJqZmZmZGTpAd3d3d3e3NkDMzMzMzBRWQHh3d3d390JAVlVVVVWVOkBVVVVVVbVJQKuqqqqqajBAmZmZmZmZPECIiIiIiMg3QM3MzMzMTDhA7+7u7u6eQ0B3d3d3d/dZQIiIiIiISEdAiIiIiIgIKkBmZmZmZiY7QFVVVVVVVT9AMzMzMzPzQECZmZmZmRlEQM3MzMzMrFBAERERERFROUBERERERORAQEREREREhDBAAAAAAABgQ0AiIiIiIgI2QFVVVVVVJUZAIiIiIiKiLkA=",
           "dtype": "f8"
          },
          "coloraxis": "coloraxis",
          "size": {
           "bdata": "DQEAABsBAAAgCgAADAQAAEYBAAAGAAAAbgMAAPQBAAAoAwAAGAAAAEcHAADqBgAAPQAAAAsAAACxAgAAZwEAAIQIAAAJAAAAFQAAALsAAABiAAAANgIAAKgKAADhAQAAFwAAANMCAABnBwAASwIAAAkAAADJAQAATAAAABkAAAA6CAAAvwUAAP4CAABJAAAA6wIAAEACAADLAAAAEgMAAJAAAADGAgAAywoAALQGAADtAgAA3AAAAEkAAABHAgAA8QYAAD8EAADvAQAAzwAAAFsAAACBAAAA1QMAAP0AAAChAAAAbAIAAIcAAAAqAgAAdwIAANsGAADpAgAAKQQAAMIGAAAvAAAAAwAAAJYEAAAdAgAAMgQAAA==",
           "dtype": "u4"
          },
          "sizemode": "area",
          "sizeref": 3.07,
          "symbol": "circle"
         },
         "mode": "markers",
         "name": "",
         "showlegend": false,
         "type": "scattergeo"
        }
       ],
       "layout": {
        "annotations": [
         {
          "align": "left",
          "font": {
           "color": "black",
           "size": 14
          },
          "showarrow": false,
          "text": "Note: Circle size corresponds to averages vessels per month",
          "x": 0,
          "xref": "paper",
          "y": -0.05,
          "yref": "paper"
         }
        ],
        "coloraxis": {
         "cmax": 50,
         "cmin": 0,
         "colorbar": {
          "title": {
           "text": "hrs_at_berth_median"
          }
         },
         "colorscale": [
          [
           0,
           "#440154"
          ],
          [
           0.1111111111111111,
           "#482878"
          ],
          [
           0.2222222222222222,
           "#3e4989"
          ],
          [
           0.3333333333333333,
           "#31688e"
          ],
          [
           0.4444444444444444,
           "#26828e"
          ],
          [
           0.5555555555555556,
           "#1f9e89"
          ],
          [
           0.6666666666666666,
           "#35b779"
          ],
          [
           0.7777777777777778,
           "#6ece58"
          ],
          [
           0.8888888888888888,
           "#b5de2b"
          ],
          [
           1,
           "#fde725"
          ]
         ]
        },
        "geo": {
         "center": {},
         "domain": {
          "x": [
           0,
           1
          ],
          "y": [
           0,
           1
          ]
         },
         "fitbounds": "locations"
        },
        "height": 600,
        "legend": {
         "itemsizing": "constant",
         "tracegroupgap": 0
        },
        "template": {
         "data": {
          "bar": [
           {
            "error_x": {
             "color": "#2a3f5f"
            },
            "error_y": {
             "color": "#2a3f5f"
            },
            "marker": {
             "line": {
              "color": "#E5ECF6",
              "width": 0.5
             },
             "pattern": {
              "fillmode": "overlay",
              "size": 10,
              "solidity": 0.2
             }
            },
            "type": "bar"
           }
          ],
          "barpolar": [
           {
            "marker": {
             "line": {
              "color": "#E5ECF6",
              "width": 0.5
             },
             "pattern": {
              "fillmode": "overlay",
              "size": 10,
              "solidity": 0.2
             }
            },
            "type": "barpolar"
           }
          ],
          "carpet": [
           {
            "aaxis": {
             "endlinecolor": "#2a3f5f",
             "gridcolor": "white",
             "linecolor": "white",
             "minorgridcolor": "white",
             "startlinecolor": "#2a3f5f"
            },
            "baxis": {
             "endlinecolor": "#2a3f5f",
             "gridcolor": "white",
             "linecolor": "white",
             "minorgridcolor": "white",
             "startlinecolor": "#2a3f5f"
            },
            "type": "carpet"
           }
          ],
          "choropleth": [
           {
            "colorbar": {
             "outlinewidth": 0,
             "ticks": ""
            },
            "type": "choropleth"
           }
          ],
          "contour": [
           {
            "colorbar": {
             "outlinewidth": 0,
             "ticks": ""
            },
            "colorscale": [
             [
              0,
              "#0d0887"
             ],
             [
              0.1111111111111111,
              "#46039f"
             ],
             [
              0.2222222222222222,
              "#7201a8"
             ],
             [
              0.3333333333333333,
              "#9c179e"
             ],
             [
              0.4444444444444444,
              "#bd3786"
             ],
             [
              0.5555555555555556,
              "#d8576b"
             ],
             [
              0.6666666666666666,
              "#ed7953"
             ],
             [
              0.7777777777777778,
              "#fb9f3a"
             ],
             [
              0.8888888888888888,
              "#fdca26"
             ],
             [
              1,
              "#f0f921"
             ]
            ],
            "type": "contour"
           }
          ],
          "contourcarpet": [
           {
            "colorbar": {
             "outlinewidth": 0,
             "ticks": ""
            },
            "type": "contourcarpet"
           }
          ],
          "heatmap": [
           {
            "colorbar": {
             "outlinewidth": 0,
             "ticks": ""
            },
            "colorscale": [
             [
              0,
              "#0d0887"
             ],
             [
              0.1111111111111111,
              "#46039f"
             ],
             [
              0.2222222222222222,
              "#7201a8"
             ],
             [
              0.3333333333333333,
              "#9c179e"
             ],
             [
              0.4444444444444444,
              "#bd3786"
             ],
             [
              0.5555555555555556,
              "#d8576b"
             ],
             [
              0.6666666666666666,
              "#ed7953"
             ],
             [
              0.7777777777777778,
              "#fb9f3a"
             ],
             [
              0.8888888888888888,
              "#fdca26"
             ],
             [
              1,
              "#f0f921"
             ]
            ],
            "type": "heatmap"
           }
          ],
          "histogram": [
           {
            "marker": {
             "pattern": {
              "fillmode": "overlay",
              "size": 10,
              "solidity": 0.2
             }
            },
            "type": "histogram"
           }
          ],
          "histogram2d": [
           {
            "colorbar": {
             "outlinewidth": 0,
             "ticks": ""
            },
            "colorscale": [
             [
              0,
              "#0d0887"
             ],
             [
              0.1111111111111111,
              "#46039f"
             ],
             [
              0.2222222222222222,
              "#7201a8"
             ],
             [
              0.3333333333333333,
              "#9c179e"
             ],
             [
              0.4444444444444444,
              "#bd3786"
             ],
             [
              0.5555555555555556,
              "#d8576b"
             ],
             [
              0.6666666666666666,
              "#ed7953"
             ],
             [
              0.7777777777777778,
              "#fb9f3a"
             ],
             [
              0.8888888888888888,
              "#fdca26"
             ],
             [
              1,
              "#f0f921"
             ]
            ],
            "type": "histogram2d"
           }
          ],
          "histogram2dcontour": [
           {
            "colorbar": {
             "outlinewidth": 0,
             "ticks": ""
            },
            "colorscale": [
             [
              0,
              "#0d0887"
             ],
             [
              0.1111111111111111,
              "#46039f"
             ],
             [
              0.2222222222222222,
              "#7201a8"
             ],
             [
              0.3333333333333333,
              "#9c179e"
             ],
             [
              0.4444444444444444,
              "#bd3786"
             ],
             [
              0.5555555555555556,
              "#d8576b"
             ],
             [
              0.6666666666666666,
              "#ed7953"
             ],
             [
              0.7777777777777778,
              "#fb9f3a"
             ],
             [
              0.8888888888888888,
              "#fdca26"
             ],
             [
              1,
              "#f0f921"
             ]
            ],
            "type": "histogram2dcontour"
           }
          ],
          "mesh3d": [
           {
            "colorbar": {
             "outlinewidth": 0,
             "ticks": ""
            },
            "type": "mesh3d"
           }
          ],
          "parcoords": [
           {
            "line": {
             "colorbar": {
              "outlinewidth": 0,
              "ticks": ""
             }
            },
            "type": "parcoords"
           }
          ],
          "pie": [
           {
            "automargin": true,
            "type": "pie"
           }
          ],
          "scatter": [
           {
            "fillpattern": {
             "fillmode": "overlay",
             "size": 10,
             "solidity": 0.2
            },
            "type": "scatter"
           }
          ],
          "scatter3d": [
           {
            "line": {
             "colorbar": {
              "outlinewidth": 0,
              "ticks": ""
             }
            },
            "marker": {
             "colorbar": {
              "outlinewidth": 0,
              "ticks": ""
             }
            },
            "type": "scatter3d"
           }
          ],
          "scattercarpet": [
           {
            "marker": {
             "colorbar": {
              "outlinewidth": 0,
              "ticks": ""
             }
            },
            "type": "scattercarpet"
           }
          ],
          "scattergeo": [
           {
            "marker": {
             "colorbar": {
              "outlinewidth": 0,
              "ticks": ""
             }
            },
            "type": "scattergeo"
           }
          ],
          "scattergl": [
           {
            "marker": {
             "colorbar": {
              "outlinewidth": 0,
              "ticks": ""
             }
            },
            "type": "scattergl"
           }
          ],
          "scattermap": [
           {
            "marker": {
             "colorbar": {
              "outlinewidth": 0,
              "ticks": ""
             }
            },
            "type": "scattermap"
           }
          ],
          "scattermapbox": [
           {
            "marker": {
             "colorbar": {
              "outlinewidth": 0,
              "ticks": ""
             }
            },
            "type": "scattermapbox"
           }
          ],
          "scatterpolar": [
           {
            "marker": {
             "colorbar": {
              "outlinewidth": 0,
              "ticks": ""
             }
            },
            "type": "scatterpolar"
           }
          ],
          "scatterpolargl": [
           {
            "marker": {
             "colorbar": {
              "outlinewidth": 0,
              "ticks": ""
             }
            },
            "type": "scatterpolargl"
           }
          ],
          "scatterternary": [
           {
            "marker": {
             "colorbar": {
              "outlinewidth": 0,
              "ticks": ""
             }
            },
            "type": "scatterternary"
           }
          ],
          "surface": [
           {
            "colorbar": {
             "outlinewidth": 0,
             "ticks": ""
            },
            "colorscale": [
             [
              0,
              "#0d0887"
             ],
             [
              0.1111111111111111,
              "#46039f"
             ],
             [
              0.2222222222222222,
              "#7201a8"
             ],
             [
              0.3333333333333333,
              "#9c179e"
             ],
             [
              0.4444444444444444,
              "#bd3786"
             ],
             [
              0.5555555555555556,
              "#d8576b"
             ],
             [
              0.6666666666666666,
              "#ed7953"
             ],
             [
              0.7777777777777778,
              "#fb9f3a"
             ],
             [
              0.8888888888888888,
              "#fdca26"
             ],
             [
              1,
              "#f0f921"
             ]
            ],
            "type": "surface"
           }
          ],
          "table": [
           {
            "cells": {
             "fill": {
              "color": "#EBF0F8"
             },
             "line": {
              "color": "white"
             }
            },
            "header": {
             "fill": {
              "color": "#C8D4E3"
             },
             "line": {
              "color": "white"
             }
            },
            "type": "table"
           }
          ]
         },
         "layout": {
          "annotationdefaults": {
           "arrowcolor": "#2a3f5f",
           "arrowhead": 0,
           "arrowwidth": 1
          },
          "autotypenumbers": "strict",
          "coloraxis": {
           "colorbar": {
            "outlinewidth": 0,
            "ticks": ""
           }
          },
          "colorscale": {
           "diverging": [
            [
             0,
             "#8e0152"
            ],
            [
             0.1,
             "#c51b7d"
            ],
            [
             0.2,
             "#de77ae"
            ],
            [
             0.3,
             "#f1b6da"
            ],
            [
             0.4,
             "#fde0ef"
            ],
            [
             0.5,
             "#f7f7f7"
            ],
            [
             0.6,
             "#e6f5d0"
            ],
            [
             0.7,
             "#b8e186"
            ],
            [
             0.8,
             "#7fbc41"
            ],
            [
             0.9,
             "#4d9221"
            ],
            [
             1,
             "#276419"
            ]
           ],
           "sequential": [
            [
             0,
             "#0d0887"
            ],
            [
             0.1111111111111111,
             "#46039f"
            ],
            [
             0.2222222222222222,
             "#7201a8"
            ],
            [
             0.3333333333333333,
             "#9c179e"
            ],
            [
             0.4444444444444444,
             "#bd3786"
            ],
            [
             0.5555555555555556,
             "#d8576b"
            ],
            [
             0.6666666666666666,
             "#ed7953"
            ],
            [
             0.7777777777777778,
             "#fb9f3a"
            ],
            [
             0.8888888888888888,
             "#fdca26"
            ],
            [
             1,
             "#f0f921"
            ]
           ],
           "sequentialminus": [
            [
             0,
             "#0d0887"
            ],
            [
             0.1111111111111111,
             "#46039f"
            ],
            [
             0.2222222222222222,
             "#7201a8"
            ],
            [
             0.3333333333333333,
             "#9c179e"
            ],
            [
             0.4444444444444444,
             "#bd3786"
            ],
            [
             0.5555555555555556,
             "#d8576b"
            ],
            [
             0.6666666666666666,
             "#ed7953"
            ],
            [
             0.7777777777777778,
             "#fb9f3a"
            ],
            [
             0.8888888888888888,
             "#fdca26"
            ],
            [
             1,
             "#f0f921"
            ]
           ]
          },
          "colorway": [
           "#636efa",
           "#EF553B",
           "#00cc96",
           "#ab63fa",
           "#FFA15A",
           "#19d3f3",
           "#FF6692",
           "#B6E880",
           "#FF97FF",
           "#FECB52"
          ],
          "font": {
           "color": "#2a3f5f"
          },
          "geo": {
           "bgcolor": "white",
           "lakecolor": "white",
           "landcolor": "#E5ECF6",
           "showlakes": true,
           "showland": true,
           "subunitcolor": "white"
          },
          "hoverlabel": {
           "align": "left"
          },
          "hovermode": "closest",
          "mapbox": {
           "style": "light"
          },
          "paper_bgcolor": "white",
          "plot_bgcolor": "#E5ECF6",
          "polar": {
           "angularaxis": {
            "gridcolor": "white",
            "linecolor": "white",
            "ticks": ""
           },
           "bgcolor": "#E5ECF6",
           "radialaxis": {
            "gridcolor": "white",
            "linecolor": "white",
            "ticks": ""
           }
          },
          "scene": {
           "xaxis": {
            "backgroundcolor": "#E5ECF6",
            "gridcolor": "white",
            "gridwidth": 2,
            "linecolor": "white",
            "showbackground": true,
            "ticks": "",
            "zerolinecolor": "white"
           },
           "yaxis": {
            "backgroundcolor": "#E5ECF6",
            "gridcolor": "white",
            "gridwidth": 2,
            "linecolor": "white",
            "showbackground": true,
            "ticks": "",
            "zerolinecolor": "white"
           },
           "zaxis": {
            "backgroundcolor": "#E5ECF6",
            "gridcolor": "white",
            "gridwidth": 2,
            "linecolor": "white",
            "showbackground": true,
            "ticks": "",
            "zerolinecolor": "white"
           }
          },
          "shapedefaults": {
           "line": {
            "color": "#2a3f5f"
           }
          },
          "ternary": {
           "aaxis": {
            "gridcolor": "white",
            "linecolor": "white",
            "ticks": ""
           },
           "baxis": {
            "gridcolor": "white",
            "linecolor": "white",
            "ticks": ""
           },
           "bgcolor": "#E5ECF6",
           "caxis": {
            "gridcolor": "white",
            "linecolor": "white",
            "ticks": ""
           }
          },
          "title": {
           "x": 0.05
          },
          "xaxis": {
           "automargin": true,
           "gridcolor": "white",
           "linecolor": "white",
           "ticks": "",
           "title": {
            "standoff": 15
           },
           "zerolinecolor": "white",
           "zerolinewidth": 2
          },
          "yaxis": {
           "automargin": true,
           "gridcolor": "white",
           "linecolor": "white",
           "ticks": "",
           "title": {
            "standoff": 15
           },
           "zerolinecolor": "white",
           "zerolinewidth": 2
          }
         }
        },
        "title": {
         "text": "Total Vessels (all time) and Median Hours at Berth"
        },
        "width": 1000
       }
      }
     },
     "metadata": {},
     "output_type": "display_data"
    }
   ],
   "source": [
    "#scatterplot\n",
    "fig = px.scatter_geo(\n",
    "    ports_alltime_df,\n",
    "    lon='port_lon',\n",
    "    lat='port_lat',\n",
    "    size='vessels',\n",
    "    color='hrs_at_berth_median',\n",
    "    range_color=[0,50],\n",
    "    hover_name='port_name',\n",
    "    size_max=30,\n",
    "    title='Total Vessels (all time) and Median Hours at Berth',\n",
    "    color_continuous_scale=px.colors.sequential.Viridis,\n",
    "    width=1000,\n",
    "    height=600,\n",
    "    labels={\n",
    "        'time_at_berth_avg':'Hours at Berth'\n",
    "    }\n",
    ")\n",
    "\n",
    "# Fit the view to ports\n",
    "fig.update_geos(fitbounds=\"locations\")\n",
    "\n",
    "# Add footnote using add_annotation\n",
    "fig.add_annotation(\n",
    "    text=\"Note: Circle size corresponds to averages vessels per month\",  # Footnote text\n",
    "    xref=\"paper\", yref=\"paper\",  # Position relative to the plot area\n",
    "    x=0, y=0-0.05,  # Adjust to footnote position\n",
    "    showarrow=False,  # No arrow, just text\n",
    "    font=dict(size=14, color=\"black\"),  # Customize the font style\n",
    "    align=\"left\"\n",
    ")\n",
    "\n",
    "# Show the figure\n",
    "fig.show()"
   ]
  },
  {
   "cell_type": "markdown",
   "metadata": {},
   "source": [
    "### Port-level Scatter Plots\n",
    "\n",
    "Developing core visualization and data-agg functions for geographic scatter plots. \n",
    "\n",
    "Initial goal:\n",
    "- User selects port and time bounds; dashboard shows standard visualizations\n",
    "    - calls over time (monthly)\n",
    "    - avg hrs at berth over time (monthly)\n",
    "    - vessel size and hrs at berth scatter\n",
    "    - vessel size and hrs at anchors scatter\n"
   ]
  },
  {
   "cell_type": "code",
   "execution_count": 13,
   "metadata": {},
   "outputs": [
    {
     "data": {
      "text/html": [
       "<div>\n",
       "<style scoped>\n",
       "    .dataframe tbody tr th:only-of-type {\n",
       "        vertical-align: middle;\n",
       "    }\n",
       "\n",
       "    .dataframe tbody tr th {\n",
       "        vertical-align: top;\n",
       "    }\n",
       "\n",
       "    .dataframe thead th {\n",
       "        text-align: right;\n",
       "    }\n",
       "</style>\n",
       "<table border=\"1\" class=\"dataframe\">\n",
       "  <thead>\n",
       "    <tr style=\"text-align: right;\">\n",
       "      <th></th>\n",
       "      <th>dock_name</th>\n",
       "      <th>dock_lat</th>\n",
       "      <th>dock_lon</th>\n",
       "      <th>facility_type</th>\n",
       "      <th>vessel_size_mean</th>\n",
       "      <th>vessel_size_median</th>\n",
       "      <th>hrs_at_berth_mean</th>\n",
       "      <th>hrs_at_berth_median</th>\n",
       "      <th>hrs_at_anchor_mean</th>\n",
       "      <th>hrs_at_anchor_median</th>\n",
       "      <th>hrs_in_port_waters_mean</th>\n",
       "      <th>hrs_in_port_waters_median</th>\n",
       "    </tr>\n",
       "  </thead>\n",
       "  <tbody>\n",
       "    <tr>\n",
       "      <th>0</th>\n",
       "      <td>WESTWAY TRADING CORP LONG BEACH TERM BERTH J-242</td>\n",
       "      <td>33.743163</td>\n",
       "      <td>-118.192388</td>\n",
       "      <td>Dock</td>\n",
       "      <td>287.100746</td>\n",
       "      <td>294.0</td>\n",
       "      <td>67.299627</td>\n",
       "      <td>66.800000</td>\n",
       "      <td>16.252425</td>\n",
       "      <td>0.000</td>\n",
       "      <td>111.414614</td>\n",
       "      <td>90.516667</td>\n",
       "    </tr>\n",
       "    <tr>\n",
       "      <th>1</th>\n",
       "      <td>CALIFORNIA UNITED TERM BERTHS E-24, 25 &amp; 26</td>\n",
       "      <td>33.759722</td>\n",
       "      <td>-118.213880</td>\n",
       "      <td>Dock</td>\n",
       "      <td>343.014235</td>\n",
       "      <td>334.0</td>\n",
       "      <td>82.958304</td>\n",
       "      <td>77.800000</td>\n",
       "      <td>4.085943</td>\n",
       "      <td>0.000</td>\n",
       "      <td>115.204804</td>\n",
       "      <td>99.916667</td>\n",
       "    </tr>\n",
       "    <tr>\n",
       "      <th>2</th>\n",
       "      <td>SEA-LAND SVC PAC DIV BERTHS G-230, 229, 228 &amp; 227</td>\n",
       "      <td>33.747500</td>\n",
       "      <td>-118.198880</td>\n",
       "      <td>Dock</td>\n",
       "      <td>252.000000</td>\n",
       "      <td>294.0</td>\n",
       "      <td>51.720000</td>\n",
       "      <td>26.600000</td>\n",
       "      <td>0.000000</td>\n",
       "      <td>0.000</td>\n",
       "      <td>60.713333</td>\n",
       "      <td>33.516667</td>\n",
       "    </tr>\n",
       "    <tr>\n",
       "      <th>3</th>\n",
       "      <td>BP TERMINAL SERVICES CORP., BERTHS B 78, 79 &amp; 80</td>\n",
       "      <td>33.775000</td>\n",
       "      <td>-118.215270</td>\n",
       "      <td>Dock</td>\n",
       "      <td>186.653226</td>\n",
       "      <td>183.0</td>\n",
       "      <td>66.690860</td>\n",
       "      <td>58.991667</td>\n",
       "      <td>29.267204</td>\n",
       "      <td>11.225</td>\n",
       "      <td>121.761290</td>\n",
       "      <td>96.125000</td>\n",
       "    </tr>\n",
       "    <tr>\n",
       "      <th>4</th>\n",
       "      <td>STEVEDORING SVCS OF AMERICA BERTHS F-207 &amp; 206</td>\n",
       "      <td>33.745278</td>\n",
       "      <td>-118.211110</td>\n",
       "      <td>Dock</td>\n",
       "      <td>184.309615</td>\n",
       "      <td>199.0</td>\n",
       "      <td>23.778462</td>\n",
       "      <td>12.000000</td>\n",
       "      <td>6.004006</td>\n",
       "      <td>0.000</td>\n",
       "      <td>45.967756</td>\n",
       "      <td>22.133333</td>\n",
       "    </tr>\n",
       "  </tbody>\n",
       "</table>\n",
       "</div>"
      ],
      "text/plain": [
       "                                           dock_name   dock_lat    dock_lon  \\\n",
       "0   WESTWAY TRADING CORP LONG BEACH TERM BERTH J-242  33.743163 -118.192388   \n",
       "1        CALIFORNIA UNITED TERM BERTHS E-24, 25 & 26  33.759722 -118.213880   \n",
       "2  SEA-LAND SVC PAC DIV BERTHS G-230, 229, 228 & 227  33.747500 -118.198880   \n",
       "3   BP TERMINAL SERVICES CORP., BERTHS B 78, 79 & 80  33.775000 -118.215270   \n",
       "4     STEVEDORING SVCS OF AMERICA BERTHS F-207 & 206  33.745278 -118.211110   \n",
       "\n",
       "  facility_type  vessel_size_mean  vessel_size_median  hrs_at_berth_mean  \\\n",
       "0          Dock        287.100746               294.0          67.299627   \n",
       "1          Dock        343.014235               334.0          82.958304   \n",
       "2          Dock        252.000000               294.0          51.720000   \n",
       "3          Dock        186.653226               183.0          66.690860   \n",
       "4          Dock        184.309615               199.0          23.778462   \n",
       "\n",
       "   hrs_at_berth_median  hrs_at_anchor_mean  hrs_at_anchor_median  \\\n",
       "0            66.800000           16.252425                 0.000   \n",
       "1            77.800000            4.085943                 0.000   \n",
       "2            26.600000            0.000000                 0.000   \n",
       "3            58.991667           29.267204                11.225   \n",
       "4            12.000000            6.004006                 0.000   \n",
       "\n",
       "   hrs_in_port_waters_mean  hrs_in_port_waters_median  \n",
       "0               111.414614                  90.516667  \n",
       "1               115.204804                  99.916667  \n",
       "2                60.713333                  33.516667  \n",
       "3               121.761290                  96.125000  \n",
       "4                45.967756                  22.133333  "
      ]
     },
     "execution_count": 13,
     "metadata": {},
     "output_type": "execute_result"
    }
   ],
   "source": [
    "#set date range\n",
    "start_month = '201801'\n",
    "end_month = '202312'\n",
    "\n",
    "#set port name\n",
    "port_name = 'Port of Long Beach, CA'\n",
    "\n",
    "#convert start and end month to datetime\n",
    "start_month = pd.to_datetime(start_month, format='%Y%m')\n",
    "end_month = pd.to_datetime(end_month, format='%Y%m')\n",
    "\n",
    "#get dataframe\n",
    "df = (\n",
    "    calls_df\n",
    "    #filter for Seattle\n",
    "    .filter(pl.col('port_name') == port_name)\n",
    "    #filter by date\n",
    "    .filter(pl.col('time_arrival').is_between(start_month, end_month))\n",
    "    #get month from docking time\n",
    "    .with_columns(\n",
    "        #extract month from docking time\n",
    "        month = pl.col('time_arrival').dt.strftime('%Y%m')\n",
    "    )\n",
    ")\n",
    "\n",
    "#get dock stats\n",
    "docks_df = (\n",
    "    df.group_by(['dock_name', 'dock_lat', 'dock_lon', 'facility_type'])\n",
    "    .agg(\n",
    "        #mean vessel size\n",
    "        vessel_size_mean = pl.mean('vessel_size'),\n",
    "        #median vessel size\n",
    "        vessel_size_median = pl.median('vessel_size'),\n",
    "        #mean hours at berth\n",
    "        hrs_at_berth_mean = pl.mean('hrs_at_berth'),\n",
    "        #median hours at berth\n",
    "        hrs_at_berth_median = pl.median('hrs_at_berth'),\n",
    "        #mean hours at anchor\n",
    "        hrs_at_anchor_mean = pl.mean('hrs_at_anchor'),\n",
    "        #median hours at anchor\n",
    "        hrs_at_anchor_median = pl.median('hrs_at_anchor'),\n",
    "        #mean hours in port waters\n",
    "        hrs_in_port_waters_mean = pl.mean('hrs_in_port_waters'),\n",
    "        #median hours in port waters\n",
    "        hrs_in_port_waters_median = pl.median('hrs_in_port_waters'),\n",
    "    )\n",
    "    #convert to pandas\n",
    "    .to_pandas()\n",
    ")\n",
    "\n",
    "#inspect\n",
    "docks_df.head()"
   ]
  },
  {
   "cell_type": "code",
   "execution_count": 14,
   "metadata": {},
   "outputs": [],
   "source": [
    "def mapbox_zoom_finder(lons, lats, lon_pad=0, lat_pad=0):\n",
    "    \"\"\"\n",
    "    Calculates the optimal zoom level for a Plotly Mapbox plot.\n",
    "    Args:\n",
    "        lons (list): List of longitudes.\n",
    "        lats (list): List of latitudes.\n",
    "        lon_pad (float, optional): Padding to add to the longitude range. Defaults to 0.\n",
    "        lat_pad (float, optional): Padding to add to the latitude range. Defaults to 0.\n",
    "    Returns:\n",
    "        zoom (int): the calculated zoom level\n",
    "    \"\"\"\n",
    "    # Check if the lengths of lons and lats are equal and not empty\n",
    "    if len(lons) != len(lats) or len(lons) == 0:\n",
    "        return 10\n",
    "    # Calculate the maximum and minimum longitude and latitude\n",
    "    max_lon, min_lon = max(lons), min(lons)\n",
    "    max_lat, min_lat = max(lats), min(lats)\n",
    "    # Calculate the longitude and latitude ranges\n",
    "    lon_range = max_lon - min_lon\n",
    "    lat_range = max_lat - min_lat\n",
    "    # Calculate the zoom level based on the ranges\n",
    "    zoom = 7 - np.log2(max(lon_range + lon_pad, lat_range + lat_pad))\n",
    "    return zoom"
   ]
  },
  {
   "cell_type": "code",
   "execution_count": 15,
   "metadata": {},
   "outputs": [],
   "source": [
    "def plot_mapbox(df, lat_col, lon_col, size_col, color_col, title, zoom=None,\n",
    "                width=800, height=600, size_max=30, hover_name=None, range_color=None,\n",
    "                hover_data=None, mapbox_style='carto-positron', labels=None, \n",
    "                color_continuous_scale=None, color_outlier_z=None):\n",
    "    \"\"\"\n",
    "    Plots a Mapbox scatter plot using Plotly.\n",
    "    Args:\n",
    "        df (pd.DataFrame): DataFrame containing the data to plot.\n",
    "        lat_col (str): Column name for latitude.\n",
    "        lon_col (str): Column name for longitude.\n",
    "        size_col (str): Column name for size.\n",
    "        color_col (str): Column name for color.\n",
    "        title (str): Title of the plot.\n",
    "        zoom (float, optional): Zoom level for the map. Defaults to None.\n",
    "        width (int, optional): Width of the plot. Defaults to 800.\n",
    "        height (int, optional): Height of the plot. Defaults to 600.\n",
    "        size_max (int, optional): Maximum size of the markers. Defaults to 30.\n",
    "        hover_name (str, optional): Column name for hover text. Defaults to None.\n",
    "        range_color (list, optional): Range for color scale. Defaults to None.\n",
    "        hover_data (list, optional): Additional data to show on hover. Defaults to None.\n",
    "        mapbox_style (str, optional): Mapbox style. Defaults to 'carto-positron'.\n",
    "        labels (dict, optional): Labels for the axes. Defaults to None.\n",
    "        color_continuous_scale (list, optional): Color scale for the plot. Defaults to None.\n",
    "        color_outlier_z (float, optional): Z-score threshold for outlier detection. Defaults to None.\n",
    "    Returns:\n",
    "        None\n",
    "    \"\"\"\n",
    "    #Set default color scale if not provided\n",
    "    if not color_continuous_scale:\n",
    "        color_continuous_scale = px.colors.sequential.Viridis\n",
    "\n",
    "    # Set the zoom level automatically if not provided\n",
    "    if not zoom:\n",
    "        zoom = mapbox_zoom_finder(df[lon_col], df[lat_col])\n",
    "\n",
    "    #drop outliers if specified\n",
    "    if color_outlier_z:\n",
    "        #get color_col upper and lower limits based on z score\n",
    "        color_col_mean, color_col_std = df[color_col].mean(), df[color_col].std()\n",
    "        color_col_upper = color_col_mean + (color_col_std * color_outlier_z)\n",
    "        color_col_lower = color_col_mean - (color_col_std * color_outlier_z)\n",
    "        #set range color\n",
    "        range_color = [color_col_lower, color_col_upper]\n",
    "\n",
    "    # Create a scatter mapbox figure\n",
    "    fig = px.scatter_mapbox(\n",
    "        #data\n",
    "        df, lat=lat_col, lon=lon_col,\n",
    "        #categories\n",
    "        size=size_col, color=color_col,\n",
    "        #hover info\n",
    "        hover_name=hover_name, hover_data=hover_data,\n",
    "        #display settings\n",
    "        range_color=range_color, size_max=size_max,\n",
    "        color_continuous_scale=color_continuous_scale, mapbox_style=mapbox_style,\n",
    "        width=width, height=height,\n",
    "        #title and labals\n",
    "        title=title, labels=labels\n",
    "    )\n",
    "    # Set the zoom level\n",
    "    fig.update_layout(mapbox_zoom=zoom)\n",
    "    # Show the figure\n",
    "    fig.show()"
   ]
  },
  {
   "cell_type": "code",
   "execution_count": 16,
   "metadata": {},
   "outputs": [
    {
     "name": "stderr",
     "output_type": "stream",
     "text": [
      "/var/folders/dc/sgfd2dls28n4y4v4_jw03ly40000gp/T/ipykernel_9003/225847291.py:46: DeprecationWarning:\n",
      "\n",
      "*scatter_mapbox* is deprecated! Use *scatter_map* instead. Learn more at: https://plotly.com/python/mapbox-to-maplibre/\n",
      "\n"
     ]
    },
    {
     "data": {
      "application/vnd.plotly.v1+json": {
       "config": {
        "plotlyServerURL": "https://plot.ly"
       },
       "data": [
        {
         "customdata": [
          [
           "WESTWAY TRADING CORP LONG BEACH TERM BERTH J-242",
           287.10074626865674
          ],
          [
           "CALIFORNIA UNITED TERM BERTHS E-24, 25 & 26",
           343.01423487544486
          ],
          [
           "SEA-LAND SVC PAC DIV BERTHS G-230, 229, 228 & 227",
           252
          ],
          [
           "BP TERMINAL SERVICES CORP., BERTHS B 78, 79 & 80",
           186.65322580645162
          ],
          [
           "STEVEDORING SVCS OF AMERICA BERTHS F-207 & 206",
           184.3096153846154
          ],
          [
           "CHEMOIL TERM CORP BERTH F-211A",
           208.53932584269663
          ],
          [
           "THUMS LONG BEACH CO BERTH G-216",
           331.4969696969697
          ],
          [
           "TOYOTA VEHICLE PROCESSORS BERTHS B-82 & 83",
           198.14757281553398
          ],
          [
           "PACIFIC CONTAINER TERMINAL, BERTHS J-247, 246, 245, 244, 243, & 242",
           325.2742616033755
          ],
          [
           "CITY OF LONG BEACH HARBOR DEPT BERTHS E-14,15 & 16",
           319.42727272727274
          ],
          [
           "COOPER/T SMITH STEVEDORING CO INC BERTHS F-205&204",
           147.9
          ],
          [
           "CALIFORNIA UNITED TERM BERTH D-31A",
           355.66964285714283
          ],
          [
           "PACIFIC CONTAINER TERMINAL, BERTHS J - 266, 268 & 270",
           316.1726384364821
          ],
          [
           "MORTON SALT CO BERTH F-210",
           201.5679012345679
          ],
          [
           "THUMS Long Beach Co., Berth No. G-216 West Pier.",
           200.64556962025316
          ],
          [
           "AQUARIUM OF THE PACIFIC",
           328.21276595744683
          ],
          [
           "KOCH CARBON SOUTHERN CALIF TERM BERTH F-211",
           200
          ],
          [
           "METROPOLITAN STEVEDORE BERTHS G-215, 214, 213&212",
           193.92883895131087
          ],
          [
           "SSA TERMINALS (ZIM CONTAINER LINE), BERTHS A - 88, 90, 92 7& 94",
           251.89888888888888
          ],
          [
           "HANJIN SHIPPING CO. (LONG BEACH LOGISTICS), BERTHS 132 - 140",
           324.6506717850288
          ],
          [
           "MATSON TERMINALS, BERTH C-60, C-61, AND C-62",
           234.5586592178771
          ],
          [
           "VOPAK TERMINAL LONG BEACH, BERTH S - 101",
           169.70454545454547
          ],
          [
           "HIUKA AMERICA CORP BERTHS T-118 & 119",
           219.15217391304347
          ],
          [
           "MANSON CONST & ENGINEERING CO BERTHS D-42N & 43",
           251.34469696969697
          ],
          [
           "CALIFORNIA UNITED TERM BERTH D-33 & 34",
           186.15853658536585
          ],
          [
           "BP TERMINAL SERVICES CORP., BERTH B - 77",
           182.85416666666666
          ],
          [
           "CHEMOIL TERM CORP BERTH F-209",
           184.98456790123456
          ],
          [
           "INTERNATIONAL TRANSPORTATION SERVICES, PIER G",
           256.6666666666667
          ],
          [
           "MITSUBISHI CEMENT TERMINAL, BERTH F - 208",
           162
          ],
          [
           "ANDEAVOR LOGISTICS LP",
           228.2505854800937
          ],
          [
           "ARCO WESTERN PIPELINE CO BERTH T-121",
           279.61971830985914
          ],
          [
           "CEMEX, BERTHS D - 32 &33",
           178.84285714285716
          ],
          [
           "LONG BEACH CONTAINER TERMINAL, BERTHS F- 10, 9, 8, 7, 6, 5 & 4",
           362.5263157894737
          ]
         ],
         "hovertemplate": "<b>%{hovertext}</b><br><br>vessel_size_mean=%{customdata[1]}<br>dock_lat=%{lat}<br>dock_lon=%{lon}<br>dock_name=%{customdata[0]}<br>hrs_at_berth_mean=%{marker.color}<extra></extra>",
         "hovertext": [
          "WESTWAY TRADING CORP LONG BEACH TERM BERTH J-242",
          "CALIFORNIA UNITED TERM BERTHS E-24, 25 & 26",
          "SEA-LAND SVC PAC DIV BERTHS G-230, 229, 228 & 227",
          "BP TERMINAL SERVICES CORP., BERTHS B 78, 79 & 80",
          "STEVEDORING SVCS OF AMERICA BERTHS F-207 & 206",
          "CHEMOIL TERM CORP BERTH F-211A",
          "THUMS LONG BEACH CO BERTH G-216",
          "TOYOTA VEHICLE PROCESSORS BERTHS B-82 & 83",
          "PACIFIC CONTAINER TERMINAL, BERTHS J-247, 246, 245, 244, 243, & 242",
          "CITY OF LONG BEACH HARBOR DEPT BERTHS E-14,15 & 16",
          "COOPER/T SMITH STEVEDORING CO INC BERTHS F-205&204",
          "CALIFORNIA UNITED TERM BERTH D-31A",
          "PACIFIC CONTAINER TERMINAL, BERTHS J - 266, 268 & 270",
          "MORTON SALT CO BERTH F-210",
          "THUMS Long Beach Co., Berth No. G-216 West Pier.",
          "AQUARIUM OF THE PACIFIC",
          "KOCH CARBON SOUTHERN CALIF TERM BERTH F-211",
          "METROPOLITAN STEVEDORE BERTHS G-215, 214, 213&212",
          "SSA TERMINALS (ZIM CONTAINER LINE), BERTHS A - 88, 90, 92 7& 94",
          "HANJIN SHIPPING CO. (LONG BEACH LOGISTICS), BERTHS 132 - 140",
          "MATSON TERMINALS, BERTH C-60, C-61, AND C-62",
          "VOPAK TERMINAL LONG BEACH, BERTH S - 101",
          "HIUKA AMERICA CORP BERTHS T-118 & 119",
          "MANSON CONST & ENGINEERING CO BERTHS D-42N & 43",
          "CALIFORNIA UNITED TERM BERTH D-33 & 34",
          "BP TERMINAL SERVICES CORP., BERTH B - 77",
          "CHEMOIL TERM CORP BERTH F-209",
          "INTERNATIONAL TRANSPORTATION SERVICES, PIER G",
          "MITSUBISHI CEMENT TERMINAL, BERTH F - 208",
          "ANDEAVOR LOGISTICS LP",
          "ARCO WESTERN PIPELINE CO BERTH T-121",
          "CEMEX, BERTHS D - 32 &33",
          "LONG BEACH CONTAINER TERMINAL, BERTHS F- 10, 9, 8, 7, 6, 5 & 4"
         ],
         "lat": {
          "bdata": "c0wW9x/fQECvBgySPuFAQFHhehSu30BANDMzMzPjQEDcNv5EZd9AQJPoEDgS4EBA0OpWz0nfQED73XTLDuNAQP0+jubI3kBA9wbRWtHgQEBcu18F+N5AQPPnhqbs4EBAKxGo/kHeQECAF+/H7d9AQBXa5PBJ30BAgSPzyB/gQECT6BA4EuBAQA5tcvik30BAjKBq9GriQEB++6wyU+BAQMr1KFyP4kBAXLgehevhQEB1YyXmWeFAQAq4WbxY4kBA1jB8REzhQEAzFOl+TuNAQI02OXzS30BA3MmLTMDfQECTVYMwt99AQM7E5uPa4kBA8+eGpuzgQEArPUUOEeFAQPJU+Z6R4EBA",
          "dtype": "f8"
         },
         "legendgroup": "",
         "lon": {
          "bdata": "GAnCFVCMXcAQUb01sI1dwOf0LXO6jF3At3PS+8aNXcDTdoTTgo1dwP9Y3eo5jV3Au3+CixWNXcDeb0IhAo5dwHmFd7mIjF3AkOQPBp6NXcALC7WmeY1dwNgpOpLLjV3AWY/C9SiMXcBKngd3Z41dwFo2yCQjjV3AqT5XW7GNXcDpehSuR41dwBujdVQ1jV3ARl8ktOWOXcCbG0RrRY9dwJmW58HdjV3AQ3k7wmmPXcBoSL99HY5dwB0DlfHvjV3AvCfWqfKNXcBymnecoo1dwO/AHD1+jV3Aa4eiQJ+MXcC3mZmZmY1dwBd2+6wyjl3A3m9CIQKOXcCZlufB3Y1dwNN2hNOCjV3A",
          "dtype": "f8"
         },
         "marker": {
          "color": {
           "bdata": "BUQpFi3TUEDCdPLYVL1UQF2PwvUo3ElA23DDDTesUEDb4mBBScc3QC87Ot2fj1JAVHaYutxeWEC5+nolCZwxQNKtxjPbJFhAVkNfNfStU0B7FK5H4epQQAJ1UAd1xFlAF4QYk3IfV0BJYImM2xpgQIB6fBM5SztAKslWUSB3WkC9u7u7u+t1QKbtcvJDVVFAaHdG0ReSQkDapT+PfZFXQGF7WmcUEkdA4QrFrVCMPEBREPpHtylYQNWCLdiChUFADCXBUBLMTEDAFmzBlhFWQM1Ko0dUGEZAQX5wOV28UECUPumTPmk6QG4rWnABDE1AYraN+cz0PED0PM/zPJ9EQLmP4D6CK11A",
           "dtype": "f8"
          },
          "coloraxis": "coloraxis",
          "size": {
           "bdata": "MpEeqJzxcUD5R1lOOnB1QAAAAAAAgG9AnXPOOedUZ0Bf6IVe6AlnQKEIRShCEWpAaDl/lvO3dEDoD6DquMRoQL6QImBjVHRAv2HtG9b2c0DNzMzMzHxiQNu2bdu2OnZAkmuFIMPCc0B4ujU/LDJpQOnInoGoFGlA+85GfWeDdEAAAAAAAABpQDLkdgy5PWhAf5ChssN8b0APUtEmaUp0QITMS4ngUW1AL7rooos2ZUBvetOb3mRrQB988MEHa29AtStRuxJFZ0BVVVVVVdtmQM0Pi5SBH2dAq6qqqqoKcEAAAAAAAEBkQFs718sEiGxAPRm/Xep5cUCw+Iqv+FpmQIfyGsprqHZA",
           "dtype": "f8"
          },
          "sizemode": "area",
          "sizeref": 0.9063157894736843
         },
         "mode": "markers",
         "name": "",
         "showlegend": false,
         "subplot": "mapbox",
         "type": "scattermapbox"
        }
       ],
       "layout": {
        "coloraxis": {
         "cmax": 132.6212101697914,
         "cmin": 16.988148814938633,
         "colorbar": {
          "title": {
           "text": "hrs_at_berth_mean"
          }
         },
         "colorscale": [
          [
           0,
           "#440154"
          ],
          [
           0.1111111111111111,
           "#482878"
          ],
          [
           0.2222222222222222,
           "#3e4989"
          ],
          [
           0.3333333333333333,
           "#31688e"
          ],
          [
           0.4444444444444444,
           "#26828e"
          ],
          [
           0.5555555555555556,
           "#1f9e89"
          ],
          [
           0.6666666666666666,
           "#35b779"
          ],
          [
           0.7777777777777778,
           "#6ece58"
          ],
          [
           0.8888888888888888,
           "#b5de2b"
          ],
          [
           1,
           "#fde725"
          ]
         ]
        },
        "height": 600,
        "legend": {
         "itemsizing": "constant",
         "tracegroupgap": 0
        },
        "mapbox": {
         "center": {
          "lat": 33.755232515151576,
          "lon": -118.21260557575746
         },
         "domain": {
          "x": [
           0,
           1
          ],
          "y": [
           0,
           1
          ]
         },
         "style": "carto-positron",
         "zoom": 11.298175958993475
        },
        "template": {
         "data": {
          "bar": [
           {
            "error_x": {
             "color": "#2a3f5f"
            },
            "error_y": {
             "color": "#2a3f5f"
            },
            "marker": {
             "line": {
              "color": "#E5ECF6",
              "width": 0.5
             },
             "pattern": {
              "fillmode": "overlay",
              "size": 10,
              "solidity": 0.2
             }
            },
            "type": "bar"
           }
          ],
          "barpolar": [
           {
            "marker": {
             "line": {
              "color": "#E5ECF6",
              "width": 0.5
             },
             "pattern": {
              "fillmode": "overlay",
              "size": 10,
              "solidity": 0.2
             }
            },
            "type": "barpolar"
           }
          ],
          "carpet": [
           {
            "aaxis": {
             "endlinecolor": "#2a3f5f",
             "gridcolor": "white",
             "linecolor": "white",
             "minorgridcolor": "white",
             "startlinecolor": "#2a3f5f"
            },
            "baxis": {
             "endlinecolor": "#2a3f5f",
             "gridcolor": "white",
             "linecolor": "white",
             "minorgridcolor": "white",
             "startlinecolor": "#2a3f5f"
            },
            "type": "carpet"
           }
          ],
          "choropleth": [
           {
            "colorbar": {
             "outlinewidth": 0,
             "ticks": ""
            },
            "type": "choropleth"
           }
          ],
          "contour": [
           {
            "colorbar": {
             "outlinewidth": 0,
             "ticks": ""
            },
            "colorscale": [
             [
              0,
              "#0d0887"
             ],
             [
              0.1111111111111111,
              "#46039f"
             ],
             [
              0.2222222222222222,
              "#7201a8"
             ],
             [
              0.3333333333333333,
              "#9c179e"
             ],
             [
              0.4444444444444444,
              "#bd3786"
             ],
             [
              0.5555555555555556,
              "#d8576b"
             ],
             [
              0.6666666666666666,
              "#ed7953"
             ],
             [
              0.7777777777777778,
              "#fb9f3a"
             ],
             [
              0.8888888888888888,
              "#fdca26"
             ],
             [
              1,
              "#f0f921"
             ]
            ],
            "type": "contour"
           }
          ],
          "contourcarpet": [
           {
            "colorbar": {
             "outlinewidth": 0,
             "ticks": ""
            },
            "type": "contourcarpet"
           }
          ],
          "heatmap": [
           {
            "colorbar": {
             "outlinewidth": 0,
             "ticks": ""
            },
            "colorscale": [
             [
              0,
              "#0d0887"
             ],
             [
              0.1111111111111111,
              "#46039f"
             ],
             [
              0.2222222222222222,
              "#7201a8"
             ],
             [
              0.3333333333333333,
              "#9c179e"
             ],
             [
              0.4444444444444444,
              "#bd3786"
             ],
             [
              0.5555555555555556,
              "#d8576b"
             ],
             [
              0.6666666666666666,
              "#ed7953"
             ],
             [
              0.7777777777777778,
              "#fb9f3a"
             ],
             [
              0.8888888888888888,
              "#fdca26"
             ],
             [
              1,
              "#f0f921"
             ]
            ],
            "type": "heatmap"
           }
          ],
          "histogram": [
           {
            "marker": {
             "pattern": {
              "fillmode": "overlay",
              "size": 10,
              "solidity": 0.2
             }
            },
            "type": "histogram"
           }
          ],
          "histogram2d": [
           {
            "colorbar": {
             "outlinewidth": 0,
             "ticks": ""
            },
            "colorscale": [
             [
              0,
              "#0d0887"
             ],
             [
              0.1111111111111111,
              "#46039f"
             ],
             [
              0.2222222222222222,
              "#7201a8"
             ],
             [
              0.3333333333333333,
              "#9c179e"
             ],
             [
              0.4444444444444444,
              "#bd3786"
             ],
             [
              0.5555555555555556,
              "#d8576b"
             ],
             [
              0.6666666666666666,
              "#ed7953"
             ],
             [
              0.7777777777777778,
              "#fb9f3a"
             ],
             [
              0.8888888888888888,
              "#fdca26"
             ],
             [
              1,
              "#f0f921"
             ]
            ],
            "type": "histogram2d"
           }
          ],
          "histogram2dcontour": [
           {
            "colorbar": {
             "outlinewidth": 0,
             "ticks": ""
            },
            "colorscale": [
             [
              0,
              "#0d0887"
             ],
             [
              0.1111111111111111,
              "#46039f"
             ],
             [
              0.2222222222222222,
              "#7201a8"
             ],
             [
              0.3333333333333333,
              "#9c179e"
             ],
             [
              0.4444444444444444,
              "#bd3786"
             ],
             [
              0.5555555555555556,
              "#d8576b"
             ],
             [
              0.6666666666666666,
              "#ed7953"
             ],
             [
              0.7777777777777778,
              "#fb9f3a"
             ],
             [
              0.8888888888888888,
              "#fdca26"
             ],
             [
              1,
              "#f0f921"
             ]
            ],
            "type": "histogram2dcontour"
           }
          ],
          "mesh3d": [
           {
            "colorbar": {
             "outlinewidth": 0,
             "ticks": ""
            },
            "type": "mesh3d"
           }
          ],
          "parcoords": [
           {
            "line": {
             "colorbar": {
              "outlinewidth": 0,
              "ticks": ""
             }
            },
            "type": "parcoords"
           }
          ],
          "pie": [
           {
            "automargin": true,
            "type": "pie"
           }
          ],
          "scatter": [
           {
            "fillpattern": {
             "fillmode": "overlay",
             "size": 10,
             "solidity": 0.2
            },
            "type": "scatter"
           }
          ],
          "scatter3d": [
           {
            "line": {
             "colorbar": {
              "outlinewidth": 0,
              "ticks": ""
             }
            },
            "marker": {
             "colorbar": {
              "outlinewidth": 0,
              "ticks": ""
             }
            },
            "type": "scatter3d"
           }
          ],
          "scattercarpet": [
           {
            "marker": {
             "colorbar": {
              "outlinewidth": 0,
              "ticks": ""
             }
            },
            "type": "scattercarpet"
           }
          ],
          "scattergeo": [
           {
            "marker": {
             "colorbar": {
              "outlinewidth": 0,
              "ticks": ""
             }
            },
            "type": "scattergeo"
           }
          ],
          "scattergl": [
           {
            "marker": {
             "colorbar": {
              "outlinewidth": 0,
              "ticks": ""
             }
            },
            "type": "scattergl"
           }
          ],
          "scattermap": [
           {
            "marker": {
             "colorbar": {
              "outlinewidth": 0,
              "ticks": ""
             }
            },
            "type": "scattermap"
           }
          ],
          "scattermapbox": [
           {
            "marker": {
             "colorbar": {
              "outlinewidth": 0,
              "ticks": ""
             }
            },
            "type": "scattermapbox"
           }
          ],
          "scatterpolar": [
           {
            "marker": {
             "colorbar": {
              "outlinewidth": 0,
              "ticks": ""
             }
            },
            "type": "scatterpolar"
           }
          ],
          "scatterpolargl": [
           {
            "marker": {
             "colorbar": {
              "outlinewidth": 0,
              "ticks": ""
             }
            },
            "type": "scatterpolargl"
           }
          ],
          "scatterternary": [
           {
            "marker": {
             "colorbar": {
              "outlinewidth": 0,
              "ticks": ""
             }
            },
            "type": "scatterternary"
           }
          ],
          "surface": [
           {
            "colorbar": {
             "outlinewidth": 0,
             "ticks": ""
            },
            "colorscale": [
             [
              0,
              "#0d0887"
             ],
             [
              0.1111111111111111,
              "#46039f"
             ],
             [
              0.2222222222222222,
              "#7201a8"
             ],
             [
              0.3333333333333333,
              "#9c179e"
             ],
             [
              0.4444444444444444,
              "#bd3786"
             ],
             [
              0.5555555555555556,
              "#d8576b"
             ],
             [
              0.6666666666666666,
              "#ed7953"
             ],
             [
              0.7777777777777778,
              "#fb9f3a"
             ],
             [
              0.8888888888888888,
              "#fdca26"
             ],
             [
              1,
              "#f0f921"
             ]
            ],
            "type": "surface"
           }
          ],
          "table": [
           {
            "cells": {
             "fill": {
              "color": "#EBF0F8"
             },
             "line": {
              "color": "white"
             }
            },
            "header": {
             "fill": {
              "color": "#C8D4E3"
             },
             "line": {
              "color": "white"
             }
            },
            "type": "table"
           }
          ]
         },
         "layout": {
          "annotationdefaults": {
           "arrowcolor": "#2a3f5f",
           "arrowhead": 0,
           "arrowwidth": 1
          },
          "autotypenumbers": "strict",
          "coloraxis": {
           "colorbar": {
            "outlinewidth": 0,
            "ticks": ""
           }
          },
          "colorscale": {
           "diverging": [
            [
             0,
             "#8e0152"
            ],
            [
             0.1,
             "#c51b7d"
            ],
            [
             0.2,
             "#de77ae"
            ],
            [
             0.3,
             "#f1b6da"
            ],
            [
             0.4,
             "#fde0ef"
            ],
            [
             0.5,
             "#f7f7f7"
            ],
            [
             0.6,
             "#e6f5d0"
            ],
            [
             0.7,
             "#b8e186"
            ],
            [
             0.8,
             "#7fbc41"
            ],
            [
             0.9,
             "#4d9221"
            ],
            [
             1,
             "#276419"
            ]
           ],
           "sequential": [
            [
             0,
             "#0d0887"
            ],
            [
             0.1111111111111111,
             "#46039f"
            ],
            [
             0.2222222222222222,
             "#7201a8"
            ],
            [
             0.3333333333333333,
             "#9c179e"
            ],
            [
             0.4444444444444444,
             "#bd3786"
            ],
            [
             0.5555555555555556,
             "#d8576b"
            ],
            [
             0.6666666666666666,
             "#ed7953"
            ],
            [
             0.7777777777777778,
             "#fb9f3a"
            ],
            [
             0.8888888888888888,
             "#fdca26"
            ],
            [
             1,
             "#f0f921"
            ]
           ],
           "sequentialminus": [
            [
             0,
             "#0d0887"
            ],
            [
             0.1111111111111111,
             "#46039f"
            ],
            [
             0.2222222222222222,
             "#7201a8"
            ],
            [
             0.3333333333333333,
             "#9c179e"
            ],
            [
             0.4444444444444444,
             "#bd3786"
            ],
            [
             0.5555555555555556,
             "#d8576b"
            ],
            [
             0.6666666666666666,
             "#ed7953"
            ],
            [
             0.7777777777777778,
             "#fb9f3a"
            ],
            [
             0.8888888888888888,
             "#fdca26"
            ],
            [
             1,
             "#f0f921"
            ]
           ]
          },
          "colorway": [
           "#636efa",
           "#EF553B",
           "#00cc96",
           "#ab63fa",
           "#FFA15A",
           "#19d3f3",
           "#FF6692",
           "#B6E880",
           "#FF97FF",
           "#FECB52"
          ],
          "font": {
           "color": "#2a3f5f"
          },
          "geo": {
           "bgcolor": "white",
           "lakecolor": "white",
           "landcolor": "#E5ECF6",
           "showlakes": true,
           "showland": true,
           "subunitcolor": "white"
          },
          "hoverlabel": {
           "align": "left"
          },
          "hovermode": "closest",
          "mapbox": {
           "style": "light"
          },
          "paper_bgcolor": "white",
          "plot_bgcolor": "#E5ECF6",
          "polar": {
           "angularaxis": {
            "gridcolor": "white",
            "linecolor": "white",
            "ticks": ""
           },
           "bgcolor": "#E5ECF6",
           "radialaxis": {
            "gridcolor": "white",
            "linecolor": "white",
            "ticks": ""
           }
          },
          "scene": {
           "xaxis": {
            "backgroundcolor": "#E5ECF6",
            "gridcolor": "white",
            "gridwidth": 2,
            "linecolor": "white",
            "showbackground": true,
            "ticks": "",
            "zerolinecolor": "white"
           },
           "yaxis": {
            "backgroundcolor": "#E5ECF6",
            "gridcolor": "white",
            "gridwidth": 2,
            "linecolor": "white",
            "showbackground": true,
            "ticks": "",
            "zerolinecolor": "white"
           },
           "zaxis": {
            "backgroundcolor": "#E5ECF6",
            "gridcolor": "white",
            "gridwidth": 2,
            "linecolor": "white",
            "showbackground": true,
            "ticks": "",
            "zerolinecolor": "white"
           }
          },
          "shapedefaults": {
           "line": {
            "color": "#2a3f5f"
           }
          },
          "ternary": {
           "aaxis": {
            "gridcolor": "white",
            "linecolor": "white",
            "ticks": ""
           },
           "baxis": {
            "gridcolor": "white",
            "linecolor": "white",
            "ticks": ""
           },
           "bgcolor": "#E5ECF6",
           "caxis": {
            "gridcolor": "white",
            "linecolor": "white",
            "ticks": ""
           }
          },
          "title": {
           "x": 0.05
          },
          "xaxis": {
           "automargin": true,
           "gridcolor": "white",
           "linecolor": "white",
           "ticks": "",
           "title": {
            "standoff": 15
           },
           "zerolinecolor": "white",
           "zerolinewidth": 2
          },
          "yaxis": {
           "automargin": true,
           "gridcolor": "white",
           "linecolor": "white",
           "ticks": "",
           "title": {
            "standoff": 15
           },
           "zerolinecolor": "white",
           "zerolinewidth": 2
          }
         }
        },
        "title": {
         "text": "Average Vessel Size and Average Hours at Berth for Port of Long Beach, CA"
        },
        "width": 800
       }
      }
     },
     "metadata": {},
     "output_type": "display_data"
    }
   ],
   "source": [
    "plot_mapbox(\n",
    "    df=docks_df,\n",
    "    lat_col='dock_lat',\n",
    "    lon_col='dock_lon',\n",
    "    size_col='vessel_size_mean',\n",
    "    color_col='hrs_at_berth_mean',\n",
    "    #symbol='facility_type', #NOTE not working; needs to be dock type (container terminal, bulk terminal, etc)\n",
    "    size_max=20,\n",
    "    title=f'Average Vessel Size and Average Hours at Berth for {port_name}',\n",
    "    hover_name='dock_name',\n",
    "    hover_data={'dock_name': True, 'vessel_size_mean': True},\n",
    "    mapbox_style='carto-positron',\n",
    "    color_outlier_z=1,\n",
    "    labels={\n",
    "        'vessel_size_median': 'Median Vessel Size (ft)',\n",
    "        'hrs_at_berth_median': 'Median Hours at Berth'\n",
    "    },\n",
    ")"
   ]
  },
  {
   "cell_type": "code",
   "execution_count": 17,
   "metadata": {},
   "outputs": [
    {
     "name": "stderr",
     "output_type": "stream",
     "text": [
      "/var/folders/dc/sgfd2dls28n4y4v4_jw03ly40000gp/T/ipykernel_9003/2840294651.py:2: DeprecationWarning:\n",
      "\n",
      "*scatter_mapbox* is deprecated! Use *scatter_map* instead. Learn more at: https://plotly.com/python/mapbox-to-maplibre/\n",
      "\n"
     ]
    },
    {
     "data": {
      "application/vnd.plotly.v1+json": {
       "config": {
        "plotlyServerURL": "https://plot.ly"
       },
       "data": [
        {
         "hovertemplate": "<b>%{hovertext}</b><br><br>vessel_size_mean=%{marker.size}<br>dock_lat=%{lat}<br>dock_lon=%{lon}<br>Mean Hours at Berth=%{marker.color}<extra></extra>",
         "hovertext": [
          "WESTWAY TRADING CORP LONG BEACH TERM BERTH J-242",
          "CALIFORNIA UNITED TERM BERTHS E-24, 25 & 26",
          "SEA-LAND SVC PAC DIV BERTHS G-230, 229, 228 & 227",
          "BP TERMINAL SERVICES CORP., BERTHS B 78, 79 & 80",
          "STEVEDORING SVCS OF AMERICA BERTHS F-207 & 206",
          "CHEMOIL TERM CORP BERTH F-211A",
          "THUMS LONG BEACH CO BERTH G-216",
          "TOYOTA VEHICLE PROCESSORS BERTHS B-82 & 83",
          "PACIFIC CONTAINER TERMINAL, BERTHS J-247, 246, 245, 244, 243, & 242",
          "CITY OF LONG BEACH HARBOR DEPT BERTHS E-14,15 & 16",
          "COOPER/T SMITH STEVEDORING CO INC BERTHS F-205&204",
          "CALIFORNIA UNITED TERM BERTH D-31A",
          "PACIFIC CONTAINER TERMINAL, BERTHS J - 266, 268 & 270",
          "MORTON SALT CO BERTH F-210",
          "THUMS Long Beach Co., Berth No. G-216 West Pier.",
          "AQUARIUM OF THE PACIFIC",
          "KOCH CARBON SOUTHERN CALIF TERM BERTH F-211",
          "METROPOLITAN STEVEDORE BERTHS G-215, 214, 213&212",
          "SSA TERMINALS (ZIM CONTAINER LINE), BERTHS A - 88, 90, 92 7& 94",
          "HANJIN SHIPPING CO. (LONG BEACH LOGISTICS), BERTHS 132 - 140",
          "MATSON TERMINALS, BERTH C-60, C-61, AND C-62",
          "VOPAK TERMINAL LONG BEACH, BERTH S - 101",
          "HIUKA AMERICA CORP BERTHS T-118 & 119",
          "MANSON CONST & ENGINEERING CO BERTHS D-42N & 43",
          "CALIFORNIA UNITED TERM BERTH D-33 & 34",
          "BP TERMINAL SERVICES CORP., BERTH B - 77",
          "CHEMOIL TERM CORP BERTH F-209",
          "INTERNATIONAL TRANSPORTATION SERVICES, PIER G",
          "MITSUBISHI CEMENT TERMINAL, BERTH F - 208",
          "ANDEAVOR LOGISTICS LP",
          "ARCO WESTERN PIPELINE CO BERTH T-121",
          "CEMEX, BERTHS D - 32 &33",
          "LONG BEACH CONTAINER TERMINAL, BERTHS F- 10, 9, 8, 7, 6, 5 & 4"
         ],
         "lat": {
          "bdata": "c0wW9x/fQECvBgySPuFAQFHhehSu30BANDMzMzPjQEDcNv5EZd9AQJPoEDgS4EBA0OpWz0nfQED73XTLDuNAQP0+jubI3kBA9wbRWtHgQEBcu18F+N5AQPPnhqbs4EBAKxGo/kHeQECAF+/H7d9AQBXa5PBJ30BAgSPzyB/gQECT6BA4EuBAQA5tcvik30BAjKBq9GriQEB++6wyU+BAQMr1KFyP4kBAXLgehevhQEB1YyXmWeFAQAq4WbxY4kBA1jB8REzhQEAzFOl+TuNAQI02OXzS30BA3MmLTMDfQECTVYMwt99AQM7E5uPa4kBA8+eGpuzgQEArPUUOEeFAQPJU+Z6R4EBA",
          "dtype": "f8"
         },
         "legendgroup": "",
         "lon": {
          "bdata": "GAnCFVCMXcAQUb01sI1dwOf0LXO6jF3At3PS+8aNXcDTdoTTgo1dwP9Y3eo5jV3Au3+CixWNXcDeb0IhAo5dwHmFd7mIjF3AkOQPBp6NXcALC7WmeY1dwNgpOpLLjV3AWY/C9SiMXcBKngd3Z41dwFo2yCQjjV3AqT5XW7GNXcDpehSuR41dwBujdVQ1jV3ARl8ktOWOXcCbG0RrRY9dwJmW58HdjV3AQ3k7wmmPXcBoSL99HY5dwB0DlfHvjV3AvCfWqfKNXcBymnecoo1dwO/AHD1+jV3Aa4eiQJ+MXcC3mZmZmY1dwBd2+6wyjl3A3m9CIQKOXcCZlufB3Y1dwNN2hNOCjV3A",
          "dtype": "f8"
         },
         "marker": {
          "color": {
           "bdata": "BUQpFi3TUEDCdPLYVL1UQF2PwvUo3ElA23DDDTesUEDb4mBBScc3QC87Ot2fj1JAVHaYutxeWEC5+nolCZwxQNKtxjPbJFhAVkNfNfStU0B7FK5H4epQQAJ1UAd1xFlAF4QYk3IfV0BJYImM2xpgQIB6fBM5SztAKslWUSB3WkC9u7u7u+t1QKbtcvJDVVFAaHdG0ReSQkDapT+PfZFXQGF7WmcUEkdA4QrFrVCMPEBREPpHtylYQNWCLdiChUFADCXBUBLMTEDAFmzBlhFWQM1Ko0dUGEZAQX5wOV28UECUPumTPmk6QG4rWnABDE1AYraN+cz0PED0PM/zPJ9EQLmP4D6CK11A",
           "dtype": "f8"
          },
          "coloraxis": "coloraxis",
          "size": {
           "bdata": "MpEeqJzxcUD5R1lOOnB1QAAAAAAAgG9AnXPOOedUZ0Bf6IVe6AlnQKEIRShCEWpAaDl/lvO3dEDoD6DquMRoQL6QImBjVHRAv2HtG9b2c0DNzMzMzHxiQNu2bdu2OnZAkmuFIMPCc0B4ujU/LDJpQOnInoGoFGlA+85GfWeDdEAAAAAAAABpQDLkdgy5PWhAf5ChssN8b0APUtEmaUp0QITMS4ngUW1AL7rooos2ZUBvetOb3mRrQB988MEHa29AtStRuxJFZ0BVVVVVVdtmQM0Pi5SBH2dAq6qqqqoKcEAAAAAAAEBkQFs718sEiGxAPRm/Xep5cUCw+Iqv+FpmQIfyGsprqHZA",
           "dtype": "f8"
          },
          "sizemode": "area",
          "sizeref": 0.9063157894736843
         },
         "mode": "markers",
         "name": "",
         "showlegend": false,
         "subplot": "mapbox",
         "type": "scattermapbox"
        }
       ],
       "layout": {
        "annotations": [
         {
          "align": "left",
          "font": {
           "color": "black",
           "size": 13
          },
          "showarrow": false,
          "text": "Circle size corresponds to mean vessel length",
          "x": 0,
          "xref": "paper",
          "y": -0.05,
          "yref": "paper"
         }
        ],
        "coloraxis": {
         "colorbar": {
          "title": {
           "text": "Mean Hours at Berth"
          }
         },
         "colorscale": [
          [
           0,
           "#440154"
          ],
          [
           0.1111111111111111,
           "#482878"
          ],
          [
           0.2222222222222222,
           "#3e4989"
          ],
          [
           0.3333333333333333,
           "#31688e"
          ],
          [
           0.4444444444444444,
           "#26828e"
          ],
          [
           0.5555555555555556,
           "#1f9e89"
          ],
          [
           0.6666666666666666,
           "#35b779"
          ],
          [
           0.7777777777777778,
           "#6ece58"
          ],
          [
           0.8888888888888888,
           "#b5de2b"
          ],
          [
           1,
           "#fde725"
          ]
         ]
        },
        "height": 600,
        "legend": {
         "itemsizing": "constant",
         "tracegroupgap": 0
        },
        "mapbox": {
         "center": {
          "lat": 33.755232515151576,
          "lon": -118.21260557575746
         },
         "domain": {
          "x": [
           0,
           1
          ],
          "y": [
           0,
           1
          ]
         },
         "style": "carto-positron",
         "zoom": 11.298175958993475
        },
        "template": {
         "data": {
          "bar": [
           {
            "error_x": {
             "color": "#2a3f5f"
            },
            "error_y": {
             "color": "#2a3f5f"
            },
            "marker": {
             "line": {
              "color": "#E5ECF6",
              "width": 0.5
             },
             "pattern": {
              "fillmode": "overlay",
              "size": 10,
              "solidity": 0.2
             }
            },
            "type": "bar"
           }
          ],
          "barpolar": [
           {
            "marker": {
             "line": {
              "color": "#E5ECF6",
              "width": 0.5
             },
             "pattern": {
              "fillmode": "overlay",
              "size": 10,
              "solidity": 0.2
             }
            },
            "type": "barpolar"
           }
          ],
          "carpet": [
           {
            "aaxis": {
             "endlinecolor": "#2a3f5f",
             "gridcolor": "white",
             "linecolor": "white",
             "minorgridcolor": "white",
             "startlinecolor": "#2a3f5f"
            },
            "baxis": {
             "endlinecolor": "#2a3f5f",
             "gridcolor": "white",
             "linecolor": "white",
             "minorgridcolor": "white",
             "startlinecolor": "#2a3f5f"
            },
            "type": "carpet"
           }
          ],
          "choropleth": [
           {
            "colorbar": {
             "outlinewidth": 0,
             "ticks": ""
            },
            "type": "choropleth"
           }
          ],
          "contour": [
           {
            "colorbar": {
             "outlinewidth": 0,
             "ticks": ""
            },
            "colorscale": [
             [
              0,
              "#0d0887"
             ],
             [
              0.1111111111111111,
              "#46039f"
             ],
             [
              0.2222222222222222,
              "#7201a8"
             ],
             [
              0.3333333333333333,
              "#9c179e"
             ],
             [
              0.4444444444444444,
              "#bd3786"
             ],
             [
              0.5555555555555556,
              "#d8576b"
             ],
             [
              0.6666666666666666,
              "#ed7953"
             ],
             [
              0.7777777777777778,
              "#fb9f3a"
             ],
             [
              0.8888888888888888,
              "#fdca26"
             ],
             [
              1,
              "#f0f921"
             ]
            ],
            "type": "contour"
           }
          ],
          "contourcarpet": [
           {
            "colorbar": {
             "outlinewidth": 0,
             "ticks": ""
            },
            "type": "contourcarpet"
           }
          ],
          "heatmap": [
           {
            "colorbar": {
             "outlinewidth": 0,
             "ticks": ""
            },
            "colorscale": [
             [
              0,
              "#0d0887"
             ],
             [
              0.1111111111111111,
              "#46039f"
             ],
             [
              0.2222222222222222,
              "#7201a8"
             ],
             [
              0.3333333333333333,
              "#9c179e"
             ],
             [
              0.4444444444444444,
              "#bd3786"
             ],
             [
              0.5555555555555556,
              "#d8576b"
             ],
             [
              0.6666666666666666,
              "#ed7953"
             ],
             [
              0.7777777777777778,
              "#fb9f3a"
             ],
             [
              0.8888888888888888,
              "#fdca26"
             ],
             [
              1,
              "#f0f921"
             ]
            ],
            "type": "heatmap"
           }
          ],
          "histogram": [
           {
            "marker": {
             "pattern": {
              "fillmode": "overlay",
              "size": 10,
              "solidity": 0.2
             }
            },
            "type": "histogram"
           }
          ],
          "histogram2d": [
           {
            "colorbar": {
             "outlinewidth": 0,
             "ticks": ""
            },
            "colorscale": [
             [
              0,
              "#0d0887"
             ],
             [
              0.1111111111111111,
              "#46039f"
             ],
             [
              0.2222222222222222,
              "#7201a8"
             ],
             [
              0.3333333333333333,
              "#9c179e"
             ],
             [
              0.4444444444444444,
              "#bd3786"
             ],
             [
              0.5555555555555556,
              "#d8576b"
             ],
             [
              0.6666666666666666,
              "#ed7953"
             ],
             [
              0.7777777777777778,
              "#fb9f3a"
             ],
             [
              0.8888888888888888,
              "#fdca26"
             ],
             [
              1,
              "#f0f921"
             ]
            ],
            "type": "histogram2d"
           }
          ],
          "histogram2dcontour": [
           {
            "colorbar": {
             "outlinewidth": 0,
             "ticks": ""
            },
            "colorscale": [
             [
              0,
              "#0d0887"
             ],
             [
              0.1111111111111111,
              "#46039f"
             ],
             [
              0.2222222222222222,
              "#7201a8"
             ],
             [
              0.3333333333333333,
              "#9c179e"
             ],
             [
              0.4444444444444444,
              "#bd3786"
             ],
             [
              0.5555555555555556,
              "#d8576b"
             ],
             [
              0.6666666666666666,
              "#ed7953"
             ],
             [
              0.7777777777777778,
              "#fb9f3a"
             ],
             [
              0.8888888888888888,
              "#fdca26"
             ],
             [
              1,
              "#f0f921"
             ]
            ],
            "type": "histogram2dcontour"
           }
          ],
          "mesh3d": [
           {
            "colorbar": {
             "outlinewidth": 0,
             "ticks": ""
            },
            "type": "mesh3d"
           }
          ],
          "parcoords": [
           {
            "line": {
             "colorbar": {
              "outlinewidth": 0,
              "ticks": ""
             }
            },
            "type": "parcoords"
           }
          ],
          "pie": [
           {
            "automargin": true,
            "type": "pie"
           }
          ],
          "scatter": [
           {
            "fillpattern": {
             "fillmode": "overlay",
             "size": 10,
             "solidity": 0.2
            },
            "type": "scatter"
           }
          ],
          "scatter3d": [
           {
            "line": {
             "colorbar": {
              "outlinewidth": 0,
              "ticks": ""
             }
            },
            "marker": {
             "colorbar": {
              "outlinewidth": 0,
              "ticks": ""
             }
            },
            "type": "scatter3d"
           }
          ],
          "scattercarpet": [
           {
            "marker": {
             "colorbar": {
              "outlinewidth": 0,
              "ticks": ""
             }
            },
            "type": "scattercarpet"
           }
          ],
          "scattergeo": [
           {
            "marker": {
             "colorbar": {
              "outlinewidth": 0,
              "ticks": ""
             }
            },
            "type": "scattergeo"
           }
          ],
          "scattergl": [
           {
            "marker": {
             "colorbar": {
              "outlinewidth": 0,
              "ticks": ""
             }
            },
            "type": "scattergl"
           }
          ],
          "scattermap": [
           {
            "marker": {
             "colorbar": {
              "outlinewidth": 0,
              "ticks": ""
             }
            },
            "type": "scattermap"
           }
          ],
          "scattermapbox": [
           {
            "marker": {
             "colorbar": {
              "outlinewidth": 0,
              "ticks": ""
             }
            },
            "type": "scattermapbox"
           }
          ],
          "scatterpolar": [
           {
            "marker": {
             "colorbar": {
              "outlinewidth": 0,
              "ticks": ""
             }
            },
            "type": "scatterpolar"
           }
          ],
          "scatterpolargl": [
           {
            "marker": {
             "colorbar": {
              "outlinewidth": 0,
              "ticks": ""
             }
            },
            "type": "scatterpolargl"
           }
          ],
          "scatterternary": [
           {
            "marker": {
             "colorbar": {
              "outlinewidth": 0,
              "ticks": ""
             }
            },
            "type": "scatterternary"
           }
          ],
          "surface": [
           {
            "colorbar": {
             "outlinewidth": 0,
             "ticks": ""
            },
            "colorscale": [
             [
              0,
              "#0d0887"
             ],
             [
              0.1111111111111111,
              "#46039f"
             ],
             [
              0.2222222222222222,
              "#7201a8"
             ],
             [
              0.3333333333333333,
              "#9c179e"
             ],
             [
              0.4444444444444444,
              "#bd3786"
             ],
             [
              0.5555555555555556,
              "#d8576b"
             ],
             [
              0.6666666666666666,
              "#ed7953"
             ],
             [
              0.7777777777777778,
              "#fb9f3a"
             ],
             [
              0.8888888888888888,
              "#fdca26"
             ],
             [
              1,
              "#f0f921"
             ]
            ],
            "type": "surface"
           }
          ],
          "table": [
           {
            "cells": {
             "fill": {
              "color": "#EBF0F8"
             },
             "line": {
              "color": "white"
             }
            },
            "header": {
             "fill": {
              "color": "#C8D4E3"
             },
             "line": {
              "color": "white"
             }
            },
            "type": "table"
           }
          ]
         },
         "layout": {
          "annotationdefaults": {
           "arrowcolor": "#2a3f5f",
           "arrowhead": 0,
           "arrowwidth": 1
          },
          "autotypenumbers": "strict",
          "coloraxis": {
           "colorbar": {
            "outlinewidth": 0,
            "ticks": ""
           }
          },
          "colorscale": {
           "diverging": [
            [
             0,
             "#8e0152"
            ],
            [
             0.1,
             "#c51b7d"
            ],
            [
             0.2,
             "#de77ae"
            ],
            [
             0.3,
             "#f1b6da"
            ],
            [
             0.4,
             "#fde0ef"
            ],
            [
             0.5,
             "#f7f7f7"
            ],
            [
             0.6,
             "#e6f5d0"
            ],
            [
             0.7,
             "#b8e186"
            ],
            [
             0.8,
             "#7fbc41"
            ],
            [
             0.9,
             "#4d9221"
            ],
            [
             1,
             "#276419"
            ]
           ],
           "sequential": [
            [
             0,
             "#0d0887"
            ],
            [
             0.1111111111111111,
             "#46039f"
            ],
            [
             0.2222222222222222,
             "#7201a8"
            ],
            [
             0.3333333333333333,
             "#9c179e"
            ],
            [
             0.4444444444444444,
             "#bd3786"
            ],
            [
             0.5555555555555556,
             "#d8576b"
            ],
            [
             0.6666666666666666,
             "#ed7953"
            ],
            [
             0.7777777777777778,
             "#fb9f3a"
            ],
            [
             0.8888888888888888,
             "#fdca26"
            ],
            [
             1,
             "#f0f921"
            ]
           ],
           "sequentialminus": [
            [
             0,
             "#0d0887"
            ],
            [
             0.1111111111111111,
             "#46039f"
            ],
            [
             0.2222222222222222,
             "#7201a8"
            ],
            [
             0.3333333333333333,
             "#9c179e"
            ],
            [
             0.4444444444444444,
             "#bd3786"
            ],
            [
             0.5555555555555556,
             "#d8576b"
            ],
            [
             0.6666666666666666,
             "#ed7953"
            ],
            [
             0.7777777777777778,
             "#fb9f3a"
            ],
            [
             0.8888888888888888,
             "#fdca26"
            ],
            [
             1,
             "#f0f921"
            ]
           ]
          },
          "colorway": [
           "#636efa",
           "#EF553B",
           "#00cc96",
           "#ab63fa",
           "#FFA15A",
           "#19d3f3",
           "#FF6692",
           "#B6E880",
           "#FF97FF",
           "#FECB52"
          ],
          "font": {
           "color": "#2a3f5f"
          },
          "geo": {
           "bgcolor": "white",
           "lakecolor": "white",
           "landcolor": "#E5ECF6",
           "showlakes": true,
           "showland": true,
           "subunitcolor": "white"
          },
          "hoverlabel": {
           "align": "left"
          },
          "hovermode": "closest",
          "mapbox": {
           "style": "light"
          },
          "paper_bgcolor": "white",
          "plot_bgcolor": "#E5ECF6",
          "polar": {
           "angularaxis": {
            "gridcolor": "white",
            "linecolor": "white",
            "ticks": ""
           },
           "bgcolor": "#E5ECF6",
           "radialaxis": {
            "gridcolor": "white",
            "linecolor": "white",
            "ticks": ""
           }
          },
          "scene": {
           "xaxis": {
            "backgroundcolor": "#E5ECF6",
            "gridcolor": "white",
            "gridwidth": 2,
            "linecolor": "white",
            "showbackground": true,
            "ticks": "",
            "zerolinecolor": "white"
           },
           "yaxis": {
            "backgroundcolor": "#E5ECF6",
            "gridcolor": "white",
            "gridwidth": 2,
            "linecolor": "white",
            "showbackground": true,
            "ticks": "",
            "zerolinecolor": "white"
           },
           "zaxis": {
            "backgroundcolor": "#E5ECF6",
            "gridcolor": "white",
            "gridwidth": 2,
            "linecolor": "white",
            "showbackground": true,
            "ticks": "",
            "zerolinecolor": "white"
           }
          },
          "shapedefaults": {
           "line": {
            "color": "#2a3f5f"
           }
          },
          "ternary": {
           "aaxis": {
            "gridcolor": "white",
            "linecolor": "white",
            "ticks": ""
           },
           "baxis": {
            "gridcolor": "white",
            "linecolor": "white",
            "ticks": ""
           },
           "bgcolor": "#E5ECF6",
           "caxis": {
            "gridcolor": "white",
            "linecolor": "white",
            "ticks": ""
           }
          },
          "title": {
           "x": 0.05
          },
          "xaxis": {
           "automargin": true,
           "gridcolor": "white",
           "linecolor": "white",
           "ticks": "",
           "title": {
            "standoff": 15
           },
           "zerolinecolor": "white",
           "zerolinewidth": 2
          },
          "yaxis": {
           "automargin": true,
           "gridcolor": "white",
           "linecolor": "white",
           "ticks": "",
           "title": {
            "standoff": 15
           },
           "zerolinecolor": "white",
           "zerolinewidth": 2
          }
         }
        },
        "title": {
         "text": "Vessel Size & Hours at Berth"
        },
        "width": 800
       }
      }
     },
     "metadata": {},
     "output_type": "display_data"
    }
   ],
   "source": [
    "\n",
    "# seattle mapbox\n",
    "fig_seattle = px.scatter_mapbox(\n",
    "    docks_df,\n",
    "    lon='dock_lon',\n",
    "    lat='dock_lat',\n",
    "    size='vessel_size_mean',\n",
    "    color='hrs_at_berth_mean',\n",
    "    hover_name='dock_name',\n",
    "    #size_max=20,\n",
    "    title='Vessel Size & Hours at Berth',\n",
    "    color_continuous_scale=px.colors.sequential.Viridis,\n",
    "    labels={'hrs_at_berth_mean': 'Mean Hours at Berth'},\n",
    "    height=600, width=800\n",
    ")\n",
    "\n",
    "# Set Mapbox style\n",
    "fig_seattle.update_layout(\n",
    "    mapbox_style=\"carto-positron\", \n",
    "    mapbox_zoom=mapbox_zoom_finder(docks_df['dock_lon'], docks_df['dock_lat']),\n",
    "    mapbox_center={\"lat\": docks_df['dock_lat'].mean(), \n",
    "                   \"lon\": docks_df['dock_lon'].mean()},\n",
    ")\n",
    "\n",
    "# Add footnote using add_annotation\n",
    "fig_seattle.add_annotation(\n",
    "    text=\"Circle size corresponds to mean vessel length\",\n",
    "    xref=\"paper\", yref=\"paper\",\n",
    "    x=0, y=-0.05,\n",
    "    showarrow=False,\n",
    "    font=dict(size=13, color=\"black\"),\n",
    "    align=\"left\"\n",
    ")\n",
    "\n",
    "fig_seattle.show()"
   ]
  },
  {
   "cell_type": "markdown",
   "metadata": {},
   "source": [
    "## Point in Time Stats\n",
    "\n",
    "Still under development"
   ]
  },
  {
   "cell_type": "code",
   "execution_count": 18,
   "metadata": {},
   "outputs": [],
   "source": [
    "#get point in time stats\n",
    "\n",
    "#create point in time (pit) df to join stats to\n",
    "pit_df = (\n",
    "    main_lf\n",
    "    .with_columns(\n",
    "        date = pl.col('time').dt.date(),\n",
    "        month = pl.col('time').dt.strftime('%Y%m')\n",
    "    )\n",
    "    .select('port_name', 'dock_id', 'month', 'date')\n",
    "    .unique().collect()\n",
    ")\n",
    "\n",
    "for hour in range(0, 24):\n",
    "    #create a time object for each hour\n",
    "    hour_dt = pl.time(hour)\n",
    "    #create a dataframe for each hour\n",
    "    hour_df = (\n",
    "        main_lf\n",
    "        .with_columns(\n",
    "            #get end of status time\n",
    "            end_time = pl.col('time') + pl.col('status_duration'),\n",
    "            #get date from time\n",
    "            date = pl.col('time').dt.date(),\n",
    "            #get month from time\n",
    "            month = pl.col('time').dt.strftime('%Y%m')\n",
    "        )\n",
    "        #group by port dock and hour\n",
    "        .group_by(['port_name', 'dock_id', 'month', 'date'])\n",
    "        .agg(\n",
    "            #number of vessels at dock at each hour\n",
    "            vessels_at_dock = (\n",
    "                #when moored at hour\n",
    "                pl.when((pl.col('status')==5) & \n",
    "                        (hour_dt.is_between(pl.col('time').dt.time(), \n",
    "                                         pl.col('end_time').dt.time())))\n",
    "                #then count the individual vessels\n",
    "                .then(pl.col('imo'))\n",
    "                .otherwise(pl.lit(None))\n",
    "                .drop_nulls() #n_unique counts nulls as unique values\n",
    "                .n_unique()\n",
    "            ),\n",
    "            #number of vessels at anchor at each hour\n",
    "            vessels_at_anchor = (\n",
    "                #when anchored at hour\n",
    "                pl.when((pl.col('status')==1) & \n",
    "                        (hour_dt.is_between(pl.col('time').dt.time(), \n",
    "                                        pl.col('end_time').dt.time())))\n",
    "                #then count the individual vessels\n",
    "                .then(pl.col('imo'))\n",
    "                .otherwise(pl.lit(None))\n",
    "                .drop_nulls()\n",
    "                .n_unique()\n",
    "            )\n",
    "        )\n",
    "        .collect()\n",
    "    )\n",
    "    #join the hour dataframe to the main pit dataframe\n",
    "    pit_df = (\n",
    "        pit_df\n",
    "        .join(hour_df, \n",
    "              on=['port_name', 'dock_id', 'month', 'date'], \n",
    "              how='left')\n",
    "        #rename the columns to include the hour\n",
    "        .rename({\n",
    "            'vessels_at_dock': f'vessels_at_dock_{hour}',\n",
    "            'vessels_at_anchor': f'vessels_at_anchor_{hour}'\n",
    "        })\n",
    "    )\n",
    "\n",
    "#get port stats by month\n",
    "pit_df = (\n",
    "    pit_df\n",
    "    #group by port and date\n",
    "    .group_by(['port_name', 'month', 'date'])\n",
    "    .agg(\n",
    "        #sum the number of vessels at all docks at each hour\n",
    "        cs.starts_with('vessels_at_dock_').sum(),\n",
    "        #sum the number of vessels at anchor at each hour\n",
    "        cs.starts_with('vessels_at_anchor_').sum()\n",
    "    )\n",
    "    #get the max at any hour\n",
    "    .with_columns(\n",
    "        #get max at dock at any hour\n",
    "        vessels_at_dock_max = (\n",
    "            pl.max_horizontal(cs.starts_with('vessels_at_dock_'))\n",
    "        ),\n",
    "        #get mean at dock any hour\n",
    "        vessels_at_dock_mean = (\n",
    "            pl.mean_horizontal(cs.starts_with('vessels_at_dock_'))\n",
    "        ),\n",
    "        #get max at anchor at any hour\n",
    "        vessels_at_anchor_max = (\n",
    "            pl.max_horizontal(cs.starts_with('vessels_at_anchor_'))\n",
    "        ),\n",
    "        #get mean at anchor any hour\n",
    "        vessels_at_anchor_mean = (\n",
    "            pl.mean_horizontal(cs.starts_with('vessels_at_anchor_'))\n",
    "        )\n",
    "    )\n",
    "    #select the columns to keep\n",
    "    .select(['port_name', 'month', 'date', 'vessels_at_dock_max', \n",
    "             'vessels_at_dock_mean', 'vessels_at_anchor_max',\n",
    "             'vessels_at_anchor_mean'])\n",
    "    #aggregate by month\n",
    "    .group_by(['port_name', 'month'])\n",
    "    .agg(\n",
    "        #get max at anchor on any date during that month\n",
    "        vessels_at_anchor_max = pl.max('vessels_at_anchor_max'),\n",
    "        #get mean at anchor on any date during that month\n",
    "        vessels_at_anchor_mean = pl.mean('vessels_at_anchor_mean'),\n",
    "        #get max at dock on any date during that month\n",
    "        vessels_at_dock_max = pl.max('vessels_at_dock_max'),\n",
    "        #get mean at dock on any date during that month\n",
    "        vessels_at_dock_mean = pl.mean('vessels_at_dock_mean'\n",
    "        )\n",
    "    )\n",
    ")"
   ]
  },
  {
   "cell_type": "code",
   "execution_count": 19,
   "metadata": {},
   "outputs": [
    {
     "data": {
      "text/html": [
       "<div><style>\n",
       ".dataframe > thead > tr,\n",
       ".dataframe > tbody > tr {\n",
       "  text-align: right;\n",
       "  white-space: pre-wrap;\n",
       "}\n",
       "</style>\n",
       "<small>shape: (9, 7)</small><table border=\"1\" class=\"dataframe\"><thead><tr><th>statistic</th><th>port_name</th><th>month</th><th>vessels_at_anchor_max</th><th>vessels_at_anchor_mean</th><th>vessels_at_dock_max</th><th>vessels_at_dock_mean</th></tr><tr><td>str</td><td>str</td><td>str</td><td>f64</td><td>f64</td><td>f64</td><td>f64</td></tr></thead><tbody><tr><td>&quot;count&quot;</td><td>&quot;5393&quot;</td><td>&quot;5393&quot;</td><td>5393.0</td><td>5393.0</td><td>5393.0</td><td>5393.0</td></tr><tr><td>&quot;null_count&quot;</td><td>&quot;0&quot;</td><td>&quot;0&quot;</td><td>0.0</td><td>0.0</td><td>0.0</td><td>0.0</td></tr><tr><td>&quot;mean&quot;</td><td>null</td><td>null</td><td>0.789913</td><td>0.047016</td><td>2.626182</td><td>0.499249</td></tr><tr><td>&quot;std&quot;</td><td>null</td><td>null</td><td>0.806015</td><td>0.086917</td><td>1.769674</td><td>0.477023</td></tr><tr><td>&quot;min&quot;</td><td>&quot;Albany Port District, NY&quot;</td><td>&quot;201801&quot;</td><td>0.0</td><td>0.0</td><td>0.0</td><td>0.0</td></tr><tr><td>&quot;25%&quot;</td><td>null</td><td>null</td><td>0.0</td><td>0.0</td><td>1.0</td><td>0.19697</td></tr><tr><td>&quot;50%&quot;</td><td>null</td><td>null</td><td>1.0</td><td>0.013889</td><td>2.0</td><td>0.358333</td></tr><tr><td>&quot;75%&quot;</td><td>null</td><td>null</td><td>1.0</td><td>0.056548</td><td>3.0</td><td>0.615278</td></tr><tr><td>&quot;max&quot;</td><td>&quot;Wilmington, NC&quot;</td><td>&quot;202412&quot;</td><td>6.0</td><td>0.951389</td><td>12.0</td><td>3.938889</td></tr></tbody></table></div>"
      ],
      "text/plain": [
       "shape: (9, 7)\n",
       "┌────────────┬───────────────┬────────┬───────────────┬──────────────┬──────────────┬──────────────┐\n",
       "│ statistic  ┆ port_name     ┆ month  ┆ vessels_at_an ┆ vessels_at_a ┆ vessels_at_d ┆ vessels_at_d │\n",
       "│ ---        ┆ ---           ┆ ---    ┆ chor_max      ┆ nchor_mean   ┆ ock_max      ┆ ock_mean     │\n",
       "│ str        ┆ str           ┆ str    ┆ ---           ┆ ---          ┆ ---          ┆ ---          │\n",
       "│            ┆               ┆        ┆ f64           ┆ f64          ┆ f64          ┆ f64          │\n",
       "╞════════════╪═══════════════╪════════╪═══════════════╪══════════════╪══════════════╪══════════════╡\n",
       "│ count      ┆ 5393          ┆ 5393   ┆ 5393.0        ┆ 5393.0       ┆ 5393.0       ┆ 5393.0       │\n",
       "│ null_count ┆ 0             ┆ 0      ┆ 0.0           ┆ 0.0          ┆ 0.0          ┆ 0.0          │\n",
       "│ mean       ┆ null          ┆ null   ┆ 0.789913      ┆ 0.047016     ┆ 2.626182     ┆ 0.499249     │\n",
       "│ std        ┆ null          ┆ null   ┆ 0.806015      ┆ 0.086917     ┆ 1.769674     ┆ 0.477023     │\n",
       "│ min        ┆ Albany Port   ┆ 201801 ┆ 0.0           ┆ 0.0          ┆ 0.0          ┆ 0.0          │\n",
       "│            ┆ District, NY  ┆        ┆               ┆              ┆              ┆              │\n",
       "│ 25%        ┆ null          ┆ null   ┆ 0.0           ┆ 0.0          ┆ 1.0          ┆ 0.19697      │\n",
       "│ 50%        ┆ null          ┆ null   ┆ 1.0           ┆ 0.013889     ┆ 2.0          ┆ 0.358333     │\n",
       "│ 75%        ┆ null          ┆ null   ┆ 1.0           ┆ 0.056548     ┆ 3.0          ┆ 0.615278     │\n",
       "│ max        ┆ Wilmington,   ┆ 202412 ┆ 6.0           ┆ 0.951389     ┆ 12.0         ┆ 3.938889     │\n",
       "│            ┆ NC            ┆        ┆               ┆              ┆              ┆              │\n",
       "└────────────┴───────────────┴────────┴───────────────┴──────────────┴──────────────┴──────────────┘"
      ]
     },
     "metadata": {},
     "output_type": "display_data"
    },
    {
     "data": {
      "text/html": [
       "<div><style>\n",
       ".dataframe > thead > tr,\n",
       ".dataframe > tbody > tr {\n",
       "  text-align: right;\n",
       "  white-space: pre-wrap;\n",
       "}\n",
       "</style>\n",
       "<small>shape: (5, 6)</small><table border=\"1\" class=\"dataframe\"><thead><tr><th>port_name</th><th>month</th><th>vessels_at_anchor_max</th><th>vessels_at_anchor_mean</th><th>vessels_at_dock_max</th><th>vessels_at_dock_mean</th></tr><tr><td>str</td><td>str</td><td>u32</td><td>f64</td><td>u32</td><td>f64</td></tr></thead><tbody><tr><td>&quot;PortMiami, FL&quot;</td><td>&quot;202401&quot;</td><td>1</td><td>0.002688</td><td>3</td><td>0.473118</td></tr><tr><td>&quot;Port of Greater Baton Rouge, L…</td><td>&quot;201908&quot;</td><td>3</td><td>0.125</td><td>2</td><td>0.379032</td></tr><tr><td>&quot;San Diego Unified Port, CA&quot;</td><td>&quot;201806&quot;</td><td>0</td><td>0.0</td><td>1</td><td>0.327778</td></tr><tr><td>&quot;Port Arthur, TX&quot;</td><td>&quot;202407&quot;</td><td>1</td><td>0.001344</td><td>5</td><td>1.202957</td></tr><tr><td>&quot;Canaveral Port District, FL&quot;</td><td>&quot;201909&quot;</td><td>1</td><td>0.050926</td><td>3</td><td>0.388889</td></tr></tbody></table></div>"
      ],
      "text/plain": [
       "shape: (5, 6)\n",
       "┌─────────────────┬────────┬─────────────────┬─────────────────┬─────────────────┬─────────────────┐\n",
       "│ port_name       ┆ month  ┆ vessels_at_anch ┆ vessels_at_anch ┆ vessels_at_dock ┆ vessels_at_dock │\n",
       "│ ---             ┆ ---    ┆ or_max          ┆ or_mean         ┆ _max            ┆ _mean           │\n",
       "│ str             ┆ str    ┆ ---             ┆ ---             ┆ ---             ┆ ---             │\n",
       "│                 ┆        ┆ u32             ┆ f64             ┆ u32             ┆ f64             │\n",
       "╞═════════════════╪════════╪═════════════════╪═════════════════╪═════════════════╪═════════════════╡\n",
       "│ PortMiami, FL   ┆ 202401 ┆ 1               ┆ 0.002688        ┆ 3               ┆ 0.473118        │\n",
       "│ Port of Greater ┆ 201908 ┆ 3               ┆ 0.125           ┆ 2               ┆ 0.379032        │\n",
       "│ Baton Rouge, L… ┆        ┆                 ┆                 ┆                 ┆                 │\n",
       "│ San Diego       ┆ 201806 ┆ 0               ┆ 0.0             ┆ 1               ┆ 0.327778        │\n",
       "│ Unified Port,   ┆        ┆                 ┆                 ┆                 ┆                 │\n",
       "│ CA              ┆        ┆                 ┆                 ┆                 ┆                 │\n",
       "│ Port Arthur, TX ┆ 202407 ┆ 1               ┆ 0.001344        ┆ 5               ┆ 1.202957        │\n",
       "│ Canaveral Port  ┆ 201909 ┆ 1               ┆ 0.050926        ┆ 3               ┆ 0.388889        │\n",
       "│ District, FL    ┆        ┆                 ┆                 ┆                 ┆                 │\n",
       "└─────────────────┴────────┴─────────────────┴─────────────────┴─────────────────┴─────────────────┘"
      ]
     },
     "execution_count": 19,
     "metadata": {},
     "output_type": "execute_result"
    }
   ],
   "source": [
    "#inspect\n",
    "display(pit_df.describe())\n",
    "pit_df.head()"
   ]
  },
  {
   "cell_type": "markdown",
   "metadata": {},
   "source": [
    "### Max/Mean stats for vessels_at_dock \n",
    "\n",
    "- Current output seems far too low - e.g. Port of LA shows a max of 11 vessels at dock at any time since 2018; since there are 37 docks at LA we expect a max in the 20s or higher. "
   ]
  }
 ],
 "metadata": {
  "kernelspec": {
   "display_name": "port_performance",
   "language": "python",
   "name": "python3"
  },
  "language_info": {
   "codemirror_mode": {
    "name": "ipython",
    "version": 3
   },
   "file_extension": ".py",
   "mimetype": "text/x-python",
   "name": "python",
   "nbconvert_exporter": "python",
   "pygments_lexer": "ipython3",
   "version": "3.13.2"
  }
 },
 "nbformat": 4,
 "nbformat_minor": 2
}
