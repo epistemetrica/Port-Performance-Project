{
 "cells": [
  {
   "cell_type": "markdown",
   "metadata": {},
   "source": [
    "# Port Statistics\n",
    "\n",
    "This notebook develops and explores the various port statistics used in the [Port Performance Project](https://github.com/epistemetrica/Port-Performance-Project). See the README.md file in the main directory for more info.\n",
    "\n",
    "The primary data set comes from a combination of AIS vessel data and port data, processed in the Port Geodata notebook.\n",
    "\n",
    "Statistics and final dataframes developed here are used in the Port Performance Dashboard.\n",
    "\n"
   ]
  },
  {
   "cell_type": "code",
   "execution_count": 13,
   "metadata": {},
   "outputs": [],
   "source": [
    "#prelims\n",
    "import polars as pl\n",
    "import polars.selectors as cs\n",
    "import pandas as pd\n",
    "import geopandas as gpd\n",
    "import time\n",
    "import plotly.express as px\n",
    "import matplotlib.pyplot as plt\n",
    "import contextily as cx\n",
    "import numpy as np\n",
    "import glob\n",
    "import folium\n",
    "from folium.plugins import HeatMap\n",
    "\n",
    "#enable string cache for polars categoricals\n",
    "pl.enable_string_cache()\n",
    "#display settings\n",
    "pd.set_option('display.max_columns', None)\n",
    "pd.set_option('display.max_rows', None)\n",
    "pl.Config(tbl_rows=100);"
   ]
  },
  {
   "cell_type": "markdown",
   "metadata": {},
   "source": [
    "## Load Data from geodata_prep notebook"
   ]
  },
  {
   "cell_type": "code",
   "execution_count": 14,
   "metadata": {},
   "outputs": [],
   "source": [
    "#load data from parquet\n",
    "main_lf = pl.scan_parquet('port data/dashboard/main.parquet')"
   ]
  },
  {
   "cell_type": "markdown",
   "metadata": {},
   "source": [
    "## Generate Stats"
   ]
  },
  {
   "cell_type": "code",
   "execution_count": 15,
   "metadata": {},
   "outputs": [
    {
     "data": {
      "text/html": [
       "<div><style>\n",
       ".dataframe > thead > tr,\n",
       ".dataframe > tbody > tr {\n",
       "  text-align: right;\n",
       "  white-space: pre-wrap;\n",
       "}\n",
       "</style>\n",
       "<small>shape: (9, 21)</small><table border=\"1\" class=\"dataframe\"><thead><tr><th>statistic</th><th>call_id</th><th>port_name</th><th>port_lat</th><th>port_lon</th><th>dock_name</th><th>dock_id</th><th>facility_type</th><th>dock_lat</th><th>dock_lon</th><th>imo</th><th>vessel_size</th><th>time_port_entry</th><th>time_arrival</th><th>time_departure</th><th>time_port_exit</th><th>hrs_at_berth</th><th>hrs_at_anchor</th><th>hrs_to_dock</th><th>hrs_in_port_after_dock</th><th>hrs_in_port_waters</th></tr><tr><td>str</td><td>str</td><td>str</td><td>f64</td><td>f64</td><td>str</td><td>str</td><td>str</td><td>f64</td><td>f64</td><td>f64</td><td>f64</td><td>str</td><td>str</td><td>str</td><td>str</td><td>f64</td><td>f64</td><td>f64</td><td>f64</td><td>f64</td></tr></thead><tbody><tr><td>&quot;count&quot;</td><td>&quot;149060&quot;</td><td>&quot;149060&quot;</td><td>149060.0</td><td>149060.0</td><td>&quot;149060&quot;</td><td>&quot;149060&quot;</td><td>&quot;148696&quot;</td><td>149060.0</td><td>149060.0</td><td>149060.0</td><td>149060.0</td><td>&quot;149060&quot;</td><td>&quot;149060&quot;</td><td>&quot;149060&quot;</td><td>&quot;149060&quot;</td><td>149060.0</td><td>149060.0</td><td>149060.0</td><td>149060.0</td><td>149060.0</td></tr><tr><td>&quot;null_count&quot;</td><td>&quot;0&quot;</td><td>&quot;0&quot;</td><td>0.0</td><td>0.0</td><td>&quot;0&quot;</td><td>&quot;0&quot;</td><td>&quot;364&quot;</td><td>0.0</td><td>0.0</td><td>0.0</td><td>0.0</td><td>&quot;0&quot;</td><td>&quot;0&quot;</td><td>&quot;0&quot;</td><td>&quot;0&quot;</td><td>0.0</td><td>0.0</td><td>0.0</td><td>0.0</td><td>0.0</td></tr><tr><td>&quot;mean&quot;</td><td>null</td><td>null</td><td>32.355629</td><td>-94.734587</td><td>null</td><td>null</td><td>null</td><td>32.355861</td><td>-94.733648</td><td>1.0145e7</td><td>207.563203</td><td>&quot;2021-06-05 16:11:18.714215&quot;</td><td>&quot;2021-06-06 23:43:26.756433&quot;</td><td>&quot;2021-06-12 17:34:14.974124&quot;</td><td>&quot;2021-06-14 11:58:45.439413&quot;</td><td>62.765083</td><td>14.088087</td><td>31.527654</td><td>42.400755</td><td>211.782574</td></tr><tr><td>&quot;std&quot;</td><td>null</td><td>null</td><td>6.911825</td><td>20.752654</td><td>null</td><td>null</td><td>null</td><td>6.912113</td><td>20.75299</td><td>2.6593e7</td><td>58.898016</td><td>null</td><td>null</td><td>null</td><td>null</td><td>434.691401</td><td>90.94194</td><td>811.801086</td><td>1197.611755</td><td>2327.014701</td></tr><tr><td>&quot;min&quot;</td><td>&quot;0_Corpus Christi, TX_2020-04-0…</td><td>&quot;Albany Port District, NY&quot;</td><td>17.938939</td><td>-166.549916</td><td>&quot;ADM Corpus Christi Grain Eleva…</td><td>&quot;00XE&quot;</td><td>&quot;Anchorage&quot;</td><td>17.936081</td><td>-166.53444</td><td>0.0</td><td>101.0</td><td>&quot;2018-01-01 00:35:19&quot;</td><td>&quot;2018-01-01 00:35:19&quot;</td><td>&quot;2018-01-01 04:23:54&quot;</td><td>&quot;2018-01-01 09:15:57&quot;</td><td>0.083333</td><td>0.0</td><td>0.0</td><td>0.0</td><td>0.133333</td></tr><tr><td>&quot;25%&quot;</td><td>null</td><td>null</td><td>28.629389</td><td>-118.2095</td><td>null</td><td>null</td><td>null</td><td>28.645767</td><td>-118.21111</td><td>9.295945e6</td><td>176.0</td><td>&quot;2019-08-26 07:35:43&quot;</td><td>&quot;2019-08-27 07:09:16&quot;</td><td>&quot;2019-09-02 00:53:02&quot;</td><td>&quot;2019-09-04 14:23:09&quot;</td><td>16.716667</td><td>0.0</td><td>2.666667</td><td>2.15</td><td>26.033333</td></tr><tr><td>&quot;50%&quot;</td><td>null</td><td>null</td><td>30.69123</td><td>-90.085256</td><td>null</td><td>null</td><td>null</td><td>30.712718</td><td>-90.112537</td><td>9.402043e6</td><td>190.0</td><td>&quot;2021-07-18 17:41:27&quot;</td><td>&quot;2021-07-20 08:08:48&quot;</td><td>&quot;2021-07-27 01:17:07&quot;</td><td>&quot;2021-07-29 05:41:35&quot;</td><td>31.416667</td><td>0.0</td><td>3.55</td><td>2.8</td><td>44.566667</td></tr><tr><td>&quot;75%&quot;</td><td>null</td><td>null</td><td>36.86642</td><td>-80.117801</td><td>null</td><td>null</td><td>null</td><td>36.875896</td><td>-80.114322</td><td>9.613848e6</td><td>230.0</td><td>&quot;2023-02-24 19:12:22&quot;</td><td>&quot;2023-02-26 10:08:18&quot;</td><td>&quot;2023-03-03 23:04:34&quot;</td><td>&quot;2023-03-05 17:59:37&quot;</td><td>58.25</td><td>0.0</td><td>5.516667</td><td>3.55</td><td>84.15</td></tr><tr><td>&quot;max&quot;</td><td>&quot;9992268_Morehead City, NC_2024…</td><td>&quot;Wilmington, NC&quot;</td><td>61.23778</td><td>-66.096678</td><td>&quot;YUSEN TERMINALS BERTHS 212-221&quot;</td><td>&quot;1JHK&quot;</td><td>&quot;Open Water&quot;</td><td>61.24306</td><td>-66.086926</td><td>9.800025e8</td><td>667.0</td><td>&quot;2024-09-30 12:54:53&quot;</td><td>&quot;2024-09-30 16:32:15&quot;</td><td>&quot;2024-09-30 23:22:34&quot;</td><td>&quot;2024-09-30 23:22:34&quot;</td><td>45137.65</td><td>14177.583333</td><td>59022.816667</td><td>58916.25</td><td>59078.816667</td></tr></tbody></table></div>"
      ],
      "text/plain": [
       "shape: (9, 21)\n",
       "┌───────────┬───────────┬───────────┬───────────┬───┬───────────┬───────────┬───────────┬──────────┐\n",
       "│ statistic ┆ call_id   ┆ port_name ┆ port_lat  ┆ … ┆ hrs_at_an ┆ hrs_to_do ┆ hrs_in_po ┆ hrs_in_p │\n",
       "│ ---       ┆ ---       ┆ ---       ┆ ---       ┆   ┆ chor      ┆ ck        ┆ rt_after_ ┆ ort_wate │\n",
       "│ str       ┆ str       ┆ str       ┆ f64       ┆   ┆ ---       ┆ ---       ┆ dock      ┆ rs       │\n",
       "│           ┆           ┆           ┆           ┆   ┆ f64       ┆ f64       ┆ ---       ┆ ---      │\n",
       "│           ┆           ┆           ┆           ┆   ┆           ┆           ┆ f64       ┆ f64      │\n",
       "╞═══════════╪═══════════╪═══════════╪═══════════╪═══╪═══════════╪═══════════╪═══════════╪══════════╡\n",
       "│ count     ┆ 149060    ┆ 149060    ┆ 149060.0  ┆ … ┆ 149060.0  ┆ 149060.0  ┆ 149060.0  ┆ 149060.0 │\n",
       "│ null_coun ┆ 0         ┆ 0         ┆ 0.0       ┆ … ┆ 0.0       ┆ 0.0       ┆ 0.0       ┆ 0.0      │\n",
       "│ t         ┆           ┆           ┆           ┆   ┆           ┆           ┆           ┆          │\n",
       "│ mean      ┆ null      ┆ null      ┆ 32.355629 ┆ … ┆ 14.088087 ┆ 31.527654 ┆ 42.400755 ┆ 211.7825 │\n",
       "│           ┆           ┆           ┆           ┆   ┆           ┆           ┆           ┆ 74       │\n",
       "│ std       ┆ null      ┆ null      ┆ 6.911825  ┆ … ┆ 90.94194  ┆ 811.80108 ┆ 1197.6117 ┆ 2327.014 │\n",
       "│           ┆           ┆           ┆           ┆   ┆           ┆ 6         ┆ 55        ┆ 701      │\n",
       "│ min       ┆ 0_Corpus  ┆ Albany    ┆ 17.938939 ┆ … ┆ 0.0       ┆ 0.0       ┆ 0.0       ┆ 0.133333 │\n",
       "│           ┆ Christi,  ┆ Port      ┆           ┆   ┆           ┆           ┆           ┆          │\n",
       "│           ┆ TX_2020-0 ┆ District, ┆           ┆   ┆           ┆           ┆           ┆          │\n",
       "│           ┆ 4-0…      ┆ NY        ┆           ┆   ┆           ┆           ┆           ┆          │\n",
       "│ 25%       ┆ null      ┆ null      ┆ 28.629389 ┆ … ┆ 0.0       ┆ 2.666667  ┆ 2.15      ┆ 26.03333 │\n",
       "│           ┆           ┆           ┆           ┆   ┆           ┆           ┆           ┆ 3        │\n",
       "│ 50%       ┆ null      ┆ null      ┆ 30.69123  ┆ … ┆ 0.0       ┆ 3.55      ┆ 2.8       ┆ 44.56666 │\n",
       "│           ┆           ┆           ┆           ┆   ┆           ┆           ┆           ┆ 7        │\n",
       "│ 75%       ┆ null      ┆ null      ┆ 36.86642  ┆ … ┆ 0.0       ┆ 5.516667  ┆ 3.55      ┆ 84.15    │\n",
       "│ max       ┆ 9992268_M ┆ Wilmingto ┆ 61.23778  ┆ … ┆ 14177.583 ┆ 59022.816 ┆ 58916.25  ┆ 59078.81 │\n",
       "│           ┆ orehead   ┆ n, NC     ┆           ┆   ┆ 333       ┆ 667       ┆           ┆ 6667     │\n",
       "│           ┆ City,     ┆           ┆           ┆   ┆           ┆           ┆           ┆          │\n",
       "│           ┆ NC_2024…  ┆           ┆           ┆   ┆           ┆           ┆           ┆          │\n",
       "└───────────┴───────────┴───────────┴───────────┴───┴───────────┴───────────┴───────────┴──────────┘"
      ]
     },
     "metadata": {},
     "output_type": "display_data"
    },
    {
     "data": {
      "text/html": [
       "<div><style>\n",
       ".dataframe > thead > tr,\n",
       ".dataframe > tbody > tr {\n",
       "  text-align: right;\n",
       "  white-space: pre-wrap;\n",
       "}\n",
       "</style>\n",
       "<small>shape: (5, 20)</small><table border=\"1\" class=\"dataframe\"><thead><tr><th>call_id</th><th>port_name</th><th>port_lat</th><th>port_lon</th><th>dock_name</th><th>dock_id</th><th>facility_type</th><th>dock_lat</th><th>dock_lon</th><th>imo</th><th>vessel_size</th><th>time_port_entry</th><th>time_arrival</th><th>time_departure</th><th>time_port_exit</th><th>hrs_at_berth</th><th>hrs_at_anchor</th><th>hrs_to_dock</th><th>hrs_in_port_after_dock</th><th>hrs_in_port_waters</th></tr><tr><td>str</td><td>str</td><td>f64</td><td>f64</td><td>str</td><td>str</td><td>str</td><td>f64</td><td>f64</td><td>i64</td><td>f64</td><td>datetime[μs]</td><td>datetime[μs]</td><td>datetime[μs]</td><td>datetime[μs]</td><td>f64</td><td>f64</td><td>f64</td><td>f64</td><td>f64</td></tr></thead><tbody><tr><td>&quot;9332925_Galveston, TX_2024-02-…</td><td>&quot;Galveston, TX&quot;</td><td>29.31049</td><td>-94.8127</td><td>&quot;PORT OF GALVESTON, PIERS 37-38&quot;</td><td>&quot;0VXL&quot;</td><td>&quot;Dock&quot;</td><td>29.308333</td><td>-94.811389</td><td>9332925</td><td>228.0</td><td>2024-02-10 07:50:18</td><td>2024-02-10 11:39:51</td><td>2024-02-11 00:06:26</td><td>2024-02-11 03:52:27</td><td>12.433333</td><td>0.0</td><td>3.816667</td><td>3.766667</td><td>20.033333</td></tr><tr><td>&quot;9021332_Port of Long Beach, CA…</td><td>&quot;Port of Long Beach, CA&quot;</td><td>33.73957</td><td>-118.2095</td><td>&quot;TOYOTA VEHICLE PROCESSORS BERT…</td><td>&quot;0VEQ&quot;</td><td>&quot;Dock&quot;</td><td>33.773889</td><td>-118.21888</td><td>9021332</td><td>180.0</td><td>2019-01-29 08:36:22</td><td>2019-01-29 17:59:08</td><td>2019-01-29 18:17:08</td><td>2019-01-30 04:38:18</td><td>0.3</td><td>0.0</td><td>9.366667</td><td>10.35</td><td>20.016667</td></tr><tr><td>&quot;9407251_Port Arthur, TX_2023-1…</td><td>&quot;Port Arthur, TX&quot;</td><td>29.83142</td><td>-93.96069</td><td>&quot;VALERO REFINING GROUP, PORT AR…</td><td>&quot;0QVD&quot;</td><td>&quot;Dock&quot;</td><td>29.846377</td><td>-93.968517</td><td>9407251</td><td>229.0</td><td>2023-11-01 22:21:55</td><td>2023-11-02 00:32:44</td><td>2023-11-04 20:33:22</td><td>2023-11-04 22:40:53</td><td>68.0</td><td>0.0</td><td>2.166667</td><td>2.116667</td><td>72.3</td></tr><tr><td>&quot;9357298_Port of Brunswick, GA_…</td><td>&quot;Port of Brunswick, GA&quot;</td><td>31.132426</td><td>-81.53666</td><td>&quot;GEORGIA PORTS AUTHORITY, COLON…</td><td>&quot;0SB2&quot;</td><td>&quot;Dock&quot;</td><td>31.132222</td><td>-81.537222</td><td>9357298</td><td>199.0</td><td>2019-05-08 06:15:27</td><td>2019-05-08 09:36:16</td><td>2019-05-08 22:18:16</td><td>2019-05-09 01:01:23</td><td>12.7</td><td>0.0</td><td>3.333333</td><td>2.716667</td><td>18.75</td></tr><tr><td>&quot;9705732_Galveston, TX_2021-09-…</td><td>&quot;Galveston, TX&quot;</td><td>29.31049</td><td>-94.8127</td><td>&quot;AGRILIANCE, GALVESTON PIERS 35…</td><td>&quot;0VY2&quot;</td><td>&quot;Dock&quot;</td><td>29.308333</td><td>-94.809167</td><td>9705732</td><td>145.0</td><td>2021-09-12 00:52:24</td><td>2021-09-12 06:00:00</td><td>2021-09-13 07:42:00</td><td>2021-09-14 03:47:48</td><td>21.4</td><td>8.666667</td><td>5.116667</td><td>20.083333</td><td>50.916667</td></tr></tbody></table></div>"
      ],
      "text/plain": [
       "shape: (5, 20)\n",
       "┌───────────┬───────────┬───────────┬───────────┬───┬───────────┬───────────┬───────────┬──────────┐\n",
       "│ call_id   ┆ port_name ┆ port_lat  ┆ port_lon  ┆ … ┆ hrs_at_an ┆ hrs_to_do ┆ hrs_in_po ┆ hrs_in_p │\n",
       "│ ---       ┆ ---       ┆ ---       ┆ ---       ┆   ┆ chor      ┆ ck        ┆ rt_after_ ┆ ort_wate │\n",
       "│ str       ┆ str       ┆ f64       ┆ f64       ┆   ┆ ---       ┆ ---       ┆ dock      ┆ rs       │\n",
       "│           ┆           ┆           ┆           ┆   ┆ f64       ┆ f64       ┆ ---       ┆ ---      │\n",
       "│           ┆           ┆           ┆           ┆   ┆           ┆           ┆ f64       ┆ f64      │\n",
       "╞═══════════╪═══════════╪═══════════╪═══════════╪═══╪═══════════╪═══════════╪═══════════╪══════════╡\n",
       "│ 9332925_G ┆ Galveston ┆ 29.31049  ┆ -94.8127  ┆ … ┆ 0.0       ┆ 3.816667  ┆ 3.766667  ┆ 20.03333 │\n",
       "│ alveston, ┆ , TX      ┆           ┆           ┆   ┆           ┆           ┆           ┆ 3        │\n",
       "│ TX_2024-0 ┆           ┆           ┆           ┆   ┆           ┆           ┆           ┆          │\n",
       "│ 2-…       ┆           ┆           ┆           ┆   ┆           ┆           ┆           ┆          │\n",
       "│ 9021332_P ┆ Port of   ┆ 33.73957  ┆ -118.2095 ┆ … ┆ 0.0       ┆ 9.366667  ┆ 10.35     ┆ 20.01666 │\n",
       "│ ort of    ┆ Long      ┆           ┆           ┆   ┆           ┆           ┆           ┆ 7        │\n",
       "│ Long      ┆ Beach, CA ┆           ┆           ┆   ┆           ┆           ┆           ┆          │\n",
       "│ Beach,    ┆           ┆           ┆           ┆   ┆           ┆           ┆           ┆          │\n",
       "│ CA…       ┆           ┆           ┆           ┆   ┆           ┆           ┆           ┆          │\n",
       "│ 9407251_P ┆ Port      ┆ 29.83142  ┆ -93.96069 ┆ … ┆ 0.0       ┆ 2.166667  ┆ 2.116667  ┆ 72.3     │\n",
       "│ ort       ┆ Arthur,   ┆           ┆           ┆   ┆           ┆           ┆           ┆          │\n",
       "│ Arthur,   ┆ TX        ┆           ┆           ┆   ┆           ┆           ┆           ┆          │\n",
       "│ TX_2023-1 ┆           ┆           ┆           ┆   ┆           ┆           ┆           ┆          │\n",
       "│ …         ┆           ┆           ┆           ┆   ┆           ┆           ┆           ┆          │\n",
       "│ 9357298_P ┆ Port of   ┆ 31.132426 ┆ -81.53666 ┆ … ┆ 0.0       ┆ 3.333333  ┆ 2.716667  ┆ 18.75    │\n",
       "│ ort of    ┆ Brunswick ┆           ┆           ┆   ┆           ┆           ┆           ┆          │\n",
       "│ Brunswick ┆ , GA      ┆           ┆           ┆   ┆           ┆           ┆           ┆          │\n",
       "│ , GA_…    ┆           ┆           ┆           ┆   ┆           ┆           ┆           ┆          │\n",
       "│ 9705732_G ┆ Galveston ┆ 29.31049  ┆ -94.8127  ┆ … ┆ 8.666667  ┆ 5.116667  ┆ 20.083333 ┆ 50.91666 │\n",
       "│ alveston, ┆ , TX      ┆           ┆           ┆   ┆           ┆           ┆           ┆ 7        │\n",
       "│ TX_2021-0 ┆           ┆           ┆           ┆   ┆           ┆           ┆           ┆          │\n",
       "│ 9-…       ┆           ┆           ┆           ┆   ┆           ┆           ┆           ┆          │\n",
       "└───────────┴───────────┴───────────┴───────────┴───┴───────────┴───────────┴───────────┴──────────┘"
      ]
     },
     "execution_count": 15,
     "metadata": {},
     "output_type": "execute_result"
    }
   ],
   "source": [
    "#get stats for each call\n",
    "calls_df = (\n",
    "    main_lf\n",
    "    #ensure sorting by vessel and time\n",
    "    .sort(['imo', 'time'])\n",
    "    #grouby by call id\n",
    "    .group_by('call_id')\n",
    "    .agg(\n",
    "        #port name\n",
    "        port_name = pl.first('port_name'),\n",
    "        #port lat and lon\n",
    "        port_lat = pl.first('port_lat'),\n",
    "        port_lon = pl.first('port_lon'),\n",
    "        #dock name\n",
    "        dock_name = pl.first('dock_name'),\n",
    "        #dock_id\n",
    "        dock_id = pl.first('dock_id'),\n",
    "        #facility type\n",
    "        facility_type = pl.first('facility_type'),\n",
    "        #dock lat and lon\n",
    "        dock_lat = pl.first('dock_lat'),\n",
    "        dock_lon = pl.first('dock_lon'),\n",
    "        #vessel imo\n",
    "        imo = pl.first('imo'),\n",
    "        #vessel size\n",
    "        vessel_size = pl.first('length'),\n",
    "        #time entering port waters\n",
    "        time_port_entry = pl.col('time').min(),\n",
    "        #time of arrival at dock\n",
    "        time_arrival = (\n",
    "            pl.when(pl.col('status')==5)\n",
    "            .then(pl.col('time'))\n",
    "            .otherwise(pl.lit(None))\n",
    "        ).min(),\n",
    "        #time of departure from dock\n",
    "        time_departure = (\n",
    "            pl.when(pl.col('status')==5)\n",
    "            .then(pl.col('time')+pl.col('status_duration'))\n",
    "            .otherwise(pl.lit(None))\n",
    "        ).max(),\n",
    "        #time port exit\n",
    "        time_port_exit = (pl.col('time') + pl.col('status_duration')).max(),\n",
    "        #hrs a berth\n",
    "        hrs_at_berth = (\n",
    "            ((pl.col('status')==5)*\n",
    "            (pl.col('status_duration').dt.total_minutes()/60)\n",
    "            )\n",
    "        ).sum(),\n",
    "        #hrs at anchor\n",
    "        hrs_at_anchor = (\n",
    "            (pl.col('status')==1)*\n",
    "            (pl.col('status_duration').dt.total_minutes()/60)\n",
    "        ).sum()\n",
    "    )\n",
    "    #drop calls with missing arrival or departure time\n",
    "    .filter(pl.col('time_arrival').is_not_null() & \n",
    "            pl.col('time_departure').is_not_null())\n",
    "    #drop calls with missing port entry or exit time\n",
    "    .filter(pl.col('time_port_entry').is_not_null() & \n",
    "            pl.col('time_port_exit').is_not_null())\n",
    "    #compute additional stats\n",
    "    .with_columns(\n",
    "        #time from port entry to docking in hrs\n",
    "        hrs_to_dock = (\n",
    "            (pl.col('time_arrival') - pl.col('time_port_entry'))\n",
    "            .dt.total_minutes()/60\n",
    "        ),\n",
    "        #time in port waters after leaving dock\n",
    "        hrs_in_port_after_dock = (\n",
    "            (pl.col('time_port_exit') - pl.col('time_departure'))\n",
    "            .dt.total_minutes()/60\n",
    "        ),\n",
    "        #total time in port waters in hrs\n",
    "        hrs_in_port_waters =(\n",
    "            (pl.col('time_port_exit') - pl.col('time_port_entry'))\n",
    "            .dt.total_minutes()/60\n",
    "        )\n",
    "    )\n",
    "    #collect\n",
    "    .collect()\n",
    ")\n",
    "\n",
    "#inspect\n",
    "display(calls_df.describe())\n",
    "calls_df.head(5)\n"
   ]
  },
  {
   "cell_type": "markdown",
   "metadata": {},
   "source": [
    "### Notes on Calls Frame and additional cleaning\n",
    "\n",
    "- hrs_in_port_after_dock can be 0 when a vessel docks in overlapping port waters and visits both ports. 4692 (3.2%) of port calls have hrs_in_port_after_dock == 0. \n",
    "- hrs_to_dock == 0 implies that the first time the vessel sent an AIS message while in port waters was while at dock. This would be expected with new vessels that send their first messages from a dock, and accounts for ~1.6% (2234) of port calls. \n",
    "    - Of these, ~17% (336) were docked in overlapping port waters prior to visiting the next dock. This would result in hrs_in_port_waters == hrs_at_berth. \n",
    "- The mean and quartile statistics for the port calls seems reasonable; however, some calls have very long (6+ years in some cases) hrs_at_berth and related stats. This would result from vessel AIS transponders going offline at some stage during their visit to port waters. Rectifying this issue will be done either in the AIS ingestion or geodata_prep stages at a later date. For now we simply drop these as outliers. \n",
    "- Null status_duration values exist in ~3k of 1.3M status changes in the main_df; this is expected whenever an AIS transciever goes offline while in port waters. \n",
    "    - There are no observations of entirely-null duration values for mooring statuses, which limits the potential impacts of this issue on the stats.\n",
    "    - Null status_duration would cause undervalued time data (e.g., time_port_exit == the timestamp of the last status change + the status duration); however, dropping calls with null status_durations has no measurable impact on the statistics, so they are left in the data for now. "
   ]
  },
  {
   "cell_type": "code",
   "execution_count": 16,
   "metadata": {},
   "outputs": [],
   "source": [
    "#define outlier drop\n",
    "def drop_outliers(df, cols, threshold=3):\n",
    "    '''\n",
    "    Drops outliers from the dataframe for the specified columns.\n",
    "    Args:\n",
    "        df: Polars DataFrame\n",
    "        cols: List of columns to drop outliers from\n",
    "        threshold: Z-score threshold for outlier detection\n",
    "    Returns:\n",
    "        Polars DataFrame with outliers dropped\n",
    "    '''\n",
    "    print(f'Outlier threshold: {threshold} Std Devs')\n",
    "    for col in cols:\n",
    "        #compute z scores\n",
    "        df = df.with_columns(\n",
    "            z_score = (pl.col(col) - pl.col(col).mean()) / pl.col(col).std()\n",
    "        )\n",
    "        #drop outliers\n",
    "        df = df.filter(pl.col('z_score').abs() < threshold)\n",
    "    return df.drop('z_score')"
   ]
  },
  {
   "cell_type": "code",
   "execution_count": 17,
   "metadata": {},
   "outputs": [
    {
     "name": "stdout",
     "output_type": "stream",
     "text": [
      "hrs_at_berth outlier threshold: 54.3 days\n",
      "hrs_to_dock outlier threshold: 101.5 days\n",
      "hrs_at_anchor outlier threshold: 11.4 days\n",
      "hrs_in_port_after_dock outlier threshold: 149.7 days\n",
      "hrs_in_port_waters outlier threshold: 290.9 days\n",
      "Outlier threshold: 3 Std Devs\n",
      "Total outlier rows dropped: 2572 of 149060\n"
     ]
    },
    {
     "data": {
      "text/html": [
       "<div><style>\n",
       ".dataframe > thead > tr,\n",
       ".dataframe > tbody > tr {\n",
       "  text-align: right;\n",
       "  white-space: pre-wrap;\n",
       "}\n",
       "</style>\n",
       "<small>shape: (9, 21)</small><table border=\"1\" class=\"dataframe\"><thead><tr><th>statistic</th><th>call_id</th><th>port_name</th><th>port_lat</th><th>port_lon</th><th>dock_name</th><th>dock_id</th><th>facility_type</th><th>dock_lat</th><th>dock_lon</th><th>imo</th><th>vessel_size</th><th>time_port_entry</th><th>time_arrival</th><th>time_departure</th><th>time_port_exit</th><th>hrs_at_berth</th><th>hrs_at_anchor</th><th>hrs_to_dock</th><th>hrs_in_port_after_dock</th><th>hrs_in_port_waters</th></tr><tr><td>str</td><td>str</td><td>str</td><td>f64</td><td>f64</td><td>str</td><td>str</td><td>str</td><td>f64</td><td>f64</td><td>f64</td><td>f64</td><td>str</td><td>str</td><td>str</td><td>str</td><td>f64</td><td>f64</td><td>f64</td><td>f64</td><td>f64</td></tr></thead><tbody><tr><td>&quot;count&quot;</td><td>&quot;146488&quot;</td><td>&quot;146488&quot;</td><td>146488.0</td><td>146488.0</td><td>&quot;146488&quot;</td><td>&quot;146488&quot;</td><td>&quot;146133&quot;</td><td>146488.0</td><td>146488.0</td><td>146488.0</td><td>146488.0</td><td>&quot;146488&quot;</td><td>&quot;146488&quot;</td><td>&quot;146488&quot;</td><td>&quot;146488&quot;</td><td>146488.0</td><td>146488.0</td><td>146488.0</td><td>146488.0</td><td>146488.0</td></tr><tr><td>&quot;null_count&quot;</td><td>&quot;0&quot;</td><td>&quot;0&quot;</td><td>0.0</td><td>0.0</td><td>&quot;0&quot;</td><td>&quot;0&quot;</td><td>&quot;355&quot;</td><td>0.0</td><td>0.0</td><td>0.0</td><td>0.0</td><td>&quot;0&quot;</td><td>&quot;0&quot;</td><td>&quot;0&quot;</td><td>&quot;0&quot;</td><td>0.0</td><td>0.0</td><td>0.0</td><td>0.0</td><td>0.0</td></tr><tr><td>&quot;mean&quot;</td><td>null</td><td>null</td><td>32.32609</td><td>-94.609283</td><td>null</td><td>null</td><td>null</td><td>32.326194</td><td>-94.608303</td><td>1.0145e7</td><td>207.268527</td><td>&quot;2021-06-07 05:30:12.034630&quot;</td><td>&quot;2021-06-07 17:03:22.014062&quot;</td><td>&quot;2021-06-09 21:58:21.931659&quot;</td><td>&quot;2021-06-10 03:12:20.055758&quot;</td><td>47.831807</td><td>8.354447</td><td>11.544853</td><td>5.225082</td><td>69.694045</td></tr><tr><td>&quot;std&quot;</td><td>null</td><td>null</td><td>6.918495</td><td>20.728085</td><td>null</td><td>null</td><td>null</td><td>6.918757</td><td>20.728437</td><td>2.6607e7</td><td>58.810358</td><td>null</td><td>null</td><td>null</td><td>null</td><td>62.675238</td><td>28.97474</td><td>36.133365</td><td>41.271337</td><td>95.772879</td></tr><tr><td>&quot;min&quot;</td><td>&quot;0_Corpus Christi, TX_2020-04-0…</td><td>&quot;Albany Port District, NY&quot;</td><td>17.938939</td><td>-166.549916</td><td>&quot;ADM Corpus Christi Grain Eleva…</td><td>&quot;00XE&quot;</td><td>&quot;Anchorage&quot;</td><td>17.936081</td><td>-166.53444</td><td>0.0</td><td>101.0</td><td>&quot;2018-01-01 00:35:19&quot;</td><td>&quot;2018-01-01 00:35:19&quot;</td><td>&quot;2018-01-01 04:23:54&quot;</td><td>&quot;2018-01-01 09:15:57&quot;</td><td>0.083333</td><td>0.0</td><td>0.0</td><td>0.0</td><td>0.133333</td></tr><tr><td>&quot;25%&quot;</td><td>null</td><td>null</td><td>28.629389</td><td>-118.2095</td><td>null</td><td>null</td><td>null</td><td>28.645767</td><td>-118.21083</td><td>9.295397e6</td><td>176.0</td><td>&quot;2019-08-27 09:40:39&quot;</td><td>&quot;2019-08-27 17:30:51&quot;</td><td>&quot;2019-08-29 21:19:05&quot;</td><td>&quot;2019-08-30 01:38:50&quot;</td><td>16.55</td><td>0.0</td><td>2.666667</td><td>2.15</td><td>25.8</td></tr><tr><td>&quot;50%&quot;</td><td>null</td><td>null</td><td>30.69123</td><td>-90.085256</td><td>null</td><td>null</td><td>null</td><td>30.707675</td><td>-90.105844</td><td>9.401128e6</td><td>190.0</td><td>&quot;2021-07-19 00:59:38&quot;</td><td>&quot;2021-07-19 14:22:59&quot;</td><td>&quot;2021-07-22 01:57:56&quot;</td><td>&quot;2021-07-22 07:16:28&quot;</td><td>30.966667</td><td>0.0</td><td>3.516667</td><td>2.783333</td><td>43.766667</td></tr><tr><td>&quot;75%&quot;</td><td>null</td><td>null</td><td>36.86642</td><td>-80.117801</td><td>null</td><td>null</td><td>null</td><td>36.875896</td><td>-80.114322</td><td>9.612882e6</td><td>230.0</td><td>&quot;2023-02-27 09:23:38&quot;</td><td>&quot;2023-02-27 17:39:00&quot;</td><td>&quot;2023-03-02 01:31:11&quot;</td><td>&quot;2023-03-02 06:10:50&quot;</td><td>57.016667</td><td>0.0</td><td>5.366667</td><td>3.533333</td><td>80.7</td></tr><tr><td>&quot;max&quot;</td><td>&quot;9992268_Morehead City, NC_2024…</td><td>&quot;Wilmington, NC&quot;</td><td>61.23778</td><td>-66.096678</td><td>&quot;YUSEN TERMINALS BERTHS 212-221&quot;</td><td>&quot;1JHK&quot;</td><td>&quot;Open Water&quot;</td><td>61.24306</td><td>-66.086926</td><td>9.800025e8</td><td>667.0</td><td>&quot;2024-09-30 12:54:53&quot;</td><td>&quot;2024-09-30 16:32:15&quot;</td><td>&quot;2024-09-30 21:54:12&quot;</td><td>&quot;2024-09-30 22:57:53&quot;</td><td>1365.033333</td><td>246.2</td><td>2152.533333</td><td>3560.95</td><td>4453.8</td></tr></tbody></table></div>"
      ],
      "text/plain": [
       "shape: (9, 21)\n",
       "┌───────────┬───────────┬───────────┬───────────┬───┬───────────┬───────────┬───────────┬──────────┐\n",
       "│ statistic ┆ call_id   ┆ port_name ┆ port_lat  ┆ … ┆ hrs_at_an ┆ hrs_to_do ┆ hrs_in_po ┆ hrs_in_p │\n",
       "│ ---       ┆ ---       ┆ ---       ┆ ---       ┆   ┆ chor      ┆ ck        ┆ rt_after_ ┆ ort_wate │\n",
       "│ str       ┆ str       ┆ str       ┆ f64       ┆   ┆ ---       ┆ ---       ┆ dock      ┆ rs       │\n",
       "│           ┆           ┆           ┆           ┆   ┆ f64       ┆ f64       ┆ ---       ┆ ---      │\n",
       "│           ┆           ┆           ┆           ┆   ┆           ┆           ┆ f64       ┆ f64      │\n",
       "╞═══════════╪═══════════╪═══════════╪═══════════╪═══╪═══════════╪═══════════╪═══════════╪══════════╡\n",
       "│ count     ┆ 146488    ┆ 146488    ┆ 146488.0  ┆ … ┆ 146488.0  ┆ 146488.0  ┆ 146488.0  ┆ 146488.0 │\n",
       "│ null_coun ┆ 0         ┆ 0         ┆ 0.0       ┆ … ┆ 0.0       ┆ 0.0       ┆ 0.0       ┆ 0.0      │\n",
       "│ t         ┆           ┆           ┆           ┆   ┆           ┆           ┆           ┆          │\n",
       "│ mean      ┆ null      ┆ null      ┆ 32.32609  ┆ … ┆ 8.354447  ┆ 11.544853 ┆ 5.225082  ┆ 69.69404 │\n",
       "│           ┆           ┆           ┆           ┆   ┆           ┆           ┆           ┆ 5        │\n",
       "│ std       ┆ null      ┆ null      ┆ 6.918495  ┆ … ┆ 28.97474  ┆ 36.133365 ┆ 41.271337 ┆ 95.77287 │\n",
       "│           ┆           ┆           ┆           ┆   ┆           ┆           ┆           ┆ 9        │\n",
       "│ min       ┆ 0_Corpus  ┆ Albany    ┆ 17.938939 ┆ … ┆ 0.0       ┆ 0.0       ┆ 0.0       ┆ 0.133333 │\n",
       "│           ┆ Christi,  ┆ Port      ┆           ┆   ┆           ┆           ┆           ┆          │\n",
       "│           ┆ TX_2020-0 ┆ District, ┆           ┆   ┆           ┆           ┆           ┆          │\n",
       "│           ┆ 4-0…      ┆ NY        ┆           ┆   ┆           ┆           ┆           ┆          │\n",
       "│ 25%       ┆ null      ┆ null      ┆ 28.629389 ┆ … ┆ 0.0       ┆ 2.666667  ┆ 2.15      ┆ 25.8     │\n",
       "│ 50%       ┆ null      ┆ null      ┆ 30.69123  ┆ … ┆ 0.0       ┆ 3.516667  ┆ 2.783333  ┆ 43.76666 │\n",
       "│           ┆           ┆           ┆           ┆   ┆           ┆           ┆           ┆ 7        │\n",
       "│ 75%       ┆ null      ┆ null      ┆ 36.86642  ┆ … ┆ 0.0       ┆ 5.366667  ┆ 3.533333  ┆ 80.7     │\n",
       "│ max       ┆ 9992268_M ┆ Wilmingto ┆ 61.23778  ┆ … ┆ 246.2     ┆ 2152.5333 ┆ 3560.95   ┆ 4453.8   │\n",
       "│           ┆ orehead   ┆ n, NC     ┆           ┆   ┆           ┆ 33        ┆           ┆          │\n",
       "│           ┆ City,     ┆           ┆           ┆   ┆           ┆           ┆           ┆          │\n",
       "│           ┆ NC_2024…  ┆           ┆           ┆   ┆           ┆           ┆           ┆          │\n",
       "└───────────┴───────────┴───────────┴───────────┴───┴───────────┴───────────┴───────────┴──────────┘"
      ]
     },
     "metadata": {},
     "output_type": "display_data"
    },
    {
     "data": {
      "text/html": [
       "<div><style>\n",
       ".dataframe > thead > tr,\n",
       ".dataframe > tbody > tr {\n",
       "  text-align: right;\n",
       "  white-space: pre-wrap;\n",
       "}\n",
       "</style>\n",
       "<small>shape: (5, 20)</small><table border=\"1\" class=\"dataframe\"><thead><tr><th>call_id</th><th>port_name</th><th>port_lat</th><th>port_lon</th><th>dock_name</th><th>dock_id</th><th>facility_type</th><th>dock_lat</th><th>dock_lon</th><th>imo</th><th>vessel_size</th><th>time_port_entry</th><th>time_arrival</th><th>time_departure</th><th>time_port_exit</th><th>hrs_at_berth</th><th>hrs_at_anchor</th><th>hrs_to_dock</th><th>hrs_in_port_after_dock</th><th>hrs_in_port_waters</th></tr><tr><td>str</td><td>str</td><td>f64</td><td>f64</td><td>str</td><td>str</td><td>str</td><td>f64</td><td>f64</td><td>i64</td><td>f64</td><td>datetime[μs]</td><td>datetime[μs]</td><td>datetime[μs]</td><td>datetime[μs]</td><td>f64</td><td>f64</td><td>f64</td><td>f64</td><td>f64</td></tr></thead><tbody><tr><td>&quot;9332925_Galveston, TX_2024-02-…</td><td>&quot;Galveston, TX&quot;</td><td>29.31049</td><td>-94.8127</td><td>&quot;PORT OF GALVESTON, PIERS 37-38&quot;</td><td>&quot;0VXL&quot;</td><td>&quot;Dock&quot;</td><td>29.308333</td><td>-94.811389</td><td>9332925</td><td>228.0</td><td>2024-02-10 07:50:18</td><td>2024-02-10 11:39:51</td><td>2024-02-11 00:06:26</td><td>2024-02-11 03:52:27</td><td>12.433333</td><td>0.0</td><td>3.816667</td><td>3.766667</td><td>20.033333</td></tr><tr><td>&quot;9021332_Port of Long Beach, CA…</td><td>&quot;Port of Long Beach, CA&quot;</td><td>33.73957</td><td>-118.2095</td><td>&quot;TOYOTA VEHICLE PROCESSORS BERT…</td><td>&quot;0VEQ&quot;</td><td>&quot;Dock&quot;</td><td>33.773889</td><td>-118.21888</td><td>9021332</td><td>180.0</td><td>2019-01-29 08:36:22</td><td>2019-01-29 17:59:08</td><td>2019-01-29 18:17:08</td><td>2019-01-30 04:38:18</td><td>0.3</td><td>0.0</td><td>9.366667</td><td>10.35</td><td>20.016667</td></tr><tr><td>&quot;9407251_Port Arthur, TX_2023-1…</td><td>&quot;Port Arthur, TX&quot;</td><td>29.83142</td><td>-93.96069</td><td>&quot;VALERO REFINING GROUP, PORT AR…</td><td>&quot;0QVD&quot;</td><td>&quot;Dock&quot;</td><td>29.846377</td><td>-93.968517</td><td>9407251</td><td>229.0</td><td>2023-11-01 22:21:55</td><td>2023-11-02 00:32:44</td><td>2023-11-04 20:33:22</td><td>2023-11-04 22:40:53</td><td>68.0</td><td>0.0</td><td>2.166667</td><td>2.116667</td><td>72.3</td></tr><tr><td>&quot;9357298_Port of Brunswick, GA_…</td><td>&quot;Port of Brunswick, GA&quot;</td><td>31.132426</td><td>-81.53666</td><td>&quot;GEORGIA PORTS AUTHORITY, COLON…</td><td>&quot;0SB2&quot;</td><td>&quot;Dock&quot;</td><td>31.132222</td><td>-81.537222</td><td>9357298</td><td>199.0</td><td>2019-05-08 06:15:27</td><td>2019-05-08 09:36:16</td><td>2019-05-08 22:18:16</td><td>2019-05-09 01:01:23</td><td>12.7</td><td>0.0</td><td>3.333333</td><td>2.716667</td><td>18.75</td></tr><tr><td>&quot;9705732_Galveston, TX_2021-09-…</td><td>&quot;Galveston, TX&quot;</td><td>29.31049</td><td>-94.8127</td><td>&quot;AGRILIANCE, GALVESTON PIERS 35…</td><td>&quot;0VY2&quot;</td><td>&quot;Dock&quot;</td><td>29.308333</td><td>-94.809167</td><td>9705732</td><td>145.0</td><td>2021-09-12 00:52:24</td><td>2021-09-12 06:00:00</td><td>2021-09-13 07:42:00</td><td>2021-09-14 03:47:48</td><td>21.4</td><td>8.666667</td><td>5.116667</td><td>20.083333</td><td>50.916667</td></tr></tbody></table></div>"
      ],
      "text/plain": [
       "shape: (5, 20)\n",
       "┌───────────┬───────────┬───────────┬───────────┬───┬───────────┬───────────┬───────────┬──────────┐\n",
       "│ call_id   ┆ port_name ┆ port_lat  ┆ port_lon  ┆ … ┆ hrs_at_an ┆ hrs_to_do ┆ hrs_in_po ┆ hrs_in_p │\n",
       "│ ---       ┆ ---       ┆ ---       ┆ ---       ┆   ┆ chor      ┆ ck        ┆ rt_after_ ┆ ort_wate │\n",
       "│ str       ┆ str       ┆ f64       ┆ f64       ┆   ┆ ---       ┆ ---       ┆ dock      ┆ rs       │\n",
       "│           ┆           ┆           ┆           ┆   ┆ f64       ┆ f64       ┆ ---       ┆ ---      │\n",
       "│           ┆           ┆           ┆           ┆   ┆           ┆           ┆ f64       ┆ f64      │\n",
       "╞═══════════╪═══════════╪═══════════╪═══════════╪═══╪═══════════╪═══════════╪═══════════╪══════════╡\n",
       "│ 9332925_G ┆ Galveston ┆ 29.31049  ┆ -94.8127  ┆ … ┆ 0.0       ┆ 3.816667  ┆ 3.766667  ┆ 20.03333 │\n",
       "│ alveston, ┆ , TX      ┆           ┆           ┆   ┆           ┆           ┆           ┆ 3        │\n",
       "│ TX_2024-0 ┆           ┆           ┆           ┆   ┆           ┆           ┆           ┆          │\n",
       "│ 2-…       ┆           ┆           ┆           ┆   ┆           ┆           ┆           ┆          │\n",
       "│ 9021332_P ┆ Port of   ┆ 33.73957  ┆ -118.2095 ┆ … ┆ 0.0       ┆ 9.366667  ┆ 10.35     ┆ 20.01666 │\n",
       "│ ort of    ┆ Long      ┆           ┆           ┆   ┆           ┆           ┆           ┆ 7        │\n",
       "│ Long      ┆ Beach, CA ┆           ┆           ┆   ┆           ┆           ┆           ┆          │\n",
       "│ Beach,    ┆           ┆           ┆           ┆   ┆           ┆           ┆           ┆          │\n",
       "│ CA…       ┆           ┆           ┆           ┆   ┆           ┆           ┆           ┆          │\n",
       "│ 9407251_P ┆ Port      ┆ 29.83142  ┆ -93.96069 ┆ … ┆ 0.0       ┆ 2.166667  ┆ 2.116667  ┆ 72.3     │\n",
       "│ ort       ┆ Arthur,   ┆           ┆           ┆   ┆           ┆           ┆           ┆          │\n",
       "│ Arthur,   ┆ TX        ┆           ┆           ┆   ┆           ┆           ┆           ┆          │\n",
       "│ TX_2023-1 ┆           ┆           ┆           ┆   ┆           ┆           ┆           ┆          │\n",
       "│ …         ┆           ┆           ┆           ┆   ┆           ┆           ┆           ┆          │\n",
       "│ 9357298_P ┆ Port of   ┆ 31.132426 ┆ -81.53666 ┆ … ┆ 0.0       ┆ 3.333333  ┆ 2.716667  ┆ 18.75    │\n",
       "│ ort of    ┆ Brunswick ┆           ┆           ┆   ┆           ┆           ┆           ┆          │\n",
       "│ Brunswick ┆ , GA      ┆           ┆           ┆   ┆           ┆           ┆           ┆          │\n",
       "│ , GA_…    ┆           ┆           ┆           ┆   ┆           ┆           ┆           ┆          │\n",
       "│ 9705732_G ┆ Galveston ┆ 29.31049  ┆ -94.8127  ┆ … ┆ 8.666667  ┆ 5.116667  ┆ 20.083333 ┆ 50.91666 │\n",
       "│ alveston, ┆ , TX      ┆           ┆           ┆   ┆           ┆           ┆           ┆ 7        │\n",
       "│ TX_2021-0 ┆           ┆           ┆           ┆   ┆           ┆           ┆           ┆          │\n",
       "│ 9-…       ┆           ┆           ┆           ┆   ┆           ┆           ┆           ┆          │\n",
       "└───────────┴───────────┴───────────┴───────────┴───┴───────────┴───────────┴───────────┴──────────┘"
      ]
     },
     "execution_count": 17,
     "metadata": {},
     "output_type": "execute_result"
    }
   ],
   "source": [
    "#get count of rows from calls_df before drop\n",
    "rows_prior = calls_df.shape[0]\n",
    "\n",
    "#list cols for outlier drop\n",
    "outlier_cols = ['hrs_at_berth', 'hrs_to_dock', 'hrs_at_anchor', \n",
    "                'hrs_in_port_after_dock', 'hrs_in_port_waters']\n",
    "\n",
    "#drop outliers\n",
    "#print z_score thresholds\n",
    "for col in outlier_cols:\n",
    "    print(f'{col} outlier threshold: {calls_df[col].std()*3/24:.1f} days')\n",
    "#drop outliers\n",
    "calls_df = drop_outliers(calls_df, outlier_cols, threshold=3)\n",
    "#print rows dropped\n",
    "print(f'Total outlier rows dropped: {rows_prior - calls_df.shape[0]} of {rows_prior}')\n",
    "\n",
    "#inspect\n",
    "display(calls_df.describe())\n",
    "calls_df.head()"
   ]
  },
  {
   "cell_type": "code",
   "execution_count": 18,
   "metadata": {},
   "outputs": [],
   "source": [
    "#save calls dataframe to parquet\n",
    "calls_df.write_parquet('dashboard/calls.parquet')"
   ]
  },
  {
   "cell_type": "markdown",
   "metadata": {},
   "source": [
    "## Simple delay calculations\n",
    "\n",
    "Differentiating between delay time and the \"efficient\" time it takes for a ship to get to a dock is somewhat difficult. \n",
    "\n",
    "At its most basic, we can calculate the difference between the hrs_to_dock time for each port call and the minimum hrs_to_dock for that vessel and dock. "
   ]
  },
  {
   "cell_type": "code",
   "execution_count": 19,
   "metadata": {},
   "outputs": [],
   "source": [
    "## these stats tabled for now\n",
    "\n",
    "#add min hrs to dock for each vessel-dock pair\n",
    "delay_df = (\n",
    "    calls_df\n",
    "    #min hrs to dock for each vessel-dock pair\n",
    "    .with_columns(\n",
    "        min_hrs_to_dock = pl.col('hrs_to_dock').min().over('imo', 'dock_id')\n",
    "    )\n",
    "    #\"delay\" in hrs\n",
    "    .with_columns(\n",
    "        hrs_delay = pl.col('hrs_to_dock') - pl.col('min_hrs_to_dock')\n",
    "    )\n",
    "    #drop unnecessary columns\n",
    "    .drop('min_hrs_to_dock')\n",
    ")"
   ]
  },
  {
   "cell_type": "markdown",
   "metadata": {},
   "source": [
    "64k of 145k port calls align show zero delay indicating those calls represent the only time that that vessel visited that dock. "
   ]
  },
  {
   "cell_type": "markdown",
   "metadata": {},
   "source": [
    "### Time Awaiting Berth\n",
    "\n",
    "We define time awaiting berth as the total time it takes a vessel to get to the dock minus the amount of time the dock was occupied while that vessel was en route. \n",
    "\n",
    "Generating this statistic is tabled for now. "
   ]
  },
  {
   "cell_type": "code",
   "execution_count": 20,
   "metadata": {},
   "outputs": [
    {
     "name": "stdout",
     "output_type": "stream",
     "text": [
      "skipping\n"
     ]
    }
   ],
   "source": [
    "%%script echo skipping\n",
    "#calculate time awaiting berth\n",
    "\n",
    "#for each call_id and dock, get the total time dock was occupied between time_port_entry and time_arrival\n",
    "\n",
    "#get time_port_entry, time_arrival for each call id\n",
    "lf = (calls_df.select('call_id', 'time_port_entry', 'time_arrival')\n",
    "      .unique().lazy())\n",
    "#join to main lf\n",
    "main_lf = main_lf.join(lf, on='call_id', how='left')\n",
    "\n",
    "for call in calls_df.select('call_id').unique().to_series():\n",
    "      #get start time and end time\n",
    "      start = (calls_df.filter(pl.col('call_id')==call)\n",
    "               .select('time_port_entry').item())\n",
    "      end = (calls_df.filter(pl.col('call_id')==call)\n",
    "               .select('time_arrival').item())\n",
    "      #get dock occupancy\n",
    "      df = (\n",
    "            main_lf\n",
    "            .with_columns(\n",
    "                  dock_occupied = (\n",
    "                        (pl.col('status')==5)\n",
    "                        .then(pl.col('status_duration'))\n",
    "                        .otherwise(pl.lit(None))\n",
    "                  )\n",
    "            )\n",
    "      )\n"
   ]
  },
  {
   "cell_type": "code",
   "execution_count": 21,
   "metadata": {},
   "outputs": [],
   "source": [
    "#create monthly stats dataframe\n",
    "monthly_df = (\n",
    "    calls_df\n",
    "    #get month from docking time\n",
    "    .with_columns(\n",
    "        #extract month from docking time\n",
    "        month = pl.col('time_arrival').dt.strftime('%Y%m')\n",
    "    )\n",
    "    #group by port dock and month\n",
    "    .group_by(['port_name', 'port_lat', 'port_lon', \n",
    "               'dock_id', 'dock_name', 'dock_lat', 'dock_lon', \n",
    "               'month'])\n",
    "    .agg(\n",
    "        #count number of vessels\n",
    "        vessels = pl.n_unique('imo'),\n",
    "        #mean vessel size\n",
    "        vessel_size_mean = pl.mean('vessel_size'),\n",
    "        #count number of vessel calls\n",
    "        calls = pl.n_unique('call_id'),\n",
    "        #time at dock stats for each vessel in hours\n",
    "        hrs_occupied = pl.sum('hrs_at_berth'),\n",
    "        hrs_at_berth_median = pl.median('hrs_at_berth'),\n",
    "        hrs_at_berth_mean = pl.mean('hrs_at_berth'),\n",
    "        #time at anchor stats for each vessel visit in hours\n",
    "        hrs_at_anchor_median = pl.median('hrs_at_anchor'),\n",
    "        hrs_at_anchor_mean = pl.mean('hrs_at_anchor'),\n",
    "        #time in port waters \n",
    "        hrs_in_port_waters_total = pl.sum('hrs_in_port_waters'),\n",
    "        hrs_in_port_waters_mean = pl.mean('hrs_in_port_waters'),\n",
    "        hrs_in_port_waters_median = pl.median('hrs_in_port_waters')\n",
    "    )\n",
    "    #get hours from each month\n",
    "    .with_columns(\n",
    "        hrs_in_month = (\n",
    "            pl.when(pl.col('month').str.tail(2).is_in(['01', '03', '05', '07',\n",
    "                                                       '08', '10', '12']))\n",
    "            .then(31*24)\n",
    "            .when(pl.col('month').str.tail(2).is_in(['04', '06', '09', '11']))\n",
    "            .then(30*24)\n",
    "            .otherwise(28*24)\n",
    "        )\n",
    "    )\n",
    "    .with_columns(\n",
    "        #dock utilization - percentage of time a dock is occupied\n",
    "        utilization = (\n",
    "            pl.col('hrs_occupied')/pl.col('hrs_in_month')\n",
    "        )\n",
    "    )\n",
    "    #drop hours in month\n",
    "    .drop('hrs_in_month')\n",
    "    #sort by port dock then month\n",
    "    .sort(['port_name', 'dock_id', 'month'])\n",
    ")"
   ]
  },
  {
   "cell_type": "code",
   "execution_count": 22,
   "metadata": {},
   "outputs": [
    {
     "data": {
      "text/html": [
       "<div><style>\n",
       ".dataframe > thead > tr,\n",
       ".dataframe > tbody > tr {\n",
       "  text-align: right;\n",
       "  white-space: pre-wrap;\n",
       "}\n",
       "</style>\n",
       "<small>shape: (9, 21)</small><table border=\"1\" class=\"dataframe\"><thead><tr><th>statistic</th><th>port_name</th><th>port_lat</th><th>port_lon</th><th>dock_id</th><th>dock_name</th><th>dock_lat</th><th>dock_lon</th><th>month</th><th>vessels</th><th>vessel_size_mean</th><th>calls</th><th>hrs_occupied</th><th>hrs_at_berth_median</th><th>hrs_at_berth_mean</th><th>hrs_at_anchor_median</th><th>hrs_at_anchor_mean</th><th>hrs_in_port_waters_total</th><th>hrs_in_port_waters_mean</th><th>hrs_in_port_waters_median</th><th>utilization</th></tr><tr><td>str</td><td>str</td><td>f64</td><td>f64</td><td>str</td><td>str</td><td>f64</td><td>f64</td><td>str</td><td>f64</td><td>f64</td><td>f64</td><td>f64</td><td>f64</td><td>f64</td><td>f64</td><td>f64</td><td>f64</td><td>f64</td><td>f64</td><td>f64</td></tr></thead><tbody><tr><td>&quot;count&quot;</td><td>&quot;34459&quot;</td><td>34459.0</td><td>34459.0</td><td>&quot;34459&quot;</td><td>&quot;34459&quot;</td><td>34459.0</td><td>34459.0</td><td>&quot;34459&quot;</td><td>34459.0</td><td>34459.0</td><td>34459.0</td><td>34459.0</td><td>34459.0</td><td>34459.0</td><td>34459.0</td><td>34459.0</td><td>34459.0</td><td>34459.0</td><td>34459.0</td><td>34459.0</td></tr><tr><td>&quot;null_count&quot;</td><td>&quot;0&quot;</td><td>0.0</td><td>0.0</td><td>&quot;0&quot;</td><td>&quot;0&quot;</td><td>0.0</td><td>0.0</td><td>&quot;0&quot;</td><td>0.0</td><td>0.0</td><td>0.0</td><td>0.0</td><td>0.0</td><td>0.0</td><td>0.0</td><td>0.0</td><td>0.0</td><td>0.0</td><td>0.0</td><td>0.0</td></tr><tr><td>&quot;mean&quot;</td><td>null</td><td>32.729156</td><td>-95.518577</td><td>null</td><td>null</td><td>32.730879</td><td>-95.516727</td><td>null</td><td>3.732058</td><td>195.76391</td><td>4.251081</td><td>203.336887</td><td>59.584558</td><td>62.746007</td><td>7.248826</td><td>9.392862</td><td>296.275032</td><td>88.042209</td><td>82.783433</td><td>0.278678</td></tr><tr><td>&quot;std&quot;</td><td>null</td><td>6.893308</td><td>20.907512</td><td>null</td><td>null</td><td>6.892972</td><td>20.908134</td><td>null</td><td>3.711798</td><td>49.182437</td><td>4.39989</td><td>196.054813</td><td>69.330032</td><td>69.756424</td><td>23.665062</td><td>24.486733</td><td>310.444455</td><td>100.255194</td><td>98.645074</td><td>0.268427</td></tr><tr><td>&quot;min&quot;</td><td>&quot;Albany Port District, NY&quot;</td><td>17.938939</td><td>-166.549916</td><td>&quot;00XE&quot;</td><td>&quot;ADM Corpus Christi Grain Eleva…</td><td>17.936081</td><td>-166.53444</td><td>&quot;201801&quot;</td><td>1.0</td><td>101.0</td><td>1.0</td><td>0.083333</td><td>0.083333</td><td>0.083333</td><td>0.0</td><td>0.0</td><td>0.65</td><td>0.65</td><td>0.65</td><td>0.000112</td></tr><tr><td>&quot;25%&quot;</td><td>null</td><td>29.31049</td><td>-118.2095</td><td>null</td><td>null</td><td>29.309167</td><td>-118.21083</td><td>null</td><td>1.0</td><td>168.0</td><td>1.0</td><td>67.833333</td><td>22.883333</td><td>25.533333</td><td>0.0</td><td>0.0</td><td>97.533333</td><td>37.676667</td><td>34.15</td><td>0.092966</td></tr><tr><td>&quot;50%&quot;</td><td>null</td><td>30.69123</td><td>-91.19934</td><td>null</td><td>null</td><td>30.710833</td><td>-91.199983</td><td>null</td><td>3.0</td><td>184.75</td><td>3.0</td><td>148.183333</td><td>40.733333</td><td>44.022222</td><td>0.0</td><td>0.0</td><td>205.85</td><td>63.472222</td><td>57.916667</td><td>0.202867</td></tr><tr><td>&quot;75%&quot;</td><td>null</td><td>37.82152</td><td>-80.117801</td><td>null</td><td>null</td><td>37.811944</td><td>-80.114722</td><td>null</td><td>5.0</td><td>211.5</td><td>5.0</td><td>278.266667</td><td>72.516667</td><td>76.516667</td><td>0.0</td><td>4.583333</td><td>387.633333</td><td>107.133333</td><td>100.716667</td><td>0.381138</td></tr><tr><td>&quot;max&quot;</td><td>&quot;Wilmington, NC&quot;</td><td>61.23778</td><td>-66.096678</td><td>&quot;1JHK&quot;</td><td>&quot;YUSEN TERMINALS BERTHS 212-221&quot;</td><td>61.24306</td><td>-66.086926</td><td>&quot;202409&quot;</td><td>43.0</td><td>385.0</td><td>53.0</td><td>3851.016667</td><td>1312.966667</td><td>1312.966667</td><td>244.916667</td><td>244.916667</td><td>6076.233333</td><td>3290.8</td><td>3290.8</td><td>5.176098</td></tr></tbody></table></div>"
      ],
      "text/plain": [
       "shape: (9, 21)\n",
       "┌───────────┬───────────┬───────────┬───────────┬───┬───────────┬───────────┬───────────┬──────────┐\n",
       "│ statistic ┆ port_name ┆ port_lat  ┆ port_lon  ┆ … ┆ hrs_in_po ┆ hrs_in_po ┆ hrs_in_po ┆ utilizat │\n",
       "│ ---       ┆ ---       ┆ ---       ┆ ---       ┆   ┆ rt_waters ┆ rt_waters ┆ rt_waters ┆ ion      │\n",
       "│ str       ┆ str       ┆ f64       ┆ f64       ┆   ┆ _total    ┆ _mean     ┆ _median   ┆ ---      │\n",
       "│           ┆           ┆           ┆           ┆   ┆ ---       ┆ ---       ┆ ---       ┆ f64      │\n",
       "│           ┆           ┆           ┆           ┆   ┆ f64       ┆ f64       ┆ f64       ┆          │\n",
       "╞═══════════╪═══════════╪═══════════╪═══════════╪═══╪═══════════╪═══════════╪═══════════╪══════════╡\n",
       "│ count     ┆ 34459     ┆ 34459.0   ┆ 34459.0   ┆ … ┆ 34459.0   ┆ 34459.0   ┆ 34459.0   ┆ 34459.0  │\n",
       "│ null_coun ┆ 0         ┆ 0.0       ┆ 0.0       ┆ … ┆ 0.0       ┆ 0.0       ┆ 0.0       ┆ 0.0      │\n",
       "│ t         ┆           ┆           ┆           ┆   ┆           ┆           ┆           ┆          │\n",
       "│ mean      ┆ null      ┆ 32.729156 ┆ -95.51857 ┆ … ┆ 296.27503 ┆ 88.042209 ┆ 82.783433 ┆ 0.278678 │\n",
       "│           ┆           ┆           ┆ 7         ┆   ┆ 2         ┆           ┆           ┆          │\n",
       "│ std       ┆ null      ┆ 6.893308  ┆ 20.907512 ┆ … ┆ 310.44445 ┆ 100.25519 ┆ 98.645074 ┆ 0.268427 │\n",
       "│           ┆           ┆           ┆           ┆   ┆ 5         ┆ 4         ┆           ┆          │\n",
       "│ min       ┆ Albany    ┆ 17.938939 ┆ -166.5499 ┆ … ┆ 0.65      ┆ 0.65      ┆ 0.65      ┆ 0.000112 │\n",
       "│           ┆ Port      ┆           ┆ 16        ┆   ┆           ┆           ┆           ┆          │\n",
       "│           ┆ District, ┆           ┆           ┆   ┆           ┆           ┆           ┆          │\n",
       "│           ┆ NY        ┆           ┆           ┆   ┆           ┆           ┆           ┆          │\n",
       "│ 25%       ┆ null      ┆ 29.31049  ┆ -118.2095 ┆ … ┆ 97.533333 ┆ 37.676667 ┆ 34.15     ┆ 0.092966 │\n",
       "│ 50%       ┆ null      ┆ 30.69123  ┆ -91.19934 ┆ … ┆ 205.85    ┆ 63.472222 ┆ 57.916667 ┆ 0.202867 │\n",
       "│ 75%       ┆ null      ┆ 37.82152  ┆ -80.11780 ┆ … ┆ 387.63333 ┆ 107.13333 ┆ 100.71666 ┆ 0.381138 │\n",
       "│           ┆           ┆           ┆ 1         ┆   ┆ 3         ┆ 3         ┆ 7         ┆          │\n",
       "│ max       ┆ Wilmingto ┆ 61.23778  ┆ -66.09667 ┆ … ┆ 6076.2333 ┆ 3290.8    ┆ 3290.8    ┆ 5.176098 │\n",
       "│           ┆ n, NC     ┆           ┆ 8         ┆   ┆ 33        ┆           ┆           ┆          │\n",
       "└───────────┴───────────┴───────────┴───────────┴───┴───────────┴───────────┴───────────┴──────────┘"
      ]
     },
     "execution_count": 22,
     "metadata": {},
     "output_type": "execute_result"
    }
   ],
   "source": [
    "monthly_df.describe()"
   ]
  },
  {
   "cell_type": "markdown",
   "metadata": {},
   "source": [
    "#### Hours calc discussion\n",
    "\n",
    "The current code first associates the call_id with the month in which the vessel arrived at dock, then counts total times for that call_id to that month. This results in some edge cases where hours stats far exceed the total hours in the month, as in the case that a vessel arrives at the dock and stays there for a very long period of time. \n",
    "\n",
    "This can be partially resolved by dropping statuses that are very long, which needs to be done anyway.\n",
    "- what's the right strategy? set status duration to (the median for that dock? zero? 12hr?) and give an unknown status afterwards? \n",
    "\n",
    "It would be fully resolved by totaling monthly hrs (at dock or hrs utilized, for example) independently of call_id.  "
   ]
  },
  {
   "cell_type": "code",
   "execution_count": 23,
   "metadata": {},
   "outputs": [
    {
     "data": {
      "text/html": [
       "<div><style>\n",
       ".dataframe > thead > tr,\n",
       ".dataframe > tbody > tr {\n",
       "  text-align: right;\n",
       "  white-space: pre-wrap;\n",
       "}\n",
       "</style>\n",
       "<small>shape: (9, 11)</small><table border=\"1\" class=\"dataframe\"><thead><tr><th>statistic</th><th>port_name</th><th>port_lat</th><th>port_lon</th><th>vessels</th><th>vessel_size_mean</th><th>calls</th><th>hrs_at_berth_median</th><th>hrs_at_berth_mean</th><th>hrs_at_anchor_median</th><th>hrs_at_anchor_mean</th></tr><tr><td>str</td><td>str</td><td>f64</td><td>f64</td><td>f64</td><td>f64</td><td>f64</td><td>f64</td><td>f64</td><td>f64</td><td>f64</td></tr></thead><tbody><tr><td>&quot;count&quot;</td><td>&quot;70&quot;</td><td>70.0</td><td>70.0</td><td>70.0</td><td>70.0</td><td>70.0</td><td>70.0</td><td>70.0</td><td>70.0</td><td>70.0</td></tr><tr><td>&quot;null_count&quot;</td><td>&quot;0&quot;</td><td>0.0</td><td>0.0</td><td>0.0</td><td>0.0</td><td>0.0</td><td>0.0</td><td>0.0</td><td>0.0</td><td>0.0</td></tr><tr><td>&quot;mean&quot;</td><td>null</td><td>34.780064</td><td>-98.610501</td><td>691.3</td><td>196.481713</td><td>2092.685714</td><td>52.168214</td><td>66.418701</td><td>0.772024</td><td>8.113449</td></tr><tr><td>&quot;std&quot;</td><td>null</td><td>9.238289</td><td>26.613336</td><td>701.067599</td><td>36.613303</td><td>2230.887427</td><td>102.710006</td><td>94.074057</td><td>2.76927</td><td>9.49449</td></tr><tr><td>&quot;min&quot;</td><td>&quot;Albany Port District, NY&quot;</td><td>17.938939</td><td>-166.549916</td><td>3.0</td><td>117.586207</td><td>3.0</td><td>8.233333</td><td>10.619192</td><td>0.0</td><td>0.0</td></tr><tr><td>&quot;25%&quot;</td><td>null</td><td>29.31049</td><td>-121.541541</td><td>129.0</td><td>172.489815</td><td>409.0</td><td>22.658333</td><td>34.661621</td><td>0.0</td><td>1.126932</td></tr><tr><td>&quot;50%&quot;</td><td>null</td><td>32.788781</td><td>-90.61794</td><td>538.0</td><td>189.879402</td><td>1227.0</td><td>34.116667</td><td>49.61037</td><td>0.0</td><td>4.31346</td></tr><tr><td>&quot;75%&quot;</td><td>null</td><td>41.172</td><td>-76.72421</td><td>965.0</td><td>214.153277</td><td>3300.0</td><td>50.05</td><td>61.810556</td><td>0.0</td><td>13.490027</td></tr><tr><td>&quot;max&quot;</td><td>&quot;Wilmington, NC&quot;</td><td>61.23778</td><td>-66.096678</td><td>2684.0</td><td>295.202899</td><td>9798.0</td><td>853.55</td><td>729.5625</td><td>16.7</td><td>43.169949</td></tr></tbody></table></div>"
      ],
      "text/plain": [
       "shape: (9, 11)\n",
       "┌───────────┬───────────┬───────────┬───────────┬───┬───────────┬───────────┬───────────┬──────────┐\n",
       "│ statistic ┆ port_name ┆ port_lat  ┆ port_lon  ┆ … ┆ hrs_at_be ┆ hrs_at_be ┆ hrs_at_an ┆ hrs_at_a │\n",
       "│ ---       ┆ ---       ┆ ---       ┆ ---       ┆   ┆ rth_media ┆ rth_mean  ┆ chor_medi ┆ nchor_me │\n",
       "│ str       ┆ str       ┆ f64       ┆ f64       ┆   ┆ n         ┆ ---       ┆ an        ┆ an       │\n",
       "│           ┆           ┆           ┆           ┆   ┆ ---       ┆ f64       ┆ ---       ┆ ---      │\n",
       "│           ┆           ┆           ┆           ┆   ┆ f64       ┆           ┆ f64       ┆ f64      │\n",
       "╞═══════════╪═══════════╪═══════════╪═══════════╪═══╪═══════════╪═══════════╪═══════════╪══════════╡\n",
       "│ count     ┆ 70        ┆ 70.0      ┆ 70.0      ┆ … ┆ 70.0      ┆ 70.0      ┆ 70.0      ┆ 70.0     │\n",
       "│ null_coun ┆ 0         ┆ 0.0       ┆ 0.0       ┆ … ┆ 0.0       ┆ 0.0       ┆ 0.0       ┆ 0.0      │\n",
       "│ t         ┆           ┆           ┆           ┆   ┆           ┆           ┆           ┆          │\n",
       "│ mean      ┆ null      ┆ 34.780064 ┆ -98.61050 ┆ … ┆ 52.168214 ┆ 66.418701 ┆ 0.772024  ┆ 8.113449 │\n",
       "│           ┆           ┆           ┆ 1         ┆   ┆           ┆           ┆           ┆          │\n",
       "│ std       ┆ null      ┆ 9.238289  ┆ 26.613336 ┆ … ┆ 102.71000 ┆ 94.074057 ┆ 2.76927   ┆ 9.49449  │\n",
       "│           ┆           ┆           ┆           ┆   ┆ 6         ┆           ┆           ┆          │\n",
       "│ min       ┆ Albany    ┆ 17.938939 ┆ -166.5499 ┆ … ┆ 8.233333  ┆ 10.619192 ┆ 0.0       ┆ 0.0      │\n",
       "│           ┆ Port      ┆           ┆ 16        ┆   ┆           ┆           ┆           ┆          │\n",
       "│           ┆ District, ┆           ┆           ┆   ┆           ┆           ┆           ┆          │\n",
       "│           ┆ NY        ┆           ┆           ┆   ┆           ┆           ┆           ┆          │\n",
       "│ 25%       ┆ null      ┆ 29.31049  ┆ -121.5415 ┆ … ┆ 22.658333 ┆ 34.661621 ┆ 0.0       ┆ 1.126932 │\n",
       "│           ┆           ┆           ┆ 41        ┆   ┆           ┆           ┆           ┆          │\n",
       "│ 50%       ┆ null      ┆ 32.788781 ┆ -90.61794 ┆ … ┆ 34.116667 ┆ 49.61037  ┆ 0.0       ┆ 4.31346  │\n",
       "│ 75%       ┆ null      ┆ 41.172    ┆ -76.72421 ┆ … ┆ 50.05     ┆ 61.810556 ┆ 0.0       ┆ 13.49002 │\n",
       "│           ┆           ┆           ┆           ┆   ┆           ┆           ┆           ┆ 7        │\n",
       "│ max       ┆ Wilmingto ┆ 61.23778  ┆ -66.09667 ┆ … ┆ 853.55    ┆ 729.5625  ┆ 16.7      ┆ 43.16994 │\n",
       "│           ┆ n, NC     ┆           ┆ 8         ┆   ┆           ┆           ┆           ┆ 9        │\n",
       "└───────────┴───────────┴───────────┴───────────┴───┴───────────┴───────────┴───────────┴──────────┘"
      ]
     },
     "metadata": {},
     "output_type": "display_data"
    },
    {
     "data": {
      "text/html": [
       "<div><style>\n",
       ".dataframe > thead > tr,\n",
       ".dataframe > tbody > tr {\n",
       "  text-align: right;\n",
       "  white-space: pre-wrap;\n",
       "}\n",
       "</style>\n",
       "<small>shape: (5, 10)</small><table border=\"1\" class=\"dataframe\"><thead><tr><th>port_name</th><th>port_lat</th><th>port_lon</th><th>vessels</th><th>vessel_size_mean</th><th>calls</th><th>hrs_at_berth_median</th><th>hrs_at_berth_mean</th><th>hrs_at_anchor_median</th><th>hrs_at_anchor_mean</th></tr><tr><td>str</td><td>f64</td><td>f64</td><td>u32</td><td>f64</td><td>u32</td><td>f64</td><td>f64</td><td>f64</td><td>f64</td></tr></thead><tbody><tr><td>&quot;Albany Port District, NY&quot;</td><td>42.64271</td><td>-73.74816</td><td>264</td><td>157.841398</td><td>372</td><td>65.841667</td><td>79.631452</td><td>0.0</td><td>0.248118</td></tr><tr><td>&quot;Anacortes, WA&quot;</td><td>48.495943</td><td>-122.59961</td><td>272</td><td>219.191163</td><td>1109</td><td>36.966667</td><td>49.61037</td><td>0.0</td><td>25.777773</td></tr><tr><td>&quot;Baltimore, MD&quot;</td><td>39.250827</td><td>-76.56164</td><td>2494</td><td>213.61283</td><td>7467</td><td>34.216667</td><td>47.927601</td><td>0.0</td><td>12.543871</td></tr><tr><td>&quot;Beaumont, TX&quot;</td><td>30.084872</td><td>-94.094985</td><td>982</td><td>183.208705</td><td>1907</td><td>54.016667</td><td>66.59043</td><td>0.0</td><td>3.696067</td></tr><tr><td>&quot;Boston, MA&quot;</td><td>42.342468</td><td>-71.032029</td><td>315</td><td>295.202899</td><td>966</td><td>17.7</td><td>27.743099</td><td>0.0</td><td>2.409472</td></tr></tbody></table></div>"
      ],
      "text/plain": [
       "shape: (5, 10)\n",
       "┌────────────┬───────────┬───────────┬─────────┬───┬───────────┬───────────┬───────────┬───────────┐\n",
       "│ port_name  ┆ port_lat  ┆ port_lon  ┆ vessels ┆ … ┆ hrs_at_be ┆ hrs_at_be ┆ hrs_at_an ┆ hrs_at_an │\n",
       "│ ---        ┆ ---       ┆ ---       ┆ ---     ┆   ┆ rth_media ┆ rth_mean  ┆ chor_medi ┆ chor_mean │\n",
       "│ str        ┆ f64       ┆ f64       ┆ u32     ┆   ┆ n         ┆ ---       ┆ an        ┆ ---       │\n",
       "│            ┆           ┆           ┆         ┆   ┆ ---       ┆ f64       ┆ ---       ┆ f64       │\n",
       "│            ┆           ┆           ┆         ┆   ┆ f64       ┆           ┆ f64       ┆           │\n",
       "╞════════════╪═══════════╪═══════════╪═════════╪═══╪═══════════╪═══════════╪═══════════╪═══════════╡\n",
       "│ Albany     ┆ 42.64271  ┆ -73.74816 ┆ 264     ┆ … ┆ 65.841667 ┆ 79.631452 ┆ 0.0       ┆ 0.248118  │\n",
       "│ Port       ┆           ┆           ┆         ┆   ┆           ┆           ┆           ┆           │\n",
       "│ District,  ┆           ┆           ┆         ┆   ┆           ┆           ┆           ┆           │\n",
       "│ NY         ┆           ┆           ┆         ┆   ┆           ┆           ┆           ┆           │\n",
       "│ Anacortes, ┆ 48.495943 ┆ -122.5996 ┆ 272     ┆ … ┆ 36.966667 ┆ 49.61037  ┆ 0.0       ┆ 25.777773 │\n",
       "│ WA         ┆           ┆ 1         ┆         ┆   ┆           ┆           ┆           ┆           │\n",
       "│ Baltimore, ┆ 39.250827 ┆ -76.56164 ┆ 2494    ┆ … ┆ 34.216667 ┆ 47.927601 ┆ 0.0       ┆ 12.543871 │\n",
       "│ MD         ┆           ┆           ┆         ┆   ┆           ┆           ┆           ┆           │\n",
       "│ Beaumont,  ┆ 30.084872 ┆ -94.09498 ┆ 982     ┆ … ┆ 54.016667 ┆ 66.59043  ┆ 0.0       ┆ 3.696067  │\n",
       "│ TX         ┆           ┆ 5         ┆         ┆   ┆           ┆           ┆           ┆           │\n",
       "│ Boston, MA ┆ 42.342468 ┆ -71.03202 ┆ 315     ┆ … ┆ 17.7      ┆ 27.743099 ┆ 0.0       ┆ 2.409472  │\n",
       "│            ┆           ┆ 9         ┆         ┆   ┆           ┆           ┆           ┆           │\n",
       "└────────────┴───────────┴───────────┴─────────┴───┴───────────┴───────────┴───────────┴───────────┘"
      ]
     },
     "execution_count": 23,
     "metadata": {},
     "output_type": "execute_result"
    }
   ],
   "source": [
    "ports_alltime_df = (\n",
    "    calls_df\n",
    "    #group by port \n",
    "    .group_by('port_name')\n",
    "    .agg(\n",
    "        #port lat and lon\n",
    "        port_lat = pl.first('port_lat'),\n",
    "        port_lon = pl.first('port_lon'),\n",
    "        #count number of vessels\n",
    "        vessels = pl.n_unique('imo'),\n",
    "        #mean vessel size\n",
    "        vessel_size_mean = pl.mean('vessel_size'),\n",
    "        #count number of vessel calls\n",
    "        calls = pl.n_unique('call_id'),\n",
    "        #time at dock stats for each vessel in hours\n",
    "        hrs_at_berth_median = pl.median('hrs_at_berth'),\n",
    "        hrs_at_berth_mean = pl.mean('hrs_at_berth'),\n",
    "        #time at anchor stats for each vessel visit in hours\n",
    "        hrs_at_anchor_median = pl.median('hrs_at_anchor'),\n",
    "        hrs_at_anchor_mean = pl.mean('hrs_at_anchor')\n",
    "    )\n",
    "    #sort by port\n",
    "    .sort('port_name')\n",
    ")\n",
    "#inspect\n",
    "display(ports_alltime_df.describe())\n",
    "ports_alltime_df.head()"
   ]
  },
  {
   "cell_type": "markdown",
   "metadata": {},
   "source": [
    "## Visualizations"
   ]
  },
  {
   "cell_type": "code",
   "execution_count": 24,
   "metadata": {},
   "outputs": [
    {
     "data": {
      "application/vnd.plotly.v1+json": {
       "config": {
        "plotlyServerURL": "https://plot.ly"
       },
       "data": [
        {
         "geo": "geo",
         "hovertemplate": "<b>%{hovertext}</b><br><br>vessels=%{marker.size}<br>port_lat=%{lat}<br>port_lon=%{lon}<br>hrs_at_berth_median=%{marker.color}<extra></extra>",
         "hovertext": [
          "Albany Port District, NY",
          "Anacortes, WA",
          "Baltimore, MD",
          "Beaumont, TX",
          "Boston, MA",
          "Bridgeport, CT",
          "Brownsville, TX",
          "Calhoun Port Authority, TX",
          "Canaveral Port District, FL",
          "Coos Bay OR, Port of",
          "Corpus Christi, TX",
          "Galveston, TX",
          "Greater Lafourche Port, LA",
          "Guayama, PR",
          "Guaynabo, PR",
          "Honolulu, O'ahu, HI",
          "Houston Port Authority, TX",
          "Jacksonville, FL",
          "Kahului, Maui, HI",
          "Kalaeloa Barbers Point, HI",
          "Lake Charles Harbor District, LA",
          "Manatee County Port, FL",
          "Mobile, AL",
          "Morehead City, NC",
          "Nawiliwili, Kaua'i, HI",
          "New Haven, CT",
          "New Orleans, LA",
          "New York, NY & NJ",
          "Orange County Nav District, TX",
          "Oxnard Harbor District, CA",
          "Panama City Port Authority, FL",
          "Philadelphia Regional Port, PA",
          "Port Arthur, TX",
          "Port Everglades, FL",
          "Port Freeport, TX",
          "Port of Alaska, AK",
          "Port of Brunswick, GA",
          "Port of Charleston, SC",
          "Port of Everett, WA",
          "Port of Greater Baton Rouge, LA",
          "Port of Gulfport, MS",
          "Port of Kalama, WA",
          "Port of Long Beach, CA",
          "Port of Los Angeles, CA",
          "Port of Oakland, CA",
          "Port of Palm Beach District, FL",
          "Port of Pascagoula, MS",
          "Port of Providence, RI",
          "Port of Savannah, GA",
          "Port of Vancouver USA, WA",
          "PortMiami, FL",
          "Portland, ME",
          "Portsmouth, NH",
          "Redwood City, CA",
          "Richmond, CA",
          "Sacramento-Yolo Port, CA",
          "San Diego Unified Port, CA",
          "San Juan, PR",
          "Searsport, ME",
          "Seattle, WA",
          "South Jersey Port Corp, NJ",
          "South Louisiana, LA, Port of",
          "Stockton, CA",
          "Tacoma, WA",
          "Texas City, TX",
          "Unalaska Island, AK",
          "Valdez, AK",
          "Virginia, VA, Port of",
          "Wilmington, DE",
          "Wilmington, NC"
         ],
         "lat": [
          42.64271000000003,
          48.49594299999999,
          39.25082699999997,
          30.084871999999983,
          42.34246800000003,
          41.172,
          25.952201000000002,
          28.62938900000002,
          28.414089999999984,
          43.36350999999997,
          27.812769999999972,
          29.31048999999998,
          29.121944999999982,
          17.938939000000016,
          18.43022100000003,
          21.311110000000035,
          29.74702299999999,
          30.32275700000004,
          20.898610000000005,
          21.323066000000015,
          30.106406000000028,
          27.633680999999985,
          30.69123000000003,
          34.71692999999996,
          21.95248399999999,
          41.29883000000003,
          29.914139999999975,
          40.67394899999999,
          30.095369999999946,
          34.14824399999996,
          30.133998000000016,
          39.91882,
          29.83141999999998,
          26.09339200000001,
          28.96133000000003,
          61.23778000000001,
          31.132425999999985,
          32.78878099999997,
          47.98476000000001,
          30.422920000000016,
          30.35962100000001,
          46.02659599999997,
          33.73957000000002,
          33.726635000000016,
          37.82152,
          26.76903999999999,
          30.34801999999999,
          41.81177999999999,
          32.08471099999998,
          45.622440000000005,
          25.78286200000004,
          43.64950999999999,
          43.073979999999985,
          37.50535999999999,
          37.92423699999999,
          38.56132299999998,
          32.708209999999994,
          18.432782999999972,
          44.45285,
          47.58771099999997,
          39.846444999999974,
          30.033449999999988,
          37.95270000000001,
          47.28966000000003,
          29.36306800000003,
          53.89418500000001,
          61.124730000000014,
          36.86641999999996,
          39.715889999999966,
          34.22736499999998
         ],
         "legendgroup": "",
         "lon": [
          -73.74816000000003,
          -122.59960999999971,
          -76.56163999999995,
          -94.09498499999985,
          -71.032029,
          -73.17886000000004,
          -97.3981380000001,
          -96.59232400000002,
          -80.60814999999997,
          -124.20949999999986,
          -97.39789000000025,
          -94.81269999999991,
          -90.20527900000023,
          -66.15600200000002,
          -66.11114099999999,
          -157.87169999999958,
          -95.29367900000028,
          -81.66512500000005,
          -156.4727999999997,
          -158.1136830000002,
          -93.28683900000004,
          -82.56414299999996,
          -88.03583399999998,
          -76.72421000000001,
          -159.35231900000005,
          -72.90473000000003,
          -90.08525600000007,
          -74.03835699999998,
          -93.7235599999998,
          -119.20847500000015,
          -85.63376199999999,
          -75.20219099999998,
          -93.9606899999997,
          -80.11780099999996,
          -95.3707000000004,
          -149.8949999999996,
          -81.53666000000001,
          -79.92159500000001,
          -122.22940000000042,
          -91.19933999999976,
          -89.092568,
          -122.86685999999972,
          -118.20950000000023,
          -118.26809900000029,
          -122.30810000000015,
          -80.05267000000002,
          -88.55879000000003,
          -71.39844000000004,
          -81.09538199999996,
          -122.68060000000018,
          -80.18164200000001,
          -70.25133999999998,
          -70.73805999999996,
          -122.21401199999977,
          -122.37423299999986,
          -121.54154100000014,
          -117.17839999999974,
          -66.09667800000001,
          -68.92497000000002,
          -122.35921800000041,
          -75.261085,
          -90.61793999999985,
          -121.31560000000034,
          -122.45149999999964,
          -94.91809099999998,
          -166.5499160000001,
          -146.3463999999997,
          -76.31174000000001,
          -75.50696999999997,
          -77.95049600000002
         ],
         "marker": {
          "color": [
           65.84166666666667,
           36.96666666666667,
           34.21666666666667,
           54.016666666666666,
           17.7,
           14.116666666666667,
           51.275,
           26.53333333333333,
           35.75833333333333,
           115.83333333333334,
           45.63333333333333,
           25.883333333333333,
           55.525,
           22.35,
           48.63333333333333,
           32.475,
           67.16666666666667,
           256.575,
           8.233333333333333,
           46.199999999999996,
           71.38333333333333,
           33.56666666666666,
           38.58333333333333,
           59.78333333333333,
           10.35,
           32.36666666666666,
           26.799999999999997,
           31.65,
           853.55,
           19.766666666666666,
           51.13333333333333,
           29.308333333333334,
           42.43333333333333,
           19.25,
           22.65833333333333,
           15.316666666666666,
           16.216666666666665,
           15.683333333333334,
           31.53333333333333,
           50.05,
           12.45,
           51.14999999999999,
           37.55833333333333,
           61.733333333333334,
           25.775,
           22.55,
           88.32499999999999,
           37.15,
           26.3,
           51.766666666666666,
           16.35,
           28.5,
           23.716666666666665,
           24.3,
           39.33333333333333,
           100.58333333333333,
           46.733333333333334,
           13.033333333333333,
           27.099999999999998,
           31.066666666666666,
           34.11666666666666,
           39.9,
           66.66666666666667,
           42.61666666666666,
           33.733333333333334,
           16.516666666666666,
           38.75,
           22.108333333333334,
           44.28333333333333,
           15.291666666666666
          ],
          "coloraxis": "coloraxis",
          "size": [
           264,
           272,
           2494,
           982,
           315,
           6,
           847,
           478,
           786,
           23,
           1803,
           1718,
           60,
           11,
           662,
           349,
           2115,
           9,
           20,
           181,
           95,
           550,
           2638,
           465,
           21,
           691,
           1855,
           578,
           9,
           451,
           74,
           25,
           2036,
           1430,
           742,
           73,
           727,
           564,
           202,
           755,
           139,
           687,
           2684,
           1659,
           728,
           211,
           71,
           560,
           1735,
           1043,
           480,
           205,
           85,
           128,
           965,
           248,
           154,
           608,
           129,
           538,
           613,
           1695,
           731,
           461,
           1684,
           47,
           3,
           1150,
           535,
           1039
          ],
          "sizemode": "area",
          "sizeref": 2.982222222222222,
          "symbol": "circle"
         },
         "mode": "markers",
         "name": "",
         "showlegend": false,
         "type": "scattergeo"
        }
       ],
       "layout": {
        "annotations": [
         {
          "align": "left",
          "font": {
           "color": "black",
           "size": 14
          },
          "showarrow": false,
          "text": "Note: Circle size corresponds to averages vessels per month",
          "x": 0,
          "xref": "paper",
          "y": -0.05,
          "yref": "paper"
         }
        ],
        "coloraxis": {
         "cmax": 50,
         "cmin": 0,
         "colorbar": {
          "title": {
           "text": "hrs_at_berth_median"
          }
         },
         "colorscale": [
          [
           0,
           "#440154"
          ],
          [
           0.1111111111111111,
           "#482878"
          ],
          [
           0.2222222222222222,
           "#3e4989"
          ],
          [
           0.3333333333333333,
           "#31688e"
          ],
          [
           0.4444444444444444,
           "#26828e"
          ],
          [
           0.5555555555555556,
           "#1f9e89"
          ],
          [
           0.6666666666666666,
           "#35b779"
          ],
          [
           0.7777777777777778,
           "#6ece58"
          ],
          [
           0.8888888888888888,
           "#b5de2b"
          ],
          [
           1,
           "#fde725"
          ]
         ]
        },
        "geo": {
         "center": {},
         "domain": {
          "x": [
           0,
           1
          ],
          "y": [
           0,
           1
          ]
         },
         "fitbounds": "locations"
        },
        "height": 600,
        "legend": {
         "itemsizing": "constant",
         "tracegroupgap": 0
        },
        "template": {
         "data": {
          "bar": [
           {
            "error_x": {
             "color": "#2a3f5f"
            },
            "error_y": {
             "color": "#2a3f5f"
            },
            "marker": {
             "line": {
              "color": "#E5ECF6",
              "width": 0.5
             },
             "pattern": {
              "fillmode": "overlay",
              "size": 10,
              "solidity": 0.2
             }
            },
            "type": "bar"
           }
          ],
          "barpolar": [
           {
            "marker": {
             "line": {
              "color": "#E5ECF6",
              "width": 0.5
             },
             "pattern": {
              "fillmode": "overlay",
              "size": 10,
              "solidity": 0.2
             }
            },
            "type": "barpolar"
           }
          ],
          "carpet": [
           {
            "aaxis": {
             "endlinecolor": "#2a3f5f",
             "gridcolor": "white",
             "linecolor": "white",
             "minorgridcolor": "white",
             "startlinecolor": "#2a3f5f"
            },
            "baxis": {
             "endlinecolor": "#2a3f5f",
             "gridcolor": "white",
             "linecolor": "white",
             "minorgridcolor": "white",
             "startlinecolor": "#2a3f5f"
            },
            "type": "carpet"
           }
          ],
          "choropleth": [
           {
            "colorbar": {
             "outlinewidth": 0,
             "ticks": ""
            },
            "type": "choropleth"
           }
          ],
          "contour": [
           {
            "colorbar": {
             "outlinewidth": 0,
             "ticks": ""
            },
            "colorscale": [
             [
              0,
              "#0d0887"
             ],
             [
              0.1111111111111111,
              "#46039f"
             ],
             [
              0.2222222222222222,
              "#7201a8"
             ],
             [
              0.3333333333333333,
              "#9c179e"
             ],
             [
              0.4444444444444444,
              "#bd3786"
             ],
             [
              0.5555555555555556,
              "#d8576b"
             ],
             [
              0.6666666666666666,
              "#ed7953"
             ],
             [
              0.7777777777777778,
              "#fb9f3a"
             ],
             [
              0.8888888888888888,
              "#fdca26"
             ],
             [
              1,
              "#f0f921"
             ]
            ],
            "type": "contour"
           }
          ],
          "contourcarpet": [
           {
            "colorbar": {
             "outlinewidth": 0,
             "ticks": ""
            },
            "type": "contourcarpet"
           }
          ],
          "heatmap": [
           {
            "colorbar": {
             "outlinewidth": 0,
             "ticks": ""
            },
            "colorscale": [
             [
              0,
              "#0d0887"
             ],
             [
              0.1111111111111111,
              "#46039f"
             ],
             [
              0.2222222222222222,
              "#7201a8"
             ],
             [
              0.3333333333333333,
              "#9c179e"
             ],
             [
              0.4444444444444444,
              "#bd3786"
             ],
             [
              0.5555555555555556,
              "#d8576b"
             ],
             [
              0.6666666666666666,
              "#ed7953"
             ],
             [
              0.7777777777777778,
              "#fb9f3a"
             ],
             [
              0.8888888888888888,
              "#fdca26"
             ],
             [
              1,
              "#f0f921"
             ]
            ],
            "type": "heatmap"
           }
          ],
          "heatmapgl": [
           {
            "colorbar": {
             "outlinewidth": 0,
             "ticks": ""
            },
            "colorscale": [
             [
              0,
              "#0d0887"
             ],
             [
              0.1111111111111111,
              "#46039f"
             ],
             [
              0.2222222222222222,
              "#7201a8"
             ],
             [
              0.3333333333333333,
              "#9c179e"
             ],
             [
              0.4444444444444444,
              "#bd3786"
             ],
             [
              0.5555555555555556,
              "#d8576b"
             ],
             [
              0.6666666666666666,
              "#ed7953"
             ],
             [
              0.7777777777777778,
              "#fb9f3a"
             ],
             [
              0.8888888888888888,
              "#fdca26"
             ],
             [
              1,
              "#f0f921"
             ]
            ],
            "type": "heatmapgl"
           }
          ],
          "histogram": [
           {
            "marker": {
             "pattern": {
              "fillmode": "overlay",
              "size": 10,
              "solidity": 0.2
             }
            },
            "type": "histogram"
           }
          ],
          "histogram2d": [
           {
            "colorbar": {
             "outlinewidth": 0,
             "ticks": ""
            },
            "colorscale": [
             [
              0,
              "#0d0887"
             ],
             [
              0.1111111111111111,
              "#46039f"
             ],
             [
              0.2222222222222222,
              "#7201a8"
             ],
             [
              0.3333333333333333,
              "#9c179e"
             ],
             [
              0.4444444444444444,
              "#bd3786"
             ],
             [
              0.5555555555555556,
              "#d8576b"
             ],
             [
              0.6666666666666666,
              "#ed7953"
             ],
             [
              0.7777777777777778,
              "#fb9f3a"
             ],
             [
              0.8888888888888888,
              "#fdca26"
             ],
             [
              1,
              "#f0f921"
             ]
            ],
            "type": "histogram2d"
           }
          ],
          "histogram2dcontour": [
           {
            "colorbar": {
             "outlinewidth": 0,
             "ticks": ""
            },
            "colorscale": [
             [
              0,
              "#0d0887"
             ],
             [
              0.1111111111111111,
              "#46039f"
             ],
             [
              0.2222222222222222,
              "#7201a8"
             ],
             [
              0.3333333333333333,
              "#9c179e"
             ],
             [
              0.4444444444444444,
              "#bd3786"
             ],
             [
              0.5555555555555556,
              "#d8576b"
             ],
             [
              0.6666666666666666,
              "#ed7953"
             ],
             [
              0.7777777777777778,
              "#fb9f3a"
             ],
             [
              0.8888888888888888,
              "#fdca26"
             ],
             [
              1,
              "#f0f921"
             ]
            ],
            "type": "histogram2dcontour"
           }
          ],
          "mesh3d": [
           {
            "colorbar": {
             "outlinewidth": 0,
             "ticks": ""
            },
            "type": "mesh3d"
           }
          ],
          "parcoords": [
           {
            "line": {
             "colorbar": {
              "outlinewidth": 0,
              "ticks": ""
             }
            },
            "type": "parcoords"
           }
          ],
          "pie": [
           {
            "automargin": true,
            "type": "pie"
           }
          ],
          "scatter": [
           {
            "fillpattern": {
             "fillmode": "overlay",
             "size": 10,
             "solidity": 0.2
            },
            "type": "scatter"
           }
          ],
          "scatter3d": [
           {
            "line": {
             "colorbar": {
              "outlinewidth": 0,
              "ticks": ""
             }
            },
            "marker": {
             "colorbar": {
              "outlinewidth": 0,
              "ticks": ""
             }
            },
            "type": "scatter3d"
           }
          ],
          "scattercarpet": [
           {
            "marker": {
             "colorbar": {
              "outlinewidth": 0,
              "ticks": ""
             }
            },
            "type": "scattercarpet"
           }
          ],
          "scattergeo": [
           {
            "marker": {
             "colorbar": {
              "outlinewidth": 0,
              "ticks": ""
             }
            },
            "type": "scattergeo"
           }
          ],
          "scattergl": [
           {
            "marker": {
             "colorbar": {
              "outlinewidth": 0,
              "ticks": ""
             }
            },
            "type": "scattergl"
           }
          ],
          "scattermapbox": [
           {
            "marker": {
             "colorbar": {
              "outlinewidth": 0,
              "ticks": ""
             }
            },
            "type": "scattermapbox"
           }
          ],
          "scatterpolar": [
           {
            "marker": {
             "colorbar": {
              "outlinewidth": 0,
              "ticks": ""
             }
            },
            "type": "scatterpolar"
           }
          ],
          "scatterpolargl": [
           {
            "marker": {
             "colorbar": {
              "outlinewidth": 0,
              "ticks": ""
             }
            },
            "type": "scatterpolargl"
           }
          ],
          "scatterternary": [
           {
            "marker": {
             "colorbar": {
              "outlinewidth": 0,
              "ticks": ""
             }
            },
            "type": "scatterternary"
           }
          ],
          "surface": [
           {
            "colorbar": {
             "outlinewidth": 0,
             "ticks": ""
            },
            "colorscale": [
             [
              0,
              "#0d0887"
             ],
             [
              0.1111111111111111,
              "#46039f"
             ],
             [
              0.2222222222222222,
              "#7201a8"
             ],
             [
              0.3333333333333333,
              "#9c179e"
             ],
             [
              0.4444444444444444,
              "#bd3786"
             ],
             [
              0.5555555555555556,
              "#d8576b"
             ],
             [
              0.6666666666666666,
              "#ed7953"
             ],
             [
              0.7777777777777778,
              "#fb9f3a"
             ],
             [
              0.8888888888888888,
              "#fdca26"
             ],
             [
              1,
              "#f0f921"
             ]
            ],
            "type": "surface"
           }
          ],
          "table": [
           {
            "cells": {
             "fill": {
              "color": "#EBF0F8"
             },
             "line": {
              "color": "white"
             }
            },
            "header": {
             "fill": {
              "color": "#C8D4E3"
             },
             "line": {
              "color": "white"
             }
            },
            "type": "table"
           }
          ]
         },
         "layout": {
          "annotationdefaults": {
           "arrowcolor": "#2a3f5f",
           "arrowhead": 0,
           "arrowwidth": 1
          },
          "autotypenumbers": "strict",
          "coloraxis": {
           "colorbar": {
            "outlinewidth": 0,
            "ticks": ""
           }
          },
          "colorscale": {
           "diverging": [
            [
             0,
             "#8e0152"
            ],
            [
             0.1,
             "#c51b7d"
            ],
            [
             0.2,
             "#de77ae"
            ],
            [
             0.3,
             "#f1b6da"
            ],
            [
             0.4,
             "#fde0ef"
            ],
            [
             0.5,
             "#f7f7f7"
            ],
            [
             0.6,
             "#e6f5d0"
            ],
            [
             0.7,
             "#b8e186"
            ],
            [
             0.8,
             "#7fbc41"
            ],
            [
             0.9,
             "#4d9221"
            ],
            [
             1,
             "#276419"
            ]
           ],
           "sequential": [
            [
             0,
             "#0d0887"
            ],
            [
             0.1111111111111111,
             "#46039f"
            ],
            [
             0.2222222222222222,
             "#7201a8"
            ],
            [
             0.3333333333333333,
             "#9c179e"
            ],
            [
             0.4444444444444444,
             "#bd3786"
            ],
            [
             0.5555555555555556,
             "#d8576b"
            ],
            [
             0.6666666666666666,
             "#ed7953"
            ],
            [
             0.7777777777777778,
             "#fb9f3a"
            ],
            [
             0.8888888888888888,
             "#fdca26"
            ],
            [
             1,
             "#f0f921"
            ]
           ],
           "sequentialminus": [
            [
             0,
             "#0d0887"
            ],
            [
             0.1111111111111111,
             "#46039f"
            ],
            [
             0.2222222222222222,
             "#7201a8"
            ],
            [
             0.3333333333333333,
             "#9c179e"
            ],
            [
             0.4444444444444444,
             "#bd3786"
            ],
            [
             0.5555555555555556,
             "#d8576b"
            ],
            [
             0.6666666666666666,
             "#ed7953"
            ],
            [
             0.7777777777777778,
             "#fb9f3a"
            ],
            [
             0.8888888888888888,
             "#fdca26"
            ],
            [
             1,
             "#f0f921"
            ]
           ]
          },
          "colorway": [
           "#636efa",
           "#EF553B",
           "#00cc96",
           "#ab63fa",
           "#FFA15A",
           "#19d3f3",
           "#FF6692",
           "#B6E880",
           "#FF97FF",
           "#FECB52"
          ],
          "font": {
           "color": "#2a3f5f"
          },
          "geo": {
           "bgcolor": "white",
           "lakecolor": "white",
           "landcolor": "#E5ECF6",
           "showlakes": true,
           "showland": true,
           "subunitcolor": "white"
          },
          "hoverlabel": {
           "align": "left"
          },
          "hovermode": "closest",
          "mapbox": {
           "style": "light"
          },
          "paper_bgcolor": "white",
          "plot_bgcolor": "#E5ECF6",
          "polar": {
           "angularaxis": {
            "gridcolor": "white",
            "linecolor": "white",
            "ticks": ""
           },
           "bgcolor": "#E5ECF6",
           "radialaxis": {
            "gridcolor": "white",
            "linecolor": "white",
            "ticks": ""
           }
          },
          "scene": {
           "xaxis": {
            "backgroundcolor": "#E5ECF6",
            "gridcolor": "white",
            "gridwidth": 2,
            "linecolor": "white",
            "showbackground": true,
            "ticks": "",
            "zerolinecolor": "white"
           },
           "yaxis": {
            "backgroundcolor": "#E5ECF6",
            "gridcolor": "white",
            "gridwidth": 2,
            "linecolor": "white",
            "showbackground": true,
            "ticks": "",
            "zerolinecolor": "white"
           },
           "zaxis": {
            "backgroundcolor": "#E5ECF6",
            "gridcolor": "white",
            "gridwidth": 2,
            "linecolor": "white",
            "showbackground": true,
            "ticks": "",
            "zerolinecolor": "white"
           }
          },
          "shapedefaults": {
           "line": {
            "color": "#2a3f5f"
           }
          },
          "ternary": {
           "aaxis": {
            "gridcolor": "white",
            "linecolor": "white",
            "ticks": ""
           },
           "baxis": {
            "gridcolor": "white",
            "linecolor": "white",
            "ticks": ""
           },
           "bgcolor": "#E5ECF6",
           "caxis": {
            "gridcolor": "white",
            "linecolor": "white",
            "ticks": ""
           }
          },
          "title": {
           "x": 0.05
          },
          "xaxis": {
           "automargin": true,
           "gridcolor": "white",
           "linecolor": "white",
           "ticks": "",
           "title": {
            "standoff": 15
           },
           "zerolinecolor": "white",
           "zerolinewidth": 2
          },
          "yaxis": {
           "automargin": true,
           "gridcolor": "white",
           "linecolor": "white",
           "ticks": "",
           "title": {
            "standoff": 15
           },
           "zerolinecolor": "white",
           "zerolinewidth": 2
          }
         }
        },
        "title": {
         "text": "Total Vessels (all time) and Median Hours at Berth"
        },
        "width": 1000
       }
      }
     },
     "metadata": {},
     "output_type": "display_data"
    }
   ],
   "source": [
    "#scatterplot\n",
    "fig = px.scatter_geo(\n",
    "    ports_alltime_df,\n",
    "    lon='port_lon',\n",
    "    lat='port_lat',\n",
    "    size='vessels',\n",
    "    color='hrs_at_berth_median',\n",
    "    range_color=[0,50],\n",
    "    hover_name='port_name',\n",
    "    size_max=30,\n",
    "    title='Total Vessels (all time) and Median Hours at Berth',\n",
    "    color_continuous_scale=px.colors.sequential.Viridis,\n",
    "    width=1000,\n",
    "    height=600,\n",
    "    labels={\n",
    "        'time_at_berth_avg':'Hours at Berth'\n",
    "    }\n",
    ")\n",
    "\n",
    "# Fit the view to ports\n",
    "fig.update_geos(fitbounds=\"locations\")\n",
    "\n",
    "# Add footnote using add_annotation\n",
    "fig.add_annotation(\n",
    "    text=\"Note: Circle size corresponds to averages vessels per month\",  # Footnote text\n",
    "    xref=\"paper\", yref=\"paper\",  # Position relative to the plot area\n",
    "    x=0, y=0-0.05,  # Adjust to footnote position\n",
    "    showarrow=False,  # No arrow, just text\n",
    "    font=dict(size=14, color=\"black\"),  # Customize the font style\n",
    "    align=\"left\"\n",
    ")\n",
    "\n",
    "# Show the figure\n",
    "fig.show()"
   ]
  },
  {
   "cell_type": "markdown",
   "metadata": {},
   "source": [
    "### Port-level Scatter Plots\n",
    "\n",
    "Developing core visualization and data-agg functions for geographic scatter plots. \n",
    "\n",
    "Initial goal:\n",
    "- User selects port and time bounds; dashboard shows standard visualizations\n",
    "    - calls over time (monthly)\n",
    "    - avg hrs at berth over time (monthly)\n",
    "    - vessel size and hrs at berth scatter\n",
    "    - vessel size and hrs at anchors scatter\n"
   ]
  },
  {
   "cell_type": "code",
   "execution_count": 25,
   "metadata": {},
   "outputs": [
    {
     "data": {
      "text/html": [
       "<div>\n",
       "<style scoped>\n",
       "    .dataframe tbody tr th:only-of-type {\n",
       "        vertical-align: middle;\n",
       "    }\n",
       "\n",
       "    .dataframe tbody tr th {\n",
       "        vertical-align: top;\n",
       "    }\n",
       "\n",
       "    .dataframe thead th {\n",
       "        text-align: right;\n",
       "    }\n",
       "</style>\n",
       "<table border=\"1\" class=\"dataframe\">\n",
       "  <thead>\n",
       "    <tr style=\"text-align: right;\">\n",
       "      <th></th>\n",
       "      <th>dock_name</th>\n",
       "      <th>dock_lat</th>\n",
       "      <th>dock_lon</th>\n",
       "      <th>facility_type</th>\n",
       "      <th>vessel_size_mean</th>\n",
       "      <th>vessel_size_median</th>\n",
       "      <th>hrs_at_berth_mean</th>\n",
       "      <th>hrs_at_berth_median</th>\n",
       "      <th>hrs_at_anchor_mean</th>\n",
       "      <th>hrs_at_anchor_median</th>\n",
       "      <th>hrs_in_port_waters_mean</th>\n",
       "      <th>hrs_in_port_waters_median</th>\n",
       "    </tr>\n",
       "  </thead>\n",
       "  <tbody>\n",
       "    <tr>\n",
       "      <th>0</th>\n",
       "      <td>OPEN WATER-BUOYS &amp; DOLPHINS</td>\n",
       "      <td>47.583046</td>\n",
       "      <td>-122.361050</td>\n",
       "      <td>Open Water</td>\n",
       "      <td>292.625000</td>\n",
       "      <td>300.0</td>\n",
       "      <td>65.006250</td>\n",
       "      <td>37.366667</td>\n",
       "      <td>35.502083</td>\n",
       "      <td>13.683333</td>\n",
       "      <td>106.793750</td>\n",
       "      <td>65.900000</td>\n",
       "    </tr>\n",
       "    <tr>\n",
       "      <th>1</th>\n",
       "      <td>PIER 34</td>\n",
       "      <td>47.587536</td>\n",
       "      <td>-122.342553</td>\n",
       "      <td>Dock</td>\n",
       "      <td>298.313830</td>\n",
       "      <td>294.0</td>\n",
       "      <td>51.524424</td>\n",
       "      <td>36.766667</td>\n",
       "      <td>6.267642</td>\n",
       "      <td>0.000000</td>\n",
       "      <td>65.916356</td>\n",
       "      <td>49.975000</td>\n",
       "    </tr>\n",
       "    <tr>\n",
       "      <th>2</th>\n",
       "      <td>B P OIL CO., SEATTLE TERMINAL, PIER NO. 11</td>\n",
       "      <td>47.582500</td>\n",
       "      <td>-122.358330</td>\n",
       "      <td>Dock</td>\n",
       "      <td>183.000000</td>\n",
       "      <td>183.0</td>\n",
       "      <td>18.133333</td>\n",
       "      <td>17.091667</td>\n",
       "      <td>2.829167</td>\n",
       "      <td>1.966667</td>\n",
       "      <td>25.312500</td>\n",
       "      <td>24.775000</td>\n",
       "    </tr>\n",
       "    <tr>\n",
       "      <th>3</th>\n",
       "      <td>CRANE DOCK PIER 20</td>\n",
       "      <td>47.574757</td>\n",
       "      <td>-122.346077</td>\n",
       "      <td>Dock</td>\n",
       "      <td>160.444444</td>\n",
       "      <td>149.0</td>\n",
       "      <td>61.175926</td>\n",
       "      <td>60.400000</td>\n",
       "      <td>0.000000</td>\n",
       "      <td>0.000000</td>\n",
       "      <td>68.744444</td>\n",
       "      <td>73.516667</td>\n",
       "    </tr>\n",
       "    <tr>\n",
       "      <th>4</th>\n",
       "      <td>TRANS PACIFIC CONTAINER SERVICE CORP., TERMINA...</td>\n",
       "      <td>47.582943</td>\n",
       "      <td>-122.342930</td>\n",
       "      <td>Dock</td>\n",
       "      <td>263.711712</td>\n",
       "      <td>262.0</td>\n",
       "      <td>30.012988</td>\n",
       "      <td>23.366667</td>\n",
       "      <td>5.294845</td>\n",
       "      <td>0.000000</td>\n",
       "      <td>42.135210</td>\n",
       "      <td>34.150000</td>\n",
       "    </tr>\n",
       "  </tbody>\n",
       "</table>\n",
       "</div>"
      ],
      "text/plain": [
       "                                           dock_name   dock_lat    dock_lon  \\\n",
       "0                        OPEN WATER-BUOYS & DOLPHINS  47.583046 -122.361050   \n",
       "1                                            PIER 34  47.587536 -122.342553   \n",
       "2         B P OIL CO., SEATTLE TERMINAL, PIER NO. 11  47.582500 -122.358330   \n",
       "3                                 CRANE DOCK PIER 20  47.574757 -122.346077   \n",
       "4  TRANS PACIFIC CONTAINER SERVICE CORP., TERMINA...  47.582943 -122.342930   \n",
       "\n",
       "  facility_type  vessel_size_mean  vessel_size_median  hrs_at_berth_mean  \\\n",
       "0    Open Water        292.625000               300.0          65.006250   \n",
       "1          Dock        298.313830               294.0          51.524424   \n",
       "2          Dock        183.000000               183.0          18.133333   \n",
       "3          Dock        160.444444               149.0          61.175926   \n",
       "4          Dock        263.711712               262.0          30.012988   \n",
       "\n",
       "   hrs_at_berth_median  hrs_at_anchor_mean  hrs_at_anchor_median  \\\n",
       "0            37.366667           35.502083             13.683333   \n",
       "1            36.766667            6.267642              0.000000   \n",
       "2            17.091667            2.829167              1.966667   \n",
       "3            60.400000            0.000000              0.000000   \n",
       "4            23.366667            5.294845              0.000000   \n",
       "\n",
       "   hrs_in_port_waters_mean  hrs_in_port_waters_median  \n",
       "0               106.793750                  65.900000  \n",
       "1                65.916356                  49.975000  \n",
       "2                25.312500                  24.775000  \n",
       "3                68.744444                  73.516667  \n",
       "4                42.135210                  34.150000  "
      ]
     },
     "execution_count": 25,
     "metadata": {},
     "output_type": "execute_result"
    }
   ],
   "source": [
    "#set date range\n",
    "start_month = '201801'\n",
    "end_month = '202312'\n",
    "\n",
    "#set port name\n",
    "port_name = 'Seattle, WA'\n",
    "\n",
    "#convert start and end month to datetime\n",
    "start_month = pd.to_datetime(start_month, format='%Y%m')\n",
    "end_month = pd.to_datetime(end_month, format='%Y%m')\n",
    "\n",
    "#get dataframe\n",
    "df = (\n",
    "    calls_df\n",
    "    #filter for Seattle\n",
    "    .filter(pl.col('port_name') == port_name)\n",
    "    #filter by date\n",
    "    .filter(pl.col('time_arrival').is_between(start_month, end_month))\n",
    "    #get month from docking time\n",
    "    .with_columns(\n",
    "        #extract month from docking time\n",
    "        month = pl.col('time_arrival').dt.strftime('%Y%m')\n",
    "    )\n",
    ")\n",
    "\n",
    "#get dock stats\n",
    "docks_df = (\n",
    "    df.group_by(['dock_name', 'dock_lat', 'dock_lon', 'facility_type'])\n",
    "    .agg(\n",
    "        #mean vessel size\n",
    "        vessel_size_mean = pl.mean('vessel_size'),\n",
    "        #median vessel size\n",
    "        vessel_size_median = pl.median('vessel_size'),\n",
    "        #mean hours at berth\n",
    "        hrs_at_berth_mean = pl.mean('hrs_at_berth'),\n",
    "        #median hours at berth\n",
    "        hrs_at_berth_median = pl.median('hrs_at_berth'),\n",
    "        #mean hours at anchor\n",
    "        hrs_at_anchor_mean = pl.mean('hrs_at_anchor'),\n",
    "        #median hours at anchor\n",
    "        hrs_at_anchor_median = pl.median('hrs_at_anchor'),\n",
    "        #mean hours in port waters\n",
    "        hrs_in_port_waters_mean = pl.mean('hrs_in_port_waters'),\n",
    "        #median hours in port waters\n",
    "        hrs_in_port_waters_median = pl.median('hrs_in_port_waters'),\n",
    "    )\n",
    "    #convert to pandas\n",
    "    .to_pandas()\n",
    ")\n",
    "\n",
    "#inspect\n",
    "docks_df.head()"
   ]
  },
  {
   "cell_type": "code",
   "execution_count": 26,
   "metadata": {},
   "outputs": [],
   "source": [
    "def mapbox_zoom_finder(lons, lats, lon_pad=0, lat_pad=0):\n",
    "    \"\"\"\n",
    "    Calculates the optimal zoom level for a Plotly Mapbox plot.\n",
    "    Args:\n",
    "        lons (list): List of longitudes.\n",
    "        lats (list): List of latitudes.\n",
    "        lon_pad (float, optional): Padding to add to the longitude range. Defaults to 0.\n",
    "        lat_pad (float, optional): Padding to add to the latitude range. Defaults to 0.\n",
    "    Returns:\n",
    "        zoom (int): the calculated zoom level\n",
    "    \"\"\"\n",
    "    # Check if the lengths of lons and lats are equal and not empty\n",
    "    if len(lons) != len(lats) or len(lons) == 0:\n",
    "        return 10\n",
    "    # Calculate the maximum and minimum longitude and latitude\n",
    "    max_lon, min_lon = max(lons), min(lons)\n",
    "    max_lat, min_lat = max(lats), min(lats)\n",
    "    # Calculate the longitude and latitude ranges\n",
    "    lon_range = max_lon - min_lon\n",
    "    lat_range = max_lat - min_lat\n",
    "    # Calculate the zoom level based on the ranges\n",
    "    zoom = 7 - np.log2(max(lon_range + lon_pad, lat_range + lat_pad))\n",
    "    return zoom"
   ]
  },
  {
   "cell_type": "code",
   "execution_count": 27,
   "metadata": {},
   "outputs": [],
   "source": [
    "def plot_mapbox(df, lat_col, lon_col, size_col, color_col, title, zoom=None,\n",
    "                width=800, height=600, size_max=30, hover_name=None, range_color=None,\n",
    "                hover_data=None, mapbox_style='carto-positron', labels=None, \n",
    "                color_continuous_scale=None, color_outlier_z=None):\n",
    "    \"\"\"\n",
    "    Plots a Mapbox scatter plot using Plotly.\n",
    "    Args:\n",
    "        df (pd.DataFrame): DataFrame containing the data to plot.\n",
    "        lat_col (str): Column name for latitude.\n",
    "        lon_col (str): Column name for longitude.\n",
    "        size_col (str): Column name for size.\n",
    "        color_col (str): Column name for color.\n",
    "        title (str): Title of the plot.\n",
    "        zoom (float, optional): Zoom level for the map. Defaults to None.\n",
    "        width (int, optional): Width of the plot. Defaults to 800.\n",
    "        height (int, optional): Height of the plot. Defaults to 600.\n",
    "        size_max (int, optional): Maximum size of the markers. Defaults to 30.\n",
    "        hover_name (str, optional): Column name for hover text. Defaults to None.\n",
    "        range_color (list, optional): Range for color scale. Defaults to None.\n",
    "        hover_data (list, optional): Additional data to show on hover. Defaults to None.\n",
    "        mapbox_style (str, optional): Mapbox style. Defaults to 'carto-positron'.\n",
    "        labels (dict, optional): Labels for the axes. Defaults to None.\n",
    "        color_continuous_scale (list, optional): Color scale for the plot. Defaults to None.\n",
    "        color_outlier_z (float, optional): Z-score threshold for outlier detection. Defaults to None.\n",
    "    Returns:\n",
    "        None\n",
    "    \"\"\"\n",
    "    #Set default color scale if not provided\n",
    "    if not color_continuous_scale:\n",
    "        color_continuous_scale = px.colors.sequential.Viridis\n",
    "\n",
    "    # Set the zoom level automatically if not provided\n",
    "    if not zoom:\n",
    "        zoom = mapbox_zoom_finder(df[lon_col], df[lat_col])\n",
    "\n",
    "    #drop outliers if specified\n",
    "    if color_outlier_z:\n",
    "        #get color_col upper and lower limits based on z score\n",
    "        color_col_mean, color_col_std = df[color_col].mean(), df[color_col].std()\n",
    "        color_col_upper = color_col_mean + (color_col_std * color_outlier_z)\n",
    "        color_col_lower = color_col_mean - (color_col_std * color_outlier_z)\n",
    "        #set range color\n",
    "        range_color = [color_col_lower, color_col_upper]\n",
    "\n",
    "    # Create a scatter mapbox figure\n",
    "    fig = px.scatter_mapbox(\n",
    "        #data\n",
    "        df, lat=lat_col, lon=lon_col,\n",
    "        #categories\n",
    "        size=size_col, color=color_col,\n",
    "        #hover info\n",
    "        hover_name=hover_name, hover_data=hover_data,\n",
    "        #display settings\n",
    "        range_color=range_color, size_max=size_max,\n",
    "        color_continuous_scale=color_continuous_scale, mapbox_style=mapbox_style,\n",
    "        width=width, height=height,\n",
    "        #title and labals\n",
    "        title=title, labels=labels\n",
    "    )\n",
    "    # Set the zoom level\n",
    "    fig.update_layout(mapbox_zoom=zoom)\n",
    "    # Show the figure\n",
    "    fig.show()"
   ]
  },
  {
   "cell_type": "code",
   "execution_count": 28,
   "metadata": {},
   "outputs": [
    {
     "data": {
      "application/vnd.plotly.v1+json": {
       "config": {
        "plotlyServerURL": "https://plot.ly"
       },
       "data": [
        {
         "customdata": [
          [
           "OPEN WATER-BUOYS & DOLPHINS",
           292.625
          ],
          [
           "PIER 34",
           298.31382978723406
          ],
          [
           "B P OIL CO., SEATTLE TERMINAL, PIER NO. 11",
           183
          ],
          [
           "CRANE DOCK PIER 20",
           160.44444444444446
          ],
          [
           "TRANS PACIFIC CONTAINER SERVICE CORP., TERMINAL 30 WHARF",
           263.7117117117117
          ],
          [
           "SSA TERMINALS, TERMINAL 37 WHARF",
           296.056338028169
          ],
          [
           "TODD PACIFIC SHIPYARDS CORP., BERTHS F-K, PIERS NO. 4-6",
           227
          ],
          [
           "BIRMINGHAM STEEL CORP., TERMINAL 105, BERTH NO. 1",
           159
          ],
          [
           "SSA TERMINALS, TERMINAL 18, BERTH 7",
           205.2941176470588
          ],
          [
           "ELLIOTT BAY GENERAL ANCHORAGE",
           199
          ],
          [
           "PACIFIC TERMINALS LTD., WHARVES",
           262
          ],
          [
           "Birmingham Steel Corp., Terminal 105, Berth No. 2.",
           168.53846153846155
          ],
          [
           "CROWLEY MARITIME, TERMINAL 28 WHARF",
           251.5
          ],
          [
           "S S A TERMINALS, TERMINAL 18, BERTHS 2-6",
           307.50338983050847
          ],
          [
           "TOTAL TERMINALS, TERMINAL 46 WHARF",
           306.15
          ],
          [
           "SSA TERMINALS, TERMINAL 25 WHARF",
           262
          ],
          [
           "U. S. COAST GUARD, PIER 35",
           225.6153846153846
          ],
          [
           "TERMINAL 5 SEATTLE, SSA MARINE",
           274.9139072847682
          ]
         ],
         "hovertemplate": "<b>%{hovertext}</b><br><br>vessel_size_mean=%{customdata[1]}<br>dock_lat=%{lat}<br>dock_lon=%{lon}<br>dock_name=%{customdata[0]}<br>hrs_at_berth_mean=%{marker.color}<extra></extra>",
         "hovertext": [
          "OPEN WATER-BUOYS & DOLPHINS",
          "PIER 34",
          "B P OIL CO., SEATTLE TERMINAL, PIER NO. 11",
          "CRANE DOCK PIER 20",
          "TRANS PACIFIC CONTAINER SERVICE CORP., TERMINAL 30 WHARF",
          "SSA TERMINALS, TERMINAL 37 WHARF",
          "TODD PACIFIC SHIPYARDS CORP., BERTHS F-K, PIERS NO. 4-6",
          "BIRMINGHAM STEEL CORP., TERMINAL 105, BERTH NO. 1",
          "SSA TERMINALS, TERMINAL 18, BERTH 7",
          "ELLIOTT BAY GENERAL ANCHORAGE",
          "PACIFIC TERMINALS LTD., WHARVES",
          "Birmingham Steel Corp., Terminal 105, Berth No. 2.",
          "CROWLEY MARITIME, TERMINAL 28 WHARF",
          "S S A TERMINALS, TERMINAL 18, BERTHS 2-6",
          "TOTAL TERMINALS, TERMINAL 46 WHARF",
          "SSA TERMINALS, TERMINAL 25 WHARF",
          "U. S. COAST GUARD, PIER 35",
          "TERMINAL 5 SEATTLE, SSA MARINE"
         ],
         "lat": [
          47.583046000000095,
          47.587536000000064,
          47.5825,
          47.574757000000055,
          47.58294300000004,
          47.59222200000002,
          47.58703100000008,
          47.565000000000026,
          47.57611099999999,
          47.59370500000003,
          47.57388900000004,
          47.56277800000002,
          47.57957300000006,
          47.58355700000003,
          47.59666700000011,
          47.57555600000006,
          47.58944400000007,
          47.57694400000004
         ],
         "legendgroup": "",
         "lon": [
          -122.36105000000013,
          -122.34255300000014,
          -122.35832999999973,
          -122.34607699999965,
          -122.34292999999988,
          -122.34250000000027,
          -122.356476,
          -122.3488799999997,
          -122.34582999999986,
          -122.3525560000001,
          -122.3588800000003,
          -122.34860999999982,
          -122.3416989999996,
          -122.34612900000035,
          -122.34111000000027,
          -122.34304999999992,
          -122.34304999999992,
          -122.36137999999956
         ],
         "marker": {
          "color": [
           65.00625,
           51.52442375886528,
           18.133333333333333,
           61.17592592592593,
           30.01298798798796,
           45.56854460093897,
           44.4,
           188.39166666666665,
           27.08578431372549,
           16.049999999999997,
           20.1,
           129.5448717948718,
           18.95,
           47.989576271186436,
           38.565416666666664,
           143.89166666666668,
           58.202564102564104,
           46.39304635761589
          ],
          "coloraxis": "coloraxis",
          "size": [
           292.625,
           298.31382978723406,
           183,
           160.44444444444446,
           263.7117117117117,
           296.056338028169,
           227,
           159,
           205.2941176470588,
           199,
           262,
           168.53846153846155,
           251.5,
           307.50338983050847,
           306.15,
           262,
           225.6153846153846,
           274.9139072847682
          ],
          "sizemode": "area",
          "sizeref": 0.7687584745762712
         },
         "mode": "markers",
         "name": "",
         "showlegend": false,
         "subplot": "mapbox",
         "type": "scattermapbox"
        }
       ],
       "layout": {
        "coloraxis": {
         "cmax": 106.03758960161971,
         "cmin": 10.738639114715312,
         "colorbar": {
          "title": {
           "text": "hrs_at_berth_mean"
          }
         },
         "colorscale": [
          [
           0,
           "#440154"
          ],
          [
           0.1111111111111111,
           "#482878"
          ],
          [
           0.2222222222222222,
           "#3e4989"
          ],
          [
           0.3333333333333333,
           "#31688e"
          ],
          [
           0.4444444444444444,
           "#26828e"
          ],
          [
           0.5555555555555556,
           "#1f9e89"
          ],
          [
           0.6666666666666666,
           "#35b779"
          ],
          [
           0.7777777777777778,
           "#6ece58"
          ],
          [
           0.8888888888888888,
           "#b5de2b"
          ],
          [
           1,
           "#fde725"
          ]
         ]
        },
        "height": 600,
        "legend": {
         "itemsizing": "constant",
         "tracegroupgap": 0
        },
        "mapbox": {
         "center": {
          "lat": 47.581292166666714,
          "lon": -122.34894944444439
         },
         "domain": {
          "x": [
           0,
           1
          ],
          "y": [
           0,
           1
          ]
         },
         "style": "carto-positron",
         "zoom": 11.883039123510514
        },
        "template": {
         "data": {
          "bar": [
           {
            "error_x": {
             "color": "#2a3f5f"
            },
            "error_y": {
             "color": "#2a3f5f"
            },
            "marker": {
             "line": {
              "color": "#E5ECF6",
              "width": 0.5
             },
             "pattern": {
              "fillmode": "overlay",
              "size": 10,
              "solidity": 0.2
             }
            },
            "type": "bar"
           }
          ],
          "barpolar": [
           {
            "marker": {
             "line": {
              "color": "#E5ECF6",
              "width": 0.5
             },
             "pattern": {
              "fillmode": "overlay",
              "size": 10,
              "solidity": 0.2
             }
            },
            "type": "barpolar"
           }
          ],
          "carpet": [
           {
            "aaxis": {
             "endlinecolor": "#2a3f5f",
             "gridcolor": "white",
             "linecolor": "white",
             "minorgridcolor": "white",
             "startlinecolor": "#2a3f5f"
            },
            "baxis": {
             "endlinecolor": "#2a3f5f",
             "gridcolor": "white",
             "linecolor": "white",
             "minorgridcolor": "white",
             "startlinecolor": "#2a3f5f"
            },
            "type": "carpet"
           }
          ],
          "choropleth": [
           {
            "colorbar": {
             "outlinewidth": 0,
             "ticks": ""
            },
            "type": "choropleth"
           }
          ],
          "contour": [
           {
            "colorbar": {
             "outlinewidth": 0,
             "ticks": ""
            },
            "colorscale": [
             [
              0,
              "#0d0887"
             ],
             [
              0.1111111111111111,
              "#46039f"
             ],
             [
              0.2222222222222222,
              "#7201a8"
             ],
             [
              0.3333333333333333,
              "#9c179e"
             ],
             [
              0.4444444444444444,
              "#bd3786"
             ],
             [
              0.5555555555555556,
              "#d8576b"
             ],
             [
              0.6666666666666666,
              "#ed7953"
             ],
             [
              0.7777777777777778,
              "#fb9f3a"
             ],
             [
              0.8888888888888888,
              "#fdca26"
             ],
             [
              1,
              "#f0f921"
             ]
            ],
            "type": "contour"
           }
          ],
          "contourcarpet": [
           {
            "colorbar": {
             "outlinewidth": 0,
             "ticks": ""
            },
            "type": "contourcarpet"
           }
          ],
          "heatmap": [
           {
            "colorbar": {
             "outlinewidth": 0,
             "ticks": ""
            },
            "colorscale": [
             [
              0,
              "#0d0887"
             ],
             [
              0.1111111111111111,
              "#46039f"
             ],
             [
              0.2222222222222222,
              "#7201a8"
             ],
             [
              0.3333333333333333,
              "#9c179e"
             ],
             [
              0.4444444444444444,
              "#bd3786"
             ],
             [
              0.5555555555555556,
              "#d8576b"
             ],
             [
              0.6666666666666666,
              "#ed7953"
             ],
             [
              0.7777777777777778,
              "#fb9f3a"
             ],
             [
              0.8888888888888888,
              "#fdca26"
             ],
             [
              1,
              "#f0f921"
             ]
            ],
            "type": "heatmap"
           }
          ],
          "heatmapgl": [
           {
            "colorbar": {
             "outlinewidth": 0,
             "ticks": ""
            },
            "colorscale": [
             [
              0,
              "#0d0887"
             ],
             [
              0.1111111111111111,
              "#46039f"
             ],
             [
              0.2222222222222222,
              "#7201a8"
             ],
             [
              0.3333333333333333,
              "#9c179e"
             ],
             [
              0.4444444444444444,
              "#bd3786"
             ],
             [
              0.5555555555555556,
              "#d8576b"
             ],
             [
              0.6666666666666666,
              "#ed7953"
             ],
             [
              0.7777777777777778,
              "#fb9f3a"
             ],
             [
              0.8888888888888888,
              "#fdca26"
             ],
             [
              1,
              "#f0f921"
             ]
            ],
            "type": "heatmapgl"
           }
          ],
          "histogram": [
           {
            "marker": {
             "pattern": {
              "fillmode": "overlay",
              "size": 10,
              "solidity": 0.2
             }
            },
            "type": "histogram"
           }
          ],
          "histogram2d": [
           {
            "colorbar": {
             "outlinewidth": 0,
             "ticks": ""
            },
            "colorscale": [
             [
              0,
              "#0d0887"
             ],
             [
              0.1111111111111111,
              "#46039f"
             ],
             [
              0.2222222222222222,
              "#7201a8"
             ],
             [
              0.3333333333333333,
              "#9c179e"
             ],
             [
              0.4444444444444444,
              "#bd3786"
             ],
             [
              0.5555555555555556,
              "#d8576b"
             ],
             [
              0.6666666666666666,
              "#ed7953"
             ],
             [
              0.7777777777777778,
              "#fb9f3a"
             ],
             [
              0.8888888888888888,
              "#fdca26"
             ],
             [
              1,
              "#f0f921"
             ]
            ],
            "type": "histogram2d"
           }
          ],
          "histogram2dcontour": [
           {
            "colorbar": {
             "outlinewidth": 0,
             "ticks": ""
            },
            "colorscale": [
             [
              0,
              "#0d0887"
             ],
             [
              0.1111111111111111,
              "#46039f"
             ],
             [
              0.2222222222222222,
              "#7201a8"
             ],
             [
              0.3333333333333333,
              "#9c179e"
             ],
             [
              0.4444444444444444,
              "#bd3786"
             ],
             [
              0.5555555555555556,
              "#d8576b"
             ],
             [
              0.6666666666666666,
              "#ed7953"
             ],
             [
              0.7777777777777778,
              "#fb9f3a"
             ],
             [
              0.8888888888888888,
              "#fdca26"
             ],
             [
              1,
              "#f0f921"
             ]
            ],
            "type": "histogram2dcontour"
           }
          ],
          "mesh3d": [
           {
            "colorbar": {
             "outlinewidth": 0,
             "ticks": ""
            },
            "type": "mesh3d"
           }
          ],
          "parcoords": [
           {
            "line": {
             "colorbar": {
              "outlinewidth": 0,
              "ticks": ""
             }
            },
            "type": "parcoords"
           }
          ],
          "pie": [
           {
            "automargin": true,
            "type": "pie"
           }
          ],
          "scatter": [
           {
            "fillpattern": {
             "fillmode": "overlay",
             "size": 10,
             "solidity": 0.2
            },
            "type": "scatter"
           }
          ],
          "scatter3d": [
           {
            "line": {
             "colorbar": {
              "outlinewidth": 0,
              "ticks": ""
             }
            },
            "marker": {
             "colorbar": {
              "outlinewidth": 0,
              "ticks": ""
             }
            },
            "type": "scatter3d"
           }
          ],
          "scattercarpet": [
           {
            "marker": {
             "colorbar": {
              "outlinewidth": 0,
              "ticks": ""
             }
            },
            "type": "scattercarpet"
           }
          ],
          "scattergeo": [
           {
            "marker": {
             "colorbar": {
              "outlinewidth": 0,
              "ticks": ""
             }
            },
            "type": "scattergeo"
           }
          ],
          "scattergl": [
           {
            "marker": {
             "colorbar": {
              "outlinewidth": 0,
              "ticks": ""
             }
            },
            "type": "scattergl"
           }
          ],
          "scattermapbox": [
           {
            "marker": {
             "colorbar": {
              "outlinewidth": 0,
              "ticks": ""
             }
            },
            "type": "scattermapbox"
           }
          ],
          "scatterpolar": [
           {
            "marker": {
             "colorbar": {
              "outlinewidth": 0,
              "ticks": ""
             }
            },
            "type": "scatterpolar"
           }
          ],
          "scatterpolargl": [
           {
            "marker": {
             "colorbar": {
              "outlinewidth": 0,
              "ticks": ""
             }
            },
            "type": "scatterpolargl"
           }
          ],
          "scatterternary": [
           {
            "marker": {
             "colorbar": {
              "outlinewidth": 0,
              "ticks": ""
             }
            },
            "type": "scatterternary"
           }
          ],
          "surface": [
           {
            "colorbar": {
             "outlinewidth": 0,
             "ticks": ""
            },
            "colorscale": [
             [
              0,
              "#0d0887"
             ],
             [
              0.1111111111111111,
              "#46039f"
             ],
             [
              0.2222222222222222,
              "#7201a8"
             ],
             [
              0.3333333333333333,
              "#9c179e"
             ],
             [
              0.4444444444444444,
              "#bd3786"
             ],
             [
              0.5555555555555556,
              "#d8576b"
             ],
             [
              0.6666666666666666,
              "#ed7953"
             ],
             [
              0.7777777777777778,
              "#fb9f3a"
             ],
             [
              0.8888888888888888,
              "#fdca26"
             ],
             [
              1,
              "#f0f921"
             ]
            ],
            "type": "surface"
           }
          ],
          "table": [
           {
            "cells": {
             "fill": {
              "color": "#EBF0F8"
             },
             "line": {
              "color": "white"
             }
            },
            "header": {
             "fill": {
              "color": "#C8D4E3"
             },
             "line": {
              "color": "white"
             }
            },
            "type": "table"
           }
          ]
         },
         "layout": {
          "annotationdefaults": {
           "arrowcolor": "#2a3f5f",
           "arrowhead": 0,
           "arrowwidth": 1
          },
          "autotypenumbers": "strict",
          "coloraxis": {
           "colorbar": {
            "outlinewidth": 0,
            "ticks": ""
           }
          },
          "colorscale": {
           "diverging": [
            [
             0,
             "#8e0152"
            ],
            [
             0.1,
             "#c51b7d"
            ],
            [
             0.2,
             "#de77ae"
            ],
            [
             0.3,
             "#f1b6da"
            ],
            [
             0.4,
             "#fde0ef"
            ],
            [
             0.5,
             "#f7f7f7"
            ],
            [
             0.6,
             "#e6f5d0"
            ],
            [
             0.7,
             "#b8e186"
            ],
            [
             0.8,
             "#7fbc41"
            ],
            [
             0.9,
             "#4d9221"
            ],
            [
             1,
             "#276419"
            ]
           ],
           "sequential": [
            [
             0,
             "#0d0887"
            ],
            [
             0.1111111111111111,
             "#46039f"
            ],
            [
             0.2222222222222222,
             "#7201a8"
            ],
            [
             0.3333333333333333,
             "#9c179e"
            ],
            [
             0.4444444444444444,
             "#bd3786"
            ],
            [
             0.5555555555555556,
             "#d8576b"
            ],
            [
             0.6666666666666666,
             "#ed7953"
            ],
            [
             0.7777777777777778,
             "#fb9f3a"
            ],
            [
             0.8888888888888888,
             "#fdca26"
            ],
            [
             1,
             "#f0f921"
            ]
           ],
           "sequentialminus": [
            [
             0,
             "#0d0887"
            ],
            [
             0.1111111111111111,
             "#46039f"
            ],
            [
             0.2222222222222222,
             "#7201a8"
            ],
            [
             0.3333333333333333,
             "#9c179e"
            ],
            [
             0.4444444444444444,
             "#bd3786"
            ],
            [
             0.5555555555555556,
             "#d8576b"
            ],
            [
             0.6666666666666666,
             "#ed7953"
            ],
            [
             0.7777777777777778,
             "#fb9f3a"
            ],
            [
             0.8888888888888888,
             "#fdca26"
            ],
            [
             1,
             "#f0f921"
            ]
           ]
          },
          "colorway": [
           "#636efa",
           "#EF553B",
           "#00cc96",
           "#ab63fa",
           "#FFA15A",
           "#19d3f3",
           "#FF6692",
           "#B6E880",
           "#FF97FF",
           "#FECB52"
          ],
          "font": {
           "color": "#2a3f5f"
          },
          "geo": {
           "bgcolor": "white",
           "lakecolor": "white",
           "landcolor": "#E5ECF6",
           "showlakes": true,
           "showland": true,
           "subunitcolor": "white"
          },
          "hoverlabel": {
           "align": "left"
          },
          "hovermode": "closest",
          "mapbox": {
           "style": "light"
          },
          "paper_bgcolor": "white",
          "plot_bgcolor": "#E5ECF6",
          "polar": {
           "angularaxis": {
            "gridcolor": "white",
            "linecolor": "white",
            "ticks": ""
           },
           "bgcolor": "#E5ECF6",
           "radialaxis": {
            "gridcolor": "white",
            "linecolor": "white",
            "ticks": ""
           }
          },
          "scene": {
           "xaxis": {
            "backgroundcolor": "#E5ECF6",
            "gridcolor": "white",
            "gridwidth": 2,
            "linecolor": "white",
            "showbackground": true,
            "ticks": "",
            "zerolinecolor": "white"
           },
           "yaxis": {
            "backgroundcolor": "#E5ECF6",
            "gridcolor": "white",
            "gridwidth": 2,
            "linecolor": "white",
            "showbackground": true,
            "ticks": "",
            "zerolinecolor": "white"
           },
           "zaxis": {
            "backgroundcolor": "#E5ECF6",
            "gridcolor": "white",
            "gridwidth": 2,
            "linecolor": "white",
            "showbackground": true,
            "ticks": "",
            "zerolinecolor": "white"
           }
          },
          "shapedefaults": {
           "line": {
            "color": "#2a3f5f"
           }
          },
          "ternary": {
           "aaxis": {
            "gridcolor": "white",
            "linecolor": "white",
            "ticks": ""
           },
           "baxis": {
            "gridcolor": "white",
            "linecolor": "white",
            "ticks": ""
           },
           "bgcolor": "#E5ECF6",
           "caxis": {
            "gridcolor": "white",
            "linecolor": "white",
            "ticks": ""
           }
          },
          "title": {
           "x": 0.05
          },
          "xaxis": {
           "automargin": true,
           "gridcolor": "white",
           "linecolor": "white",
           "ticks": "",
           "title": {
            "standoff": 15
           },
           "zerolinecolor": "white",
           "zerolinewidth": 2
          },
          "yaxis": {
           "automargin": true,
           "gridcolor": "white",
           "linecolor": "white",
           "ticks": "",
           "title": {
            "standoff": 15
           },
           "zerolinecolor": "white",
           "zerolinewidth": 2
          }
         }
        },
        "title": {
         "text": "Average Vessel Size and Average Hours at Berth for Seattle, WA"
        },
        "width": 800
       }
      }
     },
     "metadata": {},
     "output_type": "display_data"
    }
   ],
   "source": [
    "plot_mapbox(\n",
    "    df=docks_df,\n",
    "    lat_col='dock_lat',\n",
    "    lon_col='dock_lon',\n",
    "    size_col='vessel_size_mean',\n",
    "    color_col='hrs_at_berth_mean',\n",
    "    #symbol='facility_type', #NOTE not working; needs to be dock type (container terminal, bulk terminal, etc)\n",
    "    size_max=20,\n",
    "    title=f'Average Vessel Size and Average Hours at Berth for {port_name}',\n",
    "    hover_name='dock_name',\n",
    "    hover_data={'dock_name': True, 'vessel_size_mean': True},\n",
    "    mapbox_style='carto-positron',\n",
    "    color_outlier_z=1,\n",
    "    labels={\n",
    "        'vessel_size_median': 'Median Vessel Size (ft)',\n",
    "        'hrs_at_berth_median': 'Median Hours at Berth'\n",
    "    },\n",
    ")"
   ]
  },
  {
   "cell_type": "code",
   "execution_count": 22,
   "metadata": {},
   "outputs": [
    {
     "data": {
      "application/vnd.plotly.v1+json": {
       "config": {
        "plotlyServerURL": "https://plot.ly"
       },
       "data": [
        {
         "hovertemplate": "<b>%{hovertext}</b><br><br>vessel_size_mean=%{marker.size}<br>dock_lat=%{lat}<br>dock_lon=%{lon}<br>Mean Hours at Berth=%{marker.color}<extra></extra>",
         "hovertext": [
          "SSA TERMINALS, TERMINAL 37 WHARF",
          "TOTAL TERMINALS, TERMINAL 46 WHARF",
          "CRANE DOCK PIER 20",
          "SSA TERMINALS, TERMINAL 18, BERTH 7",
          "SSA TERMINALS, TERMINAL 25 WHARF",
          "S S A TERMINALS, TERMINAL 18, BERTHS 2-6",
          "B P OIL CO., SEATTLE TERMINAL, PIER NO. 11",
          "TRANS PACIFIC CONTAINER SERVICE CORP., TERMINAL 30 WHARF",
          "U. S. COAST GUARD, PIER 35",
          "BIRMINGHAM STEEL CORP., TERMINAL 105, BERTH NO. 1",
          "OPEN WATER-BUOYS & DOLPHINS",
          "ELLIOTT BAY GENERAL ANCHORAGE",
          "Birmingham Steel Corp., Terminal 105, Berth No. 2.",
          "PIER 34",
          "TERMINAL 5 SEATTLE, SSA MARINE",
          "PACIFIC TERMINALS LTD., WHARVES",
          "TODD PACIFIC SHIPYARDS CORP., BERTHS F-K, PIERS NO. 4-6",
          "CROWLEY MARITIME, TERMINAL 28 WHARF"
         ],
         "lat": [
          47.59222200000002,
          47.59666700000011,
          47.574757000000055,
          47.57611099999999,
          47.57555600000006,
          47.58355700000003,
          47.5825,
          47.58294300000004,
          47.58944400000007,
          47.565000000000026,
          47.583046000000095,
          47.59370500000003,
          47.56277800000002,
          47.587536000000064,
          47.57694400000004,
          47.57388900000004,
          47.58703100000008,
          47.57957300000006
         ],
         "legendgroup": "",
         "lon": [
          -122.34250000000027,
          -122.34111000000027,
          -122.34607699999965,
          -122.34582999999986,
          -122.34304999999992,
          -122.34612900000035,
          -122.35832999999973,
          -122.34292999999988,
          -122.34304999999992,
          -122.3488799999997,
          -122.36105000000013,
          -122.3525560000001,
          -122.34860999999982,
          -122.34255300000014,
          -122.36137999999956,
          -122.3588800000003,
          -122.356476,
          -122.3416989999996
         ],
         "marker": {
          "color": [
           45.56854460093897,
           38.56541666666668,
           61.17592592592592,
           27.085784313725487,
           143.89166666666668,
           47.989576271186394,
           18.133333333333333,
           30.012987987988,
           58.2025641025641,
           188.39166666666665,
           65.00625,
           16.049999999999997,
           129.5448717948718,
           51.524423758865254,
           46.39304635761593,
           20.1,
           44.4,
           18.95
          ],
          "coloraxis": "coloraxis",
          "size": [
           296.056338028169,
           306.15,
           160.44444444444446,
           205.2941176470588,
           262,
           307.50338983050847,
           183,
           263.7117117117117,
           225.6153846153846,
           159,
           292.625,
           199,
           168.53846153846155,
           298.31382978723406,
           274.9139072847682,
           262,
           227,
           251.5
          ],
          "sizemode": "area",
          "sizeref": 0.7687584745762712
         },
         "mode": "markers",
         "name": "",
         "showlegend": false,
         "subplot": "mapbox",
         "type": "scattermapbox"
        }
       ],
       "layout": {
        "annotations": [
         {
          "align": "left",
          "font": {
           "color": "black",
           "size": 13
          },
          "showarrow": false,
          "text": "Circle size corresponds to mean vessel length",
          "x": 0,
          "xref": "paper",
          "y": -0.05,
          "yref": "paper"
         }
        ],
        "coloraxis": {
         "colorbar": {
          "title": {
           "text": "Mean Hours at Berth"
          }
         },
         "colorscale": [
          [
           0,
           "#440154"
          ],
          [
           0.1111111111111111,
           "#482878"
          ],
          [
           0.2222222222222222,
           "#3e4989"
          ],
          [
           0.3333333333333333,
           "#31688e"
          ],
          [
           0.4444444444444444,
           "#26828e"
          ],
          [
           0.5555555555555556,
           "#1f9e89"
          ],
          [
           0.6666666666666666,
           "#35b779"
          ],
          [
           0.7777777777777778,
           "#6ece58"
          ],
          [
           0.8888888888888888,
           "#b5de2b"
          ],
          [
           1,
           "#fde725"
          ]
         ]
        },
        "height": 600,
        "legend": {
         "itemsizing": "constant",
         "tracegroupgap": 0
        },
        "mapbox": {
         "center": {
          "lat": 47.581292166666714,
          "lon": -122.34894944444439
         },
         "domain": {
          "x": [
           0,
           1
          ],
          "y": [
           0,
           1
          ]
         },
         "style": "carto-positron",
         "zoom": 11.883039123510514
        },
        "template": {
         "data": {
          "bar": [
           {
            "error_x": {
             "color": "#2a3f5f"
            },
            "error_y": {
             "color": "#2a3f5f"
            },
            "marker": {
             "line": {
              "color": "#E5ECF6",
              "width": 0.5
             },
             "pattern": {
              "fillmode": "overlay",
              "size": 10,
              "solidity": 0.2
             }
            },
            "type": "bar"
           }
          ],
          "barpolar": [
           {
            "marker": {
             "line": {
              "color": "#E5ECF6",
              "width": 0.5
             },
             "pattern": {
              "fillmode": "overlay",
              "size": 10,
              "solidity": 0.2
             }
            },
            "type": "barpolar"
           }
          ],
          "carpet": [
           {
            "aaxis": {
             "endlinecolor": "#2a3f5f",
             "gridcolor": "white",
             "linecolor": "white",
             "minorgridcolor": "white",
             "startlinecolor": "#2a3f5f"
            },
            "baxis": {
             "endlinecolor": "#2a3f5f",
             "gridcolor": "white",
             "linecolor": "white",
             "minorgridcolor": "white",
             "startlinecolor": "#2a3f5f"
            },
            "type": "carpet"
           }
          ],
          "choropleth": [
           {
            "colorbar": {
             "outlinewidth": 0,
             "ticks": ""
            },
            "type": "choropleth"
           }
          ],
          "contour": [
           {
            "colorbar": {
             "outlinewidth": 0,
             "ticks": ""
            },
            "colorscale": [
             [
              0,
              "#0d0887"
             ],
             [
              0.1111111111111111,
              "#46039f"
             ],
             [
              0.2222222222222222,
              "#7201a8"
             ],
             [
              0.3333333333333333,
              "#9c179e"
             ],
             [
              0.4444444444444444,
              "#bd3786"
             ],
             [
              0.5555555555555556,
              "#d8576b"
             ],
             [
              0.6666666666666666,
              "#ed7953"
             ],
             [
              0.7777777777777778,
              "#fb9f3a"
             ],
             [
              0.8888888888888888,
              "#fdca26"
             ],
             [
              1,
              "#f0f921"
             ]
            ],
            "type": "contour"
           }
          ],
          "contourcarpet": [
           {
            "colorbar": {
             "outlinewidth": 0,
             "ticks": ""
            },
            "type": "contourcarpet"
           }
          ],
          "heatmap": [
           {
            "colorbar": {
             "outlinewidth": 0,
             "ticks": ""
            },
            "colorscale": [
             [
              0,
              "#0d0887"
             ],
             [
              0.1111111111111111,
              "#46039f"
             ],
             [
              0.2222222222222222,
              "#7201a8"
             ],
             [
              0.3333333333333333,
              "#9c179e"
             ],
             [
              0.4444444444444444,
              "#bd3786"
             ],
             [
              0.5555555555555556,
              "#d8576b"
             ],
             [
              0.6666666666666666,
              "#ed7953"
             ],
             [
              0.7777777777777778,
              "#fb9f3a"
             ],
             [
              0.8888888888888888,
              "#fdca26"
             ],
             [
              1,
              "#f0f921"
             ]
            ],
            "type": "heatmap"
           }
          ],
          "heatmapgl": [
           {
            "colorbar": {
             "outlinewidth": 0,
             "ticks": ""
            },
            "colorscale": [
             [
              0,
              "#0d0887"
             ],
             [
              0.1111111111111111,
              "#46039f"
             ],
             [
              0.2222222222222222,
              "#7201a8"
             ],
             [
              0.3333333333333333,
              "#9c179e"
             ],
             [
              0.4444444444444444,
              "#bd3786"
             ],
             [
              0.5555555555555556,
              "#d8576b"
             ],
             [
              0.6666666666666666,
              "#ed7953"
             ],
             [
              0.7777777777777778,
              "#fb9f3a"
             ],
             [
              0.8888888888888888,
              "#fdca26"
             ],
             [
              1,
              "#f0f921"
             ]
            ],
            "type": "heatmapgl"
           }
          ],
          "histogram": [
           {
            "marker": {
             "pattern": {
              "fillmode": "overlay",
              "size": 10,
              "solidity": 0.2
             }
            },
            "type": "histogram"
           }
          ],
          "histogram2d": [
           {
            "colorbar": {
             "outlinewidth": 0,
             "ticks": ""
            },
            "colorscale": [
             [
              0,
              "#0d0887"
             ],
             [
              0.1111111111111111,
              "#46039f"
             ],
             [
              0.2222222222222222,
              "#7201a8"
             ],
             [
              0.3333333333333333,
              "#9c179e"
             ],
             [
              0.4444444444444444,
              "#bd3786"
             ],
             [
              0.5555555555555556,
              "#d8576b"
             ],
             [
              0.6666666666666666,
              "#ed7953"
             ],
             [
              0.7777777777777778,
              "#fb9f3a"
             ],
             [
              0.8888888888888888,
              "#fdca26"
             ],
             [
              1,
              "#f0f921"
             ]
            ],
            "type": "histogram2d"
           }
          ],
          "histogram2dcontour": [
           {
            "colorbar": {
             "outlinewidth": 0,
             "ticks": ""
            },
            "colorscale": [
             [
              0,
              "#0d0887"
             ],
             [
              0.1111111111111111,
              "#46039f"
             ],
             [
              0.2222222222222222,
              "#7201a8"
             ],
             [
              0.3333333333333333,
              "#9c179e"
             ],
             [
              0.4444444444444444,
              "#bd3786"
             ],
             [
              0.5555555555555556,
              "#d8576b"
             ],
             [
              0.6666666666666666,
              "#ed7953"
             ],
             [
              0.7777777777777778,
              "#fb9f3a"
             ],
             [
              0.8888888888888888,
              "#fdca26"
             ],
             [
              1,
              "#f0f921"
             ]
            ],
            "type": "histogram2dcontour"
           }
          ],
          "mesh3d": [
           {
            "colorbar": {
             "outlinewidth": 0,
             "ticks": ""
            },
            "type": "mesh3d"
           }
          ],
          "parcoords": [
           {
            "line": {
             "colorbar": {
              "outlinewidth": 0,
              "ticks": ""
             }
            },
            "type": "parcoords"
           }
          ],
          "pie": [
           {
            "automargin": true,
            "type": "pie"
           }
          ],
          "scatter": [
           {
            "fillpattern": {
             "fillmode": "overlay",
             "size": 10,
             "solidity": 0.2
            },
            "type": "scatter"
           }
          ],
          "scatter3d": [
           {
            "line": {
             "colorbar": {
              "outlinewidth": 0,
              "ticks": ""
             }
            },
            "marker": {
             "colorbar": {
              "outlinewidth": 0,
              "ticks": ""
             }
            },
            "type": "scatter3d"
           }
          ],
          "scattercarpet": [
           {
            "marker": {
             "colorbar": {
              "outlinewidth": 0,
              "ticks": ""
             }
            },
            "type": "scattercarpet"
           }
          ],
          "scattergeo": [
           {
            "marker": {
             "colorbar": {
              "outlinewidth": 0,
              "ticks": ""
             }
            },
            "type": "scattergeo"
           }
          ],
          "scattergl": [
           {
            "marker": {
             "colorbar": {
              "outlinewidth": 0,
              "ticks": ""
             }
            },
            "type": "scattergl"
           }
          ],
          "scattermapbox": [
           {
            "marker": {
             "colorbar": {
              "outlinewidth": 0,
              "ticks": ""
             }
            },
            "type": "scattermapbox"
           }
          ],
          "scatterpolar": [
           {
            "marker": {
             "colorbar": {
              "outlinewidth": 0,
              "ticks": ""
             }
            },
            "type": "scatterpolar"
           }
          ],
          "scatterpolargl": [
           {
            "marker": {
             "colorbar": {
              "outlinewidth": 0,
              "ticks": ""
             }
            },
            "type": "scatterpolargl"
           }
          ],
          "scatterternary": [
           {
            "marker": {
             "colorbar": {
              "outlinewidth": 0,
              "ticks": ""
             }
            },
            "type": "scatterternary"
           }
          ],
          "surface": [
           {
            "colorbar": {
             "outlinewidth": 0,
             "ticks": ""
            },
            "colorscale": [
             [
              0,
              "#0d0887"
             ],
             [
              0.1111111111111111,
              "#46039f"
             ],
             [
              0.2222222222222222,
              "#7201a8"
             ],
             [
              0.3333333333333333,
              "#9c179e"
             ],
             [
              0.4444444444444444,
              "#bd3786"
             ],
             [
              0.5555555555555556,
              "#d8576b"
             ],
             [
              0.6666666666666666,
              "#ed7953"
             ],
             [
              0.7777777777777778,
              "#fb9f3a"
             ],
             [
              0.8888888888888888,
              "#fdca26"
             ],
             [
              1,
              "#f0f921"
             ]
            ],
            "type": "surface"
           }
          ],
          "table": [
           {
            "cells": {
             "fill": {
              "color": "#EBF0F8"
             },
             "line": {
              "color": "white"
             }
            },
            "header": {
             "fill": {
              "color": "#C8D4E3"
             },
             "line": {
              "color": "white"
             }
            },
            "type": "table"
           }
          ]
         },
         "layout": {
          "annotationdefaults": {
           "arrowcolor": "#2a3f5f",
           "arrowhead": 0,
           "arrowwidth": 1
          },
          "autotypenumbers": "strict",
          "coloraxis": {
           "colorbar": {
            "outlinewidth": 0,
            "ticks": ""
           }
          },
          "colorscale": {
           "diverging": [
            [
             0,
             "#8e0152"
            ],
            [
             0.1,
             "#c51b7d"
            ],
            [
             0.2,
             "#de77ae"
            ],
            [
             0.3,
             "#f1b6da"
            ],
            [
             0.4,
             "#fde0ef"
            ],
            [
             0.5,
             "#f7f7f7"
            ],
            [
             0.6,
             "#e6f5d0"
            ],
            [
             0.7,
             "#b8e186"
            ],
            [
             0.8,
             "#7fbc41"
            ],
            [
             0.9,
             "#4d9221"
            ],
            [
             1,
             "#276419"
            ]
           ],
           "sequential": [
            [
             0,
             "#0d0887"
            ],
            [
             0.1111111111111111,
             "#46039f"
            ],
            [
             0.2222222222222222,
             "#7201a8"
            ],
            [
             0.3333333333333333,
             "#9c179e"
            ],
            [
             0.4444444444444444,
             "#bd3786"
            ],
            [
             0.5555555555555556,
             "#d8576b"
            ],
            [
             0.6666666666666666,
             "#ed7953"
            ],
            [
             0.7777777777777778,
             "#fb9f3a"
            ],
            [
             0.8888888888888888,
             "#fdca26"
            ],
            [
             1,
             "#f0f921"
            ]
           ],
           "sequentialminus": [
            [
             0,
             "#0d0887"
            ],
            [
             0.1111111111111111,
             "#46039f"
            ],
            [
             0.2222222222222222,
             "#7201a8"
            ],
            [
             0.3333333333333333,
             "#9c179e"
            ],
            [
             0.4444444444444444,
             "#bd3786"
            ],
            [
             0.5555555555555556,
             "#d8576b"
            ],
            [
             0.6666666666666666,
             "#ed7953"
            ],
            [
             0.7777777777777778,
             "#fb9f3a"
            ],
            [
             0.8888888888888888,
             "#fdca26"
            ],
            [
             1,
             "#f0f921"
            ]
           ]
          },
          "colorway": [
           "#636efa",
           "#EF553B",
           "#00cc96",
           "#ab63fa",
           "#FFA15A",
           "#19d3f3",
           "#FF6692",
           "#B6E880",
           "#FF97FF",
           "#FECB52"
          ],
          "font": {
           "color": "#2a3f5f"
          },
          "geo": {
           "bgcolor": "white",
           "lakecolor": "white",
           "landcolor": "#E5ECF6",
           "showlakes": true,
           "showland": true,
           "subunitcolor": "white"
          },
          "hoverlabel": {
           "align": "left"
          },
          "hovermode": "closest",
          "mapbox": {
           "style": "light"
          },
          "paper_bgcolor": "white",
          "plot_bgcolor": "#E5ECF6",
          "polar": {
           "angularaxis": {
            "gridcolor": "white",
            "linecolor": "white",
            "ticks": ""
           },
           "bgcolor": "#E5ECF6",
           "radialaxis": {
            "gridcolor": "white",
            "linecolor": "white",
            "ticks": ""
           }
          },
          "scene": {
           "xaxis": {
            "backgroundcolor": "#E5ECF6",
            "gridcolor": "white",
            "gridwidth": 2,
            "linecolor": "white",
            "showbackground": true,
            "ticks": "",
            "zerolinecolor": "white"
           },
           "yaxis": {
            "backgroundcolor": "#E5ECF6",
            "gridcolor": "white",
            "gridwidth": 2,
            "linecolor": "white",
            "showbackground": true,
            "ticks": "",
            "zerolinecolor": "white"
           },
           "zaxis": {
            "backgroundcolor": "#E5ECF6",
            "gridcolor": "white",
            "gridwidth": 2,
            "linecolor": "white",
            "showbackground": true,
            "ticks": "",
            "zerolinecolor": "white"
           }
          },
          "shapedefaults": {
           "line": {
            "color": "#2a3f5f"
           }
          },
          "ternary": {
           "aaxis": {
            "gridcolor": "white",
            "linecolor": "white",
            "ticks": ""
           },
           "baxis": {
            "gridcolor": "white",
            "linecolor": "white",
            "ticks": ""
           },
           "bgcolor": "#E5ECF6",
           "caxis": {
            "gridcolor": "white",
            "linecolor": "white",
            "ticks": ""
           }
          },
          "title": {
           "x": 0.05
          },
          "xaxis": {
           "automargin": true,
           "gridcolor": "white",
           "linecolor": "white",
           "ticks": "",
           "title": {
            "standoff": 15
           },
           "zerolinecolor": "white",
           "zerolinewidth": 2
          },
          "yaxis": {
           "automargin": true,
           "gridcolor": "white",
           "linecolor": "white",
           "ticks": "",
           "title": {
            "standoff": 15
           },
           "zerolinecolor": "white",
           "zerolinewidth": 2
          }
         }
        },
        "title": {
         "text": "Vessel Size & Hours at Berth"
        },
        "width": 800
       }
      }
     },
     "metadata": {},
     "output_type": "display_data"
    }
   ],
   "source": [
    "\n",
    "# seattle mapbox\n",
    "fig_seattle = px.scatter_mapbox(\n",
    "    docks_df,\n",
    "    lon='dock_lon',\n",
    "    lat='dock_lat',\n",
    "    size='vessel_size_mean',\n",
    "    color='hrs_at_berth_mean',\n",
    "    hover_name='dock_name',\n",
    "    #size_max=20,\n",
    "    title='Vessel Size & Hours at Berth',\n",
    "    color_continuous_scale=px.colors.sequential.Viridis,\n",
    "    labels={'hrs_at_berth_mean': 'Mean Hours at Berth'},\n",
    "    height=600, width=800\n",
    ")\n",
    "\n",
    "# Set Mapbox style\n",
    "fig_seattle.update_layout(\n",
    "    mapbox_style=\"carto-positron\", \n",
    "    mapbox_zoom=mapbox_zoom_finder(docks_df['dock_lon'], docks_df['dock_lat']),\n",
    "    mapbox_center={\"lat\": docks_df['dock_lat'].mean(), \n",
    "                   \"lon\": docks_df['dock_lon'].mean()},\n",
    ")\n",
    "\n",
    "# Add footnote using add_annotation\n",
    "fig_seattle.add_annotation(\n",
    "    text=\"Circle size corresponds to mean vessel length\",\n",
    "    xref=\"paper\", yref=\"paper\",\n",
    "    x=0, y=-0.05,\n",
    "    showarrow=False,\n",
    "    font=dict(size=13, color=\"black\"),\n",
    "    align=\"left\"\n",
    ")\n",
    "\n",
    "fig_seattle.show()"
   ]
  },
  {
   "cell_type": "markdown",
   "metadata": {},
   "source": [
    "## Point in Time Stats\n",
    "\n",
    "Still under development"
   ]
  },
  {
   "cell_type": "code",
   "execution_count": 73,
   "metadata": {},
   "outputs": [],
   "source": [
    "#get point in time stats\n",
    "\n",
    "#create point in time (pit) df to join stats to\n",
    "pit_df = (\n",
    "    main_lf\n",
    "    .with_columns(\n",
    "        date = pl.col('time').dt.date(),\n",
    "        month = pl.col('time').dt.strftime('%Y%m')\n",
    "    )\n",
    "    .select('port_name', 'dock_id', 'month', 'date')\n",
    "    .unique().collect()\n",
    ")\n",
    "\n",
    "for hour in range(0, 24):\n",
    "    #create a time object for each hour\n",
    "    hour_dt = pl.time(hour)\n",
    "    #create a dataframe for each hour\n",
    "    hour_df = (\n",
    "        main_lf\n",
    "        .with_columns(\n",
    "            #get end of status time\n",
    "            end_time = pl.col('time') + pl.col('status_duration'),\n",
    "            #get date from time\n",
    "            date = pl.col('time').dt.date(),\n",
    "            #get month from time\n",
    "            month = pl.col('time').dt.strftime('%Y%m')\n",
    "        )\n",
    "        #group by port dock and hour\n",
    "        .group_by(['port_name', 'dock_id', 'month', 'date'])\n",
    "        .agg(\n",
    "            #number of vessels at dock at each hour\n",
    "            vessels_at_dock = (\n",
    "                #when moored at hour\n",
    "                pl.when((pl.col('status')==5) & \n",
    "                        (hour_dt.is_between(pl.col('time').dt.time(), \n",
    "                                         pl.col('end_time').dt.time())))\n",
    "                #then count the individual vessels\n",
    "                .then(pl.col('imo'))\n",
    "                .otherwise(pl.lit(None))\n",
    "                .drop_nulls() #n_unique counts nulls as unique values\n",
    "                .n_unique()\n",
    "            ),\n",
    "            #number of vessels at anchor at each hour\n",
    "            vessels_at_anchor = (\n",
    "                #when anchored at hour\n",
    "                pl.when((pl.col('status')==1) & \n",
    "                        (hour_dt.is_between(pl.col('time').dt.time(), \n",
    "                                        pl.col('end_time').dt.time())))\n",
    "                #then count the individual vessels\n",
    "                .then(pl.col('imo'))\n",
    "                .otherwise(pl.lit(None))\n",
    "                .drop_nulls()\n",
    "                .n_unique()\n",
    "            )\n",
    "        )\n",
    "        .collect()\n",
    "    )\n",
    "    #join the hour dataframe to the main pit dataframe\n",
    "    pit_df = (\n",
    "        pit_df\n",
    "        .join(hour_df, \n",
    "              on=['port_name', 'dock_id', 'month', 'date'], \n",
    "              how='left')\n",
    "        #rename the columns to include the hour\n",
    "        .rename({\n",
    "            'vessels_at_dock': f'vessels_at_dock_{hour}',\n",
    "            'vessels_at_anchor': f'vessels_at_anchor_{hour}'\n",
    "        })\n",
    "    )\n",
    "\n",
    "#get port stats by month\n",
    "pit_df = (\n",
    "    pit_df\n",
    "    #group by port and date\n",
    "    .group_by(['port_name', 'month', 'date'])\n",
    "    .agg(\n",
    "        #sum the number of vessels at all docks at each hour\n",
    "        cs.starts_with('vessels_at_dock_').sum(),\n",
    "        #sum the number of vessels at anchor at each hour\n",
    "        cs.starts_with('vessels_at_anchor_').sum()\n",
    "    )\n",
    "    #get the max at any hour\n",
    "    .with_columns(\n",
    "        #get max at dock at any hour\n",
    "        vessels_at_dock_max = (\n",
    "            pl.max_horizontal(cs.starts_with('vessels_at_dock_'))\n",
    "        ),\n",
    "        #get mean at dock any hour\n",
    "        vessels_at_dock_mean = (\n",
    "            pl.mean_horizontal(cs.starts_with('vessels_at_dock_'))\n",
    "        ),\n",
    "        #get max at anchor at any hour\n",
    "        vessels_at_anchor_max = (\n",
    "            pl.max_horizontal(cs.starts_with('vessels_at_anchor_'))\n",
    "        ),\n",
    "        #get mean at anchor any hour\n",
    "        vessels_at_anchor_mean = (\n",
    "            pl.mean_horizontal(cs.starts_with('vessels_at_anchor_'))\n",
    "        )\n",
    "    )\n",
    "    #select the columns to keep\n",
    "    .select(['port_name', 'month', 'date', 'vessels_at_dock_max', \n",
    "             'vessels_at_dock_mean', 'vessels_at_anchor_max',\n",
    "             'vessels_at_anchor_mean'])\n",
    "    #aggregate by month\n",
    "    .group_by(['port_name', 'month'])\n",
    "    .agg(\n",
    "        #get max at anchor on any date during that month\n",
    "        vessels_at_anchor_max = pl.max('vessels_at_anchor_max'),\n",
    "        #get mean at anchor on any date during that month\n",
    "        vessels_at_anchor_mean = pl.mean('vessels_at_anchor_mean'),\n",
    "        #get max at dock on any date during that month\n",
    "        vessels_at_dock_max = pl.max('vessels_at_dock_max'),\n",
    "        #get mean at dock on any date during that month\n",
    "        vessels_at_dock_mean = pl.mean('vessels_at_dock_mean'\n",
    "        )\n",
    "    )\n",
    ")"
   ]
  },
  {
   "cell_type": "code",
   "execution_count": 74,
   "metadata": {},
   "outputs": [
    {
     "data": {
      "text/html": [
       "<div><style>\n",
       ".dataframe > thead > tr,\n",
       ".dataframe > tbody > tr {\n",
       "  text-align: right;\n",
       "  white-space: pre-wrap;\n",
       "}\n",
       "</style>\n",
       "<small>shape: (9, 7)</small><table border=\"1\" class=\"dataframe\"><thead><tr><th>statistic</th><th>port_name</th><th>month</th><th>vessels_at_anchor_max</th><th>vessels_at_anchor_mean</th><th>vessels_at_dock_max</th><th>vessels_at_dock_mean</th></tr><tr><td>str</td><td>str</td><td>str</td><td>f64</td><td>f64</td><td>f64</td><td>f64</td></tr></thead><tbody><tr><td>&quot;count&quot;</td><td>&quot;5200&quot;</td><td>&quot;5200&quot;</td><td>5200.0</td><td>5200.0</td><td>5200.0</td><td>5200.0</td></tr><tr><td>&quot;null_count&quot;</td><td>&quot;0&quot;</td><td>&quot;0&quot;</td><td>0.0</td><td>0.0</td><td>0.0</td><td>0.0</td></tr><tr><td>&quot;mean&quot;</td><td>null</td><td>null</td><td>0.783462</td><td>0.046248</td><td>2.598462</td><td>0.493748</td></tr><tr><td>&quot;std&quot;</td><td>null</td><td>null</td><td>0.796243</td><td>0.084986</td><td>1.76203</td><td>0.473728</td></tr><tr><td>&quot;min&quot;</td><td>&quot;Albany Port District, NY&quot;</td><td>&quot;201801&quot;</td><td>0.0</td><td>0.0</td><td>0.0</td><td>0.0</td></tr><tr><td>&quot;25%&quot;</td><td>null</td><td>null</td><td>0.0</td><td>0.0</td><td>1.0</td><td>0.194444</td></tr><tr><td>&quot;50%&quot;</td><td>null</td><td>null</td><td>1.0</td><td>0.013889</td><td>2.0</td><td>0.349702</td></tr><tr><td>&quot;75%&quot;</td><td>null</td><td>null</td><td>1.0</td><td>0.056452</td><td>3.0</td><td>0.610215</td></tr><tr><td>&quot;max&quot;</td><td>&quot;Wilmington, NC&quot;</td><td>&quot;202409&quot;</td><td>6.0</td><td>0.951389</td><td>12.0</td><td>3.938889</td></tr></tbody></table></div>"
      ],
      "text/plain": [
       "shape: (9, 7)\n",
       "┌────────────┬───────────────┬────────┬───────────────┬──────────────┬──────────────┬──────────────┐\n",
       "│ statistic  ┆ port_name     ┆ month  ┆ vessels_at_an ┆ vessels_at_a ┆ vessels_at_d ┆ vessels_at_d │\n",
       "│ ---        ┆ ---           ┆ ---    ┆ chor_max      ┆ nchor_mean   ┆ ock_max      ┆ ock_mean     │\n",
       "│ str        ┆ str           ┆ str    ┆ ---           ┆ ---          ┆ ---          ┆ ---          │\n",
       "│            ┆               ┆        ┆ f64           ┆ f64          ┆ f64          ┆ f64          │\n",
       "╞════════════╪═══════════════╪════════╪═══════════════╪══════════════╪══════════════╪══════════════╡\n",
       "│ count      ┆ 5200          ┆ 5200   ┆ 5200.0        ┆ 5200.0       ┆ 5200.0       ┆ 5200.0       │\n",
       "│ null_count ┆ 0             ┆ 0      ┆ 0.0           ┆ 0.0          ┆ 0.0          ┆ 0.0          │\n",
       "│ mean       ┆ null          ┆ null   ┆ 0.783462      ┆ 0.046248     ┆ 2.598462     ┆ 0.493748     │\n",
       "│ std        ┆ null          ┆ null   ┆ 0.796243      ┆ 0.084986     ┆ 1.76203      ┆ 0.473728     │\n",
       "│ min        ┆ Albany Port   ┆ 201801 ┆ 0.0           ┆ 0.0          ┆ 0.0          ┆ 0.0          │\n",
       "│            ┆ District, NY  ┆        ┆               ┆              ┆              ┆              │\n",
       "│ 25%        ┆ null          ┆ null   ┆ 0.0           ┆ 0.0          ┆ 1.0          ┆ 0.194444     │\n",
       "│ 50%        ┆ null          ┆ null   ┆ 1.0           ┆ 0.013889     ┆ 2.0          ┆ 0.349702     │\n",
       "│ 75%        ┆ null          ┆ null   ┆ 1.0           ┆ 0.056452     ┆ 3.0          ┆ 0.610215     │\n",
       "│ max        ┆ Wilmington,   ┆ 202409 ┆ 6.0           ┆ 0.951389     ┆ 12.0         ┆ 3.938889     │\n",
       "│            ┆ NC            ┆        ┆               ┆              ┆              ┆              │\n",
       "└────────────┴───────────────┴────────┴───────────────┴──────────────┴──────────────┴──────────────┘"
      ]
     },
     "metadata": {},
     "output_type": "display_data"
    },
    {
     "data": {
      "text/html": [
       "<div><style>\n",
       ".dataframe > thead > tr,\n",
       ".dataframe > tbody > tr {\n",
       "  text-align: right;\n",
       "  white-space: pre-wrap;\n",
       "}\n",
       "</style>\n",
       "<small>shape: (5, 6)</small><table border=\"1\" class=\"dataframe\"><thead><tr><th>port_name</th><th>month</th><th>vessels_at_anchor_max</th><th>vessels_at_anchor_mean</th><th>vessels_at_dock_max</th><th>vessels_at_dock_mean</th></tr><tr><td>str</td><td>str</td><td>u32</td><td>f64</td><td>u32</td><td>f64</td></tr></thead><tbody><tr><td>&quot;Sacramento-Yolo Port, CA&quot;</td><td>&quot;201904&quot;</td><td>0</td><td>0.0</td><td>2</td><td>0.6</td></tr><tr><td>&quot;New Haven, CT&quot;</td><td>&quot;202401&quot;</td><td>1</td><td>0.048246</td><td>1</td><td>0.149123</td></tr><tr><td>&quot;Port of Brunswick, GA&quot;</td><td>&quot;201902&quot;</td><td>1</td><td>0.070513</td><td>2</td><td>0.520833</td></tr><tr><td>&quot;Port of Vancouver USA, WA&quot;</td><td>&quot;202210&quot;</td><td>1</td><td>0.074074</td><td>3</td><td>0.876543</td></tr><tr><td>&quot;Anacortes, WA&quot;</td><td>&quot;202308&quot;</td><td>1</td><td>0.038462</td><td>2</td><td>0.344551</td></tr></tbody></table></div>"
      ],
      "text/plain": [
       "shape: (5, 6)\n",
       "┌─────────────────┬────────┬─────────────────┬─────────────────┬─────────────────┬─────────────────┐\n",
       "│ port_name       ┆ month  ┆ vessels_at_anch ┆ vessels_at_anch ┆ vessels_at_dock ┆ vessels_at_dock │\n",
       "│ ---             ┆ ---    ┆ or_max          ┆ or_mean         ┆ _max            ┆ _mean           │\n",
       "│ str             ┆ str    ┆ ---             ┆ ---             ┆ ---             ┆ ---             │\n",
       "│                 ┆        ┆ u32             ┆ f64             ┆ u32             ┆ f64             │\n",
       "╞═════════════════╪════════╪═════════════════╪═════════════════╪═════════════════╪═════════════════╡\n",
       "│ Sacramento-Yolo ┆ 201904 ┆ 0               ┆ 0.0             ┆ 2               ┆ 0.6             │\n",
       "│ Port, CA        ┆        ┆                 ┆                 ┆                 ┆                 │\n",
       "│ New Haven, CT   ┆ 202401 ┆ 1               ┆ 0.048246        ┆ 1               ┆ 0.149123        │\n",
       "│ Port of         ┆ 201902 ┆ 1               ┆ 0.070513        ┆ 2               ┆ 0.520833        │\n",
       "│ Brunswick, GA   ┆        ┆                 ┆                 ┆                 ┆                 │\n",
       "│ Port of         ┆ 202210 ┆ 1               ┆ 0.074074        ┆ 3               ┆ 0.876543        │\n",
       "│ Vancouver USA,  ┆        ┆                 ┆                 ┆                 ┆                 │\n",
       "│ WA              ┆        ┆                 ┆                 ┆                 ┆                 │\n",
       "│ Anacortes, WA   ┆ 202308 ┆ 1               ┆ 0.038462        ┆ 2               ┆ 0.344551        │\n",
       "└─────────────────┴────────┴─────────────────┴─────────────────┴─────────────────┴─────────────────┘"
      ]
     },
     "execution_count": 74,
     "metadata": {},
     "output_type": "execute_result"
    }
   ],
   "source": [
    "#inspect\n",
    "display(pit_df.describe())\n",
    "pit_df.head()"
   ]
  },
  {
   "cell_type": "markdown",
   "metadata": {},
   "source": [
    "### Max/Mean stats for vessels_at_dock \n",
    "\n",
    "- Current output seems far too low - e.g. Port of LA shows a max of 11 vessels at dock at any time since 2018; since there are 37 docks at LA we expect a max in the 20s or higher. "
   ]
  },
  {
   "cell_type": "code",
   "execution_count": 75,
   "metadata": {},
   "outputs": [
    {
     "data": {
      "text/html": [
       "<div><style>\n",
       ".dataframe > thead > tr,\n",
       ".dataframe > tbody > tr {\n",
       "  text-align: right;\n",
       "  white-space: pre-wrap;\n",
       "}\n",
       "</style>\n",
       "<small>shape: (81, 6)</small><table border=\"1\" class=\"dataframe\"><thead><tr><th>port_name</th><th>month</th><th>vessels_at_anchor_max</th><th>vessels_at_anchor_mean</th><th>vessels_at_dock_max</th><th>vessels_at_dock_mean</th></tr><tr><td>str</td><td>str</td><td>u32</td><td>f64</td><td>u32</td><td>f64</td></tr></thead><tbody><tr><td>&quot;Port of Los Angeles, CA&quot;</td><td>&quot;201801&quot;</td><td>2</td><td>0.147849</td><td>6</td><td>1.313172</td></tr><tr><td>&quot;Port of Los Angeles, CA&quot;</td><td>&quot;201802&quot;</td><td>3</td><td>0.241071</td><td>4</td><td>0.837798</td></tr><tr><td>&quot;Port of Los Angeles, CA&quot;</td><td>&quot;201803&quot;</td><td>2</td><td>0.283602</td><td>8</td><td>1.688172</td></tr><tr><td>&quot;Port of Los Angeles, CA&quot;</td><td>&quot;201804&quot;</td><td>3</td><td>0.277778</td><td>7</td><td>1.15</td></tr><tr><td>&quot;Port of Los Angeles, CA&quot;</td><td>&quot;201805&quot;</td><td>2</td><td>0.291667</td><td>5</td><td>1.221774</td></tr><tr><td>&quot;Port of Los Angeles, CA&quot;</td><td>&quot;201806&quot;</td><td>2</td><td>0.222222</td><td>5</td><td>1.441667</td></tr><tr><td>&quot;Port of Los Angeles, CA&quot;</td><td>&quot;201807&quot;</td><td>4</td><td>0.245968</td><td>5</td><td>1.271505</td></tr><tr><td>&quot;Port of Los Angeles, CA&quot;</td><td>&quot;201808&quot;</td><td>2</td><td>0.165323</td><td>7</td><td>1.447581</td></tr><tr><td>&quot;Port of Los Angeles, CA&quot;</td><td>&quot;201809&quot;</td><td>2</td><td>0.243056</td><td>7</td><td>1.172222</td></tr><tr><td>&quot;Port of Los Angeles, CA&quot;</td><td>&quot;201810&quot;</td><td>3</td><td>0.241935</td><td>7</td><td>1.552419</td></tr><tr><td>&quot;Port of Los Angeles, CA&quot;</td><td>&quot;201811&quot;</td><td>1</td><td>0.115278</td><td>5</td><td>1.491667</td></tr><tr><td>&quot;Port of Los Angeles, CA&quot;</td><td>&quot;201812&quot;</td><td>3</td><td>0.245968</td><td>7</td><td>1.698925</td></tr><tr><td>&quot;Port of Los Angeles, CA&quot;</td><td>&quot;201901&quot;</td><td>3</td><td>0.30914</td><td>9</td><td>1.454301</td></tr><tr><td>&quot;Port of Los Angeles, CA&quot;</td><td>&quot;201902&quot;</td><td>2</td><td>0.244048</td><td>5</td><td>1.071429</td></tr><tr><td>&quot;Port of Los Angeles, CA&quot;</td><td>&quot;201903&quot;</td><td>2</td><td>0.181452</td><td>5</td><td>1.430108</td></tr><tr><td>&quot;Port of Los Angeles, CA&quot;</td><td>&quot;201904&quot;</td><td>3</td><td>0.4125</td><td>8</td><td>1.5625</td></tr><tr><td>&quot;Port of Los Angeles, CA&quot;</td><td>&quot;201905&quot;</td><td>3</td><td>0.288978</td><td>8</td><td>1.956989</td></tr><tr><td>&quot;Port of Los Angeles, CA&quot;</td><td>&quot;201906&quot;</td><td>2</td><td>0.233333</td><td>6</td><td>1.3375</td></tr><tr><td>&quot;Port of Los Angeles, CA&quot;</td><td>&quot;201907&quot;</td><td>3</td><td>0.224462</td><td>5</td><td>1.205645</td></tr><tr><td>&quot;Port of Los Angeles, CA&quot;</td><td>&quot;201908&quot;</td><td>2</td><td>0.182796</td><td>5</td><td>1.251344</td></tr><tr><td>&quot;Port of Los Angeles, CA&quot;</td><td>&quot;201909&quot;</td><td>3</td><td>0.276389</td><td>7</td><td>1.641667</td></tr><tr><td>&quot;Port of Los Angeles, CA&quot;</td><td>&quot;201910&quot;</td><td>1</td><td>0.107527</td><td>5</td><td>1.354839</td></tr><tr><td>&quot;Port of Los Angeles, CA&quot;</td><td>&quot;201911&quot;</td><td>2</td><td>0.161111</td><td>5</td><td>1.419444</td></tr><tr><td>&quot;Port of Los Angeles, CA&quot;</td><td>&quot;201912&quot;</td><td>5</td><td>0.16129</td><td>7</td><td>1.831989</td></tr><tr><td>&quot;Port of Los Angeles, CA&quot;</td><td>&quot;202001&quot;</td><td>2</td><td>0.087366</td><td>5</td><td>1.075269</td></tr><tr><td>&quot;Port of Los Angeles, CA&quot;</td><td>&quot;202002&quot;</td><td>1</td><td>0.119253</td><td>5</td><td>0.91092</td></tr><tr><td>&quot;Port of Los Angeles, CA&quot;</td><td>&quot;202003&quot;</td><td>3</td><td>0.283602</td><td>7</td><td>1.455645</td></tr><tr><td>&quot;Port of Los Angeles, CA&quot;</td><td>&quot;202004&quot;</td><td>2</td><td>0.093056</td><td>6</td><td>1.2375</td></tr><tr><td>&quot;Port of Los Angeles, CA&quot;</td><td>&quot;202005&quot;</td><td>2</td><td>0.192204</td><td>4</td><td>0.762097</td></tr><tr><td>&quot;Port of Los Angeles, CA&quot;</td><td>&quot;202006&quot;</td><td>1</td><td>0.065278</td><td>3</td><td>0.704167</td></tr><tr><td>&quot;Port of Los Angeles, CA&quot;</td><td>&quot;202007&quot;</td><td>2</td><td>0.155914</td><td>4</td><td>1.114247</td></tr><tr><td>&quot;Port of Los Angeles, CA&quot;</td><td>&quot;202008&quot;</td><td>2</td><td>0.122312</td><td>5</td><td>1.321237</td></tr><tr><td>&quot;Port of Los Angeles, CA&quot;</td><td>&quot;202009&quot;</td><td>2</td><td>0.151389</td><td>5</td><td>1.405556</td></tr><tr><td>&quot;Port of Los Angeles, CA&quot;</td><td>&quot;202010&quot;</td><td>3</td><td>0.255376</td><td>6</td><td>1.680108</td></tr><tr><td>&quot;Port of Los Angeles, CA&quot;</td><td>&quot;202011&quot;</td><td>2</td><td>0.247222</td><td>7</td><td>1.861111</td></tr><tr><td>&quot;Port of Los Angeles, CA&quot;</td><td>&quot;202012&quot;</td><td>3</td><td>0.393056</td><td>7</td><td>1.544444</td></tr><tr><td>&quot;Port of Los Angeles, CA&quot;</td><td>&quot;202101&quot;</td><td>2</td><td>0.215054</td><td>6</td><td>1.541667</td></tr><tr><td>&quot;Port of Los Angeles, CA&quot;</td><td>&quot;202102&quot;</td><td>2</td><td>0.3125</td><td>7</td><td>1.803571</td></tr><tr><td>&quot;Port of Los Angeles, CA&quot;</td><td>&quot;202103&quot;</td><td>3</td><td>0.385753</td><td>9</td><td>2.241935</td></tr><tr><td>&quot;Port of Los Angeles, CA&quot;</td><td>&quot;202104&quot;</td><td>3</td><td>0.477778</td><td>8</td><td>2.676389</td></tr><tr><td>&quot;Port of Los Angeles, CA&quot;</td><td>&quot;202105&quot;</td><td>3</td><td>0.494624</td><td>7</td><td>1.974462</td></tr><tr><td>&quot;Port of Los Angeles, CA&quot;</td><td>&quot;202106&quot;</td><td>5</td><td>0.484722</td><td>8</td><td>2.048611</td></tr><tr><td>&quot;Port of Los Angeles, CA&quot;</td><td>&quot;202107&quot;</td><td>3</td><td>0.395161</td><td>8</td><td>2.525538</td></tr><tr><td>&quot;Port of Los Angeles, CA&quot;</td><td>&quot;202108&quot;</td><td>4</td><td>0.553763</td><td>8</td><td>2.662634</td></tr><tr><td>&quot;Port of Los Angeles, CA&quot;</td><td>&quot;202109&quot;</td><td>4</td><td>0.577778</td><td>10</td><td>2.766667</td></tr><tr><td>&quot;Port of Los Angeles, CA&quot;</td><td>&quot;202110&quot;</td><td>3</td><td>0.459677</td><td>7</td><td>2.092742</td></tr><tr><td>&quot;Port of Los Angeles, CA&quot;</td><td>&quot;202111&quot;</td><td>3</td><td>0.279167</td><td>7</td><td>2.0125</td></tr><tr><td>&quot;Port of Los Angeles, CA&quot;</td><td>&quot;202112&quot;</td><td>3</td><td>0.31586</td><td>8</td><td>1.877688</td></tr><tr><td>&quot;Port of Los Angeles, CA&quot;</td><td>&quot;202201&quot;</td><td>4</td><td>0.701613</td><td>9</td><td>2.612903</td></tr><tr><td>&quot;Port of Los Angeles, CA&quot;</td><td>&quot;202202&quot;</td><td>3</td><td>0.38244</td><td>9</td><td>2.409226</td></tr><tr><td>&quot;Port of Los Angeles, CA&quot;</td><td>&quot;202203&quot;</td><td>4</td><td>0.482527</td><td>6</td><td>2.162634</td></tr><tr><td>&quot;Port of Los Angeles, CA&quot;</td><td>&quot;202204&quot;</td><td>3</td><td>0.554167</td><td>8</td><td>2.745833</td></tr><tr><td>&quot;Port of Los Angeles, CA&quot;</td><td>&quot;202205&quot;</td><td>2</td><td>0.30914</td><td>8</td><td>1.806452</td></tr><tr><td>&quot;Port of Los Angeles, CA&quot;</td><td>&quot;202206&quot;</td><td>5</td><td>0.3875</td><td>6</td><td>1.808333</td></tr><tr><td>&quot;Port of Los Angeles, CA&quot;</td><td>&quot;202207&quot;</td><td>2</td><td>0.247312</td><td>5</td><td>1.337366</td></tr><tr><td>&quot;Port of Los Angeles, CA&quot;</td><td>&quot;202208&quot;</td><td>3</td><td>0.206989</td><td>6</td><td>1.614247</td></tr><tr><td>&quot;Port of Los Angeles, CA&quot;</td><td>&quot;202209&quot;</td><td>2</td><td>0.186111</td><td>4</td><td>1.002778</td></tr><tr><td>&quot;Port of Los Angeles, CA&quot;</td><td>&quot;202210&quot;</td><td>2</td><td>0.201613</td><td>6</td><td>0.952957</td></tr><tr><td>&quot;Port of Los Angeles, CA&quot;</td><td>&quot;202211&quot;</td><td>2</td><td>0.073611</td><td>4</td><td>0.768056</td></tr><tr><td>&quot;Port of Los Angeles, CA&quot;</td><td>&quot;202212&quot;</td><td>4</td><td>0.325269</td><td>4</td><td>0.811828</td></tr><tr><td>&quot;Port of Los Angeles, CA&quot;</td><td>&quot;202301&quot;</td><td>2</td><td>0.247312</td><td>6</td><td>0.771505</td></tr><tr><td>&quot;Port of Los Angeles, CA&quot;</td><td>&quot;202302&quot;</td><td>3</td><td>0.294643</td><td>4</td><td>0.813988</td></tr><tr><td>&quot;Port of Los Angeles, CA&quot;</td><td>&quot;202303&quot;</td><td>2</td><td>0.259409</td><td>5</td><td>1.047043</td></tr><tr><td>&quot;Port of Los Angeles, CA&quot;</td><td>&quot;202304&quot;</td><td>2</td><td>0.241667</td><td>5</td><td>1.291667</td></tr><tr><td>&quot;Port of Los Angeles, CA&quot;</td><td>&quot;202305&quot;</td><td>2</td><td>0.196237</td><td>4</td><td>1.009409</td></tr><tr><td>&quot;Port of Los Angeles, CA&quot;</td><td>&quot;202306&quot;</td><td>3</td><td>0.322222</td><td>3</td><td>0.904167</td></tr><tr><td>&quot;Port of Los Angeles, CA&quot;</td><td>&quot;202307&quot;</td><td>3</td><td>0.194892</td><td>5</td><td>1.322581</td></tr><tr><td>&quot;Port of Los Angeles, CA&quot;</td><td>&quot;202308&quot;</td><td>3</td><td>0.221774</td><td>4</td><td>0.610215</td></tr><tr><td>&quot;Port of Los Angeles, CA&quot;</td><td>&quot;202309&quot;</td><td>2</td><td>0.158046</td><td>6</td><td>1.156609</td></tr><tr><td>&quot;Port of Los Angeles, CA&quot;</td><td>&quot;202310&quot;</td><td>2</td><td>0.240591</td><td>4</td><td>0.80914</td></tr><tr><td>&quot;Port of Los Angeles, CA&quot;</td><td>&quot;202311&quot;</td><td>2</td><td>0.213889</td><td>3</td><td>0.693056</td></tr><tr><td>&quot;Port of Los Angeles, CA&quot;</td><td>&quot;202312&quot;</td><td>2</td><td>0.201613</td><td>5</td><td>0.948925</td></tr><tr><td>&quot;Port of Los Angeles, CA&quot;</td><td>&quot;202401&quot;</td><td>2</td><td>0.166667</td><td>6</td><td>0.959677</td></tr><tr><td>&quot;Port of Los Angeles, CA&quot;</td><td>&quot;202402&quot;</td><td>2</td><td>0.228448</td><td>4</td><td>1.041667</td></tr><tr><td>&quot;Port of Los Angeles, CA&quot;</td><td>&quot;202403&quot;</td><td>2</td><td>0.28629</td><td>5</td><td>1.041667</td></tr><tr><td>&quot;Port of Los Angeles, CA&quot;</td><td>&quot;202404&quot;</td><td>4</td><td>0.415278</td><td>5</td><td>0.969444</td></tr><tr><td>&quot;Port of Los Angeles, CA&quot;</td><td>&quot;202405&quot;</td><td>3</td><td>0.376344</td><td>4</td><td>1.00672</td></tr><tr><td>&quot;Port of Los Angeles, CA&quot;</td><td>&quot;202406&quot;</td><td>2</td><td>0.276389</td><td>4</td><td>1.073611</td></tr><tr><td>&quot;Port of Los Angeles, CA&quot;</td><td>&quot;202407&quot;</td><td>2</td><td>0.268817</td><td>4</td><td>0.774194</td></tr><tr><td>&quot;Port of Los Angeles, CA&quot;</td><td>&quot;202408&quot;</td><td>3</td><td>0.258065</td><td>4</td><td>0.802419</td></tr><tr><td>&quot;Port of Los Angeles, CA&quot;</td><td>&quot;202409&quot;</td><td>3</td><td>0.240278</td><td>4</td><td>0.947222</td></tr></tbody></table></div>"
      ],
      "text/plain": [
       "shape: (81, 6)\n",
       "┌─────────────┬────────┬──────────────────┬──────────────────┬──────────────────┬──────────────────┐\n",
       "│ port_name   ┆ month  ┆ vessels_at_ancho ┆ vessels_at_ancho ┆ vessels_at_dock_ ┆ vessels_at_dock_ │\n",
       "│ ---         ┆ ---    ┆ r_max            ┆ r_mean           ┆ max              ┆ mean             │\n",
       "│ str         ┆ str    ┆ ---              ┆ ---              ┆ ---              ┆ ---              │\n",
       "│             ┆        ┆ u32              ┆ f64              ┆ u32              ┆ f64              │\n",
       "╞═════════════╪════════╪══════════════════╪══════════════════╪══════════════════╪══════════════════╡\n",
       "│ Port of Los ┆ 201801 ┆ 2                ┆ 0.147849         ┆ 6                ┆ 1.313172         │\n",
       "│ Angeles, CA ┆        ┆                  ┆                  ┆                  ┆                  │\n",
       "│ Port of Los ┆ 201802 ┆ 3                ┆ 0.241071         ┆ 4                ┆ 0.837798         │\n",
       "│ Angeles, CA ┆        ┆                  ┆                  ┆                  ┆                  │\n",
       "│ Port of Los ┆ 201803 ┆ 2                ┆ 0.283602         ┆ 8                ┆ 1.688172         │\n",
       "│ Angeles, CA ┆        ┆                  ┆                  ┆                  ┆                  │\n",
       "│ Port of Los ┆ 201804 ┆ 3                ┆ 0.277778         ┆ 7                ┆ 1.15             │\n",
       "│ Angeles, CA ┆        ┆                  ┆                  ┆                  ┆                  │\n",
       "│ Port of Los ┆ 201805 ┆ 2                ┆ 0.291667         ┆ 5                ┆ 1.221774         │\n",
       "│ Angeles, CA ┆        ┆                  ┆                  ┆                  ┆                  │\n",
       "│ Port of Los ┆ 201806 ┆ 2                ┆ 0.222222         ┆ 5                ┆ 1.441667         │\n",
       "│ Angeles, CA ┆        ┆                  ┆                  ┆                  ┆                  │\n",
       "│ Port of Los ┆ 201807 ┆ 4                ┆ 0.245968         ┆ 5                ┆ 1.271505         │\n",
       "│ Angeles, CA ┆        ┆                  ┆                  ┆                  ┆                  │\n",
       "│ Port of Los ┆ 201808 ┆ 2                ┆ 0.165323         ┆ 7                ┆ 1.447581         │\n",
       "│ Angeles, CA ┆        ┆                  ┆                  ┆                  ┆                  │\n",
       "│ Port of Los ┆ 201809 ┆ 2                ┆ 0.243056         ┆ 7                ┆ 1.172222         │\n",
       "│ Angeles, CA ┆        ┆                  ┆                  ┆                  ┆                  │\n",
       "│ Port of Los ┆ 201810 ┆ 3                ┆ 0.241935         ┆ 7                ┆ 1.552419         │\n",
       "│ Angeles, CA ┆        ┆                  ┆                  ┆                  ┆                  │\n",
       "│ Port of Los ┆ 201811 ┆ 1                ┆ 0.115278         ┆ 5                ┆ 1.491667         │\n",
       "│ Angeles, CA ┆        ┆                  ┆                  ┆                  ┆                  │\n",
       "│ Port of Los ┆ 201812 ┆ 3                ┆ 0.245968         ┆ 7                ┆ 1.698925         │\n",
       "│ Angeles, CA ┆        ┆                  ┆                  ┆                  ┆                  │\n",
       "│ Port of Los ┆ 201901 ┆ 3                ┆ 0.30914          ┆ 9                ┆ 1.454301         │\n",
       "│ Angeles, CA ┆        ┆                  ┆                  ┆                  ┆                  │\n",
       "│ Port of Los ┆ 201902 ┆ 2                ┆ 0.244048         ┆ 5                ┆ 1.071429         │\n",
       "│ Angeles, CA ┆        ┆                  ┆                  ┆                  ┆                  │\n",
       "│ Port of Los ┆ 201903 ┆ 2                ┆ 0.181452         ┆ 5                ┆ 1.430108         │\n",
       "│ Angeles, CA ┆        ┆                  ┆                  ┆                  ┆                  │\n",
       "│ Port of Los ┆ 201904 ┆ 3                ┆ 0.4125           ┆ 8                ┆ 1.5625           │\n",
       "│ Angeles, CA ┆        ┆                  ┆                  ┆                  ┆                  │\n",
       "│ Port of Los ┆ 201905 ┆ 3                ┆ 0.288978         ┆ 8                ┆ 1.956989         │\n",
       "│ Angeles, CA ┆        ┆                  ┆                  ┆                  ┆                  │\n",
       "│ Port of Los ┆ 201906 ┆ 2                ┆ 0.233333         ┆ 6                ┆ 1.3375           │\n",
       "│ Angeles, CA ┆        ┆                  ┆                  ┆                  ┆                  │\n",
       "│ Port of Los ┆ 201907 ┆ 3                ┆ 0.224462         ┆ 5                ┆ 1.205645         │\n",
       "│ Angeles, CA ┆        ┆                  ┆                  ┆                  ┆                  │\n",
       "│ Port of Los ┆ 201908 ┆ 2                ┆ 0.182796         ┆ 5                ┆ 1.251344         │\n",
       "│ Angeles, CA ┆        ┆                  ┆                  ┆                  ┆                  │\n",
       "│ Port of Los ┆ 201909 ┆ 3                ┆ 0.276389         ┆ 7                ┆ 1.641667         │\n",
       "│ Angeles, CA ┆        ┆                  ┆                  ┆                  ┆                  │\n",
       "│ Port of Los ┆ 201910 ┆ 1                ┆ 0.107527         ┆ 5                ┆ 1.354839         │\n",
       "│ Angeles, CA ┆        ┆                  ┆                  ┆                  ┆                  │\n",
       "│ Port of Los ┆ 201911 ┆ 2                ┆ 0.161111         ┆ 5                ┆ 1.419444         │\n",
       "│ Angeles, CA ┆        ┆                  ┆                  ┆                  ┆                  │\n",
       "│ Port of Los ┆ 201912 ┆ 5                ┆ 0.16129          ┆ 7                ┆ 1.831989         │\n",
       "│ Angeles, CA ┆        ┆                  ┆                  ┆                  ┆                  │\n",
       "│ Port of Los ┆ 202001 ┆ 2                ┆ 0.087366         ┆ 5                ┆ 1.075269         │\n",
       "│ Angeles, CA ┆        ┆                  ┆                  ┆                  ┆                  │\n",
       "│ Port of Los ┆ 202002 ┆ 1                ┆ 0.119253         ┆ 5                ┆ 0.91092          │\n",
       "│ Angeles, CA ┆        ┆                  ┆                  ┆                  ┆                  │\n",
       "│ Port of Los ┆ 202003 ┆ 3                ┆ 0.283602         ┆ 7                ┆ 1.455645         │\n",
       "│ Angeles, CA ┆        ┆                  ┆                  ┆                  ┆                  │\n",
       "│ Port of Los ┆ 202004 ┆ 2                ┆ 0.093056         ┆ 6                ┆ 1.2375           │\n",
       "│ Angeles, CA ┆        ┆                  ┆                  ┆                  ┆                  │\n",
       "│ Port of Los ┆ 202005 ┆ 2                ┆ 0.192204         ┆ 4                ┆ 0.762097         │\n",
       "│ Angeles, CA ┆        ┆                  ┆                  ┆                  ┆                  │\n",
       "│ Port of Los ┆ 202006 ┆ 1                ┆ 0.065278         ┆ 3                ┆ 0.704167         │\n",
       "│ Angeles, CA ┆        ┆                  ┆                  ┆                  ┆                  │\n",
       "│ Port of Los ┆ 202007 ┆ 2                ┆ 0.155914         ┆ 4                ┆ 1.114247         │\n",
       "│ Angeles, CA ┆        ┆                  ┆                  ┆                  ┆                  │\n",
       "│ Port of Los ┆ 202008 ┆ 2                ┆ 0.122312         ┆ 5                ┆ 1.321237         │\n",
       "│ Angeles, CA ┆        ┆                  ┆                  ┆                  ┆                  │\n",
       "│ Port of Los ┆ 202009 ┆ 2                ┆ 0.151389         ┆ 5                ┆ 1.405556         │\n",
       "│ Angeles, CA ┆        ┆                  ┆                  ┆                  ┆                  │\n",
       "│ Port of Los ┆ 202010 ┆ 3                ┆ 0.255376         ┆ 6                ┆ 1.680108         │\n",
       "│ Angeles, CA ┆        ┆                  ┆                  ┆                  ┆                  │\n",
       "│ Port of Los ┆ 202011 ┆ 2                ┆ 0.247222         ┆ 7                ┆ 1.861111         │\n",
       "│ Angeles, CA ┆        ┆                  ┆                  ┆                  ┆                  │\n",
       "│ Port of Los ┆ 202012 ┆ 3                ┆ 0.393056         ┆ 7                ┆ 1.544444         │\n",
       "│ Angeles, CA ┆        ┆                  ┆                  ┆                  ┆                  │\n",
       "│ Port of Los ┆ 202101 ┆ 2                ┆ 0.215054         ┆ 6                ┆ 1.541667         │\n",
       "│ Angeles, CA ┆        ┆                  ┆                  ┆                  ┆                  │\n",
       "│ Port of Los ┆ 202102 ┆ 2                ┆ 0.3125           ┆ 7                ┆ 1.803571         │\n",
       "│ Angeles, CA ┆        ┆                  ┆                  ┆                  ┆                  │\n",
       "│ Port of Los ┆ 202103 ┆ 3                ┆ 0.385753         ┆ 9                ┆ 2.241935         │\n",
       "│ Angeles, CA ┆        ┆                  ┆                  ┆                  ┆                  │\n",
       "│ Port of Los ┆ 202104 ┆ 3                ┆ 0.477778         ┆ 8                ┆ 2.676389         │\n",
       "│ Angeles, CA ┆        ┆                  ┆                  ┆                  ┆                  │\n",
       "│ Port of Los ┆ 202105 ┆ 3                ┆ 0.494624         ┆ 7                ┆ 1.974462         │\n",
       "│ Angeles, CA ┆        ┆                  ┆                  ┆                  ┆                  │\n",
       "│ Port of Los ┆ 202106 ┆ 5                ┆ 0.484722         ┆ 8                ┆ 2.048611         │\n",
       "│ Angeles, CA ┆        ┆                  ┆                  ┆                  ┆                  │\n",
       "│ Port of Los ┆ 202107 ┆ 3                ┆ 0.395161         ┆ 8                ┆ 2.525538         │\n",
       "│ Angeles, CA ┆        ┆                  ┆                  ┆                  ┆                  │\n",
       "│ Port of Los ┆ 202108 ┆ 4                ┆ 0.553763         ┆ 8                ┆ 2.662634         │\n",
       "│ Angeles, CA ┆        ┆                  ┆                  ┆                  ┆                  │\n",
       "│ Port of Los ┆ 202109 ┆ 4                ┆ 0.577778         ┆ 10               ┆ 2.766667         │\n",
       "│ Angeles, CA ┆        ┆                  ┆                  ┆                  ┆                  │\n",
       "│ Port of Los ┆ 202110 ┆ 3                ┆ 0.459677         ┆ 7                ┆ 2.092742         │\n",
       "│ Angeles, CA ┆        ┆                  ┆                  ┆                  ┆                  │\n",
       "│ Port of Los ┆ 202111 ┆ 3                ┆ 0.279167         ┆ 7                ┆ 2.0125           │\n",
       "│ Angeles, CA ┆        ┆                  ┆                  ┆                  ┆                  │\n",
       "│ Port of Los ┆ 202112 ┆ 3                ┆ 0.31586          ┆ 8                ┆ 1.877688         │\n",
       "│ Angeles, CA ┆        ┆                  ┆                  ┆                  ┆                  │\n",
       "│ Port of Los ┆ 202201 ┆ 4                ┆ 0.701613         ┆ 9                ┆ 2.612903         │\n",
       "│ Angeles, CA ┆        ┆                  ┆                  ┆                  ┆                  │\n",
       "│ Port of Los ┆ 202202 ┆ 3                ┆ 0.38244          ┆ 9                ┆ 2.409226         │\n",
       "│ Angeles, CA ┆        ┆                  ┆                  ┆                  ┆                  │\n",
       "│ Port of Los ┆ 202203 ┆ 4                ┆ 0.482527         ┆ 6                ┆ 2.162634         │\n",
       "│ Angeles, CA ┆        ┆                  ┆                  ┆                  ┆                  │\n",
       "│ Port of Los ┆ 202204 ┆ 3                ┆ 0.554167         ┆ 8                ┆ 2.745833         │\n",
       "│ Angeles, CA ┆        ┆                  ┆                  ┆                  ┆                  │\n",
       "│ Port of Los ┆ 202205 ┆ 2                ┆ 0.30914          ┆ 8                ┆ 1.806452         │\n",
       "│ Angeles, CA ┆        ┆                  ┆                  ┆                  ┆                  │\n",
       "│ Port of Los ┆ 202206 ┆ 5                ┆ 0.3875           ┆ 6                ┆ 1.808333         │\n",
       "│ Angeles, CA ┆        ┆                  ┆                  ┆                  ┆                  │\n",
       "│ Port of Los ┆ 202207 ┆ 2                ┆ 0.247312         ┆ 5                ┆ 1.337366         │\n",
       "│ Angeles, CA ┆        ┆                  ┆                  ┆                  ┆                  │\n",
       "│ Port of Los ┆ 202208 ┆ 3                ┆ 0.206989         ┆ 6                ┆ 1.614247         │\n",
       "│ Angeles, CA ┆        ┆                  ┆                  ┆                  ┆                  │\n",
       "│ Port of Los ┆ 202209 ┆ 2                ┆ 0.186111         ┆ 4                ┆ 1.002778         │\n",
       "│ Angeles, CA ┆        ┆                  ┆                  ┆                  ┆                  │\n",
       "│ Port of Los ┆ 202210 ┆ 2                ┆ 0.201613         ┆ 6                ┆ 0.952957         │\n",
       "│ Angeles, CA ┆        ┆                  ┆                  ┆                  ┆                  │\n",
       "│ Port of Los ┆ 202211 ┆ 2                ┆ 0.073611         ┆ 4                ┆ 0.768056         │\n",
       "│ Angeles, CA ┆        ┆                  ┆                  ┆                  ┆                  │\n",
       "│ Port of Los ┆ 202212 ┆ 4                ┆ 0.325269         ┆ 4                ┆ 0.811828         │\n",
       "│ Angeles, CA ┆        ┆                  ┆                  ┆                  ┆                  │\n",
       "│ Port of Los ┆ 202301 ┆ 2                ┆ 0.247312         ┆ 6                ┆ 0.771505         │\n",
       "│ Angeles, CA ┆        ┆                  ┆                  ┆                  ┆                  │\n",
       "│ Port of Los ┆ 202302 ┆ 3                ┆ 0.294643         ┆ 4                ┆ 0.813988         │\n",
       "│ Angeles, CA ┆        ┆                  ┆                  ┆                  ┆                  │\n",
       "│ Port of Los ┆ 202303 ┆ 2                ┆ 0.259409         ┆ 5                ┆ 1.047043         │\n",
       "│ Angeles, CA ┆        ┆                  ┆                  ┆                  ┆                  │\n",
       "│ Port of Los ┆ 202304 ┆ 2                ┆ 0.241667         ┆ 5                ┆ 1.291667         │\n",
       "│ Angeles, CA ┆        ┆                  ┆                  ┆                  ┆                  │\n",
       "│ Port of Los ┆ 202305 ┆ 2                ┆ 0.196237         ┆ 4                ┆ 1.009409         │\n",
       "│ Angeles, CA ┆        ┆                  ┆                  ┆                  ┆                  │\n",
       "│ Port of Los ┆ 202306 ┆ 3                ┆ 0.322222         ┆ 3                ┆ 0.904167         │\n",
       "│ Angeles, CA ┆        ┆                  ┆                  ┆                  ┆                  │\n",
       "│ Port of Los ┆ 202307 ┆ 3                ┆ 0.194892         ┆ 5                ┆ 1.322581         │\n",
       "│ Angeles, CA ┆        ┆                  ┆                  ┆                  ┆                  │\n",
       "│ Port of Los ┆ 202308 ┆ 3                ┆ 0.221774         ┆ 4                ┆ 0.610215         │\n",
       "│ Angeles, CA ┆        ┆                  ┆                  ┆                  ┆                  │\n",
       "│ Port of Los ┆ 202309 ┆ 2                ┆ 0.158046         ┆ 6                ┆ 1.156609         │\n",
       "│ Angeles, CA ┆        ┆                  ┆                  ┆                  ┆                  │\n",
       "│ Port of Los ┆ 202310 ┆ 2                ┆ 0.240591         ┆ 4                ┆ 0.80914          │\n",
       "│ Angeles, CA ┆        ┆                  ┆                  ┆                  ┆                  │\n",
       "│ Port of Los ┆ 202311 ┆ 2                ┆ 0.213889         ┆ 3                ┆ 0.693056         │\n",
       "│ Angeles, CA ┆        ┆                  ┆                  ┆                  ┆                  │\n",
       "│ Port of Los ┆ 202312 ┆ 2                ┆ 0.201613         ┆ 5                ┆ 0.948925         │\n",
       "│ Angeles, CA ┆        ┆                  ┆                  ┆                  ┆                  │\n",
       "│ Port of Los ┆ 202401 ┆ 2                ┆ 0.166667         ┆ 6                ┆ 0.959677         │\n",
       "│ Angeles, CA ┆        ┆                  ┆                  ┆                  ┆                  │\n",
       "│ Port of Los ┆ 202402 ┆ 2                ┆ 0.228448         ┆ 4                ┆ 1.041667         │\n",
       "│ Angeles, CA ┆        ┆                  ┆                  ┆                  ┆                  │\n",
       "│ Port of Los ┆ 202403 ┆ 2                ┆ 0.28629          ┆ 5                ┆ 1.041667         │\n",
       "│ Angeles, CA ┆        ┆                  ┆                  ┆                  ┆                  │\n",
       "│ Port of Los ┆ 202404 ┆ 4                ┆ 0.415278         ┆ 5                ┆ 0.969444         │\n",
       "│ Angeles, CA ┆        ┆                  ┆                  ┆                  ┆                  │\n",
       "│ Port of Los ┆ 202405 ┆ 3                ┆ 0.376344         ┆ 4                ┆ 1.00672          │\n",
       "│ Angeles, CA ┆        ┆                  ┆                  ┆                  ┆                  │\n",
       "│ Port of Los ┆ 202406 ┆ 2                ┆ 0.276389         ┆ 4                ┆ 1.073611         │\n",
       "│ Angeles, CA ┆        ┆                  ┆                  ┆                  ┆                  │\n",
       "│ Port of Los ┆ 202407 ┆ 2                ┆ 0.268817         ┆ 4                ┆ 0.774194         │\n",
       "│ Angeles, CA ┆        ┆                  ┆                  ┆                  ┆                  │\n",
       "│ Port of Los ┆ 202408 ┆ 3                ┆ 0.258065         ┆ 4                ┆ 0.802419         │\n",
       "│ Angeles, CA ┆        ┆                  ┆                  ┆                  ┆                  │\n",
       "│ Port of Los ┆ 202409 ┆ 3                ┆ 0.240278         ┆ 4                ┆ 0.947222         │\n",
       "│ Angeles, CA ┆        ┆                  ┆                  ┆                  ┆                  │\n",
       "└─────────────┴────────┴──────────────────┴──────────────────┴──────────────────┴──────────────────┘"
      ]
     },
     "execution_count": 75,
     "metadata": {},
     "output_type": "execute_result"
    }
   ],
   "source": [
    "pit_df.filter(pl.col('port_name')=='Port of Los Angeles, CA').sort('month')"
   ]
  }
 ],
 "metadata": {
  "kernelspec": {
   "display_name": "wsu",
   "language": "python",
   "name": "python3"
  },
  "language_info": {
   "codemirror_mode": {
    "name": "ipython",
    "version": 3
   },
   "file_extension": ".py",
   "mimetype": "text/x-python",
   "name": "python",
   "nbconvert_exporter": "python",
   "pygments_lexer": "ipython3",
   "version": "3.12.0"
  }
 },
 "nbformat": 4,
 "nbformat_minor": 2
}
