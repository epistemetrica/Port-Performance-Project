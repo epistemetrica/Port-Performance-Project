{
 "cells": [
  {
   "cell_type": "markdown",
   "metadata": {},
   "source": [
    "# Port Statistics\n",
    "\n",
    "This notebook develops and explores the various port statistics used in the [Port Performance Project](https://github.com/epistemetrica/Port-Performance-Project). See the README.md file in the main directory for more info.\n",
    "\n",
    "The primary data set comes from a combination of AIS vessel data and port data, processed in the Port Geodata notebook.\n",
    "\n",
    "Statistics and final dataframes developed here are used in the Port Performance Dashboard.\n",
    "\n"
   ]
  },
  {
   "cell_type": "code",
   "execution_count": 69,
   "metadata": {},
   "outputs": [],
   "source": [
    "#prelims\n",
    "import polars as pl\n",
    "import polars.selectors as cs\n",
    "import pandas as pd\n",
    "import geopandas as gpd\n",
    "import time\n",
    "import plotly.express as px\n",
    "import matplotlib.pyplot as plt\n",
    "import contextily as cx\n",
    "import numpy as np\n",
    "import glob\n",
    "import folium\n",
    "from folium.plugins import HeatMap\n",
    "\n",
    "#enable string cache for polars categoricals\n",
    "pl.enable_string_cache()\n",
    "#display settings\n",
    "pd.set_option('display.max_columns', None)\n",
    "pd.set_option('display.max_rows', None)\n",
    "pl.Config(tbl_rows=100);"
   ]
  },
  {
   "cell_type": "markdown",
   "metadata": {},
   "source": [
    "## Load Data from geodata_prep notebook"
   ]
  },
  {
   "cell_type": "code",
   "execution_count": 70,
   "metadata": {},
   "outputs": [
    {
     "data": {
      "text/html": [
       "<div><style>\n",
       ".dataframe > thead > tr,\n",
       ".dataframe > tbody > tr {\n",
       "  text-align: right;\n",
       "  white-space: pre-wrap;\n",
       "}\n",
       "</style>\n",
       "<small>shape: (9, 30)</small><table border=\"1\" class=\"dataframe\"><thead><tr><th>statistic</th><th>mmsi</th><th>time</th><th>speed</th><th>course</th><th>heading</th><th>status</th><th>vessel_name</th><th>vessel_type</th><th>imo</th><th>length</th><th>width</th><th>draft</th><th>cargo</th><th>which_port_waters</th><th>port_waters1</th><th>port_waters2</th><th>port_waters3</th><th>status_duration</th><th>dock_id</th><th>dock_name</th><th>facility_type</th><th>port_name</th><th>vessel_lat</th><th>vessel_lon</th><th>dock_lat</th><th>dock_lon</th><th>port_lat</th><th>port_lon</th><th>call_id</th></tr><tr><td>str</td><td>str</td><td>str</td><td>f64</td><td>f64</td><td>f64</td><td>f64</td><td>str</td><td>f64</td><td>f64</td><td>f64</td><td>f64</td><td>f64</td><td>f64</td><td>str</td><td>str</td><td>str</td><td>str</td><td>str</td><td>str</td><td>str</td><td>str</td><td>str</td><td>f64</td><td>f64</td><td>f64</td><td>f64</td><td>f64</td><td>f64</td><td>str</td></tr></thead><tbody><tr><td>&quot;count&quot;</td><td>&quot;1437744&quot;</td><td>&quot;1437744&quot;</td><td>1.437744e6</td><td>1.434975e6</td><td>1.417856e6</td><td>1.437744e6</td><td>&quot;1437744&quot;</td><td>1.437744e6</td><td>1.437735e6</td><td>1.437744e6</td><td>1.333436e6</td><td>1.329142e6</td><td>1.145414e6</td><td>&quot;1437744&quot;</td><td>&quot;1437744&quot;</td><td>&quot;1437744&quot;</td><td>&quot;1437744&quot;</td><td>&quot;1434226&quot;</td><td>&quot;1437744&quot;</td><td>&quot;1437744&quot;</td><td>&quot;1433259&quot;</td><td>&quot;1437744&quot;</td><td>1.437744e6</td><td>1.437744e6</td><td>1.437744e6</td><td>1.437744e6</td><td>1.437744e6</td><td>1.437744e6</td><td>&quot;1437744&quot;</td></tr><tr><td>&quot;null_count&quot;</td><td>&quot;0&quot;</td><td>&quot;0&quot;</td><td>0.0</td><td>2769.0</td><td>19888.0</td><td>0.0</td><td>&quot;0&quot;</td><td>0.0</td><td>9.0</td><td>0.0</td><td>104308.0</td><td>108602.0</td><td>292330.0</td><td>&quot;0&quot;</td><td>&quot;0&quot;</td><td>&quot;0&quot;</td><td>&quot;0&quot;</td><td>&quot;3518&quot;</td><td>&quot;0&quot;</td><td>&quot;0&quot;</td><td>&quot;4485&quot;</td><td>&quot;0&quot;</td><td>0.0</td><td>0.0</td><td>0.0</td><td>0.0</td><td>0.0</td><td>0.0</td><td>&quot;0&quot;</td></tr><tr><td>&quot;mean&quot;</td><td>null</td><td>&quot;2021-06-20 04:07:18.082121&quot;</td><td>2.063957</td><td>183.841407</td><td>186.878868</td><td>1.99197</td><td>null</td><td>73.058067</td><td>1.0309e7</td><td>207.659064</td><td>31.806393</td><td>10.726139</td><td>73.660093</td><td>null</td><td>null</td><td>null</td><td>null</td><td>&quot;12:49:03.023647&quot;</td><td>null</td><td>null</td><td>null</td><td>null</td><td>32.355621</td><td>-96.275208</td><td>32.233459</td><td>-96.449563</td><td>32.232387</td><td>-96.450552</td><td>null</td></tr><tr><td>&quot;std&quot;</td><td>null</td><td>null</td><td>4.76809</td><td>91.832307</td><td>103.147354</td><td>2.447631</td><td>null</td><td>4.800045</td><td>2.8926e7</td><td>57.683308</td><td>7.582622</td><td>2.913345</td><td>8.078969</td><td>null</td><td>null</td><td>null</td><td>null</td><td>null</td><td>null</td><td>null</td><td>null</td><td>null</td><td>6.41347</td><td>20.009369</td><td>6.313581</td><td>19.883732</td><td>6.31332</td><td>19.883235</td><td>null</td></tr><tr><td>&quot;min&quot;</td><td>&quot;205042000&quot;</td><td>&quot;2018-01-01 00:35:19&quot;</td><td>0.0</td><td>0.0</td><td>0.0</td><td>0.0</td><td>null</td><td>70.0</td><td>0.0</td><td>101.0</td><td>0.0</td><td>-12.8</td><td>0.0</td><td>&quot;Albany Port District, NY&quot;</td><td>&quot;Albany Port District, NY&quot;</td><td>&quot;Guaynabo, PR&quot;</td><td>&quot;Not in port waters&quot;</td><td>&quot;0:05:01&quot;</td><td>&quot;00XE&quot;</td><td>&quot;ADM Corpus Christi Grain Eleva…</td><td>&quot;Anchorage&quot;</td><td>&quot;Albany Port District, NY&quot;</td><td>12.37642</td><td>-170.62387</td><td>17.936081</td><td>-166.53444</td><td>17.938939</td><td>-166.549916</td><td>&quot;205042000_Port of Long Beach, …</td></tr><tr><td>&quot;25%&quot;</td><td>null</td><td>&quot;2019-10-08 12:32:35&quot;</td><td>0.0</td><td>122.8</td><td>94.0</td><td>0.0</td><td>null</td><td>70.0</td><td>9.31524e6</td><td>179.0</td><td>28.0</td><td>8.7</td><td>70.0</td><td>null</td><td>null</td><td>null</td><td>null</td><td>&quot;0:57:07&quot;</td><td>null</td><td>null</td><td>null</td><td>null</td><td>29.30768</td><td>-118.20893</td><td>29.308056</td><td>-118.21388</td><td>29.31049</td><td>-118.2095</td><td>null</td></tr><tr><td>&quot;50%&quot;</td><td>null</td><td>&quot;2021-08-07 03:51:23&quot;</td><td>0.1</td><td>183.9</td><td>182.0</td><td>0.0</td><td>null</td><td>70.0</td><td>9.485801e6</td><td>189.0</td><td>32.0</td><td>10.5</td><td>70.0</td><td>null</td><td>null</td><td>null</td><td>null</td><td>&quot;1:58:48&quot;</td><td>null</td><td>null</td><td>null</td><td>null</td><td>30.6573</td><td>-93.95583</td><td>30.656944</td><td>-93.965542</td><td>30.69123</td><td>-93.96069</td><td>null</td></tr><tr><td>&quot;75%&quot;</td><td>null</td><td>&quot;2023-02-01 08:01:49&quot;</td><td>0.2</td><td>252.2</td><td>272.0</td><td>5.0</td><td>null</td><td>80.0</td><td>9.685425e6</td><td>229.0</td><td>32.0</td><td>12.8</td><td>80.0</td><td>null</td><td>null</td><td>null</td><td>null</td><td>&quot;4:17:59&quot;</td><td>null</td><td>null</td><td>null</td><td>null</td><td>36.87423</td><td>-80.12157</td><td>34.716944</td><td>-80.122222</td><td>34.71693</td><td>-80.117801</td><td>null</td></tr><tr><td>&quot;max&quot;</td><td>&quot;725019920&quot;</td><td>&quot;2024-09-30 23:22:34&quot;</td><td>102.3</td><td>359.9</td><td>359.0</td><td>15.0</td><td>null</td><td>89.0</td><td>9.901843e8</td><td>667.0</td><td>60.0</td><td>25.5</td><td>191.0</td><td>&quot;Yabucoa, PR&quot;</td><td>&quot;Yabucoa, PR&quot;</td><td>&quot;Yabucoa, PR&quot;</td><td>&quot;Yabucoa, PR&quot;</td><td>&quot;2191 days, 16:36:18&quot;</td><td>&quot;1JHK&quot;</td><td>&quot;YUSEN TERMINALS BERTHS 212-221&quot;</td><td>&quot;Tie Off&quot;</td><td>&quot;Wilmington, NC&quot;</td><td>61.24418</td><td>144.67134</td><td>61.24306</td><td>-66.086926</td><td>61.23778</td><td>-66.096678</td><td>&quot;725019920_Port Everglades, FL_…</td></tr></tbody></table></div>"
      ],
      "text/plain": [
       "shape: (9, 30)\n",
       "┌───────────┬───────────┬───────────┬───────────┬───┬───────────┬───────────┬───────────┬──────────┐\n",
       "│ statistic ┆ mmsi      ┆ time      ┆ speed     ┆ … ┆ dock_lon  ┆ port_lat  ┆ port_lon  ┆ call_id  │\n",
       "│ ---       ┆ ---       ┆ ---       ┆ ---       ┆   ┆ ---       ┆ ---       ┆ ---       ┆ ---      │\n",
       "│ str       ┆ str       ┆ str       ┆ f64       ┆   ┆ f64       ┆ f64       ┆ f64       ┆ str      │\n",
       "╞═══════════╪═══════════╪═══════════╪═══════════╪═══╪═══════════╪═══════════╪═══════════╪══════════╡\n",
       "│ count     ┆ 1437744   ┆ 1437744   ┆ 1.437744e ┆ … ┆ 1.437744e ┆ 1.437744e ┆ 1.437744e ┆ 1437744  │\n",
       "│           ┆           ┆           ┆ 6         ┆   ┆ 6         ┆ 6         ┆ 6         ┆          │\n",
       "│ null_coun ┆ 0         ┆ 0         ┆ 0.0       ┆ … ┆ 0.0       ┆ 0.0       ┆ 0.0       ┆ 0        │\n",
       "│ t         ┆           ┆           ┆           ┆   ┆           ┆           ┆           ┆          │\n",
       "│ mean      ┆ null      ┆ 2021-06-2 ┆ 2.063957  ┆ … ┆ -96.44956 ┆ 32.232387 ┆ -96.45055 ┆ null     │\n",
       "│           ┆           ┆ 0 04:07:1 ┆           ┆   ┆ 3         ┆           ┆ 2         ┆          │\n",
       "│           ┆           ┆ 8.082121  ┆           ┆   ┆           ┆           ┆           ┆          │\n",
       "│ std       ┆ null      ┆ null      ┆ 4.76809   ┆ … ┆ 19.883732 ┆ 6.31332   ┆ 19.883235 ┆ null     │\n",
       "│ min       ┆ 205042000 ┆ 2018-01-0 ┆ 0.0       ┆ … ┆ -166.5344 ┆ 17.938939 ┆ -166.5499 ┆ 20504200 │\n",
       "│           ┆           ┆ 1         ┆           ┆   ┆ 4         ┆           ┆ 16        ┆ 0_Port   │\n",
       "│           ┆           ┆ 00:35:19  ┆           ┆   ┆           ┆           ┆           ┆ of Long  │\n",
       "│           ┆           ┆           ┆           ┆   ┆           ┆           ┆           ┆ Beach, … │\n",
       "│ 25%       ┆ null      ┆ 2019-10-0 ┆ 0.0       ┆ … ┆ -118.2138 ┆ 29.31049  ┆ -118.2095 ┆ null     │\n",
       "│           ┆           ┆ 8         ┆           ┆   ┆ 8         ┆           ┆           ┆          │\n",
       "│           ┆           ┆ 12:32:35  ┆           ┆   ┆           ┆           ┆           ┆          │\n",
       "│ 50%       ┆ null      ┆ 2021-08-0 ┆ 0.1       ┆ … ┆ -93.96554 ┆ 30.69123  ┆ -93.96069 ┆ null     │\n",
       "│           ┆           ┆ 7         ┆           ┆   ┆ 2         ┆           ┆           ┆          │\n",
       "│           ┆           ┆ 03:51:23  ┆           ┆   ┆           ┆           ┆           ┆          │\n",
       "│ 75%       ┆ null      ┆ 2023-02-0 ┆ 0.2       ┆ … ┆ -80.12222 ┆ 34.71693  ┆ -80.11780 ┆ null     │\n",
       "│           ┆           ┆ 1         ┆           ┆   ┆ 2         ┆           ┆ 1         ┆          │\n",
       "│           ┆           ┆ 08:01:49  ┆           ┆   ┆           ┆           ┆           ┆          │\n",
       "│ max       ┆ 725019920 ┆ 2024-09-3 ┆ 102.3     ┆ … ┆ -66.08692 ┆ 61.23778  ┆ -66.09667 ┆ 72501992 │\n",
       "│           ┆           ┆ 0         ┆           ┆   ┆ 6         ┆           ┆ 8         ┆ 0_Port   │\n",
       "│           ┆           ┆ 23:22:34  ┆           ┆   ┆           ┆           ┆           ┆ Everglad │\n",
       "│           ┆           ┆           ┆           ┆   ┆           ┆           ┆           ┆ es, FL_… │\n",
       "└───────────┴───────────┴───────────┴───────────┴───┴───────────┴───────────┴───────────┴──────────┘"
      ]
     },
     "metadata": {},
     "output_type": "display_data"
    },
    {
     "data": {
      "text/html": [
       "<div><style>\n",
       ".dataframe > thead > tr,\n",
       ".dataframe > tbody > tr {\n",
       "  text-align: right;\n",
       "  white-space: pre-wrap;\n",
       "}\n",
       "</style>\n",
       "<small>shape: (5, 29)</small><table border=\"1\" class=\"dataframe\"><thead><tr><th>mmsi</th><th>time</th><th>speed</th><th>course</th><th>heading</th><th>status</th><th>vessel_name</th><th>vessel_type</th><th>imo</th><th>length</th><th>width</th><th>draft</th><th>cargo</th><th>which_port_waters</th><th>port_waters1</th><th>port_waters2</th><th>port_waters3</th><th>status_duration</th><th>dock_id</th><th>dock_name</th><th>facility_type</th><th>port_name</th><th>vessel_lat</th><th>vessel_lon</th><th>dock_lat</th><th>dock_lon</th><th>port_lat</th><th>port_lon</th><th>call_id</th></tr><tr><td>str</td><td>datetime[μs]</td><td>f64</td><td>f64</td><td>f64</td><td>f64</td><td>cat</td><td>f64</td><td>f64</td><td>f64</td><td>f64</td><td>f64</td><td>f64</td><td>str</td><td>str</td><td>str</td><td>str</td><td>duration[μs]</td><td>str</td><td>str</td><td>str</td><td>str</td><td>f64</td><td>f64</td><td>f64</td><td>f64</td><td>f64</td><td>f64</td><td>str</td></tr></thead><tbody><tr><td>&quot;205042000&quot;</td><td>2022-12-07 23:20:37</td><td>9.1</td><td>358.1</td><td>0.0</td><td>0.0</td><td>&quot;DELOS&quot;</td><td>80.0</td><td>9.877767e6</td><td>336.0</td><td>60.0</td><td>16.5</td><td>80.0</td><td>&quot;Port of Long Beach, CA|Port of…</td><td>&quot;Port of Long Beach, CA&quot;</td><td>&quot;Port of Los Angeles, CA&quot;</td><td>&quot;Not in port waters&quot;</td><td>2h 34m 41s</td><td>&quot;0V0U&quot;</td><td>&quot;ARCO WESTERN PIPELINE CO BERTH…</td><td>&quot;Dock&quot;</td><td>&quot;Port of Long Beach, CA&quot;</td><td>33.36623</td><td>-118.04241</td><td>33.757222</td><td>-118.21888</td><td>33.73957</td><td>-118.2095</td><td>&quot;205042000_Port of Long Beach, …</td></tr><tr><td>&quot;205042000&quot;</td><td>2022-12-08 01:55:18</td><td>0.3</td><td>83.8</td><td>328.0</td><td>1.0</td><td>&quot;DELOS&quot;</td><td>80.0</td><td>9.877767e6</td><td>336.0</td><td>60.0</td><td>16.5</td><td>80.0</td><td>&quot;Port of Long Beach, CA|Port of…</td><td>&quot;Port of Long Beach, CA&quot;</td><td>&quot;Port of Los Angeles, CA&quot;</td><td>&quot;Not in port waters&quot;</td><td>6d 18h 3m 47s</td><td>&quot;0V0U&quot;</td><td>&quot;ARCO WESTERN PIPELINE CO BERTH…</td><td>&quot;Dock&quot;</td><td>&quot;Port of Long Beach, CA&quot;</td><td>33.62433</td><td>-118.0504</td><td>33.757222</td><td>-118.21888</td><td>33.73957</td><td>-118.2095</td><td>&quot;205042000_Port of Long Beach, …</td></tr><tr><td>&quot;205042000&quot;</td><td>2022-12-14 19:59:05</td><td>0.9</td><td>232.6</td><td>228.0</td><td>0.0</td><td>&quot;DELOS&quot;</td><td>80.0</td><td>9.877767e6</td><td>336.0</td><td>60.0</td><td>16.5</td><td>80.0</td><td>&quot;Port of Long Beach, CA|Port of…</td><td>&quot;Port of Long Beach, CA&quot;</td><td>&quot;Port of Los Angeles, CA&quot;</td><td>&quot;Not in port waters&quot;</td><td>4h 35m 49s</td><td>&quot;0V0U&quot;</td><td>&quot;ARCO WESTERN PIPELINE CO BERTH…</td><td>&quot;Dock&quot;</td><td>&quot;Port of Long Beach, CA&quot;</td><td>33.62758</td><td>-118.05079</td><td>33.757222</td><td>-118.21888</td><td>33.73957</td><td>-118.2095</td><td>&quot;205042000_Port of Long Beach, …</td></tr><tr><td>&quot;205042000&quot;</td><td>2022-12-15 00:34:54</td><td>0.0</td><td>340.4</td><td>340.0</td><td>5.0</td><td>&quot;DELOS&quot;</td><td>80.0</td><td>9.877767e6</td><td>336.0</td><td>60.0</td><td>16.5</td><td>80.0</td><td>&quot;Port of Long Beach, CA|Port of…</td><td>&quot;Port of Long Beach, CA&quot;</td><td>&quot;Port of Los Angeles, CA&quot;</td><td>&quot;Not in port waters&quot;</td><td>1d 8h 25m 12s</td><td>&quot;0V0U&quot;</td><td>&quot;ARCO WESTERN PIPELINE CO BERTH…</td><td>&quot;Dock&quot;</td><td>&quot;Port of Long Beach, CA&quot;</td><td>33.75624</td><td>-118.21814</td><td>33.757222</td><td>-118.21888</td><td>33.73957</td><td>-118.2095</td><td>&quot;205042000_Port of Long Beach, …</td></tr><tr><td>&quot;205042000&quot;</td><td>2022-12-16 09:00:06</td><td>0.2</td><td>81.3</td><td>339.0</td><td>0.0</td><td>&quot;DELOS&quot;</td><td>80.0</td><td>9.877767e6</td><td>336.0</td><td>60.0</td><td>16.5</td><td>80.0</td><td>&quot;Port of Long Beach, CA|Port of…</td><td>&quot;Port of Long Beach, CA&quot;</td><td>&quot;Port of Los Angeles, CA&quot;</td><td>&quot;Not in port waters&quot;</td><td>1h 2m 19s</td><td>&quot;0V0U&quot;</td><td>&quot;ARCO WESTERN PIPELINE CO BERTH…</td><td>&quot;Dock&quot;</td><td>&quot;Port of Long Beach, CA&quot;</td><td>33.75624</td><td>-118.21808</td><td>33.757222</td><td>-118.21888</td><td>33.73957</td><td>-118.2095</td><td>&quot;205042000_Port of Long Beach, …</td></tr></tbody></table></div>"
      ],
      "text/plain": [
       "shape: (5, 29)\n",
       "┌───────────┬──────────────┬───────┬────────┬───┬────────────┬──────────┬───────────┬──────────────┐\n",
       "│ mmsi      ┆ time         ┆ speed ┆ course ┆ … ┆ dock_lon   ┆ port_lat ┆ port_lon  ┆ call_id      │\n",
       "│ ---       ┆ ---          ┆ ---   ┆ ---    ┆   ┆ ---        ┆ ---      ┆ ---       ┆ ---          │\n",
       "│ str       ┆ datetime[μs] ┆ f64   ┆ f64    ┆   ┆ f64        ┆ f64      ┆ f64       ┆ str          │\n",
       "╞═══════════╪══════════════╪═══════╪════════╪═══╪════════════╪══════════╪═══════════╪══════════════╡\n",
       "│ 205042000 ┆ 2022-12-07   ┆ 9.1   ┆ 358.1  ┆ … ┆ -118.21888 ┆ 33.73957 ┆ -118.2095 ┆ 205042000_Po │\n",
       "│           ┆ 23:20:37     ┆       ┆        ┆   ┆            ┆          ┆           ┆ rt of Long   │\n",
       "│           ┆              ┆       ┆        ┆   ┆            ┆          ┆           ┆ Beach, …     │\n",
       "│ 205042000 ┆ 2022-12-08   ┆ 0.3   ┆ 83.8   ┆ … ┆ -118.21888 ┆ 33.73957 ┆ -118.2095 ┆ 205042000_Po │\n",
       "│           ┆ 01:55:18     ┆       ┆        ┆   ┆            ┆          ┆           ┆ rt of Long   │\n",
       "│           ┆              ┆       ┆        ┆   ┆            ┆          ┆           ┆ Beach, …     │\n",
       "│ 205042000 ┆ 2022-12-14   ┆ 0.9   ┆ 232.6  ┆ … ┆ -118.21888 ┆ 33.73957 ┆ -118.2095 ┆ 205042000_Po │\n",
       "│           ┆ 19:59:05     ┆       ┆        ┆   ┆            ┆          ┆           ┆ rt of Long   │\n",
       "│           ┆              ┆       ┆        ┆   ┆            ┆          ┆           ┆ Beach, …     │\n",
       "│ 205042000 ┆ 2022-12-15   ┆ 0.0   ┆ 340.4  ┆ … ┆ -118.21888 ┆ 33.73957 ┆ -118.2095 ┆ 205042000_Po │\n",
       "│           ┆ 00:34:54     ┆       ┆        ┆   ┆            ┆          ┆           ┆ rt of Long   │\n",
       "│           ┆              ┆       ┆        ┆   ┆            ┆          ┆           ┆ Beach, …     │\n",
       "│ 205042000 ┆ 2022-12-16   ┆ 0.2   ┆ 81.3   ┆ … ┆ -118.21888 ┆ 33.73957 ┆ -118.2095 ┆ 205042000_Po │\n",
       "│           ┆ 09:00:06     ┆       ┆        ┆   ┆            ┆          ┆           ┆ rt of Long   │\n",
       "│           ┆              ┆       ┆        ┆   ┆            ┆          ┆           ┆ Beach, …     │\n",
       "└───────────┴──────────────┴───────┴────────┴───┴────────────┴──────────┴───────────┴──────────────┘"
      ]
     },
     "execution_count": 70,
     "metadata": {},
     "output_type": "execute_result"
    }
   ],
   "source": [
    "#load data from parquet\n",
    "main_lf = pl.scan_parquet('port data/dashboard/main.parquet')\n",
    "#inspect\n",
    "display(main_lf.describe())\n",
    "main_lf.limit(5).collect()"
   ]
  },
  {
   "cell_type": "markdown",
   "metadata": {},
   "source": [
    "## Generate Stats"
   ]
  },
  {
   "cell_type": "code",
   "execution_count": 71,
   "metadata": {},
   "outputs": [
    {
     "data": {
      "text/html": [
       "<div><style>\n",
       ".dataframe > thead > tr,\n",
       ".dataframe > tbody > tr {\n",
       "  text-align: right;\n",
       "  white-space: pre-wrap;\n",
       "}\n",
       "</style>\n",
       "<small>shape: (9, 17)</small><table border=\"1\" class=\"dataframe\"><thead><tr><th>statistic</th><th>call_id</th><th>port_name</th><th>dock_name</th><th>dock_id</th><th>mmsi</th><th>imo</th><th>vessel_size</th><th>time_port_entry</th><th>time_arrival</th><th>time_departure</th><th>time_port_exit</th><th>hrs_at_berth</th><th>hrs_at_anchor</th><th>hrs_to_dock</th><th>hrs_in_port_after_dock</th><th>hrs_in_port_waters</th></tr><tr><td>str</td><td>str</td><td>str</td><td>str</td><td>str</td><td>str</td><td>f64</td><td>f64</td><td>str</td><td>str</td><td>str</td><td>str</td><td>f64</td><td>f64</td><td>f64</td><td>f64</td><td>f64</td></tr></thead><tbody><tr><td>&quot;count&quot;</td><td>&quot;148934&quot;</td><td>&quot;148934&quot;</td><td>&quot;148934&quot;</td><td>&quot;148934&quot;</td><td>&quot;148934&quot;</td><td>148932.0</td><td>148934.0</td><td>&quot;148934&quot;</td><td>&quot;148934&quot;</td><td>&quot;148934&quot;</td><td>&quot;148934&quot;</td><td>148934.0</td><td>148934.0</td><td>148934.0</td><td>148934.0</td><td>148934.0</td></tr><tr><td>&quot;null_count&quot;</td><td>&quot;0&quot;</td><td>&quot;0&quot;</td><td>&quot;0&quot;</td><td>&quot;0&quot;</td><td>&quot;0&quot;</td><td>2.0</td><td>0.0</td><td>&quot;0&quot;</td><td>&quot;0&quot;</td><td>&quot;0&quot;</td><td>&quot;0&quot;</td><td>0.0</td><td>0.0</td><td>0.0</td><td>0.0</td><td>0.0</td></tr><tr><td>&quot;mean&quot;</td><td>null</td><td>null</td><td>null</td><td>null</td><td>null</td><td>1.0159e7</td><td>207.545557</td><td>&quot;2021-06-04 17:33:03.693662&quot;</td><td>&quot;2021-06-06 06:16:00.676205&quot;</td><td>&quot;2021-06-12 20:10:51.460532&quot;</td><td>&quot;2021-06-14 16:47:36.207420&quot;</td><td>67.771871</td><td>14.882013</td><td>36.707947</td><td>44.604767</td><td>239.234188</td></tr><tr><td>&quot;std&quot;</td><td>null</td><td>null</td><td>null</td><td>null</td><td>null</td><td>2.6835e7</td><td>58.855356</td><td>null</td><td>null</td><td>null</td><td>null</td><td>523.532856</td><td>178.745156</td><td>857.118125</td><td>1147.066753</td><td>2417.820789</td></tr><tr><td>&quot;min&quot;</td><td>&quot;205042000_Port of Long Beach, …</td><td>&quot;Albany Port District, NY&quot;</td><td>&quot;ADM Corpus Christi Grain Eleva…</td><td>&quot;00XE&quot;</td><td>&quot;205042000&quot;</td><td>0.0</td><td>101.0</td><td>&quot;2018-01-01 00:35:19&quot;</td><td>&quot;2018-01-01 00:35:19&quot;</td><td>&quot;2018-01-01 04:23:54&quot;</td><td>&quot;2018-01-01 09:15:57&quot;</td><td>0.083333</td><td>0.0</td><td>0.0</td><td>0.0</td><td>0.133333</td></tr><tr><td>&quot;25%&quot;</td><td>null</td><td>null</td><td>null</td><td>null</td><td>null</td><td>9.295957e6</td><td>176.0</td><td>&quot;2019-08-25 15:08:58&quot;</td><td>&quot;2019-08-27 00:57:56&quot;</td><td>&quot;2019-09-02 10:44:38&quot;</td><td>&quot;2019-09-04 10:01:16&quot;</td><td>16.683333</td><td>0.0</td><td>2.65</td><td>2.133333</td><td>26.033333</td></tr><tr><td>&quot;50%&quot;</td><td>null</td><td>null</td><td>null</td><td>null</td><td>null</td><td>9.402122e6</td><td>190.0</td><td>&quot;2021-07-16 20:53:29&quot;</td><td>&quot;2021-07-18 17:52:42&quot;</td><td>&quot;2021-07-26 15:04:35&quot;</td><td>&quot;2021-07-29 01:04:24&quot;</td><td>31.483333</td><td>0.0</td><td>3.533333</td><td>2.783333</td><td>44.733333</td></tr><tr><td>&quot;75%&quot;</td><td>null</td><td>null</td><td>null</td><td>null</td><td>null</td><td>9.614294e6</td><td>230.0</td><td>&quot;2023-02-23 15:58:06&quot;</td><td>&quot;2023-02-25 12:08:11&quot;</td><td>&quot;2023-03-04 09:50:11&quot;</td><td>&quot;2023-03-06 19:47:43&quot;</td><td>58.616667</td><td>0.0</td><td>5.483333</td><td>3.55</td><td>85.0</td></tr><tr><td>&quot;max&quot;</td><td>&quot;725019920_Port Everglades, FL_…</td><td>&quot;Wilmington, NC&quot;</td><td>&quot;YUSEN TERMINALS BERTHS 212-221&quot;</td><td>&quot;1JHK&quot;</td><td>&quot;725019920&quot;</td><td>9.901843e8</td><td>667.0</td><td>&quot;2024-09-30 12:54:53&quot;</td><td>&quot;2024-09-30 16:32:15&quot;</td><td>&quot;2024-09-30 23:22:34&quot;</td><td>&quot;2024-09-30 23:22:34&quot;</td><td>59318.45</td><td>52600.6</td><td>58913.266667</td><td>58950.283333</td><td>59112.7</td></tr></tbody></table></div>"
      ],
      "text/plain": [
       "shape: (9, 17)\n",
       "┌───────────┬───────────┬───────────┬───────────┬───┬───────────┬───────────┬───────────┬──────────┐\n",
       "│ statistic ┆ call_id   ┆ port_name ┆ dock_name ┆ … ┆ hrs_at_an ┆ hrs_to_do ┆ hrs_in_po ┆ hrs_in_p │\n",
       "│ ---       ┆ ---       ┆ ---       ┆ ---       ┆   ┆ chor      ┆ ck        ┆ rt_after_ ┆ ort_wate │\n",
       "│ str       ┆ str       ┆ str       ┆ str       ┆   ┆ ---       ┆ ---       ┆ dock      ┆ rs       │\n",
       "│           ┆           ┆           ┆           ┆   ┆ f64       ┆ f64       ┆ ---       ┆ ---      │\n",
       "│           ┆           ┆           ┆           ┆   ┆           ┆           ┆ f64       ┆ f64      │\n",
       "╞═══════════╪═══════════╪═══════════╪═══════════╪═══╪═══════════╪═══════════╪═══════════╪══════════╡\n",
       "│ count     ┆ 148934    ┆ 148934    ┆ 148934    ┆ … ┆ 148934.0  ┆ 148934.0  ┆ 148934.0  ┆ 148934.0 │\n",
       "│ null_coun ┆ 0         ┆ 0         ┆ 0         ┆ … ┆ 0.0       ┆ 0.0       ┆ 0.0       ┆ 0.0      │\n",
       "│ t         ┆           ┆           ┆           ┆   ┆           ┆           ┆           ┆          │\n",
       "│ mean      ┆ null      ┆ null      ┆ null      ┆ … ┆ 14.882013 ┆ 36.707947 ┆ 44.604767 ┆ 239.2341 │\n",
       "│           ┆           ┆           ┆           ┆   ┆           ┆           ┆           ┆ 88       │\n",
       "│ std       ┆ null      ┆ null      ┆ null      ┆ … ┆ 178.74515 ┆ 857.11812 ┆ 1147.0667 ┆ 2417.820 │\n",
       "│           ┆           ┆           ┆           ┆   ┆ 6         ┆ 5         ┆ 53        ┆ 789      │\n",
       "│ min       ┆ 205042000 ┆ Albany    ┆ ADM       ┆ … ┆ 0.0       ┆ 0.0       ┆ 0.0       ┆ 0.133333 │\n",
       "│           ┆ _Port of  ┆ Port      ┆ Corpus    ┆   ┆           ┆           ┆           ┆          │\n",
       "│           ┆ Long      ┆ District, ┆ Christi   ┆   ┆           ┆           ┆           ┆          │\n",
       "│           ┆ Beach, …  ┆ NY        ┆ Grain     ┆   ┆           ┆           ┆           ┆          │\n",
       "│           ┆           ┆           ┆ Eleva…    ┆   ┆           ┆           ┆           ┆          │\n",
       "│ 25%       ┆ null      ┆ null      ┆ null      ┆ … ┆ 0.0       ┆ 2.65      ┆ 2.133333  ┆ 26.03333 │\n",
       "│           ┆           ┆           ┆           ┆   ┆           ┆           ┆           ┆ 3        │\n",
       "│ 50%       ┆ null      ┆ null      ┆ null      ┆ … ┆ 0.0       ┆ 3.533333  ┆ 2.783333  ┆ 44.73333 │\n",
       "│           ┆           ┆           ┆           ┆   ┆           ┆           ┆           ┆ 3        │\n",
       "│ 75%       ┆ null      ┆ null      ┆ null      ┆ … ┆ 0.0       ┆ 5.483333  ┆ 3.55      ┆ 85.0     │\n",
       "│ max       ┆ 725019920 ┆ Wilmingto ┆ YUSEN     ┆ … ┆ 52600.6   ┆ 58913.266 ┆ 58950.283 ┆ 59112.7  │\n",
       "│           ┆ _Port Eve ┆ n, NC     ┆ TERMINALS ┆   ┆           ┆ 667       ┆ 333       ┆          │\n",
       "│           ┆ rglades,  ┆           ┆ BERTHS    ┆   ┆           ┆           ┆           ┆          │\n",
       "│           ┆ FL_…      ┆           ┆ 212-221   ┆   ┆           ┆           ┆           ┆          │\n",
       "└───────────┴───────────┴───────────┴───────────┴───┴───────────┴───────────┴───────────┴──────────┘"
      ]
     },
     "metadata": {},
     "output_type": "display_data"
    },
    {
     "data": {
      "text/html": [
       "<div><style>\n",
       ".dataframe > thead > tr,\n",
       ".dataframe > tbody > tr {\n",
       "  text-align: right;\n",
       "  white-space: pre-wrap;\n",
       "}\n",
       "</style>\n",
       "<small>shape: (5, 16)</small><table border=\"1\" class=\"dataframe\"><thead><tr><th>call_id</th><th>port_name</th><th>dock_name</th><th>dock_id</th><th>mmsi</th><th>imo</th><th>vessel_size</th><th>time_port_entry</th><th>time_arrival</th><th>time_departure</th><th>time_port_exit</th><th>hrs_at_berth</th><th>hrs_at_anchor</th><th>hrs_to_dock</th><th>hrs_in_port_after_dock</th><th>hrs_in_port_waters</th></tr><tr><td>str</td><td>str</td><td>str</td><td>str</td><td>str</td><td>f64</td><td>f64</td><td>datetime[μs]</td><td>datetime[μs]</td><td>datetime[μs]</td><td>datetime[μs]</td><td>f64</td><td>f64</td><td>f64</td><td>f64</td><td>f64</td></tr></thead><tbody><tr><td>&quot;477168400_Port of Long Beach, …</td><td>&quot;Port of Long Beach, CA&quot;</td><td>&quot;CALIFORNIA UNITED TERM BERTH D…</td><td>&quot;0VBF&quot;</td><td>&quot;477168400&quot;</td><td>9.785744e6</td><td>366.0</td><td>2023-02-24 19:01:18</td><td>2023-02-24 23:02:39</td><td>2023-03-01 02:19:10</td><td>2023-03-01 06:50:20</td><td>99.266667</td><td>0.0</td><td>4.016667</td><td>4.516667</td><td>107.816667</td></tr><tr><td>&quot;230185000_San Juan, PR_2019-03…</td><td>&quot;San Juan, PR&quot;</td><td>&quot;MUNICIPAL PIER 15&quot;</td><td>&quot;0NAY&quot;</td><td>&quot;230185000&quot;</td><td>9.002647e6</td><td>108.0</td><td>2019-03-18 16:42:33</td><td>2019-03-18 19:41:22</td><td>2019-03-19 05:43:46</td><td>2019-03-19 09:45:47</td><td>10.033333</td><td>0.0</td><td>2.966667</td><td>4.033333</td><td>17.05</td></tr><tr><td>&quot;563000500_PortMiami, FL_2019-0…</td><td>&quot;PortMiami, FL&quot;</td><td>&quot;PORT OF MIAMI BAYS 144 - 155&quot;</td><td>&quot;0QCU&quot;</td><td>&quot;563000500&quot;</td><td>9.289958e6</td><td>335.0</td><td>2019-04-27 05:08:50</td><td>2019-04-27 09:41:22</td><td>2019-04-28 12:12:11</td><td>2019-04-28 14:03:22</td><td>26.5</td><td>0.0</td><td>4.533333</td><td>1.85</td><td>32.9</td></tr><tr><td>&quot;636015248_Port of Kalama, WA_2…</td><td>&quot;Port of Kalama, WA&quot;</td><td>&quot;EMERALD KALAMA CHEMICAL LLC WH…</td><td>&quot;0UX3&quot;</td><td>&quot;636015248&quot;</td><td>9.528366e6</td><td>183.0</td><td>2019-04-29 17:49:42</td><td>2019-04-29 20:40:33</td><td>2019-04-30 12:49:05</td><td>2019-04-30 14:51:24</td><td>16.133333</td><td>0.0</td><td>2.833333</td><td>2.033333</td><td>21.016667</td></tr><tr><td>&quot;538004555_Searsport, ME_2020-0…</td><td>&quot;Searsport, ME&quot;</td><td>&quot;SEARSPORT MACK POINT MARINE IN…</td><td>&quot;0Q7C&quot;</td><td>&quot;538004555&quot;</td><td>9.373993e6</td><td>190.0</td><td>2020-02-11 03:07:19</td><td>2020-02-11 05:38:21</td><td>2020-02-15 11:00:04</td><td>2020-02-15 13:03:35</td><td>100.95</td><td>0.0</td><td>2.516667</td><td>2.05</td><td>105.933333</td></tr></tbody></table></div>"
      ],
      "text/plain": [
       "shape: (5, 16)\n",
       "┌────────────┬───────────┬───────────┬─────────┬───┬───────────┬───────────┬───────────┬───────────┐\n",
       "│ call_id    ┆ port_name ┆ dock_name ┆ dock_id ┆ … ┆ hrs_at_an ┆ hrs_to_do ┆ hrs_in_po ┆ hrs_in_po │\n",
       "│ ---        ┆ ---       ┆ ---       ┆ ---     ┆   ┆ chor      ┆ ck        ┆ rt_after_ ┆ rt_waters │\n",
       "│ str        ┆ str       ┆ str       ┆ str     ┆   ┆ ---       ┆ ---       ┆ dock      ┆ ---       │\n",
       "│            ┆           ┆           ┆         ┆   ┆ f64       ┆ f64       ┆ ---       ┆ f64       │\n",
       "│            ┆           ┆           ┆         ┆   ┆           ┆           ┆ f64       ┆           │\n",
       "╞════════════╪═══════════╪═══════════╪═════════╪═══╪═══════════╪═══════════╪═══════════╪═══════════╡\n",
       "│ 477168400_ ┆ Port of   ┆ CALIFORNI ┆ 0VBF    ┆ … ┆ 0.0       ┆ 4.016667  ┆ 4.516667  ┆ 107.81666 │\n",
       "│ Port of    ┆ Long      ┆ A UNITED  ┆         ┆   ┆           ┆           ┆           ┆ 7         │\n",
       "│ Long       ┆ Beach, CA ┆ TERM      ┆         ┆   ┆           ┆           ┆           ┆           │\n",
       "│ Beach, …   ┆           ┆ BERTH D…  ┆         ┆   ┆           ┆           ┆           ┆           │\n",
       "│ 230185000_ ┆ San Juan, ┆ MUNICIPAL ┆ 0NAY    ┆ … ┆ 0.0       ┆ 2.966667  ┆ 4.033333  ┆ 17.05     │\n",
       "│ San Juan,  ┆ PR        ┆ PIER 15   ┆         ┆   ┆           ┆           ┆           ┆           │\n",
       "│ PR_2019-03 ┆           ┆           ┆         ┆   ┆           ┆           ┆           ┆           │\n",
       "│ …          ┆           ┆           ┆         ┆   ┆           ┆           ┆           ┆           │\n",
       "│ 563000500_ ┆ PortMiami ┆ PORT OF   ┆ 0QCU    ┆ … ┆ 0.0       ┆ 4.533333  ┆ 1.85      ┆ 32.9      │\n",
       "│ PortMiami, ┆ , FL      ┆ MIAMI     ┆         ┆   ┆           ┆           ┆           ┆           │\n",
       "│ FL_2019-0… ┆           ┆ BAYS 144  ┆         ┆   ┆           ┆           ┆           ┆           │\n",
       "│            ┆           ┆ - 155     ┆         ┆   ┆           ┆           ┆           ┆           │\n",
       "│ 636015248_ ┆ Port of   ┆ EMERALD   ┆ 0UX3    ┆ … ┆ 0.0       ┆ 2.833333  ┆ 2.033333  ┆ 21.016667 │\n",
       "│ Port of    ┆ Kalama,   ┆ KALAMA    ┆         ┆   ┆           ┆           ┆           ┆           │\n",
       "│ Kalama,    ┆ WA        ┆ CHEMICAL  ┆         ┆   ┆           ┆           ┆           ┆           │\n",
       "│ WA_2…      ┆           ┆ LLC WH…   ┆         ┆   ┆           ┆           ┆           ┆           │\n",
       "│ 538004555_ ┆ Searsport ┆ SEARSPORT ┆ 0Q7C    ┆ … ┆ 0.0       ┆ 2.516667  ┆ 2.05      ┆ 105.93333 │\n",
       "│ Searsport, ┆ , ME      ┆ MACK      ┆         ┆   ┆           ┆           ┆           ┆ 3         │\n",
       "│ ME_2020-0… ┆           ┆ POINT     ┆         ┆   ┆           ┆           ┆           ┆           │\n",
       "│            ┆           ┆ MARINE    ┆         ┆   ┆           ┆           ┆           ┆           │\n",
       "│            ┆           ┆ IN…       ┆         ┆   ┆           ┆           ┆           ┆           │\n",
       "└────────────┴───────────┴───────────┴─────────┴───┴───────────┴───────────┴───────────┴───────────┘"
      ]
     },
     "execution_count": 71,
     "metadata": {},
     "output_type": "execute_result"
    }
   ],
   "source": [
    "#get stats for each call\n",
    "calls_df = (\n",
    "    main_lf\n",
    "    #ensure sorting by vessel and time\n",
    "    .sort(['mmsi', 'time'])\n",
    "    #grouby by call id\n",
    "    .group_by('call_id')\n",
    "    .agg(\n",
    "        #port name\n",
    "        port_name = pl.first('port_name'),\n",
    "        #dock name\n",
    "        dock_name = pl.first('dock_name'),\n",
    "        #dock_id\n",
    "        dock_id = pl.first('dock_id'),\n",
    "        #vessel mmsi\n",
    "        mmsi = pl.first('mmsi'),\n",
    "        #vessel imo\n",
    "        imo = pl.first('imo'),\n",
    "        #vessel size\n",
    "        vessel_size = pl.first('length'),\n",
    "        #time entering port waters\n",
    "        time_port_entry = pl.col('time').min(),\n",
    "        #time of arrival at dock\n",
    "        time_arrival = (\n",
    "            pl.when(pl.col('status')==5)\n",
    "            .then(pl.col('time'))\n",
    "            .otherwise(pl.lit(None))\n",
    "        ).min(),\n",
    "        #time of departure from dock\n",
    "        time_departure = (\n",
    "            pl.when(pl.col('status')==5)\n",
    "            .then(pl.col('time')+pl.col('status_duration'))\n",
    "            .otherwise(pl.lit(None))\n",
    "        ).max(),\n",
    "        #time port exit\n",
    "        time_port_exit = (pl.col('time') + pl.col('status_duration')).max(),\n",
    "        #hrs a berth\n",
    "        hrs_at_berth = (\n",
    "            ((pl.col('status')==5)*\n",
    "            (pl.col('status_duration').dt.total_minutes()/60)\n",
    "            )\n",
    "        ).sum(),\n",
    "        #hrs at anchor\n",
    "        hrs_at_anchor = (\n",
    "            (pl.col('status')==1)*\n",
    "            (pl.col('status_duration').dt.total_minutes()/60)\n",
    "        ).sum()\n",
    "    )\n",
    "    #drop calls with missing arrival or departure time\n",
    "    .filter(pl.col('time_arrival').is_not_null() & \n",
    "            pl.col('time_departure').is_not_null())\n",
    "    #drop calls with missing port entry or exit time\n",
    "    .filter(pl.col('time_port_entry').is_not_null() & \n",
    "            pl.col('time_port_exit').is_not_null())\n",
    "    #compute additional stats\n",
    "    .with_columns(\n",
    "        #time from port entry to docking in hrs\n",
    "        hrs_to_dock = (\n",
    "            (pl.col('time_arrival') - pl.col('time_port_entry'))\n",
    "            .dt.total_minutes()/60\n",
    "        ),\n",
    "        #time in port waters after leaving dock\n",
    "        hrs_in_port_after_dock = (\n",
    "            (pl.col('time_port_exit') - pl.col('time_departure'))\n",
    "            .dt.total_minutes()/60\n",
    "        ),\n",
    "        #total time in port waters in hrs\n",
    "        hrs_in_port_waters =(\n",
    "            (pl.col('time_port_exit') - pl.col('time_port_entry'))\n",
    "            .dt.total_minutes()/60\n",
    "        )\n",
    "    )\n",
    "    #collect\n",
    "    .collect()\n",
    ")\n",
    "\n",
    "#inspect\n",
    "display(calls_df.describe())\n",
    "calls_df.head(5)\n"
   ]
  },
  {
   "cell_type": "code",
   "execution_count": 72,
   "metadata": {},
   "outputs": [
    {
     "data": {
      "text/plain": [
       "0.019095706823156568"
      ]
     },
     "execution_count": 72,
     "metadata": {},
     "output_type": "execute_result"
    }
   ],
   "source": [
    "(calls_df.filter(pl.col('hrs_to_dock')==0).shape[0] /\n",
    "calls_df.shape[0])"
   ]
  },
  {
   "cell_type": "code",
   "execution_count": 73,
   "metadata": {},
   "outputs": [
    {
     "data": {
      "text/plain": [
       "0.16104078762306612"
      ]
     },
     "execution_count": 73,
     "metadata": {},
     "output_type": "execute_result"
    }
   ],
   "source": [
    "((calls_df.filter((pl.col('hrs_to_dock')==0)&\n",
    "                (pl.col('hrs_in_port_after_dock')==0)).shape[0]) /\n",
    "calls_df.filter(pl.col('hrs_to_dock')==0).shape[0])"
   ]
  },
  {
   "cell_type": "markdown",
   "metadata": {},
   "source": [
    "### Notes on Calls Frame and additional cleaning\n",
    "\n",
    "- hrs_in_port_after_dock can be 0 when a vessel docks in overlapping port waters and visits both ports. \n",
    "    - In such cases, hrs_in_port_waters will be ~ 1/2 that of vessels who only visit 1 port. \n",
    "- hrs_to_dock == 0 implies that the first time the vessel sent an AIS message while in port waters was while at dock. This would be expected with new or reset AIS transcievers, and accounts for ~1.9% of port calls. \n",
    "    - Of these, ~16% were docked in overlapping port waters prior to visiting the next dock. This would result in hrs_in_port_waters == hrs_at_berth. \n",
    "- The mean and quartile statistics for the port calls seems reasonable; however, some calls have very long (6+ years in some cases) hrs_at_berth and related stats. This would result from vessel AIS transponders going offline at some stage during their visit to port waters. Rectifying this issue will be done either in the AIS ingestion or geodata_prep stages at a later date. For now we simply drop these as outliers. \n",
    "- Null status_duration values exist in ~3k of 1.3M status changes in the main_df; this is expected whenever an AIS transciever goes offline while in port waters. \n",
    "    - There are no observations of entirely-null duration values for mooring statuses, which limits the potential impacts of this issue on the stats.\n",
    "    - Null status_duration would cause undervalued time data (e.g., time_port_exit == the timestamp of the last status change + the status duration); however, dropping calls with null status_durations has no measurable impact on the statistics, so they are left in the data for now. "
   ]
  },
  {
   "cell_type": "code",
   "execution_count": 74,
   "metadata": {},
   "outputs": [],
   "source": [
    "#define zero values drop\n",
    "def drop_zero_values(df, cols):\n",
    "    '''\n",
    "    Drops zero values from the dataframe for the specified columns.\n",
    "    Args:\n",
    "        df: Polars DataFrame\n",
    "        cols: List of columns to drop zero values from\n",
    "    Returns:\n",
    "        Polars DataFrame with zero values dropped\n",
    "    '''\n",
    "    for col in cols:\n",
    "        df = df.filter(pl.col(col) > 0)\n",
    "    return df\n",
    "\n",
    "#define outlier drop\n",
    "def drop_outliers(df, cols, threshold=3):\n",
    "    '''\n",
    "    Drops outliers from the dataframe for the specified columns.\n",
    "    Args:\n",
    "        df: Polars DataFrame\n",
    "        cols: List of columns to drop outliers from\n",
    "        threshold: Z-score threshold for outlier detection\n",
    "    Returns:\n",
    "        Polars DataFrame with outliers dropped\n",
    "    '''\n",
    "    print(f'Outlier threshold: {threshold} Std Devs')\n",
    "    for col in cols:\n",
    "        #compute z scores\n",
    "        df = df.with_columns(\n",
    "            z_score = (pl.col(col) - pl.col(col).mean()) / pl.col(col).std()\n",
    "        )\n",
    "        #drop outliers\n",
    "        df = df.filter(pl.col('z_score').abs() < threshold)\n",
    "    return df.drop('z_score')"
   ]
  },
  {
   "cell_type": "code",
   "execution_count": 75,
   "metadata": {},
   "outputs": [
    {
     "name": "stdout",
     "output_type": "stream",
     "text": [
      "Total zero rows dropped: 0 of 148934\n",
      "hrs_at_berth outlier threshold: 65.4 days\n",
      "hrs_to_dock outlier threshold: 107.1 days\n",
      "hrs_at_anchor outlier threshold: 22.3 days\n",
      "hrs_in_port_after_dock outlier threshold: 143.4 days\n",
      "hrs_in_port_waters outlier threshold: 302.2 days\n",
      "Outlier threshold: 3 Std Devs\n",
      "Total outlier rows dropped: 1411 of 148934\n"
     ]
    },
    {
     "data": {
      "text/html": [
       "<div><style>\n",
       ".dataframe > thead > tr,\n",
       ".dataframe > tbody > tr {\n",
       "  text-align: right;\n",
       "  white-space: pre-wrap;\n",
       "}\n",
       "</style>\n",
       "<small>shape: (9, 17)</small><table border=\"1\" class=\"dataframe\"><thead><tr><th>statistic</th><th>call_id</th><th>port_name</th><th>dock_name</th><th>dock_id</th><th>mmsi</th><th>imo</th><th>vessel_size</th><th>time_port_entry</th><th>time_arrival</th><th>time_departure</th><th>time_port_exit</th><th>hrs_at_berth</th><th>hrs_at_anchor</th><th>hrs_to_dock</th><th>hrs_in_port_after_dock</th><th>hrs_in_port_waters</th></tr><tr><td>str</td><td>str</td><td>str</td><td>str</td><td>str</td><td>str</td><td>f64</td><td>f64</td><td>str</td><td>str</td><td>str</td><td>str</td><td>f64</td><td>f64</td><td>f64</td><td>f64</td><td>f64</td></tr></thead><tbody><tr><td>&quot;count&quot;</td><td>&quot;147523&quot;</td><td>&quot;147523&quot;</td><td>&quot;147523&quot;</td><td>&quot;147523&quot;</td><td>&quot;147523&quot;</td><td>147522.0</td><td>147523.0</td><td>&quot;147523&quot;</td><td>&quot;147523&quot;</td><td>&quot;147523&quot;</td><td>&quot;147523&quot;</td><td>147523.0</td><td>147523.0</td><td>147523.0</td><td>147523.0</td><td>147523.0</td></tr><tr><td>&quot;null_count&quot;</td><td>&quot;0&quot;</td><td>&quot;0&quot;</td><td>&quot;0&quot;</td><td>&quot;0&quot;</td><td>&quot;0&quot;</td><td>1.0</td><td>0.0</td><td>&quot;0&quot;</td><td>&quot;0&quot;</td><td>&quot;0&quot;</td><td>&quot;0&quot;</td><td>0.0</td><td>0.0</td><td>0.0</td><td>0.0</td><td>0.0</td></tr><tr><td>&quot;mean&quot;</td><td>null</td><td>null</td><td>null</td><td>null</td><td>null</td><td>1.0153e7</td><td>207.44387</td><td>&quot;2021-06-07 06:28:46.550544&quot;</td><td>&quot;2021-06-07 20:05:58.862075&quot;</td><td>&quot;2021-06-10 03:50:15.463093&quot;</td><td>&quot;2021-06-10 09:45:14.323122&quot;</td><td>49.363115</td><td>11.35651</td><td>13.612194</td><td>5.908665</td><td>75.266205</td></tr><tr><td>&quot;std&quot;</td><td>null</td><td>null</td><td>null</td><td>null</td><td>null</td><td>2.6724e7</td><td>58.833626</td><td>null</td><td>null</td><td>null</td><td>null</td><td>71.909922</td><td>43.327654</td><td>44.041117</td><td>46.615158</td><td>120.200827</td></tr><tr><td>&quot;min&quot;</td><td>&quot;205042000_Port of Long Beach, …</td><td>&quot;Albany Port District, NY&quot;</td><td>&quot;ADM Corpus Christi Grain Eleva…</td><td>&quot;00XE&quot;</td><td>&quot;205042000&quot;</td><td>0.0</td><td>101.0</td><td>&quot;2018-01-01 00:35:19&quot;</td><td>&quot;2018-01-01 00:35:19&quot;</td><td>&quot;2018-01-01 04:23:54&quot;</td><td>&quot;2018-01-01 09:15:57&quot;</td><td>0.083333</td><td>0.0</td><td>0.0</td><td>0.0</td><td>0.133333</td></tr><tr><td>&quot;25%&quot;</td><td>null</td><td>null</td><td>null</td><td>null</td><td>null</td><td>9.296262e6</td><td>176.0</td><td>&quot;2019-08-28 08:02:23&quot;</td><td>&quot;2019-08-28 14:16:45&quot;</td><td>&quot;2019-08-30 18:18:27&quot;</td><td>&quot;2019-08-30 22:20:16&quot;</td><td>16.6</td><td>0.0</td><td>2.65</td><td>2.133333</td><td>25.9</td></tr><tr><td>&quot;50%&quot;</td><td>null</td><td>null</td><td>null</td><td>null</td><td>null</td><td>9.402043e6</td><td>190.0</td><td>&quot;2021-07-19 13:36:33&quot;</td><td>&quot;2021-07-20 09:38:57&quot;</td><td>&quot;2021-07-22 22:48:02&quot;</td><td>&quot;2021-07-23 03:00:20&quot;</td><td>31.233333</td><td>0.0</td><td>3.533333</td><td>2.783333</td><td>44.283333</td></tr><tr><td>&quot;75%&quot;</td><td>null</td><td>null</td><td>null</td><td>null</td><td>null</td><td>9.61385e6</td><td>230.0</td><td>&quot;2023-02-26 06:10:04&quot;</td><td>&quot;2023-02-26 17:02:43&quot;</td><td>&quot;2023-02-28 22:24:21&quot;</td><td>&quot;2023-03-01 02:03:24&quot;</td><td>57.866667</td><td>0.0</td><td>5.45</td><td>3.533333</td><td>82.866667</td></tr><tr><td>&quot;max&quot;</td><td>&quot;725019920_Port Everglades, FL_…</td><td>&quot;Wilmington, NC&quot;</td><td>&quot;YUSEN TERMINALS BERTHS 212-221&quot;</td><td>&quot;1JHK&quot;</td><td>&quot;725019920&quot;</td><td>9.800025e8</td><td>667.0</td><td>&quot;2024-09-30 12:54:53&quot;</td><td>&quot;2024-09-30 16:32:15&quot;</td><td>&quot;2024-09-30 21:54:12&quot;</td><td>&quot;2024-09-30 22:57:53&quot;</td><td>1635.516667</td><td>530.75</td><td>2427.683333</td><td>3407.333333</td><td>4842.083333</td></tr></tbody></table></div>"
      ],
      "text/plain": [
       "shape: (9, 17)\n",
       "┌───────────┬───────────┬───────────┬───────────┬───┬───────────┬───────────┬───────────┬──────────┐\n",
       "│ statistic ┆ call_id   ┆ port_name ┆ dock_name ┆ … ┆ hrs_at_an ┆ hrs_to_do ┆ hrs_in_po ┆ hrs_in_p │\n",
       "│ ---       ┆ ---       ┆ ---       ┆ ---       ┆   ┆ chor      ┆ ck        ┆ rt_after_ ┆ ort_wate │\n",
       "│ str       ┆ str       ┆ str       ┆ str       ┆   ┆ ---       ┆ ---       ┆ dock      ┆ rs       │\n",
       "│           ┆           ┆           ┆           ┆   ┆ f64       ┆ f64       ┆ ---       ┆ ---      │\n",
       "│           ┆           ┆           ┆           ┆   ┆           ┆           ┆ f64       ┆ f64      │\n",
       "╞═══════════╪═══════════╪═══════════╪═══════════╪═══╪═══════════╪═══════════╪═══════════╪══════════╡\n",
       "│ count     ┆ 147523    ┆ 147523    ┆ 147523    ┆ … ┆ 147523.0  ┆ 147523.0  ┆ 147523.0  ┆ 147523.0 │\n",
       "│ null_coun ┆ 0         ┆ 0         ┆ 0         ┆ … ┆ 0.0       ┆ 0.0       ┆ 0.0       ┆ 0.0      │\n",
       "│ t         ┆           ┆           ┆           ┆   ┆           ┆           ┆           ┆          │\n",
       "│ mean      ┆ null      ┆ null      ┆ null      ┆ … ┆ 11.35651  ┆ 13.612194 ┆ 5.908665  ┆ 75.26620 │\n",
       "│           ┆           ┆           ┆           ┆   ┆           ┆           ┆           ┆ 5        │\n",
       "│ std       ┆ null      ┆ null      ┆ null      ┆ … ┆ 43.327654 ┆ 44.041117 ┆ 46.615158 ┆ 120.2008 │\n",
       "│           ┆           ┆           ┆           ┆   ┆           ┆           ┆           ┆ 27       │\n",
       "│ min       ┆ 205042000 ┆ Albany    ┆ ADM       ┆ … ┆ 0.0       ┆ 0.0       ┆ 0.0       ┆ 0.133333 │\n",
       "│           ┆ _Port of  ┆ Port      ┆ Corpus    ┆   ┆           ┆           ┆           ┆          │\n",
       "│           ┆ Long      ┆ District, ┆ Christi   ┆   ┆           ┆           ┆           ┆          │\n",
       "│           ┆ Beach, …  ┆ NY        ┆ Grain     ┆   ┆           ┆           ┆           ┆          │\n",
       "│           ┆           ┆           ┆ Eleva…    ┆   ┆           ┆           ┆           ┆          │\n",
       "│ 25%       ┆ null      ┆ null      ┆ null      ┆ … ┆ 0.0       ┆ 2.65      ┆ 2.133333  ┆ 25.9     │\n",
       "│ 50%       ┆ null      ┆ null      ┆ null      ┆ … ┆ 0.0       ┆ 3.533333  ┆ 2.783333  ┆ 44.28333 │\n",
       "│           ┆           ┆           ┆           ┆   ┆           ┆           ┆           ┆ 3        │\n",
       "│ 75%       ┆ null      ┆ null      ┆ null      ┆ … ┆ 0.0       ┆ 5.45      ┆ 3.533333  ┆ 82.86666 │\n",
       "│           ┆           ┆           ┆           ┆   ┆           ┆           ┆           ┆ 7        │\n",
       "│ max       ┆ 725019920 ┆ Wilmingto ┆ YUSEN     ┆ … ┆ 530.75    ┆ 2427.6833 ┆ 3407.3333 ┆ 4842.083 │\n",
       "│           ┆ _Port Eve ┆ n, NC     ┆ TERMINALS ┆   ┆           ┆ 33        ┆ 33        ┆ 333      │\n",
       "│           ┆ rglades,  ┆           ┆ BERTHS    ┆   ┆           ┆           ┆           ┆          │\n",
       "│           ┆ FL_…      ┆           ┆ 212-221   ┆   ┆           ┆           ┆           ┆          │\n",
       "└───────────┴───────────┴───────────┴───────────┴───┴───────────┴───────────┴───────────┴──────────┘"
      ]
     },
     "metadata": {},
     "output_type": "display_data"
    },
    {
     "data": {
      "text/html": [
       "<div><style>\n",
       ".dataframe > thead > tr,\n",
       ".dataframe > tbody > tr {\n",
       "  text-align: right;\n",
       "  white-space: pre-wrap;\n",
       "}\n",
       "</style>\n",
       "<small>shape: (5, 16)</small><table border=\"1\" class=\"dataframe\"><thead><tr><th>call_id</th><th>port_name</th><th>dock_name</th><th>dock_id</th><th>mmsi</th><th>imo</th><th>vessel_size</th><th>time_port_entry</th><th>time_arrival</th><th>time_departure</th><th>time_port_exit</th><th>hrs_at_berth</th><th>hrs_at_anchor</th><th>hrs_to_dock</th><th>hrs_in_port_after_dock</th><th>hrs_in_port_waters</th></tr><tr><td>str</td><td>str</td><td>str</td><td>str</td><td>str</td><td>f64</td><td>f64</td><td>datetime[μs]</td><td>datetime[μs]</td><td>datetime[μs]</td><td>datetime[μs]</td><td>f64</td><td>f64</td><td>f64</td><td>f64</td><td>f64</td></tr></thead><tbody><tr><td>&quot;477168400_Port of Long Beach, …</td><td>&quot;Port of Long Beach, CA&quot;</td><td>&quot;CALIFORNIA UNITED TERM BERTH D…</td><td>&quot;0VBF&quot;</td><td>&quot;477168400&quot;</td><td>9.785744e6</td><td>366.0</td><td>2023-02-24 19:01:18</td><td>2023-02-24 23:02:39</td><td>2023-03-01 02:19:10</td><td>2023-03-01 06:50:20</td><td>99.266667</td><td>0.0</td><td>4.016667</td><td>4.516667</td><td>107.816667</td></tr><tr><td>&quot;230185000_San Juan, PR_2019-03…</td><td>&quot;San Juan, PR&quot;</td><td>&quot;MUNICIPAL PIER 15&quot;</td><td>&quot;0NAY&quot;</td><td>&quot;230185000&quot;</td><td>9.002647e6</td><td>108.0</td><td>2019-03-18 16:42:33</td><td>2019-03-18 19:41:22</td><td>2019-03-19 05:43:46</td><td>2019-03-19 09:45:47</td><td>10.033333</td><td>0.0</td><td>2.966667</td><td>4.033333</td><td>17.05</td></tr><tr><td>&quot;563000500_PortMiami, FL_2019-0…</td><td>&quot;PortMiami, FL&quot;</td><td>&quot;PORT OF MIAMI BAYS 144 - 155&quot;</td><td>&quot;0QCU&quot;</td><td>&quot;563000500&quot;</td><td>9.289958e6</td><td>335.0</td><td>2019-04-27 05:08:50</td><td>2019-04-27 09:41:22</td><td>2019-04-28 12:12:11</td><td>2019-04-28 14:03:22</td><td>26.5</td><td>0.0</td><td>4.533333</td><td>1.85</td><td>32.9</td></tr><tr><td>&quot;636015248_Port of Kalama, WA_2…</td><td>&quot;Port of Kalama, WA&quot;</td><td>&quot;EMERALD KALAMA CHEMICAL LLC WH…</td><td>&quot;0UX3&quot;</td><td>&quot;636015248&quot;</td><td>9.528366e6</td><td>183.0</td><td>2019-04-29 17:49:42</td><td>2019-04-29 20:40:33</td><td>2019-04-30 12:49:05</td><td>2019-04-30 14:51:24</td><td>16.133333</td><td>0.0</td><td>2.833333</td><td>2.033333</td><td>21.016667</td></tr><tr><td>&quot;538004555_Searsport, ME_2020-0…</td><td>&quot;Searsport, ME&quot;</td><td>&quot;SEARSPORT MACK POINT MARINE IN…</td><td>&quot;0Q7C&quot;</td><td>&quot;538004555&quot;</td><td>9.373993e6</td><td>190.0</td><td>2020-02-11 03:07:19</td><td>2020-02-11 05:38:21</td><td>2020-02-15 11:00:04</td><td>2020-02-15 13:03:35</td><td>100.95</td><td>0.0</td><td>2.516667</td><td>2.05</td><td>105.933333</td></tr></tbody></table></div>"
      ],
      "text/plain": [
       "shape: (5, 16)\n",
       "┌────────────┬───────────┬───────────┬─────────┬───┬───────────┬───────────┬───────────┬───────────┐\n",
       "│ call_id    ┆ port_name ┆ dock_name ┆ dock_id ┆ … ┆ hrs_at_an ┆ hrs_to_do ┆ hrs_in_po ┆ hrs_in_po │\n",
       "│ ---        ┆ ---       ┆ ---       ┆ ---     ┆   ┆ chor      ┆ ck        ┆ rt_after_ ┆ rt_waters │\n",
       "│ str        ┆ str       ┆ str       ┆ str     ┆   ┆ ---       ┆ ---       ┆ dock      ┆ ---       │\n",
       "│            ┆           ┆           ┆         ┆   ┆ f64       ┆ f64       ┆ ---       ┆ f64       │\n",
       "│            ┆           ┆           ┆         ┆   ┆           ┆           ┆ f64       ┆           │\n",
       "╞════════════╪═══════════╪═══════════╪═════════╪═══╪═══════════╪═══════════╪═══════════╪═══════════╡\n",
       "│ 477168400_ ┆ Port of   ┆ CALIFORNI ┆ 0VBF    ┆ … ┆ 0.0       ┆ 4.016667  ┆ 4.516667  ┆ 107.81666 │\n",
       "│ Port of    ┆ Long      ┆ A UNITED  ┆         ┆   ┆           ┆           ┆           ┆ 7         │\n",
       "│ Long       ┆ Beach, CA ┆ TERM      ┆         ┆   ┆           ┆           ┆           ┆           │\n",
       "│ Beach, …   ┆           ┆ BERTH D…  ┆         ┆   ┆           ┆           ┆           ┆           │\n",
       "│ 230185000_ ┆ San Juan, ┆ MUNICIPAL ┆ 0NAY    ┆ … ┆ 0.0       ┆ 2.966667  ┆ 4.033333  ┆ 17.05     │\n",
       "│ San Juan,  ┆ PR        ┆ PIER 15   ┆         ┆   ┆           ┆           ┆           ┆           │\n",
       "│ PR_2019-03 ┆           ┆           ┆         ┆   ┆           ┆           ┆           ┆           │\n",
       "│ …          ┆           ┆           ┆         ┆   ┆           ┆           ┆           ┆           │\n",
       "│ 563000500_ ┆ PortMiami ┆ PORT OF   ┆ 0QCU    ┆ … ┆ 0.0       ┆ 4.533333  ┆ 1.85      ┆ 32.9      │\n",
       "│ PortMiami, ┆ , FL      ┆ MIAMI     ┆         ┆   ┆           ┆           ┆           ┆           │\n",
       "│ FL_2019-0… ┆           ┆ BAYS 144  ┆         ┆   ┆           ┆           ┆           ┆           │\n",
       "│            ┆           ┆ - 155     ┆         ┆   ┆           ┆           ┆           ┆           │\n",
       "│ 636015248_ ┆ Port of   ┆ EMERALD   ┆ 0UX3    ┆ … ┆ 0.0       ┆ 2.833333  ┆ 2.033333  ┆ 21.016667 │\n",
       "│ Port of    ┆ Kalama,   ┆ KALAMA    ┆         ┆   ┆           ┆           ┆           ┆           │\n",
       "│ Kalama,    ┆ WA        ┆ CHEMICAL  ┆         ┆   ┆           ┆           ┆           ┆           │\n",
       "│ WA_2…      ┆           ┆ LLC WH…   ┆         ┆   ┆           ┆           ┆           ┆           │\n",
       "│ 538004555_ ┆ Searsport ┆ SEARSPORT ┆ 0Q7C    ┆ … ┆ 0.0       ┆ 2.516667  ┆ 2.05      ┆ 105.93333 │\n",
       "│ Searsport, ┆ , ME      ┆ MACK      ┆         ┆   ┆           ┆           ┆           ┆ 3         │\n",
       "│ ME_2020-0… ┆           ┆ POINT     ┆         ┆   ┆           ┆           ┆           ┆           │\n",
       "│            ┆           ┆ MARINE    ┆         ┆   ┆           ┆           ┆           ┆           │\n",
       "│            ┆           ┆ IN…       ┆         ┆   ┆           ┆           ┆           ┆           │\n",
       "└────────────┴───────────┴───────────┴─────────┴───┴───────────┴───────────┴───────────┴───────────┘"
      ]
     },
     "execution_count": 75,
     "metadata": {},
     "output_type": "execute_result"
    }
   ],
   "source": [
    "#get count of rows from calls_df before drop\n",
    "rows_prior = calls_df.shape[0]\n",
    "\n",
    "#list cols that should never be zero by construction\n",
    "zero_cols = ['hrs_at_berth', 'hrs_in_port_waters']\n",
    "#list cols for outlier drop\n",
    "outlier_cols = ['hrs_at_berth', 'hrs_to_dock', 'hrs_at_anchor', \n",
    "                'hrs_in_port_after_dock', 'hrs_in_port_waters']\n",
    "\n",
    "#drop zero values\n",
    "calls_df = drop_zero_values(calls_df, zero_cols)\n",
    "#print number of observations dropped\n",
    "print(f'Total zero rows dropped: {rows_prior - calls_df.shape[0]} of {rows_prior}')\n",
    "rows_prior = calls_df.shape[0]\n",
    "\n",
    "#drop outliers\n",
    "#print z_score thresholds\n",
    "for col in outlier_cols:\n",
    "    print(f'{col} outlier threshold: {calls_df[col].std()*3/24:.1f} days')\n",
    "#drop outliers\n",
    "calls_df = drop_outliers(calls_df, outlier_cols, threshold=3)\n",
    "#print rows dropped\n",
    "print(f'Total outlier rows dropped: {rows_prior - calls_df.shape[0]} of {rows_prior}')\n",
    "\n",
    "#inspect\n",
    "display(calls_df.describe())\n",
    "calls_df.head()"
   ]
  },
  {
   "cell_type": "markdown",
   "metadata": {},
   "source": [
    "## Simple delay calculations\n",
    "\n",
    "Differentiating between delay time and the \"efficient\" time it takes for a ship to get to a dock is somewhat difficult. \n",
    "\n",
    "At its most basic, we can calculate the difference between the hrs_to_dock time for each port call and the minimum hrs_to_dock for that vessel and dock. "
   ]
  },
  {
   "cell_type": "code",
   "execution_count": 76,
   "metadata": {},
   "outputs": [
    {
     "data": {
      "text/html": [
       "<div><style>\n",
       ".dataframe > thead > tr,\n",
       ".dataframe > tbody > tr {\n",
       "  text-align: right;\n",
       "  white-space: pre-wrap;\n",
       "}\n",
       "</style>\n",
       "<small>shape: (9, 18)</small><table border=\"1\" class=\"dataframe\"><thead><tr><th>statistic</th><th>call_id</th><th>port_name</th><th>dock_name</th><th>dock_id</th><th>mmsi</th><th>imo</th><th>vessel_size</th><th>time_port_entry</th><th>time_arrival</th><th>time_departure</th><th>time_port_exit</th><th>hrs_at_berth</th><th>hrs_at_anchor</th><th>hrs_to_dock</th><th>hrs_in_port_after_dock</th><th>hrs_in_port_waters</th><th>hrs_delay</th></tr><tr><td>str</td><td>str</td><td>str</td><td>str</td><td>str</td><td>str</td><td>f64</td><td>f64</td><td>str</td><td>str</td><td>str</td><td>str</td><td>f64</td><td>f64</td><td>f64</td><td>f64</td><td>f64</td><td>f64</td></tr></thead><tbody><tr><td>&quot;count&quot;</td><td>&quot;147523&quot;</td><td>&quot;147523&quot;</td><td>&quot;147523&quot;</td><td>&quot;147523&quot;</td><td>&quot;147523&quot;</td><td>147522.0</td><td>147523.0</td><td>&quot;147523&quot;</td><td>&quot;147523&quot;</td><td>&quot;147523&quot;</td><td>&quot;147523&quot;</td><td>147523.0</td><td>147523.0</td><td>147523.0</td><td>147523.0</td><td>147523.0</td><td>147523.0</td></tr><tr><td>&quot;null_count&quot;</td><td>&quot;0&quot;</td><td>&quot;0&quot;</td><td>&quot;0&quot;</td><td>&quot;0&quot;</td><td>&quot;0&quot;</td><td>1.0</td><td>0.0</td><td>&quot;0&quot;</td><td>&quot;0&quot;</td><td>&quot;0&quot;</td><td>&quot;0&quot;</td><td>0.0</td><td>0.0</td><td>0.0</td><td>0.0</td><td>0.0</td><td>0.0</td></tr><tr><td>&quot;mean&quot;</td><td>null</td><td>null</td><td>null</td><td>null</td><td>null</td><td>1.0153e7</td><td>207.44387</td><td>&quot;2021-06-07 06:28:46.550544&quot;</td><td>&quot;2021-06-07 20:05:58.862075&quot;</td><td>&quot;2021-06-10 03:50:15.463093&quot;</td><td>&quot;2021-06-10 09:45:14.323122&quot;</td><td>49.363115</td><td>11.35651</td><td>13.612194</td><td>5.908665</td><td>75.266205</td><td>5.250869</td></tr><tr><td>&quot;std&quot;</td><td>null</td><td>null</td><td>null</td><td>null</td><td>null</td><td>2.6724e7</td><td>58.833626</td><td>null</td><td>null</td><td>null</td><td>null</td><td>71.909922</td><td>43.327654</td><td>44.041117</td><td>46.615158</td><td>120.200827</td><td>27.629323</td></tr><tr><td>&quot;min&quot;</td><td>&quot;205042000_Port of Long Beach, …</td><td>&quot;Albany Port District, NY&quot;</td><td>&quot;ADM Corpus Christi Grain Eleva…</td><td>&quot;00XE&quot;</td><td>&quot;205042000&quot;</td><td>0.0</td><td>101.0</td><td>&quot;2018-01-01 00:35:19&quot;</td><td>&quot;2018-01-01 00:35:19&quot;</td><td>&quot;2018-01-01 04:23:54&quot;</td><td>&quot;2018-01-01 09:15:57&quot;</td><td>0.083333</td><td>0.0</td><td>0.0</td><td>0.0</td><td>0.133333</td><td>0.0</td></tr><tr><td>&quot;25%&quot;</td><td>null</td><td>null</td><td>null</td><td>null</td><td>null</td><td>9.296262e6</td><td>176.0</td><td>&quot;2019-08-28 08:02:23&quot;</td><td>&quot;2019-08-28 14:16:45&quot;</td><td>&quot;2019-08-30 18:18:27&quot;</td><td>&quot;2019-08-30 22:20:16&quot;</td><td>16.6</td><td>0.0</td><td>2.65</td><td>2.133333</td><td>25.9</td><td>0.0</td></tr><tr><td>&quot;50%&quot;</td><td>null</td><td>null</td><td>null</td><td>null</td><td>null</td><td>9.402043e6</td><td>190.0</td><td>&quot;2021-07-19 13:36:33&quot;</td><td>&quot;2021-07-20 09:38:57&quot;</td><td>&quot;2021-07-22 22:48:02&quot;</td><td>&quot;2021-07-23 03:00:20&quot;</td><td>31.233333</td><td>0.0</td><td>3.533333</td><td>2.783333</td><td>44.283333</td><td>0.183333</td></tr><tr><td>&quot;75%&quot;</td><td>null</td><td>null</td><td>null</td><td>null</td><td>null</td><td>9.61385e6</td><td>230.0</td><td>&quot;2023-02-26 06:10:04&quot;</td><td>&quot;2023-02-26 17:02:43&quot;</td><td>&quot;2023-02-28 22:24:21&quot;</td><td>&quot;2023-03-01 02:03:24&quot;</td><td>57.866667</td><td>0.0</td><td>5.45</td><td>3.533333</td><td>82.866667</td><td>2.05</td></tr><tr><td>&quot;max&quot;</td><td>&quot;725019920_Port Everglades, FL_…</td><td>&quot;Wilmington, NC&quot;</td><td>&quot;YUSEN TERMINALS BERTHS 212-221&quot;</td><td>&quot;1JHK&quot;</td><td>&quot;725019920&quot;</td><td>9.800025e8</td><td>667.0</td><td>&quot;2024-09-30 12:54:53&quot;</td><td>&quot;2024-09-30 16:32:15&quot;</td><td>&quot;2024-09-30 21:54:12&quot;</td><td>&quot;2024-09-30 22:57:53&quot;</td><td>1635.516667</td><td>530.75</td><td>2427.683333</td><td>3407.333333</td><td>4842.083333</td><td>1905.683333</td></tr></tbody></table></div>"
      ],
      "text/plain": [
       "shape: (9, 18)\n",
       "┌───────────┬───────────┬───────────┬───────────┬───┬───────────┬───────────┬───────────┬──────────┐\n",
       "│ statistic ┆ call_id   ┆ port_name ┆ dock_name ┆ … ┆ hrs_to_do ┆ hrs_in_po ┆ hrs_in_po ┆ hrs_dela │\n",
       "│ ---       ┆ ---       ┆ ---       ┆ ---       ┆   ┆ ck        ┆ rt_after_ ┆ rt_waters ┆ y        │\n",
       "│ str       ┆ str       ┆ str       ┆ str       ┆   ┆ ---       ┆ dock      ┆ ---       ┆ ---      │\n",
       "│           ┆           ┆           ┆           ┆   ┆ f64       ┆ ---       ┆ f64       ┆ f64      │\n",
       "│           ┆           ┆           ┆           ┆   ┆           ┆ f64       ┆           ┆          │\n",
       "╞═══════════╪═══════════╪═══════════╪═══════════╪═══╪═══════════╪═══════════╪═══════════╪══════════╡\n",
       "│ count     ┆ 147523    ┆ 147523    ┆ 147523    ┆ … ┆ 147523.0  ┆ 147523.0  ┆ 147523.0  ┆ 147523.0 │\n",
       "│ null_coun ┆ 0         ┆ 0         ┆ 0         ┆ … ┆ 0.0       ┆ 0.0       ┆ 0.0       ┆ 0.0      │\n",
       "│ t         ┆           ┆           ┆           ┆   ┆           ┆           ┆           ┆          │\n",
       "│ mean      ┆ null      ┆ null      ┆ null      ┆ … ┆ 13.612194 ┆ 5.908665  ┆ 75.266205 ┆ 5.250869 │\n",
       "│ std       ┆ null      ┆ null      ┆ null      ┆ … ┆ 44.041117 ┆ 46.615158 ┆ 120.20082 ┆ 27.62932 │\n",
       "│           ┆           ┆           ┆           ┆   ┆           ┆           ┆ 7         ┆ 3        │\n",
       "│ min       ┆ 205042000 ┆ Albany    ┆ ADM       ┆ … ┆ 0.0       ┆ 0.0       ┆ 0.133333  ┆ 0.0      │\n",
       "│           ┆ _Port of  ┆ Port      ┆ Corpus    ┆   ┆           ┆           ┆           ┆          │\n",
       "│           ┆ Long      ┆ District, ┆ Christi   ┆   ┆           ┆           ┆           ┆          │\n",
       "│           ┆ Beach, …  ┆ NY        ┆ Grain     ┆   ┆           ┆           ┆           ┆          │\n",
       "│           ┆           ┆           ┆ Eleva…    ┆   ┆           ┆           ┆           ┆          │\n",
       "│ 25%       ┆ null      ┆ null      ┆ null      ┆ … ┆ 2.65      ┆ 2.133333  ┆ 25.9      ┆ 0.0      │\n",
       "│ 50%       ┆ null      ┆ null      ┆ null      ┆ … ┆ 3.533333  ┆ 2.783333  ┆ 44.283333 ┆ 0.183333 │\n",
       "│ 75%       ┆ null      ┆ null      ┆ null      ┆ … ┆ 5.45      ┆ 3.533333  ┆ 82.866667 ┆ 2.05     │\n",
       "│ max       ┆ 725019920 ┆ Wilmingto ┆ YUSEN     ┆ … ┆ 2427.6833 ┆ 3407.3333 ┆ 4842.0833 ┆ 1905.683 │\n",
       "│           ┆ _Port Eve ┆ n, NC     ┆ TERMINALS ┆   ┆ 33        ┆ 33        ┆ 33        ┆ 333      │\n",
       "│           ┆ rglades,  ┆           ┆ BERTHS    ┆   ┆           ┆           ┆           ┆          │\n",
       "│           ┆ FL_…      ┆           ┆ 212-221   ┆   ┆           ┆           ┆           ┆          │\n",
       "└───────────┴───────────┴───────────┴───────────┴───┴───────────┴───────────┴───────────┴──────────┘"
      ]
     },
     "execution_count": 76,
     "metadata": {},
     "output_type": "execute_result"
    }
   ],
   "source": [
    "#add min hrs to dock for each vessel-dock pair\n",
    "delay_df = (\n",
    "    calls_df\n",
    "    #min hrs to dock for each vessel-dock pair\n",
    "    .with_columns(\n",
    "        min_hrs_to_dock = pl.col('hrs_to_dock').min().over('mmsi', 'dock_id')\n",
    "    )\n",
    "    #\"delay\" in hrs\n",
    "    .with_columns(\n",
    "        hrs_delay = pl.col('hrs_to_dock') - pl.col('min_hrs_to_dock')\n",
    "    )\n",
    "    #drop unnecessary columns\n",
    "    .drop('min_hrs_to_dock')\n",
    ")\n",
    "\n",
    "delay_df.describe()"
   ]
  },
  {
   "cell_type": "code",
   "execution_count": 77,
   "metadata": {},
   "outputs": [
    {
     "data": {
      "text/plain": [
       "66048"
      ]
     },
     "execution_count": 77,
     "metadata": {},
     "output_type": "execute_result"
    }
   ],
   "source": [
    "#count of calls with zero delay\n",
    "delay_df.filter(pl.col('hrs_delay') == 0).shape[0]"
   ]
  },
  {
   "cell_type": "markdown",
   "metadata": {},
   "source": [
    "64k of 145k port calls align show zero delay indicating those calls represent the only time that that vessel visited that dock. "
   ]
  },
  {
   "cell_type": "markdown",
   "metadata": {},
   "source": [
    "### Time Awaiting Berth\n",
    "\n",
    "We define time awaiting berth as the total time it takes a vessel to get to the dock minus the amount of time the dock was occupied while that vessel was en route. "
   ]
  },
  {
   "cell_type": "code",
   "execution_count": 78,
   "metadata": {},
   "outputs": [
    {
     "name": "stdout",
     "output_type": "stream",
     "text": [
      "skipping\n"
     ]
    }
   ],
   "source": [
    "%%script echo skipping\n",
    "#calculate time awaiting berth\n",
    "\n",
    "#for each call_id and dock, get the total time dock was occupied between time_port_entry and time_arrival\n",
    "\n",
    "#get time_port_entry, time_arrival for each call id\n",
    "lf = (calls_df.select('call_id', 'time_port_entry', 'time_arrival')\n",
    "      .unique().lazy())\n",
    "#join to main lf\n",
    "main_lf = main_lf.join(lf, on='call_id', how='left')\n",
    "\n",
    "for call in calls_df.select('call_id').unique().to_series():\n",
    "      #get start time and end time\n",
    "      start = (calls_df.filter(pl.col('call_id')==call)\n",
    "               .select('time_port_entry').item())\n",
    "      end = (calls_df.filter(pl.col('call_id')==call)\n",
    "               .select('time_arrival').item())\n",
    "      #get dock occupancy\n",
    "      df = (\n",
    "            main_lf\n",
    "            .with_columns(\n",
    "                  dock_occupied = (\n",
    "                        (pl.col('status')==5)\n",
    "                        .then(pl.col('status_duration'))\n",
    "                        .otherwise(pl.lit(None))\n",
    "                  )\n",
    "            )\n",
    "      )\n"
   ]
  },
  {
   "cell_type": "code",
   "execution_count": 79,
   "metadata": {},
   "outputs": [
    {
     "data": {
      "text/html": [
       "<div><style>\n",
       ".dataframe > thead > tr,\n",
       ".dataframe > tbody > tr {\n",
       "  text-align: right;\n",
       "  white-space: pre-wrap;\n",
       "}\n",
       "</style>\n",
       "<small>shape: (9, 16)</small><table border=\"1\" class=\"dataframe\"><thead><tr><th>statistic</th><th>port_name</th><th>dock_id</th><th>month</th><th>vessels</th><th>vessel_size_mean</th><th>calls</th><th>hrs_occupied</th><th>hrs_at_berth_median</th><th>hrs_at_berth_mean</th><th>hrs_at_anchor_median</th><th>hrs_at_anchor_mean</th><th>hrs_in_port_waters_total</th><th>hrs_in_port_waters_mean</th><th>hrs_in_port_waters_median</th><th>utilization</th></tr><tr><td>str</td><td>str</td><td>str</td><td>str</td><td>f64</td><td>f64</td><td>f64</td><td>f64</td><td>f64</td><td>f64</td><td>f64</td><td>f64</td><td>f64</td><td>f64</td><td>f64</td><td>f64</td></tr></thead><tbody><tr><td>&quot;count&quot;</td><td>&quot;34533&quot;</td><td>&quot;34533&quot;</td><td>&quot;34533&quot;</td><td>34533.0</td><td>34533.0</td><td>34533.0</td><td>34533.0</td><td>34533.0</td><td>34533.0</td><td>34533.0</td><td>34533.0</td><td>34533.0</td><td>34533.0</td><td>34533.0</td><td>34533.0</td></tr><tr><td>&quot;null_count&quot;</td><td>&quot;0&quot;</td><td>&quot;0&quot;</td><td>&quot;0&quot;</td><td>0.0</td><td>0.0</td><td>0.0</td><td>0.0</td><td>0.0</td><td>0.0</td><td>0.0</td><td>0.0</td><td>0.0</td><td>0.0</td><td>0.0</td><td>0.0</td></tr><tr><td>&quot;mean&quot;</td><td>null</td><td>null</td><td>null</td><td>3.757305</td><td>195.750371</td><td>4.271943</td><td>210.876402</td><td>60.76393</td><td>64.510937</td><td>9.257232</td><td>12.194056</td><td>321.532923</td><td>93.706709</td><td>86.801703</td><td>0.288988</td></tr><tr><td>&quot;std&quot;</td><td>null</td><td>null</td><td>null</td><td>3.727805</td><td>49.119715</td><td>4.407909</td><td>215.830552</td><td>77.042756</td><td>78.07731</td><td>33.321031</td><td>35.128814</td><td>379.636602</td><td>117.554183</td><td>114.401728</td><td>0.295455</td></tr><tr><td>&quot;min&quot;</td><td>&quot;Albany Port District, NY&quot;</td><td>&quot;00XE&quot;</td><td>&quot;201801&quot;</td><td>1.0</td><td>101.0</td><td>1.0</td><td>0.083333</td><td>0.083333</td><td>0.083333</td><td>0.0</td><td>0.0</td><td>0.65</td><td>0.65</td><td>0.65</td><td>0.000112</td></tr><tr><td>&quot;25%&quot;</td><td>null</td><td>null</td><td>null</td><td>1.0</td><td>168.0</td><td>1.0</td><td>68.316667</td><td>22.916667</td><td>25.761905</td><td>0.0</td><td>0.0</td><td>98.416667</td><td>38.08</td><td>34.3</td><td>0.093548</td></tr><tr><td>&quot;50%&quot;</td><td>null</td><td>null</td><td>null</td><td>3.0</td><td>184.8</td><td>3.0</td><td>149.75</td><td>40.916667</td><td>44.530556</td><td>0.0</td><td>0.0</td><td>210.0</td><td>64.623333</td><td>58.366667</td><td>0.205085</td></tr><tr><td>&quot;75%&quot;</td><td>null</td><td>null</td><td>null</td><td>5.0</td><td>211.444444</td><td>5.0</td><td>284.15</td><td>72.825</td><td>77.5</td><td>0.0</td><td>5.027778</td><td>402.083333</td><td>110.911111</td><td>102.2</td><td>0.389398</td></tr><tr><td>&quot;max&quot;</td><td>&quot;Wilmington, NC&quot;</td><td>&quot;1JHK&quot;</td><td>&quot;202409&quot;</td><td>44.0</td><td>385.0</td><td>53.0</td><td>3430.8</td><td>1635.516667</td><td>1635.516667</td><td>516.55</td><td>516.55</td><td>6076.233333</td><td>4068.6</td><td>4068.6</td><td>4.61129</td></tr></tbody></table></div>"
      ],
      "text/plain": [
       "shape: (9, 16)\n",
       "┌────────────┬────────────┬─────────┬────────┬───┬────────────┬────────────┬───────────┬───────────┐\n",
       "│ statistic  ┆ port_name  ┆ dock_id ┆ month  ┆ … ┆ hrs_in_por ┆ hrs_in_por ┆ hrs_in_po ┆ utilizati │\n",
       "│ ---        ┆ ---        ┆ ---     ┆ ---    ┆   ┆ t_waters_t ┆ t_waters_m ┆ rt_waters ┆ on        │\n",
       "│ str        ┆ str        ┆ str     ┆ str    ┆   ┆ otal       ┆ ean        ┆ _median   ┆ ---       │\n",
       "│            ┆            ┆         ┆        ┆   ┆ ---        ┆ ---        ┆ ---       ┆ f64       │\n",
       "│            ┆            ┆         ┆        ┆   ┆ f64        ┆ f64        ┆ f64       ┆           │\n",
       "╞════════════╪════════════╪═════════╪════════╪═══╪════════════╪════════════╪═══════════╪═══════════╡\n",
       "│ count      ┆ 34533      ┆ 34533   ┆ 34533  ┆ … ┆ 34533.0    ┆ 34533.0    ┆ 34533.0   ┆ 34533.0   │\n",
       "│ null_count ┆ 0          ┆ 0       ┆ 0      ┆ … ┆ 0.0        ┆ 0.0        ┆ 0.0       ┆ 0.0       │\n",
       "│ mean       ┆ null       ┆ null    ┆ null   ┆ … ┆ 321.532923 ┆ 93.706709  ┆ 86.801703 ┆ 0.288988  │\n",
       "│ std        ┆ null       ┆ null    ┆ null   ┆ … ┆ 379.636602 ┆ 117.554183 ┆ 114.40172 ┆ 0.295455  │\n",
       "│            ┆            ┆         ┆        ┆   ┆            ┆            ┆ 8         ┆           │\n",
       "│ min        ┆ Albany     ┆ 00XE    ┆ 201801 ┆ … ┆ 0.65       ┆ 0.65       ┆ 0.65      ┆ 0.000112  │\n",
       "│            ┆ Port       ┆         ┆        ┆   ┆            ┆            ┆           ┆           │\n",
       "│            ┆ District,  ┆         ┆        ┆   ┆            ┆            ┆           ┆           │\n",
       "│            ┆ NY         ┆         ┆        ┆   ┆            ┆            ┆           ┆           │\n",
       "│ 25%        ┆ null       ┆ null    ┆ null   ┆ … ┆ 98.416667  ┆ 38.08      ┆ 34.3      ┆ 0.093548  │\n",
       "│ 50%        ┆ null       ┆ null    ┆ null   ┆ … ┆ 210.0      ┆ 64.623333  ┆ 58.366667 ┆ 0.205085  │\n",
       "│ 75%        ┆ null       ┆ null    ┆ null   ┆ … ┆ 402.083333 ┆ 110.911111 ┆ 102.2     ┆ 0.389398  │\n",
       "│ max        ┆ Wilmington ┆ 1JHK    ┆ 202409 ┆ … ┆ 6076.23333 ┆ 4068.6     ┆ 4068.6    ┆ 4.61129   │\n",
       "│            ┆ , NC       ┆         ┆        ┆   ┆ 3          ┆            ┆           ┆           │\n",
       "└────────────┴────────────┴─────────┴────────┴───┴────────────┴────────────┴───────────┴───────────┘"
      ]
     },
     "metadata": {},
     "output_type": "display_data"
    },
    {
     "data": {
      "text/html": [
       "<div><style>\n",
       ".dataframe > thead > tr,\n",
       ".dataframe > tbody > tr {\n",
       "  text-align: right;\n",
       "  white-space: pre-wrap;\n",
       "}\n",
       "</style>\n",
       "<small>shape: (5, 15)</small><table border=\"1\" class=\"dataframe\"><thead><tr><th>port_name</th><th>dock_id</th><th>month</th><th>vessels</th><th>vessel_size_mean</th><th>calls</th><th>hrs_occupied</th><th>hrs_at_berth_median</th><th>hrs_at_berth_mean</th><th>hrs_at_anchor_median</th><th>hrs_at_anchor_mean</th><th>hrs_in_port_waters_total</th><th>hrs_in_port_waters_mean</th><th>hrs_in_port_waters_median</th><th>utilization</th></tr><tr><td>str</td><td>str</td><td>str</td><td>u32</td><td>f64</td><td>u32</td><td>f64</td><td>f64</td><td>f64</td><td>f64</td><td>f64</td><td>f64</td><td>f64</td><td>f64</td><td>f64</td></tr></thead><tbody><tr><td>&quot;Albany Port District, NY&quot;</td><td>&quot;0PST&quot;</td><td>&quot;201803&quot;</td><td>1</td><td>171.0</td><td>1</td><td>67.666667</td><td>67.666667</td><td>67.666667</td><td>0.0</td><td>0.0</td><td>73.283333</td><td>73.283333</td><td>73.283333</td><td>0.09095</td></tr><tr><td>&quot;Albany Port District, NY&quot;</td><td>&quot;0PST&quot;</td><td>&quot;201804&quot;</td><td>1</td><td>189.0</td><td>1</td><td>165.6</td><td>165.6</td><td>165.6</td><td>0.0</td><td>0.0</td><td>172.833333</td><td>172.833333</td><td>172.833333</td><td>0.23</td></tr><tr><td>&quot;Albany Port District, NY&quot;</td><td>&quot;0PST&quot;</td><td>&quot;201806&quot;</td><td>1</td><td>179.0</td><td>1</td><td>118.4</td><td>118.4</td><td>118.4</td><td>0.0</td><td>0.0</td><td>125.083333</td><td>125.083333</td><td>125.083333</td><td>0.164444</td></tr><tr><td>&quot;Albany Port District, NY&quot;</td><td>&quot;0PST&quot;</td><td>&quot;201807&quot;</td><td>2</td><td>199.0</td><td>2</td><td>166.416667</td><td>83.208333</td><td>83.208333</td><td>0.0</td><td>0.0</td><td>200.683333</td><td>100.341667</td><td>100.341667</td><td>0.223678</td></tr><tr><td>&quot;Albany Port District, NY&quot;</td><td>&quot;0PST&quot;</td><td>&quot;201808&quot;</td><td>3</td><td>192.666667</td><td>3</td><td>185.0</td><td>78.45</td><td>61.666667</td><td>0.0</td><td>0.0</td><td>350.9</td><td>116.966667</td><td>98.483333</td><td>0.248656</td></tr></tbody></table></div>"
      ],
      "text/plain": [
       "shape: (5, 15)\n",
       "┌─────────────┬─────────┬────────┬─────────┬───┬────────────┬────────────┬────────────┬────────────┐\n",
       "│ port_name   ┆ dock_id ┆ month  ┆ vessels ┆ … ┆ hrs_in_por ┆ hrs_in_por ┆ hrs_in_por ┆ utilizatio │\n",
       "│ ---         ┆ ---     ┆ ---    ┆ ---     ┆   ┆ t_waters_t ┆ t_waters_m ┆ t_waters_m ┆ n          │\n",
       "│ str         ┆ str     ┆ str    ┆ u32     ┆   ┆ otal       ┆ ean        ┆ edian      ┆ ---        │\n",
       "│             ┆         ┆        ┆         ┆   ┆ ---        ┆ ---        ┆ ---        ┆ f64        │\n",
       "│             ┆         ┆        ┆         ┆   ┆ f64        ┆ f64        ┆ f64        ┆            │\n",
       "╞═════════════╪═════════╪════════╪═════════╪═══╪════════════╪════════════╪════════════╪════════════╡\n",
       "│ Albany Port ┆ 0PST    ┆ 201803 ┆ 1       ┆ … ┆ 73.283333  ┆ 73.283333  ┆ 73.283333  ┆ 0.09095    │\n",
       "│ District,   ┆         ┆        ┆         ┆   ┆            ┆            ┆            ┆            │\n",
       "│ NY          ┆         ┆        ┆         ┆   ┆            ┆            ┆            ┆            │\n",
       "│ Albany Port ┆ 0PST    ┆ 201804 ┆ 1       ┆ … ┆ 172.833333 ┆ 172.833333 ┆ 172.833333 ┆ 0.23       │\n",
       "│ District,   ┆         ┆        ┆         ┆   ┆            ┆            ┆            ┆            │\n",
       "│ NY          ┆         ┆        ┆         ┆   ┆            ┆            ┆            ┆            │\n",
       "│ Albany Port ┆ 0PST    ┆ 201806 ┆ 1       ┆ … ┆ 125.083333 ┆ 125.083333 ┆ 125.083333 ┆ 0.164444   │\n",
       "│ District,   ┆         ┆        ┆         ┆   ┆            ┆            ┆            ┆            │\n",
       "│ NY          ┆         ┆        ┆         ┆   ┆            ┆            ┆            ┆            │\n",
       "│ Albany Port ┆ 0PST    ┆ 201807 ┆ 2       ┆ … ┆ 200.683333 ┆ 100.341667 ┆ 100.341667 ┆ 0.223678   │\n",
       "│ District,   ┆         ┆        ┆         ┆   ┆            ┆            ┆            ┆            │\n",
       "│ NY          ┆         ┆        ┆         ┆   ┆            ┆            ┆            ┆            │\n",
       "│ Albany Port ┆ 0PST    ┆ 201808 ┆ 3       ┆ … ┆ 350.9      ┆ 116.966667 ┆ 98.483333  ┆ 0.248656   │\n",
       "│ District,   ┆         ┆        ┆         ┆   ┆            ┆            ┆            ┆            │\n",
       "│ NY          ┆         ┆        ┆         ┆   ┆            ┆            ┆            ┆            │\n",
       "└─────────────┴─────────┴────────┴─────────┴───┴────────────┴────────────┴────────────┴────────────┘"
      ]
     },
     "execution_count": 79,
     "metadata": {},
     "output_type": "execute_result"
    }
   ],
   "source": [
    "#create monthly stats dataframe\n",
    "monththly_df = (\n",
    "    calls_df\n",
    "    #get month from docking time\n",
    "    .with_columns(\n",
    "        #extract month from docking time\n",
    "        month = pl.col('time_arrival').dt.strftime('%Y%m')\n",
    "    )\n",
    "    #group by port dock and month\n",
    "    .group_by(['port_name', 'dock_id', 'month'])\n",
    "    .agg(\n",
    "        #count number of vessels\n",
    "        vessels = pl.n_unique('mmsi'),\n",
    "        #mean vessel size\n",
    "        vessel_size_mean = pl.mean('vessel_size'),\n",
    "        #count number of vessel calls\n",
    "        calls = pl.n_unique('call_id'),\n",
    "        #time at dock stats for each vessel in hours\n",
    "        hrs_occupied = pl.sum('hrs_at_berth'),\n",
    "        hrs_at_berth_median = pl.median('hrs_at_berth'),\n",
    "        hrs_at_berth_mean = pl.mean('hrs_at_berth'),\n",
    "        #time at anchor stats for each vessel visit in hours\n",
    "        hrs_at_anchor_median = pl.median('hrs_at_anchor'),\n",
    "        hrs_at_anchor_mean = pl.mean('hrs_at_anchor'),\n",
    "        #time in port waters \n",
    "        hrs_in_port_waters_total = pl.sum('hrs_in_port_waters'),\n",
    "        hrs_in_port_waters_mean = pl.mean('hrs_in_port_waters'),\n",
    "        hrs_in_port_waters_median = pl.median('hrs_in_port_waters')\n",
    "    )\n",
    "    #get hours from each month\n",
    "    .with_columns(\n",
    "        hrs_in_month = (\n",
    "            pl.when(pl.col('month').str.tail(2).is_in(['01', '03', '05', '07',\n",
    "                                                       '08', '10', '12']))\n",
    "            .then(31*24)\n",
    "            .when(pl.col('month').str.tail(2).is_in(['04', '06', '09', '11']))\n",
    "            .then(30*24)\n",
    "            .otherwise(28*24)\n",
    "        )\n",
    "    )\n",
    "    .with_columns(\n",
    "        #dock utilization - percentage of time a dock is occupied\n",
    "        utilization = (\n",
    "            pl.col('hrs_occupied')/pl.col('hrs_in_month')\n",
    "        )\n",
    "    )\n",
    "    #drop hours in month\n",
    "    .drop('hrs_in_month')\n",
    "    #sort by port dock then month\n",
    "    .sort(['port_name', 'dock_id', 'month'])\n",
    ")\n",
    "\n",
    "#inspect\n",
    "display(monththly_df.describe())\n",
    "monththly_df.head()"
   ]
  },
  {
   "cell_type": "markdown",
   "metadata": {},
   "source": [
    "#### Hours calc discussion\n",
    "\n",
    "The current code first associates the call_id with the month in which the vessel arrived at dock, then counts total times for that call_id to that month. This results in some edge cases where hours stats far exceed the total hours in the month, as in the case that a vessel arrives at the dock and stays there for a very long period of time. \n",
    "\n",
    "This can be partially resolved by dropping statuses that are very long, which needs to be done anyway.\n",
    "- what's the right strategy? set status duration to (the median for that dock? zero? 12hr?) and give an unknown status afterwards? \n",
    "\n",
    "It would be fully resolved by totaling monthly hrs (at dock or hrs utilized, for example) independently of call_id.  "
   ]
  },
  {
   "cell_type": "code",
   "execution_count": 80,
   "metadata": {},
   "outputs": [
    {
     "data": {
      "text/html": [
       "<div><style>\n",
       ".dataframe > thead > tr,\n",
       ".dataframe > tbody > tr {\n",
       "  text-align: right;\n",
       "  white-space: pre-wrap;\n",
       "}\n",
       "</style>\n",
       "<small>shape: (5, 10)</small><table border=\"1\" class=\"dataframe\"><thead><tr><th>port_name</th><th>dock_id</th><th>year</th><th>vessels</th><th>vessel_size_mean</th><th>calls</th><th>hrs_at_berth_median</th><th>hrs_at_berth_mean</th><th>hrs_at_anchor_median</th><th>hrs_at_anchor_mean</th></tr><tr><td>str</td><td>str</td><td>i32</td><td>u32</td><td>f64</td><td>u32</td><td>f64</td><td>f64</td><td>f64</td><td>f64</td></tr></thead><tbody><tr><td>&quot;Albany Port District, NY&quot;</td><td>&quot;0Y24&quot;</td><td>2018</td><td>13</td><td>167.307692</td><td>13</td><td>69.3</td><td>86.339744</td><td>0.0</td><td>0.0</td></tr><tr><td>&quot;Albany Port District, NY&quot;</td><td>&quot;0RQB&quot;</td><td>2018</td><td>4</td><td>140.0</td><td>4</td><td>27.591667</td><td>27.079167</td><td>0.0</td><td>0.0</td></tr><tr><td>&quot;Albany Port District, NY&quot;</td><td>&quot;0Y0V&quot;</td><td>2018</td><td>22</td><td>148.869565</td><td>23</td><td>68.0</td><td>71.798551</td><td>0.0</td><td>0.023913</td></tr><tr><td>&quot;Albany Port District, NY&quot;</td><td>&quot;0PST&quot;</td><td>2018</td><td>9</td><td>189.333333</td><td>9</td><td>78.45</td><td>85.548148</td><td>0.0</td><td>0.0</td></tr><tr><td>&quot;Albany Port District, NY&quot;</td><td>&quot;0Y0T&quot;</td><td>2018</td><td>3</td><td>131.25</td><td>4</td><td>63.25</td><td>67.55</td><td>0.0</td><td>0.0</td></tr></tbody></table></div>"
      ],
      "text/plain": [
       "shape: (5, 10)\n",
       "┌─────────────┬─────────┬──────┬─────────┬───┬─────────────┬─────────────┬────────────┬────────────┐\n",
       "│ port_name   ┆ dock_id ┆ year ┆ vessels ┆ … ┆ hrs_at_bert ┆ hrs_at_bert ┆ hrs_at_anc ┆ hrs_at_anc │\n",
       "│ ---         ┆ ---     ┆ ---  ┆ ---     ┆   ┆ h_median    ┆ h_mean      ┆ hor_median ┆ hor_mean   │\n",
       "│ str         ┆ str     ┆ i32  ┆ u32     ┆   ┆ ---         ┆ ---         ┆ ---        ┆ ---        │\n",
       "│             ┆         ┆      ┆         ┆   ┆ f64         ┆ f64         ┆ f64        ┆ f64        │\n",
       "╞═════════════╪═════════╪══════╪═════════╪═══╪═════════════╪═════════════╪════════════╪════════════╡\n",
       "│ Albany Port ┆ 0Y24    ┆ 2018 ┆ 13      ┆ … ┆ 69.3        ┆ 86.339744   ┆ 0.0        ┆ 0.0        │\n",
       "│ District,   ┆         ┆      ┆         ┆   ┆             ┆             ┆            ┆            │\n",
       "│ NY          ┆         ┆      ┆         ┆   ┆             ┆             ┆            ┆            │\n",
       "│ Albany Port ┆ 0RQB    ┆ 2018 ┆ 4       ┆ … ┆ 27.591667   ┆ 27.079167   ┆ 0.0        ┆ 0.0        │\n",
       "│ District,   ┆         ┆      ┆         ┆   ┆             ┆             ┆            ┆            │\n",
       "│ NY          ┆         ┆      ┆         ┆   ┆             ┆             ┆            ┆            │\n",
       "│ Albany Port ┆ 0Y0V    ┆ 2018 ┆ 22      ┆ … ┆ 68.0        ┆ 71.798551   ┆ 0.0        ┆ 0.023913   │\n",
       "│ District,   ┆         ┆      ┆         ┆   ┆             ┆             ┆            ┆            │\n",
       "│ NY          ┆         ┆      ┆         ┆   ┆             ┆             ┆            ┆            │\n",
       "│ Albany Port ┆ 0PST    ┆ 2018 ┆ 9       ┆ … ┆ 78.45       ┆ 85.548148   ┆ 0.0        ┆ 0.0        │\n",
       "│ District,   ┆         ┆      ┆         ┆   ┆             ┆             ┆            ┆            │\n",
       "│ NY          ┆         ┆      ┆         ┆   ┆             ┆             ┆            ┆            │\n",
       "│ Albany Port ┆ 0Y0T    ┆ 2018 ┆ 3       ┆ … ┆ 63.25       ┆ 67.55       ┆ 0.0        ┆ 0.0        │\n",
       "│ District,   ┆         ┆      ┆         ┆   ┆             ┆             ┆            ┆            │\n",
       "│ NY          ┆         ┆      ┆         ┆   ┆             ┆             ┆            ┆            │\n",
       "└─────────────┴─────────┴──────┴─────────┴───┴─────────────┴─────────────┴────────────┴────────────┘"
      ]
     },
     "execution_count": 80,
     "metadata": {},
     "output_type": "execute_result"
    }
   ],
   "source": [
    "#create annual dock stats dataframe\n",
    "annual_docks_df = (\n",
    "    calls_df\n",
    "    #get year from docking time\n",
    "    .with_columns(\n",
    "        #extract year from docking time\n",
    "        year = pl.col('time_arrival').dt.year()\n",
    "    )\n",
    "    #group by port dock and month\n",
    "    .group_by(['port_name', 'dock_id', 'year'])\n",
    "    .agg(\n",
    "        #count number of vessels\n",
    "        vessels = pl.n_unique('mmsi'),\n",
    "        #mean vessel size\n",
    "        vessel_size_mean = pl.mean('vessel_size'),\n",
    "        #count number of vessel calls\n",
    "        calls = pl.n_unique('call_id'),\n",
    "        #time at dock stats for each vessel in hours\n",
    "        hrs_at_berth_median = pl.median('hrs_at_berth'),\n",
    "        hrs_at_berth_mean = pl.mean('hrs_at_berth'),\n",
    "        #time at anchor stats for each vessel visit in hours\n",
    "        hrs_at_anchor_median = pl.median('hrs_at_anchor'),\n",
    "        hrs_at_anchor_mean = pl.mean('hrs_at_anchor')\n",
    "    )\n",
    "    #sort by port then month\n",
    "    .sort(['port_name', 'year'])\n",
    ")\n",
    "\n",
    "#inspect\n",
    "annual_docks_df.head()"
   ]
  },
  {
   "cell_type": "code",
   "execution_count": 81,
   "metadata": {},
   "outputs": [
    {
     "data": {
      "text/html": [
       "<div><style>\n",
       ".dataframe > thead > tr,\n",
       ".dataframe > tbody > tr {\n",
       "  text-align: right;\n",
       "  white-space: pre-wrap;\n",
       "}\n",
       "</style>\n",
       "<small>shape: (5, 9)</small><table border=\"1\" class=\"dataframe\"><thead><tr><th>port_name</th><th>year</th><th>vessels</th><th>vessel_size_mean</th><th>calls</th><th>hrs_at_berth_median</th><th>hrs_at_berth_mean</th><th>hrs_at_anchor_median</th><th>hrs_at_anchor_mean</th></tr><tr><td>str</td><td>i32</td><td>u32</td><td>f64</td><td>u32</td><td>f64</td><td>f64</td><td>f64</td><td>f64</td></tr></thead><tbody><tr><td>&quot;Albany Port District, NY&quot;</td><td>2018</td><td>62</td><td>154.637681</td><td>69</td><td>66.85</td><td>73.283333</td><td>0.0</td><td>0.007971</td></tr><tr><td>&quot;Albany Port District, NY&quot;</td><td>2019</td><td>30</td><td>156.909091</td><td>33</td><td>69.366667</td><td>74.917677</td><td>0.0</td><td>0.018182</td></tr><tr><td>&quot;Albany Port District, NY&quot;</td><td>2020</td><td>32</td><td>147.314286</td><td>35</td><td>67.55</td><td>78.772857</td><td>0.0</td><td>0.0</td></tr><tr><td>&quot;Albany Port District, NY&quot;</td><td>2021</td><td>45</td><td>157.574468</td><td>47</td><td>59.8</td><td>73.958156</td><td>0.0</td><td>0.0</td></tr><tr><td>&quot;Albany Port District, NY&quot;</td><td>2022</td><td>56</td><td>160.183333</td><td>60</td><td>75.741667</td><td>83.167222</td><td>0.0</td><td>1.5075</td></tr></tbody></table></div>"
      ],
      "text/plain": [
       "shape: (5, 9)\n",
       "┌────────────┬──────┬─────────┬────────────┬───┬────────────┬────────────┬────────────┬────────────┐\n",
       "│ port_name  ┆ year ┆ vessels ┆ vessel_siz ┆ … ┆ hrs_at_ber ┆ hrs_at_ber ┆ hrs_at_anc ┆ hrs_at_anc │\n",
       "│ ---        ┆ ---  ┆ ---     ┆ e_mean     ┆   ┆ th_median  ┆ th_mean    ┆ hor_median ┆ hor_mean   │\n",
       "│ str        ┆ i32  ┆ u32     ┆ ---        ┆   ┆ ---        ┆ ---        ┆ ---        ┆ ---        │\n",
       "│            ┆      ┆         ┆ f64        ┆   ┆ f64        ┆ f64        ┆ f64        ┆ f64        │\n",
       "╞════════════╪══════╪═════════╪════════════╪═══╪════════════╪════════════╪════════════╪════════════╡\n",
       "│ Albany     ┆ 2018 ┆ 62      ┆ 154.637681 ┆ … ┆ 66.85      ┆ 73.283333  ┆ 0.0        ┆ 0.007971   │\n",
       "│ Port       ┆      ┆         ┆            ┆   ┆            ┆            ┆            ┆            │\n",
       "│ District,  ┆      ┆         ┆            ┆   ┆            ┆            ┆            ┆            │\n",
       "│ NY         ┆      ┆         ┆            ┆   ┆            ┆            ┆            ┆            │\n",
       "│ Albany     ┆ 2019 ┆ 30      ┆ 156.909091 ┆ … ┆ 69.366667  ┆ 74.917677  ┆ 0.0        ┆ 0.018182   │\n",
       "│ Port       ┆      ┆         ┆            ┆   ┆            ┆            ┆            ┆            │\n",
       "│ District,  ┆      ┆         ┆            ┆   ┆            ┆            ┆            ┆            │\n",
       "│ NY         ┆      ┆         ┆            ┆   ┆            ┆            ┆            ┆            │\n",
       "│ Albany     ┆ 2020 ┆ 32      ┆ 147.314286 ┆ … ┆ 67.55      ┆ 78.772857  ┆ 0.0        ┆ 0.0        │\n",
       "│ Port       ┆      ┆         ┆            ┆   ┆            ┆            ┆            ┆            │\n",
       "│ District,  ┆      ┆         ┆            ┆   ┆            ┆            ┆            ┆            │\n",
       "│ NY         ┆      ┆         ┆            ┆   ┆            ┆            ┆            ┆            │\n",
       "│ Albany     ┆ 2021 ┆ 45      ┆ 157.574468 ┆ … ┆ 59.8       ┆ 73.958156  ┆ 0.0        ┆ 0.0        │\n",
       "│ Port       ┆      ┆         ┆            ┆   ┆            ┆            ┆            ┆            │\n",
       "│ District,  ┆      ┆         ┆            ┆   ┆            ┆            ┆            ┆            │\n",
       "│ NY         ┆      ┆         ┆            ┆   ┆            ┆            ┆            ┆            │\n",
       "│ Albany     ┆ 2022 ┆ 56      ┆ 160.183333 ┆ … ┆ 75.741667  ┆ 83.167222  ┆ 0.0        ┆ 1.5075     │\n",
       "│ Port       ┆      ┆         ┆            ┆   ┆            ┆            ┆            ┆            │\n",
       "│ District,  ┆      ┆         ┆            ┆   ┆            ┆            ┆            ┆            │\n",
       "│ NY         ┆      ┆         ┆            ┆   ┆            ┆            ┆            ┆            │\n",
       "└────────────┴──────┴─────────┴────────────┴───┴────────────┴────────────┴────────────┴────────────┘"
      ]
     },
     "execution_count": 81,
     "metadata": {},
     "output_type": "execute_result"
    }
   ],
   "source": [
    "#create annual port stats dataframe\n",
    "annual_ports_df = (\n",
    "    calls_df\n",
    "    #get year from docking time\n",
    "    .with_columns(\n",
    "        #extract year from docking time\n",
    "        year = pl.col('time_arrival').dt.year()\n",
    "    )\n",
    "    #group by port dock and month\n",
    "    .group_by(['port_name', 'year'])\n",
    "    .agg(\n",
    "        #count number of vessels\n",
    "        vessels = pl.n_unique('mmsi'),\n",
    "        #mean vessel size\n",
    "        vessel_size_mean = pl.mean('vessel_size'),\n",
    "        #count number of vessel calls\n",
    "        calls = pl.n_unique('call_id'),\n",
    "        #time at dock stats for each vessel in hours\n",
    "        hrs_at_berth_median = pl.median('hrs_at_berth'),\n",
    "        hrs_at_berth_mean = pl.mean('hrs_at_berth'),\n",
    "        #time at anchor stats for each vessel visit in hours\n",
    "        hrs_at_anchor_median = pl.median('hrs_at_anchor'),\n",
    "        hrs_at_anchor_mean = pl.mean('hrs_at_anchor')\n",
    "    )\n",
    "    #sort by port then month\n",
    "    .sort(['port_name', 'year'])\n",
    ")\n",
    "\n",
    "#inspect\n",
    "annual_ports_df.head()"
   ]
  },
  {
   "cell_type": "code",
   "execution_count": 82,
   "metadata": {},
   "outputs": [
    {
     "data": {
      "text/html": [
       "<div><style>\n",
       ".dataframe > thead > tr,\n",
       ".dataframe > tbody > tr {\n",
       "  text-align: right;\n",
       "  white-space: pre-wrap;\n",
       "}\n",
       "</style>\n",
       "<small>shape: (9, 9)</small><table border=\"1\" class=\"dataframe\"><thead><tr><th>statistic</th><th>port_name</th><th>vessels</th><th>vessel_size_mean</th><th>calls</th><th>hrs_at_berth_median</th><th>hrs_at_berth_mean</th><th>hrs_at_anchor_median</th><th>hrs_at_anchor_mean</th></tr><tr><td>str</td><td>str</td><td>f64</td><td>f64</td><td>f64</td><td>f64</td><td>f64</td><td>f64</td><td>f64</td></tr></thead><tbody><tr><td>&quot;count&quot;</td><td>&quot;70&quot;</td><td>70.0</td><td>70.0</td><td>70.0</td><td>70.0</td><td>70.0</td><td>70.0</td><td>70.0</td></tr><tr><td>&quot;null_count&quot;</td><td>&quot;0&quot;</td><td>0.0</td><td>0.0</td><td>0.0</td><td>0.0</td><td>0.0</td><td>0.0</td><td>0.0</td></tr><tr><td>&quot;mean&quot;</td><td>null</td><td>723.457143</td><td>196.415192</td><td>2107.471429</td><td>52.663214</td><td>68.155777</td><td>0.83131</td><td>10.308842</td></tr><tr><td>&quot;std&quot;</td><td>null</td><td>739.279608</td><td>36.522594</td><td>2255.741002</td><td>103.512308</td><td>99.767816</td><td>2.968721</td><td>12.309811</td></tr><tr><td>&quot;min&quot;</td><td>&quot;Albany Port District, NY&quot;</td><td>3.0</td><td>117.744589</td><td>3.0</td><td>8.233333</td><td>10.619192</td><td>0.0</td><td>0.0</td></tr><tr><td>&quot;25%&quot;</td><td>null</td><td>129.0</td><td>172.540665</td><td>409.0</td><td>22.733333</td><td>36.258571</td><td>0.0</td><td>1.126932</td></tr><tr><td>&quot;50%&quot;</td><td>null</td><td>567.0</td><td>189.894924</td><td>1231.0</td><td>34.15</td><td>50.47661</td><td>0.0</td><td>5.548131</td></tr><tr><td>&quot;75%&quot;</td><td>null</td><td>1007.0</td><td>214.206651</td><td>3290.0</td><td>50.816667</td><td>62.83341</td><td>0.0</td><td>16.349137</td></tr><tr><td>&quot;max&quot;</td><td>&quot;Wilmington, NC&quot;</td><td>2933.0</td><td>295.336091</td><td>9817.0</td><td>854.516667</td><td>797.035897</td><td>18.7</td><td>52.768775</td></tr></tbody></table></div>"
      ],
      "text/plain": [
       "shape: (9, 9)\n",
       "┌───────────┬───────────┬───────────┬───────────┬───┬───────────┬───────────┬───────────┬──────────┐\n",
       "│ statistic ┆ port_name ┆ vessels   ┆ vessel_si ┆ … ┆ hrs_at_be ┆ hrs_at_be ┆ hrs_at_an ┆ hrs_at_a │\n",
       "│ ---       ┆ ---       ┆ ---       ┆ ze_mean   ┆   ┆ rth_media ┆ rth_mean  ┆ chor_medi ┆ nchor_me │\n",
       "│ str       ┆ str       ┆ f64       ┆ ---       ┆   ┆ n         ┆ ---       ┆ an        ┆ an       │\n",
       "│           ┆           ┆           ┆ f64       ┆   ┆ ---       ┆ f64       ┆ ---       ┆ ---      │\n",
       "│           ┆           ┆           ┆           ┆   ┆ f64       ┆           ┆ f64       ┆ f64      │\n",
       "╞═══════════╪═══════════╪═══════════╪═══════════╪═══╪═══════════╪═══════════╪═══════════╪══════════╡\n",
       "│ count     ┆ 70        ┆ 70.0      ┆ 70.0      ┆ … ┆ 70.0      ┆ 70.0      ┆ 70.0      ┆ 70.0     │\n",
       "│ null_coun ┆ 0         ┆ 0.0       ┆ 0.0       ┆ … ┆ 0.0       ┆ 0.0       ┆ 0.0       ┆ 0.0      │\n",
       "│ t         ┆           ┆           ┆           ┆   ┆           ┆           ┆           ┆          │\n",
       "│ mean      ┆ null      ┆ 723.45714 ┆ 196.41519 ┆ … ┆ 52.663214 ┆ 68.155777 ┆ 0.83131   ┆ 10.30884 │\n",
       "│           ┆           ┆ 3         ┆ 2         ┆   ┆           ┆           ┆           ┆ 2        │\n",
       "│ std       ┆ null      ┆ 739.27960 ┆ 36.522594 ┆ … ┆ 103.51230 ┆ 99.767816 ┆ 2.968721  ┆ 12.30981 │\n",
       "│           ┆           ┆ 8         ┆           ┆   ┆ 8         ┆           ┆           ┆ 1        │\n",
       "│ min       ┆ Albany    ┆ 3.0       ┆ 117.74458 ┆ … ┆ 8.233333  ┆ 10.619192 ┆ 0.0       ┆ 0.0      │\n",
       "│           ┆ Port      ┆           ┆ 9         ┆   ┆           ┆           ┆           ┆          │\n",
       "│           ┆ District, ┆           ┆           ┆   ┆           ┆           ┆           ┆          │\n",
       "│           ┆ NY        ┆           ┆           ┆   ┆           ┆           ┆           ┆          │\n",
       "│ 25%       ┆ null      ┆ 129.0     ┆ 172.54066 ┆ … ┆ 22.733333 ┆ 36.258571 ┆ 0.0       ┆ 1.126932 │\n",
       "│           ┆           ┆           ┆ 5         ┆   ┆           ┆           ┆           ┆          │\n",
       "│ 50%       ┆ null      ┆ 567.0     ┆ 189.89492 ┆ … ┆ 34.15     ┆ 50.47661  ┆ 0.0       ┆ 5.548131 │\n",
       "│           ┆           ┆           ┆ 4         ┆   ┆           ┆           ┆           ┆          │\n",
       "│ 75%       ┆ null      ┆ 1007.0    ┆ 214.20665 ┆ … ┆ 50.816667 ┆ 62.83341  ┆ 0.0       ┆ 16.34913 │\n",
       "│           ┆           ┆           ┆ 1         ┆   ┆           ┆           ┆           ┆ 7        │\n",
       "│ max       ┆ Wilmingto ┆ 2933.0    ┆ 295.33609 ┆ … ┆ 854.51666 ┆ 797.03589 ┆ 18.7      ┆ 52.76877 │\n",
       "│           ┆ n, NC     ┆           ┆ 1         ┆   ┆ 7         ┆ 7         ┆           ┆ 5        │\n",
       "└───────────┴───────────┴───────────┴───────────┴───┴───────────┴───────────┴───────────┴──────────┘"
      ]
     },
     "metadata": {},
     "output_type": "display_data"
    },
    {
     "data": {
      "text/html": [
       "<div><style>\n",
       ".dataframe > thead > tr,\n",
       ".dataframe > tbody > tr {\n",
       "  text-align: right;\n",
       "  white-space: pre-wrap;\n",
       "}\n",
       "</style>\n",
       "<small>shape: (5, 8)</small><table border=\"1\" class=\"dataframe\"><thead><tr><th>port_name</th><th>vessels</th><th>vessel_size_mean</th><th>calls</th><th>hrs_at_berth_median</th><th>hrs_at_berth_mean</th><th>hrs_at_anchor_median</th><th>hrs_at_anchor_mean</th></tr><tr><td>str</td><td>u32</td><td>f64</td><td>u32</td><td>f64</td><td>f64</td><td>f64</td><td>f64</td></tr></thead><tbody><tr><td>&quot;Albany Port District, NY&quot;</td><td>263</td><td>157.775676</td><td>370</td><td>65.733333</td><td>79.614955</td><td>0.0</td><td>0.249459</td></tr><tr><td>&quot;Anacortes, WA&quot;</td><td>280</td><td>219.134991</td><td>1126</td><td>37.15</td><td>50.601673</td><td>0.0</td><td>30.749216</td></tr><tr><td>&quot;Baltimore, MD&quot;</td><td>2664</td><td>213.563386</td><td>7549</td><td>34.15</td><td>49.169592</td><td>0.0</td><td>16.349137</td></tr><tr><td>&quot;Beaumont, TX&quot;</td><td>1018</td><td>183.099843</td><td>1913</td><td>54.016667</td><td>69.289214</td><td>0.0</td><td>4.299599</td></tr><tr><td>&quot;Boston, MA&quot;</td><td>319</td><td>295.336091</td><td>967</td><td>17.666667</td><td>29.533557</td><td>0.0</td><td>2.371717</td></tr></tbody></table></div>"
      ],
      "text/plain": [
       "shape: (5, 8)\n",
       "┌─────────────┬─────────┬─────────────┬───────┬─────────────┬────────────┬────────────┬────────────┐\n",
       "│ port_name   ┆ vessels ┆ vessel_size ┆ calls ┆ hrs_at_bert ┆ hrs_at_ber ┆ hrs_at_anc ┆ hrs_at_anc │\n",
       "│ ---         ┆ ---     ┆ _mean       ┆ ---   ┆ h_median    ┆ th_mean    ┆ hor_median ┆ hor_mean   │\n",
       "│ str         ┆ u32     ┆ ---         ┆ u32   ┆ ---         ┆ ---        ┆ ---        ┆ ---        │\n",
       "│             ┆         ┆ f64         ┆       ┆ f64         ┆ f64        ┆ f64        ┆ f64        │\n",
       "╞═════════════╪═════════╪═════════════╪═══════╪═════════════╪════════════╪════════════╪════════════╡\n",
       "│ Albany Port ┆ 263     ┆ 157.775676  ┆ 370   ┆ 65.733333   ┆ 79.614955  ┆ 0.0        ┆ 0.249459   │\n",
       "│ District,   ┆         ┆             ┆       ┆             ┆            ┆            ┆            │\n",
       "│ NY          ┆         ┆             ┆       ┆             ┆            ┆            ┆            │\n",
       "│ Anacortes,  ┆ 280     ┆ 219.134991  ┆ 1126  ┆ 37.15       ┆ 50.601673  ┆ 0.0        ┆ 30.749216  │\n",
       "│ WA          ┆         ┆             ┆       ┆             ┆            ┆            ┆            │\n",
       "│ Baltimore,  ┆ 2664    ┆ 213.563386  ┆ 7549  ┆ 34.15       ┆ 49.169592  ┆ 0.0        ┆ 16.349137  │\n",
       "│ MD          ┆         ┆             ┆       ┆             ┆            ┆            ┆            │\n",
       "│ Beaumont,   ┆ 1018    ┆ 183.099843  ┆ 1913  ┆ 54.016667   ┆ 69.289214  ┆ 0.0        ┆ 4.299599   │\n",
       "│ TX          ┆         ┆             ┆       ┆             ┆            ┆            ┆            │\n",
       "│ Boston, MA  ┆ 319     ┆ 295.336091  ┆ 967   ┆ 17.666667   ┆ 29.533557  ┆ 0.0        ┆ 2.371717   │\n",
       "└─────────────┴─────────┴─────────────┴───────┴─────────────┴────────────┴────────────┴────────────┘"
      ]
     },
     "execution_count": 82,
     "metadata": {},
     "output_type": "execute_result"
    }
   ],
   "source": [
    "ports_alltime_df = (\n",
    "    calls_df\n",
    "    #group by port \n",
    "    .group_by('port_name')\n",
    "    .agg(\n",
    "        #count number of vessels\n",
    "        vessels = pl.n_unique('mmsi'),\n",
    "        #mean vessel size\n",
    "        vessel_size_mean = pl.mean('vessel_size'),\n",
    "        #count number of vessel calls\n",
    "        calls = pl.n_unique('call_id'),\n",
    "        #time at dock stats for each vessel in hours\n",
    "        hrs_at_berth_median = pl.median('hrs_at_berth'),\n",
    "        hrs_at_berth_mean = pl.mean('hrs_at_berth'),\n",
    "        #time at anchor stats for each vessel visit in hours\n",
    "        hrs_at_anchor_median = pl.median('hrs_at_anchor'),\n",
    "        hrs_at_anchor_mean = pl.mean('hrs_at_anchor')\n",
    "    )\n",
    "    #sort by port\n",
    "    .sort('port_name')\n",
    ")\n",
    "#inspect\n",
    "display(ports_alltime_df.describe())\n",
    "ports_alltime_df.head()"
   ]
  },
  {
   "cell_type": "markdown",
   "metadata": {},
   "source": [
    "## Visualizations"
   ]
  },
  {
   "cell_type": "code",
   "execution_count": 83,
   "metadata": {},
   "outputs": [
    {
     "name": "stdout",
     "output_type": "stream",
     "text": [
      "<class 'geopandas.geodataframe.GeoDataFrame'>\n",
      "RangeIndex: 70 entries, 0 to 69\n",
      "Data columns (total 11 columns):\n",
      " #   Column                Non-Null Count  Dtype   \n",
      "---  ------                --------------  -----   \n",
      " 0   port_name             70 non-null     object  \n",
      " 1   vessels               70 non-null     uint32  \n",
      " 2   vessel_size_mean      70 non-null     float64 \n",
      " 3   calls                 70 non-null     uint32  \n",
      " 4   hrs_at_berth_median   70 non-null     float64 \n",
      " 5   hrs_at_berth_mean     70 non-null     float64 \n",
      " 6   hrs_at_anchor_median  70 non-null     float64 \n",
      " 7   hrs_at_anchor_mean    70 non-null     float64 \n",
      " 8   port_lat              70 non-null     float64 \n",
      " 9   port_lon              70 non-null     float64 \n",
      " 10  geometry              70 non-null     geometry\n",
      "dtypes: float64(7), geometry(1), object(1), uint32(2)\n",
      "memory usage: 5.6+ KB\n"
     ]
    }
   ],
   "source": [
    "#make geodataframe\n",
    "#get port location data\n",
    "df = main_lf.select('port_name', 'port_lat', 'port_lon').unique().collect()\n",
    "#convert to geopandas\n",
    "gdf = gpd.GeoDataFrame(\n",
    "    ports_alltime_df\n",
    "    #join to port location data\n",
    "    .join(df, on='port_name', how='left')\n",
    "    #convert to pandas dataframe\n",
    "    .to_pandas(),\n",
    "    #set geometry\n",
    "    geometry = gpd.points_from_xy(df['port_lon'], df['port_lat'], crs=4326)\n",
    ")\n",
    "gdf.info()"
   ]
  },
  {
   "cell_type": "code",
   "execution_count": 84,
   "metadata": {},
   "outputs": [
    {
     "data": {
      "application/vnd.plotly.v1+json": {
       "config": {
        "plotlyServerURL": "https://plot.ly"
       },
       "data": [
        {
         "geo": "geo",
         "hovertemplate": "<b>%{hovertext}</b><br><br>vessels=%{marker.size}<br>port_lat=%{lat}<br>port_lon=%{lon}<br>hrs_at_berth_median=%{marker.color}<extra></extra>",
         "hovertext": [
          "Albany Port District, NY",
          "Anacortes, WA",
          "Baltimore, MD",
          "Beaumont, TX",
          "Boston, MA",
          "Bridgeport, CT",
          "Brownsville, TX",
          "Calhoun Port Authority, TX",
          "Canaveral Port District, FL",
          "Coos Bay OR, Port of",
          "Corpus Christi, TX",
          "Galveston, TX",
          "Greater Lafourche Port, LA",
          "Guayama, PR",
          "Guaynabo, PR",
          "Honolulu, O'ahu, HI",
          "Houston Port Authority, TX",
          "Jacksonville, FL",
          "Kahului, Maui, HI",
          "Kalaeloa Barbers Point, HI",
          "Lake Charles Harbor District, LA",
          "Manatee County Port, FL",
          "Mobile, AL",
          "Morehead City, NC",
          "Nawiliwili, Kaua'i, HI",
          "New Haven, CT",
          "New Orleans, LA",
          "New York, NY & NJ",
          "Orange County Nav District, TX",
          "Oxnard Harbor District, CA",
          "Panama City Port Authority, FL",
          "Philadelphia Regional Port, PA",
          "Port Arthur, TX",
          "Port Everglades, FL",
          "Port Freeport, TX",
          "Port of Alaska, AK",
          "Port of Brunswick, GA",
          "Port of Charleston, SC",
          "Port of Everett, WA",
          "Port of Greater Baton Rouge, LA",
          "Port of Gulfport, MS",
          "Port of Kalama, WA",
          "Port of Long Beach, CA",
          "Port of Los Angeles, CA",
          "Port of Oakland, CA",
          "Port of Palm Beach District, FL",
          "Port of Pascagoula, MS",
          "Port of Providence, RI",
          "Port of Savannah, GA",
          "Port of Vancouver USA, WA",
          "PortMiami, FL",
          "Portland, ME",
          "Portsmouth, NH",
          "Redwood City, CA",
          "Richmond, CA",
          "Sacramento-Yolo Port, CA",
          "San Diego Unified Port, CA",
          "San Juan, PR",
          "Searsport, ME",
          "Seattle, WA",
          "South Jersey Port Corp, NJ",
          "South Louisiana, LA, Port of",
          "Stockton, CA",
          "Tacoma, WA",
          "Texas City, TX",
          "Unalaska Island, AK",
          "Valdez, AK",
          "Virginia, VA, Port of",
          "Wilmington, DE",
          "Wilmington, NC"
         ],
         "lat": [
          42.64271000000003,
          48.49594299999999,
          39.25082699999997,
          30.084871999999983,
          42.34246800000003,
          41.172,
          25.952201000000002,
          28.62938900000002,
          28.414089999999984,
          43.36350999999997,
          27.812769999999972,
          29.31048999999998,
          29.121944999999982,
          17.938939000000016,
          18.43022100000003,
          21.311110000000035,
          29.74702299999999,
          30.32275700000004,
          20.898610000000005,
          21.323066000000015,
          30.106406000000028,
          27.633680999999985,
          30.69123000000003,
          34.71692999999996,
          21.95248399999999,
          41.29883000000003,
          29.914139999999975,
          40.67394899999999,
          30.095369999999946,
          34.14824399999996,
          30.133998000000016,
          39.91882,
          29.83141999999998,
          26.09339200000001,
          28.96133000000003,
          61.23778000000001,
          31.132425999999985,
          32.78878099999997,
          47.98476000000001,
          30.422920000000016,
          30.35962100000001,
          46.02659599999997,
          33.73957000000002,
          33.726635000000016,
          37.82152,
          26.76903999999999,
          30.34801999999999,
          41.81177999999999,
          32.08471099999998,
          45.622440000000005,
          25.78286200000004,
          43.64950999999999,
          43.073979999999985,
          37.50535999999999,
          37.92423699999999,
          38.56132299999998,
          32.708209999999994,
          18.432782999999972,
          44.45285,
          47.58771099999997,
          39.846444999999974,
          30.033449999999988,
          37.95270000000001,
          47.28966000000003,
          29.36306800000003,
          53.89418500000001,
          61.124730000000014,
          36.86641999999996,
          39.715889999999966,
          34.22736499999998
         ],
         "legendgroup": "",
         "lon": [
          -73.74816000000003,
          -122.59960999999971,
          -76.56163999999995,
          -94.09498499999985,
          -71.032029,
          -73.17886000000004,
          -97.3981380000001,
          -96.59232400000002,
          -80.60814999999997,
          -124.20949999999986,
          -97.39789000000025,
          -94.81269999999991,
          -90.20527900000023,
          -66.15600200000002,
          -66.11114099999999,
          -157.87169999999958,
          -95.29367900000028,
          -81.66512500000005,
          -156.4727999999997,
          -158.1136830000002,
          -93.28683900000004,
          -82.56414299999996,
          -88.03583399999998,
          -76.72421000000001,
          -159.35231900000005,
          -72.90473000000003,
          -90.08525600000007,
          -74.03835699999998,
          -93.7235599999998,
          -119.20847500000015,
          -85.63376199999999,
          -75.20219099999998,
          -93.9606899999997,
          -80.11780099999996,
          -95.3707000000004,
          -149.8949999999996,
          -81.53666000000001,
          -79.92159500000001,
          -122.22940000000042,
          -91.19933999999976,
          -89.092568,
          -122.86685999999972,
          -118.20950000000023,
          -118.26809900000029,
          -122.30810000000015,
          -80.05267000000002,
          -88.55879000000003,
          -71.39844000000004,
          -81.09538199999996,
          -122.68060000000018,
          -80.18164200000001,
          -70.25133999999998,
          -70.73805999999996,
          -122.21401199999977,
          -122.37423299999986,
          -121.54154100000014,
          -117.17839999999974,
          -66.09667800000001,
          -68.92497000000002,
          -122.35921800000041,
          -75.261085,
          -90.61793999999985,
          -121.31560000000034,
          -122.45149999999964,
          -94.91809099999998,
          -166.5499160000001,
          -146.3463999999997,
          -76.31174000000001,
          -75.50696999999997,
          -77.95049600000002
         ],
         "marker": {
          "color": [
           65.73333333333332,
           37.14999999999999,
           34.15,
           54.016666666666666,
           17.666666666666664,
           13.95,
           52.35,
           26.650000000000002,
           35.833333333333336,
           113.46666666666667,
           45.7,
           26.183333333333334,
           56.68333333333333,
           22.316666666666666,
           48.783333333333324,
           32.516666666666666,
           67.7,
           280.5666666666667,
           8.233333333333333,
           46.6,
           71.38333333333333,
           33.641666666666666,
           38.65,
           60.56666666666666,
           10.35,
           32,
           27.083333333333332,
           31.683333333333334,
           854.5166666666667,
           19.766666666666666,
           51.275,
           29.308333333333334,
           42.43333333333333,
           19.383333333333333,
           22.733333333333334,
           15.358333333333334,
           16.233333333333334,
           15.683333333333334,
           31.799999999999997,
           50.81666666666666,
           12.483333333333333,
           51.458333333333336,
           38.733333333333334,
           62.05,
           26,
           22.683333333333334,
           88.32499999999999,
           37.266666666666666,
           26.266666666666666,
           51.80833333333333,
           16.333333333333332,
           28.5,
           23.78333333333333,
           24.433333333333334,
           39.483333333333334,
           100.3,
           46.68333333333333,
           13.049999999999999,
           27,
           31.233333333333334,
           34.35,
           39.9,
           66.55833333333334,
           45.55,
           33.791666666666664,
           16.616666666666667,
           38.75,
           22.466666666666665,
           44.4,
           15.25
          ],
          "coloraxis": "coloraxis",
          "size": [
           263,
           280,
           2664,
           1018,
           319,
           6,
           880,
           496,
           805,
           23,
           1858,
           1836,
           61,
           13,
           675,
           359,
           2190,
           9,
           21,
           180,
           96,
           567,
           2724,
           482,
           23,
           688,
           1968,
           598,
           10,
           503,
           73,
           25,
           2099,
           1523,
           766,
           76,
           800,
           594,
           208,
           795,
           145,
           737,
           2933,
           1764,
           798,
           221,
           73,
           567,
           1784,
           1097,
           513,
           210,
           85,
           129,
           1007,
           253,
           155,
           633,
           127,
           573,
           620,
           1738,
           748,
           495,
           1755,
           51,
           3,
           1250,
           550,
           1054
          ],
          "sizemode": "area",
          "sizeref": 3.258888888888889,
          "symbol": "circle"
         },
         "mode": "markers",
         "name": "",
         "showlegend": false,
         "type": "scattergeo"
        }
       ],
       "layout": {
        "annotations": [
         {
          "align": "left",
          "font": {
           "color": "black",
           "size": 14
          },
          "showarrow": false,
          "text": "Note: Circle size corresponds to averages vessels per month",
          "x": 0,
          "xref": "paper",
          "y": -0.05,
          "yref": "paper"
         }
        ],
        "coloraxis": {
         "cmax": 50,
         "cmin": 0,
         "colorbar": {
          "title": {
           "text": "hrs_at_berth_median"
          }
         },
         "colorscale": [
          [
           0,
           "#440154"
          ],
          [
           0.1111111111111111,
           "#482878"
          ],
          [
           0.2222222222222222,
           "#3e4989"
          ],
          [
           0.3333333333333333,
           "#31688e"
          ],
          [
           0.4444444444444444,
           "#26828e"
          ],
          [
           0.5555555555555556,
           "#1f9e89"
          ],
          [
           0.6666666666666666,
           "#35b779"
          ],
          [
           0.7777777777777778,
           "#6ece58"
          ],
          [
           0.8888888888888888,
           "#b5de2b"
          ],
          [
           1,
           "#fde725"
          ]
         ]
        },
        "geo": {
         "center": {},
         "domain": {
          "x": [
           0,
           1
          ],
          "y": [
           0,
           1
          ]
         },
         "fitbounds": "locations"
        },
        "height": 600,
        "legend": {
         "itemsizing": "constant",
         "tracegroupgap": 0
        },
        "template": {
         "data": {
          "bar": [
           {
            "error_x": {
             "color": "#2a3f5f"
            },
            "error_y": {
             "color": "#2a3f5f"
            },
            "marker": {
             "line": {
              "color": "#E5ECF6",
              "width": 0.5
             },
             "pattern": {
              "fillmode": "overlay",
              "size": 10,
              "solidity": 0.2
             }
            },
            "type": "bar"
           }
          ],
          "barpolar": [
           {
            "marker": {
             "line": {
              "color": "#E5ECF6",
              "width": 0.5
             },
             "pattern": {
              "fillmode": "overlay",
              "size": 10,
              "solidity": 0.2
             }
            },
            "type": "barpolar"
           }
          ],
          "carpet": [
           {
            "aaxis": {
             "endlinecolor": "#2a3f5f",
             "gridcolor": "white",
             "linecolor": "white",
             "minorgridcolor": "white",
             "startlinecolor": "#2a3f5f"
            },
            "baxis": {
             "endlinecolor": "#2a3f5f",
             "gridcolor": "white",
             "linecolor": "white",
             "minorgridcolor": "white",
             "startlinecolor": "#2a3f5f"
            },
            "type": "carpet"
           }
          ],
          "choropleth": [
           {
            "colorbar": {
             "outlinewidth": 0,
             "ticks": ""
            },
            "type": "choropleth"
           }
          ],
          "contour": [
           {
            "colorbar": {
             "outlinewidth": 0,
             "ticks": ""
            },
            "colorscale": [
             [
              0,
              "#0d0887"
             ],
             [
              0.1111111111111111,
              "#46039f"
             ],
             [
              0.2222222222222222,
              "#7201a8"
             ],
             [
              0.3333333333333333,
              "#9c179e"
             ],
             [
              0.4444444444444444,
              "#bd3786"
             ],
             [
              0.5555555555555556,
              "#d8576b"
             ],
             [
              0.6666666666666666,
              "#ed7953"
             ],
             [
              0.7777777777777778,
              "#fb9f3a"
             ],
             [
              0.8888888888888888,
              "#fdca26"
             ],
             [
              1,
              "#f0f921"
             ]
            ],
            "type": "contour"
           }
          ],
          "contourcarpet": [
           {
            "colorbar": {
             "outlinewidth": 0,
             "ticks": ""
            },
            "type": "contourcarpet"
           }
          ],
          "heatmap": [
           {
            "colorbar": {
             "outlinewidth": 0,
             "ticks": ""
            },
            "colorscale": [
             [
              0,
              "#0d0887"
             ],
             [
              0.1111111111111111,
              "#46039f"
             ],
             [
              0.2222222222222222,
              "#7201a8"
             ],
             [
              0.3333333333333333,
              "#9c179e"
             ],
             [
              0.4444444444444444,
              "#bd3786"
             ],
             [
              0.5555555555555556,
              "#d8576b"
             ],
             [
              0.6666666666666666,
              "#ed7953"
             ],
             [
              0.7777777777777778,
              "#fb9f3a"
             ],
             [
              0.8888888888888888,
              "#fdca26"
             ],
             [
              1,
              "#f0f921"
             ]
            ],
            "type": "heatmap"
           }
          ],
          "heatmapgl": [
           {
            "colorbar": {
             "outlinewidth": 0,
             "ticks": ""
            },
            "colorscale": [
             [
              0,
              "#0d0887"
             ],
             [
              0.1111111111111111,
              "#46039f"
             ],
             [
              0.2222222222222222,
              "#7201a8"
             ],
             [
              0.3333333333333333,
              "#9c179e"
             ],
             [
              0.4444444444444444,
              "#bd3786"
             ],
             [
              0.5555555555555556,
              "#d8576b"
             ],
             [
              0.6666666666666666,
              "#ed7953"
             ],
             [
              0.7777777777777778,
              "#fb9f3a"
             ],
             [
              0.8888888888888888,
              "#fdca26"
             ],
             [
              1,
              "#f0f921"
             ]
            ],
            "type": "heatmapgl"
           }
          ],
          "histogram": [
           {
            "marker": {
             "pattern": {
              "fillmode": "overlay",
              "size": 10,
              "solidity": 0.2
             }
            },
            "type": "histogram"
           }
          ],
          "histogram2d": [
           {
            "colorbar": {
             "outlinewidth": 0,
             "ticks": ""
            },
            "colorscale": [
             [
              0,
              "#0d0887"
             ],
             [
              0.1111111111111111,
              "#46039f"
             ],
             [
              0.2222222222222222,
              "#7201a8"
             ],
             [
              0.3333333333333333,
              "#9c179e"
             ],
             [
              0.4444444444444444,
              "#bd3786"
             ],
             [
              0.5555555555555556,
              "#d8576b"
             ],
             [
              0.6666666666666666,
              "#ed7953"
             ],
             [
              0.7777777777777778,
              "#fb9f3a"
             ],
             [
              0.8888888888888888,
              "#fdca26"
             ],
             [
              1,
              "#f0f921"
             ]
            ],
            "type": "histogram2d"
           }
          ],
          "histogram2dcontour": [
           {
            "colorbar": {
             "outlinewidth": 0,
             "ticks": ""
            },
            "colorscale": [
             [
              0,
              "#0d0887"
             ],
             [
              0.1111111111111111,
              "#46039f"
             ],
             [
              0.2222222222222222,
              "#7201a8"
             ],
             [
              0.3333333333333333,
              "#9c179e"
             ],
             [
              0.4444444444444444,
              "#bd3786"
             ],
             [
              0.5555555555555556,
              "#d8576b"
             ],
             [
              0.6666666666666666,
              "#ed7953"
             ],
             [
              0.7777777777777778,
              "#fb9f3a"
             ],
             [
              0.8888888888888888,
              "#fdca26"
             ],
             [
              1,
              "#f0f921"
             ]
            ],
            "type": "histogram2dcontour"
           }
          ],
          "mesh3d": [
           {
            "colorbar": {
             "outlinewidth": 0,
             "ticks": ""
            },
            "type": "mesh3d"
           }
          ],
          "parcoords": [
           {
            "line": {
             "colorbar": {
              "outlinewidth": 0,
              "ticks": ""
             }
            },
            "type": "parcoords"
           }
          ],
          "pie": [
           {
            "automargin": true,
            "type": "pie"
           }
          ],
          "scatter": [
           {
            "fillpattern": {
             "fillmode": "overlay",
             "size": 10,
             "solidity": 0.2
            },
            "type": "scatter"
           }
          ],
          "scatter3d": [
           {
            "line": {
             "colorbar": {
              "outlinewidth": 0,
              "ticks": ""
             }
            },
            "marker": {
             "colorbar": {
              "outlinewidth": 0,
              "ticks": ""
             }
            },
            "type": "scatter3d"
           }
          ],
          "scattercarpet": [
           {
            "marker": {
             "colorbar": {
              "outlinewidth": 0,
              "ticks": ""
             }
            },
            "type": "scattercarpet"
           }
          ],
          "scattergeo": [
           {
            "marker": {
             "colorbar": {
              "outlinewidth": 0,
              "ticks": ""
             }
            },
            "type": "scattergeo"
           }
          ],
          "scattergl": [
           {
            "marker": {
             "colorbar": {
              "outlinewidth": 0,
              "ticks": ""
             }
            },
            "type": "scattergl"
           }
          ],
          "scattermapbox": [
           {
            "marker": {
             "colorbar": {
              "outlinewidth": 0,
              "ticks": ""
             }
            },
            "type": "scattermapbox"
           }
          ],
          "scatterpolar": [
           {
            "marker": {
             "colorbar": {
              "outlinewidth": 0,
              "ticks": ""
             }
            },
            "type": "scatterpolar"
           }
          ],
          "scatterpolargl": [
           {
            "marker": {
             "colorbar": {
              "outlinewidth": 0,
              "ticks": ""
             }
            },
            "type": "scatterpolargl"
           }
          ],
          "scatterternary": [
           {
            "marker": {
             "colorbar": {
              "outlinewidth": 0,
              "ticks": ""
             }
            },
            "type": "scatterternary"
           }
          ],
          "surface": [
           {
            "colorbar": {
             "outlinewidth": 0,
             "ticks": ""
            },
            "colorscale": [
             [
              0,
              "#0d0887"
             ],
             [
              0.1111111111111111,
              "#46039f"
             ],
             [
              0.2222222222222222,
              "#7201a8"
             ],
             [
              0.3333333333333333,
              "#9c179e"
             ],
             [
              0.4444444444444444,
              "#bd3786"
             ],
             [
              0.5555555555555556,
              "#d8576b"
             ],
             [
              0.6666666666666666,
              "#ed7953"
             ],
             [
              0.7777777777777778,
              "#fb9f3a"
             ],
             [
              0.8888888888888888,
              "#fdca26"
             ],
             [
              1,
              "#f0f921"
             ]
            ],
            "type": "surface"
           }
          ],
          "table": [
           {
            "cells": {
             "fill": {
              "color": "#EBF0F8"
             },
             "line": {
              "color": "white"
             }
            },
            "header": {
             "fill": {
              "color": "#C8D4E3"
             },
             "line": {
              "color": "white"
             }
            },
            "type": "table"
           }
          ]
         },
         "layout": {
          "annotationdefaults": {
           "arrowcolor": "#2a3f5f",
           "arrowhead": 0,
           "arrowwidth": 1
          },
          "autotypenumbers": "strict",
          "coloraxis": {
           "colorbar": {
            "outlinewidth": 0,
            "ticks": ""
           }
          },
          "colorscale": {
           "diverging": [
            [
             0,
             "#8e0152"
            ],
            [
             0.1,
             "#c51b7d"
            ],
            [
             0.2,
             "#de77ae"
            ],
            [
             0.3,
             "#f1b6da"
            ],
            [
             0.4,
             "#fde0ef"
            ],
            [
             0.5,
             "#f7f7f7"
            ],
            [
             0.6,
             "#e6f5d0"
            ],
            [
             0.7,
             "#b8e186"
            ],
            [
             0.8,
             "#7fbc41"
            ],
            [
             0.9,
             "#4d9221"
            ],
            [
             1,
             "#276419"
            ]
           ],
           "sequential": [
            [
             0,
             "#0d0887"
            ],
            [
             0.1111111111111111,
             "#46039f"
            ],
            [
             0.2222222222222222,
             "#7201a8"
            ],
            [
             0.3333333333333333,
             "#9c179e"
            ],
            [
             0.4444444444444444,
             "#bd3786"
            ],
            [
             0.5555555555555556,
             "#d8576b"
            ],
            [
             0.6666666666666666,
             "#ed7953"
            ],
            [
             0.7777777777777778,
             "#fb9f3a"
            ],
            [
             0.8888888888888888,
             "#fdca26"
            ],
            [
             1,
             "#f0f921"
            ]
           ],
           "sequentialminus": [
            [
             0,
             "#0d0887"
            ],
            [
             0.1111111111111111,
             "#46039f"
            ],
            [
             0.2222222222222222,
             "#7201a8"
            ],
            [
             0.3333333333333333,
             "#9c179e"
            ],
            [
             0.4444444444444444,
             "#bd3786"
            ],
            [
             0.5555555555555556,
             "#d8576b"
            ],
            [
             0.6666666666666666,
             "#ed7953"
            ],
            [
             0.7777777777777778,
             "#fb9f3a"
            ],
            [
             0.8888888888888888,
             "#fdca26"
            ],
            [
             1,
             "#f0f921"
            ]
           ]
          },
          "colorway": [
           "#636efa",
           "#EF553B",
           "#00cc96",
           "#ab63fa",
           "#FFA15A",
           "#19d3f3",
           "#FF6692",
           "#B6E880",
           "#FF97FF",
           "#FECB52"
          ],
          "font": {
           "color": "#2a3f5f"
          },
          "geo": {
           "bgcolor": "white",
           "lakecolor": "white",
           "landcolor": "#E5ECF6",
           "showlakes": true,
           "showland": true,
           "subunitcolor": "white"
          },
          "hoverlabel": {
           "align": "left"
          },
          "hovermode": "closest",
          "mapbox": {
           "style": "light"
          },
          "paper_bgcolor": "white",
          "plot_bgcolor": "#E5ECF6",
          "polar": {
           "angularaxis": {
            "gridcolor": "white",
            "linecolor": "white",
            "ticks": ""
           },
           "bgcolor": "#E5ECF6",
           "radialaxis": {
            "gridcolor": "white",
            "linecolor": "white",
            "ticks": ""
           }
          },
          "scene": {
           "xaxis": {
            "backgroundcolor": "#E5ECF6",
            "gridcolor": "white",
            "gridwidth": 2,
            "linecolor": "white",
            "showbackground": true,
            "ticks": "",
            "zerolinecolor": "white"
           },
           "yaxis": {
            "backgroundcolor": "#E5ECF6",
            "gridcolor": "white",
            "gridwidth": 2,
            "linecolor": "white",
            "showbackground": true,
            "ticks": "",
            "zerolinecolor": "white"
           },
           "zaxis": {
            "backgroundcolor": "#E5ECF6",
            "gridcolor": "white",
            "gridwidth": 2,
            "linecolor": "white",
            "showbackground": true,
            "ticks": "",
            "zerolinecolor": "white"
           }
          },
          "shapedefaults": {
           "line": {
            "color": "#2a3f5f"
           }
          },
          "ternary": {
           "aaxis": {
            "gridcolor": "white",
            "linecolor": "white",
            "ticks": ""
           },
           "baxis": {
            "gridcolor": "white",
            "linecolor": "white",
            "ticks": ""
           },
           "bgcolor": "#E5ECF6",
           "caxis": {
            "gridcolor": "white",
            "linecolor": "white",
            "ticks": ""
           }
          },
          "title": {
           "x": 0.05
          },
          "xaxis": {
           "automargin": true,
           "gridcolor": "white",
           "linecolor": "white",
           "ticks": "",
           "title": {
            "standoff": 15
           },
           "zerolinecolor": "white",
           "zerolinewidth": 2
          },
          "yaxis": {
           "automargin": true,
           "gridcolor": "white",
           "linecolor": "white",
           "ticks": "",
           "title": {
            "standoff": 15
           },
           "zerolinecolor": "white",
           "zerolinewidth": 2
          }
         }
        },
        "title": {
         "text": "Total Vessels (all time) and Median Hours at Berth"
        },
        "width": 1000
       }
      }
     },
     "metadata": {},
     "output_type": "display_data"
    }
   ],
   "source": [
    "#scatterplot\n",
    "fig = px.scatter_geo(\n",
    "    gdf,\n",
    "    lon='port_lon',\n",
    "    lat='port_lat',\n",
    "    size='vessels',\n",
    "    color='hrs_at_berth_median',\n",
    "    range_color=[0,50],\n",
    "    hover_name='port_name',\n",
    "    size_max=30,\n",
    "    title='Total Vessels (all time) and Median Hours at Berth',\n",
    "    color_continuous_scale=px.colors.sequential.Viridis,\n",
    "    width=1000,\n",
    "    height=600,\n",
    "    labels={\n",
    "        'time_at_berth_avg':'Hours at Berth'\n",
    "    }\n",
    ")\n",
    "\n",
    "# Fit the view to ports\n",
    "fig.update_geos(fitbounds=\"locations\")\n",
    "\n",
    "# Add footnote using add_annotation\n",
    "fig.add_annotation(\n",
    "    text=\"Note: Circle size corresponds to averages vessels per month\",  # Footnote text\n",
    "    xref=\"paper\", yref=\"paper\",  # Position relative to the plot area\n",
    "    x=0, y=0-0.05,  # Adjust to footnote position\n",
    "    showarrow=False,  # No arrow, just text\n",
    "    font=dict(size=14, color=\"black\"),  # Customize the font style\n",
    "    align=\"left\"\n",
    ")\n",
    "\n",
    "# Show the figure\n",
    "fig.show()"
   ]
  },
  {
   "cell_type": "markdown",
   "metadata": {},
   "source": [
    "## Point in Time Stats\n",
    "\n",
    "Still under development"
   ]
  },
  {
   "cell_type": "code",
   "execution_count": 85,
   "metadata": {},
   "outputs": [],
   "source": [
    "#get point in time stats\n",
    "\n",
    "#create point in time (pit) df to join stats to\n",
    "pit_df = (\n",
    "    main_lf\n",
    "    .with_columns(\n",
    "        date = pl.col('time').dt.date(),\n",
    "        month = pl.col('time').dt.strftime('%Y%m')\n",
    "    )\n",
    "    .select('port_name', 'dock_id', 'month', 'date')\n",
    "    .unique().collect()\n",
    ")\n",
    "\n",
    "for hour in range(0, 24):\n",
    "    #create a time object for each hour\n",
    "    hour_dt = pl.time(hour)\n",
    "    #create a dataframe for each hour\n",
    "    hour_df = (\n",
    "        main_lf\n",
    "        .with_columns(\n",
    "            #get end of status time\n",
    "            end_time = pl.col('time') + pl.col('status_duration'),\n",
    "            #get date from time\n",
    "            date = pl.col('time').dt.date(),\n",
    "            #get month from time\n",
    "            month = pl.col('time').dt.strftime('%Y%m')\n",
    "        )\n",
    "        #group by port dock and hour\n",
    "        .group_by(['port_name', 'dock_id', 'month', 'date'])\n",
    "        .agg(\n",
    "            #number of vessels at dock at each hour\n",
    "            vessels_at_dock = (\n",
    "                #when moored at hour\n",
    "                pl.when((pl.col('status')==5) & \n",
    "                        (hour_dt.is_between(pl.col('time').dt.time(), \n",
    "                                         pl.col('end_time').dt.time())))\n",
    "                #then count the individual vessels\n",
    "                .then(pl.col('mmsi'))\n",
    "                .otherwise(pl.lit(None))\n",
    "                .drop_nulls() #n_unique counts nulls as unique values\n",
    "                .n_unique()\n",
    "            ),\n",
    "            #number of vessels at anchor at each hour\n",
    "            vessels_at_anchor = (\n",
    "                #when anchored at hour\n",
    "                pl.when((pl.col('status')==1) & \n",
    "                        (hour_dt.is_between(pl.col('time').dt.time(), \n",
    "                                        pl.col('end_time').dt.time())))\n",
    "                #then count the individual vessels\n",
    "                .then(pl.col('mmsi'))\n",
    "                .otherwise(pl.lit(None))\n",
    "                .drop_nulls()\n",
    "                .n_unique()\n",
    "            )\n",
    "        )\n",
    "        .collect()\n",
    "    )\n",
    "    #join the hour dataframe to the main pit dataframe\n",
    "    pit_df = (\n",
    "        pit_df\n",
    "        .join(hour_df, \n",
    "              on=['port_name', 'dock_id', 'month', 'date'], \n",
    "              how='left')\n",
    "        #rename the columns to include the hour\n",
    "        .rename({\n",
    "            'vessels_at_dock': f'vessels_at_dock_{hour}',\n",
    "            'vessels_at_anchor': f'vessels_at_anchor_{hour}'\n",
    "        })\n",
    "    )\n",
    "\n",
    "#get port stats by month\n",
    "pit_df = (\n",
    "    pit_df\n",
    "    #group by port and date\n",
    "    .group_by(['port_name', 'month', 'date'])\n",
    "    .agg(\n",
    "        #sum the number of vessels at all docks at each hour\n",
    "        cs.starts_with('vessels_at_dock_').sum(),\n",
    "        #sum the number of vessels at anchor at each hour\n",
    "        cs.starts_with('vessels_at_anchor_').sum()\n",
    "    )\n",
    "    #get the max at any hour\n",
    "    .with_columns(\n",
    "        #get max at dock at any hour\n",
    "        vessels_at_dock_max = (\n",
    "            pl.max_horizontal(cs.starts_with('vessels_at_dock_'))\n",
    "        ),\n",
    "        #get mean at dock any hour\n",
    "        vessels_at_dock_mean = (\n",
    "            pl.mean_horizontal(cs.starts_with('vessels_at_dock_'))\n",
    "        ),\n",
    "        #get max at anchor at any hour\n",
    "        vessels_at_anchor_max = (\n",
    "            pl.max_horizontal(cs.starts_with('vessels_at_anchor_'))\n",
    "        ),\n",
    "        #get mean at anchor any hour\n",
    "        vessels_at_anchor_mean = (\n",
    "            pl.mean_horizontal(cs.starts_with('vessels_at_anchor_'))\n",
    "        )\n",
    "    )\n",
    "    #select the columns to keep\n",
    "    .select(['port_name', 'month', 'date', 'vessels_at_dock_max', \n",
    "             'vessels_at_dock_mean', 'vessels_at_anchor_max',\n",
    "             'vessels_at_anchor_mean'])\n",
    "    #aggregate by month\n",
    "    .group_by(['port_name', 'month'])\n",
    "    .agg(\n",
    "        #get max at anchor on any date during that month\n",
    "        vessels_at_anchor_max = pl.max('vessels_at_anchor_max'),\n",
    "        #get mean at anchor on any date during that month\n",
    "        vessels_at_anchor_mean = pl.mean('vessels_at_anchor_mean'),\n",
    "        #get max at dock on any date during that month\n",
    "        vessels_at_dock_max = pl.max('vessels_at_dock_max'),\n",
    "        #get mean at dock on any date during that month\n",
    "        vessels_at_dock_mean = pl.mean('vessels_at_dock_mean'\n",
    "        )\n",
    "    )\n",
    ")"
   ]
  },
  {
   "cell_type": "code",
   "execution_count": 86,
   "metadata": {},
   "outputs": [
    {
     "data": {
      "text/html": [
       "<div><style>\n",
       ".dataframe > thead > tr,\n",
       ".dataframe > tbody > tr {\n",
       "  text-align: right;\n",
       "  white-space: pre-wrap;\n",
       "}\n",
       "</style>\n",
       "<small>shape: (9, 7)</small><table border=\"1\" class=\"dataframe\"><thead><tr><th>statistic</th><th>port_name</th><th>month</th><th>vessels_at_anchor_max</th><th>vessels_at_anchor_mean</th><th>vessels_at_dock_max</th><th>vessels_at_dock_mean</th></tr><tr><td>str</td><td>str</td><td>str</td><td>f64</td><td>f64</td><td>f64</td><td>f64</td></tr></thead><tbody><tr><td>&quot;count&quot;</td><td>&quot;5200&quot;</td><td>&quot;5200&quot;</td><td>5200.0</td><td>5200.0</td><td>5200.0</td><td>5200.0</td></tr><tr><td>&quot;null_count&quot;</td><td>&quot;0&quot;</td><td>&quot;0&quot;</td><td>0.0</td><td>0.0</td><td>0.0</td><td>0.0</td></tr><tr><td>&quot;mean&quot;</td><td>null</td><td>null</td><td>0.788654</td><td>0.047309</td><td>2.615769</td><td>0.497879</td></tr><tr><td>&quot;std&quot;</td><td>null</td><td>null</td><td>0.803284</td><td>0.087055</td><td>1.782365</td><td>0.478511</td></tr><tr><td>&quot;min&quot;</td><td>&quot;Albany Port District, NY&quot;</td><td>&quot;201801&quot;</td><td>0.0</td><td>0.0</td><td>0.0</td><td>0.0</td></tr><tr><td>&quot;25%&quot;</td><td>null</td><td>null</td><td>0.0</td><td>0.0</td><td>1.0</td><td>0.194444</td></tr><tr><td>&quot;50%&quot;</td><td>null</td><td>null</td><td>1.0</td><td>0.014583</td><td>2.0</td><td>0.350309</td></tr><tr><td>&quot;75%&quot;</td><td>null</td><td>null</td><td>1.0</td><td>0.057796</td><td>3.0</td><td>0.613506</td></tr><tr><td>&quot;max&quot;</td><td>&quot;Wilmington, NC&quot;</td><td>&quot;202409&quot;</td><td>6.0</td><td>0.951389</td><td>12.0</td><td>3.938889</td></tr></tbody></table></div>"
      ],
      "text/plain": [
       "shape: (9, 7)\n",
       "┌────────────┬───────────────┬────────┬───────────────┬──────────────┬──────────────┬──────────────┐\n",
       "│ statistic  ┆ port_name     ┆ month  ┆ vessels_at_an ┆ vessels_at_a ┆ vessels_at_d ┆ vessels_at_d │\n",
       "│ ---        ┆ ---           ┆ ---    ┆ chor_max      ┆ nchor_mean   ┆ ock_max      ┆ ock_mean     │\n",
       "│ str        ┆ str           ┆ str    ┆ ---           ┆ ---          ┆ ---          ┆ ---          │\n",
       "│            ┆               ┆        ┆ f64           ┆ f64          ┆ f64          ┆ f64          │\n",
       "╞════════════╪═══════════════╪════════╪═══════════════╪══════════════╪══════════════╪══════════════╡\n",
       "│ count      ┆ 5200          ┆ 5200   ┆ 5200.0        ┆ 5200.0       ┆ 5200.0       ┆ 5200.0       │\n",
       "│ null_count ┆ 0             ┆ 0      ┆ 0.0           ┆ 0.0          ┆ 0.0          ┆ 0.0          │\n",
       "│ mean       ┆ null          ┆ null   ┆ 0.788654      ┆ 0.047309     ┆ 2.615769     ┆ 0.497879     │\n",
       "│ std        ┆ null          ┆ null   ┆ 0.803284      ┆ 0.087055     ┆ 1.782365     ┆ 0.478511     │\n",
       "│ min        ┆ Albany Port   ┆ 201801 ┆ 0.0           ┆ 0.0          ┆ 0.0          ┆ 0.0          │\n",
       "│            ┆ District, NY  ┆        ┆               ┆              ┆              ┆              │\n",
       "│ 25%        ┆ null          ┆ null   ┆ 0.0           ┆ 0.0          ┆ 1.0          ┆ 0.194444     │\n",
       "│ 50%        ┆ null          ┆ null   ┆ 1.0           ┆ 0.014583     ┆ 2.0          ┆ 0.350309     │\n",
       "│ 75%        ┆ null          ┆ null   ┆ 1.0           ┆ 0.057796     ┆ 3.0          ┆ 0.613506     │\n",
       "│ max        ┆ Wilmington,   ┆ 202409 ┆ 6.0           ┆ 0.951389     ┆ 12.0         ┆ 3.938889     │\n",
       "│            ┆ NC            ┆        ┆               ┆              ┆              ┆              │\n",
       "└────────────┴───────────────┴────────┴───────────────┴──────────────┴──────────────┴──────────────┘"
      ]
     },
     "metadata": {},
     "output_type": "display_data"
    },
    {
     "data": {
      "text/html": [
       "<div><style>\n",
       ".dataframe > thead > tr,\n",
       ".dataframe > tbody > tr {\n",
       "  text-align: right;\n",
       "  white-space: pre-wrap;\n",
       "}\n",
       "</style>\n",
       "<small>shape: (5, 6)</small><table border=\"1\" class=\"dataframe\"><thead><tr><th>port_name</th><th>month</th><th>vessels_at_anchor_max</th><th>vessels_at_anchor_mean</th><th>vessels_at_dock_max</th><th>vessels_at_dock_mean</th></tr><tr><td>str</td><td>str</td><td>u32</td><td>f64</td><td>u32</td><td>f64</td></tr></thead><tbody><tr><td>&quot;Port of Brunswick, GA&quot;</td><td>&quot;202104&quot;</td><td>0</td><td>0.0</td><td>3</td><td>0.62931</td></tr><tr><td>&quot;Port of Gulfport, MS&quot;</td><td>&quot;202002&quot;</td><td>1</td><td>0.050926</td><td>1</td><td>0.152778</td></tr><tr><td>&quot;Greater Lafourche Port, LA&quot;</td><td>&quot;201910&quot;</td><td>0</td><td>0.0</td><td>1</td><td>0.116667</td></tr><tr><td>&quot;Guaynabo, PR&quot;</td><td>&quot;202306&quot;</td><td>1</td><td>0.020833</td><td>3</td><td>0.261218</td></tr><tr><td>&quot;Wilmington, NC&quot;</td><td>&quot;202103&quot;</td><td>0</td><td>0.0</td><td>4</td><td>0.554012</td></tr></tbody></table></div>"
      ],
      "text/plain": [
       "shape: (5, 6)\n",
       "┌─────────────────┬────────┬─────────────────┬─────────────────┬─────────────────┬─────────────────┐\n",
       "│ port_name       ┆ month  ┆ vessels_at_anch ┆ vessels_at_anch ┆ vessels_at_dock ┆ vessels_at_dock │\n",
       "│ ---             ┆ ---    ┆ or_max          ┆ or_mean         ┆ _max            ┆ _mean           │\n",
       "│ str             ┆ str    ┆ ---             ┆ ---             ┆ ---             ┆ ---             │\n",
       "│                 ┆        ┆ u32             ┆ f64             ┆ u32             ┆ f64             │\n",
       "╞═════════════════╪════════╪═════════════════╪═════════════════╪═════════════════╪═════════════════╡\n",
       "│ Port of         ┆ 202104 ┆ 0               ┆ 0.0             ┆ 3               ┆ 0.62931         │\n",
       "│ Brunswick, GA   ┆        ┆                 ┆                 ┆                 ┆                 │\n",
       "│ Port of         ┆ 202002 ┆ 1               ┆ 0.050926        ┆ 1               ┆ 0.152778        │\n",
       "│ Gulfport, MS    ┆        ┆                 ┆                 ┆                 ┆                 │\n",
       "│ Greater         ┆ 201910 ┆ 0               ┆ 0.0             ┆ 1               ┆ 0.116667        │\n",
       "│ Lafourche Port, ┆        ┆                 ┆                 ┆                 ┆                 │\n",
       "│ LA              ┆        ┆                 ┆                 ┆                 ┆                 │\n",
       "│ Guaynabo, PR    ┆ 202306 ┆ 1               ┆ 0.020833        ┆ 3               ┆ 0.261218        │\n",
       "│ Wilmington, NC  ┆ 202103 ┆ 0               ┆ 0.0             ┆ 4               ┆ 0.554012        │\n",
       "└─────────────────┴────────┴─────────────────┴─────────────────┴─────────────────┴─────────────────┘"
      ]
     },
     "execution_count": 86,
     "metadata": {},
     "output_type": "execute_result"
    }
   ],
   "source": [
    "#inspect\n",
    "display(pit_df.describe())\n",
    "pit_df.head()"
   ]
  },
  {
   "cell_type": "markdown",
   "metadata": {},
   "source": [
    "### Max/Mean stats for vessels_at_dock \n",
    "\n",
    "- Current output seems far too low - e.g. Port of LA shows a max of 11 vessels at dock at any time since 2018; since there are 37 docks at LA we expect a max in the 20s or higher. "
   ]
  },
  {
   "cell_type": "code",
   "execution_count": 87,
   "metadata": {},
   "outputs": [
    {
     "data": {
      "text/html": [
       "<div><style>\n",
       ".dataframe > thead > tr,\n",
       ".dataframe > tbody > tr {\n",
       "  text-align: right;\n",
       "  white-space: pre-wrap;\n",
       "}\n",
       "</style>\n",
       "<small>shape: (81, 6)</small><table border=\"1\" class=\"dataframe\"><thead><tr><th>port_name</th><th>month</th><th>vessels_at_anchor_max</th><th>vessels_at_anchor_mean</th><th>vessels_at_dock_max</th><th>vessels_at_dock_mean</th></tr><tr><td>str</td><td>str</td><td>u32</td><td>f64</td><td>u32</td><td>f64</td></tr></thead><tbody><tr><td>&quot;Port of Los Angeles, CA&quot;</td><td>&quot;201801&quot;</td><td>4</td><td>0.348118</td><td>7</td><td>1.680108</td></tr><tr><td>&quot;Port of Los Angeles, CA&quot;</td><td>&quot;201802&quot;</td><td>3</td><td>0.282738</td><td>5</td><td>1.077381</td></tr><tr><td>&quot;Port of Los Angeles, CA&quot;</td><td>&quot;201803&quot;</td><td>2</td><td>0.278226</td><td>9</td><td>1.802419</td></tr><tr><td>&quot;Port of Los Angeles, CA&quot;</td><td>&quot;201804&quot;</td><td>3</td><td>0.3625</td><td>7</td><td>1.406944</td></tr><tr><td>&quot;Port of Los Angeles, CA&quot;</td><td>&quot;201805&quot;</td><td>2</td><td>0.254032</td><td>5</td><td>1.443548</td></tr><tr><td>&quot;Port of Los Angeles, CA&quot;</td><td>&quot;201806&quot;</td><td>2</td><td>0.245833</td><td>6</td><td>1.5375</td></tr><tr><td>&quot;Port of Los Angeles, CA&quot;</td><td>&quot;201807&quot;</td><td>3</td><td>0.280914</td><td>6</td><td>1.428763</td></tr><tr><td>&quot;Port of Los Angeles, CA&quot;</td><td>&quot;201808&quot;</td><td>5</td><td>0.258065</td><td>7</td><td>1.608871</td></tr><tr><td>&quot;Port of Los Angeles, CA&quot;</td><td>&quot;201809&quot;</td><td>3</td><td>0.309722</td><td>7</td><td>1.327778</td></tr><tr><td>&quot;Port of Los Angeles, CA&quot;</td><td>&quot;201810&quot;</td><td>4</td><td>0.310484</td><td>6</td><td>1.747312</td></tr><tr><td>&quot;Port of Los Angeles, CA&quot;</td><td>&quot;201811&quot;</td><td>2</td><td>0.2</td><td>7</td><td>1.733333</td></tr><tr><td>&quot;Port of Los Angeles, CA&quot;</td><td>&quot;201812&quot;</td><td>3</td><td>0.307796</td><td>7</td><td>1.709677</td></tr><tr><td>&quot;Port of Los Angeles, CA&quot;</td><td>&quot;201901&quot;</td><td>3</td><td>0.412634</td><td>9</td><td>1.657258</td></tr><tr><td>&quot;Port of Los Angeles, CA&quot;</td><td>&quot;201902&quot;</td><td>2</td><td>0.276786</td><td>6</td><td>1.300595</td></tr><tr><td>&quot;Port of Los Angeles, CA&quot;</td><td>&quot;201903&quot;</td><td>2</td><td>0.189516</td><td>7</td><td>1.602151</td></tr><tr><td>&quot;Port of Los Angeles, CA&quot;</td><td>&quot;201904&quot;</td><td>3</td><td>0.475</td><td>9</td><td>1.670833</td></tr><tr><td>&quot;Port of Los Angeles, CA&quot;</td><td>&quot;201905&quot;</td><td>3</td><td>0.387097</td><td>8</td><td>2.193548</td></tr><tr><td>&quot;Port of Los Angeles, CA&quot;</td><td>&quot;201906&quot;</td><td>2</td><td>0.301389</td><td>7</td><td>1.448611</td></tr><tr><td>&quot;Port of Los Angeles, CA&quot;</td><td>&quot;201907&quot;</td><td>3</td><td>0.266129</td><td>5</td><td>1.202957</td></tr><tr><td>&quot;Port of Los Angeles, CA&quot;</td><td>&quot;201908&quot;</td><td>2</td><td>0.205645</td><td>6</td><td>1.505376</td></tr><tr><td>&quot;Port of Los Angeles, CA&quot;</td><td>&quot;201909&quot;</td><td>3</td><td>0.329167</td><td>7</td><td>1.75</td></tr><tr><td>&quot;Port of Los Angeles, CA&quot;</td><td>&quot;201910&quot;</td><td>2</td><td>0.178763</td><td>5</td><td>1.455645</td></tr><tr><td>&quot;Port of Los Angeles, CA&quot;</td><td>&quot;201911&quot;</td><td>2</td><td>0.198611</td><td>6</td><td>1.533333</td></tr><tr><td>&quot;Port of Los Angeles, CA&quot;</td><td>&quot;201912&quot;</td><td>5</td><td>0.263441</td><td>7</td><td>1.919355</td></tr><tr><td>&quot;Port of Los Angeles, CA&quot;</td><td>&quot;202001&quot;</td><td>2</td><td>0.096774</td><td>5</td><td>1.135753</td></tr><tr><td>&quot;Port of Los Angeles, CA&quot;</td><td>&quot;202002&quot;</td><td>2</td><td>0.109195</td><td>5</td><td>0.929598</td></tr><tr><td>&quot;Port of Los Angeles, CA&quot;</td><td>&quot;202003&quot;</td><td>3</td><td>0.295699</td><td>7</td><td>1.517473</td></tr><tr><td>&quot;Port of Los Angeles, CA&quot;</td><td>&quot;202004&quot;</td><td>2</td><td>0.115278</td><td>6</td><td>1.386111</td></tr><tr><td>&quot;Port of Los Angeles, CA&quot;</td><td>&quot;202005&quot;</td><td>3</td><td>0.259409</td><td>4</td><td>0.848118</td></tr><tr><td>&quot;Port of Los Angeles, CA&quot;</td><td>&quot;202006&quot;</td><td>2</td><td>0.108333</td><td>3</td><td>0.745833</td></tr><tr><td>&quot;Port of Los Angeles, CA&quot;</td><td>&quot;202007&quot;</td><td>2</td><td>0.11828</td><td>5</td><td>1.329301</td></tr><tr><td>&quot;Port of Los Angeles, CA&quot;</td><td>&quot;202008&quot;</td><td>2</td><td>0.150538</td><td>5</td><td>1.606183</td></tr><tr><td>&quot;Port of Los Angeles, CA&quot;</td><td>&quot;202009&quot;</td><td>2</td><td>0.184722</td><td>5</td><td>1.509722</td></tr><tr><td>&quot;Port of Los Angeles, CA&quot;</td><td>&quot;202010&quot;</td><td>2</td><td>0.254032</td><td>7</td><td>1.733871</td></tr><tr><td>&quot;Port of Los Angeles, CA&quot;</td><td>&quot;202011&quot;</td><td>2</td><td>0.248611</td><td>7</td><td>1.969444</td></tr><tr><td>&quot;Port of Los Angeles, CA&quot;</td><td>&quot;202012&quot;</td><td>5</td><td>0.438889</td><td>7</td><td>1.619444</td></tr><tr><td>&quot;Port of Los Angeles, CA&quot;</td><td>&quot;202101&quot;</td><td>2</td><td>0.236559</td><td>7</td><td>1.510753</td></tr><tr><td>&quot;Port of Los Angeles, CA&quot;</td><td>&quot;202102&quot;</td><td>2</td><td>0.331845</td><td>7</td><td>1.864583</td></tr><tr><td>&quot;Port of Los Angeles, CA&quot;</td><td>&quot;202103&quot;</td><td>2</td><td>0.372312</td><td>9</td><td>2.297043</td></tr><tr><td>&quot;Port of Los Angeles, CA&quot;</td><td>&quot;202104&quot;</td><td>3</td><td>0.472222</td><td>9</td><td>2.766667</td></tr><tr><td>&quot;Port of Los Angeles, CA&quot;</td><td>&quot;202105&quot;</td><td>3</td><td>0.530914</td><td>7</td><td>2.034946</td></tr><tr><td>&quot;Port of Los Angeles, CA&quot;</td><td>&quot;202106&quot;</td><td>4</td><td>0.497222</td><td>8</td><td>2.2125</td></tr><tr><td>&quot;Port of Los Angeles, CA&quot;</td><td>&quot;202107&quot;</td><td>4</td><td>0.498656</td><td>9</td><td>2.575269</td></tr><tr><td>&quot;Port of Los Angeles, CA&quot;</td><td>&quot;202108&quot;</td><td>4</td><td>0.648611</td><td>8</td><td>2.693056</td></tr><tr><td>&quot;Port of Los Angeles, CA&quot;</td><td>&quot;202109&quot;</td><td>4</td><td>0.591667</td><td>10</td><td>2.943056</td></tr><tr><td>&quot;Port of Los Angeles, CA&quot;</td><td>&quot;202110&quot;</td><td>3</td><td>0.47043</td><td>7</td><td>2.068548</td></tr><tr><td>&quot;Port of Los Angeles, CA&quot;</td><td>&quot;202111&quot;</td><td>3</td><td>0.384722</td><td>7</td><td>2.108333</td></tr><tr><td>&quot;Port of Los Angeles, CA&quot;</td><td>&quot;202112&quot;</td><td>3</td><td>0.278226</td><td>7</td><td>1.850806</td></tr><tr><td>&quot;Port of Los Angeles, CA&quot;</td><td>&quot;202201&quot;</td><td>4</td><td>0.767473</td><td>9</td><td>2.884409</td></tr><tr><td>&quot;Port of Los Angeles, CA&quot;</td><td>&quot;202202&quot;</td><td>4</td><td>0.422619</td><td>9</td><td>2.412202</td></tr><tr><td>&quot;Port of Los Angeles, CA&quot;</td><td>&quot;202203&quot;</td><td>4</td><td>0.420699</td><td>7</td><td>2.208333</td></tr><tr><td>&quot;Port of Los Angeles, CA&quot;</td><td>&quot;202204&quot;</td><td>4</td><td>0.566667</td><td>9</td><td>2.819444</td></tr><tr><td>&quot;Port of Los Angeles, CA&quot;</td><td>&quot;202205&quot;</td><td>2</td><td>0.337366</td><td>9</td><td>1.94086</td></tr><tr><td>&quot;Port of Los Angeles, CA&quot;</td><td>&quot;202206&quot;</td><td>4</td><td>0.388889</td><td>8</td><td>2.127778</td></tr><tr><td>&quot;Port of Los Angeles, CA&quot;</td><td>&quot;202207&quot;</td><td>2</td><td>0.272849</td><td>5</td><td>1.653226</td></tr><tr><td>&quot;Port of Los Angeles, CA&quot;</td><td>&quot;202208&quot;</td><td>4</td><td>0.25672</td><td>8</td><td>1.793011</td></tr><tr><td>&quot;Port of Los Angeles, CA&quot;</td><td>&quot;202209&quot;</td><td>3</td><td>0.3375</td><td>4</td><td>0.958333</td></tr><tr><td>&quot;Port of Los Angeles, CA&quot;</td><td>&quot;202210&quot;</td><td>3</td><td>0.30914</td><td>7</td><td>1.005376</td></tr><tr><td>&quot;Port of Los Angeles, CA&quot;</td><td>&quot;202211&quot;</td><td>3</td><td>0.240278</td><td>6</td><td>1.15</td></tr><tr><td>&quot;Port of Los Angeles, CA&quot;</td><td>&quot;202212&quot;</td><td>5</td><td>0.553763</td><td>5</td><td>0.80914</td></tr><tr><td>&quot;Port of Los Angeles, CA&quot;</td><td>&quot;202301&quot;</td><td>3</td><td>0.357527</td><td>6</td><td>0.877688</td></tr><tr><td>&quot;Port of Los Angeles, CA&quot;</td><td>&quot;202302&quot;</td><td>2</td><td>0.264881</td><td>4</td><td>0.907738</td></tr><tr><td>&quot;Port of Los Angeles, CA&quot;</td><td>&quot;202303&quot;</td><td>2</td><td>0.282258</td><td>6</td><td>1.110215</td></tr><tr><td>&quot;Port of Los Angeles, CA&quot;</td><td>&quot;202304&quot;</td><td>2</td><td>0.263889</td><td>6</td><td>1.569444</td></tr><tr><td>&quot;Port of Los Angeles, CA&quot;</td><td>&quot;202305&quot;</td><td>2</td><td>0.157258</td><td>5</td><td>1.260753</td></tr><tr><td>&quot;Port of Los Angeles, CA&quot;</td><td>&quot;202306&quot;</td><td>3</td><td>0.256944</td><td>4</td><td>1.005556</td></tr><tr><td>&quot;Port of Los Angeles, CA&quot;</td><td>&quot;202307&quot;</td><td>3</td><td>0.272849</td><td>6</td><td>1.571237</td></tr><tr><td>&quot;Port of Los Angeles, CA&quot;</td><td>&quot;202308&quot;</td><td>2</td><td>0.225806</td><td>4</td><td>0.822581</td></tr><tr><td>&quot;Port of Los Angeles, CA&quot;</td><td>&quot;202309&quot;</td><td>2</td><td>0.161111</td><td>8</td><td>1.118056</td></tr><tr><td>&quot;Port of Los Angeles, CA&quot;</td><td>&quot;202310&quot;</td><td>3</td><td>0.176075</td><td>4</td><td>0.899194</td></tr><tr><td>&quot;Port of Los Angeles, CA&quot;</td><td>&quot;202311&quot;</td><td>2</td><td>0.238889</td><td>3</td><td>0.734722</td></tr><tr><td>&quot;Port of Los Angeles, CA&quot;</td><td>&quot;202312&quot;</td><td>2</td><td>0.202957</td><td>6</td><td>1.079301</td></tr><tr><td>&quot;Port of Los Angeles, CA&quot;</td><td>&quot;202401&quot;</td><td>3</td><td>0.262097</td><td>6</td><td>1.002688</td></tr><tr><td>&quot;Port of Los Angeles, CA&quot;</td><td>&quot;202402&quot;</td><td>2</td><td>0.185345</td><td>5</td><td>1.297414</td></tr><tr><td>&quot;Port of Los Angeles, CA&quot;</td><td>&quot;202403&quot;</td><td>2</td><td>0.365591</td><td>5</td><td>1.075269</td></tr><tr><td>&quot;Port of Los Angeles, CA&quot;</td><td>&quot;202404&quot;</td><td>3</td><td>0.4875</td><td>5</td><td>1.059722</td></tr><tr><td>&quot;Port of Los Angeles, CA&quot;</td><td>&quot;202405&quot;</td><td>3</td><td>0.416667</td><td>5</td><td>1.186828</td></tr><tr><td>&quot;Port of Los Angeles, CA&quot;</td><td>&quot;202406&quot;</td><td>2</td><td>0.4</td><td>4</td><td>1.2375</td></tr><tr><td>&quot;Port of Los Angeles, CA&quot;</td><td>&quot;202407&quot;</td><td>2</td><td>0.28629</td><td>7</td><td>1.225806</td></tr><tr><td>&quot;Port of Los Angeles, CA&quot;</td><td>&quot;202408&quot;</td><td>3</td><td>0.30914</td><td>6</td><td>1.288978</td></tr><tr><td>&quot;Port of Los Angeles, CA&quot;</td><td>&quot;202409&quot;</td><td>3</td><td>0.340278</td><td>6</td><td>1.201389</td></tr></tbody></table></div>"
      ],
      "text/plain": [
       "shape: (81, 6)\n",
       "┌─────────────┬────────┬──────────────────┬──────────────────┬──────────────────┬──────────────────┐\n",
       "│ port_name   ┆ month  ┆ vessels_at_ancho ┆ vessels_at_ancho ┆ vessels_at_dock_ ┆ vessels_at_dock_ │\n",
       "│ ---         ┆ ---    ┆ r_max            ┆ r_mean           ┆ max              ┆ mean             │\n",
       "│ str         ┆ str    ┆ ---              ┆ ---              ┆ ---              ┆ ---              │\n",
       "│             ┆        ┆ u32              ┆ f64              ┆ u32              ┆ f64              │\n",
       "╞═════════════╪════════╪══════════════════╪══════════════════╪══════════════════╪══════════════════╡\n",
       "│ Port of Los ┆ 201801 ┆ 4                ┆ 0.348118         ┆ 7                ┆ 1.680108         │\n",
       "│ Angeles, CA ┆        ┆                  ┆                  ┆                  ┆                  │\n",
       "│ Port of Los ┆ 201802 ┆ 3                ┆ 0.282738         ┆ 5                ┆ 1.077381         │\n",
       "│ Angeles, CA ┆        ┆                  ┆                  ┆                  ┆                  │\n",
       "│ Port of Los ┆ 201803 ┆ 2                ┆ 0.278226         ┆ 9                ┆ 1.802419         │\n",
       "│ Angeles, CA ┆        ┆                  ┆                  ┆                  ┆                  │\n",
       "│ Port of Los ┆ 201804 ┆ 3                ┆ 0.3625           ┆ 7                ┆ 1.406944         │\n",
       "│ Angeles, CA ┆        ┆                  ┆                  ┆                  ┆                  │\n",
       "│ Port of Los ┆ 201805 ┆ 2                ┆ 0.254032         ┆ 5                ┆ 1.443548         │\n",
       "│ Angeles, CA ┆        ┆                  ┆                  ┆                  ┆                  │\n",
       "│ Port of Los ┆ 201806 ┆ 2                ┆ 0.245833         ┆ 6                ┆ 1.5375           │\n",
       "│ Angeles, CA ┆        ┆                  ┆                  ┆                  ┆                  │\n",
       "│ Port of Los ┆ 201807 ┆ 3                ┆ 0.280914         ┆ 6                ┆ 1.428763         │\n",
       "│ Angeles, CA ┆        ┆                  ┆                  ┆                  ┆                  │\n",
       "│ Port of Los ┆ 201808 ┆ 5                ┆ 0.258065         ┆ 7                ┆ 1.608871         │\n",
       "│ Angeles, CA ┆        ┆                  ┆                  ┆                  ┆                  │\n",
       "│ Port of Los ┆ 201809 ┆ 3                ┆ 0.309722         ┆ 7                ┆ 1.327778         │\n",
       "│ Angeles, CA ┆        ┆                  ┆                  ┆                  ┆                  │\n",
       "│ Port of Los ┆ 201810 ┆ 4                ┆ 0.310484         ┆ 6                ┆ 1.747312         │\n",
       "│ Angeles, CA ┆        ┆                  ┆                  ┆                  ┆                  │\n",
       "│ Port of Los ┆ 201811 ┆ 2                ┆ 0.2              ┆ 7                ┆ 1.733333         │\n",
       "│ Angeles, CA ┆        ┆                  ┆                  ┆                  ┆                  │\n",
       "│ Port of Los ┆ 201812 ┆ 3                ┆ 0.307796         ┆ 7                ┆ 1.709677         │\n",
       "│ Angeles, CA ┆        ┆                  ┆                  ┆                  ┆                  │\n",
       "│ Port of Los ┆ 201901 ┆ 3                ┆ 0.412634         ┆ 9                ┆ 1.657258         │\n",
       "│ Angeles, CA ┆        ┆                  ┆                  ┆                  ┆                  │\n",
       "│ Port of Los ┆ 201902 ┆ 2                ┆ 0.276786         ┆ 6                ┆ 1.300595         │\n",
       "│ Angeles, CA ┆        ┆                  ┆                  ┆                  ┆                  │\n",
       "│ Port of Los ┆ 201903 ┆ 2                ┆ 0.189516         ┆ 7                ┆ 1.602151         │\n",
       "│ Angeles, CA ┆        ┆                  ┆                  ┆                  ┆                  │\n",
       "│ Port of Los ┆ 201904 ┆ 3                ┆ 0.475            ┆ 9                ┆ 1.670833         │\n",
       "│ Angeles, CA ┆        ┆                  ┆                  ┆                  ┆                  │\n",
       "│ Port of Los ┆ 201905 ┆ 3                ┆ 0.387097         ┆ 8                ┆ 2.193548         │\n",
       "│ Angeles, CA ┆        ┆                  ┆                  ┆                  ┆                  │\n",
       "│ Port of Los ┆ 201906 ┆ 2                ┆ 0.301389         ┆ 7                ┆ 1.448611         │\n",
       "│ Angeles, CA ┆        ┆                  ┆                  ┆                  ┆                  │\n",
       "│ Port of Los ┆ 201907 ┆ 3                ┆ 0.266129         ┆ 5                ┆ 1.202957         │\n",
       "│ Angeles, CA ┆        ┆                  ┆                  ┆                  ┆                  │\n",
       "│ Port of Los ┆ 201908 ┆ 2                ┆ 0.205645         ┆ 6                ┆ 1.505376         │\n",
       "│ Angeles, CA ┆        ┆                  ┆                  ┆                  ┆                  │\n",
       "│ Port of Los ┆ 201909 ┆ 3                ┆ 0.329167         ┆ 7                ┆ 1.75             │\n",
       "│ Angeles, CA ┆        ┆                  ┆                  ┆                  ┆                  │\n",
       "│ Port of Los ┆ 201910 ┆ 2                ┆ 0.178763         ┆ 5                ┆ 1.455645         │\n",
       "│ Angeles, CA ┆        ┆                  ┆                  ┆                  ┆                  │\n",
       "│ Port of Los ┆ 201911 ┆ 2                ┆ 0.198611         ┆ 6                ┆ 1.533333         │\n",
       "│ Angeles, CA ┆        ┆                  ┆                  ┆                  ┆                  │\n",
       "│ Port of Los ┆ 201912 ┆ 5                ┆ 0.263441         ┆ 7                ┆ 1.919355         │\n",
       "│ Angeles, CA ┆        ┆                  ┆                  ┆                  ┆                  │\n",
       "│ Port of Los ┆ 202001 ┆ 2                ┆ 0.096774         ┆ 5                ┆ 1.135753         │\n",
       "│ Angeles, CA ┆        ┆                  ┆                  ┆                  ┆                  │\n",
       "│ Port of Los ┆ 202002 ┆ 2                ┆ 0.109195         ┆ 5                ┆ 0.929598         │\n",
       "│ Angeles, CA ┆        ┆                  ┆                  ┆                  ┆                  │\n",
       "│ Port of Los ┆ 202003 ┆ 3                ┆ 0.295699         ┆ 7                ┆ 1.517473         │\n",
       "│ Angeles, CA ┆        ┆                  ┆                  ┆                  ┆                  │\n",
       "│ Port of Los ┆ 202004 ┆ 2                ┆ 0.115278         ┆ 6                ┆ 1.386111         │\n",
       "│ Angeles, CA ┆        ┆                  ┆                  ┆                  ┆                  │\n",
       "│ Port of Los ┆ 202005 ┆ 3                ┆ 0.259409         ┆ 4                ┆ 0.848118         │\n",
       "│ Angeles, CA ┆        ┆                  ┆                  ┆                  ┆                  │\n",
       "│ Port of Los ┆ 202006 ┆ 2                ┆ 0.108333         ┆ 3                ┆ 0.745833         │\n",
       "│ Angeles, CA ┆        ┆                  ┆                  ┆                  ┆                  │\n",
       "│ Port of Los ┆ 202007 ┆ 2                ┆ 0.11828          ┆ 5                ┆ 1.329301         │\n",
       "│ Angeles, CA ┆        ┆                  ┆                  ┆                  ┆                  │\n",
       "│ Port of Los ┆ 202008 ┆ 2                ┆ 0.150538         ┆ 5                ┆ 1.606183         │\n",
       "│ Angeles, CA ┆        ┆                  ┆                  ┆                  ┆                  │\n",
       "│ Port of Los ┆ 202009 ┆ 2                ┆ 0.184722         ┆ 5                ┆ 1.509722         │\n",
       "│ Angeles, CA ┆        ┆                  ┆                  ┆                  ┆                  │\n",
       "│ Port of Los ┆ 202010 ┆ 2                ┆ 0.254032         ┆ 7                ┆ 1.733871         │\n",
       "│ Angeles, CA ┆        ┆                  ┆                  ┆                  ┆                  │\n",
       "│ Port of Los ┆ 202011 ┆ 2                ┆ 0.248611         ┆ 7                ┆ 1.969444         │\n",
       "│ Angeles, CA ┆        ┆                  ┆                  ┆                  ┆                  │\n",
       "│ Port of Los ┆ 202012 ┆ 5                ┆ 0.438889         ┆ 7                ┆ 1.619444         │\n",
       "│ Angeles, CA ┆        ┆                  ┆                  ┆                  ┆                  │\n",
       "│ Port of Los ┆ 202101 ┆ 2                ┆ 0.236559         ┆ 7                ┆ 1.510753         │\n",
       "│ Angeles, CA ┆        ┆                  ┆                  ┆                  ┆                  │\n",
       "│ Port of Los ┆ 202102 ┆ 2                ┆ 0.331845         ┆ 7                ┆ 1.864583         │\n",
       "│ Angeles, CA ┆        ┆                  ┆                  ┆                  ┆                  │\n",
       "│ Port of Los ┆ 202103 ┆ 2                ┆ 0.372312         ┆ 9                ┆ 2.297043         │\n",
       "│ Angeles, CA ┆        ┆                  ┆                  ┆                  ┆                  │\n",
       "│ Port of Los ┆ 202104 ┆ 3                ┆ 0.472222         ┆ 9                ┆ 2.766667         │\n",
       "│ Angeles, CA ┆        ┆                  ┆                  ┆                  ┆                  │\n",
       "│ Port of Los ┆ 202105 ┆ 3                ┆ 0.530914         ┆ 7                ┆ 2.034946         │\n",
       "│ Angeles, CA ┆        ┆                  ┆                  ┆                  ┆                  │\n",
       "│ Port of Los ┆ 202106 ┆ 4                ┆ 0.497222         ┆ 8                ┆ 2.2125           │\n",
       "│ Angeles, CA ┆        ┆                  ┆                  ┆                  ┆                  │\n",
       "│ Port of Los ┆ 202107 ┆ 4                ┆ 0.498656         ┆ 9                ┆ 2.575269         │\n",
       "│ Angeles, CA ┆        ┆                  ┆                  ┆                  ┆                  │\n",
       "│ Port of Los ┆ 202108 ┆ 4                ┆ 0.648611         ┆ 8                ┆ 2.693056         │\n",
       "│ Angeles, CA ┆        ┆                  ┆                  ┆                  ┆                  │\n",
       "│ Port of Los ┆ 202109 ┆ 4                ┆ 0.591667         ┆ 10               ┆ 2.943056         │\n",
       "│ Angeles, CA ┆        ┆                  ┆                  ┆                  ┆                  │\n",
       "│ Port of Los ┆ 202110 ┆ 3                ┆ 0.47043          ┆ 7                ┆ 2.068548         │\n",
       "│ Angeles, CA ┆        ┆                  ┆                  ┆                  ┆                  │\n",
       "│ Port of Los ┆ 202111 ┆ 3                ┆ 0.384722         ┆ 7                ┆ 2.108333         │\n",
       "│ Angeles, CA ┆        ┆                  ┆                  ┆                  ┆                  │\n",
       "│ Port of Los ┆ 202112 ┆ 3                ┆ 0.278226         ┆ 7                ┆ 1.850806         │\n",
       "│ Angeles, CA ┆        ┆                  ┆                  ┆                  ┆                  │\n",
       "│ Port of Los ┆ 202201 ┆ 4                ┆ 0.767473         ┆ 9                ┆ 2.884409         │\n",
       "│ Angeles, CA ┆        ┆                  ┆                  ┆                  ┆                  │\n",
       "│ Port of Los ┆ 202202 ┆ 4                ┆ 0.422619         ┆ 9                ┆ 2.412202         │\n",
       "│ Angeles, CA ┆        ┆                  ┆                  ┆                  ┆                  │\n",
       "│ Port of Los ┆ 202203 ┆ 4                ┆ 0.420699         ┆ 7                ┆ 2.208333         │\n",
       "│ Angeles, CA ┆        ┆                  ┆                  ┆                  ┆                  │\n",
       "│ Port of Los ┆ 202204 ┆ 4                ┆ 0.566667         ┆ 9                ┆ 2.819444         │\n",
       "│ Angeles, CA ┆        ┆                  ┆                  ┆                  ┆                  │\n",
       "│ Port of Los ┆ 202205 ┆ 2                ┆ 0.337366         ┆ 9                ┆ 1.94086          │\n",
       "│ Angeles, CA ┆        ┆                  ┆                  ┆                  ┆                  │\n",
       "│ Port of Los ┆ 202206 ┆ 4                ┆ 0.388889         ┆ 8                ┆ 2.127778         │\n",
       "│ Angeles, CA ┆        ┆                  ┆                  ┆                  ┆                  │\n",
       "│ Port of Los ┆ 202207 ┆ 2                ┆ 0.272849         ┆ 5                ┆ 1.653226         │\n",
       "│ Angeles, CA ┆        ┆                  ┆                  ┆                  ┆                  │\n",
       "│ Port of Los ┆ 202208 ┆ 4                ┆ 0.25672          ┆ 8                ┆ 1.793011         │\n",
       "│ Angeles, CA ┆        ┆                  ┆                  ┆                  ┆                  │\n",
       "│ Port of Los ┆ 202209 ┆ 3                ┆ 0.3375           ┆ 4                ┆ 0.958333         │\n",
       "│ Angeles, CA ┆        ┆                  ┆                  ┆                  ┆                  │\n",
       "│ Port of Los ┆ 202210 ┆ 3                ┆ 0.30914          ┆ 7                ┆ 1.005376         │\n",
       "│ Angeles, CA ┆        ┆                  ┆                  ┆                  ┆                  │\n",
       "│ Port of Los ┆ 202211 ┆ 3                ┆ 0.240278         ┆ 6                ┆ 1.15             │\n",
       "│ Angeles, CA ┆        ┆                  ┆                  ┆                  ┆                  │\n",
       "│ Port of Los ┆ 202212 ┆ 5                ┆ 0.553763         ┆ 5                ┆ 0.80914          │\n",
       "│ Angeles, CA ┆        ┆                  ┆                  ┆                  ┆                  │\n",
       "│ Port of Los ┆ 202301 ┆ 3                ┆ 0.357527         ┆ 6                ┆ 0.877688         │\n",
       "│ Angeles, CA ┆        ┆                  ┆                  ┆                  ┆                  │\n",
       "│ Port of Los ┆ 202302 ┆ 2                ┆ 0.264881         ┆ 4                ┆ 0.907738         │\n",
       "│ Angeles, CA ┆        ┆                  ┆                  ┆                  ┆                  │\n",
       "│ Port of Los ┆ 202303 ┆ 2                ┆ 0.282258         ┆ 6                ┆ 1.110215         │\n",
       "│ Angeles, CA ┆        ┆                  ┆                  ┆                  ┆                  │\n",
       "│ Port of Los ┆ 202304 ┆ 2                ┆ 0.263889         ┆ 6                ┆ 1.569444         │\n",
       "│ Angeles, CA ┆        ┆                  ┆                  ┆                  ┆                  │\n",
       "│ Port of Los ┆ 202305 ┆ 2                ┆ 0.157258         ┆ 5                ┆ 1.260753         │\n",
       "│ Angeles, CA ┆        ┆                  ┆                  ┆                  ┆                  │\n",
       "│ Port of Los ┆ 202306 ┆ 3                ┆ 0.256944         ┆ 4                ┆ 1.005556         │\n",
       "│ Angeles, CA ┆        ┆                  ┆                  ┆                  ┆                  │\n",
       "│ Port of Los ┆ 202307 ┆ 3                ┆ 0.272849         ┆ 6                ┆ 1.571237         │\n",
       "│ Angeles, CA ┆        ┆                  ┆                  ┆                  ┆                  │\n",
       "│ Port of Los ┆ 202308 ┆ 2                ┆ 0.225806         ┆ 4                ┆ 0.822581         │\n",
       "│ Angeles, CA ┆        ┆                  ┆                  ┆                  ┆                  │\n",
       "│ Port of Los ┆ 202309 ┆ 2                ┆ 0.161111         ┆ 8                ┆ 1.118056         │\n",
       "│ Angeles, CA ┆        ┆                  ┆                  ┆                  ┆                  │\n",
       "│ Port of Los ┆ 202310 ┆ 3                ┆ 0.176075         ┆ 4                ┆ 0.899194         │\n",
       "│ Angeles, CA ┆        ┆                  ┆                  ┆                  ┆                  │\n",
       "│ Port of Los ┆ 202311 ┆ 2                ┆ 0.238889         ┆ 3                ┆ 0.734722         │\n",
       "│ Angeles, CA ┆        ┆                  ┆                  ┆                  ┆                  │\n",
       "│ Port of Los ┆ 202312 ┆ 2                ┆ 0.202957         ┆ 6                ┆ 1.079301         │\n",
       "│ Angeles, CA ┆        ┆                  ┆                  ┆                  ┆                  │\n",
       "│ Port of Los ┆ 202401 ┆ 3                ┆ 0.262097         ┆ 6                ┆ 1.002688         │\n",
       "│ Angeles, CA ┆        ┆                  ┆                  ┆                  ┆                  │\n",
       "│ Port of Los ┆ 202402 ┆ 2                ┆ 0.185345         ┆ 5                ┆ 1.297414         │\n",
       "│ Angeles, CA ┆        ┆                  ┆                  ┆                  ┆                  │\n",
       "│ Port of Los ┆ 202403 ┆ 2                ┆ 0.365591         ┆ 5                ┆ 1.075269         │\n",
       "│ Angeles, CA ┆        ┆                  ┆                  ┆                  ┆                  │\n",
       "│ Port of Los ┆ 202404 ┆ 3                ┆ 0.4875           ┆ 5                ┆ 1.059722         │\n",
       "│ Angeles, CA ┆        ┆                  ┆                  ┆                  ┆                  │\n",
       "│ Port of Los ┆ 202405 ┆ 3                ┆ 0.416667         ┆ 5                ┆ 1.186828         │\n",
       "│ Angeles, CA ┆        ┆                  ┆                  ┆                  ┆                  │\n",
       "│ Port of Los ┆ 202406 ┆ 2                ┆ 0.4              ┆ 4                ┆ 1.2375           │\n",
       "│ Angeles, CA ┆        ┆                  ┆                  ┆                  ┆                  │\n",
       "│ Port of Los ┆ 202407 ┆ 2                ┆ 0.28629          ┆ 7                ┆ 1.225806         │\n",
       "│ Angeles, CA ┆        ┆                  ┆                  ┆                  ┆                  │\n",
       "│ Port of Los ┆ 202408 ┆ 3                ┆ 0.30914          ┆ 6                ┆ 1.288978         │\n",
       "│ Angeles, CA ┆        ┆                  ┆                  ┆                  ┆                  │\n",
       "│ Port of Los ┆ 202409 ┆ 3                ┆ 0.340278         ┆ 6                ┆ 1.201389         │\n",
       "│ Angeles, CA ┆        ┆                  ┆                  ┆                  ┆                  │\n",
       "└─────────────┴────────┴──────────────────┴──────────────────┴──────────────────┴──────────────────┘"
      ]
     },
     "execution_count": 87,
     "metadata": {},
     "output_type": "execute_result"
    }
   ],
   "source": [
    "pit_df.filter(pl.col('port_name')=='Port of Los Angeles, CA').sort('month')"
   ]
  }
 ],
 "metadata": {
  "kernelspec": {
   "display_name": "wsu",
   "language": "python",
   "name": "python3"
  },
  "language_info": {
   "codemirror_mode": {
    "name": "ipython",
    "version": 3
   },
   "file_extension": ".py",
   "mimetype": "text/x-python",
   "name": "python",
   "nbconvert_exporter": "python",
   "pygments_lexer": "ipython3",
   "version": "3.12.0"
  }
 },
 "nbformat": 4,
 "nbformat_minor": 2
}
