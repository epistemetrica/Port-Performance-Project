{
 "cells": [
  {
   "cell_type": "markdown",
   "metadata": {},
   "source": [
    "# Port Statistics\n",
    "\n",
    "This notebook develops and explores the various port statistics used in the [Port Performance Project](https://github.com/epistemetrica/Port-Performance-Project). See the README.md file in the main directory for more info.\n",
    "\n",
    "The primary data set comes from a combination of AIS vessel data and port data, processed in the Port Geodata notebook.\n",
    "\n",
    "Statistics and final dataframes developed here are used in the Port Performance Dashboard.\n",
    "\n"
   ]
  },
  {
   "cell_type": "code",
   "execution_count": 194,
   "metadata": {},
   "outputs": [],
   "source": [
    "#prelims\n",
    "import polars as pl\n",
    "import polars.selectors as cs\n",
    "import pandas as pd\n",
    "import geopandas as gpd\n",
    "import time\n",
    "import plotly.express as px\n",
    "import matplotlib.pyplot as plt\n",
    "import contextily as cx\n",
    "import numpy as np\n",
    "import glob\n",
    "import folium\n",
    "from folium.plugins import HeatMap\n",
    "\n",
    "#enable string cache for polars categoricals\n",
    "pl.enable_string_cache()\n",
    "#display settings\n",
    "pd.set_option('display.max_columns', None)\n",
    "pd.set_option('display.max_rows', None)\n",
    "pl.Config(tbl_rows=100);"
   ]
  },
  {
   "cell_type": "markdown",
   "metadata": {},
   "source": [
    "## Load Data from geodata_prep notebook"
   ]
  },
  {
   "cell_type": "code",
   "execution_count": 195,
   "metadata": {},
   "outputs": [
    {
     "data": {
      "text/html": [
       "<div><style>\n",
       ".dataframe > thead > tr,\n",
       ".dataframe > tbody > tr {\n",
       "  text-align: right;\n",
       "  white-space: pre-wrap;\n",
       "}\n",
       "</style>\n",
       "<small>shape: (9, 30)</small><table border=\"1\" class=\"dataframe\"><thead><tr><th>statistic</th><th>mmsi</th><th>time</th><th>speed</th><th>course</th><th>heading</th><th>status</th><th>vessel_name</th><th>vessel_type</th><th>imo</th><th>length</th><th>width</th><th>draft</th><th>cargo</th><th>which_port_waters</th><th>port_waters1</th><th>port_waters2</th><th>port_waters3</th><th>status_duration</th><th>dock_id</th><th>dock_name</th><th>facility_type</th><th>port_name</th><th>vessel_lat</th><th>vessel_lon</th><th>dock_lat</th><th>dock_lon</th><th>port_lat</th><th>port_lon</th><th>call_id</th></tr><tr><td>str</td><td>str</td><td>str</td><td>f64</td><td>f64</td><td>f64</td><td>f64</td><td>str</td><td>f64</td><td>f64</td><td>f64</td><td>f64</td><td>f64</td><td>f64</td><td>str</td><td>str</td><td>str</td><td>str</td><td>str</td><td>str</td><td>str</td><td>str</td><td>str</td><td>f64</td><td>f64</td><td>f64</td><td>f64</td><td>f64</td><td>f64</td><td>str</td></tr></thead><tbody><tr><td>&quot;count&quot;</td><td>&quot;1479131&quot;</td><td>&quot;1479131&quot;</td><td>1.479131e6</td><td>1.476266e6</td><td>1.459126e6</td><td>1.47913e6</td><td>&quot;1479131&quot;</td><td>1.479131e6</td><td>1.479121e6</td><td>1.479131e6</td><td>1.374029e6</td><td>1.369554e6</td><td>1.181491e6</td><td>&quot;1479131&quot;</td><td>&quot;1479131&quot;</td><td>&quot;1479131&quot;</td><td>&quot;1479131&quot;</td><td>&quot;1475498&quot;</td><td>&quot;1479131&quot;</td><td>&quot;1479131&quot;</td><td>&quot;1474646&quot;</td><td>&quot;1479131&quot;</td><td>1.479131e6</td><td>1.479131e6</td><td>1.479131e6</td><td>1.479131e6</td><td>1.479131e6</td><td>1.479131e6</td><td>&quot;1479131&quot;</td></tr><tr><td>&quot;null_count&quot;</td><td>&quot;0&quot;</td><td>&quot;0&quot;</td><td>0.0</td><td>2865.0</td><td>20005.0</td><td>1.0</td><td>&quot;0&quot;</td><td>0.0</td><td>10.0</td><td>0.0</td><td>105102.0</td><td>109577.0</td><td>297640.0</td><td>&quot;0&quot;</td><td>&quot;0&quot;</td><td>&quot;0&quot;</td><td>&quot;0&quot;</td><td>&quot;3633&quot;</td><td>&quot;0&quot;</td><td>&quot;0&quot;</td><td>&quot;4485&quot;</td><td>&quot;0&quot;</td><td>0.0</td><td>0.0</td><td>0.0</td><td>0.0</td><td>0.0</td><td>0.0</td><td>&quot;0&quot;</td></tr><tr><td>&quot;mean&quot;</td><td>null</td><td>&quot;2021-06-20 13:08:44.930534&quot;</td><td>2.069134</td><td>183.956445</td><td>186.137288</td><td>1.990291</td><td>null</td><td>73.030351</td><td>1.0292e7</td><td>208.684358</td><td>31.890638</td><td>10.748653</td><td>73.64155</td><td>null</td><td>null</td><td>null</td><td>null</td><td>&quot;12:57:35.342323&quot;</td><td>null</td><td>null</td><td>null</td><td>null</td><td>32.421945</td><td>-96.524135</td><td>32.301671</td><td>-96.7059</td><td>32.300501</td><td>-96.706908</td><td>null</td></tr><tr><td>&quot;std&quot;</td><td>null</td><td>null</td><td>4.787626</td><td>91.86207</td><td>103.02194</td><td>2.446991</td><td>null</td><td>4.782461</td><td>2.8644e7</td><td>58.168777</td><td>7.610614</td><td>2.91223</td><td>8.057182</td><td>null</td><td>null</td><td>null</td><td>null</td><td>null</td><td>null</td><td>null</td><td>null</td><td>null</td><td>6.433952</td><td>19.987501</td><td>6.335007</td><td>19.913109</td><td>6.334674</td><td>19.912602</td><td>null</td></tr><tr><td>&quot;min&quot;</td><td>&quot;205042000&quot;</td><td>&quot;2018-01-01 00:35:19&quot;</td><td>0.0</td><td>0.0</td><td>0.0</td><td>0.0</td><td>null</td><td>70.0</td><td>0.0</td><td>101.0</td><td>0.0</td><td>-12.8</td><td>0.0</td><td>&quot;Albany Port District, NY&quot;</td><td>&quot;Albany Port District, NY&quot;</td><td>&quot;Guaynabo, PR&quot;</td><td>&quot;Not in port waters&quot;</td><td>&quot;0:05:01&quot;</td><td>&quot;00XE&quot;</td><td>&quot;ADM Corpus Christi Grain Eleva…</td><td>&quot;Anchorage&quot;</td><td>&quot;Albany Port District, NY&quot;</td><td>12.37642</td><td>-170.62387</td><td>17.936081</td><td>-166.53444</td><td>17.938939</td><td>-166.549916</td><td>&quot;205042000_Port of Long Beach, …</td></tr><tr><td>&quot;25%&quot;</td><td>null</td><td>&quot;2019-10-09 13:20:59&quot;</td><td>0.0</td><td>122.8</td><td>93.0</td><td>0.0</td><td>null</td><td>70.0</td><td>9.314624e6</td><td>179.0</td><td>28.0</td><td>8.7</td><td>70.0</td><td>null</td><td>null</td><td>null</td><td>null</td><td>&quot;0:57:02&quot;</td><td>null</td><td>null</td><td>null</td><td>null</td><td>29.30762</td><td>-118.21407</td><td>29.308056</td><td>-118.21888</td><td>29.31049</td><td>-118.2095</td><td>null</td></tr><tr><td>&quot;50%&quot;</td><td>null</td><td>&quot;2021-08-07 16:13:13&quot;</td><td>0.1</td><td>184.0</td><td>182.0</td><td>0.0</td><td>null</td><td>70.0</td><td>9.484326e6</td><td>189.0</td><td>32.0</td><td>10.6</td><td>70.0</td><td>null</td><td>null</td><td>null</td><td>null</td><td>&quot;1:58:41&quot;</td><td>null</td><td>null</td><td>null</td><td>null</td><td>30.66838</td><td>-93.95915</td><td>30.668867</td><td>-93.968517</td><td>30.69123</td><td>-93.96069</td><td>null</td></tr><tr><td>&quot;75%&quot;</td><td>null</td><td>&quot;2023-01-31 22:32:19&quot;</td><td>0.2</td><td>252.3</td><td>271.0</td><td>5.0</td><td>null</td><td>80.0</td><td>9.683427e6</td><td>229.0</td><td>32.0</td><td>12.8</td><td>80.0</td><td>null</td><td>null</td><td>null</td><td>null</td><td>&quot;4:18:00&quot;</td><td>null</td><td>null</td><td>null</td><td>null</td><td>36.8752</td><td>-80.12159</td><td>34.719167</td><td>-80.122222</td><td>34.71693</td><td>-80.117801</td><td>null</td></tr><tr><td>&quot;max&quot;</td><td>&quot;725019920&quot;</td><td>&quot;2024-09-30 23:22:34&quot;</td><td>102.3</td><td>359.9</td><td>359.0</td><td>15.0</td><td>null</td><td>89.0</td><td>9.901843e8</td><td>667.0</td><td>61.0</td><td>25.5</td><td>191.0</td><td>&quot;Yabucoa, PR&quot;</td><td>&quot;Yabucoa, PR&quot;</td><td>&quot;Yabucoa, PR&quot;</td><td>&quot;Yabucoa, PR&quot;</td><td>&quot;2191 days, 16:36:18&quot;</td><td>&quot;1JHK&quot;</td><td>&quot;YUSEN TERMINALS BERTHS 212-221&quot;</td><td>&quot;Tie Off&quot;</td><td>&quot;Wilmington, NC&quot;</td><td>61.24418</td><td>144.6713</td><td>61.24306</td><td>-66.086926</td><td>61.23778</td><td>-66.096678</td><td>&quot;725019920_Port Everglades, FL_…</td></tr></tbody></table></div>"
      ],
      "text/plain": [
       "shape: (9, 30)\n",
       "┌───────────┬───────────┬───────────┬───────────┬───┬───────────┬───────────┬───────────┬──────────┐\n",
       "│ statistic ┆ mmsi      ┆ time      ┆ speed     ┆ … ┆ dock_lon  ┆ port_lat  ┆ port_lon  ┆ call_id  │\n",
       "│ ---       ┆ ---       ┆ ---       ┆ ---       ┆   ┆ ---       ┆ ---       ┆ ---       ┆ ---      │\n",
       "│ str       ┆ str       ┆ str       ┆ f64       ┆   ┆ f64       ┆ f64       ┆ f64       ┆ str      │\n",
       "╞═══════════╪═══════════╪═══════════╪═══════════╪═══╪═══════════╪═══════════╪═══════════╪══════════╡\n",
       "│ count     ┆ 1479131   ┆ 1479131   ┆ 1.479131e ┆ … ┆ 1.479131e ┆ 1.479131e ┆ 1.479131e ┆ 1479131  │\n",
       "│           ┆           ┆           ┆ 6         ┆   ┆ 6         ┆ 6         ┆ 6         ┆          │\n",
       "│ null_coun ┆ 0         ┆ 0         ┆ 0.0       ┆ … ┆ 0.0       ┆ 0.0       ┆ 0.0       ┆ 0        │\n",
       "│ t         ┆           ┆           ┆           ┆   ┆           ┆           ┆           ┆          │\n",
       "│ mean      ┆ null      ┆ 2021-06-2 ┆ 2.069134  ┆ … ┆ -96.7059  ┆ 32.300501 ┆ -96.70690 ┆ null     │\n",
       "│           ┆           ┆ 0 13:08:4 ┆           ┆   ┆           ┆           ┆ 8         ┆          │\n",
       "│           ┆           ┆ 4.930534  ┆           ┆   ┆           ┆           ┆           ┆          │\n",
       "│ std       ┆ null      ┆ null      ┆ 4.787626  ┆ … ┆ 19.913109 ┆ 6.334674  ┆ 19.912602 ┆ null     │\n",
       "│ min       ┆ 205042000 ┆ 2018-01-0 ┆ 0.0       ┆ … ┆ -166.5344 ┆ 17.938939 ┆ -166.5499 ┆ 20504200 │\n",
       "│           ┆           ┆ 1         ┆           ┆   ┆ 4         ┆           ┆ 16        ┆ 0_Port   │\n",
       "│           ┆           ┆ 00:35:19  ┆           ┆   ┆           ┆           ┆           ┆ of Long  │\n",
       "│           ┆           ┆           ┆           ┆   ┆           ┆           ┆           ┆ Beach, … │\n",
       "│ 25%       ┆ null      ┆ 2019-10-0 ┆ 0.0       ┆ … ┆ -118.2188 ┆ 29.31049  ┆ -118.2095 ┆ null     │\n",
       "│           ┆           ┆ 9         ┆           ┆   ┆ 8         ┆           ┆           ┆          │\n",
       "│           ┆           ┆ 13:20:59  ┆           ┆   ┆           ┆           ┆           ┆          │\n",
       "│ 50%       ┆ null      ┆ 2021-08-0 ┆ 0.1       ┆ … ┆ -93.96851 ┆ 30.69123  ┆ -93.96069 ┆ null     │\n",
       "│           ┆           ┆ 7         ┆           ┆   ┆ 7         ┆           ┆           ┆          │\n",
       "│           ┆           ┆ 16:13:13  ┆           ┆   ┆           ┆           ┆           ┆          │\n",
       "│ 75%       ┆ null      ┆ 2023-01-3 ┆ 0.2       ┆ … ┆ -80.12222 ┆ 34.71693  ┆ -80.11780 ┆ null     │\n",
       "│           ┆           ┆ 1         ┆           ┆   ┆ 2         ┆           ┆ 1         ┆          │\n",
       "│           ┆           ┆ 22:32:19  ┆           ┆   ┆           ┆           ┆           ┆          │\n",
       "│ max       ┆ 725019920 ┆ 2024-09-3 ┆ 102.3     ┆ … ┆ -66.08692 ┆ 61.23778  ┆ -66.09667 ┆ 72501992 │\n",
       "│           ┆           ┆ 0         ┆           ┆   ┆ 6         ┆           ┆ 8         ┆ 0_Port   │\n",
       "│           ┆           ┆ 23:22:34  ┆           ┆   ┆           ┆           ┆           ┆ Everglad │\n",
       "│           ┆           ┆           ┆           ┆   ┆           ┆           ┆           ┆ es, FL_… │\n",
       "└───────────┴───────────┴───────────┴───────────┴───┴───────────┴───────────┴───────────┴──────────┘"
      ]
     },
     "metadata": {},
     "output_type": "display_data"
    },
    {
     "data": {
      "text/html": [
       "<div><style>\n",
       ".dataframe > thead > tr,\n",
       ".dataframe > tbody > tr {\n",
       "  text-align: right;\n",
       "  white-space: pre-wrap;\n",
       "}\n",
       "</style>\n",
       "<small>shape: (5, 29)</small><table border=\"1\" class=\"dataframe\"><thead><tr><th>mmsi</th><th>time</th><th>speed</th><th>course</th><th>heading</th><th>status</th><th>vessel_name</th><th>vessel_type</th><th>imo</th><th>length</th><th>width</th><th>draft</th><th>cargo</th><th>which_port_waters</th><th>port_waters1</th><th>port_waters2</th><th>port_waters3</th><th>status_duration</th><th>dock_id</th><th>dock_name</th><th>facility_type</th><th>port_name</th><th>vessel_lat</th><th>vessel_lon</th><th>dock_lat</th><th>dock_lon</th><th>port_lat</th><th>port_lon</th><th>call_id</th></tr><tr><td>str</td><td>datetime[μs]</td><td>f64</td><td>f64</td><td>f64</td><td>f64</td><td>cat</td><td>f64</td><td>f64</td><td>f64</td><td>f64</td><td>f64</td><td>f64</td><td>str</td><td>str</td><td>str</td><td>str</td><td>duration[μs]</td><td>str</td><td>str</td><td>str</td><td>str</td><td>f64</td><td>f64</td><td>f64</td><td>f64</td><td>f64</td><td>f64</td><td>str</td></tr></thead><tbody><tr><td>&quot;205042000&quot;</td><td>2022-12-07 23:20:37</td><td>9.1</td><td>358.1</td><td>0.0</td><td>0.0</td><td>&quot;DELOS&quot;</td><td>80.0</td><td>9.877767e6</td><td>336.0</td><td>60.0</td><td>16.5</td><td>80.0</td><td>&quot;Port of Long Beach, CA|Port of…</td><td>&quot;Port of Long Beach, CA&quot;</td><td>&quot;Port of Los Angeles, CA&quot;</td><td>&quot;Not in port waters&quot;</td><td>2h 34m 41s</td><td>&quot;0V0U&quot;</td><td>&quot;ARCO WESTERN PIPELINE CO BERTH…</td><td>&quot;Dock&quot;</td><td>&quot;Port of Long Beach, CA&quot;</td><td>33.36623</td><td>-118.04241</td><td>33.757222</td><td>-118.21888</td><td>33.73957</td><td>-118.2095</td><td>&quot;205042000_Port of Long Beach, …</td></tr><tr><td>&quot;205042000&quot;</td><td>2022-12-08 01:55:18</td><td>0.3</td><td>83.8</td><td>328.0</td><td>1.0</td><td>&quot;DELOS&quot;</td><td>80.0</td><td>9.877767e6</td><td>336.0</td><td>60.0</td><td>16.5</td><td>80.0</td><td>&quot;Port of Long Beach, CA|Port of…</td><td>&quot;Port of Long Beach, CA&quot;</td><td>&quot;Port of Los Angeles, CA&quot;</td><td>&quot;Not in port waters&quot;</td><td>6d 18h 3m 47s</td><td>&quot;0V0U&quot;</td><td>&quot;ARCO WESTERN PIPELINE CO BERTH…</td><td>&quot;Dock&quot;</td><td>&quot;Port of Long Beach, CA&quot;</td><td>33.62433</td><td>-118.0504</td><td>33.757222</td><td>-118.21888</td><td>33.73957</td><td>-118.2095</td><td>&quot;205042000_Port of Long Beach, …</td></tr><tr><td>&quot;205042000&quot;</td><td>2022-12-14 19:59:05</td><td>0.9</td><td>232.6</td><td>228.0</td><td>0.0</td><td>&quot;DELOS&quot;</td><td>80.0</td><td>9.877767e6</td><td>336.0</td><td>60.0</td><td>16.5</td><td>80.0</td><td>&quot;Port of Long Beach, CA|Port of…</td><td>&quot;Port of Long Beach, CA&quot;</td><td>&quot;Port of Los Angeles, CA&quot;</td><td>&quot;Not in port waters&quot;</td><td>4h 35m 49s</td><td>&quot;0V0U&quot;</td><td>&quot;ARCO WESTERN PIPELINE CO BERTH…</td><td>&quot;Dock&quot;</td><td>&quot;Port of Long Beach, CA&quot;</td><td>33.62758</td><td>-118.05079</td><td>33.757222</td><td>-118.21888</td><td>33.73957</td><td>-118.2095</td><td>&quot;205042000_Port of Long Beach, …</td></tr><tr><td>&quot;205042000&quot;</td><td>2022-12-15 00:34:54</td><td>0.0</td><td>340.4</td><td>340.0</td><td>5.0</td><td>&quot;DELOS&quot;</td><td>80.0</td><td>9.877767e6</td><td>336.0</td><td>60.0</td><td>16.5</td><td>80.0</td><td>&quot;Port of Long Beach, CA|Port of…</td><td>&quot;Port of Long Beach, CA&quot;</td><td>&quot;Port of Los Angeles, CA&quot;</td><td>&quot;Not in port waters&quot;</td><td>1d 8h 25m 12s</td><td>&quot;0V0U&quot;</td><td>&quot;ARCO WESTERN PIPELINE CO BERTH…</td><td>&quot;Dock&quot;</td><td>&quot;Port of Long Beach, CA&quot;</td><td>33.75624</td><td>-118.21814</td><td>33.757222</td><td>-118.21888</td><td>33.73957</td><td>-118.2095</td><td>&quot;205042000_Port of Long Beach, …</td></tr><tr><td>&quot;205042000&quot;</td><td>2022-12-16 09:00:06</td><td>0.2</td><td>81.3</td><td>339.0</td><td>0.0</td><td>&quot;DELOS&quot;</td><td>80.0</td><td>9.877767e6</td><td>336.0</td><td>60.0</td><td>16.5</td><td>80.0</td><td>&quot;Port of Long Beach, CA|Port of…</td><td>&quot;Port of Long Beach, CA&quot;</td><td>&quot;Port of Los Angeles, CA&quot;</td><td>&quot;Not in port waters&quot;</td><td>1h 2m 19s</td><td>&quot;0V0U&quot;</td><td>&quot;ARCO WESTERN PIPELINE CO BERTH…</td><td>&quot;Dock&quot;</td><td>&quot;Port of Long Beach, CA&quot;</td><td>33.75624</td><td>-118.21808</td><td>33.757222</td><td>-118.21888</td><td>33.73957</td><td>-118.2095</td><td>&quot;205042000_Port of Long Beach, …</td></tr></tbody></table></div>"
      ],
      "text/plain": [
       "shape: (5, 29)\n",
       "┌───────────┬──────────────┬───────┬────────┬───┬────────────┬──────────┬───────────┬──────────────┐\n",
       "│ mmsi      ┆ time         ┆ speed ┆ course ┆ … ┆ dock_lon   ┆ port_lat ┆ port_lon  ┆ call_id      │\n",
       "│ ---       ┆ ---          ┆ ---   ┆ ---    ┆   ┆ ---        ┆ ---      ┆ ---       ┆ ---          │\n",
       "│ str       ┆ datetime[μs] ┆ f64   ┆ f64    ┆   ┆ f64        ┆ f64      ┆ f64       ┆ str          │\n",
       "╞═══════════╪══════════════╪═══════╪════════╪═══╪════════════╪══════════╪═══════════╪══════════════╡\n",
       "│ 205042000 ┆ 2022-12-07   ┆ 9.1   ┆ 358.1  ┆ … ┆ -118.21888 ┆ 33.73957 ┆ -118.2095 ┆ 205042000_Po │\n",
       "│           ┆ 23:20:37     ┆       ┆        ┆   ┆            ┆          ┆           ┆ rt of Long   │\n",
       "│           ┆              ┆       ┆        ┆   ┆            ┆          ┆           ┆ Beach, …     │\n",
       "│ 205042000 ┆ 2022-12-08   ┆ 0.3   ┆ 83.8   ┆ … ┆ -118.21888 ┆ 33.73957 ┆ -118.2095 ┆ 205042000_Po │\n",
       "│           ┆ 01:55:18     ┆       ┆        ┆   ┆            ┆          ┆           ┆ rt of Long   │\n",
       "│           ┆              ┆       ┆        ┆   ┆            ┆          ┆           ┆ Beach, …     │\n",
       "│ 205042000 ┆ 2022-12-14   ┆ 0.9   ┆ 232.6  ┆ … ┆ -118.21888 ┆ 33.73957 ┆ -118.2095 ┆ 205042000_Po │\n",
       "│           ┆ 19:59:05     ┆       ┆        ┆   ┆            ┆          ┆           ┆ rt of Long   │\n",
       "│           ┆              ┆       ┆        ┆   ┆            ┆          ┆           ┆ Beach, …     │\n",
       "│ 205042000 ┆ 2022-12-15   ┆ 0.0   ┆ 340.4  ┆ … ┆ -118.21888 ┆ 33.73957 ┆ -118.2095 ┆ 205042000_Po │\n",
       "│           ┆ 00:34:54     ┆       ┆        ┆   ┆            ┆          ┆           ┆ rt of Long   │\n",
       "│           ┆              ┆       ┆        ┆   ┆            ┆          ┆           ┆ Beach, …     │\n",
       "│ 205042000 ┆ 2022-12-16   ┆ 0.2   ┆ 81.3   ┆ … ┆ -118.21888 ┆ 33.73957 ┆ -118.2095 ┆ 205042000_Po │\n",
       "│           ┆ 09:00:06     ┆       ┆        ┆   ┆            ┆          ┆           ┆ rt of Long   │\n",
       "│           ┆              ┆       ┆        ┆   ┆            ┆          ┆           ┆ Beach, …     │\n",
       "└───────────┴──────────────┴───────┴────────┴───┴────────────┴──────────┴───────────┴──────────────┘"
      ]
     },
     "execution_count": 195,
     "metadata": {},
     "output_type": "execute_result"
    }
   ],
   "source": [
    "#load data from parquet\n",
    "main_lf = pl.scan_parquet('port data/dashboard/main.parquet')\n",
    "#inspect\n",
    "display(main_lf.describe())\n",
    "main_lf.limit(5).collect()"
   ]
  },
  {
   "cell_type": "markdown",
   "metadata": {},
   "source": [
    "## Generate Stats"
   ]
  },
  {
   "cell_type": "code",
   "execution_count": 196,
   "metadata": {},
   "outputs": [
    {
     "data": {
      "text/html": [
       "<div><style>\n",
       ".dataframe > thead > tr,\n",
       ".dataframe > tbody > tr {\n",
       "  text-align: right;\n",
       "  white-space: pre-wrap;\n",
       "}\n",
       "</style>\n",
       "<small>shape: (9, 17)</small><table border=\"1\" class=\"dataframe\"><thead><tr><th>statistic</th><th>call_id</th><th>port_name</th><th>dock_name</th><th>dock_id</th><th>mmsi</th><th>imo</th><th>vessel_size</th><th>time_port_entry</th><th>time_arrival</th><th>time_departure</th><th>time_port_exit</th><th>hrs_at_berth</th><th>hrs_at_anchor</th><th>hrs_to_dock</th><th>hrs_in_port_after_dock</th><th>hrs_in_port_waters</th></tr><tr><td>str</td><td>str</td><td>str</td><td>str</td><td>str</td><td>str</td><td>f64</td><td>f64</td><td>str</td><td>str</td><td>str</td><td>str</td><td>f64</td><td>f64</td><td>f64</td><td>f64</td><td>f64</td></tr></thead><tbody><tr><td>&quot;count&quot;</td><td>&quot;154454&quot;</td><td>&quot;154454&quot;</td><td>&quot;154454&quot;</td><td>&quot;154454&quot;</td><td>&quot;154454&quot;</td><td>154453.0</td><td>154454.0</td><td>&quot;154454&quot;</td><td>&quot;154454&quot;</td><td>&quot;154454&quot;</td><td>&quot;154454&quot;</td><td>154454.0</td><td>154454.0</td><td>154454.0</td><td>154454.0</td><td>154454.0</td></tr><tr><td>&quot;null_count&quot;</td><td>&quot;0&quot;</td><td>&quot;0&quot;</td><td>&quot;0&quot;</td><td>&quot;0&quot;</td><td>&quot;0&quot;</td><td>1.0</td><td>0.0</td><td>&quot;0&quot;</td><td>&quot;0&quot;</td><td>&quot;0&quot;</td><td>&quot;0&quot;</td><td>0.0</td><td>0.0</td><td>0.0</td><td>0.0</td><td>0.0</td></tr><tr><td>&quot;mean&quot;</td><td>null</td><td>null</td><td>null</td><td>null</td><td>null</td><td>1.0161e7</td><td>208.871619</td><td>&quot;2021-06-02 22:49:08.344471&quot;</td><td>&quot;2021-06-04 10:28:10.009718&quot;</td><td>&quot;2021-06-11 00:11:54.391521&quot;</td><td>&quot;2021-06-12 23:11:43.803818&quot;</td><td>67.329997</td><td>14.661846</td><td>35.642629</td><td>46.989393</td><td>240.368338</td></tr><tr><td>&quot;std&quot;</td><td>null</td><td>null</td><td>null</td><td>null</td><td>null</td><td>2.6897e7</td><td>59.443951</td><td>null</td><td>null</td><td>null</td><td>null</td><td>525.075158</td><td>175.955744</td><td>859.09431</td><td>1193.457777</td><td>2447.077442</td></tr><tr><td>&quot;min&quot;</td><td>&quot;205042000_Port of Long Beach, …</td><td>&quot;Albany Port District, NY&quot;</td><td>&quot;ADM Corpus Christi Grain Eleva…</td><td>&quot;00XE&quot;</td><td>&quot;205042000&quot;</td><td>0.0</td><td>101.0</td><td>&quot;2018-01-01 00:35:19&quot;</td><td>&quot;2018-01-01 00:35:19&quot;</td><td>&quot;2018-01-01 07:15:53&quot;</td><td>&quot;2018-01-01 10:05:31&quot;</td><td>0.083333</td><td>0.0</td><td>0.0</td><td>0.0</td><td>0.083333</td></tr><tr><td>&quot;25%&quot;</td><td>null</td><td>null</td><td>null</td><td>null</td><td>null</td><td>9.295842e6</td><td>177.0</td><td>&quot;2019-08-23 11:41:22&quot;</td><td>&quot;2019-08-25 09:06:02&quot;</td><td>&quot;2019-08-31 03:57:02&quot;</td><td>&quot;2019-09-02 01:32:03&quot;</td><td>16.566667</td><td>0.0</td><td>2.616667</td><td>2.116667</td><td>25.866667</td></tr><tr><td>&quot;50%&quot;</td><td>null</td><td>null</td><td>null</td><td>null</td><td>null</td><td>9.401063e6</td><td>190.0</td><td>&quot;2021-07-13 22:30:32&quot;</td><td>&quot;2021-07-15 12:03:39&quot;</td><td>&quot;2021-07-23 06:09:31&quot;</td><td>&quot;2021-07-25 13:43:43&quot;</td><td>31.216667</td><td>0.0</td><td>3.516667</td><td>2.783333</td><td>44.3</td></tr><tr><td>&quot;75%&quot;</td><td>null</td><td>null</td><td>null</td><td>null</td><td>null</td><td>9.612143e6</td><td>232.0</td><td>&quot;2023-02-21 09:06:36&quot;</td><td>&quot;2023-02-23 00:27:48&quot;</td><td>&quot;2023-03-02 12:27:04&quot;</td><td>&quot;2023-03-04 18:38:22&quot;</td><td>58.283333</td><td>0.0</td><td>5.433333</td><td>3.55</td><td>84.133333</td></tr><tr><td>&quot;max&quot;</td><td>&quot;725019920_Port Everglades, FL_…</td><td>&quot;Wilmington, NC&quot;</td><td>&quot;YUSEN TERMINALS BERTHS 212-221&quot;</td><td>&quot;1JHK&quot;</td><td>&quot;725019920&quot;</td><td>9.901843e8</td><td>667.0</td><td>&quot;2024-09-30 12:54:53&quot;</td><td>&quot;2024-09-30 16:32:15&quot;</td><td>&quot;2024-09-30 23:22:34&quot;</td><td>&quot;2024-09-30 23:22:34&quot;</td><td>59292.65</td><td>52600.6</td><td>59117.283333</td><td>58950.283333</td><td>59127.133333</td></tr></tbody></table></div>"
      ],
      "text/plain": [
       "shape: (9, 17)\n",
       "┌───────────┬───────────┬───────────┬───────────┬───┬───────────┬───────────┬───────────┬──────────┐\n",
       "│ statistic ┆ call_id   ┆ port_name ┆ dock_name ┆ … ┆ hrs_at_an ┆ hrs_to_do ┆ hrs_in_po ┆ hrs_in_p │\n",
       "│ ---       ┆ ---       ┆ ---       ┆ ---       ┆   ┆ chor      ┆ ck        ┆ rt_after_ ┆ ort_wate │\n",
       "│ str       ┆ str       ┆ str       ┆ str       ┆   ┆ ---       ┆ ---       ┆ dock      ┆ rs       │\n",
       "│           ┆           ┆           ┆           ┆   ┆ f64       ┆ f64       ┆ ---       ┆ ---      │\n",
       "│           ┆           ┆           ┆           ┆   ┆           ┆           ┆ f64       ┆ f64      │\n",
       "╞═══════════╪═══════════╪═══════════╪═══════════╪═══╪═══════════╪═══════════╪═══════════╪══════════╡\n",
       "│ count     ┆ 154454    ┆ 154454    ┆ 154454    ┆ … ┆ 154454.0  ┆ 154454.0  ┆ 154454.0  ┆ 154454.0 │\n",
       "│ null_coun ┆ 0         ┆ 0         ┆ 0         ┆ … ┆ 0.0       ┆ 0.0       ┆ 0.0       ┆ 0.0      │\n",
       "│ t         ┆           ┆           ┆           ┆   ┆           ┆           ┆           ┆          │\n",
       "│ mean      ┆ null      ┆ null      ┆ null      ┆ … ┆ 14.661846 ┆ 35.642629 ┆ 46.989393 ┆ 240.3683 │\n",
       "│           ┆           ┆           ┆           ┆   ┆           ┆           ┆           ┆ 38       │\n",
       "│ std       ┆ null      ┆ null      ┆ null      ┆ … ┆ 175.95574 ┆ 859.09431 ┆ 1193.4577 ┆ 2447.077 │\n",
       "│           ┆           ┆           ┆           ┆   ┆ 4         ┆           ┆ 77        ┆ 442      │\n",
       "│ min       ┆ 205042000 ┆ Albany    ┆ ADM       ┆ … ┆ 0.0       ┆ 0.0       ┆ 0.0       ┆ 0.083333 │\n",
       "│           ┆ _Port of  ┆ Port      ┆ Corpus    ┆   ┆           ┆           ┆           ┆          │\n",
       "│           ┆ Long      ┆ District, ┆ Christi   ┆   ┆           ┆           ┆           ┆          │\n",
       "│           ┆ Beach, …  ┆ NY        ┆ Grain     ┆   ┆           ┆           ┆           ┆          │\n",
       "│           ┆           ┆           ┆ Eleva…    ┆   ┆           ┆           ┆           ┆          │\n",
       "│ 25%       ┆ null      ┆ null      ┆ null      ┆ … ┆ 0.0       ┆ 2.616667  ┆ 2.116667  ┆ 25.86666 │\n",
       "│           ┆           ┆           ┆           ┆   ┆           ┆           ┆           ┆ 7        │\n",
       "│ 50%       ┆ null      ┆ null      ┆ null      ┆ … ┆ 0.0       ┆ 3.516667  ┆ 2.783333  ┆ 44.3     │\n",
       "│ 75%       ┆ null      ┆ null      ┆ null      ┆ … ┆ 0.0       ┆ 5.433333  ┆ 3.55      ┆ 84.13333 │\n",
       "│           ┆           ┆           ┆           ┆   ┆           ┆           ┆           ┆ 3        │\n",
       "│ max       ┆ 725019920 ┆ Wilmingto ┆ YUSEN     ┆ … ┆ 52600.6   ┆ 59117.283 ┆ 58950.283 ┆ 59127.13 │\n",
       "│           ┆ _Port Eve ┆ n, NC     ┆ TERMINALS ┆   ┆           ┆ 333       ┆ 333       ┆ 3333     │\n",
       "│           ┆ rglades,  ┆           ┆ BERTHS    ┆   ┆           ┆           ┆           ┆          │\n",
       "│           ┆ FL_…      ┆           ┆ 212-221   ┆   ┆           ┆           ┆           ┆          │\n",
       "└───────────┴───────────┴───────────┴───────────┴───┴───────────┴───────────┴───────────┴──────────┘"
      ]
     },
     "metadata": {},
     "output_type": "display_data"
    },
    {
     "data": {
      "text/html": [
       "<div><style>\n",
       ".dataframe > thead > tr,\n",
       ".dataframe > tbody > tr {\n",
       "  text-align: right;\n",
       "  white-space: pre-wrap;\n",
       "}\n",
       "</style>\n",
       "<small>shape: (5, 16)</small><table border=\"1\" class=\"dataframe\"><thead><tr><th>call_id</th><th>port_name</th><th>dock_name</th><th>dock_id</th><th>mmsi</th><th>imo</th><th>vessel_size</th><th>time_port_entry</th><th>time_arrival</th><th>time_departure</th><th>time_port_exit</th><th>hrs_at_berth</th><th>hrs_at_anchor</th><th>hrs_to_dock</th><th>hrs_in_port_after_dock</th><th>hrs_in_port_waters</th></tr><tr><td>str</td><td>str</td><td>str</td><td>str</td><td>str</td><td>f64</td><td>f64</td><td>datetime[μs]</td><td>datetime[μs]</td><td>datetime[μs]</td><td>datetime[μs]</td><td>f64</td><td>f64</td><td>f64</td><td>f64</td><td>f64</td></tr></thead><tbody><tr><td>&quot;305134000_Port Everglades, FL_…</td><td>&quot;Port Everglades, FL&quot;</td><td>&quot;PORT EVERGLADES BERTHS 14 &amp; 15&quot;</td><td>&quot;0YXV&quot;</td><td>&quot;305134000&quot;</td><td>9.435818e6</td><td>139.0</td><td>2020-07-01 07:52:29</td><td>2020-07-01 12:17:30</td><td>2020-07-03 07:05:00</td><td>2020-07-03 10:05:52</td><td>42.783333</td><td>0.0</td><td>4.416667</td><td>3.0</td><td>50.216667</td></tr><tr><td>&quot;305979000_Portland, ME_2024-05…</td><td>&quot;Portland, ME&quot;</td><td>&quot;PORTLAND INTERNATIONAL MARINE …</td><td>&quot;0YH1&quot;</td><td>&quot;305979000&quot;</td><td>9.429194e6</td><td>158.0</td><td>2024-05-28 09:07:40</td><td>2024-05-28 11:19:36</td><td>2024-05-29 17:22:04</td><td>2024-05-29 19:25:43</td><td>30.033333</td><td>0.0</td><td>2.183333</td><td>2.05</td><td>34.3</td></tr><tr><td>&quot;366563000_Tacoma, WA_2022-09-1…</td><td>&quot;Tacoma, WA&quot;</td><td>&quot;PORT OF TACOMA, HUSKY TERMINAL…</td><td>&quot;0UFH&quot;</td><td>&quot;366563000&quot;</td><td>7.907996e6</td><td>262.0</td><td>2022-09-10 17:11:48</td><td>2022-09-10 18:28:49</td><td>2022-09-10 21:47:57</td><td>2022-09-11 00:09:18</td><td>3.316667</td><td>0.0</td><td>1.283333</td><td>2.35</td><td>6.95</td></tr><tr><td>&quot;311297000_San Juan, PR_2019-07…</td><td>&quot;San Juan, PR&quot;</td><td>&quot;SHED G&quot;</td><td>&quot;0N5V&quot;</td><td>&quot;311297000&quot;</td><td>9.046502e6</td><td>150.0</td><td>2019-07-18 10:35:23</td><td>2019-07-18 13:12:24</td><td>2019-07-18 18:47:56</td><td>2019-07-18 21:07:53</td><td>5.583333</td><td>0.0</td><td>2.616667</td><td>2.316667</td><td>10.533333</td></tr><tr><td>&quot;255806068_Port Everglades, FL_…</td><td>&quot;Port Everglades, FL&quot;</td><td>&quot;PORT EVERGLADES BERTHS 30, 31 …</td><td>&quot;0YSY&quot;</td><td>&quot;255806068&quot;</td><td>9.395111e6</td><td>166.0</td><td>2018-08-19 22:52:50</td><td>2018-08-20 01:32:11</td><td>2018-08-20 19:21:50</td><td>2018-08-20 22:56:08</td><td>17.516667</td><td>0.0</td><td>2.65</td><td>3.566667</td><td>24.05</td></tr></tbody></table></div>"
      ],
      "text/plain": [
       "shape: (5, 16)\n",
       "┌────────────┬───────────┬───────────┬─────────┬───┬───────────┬───────────┬───────────┬───────────┐\n",
       "│ call_id    ┆ port_name ┆ dock_name ┆ dock_id ┆ … ┆ hrs_at_an ┆ hrs_to_do ┆ hrs_in_po ┆ hrs_in_po │\n",
       "│ ---        ┆ ---       ┆ ---       ┆ ---     ┆   ┆ chor      ┆ ck        ┆ rt_after_ ┆ rt_waters │\n",
       "│ str        ┆ str       ┆ str       ┆ str     ┆   ┆ ---       ┆ ---       ┆ dock      ┆ ---       │\n",
       "│            ┆           ┆           ┆         ┆   ┆ f64       ┆ f64       ┆ ---       ┆ f64       │\n",
       "│            ┆           ┆           ┆         ┆   ┆           ┆           ┆ f64       ┆           │\n",
       "╞════════════╪═══════════╪═══════════╪═════════╪═══╪═══════════╪═══════════╪═══════════╪═══════════╡\n",
       "│ 305134000_ ┆ Port Ever ┆ PORT EVER ┆ 0YXV    ┆ … ┆ 0.0       ┆ 4.416667  ┆ 3.0       ┆ 50.216667 │\n",
       "│ Port Everg ┆ glades,   ┆ GLADES    ┆         ┆   ┆           ┆           ┆           ┆           │\n",
       "│ lades,     ┆ FL        ┆ BERTHS 14 ┆         ┆   ┆           ┆           ┆           ┆           │\n",
       "│ FL_…       ┆           ┆ & 15      ┆         ┆   ┆           ┆           ┆           ┆           │\n",
       "│ 305979000_ ┆ Portland, ┆ PORTLAND  ┆ 0YH1    ┆ … ┆ 0.0       ┆ 2.183333  ┆ 2.05      ┆ 34.3      │\n",
       "│ Portland,  ┆ ME        ┆ INTERNATI ┆         ┆   ┆           ┆           ┆           ┆           │\n",
       "│ ME_2024-05 ┆           ┆ ONAL      ┆         ┆   ┆           ┆           ┆           ┆           │\n",
       "│ …          ┆           ┆ MARINE …  ┆         ┆   ┆           ┆           ┆           ┆           │\n",
       "│ 366563000_ ┆ Tacoma,   ┆ PORT OF   ┆ 0UFH    ┆ … ┆ 0.0       ┆ 1.283333  ┆ 2.35      ┆ 6.95      │\n",
       "│ Tacoma,    ┆ WA        ┆ TACOMA,   ┆         ┆   ┆           ┆           ┆           ┆           │\n",
       "│ WA_2022-09 ┆           ┆ HUSKY     ┆         ┆   ┆           ┆           ┆           ┆           │\n",
       "│ -1…        ┆           ┆ TERMINAL… ┆         ┆   ┆           ┆           ┆           ┆           │\n",
       "│ 311297000_ ┆ San Juan, ┆ SHED G    ┆ 0N5V    ┆ … ┆ 0.0       ┆ 2.616667  ┆ 2.316667  ┆ 10.533333 │\n",
       "│ San Juan,  ┆ PR        ┆           ┆         ┆   ┆           ┆           ┆           ┆           │\n",
       "│ PR_2019-07 ┆           ┆           ┆         ┆   ┆           ┆           ┆           ┆           │\n",
       "│ …          ┆           ┆           ┆         ┆   ┆           ┆           ┆           ┆           │\n",
       "│ 255806068_ ┆ Port Ever ┆ PORT EVER ┆ 0YSY    ┆ … ┆ 0.0       ┆ 2.65      ┆ 3.566667  ┆ 24.05     │\n",
       "│ Port Everg ┆ glades,   ┆ GLADES    ┆         ┆   ┆           ┆           ┆           ┆           │\n",
       "│ lades,     ┆ FL        ┆ BERTHS    ┆         ┆   ┆           ┆           ┆           ┆           │\n",
       "│ FL_…       ┆           ┆ 30, 31 …  ┆         ┆   ┆           ┆           ┆           ┆           │\n",
       "└────────────┴───────────┴───────────┴─────────┴───┴───────────┴───────────┴───────────┴───────────┘"
      ]
     },
     "execution_count": 196,
     "metadata": {},
     "output_type": "execute_result"
    }
   ],
   "source": [
    "#get stats for each call\n",
    "calls_df = (\n",
    "    main_lf\n",
    "    #ensure sorting by vessel and time\n",
    "    .sort(['mmsi', 'time'])\n",
    "    #drop calls with missing status duration (indicating AIS went offline while in port waters)\n",
    "    .filter(pl.col('status_duration').is_not_null().over('call_id'))\n",
    "    #grouby by call id\n",
    "    .group_by('call_id')\n",
    "    .agg(\n",
    "        #port name\n",
    "        port_name = pl.first('port_name'),\n",
    "        #dock name\n",
    "        dock_name = pl.first('dock_name'),\n",
    "        #dock_id\n",
    "        dock_id = pl.first('dock_id'),\n",
    "        #vessel mmsi\n",
    "        mmsi = pl.first('mmsi'),\n",
    "        #vessel imo\n",
    "        imo = pl.first('imo'),\n",
    "        #vessel size\n",
    "        vessel_size = pl.first('length'),\n",
    "        #time entering port waters\n",
    "        time_port_entry = pl.col('time').min(),\n",
    "        #time of arrival at dock\n",
    "        time_arrival = (\n",
    "            pl.when(pl.col('status')==5)\n",
    "            .then(pl.col('time'))\n",
    "            .otherwise(pl.lit(None))\n",
    "        ).min(),\n",
    "        #time of departure from dock\n",
    "        time_departure = (\n",
    "            pl.when(pl.col('status')==5)\n",
    "            .then(pl.col('time')+pl.col('status_duration'))\n",
    "            .otherwise(pl.lit(None))\n",
    "        ).max(),\n",
    "        #time port exit\n",
    "        time_port_exit = (pl.col('time') + pl.col('status_duration')).max(),\n",
    "        #hrs a berth\n",
    "        hrs_at_berth = (\n",
    "            ((pl.col('status')==5)*\n",
    "            (pl.col('status_duration').dt.total_minutes()/60)\n",
    "            )\n",
    "        ).sum(),\n",
    "        #hrs at anchor\n",
    "        hrs_at_anchor = (\n",
    "            pl.when(pl.col('status')==1)\n",
    "            .then(pl.col('status_duration'))\n",
    "            .otherwise(pl.lit(None))\n",
    "            .sum().dt.total_minutes()/60\n",
    "        )\n",
    "    )\n",
    "    #drop calls with missing arrival or departure time\n",
    "    .filter(pl.col('time_arrival').is_not_null() & \n",
    "            pl.col('time_departure').is_not_null())\n",
    "    #drop calls with missing port entry or exit time\n",
    "    .filter(pl.col('time_port_entry').is_not_null() & \n",
    "            pl.col('time_port_exit').is_not_null())\n",
    "    #compute additional stats\n",
    "    .with_columns(\n",
    "        #time from port entry to docking in hrs\n",
    "        hrs_to_dock = (\n",
    "            (pl.col('time_arrival') - pl.col('time_port_entry'))\n",
    "            .dt.total_minutes()/60\n",
    "        ),\n",
    "        #time in port waters after leaving dock\n",
    "        hrs_in_port_after_dock = (\n",
    "            (pl.col('time_port_exit') - pl.col('time_departure'))\n",
    "            .dt.total_minutes()/60\n",
    "        ),\n",
    "        #total time in port waters in hrs\n",
    "        hrs_in_port_waters =(\n",
    "            (pl.col('time_port_exit') - pl.col('time_port_entry'))\n",
    "            .dt.total_minutes()/60\n",
    "        )\n",
    "    )\n",
    "    #collect\n",
    "    .collect()\n",
    ")\n",
    "\n",
    "#inspect\n",
    "display(calls_df.describe())\n",
    "calls_df.head(5)\n"
   ]
  },
  {
   "cell_type": "code",
   "execution_count": 197,
   "metadata": {},
   "outputs": [
    {
     "data": {
      "text/plain": [
       "0.024505678065961385"
      ]
     },
     "execution_count": 197,
     "metadata": {},
     "output_type": "execute_result"
    }
   ],
   "source": [
    "(calls_df.filter(pl.col('hrs_to_dock')==0).shape[0] /\n",
    "calls_df.shape[0])"
   ]
  },
  {
   "cell_type": "code",
   "execution_count": 198,
   "metadata": {},
   "outputs": [
    {
     "data": {
      "text/plain": [
       "0.14002642007926025"
      ]
     },
     "execution_count": 198,
     "metadata": {},
     "output_type": "execute_result"
    }
   ],
   "source": [
    "((calls_df.filter((pl.col('hrs_to_dock')==0)&\n",
    "                (pl.col('hrs_in_port_after_dock')==0)).shape[0]) /\n",
    "calls_df.filter(pl.col('hrs_to_dock')==0).shape[0])"
   ]
  },
  {
   "cell_type": "markdown",
   "metadata": {},
   "source": [
    "### Notes on Calls Frame and additional cleaning\n",
    "\n",
    "- hrs_in_port_after_dock can be 0 when a vessel docks in overlapping port waters and visits both ports. \n",
    "    - In such cases, hrs_in_port_waters will be ~ 1/2 that of vessels who only visit 1 port. \n",
    "- hrs_to_dock == 0 implies that the first time the vessel sent an AIS message while in port waters was while at dock. This would be expected with new or reset AIS transcievers, and account for ~2.5% (3785) of port calls. \n",
    "    - Of these, ~14% (530) were docked in overlapping port waters prior to visiting the next dock. This would result in hrs_in_port_waters == hrs_at_berth. \n",
    "\n",
    "The mean and quartile statistics for the port calls seems reasonable; however, some calls have very long (6+ years in some cases) hrs_at_berth and related stats. This would result from vessel AIS transponders going offline at some stage during their visit to port waters. Rectifying this issue will be done either in the AIS ingestion or geodata_prep stages at a later date. For now we simply drop these as outliers. "
   ]
  },
  {
   "cell_type": "code",
   "execution_count": 199,
   "metadata": {},
   "outputs": [],
   "source": [
    "#define zero values drop\n",
    "def drop_zero_values(df, cols):\n",
    "    '''\n",
    "    Drops zero values from the dataframe for the specified columns.\n",
    "    Args:\n",
    "        df: Polars DataFrame\n",
    "        cols: List of columns to drop zero values from\n",
    "    Returns:\n",
    "        Polars DataFrame with zero values dropped\n",
    "    '''\n",
    "    for col in cols:\n",
    "        df = df.filter(pl.col(col) > 0)\n",
    "    return df\n",
    "\n",
    "#define outlier drop\n",
    "def drop_outliers(df, cols, threshold=3):\n",
    "    '''\n",
    "    Drops outliers from the dataframe for the specified columns.\n",
    "    Args:\n",
    "        df: Polars DataFrame\n",
    "        cols: List of columns to drop outliers from\n",
    "        threshold: Z-score threshold for outlier detection\n",
    "    Returns:\n",
    "        Polars DataFrame with outliers dropped\n",
    "    '''\n",
    "    print(f'Outlier threshold: {threshold} Std Devs')\n",
    "    for col in cols:\n",
    "        #compute z scores\n",
    "        df = df.with_columns(\n",
    "            z_score = (pl.col(col) - pl.col(col).mean()) / pl.col(col).std()\n",
    "        )\n",
    "        #drop outliers\n",
    "        df = df.filter(pl.col('z_score').abs() < threshold)\n",
    "    return df.drop('z_score')"
   ]
  },
  {
   "cell_type": "code",
   "execution_count": 200,
   "metadata": {},
   "outputs": [
    {
     "name": "stdout",
     "output_type": "stream",
     "text": [
      "Total zero rows dropped: 0 of 154454\n",
      "hrs_at_berth outlier threshold: 65.6 days\n",
      "hrs_to_dock outlier threshold: 107.4 days\n",
      "hrs_at_anchor outlier threshold: 22.0 days\n",
      "hrs_in_port_after_dock outlier threshold: 149.2 days\n",
      "hrs_in_port_waters outlier threshold: 305.9 days\n",
      "Outlier threshold: 3 Std Devs\n",
      "Total outlier rows dropped: 1437 of 154454\n"
     ]
    },
    {
     "data": {
      "text/html": [
       "<div><style>\n",
       ".dataframe > thead > tr,\n",
       ".dataframe > tbody > tr {\n",
       "  text-align: right;\n",
       "  white-space: pre-wrap;\n",
       "}\n",
       "</style>\n",
       "<small>shape: (9, 17)</small><table border=\"1\" class=\"dataframe\"><thead><tr><th>statistic</th><th>call_id</th><th>port_name</th><th>dock_name</th><th>dock_id</th><th>mmsi</th><th>imo</th><th>vessel_size</th><th>time_port_entry</th><th>time_arrival</th><th>time_departure</th><th>time_port_exit</th><th>hrs_at_berth</th><th>hrs_at_anchor</th><th>hrs_to_dock</th><th>hrs_in_port_after_dock</th><th>hrs_in_port_waters</th></tr><tr><td>str</td><td>str</td><td>str</td><td>str</td><td>str</td><td>str</td><td>f64</td><td>f64</td><td>str</td><td>str</td><td>str</td><td>str</td><td>f64</td><td>f64</td><td>f64</td><td>f64</td><td>f64</td></tr></thead><tbody><tr><td>&quot;count&quot;</td><td>&quot;153017&quot;</td><td>&quot;153017&quot;</td><td>&quot;153017&quot;</td><td>&quot;153017&quot;</td><td>&quot;153017&quot;</td><td>153016.0</td><td>153017.0</td><td>&quot;153017&quot;</td><td>&quot;153017&quot;</td><td>&quot;153017&quot;</td><td>&quot;153017&quot;</td><td>153017.0</td><td>153017.0</td><td>153017.0</td><td>153017.0</td><td>153017.0</td></tr><tr><td>&quot;null_count&quot;</td><td>&quot;0&quot;</td><td>&quot;0&quot;</td><td>&quot;0&quot;</td><td>&quot;0&quot;</td><td>&quot;0&quot;</td><td>1.0</td><td>0.0</td><td>&quot;0&quot;</td><td>&quot;0&quot;</td><td>&quot;0&quot;</td><td>&quot;0&quot;</td><td>0.0</td><td>0.0</td><td>0.0</td><td>0.0</td><td>0.0</td></tr><tr><td>&quot;mean&quot;</td><td>null</td><td>null</td><td>null</td><td>null</td><td>null</td><td>1.0150e7</td><td>208.758426</td><td>&quot;2021-06-05 08:51:40.650529&quot;</td><td>&quot;2021-06-05 22:20:39.958122&quot;</td><td>&quot;2021-06-08 05:36:19.480051&quot;</td><td>&quot;2021-06-08 11:37:06.153447&quot;</td><td>49.051392</td><td>11.212385</td><td>13.475293</td><td>6.005277</td><td>74.748907</td></tr><tr><td>&quot;std&quot;</td><td>null</td><td>null</td><td>null</td><td>null</td><td>null</td><td>2.6687e7</td><td>59.420839</td><td>null</td><td>null</td><td>null</td><td>null</td><td>71.673949</td><td>42.935658</td><td>43.545145</td><td>49.271169</td><td>119.634354</td></tr><tr><td>&quot;min&quot;</td><td>&quot;205042000_Port of Long Beach, …</td><td>&quot;Albany Port District, NY&quot;</td><td>&quot;ADM Corpus Christi Grain Eleva…</td><td>&quot;00XE&quot;</td><td>&quot;205042000&quot;</td><td>0.0</td><td>101.0</td><td>&quot;2018-01-01 00:35:19&quot;</td><td>&quot;2018-01-01 00:35:19&quot;</td><td>&quot;2018-01-01 07:15:53&quot;</td><td>&quot;2018-01-01 10:05:31&quot;</td><td>0.083333</td><td>0.0</td><td>0.0</td><td>0.0</td><td>0.083333</td></tr><tr><td>&quot;25%&quot;</td><td>null</td><td>null</td><td>null</td><td>null</td><td>null</td><td>9.295945e6</td><td>176.0</td><td>&quot;2019-08-26 10:07:04&quot;</td><td>&quot;2019-08-26 20:44:57&quot;</td><td>&quot;2019-08-28 15:37:54&quot;</td><td>&quot;2019-08-28 22:05:30&quot;</td><td>16.483333</td><td>0.0</td><td>2.633333</td><td>2.116667</td><td>25.733333</td></tr><tr><td>&quot;50%&quot;</td><td>null</td><td>null</td><td>null</td><td>null</td><td>null</td><td>9.400928e6</td><td>190.0</td><td>&quot;2021-07-16 01:35:06&quot;</td><td>&quot;2021-07-16 18:12:36&quot;</td><td>&quot;2021-07-19 12:12:12&quot;</td><td>&quot;2021-07-19 16:51:58&quot;</td><td>30.95</td><td>0.0</td><td>3.516667</td><td>2.783333</td><td>43.833333</td></tr><tr><td>&quot;75%&quot;</td><td>null</td><td>null</td><td>null</td><td>null</td><td>null</td><td>9.611577e6</td><td>232.0</td><td>&quot;2023-02-23 20:41:20&quot;</td><td>&quot;2023-02-24 10:42:49&quot;</td><td>&quot;2023-02-26 17:34:59&quot;</td><td>&quot;2023-02-26 22:21:00&quot;</td><td>57.566667</td><td>0.0</td><td>5.4</td><td>3.533333</td><td>82.216667</td></tr><tr><td>&quot;max&quot;</td><td>&quot;725019920_Port Everglades, FL_…</td><td>&quot;Wilmington, NC&quot;</td><td>&quot;YUSEN TERMINALS BERTHS 212-221&quot;</td><td>&quot;1JHK&quot;</td><td>&quot;725019920&quot;</td><td>9.849033e8</td><td>667.0</td><td>&quot;2024-09-30 12:54:53&quot;</td><td>&quot;2024-09-30 16:32:15&quot;</td><td>&quot;2024-09-30 21:54:12&quot;</td><td>&quot;2024-09-30 22:57:53&quot;</td><td>1635.516667</td><td>522.6</td><td>2427.683333</td><td>3407.333333</td><td>4842.083333</td></tr></tbody></table></div>"
      ],
      "text/plain": [
       "shape: (9, 17)\n",
       "┌───────────┬───────────┬───────────┬───────────┬───┬───────────┬───────────┬───────────┬──────────┐\n",
       "│ statistic ┆ call_id   ┆ port_name ┆ dock_name ┆ … ┆ hrs_at_an ┆ hrs_to_do ┆ hrs_in_po ┆ hrs_in_p │\n",
       "│ ---       ┆ ---       ┆ ---       ┆ ---       ┆   ┆ chor      ┆ ck        ┆ rt_after_ ┆ ort_wate │\n",
       "│ str       ┆ str       ┆ str       ┆ str       ┆   ┆ ---       ┆ ---       ┆ dock      ┆ rs       │\n",
       "│           ┆           ┆           ┆           ┆   ┆ f64       ┆ f64       ┆ ---       ┆ ---      │\n",
       "│           ┆           ┆           ┆           ┆   ┆           ┆           ┆ f64       ┆ f64      │\n",
       "╞═══════════╪═══════════╪═══════════╪═══════════╪═══╪═══════════╪═══════════╪═══════════╪══════════╡\n",
       "│ count     ┆ 153017    ┆ 153017    ┆ 153017    ┆ … ┆ 153017.0  ┆ 153017.0  ┆ 153017.0  ┆ 153017.0 │\n",
       "│ null_coun ┆ 0         ┆ 0         ┆ 0         ┆ … ┆ 0.0       ┆ 0.0       ┆ 0.0       ┆ 0.0      │\n",
       "│ t         ┆           ┆           ┆           ┆   ┆           ┆           ┆           ┆          │\n",
       "│ mean      ┆ null      ┆ null      ┆ null      ┆ … ┆ 11.212385 ┆ 13.475293 ┆ 6.005277  ┆ 74.74890 │\n",
       "│           ┆           ┆           ┆           ┆   ┆           ┆           ┆           ┆ 7        │\n",
       "│ std       ┆ null      ┆ null      ┆ null      ┆ … ┆ 42.935658 ┆ 43.545145 ┆ 49.271169 ┆ 119.6343 │\n",
       "│           ┆           ┆           ┆           ┆   ┆           ┆           ┆           ┆ 54       │\n",
       "│ min       ┆ 205042000 ┆ Albany    ┆ ADM       ┆ … ┆ 0.0       ┆ 0.0       ┆ 0.0       ┆ 0.083333 │\n",
       "│           ┆ _Port of  ┆ Port      ┆ Corpus    ┆   ┆           ┆           ┆           ┆          │\n",
       "│           ┆ Long      ┆ District, ┆ Christi   ┆   ┆           ┆           ┆           ┆          │\n",
       "│           ┆ Beach, …  ┆ NY        ┆ Grain     ┆   ┆           ┆           ┆           ┆          │\n",
       "│           ┆           ┆           ┆ Eleva…    ┆   ┆           ┆           ┆           ┆          │\n",
       "│ 25%       ┆ null      ┆ null      ┆ null      ┆ … ┆ 0.0       ┆ 2.633333  ┆ 2.116667  ┆ 25.73333 │\n",
       "│           ┆           ┆           ┆           ┆   ┆           ┆           ┆           ┆ 3        │\n",
       "│ 50%       ┆ null      ┆ null      ┆ null      ┆ … ┆ 0.0       ┆ 3.516667  ┆ 2.783333  ┆ 43.83333 │\n",
       "│           ┆           ┆           ┆           ┆   ┆           ┆           ┆           ┆ 3        │\n",
       "│ 75%       ┆ null      ┆ null      ┆ null      ┆ … ┆ 0.0       ┆ 5.4       ┆ 3.533333  ┆ 82.21666 │\n",
       "│           ┆           ┆           ┆           ┆   ┆           ┆           ┆           ┆ 7        │\n",
       "│ max       ┆ 725019920 ┆ Wilmingto ┆ YUSEN     ┆ … ┆ 522.6     ┆ 2427.6833 ┆ 3407.3333 ┆ 4842.083 │\n",
       "│           ┆ _Port Eve ┆ n, NC     ┆ TERMINALS ┆   ┆           ┆ 33        ┆ 33        ┆ 333      │\n",
       "│           ┆ rglades,  ┆           ┆ BERTHS    ┆   ┆           ┆           ┆           ┆          │\n",
       "│           ┆ FL_…      ┆           ┆ 212-221   ┆   ┆           ┆           ┆           ┆          │\n",
       "└───────────┴───────────┴───────────┴───────────┴───┴───────────┴───────────┴───────────┴──────────┘"
      ]
     },
     "metadata": {},
     "output_type": "display_data"
    },
    {
     "data": {
      "text/html": [
       "<div><style>\n",
       ".dataframe > thead > tr,\n",
       ".dataframe > tbody > tr {\n",
       "  text-align: right;\n",
       "  white-space: pre-wrap;\n",
       "}\n",
       "</style>\n",
       "<small>shape: (5, 16)</small><table border=\"1\" class=\"dataframe\"><thead><tr><th>call_id</th><th>port_name</th><th>dock_name</th><th>dock_id</th><th>mmsi</th><th>imo</th><th>vessel_size</th><th>time_port_entry</th><th>time_arrival</th><th>time_departure</th><th>time_port_exit</th><th>hrs_at_berth</th><th>hrs_at_anchor</th><th>hrs_to_dock</th><th>hrs_in_port_after_dock</th><th>hrs_in_port_waters</th></tr><tr><td>str</td><td>str</td><td>str</td><td>str</td><td>str</td><td>f64</td><td>f64</td><td>datetime[μs]</td><td>datetime[μs]</td><td>datetime[μs]</td><td>datetime[μs]</td><td>f64</td><td>f64</td><td>f64</td><td>f64</td><td>f64</td></tr></thead><tbody><tr><td>&quot;305134000_Port Everglades, FL_…</td><td>&quot;Port Everglades, FL&quot;</td><td>&quot;PORT EVERGLADES BERTHS 14 &amp; 15&quot;</td><td>&quot;0YXV&quot;</td><td>&quot;305134000&quot;</td><td>9.435818e6</td><td>139.0</td><td>2020-07-01 07:52:29</td><td>2020-07-01 12:17:30</td><td>2020-07-03 07:05:00</td><td>2020-07-03 10:05:52</td><td>42.783333</td><td>0.0</td><td>4.416667</td><td>3.0</td><td>50.216667</td></tr><tr><td>&quot;305979000_Portland, ME_2024-05…</td><td>&quot;Portland, ME&quot;</td><td>&quot;PORTLAND INTERNATIONAL MARINE …</td><td>&quot;0YH1&quot;</td><td>&quot;305979000&quot;</td><td>9.429194e6</td><td>158.0</td><td>2024-05-28 09:07:40</td><td>2024-05-28 11:19:36</td><td>2024-05-29 17:22:04</td><td>2024-05-29 19:25:43</td><td>30.033333</td><td>0.0</td><td>2.183333</td><td>2.05</td><td>34.3</td></tr><tr><td>&quot;366563000_Tacoma, WA_2022-09-1…</td><td>&quot;Tacoma, WA&quot;</td><td>&quot;PORT OF TACOMA, HUSKY TERMINAL…</td><td>&quot;0UFH&quot;</td><td>&quot;366563000&quot;</td><td>7.907996e6</td><td>262.0</td><td>2022-09-10 17:11:48</td><td>2022-09-10 18:28:49</td><td>2022-09-10 21:47:57</td><td>2022-09-11 00:09:18</td><td>3.316667</td><td>0.0</td><td>1.283333</td><td>2.35</td><td>6.95</td></tr><tr><td>&quot;311297000_San Juan, PR_2019-07…</td><td>&quot;San Juan, PR&quot;</td><td>&quot;SHED G&quot;</td><td>&quot;0N5V&quot;</td><td>&quot;311297000&quot;</td><td>9.046502e6</td><td>150.0</td><td>2019-07-18 10:35:23</td><td>2019-07-18 13:12:24</td><td>2019-07-18 18:47:56</td><td>2019-07-18 21:07:53</td><td>5.583333</td><td>0.0</td><td>2.616667</td><td>2.316667</td><td>10.533333</td></tr><tr><td>&quot;255806068_Port Everglades, FL_…</td><td>&quot;Port Everglades, FL&quot;</td><td>&quot;PORT EVERGLADES BERTHS 30, 31 …</td><td>&quot;0YSY&quot;</td><td>&quot;255806068&quot;</td><td>9.395111e6</td><td>166.0</td><td>2018-08-19 22:52:50</td><td>2018-08-20 01:32:11</td><td>2018-08-20 19:21:50</td><td>2018-08-20 22:56:08</td><td>17.516667</td><td>0.0</td><td>2.65</td><td>3.566667</td><td>24.05</td></tr></tbody></table></div>"
      ],
      "text/plain": [
       "shape: (5, 16)\n",
       "┌────────────┬───────────┬───────────┬─────────┬───┬───────────┬───────────┬───────────┬───────────┐\n",
       "│ call_id    ┆ port_name ┆ dock_name ┆ dock_id ┆ … ┆ hrs_at_an ┆ hrs_to_do ┆ hrs_in_po ┆ hrs_in_po │\n",
       "│ ---        ┆ ---       ┆ ---       ┆ ---     ┆   ┆ chor      ┆ ck        ┆ rt_after_ ┆ rt_waters │\n",
       "│ str        ┆ str       ┆ str       ┆ str     ┆   ┆ ---       ┆ ---       ┆ dock      ┆ ---       │\n",
       "│            ┆           ┆           ┆         ┆   ┆ f64       ┆ f64       ┆ ---       ┆ f64       │\n",
       "│            ┆           ┆           ┆         ┆   ┆           ┆           ┆ f64       ┆           │\n",
       "╞════════════╪═══════════╪═══════════╪═════════╪═══╪═══════════╪═══════════╪═══════════╪═══════════╡\n",
       "│ 305134000_ ┆ Port Ever ┆ PORT EVER ┆ 0YXV    ┆ … ┆ 0.0       ┆ 4.416667  ┆ 3.0       ┆ 50.216667 │\n",
       "│ Port Everg ┆ glades,   ┆ GLADES    ┆         ┆   ┆           ┆           ┆           ┆           │\n",
       "│ lades,     ┆ FL        ┆ BERTHS 14 ┆         ┆   ┆           ┆           ┆           ┆           │\n",
       "│ FL_…       ┆           ┆ & 15      ┆         ┆   ┆           ┆           ┆           ┆           │\n",
       "│ 305979000_ ┆ Portland, ┆ PORTLAND  ┆ 0YH1    ┆ … ┆ 0.0       ┆ 2.183333  ┆ 2.05      ┆ 34.3      │\n",
       "│ Portland,  ┆ ME        ┆ INTERNATI ┆         ┆   ┆           ┆           ┆           ┆           │\n",
       "│ ME_2024-05 ┆           ┆ ONAL      ┆         ┆   ┆           ┆           ┆           ┆           │\n",
       "│ …          ┆           ┆ MARINE …  ┆         ┆   ┆           ┆           ┆           ┆           │\n",
       "│ 366563000_ ┆ Tacoma,   ┆ PORT OF   ┆ 0UFH    ┆ … ┆ 0.0       ┆ 1.283333  ┆ 2.35      ┆ 6.95      │\n",
       "│ Tacoma,    ┆ WA        ┆ TACOMA,   ┆         ┆   ┆           ┆           ┆           ┆           │\n",
       "│ WA_2022-09 ┆           ┆ HUSKY     ┆         ┆   ┆           ┆           ┆           ┆           │\n",
       "│ -1…        ┆           ┆ TERMINAL… ┆         ┆   ┆           ┆           ┆           ┆           │\n",
       "│ 311297000_ ┆ San Juan, ┆ SHED G    ┆ 0N5V    ┆ … ┆ 0.0       ┆ 2.616667  ┆ 2.316667  ┆ 10.533333 │\n",
       "│ San Juan,  ┆ PR        ┆           ┆         ┆   ┆           ┆           ┆           ┆           │\n",
       "│ PR_2019-07 ┆           ┆           ┆         ┆   ┆           ┆           ┆           ┆           │\n",
       "│ …          ┆           ┆           ┆         ┆   ┆           ┆           ┆           ┆           │\n",
       "│ 255806068_ ┆ Port Ever ┆ PORT EVER ┆ 0YSY    ┆ … ┆ 0.0       ┆ 2.65      ┆ 3.566667  ┆ 24.05     │\n",
       "│ Port Everg ┆ glades,   ┆ GLADES    ┆         ┆   ┆           ┆           ┆           ┆           │\n",
       "│ lades,     ┆ FL        ┆ BERTHS    ┆         ┆   ┆           ┆           ┆           ┆           │\n",
       "│ FL_…       ┆           ┆ 30, 31 …  ┆         ┆   ┆           ┆           ┆           ┆           │\n",
       "└────────────┴───────────┴───────────┴─────────┴───┴───────────┴───────────┴───────────┴───────────┘"
      ]
     },
     "execution_count": 200,
     "metadata": {},
     "output_type": "execute_result"
    }
   ],
   "source": [
    "#get count of rows from calls_df before drop\n",
    "rows_prior = calls_df.shape[0]\n",
    "\n",
    "#list cols that should never be zero by construction\n",
    "zero_cols = ['hrs_at_berth', 'hrs_in_port_waters']\n",
    "#list cols for outlier drop\n",
    "outlier_cols = ['hrs_at_berth', 'hrs_to_dock', 'hrs_at_anchor', \n",
    "                'hrs_in_port_after_dock', 'hrs_in_port_waters']\n",
    "\n",
    "#drop zero values\n",
    "calls_df = drop_zero_values(calls_df, zero_cols)\n",
    "#print number of observations dropped\n",
    "print(f'Total zero rows dropped: {rows_prior - calls_df.shape[0]} of {rows_prior}')\n",
    "rows_prior = calls_df.shape[0]\n",
    "\n",
    "#drop outliers\n",
    "#print z_score thresholds\n",
    "for col in outlier_cols:\n",
    "    print(f'{col} outlier threshold: {calls_df[col].std()*3/24:.1f} days')\n",
    "#drop outliers\n",
    "calls_df = drop_outliers(calls_df, outlier_cols, threshold=3)\n",
    "#print rows dropped\n",
    "print(f'Total outlier rows dropped: {rows_prior - calls_df.shape[0]} of {rows_prior}')\n",
    "\n",
    "#inspect\n",
    "display(calls_df.describe())\n",
    "calls_df.head()"
   ]
  },
  {
   "cell_type": "markdown",
   "metadata": {},
   "source": [
    "## Simple delay calculations\n",
    "\n",
    "Differentiating between delay time and the \"efficient\" time it takes for a ship to get to a dock is somewhat difficult. \n",
    "\n",
    "At its most basic, we can calculate the difference between the hrs_to_dock time for each port call and the minimum hrs_to_dock for that vessel and dock. "
   ]
  },
  {
   "cell_type": "code",
   "execution_count": 120,
   "metadata": {},
   "outputs": [
    {
     "data": {
      "text/html": [
       "<div><style>\n",
       ".dataframe > thead > tr,\n",
       ".dataframe > tbody > tr {\n",
       "  text-align: right;\n",
       "  white-space: pre-wrap;\n",
       "}\n",
       "</style>\n",
       "<small>shape: (9, 18)</small><table border=\"1\" class=\"dataframe\"><thead><tr><th>statistic</th><th>call_id</th><th>port_name</th><th>dock_name</th><th>dock_id</th><th>mmsi</th><th>imo</th><th>vessel_size</th><th>time_port_entry</th><th>time_arrival</th><th>time_departure</th><th>time_port_exit</th><th>hrs_at_berth</th><th>hrs_at_anchor</th><th>hrs_to_dock</th><th>hrs_in_port_after_dock</th><th>hrs_in_port_waters</th><th>hrs_delay</th></tr><tr><td>str</td><td>str</td><td>str</td><td>str</td><td>str</td><td>str</td><td>f64</td><td>f64</td><td>str</td><td>str</td><td>str</td><td>str</td><td>f64</td><td>f64</td><td>f64</td><td>f64</td><td>f64</td><td>f64</td></tr></thead><tbody><tr><td>&quot;count&quot;</td><td>&quot;144130&quot;</td><td>&quot;144130&quot;</td><td>&quot;144130&quot;</td><td>&quot;144130&quot;</td><td>&quot;144130&quot;</td><td>144129.0</td><td>144130.0</td><td>&quot;144130&quot;</td><td>&quot;144130&quot;</td><td>&quot;144130&quot;</td><td>&quot;144130&quot;</td><td>144130.0</td><td>144130.0</td><td>144130.0</td><td>144130.0</td><td>144130.0</td><td>144130.0</td></tr><tr><td>&quot;null_count&quot;</td><td>&quot;0&quot;</td><td>&quot;0&quot;</td><td>&quot;0&quot;</td><td>&quot;0&quot;</td><td>&quot;0&quot;</td><td>1.0</td><td>0.0</td><td>&quot;0&quot;</td><td>&quot;0&quot;</td><td>&quot;0&quot;</td><td>&quot;0&quot;</td><td>0.0</td><td>0.0</td><td>0.0</td><td>0.0</td><td>0.0</td><td>0.0</td></tr><tr><td>&quot;mean&quot;</td><td>null</td><td>null</td><td>null</td><td>null</td><td>null</td><td>1.0156e7</td><td>208.435961</td><td>&quot;2021-05-28 12:27:41.285589&quot;</td><td>&quot;2021-05-29 01:56:17.903621&quot;</td><td>&quot;2021-05-31 05:21:18.349788&quot;</td><td>&quot;2021-05-31 10:53:45.817546&quot;</td><td>46.134222</td><td>11.270176</td><td>13.468803</td><td>5.532976</td><td>70.426417</td><td>5.129696</td></tr><tr><td>&quot;std&quot;</td><td>null</td><td>null</td><td>null</td><td>null</td><td>null</td><td>2.6814e7</td><td>59.22973</td><td>null</td><td>null</td><td>null</td><td>null</td><td>52.742429</td><td>42.969633</td><td>40.759136</td><td>29.204737</td><td>84.469003</td><td>26.008882</td></tr><tr><td>&quot;min&quot;</td><td>&quot;205042000_Port of Long Beach, …</td><td>&quot;Albany Port District, NY&quot;</td><td>&quot;ADM Corpus Christi Grain Eleva…</td><td>&quot;00XE&quot;</td><td>&quot;205042000&quot;</td><td>0.0</td><td>101.0</td><td>&quot;2018-01-01 00:53:19&quot;</td><td>&quot;2018-01-01 01:51:47&quot;</td><td>&quot;2018-01-01 07:15:53&quot;</td><td>&quot;2018-01-01 10:05:31&quot;</td><td>0.083333</td><td>0.0</td><td>0.083333</td><td>0.083333</td><td>1.966667</td><td>0.0</td></tr><tr><td>&quot;25%&quot;</td><td>null</td><td>null</td><td>null</td><td>null</td><td>null</td><td>9.295397e6</td><td>176.0</td><td>&quot;2019-08-15 07:48:37&quot;</td><td>&quot;2019-08-15 23:45:52&quot;</td><td>&quot;2019-08-17 18:19:12&quot;</td><td>&quot;2019-08-17 23:10:37&quot;</td><td>16.466667</td><td>0.0</td><td>2.7</td><td>2.2</td><td>25.783333</td><td>0.0</td></tr><tr><td>&quot;50%&quot;</td><td>null</td><td>null</td><td>null</td><td>null</td><td>null</td><td>9.399777e6</td><td>190.0</td><td>&quot;2021-06-28 15:54:08&quot;</td><td>&quot;2021-06-29 08:15:15&quot;</td><td>&quot;2021-07-01 12:25:09&quot;</td><td>&quot;2021-07-01 16:52:12&quot;</td><td>30.483333</td><td>0.0</td><td>3.566667</td><td>2.816667</td><td>43.416667</td><td>0.183333</td></tr><tr><td>&quot;75%&quot;</td><td>null</td><td>null</td><td>null</td><td>null</td><td>null</td><td>9.610406e6</td><td>232.0</td><td>&quot;2023-02-19 16:11:48&quot;</td><td>&quot;2023-02-20 05:19:38&quot;</td><td>&quot;2023-02-22 11:49:33&quot;</td><td>&quot;2023-02-22 18:11:30&quot;</td><td>55.95</td><td>0.0</td><td>5.483333</td><td>3.566667</td><td>80.55</td><td>1.25</td></tr><tr><td>&quot;max&quot;</td><td>&quot;725019920_Port Everglades, FL_…</td><td>&quot;Wilmington, NC&quot;</td><td>&quot;YUSEN TERMINALS BERTHS 212-221&quot;</td><td>&quot;1JHK&quot;</td><td>&quot;725019920&quot;</td><td>9.800025e8</td><td>667.0</td><td>&quot;2024-09-30 07:46:57&quot;</td><td>&quot;2024-09-30 11:36:06&quot;</td><td>&quot;2024-09-30 21:54:12&quot;</td><td>&quot;2024-09-30 22:57:53&quot;</td><td>899.15</td><td>530.75</td><td>1685.45</td><td>1762.916667</td><td>1809.016667</td><td>1246.65</td></tr></tbody></table></div>"
      ],
      "text/plain": [
       "shape: (9, 18)\n",
       "┌───────────┬───────────┬───────────┬───────────┬───┬───────────┬───────────┬───────────┬──────────┐\n",
       "│ statistic ┆ call_id   ┆ port_name ┆ dock_name ┆ … ┆ hrs_to_do ┆ hrs_in_po ┆ hrs_in_po ┆ hrs_dela │\n",
       "│ ---       ┆ ---       ┆ ---       ┆ ---       ┆   ┆ ck        ┆ rt_after_ ┆ rt_waters ┆ y        │\n",
       "│ str       ┆ str       ┆ str       ┆ str       ┆   ┆ ---       ┆ dock      ┆ ---       ┆ ---      │\n",
       "│           ┆           ┆           ┆           ┆   ┆ f64       ┆ ---       ┆ f64       ┆ f64      │\n",
       "│           ┆           ┆           ┆           ┆   ┆           ┆ f64       ┆           ┆          │\n",
       "╞═══════════╪═══════════╪═══════════╪═══════════╪═══╪═══════════╪═══════════╪═══════════╪══════════╡\n",
       "│ count     ┆ 144130    ┆ 144130    ┆ 144130    ┆ … ┆ 144130.0  ┆ 144130.0  ┆ 144130.0  ┆ 144130.0 │\n",
       "│ null_coun ┆ 0         ┆ 0         ┆ 0         ┆ … ┆ 0.0       ┆ 0.0       ┆ 0.0       ┆ 0.0      │\n",
       "│ t         ┆           ┆           ┆           ┆   ┆           ┆           ┆           ┆          │\n",
       "│ mean      ┆ null      ┆ null      ┆ null      ┆ … ┆ 13.468803 ┆ 5.532976  ┆ 70.426417 ┆ 5.129696 │\n",
       "│ std       ┆ null      ┆ null      ┆ null      ┆ … ┆ 40.759136 ┆ 29.204737 ┆ 84.469003 ┆ 26.00888 │\n",
       "│           ┆           ┆           ┆           ┆   ┆           ┆           ┆           ┆ 2        │\n",
       "│ min       ┆ 205042000 ┆ Albany    ┆ ADM       ┆ … ┆ 0.083333  ┆ 0.083333  ┆ 1.966667  ┆ 0.0      │\n",
       "│           ┆ _Port of  ┆ Port      ┆ Corpus    ┆   ┆           ┆           ┆           ┆          │\n",
       "│           ┆ Long      ┆ District, ┆ Christi   ┆   ┆           ┆           ┆           ┆          │\n",
       "│           ┆ Beach, …  ┆ NY        ┆ Grain     ┆   ┆           ┆           ┆           ┆          │\n",
       "│           ┆           ┆           ┆ Eleva…    ┆   ┆           ┆           ┆           ┆          │\n",
       "│ 25%       ┆ null      ┆ null      ┆ null      ┆ … ┆ 2.7       ┆ 2.2       ┆ 25.783333 ┆ 0.0      │\n",
       "│ 50%       ┆ null      ┆ null      ┆ null      ┆ … ┆ 3.566667  ┆ 2.816667  ┆ 43.416667 ┆ 0.183333 │\n",
       "│ 75%       ┆ null      ┆ null      ┆ null      ┆ … ┆ 5.483333  ┆ 3.566667  ┆ 80.55     ┆ 1.25     │\n",
       "│ max       ┆ 725019920 ┆ Wilmingto ┆ YUSEN     ┆ … ┆ 1685.45   ┆ 1762.9166 ┆ 1809.0166 ┆ 1246.65  │\n",
       "│           ┆ _Port Eve ┆ n, NC     ┆ TERMINALS ┆   ┆           ┆ 67        ┆ 67        ┆          │\n",
       "│           ┆ rglades,  ┆           ┆ BERTHS    ┆   ┆           ┆           ┆           ┆          │\n",
       "│           ┆ FL_…      ┆           ┆ 212-221   ┆   ┆           ┆           ┆           ┆          │\n",
       "└───────────┴───────────┴───────────┴───────────┴───┴───────────┴───────────┴───────────┴──────────┘"
      ]
     },
     "execution_count": 120,
     "metadata": {},
     "output_type": "execute_result"
    }
   ],
   "source": [
    "#add min hrs to dock for each vessel-dock pair\n",
    "delay_df = (\n",
    "    calls_df\n",
    "    #min hrs to dock for each vessel-dock pair\n",
    "    .with_columns(\n",
    "        min_hrs_to_dock = pl.col('hrs_to_dock').min().over('mmsi', 'dock_id')\n",
    "    )\n",
    "    #\"delay\" in hrs\n",
    "    .with_columns(\n",
    "        hrs_delay = pl.col('hrs_to_dock') - pl.col('min_hrs_to_dock')\n",
    "    )\n",
    "    #drop unnecessary columns\n",
    "    .drop('min_hrs_to_dock')\n",
    ")\n",
    "\n",
    "delay_df.describe()"
   ]
  },
  {
   "cell_type": "code",
   "execution_count": 121,
   "metadata": {},
   "outputs": [
    {
     "data": {
      "text/plain": [
       "62770"
      ]
     },
     "execution_count": 121,
     "metadata": {},
     "output_type": "execute_result"
    }
   ],
   "source": [
    "#count of calls with zero delay\n",
    "delay_df.filter(pl.col('hrs_delay') == 0).shape[0]"
   ]
  },
  {
   "cell_type": "markdown",
   "metadata": {},
   "source": [
    "64k of 145k port calls align show zero delay indicating those calls represent the only time that that vessel visited that dock. "
   ]
  },
  {
   "cell_type": "markdown",
   "metadata": {},
   "source": [
    "### Time Awaiting Berth\n",
    "\n",
    "We define time awaiting berth as the total time it takes a vessel to get to the dock minus the amount of time the dock was occupied while that vessel was en route. "
   ]
  },
  {
   "cell_type": "code",
   "execution_count": 122,
   "metadata": {},
   "outputs": [
    {
     "name": "stdout",
     "output_type": "stream",
     "text": [
      "skipping\n"
     ]
    }
   ],
   "source": [
    "%%script echo skipping\n",
    "#calculate time awaiting berth\n",
    "\n",
    "#for each call_id and dock, get the total time dock was occupied between time_port_entry and time_arrival\n",
    "\n",
    "#get time_port_entry, time_arrival for each call id\n",
    "lf = (calls_df.select('call_id', 'time_port_entry', 'time_arrival')\n",
    "      .unique().lazy())\n",
    "#join to main lf\n",
    "main_lf = main_lf.join(lf, on='call_id', how='left')\n",
    "\n",
    "for call in calls_df.select('call_id').unique().to_series():\n",
    "      #get start time and end time\n",
    "      start = (calls_df.filter(pl.col('call_id')==call)\n",
    "               .select('time_port_entry').item())\n",
    "      end = (calls_df.filter(pl.col('call_id')==call)\n",
    "               .select('time_arrival').item())\n",
    "      #get dock occupancy\n",
    "      df = (\n",
    "            main_lf\n",
    "            .with_columns(\n",
    "                  dock_occupied = (\n",
    "                        (pl.col('status')==5)\n",
    "                        .then(pl.col('status_duration'))\n",
    "                        .otherwise(pl.lit(None))\n",
    "                  )\n",
    "            )\n",
    "      )\n"
   ]
  },
  {
   "cell_type": "code",
   "execution_count": 123,
   "metadata": {},
   "outputs": [
    {
     "data": {
      "text/html": [
       "<div><style>\n",
       ".dataframe > thead > tr,\n",
       ".dataframe > tbody > tr {\n",
       "  text-align: right;\n",
       "  white-space: pre-wrap;\n",
       "}\n",
       "</style>\n",
       "<small>shape: (9, 16)</small><table border=\"1\" class=\"dataframe\"><thead><tr><th>statistic</th><th>port_name</th><th>dock_id</th><th>month</th><th>vessels</th><th>vessel_size_mean</th><th>calls</th><th>hrs_occupied</th><th>hrs_at_berth_median</th><th>hrs_at_berth_mean</th><th>hrs_at_anchor_median</th><th>hrs_at_anchor_mean</th><th>hrs_in_port_waters_total</th><th>hrs_in_port_waters_mean</th><th>hrs_in_port_waters_median</th><th>utilization</th></tr><tr><td>str</td><td>str</td><td>str</td><td>str</td><td>f64</td><td>f64</td><td>f64</td><td>f64</td><td>f64</td><td>f64</td><td>f64</td><td>f64</td><td>f64</td><td>f64</td><td>f64</td><td>f64</td></tr></thead><tbody><tr><td>&quot;count&quot;</td><td>&quot;34058&quot;</td><td>&quot;34058&quot;</td><td>&quot;34058&quot;</td><td>34058.0</td><td>34058.0</td><td>34058.0</td><td>34058.0</td><td>34058.0</td><td>34058.0</td><td>34058.0</td><td>34058.0</td><td>34058.0</td><td>34058.0</td><td>34058.0</td><td>34058.0</td></tr><tr><td>&quot;null_count&quot;</td><td>&quot;0&quot;</td><td>&quot;0&quot;</td><td>&quot;0&quot;</td><td>0.0</td><td>0.0</td><td>0.0</td><td>0.0</td><td>0.0</td><td>0.0</td><td>0.0</td><td>0.0</td><td>0.0</td><td>0.0</td><td>0.0</td><td>0.0</td></tr><tr><td>&quot;mean&quot;</td><td>null</td><td>null</td><td>null</td><td>3.726232</td><td>196.352468</td><td>4.231899</td><td>195.235346</td><td>57.711677</td><td>60.308419</td><td>9.426398</td><td>12.243099</td><td>298.03745</td><td>87.476779</td><td>82.498843</td><td>0.26762</td></tr><tr><td>&quot;std&quot;</td><td>null</td><td>null</td><td>null</td><td>3.869374</td><td>49.397631</td><td>4.657953</td><td>183.703496</td><td>59.203678</td><td>59.118048</td><td>33.670132</td><td>35.344189</td><td>328.894733</td><td>83.192082</td><td>82.518792</td><td>0.251695</td></tr><tr><td>&quot;min&quot;</td><td>&quot;Albany Port District, NY&quot;</td><td>&quot;00XE&quot;</td><td>&quot;201801&quot;</td><td>1.0</td><td>101.0</td><td>1.0</td><td>0.15</td><td>0.15</td><td>0.15</td><td>0.0</td><td>0.0</td><td>3.0</td><td>3.0</td><td>3.0</td><td>0.000202</td></tr><tr><td>&quot;25%&quot;</td><td>null</td><td>null</td><td>null</td><td>1.0</td><td>168.5</td><td>1.0</td><td>65.016667</td><td>22.766667</td><td>25.04</td><td>0.0</td><td>0.0</td><td>94.916667</td><td>37.275</td><td>34.016667</td><td>0.088978</td></tr><tr><td>&quot;50%&quot;</td><td>null</td><td>null</td><td>null</td><td>3.0</td><td>185.0</td><td>3.0</td><td>141.966667</td><td>40.233333</td><td>43.25</td><td>0.0</td><td>0.0</td><td>200.45</td><td>63.05</td><td>57.566667</td><td>0.194792</td></tr><tr><td>&quot;75%&quot;</td><td>null</td><td>null</td><td>null</td><td>5.0</td><td>212.333333</td><td>5.0</td><td>267.533333</td><td>71.55</td><td>75.21</td><td>0.0</td><td>5.044444</td><td>381.183333</td><td>107.936667</td><td>101.066667</td><td>0.366846</td></tr><tr><td>&quot;max&quot;</td><td>&quot;Wilmington, NC&quot;</td><td>&quot;1JHK&quot;</td><td>&quot;202409&quot;</td><td>49.0</td><td>379.6</td><td>72.0</td><td>2357.966667</td><td>873.883333</td><td>873.883333</td><td>516.566667</td><td>516.566667</td><td>6477.016667</td><td>1689.45</td><td>1689.45</td><td>3.16931</td></tr></tbody></table></div>"
      ],
      "text/plain": [
       "shape: (9, 16)\n",
       "┌────────────┬────────────┬─────────┬────────┬───┬────────────┬────────────┬───────────┬───────────┐\n",
       "│ statistic  ┆ port_name  ┆ dock_id ┆ month  ┆ … ┆ hrs_in_por ┆ hrs_in_por ┆ hrs_in_po ┆ utilizati │\n",
       "│ ---        ┆ ---        ┆ ---     ┆ ---    ┆   ┆ t_waters_t ┆ t_waters_m ┆ rt_waters ┆ on        │\n",
       "│ str        ┆ str        ┆ str     ┆ str    ┆   ┆ otal       ┆ ean        ┆ _median   ┆ ---       │\n",
       "│            ┆            ┆         ┆        ┆   ┆ ---        ┆ ---        ┆ ---       ┆ f64       │\n",
       "│            ┆            ┆         ┆        ┆   ┆ f64        ┆ f64        ┆ f64       ┆           │\n",
       "╞════════════╪════════════╪═════════╪════════╪═══╪════════════╪════════════╪═══════════╪═══════════╡\n",
       "│ count      ┆ 34058      ┆ 34058   ┆ 34058  ┆ … ┆ 34058.0    ┆ 34058.0    ┆ 34058.0   ┆ 34058.0   │\n",
       "│ null_count ┆ 0          ┆ 0       ┆ 0      ┆ … ┆ 0.0        ┆ 0.0        ┆ 0.0       ┆ 0.0       │\n",
       "│ mean       ┆ null       ┆ null    ┆ null   ┆ … ┆ 298.03745  ┆ 87.476779  ┆ 82.498843 ┆ 0.26762   │\n",
       "│ std        ┆ null       ┆ null    ┆ null   ┆ … ┆ 328.894733 ┆ 83.192082  ┆ 82.518792 ┆ 0.251695  │\n",
       "│ min        ┆ Albany     ┆ 00XE    ┆ 201801 ┆ … ┆ 3.0        ┆ 3.0        ┆ 3.0       ┆ 0.000202  │\n",
       "│            ┆ Port       ┆         ┆        ┆   ┆            ┆            ┆           ┆           │\n",
       "│            ┆ District,  ┆         ┆        ┆   ┆            ┆            ┆           ┆           │\n",
       "│            ┆ NY         ┆         ┆        ┆   ┆            ┆            ┆           ┆           │\n",
       "│ 25%        ┆ null       ┆ null    ┆ null   ┆ … ┆ 94.916667  ┆ 37.275     ┆ 34.016667 ┆ 0.088978  │\n",
       "│ 50%        ┆ null       ┆ null    ┆ null   ┆ … ┆ 200.45     ┆ 63.05      ┆ 57.566667 ┆ 0.194792  │\n",
       "│ 75%        ┆ null       ┆ null    ┆ null   ┆ … ┆ 381.183333 ┆ 107.936667 ┆ 101.06666 ┆ 0.366846  │\n",
       "│            ┆            ┆         ┆        ┆   ┆            ┆            ┆ 7         ┆           │\n",
       "│ max        ┆ Wilmington ┆ 1JHK    ┆ 202409 ┆ … ┆ 6477.01666 ┆ 1689.45    ┆ 1689.45   ┆ 3.16931   │\n",
       "│            ┆ , NC       ┆         ┆        ┆   ┆ 7          ┆            ┆           ┆           │\n",
       "└────────────┴────────────┴─────────┴────────┴───┴────────────┴────────────┴───────────┴───────────┘"
      ]
     },
     "metadata": {},
     "output_type": "display_data"
    },
    {
     "data": {
      "text/html": [
       "<div><style>\n",
       ".dataframe > thead > tr,\n",
       ".dataframe > tbody > tr {\n",
       "  text-align: right;\n",
       "  white-space: pre-wrap;\n",
       "}\n",
       "</style>\n",
       "<small>shape: (5, 15)</small><table border=\"1\" class=\"dataframe\"><thead><tr><th>port_name</th><th>dock_id</th><th>month</th><th>vessels</th><th>vessel_size_mean</th><th>calls</th><th>hrs_occupied</th><th>hrs_at_berth_median</th><th>hrs_at_berth_mean</th><th>hrs_at_anchor_median</th><th>hrs_at_anchor_mean</th><th>hrs_in_port_waters_total</th><th>hrs_in_port_waters_mean</th><th>hrs_in_port_waters_median</th><th>utilization</th></tr><tr><td>str</td><td>str</td><td>str</td><td>u32</td><td>f64</td><td>u32</td><td>f64</td><td>f64</td><td>f64</td><td>f64</td><td>f64</td><td>f64</td><td>f64</td><td>f64</td><td>f64</td></tr></thead><tbody><tr><td>&quot;Albany Port District, NY&quot;</td><td>&quot;0PST&quot;</td><td>&quot;201803&quot;</td><td>1</td><td>171.0</td><td>1</td><td>67.666667</td><td>67.666667</td><td>67.666667</td><td>0.0</td><td>0.0</td><td>73.283333</td><td>73.283333</td><td>73.283333</td><td>0.09095</td></tr><tr><td>&quot;Albany Port District, NY&quot;</td><td>&quot;0PST&quot;</td><td>&quot;201804&quot;</td><td>1</td><td>189.0</td><td>1</td><td>165.6</td><td>165.6</td><td>165.6</td><td>0.0</td><td>0.0</td><td>172.833333</td><td>172.833333</td><td>172.833333</td><td>0.23</td></tr><tr><td>&quot;Albany Port District, NY&quot;</td><td>&quot;0PST&quot;</td><td>&quot;201806&quot;</td><td>1</td><td>179.0</td><td>1</td><td>118.4</td><td>118.4</td><td>118.4</td><td>0.0</td><td>0.0</td><td>125.083333</td><td>125.083333</td><td>125.083333</td><td>0.164444</td></tr><tr><td>&quot;Albany Port District, NY&quot;</td><td>&quot;0PST&quot;</td><td>&quot;201807&quot;</td><td>2</td><td>199.0</td><td>2</td><td>166.416667</td><td>83.208333</td><td>83.208333</td><td>0.0</td><td>0.0</td><td>200.683333</td><td>100.341667</td><td>100.341667</td><td>0.223678</td></tr><tr><td>&quot;Albany Port District, NY&quot;</td><td>&quot;0PST&quot;</td><td>&quot;201808&quot;</td><td>3</td><td>192.666667</td><td>3</td><td>185.0</td><td>78.45</td><td>61.666667</td><td>0.0</td><td>0.0</td><td>350.9</td><td>116.966667</td><td>98.483333</td><td>0.248656</td></tr></tbody></table></div>"
      ],
      "text/plain": [
       "shape: (5, 15)\n",
       "┌─────────────┬─────────┬────────┬─────────┬───┬────────────┬────────────┬────────────┬────────────┐\n",
       "│ port_name   ┆ dock_id ┆ month  ┆ vessels ┆ … ┆ hrs_in_por ┆ hrs_in_por ┆ hrs_in_por ┆ utilizatio │\n",
       "│ ---         ┆ ---     ┆ ---    ┆ ---     ┆   ┆ t_waters_t ┆ t_waters_m ┆ t_waters_m ┆ n          │\n",
       "│ str         ┆ str     ┆ str    ┆ u32     ┆   ┆ otal       ┆ ean        ┆ edian      ┆ ---        │\n",
       "│             ┆         ┆        ┆         ┆   ┆ ---        ┆ ---        ┆ ---        ┆ f64        │\n",
       "│             ┆         ┆        ┆         ┆   ┆ f64        ┆ f64        ┆ f64        ┆            │\n",
       "╞═════════════╪═════════╪════════╪═════════╪═══╪════════════╪════════════╪════════════╪════════════╡\n",
       "│ Albany Port ┆ 0PST    ┆ 201803 ┆ 1       ┆ … ┆ 73.283333  ┆ 73.283333  ┆ 73.283333  ┆ 0.09095    │\n",
       "│ District,   ┆         ┆        ┆         ┆   ┆            ┆            ┆            ┆            │\n",
       "│ NY          ┆         ┆        ┆         ┆   ┆            ┆            ┆            ┆            │\n",
       "│ Albany Port ┆ 0PST    ┆ 201804 ┆ 1       ┆ … ┆ 172.833333 ┆ 172.833333 ┆ 172.833333 ┆ 0.23       │\n",
       "│ District,   ┆         ┆        ┆         ┆   ┆            ┆            ┆            ┆            │\n",
       "│ NY          ┆         ┆        ┆         ┆   ┆            ┆            ┆            ┆            │\n",
       "│ Albany Port ┆ 0PST    ┆ 201806 ┆ 1       ┆ … ┆ 125.083333 ┆ 125.083333 ┆ 125.083333 ┆ 0.164444   │\n",
       "│ District,   ┆         ┆        ┆         ┆   ┆            ┆            ┆            ┆            │\n",
       "│ NY          ┆         ┆        ┆         ┆   ┆            ┆            ┆            ┆            │\n",
       "│ Albany Port ┆ 0PST    ┆ 201807 ┆ 2       ┆ … ┆ 200.683333 ┆ 100.341667 ┆ 100.341667 ┆ 0.223678   │\n",
       "│ District,   ┆         ┆        ┆         ┆   ┆            ┆            ┆            ┆            │\n",
       "│ NY          ┆         ┆        ┆         ┆   ┆            ┆            ┆            ┆            │\n",
       "│ Albany Port ┆ 0PST    ┆ 201808 ┆ 3       ┆ … ┆ 350.9      ┆ 116.966667 ┆ 98.483333  ┆ 0.248656   │\n",
       "│ District,   ┆         ┆        ┆         ┆   ┆            ┆            ┆            ┆            │\n",
       "│ NY          ┆         ┆        ┆         ┆   ┆            ┆            ┆            ┆            │\n",
       "└─────────────┴─────────┴────────┴─────────┴───┴────────────┴────────────┴────────────┴────────────┘"
      ]
     },
     "execution_count": 123,
     "metadata": {},
     "output_type": "execute_result"
    }
   ],
   "source": [
    "#create monthly stats dataframe\n",
    "monththly_df = (\n",
    "    calls_df\n",
    "    #get month from docking time\n",
    "    .with_columns(\n",
    "        #extract month from docking time\n",
    "        month = pl.col('time_arrival').dt.strftime('%Y%m')\n",
    "    )\n",
    "    #group by port dock and month\n",
    "    .group_by(['port_name', 'dock_id', 'month'])\n",
    "    .agg(\n",
    "        #count number of vessels\n",
    "        vessels = pl.n_unique('mmsi'),\n",
    "        #mean vessel size\n",
    "        vessel_size_mean = pl.mean('vessel_size'),\n",
    "        #count number of vessel calls\n",
    "        calls = pl.n_unique('call_id'),\n",
    "        #time at dock stats for each vessel in hours\n",
    "        hrs_occupied = pl.sum('hrs_at_berth'),\n",
    "        hrs_at_berth_median = pl.median('hrs_at_berth'),\n",
    "        hrs_at_berth_mean = pl.mean('hrs_at_berth'),\n",
    "        #time at anchor stats for each vessel visit in hours\n",
    "        hrs_at_anchor_median = pl.median('hrs_at_anchor'),\n",
    "        hrs_at_anchor_mean = pl.mean('hrs_at_anchor'),\n",
    "        #time in port waters \n",
    "        hrs_in_port_waters_total = pl.sum('hrs_in_port_waters'),\n",
    "        hrs_in_port_waters_mean = pl.mean('hrs_in_port_waters'),\n",
    "        hrs_in_port_waters_median = pl.median('hrs_in_port_waters')\n",
    "    )\n",
    "    #get hours from each month\n",
    "    .with_columns(\n",
    "        hrs_in_month = (\n",
    "            pl.when(pl.col('month').str.tail(2).is_in(['01', '03', '05', '07',\n",
    "                                                       '08', '10', '12']))\n",
    "            .then(31*24)\n",
    "            .when(pl.col('month').str.tail(2).is_in(['04', '06', '09', '11']))\n",
    "            .then(30*24)\n",
    "            .otherwise(28*24)\n",
    "        )\n",
    "    )\n",
    "    .with_columns(\n",
    "        #dock utilization - percentage of time a dock is occupied\n",
    "        utilization = (\n",
    "            pl.col('hrs_occupied')/pl.col('hrs_in_month')\n",
    "        )\n",
    "    )\n",
    "    #drop hours in month\n",
    "    .drop('hrs_in_month')\n",
    "    #sort by port dock then month\n",
    "    .sort(['port_name', 'dock_id', 'month'])\n",
    ")\n",
    "\n",
    "#inspect\n",
    "display(monththly_df.describe())\n",
    "monththly_df.head()"
   ]
  },
  {
   "cell_type": "markdown",
   "metadata": {},
   "source": [
    "#### Hours calc discussion\n",
    "\n",
    "The current code first associates the call_id with the month in which the vessel arrived at dock, then counts total times for that call_id to that month. This results in some edge cases where hours stats far exceed the total hours in the month, as in the case that a vessel arrives at the dock and stays there for a very long period of time. \n",
    "\n",
    "This can be partially resolved by dropping statuses that are very long, which needs to be done anyway.\n",
    "- what's the right strategy? set status duration to (the median for that dock? zero? 12hr?) and give an unknown status afterwards? \n",
    "\n",
    "It would be fully resolved by totaling monthly hrs (at dock or hrs utilized, for example) independently of call_id.  "
   ]
  },
  {
   "cell_type": "code",
   "execution_count": 124,
   "metadata": {},
   "outputs": [
    {
     "data": {
      "text/html": [
       "<div><style>\n",
       ".dataframe > thead > tr,\n",
       ".dataframe > tbody > tr {\n",
       "  text-align: right;\n",
       "  white-space: pre-wrap;\n",
       "}\n",
       "</style>\n",
       "<small>shape: (5, 10)</small><table border=\"1\" class=\"dataframe\"><thead><tr><th>port_name</th><th>dock_id</th><th>year</th><th>vessels</th><th>vessel_size_mean</th><th>calls</th><th>hrs_at_berth_median</th><th>hrs_at_berth_mean</th><th>hrs_at_anchor_median</th><th>hrs_at_anchor_mean</th></tr><tr><td>str</td><td>str</td><td>i32</td><td>u32</td><td>f64</td><td>u32</td><td>f64</td><td>f64</td><td>f64</td><td>f64</td></tr></thead><tbody><tr><td>&quot;Albany Port District, NY&quot;</td><td>&quot;0Y78&quot;</td><td>2018</td><td>2</td><td>158.0</td><td>2</td><td>39.808333</td><td>39.808333</td><td>0.0</td><td>0.0</td></tr><tr><td>&quot;Albany Port District, NY&quot;</td><td>&quot;0Q86&quot;</td><td>2018</td><td>2</td><td>141.0</td><td>2</td><td>38.833333</td><td>38.833333</td><td>0.0</td><td>0.0</td></tr><tr><td>&quot;Albany Port District, NY&quot;</td><td>&quot;0Y0T&quot;</td><td>2018</td><td>3</td><td>131.25</td><td>4</td><td>63.25</td><td>67.55</td><td>0.0</td><td>0.0</td></tr><tr><td>&quot;Albany Port District, NY&quot;</td><td>&quot;0RQB&quot;</td><td>2018</td><td>4</td><td>140.0</td><td>4</td><td>27.591667</td><td>27.079167</td><td>0.0</td><td>0.0</td></tr><tr><td>&quot;Albany Port District, NY&quot;</td><td>&quot;0PST&quot;</td><td>2018</td><td>9</td><td>189.333333</td><td>9</td><td>78.45</td><td>85.548148</td><td>0.0</td><td>0.0</td></tr></tbody></table></div>"
      ],
      "text/plain": [
       "shape: (5, 10)\n",
       "┌─────────────┬─────────┬──────┬─────────┬───┬─────────────┬─────────────┬────────────┬────────────┐\n",
       "│ port_name   ┆ dock_id ┆ year ┆ vessels ┆ … ┆ hrs_at_bert ┆ hrs_at_bert ┆ hrs_at_anc ┆ hrs_at_anc │\n",
       "│ ---         ┆ ---     ┆ ---  ┆ ---     ┆   ┆ h_median    ┆ h_mean      ┆ hor_median ┆ hor_mean   │\n",
       "│ str         ┆ str     ┆ i32  ┆ u32     ┆   ┆ ---         ┆ ---         ┆ ---        ┆ ---        │\n",
       "│             ┆         ┆      ┆         ┆   ┆ f64         ┆ f64         ┆ f64        ┆ f64        │\n",
       "╞═════════════╪═════════╪══════╪═════════╪═══╪═════════════╪═════════════╪════════════╪════════════╡\n",
       "│ Albany Port ┆ 0Y78    ┆ 2018 ┆ 2       ┆ … ┆ 39.808333   ┆ 39.808333   ┆ 0.0        ┆ 0.0        │\n",
       "│ District,   ┆         ┆      ┆         ┆   ┆             ┆             ┆            ┆            │\n",
       "│ NY          ┆         ┆      ┆         ┆   ┆             ┆             ┆            ┆            │\n",
       "│ Albany Port ┆ 0Q86    ┆ 2018 ┆ 2       ┆ … ┆ 38.833333   ┆ 38.833333   ┆ 0.0        ┆ 0.0        │\n",
       "│ District,   ┆         ┆      ┆         ┆   ┆             ┆             ┆            ┆            │\n",
       "│ NY          ┆         ┆      ┆         ┆   ┆             ┆             ┆            ┆            │\n",
       "│ Albany Port ┆ 0Y0T    ┆ 2018 ┆ 3       ┆ … ┆ 63.25       ┆ 67.55       ┆ 0.0        ┆ 0.0        │\n",
       "│ District,   ┆         ┆      ┆         ┆   ┆             ┆             ┆            ┆            │\n",
       "│ NY          ┆         ┆      ┆         ┆   ┆             ┆             ┆            ┆            │\n",
       "│ Albany Port ┆ 0RQB    ┆ 2018 ┆ 4       ┆ … ┆ 27.591667   ┆ 27.079167   ┆ 0.0        ┆ 0.0        │\n",
       "│ District,   ┆         ┆      ┆         ┆   ┆             ┆             ┆            ┆            │\n",
       "│ NY          ┆         ┆      ┆         ┆   ┆             ┆             ┆            ┆            │\n",
       "│ Albany Port ┆ 0PST    ┆ 2018 ┆ 9       ┆ … ┆ 78.45       ┆ 85.548148   ┆ 0.0        ┆ 0.0        │\n",
       "│ District,   ┆         ┆      ┆         ┆   ┆             ┆             ┆            ┆            │\n",
       "│ NY          ┆         ┆      ┆         ┆   ┆             ┆             ┆            ┆            │\n",
       "└─────────────┴─────────┴──────┴─────────┴───┴─────────────┴─────────────┴────────────┴────────────┘"
      ]
     },
     "execution_count": 124,
     "metadata": {},
     "output_type": "execute_result"
    }
   ],
   "source": [
    "#create annual dock stats dataframe\n",
    "annual_docks_df = (\n",
    "    calls_df\n",
    "    #get year from docking time\n",
    "    .with_columns(\n",
    "        #extract year from docking time\n",
    "        year = pl.col('time_arrival').dt.year()\n",
    "    )\n",
    "    #group by port dock and month\n",
    "    .group_by(['port_name', 'dock_id', 'year'])\n",
    "    .agg(\n",
    "        #count number of vessels\n",
    "        vessels = pl.n_unique('mmsi'),\n",
    "        #mean vessel size\n",
    "        vessel_size_mean = pl.mean('vessel_size'),\n",
    "        #count number of vessel calls\n",
    "        calls = pl.n_unique('call_id'),\n",
    "        #time at dock stats for each vessel in hours\n",
    "        hrs_at_berth_median = pl.median('hrs_at_berth'),\n",
    "        hrs_at_berth_mean = pl.mean('hrs_at_berth'),\n",
    "        #time at anchor stats for each vessel visit in hours\n",
    "        hrs_at_anchor_median = pl.median('hrs_at_anchor'),\n",
    "        hrs_at_anchor_mean = pl.mean('hrs_at_anchor')\n",
    "    )\n",
    "    #sort by port then month\n",
    "    .sort(['port_name', 'year'])\n",
    ")\n",
    "\n",
    "#inspect\n",
    "annual_docks_df.head()"
   ]
  },
  {
   "cell_type": "code",
   "execution_count": 125,
   "metadata": {},
   "outputs": [
    {
     "data": {
      "text/html": [
       "<div><style>\n",
       ".dataframe > thead > tr,\n",
       ".dataframe > tbody > tr {\n",
       "  text-align: right;\n",
       "  white-space: pre-wrap;\n",
       "}\n",
       "</style>\n",
       "<small>shape: (5, 9)</small><table border=\"1\" class=\"dataframe\"><thead><tr><th>port_name</th><th>year</th><th>vessels</th><th>vessel_size_mean</th><th>calls</th><th>hrs_at_berth_median</th><th>hrs_at_berth_mean</th><th>hrs_at_anchor_median</th><th>hrs_at_anchor_mean</th></tr><tr><td>str</td><td>i32</td><td>u32</td><td>f64</td><td>u32</td><td>f64</td><td>f64</td><td>f64</td><td>f64</td></tr></thead><tbody><tr><td>&quot;Albany Port District, NY&quot;</td><td>2018</td><td>56</td><td>153.758065</td><td>62</td><td>66.091667</td><td>68.102419</td><td>0.0</td><td>0.008871</td></tr><tr><td>&quot;Albany Port District, NY&quot;</td><td>2019</td><td>29</td><td>156.15625</td><td>32</td><td>68.65</td><td>74.980208</td><td>0.0</td><td>0.01875</td></tr><tr><td>&quot;Albany Port District, NY&quot;</td><td>2020</td><td>32</td><td>147.314286</td><td>35</td><td>67.55</td><td>78.772857</td><td>0.0</td><td>0.0</td></tr><tr><td>&quot;Albany Port District, NY&quot;</td><td>2021</td><td>44</td><td>156.869565</td><td>46</td><td>63.183333</td><td>74.366304</td><td>0.0</td><td>0.0</td></tr><tr><td>&quot;Albany Port District, NY&quot;</td><td>2022</td><td>54</td><td>159.689655</td><td>58</td><td>71.666667</td><td>82.093391</td><td>0.0</td><td>1.559483</td></tr></tbody></table></div>"
      ],
      "text/plain": [
       "shape: (5, 9)\n",
       "┌────────────┬──────┬─────────┬────────────┬───┬────────────┬────────────┬────────────┬────────────┐\n",
       "│ port_name  ┆ year ┆ vessels ┆ vessel_siz ┆ … ┆ hrs_at_ber ┆ hrs_at_ber ┆ hrs_at_anc ┆ hrs_at_anc │\n",
       "│ ---        ┆ ---  ┆ ---     ┆ e_mean     ┆   ┆ th_median  ┆ th_mean    ┆ hor_median ┆ hor_mean   │\n",
       "│ str        ┆ i32  ┆ u32     ┆ ---        ┆   ┆ ---        ┆ ---        ┆ ---        ┆ ---        │\n",
       "│            ┆      ┆         ┆ f64        ┆   ┆ f64        ┆ f64        ┆ f64        ┆ f64        │\n",
       "╞════════════╪══════╪═════════╪════════════╪═══╪════════════╪════════════╪════════════╪════════════╡\n",
       "│ Albany     ┆ 2018 ┆ 56      ┆ 153.758065 ┆ … ┆ 66.091667  ┆ 68.102419  ┆ 0.0        ┆ 0.008871   │\n",
       "│ Port       ┆      ┆         ┆            ┆   ┆            ┆            ┆            ┆            │\n",
       "│ District,  ┆      ┆         ┆            ┆   ┆            ┆            ┆            ┆            │\n",
       "│ NY         ┆      ┆         ┆            ┆   ┆            ┆            ┆            ┆            │\n",
       "│ Albany     ┆ 2019 ┆ 29      ┆ 156.15625  ┆ … ┆ 68.65      ┆ 74.980208  ┆ 0.0        ┆ 0.01875    │\n",
       "│ Port       ┆      ┆         ┆            ┆   ┆            ┆            ┆            ┆            │\n",
       "│ District,  ┆      ┆         ┆            ┆   ┆            ┆            ┆            ┆            │\n",
       "│ NY         ┆      ┆         ┆            ┆   ┆            ┆            ┆            ┆            │\n",
       "│ Albany     ┆ 2020 ┆ 32      ┆ 147.314286 ┆ … ┆ 67.55      ┆ 78.772857  ┆ 0.0        ┆ 0.0        │\n",
       "│ Port       ┆      ┆         ┆            ┆   ┆            ┆            ┆            ┆            │\n",
       "│ District,  ┆      ┆         ┆            ┆   ┆            ┆            ┆            ┆            │\n",
       "│ NY         ┆      ┆         ┆            ┆   ┆            ┆            ┆            ┆            │\n",
       "│ Albany     ┆ 2021 ┆ 44      ┆ 156.869565 ┆ … ┆ 63.183333  ┆ 74.366304  ┆ 0.0        ┆ 0.0        │\n",
       "│ Port       ┆      ┆         ┆            ┆   ┆            ┆            ┆            ┆            │\n",
       "│ District,  ┆      ┆         ┆            ┆   ┆            ┆            ┆            ┆            │\n",
       "│ NY         ┆      ┆         ┆            ┆   ┆            ┆            ┆            ┆            │\n",
       "│ Albany     ┆ 2022 ┆ 54      ┆ 159.689655 ┆ … ┆ 71.666667  ┆ 82.093391  ┆ 0.0        ┆ 1.559483   │\n",
       "│ Port       ┆      ┆         ┆            ┆   ┆            ┆            ┆            ┆            │\n",
       "│ District,  ┆      ┆         ┆            ┆   ┆            ┆            ┆            ┆            │\n",
       "│ NY         ┆      ┆         ┆            ┆   ┆            ┆            ┆            ┆            │\n",
       "└────────────┴──────┴─────────┴────────────┴───┴────────────┴────────────┴────────────┴────────────┘"
      ]
     },
     "execution_count": 125,
     "metadata": {},
     "output_type": "execute_result"
    }
   ],
   "source": [
    "#create annual port stats dataframe\n",
    "annual_ports_df = (\n",
    "    calls_df\n",
    "    #get year from docking time\n",
    "    .with_columns(\n",
    "        #extract year from docking time\n",
    "        year = pl.col('time_arrival').dt.year()\n",
    "    )\n",
    "    #group by port dock and month\n",
    "    .group_by(['port_name', 'year'])\n",
    "    .agg(\n",
    "        #count number of vessels\n",
    "        vessels = pl.n_unique('mmsi'),\n",
    "        #mean vessel size\n",
    "        vessel_size_mean = pl.mean('vessel_size'),\n",
    "        #count number of vessel calls\n",
    "        calls = pl.n_unique('call_id'),\n",
    "        #time at dock stats for each vessel in hours\n",
    "        hrs_at_berth_median = pl.median('hrs_at_berth'),\n",
    "        hrs_at_berth_mean = pl.mean('hrs_at_berth'),\n",
    "        #time at anchor stats for each vessel visit in hours\n",
    "        hrs_at_anchor_median = pl.median('hrs_at_anchor'),\n",
    "        hrs_at_anchor_mean = pl.mean('hrs_at_anchor')\n",
    "    )\n",
    "    #sort by port then month\n",
    "    .sort(['port_name', 'year'])\n",
    ")\n",
    "\n",
    "#inspect\n",
    "annual_ports_df.head()"
   ]
  },
  {
   "cell_type": "code",
   "execution_count": 126,
   "metadata": {},
   "outputs": [
    {
     "data": {
      "text/html": [
       "<div><style>\n",
       ".dataframe > thead > tr,\n",
       ".dataframe > tbody > tr {\n",
       "  text-align: right;\n",
       "  white-space: pre-wrap;\n",
       "}\n",
       "</style>\n",
       "<small>shape: (9, 9)</small><table border=\"1\" class=\"dataframe\"><thead><tr><th>statistic</th><th>port_name</th><th>vessels</th><th>vessel_size_mean</th><th>calls</th><th>hrs_at_berth_median</th><th>hrs_at_berth_mean</th><th>hrs_at_anchor_median</th><th>hrs_at_anchor_mean</th></tr><tr><td>str</td><td>str</td><td>f64</td><td>f64</td><td>f64</td><td>f64</td><td>f64</td><td>f64</td><td>f64</td></tr></thead><tbody><tr><td>&quot;count&quot;</td><td>&quot;70&quot;</td><td>70.0</td><td>70.0</td><td>70.0</td><td>70.0</td><td>70.0</td><td>70.0</td><td>70.0</td></tr><tr><td>&quot;null_count&quot;</td><td>&quot;0&quot;</td><td>0.0</td><td>0.0</td><td>0.0</td><td>0.0</td><td>0.0</td><td>0.0</td><td>0.0</td></tr><tr><td>&quot;mean&quot;</td><td>null</td><td>687.042857</td><td>196.56326</td><td>2059.0</td><td>43.327262</td><td>57.852461</td><td>0.9625</td><td>10.290437</td></tr><tr><td>&quot;std&quot;</td><td>null</td><td>695.715947</td><td>36.591207</td><td>2236.442581</td><td>43.115369</td><td>53.114338</td><td>3.168368</td><td>12.320886</td></tr><tr><td>&quot;min&quot;</td><td>&quot;Albany Port District, NY&quot;</td><td>3.0</td><td>116.550459</td><td>3.0</td><td>8.141667</td><td>10.490179</td><td>0.0</td><td>0.0</td></tr><tr><td>&quot;25%&quot;</td><td>null</td><td>129.0</td><td>172.580707</td><td>384.0</td><td>22.316667</td><td>32.077986</td><td>0.0</td><td>1.260494</td></tr><tr><td>&quot;50%&quot;</td><td>null</td><td>518.0</td><td>189.856935</td><td>1277.0</td><td>33.7</td><td>47.307092</td><td>0.0</td><td>5.364461</td></tr><tr><td>&quot;75%&quot;</td><td>null</td><td>971.0</td><td>215.851181</td><td>3117.0</td><td>48.091667</td><td>62.525686</td><td>0.0</td><td>15.424482</td></tr><tr><td>&quot;max&quot;</td><td>&quot;Wilmington, NC&quot;</td><td>2663.0</td><td>296.610925</td><td>10316.0</td><td>293.441667</td><td>357.611111</td><td>18.783333</td><td>52.985893</td></tr></tbody></table></div>"
      ],
      "text/plain": [
       "shape: (9, 9)\n",
       "┌───────────┬───────────┬───────────┬───────────┬───┬───────────┬───────────┬───────────┬──────────┐\n",
       "│ statistic ┆ port_name ┆ vessels   ┆ vessel_si ┆ … ┆ hrs_at_be ┆ hrs_at_be ┆ hrs_at_an ┆ hrs_at_a │\n",
       "│ ---       ┆ ---       ┆ ---       ┆ ze_mean   ┆   ┆ rth_media ┆ rth_mean  ┆ chor_medi ┆ nchor_me │\n",
       "│ str       ┆ str       ┆ f64       ┆ ---       ┆   ┆ n         ┆ ---       ┆ an        ┆ an       │\n",
       "│           ┆           ┆           ┆ f64       ┆   ┆ ---       ┆ f64       ┆ ---       ┆ ---      │\n",
       "│           ┆           ┆           ┆           ┆   ┆ f64       ┆           ┆ f64       ┆ f64      │\n",
       "╞═══════════╪═══════════╪═══════════╪═══════════╪═══╪═══════════╪═══════════╪═══════════╪══════════╡\n",
       "│ count     ┆ 70        ┆ 70.0      ┆ 70.0      ┆ … ┆ 70.0      ┆ 70.0      ┆ 70.0      ┆ 70.0     │\n",
       "│ null_coun ┆ 0         ┆ 0.0       ┆ 0.0       ┆ … ┆ 0.0       ┆ 0.0       ┆ 0.0       ┆ 0.0      │\n",
       "│ t         ┆           ┆           ┆           ┆   ┆           ┆           ┆           ┆          │\n",
       "│ mean      ┆ null      ┆ 687.04285 ┆ 196.56326 ┆ … ┆ 43.327262 ┆ 57.852461 ┆ 0.9625    ┆ 10.29043 │\n",
       "│           ┆           ┆ 7         ┆           ┆   ┆           ┆           ┆           ┆ 7        │\n",
       "│ std       ┆ null      ┆ 695.71594 ┆ 36.591207 ┆ … ┆ 43.115369 ┆ 53.114338 ┆ 3.168368  ┆ 12.32088 │\n",
       "│           ┆           ┆ 7         ┆           ┆   ┆           ┆           ┆           ┆ 6        │\n",
       "│ min       ┆ Albany    ┆ 3.0       ┆ 116.55045 ┆ … ┆ 8.141667  ┆ 10.490179 ┆ 0.0       ┆ 0.0      │\n",
       "│           ┆ Port      ┆           ┆ 9         ┆   ┆           ┆           ┆           ┆          │\n",
       "│           ┆ District, ┆           ┆           ┆   ┆           ┆           ┆           ┆          │\n",
       "│           ┆ NY        ┆           ┆           ┆   ┆           ┆           ┆           ┆          │\n",
       "│ 25%       ┆ null      ┆ 129.0     ┆ 172.58070 ┆ … ┆ 22.316667 ┆ 32.077986 ┆ 0.0       ┆ 1.260494 │\n",
       "│           ┆           ┆           ┆ 7         ┆   ┆           ┆           ┆           ┆          │\n",
       "│ 50%       ┆ null      ┆ 518.0     ┆ 189.85693 ┆ … ┆ 33.7      ┆ 47.307092 ┆ 0.0       ┆ 5.364461 │\n",
       "│           ┆           ┆           ┆ 5         ┆   ┆           ┆           ┆           ┆          │\n",
       "│ 75%       ┆ null      ┆ 971.0     ┆ 215.85118 ┆ … ┆ 48.091667 ┆ 62.525686 ┆ 0.0       ┆ 15.42448 │\n",
       "│           ┆           ┆           ┆ 1         ┆   ┆           ┆           ┆           ┆ 2        │\n",
       "│ max       ┆ Wilmingto ┆ 2663.0    ┆ 296.61092 ┆ … ┆ 293.44166 ┆ 357.61111 ┆ 18.783333 ┆ 52.98589 │\n",
       "│           ┆ n, NC     ┆           ┆ 5         ┆   ┆ 7         ┆ 1         ┆           ┆ 3        │\n",
       "└───────────┴───────────┴───────────┴───────────┴───┴───────────┴───────────┴───────────┴──────────┘"
      ]
     },
     "metadata": {},
     "output_type": "display_data"
    },
    {
     "data": {
      "text/html": [
       "<div><style>\n",
       ".dataframe > thead > tr,\n",
       ".dataframe > tbody > tr {\n",
       "  text-align: right;\n",
       "  white-space: pre-wrap;\n",
       "}\n",
       "</style>\n",
       "<small>shape: (5, 8)</small><table border=\"1\" class=\"dataframe\"><thead><tr><th>port_name</th><th>vessels</th><th>vessel_size_mean</th><th>calls</th><th>hrs_at_berth_median</th><th>hrs_at_berth_mean</th><th>hrs_at_anchor_median</th><th>hrs_at_anchor_mean</th></tr><tr><td>str</td><td>u32</td><td>f64</td><td>u32</td><td>f64</td><td>f64</td><td>f64</td><td>f64</td></tr></thead><tbody><tr><td>&quot;Albany Port District, NY&quot;</td><td>248</td><td>157.056657</td><td>353</td><td>64.083333</td><td>75.395751</td><td>0.0</td><td>0.261473</td></tr><tr><td>&quot;Anacortes, WA&quot;</td><td>249</td><td>219.277778</td><td>1062</td><td>36.95</td><td>48.917875</td><td>0.0</td><td>31.772316</td></tr><tr><td>&quot;Baltimore, MD&quot;</td><td>2509</td><td>214.193535</td><td>7394</td><td>33.25</td><td>45.41407</td><td>0.0</td><td>15.424482</td></tr><tr><td>&quot;Beaumont, TX&quot;</td><td>971</td><td>183.041391</td><td>1812</td><td>53.708333</td><td>64.827281</td><td>0.0</td><td>4.176702</td></tr><tr><td>&quot;Boston, MA&quot;</td><td>293</td><td>296.610925</td><td>897</td><td>17.65</td><td>24.456652</td><td>0.0</td><td>2.436009</td></tr></tbody></table></div>"
      ],
      "text/plain": [
       "shape: (5, 8)\n",
       "┌─────────────┬─────────┬─────────────┬───────┬─────────────┬────────────┬────────────┬────────────┐\n",
       "│ port_name   ┆ vessels ┆ vessel_size ┆ calls ┆ hrs_at_bert ┆ hrs_at_ber ┆ hrs_at_anc ┆ hrs_at_anc │\n",
       "│ ---         ┆ ---     ┆ _mean       ┆ ---   ┆ h_median    ┆ th_mean    ┆ hor_median ┆ hor_mean   │\n",
       "│ str         ┆ u32     ┆ ---         ┆ u32   ┆ ---         ┆ ---        ┆ ---        ┆ ---        │\n",
       "│             ┆         ┆ f64         ┆       ┆ f64         ┆ f64        ┆ f64        ┆ f64        │\n",
       "╞═════════════╪═════════╪═════════════╪═══════╪═════════════╪════════════╪════════════╪════════════╡\n",
       "│ Albany Port ┆ 248     ┆ 157.056657  ┆ 353   ┆ 64.083333   ┆ 75.395751  ┆ 0.0        ┆ 0.261473   │\n",
       "│ District,   ┆         ┆             ┆       ┆             ┆            ┆            ┆            │\n",
       "│ NY          ┆         ┆             ┆       ┆             ┆            ┆            ┆            │\n",
       "│ Anacortes,  ┆ 249     ┆ 219.277778  ┆ 1062  ┆ 36.95       ┆ 48.917875  ┆ 0.0        ┆ 31.772316  │\n",
       "│ WA          ┆         ┆             ┆       ┆             ┆            ┆            ┆            │\n",
       "│ Baltimore,  ┆ 2509    ┆ 214.193535  ┆ 7394  ┆ 33.25       ┆ 45.41407   ┆ 0.0        ┆ 15.424482  │\n",
       "│ MD          ┆         ┆             ┆       ┆             ┆            ┆            ┆            │\n",
       "│ Beaumont,   ┆ 971     ┆ 183.041391  ┆ 1812  ┆ 53.708333   ┆ 64.827281  ┆ 0.0        ┆ 4.176702   │\n",
       "│ TX          ┆         ┆             ┆       ┆             ┆            ┆            ┆            │\n",
       "│ Boston, MA  ┆ 293     ┆ 296.610925  ┆ 897   ┆ 17.65       ┆ 24.456652  ┆ 0.0        ┆ 2.436009   │\n",
       "└─────────────┴─────────┴─────────────┴───────┴─────────────┴────────────┴────────────┴────────────┘"
      ]
     },
     "execution_count": 126,
     "metadata": {},
     "output_type": "execute_result"
    }
   ],
   "source": [
    "ports_alltime_df = (\n",
    "    calls_df\n",
    "    #group by port \n",
    "    .group_by('port_name')\n",
    "    .agg(\n",
    "        #count number of vessels\n",
    "        vessels = pl.n_unique('mmsi'),\n",
    "        #mean vessel size\n",
    "        vessel_size_mean = pl.mean('vessel_size'),\n",
    "        #count number of vessel calls\n",
    "        calls = pl.n_unique('call_id'),\n",
    "        #time at dock stats for each vessel in hours\n",
    "        hrs_at_berth_median = pl.median('hrs_at_berth'),\n",
    "        hrs_at_berth_mean = pl.mean('hrs_at_berth'),\n",
    "        #time at anchor stats for each vessel visit in hours\n",
    "        hrs_at_anchor_median = pl.median('hrs_at_anchor'),\n",
    "        hrs_at_anchor_mean = pl.mean('hrs_at_anchor')\n",
    "    )\n",
    "    #sort by port\n",
    "    .sort('port_name')\n",
    ")\n",
    "#inspect\n",
    "display(ports_alltime_df.describe())\n",
    "ports_alltime_df.head()"
   ]
  },
  {
   "cell_type": "markdown",
   "metadata": {},
   "source": [
    "## Visualizations"
   ]
  },
  {
   "cell_type": "code",
   "execution_count": 127,
   "metadata": {},
   "outputs": [
    {
     "name": "stdout",
     "output_type": "stream",
     "text": [
      "<class 'geopandas.geodataframe.GeoDataFrame'>\n",
      "RangeIndex: 70 entries, 0 to 69\n",
      "Data columns (total 11 columns):\n",
      " #   Column                Non-Null Count  Dtype   \n",
      "---  ------                --------------  -----   \n",
      " 0   port_name             70 non-null     object  \n",
      " 1   vessels               70 non-null     uint32  \n",
      " 2   vessel_size_mean      70 non-null     float64 \n",
      " 3   calls                 70 non-null     uint32  \n",
      " 4   hrs_at_berth_median   70 non-null     float64 \n",
      " 5   hrs_at_berth_mean     70 non-null     float64 \n",
      " 6   hrs_at_anchor_median  70 non-null     float64 \n",
      " 7   hrs_at_anchor_mean    70 non-null     float64 \n",
      " 8   port_lat              70 non-null     float64 \n",
      " 9   port_lon              70 non-null     float64 \n",
      " 10  geometry              70 non-null     geometry\n",
      "dtypes: float64(7), geometry(1), object(1), uint32(2)\n",
      "memory usage: 5.6+ KB\n"
     ]
    }
   ],
   "source": [
    "#make geodataframe\n",
    "#get port location data\n",
    "df = main_lf.select('port_name', 'port_lat', 'port_lon').unique().collect()\n",
    "#convert to geopandas\n",
    "gdf = gpd.GeoDataFrame(\n",
    "    ports_alltime_df\n",
    "    #join to port location data\n",
    "    .join(df, on='port_name', how='left')\n",
    "    #convert to pandas dataframe\n",
    "    .to_pandas(),\n",
    "    #set geometry\n",
    "    geometry = gpd.points_from_xy(df['port_lon'], df['port_lat'], crs=4326)\n",
    ")\n",
    "gdf.info()"
   ]
  },
  {
   "cell_type": "code",
   "execution_count": 128,
   "metadata": {},
   "outputs": [
    {
     "data": {
      "application/vnd.plotly.v1+json": {
       "config": {
        "plotlyServerURL": "https://plot.ly"
       },
       "data": [
        {
         "geo": "geo",
         "hovertemplate": "<b>%{hovertext}</b><br><br>vessels=%{marker.size}<br>port_lat=%{lat}<br>port_lon=%{lon}<br>hrs_at_berth_median=%{marker.color}<extra></extra>",
         "hovertext": [
          "Albany Port District, NY",
          "Anacortes, WA",
          "Baltimore, MD",
          "Beaumont, TX",
          "Boston, MA",
          "Bridgeport, CT",
          "Brownsville, TX",
          "Calhoun Port Authority, TX",
          "Canaveral Port District, FL",
          "Coos Bay OR, Port of",
          "Corpus Christi, TX",
          "Galveston, TX",
          "Greater Lafourche Port, LA",
          "Guayama, PR",
          "Guaynabo, PR",
          "Honolulu, O'ahu, HI",
          "Houston Port Authority, TX",
          "Jacksonville, FL",
          "Kahului, Maui, HI",
          "Kalaeloa Barbers Point, HI",
          "Lake Charles Harbor District, LA",
          "Manatee County Port, FL",
          "Mobile, AL",
          "Morehead City, NC",
          "Nawiliwili, Kaua'i, HI",
          "New Haven, CT",
          "New Orleans, LA",
          "New York, NY & NJ",
          "Orange County Nav District, TX",
          "Oxnard Harbor District, CA",
          "Panama City Port Authority, FL",
          "Philadelphia Regional Port, PA",
          "Port Arthur, TX",
          "Port Everglades, FL",
          "Port Freeport, TX",
          "Port of Alaska, AK",
          "Port of Brunswick, GA",
          "Port of Charleston, SC",
          "Port of Everett, WA",
          "Port of Greater Baton Rouge, LA",
          "Port of Gulfport, MS",
          "Port of Kalama, WA",
          "Port of Long Beach, CA",
          "Port of Los Angeles, CA",
          "Port of Oakland, CA",
          "Port of Palm Beach District, FL",
          "Port of Pascagoula, MS",
          "Port of Providence, RI",
          "Port of Savannah, GA",
          "Port of Vancouver USA, WA",
          "PortMiami, FL",
          "Portland, ME",
          "Portsmouth, NH",
          "Redwood City, CA",
          "Richmond, CA",
          "Sacramento-Yolo Port, CA",
          "San Diego Unified Port, CA",
          "San Juan, PR",
          "Searsport, ME",
          "Seattle, WA",
          "South Jersey Port Corp, NJ",
          "South Louisiana, LA, Port of",
          "Stockton, CA",
          "Tacoma, WA",
          "Texas City, TX",
          "Unalaska Island, AK",
          "Valdez, AK",
          "Virginia, VA, Port of",
          "Wilmington, DE",
          "Wilmington, NC"
         ],
         "lat": [
          42.64271000000003,
          48.49594299999999,
          39.25082699999997,
          30.084871999999983,
          42.34246800000003,
          41.172,
          25.952201000000002,
          28.62938900000002,
          28.414089999999984,
          43.36350999999997,
          27.812769999999972,
          29.31048999999998,
          29.121944999999982,
          17.938939000000016,
          18.43022100000003,
          21.311110000000035,
          29.74702299999999,
          30.32275700000004,
          20.898610000000005,
          21.323066000000015,
          30.106406000000028,
          27.633680999999985,
          30.69123000000003,
          34.71692999999996,
          21.95248399999999,
          41.29883000000003,
          29.914139999999975,
          40.67394899999999,
          30.095369999999946,
          34.14824399999996,
          30.133998000000016,
          39.91882,
          29.83141999999998,
          26.09339200000001,
          28.96133000000003,
          61.23778000000001,
          31.132425999999985,
          32.78878099999997,
          47.98476000000001,
          30.422920000000016,
          30.35962100000001,
          46.02659599999997,
          33.73957000000002,
          33.726635000000016,
          37.82152,
          26.76903999999999,
          30.34801999999999,
          41.81177999999999,
          32.08471099999998,
          45.622440000000005,
          25.78286200000004,
          43.64950999999999,
          43.073979999999985,
          37.50535999999999,
          37.92423699999999,
          38.56132299999998,
          32.708209999999994,
          18.432782999999972,
          44.45285,
          47.58771099999997,
          39.846444999999974,
          30.033449999999988,
          37.95270000000001,
          47.28966000000003,
          29.36306800000003,
          53.89418500000001,
          61.124730000000014,
          36.86641999999996,
          39.715889999999966,
          34.22736499999998
         ],
         "legendgroup": "",
         "lon": [
          -73.74816000000003,
          -122.59960999999971,
          -76.56163999999995,
          -94.09498499999985,
          -71.032029,
          -73.17886000000004,
          -97.3981380000001,
          -96.59232400000002,
          -80.60814999999997,
          -124.20949999999986,
          -97.39789000000025,
          -94.81269999999991,
          -90.20527900000023,
          -66.15600200000002,
          -66.11114099999999,
          -157.87169999999958,
          -95.29367900000028,
          -81.66512500000005,
          -156.4727999999997,
          -158.1136830000002,
          -93.28683900000004,
          -82.56414299999996,
          -88.03583399999998,
          -76.72421000000001,
          -159.35231900000005,
          -72.90473000000003,
          -90.08525600000007,
          -74.03835699999998,
          -93.7235599999998,
          -119.20847500000015,
          -85.63376199999999,
          -75.20219099999998,
          -93.9606899999997,
          -80.11780099999996,
          -95.3707000000004,
          -149.8949999999996,
          -81.53666000000001,
          -79.92159500000001,
          -122.22940000000042,
          -91.19933999999976,
          -89.092568,
          -122.86685999999972,
          -118.20950000000023,
          -118.26809900000029,
          -122.30810000000015,
          -80.05267000000002,
          -88.55879000000003,
          -71.39844000000004,
          -81.09538199999996,
          -122.68060000000018,
          -80.18164200000001,
          -70.25133999999998,
          -70.73805999999996,
          -122.21401199999977,
          -122.37423299999986,
          -121.54154100000014,
          -117.17839999999974,
          -66.09667800000001,
          -68.92497000000002,
          -122.35921800000041,
          -75.261085,
          -90.61793999999985,
          -121.31560000000034,
          -122.45149999999964,
          -94.91809099999998,
          -166.5499160000001,
          -146.3463999999997,
          -76.31174000000001,
          -75.50696999999997,
          -77.95049600000002
         ],
         "marker": {
          "color": [
           64.08333333333333,
           36.95,
           33.25,
           53.70833333333333,
           17.65,
           13.8,
           50.733333333333334,
           26.68333333333333,
           35.125,
           113.46666666666667,
           44.975,
           26.741666666666667,
           48.09166666666667,
           22.316666666666666,
           47.483333333333334,
           32.3,
           66.97500000000001,
           229.47500000000002,
           8.141666666666666,
           47.108333333333334,
           71.8,
           32.71666666666667,
           36.233333333333334,
           61.46666666666667,
           10.316666666666666,
           32.516666666666666,
           26.733333333333334,
           30.449999999999996,
           293.44166666666666,
           20.333333333333332,
           50.55,
           29.825,
           42.30833333333333,
           17.558333333333334,
           22.03333333333333,
           15.283333333333333,
           15.933333333333334,
           15.133333333333333,
           31.375,
           50.833333333333336,
           12.35,
           50.28333333333333,
           40.31666666666666,
           61.083333333333336,
           26.21666666666667,
           22.083333333333332,
           85.08333333333333,
           36.15833333333333,
           25.691666666666666,
           52.31666666666666,
           16.65,
           28.3,
           23.6,
           24.483333333333334,
           40.25,
           100.58333333333333,
           47.083333333333336,
           12.866666666666667,
           26.8,
           30.199999999999996,
           33.916666666666664,
           39.733333333333334,
           66.33333333333333,
           35.891666666666666,
           33.7,
           15.45,
           38.75,
           21.883333333333333,
           44.166666666666664,
           14.783333333333333
          ],
          "coloraxis": "coloraxis",
          "size": [
           248,
           249,
           2509,
           971,
           293,
           6,
           844,
           494,
           731,
           18,
           1688,
           1791,
           65,
           13,
           632,
           329,
           2145,
           7,
           21,
           170,
           87,
           515,
           2427,
           413,
           20,
           672,
           1902,
           571,
           6,
           475,
           68,
           24,
           2034,
           1442,
           731,
           69,
           753,
           560,
           181,
           787,
           130,
           639,
           2663,
           1678,
           778,
           202,
           72,
           507,
           1691,
           1088,
           508,
           195,
           79,
           129,
           1008,
           245,
           181,
           589,
           113,
           642,
           585,
           1706,
           777,
           540,
           1707,
           50,
           3,
           1134,
           518,
           975
          ],
          "sizemode": "area",
          "sizeref": 2.9588888888888887,
          "symbol": "circle"
         },
         "mode": "markers",
         "name": "",
         "showlegend": false,
         "type": "scattergeo"
        }
       ],
       "layout": {
        "annotations": [
         {
          "align": "left",
          "font": {
           "color": "black",
           "size": 14
          },
          "showarrow": false,
          "text": "Note: Circle size corresponds to averages vessels per month",
          "x": 0,
          "xref": "paper",
          "y": -0.05,
          "yref": "paper"
         }
        ],
        "coloraxis": {
         "cmax": 50,
         "cmin": 0,
         "colorbar": {
          "title": {
           "text": "hrs_at_berth_median"
          }
         },
         "colorscale": [
          [
           0,
           "#440154"
          ],
          [
           0.1111111111111111,
           "#482878"
          ],
          [
           0.2222222222222222,
           "#3e4989"
          ],
          [
           0.3333333333333333,
           "#31688e"
          ],
          [
           0.4444444444444444,
           "#26828e"
          ],
          [
           0.5555555555555556,
           "#1f9e89"
          ],
          [
           0.6666666666666666,
           "#35b779"
          ],
          [
           0.7777777777777778,
           "#6ece58"
          ],
          [
           0.8888888888888888,
           "#b5de2b"
          ],
          [
           1,
           "#fde725"
          ]
         ]
        },
        "geo": {
         "center": {},
         "domain": {
          "x": [
           0,
           1
          ],
          "y": [
           0,
           1
          ]
         },
         "fitbounds": "locations"
        },
        "height": 600,
        "legend": {
         "itemsizing": "constant",
         "tracegroupgap": 0
        },
        "template": {
         "data": {
          "bar": [
           {
            "error_x": {
             "color": "#2a3f5f"
            },
            "error_y": {
             "color": "#2a3f5f"
            },
            "marker": {
             "line": {
              "color": "#E5ECF6",
              "width": 0.5
             },
             "pattern": {
              "fillmode": "overlay",
              "size": 10,
              "solidity": 0.2
             }
            },
            "type": "bar"
           }
          ],
          "barpolar": [
           {
            "marker": {
             "line": {
              "color": "#E5ECF6",
              "width": 0.5
             },
             "pattern": {
              "fillmode": "overlay",
              "size": 10,
              "solidity": 0.2
             }
            },
            "type": "barpolar"
           }
          ],
          "carpet": [
           {
            "aaxis": {
             "endlinecolor": "#2a3f5f",
             "gridcolor": "white",
             "linecolor": "white",
             "minorgridcolor": "white",
             "startlinecolor": "#2a3f5f"
            },
            "baxis": {
             "endlinecolor": "#2a3f5f",
             "gridcolor": "white",
             "linecolor": "white",
             "minorgridcolor": "white",
             "startlinecolor": "#2a3f5f"
            },
            "type": "carpet"
           }
          ],
          "choropleth": [
           {
            "colorbar": {
             "outlinewidth": 0,
             "ticks": ""
            },
            "type": "choropleth"
           }
          ],
          "contour": [
           {
            "colorbar": {
             "outlinewidth": 0,
             "ticks": ""
            },
            "colorscale": [
             [
              0,
              "#0d0887"
             ],
             [
              0.1111111111111111,
              "#46039f"
             ],
             [
              0.2222222222222222,
              "#7201a8"
             ],
             [
              0.3333333333333333,
              "#9c179e"
             ],
             [
              0.4444444444444444,
              "#bd3786"
             ],
             [
              0.5555555555555556,
              "#d8576b"
             ],
             [
              0.6666666666666666,
              "#ed7953"
             ],
             [
              0.7777777777777778,
              "#fb9f3a"
             ],
             [
              0.8888888888888888,
              "#fdca26"
             ],
             [
              1,
              "#f0f921"
             ]
            ],
            "type": "contour"
           }
          ],
          "contourcarpet": [
           {
            "colorbar": {
             "outlinewidth": 0,
             "ticks": ""
            },
            "type": "contourcarpet"
           }
          ],
          "heatmap": [
           {
            "colorbar": {
             "outlinewidth": 0,
             "ticks": ""
            },
            "colorscale": [
             [
              0,
              "#0d0887"
             ],
             [
              0.1111111111111111,
              "#46039f"
             ],
             [
              0.2222222222222222,
              "#7201a8"
             ],
             [
              0.3333333333333333,
              "#9c179e"
             ],
             [
              0.4444444444444444,
              "#bd3786"
             ],
             [
              0.5555555555555556,
              "#d8576b"
             ],
             [
              0.6666666666666666,
              "#ed7953"
             ],
             [
              0.7777777777777778,
              "#fb9f3a"
             ],
             [
              0.8888888888888888,
              "#fdca26"
             ],
             [
              1,
              "#f0f921"
             ]
            ],
            "type": "heatmap"
           }
          ],
          "heatmapgl": [
           {
            "colorbar": {
             "outlinewidth": 0,
             "ticks": ""
            },
            "colorscale": [
             [
              0,
              "#0d0887"
             ],
             [
              0.1111111111111111,
              "#46039f"
             ],
             [
              0.2222222222222222,
              "#7201a8"
             ],
             [
              0.3333333333333333,
              "#9c179e"
             ],
             [
              0.4444444444444444,
              "#bd3786"
             ],
             [
              0.5555555555555556,
              "#d8576b"
             ],
             [
              0.6666666666666666,
              "#ed7953"
             ],
             [
              0.7777777777777778,
              "#fb9f3a"
             ],
             [
              0.8888888888888888,
              "#fdca26"
             ],
             [
              1,
              "#f0f921"
             ]
            ],
            "type": "heatmapgl"
           }
          ],
          "histogram": [
           {
            "marker": {
             "pattern": {
              "fillmode": "overlay",
              "size": 10,
              "solidity": 0.2
             }
            },
            "type": "histogram"
           }
          ],
          "histogram2d": [
           {
            "colorbar": {
             "outlinewidth": 0,
             "ticks": ""
            },
            "colorscale": [
             [
              0,
              "#0d0887"
             ],
             [
              0.1111111111111111,
              "#46039f"
             ],
             [
              0.2222222222222222,
              "#7201a8"
             ],
             [
              0.3333333333333333,
              "#9c179e"
             ],
             [
              0.4444444444444444,
              "#bd3786"
             ],
             [
              0.5555555555555556,
              "#d8576b"
             ],
             [
              0.6666666666666666,
              "#ed7953"
             ],
             [
              0.7777777777777778,
              "#fb9f3a"
             ],
             [
              0.8888888888888888,
              "#fdca26"
             ],
             [
              1,
              "#f0f921"
             ]
            ],
            "type": "histogram2d"
           }
          ],
          "histogram2dcontour": [
           {
            "colorbar": {
             "outlinewidth": 0,
             "ticks": ""
            },
            "colorscale": [
             [
              0,
              "#0d0887"
             ],
             [
              0.1111111111111111,
              "#46039f"
             ],
             [
              0.2222222222222222,
              "#7201a8"
             ],
             [
              0.3333333333333333,
              "#9c179e"
             ],
             [
              0.4444444444444444,
              "#bd3786"
             ],
             [
              0.5555555555555556,
              "#d8576b"
             ],
             [
              0.6666666666666666,
              "#ed7953"
             ],
             [
              0.7777777777777778,
              "#fb9f3a"
             ],
             [
              0.8888888888888888,
              "#fdca26"
             ],
             [
              1,
              "#f0f921"
             ]
            ],
            "type": "histogram2dcontour"
           }
          ],
          "mesh3d": [
           {
            "colorbar": {
             "outlinewidth": 0,
             "ticks": ""
            },
            "type": "mesh3d"
           }
          ],
          "parcoords": [
           {
            "line": {
             "colorbar": {
              "outlinewidth": 0,
              "ticks": ""
             }
            },
            "type": "parcoords"
           }
          ],
          "pie": [
           {
            "automargin": true,
            "type": "pie"
           }
          ],
          "scatter": [
           {
            "fillpattern": {
             "fillmode": "overlay",
             "size": 10,
             "solidity": 0.2
            },
            "type": "scatter"
           }
          ],
          "scatter3d": [
           {
            "line": {
             "colorbar": {
              "outlinewidth": 0,
              "ticks": ""
             }
            },
            "marker": {
             "colorbar": {
              "outlinewidth": 0,
              "ticks": ""
             }
            },
            "type": "scatter3d"
           }
          ],
          "scattercarpet": [
           {
            "marker": {
             "colorbar": {
              "outlinewidth": 0,
              "ticks": ""
             }
            },
            "type": "scattercarpet"
           }
          ],
          "scattergeo": [
           {
            "marker": {
             "colorbar": {
              "outlinewidth": 0,
              "ticks": ""
             }
            },
            "type": "scattergeo"
           }
          ],
          "scattergl": [
           {
            "marker": {
             "colorbar": {
              "outlinewidth": 0,
              "ticks": ""
             }
            },
            "type": "scattergl"
           }
          ],
          "scattermapbox": [
           {
            "marker": {
             "colorbar": {
              "outlinewidth": 0,
              "ticks": ""
             }
            },
            "type": "scattermapbox"
           }
          ],
          "scatterpolar": [
           {
            "marker": {
             "colorbar": {
              "outlinewidth": 0,
              "ticks": ""
             }
            },
            "type": "scatterpolar"
           }
          ],
          "scatterpolargl": [
           {
            "marker": {
             "colorbar": {
              "outlinewidth": 0,
              "ticks": ""
             }
            },
            "type": "scatterpolargl"
           }
          ],
          "scatterternary": [
           {
            "marker": {
             "colorbar": {
              "outlinewidth": 0,
              "ticks": ""
             }
            },
            "type": "scatterternary"
           }
          ],
          "surface": [
           {
            "colorbar": {
             "outlinewidth": 0,
             "ticks": ""
            },
            "colorscale": [
             [
              0,
              "#0d0887"
             ],
             [
              0.1111111111111111,
              "#46039f"
             ],
             [
              0.2222222222222222,
              "#7201a8"
             ],
             [
              0.3333333333333333,
              "#9c179e"
             ],
             [
              0.4444444444444444,
              "#bd3786"
             ],
             [
              0.5555555555555556,
              "#d8576b"
             ],
             [
              0.6666666666666666,
              "#ed7953"
             ],
             [
              0.7777777777777778,
              "#fb9f3a"
             ],
             [
              0.8888888888888888,
              "#fdca26"
             ],
             [
              1,
              "#f0f921"
             ]
            ],
            "type": "surface"
           }
          ],
          "table": [
           {
            "cells": {
             "fill": {
              "color": "#EBF0F8"
             },
             "line": {
              "color": "white"
             }
            },
            "header": {
             "fill": {
              "color": "#C8D4E3"
             },
             "line": {
              "color": "white"
             }
            },
            "type": "table"
           }
          ]
         },
         "layout": {
          "annotationdefaults": {
           "arrowcolor": "#2a3f5f",
           "arrowhead": 0,
           "arrowwidth": 1
          },
          "autotypenumbers": "strict",
          "coloraxis": {
           "colorbar": {
            "outlinewidth": 0,
            "ticks": ""
           }
          },
          "colorscale": {
           "diverging": [
            [
             0,
             "#8e0152"
            ],
            [
             0.1,
             "#c51b7d"
            ],
            [
             0.2,
             "#de77ae"
            ],
            [
             0.3,
             "#f1b6da"
            ],
            [
             0.4,
             "#fde0ef"
            ],
            [
             0.5,
             "#f7f7f7"
            ],
            [
             0.6,
             "#e6f5d0"
            ],
            [
             0.7,
             "#b8e186"
            ],
            [
             0.8,
             "#7fbc41"
            ],
            [
             0.9,
             "#4d9221"
            ],
            [
             1,
             "#276419"
            ]
           ],
           "sequential": [
            [
             0,
             "#0d0887"
            ],
            [
             0.1111111111111111,
             "#46039f"
            ],
            [
             0.2222222222222222,
             "#7201a8"
            ],
            [
             0.3333333333333333,
             "#9c179e"
            ],
            [
             0.4444444444444444,
             "#bd3786"
            ],
            [
             0.5555555555555556,
             "#d8576b"
            ],
            [
             0.6666666666666666,
             "#ed7953"
            ],
            [
             0.7777777777777778,
             "#fb9f3a"
            ],
            [
             0.8888888888888888,
             "#fdca26"
            ],
            [
             1,
             "#f0f921"
            ]
           ],
           "sequentialminus": [
            [
             0,
             "#0d0887"
            ],
            [
             0.1111111111111111,
             "#46039f"
            ],
            [
             0.2222222222222222,
             "#7201a8"
            ],
            [
             0.3333333333333333,
             "#9c179e"
            ],
            [
             0.4444444444444444,
             "#bd3786"
            ],
            [
             0.5555555555555556,
             "#d8576b"
            ],
            [
             0.6666666666666666,
             "#ed7953"
            ],
            [
             0.7777777777777778,
             "#fb9f3a"
            ],
            [
             0.8888888888888888,
             "#fdca26"
            ],
            [
             1,
             "#f0f921"
            ]
           ]
          },
          "colorway": [
           "#636efa",
           "#EF553B",
           "#00cc96",
           "#ab63fa",
           "#FFA15A",
           "#19d3f3",
           "#FF6692",
           "#B6E880",
           "#FF97FF",
           "#FECB52"
          ],
          "font": {
           "color": "#2a3f5f"
          },
          "geo": {
           "bgcolor": "white",
           "lakecolor": "white",
           "landcolor": "#E5ECF6",
           "showlakes": true,
           "showland": true,
           "subunitcolor": "white"
          },
          "hoverlabel": {
           "align": "left"
          },
          "hovermode": "closest",
          "mapbox": {
           "style": "light"
          },
          "paper_bgcolor": "white",
          "plot_bgcolor": "#E5ECF6",
          "polar": {
           "angularaxis": {
            "gridcolor": "white",
            "linecolor": "white",
            "ticks": ""
           },
           "bgcolor": "#E5ECF6",
           "radialaxis": {
            "gridcolor": "white",
            "linecolor": "white",
            "ticks": ""
           }
          },
          "scene": {
           "xaxis": {
            "backgroundcolor": "#E5ECF6",
            "gridcolor": "white",
            "gridwidth": 2,
            "linecolor": "white",
            "showbackground": true,
            "ticks": "",
            "zerolinecolor": "white"
           },
           "yaxis": {
            "backgroundcolor": "#E5ECF6",
            "gridcolor": "white",
            "gridwidth": 2,
            "linecolor": "white",
            "showbackground": true,
            "ticks": "",
            "zerolinecolor": "white"
           },
           "zaxis": {
            "backgroundcolor": "#E5ECF6",
            "gridcolor": "white",
            "gridwidth": 2,
            "linecolor": "white",
            "showbackground": true,
            "ticks": "",
            "zerolinecolor": "white"
           }
          },
          "shapedefaults": {
           "line": {
            "color": "#2a3f5f"
           }
          },
          "ternary": {
           "aaxis": {
            "gridcolor": "white",
            "linecolor": "white",
            "ticks": ""
           },
           "baxis": {
            "gridcolor": "white",
            "linecolor": "white",
            "ticks": ""
           },
           "bgcolor": "#E5ECF6",
           "caxis": {
            "gridcolor": "white",
            "linecolor": "white",
            "ticks": ""
           }
          },
          "title": {
           "x": 0.05
          },
          "xaxis": {
           "automargin": true,
           "gridcolor": "white",
           "linecolor": "white",
           "ticks": "",
           "title": {
            "standoff": 15
           },
           "zerolinecolor": "white",
           "zerolinewidth": 2
          },
          "yaxis": {
           "automargin": true,
           "gridcolor": "white",
           "linecolor": "white",
           "ticks": "",
           "title": {
            "standoff": 15
           },
           "zerolinecolor": "white",
           "zerolinewidth": 2
          }
         }
        },
        "title": {
         "text": "Total Vessels (all time) and Median Hours at Berth"
        },
        "width": 1000
       }
      }
     },
     "metadata": {},
     "output_type": "display_data"
    }
   ],
   "source": [
    "#scatterplot\n",
    "fig = px.scatter_geo(\n",
    "    gdf,\n",
    "    lon='port_lon',\n",
    "    lat='port_lat',\n",
    "    size='vessels',\n",
    "    color='hrs_at_berth_median',\n",
    "    range_color=[0,50],\n",
    "    hover_name='port_name',\n",
    "    size_max=30,\n",
    "    title='Total Vessels (all time) and Median Hours at Berth',\n",
    "    color_continuous_scale=px.colors.sequential.Viridis,\n",
    "    width=1000,\n",
    "    height=600,\n",
    "    labels={\n",
    "        'time_at_berth_avg':'Hours at Berth'\n",
    "    }\n",
    ")\n",
    "\n",
    "# Fit the view to ports\n",
    "fig.update_geos(fitbounds=\"locations\")\n",
    "\n",
    "# Add footnote using add_annotation\n",
    "fig.add_annotation(\n",
    "    text=\"Note: Circle size corresponds to averages vessels per month\",  # Footnote text\n",
    "    xref=\"paper\", yref=\"paper\",  # Position relative to the plot area\n",
    "    x=0, y=0-0.05,  # Adjust to footnote position\n",
    "    showarrow=False,  # No arrow, just text\n",
    "    font=dict(size=14, color=\"black\"),  # Customize the font style\n",
    "    align=\"left\"\n",
    ")\n",
    "\n",
    "# Show the figure\n",
    "fig.show()"
   ]
  },
  {
   "cell_type": "markdown",
   "metadata": {},
   "source": [
    "## Point in Time Stats\n",
    "\n",
    "Still under development"
   ]
  },
  {
   "cell_type": "code",
   "execution_count": 129,
   "metadata": {},
   "outputs": [],
   "source": [
    "#get point in time stats\n",
    "\n",
    "#create point in time (pit) df to join stats to\n",
    "pit_df = (\n",
    "    main_lf\n",
    "    .with_columns(\n",
    "        date = pl.col('time').dt.date(),\n",
    "        month = pl.col('time').dt.strftime('%Y%m')\n",
    "    )\n",
    "    .select('port_name', 'dock_id', 'month', 'date')\n",
    "    .unique().collect()\n",
    ")\n",
    "\n",
    "for hour in range(0, 24):\n",
    "    #create a time object for each hour\n",
    "    hour_dt = pl.time(hour)\n",
    "    #create a dataframe for each hour\n",
    "    hour_df = (\n",
    "        main_lf\n",
    "        .with_columns(\n",
    "            #get end of status time\n",
    "            end_time = pl.col('time') + pl.col('status_duration'),\n",
    "            #get date from time\n",
    "            date = pl.col('time').dt.date(),\n",
    "            #get month from time\n",
    "            month = pl.col('time').dt.strftime('%Y%m')\n",
    "        )\n",
    "        #group by port dock and hour\n",
    "        .group_by(['port_name', 'dock_id', 'month', 'date'])\n",
    "        .agg(\n",
    "            #number of vessels at dock at each hour\n",
    "            vessels_at_dock = (\n",
    "                #when moored at hour\n",
    "                pl.when((pl.col('status')==5) & \n",
    "                        (hour_dt.is_between(pl.col('time').dt.time(), \n",
    "                                         pl.col('end_time').dt.time())))\n",
    "                #then count the individual vessels\n",
    "                .then(pl.col('mmsi'))\n",
    "                .otherwise(pl.lit(None))\n",
    "                .drop_nulls() #n_unique counts nulls as unique values\n",
    "                .n_unique()\n",
    "            ),\n",
    "            #number of vessels at anchor at each hour\n",
    "            vessels_at_anchor = (\n",
    "                #when anchored at hour\n",
    "                pl.when((pl.col('status')==1) & \n",
    "                        (hour_dt.is_between(pl.col('time').dt.time(), \n",
    "                                        pl.col('end_time').dt.time())))\n",
    "                #then count the individual vessels\n",
    "                .then(pl.col('mmsi'))\n",
    "                .otherwise(pl.lit(None))\n",
    "                .drop_nulls()\n",
    "                .n_unique()\n",
    "            )\n",
    "        )\n",
    "        .collect()\n",
    "    )\n",
    "    #join the hour dataframe to the main pit dataframe\n",
    "    pit_df = (\n",
    "        pit_df\n",
    "        .join(hour_df, \n",
    "              on=['port_name', 'dock_id', 'month', 'date'], \n",
    "              how='left')\n",
    "        #rename the columns to include the hour\n",
    "        .rename({\n",
    "            'vessels_at_dock': f'vessels_at_dock_{hour}',\n",
    "            'vessels_at_anchor': f'vessels_at_anchor_{hour}'\n",
    "        })\n",
    "    )\n",
    "\n",
    "#get port stats by month\n",
    "pit_df = (\n",
    "    pit_df\n",
    "    #group by port and date\n",
    "    .group_by(['port_name', 'month', 'date'])\n",
    "    .agg(\n",
    "        #sum the number of vessels at all docks at each hour\n",
    "        cs.starts_with('vessels_at_dock_').sum(),\n",
    "        #sum the number of vessels at anchor at each hour\n",
    "        cs.starts_with('vessels_at_anchor_').sum()\n",
    "    )\n",
    "    #get the max at any hour\n",
    "    .with_columns(\n",
    "        #get max at dock at any hour\n",
    "        vessels_at_dock_max = (\n",
    "            pl.max_horizontal(cs.starts_with('vessels_at_dock_'))\n",
    "        ),\n",
    "        #get mean at dock any hour\n",
    "        vessels_at_dock_mean = (\n",
    "            pl.mean_horizontal(cs.starts_with('vessels_at_dock_'))\n",
    "        ),\n",
    "        #get max at anchor at any hour\n",
    "        vessels_at_anchor_max = (\n",
    "            pl.max_horizontal(cs.starts_with('vessels_at_anchor_'))\n",
    "        ),\n",
    "        #get mean at anchor any hour\n",
    "        vessels_at_anchor_mean = (\n",
    "            pl.mean_horizontal(cs.starts_with('vessels_at_anchor_'))\n",
    "        )\n",
    "    )\n",
    "    #select the columns to keep\n",
    "    .select(['port_name', 'month', 'date', 'vessels_at_dock_max', \n",
    "             'vessels_at_dock_mean', 'vessels_at_anchor_max',\n",
    "             'vessels_at_anchor_mean'])\n",
    "    #aggregate by month\n",
    "    .group_by(['port_name', 'month'])\n",
    "    .agg(\n",
    "        #get max at anchor on any date during that month\n",
    "        vessels_at_anchor_max = pl.max('vessels_at_anchor_max'),\n",
    "        #get mean at anchor on any date during that month\n",
    "        vessels_at_anchor_mean = pl.mean('vessels_at_anchor_mean'),\n",
    "        #get max at dock on any date during that month\n",
    "        vessels_at_dock_max = pl.max('vessels_at_dock_max'),\n",
    "        #get mean at dock on any date during that month\n",
    "        vessels_at_dock_mean = pl.mean('vessels_at_dock_mean'\n",
    "        )\n",
    "    )\n",
    ")"
   ]
  },
  {
   "cell_type": "code",
   "execution_count": 130,
   "metadata": {},
   "outputs": [
    {
     "data": {
      "text/html": [
       "<div><style>\n",
       ".dataframe > thead > tr,\n",
       ".dataframe > tbody > tr {\n",
       "  text-align: right;\n",
       "  white-space: pre-wrap;\n",
       "}\n",
       "</style>\n",
       "<small>shape: (9, 7)</small><table border=\"1\" class=\"dataframe\"><thead><tr><th>statistic</th><th>port_name</th><th>month</th><th>vessels_at_anchor_max</th><th>vessels_at_anchor_mean</th><th>vessels_at_dock_max</th><th>vessels_at_dock_mean</th></tr><tr><td>str</td><td>str</td><td>str</td><td>f64</td><td>f64</td><td>f64</td><td>f64</td></tr></thead><tbody><tr><td>&quot;count&quot;</td><td>&quot;5201&quot;</td><td>&quot;5201&quot;</td><td>5201.0</td><td>5201.0</td><td>5201.0</td><td>5201.0</td></tr><tr><td>&quot;null_count&quot;</td><td>&quot;0&quot;</td><td>&quot;0&quot;</td><td>0.0</td><td>0.0</td><td>0.0</td><td>0.0</td></tr><tr><td>&quot;mean&quot;</td><td>null</td><td>null</td><td>0.793309</td><td>0.048114</td><td>2.650067</td><td>0.508413</td></tr><tr><td>&quot;std&quot;</td><td>null</td><td>null</td><td>0.814863</td><td>0.09063</td><td>1.826468</td><td>0.497506</td></tr><tr><td>&quot;min&quot;</td><td>&quot;Albany Port District, NY&quot;</td><td>&quot;201801&quot;</td><td>0.0</td><td>0.0</td><td>0.0</td><td>0.0</td></tr><tr><td>&quot;25%&quot;</td><td>null</td><td>null</td><td>0.0</td><td>0.0</td><td>1.0</td><td>0.195076</td></tr><tr><td>&quot;50%&quot;</td><td>null</td><td>null</td><td>1.0</td><td>0.014493</td><td>2.0</td><td>0.358025</td></tr><tr><td>&quot;75%&quot;</td><td>null</td><td>null</td><td>1.0</td><td>0.05787</td><td>3.0</td><td>0.622024</td></tr><tr><td>&quot;max&quot;</td><td>&quot;Wilmington, NC&quot;</td><td>&quot;202409&quot;</td><td>6.0</td><td>0.995833</td><td>13.0</td><td>3.938889</td></tr></tbody></table></div>"
      ],
      "text/plain": [
       "shape: (9, 7)\n",
       "┌────────────┬───────────────┬────────┬───────────────┬──────────────┬──────────────┬──────────────┐\n",
       "│ statistic  ┆ port_name     ┆ month  ┆ vessels_at_an ┆ vessels_at_a ┆ vessels_at_d ┆ vessels_at_d │\n",
       "│ ---        ┆ ---           ┆ ---    ┆ chor_max      ┆ nchor_mean   ┆ ock_max      ┆ ock_mean     │\n",
       "│ str        ┆ str           ┆ str    ┆ ---           ┆ ---          ┆ ---          ┆ ---          │\n",
       "│            ┆               ┆        ┆ f64           ┆ f64          ┆ f64          ┆ f64          │\n",
       "╞════════════╪═══════════════╪════════╪═══════════════╪══════════════╪══════════════╪══════════════╡\n",
       "│ count      ┆ 5201          ┆ 5201   ┆ 5201.0        ┆ 5201.0       ┆ 5201.0       ┆ 5201.0       │\n",
       "│ null_count ┆ 0             ┆ 0      ┆ 0.0           ┆ 0.0          ┆ 0.0          ┆ 0.0          │\n",
       "│ mean       ┆ null          ┆ null   ┆ 0.793309      ┆ 0.048114     ┆ 2.650067     ┆ 0.508413     │\n",
       "│ std        ┆ null          ┆ null   ┆ 0.814863      ┆ 0.09063      ┆ 1.826468     ┆ 0.497506     │\n",
       "│ min        ┆ Albany Port   ┆ 201801 ┆ 0.0           ┆ 0.0          ┆ 0.0          ┆ 0.0          │\n",
       "│            ┆ District, NY  ┆        ┆               ┆              ┆              ┆              │\n",
       "│ 25%        ┆ null          ┆ null   ┆ 0.0           ┆ 0.0          ┆ 1.0          ┆ 0.195076     │\n",
       "│ 50%        ┆ null          ┆ null   ┆ 1.0           ┆ 0.014493     ┆ 2.0          ┆ 0.358025     │\n",
       "│ 75%        ┆ null          ┆ null   ┆ 1.0           ┆ 0.05787      ┆ 3.0          ┆ 0.622024     │\n",
       "│ max        ┆ Wilmington,   ┆ 202409 ┆ 6.0           ┆ 0.995833     ┆ 13.0         ┆ 3.938889     │\n",
       "│            ┆ NC            ┆        ┆               ┆              ┆              ┆              │\n",
       "└────────────┴───────────────┴────────┴───────────────┴──────────────┴──────────────┴──────────────┘"
      ]
     },
     "metadata": {},
     "output_type": "display_data"
    },
    {
     "data": {
      "text/html": [
       "<div><style>\n",
       ".dataframe > thead > tr,\n",
       ".dataframe > tbody > tr {\n",
       "  text-align: right;\n",
       "  white-space: pre-wrap;\n",
       "}\n",
       "</style>\n",
       "<small>shape: (5, 6)</small><table border=\"1\" class=\"dataframe\"><thead><tr><th>port_name</th><th>month</th><th>vessels_at_anchor_max</th><th>vessels_at_anchor_mean</th><th>vessels_at_dock_max</th><th>vessels_at_dock_mean</th></tr><tr><td>str</td><td>str</td><td>u32</td><td>f64</td><td>u32</td><td>f64</td></tr></thead><tbody><tr><td>&quot;Portland, ME&quot;</td><td>&quot;202312&quot;</td><td>1</td><td>0.025641</td><td>3</td><td>0.291667</td></tr><tr><td>&quot;Calhoun Port Authority, TX&quot;</td><td>&quot;202205&quot;</td><td>3</td><td>0.144231</td><td>3</td><td>0.238782</td></tr><tr><td>&quot;Anacortes, WA&quot;</td><td>&quot;202108&quot;</td><td>1</td><td>0.043478</td><td>2</td><td>0.26087</td></tr><tr><td>&quot;Port of Greater Baton Rouge, L…</td><td>&quot;202003&quot;</td><td>2</td><td>0.065104</td><td>1</td><td>0.096354</td></tr><tr><td>&quot;Kalaeloa Barbers Point, HI&quot;</td><td>&quot;202011&quot;</td><td>0</td><td>0.0</td><td>1</td><td>0.260417</td></tr></tbody></table></div>"
      ],
      "text/plain": [
       "shape: (5, 6)\n",
       "┌─────────────────┬────────┬─────────────────┬─────────────────┬─────────────────┬─────────────────┐\n",
       "│ port_name       ┆ month  ┆ vessels_at_anch ┆ vessels_at_anch ┆ vessels_at_dock ┆ vessels_at_dock │\n",
       "│ ---             ┆ ---    ┆ or_max          ┆ or_mean         ┆ _max            ┆ _mean           │\n",
       "│ str             ┆ str    ┆ ---             ┆ ---             ┆ ---             ┆ ---             │\n",
       "│                 ┆        ┆ u32             ┆ f64             ┆ u32             ┆ f64             │\n",
       "╞═════════════════╪════════╪═════════════════╪═════════════════╪═════════════════╪═════════════════╡\n",
       "│ Portland, ME    ┆ 202312 ┆ 1               ┆ 0.025641        ┆ 3               ┆ 0.291667        │\n",
       "│ Calhoun Port    ┆ 202205 ┆ 3               ┆ 0.144231        ┆ 3               ┆ 0.238782        │\n",
       "│ Authority, TX   ┆        ┆                 ┆                 ┆                 ┆                 │\n",
       "│ Anacortes, WA   ┆ 202108 ┆ 1               ┆ 0.043478        ┆ 2               ┆ 0.26087         │\n",
       "│ Port of Greater ┆ 202003 ┆ 2               ┆ 0.065104        ┆ 1               ┆ 0.096354        │\n",
       "│ Baton Rouge, L… ┆        ┆                 ┆                 ┆                 ┆                 │\n",
       "│ Kalaeloa        ┆ 202011 ┆ 0               ┆ 0.0             ┆ 1               ┆ 0.260417        │\n",
       "│ Barbers Point,  ┆        ┆                 ┆                 ┆                 ┆                 │\n",
       "│ HI              ┆        ┆                 ┆                 ┆                 ┆                 │\n",
       "└─────────────────┴────────┴─────────────────┴─────────────────┴─────────────────┴─────────────────┘"
      ]
     },
     "execution_count": 130,
     "metadata": {},
     "output_type": "execute_result"
    }
   ],
   "source": [
    "#inspect\n",
    "display(pit_df.describe())\n",
    "pit_df.head()"
   ]
  },
  {
   "cell_type": "markdown",
   "metadata": {},
   "source": [
    "### Max/Mean stats for vessels_at_dock \n",
    "\n",
    "- Current output seems far too low - e.g. Port of LA shows a max of 11 vessels at dock at any time since 2018; since there are 37 docks at LA we expect a max in the 20s or higher. "
   ]
  },
  {
   "cell_type": "code",
   "execution_count": 131,
   "metadata": {},
   "outputs": [
    {
     "data": {
      "text/html": [
       "<div><style>\n",
       ".dataframe > thead > tr,\n",
       ".dataframe > tbody > tr {\n",
       "  text-align: right;\n",
       "  white-space: pre-wrap;\n",
       "}\n",
       "</style>\n",
       "<small>shape: (81, 6)</small><table border=\"1\" class=\"dataframe\"><thead><tr><th>port_name</th><th>month</th><th>vessels_at_anchor_max</th><th>vessels_at_anchor_mean</th><th>vessels_at_dock_max</th><th>vessels_at_dock_mean</th></tr><tr><td>str</td><td>str</td><td>u32</td><td>f64</td><td>u32</td><td>f64</td></tr></thead><tbody><tr><td>&quot;Port of Los Angeles, CA&quot;</td><td>&quot;201801&quot;</td><td>4</td><td>0.319892</td><td>7</td><td>1.858871</td></tr><tr><td>&quot;Port of Los Angeles, CA&quot;</td><td>&quot;201802&quot;</td><td>3</td><td>0.27381</td><td>5</td><td>1.160714</td></tr><tr><td>&quot;Port of Los Angeles, CA&quot;</td><td>&quot;201803&quot;</td><td>2</td><td>0.260753</td><td>9</td><td>1.829301</td></tr><tr><td>&quot;Port of Los Angeles, CA&quot;</td><td>&quot;201804&quot;</td><td>3</td><td>0.35</td><td>7</td><td>1.573611</td></tr><tr><td>&quot;Port of Los Angeles, CA&quot;</td><td>&quot;201805&quot;</td><td>2</td><td>0.235215</td><td>5</td><td>1.444892</td></tr><tr><td>&quot;Port of Los Angeles, CA&quot;</td><td>&quot;201806&quot;</td><td>2</td><td>0.247222</td><td>6</td><td>1.544444</td></tr><tr><td>&quot;Port of Los Angeles, CA&quot;</td><td>&quot;201807&quot;</td><td>3</td><td>0.319892</td><td>6</td><td>1.495968</td></tr><tr><td>&quot;Port of Los Angeles, CA&quot;</td><td>&quot;201808&quot;</td><td>5</td><td>0.262097</td><td>7</td><td>1.717742</td></tr><tr><td>&quot;Port of Los Angeles, CA&quot;</td><td>&quot;201809&quot;</td><td>3</td><td>0.3</td><td>7</td><td>1.483333</td></tr><tr><td>&quot;Port of Los Angeles, CA&quot;</td><td>&quot;201810&quot;</td><td>4</td><td>0.27957</td><td>6</td><td>1.924731</td></tr><tr><td>&quot;Port of Los Angeles, CA&quot;</td><td>&quot;201811&quot;</td><td>2</td><td>0.177778</td><td>7</td><td>1.768056</td></tr><tr><td>&quot;Port of Los Angeles, CA&quot;</td><td>&quot;201812&quot;</td><td>3</td><td>0.356183</td><td>8</td><td>1.860215</td></tr><tr><td>&quot;Port of Los Angeles, CA&quot;</td><td>&quot;201901&quot;</td><td>3</td><td>0.465054</td><td>9</td><td>1.764785</td></tr><tr><td>&quot;Port of Los Angeles, CA&quot;</td><td>&quot;201902&quot;</td><td>2</td><td>0.261905</td><td>6</td><td>1.409226</td></tr><tr><td>&quot;Port of Los Angeles, CA&quot;</td><td>&quot;201903&quot;</td><td>2</td><td>0.219086</td><td>7</td><td>1.682796</td></tr><tr><td>&quot;Port of Los Angeles, CA&quot;</td><td>&quot;201904&quot;</td><td>3</td><td>0.475</td><td>9</td><td>1.715278</td></tr><tr><td>&quot;Port of Los Angeles, CA&quot;</td><td>&quot;201905&quot;</td><td>3</td><td>0.385753</td><td>9</td><td>2.450269</td></tr><tr><td>&quot;Port of Los Angeles, CA&quot;</td><td>&quot;201906&quot;</td><td>2</td><td>0.301389</td><td>7</td><td>1.541667</td></tr><tr><td>&quot;Port of Los Angeles, CA&quot;</td><td>&quot;201907&quot;</td><td>3</td><td>0.275538</td><td>5</td><td>1.298387</td></tr><tr><td>&quot;Port of Los Angeles, CA&quot;</td><td>&quot;201908&quot;</td><td>2</td><td>0.221774</td><td>6</td><td>1.688172</td></tr><tr><td>&quot;Port of Los Angeles, CA&quot;</td><td>&quot;201909&quot;</td><td>3</td><td>0.333333</td><td>7</td><td>1.802778</td></tr><tr><td>&quot;Port of Los Angeles, CA&quot;</td><td>&quot;201910&quot;</td><td>2</td><td>0.188172</td><td>6</td><td>1.599462</td></tr><tr><td>&quot;Port of Los Angeles, CA&quot;</td><td>&quot;201911&quot;</td><td>2</td><td>0.209722</td><td>6</td><td>1.598611</td></tr><tr><td>&quot;Port of Los Angeles, CA&quot;</td><td>&quot;201912&quot;</td><td>5</td><td>0.283602</td><td>7</td><td>1.96371</td></tr><tr><td>&quot;Port of Los Angeles, CA&quot;</td><td>&quot;202001&quot;</td><td>2</td><td>0.096774</td><td>5</td><td>1.310484</td></tr><tr><td>&quot;Port of Los Angeles, CA&quot;</td><td>&quot;202002&quot;</td><td>2</td><td>0.109195</td><td>5</td><td>1.015805</td></tr><tr><td>&quot;Port of Los Angeles, CA&quot;</td><td>&quot;202003&quot;</td><td>3</td><td>0.287634</td><td>7</td><td>1.576613</td></tr><tr><td>&quot;Port of Los Angeles, CA&quot;</td><td>&quot;202004&quot;</td><td>2</td><td>0.126389</td><td>7</td><td>1.534722</td></tr><tr><td>&quot;Port of Los Angeles, CA&quot;</td><td>&quot;202005&quot;</td><td>3</td><td>0.302419</td><td>4</td><td>0.987903</td></tr><tr><td>&quot;Port of Los Angeles, CA&quot;</td><td>&quot;202006&quot;</td><td>2</td><td>0.126389</td><td>4</td><td>0.841667</td></tr><tr><td>&quot;Port of Los Angeles, CA&quot;</td><td>&quot;202007&quot;</td><td>2</td><td>0.125</td><td>7</td><td>1.467742</td></tr><tr><td>&quot;Port of Los Angeles, CA&quot;</td><td>&quot;202008&quot;</td><td>2</td><td>0.188172</td><td>5</td><td>1.696237</td></tr><tr><td>&quot;Port of Los Angeles, CA&quot;</td><td>&quot;202009&quot;</td><td>2</td><td>0.202778</td><td>7</td><td>1.748611</td></tr><tr><td>&quot;Port of Los Angeles, CA&quot;</td><td>&quot;202010&quot;</td><td>2</td><td>0.294355</td><td>8</td><td>2.267473</td></tr><tr><td>&quot;Port of Los Angeles, CA&quot;</td><td>&quot;202011&quot;</td><td>2</td><td>0.305556</td><td>8</td><td>2.484722</td></tr><tr><td>&quot;Port of Los Angeles, CA&quot;</td><td>&quot;202012&quot;</td><td>5</td><td>0.523611</td><td>8</td><td>2.088889</td></tr><tr><td>&quot;Port of Los Angeles, CA&quot;</td><td>&quot;202101&quot;</td><td>2</td><td>0.25672</td><td>7</td><td>1.680108</td></tr><tr><td>&quot;Port of Los Angeles, CA&quot;</td><td>&quot;202102&quot;</td><td>2</td><td>0.352679</td><td>8</td><td>1.915179</td></tr><tr><td>&quot;Port of Los Angeles, CA&quot;</td><td>&quot;202103&quot;</td><td>3</td><td>0.447581</td><td>9</td><td>2.599462</td></tr><tr><td>&quot;Port of Los Angeles, CA&quot;</td><td>&quot;202104&quot;</td><td>3</td><td>0.544444</td><td>10</td><td>3.016667</td></tr><tr><td>&quot;Port of Los Angeles, CA&quot;</td><td>&quot;202105&quot;</td><td>3</td><td>0.556452</td><td>8</td><td>2.159946</td></tr><tr><td>&quot;Port of Los Angeles, CA&quot;</td><td>&quot;202106&quot;</td><td>4</td><td>0.479167</td><td>8</td><td>2.3125</td></tr><tr><td>&quot;Port of Los Angeles, CA&quot;</td><td>&quot;202107&quot;</td><td>4</td><td>0.486559</td><td>10</td><td>3.005376</td></tr><tr><td>&quot;Port of Los Angeles, CA&quot;</td><td>&quot;202108&quot;</td><td>4</td><td>0.691667</td><td>8</td><td>2.948611</td></tr><tr><td>&quot;Port of Los Angeles, CA&quot;</td><td>&quot;202109&quot;</td><td>4</td><td>0.615278</td><td>10</td><td>3.234722</td></tr><tr><td>&quot;Port of Los Angeles, CA&quot;</td><td>&quot;202110&quot;</td><td>4</td><td>0.619624</td><td>8</td><td>2.426075</td></tr><tr><td>&quot;Port of Los Angeles, CA&quot;</td><td>&quot;202111&quot;</td><td>4</td><td>0.536111</td><td>8</td><td>2.618056</td></tr><tr><td>&quot;Port of Los Angeles, CA&quot;</td><td>&quot;202112&quot;</td><td>3</td><td>0.294355</td><td>10</td><td>2.255376</td></tr><tr><td>&quot;Port of Los Angeles, CA&quot;</td><td>&quot;202201&quot;</td><td>5</td><td>0.848118</td><td>10</td><td>3.149194</td></tr><tr><td>&quot;Port of Los Angeles, CA&quot;</td><td>&quot;202202&quot;</td><td>4</td><td>0.497024</td><td>9</td><td>2.982143</td></tr><tr><td>&quot;Port of Los Angeles, CA&quot;</td><td>&quot;202203&quot;</td><td>5</td><td>0.487903</td><td>7</td><td>2.439516</td></tr><tr><td>&quot;Port of Los Angeles, CA&quot;</td><td>&quot;202204&quot;</td><td>4</td><td>0.620833</td><td>9</td><td>3.004167</td></tr><tr><td>&quot;Port of Los Angeles, CA&quot;</td><td>&quot;202205&quot;</td><td>2</td><td>0.337366</td><td>11</td><td>2.22043</td></tr><tr><td>&quot;Port of Los Angeles, CA&quot;</td><td>&quot;202206&quot;</td><td>4</td><td>0.402778</td><td>9</td><td>2.45</td></tr><tr><td>&quot;Port of Los Angeles, CA&quot;</td><td>&quot;202207&quot;</td><td>2</td><td>0.272849</td><td>6</td><td>1.77957</td></tr><tr><td>&quot;Port of Los Angeles, CA&quot;</td><td>&quot;202208&quot;</td><td>4</td><td>0.306452</td><td>9</td><td>2.040323</td></tr><tr><td>&quot;Port of Los Angeles, CA&quot;</td><td>&quot;202209&quot;</td><td>3</td><td>0.344444</td><td>5</td><td>1.163889</td></tr><tr><td>&quot;Port of Los Angeles, CA&quot;</td><td>&quot;202210&quot;</td><td>3</td><td>0.329301</td><td>7</td><td>1.208333</td></tr><tr><td>&quot;Port of Los Angeles, CA&quot;</td><td>&quot;202211&quot;</td><td>3</td><td>0.258333</td><td>5</td><td>1.204167</td></tr><tr><td>&quot;Port of Los Angeles, CA&quot;</td><td>&quot;202212&quot;</td><td>5</td><td>0.553763</td><td>5</td><td>1.043011</td></tr><tr><td>&quot;Port of Los Angeles, CA&quot;</td><td>&quot;202301&quot;</td><td>3</td><td>0.377688</td><td>6</td><td>0.93414</td></tr><tr><td>&quot;Port of Los Angeles, CA&quot;</td><td>&quot;202302&quot;</td><td>2</td><td>0.264881</td><td>4</td><td>0.986607</td></tr><tr><td>&quot;Port of Los Angeles, CA&quot;</td><td>&quot;202303&quot;</td><td>2</td><td>0.311828</td><td>6</td><td>1.202957</td></tr><tr><td>&quot;Port of Los Angeles, CA&quot;</td><td>&quot;202304&quot;</td><td>3</td><td>0.288889</td><td>6</td><td>1.633333</td></tr><tr><td>&quot;Port of Los Angeles, CA&quot;</td><td>&quot;202305&quot;</td><td>2</td><td>0.170699</td><td>5</td><td>1.275538</td></tr><tr><td>&quot;Port of Los Angeles, CA&quot;</td><td>&quot;202306&quot;</td><td>3</td><td>0.290278</td><td>4</td><td>1.102778</td></tr><tr><td>&quot;Port of Los Angeles, CA&quot;</td><td>&quot;202307&quot;</td><td>3</td><td>0.264785</td><td>6</td><td>1.614247</td></tr><tr><td>&quot;Port of Los Angeles, CA&quot;</td><td>&quot;202308&quot;</td><td>2</td><td>0.221774</td><td>4</td><td>0.837366</td></tr><tr><td>&quot;Port of Los Angeles, CA&quot;</td><td>&quot;202309&quot;</td><td>2</td><td>0.177778</td><td>8</td><td>1.4</td></tr><tr><td>&quot;Port of Los Angeles, CA&quot;</td><td>&quot;202310&quot;</td><td>3</td><td>0.211022</td><td>3</td><td>0.908602</td></tr><tr><td>&quot;Port of Los Angeles, CA&quot;</td><td>&quot;202311&quot;</td><td>2</td><td>0.294444</td><td>4</td><td>0.847222</td></tr><tr><td>&quot;Port of Los Angeles, CA&quot;</td><td>&quot;202312&quot;</td><td>2</td><td>0.232527</td><td>6</td><td>1.170699</td></tr><tr><td>&quot;Port of Los Angeles, CA&quot;</td><td>&quot;202401&quot;</td><td>3</td><td>0.262097</td><td>6</td><td>1.009409</td></tr><tr><td>&quot;Port of Los Angeles, CA&quot;</td><td>&quot;202402&quot;</td><td>2</td><td>0.222701</td><td>5</td><td>1.314655</td></tr><tr><td>&quot;Port of Los Angeles, CA&quot;</td><td>&quot;202403&quot;</td><td>2</td><td>0.365591</td><td>5</td><td>1.153226</td></tr><tr><td>&quot;Port of Los Angeles, CA&quot;</td><td>&quot;202404&quot;</td><td>2</td><td>0.476389</td><td>5</td><td>1.134722</td></tr><tr><td>&quot;Port of Los Angeles, CA&quot;</td><td>&quot;202405&quot;</td><td>3</td><td>0.419355</td><td>5</td><td>1.229839</td></tr><tr><td>&quot;Port of Los Angeles, CA&quot;</td><td>&quot;202406&quot;</td><td>2</td><td>0.429167</td><td>5</td><td>1.283333</td></tr><tr><td>&quot;Port of Los Angeles, CA&quot;</td><td>&quot;202407&quot;</td><td>2</td><td>0.327957</td><td>8</td><td>1.375</td></tr><tr><td>&quot;Port of Los Angeles, CA&quot;</td><td>&quot;202408&quot;</td><td>3</td><td>0.336022</td><td>6</td><td>1.497312</td></tr><tr><td>&quot;Port of Los Angeles, CA&quot;</td><td>&quot;202409&quot;</td><td>3</td><td>0.355556</td><td>8</td><td>1.483333</td></tr></tbody></table></div>"
      ],
      "text/plain": [
       "shape: (81, 6)\n",
       "┌─────────────┬────────┬──────────────────┬──────────────────┬──────────────────┬──────────────────┐\n",
       "│ port_name   ┆ month  ┆ vessels_at_ancho ┆ vessels_at_ancho ┆ vessels_at_dock_ ┆ vessels_at_dock_ │\n",
       "│ ---         ┆ ---    ┆ r_max            ┆ r_mean           ┆ max              ┆ mean             │\n",
       "│ str         ┆ str    ┆ ---              ┆ ---              ┆ ---              ┆ ---              │\n",
       "│             ┆        ┆ u32              ┆ f64              ┆ u32              ┆ f64              │\n",
       "╞═════════════╪════════╪══════════════════╪══════════════════╪══════════════════╪══════════════════╡\n",
       "│ Port of Los ┆ 201801 ┆ 4                ┆ 0.319892         ┆ 7                ┆ 1.858871         │\n",
       "│ Angeles, CA ┆        ┆                  ┆                  ┆                  ┆                  │\n",
       "│ Port of Los ┆ 201802 ┆ 3                ┆ 0.27381          ┆ 5                ┆ 1.160714         │\n",
       "│ Angeles, CA ┆        ┆                  ┆                  ┆                  ┆                  │\n",
       "│ Port of Los ┆ 201803 ┆ 2                ┆ 0.260753         ┆ 9                ┆ 1.829301         │\n",
       "│ Angeles, CA ┆        ┆                  ┆                  ┆                  ┆                  │\n",
       "│ Port of Los ┆ 201804 ┆ 3                ┆ 0.35             ┆ 7                ┆ 1.573611         │\n",
       "│ Angeles, CA ┆        ┆                  ┆                  ┆                  ┆                  │\n",
       "│ Port of Los ┆ 201805 ┆ 2                ┆ 0.235215         ┆ 5                ┆ 1.444892         │\n",
       "│ Angeles, CA ┆        ┆                  ┆                  ┆                  ┆                  │\n",
       "│ Port of Los ┆ 201806 ┆ 2                ┆ 0.247222         ┆ 6                ┆ 1.544444         │\n",
       "│ Angeles, CA ┆        ┆                  ┆                  ┆                  ┆                  │\n",
       "│ Port of Los ┆ 201807 ┆ 3                ┆ 0.319892         ┆ 6                ┆ 1.495968         │\n",
       "│ Angeles, CA ┆        ┆                  ┆                  ┆                  ┆                  │\n",
       "│ Port of Los ┆ 201808 ┆ 5                ┆ 0.262097         ┆ 7                ┆ 1.717742         │\n",
       "│ Angeles, CA ┆        ┆                  ┆                  ┆                  ┆                  │\n",
       "│ Port of Los ┆ 201809 ┆ 3                ┆ 0.3              ┆ 7                ┆ 1.483333         │\n",
       "│ Angeles, CA ┆        ┆                  ┆                  ┆                  ┆                  │\n",
       "│ Port of Los ┆ 201810 ┆ 4                ┆ 0.27957          ┆ 6                ┆ 1.924731         │\n",
       "│ Angeles, CA ┆        ┆                  ┆                  ┆                  ┆                  │\n",
       "│ Port of Los ┆ 201811 ┆ 2                ┆ 0.177778         ┆ 7                ┆ 1.768056         │\n",
       "│ Angeles, CA ┆        ┆                  ┆                  ┆                  ┆                  │\n",
       "│ Port of Los ┆ 201812 ┆ 3                ┆ 0.356183         ┆ 8                ┆ 1.860215         │\n",
       "│ Angeles, CA ┆        ┆                  ┆                  ┆                  ┆                  │\n",
       "│ Port of Los ┆ 201901 ┆ 3                ┆ 0.465054         ┆ 9                ┆ 1.764785         │\n",
       "│ Angeles, CA ┆        ┆                  ┆                  ┆                  ┆                  │\n",
       "│ Port of Los ┆ 201902 ┆ 2                ┆ 0.261905         ┆ 6                ┆ 1.409226         │\n",
       "│ Angeles, CA ┆        ┆                  ┆                  ┆                  ┆                  │\n",
       "│ Port of Los ┆ 201903 ┆ 2                ┆ 0.219086         ┆ 7                ┆ 1.682796         │\n",
       "│ Angeles, CA ┆        ┆                  ┆                  ┆                  ┆                  │\n",
       "│ Port of Los ┆ 201904 ┆ 3                ┆ 0.475            ┆ 9                ┆ 1.715278         │\n",
       "│ Angeles, CA ┆        ┆                  ┆                  ┆                  ┆                  │\n",
       "│ Port of Los ┆ 201905 ┆ 3                ┆ 0.385753         ┆ 9                ┆ 2.450269         │\n",
       "│ Angeles, CA ┆        ┆                  ┆                  ┆                  ┆                  │\n",
       "│ Port of Los ┆ 201906 ┆ 2                ┆ 0.301389         ┆ 7                ┆ 1.541667         │\n",
       "│ Angeles, CA ┆        ┆                  ┆                  ┆                  ┆                  │\n",
       "│ Port of Los ┆ 201907 ┆ 3                ┆ 0.275538         ┆ 5                ┆ 1.298387         │\n",
       "│ Angeles, CA ┆        ┆                  ┆                  ┆                  ┆                  │\n",
       "│ Port of Los ┆ 201908 ┆ 2                ┆ 0.221774         ┆ 6                ┆ 1.688172         │\n",
       "│ Angeles, CA ┆        ┆                  ┆                  ┆                  ┆                  │\n",
       "│ Port of Los ┆ 201909 ┆ 3                ┆ 0.333333         ┆ 7                ┆ 1.802778         │\n",
       "│ Angeles, CA ┆        ┆                  ┆                  ┆                  ┆                  │\n",
       "│ Port of Los ┆ 201910 ┆ 2                ┆ 0.188172         ┆ 6                ┆ 1.599462         │\n",
       "│ Angeles, CA ┆        ┆                  ┆                  ┆                  ┆                  │\n",
       "│ Port of Los ┆ 201911 ┆ 2                ┆ 0.209722         ┆ 6                ┆ 1.598611         │\n",
       "│ Angeles, CA ┆        ┆                  ┆                  ┆                  ┆                  │\n",
       "│ Port of Los ┆ 201912 ┆ 5                ┆ 0.283602         ┆ 7                ┆ 1.96371          │\n",
       "│ Angeles, CA ┆        ┆                  ┆                  ┆                  ┆                  │\n",
       "│ Port of Los ┆ 202001 ┆ 2                ┆ 0.096774         ┆ 5                ┆ 1.310484         │\n",
       "│ Angeles, CA ┆        ┆                  ┆                  ┆                  ┆                  │\n",
       "│ Port of Los ┆ 202002 ┆ 2                ┆ 0.109195         ┆ 5                ┆ 1.015805         │\n",
       "│ Angeles, CA ┆        ┆                  ┆                  ┆                  ┆                  │\n",
       "│ Port of Los ┆ 202003 ┆ 3                ┆ 0.287634         ┆ 7                ┆ 1.576613         │\n",
       "│ Angeles, CA ┆        ┆                  ┆                  ┆                  ┆                  │\n",
       "│ Port of Los ┆ 202004 ┆ 2                ┆ 0.126389         ┆ 7                ┆ 1.534722         │\n",
       "│ Angeles, CA ┆        ┆                  ┆                  ┆                  ┆                  │\n",
       "│ Port of Los ┆ 202005 ┆ 3                ┆ 0.302419         ┆ 4                ┆ 0.987903         │\n",
       "│ Angeles, CA ┆        ┆                  ┆                  ┆                  ┆                  │\n",
       "│ Port of Los ┆ 202006 ┆ 2                ┆ 0.126389         ┆ 4                ┆ 0.841667         │\n",
       "│ Angeles, CA ┆        ┆                  ┆                  ┆                  ┆                  │\n",
       "│ Port of Los ┆ 202007 ┆ 2                ┆ 0.125            ┆ 7                ┆ 1.467742         │\n",
       "│ Angeles, CA ┆        ┆                  ┆                  ┆                  ┆                  │\n",
       "│ Port of Los ┆ 202008 ┆ 2                ┆ 0.188172         ┆ 5                ┆ 1.696237         │\n",
       "│ Angeles, CA ┆        ┆                  ┆                  ┆                  ┆                  │\n",
       "│ Port of Los ┆ 202009 ┆ 2                ┆ 0.202778         ┆ 7                ┆ 1.748611         │\n",
       "│ Angeles, CA ┆        ┆                  ┆                  ┆                  ┆                  │\n",
       "│ Port of Los ┆ 202010 ┆ 2                ┆ 0.294355         ┆ 8                ┆ 2.267473         │\n",
       "│ Angeles, CA ┆        ┆                  ┆                  ┆                  ┆                  │\n",
       "│ Port of Los ┆ 202011 ┆ 2                ┆ 0.305556         ┆ 8                ┆ 2.484722         │\n",
       "│ Angeles, CA ┆        ┆                  ┆                  ┆                  ┆                  │\n",
       "│ Port of Los ┆ 202012 ┆ 5                ┆ 0.523611         ┆ 8                ┆ 2.088889         │\n",
       "│ Angeles, CA ┆        ┆                  ┆                  ┆                  ┆                  │\n",
       "│ Port of Los ┆ 202101 ┆ 2                ┆ 0.25672          ┆ 7                ┆ 1.680108         │\n",
       "│ Angeles, CA ┆        ┆                  ┆                  ┆                  ┆                  │\n",
       "│ Port of Los ┆ 202102 ┆ 2                ┆ 0.352679         ┆ 8                ┆ 1.915179         │\n",
       "│ Angeles, CA ┆        ┆                  ┆                  ┆                  ┆                  │\n",
       "│ Port of Los ┆ 202103 ┆ 3                ┆ 0.447581         ┆ 9                ┆ 2.599462         │\n",
       "│ Angeles, CA ┆        ┆                  ┆                  ┆                  ┆                  │\n",
       "│ Port of Los ┆ 202104 ┆ 3                ┆ 0.544444         ┆ 10               ┆ 3.016667         │\n",
       "│ Angeles, CA ┆        ┆                  ┆                  ┆                  ┆                  │\n",
       "│ Port of Los ┆ 202105 ┆ 3                ┆ 0.556452         ┆ 8                ┆ 2.159946         │\n",
       "│ Angeles, CA ┆        ┆                  ┆                  ┆                  ┆                  │\n",
       "│ Port of Los ┆ 202106 ┆ 4                ┆ 0.479167         ┆ 8                ┆ 2.3125           │\n",
       "│ Angeles, CA ┆        ┆                  ┆                  ┆                  ┆                  │\n",
       "│ Port of Los ┆ 202107 ┆ 4                ┆ 0.486559         ┆ 10               ┆ 3.005376         │\n",
       "│ Angeles, CA ┆        ┆                  ┆                  ┆                  ┆                  │\n",
       "│ Port of Los ┆ 202108 ┆ 4                ┆ 0.691667         ┆ 8                ┆ 2.948611         │\n",
       "│ Angeles, CA ┆        ┆                  ┆                  ┆                  ┆                  │\n",
       "│ Port of Los ┆ 202109 ┆ 4                ┆ 0.615278         ┆ 10               ┆ 3.234722         │\n",
       "│ Angeles, CA ┆        ┆                  ┆                  ┆                  ┆                  │\n",
       "│ Port of Los ┆ 202110 ┆ 4                ┆ 0.619624         ┆ 8                ┆ 2.426075         │\n",
       "│ Angeles, CA ┆        ┆                  ┆                  ┆                  ┆                  │\n",
       "│ Port of Los ┆ 202111 ┆ 4                ┆ 0.536111         ┆ 8                ┆ 2.618056         │\n",
       "│ Angeles, CA ┆        ┆                  ┆                  ┆                  ┆                  │\n",
       "│ Port of Los ┆ 202112 ┆ 3                ┆ 0.294355         ┆ 10               ┆ 2.255376         │\n",
       "│ Angeles, CA ┆        ┆                  ┆                  ┆                  ┆                  │\n",
       "│ Port of Los ┆ 202201 ┆ 5                ┆ 0.848118         ┆ 10               ┆ 3.149194         │\n",
       "│ Angeles, CA ┆        ┆                  ┆                  ┆                  ┆                  │\n",
       "│ Port of Los ┆ 202202 ┆ 4                ┆ 0.497024         ┆ 9                ┆ 2.982143         │\n",
       "│ Angeles, CA ┆        ┆                  ┆                  ┆                  ┆                  │\n",
       "│ Port of Los ┆ 202203 ┆ 5                ┆ 0.487903         ┆ 7                ┆ 2.439516         │\n",
       "│ Angeles, CA ┆        ┆                  ┆                  ┆                  ┆                  │\n",
       "│ Port of Los ┆ 202204 ┆ 4                ┆ 0.620833         ┆ 9                ┆ 3.004167         │\n",
       "│ Angeles, CA ┆        ┆                  ┆                  ┆                  ┆                  │\n",
       "│ Port of Los ┆ 202205 ┆ 2                ┆ 0.337366         ┆ 11               ┆ 2.22043          │\n",
       "│ Angeles, CA ┆        ┆                  ┆                  ┆                  ┆                  │\n",
       "│ Port of Los ┆ 202206 ┆ 4                ┆ 0.402778         ┆ 9                ┆ 2.45             │\n",
       "│ Angeles, CA ┆        ┆                  ┆                  ┆                  ┆                  │\n",
       "│ Port of Los ┆ 202207 ┆ 2                ┆ 0.272849         ┆ 6                ┆ 1.77957          │\n",
       "│ Angeles, CA ┆        ┆                  ┆                  ┆                  ┆                  │\n",
       "│ Port of Los ┆ 202208 ┆ 4                ┆ 0.306452         ┆ 9                ┆ 2.040323         │\n",
       "│ Angeles, CA ┆        ┆                  ┆                  ┆                  ┆                  │\n",
       "│ Port of Los ┆ 202209 ┆ 3                ┆ 0.344444         ┆ 5                ┆ 1.163889         │\n",
       "│ Angeles, CA ┆        ┆                  ┆                  ┆                  ┆                  │\n",
       "│ Port of Los ┆ 202210 ┆ 3                ┆ 0.329301         ┆ 7                ┆ 1.208333         │\n",
       "│ Angeles, CA ┆        ┆                  ┆                  ┆                  ┆                  │\n",
       "│ Port of Los ┆ 202211 ┆ 3                ┆ 0.258333         ┆ 5                ┆ 1.204167         │\n",
       "│ Angeles, CA ┆        ┆                  ┆                  ┆                  ┆                  │\n",
       "│ Port of Los ┆ 202212 ┆ 5                ┆ 0.553763         ┆ 5                ┆ 1.043011         │\n",
       "│ Angeles, CA ┆        ┆                  ┆                  ┆                  ┆                  │\n",
       "│ Port of Los ┆ 202301 ┆ 3                ┆ 0.377688         ┆ 6                ┆ 0.93414          │\n",
       "│ Angeles, CA ┆        ┆                  ┆                  ┆                  ┆                  │\n",
       "│ Port of Los ┆ 202302 ┆ 2                ┆ 0.264881         ┆ 4                ┆ 0.986607         │\n",
       "│ Angeles, CA ┆        ┆                  ┆                  ┆                  ┆                  │\n",
       "│ Port of Los ┆ 202303 ┆ 2                ┆ 0.311828         ┆ 6                ┆ 1.202957         │\n",
       "│ Angeles, CA ┆        ┆                  ┆                  ┆                  ┆                  │\n",
       "│ Port of Los ┆ 202304 ┆ 3                ┆ 0.288889         ┆ 6                ┆ 1.633333         │\n",
       "│ Angeles, CA ┆        ┆                  ┆                  ┆                  ┆                  │\n",
       "│ Port of Los ┆ 202305 ┆ 2                ┆ 0.170699         ┆ 5                ┆ 1.275538         │\n",
       "│ Angeles, CA ┆        ┆                  ┆                  ┆                  ┆                  │\n",
       "│ Port of Los ┆ 202306 ┆ 3                ┆ 0.290278         ┆ 4                ┆ 1.102778         │\n",
       "│ Angeles, CA ┆        ┆                  ┆                  ┆                  ┆                  │\n",
       "│ Port of Los ┆ 202307 ┆ 3                ┆ 0.264785         ┆ 6                ┆ 1.614247         │\n",
       "│ Angeles, CA ┆        ┆                  ┆                  ┆                  ┆                  │\n",
       "│ Port of Los ┆ 202308 ┆ 2                ┆ 0.221774         ┆ 4                ┆ 0.837366         │\n",
       "│ Angeles, CA ┆        ┆                  ┆                  ┆                  ┆                  │\n",
       "│ Port of Los ┆ 202309 ┆ 2                ┆ 0.177778         ┆ 8                ┆ 1.4              │\n",
       "│ Angeles, CA ┆        ┆                  ┆                  ┆                  ┆                  │\n",
       "│ Port of Los ┆ 202310 ┆ 3                ┆ 0.211022         ┆ 3                ┆ 0.908602         │\n",
       "│ Angeles, CA ┆        ┆                  ┆                  ┆                  ┆                  │\n",
       "│ Port of Los ┆ 202311 ┆ 2                ┆ 0.294444         ┆ 4                ┆ 0.847222         │\n",
       "│ Angeles, CA ┆        ┆                  ┆                  ┆                  ┆                  │\n",
       "│ Port of Los ┆ 202312 ┆ 2                ┆ 0.232527         ┆ 6                ┆ 1.170699         │\n",
       "│ Angeles, CA ┆        ┆                  ┆                  ┆                  ┆                  │\n",
       "│ Port of Los ┆ 202401 ┆ 3                ┆ 0.262097         ┆ 6                ┆ 1.009409         │\n",
       "│ Angeles, CA ┆        ┆                  ┆                  ┆                  ┆                  │\n",
       "│ Port of Los ┆ 202402 ┆ 2                ┆ 0.222701         ┆ 5                ┆ 1.314655         │\n",
       "│ Angeles, CA ┆        ┆                  ┆                  ┆                  ┆                  │\n",
       "│ Port of Los ┆ 202403 ┆ 2                ┆ 0.365591         ┆ 5                ┆ 1.153226         │\n",
       "│ Angeles, CA ┆        ┆                  ┆                  ┆                  ┆                  │\n",
       "│ Port of Los ┆ 202404 ┆ 2                ┆ 0.476389         ┆ 5                ┆ 1.134722         │\n",
       "│ Angeles, CA ┆        ┆                  ┆                  ┆                  ┆                  │\n",
       "│ Port of Los ┆ 202405 ┆ 3                ┆ 0.419355         ┆ 5                ┆ 1.229839         │\n",
       "│ Angeles, CA ┆        ┆                  ┆                  ┆                  ┆                  │\n",
       "│ Port of Los ┆ 202406 ┆ 2                ┆ 0.429167         ┆ 5                ┆ 1.283333         │\n",
       "│ Angeles, CA ┆        ┆                  ┆                  ┆                  ┆                  │\n",
       "│ Port of Los ┆ 202407 ┆ 2                ┆ 0.327957         ┆ 8                ┆ 1.375            │\n",
       "│ Angeles, CA ┆        ┆                  ┆                  ┆                  ┆                  │\n",
       "│ Port of Los ┆ 202408 ┆ 3                ┆ 0.336022         ┆ 6                ┆ 1.497312         │\n",
       "│ Angeles, CA ┆        ┆                  ┆                  ┆                  ┆                  │\n",
       "│ Port of Los ┆ 202409 ┆ 3                ┆ 0.355556         ┆ 8                ┆ 1.483333         │\n",
       "│ Angeles, CA ┆        ┆                  ┆                  ┆                  ┆                  │\n",
       "└─────────────┴────────┴──────────────────┴──────────────────┴──────────────────┴──────────────────┘"
      ]
     },
     "execution_count": 131,
     "metadata": {},
     "output_type": "execute_result"
    }
   ],
   "source": [
    "pit_df.filter(pl.col('port_name')=='Port of Los Angeles, CA').sort('month')"
   ]
  }
 ],
 "metadata": {
  "kernelspec": {
   "display_name": "wsu",
   "language": "python",
   "name": "python3"
  },
  "language_info": {
   "codemirror_mode": {
    "name": "ipython",
    "version": 3
   },
   "file_extension": ".py",
   "mimetype": "text/x-python",
   "name": "python",
   "nbconvert_exporter": "python",
   "pygments_lexer": "ipython3",
   "version": "3.12.0"
  }
 },
 "nbformat": 4,
 "nbformat_minor": 2
}
