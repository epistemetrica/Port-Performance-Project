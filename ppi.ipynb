{
 "cells": [
  {
   "cell_type": "code",
   "execution_count": 145,
   "metadata": {},
   "outputs": [],
   "source": [
    "#prelims\n",
    "import polars as pl\n",
    "import pandas as pd\n",
    "import geopandas as gpd\n",
    "import time\n",
    "import plotly_express as px\n",
    "import matplotlib.pyplot as plt\n",
    "import contextily as cx\n",
    "import numpy as np\n",
    "\n",
    "#enable string cache for polars categoricals\n",
    "pl.enable_string_cache()\n",
    "#display settings\n",
    "pd.set_option('display.max_columns', None)\n",
    "pd.set_option('display.max_rows', None)\n",
    "pl.Config(tbl_rows=200);"
   ]
  },
  {
   "cell_type": "markdown",
   "metadata": {},
   "source": [
    "# Port Performance Index Project - Main Notebook\n",
    "\n",
    "This notebook presents the primary data analysis related to the PPI Project; see the README and other files in the [repo](https://github.com/epistemetrica/Port-Performance-Project) for full details. \n",
    "\n",
    "## Data Processing\n",
    "\n",
    "AIS data is ingested from the Marine Cadastre database via the scripts found in the vessel data folder. Here, we combine the AIS data with port-level data and prepare for analysis. "
   ]
  },
  {
   "cell_type": "markdown",
   "metadata": {},
   "source": [
    "### AIS Data\n",
    "\n",
    "The vessel locations and status (e.g., \"under way\", \"anchored\", \"moored\") data include all AIS messages; for the purposes of the PPI, we only need to know when a vessel *changes* status, so all other observations are dropped. \n",
    "\n",
    "We also limit the data for the PPI to vessels over 100m in length. "
   ]
  },
  {
   "cell_type": "code",
   "execution_count": 146,
   "metadata": {},
   "outputs": [
    {
     "name": "stdout",
     "output_type": "stream",
     "text": [
      "skipping: data to be read from previously processed parquet file in next cell\n"
     ]
    }
   ],
   "source": [
    "%%script echo skipping: data to be read from previously processed parquet file in next cell\n",
    "\n",
    "ais_gdf = (\n",
    "    #read into lazyframe\n",
    "    pl.scan_parquet('ais data/data/ais_clean/*.parquet')\n",
    "    #drop smaller vessels\n",
    "    .filter(pl.col('length')>100)\n",
    "    #sort by vessel and time\n",
    "    .sort(['mmsi', 'time'])\n",
    "    #indicate whether status is the same as previous row (Fill value needed to avoid status 0 evaluating as equal to false)\n",
    "    .with_columns(\n",
    "        status_change = (\n",
    "            pl.col('status').ne(pl.col('status').shift(fill_value=20))\n",
    "            .over('mmsi')\n",
    "        )\n",
    "    )\n",
    "    #keep only new status pings\n",
    "    .filter(pl.col('status_change')==True)\n",
    "    #drop change col\n",
    "    .drop('status_change')\n",
    "    #create duration column\n",
    "    .with_columns(\n",
    "        status_duration = (pl.col('time').shift(-1) - pl.col('time'))\n",
    "        .over('mmsi').dt.total_minutes()\n",
    "    )\n",
    "    #collect to pandas df\n",
    "    .collect()\n",
    "    .to_pandas()\n",
    ")\n",
    "\n",
    "#convert to geopandas dataframe\n",
    "ais_gdf = (\n",
    "    #convert to geodataframe\n",
    "    gpd.GeoDataFrame(\n",
    "        ais_gdf,\n",
    "        geometry=gpd.points_from_xy(ais_gdf.lon, ais_gdf.lat, crs='EPSG:4326')\n",
    "    )\n",
    "    #convert to WGS84 pseudo-mercator\n",
    "    .to_crs(3857)\n",
    "    #drop old lat lon cols\n",
    "    .drop(['lat', 'lon'], axis=1)\n",
    ")\n",
    "\n",
    "#write to parquet\n",
    "ais_gdf.to_parquet('ais data/data/ais_status_changes.parquet')"
   ]
  },
  {
   "cell_type": "code",
   "execution_count": 147,
   "metadata": {},
   "outputs": [],
   "source": [
    "#%%script echo skipping: dataframe created in previous cell\n",
    "#read previously processed AIS parquet file\n",
    "ais_gdf = (gpd.read_parquet('ais data/data/ais_status_changes.parquet'))\n",
    "\n",
    "#limit to time\n",
    "ais_gdf = ais_gdf[ais_gdf['time'].dt.year>=2018]"
   ]
  },
  {
   "cell_type": "markdown",
   "metadata": {},
   "source": [
    "### Port and Dock Data\n",
    "\n",
    "Locations and descriptions for each dock and port come from the BTS and USACE online databases. "
   ]
  },
  {
   "cell_type": "code",
   "execution_count": 148,
   "metadata": {},
   "outputs": [],
   "source": [
    "#load port data\n",
    "ports_gdf = (\n",
    "    #read in shape file downloaded from BTS\n",
    "    gpd.read_file('port data/Principal_Ports/Principal_Ports.shp')\n",
    "    #drop unneeded columns\n",
    "    .drop([\n",
    "        'FID', #randomly assigned table id\n",
    "        'PORT', #unknown numeric ID - not CBP or UN code\n",
    "        'FOREIGN_','EXPORTS', 'IMPORTS', 'DOMESTIC' #breadown of total vol (tons)\n",
    "    ], axis=1)\n",
    ")\n",
    "#set col names to pythonic lowercase\n",
    "ports_gdf.columns = ports_gdf.columns.str.lower()\n",
    "\n",
    "#load dock data\n",
    "docks_gdf = (\n",
    "    #read in shape file downloaded from USACE\n",
    "    gpd.read_file('port data/Dock/Dock.shp')\n",
    "    #drop unneeded columns\n",
    "    .drop([\n",
    "        'FID', #randomly assigned table id\n",
    "        'LONGITUDE', 'LATITUDE', #already coded in 'geometry' \n",
    "        'LOCATION_D', #text description of dock location\n",
    "        'STREET_ADD','ZIPCODE', #street address details\n",
    "        'PSA_NAME', #statistical area name, rarely used\n",
    "        'COUNTY_NAM', 'COUNTY_FIP', 'CONGRESS', 'CONGRESS_F', #county and congress info\n",
    "        'MILE', 'BANK', 'LATITUDE1', 'LONGITUDE1', #redundant locaation data\n",
    "        'OPERATORS', 'OWNERS', #owner info\n",
    "        'PURPOSE', #long-form text description of dock uses\n",
    "        'DOCK', #unknown number (not unique to each row/dock)\n",
    "        'HIGHWAY_NO', 'RAILWAY_NO', 'LOCATION', #redundant location info\n",
    "        'COMMODITIE', 'CONSTRUCTI','MECHANICAL', 'REMARKS', 'VERTICAL_D', \n",
    "        'DEPTH_MIN', 'DEPTH_MAX','BERTHING_L', 'BERTHING_T', 'DECK_HEIGH', \n",
    "        'DECK_HEI_1', #these are rarely used stats on construction\n",
    "        'SERVICE_IN','SERVICE_TE', #rarely used indicators of data entry date \n",
    "    ], axis=1)\n",
    "    #rename cols for clarity\n",
    "    .rename(columns={\n",
    "        'NAV_UNIT_I':'nav_unit_id',\n",
    "        'NAV_UNIT_N':'nav_unit_name',\n",
    "        'FACILITY_T':'facility_type',\n",
    "        'CITY_OR_TO':'city',\n",
    "        'STATE_POST':'state'\n",
    "    })\n",
    ")\n",
    "#set col names to pythonic lowercase\n",
    "docks_gdf.columns = docks_gdf.columns.str.lower()"
   ]
  },
  {
   "cell_type": "markdown",
   "metadata": {},
   "source": [
    "### Matching\n",
    "\n",
    "We first match each of the anchored and moored points from the AIS data with the nearest Port. "
   ]
  },
  {
   "cell_type": "code",
   "execution_count": 149,
   "metadata": {},
   "outputs": [
    {
     "name": "stdout",
     "output_type": "stream",
     "text": [
      "Spatial Join time on 177268 AIS messages took 0.5833101272583008 seconds\n"
     ]
    }
   ],
   "source": [
    "start = time.time()\n",
    "stops_gdf = (\n",
    "    #filter to only moorings\n",
    "    ais_gdf[ais_gdf.status == 5]\n",
    "    #join in nearest port to each ais message\n",
    "    .sjoin_nearest(ports_gdf, how='left', exclusive=True)\n",
    "    #drop unneeded cols\n",
    "    .drop(['index_right', 'total'], axis=1)\n",
    "    #rename cols for clarity\n",
    "    .rename({'rank':'port_rank', 'type':'port_type'}, axis=1)\n",
    ")\n",
    "print(f'Spatial Join time on {len(stops_gdf)} AIS messages took {time.time()-start} seconds')\n",
    "\n",
    "#create main df\n",
    "main_gdf = (\n",
    "    #merge stops back into AIS data\n",
    "    ais_gdf.merge(stops_gdf, how='left')\n",
    "    #sort by vessel then time of message\n",
    "    .sort_values(by=['mmsi', 'time'])\n",
    ")\n",
    "#backfill port info except geometry (normal pandas syntax not supported for gpd geometry)\n",
    "main_gdf[['port_type','port_name','port_rank']] = (\n",
    "    main_gdf[['port_type','port_name','port_rank']].bfill()\n",
    ")\n",
    "#merge port geometries into main (NOTE backfill not supported for gpd geometry, hence the separate merge step)\n",
    "main_gdf = main_gdf.merge(ports_gdf[['port_name', 'geometry']], \n",
    "                          on='port_name', how='left', suffixes=[None, '_port'])\n",
    "#compute distance from message loc to port loc\n",
    "main_gdf['port_dist'] = main_gdf['geometry'].distance(main_gdf['geometry_port'])"
   ]
  },
  {
   "cell_type": "code",
   "execution_count": 150,
   "metadata": {},
   "outputs": [],
   "source": [
    "#create year and month cols for convenience\n",
    "main_gdf['year'] = main_gdf['time'].dt.year\n",
    "main_gdf['month'] = main_gdf['time'].dt.strftime('%Y%m')"
   ]
  },
  {
   "cell_type": "code",
   "execution_count": 151,
   "metadata": {},
   "outputs": [
    {
     "data": {
      "text/html": [
       "<div>\n",
       "<style scoped>\n",
       "    .dataframe tbody tr th:only-of-type {\n",
       "        vertical-align: middle;\n",
       "    }\n",
       "\n",
       "    .dataframe tbody tr th {\n",
       "        vertical-align: top;\n",
       "    }\n",
       "\n",
       "    .dataframe thead th {\n",
       "        text-align: right;\n",
       "    }\n",
       "</style>\n",
       "<table border=\"1\" class=\"dataframe\">\n",
       "  <thead>\n",
       "    <tr style=\"text-align: right;\">\n",
       "      <th></th>\n",
       "      <th>mmsi</th>\n",
       "      <th>time</th>\n",
       "      <th>speed</th>\n",
       "      <th>course</th>\n",
       "      <th>heading</th>\n",
       "      <th>status</th>\n",
       "      <th>vessel_name</th>\n",
       "      <th>vessel_type</th>\n",
       "      <th>imo</th>\n",
       "      <th>length</th>\n",
       "      <th>width</th>\n",
       "      <th>draft</th>\n",
       "      <th>cargo</th>\n",
       "      <th>status_duration</th>\n",
       "      <th>geometry</th>\n",
       "      <th>port_type</th>\n",
       "      <th>port_name</th>\n",
       "      <th>port_rank</th>\n",
       "      <th>geometry_port</th>\n",
       "      <th>port_dist</th>\n",
       "      <th>year</th>\n",
       "      <th>month</th>\n",
       "    </tr>\n",
       "  </thead>\n",
       "  <tbody>\n",
       "    <tr>\n",
       "      <th>0</th>\n",
       "      <td>36336</td>\n",
       "      <td>2019-10-28 10:45:42</td>\n",
       "      <td>12.5</td>\n",
       "      <td>46.0</td>\n",
       "      <td>49.0</td>\n",
       "      <td>0.0</td>\n",
       "      <td>NAVIOS LYRA</td>\n",
       "      <td>79.0</td>\n",
       "      <td>9498626.0</td>\n",
       "      <td>231.0</td>\n",
       "      <td>39.0</td>\n",
       "      <td>5.8</td>\n",
       "      <td>79.0</td>\n",
       "      <td>NaN</td>\n",
       "      <td>POINT (-8231327.164 4246784.482)</td>\n",
       "      <td>C</td>\n",
       "      <td>Calhoun Port Authority, TX</td>\n",
       "      <td>77.0</td>\n",
       "      <td>POINT (-10752608.322 3328559.594)</td>\n",
       "      <td>2.683281e+06</td>\n",
       "      <td>2019</td>\n",
       "      <td>201910</td>\n",
       "    </tr>\n",
       "    <tr>\n",
       "      <th>1</th>\n",
       "      <td>205174000</td>\n",
       "      <td>2018-04-17 08:16:50</td>\n",
       "      <td>12.3</td>\n",
       "      <td>293.7</td>\n",
       "      <td>294.0</td>\n",
       "      <td>0.0</td>\n",
       "      <td>SIMONE</td>\n",
       "      <td>80.0</td>\n",
       "      <td>9537769.0</td>\n",
       "      <td>331.0</td>\n",
       "      <td>60.0</td>\n",
       "      <td>22.6</td>\n",
       "      <td>80.0</td>\n",
       "      <td>7107.0</td>\n",
       "      <td>POINT (-9293240.522 2360809.194)</td>\n",
       "      <td>C</td>\n",
       "      <td>Calhoun Port Authority, TX</td>\n",
       "      <td>77.0</td>\n",
       "      <td>POINT (-10752608.322 3328559.594)</td>\n",
       "      <td>1.751084e+06</td>\n",
       "      <td>2018</td>\n",
       "      <td>201804</td>\n",
       "    </tr>\n",
       "    <tr>\n",
       "      <th>2</th>\n",
       "      <td>205174000</td>\n",
       "      <td>2018-04-22 06:43:57</td>\n",
       "      <td>0.1</td>\n",
       "      <td>146.5</td>\n",
       "      <td>78.0</td>\n",
       "      <td>1.0</td>\n",
       "      <td>SIMONE</td>\n",
       "      <td>80.0</td>\n",
       "      <td>9537769.0</td>\n",
       "      <td>331.0</td>\n",
       "      <td>60.0</td>\n",
       "      <td>22.6</td>\n",
       "      <td>80.0</td>\n",
       "      <td>NaN</td>\n",
       "      <td>POINT (-10376653.013 2124386.530)</td>\n",
       "      <td>C</td>\n",
       "      <td>Calhoun Port Authority, TX</td>\n",
       "      <td>77.0</td>\n",
       "      <td>POINT (-10752608.322 3328559.594)</td>\n",
       "      <td>1.261497e+06</td>\n",
       "      <td>2018</td>\n",
       "      <td>201804</td>\n",
       "    </tr>\n",
       "    <tr>\n",
       "      <th>3</th>\n",
       "      <td>205250000</td>\n",
       "      <td>2018-07-05 03:27:55</td>\n",
       "      <td>12.4</td>\n",
       "      <td>80.2</td>\n",
       "      <td>79.0</td>\n",
       "      <td>0.0</td>\n",
       "      <td>MINERAL DRAGON</td>\n",
       "      <td>70.0</td>\n",
       "      <td>9508392.0</td>\n",
       "      <td>292.0</td>\n",
       "      <td>45.0</td>\n",
       "      <td>18.1</td>\n",
       "      <td>70.0</td>\n",
       "      <td>NaN</td>\n",
       "      <td>POINT (-18663677.771 6529613.956)</td>\n",
       "      <td>C</td>\n",
       "      <td>Calhoun Port Authority, TX</td>\n",
       "      <td>77.0</td>\n",
       "      <td>POINT (-10752608.322 3328559.594)</td>\n",
       "      <td>8.534153e+06</td>\n",
       "      <td>2018</td>\n",
       "      <td>201807</td>\n",
       "    </tr>\n",
       "    <tr>\n",
       "      <th>4</th>\n",
       "      <td>205283000</td>\n",
       "      <td>2018-04-10 21:35:14</td>\n",
       "      <td>15.5</td>\n",
       "      <td>304.9</td>\n",
       "      <td>304.0</td>\n",
       "      <td>0.0</td>\n",
       "      <td>KAPRIJKE</td>\n",
       "      <td>80.0</td>\n",
       "      <td>9687485.0</td>\n",
       "      <td>181.0</td>\n",
       "      <td>NaN</td>\n",
       "      <td>NaN</td>\n",
       "      <td>NaN</td>\n",
       "      <td>2345.0</td>\n",
       "      <td>POINT (-9852667.718 2719066.832)</td>\n",
       "      <td>C</td>\n",
       "      <td>Calhoun Port Authority, TX</td>\n",
       "      <td>77.0</td>\n",
       "      <td>POINT (-10752608.322 3328559.594)</td>\n",
       "      <td>1.086911e+06</td>\n",
       "      <td>2018</td>\n",
       "      <td>201804</td>\n",
       "    </tr>\n",
       "  </tbody>\n",
       "</table>\n",
       "</div>"
      ],
      "text/plain": [
       "        mmsi                time  speed  course  heading  status  \\\n",
       "0      36336 2019-10-28 10:45:42   12.5    46.0     49.0     0.0   \n",
       "1  205174000 2018-04-17 08:16:50   12.3   293.7    294.0     0.0   \n",
       "2  205174000 2018-04-22 06:43:57    0.1   146.5     78.0     1.0   \n",
       "3  205250000 2018-07-05 03:27:55   12.4    80.2     79.0     0.0   \n",
       "4  205283000 2018-04-10 21:35:14   15.5   304.9    304.0     0.0   \n",
       "\n",
       "      vessel_name  vessel_type        imo  length  width  draft  cargo  \\\n",
       "0     NAVIOS LYRA         79.0  9498626.0   231.0   39.0    5.8   79.0   \n",
       "1          SIMONE         80.0  9537769.0   331.0   60.0   22.6   80.0   \n",
       "2          SIMONE         80.0  9537769.0   331.0   60.0   22.6   80.0   \n",
       "3  MINERAL DRAGON         70.0  9508392.0   292.0   45.0   18.1   70.0   \n",
       "4        KAPRIJKE         80.0  9687485.0   181.0    NaN    NaN    NaN   \n",
       "\n",
       "   status_duration                           geometry port_type  \\\n",
       "0              NaN   POINT (-8231327.164 4246784.482)         C   \n",
       "1           7107.0   POINT (-9293240.522 2360809.194)         C   \n",
       "2              NaN  POINT (-10376653.013 2124386.530)         C   \n",
       "3              NaN  POINT (-18663677.771 6529613.956)         C   \n",
       "4           2345.0   POINT (-9852667.718 2719066.832)         C   \n",
       "\n",
       "                    port_name  port_rank                      geometry_port  \\\n",
       "0  Calhoun Port Authority, TX       77.0  POINT (-10752608.322 3328559.594)   \n",
       "1  Calhoun Port Authority, TX       77.0  POINT (-10752608.322 3328559.594)   \n",
       "2  Calhoun Port Authority, TX       77.0  POINT (-10752608.322 3328559.594)   \n",
       "3  Calhoun Port Authority, TX       77.0  POINT (-10752608.322 3328559.594)   \n",
       "4  Calhoun Port Authority, TX       77.0  POINT (-10752608.322 3328559.594)   \n",
       "\n",
       "      port_dist  year   month  \n",
       "0  2.683281e+06  2019  201910  \n",
       "1  1.751084e+06  2018  201804  \n",
       "2  1.261497e+06  2018  201804  \n",
       "3  8.534153e+06  2018  201807  \n",
       "4  1.086911e+06  2018  201804  "
      ]
     },
     "metadata": {},
     "output_type": "display_data"
    },
    {
     "name": "stdout",
     "output_type": "stream",
     "text": [
      "<class 'geopandas.geodataframe.GeoDataFrame'>\n",
      "RangeIndex: 603482 entries, 0 to 603481\n",
      "Data columns (total 22 columns):\n",
      " #   Column           Non-Null Count   Dtype         \n",
      "---  ------           --------------   -----         \n",
      " 0   mmsi             603482 non-null  int64         \n",
      " 1   time             603482 non-null  datetime64[us]\n",
      " 2   speed            603482 non-null  float64       \n",
      " 3   course           602003 non-null  float64       \n",
      " 4   heading          598253 non-null  float64       \n",
      " 5   status           603482 non-null  float64       \n",
      " 6   vessel_name      603482 non-null  category      \n",
      " 7   vessel_type      603482 non-null  float64       \n",
      " 8   imo              603482 non-null  float64       \n",
      " 9   length           603482 non-null  float64       \n",
      " 10  width            562241 non-null  float64       \n",
      " 11  draft            559793 non-null  float64       \n",
      " 12  cargo            322267 non-null  float64       \n",
      " 13  status_duration  590870 non-null  float64       \n",
      " 14  geometry         603482 non-null  geometry      \n",
      " 15  port_type        603468 non-null  object        \n",
      " 16  port_name        603468 non-null  object        \n",
      " 17  port_rank        603468 non-null  float64       \n",
      " 18  geometry_port    603468 non-null  geometry      \n",
      " 19  port_dist        603468 non-null  float64       \n",
      " 20  year             603482 non-null  int32         \n",
      " 21  month            603482 non-null  object        \n",
      "dtypes: category(1), datetime64[us](1), float64(13), geometry(2), int32(1), int64(1), object(3)\n",
      "memory usage: 96.1+ MB\n"
     ]
    }
   ],
   "source": [
    "#inspect\n",
    "display(main_gdf.head())\n",
    "main_gdf.info()"
   ]
  },
  {
   "cell_type": "markdown",
   "metadata": {},
   "source": [
    "## Exploratory Analysis\n",
    "\n",
    "### Vessel calls in previous 12 months"
   ]
  },
  {
   "cell_type": "code",
   "execution_count": 152,
   "metadata": {},
   "outputs": [],
   "source": [
    "#get most recent twelve month window that appears in the data\n",
    "latest_date = main_gdf.time.max()\n",
    "year_before = latest_date - pd.DateOffset(months=12)\n",
    "\n",
    "#get port lat and long to preserve geometries in polars df\n",
    "main_gdf['lat'] = main_gdf.set_geometry('geometry_port').to_crs(\"EPSG:4326\").geometry_port.y\n",
    "main_gdf['lon'] = main_gdf.set_geometry('geometry_port').to_crs(\"EPSG:4326\").geometry_port.x\n",
    "\n",
    "annual_gdf = (\n",
    "    #convert main gdf to polars\n",
    "    pl.DataFrame(\n",
    "        main_gdf.drop(['geometry', 'geometry_port'], axis=1))\n",
    "    #filter to most recent 12 months\n",
    "    .filter(pl.col('time')>= year_before)\n",
    "    .with_columns(\n",
    "        #get monthly avg vessels\n",
    "        vessels_avg = pl.col('mmsi').n_unique().over('port_name', 'month'),\n",
    "        status_duration = pl.col('status_duration')\n",
    "    )\n",
    "    #aggregate\n",
    "    .group_by('port_name')\n",
    "    .agg(\n",
    "        #keep lat and long\n",
    "        lat = pl.col('lat').first(),\n",
    "        lon = pl.col('lon').first(),\n",
    "        #get avg vessels per month\n",
    "        vessels_avg = pl.col('vessels_avg').mean(),\n",
    "        #get median time at berth in hours\n",
    "        time_at_berth_avg = (\n",
    "            pl.when(pl.col('status')==5)\n",
    "            .then(pl.col('status_duration'))\n",
    "            .otherwise(pl.lit(None))\n",
    "        ).median()/60,\n",
    "        #get median time at anchor in hours\n",
    "        time_at_anchor_avg = (\n",
    "            pl.when(pl.col('status')==1)\n",
    "            .then(pl.col('status_duration'))\n",
    "            .otherwise(pl.lit(None))\n",
    "        ).median()/60\n",
    "    )\n",
    "    #convert to pandas to that geopandas is happy\n",
    "    .to_pandas()\n",
    ")\n",
    "\n",
    "#convert to geodataframe\n",
    "annual_gdf = (\n",
    "    gpd.GeoDataFrame(\n",
    "        annual_gdf, geometry=gpd.points_from_xy(annual_gdf.lon, annual_gdf.lat),\n",
    "        crs=3857\n",
    "    )\n",
    ")"
   ]
  },
  {
   "cell_type": "markdown",
   "metadata": {},
   "source": [
    "### Monthly Port Statistics"
   ]
  },
  {
   "cell_type": "code",
   "execution_count": 153,
   "metadata": {},
   "outputs": [],
   "source": [
    "monthly_gdf = (\n",
    "    #convert to polars\n",
    "    pl.DataFrame(main_gdf.drop(['geometry', 'geometry_port'], axis=1))\n",
    "    #agg over ports and months\n",
    "    .group_by('port_name', 'month')\n",
    "    .agg(\n",
    "        #keep lat and long\n",
    "        lat = pl.col('lat').first(),\n",
    "        lon = pl.col('lon').first(),\n",
    "        #get monthly avg vessels\n",
    "        vessels_avg = pl.col('mmsi').n_unique(),\n",
    "        #get average time at berth\n",
    "        time_at_berth_avg = (\n",
    "            pl.when(pl.col('status')==5)\n",
    "            .then(pl.col('status_duration'))\n",
    "            .otherwise(pl.lit(None))\n",
    "        ).median()/60,\n",
    "        #get average time at anchor\n",
    "        time_at_anchor_avg = (\n",
    "            pl.when(pl.col('status')==1)\n",
    "            .then(pl.col('status_duration'))\n",
    "            .otherwise(pl.lit(None))\n",
    "        ).median()/60\n",
    "    )\n",
    ")"
   ]
  },
  {
   "cell_type": "markdown",
   "metadata": {},
   "source": [
    "### Visualizations"
   ]
  },
  {
   "cell_type": "code",
   "execution_count": 165,
   "metadata": {},
   "outputs": [
    {
     "data": {
      "application/vnd.plotly.v1+json": {
       "config": {
        "plotlyServerURL": "https://plot.ly"
       },
       "data": [
        {
         "geo": "geo",
         "hovertemplate": "<b>%{hovertext}</b><br><br>vessels_avg=%{marker.size}<br>lat=%{lat}<br>lon=%{lon}<br>Hours at Berth=%{marker.color}<extra></extra>",
         "hovertext": [
          "Greater Lafourche Port, LA",
          "Terrebonne Parish Port, LA",
          "Coos Bay OR, Port of",
          "Clark Township, MI",
          "Grays Harbor Port District, WA",
          "Mobile, AL",
          "Kalaeloa Barbers Point, HI",
          "Port of Columbia County, OR",
          "Oxnard Harbor District, CA",
          "Sandusky, OH",
          "Ashtabula Port Authority, OH",
          "Texas City, TX",
          "Port Freeport, TX",
          "New Haven, CT",
          "Port Arthur, TX",
          "Tampa Port Authority, FL",
          "Baltimore, MD",
          "Northern Indiana District, IN",
          "Port of Palm Beach District, FL",
          "Orange County Nav District, TX",
          "Port of Greater Baton Rouge, LA",
          "Stockton, CA",
          "Marquette, MI",
          "Virgin Islands - St. Croix, VI",
          "Morehead City, NC",
          "Port of Alaska, AK",
          "Port Jefferson, NY",
          "Port of Iberia District, LA",
          "Brownsville, TX",
          "Cleveland-Cuyahoga Port, OH",
          "West St. Mary Parish Port, LA",
          "Port of Providence, RI",
          "Port of Pascagoula, MS",
          "Sacramento-Yolo Port, CA",
          "Mueller Township, MI",
          "Toledo-Lucas County Port, OH",
          "Two Harbors, MN",
          "Canaveral Port District, FL",
          "Port of Longview, WA",
          "Port of Everett, WA",
          "Bridgeport, CT",
          "Galveston, TX",
          "Green Bay, WI",
          "Port of Vancouver USA, WA",
          "New Orleans, LA",
          "Portsmouth, NH",
          "Port of Portland, OR",
          "Conneaut, OH",
          "Albany Port District, NY",
          "San Francisco Port, CA",
          "Silver Bay, MN",
          "Boston, MA",
          "Panama City Port Authority, FL",
          "Alpena, MI",
          "Kahului, Maui, HI",
          "Richmond, CA",
          "Redwood City, CA",
          "Guaynabo, PR",
          "Detroit-Wayne County Port, MI",
          "New York, NY & NJ",
          "Hilo, Hawai'i, HI",
          "Port of Oakland, CA",
          "San Juan, PR",
          null,
          "San Diego Unified Port, CA",
          "Illinois International Port, IL",
          "Nawiliwili, Kaua'i, HI",
          "Unalaska Island, AK",
          "Marine City, MI",
          "Tacoma, WA",
          "Port of Kalama, WA",
          "Guayama, PR",
          "Yabucoa, PR",
          "Port of Los Angeles, CA",
          "Portland, ME",
          "Marblehead, OH",
          "Port of Gulfport, MS",
          "Wilmington, NC",
          "Port of Harlingen Authority, TX",
          "Philadelphia Regional Port, PA",
          "Plaquemines Port District, LA",
          "Duluth-Superior, MN and WI",
          "Houston Port Authority, TX",
          "Lake Charles Harbor District, LA",
          "Corpus Christi, TX",
          "Wilmington, DE",
          "PortMiami, FL",
          "Muskegon, MI",
          "Nikiski, AK",
          "South Jersey Port Corp, NJ",
          "Port of Brunswick, GA",
          "Milwaukee, WI",
          "Valdez, AK",
          "Port of Savannah, GA",
          "Beaumont, TX",
          "Kivalina, AK",
          "Port Everglades, FL",
          "South Louisiana, LA, Port of",
          "Virginia, VA, Port of",
          "Monroe, MI",
          "Jacksonville, FL",
          "Port of Charleston, SC",
          "Presque Isle Township, MI",
          "Seattle, WA",
          "Manatee County Port, FL",
          "Calhoun Port Authority, TX",
          "Anacortes, WA",
          "Honolulu, O'ahu, HI",
          "Searsport, ME",
          "Port of Long Beach, CA",
          "Rogers City, MI"
         ],
         "lat": [
          29.121944999999982,
          29.579070000000016,
          43.36350999999997,
          45.99138999999998,
          46.904156000000036,
          30.69123000000003,
          21.323066000000015,
          45.847484,
          34.14824399999996,
          41.470220000000026,
          41.90368500000001,
          29.36306800000003,
          28.96133000000003,
          41.29883000000003,
          29.83141999999998,
          27.785339999999987,
          39.25082699999997,
          41.62504700000002,
          26.76903999999999,
          30.095369999999946,
          30.422920000000016,
          37.95270000000001,
          46.577291999999964,
          17.752709999999958,
          34.71692999999996,
          61.23778000000001,
          40.94880999999998,
          29.93731400000002,
          25.952201000000002,
          41.47851999999999,
          29.81967300000001,
          41.81177999999999,
          30.34801999999999,
          38.56132299999998,
          45.96942399999999,
          41.66293999999997,
          47.014550999999976,
          28.414089999999984,
          46.14222000000002,
          47.98476000000001,
          41.172,
          29.31048999999998,
          44.516215,
          45.622440000000005,
          29.914139999999975,
          43.073979999999985,
          45.47881000000001,
          41.96671,
          42.64271000000003,
          37.80666500000003,
          47.29420800000001,
          42.34246800000003,
          30.133998000000016,
          45.061966999999974,
          20.898610000000005,
          37.92423699999999,
          37.50535999999999,
          18.43022100000003,
          42.26909400000002,
          40.67394899999999,
          19.730615999999998,
          37.82152,
          18.432782999999972,
          null,
          32.708209999999994,
          41.886620000000015,
          21.95248399999999,
          53.89418500000001,
          42.71544999999999,
          47.28966000000003,
          46.02659599999997,
          17.938939000000016,
          18.05174300000002,
          33.726635000000016,
          43.64950999999999,
          41.52961999999998,
          30.35962100000001,
          34.22736499999998,
          26.201976000000005,
          39.91882,
          29.480004000000008,
          46.77836199999998,
          29.74702299999999,
          30.106406000000028,
          27.812769999999972,
          39.715889999999966,
          25.78286200000004,
          43.22708300000002,
          60.74793,
          39.846444999999974,
          31.132425999999985,
          42.98823999999999,
          61.124730000000014,
          32.08471099999998,
          30.084871999999983,
          67.72676599999993,
          26.09339200000001,
          30.033449999999988,
          36.86641999999996,
          41.91513400000002,
          30.32275700000004,
          32.78878099999997,
          45.29794,
          47.58771099999997,
          27.633680999999985,
          28.62938900000002,
          48.49594299999999,
          21.311110000000035,
          44.45285,
          33.73957000000002,
          45.42229799999998
         ],
         "legendgroup": "",
         "lon": [
          -90.20527900000023,
          -90.65905099999983,
          -124.20949999999986,
          -84.31280999999997,
          -124.17614600000005,
          -88.03583399999998,
          -158.1136830000002,
          -122.79869299999974,
          -119.20847500000015,
          -82.71227000000002,
          -80.79397599999994,
          -94.91809099999998,
          -95.3707000000004,
          -72.90473000000003,
          -93.9606899999997,
          -82.52235,
          -76.56163999999995,
          -87.20250699999995,
          -80.05267000000002,
          -93.7235599999998,
          -91.19933999999976,
          -121.31560000000034,
          -87.384821,
          -64.73242,
          -76.72421000000001,
          -149.8949999999996,
          -73.07215999999997,
          -91.84379499999994,
          -97.3981380000001,
          -81.67191000000001,
          -91.51389600000005,
          -71.39844000000004,
          -88.55879000000003,
          -121.54154100000014,
          -85.872972,
          -83.50750999999998,
          -91.67068500000016,
          -80.60814999999997,
          -122.91399999999975,
          -122.22940000000042,
          -73.17886000000004,
          -94.81269999999991,
          -88.01811800000002,
          -122.68060000000018,
          -90.08525600000007,
          -70.73805999999996,
          -122.66529999999963,
          -80.54860000000004,
          -73.74816000000003,
          -122.39904199999995,
          -91.25638799999999,
          -71.032029,
          -85.63376199999999,
          -83.42173300000003,
          -156.4727999999997,
          -122.37423299999986,
          -122.21401199999977,
          -66.11114099999999,
          -83.10958600000001,
          -74.03835699999998,
          -155.0547780000002,
          -122.30810000000015,
          -66.09667800000001,
          null,
          -117.17839999999974,
          -87.63798999999999,
          -159.35231900000005,
          -166.5499160000001,
          -82.50235000000005,
          -122.45149999999964,
          -122.86685999999972,
          -66.15600200000002,
          -65.83622600000001,
          -118.26809900000029,
          -70.25133999999998,
          -82.70905999999998,
          -89.092568,
          -77.95049600000002,
          -97.59710500000041,
          -75.20219099999998,
          -89.68744699999998,
          -92.0964080000003,
          -95.29367900000028,
          -93.28683900000004,
          -97.39789000000025,
          -75.50696999999997,
          -80.18164200000001,
          -86.34316000000001,
          -151.31439999999984,
          -75.261085,
          -81.53666000000001,
          -87.89967000000003,
          -146.3463999999997,
          -81.09538199999996,
          -94.09498499999985,
          -164.5268899999997,
          -80.11780099999996,
          -90.61793999999985,
          -76.31174000000001,
          -83.39060899999993,
          -81.66512500000005,
          -79.92159500000001,
          -83.42138200000002,
          -122.35921800000041,
          -82.56414299999996,
          -96.59232400000002,
          -122.59960999999971,
          -157.87169999999958,
          -68.92497000000002,
          -118.20950000000023,
          -83.81197199999998
         ],
         "marker": {
          "color": [
           18.333333333333332,
           null,
           0.016666666666666666,
           10.65,
           0.03333333333333333,
           25.4,
           47.333333333333336,
           0.016666666666666666,
           16.066666666666666,
           15.2,
           16.016666666666666,
           24.6,
           23.2,
           33.775,
           33.483333333333334,
           25.766666666666666,
           7.116666666666666,
           17.875,
           17.875,
           199.15833333333333,
           47.63333333333333,
           63.291666666666664,
           6.8,
           12.033333333333333,
           66.2,
           14.266666666666666,
           45.7,
           0.016666666666666666,
           47.93333333333333,
           18.866666666666667,
           0.016666666666666666,
           11.916666666666666,
           0.65,
           89.925,
           9.616666666666667,
           24.116666666666667,
           12.058333333333334,
           34.21666666666667,
           47.00833333333333,
           10.441666666666666,
           12.941666666666666,
           11.366666666666667,
           35.99166666666667,
           42.583333333333336,
           40.99166666666667,
           23.616666666666667,
           174.75,
           27.833333333333332,
           32.11666666666667,
           52.05,
           32.516666666666666,
           17.916666666666668,
           42.2,
           1256.1166666666666,
           7.325,
           29.05,
           22.65,
           41.333333333333336,
           9.116666666666667,
           4.016666666666667,
           0.4166666666666667,
           23.316666666666666,
           10.908333333333333,
           null,
           18.216666666666665,
           30.25,
           23,
           23.216666666666665,
           32.84166666666667,
           19.4,
           48.13333333333333,
           29.491666666666667,
           42.208333333333336,
           39.233333333333334,
           18.958333333333332,
           15.783333333333333,
           15.941666666666666,
           17.65,
           7.183333333333334,
           0.13333333333333333,
           0.03333333333333333,
           15.983333333333333,
           32.575,
           38.1,
           37.85,
           0.18333333333333332,
           16.391666666666666,
           5.716666666666667,
           5.733333333333333,
           0.1,
           13.916666666666666,
           31.916666666666668,
           17.766666666666666,
           19.566666666666666,
           42.75,
           5.65,
           12.066666666666666,
           41.7,
           12.833333333333334,
           11.866666666666667,
           18.7,
           15.316666666666666,
           13.116666666666667,
           14.458333333333334,
           23.7,
           25.6,
           34.35,
           30.833333333333332,
           13.308333333333334,
           31.05,
           14.516666666666666
          ],
          "coloraxis": "coloraxis",
          "size": [
           33.23428858722976,
           1,
           5.835164835164835,
           9.93188854489164,
           10.329738058551618,
           113.31447084233261,
           17.465753424657535,
           1,
           36.474095796676444,
           3.71875,
           6.99492385786802,
           154.80739030023094,
           86.01196060037523,
           19.478114478114477,
           114.91128205128206,
           69.18913412563667,
           166.1055359505955,
           16.5640243902439,
           78.67857142857143,
           1.5517241379310345,
           78.16981132075472,
           27.40885684860968,
           3.559090909090909,
           88.73850996852046,
           17.224101479915433,
           10.422382671480145,
           2.652173913043478,
           1,
           173.80127226463105,
           11.720496894409937,
           1,
           39.47007978723404,
           47.1553605313093,
           5.569230769230769,
           6.655038759689923,
           13.418032786885245,
           10.365030674846626,
           25.78686327077748,
           34.30034722222222,
           10.329545454545455,
           1,
           83.66933437439,
           4.763440860215054,
           85.05184603299293,
           295.0344575850489,
           9.275974025974026,
           7.136645962732919,
           67.91928547800198,
           156.26108955979086,
           8.915094339622641,
           27.852064220183486,
           44.267355982274744,
           12.98840579710145,
           1,
           3.0272727272727273,
           102.37817730936143,
           5.124,
           21.615384615384617,
           19.155555555555555,
           337.385891688566,
           1,
           101.77708978328174,
           40.928110599078344,
           1.6666666666666667,
           73.08141382049246,
           7.637096774193548,
           1.3333333333333333,
           23.351925630810094,
           21.866151866151867,
           82.4725656877898,
           40.449805447470816,
           84.51180311401306,
           9.761538461538462,
           155.7621359223301,
           30.732625482625483,
           1.5454545454545454,
           8.78901098901099,
           50.76463700234192,
           1,
           103.24224852071006,
           23.355436081242534,
           26.29433962264151,
           515.787621280198,
           77.35896731667124,
           163.6339971209213,
           57.5603789836348,
           108.82776178879787,
           3.925233644859813,
           6.777777777777778,
           42.79021237303786,
           46.0991452991453,
           4.433333333333334,
           14.197385620915032,
           209.76146657081236,
           119.37403131424956,
           4.012987012987013,
           105.31844538473594,
           216.9171608106912,
           200.22043010752688,
           2.111111111111111,
           116.2457627118644,
           153.52190907220736,
           5.7102272727272725,
           53.75149014213663,
           19.326848249027236,
           19.653113087674715,
           372.14230481416814,
           35.531502423263326,
           20.71108490566038,
           176.25083848190644,
           5.4941176470588236
          ],
          "sizemode": "area",
          "sizeref": 0.5730973569779978,
          "symbol": "circle"
         },
         "mode": "markers",
         "name": "",
         "showlegend": false,
         "type": "scattergeo"
        }
       ],
       "layout": {
        "annotations": [
         {
          "align": "left",
          "font": {
           "color": "black",
           "size": 14
          },
          "showarrow": false,
          "text": "Note: Circle size corresponds to averages vessels per month",
          "x": 0,
          "xref": "paper",
          "y": -0.05,
          "yref": "paper"
         }
        ],
        "coloraxis": {
         "cmax": 50,
         "cmin": 0,
         "colorbar": {
          "title": {
           "text": "Hours at Berth"
          }
         },
         "colorscale": [
          [
           0,
           "#440154"
          ],
          [
           0.1111111111111111,
           "#482878"
          ],
          [
           0.2222222222222222,
           "#3e4989"
          ],
          [
           0.3333333333333333,
           "#31688e"
          ],
          [
           0.4444444444444444,
           "#26828e"
          ],
          [
           0.5555555555555556,
           "#1f9e89"
          ],
          [
           0.6666666666666666,
           "#35b779"
          ],
          [
           0.7777777777777778,
           "#6ece58"
          ],
          [
           0.8888888888888888,
           "#b5de2b"
          ],
          [
           1,
           "#fde725"
          ]
         ]
        },
        "geo": {
         "center": {},
         "domain": {
          "x": [
           0,
           1
          ],
          "y": [
           0,
           1
          ]
         },
         "fitbounds": "locations"
        },
        "height": 600,
        "legend": {
         "itemsizing": "constant",
         "tracegroupgap": 0
        },
        "template": {
         "data": {
          "bar": [
           {
            "error_x": {
             "color": "#2a3f5f"
            },
            "error_y": {
             "color": "#2a3f5f"
            },
            "marker": {
             "line": {
              "color": "#E5ECF6",
              "width": 0.5
             },
             "pattern": {
              "fillmode": "overlay",
              "size": 10,
              "solidity": 0.2
             }
            },
            "type": "bar"
           }
          ],
          "barpolar": [
           {
            "marker": {
             "line": {
              "color": "#E5ECF6",
              "width": 0.5
             },
             "pattern": {
              "fillmode": "overlay",
              "size": 10,
              "solidity": 0.2
             }
            },
            "type": "barpolar"
           }
          ],
          "carpet": [
           {
            "aaxis": {
             "endlinecolor": "#2a3f5f",
             "gridcolor": "white",
             "linecolor": "white",
             "minorgridcolor": "white",
             "startlinecolor": "#2a3f5f"
            },
            "baxis": {
             "endlinecolor": "#2a3f5f",
             "gridcolor": "white",
             "linecolor": "white",
             "minorgridcolor": "white",
             "startlinecolor": "#2a3f5f"
            },
            "type": "carpet"
           }
          ],
          "choropleth": [
           {
            "colorbar": {
             "outlinewidth": 0,
             "ticks": ""
            },
            "type": "choropleth"
           }
          ],
          "contour": [
           {
            "colorbar": {
             "outlinewidth": 0,
             "ticks": ""
            },
            "colorscale": [
             [
              0,
              "#0d0887"
             ],
             [
              0.1111111111111111,
              "#46039f"
             ],
             [
              0.2222222222222222,
              "#7201a8"
             ],
             [
              0.3333333333333333,
              "#9c179e"
             ],
             [
              0.4444444444444444,
              "#bd3786"
             ],
             [
              0.5555555555555556,
              "#d8576b"
             ],
             [
              0.6666666666666666,
              "#ed7953"
             ],
             [
              0.7777777777777778,
              "#fb9f3a"
             ],
             [
              0.8888888888888888,
              "#fdca26"
             ],
             [
              1,
              "#f0f921"
             ]
            ],
            "type": "contour"
           }
          ],
          "contourcarpet": [
           {
            "colorbar": {
             "outlinewidth": 0,
             "ticks": ""
            },
            "type": "contourcarpet"
           }
          ],
          "heatmap": [
           {
            "colorbar": {
             "outlinewidth": 0,
             "ticks": ""
            },
            "colorscale": [
             [
              0,
              "#0d0887"
             ],
             [
              0.1111111111111111,
              "#46039f"
             ],
             [
              0.2222222222222222,
              "#7201a8"
             ],
             [
              0.3333333333333333,
              "#9c179e"
             ],
             [
              0.4444444444444444,
              "#bd3786"
             ],
             [
              0.5555555555555556,
              "#d8576b"
             ],
             [
              0.6666666666666666,
              "#ed7953"
             ],
             [
              0.7777777777777778,
              "#fb9f3a"
             ],
             [
              0.8888888888888888,
              "#fdca26"
             ],
             [
              1,
              "#f0f921"
             ]
            ],
            "type": "heatmap"
           }
          ],
          "heatmapgl": [
           {
            "colorbar": {
             "outlinewidth": 0,
             "ticks": ""
            },
            "colorscale": [
             [
              0,
              "#0d0887"
             ],
             [
              0.1111111111111111,
              "#46039f"
             ],
             [
              0.2222222222222222,
              "#7201a8"
             ],
             [
              0.3333333333333333,
              "#9c179e"
             ],
             [
              0.4444444444444444,
              "#bd3786"
             ],
             [
              0.5555555555555556,
              "#d8576b"
             ],
             [
              0.6666666666666666,
              "#ed7953"
             ],
             [
              0.7777777777777778,
              "#fb9f3a"
             ],
             [
              0.8888888888888888,
              "#fdca26"
             ],
             [
              1,
              "#f0f921"
             ]
            ],
            "type": "heatmapgl"
           }
          ],
          "histogram": [
           {
            "marker": {
             "pattern": {
              "fillmode": "overlay",
              "size": 10,
              "solidity": 0.2
             }
            },
            "type": "histogram"
           }
          ],
          "histogram2d": [
           {
            "colorbar": {
             "outlinewidth": 0,
             "ticks": ""
            },
            "colorscale": [
             [
              0,
              "#0d0887"
             ],
             [
              0.1111111111111111,
              "#46039f"
             ],
             [
              0.2222222222222222,
              "#7201a8"
             ],
             [
              0.3333333333333333,
              "#9c179e"
             ],
             [
              0.4444444444444444,
              "#bd3786"
             ],
             [
              0.5555555555555556,
              "#d8576b"
             ],
             [
              0.6666666666666666,
              "#ed7953"
             ],
             [
              0.7777777777777778,
              "#fb9f3a"
             ],
             [
              0.8888888888888888,
              "#fdca26"
             ],
             [
              1,
              "#f0f921"
             ]
            ],
            "type": "histogram2d"
           }
          ],
          "histogram2dcontour": [
           {
            "colorbar": {
             "outlinewidth": 0,
             "ticks": ""
            },
            "colorscale": [
             [
              0,
              "#0d0887"
             ],
             [
              0.1111111111111111,
              "#46039f"
             ],
             [
              0.2222222222222222,
              "#7201a8"
             ],
             [
              0.3333333333333333,
              "#9c179e"
             ],
             [
              0.4444444444444444,
              "#bd3786"
             ],
             [
              0.5555555555555556,
              "#d8576b"
             ],
             [
              0.6666666666666666,
              "#ed7953"
             ],
             [
              0.7777777777777778,
              "#fb9f3a"
             ],
             [
              0.8888888888888888,
              "#fdca26"
             ],
             [
              1,
              "#f0f921"
             ]
            ],
            "type": "histogram2dcontour"
           }
          ],
          "mesh3d": [
           {
            "colorbar": {
             "outlinewidth": 0,
             "ticks": ""
            },
            "type": "mesh3d"
           }
          ],
          "parcoords": [
           {
            "line": {
             "colorbar": {
              "outlinewidth": 0,
              "ticks": ""
             }
            },
            "type": "parcoords"
           }
          ],
          "pie": [
           {
            "automargin": true,
            "type": "pie"
           }
          ],
          "scatter": [
           {
            "fillpattern": {
             "fillmode": "overlay",
             "size": 10,
             "solidity": 0.2
            },
            "type": "scatter"
           }
          ],
          "scatter3d": [
           {
            "line": {
             "colorbar": {
              "outlinewidth": 0,
              "ticks": ""
             }
            },
            "marker": {
             "colorbar": {
              "outlinewidth": 0,
              "ticks": ""
             }
            },
            "type": "scatter3d"
           }
          ],
          "scattercarpet": [
           {
            "marker": {
             "colorbar": {
              "outlinewidth": 0,
              "ticks": ""
             }
            },
            "type": "scattercarpet"
           }
          ],
          "scattergeo": [
           {
            "marker": {
             "colorbar": {
              "outlinewidth": 0,
              "ticks": ""
             }
            },
            "type": "scattergeo"
           }
          ],
          "scattergl": [
           {
            "marker": {
             "colorbar": {
              "outlinewidth": 0,
              "ticks": ""
             }
            },
            "type": "scattergl"
           }
          ],
          "scattermapbox": [
           {
            "marker": {
             "colorbar": {
              "outlinewidth": 0,
              "ticks": ""
             }
            },
            "type": "scattermapbox"
           }
          ],
          "scatterpolar": [
           {
            "marker": {
             "colorbar": {
              "outlinewidth": 0,
              "ticks": ""
             }
            },
            "type": "scatterpolar"
           }
          ],
          "scatterpolargl": [
           {
            "marker": {
             "colorbar": {
              "outlinewidth": 0,
              "ticks": ""
             }
            },
            "type": "scatterpolargl"
           }
          ],
          "scatterternary": [
           {
            "marker": {
             "colorbar": {
              "outlinewidth": 0,
              "ticks": ""
             }
            },
            "type": "scatterternary"
           }
          ],
          "surface": [
           {
            "colorbar": {
             "outlinewidth": 0,
             "ticks": ""
            },
            "colorscale": [
             [
              0,
              "#0d0887"
             ],
             [
              0.1111111111111111,
              "#46039f"
             ],
             [
              0.2222222222222222,
              "#7201a8"
             ],
             [
              0.3333333333333333,
              "#9c179e"
             ],
             [
              0.4444444444444444,
              "#bd3786"
             ],
             [
              0.5555555555555556,
              "#d8576b"
             ],
             [
              0.6666666666666666,
              "#ed7953"
             ],
             [
              0.7777777777777778,
              "#fb9f3a"
             ],
             [
              0.8888888888888888,
              "#fdca26"
             ],
             [
              1,
              "#f0f921"
             ]
            ],
            "type": "surface"
           }
          ],
          "table": [
           {
            "cells": {
             "fill": {
              "color": "#EBF0F8"
             },
             "line": {
              "color": "white"
             }
            },
            "header": {
             "fill": {
              "color": "#C8D4E3"
             },
             "line": {
              "color": "white"
             }
            },
            "type": "table"
           }
          ]
         },
         "layout": {
          "annotationdefaults": {
           "arrowcolor": "#2a3f5f",
           "arrowhead": 0,
           "arrowwidth": 1
          },
          "autotypenumbers": "strict",
          "coloraxis": {
           "colorbar": {
            "outlinewidth": 0,
            "ticks": ""
           }
          },
          "colorscale": {
           "diverging": [
            [
             0,
             "#8e0152"
            ],
            [
             0.1,
             "#c51b7d"
            ],
            [
             0.2,
             "#de77ae"
            ],
            [
             0.3,
             "#f1b6da"
            ],
            [
             0.4,
             "#fde0ef"
            ],
            [
             0.5,
             "#f7f7f7"
            ],
            [
             0.6,
             "#e6f5d0"
            ],
            [
             0.7,
             "#b8e186"
            ],
            [
             0.8,
             "#7fbc41"
            ],
            [
             0.9,
             "#4d9221"
            ],
            [
             1,
             "#276419"
            ]
           ],
           "sequential": [
            [
             0,
             "#0d0887"
            ],
            [
             0.1111111111111111,
             "#46039f"
            ],
            [
             0.2222222222222222,
             "#7201a8"
            ],
            [
             0.3333333333333333,
             "#9c179e"
            ],
            [
             0.4444444444444444,
             "#bd3786"
            ],
            [
             0.5555555555555556,
             "#d8576b"
            ],
            [
             0.6666666666666666,
             "#ed7953"
            ],
            [
             0.7777777777777778,
             "#fb9f3a"
            ],
            [
             0.8888888888888888,
             "#fdca26"
            ],
            [
             1,
             "#f0f921"
            ]
           ],
           "sequentialminus": [
            [
             0,
             "#0d0887"
            ],
            [
             0.1111111111111111,
             "#46039f"
            ],
            [
             0.2222222222222222,
             "#7201a8"
            ],
            [
             0.3333333333333333,
             "#9c179e"
            ],
            [
             0.4444444444444444,
             "#bd3786"
            ],
            [
             0.5555555555555556,
             "#d8576b"
            ],
            [
             0.6666666666666666,
             "#ed7953"
            ],
            [
             0.7777777777777778,
             "#fb9f3a"
            ],
            [
             0.8888888888888888,
             "#fdca26"
            ],
            [
             1,
             "#f0f921"
            ]
           ]
          },
          "colorway": [
           "#636efa",
           "#EF553B",
           "#00cc96",
           "#ab63fa",
           "#FFA15A",
           "#19d3f3",
           "#FF6692",
           "#B6E880",
           "#FF97FF",
           "#FECB52"
          ],
          "font": {
           "color": "#2a3f5f"
          },
          "geo": {
           "bgcolor": "white",
           "lakecolor": "white",
           "landcolor": "#E5ECF6",
           "showlakes": true,
           "showland": true,
           "subunitcolor": "white"
          },
          "hoverlabel": {
           "align": "left"
          },
          "hovermode": "closest",
          "mapbox": {
           "style": "light"
          },
          "paper_bgcolor": "white",
          "plot_bgcolor": "#E5ECF6",
          "polar": {
           "angularaxis": {
            "gridcolor": "white",
            "linecolor": "white",
            "ticks": ""
           },
           "bgcolor": "#E5ECF6",
           "radialaxis": {
            "gridcolor": "white",
            "linecolor": "white",
            "ticks": ""
           }
          },
          "scene": {
           "xaxis": {
            "backgroundcolor": "#E5ECF6",
            "gridcolor": "white",
            "gridwidth": 2,
            "linecolor": "white",
            "showbackground": true,
            "ticks": "",
            "zerolinecolor": "white"
           },
           "yaxis": {
            "backgroundcolor": "#E5ECF6",
            "gridcolor": "white",
            "gridwidth": 2,
            "linecolor": "white",
            "showbackground": true,
            "ticks": "",
            "zerolinecolor": "white"
           },
           "zaxis": {
            "backgroundcolor": "#E5ECF6",
            "gridcolor": "white",
            "gridwidth": 2,
            "linecolor": "white",
            "showbackground": true,
            "ticks": "",
            "zerolinecolor": "white"
           }
          },
          "shapedefaults": {
           "line": {
            "color": "#2a3f5f"
           }
          },
          "ternary": {
           "aaxis": {
            "gridcolor": "white",
            "linecolor": "white",
            "ticks": ""
           },
           "baxis": {
            "gridcolor": "white",
            "linecolor": "white",
            "ticks": ""
           },
           "bgcolor": "#E5ECF6",
           "caxis": {
            "gridcolor": "white",
            "linecolor": "white",
            "ticks": ""
           }
          },
          "title": {
           "x": 0.05
          },
          "xaxis": {
           "automargin": true,
           "gridcolor": "white",
           "linecolor": "white",
           "ticks": "",
           "title": {
            "standoff": 15
           },
           "zerolinecolor": "white",
           "zerolinewidth": 2
          },
          "yaxis": {
           "automargin": true,
           "gridcolor": "white",
           "linecolor": "white",
           "ticks": "",
           "title": {
            "standoff": 15
           },
           "zerolinecolor": "white",
           "zerolinewidth": 2
          }
         }
        },
        "title": {
         "text": "Avg Vessels per month & Median Hours at Berth (previous 12 months)"
        },
        "width": 1000
       }
      }
     },
     "metadata": {},
     "output_type": "display_data"
    }
   ],
   "source": [
    "#scatterplot\n",
    "fig = px.scatter_geo(\n",
    "    annual_gdf,\n",
    "    lon='lon',\n",
    "    lat='lat',\n",
    "    size='vessels_avg',\n",
    "    color='time_at_berth_avg',\n",
    "    range_color=[0,50],\n",
    "    hover_name='port_name',\n",
    "    size_max=30,\n",
    "    title='Avg Vessels per month & Median Hours at Berth (previous 12 months)',\n",
    "    color_continuous_scale=px.colors.sequential.Viridis,\n",
    "    width=1000,\n",
    "    height=600,\n",
    "    labels={\n",
    "        'time_at_berth_avg':'Hours at Berth'\n",
    "    }\n",
    ")\n",
    "\n",
    "# Fit the view to ports\n",
    "fig.update_geos(fitbounds=\"locations\")\n",
    "\n",
    "# Add footnote using add_annotation\n",
    "fig.add_annotation(\n",
    "    text=\"Note: Circle size corresponds to averages vessels per month\",  # Footnote text\n",
    "    xref=\"paper\", yref=\"paper\",  # Position relative to the plot area\n",
    "    x=0, y=0-0.05,  # Adjust to footnote position\n",
    "    showarrow=False,  # No arrow, just text\n",
    "    font=dict(size=14, color=\"black\"),  # Customize the font style\n",
    "    align=\"left\"\n",
    ")\n",
    "\n",
    "# Show the figure\n",
    "fig.show()"
   ]
  },
  {
   "cell_type": "code",
   "execution_count": 166,
   "metadata": {},
   "outputs": [
    {
     "data": {
      "application/vnd.plotly.v1+json": {
       "config": {
        "plotlyServerURL": "https://plot.ly"
       },
       "data": [
        {
         "geo": "geo",
         "hovertemplate": "<b>%{hovertext}</b><br><br>vessels_avg=%{marker.size}<br>lat=%{lat}<br>lon=%{lon}<br>Hours at Anchor=%{marker.color}<extra></extra>",
         "hovertext": [
          "Greater Lafourche Port, LA",
          "Terrebonne Parish Port, LA",
          "Coos Bay OR, Port of",
          "Clark Township, MI",
          "Grays Harbor Port District, WA",
          "Mobile, AL",
          "Kalaeloa Barbers Point, HI",
          "Port of Columbia County, OR",
          "Oxnard Harbor District, CA",
          "Sandusky, OH",
          "Ashtabula Port Authority, OH",
          "Texas City, TX",
          "Port Freeport, TX",
          "New Haven, CT",
          "Port Arthur, TX",
          "Tampa Port Authority, FL",
          "Baltimore, MD",
          "Northern Indiana District, IN",
          "Port of Palm Beach District, FL",
          "Orange County Nav District, TX",
          "Port of Greater Baton Rouge, LA",
          "Stockton, CA",
          "Marquette, MI",
          "Virgin Islands - St. Croix, VI",
          "Morehead City, NC",
          "Port of Alaska, AK",
          "Port Jefferson, NY",
          "Port of Iberia District, LA",
          "Brownsville, TX",
          "Cleveland-Cuyahoga Port, OH",
          "West St. Mary Parish Port, LA",
          "Port of Providence, RI",
          "Port of Pascagoula, MS",
          "Sacramento-Yolo Port, CA",
          "Mueller Township, MI",
          "Toledo-Lucas County Port, OH",
          "Two Harbors, MN",
          "Canaveral Port District, FL",
          "Port of Longview, WA",
          "Port of Everett, WA",
          "Bridgeport, CT",
          "Galveston, TX",
          "Green Bay, WI",
          "Port of Vancouver USA, WA",
          "New Orleans, LA",
          "Portsmouth, NH",
          "Port of Portland, OR",
          "Conneaut, OH",
          "Albany Port District, NY",
          "San Francisco Port, CA",
          "Silver Bay, MN",
          "Boston, MA",
          "Panama City Port Authority, FL",
          "Alpena, MI",
          "Kahului, Maui, HI",
          "Richmond, CA",
          "Redwood City, CA",
          "Guaynabo, PR",
          "Detroit-Wayne County Port, MI",
          "New York, NY & NJ",
          "Hilo, Hawai'i, HI",
          "Port of Oakland, CA",
          "San Juan, PR",
          null,
          "San Diego Unified Port, CA",
          "Illinois International Port, IL",
          "Nawiliwili, Kaua'i, HI",
          "Unalaska Island, AK",
          "Marine City, MI",
          "Tacoma, WA",
          "Port of Kalama, WA",
          "Guayama, PR",
          "Yabucoa, PR",
          "Port of Los Angeles, CA",
          "Portland, ME",
          "Marblehead, OH",
          "Port of Gulfport, MS",
          "Wilmington, NC",
          "Port of Harlingen Authority, TX",
          "Philadelphia Regional Port, PA",
          "Plaquemines Port District, LA",
          "Duluth-Superior, MN and WI",
          "Houston Port Authority, TX",
          "Lake Charles Harbor District, LA",
          "Corpus Christi, TX",
          "Wilmington, DE",
          "PortMiami, FL",
          "Muskegon, MI",
          "Nikiski, AK",
          "South Jersey Port Corp, NJ",
          "Port of Brunswick, GA",
          "Milwaukee, WI",
          "Valdez, AK",
          "Port of Savannah, GA",
          "Beaumont, TX",
          "Kivalina, AK",
          "Port Everglades, FL",
          "South Louisiana, LA, Port of",
          "Virginia, VA, Port of",
          "Monroe, MI",
          "Jacksonville, FL",
          "Port of Charleston, SC",
          "Presque Isle Township, MI",
          "Seattle, WA",
          "Manatee County Port, FL",
          "Calhoun Port Authority, TX",
          "Anacortes, WA",
          "Honolulu, O'ahu, HI",
          "Searsport, ME",
          "Port of Long Beach, CA",
          "Rogers City, MI"
         ],
         "lat": [
          29.121944999999982,
          29.579070000000016,
          43.36350999999997,
          45.99138999999998,
          46.904156000000036,
          30.69123000000003,
          21.323066000000015,
          45.847484,
          34.14824399999996,
          41.470220000000026,
          41.90368500000001,
          29.36306800000003,
          28.96133000000003,
          41.29883000000003,
          29.83141999999998,
          27.785339999999987,
          39.25082699999997,
          41.62504700000002,
          26.76903999999999,
          30.095369999999946,
          30.422920000000016,
          37.95270000000001,
          46.577291999999964,
          17.752709999999958,
          34.71692999999996,
          61.23778000000001,
          40.94880999999998,
          29.93731400000002,
          25.952201000000002,
          41.47851999999999,
          29.81967300000001,
          41.81177999999999,
          30.34801999999999,
          38.56132299999998,
          45.96942399999999,
          41.66293999999997,
          47.014550999999976,
          28.414089999999984,
          46.14222000000002,
          47.98476000000001,
          41.172,
          29.31048999999998,
          44.516215,
          45.622440000000005,
          29.914139999999975,
          43.073979999999985,
          45.47881000000001,
          41.96671,
          42.64271000000003,
          37.80666500000003,
          47.29420800000001,
          42.34246800000003,
          30.133998000000016,
          45.061966999999974,
          20.898610000000005,
          37.92423699999999,
          37.50535999999999,
          18.43022100000003,
          42.26909400000002,
          40.67394899999999,
          19.730615999999998,
          37.82152,
          18.432782999999972,
          null,
          32.708209999999994,
          41.886620000000015,
          21.95248399999999,
          53.89418500000001,
          42.71544999999999,
          47.28966000000003,
          46.02659599999997,
          17.938939000000016,
          18.05174300000002,
          33.726635000000016,
          43.64950999999999,
          41.52961999999998,
          30.35962100000001,
          34.22736499999998,
          26.201976000000005,
          39.91882,
          29.480004000000008,
          46.77836199999998,
          29.74702299999999,
          30.106406000000028,
          27.812769999999972,
          39.715889999999966,
          25.78286200000004,
          43.22708300000002,
          60.74793,
          39.846444999999974,
          31.132425999999985,
          42.98823999999999,
          61.124730000000014,
          32.08471099999998,
          30.084871999999983,
          67.72676599999993,
          26.09339200000001,
          30.033449999999988,
          36.86641999999996,
          41.91513400000002,
          30.32275700000004,
          32.78878099999997,
          45.29794,
          47.58771099999997,
          27.633680999999985,
          28.62938900000002,
          48.49594299999999,
          21.311110000000035,
          44.45285,
          33.73957000000002,
          45.42229799999998
         ],
         "legendgroup": "",
         "lon": [
          -90.20527900000023,
          -90.65905099999983,
          -124.20949999999986,
          -84.31280999999997,
          -124.17614600000005,
          -88.03583399999998,
          -158.1136830000002,
          -122.79869299999974,
          -119.20847500000015,
          -82.71227000000002,
          -80.79397599999994,
          -94.91809099999998,
          -95.3707000000004,
          -72.90473000000003,
          -93.9606899999997,
          -82.52235,
          -76.56163999999995,
          -87.20250699999995,
          -80.05267000000002,
          -93.7235599999998,
          -91.19933999999976,
          -121.31560000000034,
          -87.384821,
          -64.73242,
          -76.72421000000001,
          -149.8949999999996,
          -73.07215999999997,
          -91.84379499999994,
          -97.3981380000001,
          -81.67191000000001,
          -91.51389600000005,
          -71.39844000000004,
          -88.55879000000003,
          -121.54154100000014,
          -85.872972,
          -83.50750999999998,
          -91.67068500000016,
          -80.60814999999997,
          -122.91399999999975,
          -122.22940000000042,
          -73.17886000000004,
          -94.81269999999991,
          -88.01811800000002,
          -122.68060000000018,
          -90.08525600000007,
          -70.73805999999996,
          -122.66529999999963,
          -80.54860000000004,
          -73.74816000000003,
          -122.39904199999995,
          -91.25638799999999,
          -71.032029,
          -85.63376199999999,
          -83.42173300000003,
          -156.4727999999997,
          -122.37423299999986,
          -122.21401199999977,
          -66.11114099999999,
          -83.10958600000001,
          -74.03835699999998,
          -155.0547780000002,
          -122.30810000000015,
          -66.09667800000001,
          null,
          -117.17839999999974,
          -87.63798999999999,
          -159.35231900000005,
          -166.5499160000001,
          -82.50235000000005,
          -122.45149999999964,
          -122.86685999999972,
          -66.15600200000002,
          -65.83622600000001,
          -118.26809900000029,
          -70.25133999999998,
          -82.70905999999998,
          -89.092568,
          -77.95049600000002,
          -97.59710500000041,
          -75.20219099999998,
          -89.68744699999998,
          -92.0964080000003,
          -95.29367900000028,
          -93.28683900000004,
          -97.39789000000025,
          -75.50696999999997,
          -80.18164200000001,
          -86.34316000000001,
          -151.31439999999984,
          -75.261085,
          -81.53666000000001,
          -87.89967000000003,
          -146.3463999999997,
          -81.09538199999996,
          -94.09498499999985,
          -164.5268899999997,
          -80.11780099999996,
          -90.61793999999985,
          -76.31174000000001,
          -83.39060899999993,
          -81.66512500000005,
          -79.92159500000001,
          -83.42138200000002,
          -122.35921800000041,
          -82.56414299999996,
          -96.59232400000002,
          -122.59960999999971,
          -157.87169999999958,
          -68.92497000000002,
          -118.20950000000023,
          -83.81197199999998
         ],
         "marker": {
          "color": [
           18.358333333333334,
           null,
           20.1,
           8.4,
           62.25833333333333,
           20.3,
           34.15,
           null,
           13.516666666666666,
           17.28333333333333,
           9.541666666666666,
           21.216666666666665,
           20.3,
           12.5,
           23.716666666666665,
           17.95,
           7.358333333333333,
           13.533333333333333,
           11.283333333333333,
           7.066666666666666,
           18.433333333333334,
           19.883333333333333,
           10.733333333333333,
           15.816666666666666,
           18.633333333333333,
           20.525,
           33.03333333333333,
           0.11666666666666667,
           29.175,
           8.358333333333333,
           3.6999999999999997,
           13.4,
           0.03333333333333333,
           24.233333333333334,
           9.45,
           14.2,
           12.733333333333333,
           15.408333333333333,
           31.974999999999998,
           47.125,
           null,
           16.933333333333334,
           17.28333333333333,
           32.40833333333333,
           35.24166666666667,
           13.299999999999999,
           53.75833333333333,
           14.316666666666666,
           11.733333333333333,
           10.65,
           13.299999999999999,
           10.85,
           31.183333333333334,
           null,
           76.24166666666666,
           26.316666666666666,
           12.566666666666666,
           15.85,
           9.416666666666666,
           10.583333333333334,
           null,
           11.875,
           10.85,
           5288.133333333333,
           25.308333333333334,
           8.616666666666667,
           183.7,
           121.18333333333334,
           8.3,
           23.016666666666666,
           89.53333333333333,
           13.983333333333333,
           22.308333333333334,
           22.516666666666666,
           11.575,
           13.25,
           24.6,
           13.666666666666666,
           66.15,
           6.983333333333333,
           37.8,
           9.75,
           24.65833333333333,
           23.066666666666666,
           26.266666666666666,
           0.625,
           33.6,
           20.716666666666665,
           17.075,
           1.125,
           18.933333333333334,
           9.2,
           23.833333333333332,
           24.666666666666668,
           25.416666666666668,
           25.616666666666667,
           14.566666666666666,
           25.608333333333334,
           14.266666666666666,
           20.266666666666666,
           14.45,
           16.383333333333333,
           14.533333333333333,
           21.583333333333332,
           20.041666666666668,
           17.85,
           40.55,
           24.2,
           1.675,
           30.366666666666667,
           8.575
          ],
          "coloraxis": "coloraxis",
          "size": [
           33.23428858722976,
           1,
           5.835164835164835,
           9.93188854489164,
           10.329738058551618,
           113.31447084233261,
           17.465753424657535,
           1,
           36.474095796676444,
           3.71875,
           6.99492385786802,
           154.80739030023094,
           86.01196060037523,
           19.478114478114477,
           114.91128205128206,
           69.18913412563667,
           166.1055359505955,
           16.5640243902439,
           78.67857142857143,
           1.5517241379310345,
           78.16981132075472,
           27.40885684860968,
           3.559090909090909,
           88.73850996852046,
           17.224101479915433,
           10.422382671480145,
           2.652173913043478,
           1,
           173.80127226463105,
           11.720496894409937,
           1,
           39.47007978723404,
           47.1553605313093,
           5.569230769230769,
           6.655038759689923,
           13.418032786885245,
           10.365030674846626,
           25.78686327077748,
           34.30034722222222,
           10.329545454545455,
           1,
           83.66933437439,
           4.763440860215054,
           85.05184603299293,
           295.0344575850489,
           9.275974025974026,
           7.136645962732919,
           67.91928547800198,
           156.26108955979086,
           8.915094339622641,
           27.852064220183486,
           44.267355982274744,
           12.98840579710145,
           1,
           3.0272727272727273,
           102.37817730936143,
           5.124,
           21.615384615384617,
           19.155555555555555,
           337.385891688566,
           1,
           101.77708978328174,
           40.928110599078344,
           1.6666666666666667,
           73.08141382049246,
           7.637096774193548,
           1.3333333333333333,
           23.351925630810094,
           21.866151866151867,
           82.4725656877898,
           40.449805447470816,
           84.51180311401306,
           9.761538461538462,
           155.7621359223301,
           30.732625482625483,
           1.5454545454545454,
           8.78901098901099,
           50.76463700234192,
           1,
           103.24224852071006,
           23.355436081242534,
           26.29433962264151,
           515.787621280198,
           77.35896731667124,
           163.6339971209213,
           57.5603789836348,
           108.82776178879787,
           3.925233644859813,
           6.777777777777778,
           42.79021237303786,
           46.0991452991453,
           4.433333333333334,
           14.197385620915032,
           209.76146657081236,
           119.37403131424956,
           4.012987012987013,
           105.31844538473594,
           216.9171608106912,
           200.22043010752688,
           2.111111111111111,
           116.2457627118644,
           153.52190907220736,
           5.7102272727272725,
           53.75149014213663,
           19.326848249027236,
           19.653113087674715,
           372.14230481416814,
           35.531502423263326,
           20.71108490566038,
           176.25083848190644,
           5.4941176470588236
          ],
          "sizemode": "area",
          "sizeref": 0.5730973569779978,
          "symbol": "circle"
         },
         "mode": "markers",
         "name": "",
         "showlegend": false,
         "type": "scattergeo"
        }
       ],
       "layout": {
        "annotations": [
         {
          "align": "left",
          "font": {
           "color": "black",
           "size": 14
          },
          "showarrow": false,
          "text": "Note: Circle size corresponds to averages vessels per month",
          "x": 0,
          "xref": "paper",
          "y": -0.05,
          "yref": "paper"
         }
        ],
        "coloraxis": {
         "cmax": 50,
         "cmin": 0,
         "colorbar": {
          "title": {
           "text": "Hours at Anchor"
          }
         },
         "colorscale": [
          [
           0,
           "#440154"
          ],
          [
           0.1111111111111111,
           "#482878"
          ],
          [
           0.2222222222222222,
           "#3e4989"
          ],
          [
           0.3333333333333333,
           "#31688e"
          ],
          [
           0.4444444444444444,
           "#26828e"
          ],
          [
           0.5555555555555556,
           "#1f9e89"
          ],
          [
           0.6666666666666666,
           "#35b779"
          ],
          [
           0.7777777777777778,
           "#6ece58"
          ],
          [
           0.8888888888888888,
           "#b5de2b"
          ],
          [
           1,
           "#fde725"
          ]
         ]
        },
        "geo": {
         "center": {},
         "domain": {
          "x": [
           0,
           1
          ],
          "y": [
           0,
           1
          ]
         },
         "fitbounds": "locations"
        },
        "height": 600,
        "legend": {
         "itemsizing": "constant",
         "tracegroupgap": 0
        },
        "template": {
         "data": {
          "bar": [
           {
            "error_x": {
             "color": "#2a3f5f"
            },
            "error_y": {
             "color": "#2a3f5f"
            },
            "marker": {
             "line": {
              "color": "#E5ECF6",
              "width": 0.5
             },
             "pattern": {
              "fillmode": "overlay",
              "size": 10,
              "solidity": 0.2
             }
            },
            "type": "bar"
           }
          ],
          "barpolar": [
           {
            "marker": {
             "line": {
              "color": "#E5ECF6",
              "width": 0.5
             },
             "pattern": {
              "fillmode": "overlay",
              "size": 10,
              "solidity": 0.2
             }
            },
            "type": "barpolar"
           }
          ],
          "carpet": [
           {
            "aaxis": {
             "endlinecolor": "#2a3f5f",
             "gridcolor": "white",
             "linecolor": "white",
             "minorgridcolor": "white",
             "startlinecolor": "#2a3f5f"
            },
            "baxis": {
             "endlinecolor": "#2a3f5f",
             "gridcolor": "white",
             "linecolor": "white",
             "minorgridcolor": "white",
             "startlinecolor": "#2a3f5f"
            },
            "type": "carpet"
           }
          ],
          "choropleth": [
           {
            "colorbar": {
             "outlinewidth": 0,
             "ticks": ""
            },
            "type": "choropleth"
           }
          ],
          "contour": [
           {
            "colorbar": {
             "outlinewidth": 0,
             "ticks": ""
            },
            "colorscale": [
             [
              0,
              "#0d0887"
             ],
             [
              0.1111111111111111,
              "#46039f"
             ],
             [
              0.2222222222222222,
              "#7201a8"
             ],
             [
              0.3333333333333333,
              "#9c179e"
             ],
             [
              0.4444444444444444,
              "#bd3786"
             ],
             [
              0.5555555555555556,
              "#d8576b"
             ],
             [
              0.6666666666666666,
              "#ed7953"
             ],
             [
              0.7777777777777778,
              "#fb9f3a"
             ],
             [
              0.8888888888888888,
              "#fdca26"
             ],
             [
              1,
              "#f0f921"
             ]
            ],
            "type": "contour"
           }
          ],
          "contourcarpet": [
           {
            "colorbar": {
             "outlinewidth": 0,
             "ticks": ""
            },
            "type": "contourcarpet"
           }
          ],
          "heatmap": [
           {
            "colorbar": {
             "outlinewidth": 0,
             "ticks": ""
            },
            "colorscale": [
             [
              0,
              "#0d0887"
             ],
             [
              0.1111111111111111,
              "#46039f"
             ],
             [
              0.2222222222222222,
              "#7201a8"
             ],
             [
              0.3333333333333333,
              "#9c179e"
             ],
             [
              0.4444444444444444,
              "#bd3786"
             ],
             [
              0.5555555555555556,
              "#d8576b"
             ],
             [
              0.6666666666666666,
              "#ed7953"
             ],
             [
              0.7777777777777778,
              "#fb9f3a"
             ],
             [
              0.8888888888888888,
              "#fdca26"
             ],
             [
              1,
              "#f0f921"
             ]
            ],
            "type": "heatmap"
           }
          ],
          "heatmapgl": [
           {
            "colorbar": {
             "outlinewidth": 0,
             "ticks": ""
            },
            "colorscale": [
             [
              0,
              "#0d0887"
             ],
             [
              0.1111111111111111,
              "#46039f"
             ],
             [
              0.2222222222222222,
              "#7201a8"
             ],
             [
              0.3333333333333333,
              "#9c179e"
             ],
             [
              0.4444444444444444,
              "#bd3786"
             ],
             [
              0.5555555555555556,
              "#d8576b"
             ],
             [
              0.6666666666666666,
              "#ed7953"
             ],
             [
              0.7777777777777778,
              "#fb9f3a"
             ],
             [
              0.8888888888888888,
              "#fdca26"
             ],
             [
              1,
              "#f0f921"
             ]
            ],
            "type": "heatmapgl"
           }
          ],
          "histogram": [
           {
            "marker": {
             "pattern": {
              "fillmode": "overlay",
              "size": 10,
              "solidity": 0.2
             }
            },
            "type": "histogram"
           }
          ],
          "histogram2d": [
           {
            "colorbar": {
             "outlinewidth": 0,
             "ticks": ""
            },
            "colorscale": [
             [
              0,
              "#0d0887"
             ],
             [
              0.1111111111111111,
              "#46039f"
             ],
             [
              0.2222222222222222,
              "#7201a8"
             ],
             [
              0.3333333333333333,
              "#9c179e"
             ],
             [
              0.4444444444444444,
              "#bd3786"
             ],
             [
              0.5555555555555556,
              "#d8576b"
             ],
             [
              0.6666666666666666,
              "#ed7953"
             ],
             [
              0.7777777777777778,
              "#fb9f3a"
             ],
             [
              0.8888888888888888,
              "#fdca26"
             ],
             [
              1,
              "#f0f921"
             ]
            ],
            "type": "histogram2d"
           }
          ],
          "histogram2dcontour": [
           {
            "colorbar": {
             "outlinewidth": 0,
             "ticks": ""
            },
            "colorscale": [
             [
              0,
              "#0d0887"
             ],
             [
              0.1111111111111111,
              "#46039f"
             ],
             [
              0.2222222222222222,
              "#7201a8"
             ],
             [
              0.3333333333333333,
              "#9c179e"
             ],
             [
              0.4444444444444444,
              "#bd3786"
             ],
             [
              0.5555555555555556,
              "#d8576b"
             ],
             [
              0.6666666666666666,
              "#ed7953"
             ],
             [
              0.7777777777777778,
              "#fb9f3a"
             ],
             [
              0.8888888888888888,
              "#fdca26"
             ],
             [
              1,
              "#f0f921"
             ]
            ],
            "type": "histogram2dcontour"
           }
          ],
          "mesh3d": [
           {
            "colorbar": {
             "outlinewidth": 0,
             "ticks": ""
            },
            "type": "mesh3d"
           }
          ],
          "parcoords": [
           {
            "line": {
             "colorbar": {
              "outlinewidth": 0,
              "ticks": ""
             }
            },
            "type": "parcoords"
           }
          ],
          "pie": [
           {
            "automargin": true,
            "type": "pie"
           }
          ],
          "scatter": [
           {
            "fillpattern": {
             "fillmode": "overlay",
             "size": 10,
             "solidity": 0.2
            },
            "type": "scatter"
           }
          ],
          "scatter3d": [
           {
            "line": {
             "colorbar": {
              "outlinewidth": 0,
              "ticks": ""
             }
            },
            "marker": {
             "colorbar": {
              "outlinewidth": 0,
              "ticks": ""
             }
            },
            "type": "scatter3d"
           }
          ],
          "scattercarpet": [
           {
            "marker": {
             "colorbar": {
              "outlinewidth": 0,
              "ticks": ""
             }
            },
            "type": "scattercarpet"
           }
          ],
          "scattergeo": [
           {
            "marker": {
             "colorbar": {
              "outlinewidth": 0,
              "ticks": ""
             }
            },
            "type": "scattergeo"
           }
          ],
          "scattergl": [
           {
            "marker": {
             "colorbar": {
              "outlinewidth": 0,
              "ticks": ""
             }
            },
            "type": "scattergl"
           }
          ],
          "scattermapbox": [
           {
            "marker": {
             "colorbar": {
              "outlinewidth": 0,
              "ticks": ""
             }
            },
            "type": "scattermapbox"
           }
          ],
          "scatterpolar": [
           {
            "marker": {
             "colorbar": {
              "outlinewidth": 0,
              "ticks": ""
             }
            },
            "type": "scatterpolar"
           }
          ],
          "scatterpolargl": [
           {
            "marker": {
             "colorbar": {
              "outlinewidth": 0,
              "ticks": ""
             }
            },
            "type": "scatterpolargl"
           }
          ],
          "scatterternary": [
           {
            "marker": {
             "colorbar": {
              "outlinewidth": 0,
              "ticks": ""
             }
            },
            "type": "scatterternary"
           }
          ],
          "surface": [
           {
            "colorbar": {
             "outlinewidth": 0,
             "ticks": ""
            },
            "colorscale": [
             [
              0,
              "#0d0887"
             ],
             [
              0.1111111111111111,
              "#46039f"
             ],
             [
              0.2222222222222222,
              "#7201a8"
             ],
             [
              0.3333333333333333,
              "#9c179e"
             ],
             [
              0.4444444444444444,
              "#bd3786"
             ],
             [
              0.5555555555555556,
              "#d8576b"
             ],
             [
              0.6666666666666666,
              "#ed7953"
             ],
             [
              0.7777777777777778,
              "#fb9f3a"
             ],
             [
              0.8888888888888888,
              "#fdca26"
             ],
             [
              1,
              "#f0f921"
             ]
            ],
            "type": "surface"
           }
          ],
          "table": [
           {
            "cells": {
             "fill": {
              "color": "#EBF0F8"
             },
             "line": {
              "color": "white"
             }
            },
            "header": {
             "fill": {
              "color": "#C8D4E3"
             },
             "line": {
              "color": "white"
             }
            },
            "type": "table"
           }
          ]
         },
         "layout": {
          "annotationdefaults": {
           "arrowcolor": "#2a3f5f",
           "arrowhead": 0,
           "arrowwidth": 1
          },
          "autotypenumbers": "strict",
          "coloraxis": {
           "colorbar": {
            "outlinewidth": 0,
            "ticks": ""
           }
          },
          "colorscale": {
           "diverging": [
            [
             0,
             "#8e0152"
            ],
            [
             0.1,
             "#c51b7d"
            ],
            [
             0.2,
             "#de77ae"
            ],
            [
             0.3,
             "#f1b6da"
            ],
            [
             0.4,
             "#fde0ef"
            ],
            [
             0.5,
             "#f7f7f7"
            ],
            [
             0.6,
             "#e6f5d0"
            ],
            [
             0.7,
             "#b8e186"
            ],
            [
             0.8,
             "#7fbc41"
            ],
            [
             0.9,
             "#4d9221"
            ],
            [
             1,
             "#276419"
            ]
           ],
           "sequential": [
            [
             0,
             "#0d0887"
            ],
            [
             0.1111111111111111,
             "#46039f"
            ],
            [
             0.2222222222222222,
             "#7201a8"
            ],
            [
             0.3333333333333333,
             "#9c179e"
            ],
            [
             0.4444444444444444,
             "#bd3786"
            ],
            [
             0.5555555555555556,
             "#d8576b"
            ],
            [
             0.6666666666666666,
             "#ed7953"
            ],
            [
             0.7777777777777778,
             "#fb9f3a"
            ],
            [
             0.8888888888888888,
             "#fdca26"
            ],
            [
             1,
             "#f0f921"
            ]
           ],
           "sequentialminus": [
            [
             0,
             "#0d0887"
            ],
            [
             0.1111111111111111,
             "#46039f"
            ],
            [
             0.2222222222222222,
             "#7201a8"
            ],
            [
             0.3333333333333333,
             "#9c179e"
            ],
            [
             0.4444444444444444,
             "#bd3786"
            ],
            [
             0.5555555555555556,
             "#d8576b"
            ],
            [
             0.6666666666666666,
             "#ed7953"
            ],
            [
             0.7777777777777778,
             "#fb9f3a"
            ],
            [
             0.8888888888888888,
             "#fdca26"
            ],
            [
             1,
             "#f0f921"
            ]
           ]
          },
          "colorway": [
           "#636efa",
           "#EF553B",
           "#00cc96",
           "#ab63fa",
           "#FFA15A",
           "#19d3f3",
           "#FF6692",
           "#B6E880",
           "#FF97FF",
           "#FECB52"
          ],
          "font": {
           "color": "#2a3f5f"
          },
          "geo": {
           "bgcolor": "white",
           "lakecolor": "white",
           "landcolor": "#E5ECF6",
           "showlakes": true,
           "showland": true,
           "subunitcolor": "white"
          },
          "hoverlabel": {
           "align": "left"
          },
          "hovermode": "closest",
          "mapbox": {
           "style": "light"
          },
          "paper_bgcolor": "white",
          "plot_bgcolor": "#E5ECF6",
          "polar": {
           "angularaxis": {
            "gridcolor": "white",
            "linecolor": "white",
            "ticks": ""
           },
           "bgcolor": "#E5ECF6",
           "radialaxis": {
            "gridcolor": "white",
            "linecolor": "white",
            "ticks": ""
           }
          },
          "scene": {
           "xaxis": {
            "backgroundcolor": "#E5ECF6",
            "gridcolor": "white",
            "gridwidth": 2,
            "linecolor": "white",
            "showbackground": true,
            "ticks": "",
            "zerolinecolor": "white"
           },
           "yaxis": {
            "backgroundcolor": "#E5ECF6",
            "gridcolor": "white",
            "gridwidth": 2,
            "linecolor": "white",
            "showbackground": true,
            "ticks": "",
            "zerolinecolor": "white"
           },
           "zaxis": {
            "backgroundcolor": "#E5ECF6",
            "gridcolor": "white",
            "gridwidth": 2,
            "linecolor": "white",
            "showbackground": true,
            "ticks": "",
            "zerolinecolor": "white"
           }
          },
          "shapedefaults": {
           "line": {
            "color": "#2a3f5f"
           }
          },
          "ternary": {
           "aaxis": {
            "gridcolor": "white",
            "linecolor": "white",
            "ticks": ""
           },
           "baxis": {
            "gridcolor": "white",
            "linecolor": "white",
            "ticks": ""
           },
           "bgcolor": "#E5ECF6",
           "caxis": {
            "gridcolor": "white",
            "linecolor": "white",
            "ticks": ""
           }
          },
          "title": {
           "x": 0.05
          },
          "xaxis": {
           "automargin": true,
           "gridcolor": "white",
           "linecolor": "white",
           "ticks": "",
           "title": {
            "standoff": 15
           },
           "zerolinecolor": "white",
           "zerolinewidth": 2
          },
          "yaxis": {
           "automargin": true,
           "gridcolor": "white",
           "linecolor": "white",
           "ticks": "",
           "title": {
            "standoff": 15
           },
           "zerolinecolor": "white",
           "zerolinewidth": 2
          }
         }
        },
        "title": {
         "text": "Avg Vessels per month & Median Hours at Anchor (previous 12 months)"
        },
        "width": 1000
       }
      }
     },
     "metadata": {},
     "output_type": "display_data"
    }
   ],
   "source": [
    "#scatterplot\n",
    "fig = px.scatter_geo(\n",
    "    annual_gdf,\n",
    "    lon='lon',\n",
    "    lat='lat',\n",
    "    size='vessels_avg',\n",
    "    color='time_at_anchor_avg',\n",
    "    range_color=[0,50],\n",
    "    hover_name='port_name',\n",
    "    size_max=30,\n",
    "    title='Avg Vessels per month & Median Hours at Anchor (previous 12 months)',\n",
    "    color_continuous_scale=px.colors.sequential.Viridis,\n",
    "    width=1000,\n",
    "    height=600,\n",
    "    labels={\n",
    "        'time_at_anchor_avg':'Hours at Anchor'\n",
    "    }\n",
    ")\n",
    "\n",
    "# Fit the view to ports\n",
    "fig.update_geos(fitbounds=\"locations\")\n",
    "\n",
    "# Add footnote using add_annotation\n",
    "fig.add_annotation(\n",
    "    text=\"Note: Circle size corresponds to averages vessels per month\",  # Footnote text\n",
    "    xref=\"paper\", yref=\"paper\",  # Position relative to the plot area\n",
    "    x=0, y=0-0.05,  # Adjust to footnote position\n",
    "    showarrow=False,  # No arrow, just text\n",
    "    font=dict(size=14, color=\"black\"),  # Customize the font style\n",
    "    align=\"left\"\n",
    ")\n",
    "\n",
    "# Show the figure\n",
    "fig.show()"
   ]
  },
  {
   "cell_type": "code",
   "execution_count": 156,
   "metadata": {},
   "outputs": [
    {
     "data": {
      "text/html": [
       "<div><style>\n",
       ".dataframe > thead > tr,\n",
       ".dataframe > tbody > tr {\n",
       "  text-align: right;\n",
       "  white-space: pre-wrap;\n",
       "}\n",
       "</style>\n",
       "<small>shape: (5, 7)</small><table border=\"1\" class=\"dataframe\"><thead><tr><th>port_name</th><th>month</th><th>lat</th><th>lon</th><th>vessels_avg</th><th>time_at_berth_avg</th><th>time_at_anchor_avg</th></tr><tr><td>str</td><td>str</td><td>f64</td><td>f64</td><td>u32</td><td>f64</td><td>f64</td></tr></thead><tbody><tr><td>&quot;Monroe, MI&quot;</td><td>&quot;201911&quot;</td><td>41.915134</td><td>-83.390609</td><td>4</td><td>8.75</td><td>20.266667</td></tr><tr><td>&quot;Cleveland-Cuyahoga Port, OH&quot;</td><td>&quot;201904&quot;</td><td>41.47852</td><td>-81.67191</td><td>12</td><td>27.766667</td><td>6.741667</td></tr><tr><td>&quot;PortMiami, FL&quot;</td><td>&quot;201811&quot;</td><td>25.782862</td><td>-80.181642</td><td>89</td><td>19.166667</td><td>23.433333</td></tr><tr><td>&quot;Unalaska Island, AK&quot;</td><td>&quot;201804&quot;</td><td>53.894185</td><td>-166.549916</td><td>25</td><td>30.8</td><td>263.316667</td></tr><tr><td>&quot;Port Arthur, TX&quot;</td><td>&quot;201905&quot;</td><td>29.83142</td><td>-93.96069</td><td>125</td><td>1.983333</td><td>9.25</td></tr></tbody></table></div>"
      ],
      "text/plain": [
       "shape: (5, 7)\n",
       "┌────────────────┬────────┬───────────┬─────────────┬─────────────┬────────────────┬───────────────┐\n",
       "│ port_name      ┆ month  ┆ lat       ┆ lon         ┆ vessels_avg ┆ time_at_berth_ ┆ time_at_ancho │\n",
       "│ ---            ┆ ---    ┆ ---       ┆ ---         ┆ ---         ┆ avg            ┆ r_avg         │\n",
       "│ str            ┆ str    ┆ f64       ┆ f64         ┆ u32         ┆ ---            ┆ ---           │\n",
       "│                ┆        ┆           ┆             ┆             ┆ f64            ┆ f64           │\n",
       "╞════════════════╪════════╪═══════════╪═════════════╪═════════════╪════════════════╪═══════════════╡\n",
       "│ Monroe, MI     ┆ 201911 ┆ 41.915134 ┆ -83.390609  ┆ 4           ┆ 8.75           ┆ 20.266667     │\n",
       "│ Cleveland-Cuya ┆ 201904 ┆ 41.47852  ┆ -81.67191   ┆ 12          ┆ 27.766667      ┆ 6.741667      │\n",
       "│ hoga Port, OH  ┆        ┆           ┆             ┆             ┆                ┆               │\n",
       "│ PortMiami, FL  ┆ 201811 ┆ 25.782862 ┆ -80.181642  ┆ 89          ┆ 19.166667      ┆ 23.433333     │\n",
       "│ Unalaska       ┆ 201804 ┆ 53.894185 ┆ -166.549916 ┆ 25          ┆ 30.8           ┆ 263.316667    │\n",
       "│ Island, AK     ┆        ┆           ┆             ┆             ┆                ┆               │\n",
       "│ Port Arthur,   ┆ 201905 ┆ 29.83142  ┆ -93.96069   ┆ 125         ┆ 1.983333       ┆ 9.25          │\n",
       "│ TX             ┆        ┆           ┆             ┆             ┆                ┆               │\n",
       "└────────────────┴────────┴───────────┴─────────────┴─────────────┴────────────────┴───────────────┘"
      ]
     },
     "execution_count": 156,
     "metadata": {},
     "output_type": "execute_result"
    }
   ],
   "source": [
    "monthly_gdf.head()"
   ]
  },
  {
   "cell_type": "code",
   "execution_count": 157,
   "metadata": {},
   "outputs": [
    {
     "data": {
      "application/vnd.plotly.v1+json": {
       "config": {
        "plotlyServerURL": "https://plot.ly"
       },
       "data": [
        {
         "hovertemplate": "port_name=Marine City, MI<br>month=%{x}<br>vessels_avg=%{y}<extra></extra>",
         "legendgroup": "Marine City, MI",
         "line": {
          "color": "#636efa",
          "dash": "solid"
         },
         "marker": {
          "symbol": "circle"
         },
         "mode": "lines",
         "name": "Marine City, MI",
         "showlegend": true,
         "type": "scattergl",
         "x": [
          "2018-01-01T00:00:00",
          "2018-02-01T00:00:00",
          "2018-03-01T00:00:00",
          "2018-04-01T00:00:00",
          "2018-05-01T00:00:00",
          "2018-06-01T00:00:00",
          "2018-07-01T00:00:00",
          "2018-08-01T00:00:00",
          "2018-09-01T00:00:00",
          "2018-10-01T00:00:00",
          "2018-11-01T00:00:00",
          "2018-12-01T00:00:00",
          "2019-01-01T00:00:00",
          "2019-02-01T00:00:00",
          "2019-03-01T00:00:00",
          "2019-04-01T00:00:00",
          "2019-05-01T00:00:00",
          "2019-06-01T00:00:00",
          "2019-07-01T00:00:00",
          "2019-08-01T00:00:00",
          "2019-09-01T00:00:00",
          "2019-10-01T00:00:00",
          "2019-11-01T00:00:00",
          "2019-12-01T00:00:00"
         ],
         "xaxis": "x",
         "y": [
          14,
          7,
          16,
          18,
          30,
          21,
          19,
          11,
          17,
          19,
          24,
          19,
          12,
          7,
          10,
          21,
          27,
          22,
          21,
          24,
          26,
          24,
          24,
          21
         ],
         "yaxis": "y"
        },
        {
         "hovertemplate": "port_name=Port of Providence, RI<br>month=%{x}<br>vessels_avg=%{y}<extra></extra>",
         "legendgroup": "Port of Providence, RI",
         "line": {
          "color": "#EF553B",
          "dash": "solid"
         },
         "marker": {
          "symbol": "circle"
         },
         "mode": "lines",
         "name": "Port of Providence, RI",
         "showlegend": true,
         "type": "scattergl",
         "x": [
          "2018-01-01T00:00:00",
          "2018-02-01T00:00:00",
          "2018-03-01T00:00:00",
          "2018-04-01T00:00:00",
          "2018-05-01T00:00:00",
          "2018-06-01T00:00:00",
          "2018-07-01T00:00:00",
          "2018-08-01T00:00:00",
          "2018-09-01T00:00:00",
          "2018-10-01T00:00:00",
          "2018-11-01T00:00:00",
          "2018-12-01T00:00:00",
          "2019-01-01T00:00:00",
          "2019-02-01T00:00:00",
          "2019-03-01T00:00:00",
          "2019-04-01T00:00:00",
          "2019-05-01T00:00:00",
          "2019-06-01T00:00:00",
          "2019-07-01T00:00:00",
          "2019-08-01T00:00:00",
          "2019-09-01T00:00:00",
          "2019-10-01T00:00:00",
          "2019-11-01T00:00:00",
          "2019-12-01T00:00:00"
         ],
         "xaxis": "x",
         "y": [
          43,
          34,
          33,
          37,
          36,
          36,
          43,
          47,
          40,
          40,
          25,
          40,
          39,
          32,
          37,
          42,
          39,
          33,
          42,
          42,
          43,
          40,
          42,
          34
         ],
         "yaxis": "y"
        },
        {
         "hovertemplate": "port_name=South Jersey Port Corp, NJ<br>month=%{x}<br>vessels_avg=%{y}<extra></extra>",
         "legendgroup": "South Jersey Port Corp, NJ",
         "line": {
          "color": "#00cc96",
          "dash": "solid"
         },
         "marker": {
          "symbol": "circle"
         },
         "mode": "lines",
         "name": "South Jersey Port Corp, NJ",
         "showlegend": true,
         "type": "scattergl",
         "x": [
          "2018-01-01T00:00:00",
          "2018-02-01T00:00:00",
          "2018-03-01T00:00:00",
          "2018-04-01T00:00:00",
          "2018-05-01T00:00:00",
          "2018-06-01T00:00:00",
          "2018-07-01T00:00:00",
          "2018-08-01T00:00:00",
          "2018-09-01T00:00:00",
          "2018-10-01T00:00:00",
          "2018-11-01T00:00:00",
          "2018-12-01T00:00:00",
          "2019-01-01T00:00:00",
          "2019-02-01T00:00:00",
          "2019-03-01T00:00:00",
          "2019-04-01T00:00:00",
          "2019-05-01T00:00:00",
          "2019-06-01T00:00:00",
          "2019-07-01T00:00:00",
          "2019-08-01T00:00:00",
          "2019-09-01T00:00:00",
          "2019-10-01T00:00:00",
          "2019-11-01T00:00:00",
          "2019-12-01T00:00:00"
         ],
         "xaxis": "x",
         "y": [
          72,
          67,
          69,
          73,
          64,
          69,
          52,
          64,
          55,
          48,
          47,
          53,
          53,
          41,
          52,
          48,
          54,
          39,
          45,
          29,
          31,
          44,
          43,
          63
         ],
         "yaxis": "y"
        },
        {
         "hovertemplate": "port_name=Boston, MA<br>month=%{x}<br>vessels_avg=%{y}<extra></extra>",
         "legendgroup": "Boston, MA",
         "line": {
          "color": "#ab63fa",
          "dash": "solid"
         },
         "marker": {
          "symbol": "circle"
         },
         "mode": "lines",
         "name": "Boston, MA",
         "showlegend": true,
         "type": "scattergl",
         "x": [
          "2018-01-01T00:00:00",
          "2018-02-01T00:00:00",
          "2018-03-01T00:00:00",
          "2018-04-01T00:00:00",
          "2018-05-01T00:00:00",
          "2018-06-01T00:00:00",
          "2018-07-01T00:00:00",
          "2018-08-01T00:00:00",
          "2018-09-01T00:00:00",
          "2018-10-01T00:00:00",
          "2018-11-01T00:00:00",
          "2018-12-01T00:00:00",
          "2019-01-01T00:00:00",
          "2019-02-01T00:00:00",
          "2019-03-01T00:00:00",
          "2019-04-01T00:00:00",
          "2019-05-01T00:00:00",
          "2019-06-01T00:00:00",
          "2019-07-01T00:00:00",
          "2019-08-01T00:00:00",
          "2019-09-01T00:00:00",
          "2019-10-01T00:00:00",
          "2019-11-01T00:00:00",
          "2019-12-01T00:00:00"
         ],
         "xaxis": "x",
         "y": [
          59,
          47,
          41,
          35,
          49,
          46,
          45,
          43,
          41,
          51,
          42,
          42,
          47,
          45,
          41,
          40,
          44,
          45,
          41,
          44,
          44,
          46,
          48,
          44
         ],
         "yaxis": "y"
        },
        {
         "hovertemplate": "port_name=Virgin Islands - St. Croix, VI<br>month=%{x}<br>vessels_avg=%{y}<extra></extra>",
         "legendgroup": "Virgin Islands - St. Croix, VI",
         "line": {
          "color": "#FFA15A",
          "dash": "solid"
         },
         "marker": {
          "symbol": "circle"
         },
         "mode": "lines",
         "name": "Virgin Islands - St. Croix, VI",
         "showlegend": true,
         "type": "scattergl",
         "x": [
          "2018-01-01T00:00:00",
          "2018-02-01T00:00:00",
          "2018-03-01T00:00:00",
          "2018-04-01T00:00:00",
          "2018-05-01T00:00:00",
          "2018-06-01T00:00:00",
          "2018-07-01T00:00:00",
          "2018-08-01T00:00:00",
          "2018-09-01T00:00:00",
          "2018-10-01T00:00:00",
          "2018-11-01T00:00:00",
          "2018-12-01T00:00:00",
          "2019-01-01T00:00:00",
          "2019-02-01T00:00:00",
          "2019-03-01T00:00:00",
          "2019-04-01T00:00:00",
          "2019-05-01T00:00:00",
          "2019-06-01T00:00:00",
          "2019-07-01T00:00:00",
          "2019-08-01T00:00:00",
          "2019-09-01T00:00:00",
          "2019-10-01T00:00:00",
          "2019-11-01T00:00:00",
          "2019-12-01T00:00:00"
         ],
         "xaxis": "x",
         "y": [
          104,
          83,
          100,
          81,
          93,
          90,
          104,
          94,
          91,
          97,
          92,
          84,
          84,
          88,
          100,
          112,
          97,
          92,
          82,
          82,
          67,
          67,
          73,
          93
         ],
         "yaxis": "y"
        },
        {
         "hovertemplate": "port_name=Port of Vancouver USA, WA<br>month=%{x}<br>vessels_avg=%{y}<extra></extra>",
         "legendgroup": "Port of Vancouver USA, WA",
         "line": {
          "color": "#19d3f3",
          "dash": "solid"
         },
         "marker": {
          "symbol": "circle"
         },
         "mode": "lines",
         "name": "Port of Vancouver USA, WA",
         "showlegend": true,
         "type": "scattergl",
         "x": [
          "2018-01-01T00:00:00",
          "2018-02-01T00:00:00",
          "2018-03-01T00:00:00",
          "2018-04-01T00:00:00",
          "2018-05-01T00:00:00",
          "2018-06-01T00:00:00",
          "2018-07-01T00:00:00",
          "2018-08-01T00:00:00",
          "2018-09-01T00:00:00",
          "2018-10-01T00:00:00",
          "2018-11-01T00:00:00",
          "2018-12-01T00:00:00",
          "2019-01-01T00:00:00",
          "2019-02-01T00:00:00",
          "2019-03-01T00:00:00",
          "2019-04-01T00:00:00",
          "2019-05-01T00:00:00",
          "2019-06-01T00:00:00",
          "2019-07-01T00:00:00",
          "2019-08-01T00:00:00",
          "2019-09-01T00:00:00",
          "2019-10-01T00:00:00",
          "2019-11-01T00:00:00",
          "2019-12-01T00:00:00"
         ],
         "xaxis": "x",
         "y": [
          118,
          98,
          115,
          101,
          96,
          98,
          88,
          90,
          84,
          84,
          83,
          86,
          85,
          98,
          96,
          89,
          81,
          81,
          72,
          84,
          62,
          73,
          92,
          89
         ],
         "yaxis": "y"
        },
        {
         "hovertemplate": "port_name=Port of Everett, WA<br>month=%{x}<br>vessels_avg=%{y}<extra></extra>",
         "legendgroup": "Port of Everett, WA",
         "line": {
          "color": "#FF6692",
          "dash": "solid"
         },
         "marker": {
          "symbol": "circle"
         },
         "mode": "lines",
         "name": "Port of Everett, WA",
         "showlegend": true,
         "type": "scattergl",
         "x": [
          "2018-01-01T00:00:00",
          "2018-02-01T00:00:00",
          "2018-03-01T00:00:00",
          "2018-04-01T00:00:00",
          "2018-05-01T00:00:00",
          "2018-06-01T00:00:00",
          "2018-07-01T00:00:00",
          "2018-08-01T00:00:00",
          "2018-09-01T00:00:00",
          "2018-10-01T00:00:00",
          "2018-11-01T00:00:00",
          "2018-12-01T00:00:00",
          "2019-01-01T00:00:00",
          "2019-02-01T00:00:00",
          "2019-03-01T00:00:00",
          "2019-04-01T00:00:00",
          "2019-05-01T00:00:00",
          "2019-06-01T00:00:00",
          "2019-07-01T00:00:00",
          "2019-08-01T00:00:00",
          "2019-09-01T00:00:00",
          "2019-10-01T00:00:00",
          "2019-11-01T00:00:00",
          "2019-12-01T00:00:00"
         ],
         "xaxis": "x",
         "y": [
          9,
          11,
          10,
          9,
          8,
          6,
          12,
          15,
          14,
          10,
          9,
          12,
          9,
          9,
          9,
          8,
          12,
          15,
          11,
          8,
          10,
          14,
          7,
          8
         ],
         "yaxis": "y"
        },
        {
         "hovertemplate": "port_name=Muskegon, MI<br>month=%{x}<br>vessels_avg=%{y}<extra></extra>",
         "legendgroup": "Muskegon, MI",
         "line": {
          "color": "#B6E880",
          "dash": "solid"
         },
         "marker": {
          "symbol": "circle"
         },
         "mode": "lines",
         "name": "Muskegon, MI",
         "showlegend": true,
         "type": "scattergl",
         "x": [
          "2018-01-01T00:00:00",
          "2018-04-01T00:00:00",
          "2018-05-01T00:00:00",
          "2018-06-01T00:00:00",
          "2018-08-01T00:00:00",
          "2018-10-01T00:00:00",
          "2018-11-01T00:00:00",
          "2018-12-01T00:00:00",
          "2019-04-01T00:00:00",
          "2019-05-01T00:00:00",
          "2019-06-01T00:00:00",
          "2019-07-01T00:00:00",
          "2019-08-01T00:00:00",
          "2019-09-01T00:00:00",
          "2019-10-01T00:00:00",
          "2019-11-01T00:00:00",
          "2019-12-01T00:00:00"
         ],
         "xaxis": "x",
         "y": [
          1,
          3,
          2,
          3,
          2,
          2,
          3,
          2,
          3,
          4,
          3,
          5,
          1,
          5,
          4,
          3,
          1
         ],
         "yaxis": "y"
        },
        {
         "hovertemplate": "port_name=Port of Greater Baton Rouge, LA<br>month=%{x}<br>vessels_avg=%{y}<extra></extra>",
         "legendgroup": "Port of Greater Baton Rouge, LA",
         "line": {
          "color": "#FF97FF",
          "dash": "solid"
         },
         "marker": {
          "symbol": "circle"
         },
         "mode": "lines",
         "name": "Port of Greater Baton Rouge, LA",
         "showlegend": true,
         "type": "scattergl",
         "x": [
          "2018-01-01T00:00:00",
          "2018-02-01T00:00:00",
          "2018-03-01T00:00:00",
          "2018-04-01T00:00:00",
          "2018-05-01T00:00:00",
          "2018-06-01T00:00:00",
          "2018-07-01T00:00:00",
          "2018-08-01T00:00:00",
          "2018-09-01T00:00:00",
          "2018-10-01T00:00:00",
          "2018-11-01T00:00:00",
          "2018-12-01T00:00:00",
          "2019-01-01T00:00:00",
          "2019-02-01T00:00:00",
          "2019-03-01T00:00:00",
          "2019-04-01T00:00:00",
          "2019-05-01T00:00:00",
          "2019-06-01T00:00:00",
          "2019-07-01T00:00:00",
          "2019-08-01T00:00:00",
          "2019-09-01T00:00:00",
          "2019-10-01T00:00:00",
          "2019-11-01T00:00:00",
          "2019-12-01T00:00:00"
         ],
         "xaxis": "x",
         "y": [
          101,
          91,
          88,
          104,
          109,
          95,
          98,
          86,
          88,
          92,
          80,
          85,
          79,
          85,
          69,
          90,
          82,
          75,
          76,
          88,
          68,
          72,
          73,
          72
         ],
         "yaxis": "y"
        },
        {
         "hovertemplate": "port_name=New Orleans, LA<br>month=%{x}<br>vessels_avg=%{y}<extra></extra>",
         "legendgroup": "New Orleans, LA",
         "line": {
          "color": "#FECB52",
          "dash": "solid"
         },
         "marker": {
          "symbol": "circle"
         },
         "mode": "lines",
         "name": "New Orleans, LA",
         "showlegend": true,
         "type": "scattergl",
         "x": [
          "2018-01-01T00:00:00",
          "2018-02-01T00:00:00",
          "2018-03-01T00:00:00",
          "2018-04-01T00:00:00",
          "2018-05-01T00:00:00",
          "2018-06-01T00:00:00",
          "2018-07-01T00:00:00",
          "2018-08-01T00:00:00",
          "2018-09-01T00:00:00",
          "2018-10-01T00:00:00",
          "2018-11-01T00:00:00",
          "2018-12-01T00:00:00",
          "2019-01-01T00:00:00",
          "2019-02-01T00:00:00",
          "2019-03-01T00:00:00",
          "2019-04-01T00:00:00",
          "2019-05-01T00:00:00",
          "2019-06-01T00:00:00",
          "2019-07-01T00:00:00",
          "2019-08-01T00:00:00",
          "2019-09-01T00:00:00",
          "2019-10-01T00:00:00",
          "2019-11-01T00:00:00",
          "2019-12-01T00:00:00"
         ],
         "xaxis": "x",
         "y": [
          385,
          308,
          350,
          320,
          342,
          316,
          315,
          303,
          326,
          331,
          296,
          302,
          347,
          298,
          336,
          304,
          304,
          271,
          282,
          300,
          261,
          255,
          265,
          257
         ],
         "yaxis": "y"
        },
        {
         "hovertemplate": "port_name=Valdez, AK<br>month=%{x}<br>vessels_avg=%{y}<extra></extra>",
         "legendgroup": "Valdez, AK",
         "line": {
          "color": "#636efa",
          "dash": "solid"
         },
         "marker": {
          "symbol": "circle"
         },
         "mode": "lines",
         "name": "Valdez, AK",
         "showlegend": true,
         "type": "scattergl",
         "x": [
          "2018-01-01T00:00:00",
          "2018-02-01T00:00:00",
          "2018-03-01T00:00:00",
          "2018-04-01T00:00:00",
          "2018-05-01T00:00:00",
          "2018-06-01T00:00:00",
          "2018-07-01T00:00:00",
          "2018-08-01T00:00:00",
          "2018-09-01T00:00:00",
          "2018-10-01T00:00:00",
          "2018-11-01T00:00:00",
          "2018-12-01T00:00:00",
          "2019-01-01T00:00:00",
          "2019-02-01T00:00:00",
          "2019-03-01T00:00:00",
          "2019-04-01T00:00:00",
          "2019-05-01T00:00:00",
          "2019-06-01T00:00:00",
          "2019-07-01T00:00:00",
          "2019-08-01T00:00:00",
          "2019-09-01T00:00:00",
          "2019-10-01T00:00:00",
          "2019-11-01T00:00:00",
          "2019-12-01T00:00:00"
         ],
         "xaxis": "x",
         "y": [
          13,
          13,
          13,
          12,
          10,
          13,
          17,
          13,
          13,
          12,
          13,
          13,
          11,
          12,
          16,
          12,
          15,
          13,
          13,
          12,
          15,
          13,
          13,
          21
         ],
         "yaxis": "y"
        },
        {
         "hovertemplate": "port_name=Oxnard Harbor District, CA<br>month=%{x}<br>vessels_avg=%{y}<extra></extra>",
         "legendgroup": "Oxnard Harbor District, CA",
         "line": {
          "color": "#EF553B",
          "dash": "solid"
         },
         "marker": {
          "symbol": "circle"
         },
         "mode": "lines",
         "name": "Oxnard Harbor District, CA",
         "showlegend": true,
         "type": "scattergl",
         "x": [
          "2018-01-01T00:00:00",
          "2018-02-01T00:00:00",
          "2018-03-01T00:00:00",
          "2018-04-01T00:00:00",
          "2018-05-01T00:00:00",
          "2018-06-01T00:00:00",
          "2018-07-01T00:00:00",
          "2018-08-01T00:00:00",
          "2018-09-01T00:00:00",
          "2018-10-01T00:00:00",
          "2018-11-01T00:00:00",
          "2018-12-01T00:00:00",
          "2019-01-01T00:00:00",
          "2019-02-01T00:00:00",
          "2019-03-01T00:00:00",
          "2019-04-01T00:00:00",
          "2019-05-01T00:00:00",
          "2019-06-01T00:00:00",
          "2019-07-01T00:00:00",
          "2019-08-01T00:00:00",
          "2019-09-01T00:00:00",
          "2019-10-01T00:00:00",
          "2019-11-01T00:00:00",
          "2019-12-01T00:00:00"
         ],
         "xaxis": "x",
         "y": [
          35,
          37,
          37,
          41,
          44,
          38,
          36,
          38,
          21,
          37,
          38,
          42,
          33,
          33,
          43,
          35,
          38,
          35,
          33,
          34,
          38,
          32,
          36,
          44
         ],
         "yaxis": "y"
        },
        {
         "hovertemplate": "port_name=Unalaska Island, AK<br>month=%{x}<br>vessels_avg=%{y}<extra></extra>",
         "legendgroup": "Unalaska Island, AK",
         "line": {
          "color": "#00cc96",
          "dash": "solid"
         },
         "marker": {
          "symbol": "circle"
         },
         "mode": "lines",
         "name": "Unalaska Island, AK",
         "showlegend": true,
         "type": "scattergl",
         "x": [
          "2018-01-01T00:00:00",
          "2018-02-01T00:00:00",
          "2018-03-01T00:00:00",
          "2018-04-01T00:00:00",
          "2018-05-01T00:00:00",
          "2018-06-01T00:00:00",
          "2018-07-01T00:00:00",
          "2018-08-01T00:00:00",
          "2018-09-01T00:00:00",
          "2018-10-01T00:00:00",
          "2018-11-01T00:00:00",
          "2018-12-01T00:00:00",
          "2019-01-01T00:00:00",
          "2019-02-01T00:00:00",
          "2019-03-01T00:00:00",
          "2019-04-01T00:00:00",
          "2019-05-01T00:00:00",
          "2019-06-01T00:00:00",
          "2019-07-01T00:00:00",
          "2019-08-01T00:00:00",
          "2019-09-01T00:00:00",
          "2019-10-01T00:00:00",
          "2019-11-01T00:00:00",
          "2019-12-01T00:00:00"
         ],
         "xaxis": "x",
         "y": [
          23,
          29,
          34,
          25,
          24,
          27,
          31,
          25,
          24,
          17,
          16,
          12,
          14,
          24,
          23,
          25,
          16,
          21,
          28,
          30,
          23,
          19,
          8,
          12
         ],
         "yaxis": "y"
        },
        {
         "hovertemplate": "port_name=Port of Los Angeles, CA<br>month=%{x}<br>vessels_avg=%{y}<extra></extra>",
         "legendgroup": "Port of Los Angeles, CA",
         "line": {
          "color": "#ab63fa",
          "dash": "solid"
         },
         "marker": {
          "symbol": "circle"
         },
         "mode": "lines",
         "name": "Port of Los Angeles, CA",
         "showlegend": true,
         "type": "scattergl",
         "x": [
          "2018-01-01T00:00:00",
          "2018-02-01T00:00:00",
          "2018-03-01T00:00:00",
          "2018-04-01T00:00:00",
          "2018-05-01T00:00:00",
          "2018-06-01T00:00:00",
          "2018-07-01T00:00:00",
          "2018-08-01T00:00:00",
          "2018-09-01T00:00:00",
          "2018-10-01T00:00:00",
          "2018-11-01T00:00:00",
          "2018-12-01T00:00:00",
          "2019-01-01T00:00:00",
          "2019-02-01T00:00:00",
          "2019-03-01T00:00:00",
          "2019-04-01T00:00:00",
          "2019-05-01T00:00:00",
          "2019-06-01T00:00:00",
          "2019-07-01T00:00:00",
          "2019-08-01T00:00:00",
          "2019-09-01T00:00:00",
          "2019-10-01T00:00:00",
          "2019-11-01T00:00:00",
          "2019-12-01T00:00:00"
         ],
         "xaxis": "x",
         "y": [
          183,
          168,
          175,
          168,
          167,
          161,
          186,
          174,
          162,
          163,
          154,
          159,
          172,
          163,
          162,
          155,
          155,
          142,
          145,
          158,
          142,
          156,
          142,
          162
         ],
         "yaxis": "y"
        },
        {
         "hovertemplate": "port_name=Rogers City, MI<br>month=%{x}<br>vessels_avg=%{y}<extra></extra>",
         "legendgroup": "Rogers City, MI",
         "line": {
          "color": "#FFA15A",
          "dash": "solid"
         },
         "marker": {
          "symbol": "circle"
         },
         "mode": "lines",
         "name": "Rogers City, MI",
         "showlegend": true,
         "type": "scattergl",
         "x": [
          "2018-01-01T00:00:00",
          "2018-04-01T00:00:00",
          "2018-05-01T00:00:00",
          "2018-06-01T00:00:00",
          "2018-07-01T00:00:00",
          "2018-08-01T00:00:00",
          "2018-09-01T00:00:00",
          "2018-10-01T00:00:00",
          "2018-11-01T00:00:00",
          "2018-12-01T00:00:00",
          "2019-04-01T00:00:00",
          "2019-05-01T00:00:00",
          "2019-06-01T00:00:00",
          "2019-07-01T00:00:00",
          "2019-08-01T00:00:00",
          "2019-09-01T00:00:00",
          "2019-10-01T00:00:00",
          "2019-11-01T00:00:00",
          "2019-12-01T00:00:00"
         ],
         "xaxis": "x",
         "y": [
          3,
          4,
          5,
          4,
          4,
          4,
          6,
          6,
          6,
          4,
          1,
          5,
          5,
          7,
          6,
          6,
          6,
          3,
          1
         ],
         "yaxis": "y"
        },
        {
         "hovertemplate": "port_name=New York, NY & NJ<br>month=%{x}<br>vessels_avg=%{y}<extra></extra>",
         "legendgroup": "New York, NY & NJ",
         "line": {
          "color": "#19d3f3",
          "dash": "solid"
         },
         "marker": {
          "symbol": "circle"
         },
         "mode": "lines",
         "name": "New York, NY & NJ",
         "showlegend": true,
         "type": "scattergl",
         "x": [
          "2018-01-01T00:00:00",
          "2018-02-01T00:00:00",
          "2018-03-01T00:00:00",
          "2018-04-01T00:00:00",
          "2018-05-01T00:00:00",
          "2018-06-01T00:00:00",
          "2018-07-01T00:00:00",
          "2018-08-01T00:00:00",
          "2018-09-01T00:00:00",
          "2018-10-01T00:00:00",
          "2018-11-01T00:00:00",
          "2018-12-01T00:00:00",
          "2019-01-01T00:00:00",
          "2019-02-01T00:00:00",
          "2019-03-01T00:00:00",
          "2019-04-01T00:00:00",
          "2019-05-01T00:00:00",
          "2019-06-01T00:00:00",
          "2019-07-01T00:00:00",
          "2019-08-01T00:00:00",
          "2019-09-01T00:00:00",
          "2019-10-01T00:00:00",
          "2019-11-01T00:00:00",
          "2019-12-01T00:00:00"
         ],
         "xaxis": "x",
         "y": [
          444,
          345,
          384,
          372,
          359,
          376,
          401,
          393,
          379,
          365,
          329,
          365,
          348,
          306,
          349,
          334,
          372,
          346,
          355,
          364,
          330,
          334,
          299,
          359
         ],
         "yaxis": "y"
        },
        {
         "hovertemplate": "port_name=Virginia, VA, Port of<br>month=%{x}<br>vessels_avg=%{y}<extra></extra>",
         "legendgroup": "Virginia, VA, Port of",
         "line": {
          "color": "#FF6692",
          "dash": "solid"
         },
         "marker": {
          "symbol": "circle"
         },
         "mode": "lines",
         "name": "Virginia, VA, Port of",
         "showlegend": true,
         "type": "scattergl",
         "x": [
          "2018-01-01T00:00:00",
          "2018-02-01T00:00:00",
          "2018-03-01T00:00:00",
          "2018-04-01T00:00:00",
          "2018-05-01T00:00:00",
          "2018-06-01T00:00:00",
          "2018-07-01T00:00:00",
          "2018-08-01T00:00:00",
          "2018-09-01T00:00:00",
          "2018-10-01T00:00:00",
          "2018-11-01T00:00:00",
          "2018-12-01T00:00:00",
          "2019-01-01T00:00:00",
          "2019-02-01T00:00:00",
          "2019-03-01T00:00:00",
          "2019-04-01T00:00:00",
          "2019-05-01T00:00:00",
          "2019-06-01T00:00:00",
          "2019-07-01T00:00:00",
          "2019-08-01T00:00:00",
          "2019-09-01T00:00:00",
          "2019-10-01T00:00:00",
          "2019-11-01T00:00:00",
          "2019-12-01T00:00:00"
         ],
         "xaxis": "x",
         "y": [
          293,
          258,
          272,
          268,
          267,
          258,
          236,
          251,
          243,
          236,
          211,
          216,
          221,
          186,
          205,
          193,
          186,
          198,
          198,
          208,
          192,
          198,
          212,
          212
         ],
         "yaxis": "y"
        },
        {
         "hovertemplate": "port_name=Silver Bay, MN<br>month=%{x}<br>vessels_avg=%{y}<extra></extra>",
         "legendgroup": "Silver Bay, MN",
         "line": {
          "color": "#B6E880",
          "dash": "solid"
         },
         "marker": {
          "symbol": "circle"
         },
         "mode": "lines",
         "name": "Silver Bay, MN",
         "showlegend": true,
         "type": "scattergl",
         "x": [
          "2018-01-01T00:00:00",
          "2018-02-01T00:00:00",
          "2018-03-01T00:00:00",
          "2018-04-01T00:00:00",
          "2018-05-01T00:00:00",
          "2018-06-01T00:00:00",
          "2018-07-01T00:00:00",
          "2018-08-01T00:00:00",
          "2018-09-01T00:00:00",
          "2018-10-01T00:00:00",
          "2018-11-01T00:00:00",
          "2018-12-01T00:00:00",
          "2019-01-01T00:00:00",
          "2019-03-01T00:00:00",
          "2019-04-01T00:00:00",
          "2019-05-01T00:00:00",
          "2019-06-01T00:00:00",
          "2019-07-01T00:00:00",
          "2019-08-01T00:00:00",
          "2019-09-01T00:00:00",
          "2019-10-01T00:00:00",
          "2019-11-01T00:00:00",
          "2019-12-01T00:00:00"
         ],
         "xaxis": "x",
         "y": [
          3,
          1,
          5,
          19,
          29,
          27,
          31,
          28,
          28,
          25,
          39,
          30,
          2,
          7,
          24,
          27,
          23,
          28,
          28,
          30,
          31,
          27,
          35
         ],
         "yaxis": "y"
        },
        {
         "hovertemplate": "port_name=Mobile, AL<br>month=%{x}<br>vessels_avg=%{y}<extra></extra>",
         "legendgroup": "Mobile, AL",
         "line": {
          "color": "#FF97FF",
          "dash": "solid"
         },
         "marker": {
          "symbol": "circle"
         },
         "mode": "lines",
         "name": "Mobile, AL",
         "showlegend": true,
         "type": "scattergl",
         "x": [
          "2018-01-01T00:00:00",
          "2018-02-01T00:00:00",
          "2018-03-01T00:00:00",
          "2018-04-01T00:00:00",
          "2018-05-01T00:00:00",
          "2018-06-01T00:00:00",
          "2018-07-01T00:00:00",
          "2018-08-01T00:00:00",
          "2018-09-01T00:00:00",
          "2018-10-01T00:00:00",
          "2018-11-01T00:00:00",
          "2018-12-01T00:00:00",
          "2019-01-01T00:00:00",
          "2019-02-01T00:00:00",
          "2019-03-01T00:00:00",
          "2019-04-01T00:00:00",
          "2019-05-01T00:00:00",
          "2019-06-01T00:00:00",
          "2019-07-01T00:00:00",
          "2019-08-01T00:00:00",
          "2019-09-01T00:00:00",
          "2019-10-01T00:00:00",
          "2019-11-01T00:00:00",
          "2019-12-01T00:00:00"
         ],
         "xaxis": "x",
         "y": [
          139,
          125,
          122,
          117,
          136,
          138,
          127,
          125,
          126,
          139,
          115,
          107,
          125,
          109,
          129,
          117,
          110,
          118,
          110,
          110,
          104,
          109,
          102,
          116
         ],
         "yaxis": "y"
        },
        {
         "hovertemplate": "port_name=Grays Harbor Port District, WA<br>month=%{x}<br>vessels_avg=%{y}<extra></extra>",
         "legendgroup": "Grays Harbor Port District, WA",
         "line": {
          "color": "#FECB52",
          "dash": "solid"
         },
         "marker": {
          "symbol": "circle"
         },
         "mode": "lines",
         "name": "Grays Harbor Port District, WA",
         "showlegend": true,
         "type": "scattergl",
         "x": [
          "2018-01-01T00:00:00",
          "2018-02-01T00:00:00",
          "2018-03-01T00:00:00",
          "2018-04-01T00:00:00",
          "2018-05-01T00:00:00",
          "2018-06-01T00:00:00",
          "2018-07-01T00:00:00",
          "2018-08-01T00:00:00",
          "2018-09-01T00:00:00",
          "2018-10-01T00:00:00",
          "2018-11-01T00:00:00",
          "2018-12-01T00:00:00",
          "2019-01-01T00:00:00",
          "2019-02-01T00:00:00",
          "2019-03-01T00:00:00",
          "2019-04-01T00:00:00",
          "2019-05-01T00:00:00",
          "2019-06-01T00:00:00",
          "2019-07-01T00:00:00",
          "2019-08-01T00:00:00",
          "2019-09-01T00:00:00",
          "2019-10-01T00:00:00",
          "2019-11-01T00:00:00",
          "2019-12-01T00:00:00"
         ],
         "xaxis": "x",
         "y": [
          12,
          13,
          6,
          11,
          9,
          13,
          10,
          16,
          10,
          14,
          15,
          9,
          13,
          7,
          10,
          10,
          12,
          11,
          7,
          10,
          11,
          11,
          11,
          12
         ],
         "yaxis": "y"
        },
        {
         "hovertemplate": "port_name=Richmond, CA<br>month=%{x}<br>vessels_avg=%{y}<extra></extra>",
         "legendgroup": "Richmond, CA",
         "line": {
          "color": "#636efa",
          "dash": "solid"
         },
         "marker": {
          "symbol": "circle"
         },
         "mode": "lines",
         "name": "Richmond, CA",
         "showlegend": true,
         "type": "scattergl",
         "x": [
          "2018-01-01T00:00:00",
          "2018-02-01T00:00:00",
          "2018-03-01T00:00:00",
          "2018-04-01T00:00:00",
          "2018-05-01T00:00:00",
          "2018-06-01T00:00:00",
          "2018-07-01T00:00:00",
          "2018-08-01T00:00:00",
          "2018-09-01T00:00:00",
          "2018-10-01T00:00:00",
          "2018-11-01T00:00:00",
          "2018-12-01T00:00:00",
          "2019-01-01T00:00:00",
          "2019-02-01T00:00:00",
          "2019-03-01T00:00:00",
          "2019-04-01T00:00:00",
          "2019-05-01T00:00:00",
          "2019-06-01T00:00:00",
          "2019-07-01T00:00:00",
          "2019-08-01T00:00:00",
          "2019-09-01T00:00:00",
          "2019-10-01T00:00:00",
          "2019-11-01T00:00:00",
          "2019-12-01T00:00:00"
         ],
         "xaxis": "x",
         "y": [
          128,
          107,
          109,
          112,
          115,
          108,
          106,
          111,
          99,
          102,
          96,
          114,
          100,
          101,
          106,
          102,
          101,
          94,
          104,
          99,
          101,
          102,
          103,
          115
         ],
         "yaxis": "y"
        },
        {
         "hovertemplate": "port_name=Plaquemines Port District, LA<br>month=%{x}<br>vessels_avg=%{y}<extra></extra>",
         "legendgroup": "Plaquemines Port District, LA",
         "line": {
          "color": "#EF553B",
          "dash": "solid"
         },
         "marker": {
          "symbol": "circle"
         },
         "mode": "lines",
         "name": "Plaquemines Port District, LA",
         "showlegend": true,
         "type": "scattergl",
         "x": [
          "2018-01-01T00:00:00",
          "2018-02-01T00:00:00",
          "2018-03-01T00:00:00",
          "2018-04-01T00:00:00",
          "2018-05-01T00:00:00",
          "2018-06-01T00:00:00",
          "2018-07-01T00:00:00",
          "2018-08-01T00:00:00",
          "2018-09-01T00:00:00",
          "2018-10-01T00:00:00",
          "2018-11-01T00:00:00",
          "2018-12-01T00:00:00",
          "2019-01-01T00:00:00",
          "2019-02-01T00:00:00",
          "2019-03-01T00:00:00",
          "2019-04-01T00:00:00",
          "2019-05-01T00:00:00",
          "2019-06-01T00:00:00",
          "2019-07-01T00:00:00",
          "2019-08-01T00:00:00",
          "2019-09-01T00:00:00",
          "2019-10-01T00:00:00",
          "2019-11-01T00:00:00",
          "2019-12-01T00:00:00"
         ],
         "xaxis": "x",
         "y": [
          24,
          24,
          21,
          28,
          18,
          15,
          23,
          25,
          25,
          25,
          27,
          27,
          22,
          25,
          30,
          20,
          28,
          27,
          30,
          21,
          21,
          23,
          16,
          26
         ],
         "yaxis": "y"
        },
        {
         "hovertemplate": "port_name=Port of Kalama, WA<br>month=%{x}<br>vessels_avg=%{y}<extra></extra>",
         "legendgroup": "Port of Kalama, WA",
         "line": {
          "color": "#00cc96",
          "dash": "solid"
         },
         "marker": {
          "symbol": "circle"
         },
         "mode": "lines",
         "name": "Port of Kalama, WA",
         "showlegend": true,
         "type": "scattergl",
         "x": [
          "2018-01-01T00:00:00",
          "2018-02-01T00:00:00",
          "2018-03-01T00:00:00",
          "2018-04-01T00:00:00",
          "2018-05-01T00:00:00",
          "2018-06-01T00:00:00",
          "2018-07-01T00:00:00",
          "2018-08-01T00:00:00",
          "2018-09-01T00:00:00",
          "2018-10-01T00:00:00",
          "2018-11-01T00:00:00",
          "2018-12-01T00:00:00",
          "2019-01-01T00:00:00",
          "2019-02-01T00:00:00",
          "2019-03-01T00:00:00",
          "2019-04-01T00:00:00",
          "2019-05-01T00:00:00",
          "2019-06-01T00:00:00",
          "2019-07-01T00:00:00",
          "2019-08-01T00:00:00",
          "2019-09-01T00:00:00",
          "2019-10-01T00:00:00",
          "2019-11-01T00:00:00",
          "2019-12-01T00:00:00"
         ],
         "xaxis": "x",
         "y": [
          64,
          41,
          55,
          55,
          46,
          47,
          46,
          34,
          40,
          33,
          40,
          40,
          48,
          40,
          40,
          44,
          30,
          39,
          41,
          45,
          29,
          44,
          39,
          37
         ],
         "yaxis": "y"
        },
        {
         "hovertemplate": "port_name=Sacramento-Yolo Port, CA<br>month=%{x}<br>vessels_avg=%{y}<extra></extra>",
         "legendgroup": "Sacramento-Yolo Port, CA",
         "line": {
          "color": "#ab63fa",
          "dash": "solid"
         },
         "marker": {
          "symbol": "circle"
         },
         "mode": "lines",
         "name": "Sacramento-Yolo Port, CA",
         "showlegend": true,
         "type": "scattergl",
         "x": [
          "2018-01-01T00:00:00",
          "2018-02-01T00:00:00",
          "2018-03-01T00:00:00",
          "2018-04-01T00:00:00",
          "2018-05-01T00:00:00",
          "2018-06-01T00:00:00",
          "2018-07-01T00:00:00",
          "2018-08-01T00:00:00",
          "2018-09-01T00:00:00",
          "2018-10-01T00:00:00",
          "2018-11-01T00:00:00",
          "2018-12-01T00:00:00",
          "2019-01-01T00:00:00",
          "2019-02-01T00:00:00",
          "2019-03-01T00:00:00",
          "2019-04-01T00:00:00",
          "2019-05-01T00:00:00",
          "2019-06-01T00:00:00",
          "2019-07-01T00:00:00",
          "2019-08-01T00:00:00",
          "2019-09-01T00:00:00",
          "2019-10-01T00:00:00",
          "2019-11-01T00:00:00",
          "2019-12-01T00:00:00"
         ],
         "xaxis": "x",
         "y": [
          7,
          4,
          6,
          7,
          7,
          6,
          5,
          6,
          2,
          6,
          8,
          6,
          4,
          2,
          4,
          4,
          5,
          5,
          7,
          1,
          7,
          6,
          4,
          8
         ],
         "yaxis": "y"
        },
        {
         "hovertemplate": "port_name=Port of Palm Beach District, FL<br>month=%{x}<br>vessels_avg=%{y}<extra></extra>",
         "legendgroup": "Port of Palm Beach District, FL",
         "line": {
          "color": "#FFA15A",
          "dash": "solid"
         },
         "marker": {
          "symbol": "circle"
         },
         "mode": "lines",
         "name": "Port of Palm Beach District, FL",
         "showlegend": true,
         "type": "scattergl",
         "x": [
          "2018-01-01T00:00:00",
          "2018-02-01T00:00:00",
          "2018-03-01T00:00:00",
          "2018-04-01T00:00:00",
          "2018-05-01T00:00:00",
          "2018-06-01T00:00:00",
          "2018-07-01T00:00:00",
          "2018-08-01T00:00:00",
          "2018-09-01T00:00:00",
          "2018-10-01T00:00:00",
          "2018-11-01T00:00:00",
          "2018-12-01T00:00:00",
          "2019-01-01T00:00:00",
          "2019-02-01T00:00:00",
          "2019-03-01T00:00:00",
          "2019-04-01T00:00:00",
          "2019-05-01T00:00:00",
          "2019-06-01T00:00:00",
          "2019-07-01T00:00:00",
          "2019-08-01T00:00:00",
          "2019-09-01T00:00:00",
          "2019-10-01T00:00:00",
          "2019-11-01T00:00:00",
          "2019-12-01T00:00:00"
         ],
         "xaxis": "x",
         "y": [
          83,
          87,
          97,
          83,
          101,
          94,
          79,
          69,
          74,
          80,
          94,
          95,
          79,
          87,
          76,
          82,
          92,
          86,
          81,
          76,
          49,
          73,
          63,
          66
         ],
         "yaxis": "y"
        },
        {
         "hovertemplate": "port_name=San Francisco Port, CA<br>month=%{x}<br>vessels_avg=%{y}<extra></extra>",
         "legendgroup": "San Francisco Port, CA",
         "line": {
          "color": "#19d3f3",
          "dash": "solid"
         },
         "marker": {
          "symbol": "circle"
         },
         "mode": "lines",
         "name": "San Francisco Port, CA",
         "showlegend": true,
         "type": "scattergl",
         "x": [
          "2018-01-01T00:00:00",
          "2018-02-01T00:00:00",
          "2018-03-01T00:00:00",
          "2018-04-01T00:00:00",
          "2018-05-01T00:00:00",
          "2018-06-01T00:00:00",
          "2018-07-01T00:00:00",
          "2018-08-01T00:00:00",
          "2018-09-01T00:00:00",
          "2018-10-01T00:00:00",
          "2018-11-01T00:00:00",
          "2018-12-01T00:00:00",
          "2019-01-01T00:00:00",
          "2019-02-01T00:00:00",
          "2019-03-01T00:00:00",
          "2019-04-01T00:00:00",
          "2019-05-01T00:00:00",
          "2019-06-01T00:00:00",
          "2019-07-01T00:00:00",
          "2019-08-01T00:00:00",
          "2019-09-01T00:00:00",
          "2019-10-01T00:00:00",
          "2019-11-01T00:00:00",
          "2019-12-01T00:00:00"
         ],
         "xaxis": "x",
         "y": [
          11,
          5,
          6,
          8,
          10,
          7,
          9,
          4,
          5,
          9,
          7,
          2,
          10,
          11,
          4,
          5,
          8,
          7,
          6,
          12,
          7,
          13,
          8,
          5
         ],
         "yaxis": "y"
        },
        {
         "hovertemplate": "port_name=Port of Brunswick, GA<br>month=%{x}<br>vessels_avg=%{y}<extra></extra>",
         "legendgroup": "Port of Brunswick, GA",
         "line": {
          "color": "#FF6692",
          "dash": "solid"
         },
         "marker": {
          "symbol": "circle"
         },
         "mode": "lines",
         "name": "Port of Brunswick, GA",
         "showlegend": true,
         "type": "scattergl",
         "x": [
          "2018-01-01T00:00:00",
          "2018-02-01T00:00:00",
          "2018-03-01T00:00:00",
          "2018-04-01T00:00:00",
          "2018-05-01T00:00:00",
          "2018-06-01T00:00:00",
          "2018-07-01T00:00:00",
          "2018-08-01T00:00:00",
          "2018-09-01T00:00:00",
          "2018-10-01T00:00:00",
          "2018-11-01T00:00:00",
          "2018-12-01T00:00:00",
          "2019-01-01T00:00:00",
          "2019-02-01T00:00:00",
          "2019-03-01T00:00:00",
          "2019-04-01T00:00:00",
          "2019-05-01T00:00:00",
          "2019-06-01T00:00:00",
          "2019-07-01T00:00:00",
          "2019-08-01T00:00:00",
          "2019-09-01T00:00:00",
          "2019-10-01T00:00:00",
          "2019-11-01T00:00:00",
          "2019-12-01T00:00:00"
         ],
         "xaxis": "x",
         "y": [
          44,
          47,
          52,
          51,
          46,
          48,
          46,
          48,
          40,
          50,
          48,
          58,
          49,
          46,
          46,
          45,
          48,
          45,
          45,
          46,
          48,
          45,
          45,
          44
         ],
         "yaxis": "y"
        },
        {
         "hovertemplate": "port_name=Milwaukee, WI<br>month=%{x}<br>vessels_avg=%{y}<extra></extra>",
         "legendgroup": "Milwaukee, WI",
         "line": {
          "color": "#B6E880",
          "dash": "solid"
         },
         "marker": {
          "symbol": "circle"
         },
         "mode": "lines",
         "name": "Milwaukee, WI",
         "showlegend": true,
         "type": "scattergl",
         "x": [
          "2018-01-01T00:00:00",
          "2018-02-01T00:00:00",
          "2018-03-01T00:00:00",
          "2018-04-01T00:00:00",
          "2018-05-01T00:00:00",
          "2018-06-01T00:00:00",
          "2018-07-01T00:00:00",
          "2018-08-01T00:00:00",
          "2018-09-01T00:00:00",
          "2018-10-01T00:00:00",
          "2018-11-01T00:00:00",
          "2018-12-01T00:00:00",
          "2019-01-01T00:00:00",
          "2019-03-01T00:00:00",
          "2019-04-01T00:00:00",
          "2019-05-01T00:00:00",
          "2019-06-01T00:00:00",
          "2019-07-01T00:00:00",
          "2019-08-01T00:00:00",
          "2019-09-01T00:00:00",
          "2019-10-01T00:00:00",
          "2019-11-01T00:00:00",
          "2019-12-01T00:00:00"
         ],
         "xaxis": "x",
         "y": [
          2,
          1,
          1,
          5,
          7,
          8,
          5,
          5,
          3,
          9,
          6,
          5,
          2,
          1,
          2,
          6,
          3,
          6,
          4,
          3,
          2,
          5,
          4
         ],
         "yaxis": "y"
        },
        {
         "hovertemplate": "port_name=Port Freeport, TX<br>month=%{x}<br>vessels_avg=%{y}<extra></extra>",
         "legendgroup": "Port Freeport, TX",
         "line": {
          "color": "#FF97FF",
          "dash": "solid"
         },
         "marker": {
          "symbol": "circle"
         },
         "mode": "lines",
         "name": "Port Freeport, TX",
         "showlegend": true,
         "type": "scattergl",
         "x": [
          "2018-01-01T00:00:00",
          "2018-02-01T00:00:00",
          "2018-03-01T00:00:00",
          "2018-04-01T00:00:00",
          "2018-05-01T00:00:00",
          "2018-06-01T00:00:00",
          "2018-07-01T00:00:00",
          "2018-08-01T00:00:00",
          "2018-09-01T00:00:00",
          "2018-10-01T00:00:00",
          "2018-11-01T00:00:00",
          "2018-12-01T00:00:00",
          "2019-01-01T00:00:00",
          "2019-02-01T00:00:00",
          "2019-03-01T00:00:00",
          "2019-04-01T00:00:00",
          "2019-05-01T00:00:00",
          "2019-06-01T00:00:00",
          "2019-07-01T00:00:00",
          "2019-08-01T00:00:00",
          "2019-09-01T00:00:00",
          "2019-10-01T00:00:00",
          "2019-11-01T00:00:00",
          "2019-12-01T00:00:00"
         ],
         "xaxis": "x",
         "y": [
          95,
          74,
          80,
          81,
          92,
          88,
          95,
          81,
          84,
          91,
          70,
          80,
          69,
          74,
          78,
          82,
          86,
          85,
          77,
          89,
          85,
          95,
          100,
          102
         ],
         "yaxis": "y"
        },
        {
         "hovertemplate": "port_name=Wilmington, DE<br>month=%{x}<br>vessels_avg=%{y}<extra></extra>",
         "legendgroup": "Wilmington, DE",
         "line": {
          "color": "#FECB52",
          "dash": "solid"
         },
         "marker": {
          "symbol": "circle"
         },
         "mode": "lines",
         "name": "Wilmington, DE",
         "showlegend": true,
         "type": "scattergl",
         "x": [
          "2018-01-01T00:00:00",
          "2018-02-01T00:00:00",
          "2018-03-01T00:00:00",
          "2018-04-01T00:00:00",
          "2018-05-01T00:00:00",
          "2018-06-01T00:00:00",
          "2018-07-01T00:00:00",
          "2018-08-01T00:00:00",
          "2018-09-01T00:00:00",
          "2018-10-01T00:00:00",
          "2018-11-01T00:00:00",
          "2018-12-01T00:00:00",
          "2019-01-01T00:00:00",
          "2019-02-01T00:00:00",
          "2019-03-01T00:00:00",
          "2019-04-01T00:00:00",
          "2019-05-01T00:00:00",
          "2019-06-01T00:00:00",
          "2019-07-01T00:00:00",
          "2019-08-01T00:00:00",
          "2019-09-01T00:00:00",
          "2019-10-01T00:00:00",
          "2019-11-01T00:00:00",
          "2019-12-01T00:00:00"
         ],
         "xaxis": "x",
         "y": [
          85,
          59,
          65,
          65,
          61,
          57,
          51,
          67,
          54,
          57,
          62,
          63,
          64,
          57,
          74,
          65,
          60,
          56,
          60,
          65,
          53,
          56,
          56,
          64
         ],
         "yaxis": "y"
        },
        {
         "hovertemplate": "port_name=Conneaut, OH<br>month=%{x}<br>vessels_avg=%{y}<extra></extra>",
         "legendgroup": "Conneaut, OH",
         "line": {
          "color": "#636efa",
          "dash": "solid"
         },
         "marker": {
          "symbol": "circle"
         },
         "mode": "lines",
         "name": "Conneaut, OH",
         "showlegend": true,
         "type": "scattergl",
         "x": [
          "2018-01-01T00:00:00",
          "2018-02-01T00:00:00",
          "2018-03-01T00:00:00",
          "2018-04-01T00:00:00",
          "2018-05-01T00:00:00",
          "2018-06-01T00:00:00",
          "2018-07-01T00:00:00",
          "2018-08-01T00:00:00",
          "2018-09-01T00:00:00",
          "2018-10-01T00:00:00",
          "2018-11-01T00:00:00",
          "2018-12-01T00:00:00",
          "2019-01-01T00:00:00",
          "2019-02-01T00:00:00",
          "2019-03-01T00:00:00",
          "2019-04-01T00:00:00",
          "2019-05-01T00:00:00",
          "2019-06-01T00:00:00",
          "2019-07-01T00:00:00",
          "2019-08-01T00:00:00",
          "2019-09-01T00:00:00",
          "2019-10-01T00:00:00",
          "2019-11-01T00:00:00",
          "2019-12-01T00:00:00"
         ],
         "xaxis": "x",
         "y": [
          30,
          18,
          27,
          67,
          85,
          75,
          80,
          65,
          68,
          74,
          78,
          74,
          17,
          11,
          27,
          68,
          84,
          78,
          62,
          66,
          59,
          71,
          85,
          65
         ],
         "yaxis": "y"
        },
        {
         "hovertemplate": "port_name=Brownsville, TX<br>month=%{x}<br>vessels_avg=%{y}<extra></extra>",
         "legendgroup": "Brownsville, TX",
         "line": {
          "color": "#EF553B",
          "dash": "solid"
         },
         "marker": {
          "symbol": "circle"
         },
         "mode": "lines",
         "name": "Brownsville, TX",
         "showlegend": true,
         "type": "scattergl",
         "x": [
          "2018-01-01T00:00:00",
          "2018-02-01T00:00:00",
          "2018-03-01T00:00:00",
          "2018-04-01T00:00:00",
          "2018-05-01T00:00:00",
          "2018-06-01T00:00:00",
          "2018-07-01T00:00:00",
          "2018-08-01T00:00:00",
          "2018-09-01T00:00:00",
          "2018-10-01T00:00:00",
          "2018-11-01T00:00:00",
          "2018-12-01T00:00:00",
          "2019-01-01T00:00:00",
          "2019-02-01T00:00:00",
          "2019-03-01T00:00:00",
          "2019-04-01T00:00:00",
          "2019-05-01T00:00:00",
          "2019-06-01T00:00:00",
          "2019-07-01T00:00:00",
          "2019-08-01T00:00:00",
          "2019-09-01T00:00:00",
          "2019-10-01T00:00:00",
          "2019-11-01T00:00:00",
          "2019-12-01T00:00:00"
         ],
         "xaxis": "x",
         "y": [
          95,
          130,
          229,
          180,
          211,
          125,
          184,
          73,
          59,
          42,
          105,
          107,
          95,
          143,
          172,
          260,
          207,
          176,
          116,
          121,
          64,
          64,
          96,
          150
         ],
         "yaxis": "y"
        },
        {
         "hovertemplate": "port_name=Green Bay, WI<br>month=%{x}<br>vessels_avg=%{y}<extra></extra>",
         "legendgroup": "Green Bay, WI",
         "line": {
          "color": "#00cc96",
          "dash": "solid"
         },
         "marker": {
          "symbol": "circle"
         },
         "mode": "lines",
         "name": "Green Bay, WI",
         "showlegend": true,
         "type": "scattergl",
         "x": [
          "2018-01-01T00:00:00",
          "2018-03-01T00:00:00",
          "2018-05-01T00:00:00",
          "2018-06-01T00:00:00",
          "2018-07-01T00:00:00",
          "2018-08-01T00:00:00",
          "2018-09-01T00:00:00",
          "2018-10-01T00:00:00",
          "2018-11-01T00:00:00",
          "2018-12-01T00:00:00",
          "2019-01-01T00:00:00",
          "2019-02-01T00:00:00",
          "2019-03-01T00:00:00",
          "2019-04-01T00:00:00",
          "2019-05-01T00:00:00",
          "2019-06-01T00:00:00",
          "2019-07-01T00:00:00",
          "2019-08-01T00:00:00",
          "2019-09-01T00:00:00",
          "2019-10-01T00:00:00",
          "2019-11-01T00:00:00",
          "2019-12-01T00:00:00"
         ],
         "xaxis": "x",
         "y": [
          7,
          2,
          1,
          4,
          2,
          3,
          4,
          2,
          3,
          3,
          6,
          1,
          2,
          7,
          2,
          7,
          5,
          2,
          2,
          2,
          2,
          4
         ],
         "yaxis": "y"
        },
        {
         "hovertemplate": "port_name=PortMiami, FL<br>month=%{x}<br>vessels_avg=%{y}<extra></extra>",
         "legendgroup": "PortMiami, FL",
         "line": {
          "color": "#ab63fa",
          "dash": "solid"
         },
         "marker": {
          "symbol": "circle"
         },
         "mode": "lines",
         "name": "PortMiami, FL",
         "showlegend": true,
         "type": "scattergl",
         "x": [
          "2018-01-01T00:00:00",
          "2018-02-01T00:00:00",
          "2018-03-01T00:00:00",
          "2018-04-01T00:00:00",
          "2018-05-01T00:00:00",
          "2018-06-01T00:00:00",
          "2018-07-01T00:00:00",
          "2018-08-01T00:00:00",
          "2018-09-01T00:00:00",
          "2018-10-01T00:00:00",
          "2018-11-01T00:00:00",
          "2018-12-01T00:00:00",
          "2019-01-01T00:00:00",
          "2019-02-01T00:00:00",
          "2019-03-01T00:00:00",
          "2019-04-01T00:00:00",
          "2019-05-01T00:00:00",
          "2019-06-01T00:00:00",
          "2019-07-01T00:00:00",
          "2019-08-01T00:00:00",
          "2019-09-01T00:00:00",
          "2019-10-01T00:00:00",
          "2019-11-01T00:00:00",
          "2019-12-01T00:00:00"
         ],
         "xaxis": "x",
         "y": [
          127,
          108,
          117,
          121,
          111,
          124,
          116,
          111,
          92,
          104,
          89,
          95,
          108,
          113,
          111,
          122,
          118,
          113,
          91,
          117,
          103,
          99,
          93,
          106
         ],
         "yaxis": "y"
        },
        {
         "hovertemplate": "port_name=Two Harbors, MN<br>month=%{x}<br>vessels_avg=%{y}<extra></extra>",
         "legendgroup": "Two Harbors, MN",
         "line": {
          "color": "#FFA15A",
          "dash": "solid"
         },
         "marker": {
          "symbol": "circle"
         },
         "mode": "lines",
         "name": "Two Harbors, MN",
         "showlegend": true,
         "type": "scattergl",
         "x": [
          "2018-01-01T00:00:00",
          "2018-03-01T00:00:00",
          "2018-04-01T00:00:00",
          "2018-05-01T00:00:00",
          "2018-06-01T00:00:00",
          "2018-07-01T00:00:00",
          "2018-08-01T00:00:00",
          "2018-09-01T00:00:00",
          "2018-10-01T00:00:00",
          "2018-11-01T00:00:00",
          "2018-12-01T00:00:00",
          "2019-01-01T00:00:00",
          "2019-03-01T00:00:00",
          "2019-04-01T00:00:00",
          "2019-05-01T00:00:00",
          "2019-06-01T00:00:00",
          "2019-07-01T00:00:00",
          "2019-08-01T00:00:00",
          "2019-09-01T00:00:00",
          "2019-10-01T00:00:00",
          "2019-11-01T00:00:00",
          "2019-12-01T00:00:00"
         ],
         "xaxis": "x",
         "y": [
          5,
          4,
          6,
          4,
          7,
          7,
          7,
          10,
          10,
          11,
          12,
          5,
          4,
          7,
          13,
          11,
          14,
          14,
          9,
          7,
          9,
          10
         ],
         "yaxis": "y"
        },
        {
         "hovertemplate": "port_name=Anacortes, WA<br>month=%{x}<br>vessels_avg=%{y}<extra></extra>",
         "legendgroup": "Anacortes, WA",
         "line": {
          "color": "#19d3f3",
          "dash": "solid"
         },
         "marker": {
          "symbol": "circle"
         },
         "mode": "lines",
         "name": "Anacortes, WA",
         "showlegend": true,
         "type": "scattergl",
         "x": [
          "2018-01-01T00:00:00",
          "2018-02-01T00:00:00",
          "2018-03-01T00:00:00",
          "2018-04-01T00:00:00",
          "2018-05-01T00:00:00",
          "2018-06-01T00:00:00",
          "2018-07-01T00:00:00",
          "2018-08-01T00:00:00",
          "2018-09-01T00:00:00",
          "2018-10-01T00:00:00",
          "2018-11-01T00:00:00",
          "2018-12-01T00:00:00",
          "2019-01-01T00:00:00",
          "2019-02-01T00:00:00",
          "2019-03-01T00:00:00",
          "2019-04-01T00:00:00",
          "2019-05-01T00:00:00",
          "2019-06-01T00:00:00",
          "2019-07-01T00:00:00",
          "2019-08-01T00:00:00",
          "2019-09-01T00:00:00",
          "2019-10-01T00:00:00",
          "2019-11-01T00:00:00",
          "2019-12-01T00:00:00"
         ],
         "xaxis": "x",
         "y": [
          492,
          405,
          444,
          403,
          430,
          423,
          415,
          380,
          402,
          390,
          389,
          396,
          375,
          361,
          396,
          374,
          374,
          378,
          346,
          359,
          343,
          343,
          365,
          437
         ],
         "yaxis": "y"
        },
        {
         "hovertemplate": "port_name=Jacksonville, FL<br>month=%{x}<br>vessels_avg=%{y}<extra></extra>",
         "legendgroup": "Jacksonville, FL",
         "line": {
          "color": "#FF6692",
          "dash": "solid"
         },
         "marker": {
          "symbol": "circle"
         },
         "mode": "lines",
         "name": "Jacksonville, FL",
         "showlegend": true,
         "type": "scattergl",
         "x": [
          "2018-01-01T00:00:00",
          "2018-02-01T00:00:00",
          "2018-03-01T00:00:00",
          "2018-04-01T00:00:00",
          "2018-05-01T00:00:00",
          "2018-06-01T00:00:00",
          "2018-07-01T00:00:00",
          "2018-08-01T00:00:00",
          "2018-09-01T00:00:00",
          "2018-10-01T00:00:00",
          "2018-11-01T00:00:00",
          "2018-12-01T00:00:00",
          "2019-01-01T00:00:00",
          "2019-02-01T00:00:00",
          "2019-03-01T00:00:00",
          "2019-04-01T00:00:00",
          "2019-05-01T00:00:00",
          "2019-06-01T00:00:00",
          "2019-07-01T00:00:00",
          "2019-08-01T00:00:00",
          "2019-09-01T00:00:00",
          "2019-10-01T00:00:00",
          "2019-11-01T00:00:00",
          "2019-12-01T00:00:00"
         ],
         "xaxis": "x",
         "y": [
          142,
          114,
          129,
          124,
          142,
          123,
          124,
          140,
          124,
          121,
          120,
          122,
          137,
          114,
          134,
          125,
          118,
          109,
          109,
          119,
          105,
          100,
          107,
          104
         ],
         "yaxis": "y"
        },
        {
         "hovertemplate": "port_name=Northern Indiana District, IN<br>month=%{x}<br>vessels_avg=%{y}<extra></extra>",
         "legendgroup": "Northern Indiana District, IN",
         "line": {
          "color": "#B6E880",
          "dash": "solid"
         },
         "marker": {
          "symbol": "circle"
         },
         "mode": "lines",
         "name": "Northern Indiana District, IN",
         "showlegend": true,
         "type": "scattergl",
         "x": [
          "2018-01-01T00:00:00",
          "2018-02-01T00:00:00",
          "2018-03-01T00:00:00",
          "2018-04-01T00:00:00",
          "2018-05-01T00:00:00",
          "2018-06-01T00:00:00",
          "2018-07-01T00:00:00",
          "2018-08-01T00:00:00",
          "2018-09-01T00:00:00",
          "2018-10-01T00:00:00",
          "2018-11-01T00:00:00",
          "2018-12-01T00:00:00",
          "2019-01-01T00:00:00",
          "2019-03-01T00:00:00",
          "2019-04-01T00:00:00",
          "2019-05-01T00:00:00",
          "2019-06-01T00:00:00",
          "2019-07-01T00:00:00",
          "2019-08-01T00:00:00",
          "2019-09-01T00:00:00",
          "2019-10-01T00:00:00",
          "2019-11-01T00:00:00",
          "2019-12-01T00:00:00"
         ],
         "xaxis": "x",
         "y": [
          4,
          2,
          6,
          17,
          20,
          18,
          15,
          20,
          17,
          20,
          19,
          13,
          5,
          4,
          14,
          20,
          17,
          20,
          16,
          16,
          17,
          17,
          15
         ],
         "yaxis": "y"
        },
        {
         "hovertemplate": "port_name=Presque Isle Township, MI<br>month=%{x}<br>vessels_avg=%{y}<extra></extra>",
         "legendgroup": "Presque Isle Township, MI",
         "line": {
          "color": "#FF97FF",
          "dash": "solid"
         },
         "marker": {
          "symbol": "circle"
         },
         "mode": "lines",
         "name": "Presque Isle Township, MI",
         "showlegend": true,
         "type": "scattergl",
         "x": [
          "2018-01-01T00:00:00",
          "2018-04-01T00:00:00",
          "2018-05-01T00:00:00",
          "2018-06-01T00:00:00",
          "2018-07-01T00:00:00",
          "2018-08-01T00:00:00",
          "2018-09-01T00:00:00",
          "2018-10-01T00:00:00",
          "2018-11-01T00:00:00",
          "2018-12-01T00:00:00",
          "2019-03-01T00:00:00",
          "2019-04-01T00:00:00",
          "2019-05-01T00:00:00",
          "2019-06-01T00:00:00",
          "2019-07-01T00:00:00",
          "2019-08-01T00:00:00",
          "2019-09-01T00:00:00",
          "2019-10-01T00:00:00",
          "2019-11-01T00:00:00",
          "2019-12-01T00:00:00"
         ],
         "xaxis": "x",
         "y": [
          2,
          6,
          6,
          4,
          3,
          4,
          5,
          3,
          4,
          3,
          1,
          4,
          8,
          5,
          6,
          7,
          5,
          6,
          4,
          3
         ],
         "yaxis": "y"
        },
        {
         "hovertemplate": "port_name=Clark Township, MI<br>month=%{x}<br>vessels_avg=%{y}<extra></extra>",
         "legendgroup": "Clark Township, MI",
         "line": {
          "color": "#FECB52",
          "dash": "solid"
         },
         "marker": {
          "symbol": "circle"
         },
         "mode": "lines",
         "name": "Clark Township, MI",
         "showlegend": true,
         "type": "scattergl",
         "x": [
          "2018-01-01T00:00:00",
          "2018-02-01T00:00:00",
          "2018-03-01T00:00:00",
          "2018-04-01T00:00:00",
          "2018-05-01T00:00:00",
          "2018-06-01T00:00:00",
          "2018-07-01T00:00:00",
          "2018-08-01T00:00:00",
          "2018-09-01T00:00:00",
          "2018-10-01T00:00:00",
          "2018-11-01T00:00:00",
          "2018-12-01T00:00:00",
          "2019-01-01T00:00:00",
          "2019-02-01T00:00:00",
          "2019-03-01T00:00:00",
          "2019-04-01T00:00:00",
          "2019-05-01T00:00:00",
          "2019-06-01T00:00:00",
          "2019-07-01T00:00:00",
          "2019-08-01T00:00:00",
          "2019-09-01T00:00:00",
          "2019-10-01T00:00:00",
          "2019-11-01T00:00:00",
          "2019-12-01T00:00:00"
         ],
         "xaxis": "x",
         "y": [
          5,
          3,
          10,
          14,
          15,
          11,
          11,
          12,
          10,
          11,
          13,
          8,
          5,
          2,
          2,
          8,
          13,
          10,
          11,
          8,
          11,
          14,
          7,
          6
         ],
         "yaxis": "y"
        },
        {
         "hovertemplate": "port_name=New Haven, CT<br>month=%{x}<br>vessels_avg=%{y}<extra></extra>",
         "legendgroup": "New Haven, CT",
         "line": {
          "color": "#636efa",
          "dash": "solid"
         },
         "marker": {
          "symbol": "circle"
         },
         "mode": "lines",
         "name": "New Haven, CT",
         "showlegend": true,
         "type": "scattergl",
         "x": [
          "2018-01-01T00:00:00",
          "2018-02-01T00:00:00",
          "2018-03-01T00:00:00",
          "2018-04-01T00:00:00",
          "2018-05-01T00:00:00",
          "2018-06-01T00:00:00",
          "2018-07-01T00:00:00",
          "2018-08-01T00:00:00",
          "2018-09-01T00:00:00",
          "2018-10-01T00:00:00",
          "2018-11-01T00:00:00",
          "2018-12-01T00:00:00",
          "2019-01-01T00:00:00",
          "2019-02-01T00:00:00",
          "2019-03-01T00:00:00",
          "2019-04-01T00:00:00",
          "2019-05-01T00:00:00",
          "2019-06-01T00:00:00",
          "2019-07-01T00:00:00",
          "2019-08-01T00:00:00",
          "2019-09-01T00:00:00",
          "2019-10-01T00:00:00",
          "2019-11-01T00:00:00",
          "2019-12-01T00:00:00"
         ],
         "xaxis": "x",
         "y": [
          31,
          16,
          24,
          17,
          26,
          20,
          23,
          17,
          20,
          13,
          15,
          17,
          18,
          11,
          12,
          23,
          13,
          15,
          22,
          23,
          17,
          22,
          20,
          26
         ],
         "yaxis": "y"
        },
        {
         "hovertemplate": "port_name=Texas City, TX<br>month=%{x}<br>vessels_avg=%{y}<extra></extra>",
         "legendgroup": "Texas City, TX",
         "line": {
          "color": "#EF553B",
          "dash": "solid"
         },
         "marker": {
          "symbol": "circle"
         },
         "mode": "lines",
         "name": "Texas City, TX",
         "showlegend": true,
         "type": "scattergl",
         "x": [
          "2018-01-01T00:00:00",
          "2018-02-01T00:00:00",
          "2018-03-01T00:00:00",
          "2018-04-01T00:00:00",
          "2018-05-01T00:00:00",
          "2018-06-01T00:00:00",
          "2018-07-01T00:00:00",
          "2018-08-01T00:00:00",
          "2018-09-01T00:00:00",
          "2018-10-01T00:00:00",
          "2018-11-01T00:00:00",
          "2018-12-01T00:00:00",
          "2019-01-01T00:00:00",
          "2019-02-01T00:00:00",
          "2019-03-01T00:00:00",
          "2019-04-01T00:00:00",
          "2019-05-01T00:00:00",
          "2019-06-01T00:00:00",
          "2019-07-01T00:00:00",
          "2019-08-01T00:00:00",
          "2019-09-01T00:00:00",
          "2019-10-01T00:00:00",
          "2019-11-01T00:00:00",
          "2019-12-01T00:00:00"
         ],
         "xaxis": "x",
         "y": [
          153,
          148,
          178,
          155,
          147,
          154,
          162,
          172,
          163,
          167,
          150,
          158,
          156,
          135,
          171,
          171,
          164,
          173,
          148,
          147,
          142,
          142,
          134,
          144
         ],
         "yaxis": "y"
        },
        {
         "hovertemplate": "port_name=Kalaeloa Barbers Point, HI<br>month=%{x}<br>vessels_avg=%{y}<extra></extra>",
         "legendgroup": "Kalaeloa Barbers Point, HI",
         "line": {
          "color": "#00cc96",
          "dash": "solid"
         },
         "marker": {
          "symbol": "circle"
         },
         "mode": "lines",
         "name": "Kalaeloa Barbers Point, HI",
         "showlegend": true,
         "type": "scattergl",
         "x": [
          "2018-01-01T00:00:00",
          "2018-02-01T00:00:00",
          "2018-03-01T00:00:00",
          "2018-04-01T00:00:00",
          "2018-05-01T00:00:00",
          "2018-06-01T00:00:00",
          "2018-07-01T00:00:00",
          "2018-08-01T00:00:00",
          "2018-09-01T00:00:00",
          "2018-10-01T00:00:00",
          "2018-11-01T00:00:00",
          "2018-12-01T00:00:00",
          "2019-01-01T00:00:00",
          "2019-02-01T00:00:00",
          "2019-03-01T00:00:00",
          "2019-04-01T00:00:00",
          "2019-05-01T00:00:00",
          "2019-06-01T00:00:00",
          "2019-07-01T00:00:00",
          "2019-08-01T00:00:00",
          "2019-09-01T00:00:00",
          "2019-10-01T00:00:00",
          "2019-11-01T00:00:00",
          "2019-12-01T00:00:00"
         ],
         "xaxis": "x",
         "y": [
          17,
          13,
          22,
          16,
          12,
          15,
          16,
          19,
          19,
          19,
          19,
          14,
          17,
          20,
          16,
          17,
          12,
          19,
          11,
          21,
          16,
          13,
          12,
          22
         ],
         "yaxis": "y"
        },
        {
         "hovertemplate": "port_name=Portland, ME<br>month=%{x}<br>vessels_avg=%{y}<extra></extra>",
         "legendgroup": "Portland, ME",
         "line": {
          "color": "#ab63fa",
          "dash": "solid"
         },
         "marker": {
          "symbol": "circle"
         },
         "mode": "lines",
         "name": "Portland, ME",
         "showlegend": true,
         "type": "scattergl",
         "x": [
          "2018-01-01T00:00:00",
          "2018-02-01T00:00:00",
          "2018-03-01T00:00:00",
          "2018-04-01T00:00:00",
          "2018-05-01T00:00:00",
          "2018-06-01T00:00:00",
          "2018-07-01T00:00:00",
          "2018-08-01T00:00:00",
          "2018-09-01T00:00:00",
          "2018-10-01T00:00:00",
          "2018-11-01T00:00:00",
          "2018-12-01T00:00:00",
          "2019-01-01T00:00:00",
          "2019-02-01T00:00:00",
          "2019-03-01T00:00:00",
          "2019-04-01T00:00:00",
          "2019-05-01T00:00:00",
          "2019-06-01T00:00:00",
          "2019-07-01T00:00:00",
          "2019-08-01T00:00:00",
          "2019-09-01T00:00:00",
          "2019-10-01T00:00:00",
          "2019-11-01T00:00:00",
          "2019-12-01T00:00:00"
         ],
         "xaxis": "x",
         "y": [
          29,
          23,
          27,
          32,
          46,
          34,
          45,
          36,
          33,
          20,
          20,
          22,
          18,
          24,
          20,
          29,
          22,
          33,
          48,
          36,
          36,
          33,
          21,
          25
         ],
         "yaxis": "y"
        },
        {
         "hovertemplate": "port_name=Port of Portland, OR<br>month=%{x}<br>vessels_avg=%{y}<extra></extra>",
         "legendgroup": "Port of Portland, OR",
         "line": {
          "color": "#FFA15A",
          "dash": "solid"
         },
         "marker": {
          "symbol": "circle"
         },
         "mode": "lines",
         "name": "Port of Portland, OR",
         "showlegend": true,
         "type": "scattergl",
         "x": [
          "2018-01-01T00:00:00",
          "2018-02-01T00:00:00",
          "2018-03-01T00:00:00",
          "2018-04-01T00:00:00",
          "2018-05-01T00:00:00",
          "2018-06-01T00:00:00",
          "2018-07-01T00:00:00",
          "2018-08-01T00:00:00",
          "2018-09-01T00:00:00",
          "2018-10-01T00:00:00",
          "2018-11-01T00:00:00",
          "2018-12-01T00:00:00",
          "2019-01-01T00:00:00",
          "2019-02-01T00:00:00",
          "2019-03-01T00:00:00",
          "2019-04-01T00:00:00",
          "2019-05-01T00:00:00",
          "2019-06-01T00:00:00",
          "2019-07-01T00:00:00",
          "2019-08-01T00:00:00",
          "2019-09-01T00:00:00",
          "2019-10-01T00:00:00",
          "2019-11-01T00:00:00",
          "2019-12-01T00:00:00"
         ],
         "xaxis": "x",
         "y": [
          12,
          9,
          4,
          10,
          10,
          7,
          11,
          11,
          6,
          9,
          7,
          3,
          2,
          9,
          7,
          5,
          8,
          8,
          7,
          5,
          8,
          4,
          6,
          9
         ],
         "yaxis": "y"
        },
        {
         "hovertemplate": "port_name=Searsport, ME<br>month=%{x}<br>vessels_avg=%{y}<extra></extra>",
         "legendgroup": "Searsport, ME",
         "line": {
          "color": "#19d3f3",
          "dash": "solid"
         },
         "marker": {
          "symbol": "circle"
         },
         "mode": "lines",
         "name": "Searsport, ME",
         "showlegend": true,
         "type": "scattergl",
         "x": [
          "2018-01-01T00:00:00",
          "2018-02-01T00:00:00",
          "2018-03-01T00:00:00",
          "2018-04-01T00:00:00",
          "2018-05-01T00:00:00",
          "2018-06-01T00:00:00",
          "2018-07-01T00:00:00",
          "2018-08-01T00:00:00",
          "2018-09-01T00:00:00",
          "2018-10-01T00:00:00",
          "2018-11-01T00:00:00",
          "2018-12-01T00:00:00",
          "2019-01-01T00:00:00",
          "2019-02-01T00:00:00",
          "2019-03-01T00:00:00",
          "2019-04-01T00:00:00",
          "2019-05-01T00:00:00",
          "2019-06-01T00:00:00",
          "2019-07-01T00:00:00",
          "2019-08-01T00:00:00",
          "2019-09-01T00:00:00",
          "2019-10-01T00:00:00",
          "2019-11-01T00:00:00",
          "2019-12-01T00:00:00"
         ],
         "xaxis": "x",
         "y": [
          21,
          17,
          27,
          29,
          46,
          45,
          42,
          35,
          35,
          13,
          13,
          16,
          8,
          13,
          16,
          13,
          19,
          31,
          24,
          24,
          23,
          18,
          10,
          12
         ],
         "yaxis": "y"
        },
        {
         "hovertemplate": "port_name=Canaveral Port District, FL<br>month=%{x}<br>vessels_avg=%{y}<extra></extra>",
         "legendgroup": "Canaveral Port District, FL",
         "line": {
          "color": "#FF6692",
          "dash": "solid"
         },
         "marker": {
          "symbol": "circle"
         },
         "mode": "lines",
         "name": "Canaveral Port District, FL",
         "showlegend": true,
         "type": "scattergl",
         "x": [
          "2018-01-01T00:00:00",
          "2018-02-01T00:00:00",
          "2018-03-01T00:00:00",
          "2018-04-01T00:00:00",
          "2018-05-01T00:00:00",
          "2018-06-01T00:00:00",
          "2018-07-01T00:00:00",
          "2018-08-01T00:00:00",
          "2018-09-01T00:00:00",
          "2018-10-01T00:00:00",
          "2018-11-01T00:00:00",
          "2018-12-01T00:00:00",
          "2019-01-01T00:00:00",
          "2019-02-01T00:00:00",
          "2019-03-01T00:00:00",
          "2019-04-01T00:00:00",
          "2019-05-01T00:00:00",
          "2019-06-01T00:00:00",
          "2019-07-01T00:00:00",
          "2019-08-01T00:00:00",
          "2019-09-01T00:00:00",
          "2019-10-01T00:00:00",
          "2019-11-01T00:00:00",
          "2019-12-01T00:00:00"
         ],
         "xaxis": "x",
         "y": [
          32,
          30,
          37,
          36,
          33,
          30,
          33,
          36,
          22,
          21,
          21,
          27,
          31,
          22,
          30,
          29,
          25,
          26,
          29,
          23,
          22,
          22,
          24,
          24
         ],
         "yaxis": "y"
        },
        {
         "hovertemplate": "port_name=Port of Long Beach, CA<br>month=%{x}<br>vessels_avg=%{y}<extra></extra>",
         "legendgroup": "Port of Long Beach, CA",
         "line": {
          "color": "#B6E880",
          "dash": "solid"
         },
         "marker": {
          "symbol": "circle"
         },
         "mode": "lines",
         "name": "Port of Long Beach, CA",
         "showlegend": true,
         "type": "scattergl",
         "x": [
          "2018-01-01T00:00:00",
          "2018-02-01T00:00:00",
          "2018-03-01T00:00:00",
          "2018-04-01T00:00:00",
          "2018-05-01T00:00:00",
          "2018-06-01T00:00:00",
          "2018-07-01T00:00:00",
          "2018-08-01T00:00:00",
          "2018-09-01T00:00:00",
          "2018-10-01T00:00:00",
          "2018-11-01T00:00:00",
          "2018-12-01T00:00:00",
          "2019-01-01T00:00:00",
          "2019-02-01T00:00:00",
          "2019-03-01T00:00:00",
          "2019-04-01T00:00:00",
          "2019-05-01T00:00:00",
          "2019-06-01T00:00:00",
          "2019-07-01T00:00:00",
          "2019-08-01T00:00:00",
          "2019-09-01T00:00:00",
          "2019-10-01T00:00:00",
          "2019-11-01T00:00:00",
          "2019-12-01T00:00:00"
         ],
         "xaxis": "x",
         "y": [
          224,
          194,
          212,
          213,
          207,
          205,
          184,
          183,
          182,
          184,
          168,
          170,
          164,
          159,
          173,
          175,
          169,
          183,
          188,
          166,
          170,
          194,
          182,
          188
         ],
         "yaxis": "y"
        },
        {
         "hovertemplate": "port_name=Duluth-Superior, MN and WI<br>month=%{x}<br>vessels_avg=%{y}<extra></extra>",
         "legendgroup": "Duluth-Superior, MN and WI",
         "line": {
          "color": "#FF97FF",
          "dash": "solid"
         },
         "marker": {
          "symbol": "circle"
         },
         "mode": "lines",
         "name": "Duluth-Superior, MN and WI",
         "showlegend": true,
         "type": "scattergl",
         "x": [
          "2018-01-01T00:00:00",
          "2018-02-01T00:00:00",
          "2018-03-01T00:00:00",
          "2018-04-01T00:00:00",
          "2018-05-01T00:00:00",
          "2018-06-01T00:00:00",
          "2018-07-01T00:00:00",
          "2018-08-01T00:00:00",
          "2018-09-01T00:00:00",
          "2018-10-01T00:00:00",
          "2018-11-01T00:00:00",
          "2018-12-01T00:00:00",
          "2019-01-01T00:00:00",
          "2019-02-01T00:00:00",
          "2019-03-01T00:00:00",
          "2019-04-01T00:00:00",
          "2019-05-01T00:00:00",
          "2019-06-01T00:00:00",
          "2019-07-01T00:00:00",
          "2019-08-01T00:00:00",
          "2019-09-01T00:00:00",
          "2019-10-01T00:00:00",
          "2019-11-01T00:00:00",
          "2019-12-01T00:00:00"
         ],
         "xaxis": "x",
         "y": [
          7,
          1,
          8,
          29,
          24,
          20,
          20,
          27,
          27,
          25,
          20,
          21,
          6,
          1,
          5,
          25,
          27,
          25,
          24,
          31,
          32,
          28,
          26,
          19
         ],
         "yaxis": "y"
        },
        {
         "hovertemplate": "port_name=Illinois International Port, IL<br>month=%{x}<br>vessels_avg=%{y}<extra></extra>",
         "legendgroup": "Illinois International Port, IL",
         "line": {
          "color": "#FECB52",
          "dash": "solid"
         },
         "marker": {
          "symbol": "circle"
         },
         "mode": "lines",
         "name": "Illinois International Port, IL",
         "showlegend": true,
         "type": "scattergl",
         "x": [
          "2018-01-01T00:00:00",
          "2018-03-01T00:00:00",
          "2018-04-01T00:00:00",
          "2018-05-01T00:00:00",
          "2018-06-01T00:00:00",
          "2018-07-01T00:00:00",
          "2018-08-01T00:00:00",
          "2018-09-01T00:00:00",
          "2018-10-01T00:00:00",
          "2018-11-01T00:00:00",
          "2018-12-01T00:00:00",
          "2019-01-01T00:00:00",
          "2019-02-01T00:00:00",
          "2019-03-01T00:00:00",
          "2019-04-01T00:00:00",
          "2019-05-01T00:00:00",
          "2019-06-01T00:00:00",
          "2019-07-01T00:00:00",
          "2019-08-01T00:00:00",
          "2019-09-01T00:00:00",
          "2019-10-01T00:00:00",
          "2019-11-01T00:00:00",
          "2019-12-01T00:00:00"
         ],
         "xaxis": "x",
         "y": [
          1,
          1,
          4,
          10,
          8,
          9,
          10,
          6,
          7,
          6,
          2,
          2,
          1,
          1,
          7,
          10,
          6,
          12,
          11,
          4,
          5,
          4,
          4
         ],
         "yaxis": "y"
        },
        {
         "hovertemplate": "port_name=Ashtabula Port Authority, OH<br>month=%{x}<br>vessels_avg=%{y}<extra></extra>",
         "legendgroup": "Ashtabula Port Authority, OH",
         "line": {
          "color": "#636efa",
          "dash": "solid"
         },
         "marker": {
          "symbol": "circle"
         },
         "mode": "lines",
         "name": "Ashtabula Port Authority, OH",
         "showlegend": true,
         "type": "scattergl",
         "x": [
          "2018-01-01T00:00:00",
          "2018-02-01T00:00:00",
          "2018-03-01T00:00:00",
          "2018-04-01T00:00:00",
          "2018-05-01T00:00:00",
          "2018-06-01T00:00:00",
          "2018-07-01T00:00:00",
          "2018-08-01T00:00:00",
          "2018-09-01T00:00:00",
          "2018-10-01T00:00:00",
          "2018-11-01T00:00:00",
          "2018-12-01T00:00:00",
          "2019-01-01T00:00:00",
          "2019-02-01T00:00:00",
          "2019-03-01T00:00:00",
          "2019-04-01T00:00:00",
          "2019-05-01T00:00:00",
          "2019-06-01T00:00:00",
          "2019-07-01T00:00:00",
          "2019-08-01T00:00:00",
          "2019-09-01T00:00:00",
          "2019-10-01T00:00:00",
          "2019-11-01T00:00:00",
          "2019-12-01T00:00:00"
         ],
         "xaxis": "x",
         "y": [
          3,
          1,
          3,
          5,
          9,
          5,
          4,
          5,
          6,
          7,
          3,
          5,
          5,
          1,
          2,
          5,
          9,
          4,
          9,
          10,
          3,
          7,
          6,
          7
         ],
         "yaxis": "y"
        },
        {
         "hovertemplate": "port_name=Seattle, WA<br>month=%{x}<br>vessels_avg=%{y}<extra></extra>",
         "legendgroup": "Seattle, WA",
         "line": {
          "color": "#EF553B",
          "dash": "solid"
         },
         "marker": {
          "symbol": "circle"
         },
         "mode": "lines",
         "name": "Seattle, WA",
         "showlegend": true,
         "type": "scattergl",
         "x": [
          "2018-01-01T00:00:00",
          "2018-02-01T00:00:00",
          "2018-03-01T00:00:00",
          "2018-04-01T00:00:00",
          "2018-05-01T00:00:00",
          "2018-06-01T00:00:00",
          "2018-07-01T00:00:00",
          "2018-08-01T00:00:00",
          "2018-09-01T00:00:00",
          "2018-10-01T00:00:00",
          "2018-11-01T00:00:00",
          "2018-12-01T00:00:00",
          "2019-01-01T00:00:00",
          "2019-02-01T00:00:00",
          "2019-03-01T00:00:00",
          "2019-04-01T00:00:00",
          "2019-05-01T00:00:00",
          "2019-06-01T00:00:00",
          "2019-07-01T00:00:00",
          "2019-08-01T00:00:00",
          "2019-09-01T00:00:00",
          "2019-10-01T00:00:00",
          "2019-11-01T00:00:00",
          "2019-12-01T00:00:00"
         ],
         "xaxis": "x",
         "y": [
          58,
          53,
          49,
          47,
          57,
          58,
          58,
          53,
          57,
          49,
          55,
          55,
          55,
          53,
          51,
          54,
          54,
          48,
          54,
          47,
          55,
          56,
          56,
          56
         ],
         "yaxis": "y"
        },
        {
         "hovertemplate": "port_name=Redwood City, CA<br>month=%{x}<br>vessels_avg=%{y}<extra></extra>",
         "legendgroup": "Redwood City, CA",
         "line": {
          "color": "#00cc96",
          "dash": "solid"
         },
         "marker": {
          "symbol": "circle"
         },
         "mode": "lines",
         "name": "Redwood City, CA",
         "showlegend": true,
         "type": "scattergl",
         "x": [
          "2018-01-01T00:00:00",
          "2018-02-01T00:00:00",
          "2018-03-01T00:00:00",
          "2018-04-01T00:00:00",
          "2018-05-01T00:00:00",
          "2018-06-01T00:00:00",
          "2018-07-01T00:00:00",
          "2018-08-01T00:00:00",
          "2018-09-01T00:00:00",
          "2018-10-01T00:00:00",
          "2018-11-01T00:00:00",
          "2018-12-01T00:00:00",
          "2019-01-01T00:00:00",
          "2019-02-01T00:00:00",
          "2019-03-01T00:00:00",
          "2019-04-01T00:00:00",
          "2019-05-01T00:00:00",
          "2019-06-01T00:00:00",
          "2019-07-01T00:00:00",
          "2019-08-01T00:00:00",
          "2019-09-01T00:00:00",
          "2019-10-01T00:00:00",
          "2019-11-01T00:00:00",
          "2019-12-01T00:00:00"
         ],
         "xaxis": "x",
         "y": [
          2,
          3,
          6,
          10,
          3,
          6,
          7,
          7,
          6,
          7,
          4,
          4,
          6,
          3,
          6,
          4,
          4,
          4,
          4,
          6,
          6,
          4,
          3,
          8
         ],
         "yaxis": "y"
        },
        {
         "hovertemplate": "port_name=Port of Oakland, CA<br>month=%{x}<br>vessels_avg=%{y}<extra></extra>",
         "legendgroup": "Port of Oakland, CA",
         "line": {
          "color": "#ab63fa",
          "dash": "solid"
         },
         "marker": {
          "symbol": "circle"
         },
         "mode": "lines",
         "name": "Port of Oakland, CA",
         "showlegend": true,
         "type": "scattergl",
         "x": [
          "2018-01-01T00:00:00",
          "2018-02-01T00:00:00",
          "2018-03-01T00:00:00",
          "2018-04-01T00:00:00",
          "2018-05-01T00:00:00",
          "2018-06-01T00:00:00",
          "2018-07-01T00:00:00",
          "2018-08-01T00:00:00",
          "2018-09-01T00:00:00",
          "2018-10-01T00:00:00",
          "2018-11-01T00:00:00",
          "2018-12-01T00:00:00",
          "2019-01-01T00:00:00",
          "2019-02-01T00:00:00",
          "2019-03-01T00:00:00",
          "2019-04-01T00:00:00",
          "2019-05-01T00:00:00",
          "2019-06-01T00:00:00",
          "2019-07-01T00:00:00",
          "2019-08-01T00:00:00",
          "2019-09-01T00:00:00",
          "2019-10-01T00:00:00",
          "2019-11-01T00:00:00",
          "2019-12-01T00:00:00"
         ],
         "xaxis": "x",
         "y": [
          137,
          121,
          124,
          127,
          125,
          126,
          123,
          120,
          116,
          107,
          100,
          102,
          112,
          104,
          102,
          97,
          88,
          97,
          108,
          111,
          100,
          104,
          92,
          99
         ],
         "yaxis": "y"
        },
        {
         "hovertemplate": "port_name=Honolulu, O'ahu, HI<br>month=%{x}<br>vessels_avg=%{y}<extra></extra>",
         "legendgroup": "Honolulu, O'ahu, HI",
         "line": {
          "color": "#FFA15A",
          "dash": "solid"
         },
         "marker": {
          "symbol": "circle"
         },
         "mode": "lines",
         "name": "Honolulu, O'ahu, HI",
         "showlegend": true,
         "type": "scattergl",
         "x": [
          "2018-01-01T00:00:00",
          "2018-02-01T00:00:00",
          "2018-03-01T00:00:00",
          "2018-04-01T00:00:00",
          "2018-05-01T00:00:00",
          "2018-06-01T00:00:00",
          "2018-07-01T00:00:00",
          "2018-08-01T00:00:00",
          "2018-09-01T00:00:00",
          "2018-10-01T00:00:00",
          "2018-11-01T00:00:00",
          "2018-12-01T00:00:00",
          "2019-01-01T00:00:00",
          "2019-02-01T00:00:00",
          "2019-03-01T00:00:00",
          "2019-04-01T00:00:00",
          "2019-05-01T00:00:00",
          "2019-06-01T00:00:00",
          "2019-07-01T00:00:00",
          "2019-08-01T00:00:00",
          "2019-09-01T00:00:00",
          "2019-10-01T00:00:00",
          "2019-11-01T00:00:00",
          "2019-12-01T00:00:00"
         ],
         "xaxis": "x",
         "y": [
          47,
          36,
          44,
          37,
          38,
          46,
          41,
          39,
          37,
          36,
          32,
          34,
          36,
          32,
          41,
          34,
          33,
          38,
          36,
          33,
          35,
          33,
          37,
          37
         ],
         "yaxis": "y"
        },
        {
         "hovertemplate": "port_name=Beaumont, TX<br>month=%{x}<br>vessels_avg=%{y}<extra></extra>",
         "legendgroup": "Beaumont, TX",
         "line": {
          "color": "#19d3f3",
          "dash": "solid"
         },
         "marker": {
          "symbol": "circle"
         },
         "mode": "lines",
         "name": "Beaumont, TX",
         "showlegend": true,
         "type": "scattergl",
         "x": [
          "2018-01-01T00:00:00",
          "2018-02-01T00:00:00",
          "2018-03-01T00:00:00",
          "2018-04-01T00:00:00",
          "2018-05-01T00:00:00",
          "2018-06-01T00:00:00",
          "2018-07-01T00:00:00",
          "2018-08-01T00:00:00",
          "2018-09-01T00:00:00",
          "2018-10-01T00:00:00",
          "2018-11-01T00:00:00",
          "2018-12-01T00:00:00",
          "2019-01-01T00:00:00",
          "2019-02-01T00:00:00",
          "2019-03-01T00:00:00",
          "2019-04-01T00:00:00",
          "2019-05-01T00:00:00",
          "2019-06-01T00:00:00",
          "2019-07-01T00:00:00",
          "2019-08-01T00:00:00",
          "2019-09-01T00:00:00",
          "2019-10-01T00:00:00",
          "2019-11-01T00:00:00",
          "2019-12-01T00:00:00"
         ],
         "xaxis": "x",
         "y": [
          147,
          103,
          118,
          127,
          124,
          125,
          127,
          121,
          125,
          147,
          122,
          138,
          123,
          114,
          146,
          131,
          123,
          124,
          123,
          119,
          92,
          112,
          94,
          106
         ],
         "yaxis": "y"
        },
        {
         "hovertemplate": "port_name=Manatee County Port, FL<br>month=%{x}<br>vessels_avg=%{y}<extra></extra>",
         "legendgroup": "Manatee County Port, FL",
         "line": {
          "color": "#FF6692",
          "dash": "solid"
         },
         "marker": {
          "symbol": "circle"
         },
         "mode": "lines",
         "name": "Manatee County Port, FL",
         "showlegend": true,
         "type": "scattergl",
         "x": [
          "2018-01-01T00:00:00",
          "2018-02-01T00:00:00",
          "2018-03-01T00:00:00",
          "2018-04-01T00:00:00",
          "2018-05-01T00:00:00",
          "2018-06-01T00:00:00",
          "2018-07-01T00:00:00",
          "2018-08-01T00:00:00",
          "2018-09-01T00:00:00",
          "2018-10-01T00:00:00",
          "2018-11-01T00:00:00",
          "2018-12-01T00:00:00",
          "2019-01-01T00:00:00",
          "2019-02-01T00:00:00",
          "2019-03-01T00:00:00",
          "2019-04-01T00:00:00",
          "2019-05-01T00:00:00",
          "2019-06-01T00:00:00",
          "2019-07-01T00:00:00",
          "2019-08-01T00:00:00",
          "2019-09-01T00:00:00",
          "2019-10-01T00:00:00",
          "2019-11-01T00:00:00",
          "2019-12-01T00:00:00"
         ],
         "xaxis": "x",
         "y": [
          21,
          23,
          23,
          24,
          25,
          22,
          25,
          19,
          19,
          21,
          18,
          19,
          24,
          17,
          28,
          23,
          20,
          20,
          13,
          15,
          17,
          18,
          19,
          16
         ],
         "yaxis": "y"
        },
        {
         "hovertemplate": "port_name=Tampa Port Authority, FL<br>month=%{x}<br>vessels_avg=%{y}<extra></extra>",
         "legendgroup": "Tampa Port Authority, FL",
         "line": {
          "color": "#B6E880",
          "dash": "solid"
         },
         "marker": {
          "symbol": "circle"
         },
         "mode": "lines",
         "name": "Tampa Port Authority, FL",
         "showlegend": true,
         "type": "scattergl",
         "x": [
          "2018-01-01T00:00:00",
          "2018-02-01T00:00:00",
          "2018-03-01T00:00:00",
          "2018-04-01T00:00:00",
          "2018-05-01T00:00:00",
          "2018-06-01T00:00:00",
          "2018-07-01T00:00:00",
          "2018-08-01T00:00:00",
          "2018-09-01T00:00:00",
          "2018-10-01T00:00:00",
          "2018-11-01T00:00:00",
          "2018-12-01T00:00:00",
          "2019-01-01T00:00:00",
          "2019-02-01T00:00:00",
          "2019-03-01T00:00:00",
          "2019-04-01T00:00:00",
          "2019-05-01T00:00:00",
          "2019-06-01T00:00:00",
          "2019-07-01T00:00:00",
          "2019-08-01T00:00:00",
          "2019-09-01T00:00:00",
          "2019-10-01T00:00:00",
          "2019-11-01T00:00:00",
          "2019-12-01T00:00:00"
         ],
         "xaxis": "x",
         "y": [
          82,
          70,
          75,
          79,
          71,
          78,
          70,
          64,
          60,
          60,
          68,
          53,
          60,
          60,
          73,
          71,
          73,
          70,
          64,
          79,
          70,
          80,
          63,
          64
         ],
         "yaxis": "y"
        },
        {
         "hovertemplate": "port_name=San Juan, PR<br>month=%{x}<br>vessels_avg=%{y}<extra></extra>",
         "legendgroup": "San Juan, PR",
         "line": {
          "color": "#FF97FF",
          "dash": "solid"
         },
         "marker": {
          "symbol": "circle"
         },
         "mode": "lines",
         "name": "San Juan, PR",
         "showlegend": true,
         "type": "scattergl",
         "x": [
          "2018-01-01T00:00:00",
          "2018-02-01T00:00:00",
          "2018-03-01T00:00:00",
          "2018-04-01T00:00:00",
          "2018-05-01T00:00:00",
          "2018-06-01T00:00:00",
          "2018-07-01T00:00:00",
          "2018-08-01T00:00:00",
          "2018-09-01T00:00:00",
          "2018-10-01T00:00:00",
          "2018-11-01T00:00:00",
          "2018-12-01T00:00:00",
          "2019-01-01T00:00:00",
          "2019-02-01T00:00:00",
          "2019-03-01T00:00:00",
          "2019-04-01T00:00:00",
          "2019-05-01T00:00:00",
          "2019-06-01T00:00:00",
          "2019-07-01T00:00:00",
          "2019-08-01T00:00:00",
          "2019-09-01T00:00:00",
          "2019-10-01T00:00:00",
          "2019-11-01T00:00:00",
          "2019-12-01T00:00:00"
         ],
         "xaxis": "x",
         "y": [
          43,
          51,
          56,
          45,
          50,
          43,
          51,
          44,
          39,
          49,
          42,
          33,
          49,
          37,
          44,
          38,
          43,
          40,
          42,
          41,
          42,
          36,
          37,
          39
         ],
         "yaxis": "y"
        },
        {
         "hovertemplate": "port_name=Port of Pascagoula, MS<br>month=%{x}<br>vessels_avg=%{y}<extra></extra>",
         "legendgroup": "Port of Pascagoula, MS",
         "line": {
          "color": "#FECB52",
          "dash": "solid"
         },
         "marker": {
          "symbol": "circle"
         },
         "mode": "lines",
         "name": "Port of Pascagoula, MS",
         "showlegend": true,
         "type": "scattergl",
         "x": [
          "2018-01-01T00:00:00",
          "2018-02-01T00:00:00",
          "2018-03-01T00:00:00",
          "2018-04-01T00:00:00",
          "2018-05-01T00:00:00",
          "2018-06-01T00:00:00",
          "2018-07-01T00:00:00",
          "2018-08-01T00:00:00",
          "2018-09-01T00:00:00",
          "2018-10-01T00:00:00",
          "2018-11-01T00:00:00",
          "2018-12-01T00:00:00",
          "2019-01-01T00:00:00",
          "2019-02-01T00:00:00",
          "2019-03-01T00:00:00",
          "2019-04-01T00:00:00",
          "2019-05-01T00:00:00",
          "2019-06-01T00:00:00",
          "2019-07-01T00:00:00",
          "2019-08-01T00:00:00",
          "2019-09-01T00:00:00",
          "2019-10-01T00:00:00",
          "2019-11-01T00:00:00",
          "2019-12-01T00:00:00"
         ],
         "xaxis": "x",
         "y": [
          71,
          47,
          52,
          31,
          49,
          55,
          56,
          54,
          50,
          50,
          45,
          55,
          53,
          45,
          50,
          50,
          47,
          41,
          37,
          45,
          41,
          39,
          42,
          42
         ],
         "yaxis": "y"
        },
        {
         "hovertemplate": "port_name=Nawiliwili, Kaua'i, HI<br>month=%{x}<br>vessels_avg=%{y}<extra></extra>",
         "legendgroup": "Nawiliwili, Kaua'i, HI",
         "line": {
          "color": "#636efa",
          "dash": "solid"
         },
         "marker": {
          "symbol": "circle"
         },
         "mode": "lines",
         "name": "Nawiliwili, Kaua'i, HI",
         "showlegend": true,
         "type": "scattergl",
         "x": [
          "2018-01-01T00:00:00",
          "2018-02-01T00:00:00",
          "2018-03-01T00:00:00",
          "2018-04-01T00:00:00",
          "2018-06-01T00:00:00",
          "2018-07-01T00:00:00",
          "2018-08-01T00:00:00",
          "2018-09-01T00:00:00",
          "2018-10-01T00:00:00",
          "2018-12-01T00:00:00",
          "2019-01-01T00:00:00",
          "2019-02-01T00:00:00",
          "2019-03-01T00:00:00",
          "2019-04-01T00:00:00",
          "2019-05-01T00:00:00",
          "2019-06-01T00:00:00",
          "2019-07-01T00:00:00",
          "2019-08-01T00:00:00",
          "2019-09-01T00:00:00",
          "2019-10-01T00:00:00",
          "2019-11-01T00:00:00",
          "2019-12-01T00:00:00"
         ],
         "xaxis": "x",
         "y": [
          1,
          2,
          2,
          1,
          2,
          2,
          2,
          2,
          2,
          1,
          1,
          1,
          1,
          2,
          2,
          1,
          1,
          1,
          1,
          2,
          1,
          1
         ],
         "yaxis": "y"
        },
        {
         "hovertemplate": "port_name=Hilo, Hawai'i, HI<br>month=%{x}<br>vessels_avg=%{y}<extra></extra>",
         "legendgroup": "Hilo, Hawai'i, HI",
         "line": {
          "color": "#EF553B",
          "dash": "solid"
         },
         "marker": {
          "symbol": "circle"
         },
         "mode": "lines",
         "name": "Hilo, Hawai'i, HI",
         "showlegend": true,
         "type": "scattergl",
         "x": [
          "2018-01-01T00:00:00",
          "2018-02-01T00:00:00",
          "2018-07-01T00:00:00",
          "2018-11-01T00:00:00",
          "2019-12-01T00:00:00"
         ],
         "xaxis": "x",
         "y": [
          1,
          1,
          1,
          1,
          1
         ],
         "yaxis": "y"
        },
        {
         "hovertemplate": "port_name=Houston Port Authority, TX<br>month=%{x}<br>vessels_avg=%{y}<extra></extra>",
         "legendgroup": "Houston Port Authority, TX",
         "line": {
          "color": "#00cc96",
          "dash": "solid"
         },
         "marker": {
          "symbol": "circle"
         },
         "mode": "lines",
         "name": "Houston Port Authority, TX",
         "showlegend": true,
         "type": "scattergl",
         "x": [
          "2018-01-01T00:00:00",
          "2018-02-01T00:00:00",
          "2018-03-01T00:00:00",
          "2018-04-01T00:00:00",
          "2018-05-01T00:00:00",
          "2018-06-01T00:00:00",
          "2018-07-01T00:00:00",
          "2018-08-01T00:00:00",
          "2018-09-01T00:00:00",
          "2018-10-01T00:00:00",
          "2018-11-01T00:00:00",
          "2018-12-01T00:00:00",
          "2019-01-01T00:00:00",
          "2019-02-01T00:00:00",
          "2019-03-01T00:00:00",
          "2019-04-01T00:00:00",
          "2019-05-01T00:00:00",
          "2019-06-01T00:00:00",
          "2019-07-01T00:00:00",
          "2019-08-01T00:00:00",
          "2019-09-01T00:00:00",
          "2019-10-01T00:00:00",
          "2019-11-01T00:00:00",
          "2019-12-01T00:00:00"
         ],
         "xaxis": "x",
         "y": [
          622,
          570,
          655,
          596,
          585,
          546,
          578,
          527,
          509,
          550,
          508,
          508,
          529,
          456,
          525,
          543,
          543,
          506,
          512,
          516,
          493,
          505,
          484,
          511
         ],
         "yaxis": "y"
        },
        {
         "hovertemplate": "port_name=Port of Gulfport, MS<br>month=%{x}<br>vessels_avg=%{y}<extra></extra>",
         "legendgroup": "Port of Gulfport, MS",
         "line": {
          "color": "#ab63fa",
          "dash": "solid"
         },
         "marker": {
          "symbol": "circle"
         },
         "mode": "lines",
         "name": "Port of Gulfport, MS",
         "showlegend": true,
         "type": "scattergl",
         "x": [
          "2018-01-01T00:00:00",
          "2018-02-01T00:00:00",
          "2018-03-01T00:00:00",
          "2018-04-01T00:00:00",
          "2018-05-01T00:00:00",
          "2018-06-01T00:00:00",
          "2018-07-01T00:00:00",
          "2018-08-01T00:00:00",
          "2018-09-01T00:00:00",
          "2018-10-01T00:00:00",
          "2018-11-01T00:00:00",
          "2018-12-01T00:00:00",
          "2019-01-01T00:00:00",
          "2019-02-01T00:00:00",
          "2019-03-01T00:00:00",
          "2019-04-01T00:00:00",
          "2019-05-01T00:00:00",
          "2019-06-01T00:00:00",
          "2019-07-01T00:00:00",
          "2019-08-01T00:00:00",
          "2019-09-01T00:00:00",
          "2019-10-01T00:00:00",
          "2019-11-01T00:00:00",
          "2019-12-01T00:00:00"
         ],
         "xaxis": "x",
         "y": [
          8,
          8,
          5,
          11,
          9,
          8,
          5,
          8,
          9,
          7,
          6,
          5,
          8,
          10,
          9,
          7,
          9,
          11,
          8,
          11,
          9,
          7,
          7,
          9
         ],
         "yaxis": "y"
        },
        {
         "hovertemplate": "port_name=Port Jefferson, NY<br>month=%{x}<br>vessels_avg=%{y}<extra></extra>",
         "legendgroup": "Port Jefferson, NY",
         "line": {
          "color": "#FFA15A",
          "dash": "solid"
         },
         "marker": {
          "symbol": "circle"
         },
         "mode": "lines",
         "name": "Port Jefferson, NY",
         "showlegend": true,
         "type": "scattergl",
         "x": [
          "2018-01-01T00:00:00",
          "2018-02-01T00:00:00",
          "2018-04-01T00:00:00",
          "2018-05-01T00:00:00",
          "2018-06-01T00:00:00",
          "2018-07-01T00:00:00",
          "2018-08-01T00:00:00",
          "2018-09-01T00:00:00",
          "2018-10-01T00:00:00",
          "2018-11-01T00:00:00",
          "2018-12-01T00:00:00",
          "2019-01-01T00:00:00",
          "2019-02-01T00:00:00",
          "2019-03-01T00:00:00",
          "2019-04-01T00:00:00",
          "2019-05-01T00:00:00",
          "2019-06-01T00:00:00",
          "2019-07-01T00:00:00",
          "2019-08-01T00:00:00",
          "2019-09-01T00:00:00",
          "2019-10-01T00:00:00",
          "2019-11-01T00:00:00",
          "2019-12-01T00:00:00"
         ],
         "xaxis": "x",
         "y": [
          4,
          2,
          2,
          2,
          1,
          2,
          3,
          2,
          3,
          2,
          2,
          3,
          2,
          2,
          2,
          2,
          4,
          4,
          3,
          2,
          1,
          2,
          4
         ],
         "yaxis": "y"
        },
        {
         "hovertemplate": "port_name=Port of Savannah, GA<br>month=%{x}<br>vessels_avg=%{y}<extra></extra>",
         "legendgroup": "Port of Savannah, GA",
         "line": {
          "color": "#19d3f3",
          "dash": "solid"
         },
         "marker": {
          "symbol": "circle"
         },
         "mode": "lines",
         "name": "Port of Savannah, GA",
         "showlegend": true,
         "type": "scattergl",
         "x": [
          "2018-01-01T00:00:00",
          "2018-02-01T00:00:00",
          "2018-03-01T00:00:00",
          "2018-04-01T00:00:00",
          "2018-05-01T00:00:00",
          "2018-06-01T00:00:00",
          "2018-07-01T00:00:00",
          "2018-08-01T00:00:00",
          "2018-09-01T00:00:00",
          "2018-10-01T00:00:00",
          "2018-11-01T00:00:00",
          "2018-12-01T00:00:00",
          "2019-01-01T00:00:00",
          "2019-02-01T00:00:00",
          "2019-03-01T00:00:00",
          "2019-04-01T00:00:00",
          "2019-05-01T00:00:00",
          "2019-06-01T00:00:00",
          "2019-07-01T00:00:00",
          "2019-08-01T00:00:00",
          "2019-09-01T00:00:00",
          "2019-10-01T00:00:00",
          "2019-11-01T00:00:00",
          "2019-12-01T00:00:00"
         ],
         "xaxis": "x",
         "y": [
          267,
          234,
          246,
          248,
          241,
          226,
          223,
          232,
          223,
          227,
          208,
          207,
          227,
          199,
          221,
          199,
          218,
          203,
          218,
          222,
          205,
          196,
          193,
          205
         ],
         "yaxis": "y"
        },
        {
         "hovertemplate": "port_name=Port Everglades, FL<br>month=%{x}<br>vessels_avg=%{y}<extra></extra>",
         "legendgroup": "Port Everglades, FL",
         "line": {
          "color": "#FF6692",
          "dash": "solid"
         },
         "marker": {
          "symbol": "circle"
         },
         "mode": "lines",
         "name": "Port Everglades, FL",
         "showlegend": true,
         "type": "scattergl",
         "x": [
          "2018-01-01T00:00:00",
          "2018-02-01T00:00:00",
          "2018-03-01T00:00:00",
          "2018-04-01T00:00:00",
          "2018-05-01T00:00:00",
          "2018-06-01T00:00:00",
          "2018-07-01T00:00:00",
          "2018-08-01T00:00:00",
          "2018-09-01T00:00:00",
          "2018-10-01T00:00:00",
          "2018-11-01T00:00:00",
          "2018-12-01T00:00:00",
          "2019-01-01T00:00:00",
          "2019-02-01T00:00:00",
          "2019-03-01T00:00:00",
          "2019-04-01T00:00:00",
          "2019-05-01T00:00:00",
          "2019-06-01T00:00:00",
          "2019-07-01T00:00:00",
          "2019-08-01T00:00:00",
          "2019-09-01T00:00:00",
          "2019-10-01T00:00:00",
          "2019-11-01T00:00:00",
          "2019-12-01T00:00:00"
         ],
         "xaxis": "x",
         "y": [
          126,
          116,
          115,
          119,
          114,
          97,
          112,
          115,
          110,
          120,
          115,
          111,
          105,
          105,
          115,
          114,
          109,
          99,
          106,
          90,
          103,
          103,
          102,
          109
         ],
         "yaxis": "y"
        },
        {
         "hovertemplate": "port_name=Greater Lafourche Port, LA<br>month=%{x}<br>vessels_avg=%{y}<extra></extra>",
         "legendgroup": "Greater Lafourche Port, LA",
         "line": {
          "color": "#B6E880",
          "dash": "solid"
         },
         "marker": {
          "symbol": "circle"
         },
         "mode": "lines",
         "name": "Greater Lafourche Port, LA",
         "showlegend": true,
         "type": "scattergl",
         "x": [
          "2018-01-01T00:00:00",
          "2018-02-01T00:00:00",
          "2018-03-01T00:00:00",
          "2018-04-01T00:00:00",
          "2018-05-01T00:00:00",
          "2018-06-01T00:00:00",
          "2018-07-01T00:00:00",
          "2018-08-01T00:00:00",
          "2018-09-01T00:00:00",
          "2018-10-01T00:00:00",
          "2018-11-01T00:00:00",
          "2018-12-01T00:00:00",
          "2019-01-01T00:00:00",
          "2019-02-01T00:00:00",
          "2019-03-01T00:00:00",
          "2019-04-01T00:00:00",
          "2019-05-01T00:00:00",
          "2019-06-01T00:00:00",
          "2019-07-01T00:00:00",
          "2019-08-01T00:00:00",
          "2019-09-01T00:00:00",
          "2019-10-01T00:00:00",
          "2019-11-01T00:00:00",
          "2019-12-01T00:00:00"
         ],
         "xaxis": "x",
         "y": [
          40,
          34,
          45,
          38,
          31,
          25,
          28,
          21,
          29,
          33,
          23,
          37,
          29,
          28,
          35,
          42,
          43,
          33,
          16,
          32,
          28,
          24,
          32,
          28
         ],
         "yaxis": "y"
        },
        {
         "hovertemplate": "port_name=Stockton, CA<br>month=%{x}<br>vessels_avg=%{y}<extra></extra>",
         "legendgroup": "Stockton, CA",
         "line": {
          "color": "#FF97FF",
          "dash": "solid"
         },
         "marker": {
          "symbol": "circle"
         },
         "mode": "lines",
         "name": "Stockton, CA",
         "showlegend": true,
         "type": "scattergl",
         "x": [
          "2018-01-01T00:00:00",
          "2018-02-01T00:00:00",
          "2018-03-01T00:00:00",
          "2018-04-01T00:00:00",
          "2018-05-01T00:00:00",
          "2018-06-01T00:00:00",
          "2018-07-01T00:00:00",
          "2018-08-01T00:00:00",
          "2018-09-01T00:00:00",
          "2018-10-01T00:00:00",
          "2018-11-01T00:00:00",
          "2018-12-01T00:00:00",
          "2019-01-01T00:00:00",
          "2019-02-01T00:00:00",
          "2019-03-01T00:00:00",
          "2019-04-01T00:00:00",
          "2019-05-01T00:00:00",
          "2019-06-01T00:00:00",
          "2019-07-01T00:00:00",
          "2019-08-01T00:00:00",
          "2019-09-01T00:00:00",
          "2019-10-01T00:00:00",
          "2019-11-01T00:00:00",
          "2019-12-01T00:00:00"
         ],
         "xaxis": "x",
         "y": [
          50,
          33,
          44,
          40,
          32,
          35,
          26,
          37,
          25,
          32,
          32,
          29,
          28,
          27,
          32,
          24,
          33,
          26,
          26,
          29,
          25,
          27,
          19,
          30
         ],
         "yaxis": "y"
        },
        {
         "hovertemplate": "port_name=Lake Charles Harbor District, LA<br>month=%{x}<br>vessels_avg=%{y}<extra></extra>",
         "legendgroup": "Lake Charles Harbor District, LA",
         "line": {
          "color": "#FECB52",
          "dash": "solid"
         },
         "marker": {
          "symbol": "circle"
         },
         "mode": "lines",
         "name": "Lake Charles Harbor District, LA",
         "showlegend": true,
         "type": "scattergl",
         "x": [
          "2018-01-01T00:00:00",
          "2018-02-01T00:00:00",
          "2018-03-01T00:00:00",
          "2018-04-01T00:00:00",
          "2018-05-01T00:00:00",
          "2018-06-01T00:00:00",
          "2018-07-01T00:00:00",
          "2018-08-01T00:00:00",
          "2018-09-01T00:00:00",
          "2018-10-01T00:00:00",
          "2018-11-01T00:00:00",
          "2018-12-01T00:00:00",
          "2019-01-01T00:00:00",
          "2019-02-01T00:00:00",
          "2019-03-01T00:00:00",
          "2019-04-01T00:00:00",
          "2019-05-01T00:00:00",
          "2019-06-01T00:00:00",
          "2019-07-01T00:00:00",
          "2019-08-01T00:00:00",
          "2019-09-01T00:00:00",
          "2019-10-01T00:00:00",
          "2019-11-01T00:00:00",
          "2019-12-01T00:00:00"
         ],
         "xaxis": "x",
         "y": [
          90,
          69,
          87,
          76,
          90,
          99,
          88,
          97,
          87,
          70,
          79,
          88,
          79,
          73,
          70,
          72,
          77,
          77,
          83,
          81,
          76,
          78,
          80,
          80
         ],
         "yaxis": "y"
        },
        {
         "hovertemplate": "port_name=Detroit-Wayne County Port, MI<br>month=%{x}<br>vessels_avg=%{y}<extra></extra>",
         "legendgroup": "Detroit-Wayne County Port, MI",
         "line": {
          "color": "#636efa",
          "dash": "solid"
         },
         "marker": {
          "symbol": "circle"
         },
         "mode": "lines",
         "name": "Detroit-Wayne County Port, MI",
         "showlegend": true,
         "type": "scattergl",
         "x": [
          "2018-01-01T00:00:00",
          "2018-02-01T00:00:00",
          "2018-03-01T00:00:00",
          "2018-04-01T00:00:00",
          "2018-05-01T00:00:00",
          "2018-06-01T00:00:00",
          "2018-07-01T00:00:00",
          "2018-08-01T00:00:00",
          "2018-09-01T00:00:00",
          "2018-10-01T00:00:00",
          "2018-11-01T00:00:00",
          "2018-12-01T00:00:00",
          "2019-01-01T00:00:00",
          "2019-02-01T00:00:00",
          "2019-03-01T00:00:00",
          "2019-04-01T00:00:00",
          "2019-05-01T00:00:00",
          "2019-06-01T00:00:00",
          "2019-07-01T00:00:00",
          "2019-08-01T00:00:00",
          "2019-09-01T00:00:00",
          "2019-10-01T00:00:00",
          "2019-11-01T00:00:00",
          "2019-12-01T00:00:00"
         ],
         "xaxis": "x",
         "y": [
          9,
          3,
          3,
          23,
          28,
          28,
          25,
          26,
          23,
          20,
          24,
          22,
          7,
          1,
          5,
          19,
          22,
          14,
          24,
          26,
          14,
          17,
          22,
          18
         ],
         "yaxis": "y"
        },
        {
         "hovertemplate": "port_name=Cleveland-Cuyahoga Port, OH<br>month=%{x}<br>vessels_avg=%{y}<extra></extra>",
         "legendgroup": "Cleveland-Cuyahoga Port, OH",
         "line": {
          "color": "#EF553B",
          "dash": "solid"
         },
         "marker": {
          "symbol": "circle"
         },
         "mode": "lines",
         "name": "Cleveland-Cuyahoga Port, OH",
         "showlegend": true,
         "type": "scattergl",
         "x": [
          "2018-01-01T00:00:00",
          "2018-03-01T00:00:00",
          "2018-04-01T00:00:00",
          "2018-05-01T00:00:00",
          "2018-06-01T00:00:00",
          "2018-07-01T00:00:00",
          "2018-08-01T00:00:00",
          "2018-09-01T00:00:00",
          "2018-10-01T00:00:00",
          "2018-11-01T00:00:00",
          "2018-12-01T00:00:00",
          "2019-01-01T00:00:00",
          "2019-02-01T00:00:00",
          "2019-03-01T00:00:00",
          "2019-04-01T00:00:00",
          "2019-05-01T00:00:00",
          "2019-06-01T00:00:00",
          "2019-07-01T00:00:00",
          "2019-08-01T00:00:00",
          "2019-09-01T00:00:00",
          "2019-10-01T00:00:00",
          "2019-11-01T00:00:00",
          "2019-12-01T00:00:00"
         ],
         "xaxis": "x",
         "y": [
          3,
          2,
          12,
          16,
          13,
          11,
          16,
          20,
          18,
          18,
          10,
          2,
          1,
          1,
          12,
          13,
          13,
          13,
          10,
          12,
          13,
          10,
          8
         ],
         "yaxis": "y"
        },
        {
         "hovertemplate": "port_name=Guaynabo, PR<br>month=%{x}<br>vessels_avg=%{y}<extra></extra>",
         "legendgroup": "Guaynabo, PR",
         "line": {
          "color": "#00cc96",
          "dash": "solid"
         },
         "marker": {
          "symbol": "circle"
         },
         "mode": "lines",
         "name": "Guaynabo, PR",
         "showlegend": true,
         "type": "scattergl",
         "x": [
          "2018-01-01T00:00:00",
          "2018-02-01T00:00:00",
          "2018-03-01T00:00:00",
          "2018-04-01T00:00:00",
          "2018-05-01T00:00:00",
          "2018-06-01T00:00:00",
          "2018-07-01T00:00:00",
          "2018-08-01T00:00:00",
          "2018-09-01T00:00:00",
          "2018-10-01T00:00:00",
          "2018-11-01T00:00:00",
          "2018-12-01T00:00:00",
          "2019-01-01T00:00:00",
          "2019-02-01T00:00:00",
          "2019-03-01T00:00:00",
          "2019-04-01T00:00:00",
          "2019-05-01T00:00:00",
          "2019-06-01T00:00:00",
          "2019-07-01T00:00:00",
          "2019-08-01T00:00:00",
          "2019-09-01T00:00:00",
          "2019-10-01T00:00:00",
          "2019-11-01T00:00:00",
          "2019-12-01T00:00:00"
         ],
         "xaxis": "x",
         "y": [
          39,
          23,
          22,
          25,
          21,
          28,
          31,
          23,
          20,
          24,
          18,
          25,
          21,
          16,
          19,
          25,
          21,
          27,
          17,
          27,
          19,
          15,
          16,
          25
         ],
         "yaxis": "y"
        },
        {
         "hovertemplate": "port_name=Philadelphia Regional Port, PA<br>month=%{x}<br>vessels_avg=%{y}<extra></extra>",
         "legendgroup": "Philadelphia Regional Port, PA",
         "line": {
          "color": "#ab63fa",
          "dash": "solid"
         },
         "marker": {
          "symbol": "circle"
         },
         "mode": "lines",
         "name": "Philadelphia Regional Port, PA",
         "showlegend": true,
         "type": "scattergl",
         "x": [
          "2018-01-01T00:00:00",
          "2018-02-01T00:00:00",
          "2018-03-01T00:00:00",
          "2018-04-01T00:00:00",
          "2018-05-01T00:00:00",
          "2018-06-01T00:00:00",
          "2018-07-01T00:00:00",
          "2018-08-01T00:00:00",
          "2018-09-01T00:00:00",
          "2018-10-01T00:00:00",
          "2018-11-01T00:00:00",
          "2018-12-01T00:00:00",
          "2019-01-01T00:00:00",
          "2019-02-01T00:00:00",
          "2019-03-01T00:00:00",
          "2019-04-01T00:00:00",
          "2019-05-01T00:00:00",
          "2019-06-01T00:00:00",
          "2019-07-01T00:00:00",
          "2019-08-01T00:00:00",
          "2019-09-01T00:00:00",
          "2019-10-01T00:00:00",
          "2019-11-01T00:00:00",
          "2019-12-01T00:00:00"
         ],
         "xaxis": "x",
         "y": [
          156,
          124,
          127,
          119,
          119,
          113,
          98,
          112,
          120,
          115,
          106,
          110,
          104,
          111,
          128,
          108,
          114,
          107,
          100,
          102,
          109,
          96,
          92,
          116
         ],
         "yaxis": "y"
        },
        {
         "hovertemplate": "port_name=Port Arthur, TX<br>month=%{x}<br>vessels_avg=%{y}<extra></extra>",
         "legendgroup": "Port Arthur, TX",
         "line": {
          "color": "#FFA15A",
          "dash": "solid"
         },
         "marker": {
          "symbol": "circle"
         },
         "mode": "lines",
         "name": "Port Arthur, TX",
         "showlegend": true,
         "type": "scattergl",
         "x": [
          "2018-01-01T00:00:00",
          "2018-02-01T00:00:00",
          "2018-03-01T00:00:00",
          "2018-04-01T00:00:00",
          "2018-05-01T00:00:00",
          "2018-06-01T00:00:00",
          "2018-07-01T00:00:00",
          "2018-08-01T00:00:00",
          "2018-09-01T00:00:00",
          "2018-10-01T00:00:00",
          "2018-11-01T00:00:00",
          "2018-12-01T00:00:00",
          "2019-01-01T00:00:00",
          "2019-02-01T00:00:00",
          "2019-03-01T00:00:00",
          "2019-04-01T00:00:00",
          "2019-05-01T00:00:00",
          "2019-06-01T00:00:00",
          "2019-07-01T00:00:00",
          "2019-08-01T00:00:00",
          "2019-09-01T00:00:00",
          "2019-10-01T00:00:00",
          "2019-11-01T00:00:00",
          "2019-12-01T00:00:00"
         ],
         "xaxis": "x",
         "y": [
          147,
          115,
          135,
          133,
          144,
          122,
          117,
          122,
          118,
          125,
          123,
          129,
          122,
          102,
          123,
          131,
          125,
          109,
          107,
          114,
          80,
          99,
          114,
          115
         ],
         "yaxis": "y"
        },
        {
         "hovertemplate": "port_name=Tacoma, WA<br>month=%{x}<br>vessels_avg=%{y}<extra></extra>",
         "legendgroup": "Tacoma, WA",
         "line": {
          "color": "#19d3f3",
          "dash": "solid"
         },
         "marker": {
          "symbol": "circle"
         },
         "mode": "lines",
         "name": "Tacoma, WA",
         "showlegend": true,
         "type": "scattergl",
         "x": [
          "2018-01-01T00:00:00",
          "2018-02-01T00:00:00",
          "2018-03-01T00:00:00",
          "2018-04-01T00:00:00",
          "2018-05-01T00:00:00",
          "2018-06-01T00:00:00",
          "2018-07-01T00:00:00",
          "2018-08-01T00:00:00",
          "2018-09-01T00:00:00",
          "2018-10-01T00:00:00",
          "2018-11-01T00:00:00",
          "2018-12-01T00:00:00",
          "2019-01-01T00:00:00",
          "2019-02-01T00:00:00",
          "2019-03-01T00:00:00",
          "2019-04-01T00:00:00",
          "2019-05-01T00:00:00",
          "2019-06-01T00:00:00",
          "2019-07-01T00:00:00",
          "2019-08-01T00:00:00",
          "2019-09-01T00:00:00",
          "2019-10-01T00:00:00",
          "2019-11-01T00:00:00",
          "2019-12-01T00:00:00"
         ],
         "xaxis": "x",
         "y": [
          109,
          88,
          93,
          93,
          93,
          86,
          93,
          82,
          82,
          84,
          71,
          79,
          84,
          85,
          89,
          89,
          91,
          78,
          81,
          78,
          73,
          74,
          83,
          76
         ],
         "yaxis": "y"
        },
        {
         "hovertemplate": "port_name=South Louisiana, LA, Port of<br>month=%{x}<br>vessels_avg=%{y}<extra></extra>",
         "legendgroup": "South Louisiana, LA, Port of",
         "line": {
          "color": "#FF6692",
          "dash": "solid"
         },
         "marker": {
          "symbol": "circle"
         },
         "mode": "lines",
         "name": "South Louisiana, LA, Port of",
         "showlegend": true,
         "type": "scattergl",
         "x": [
          "2018-01-01T00:00:00",
          "2018-02-01T00:00:00",
          "2018-03-01T00:00:00",
          "2018-04-01T00:00:00",
          "2018-05-01T00:00:00",
          "2018-06-01T00:00:00",
          "2018-07-01T00:00:00",
          "2018-08-01T00:00:00",
          "2018-09-01T00:00:00",
          "2018-10-01T00:00:00",
          "2018-11-01T00:00:00",
          "2018-12-01T00:00:00",
          "2019-01-01T00:00:00",
          "2019-02-01T00:00:00",
          "2019-03-01T00:00:00",
          "2019-04-01T00:00:00",
          "2019-05-01T00:00:00",
          "2019-06-01T00:00:00",
          "2019-07-01T00:00:00",
          "2019-08-01T00:00:00",
          "2019-09-01T00:00:00",
          "2019-10-01T00:00:00",
          "2019-11-01T00:00:00",
          "2019-12-01T00:00:00"
         ],
         "xaxis": "x",
         "y": [
          336,
          281,
          270,
          304,
          290,
          266,
          277,
          266,
          282,
          268,
          233,
          242,
          254,
          203,
          245,
          221,
          212,
          187,
          195,
          205,
          201,
          219,
          213,
          232
         ],
         "yaxis": "y"
        },
        {
         "hovertemplate": "port_name=Yabucoa, PR<br>month=%{x}<br>vessels_avg=%{y}<extra></extra>",
         "legendgroup": "Yabucoa, PR",
         "line": {
          "color": "#B6E880",
          "dash": "solid"
         },
         "marker": {
          "symbol": "circle"
         },
         "mode": "lines",
         "name": "Yabucoa, PR",
         "showlegend": true,
         "type": "scattergl",
         "x": [
          "2018-01-01T00:00:00",
          "2018-02-01T00:00:00",
          "2018-03-01T00:00:00",
          "2018-04-01T00:00:00",
          "2018-05-01T00:00:00",
          "2018-06-01T00:00:00",
          "2018-07-01T00:00:00",
          "2018-08-01T00:00:00",
          "2018-09-01T00:00:00",
          "2018-10-01T00:00:00",
          "2018-11-01T00:00:00",
          "2018-12-01T00:00:00",
          "2019-01-01T00:00:00",
          "2019-02-01T00:00:00",
          "2019-03-01T00:00:00",
          "2019-04-01T00:00:00",
          "2019-05-01T00:00:00",
          "2019-06-01T00:00:00",
          "2019-07-01T00:00:00",
          "2019-08-01T00:00:00",
          "2019-09-01T00:00:00",
          "2019-10-01T00:00:00",
          "2019-11-01T00:00:00",
          "2019-12-01T00:00:00"
         ],
         "xaxis": "x",
         "y": [
          12,
          10,
          10,
          14,
          17,
          12,
          16,
          17,
          8,
          10,
          11,
          12,
          7,
          9,
          13,
          8,
          9,
          9,
          9,
          8,
          14,
          8,
          5,
          10
         ],
         "yaxis": "y"
        },
        {
         "hovertemplate": "port_name=Port of Longview, WA<br>month=%{x}<br>vessels_avg=%{y}<extra></extra>",
         "legendgroup": "Port of Longview, WA",
         "line": {
          "color": "#FF97FF",
          "dash": "solid"
         },
         "marker": {
          "symbol": "circle"
         },
         "mode": "lines",
         "name": "Port of Longview, WA",
         "showlegend": true,
         "type": "scattergl",
         "x": [
          "2018-01-01T00:00:00",
          "2018-02-01T00:00:00",
          "2018-03-01T00:00:00",
          "2018-04-01T00:00:00",
          "2018-05-01T00:00:00",
          "2018-06-01T00:00:00",
          "2018-07-01T00:00:00",
          "2018-08-01T00:00:00",
          "2018-09-01T00:00:00",
          "2018-10-01T00:00:00",
          "2018-11-01T00:00:00",
          "2018-12-01T00:00:00",
          "2019-01-01T00:00:00",
          "2019-02-01T00:00:00",
          "2019-03-01T00:00:00",
          "2019-04-01T00:00:00",
          "2019-05-01T00:00:00",
          "2019-06-01T00:00:00",
          "2019-07-01T00:00:00",
          "2019-08-01T00:00:00",
          "2019-09-01T00:00:00",
          "2019-10-01T00:00:00",
          "2019-11-01T00:00:00",
          "2019-12-01T00:00:00"
         ],
         "xaxis": "x",
         "y": [
          54,
          45,
          51,
          46,
          49,
          66,
          36,
          35,
          32,
          42,
          36,
          34,
          29,
          28,
          40,
          40,
          35,
          25,
          31,
          34,
          27,
          39,
          23,
          33
         ],
         "yaxis": "y"
        },
        {
         "hovertemplate": "port_name=Wilmington, NC<br>month=%{x}<br>vessels_avg=%{y}<extra></extra>",
         "legendgroup": "Wilmington, NC",
         "line": {
          "color": "#FECB52",
          "dash": "solid"
         },
         "marker": {
          "symbol": "circle"
         },
         "mode": "lines",
         "name": "Wilmington, NC",
         "showlegend": true,
         "type": "scattergl",
         "x": [
          "2018-01-01T00:00:00",
          "2018-02-01T00:00:00",
          "2018-03-01T00:00:00",
          "2018-04-01T00:00:00",
          "2018-05-01T00:00:00",
          "2018-06-01T00:00:00",
          "2018-07-01T00:00:00",
          "2018-08-01T00:00:00",
          "2018-09-01T00:00:00",
          "2018-10-01T00:00:00",
          "2018-11-01T00:00:00",
          "2018-12-01T00:00:00",
          "2019-01-01T00:00:00",
          "2019-02-01T00:00:00",
          "2019-03-01T00:00:00",
          "2019-04-01T00:00:00",
          "2019-05-01T00:00:00",
          "2019-06-01T00:00:00",
          "2019-07-01T00:00:00",
          "2019-08-01T00:00:00",
          "2019-09-01T00:00:00",
          "2019-10-01T00:00:00",
          "2019-11-01T00:00:00",
          "2019-12-01T00:00:00"
         ],
         "xaxis": "x",
         "y": [
          65,
          51,
          65,
          60,
          50,
          47,
          54,
          50,
          50,
          42,
          49,
          51,
          58,
          52,
          60,
          51,
          49,
          46,
          49,
          45,
          48,
          50,
          42,
          54
         ],
         "yaxis": "y"
        },
        {
         "hovertemplate": "port_name=Calhoun Port Authority, TX<br>month=%{x}<br>vessels_avg=%{y}<extra></extra>",
         "legendgroup": "Calhoun Port Authority, TX",
         "line": {
          "color": "#636efa",
          "dash": "solid"
         },
         "marker": {
          "symbol": "circle"
         },
         "mode": "lines",
         "name": "Calhoun Port Authority, TX",
         "showlegend": true,
         "type": "scattergl",
         "x": [
          "2018-01-01T00:00:00",
          "2018-02-01T00:00:00",
          "2018-03-01T00:00:00",
          "2018-04-01T00:00:00",
          "2018-05-01T00:00:00",
          "2018-06-01T00:00:00",
          "2018-07-01T00:00:00",
          "2018-08-01T00:00:00",
          "2018-09-01T00:00:00",
          "2018-10-01T00:00:00",
          "2018-11-01T00:00:00",
          "2018-12-01T00:00:00",
          "2019-01-01T00:00:00",
          "2019-02-01T00:00:00",
          "2019-03-01T00:00:00",
          "2019-04-01T00:00:00",
          "2019-05-01T00:00:00",
          "2019-06-01T00:00:00",
          "2019-07-01T00:00:00",
          "2019-08-01T00:00:00",
          "2019-09-01T00:00:00",
          "2019-10-01T00:00:00",
          "2019-11-01T00:00:00",
          "2019-12-01T00:00:00"
         ],
         "xaxis": "x",
         "y": [
          28,
          25,
          26,
          30,
          22,
          24,
          33,
          28,
          22,
          30,
          28,
          28,
          19,
          17,
          21,
          14,
          12,
          24,
          16,
          24,
          19,
          19,
          18,
          23
         ],
         "yaxis": "y"
        },
        {
         "hovertemplate": "port_name=Panama City Port Authority, FL<br>month=%{x}<br>vessels_avg=%{y}<extra></extra>",
         "legendgroup": "Panama City Port Authority, FL",
         "line": {
          "color": "#EF553B",
          "dash": "solid"
         },
         "marker": {
          "symbol": "circle"
         },
         "mode": "lines",
         "name": "Panama City Port Authority, FL",
         "showlegend": true,
         "type": "scattergl",
         "x": [
          "2018-01-01T00:00:00",
          "2018-02-01T00:00:00",
          "2018-03-01T00:00:00",
          "2018-04-01T00:00:00",
          "2018-05-01T00:00:00",
          "2018-06-01T00:00:00",
          "2018-07-01T00:00:00",
          "2018-08-01T00:00:00",
          "2018-09-01T00:00:00",
          "2018-10-01T00:00:00",
          "2018-11-01T00:00:00",
          "2018-12-01T00:00:00",
          "2019-01-01T00:00:00",
          "2019-02-01T00:00:00",
          "2019-03-01T00:00:00",
          "2019-04-01T00:00:00",
          "2019-05-01T00:00:00",
          "2019-06-01T00:00:00",
          "2019-07-01T00:00:00",
          "2019-08-01T00:00:00",
          "2019-09-01T00:00:00",
          "2019-10-01T00:00:00",
          "2019-11-01T00:00:00",
          "2019-12-01T00:00:00"
         ],
         "xaxis": "x",
         "y": [
          17,
          12,
          14,
          17,
          11,
          11,
          8,
          11,
          13,
          6,
          13,
          9,
          13,
          10,
          14,
          14,
          12,
          14,
          15,
          13,
          13,
          12,
          13,
          10
         ],
         "yaxis": "y"
        },
        {
         "hovertemplate": "port_name=Morehead City, NC<br>month=%{x}<br>vessels_avg=%{y}<extra></extra>",
         "legendgroup": "Morehead City, NC",
         "line": {
          "color": "#00cc96",
          "dash": "solid"
         },
         "marker": {
          "symbol": "circle"
         },
         "mode": "lines",
         "name": "Morehead City, NC",
         "showlegend": true,
         "type": "scattergl",
         "x": [
          "2018-01-01T00:00:00",
          "2018-02-01T00:00:00",
          "2018-03-01T00:00:00",
          "2018-04-01T00:00:00",
          "2018-05-01T00:00:00",
          "2018-06-01T00:00:00",
          "2018-07-01T00:00:00",
          "2018-08-01T00:00:00",
          "2018-09-01T00:00:00",
          "2018-10-01T00:00:00",
          "2018-11-01T00:00:00",
          "2018-12-01T00:00:00",
          "2019-01-01T00:00:00",
          "2019-02-01T00:00:00",
          "2019-03-01T00:00:00",
          "2019-04-01T00:00:00",
          "2019-05-01T00:00:00",
          "2019-06-01T00:00:00",
          "2019-07-01T00:00:00",
          "2019-08-01T00:00:00",
          "2019-09-01T00:00:00",
          "2019-10-01T00:00:00",
          "2019-11-01T00:00:00",
          "2019-12-01T00:00:00"
         ],
         "xaxis": "x",
         "y": [
          18,
          11,
          17,
          17,
          18,
          18,
          11,
          12,
          14,
          16,
          13,
          12,
          17,
          12,
          16,
          26,
          17,
          15,
          15,
          15,
          17,
          12,
          9,
          22
         ],
         "yaxis": "y"
        },
        {
         "hovertemplate": "port_name=Port of Alaska, AK<br>month=%{x}<br>vessels_avg=%{y}<extra></extra>",
         "legendgroup": "Port of Alaska, AK",
         "line": {
          "color": "#ab63fa",
          "dash": "solid"
         },
         "marker": {
          "symbol": "circle"
         },
         "mode": "lines",
         "name": "Port of Alaska, AK",
         "showlegend": true,
         "type": "scattergl",
         "x": [
          "2018-01-01T00:00:00",
          "2018-02-01T00:00:00",
          "2018-03-01T00:00:00",
          "2018-04-01T00:00:00",
          "2018-05-01T00:00:00",
          "2018-06-01T00:00:00",
          "2018-07-01T00:00:00",
          "2018-08-01T00:00:00",
          "2018-09-01T00:00:00",
          "2018-10-01T00:00:00",
          "2018-11-01T00:00:00",
          "2018-12-01T00:00:00",
          "2019-01-01T00:00:00",
          "2019-02-01T00:00:00",
          "2019-03-01T00:00:00",
          "2019-04-01T00:00:00",
          "2019-05-01T00:00:00",
          "2019-06-01T00:00:00",
          "2019-07-01T00:00:00",
          "2019-08-01T00:00:00",
          "2019-09-01T00:00:00",
          "2019-10-01T00:00:00",
          "2019-11-01T00:00:00",
          "2019-12-01T00:00:00"
         ],
         "xaxis": "x",
         "y": [
          10,
          9,
          8,
          12,
          10,
          9,
          13,
          9,
          9,
          10,
          8,
          9,
          8,
          9,
          10,
          8,
          12,
          11,
          9,
          10,
          8,
          13,
          13,
          13
         ],
         "yaxis": "y"
        },
        {
         "hovertemplate": "port_name=Guayama, PR<br>month=%{x}<br>vessels_avg=%{y}<extra></extra>",
         "legendgroup": "Guayama, PR",
         "line": {
          "color": "#FFA15A",
          "dash": "solid"
         },
         "marker": {
          "symbol": "circle"
         },
         "mode": "lines",
         "name": "Guayama, PR",
         "showlegend": true,
         "type": "scattergl",
         "x": [
          "2018-01-01T00:00:00",
          "2018-02-01T00:00:00",
          "2018-03-01T00:00:00",
          "2018-04-01T00:00:00",
          "2018-05-01T00:00:00",
          "2018-06-01T00:00:00",
          "2018-07-01T00:00:00",
          "2018-08-01T00:00:00",
          "2018-09-01T00:00:00",
          "2018-10-01T00:00:00",
          "2018-11-01T00:00:00",
          "2018-12-01T00:00:00",
          "2019-01-01T00:00:00",
          "2019-02-01T00:00:00",
          "2019-03-01T00:00:00",
          "2019-04-01T00:00:00",
          "2019-05-01T00:00:00",
          "2019-06-01T00:00:00",
          "2019-07-01T00:00:00",
          "2019-08-01T00:00:00",
          "2019-09-01T00:00:00",
          "2019-10-01T00:00:00",
          "2019-11-01T00:00:00",
          "2019-12-01T00:00:00"
         ],
         "xaxis": "x",
         "y": [
          129,
          102,
          142,
          72,
          74,
          121,
          85,
          79,
          93,
          91,
          87,
          68,
          84,
          67,
          73,
          73,
          93,
          101,
          77,
          90,
          98,
          98,
          73,
          76
         ],
         "yaxis": "y"
        },
        {
         "hovertemplate": "port_name=Corpus Christi, TX<br>month=%{x}<br>vessels_avg=%{y}<extra></extra>",
         "legendgroup": "Corpus Christi, TX",
         "line": {
          "color": "#19d3f3",
          "dash": "solid"
         },
         "marker": {
          "symbol": "circle"
         },
         "mode": "lines",
         "name": "Corpus Christi, TX",
         "showlegend": true,
         "type": "scattergl",
         "x": [
          "2018-01-01T00:00:00",
          "2018-02-01T00:00:00",
          "2018-03-01T00:00:00",
          "2018-04-01T00:00:00",
          "2018-05-01T00:00:00",
          "2018-06-01T00:00:00",
          "2018-07-01T00:00:00",
          "2018-08-01T00:00:00",
          "2018-09-01T00:00:00",
          "2018-10-01T00:00:00",
          "2018-11-01T00:00:00",
          "2018-12-01T00:00:00",
          "2019-01-01T00:00:00",
          "2019-02-01T00:00:00",
          "2019-03-01T00:00:00",
          "2019-04-01T00:00:00",
          "2019-05-01T00:00:00",
          "2019-06-01T00:00:00",
          "2019-07-01T00:00:00",
          "2019-08-01T00:00:00",
          "2019-09-01T00:00:00",
          "2019-10-01T00:00:00",
          "2019-11-01T00:00:00",
          "2019-12-01T00:00:00"
         ],
         "xaxis": "x",
         "y": [
          178,
          149,
          175,
          173,
          162,
          145,
          152,
          163,
          158,
          174,
          166,
          172,
          167,
          128,
          142,
          164,
          175,
          144,
          158,
          159,
          159,
          191,
          185,
          171
         ],
         "yaxis": "y"
        },
        {
         "hovertemplate": "port_name=Albany Port District, NY<br>month=%{x}<br>vessels_avg=%{y}<extra></extra>",
         "legendgroup": "Albany Port District, NY",
         "line": {
          "color": "#FF6692",
          "dash": "solid"
         },
         "marker": {
          "symbol": "circle"
         },
         "mode": "lines",
         "name": "Albany Port District, NY",
         "showlegend": true,
         "type": "scattergl",
         "x": [
          "2018-01-01T00:00:00",
          "2018-02-01T00:00:00",
          "2018-03-01T00:00:00",
          "2018-04-01T00:00:00",
          "2018-05-01T00:00:00",
          "2018-06-01T00:00:00",
          "2018-07-01T00:00:00",
          "2018-08-01T00:00:00",
          "2018-09-01T00:00:00",
          "2018-10-01T00:00:00",
          "2018-11-01T00:00:00",
          "2018-12-01T00:00:00",
          "2019-01-01T00:00:00",
          "2019-02-01T00:00:00",
          "2019-03-01T00:00:00",
          "2019-04-01T00:00:00",
          "2019-05-01T00:00:00",
          "2019-06-01T00:00:00",
          "2019-07-01T00:00:00",
          "2019-08-01T00:00:00",
          "2019-09-01T00:00:00",
          "2019-10-01T00:00:00",
          "2019-11-01T00:00:00",
          "2019-12-01T00:00:00"
         ],
         "xaxis": "x",
         "y": [
          124,
          85,
          89,
          171,
          172,
          176,
          155,
          169,
          165,
          184,
          178,
          172,
          101,
          92,
          112,
          154,
          168,
          165,
          149,
          157,
          160,
          174,
          181,
          171
         ],
         "yaxis": "y"
        },
        {
         "hovertemplate": "port_name=Port of Charleston, SC<br>month=%{x}<br>vessels_avg=%{y}<extra></extra>",
         "legendgroup": "Port of Charleston, SC",
         "line": {
          "color": "#B6E880",
          "dash": "solid"
         },
         "marker": {
          "symbol": "circle"
         },
         "mode": "lines",
         "name": "Port of Charleston, SC",
         "showlegend": true,
         "type": "scattergl",
         "x": [
          "2018-01-01T00:00:00",
          "2018-02-01T00:00:00",
          "2018-03-01T00:00:00",
          "2018-04-01T00:00:00",
          "2018-05-01T00:00:00",
          "2018-06-01T00:00:00",
          "2018-07-01T00:00:00",
          "2018-08-01T00:00:00",
          "2018-09-01T00:00:00",
          "2018-10-01T00:00:00",
          "2018-11-01T00:00:00",
          "2018-12-01T00:00:00",
          "2019-01-01T00:00:00",
          "2019-02-01T00:00:00",
          "2019-03-01T00:00:00",
          "2019-04-01T00:00:00",
          "2019-05-01T00:00:00",
          "2019-06-01T00:00:00",
          "2019-07-01T00:00:00",
          "2019-08-01T00:00:00",
          "2019-09-01T00:00:00",
          "2019-10-01T00:00:00",
          "2019-11-01T00:00:00",
          "2019-12-01T00:00:00"
         ],
         "xaxis": "x",
         "y": [
          180,
          172,
          173,
          166,
          173,
          177,
          174,
          175,
          163,
          172,
          151,
          146,
          164,
          142,
          149,
          168,
          161,
          149,
          158,
          150,
          153,
          162,
          140,
          135
         ],
         "yaxis": "y"
        },
        {
         "hovertemplate": "port_name=Kahului, Maui, HI<br>month=%{x}<br>vessels_avg=%{y}<extra></extra>",
         "legendgroup": "Kahului, Maui, HI",
         "line": {
          "color": "#FF97FF",
          "dash": "solid"
         },
         "marker": {
          "symbol": "circle"
         },
         "mode": "lines",
         "name": "Kahului, Maui, HI",
         "showlegend": true,
         "type": "scattergl",
         "x": [
          "2018-01-01T00:00:00",
          "2018-02-01T00:00:00",
          "2018-03-01T00:00:00",
          "2018-04-01T00:00:00",
          "2018-06-01T00:00:00",
          "2018-07-01T00:00:00",
          "2018-08-01T00:00:00",
          "2018-09-01T00:00:00",
          "2018-10-01T00:00:00",
          "2018-11-01T00:00:00",
          "2018-12-01T00:00:00",
          "2019-01-01T00:00:00",
          "2019-02-01T00:00:00",
          "2019-03-01T00:00:00",
          "2019-04-01T00:00:00",
          "2019-05-01T00:00:00",
          "2019-06-01T00:00:00",
          "2019-07-01T00:00:00",
          "2019-08-01T00:00:00",
          "2019-09-01T00:00:00",
          "2019-10-01T00:00:00",
          "2019-11-01T00:00:00",
          "2019-12-01T00:00:00"
         ],
         "xaxis": "x",
         "y": [
          3,
          2,
          4,
          2,
          2,
          2,
          2,
          2,
          2,
          2,
          3,
          2,
          3,
          3,
          4,
          4,
          4,
          2,
          2,
          4,
          3,
          2,
          2
         ],
         "yaxis": "y"
        },
        {
         "hovertemplate": "port_name=Nikiski, AK<br>month=%{x}<br>vessels_avg=%{y}<extra></extra>",
         "legendgroup": "Nikiski, AK",
         "line": {
          "color": "#FECB52",
          "dash": "solid"
         },
         "marker": {
          "symbol": "circle"
         },
         "mode": "lines",
         "name": "Nikiski, AK",
         "showlegend": true,
         "type": "scattergl",
         "x": [
          "2018-01-01T00:00:00",
          "2018-02-01T00:00:00",
          "2018-03-01T00:00:00",
          "2018-04-01T00:00:00",
          "2018-05-01T00:00:00",
          "2018-06-01T00:00:00",
          "2018-07-01T00:00:00",
          "2018-08-01T00:00:00",
          "2018-09-01T00:00:00",
          "2018-10-01T00:00:00",
          "2018-11-01T00:00:00",
          "2018-12-01T00:00:00",
          "2019-01-01T00:00:00",
          "2019-02-01T00:00:00",
          "2019-03-01T00:00:00",
          "2019-04-01T00:00:00",
          "2019-05-01T00:00:00",
          "2019-06-01T00:00:00",
          "2019-07-01T00:00:00",
          "2019-08-01T00:00:00",
          "2019-09-01T00:00:00",
          "2019-10-01T00:00:00",
          "2019-11-01T00:00:00",
          "2019-12-01T00:00:00"
         ],
         "xaxis": "x",
         "y": [
          6,
          7,
          8,
          6,
          5,
          8,
          7,
          5,
          6,
          6,
          8,
          4,
          4,
          3,
          7,
          5,
          7,
          7,
          9,
          5,
          5,
          8,
          7,
          9
         ],
         "yaxis": "y"
        },
        {
         "hovertemplate": "port_name=San Diego Unified Port, CA<br>month=%{x}<br>vessels_avg=%{y}<extra></extra>",
         "legendgroup": "San Diego Unified Port, CA",
         "line": {
          "color": "#636efa",
          "dash": "solid"
         },
         "marker": {
          "symbol": "circle"
         },
         "mode": "lines",
         "name": "San Diego Unified Port, CA",
         "showlegend": true,
         "type": "scattergl",
         "x": [
          "2018-01-01T00:00:00",
          "2018-02-01T00:00:00",
          "2018-03-01T00:00:00",
          "2018-04-01T00:00:00",
          "2018-05-01T00:00:00",
          "2018-06-01T00:00:00",
          "2018-07-01T00:00:00",
          "2018-08-01T00:00:00",
          "2018-09-01T00:00:00",
          "2018-10-01T00:00:00",
          "2018-11-01T00:00:00",
          "2018-12-01T00:00:00",
          "2019-01-01T00:00:00",
          "2019-02-01T00:00:00",
          "2019-03-01T00:00:00",
          "2019-04-01T00:00:00",
          "2019-05-01T00:00:00",
          "2019-06-01T00:00:00",
          "2019-07-01T00:00:00",
          "2019-08-01T00:00:00",
          "2019-09-01T00:00:00",
          "2019-10-01T00:00:00",
          "2019-11-01T00:00:00",
          "2019-12-01T00:00:00"
         ],
         "xaxis": "x",
         "y": [
          82,
          64,
          78,
          81,
          87,
          95,
          99,
          94,
          79,
          76,
          80,
          76,
          65,
          62,
          70,
          72,
          65,
          82,
          84,
          83,
          85,
          71,
          64,
          66
         ],
         "yaxis": "y"
        },
        {
         "hovertemplate": "port_name=Toledo-Lucas County Port, OH<br>month=%{x}<br>vessels_avg=%{y}<extra></extra>",
         "legendgroup": "Toledo-Lucas County Port, OH",
         "line": {
          "color": "#EF553B",
          "dash": "solid"
         },
         "marker": {
          "symbol": "circle"
         },
         "mode": "lines",
         "name": "Toledo-Lucas County Port, OH",
         "showlegend": true,
         "type": "scattergl",
         "x": [
          "2018-01-01T00:00:00",
          "2018-03-01T00:00:00",
          "2018-04-01T00:00:00",
          "2018-05-01T00:00:00",
          "2018-06-01T00:00:00",
          "2018-07-01T00:00:00",
          "2018-08-01T00:00:00",
          "2018-09-01T00:00:00",
          "2018-10-01T00:00:00",
          "2018-11-01T00:00:00",
          "2018-12-01T00:00:00",
          "2019-01-01T00:00:00",
          "2019-02-01T00:00:00",
          "2019-03-01T00:00:00",
          "2019-04-01T00:00:00",
          "2019-05-01T00:00:00",
          "2019-06-01T00:00:00",
          "2019-07-01T00:00:00",
          "2019-08-01T00:00:00",
          "2019-09-01T00:00:00",
          "2019-10-01T00:00:00",
          "2019-11-01T00:00:00",
          "2019-12-01T00:00:00"
         ],
         "xaxis": "x",
         "y": [
          5,
          5,
          12,
          16,
          15,
          13,
          11,
          20,
          24,
          22,
          15,
          4,
          2,
          3,
          18,
          12,
          16,
          12,
          13,
          9,
          16,
          15,
          12
         ],
         "yaxis": "y"
        },
        {
         "hovertemplate": "port_name=Marquette, MI<br>month=%{x}<br>vessels_avg=%{y}<extra></extra>",
         "legendgroup": "Marquette, MI",
         "line": {
          "color": "#00cc96",
          "dash": "solid"
         },
         "marker": {
          "symbol": "circle"
         },
         "mode": "lines",
         "name": "Marquette, MI",
         "showlegend": true,
         "type": "scattergl",
         "x": [
          "2018-01-01T00:00:00",
          "2018-03-01T00:00:00",
          "2018-04-01T00:00:00",
          "2018-05-01T00:00:00",
          "2018-06-01T00:00:00",
          "2018-07-01T00:00:00",
          "2018-08-01T00:00:00",
          "2018-09-01T00:00:00",
          "2018-10-01T00:00:00",
          "2018-11-01T00:00:00",
          "2018-12-01T00:00:00",
          "2019-01-01T00:00:00",
          "2019-03-01T00:00:00",
          "2019-04-01T00:00:00",
          "2019-05-01T00:00:00",
          "2019-06-01T00:00:00",
          "2019-07-01T00:00:00",
          "2019-08-01T00:00:00",
          "2019-09-01T00:00:00",
          "2019-10-01T00:00:00",
          "2019-11-01T00:00:00",
          "2019-12-01T00:00:00"
         ],
         "xaxis": "x",
         "y": [
          2,
          1,
          2,
          6,
          3,
          2,
          4,
          3,
          4,
          5,
          5,
          4,
          1,
          4,
          2,
          3,
          5,
          3,
          2,
          3,
          4,
          5
         ],
         "yaxis": "y"
        },
        {
         "hovertemplate": "port_name=Portsmouth, NH<br>month=%{x}<br>vessels_avg=%{y}<extra></extra>",
         "legendgroup": "Portsmouth, NH",
         "line": {
          "color": "#ab63fa",
          "dash": "solid"
         },
         "marker": {
          "symbol": "circle"
         },
         "mode": "lines",
         "name": "Portsmouth, NH",
         "showlegend": true,
         "type": "scattergl",
         "x": [
          "2018-01-01T00:00:00",
          "2018-02-01T00:00:00",
          "2018-03-01T00:00:00",
          "2018-04-01T00:00:00",
          "2018-05-01T00:00:00",
          "2018-06-01T00:00:00",
          "2018-07-01T00:00:00",
          "2018-08-01T00:00:00",
          "2018-09-01T00:00:00",
          "2018-10-01T00:00:00",
          "2018-11-01T00:00:00",
          "2018-12-01T00:00:00",
          "2019-01-01T00:00:00",
          "2019-02-01T00:00:00",
          "2019-03-01T00:00:00",
          "2019-04-01T00:00:00",
          "2019-05-01T00:00:00",
          "2019-06-01T00:00:00",
          "2019-07-01T00:00:00",
          "2019-08-01T00:00:00",
          "2019-09-01T00:00:00",
          "2019-10-01T00:00:00",
          "2019-11-01T00:00:00",
          "2019-12-01T00:00:00"
         ],
         "xaxis": "x",
         "y": [
          15,
          14,
          10,
          8,
          10,
          5,
          9,
          7,
          6,
          9,
          8,
          11,
          8,
          14,
          8,
          3,
          9,
          4,
          7,
          10,
          6,
          9,
          12,
          10
         ],
         "yaxis": "y"
        },
        {
         "hovertemplate": "port_name=Galveston, TX<br>month=%{x}<br>vessels_avg=%{y}<extra></extra>",
         "legendgroup": "Galveston, TX",
         "line": {
          "color": "#FFA15A",
          "dash": "solid"
         },
         "marker": {
          "symbol": "circle"
         },
         "mode": "lines",
         "name": "Galveston, TX",
         "showlegend": true,
         "type": "scattergl",
         "x": [
          "2018-01-01T00:00:00",
          "2018-02-01T00:00:00",
          "2018-03-01T00:00:00",
          "2018-04-01T00:00:00",
          "2018-05-01T00:00:00",
          "2018-06-01T00:00:00",
          "2018-07-01T00:00:00",
          "2018-08-01T00:00:00",
          "2018-09-01T00:00:00",
          "2018-10-01T00:00:00",
          "2018-11-01T00:00:00",
          "2018-12-01T00:00:00",
          "2019-01-01T00:00:00",
          "2019-02-01T00:00:00",
          "2019-03-01T00:00:00",
          "2019-04-01T00:00:00",
          "2019-05-01T00:00:00",
          "2019-06-01T00:00:00",
          "2019-07-01T00:00:00",
          "2019-08-01T00:00:00",
          "2019-09-01T00:00:00",
          "2019-10-01T00:00:00",
          "2019-11-01T00:00:00",
          "2019-12-01T00:00:00"
         ],
         "xaxis": "x",
         "y": [
          74,
          67,
          78,
          76,
          87,
          77,
          69,
          79,
          70,
          72,
          80,
          73,
          75,
          64,
          93,
          85,
          94,
          101,
          74,
          78,
          76,
          75,
          77,
          91
         ],
         "yaxis": "y"
        },
        {
         "hovertemplate": "port_name=Baltimore, MD<br>month=%{x}<br>vessels_avg=%{y}<extra></extra>",
         "legendgroup": "Baltimore, MD",
         "line": {
          "color": "#19d3f3",
          "dash": "solid"
         },
         "marker": {
          "symbol": "circle"
         },
         "mode": "lines",
         "name": "Baltimore, MD",
         "showlegend": true,
         "type": "scattergl",
         "x": [
          "2018-01-01T00:00:00",
          "2018-02-01T00:00:00",
          "2018-03-01T00:00:00",
          "2018-04-01T00:00:00",
          "2018-05-01T00:00:00",
          "2018-06-01T00:00:00",
          "2018-07-01T00:00:00",
          "2018-08-01T00:00:00",
          "2018-09-01T00:00:00",
          "2018-10-01T00:00:00",
          "2018-11-01T00:00:00",
          "2018-12-01T00:00:00",
          "2019-01-01T00:00:00",
          "2019-02-01T00:00:00",
          "2019-03-01T00:00:00",
          "2019-04-01T00:00:00",
          "2019-05-01T00:00:00",
          "2019-06-01T00:00:00",
          "2019-07-01T00:00:00",
          "2019-08-01T00:00:00",
          "2019-09-01T00:00:00",
          "2019-10-01T00:00:00",
          "2019-11-01T00:00:00",
          "2019-12-01T00:00:00"
         ],
         "xaxis": "x",
         "y": [
          219,
          189,
          201,
          190,
          202,
          193,
          186,
          195,
          166,
          182,
          178,
          176,
          187,
          162,
          190,
          171,
          178,
          168,
          185,
          157,
          156,
          160,
          156,
          183
         ],
         "yaxis": "y"
        },
        {
         "hovertemplate": "port_name=Coos Bay OR, Port of<br>month=%{x}<br>vessels_avg=%{y}<extra></extra>",
         "legendgroup": "Coos Bay OR, Port of",
         "line": {
          "color": "#FF6692",
          "dash": "solid"
         },
         "marker": {
          "symbol": "circle"
         },
         "mode": "lines",
         "name": "Coos Bay OR, Port of",
         "showlegend": true,
         "type": "scattergl",
         "x": [
          "2018-01-01T00:00:00",
          "2018-02-01T00:00:00",
          "2018-03-01T00:00:00",
          "2018-04-01T00:00:00",
          "2018-05-01T00:00:00",
          "2018-06-01T00:00:00",
          "2018-07-01T00:00:00",
          "2018-08-01T00:00:00",
          "2018-09-01T00:00:00",
          "2018-10-01T00:00:00",
          "2018-11-01T00:00:00",
          "2018-12-01T00:00:00",
          "2019-01-01T00:00:00",
          "2019-02-01T00:00:00",
          "2019-03-01T00:00:00",
          "2019-04-01T00:00:00",
          "2019-05-01T00:00:00",
          "2019-06-01T00:00:00",
          "2019-07-01T00:00:00",
          "2019-08-01T00:00:00",
          "2019-09-01T00:00:00",
          "2019-10-01T00:00:00",
          "2019-11-01T00:00:00",
          "2019-12-01T00:00:00"
         ],
         "xaxis": "x",
         "y": [
          3,
          7,
          9,
          7,
          8,
          3,
          8,
          8,
          9,
          4,
          9,
          4,
          5,
          5,
          5,
          5,
          2,
          5,
          4,
          7,
          7,
          1,
          10,
          10
         ],
         "yaxis": "y"
        },
        {
         "hovertemplate": "port_name=Sandusky, OH<br>month=%{x}<br>vessels_avg=%{y}<extra></extra>",
         "legendgroup": "Sandusky, OH",
         "line": {
          "color": "#B6E880",
          "dash": "solid"
         },
         "marker": {
          "symbol": "circle"
         },
         "mode": "lines",
         "name": "Sandusky, OH",
         "showlegend": true,
         "type": "scattergl",
         "x": [
          "2018-03-01T00:00:00",
          "2018-04-01T00:00:00",
          "2018-05-01T00:00:00",
          "2018-06-01T00:00:00",
          "2018-07-01T00:00:00",
          "2018-08-01T00:00:00",
          "2018-09-01T00:00:00",
          "2018-10-01T00:00:00",
          "2018-11-01T00:00:00",
          "2018-12-01T00:00:00",
          "2019-03-01T00:00:00",
          "2019-04-01T00:00:00",
          "2019-05-01T00:00:00",
          "2019-06-01T00:00:00",
          "2019-07-01T00:00:00",
          "2019-08-01T00:00:00",
          "2019-09-01T00:00:00",
          "2019-10-01T00:00:00",
          "2019-11-01T00:00:00",
          "2019-12-01T00:00:00"
         ],
         "xaxis": "x",
         "y": [
          1,
          4,
          2,
          3,
          3,
          2,
          5,
          3,
          2,
          3,
          1,
          2,
          3,
          5,
          3,
          3,
          2,
          2,
          6,
          2
         ],
         "yaxis": "y"
        },
        {
         "hovertemplate": "port_name=Alpena, MI<br>month=%{x}<br>vessels_avg=%{y}<extra></extra>",
         "legendgroup": "Alpena, MI",
         "line": {
          "color": "#FF97FF",
          "dash": "solid"
         },
         "marker": {
          "symbol": "circle"
         },
         "mode": "lines",
         "name": "Alpena, MI",
         "showlegend": true,
         "type": "scattergl",
         "x": [
          "2018-03-01T00:00:00",
          "2018-04-01T00:00:00",
          "2018-05-01T00:00:00",
          "2018-06-01T00:00:00",
          "2018-08-01T00:00:00",
          "2018-09-01T00:00:00",
          "2018-10-01T00:00:00",
          "2018-12-01T00:00:00",
          "2019-01-01T00:00:00",
          "2019-07-01T00:00:00"
         ],
         "xaxis": "x",
         "y": [
          1,
          1,
          1,
          1,
          1,
          1,
          2,
          3,
          1,
          1
         ],
         "yaxis": "y"
        },
        {
         "hovertemplate": "port_name=Mueller Township, MI<br>month=%{x}<br>vessels_avg=%{y}<extra></extra>",
         "legendgroup": "Mueller Township, MI",
         "line": {
          "color": "#636efa",
          "dash": "solid"
         },
         "marker": {
          "symbol": "circle"
         },
         "mode": "lines",
         "name": "Mueller Township, MI",
         "showlegend": true,
         "type": "scattergl",
         "x": [
          "2018-04-01T00:00:00",
          "2018-05-01T00:00:00",
          "2018-06-01T00:00:00",
          "2018-07-01T00:00:00",
          "2018-08-01T00:00:00",
          "2018-09-01T00:00:00",
          "2018-10-01T00:00:00",
          "2018-11-01T00:00:00",
          "2018-12-01T00:00:00",
          "2019-04-01T00:00:00",
          "2019-05-01T00:00:00",
          "2019-06-01T00:00:00",
          "2019-07-01T00:00:00",
          "2019-08-01T00:00:00",
          "2019-09-01T00:00:00",
          "2019-10-01T00:00:00",
          "2019-11-01T00:00:00"
         ],
         "xaxis": "x",
         "y": [
          3,
          2,
          6,
          5,
          5,
          5,
          6,
          7,
          2,
          4,
          7,
          6,
          9,
          5,
          8,
          7,
          2
         ],
         "yaxis": "y"
        },
        {
         "hovertemplate": "port_name=Terrebonne Parish Port, LA<br>month=%{x}<br>vessels_avg=%{y}<extra></extra>",
         "legendgroup": "Terrebonne Parish Port, LA",
         "line": {
          "color": "#EF553B",
          "dash": "solid"
         },
         "marker": {
          "symbol": "circle"
         },
         "mode": "lines",
         "name": "Terrebonne Parish Port, LA",
         "showlegend": true,
         "type": "scattergl",
         "x": [
          "2018-04-01T00:00:00",
          "2019-08-01T00:00:00"
         ],
         "xaxis": "x",
         "y": [
          1,
          1
         ],
         "yaxis": "y"
        },
        {
         "hovertemplate": "port_name=Kivalina, AK<br>month=%{x}<br>vessels_avg=%{y}<extra></extra>",
         "legendgroup": "Kivalina, AK",
         "line": {
          "color": "#00cc96",
          "dash": "solid"
         },
         "marker": {
          "symbol": "circle"
         },
         "mode": "lines",
         "name": "Kivalina, AK",
         "showlegend": true,
         "type": "scattergl",
         "x": [
          "2018-05-01T00:00:00",
          "2018-06-01T00:00:00",
          "2018-07-01T00:00:00",
          "2018-08-01T00:00:00",
          "2018-09-01T00:00:00",
          "2018-10-01T00:00:00",
          "2018-11-01T00:00:00",
          "2019-05-01T00:00:00",
          "2019-06-01T00:00:00",
          "2019-07-01T00:00:00",
          "2019-08-01T00:00:00",
          "2019-09-01T00:00:00",
          "2019-10-01T00:00:00",
          "2019-11-01T00:00:00"
         ],
         "xaxis": "x",
         "y": [
          2,
          5,
          6,
          8,
          8,
          4,
          1,
          1,
          4,
          4,
          6,
          3,
          4,
          1
         ],
         "yaxis": "y"
        },
        {
         "hovertemplate": "port_name=Cincinnati, OH<br>month=%{x}<br>vessels_avg=%{y}<extra></extra>",
         "legendgroup": "Cincinnati, OH",
         "line": {
          "color": "#ab63fa",
          "dash": "solid"
         },
         "marker": {
          "symbol": "circle"
         },
         "mode": "lines",
         "name": "Cincinnati, OH",
         "showlegend": true,
         "type": "scattergl",
         "x": [
          "2018-05-01T00:00:00",
          "2018-06-01T00:00:00"
         ],
         "xaxis": "x",
         "y": [
          1,
          1
         ],
         "yaxis": "y"
        },
        {
         "hovertemplate": "port_name=Monroe, MI<br>month=%{x}<br>vessels_avg=%{y}<extra></extra>",
         "legendgroup": "Monroe, MI",
         "line": {
          "color": "#FFA15A",
          "dash": "solid"
         },
         "marker": {
          "symbol": "circle"
         },
         "mode": "lines",
         "name": "Monroe, MI",
         "showlegend": true,
         "type": "scattergl",
         "x": [
          "2018-05-01T00:00:00",
          "2018-06-01T00:00:00",
          "2018-07-01T00:00:00",
          "2018-08-01T00:00:00",
          "2018-09-01T00:00:00",
          "2018-10-01T00:00:00",
          "2018-11-01T00:00:00",
          "2018-12-01T00:00:00",
          "2019-01-01T00:00:00",
          "2019-02-01T00:00:00",
          "2019-03-01T00:00:00",
          "2019-05-01T00:00:00",
          "2019-06-01T00:00:00",
          "2019-07-01T00:00:00",
          "2019-08-01T00:00:00",
          "2019-09-01T00:00:00",
          "2019-10-01T00:00:00",
          "2019-11-01T00:00:00",
          "2019-12-01T00:00:00"
         ],
         "xaxis": "x",
         "y": [
          1,
          1,
          1,
          2,
          2,
          1,
          1,
          2,
          1,
          1,
          2,
          2,
          2,
          1,
          1,
          1,
          3,
          4,
          2
         ],
         "yaxis": "y"
        },
        {
         "hovertemplate": "port_name=Orange County Nav District, TX<br>month=%{x}<br>vessels_avg=%{y}<extra></extra>",
         "legendgroup": "Orange County Nav District, TX",
         "line": {
          "color": "#19d3f3",
          "dash": "solid"
         },
         "marker": {
          "symbol": "circle"
         },
         "mode": "lines",
         "name": "Orange County Nav District, TX",
         "showlegend": true,
         "type": "scattergl",
         "x": [
          "2018-07-01T00:00:00",
          "2018-10-01T00:00:00",
          "2018-12-01T00:00:00",
          "2019-01-01T00:00:00",
          "2019-02-01T00:00:00",
          "2019-03-01T00:00:00",
          "2019-04-01T00:00:00",
          "2019-05-01T00:00:00",
          "2019-06-01T00:00:00"
         ],
         "xaxis": "x",
         "y": [
          1,
          2,
          1,
          3,
          1,
          2,
          1,
          1,
          1
         ],
         "yaxis": "y"
        },
        {
         "hovertemplate": "port_name=Marblehead, OH<br>month=%{x}<br>vessels_avg=%{y}<extra></extra>",
         "legendgroup": "Marblehead, OH",
         "line": {
          "color": "#FF6692",
          "dash": "solid"
         },
         "marker": {
          "symbol": "circle"
         },
         "mode": "lines",
         "name": "Marblehead, OH",
         "showlegend": true,
         "type": "scattergl",
         "x": [
          "2018-07-01T00:00:00",
          "2018-10-01T00:00:00",
          "2018-11-01T00:00:00",
          "2019-01-01T00:00:00",
          "2019-03-01T00:00:00",
          "2019-04-01T00:00:00",
          "2019-05-01T00:00:00",
          "2019-06-01T00:00:00",
          "2019-08-01T00:00:00",
          "2019-09-01T00:00:00",
          "2019-10-01T00:00:00",
          "2019-11-01T00:00:00",
          "2019-12-01T00:00:00"
         ],
         "xaxis": "x",
         "y": [
          1,
          1,
          1,
          1,
          1,
          2,
          1,
          1,
          1,
          2,
          2,
          1,
          1
         ],
         "yaxis": "y"
        },
        {
         "hovertemplate": "port_name=Port of Harlingen Authority, TX<br>month=%{x}<br>vessels_avg=%{y}<extra></extra>",
         "legendgroup": "Port of Harlingen Authority, TX",
         "line": {
          "color": "#B6E880",
          "dash": "solid"
         },
         "marker": {
          "symbol": "circle"
         },
         "mode": "lines",
         "name": "Port of Harlingen Authority, TX",
         "showlegend": true,
         "type": "scattergl",
         "x": [
          "2018-07-01T00:00:00",
          "2019-07-01T00:00:00",
          "2019-12-01T00:00:00"
         ],
         "xaxis": "x",
         "y": [
          1,
          1,
          1
         ],
         "yaxis": "y"
        },
        {
         "hovertemplate": "port_name=Bridgeport, CT<br>month=%{x}<br>vessels_avg=%{y}<extra></extra>",
         "legendgroup": "Bridgeport, CT",
         "line": {
          "color": "#FF97FF",
          "dash": "solid"
         },
         "marker": {
          "symbol": "circle"
         },
         "mode": "lines",
         "name": "Bridgeport, CT",
         "showlegend": true,
         "type": "scattergl",
         "x": [
          "2018-08-01T00:00:00",
          "2018-09-01T00:00:00",
          "2019-03-01T00:00:00",
          "2019-05-01T00:00:00",
          "2019-07-01T00:00:00",
          "2019-08-01T00:00:00"
         ],
         "xaxis": "x",
         "y": [
          2,
          1,
          1,
          1,
          1,
          1
         ],
         "yaxis": "y"
        },
        {
         "hovertemplate": "port_name=Port of Iberia District, LA<br>month=%{x}<br>vessels_avg=%{y}<extra></extra>",
         "legendgroup": "Port of Iberia District, LA",
         "line": {
          "color": "#FECB52",
          "dash": "solid"
         },
         "marker": {
          "symbol": "circle"
         },
         "mode": "lines",
         "name": "Port of Iberia District, LA",
         "showlegend": true,
         "type": "scattergl",
         "x": [
          "2018-08-01T00:00:00",
          "2019-05-01T00:00:00"
         ],
         "xaxis": "x",
         "y": [
          1,
          1
         ],
         "yaxis": "y"
        },
        {
         "hovertemplate": "port_name=West St. Mary Parish Port, LA<br>month=%{x}<br>vessels_avg=%{y}<extra></extra>",
         "legendgroup": "West St. Mary Parish Port, LA",
         "line": {
          "color": "#636efa",
          "dash": "solid"
         },
         "marker": {
          "symbol": "circle"
         },
         "mode": "lines",
         "name": "West St. Mary Parish Port, LA",
         "showlegend": true,
         "type": "scattergl",
         "x": [
          "2018-10-01T00:00:00",
          "2018-12-01T00:00:00",
          "2019-05-01T00:00:00",
          "2019-11-01T00:00:00"
         ],
         "xaxis": "x",
         "y": [
          1,
          1,
          1,
          1
         ],
         "yaxis": "y"
        },
        {
         "hovertemplate": "port_name=Port of Columbia County, OR<br>month=%{x}<br>vessels_avg=%{y}<extra></extra>",
         "legendgroup": "Port of Columbia County, OR",
         "line": {
          "color": "#EF553B",
          "dash": "solid"
         },
         "marker": {
          "symbol": "circle"
         },
         "mode": "lines",
         "name": "Port of Columbia County, OR",
         "showlegend": true,
         "type": "scattergl",
         "x": [
          "2019-04-01T00:00:00"
         ],
         "xaxis": "x",
         "y": [
          1
         ],
         "yaxis": "y"
        }
       ],
       "layout": {
        "height": 500,
        "legend": {
         "title": {
          "text": "port_name"
         },
         "tracegroupgap": 0
        },
        "template": {
         "data": {
          "bar": [
           {
            "error_x": {
             "color": "#2a3f5f"
            },
            "error_y": {
             "color": "#2a3f5f"
            },
            "marker": {
             "line": {
              "color": "#E5ECF6",
              "width": 0.5
             },
             "pattern": {
              "fillmode": "overlay",
              "size": 10,
              "solidity": 0.2
             }
            },
            "type": "bar"
           }
          ],
          "barpolar": [
           {
            "marker": {
             "line": {
              "color": "#E5ECF6",
              "width": 0.5
             },
             "pattern": {
              "fillmode": "overlay",
              "size": 10,
              "solidity": 0.2
             }
            },
            "type": "barpolar"
           }
          ],
          "carpet": [
           {
            "aaxis": {
             "endlinecolor": "#2a3f5f",
             "gridcolor": "white",
             "linecolor": "white",
             "minorgridcolor": "white",
             "startlinecolor": "#2a3f5f"
            },
            "baxis": {
             "endlinecolor": "#2a3f5f",
             "gridcolor": "white",
             "linecolor": "white",
             "minorgridcolor": "white",
             "startlinecolor": "#2a3f5f"
            },
            "type": "carpet"
           }
          ],
          "choropleth": [
           {
            "colorbar": {
             "outlinewidth": 0,
             "ticks": ""
            },
            "type": "choropleth"
           }
          ],
          "contour": [
           {
            "colorbar": {
             "outlinewidth": 0,
             "ticks": ""
            },
            "colorscale": [
             [
              0,
              "#0d0887"
             ],
             [
              0.1111111111111111,
              "#46039f"
             ],
             [
              0.2222222222222222,
              "#7201a8"
             ],
             [
              0.3333333333333333,
              "#9c179e"
             ],
             [
              0.4444444444444444,
              "#bd3786"
             ],
             [
              0.5555555555555556,
              "#d8576b"
             ],
             [
              0.6666666666666666,
              "#ed7953"
             ],
             [
              0.7777777777777778,
              "#fb9f3a"
             ],
             [
              0.8888888888888888,
              "#fdca26"
             ],
             [
              1,
              "#f0f921"
             ]
            ],
            "type": "contour"
           }
          ],
          "contourcarpet": [
           {
            "colorbar": {
             "outlinewidth": 0,
             "ticks": ""
            },
            "type": "contourcarpet"
           }
          ],
          "heatmap": [
           {
            "colorbar": {
             "outlinewidth": 0,
             "ticks": ""
            },
            "colorscale": [
             [
              0,
              "#0d0887"
             ],
             [
              0.1111111111111111,
              "#46039f"
             ],
             [
              0.2222222222222222,
              "#7201a8"
             ],
             [
              0.3333333333333333,
              "#9c179e"
             ],
             [
              0.4444444444444444,
              "#bd3786"
             ],
             [
              0.5555555555555556,
              "#d8576b"
             ],
             [
              0.6666666666666666,
              "#ed7953"
             ],
             [
              0.7777777777777778,
              "#fb9f3a"
             ],
             [
              0.8888888888888888,
              "#fdca26"
             ],
             [
              1,
              "#f0f921"
             ]
            ],
            "type": "heatmap"
           }
          ],
          "heatmapgl": [
           {
            "colorbar": {
             "outlinewidth": 0,
             "ticks": ""
            },
            "colorscale": [
             [
              0,
              "#0d0887"
             ],
             [
              0.1111111111111111,
              "#46039f"
             ],
             [
              0.2222222222222222,
              "#7201a8"
             ],
             [
              0.3333333333333333,
              "#9c179e"
             ],
             [
              0.4444444444444444,
              "#bd3786"
             ],
             [
              0.5555555555555556,
              "#d8576b"
             ],
             [
              0.6666666666666666,
              "#ed7953"
             ],
             [
              0.7777777777777778,
              "#fb9f3a"
             ],
             [
              0.8888888888888888,
              "#fdca26"
             ],
             [
              1,
              "#f0f921"
             ]
            ],
            "type": "heatmapgl"
           }
          ],
          "histogram": [
           {
            "marker": {
             "pattern": {
              "fillmode": "overlay",
              "size": 10,
              "solidity": 0.2
             }
            },
            "type": "histogram"
           }
          ],
          "histogram2d": [
           {
            "colorbar": {
             "outlinewidth": 0,
             "ticks": ""
            },
            "colorscale": [
             [
              0,
              "#0d0887"
             ],
             [
              0.1111111111111111,
              "#46039f"
             ],
             [
              0.2222222222222222,
              "#7201a8"
             ],
             [
              0.3333333333333333,
              "#9c179e"
             ],
             [
              0.4444444444444444,
              "#bd3786"
             ],
             [
              0.5555555555555556,
              "#d8576b"
             ],
             [
              0.6666666666666666,
              "#ed7953"
             ],
             [
              0.7777777777777778,
              "#fb9f3a"
             ],
             [
              0.8888888888888888,
              "#fdca26"
             ],
             [
              1,
              "#f0f921"
             ]
            ],
            "type": "histogram2d"
           }
          ],
          "histogram2dcontour": [
           {
            "colorbar": {
             "outlinewidth": 0,
             "ticks": ""
            },
            "colorscale": [
             [
              0,
              "#0d0887"
             ],
             [
              0.1111111111111111,
              "#46039f"
             ],
             [
              0.2222222222222222,
              "#7201a8"
             ],
             [
              0.3333333333333333,
              "#9c179e"
             ],
             [
              0.4444444444444444,
              "#bd3786"
             ],
             [
              0.5555555555555556,
              "#d8576b"
             ],
             [
              0.6666666666666666,
              "#ed7953"
             ],
             [
              0.7777777777777778,
              "#fb9f3a"
             ],
             [
              0.8888888888888888,
              "#fdca26"
             ],
             [
              1,
              "#f0f921"
             ]
            ],
            "type": "histogram2dcontour"
           }
          ],
          "mesh3d": [
           {
            "colorbar": {
             "outlinewidth": 0,
             "ticks": ""
            },
            "type": "mesh3d"
           }
          ],
          "parcoords": [
           {
            "line": {
             "colorbar": {
              "outlinewidth": 0,
              "ticks": ""
             }
            },
            "type": "parcoords"
           }
          ],
          "pie": [
           {
            "automargin": true,
            "type": "pie"
           }
          ],
          "scatter": [
           {
            "fillpattern": {
             "fillmode": "overlay",
             "size": 10,
             "solidity": 0.2
            },
            "type": "scatter"
           }
          ],
          "scatter3d": [
           {
            "line": {
             "colorbar": {
              "outlinewidth": 0,
              "ticks": ""
             }
            },
            "marker": {
             "colorbar": {
              "outlinewidth": 0,
              "ticks": ""
             }
            },
            "type": "scatter3d"
           }
          ],
          "scattercarpet": [
           {
            "marker": {
             "colorbar": {
              "outlinewidth": 0,
              "ticks": ""
             }
            },
            "type": "scattercarpet"
           }
          ],
          "scattergeo": [
           {
            "marker": {
             "colorbar": {
              "outlinewidth": 0,
              "ticks": ""
             }
            },
            "type": "scattergeo"
           }
          ],
          "scattergl": [
           {
            "marker": {
             "colorbar": {
              "outlinewidth": 0,
              "ticks": ""
             }
            },
            "type": "scattergl"
           }
          ],
          "scattermapbox": [
           {
            "marker": {
             "colorbar": {
              "outlinewidth": 0,
              "ticks": ""
             }
            },
            "type": "scattermapbox"
           }
          ],
          "scatterpolar": [
           {
            "marker": {
             "colorbar": {
              "outlinewidth": 0,
              "ticks": ""
             }
            },
            "type": "scatterpolar"
           }
          ],
          "scatterpolargl": [
           {
            "marker": {
             "colorbar": {
              "outlinewidth": 0,
              "ticks": ""
             }
            },
            "type": "scatterpolargl"
           }
          ],
          "scatterternary": [
           {
            "marker": {
             "colorbar": {
              "outlinewidth": 0,
              "ticks": ""
             }
            },
            "type": "scatterternary"
           }
          ],
          "surface": [
           {
            "colorbar": {
             "outlinewidth": 0,
             "ticks": ""
            },
            "colorscale": [
             [
              0,
              "#0d0887"
             ],
             [
              0.1111111111111111,
              "#46039f"
             ],
             [
              0.2222222222222222,
              "#7201a8"
             ],
             [
              0.3333333333333333,
              "#9c179e"
             ],
             [
              0.4444444444444444,
              "#bd3786"
             ],
             [
              0.5555555555555556,
              "#d8576b"
             ],
             [
              0.6666666666666666,
              "#ed7953"
             ],
             [
              0.7777777777777778,
              "#fb9f3a"
             ],
             [
              0.8888888888888888,
              "#fdca26"
             ],
             [
              1,
              "#f0f921"
             ]
            ],
            "type": "surface"
           }
          ],
          "table": [
           {
            "cells": {
             "fill": {
              "color": "#EBF0F8"
             },
             "line": {
              "color": "white"
             }
            },
            "header": {
             "fill": {
              "color": "#C8D4E3"
             },
             "line": {
              "color": "white"
             }
            },
            "type": "table"
           }
          ]
         },
         "layout": {
          "annotationdefaults": {
           "arrowcolor": "#2a3f5f",
           "arrowhead": 0,
           "arrowwidth": 1
          },
          "autotypenumbers": "strict",
          "coloraxis": {
           "colorbar": {
            "outlinewidth": 0,
            "ticks": ""
           }
          },
          "colorscale": {
           "diverging": [
            [
             0,
             "#8e0152"
            ],
            [
             0.1,
             "#c51b7d"
            ],
            [
             0.2,
             "#de77ae"
            ],
            [
             0.3,
             "#f1b6da"
            ],
            [
             0.4,
             "#fde0ef"
            ],
            [
             0.5,
             "#f7f7f7"
            ],
            [
             0.6,
             "#e6f5d0"
            ],
            [
             0.7,
             "#b8e186"
            ],
            [
             0.8,
             "#7fbc41"
            ],
            [
             0.9,
             "#4d9221"
            ],
            [
             1,
             "#276419"
            ]
           ],
           "sequential": [
            [
             0,
             "#0d0887"
            ],
            [
             0.1111111111111111,
             "#46039f"
            ],
            [
             0.2222222222222222,
             "#7201a8"
            ],
            [
             0.3333333333333333,
             "#9c179e"
            ],
            [
             0.4444444444444444,
             "#bd3786"
            ],
            [
             0.5555555555555556,
             "#d8576b"
            ],
            [
             0.6666666666666666,
             "#ed7953"
            ],
            [
             0.7777777777777778,
             "#fb9f3a"
            ],
            [
             0.8888888888888888,
             "#fdca26"
            ],
            [
             1,
             "#f0f921"
            ]
           ],
           "sequentialminus": [
            [
             0,
             "#0d0887"
            ],
            [
             0.1111111111111111,
             "#46039f"
            ],
            [
             0.2222222222222222,
             "#7201a8"
            ],
            [
             0.3333333333333333,
             "#9c179e"
            ],
            [
             0.4444444444444444,
             "#bd3786"
            ],
            [
             0.5555555555555556,
             "#d8576b"
            ],
            [
             0.6666666666666666,
             "#ed7953"
            ],
            [
             0.7777777777777778,
             "#fb9f3a"
            ],
            [
             0.8888888888888888,
             "#fdca26"
            ],
            [
             1,
             "#f0f921"
            ]
           ]
          },
          "colorway": [
           "#636efa",
           "#EF553B",
           "#00cc96",
           "#ab63fa",
           "#FFA15A",
           "#19d3f3",
           "#FF6692",
           "#B6E880",
           "#FF97FF",
           "#FECB52"
          ],
          "font": {
           "color": "#2a3f5f"
          },
          "geo": {
           "bgcolor": "white",
           "lakecolor": "white",
           "landcolor": "#E5ECF6",
           "showlakes": true,
           "showland": true,
           "subunitcolor": "white"
          },
          "hoverlabel": {
           "align": "left"
          },
          "hovermode": "closest",
          "mapbox": {
           "style": "light"
          },
          "paper_bgcolor": "white",
          "plot_bgcolor": "#E5ECF6",
          "polar": {
           "angularaxis": {
            "gridcolor": "white",
            "linecolor": "white",
            "ticks": ""
           },
           "bgcolor": "#E5ECF6",
           "radialaxis": {
            "gridcolor": "white",
            "linecolor": "white",
            "ticks": ""
           }
          },
          "scene": {
           "xaxis": {
            "backgroundcolor": "#E5ECF6",
            "gridcolor": "white",
            "gridwidth": 2,
            "linecolor": "white",
            "showbackground": true,
            "ticks": "",
            "zerolinecolor": "white"
           },
           "yaxis": {
            "backgroundcolor": "#E5ECF6",
            "gridcolor": "white",
            "gridwidth": 2,
            "linecolor": "white",
            "showbackground": true,
            "ticks": "",
            "zerolinecolor": "white"
           },
           "zaxis": {
            "backgroundcolor": "#E5ECF6",
            "gridcolor": "white",
            "gridwidth": 2,
            "linecolor": "white",
            "showbackground": true,
            "ticks": "",
            "zerolinecolor": "white"
           }
          },
          "shapedefaults": {
           "line": {
            "color": "#2a3f5f"
           }
          },
          "ternary": {
           "aaxis": {
            "gridcolor": "white",
            "linecolor": "white",
            "ticks": ""
           },
           "baxis": {
            "gridcolor": "white",
            "linecolor": "white",
            "ticks": ""
           },
           "bgcolor": "#E5ECF6",
           "caxis": {
            "gridcolor": "white",
            "linecolor": "white",
            "ticks": ""
           }
          },
          "title": {
           "x": 0.05
          },
          "xaxis": {
           "automargin": true,
           "gridcolor": "white",
           "linecolor": "white",
           "ticks": "",
           "title": {
            "standoff": 15
           },
           "zerolinecolor": "white",
           "zerolinewidth": 2
          },
          "yaxis": {
           "automargin": true,
           "gridcolor": "white",
           "linecolor": "white",
           "ticks": "",
           "title": {
            "standoff": 15
           },
           "zerolinecolor": "white",
           "zerolinewidth": 2
          }
         }
        },
        "title": {
         "text": "Average Vessels per month at Principal Ports"
        },
        "width": 1000,
        "xaxis": {
         "anchor": "y",
         "domain": [
          0,
          1
         ],
         "title": {
          "text": "month"
         }
        },
        "yaxis": {
         "anchor": "x",
         "domain": [
          0,
          1
         ],
         "title": {
          "text": "vessels_avg"
         }
        }
       }
      }
     },
     "metadata": {},
     "output_type": "display_data"
    }
   ],
   "source": [
    "px.line(\n",
    "    #data with month in dt format\n",
    "    monthly_gdf\n",
    "    .with_columns(pl.col('month').str.strptime(pl.Date, format='%Y%m'))\n",
    "    .sort(by='month'), \n",
    "    #plot specs\n",
    "    x='month', y='vessels_avg', color='port_name',\n",
    "    title='Average Vessels per month at Principal Ports',\n",
    "    width=1000,\n",
    "    height=500 \n",
    ")"
   ]
  },
  {
   "cell_type": "code",
   "execution_count": 163,
   "metadata": {},
   "outputs": [
    {
     "data": {
      "application/vnd.plotly.v1+json": {
       "config": {
        "plotlyServerURL": "https://plot.ly"
       },
       "data": [
        {
         "hovertemplate": "port_name=Marine City, MI<br>month=%{x}<br>time_at_anchor_avg=%{y}<extra></extra>",
         "legendgroup": "Marine City, MI",
         "line": {
          "color": "#636efa",
          "dash": "solid"
         },
         "marker": {
          "symbol": "circle"
         },
         "mode": "lines",
         "name": "Marine City, MI",
         "showlegend": true,
         "type": "scattergl",
         "x": [
          "2018-01-01T00:00:00",
          "2018-02-01T00:00:00",
          "2018-03-01T00:00:00",
          "2018-04-01T00:00:00",
          "2018-05-01T00:00:00",
          "2018-06-01T00:00:00",
          "2018-07-01T00:00:00",
          "2018-08-01T00:00:00",
          "2018-09-01T00:00:00",
          "2018-10-01T00:00:00",
          "2018-11-01T00:00:00",
          "2018-12-01T00:00:00",
          "2019-01-01T00:00:00",
          "2019-02-01T00:00:00",
          "2019-03-01T00:00:00",
          "2019-04-01T00:00:00",
          "2019-05-01T00:00:00",
          "2019-06-01T00:00:00",
          "2019-07-01T00:00:00",
          "2019-08-01T00:00:00",
          "2019-09-01T00:00:00",
          "2019-10-01T00:00:00",
          "2019-11-01T00:00:00",
          "2019-12-01T00:00:00"
         ],
         "xaxis": "x",
         "y": [
          19.866666666666667,
          17.983333333333334,
          22.233333333333334,
          8.75,
          7.733333333333333,
          6.708333333333333,
          18.633333333333333,
          22.65,
          9.05,
          19.15,
          18.433333333333334,
          13.158333333333333,
          18.016666666666666,
          10.466666666666667,
          11.708333333333334,
          16.983333333333334,
          0.016666666666666666,
          10.233333333333333,
          6.8999999999999995,
          11.433333333333334,
          9.116666666666667,
          8.108333333333333,
          14.833333333333334,
          20.133333333333333
         ],
         "yaxis": "y"
        },
        {
         "hovertemplate": "port_name=Port of Providence, RI<br>month=%{x}<br>time_at_anchor_avg=%{y}<extra></extra>",
         "legendgroup": "Port of Providence, RI",
         "line": {
          "color": "#EF553B",
          "dash": "solid"
         },
         "marker": {
          "symbol": "circle"
         },
         "mode": "lines",
         "name": "Port of Providence, RI",
         "showlegend": true,
         "type": "scattergl",
         "x": [
          "2018-01-01T00:00:00",
          "2018-02-01T00:00:00",
          "2018-03-01T00:00:00",
          "2018-04-01T00:00:00",
          "2018-05-01T00:00:00",
          "2018-06-01T00:00:00",
          "2018-07-01T00:00:00",
          "2018-08-01T00:00:00",
          "2018-09-01T00:00:00",
          "2018-10-01T00:00:00",
          "2018-11-01T00:00:00",
          "2018-12-01T00:00:00",
          "2019-01-01T00:00:00",
          "2019-02-01T00:00:00",
          "2019-03-01T00:00:00",
          "2019-04-01T00:00:00",
          "2019-05-01T00:00:00",
          "2019-06-01T00:00:00",
          "2019-07-01T00:00:00",
          "2019-08-01T00:00:00",
          "2019-09-01T00:00:00",
          "2019-10-01T00:00:00",
          "2019-11-01T00:00:00",
          "2019-12-01T00:00:00"
         ],
         "xaxis": "x",
         "y": [
          15.041666666666666,
          11.433333333333334,
          15,
          6.45,
          9.5,
          11.241666666666667,
          15.5,
          17.575,
          14.366666666666667,
          24.15,
          32.075,
          26.8,
          20.016666666666666,
          14.183333333333334,
          13.866666666666667,
          15.233333333333333,
          18.841666666666665,
          9.3,
          17.725,
          18.366666666666667,
          2.0666666666666664,
          8.241666666666667,
          6.666666666666667,
          17.066666666666666
         ],
         "yaxis": "y"
        },
        {
         "hovertemplate": "port_name=South Jersey Port Corp, NJ<br>month=%{x}<br>time_at_anchor_avg=%{y}<extra></extra>",
         "legendgroup": "South Jersey Port Corp, NJ",
         "line": {
          "color": "#00cc96",
          "dash": "solid"
         },
         "marker": {
          "symbol": "circle"
         },
         "mode": "lines",
         "name": "South Jersey Port Corp, NJ",
         "showlegend": true,
         "type": "scattergl",
         "x": [
          "2018-01-01T00:00:00",
          "2018-02-01T00:00:00",
          "2018-03-01T00:00:00",
          "2018-04-01T00:00:00",
          "2018-05-01T00:00:00",
          "2018-06-01T00:00:00",
          "2018-07-01T00:00:00",
          "2018-08-01T00:00:00",
          "2018-09-01T00:00:00",
          "2018-10-01T00:00:00",
          "2018-11-01T00:00:00",
          "2018-12-01T00:00:00",
          "2019-01-01T00:00:00",
          "2019-02-01T00:00:00",
          "2019-03-01T00:00:00",
          "2019-04-01T00:00:00",
          "2019-05-01T00:00:00",
          "2019-06-01T00:00:00",
          "2019-07-01T00:00:00",
          "2019-08-01T00:00:00",
          "2019-09-01T00:00:00",
          "2019-10-01T00:00:00",
          "2019-11-01T00:00:00",
          "2019-12-01T00:00:00"
         ],
         "xaxis": "x",
         "y": [
          42.59166666666667,
          15.833333333333334,
          32.68333333333333,
          26.183333333333334,
          17.65,
          31.716666666666665,
          24.825,
          27.95,
          26.291666666666668,
          20.666666666666668,
          27.983333333333334,
          15.15,
          12.733333333333333,
          20.616666666666667,
          34.65833333333333,
          20.95,
          36.825,
          67.45833333333333,
          74.08333333333333,
          49.31666666666666,
          0.19166666666666665,
          0.05,
          0.11666666666666667,
          17.066666666666666
         ],
         "yaxis": "y"
        },
        {
         "hovertemplate": "port_name=Boston, MA<br>month=%{x}<br>time_at_anchor_avg=%{y}<extra></extra>",
         "legendgroup": "Boston, MA",
         "line": {
          "color": "#ab63fa",
          "dash": "solid"
         },
         "marker": {
          "symbol": "circle"
         },
         "mode": "lines",
         "name": "Boston, MA",
         "showlegend": true,
         "type": "scattergl",
         "x": [
          "2018-01-01T00:00:00",
          "2018-02-01T00:00:00",
          "2018-03-01T00:00:00",
          "2018-04-01T00:00:00",
          "2018-05-01T00:00:00",
          "2018-06-01T00:00:00",
          "2018-07-01T00:00:00",
          "2018-08-01T00:00:00",
          "2018-09-01T00:00:00",
          "2018-10-01T00:00:00",
          "2018-11-01T00:00:00",
          "2018-12-01T00:00:00",
          "2019-01-01T00:00:00",
          "2019-02-01T00:00:00",
          "2019-03-01T00:00:00",
          "2019-04-01T00:00:00",
          "2019-05-01T00:00:00",
          "2019-06-01T00:00:00",
          "2019-07-01T00:00:00",
          "2019-08-01T00:00:00",
          "2019-09-01T00:00:00",
          "2019-10-01T00:00:00",
          "2019-11-01T00:00:00",
          "2019-12-01T00:00:00"
         ],
         "xaxis": "x",
         "y": [
          17.458333333333332,
          20.308333333333334,
          20.016666666666666,
          10.641666666666666,
          18.35,
          16.125,
          16.4,
          25.7,
          23.766666666666666,
          14.2,
          11.616666666666667,
          13.575,
          16.05,
          14.933333333333334,
          18.683333333333334,
          9.858333333333333,
          13.549999999999999,
          12.058333333333334,
          7.666666666666667,
          3.9416666666666664,
          3.1333333333333333,
          7.933333333333334,
          12.583333333333334,
          17.133333333333333
         ],
         "yaxis": "y"
        },
        {
         "hovertemplate": "port_name=Virgin Islands - St. Croix, VI<br>month=%{x}<br>time_at_anchor_avg=%{y}<extra></extra>",
         "legendgroup": "Virgin Islands - St. Croix, VI",
         "line": {
          "color": "#FFA15A",
          "dash": "solid"
         },
         "marker": {
          "symbol": "circle"
         },
         "mode": "lines",
         "name": "Virgin Islands - St. Croix, VI",
         "showlegend": true,
         "type": "scattergl",
         "x": [
          "2018-01-01T00:00:00",
          "2018-02-01T00:00:00",
          "2018-03-01T00:00:00",
          "2018-04-01T00:00:00",
          "2018-05-01T00:00:00",
          "2018-06-01T00:00:00",
          "2018-07-01T00:00:00",
          "2018-08-01T00:00:00",
          "2018-09-01T00:00:00",
          "2018-10-01T00:00:00",
          "2018-11-01T00:00:00",
          "2018-12-01T00:00:00",
          "2019-01-01T00:00:00",
          "2019-02-01T00:00:00",
          "2019-03-01T00:00:00",
          "2019-04-01T00:00:00",
          "2019-05-01T00:00:00",
          "2019-06-01T00:00:00",
          "2019-07-01T00:00:00",
          "2019-08-01T00:00:00",
          "2019-09-01T00:00:00",
          "2019-10-01T00:00:00",
          "2019-11-01T00:00:00",
          "2019-12-01T00:00:00"
         ],
         "xaxis": "x",
         "y": [
          10.875,
          10.458333333333334,
          1.2,
          11.066666666666666,
          4.633333333333333,
          6.366666666666666,
          16.65,
          13.283333333333333,
          14.883333333333333,
          13.674999999999999,
          14.966666666666667,
          14.225,
          16.666666666666668,
          12.841666666666667,
          19.5,
          11.8,
          12.433333333333334,
          13.116666666666667,
          22.733333333333334,
          19.383333333333333,
          15.966666666666667,
          17.825,
          14.725,
          11.725
         ],
         "yaxis": "y"
        },
        {
         "hovertemplate": "port_name=Port of Vancouver USA, WA<br>month=%{x}<br>time_at_anchor_avg=%{y}<extra></extra>",
         "legendgroup": "Port of Vancouver USA, WA",
         "line": {
          "color": "#19d3f3",
          "dash": "solid"
         },
         "marker": {
          "symbol": "circle"
         },
         "mode": "lines",
         "name": "Port of Vancouver USA, WA",
         "showlegend": true,
         "type": "scattergl",
         "x": [
          "2018-01-01T00:00:00",
          "2018-02-01T00:00:00",
          "2018-03-01T00:00:00",
          "2018-04-01T00:00:00",
          "2018-05-01T00:00:00",
          "2018-06-01T00:00:00",
          "2018-07-01T00:00:00",
          "2018-08-01T00:00:00",
          "2018-09-01T00:00:00",
          "2018-10-01T00:00:00",
          "2018-11-01T00:00:00",
          "2018-12-01T00:00:00",
          "2019-01-01T00:00:00",
          "2019-02-01T00:00:00",
          "2019-03-01T00:00:00",
          "2019-04-01T00:00:00",
          "2019-05-01T00:00:00",
          "2019-06-01T00:00:00",
          "2019-07-01T00:00:00",
          "2019-08-01T00:00:00",
          "2019-09-01T00:00:00",
          "2019-10-01T00:00:00",
          "2019-11-01T00:00:00",
          "2019-12-01T00:00:00"
         ],
         "xaxis": "x",
         "y": [
          38.766666666666666,
          77.2,
          57.5,
          75.03333333333333,
          29.966666666666665,
          59.074999999999996,
          27.666666666666668,
          36.78333333333333,
          37.525,
          21.40833333333333,
          40.733333333333334,
          41.3,
          23.633333333333333,
          48.93333333333333,
          34.06666666666666,
          31.108333333333334,
          60.99166666666667,
          17,
          78.775,
          39.15,
          42.041666666666664,
          32.68333333333333,
          21.716666666666665,
          24.366666666666667
         ],
         "yaxis": "y"
        },
        {
         "hovertemplate": "port_name=Port of Everett, WA<br>month=%{x}<br>time_at_anchor_avg=%{y}<extra></extra>",
         "legendgroup": "Port of Everett, WA",
         "line": {
          "color": "#FF6692",
          "dash": "solid"
         },
         "marker": {
          "symbol": "circle"
         },
         "mode": "lines",
         "name": "Port of Everett, WA",
         "showlegend": true,
         "type": "scattergl",
         "x": [
          "2018-01-01T00:00:00",
          "2018-02-01T00:00:00",
          "2018-03-01T00:00:00",
          "2018-04-01T00:00:00",
          "2018-05-01T00:00:00",
          "2018-06-01T00:00:00",
          "2018-07-01T00:00:00",
          "2018-08-01T00:00:00",
          "2018-09-01T00:00:00",
          "2018-10-01T00:00:00",
          "2018-11-01T00:00:00",
          "2018-12-01T00:00:00",
          "2019-01-01T00:00:00",
          "2019-02-01T00:00:00",
          "2019-03-01T00:00:00",
          "2019-04-01T00:00:00",
          "2019-05-01T00:00:00",
          "2019-06-01T00:00:00",
          "2019-07-01T00:00:00",
          "2019-08-01T00:00:00",
          "2019-09-01T00:00:00",
          "2019-10-01T00:00:00",
          "2019-11-01T00:00:00",
          "2019-12-01T00:00:00"
         ],
         "xaxis": "x",
         "y": [
          39.53333333333333,
          null,
          52.8,
          11.95,
          null,
          null,
          139.06666666666666,
          4.6,
          15.833333333333334,
          101.6,
          null,
          24.816666666666666,
          null,
          110.13333333333333,
          230.15,
          44.55,
          111.58333333333333,
          22.516666666666666,
          null,
          null,
          49.7,
          12.866666666666667,
          5.1,
          101.35833333333333
         ],
         "yaxis": "y"
        },
        {
         "hovertemplate": "port_name=Muskegon, MI<br>month=%{x}<br>time_at_anchor_avg=%{y}<extra></extra>",
         "legendgroup": "Muskegon, MI",
         "line": {
          "color": "#B6E880",
          "dash": "solid"
         },
         "marker": {
          "symbol": "circle"
         },
         "mode": "lines",
         "name": "Muskegon, MI",
         "showlegend": true,
         "type": "scattergl",
         "x": [
          "2018-01-01T00:00:00",
          "2018-04-01T00:00:00",
          "2018-05-01T00:00:00",
          "2018-06-01T00:00:00",
          "2018-08-01T00:00:00",
          "2018-10-01T00:00:00",
          "2018-11-01T00:00:00",
          "2018-12-01T00:00:00",
          "2019-04-01T00:00:00",
          "2019-05-01T00:00:00",
          "2019-06-01T00:00:00",
          "2019-07-01T00:00:00",
          "2019-08-01T00:00:00",
          "2019-09-01T00:00:00",
          "2019-10-01T00:00:00",
          "2019-11-01T00:00:00",
          "2019-12-01T00:00:00"
         ],
         "xaxis": "x",
         "y": [
          null,
          null,
          null,
          null,
          null,
          13.633333333333333,
          10.666666666666666,
          null,
          null,
          null,
          null,
          20.716666666666665,
          null,
          23.833333333333332,
          null,
          2.1,
          null
         ],
         "yaxis": "y"
        },
        {
         "hovertemplate": "port_name=Port of Greater Baton Rouge, LA<br>month=%{x}<br>time_at_anchor_avg=%{y}<extra></extra>",
         "legendgroup": "Port of Greater Baton Rouge, LA",
         "line": {
          "color": "#FF97FF",
          "dash": "solid"
         },
         "marker": {
          "symbol": "circle"
         },
         "mode": "lines",
         "name": "Port of Greater Baton Rouge, LA",
         "showlegend": true,
         "type": "scattergl",
         "x": [
          "2018-01-01T00:00:00",
          "2018-02-01T00:00:00",
          "2018-03-01T00:00:00",
          "2018-04-01T00:00:00",
          "2018-05-01T00:00:00",
          "2018-06-01T00:00:00",
          "2018-07-01T00:00:00",
          "2018-08-01T00:00:00",
          "2018-09-01T00:00:00",
          "2018-10-01T00:00:00",
          "2018-11-01T00:00:00",
          "2018-12-01T00:00:00",
          "2019-01-01T00:00:00",
          "2019-02-01T00:00:00",
          "2019-03-01T00:00:00",
          "2019-04-01T00:00:00",
          "2019-05-01T00:00:00",
          "2019-06-01T00:00:00",
          "2019-07-01T00:00:00",
          "2019-08-01T00:00:00",
          "2019-09-01T00:00:00",
          "2019-10-01T00:00:00",
          "2019-11-01T00:00:00",
          "2019-12-01T00:00:00"
         ],
         "xaxis": "x",
         "y": [
          25.058333333333334,
          18.45,
          26.28333333333333,
          19.05,
          32.166666666666664,
          43.016666666666666,
          17.183333333333334,
          19.633333333333333,
          21.983333333333334,
          17.733333333333334,
          17.066666666666666,
          15.716666666666667,
          23.75,
          23.78333333333333,
          19.625,
          15.941666666666666,
          14.358333333333333,
          16.53333333333333,
          24.366666666666667,
          22.808333333333334,
          11.35,
          14.008333333333333,
          19.983333333333334,
          16.483333333333334
         ],
         "yaxis": "y"
        },
        {
         "hovertemplate": "port_name=New Orleans, LA<br>month=%{x}<br>time_at_anchor_avg=%{y}<extra></extra>",
         "legendgroup": "New Orleans, LA",
         "line": {
          "color": "#FECB52",
          "dash": "solid"
         },
         "marker": {
          "symbol": "circle"
         },
         "mode": "lines",
         "name": "New Orleans, LA",
         "showlegend": true,
         "type": "scattergl",
         "x": [
          "2018-01-01T00:00:00",
          "2018-02-01T00:00:00",
          "2018-03-01T00:00:00",
          "2018-04-01T00:00:00",
          "2018-05-01T00:00:00",
          "2018-06-01T00:00:00",
          "2018-07-01T00:00:00",
          "2018-08-01T00:00:00",
          "2018-09-01T00:00:00",
          "2018-10-01T00:00:00",
          "2018-11-01T00:00:00",
          "2018-12-01T00:00:00",
          "2019-01-01T00:00:00",
          "2019-02-01T00:00:00",
          "2019-03-01T00:00:00",
          "2019-04-01T00:00:00",
          "2019-05-01T00:00:00",
          "2019-06-01T00:00:00",
          "2019-07-01T00:00:00",
          "2019-08-01T00:00:00",
          "2019-09-01T00:00:00",
          "2019-10-01T00:00:00",
          "2019-11-01T00:00:00",
          "2019-12-01T00:00:00"
         ],
         "xaxis": "x",
         "y": [
          0.11666666666666667,
          40.333333333333336,
          30.766666666666666,
          36.86666666666667,
          25.483333333333334,
          26.683333333333334,
          35.03333333333333,
          39.85,
          33.766666666666666,
          40.733333333333334,
          34,
          36.4,
          30.633333333333333,
          41.05833333333333,
          44.95,
          33.06666666666666,
          46.75833333333333,
          37.50833333333333,
          41.4,
          33.24166666666667,
          20.691666666666666,
          40.266666666666666,
          30.066666666666666,
          18.416666666666668
         ],
         "yaxis": "y"
        },
        {
         "hovertemplate": "port_name=Valdez, AK<br>month=%{x}<br>time_at_anchor_avg=%{y}<extra></extra>",
         "legendgroup": "Valdez, AK",
         "line": {
          "color": "#636efa",
          "dash": "solid"
         },
         "marker": {
          "symbol": "circle"
         },
         "mode": "lines",
         "name": "Valdez, AK",
         "showlegend": true,
         "type": "scattergl",
         "x": [
          "2018-01-01T00:00:00",
          "2018-02-01T00:00:00",
          "2018-03-01T00:00:00",
          "2018-04-01T00:00:00",
          "2018-05-01T00:00:00",
          "2018-06-01T00:00:00",
          "2018-07-01T00:00:00",
          "2018-08-01T00:00:00",
          "2018-09-01T00:00:00",
          "2018-10-01T00:00:00",
          "2018-11-01T00:00:00",
          "2018-12-01T00:00:00",
          "2019-01-01T00:00:00",
          "2019-02-01T00:00:00",
          "2019-03-01T00:00:00",
          "2019-04-01T00:00:00",
          "2019-05-01T00:00:00",
          "2019-06-01T00:00:00",
          "2019-07-01T00:00:00",
          "2019-08-01T00:00:00",
          "2019-09-01T00:00:00",
          "2019-10-01T00:00:00",
          "2019-11-01T00:00:00",
          "2019-12-01T00:00:00"
         ],
         "xaxis": "x",
         "y": [
          20.166666666666668,
          15.683333333333334,
          21.683333333333334,
          34.333333333333336,
          13.983333333333333,
          9.475,
          8.5,
          24.225,
          9.558333333333334,
          17.433333333333334,
          35.65,
          21.183333333333334,
          30.099999999999998,
          97.71666666666667,
          34.40833333333333,
          29.266666666666666,
          34.125,
          17.016666666666666,
          11.45,
          25.55,
          26,
          11.425,
          25.983333333333334,
          15.75
         ],
         "yaxis": "y"
        },
        {
         "hovertemplate": "port_name=Oxnard Harbor District, CA<br>month=%{x}<br>time_at_anchor_avg=%{y}<extra></extra>",
         "legendgroup": "Oxnard Harbor District, CA",
         "line": {
          "color": "#EF553B",
          "dash": "solid"
         },
         "marker": {
          "symbol": "circle"
         },
         "mode": "lines",
         "name": "Oxnard Harbor District, CA",
         "showlegend": true,
         "type": "scattergl",
         "x": [
          "2018-01-01T00:00:00",
          "2018-02-01T00:00:00",
          "2018-03-01T00:00:00",
          "2018-04-01T00:00:00",
          "2018-05-01T00:00:00",
          "2018-06-01T00:00:00",
          "2018-07-01T00:00:00",
          "2018-08-01T00:00:00",
          "2018-09-01T00:00:00",
          "2018-10-01T00:00:00",
          "2018-11-01T00:00:00",
          "2018-12-01T00:00:00",
          "2019-01-01T00:00:00",
          "2019-02-01T00:00:00",
          "2019-03-01T00:00:00",
          "2019-04-01T00:00:00",
          "2019-05-01T00:00:00",
          "2019-06-01T00:00:00",
          "2019-07-01T00:00:00",
          "2019-08-01T00:00:00",
          "2019-09-01T00:00:00",
          "2019-10-01T00:00:00",
          "2019-11-01T00:00:00",
          "2019-12-01T00:00:00"
         ],
         "xaxis": "x",
         "y": [
          7.516666666666667,
          8.541666666666666,
          27.366666666666667,
          11.75,
          6.433333333333334,
          14.133333333333333,
          7.625,
          19.95,
          11.783333333333333,
          6.566666666666666,
          13.558333333333334,
          14.683333333333334,
          17.316666666666666,
          8.55,
          28.058333333333334,
          18.866666666666667,
          14.083333333333334,
          10.35,
          21.016666666666666,
          17.641666666666666,
          9.358333333333333,
          12.533333333333333,
          12.966666666666667,
          17.95
         ],
         "yaxis": "y"
        },
        {
         "hovertemplate": "port_name=Unalaska Island, AK<br>month=%{x}<br>time_at_anchor_avg=%{y}<extra></extra>",
         "legendgroup": "Unalaska Island, AK",
         "line": {
          "color": "#00cc96",
          "dash": "solid"
         },
         "marker": {
          "symbol": "circle"
         },
         "mode": "lines",
         "name": "Unalaska Island, AK",
         "showlegend": true,
         "type": "scattergl",
         "x": [
          "2018-01-01T00:00:00",
          "2018-02-01T00:00:00",
          "2018-03-01T00:00:00",
          "2018-04-01T00:00:00",
          "2018-05-01T00:00:00",
          "2018-06-01T00:00:00",
          "2018-07-01T00:00:00",
          "2018-08-01T00:00:00",
          "2018-09-01T00:00:00",
          "2018-10-01T00:00:00",
          "2018-11-01T00:00:00",
          "2018-12-01T00:00:00",
          "2019-01-01T00:00:00",
          "2019-02-01T00:00:00",
          "2019-03-01T00:00:00",
          "2019-04-01T00:00:00",
          "2019-05-01T00:00:00",
          "2019-06-01T00:00:00",
          "2019-07-01T00:00:00",
          "2019-08-01T00:00:00",
          "2019-09-01T00:00:00",
          "2019-10-01T00:00:00",
          "2019-11-01T00:00:00",
          "2019-12-01T00:00:00"
         ],
         "xaxis": "x",
         "y": [
          234.9,
          142.75,
          90.89166666666667,
          263.31666666666666,
          334.81666666666666,
          316.31666666666666,
          121.74166666666666,
          97.125,
          464.81666666666666,
          617.85,
          69.26666666666667,
          466.65,
          231.63333333333333,
          54.96666666666667,
          109.66666666666667,
          336.06666666666666,
          371.23333333333335,
          161.89166666666665,
          161.83333333333334,
          95.65,
          87.86666666666666,
          48.05,
          371.9583333333333,
          null
         ],
         "yaxis": "y"
        },
        {
         "hovertemplate": "port_name=Port of Los Angeles, CA<br>month=%{x}<br>time_at_anchor_avg=%{y}<extra></extra>",
         "legendgroup": "Port of Los Angeles, CA",
         "line": {
          "color": "#ab63fa",
          "dash": "solid"
         },
         "marker": {
          "symbol": "circle"
         },
         "mode": "lines",
         "name": "Port of Los Angeles, CA",
         "showlegend": true,
         "type": "scattergl",
         "x": [
          "2018-01-01T00:00:00",
          "2018-02-01T00:00:00",
          "2018-03-01T00:00:00",
          "2018-04-01T00:00:00",
          "2018-05-01T00:00:00",
          "2018-06-01T00:00:00",
          "2018-07-01T00:00:00",
          "2018-08-01T00:00:00",
          "2018-09-01T00:00:00",
          "2018-10-01T00:00:00",
          "2018-11-01T00:00:00",
          "2018-12-01T00:00:00",
          "2019-01-01T00:00:00",
          "2019-02-01T00:00:00",
          "2019-03-01T00:00:00",
          "2019-04-01T00:00:00",
          "2019-05-01T00:00:00",
          "2019-06-01T00:00:00",
          "2019-07-01T00:00:00",
          "2019-08-01T00:00:00",
          "2019-09-01T00:00:00",
          "2019-10-01T00:00:00",
          "2019-11-01T00:00:00",
          "2019-12-01T00:00:00"
         ],
         "xaxis": "x",
         "y": [
          17.65,
          27.633333333333333,
          32.5,
          28.766666666666666,
          15.75,
          17.233333333333334,
          26.733333333333334,
          13.858333333333333,
          26.825,
          15.583333333333334,
          18.241666666666667,
          23.55,
          26.516666666666666,
          21.916666666666668,
          12.366666666666667,
          29.3,
          25.6,
          22.75,
          19.3,
          18.441666666666666,
          17.491666666666667,
          25.7,
          30.466666666666665,
          17.558333333333334
         ],
         "yaxis": "y"
        },
        {
         "hovertemplate": "port_name=Rogers City, MI<br>month=%{x}<br>time_at_anchor_avg=%{y}<extra></extra>",
         "legendgroup": "Rogers City, MI",
         "line": {
          "color": "#FFA15A",
          "dash": "solid"
         },
         "marker": {
          "symbol": "circle"
         },
         "mode": "lines",
         "name": "Rogers City, MI",
         "showlegend": true,
         "type": "scattergl",
         "x": [
          "2018-01-01T00:00:00",
          "2018-04-01T00:00:00",
          "2018-05-01T00:00:00",
          "2018-06-01T00:00:00",
          "2018-07-01T00:00:00",
          "2018-08-01T00:00:00",
          "2018-09-01T00:00:00",
          "2018-10-01T00:00:00",
          "2018-11-01T00:00:00",
          "2018-12-01T00:00:00",
          "2019-04-01T00:00:00",
          "2019-05-01T00:00:00",
          "2019-06-01T00:00:00",
          "2019-07-01T00:00:00",
          "2019-08-01T00:00:00",
          "2019-09-01T00:00:00",
          "2019-10-01T00:00:00",
          "2019-11-01T00:00:00",
          "2019-12-01T00:00:00"
         ],
         "xaxis": "x",
         "y": [
          null,
          3.7333333333333334,
          6.875,
          6.266666666666667,
          2.35,
          4.05,
          null,
          19.558333333333334,
          16.15833333333333,
          15.033333333333333,
          null,
          8.816666666666666,
          null,
          4.766666666666667,
          5.466666666666667,
          0.9666666666666667,
          21,
          14.1,
          4.25
         ],
         "yaxis": "y"
        },
        {
         "hovertemplate": "port_name=New York, NY & NJ<br>month=%{x}<br>time_at_anchor_avg=%{y}<extra></extra>",
         "legendgroup": "New York, NY & NJ",
         "line": {
          "color": "#19d3f3",
          "dash": "solid"
         },
         "marker": {
          "symbol": "circle"
         },
         "mode": "lines",
         "name": "New York, NY & NJ",
         "showlegend": true,
         "type": "scattergl",
         "x": [
          "2018-01-01T00:00:00",
          "2018-02-01T00:00:00",
          "2018-03-01T00:00:00",
          "2018-04-01T00:00:00",
          "2018-05-01T00:00:00",
          "2018-06-01T00:00:00",
          "2018-07-01T00:00:00",
          "2018-08-01T00:00:00",
          "2018-09-01T00:00:00",
          "2018-10-01T00:00:00",
          "2018-11-01T00:00:00",
          "2018-12-01T00:00:00",
          "2019-01-01T00:00:00",
          "2019-02-01T00:00:00",
          "2019-03-01T00:00:00",
          "2019-04-01T00:00:00",
          "2019-05-01T00:00:00",
          "2019-06-01T00:00:00",
          "2019-07-01T00:00:00",
          "2019-08-01T00:00:00",
          "2019-09-01T00:00:00",
          "2019-10-01T00:00:00",
          "2019-11-01T00:00:00",
          "2019-12-01T00:00:00"
         ],
         "xaxis": "x",
         "y": [
          20.433333333333334,
          12.325,
          19.583333333333332,
          16.725,
          12.683333333333334,
          13.299999999999999,
          18.883333333333333,
          18.2,
          23.216666666666665,
          16.716666666666665,
          13.783333333333333,
          18.766666666666666,
          19.733333333333334,
          16,
          18.8,
          17.35,
          19,
          15.65,
          16.4,
          8.116666666666667,
          1.1833333333333333,
          0.25,
          12.666666666666666,
          15.483333333333333
         ],
         "yaxis": "y"
        },
        {
         "hovertemplate": "port_name=Virginia, VA, Port of<br>month=%{x}<br>time_at_anchor_avg=%{y}<extra></extra>",
         "legendgroup": "Virginia, VA, Port of",
         "line": {
          "color": "#FF6692",
          "dash": "solid"
         },
         "marker": {
          "symbol": "circle"
         },
         "mode": "lines",
         "name": "Virginia, VA, Port of",
         "showlegend": true,
         "type": "scattergl",
         "x": [
          "2018-01-01T00:00:00",
          "2018-02-01T00:00:00",
          "2018-03-01T00:00:00",
          "2018-04-01T00:00:00",
          "2018-05-01T00:00:00",
          "2018-06-01T00:00:00",
          "2018-07-01T00:00:00",
          "2018-08-01T00:00:00",
          "2018-09-01T00:00:00",
          "2018-10-01T00:00:00",
          "2018-11-01T00:00:00",
          "2018-12-01T00:00:00",
          "2019-01-01T00:00:00",
          "2019-02-01T00:00:00",
          "2019-03-01T00:00:00",
          "2019-04-01T00:00:00",
          "2019-05-01T00:00:00",
          "2019-06-01T00:00:00",
          "2019-07-01T00:00:00",
          "2019-08-01T00:00:00",
          "2019-09-01T00:00:00",
          "2019-10-01T00:00:00",
          "2019-11-01T00:00:00",
          "2019-12-01T00:00:00"
         ],
         "xaxis": "x",
         "y": [
          43.03333333333333,
          52.11666666666667,
          53.958333333333336,
          38.516666666666666,
          35.28333333333333,
          69.8,
          46.983333333333334,
          34.96666666666667,
          40.2,
          34.016666666666666,
          38.516666666666666,
          44.86666666666667,
          39.75833333333333,
          34.266666666666666,
          28.599999999999998,
          26.616666666666667,
          25.266666666666666,
          21.466666666666665,
          17.28333333333333,
          19.575,
          0.8416666666666667,
          0.4166666666666667,
          8.95,
          23.9
         ],
         "yaxis": "y"
        },
        {
         "hovertemplate": "port_name=Silver Bay, MN<br>month=%{x}<br>time_at_anchor_avg=%{y}<extra></extra>",
         "legendgroup": "Silver Bay, MN",
         "line": {
          "color": "#B6E880",
          "dash": "solid"
         },
         "marker": {
          "symbol": "circle"
         },
         "mode": "lines",
         "name": "Silver Bay, MN",
         "showlegend": true,
         "type": "scattergl",
         "x": [
          "2018-01-01T00:00:00",
          "2018-02-01T00:00:00",
          "2018-03-01T00:00:00",
          "2018-04-01T00:00:00",
          "2018-05-01T00:00:00",
          "2018-06-01T00:00:00",
          "2018-07-01T00:00:00",
          "2018-08-01T00:00:00",
          "2018-09-01T00:00:00",
          "2018-10-01T00:00:00",
          "2018-11-01T00:00:00",
          "2018-12-01T00:00:00",
          "2019-01-01T00:00:00",
          "2019-03-01T00:00:00",
          "2019-04-01T00:00:00",
          "2019-05-01T00:00:00",
          "2019-06-01T00:00:00",
          "2019-07-01T00:00:00",
          "2019-08-01T00:00:00",
          "2019-09-01T00:00:00",
          "2019-10-01T00:00:00",
          "2019-11-01T00:00:00",
          "2019-12-01T00:00:00"
         ],
         "xaxis": "x",
         "y": [
          24.75,
          null,
          null,
          17.183333333333334,
          17.516666666666666,
          42.416666666666664,
          12.75,
          8,
          18.53333333333333,
          21.05,
          11.058333333333334,
          11.816666666666666,
          null,
          8.15,
          6.6499999999999995,
          4.933333333333334,
          26.75,
          25.266666666666666,
          7.716666666666667,
          20.333333333333332,
          20.716666666666665,
          17.733333333333334,
          22.15
         ],
         "yaxis": "y"
        },
        {
         "hovertemplate": "port_name=Mobile, AL<br>month=%{x}<br>time_at_anchor_avg=%{y}<extra></extra>",
         "legendgroup": "Mobile, AL",
         "line": {
          "color": "#FF97FF",
          "dash": "solid"
         },
         "marker": {
          "symbol": "circle"
         },
         "mode": "lines",
         "name": "Mobile, AL",
         "showlegend": true,
         "type": "scattergl",
         "x": [
          "2018-01-01T00:00:00",
          "2018-02-01T00:00:00",
          "2018-03-01T00:00:00",
          "2018-04-01T00:00:00",
          "2018-05-01T00:00:00",
          "2018-06-01T00:00:00",
          "2018-07-01T00:00:00",
          "2018-08-01T00:00:00",
          "2018-09-01T00:00:00",
          "2018-10-01T00:00:00",
          "2018-11-01T00:00:00",
          "2018-12-01T00:00:00",
          "2019-01-01T00:00:00",
          "2019-02-01T00:00:00",
          "2019-03-01T00:00:00",
          "2019-04-01T00:00:00",
          "2019-05-01T00:00:00",
          "2019-06-01T00:00:00",
          "2019-07-01T00:00:00",
          "2019-08-01T00:00:00",
          "2019-09-01T00:00:00",
          "2019-10-01T00:00:00",
          "2019-11-01T00:00:00",
          "2019-12-01T00:00:00"
         ],
         "xaxis": "x",
         "y": [
          30.224999999999998,
          20.216666666666665,
          28.741666666666667,
          21.03333333333333,
          22.575,
          28.491666666666667,
          20.28333333333333,
          38,
          33.8,
          18.866666666666667,
          19.766666666666666,
          20.95,
          20.858333333333334,
          37.13333333333333,
          23.491666666666667,
          24.766666666666666,
          23.825,
          28.599999999999998,
          33.15,
          12.166666666666666,
          0.8833333333333333,
          22.483333333333334,
          17.383333333333333,
          18.116666666666667
         ],
         "yaxis": "y"
        },
        {
         "hovertemplate": "port_name=Grays Harbor Port District, WA<br>month=%{x}<br>time_at_anchor_avg=%{y}<extra></extra>",
         "legendgroup": "Grays Harbor Port District, WA",
         "line": {
          "color": "#FECB52",
          "dash": "solid"
         },
         "marker": {
          "symbol": "circle"
         },
         "mode": "lines",
         "name": "Grays Harbor Port District, WA",
         "showlegend": true,
         "type": "scattergl",
         "x": [
          "2018-01-01T00:00:00",
          "2018-02-01T00:00:00",
          "2018-03-01T00:00:00",
          "2018-04-01T00:00:00",
          "2018-05-01T00:00:00",
          "2018-06-01T00:00:00",
          "2018-07-01T00:00:00",
          "2018-08-01T00:00:00",
          "2018-09-01T00:00:00",
          "2018-10-01T00:00:00",
          "2018-11-01T00:00:00",
          "2018-12-01T00:00:00",
          "2019-01-01T00:00:00",
          "2019-02-01T00:00:00",
          "2019-03-01T00:00:00",
          "2019-04-01T00:00:00",
          "2019-05-01T00:00:00",
          "2019-06-01T00:00:00",
          "2019-07-01T00:00:00",
          "2019-08-01T00:00:00",
          "2019-09-01T00:00:00",
          "2019-10-01T00:00:00",
          "2019-11-01T00:00:00",
          "2019-12-01T00:00:00"
         ],
         "xaxis": "x",
         "y": [
          153.88333333333333,
          69.3,
          null,
          9.75,
          62.858333333333334,
          71.43333333333334,
          48.61666666666667,
          144.875,
          52.583333333333336,
          99.275,
          30.05,
          70.71666666666667,
          31.466666666666665,
          null,
          119.93333333333334,
          76.48333333333333,
          157.85,
          55.233333333333334,
          15.033333333333333,
          11.466666666666667,
          63.43333333333333,
          33.53333333333333,
          29.508333333333333,
          88.91666666666667
         ],
         "yaxis": "y"
        },
        {
         "hovertemplate": "port_name=Richmond, CA<br>month=%{x}<br>time_at_anchor_avg=%{y}<extra></extra>",
         "legendgroup": "Richmond, CA",
         "line": {
          "color": "#636efa",
          "dash": "solid"
         },
         "marker": {
          "symbol": "circle"
         },
         "mode": "lines",
         "name": "Richmond, CA",
         "showlegend": true,
         "type": "scattergl",
         "x": [
          "2018-01-01T00:00:00",
          "2018-02-01T00:00:00",
          "2018-03-01T00:00:00",
          "2018-04-01T00:00:00",
          "2018-05-01T00:00:00",
          "2018-06-01T00:00:00",
          "2018-07-01T00:00:00",
          "2018-08-01T00:00:00",
          "2018-09-01T00:00:00",
          "2018-10-01T00:00:00",
          "2018-11-01T00:00:00",
          "2018-12-01T00:00:00",
          "2019-01-01T00:00:00",
          "2019-02-01T00:00:00",
          "2019-03-01T00:00:00",
          "2019-04-01T00:00:00",
          "2019-05-01T00:00:00",
          "2019-06-01T00:00:00",
          "2019-07-01T00:00:00",
          "2019-08-01T00:00:00",
          "2019-09-01T00:00:00",
          "2019-10-01T00:00:00",
          "2019-11-01T00:00:00",
          "2019-12-01T00:00:00"
         ],
         "xaxis": "x",
         "y": [
          20.116666666666667,
          23.716666666666665,
          41.266666666666666,
          32.766666666666666,
          25.483333333333334,
          32.775,
          30.666666666666668,
          21.65833333333333,
          22.8,
          19.975,
          19.191666666666666,
          24.233333333333334,
          18.65,
          30.875,
          22.45,
          28.233333333333334,
          32.55,
          33.016666666666666,
          20.53333333333333,
          25.883333333333333,
          34.8,
          28.15,
          24.083333333333332,
          17.766666666666666
         ],
         "yaxis": "y"
        },
        {
         "hovertemplate": "port_name=Plaquemines Port District, LA<br>month=%{x}<br>time_at_anchor_avg=%{y}<extra></extra>",
         "legendgroup": "Plaquemines Port District, LA",
         "line": {
          "color": "#EF553B",
          "dash": "solid"
         },
         "marker": {
          "symbol": "circle"
         },
         "mode": "lines",
         "name": "Plaquemines Port District, LA",
         "showlegend": true,
         "type": "scattergl",
         "x": [
          "2018-01-01T00:00:00",
          "2018-02-01T00:00:00",
          "2018-03-01T00:00:00",
          "2018-04-01T00:00:00",
          "2018-05-01T00:00:00",
          "2018-06-01T00:00:00",
          "2018-07-01T00:00:00",
          "2018-08-01T00:00:00",
          "2018-09-01T00:00:00",
          "2018-10-01T00:00:00",
          "2018-11-01T00:00:00",
          "2018-12-01T00:00:00",
          "2019-01-01T00:00:00",
          "2019-02-01T00:00:00",
          "2019-03-01T00:00:00",
          "2019-04-01T00:00:00",
          "2019-05-01T00:00:00",
          "2019-06-01T00:00:00",
          "2019-07-01T00:00:00",
          "2019-08-01T00:00:00",
          "2019-09-01T00:00:00",
          "2019-10-01T00:00:00",
          "2019-11-01T00:00:00",
          "2019-12-01T00:00:00"
         ],
         "xaxis": "x",
         "y": [
          30.466666666666665,
          31.583333333333332,
          40.15,
          39.8,
          18.4,
          20.141666666666666,
          28.474999999999998,
          86.46666666666667,
          35.333333333333336,
          41.46666666666667,
          30.866666666666667,
          23.566666666666666,
          35.85,
          71.85833333333333,
          41.4,
          62.93333333333333,
          57.28333333333333,
          18.266666666666666,
          45.266666666666666,
          24.766666666666666,
          7.483333333333333,
          52.199999999999996,
          24.3,
          23.45
         ],
         "yaxis": "y"
        },
        {
         "hovertemplate": "port_name=Port of Kalama, WA<br>month=%{x}<br>time_at_anchor_avg=%{y}<extra></extra>",
         "legendgroup": "Port of Kalama, WA",
         "line": {
          "color": "#00cc96",
          "dash": "solid"
         },
         "marker": {
          "symbol": "circle"
         },
         "mode": "lines",
         "name": "Port of Kalama, WA",
         "showlegend": true,
         "type": "scattergl",
         "x": [
          "2018-01-01T00:00:00",
          "2018-02-01T00:00:00",
          "2018-03-01T00:00:00",
          "2018-04-01T00:00:00",
          "2018-05-01T00:00:00",
          "2018-06-01T00:00:00",
          "2018-07-01T00:00:00",
          "2018-08-01T00:00:00",
          "2018-09-01T00:00:00",
          "2018-10-01T00:00:00",
          "2018-11-01T00:00:00",
          "2018-12-01T00:00:00",
          "2019-01-01T00:00:00",
          "2019-02-01T00:00:00",
          "2019-03-01T00:00:00",
          "2019-04-01T00:00:00",
          "2019-05-01T00:00:00",
          "2019-06-01T00:00:00",
          "2019-07-01T00:00:00",
          "2019-08-01T00:00:00",
          "2019-09-01T00:00:00",
          "2019-10-01T00:00:00",
          "2019-11-01T00:00:00",
          "2019-12-01T00:00:00"
         ],
         "xaxis": "x",
         "y": [
          61.46666666666667,
          134.4,
          142.01666666666665,
          89.08333333333333,
          254.125,
          88.85,
          38.75,
          37.233333333333334,
          35.9,
          49.791666666666664,
          96.75,
          46.44166666666666,
          34.68333333333333,
          141.9,
          287.98333333333335,
          81.56666666666666,
          54.1,
          98.70833333333333,
          151.05,
          94.98333333333333,
          79.925,
          83.31666666666666,
          84.675,
          58.05
         ],
         "yaxis": "y"
        },
        {
         "hovertemplate": "port_name=Sacramento-Yolo Port, CA<br>month=%{x}<br>time_at_anchor_avg=%{y}<extra></extra>",
         "legendgroup": "Sacramento-Yolo Port, CA",
         "line": {
          "color": "#ab63fa",
          "dash": "solid"
         },
         "marker": {
          "symbol": "circle"
         },
         "mode": "lines",
         "name": "Sacramento-Yolo Port, CA",
         "showlegend": true,
         "type": "scattergl",
         "x": [
          "2018-01-01T00:00:00",
          "2018-02-01T00:00:00",
          "2018-03-01T00:00:00",
          "2018-04-01T00:00:00",
          "2018-05-01T00:00:00",
          "2018-06-01T00:00:00",
          "2018-07-01T00:00:00",
          "2018-08-01T00:00:00",
          "2018-09-01T00:00:00",
          "2018-10-01T00:00:00",
          "2018-11-01T00:00:00",
          "2018-12-01T00:00:00",
          "2019-01-01T00:00:00",
          "2019-02-01T00:00:00",
          "2019-03-01T00:00:00",
          "2019-04-01T00:00:00",
          "2019-05-01T00:00:00",
          "2019-06-01T00:00:00",
          "2019-07-01T00:00:00",
          "2019-08-01T00:00:00",
          "2019-09-01T00:00:00",
          "2019-10-01T00:00:00",
          "2019-11-01T00:00:00",
          "2019-12-01T00:00:00"
         ],
         "xaxis": "x",
         "y": [
          12.65,
          null,
          34.375,
          43.93333333333333,
          11.083333333333334,
          null,
          38.61666666666667,
          17.508333333333333,
          10.408333333333333,
          null,
          76.78333333333333,
          null,
          148.53333333333333,
          7,
          11.5,
          null,
          24.233333333333334,
          10.316666666666666,
          18.5,
          null,
          25.666666666666668,
          18.2,
          51.833333333333336,
          3.9
         ],
         "yaxis": "y"
        },
        {
         "hovertemplate": "port_name=Port of Palm Beach District, FL<br>month=%{x}<br>time_at_anchor_avg=%{y}<extra></extra>",
         "legendgroup": "Port of Palm Beach District, FL",
         "line": {
          "color": "#FFA15A",
          "dash": "solid"
         },
         "marker": {
          "symbol": "circle"
         },
         "mode": "lines",
         "name": "Port of Palm Beach District, FL",
         "showlegend": true,
         "type": "scattergl",
         "x": [
          "2018-01-01T00:00:00",
          "2018-02-01T00:00:00",
          "2018-03-01T00:00:00",
          "2018-04-01T00:00:00",
          "2018-05-01T00:00:00",
          "2018-06-01T00:00:00",
          "2018-07-01T00:00:00",
          "2018-08-01T00:00:00",
          "2018-09-01T00:00:00",
          "2018-10-01T00:00:00",
          "2018-11-01T00:00:00",
          "2018-12-01T00:00:00",
          "2019-01-01T00:00:00",
          "2019-02-01T00:00:00",
          "2019-03-01T00:00:00",
          "2019-04-01T00:00:00",
          "2019-05-01T00:00:00",
          "2019-06-01T00:00:00",
          "2019-07-01T00:00:00",
          "2019-08-01T00:00:00",
          "2019-09-01T00:00:00",
          "2019-10-01T00:00:00",
          "2019-11-01T00:00:00",
          "2019-12-01T00:00:00"
         ],
         "xaxis": "x",
         "y": [
          6.016666666666667,
          18.716666666666665,
          23.691666666666666,
          34.28333333333333,
          30.7,
          25.133333333333333,
          24.308333333333334,
          31.141666666666666,
          16.05,
          79.75,
          81.6,
          20.433333333333334,
          10.583333333333334,
          10.066666666666666,
          21.7,
          15.916666666666666,
          1.05,
          6.008333333333333,
          15.816666666666666,
          9.591666666666667,
          21.583333333333332,
          12.1,
          53.53333333333333,
          14.783333333333333
         ],
         "yaxis": "y"
        },
        {
         "hovertemplate": "port_name=San Francisco Port, CA<br>month=%{x}<br>time_at_anchor_avg=%{y}<extra></extra>",
         "legendgroup": "San Francisco Port, CA",
         "line": {
          "color": "#19d3f3",
          "dash": "solid"
         },
         "marker": {
          "symbol": "circle"
         },
         "mode": "lines",
         "name": "San Francisco Port, CA",
         "showlegend": true,
         "type": "scattergl",
         "x": [
          "2018-01-01T00:00:00",
          "2018-02-01T00:00:00",
          "2018-03-01T00:00:00",
          "2018-04-01T00:00:00",
          "2018-05-01T00:00:00",
          "2018-06-01T00:00:00",
          "2018-07-01T00:00:00",
          "2018-08-01T00:00:00",
          "2018-09-01T00:00:00",
          "2018-10-01T00:00:00",
          "2018-11-01T00:00:00",
          "2018-12-01T00:00:00",
          "2019-01-01T00:00:00",
          "2019-02-01T00:00:00",
          "2019-03-01T00:00:00",
          "2019-04-01T00:00:00",
          "2019-05-01T00:00:00",
          "2019-06-01T00:00:00",
          "2019-07-01T00:00:00",
          "2019-08-01T00:00:00",
          "2019-09-01T00:00:00",
          "2019-10-01T00:00:00",
          "2019-11-01T00:00:00",
          "2019-12-01T00:00:00"
         ],
         "xaxis": "x",
         "y": [
          14.383333333333333,
          null,
          null,
          0.08333333333333333,
          19.483333333333334,
          49.25833333333333,
          20.8,
          8302.733333333334,
          15.166666666666666,
          17.183333333333334,
          12.116666666666667,
          null,
          9.8,
          113.375,
          45.55,
          1.5,
          null,
          15.191666666666666,
          13.283333333333333,
          3.5666666666666664,
          5.625,
          38.766666666666666,
          20.708333333333332,
          8.65
         ],
         "yaxis": "y"
        },
        {
         "hovertemplate": "port_name=Port of Brunswick, GA<br>month=%{x}<br>time_at_anchor_avg=%{y}<extra></extra>",
         "legendgroup": "Port of Brunswick, GA",
         "line": {
          "color": "#FF6692",
          "dash": "solid"
         },
         "marker": {
          "symbol": "circle"
         },
         "mode": "lines",
         "name": "Port of Brunswick, GA",
         "showlegend": true,
         "type": "scattergl",
         "x": [
          "2018-01-01T00:00:00",
          "2018-02-01T00:00:00",
          "2018-03-01T00:00:00",
          "2018-04-01T00:00:00",
          "2018-05-01T00:00:00",
          "2018-06-01T00:00:00",
          "2018-07-01T00:00:00",
          "2018-08-01T00:00:00",
          "2018-09-01T00:00:00",
          "2018-10-01T00:00:00",
          "2018-11-01T00:00:00",
          "2018-12-01T00:00:00",
          "2019-01-01T00:00:00",
          "2019-02-01T00:00:00",
          "2019-03-01T00:00:00",
          "2019-04-01T00:00:00",
          "2019-05-01T00:00:00",
          "2019-06-01T00:00:00",
          "2019-07-01T00:00:00",
          "2019-08-01T00:00:00",
          "2019-09-01T00:00:00",
          "2019-10-01T00:00:00",
          "2019-11-01T00:00:00",
          "2019-12-01T00:00:00"
         ],
         "xaxis": "x",
         "y": [
          6.558333333333334,
          null,
          74.93333333333334,
          19.9,
          3,
          19.28333333333333,
          18.366666666666667,
          13.666666666666666,
          7.233333333333333,
          20.733333333333334,
          23.65,
          13.566666666666666,
          7.958333333333333,
          17.733333333333334,
          25.683333333333334,
          24.216666666666665,
          9.933333333333334,
          52.46666666666667,
          46.958333333333336,
          36.925,
          15,
          40.225,
          23.391666666666666,
          16.675
         ],
         "yaxis": "y"
        },
        {
         "hovertemplate": "port_name=Milwaukee, WI<br>month=%{x}<br>time_at_anchor_avg=%{y}<extra></extra>",
         "legendgroup": "Milwaukee, WI",
         "line": {
          "color": "#B6E880",
          "dash": "solid"
         },
         "marker": {
          "symbol": "circle"
         },
         "mode": "lines",
         "name": "Milwaukee, WI",
         "showlegend": true,
         "type": "scattergl",
         "x": [
          "2018-01-01T00:00:00",
          "2018-02-01T00:00:00",
          "2018-03-01T00:00:00",
          "2018-04-01T00:00:00",
          "2018-05-01T00:00:00",
          "2018-06-01T00:00:00",
          "2018-07-01T00:00:00",
          "2018-08-01T00:00:00",
          "2018-09-01T00:00:00",
          "2018-10-01T00:00:00",
          "2018-11-01T00:00:00",
          "2018-12-01T00:00:00",
          "2019-01-01T00:00:00",
          "2019-03-01T00:00:00",
          "2019-04-01T00:00:00",
          "2019-05-01T00:00:00",
          "2019-06-01T00:00:00",
          "2019-07-01T00:00:00",
          "2019-08-01T00:00:00",
          "2019-09-01T00:00:00",
          "2019-10-01T00:00:00",
          "2019-11-01T00:00:00",
          "2019-12-01T00:00:00"
         ],
         "xaxis": "x",
         "y": [
          null,
          null,
          41,
          null,
          4.383333333333333,
          4.916666666666667,
          null,
          1.8166666666666667,
          null,
          13.983333333333333,
          6.508333333333333,
          17.7,
          68.1,
          null,
          null,
          24.1,
          null,
          4.608333333333333,
          null,
          null,
          null,
          6.6,
          23.766666666666666
         ],
         "yaxis": "y"
        },
        {
         "hovertemplate": "port_name=Port Freeport, TX<br>month=%{x}<br>time_at_anchor_avg=%{y}<extra></extra>",
         "legendgroup": "Port Freeport, TX",
         "line": {
          "color": "#FF97FF",
          "dash": "solid"
         },
         "marker": {
          "symbol": "circle"
         },
         "mode": "lines",
         "name": "Port Freeport, TX",
         "showlegend": true,
         "type": "scattergl",
         "x": [
          "2018-01-01T00:00:00",
          "2018-02-01T00:00:00",
          "2018-03-01T00:00:00",
          "2018-04-01T00:00:00",
          "2018-05-01T00:00:00",
          "2018-06-01T00:00:00",
          "2018-07-01T00:00:00",
          "2018-08-01T00:00:00",
          "2018-09-01T00:00:00",
          "2018-10-01T00:00:00",
          "2018-11-01T00:00:00",
          "2018-12-01T00:00:00",
          "2019-01-01T00:00:00",
          "2019-02-01T00:00:00",
          "2019-03-01T00:00:00",
          "2019-04-01T00:00:00",
          "2019-05-01T00:00:00",
          "2019-06-01T00:00:00",
          "2019-07-01T00:00:00",
          "2019-08-01T00:00:00",
          "2019-09-01T00:00:00",
          "2019-10-01T00:00:00",
          "2019-11-01T00:00:00",
          "2019-12-01T00:00:00"
         ],
         "xaxis": "x",
         "y": [
          26.40833333333333,
          17.491666666666667,
          24.3,
          21.833333333333332,
          26.358333333333334,
          29.666666666666668,
          16.441666666666666,
          25.8,
          16.616666666666667,
          27.216666666666665,
          17.75,
          12.566666666666666,
          21.3,
          36.3,
          21.216666666666665,
          18.616666666666667,
          3.966666666666667,
          27.466666666666665,
          24.133333333333333,
          26.05,
          14.674999999999999,
          10.733333333333333,
          25.116666666666667,
          31.733333333333334
         ],
         "yaxis": "y"
        },
        {
         "hovertemplate": "port_name=Wilmington, DE<br>month=%{x}<br>time_at_anchor_avg=%{y}<extra></extra>",
         "legendgroup": "Wilmington, DE",
         "line": {
          "color": "#FECB52",
          "dash": "solid"
         },
         "marker": {
          "symbol": "circle"
         },
         "mode": "lines",
         "name": "Wilmington, DE",
         "showlegend": true,
         "type": "scattergl",
         "x": [
          "2018-01-01T00:00:00",
          "2018-02-01T00:00:00",
          "2018-03-01T00:00:00",
          "2018-04-01T00:00:00",
          "2018-05-01T00:00:00",
          "2018-06-01T00:00:00",
          "2018-07-01T00:00:00",
          "2018-08-01T00:00:00",
          "2018-09-01T00:00:00",
          "2018-10-01T00:00:00",
          "2018-11-01T00:00:00",
          "2018-12-01T00:00:00",
          "2019-01-01T00:00:00",
          "2019-02-01T00:00:00",
          "2019-03-01T00:00:00",
          "2019-04-01T00:00:00",
          "2019-05-01T00:00:00",
          "2019-06-01T00:00:00",
          "2019-07-01T00:00:00",
          "2019-08-01T00:00:00",
          "2019-09-01T00:00:00",
          "2019-10-01T00:00:00",
          "2019-11-01T00:00:00",
          "2019-12-01T00:00:00"
         ],
         "xaxis": "x",
         "y": [
          9.383333333333333,
          23.116666666666667,
          32.34166666666667,
          19.85,
          29.78333333333333,
          24.53333333333333,
          22.066666666666666,
          20.441666666666666,
          24.625,
          28.966666666666665,
          14.858333333333333,
          22.433333333333334,
          39.63333333333333,
          23.216666666666665,
          34.725,
          28.316666666666666,
          19.733333333333334,
          29.03333333333333,
          21.466666666666665,
          28.141666666666666,
          0.15833333333333333,
          0.06666666666666667,
          0.15,
          20.416666666666668
         ],
         "yaxis": "y"
        },
        {
         "hovertemplate": "port_name=Conneaut, OH<br>month=%{x}<br>time_at_anchor_avg=%{y}<extra></extra>",
         "legendgroup": "Conneaut, OH",
         "line": {
          "color": "#636efa",
          "dash": "solid"
         },
         "marker": {
          "symbol": "circle"
         },
         "mode": "lines",
         "name": "Conneaut, OH",
         "showlegend": true,
         "type": "scattergl",
         "x": [
          "2018-01-01T00:00:00",
          "2018-02-01T00:00:00",
          "2018-03-01T00:00:00",
          "2018-04-01T00:00:00",
          "2018-05-01T00:00:00",
          "2018-06-01T00:00:00",
          "2018-07-01T00:00:00",
          "2018-08-01T00:00:00",
          "2018-09-01T00:00:00",
          "2018-10-01T00:00:00",
          "2018-11-01T00:00:00",
          "2018-12-01T00:00:00",
          "2019-01-01T00:00:00",
          "2019-02-01T00:00:00",
          "2019-03-01T00:00:00",
          "2019-04-01T00:00:00",
          "2019-05-01T00:00:00",
          "2019-06-01T00:00:00",
          "2019-07-01T00:00:00",
          "2019-08-01T00:00:00",
          "2019-09-01T00:00:00",
          "2019-10-01T00:00:00",
          "2019-11-01T00:00:00",
          "2019-12-01T00:00:00"
         ],
         "xaxis": "x",
         "y": [
          15.833333333333334,
          32.31666666666666,
          24.883333333333333,
          16.666666666666668,
          12.708333333333334,
          18.816666666666666,
          9.2,
          18.266666666666666,
          14.049999999999999,
          17.966666666666665,
          20.916666666666668,
          15.65,
          23.716666666666665,
          39.36666666666667,
          32.45,
          13.191666666666666,
          10.7,
          10.608333333333333,
          5.9,
          7.2,
          14.408333333333333,
          12.433333333333334,
          16.2,
          17.3
         ],
         "yaxis": "y"
        },
        {
         "hovertemplate": "port_name=Brownsville, TX<br>month=%{x}<br>time_at_anchor_avg=%{y}<extra></extra>",
         "legendgroup": "Brownsville, TX",
         "line": {
          "color": "#EF553B",
          "dash": "solid"
         },
         "marker": {
          "symbol": "circle"
         },
         "mode": "lines",
         "name": "Brownsville, TX",
         "showlegend": true,
         "type": "scattergl",
         "x": [
          "2018-01-01T00:00:00",
          "2018-02-01T00:00:00",
          "2018-03-01T00:00:00",
          "2018-04-01T00:00:00",
          "2018-05-01T00:00:00",
          "2018-06-01T00:00:00",
          "2018-07-01T00:00:00",
          "2018-08-01T00:00:00",
          "2018-09-01T00:00:00",
          "2018-10-01T00:00:00",
          "2018-11-01T00:00:00",
          "2018-12-01T00:00:00",
          "2019-01-01T00:00:00",
          "2019-02-01T00:00:00",
          "2019-03-01T00:00:00",
          "2019-04-01T00:00:00",
          "2019-05-01T00:00:00",
          "2019-06-01T00:00:00",
          "2019-07-01T00:00:00",
          "2019-08-01T00:00:00",
          "2019-09-01T00:00:00",
          "2019-10-01T00:00:00",
          "2019-11-01T00:00:00",
          "2019-12-01T00:00:00"
         ],
         "xaxis": "x",
         "y": [
          24.225,
          28.366666666666667,
          28.525,
          74.98333333333333,
          45.71666666666667,
          30.733333333333334,
          24.583333333333332,
          35.675,
          48.6,
          13,
          24.316666666666666,
          30.625,
          22.266666666666666,
          26.15,
          40.8,
          39.50833333333333,
          23.95,
          46.7,
          46.583333333333336,
          27.083333333333332,
          10.233333333333333,
          21.3,
          19.8,
          22.25
         ],
         "yaxis": "y"
        },
        {
         "hovertemplate": "port_name=Green Bay, WI<br>month=%{x}<br>time_at_anchor_avg=%{y}<extra></extra>",
         "legendgroup": "Green Bay, WI",
         "line": {
          "color": "#00cc96",
          "dash": "solid"
         },
         "marker": {
          "symbol": "circle"
         },
         "mode": "lines",
         "name": "Green Bay, WI",
         "showlegend": true,
         "type": "scattergl",
         "x": [
          "2018-01-01T00:00:00",
          "2018-03-01T00:00:00",
          "2018-05-01T00:00:00",
          "2018-06-01T00:00:00",
          "2018-07-01T00:00:00",
          "2018-08-01T00:00:00",
          "2018-09-01T00:00:00",
          "2018-10-01T00:00:00",
          "2018-11-01T00:00:00",
          "2018-12-01T00:00:00",
          "2019-01-01T00:00:00",
          "2019-02-01T00:00:00",
          "2019-03-01T00:00:00",
          "2019-04-01T00:00:00",
          "2019-05-01T00:00:00",
          "2019-06-01T00:00:00",
          "2019-07-01T00:00:00",
          "2019-08-01T00:00:00",
          "2019-09-01T00:00:00",
          "2019-10-01T00:00:00",
          "2019-11-01T00:00:00",
          "2019-12-01T00:00:00"
         ],
         "xaxis": "x",
         "y": [
          3326.733333333333,
          null,
          null,
          4.925,
          null,
          6.783333333333333,
          null,
          14.766666666666666,
          9.583333333333334,
          9.558333333333334,
          17.9,
          null,
          null,
          18.958333333333332,
          null,
          29.291666666666668,
          0.8333333333333334,
          4.35,
          2.3666666666666667,
          null,
          104.04166666666667,
          22.4
         ],
         "yaxis": "y"
        },
        {
         "hovertemplate": "port_name=PortMiami, FL<br>month=%{x}<br>time_at_anchor_avg=%{y}<extra></extra>",
         "legendgroup": "PortMiami, FL",
         "line": {
          "color": "#ab63fa",
          "dash": "solid"
         },
         "marker": {
          "symbol": "circle"
         },
         "mode": "lines",
         "name": "PortMiami, FL",
         "showlegend": true,
         "type": "scattergl",
         "x": [
          "2018-01-01T00:00:00",
          "2018-02-01T00:00:00",
          "2018-03-01T00:00:00",
          "2018-04-01T00:00:00",
          "2018-05-01T00:00:00",
          "2018-06-01T00:00:00",
          "2018-07-01T00:00:00",
          "2018-08-01T00:00:00",
          "2018-09-01T00:00:00",
          "2018-10-01T00:00:00",
          "2018-11-01T00:00:00",
          "2018-12-01T00:00:00",
          "2019-01-01T00:00:00",
          "2019-02-01T00:00:00",
          "2019-03-01T00:00:00",
          "2019-04-01T00:00:00",
          "2019-05-01T00:00:00",
          "2019-06-01T00:00:00",
          "2019-07-01T00:00:00",
          "2019-08-01T00:00:00",
          "2019-09-01T00:00:00",
          "2019-10-01T00:00:00",
          "2019-11-01T00:00:00",
          "2019-12-01T00:00:00"
         ],
         "xaxis": "x",
         "y": [
          59.78333333333333,
          70.85,
          102.33333333333333,
          27.691666666666666,
          24.65,
          152.08333333333334,
          156.69166666666666,
          56.125,
          19.933333333333334,
          23.983333333333334,
          23.433333333333334,
          225.43333333333334,
          11.533333333333333,
          187.025,
          48.516666666666666,
          72.725,
          34.975,
          89.13333333333333,
          18.883333333333333,
          44.083333333333336,
          0.016666666666666666,
          50.025,
          47.833333333333336,
          14.383333333333333
         ],
         "yaxis": "y"
        },
        {
         "hovertemplate": "port_name=Two Harbors, MN<br>month=%{x}<br>time_at_anchor_avg=%{y}<extra></extra>",
         "legendgroup": "Two Harbors, MN",
         "line": {
          "color": "#FFA15A",
          "dash": "solid"
         },
         "marker": {
          "symbol": "circle"
         },
         "mode": "lines",
         "name": "Two Harbors, MN",
         "showlegend": true,
         "type": "scattergl",
         "x": [
          "2018-01-01T00:00:00",
          "2018-03-01T00:00:00",
          "2018-04-01T00:00:00",
          "2018-05-01T00:00:00",
          "2018-06-01T00:00:00",
          "2018-07-01T00:00:00",
          "2018-08-01T00:00:00",
          "2018-09-01T00:00:00",
          "2018-10-01T00:00:00",
          "2018-11-01T00:00:00",
          "2018-12-01T00:00:00",
          "2019-01-01T00:00:00",
          "2019-03-01T00:00:00",
          "2019-04-01T00:00:00",
          "2019-05-01T00:00:00",
          "2019-06-01T00:00:00",
          "2019-07-01T00:00:00",
          "2019-08-01T00:00:00",
          "2019-09-01T00:00:00",
          "2019-10-01T00:00:00",
          "2019-11-01T00:00:00",
          "2019-12-01T00:00:00"
         ],
         "xaxis": "x",
         "y": [
          34.13333333333333,
          13.333333333333334,
          14.258333333333333,
          1.7,
          7.366666666666666,
          null,
          null,
          9.816666666666666,
          10.25,
          17.633333333333333,
          6.85,
          18.225,
          null,
          13.608333333333333,
          4.883333333333333,
          12.133333333333333,
          18.125,
          3.9,
          6.45,
          16.25,
          35.96666666666667,
          34.5
         ],
         "yaxis": "y"
        },
        {
         "hovertemplate": "port_name=Anacortes, WA<br>month=%{x}<br>time_at_anchor_avg=%{y}<extra></extra>",
         "legendgroup": "Anacortes, WA",
         "line": {
          "color": "#19d3f3",
          "dash": "solid"
         },
         "marker": {
          "symbol": "circle"
         },
         "mode": "lines",
         "name": "Anacortes, WA",
         "showlegend": true,
         "type": "scattergl",
         "x": [
          "2018-01-01T00:00:00",
          "2018-02-01T00:00:00",
          "2018-03-01T00:00:00",
          "2018-04-01T00:00:00",
          "2018-05-01T00:00:00",
          "2018-06-01T00:00:00",
          "2018-07-01T00:00:00",
          "2018-08-01T00:00:00",
          "2018-09-01T00:00:00",
          "2018-10-01T00:00:00",
          "2018-11-01T00:00:00",
          "2018-12-01T00:00:00",
          "2019-01-01T00:00:00",
          "2019-02-01T00:00:00",
          "2019-03-01T00:00:00",
          "2019-04-01T00:00:00",
          "2019-05-01T00:00:00",
          "2019-06-01T00:00:00",
          "2019-07-01T00:00:00",
          "2019-08-01T00:00:00",
          "2019-09-01T00:00:00",
          "2019-10-01T00:00:00",
          "2019-11-01T00:00:00",
          "2019-12-01T00:00:00"
         ],
         "xaxis": "x",
         "y": [
          57.28333333333333,
          56.31666666666666,
          53.30833333333333,
          49.333333333333336,
          42.583333333333336,
          38.416666666666664,
          48.78333333333333,
          54.733333333333334,
          47.06666666666666,
          56.31666666666666,
          48.15,
          45.675,
          16.975,
          48.333333333333336,
          47.71666666666667,
          43.583333333333336,
          39.85,
          54.766666666666666,
          35.11666666666667,
          54.15,
          42.43333333333333,
          55.05,
          46.4,
          25.8
         ],
         "yaxis": "y"
        },
        {
         "hovertemplate": "port_name=Jacksonville, FL<br>month=%{x}<br>time_at_anchor_avg=%{y}<extra></extra>",
         "legendgroup": "Jacksonville, FL",
         "line": {
          "color": "#FF6692",
          "dash": "solid"
         },
         "marker": {
          "symbol": "circle"
         },
         "mode": "lines",
         "name": "Jacksonville, FL",
         "showlegend": true,
         "type": "scattergl",
         "x": [
          "2018-01-01T00:00:00",
          "2018-02-01T00:00:00",
          "2018-03-01T00:00:00",
          "2018-04-01T00:00:00",
          "2018-05-01T00:00:00",
          "2018-06-01T00:00:00",
          "2018-07-01T00:00:00",
          "2018-08-01T00:00:00",
          "2018-09-01T00:00:00",
          "2018-10-01T00:00:00",
          "2018-11-01T00:00:00",
          "2018-12-01T00:00:00",
          "2019-01-01T00:00:00",
          "2019-02-01T00:00:00",
          "2019-03-01T00:00:00",
          "2019-04-01T00:00:00",
          "2019-05-01T00:00:00",
          "2019-06-01T00:00:00",
          "2019-07-01T00:00:00",
          "2019-08-01T00:00:00",
          "2019-09-01T00:00:00",
          "2019-10-01T00:00:00",
          "2019-11-01T00:00:00",
          "2019-12-01T00:00:00"
         ],
         "xaxis": "x",
         "y": [
          12.75,
          9.233333333333333,
          14.016666666666666,
          20.216666666666665,
          23.3,
          18.9,
          18.733333333333334,
          14.95,
          17.2,
          16.45,
          10.983333333333333,
          37.43333333333333,
          14.45,
          10.416666666666666,
          15.133333333333333,
          13.733333333333333,
          12.183333333333334,
          15.541666666666666,
          10.216666666666667,
          15.25,
          17.616666666666667,
          11.558333333333334,
          18.683333333333334,
          14.183333333333334
         ],
         "yaxis": "y"
        },
        {
         "hovertemplate": "port_name=Northern Indiana District, IN<br>month=%{x}<br>time_at_anchor_avg=%{y}<extra></extra>",
         "legendgroup": "Northern Indiana District, IN",
         "line": {
          "color": "#B6E880",
          "dash": "solid"
         },
         "marker": {
          "symbol": "circle"
         },
         "mode": "lines",
         "name": "Northern Indiana District, IN",
         "showlegend": true,
         "type": "scattergl",
         "x": [
          "2018-01-01T00:00:00",
          "2018-02-01T00:00:00",
          "2018-03-01T00:00:00",
          "2018-04-01T00:00:00",
          "2018-05-01T00:00:00",
          "2018-06-01T00:00:00",
          "2018-07-01T00:00:00",
          "2018-08-01T00:00:00",
          "2018-09-01T00:00:00",
          "2018-10-01T00:00:00",
          "2018-11-01T00:00:00",
          "2018-12-01T00:00:00",
          "2019-01-01T00:00:00",
          "2019-03-01T00:00:00",
          "2019-04-01T00:00:00",
          "2019-05-01T00:00:00",
          "2019-06-01T00:00:00",
          "2019-07-01T00:00:00",
          "2019-08-01T00:00:00",
          "2019-09-01T00:00:00",
          "2019-10-01T00:00:00",
          "2019-11-01T00:00:00",
          "2019-12-01T00:00:00"
         ],
         "xaxis": "x",
         "y": [
          42.63333333333333,
          null,
          null,
          9.95,
          5.708333333333333,
          5.483333333333333,
          5.016666666666667,
          13.7,
          4.475,
          11.166666666666666,
          18.491666666666667,
          7.833333333333333,
          7.016666666666667,
          7.883333333333333,
          9.675,
          17.941666666666666,
          14.45,
          9.933333333333334,
          28.483333333333334,
          7.283333333333333,
          20.616666666666667,
          10.15,
          39.63333333333333
         ],
         "yaxis": "y"
        },
        {
         "hovertemplate": "port_name=Presque Isle Township, MI<br>month=%{x}<br>time_at_anchor_avg=%{y}<extra></extra>",
         "legendgroup": "Presque Isle Township, MI",
         "line": {
          "color": "#FF97FF",
          "dash": "solid"
         },
         "marker": {
          "symbol": "circle"
         },
         "mode": "lines",
         "name": "Presque Isle Township, MI",
         "showlegend": true,
         "type": "scattergl",
         "x": [
          "2018-01-01T00:00:00",
          "2018-04-01T00:00:00",
          "2018-05-01T00:00:00",
          "2018-06-01T00:00:00",
          "2018-07-01T00:00:00",
          "2018-08-01T00:00:00",
          "2018-09-01T00:00:00",
          "2018-10-01T00:00:00",
          "2018-11-01T00:00:00",
          "2018-12-01T00:00:00",
          "2019-03-01T00:00:00",
          "2019-04-01T00:00:00",
          "2019-05-01T00:00:00",
          "2019-06-01T00:00:00",
          "2019-07-01T00:00:00",
          "2019-08-01T00:00:00",
          "2019-09-01T00:00:00",
          "2019-10-01T00:00:00",
          "2019-11-01T00:00:00",
          "2019-12-01T00:00:00"
         ],
         "xaxis": "x",
         "y": [
          28.55,
          29.45,
          14.058333333333334,
          null,
          6.466666666666667,
          1.3333333333333333,
          5.733333333333333,
          14.741666666666667,
          null,
          null,
          null,
          16.858333333333334,
          12.516666666666666,
          6.441666666666666,
          9.55,
          8.791666666666666,
          16.45,
          28.483333333333334,
          15.516666666666666,
          18.766666666666666
         ],
         "yaxis": "y"
        },
        {
         "hovertemplate": "port_name=Clark Township, MI<br>month=%{x}<br>time_at_anchor_avg=%{y}<extra></extra>",
         "legendgroup": "Clark Township, MI",
         "line": {
          "color": "#FECB52",
          "dash": "solid"
         },
         "marker": {
          "symbol": "circle"
         },
         "mode": "lines",
         "name": "Clark Township, MI",
         "showlegend": true,
         "type": "scattergl",
         "x": [
          "2018-01-01T00:00:00",
          "2018-02-01T00:00:00",
          "2018-03-01T00:00:00",
          "2018-04-01T00:00:00",
          "2018-05-01T00:00:00",
          "2018-06-01T00:00:00",
          "2018-07-01T00:00:00",
          "2018-08-01T00:00:00",
          "2018-09-01T00:00:00",
          "2018-10-01T00:00:00",
          "2018-11-01T00:00:00",
          "2018-12-01T00:00:00",
          "2019-01-01T00:00:00",
          "2019-02-01T00:00:00",
          "2019-03-01T00:00:00",
          "2019-04-01T00:00:00",
          "2019-05-01T00:00:00",
          "2019-06-01T00:00:00",
          "2019-07-01T00:00:00",
          "2019-08-01T00:00:00",
          "2019-09-01T00:00:00",
          "2019-10-01T00:00:00",
          "2019-11-01T00:00:00",
          "2019-12-01T00:00:00"
         ],
         "xaxis": "x",
         "y": [
          15.066666666666666,
          9.375,
          8.025,
          12.583333333333334,
          6.4,
          3.3166666666666664,
          8.9,
          11.183333333333334,
          20.633333333333333,
          14.15,
          17.208333333333332,
          11.583333333333334,
          22.266666666666666,
          null,
          8.4,
          6.55,
          7.133333333333333,
          6.25,
          15.941666666666666,
          4.3,
          9.433333333333334,
          10.641666666666666,
          16.583333333333332,
          null
         ],
         "yaxis": "y"
        },
        {
         "hovertemplate": "port_name=New Haven, CT<br>month=%{x}<br>time_at_anchor_avg=%{y}<extra></extra>",
         "legendgroup": "New Haven, CT",
         "line": {
          "color": "#636efa",
          "dash": "solid"
         },
         "marker": {
          "symbol": "circle"
         },
         "mode": "lines",
         "name": "New Haven, CT",
         "showlegend": true,
         "type": "scattergl",
         "x": [
          "2018-01-01T00:00:00",
          "2018-02-01T00:00:00",
          "2018-03-01T00:00:00",
          "2018-04-01T00:00:00",
          "2018-05-01T00:00:00",
          "2018-06-01T00:00:00",
          "2018-07-01T00:00:00",
          "2018-08-01T00:00:00",
          "2018-09-01T00:00:00",
          "2018-10-01T00:00:00",
          "2018-11-01T00:00:00",
          "2018-12-01T00:00:00",
          "2019-01-01T00:00:00",
          "2019-02-01T00:00:00",
          "2019-03-01T00:00:00",
          "2019-04-01T00:00:00",
          "2019-05-01T00:00:00",
          "2019-06-01T00:00:00",
          "2019-07-01T00:00:00",
          "2019-08-01T00:00:00",
          "2019-09-01T00:00:00",
          "2019-10-01T00:00:00",
          "2019-11-01T00:00:00",
          "2019-12-01T00:00:00"
         ],
         "xaxis": "x",
         "y": [
          16.008333333333333,
          13.466666666666667,
          23.55,
          13.25,
          25.566666666666666,
          39.916666666666664,
          37.18333333333333,
          9,
          26.741666666666667,
          52.71666666666667,
          6.25,
          16.7,
          20.433333333333334,
          37.425,
          11.033333333333333,
          39.15833333333333,
          6.916666666666667,
          20.05,
          11.425,
          21.2,
          7.466666666666667,
          7.133333333333333,
          9.725,
          14.416666666666666
         ],
         "yaxis": "y"
        },
        {
         "hovertemplate": "port_name=Texas City, TX<br>month=%{x}<br>time_at_anchor_avg=%{y}<extra></extra>",
         "legendgroup": "Texas City, TX",
         "line": {
          "color": "#EF553B",
          "dash": "solid"
         },
         "marker": {
          "symbol": "circle"
         },
         "mode": "lines",
         "name": "Texas City, TX",
         "showlegend": true,
         "type": "scattergl",
         "x": [
          "2018-01-01T00:00:00",
          "2018-02-01T00:00:00",
          "2018-03-01T00:00:00",
          "2018-04-01T00:00:00",
          "2018-05-01T00:00:00",
          "2018-06-01T00:00:00",
          "2018-07-01T00:00:00",
          "2018-08-01T00:00:00",
          "2018-09-01T00:00:00",
          "2018-10-01T00:00:00",
          "2018-11-01T00:00:00",
          "2018-12-01T00:00:00",
          "2019-01-01T00:00:00",
          "2019-02-01T00:00:00",
          "2019-03-01T00:00:00",
          "2019-04-01T00:00:00",
          "2019-05-01T00:00:00",
          "2019-06-01T00:00:00",
          "2019-07-01T00:00:00",
          "2019-08-01T00:00:00",
          "2019-09-01T00:00:00",
          "2019-10-01T00:00:00",
          "2019-11-01T00:00:00",
          "2019-12-01T00:00:00"
         ],
         "xaxis": "x",
         "y": [
          28.233333333333334,
          32.458333333333336,
          27.28333333333333,
          23.25,
          25.575,
          22.066666666666666,
          19.333333333333332,
          17.991666666666667,
          26.349999999999998,
          24.841666666666665,
          22.583333333333332,
          19.75,
          23.858333333333334,
          29.266666666666666,
          36.63333333333333,
          28.375,
          3.7416666666666667,
          27.708333333333332,
          27.25,
          18.583333333333332,
          25.2,
          19.65833333333333,
          32.21666666666667,
          20.03333333333333
         ],
         "yaxis": "y"
        },
        {
         "hovertemplate": "port_name=Kalaeloa Barbers Point, HI<br>month=%{x}<br>time_at_anchor_avg=%{y}<extra></extra>",
         "legendgroup": "Kalaeloa Barbers Point, HI",
         "line": {
          "color": "#00cc96",
          "dash": "solid"
         },
         "marker": {
          "symbol": "circle"
         },
         "mode": "lines",
         "name": "Kalaeloa Barbers Point, HI",
         "showlegend": true,
         "type": "scattergl",
         "x": [
          "2018-01-01T00:00:00",
          "2018-02-01T00:00:00",
          "2018-03-01T00:00:00",
          "2018-04-01T00:00:00",
          "2018-05-01T00:00:00",
          "2018-06-01T00:00:00",
          "2018-07-01T00:00:00",
          "2018-08-01T00:00:00",
          "2018-09-01T00:00:00",
          "2018-10-01T00:00:00",
          "2018-11-01T00:00:00",
          "2018-12-01T00:00:00",
          "2019-01-01T00:00:00",
          "2019-02-01T00:00:00",
          "2019-03-01T00:00:00",
          "2019-04-01T00:00:00",
          "2019-05-01T00:00:00",
          "2019-06-01T00:00:00",
          "2019-07-01T00:00:00",
          "2019-08-01T00:00:00",
          "2019-09-01T00:00:00",
          "2019-10-01T00:00:00",
          "2019-11-01T00:00:00",
          "2019-12-01T00:00:00"
         ],
         "xaxis": "x",
         "y": [
          92.89166666666667,
          86.18333333333334,
          18.925,
          24.8,
          34,
          55.458333333333336,
          13.616666666666667,
          43.266666666666666,
          22.78333333333333,
          25.566666666666666,
          14.066666666666666,
          104.3,
          34.15,
          18.041666666666668,
          5.783333333333333,
          106.64999999999999,
          109.36666666666666,
          19.708333333333332,
          98.375,
          79.51666666666667,
          null,
          32.00833333333333,
          null,
          13.016666666666666
         ],
         "yaxis": "y"
        },
        {
         "hovertemplate": "port_name=Portland, ME<br>month=%{x}<br>time_at_anchor_avg=%{y}<extra></extra>",
         "legendgroup": "Portland, ME",
         "line": {
          "color": "#ab63fa",
          "dash": "solid"
         },
         "marker": {
          "symbol": "circle"
         },
         "mode": "lines",
         "name": "Portland, ME",
         "showlegend": true,
         "type": "scattergl",
         "x": [
          "2018-01-01T00:00:00",
          "2018-02-01T00:00:00",
          "2018-03-01T00:00:00",
          "2018-04-01T00:00:00",
          "2018-05-01T00:00:00",
          "2018-06-01T00:00:00",
          "2018-07-01T00:00:00",
          "2018-08-01T00:00:00",
          "2018-09-01T00:00:00",
          "2018-10-01T00:00:00",
          "2018-11-01T00:00:00",
          "2018-12-01T00:00:00",
          "2019-01-01T00:00:00",
          "2019-02-01T00:00:00",
          "2019-03-01T00:00:00",
          "2019-04-01T00:00:00",
          "2019-05-01T00:00:00",
          "2019-06-01T00:00:00",
          "2019-07-01T00:00:00",
          "2019-08-01T00:00:00",
          "2019-09-01T00:00:00",
          "2019-10-01T00:00:00",
          "2019-11-01T00:00:00",
          "2019-12-01T00:00:00"
         ],
         "xaxis": "x",
         "y": [
          4.258333333333333,
          31.566666666666666,
          37.61666666666667,
          16.141666666666666,
          16.508333333333333,
          13.441666666666666,
          41.65833333333333,
          24.78333333333333,
          40.7,
          16.266666666666666,
          17.966666666666665,
          18.916666666666668,
          2.4833333333333334,
          11.833333333333334,
          25.724999999999998,
          46.35,
          17.75,
          10.591666666666667,
          33.016666666666666,
          2.716666666666667,
          16.833333333333332,
          7.133333333333333,
          37.016666666666666,
          12.483333333333333
         ],
         "yaxis": "y"
        },
        {
         "hovertemplate": "port_name=Port of Portland, OR<br>month=%{x}<br>time_at_anchor_avg=%{y}<extra></extra>",
         "legendgroup": "Port of Portland, OR",
         "line": {
          "color": "#FFA15A",
          "dash": "solid"
         },
         "marker": {
          "symbol": "circle"
         },
         "mode": "lines",
         "name": "Port of Portland, OR",
         "showlegend": true,
         "type": "scattergl",
         "x": [
          "2018-01-01T00:00:00",
          "2018-02-01T00:00:00",
          "2018-03-01T00:00:00",
          "2018-04-01T00:00:00",
          "2018-05-01T00:00:00",
          "2018-06-01T00:00:00",
          "2018-07-01T00:00:00",
          "2018-08-01T00:00:00",
          "2018-09-01T00:00:00",
          "2018-10-01T00:00:00",
          "2018-11-01T00:00:00",
          "2018-12-01T00:00:00",
          "2019-01-01T00:00:00",
          "2019-02-01T00:00:00",
          "2019-03-01T00:00:00",
          "2019-04-01T00:00:00",
          "2019-05-01T00:00:00",
          "2019-06-01T00:00:00",
          "2019-07-01T00:00:00",
          "2019-08-01T00:00:00",
          "2019-09-01T00:00:00",
          "2019-10-01T00:00:00",
          "2019-11-01T00:00:00",
          "2019-12-01T00:00:00"
         ],
         "xaxis": "x",
         "y": [
          32.84166666666667,
          38.75,
          18.40833333333333,
          19.45,
          15,
          47.583333333333336,
          28.05,
          19.333333333333332,
          11.316666666666666,
          89.43333333333334,
          95.56666666666666,
          8,
          null,
          79.06666666666666,
          112.68333333333334,
          24.766666666666666,
          66.44166666666666,
          null,
          389.8333333333333,
          16.25,
          71.03333333333333,
          32.96666666666667,
          28.599999999999998,
          15.241666666666667
         ],
         "yaxis": "y"
        },
        {
         "hovertemplate": "port_name=Searsport, ME<br>month=%{x}<br>time_at_anchor_avg=%{y}<extra></extra>",
         "legendgroup": "Searsport, ME",
         "line": {
          "color": "#19d3f3",
          "dash": "solid"
         },
         "marker": {
          "symbol": "circle"
         },
         "mode": "lines",
         "name": "Searsport, ME",
         "showlegend": true,
         "type": "scattergl",
         "x": [
          "2018-01-01T00:00:00",
          "2018-02-01T00:00:00",
          "2018-03-01T00:00:00",
          "2018-04-01T00:00:00",
          "2018-05-01T00:00:00",
          "2018-06-01T00:00:00",
          "2018-07-01T00:00:00",
          "2018-08-01T00:00:00",
          "2018-09-01T00:00:00",
          "2018-10-01T00:00:00",
          "2018-11-01T00:00:00",
          "2018-12-01T00:00:00",
          "2019-01-01T00:00:00",
          "2019-02-01T00:00:00",
          "2019-03-01T00:00:00",
          "2019-04-01T00:00:00",
          "2019-05-01T00:00:00",
          "2019-06-01T00:00:00",
          "2019-07-01T00:00:00",
          "2019-08-01T00:00:00",
          "2019-09-01T00:00:00",
          "2019-10-01T00:00:00",
          "2019-11-01T00:00:00",
          "2019-12-01T00:00:00"
         ],
         "xaxis": "x",
         "y": [
          15.549999999999999,
          43.56666666666666,
          13.766666666666666,
          31.25,
          16.9,
          12.566666666666666,
          27.691666666666666,
          17.466666666666665,
          23.641666666666666,
          8.983333333333333,
          13.716666666666667,
          24.15833333333333,
          31.9,
          15.166666666666666,
          8.308333333333334,
          27.8,
          13.216666666666667,
          13.275,
          56.03333333333333,
          9.083333333333334,
          0.775,
          1.3833333333333333,
          null,
          0.9083333333333333
         ],
         "yaxis": "y"
        },
        {
         "hovertemplate": "port_name=Canaveral Port District, FL<br>month=%{x}<br>time_at_anchor_avg=%{y}<extra></extra>",
         "legendgroup": "Canaveral Port District, FL",
         "line": {
          "color": "#FF6692",
          "dash": "solid"
         },
         "marker": {
          "symbol": "circle"
         },
         "mode": "lines",
         "name": "Canaveral Port District, FL",
         "showlegend": true,
         "type": "scattergl",
         "x": [
          "2018-01-01T00:00:00",
          "2018-02-01T00:00:00",
          "2018-03-01T00:00:00",
          "2018-04-01T00:00:00",
          "2018-05-01T00:00:00",
          "2018-06-01T00:00:00",
          "2018-07-01T00:00:00",
          "2018-08-01T00:00:00",
          "2018-09-01T00:00:00",
          "2018-10-01T00:00:00",
          "2018-11-01T00:00:00",
          "2018-12-01T00:00:00",
          "2019-01-01T00:00:00",
          "2019-02-01T00:00:00",
          "2019-03-01T00:00:00",
          "2019-04-01T00:00:00",
          "2019-05-01T00:00:00",
          "2019-06-01T00:00:00",
          "2019-07-01T00:00:00",
          "2019-08-01T00:00:00",
          "2019-09-01T00:00:00",
          "2019-10-01T00:00:00",
          "2019-11-01T00:00:00",
          "2019-12-01T00:00:00"
         ],
         "xaxis": "x",
         "y": [
          23.816666666666666,
          16.891666666666666,
          15.9,
          14.049999999999999,
          15.416666666666666,
          15.808333333333334,
          13.766666666666666,
          20.041666666666668,
          13.891666666666666,
          8.833333333333334,
          15.091666666666667,
          6.066666666666666,
          4.566666666666666,
          13.266666666666666,
          11.766666666666666,
          29.541666666666668,
          11.391666666666666,
          14.058333333333334,
          6.5,
          41.56666666666666,
          25.849999999999998,
          27.28333333333333,
          16.85,
          10.2
         ],
         "yaxis": "y"
        },
        {
         "hovertemplate": "port_name=Port of Long Beach, CA<br>month=%{x}<br>time_at_anchor_avg=%{y}<extra></extra>",
         "legendgroup": "Port of Long Beach, CA",
         "line": {
          "color": "#B6E880",
          "dash": "solid"
         },
         "marker": {
          "symbol": "circle"
         },
         "mode": "lines",
         "name": "Port of Long Beach, CA",
         "showlegend": true,
         "type": "scattergl",
         "x": [
          "2018-01-01T00:00:00",
          "2018-02-01T00:00:00",
          "2018-03-01T00:00:00",
          "2018-04-01T00:00:00",
          "2018-05-01T00:00:00",
          "2018-06-01T00:00:00",
          "2018-07-01T00:00:00",
          "2018-08-01T00:00:00",
          "2018-09-01T00:00:00",
          "2018-10-01T00:00:00",
          "2018-11-01T00:00:00",
          "2018-12-01T00:00:00",
          "2019-01-01T00:00:00",
          "2019-02-01T00:00:00",
          "2019-03-01T00:00:00",
          "2019-04-01T00:00:00",
          "2019-05-01T00:00:00",
          "2019-06-01T00:00:00",
          "2019-07-01T00:00:00",
          "2019-08-01T00:00:00",
          "2019-09-01T00:00:00",
          "2019-10-01T00:00:00",
          "2019-11-01T00:00:00",
          "2019-12-01T00:00:00"
         ],
         "xaxis": "x",
         "y": [
          24.266666666666666,
          37.166666666666664,
          29.466666666666665,
          34.46666666666667,
          45.2,
          34.1,
          30.116666666666667,
          26.2,
          24.40833333333333,
          22.583333333333332,
          24.333333333333332,
          30.55,
          36.71666666666667,
          36.25833333333333,
          24.8,
          27.383333333333333,
          42.71666666666667,
          29.166666666666668,
          37.06666666666666,
          22.966666666666665,
          33.75,
          43.55833333333333,
          24.066666666666666,
          25.341666666666665
         ],
         "yaxis": "y"
        },
        {
         "hovertemplate": "port_name=Duluth-Superior, MN and WI<br>month=%{x}<br>time_at_anchor_avg=%{y}<extra></extra>",
         "legendgroup": "Duluth-Superior, MN and WI",
         "line": {
          "color": "#FF97FF",
          "dash": "solid"
         },
         "marker": {
          "symbol": "circle"
         },
         "mode": "lines",
         "name": "Duluth-Superior, MN and WI",
         "showlegend": true,
         "type": "scattergl",
         "x": [
          "2018-01-01T00:00:00",
          "2018-02-01T00:00:00",
          "2018-03-01T00:00:00",
          "2018-04-01T00:00:00",
          "2018-05-01T00:00:00",
          "2018-06-01T00:00:00",
          "2018-07-01T00:00:00",
          "2018-08-01T00:00:00",
          "2018-09-01T00:00:00",
          "2018-10-01T00:00:00",
          "2018-11-01T00:00:00",
          "2018-12-01T00:00:00",
          "2019-01-01T00:00:00",
          "2019-02-01T00:00:00",
          "2019-03-01T00:00:00",
          "2019-04-01T00:00:00",
          "2019-05-01T00:00:00",
          "2019-06-01T00:00:00",
          "2019-07-01T00:00:00",
          "2019-08-01T00:00:00",
          "2019-09-01T00:00:00",
          "2019-10-01T00:00:00",
          "2019-11-01T00:00:00",
          "2019-12-01T00:00:00"
         ],
         "xaxis": "x",
         "y": [
          70.38333333333333,
          null,
          10.45,
          13.866666666666667,
          10.716666666666667,
          15.75,
          8.866666666666667,
          7.45,
          11.433333333333334,
          5.333333333333333,
          11.366666666666667,
          3.55,
          23.291666666666668,
          null,
          0.05,
          14.325,
          8.475,
          8.575,
          10.891666666666666,
          7.2,
          5.616666666666666,
          5.783333333333333,
          9.591666666666667,
          18.95
         ],
         "yaxis": "y"
        },
        {
         "hovertemplate": "port_name=Illinois International Port, IL<br>month=%{x}<br>time_at_anchor_avg=%{y}<extra></extra>",
         "legendgroup": "Illinois International Port, IL",
         "line": {
          "color": "#FECB52",
          "dash": "solid"
         },
         "marker": {
          "symbol": "circle"
         },
         "mode": "lines",
         "name": "Illinois International Port, IL",
         "showlegend": true,
         "type": "scattergl",
         "x": [
          "2018-01-01T00:00:00",
          "2018-03-01T00:00:00",
          "2018-04-01T00:00:00",
          "2018-05-01T00:00:00",
          "2018-06-01T00:00:00",
          "2018-07-01T00:00:00",
          "2018-08-01T00:00:00",
          "2018-09-01T00:00:00",
          "2018-10-01T00:00:00",
          "2018-11-01T00:00:00",
          "2018-12-01T00:00:00",
          "2019-01-01T00:00:00",
          "2019-02-01T00:00:00",
          "2019-03-01T00:00:00",
          "2019-04-01T00:00:00",
          "2019-05-01T00:00:00",
          "2019-06-01T00:00:00",
          "2019-07-01T00:00:00",
          "2019-08-01T00:00:00",
          "2019-09-01T00:00:00",
          "2019-10-01T00:00:00",
          "2019-11-01T00:00:00",
          "2019-12-01T00:00:00"
         ],
         "xaxis": "x",
         "y": [
          null,
          null,
          16.55,
          3.4166666666666665,
          6.6499999999999995,
          9.15,
          71.68333333333334,
          2.4833333333333334,
          3.3166666666666664,
          21.466666666666665,
          null,
          121.23333333333333,
          13.6,
          0.016666666666666666,
          24.75,
          16.866666666666667,
          17.03333333333333,
          22.216666666666665,
          6.016666666666667,
          null,
          6.75,
          7.366666666666666,
          null
         ],
         "yaxis": "y"
        },
        {
         "hovertemplate": "port_name=Ashtabula Port Authority, OH<br>month=%{x}<br>time_at_anchor_avg=%{y}<extra></extra>",
         "legendgroup": "Ashtabula Port Authority, OH",
         "line": {
          "color": "#636efa",
          "dash": "solid"
         },
         "marker": {
          "symbol": "circle"
         },
         "mode": "lines",
         "name": "Ashtabula Port Authority, OH",
         "showlegend": true,
         "type": "scattergl",
         "x": [
          "2018-01-01T00:00:00",
          "2018-02-01T00:00:00",
          "2018-03-01T00:00:00",
          "2018-04-01T00:00:00",
          "2018-05-01T00:00:00",
          "2018-06-01T00:00:00",
          "2018-07-01T00:00:00",
          "2018-08-01T00:00:00",
          "2018-09-01T00:00:00",
          "2018-10-01T00:00:00",
          "2018-11-01T00:00:00",
          "2018-12-01T00:00:00",
          "2019-01-01T00:00:00",
          "2019-02-01T00:00:00",
          "2019-03-01T00:00:00",
          "2019-04-01T00:00:00",
          "2019-05-01T00:00:00",
          "2019-06-01T00:00:00",
          "2019-07-01T00:00:00",
          "2019-08-01T00:00:00",
          "2019-09-01T00:00:00",
          "2019-10-01T00:00:00",
          "2019-11-01T00:00:00",
          "2019-12-01T00:00:00"
         ],
         "xaxis": "x",
         "y": [
          null,
          null,
          null,
          14.041666666666666,
          6.666666666666667,
          7.733333333333333,
          null,
          100.55,
          7.6,
          23.308333333333334,
          17.075,
          null,
          10.366666666666667,
          null,
          25.866666666666667,
          6.291666666666667,
          19.941666666666666,
          21.866666666666667,
          4.066666666666666,
          29.224999999999998,
          null,
          11.541666666666666,
          9.05,
          6.425
         ],
         "yaxis": "y"
        },
        {
         "hovertemplate": "port_name=Seattle, WA<br>month=%{x}<br>time_at_anchor_avg=%{y}<extra></extra>",
         "legendgroup": "Seattle, WA",
         "line": {
          "color": "#EF553B",
          "dash": "solid"
         },
         "marker": {
          "symbol": "circle"
         },
         "mode": "lines",
         "name": "Seattle, WA",
         "showlegend": true,
         "type": "scattergl",
         "x": [
          "2018-01-01T00:00:00",
          "2018-02-01T00:00:00",
          "2018-03-01T00:00:00",
          "2018-04-01T00:00:00",
          "2018-05-01T00:00:00",
          "2018-06-01T00:00:00",
          "2018-07-01T00:00:00",
          "2018-08-01T00:00:00",
          "2018-09-01T00:00:00",
          "2018-10-01T00:00:00",
          "2018-11-01T00:00:00",
          "2018-12-01T00:00:00",
          "2019-01-01T00:00:00",
          "2019-02-01T00:00:00",
          "2019-03-01T00:00:00",
          "2019-04-01T00:00:00",
          "2019-05-01T00:00:00",
          "2019-06-01T00:00:00",
          "2019-07-01T00:00:00",
          "2019-08-01T00:00:00",
          "2019-09-01T00:00:00",
          "2019-10-01T00:00:00",
          "2019-11-01T00:00:00",
          "2019-12-01T00:00:00"
         ],
         "xaxis": "x",
         "y": [
          69.26666666666667,
          106.38333333333333,
          61.19166666666666,
          66.84166666666667,
          10.5,
          47.925,
          28.133333333333333,
          60.833333333333336,
          14.833333333333334,
          27.483333333333334,
          24.75,
          54.94166666666666,
          20.683333333333334,
          31.133333333333333,
          70.25833333333333,
          28.45,
          24.15,
          30.858333333333334,
          15.716666666666667,
          16.675,
          0.05,
          12.316666666666666,
          47.93333333333333,
          96.18333333333334
         ],
         "yaxis": "y"
        },
        {
         "hovertemplate": "port_name=Redwood City, CA<br>month=%{x}<br>time_at_anchor_avg=%{y}<extra></extra>",
         "legendgroup": "Redwood City, CA",
         "line": {
          "color": "#00cc96",
          "dash": "solid"
         },
         "marker": {
          "symbol": "circle"
         },
         "mode": "lines",
         "name": "Redwood City, CA",
         "showlegend": true,
         "type": "scattergl",
         "x": [
          "2018-01-01T00:00:00",
          "2018-02-01T00:00:00",
          "2018-03-01T00:00:00",
          "2018-04-01T00:00:00",
          "2018-05-01T00:00:00",
          "2018-06-01T00:00:00",
          "2018-07-01T00:00:00",
          "2018-08-01T00:00:00",
          "2018-09-01T00:00:00",
          "2018-10-01T00:00:00",
          "2018-11-01T00:00:00",
          "2018-12-01T00:00:00",
          "2019-01-01T00:00:00",
          "2019-02-01T00:00:00",
          "2019-03-01T00:00:00",
          "2019-04-01T00:00:00",
          "2019-05-01T00:00:00",
          "2019-06-01T00:00:00",
          "2019-07-01T00:00:00",
          "2019-08-01T00:00:00",
          "2019-09-01T00:00:00",
          "2019-10-01T00:00:00",
          "2019-11-01T00:00:00",
          "2019-12-01T00:00:00"
         ],
         "xaxis": "x",
         "y": [
          8.45,
          11.566666666666666,
          6.95,
          9.35,
          8.266666666666666,
          42.19166666666666,
          10.616666666666667,
          8.916666666666666,
          17.675,
          8.75,
          17.316666666666666,
          12.983333333333333,
          7.816666666666666,
          10.316666666666666,
          92.26666666666667,
          12.166666666666666,
          9.383333333333333,
          9.916666666666666,
          10.75,
          13.033333333333333,
          22.258333333333333,
          13.666666666666666,
          22.583333333333332,
          12.566666666666666
         ],
         "yaxis": "y"
        },
        {
         "hovertemplate": "port_name=Port of Oakland, CA<br>month=%{x}<br>time_at_anchor_avg=%{y}<extra></extra>",
         "legendgroup": "Port of Oakland, CA",
         "line": {
          "color": "#ab63fa",
          "dash": "solid"
         },
         "marker": {
          "symbol": "circle"
         },
         "mode": "lines",
         "name": "Port of Oakland, CA",
         "showlegend": true,
         "type": "scattergl",
         "x": [
          "2018-01-01T00:00:00",
          "2018-02-01T00:00:00",
          "2018-03-01T00:00:00",
          "2018-04-01T00:00:00",
          "2018-05-01T00:00:00",
          "2018-06-01T00:00:00",
          "2018-07-01T00:00:00",
          "2018-08-01T00:00:00",
          "2018-09-01T00:00:00",
          "2018-10-01T00:00:00",
          "2018-11-01T00:00:00",
          "2018-12-01T00:00:00",
          "2019-01-01T00:00:00",
          "2019-02-01T00:00:00",
          "2019-03-01T00:00:00",
          "2019-04-01T00:00:00",
          "2019-05-01T00:00:00",
          "2019-06-01T00:00:00",
          "2019-07-01T00:00:00",
          "2019-08-01T00:00:00",
          "2019-09-01T00:00:00",
          "2019-10-01T00:00:00",
          "2019-11-01T00:00:00",
          "2019-12-01T00:00:00"
         ],
         "xaxis": "x",
         "y": [
          11.766666666666666,
          18.833333333333332,
          22.333333333333332,
          15.225,
          17.233333333333334,
          13.433333333333334,
          11.45,
          12.725,
          15.591666666666667,
          11.766666666666666,
          12.241666666666667,
          19.45,
          11.241666666666667,
          17.1,
          22.53333333333333,
          12.183333333333334,
          19.441666666666666,
          12.15,
          3.6166666666666667,
          12.008333333333333,
          1.3166666666666667,
          3.525,
          19.9,
          16.75
         ],
         "yaxis": "y"
        },
        {
         "hovertemplate": "port_name=Honolulu, O'ahu, HI<br>month=%{x}<br>time_at_anchor_avg=%{y}<extra></extra>",
         "legendgroup": "Honolulu, O'ahu, HI",
         "line": {
          "color": "#FFA15A",
          "dash": "solid"
         },
         "marker": {
          "symbol": "circle"
         },
         "mode": "lines",
         "name": "Honolulu, O'ahu, HI",
         "showlegend": true,
         "type": "scattergl",
         "x": [
          "2018-01-01T00:00:00",
          "2018-02-01T00:00:00",
          "2018-03-01T00:00:00",
          "2018-04-01T00:00:00",
          "2018-05-01T00:00:00",
          "2018-06-01T00:00:00",
          "2018-07-01T00:00:00",
          "2018-08-01T00:00:00",
          "2018-09-01T00:00:00",
          "2018-10-01T00:00:00",
          "2018-11-01T00:00:00",
          "2018-12-01T00:00:00",
          "2019-01-01T00:00:00",
          "2019-02-01T00:00:00",
          "2019-03-01T00:00:00",
          "2019-04-01T00:00:00",
          "2019-05-01T00:00:00",
          "2019-06-01T00:00:00",
          "2019-07-01T00:00:00",
          "2019-08-01T00:00:00",
          "2019-09-01T00:00:00",
          "2019-10-01T00:00:00",
          "2019-11-01T00:00:00",
          "2019-12-01T00:00:00"
         ],
         "xaxis": "x",
         "y": [
          0.03333333333333333,
          14,
          22.375,
          13.016666666666666,
          10.65,
          20.983333333333334,
          30.816666666666666,
          47.483333333333334,
          38.05,
          65.33333333333333,
          43.7,
          69.875,
          34.8,
          22.366666666666667,
          41.30833333333333,
          67.06666666666666,
          14.9,
          43.9,
          33.93333333333333,
          109.91666666666667,
          33.2,
          29.433333333333334,
          7.708333333333333,
          12.5
         ],
         "yaxis": "y"
        },
        {
         "hovertemplate": "port_name=Beaumont, TX<br>month=%{x}<br>time_at_anchor_avg=%{y}<extra></extra>",
         "legendgroup": "Beaumont, TX",
         "line": {
          "color": "#19d3f3",
          "dash": "solid"
         },
         "marker": {
          "symbol": "circle"
         },
         "mode": "lines",
         "name": "Beaumont, TX",
         "showlegend": true,
         "type": "scattergl",
         "x": [
          "2018-01-01T00:00:00",
          "2018-02-01T00:00:00",
          "2018-03-01T00:00:00",
          "2018-04-01T00:00:00",
          "2018-05-01T00:00:00",
          "2018-06-01T00:00:00",
          "2018-07-01T00:00:00",
          "2018-08-01T00:00:00",
          "2018-09-01T00:00:00",
          "2018-10-01T00:00:00",
          "2018-11-01T00:00:00",
          "2018-12-01T00:00:00",
          "2019-01-01T00:00:00",
          "2019-02-01T00:00:00",
          "2019-03-01T00:00:00",
          "2019-04-01T00:00:00",
          "2019-05-01T00:00:00",
          "2019-06-01T00:00:00",
          "2019-07-01T00:00:00",
          "2019-08-01T00:00:00",
          "2019-09-01T00:00:00",
          "2019-10-01T00:00:00",
          "2019-11-01T00:00:00",
          "2019-12-01T00:00:00"
         ],
         "xaxis": "x",
         "y": [
          24.491666666666667,
          37.86666666666667,
          29.016666666666666,
          26.008333333333333,
          20.916666666666668,
          23.833333333333332,
          26.28333333333333,
          17.366666666666667,
          22.666666666666668,
          25.95,
          36.791666666666664,
          34.5,
          24.225,
          52.55833333333333,
          41.416666666666664,
          25.008333333333333,
          10.716666666666667,
          25.4,
          26.816666666666666,
          29.724999999999998,
          16.441666666666666,
          32.93333333333333,
          21.5,
          23.75
         ],
         "yaxis": "y"
        },
        {
         "hovertemplate": "port_name=Manatee County Port, FL<br>month=%{x}<br>time_at_anchor_avg=%{y}<extra></extra>",
         "legendgroup": "Manatee County Port, FL",
         "line": {
          "color": "#FF6692",
          "dash": "solid"
         },
         "marker": {
          "symbol": "circle"
         },
         "mode": "lines",
         "name": "Manatee County Port, FL",
         "showlegend": true,
         "type": "scattergl",
         "x": [
          "2018-01-01T00:00:00",
          "2018-02-01T00:00:00",
          "2018-03-01T00:00:00",
          "2018-04-01T00:00:00",
          "2018-05-01T00:00:00",
          "2018-06-01T00:00:00",
          "2018-07-01T00:00:00",
          "2018-08-01T00:00:00",
          "2018-09-01T00:00:00",
          "2018-10-01T00:00:00",
          "2018-11-01T00:00:00",
          "2018-12-01T00:00:00",
          "2019-01-01T00:00:00",
          "2019-02-01T00:00:00",
          "2019-03-01T00:00:00",
          "2019-04-01T00:00:00",
          "2019-05-01T00:00:00",
          "2019-06-01T00:00:00",
          "2019-07-01T00:00:00",
          "2019-08-01T00:00:00",
          "2019-09-01T00:00:00",
          "2019-10-01T00:00:00",
          "2019-11-01T00:00:00",
          "2019-12-01T00:00:00"
         ],
         "xaxis": "x",
         "y": [
          14.916666666666666,
          8.65,
          6.516666666666667,
          24.508333333333333,
          24.233333333333334,
          10.583333333333334,
          59.46666666666667,
          17.766666666666666,
          31.175,
          4.583333333333333,
          11.366666666666667,
          19.416666666666668,
          21.733333333333334,
          8.133333333333333,
          14.191666666666666,
          24.525,
          43.69166666666666,
          15.75,
          6.183333333333334,
          10.35,
          24.616666666666667,
          28.849999999999998,
          12.016666666666666,
          10.25
         ],
         "yaxis": "y"
        },
        {
         "hovertemplate": "port_name=Tampa Port Authority, FL<br>month=%{x}<br>time_at_anchor_avg=%{y}<extra></extra>",
         "legendgroup": "Tampa Port Authority, FL",
         "line": {
          "color": "#B6E880",
          "dash": "solid"
         },
         "marker": {
          "symbol": "circle"
         },
         "mode": "lines",
         "name": "Tampa Port Authority, FL",
         "showlegend": true,
         "type": "scattergl",
         "x": [
          "2018-01-01T00:00:00",
          "2018-02-01T00:00:00",
          "2018-03-01T00:00:00",
          "2018-04-01T00:00:00",
          "2018-05-01T00:00:00",
          "2018-06-01T00:00:00",
          "2018-07-01T00:00:00",
          "2018-08-01T00:00:00",
          "2018-09-01T00:00:00",
          "2018-10-01T00:00:00",
          "2018-11-01T00:00:00",
          "2018-12-01T00:00:00",
          "2019-01-01T00:00:00",
          "2019-02-01T00:00:00",
          "2019-03-01T00:00:00",
          "2019-04-01T00:00:00",
          "2019-05-01T00:00:00",
          "2019-06-01T00:00:00",
          "2019-07-01T00:00:00",
          "2019-08-01T00:00:00",
          "2019-09-01T00:00:00",
          "2019-10-01T00:00:00",
          "2019-11-01T00:00:00",
          "2019-12-01T00:00:00"
         ],
         "xaxis": "x",
         "y": [
          21.525,
          11.683333333333334,
          22.53333333333333,
          17.633333333333333,
          17.3,
          26.116666666666667,
          24.633333333333333,
          14.516666666666666,
          17.558333333333334,
          24.933333333333334,
          23.758333333333333,
          17.216666666666665,
          12.366666666666667,
          14.633333333333333,
          17.883333333333333,
          15.908333333333333,
          14.525,
          22.866666666666667,
          16.933333333333334,
          27.233333333333334,
          24.133333333333333,
          20.25,
          10.1,
          17.90833333333333
         ],
         "yaxis": "y"
        },
        {
         "hovertemplate": "port_name=San Juan, PR<br>month=%{x}<br>time_at_anchor_avg=%{y}<extra></extra>",
         "legendgroup": "San Juan, PR",
         "line": {
          "color": "#FF97FF",
          "dash": "solid"
         },
         "marker": {
          "symbol": "circle"
         },
         "mode": "lines",
         "name": "San Juan, PR",
         "showlegend": true,
         "type": "scattergl",
         "x": [
          "2018-01-01T00:00:00",
          "2018-02-01T00:00:00",
          "2018-03-01T00:00:00",
          "2018-04-01T00:00:00",
          "2018-05-01T00:00:00",
          "2018-06-01T00:00:00",
          "2018-07-01T00:00:00",
          "2018-08-01T00:00:00",
          "2018-09-01T00:00:00",
          "2018-10-01T00:00:00",
          "2018-11-01T00:00:00",
          "2018-12-01T00:00:00",
          "2019-01-01T00:00:00",
          "2019-02-01T00:00:00",
          "2019-03-01T00:00:00",
          "2019-04-01T00:00:00",
          "2019-05-01T00:00:00",
          "2019-06-01T00:00:00",
          "2019-07-01T00:00:00",
          "2019-08-01T00:00:00",
          "2019-09-01T00:00:00",
          "2019-10-01T00:00:00",
          "2019-11-01T00:00:00",
          "2019-12-01T00:00:00"
         ],
         "xaxis": "x",
         "y": [
          7.441666666666666,
          2.25,
          8.133333333333333,
          3.65,
          5.033333333333333,
          3.3166666666666664,
          5.466666666666667,
          5.3,
          7.416666666666667,
          3.2,
          11.266666666666666,
          15.391666666666666,
          12.25,
          10.491666666666667,
          7.783333333333333,
          8.975,
          15.883333333333333,
          9.275,
          8.941666666666666,
          22.125,
          20.116666666666667,
          23.066666666666666,
          16.633333333333333,
          15.791666666666666
         ],
         "yaxis": "y"
        },
        {
         "hovertemplate": "port_name=Port of Pascagoula, MS<br>month=%{x}<br>time_at_anchor_avg=%{y}<extra></extra>",
         "legendgroup": "Port of Pascagoula, MS",
         "line": {
          "color": "#FECB52",
          "dash": "solid"
         },
         "marker": {
          "symbol": "circle"
         },
         "mode": "lines",
         "name": "Port of Pascagoula, MS",
         "showlegend": true,
         "type": "scattergl",
         "x": [
          "2018-01-01T00:00:00",
          "2018-02-01T00:00:00",
          "2018-03-01T00:00:00",
          "2018-04-01T00:00:00",
          "2018-05-01T00:00:00",
          "2018-06-01T00:00:00",
          "2018-07-01T00:00:00",
          "2018-08-01T00:00:00",
          "2018-09-01T00:00:00",
          "2018-10-01T00:00:00",
          "2018-11-01T00:00:00",
          "2018-12-01T00:00:00",
          "2019-01-01T00:00:00",
          "2019-02-01T00:00:00",
          "2019-03-01T00:00:00",
          "2019-04-01T00:00:00",
          "2019-05-01T00:00:00",
          "2019-06-01T00:00:00",
          "2019-07-01T00:00:00",
          "2019-08-01T00:00:00",
          "2019-09-01T00:00:00",
          "2019-10-01T00:00:00",
          "2019-11-01T00:00:00",
          "2019-12-01T00:00:00"
         ],
         "xaxis": "x",
         "y": [
          41.15,
          13.466666666666667,
          49.333333333333336,
          12.9,
          29.65,
          22.95,
          33.3,
          22.916666666666668,
          34.28333333333333,
          39.13333333333333,
          19.766666666666666,
          28.083333333333332,
          32.06666666666666,
          33,
          0.016666666666666666,
          0.03333333333333333,
          32.208333333333336,
          19.5,
          35.416666666666664,
          3.6666666666666665,
          19.616666666666667,
          33.56666666666666,
          34.7,
          4.725
         ],
         "yaxis": "y"
        },
        {
         "hovertemplate": "port_name=Nawiliwili, Kaua'i, HI<br>month=%{x}<br>time_at_anchor_avg=%{y}<extra></extra>",
         "legendgroup": "Nawiliwili, Kaua'i, HI",
         "line": {
          "color": "#636efa",
          "dash": "solid"
         },
         "marker": {
          "symbol": "circle"
         },
         "mode": "lines",
         "name": "Nawiliwili, Kaua'i, HI",
         "showlegend": true,
         "type": "scattergl",
         "x": [
          "2018-01-01T00:00:00",
          "2018-02-01T00:00:00",
          "2018-03-01T00:00:00",
          "2018-04-01T00:00:00",
          "2018-06-01T00:00:00",
          "2018-07-01T00:00:00",
          "2018-08-01T00:00:00",
          "2018-09-01T00:00:00",
          "2018-10-01T00:00:00",
          "2018-12-01T00:00:00",
          "2019-01-01T00:00:00",
          "2019-02-01T00:00:00",
          "2019-03-01T00:00:00",
          "2019-04-01T00:00:00",
          "2019-05-01T00:00:00",
          "2019-06-01T00:00:00",
          "2019-07-01T00:00:00",
          "2019-08-01T00:00:00",
          "2019-09-01T00:00:00",
          "2019-10-01T00:00:00",
          "2019-11-01T00:00:00",
          "2019-12-01T00:00:00"
         ],
         "xaxis": "x",
         "y": [
          null,
          null,
          null,
          null,
          96.43333333333334,
          null,
          null,
          null,
          null,
          164.4,
          null,
          null,
          233.08333333333334,
          null,
          null,
          34.166666666666664,
          null,
          183.7,
          null,
          287.1666666666667,
          null,
          52.6
         ],
         "yaxis": "y"
        },
        {
         "hovertemplate": "port_name=Hilo, Hawai'i, HI<br>month=%{x}<br>time_at_anchor_avg=%{y}<extra></extra>",
         "legendgroup": "Hilo, Hawai'i, HI",
         "line": {
          "color": "#EF553B",
          "dash": "solid"
         },
         "marker": {
          "symbol": "circle"
         },
         "mode": "lines",
         "name": "Hilo, Hawai'i, HI",
         "showlegend": true,
         "type": "scattergl",
         "x": [
          "2018-01-01T00:00:00",
          "2018-02-01T00:00:00",
          "2018-07-01T00:00:00",
          "2018-11-01T00:00:00",
          "2019-12-01T00:00:00"
         ],
         "xaxis": "x",
         "y": [
          null,
          null,
          null,
          null,
          null
         ],
         "yaxis": "y"
        },
        {
         "hovertemplate": "port_name=Houston Port Authority, TX<br>month=%{x}<br>time_at_anchor_avg=%{y}<extra></extra>",
         "legendgroup": "Houston Port Authority, TX",
         "line": {
          "color": "#00cc96",
          "dash": "solid"
         },
         "marker": {
          "symbol": "circle"
         },
         "mode": "lines",
         "name": "Houston Port Authority, TX",
         "showlegend": true,
         "type": "scattergl",
         "x": [
          "2018-01-01T00:00:00",
          "2018-02-01T00:00:00",
          "2018-03-01T00:00:00",
          "2018-04-01T00:00:00",
          "2018-05-01T00:00:00",
          "2018-06-01T00:00:00",
          "2018-07-01T00:00:00",
          "2018-08-01T00:00:00",
          "2018-09-01T00:00:00",
          "2018-10-01T00:00:00",
          "2018-11-01T00:00:00",
          "2018-12-01T00:00:00",
          "2019-01-01T00:00:00",
          "2019-02-01T00:00:00",
          "2019-03-01T00:00:00",
          "2019-04-01T00:00:00",
          "2019-05-01T00:00:00",
          "2019-06-01T00:00:00",
          "2019-07-01T00:00:00",
          "2019-08-01T00:00:00",
          "2019-09-01T00:00:00",
          "2019-10-01T00:00:00",
          "2019-11-01T00:00:00",
          "2019-12-01T00:00:00"
         ],
         "xaxis": "x",
         "y": [
          21.383333333333333,
          41.775,
          31.099999999999998,
          29.7,
          31.766666666666666,
          22.75,
          29.633333333333333,
          26.75,
          26.2,
          22.616666666666667,
          24.6,
          20.525,
          23.5,
          42.56666666666666,
          49.25,
          50.108333333333334,
          2.3583333333333334,
          35.7,
          28.066666666666666,
          25.8,
          29.266666666666666,
          27.766666666666666,
          22.95,
          22.633333333333333
         ],
         "yaxis": "y"
        },
        {
         "hovertemplate": "port_name=Port of Gulfport, MS<br>month=%{x}<br>time_at_anchor_avg=%{y}<extra></extra>",
         "legendgroup": "Port of Gulfport, MS",
         "line": {
          "color": "#ab63fa",
          "dash": "solid"
         },
         "marker": {
          "symbol": "circle"
         },
         "mode": "lines",
         "name": "Port of Gulfport, MS",
         "showlegend": true,
         "type": "scattergl",
         "x": [
          "2018-01-01T00:00:00",
          "2018-02-01T00:00:00",
          "2018-03-01T00:00:00",
          "2018-04-01T00:00:00",
          "2018-05-01T00:00:00",
          "2018-06-01T00:00:00",
          "2018-07-01T00:00:00",
          "2018-08-01T00:00:00",
          "2018-09-01T00:00:00",
          "2018-10-01T00:00:00",
          "2018-11-01T00:00:00",
          "2018-12-01T00:00:00",
          "2019-01-01T00:00:00",
          "2019-02-01T00:00:00",
          "2019-03-01T00:00:00",
          "2019-04-01T00:00:00",
          "2019-05-01T00:00:00",
          "2019-06-01T00:00:00",
          "2019-07-01T00:00:00",
          "2019-08-01T00:00:00",
          "2019-09-01T00:00:00",
          "2019-10-01T00:00:00",
          "2019-11-01T00:00:00",
          "2019-12-01T00:00:00"
         ],
         "xaxis": "x",
         "y": [
          49.88333333333333,
          0.016666666666666666,
          79.55833333333334,
          39.93333333333333,
          1.3333333333333333,
          6.566666666666666,
          null,
          null,
          5.783333333333333,
          9.05,
          null,
          2.283333333333333,
          24.3,
          52.891666666666666,
          13.375,
          null,
          29.7,
          16.466666666666665,
          null,
          null,
          128.41666666666666,
          13.083333333333334,
          null,
          169.56666666666666
         ],
         "yaxis": "y"
        },
        {
         "hovertemplate": "port_name=Port Jefferson, NY<br>month=%{x}<br>time_at_anchor_avg=%{y}<extra></extra>",
         "legendgroup": "Port Jefferson, NY",
         "line": {
          "color": "#FFA15A",
          "dash": "solid"
         },
         "marker": {
          "symbol": "circle"
         },
         "mode": "lines",
         "name": "Port Jefferson, NY",
         "showlegend": true,
         "type": "scattergl",
         "x": [
          "2018-01-01T00:00:00",
          "2018-02-01T00:00:00",
          "2018-04-01T00:00:00",
          "2018-05-01T00:00:00",
          "2018-06-01T00:00:00",
          "2018-07-01T00:00:00",
          "2018-08-01T00:00:00",
          "2018-09-01T00:00:00",
          "2018-10-01T00:00:00",
          "2018-11-01T00:00:00",
          "2018-12-01T00:00:00",
          "2019-01-01T00:00:00",
          "2019-02-01T00:00:00",
          "2019-03-01T00:00:00",
          "2019-04-01T00:00:00",
          "2019-05-01T00:00:00",
          "2019-06-01T00:00:00",
          "2019-07-01T00:00:00",
          "2019-08-01T00:00:00",
          "2019-09-01T00:00:00",
          "2019-10-01T00:00:00",
          "2019-11-01T00:00:00",
          "2019-12-01T00:00:00"
         ],
         "xaxis": "x",
         "y": [
          10.85,
          111.83333333333333,
          19.266666666666666,
          1.1333333333333333,
          null,
          null,
          161.1,
          6.783333333333333,
          11.483333333333333,
          27.53333333333333,
          8.308333333333334,
          null,
          39.083333333333336,
          8,
          6.85,
          2.55,
          698.3666666666667,
          8.55,
          41.43333333333333,
          null,
          57.75,
          139.33333333333334,
          null
         ],
         "yaxis": "y"
        },
        {
         "hovertemplate": "port_name=Port of Savannah, GA<br>month=%{x}<br>time_at_anchor_avg=%{y}<extra></extra>",
         "legendgroup": "Port of Savannah, GA",
         "line": {
          "color": "#19d3f3",
          "dash": "solid"
         },
         "marker": {
          "symbol": "circle"
         },
         "mode": "lines",
         "name": "Port of Savannah, GA",
         "showlegend": true,
         "type": "scattergl",
         "x": [
          "2018-01-01T00:00:00",
          "2018-02-01T00:00:00",
          "2018-03-01T00:00:00",
          "2018-04-01T00:00:00",
          "2018-05-01T00:00:00",
          "2018-06-01T00:00:00",
          "2018-07-01T00:00:00",
          "2018-08-01T00:00:00",
          "2018-09-01T00:00:00",
          "2018-10-01T00:00:00",
          "2018-11-01T00:00:00",
          "2018-12-01T00:00:00",
          "2019-01-01T00:00:00",
          "2019-02-01T00:00:00",
          "2019-03-01T00:00:00",
          "2019-04-01T00:00:00",
          "2019-05-01T00:00:00",
          "2019-06-01T00:00:00",
          "2019-07-01T00:00:00",
          "2019-08-01T00:00:00",
          "2019-09-01T00:00:00",
          "2019-10-01T00:00:00",
          "2019-11-01T00:00:00",
          "2019-12-01T00:00:00"
         ],
         "xaxis": "x",
         "y": [
          29.333333333333332,
          25.433333333333334,
          19.15,
          16.35,
          18.508333333333333,
          12.983333333333333,
          16.95,
          13.033333333333333,
          22.891666666666666,
          24.966666666666665,
          16.416666666666668,
          18.333333333333332,
          42.416666666666664,
          35.708333333333336,
          39.833333333333336,
          14.883333333333333,
          14.683333333333334,
          29.333333333333332,
          23.78333333333333,
          24.03333333333333,
          22.416666666666668,
          17.266666666666666,
          16.958333333333332,
          16.516666666666666
         ],
         "yaxis": "y"
        },
        {
         "hovertemplate": "port_name=Port Everglades, FL<br>month=%{x}<br>time_at_anchor_avg=%{y}<extra></extra>",
         "legendgroup": "Port Everglades, FL",
         "line": {
          "color": "#FF6692",
          "dash": "solid"
         },
         "marker": {
          "symbol": "circle"
         },
         "mode": "lines",
         "name": "Port Everglades, FL",
         "showlegend": true,
         "type": "scattergl",
         "x": [
          "2018-01-01T00:00:00",
          "2018-02-01T00:00:00",
          "2018-03-01T00:00:00",
          "2018-04-01T00:00:00",
          "2018-05-01T00:00:00",
          "2018-06-01T00:00:00",
          "2018-07-01T00:00:00",
          "2018-08-01T00:00:00",
          "2018-09-01T00:00:00",
          "2018-10-01T00:00:00",
          "2018-11-01T00:00:00",
          "2018-12-01T00:00:00",
          "2019-01-01T00:00:00",
          "2019-02-01T00:00:00",
          "2019-03-01T00:00:00",
          "2019-04-01T00:00:00",
          "2019-05-01T00:00:00",
          "2019-06-01T00:00:00",
          "2019-07-01T00:00:00",
          "2019-08-01T00:00:00",
          "2019-09-01T00:00:00",
          "2019-10-01T00:00:00",
          "2019-11-01T00:00:00",
          "2019-12-01T00:00:00"
         ],
         "xaxis": "x",
         "y": [
          20.016666666666666,
          22.95,
          24.558333333333334,
          26.75,
          6.1,
          18.808333333333334,
          17.716666666666665,
          16.383333333333333,
          20.466666666666665,
          21.183333333333334,
          26.2,
          1.9333333333333333,
          7.533333333333333,
          14.6,
          27.15833333333333,
          21.166666666666668,
          12.283333333333333,
          16.766666666666666,
          19.275,
          11.808333333333334,
          15.533333333333333,
          14.225,
          13.95,
          19.216666666666665
         ],
         "yaxis": "y"
        },
        {
         "hovertemplate": "port_name=Greater Lafourche Port, LA<br>month=%{x}<br>time_at_anchor_avg=%{y}<extra></extra>",
         "legendgroup": "Greater Lafourche Port, LA",
         "line": {
          "color": "#B6E880",
          "dash": "solid"
         },
         "marker": {
          "symbol": "circle"
         },
         "mode": "lines",
         "name": "Greater Lafourche Port, LA",
         "showlegend": true,
         "type": "scattergl",
         "x": [
          "2018-01-01T00:00:00",
          "2018-02-01T00:00:00",
          "2018-03-01T00:00:00",
          "2018-04-01T00:00:00",
          "2018-05-01T00:00:00",
          "2018-06-01T00:00:00",
          "2018-07-01T00:00:00",
          "2018-08-01T00:00:00",
          "2018-09-01T00:00:00",
          "2018-10-01T00:00:00",
          "2018-11-01T00:00:00",
          "2018-12-01T00:00:00",
          "2019-01-01T00:00:00",
          "2019-02-01T00:00:00",
          "2019-03-01T00:00:00",
          "2019-04-01T00:00:00",
          "2019-05-01T00:00:00",
          "2019-06-01T00:00:00",
          "2019-07-01T00:00:00",
          "2019-08-01T00:00:00",
          "2019-09-01T00:00:00",
          "2019-10-01T00:00:00",
          "2019-11-01T00:00:00",
          "2019-12-01T00:00:00"
         ],
         "xaxis": "x",
         "y": [
          23.53333333333333,
          29.15,
          22.78333333333333,
          17.016666666666666,
          24.175,
          18.716666666666665,
          19.15833333333333,
          17.816666666666666,
          18.2,
          42.5,
          26.25,
          23.125,
          19.175,
          18.9,
          19.45,
          18.716666666666665,
          10.891666666666666,
          32.25833333333333,
          25.849999999999998,
          27.45,
          53.791666666666664,
          0.11666666666666667,
          15.383333333333333,
          17.858333333333334
         ],
         "yaxis": "y"
        },
        {
         "hovertemplate": "port_name=Stockton, CA<br>month=%{x}<br>time_at_anchor_avg=%{y}<extra></extra>",
         "legendgroup": "Stockton, CA",
         "line": {
          "color": "#FF97FF",
          "dash": "solid"
         },
         "marker": {
          "symbol": "circle"
         },
         "mode": "lines",
         "name": "Stockton, CA",
         "showlegend": true,
         "type": "scattergl",
         "x": [
          "2018-01-01T00:00:00",
          "2018-02-01T00:00:00",
          "2018-03-01T00:00:00",
          "2018-04-01T00:00:00",
          "2018-05-01T00:00:00",
          "2018-06-01T00:00:00",
          "2018-07-01T00:00:00",
          "2018-08-01T00:00:00",
          "2018-09-01T00:00:00",
          "2018-10-01T00:00:00",
          "2018-11-01T00:00:00",
          "2018-12-01T00:00:00",
          "2019-01-01T00:00:00",
          "2019-02-01T00:00:00",
          "2019-03-01T00:00:00",
          "2019-04-01T00:00:00",
          "2019-05-01T00:00:00",
          "2019-06-01T00:00:00",
          "2019-07-01T00:00:00",
          "2019-08-01T00:00:00",
          "2019-09-01T00:00:00",
          "2019-10-01T00:00:00",
          "2019-11-01T00:00:00",
          "2019-12-01T00:00:00"
         ],
         "xaxis": "x",
         "y": [
          25.366666666666667,
          78.18333333333334,
          22.816666666666666,
          25.15,
          36.43333333333333,
          28.78333333333333,
          139.3,
          38.3,
          33.8,
          18.05,
          23.716666666666665,
          17.825,
          18.583333333333332,
          15.333333333333334,
          21.53333333333333,
          41.483333333333334,
          15.133333333333333,
          19.75,
          29.15833333333333,
          20.25,
          16.333333333333332,
          25.65,
          22.425,
          20.3
         ],
         "yaxis": "y"
        },
        {
         "hovertemplate": "port_name=Lake Charles Harbor District, LA<br>month=%{x}<br>time_at_anchor_avg=%{y}<extra></extra>",
         "legendgroup": "Lake Charles Harbor District, LA",
         "line": {
          "color": "#FECB52",
          "dash": "solid"
         },
         "marker": {
          "symbol": "circle"
         },
         "mode": "lines",
         "name": "Lake Charles Harbor District, LA",
         "showlegend": true,
         "type": "scattergl",
         "x": [
          "2018-01-01T00:00:00",
          "2018-02-01T00:00:00",
          "2018-03-01T00:00:00",
          "2018-04-01T00:00:00",
          "2018-05-01T00:00:00",
          "2018-06-01T00:00:00",
          "2018-07-01T00:00:00",
          "2018-08-01T00:00:00",
          "2018-09-01T00:00:00",
          "2018-10-01T00:00:00",
          "2018-11-01T00:00:00",
          "2018-12-01T00:00:00",
          "2019-01-01T00:00:00",
          "2019-02-01T00:00:00",
          "2019-03-01T00:00:00",
          "2019-04-01T00:00:00",
          "2019-05-01T00:00:00",
          "2019-06-01T00:00:00",
          "2019-07-01T00:00:00",
          "2019-08-01T00:00:00",
          "2019-09-01T00:00:00",
          "2019-10-01T00:00:00",
          "2019-11-01T00:00:00",
          "2019-12-01T00:00:00"
         ],
         "xaxis": "x",
         "y": [
          32.46666666666667,
          28.3,
          25.483333333333334,
          27.883333333333333,
          25.866666666666667,
          28.358333333333334,
          22.066666666666666,
          28.683333333333334,
          27.383333333333333,
          25.366666666666667,
          26.666666666666668,
          25.483333333333334,
          28.78333333333333,
          39.766666666666666,
          22.416666666666668,
          38.06666666666666,
          3.3,
          28.90833333333333,
          23.058333333333334,
          27.083333333333332,
          32.266666666666666,
          25.95,
          25.75,
          15.616666666666667
         ],
         "yaxis": "y"
        },
        {
         "hovertemplate": "port_name=Detroit-Wayne County Port, MI<br>month=%{x}<br>time_at_anchor_avg=%{y}<extra></extra>",
         "legendgroup": "Detroit-Wayne County Port, MI",
         "line": {
          "color": "#636efa",
          "dash": "solid"
         },
         "marker": {
          "symbol": "circle"
         },
         "mode": "lines",
         "name": "Detroit-Wayne County Port, MI",
         "showlegend": true,
         "type": "scattergl",
         "x": [
          "2018-01-01T00:00:00",
          "2018-02-01T00:00:00",
          "2018-03-01T00:00:00",
          "2018-04-01T00:00:00",
          "2018-05-01T00:00:00",
          "2018-06-01T00:00:00",
          "2018-07-01T00:00:00",
          "2018-08-01T00:00:00",
          "2018-09-01T00:00:00",
          "2018-10-01T00:00:00",
          "2018-11-01T00:00:00",
          "2018-12-01T00:00:00",
          "2019-01-01T00:00:00",
          "2019-02-01T00:00:00",
          "2019-03-01T00:00:00",
          "2019-04-01T00:00:00",
          "2019-05-01T00:00:00",
          "2019-06-01T00:00:00",
          "2019-07-01T00:00:00",
          "2019-08-01T00:00:00",
          "2019-09-01T00:00:00",
          "2019-10-01T00:00:00",
          "2019-11-01T00:00:00",
          "2019-12-01T00:00:00"
         ],
         "xaxis": "x",
         "y": [
          24.216666666666665,
          75.5,
          null,
          6.475,
          24.1,
          16.166666666666668,
          9.033333333333333,
          19.366666666666667,
          33.93333333333333,
          16.683333333333334,
          11.525,
          11.466666666666667,
          14.15,
          4.8,
          null,
          6.966666666666667,
          4.475,
          2.1,
          10.133333333333333,
          13.316666666666666,
          8.791666666666666,
          21.05,
          20.491666666666667,
          14.9
         ],
         "yaxis": "y"
        },
        {
         "hovertemplate": "port_name=Cleveland-Cuyahoga Port, OH<br>month=%{x}<br>time_at_anchor_avg=%{y}<extra></extra>",
         "legendgroup": "Cleveland-Cuyahoga Port, OH",
         "line": {
          "color": "#EF553B",
          "dash": "solid"
         },
         "marker": {
          "symbol": "circle"
         },
         "mode": "lines",
         "name": "Cleveland-Cuyahoga Port, OH",
         "showlegend": true,
         "type": "scattergl",
         "x": [
          "2018-01-01T00:00:00",
          "2018-03-01T00:00:00",
          "2018-04-01T00:00:00",
          "2018-05-01T00:00:00",
          "2018-06-01T00:00:00",
          "2018-07-01T00:00:00",
          "2018-08-01T00:00:00",
          "2018-09-01T00:00:00",
          "2018-10-01T00:00:00",
          "2018-11-01T00:00:00",
          "2018-12-01T00:00:00",
          "2019-01-01T00:00:00",
          "2019-02-01T00:00:00",
          "2019-03-01T00:00:00",
          "2019-04-01T00:00:00",
          "2019-05-01T00:00:00",
          "2019-06-01T00:00:00",
          "2019-07-01T00:00:00",
          "2019-08-01T00:00:00",
          "2019-09-01T00:00:00",
          "2019-10-01T00:00:00",
          "2019-11-01T00:00:00",
          "2019-12-01T00:00:00"
         ],
         "xaxis": "x",
         "y": [
          40.03333333333333,
          null,
          4.566666666666666,
          5.775,
          4.15,
          9.083333333333334,
          7.183333333333334,
          6.033333333333333,
          11.183333333333334,
          0.016666666666666666,
          0.016666666666666666,
          866.1999999999999,
          null,
          null,
          6.741666666666666,
          4.15,
          12.733333333333333,
          5.533333333333333,
          8.25,
          12.175,
          16.058333333333334,
          8.75,
          13.75
         ],
         "yaxis": "y"
        },
        {
         "hovertemplate": "port_name=Guaynabo, PR<br>month=%{x}<br>time_at_anchor_avg=%{y}<extra></extra>",
         "legendgroup": "Guaynabo, PR",
         "line": {
          "color": "#00cc96",
          "dash": "solid"
         },
         "marker": {
          "symbol": "circle"
         },
         "mode": "lines",
         "name": "Guaynabo, PR",
         "showlegend": true,
         "type": "scattergl",
         "x": [
          "2018-01-01T00:00:00",
          "2018-02-01T00:00:00",
          "2018-03-01T00:00:00",
          "2018-04-01T00:00:00",
          "2018-05-01T00:00:00",
          "2018-06-01T00:00:00",
          "2018-07-01T00:00:00",
          "2018-08-01T00:00:00",
          "2018-09-01T00:00:00",
          "2018-10-01T00:00:00",
          "2018-11-01T00:00:00",
          "2018-12-01T00:00:00",
          "2019-01-01T00:00:00",
          "2019-02-01T00:00:00",
          "2019-03-01T00:00:00",
          "2019-04-01T00:00:00",
          "2019-05-01T00:00:00",
          "2019-06-01T00:00:00",
          "2019-07-01T00:00:00",
          "2019-08-01T00:00:00",
          "2019-09-01T00:00:00",
          "2019-10-01T00:00:00",
          "2019-11-01T00:00:00",
          "2019-12-01T00:00:00"
         ],
         "xaxis": "x",
         "y": [
          14.275,
          13.95,
          2.0666666666666664,
          23.35,
          0.6666666666666666,
          10.816666666666666,
          22.183333333333334,
          19.358333333333334,
          34.1,
          34.78333333333333,
          15.15,
          12.7,
          36.525,
          14.466666666666667,
          13.083333333333334,
          59.85,
          36.833333333333336,
          15.5,
          27.125,
          232.96666666666667,
          181.26666666666665,
          34.05833333333333,
          9.25,
          9.558333333333334
         ],
         "yaxis": "y"
        },
        {
         "hovertemplate": "port_name=Philadelphia Regional Port, PA<br>month=%{x}<br>time_at_anchor_avg=%{y}<extra></extra>",
         "legendgroup": "Philadelphia Regional Port, PA",
         "line": {
          "color": "#ab63fa",
          "dash": "solid"
         },
         "marker": {
          "symbol": "circle"
         },
         "mode": "lines",
         "name": "Philadelphia Regional Port, PA",
         "showlegend": true,
         "type": "scattergl",
         "x": [
          "2018-01-01T00:00:00",
          "2018-02-01T00:00:00",
          "2018-03-01T00:00:00",
          "2018-04-01T00:00:00",
          "2018-05-01T00:00:00",
          "2018-06-01T00:00:00",
          "2018-07-01T00:00:00",
          "2018-08-01T00:00:00",
          "2018-09-01T00:00:00",
          "2018-10-01T00:00:00",
          "2018-11-01T00:00:00",
          "2018-12-01T00:00:00",
          "2019-01-01T00:00:00",
          "2019-02-01T00:00:00",
          "2019-03-01T00:00:00",
          "2019-04-01T00:00:00",
          "2019-05-01T00:00:00",
          "2019-06-01T00:00:00",
          "2019-07-01T00:00:00",
          "2019-08-01T00:00:00",
          "2019-09-01T00:00:00",
          "2019-10-01T00:00:00",
          "2019-11-01T00:00:00",
          "2019-12-01T00:00:00"
         ],
         "xaxis": "x",
         "y": [
          11.983333333333333,
          10.125,
          15.433333333333334,
          13.841666666666667,
          14.266666666666666,
          15.916666666666666,
          14.141666666666666,
          14.75,
          11.358333333333333,
          11.05,
          10.65,
          12.666666666666666,
          7.75,
          16.116666666666667,
          12.916666666666666,
          15.766666666666666,
          12.258333333333333,
          8.75,
          11.358333333333333,
          7.366666666666666,
          0.15,
          1.0666666666666667,
          10.783333333333333,
          10.383333333333333
         ],
         "yaxis": "y"
        },
        {
         "hovertemplate": "port_name=Port Arthur, TX<br>month=%{x}<br>time_at_anchor_avg=%{y}<extra></extra>",
         "legendgroup": "Port Arthur, TX",
         "line": {
          "color": "#FFA15A",
          "dash": "solid"
         },
         "marker": {
          "symbol": "circle"
         },
         "mode": "lines",
         "name": "Port Arthur, TX",
         "showlegend": true,
         "type": "scattergl",
         "x": [
          "2018-01-01T00:00:00",
          "2018-02-01T00:00:00",
          "2018-03-01T00:00:00",
          "2018-04-01T00:00:00",
          "2018-05-01T00:00:00",
          "2018-06-01T00:00:00",
          "2018-07-01T00:00:00",
          "2018-08-01T00:00:00",
          "2018-09-01T00:00:00",
          "2018-10-01T00:00:00",
          "2018-11-01T00:00:00",
          "2018-12-01T00:00:00",
          "2019-01-01T00:00:00",
          "2019-02-01T00:00:00",
          "2019-03-01T00:00:00",
          "2019-04-01T00:00:00",
          "2019-05-01T00:00:00",
          "2019-06-01T00:00:00",
          "2019-07-01T00:00:00",
          "2019-08-01T00:00:00",
          "2019-09-01T00:00:00",
          "2019-10-01T00:00:00",
          "2019-11-01T00:00:00",
          "2019-12-01T00:00:00"
         ],
         "xaxis": "x",
         "y": [
          27.516666666666666,
          38.233333333333334,
          26.916666666666668,
          29.616666666666667,
          30.75,
          29.166666666666668,
          22.508333333333333,
          9.433333333333334,
          28.483333333333334,
          21.65,
          29.849999999999998,
          22.85,
          20.25,
          63.85,
          47.06666666666666,
          22.55,
          9.25,
          22.025,
          24.966666666666665,
          18.308333333333334,
          23.125,
          16.483333333333334,
          18.141666666666666,
          28.825
         ],
         "yaxis": "y"
        },
        {
         "hovertemplate": "port_name=Tacoma, WA<br>month=%{x}<br>time_at_anchor_avg=%{y}<extra></extra>",
         "legendgroup": "Tacoma, WA",
         "line": {
          "color": "#19d3f3",
          "dash": "solid"
         },
         "marker": {
          "symbol": "circle"
         },
         "mode": "lines",
         "name": "Tacoma, WA",
         "showlegend": true,
         "type": "scattergl",
         "x": [
          "2018-01-01T00:00:00",
          "2018-02-01T00:00:00",
          "2018-03-01T00:00:00",
          "2018-04-01T00:00:00",
          "2018-05-01T00:00:00",
          "2018-06-01T00:00:00",
          "2018-07-01T00:00:00",
          "2018-08-01T00:00:00",
          "2018-09-01T00:00:00",
          "2018-10-01T00:00:00",
          "2018-11-01T00:00:00",
          "2018-12-01T00:00:00",
          "2019-01-01T00:00:00",
          "2019-02-01T00:00:00",
          "2019-03-01T00:00:00",
          "2019-04-01T00:00:00",
          "2019-05-01T00:00:00",
          "2019-06-01T00:00:00",
          "2019-07-01T00:00:00",
          "2019-08-01T00:00:00",
          "2019-09-01T00:00:00",
          "2019-10-01T00:00:00",
          "2019-11-01T00:00:00",
          "2019-12-01T00:00:00"
         ],
         "xaxis": "x",
         "y": [
          60.3,
          150.61666666666667,
          164.63333333333333,
          56.30833333333333,
          124.29166666666667,
          208.45833333333334,
          65.95833333333333,
          39.63333333333333,
          74.71666666666667,
          16.5,
          71.18333333333334,
          21.65,
          24.15,
          41.31666666666666,
          33.1,
          5.4,
          29.516666666666666,
          44.725,
          17.475,
          5.25,
          10.483333333333333,
          25.366666666666667,
          4.741666666666666,
          29.133333333333333
         ],
         "yaxis": "y"
        },
        {
         "hovertemplate": "port_name=South Louisiana, LA, Port of<br>month=%{x}<br>time_at_anchor_avg=%{y}<extra></extra>",
         "legendgroup": "South Louisiana, LA, Port of",
         "line": {
          "color": "#FF6692",
          "dash": "solid"
         },
         "marker": {
          "symbol": "circle"
         },
         "mode": "lines",
         "name": "South Louisiana, LA, Port of",
         "showlegend": true,
         "type": "scattergl",
         "x": [
          "2018-01-01T00:00:00",
          "2018-02-01T00:00:00",
          "2018-03-01T00:00:00",
          "2018-04-01T00:00:00",
          "2018-05-01T00:00:00",
          "2018-06-01T00:00:00",
          "2018-07-01T00:00:00",
          "2018-08-01T00:00:00",
          "2018-09-01T00:00:00",
          "2018-10-01T00:00:00",
          "2018-11-01T00:00:00",
          "2018-12-01T00:00:00",
          "2019-01-01T00:00:00",
          "2019-02-01T00:00:00",
          "2019-03-01T00:00:00",
          "2019-04-01T00:00:00",
          "2019-05-01T00:00:00",
          "2019-06-01T00:00:00",
          "2019-07-01T00:00:00",
          "2019-08-01T00:00:00",
          "2019-09-01T00:00:00",
          "2019-10-01T00:00:00",
          "2019-11-01T00:00:00",
          "2019-12-01T00:00:00"
         ],
         "xaxis": "x",
         "y": [
          41.225,
          25.966666666666665,
          23.166666666666668,
          30.599999999999998,
          28.966666666666665,
          31.05,
          33.65,
          23.883333333333333,
          26.616666666666667,
          31.566666666666666,
          30.916666666666668,
          28.03333333333333,
          33.275,
          42.516666666666666,
          40.86666666666667,
          31.016666666666666,
          29.083333333333332,
          27.766666666666666,
          30.5,
          22.958333333333332,
          4,
          24.53333333333333,
          27.883333333333333,
          14.433333333333334
         ],
         "yaxis": "y"
        },
        {
         "hovertemplate": "port_name=Yabucoa, PR<br>month=%{x}<br>time_at_anchor_avg=%{y}<extra></extra>",
         "legendgroup": "Yabucoa, PR",
         "line": {
          "color": "#B6E880",
          "dash": "solid"
         },
         "marker": {
          "symbol": "circle"
         },
         "mode": "lines",
         "name": "Yabucoa, PR",
         "showlegend": true,
         "type": "scattergl",
         "x": [
          "2018-01-01T00:00:00",
          "2018-02-01T00:00:00",
          "2018-03-01T00:00:00",
          "2018-04-01T00:00:00",
          "2018-05-01T00:00:00",
          "2018-06-01T00:00:00",
          "2018-07-01T00:00:00",
          "2018-08-01T00:00:00",
          "2018-09-01T00:00:00",
          "2018-10-01T00:00:00",
          "2018-11-01T00:00:00",
          "2018-12-01T00:00:00",
          "2019-01-01T00:00:00",
          "2019-02-01T00:00:00",
          "2019-03-01T00:00:00",
          "2019-04-01T00:00:00",
          "2019-05-01T00:00:00",
          "2019-06-01T00:00:00",
          "2019-07-01T00:00:00",
          "2019-08-01T00:00:00",
          "2019-09-01T00:00:00",
          "2019-10-01T00:00:00",
          "2019-11-01T00:00:00",
          "2019-12-01T00:00:00"
         ],
         "xaxis": "x",
         "y": [
          15.733333333333333,
          45.916666666666664,
          0.13333333333333333,
          8.658333333333333,
          1.0916666666666666,
          4.5,
          19.191666666666666,
          26.133333333333333,
          48.541666666666664,
          36.11666666666667,
          22.666666666666668,
          22.191666666666666,
          22.2,
          4.116666666666666,
          17.958333333333332,
          22.416666666666668,
          11.808333333333334,
          9.666666666666666,
          32.81666666666666,
          20.525,
          115.83333333333333,
          16.333333333333332,
          null,
          39.74166666666667
         ],
         "yaxis": "y"
        },
        {
         "hovertemplate": "port_name=Port of Longview, WA<br>month=%{x}<br>time_at_anchor_avg=%{y}<extra></extra>",
         "legendgroup": "Port of Longview, WA",
         "line": {
          "color": "#FF97FF",
          "dash": "solid"
         },
         "marker": {
          "symbol": "circle"
         },
         "mode": "lines",
         "name": "Port of Longview, WA",
         "showlegend": true,
         "type": "scattergl",
         "x": [
          "2018-01-01T00:00:00",
          "2018-02-01T00:00:00",
          "2018-03-01T00:00:00",
          "2018-04-01T00:00:00",
          "2018-05-01T00:00:00",
          "2018-06-01T00:00:00",
          "2018-07-01T00:00:00",
          "2018-08-01T00:00:00",
          "2018-09-01T00:00:00",
          "2018-10-01T00:00:00",
          "2018-11-01T00:00:00",
          "2018-12-01T00:00:00",
          "2019-01-01T00:00:00",
          "2019-02-01T00:00:00",
          "2019-03-01T00:00:00",
          "2019-04-01T00:00:00",
          "2019-05-01T00:00:00",
          "2019-06-01T00:00:00",
          "2019-07-01T00:00:00",
          "2019-08-01T00:00:00",
          "2019-09-01T00:00:00",
          "2019-10-01T00:00:00",
          "2019-11-01T00:00:00",
          "2019-12-01T00:00:00"
         ],
         "xaxis": "x",
         "y": [
          23.25,
          68.8,
          89.05,
          68.76666666666667,
          61.94166666666666,
          106.55833333333334,
          54.56666666666666,
          21.425,
          36.55,
          25.841666666666665,
          22.991666666666667,
          49.15833333333333,
          22.058333333333334,
          134.53333333333333,
          69.01666666666667,
          0.016666666666666666,
          45.791666666666664,
          92.63333333333333,
          25.416666666666668,
          73.13333333333333,
          59.449999999999996,
          57.88333333333333,
          41.916666666666664,
          18.95
         ],
         "yaxis": "y"
        },
        {
         "hovertemplate": "port_name=Wilmington, NC<br>month=%{x}<br>time_at_anchor_avg=%{y}<extra></extra>",
         "legendgroup": "Wilmington, NC",
         "line": {
          "color": "#FECB52",
          "dash": "solid"
         },
         "marker": {
          "symbol": "circle"
         },
         "mode": "lines",
         "name": "Wilmington, NC",
         "showlegend": true,
         "type": "scattergl",
         "x": [
          "2018-01-01T00:00:00",
          "2018-02-01T00:00:00",
          "2018-03-01T00:00:00",
          "2018-04-01T00:00:00",
          "2018-05-01T00:00:00",
          "2018-06-01T00:00:00",
          "2018-07-01T00:00:00",
          "2018-08-01T00:00:00",
          "2018-09-01T00:00:00",
          "2018-10-01T00:00:00",
          "2018-11-01T00:00:00",
          "2018-12-01T00:00:00",
          "2019-01-01T00:00:00",
          "2019-02-01T00:00:00",
          "2019-03-01T00:00:00",
          "2019-04-01T00:00:00",
          "2019-05-01T00:00:00",
          "2019-06-01T00:00:00",
          "2019-07-01T00:00:00",
          "2019-08-01T00:00:00",
          "2019-09-01T00:00:00",
          "2019-10-01T00:00:00",
          "2019-11-01T00:00:00",
          "2019-12-01T00:00:00"
         ],
         "xaxis": "x",
         "y": [
          30.716666666666665,
          11.908333333333333,
          12.991666666666667,
          13.883333333333333,
          17.916666666666668,
          12.408333333333333,
          19,
          9.391666666666666,
          26.591666666666665,
          27.95,
          20,
          11.833333333333334,
          25.816666666666666,
          29.683333333333334,
          11.891666666666666,
          19.666666666666668,
          10.833333333333334,
          17.5,
          12.175,
          6.275,
          15.141666666666666,
          9.875,
          13.225,
          11.533333333333333
         ],
         "yaxis": "y"
        },
        {
         "hovertemplate": "port_name=Calhoun Port Authority, TX<br>month=%{x}<br>time_at_anchor_avg=%{y}<extra></extra>",
         "legendgroup": "Calhoun Port Authority, TX",
         "line": {
          "color": "#636efa",
          "dash": "solid"
         },
         "marker": {
          "symbol": "circle"
         },
         "mode": "lines",
         "name": "Calhoun Port Authority, TX",
         "showlegend": true,
         "type": "scattergl",
         "x": [
          "2018-01-01T00:00:00",
          "2018-02-01T00:00:00",
          "2018-03-01T00:00:00",
          "2018-04-01T00:00:00",
          "2018-05-01T00:00:00",
          "2018-06-01T00:00:00",
          "2018-07-01T00:00:00",
          "2018-08-01T00:00:00",
          "2018-09-01T00:00:00",
          "2018-10-01T00:00:00",
          "2018-11-01T00:00:00",
          "2018-12-01T00:00:00",
          "2019-01-01T00:00:00",
          "2019-02-01T00:00:00",
          "2019-03-01T00:00:00",
          "2019-04-01T00:00:00",
          "2019-05-01T00:00:00",
          "2019-06-01T00:00:00",
          "2019-07-01T00:00:00",
          "2019-08-01T00:00:00",
          "2019-09-01T00:00:00",
          "2019-10-01T00:00:00",
          "2019-11-01T00:00:00",
          "2019-12-01T00:00:00"
         ],
         "xaxis": "x",
         "y": [
          25.6,
          43.016666666666666,
          18.183333333333334,
          22.5,
          23.516666666666666,
          27.175,
          22.833333333333332,
          22.716666666666665,
          14.5,
          40.325,
          23.575,
          47.03333333333333,
          14.616666666666667,
          18.35,
          18.041666666666668,
          6.866666666666666,
          12.066666666666666,
          20.066666666666666,
          11.85,
          13.083333333333334,
          14.066666666666666,
          25.933333333333334,
          38.233333333333334,
          19.8
         ],
         "yaxis": "y"
        },
        {
         "hovertemplate": "port_name=Panama City Port Authority, FL<br>month=%{x}<br>time_at_anchor_avg=%{y}<extra></extra>",
         "legendgroup": "Panama City Port Authority, FL",
         "line": {
          "color": "#EF553B",
          "dash": "solid"
         },
         "marker": {
          "symbol": "circle"
         },
         "mode": "lines",
         "name": "Panama City Port Authority, FL",
         "showlegend": true,
         "type": "scattergl",
         "x": [
          "2018-01-01T00:00:00",
          "2018-02-01T00:00:00",
          "2018-03-01T00:00:00",
          "2018-04-01T00:00:00",
          "2018-05-01T00:00:00",
          "2018-06-01T00:00:00",
          "2018-07-01T00:00:00",
          "2018-08-01T00:00:00",
          "2018-09-01T00:00:00",
          "2018-10-01T00:00:00",
          "2018-11-01T00:00:00",
          "2018-12-01T00:00:00",
          "2019-01-01T00:00:00",
          "2019-02-01T00:00:00",
          "2019-03-01T00:00:00",
          "2019-04-01T00:00:00",
          "2019-05-01T00:00:00",
          "2019-06-01T00:00:00",
          "2019-07-01T00:00:00",
          "2019-08-01T00:00:00",
          "2019-09-01T00:00:00",
          "2019-10-01T00:00:00",
          "2019-11-01T00:00:00",
          "2019-12-01T00:00:00"
         ],
         "xaxis": "x",
         "y": [
          33.95,
          2.05,
          8.566666666666666,
          27.858333333333334,
          6.75,
          38.99166666666667,
          78.85,
          172.525,
          12.675,
          23.03333333333333,
          55.61666666666667,
          64.7,
          35.93333333333333,
          64.23333333333333,
          40.53333333333333,
          25.216666666666665,
          26.8,
          34.9,
          31.183333333333334,
          22.416666666666668,
          null,
          32.6,
          7.483333333333333,
          35.233333333333334
         ],
         "yaxis": "y"
        },
        {
         "hovertemplate": "port_name=Morehead City, NC<br>month=%{x}<br>time_at_anchor_avg=%{y}<extra></extra>",
         "legendgroup": "Morehead City, NC",
         "line": {
          "color": "#00cc96",
          "dash": "solid"
         },
         "marker": {
          "symbol": "circle"
         },
         "mode": "lines",
         "name": "Morehead City, NC",
         "showlegend": true,
         "type": "scattergl",
         "x": [
          "2018-01-01T00:00:00",
          "2018-02-01T00:00:00",
          "2018-03-01T00:00:00",
          "2018-04-01T00:00:00",
          "2018-05-01T00:00:00",
          "2018-06-01T00:00:00",
          "2018-07-01T00:00:00",
          "2018-08-01T00:00:00",
          "2018-09-01T00:00:00",
          "2018-10-01T00:00:00",
          "2018-11-01T00:00:00",
          "2018-12-01T00:00:00",
          "2019-01-01T00:00:00",
          "2019-02-01T00:00:00",
          "2019-03-01T00:00:00",
          "2019-04-01T00:00:00",
          "2019-05-01T00:00:00",
          "2019-06-01T00:00:00",
          "2019-07-01T00:00:00",
          "2019-08-01T00:00:00",
          "2019-09-01T00:00:00",
          "2019-10-01T00:00:00",
          "2019-11-01T00:00:00",
          "2019-12-01T00:00:00"
         ],
         "xaxis": "x",
         "y": [
          24.666666666666668,
          6.408333333333333,
          5.583333333333333,
          10.983333333333333,
          32.11666666666667,
          17.083333333333332,
          18.6,
          34.3,
          68.775,
          31.15833333333333,
          73.31666666666666,
          18.508333333333333,
          14.15,
          23.15833333333333,
          13.833333333333334,
          17.891666666666666,
          24.133333333333333,
          25.766666666666666,
          118.73333333333333,
          16.05,
          33.65,
          14.566666666666666,
          11.466666666666667,
          22.591666666666665
         ],
         "yaxis": "y"
        },
        {
         "hovertemplate": "port_name=Port of Alaska, AK<br>month=%{x}<br>time_at_anchor_avg=%{y}<extra></extra>",
         "legendgroup": "Port of Alaska, AK",
         "line": {
          "color": "#ab63fa",
          "dash": "solid"
         },
         "marker": {
          "symbol": "circle"
         },
         "mode": "lines",
         "name": "Port of Alaska, AK",
         "showlegend": true,
         "type": "scattergl",
         "x": [
          "2018-01-01T00:00:00",
          "2018-02-01T00:00:00",
          "2018-03-01T00:00:00",
          "2018-04-01T00:00:00",
          "2018-05-01T00:00:00",
          "2018-06-01T00:00:00",
          "2018-07-01T00:00:00",
          "2018-08-01T00:00:00",
          "2018-09-01T00:00:00",
          "2018-10-01T00:00:00",
          "2018-11-01T00:00:00",
          "2018-12-01T00:00:00",
          "2019-01-01T00:00:00",
          "2019-02-01T00:00:00",
          "2019-03-01T00:00:00",
          "2019-04-01T00:00:00",
          "2019-05-01T00:00:00",
          "2019-06-01T00:00:00",
          "2019-07-01T00:00:00",
          "2019-08-01T00:00:00",
          "2019-09-01T00:00:00",
          "2019-10-01T00:00:00",
          "2019-11-01T00:00:00",
          "2019-12-01T00:00:00"
         ],
         "xaxis": "x",
         "y": [
          7,
          8.308333333333334,
          null,
          343.2,
          8.441666666666666,
          21.166666666666668,
          23.741666666666667,
          27.55,
          46.108333333333334,
          13.125,
          null,
          35.06666666666666,
          157.6,
          19.05,
          11.1,
          null,
          12.983333333333333,
          null,
          null,
          32.55,
          null,
          70.43333333333334,
          33.016666666666666,
          null
         ],
         "yaxis": "y"
        },
        {
         "hovertemplate": "port_name=Guayama, PR<br>month=%{x}<br>time_at_anchor_avg=%{y}<extra></extra>",
         "legendgroup": "Guayama, PR",
         "line": {
          "color": "#FFA15A",
          "dash": "solid"
         },
         "marker": {
          "symbol": "circle"
         },
         "mode": "lines",
         "name": "Guayama, PR",
         "showlegend": true,
         "type": "scattergl",
         "x": [
          "2018-01-01T00:00:00",
          "2018-02-01T00:00:00",
          "2018-03-01T00:00:00",
          "2018-04-01T00:00:00",
          "2018-05-01T00:00:00",
          "2018-06-01T00:00:00",
          "2018-07-01T00:00:00",
          "2018-08-01T00:00:00",
          "2018-09-01T00:00:00",
          "2018-10-01T00:00:00",
          "2018-11-01T00:00:00",
          "2018-12-01T00:00:00",
          "2019-01-01T00:00:00",
          "2019-02-01T00:00:00",
          "2019-03-01T00:00:00",
          "2019-04-01T00:00:00",
          "2019-05-01T00:00:00",
          "2019-06-01T00:00:00",
          "2019-07-01T00:00:00",
          "2019-08-01T00:00:00",
          "2019-09-01T00:00:00",
          "2019-10-01T00:00:00",
          "2019-11-01T00:00:00",
          "2019-12-01T00:00:00"
         ],
         "xaxis": "x",
         "y": [
          29.474999999999998,
          21.266666666666666,
          13.933333333333334,
          25.833333333333332,
          31.983333333333334,
          24.891666666666666,
          18.516666666666666,
          35.46666666666667,
          38.483333333333334,
          32.05,
          11.483333333333333,
          12.783333333333333,
          25.308333333333334,
          45.18333333333333,
          62.99166666666667,
          74.85,
          41.15,
          27.933333333333334,
          19.85,
          30.333333333333332,
          13.799999999999999,
          10.3,
          34,
          0.14166666666666666
         ],
         "yaxis": "y"
        },
        {
         "hovertemplate": "port_name=Corpus Christi, TX<br>month=%{x}<br>time_at_anchor_avg=%{y}<extra></extra>",
         "legendgroup": "Corpus Christi, TX",
         "line": {
          "color": "#19d3f3",
          "dash": "solid"
         },
         "marker": {
          "symbol": "circle"
         },
         "mode": "lines",
         "name": "Corpus Christi, TX",
         "showlegend": true,
         "type": "scattergl",
         "x": [
          "2018-01-01T00:00:00",
          "2018-02-01T00:00:00",
          "2018-03-01T00:00:00",
          "2018-04-01T00:00:00",
          "2018-05-01T00:00:00",
          "2018-06-01T00:00:00",
          "2018-07-01T00:00:00",
          "2018-08-01T00:00:00",
          "2018-09-01T00:00:00",
          "2018-10-01T00:00:00",
          "2018-11-01T00:00:00",
          "2018-12-01T00:00:00",
          "2019-01-01T00:00:00",
          "2019-02-01T00:00:00",
          "2019-03-01T00:00:00",
          "2019-04-01T00:00:00",
          "2019-05-01T00:00:00",
          "2019-06-01T00:00:00",
          "2019-07-01T00:00:00",
          "2019-08-01T00:00:00",
          "2019-09-01T00:00:00",
          "2019-10-01T00:00:00",
          "2019-11-01T00:00:00",
          "2019-12-01T00:00:00"
         ],
         "xaxis": "x",
         "y": [
          36.475,
          18.725,
          46.8,
          34.53333333333333,
          30.05,
          28.541666666666668,
          37.55,
          23.15833333333333,
          15.133333333333333,
          29.066666666666666,
          26.133333333333333,
          30.724999999999998,
          27.491666666666667,
          28.133333333333333,
          29.25,
          37.68333333333333,
          11.7,
          21.808333333333334,
          29.2,
          26.066666666666666,
          25.958333333333332,
          29.599999999999998,
          29.883333333333333,
          30.183333333333334
         ],
         "yaxis": "y"
        },
        {
         "hovertemplate": "port_name=Albany Port District, NY<br>month=%{x}<br>time_at_anchor_avg=%{y}<extra></extra>",
         "legendgroup": "Albany Port District, NY",
         "line": {
          "color": "#FF6692",
          "dash": "solid"
         },
         "marker": {
          "symbol": "circle"
         },
         "mode": "lines",
         "name": "Albany Port District, NY",
         "showlegend": true,
         "type": "scattergl",
         "x": [
          "2018-01-01T00:00:00",
          "2018-02-01T00:00:00",
          "2018-03-01T00:00:00",
          "2018-04-01T00:00:00",
          "2018-05-01T00:00:00",
          "2018-06-01T00:00:00",
          "2018-07-01T00:00:00",
          "2018-08-01T00:00:00",
          "2018-09-01T00:00:00",
          "2018-10-01T00:00:00",
          "2018-11-01T00:00:00",
          "2018-12-01T00:00:00",
          "2019-01-01T00:00:00",
          "2019-02-01T00:00:00",
          "2019-03-01T00:00:00",
          "2019-04-01T00:00:00",
          "2019-05-01T00:00:00",
          "2019-06-01T00:00:00",
          "2019-07-01T00:00:00",
          "2019-08-01T00:00:00",
          "2019-09-01T00:00:00",
          "2019-10-01T00:00:00",
          "2019-11-01T00:00:00",
          "2019-12-01T00:00:00"
         ],
         "xaxis": "x",
         "y": [
          15.508333333333333,
          12.883333333333333,
          17.766666666666666,
          14.441666666666666,
          10.491666666666667,
          9.575,
          9.6,
          7.95,
          11.533333333333333,
          10.9,
          8.833333333333334,
          13.566666666666666,
          34.15,
          18.125,
          11.666666666666666,
          13.225,
          11.516666666666666,
          14.183333333333334,
          11.491666666666667,
          8.458333333333334,
          7.3999999999999995,
          13.083333333333334,
          13.799999999999999,
          11.733333333333333
         ],
         "yaxis": "y"
        },
        {
         "hovertemplate": "port_name=Port of Charleston, SC<br>month=%{x}<br>time_at_anchor_avg=%{y}<extra></extra>",
         "legendgroup": "Port of Charleston, SC",
         "line": {
          "color": "#B6E880",
          "dash": "solid"
         },
         "marker": {
          "symbol": "circle"
         },
         "mode": "lines",
         "name": "Port of Charleston, SC",
         "showlegend": true,
         "type": "scattergl",
         "x": [
          "2018-01-01T00:00:00",
          "2018-02-01T00:00:00",
          "2018-03-01T00:00:00",
          "2018-04-01T00:00:00",
          "2018-05-01T00:00:00",
          "2018-06-01T00:00:00",
          "2018-07-01T00:00:00",
          "2018-08-01T00:00:00",
          "2018-09-01T00:00:00",
          "2018-10-01T00:00:00",
          "2018-11-01T00:00:00",
          "2018-12-01T00:00:00",
          "2019-01-01T00:00:00",
          "2019-02-01T00:00:00",
          "2019-03-01T00:00:00",
          "2019-04-01T00:00:00",
          "2019-05-01T00:00:00",
          "2019-06-01T00:00:00",
          "2019-07-01T00:00:00",
          "2019-08-01T00:00:00",
          "2019-09-01T00:00:00",
          "2019-10-01T00:00:00",
          "2019-11-01T00:00:00",
          "2019-12-01T00:00:00"
         ],
         "xaxis": "x",
         "y": [
          22.933333333333334,
          16.53333333333333,
          21.916666666666668,
          36.833333333333336,
          15.558333333333334,
          18.516666666666666,
          15.883333333333333,
          15.366666666666667,
          12.666666666666666,
          14,
          9.75,
          12.525,
          15.191666666666666,
          15.033333333333333,
          17.958333333333332,
          11.283333333333333,
          14.616666666666667,
          25.091666666666665,
          11.45,
          16.633333333333333,
          14.708333333333334,
          19.066666666666666,
          18.333333333333332,
          14.566666666666666
         ],
         "yaxis": "y"
        },
        {
         "hovertemplate": "port_name=Kahului, Maui, HI<br>month=%{x}<br>time_at_anchor_avg=%{y}<extra></extra>",
         "legendgroup": "Kahului, Maui, HI",
         "line": {
          "color": "#FF97FF",
          "dash": "solid"
         },
         "marker": {
          "symbol": "circle"
         },
         "mode": "lines",
         "name": "Kahului, Maui, HI",
         "showlegend": true,
         "type": "scattergl",
         "x": [
          "2018-01-01T00:00:00",
          "2018-02-01T00:00:00",
          "2018-03-01T00:00:00",
          "2018-04-01T00:00:00",
          "2018-06-01T00:00:00",
          "2018-07-01T00:00:00",
          "2018-08-01T00:00:00",
          "2018-09-01T00:00:00",
          "2018-10-01T00:00:00",
          "2018-11-01T00:00:00",
          "2018-12-01T00:00:00",
          "2019-01-01T00:00:00",
          "2019-02-01T00:00:00",
          "2019-03-01T00:00:00",
          "2019-04-01T00:00:00",
          "2019-05-01T00:00:00",
          "2019-06-01T00:00:00",
          "2019-07-01T00:00:00",
          "2019-08-01T00:00:00",
          "2019-09-01T00:00:00",
          "2019-10-01T00:00:00",
          "2019-11-01T00:00:00",
          "2019-12-01T00:00:00"
         ],
         "xaxis": "x",
         "y": [
          5.65,
          null,
          null,
          null,
          null,
          null,
          null,
          null,
          null,
          null,
          48.03333333333333,
          null,
          null,
          null,
          159.79166666666666,
          null,
          54.083333333333336,
          149.15,
          null,
          66.05,
          52.36666666666667,
          null,
          72.75
         ],
         "yaxis": "y"
        },
        {
         "hovertemplate": "port_name=Nikiski, AK<br>month=%{x}<br>time_at_anchor_avg=%{y}<extra></extra>",
         "legendgroup": "Nikiski, AK",
         "line": {
          "color": "#FECB52",
          "dash": "solid"
         },
         "marker": {
          "symbol": "circle"
         },
         "mode": "lines",
         "name": "Nikiski, AK",
         "showlegend": true,
         "type": "scattergl",
         "x": [
          "2018-01-01T00:00:00",
          "2018-02-01T00:00:00",
          "2018-03-01T00:00:00",
          "2018-04-01T00:00:00",
          "2018-05-01T00:00:00",
          "2018-06-01T00:00:00",
          "2018-07-01T00:00:00",
          "2018-08-01T00:00:00",
          "2018-09-01T00:00:00",
          "2018-10-01T00:00:00",
          "2018-11-01T00:00:00",
          "2018-12-01T00:00:00",
          "2019-01-01T00:00:00",
          "2019-02-01T00:00:00",
          "2019-03-01T00:00:00",
          "2019-04-01T00:00:00",
          "2019-05-01T00:00:00",
          "2019-06-01T00:00:00",
          "2019-07-01T00:00:00",
          "2019-08-01T00:00:00",
          "2019-09-01T00:00:00",
          "2019-10-01T00:00:00",
          "2019-11-01T00:00:00",
          "2019-12-01T00:00:00"
         ],
         "xaxis": "x",
         "y": [
          40.18333333333333,
          232.96666666666667,
          5.016666666666667,
          94.91666666666667,
          401.3833333333333,
          34.083333333333336,
          0.016666666666666666,
          9.433333333333334,
          20.766666666666666,
          null,
          0.016666666666666666,
          0.016666666666666666,
          null,
          null,
          null,
          null,
          135.6,
          96.70833333333333,
          38.1,
          null,
          82.04166666666667,
          14.9,
          4.416666666666667,
          12.633333333333333
         ],
         "yaxis": "y"
        },
        {
         "hovertemplate": "port_name=San Diego Unified Port, CA<br>month=%{x}<br>time_at_anchor_avg=%{y}<extra></extra>",
         "legendgroup": "San Diego Unified Port, CA",
         "line": {
          "color": "#636efa",
          "dash": "solid"
         },
         "marker": {
          "symbol": "circle"
         },
         "mode": "lines",
         "name": "San Diego Unified Port, CA",
         "showlegend": true,
         "type": "scattergl",
         "x": [
          "2018-01-01T00:00:00",
          "2018-02-01T00:00:00",
          "2018-03-01T00:00:00",
          "2018-04-01T00:00:00",
          "2018-05-01T00:00:00",
          "2018-06-01T00:00:00",
          "2018-07-01T00:00:00",
          "2018-08-01T00:00:00",
          "2018-09-01T00:00:00",
          "2018-10-01T00:00:00",
          "2018-11-01T00:00:00",
          "2018-12-01T00:00:00",
          "2019-01-01T00:00:00",
          "2019-02-01T00:00:00",
          "2019-03-01T00:00:00",
          "2019-04-01T00:00:00",
          "2019-05-01T00:00:00",
          "2019-06-01T00:00:00",
          "2019-07-01T00:00:00",
          "2019-08-01T00:00:00",
          "2019-09-01T00:00:00",
          "2019-10-01T00:00:00",
          "2019-11-01T00:00:00",
          "2019-12-01T00:00:00"
         ],
         "xaxis": "x",
         "y": [
          21.583333333333332,
          23.475,
          20.516666666666666,
          20.633333333333333,
          22.308333333333334,
          28.95,
          32.68333333333333,
          43.88333333333333,
          26.583333333333332,
          22.733333333333334,
          19.85,
          31.599999999999998,
          29.825,
          18.78333333333333,
          20.708333333333332,
          19.575,
          72.48333333333333,
          45.86666666666667,
          11.591666666666667,
          22.716666666666665,
          25.833333333333332,
          22.7,
          49.28333333333333,
          44.86666666666667
         ],
         "yaxis": "y"
        },
        {
         "hovertemplate": "port_name=Toledo-Lucas County Port, OH<br>month=%{x}<br>time_at_anchor_avg=%{y}<extra></extra>",
         "legendgroup": "Toledo-Lucas County Port, OH",
         "line": {
          "color": "#EF553B",
          "dash": "solid"
         },
         "marker": {
          "symbol": "circle"
         },
         "mode": "lines",
         "name": "Toledo-Lucas County Port, OH",
         "showlegend": true,
         "type": "scattergl",
         "x": [
          "2018-01-01T00:00:00",
          "2018-03-01T00:00:00",
          "2018-04-01T00:00:00",
          "2018-05-01T00:00:00",
          "2018-06-01T00:00:00",
          "2018-07-01T00:00:00",
          "2018-08-01T00:00:00",
          "2018-09-01T00:00:00",
          "2018-10-01T00:00:00",
          "2018-11-01T00:00:00",
          "2018-12-01T00:00:00",
          "2019-01-01T00:00:00",
          "2019-02-01T00:00:00",
          "2019-03-01T00:00:00",
          "2019-04-01T00:00:00",
          "2019-05-01T00:00:00",
          "2019-06-01T00:00:00",
          "2019-07-01T00:00:00",
          "2019-08-01T00:00:00",
          "2019-09-01T00:00:00",
          "2019-10-01T00:00:00",
          "2019-11-01T00:00:00",
          "2019-12-01T00:00:00"
         ],
         "xaxis": "x",
         "y": [
          20.4,
          9.25,
          14.799999999999999,
          5.075,
          29.166666666666668,
          6.366666666666666,
          11.833333333333334,
          13.625,
          4.308333333333334,
          22.1,
          15.85,
          20.358333333333334,
          null,
          1.8333333333333333,
          12.825,
          34.641666666666666,
          29.633333333333333,
          13.491666666666667,
          8.458333333333334,
          24.016666666666666,
          19.316666666666666,
          13.141666666666666,
          11.975
         ],
         "yaxis": "y"
        },
        {
         "hovertemplate": "port_name=Marquette, MI<br>month=%{x}<br>time_at_anchor_avg=%{y}<extra></extra>",
         "legendgroup": "Marquette, MI",
         "line": {
          "color": "#00cc96",
          "dash": "solid"
         },
         "marker": {
          "symbol": "circle"
         },
         "mode": "lines",
         "name": "Marquette, MI",
         "showlegend": true,
         "type": "scattergl",
         "x": [
          "2018-01-01T00:00:00",
          "2018-03-01T00:00:00",
          "2018-04-01T00:00:00",
          "2018-05-01T00:00:00",
          "2018-06-01T00:00:00",
          "2018-07-01T00:00:00",
          "2018-08-01T00:00:00",
          "2018-09-01T00:00:00",
          "2018-10-01T00:00:00",
          "2018-11-01T00:00:00",
          "2018-12-01T00:00:00",
          "2019-01-01T00:00:00",
          "2019-03-01T00:00:00",
          "2019-04-01T00:00:00",
          "2019-05-01T00:00:00",
          "2019-06-01T00:00:00",
          "2019-07-01T00:00:00",
          "2019-08-01T00:00:00",
          "2019-09-01T00:00:00",
          "2019-10-01T00:00:00",
          "2019-11-01T00:00:00",
          "2019-12-01T00:00:00"
         ],
         "xaxis": "x",
         "y": [
          null,
          34.3,
          50.38333333333333,
          3.25,
          null,
          null,
          null,
          null,
          33.166666666666664,
          null,
          17.65,
          16.275,
          null,
          null,
          32.416666666666664,
          null,
          null,
          3.7583333333333333,
          null,
          null,
          21.108333333333334,
          14.275
         ],
         "yaxis": "y"
        },
        {
         "hovertemplate": "port_name=Portsmouth, NH<br>month=%{x}<br>time_at_anchor_avg=%{y}<extra></extra>",
         "legendgroup": "Portsmouth, NH",
         "line": {
          "color": "#ab63fa",
          "dash": "solid"
         },
         "marker": {
          "symbol": "circle"
         },
         "mode": "lines",
         "name": "Portsmouth, NH",
         "showlegend": true,
         "type": "scattergl",
         "x": [
          "2018-01-01T00:00:00",
          "2018-02-01T00:00:00",
          "2018-03-01T00:00:00",
          "2018-04-01T00:00:00",
          "2018-05-01T00:00:00",
          "2018-06-01T00:00:00",
          "2018-07-01T00:00:00",
          "2018-08-01T00:00:00",
          "2018-09-01T00:00:00",
          "2018-10-01T00:00:00",
          "2018-11-01T00:00:00",
          "2018-12-01T00:00:00",
          "2019-01-01T00:00:00",
          "2019-02-01T00:00:00",
          "2019-03-01T00:00:00",
          "2019-04-01T00:00:00",
          "2019-05-01T00:00:00",
          "2019-06-01T00:00:00",
          "2019-07-01T00:00:00",
          "2019-08-01T00:00:00",
          "2019-09-01T00:00:00",
          "2019-10-01T00:00:00",
          "2019-11-01T00:00:00",
          "2019-12-01T00:00:00"
         ],
         "xaxis": "x",
         "y": [
          11.033333333333333,
          24.1,
          3.9583333333333335,
          10.066666666666666,
          12.666666666666666,
          72.49166666666666,
          15.75,
          7.933333333333334,
          12.716666666666667,
          9.75,
          15.591666666666667,
          25.625,
          19.558333333333334,
          24.333333333333332,
          55.449999999999996,
          null,
          6.458333333333333,
          18.40833333333333,
          13.141666666666666,
          26.316666666666666,
          13.883333333333333,
          5.55,
          11.966666666666667,
          7.35
         ],
         "yaxis": "y"
        },
        {
         "hovertemplate": "port_name=Galveston, TX<br>month=%{x}<br>time_at_anchor_avg=%{y}<extra></extra>",
         "legendgroup": "Galveston, TX",
         "line": {
          "color": "#FFA15A",
          "dash": "solid"
         },
         "marker": {
          "symbol": "circle"
         },
         "mode": "lines",
         "name": "Galveston, TX",
         "showlegend": true,
         "type": "scattergl",
         "x": [
          "2018-01-01T00:00:00",
          "2018-02-01T00:00:00",
          "2018-03-01T00:00:00",
          "2018-04-01T00:00:00",
          "2018-05-01T00:00:00",
          "2018-06-01T00:00:00",
          "2018-07-01T00:00:00",
          "2018-08-01T00:00:00",
          "2018-09-01T00:00:00",
          "2018-10-01T00:00:00",
          "2018-11-01T00:00:00",
          "2018-12-01T00:00:00",
          "2019-01-01T00:00:00",
          "2019-02-01T00:00:00",
          "2019-03-01T00:00:00",
          "2019-04-01T00:00:00",
          "2019-05-01T00:00:00",
          "2019-06-01T00:00:00",
          "2019-07-01T00:00:00",
          "2019-08-01T00:00:00",
          "2019-09-01T00:00:00",
          "2019-10-01T00:00:00",
          "2019-11-01T00:00:00",
          "2019-12-01T00:00:00"
         ],
         "xaxis": "x",
         "y": [
          16.325,
          24.416666666666668,
          15.35,
          21.308333333333334,
          19.333333333333332,
          23,
          14.9,
          22.941666666666666,
          22.03333333333333,
          16.966666666666665,
          24.6,
          32.916666666666664,
          18.641666666666666,
          16.591666666666665,
          18.633333333333333,
          18.466666666666665,
          6.016666666666667,
          23.3,
          25.53333333333333,
          18.466666666666665,
          15.85,
          17.416666666666668,
          31.083333333333332,
          14.875
         ],
         "yaxis": "y"
        },
        {
         "hovertemplate": "port_name=Baltimore, MD<br>month=%{x}<br>time_at_anchor_avg=%{y}<extra></extra>",
         "legendgroup": "Baltimore, MD",
         "line": {
          "color": "#19d3f3",
          "dash": "solid"
         },
         "marker": {
          "symbol": "circle"
         },
         "mode": "lines",
         "name": "Baltimore, MD",
         "showlegend": true,
         "type": "scattergl",
         "x": [
          "2018-01-01T00:00:00",
          "2018-02-01T00:00:00",
          "2018-03-01T00:00:00",
          "2018-04-01T00:00:00",
          "2018-05-01T00:00:00",
          "2018-06-01T00:00:00",
          "2018-07-01T00:00:00",
          "2018-08-01T00:00:00",
          "2018-09-01T00:00:00",
          "2018-10-01T00:00:00",
          "2018-11-01T00:00:00",
          "2018-12-01T00:00:00",
          "2019-01-01T00:00:00",
          "2019-02-01T00:00:00",
          "2019-03-01T00:00:00",
          "2019-04-01T00:00:00",
          "2019-05-01T00:00:00",
          "2019-06-01T00:00:00",
          "2019-07-01T00:00:00",
          "2019-08-01T00:00:00",
          "2019-09-01T00:00:00",
          "2019-10-01T00:00:00",
          "2019-11-01T00:00:00",
          "2019-12-01T00:00:00"
         ],
         "xaxis": "x",
         "y": [
          46.06666666666666,
          16.266666666666666,
          29.683333333333334,
          39.61666666666667,
          41.5,
          22.05,
          30.5,
          33.141666666666666,
          30.466666666666665,
          22.583333333333332,
          29.9,
          26.95,
          22,
          21.741666666666667,
          37.016666666666666,
          17.433333333333334,
          28.966666666666665,
          31.15833333333333,
          22.03333333333333,
          23.883333333333333,
          0.1,
          0.35,
          6.7,
          6.15
         ],
         "yaxis": "y"
        },
        {
         "hovertemplate": "port_name=Coos Bay OR, Port of<br>month=%{x}<br>time_at_anchor_avg=%{y}<extra></extra>",
         "legendgroup": "Coos Bay OR, Port of",
         "line": {
          "color": "#FF6692",
          "dash": "solid"
         },
         "marker": {
          "symbol": "circle"
         },
         "mode": "lines",
         "name": "Coos Bay OR, Port of",
         "showlegend": true,
         "type": "scattergl",
         "x": [
          "2018-01-01T00:00:00",
          "2018-02-01T00:00:00",
          "2018-03-01T00:00:00",
          "2018-04-01T00:00:00",
          "2018-05-01T00:00:00",
          "2018-06-01T00:00:00",
          "2018-07-01T00:00:00",
          "2018-08-01T00:00:00",
          "2018-09-01T00:00:00",
          "2018-10-01T00:00:00",
          "2018-11-01T00:00:00",
          "2018-12-01T00:00:00",
          "2019-01-01T00:00:00",
          "2019-02-01T00:00:00",
          "2019-03-01T00:00:00",
          "2019-04-01T00:00:00",
          "2019-05-01T00:00:00",
          "2019-06-01T00:00:00",
          "2019-07-01T00:00:00",
          "2019-08-01T00:00:00",
          "2019-09-01T00:00:00",
          "2019-10-01T00:00:00",
          "2019-11-01T00:00:00",
          "2019-12-01T00:00:00"
         ],
         "xaxis": "x",
         "y": [
          null,
          null,
          21.366666666666667,
          null,
          null,
          null,
          6.7,
          67.1,
          6.433333333333334,
          null,
          121.375,
          null,
          23.95,
          null,
          null,
          20.1,
          null,
          null,
          null,
          null,
          null,
          null,
          null,
          16.78333333333333
         ],
         "yaxis": "y"
        },
        {
         "hovertemplate": "port_name=Sandusky, OH<br>month=%{x}<br>time_at_anchor_avg=%{y}<extra></extra>",
         "legendgroup": "Sandusky, OH",
         "line": {
          "color": "#B6E880",
          "dash": "solid"
         },
         "marker": {
          "symbol": "circle"
         },
         "mode": "lines",
         "name": "Sandusky, OH",
         "showlegend": true,
         "type": "scattergl",
         "x": [
          "2018-03-01T00:00:00",
          "2018-04-01T00:00:00",
          "2018-05-01T00:00:00",
          "2018-06-01T00:00:00",
          "2018-07-01T00:00:00",
          "2018-08-01T00:00:00",
          "2018-09-01T00:00:00",
          "2018-10-01T00:00:00",
          "2018-11-01T00:00:00",
          "2018-12-01T00:00:00",
          "2019-03-01T00:00:00",
          "2019-04-01T00:00:00",
          "2019-05-01T00:00:00",
          "2019-06-01T00:00:00",
          "2019-07-01T00:00:00",
          "2019-08-01T00:00:00",
          "2019-09-01T00:00:00",
          "2019-10-01T00:00:00",
          "2019-11-01T00:00:00",
          "2019-12-01T00:00:00"
         ],
         "xaxis": "x",
         "y": [
          21.516666666666666,
          15.575,
          null,
          null,
          3.0166666666666666,
          1.3,
          28.2,
          7.483333333333333,
          null,
          null,
          null,
          null,
          null,
          28.066666666666666,
          48.61666666666667,
          null,
          19.833333333333332,
          16.666666666666668,
          13.033333333333333,
          null
         ],
         "yaxis": "y"
        },
        {
         "hovertemplate": "port_name=Alpena, MI<br>month=%{x}<br>time_at_anchor_avg=%{y}<extra></extra>",
         "legendgroup": "Alpena, MI",
         "line": {
          "color": "#FF97FF",
          "dash": "solid"
         },
         "marker": {
          "symbol": "circle"
         },
         "mode": "lines",
         "name": "Alpena, MI",
         "showlegend": true,
         "type": "scattergl",
         "x": [
          "2018-03-01T00:00:00",
          "2018-04-01T00:00:00",
          "2018-05-01T00:00:00",
          "2018-06-01T00:00:00",
          "2018-08-01T00:00:00",
          "2018-09-01T00:00:00",
          "2018-10-01T00:00:00",
          "2018-12-01T00:00:00",
          "2019-01-01T00:00:00",
          "2019-07-01T00:00:00"
         ],
         "xaxis": "x",
         "y": [
          null,
          44.1,
          null,
          null,
          null,
          null,
          null,
          12.783333333333333,
          null,
          null
         ],
         "yaxis": "y"
        },
        {
         "hovertemplate": "port_name=Mueller Township, MI<br>month=%{x}<br>time_at_anchor_avg=%{y}<extra></extra>",
         "legendgroup": "Mueller Township, MI",
         "line": {
          "color": "#636efa",
          "dash": "solid"
         },
         "marker": {
          "symbol": "circle"
         },
         "mode": "lines",
         "name": "Mueller Township, MI",
         "showlegend": true,
         "type": "scattergl",
         "x": [
          "2018-04-01T00:00:00",
          "2018-05-01T00:00:00",
          "2018-06-01T00:00:00",
          "2018-07-01T00:00:00",
          "2018-08-01T00:00:00",
          "2018-09-01T00:00:00",
          "2018-10-01T00:00:00",
          "2018-11-01T00:00:00",
          "2018-12-01T00:00:00",
          "2019-04-01T00:00:00",
          "2019-05-01T00:00:00",
          "2019-06-01T00:00:00",
          "2019-07-01T00:00:00",
          "2019-08-01T00:00:00",
          "2019-09-01T00:00:00",
          "2019-10-01T00:00:00",
          "2019-11-01T00:00:00"
         ],
         "xaxis": "x",
         "y": [
          23.216666666666665,
          5.85,
          1.95,
          4.566666666666666,
          5.75,
          4.833333333333333,
          8.333333333333334,
          11,
          6.733333333333333,
          13.366666666666667,
          10.683333333333334,
          7.366666666666666,
          10.591666666666667,
          4.016666666666667,
          8.916666666666666,
          10.758333333333333,
          11.733333333333333
         ],
         "yaxis": "y"
        },
        {
         "hovertemplate": "port_name=Terrebonne Parish Port, LA<br>month=%{x}<br>time_at_anchor_avg=%{y}<extra></extra>",
         "legendgroup": "Terrebonne Parish Port, LA",
         "line": {
          "color": "#EF553B",
          "dash": "solid"
         },
         "marker": {
          "symbol": "circle"
         },
         "mode": "lines",
         "name": "Terrebonne Parish Port, LA",
         "showlegend": true,
         "type": "scattergl",
         "x": [
          "2018-04-01T00:00:00",
          "2019-08-01T00:00:00"
         ],
         "xaxis": "x",
         "y": [
          null,
          null
         ],
         "yaxis": "y"
        },
        {
         "hovertemplate": "port_name=Kivalina, AK<br>month=%{x}<br>time_at_anchor_avg=%{y}<extra></extra>",
         "legendgroup": "Kivalina, AK",
         "line": {
          "color": "#00cc96",
          "dash": "solid"
         },
         "marker": {
          "symbol": "circle"
         },
         "mode": "lines",
         "name": "Kivalina, AK",
         "showlegend": true,
         "type": "scattergl",
         "x": [
          "2018-05-01T00:00:00",
          "2018-06-01T00:00:00",
          "2018-07-01T00:00:00",
          "2018-08-01T00:00:00",
          "2018-09-01T00:00:00",
          "2018-10-01T00:00:00",
          "2018-11-01T00:00:00",
          "2019-05-01T00:00:00",
          "2019-06-01T00:00:00",
          "2019-07-01T00:00:00",
          "2019-08-01T00:00:00",
          "2019-09-01T00:00:00",
          "2019-10-01T00:00:00",
          "2019-11-01T00:00:00"
         ],
         "xaxis": "x",
         "y": [
          511.6666666666667,
          35.65833333333333,
          84.71666666666667,
          77.025,
          53.083333333333336,
          45.516666666666666,
          null,
          47.56666666666666,
          10.65,
          20.90833333333333,
          46.59166666666667,
          35.016666666666666,
          34.15,
          10.633333333333333
         ],
         "yaxis": "y"
        },
        {
         "hovertemplate": "port_name=Cincinnati, OH<br>month=%{x}<br>time_at_anchor_avg=%{y}<extra></extra>",
         "legendgroup": "Cincinnati, OH",
         "line": {
          "color": "#ab63fa",
          "dash": "solid"
         },
         "marker": {
          "symbol": "circle"
         },
         "mode": "lines",
         "name": "Cincinnati, OH",
         "showlegend": true,
         "type": "scattergl",
         "x": [
          "2018-05-01T00:00:00",
          "2018-06-01T00:00:00"
         ],
         "xaxis": "x",
         "y": [
          null,
          null
         ],
         "yaxis": "y"
        },
        {
         "hovertemplate": "port_name=Monroe, MI<br>month=%{x}<br>time_at_anchor_avg=%{y}<extra></extra>",
         "legendgroup": "Monroe, MI",
         "line": {
          "color": "#FFA15A",
          "dash": "solid"
         },
         "marker": {
          "symbol": "circle"
         },
         "mode": "lines",
         "name": "Monroe, MI",
         "showlegend": true,
         "type": "scattergl",
         "x": [
          "2018-05-01T00:00:00",
          "2018-06-01T00:00:00",
          "2018-07-01T00:00:00",
          "2018-08-01T00:00:00",
          "2018-09-01T00:00:00",
          "2018-10-01T00:00:00",
          "2018-11-01T00:00:00",
          "2018-12-01T00:00:00",
          "2019-01-01T00:00:00",
          "2019-02-01T00:00:00",
          "2019-03-01T00:00:00",
          "2019-05-01T00:00:00",
          "2019-06-01T00:00:00",
          "2019-07-01T00:00:00",
          "2019-08-01T00:00:00",
          "2019-09-01T00:00:00",
          "2019-10-01T00:00:00",
          "2019-11-01T00:00:00",
          "2019-12-01T00:00:00"
         ],
         "xaxis": "x",
         "y": [
          null,
          10.4,
          null,
          null,
          null,
          null,
          null,
          null,
          0.6833333333333333,
          null,
          null,
          null,
          null,
          null,
          null,
          null,
          40.266666666666666,
          20.266666666666666,
          22.28333333333333
         ],
         "yaxis": "y"
        },
        {
         "hovertemplate": "port_name=Orange County Nav District, TX<br>month=%{x}<br>time_at_anchor_avg=%{y}<extra></extra>",
         "legendgroup": "Orange County Nav District, TX",
         "line": {
          "color": "#19d3f3",
          "dash": "solid"
         },
         "marker": {
          "symbol": "circle"
         },
         "mode": "lines",
         "name": "Orange County Nav District, TX",
         "showlegend": true,
         "type": "scattergl",
         "x": [
          "2018-07-01T00:00:00",
          "2018-10-01T00:00:00",
          "2018-12-01T00:00:00",
          "2019-01-01T00:00:00",
          "2019-02-01T00:00:00",
          "2019-03-01T00:00:00",
          "2019-04-01T00:00:00",
          "2019-05-01T00:00:00",
          "2019-06-01T00:00:00"
         ],
         "xaxis": "x",
         "y": [
          null,
          14.816666666666666,
          null,
          null,
          null,
          2.8,
          7.066666666666666,
          144.10833333333332,
          6.95
         ],
         "yaxis": "y"
        },
        {
         "hovertemplate": "port_name=Marblehead, OH<br>month=%{x}<br>time_at_anchor_avg=%{y}<extra></extra>",
         "legendgroup": "Marblehead, OH",
         "line": {
          "color": "#FF6692",
          "dash": "solid"
         },
         "marker": {
          "symbol": "circle"
         },
         "mode": "lines",
         "name": "Marblehead, OH",
         "showlegend": true,
         "type": "scattergl",
         "x": [
          "2018-07-01T00:00:00",
          "2018-10-01T00:00:00",
          "2018-11-01T00:00:00",
          "2019-01-01T00:00:00",
          "2019-03-01T00:00:00",
          "2019-04-01T00:00:00",
          "2019-05-01T00:00:00",
          "2019-06-01T00:00:00",
          "2019-08-01T00:00:00",
          "2019-09-01T00:00:00",
          "2019-10-01T00:00:00",
          "2019-11-01T00:00:00",
          "2019-12-01T00:00:00"
         ],
         "xaxis": "x",
         "y": [
          null,
          null,
          null,
          null,
          82.1,
          null,
          null,
          null,
          null,
          4.716666666666667,
          7.733333333333333,
          null,
          28.416666666666668
         ],
         "yaxis": "y"
        },
        {
         "hovertemplate": "port_name=Port of Harlingen Authority, TX<br>month=%{x}<br>time_at_anchor_avg=%{y}<extra></extra>",
         "legendgroup": "Port of Harlingen Authority, TX",
         "line": {
          "color": "#B6E880",
          "dash": "solid"
         },
         "marker": {
          "symbol": "circle"
         },
         "mode": "lines",
         "name": "Port of Harlingen Authority, TX",
         "showlegend": true,
         "type": "scattergl",
         "x": [
          "2018-07-01T00:00:00",
          "2019-07-01T00:00:00",
          "2019-12-01T00:00:00"
         ],
         "xaxis": "x",
         "y": [
          null,
          null,
          66.15
         ],
         "yaxis": "y"
        },
        {
         "hovertemplate": "port_name=Bridgeport, CT<br>month=%{x}<br>time_at_anchor_avg=%{y}<extra></extra>",
         "legendgroup": "Bridgeport, CT",
         "line": {
          "color": "#FF97FF",
          "dash": "solid"
         },
         "marker": {
          "symbol": "circle"
         },
         "mode": "lines",
         "name": "Bridgeport, CT",
         "showlegend": true,
         "type": "scattergl",
         "x": [
          "2018-08-01T00:00:00",
          "2018-09-01T00:00:00",
          "2019-03-01T00:00:00",
          "2019-05-01T00:00:00",
          "2019-07-01T00:00:00",
          "2019-08-01T00:00:00"
         ],
         "xaxis": "x",
         "y": [
          2.6,
          null,
          null,
          null,
          null,
          null
         ],
         "yaxis": "y"
        },
        {
         "hovertemplate": "port_name=Port of Iberia District, LA<br>month=%{x}<br>time_at_anchor_avg=%{y}<extra></extra>",
         "legendgroup": "Port of Iberia District, LA",
         "line": {
          "color": "#FECB52",
          "dash": "solid"
         },
         "marker": {
          "symbol": "circle"
         },
         "mode": "lines",
         "name": "Port of Iberia District, LA",
         "showlegend": true,
         "type": "scattergl",
         "x": [
          "2018-08-01T00:00:00",
          "2019-05-01T00:00:00"
         ],
         "xaxis": "x",
         "y": [
          null,
          0.11666666666666667
         ],
         "yaxis": "y"
        },
        {
         "hovertemplate": "port_name=West St. Mary Parish Port, LA<br>month=%{x}<br>time_at_anchor_avg=%{y}<extra></extra>",
         "legendgroup": "West St. Mary Parish Port, LA",
         "line": {
          "color": "#636efa",
          "dash": "solid"
         },
         "marker": {
          "symbol": "circle"
         },
         "mode": "lines",
         "name": "West St. Mary Parish Port, LA",
         "showlegend": true,
         "type": "scattergl",
         "x": [
          "2018-10-01T00:00:00",
          "2018-12-01T00:00:00",
          "2019-05-01T00:00:00",
          "2019-11-01T00:00:00"
         ],
         "xaxis": "x",
         "y": [
          null,
          null,
          2.216666666666667,
          20.4
         ],
         "yaxis": "y"
        },
        {
         "hovertemplate": "port_name=Port of Columbia County, OR<br>month=%{x}<br>time_at_anchor_avg=%{y}<extra></extra>",
         "legendgroup": "Port of Columbia County, OR",
         "line": {
          "color": "#EF553B",
          "dash": "solid"
         },
         "marker": {
          "symbol": "circle"
         },
         "mode": "lines",
         "name": "Port of Columbia County, OR",
         "showlegend": true,
         "type": "scattergl",
         "x": [
          "2019-04-01T00:00:00"
         ],
         "xaxis": "x",
         "y": [
          null
         ],
         "yaxis": "y"
        }
       ],
       "layout": {
        "height": 500,
        "legend": {
         "title": {
          "text": "port_name"
         },
         "tracegroupgap": 0
        },
        "template": {
         "data": {
          "bar": [
           {
            "error_x": {
             "color": "#2a3f5f"
            },
            "error_y": {
             "color": "#2a3f5f"
            },
            "marker": {
             "line": {
              "color": "#E5ECF6",
              "width": 0.5
             },
             "pattern": {
              "fillmode": "overlay",
              "size": 10,
              "solidity": 0.2
             }
            },
            "type": "bar"
           }
          ],
          "barpolar": [
           {
            "marker": {
             "line": {
              "color": "#E5ECF6",
              "width": 0.5
             },
             "pattern": {
              "fillmode": "overlay",
              "size": 10,
              "solidity": 0.2
             }
            },
            "type": "barpolar"
           }
          ],
          "carpet": [
           {
            "aaxis": {
             "endlinecolor": "#2a3f5f",
             "gridcolor": "white",
             "linecolor": "white",
             "minorgridcolor": "white",
             "startlinecolor": "#2a3f5f"
            },
            "baxis": {
             "endlinecolor": "#2a3f5f",
             "gridcolor": "white",
             "linecolor": "white",
             "minorgridcolor": "white",
             "startlinecolor": "#2a3f5f"
            },
            "type": "carpet"
           }
          ],
          "choropleth": [
           {
            "colorbar": {
             "outlinewidth": 0,
             "ticks": ""
            },
            "type": "choropleth"
           }
          ],
          "contour": [
           {
            "colorbar": {
             "outlinewidth": 0,
             "ticks": ""
            },
            "colorscale": [
             [
              0,
              "#0d0887"
             ],
             [
              0.1111111111111111,
              "#46039f"
             ],
             [
              0.2222222222222222,
              "#7201a8"
             ],
             [
              0.3333333333333333,
              "#9c179e"
             ],
             [
              0.4444444444444444,
              "#bd3786"
             ],
             [
              0.5555555555555556,
              "#d8576b"
             ],
             [
              0.6666666666666666,
              "#ed7953"
             ],
             [
              0.7777777777777778,
              "#fb9f3a"
             ],
             [
              0.8888888888888888,
              "#fdca26"
             ],
             [
              1,
              "#f0f921"
             ]
            ],
            "type": "contour"
           }
          ],
          "contourcarpet": [
           {
            "colorbar": {
             "outlinewidth": 0,
             "ticks": ""
            },
            "type": "contourcarpet"
           }
          ],
          "heatmap": [
           {
            "colorbar": {
             "outlinewidth": 0,
             "ticks": ""
            },
            "colorscale": [
             [
              0,
              "#0d0887"
             ],
             [
              0.1111111111111111,
              "#46039f"
             ],
             [
              0.2222222222222222,
              "#7201a8"
             ],
             [
              0.3333333333333333,
              "#9c179e"
             ],
             [
              0.4444444444444444,
              "#bd3786"
             ],
             [
              0.5555555555555556,
              "#d8576b"
             ],
             [
              0.6666666666666666,
              "#ed7953"
             ],
             [
              0.7777777777777778,
              "#fb9f3a"
             ],
             [
              0.8888888888888888,
              "#fdca26"
             ],
             [
              1,
              "#f0f921"
             ]
            ],
            "type": "heatmap"
           }
          ],
          "heatmapgl": [
           {
            "colorbar": {
             "outlinewidth": 0,
             "ticks": ""
            },
            "colorscale": [
             [
              0,
              "#0d0887"
             ],
             [
              0.1111111111111111,
              "#46039f"
             ],
             [
              0.2222222222222222,
              "#7201a8"
             ],
             [
              0.3333333333333333,
              "#9c179e"
             ],
             [
              0.4444444444444444,
              "#bd3786"
             ],
             [
              0.5555555555555556,
              "#d8576b"
             ],
             [
              0.6666666666666666,
              "#ed7953"
             ],
             [
              0.7777777777777778,
              "#fb9f3a"
             ],
             [
              0.8888888888888888,
              "#fdca26"
             ],
             [
              1,
              "#f0f921"
             ]
            ],
            "type": "heatmapgl"
           }
          ],
          "histogram": [
           {
            "marker": {
             "pattern": {
              "fillmode": "overlay",
              "size": 10,
              "solidity": 0.2
             }
            },
            "type": "histogram"
           }
          ],
          "histogram2d": [
           {
            "colorbar": {
             "outlinewidth": 0,
             "ticks": ""
            },
            "colorscale": [
             [
              0,
              "#0d0887"
             ],
             [
              0.1111111111111111,
              "#46039f"
             ],
             [
              0.2222222222222222,
              "#7201a8"
             ],
             [
              0.3333333333333333,
              "#9c179e"
             ],
             [
              0.4444444444444444,
              "#bd3786"
             ],
             [
              0.5555555555555556,
              "#d8576b"
             ],
             [
              0.6666666666666666,
              "#ed7953"
             ],
             [
              0.7777777777777778,
              "#fb9f3a"
             ],
             [
              0.8888888888888888,
              "#fdca26"
             ],
             [
              1,
              "#f0f921"
             ]
            ],
            "type": "histogram2d"
           }
          ],
          "histogram2dcontour": [
           {
            "colorbar": {
             "outlinewidth": 0,
             "ticks": ""
            },
            "colorscale": [
             [
              0,
              "#0d0887"
             ],
             [
              0.1111111111111111,
              "#46039f"
             ],
             [
              0.2222222222222222,
              "#7201a8"
             ],
             [
              0.3333333333333333,
              "#9c179e"
             ],
             [
              0.4444444444444444,
              "#bd3786"
             ],
             [
              0.5555555555555556,
              "#d8576b"
             ],
             [
              0.6666666666666666,
              "#ed7953"
             ],
             [
              0.7777777777777778,
              "#fb9f3a"
             ],
             [
              0.8888888888888888,
              "#fdca26"
             ],
             [
              1,
              "#f0f921"
             ]
            ],
            "type": "histogram2dcontour"
           }
          ],
          "mesh3d": [
           {
            "colorbar": {
             "outlinewidth": 0,
             "ticks": ""
            },
            "type": "mesh3d"
           }
          ],
          "parcoords": [
           {
            "line": {
             "colorbar": {
              "outlinewidth": 0,
              "ticks": ""
             }
            },
            "type": "parcoords"
           }
          ],
          "pie": [
           {
            "automargin": true,
            "type": "pie"
           }
          ],
          "scatter": [
           {
            "fillpattern": {
             "fillmode": "overlay",
             "size": 10,
             "solidity": 0.2
            },
            "type": "scatter"
           }
          ],
          "scatter3d": [
           {
            "line": {
             "colorbar": {
              "outlinewidth": 0,
              "ticks": ""
             }
            },
            "marker": {
             "colorbar": {
              "outlinewidth": 0,
              "ticks": ""
             }
            },
            "type": "scatter3d"
           }
          ],
          "scattercarpet": [
           {
            "marker": {
             "colorbar": {
              "outlinewidth": 0,
              "ticks": ""
             }
            },
            "type": "scattercarpet"
           }
          ],
          "scattergeo": [
           {
            "marker": {
             "colorbar": {
              "outlinewidth": 0,
              "ticks": ""
             }
            },
            "type": "scattergeo"
           }
          ],
          "scattergl": [
           {
            "marker": {
             "colorbar": {
              "outlinewidth": 0,
              "ticks": ""
             }
            },
            "type": "scattergl"
           }
          ],
          "scattermapbox": [
           {
            "marker": {
             "colorbar": {
              "outlinewidth": 0,
              "ticks": ""
             }
            },
            "type": "scattermapbox"
           }
          ],
          "scatterpolar": [
           {
            "marker": {
             "colorbar": {
              "outlinewidth": 0,
              "ticks": ""
             }
            },
            "type": "scatterpolar"
           }
          ],
          "scatterpolargl": [
           {
            "marker": {
             "colorbar": {
              "outlinewidth": 0,
              "ticks": ""
             }
            },
            "type": "scatterpolargl"
           }
          ],
          "scatterternary": [
           {
            "marker": {
             "colorbar": {
              "outlinewidth": 0,
              "ticks": ""
             }
            },
            "type": "scatterternary"
           }
          ],
          "surface": [
           {
            "colorbar": {
             "outlinewidth": 0,
             "ticks": ""
            },
            "colorscale": [
             [
              0,
              "#0d0887"
             ],
             [
              0.1111111111111111,
              "#46039f"
             ],
             [
              0.2222222222222222,
              "#7201a8"
             ],
             [
              0.3333333333333333,
              "#9c179e"
             ],
             [
              0.4444444444444444,
              "#bd3786"
             ],
             [
              0.5555555555555556,
              "#d8576b"
             ],
             [
              0.6666666666666666,
              "#ed7953"
             ],
             [
              0.7777777777777778,
              "#fb9f3a"
             ],
             [
              0.8888888888888888,
              "#fdca26"
             ],
             [
              1,
              "#f0f921"
             ]
            ],
            "type": "surface"
           }
          ],
          "table": [
           {
            "cells": {
             "fill": {
              "color": "#EBF0F8"
             },
             "line": {
              "color": "white"
             }
            },
            "header": {
             "fill": {
              "color": "#C8D4E3"
             },
             "line": {
              "color": "white"
             }
            },
            "type": "table"
           }
          ]
         },
         "layout": {
          "annotationdefaults": {
           "arrowcolor": "#2a3f5f",
           "arrowhead": 0,
           "arrowwidth": 1
          },
          "autotypenumbers": "strict",
          "coloraxis": {
           "colorbar": {
            "outlinewidth": 0,
            "ticks": ""
           }
          },
          "colorscale": {
           "diverging": [
            [
             0,
             "#8e0152"
            ],
            [
             0.1,
             "#c51b7d"
            ],
            [
             0.2,
             "#de77ae"
            ],
            [
             0.3,
             "#f1b6da"
            ],
            [
             0.4,
             "#fde0ef"
            ],
            [
             0.5,
             "#f7f7f7"
            ],
            [
             0.6,
             "#e6f5d0"
            ],
            [
             0.7,
             "#b8e186"
            ],
            [
             0.8,
             "#7fbc41"
            ],
            [
             0.9,
             "#4d9221"
            ],
            [
             1,
             "#276419"
            ]
           ],
           "sequential": [
            [
             0,
             "#0d0887"
            ],
            [
             0.1111111111111111,
             "#46039f"
            ],
            [
             0.2222222222222222,
             "#7201a8"
            ],
            [
             0.3333333333333333,
             "#9c179e"
            ],
            [
             0.4444444444444444,
             "#bd3786"
            ],
            [
             0.5555555555555556,
             "#d8576b"
            ],
            [
             0.6666666666666666,
             "#ed7953"
            ],
            [
             0.7777777777777778,
             "#fb9f3a"
            ],
            [
             0.8888888888888888,
             "#fdca26"
            ],
            [
             1,
             "#f0f921"
            ]
           ],
           "sequentialminus": [
            [
             0,
             "#0d0887"
            ],
            [
             0.1111111111111111,
             "#46039f"
            ],
            [
             0.2222222222222222,
             "#7201a8"
            ],
            [
             0.3333333333333333,
             "#9c179e"
            ],
            [
             0.4444444444444444,
             "#bd3786"
            ],
            [
             0.5555555555555556,
             "#d8576b"
            ],
            [
             0.6666666666666666,
             "#ed7953"
            ],
            [
             0.7777777777777778,
             "#fb9f3a"
            ],
            [
             0.8888888888888888,
             "#fdca26"
            ],
            [
             1,
             "#f0f921"
            ]
           ]
          },
          "colorway": [
           "#636efa",
           "#EF553B",
           "#00cc96",
           "#ab63fa",
           "#FFA15A",
           "#19d3f3",
           "#FF6692",
           "#B6E880",
           "#FF97FF",
           "#FECB52"
          ],
          "font": {
           "color": "#2a3f5f"
          },
          "geo": {
           "bgcolor": "white",
           "lakecolor": "white",
           "landcolor": "#E5ECF6",
           "showlakes": true,
           "showland": true,
           "subunitcolor": "white"
          },
          "hoverlabel": {
           "align": "left"
          },
          "hovermode": "closest",
          "mapbox": {
           "style": "light"
          },
          "paper_bgcolor": "white",
          "plot_bgcolor": "#E5ECF6",
          "polar": {
           "angularaxis": {
            "gridcolor": "white",
            "linecolor": "white",
            "ticks": ""
           },
           "bgcolor": "#E5ECF6",
           "radialaxis": {
            "gridcolor": "white",
            "linecolor": "white",
            "ticks": ""
           }
          },
          "scene": {
           "xaxis": {
            "backgroundcolor": "#E5ECF6",
            "gridcolor": "white",
            "gridwidth": 2,
            "linecolor": "white",
            "showbackground": true,
            "ticks": "",
            "zerolinecolor": "white"
           },
           "yaxis": {
            "backgroundcolor": "#E5ECF6",
            "gridcolor": "white",
            "gridwidth": 2,
            "linecolor": "white",
            "showbackground": true,
            "ticks": "",
            "zerolinecolor": "white"
           },
           "zaxis": {
            "backgroundcolor": "#E5ECF6",
            "gridcolor": "white",
            "gridwidth": 2,
            "linecolor": "white",
            "showbackground": true,
            "ticks": "",
            "zerolinecolor": "white"
           }
          },
          "shapedefaults": {
           "line": {
            "color": "#2a3f5f"
           }
          },
          "ternary": {
           "aaxis": {
            "gridcolor": "white",
            "linecolor": "white",
            "ticks": ""
           },
           "baxis": {
            "gridcolor": "white",
            "linecolor": "white",
            "ticks": ""
           },
           "bgcolor": "#E5ECF6",
           "caxis": {
            "gridcolor": "white",
            "linecolor": "white",
            "ticks": ""
           }
          },
          "title": {
           "x": 0.05
          },
          "xaxis": {
           "automargin": true,
           "gridcolor": "white",
           "linecolor": "white",
           "ticks": "",
           "title": {
            "standoff": 15
           },
           "zerolinecolor": "white",
           "zerolinewidth": 2
          },
          "yaxis": {
           "automargin": true,
           "gridcolor": "white",
           "linecolor": "white",
           "ticks": "",
           "title": {
            "standoff": 15
           },
           "zerolinecolor": "white",
           "zerolinewidth": 2
          }
         }
        },
        "title": {
         "text": "Median Time at Anchor at Principal Ports"
        },
        "width": 1000,
        "xaxis": {
         "anchor": "y",
         "domain": [
          0,
          1
         ],
         "title": {
          "text": "month"
         }
        },
        "yaxis": {
         "anchor": "x",
         "domain": [
          0,
          1
         ],
         "title": {
          "text": "time_at_anchor_avg"
         }
        }
       }
      }
     },
     "metadata": {},
     "output_type": "display_data"
    }
   ],
   "source": [
    "px.line(\n",
    "    #data with month in dt format\n",
    "    monthly_gdf\n",
    "    .with_columns(pl.col('month').str.strptime(pl.Date, format='%Y%m'))\n",
    "    .sort(by='month'), \n",
    "    #plot specs\n",
    "    x='month', y='time_at_anchor_avg', color='port_name',\n",
    "    title='Median Time at Anchor at Principal Ports',\n",
    "    width=1000,\n",
    "    height=500 \n",
    ")"
   ]
  },
  {
   "cell_type": "code",
   "execution_count": 164,
   "metadata": {},
   "outputs": [
    {
     "data": {
      "application/vnd.plotly.v1+json": {
       "config": {
        "plotlyServerURL": "https://plot.ly"
       },
       "data": [
        {
         "hovertemplate": "port_name=Marine City, MI<br>month=%{x}<br>time_at_berth_avg=%{y}<extra></extra>",
         "legendgroup": "Marine City, MI",
         "line": {
          "color": "#636efa",
          "dash": "solid"
         },
         "marker": {
          "symbol": "circle"
         },
         "mode": "lines",
         "name": "Marine City, MI",
         "showlegend": true,
         "type": "scattergl",
         "x": [
          "2018-01-01T00:00:00",
          "2018-02-01T00:00:00",
          "2018-03-01T00:00:00",
          "2018-04-01T00:00:00",
          "2018-05-01T00:00:00",
          "2018-06-01T00:00:00",
          "2018-07-01T00:00:00",
          "2018-08-01T00:00:00",
          "2018-09-01T00:00:00",
          "2018-10-01T00:00:00",
          "2018-11-01T00:00:00",
          "2018-12-01T00:00:00",
          "2019-01-01T00:00:00",
          "2019-02-01T00:00:00",
          "2019-03-01T00:00:00",
          "2019-04-01T00:00:00",
          "2019-05-01T00:00:00",
          "2019-06-01T00:00:00",
          "2019-07-01T00:00:00",
          "2019-08-01T00:00:00",
          "2019-09-01T00:00:00",
          "2019-10-01T00:00:00",
          "2019-11-01T00:00:00",
          "2019-12-01T00:00:00"
         ],
         "xaxis": "x",
         "y": [
          42.916666666666664,
          53.416666666666664,
          32.43333333333333,
          36.15,
          33.9,
          30.78333333333333,
          22.966666666666665,
          21,
          25.008333333333333,
          22.716666666666665,
          22.616666666666667,
          32.65,
          44.016666666666666,
          36.141666666666666,
          41.34166666666667,
          34.19166666666666,
          37.275,
          20.816666666666666,
          31.416666666666668,
          33.766666666666666,
          35.975,
          32.983333333333334,
          29.775,
          29.458333333333332
         ],
         "yaxis": "y"
        },
        {
         "hovertemplate": "port_name=Port of Providence, RI<br>month=%{x}<br>time_at_berth_avg=%{y}<extra></extra>",
         "legendgroup": "Port of Providence, RI",
         "line": {
          "color": "#EF553B",
          "dash": "solid"
         },
         "marker": {
          "symbol": "circle"
         },
         "mode": "lines",
         "name": "Port of Providence, RI",
         "showlegend": true,
         "type": "scattergl",
         "x": [
          "2018-01-01T00:00:00",
          "2018-02-01T00:00:00",
          "2018-03-01T00:00:00",
          "2018-04-01T00:00:00",
          "2018-05-01T00:00:00",
          "2018-06-01T00:00:00",
          "2018-07-01T00:00:00",
          "2018-08-01T00:00:00",
          "2018-09-01T00:00:00",
          "2018-10-01T00:00:00",
          "2018-11-01T00:00:00",
          "2018-12-01T00:00:00",
          "2019-01-01T00:00:00",
          "2019-02-01T00:00:00",
          "2019-03-01T00:00:00",
          "2019-04-01T00:00:00",
          "2019-05-01T00:00:00",
          "2019-06-01T00:00:00",
          "2019-07-01T00:00:00",
          "2019-08-01T00:00:00",
          "2019-09-01T00:00:00",
          "2019-10-01T00:00:00",
          "2019-11-01T00:00:00",
          "2019-12-01T00:00:00"
         ],
         "xaxis": "x",
         "y": [
          20.03333333333333,
          23.225,
          30.316666666666666,
          13.466666666666667,
          12.483333333333333,
          16.716666666666665,
          17.008333333333333,
          16.65,
          16.691666666666666,
          10.3,
          11.866666666666667,
          27.45,
          15.866666666666667,
          12.05,
          19.416666666666668,
          18.1,
          17.933333333333334,
          16.475,
          12.183333333333334,
          21.183333333333334,
          0.15,
          12.65,
          19.916666666666668,
          30.083333333333332
         ],
         "yaxis": "y"
        },
        {
         "hovertemplate": "port_name=South Jersey Port Corp, NJ<br>month=%{x}<br>time_at_berth_avg=%{y}<extra></extra>",
         "legendgroup": "South Jersey Port Corp, NJ",
         "line": {
          "color": "#00cc96",
          "dash": "solid"
         },
         "marker": {
          "symbol": "circle"
         },
         "mode": "lines",
         "name": "South Jersey Port Corp, NJ",
         "showlegend": true,
         "type": "scattergl",
         "x": [
          "2018-01-01T00:00:00",
          "2018-02-01T00:00:00",
          "2018-03-01T00:00:00",
          "2018-04-01T00:00:00",
          "2018-05-01T00:00:00",
          "2018-06-01T00:00:00",
          "2018-07-01T00:00:00",
          "2018-08-01T00:00:00",
          "2018-09-01T00:00:00",
          "2018-10-01T00:00:00",
          "2018-11-01T00:00:00",
          "2018-12-01T00:00:00",
          "2019-01-01T00:00:00",
          "2019-02-01T00:00:00",
          "2019-03-01T00:00:00",
          "2019-04-01T00:00:00",
          "2019-05-01T00:00:00",
          "2019-06-01T00:00:00",
          "2019-07-01T00:00:00",
          "2019-08-01T00:00:00",
          "2019-09-01T00:00:00",
          "2019-10-01T00:00:00",
          "2019-11-01T00:00:00",
          "2019-12-01T00:00:00"
         ],
         "xaxis": "x",
         "y": [
          18.25,
          24.666666666666668,
          26.991666666666667,
          25.233333333333334,
          26.583333333333332,
          28.083333333333332,
          29.3,
          24.833333333333332,
          29.3,
          23.916666666666668,
          23.95,
          27.974999999999998,
          22.933333333333334,
          26.8,
          28.175,
          24.733333333333334,
          20.966666666666665,
          23.666666666666668,
          25.616666666666667,
          20.941666666666666,
          0.1,
          0.05,
          0.06666666666666667,
          23.4
         ],
         "yaxis": "y"
        },
        {
         "hovertemplate": "port_name=Boston, MA<br>month=%{x}<br>time_at_berth_avg=%{y}<extra></extra>",
         "legendgroup": "Boston, MA",
         "line": {
          "color": "#ab63fa",
          "dash": "solid"
         },
         "marker": {
          "symbol": "circle"
         },
         "mode": "lines",
         "name": "Boston, MA",
         "showlegend": true,
         "type": "scattergl",
         "x": [
          "2018-01-01T00:00:00",
          "2018-02-01T00:00:00",
          "2018-03-01T00:00:00",
          "2018-04-01T00:00:00",
          "2018-05-01T00:00:00",
          "2018-06-01T00:00:00",
          "2018-07-01T00:00:00",
          "2018-08-01T00:00:00",
          "2018-09-01T00:00:00",
          "2018-10-01T00:00:00",
          "2018-11-01T00:00:00",
          "2018-12-01T00:00:00",
          "2019-01-01T00:00:00",
          "2019-02-01T00:00:00",
          "2019-03-01T00:00:00",
          "2019-04-01T00:00:00",
          "2019-05-01T00:00:00",
          "2019-06-01T00:00:00",
          "2019-07-01T00:00:00",
          "2019-08-01T00:00:00",
          "2019-09-01T00:00:00",
          "2019-10-01T00:00:00",
          "2019-11-01T00:00:00",
          "2019-12-01T00:00:00"
         ],
         "xaxis": "x",
         "y": [
          22.45,
          23.966666666666665,
          23.883333333333333,
          22.341666666666665,
          25.816666666666666,
          22.608333333333334,
          22.116666666666667,
          22.541666666666668,
          18.233333333333334,
          24.083333333333332,
          20.4,
          23.233333333333334,
          23.516666666666666,
          22.508333333333333,
          24.03333333333333,
          19.891666666666666,
          19.45,
          19.233333333333334,
          14.35,
          7.733333333333333,
          8.658333333333333,
          15.591666666666667,
          17.016666666666666,
          19.3
         ],
         "yaxis": "y"
        },
        {
         "hovertemplate": "port_name=Virgin Islands - St. Croix, VI<br>month=%{x}<br>time_at_berth_avg=%{y}<extra></extra>",
         "legendgroup": "Virgin Islands - St. Croix, VI",
         "line": {
          "color": "#FFA15A",
          "dash": "solid"
         },
         "marker": {
          "symbol": "circle"
         },
         "mode": "lines",
         "name": "Virgin Islands - St. Croix, VI",
         "showlegend": true,
         "type": "scattergl",
         "x": [
          "2018-01-01T00:00:00",
          "2018-02-01T00:00:00",
          "2018-03-01T00:00:00",
          "2018-04-01T00:00:00",
          "2018-05-01T00:00:00",
          "2018-06-01T00:00:00",
          "2018-07-01T00:00:00",
          "2018-08-01T00:00:00",
          "2018-09-01T00:00:00",
          "2018-10-01T00:00:00",
          "2018-11-01T00:00:00",
          "2018-12-01T00:00:00",
          "2019-01-01T00:00:00",
          "2019-02-01T00:00:00",
          "2019-03-01T00:00:00",
          "2019-04-01T00:00:00",
          "2019-05-01T00:00:00",
          "2019-06-01T00:00:00",
          "2019-07-01T00:00:00",
          "2019-08-01T00:00:00",
          "2019-09-01T00:00:00",
          "2019-10-01T00:00:00",
          "2019-11-01T00:00:00",
          "2019-12-01T00:00:00"
         ],
         "xaxis": "x",
         "y": [
          3.75,
          6.158333333333333,
          0.36666666666666664,
          7.541666666666667,
          4.033333333333333,
          4.358333333333333,
          14.716666666666667,
          16.525,
          14.716666666666667,
          12.05,
          12.283333333333333,
          11,
          11.366666666666667,
          11.65,
          12.083333333333334,
          11.658333333333333,
          11.066666666666666,
          14.791666666666666,
          13.266666666666666,
          12.083333333333334,
          12.875,
          12.35,
          12.25,
          11.65
         ],
         "yaxis": "y"
        },
        {
         "hovertemplate": "port_name=Port of Vancouver USA, WA<br>month=%{x}<br>time_at_berth_avg=%{y}<extra></extra>",
         "legendgroup": "Port of Vancouver USA, WA",
         "line": {
          "color": "#19d3f3",
          "dash": "solid"
         },
         "marker": {
          "symbol": "circle"
         },
         "mode": "lines",
         "name": "Port of Vancouver USA, WA",
         "showlegend": true,
         "type": "scattergl",
         "x": [
          "2018-01-01T00:00:00",
          "2018-02-01T00:00:00",
          "2018-03-01T00:00:00",
          "2018-04-01T00:00:00",
          "2018-05-01T00:00:00",
          "2018-06-01T00:00:00",
          "2018-07-01T00:00:00",
          "2018-08-01T00:00:00",
          "2018-09-01T00:00:00",
          "2018-10-01T00:00:00",
          "2018-11-01T00:00:00",
          "2018-12-01T00:00:00",
          "2019-01-01T00:00:00",
          "2019-02-01T00:00:00",
          "2019-03-01T00:00:00",
          "2019-04-01T00:00:00",
          "2019-05-01T00:00:00",
          "2019-06-01T00:00:00",
          "2019-07-01T00:00:00",
          "2019-08-01T00:00:00",
          "2019-09-01T00:00:00",
          "2019-10-01T00:00:00",
          "2019-11-01T00:00:00",
          "2019-12-01T00:00:00"
         ],
         "xaxis": "x",
         "y": [
          46.7,
          55.75,
          38.71666666666667,
          52.074999999999996,
          34.96666666666667,
          40.266666666666666,
          45.21666666666667,
          36.43333333333333,
          38.8,
          41.325,
          46.18333333333333,
          42.68333333333333,
          57.05,
          47.333333333333336,
          48.45,
          39.8,
          44.71666666666667,
          41.93333333333333,
          32.75833333333333,
          33.35,
          53.53333333333333,
          38.725,
          41.391666666666666,
          40.608333333333334
         ],
         "yaxis": "y"
        },
        {
         "hovertemplate": "port_name=Port of Everett, WA<br>month=%{x}<br>time_at_berth_avg=%{y}<extra></extra>",
         "legendgroup": "Port of Everett, WA",
         "line": {
          "color": "#FF6692",
          "dash": "solid"
         },
         "marker": {
          "symbol": "circle"
         },
         "mode": "lines",
         "name": "Port of Everett, WA",
         "showlegend": true,
         "type": "scattergl",
         "x": [
          "2018-01-01T00:00:00",
          "2018-02-01T00:00:00",
          "2018-03-01T00:00:00",
          "2018-04-01T00:00:00",
          "2018-05-01T00:00:00",
          "2018-06-01T00:00:00",
          "2018-07-01T00:00:00",
          "2018-08-01T00:00:00",
          "2018-09-01T00:00:00",
          "2018-10-01T00:00:00",
          "2018-11-01T00:00:00",
          "2018-12-01T00:00:00",
          "2019-01-01T00:00:00",
          "2019-02-01T00:00:00",
          "2019-03-01T00:00:00",
          "2019-04-01T00:00:00",
          "2019-05-01T00:00:00",
          "2019-06-01T00:00:00",
          "2019-07-01T00:00:00",
          "2019-08-01T00:00:00",
          "2019-09-01T00:00:00",
          "2019-10-01T00:00:00",
          "2019-11-01T00:00:00",
          "2019-12-01T00:00:00"
         ],
         "xaxis": "x",
         "y": [
          10.266666666666666,
          10.433333333333334,
          10.45,
          17.183333333333334,
          11.7,
          10.533333333333333,
          12.133333333333333,
          12,
          37.5,
          9.6,
          11.758333333333333,
          6.966666666666667,
          0.15,
          41.416666666666664,
          8.4,
          9.866666666666667,
          9.25,
          35.61666666666667,
          12.75,
          12.6,
          21.825,
          12.258333333333333,
          9.766666666666666,
          10.133333333333333
         ],
         "yaxis": "y"
        },
        {
         "hovertemplate": "port_name=Muskegon, MI<br>month=%{x}<br>time_at_berth_avg=%{y}<extra></extra>",
         "legendgroup": "Muskegon, MI",
         "line": {
          "color": "#B6E880",
          "dash": "solid"
         },
         "marker": {
          "symbol": "circle"
         },
         "mode": "lines",
         "name": "Muskegon, MI",
         "showlegend": true,
         "type": "scattergl",
         "x": [
          "2018-01-01T00:00:00",
          "2018-04-01T00:00:00",
          "2018-05-01T00:00:00",
          "2018-06-01T00:00:00",
          "2018-08-01T00:00:00",
          "2018-10-01T00:00:00",
          "2018-11-01T00:00:00",
          "2018-12-01T00:00:00",
          "2019-04-01T00:00:00",
          "2019-05-01T00:00:00",
          "2019-06-01T00:00:00",
          "2019-07-01T00:00:00",
          "2019-08-01T00:00:00",
          "2019-09-01T00:00:00",
          "2019-10-01T00:00:00",
          "2019-11-01T00:00:00",
          "2019-12-01T00:00:00"
         ],
         "xaxis": "x",
         "y": [
          24.75,
          6.45,
          5.808333333333334,
          5.825,
          5.316666666666666,
          5.85,
          4.541666666666667,
          1.5666666666666667,
          5.933333333333334,
          5.883333333333333,
          7.383333333333333,
          4.7,
          11.833333333333334,
          4.933333333333334,
          7.5,
          5.483333333333333,
          8.7
         ],
         "yaxis": "y"
        },
        {
         "hovertemplate": "port_name=Port of Greater Baton Rouge, LA<br>month=%{x}<br>time_at_berth_avg=%{y}<extra></extra>",
         "legendgroup": "Port of Greater Baton Rouge, LA",
         "line": {
          "color": "#FF97FF",
          "dash": "solid"
         },
         "marker": {
          "symbol": "circle"
         },
         "mode": "lines",
         "name": "Port of Greater Baton Rouge, LA",
         "showlegend": true,
         "type": "scattergl",
         "x": [
          "2018-01-01T00:00:00",
          "2018-02-01T00:00:00",
          "2018-03-01T00:00:00",
          "2018-04-01T00:00:00",
          "2018-05-01T00:00:00",
          "2018-06-01T00:00:00",
          "2018-07-01T00:00:00",
          "2018-08-01T00:00:00",
          "2018-09-01T00:00:00",
          "2018-10-01T00:00:00",
          "2018-11-01T00:00:00",
          "2018-12-01T00:00:00",
          "2019-01-01T00:00:00",
          "2019-02-01T00:00:00",
          "2019-03-01T00:00:00",
          "2019-04-01T00:00:00",
          "2019-05-01T00:00:00",
          "2019-06-01T00:00:00",
          "2019-07-01T00:00:00",
          "2019-08-01T00:00:00",
          "2019-09-01T00:00:00",
          "2019-10-01T00:00:00",
          "2019-11-01T00:00:00",
          "2019-12-01T00:00:00"
         ],
         "xaxis": "x",
         "y": [
          55.61666666666667,
          44.8,
          44.233333333333334,
          39.88333333333333,
          46.71666666666667,
          45.891666666666666,
          39.68333333333333,
          40.916666666666664,
          42.69166666666666,
          44.108333333333334,
          51.86666666666667,
          43.525,
          47.53333333333333,
          47.03333333333333,
          42.38333333333333,
          49.983333333333334,
          60.875,
          60.641666666666666,
          63.025,
          45.4,
          46.1,
          45.1,
          46.083333333333336,
          48.99166666666667
         ],
         "yaxis": "y"
        },
        {
         "hovertemplate": "port_name=New Orleans, LA<br>month=%{x}<br>time_at_berth_avg=%{y}<extra></extra>",
         "legendgroup": "New Orleans, LA",
         "line": {
          "color": "#FECB52",
          "dash": "solid"
         },
         "marker": {
          "symbol": "circle"
         },
         "mode": "lines",
         "name": "New Orleans, LA",
         "showlegend": true,
         "type": "scattergl",
         "x": [
          "2018-01-01T00:00:00",
          "2018-02-01T00:00:00",
          "2018-03-01T00:00:00",
          "2018-04-01T00:00:00",
          "2018-05-01T00:00:00",
          "2018-06-01T00:00:00",
          "2018-07-01T00:00:00",
          "2018-08-01T00:00:00",
          "2018-09-01T00:00:00",
          "2018-10-01T00:00:00",
          "2018-11-01T00:00:00",
          "2018-12-01T00:00:00",
          "2019-01-01T00:00:00",
          "2019-02-01T00:00:00",
          "2019-03-01T00:00:00",
          "2019-04-01T00:00:00",
          "2019-05-01T00:00:00",
          "2019-06-01T00:00:00",
          "2019-07-01T00:00:00",
          "2019-08-01T00:00:00",
          "2019-09-01T00:00:00",
          "2019-10-01T00:00:00",
          "2019-11-01T00:00:00",
          "2019-12-01T00:00:00"
         ],
         "xaxis": "x",
         "y": [
          43.625,
          44.166666666666664,
          44.85,
          44.666666666666664,
          37.733333333333334,
          36.333333333333336,
          40.81666666666666,
          34.016666666666666,
          42.391666666666666,
          43.15,
          43.65833333333333,
          48.166666666666664,
          41.8,
          47.56666666666666,
          44.65,
          47.31666666666666,
          44.266666666666666,
          46.71666666666667,
          43.63333333333333,
          19.983333333333334,
          27.683333333333334,
          39.63333333333333,
          40.916666666666664,
          32.59166666666667
         ],
         "yaxis": "y"
        },
        {
         "hovertemplate": "port_name=Valdez, AK<br>month=%{x}<br>time_at_berth_avg=%{y}<extra></extra>",
         "legendgroup": "Valdez, AK",
         "line": {
          "color": "#636efa",
          "dash": "solid"
         },
         "marker": {
          "symbol": "circle"
         },
         "mode": "lines",
         "name": "Valdez, AK",
         "showlegend": true,
         "type": "scattergl",
         "x": [
          "2018-01-01T00:00:00",
          "2018-02-01T00:00:00",
          "2018-03-01T00:00:00",
          "2018-04-01T00:00:00",
          "2018-05-01T00:00:00",
          "2018-06-01T00:00:00",
          "2018-07-01T00:00:00",
          "2018-08-01T00:00:00",
          "2018-09-01T00:00:00",
          "2018-10-01T00:00:00",
          "2018-11-01T00:00:00",
          "2018-12-01T00:00:00",
          "2019-01-01T00:00:00",
          "2019-02-01T00:00:00",
          "2019-03-01T00:00:00",
          "2019-04-01T00:00:00",
          "2019-05-01T00:00:00",
          "2019-06-01T00:00:00",
          "2019-07-01T00:00:00",
          "2019-08-01T00:00:00",
          "2019-09-01T00:00:00",
          "2019-10-01T00:00:00",
          "2019-11-01T00:00:00",
          "2019-12-01T00:00:00"
         ],
         "xaxis": "x",
         "y": [
          19.183333333333334,
          16.066666666666666,
          18.95,
          20.225,
          19.675,
          16.766666666666666,
          0.03333333333333333,
          17.216666666666665,
          17.733333333333334,
          16.733333333333334,
          16.075,
          18.691666666666666,
          19.025,
          19.366666666666667,
          16.1,
          16.4,
          19.291666666666668,
          18.425,
          18.183333333333334,
          17.366666666666667,
          18.066666666666666,
          17.3,
          17.066666666666666,
          17.733333333333334
         ],
         "yaxis": "y"
        },
        {
         "hovertemplate": "port_name=Oxnard Harbor District, CA<br>month=%{x}<br>time_at_berth_avg=%{y}<extra></extra>",
         "legendgroup": "Oxnard Harbor District, CA",
         "line": {
          "color": "#EF553B",
          "dash": "solid"
         },
         "marker": {
          "symbol": "circle"
         },
         "mode": "lines",
         "name": "Oxnard Harbor District, CA",
         "showlegend": true,
         "type": "scattergl",
         "x": [
          "2018-01-01T00:00:00",
          "2018-02-01T00:00:00",
          "2018-03-01T00:00:00",
          "2018-04-01T00:00:00",
          "2018-05-01T00:00:00",
          "2018-06-01T00:00:00",
          "2018-07-01T00:00:00",
          "2018-08-01T00:00:00",
          "2018-09-01T00:00:00",
          "2018-10-01T00:00:00",
          "2018-11-01T00:00:00",
          "2018-12-01T00:00:00",
          "2019-01-01T00:00:00",
          "2019-02-01T00:00:00",
          "2019-03-01T00:00:00",
          "2019-04-01T00:00:00",
          "2019-05-01T00:00:00",
          "2019-06-01T00:00:00",
          "2019-07-01T00:00:00",
          "2019-08-01T00:00:00",
          "2019-09-01T00:00:00",
          "2019-10-01T00:00:00",
          "2019-11-01T00:00:00",
          "2019-12-01T00:00:00"
         ],
         "xaxis": "x",
         "y": [
          17.516666666666666,
          18.258333333333333,
          24.2,
          18.133333333333333,
          17.458333333333332,
          12.466666666666667,
          17.53333333333333,
          19.591666666666665,
          30.25,
          17.733333333333334,
          21.28333333333333,
          22.733333333333334,
          12.266666666666666,
          17.3,
          18.433333333333334,
          16.966666666666665,
          15.241666666666667,
          17.933333333333334,
          21.291666666666668,
          19.78333333333333,
          11.466666666666667,
          18.333333333333332,
          14.65,
          20.616666666666667
         ],
         "yaxis": "y"
        },
        {
         "hovertemplate": "port_name=Unalaska Island, AK<br>month=%{x}<br>time_at_berth_avg=%{y}<extra></extra>",
         "legendgroup": "Unalaska Island, AK",
         "line": {
          "color": "#00cc96",
          "dash": "solid"
         },
         "marker": {
          "symbol": "circle"
         },
         "mode": "lines",
         "name": "Unalaska Island, AK",
         "showlegend": true,
         "type": "scattergl",
         "x": [
          "2018-01-01T00:00:00",
          "2018-02-01T00:00:00",
          "2018-03-01T00:00:00",
          "2018-04-01T00:00:00",
          "2018-05-01T00:00:00",
          "2018-06-01T00:00:00",
          "2018-07-01T00:00:00",
          "2018-08-01T00:00:00",
          "2018-09-01T00:00:00",
          "2018-10-01T00:00:00",
          "2018-11-01T00:00:00",
          "2018-12-01T00:00:00",
          "2019-01-01T00:00:00",
          "2019-02-01T00:00:00",
          "2019-03-01T00:00:00",
          "2019-04-01T00:00:00",
          "2019-05-01T00:00:00",
          "2019-06-01T00:00:00",
          "2019-07-01T00:00:00",
          "2019-08-01T00:00:00",
          "2019-09-01T00:00:00",
          "2019-10-01T00:00:00",
          "2019-11-01T00:00:00",
          "2019-12-01T00:00:00"
         ],
         "xaxis": "x",
         "y": [
          30.183333333333334,
          37.391666666666666,
          26.3,
          30.8,
          14.216666666666667,
          21.03333333333333,
          27.8,
          28.466666666666665,
          16.933333333333334,
          12.283333333333333,
          22.15,
          12.983333333333333,
          21.366666666666667,
          39.40833333333333,
          29.466666666666665,
          18.716666666666665,
          12.033333333333333,
          21.716666666666665,
          14.658333333333333,
          25.05,
          33.483333333333334,
          15.716666666666667,
          7.966666666666667,
          6.966666666666667
         ],
         "yaxis": "y"
        },
        {
         "hovertemplate": "port_name=Port of Los Angeles, CA<br>month=%{x}<br>time_at_berth_avg=%{y}<extra></extra>",
         "legendgroup": "Port of Los Angeles, CA",
         "line": {
          "color": "#ab63fa",
          "dash": "solid"
         },
         "marker": {
          "symbol": "circle"
         },
         "mode": "lines",
         "name": "Port of Los Angeles, CA",
         "showlegend": true,
         "type": "scattergl",
         "x": [
          "2018-01-01T00:00:00",
          "2018-02-01T00:00:00",
          "2018-03-01T00:00:00",
          "2018-04-01T00:00:00",
          "2018-05-01T00:00:00",
          "2018-06-01T00:00:00",
          "2018-07-01T00:00:00",
          "2018-08-01T00:00:00",
          "2018-09-01T00:00:00",
          "2018-10-01T00:00:00",
          "2018-11-01T00:00:00",
          "2018-12-01T00:00:00",
          "2019-01-01T00:00:00",
          "2019-02-01T00:00:00",
          "2019-03-01T00:00:00",
          "2019-04-01T00:00:00",
          "2019-05-01T00:00:00",
          "2019-06-01T00:00:00",
          "2019-07-01T00:00:00",
          "2019-08-01T00:00:00",
          "2019-09-01T00:00:00",
          "2019-10-01T00:00:00",
          "2019-11-01T00:00:00",
          "2019-12-01T00:00:00"
         ],
         "xaxis": "x",
         "y": [
          42.68333333333333,
          50.625,
          45.233333333333334,
          42.50833333333333,
          47.85,
          46.85,
          46.483333333333334,
          45.15,
          47.325,
          44.625,
          43.63333333333333,
          50.266666666666666,
          39.675,
          37.166666666666664,
          30.5,
          37.1,
          45.9,
          44.30833333333333,
          41.666666666666664,
          46.6,
          51.25,
          45.43333333333333,
          43.233333333333334,
          26.633333333333333
         ],
         "yaxis": "y"
        },
        {
         "hovertemplate": "port_name=Rogers City, MI<br>month=%{x}<br>time_at_berth_avg=%{y}<extra></extra>",
         "legendgroup": "Rogers City, MI",
         "line": {
          "color": "#FFA15A",
          "dash": "solid"
         },
         "marker": {
          "symbol": "circle"
         },
         "mode": "lines",
         "name": "Rogers City, MI",
         "showlegend": true,
         "type": "scattergl",
         "x": [
          "2018-01-01T00:00:00",
          "2018-04-01T00:00:00",
          "2018-05-01T00:00:00",
          "2018-06-01T00:00:00",
          "2018-07-01T00:00:00",
          "2018-08-01T00:00:00",
          "2018-09-01T00:00:00",
          "2018-10-01T00:00:00",
          "2018-11-01T00:00:00",
          "2018-12-01T00:00:00",
          "2019-04-01T00:00:00",
          "2019-05-01T00:00:00",
          "2019-06-01T00:00:00",
          "2019-07-01T00:00:00",
          "2019-08-01T00:00:00",
          "2019-09-01T00:00:00",
          "2019-10-01T00:00:00",
          "2019-11-01T00:00:00",
          "2019-12-01T00:00:00"
         ],
         "xaxis": "x",
         "y": [
          23.183333333333334,
          17.25,
          20.2,
          16.675,
          16.716666666666665,
          13.766666666666666,
          15.15,
          13.883333333333333,
          18.216666666666665,
          20.941666666666666,
          19.716666666666665,
          10.925,
          15.15,
          13.866666666666667,
          14.375,
          16.725,
          12.258333333333333,
          20.233333333333334,
          null
         ],
         "yaxis": "y"
        },
        {
         "hovertemplate": "port_name=New York, NY & NJ<br>month=%{x}<br>time_at_berth_avg=%{y}<extra></extra>",
         "legendgroup": "New York, NY & NJ",
         "line": {
          "color": "#19d3f3",
          "dash": "solid"
         },
         "marker": {
          "symbol": "circle"
         },
         "mode": "lines",
         "name": "New York, NY & NJ",
         "showlegend": true,
         "type": "scattergl",
         "x": [
          "2018-01-01T00:00:00",
          "2018-02-01T00:00:00",
          "2018-03-01T00:00:00",
          "2018-04-01T00:00:00",
          "2018-05-01T00:00:00",
          "2018-06-01T00:00:00",
          "2018-07-01T00:00:00",
          "2018-08-01T00:00:00",
          "2018-09-01T00:00:00",
          "2018-10-01T00:00:00",
          "2018-11-01T00:00:00",
          "2018-12-01T00:00:00",
          "2019-01-01T00:00:00",
          "2019-02-01T00:00:00",
          "2019-03-01T00:00:00",
          "2019-04-01T00:00:00",
          "2019-05-01T00:00:00",
          "2019-06-01T00:00:00",
          "2019-07-01T00:00:00",
          "2019-08-01T00:00:00",
          "2019-09-01T00:00:00",
          "2019-10-01T00:00:00",
          "2019-11-01T00:00:00",
          "2019-12-01T00:00:00"
         ],
         "xaxis": "x",
         "y": [
          30.724999999999998,
          24.8,
          26.95,
          24.883333333333333,
          24.366666666666667,
          24.491666666666667,
          26.28333333333333,
          27.808333333333334,
          24.616666666666667,
          25.78333333333333,
          26.3,
          27.75,
          27.55,
          29.025,
          25.35,
          25.2,
          24.7,
          26.041666666666668,
          25.833333333333332,
          25.258333333333333,
          0.1,
          0.11666666666666667,
          2.4,
          24.383333333333333
         ],
         "yaxis": "y"
        },
        {
         "hovertemplate": "port_name=Virginia, VA, Port of<br>month=%{x}<br>time_at_berth_avg=%{y}<extra></extra>",
         "legendgroup": "Virginia, VA, Port of",
         "line": {
          "color": "#FF6692",
          "dash": "solid"
         },
         "marker": {
          "symbol": "circle"
         },
         "mode": "lines",
         "name": "Virginia, VA, Port of",
         "showlegend": true,
         "type": "scattergl",
         "x": [
          "2018-01-01T00:00:00",
          "2018-02-01T00:00:00",
          "2018-03-01T00:00:00",
          "2018-04-01T00:00:00",
          "2018-05-01T00:00:00",
          "2018-06-01T00:00:00",
          "2018-07-01T00:00:00",
          "2018-08-01T00:00:00",
          "2018-09-01T00:00:00",
          "2018-10-01T00:00:00",
          "2018-11-01T00:00:00",
          "2018-12-01T00:00:00",
          "2019-01-01T00:00:00",
          "2019-02-01T00:00:00",
          "2019-03-01T00:00:00",
          "2019-04-01T00:00:00",
          "2019-05-01T00:00:00",
          "2019-06-01T00:00:00",
          "2019-07-01T00:00:00",
          "2019-08-01T00:00:00",
          "2019-09-01T00:00:00",
          "2019-10-01T00:00:00",
          "2019-11-01T00:00:00",
          "2019-12-01T00:00:00"
         ],
         "xaxis": "x",
         "y": [
          24.6,
          23.441666666666666,
          26.03333333333333,
          22.025,
          21.65833333333333,
          26.066666666666666,
          24.066666666666666,
          24.108333333333334,
          22.466666666666665,
          24.383333333333333,
          25.333333333333332,
          23.891666666666666,
          22.966666666666665,
          24.633333333333333,
          22.03333333333333,
          22.35,
          22.791666666666668,
          24.008333333333333,
          21.433333333333334,
          19.508333333333333,
          0.26666666666666666,
          0.18333333333333332,
          12.741666666666667,
          23.7
         ],
         "yaxis": "y"
        },
        {
         "hovertemplate": "port_name=Silver Bay, MN<br>month=%{x}<br>time_at_berth_avg=%{y}<extra></extra>",
         "legendgroup": "Silver Bay, MN",
         "line": {
          "color": "#B6E880",
          "dash": "solid"
         },
         "marker": {
          "symbol": "circle"
         },
         "mode": "lines",
         "name": "Silver Bay, MN",
         "showlegend": true,
         "type": "scattergl",
         "x": [
          "2018-01-01T00:00:00",
          "2018-02-01T00:00:00",
          "2018-03-01T00:00:00",
          "2018-04-01T00:00:00",
          "2018-05-01T00:00:00",
          "2018-06-01T00:00:00",
          "2018-07-01T00:00:00",
          "2018-08-01T00:00:00",
          "2018-09-01T00:00:00",
          "2018-10-01T00:00:00",
          "2018-11-01T00:00:00",
          "2018-12-01T00:00:00",
          "2019-01-01T00:00:00",
          "2019-03-01T00:00:00",
          "2019-04-01T00:00:00",
          "2019-05-01T00:00:00",
          "2019-06-01T00:00:00",
          "2019-07-01T00:00:00",
          "2019-08-01T00:00:00",
          "2019-09-01T00:00:00",
          "2019-10-01T00:00:00",
          "2019-11-01T00:00:00",
          "2019-12-01T00:00:00"
         ],
         "xaxis": "x",
         "y": [
          1938.2833333333333,
          null,
          38.88333333333333,
          23.608333333333334,
          30.858333333333334,
          27.791666666666668,
          28.733333333333334,
          28.716666666666665,
          27.2,
          43.18333333333333,
          34.63333333333333,
          25.891666666666666,
          27.433333333333334,
          37.266666666666666,
          30.083333333333332,
          27.833333333333332,
          23.016666666666666,
          32.55,
          38.38333333333333,
          30.933333333333334,
          38.55,
          36.06666666666666,
          43.516666666666666
         ],
         "yaxis": "y"
        },
        {
         "hovertemplate": "port_name=Mobile, AL<br>month=%{x}<br>time_at_berth_avg=%{y}<extra></extra>",
         "legendgroup": "Mobile, AL",
         "line": {
          "color": "#FF97FF",
          "dash": "solid"
         },
         "marker": {
          "symbol": "circle"
         },
         "mode": "lines",
         "name": "Mobile, AL",
         "showlegend": true,
         "type": "scattergl",
         "x": [
          "2018-01-01T00:00:00",
          "2018-02-01T00:00:00",
          "2018-03-01T00:00:00",
          "2018-04-01T00:00:00",
          "2018-05-01T00:00:00",
          "2018-06-01T00:00:00",
          "2018-07-01T00:00:00",
          "2018-08-01T00:00:00",
          "2018-09-01T00:00:00",
          "2018-10-01T00:00:00",
          "2018-11-01T00:00:00",
          "2018-12-01T00:00:00",
          "2019-01-01T00:00:00",
          "2019-02-01T00:00:00",
          "2019-03-01T00:00:00",
          "2019-04-01T00:00:00",
          "2019-05-01T00:00:00",
          "2019-06-01T00:00:00",
          "2019-07-01T00:00:00",
          "2019-08-01T00:00:00",
          "2019-09-01T00:00:00",
          "2019-10-01T00:00:00",
          "2019-11-01T00:00:00",
          "2019-12-01T00:00:00"
         ],
         "xaxis": "x",
         "y": [
          31.974999999999998,
          35.43333333333333,
          36.95,
          36.458333333333336,
          33.6,
          35.06666666666666,
          32.78333333333333,
          29.641666666666666,
          37.86666666666667,
          40.88333333333333,
          38.125,
          34.53333333333333,
          31.78333333333333,
          42.44166666666666,
          31.724999999999998,
          34.55833333333333,
          28.28333333333333,
          31.366666666666667,
          24.466666666666665,
          23.15,
          15.583333333333334,
          27.933333333333334,
          25.5,
          12.108333333333333
         ],
         "yaxis": "y"
        },
        {
         "hovertemplate": "port_name=Grays Harbor Port District, WA<br>month=%{x}<br>time_at_berth_avg=%{y}<extra></extra>",
         "legendgroup": "Grays Harbor Port District, WA",
         "line": {
          "color": "#FECB52",
          "dash": "solid"
         },
         "marker": {
          "symbol": "circle"
         },
         "mode": "lines",
         "name": "Grays Harbor Port District, WA",
         "showlegend": true,
         "type": "scattergl",
         "x": [
          "2018-01-01T00:00:00",
          "2018-02-01T00:00:00",
          "2018-03-01T00:00:00",
          "2018-04-01T00:00:00",
          "2018-05-01T00:00:00",
          "2018-06-01T00:00:00",
          "2018-07-01T00:00:00",
          "2018-08-01T00:00:00",
          "2018-09-01T00:00:00",
          "2018-10-01T00:00:00",
          "2018-11-01T00:00:00",
          "2018-12-01T00:00:00",
          "2019-01-01T00:00:00",
          "2019-02-01T00:00:00",
          "2019-03-01T00:00:00",
          "2019-04-01T00:00:00",
          "2019-05-01T00:00:00",
          "2019-06-01T00:00:00",
          "2019-07-01T00:00:00",
          "2019-08-01T00:00:00",
          "2019-09-01T00:00:00",
          "2019-10-01T00:00:00",
          "2019-11-01T00:00:00",
          "2019-12-01T00:00:00"
         ],
         "xaxis": "x",
         "y": [
          22.366666666666667,
          28.349999999999998,
          64.2,
          116.76666666666667,
          44.983333333333334,
          53.483333333333334,
          37.733333333333334,
          48.50833333333333,
          52,
          63.13333333333333,
          47.61666666666667,
          98.55,
          87.45833333333333,
          71.76666666666667,
          59.19166666666666,
          0.016666666666666666,
          82.64166666666667,
          58.833333333333336,
          93.95,
          88.25,
          22.383333333333333,
          107.11666666666666,
          62.11666666666667,
          57.93333333333333
         ],
         "yaxis": "y"
        },
        {
         "hovertemplate": "port_name=Richmond, CA<br>month=%{x}<br>time_at_berth_avg=%{y}<extra></extra>",
         "legendgroup": "Richmond, CA",
         "line": {
          "color": "#636efa",
          "dash": "solid"
         },
         "marker": {
          "symbol": "circle"
         },
         "mode": "lines",
         "name": "Richmond, CA",
         "showlegend": true,
         "type": "scattergl",
         "x": [
          "2018-01-01T00:00:00",
          "2018-02-01T00:00:00",
          "2018-03-01T00:00:00",
          "2018-04-01T00:00:00",
          "2018-05-01T00:00:00",
          "2018-06-01T00:00:00",
          "2018-07-01T00:00:00",
          "2018-08-01T00:00:00",
          "2018-09-01T00:00:00",
          "2018-10-01T00:00:00",
          "2018-11-01T00:00:00",
          "2018-12-01T00:00:00",
          "2019-01-01T00:00:00",
          "2019-02-01T00:00:00",
          "2019-03-01T00:00:00",
          "2019-04-01T00:00:00",
          "2019-05-01T00:00:00",
          "2019-06-01T00:00:00",
          "2019-07-01T00:00:00",
          "2019-08-01T00:00:00",
          "2019-09-01T00:00:00",
          "2019-10-01T00:00:00",
          "2019-11-01T00:00:00",
          "2019-12-01T00:00:00"
         ],
         "xaxis": "x",
         "y": [
          26.575,
          24.983333333333334,
          17.266666666666666,
          25.3,
          30.233333333333334,
          26.05,
          24.316666666666666,
          26.849999999999998,
          25.5,
          19.55,
          33.21666666666667,
          24.866666666666667,
          28.766666666666666,
          34.141666666666666,
          26.516666666666666,
          33.516666666666666,
          31.416666666666668,
          25.016666666666666,
          28.916666666666668,
          31.066666666666666,
          28.974999999999998,
          33.1,
          27.608333333333334,
          25.933333333333334
         ],
         "yaxis": "y"
        },
        {
         "hovertemplate": "port_name=Plaquemines Port District, LA<br>month=%{x}<br>time_at_berth_avg=%{y}<extra></extra>",
         "legendgroup": "Plaquemines Port District, LA",
         "line": {
          "color": "#EF553B",
          "dash": "solid"
         },
         "marker": {
          "symbol": "circle"
         },
         "mode": "lines",
         "name": "Plaquemines Port District, LA",
         "showlegend": true,
         "type": "scattergl",
         "x": [
          "2018-01-01T00:00:00",
          "2018-02-01T00:00:00",
          "2018-03-01T00:00:00",
          "2018-04-01T00:00:00",
          "2018-05-01T00:00:00",
          "2018-06-01T00:00:00",
          "2018-07-01T00:00:00",
          "2018-08-01T00:00:00",
          "2018-09-01T00:00:00",
          "2018-10-01T00:00:00",
          "2018-11-01T00:00:00",
          "2018-12-01T00:00:00",
          "2019-01-01T00:00:00",
          "2019-02-01T00:00:00",
          "2019-03-01T00:00:00",
          "2019-04-01T00:00:00",
          "2019-05-01T00:00:00",
          "2019-06-01T00:00:00",
          "2019-07-01T00:00:00",
          "2019-08-01T00:00:00",
          "2019-09-01T00:00:00",
          "2019-10-01T00:00:00",
          "2019-11-01T00:00:00",
          "2019-12-01T00:00:00"
         ],
         "xaxis": "x",
         "y": [
          44.325,
          42.4,
          48.85,
          44.96666666666667,
          50.28333333333333,
          63.733333333333334,
          34.75,
          41.28333333333333,
          50.9,
          47.56666666666666,
          50.90833333333333,
          54.11666666666667,
          50.84166666666667,
          60.425,
          49.3,
          68.23333333333333,
          45.25,
          48.46666666666667,
          42.95,
          0.016666666666666666,
          5.433333333333334,
          52.18333333333333,
          45.85,
          21.966666666666665
         ],
         "yaxis": "y"
        },
        {
         "hovertemplate": "port_name=Port of Kalama, WA<br>month=%{x}<br>time_at_berth_avg=%{y}<extra></extra>",
         "legendgroup": "Port of Kalama, WA",
         "line": {
          "color": "#00cc96",
          "dash": "solid"
         },
         "marker": {
          "symbol": "circle"
         },
         "mode": "lines",
         "name": "Port of Kalama, WA",
         "showlegend": true,
         "type": "scattergl",
         "x": [
          "2018-01-01T00:00:00",
          "2018-02-01T00:00:00",
          "2018-03-01T00:00:00",
          "2018-04-01T00:00:00",
          "2018-05-01T00:00:00",
          "2018-06-01T00:00:00",
          "2018-07-01T00:00:00",
          "2018-08-01T00:00:00",
          "2018-09-01T00:00:00",
          "2018-10-01T00:00:00",
          "2018-11-01T00:00:00",
          "2018-12-01T00:00:00",
          "2019-01-01T00:00:00",
          "2019-02-01T00:00:00",
          "2019-03-01T00:00:00",
          "2019-04-01T00:00:00",
          "2019-05-01T00:00:00",
          "2019-06-01T00:00:00",
          "2019-07-01T00:00:00",
          "2019-08-01T00:00:00",
          "2019-09-01T00:00:00",
          "2019-10-01T00:00:00",
          "2019-11-01T00:00:00",
          "2019-12-01T00:00:00"
         ],
         "xaxis": "x",
         "y": [
          51.53333333333333,
          53.699999999999996,
          51.81666666666666,
          56.88333333333333,
          54.06666666666666,
          53.699999999999996,
          46.858333333333334,
          51.675,
          45.13333333333333,
          54.15,
          59.24166666666667,
          52.074999999999996,
          45.55,
          46.266666666666666,
          61.583333333333336,
          8.866666666666667,
          43.55,
          45.733333333333334,
          51.35,
          42.85,
          44.15,
          53.49166666666667,
          57.53333333333333,
          66.35
         ],
         "yaxis": "y"
        },
        {
         "hovertemplate": "port_name=Sacramento-Yolo Port, CA<br>month=%{x}<br>time_at_berth_avg=%{y}<extra></extra>",
         "legendgroup": "Sacramento-Yolo Port, CA",
         "line": {
          "color": "#ab63fa",
          "dash": "solid"
         },
         "marker": {
          "symbol": "circle"
         },
         "mode": "lines",
         "name": "Sacramento-Yolo Port, CA",
         "showlegend": true,
         "type": "scattergl",
         "x": [
          "2018-01-01T00:00:00",
          "2018-02-01T00:00:00",
          "2018-03-01T00:00:00",
          "2018-04-01T00:00:00",
          "2018-05-01T00:00:00",
          "2018-06-01T00:00:00",
          "2018-07-01T00:00:00",
          "2018-08-01T00:00:00",
          "2018-09-01T00:00:00",
          "2018-10-01T00:00:00",
          "2018-11-01T00:00:00",
          "2018-12-01T00:00:00",
          "2019-01-01T00:00:00",
          "2019-02-01T00:00:00",
          "2019-03-01T00:00:00",
          "2019-04-01T00:00:00",
          "2019-05-01T00:00:00",
          "2019-06-01T00:00:00",
          "2019-07-01T00:00:00",
          "2019-08-01T00:00:00",
          "2019-09-01T00:00:00",
          "2019-10-01T00:00:00",
          "2019-11-01T00:00:00",
          "2019-12-01T00:00:00"
         ],
         "xaxis": "x",
         "y": [
          112.33333333333333,
          140.23333333333332,
          70.3,
          108.68333333333334,
          102.03333333333333,
          70.31666666666666,
          81.65833333333333,
          141.86666666666667,
          113.14999999999999,
          76.05,
          141.00833333333333,
          92.03333333333333,
          119.20833333333333,
          167.40833333333333,
          116.36666666666666,
          174.65,
          65.61666666666666,
          80.71666666666667,
          92.75,
          77.65,
          96.98333333333333,
          68.46666666666667,
          null,
          115.69166666666666
         ],
         "yaxis": "y"
        },
        {
         "hovertemplate": "port_name=Port of Palm Beach District, FL<br>month=%{x}<br>time_at_berth_avg=%{y}<extra></extra>",
         "legendgroup": "Port of Palm Beach District, FL",
         "line": {
          "color": "#FFA15A",
          "dash": "solid"
         },
         "marker": {
          "symbol": "circle"
         },
         "mode": "lines",
         "name": "Port of Palm Beach District, FL",
         "showlegend": true,
         "type": "scattergl",
         "x": [
          "2018-01-01T00:00:00",
          "2018-02-01T00:00:00",
          "2018-03-01T00:00:00",
          "2018-04-01T00:00:00",
          "2018-05-01T00:00:00",
          "2018-06-01T00:00:00",
          "2018-07-01T00:00:00",
          "2018-08-01T00:00:00",
          "2018-09-01T00:00:00",
          "2018-10-01T00:00:00",
          "2018-11-01T00:00:00",
          "2018-12-01T00:00:00",
          "2019-01-01T00:00:00",
          "2019-02-01T00:00:00",
          "2019-03-01T00:00:00",
          "2019-04-01T00:00:00",
          "2019-05-01T00:00:00",
          "2019-06-01T00:00:00",
          "2019-07-01T00:00:00",
          "2019-08-01T00:00:00",
          "2019-09-01T00:00:00",
          "2019-10-01T00:00:00",
          "2019-11-01T00:00:00",
          "2019-12-01T00:00:00"
         ],
         "xaxis": "x",
         "y": [
          21.191666666666666,
          23.3,
          23.416666666666668,
          27.65,
          20.516666666666666,
          21.183333333333334,
          18.65,
          20.791666666666668,
          16.433333333333334,
          23.3,
          20.566666666666666,
          26.116666666666667,
          22.308333333333334,
          21.466666666666665,
          19.5,
          3.283333333333333,
          5.866666666666666,
          18.975,
          25.116666666666667,
          17.891666666666666,
          13.966666666666667,
          20.2,
          23.983333333333334,
          18.883333333333333
         ],
         "yaxis": "y"
        },
        {
         "hovertemplate": "port_name=San Francisco Port, CA<br>month=%{x}<br>time_at_berth_avg=%{y}<extra></extra>",
         "legendgroup": "San Francisco Port, CA",
         "line": {
          "color": "#19d3f3",
          "dash": "solid"
         },
         "marker": {
          "symbol": "circle"
         },
         "mode": "lines",
         "name": "San Francisco Port, CA",
         "showlegend": true,
         "type": "scattergl",
         "x": [
          "2018-01-01T00:00:00",
          "2018-02-01T00:00:00",
          "2018-03-01T00:00:00",
          "2018-04-01T00:00:00",
          "2018-05-01T00:00:00",
          "2018-06-01T00:00:00",
          "2018-07-01T00:00:00",
          "2018-08-01T00:00:00",
          "2018-09-01T00:00:00",
          "2018-10-01T00:00:00",
          "2018-11-01T00:00:00",
          "2018-12-01T00:00:00",
          "2019-01-01T00:00:00",
          "2019-02-01T00:00:00",
          "2019-03-01T00:00:00",
          "2019-04-01T00:00:00",
          "2019-05-01T00:00:00",
          "2019-06-01T00:00:00",
          "2019-07-01T00:00:00",
          "2019-08-01T00:00:00",
          "2019-09-01T00:00:00",
          "2019-10-01T00:00:00",
          "2019-11-01T00:00:00",
          "2019-12-01T00:00:00"
         ],
         "xaxis": "x",
         "y": [
          43.233333333333334,
          24,
          0.016666666666666666,
          23.458333333333332,
          15.816666666666666,
          22.8,
          13.266666666666666,
          26.95,
          20.416666666666668,
          12,
          17.858333333333334,
          5.35,
          35.68333333333333,
          71.66666666666667,
          45.86666666666667,
          35.5,
          48.108333333333334,
          22.483333333333334,
          43.24166666666667,
          51.93333333333333,
          21.1,
          67.65833333333333,
          68.475,
          null
         ],
         "yaxis": "y"
        },
        {
         "hovertemplate": "port_name=Port of Brunswick, GA<br>month=%{x}<br>time_at_berth_avg=%{y}<extra></extra>",
         "legendgroup": "Port of Brunswick, GA",
         "line": {
          "color": "#FF6692",
          "dash": "solid"
         },
         "marker": {
          "symbol": "circle"
         },
         "mode": "lines",
         "name": "Port of Brunswick, GA",
         "showlegend": true,
         "type": "scattergl",
         "x": [
          "2018-01-01T00:00:00",
          "2018-02-01T00:00:00",
          "2018-03-01T00:00:00",
          "2018-04-01T00:00:00",
          "2018-05-01T00:00:00",
          "2018-06-01T00:00:00",
          "2018-07-01T00:00:00",
          "2018-08-01T00:00:00",
          "2018-09-01T00:00:00",
          "2018-10-01T00:00:00",
          "2018-11-01T00:00:00",
          "2018-12-01T00:00:00",
          "2019-01-01T00:00:00",
          "2019-02-01T00:00:00",
          "2019-03-01T00:00:00",
          "2019-04-01T00:00:00",
          "2019-05-01T00:00:00",
          "2019-06-01T00:00:00",
          "2019-07-01T00:00:00",
          "2019-08-01T00:00:00",
          "2019-09-01T00:00:00",
          "2019-10-01T00:00:00",
          "2019-11-01T00:00:00",
          "2019-12-01T00:00:00"
         ],
         "xaxis": "x",
         "y": [
          0.016666666666666666,
          18.583333333333332,
          16.916666666666668,
          17.616666666666667,
          16.15,
          14.066666666666666,
          19.6,
          14.225,
          13.808333333333334,
          13.391666666666666,
          10.533333333333333,
          12.55,
          13.1,
          13.65,
          15,
          11.966666666666667,
          12.75,
          13.016666666666666,
          13.549999999999999,
          10.791666666666666,
          15.066666666666666,
          15.383333333333333,
          14.583333333333334,
          13.674999999999999
         ],
         "yaxis": "y"
        },
        {
         "hovertemplate": "port_name=Milwaukee, WI<br>month=%{x}<br>time_at_berth_avg=%{y}<extra></extra>",
         "legendgroup": "Milwaukee, WI",
         "line": {
          "color": "#B6E880",
          "dash": "solid"
         },
         "marker": {
          "symbol": "circle"
         },
         "mode": "lines",
         "name": "Milwaukee, WI",
         "showlegend": true,
         "type": "scattergl",
         "x": [
          "2018-01-01T00:00:00",
          "2018-02-01T00:00:00",
          "2018-03-01T00:00:00",
          "2018-04-01T00:00:00",
          "2018-05-01T00:00:00",
          "2018-06-01T00:00:00",
          "2018-07-01T00:00:00",
          "2018-08-01T00:00:00",
          "2018-09-01T00:00:00",
          "2018-10-01T00:00:00",
          "2018-11-01T00:00:00",
          "2018-12-01T00:00:00",
          "2019-01-01T00:00:00",
          "2019-03-01T00:00:00",
          "2019-04-01T00:00:00",
          "2019-05-01T00:00:00",
          "2019-06-01T00:00:00",
          "2019-07-01T00:00:00",
          "2019-08-01T00:00:00",
          "2019-09-01T00:00:00",
          "2019-10-01T00:00:00",
          "2019-11-01T00:00:00",
          "2019-12-01T00:00:00"
         ],
         "xaxis": "x",
         "y": [
          14.116666666666667,
          4.366666666666666,
          32.5,
          66.60833333333333,
          148.73333333333332,
          143.30833333333334,
          27.483333333333334,
          33.766666666666666,
          34.86666666666667,
          51.05,
          39.1,
          61.03333333333333,
          19.316666666666666,
          0.016666666666666666,
          65.58333333333333,
          45.4,
          15.766666666666666,
          25.466666666666665,
          66.49166666666666,
          38.416666666666664,
          12.216666666666667,
          121.03333333333333,
          31.066666666666666
         ],
         "yaxis": "y"
        },
        {
         "hovertemplate": "port_name=Port Freeport, TX<br>month=%{x}<br>time_at_berth_avg=%{y}<extra></extra>",
         "legendgroup": "Port Freeport, TX",
         "line": {
          "color": "#FF97FF",
          "dash": "solid"
         },
         "marker": {
          "symbol": "circle"
         },
         "mode": "lines",
         "name": "Port Freeport, TX",
         "showlegend": true,
         "type": "scattergl",
         "x": [
          "2018-01-01T00:00:00",
          "2018-02-01T00:00:00",
          "2018-03-01T00:00:00",
          "2018-04-01T00:00:00",
          "2018-05-01T00:00:00",
          "2018-06-01T00:00:00",
          "2018-07-01T00:00:00",
          "2018-08-01T00:00:00",
          "2018-09-01T00:00:00",
          "2018-10-01T00:00:00",
          "2018-11-01T00:00:00",
          "2018-12-01T00:00:00",
          "2019-01-01T00:00:00",
          "2019-02-01T00:00:00",
          "2019-03-01T00:00:00",
          "2019-04-01T00:00:00",
          "2019-05-01T00:00:00",
          "2019-06-01T00:00:00",
          "2019-07-01T00:00:00",
          "2019-08-01T00:00:00",
          "2019-09-01T00:00:00",
          "2019-10-01T00:00:00",
          "2019-11-01T00:00:00",
          "2019-12-01T00:00:00"
         ],
         "xaxis": "x",
         "y": [
          23.708333333333332,
          28.25,
          31.083333333333332,
          26.3,
          24.933333333333334,
          28.5,
          20.316666666666666,
          24.991666666666667,
          27.133333333333333,
          25.933333333333334,
          26.066666666666666,
          26.816666666666666,
          22.725,
          22.116666666666667,
          29.016666666666666,
          25.391666666666666,
          4.016666666666667,
          27.091666666666665,
          22.05,
          29.916666666666668,
          28.8,
          25.333333333333332,
          25.833333333333332,
          26.116666666666667
         ],
         "yaxis": "y"
        },
        {
         "hovertemplate": "port_name=Wilmington, DE<br>month=%{x}<br>time_at_berth_avg=%{y}<extra></extra>",
         "legendgroup": "Wilmington, DE",
         "line": {
          "color": "#FECB52",
          "dash": "solid"
         },
         "marker": {
          "symbol": "circle"
         },
         "mode": "lines",
         "name": "Wilmington, DE",
         "showlegend": true,
         "type": "scattergl",
         "x": [
          "2018-01-01T00:00:00",
          "2018-02-01T00:00:00",
          "2018-03-01T00:00:00",
          "2018-04-01T00:00:00",
          "2018-05-01T00:00:00",
          "2018-06-01T00:00:00",
          "2018-07-01T00:00:00",
          "2018-08-01T00:00:00",
          "2018-09-01T00:00:00",
          "2018-10-01T00:00:00",
          "2018-11-01T00:00:00",
          "2018-12-01T00:00:00",
          "2019-01-01T00:00:00",
          "2019-02-01T00:00:00",
          "2019-03-01T00:00:00",
          "2019-04-01T00:00:00",
          "2019-05-01T00:00:00",
          "2019-06-01T00:00:00",
          "2019-07-01T00:00:00",
          "2019-08-01T00:00:00",
          "2019-09-01T00:00:00",
          "2019-10-01T00:00:00",
          "2019-11-01T00:00:00",
          "2019-12-01T00:00:00"
         ],
         "xaxis": "x",
         "y": [
          0.016666666666666666,
          25.633333333333333,
          35.266666666666666,
          28.325,
          37.31666666666666,
          32.93333333333333,
          34.93333333333333,
          26.75,
          34.45,
          34.333333333333336,
          33.45,
          34.266666666666666,
          35.13333333333333,
          32.483333333333334,
          34.13333333333333,
          37.233333333333334,
          34.766666666666666,
          36.483333333333334,
          34.333333333333336,
          34.766666666666666,
          0.13333333333333333,
          0.06666666666666667,
          0.08333333333333333,
          32.166666666666664
         ],
         "yaxis": "y"
        },
        {
         "hovertemplate": "port_name=Conneaut, OH<br>month=%{x}<br>time_at_berth_avg=%{y}<extra></extra>",
         "legendgroup": "Conneaut, OH",
         "line": {
          "color": "#636efa",
          "dash": "solid"
         },
         "marker": {
          "symbol": "circle"
         },
         "mode": "lines",
         "name": "Conneaut, OH",
         "showlegend": true,
         "type": "scattergl",
         "x": [
          "2018-01-01T00:00:00",
          "2018-02-01T00:00:00",
          "2018-03-01T00:00:00",
          "2018-04-01T00:00:00",
          "2018-05-01T00:00:00",
          "2018-06-01T00:00:00",
          "2018-07-01T00:00:00",
          "2018-08-01T00:00:00",
          "2018-09-01T00:00:00",
          "2018-10-01T00:00:00",
          "2018-11-01T00:00:00",
          "2018-12-01T00:00:00",
          "2019-01-01T00:00:00",
          "2019-02-01T00:00:00",
          "2019-03-01T00:00:00",
          "2019-04-01T00:00:00",
          "2019-05-01T00:00:00",
          "2019-06-01T00:00:00",
          "2019-07-01T00:00:00",
          "2019-08-01T00:00:00",
          "2019-09-01T00:00:00",
          "2019-10-01T00:00:00",
          "2019-11-01T00:00:00",
          "2019-12-01T00:00:00"
         ],
         "xaxis": "x",
         "y": [
          1258.1,
          103.35833333333333,
          47.59166666666667,
          35.28333333333333,
          32.4,
          35.11666666666667,
          28.974999999999998,
          30.95,
          29.025,
          29.983333333333334,
          31.45,
          28.466666666666665,
          43.65,
          46.416666666666664,
          36.80833333333333,
          30.716666666666665,
          33.11666666666667,
          31.116666666666667,
          25.275,
          23.15,
          23.15,
          21.225,
          28.733333333333334,
          28.266666666666666
         ],
         "yaxis": "y"
        },
        {
         "hovertemplate": "port_name=Brownsville, TX<br>month=%{x}<br>time_at_berth_avg=%{y}<extra></extra>",
         "legendgroup": "Brownsville, TX",
         "line": {
          "color": "#EF553B",
          "dash": "solid"
         },
         "marker": {
          "symbol": "circle"
         },
         "mode": "lines",
         "name": "Brownsville, TX",
         "showlegend": true,
         "type": "scattergl",
         "x": [
          "2018-01-01T00:00:00",
          "2018-02-01T00:00:00",
          "2018-03-01T00:00:00",
          "2018-04-01T00:00:00",
          "2018-05-01T00:00:00",
          "2018-06-01T00:00:00",
          "2018-07-01T00:00:00",
          "2018-08-01T00:00:00",
          "2018-09-01T00:00:00",
          "2018-10-01T00:00:00",
          "2018-11-01T00:00:00",
          "2018-12-01T00:00:00",
          "2019-01-01T00:00:00",
          "2019-02-01T00:00:00",
          "2019-03-01T00:00:00",
          "2019-04-01T00:00:00",
          "2019-05-01T00:00:00",
          "2019-06-01T00:00:00",
          "2019-07-01T00:00:00",
          "2019-08-01T00:00:00",
          "2019-09-01T00:00:00",
          "2019-10-01T00:00:00",
          "2019-11-01T00:00:00",
          "2019-12-01T00:00:00"
         ],
         "xaxis": "x",
         "y": [
          54.96666666666667,
          50.333333333333336,
          31.78333333333333,
          48.99166666666667,
          48.875,
          48.925,
          37.36666666666667,
          48.68333333333333,
          84.81666666666666,
          31.141666666666666,
          69.36666666666666,
          46.641666666666666,
          36.38333333333333,
          73.65,
          53.108333333333334,
          34.81666666666666,
          47.30833333333333,
          47.5,
          69.2,
          49.083333333333336,
          38.13333333333333,
          73.5,
          47.93333333333333,
          40.9
         ],
         "yaxis": "y"
        },
        {
         "hovertemplate": "port_name=Green Bay, WI<br>month=%{x}<br>time_at_berth_avg=%{y}<extra></extra>",
         "legendgroup": "Green Bay, WI",
         "line": {
          "color": "#00cc96",
          "dash": "solid"
         },
         "marker": {
          "symbol": "circle"
         },
         "mode": "lines",
         "name": "Green Bay, WI",
         "showlegend": true,
         "type": "scattergl",
         "x": [
          "2018-01-01T00:00:00",
          "2018-03-01T00:00:00",
          "2018-05-01T00:00:00",
          "2018-06-01T00:00:00",
          "2018-07-01T00:00:00",
          "2018-08-01T00:00:00",
          "2018-09-01T00:00:00",
          "2018-10-01T00:00:00",
          "2018-11-01T00:00:00",
          "2018-12-01T00:00:00",
          "2019-01-01T00:00:00",
          "2019-02-01T00:00:00",
          "2019-03-01T00:00:00",
          "2019-04-01T00:00:00",
          "2019-05-01T00:00:00",
          "2019-06-01T00:00:00",
          "2019-07-01T00:00:00",
          "2019-08-01T00:00:00",
          "2019-09-01T00:00:00",
          "2019-10-01T00:00:00",
          "2019-11-01T00:00:00",
          "2019-12-01T00:00:00"
         ],
         "xaxis": "x",
         "y": [
          1538.8,
          530.4083333333333,
          81.56666666666666,
          19.366666666666667,
          47.05,
          59.86666666666667,
          87.11666666666666,
          41.18333333333333,
          52.03333333333333,
          66.86666666666666,
          37.71666666666667,
          null,
          274.09166666666664,
          70.15833333333333,
          3.75,
          33.53333333333333,
          25.2,
          69.075,
          21.75,
          5.666666666666667,
          null,
          34.266666666666666
         ],
         "yaxis": "y"
        },
        {
         "hovertemplate": "port_name=PortMiami, FL<br>month=%{x}<br>time_at_berth_avg=%{y}<extra></extra>",
         "legendgroup": "PortMiami, FL",
         "line": {
          "color": "#ab63fa",
          "dash": "solid"
         },
         "marker": {
          "symbol": "circle"
         },
         "mode": "lines",
         "name": "PortMiami, FL",
         "showlegend": true,
         "type": "scattergl",
         "x": [
          "2018-01-01T00:00:00",
          "2018-02-01T00:00:00",
          "2018-03-01T00:00:00",
          "2018-04-01T00:00:00",
          "2018-05-01T00:00:00",
          "2018-06-01T00:00:00",
          "2018-07-01T00:00:00",
          "2018-08-01T00:00:00",
          "2018-09-01T00:00:00",
          "2018-10-01T00:00:00",
          "2018-11-01T00:00:00",
          "2018-12-01T00:00:00",
          "2019-01-01T00:00:00",
          "2019-02-01T00:00:00",
          "2019-03-01T00:00:00",
          "2019-04-01T00:00:00",
          "2019-05-01T00:00:00",
          "2019-06-01T00:00:00",
          "2019-07-01T00:00:00",
          "2019-08-01T00:00:00",
          "2019-09-01T00:00:00",
          "2019-10-01T00:00:00",
          "2019-11-01T00:00:00",
          "2019-12-01T00:00:00"
         ],
         "xaxis": "x",
         "y": [
          19.483333333333334,
          18.758333333333333,
          20.041666666666668,
          22.85,
          17.716666666666665,
          17.53333333333333,
          23.75,
          20.741666666666667,
          20.725,
          19.566666666666666,
          19.166666666666668,
          21.05,
          23.233333333333334,
          19.566666666666666,
          20.083333333333332,
          18.416666666666668,
          18.091666666666665,
          20.575,
          16.291666666666668,
          0.06666666666666667,
          18.3,
          15.575,
          16.083333333333332,
          16.166666666666668
         ],
         "yaxis": "y"
        },
        {
         "hovertemplate": "port_name=Two Harbors, MN<br>month=%{x}<br>time_at_berth_avg=%{y}<extra></extra>",
         "legendgroup": "Two Harbors, MN",
         "line": {
          "color": "#FFA15A",
          "dash": "solid"
         },
         "marker": {
          "symbol": "circle"
         },
         "mode": "lines",
         "name": "Two Harbors, MN",
         "showlegend": true,
         "type": "scattergl",
         "x": [
          "2018-01-01T00:00:00",
          "2018-03-01T00:00:00",
          "2018-04-01T00:00:00",
          "2018-05-01T00:00:00",
          "2018-06-01T00:00:00",
          "2018-07-01T00:00:00",
          "2018-08-01T00:00:00",
          "2018-09-01T00:00:00",
          "2018-10-01T00:00:00",
          "2018-11-01T00:00:00",
          "2018-12-01T00:00:00",
          "2019-01-01T00:00:00",
          "2019-03-01T00:00:00",
          "2019-04-01T00:00:00",
          "2019-05-01T00:00:00",
          "2019-06-01T00:00:00",
          "2019-07-01T00:00:00",
          "2019-08-01T00:00:00",
          "2019-09-01T00:00:00",
          "2019-10-01T00:00:00",
          "2019-11-01T00:00:00",
          "2019-12-01T00:00:00"
         ],
         "xaxis": "x",
         "y": [
          26.491666666666667,
          9.875,
          10.5,
          8.225,
          11.316666666666666,
          11.066666666666666,
          8.3,
          10.4,
          13.741666666666667,
          7.933333333333334,
          11.033333333333333,
          24.025,
          7.416666666666667,
          12.416666666666666,
          11.516666666666666,
          11.233333333333333,
          11.475,
          11.9,
          12.233333333333333,
          11.558333333333334,
          20.833333333333332,
          19.716666666666665
         ],
         "yaxis": "y"
        },
        {
         "hovertemplate": "port_name=Anacortes, WA<br>month=%{x}<br>time_at_berth_avg=%{y}<extra></extra>",
         "legendgroup": "Anacortes, WA",
         "line": {
          "color": "#19d3f3",
          "dash": "solid"
         },
         "marker": {
          "symbol": "circle"
         },
         "mode": "lines",
         "name": "Anacortes, WA",
         "showlegend": true,
         "type": "scattergl",
         "x": [
          "2018-01-01T00:00:00",
          "2018-02-01T00:00:00",
          "2018-03-01T00:00:00",
          "2018-04-01T00:00:00",
          "2018-05-01T00:00:00",
          "2018-06-01T00:00:00",
          "2018-07-01T00:00:00",
          "2018-08-01T00:00:00",
          "2018-09-01T00:00:00",
          "2018-10-01T00:00:00",
          "2018-11-01T00:00:00",
          "2018-12-01T00:00:00",
          "2019-01-01T00:00:00",
          "2019-02-01T00:00:00",
          "2019-03-01T00:00:00",
          "2019-04-01T00:00:00",
          "2019-05-01T00:00:00",
          "2019-06-01T00:00:00",
          "2019-07-01T00:00:00",
          "2019-08-01T00:00:00",
          "2019-09-01T00:00:00",
          "2019-10-01T00:00:00",
          "2019-11-01T00:00:00",
          "2019-12-01T00:00:00"
         ],
         "xaxis": "x",
         "y": [
          40.25,
          39.85,
          40.483333333333334,
          43.35,
          38.96666666666667,
          36.86666666666667,
          36.925,
          38.166666666666664,
          41.36666666666667,
          36.38333333333333,
          40,
          41.983333333333334,
          28.925,
          39.11666666666667,
          31.066666666666666,
          30.983333333333334,
          36.61666666666667,
          35.266666666666666,
          37.09166666666667,
          34.175,
          36.69166666666666,
          36.84166666666667,
          32.46666666666667,
          30.633333333333333
         ],
         "yaxis": "y"
        },
        {
         "hovertemplate": "port_name=Jacksonville, FL<br>month=%{x}<br>time_at_berth_avg=%{y}<extra></extra>",
         "legendgroup": "Jacksonville, FL",
         "line": {
          "color": "#FF6692",
          "dash": "solid"
         },
         "marker": {
          "symbol": "circle"
         },
         "mode": "lines",
         "name": "Jacksonville, FL",
         "showlegend": true,
         "type": "scattergl",
         "x": [
          "2018-01-01T00:00:00",
          "2018-02-01T00:00:00",
          "2018-03-01T00:00:00",
          "2018-04-01T00:00:00",
          "2018-05-01T00:00:00",
          "2018-06-01T00:00:00",
          "2018-07-01T00:00:00",
          "2018-08-01T00:00:00",
          "2018-09-01T00:00:00",
          "2018-10-01T00:00:00",
          "2018-11-01T00:00:00",
          "2018-12-01T00:00:00",
          "2019-01-01T00:00:00",
          "2019-02-01T00:00:00",
          "2019-03-01T00:00:00",
          "2019-04-01T00:00:00",
          "2019-05-01T00:00:00",
          "2019-06-01T00:00:00",
          "2019-07-01T00:00:00",
          "2019-08-01T00:00:00",
          "2019-09-01T00:00:00",
          "2019-10-01T00:00:00",
          "2019-11-01T00:00:00",
          "2019-12-01T00:00:00"
         ],
         "xaxis": "x",
         "y": [
          5.15,
          21.1,
          18.3,
          17.28333333333333,
          18.28333333333333,
          19.025,
          16.675,
          18.916666666666668,
          19.108333333333334,
          19.90833333333333,
          19.375,
          21.416666666666668,
          20.491666666666667,
          20.816666666666666,
          17.883333333333333,
          18.85,
          18.266666666666666,
          17.266666666666666,
          18.3,
          18.866666666666667,
          17.65833333333333,
          18.266666666666666,
          18.9,
          21.25
         ],
         "yaxis": "y"
        },
        {
         "hovertemplate": "port_name=Northern Indiana District, IN<br>month=%{x}<br>time_at_berth_avg=%{y}<extra></extra>",
         "legendgroup": "Northern Indiana District, IN",
         "line": {
          "color": "#B6E880",
          "dash": "solid"
         },
         "marker": {
          "symbol": "circle"
         },
         "mode": "lines",
         "name": "Northern Indiana District, IN",
         "showlegend": true,
         "type": "scattergl",
         "x": [
          "2018-01-01T00:00:00",
          "2018-02-01T00:00:00",
          "2018-03-01T00:00:00",
          "2018-04-01T00:00:00",
          "2018-05-01T00:00:00",
          "2018-06-01T00:00:00",
          "2018-07-01T00:00:00",
          "2018-08-01T00:00:00",
          "2018-09-01T00:00:00",
          "2018-10-01T00:00:00",
          "2018-11-01T00:00:00",
          "2018-12-01T00:00:00",
          "2019-01-01T00:00:00",
          "2019-03-01T00:00:00",
          "2019-04-01T00:00:00",
          "2019-05-01T00:00:00",
          "2019-06-01T00:00:00",
          "2019-07-01T00:00:00",
          "2019-08-01T00:00:00",
          "2019-09-01T00:00:00",
          "2019-10-01T00:00:00",
          "2019-11-01T00:00:00",
          "2019-12-01T00:00:00"
         ],
         "xaxis": "x",
         "y": [
          38.53333333333333,
          null,
          14.516666666666666,
          18.65,
          16.03333333333333,
          13.1,
          17.541666666666668,
          9.066666666666666,
          12.366666666666667,
          16.583333333333332,
          12.666666666666666,
          12.608333333333333,
          5.241666666666666,
          19.316666666666666,
          12.716666666666667,
          14.158333333333333,
          16.041666666666668,
          16.15833333333333,
          21.016666666666666,
          20.833333333333332,
          22.216666666666665,
          18.466666666666665,
          19.775
         ],
         "yaxis": "y"
        },
        {
         "hovertemplate": "port_name=Presque Isle Township, MI<br>month=%{x}<br>time_at_berth_avg=%{y}<extra></extra>",
         "legendgroup": "Presque Isle Township, MI",
         "line": {
          "color": "#FF97FF",
          "dash": "solid"
         },
         "marker": {
          "symbol": "circle"
         },
         "mode": "lines",
         "name": "Presque Isle Township, MI",
         "showlegend": true,
         "type": "scattergl",
         "x": [
          "2018-01-01T00:00:00",
          "2018-04-01T00:00:00",
          "2018-05-01T00:00:00",
          "2018-06-01T00:00:00",
          "2018-07-01T00:00:00",
          "2018-08-01T00:00:00",
          "2018-09-01T00:00:00",
          "2018-10-01T00:00:00",
          "2018-11-01T00:00:00",
          "2018-12-01T00:00:00",
          "2019-03-01T00:00:00",
          "2019-04-01T00:00:00",
          "2019-05-01T00:00:00",
          "2019-06-01T00:00:00",
          "2019-07-01T00:00:00",
          "2019-08-01T00:00:00",
          "2019-09-01T00:00:00",
          "2019-10-01T00:00:00",
          "2019-11-01T00:00:00",
          "2019-12-01T00:00:00"
         ],
         "xaxis": "x",
         "y": [
          null,
          13.291666666666666,
          11.641666666666666,
          15.158333333333333,
          5.6,
          11.75,
          10.216666666666667,
          10.683333333333334,
          13.983333333333333,
          3.933333333333333,
          null,
          7.325,
          18,
          15.766666666666666,
          10.766666666666666,
          10.108333333333333,
          7.333333333333333,
          14.916666666666666,
          12.766666666666666,
          16.316666666666666
         ],
         "yaxis": "y"
        },
        {
         "hovertemplate": "port_name=Clark Township, MI<br>month=%{x}<br>time_at_berth_avg=%{y}<extra></extra>",
         "legendgroup": "Clark Township, MI",
         "line": {
          "color": "#FECB52",
          "dash": "solid"
         },
         "marker": {
          "symbol": "circle"
         },
         "mode": "lines",
         "name": "Clark Township, MI",
         "showlegend": true,
         "type": "scattergl",
         "x": [
          "2018-01-01T00:00:00",
          "2018-02-01T00:00:00",
          "2018-03-01T00:00:00",
          "2018-04-01T00:00:00",
          "2018-05-01T00:00:00",
          "2018-06-01T00:00:00",
          "2018-07-01T00:00:00",
          "2018-08-01T00:00:00",
          "2018-09-01T00:00:00",
          "2018-10-01T00:00:00",
          "2018-11-01T00:00:00",
          "2018-12-01T00:00:00",
          "2019-01-01T00:00:00",
          "2019-02-01T00:00:00",
          "2019-03-01T00:00:00",
          "2019-04-01T00:00:00",
          "2019-05-01T00:00:00",
          "2019-06-01T00:00:00",
          "2019-07-01T00:00:00",
          "2019-08-01T00:00:00",
          "2019-09-01T00:00:00",
          "2019-10-01T00:00:00",
          "2019-11-01T00:00:00",
          "2019-12-01T00:00:00"
         ],
         "xaxis": "x",
         "y": [
          16.266666666666666,
          28.724999999999998,
          37.3,
          18.516666666666666,
          8.883333333333333,
          11.833333333333334,
          9.758333333333333,
          15.066666666666666,
          10.516666666666666,
          9.258333333333333,
          10,
          18.03333333333333,
          18.8,
          20.116666666666667,
          20.066666666666666,
          6.733333333333333,
          12.016666666666666,
          10.7,
          10.566666666666666,
          8.083333333333334,
          8.008333333333333,
          8.766666666666666,
          11.108333333333333,
          11
         ],
         "yaxis": "y"
        },
        {
         "hovertemplate": "port_name=New Haven, CT<br>month=%{x}<br>time_at_berth_avg=%{y}<extra></extra>",
         "legendgroup": "New Haven, CT",
         "line": {
          "color": "#636efa",
          "dash": "solid"
         },
         "marker": {
          "symbol": "circle"
         },
         "mode": "lines",
         "name": "New Haven, CT",
         "showlegend": true,
         "type": "scattergl",
         "x": [
          "2018-01-01T00:00:00",
          "2018-02-01T00:00:00",
          "2018-03-01T00:00:00",
          "2018-04-01T00:00:00",
          "2018-05-01T00:00:00",
          "2018-06-01T00:00:00",
          "2018-07-01T00:00:00",
          "2018-08-01T00:00:00",
          "2018-09-01T00:00:00",
          "2018-10-01T00:00:00",
          "2018-11-01T00:00:00",
          "2018-12-01T00:00:00",
          "2019-01-01T00:00:00",
          "2019-02-01T00:00:00",
          "2019-03-01T00:00:00",
          "2019-04-01T00:00:00",
          "2019-05-01T00:00:00",
          "2019-06-01T00:00:00",
          "2019-07-01T00:00:00",
          "2019-08-01T00:00:00",
          "2019-09-01T00:00:00",
          "2019-10-01T00:00:00",
          "2019-11-01T00:00:00",
          "2019-12-01T00:00:00"
         ],
         "xaxis": "x",
         "y": [
          39.45,
          33.28333333333333,
          27.441666666666666,
          34.86666666666667,
          48.18333333333333,
          40.916666666666664,
          30.55,
          41.3,
          27.833333333333332,
          34.81666666666666,
          55.28333333333333,
          49.266666666666666,
          57.43333333333333,
          35.11666666666667,
          73.675,
          50.93333333333333,
          41.675,
          56.583333333333336,
          39.916666666666664,
          41.833333333333336,
          11.7,
          25.03333333333333,
          30.716666666666665,
          31.233333333333334
         ],
         "yaxis": "y"
        },
        {
         "hovertemplate": "port_name=Texas City, TX<br>month=%{x}<br>time_at_berth_avg=%{y}<extra></extra>",
         "legendgroup": "Texas City, TX",
         "line": {
          "color": "#EF553B",
          "dash": "solid"
         },
         "marker": {
          "symbol": "circle"
         },
         "mode": "lines",
         "name": "Texas City, TX",
         "showlegend": true,
         "type": "scattergl",
         "x": [
          "2018-01-01T00:00:00",
          "2018-02-01T00:00:00",
          "2018-03-01T00:00:00",
          "2018-04-01T00:00:00",
          "2018-05-01T00:00:00",
          "2018-06-01T00:00:00",
          "2018-07-01T00:00:00",
          "2018-08-01T00:00:00",
          "2018-09-01T00:00:00",
          "2018-10-01T00:00:00",
          "2018-11-01T00:00:00",
          "2018-12-01T00:00:00",
          "2019-01-01T00:00:00",
          "2019-02-01T00:00:00",
          "2019-03-01T00:00:00",
          "2019-04-01T00:00:00",
          "2019-05-01T00:00:00",
          "2019-06-01T00:00:00",
          "2019-07-01T00:00:00",
          "2019-08-01T00:00:00",
          "2019-09-01T00:00:00",
          "2019-10-01T00:00:00",
          "2019-11-01T00:00:00",
          "2019-12-01T00:00:00"
         ],
         "xaxis": "x",
         "y": [
          34.583333333333336,
          37.93333333333333,
          30.125,
          31.483333333333334,
          28.075,
          26.15833333333333,
          29.675,
          29.933333333333334,
          28.75,
          30.916666666666668,
          29.875,
          33.21666666666667,
          30.65,
          41.8,
          32.63333333333333,
          31.616666666666667,
          1.1333333333333333,
          31.95,
          31.608333333333334,
          20.941666666666666,
          30.333333333333332,
          24.35,
          30.349999999999998,
          25.891666666666666
         ],
         "yaxis": "y"
        },
        {
         "hovertemplate": "port_name=Kalaeloa Barbers Point, HI<br>month=%{x}<br>time_at_berth_avg=%{y}<extra></extra>",
         "legendgroup": "Kalaeloa Barbers Point, HI",
         "line": {
          "color": "#00cc96",
          "dash": "solid"
         },
         "marker": {
          "symbol": "circle"
         },
         "mode": "lines",
         "name": "Kalaeloa Barbers Point, HI",
         "showlegend": true,
         "type": "scattergl",
         "x": [
          "2018-01-01T00:00:00",
          "2018-02-01T00:00:00",
          "2018-03-01T00:00:00",
          "2018-04-01T00:00:00",
          "2018-05-01T00:00:00",
          "2018-06-01T00:00:00",
          "2018-07-01T00:00:00",
          "2018-08-01T00:00:00",
          "2018-09-01T00:00:00",
          "2018-10-01T00:00:00",
          "2018-11-01T00:00:00",
          "2018-12-01T00:00:00",
          "2019-01-01T00:00:00",
          "2019-02-01T00:00:00",
          "2019-03-01T00:00:00",
          "2019-04-01T00:00:00",
          "2019-05-01T00:00:00",
          "2019-06-01T00:00:00",
          "2019-07-01T00:00:00",
          "2019-08-01T00:00:00",
          "2019-09-01T00:00:00",
          "2019-10-01T00:00:00",
          "2019-11-01T00:00:00",
          "2019-12-01T00:00:00"
         ],
         "xaxis": "x",
         "y": [
          41.833333333333336,
          38.75,
          53.75833333333333,
          33.975,
          23.366666666666667,
          44.075,
          56.916666666666664,
          47.65,
          46.6,
          48.266666666666666,
          40.68333333333333,
          33.46666666666667,
          44.666666666666664,
          35.266666666666666,
          42.733333333333334,
          59.53333333333333,
          42.38333333333333,
          32.31666666666666,
          59.11666666666667,
          64.86666666666666,
          54.13333333333333,
          47.61666666666667,
          65.125,
          42.78333333333333
         ],
         "yaxis": "y"
        },
        {
         "hovertemplate": "port_name=Portland, ME<br>month=%{x}<br>time_at_berth_avg=%{y}<extra></extra>",
         "legendgroup": "Portland, ME",
         "line": {
          "color": "#ab63fa",
          "dash": "solid"
         },
         "marker": {
          "symbol": "circle"
         },
         "mode": "lines",
         "name": "Portland, ME",
         "showlegend": true,
         "type": "scattergl",
         "x": [
          "2018-01-01T00:00:00",
          "2018-02-01T00:00:00",
          "2018-03-01T00:00:00",
          "2018-04-01T00:00:00",
          "2018-05-01T00:00:00",
          "2018-06-01T00:00:00",
          "2018-07-01T00:00:00",
          "2018-08-01T00:00:00",
          "2018-09-01T00:00:00",
          "2018-10-01T00:00:00",
          "2018-11-01T00:00:00",
          "2018-12-01T00:00:00",
          "2019-01-01T00:00:00",
          "2019-02-01T00:00:00",
          "2019-03-01T00:00:00",
          "2019-04-01T00:00:00",
          "2019-05-01T00:00:00",
          "2019-06-01T00:00:00",
          "2019-07-01T00:00:00",
          "2019-08-01T00:00:00",
          "2019-09-01T00:00:00",
          "2019-10-01T00:00:00",
          "2019-11-01T00:00:00",
          "2019-12-01T00:00:00"
         ],
         "xaxis": "x",
         "y": [
          14.883333333333333,
          17.025,
          23.925,
          24.683333333333334,
          22.633333333333333,
          32.25833333333333,
          21.633333333333333,
          38.11666666666667,
          30.933333333333334,
          19.641666666666666,
          17.683333333333334,
          23.833333333333332,
          20.083333333333332,
          19.866666666666667,
          12.441666666666666,
          30.133333333333333,
          14.808333333333334,
          20.266666666666666,
          21.25,
          13.816666666666666,
          25.366666666666667,
          20.433333333333334,
          17.266666666666666,
          30.441666666666666
         ],
         "yaxis": "y"
        },
        {
         "hovertemplate": "port_name=Port of Portland, OR<br>month=%{x}<br>time_at_berth_avg=%{y}<extra></extra>",
         "legendgroup": "Port of Portland, OR",
         "line": {
          "color": "#FFA15A",
          "dash": "solid"
         },
         "marker": {
          "symbol": "circle"
         },
         "mode": "lines",
         "name": "Port of Portland, OR",
         "showlegend": true,
         "type": "scattergl",
         "x": [
          "2018-01-01T00:00:00",
          "2018-02-01T00:00:00",
          "2018-03-01T00:00:00",
          "2018-04-01T00:00:00",
          "2018-05-01T00:00:00",
          "2018-06-01T00:00:00",
          "2018-07-01T00:00:00",
          "2018-08-01T00:00:00",
          "2018-09-01T00:00:00",
          "2018-10-01T00:00:00",
          "2018-11-01T00:00:00",
          "2018-12-01T00:00:00",
          "2019-01-01T00:00:00",
          "2019-02-01T00:00:00",
          "2019-03-01T00:00:00",
          "2019-04-01T00:00:00",
          "2019-05-01T00:00:00",
          "2019-06-01T00:00:00",
          "2019-07-01T00:00:00",
          "2019-08-01T00:00:00",
          "2019-09-01T00:00:00",
          "2019-10-01T00:00:00",
          "2019-11-01T00:00:00",
          "2019-12-01T00:00:00"
         ],
         "xaxis": "x",
         "y": [
          117.78333333333333,
          175.01666666666665,
          121.75833333333333,
          172.05,
          182.75,
          47.233333333333334,
          107.41666666666667,
          89.06666666666666,
          307.8,
          159.45833333333334,
          253.775,
          146.78333333333333,
          145.23333333333332,
          129.36666666666667,
          155.4,
          249.96666666666667,
          151.36666666666667,
          151.65833333333333,
          253.625,
          84.58333333333333,
          192.31666666666666,
          131.64166666666665,
          240.83333333333334,
          140.75833333333333
         ],
         "yaxis": "y"
        },
        {
         "hovertemplate": "port_name=Searsport, ME<br>month=%{x}<br>time_at_berth_avg=%{y}<extra></extra>",
         "legendgroup": "Searsport, ME",
         "line": {
          "color": "#19d3f3",
          "dash": "solid"
         },
         "marker": {
          "symbol": "circle"
         },
         "mode": "lines",
         "name": "Searsport, ME",
         "showlegend": true,
         "type": "scattergl",
         "x": [
          "2018-01-01T00:00:00",
          "2018-02-01T00:00:00",
          "2018-03-01T00:00:00",
          "2018-04-01T00:00:00",
          "2018-05-01T00:00:00",
          "2018-06-01T00:00:00",
          "2018-07-01T00:00:00",
          "2018-08-01T00:00:00",
          "2018-09-01T00:00:00",
          "2018-10-01T00:00:00",
          "2018-11-01T00:00:00",
          "2018-12-01T00:00:00",
          "2019-01-01T00:00:00",
          "2019-02-01T00:00:00",
          "2019-03-01T00:00:00",
          "2019-04-01T00:00:00",
          "2019-05-01T00:00:00",
          "2019-06-01T00:00:00",
          "2019-07-01T00:00:00",
          "2019-08-01T00:00:00",
          "2019-09-01T00:00:00",
          "2019-10-01T00:00:00",
          "2019-11-01T00:00:00",
          "2019-12-01T00:00:00"
         ],
         "xaxis": "x",
         "y": [
          32.55,
          30.258333333333333,
          42.1,
          16.233333333333334,
          19.683333333333334,
          27.8,
          19.75,
          18.983333333333334,
          22.775,
          18.316666666666666,
          21.03333333333333,
          21.65833333333333,
          29.866666666666667,
          29.066666666666666,
          15.491666666666667,
          19.833333333333332,
          18.65,
          19.03333333333333,
          23,
          13.9,
          0.05,
          0.058333333333333334,
          24.616666666666667,
          3.4499999999999997
         ],
         "yaxis": "y"
        },
        {
         "hovertemplate": "port_name=Canaveral Port District, FL<br>month=%{x}<br>time_at_berth_avg=%{y}<extra></extra>",
         "legendgroup": "Canaveral Port District, FL",
         "line": {
          "color": "#FF6692",
          "dash": "solid"
         },
         "marker": {
          "symbol": "circle"
         },
         "mode": "lines",
         "name": "Canaveral Port District, FL",
         "showlegend": true,
         "type": "scattergl",
         "x": [
          "2018-01-01T00:00:00",
          "2018-02-01T00:00:00",
          "2018-03-01T00:00:00",
          "2018-04-01T00:00:00",
          "2018-05-01T00:00:00",
          "2018-06-01T00:00:00",
          "2018-07-01T00:00:00",
          "2018-08-01T00:00:00",
          "2018-09-01T00:00:00",
          "2018-10-01T00:00:00",
          "2018-11-01T00:00:00",
          "2018-12-01T00:00:00",
          "2019-01-01T00:00:00",
          "2019-02-01T00:00:00",
          "2019-03-01T00:00:00",
          "2019-04-01T00:00:00",
          "2019-05-01T00:00:00",
          "2019-06-01T00:00:00",
          "2019-07-01T00:00:00",
          "2019-08-01T00:00:00",
          "2019-09-01T00:00:00",
          "2019-10-01T00:00:00",
          "2019-11-01T00:00:00",
          "2019-12-01T00:00:00"
         ],
         "xaxis": "x",
         "y": [
          0.016666666666666666,
          34.93333333333333,
          30.016666666666666,
          28.683333333333334,
          43.99166666666667,
          35.641666666666666,
          39.8,
          37.825,
          22.425,
          49.166666666666664,
          31.491666666666667,
          11.858333333333333,
          32.86666666666667,
          20.066666666666666,
          33.141666666666666,
          32.06666666666666,
          33.6,
          42.8,
          32.63333333333333,
          55.21666666666667,
          37.21666666666667,
          38.125,
          20.416666666666668,
          35.43333333333333
         ],
         "yaxis": "y"
        },
        {
         "hovertemplate": "port_name=Port of Long Beach, CA<br>month=%{x}<br>time_at_berth_avg=%{y}<extra></extra>",
         "legendgroup": "Port of Long Beach, CA",
         "line": {
          "color": "#B6E880",
          "dash": "solid"
         },
         "marker": {
          "symbol": "circle"
         },
         "mode": "lines",
         "name": "Port of Long Beach, CA",
         "showlegend": true,
         "type": "scattergl",
         "x": [
          "2018-01-01T00:00:00",
          "2018-02-01T00:00:00",
          "2018-03-01T00:00:00",
          "2018-04-01T00:00:00",
          "2018-05-01T00:00:00",
          "2018-06-01T00:00:00",
          "2018-07-01T00:00:00",
          "2018-08-01T00:00:00",
          "2018-09-01T00:00:00",
          "2018-10-01T00:00:00",
          "2018-11-01T00:00:00",
          "2018-12-01T00:00:00",
          "2019-01-01T00:00:00",
          "2019-02-01T00:00:00",
          "2019-03-01T00:00:00",
          "2019-04-01T00:00:00",
          "2019-05-01T00:00:00",
          "2019-06-01T00:00:00",
          "2019-07-01T00:00:00",
          "2019-08-01T00:00:00",
          "2019-09-01T00:00:00",
          "2019-10-01T00:00:00",
          "2019-11-01T00:00:00",
          "2019-12-01T00:00:00"
         ],
         "xaxis": "x",
         "y": [
          31.016666666666666,
          27.45,
          35.625,
          36.208333333333336,
          43.166666666666664,
          39.608333333333334,
          34.916666666666664,
          33.516666666666666,
          34.325,
          0.016666666666666666,
          32.28333333333333,
          33.11666666666667,
          34.31666666666666,
          30.849999999999998,
          31.858333333333334,
          26.95,
          28.099999999999998,
          32.71666666666667,
          31.599999999999998,
          36.583333333333336,
          28.183333333333334,
          32.81666666666666,
          34.458333333333336,
          24.2
         ],
         "yaxis": "y"
        },
        {
         "hovertemplate": "port_name=Duluth-Superior, MN and WI<br>month=%{x}<br>time_at_berth_avg=%{y}<extra></extra>",
         "legendgroup": "Duluth-Superior, MN and WI",
         "line": {
          "color": "#FF97FF",
          "dash": "solid"
         },
         "marker": {
          "symbol": "circle"
         },
         "mode": "lines",
         "name": "Duluth-Superior, MN and WI",
         "showlegend": true,
         "type": "scattergl",
         "x": [
          "2018-01-01T00:00:00",
          "2018-02-01T00:00:00",
          "2018-03-01T00:00:00",
          "2018-04-01T00:00:00",
          "2018-05-01T00:00:00",
          "2018-06-01T00:00:00",
          "2018-07-01T00:00:00",
          "2018-08-01T00:00:00",
          "2018-09-01T00:00:00",
          "2018-10-01T00:00:00",
          "2018-11-01T00:00:00",
          "2018-12-01T00:00:00",
          "2019-01-01T00:00:00",
          "2019-02-01T00:00:00",
          "2019-03-01T00:00:00",
          "2019-04-01T00:00:00",
          "2019-05-01T00:00:00",
          "2019-06-01T00:00:00",
          "2019-07-01T00:00:00",
          "2019-08-01T00:00:00",
          "2019-09-01T00:00:00",
          "2019-10-01T00:00:00",
          "2019-11-01T00:00:00",
          "2019-12-01T00:00:00"
         ],
         "xaxis": "x",
         "y": [
          15.566666666666666,
          null,
          68.45833333333333,
          15.683333333333334,
          13.141666666666666,
          14.25,
          11.533333333333333,
          11.733333333333333,
          15.066666666666666,
          13.549999999999999,
          11.8,
          19.25,
          19.558333333333334,
          920.1166666666667,
          31.891666666666666,
          12.7,
          15.466666666666667,
          16.15,
          10.408333333333333,
          16.216666666666665,
          18.541666666666668,
          14.991666666666667,
          38.81666666666666,
          29.025
         ],
         "yaxis": "y"
        },
        {
         "hovertemplate": "port_name=Illinois International Port, IL<br>month=%{x}<br>time_at_berth_avg=%{y}<extra></extra>",
         "legendgroup": "Illinois International Port, IL",
         "line": {
          "color": "#FECB52",
          "dash": "solid"
         },
         "marker": {
          "symbol": "circle"
         },
         "mode": "lines",
         "name": "Illinois International Port, IL",
         "showlegend": true,
         "type": "scattergl",
         "x": [
          "2018-01-01T00:00:00",
          "2018-03-01T00:00:00",
          "2018-04-01T00:00:00",
          "2018-05-01T00:00:00",
          "2018-06-01T00:00:00",
          "2018-07-01T00:00:00",
          "2018-08-01T00:00:00",
          "2018-09-01T00:00:00",
          "2018-10-01T00:00:00",
          "2018-11-01T00:00:00",
          "2018-12-01T00:00:00",
          "2019-01-01T00:00:00",
          "2019-02-01T00:00:00",
          "2019-03-01T00:00:00",
          "2019-04-01T00:00:00",
          "2019-05-01T00:00:00",
          "2019-06-01T00:00:00",
          "2019-07-01T00:00:00",
          "2019-08-01T00:00:00",
          "2019-09-01T00:00:00",
          "2019-10-01T00:00:00",
          "2019-11-01T00:00:00",
          "2019-12-01T00:00:00"
         ],
         "xaxis": "x",
         "y": [
          null,
          4.316666666666666,
          61.05833333333333,
          57.324999999999996,
          70.53333333333333,
          58.4,
          77.64166666666667,
          60.05,
          54.4,
          56.725,
          66.06666666666666,
          105.00833333333333,
          139.31666666666666,
          32.85,
          39.56666666666666,
          46.21666666666667,
          12.216666666666667,
          16.108333333333334,
          30.833333333333332,
          17.05,
          64.525,
          62.666666666666664,
          67.95
         ],
         "yaxis": "y"
        },
        {
         "hovertemplate": "port_name=Ashtabula Port Authority, OH<br>month=%{x}<br>time_at_berth_avg=%{y}<extra></extra>",
         "legendgroup": "Ashtabula Port Authority, OH",
         "line": {
          "color": "#636efa",
          "dash": "solid"
         },
         "marker": {
          "symbol": "circle"
         },
         "mode": "lines",
         "name": "Ashtabula Port Authority, OH",
         "showlegend": true,
         "type": "scattergl",
         "x": [
          "2018-01-01T00:00:00",
          "2018-02-01T00:00:00",
          "2018-03-01T00:00:00",
          "2018-04-01T00:00:00",
          "2018-05-01T00:00:00",
          "2018-06-01T00:00:00",
          "2018-07-01T00:00:00",
          "2018-08-01T00:00:00",
          "2018-09-01T00:00:00",
          "2018-10-01T00:00:00",
          "2018-11-01T00:00:00",
          "2018-12-01T00:00:00",
          "2019-01-01T00:00:00",
          "2019-02-01T00:00:00",
          "2019-03-01T00:00:00",
          "2019-04-01T00:00:00",
          "2019-05-01T00:00:00",
          "2019-06-01T00:00:00",
          "2019-07-01T00:00:00",
          "2019-08-01T00:00:00",
          "2019-09-01T00:00:00",
          "2019-10-01T00:00:00",
          "2019-11-01T00:00:00",
          "2019-12-01T00:00:00"
         ],
         "xaxis": "x",
         "y": [
          62.96666666666667,
          null,
          156.775,
          38.65,
          8.75,
          30.349999999999998,
          6.333333333333333,
          12.183333333333334,
          68.65,
          50.28333333333333,
          22.916666666666668,
          37.46666666666667,
          8.016666666666666,
          null,
          189.66666666666666,
          52.833333333333336,
          5.516666666666667,
          7.083333333333333,
          26.3,
          14.841666666666667,
          10.233333333333333,
          30.766666666666666,
          15.75,
          23.975
         ],
         "yaxis": "y"
        },
        {
         "hovertemplate": "port_name=Seattle, WA<br>month=%{x}<br>time_at_berth_avg=%{y}<extra></extra>",
         "legendgroup": "Seattle, WA",
         "line": {
          "color": "#EF553B",
          "dash": "solid"
         },
         "marker": {
          "symbol": "circle"
         },
         "mode": "lines",
         "name": "Seattle, WA",
         "showlegend": true,
         "type": "scattergl",
         "x": [
          "2018-01-01T00:00:00",
          "2018-02-01T00:00:00",
          "2018-03-01T00:00:00",
          "2018-04-01T00:00:00",
          "2018-05-01T00:00:00",
          "2018-06-01T00:00:00",
          "2018-07-01T00:00:00",
          "2018-08-01T00:00:00",
          "2018-09-01T00:00:00",
          "2018-10-01T00:00:00",
          "2018-11-01T00:00:00",
          "2018-12-01T00:00:00",
          "2019-01-01T00:00:00",
          "2019-02-01T00:00:00",
          "2019-03-01T00:00:00",
          "2019-04-01T00:00:00",
          "2019-05-01T00:00:00",
          "2019-06-01T00:00:00",
          "2019-07-01T00:00:00",
          "2019-08-01T00:00:00",
          "2019-09-01T00:00:00",
          "2019-10-01T00:00:00",
          "2019-11-01T00:00:00",
          "2019-12-01T00:00:00"
         ],
         "xaxis": "x",
         "y": [
          47.266666666666666,
          25.566666666666666,
          38.75,
          39.166666666666664,
          29.575,
          26.366666666666667,
          32.65,
          25.233333333333334,
          18.466666666666665,
          32.13333333333333,
          23.35,
          24.766666666666666,
          19.091666666666665,
          23.78333333333333,
          25.55,
          1.1,
          24.15,
          23.058333333333334,
          10.775,
          34.63333333333333,
          3.2333333333333334,
          4.733333333333333,
          31.616666666666667,
          1.65
         ],
         "yaxis": "y"
        },
        {
         "hovertemplate": "port_name=Redwood City, CA<br>month=%{x}<br>time_at_berth_avg=%{y}<extra></extra>",
         "legendgroup": "Redwood City, CA",
         "line": {
          "color": "#00cc96",
          "dash": "solid"
         },
         "marker": {
          "symbol": "circle"
         },
         "mode": "lines",
         "name": "Redwood City, CA",
         "showlegend": true,
         "type": "scattergl",
         "x": [
          "2018-01-01T00:00:00",
          "2018-02-01T00:00:00",
          "2018-03-01T00:00:00",
          "2018-04-01T00:00:00",
          "2018-05-01T00:00:00",
          "2018-06-01T00:00:00",
          "2018-07-01T00:00:00",
          "2018-08-01T00:00:00",
          "2018-09-01T00:00:00",
          "2018-10-01T00:00:00",
          "2018-11-01T00:00:00",
          "2018-12-01T00:00:00",
          "2019-01-01T00:00:00",
          "2019-02-01T00:00:00",
          "2019-03-01T00:00:00",
          "2019-04-01T00:00:00",
          "2019-05-01T00:00:00",
          "2019-06-01T00:00:00",
          "2019-07-01T00:00:00",
          "2019-08-01T00:00:00",
          "2019-09-01T00:00:00",
          "2019-10-01T00:00:00",
          "2019-11-01T00:00:00",
          "2019-12-01T00:00:00"
         ],
         "xaxis": "x",
         "y": [
          23.233333333333334,
          23.6,
          22.8,
          26.333333333333332,
          22.433333333333334,
          22.008333333333333,
          21.225,
          21.95,
          20.841666666666665,
          23.916666666666668,
          39.916666666666664,
          22.025,
          21.983333333333334,
          21.266666666666666,
          33.125,
          22.566666666666666,
          22.308333333333334,
          23.466666666666665,
          21.916666666666668,
          20.733333333333334,
          25.616666666666667,
          24.083333333333332,
          23.983333333333334,
          22.05
         ],
         "yaxis": "y"
        },
        {
         "hovertemplate": "port_name=Port of Oakland, CA<br>month=%{x}<br>time_at_berth_avg=%{y}<extra></extra>",
         "legendgroup": "Port of Oakland, CA",
         "line": {
          "color": "#ab63fa",
          "dash": "solid"
         },
         "marker": {
          "symbol": "circle"
         },
         "mode": "lines",
         "name": "Port of Oakland, CA",
         "showlegend": true,
         "type": "scattergl",
         "x": [
          "2018-01-01T00:00:00",
          "2018-02-01T00:00:00",
          "2018-03-01T00:00:00",
          "2018-04-01T00:00:00",
          "2018-05-01T00:00:00",
          "2018-06-01T00:00:00",
          "2018-07-01T00:00:00",
          "2018-08-01T00:00:00",
          "2018-09-01T00:00:00",
          "2018-10-01T00:00:00",
          "2018-11-01T00:00:00",
          "2018-12-01T00:00:00",
          "2019-01-01T00:00:00",
          "2019-02-01T00:00:00",
          "2019-03-01T00:00:00",
          "2019-04-01T00:00:00",
          "2019-05-01T00:00:00",
          "2019-06-01T00:00:00",
          "2019-07-01T00:00:00",
          "2019-08-01T00:00:00",
          "2019-09-01T00:00:00",
          "2019-10-01T00:00:00",
          "2019-11-01T00:00:00",
          "2019-12-01T00:00:00"
         ],
         "xaxis": "x",
         "y": [
          21.383333333333333,
          21.733333333333334,
          20.691666666666666,
          19.966666666666665,
          21.183333333333334,
          21.875,
          21.116666666666667,
          22.483333333333334,
          22.1,
          22.45,
          22.9,
          24.03333333333333,
          21.475,
          32.141666666666666,
          32.416666666666664,
          22.766666666666666,
          25.558333333333334,
          24.483333333333334,
          21.65,
          24.008333333333333,
          23.525,
          20.483333333333334,
          23.616666666666667,
          19.65833333333333
         ],
         "yaxis": "y"
        },
        {
         "hovertemplate": "port_name=Honolulu, O'ahu, HI<br>month=%{x}<br>time_at_berth_avg=%{y}<extra></extra>",
         "legendgroup": "Honolulu, O'ahu, HI",
         "line": {
          "color": "#FFA15A",
          "dash": "solid"
         },
         "marker": {
          "symbol": "circle"
         },
         "mode": "lines",
         "name": "Honolulu, O'ahu, HI",
         "showlegend": true,
         "type": "scattergl",
         "x": [
          "2018-01-01T00:00:00",
          "2018-02-01T00:00:00",
          "2018-03-01T00:00:00",
          "2018-04-01T00:00:00",
          "2018-05-01T00:00:00",
          "2018-06-01T00:00:00",
          "2018-07-01T00:00:00",
          "2018-08-01T00:00:00",
          "2018-09-01T00:00:00",
          "2018-10-01T00:00:00",
          "2018-11-01T00:00:00",
          "2018-12-01T00:00:00",
          "2019-01-01T00:00:00",
          "2019-02-01T00:00:00",
          "2019-03-01T00:00:00",
          "2019-04-01T00:00:00",
          "2019-05-01T00:00:00",
          "2019-06-01T00:00:00",
          "2019-07-01T00:00:00",
          "2019-08-01T00:00:00",
          "2019-09-01T00:00:00",
          "2019-10-01T00:00:00",
          "2019-11-01T00:00:00",
          "2019-12-01T00:00:00"
         ],
         "xaxis": "x",
         "y": [
          0.016666666666666666,
          26.7,
          28.016666666666666,
          27.991666666666667,
          21.983333333333334,
          34.80833333333333,
          25.516666666666666,
          24.608333333333334,
          29.966666666666665,
          31.016666666666666,
          32.875,
          31.833333333333332,
          29.05,
          28.466666666666665,
          32.88333333333333,
          32.96666666666667,
          28.875,
          28.349999999999998,
          32.1,
          32.708333333333336,
          29.691666666666666,
          32.016666666666666,
          33.525,
          27.316666666666666
         ],
         "yaxis": "y"
        },
        {
         "hovertemplate": "port_name=Beaumont, TX<br>month=%{x}<br>time_at_berth_avg=%{y}<extra></extra>",
         "legendgroup": "Beaumont, TX",
         "line": {
          "color": "#19d3f3",
          "dash": "solid"
         },
         "marker": {
          "symbol": "circle"
         },
         "mode": "lines",
         "name": "Beaumont, TX",
         "showlegend": true,
         "type": "scattergl",
         "x": [
          "2018-01-01T00:00:00",
          "2018-02-01T00:00:00",
          "2018-03-01T00:00:00",
          "2018-04-01T00:00:00",
          "2018-05-01T00:00:00",
          "2018-06-01T00:00:00",
          "2018-07-01T00:00:00",
          "2018-08-01T00:00:00",
          "2018-09-01T00:00:00",
          "2018-10-01T00:00:00",
          "2018-11-01T00:00:00",
          "2018-12-01T00:00:00",
          "2019-01-01T00:00:00",
          "2019-02-01T00:00:00",
          "2019-03-01T00:00:00",
          "2019-04-01T00:00:00",
          "2019-05-01T00:00:00",
          "2019-06-01T00:00:00",
          "2019-07-01T00:00:00",
          "2019-08-01T00:00:00",
          "2019-09-01T00:00:00",
          "2019-10-01T00:00:00",
          "2019-11-01T00:00:00",
          "2019-12-01T00:00:00"
         ],
         "xaxis": "x",
         "y": [
          43.608333333333334,
          53.65,
          39.916666666666664,
          38.291666666666664,
          41.666666666666664,
          42.81666666666666,
          42.875,
          40.55833333333333,
          43.5,
          42.708333333333336,
          46.05,
          50.733333333333334,
          46.983333333333334,
          56.28333333333333,
          44.38333333333333,
          46.36666666666667,
          29.191666666666666,
          43.825,
          42.11666666666667,
          42.03333333333333,
          42.55,
          41.825,
          43.1,
          43.03333333333333
         ],
         "yaxis": "y"
        },
        {
         "hovertemplate": "port_name=Manatee County Port, FL<br>month=%{x}<br>time_at_berth_avg=%{y}<extra></extra>",
         "legendgroup": "Manatee County Port, FL",
         "line": {
          "color": "#FF6692",
          "dash": "solid"
         },
         "marker": {
          "symbol": "circle"
         },
         "mode": "lines",
         "name": "Manatee County Port, FL",
         "showlegend": true,
         "type": "scattergl",
         "x": [
          "2018-01-01T00:00:00",
          "2018-02-01T00:00:00",
          "2018-03-01T00:00:00",
          "2018-04-01T00:00:00",
          "2018-05-01T00:00:00",
          "2018-06-01T00:00:00",
          "2018-07-01T00:00:00",
          "2018-08-01T00:00:00",
          "2018-09-01T00:00:00",
          "2018-10-01T00:00:00",
          "2018-11-01T00:00:00",
          "2018-12-01T00:00:00",
          "2019-01-01T00:00:00",
          "2019-02-01T00:00:00",
          "2019-03-01T00:00:00",
          "2019-04-01T00:00:00",
          "2019-05-01T00:00:00",
          "2019-06-01T00:00:00",
          "2019-07-01T00:00:00",
          "2019-08-01T00:00:00",
          "2019-09-01T00:00:00",
          "2019-10-01T00:00:00",
          "2019-11-01T00:00:00",
          "2019-12-01T00:00:00"
         ],
         "xaxis": "x",
         "y": [
          18.916666666666668,
          34.8,
          34.166666666666664,
          39.61666666666667,
          40.166666666666664,
          42.483333333333334,
          43.041666666666664,
          26.683333333333334,
          46.6,
          45.93333333333333,
          31.466666666666665,
          50.96666666666667,
          46.53333333333333,
          22.725,
          41.05,
          30.5,
          23.466666666666665,
          23.833333333333332,
          30.566666666666666,
          0.016666666666666666,
          25.03333333333333,
          34.983333333333334,
          22.608333333333334,
          25.891666666666666
         ],
         "yaxis": "y"
        },
        {
         "hovertemplate": "port_name=Tampa Port Authority, FL<br>month=%{x}<br>time_at_berth_avg=%{y}<extra></extra>",
         "legendgroup": "Tampa Port Authority, FL",
         "line": {
          "color": "#B6E880",
          "dash": "solid"
         },
         "marker": {
          "symbol": "circle"
         },
         "mode": "lines",
         "name": "Tampa Port Authority, FL",
         "showlegend": true,
         "type": "scattergl",
         "x": [
          "2018-01-01T00:00:00",
          "2018-02-01T00:00:00",
          "2018-03-01T00:00:00",
          "2018-04-01T00:00:00",
          "2018-05-01T00:00:00",
          "2018-06-01T00:00:00",
          "2018-07-01T00:00:00",
          "2018-08-01T00:00:00",
          "2018-09-01T00:00:00",
          "2018-10-01T00:00:00",
          "2018-11-01T00:00:00",
          "2018-12-01T00:00:00",
          "2019-01-01T00:00:00",
          "2019-02-01T00:00:00",
          "2019-03-01T00:00:00",
          "2019-04-01T00:00:00",
          "2019-05-01T00:00:00",
          "2019-06-01T00:00:00",
          "2019-07-01T00:00:00",
          "2019-08-01T00:00:00",
          "2019-09-01T00:00:00",
          "2019-10-01T00:00:00",
          "2019-11-01T00:00:00",
          "2019-12-01T00:00:00"
         ],
         "xaxis": "x",
         "y": [
          29,
          5.216666666666667,
          26.366666666666667,
          26.966666666666665,
          30.183333333333334,
          30.599999999999998,
          25.466666666666665,
          23.616666666666667,
          23.716666666666665,
          23.166666666666668,
          24.566666666666666,
          25.65,
          19.316666666666666,
          28.03333333333333,
          25.766666666666666,
          19.633333333333333,
          27.925,
          27.316666666666666,
          24.95,
          27.45,
          25.7,
          29.791666666666668,
          27.95,
          29.275
         ],
         "yaxis": "y"
        },
        {
         "hovertemplate": "port_name=San Juan, PR<br>month=%{x}<br>time_at_berth_avg=%{y}<extra></extra>",
         "legendgroup": "San Juan, PR",
         "line": {
          "color": "#FF97FF",
          "dash": "solid"
         },
         "marker": {
          "symbol": "circle"
         },
         "mode": "lines",
         "name": "San Juan, PR",
         "showlegend": true,
         "type": "scattergl",
         "x": [
          "2018-01-01T00:00:00",
          "2018-02-01T00:00:00",
          "2018-03-01T00:00:00",
          "2018-04-01T00:00:00",
          "2018-05-01T00:00:00",
          "2018-06-01T00:00:00",
          "2018-07-01T00:00:00",
          "2018-08-01T00:00:00",
          "2018-09-01T00:00:00",
          "2018-10-01T00:00:00",
          "2018-11-01T00:00:00",
          "2018-12-01T00:00:00",
          "2019-01-01T00:00:00",
          "2019-02-01T00:00:00",
          "2019-03-01T00:00:00",
          "2019-04-01T00:00:00",
          "2019-05-01T00:00:00",
          "2019-06-01T00:00:00",
          "2019-07-01T00:00:00",
          "2019-08-01T00:00:00",
          "2019-09-01T00:00:00",
          "2019-10-01T00:00:00",
          "2019-11-01T00:00:00",
          "2019-12-01T00:00:00"
         ],
         "xaxis": "x",
         "y": [
          0.06666666666666667,
          0.08333333333333333,
          0.1,
          5.666666666666667,
          0.9583333333333334,
          1.9,
          11.683333333333334,
          14.041666666666666,
          12.533333333333333,
          11.5,
          11.216666666666667,
          10.808333333333334,
          12,
          9.916666666666666,
          11.416666666666666,
          10.8,
          10.766666666666666,
          12.016666666666666,
          9.691666666666666,
          11.016666666666666,
          9.816666666666666,
          10.508333333333333,
          11.95,
          11.783333333333333
         ],
         "yaxis": "y"
        },
        {
         "hovertemplate": "port_name=Port of Pascagoula, MS<br>month=%{x}<br>time_at_berth_avg=%{y}<extra></extra>",
         "legendgroup": "Port of Pascagoula, MS",
         "line": {
          "color": "#FECB52",
          "dash": "solid"
         },
         "marker": {
          "symbol": "circle"
         },
         "mode": "lines",
         "name": "Port of Pascagoula, MS",
         "showlegend": true,
         "type": "scattergl",
         "x": [
          "2018-01-01T00:00:00",
          "2018-02-01T00:00:00",
          "2018-03-01T00:00:00",
          "2018-04-01T00:00:00",
          "2018-05-01T00:00:00",
          "2018-06-01T00:00:00",
          "2018-07-01T00:00:00",
          "2018-08-01T00:00:00",
          "2018-09-01T00:00:00",
          "2018-10-01T00:00:00",
          "2018-11-01T00:00:00",
          "2018-12-01T00:00:00",
          "2019-01-01T00:00:00",
          "2019-02-01T00:00:00",
          "2019-03-01T00:00:00",
          "2019-04-01T00:00:00",
          "2019-05-01T00:00:00",
          "2019-06-01T00:00:00",
          "2019-07-01T00:00:00",
          "2019-08-01T00:00:00",
          "2019-09-01T00:00:00",
          "2019-10-01T00:00:00",
          "2019-11-01T00:00:00",
          "2019-12-01T00:00:00"
         ],
         "xaxis": "x",
         "y": [
          41.016666666666666,
          40.85,
          45.266666666666666,
          39.34166666666667,
          35.28333333333333,
          39.53333333333333,
          43.80833333333333,
          40.275,
          42.28333333333333,
          36.358333333333334,
          45.333333333333336,
          42.925,
          44.8,
          38.25,
          38.733333333333334,
          0.35,
          45.21666666666667,
          33.016666666666666,
          37.891666666666666,
          30.75,
          39.31666666666666,
          42.71666666666667,
          44.733333333333334,
          18.35
         ],
         "yaxis": "y"
        },
        {
         "hovertemplate": "port_name=Nawiliwili, Kaua'i, HI<br>month=%{x}<br>time_at_berth_avg=%{y}<extra></extra>",
         "legendgroup": "Nawiliwili, Kaua'i, HI",
         "line": {
          "color": "#636efa",
          "dash": "solid"
         },
         "marker": {
          "symbol": "circle"
         },
         "mode": "lines",
         "name": "Nawiliwili, Kaua'i, HI",
         "showlegend": true,
         "type": "scattergl",
         "x": [
          "2018-01-01T00:00:00",
          "2018-02-01T00:00:00",
          "2018-03-01T00:00:00",
          "2018-04-01T00:00:00",
          "2018-06-01T00:00:00",
          "2018-07-01T00:00:00",
          "2018-08-01T00:00:00",
          "2018-09-01T00:00:00",
          "2018-10-01T00:00:00",
          "2018-12-01T00:00:00",
          "2019-01-01T00:00:00",
          "2019-02-01T00:00:00",
          "2019-03-01T00:00:00",
          "2019-04-01T00:00:00",
          "2019-05-01T00:00:00",
          "2019-06-01T00:00:00",
          "2019-07-01T00:00:00",
          "2019-08-01T00:00:00",
          "2019-09-01T00:00:00",
          "2019-10-01T00:00:00",
          "2019-11-01T00:00:00",
          "2019-12-01T00:00:00"
         ],
         "xaxis": "x",
         "y": [
          null,
          8.5,
          24.183333333333334,
          null,
          6.583333333333333,
          9.2,
          11.566666666666666,
          316.23333333333335,
          10.125,
          null,
          23.116666666666667,
          26.9,
          24,
          25.28333333333333,
          11.05,
          23,
          11.366666666666667,
          11.133333333333333,
          null,
          13.975,
          82.93333333333334,
          10.541666666666666
         ],
         "yaxis": "y"
        },
        {
         "hovertemplate": "port_name=Hilo, Hawai'i, HI<br>month=%{x}<br>time_at_berth_avg=%{y}<extra></extra>",
         "legendgroup": "Hilo, Hawai'i, HI",
         "line": {
          "color": "#EF553B",
          "dash": "solid"
         },
         "marker": {
          "symbol": "circle"
         },
         "mode": "lines",
         "name": "Hilo, Hawai'i, HI",
         "showlegend": true,
         "type": "scattergl",
         "x": [
          "2018-01-01T00:00:00",
          "2018-02-01T00:00:00",
          "2018-07-01T00:00:00",
          "2018-11-01T00:00:00",
          "2019-12-01T00:00:00"
         ],
         "xaxis": "x",
         "y": [
          null,
          1.75,
          151.85,
          null,
          0.4166666666666667
         ],
         "yaxis": "y"
        },
        {
         "hovertemplate": "port_name=Houston Port Authority, TX<br>month=%{x}<br>time_at_berth_avg=%{y}<extra></extra>",
         "legendgroup": "Houston Port Authority, TX",
         "line": {
          "color": "#00cc96",
          "dash": "solid"
         },
         "marker": {
          "symbol": "circle"
         },
         "mode": "lines",
         "name": "Houston Port Authority, TX",
         "showlegend": true,
         "type": "scattergl",
         "x": [
          "2018-01-01T00:00:00",
          "2018-02-01T00:00:00",
          "2018-03-01T00:00:00",
          "2018-04-01T00:00:00",
          "2018-05-01T00:00:00",
          "2018-06-01T00:00:00",
          "2018-07-01T00:00:00",
          "2018-08-01T00:00:00",
          "2018-09-01T00:00:00",
          "2018-10-01T00:00:00",
          "2018-11-01T00:00:00",
          "2018-12-01T00:00:00",
          "2019-01-01T00:00:00",
          "2019-02-01T00:00:00",
          "2019-03-01T00:00:00",
          "2019-04-01T00:00:00",
          "2019-05-01T00:00:00",
          "2019-06-01T00:00:00",
          "2019-07-01T00:00:00",
          "2019-08-01T00:00:00",
          "2019-09-01T00:00:00",
          "2019-10-01T00:00:00",
          "2019-11-01T00:00:00",
          "2019-12-01T00:00:00"
         ],
         "xaxis": "x",
         "y": [
          42.233333333333334,
          46.75833333333333,
          39.833333333333336,
          40.833333333333336,
          37.391666666666666,
          39.141666666666666,
          38.03333333333333,
          38.56666666666666,
          37.65,
          36.09166666666667,
          37.675,
          37.61666666666667,
          37.15833333333333,
          43.25,
          47.3,
          38.1,
          1.3,
          35.88333333333333,
          38.93333333333333,
          36.8,
          37.81666666666666,
          37.18333333333333,
          38.15833333333333,
          33.425
         ],
         "yaxis": "y"
        },
        {
         "hovertemplate": "port_name=Port of Gulfport, MS<br>month=%{x}<br>time_at_berth_avg=%{y}<extra></extra>",
         "legendgroup": "Port of Gulfport, MS",
         "line": {
          "color": "#ab63fa",
          "dash": "solid"
         },
         "marker": {
          "symbol": "circle"
         },
         "mode": "lines",
         "name": "Port of Gulfport, MS",
         "showlegend": true,
         "type": "scattergl",
         "x": [
          "2018-01-01T00:00:00",
          "2018-02-01T00:00:00",
          "2018-03-01T00:00:00",
          "2018-04-01T00:00:00",
          "2018-05-01T00:00:00",
          "2018-06-01T00:00:00",
          "2018-07-01T00:00:00",
          "2018-08-01T00:00:00",
          "2018-09-01T00:00:00",
          "2018-10-01T00:00:00",
          "2018-11-01T00:00:00",
          "2018-12-01T00:00:00",
          "2019-01-01T00:00:00",
          "2019-02-01T00:00:00",
          "2019-03-01T00:00:00",
          "2019-04-01T00:00:00",
          "2019-05-01T00:00:00",
          "2019-06-01T00:00:00",
          "2019-07-01T00:00:00",
          "2019-08-01T00:00:00",
          "2019-09-01T00:00:00",
          "2019-10-01T00:00:00",
          "2019-11-01T00:00:00",
          "2019-12-01T00:00:00"
         ],
         "xaxis": "x",
         "y": [
          17.716666666666665,
          16.566666666666666,
          15.183333333333334,
          16.141666666666666,
          15.066666666666666,
          14.966666666666667,
          13.116666666666667,
          11.883333333333333,
          13.983333333333333,
          13.875,
          16.75,
          11.666666666666666,
          20.016666666666666,
          14,
          16.7,
          16.008333333333333,
          18.541666666666668,
          12.641666666666666,
          10.55,
          18.425,
          17.85,
          17.941666666666666,
          16.833333333333332,
          13.9
         ],
         "yaxis": "y"
        },
        {
         "hovertemplate": "port_name=Port Jefferson, NY<br>month=%{x}<br>time_at_berth_avg=%{y}<extra></extra>",
         "legendgroup": "Port Jefferson, NY",
         "line": {
          "color": "#FFA15A",
          "dash": "solid"
         },
         "marker": {
          "symbol": "circle"
         },
         "mode": "lines",
         "name": "Port Jefferson, NY",
         "showlegend": true,
         "type": "scattergl",
         "x": [
          "2018-01-01T00:00:00",
          "2018-02-01T00:00:00",
          "2018-04-01T00:00:00",
          "2018-05-01T00:00:00",
          "2018-06-01T00:00:00",
          "2018-07-01T00:00:00",
          "2018-08-01T00:00:00",
          "2018-09-01T00:00:00",
          "2018-10-01T00:00:00",
          "2018-11-01T00:00:00",
          "2018-12-01T00:00:00",
          "2019-01-01T00:00:00",
          "2019-02-01T00:00:00",
          "2019-03-01T00:00:00",
          "2019-04-01T00:00:00",
          "2019-05-01T00:00:00",
          "2019-06-01T00:00:00",
          "2019-07-01T00:00:00",
          "2019-08-01T00:00:00",
          "2019-09-01T00:00:00",
          "2019-10-01T00:00:00",
          "2019-11-01T00:00:00",
          "2019-12-01T00:00:00"
         ],
         "xaxis": "x",
         "y": [
          51.56666666666666,
          24,
          46.45,
          45,
          0.016666666666666666,
          1.4333333333333333,
          36.65,
          0.03333333333333333,
          20.53333333333333,
          31.633333333333333,
          26.55,
          null,
          60.84166666666667,
          null,
          33.083333333333336,
          58.85,
          45.61666666666667,
          37.86666666666667,
          71.80833333333334,
          0.016666666666666666,
          45.7,
          25.883333333333333,
          136.56666666666666
         ],
         "yaxis": "y"
        },
        {
         "hovertemplate": "port_name=Port of Savannah, GA<br>month=%{x}<br>time_at_berth_avg=%{y}<extra></extra>",
         "legendgroup": "Port of Savannah, GA",
         "line": {
          "color": "#19d3f3",
          "dash": "solid"
         },
         "marker": {
          "symbol": "circle"
         },
         "mode": "lines",
         "name": "Port of Savannah, GA",
         "showlegend": true,
         "type": "scattergl",
         "x": [
          "2018-01-01T00:00:00",
          "2018-02-01T00:00:00",
          "2018-03-01T00:00:00",
          "2018-04-01T00:00:00",
          "2018-05-01T00:00:00",
          "2018-06-01T00:00:00",
          "2018-07-01T00:00:00",
          "2018-08-01T00:00:00",
          "2018-09-01T00:00:00",
          "2018-10-01T00:00:00",
          "2018-11-01T00:00:00",
          "2018-12-01T00:00:00",
          "2019-01-01T00:00:00",
          "2019-02-01T00:00:00",
          "2019-03-01T00:00:00",
          "2019-04-01T00:00:00",
          "2019-05-01T00:00:00",
          "2019-06-01T00:00:00",
          "2019-07-01T00:00:00",
          "2019-08-01T00:00:00",
          "2019-09-01T00:00:00",
          "2019-10-01T00:00:00",
          "2019-11-01T00:00:00",
          "2019-12-01T00:00:00"
         ],
         "xaxis": "x",
         "y": [
          19.883333333333333,
          22.608333333333334,
          21.633333333333333,
          19.3,
          20.3,
          19.066666666666666,
          19.258333333333333,
          18.25,
          19.141666666666666,
          19.55,
          17.78333333333333,
          20.216666666666665,
          21.65,
          23.225,
          20.95,
          19.466666666666665,
          18.125,
          18.95,
          20.1,
          18.716666666666665,
          17.566666666666666,
          19.008333333333333,
          18.40833333333333,
          18.183333333333334
         ],
         "yaxis": "y"
        },
        {
         "hovertemplate": "port_name=Port Everglades, FL<br>month=%{x}<br>time_at_berth_avg=%{y}<extra></extra>",
         "legendgroup": "Port Everglades, FL",
         "line": {
          "color": "#FF6692",
          "dash": "solid"
         },
         "marker": {
          "symbol": "circle"
         },
         "mode": "lines",
         "name": "Port Everglades, FL",
         "showlegend": true,
         "type": "scattergl",
         "x": [
          "2018-01-01T00:00:00",
          "2018-02-01T00:00:00",
          "2018-03-01T00:00:00",
          "2018-04-01T00:00:00",
          "2018-05-01T00:00:00",
          "2018-06-01T00:00:00",
          "2018-07-01T00:00:00",
          "2018-08-01T00:00:00",
          "2018-09-01T00:00:00",
          "2018-10-01T00:00:00",
          "2018-11-01T00:00:00",
          "2018-12-01T00:00:00",
          "2019-01-01T00:00:00",
          "2019-02-01T00:00:00",
          "2019-03-01T00:00:00",
          "2019-04-01T00:00:00",
          "2019-05-01T00:00:00",
          "2019-06-01T00:00:00",
          "2019-07-01T00:00:00",
          "2019-08-01T00:00:00",
          "2019-09-01T00:00:00",
          "2019-10-01T00:00:00",
          "2019-11-01T00:00:00",
          "2019-12-01T00:00:00"
         ],
         "xaxis": "x",
         "y": [
          18,
          16.45,
          16.183333333333334,
          16.166666666666668,
          15.6,
          13.566666666666666,
          14.016666666666666,
          13.733333333333333,
          16.016666666666666,
          17.008333333333333,
          15.833333333333334,
          10.466666666666667,
          13.658333333333333,
          13.35,
          11.45,
          11.508333333333333,
          8.233333333333333,
          13,
          15.066666666666666,
          11.583333333333334,
          14.283333333333333,
          10.975,
          12.4,
          11.725
         ],
         "yaxis": "y"
        },
        {
         "hovertemplate": "port_name=Greater Lafourche Port, LA<br>month=%{x}<br>time_at_berth_avg=%{y}<extra></extra>",
         "legendgroup": "Greater Lafourche Port, LA",
         "line": {
          "color": "#B6E880",
          "dash": "solid"
         },
         "marker": {
          "symbol": "circle"
         },
         "mode": "lines",
         "name": "Greater Lafourche Port, LA",
         "showlegend": true,
         "type": "scattergl",
         "x": [
          "2018-01-01T00:00:00",
          "2018-02-01T00:00:00",
          "2018-03-01T00:00:00",
          "2018-04-01T00:00:00",
          "2018-05-01T00:00:00",
          "2018-06-01T00:00:00",
          "2018-07-01T00:00:00",
          "2018-08-01T00:00:00",
          "2018-09-01T00:00:00",
          "2018-10-01T00:00:00",
          "2018-11-01T00:00:00",
          "2018-12-01T00:00:00",
          "2019-01-01T00:00:00",
          "2019-02-01T00:00:00",
          "2019-03-01T00:00:00",
          "2019-04-01T00:00:00",
          "2019-05-01T00:00:00",
          "2019-06-01T00:00:00",
          "2019-07-01T00:00:00",
          "2019-08-01T00:00:00",
          "2019-09-01T00:00:00",
          "2019-10-01T00:00:00",
          "2019-11-01T00:00:00",
          "2019-12-01T00:00:00"
         ],
         "xaxis": "x",
         "y": [
          13.866666666666667,
          23.616666666666667,
          22.983333333333334,
          12.458333333333334,
          19.53333333333333,
          25.8,
          18.633333333333333,
          11.341666666666667,
          17.441666666666666,
          17.166666666666668,
          19.166666666666668,
          16.133333333333333,
          6.966666666666667,
          16.366666666666667,
          13.7,
          15.258333333333333,
          20.225,
          19.15,
          18.583333333333332,
          22.3,
          22.166666666666668,
          24.483333333333334,
          23.316666666666666,
          21.566666666666666
         ],
         "yaxis": "y"
        },
        {
         "hovertemplate": "port_name=Stockton, CA<br>month=%{x}<br>time_at_berth_avg=%{y}<extra></extra>",
         "legendgroup": "Stockton, CA",
         "line": {
          "color": "#FF97FF",
          "dash": "solid"
         },
         "marker": {
          "symbol": "circle"
         },
         "mode": "lines",
         "name": "Stockton, CA",
         "showlegend": true,
         "type": "scattergl",
         "x": [
          "2018-01-01T00:00:00",
          "2018-02-01T00:00:00",
          "2018-03-01T00:00:00",
          "2018-04-01T00:00:00",
          "2018-05-01T00:00:00",
          "2018-06-01T00:00:00",
          "2018-07-01T00:00:00",
          "2018-08-01T00:00:00",
          "2018-09-01T00:00:00",
          "2018-10-01T00:00:00",
          "2018-11-01T00:00:00",
          "2018-12-01T00:00:00",
          "2019-01-01T00:00:00",
          "2019-02-01T00:00:00",
          "2019-03-01T00:00:00",
          "2019-04-01T00:00:00",
          "2019-05-01T00:00:00",
          "2019-06-01T00:00:00",
          "2019-07-01T00:00:00",
          "2019-08-01T00:00:00",
          "2019-09-01T00:00:00",
          "2019-10-01T00:00:00",
          "2019-11-01T00:00:00",
          "2019-12-01T00:00:00"
         ],
         "xaxis": "x",
         "y": [
          63.233333333333334,
          46.641666666666666,
          61.983333333333334,
          69.51666666666667,
          58.53333333333333,
          66.76666666666667,
          69.78333333333333,
          75.75,
          65.55833333333334,
          41.15,
          57.38333333333333,
          68.03333333333333,
          73.63333333333333,
          89.31666666666666,
          55.05,
          42,
          58.833333333333336,
          66.61666666666666,
          59.74166666666667,
          92.81666666666666,
          27.53333333333333,
          64.50833333333333,
          63.791666666666664,
          67.25
         ],
         "yaxis": "y"
        },
        {
         "hovertemplate": "port_name=Lake Charles Harbor District, LA<br>month=%{x}<br>time_at_berth_avg=%{y}<extra></extra>",
         "legendgroup": "Lake Charles Harbor District, LA",
         "line": {
          "color": "#FECB52",
          "dash": "solid"
         },
         "marker": {
          "symbol": "circle"
         },
         "mode": "lines",
         "name": "Lake Charles Harbor District, LA",
         "showlegend": true,
         "type": "scattergl",
         "x": [
          "2018-01-01T00:00:00",
          "2018-02-01T00:00:00",
          "2018-03-01T00:00:00",
          "2018-04-01T00:00:00",
          "2018-05-01T00:00:00",
          "2018-06-01T00:00:00",
          "2018-07-01T00:00:00",
          "2018-08-01T00:00:00",
          "2018-09-01T00:00:00",
          "2018-10-01T00:00:00",
          "2018-11-01T00:00:00",
          "2018-12-01T00:00:00",
          "2019-01-01T00:00:00",
          "2019-02-01T00:00:00",
          "2019-03-01T00:00:00",
          "2019-04-01T00:00:00",
          "2019-05-01T00:00:00",
          "2019-06-01T00:00:00",
          "2019-07-01T00:00:00",
          "2019-08-01T00:00:00",
          "2019-09-01T00:00:00",
          "2019-10-01T00:00:00",
          "2019-11-01T00:00:00",
          "2019-12-01T00:00:00"
         ],
         "xaxis": "x",
         "y": [
          41.61666666666667,
          49.391666666666666,
          38.541666666666664,
          40.725,
          37.075,
          43.34166666666667,
          43.35,
          41.666666666666664,
          38.95,
          51,
          47.06666666666666,
          42.541666666666664,
          41.141666666666666,
          42.3,
          44.458333333333336,
          38.99166666666667,
          28.599999999999998,
          37.86666666666667,
          40.5,
          37.8,
          35.63333333333333,
          35.45,
          35.99166666666667,
          39.325
         ],
         "yaxis": "y"
        },
        {
         "hovertemplate": "port_name=Detroit-Wayne County Port, MI<br>month=%{x}<br>time_at_berth_avg=%{y}<extra></extra>",
         "legendgroup": "Detroit-Wayne County Port, MI",
         "line": {
          "color": "#636efa",
          "dash": "solid"
         },
         "marker": {
          "symbol": "circle"
         },
         "mode": "lines",
         "name": "Detroit-Wayne County Port, MI",
         "showlegend": true,
         "type": "scattergl",
         "x": [
          "2018-01-01T00:00:00",
          "2018-02-01T00:00:00",
          "2018-03-01T00:00:00",
          "2018-04-01T00:00:00",
          "2018-05-01T00:00:00",
          "2018-06-01T00:00:00",
          "2018-07-01T00:00:00",
          "2018-08-01T00:00:00",
          "2018-09-01T00:00:00",
          "2018-10-01T00:00:00",
          "2018-11-01T00:00:00",
          "2018-12-01T00:00:00",
          "2019-01-01T00:00:00",
          "2019-02-01T00:00:00",
          "2019-03-01T00:00:00",
          "2019-04-01T00:00:00",
          "2019-05-01T00:00:00",
          "2019-06-01T00:00:00",
          "2019-07-01T00:00:00",
          "2019-08-01T00:00:00",
          "2019-09-01T00:00:00",
          "2019-10-01T00:00:00",
          "2019-11-01T00:00:00",
          "2019-12-01T00:00:00"
         ],
         "xaxis": "x",
         "y": [
          66.16666666666667,
          4.6,
          20.766666666666666,
          12.391666666666666,
          12.716666666666667,
          12.325,
          7.941666666666666,
          11.5,
          7.966666666666667,
          14.883333333333333,
          14.833333333333334,
          16.366666666666667,
          31.333333333333332,
          18.733333333333334,
          9.116666666666667,
          8.25,
          10.55,
          9.883333333333333,
          7.683333333333334,
          8.808333333333334,
          8.766666666666666,
          7.933333333333334,
          8.208333333333334,
          7.341666666666667
         ],
         "yaxis": "y"
        },
        {
         "hovertemplate": "port_name=Cleveland-Cuyahoga Port, OH<br>month=%{x}<br>time_at_berth_avg=%{y}<extra></extra>",
         "legendgroup": "Cleveland-Cuyahoga Port, OH",
         "line": {
          "color": "#EF553B",
          "dash": "solid"
         },
         "marker": {
          "symbol": "circle"
         },
         "mode": "lines",
         "name": "Cleveland-Cuyahoga Port, OH",
         "showlegend": true,
         "type": "scattergl",
         "x": [
          "2018-01-01T00:00:00",
          "2018-03-01T00:00:00",
          "2018-04-01T00:00:00",
          "2018-05-01T00:00:00",
          "2018-06-01T00:00:00",
          "2018-07-01T00:00:00",
          "2018-08-01T00:00:00",
          "2018-09-01T00:00:00",
          "2018-10-01T00:00:00",
          "2018-11-01T00:00:00",
          "2018-12-01T00:00:00",
          "2019-01-01T00:00:00",
          "2019-02-01T00:00:00",
          "2019-03-01T00:00:00",
          "2019-04-01T00:00:00",
          "2019-05-01T00:00:00",
          "2019-06-01T00:00:00",
          "2019-07-01T00:00:00",
          "2019-08-01T00:00:00",
          "2019-09-01T00:00:00",
          "2019-10-01T00:00:00",
          "2019-11-01T00:00:00",
          "2019-12-01T00:00:00"
         ],
         "xaxis": "x",
         "y": [
          1912.6833333333334,
          29.883333333333333,
          15.4,
          37.516666666666666,
          35.916666666666664,
          25.333333333333332,
          16.78333333333333,
          21.983333333333334,
          17.03333333333333,
          27.724999999999998,
          9.808333333333334,
          16.816666666666666,
          937.6166666666667,
          17.433333333333334,
          27.766666666666666,
          12.55,
          33.44166666666666,
          10.716666666666667,
          22.808333333333334,
          23.358333333333334,
          14.258333333333333,
          24.975,
          35.15
         ],
         "yaxis": "y"
        },
        {
         "hovertemplate": "port_name=Guaynabo, PR<br>month=%{x}<br>time_at_berth_avg=%{y}<extra></extra>",
         "legendgroup": "Guaynabo, PR",
         "line": {
          "color": "#00cc96",
          "dash": "solid"
         },
         "marker": {
          "symbol": "circle"
         },
         "mode": "lines",
         "name": "Guaynabo, PR",
         "showlegend": true,
         "type": "scattergl",
         "x": [
          "2018-01-01T00:00:00",
          "2018-02-01T00:00:00",
          "2018-03-01T00:00:00",
          "2018-04-01T00:00:00",
          "2018-05-01T00:00:00",
          "2018-06-01T00:00:00",
          "2018-07-01T00:00:00",
          "2018-08-01T00:00:00",
          "2018-09-01T00:00:00",
          "2018-10-01T00:00:00",
          "2018-11-01T00:00:00",
          "2018-12-01T00:00:00",
          "2019-01-01T00:00:00",
          "2019-02-01T00:00:00",
          "2019-03-01T00:00:00",
          "2019-04-01T00:00:00",
          "2019-05-01T00:00:00",
          "2019-06-01T00:00:00",
          "2019-07-01T00:00:00",
          "2019-08-01T00:00:00",
          "2019-09-01T00:00:00",
          "2019-10-01T00:00:00",
          "2019-11-01T00:00:00",
          "2019-12-01T00:00:00"
         ],
         "xaxis": "x",
         "y": [
          0.05,
          19.35,
          0.08333333333333333,
          6.966666666666667,
          0.95,
          1.9666666666666666,
          39.458333333333336,
          36.9,
          38.083333333333336,
          50.358333333333334,
          53.775,
          37.13333333333333,
          42.891666666666666,
          59.71666666666667,
          44,
          38.833333333333336,
          32.083333333333336,
          39.53333333333333,
          20.933333333333334,
          33.03333333333333,
          38.28333333333333,
          54.375,
          34.21666666666667,
          44.81666666666666
         ],
         "yaxis": "y"
        },
        {
         "hovertemplate": "port_name=Philadelphia Regional Port, PA<br>month=%{x}<br>time_at_berth_avg=%{y}<extra></extra>",
         "legendgroup": "Philadelphia Regional Port, PA",
         "line": {
          "color": "#ab63fa",
          "dash": "solid"
         },
         "marker": {
          "symbol": "circle"
         },
         "mode": "lines",
         "name": "Philadelphia Regional Port, PA",
         "showlegend": true,
         "type": "scattergl",
         "x": [
          "2018-01-01T00:00:00",
          "2018-02-01T00:00:00",
          "2018-03-01T00:00:00",
          "2018-04-01T00:00:00",
          "2018-05-01T00:00:00",
          "2018-06-01T00:00:00",
          "2018-07-01T00:00:00",
          "2018-08-01T00:00:00",
          "2018-09-01T00:00:00",
          "2018-10-01T00:00:00",
          "2018-11-01T00:00:00",
          "2018-12-01T00:00:00",
          "2019-01-01T00:00:00",
          "2019-02-01T00:00:00",
          "2019-03-01T00:00:00",
          "2019-04-01T00:00:00",
          "2019-05-01T00:00:00",
          "2019-06-01T00:00:00",
          "2019-07-01T00:00:00",
          "2019-08-01T00:00:00",
          "2019-09-01T00:00:00",
          "2019-10-01T00:00:00",
          "2019-11-01T00:00:00",
          "2019-12-01T00:00:00"
         ],
         "xaxis": "x",
         "y": [
          33.25,
          33.666666666666664,
          35.108333333333334,
          32.75,
          21.375,
          24.958333333333332,
          21.316666666666666,
          25.883333333333333,
          28.383333333333333,
          23.383333333333333,
          23.216666666666665,
          32.68333333333333,
          25.1,
          33.2,
          35.06666666666666,
          29.016666666666666,
          24.191666666666666,
          24.716666666666665,
          23.125,
          21.75,
          0.1,
          0.06666666666666667,
          0.08333333333333333,
          20.633333333333333
         ],
         "yaxis": "y"
        },
        {
         "hovertemplate": "port_name=Port Arthur, TX<br>month=%{x}<br>time_at_berth_avg=%{y}<extra></extra>",
         "legendgroup": "Port Arthur, TX",
         "line": {
          "color": "#FFA15A",
          "dash": "solid"
         },
         "marker": {
          "symbol": "circle"
         },
         "mode": "lines",
         "name": "Port Arthur, TX",
         "showlegend": true,
         "type": "scattergl",
         "x": [
          "2018-01-01T00:00:00",
          "2018-02-01T00:00:00",
          "2018-03-01T00:00:00",
          "2018-04-01T00:00:00",
          "2018-05-01T00:00:00",
          "2018-06-01T00:00:00",
          "2018-07-01T00:00:00",
          "2018-08-01T00:00:00",
          "2018-09-01T00:00:00",
          "2018-10-01T00:00:00",
          "2018-11-01T00:00:00",
          "2018-12-01T00:00:00",
          "2019-01-01T00:00:00",
          "2019-02-01T00:00:00",
          "2019-03-01T00:00:00",
          "2019-04-01T00:00:00",
          "2019-05-01T00:00:00",
          "2019-06-01T00:00:00",
          "2019-07-01T00:00:00",
          "2019-08-01T00:00:00",
          "2019-09-01T00:00:00",
          "2019-10-01T00:00:00",
          "2019-11-01T00:00:00",
          "2019-12-01T00:00:00"
         ],
         "xaxis": "x",
         "y": [
          39.43333333333333,
          43.516666666666666,
          37.833333333333336,
          37.30833333333333,
          37.63333333333333,
          36.31666666666666,
          36.075,
          31.9,
          41.90833333333333,
          38.06666666666666,
          37.03333333333333,
          40.516666666666666,
          41.925,
          48.11666666666667,
          39.891666666666666,
          38.03333333333333,
          1.9833333333333334,
          35.3,
          34.45,
          32.358333333333334,
          36.766666666666666,
          31.883333333333333,
          30.55,
          36.30833333333333
         ],
         "yaxis": "y"
        },
        {
         "hovertemplate": "port_name=Tacoma, WA<br>month=%{x}<br>time_at_berth_avg=%{y}<extra></extra>",
         "legendgroup": "Tacoma, WA",
         "line": {
          "color": "#19d3f3",
          "dash": "solid"
         },
         "marker": {
          "symbol": "circle"
         },
         "mode": "lines",
         "name": "Tacoma, WA",
         "showlegend": true,
         "type": "scattergl",
         "x": [
          "2018-01-01T00:00:00",
          "2018-02-01T00:00:00",
          "2018-03-01T00:00:00",
          "2018-04-01T00:00:00",
          "2018-05-01T00:00:00",
          "2018-06-01T00:00:00",
          "2018-07-01T00:00:00",
          "2018-08-01T00:00:00",
          "2018-09-01T00:00:00",
          "2018-10-01T00:00:00",
          "2018-11-01T00:00:00",
          "2018-12-01T00:00:00",
          "2019-01-01T00:00:00",
          "2019-02-01T00:00:00",
          "2019-03-01T00:00:00",
          "2019-04-01T00:00:00",
          "2019-05-01T00:00:00",
          "2019-06-01T00:00:00",
          "2019-07-01T00:00:00",
          "2019-08-01T00:00:00",
          "2019-09-01T00:00:00",
          "2019-10-01T00:00:00",
          "2019-11-01T00:00:00",
          "2019-12-01T00:00:00"
         ],
         "xaxis": "x",
         "y": [
          33.13333333333333,
          31.166666666666668,
          23.78333333333333,
          27.65,
          27.2,
          28.4,
          32.96666666666667,
          26.383333333333333,
          28.933333333333334,
          34.575,
          25.9,
          21.566666666666666,
          14.475,
          21.633333333333333,
          15.15,
          17.516666666666666,
          22.15833333333333,
          20.833333333333332,
          23.933333333333334,
          21.016666666666666,
          19.633333333333333,
          20.616666666666667,
          14.174999999999999,
          16.65833333333333
         ],
         "yaxis": "y"
        },
        {
         "hovertemplate": "port_name=South Louisiana, LA, Port of<br>month=%{x}<br>time_at_berth_avg=%{y}<extra></extra>",
         "legendgroup": "South Louisiana, LA, Port of",
         "line": {
          "color": "#FF6692",
          "dash": "solid"
         },
         "marker": {
          "symbol": "circle"
         },
         "mode": "lines",
         "name": "South Louisiana, LA, Port of",
         "showlegend": true,
         "type": "scattergl",
         "x": [
          "2018-01-01T00:00:00",
          "2018-02-01T00:00:00",
          "2018-03-01T00:00:00",
          "2018-04-01T00:00:00",
          "2018-05-01T00:00:00",
          "2018-06-01T00:00:00",
          "2018-07-01T00:00:00",
          "2018-08-01T00:00:00",
          "2018-09-01T00:00:00",
          "2018-10-01T00:00:00",
          "2018-11-01T00:00:00",
          "2018-12-01T00:00:00",
          "2019-01-01T00:00:00",
          "2019-02-01T00:00:00",
          "2019-03-01T00:00:00",
          "2019-04-01T00:00:00",
          "2019-05-01T00:00:00",
          "2019-06-01T00:00:00",
          "2019-07-01T00:00:00",
          "2019-08-01T00:00:00",
          "2019-09-01T00:00:00",
          "2019-10-01T00:00:00",
          "2019-11-01T00:00:00",
          "2019-12-01T00:00:00"
         ],
         "xaxis": "x",
         "y": [
          47.016666666666666,
          41.81666666666666,
          43.166666666666664,
          42.68333333333333,
          43.05,
          38.425,
          39.858333333333334,
          38.583333333333336,
          39.28333333333333,
          30.183333333333334,
          43.266666666666666,
          45.86666666666667,
          45.766666666666666,
          48.06666666666666,
          44.016666666666666,
          46.21666666666667,
          43.96666666666667,
          40.75,
          43.916666666666664,
          30.3,
          31,
          36.208333333333336,
          37.31666666666666,
          44.03333333333333
         ],
         "yaxis": "y"
        },
        {
         "hovertemplate": "port_name=Yabucoa, PR<br>month=%{x}<br>time_at_berth_avg=%{y}<extra></extra>",
         "legendgroup": "Yabucoa, PR",
         "line": {
          "color": "#B6E880",
          "dash": "solid"
         },
         "marker": {
          "symbol": "circle"
         },
         "mode": "lines",
         "name": "Yabucoa, PR",
         "showlegend": true,
         "type": "scattergl",
         "x": [
          "2018-01-01T00:00:00",
          "2018-02-01T00:00:00",
          "2018-03-01T00:00:00",
          "2018-04-01T00:00:00",
          "2018-05-01T00:00:00",
          "2018-06-01T00:00:00",
          "2018-07-01T00:00:00",
          "2018-08-01T00:00:00",
          "2018-09-01T00:00:00",
          "2018-10-01T00:00:00",
          "2018-11-01T00:00:00",
          "2018-12-01T00:00:00",
          "2019-01-01T00:00:00",
          "2019-02-01T00:00:00",
          "2019-03-01T00:00:00",
          "2019-04-01T00:00:00",
          "2019-05-01T00:00:00",
          "2019-06-01T00:00:00",
          "2019-07-01T00:00:00",
          "2019-08-01T00:00:00",
          "2019-09-01T00:00:00",
          "2019-10-01T00:00:00",
          "2019-11-01T00:00:00",
          "2019-12-01T00:00:00"
         ],
         "xaxis": "x",
         "y": [
          18.233333333333334,
          1.8833333333333333,
          0.08333333333333333,
          41.833333333333336,
          0.45,
          0.4666666666666667,
          32.25833333333333,
          38.75,
          36.2,
          40.38333333333333,
          32.28333333333333,
          28.724999999999998,
          45.74166666666667,
          35.03333333333333,
          37.641666666666666,
          40.40833333333333,
          44.69166666666666,
          38.541666666666664,
          48.75833333333333,
          30.333333333333332,
          41.45,
          42.06666666666666,
          50.05,
          47.93333333333333
         ],
         "yaxis": "y"
        },
        {
         "hovertemplate": "port_name=Port of Longview, WA<br>month=%{x}<br>time_at_berth_avg=%{y}<extra></extra>",
         "legendgroup": "Port of Longview, WA",
         "line": {
          "color": "#FF97FF",
          "dash": "solid"
         },
         "marker": {
          "symbol": "circle"
         },
         "mode": "lines",
         "name": "Port of Longview, WA",
         "showlegend": true,
         "type": "scattergl",
         "x": [
          "2018-01-01T00:00:00",
          "2018-02-01T00:00:00",
          "2018-03-01T00:00:00",
          "2018-04-01T00:00:00",
          "2018-05-01T00:00:00",
          "2018-06-01T00:00:00",
          "2018-07-01T00:00:00",
          "2018-08-01T00:00:00",
          "2018-09-01T00:00:00",
          "2018-10-01T00:00:00",
          "2018-11-01T00:00:00",
          "2018-12-01T00:00:00",
          "2019-01-01T00:00:00",
          "2019-02-01T00:00:00",
          "2019-03-01T00:00:00",
          "2019-04-01T00:00:00",
          "2019-05-01T00:00:00",
          "2019-06-01T00:00:00",
          "2019-07-01T00:00:00",
          "2019-08-01T00:00:00",
          "2019-09-01T00:00:00",
          "2019-10-01T00:00:00",
          "2019-11-01T00:00:00",
          "2019-12-01T00:00:00"
         ],
         "xaxis": "x",
         "y": [
          68.56666666666666,
          64.05,
          51.63333333333333,
          47.041666666666664,
          51.666666666666664,
          47.81666666666666,
          52.71666666666667,
          47.21666666666667,
          72.98333333333333,
          70.48333333333333,
          71,
          74.19166666666666,
          67.88333333333333,
          75.61666666666666,
          67.31666666666666,
          0.06666666666666667,
          63.65,
          62.8,
          61.333333333333336,
          86.3,
          49,
          63.68333333333333,
          62.574999999999996,
          57.916666666666664
         ],
         "yaxis": "y"
        },
        {
         "hovertemplate": "port_name=Wilmington, NC<br>month=%{x}<br>time_at_berth_avg=%{y}<extra></extra>",
         "legendgroup": "Wilmington, NC",
         "line": {
          "color": "#FECB52",
          "dash": "solid"
         },
         "marker": {
          "symbol": "circle"
         },
         "mode": "lines",
         "name": "Wilmington, NC",
         "showlegend": true,
         "type": "scattergl",
         "x": [
          "2018-01-01T00:00:00",
          "2018-02-01T00:00:00",
          "2018-03-01T00:00:00",
          "2018-04-01T00:00:00",
          "2018-05-01T00:00:00",
          "2018-06-01T00:00:00",
          "2018-07-01T00:00:00",
          "2018-08-01T00:00:00",
          "2018-09-01T00:00:00",
          "2018-10-01T00:00:00",
          "2018-11-01T00:00:00",
          "2018-12-01T00:00:00",
          "2019-01-01T00:00:00",
          "2019-02-01T00:00:00",
          "2019-03-01T00:00:00",
          "2019-04-01T00:00:00",
          "2019-05-01T00:00:00",
          "2019-06-01T00:00:00",
          "2019-07-01T00:00:00",
          "2019-08-01T00:00:00",
          "2019-09-01T00:00:00",
          "2019-10-01T00:00:00",
          "2019-11-01T00:00:00",
          "2019-12-01T00:00:00"
         ],
         "xaxis": "x",
         "y": [
          16.03333333333333,
          17.133333333333333,
          18.15,
          18.233333333333334,
          15.016666666666666,
          14.758333333333333,
          16.075,
          13.9,
          17.816666666666666,
          13.866666666666667,
          17.116666666666667,
          18.866666666666667,
          17.508333333333333,
          19.716666666666665,
          17.116666666666667,
          18,
          16.916666666666668,
          19.866666666666667,
          16.316666666666666,
          16.45,
          18.066666666666666,
          17.983333333333334,
          17.416666666666668,
          20.666666666666668
         ],
         "yaxis": "y"
        },
        {
         "hovertemplate": "port_name=Calhoun Port Authority, TX<br>month=%{x}<br>time_at_berth_avg=%{y}<extra></extra>",
         "legendgroup": "Calhoun Port Authority, TX",
         "line": {
          "color": "#636efa",
          "dash": "solid"
         },
         "marker": {
          "symbol": "circle"
         },
         "mode": "lines",
         "name": "Calhoun Port Authority, TX",
         "showlegend": true,
         "type": "scattergl",
         "x": [
          "2018-01-01T00:00:00",
          "2018-02-01T00:00:00",
          "2018-03-01T00:00:00",
          "2018-04-01T00:00:00",
          "2018-05-01T00:00:00",
          "2018-06-01T00:00:00",
          "2018-07-01T00:00:00",
          "2018-08-01T00:00:00",
          "2018-09-01T00:00:00",
          "2018-10-01T00:00:00",
          "2018-11-01T00:00:00",
          "2018-12-01T00:00:00",
          "2019-01-01T00:00:00",
          "2019-02-01T00:00:00",
          "2019-03-01T00:00:00",
          "2019-04-01T00:00:00",
          "2019-05-01T00:00:00",
          "2019-06-01T00:00:00",
          "2019-07-01T00:00:00",
          "2019-08-01T00:00:00",
          "2019-09-01T00:00:00",
          "2019-10-01T00:00:00",
          "2019-11-01T00:00:00",
          "2019-12-01T00:00:00"
         ],
         "xaxis": "x",
         "y": [
          34.78333333333333,
          44.458333333333336,
          22.45,
          25.983333333333334,
          34.5,
          21.716666666666665,
          27.95,
          24.891666666666666,
          26.066666666666666,
          24.233333333333334,
          39.21666666666667,
          22.55,
          38.56666666666666,
          36.583333333333336,
          22.258333333333333,
          21.366666666666667,
          36.25,
          37.858333333333334,
          21.733333333333334,
          18.841666666666665,
          29.416666666666668,
          24.2,
          39.083333333333336,
          26.116666666666667
         ],
         "yaxis": "y"
        },
        {
         "hovertemplate": "port_name=Panama City Port Authority, FL<br>month=%{x}<br>time_at_berth_avg=%{y}<extra></extra>",
         "legendgroup": "Panama City Port Authority, FL",
         "line": {
          "color": "#EF553B",
          "dash": "solid"
         },
         "marker": {
          "symbol": "circle"
         },
         "mode": "lines",
         "name": "Panama City Port Authority, FL",
         "showlegend": true,
         "type": "scattergl",
         "x": [
          "2018-01-01T00:00:00",
          "2018-02-01T00:00:00",
          "2018-03-01T00:00:00",
          "2018-04-01T00:00:00",
          "2018-05-01T00:00:00",
          "2018-06-01T00:00:00",
          "2018-07-01T00:00:00",
          "2018-08-01T00:00:00",
          "2018-09-01T00:00:00",
          "2018-10-01T00:00:00",
          "2018-11-01T00:00:00",
          "2018-12-01T00:00:00",
          "2019-01-01T00:00:00",
          "2019-02-01T00:00:00",
          "2019-03-01T00:00:00",
          "2019-04-01T00:00:00",
          "2019-05-01T00:00:00",
          "2019-06-01T00:00:00",
          "2019-07-01T00:00:00",
          "2019-08-01T00:00:00",
          "2019-09-01T00:00:00",
          "2019-10-01T00:00:00",
          "2019-11-01T00:00:00",
          "2019-12-01T00:00:00"
         ],
         "xaxis": "x",
         "y": [
          38.18333333333333,
          35.46666666666667,
          46.06666666666666,
          44.85,
          74.99166666666666,
          58.03333333333333,
          68.28333333333333,
          30.766666666666666,
          25,
          59.1,
          34.75,
          45.6,
          44.825,
          35.85,
          39.233333333333334,
          42.2,
          40.56666666666666,
          46.358333333333334,
          62.016666666666666,
          34.9,
          39.016666666666666,
          57.13333333333333,
          53.983333333333334,
          37.40833333333333
         ],
         "yaxis": "y"
        },
        {
         "hovertemplate": "port_name=Morehead City, NC<br>month=%{x}<br>time_at_berth_avg=%{y}<extra></extra>",
         "legendgroup": "Morehead City, NC",
         "line": {
          "color": "#00cc96",
          "dash": "solid"
         },
         "marker": {
          "symbol": "circle"
         },
         "mode": "lines",
         "name": "Morehead City, NC",
         "showlegend": true,
         "type": "scattergl",
         "x": [
          "2018-01-01T00:00:00",
          "2018-02-01T00:00:00",
          "2018-03-01T00:00:00",
          "2018-04-01T00:00:00",
          "2018-05-01T00:00:00",
          "2018-06-01T00:00:00",
          "2018-07-01T00:00:00",
          "2018-08-01T00:00:00",
          "2018-09-01T00:00:00",
          "2018-10-01T00:00:00",
          "2018-11-01T00:00:00",
          "2018-12-01T00:00:00",
          "2019-01-01T00:00:00",
          "2019-02-01T00:00:00",
          "2019-03-01T00:00:00",
          "2019-04-01T00:00:00",
          "2019-05-01T00:00:00",
          "2019-06-01T00:00:00",
          "2019-07-01T00:00:00",
          "2019-08-01T00:00:00",
          "2019-09-01T00:00:00",
          "2019-10-01T00:00:00",
          "2019-11-01T00:00:00",
          "2019-12-01T00:00:00"
         ],
         "xaxis": "x",
         "y": [
          59.666666666666664,
          55.583333333333336,
          75.25833333333333,
          43.96666666666667,
          71.89166666666667,
          68.81666666666666,
          61.86666666666667,
          47.166666666666664,
          55.63333333333333,
          33.208333333333336,
          34.108333333333334,
          48.5,
          83.75,
          35.9,
          129.03333333333333,
          72.41666666666667,
          56.5,
          53.18333333333333,
          20.358333333333334,
          74.68333333333334,
          66.96666666666667,
          77.43333333333334,
          52.833333333333336,
          59.333333333333336
         ],
         "yaxis": "y"
        },
        {
         "hovertemplate": "port_name=Port of Alaska, AK<br>month=%{x}<br>time_at_berth_avg=%{y}<extra></extra>",
         "legendgroup": "Port of Alaska, AK",
         "line": {
          "color": "#ab63fa",
          "dash": "solid"
         },
         "marker": {
          "symbol": "circle"
         },
         "mode": "lines",
         "name": "Port of Alaska, AK",
         "showlegend": true,
         "type": "scattergl",
         "x": [
          "2018-01-01T00:00:00",
          "2018-02-01T00:00:00",
          "2018-03-01T00:00:00",
          "2018-04-01T00:00:00",
          "2018-05-01T00:00:00",
          "2018-06-01T00:00:00",
          "2018-07-01T00:00:00",
          "2018-08-01T00:00:00",
          "2018-09-01T00:00:00",
          "2018-10-01T00:00:00",
          "2018-11-01T00:00:00",
          "2018-12-01T00:00:00",
          "2019-01-01T00:00:00",
          "2019-02-01T00:00:00",
          "2019-03-01T00:00:00",
          "2019-04-01T00:00:00",
          "2019-05-01T00:00:00",
          "2019-06-01T00:00:00",
          "2019-07-01T00:00:00",
          "2019-08-01T00:00:00",
          "2019-09-01T00:00:00",
          "2019-10-01T00:00:00",
          "2019-11-01T00:00:00",
          "2019-12-01T00:00:00"
         ],
         "xaxis": "x",
         "y": [
          15.683333333333334,
          16.591666666666665,
          15.083333333333334,
          16.166666666666668,
          17.433333333333334,
          18.208333333333332,
          16.066666666666666,
          14.233333333333333,
          15.866666666666667,
          12.166666666666666,
          15.166666666666666,
          15.433333333333334,
          18.225,
          12.25,
          14.216666666666667,
          14.016666666666666,
          10.65,
          15.316666666666666,
          12.516666666666666,
          15.891666666666666,
          15.325,
          14.299999999999999,
          14.366666666666667,
          18.766666666666666
         ],
         "yaxis": "y"
        },
        {
         "hovertemplate": "port_name=Guayama, PR<br>month=%{x}<br>time_at_berth_avg=%{y}<extra></extra>",
         "legendgroup": "Guayama, PR",
         "line": {
          "color": "#FFA15A",
          "dash": "solid"
         },
         "marker": {
          "symbol": "circle"
         },
         "mode": "lines",
         "name": "Guayama, PR",
         "showlegend": true,
         "type": "scattergl",
         "x": [
          "2018-01-01T00:00:00",
          "2018-02-01T00:00:00",
          "2018-03-01T00:00:00",
          "2018-04-01T00:00:00",
          "2018-05-01T00:00:00",
          "2018-06-01T00:00:00",
          "2018-07-01T00:00:00",
          "2018-08-01T00:00:00",
          "2018-09-01T00:00:00",
          "2018-10-01T00:00:00",
          "2018-11-01T00:00:00",
          "2018-12-01T00:00:00",
          "2019-01-01T00:00:00",
          "2019-02-01T00:00:00",
          "2019-03-01T00:00:00",
          "2019-04-01T00:00:00",
          "2019-05-01T00:00:00",
          "2019-06-01T00:00:00",
          "2019-07-01T00:00:00",
          "2019-08-01T00:00:00",
          "2019-09-01T00:00:00",
          "2019-10-01T00:00:00",
          "2019-11-01T00:00:00",
          "2019-12-01T00:00:00"
         ],
         "xaxis": "x",
         "y": [
          8.258333333333333,
          14.5,
          6.466666666666667,
          21.55,
          0.825,
          21.95,
          22.541666666666668,
          31.90833333333333,
          25.3,
          26.233333333333334,
          25.866666666666667,
          29.808333333333334,
          27.891666666666666,
          34.766666666666666,
          30.3,
          25.566666666666666,
          21.15,
          20.691666666666666,
          40.2,
          33.68333333333333,
          33.125,
          22.666666666666668,
          28.883333333333333,
          30.966666666666665
         ],
         "yaxis": "y"
        },
        {
         "hovertemplate": "port_name=Corpus Christi, TX<br>month=%{x}<br>time_at_berth_avg=%{y}<extra></extra>",
         "legendgroup": "Corpus Christi, TX",
         "line": {
          "color": "#19d3f3",
          "dash": "solid"
         },
         "marker": {
          "symbol": "circle"
         },
         "mode": "lines",
         "name": "Corpus Christi, TX",
         "showlegend": true,
         "type": "scattergl",
         "x": [
          "2018-01-01T00:00:00",
          "2018-02-01T00:00:00",
          "2018-03-01T00:00:00",
          "2018-04-01T00:00:00",
          "2018-05-01T00:00:00",
          "2018-06-01T00:00:00",
          "2018-07-01T00:00:00",
          "2018-08-01T00:00:00",
          "2018-09-01T00:00:00",
          "2018-10-01T00:00:00",
          "2018-11-01T00:00:00",
          "2018-12-01T00:00:00",
          "2019-01-01T00:00:00",
          "2019-02-01T00:00:00",
          "2019-03-01T00:00:00",
          "2019-04-01T00:00:00",
          "2019-05-01T00:00:00",
          "2019-06-01T00:00:00",
          "2019-07-01T00:00:00",
          "2019-08-01T00:00:00",
          "2019-09-01T00:00:00",
          "2019-10-01T00:00:00",
          "2019-11-01T00:00:00",
          "2019-12-01T00:00:00"
         ],
         "xaxis": "x",
         "y": [
          39.68333333333333,
          14.533333333333333,
          35.38333333333333,
          32.583333333333336,
          35.45,
          34.36666666666667,
          40.1,
          34.61666666666667,
          39.35,
          35.88333333333333,
          41.4,
          39.55833333333333,
          38.05833333333333,
          41.50833333333333,
          40.86666666666667,
          33.43333333333333,
          33.18333333333333,
          34.61666666666667,
          34.233333333333334,
          40.74166666666667,
          35.38333333333333,
          40.19166666666666,
          39.18333333333333,
          38.833333333333336
         ],
         "yaxis": "y"
        },
        {
         "hovertemplate": "port_name=Albany Port District, NY<br>month=%{x}<br>time_at_berth_avg=%{y}<extra></extra>",
         "legendgroup": "Albany Port District, NY",
         "line": {
          "color": "#FF6692",
          "dash": "solid"
         },
         "marker": {
          "symbol": "circle"
         },
         "mode": "lines",
         "name": "Albany Port District, NY",
         "showlegend": true,
         "type": "scattergl",
         "x": [
          "2018-01-01T00:00:00",
          "2018-02-01T00:00:00",
          "2018-03-01T00:00:00",
          "2018-04-01T00:00:00",
          "2018-05-01T00:00:00",
          "2018-06-01T00:00:00",
          "2018-07-01T00:00:00",
          "2018-08-01T00:00:00",
          "2018-09-01T00:00:00",
          "2018-10-01T00:00:00",
          "2018-11-01T00:00:00",
          "2018-12-01T00:00:00",
          "2019-01-01T00:00:00",
          "2019-02-01T00:00:00",
          "2019-03-01T00:00:00",
          "2019-04-01T00:00:00",
          "2019-05-01T00:00:00",
          "2019-06-01T00:00:00",
          "2019-07-01T00:00:00",
          "2019-08-01T00:00:00",
          "2019-09-01T00:00:00",
          "2019-10-01T00:00:00",
          "2019-11-01T00:00:00",
          "2019-12-01T00:00:00"
         ],
         "xaxis": "x",
         "y": [
          53.38333333333333,
          50.85,
          57.35,
          42.55833333333333,
          33.11666666666667,
          43.28333333333333,
          29.4,
          34.65,
          36.18333333333333,
          33.2,
          34.958333333333336,
          39.791666666666664,
          68.9,
          68.875,
          47.825,
          31.233333333333334,
          31.125,
          29.858333333333334,
          26.4,
          22.116666666666667,
          24.666666666666668,
          33.15,
          27.141666666666666,
          30.091666666666665
         ],
         "yaxis": "y"
        },
        {
         "hovertemplate": "port_name=Port of Charleston, SC<br>month=%{x}<br>time_at_berth_avg=%{y}<extra></extra>",
         "legendgroup": "Port of Charleston, SC",
         "line": {
          "color": "#B6E880",
          "dash": "solid"
         },
         "marker": {
          "symbol": "circle"
         },
         "mode": "lines",
         "name": "Port of Charleston, SC",
         "showlegend": true,
         "type": "scattergl",
         "x": [
          "2018-01-01T00:00:00",
          "2018-02-01T00:00:00",
          "2018-03-01T00:00:00",
          "2018-04-01T00:00:00",
          "2018-05-01T00:00:00",
          "2018-06-01T00:00:00",
          "2018-07-01T00:00:00",
          "2018-08-01T00:00:00",
          "2018-09-01T00:00:00",
          "2018-10-01T00:00:00",
          "2018-11-01T00:00:00",
          "2018-12-01T00:00:00",
          "2019-01-01T00:00:00",
          "2019-02-01T00:00:00",
          "2019-03-01T00:00:00",
          "2019-04-01T00:00:00",
          "2019-05-01T00:00:00",
          "2019-06-01T00:00:00",
          "2019-07-01T00:00:00",
          "2019-08-01T00:00:00",
          "2019-09-01T00:00:00",
          "2019-10-01T00:00:00",
          "2019-11-01T00:00:00",
          "2019-12-01T00:00:00"
         ],
         "xaxis": "x",
         "y": [
          15.799999999999999,
          15.275,
          15.616666666666667,
          15.583333333333334,
          15.191666666666666,
          14.9,
          15.95,
          14.533333333333333,
          14.841666666666667,
          16.383333333333333,
          18.45,
          17.5,
          16.716666666666665,
          18.483333333333334,
          18.566666666666666,
          16.666666666666668,
          16.866666666666667,
          17.85,
          0.03333333333333333,
          17.708333333333332,
          15.383333333333333,
          18.825,
          14.941666666666666,
          15
         ],
         "yaxis": "y"
        },
        {
         "hovertemplate": "port_name=Kahului, Maui, HI<br>month=%{x}<br>time_at_berth_avg=%{y}<extra></extra>",
         "legendgroup": "Kahului, Maui, HI",
         "line": {
          "color": "#FF97FF",
          "dash": "solid"
         },
         "marker": {
          "symbol": "circle"
         },
         "mode": "lines",
         "name": "Kahului, Maui, HI",
         "showlegend": true,
         "type": "scattergl",
         "x": [
          "2018-01-01T00:00:00",
          "2018-02-01T00:00:00",
          "2018-03-01T00:00:00",
          "2018-04-01T00:00:00",
          "2018-06-01T00:00:00",
          "2018-07-01T00:00:00",
          "2018-08-01T00:00:00",
          "2018-09-01T00:00:00",
          "2018-10-01T00:00:00",
          "2018-11-01T00:00:00",
          "2018-12-01T00:00:00",
          "2019-01-01T00:00:00",
          "2019-02-01T00:00:00",
          "2019-03-01T00:00:00",
          "2019-04-01T00:00:00",
          "2019-05-01T00:00:00",
          "2019-06-01T00:00:00",
          "2019-07-01T00:00:00",
          "2019-08-01T00:00:00",
          "2019-09-01T00:00:00",
          "2019-10-01T00:00:00",
          "2019-11-01T00:00:00",
          "2019-12-01T00:00:00"
         ],
         "xaxis": "x",
         "y": [
          12.025,
          7.625,
          10.858333333333333,
          6.95,
          6.916666666666667,
          7.1499999999999995,
          7.558333333333334,
          7,
          12.066666666666666,
          15.275,
          9.308333333333334,
          8.108333333333333,
          7.283333333333333,
          5.966666666666667,
          8.316666666666666,
          7.55,
          6.466666666666667,
          7.066666666666666,
          9.283333333333333,
          7.991666666666666,
          7.25,
          7.116666666666666,
          7.616666666666666
         ],
         "yaxis": "y"
        },
        {
         "hovertemplate": "port_name=Nikiski, AK<br>month=%{x}<br>time_at_berth_avg=%{y}<extra></extra>",
         "legendgroup": "Nikiski, AK",
         "line": {
          "color": "#FECB52",
          "dash": "solid"
         },
         "marker": {
          "symbol": "circle"
         },
         "mode": "lines",
         "name": "Nikiski, AK",
         "showlegend": true,
         "type": "scattergl",
         "x": [
          "2018-01-01T00:00:00",
          "2018-02-01T00:00:00",
          "2018-03-01T00:00:00",
          "2018-04-01T00:00:00",
          "2018-05-01T00:00:00",
          "2018-06-01T00:00:00",
          "2018-07-01T00:00:00",
          "2018-08-01T00:00:00",
          "2018-09-01T00:00:00",
          "2018-10-01T00:00:00",
          "2018-11-01T00:00:00",
          "2018-12-01T00:00:00",
          "2019-01-01T00:00:00",
          "2019-02-01T00:00:00",
          "2019-03-01T00:00:00",
          "2019-04-01T00:00:00",
          "2019-05-01T00:00:00",
          "2019-06-01T00:00:00",
          "2019-07-01T00:00:00",
          "2019-08-01T00:00:00",
          "2019-09-01T00:00:00",
          "2019-10-01T00:00:00",
          "2019-11-01T00:00:00",
          "2019-12-01T00:00:00"
         ],
         "xaxis": "x",
         "y": [
          11.791666666666666,
          14.266666666666666,
          7.6499999999999995,
          3.8333333333333335,
          3.8833333333333333,
          5.666666666666667,
          11.283333333333333,
          5.033333333333333,
          7.05,
          4.033333333333333,
          12.066666666666666,
          15.591666666666667,
          3.683333333333333,
          4.816666666666666,
          9.85,
          3.466666666666667,
          4.183333333333334,
          6.266666666666667,
          6.591666666666667,
          7.366666666666666,
          9,
          6.016666666666667,
          3.841666666666667,
          5.283333333333333
         ],
         "yaxis": "y"
        },
        {
         "hovertemplate": "port_name=San Diego Unified Port, CA<br>month=%{x}<br>time_at_berth_avg=%{y}<extra></extra>",
         "legendgroup": "San Diego Unified Port, CA",
         "line": {
          "color": "#636efa",
          "dash": "solid"
         },
         "marker": {
          "symbol": "circle"
         },
         "mode": "lines",
         "name": "San Diego Unified Port, CA",
         "showlegend": true,
         "type": "scattergl",
         "x": [
          "2018-01-01T00:00:00",
          "2018-02-01T00:00:00",
          "2018-03-01T00:00:00",
          "2018-04-01T00:00:00",
          "2018-05-01T00:00:00",
          "2018-06-01T00:00:00",
          "2018-07-01T00:00:00",
          "2018-08-01T00:00:00",
          "2018-09-01T00:00:00",
          "2018-10-01T00:00:00",
          "2018-11-01T00:00:00",
          "2018-12-01T00:00:00",
          "2019-01-01T00:00:00",
          "2019-02-01T00:00:00",
          "2019-03-01T00:00:00",
          "2019-04-01T00:00:00",
          "2019-05-01T00:00:00",
          "2019-06-01T00:00:00",
          "2019-07-01T00:00:00",
          "2019-08-01T00:00:00",
          "2019-09-01T00:00:00",
          "2019-10-01T00:00:00",
          "2019-11-01T00:00:00",
          "2019-12-01T00:00:00"
         ],
         "xaxis": "x",
         "y": [
          16.916666666666668,
          18.775,
          21.083333333333332,
          19.433333333333334,
          18.816666666666666,
          16.625,
          17.233333333333334,
          20.566666666666666,
          18.9,
          17.608333333333334,
          18.466666666666665,
          16.85,
          18.55,
          20.866666666666667,
          20.25,
          21.075,
          16.8,
          17.6,
          16.875,
          20.7,
          18.583333333333332,
          17.78333333333333,
          17.466666666666665,
          13.366666666666667
         ],
         "yaxis": "y"
        },
        {
         "hovertemplate": "port_name=Toledo-Lucas County Port, OH<br>month=%{x}<br>time_at_berth_avg=%{y}<extra></extra>",
         "legendgroup": "Toledo-Lucas County Port, OH",
         "line": {
          "color": "#EF553B",
          "dash": "solid"
         },
         "marker": {
          "symbol": "circle"
         },
         "mode": "lines",
         "name": "Toledo-Lucas County Port, OH",
         "showlegend": true,
         "type": "scattergl",
         "x": [
          "2018-01-01T00:00:00",
          "2018-03-01T00:00:00",
          "2018-04-01T00:00:00",
          "2018-05-01T00:00:00",
          "2018-06-01T00:00:00",
          "2018-07-01T00:00:00",
          "2018-08-01T00:00:00",
          "2018-09-01T00:00:00",
          "2018-10-01T00:00:00",
          "2018-11-01T00:00:00",
          "2018-12-01T00:00:00",
          "2019-01-01T00:00:00",
          "2019-02-01T00:00:00",
          "2019-03-01T00:00:00",
          "2019-04-01T00:00:00",
          "2019-05-01T00:00:00",
          "2019-06-01T00:00:00",
          "2019-07-01T00:00:00",
          "2019-08-01T00:00:00",
          "2019-09-01T00:00:00",
          "2019-10-01T00:00:00",
          "2019-11-01T00:00:00",
          "2019-12-01T00:00:00"
         ],
         "xaxis": "x",
         "y": [
          89.2,
          33.9,
          81.51666666666667,
          41.93333333333333,
          47.85,
          34.65,
          26.05,
          31.875,
          44.56666666666666,
          46.71666666666667,
          32.266666666666666,
          1017.2416666666667,
          984.55,
          114,
          60.025,
          14.583333333333334,
          34.833333333333336,
          19,
          25.4,
          16.90833333333333,
          13.85,
          14.475,
          22.466666666666665
         ],
         "yaxis": "y"
        },
        {
         "hovertemplate": "port_name=Marquette, MI<br>month=%{x}<br>time_at_berth_avg=%{y}<extra></extra>",
         "legendgroup": "Marquette, MI",
         "line": {
          "color": "#00cc96",
          "dash": "solid"
         },
         "marker": {
          "symbol": "circle"
         },
         "mode": "lines",
         "name": "Marquette, MI",
         "showlegend": true,
         "type": "scattergl",
         "x": [
          "2018-01-01T00:00:00",
          "2018-03-01T00:00:00",
          "2018-04-01T00:00:00",
          "2018-05-01T00:00:00",
          "2018-06-01T00:00:00",
          "2018-07-01T00:00:00",
          "2018-08-01T00:00:00",
          "2018-09-01T00:00:00",
          "2018-10-01T00:00:00",
          "2018-11-01T00:00:00",
          "2018-12-01T00:00:00",
          "2019-01-01T00:00:00",
          "2019-03-01T00:00:00",
          "2019-04-01T00:00:00",
          "2019-05-01T00:00:00",
          "2019-06-01T00:00:00",
          "2019-07-01T00:00:00",
          "2019-08-01T00:00:00",
          "2019-09-01T00:00:00",
          "2019-10-01T00:00:00",
          "2019-11-01T00:00:00",
          "2019-12-01T00:00:00"
         ],
         "xaxis": "x",
         "y": [
          43.325,
          null,
          7.3999999999999995,
          6.883333333333333,
          22.116666666666667,
          5.033333333333333,
          8.133333333333333,
          11.333333333333334,
          15.566666666666666,
          7.633333333333333,
          8.025,
          12.016666666666666,
          null,
          6.8,
          7,
          5.808333333333334,
          5.966666666666667,
          6.4,
          6.35,
          4.925,
          7.233333333333333,
          22.316666666666666
         ],
         "yaxis": "y"
        },
        {
         "hovertemplate": "port_name=Portsmouth, NH<br>month=%{x}<br>time_at_berth_avg=%{y}<extra></extra>",
         "legendgroup": "Portsmouth, NH",
         "line": {
          "color": "#ab63fa",
          "dash": "solid"
         },
         "marker": {
          "symbol": "circle"
         },
         "mode": "lines",
         "name": "Portsmouth, NH",
         "showlegend": true,
         "type": "scattergl",
         "x": [
          "2018-01-01T00:00:00",
          "2018-02-01T00:00:00",
          "2018-03-01T00:00:00",
          "2018-04-01T00:00:00",
          "2018-05-01T00:00:00",
          "2018-06-01T00:00:00",
          "2018-07-01T00:00:00",
          "2018-08-01T00:00:00",
          "2018-09-01T00:00:00",
          "2018-10-01T00:00:00",
          "2018-11-01T00:00:00",
          "2018-12-01T00:00:00",
          "2019-01-01T00:00:00",
          "2019-02-01T00:00:00",
          "2019-03-01T00:00:00",
          "2019-04-01T00:00:00",
          "2019-05-01T00:00:00",
          "2019-06-01T00:00:00",
          "2019-07-01T00:00:00",
          "2019-08-01T00:00:00",
          "2019-09-01T00:00:00",
          "2019-10-01T00:00:00",
          "2019-11-01T00:00:00",
          "2019-12-01T00:00:00"
         ],
         "xaxis": "x",
         "y": [
          29.366666666666667,
          67.73333333333333,
          62.21666666666667,
          29.366666666666667,
          20.708333333333332,
          30.45,
          17.383333333333333,
          25.016666666666666,
          17.741666666666667,
          24.116666666666667,
          41.95,
          70.8,
          24.633333333333333,
          61.71666666666667,
          18.233333333333334,
          43.075,
          65.875,
          64.36666666666666,
          23.85,
          23.708333333333332,
          23.833333333333332,
          20.516666666666666,
          17.95,
          1.45
         ],
         "yaxis": "y"
        },
        {
         "hovertemplate": "port_name=Galveston, TX<br>month=%{x}<br>time_at_berth_avg=%{y}<extra></extra>",
         "legendgroup": "Galveston, TX",
         "line": {
          "color": "#FFA15A",
          "dash": "solid"
         },
         "marker": {
          "symbol": "circle"
         },
         "mode": "lines",
         "name": "Galveston, TX",
         "showlegend": true,
         "type": "scattergl",
         "x": [
          "2018-01-01T00:00:00",
          "2018-02-01T00:00:00",
          "2018-03-01T00:00:00",
          "2018-04-01T00:00:00",
          "2018-05-01T00:00:00",
          "2018-06-01T00:00:00",
          "2018-07-01T00:00:00",
          "2018-08-01T00:00:00",
          "2018-09-01T00:00:00",
          "2018-10-01T00:00:00",
          "2018-11-01T00:00:00",
          "2018-12-01T00:00:00",
          "2019-01-01T00:00:00",
          "2019-02-01T00:00:00",
          "2019-03-01T00:00:00",
          "2019-04-01T00:00:00",
          "2019-05-01T00:00:00",
          "2019-06-01T00:00:00",
          "2019-07-01T00:00:00",
          "2019-08-01T00:00:00",
          "2019-09-01T00:00:00",
          "2019-10-01T00:00:00",
          "2019-11-01T00:00:00",
          "2019-12-01T00:00:00"
         ],
         "xaxis": "x",
         "y": [
          16.483333333333334,
          20.475,
          13.933333333333334,
          10.591666666666667,
          14.158333333333333,
          17.566666666666666,
          17.966666666666665,
          15.983333333333333,
          16.25,
          17.78333333333333,
          17.5,
          18.241666666666667,
          19.841666666666665,
          15.1,
          14.716666666666667,
          14.116666666666667,
          1.6,
          16.016666666666666,
          15.266666666666666,
          9.633333333333333,
          9.85,
          11.158333333333333,
          8.983333333333333,
          12.825
         ],
         "yaxis": "y"
        },
        {
         "hovertemplate": "port_name=Baltimore, MD<br>month=%{x}<br>time_at_berth_avg=%{y}<extra></extra>",
         "legendgroup": "Baltimore, MD",
         "line": {
          "color": "#19d3f3",
          "dash": "solid"
         },
         "marker": {
          "symbol": "circle"
         },
         "mode": "lines",
         "name": "Baltimore, MD",
         "showlegend": true,
         "type": "scattergl",
         "x": [
          "2018-01-01T00:00:00",
          "2018-02-01T00:00:00",
          "2018-03-01T00:00:00",
          "2018-04-01T00:00:00",
          "2018-05-01T00:00:00",
          "2018-06-01T00:00:00",
          "2018-07-01T00:00:00",
          "2018-08-01T00:00:00",
          "2018-09-01T00:00:00",
          "2018-10-01T00:00:00",
          "2018-11-01T00:00:00",
          "2018-12-01T00:00:00",
          "2019-01-01T00:00:00",
          "2019-02-01T00:00:00",
          "2019-03-01T00:00:00",
          "2019-04-01T00:00:00",
          "2019-05-01T00:00:00",
          "2019-06-01T00:00:00",
          "2019-07-01T00:00:00",
          "2019-08-01T00:00:00",
          "2019-09-01T00:00:00",
          "2019-10-01T00:00:00",
          "2019-11-01T00:00:00",
          "2019-12-01T00:00:00"
         ],
         "xaxis": "x",
         "y": [
          22.133333333333333,
          24.891666666666666,
          30.425,
          23.15,
          24.35,
          23.45,
          24.233333333333334,
          23.833333333333332,
          22.891666666666666,
          22.6,
          21.216666666666665,
          22.78333333333333,
          25.133333333333333,
          24.8,
          24.866666666666667,
          25.45,
          20.066666666666666,
          23.566666666666666,
          24.133333333333333,
          24,
          0.2833333333333333,
          0.18333333333333332,
          5.733333333333333,
          22.333333333333332
         ],
         "yaxis": "y"
        },
        {
         "hovertemplate": "port_name=Coos Bay OR, Port of<br>month=%{x}<br>time_at_berth_avg=%{y}<extra></extra>",
         "legendgroup": "Coos Bay OR, Port of",
         "line": {
          "color": "#FF6692",
          "dash": "solid"
         },
         "marker": {
          "symbol": "circle"
         },
         "mode": "lines",
         "name": "Coos Bay OR, Port of",
         "showlegend": true,
         "type": "scattergl",
         "x": [
          "2018-01-01T00:00:00",
          "2018-02-01T00:00:00",
          "2018-03-01T00:00:00",
          "2018-04-01T00:00:00",
          "2018-05-01T00:00:00",
          "2018-06-01T00:00:00",
          "2018-07-01T00:00:00",
          "2018-08-01T00:00:00",
          "2018-09-01T00:00:00",
          "2018-10-01T00:00:00",
          "2018-11-01T00:00:00",
          "2018-12-01T00:00:00",
          "2019-01-01T00:00:00",
          "2019-02-01T00:00:00",
          "2019-03-01T00:00:00",
          "2019-04-01T00:00:00",
          "2019-05-01T00:00:00",
          "2019-06-01T00:00:00",
          "2019-07-01T00:00:00",
          "2019-08-01T00:00:00",
          "2019-09-01T00:00:00",
          "2019-10-01T00:00:00",
          "2019-11-01T00:00:00",
          "2019-12-01T00:00:00"
         ],
         "xaxis": "x",
         "y": [
          120.7,
          95.66666666666667,
          77.475,
          76.81666666666666,
          73.93333333333334,
          62.28333333333333,
          80.775,
          87.08333333333333,
          128.94166666666666,
          67.18333333333334,
          206.61666666666667,
          84.41666666666667,
          121.50833333333333,
          86.50833333333333,
          0.016666666666666666,
          0.016666666666666666,
          67.65,
          90.40833333333333,
          59.949999999999996,
          57.458333333333336,
          77.80833333333334,
          63.71666666666667,
          69.40833333333333,
          76.45
         ],
         "yaxis": "y"
        },
        {
         "hovertemplate": "port_name=Sandusky, OH<br>month=%{x}<br>time_at_berth_avg=%{y}<extra></extra>",
         "legendgroup": "Sandusky, OH",
         "line": {
          "color": "#B6E880",
          "dash": "solid"
         },
         "marker": {
          "symbol": "circle"
         },
         "mode": "lines",
         "name": "Sandusky, OH",
         "showlegend": true,
         "type": "scattergl",
         "x": [
          "2018-03-01T00:00:00",
          "2018-04-01T00:00:00",
          "2018-05-01T00:00:00",
          "2018-06-01T00:00:00",
          "2018-07-01T00:00:00",
          "2018-08-01T00:00:00",
          "2018-09-01T00:00:00",
          "2018-10-01T00:00:00",
          "2018-11-01T00:00:00",
          "2018-12-01T00:00:00",
          "2019-03-01T00:00:00",
          "2019-04-01T00:00:00",
          "2019-05-01T00:00:00",
          "2019-06-01T00:00:00",
          "2019-07-01T00:00:00",
          "2019-08-01T00:00:00",
          "2019-09-01T00:00:00",
          "2019-10-01T00:00:00",
          "2019-11-01T00:00:00",
          "2019-12-01T00:00:00"
         ],
         "xaxis": "x",
         "y": [
          null,
          16.958333333333332,
          18.5,
          17.8,
          20.258333333333333,
          24.575,
          16.166666666666668,
          20.516666666666666,
          19.683333333333334,
          12.366666666666667,
          9.65,
          18.691666666666666,
          16.483333333333334,
          19.883333333333333,
          15.2,
          13.483333333333333,
          24.275,
          13.316666666666666,
          16.508333333333333,
          5.933333333333334
         ],
         "yaxis": "y"
        },
        {
         "hovertemplate": "port_name=Alpena, MI<br>month=%{x}<br>time_at_berth_avg=%{y}<extra></extra>",
         "legendgroup": "Alpena, MI",
         "line": {
          "color": "#FF97FF",
          "dash": "solid"
         },
         "marker": {
          "symbol": "circle"
         },
         "mode": "lines",
         "name": "Alpena, MI",
         "showlegend": true,
         "type": "scattergl",
         "x": [
          "2018-03-01T00:00:00",
          "2018-04-01T00:00:00",
          "2018-05-01T00:00:00",
          "2018-06-01T00:00:00",
          "2018-08-01T00:00:00",
          "2018-09-01T00:00:00",
          "2018-10-01T00:00:00",
          "2018-12-01T00:00:00",
          "2019-01-01T00:00:00",
          "2019-07-01T00:00:00"
         ],
         "xaxis": "x",
         "y": [
          null,
          6.066666666666666,
          4.266666666666667,
          7.216666666666667,
          10.258333333333333,
          3.7666666666666666,
          5.008333333333333,
          0.425,
          2502.35,
          9.883333333333333
         ],
         "yaxis": "y"
        },
        {
         "hovertemplate": "port_name=Mueller Township, MI<br>month=%{x}<br>time_at_berth_avg=%{y}<extra></extra>",
         "legendgroup": "Mueller Township, MI",
         "line": {
          "color": "#636efa",
          "dash": "solid"
         },
         "marker": {
          "symbol": "circle"
         },
         "mode": "lines",
         "name": "Mueller Township, MI",
         "showlegend": true,
         "type": "scattergl",
         "x": [
          "2018-04-01T00:00:00",
          "2018-05-01T00:00:00",
          "2018-06-01T00:00:00",
          "2018-07-01T00:00:00",
          "2018-08-01T00:00:00",
          "2018-09-01T00:00:00",
          "2018-10-01T00:00:00",
          "2018-11-01T00:00:00",
          "2018-12-01T00:00:00",
          "2019-04-01T00:00:00",
          "2019-05-01T00:00:00",
          "2019-06-01T00:00:00",
          "2019-07-01T00:00:00",
          "2019-08-01T00:00:00",
          "2019-09-01T00:00:00",
          "2019-10-01T00:00:00",
          "2019-11-01T00:00:00"
         ],
         "xaxis": "x",
         "y": [
          9.433333333333334,
          7.241666666666666,
          8.675,
          9.283333333333333,
          7.766666666666667,
          7.833333333333333,
          9.625,
          10.266666666666666,
          6.158333333333333,
          9.716666666666667,
          7.933333333333334,
          9.35,
          8.708333333333334,
          9.3,
          10.333333333333334,
          10.033333333333333,
          10.633333333333333
         ],
         "yaxis": "y"
        },
        {
         "hovertemplate": "port_name=Terrebonne Parish Port, LA<br>month=%{x}<br>time_at_berth_avg=%{y}<extra></extra>",
         "legendgroup": "Terrebonne Parish Port, LA",
         "line": {
          "color": "#EF553B",
          "dash": "solid"
         },
         "marker": {
          "symbol": "circle"
         },
         "mode": "lines",
         "name": "Terrebonne Parish Port, LA",
         "showlegend": true,
         "type": "scattergl",
         "x": [
          "2018-04-01T00:00:00",
          "2019-08-01T00:00:00"
         ],
         "xaxis": "x",
         "y": [
          null,
          null
         ],
         "yaxis": "y"
        },
        {
         "hovertemplate": "port_name=Kivalina, AK<br>month=%{x}<br>time_at_berth_avg=%{y}<extra></extra>",
         "legendgroup": "Kivalina, AK",
         "line": {
          "color": "#00cc96",
          "dash": "solid"
         },
         "marker": {
          "symbol": "circle"
         },
         "mode": "lines",
         "name": "Kivalina, AK",
         "showlegend": true,
         "type": "scattergl",
         "x": [
          "2018-05-01T00:00:00",
          "2018-06-01T00:00:00",
          "2018-07-01T00:00:00",
          "2018-08-01T00:00:00",
          "2018-09-01T00:00:00",
          "2018-10-01T00:00:00",
          "2018-11-01T00:00:00",
          "2019-05-01T00:00:00",
          "2019-06-01T00:00:00",
          "2019-07-01T00:00:00",
          "2019-08-01T00:00:00",
          "2019-09-01T00:00:00",
          "2019-10-01T00:00:00",
          "2019-11-01T00:00:00"
         ],
         "xaxis": "x",
         "y": [
          null,
          null,
          44.38333333333333,
          31.575,
          7.433333333333334,
          5.441666666666666,
          5.983333333333333,
          null,
          3.9499999999999997,
          2.7666666666666666,
          4.833333333333333,
          10.108333333333333,
          17.233333333333334,
          null
         ],
         "yaxis": "y"
        },
        {
         "hovertemplate": "port_name=Cincinnati, OH<br>month=%{x}<br>time_at_berth_avg=%{y}<extra></extra>",
         "legendgroup": "Cincinnati, OH",
         "line": {
          "color": "#ab63fa",
          "dash": "solid"
         },
         "marker": {
          "symbol": "circle"
         },
         "mode": "lines",
         "name": "Cincinnati, OH",
         "showlegend": true,
         "type": "scattergl",
         "x": [
          "2018-05-01T00:00:00",
          "2018-06-01T00:00:00"
         ],
         "xaxis": "x",
         "y": [
          null,
          56.88333333333333
         ],
         "yaxis": "y"
        },
        {
         "hovertemplate": "port_name=Monroe, MI<br>month=%{x}<br>time_at_berth_avg=%{y}<extra></extra>",
         "legendgroup": "Monroe, MI",
         "line": {
          "color": "#FFA15A",
          "dash": "solid"
         },
         "marker": {
          "symbol": "circle"
         },
         "mode": "lines",
         "name": "Monroe, MI",
         "showlegend": true,
         "type": "scattergl",
         "x": [
          "2018-05-01T00:00:00",
          "2018-06-01T00:00:00",
          "2018-07-01T00:00:00",
          "2018-08-01T00:00:00",
          "2018-09-01T00:00:00",
          "2018-10-01T00:00:00",
          "2018-11-01T00:00:00",
          "2018-12-01T00:00:00",
          "2019-01-01T00:00:00",
          "2019-02-01T00:00:00",
          "2019-03-01T00:00:00",
          "2019-05-01T00:00:00",
          "2019-06-01T00:00:00",
          "2019-07-01T00:00:00",
          "2019-08-01T00:00:00",
          "2019-09-01T00:00:00",
          "2019-10-01T00:00:00",
          "2019-11-01T00:00:00",
          "2019-12-01T00:00:00"
         ],
         "xaxis": "x",
         "y": [
          9.966666666666667,
          41.733333333333334,
          10.6,
          9.75,
          9,
          15.025,
          13.783333333333333,
          20.733333333333334,
          null,
          19.7,
          32.63333333333333,
          10.3,
          12.466666666666667,
          12.45,
          8.766666666666666,
          9.666666666666666,
          12.416666666666666,
          8.75,
          9.191666666666666
         ],
         "yaxis": "y"
        },
        {
         "hovertemplate": "port_name=Orange County Nav District, TX<br>month=%{x}<br>time_at_berth_avg=%{y}<extra></extra>",
         "legendgroup": "Orange County Nav District, TX",
         "line": {
          "color": "#19d3f3",
          "dash": "solid"
         },
         "marker": {
          "symbol": "circle"
         },
         "mode": "lines",
         "name": "Orange County Nav District, TX",
         "showlegend": true,
         "type": "scattergl",
         "x": [
          "2018-07-01T00:00:00",
          "2018-10-01T00:00:00",
          "2018-12-01T00:00:00",
          "2019-01-01T00:00:00",
          "2019-02-01T00:00:00",
          "2019-03-01T00:00:00",
          "2019-04-01T00:00:00",
          "2019-05-01T00:00:00",
          "2019-06-01T00:00:00"
         ],
         "xaxis": "x",
         "y": [
          null,
          1578.8833333333332,
          null,
          232.25,
          1606.7166666666667,
          2016.9416666666666,
          null,
          17.133333333333333,
          166.06666666666666
         ],
         "yaxis": "y"
        },
        {
         "hovertemplate": "port_name=Marblehead, OH<br>month=%{x}<br>time_at_berth_avg=%{y}<extra></extra>",
         "legendgroup": "Marblehead, OH",
         "line": {
          "color": "#FF6692",
          "dash": "solid"
         },
         "marker": {
          "symbol": "circle"
         },
         "mode": "lines",
         "name": "Marblehead, OH",
         "showlegend": true,
         "type": "scattergl",
         "x": [
          "2018-07-01T00:00:00",
          "2018-10-01T00:00:00",
          "2018-11-01T00:00:00",
          "2019-01-01T00:00:00",
          "2019-03-01T00:00:00",
          "2019-04-01T00:00:00",
          "2019-05-01T00:00:00",
          "2019-06-01T00:00:00",
          "2019-08-01T00:00:00",
          "2019-09-01T00:00:00",
          "2019-10-01T00:00:00",
          "2019-11-01T00:00:00",
          "2019-12-01T00:00:00"
         ],
         "xaxis": "x",
         "y": [
          13.299999999999999,
          null,
          14.983333333333333,
          null,
          null,
          9.575,
          null,
          7.641666666666667,
          null,
          23.383333333333333,
          18.383333333333333,
          13.666666666666666,
          17.416666666666668
         ],
         "yaxis": "y"
        },
        {
         "hovertemplate": "port_name=Port of Harlingen Authority, TX<br>month=%{x}<br>time_at_berth_avg=%{y}<extra></extra>",
         "legendgroup": "Port of Harlingen Authority, TX",
         "line": {
          "color": "#B6E880",
          "dash": "solid"
         },
         "marker": {
          "symbol": "circle"
         },
         "mode": "lines",
         "name": "Port of Harlingen Authority, TX",
         "showlegend": true,
         "type": "scattergl",
         "x": [
          "2018-07-01T00:00:00",
          "2019-07-01T00:00:00",
          "2019-12-01T00:00:00"
         ],
         "xaxis": "x",
         "y": [
          null,
          null,
          7.183333333333334
         ],
         "yaxis": "y"
        },
        {
         "hovertemplate": "port_name=Bridgeport, CT<br>month=%{x}<br>time_at_berth_avg=%{y}<extra></extra>",
         "legendgroup": "Bridgeport, CT",
         "line": {
          "color": "#FF97FF",
          "dash": "solid"
         },
         "marker": {
          "symbol": "circle"
         },
         "mode": "lines",
         "name": "Bridgeport, CT",
         "showlegend": true,
         "type": "scattergl",
         "x": [
          "2018-08-01T00:00:00",
          "2018-09-01T00:00:00",
          "2019-03-01T00:00:00",
          "2019-05-01T00:00:00",
          "2019-07-01T00:00:00",
          "2019-08-01T00:00:00"
         ],
         "xaxis": "x",
         "y": [
          23.266666666666666,
          16.05,
          15.116666666666667,
          10.766666666666666,
          7.416666666666667,
          16.25
         ],
         "yaxis": "y"
        },
        {
         "hovertemplate": "port_name=Port of Iberia District, LA<br>month=%{x}<br>time_at_berth_avg=%{y}<extra></extra>",
         "legendgroup": "Port of Iberia District, LA",
         "line": {
          "color": "#FECB52",
          "dash": "solid"
         },
         "marker": {
          "symbol": "circle"
         },
         "mode": "lines",
         "name": "Port of Iberia District, LA",
         "showlegend": true,
         "type": "scattergl",
         "x": [
          "2018-08-01T00:00:00",
          "2019-05-01T00:00:00"
         ],
         "xaxis": "x",
         "y": [
          0.016666666666666666,
          0.016666666666666666
         ],
         "yaxis": "y"
        },
        {
         "hovertemplate": "port_name=West St. Mary Parish Port, LA<br>month=%{x}<br>time_at_berth_avg=%{y}<extra></extra>",
         "legendgroup": "West St. Mary Parish Port, LA",
         "line": {
          "color": "#636efa",
          "dash": "solid"
         },
         "marker": {
          "symbol": "circle"
         },
         "mode": "lines",
         "name": "West St. Mary Parish Port, LA",
         "showlegend": true,
         "type": "scattergl",
         "x": [
          "2018-10-01T00:00:00",
          "2018-12-01T00:00:00",
          "2019-05-01T00:00:00",
          "2019-11-01T00:00:00"
         ],
         "xaxis": "x",
         "y": [
          2478.1,
          4.1,
          0.016666666666666666,
          null
         ],
         "yaxis": "y"
        },
        {
         "hovertemplate": "port_name=Port of Columbia County, OR<br>month=%{x}<br>time_at_berth_avg=%{y}<extra></extra>",
         "legendgroup": "Port of Columbia County, OR",
         "line": {
          "color": "#EF553B",
          "dash": "solid"
         },
         "marker": {
          "symbol": "circle"
         },
         "mode": "lines",
         "name": "Port of Columbia County, OR",
         "showlegend": true,
         "type": "scattergl",
         "x": [
          "2019-04-01T00:00:00"
         ],
         "xaxis": "x",
         "y": [
          0.016666666666666666
         ],
         "yaxis": "y"
        }
       ],
       "layout": {
        "height": 500,
        "legend": {
         "title": {
          "text": "port_name"
         },
         "tracegroupgap": 0
        },
        "template": {
         "data": {
          "bar": [
           {
            "error_x": {
             "color": "#2a3f5f"
            },
            "error_y": {
             "color": "#2a3f5f"
            },
            "marker": {
             "line": {
              "color": "#E5ECF6",
              "width": 0.5
             },
             "pattern": {
              "fillmode": "overlay",
              "size": 10,
              "solidity": 0.2
             }
            },
            "type": "bar"
           }
          ],
          "barpolar": [
           {
            "marker": {
             "line": {
              "color": "#E5ECF6",
              "width": 0.5
             },
             "pattern": {
              "fillmode": "overlay",
              "size": 10,
              "solidity": 0.2
             }
            },
            "type": "barpolar"
           }
          ],
          "carpet": [
           {
            "aaxis": {
             "endlinecolor": "#2a3f5f",
             "gridcolor": "white",
             "linecolor": "white",
             "minorgridcolor": "white",
             "startlinecolor": "#2a3f5f"
            },
            "baxis": {
             "endlinecolor": "#2a3f5f",
             "gridcolor": "white",
             "linecolor": "white",
             "minorgridcolor": "white",
             "startlinecolor": "#2a3f5f"
            },
            "type": "carpet"
           }
          ],
          "choropleth": [
           {
            "colorbar": {
             "outlinewidth": 0,
             "ticks": ""
            },
            "type": "choropleth"
           }
          ],
          "contour": [
           {
            "colorbar": {
             "outlinewidth": 0,
             "ticks": ""
            },
            "colorscale": [
             [
              0,
              "#0d0887"
             ],
             [
              0.1111111111111111,
              "#46039f"
             ],
             [
              0.2222222222222222,
              "#7201a8"
             ],
             [
              0.3333333333333333,
              "#9c179e"
             ],
             [
              0.4444444444444444,
              "#bd3786"
             ],
             [
              0.5555555555555556,
              "#d8576b"
             ],
             [
              0.6666666666666666,
              "#ed7953"
             ],
             [
              0.7777777777777778,
              "#fb9f3a"
             ],
             [
              0.8888888888888888,
              "#fdca26"
             ],
             [
              1,
              "#f0f921"
             ]
            ],
            "type": "contour"
           }
          ],
          "contourcarpet": [
           {
            "colorbar": {
             "outlinewidth": 0,
             "ticks": ""
            },
            "type": "contourcarpet"
           }
          ],
          "heatmap": [
           {
            "colorbar": {
             "outlinewidth": 0,
             "ticks": ""
            },
            "colorscale": [
             [
              0,
              "#0d0887"
             ],
             [
              0.1111111111111111,
              "#46039f"
             ],
             [
              0.2222222222222222,
              "#7201a8"
             ],
             [
              0.3333333333333333,
              "#9c179e"
             ],
             [
              0.4444444444444444,
              "#bd3786"
             ],
             [
              0.5555555555555556,
              "#d8576b"
             ],
             [
              0.6666666666666666,
              "#ed7953"
             ],
             [
              0.7777777777777778,
              "#fb9f3a"
             ],
             [
              0.8888888888888888,
              "#fdca26"
             ],
             [
              1,
              "#f0f921"
             ]
            ],
            "type": "heatmap"
           }
          ],
          "heatmapgl": [
           {
            "colorbar": {
             "outlinewidth": 0,
             "ticks": ""
            },
            "colorscale": [
             [
              0,
              "#0d0887"
             ],
             [
              0.1111111111111111,
              "#46039f"
             ],
             [
              0.2222222222222222,
              "#7201a8"
             ],
             [
              0.3333333333333333,
              "#9c179e"
             ],
             [
              0.4444444444444444,
              "#bd3786"
             ],
             [
              0.5555555555555556,
              "#d8576b"
             ],
             [
              0.6666666666666666,
              "#ed7953"
             ],
             [
              0.7777777777777778,
              "#fb9f3a"
             ],
             [
              0.8888888888888888,
              "#fdca26"
             ],
             [
              1,
              "#f0f921"
             ]
            ],
            "type": "heatmapgl"
           }
          ],
          "histogram": [
           {
            "marker": {
             "pattern": {
              "fillmode": "overlay",
              "size": 10,
              "solidity": 0.2
             }
            },
            "type": "histogram"
           }
          ],
          "histogram2d": [
           {
            "colorbar": {
             "outlinewidth": 0,
             "ticks": ""
            },
            "colorscale": [
             [
              0,
              "#0d0887"
             ],
             [
              0.1111111111111111,
              "#46039f"
             ],
             [
              0.2222222222222222,
              "#7201a8"
             ],
             [
              0.3333333333333333,
              "#9c179e"
             ],
             [
              0.4444444444444444,
              "#bd3786"
             ],
             [
              0.5555555555555556,
              "#d8576b"
             ],
             [
              0.6666666666666666,
              "#ed7953"
             ],
             [
              0.7777777777777778,
              "#fb9f3a"
             ],
             [
              0.8888888888888888,
              "#fdca26"
             ],
             [
              1,
              "#f0f921"
             ]
            ],
            "type": "histogram2d"
           }
          ],
          "histogram2dcontour": [
           {
            "colorbar": {
             "outlinewidth": 0,
             "ticks": ""
            },
            "colorscale": [
             [
              0,
              "#0d0887"
             ],
             [
              0.1111111111111111,
              "#46039f"
             ],
             [
              0.2222222222222222,
              "#7201a8"
             ],
             [
              0.3333333333333333,
              "#9c179e"
             ],
             [
              0.4444444444444444,
              "#bd3786"
             ],
             [
              0.5555555555555556,
              "#d8576b"
             ],
             [
              0.6666666666666666,
              "#ed7953"
             ],
             [
              0.7777777777777778,
              "#fb9f3a"
             ],
             [
              0.8888888888888888,
              "#fdca26"
             ],
             [
              1,
              "#f0f921"
             ]
            ],
            "type": "histogram2dcontour"
           }
          ],
          "mesh3d": [
           {
            "colorbar": {
             "outlinewidth": 0,
             "ticks": ""
            },
            "type": "mesh3d"
           }
          ],
          "parcoords": [
           {
            "line": {
             "colorbar": {
              "outlinewidth": 0,
              "ticks": ""
             }
            },
            "type": "parcoords"
           }
          ],
          "pie": [
           {
            "automargin": true,
            "type": "pie"
           }
          ],
          "scatter": [
           {
            "fillpattern": {
             "fillmode": "overlay",
             "size": 10,
             "solidity": 0.2
            },
            "type": "scatter"
           }
          ],
          "scatter3d": [
           {
            "line": {
             "colorbar": {
              "outlinewidth": 0,
              "ticks": ""
             }
            },
            "marker": {
             "colorbar": {
              "outlinewidth": 0,
              "ticks": ""
             }
            },
            "type": "scatter3d"
           }
          ],
          "scattercarpet": [
           {
            "marker": {
             "colorbar": {
              "outlinewidth": 0,
              "ticks": ""
             }
            },
            "type": "scattercarpet"
           }
          ],
          "scattergeo": [
           {
            "marker": {
             "colorbar": {
              "outlinewidth": 0,
              "ticks": ""
             }
            },
            "type": "scattergeo"
           }
          ],
          "scattergl": [
           {
            "marker": {
             "colorbar": {
              "outlinewidth": 0,
              "ticks": ""
             }
            },
            "type": "scattergl"
           }
          ],
          "scattermapbox": [
           {
            "marker": {
             "colorbar": {
              "outlinewidth": 0,
              "ticks": ""
             }
            },
            "type": "scattermapbox"
           }
          ],
          "scatterpolar": [
           {
            "marker": {
             "colorbar": {
              "outlinewidth": 0,
              "ticks": ""
             }
            },
            "type": "scatterpolar"
           }
          ],
          "scatterpolargl": [
           {
            "marker": {
             "colorbar": {
              "outlinewidth": 0,
              "ticks": ""
             }
            },
            "type": "scatterpolargl"
           }
          ],
          "scatterternary": [
           {
            "marker": {
             "colorbar": {
              "outlinewidth": 0,
              "ticks": ""
             }
            },
            "type": "scatterternary"
           }
          ],
          "surface": [
           {
            "colorbar": {
             "outlinewidth": 0,
             "ticks": ""
            },
            "colorscale": [
             [
              0,
              "#0d0887"
             ],
             [
              0.1111111111111111,
              "#46039f"
             ],
             [
              0.2222222222222222,
              "#7201a8"
             ],
             [
              0.3333333333333333,
              "#9c179e"
             ],
             [
              0.4444444444444444,
              "#bd3786"
             ],
             [
              0.5555555555555556,
              "#d8576b"
             ],
             [
              0.6666666666666666,
              "#ed7953"
             ],
             [
              0.7777777777777778,
              "#fb9f3a"
             ],
             [
              0.8888888888888888,
              "#fdca26"
             ],
             [
              1,
              "#f0f921"
             ]
            ],
            "type": "surface"
           }
          ],
          "table": [
           {
            "cells": {
             "fill": {
              "color": "#EBF0F8"
             },
             "line": {
              "color": "white"
             }
            },
            "header": {
             "fill": {
              "color": "#C8D4E3"
             },
             "line": {
              "color": "white"
             }
            },
            "type": "table"
           }
          ]
         },
         "layout": {
          "annotationdefaults": {
           "arrowcolor": "#2a3f5f",
           "arrowhead": 0,
           "arrowwidth": 1
          },
          "autotypenumbers": "strict",
          "coloraxis": {
           "colorbar": {
            "outlinewidth": 0,
            "ticks": ""
           }
          },
          "colorscale": {
           "diverging": [
            [
             0,
             "#8e0152"
            ],
            [
             0.1,
             "#c51b7d"
            ],
            [
             0.2,
             "#de77ae"
            ],
            [
             0.3,
             "#f1b6da"
            ],
            [
             0.4,
             "#fde0ef"
            ],
            [
             0.5,
             "#f7f7f7"
            ],
            [
             0.6,
             "#e6f5d0"
            ],
            [
             0.7,
             "#b8e186"
            ],
            [
             0.8,
             "#7fbc41"
            ],
            [
             0.9,
             "#4d9221"
            ],
            [
             1,
             "#276419"
            ]
           ],
           "sequential": [
            [
             0,
             "#0d0887"
            ],
            [
             0.1111111111111111,
             "#46039f"
            ],
            [
             0.2222222222222222,
             "#7201a8"
            ],
            [
             0.3333333333333333,
             "#9c179e"
            ],
            [
             0.4444444444444444,
             "#bd3786"
            ],
            [
             0.5555555555555556,
             "#d8576b"
            ],
            [
             0.6666666666666666,
             "#ed7953"
            ],
            [
             0.7777777777777778,
             "#fb9f3a"
            ],
            [
             0.8888888888888888,
             "#fdca26"
            ],
            [
             1,
             "#f0f921"
            ]
           ],
           "sequentialminus": [
            [
             0,
             "#0d0887"
            ],
            [
             0.1111111111111111,
             "#46039f"
            ],
            [
             0.2222222222222222,
             "#7201a8"
            ],
            [
             0.3333333333333333,
             "#9c179e"
            ],
            [
             0.4444444444444444,
             "#bd3786"
            ],
            [
             0.5555555555555556,
             "#d8576b"
            ],
            [
             0.6666666666666666,
             "#ed7953"
            ],
            [
             0.7777777777777778,
             "#fb9f3a"
            ],
            [
             0.8888888888888888,
             "#fdca26"
            ],
            [
             1,
             "#f0f921"
            ]
           ]
          },
          "colorway": [
           "#636efa",
           "#EF553B",
           "#00cc96",
           "#ab63fa",
           "#FFA15A",
           "#19d3f3",
           "#FF6692",
           "#B6E880",
           "#FF97FF",
           "#FECB52"
          ],
          "font": {
           "color": "#2a3f5f"
          },
          "geo": {
           "bgcolor": "white",
           "lakecolor": "white",
           "landcolor": "#E5ECF6",
           "showlakes": true,
           "showland": true,
           "subunitcolor": "white"
          },
          "hoverlabel": {
           "align": "left"
          },
          "hovermode": "closest",
          "mapbox": {
           "style": "light"
          },
          "paper_bgcolor": "white",
          "plot_bgcolor": "#E5ECF6",
          "polar": {
           "angularaxis": {
            "gridcolor": "white",
            "linecolor": "white",
            "ticks": ""
           },
           "bgcolor": "#E5ECF6",
           "radialaxis": {
            "gridcolor": "white",
            "linecolor": "white",
            "ticks": ""
           }
          },
          "scene": {
           "xaxis": {
            "backgroundcolor": "#E5ECF6",
            "gridcolor": "white",
            "gridwidth": 2,
            "linecolor": "white",
            "showbackground": true,
            "ticks": "",
            "zerolinecolor": "white"
           },
           "yaxis": {
            "backgroundcolor": "#E5ECF6",
            "gridcolor": "white",
            "gridwidth": 2,
            "linecolor": "white",
            "showbackground": true,
            "ticks": "",
            "zerolinecolor": "white"
           },
           "zaxis": {
            "backgroundcolor": "#E5ECF6",
            "gridcolor": "white",
            "gridwidth": 2,
            "linecolor": "white",
            "showbackground": true,
            "ticks": "",
            "zerolinecolor": "white"
           }
          },
          "shapedefaults": {
           "line": {
            "color": "#2a3f5f"
           }
          },
          "ternary": {
           "aaxis": {
            "gridcolor": "white",
            "linecolor": "white",
            "ticks": ""
           },
           "baxis": {
            "gridcolor": "white",
            "linecolor": "white",
            "ticks": ""
           },
           "bgcolor": "#E5ECF6",
           "caxis": {
            "gridcolor": "white",
            "linecolor": "white",
            "ticks": ""
           }
          },
          "title": {
           "x": 0.05
          },
          "xaxis": {
           "automargin": true,
           "gridcolor": "white",
           "linecolor": "white",
           "ticks": "",
           "title": {
            "standoff": 15
           },
           "zerolinecolor": "white",
           "zerolinewidth": 2
          },
          "yaxis": {
           "automargin": true,
           "gridcolor": "white",
           "linecolor": "white",
           "ticks": "",
           "title": {
            "standoff": 15
           },
           "zerolinecolor": "white",
           "zerolinewidth": 2
          }
         }
        },
        "title": {
         "text": "Median Time at Berth at Principal Ports"
        },
        "width": 1000,
        "xaxis": {
         "anchor": "y",
         "domain": [
          0,
          1
         ],
         "title": {
          "text": "month"
         }
        },
        "yaxis": {
         "anchor": "x",
         "domain": [
          0,
          1
         ],
         "title": {
          "text": "time_at_berth_avg"
         }
        }
       }
      }
     },
     "metadata": {},
     "output_type": "display_data"
    }
   ],
   "source": [
    "px.line(\n",
    "    #data with month in dt format\n",
    "    monthly_gdf\n",
    "    .with_columns(pl.col('month').str.strptime(pl.Date, format='%Y%m'))\n",
    "    .sort(by='month'), \n",
    "    #plot specs\n",
    "    x='month', y='time_at_berth_avg', color='port_name',\n",
    "    title='Median Time at Berth at Principal Ports',\n",
    "    width=1000,\n",
    "    height=500 \n",
    ")"
   ]
  },
  {
   "cell_type": "code",
   "execution_count": 160,
   "metadata": {},
   "outputs": [
    {
     "data": {
      "text/html": [
       "<div>\n",
       "<style scoped>\n",
       "    .dataframe tbody tr th:only-of-type {\n",
       "        vertical-align: middle;\n",
       "    }\n",
       "\n",
       "    .dataframe tbody tr th {\n",
       "        vertical-align: top;\n",
       "    }\n",
       "\n",
       "    .dataframe thead th {\n",
       "        text-align: right;\n",
       "    }\n",
       "</style>\n",
       "<table border=\"1\" class=\"dataframe\">\n",
       "  <thead>\n",
       "    <tr style=\"text-align: right;\">\n",
       "      <th></th>\n",
       "      <th>mmsi</th>\n",
       "      <th>time</th>\n",
       "      <th>speed</th>\n",
       "      <th>course</th>\n",
       "      <th>heading</th>\n",
       "      <th>status</th>\n",
       "      <th>vessel_name</th>\n",
       "      <th>vessel_type</th>\n",
       "      <th>imo</th>\n",
       "      <th>length</th>\n",
       "      <th>width</th>\n",
       "      <th>draft</th>\n",
       "      <th>cargo</th>\n",
       "      <th>status_duration</th>\n",
       "      <th>geometry</th>\n",
       "      <th>port_type</th>\n",
       "      <th>port_name</th>\n",
       "      <th>port_rank</th>\n",
       "      <th>geometry_port</th>\n",
       "      <th>port_dist</th>\n",
       "      <th>year</th>\n",
       "      <th>month</th>\n",
       "      <th>lat</th>\n",
       "      <th>lon</th>\n",
       "    </tr>\n",
       "  </thead>\n",
       "  <tbody>\n",
       "  </tbody>\n",
       "</table>\n",
       "</div>"
      ],
      "text/plain": [
       "Empty GeoDataFrame\n",
       "Columns: [mmsi, time, speed, course, heading, status, vessel_name, vessel_type, imo, length, width, draft, cargo, status_duration, geometry, port_type, port_name, port_rank, geometry_port, port_dist, year, month, lat, lon]\n",
       "Index: []"
      ]
     },
     "execution_count": 160,
     "metadata": {},
     "output_type": "execute_result"
    }
   ],
   "source": [
    "main_gdf[(main_gdf['port_name']=='Port of Los Angeles, CA') & (main_gdf['month']=='201712')]"
   ]
  },
  {
   "cell_type": "code",
   "execution_count": null,
   "metadata": {},
   "outputs": [],
   "source": []
  }
 ],
 "metadata": {
  "kernelspec": {
   "display_name": "wsu",
   "language": "python",
   "name": "python3"
  },
  "language_info": {
   "codemirror_mode": {
    "name": "ipython",
    "version": 3
   },
   "file_extension": ".py",
   "mimetype": "text/x-python",
   "name": "python",
   "nbconvert_exporter": "python",
   "pygments_lexer": "ipython3",
   "version": "3.12.0"
  }
 },
 "nbformat": 4,
 "nbformat_minor": 2
}
