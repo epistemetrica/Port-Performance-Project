{
 "cells": [
  {
   "cell_type": "code",
   "execution_count": 1,
   "metadata": {},
   "outputs": [],
   "source": [
    "#prelims\n",
    "import polars as pl\n",
    "import pandas as pd\n",
    "import geopandas as gpd\n",
    "import time\n",
    "import plotly_express as px\n",
    "import matplotlib.pyplot as plt\n",
    "import contextily as cx\n",
    "import numpy as np\n",
    "import os\n",
    "\n",
    "#enable string cache for polars categoricals\n",
    "pl.enable_string_cache()\n",
    "#display settings\n",
    "pd.set_option('display.max_columns', None)\n",
    "pd.set_option('display.max_rows', None)\n",
    "pl.Config(tbl_rows=200);"
   ]
  },
  {
   "cell_type": "markdown",
   "metadata": {},
   "source": [
    "# Port Performance Index Project - Main Notebook\n",
    "\n",
    "This notebook presents the primary data analysis related to the PPI Project; see the README and other files in the [repo](https://github.com/epistemetrica/Port-Performance-Project) for full details. \n",
    "\n",
    "## Data Processing\n",
    "\n",
    "AIS data is ingested from the Marine Cadastre database via the scripts found in the vessel data folder. Here, we combine the AIS data with port-level data and prepare for analysis. "
   ]
  },
  {
   "cell_type": "markdown",
   "metadata": {},
   "source": [
    "### AIS Data\n",
    "\n",
    "The vessel locations and status (e.g., \"under way\", \"anchored\", \"moored\") data include all AIS messages; for the purposes of the PPI, we only need to know when a vessel *changes* status, so all other observations are dropped. \n",
    "\n",
    "We also limit the data for the PPI to vessels over 100m in length. "
   ]
  },
  {
   "cell_type": "code",
   "execution_count": 2,
   "metadata": {},
   "outputs": [
    {
     "name": "stdout",
     "output_type": "stream",
     "text": [
      ".DS_Store read failed\n",
      "ais_2021_07.parquet read failed\n",
      "ais_2018_12.parquet read failed\n",
      "ais_2018_01.parquet read failed\n",
      "ais_2018_11.parquet read failed\n"
     ]
    }
   ],
   "source": [
    "#check file integrity and read in good files\n",
    "ais_lf = pl.LazyFrame()\n",
    "for file in os.listdir('ais data/data/ais_clean/'):\n",
    "    try:\n",
    "        #check file integrity \n",
    "        pl.scan_parquet('ais data/data/ais_clean/'+file).collect_schema()\n",
    "        #read file\n",
    "        lf = pl.scan_parquet('ais data/data/ais_clean/'+file)\n",
    "        ais_lf = pl.concat([ais_lf, lf], how='diagonal_relaxed')\n",
    "    except:\n",
    "        print(f'{file} read failed')"
   ]
  },
  {
   "cell_type": "code",
   "execution_count": 3,
   "metadata": {},
   "outputs": [],
   "source": [
    "#%%script echo skipping: data to be read from previously processed parquet file in next cell\n",
    "\n",
    "ais_gdf = (\n",
    "    #read into lazyframe\n",
    "    ais_lf\n",
    "    #drop smaller vessels\n",
    "    .filter(pl.col('length')>100)\n",
    "    #sort by vessel and time\n",
    "    .sort(['mmsi', 'time'])\n",
    "    #indicate whether status is the same as previous row (Fill value needed to avoid status 0 evaluating as equal to false)\n",
    "    .with_columns(\n",
    "        status_change = (\n",
    "            pl.col('status').ne(pl.col('status').shift(fill_value=20))\n",
    "            .over('mmsi')\n",
    "        )\n",
    "    )\n",
    "    #keep only new status pings\n",
    "    .filter(pl.col('status_change')==True)\n",
    "    #drop change col\n",
    "    .drop('status_change')\n",
    "    #create duration column\n",
    "    .with_columns(\n",
    "        status_duration = (pl.col('time').shift(-1) - pl.col('time'))\n",
    "        .over('mmsi').dt.total_minutes()\n",
    "    )\n",
    "    #collect to pandas df\n",
    "    .collect()\n",
    "    .to_pandas()\n",
    ")\n",
    "\n",
    "#convert to geopandas dataframe\n",
    "ais_gdf = (\n",
    "    #convert to geodataframe\n",
    "    gpd.GeoDataFrame(\n",
    "        ais_gdf,\n",
    "        geometry=gpd.points_from_xy(ais_gdf.lon, ais_gdf.lat, crs='EPSG:4326')\n",
    "    )\n",
    "    #convert to WGS84 pseudo-mercator\n",
    "    .to_crs(3857)\n",
    "    #drop old lat lon cols\n",
    "    .drop(['lat', 'lon'], axis=1)\n",
    ")\n",
    "\n",
    "#write to parquet\n",
    "ais_gdf.to_parquet('ais data/data/ais_status_changes.parquet')"
   ]
  },
  {
   "cell_type": "code",
   "execution_count": 4,
   "metadata": {},
   "outputs": [
    {
     "name": "stdout",
     "output_type": "stream",
     "text": [
      "skipping: dataframe created in previous cell\n"
     ]
    }
   ],
   "source": [
    "%%script echo skipping: dataframe created in previous cell\n",
    "#read previously processed AIS parquet file\n",
    "ais_gdf = (gpd.read_parquet('ais data/data/ais_status_changes.parquet'))\n",
    "\n",
    "#limit to time\n",
    "ais_gdf = ais_gdf[ais_gdf['time'].dt.year>=2018]"
   ]
  },
  {
   "cell_type": "markdown",
   "metadata": {},
   "source": [
    "### Port and Dock Data\n",
    "\n",
    "Locations and descriptions for each dock and port come from the BTS and USACE online databases. "
   ]
  },
  {
   "cell_type": "code",
   "execution_count": 5,
   "metadata": {},
   "outputs": [],
   "source": [
    "#load port data\n",
    "ports_gdf = (\n",
    "    #read in shape file downloaded from BTS\n",
    "    gpd.read_file('port data/Principal_Ports/Principal_Ports.shp')\n",
    "    #drop unneeded columns\n",
    "    .drop([\n",
    "        'FID', #randomly assigned table id\n",
    "        'PORT', #unknown numeric ID - not CBP or UN code\n",
    "        'FOREIGN_','EXPORTS', 'IMPORTS', 'DOMESTIC' #breadown of total vol (tons)\n",
    "    ], axis=1)\n",
    ")\n",
    "#set col names to pythonic lowercase\n",
    "ports_gdf.columns = ports_gdf.columns.str.lower()\n",
    "\n",
    "#load dock data\n",
    "docks_gdf = (\n",
    "    #read in shape file downloaded from USACE\n",
    "    gpd.read_file('port data/Dock/Dock.shp')\n",
    "    #drop unneeded columns\n",
    "    .drop([\n",
    "        'FID', #randomly assigned table id\n",
    "        'LONGITUDE', 'LATITUDE', #already coded in 'geometry' \n",
    "        'LOCATION_D', #text description of dock location\n",
    "        'STREET_ADD','ZIPCODE', #street address details\n",
    "        'PSA_NAME', #statistical area name, rarely used\n",
    "        'COUNTY_NAM', 'COUNTY_FIP', 'CONGRESS', 'CONGRESS_F', #county and congress info\n",
    "        'MILE', 'BANK', 'LATITUDE1', 'LONGITUDE1', #redundant locaation data\n",
    "        'OPERATORS', 'OWNERS', #owner info\n",
    "        'PURPOSE', #long-form text description of dock uses\n",
    "        'DOCK', #unknown number (not unique to each row/dock)\n",
    "        'HIGHWAY_NO', 'RAILWAY_NO', 'LOCATION', #redundant location info\n",
    "        'COMMODITIE', 'CONSTRUCTI','MECHANICAL', 'REMARKS', 'VERTICAL_D', \n",
    "        'DEPTH_MIN', 'DEPTH_MAX','BERTHING_L', 'BERTHING_T', 'DECK_HEIGH', \n",
    "        'DECK_HEI_1', #these are rarely used stats on construction\n",
    "        'SERVICE_IN','SERVICE_TE', #rarely used indicators of data entry date \n",
    "    ], axis=1)\n",
    "    #rename cols for clarity\n",
    "    .rename(columns={\n",
    "        'NAV_UNIT_I':'nav_unit_id',\n",
    "        'NAV_UNIT_N':'nav_unit_name',\n",
    "        'FACILITY_T':'facility_type',\n",
    "        'CITY_OR_TO':'city',\n",
    "        'STATE_POST':'state'\n",
    "    })\n",
    ")\n",
    "#set col names to pythonic lowercase\n",
    "docks_gdf.columns = docks_gdf.columns.str.lower()"
   ]
  },
  {
   "cell_type": "markdown",
   "metadata": {},
   "source": [
    "### Matching\n",
    "\n",
    "We first match each of the anchored and moored points from the AIS data with the nearest Port. "
   ]
  },
  {
   "cell_type": "code",
   "execution_count": 6,
   "metadata": {},
   "outputs": [
    {
     "name": "stdout",
     "output_type": "stream",
     "text": [
      "Spatial Join time on 537809 AIS messages took 1.886152982711792 seconds\n"
     ]
    }
   ],
   "source": [
    "start = time.time()\n",
    "stops_gdf = (\n",
    "    #filter to only moorings\n",
    "    ais_gdf[ais_gdf.status == 5]\n",
    "    #join in nearest port to each ais message\n",
    "    .sjoin_nearest(ports_gdf, how='left', exclusive=True)\n",
    "    #drop unneeded cols\n",
    "    .drop(['index_right', 'total'], axis=1)\n",
    "    #rename cols for clarity\n",
    "    .rename({'rank':'port_rank', 'type':'port_type'}, axis=1)\n",
    ")\n",
    "print(f'Spatial Join time on {len(stops_gdf)} AIS messages took {time.time()-start} seconds')\n",
    "\n",
    "#create main df\n",
    "main_gdf = (\n",
    "    #merge stops back into AIS data\n",
    "    ais_gdf.merge(stops_gdf, how='left')\n",
    "    #sort by vessel then time of message\n",
    "    .sort_values(by=['mmsi', 'time'])\n",
    ")\n",
    "#backfill port info except geometry (normal pandas syntax not supported for gpd geometry)\n",
    "main_gdf[['port_type','port_name','port_rank']] = (\n",
    "    main_gdf[['port_type','port_name','port_rank']].bfill()\n",
    ")\n",
    "#merge port geometries into main (NOTE backfill not supported for gpd geometry, hence the separate merge step)\n",
    "main_gdf = main_gdf.merge(ports_gdf[['port_name', 'geometry']], \n",
    "                          on='port_name', how='left', suffixes=[None, '_port'])\n",
    "#compute distance from message loc to port loc\n",
    "main_gdf['port_dist'] = main_gdf['geometry'].distance(main_gdf['geometry_port'])"
   ]
  },
  {
   "cell_type": "code",
   "execution_count": 7,
   "metadata": {},
   "outputs": [],
   "source": [
    "#create year and month cols for convenience\n",
    "main_gdf['year'] = main_gdf['time'].dt.year\n",
    "main_gdf['month'] = main_gdf['time'].dt.strftime('%Y%m')"
   ]
  },
  {
   "cell_type": "code",
   "execution_count": 8,
   "metadata": {},
   "outputs": [
    {
     "data": {
      "text/html": [
       "<div>\n",
       "<style scoped>\n",
       "    .dataframe tbody tr th:only-of-type {\n",
       "        vertical-align: middle;\n",
       "    }\n",
       "\n",
       "    .dataframe tbody tr th {\n",
       "        vertical-align: top;\n",
       "    }\n",
       "\n",
       "    .dataframe thead th {\n",
       "        text-align: right;\n",
       "    }\n",
       "</style>\n",
       "<table border=\"1\" class=\"dataframe\">\n",
       "  <thead>\n",
       "    <tr style=\"text-align: right;\">\n",
       "      <th></th>\n",
       "      <th>mmsi</th>\n",
       "      <th>time</th>\n",
       "      <th>speed</th>\n",
       "      <th>course</th>\n",
       "      <th>heading</th>\n",
       "      <th>status</th>\n",
       "      <th>vessel_name</th>\n",
       "      <th>vessel_type</th>\n",
       "      <th>imo</th>\n",
       "      <th>length</th>\n",
       "      <th>width</th>\n",
       "      <th>draft</th>\n",
       "      <th>cargo</th>\n",
       "      <th>status_duration</th>\n",
       "      <th>geometry</th>\n",
       "      <th>port_type</th>\n",
       "      <th>port_name</th>\n",
       "      <th>port_rank</th>\n",
       "      <th>geometry_port</th>\n",
       "      <th>port_dist</th>\n",
       "      <th>year</th>\n",
       "      <th>month</th>\n",
       "    </tr>\n",
       "  </thead>\n",
       "  <tbody>\n",
       "    <tr>\n",
       "      <th>0</th>\n",
       "      <td>-3.674380e+08</td>\n",
       "      <td>2023-05-27 00:06:10</td>\n",
       "      <td>13.3</td>\n",
       "      <td>165.5</td>\n",
       "      <td>167.0</td>\n",
       "      <td>0.0</td>\n",
       "      <td>MAUNAWILI</td>\n",
       "      <td>70.0</td>\n",
       "      <td>9268538.0</td>\n",
       "      <td>217.0</td>\n",
       "      <td>32.0</td>\n",
       "      <td>12.5</td>\n",
       "      <td>70.0</td>\n",
       "      <td>NaN</td>\n",
       "      <td>POINT (16076544.901 1532352.227)</td>\n",
       "      <td>C</td>\n",
       "      <td>Port of Palm Beach District, FL</td>\n",
       "      <td>116.0</td>\n",
       "      <td>POINT (-8911422.461 3094645.864)</td>\n",
       "      <td>2.503676e+07</td>\n",
       "      <td>2023</td>\n",
       "      <td>202305</td>\n",
       "    </tr>\n",
       "    <tr>\n",
       "      <th>1</th>\n",
       "      <td>3.576870e-01</td>\n",
       "      <td>2023-04-14 00:06:22</td>\n",
       "      <td>12.8</td>\n",
       "      <td>171.9</td>\n",
       "      <td>167.0</td>\n",
       "      <td>0.0</td>\n",
       "      <td>PACIFIC CONDOR</td>\n",
       "      <td>70.0</td>\n",
       "      <td>9216339.0</td>\n",
       "      <td>117.0</td>\n",
       "      <td>20.0</td>\n",
       "      <td>7.5</td>\n",
       "      <td>70.0</td>\n",
       "      <td>NaN</td>\n",
       "      <td>POINT (16035316.614 1367477.099)</td>\n",
       "      <td>C</td>\n",
       "      <td>Port of Palm Beach District, FL</td>\n",
       "      <td>116.0</td>\n",
       "      <td>POINT (-8911422.461 3094645.864)</td>\n",
       "      <td>2.500646e+07</td>\n",
       "      <td>2023</td>\n",
       "      <td>202304</td>\n",
       "    </tr>\n",
       "    <tr>\n",
       "      <th>2</th>\n",
       "      <td>3.633600e+04</td>\n",
       "      <td>2019-10-28 10:45:42</td>\n",
       "      <td>12.5</td>\n",
       "      <td>46.0</td>\n",
       "      <td>49.0</td>\n",
       "      <td>0.0</td>\n",
       "      <td>NAVIOS LYRA</td>\n",
       "      <td>79.0</td>\n",
       "      <td>9498626.0</td>\n",
       "      <td>231.0</td>\n",
       "      <td>39.0</td>\n",
       "      <td>5.8</td>\n",
       "      <td>79.0</td>\n",
       "      <td>NaN</td>\n",
       "      <td>POINT (-8231327.164 4246784.482)</td>\n",
       "      <td>C</td>\n",
       "      <td>Port of Palm Beach District, FL</td>\n",
       "      <td>116.0</td>\n",
       "      <td>POINT (-8911422.461 3094645.864)</td>\n",
       "      <td>1.337891e+06</td>\n",
       "      <td>2019</td>\n",
       "      <td>201910</td>\n",
       "    </tr>\n",
       "    <tr>\n",
       "      <th>3</th>\n",
       "      <td>1.028100e+05</td>\n",
       "      <td>2023-03-05 17:35:08</td>\n",
       "      <td>0.0</td>\n",
       "      <td>329.8</td>\n",
       "      <td>270.0</td>\n",
       "      <td>0.0</td>\n",
       "      <td>SINGLEVESSEL</td>\n",
       "      <td>79.0</td>\n",
       "      <td>4711.0</td>\n",
       "      <td>294.0</td>\n",
       "      <td>32.0</td>\n",
       "      <td>8.6</td>\n",
       "      <td>79.0</td>\n",
       "      <td>NaN</td>\n",
       "      <td>POINT (-13157286.989 3994433.544)</td>\n",
       "      <td>C</td>\n",
       "      <td>Port of Palm Beach District, FL</td>\n",
       "      <td>116.0</td>\n",
       "      <td>POINT (-8911422.461 3094645.864)</td>\n",
       "      <td>4.340159e+06</td>\n",
       "      <td>2023</td>\n",
       "      <td>202303</td>\n",
       "    </tr>\n",
       "    <tr>\n",
       "      <th>4</th>\n",
       "      <td>2.558063e+06</td>\n",
       "      <td>2021-08-01 00:02:56</td>\n",
       "      <td>0.0</td>\n",
       "      <td>132.1</td>\n",
       "      <td>221.0</td>\n",
       "      <td>5.0</td>\n",
       "      <td>MSC MANON</td>\n",
       "      <td>79.0</td>\n",
       "      <td>9435820.0</td>\n",
       "      <td>139.0</td>\n",
       "      <td>23.0</td>\n",
       "      <td>8.8</td>\n",
       "      <td>79.0</td>\n",
       "      <td>1201.0</td>\n",
       "      <td>POINT (-8768386.934 3064339.424)</td>\n",
       "      <td>C</td>\n",
       "      <td>Port of Palm Beach District, FL</td>\n",
       "      <td>116.0</td>\n",
       "      <td>POINT (-8911422.461 3094645.864)</td>\n",
       "      <td>1.462110e+05</td>\n",
       "      <td>2021</td>\n",
       "      <td>202108</td>\n",
       "    </tr>\n",
       "  </tbody>\n",
       "</table>\n",
       "</div>"
      ],
      "text/plain": [
       "           mmsi                time  speed  course  heading  status  \\\n",
       "0 -3.674380e+08 2023-05-27 00:06:10   13.3   165.5    167.0     0.0   \n",
       "1  3.576870e-01 2023-04-14 00:06:22   12.8   171.9    167.0     0.0   \n",
       "2  3.633600e+04 2019-10-28 10:45:42   12.5    46.0     49.0     0.0   \n",
       "3  1.028100e+05 2023-03-05 17:35:08    0.0   329.8    270.0     0.0   \n",
       "4  2.558063e+06 2021-08-01 00:02:56    0.0   132.1    221.0     5.0   \n",
       "\n",
       "      vessel_name  vessel_type        imo  length  width  draft  cargo  \\\n",
       "0       MAUNAWILI         70.0  9268538.0   217.0   32.0   12.5   70.0   \n",
       "1  PACIFIC CONDOR         70.0  9216339.0   117.0   20.0    7.5   70.0   \n",
       "2     NAVIOS LYRA         79.0  9498626.0   231.0   39.0    5.8   79.0   \n",
       "3    SINGLEVESSEL         79.0     4711.0   294.0   32.0    8.6   79.0   \n",
       "4       MSC MANON         79.0  9435820.0   139.0   23.0    8.8   79.0   \n",
       "\n",
       "   status_duration                           geometry port_type  \\\n",
       "0              NaN   POINT (16076544.901 1532352.227)         C   \n",
       "1              NaN   POINT (16035316.614 1367477.099)         C   \n",
       "2              NaN   POINT (-8231327.164 4246784.482)         C   \n",
       "3              NaN  POINT (-13157286.989 3994433.544)         C   \n",
       "4           1201.0   POINT (-8768386.934 3064339.424)         C   \n",
       "\n",
       "                         port_name  port_rank  \\\n",
       "0  Port of Palm Beach District, FL      116.0   \n",
       "1  Port of Palm Beach District, FL      116.0   \n",
       "2  Port of Palm Beach District, FL      116.0   \n",
       "3  Port of Palm Beach District, FL      116.0   \n",
       "4  Port of Palm Beach District, FL      116.0   \n",
       "\n",
       "                      geometry_port     port_dist  year   month  \n",
       "0  POINT (-8911422.461 3094645.864)  2.503676e+07  2023  202305  \n",
       "1  POINT (-8911422.461 3094645.864)  2.500646e+07  2023  202304  \n",
       "2  POINT (-8911422.461 3094645.864)  1.337891e+06  2019  201910  \n",
       "3  POINT (-8911422.461 3094645.864)  4.340159e+06  2023  202303  \n",
       "4  POINT (-8911422.461 3094645.864)  1.462110e+05  2021  202108  "
      ]
     },
     "metadata": {},
     "output_type": "display_data"
    },
    {
     "name": "stdout",
     "output_type": "stream",
     "text": [
      "<class 'geopandas.geodataframe.GeoDataFrame'>\n",
      "RangeIndex: 1822520 entries, 0 to 1822519\n",
      "Data columns (total 22 columns):\n",
      " #   Column           Dtype         \n",
      "---  ------           -----         \n",
      " 0   mmsi             float64       \n",
      " 1   time             datetime64[us]\n",
      " 2   speed            float64       \n",
      " 3   course           float64       \n",
      " 4   heading          float64       \n",
      " 5   status           float64       \n",
      " 6   vessel_name      category      \n",
      " 7   vessel_type      float64       \n",
      " 8   imo              float64       \n",
      " 9   length           float64       \n",
      " 10  width            float64       \n",
      " 11  draft            float64       \n",
      " 12  cargo            float64       \n",
      " 13  status_duration  float64       \n",
      " 14  geometry         geometry      \n",
      " 15  port_type        object        \n",
      " 16  port_name        object        \n",
      " 17  port_rank        float64       \n",
      " 18  geometry_port    geometry      \n",
      " 19  port_dist        float64       \n",
      " 20  year             int32         \n",
      " 21  month            object        \n",
      "dtypes: category(1), datetime64[us](1), float64(14), geometry(2), int32(1), object(3)\n",
      "memory usage: 289.2+ MB\n"
     ]
    }
   ],
   "source": [
    "#inspect\n",
    "display(main_gdf.head())\n",
    "main_gdf.info()"
   ]
  },
  {
   "cell_type": "markdown",
   "metadata": {},
   "source": [
    "## Exploratory Analysis\n",
    "\n",
    "### Vessel calls in previous 12 months"
   ]
  },
  {
   "cell_type": "code",
   "execution_count": 9,
   "metadata": {},
   "outputs": [],
   "source": [
    "#get most recent twelve month window that appears in the data\n",
    "latest_date = main_gdf.time.max()\n",
    "year_before = latest_date - pd.DateOffset(months=12)\n",
    "\n",
    "#get port lat and long to preserve geometries in polars df\n",
    "main_gdf['lat'] = main_gdf.set_geometry('geometry_port').to_crs(\"EPSG:4326\").geometry_port.y\n",
    "main_gdf['lon'] = main_gdf.set_geometry('geometry_port').to_crs(\"EPSG:4326\").geometry_port.x\n",
    "\n",
    "annual_gdf = (\n",
    "    #convert main gdf to polars\n",
    "    pl.DataFrame(\n",
    "        main_gdf.drop(['geometry', 'geometry_port'], axis=1))\n",
    "    #filter to most recent 12 months\n",
    "    .filter(pl.col('time')>= year_before)\n",
    "    .with_columns(\n",
    "        #get monthly avg vessels\n",
    "        vessels_avg = pl.col('mmsi').n_unique().over('port_name', 'month'),\n",
    "        status_duration = pl.col('status_duration')\n",
    "    )\n",
    "    #aggregate\n",
    "    .group_by('port_name')\n",
    "    .agg(\n",
    "        #keep lat and long\n",
    "        lat = pl.col('lat').first(),\n",
    "        lon = pl.col('lon').first(),\n",
    "        #get avg vessels per month\n",
    "        vessels_avg = pl.col('vessels_avg').mean(),\n",
    "        #get median time at berth in hours\n",
    "        time_at_berth_avg = (\n",
    "            pl.when(pl.col('status')==5)\n",
    "            .then(pl.col('status_duration'))\n",
    "            .otherwise(pl.lit(None))\n",
    "        ).median()/60,\n",
    "        #get median time at anchor in hours\n",
    "        time_at_anchor_avg = (\n",
    "            pl.when(pl.col('status')==1)\n",
    "            .then(pl.col('status_duration'))\n",
    "            .otherwise(pl.lit(None))\n",
    "        ).median()/60\n",
    "    )\n",
    "    #convert to pandas to that geopandas is happy\n",
    "    .to_pandas()\n",
    ")\n",
    "\n",
    "#convert to geodataframe\n",
    "annual_gdf = (\n",
    "    gpd.GeoDataFrame(\n",
    "        annual_gdf, geometry=gpd.points_from_xy(annual_gdf.lon, annual_gdf.lat),\n",
    "        crs=3857\n",
    "    )\n",
    ")"
   ]
  },
  {
   "cell_type": "markdown",
   "metadata": {},
   "source": [
    "### Monthly Port Statistics"
   ]
  },
  {
   "cell_type": "code",
   "execution_count": 10,
   "metadata": {},
   "outputs": [],
   "source": [
    "monthly_df = (\n",
    "    #convert to polars\n",
    "    pl.DataFrame(main_gdf.drop(['geometry', 'geometry_port'], axis=1))\n",
    "    #agg over ports and months\n",
    "    .group_by('port_name', 'month')\n",
    "    .agg(\n",
    "        #keep lat and long\n",
    "        lat = pl.col('lat').first(),\n",
    "        lon = pl.col('lon').first(),\n",
    "        #get monthly avg vessels\n",
    "        vessels_avg = pl.col('mmsi').n_unique(),\n",
    "        #get average time at berth\n",
    "        time_at_berth_avg = (\n",
    "            pl.when(pl.col('status')==5)\n",
    "            .then(pl.col('status_duration'))\n",
    "            .otherwise(pl.lit(None))\n",
    "        ).median()/60,\n",
    "        #get average time at anchor\n",
    "        time_at_anchor_avg = (\n",
    "            pl.when(pl.col('status')==1)\n",
    "            .then(pl.col('status_duration'))\n",
    "            .otherwise(pl.lit(None))\n",
    "        ).median()/60\n",
    "    )\n",
    ")\n",
    "\n",
    "#get top 5 ports\n",
    "top5ports = pl.Series(ports_gdf.sort_values('rank').head().port_name)"
   ]
  },
  {
   "cell_type": "markdown",
   "metadata": {},
   "source": [
    "### Visualizations"
   ]
  },
  {
   "cell_type": "code",
   "execution_count": 11,
   "metadata": {},
   "outputs": [
    {
     "data": {
      "application/vnd.plotly.v1+json": {
       "config": {
        "plotlyServerURL": "https://plot.ly"
       },
       "data": [
        {
         "geo": "geo",
         "hovertemplate": "<b>%{hovertext}</b><br><br>vessels_avg=%{marker.size}<br>lat=%{lat}<br>lon=%{lon}<br>Hours at Berth=%{marker.color}<extra></extra>",
         "hovertext": [
          "Houston Port Authority, TX",
          "Port of Alaska, AK",
          "Kahului, Maui, HI",
          "Port of Harlingen Authority, TX",
          "Panama City Port Authority, FL",
          "Plaquemines Port District, LA",
          "Two Harbors, MN",
          "Ashtabula Port Authority, OH",
          "Clark Township, MI",
          "Calhoun Port Authority, TX",
          "Port of Providence, RI",
          "Port of Brunswick, GA",
          "Detroit-Wayne County Port, MI",
          "Coos Bay OR, Port of",
          "Richmond, CA",
          "Portsmouth, NH",
          "Searsport, ME",
          "Port of Portland, OR",
          "Muskegon, MI",
          "Port of Charleston, SC",
          "Virginia, VA, Port of",
          "New York, NY & NJ",
          "New Orleans, LA",
          "Alpena, MI",
          "Philadelphia Regional Port, PA",
          "Yabucoa, PR",
          "Port Freeport, TX",
          "Tacoma, WA",
          "Marblehead, OH",
          "Galveston, TX",
          "South Louisiana, LA, Port of",
          "Portland, ME",
          "Green Bay, WI",
          "Honolulu, O'ahu, HI",
          "Wilmington, NC",
          "Jacksonville, FL",
          "Oxnard Harbor District, CA",
          "Port of Kalama, WA",
          "Kalaeloa Barbers Point, HI",
          "Milwaukee, WI",
          "Guayama, PR",
          "Guaynabo, PR",
          "Port of Vancouver USA, WA",
          "San Diego Unified Port, CA",
          "South Jersey Port Corp, NJ",
          "Port of Palm Beach District, FL",
          "Port Arthur, TX",
          "Wilmington, DE",
          "Silver Bay, MN",
          "New Haven, CT",
          "Mueller Township, MI",
          "Corpus Christi, TX",
          "Illinois International Port, IL",
          "Port of Gulfport, MS",
          "Baltimore, MD",
          "Seattle, WA",
          "Port of Greater Baton Rouge, LA",
          "Nikiski, AK",
          "Redwood City, CA",
          "Texas City, TX",
          "Sacramento-Yolo Port, CA",
          "Port of Pascagoula, MS",
          "Port of Longview, WA",
          "Mobile, AL",
          "Orange County Nav District, TX",
          "Port of Savannah, GA",
          "Canaveral Port District, FL",
          "Port of Oakland, CA",
          "Northern Indiana District, IN",
          "Boston, MA",
          "Kawaihae, Hawai'i, HI",
          "Albany Port District, NY",
          "Unalaska Island, AK",
          "Morehead City, NC",
          "Anacortes, WA",
          "Tampa Port Authority, FL",
          "Monroe, MI",
          "Stockton, CA",
          "San Francisco Port, CA",
          "Conneaut, OH",
          "Sandusky, OH",
          "Bridgeport, CT",
          "Grays Harbor Port District, WA",
          "Terrebonne Parish Port, LA",
          "Virgin Islands - St. Croix, VI",
          "Port of Long Beach, CA",
          "Port of Everett, WA",
          "Port of Los Angeles, CA",
          "West St. Mary Parish Port, LA",
          "Brownsville, TX",
          "Manatee County Port, FL",
          "Lake Charles Harbor District, LA",
          "Rogers City, MI",
          "Greater Lafourche Port, LA",
          "Presque Isle Township, MI",
          "Beaumont, TX",
          "Nawiliwili, Kaua'i, HI",
          "Marine City, MI",
          "Hilo, Hawai'i, HI",
          "Toledo-Lucas County Port, OH",
          "Duluth-Superior, MN and WI",
          "Marquette, MI",
          "Port Everglades, FL",
          "Valdez, AK",
          "Port Jefferson, NY",
          "Cleveland-Cuyahoga Port, OH",
          "San Juan, PR",
          "PortMiami, FL"
         ],
         "lat": [
          29.74702299999999,
          61.23778000000001,
          20.898610000000005,
          26.201976000000005,
          30.133998000000016,
          29.480004000000008,
          47.014550999999976,
          41.90368500000001,
          45.99138999999998,
          28.62938900000002,
          41.81177999999999,
          31.132425999999985,
          42.26909400000002,
          43.36350999999997,
          37.92423699999999,
          43.073979999999985,
          44.45285,
          45.47881000000001,
          43.22708300000002,
          32.78878099999997,
          36.86641999999996,
          40.67394899999999,
          29.914139999999975,
          45.061966999999974,
          39.91882,
          18.05174300000002,
          28.96133000000003,
          47.28966000000003,
          41.52961999999998,
          29.31048999999998,
          30.033449999999988,
          43.64950999999999,
          44.516215,
          21.311110000000035,
          34.22736499999998,
          30.32275700000004,
          34.14824399999996,
          46.02659599999997,
          21.323066000000015,
          42.98823999999999,
          17.938939000000016,
          18.43022100000003,
          45.622440000000005,
          32.708209999999994,
          39.846444999999974,
          26.76903999999999,
          29.83141999999998,
          39.715889999999966,
          47.29420800000001,
          41.29883000000003,
          45.96942399999999,
          27.812769999999972,
          41.886620000000015,
          30.35962100000001,
          39.25082699999997,
          47.58771099999997,
          30.422920000000016,
          60.74793,
          37.50535999999999,
          29.36306800000003,
          38.56132299999998,
          30.34801999999999,
          46.14222000000002,
          30.69123000000003,
          30.095369999999946,
          32.08471099999998,
          28.414089999999984,
          37.82152,
          41.62504700000002,
          42.34246800000003,
          20.035154000000002,
          42.64271000000003,
          53.89418500000001,
          34.71692999999996,
          48.49594299999999,
          27.785339999999987,
          41.91513400000002,
          37.95270000000001,
          37.80666500000003,
          41.96671,
          41.470220000000026,
          41.172,
          46.904156000000036,
          29.579070000000016,
          17.752709999999958,
          33.73957000000002,
          47.98476000000001,
          33.726635000000016,
          29.81967300000001,
          25.952201000000002,
          27.633680999999985,
          30.106406000000028,
          45.42229799999998,
          29.121944999999982,
          45.29794,
          30.084871999999983,
          21.95248399999999,
          42.71544999999999,
          19.730615999999998,
          41.66293999999997,
          46.77836199999998,
          46.577291999999964,
          26.09339200000001,
          61.124730000000014,
          40.94880999999998,
          41.47851999999999,
          18.432782999999972,
          25.78286200000004
         ],
         "legendgroup": "",
         "lon": [
          -95.29367900000028,
          -149.8949999999996,
          -156.4727999999997,
          -97.59710500000041,
          -85.63376199999999,
          -89.68744699999998,
          -91.67068500000016,
          -80.79397599999994,
          -84.31280999999997,
          -96.59232400000002,
          -71.39844000000004,
          -81.53666000000001,
          -83.10958600000001,
          -124.20949999999986,
          -122.37423299999986,
          -70.73805999999996,
          -68.92497000000002,
          -122.66529999999963,
          -86.34316000000001,
          -79.92159500000001,
          -76.31174000000001,
          -74.03835699999998,
          -90.08525600000007,
          -83.42173300000003,
          -75.20219099999998,
          -65.83622600000001,
          -95.3707000000004,
          -122.45149999999964,
          -82.70905999999998,
          -94.81269999999991,
          -90.61793999999985,
          -70.25133999999998,
          -88.01811800000002,
          -157.87169999999958,
          -77.95049600000002,
          -81.66512500000005,
          -119.20847500000015,
          -122.86685999999972,
          -158.1136830000002,
          -87.89967000000003,
          -66.15600200000002,
          -66.11114099999999,
          -122.68060000000018,
          -117.17839999999974,
          -75.261085,
          -80.05267000000002,
          -93.9606899999997,
          -75.50696999999997,
          -91.25638799999999,
          -72.90473000000003,
          -85.872972,
          -97.39789000000025,
          -87.63798999999999,
          -89.092568,
          -76.56163999999995,
          -122.35921800000041,
          -91.19933999999976,
          -151.31439999999984,
          -122.21401199999977,
          -94.91809099999998,
          -121.54154100000014,
          -88.55879000000003,
          -122.91399999999975,
          -88.03583399999998,
          -93.7235599999998,
          -81.09538199999996,
          -80.60814999999997,
          -122.30810000000015,
          -87.20250699999995,
          -71.032029,
          -155.82796599999958,
          -73.74816000000003,
          -166.5499160000001,
          -76.72421000000001,
          -122.59960999999971,
          -82.52235,
          -83.39060899999993,
          -121.31560000000034,
          -122.39904199999995,
          -80.54860000000004,
          -82.71227000000002,
          -73.17886000000004,
          -124.17614600000005,
          -90.65905099999983,
          -64.73242,
          -118.20950000000023,
          -122.22940000000042,
          -118.26809900000029,
          -91.51389600000005,
          -97.3981380000001,
          -82.56414299999996,
          -93.28683900000004,
          -83.81197199999998,
          -90.20527900000023,
          -83.42138200000002,
          -94.09498499999985,
          -159.35231900000005,
          -82.50235000000005,
          -155.0547780000002,
          -83.50750999999998,
          -92.0964080000003,
          -87.384821,
          -80.11780099999996,
          -146.3463999999997,
          -73.07215999999997,
          -81.67191000000001,
          -66.09667800000001,
          -80.18164200000001
         ],
         "marker": {
          "color": [
           35.458333333333336,
           null,
           9.7,
           627.6166666666667,
           58.28333333333333,
           5.141666666666667,
           12.2,
           6.041666666666667,
           9.033333333333333,
           24.166666666666668,
           18.3,
           18.108333333333334,
           10.683333333333334,
           85.33333333333333,
           30.333333333333332,
           23.95,
           19.866666666666667,
           306.2583333333333,
           5.2,
           16.508333333333333,
           16.366666666666667,
           22.775,
           42.05,
           10.775,
           3.966666666666667,
           43.86666666666667,
           27.933333333333334,
           6,
           0.03333333333333333,
           11.8,
           40.21666666666667,
           16.883333333333333,
           22.9,
           32.7,
           15.566666666666666,
           19.516666666666666,
           0.05,
           57.03333333333333,
           47.125,
           14.933333333333334,
           30.308333333333334,
           43.025,
           38.09166666666667,
           0.775,
           17.716666666666665,
           23.866666666666667,
           39.11666666666667,
           26.516666666666666,
           33.69166666666666,
           29.599999999999998,
           8.7,
           37.43333333333333,
           11.425,
           1.875,
           22.116666666666667,
           11.216666666666667,
           2.7583333333333333,
           null,
           0.03333333333333333,
           25.016666666666666,
           103.16666666666667,
           45.18333333333333,
           86.30833333333334,
           38.625,
           null,
           23.225,
           21.541666666666668,
           33.75,
           15.183333333333334,
           19.983333333333334,
           null,
           27.775,
           null,
           29.53333333333333,
           7.366666666666666,
           0.016666666666666666,
           9.533333333333333,
           47.825,
           0.06666666666666667,
           4.441666666666666,
           12.341666666666667,
           11.9,
           69.48333333333333,
           null,
           12.908333333333333,
           8.625,
           0.8833333333333333,
           1.5583333333333333,
           0.016666666666666666,
           52.483333333333334,
           12.033333333333333,
           33.71666666666667,
           13.966666666666667,
           32.916666666666664,
           12.341666666666667,
           30.349999999999998,
           23.075,
           25.133333333333333,
           0.016666666666666666,
           17.483333333333334,
           15.391666666666666,
           10.266666666666666,
           11.508333333333333,
           null,
           12.166666666666666,
           9.433333333333334,
           14.183333333333334,
           5.016666666666667
          ],
          "coloraxis": "coloraxis",
          "size": [
           608.2037495269425,
           1.8666666666666667,
           3.0869565217391304,
           3,
           16.396946564885496,
           29.278314917127073,
           6.275675675675676,
           8.287769784172662,
           18.717877094972067,
           24.640529531568227,
           41.99923195084485,
           52.96042868920033,
           29.430640243902438,
           11.698795180722891,
           103.80726834309336,
           9.855855855855856,
           37.47800237812128,
           8.84472049689441,
           6.9771689497716896,
           164.64610450858328,
           260.67155172413794,
           412.20085673488813,
           295.5221301357785,
           2.381818181818182,
           136.27359119706568,
           6.485436893203883,
           119.73895224518888,
           82.15816904600045,
           4.84,
           85.71333472019971,
           235.8433414815602,
           17.02968960863698,
           6.244565217391305,
           36.9222027972028,
           62.478070175438596,
           109.16149523576838,
           42.342112715944495,
           40.72789115646258,
           19.926923076923078,
           6.258771929824562,
           154.3494527869687,
           32.87708947885939,
           98.11435878699305,
           87.59037974683544,
           48.812295081967214,
           89.45694336695112,
           159.33114525139663,
           76.99314024390245,
           38.134105960264904,
           26.969827586206897,
           8.623145400593472,
           255.8233308068628,
           8.213523131672599,
           7.972857142857142,
           218.4597568777991,
           49.92844120328168,
           82.2665586388495,
           1,
           9.109177215189874,
           171.30457472795914,
           9.533333333333333,
           41.620429483459084,
           37.752221125370184,
           135.13877266387726,
           1,
           224.5024280911468,
           30.377513711151735,
           89.42196339434277,
           22.10261569416499,
           49.935944944415034,
           2,
           59.27690371302706,
           4.176470588235294,
           18.621705426356588,
           407.0399919044728,
           78.25696012039127,
           3.5294117647058822,
           36.495465787304205,
           5.349112426035503,
           81.61539868324799,
           5.007462686567164,
           1.26,
           13.882513661202186,
           1,
           106.13322161709259,
           197.83797622147011,
           13.068403908794789,
           171.3474549807432,
           1,
           229.0885140257771,
           23.943506969919294,
           112.63550922761449,
           9.14176245210728,
           38.58639092728485,
           11.260586319218241,
           148.53095012839572,
           2.081967213114754,
           30.129832660126947,
           1,
           14.840909090909092,
           29.476962457337883,
           5.392857142857143,
           117.50584867075665,
           1.5,
           2.7291666666666665,
           19.77763496143959,
           54.33066554338669,
           107.77888888888889
          ],
          "sizemode": "area",
          "sizeref": 0.675781943918825,
          "symbol": "circle"
         },
         "mode": "markers",
         "name": "",
         "showlegend": false,
         "type": "scattergeo"
        }
       ],
       "layout": {
        "annotations": [
         {
          "align": "left",
          "font": {
           "color": "black",
           "size": 14
          },
          "showarrow": false,
          "text": "Note: Circle size corresponds to averages vessels per month",
          "x": 0,
          "xref": "paper",
          "y": -0.05,
          "yref": "paper"
         }
        ],
        "coloraxis": {
         "cmax": 50,
         "cmin": 0,
         "colorbar": {
          "title": {
           "text": "Hours at Berth"
          }
         },
         "colorscale": [
          [
           0,
           "#440154"
          ],
          [
           0.1111111111111111,
           "#482878"
          ],
          [
           0.2222222222222222,
           "#3e4989"
          ],
          [
           0.3333333333333333,
           "#31688e"
          ],
          [
           0.4444444444444444,
           "#26828e"
          ],
          [
           0.5555555555555556,
           "#1f9e89"
          ],
          [
           0.6666666666666666,
           "#35b779"
          ],
          [
           0.7777777777777778,
           "#6ece58"
          ],
          [
           0.8888888888888888,
           "#b5de2b"
          ],
          [
           1,
           "#fde725"
          ]
         ]
        },
        "geo": {
         "center": {},
         "domain": {
          "x": [
           0,
           1
          ],
          "y": [
           0,
           1
          ]
         },
         "fitbounds": "locations"
        },
        "height": 600,
        "legend": {
         "itemsizing": "constant",
         "tracegroupgap": 0
        },
        "template": {
         "data": {
          "bar": [
           {
            "error_x": {
             "color": "#2a3f5f"
            },
            "error_y": {
             "color": "#2a3f5f"
            },
            "marker": {
             "line": {
              "color": "#E5ECF6",
              "width": 0.5
             },
             "pattern": {
              "fillmode": "overlay",
              "size": 10,
              "solidity": 0.2
             }
            },
            "type": "bar"
           }
          ],
          "barpolar": [
           {
            "marker": {
             "line": {
              "color": "#E5ECF6",
              "width": 0.5
             },
             "pattern": {
              "fillmode": "overlay",
              "size": 10,
              "solidity": 0.2
             }
            },
            "type": "barpolar"
           }
          ],
          "carpet": [
           {
            "aaxis": {
             "endlinecolor": "#2a3f5f",
             "gridcolor": "white",
             "linecolor": "white",
             "minorgridcolor": "white",
             "startlinecolor": "#2a3f5f"
            },
            "baxis": {
             "endlinecolor": "#2a3f5f",
             "gridcolor": "white",
             "linecolor": "white",
             "minorgridcolor": "white",
             "startlinecolor": "#2a3f5f"
            },
            "type": "carpet"
           }
          ],
          "choropleth": [
           {
            "colorbar": {
             "outlinewidth": 0,
             "ticks": ""
            },
            "type": "choropleth"
           }
          ],
          "contour": [
           {
            "colorbar": {
             "outlinewidth": 0,
             "ticks": ""
            },
            "colorscale": [
             [
              0,
              "#0d0887"
             ],
             [
              0.1111111111111111,
              "#46039f"
             ],
             [
              0.2222222222222222,
              "#7201a8"
             ],
             [
              0.3333333333333333,
              "#9c179e"
             ],
             [
              0.4444444444444444,
              "#bd3786"
             ],
             [
              0.5555555555555556,
              "#d8576b"
             ],
             [
              0.6666666666666666,
              "#ed7953"
             ],
             [
              0.7777777777777778,
              "#fb9f3a"
             ],
             [
              0.8888888888888888,
              "#fdca26"
             ],
             [
              1,
              "#f0f921"
             ]
            ],
            "type": "contour"
           }
          ],
          "contourcarpet": [
           {
            "colorbar": {
             "outlinewidth": 0,
             "ticks": ""
            },
            "type": "contourcarpet"
           }
          ],
          "heatmap": [
           {
            "colorbar": {
             "outlinewidth": 0,
             "ticks": ""
            },
            "colorscale": [
             [
              0,
              "#0d0887"
             ],
             [
              0.1111111111111111,
              "#46039f"
             ],
             [
              0.2222222222222222,
              "#7201a8"
             ],
             [
              0.3333333333333333,
              "#9c179e"
             ],
             [
              0.4444444444444444,
              "#bd3786"
             ],
             [
              0.5555555555555556,
              "#d8576b"
             ],
             [
              0.6666666666666666,
              "#ed7953"
             ],
             [
              0.7777777777777778,
              "#fb9f3a"
             ],
             [
              0.8888888888888888,
              "#fdca26"
             ],
             [
              1,
              "#f0f921"
             ]
            ],
            "type": "heatmap"
           }
          ],
          "heatmapgl": [
           {
            "colorbar": {
             "outlinewidth": 0,
             "ticks": ""
            },
            "colorscale": [
             [
              0,
              "#0d0887"
             ],
             [
              0.1111111111111111,
              "#46039f"
             ],
             [
              0.2222222222222222,
              "#7201a8"
             ],
             [
              0.3333333333333333,
              "#9c179e"
             ],
             [
              0.4444444444444444,
              "#bd3786"
             ],
             [
              0.5555555555555556,
              "#d8576b"
             ],
             [
              0.6666666666666666,
              "#ed7953"
             ],
             [
              0.7777777777777778,
              "#fb9f3a"
             ],
             [
              0.8888888888888888,
              "#fdca26"
             ],
             [
              1,
              "#f0f921"
             ]
            ],
            "type": "heatmapgl"
           }
          ],
          "histogram": [
           {
            "marker": {
             "pattern": {
              "fillmode": "overlay",
              "size": 10,
              "solidity": 0.2
             }
            },
            "type": "histogram"
           }
          ],
          "histogram2d": [
           {
            "colorbar": {
             "outlinewidth": 0,
             "ticks": ""
            },
            "colorscale": [
             [
              0,
              "#0d0887"
             ],
             [
              0.1111111111111111,
              "#46039f"
             ],
             [
              0.2222222222222222,
              "#7201a8"
             ],
             [
              0.3333333333333333,
              "#9c179e"
             ],
             [
              0.4444444444444444,
              "#bd3786"
             ],
             [
              0.5555555555555556,
              "#d8576b"
             ],
             [
              0.6666666666666666,
              "#ed7953"
             ],
             [
              0.7777777777777778,
              "#fb9f3a"
             ],
             [
              0.8888888888888888,
              "#fdca26"
             ],
             [
              1,
              "#f0f921"
             ]
            ],
            "type": "histogram2d"
           }
          ],
          "histogram2dcontour": [
           {
            "colorbar": {
             "outlinewidth": 0,
             "ticks": ""
            },
            "colorscale": [
             [
              0,
              "#0d0887"
             ],
             [
              0.1111111111111111,
              "#46039f"
             ],
             [
              0.2222222222222222,
              "#7201a8"
             ],
             [
              0.3333333333333333,
              "#9c179e"
             ],
             [
              0.4444444444444444,
              "#bd3786"
             ],
             [
              0.5555555555555556,
              "#d8576b"
             ],
             [
              0.6666666666666666,
              "#ed7953"
             ],
             [
              0.7777777777777778,
              "#fb9f3a"
             ],
             [
              0.8888888888888888,
              "#fdca26"
             ],
             [
              1,
              "#f0f921"
             ]
            ],
            "type": "histogram2dcontour"
           }
          ],
          "mesh3d": [
           {
            "colorbar": {
             "outlinewidth": 0,
             "ticks": ""
            },
            "type": "mesh3d"
           }
          ],
          "parcoords": [
           {
            "line": {
             "colorbar": {
              "outlinewidth": 0,
              "ticks": ""
             }
            },
            "type": "parcoords"
           }
          ],
          "pie": [
           {
            "automargin": true,
            "type": "pie"
           }
          ],
          "scatter": [
           {
            "fillpattern": {
             "fillmode": "overlay",
             "size": 10,
             "solidity": 0.2
            },
            "type": "scatter"
           }
          ],
          "scatter3d": [
           {
            "line": {
             "colorbar": {
              "outlinewidth": 0,
              "ticks": ""
             }
            },
            "marker": {
             "colorbar": {
              "outlinewidth": 0,
              "ticks": ""
             }
            },
            "type": "scatter3d"
           }
          ],
          "scattercarpet": [
           {
            "marker": {
             "colorbar": {
              "outlinewidth": 0,
              "ticks": ""
             }
            },
            "type": "scattercarpet"
           }
          ],
          "scattergeo": [
           {
            "marker": {
             "colorbar": {
              "outlinewidth": 0,
              "ticks": ""
             }
            },
            "type": "scattergeo"
           }
          ],
          "scattergl": [
           {
            "marker": {
             "colorbar": {
              "outlinewidth": 0,
              "ticks": ""
             }
            },
            "type": "scattergl"
           }
          ],
          "scattermapbox": [
           {
            "marker": {
             "colorbar": {
              "outlinewidth": 0,
              "ticks": ""
             }
            },
            "type": "scattermapbox"
           }
          ],
          "scatterpolar": [
           {
            "marker": {
             "colorbar": {
              "outlinewidth": 0,
              "ticks": ""
             }
            },
            "type": "scatterpolar"
           }
          ],
          "scatterpolargl": [
           {
            "marker": {
             "colorbar": {
              "outlinewidth": 0,
              "ticks": ""
             }
            },
            "type": "scatterpolargl"
           }
          ],
          "scatterternary": [
           {
            "marker": {
             "colorbar": {
              "outlinewidth": 0,
              "ticks": ""
             }
            },
            "type": "scatterternary"
           }
          ],
          "surface": [
           {
            "colorbar": {
             "outlinewidth": 0,
             "ticks": ""
            },
            "colorscale": [
             [
              0,
              "#0d0887"
             ],
             [
              0.1111111111111111,
              "#46039f"
             ],
             [
              0.2222222222222222,
              "#7201a8"
             ],
             [
              0.3333333333333333,
              "#9c179e"
             ],
             [
              0.4444444444444444,
              "#bd3786"
             ],
             [
              0.5555555555555556,
              "#d8576b"
             ],
             [
              0.6666666666666666,
              "#ed7953"
             ],
             [
              0.7777777777777778,
              "#fb9f3a"
             ],
             [
              0.8888888888888888,
              "#fdca26"
             ],
             [
              1,
              "#f0f921"
             ]
            ],
            "type": "surface"
           }
          ],
          "table": [
           {
            "cells": {
             "fill": {
              "color": "#EBF0F8"
             },
             "line": {
              "color": "white"
             }
            },
            "header": {
             "fill": {
              "color": "#C8D4E3"
             },
             "line": {
              "color": "white"
             }
            },
            "type": "table"
           }
          ]
         },
         "layout": {
          "annotationdefaults": {
           "arrowcolor": "#2a3f5f",
           "arrowhead": 0,
           "arrowwidth": 1
          },
          "autotypenumbers": "strict",
          "coloraxis": {
           "colorbar": {
            "outlinewidth": 0,
            "ticks": ""
           }
          },
          "colorscale": {
           "diverging": [
            [
             0,
             "#8e0152"
            ],
            [
             0.1,
             "#c51b7d"
            ],
            [
             0.2,
             "#de77ae"
            ],
            [
             0.3,
             "#f1b6da"
            ],
            [
             0.4,
             "#fde0ef"
            ],
            [
             0.5,
             "#f7f7f7"
            ],
            [
             0.6,
             "#e6f5d0"
            ],
            [
             0.7,
             "#b8e186"
            ],
            [
             0.8,
             "#7fbc41"
            ],
            [
             0.9,
             "#4d9221"
            ],
            [
             1,
             "#276419"
            ]
           ],
           "sequential": [
            [
             0,
             "#0d0887"
            ],
            [
             0.1111111111111111,
             "#46039f"
            ],
            [
             0.2222222222222222,
             "#7201a8"
            ],
            [
             0.3333333333333333,
             "#9c179e"
            ],
            [
             0.4444444444444444,
             "#bd3786"
            ],
            [
             0.5555555555555556,
             "#d8576b"
            ],
            [
             0.6666666666666666,
             "#ed7953"
            ],
            [
             0.7777777777777778,
             "#fb9f3a"
            ],
            [
             0.8888888888888888,
             "#fdca26"
            ],
            [
             1,
             "#f0f921"
            ]
           ],
           "sequentialminus": [
            [
             0,
             "#0d0887"
            ],
            [
             0.1111111111111111,
             "#46039f"
            ],
            [
             0.2222222222222222,
             "#7201a8"
            ],
            [
             0.3333333333333333,
             "#9c179e"
            ],
            [
             0.4444444444444444,
             "#bd3786"
            ],
            [
             0.5555555555555556,
             "#d8576b"
            ],
            [
             0.6666666666666666,
             "#ed7953"
            ],
            [
             0.7777777777777778,
             "#fb9f3a"
            ],
            [
             0.8888888888888888,
             "#fdca26"
            ],
            [
             1,
             "#f0f921"
            ]
           ]
          },
          "colorway": [
           "#636efa",
           "#EF553B",
           "#00cc96",
           "#ab63fa",
           "#FFA15A",
           "#19d3f3",
           "#FF6692",
           "#B6E880",
           "#FF97FF",
           "#FECB52"
          ],
          "font": {
           "color": "#2a3f5f"
          },
          "geo": {
           "bgcolor": "white",
           "lakecolor": "white",
           "landcolor": "#E5ECF6",
           "showlakes": true,
           "showland": true,
           "subunitcolor": "white"
          },
          "hoverlabel": {
           "align": "left"
          },
          "hovermode": "closest",
          "mapbox": {
           "style": "light"
          },
          "paper_bgcolor": "white",
          "plot_bgcolor": "#E5ECF6",
          "polar": {
           "angularaxis": {
            "gridcolor": "white",
            "linecolor": "white",
            "ticks": ""
           },
           "bgcolor": "#E5ECF6",
           "radialaxis": {
            "gridcolor": "white",
            "linecolor": "white",
            "ticks": ""
           }
          },
          "scene": {
           "xaxis": {
            "backgroundcolor": "#E5ECF6",
            "gridcolor": "white",
            "gridwidth": 2,
            "linecolor": "white",
            "showbackground": true,
            "ticks": "",
            "zerolinecolor": "white"
           },
           "yaxis": {
            "backgroundcolor": "#E5ECF6",
            "gridcolor": "white",
            "gridwidth": 2,
            "linecolor": "white",
            "showbackground": true,
            "ticks": "",
            "zerolinecolor": "white"
           },
           "zaxis": {
            "backgroundcolor": "#E5ECF6",
            "gridcolor": "white",
            "gridwidth": 2,
            "linecolor": "white",
            "showbackground": true,
            "ticks": "",
            "zerolinecolor": "white"
           }
          },
          "shapedefaults": {
           "line": {
            "color": "#2a3f5f"
           }
          },
          "ternary": {
           "aaxis": {
            "gridcolor": "white",
            "linecolor": "white",
            "ticks": ""
           },
           "baxis": {
            "gridcolor": "white",
            "linecolor": "white",
            "ticks": ""
           },
           "bgcolor": "#E5ECF6",
           "caxis": {
            "gridcolor": "white",
            "linecolor": "white",
            "ticks": ""
           }
          },
          "title": {
           "x": 0.05
          },
          "xaxis": {
           "automargin": true,
           "gridcolor": "white",
           "linecolor": "white",
           "ticks": "",
           "title": {
            "standoff": 15
           },
           "zerolinecolor": "white",
           "zerolinewidth": 2
          },
          "yaxis": {
           "automargin": true,
           "gridcolor": "white",
           "linecolor": "white",
           "ticks": "",
           "title": {
            "standoff": 15
           },
           "zerolinecolor": "white",
           "zerolinewidth": 2
          }
         }
        },
        "title": {
         "text": "Avg Vessels per month & Median Hours at Berth (previous 12 months)"
        },
        "width": 1000
       }
      }
     },
     "metadata": {},
     "output_type": "display_data"
    }
   ],
   "source": [
    "#scatterplot\n",
    "fig = px.scatter_geo(\n",
    "    annual_gdf,\n",
    "    lon='lon',\n",
    "    lat='lat',\n",
    "    size='vessels_avg',\n",
    "    color='time_at_berth_avg',\n",
    "    range_color=[0,50],\n",
    "    hover_name='port_name',\n",
    "    size_max=30,\n",
    "    title='Avg Vessels per month & Median Hours at Berth (previous 12 months)',\n",
    "    color_continuous_scale=px.colors.sequential.Viridis,\n",
    "    width=1000,\n",
    "    height=600,\n",
    "    labels={\n",
    "        'time_at_berth_avg':'Hours at Berth'\n",
    "    }\n",
    ")\n",
    "\n",
    "# Fit the view to ports\n",
    "fig.update_geos(fitbounds=\"locations\")\n",
    "\n",
    "# Add footnote using add_annotation\n",
    "fig.add_annotation(\n",
    "    text=\"Note: Circle size corresponds to averages vessels per month\",  # Footnote text\n",
    "    xref=\"paper\", yref=\"paper\",  # Position relative to the plot area\n",
    "    x=0, y=0-0.05,  # Adjust to footnote position\n",
    "    showarrow=False,  # No arrow, just text\n",
    "    font=dict(size=14, color=\"black\"),  # Customize the font style\n",
    "    align=\"left\"\n",
    ")\n",
    "\n",
    "# Show the figure\n",
    "fig.show()"
   ]
  },
  {
   "cell_type": "code",
   "execution_count": 12,
   "metadata": {},
   "outputs": [
    {
     "data": {
      "application/vnd.plotly.v1+json": {
       "config": {
        "plotlyServerURL": "https://plot.ly"
       },
       "data": [
        {
         "geo": "geo",
         "hovertemplate": "<b>%{hovertext}</b><br><br>vessels_avg=%{marker.size}<br>lat=%{lat}<br>lon=%{lon}<br>Hours at Anchor=%{marker.color}<extra></extra>",
         "hovertext": [
          "Houston Port Authority, TX",
          "Port of Alaska, AK",
          "Kahului, Maui, HI",
          "Port of Harlingen Authority, TX",
          "Panama City Port Authority, FL",
          "Plaquemines Port District, LA",
          "Two Harbors, MN",
          "Ashtabula Port Authority, OH",
          "Clark Township, MI",
          "Calhoun Port Authority, TX",
          "Port of Providence, RI",
          "Port of Brunswick, GA",
          "Detroit-Wayne County Port, MI",
          "Coos Bay OR, Port of",
          "Richmond, CA",
          "Portsmouth, NH",
          "Searsport, ME",
          "Port of Portland, OR",
          "Muskegon, MI",
          "Port of Charleston, SC",
          "Virginia, VA, Port of",
          "New York, NY & NJ",
          "New Orleans, LA",
          "Alpena, MI",
          "Philadelphia Regional Port, PA",
          "Yabucoa, PR",
          "Port Freeport, TX",
          "Tacoma, WA",
          "Marblehead, OH",
          "Galveston, TX",
          "South Louisiana, LA, Port of",
          "Portland, ME",
          "Green Bay, WI",
          "Honolulu, O'ahu, HI",
          "Wilmington, NC",
          "Jacksonville, FL",
          "Oxnard Harbor District, CA",
          "Port of Kalama, WA",
          "Kalaeloa Barbers Point, HI",
          "Milwaukee, WI",
          "Guayama, PR",
          "Guaynabo, PR",
          "Port of Vancouver USA, WA",
          "San Diego Unified Port, CA",
          "South Jersey Port Corp, NJ",
          "Port of Palm Beach District, FL",
          "Port Arthur, TX",
          "Wilmington, DE",
          "Silver Bay, MN",
          "New Haven, CT",
          "Mueller Township, MI",
          "Corpus Christi, TX",
          "Illinois International Port, IL",
          "Port of Gulfport, MS",
          "Baltimore, MD",
          "Seattle, WA",
          "Port of Greater Baton Rouge, LA",
          "Nikiski, AK",
          "Redwood City, CA",
          "Texas City, TX",
          "Sacramento-Yolo Port, CA",
          "Port of Pascagoula, MS",
          "Port of Longview, WA",
          "Mobile, AL",
          "Orange County Nav District, TX",
          "Port of Savannah, GA",
          "Canaveral Port District, FL",
          "Port of Oakland, CA",
          "Northern Indiana District, IN",
          "Boston, MA",
          "Kawaihae, Hawai'i, HI",
          "Albany Port District, NY",
          "Unalaska Island, AK",
          "Morehead City, NC",
          "Anacortes, WA",
          "Tampa Port Authority, FL",
          "Monroe, MI",
          "Stockton, CA",
          "San Francisco Port, CA",
          "Conneaut, OH",
          "Sandusky, OH",
          "Bridgeport, CT",
          "Grays Harbor Port District, WA",
          "Terrebonne Parish Port, LA",
          "Virgin Islands - St. Croix, VI",
          "Port of Long Beach, CA",
          "Port of Everett, WA",
          "Port of Los Angeles, CA",
          "West St. Mary Parish Port, LA",
          "Brownsville, TX",
          "Manatee County Port, FL",
          "Lake Charles Harbor District, LA",
          "Rogers City, MI",
          "Greater Lafourche Port, LA",
          "Presque Isle Township, MI",
          "Beaumont, TX",
          "Nawiliwili, Kaua'i, HI",
          "Marine City, MI",
          "Hilo, Hawai'i, HI",
          "Toledo-Lucas County Port, OH",
          "Duluth-Superior, MN and WI",
          "Marquette, MI",
          "Port Everglades, FL",
          "Valdez, AK",
          "Port Jefferson, NY",
          "Cleveland-Cuyahoga Port, OH",
          "San Juan, PR",
          "PortMiami, FL"
         ],
         "lat": [
          29.74702299999999,
          61.23778000000001,
          20.898610000000005,
          26.201976000000005,
          30.133998000000016,
          29.480004000000008,
          47.014550999999976,
          41.90368500000001,
          45.99138999999998,
          28.62938900000002,
          41.81177999999999,
          31.132425999999985,
          42.26909400000002,
          43.36350999999997,
          37.92423699999999,
          43.073979999999985,
          44.45285,
          45.47881000000001,
          43.22708300000002,
          32.78878099999997,
          36.86641999999996,
          40.67394899999999,
          29.914139999999975,
          45.061966999999974,
          39.91882,
          18.05174300000002,
          28.96133000000003,
          47.28966000000003,
          41.52961999999998,
          29.31048999999998,
          30.033449999999988,
          43.64950999999999,
          44.516215,
          21.311110000000035,
          34.22736499999998,
          30.32275700000004,
          34.14824399999996,
          46.02659599999997,
          21.323066000000015,
          42.98823999999999,
          17.938939000000016,
          18.43022100000003,
          45.622440000000005,
          32.708209999999994,
          39.846444999999974,
          26.76903999999999,
          29.83141999999998,
          39.715889999999966,
          47.29420800000001,
          41.29883000000003,
          45.96942399999999,
          27.812769999999972,
          41.886620000000015,
          30.35962100000001,
          39.25082699999997,
          47.58771099999997,
          30.422920000000016,
          60.74793,
          37.50535999999999,
          29.36306800000003,
          38.56132299999998,
          30.34801999999999,
          46.14222000000002,
          30.69123000000003,
          30.095369999999946,
          32.08471099999998,
          28.414089999999984,
          37.82152,
          41.62504700000002,
          42.34246800000003,
          20.035154000000002,
          42.64271000000003,
          53.89418500000001,
          34.71692999999996,
          48.49594299999999,
          27.785339999999987,
          41.91513400000002,
          37.95270000000001,
          37.80666500000003,
          41.96671,
          41.470220000000026,
          41.172,
          46.904156000000036,
          29.579070000000016,
          17.752709999999958,
          33.73957000000002,
          47.98476000000001,
          33.726635000000016,
          29.81967300000001,
          25.952201000000002,
          27.633680999999985,
          30.106406000000028,
          45.42229799999998,
          29.121944999999982,
          45.29794,
          30.084871999999983,
          21.95248399999999,
          42.71544999999999,
          19.730615999999998,
          41.66293999999997,
          46.77836199999998,
          46.577291999999964,
          26.09339200000001,
          61.124730000000014,
          40.94880999999998,
          41.47851999999999,
          18.432782999999972,
          25.78286200000004
         ],
         "legendgroup": "",
         "lon": [
          -95.29367900000028,
          -149.8949999999996,
          -156.4727999999997,
          -97.59710500000041,
          -85.63376199999999,
          -89.68744699999998,
          -91.67068500000016,
          -80.79397599999994,
          -84.31280999999997,
          -96.59232400000002,
          -71.39844000000004,
          -81.53666000000001,
          -83.10958600000001,
          -124.20949999999986,
          -122.37423299999986,
          -70.73805999999996,
          -68.92497000000002,
          -122.66529999999963,
          -86.34316000000001,
          -79.92159500000001,
          -76.31174000000001,
          -74.03835699999998,
          -90.08525600000007,
          -83.42173300000003,
          -75.20219099999998,
          -65.83622600000001,
          -95.3707000000004,
          -122.45149999999964,
          -82.70905999999998,
          -94.81269999999991,
          -90.61793999999985,
          -70.25133999999998,
          -88.01811800000002,
          -157.87169999999958,
          -77.95049600000002,
          -81.66512500000005,
          -119.20847500000015,
          -122.86685999999972,
          -158.1136830000002,
          -87.89967000000003,
          -66.15600200000002,
          -66.11114099999999,
          -122.68060000000018,
          -117.17839999999974,
          -75.261085,
          -80.05267000000002,
          -93.9606899999997,
          -75.50696999999997,
          -91.25638799999999,
          -72.90473000000003,
          -85.872972,
          -97.39789000000025,
          -87.63798999999999,
          -89.092568,
          -76.56163999999995,
          -122.35921800000041,
          -91.19933999999976,
          -151.31439999999984,
          -122.21401199999977,
          -94.91809099999998,
          -121.54154100000014,
          -88.55879000000003,
          -122.91399999999975,
          -88.03583399999998,
          -93.7235599999998,
          -81.09538199999996,
          -80.60814999999997,
          -122.30810000000015,
          -87.20250699999995,
          -71.032029,
          -155.82796599999958,
          -73.74816000000003,
          -166.5499160000001,
          -76.72421000000001,
          -122.59960999999971,
          -82.52235,
          -83.39060899999993,
          -121.31560000000034,
          -122.39904199999995,
          -80.54860000000004,
          -82.71227000000002,
          -73.17886000000004,
          -124.17614600000005,
          -90.65905099999983,
          -64.73242,
          -118.20950000000023,
          -122.22940000000042,
          -118.26809900000029,
          -91.51389600000005,
          -97.3981380000001,
          -82.56414299999996,
          -93.28683900000004,
          -83.81197199999998,
          -90.20527900000023,
          -83.42138200000002,
          -94.09498499999985,
          -159.35231900000005,
          -82.50235000000005,
          -155.0547780000002,
          -83.50750999999998,
          -92.0964080000003,
          -87.384821,
          -80.11780099999996,
          -146.3463999999997,
          -73.07215999999997,
          -81.67191000000001,
          -66.09667800000001,
          -80.18164200000001
         ],
         "marker": {
          "color": [
           22.616666666666667,
           8.066666666666666,
           79.86666666666666,
           null,
           22.725,
           41.30833333333333,
           11.466666666666667,
           18.133333333333333,
           8.966666666666667,
           21.5,
           17.016666666666666,
           22.566666666666666,
           8.483333333333333,
           4.983333333333333,
           18.491666666666667,
           15.5,
           23.008333333333333,
           32.016666666666666,
           10.616666666666667,
           16.516666666666666,
           25.166666666666668,
           14.7,
           33.75,
           24.175,
           13.516666666666666,
           16.183333333333334,
           26.075,
           12.783333333333333,
           6.6,
           17.241666666666667,
           27.741666666666667,
           14.883333333333333,
           14.975,
           26.575,
           9.533333333333333,
           11.608333333333333,
           13.716666666666667,
           70.25833333333333,
           37.93333333333333,
           20.325,
           23.75,
           18.65,
           19.416666666666668,
           0.06666666666666667,
           6.4,
           19.375,
           24.916666666666668,
           19.5,
           23.083333333333332,
           10.1,
           7.483333333333333,
           23.458333333333332,
           8.916666666666666,
           11.766666666666666,
           19.233333333333334,
           18.133333333333333,
           10.683333333333334,
           26.15,
           22.65,
           22.391666666666666,
           21.058333333333334,
           34.666666666666664,
           59.05,
           29.40833333333333,
           4.033333333333333,
           35.28333333333333,
           14.316666666666666,
           15.358333333333333,
           0.11666666666666667,
           15.95,
           null,
           15.316666666666666,
           null,
           45.61666666666667,
           22.125,
           15.2,
           4.85,
           20.733333333333334,
           0.016666666666666666,
           14.883333333333333,
           10.991666666666667,
           6.266666666666667,
           63.55,
           null,
           12.725,
           4.966666666666667,
           1.5333333333333332,
           1.95,
           null,
           46.225,
           12.924999999999999,
           23.3,
           7.158333333333333,
           43.28333333333333,
           5.958333333333333,
           18.3,
           108.34166666666667,
           14.358333333333333,
           null,
           18.883333333333333,
           15.075,
           12.25,
           11.066666666666666,
           null,
           33.68333333333333,
           6.325,
           9.566666666666666,
           24.041666666666668
          ],
          "coloraxis": "coloraxis",
          "size": [
           608.2037495269425,
           1.8666666666666667,
           3.0869565217391304,
           3,
           16.396946564885496,
           29.278314917127073,
           6.275675675675676,
           8.287769784172662,
           18.717877094972067,
           24.640529531568227,
           41.99923195084485,
           52.96042868920033,
           29.430640243902438,
           11.698795180722891,
           103.80726834309336,
           9.855855855855856,
           37.47800237812128,
           8.84472049689441,
           6.9771689497716896,
           164.64610450858328,
           260.67155172413794,
           412.20085673488813,
           295.5221301357785,
           2.381818181818182,
           136.27359119706568,
           6.485436893203883,
           119.73895224518888,
           82.15816904600045,
           4.84,
           85.71333472019971,
           235.8433414815602,
           17.02968960863698,
           6.244565217391305,
           36.9222027972028,
           62.478070175438596,
           109.16149523576838,
           42.342112715944495,
           40.72789115646258,
           19.926923076923078,
           6.258771929824562,
           154.3494527869687,
           32.87708947885939,
           98.11435878699305,
           87.59037974683544,
           48.812295081967214,
           89.45694336695112,
           159.33114525139663,
           76.99314024390245,
           38.134105960264904,
           26.969827586206897,
           8.623145400593472,
           255.8233308068628,
           8.213523131672599,
           7.972857142857142,
           218.4597568777991,
           49.92844120328168,
           82.2665586388495,
           1,
           9.109177215189874,
           171.30457472795914,
           9.533333333333333,
           41.620429483459084,
           37.752221125370184,
           135.13877266387726,
           1,
           224.5024280911468,
           30.377513711151735,
           89.42196339434277,
           22.10261569416499,
           49.935944944415034,
           2,
           59.27690371302706,
           4.176470588235294,
           18.621705426356588,
           407.0399919044728,
           78.25696012039127,
           3.5294117647058822,
           36.495465787304205,
           5.349112426035503,
           81.61539868324799,
           5.007462686567164,
           1.26,
           13.882513661202186,
           1,
           106.13322161709259,
           197.83797622147011,
           13.068403908794789,
           171.3474549807432,
           1,
           229.0885140257771,
           23.943506969919294,
           112.63550922761449,
           9.14176245210728,
           38.58639092728485,
           11.260586319218241,
           148.53095012839572,
           2.081967213114754,
           30.129832660126947,
           1,
           14.840909090909092,
           29.476962457337883,
           5.392857142857143,
           117.50584867075665,
           1.5,
           2.7291666666666665,
           19.77763496143959,
           54.33066554338669,
           107.77888888888889
          ],
          "sizemode": "area",
          "sizeref": 0.675781943918825,
          "symbol": "circle"
         },
         "mode": "markers",
         "name": "",
         "showlegend": false,
         "type": "scattergeo"
        }
       ],
       "layout": {
        "annotations": [
         {
          "align": "left",
          "font": {
           "color": "black",
           "size": 14
          },
          "showarrow": false,
          "text": "Note: Circle size corresponds to averages vessels per month",
          "x": 0,
          "xref": "paper",
          "y": -0.05,
          "yref": "paper"
         }
        ],
        "coloraxis": {
         "cmax": 50,
         "cmin": 0,
         "colorbar": {
          "title": {
           "text": "Hours at Anchor"
          }
         },
         "colorscale": [
          [
           0,
           "#440154"
          ],
          [
           0.1111111111111111,
           "#482878"
          ],
          [
           0.2222222222222222,
           "#3e4989"
          ],
          [
           0.3333333333333333,
           "#31688e"
          ],
          [
           0.4444444444444444,
           "#26828e"
          ],
          [
           0.5555555555555556,
           "#1f9e89"
          ],
          [
           0.6666666666666666,
           "#35b779"
          ],
          [
           0.7777777777777778,
           "#6ece58"
          ],
          [
           0.8888888888888888,
           "#b5de2b"
          ],
          [
           1,
           "#fde725"
          ]
         ]
        },
        "geo": {
         "center": {},
         "domain": {
          "x": [
           0,
           1
          ],
          "y": [
           0,
           1
          ]
         },
         "fitbounds": "locations"
        },
        "height": 600,
        "legend": {
         "itemsizing": "constant",
         "tracegroupgap": 0
        },
        "template": {
         "data": {
          "bar": [
           {
            "error_x": {
             "color": "#2a3f5f"
            },
            "error_y": {
             "color": "#2a3f5f"
            },
            "marker": {
             "line": {
              "color": "#E5ECF6",
              "width": 0.5
             },
             "pattern": {
              "fillmode": "overlay",
              "size": 10,
              "solidity": 0.2
             }
            },
            "type": "bar"
           }
          ],
          "barpolar": [
           {
            "marker": {
             "line": {
              "color": "#E5ECF6",
              "width": 0.5
             },
             "pattern": {
              "fillmode": "overlay",
              "size": 10,
              "solidity": 0.2
             }
            },
            "type": "barpolar"
           }
          ],
          "carpet": [
           {
            "aaxis": {
             "endlinecolor": "#2a3f5f",
             "gridcolor": "white",
             "linecolor": "white",
             "minorgridcolor": "white",
             "startlinecolor": "#2a3f5f"
            },
            "baxis": {
             "endlinecolor": "#2a3f5f",
             "gridcolor": "white",
             "linecolor": "white",
             "minorgridcolor": "white",
             "startlinecolor": "#2a3f5f"
            },
            "type": "carpet"
           }
          ],
          "choropleth": [
           {
            "colorbar": {
             "outlinewidth": 0,
             "ticks": ""
            },
            "type": "choropleth"
           }
          ],
          "contour": [
           {
            "colorbar": {
             "outlinewidth": 0,
             "ticks": ""
            },
            "colorscale": [
             [
              0,
              "#0d0887"
             ],
             [
              0.1111111111111111,
              "#46039f"
             ],
             [
              0.2222222222222222,
              "#7201a8"
             ],
             [
              0.3333333333333333,
              "#9c179e"
             ],
             [
              0.4444444444444444,
              "#bd3786"
             ],
             [
              0.5555555555555556,
              "#d8576b"
             ],
             [
              0.6666666666666666,
              "#ed7953"
             ],
             [
              0.7777777777777778,
              "#fb9f3a"
             ],
             [
              0.8888888888888888,
              "#fdca26"
             ],
             [
              1,
              "#f0f921"
             ]
            ],
            "type": "contour"
           }
          ],
          "contourcarpet": [
           {
            "colorbar": {
             "outlinewidth": 0,
             "ticks": ""
            },
            "type": "contourcarpet"
           }
          ],
          "heatmap": [
           {
            "colorbar": {
             "outlinewidth": 0,
             "ticks": ""
            },
            "colorscale": [
             [
              0,
              "#0d0887"
             ],
             [
              0.1111111111111111,
              "#46039f"
             ],
             [
              0.2222222222222222,
              "#7201a8"
             ],
             [
              0.3333333333333333,
              "#9c179e"
             ],
             [
              0.4444444444444444,
              "#bd3786"
             ],
             [
              0.5555555555555556,
              "#d8576b"
             ],
             [
              0.6666666666666666,
              "#ed7953"
             ],
             [
              0.7777777777777778,
              "#fb9f3a"
             ],
             [
              0.8888888888888888,
              "#fdca26"
             ],
             [
              1,
              "#f0f921"
             ]
            ],
            "type": "heatmap"
           }
          ],
          "heatmapgl": [
           {
            "colorbar": {
             "outlinewidth": 0,
             "ticks": ""
            },
            "colorscale": [
             [
              0,
              "#0d0887"
             ],
             [
              0.1111111111111111,
              "#46039f"
             ],
             [
              0.2222222222222222,
              "#7201a8"
             ],
             [
              0.3333333333333333,
              "#9c179e"
             ],
             [
              0.4444444444444444,
              "#bd3786"
             ],
             [
              0.5555555555555556,
              "#d8576b"
             ],
             [
              0.6666666666666666,
              "#ed7953"
             ],
             [
              0.7777777777777778,
              "#fb9f3a"
             ],
             [
              0.8888888888888888,
              "#fdca26"
             ],
             [
              1,
              "#f0f921"
             ]
            ],
            "type": "heatmapgl"
           }
          ],
          "histogram": [
           {
            "marker": {
             "pattern": {
              "fillmode": "overlay",
              "size": 10,
              "solidity": 0.2
             }
            },
            "type": "histogram"
           }
          ],
          "histogram2d": [
           {
            "colorbar": {
             "outlinewidth": 0,
             "ticks": ""
            },
            "colorscale": [
             [
              0,
              "#0d0887"
             ],
             [
              0.1111111111111111,
              "#46039f"
             ],
             [
              0.2222222222222222,
              "#7201a8"
             ],
             [
              0.3333333333333333,
              "#9c179e"
             ],
             [
              0.4444444444444444,
              "#bd3786"
             ],
             [
              0.5555555555555556,
              "#d8576b"
             ],
             [
              0.6666666666666666,
              "#ed7953"
             ],
             [
              0.7777777777777778,
              "#fb9f3a"
             ],
             [
              0.8888888888888888,
              "#fdca26"
             ],
             [
              1,
              "#f0f921"
             ]
            ],
            "type": "histogram2d"
           }
          ],
          "histogram2dcontour": [
           {
            "colorbar": {
             "outlinewidth": 0,
             "ticks": ""
            },
            "colorscale": [
             [
              0,
              "#0d0887"
             ],
             [
              0.1111111111111111,
              "#46039f"
             ],
             [
              0.2222222222222222,
              "#7201a8"
             ],
             [
              0.3333333333333333,
              "#9c179e"
             ],
             [
              0.4444444444444444,
              "#bd3786"
             ],
             [
              0.5555555555555556,
              "#d8576b"
             ],
             [
              0.6666666666666666,
              "#ed7953"
             ],
             [
              0.7777777777777778,
              "#fb9f3a"
             ],
             [
              0.8888888888888888,
              "#fdca26"
             ],
             [
              1,
              "#f0f921"
             ]
            ],
            "type": "histogram2dcontour"
           }
          ],
          "mesh3d": [
           {
            "colorbar": {
             "outlinewidth": 0,
             "ticks": ""
            },
            "type": "mesh3d"
           }
          ],
          "parcoords": [
           {
            "line": {
             "colorbar": {
              "outlinewidth": 0,
              "ticks": ""
             }
            },
            "type": "parcoords"
           }
          ],
          "pie": [
           {
            "automargin": true,
            "type": "pie"
           }
          ],
          "scatter": [
           {
            "fillpattern": {
             "fillmode": "overlay",
             "size": 10,
             "solidity": 0.2
            },
            "type": "scatter"
           }
          ],
          "scatter3d": [
           {
            "line": {
             "colorbar": {
              "outlinewidth": 0,
              "ticks": ""
             }
            },
            "marker": {
             "colorbar": {
              "outlinewidth": 0,
              "ticks": ""
             }
            },
            "type": "scatter3d"
           }
          ],
          "scattercarpet": [
           {
            "marker": {
             "colorbar": {
              "outlinewidth": 0,
              "ticks": ""
             }
            },
            "type": "scattercarpet"
           }
          ],
          "scattergeo": [
           {
            "marker": {
             "colorbar": {
              "outlinewidth": 0,
              "ticks": ""
             }
            },
            "type": "scattergeo"
           }
          ],
          "scattergl": [
           {
            "marker": {
             "colorbar": {
              "outlinewidth": 0,
              "ticks": ""
             }
            },
            "type": "scattergl"
           }
          ],
          "scattermapbox": [
           {
            "marker": {
             "colorbar": {
              "outlinewidth": 0,
              "ticks": ""
             }
            },
            "type": "scattermapbox"
           }
          ],
          "scatterpolar": [
           {
            "marker": {
             "colorbar": {
              "outlinewidth": 0,
              "ticks": ""
             }
            },
            "type": "scatterpolar"
           }
          ],
          "scatterpolargl": [
           {
            "marker": {
             "colorbar": {
              "outlinewidth": 0,
              "ticks": ""
             }
            },
            "type": "scatterpolargl"
           }
          ],
          "scatterternary": [
           {
            "marker": {
             "colorbar": {
              "outlinewidth": 0,
              "ticks": ""
             }
            },
            "type": "scatterternary"
           }
          ],
          "surface": [
           {
            "colorbar": {
             "outlinewidth": 0,
             "ticks": ""
            },
            "colorscale": [
             [
              0,
              "#0d0887"
             ],
             [
              0.1111111111111111,
              "#46039f"
             ],
             [
              0.2222222222222222,
              "#7201a8"
             ],
             [
              0.3333333333333333,
              "#9c179e"
             ],
             [
              0.4444444444444444,
              "#bd3786"
             ],
             [
              0.5555555555555556,
              "#d8576b"
             ],
             [
              0.6666666666666666,
              "#ed7953"
             ],
             [
              0.7777777777777778,
              "#fb9f3a"
             ],
             [
              0.8888888888888888,
              "#fdca26"
             ],
             [
              1,
              "#f0f921"
             ]
            ],
            "type": "surface"
           }
          ],
          "table": [
           {
            "cells": {
             "fill": {
              "color": "#EBF0F8"
             },
             "line": {
              "color": "white"
             }
            },
            "header": {
             "fill": {
              "color": "#C8D4E3"
             },
             "line": {
              "color": "white"
             }
            },
            "type": "table"
           }
          ]
         },
         "layout": {
          "annotationdefaults": {
           "arrowcolor": "#2a3f5f",
           "arrowhead": 0,
           "arrowwidth": 1
          },
          "autotypenumbers": "strict",
          "coloraxis": {
           "colorbar": {
            "outlinewidth": 0,
            "ticks": ""
           }
          },
          "colorscale": {
           "diverging": [
            [
             0,
             "#8e0152"
            ],
            [
             0.1,
             "#c51b7d"
            ],
            [
             0.2,
             "#de77ae"
            ],
            [
             0.3,
             "#f1b6da"
            ],
            [
             0.4,
             "#fde0ef"
            ],
            [
             0.5,
             "#f7f7f7"
            ],
            [
             0.6,
             "#e6f5d0"
            ],
            [
             0.7,
             "#b8e186"
            ],
            [
             0.8,
             "#7fbc41"
            ],
            [
             0.9,
             "#4d9221"
            ],
            [
             1,
             "#276419"
            ]
           ],
           "sequential": [
            [
             0,
             "#0d0887"
            ],
            [
             0.1111111111111111,
             "#46039f"
            ],
            [
             0.2222222222222222,
             "#7201a8"
            ],
            [
             0.3333333333333333,
             "#9c179e"
            ],
            [
             0.4444444444444444,
             "#bd3786"
            ],
            [
             0.5555555555555556,
             "#d8576b"
            ],
            [
             0.6666666666666666,
             "#ed7953"
            ],
            [
             0.7777777777777778,
             "#fb9f3a"
            ],
            [
             0.8888888888888888,
             "#fdca26"
            ],
            [
             1,
             "#f0f921"
            ]
           ],
           "sequentialminus": [
            [
             0,
             "#0d0887"
            ],
            [
             0.1111111111111111,
             "#46039f"
            ],
            [
             0.2222222222222222,
             "#7201a8"
            ],
            [
             0.3333333333333333,
             "#9c179e"
            ],
            [
             0.4444444444444444,
             "#bd3786"
            ],
            [
             0.5555555555555556,
             "#d8576b"
            ],
            [
             0.6666666666666666,
             "#ed7953"
            ],
            [
             0.7777777777777778,
             "#fb9f3a"
            ],
            [
             0.8888888888888888,
             "#fdca26"
            ],
            [
             1,
             "#f0f921"
            ]
           ]
          },
          "colorway": [
           "#636efa",
           "#EF553B",
           "#00cc96",
           "#ab63fa",
           "#FFA15A",
           "#19d3f3",
           "#FF6692",
           "#B6E880",
           "#FF97FF",
           "#FECB52"
          ],
          "font": {
           "color": "#2a3f5f"
          },
          "geo": {
           "bgcolor": "white",
           "lakecolor": "white",
           "landcolor": "#E5ECF6",
           "showlakes": true,
           "showland": true,
           "subunitcolor": "white"
          },
          "hoverlabel": {
           "align": "left"
          },
          "hovermode": "closest",
          "mapbox": {
           "style": "light"
          },
          "paper_bgcolor": "white",
          "plot_bgcolor": "#E5ECF6",
          "polar": {
           "angularaxis": {
            "gridcolor": "white",
            "linecolor": "white",
            "ticks": ""
           },
           "bgcolor": "#E5ECF6",
           "radialaxis": {
            "gridcolor": "white",
            "linecolor": "white",
            "ticks": ""
           }
          },
          "scene": {
           "xaxis": {
            "backgroundcolor": "#E5ECF6",
            "gridcolor": "white",
            "gridwidth": 2,
            "linecolor": "white",
            "showbackground": true,
            "ticks": "",
            "zerolinecolor": "white"
           },
           "yaxis": {
            "backgroundcolor": "#E5ECF6",
            "gridcolor": "white",
            "gridwidth": 2,
            "linecolor": "white",
            "showbackground": true,
            "ticks": "",
            "zerolinecolor": "white"
           },
           "zaxis": {
            "backgroundcolor": "#E5ECF6",
            "gridcolor": "white",
            "gridwidth": 2,
            "linecolor": "white",
            "showbackground": true,
            "ticks": "",
            "zerolinecolor": "white"
           }
          },
          "shapedefaults": {
           "line": {
            "color": "#2a3f5f"
           }
          },
          "ternary": {
           "aaxis": {
            "gridcolor": "white",
            "linecolor": "white",
            "ticks": ""
           },
           "baxis": {
            "gridcolor": "white",
            "linecolor": "white",
            "ticks": ""
           },
           "bgcolor": "#E5ECF6",
           "caxis": {
            "gridcolor": "white",
            "linecolor": "white",
            "ticks": ""
           }
          },
          "title": {
           "x": 0.05
          },
          "xaxis": {
           "automargin": true,
           "gridcolor": "white",
           "linecolor": "white",
           "ticks": "",
           "title": {
            "standoff": 15
           },
           "zerolinecolor": "white",
           "zerolinewidth": 2
          },
          "yaxis": {
           "automargin": true,
           "gridcolor": "white",
           "linecolor": "white",
           "ticks": "",
           "title": {
            "standoff": 15
           },
           "zerolinecolor": "white",
           "zerolinewidth": 2
          }
         }
        },
        "title": {
         "text": "Avg Vessels per month & Median Hours at Anchor (previous 12 months)"
        },
        "width": 1000
       }
      }
     },
     "metadata": {},
     "output_type": "display_data"
    }
   ],
   "source": [
    "#scatterplot\n",
    "fig = px.scatter_geo(\n",
    "    annual_gdf,\n",
    "    lon='lon',\n",
    "    lat='lat',\n",
    "    size='vessels_avg',\n",
    "    color='time_at_anchor_avg',\n",
    "    range_color=[0,50],\n",
    "    hover_name='port_name',\n",
    "    size_max=30,\n",
    "    title='Avg Vessels per month & Median Hours at Anchor (previous 12 months)',\n",
    "    color_continuous_scale=px.colors.sequential.Viridis,\n",
    "    width=1000,\n",
    "    height=600,\n",
    "    labels={\n",
    "        'time_at_anchor_avg':'Hours at Anchor'\n",
    "    }\n",
    ")\n",
    "\n",
    "# Fit the view to ports\n",
    "fig.update_geos(fitbounds=\"locations\")\n",
    "\n",
    "# Add footnote using add_annotation\n",
    "fig.add_annotation(\n",
    "    text=\"Note: Circle size corresponds to averages vessels per month\",  # Footnote text\n",
    "    xref=\"paper\", yref=\"paper\",  # Position relative to the plot area\n",
    "    x=0, y=0-0.05,  # Adjust to footnote position\n",
    "    showarrow=False,  # No arrow, just text\n",
    "    font=dict(size=14, color=\"black\"),  # Customize the font style\n",
    "    align=\"left\"\n",
    ")\n",
    "\n",
    "# Show the figure\n",
    "fig.show()"
   ]
  },
  {
   "cell_type": "code",
   "execution_count": 13,
   "metadata": {},
   "outputs": [
    {
     "data": {
      "application/vnd.plotly.v1+json": {
       "config": {
        "plotlyServerURL": "https://plot.ly"
       },
       "data": [
        {
         "hovertemplate": "port_name=South Louisiana, LA, Port of<br>month=%{x}<br>vessels_avg=%{y}<extra></extra>",
         "legendgroup": "South Louisiana, LA, Port of",
         "line": {
          "color": "#636efa",
          "dash": "solid"
         },
         "marker": {
          "symbol": "circle"
         },
         "mode": "lines",
         "name": "South Louisiana, LA, Port of",
         "orientation": "v",
         "showlegend": true,
         "type": "scatter",
         "x": [
          "2018-02-01T00:00:00",
          "2018-03-01T00:00:00",
          "2018-04-01T00:00:00",
          "2018-05-01T00:00:00",
          "2018-06-01T00:00:00",
          "2018-07-01T00:00:00",
          "2018-08-01T00:00:00",
          "2018-09-01T00:00:00",
          "2018-10-01T00:00:00",
          "2019-01-01T00:00:00",
          "2019-02-01T00:00:00",
          "2019-03-01T00:00:00",
          "2019-04-01T00:00:00",
          "2019-05-01T00:00:00",
          "2019-06-01T00:00:00",
          "2019-08-01T00:00:00",
          "2019-09-01T00:00:00",
          "2019-10-01T00:00:00",
          "2019-11-01T00:00:00",
          "2019-12-01T00:00:00",
          "2020-01-01T00:00:00",
          "2020-02-01T00:00:00",
          "2020-03-01T00:00:00",
          "2020-04-01T00:00:00",
          "2020-05-01T00:00:00",
          "2020-06-01T00:00:00",
          "2020-07-01T00:00:00",
          "2020-08-01T00:00:00",
          "2020-09-01T00:00:00",
          "2020-10-01T00:00:00",
          "2020-11-01T00:00:00",
          "2020-12-01T00:00:00",
          "2021-01-01T00:00:00",
          "2021-02-01T00:00:00",
          "2021-04-01T00:00:00",
          "2021-05-01T00:00:00",
          "2021-06-01T00:00:00",
          "2021-08-01T00:00:00",
          "2021-09-01T00:00:00",
          "2021-10-01T00:00:00",
          "2021-11-01T00:00:00",
          "2021-12-01T00:00:00",
          "2022-01-01T00:00:00",
          "2022-02-01T00:00:00",
          "2022-03-01T00:00:00",
          "2022-04-01T00:00:00",
          "2022-05-01T00:00:00",
          "2022-06-01T00:00:00",
          "2022-07-01T00:00:00",
          "2022-08-01T00:00:00",
          "2022-09-01T00:00:00",
          "2022-10-01T00:00:00",
          "2022-11-01T00:00:00",
          "2022-12-01T00:00:00",
          "2023-01-01T00:00:00",
          "2023-02-01T00:00:00",
          "2023-03-01T00:00:00",
          "2023-04-01T00:00:00",
          "2023-05-01T00:00:00",
          "2023-06-01T00:00:00",
          "2023-07-01T00:00:00",
          "2023-08-01T00:00:00",
          "2023-09-01T00:00:00",
          "2023-10-01T00:00:00",
          "2023-11-01T00:00:00",
          "2023-12-01T00:00:00"
         ],
         "xaxis": "x",
         "y": [
          319,
          288,
          300,
          295,
          267,
          271,
          273,
          274,
          258,
          263,
          201,
          246,
          226,
          212,
          188,
          213,
          195,
          204,
          197,
          209,
          191,
          183,
          204,
          189,
          170,
          169,
          170,
          186,
          188,
          192,
          175,
          184,
          204,
          169,
          256,
          233,
          225,
          221,
          191,
          266,
          275,
          257,
          271,
          240,
          274,
          258,
          263,
          231,
          215,
          244,
          241,
          241,
          234,
          239,
          250,
          220,
          238,
          89,
          226,
          206,
          190,
          238,
          249,
          269,
          233,
          279
         ],
         "yaxis": "y"
        },
        {
         "hovertemplate": "port_name=Port of Long Beach, CA<br>month=%{x}<br>vessels_avg=%{y}<extra></extra>",
         "legendgroup": "Port of Long Beach, CA",
         "line": {
          "color": "#EF553B",
          "dash": "solid"
         },
         "marker": {
          "symbol": "circle"
         },
         "mode": "lines",
         "name": "Port of Long Beach, CA",
         "orientation": "v",
         "showlegend": true,
         "type": "scatter",
         "x": [
          "2018-02-01T00:00:00",
          "2018-03-01T00:00:00",
          "2018-04-01T00:00:00",
          "2018-05-01T00:00:00",
          "2018-06-01T00:00:00",
          "2018-07-01T00:00:00",
          "2018-08-01T00:00:00",
          "2018-09-01T00:00:00",
          "2018-10-01T00:00:00",
          "2019-01-01T00:00:00",
          "2019-02-01T00:00:00",
          "2019-03-01T00:00:00",
          "2019-04-01T00:00:00",
          "2019-05-01T00:00:00",
          "2019-06-01T00:00:00",
          "2019-08-01T00:00:00",
          "2019-09-01T00:00:00",
          "2019-10-01T00:00:00",
          "2019-11-01T00:00:00",
          "2019-12-01T00:00:00",
          "2020-01-01T00:00:00",
          "2020-02-01T00:00:00",
          "2020-03-01T00:00:00",
          "2020-04-01T00:00:00",
          "2020-05-01T00:00:00",
          "2020-06-01T00:00:00",
          "2020-07-01T00:00:00",
          "2020-08-01T00:00:00",
          "2020-09-01T00:00:00",
          "2020-10-01T00:00:00",
          "2020-11-01T00:00:00",
          "2020-12-01T00:00:00",
          "2021-01-01T00:00:00",
          "2021-02-01T00:00:00",
          "2021-04-01T00:00:00",
          "2021-05-01T00:00:00",
          "2021-06-01T00:00:00",
          "2021-08-01T00:00:00",
          "2021-09-01T00:00:00",
          "2021-10-01T00:00:00",
          "2021-11-01T00:00:00",
          "2021-12-01T00:00:00",
          "2022-01-01T00:00:00",
          "2022-02-01T00:00:00",
          "2022-03-01T00:00:00",
          "2022-04-01T00:00:00",
          "2022-05-01T00:00:00",
          "2022-06-01T00:00:00",
          "2022-07-01T00:00:00",
          "2022-08-01T00:00:00",
          "2022-09-01T00:00:00",
          "2022-10-01T00:00:00",
          "2022-11-01T00:00:00",
          "2022-12-01T00:00:00",
          "2023-01-01T00:00:00",
          "2023-02-01T00:00:00",
          "2023-03-01T00:00:00",
          "2023-04-01T00:00:00",
          "2023-05-01T00:00:00",
          "2023-06-01T00:00:00",
          "2023-07-01T00:00:00",
          "2023-08-01T00:00:00",
          "2023-09-01T00:00:00",
          "2023-10-01T00:00:00",
          "2023-11-01T00:00:00",
          "2023-12-01T00:00:00"
         ],
         "xaxis": "x",
         "y": [
          223,
          212,
          212,
          202,
          212,
          191,
          191,
          185,
          181,
          165,
          164,
          178,
          176,
          168,
          181,
          178,
          167,
          191,
          172,
          175,
          159,
          150,
          177,
          163,
          136,
          130,
          145,
          128,
          154,
          153,
          153,
          166,
          160,
          155,
          245,
          240,
          236,
          237,
          228,
          240,
          220,
          237,
          238,
          222,
          237,
          236,
          241,
          233,
          240,
          222,
          209,
          220,
          200,
          203,
          194,
          181,
          206,
          94,
          200,
          198,
          210,
          217,
          186,
          203,
          213,
          229
         ],
         "yaxis": "y"
        },
        {
         "hovertemplate": "port_name=New York, NY & NJ<br>month=%{x}<br>vessels_avg=%{y}<extra></extra>",
         "legendgroup": "New York, NY & NJ",
         "line": {
          "color": "#00cc96",
          "dash": "solid"
         },
         "marker": {
          "symbol": "circle"
         },
         "mode": "lines",
         "name": "New York, NY & NJ",
         "orientation": "v",
         "showlegend": true,
         "type": "scatter",
         "x": [
          "2018-02-01T00:00:00",
          "2018-03-01T00:00:00",
          "2018-04-01T00:00:00",
          "2018-05-01T00:00:00",
          "2018-06-01T00:00:00",
          "2018-07-01T00:00:00",
          "2018-08-01T00:00:00",
          "2018-09-01T00:00:00",
          "2018-10-01T00:00:00",
          "2019-01-01T00:00:00",
          "2019-02-01T00:00:00",
          "2019-03-01T00:00:00",
          "2019-04-01T00:00:00",
          "2019-05-01T00:00:00",
          "2019-06-01T00:00:00",
          "2019-08-01T00:00:00",
          "2019-09-01T00:00:00",
          "2019-10-01T00:00:00",
          "2019-11-01T00:00:00",
          "2019-12-01T00:00:00",
          "2020-01-01T00:00:00",
          "2020-02-01T00:00:00",
          "2020-03-01T00:00:00",
          "2020-04-01T00:00:00",
          "2020-05-01T00:00:00",
          "2020-06-01T00:00:00",
          "2020-07-01T00:00:00",
          "2020-08-01T00:00:00",
          "2020-09-01T00:00:00",
          "2020-10-01T00:00:00",
          "2020-11-01T00:00:00",
          "2020-12-01T00:00:00",
          "2021-01-01T00:00:00",
          "2021-02-01T00:00:00",
          "2021-04-01T00:00:00",
          "2021-05-01T00:00:00",
          "2021-06-01T00:00:00",
          "2021-08-01T00:00:00",
          "2021-09-01T00:00:00",
          "2021-10-01T00:00:00",
          "2021-11-01T00:00:00",
          "2021-12-01T00:00:00",
          "2022-01-01T00:00:00",
          "2022-02-01T00:00:00",
          "2022-03-01T00:00:00",
          "2022-04-01T00:00:00",
          "2022-05-01T00:00:00",
          "2022-06-01T00:00:00",
          "2022-07-01T00:00:00",
          "2022-08-01T00:00:00",
          "2022-09-01T00:00:00",
          "2022-10-01T00:00:00",
          "2022-11-01T00:00:00",
          "2022-12-01T00:00:00",
          "2023-01-01T00:00:00",
          "2023-02-01T00:00:00",
          "2023-03-01T00:00:00",
          "2023-04-01T00:00:00",
          "2023-05-01T00:00:00",
          "2023-06-01T00:00:00",
          "2023-07-01T00:00:00",
          "2023-08-01T00:00:00",
          "2023-09-01T00:00:00",
          "2023-10-01T00:00:00",
          "2023-11-01T00:00:00",
          "2023-12-01T00:00:00"
         ],
         "xaxis": "x",
         "y": [
          390,
          397,
          387,
          371,
          374,
          408,
          400,
          378,
          373,
          354,
          310,
          341,
          339,
          366,
          365,
          363,
          322,
          329,
          291,
          309,
          283,
          257,
          299,
          290,
          282,
          266,
          259,
          284,
          301,
          303,
          309,
          303,
          280,
          271,
          423,
          448,
          412,
          453,
          444,
          404,
          402,
          398,
          374,
          375,
          405,
          421,
          444,
          455,
          428,
          453,
          420,
          425,
          403,
          410,
          417,
          360,
          382,
          185,
          436,
          427,
          446,
          422,
          418,
          430,
          372,
          461
         ],
         "yaxis": "y"
        },
        {
         "hovertemplate": "port_name=Houston Port Authority, TX<br>month=%{x}<br>vessels_avg=%{y}<extra></extra>",
         "legendgroup": "Houston Port Authority, TX",
         "line": {
          "color": "#ab63fa",
          "dash": "solid"
         },
         "marker": {
          "symbol": "circle"
         },
         "mode": "lines",
         "name": "Houston Port Authority, TX",
         "orientation": "v",
         "showlegend": true,
         "type": "scatter",
         "x": [
          "2018-02-01T00:00:00",
          "2018-03-01T00:00:00",
          "2018-04-01T00:00:00",
          "2018-05-01T00:00:00",
          "2018-06-01T00:00:00",
          "2018-07-01T00:00:00",
          "2018-08-01T00:00:00",
          "2018-09-01T00:00:00",
          "2018-10-01T00:00:00",
          "2019-01-01T00:00:00",
          "2019-02-01T00:00:00",
          "2019-03-01T00:00:00",
          "2019-04-01T00:00:00",
          "2019-05-01T00:00:00",
          "2019-06-01T00:00:00",
          "2019-08-01T00:00:00",
          "2019-09-01T00:00:00",
          "2019-10-01T00:00:00",
          "2019-11-01T00:00:00",
          "2019-12-01T00:00:00",
          "2020-01-01T00:00:00",
          "2020-02-01T00:00:00",
          "2020-03-01T00:00:00",
          "2020-04-01T00:00:00",
          "2020-05-01T00:00:00",
          "2020-06-01T00:00:00",
          "2020-07-01T00:00:00",
          "2020-08-01T00:00:00",
          "2020-09-01T00:00:00",
          "2020-10-01T00:00:00",
          "2020-11-01T00:00:00",
          "2020-12-01T00:00:00",
          "2021-01-01T00:00:00",
          "2021-02-01T00:00:00",
          "2021-04-01T00:00:00",
          "2021-05-01T00:00:00",
          "2021-06-01T00:00:00",
          "2021-08-01T00:00:00",
          "2021-09-01T00:00:00",
          "2021-10-01T00:00:00",
          "2021-11-01T00:00:00",
          "2021-12-01T00:00:00",
          "2022-01-01T00:00:00",
          "2022-02-01T00:00:00",
          "2022-03-01T00:00:00",
          "2022-04-01T00:00:00",
          "2022-05-01T00:00:00",
          "2022-06-01T00:00:00",
          "2022-07-01T00:00:00",
          "2022-08-01T00:00:00",
          "2022-09-01T00:00:00",
          "2022-10-01T00:00:00",
          "2022-11-01T00:00:00",
          "2022-12-01T00:00:00",
          "2023-01-01T00:00:00",
          "2023-02-01T00:00:00",
          "2023-03-01T00:00:00",
          "2023-04-01T00:00:00",
          "2023-05-01T00:00:00",
          "2023-06-01T00:00:00",
          "2023-07-01T00:00:00",
          "2023-08-01T00:00:00",
          "2023-09-01T00:00:00",
          "2023-10-01T00:00:00",
          "2023-11-01T00:00:00",
          "2023-12-01T00:00:00"
         ],
         "xaxis": "x",
         "y": [
          611,
          658,
          605,
          593,
          548,
          580,
          547,
          526,
          513,
          551,
          459,
          526,
          535,
          538,
          505,
          535,
          486,
          503,
          475,
          488,
          476,
          462,
          497,
          458,
          407,
          442,
          416,
          423,
          442,
          453,
          416,
          416,
          402,
          347,
          651,
          600,
          573,
          642,
          589,
          583,
          596,
          612,
          623,
          582,
          645,
          669,
          641,
          635,
          621,
          635,
          613,
          637,
          555,
          601,
          612,
          550,
          641,
          300,
          618,
          615,
          629,
          613,
          606,
          619,
          591,
          654
         ],
         "yaxis": "y"
        },
        {
         "hovertemplate": "port_name=Corpus Christi, TX<br>month=%{x}<br>vessels_avg=%{y}<extra></extra>",
         "legendgroup": "Corpus Christi, TX",
         "line": {
          "color": "#FFA15A",
          "dash": "solid"
         },
         "marker": {
          "symbol": "circle"
         },
         "mode": "lines",
         "name": "Corpus Christi, TX",
         "orientation": "v",
         "showlegend": true,
         "type": "scatter",
         "x": [
          "2018-02-01T00:00:00",
          "2018-03-01T00:00:00",
          "2018-04-01T00:00:00",
          "2018-05-01T00:00:00",
          "2018-06-01T00:00:00",
          "2018-07-01T00:00:00",
          "2018-08-01T00:00:00",
          "2018-09-01T00:00:00",
          "2018-10-01T00:00:00",
          "2019-01-01T00:00:00",
          "2019-02-01T00:00:00",
          "2019-03-01T00:00:00",
          "2019-04-01T00:00:00",
          "2019-05-01T00:00:00",
          "2019-06-01T00:00:00",
          "2019-08-01T00:00:00",
          "2019-09-01T00:00:00",
          "2019-10-01T00:00:00",
          "2019-11-01T00:00:00",
          "2019-12-01T00:00:00",
          "2020-01-01T00:00:00",
          "2020-02-01T00:00:00",
          "2020-03-01T00:00:00",
          "2020-04-01T00:00:00",
          "2020-05-01T00:00:00",
          "2020-06-01T00:00:00",
          "2020-07-01T00:00:00",
          "2020-08-01T00:00:00",
          "2020-09-01T00:00:00",
          "2020-10-01T00:00:00",
          "2020-11-01T00:00:00",
          "2020-12-01T00:00:00",
          "2021-01-01T00:00:00",
          "2021-02-01T00:00:00",
          "2021-04-01T00:00:00",
          "2021-05-01T00:00:00",
          "2021-06-01T00:00:00",
          "2021-08-01T00:00:00",
          "2021-09-01T00:00:00",
          "2021-10-01T00:00:00",
          "2021-11-01T00:00:00",
          "2021-12-01T00:00:00",
          "2022-01-01T00:00:00",
          "2022-02-01T00:00:00",
          "2022-03-01T00:00:00",
          "2022-04-01T00:00:00",
          "2022-05-01T00:00:00",
          "2022-06-01T00:00:00",
          "2022-07-01T00:00:00",
          "2022-08-01T00:00:00",
          "2022-09-01T00:00:00",
          "2022-10-01T00:00:00",
          "2022-11-01T00:00:00",
          "2022-12-01T00:00:00",
          "2023-01-01T00:00:00",
          "2023-02-01T00:00:00",
          "2023-03-01T00:00:00",
          "2023-04-01T00:00:00",
          "2023-05-01T00:00:00",
          "2023-06-01T00:00:00",
          "2023-07-01T00:00:00",
          "2023-08-01T00:00:00",
          "2023-09-01T00:00:00",
          "2023-10-01T00:00:00",
          "2023-11-01T00:00:00",
          "2023-12-01T00:00:00"
         ],
         "xaxis": "x",
         "y": [
          168,
          183,
          181,
          165,
          144,
          157,
          173,
          167,
          171,
          179,
          133,
          139,
          169,
          178,
          157,
          177,
          158,
          190,
          184,
          193,
          167,
          175,
          173,
          181,
          154,
          148,
          149,
          162,
          146,
          147,
          142,
          167,
          155,
          113,
          249,
          246,
          226,
          239,
          240,
          232,
          249,
          253,
          262,
          207,
          255,
          236,
          251,
          252,
          242,
          261,
          237,
          291,
          250,
          243,
          266,
          247,
          288,
          127,
          252,
          256,
          242,
          262,
          241,
          256,
          247,
          272
         ],
         "yaxis": "y"
        }
       ],
       "layout": {
        "height": 500,
        "legend": {
         "title": {
          "text": "port_name"
         },
         "tracegroupgap": 0
        },
        "template": {
         "data": {
          "bar": [
           {
            "error_x": {
             "color": "#2a3f5f"
            },
            "error_y": {
             "color": "#2a3f5f"
            },
            "marker": {
             "line": {
              "color": "#E5ECF6",
              "width": 0.5
             },
             "pattern": {
              "fillmode": "overlay",
              "size": 10,
              "solidity": 0.2
             }
            },
            "type": "bar"
           }
          ],
          "barpolar": [
           {
            "marker": {
             "line": {
              "color": "#E5ECF6",
              "width": 0.5
             },
             "pattern": {
              "fillmode": "overlay",
              "size": 10,
              "solidity": 0.2
             }
            },
            "type": "barpolar"
           }
          ],
          "carpet": [
           {
            "aaxis": {
             "endlinecolor": "#2a3f5f",
             "gridcolor": "white",
             "linecolor": "white",
             "minorgridcolor": "white",
             "startlinecolor": "#2a3f5f"
            },
            "baxis": {
             "endlinecolor": "#2a3f5f",
             "gridcolor": "white",
             "linecolor": "white",
             "minorgridcolor": "white",
             "startlinecolor": "#2a3f5f"
            },
            "type": "carpet"
           }
          ],
          "choropleth": [
           {
            "colorbar": {
             "outlinewidth": 0,
             "ticks": ""
            },
            "type": "choropleth"
           }
          ],
          "contour": [
           {
            "colorbar": {
             "outlinewidth": 0,
             "ticks": ""
            },
            "colorscale": [
             [
              0,
              "#0d0887"
             ],
             [
              0.1111111111111111,
              "#46039f"
             ],
             [
              0.2222222222222222,
              "#7201a8"
             ],
             [
              0.3333333333333333,
              "#9c179e"
             ],
             [
              0.4444444444444444,
              "#bd3786"
             ],
             [
              0.5555555555555556,
              "#d8576b"
             ],
             [
              0.6666666666666666,
              "#ed7953"
             ],
             [
              0.7777777777777778,
              "#fb9f3a"
             ],
             [
              0.8888888888888888,
              "#fdca26"
             ],
             [
              1,
              "#f0f921"
             ]
            ],
            "type": "contour"
           }
          ],
          "contourcarpet": [
           {
            "colorbar": {
             "outlinewidth": 0,
             "ticks": ""
            },
            "type": "contourcarpet"
           }
          ],
          "heatmap": [
           {
            "colorbar": {
             "outlinewidth": 0,
             "ticks": ""
            },
            "colorscale": [
             [
              0,
              "#0d0887"
             ],
             [
              0.1111111111111111,
              "#46039f"
             ],
             [
              0.2222222222222222,
              "#7201a8"
             ],
             [
              0.3333333333333333,
              "#9c179e"
             ],
             [
              0.4444444444444444,
              "#bd3786"
             ],
             [
              0.5555555555555556,
              "#d8576b"
             ],
             [
              0.6666666666666666,
              "#ed7953"
             ],
             [
              0.7777777777777778,
              "#fb9f3a"
             ],
             [
              0.8888888888888888,
              "#fdca26"
             ],
             [
              1,
              "#f0f921"
             ]
            ],
            "type": "heatmap"
           }
          ],
          "heatmapgl": [
           {
            "colorbar": {
             "outlinewidth": 0,
             "ticks": ""
            },
            "colorscale": [
             [
              0,
              "#0d0887"
             ],
             [
              0.1111111111111111,
              "#46039f"
             ],
             [
              0.2222222222222222,
              "#7201a8"
             ],
             [
              0.3333333333333333,
              "#9c179e"
             ],
             [
              0.4444444444444444,
              "#bd3786"
             ],
             [
              0.5555555555555556,
              "#d8576b"
             ],
             [
              0.6666666666666666,
              "#ed7953"
             ],
             [
              0.7777777777777778,
              "#fb9f3a"
             ],
             [
              0.8888888888888888,
              "#fdca26"
             ],
             [
              1,
              "#f0f921"
             ]
            ],
            "type": "heatmapgl"
           }
          ],
          "histogram": [
           {
            "marker": {
             "pattern": {
              "fillmode": "overlay",
              "size": 10,
              "solidity": 0.2
             }
            },
            "type": "histogram"
           }
          ],
          "histogram2d": [
           {
            "colorbar": {
             "outlinewidth": 0,
             "ticks": ""
            },
            "colorscale": [
             [
              0,
              "#0d0887"
             ],
             [
              0.1111111111111111,
              "#46039f"
             ],
             [
              0.2222222222222222,
              "#7201a8"
             ],
             [
              0.3333333333333333,
              "#9c179e"
             ],
             [
              0.4444444444444444,
              "#bd3786"
             ],
             [
              0.5555555555555556,
              "#d8576b"
             ],
             [
              0.6666666666666666,
              "#ed7953"
             ],
             [
              0.7777777777777778,
              "#fb9f3a"
             ],
             [
              0.8888888888888888,
              "#fdca26"
             ],
             [
              1,
              "#f0f921"
             ]
            ],
            "type": "histogram2d"
           }
          ],
          "histogram2dcontour": [
           {
            "colorbar": {
             "outlinewidth": 0,
             "ticks": ""
            },
            "colorscale": [
             [
              0,
              "#0d0887"
             ],
             [
              0.1111111111111111,
              "#46039f"
             ],
             [
              0.2222222222222222,
              "#7201a8"
             ],
             [
              0.3333333333333333,
              "#9c179e"
             ],
             [
              0.4444444444444444,
              "#bd3786"
             ],
             [
              0.5555555555555556,
              "#d8576b"
             ],
             [
              0.6666666666666666,
              "#ed7953"
             ],
             [
              0.7777777777777778,
              "#fb9f3a"
             ],
             [
              0.8888888888888888,
              "#fdca26"
             ],
             [
              1,
              "#f0f921"
             ]
            ],
            "type": "histogram2dcontour"
           }
          ],
          "mesh3d": [
           {
            "colorbar": {
             "outlinewidth": 0,
             "ticks": ""
            },
            "type": "mesh3d"
           }
          ],
          "parcoords": [
           {
            "line": {
             "colorbar": {
              "outlinewidth": 0,
              "ticks": ""
             }
            },
            "type": "parcoords"
           }
          ],
          "pie": [
           {
            "automargin": true,
            "type": "pie"
           }
          ],
          "scatter": [
           {
            "fillpattern": {
             "fillmode": "overlay",
             "size": 10,
             "solidity": 0.2
            },
            "type": "scatter"
           }
          ],
          "scatter3d": [
           {
            "line": {
             "colorbar": {
              "outlinewidth": 0,
              "ticks": ""
             }
            },
            "marker": {
             "colorbar": {
              "outlinewidth": 0,
              "ticks": ""
             }
            },
            "type": "scatter3d"
           }
          ],
          "scattercarpet": [
           {
            "marker": {
             "colorbar": {
              "outlinewidth": 0,
              "ticks": ""
             }
            },
            "type": "scattercarpet"
           }
          ],
          "scattergeo": [
           {
            "marker": {
             "colorbar": {
              "outlinewidth": 0,
              "ticks": ""
             }
            },
            "type": "scattergeo"
           }
          ],
          "scattergl": [
           {
            "marker": {
             "colorbar": {
              "outlinewidth": 0,
              "ticks": ""
             }
            },
            "type": "scattergl"
           }
          ],
          "scattermapbox": [
           {
            "marker": {
             "colorbar": {
              "outlinewidth": 0,
              "ticks": ""
             }
            },
            "type": "scattermapbox"
           }
          ],
          "scatterpolar": [
           {
            "marker": {
             "colorbar": {
              "outlinewidth": 0,
              "ticks": ""
             }
            },
            "type": "scatterpolar"
           }
          ],
          "scatterpolargl": [
           {
            "marker": {
             "colorbar": {
              "outlinewidth": 0,
              "ticks": ""
             }
            },
            "type": "scatterpolargl"
           }
          ],
          "scatterternary": [
           {
            "marker": {
             "colorbar": {
              "outlinewidth": 0,
              "ticks": ""
             }
            },
            "type": "scatterternary"
           }
          ],
          "surface": [
           {
            "colorbar": {
             "outlinewidth": 0,
             "ticks": ""
            },
            "colorscale": [
             [
              0,
              "#0d0887"
             ],
             [
              0.1111111111111111,
              "#46039f"
             ],
             [
              0.2222222222222222,
              "#7201a8"
             ],
             [
              0.3333333333333333,
              "#9c179e"
             ],
             [
              0.4444444444444444,
              "#bd3786"
             ],
             [
              0.5555555555555556,
              "#d8576b"
             ],
             [
              0.6666666666666666,
              "#ed7953"
             ],
             [
              0.7777777777777778,
              "#fb9f3a"
             ],
             [
              0.8888888888888888,
              "#fdca26"
             ],
             [
              1,
              "#f0f921"
             ]
            ],
            "type": "surface"
           }
          ],
          "table": [
           {
            "cells": {
             "fill": {
              "color": "#EBF0F8"
             },
             "line": {
              "color": "white"
             }
            },
            "header": {
             "fill": {
              "color": "#C8D4E3"
             },
             "line": {
              "color": "white"
             }
            },
            "type": "table"
           }
          ]
         },
         "layout": {
          "annotationdefaults": {
           "arrowcolor": "#2a3f5f",
           "arrowhead": 0,
           "arrowwidth": 1
          },
          "autotypenumbers": "strict",
          "coloraxis": {
           "colorbar": {
            "outlinewidth": 0,
            "ticks": ""
           }
          },
          "colorscale": {
           "diverging": [
            [
             0,
             "#8e0152"
            ],
            [
             0.1,
             "#c51b7d"
            ],
            [
             0.2,
             "#de77ae"
            ],
            [
             0.3,
             "#f1b6da"
            ],
            [
             0.4,
             "#fde0ef"
            ],
            [
             0.5,
             "#f7f7f7"
            ],
            [
             0.6,
             "#e6f5d0"
            ],
            [
             0.7,
             "#b8e186"
            ],
            [
             0.8,
             "#7fbc41"
            ],
            [
             0.9,
             "#4d9221"
            ],
            [
             1,
             "#276419"
            ]
           ],
           "sequential": [
            [
             0,
             "#0d0887"
            ],
            [
             0.1111111111111111,
             "#46039f"
            ],
            [
             0.2222222222222222,
             "#7201a8"
            ],
            [
             0.3333333333333333,
             "#9c179e"
            ],
            [
             0.4444444444444444,
             "#bd3786"
            ],
            [
             0.5555555555555556,
             "#d8576b"
            ],
            [
             0.6666666666666666,
             "#ed7953"
            ],
            [
             0.7777777777777778,
             "#fb9f3a"
            ],
            [
             0.8888888888888888,
             "#fdca26"
            ],
            [
             1,
             "#f0f921"
            ]
           ],
           "sequentialminus": [
            [
             0,
             "#0d0887"
            ],
            [
             0.1111111111111111,
             "#46039f"
            ],
            [
             0.2222222222222222,
             "#7201a8"
            ],
            [
             0.3333333333333333,
             "#9c179e"
            ],
            [
             0.4444444444444444,
             "#bd3786"
            ],
            [
             0.5555555555555556,
             "#d8576b"
            ],
            [
             0.6666666666666666,
             "#ed7953"
            ],
            [
             0.7777777777777778,
             "#fb9f3a"
            ],
            [
             0.8888888888888888,
             "#fdca26"
            ],
            [
             1,
             "#f0f921"
            ]
           ]
          },
          "colorway": [
           "#636efa",
           "#EF553B",
           "#00cc96",
           "#ab63fa",
           "#FFA15A",
           "#19d3f3",
           "#FF6692",
           "#B6E880",
           "#FF97FF",
           "#FECB52"
          ],
          "font": {
           "color": "#2a3f5f"
          },
          "geo": {
           "bgcolor": "white",
           "lakecolor": "white",
           "landcolor": "#E5ECF6",
           "showlakes": true,
           "showland": true,
           "subunitcolor": "white"
          },
          "hoverlabel": {
           "align": "left"
          },
          "hovermode": "closest",
          "mapbox": {
           "style": "light"
          },
          "paper_bgcolor": "white",
          "plot_bgcolor": "#E5ECF6",
          "polar": {
           "angularaxis": {
            "gridcolor": "white",
            "linecolor": "white",
            "ticks": ""
           },
           "bgcolor": "#E5ECF6",
           "radialaxis": {
            "gridcolor": "white",
            "linecolor": "white",
            "ticks": ""
           }
          },
          "scene": {
           "xaxis": {
            "backgroundcolor": "#E5ECF6",
            "gridcolor": "white",
            "gridwidth": 2,
            "linecolor": "white",
            "showbackground": true,
            "ticks": "",
            "zerolinecolor": "white"
           },
           "yaxis": {
            "backgroundcolor": "#E5ECF6",
            "gridcolor": "white",
            "gridwidth": 2,
            "linecolor": "white",
            "showbackground": true,
            "ticks": "",
            "zerolinecolor": "white"
           },
           "zaxis": {
            "backgroundcolor": "#E5ECF6",
            "gridcolor": "white",
            "gridwidth": 2,
            "linecolor": "white",
            "showbackground": true,
            "ticks": "",
            "zerolinecolor": "white"
           }
          },
          "shapedefaults": {
           "line": {
            "color": "#2a3f5f"
           }
          },
          "ternary": {
           "aaxis": {
            "gridcolor": "white",
            "linecolor": "white",
            "ticks": ""
           },
           "baxis": {
            "gridcolor": "white",
            "linecolor": "white",
            "ticks": ""
           },
           "bgcolor": "#E5ECF6",
           "caxis": {
            "gridcolor": "white",
            "linecolor": "white",
            "ticks": ""
           }
          },
          "title": {
           "x": 0.05
          },
          "xaxis": {
           "automargin": true,
           "gridcolor": "white",
           "linecolor": "white",
           "ticks": "",
           "title": {
            "standoff": 15
           },
           "zerolinecolor": "white",
           "zerolinewidth": 2
          },
          "yaxis": {
           "automargin": true,
           "gridcolor": "white",
           "linecolor": "white",
           "ticks": "",
           "title": {
            "standoff": 15
           },
           "zerolinecolor": "white",
           "zerolinewidth": 2
          }
         }
        },
        "title": {
         "text": "Average Vessels per month at Principal Ports"
        },
        "width": 1000,
        "xaxis": {
         "anchor": "y",
         "domain": [
          0,
          1
         ],
         "title": {
          "text": "month"
         }
        },
        "yaxis": {
         "anchor": "x",
         "domain": [
          0,
          1
         ],
         "title": {
          "text": "vessels_avg"
         }
        }
       }
      }
     },
     "metadata": {},
     "output_type": "display_data"
    }
   ],
   "source": [
    "px.line(\n",
    "    monthly_df\n",
    "    #restrict to top 5 ports\n",
    "    .filter(pl.col('port_name').is_in(top5ports))\n",
    "    #month in dt format\n",
    "    .with_columns(pl.col('month').str.strptime(pl.Date, format='%Y%m'))\n",
    "    .sort(by='month'), \n",
    "    #plot specs\n",
    "    x='month', y='vessels_avg', color='port_name',\n",
    "    title='Average Vessels per month at Principal Ports',\n",
    "    width=1000,\n",
    "    height=500 \n",
    ")"
   ]
  },
  {
   "cell_type": "code",
   "execution_count": 14,
   "metadata": {},
   "outputs": [
    {
     "data": {
      "application/vnd.plotly.v1+json": {
       "config": {
        "plotlyServerURL": "https://plot.ly"
       },
       "data": [
        {
         "hovertemplate": "port_name=South Louisiana, LA, Port of<br>month=%{x}<br>time_at_anchor_avg=%{y}<extra></extra>",
         "legendgroup": "South Louisiana, LA, Port of",
         "line": {
          "color": "#636efa",
          "dash": "solid"
         },
         "marker": {
          "symbol": "circle"
         },
         "mode": "lines",
         "name": "South Louisiana, LA, Port of",
         "orientation": "v",
         "showlegend": true,
         "type": "scatter",
         "x": [
          "2018-02-01T00:00:00",
          "2018-03-01T00:00:00",
          "2018-04-01T00:00:00",
          "2018-05-01T00:00:00",
          "2018-06-01T00:00:00",
          "2018-07-01T00:00:00",
          "2018-08-01T00:00:00",
          "2018-09-01T00:00:00",
          "2018-10-01T00:00:00",
          "2019-01-01T00:00:00",
          "2019-02-01T00:00:00",
          "2019-03-01T00:00:00",
          "2019-04-01T00:00:00",
          "2019-05-01T00:00:00",
          "2019-06-01T00:00:00",
          "2019-08-01T00:00:00",
          "2019-09-01T00:00:00",
          "2019-10-01T00:00:00",
          "2019-11-01T00:00:00",
          "2019-12-01T00:00:00",
          "2020-01-01T00:00:00",
          "2020-02-01T00:00:00",
          "2020-03-01T00:00:00",
          "2020-04-01T00:00:00",
          "2020-05-01T00:00:00",
          "2020-06-01T00:00:00",
          "2020-07-01T00:00:00",
          "2020-08-01T00:00:00",
          "2020-09-01T00:00:00",
          "2020-10-01T00:00:00",
          "2020-11-01T00:00:00",
          "2020-12-01T00:00:00",
          "2021-01-01T00:00:00",
          "2021-02-01T00:00:00",
          "2021-04-01T00:00:00",
          "2021-05-01T00:00:00",
          "2021-06-01T00:00:00",
          "2021-08-01T00:00:00",
          "2021-09-01T00:00:00",
          "2021-10-01T00:00:00",
          "2021-11-01T00:00:00",
          "2021-12-01T00:00:00",
          "2022-01-01T00:00:00",
          "2022-02-01T00:00:00",
          "2022-03-01T00:00:00",
          "2022-04-01T00:00:00",
          "2022-05-01T00:00:00",
          "2022-06-01T00:00:00",
          "2022-07-01T00:00:00",
          "2022-08-01T00:00:00",
          "2022-09-01T00:00:00",
          "2022-10-01T00:00:00",
          "2022-11-01T00:00:00",
          "2022-12-01T00:00:00",
          "2023-01-01T00:00:00",
          "2023-02-01T00:00:00",
          "2023-03-01T00:00:00",
          "2023-04-01T00:00:00",
          "2023-05-01T00:00:00",
          "2023-06-01T00:00:00",
          "2023-07-01T00:00:00",
          "2023-08-01T00:00:00",
          "2023-09-01T00:00:00",
          "2023-10-01T00:00:00",
          "2023-11-01T00:00:00",
          "2023-12-01T00:00:00"
         ],
         "xaxis": "x",
         "y": [
          30.433333333333334,
          23.35,
          31.016666666666666,
          28.716666666666665,
          29.933333333333334,
          34.13333333333333,
          24.2,
          28,
          35,
          35.56666666666666,
          43.666666666666664,
          40.86666666666667,
          31.758333333333333,
          27.766666666666666,
          23.866666666666667,
          23.3,
          2.6666666666666665,
          22.791666666666668,
          27.974999999999998,
          14.775,
          25.25,
          23.15,
          22.85,
          17.066666666666666,
          6.966666666666667,
          9.641666666666666,
          14.975,
          8.116666666666667,
          14.716666666666667,
          7.658333333333333,
          14.316666666666666,
          33.708333333333336,
          28.083333333333332,
          24.308333333333334,
          33.05833333333333,
          26.716666666666665,
          29.883333333333333,
          38.31666666666666,
          20.516666666666666,
          24.558333333333334,
          41.041666666666664,
          27.816666666666666,
          32.641666666666666,
          27.983333333333334,
          25.508333333333333,
          5.316666666666666,
          17.066666666666666,
          30.141666666666666,
          34.43333333333333,
          27.666666666666668,
          34.55,
          32.11666666666667,
          38.891666666666666,
          28.466666666666665,
          35.333333333333336,
          20.841666666666665,
          24.35,
          154.05833333333334,
          34.641666666666666,
          19.03333333333333,
          24.15,
          30.566666666666666,
          37.34166666666667,
          30.775,
          26.241666666666667,
          27.333333333333332
         ],
         "yaxis": "y"
        },
        {
         "hovertemplate": "port_name=Port of Long Beach, CA<br>month=%{x}<br>time_at_anchor_avg=%{y}<extra></extra>",
         "legendgroup": "Port of Long Beach, CA",
         "line": {
          "color": "#EF553B",
          "dash": "solid"
         },
         "marker": {
          "symbol": "circle"
         },
         "mode": "lines",
         "name": "Port of Long Beach, CA",
         "orientation": "v",
         "showlegend": true,
         "type": "scatter",
         "x": [
          "2018-02-01T00:00:00",
          "2018-03-01T00:00:00",
          "2018-04-01T00:00:00",
          "2018-05-01T00:00:00",
          "2018-06-01T00:00:00",
          "2018-07-01T00:00:00",
          "2018-08-01T00:00:00",
          "2018-09-01T00:00:00",
          "2018-10-01T00:00:00",
          "2019-01-01T00:00:00",
          "2019-02-01T00:00:00",
          "2019-03-01T00:00:00",
          "2019-04-01T00:00:00",
          "2019-05-01T00:00:00",
          "2019-06-01T00:00:00",
          "2019-08-01T00:00:00",
          "2019-09-01T00:00:00",
          "2019-10-01T00:00:00",
          "2019-11-01T00:00:00",
          "2019-12-01T00:00:00",
          "2020-01-01T00:00:00",
          "2020-02-01T00:00:00",
          "2020-03-01T00:00:00",
          "2020-04-01T00:00:00",
          "2020-05-01T00:00:00",
          "2020-06-01T00:00:00",
          "2020-07-01T00:00:00",
          "2020-08-01T00:00:00",
          "2020-09-01T00:00:00",
          "2020-10-01T00:00:00",
          "2020-11-01T00:00:00",
          "2020-12-01T00:00:00",
          "2021-01-01T00:00:00",
          "2021-02-01T00:00:00",
          "2021-04-01T00:00:00",
          "2021-05-01T00:00:00",
          "2021-06-01T00:00:00",
          "2021-08-01T00:00:00",
          "2021-09-01T00:00:00",
          "2021-10-01T00:00:00",
          "2021-11-01T00:00:00",
          "2021-12-01T00:00:00",
          "2022-01-01T00:00:00",
          "2022-02-01T00:00:00",
          "2022-03-01T00:00:00",
          "2022-04-01T00:00:00",
          "2022-05-01T00:00:00",
          "2022-06-01T00:00:00",
          "2022-07-01T00:00:00",
          "2022-08-01T00:00:00",
          "2022-09-01T00:00:00",
          "2022-10-01T00:00:00",
          "2022-11-01T00:00:00",
          "2022-12-01T00:00:00",
          "2023-01-01T00:00:00",
          "2023-02-01T00:00:00",
          "2023-03-01T00:00:00",
          "2023-04-01T00:00:00",
          "2023-05-01T00:00:00",
          "2023-06-01T00:00:00",
          "2023-07-01T00:00:00",
          "2023-08-01T00:00:00",
          "2023-09-01T00:00:00",
          "2023-10-01T00:00:00",
          "2023-11-01T00:00:00",
          "2023-12-01T00:00:00"
         ],
         "xaxis": "x",
         "y": [
          37.875,
          28.958333333333332,
          34.46666666666667,
          45.61666666666667,
          33.21666666666667,
          34.43333333333333,
          24.191666666666666,
          25.525,
          25.566666666666666,
          36.71666666666667,
          28.099999999999998,
          24.8,
          27.383333333333333,
          39.458333333333336,
          32.43333333333333,
          23.75,
          32.80833333333333,
          40.916666666666664,
          24.066666666666666,
          32.78333333333333,
          51.016666666666666,
          29.25,
          27.716666666666665,
          87.93333333333334,
          22.016666666666666,
          11.683333333333334,
          1.375,
          0.2,
          1.0666666666666667,
          13.816666666666666,
          3.033333333333333,
          0.425,
          3.283333333333333,
          0.7666666666666666,
          1.6666666666666667,
          0.7333333333333333,
          0.26666666666666666,
          3.85,
          0.475,
          2.1,
          0.5666666666666667,
          4.516666666666667,
          0.7333333333333333,
          1.8666666666666667,
          2.1166666666666667,
          1.9666666666666666,
          1.4,
          3.4499999999999997,
          2.033333333333333,
          0.725,
          0.5833333333333334,
          0.31666666666666665,
          2.7333333333333334,
          17.566666666666666,
          2.7583333333333333,
          0.18333333333333332,
          2.7666666666666666,
          144.95,
          3.3,
          12.775,
          0.4166666666666667,
          18.175,
          0.35,
          16.966666666666665,
          23.566666666666666,
          30.683333333333334
         ],
         "yaxis": "y"
        },
        {
         "hovertemplate": "port_name=New York, NY & NJ<br>month=%{x}<br>time_at_anchor_avg=%{y}<extra></extra>",
         "legendgroup": "New York, NY & NJ",
         "line": {
          "color": "#00cc96",
          "dash": "solid"
         },
         "marker": {
          "symbol": "circle"
         },
         "mode": "lines",
         "name": "New York, NY & NJ",
         "orientation": "v",
         "showlegend": true,
         "type": "scatter",
         "x": [
          "2018-02-01T00:00:00",
          "2018-03-01T00:00:00",
          "2018-04-01T00:00:00",
          "2018-05-01T00:00:00",
          "2018-06-01T00:00:00",
          "2018-07-01T00:00:00",
          "2018-08-01T00:00:00",
          "2018-09-01T00:00:00",
          "2018-10-01T00:00:00",
          "2019-01-01T00:00:00",
          "2019-02-01T00:00:00",
          "2019-03-01T00:00:00",
          "2019-04-01T00:00:00",
          "2019-05-01T00:00:00",
          "2019-06-01T00:00:00",
          "2019-08-01T00:00:00",
          "2019-09-01T00:00:00",
          "2019-10-01T00:00:00",
          "2019-11-01T00:00:00",
          "2019-12-01T00:00:00",
          "2020-01-01T00:00:00",
          "2020-02-01T00:00:00",
          "2020-03-01T00:00:00",
          "2020-04-01T00:00:00",
          "2020-05-01T00:00:00",
          "2020-06-01T00:00:00",
          "2020-07-01T00:00:00",
          "2020-08-01T00:00:00",
          "2020-09-01T00:00:00",
          "2020-10-01T00:00:00",
          "2020-11-01T00:00:00",
          "2020-12-01T00:00:00",
          "2021-01-01T00:00:00",
          "2021-02-01T00:00:00",
          "2021-04-01T00:00:00",
          "2021-05-01T00:00:00",
          "2021-06-01T00:00:00",
          "2021-08-01T00:00:00",
          "2021-09-01T00:00:00",
          "2021-10-01T00:00:00",
          "2021-11-01T00:00:00",
          "2021-12-01T00:00:00",
          "2022-01-01T00:00:00",
          "2022-02-01T00:00:00",
          "2022-03-01T00:00:00",
          "2022-04-01T00:00:00",
          "2022-05-01T00:00:00",
          "2022-06-01T00:00:00",
          "2022-07-01T00:00:00",
          "2022-08-01T00:00:00",
          "2022-09-01T00:00:00",
          "2022-10-01T00:00:00",
          "2022-11-01T00:00:00",
          "2022-12-01T00:00:00",
          "2023-01-01T00:00:00",
          "2023-02-01T00:00:00",
          "2023-03-01T00:00:00",
          "2023-04-01T00:00:00",
          "2023-05-01T00:00:00",
          "2023-06-01T00:00:00",
          "2023-07-01T00:00:00",
          "2023-08-01T00:00:00",
          "2023-09-01T00:00:00",
          "2023-10-01T00:00:00",
          "2023-11-01T00:00:00",
          "2023-12-01T00:00:00"
         ],
         "xaxis": "x",
         "y": [
          12.95,
          18.458333333333332,
          16.725,
          12.316666666666666,
          13.299999999999999,
          19.65833333333333,
          18.416666666666668,
          25.35,
          15.833333333333334,
          20.816666666666666,
          16,
          17.491666666666667,
          16.525,
          18.575,
          20.625,
          8.583333333333334,
          1.2666666666666666,
          0.25,
          11.966666666666667,
          15.35,
          14.133333333333333,
          13.983333333333333,
          14.833333333333334,
          16.416666666666668,
          21.808333333333334,
          13.783333333333333,
          9.083333333333334,
          14.516666666666666,
          7.641666666666667,
          11.708333333333334,
          11.75,
          15.416666666666666,
          18.366666666666667,
          10.416666666666666,
          16.40833333333333,
          13.566666666666666,
          18.1,
          17.1,
          11.375,
          15.25,
          13.924999999999999,
          20.416666666666668,
          19.816666666666666,
          23.525,
          26.775,
          18.358333333333334,
          20.05,
          27.616666666666667,
          0.016666666666666666,
          13.4,
          24.75,
          19.966666666666665,
          14.075,
          15.5,
          19.025,
          16.691666666666666,
          9.016666666666666,
          10.966666666666667,
          14.9,
          14.525,
          13.808333333333334,
          15.95,
          18.816666666666666,
          11.841666666666667,
          13.166666666666666,
          14.391666666666666
         ],
         "yaxis": "y"
        },
        {
         "hovertemplate": "port_name=Houston Port Authority, TX<br>month=%{x}<br>time_at_anchor_avg=%{y}<extra></extra>",
         "legendgroup": "Houston Port Authority, TX",
         "line": {
          "color": "#ab63fa",
          "dash": "solid"
         },
         "marker": {
          "symbol": "circle"
         },
         "mode": "lines",
         "name": "Houston Port Authority, TX",
         "orientation": "v",
         "showlegend": true,
         "type": "scatter",
         "x": [
          "2018-02-01T00:00:00",
          "2018-03-01T00:00:00",
          "2018-04-01T00:00:00",
          "2018-05-01T00:00:00",
          "2018-06-01T00:00:00",
          "2018-07-01T00:00:00",
          "2018-08-01T00:00:00",
          "2018-09-01T00:00:00",
          "2018-10-01T00:00:00",
          "2019-01-01T00:00:00",
          "2019-02-01T00:00:00",
          "2019-03-01T00:00:00",
          "2019-04-01T00:00:00",
          "2019-05-01T00:00:00",
          "2019-06-01T00:00:00",
          "2019-08-01T00:00:00",
          "2019-09-01T00:00:00",
          "2019-10-01T00:00:00",
          "2019-11-01T00:00:00",
          "2019-12-01T00:00:00",
          "2020-01-01T00:00:00",
          "2020-02-01T00:00:00",
          "2020-03-01T00:00:00",
          "2020-04-01T00:00:00",
          "2020-05-01T00:00:00",
          "2020-06-01T00:00:00",
          "2020-07-01T00:00:00",
          "2020-08-01T00:00:00",
          "2020-09-01T00:00:00",
          "2020-10-01T00:00:00",
          "2020-11-01T00:00:00",
          "2020-12-01T00:00:00",
          "2021-01-01T00:00:00",
          "2021-02-01T00:00:00",
          "2021-04-01T00:00:00",
          "2021-05-01T00:00:00",
          "2021-06-01T00:00:00",
          "2021-08-01T00:00:00",
          "2021-09-01T00:00:00",
          "2021-10-01T00:00:00",
          "2021-11-01T00:00:00",
          "2021-12-01T00:00:00",
          "2022-01-01T00:00:00",
          "2022-02-01T00:00:00",
          "2022-03-01T00:00:00",
          "2022-04-01T00:00:00",
          "2022-05-01T00:00:00",
          "2022-06-01T00:00:00",
          "2022-07-01T00:00:00",
          "2022-08-01T00:00:00",
          "2022-09-01T00:00:00",
          "2022-10-01T00:00:00",
          "2022-11-01T00:00:00",
          "2022-12-01T00:00:00",
          "2023-01-01T00:00:00",
          "2023-02-01T00:00:00",
          "2023-03-01T00:00:00",
          "2023-04-01T00:00:00",
          "2023-05-01T00:00:00",
          "2023-06-01T00:00:00",
          "2023-07-01T00:00:00",
          "2023-08-01T00:00:00",
          "2023-09-01T00:00:00",
          "2023-10-01T00:00:00",
          "2023-11-01T00:00:00",
          "2023-12-01T00:00:00"
         ],
         "xaxis": "x",
         "y": [
          41.583333333333336,
          31.133333333333333,
          28.733333333333334,
          31.516666666666666,
          22.55,
          29.75,
          26.675,
          27.03333333333333,
          22.566666666666666,
          23.85,
          42.55,
          49.81666666666666,
          50.483333333333334,
          2.3833333333333333,
          34.108333333333334,
          27.558333333333334,
          28.8,
          28.45,
          24.25,
          28.058333333333334,
          26.275,
          38.925,
          33.05833333333333,
          26.8,
          24.833333333333332,
          21.508333333333333,
          26.166666666666668,
          30.366666666666667,
          30.53333333333333,
          26.7,
          25.45,
          24.53333333333333,
          26.108333333333334,
          27.266666666666666,
          26.03333333333333,
          26.5,
          25.816666666666666,
          26.875,
          26.583333333333332,
          25.7,
          22.516666666666666,
          13.683333333333334,
          14.816666666666666,
          29.433333333333334,
          18.95,
          25.625,
          24.966666666666665,
          11.95,
          28.841666666666665,
          18.9,
          23.516666666666666,
          26.883333333333333,
          22.833333333333332,
          10.2,
          27.616666666666667,
          27.016666666666666,
          30.466666666666665,
          167.93333333333334,
          14.6,
          26.216666666666665,
          24.416666666666668,
          25.066666666666666,
          18.466666666666665,
          16.825,
          12.583333333333334,
          24.28333333333333
         ],
         "yaxis": "y"
        },
        {
         "hovertemplate": "port_name=Corpus Christi, TX<br>month=%{x}<br>time_at_anchor_avg=%{y}<extra></extra>",
         "legendgroup": "Corpus Christi, TX",
         "line": {
          "color": "#FFA15A",
          "dash": "solid"
         },
         "marker": {
          "symbol": "circle"
         },
         "mode": "lines",
         "name": "Corpus Christi, TX",
         "orientation": "v",
         "showlegend": true,
         "type": "scatter",
         "x": [
          "2018-02-01T00:00:00",
          "2018-03-01T00:00:00",
          "2018-04-01T00:00:00",
          "2018-05-01T00:00:00",
          "2018-06-01T00:00:00",
          "2018-07-01T00:00:00",
          "2018-08-01T00:00:00",
          "2018-09-01T00:00:00",
          "2018-10-01T00:00:00",
          "2019-01-01T00:00:00",
          "2019-02-01T00:00:00",
          "2019-03-01T00:00:00",
          "2019-04-01T00:00:00",
          "2019-05-01T00:00:00",
          "2019-06-01T00:00:00",
          "2019-08-01T00:00:00",
          "2019-09-01T00:00:00",
          "2019-10-01T00:00:00",
          "2019-11-01T00:00:00",
          "2019-12-01T00:00:00",
          "2020-01-01T00:00:00",
          "2020-02-01T00:00:00",
          "2020-03-01T00:00:00",
          "2020-04-01T00:00:00",
          "2020-05-01T00:00:00",
          "2020-06-01T00:00:00",
          "2020-07-01T00:00:00",
          "2020-08-01T00:00:00",
          "2020-09-01T00:00:00",
          "2020-10-01T00:00:00",
          "2020-11-01T00:00:00",
          "2020-12-01T00:00:00",
          "2021-01-01T00:00:00",
          "2021-02-01T00:00:00",
          "2021-04-01T00:00:00",
          "2021-05-01T00:00:00",
          "2021-06-01T00:00:00",
          "2021-08-01T00:00:00",
          "2021-09-01T00:00:00",
          "2021-10-01T00:00:00",
          "2021-11-01T00:00:00",
          "2021-12-01T00:00:00",
          "2022-01-01T00:00:00",
          "2022-02-01T00:00:00",
          "2022-03-01T00:00:00",
          "2022-04-01T00:00:00",
          "2022-05-01T00:00:00",
          "2022-06-01T00:00:00",
          "2022-07-01T00:00:00",
          "2022-08-01T00:00:00",
          "2022-09-01T00:00:00",
          "2022-10-01T00:00:00",
          "2022-11-01T00:00:00",
          "2022-12-01T00:00:00",
          "2023-01-01T00:00:00",
          "2023-02-01T00:00:00",
          "2023-03-01T00:00:00",
          "2023-04-01T00:00:00",
          "2023-05-01T00:00:00",
          "2023-06-01T00:00:00",
          "2023-07-01T00:00:00",
          "2023-08-01T00:00:00",
          "2023-09-01T00:00:00",
          "2023-10-01T00:00:00",
          "2023-11-01T00:00:00",
          "2023-12-01T00:00:00"
         ],
         "xaxis": "x",
         "y": [
          20.108333333333334,
          43.78333333333333,
          28.349999999999998,
          28.825,
          28.45,
          37.24166666666667,
          22.916666666666668,
          15.4,
          32.96666666666667,
          28.841666666666665,
          23.016666666666666,
          29.258333333333333,
          35.1,
          11.7,
          27.233333333333334,
          25.133333333333333,
          25.733333333333334,
          27.666666666666668,
          27.75,
          25.583333333333332,
          25.616666666666667,
          30.25,
          32.2,
          24.858333333333334,
          26.016666666666666,
          27.566666666666666,
          39.916666666666664,
          30.966666666666665,
          41.09166666666667,
          16.416666666666668,
          18.441666666666666,
          30.233333333333334,
          28.166666666666668,
          25.425,
          28.2,
          24.816666666666666,
          15.15,
          23.483333333333334,
          4.066666666666666,
          21.883333333333333,
          23.55,
          17.816666666666666,
          23.266666666666666,
          25.05,
          24.416666666666668,
          20.775,
          22.183333333333334,
          23.725,
          25.5,
          22.616666666666667,
          24.933333333333334,
          21.516666666666666,
          18.241666666666667,
          23.966666666666665,
          26.05,
          26.433333333333334,
          30.458333333333332,
          154.73333333333332,
          16.841666666666665,
          24.266666666666666,
          21.266666666666666,
          18.616666666666667,
          25.675,
          30.28333333333333,
          12.6,
          30.016666666666666
         ],
         "yaxis": "y"
        }
       ],
       "layout": {
        "height": 500,
        "legend": {
         "title": {
          "text": "port_name"
         },
         "tracegroupgap": 0
        },
        "template": {
         "data": {
          "bar": [
           {
            "error_x": {
             "color": "#2a3f5f"
            },
            "error_y": {
             "color": "#2a3f5f"
            },
            "marker": {
             "line": {
              "color": "#E5ECF6",
              "width": 0.5
             },
             "pattern": {
              "fillmode": "overlay",
              "size": 10,
              "solidity": 0.2
             }
            },
            "type": "bar"
           }
          ],
          "barpolar": [
           {
            "marker": {
             "line": {
              "color": "#E5ECF6",
              "width": 0.5
             },
             "pattern": {
              "fillmode": "overlay",
              "size": 10,
              "solidity": 0.2
             }
            },
            "type": "barpolar"
           }
          ],
          "carpet": [
           {
            "aaxis": {
             "endlinecolor": "#2a3f5f",
             "gridcolor": "white",
             "linecolor": "white",
             "minorgridcolor": "white",
             "startlinecolor": "#2a3f5f"
            },
            "baxis": {
             "endlinecolor": "#2a3f5f",
             "gridcolor": "white",
             "linecolor": "white",
             "minorgridcolor": "white",
             "startlinecolor": "#2a3f5f"
            },
            "type": "carpet"
           }
          ],
          "choropleth": [
           {
            "colorbar": {
             "outlinewidth": 0,
             "ticks": ""
            },
            "type": "choropleth"
           }
          ],
          "contour": [
           {
            "colorbar": {
             "outlinewidth": 0,
             "ticks": ""
            },
            "colorscale": [
             [
              0,
              "#0d0887"
             ],
             [
              0.1111111111111111,
              "#46039f"
             ],
             [
              0.2222222222222222,
              "#7201a8"
             ],
             [
              0.3333333333333333,
              "#9c179e"
             ],
             [
              0.4444444444444444,
              "#bd3786"
             ],
             [
              0.5555555555555556,
              "#d8576b"
             ],
             [
              0.6666666666666666,
              "#ed7953"
             ],
             [
              0.7777777777777778,
              "#fb9f3a"
             ],
             [
              0.8888888888888888,
              "#fdca26"
             ],
             [
              1,
              "#f0f921"
             ]
            ],
            "type": "contour"
           }
          ],
          "contourcarpet": [
           {
            "colorbar": {
             "outlinewidth": 0,
             "ticks": ""
            },
            "type": "contourcarpet"
           }
          ],
          "heatmap": [
           {
            "colorbar": {
             "outlinewidth": 0,
             "ticks": ""
            },
            "colorscale": [
             [
              0,
              "#0d0887"
             ],
             [
              0.1111111111111111,
              "#46039f"
             ],
             [
              0.2222222222222222,
              "#7201a8"
             ],
             [
              0.3333333333333333,
              "#9c179e"
             ],
             [
              0.4444444444444444,
              "#bd3786"
             ],
             [
              0.5555555555555556,
              "#d8576b"
             ],
             [
              0.6666666666666666,
              "#ed7953"
             ],
             [
              0.7777777777777778,
              "#fb9f3a"
             ],
             [
              0.8888888888888888,
              "#fdca26"
             ],
             [
              1,
              "#f0f921"
             ]
            ],
            "type": "heatmap"
           }
          ],
          "heatmapgl": [
           {
            "colorbar": {
             "outlinewidth": 0,
             "ticks": ""
            },
            "colorscale": [
             [
              0,
              "#0d0887"
             ],
             [
              0.1111111111111111,
              "#46039f"
             ],
             [
              0.2222222222222222,
              "#7201a8"
             ],
             [
              0.3333333333333333,
              "#9c179e"
             ],
             [
              0.4444444444444444,
              "#bd3786"
             ],
             [
              0.5555555555555556,
              "#d8576b"
             ],
             [
              0.6666666666666666,
              "#ed7953"
             ],
             [
              0.7777777777777778,
              "#fb9f3a"
             ],
             [
              0.8888888888888888,
              "#fdca26"
             ],
             [
              1,
              "#f0f921"
             ]
            ],
            "type": "heatmapgl"
           }
          ],
          "histogram": [
           {
            "marker": {
             "pattern": {
              "fillmode": "overlay",
              "size": 10,
              "solidity": 0.2
             }
            },
            "type": "histogram"
           }
          ],
          "histogram2d": [
           {
            "colorbar": {
             "outlinewidth": 0,
             "ticks": ""
            },
            "colorscale": [
             [
              0,
              "#0d0887"
             ],
             [
              0.1111111111111111,
              "#46039f"
             ],
             [
              0.2222222222222222,
              "#7201a8"
             ],
             [
              0.3333333333333333,
              "#9c179e"
             ],
             [
              0.4444444444444444,
              "#bd3786"
             ],
             [
              0.5555555555555556,
              "#d8576b"
             ],
             [
              0.6666666666666666,
              "#ed7953"
             ],
             [
              0.7777777777777778,
              "#fb9f3a"
             ],
             [
              0.8888888888888888,
              "#fdca26"
             ],
             [
              1,
              "#f0f921"
             ]
            ],
            "type": "histogram2d"
           }
          ],
          "histogram2dcontour": [
           {
            "colorbar": {
             "outlinewidth": 0,
             "ticks": ""
            },
            "colorscale": [
             [
              0,
              "#0d0887"
             ],
             [
              0.1111111111111111,
              "#46039f"
             ],
             [
              0.2222222222222222,
              "#7201a8"
             ],
             [
              0.3333333333333333,
              "#9c179e"
             ],
             [
              0.4444444444444444,
              "#bd3786"
             ],
             [
              0.5555555555555556,
              "#d8576b"
             ],
             [
              0.6666666666666666,
              "#ed7953"
             ],
             [
              0.7777777777777778,
              "#fb9f3a"
             ],
             [
              0.8888888888888888,
              "#fdca26"
             ],
             [
              1,
              "#f0f921"
             ]
            ],
            "type": "histogram2dcontour"
           }
          ],
          "mesh3d": [
           {
            "colorbar": {
             "outlinewidth": 0,
             "ticks": ""
            },
            "type": "mesh3d"
           }
          ],
          "parcoords": [
           {
            "line": {
             "colorbar": {
              "outlinewidth": 0,
              "ticks": ""
             }
            },
            "type": "parcoords"
           }
          ],
          "pie": [
           {
            "automargin": true,
            "type": "pie"
           }
          ],
          "scatter": [
           {
            "fillpattern": {
             "fillmode": "overlay",
             "size": 10,
             "solidity": 0.2
            },
            "type": "scatter"
           }
          ],
          "scatter3d": [
           {
            "line": {
             "colorbar": {
              "outlinewidth": 0,
              "ticks": ""
             }
            },
            "marker": {
             "colorbar": {
              "outlinewidth": 0,
              "ticks": ""
             }
            },
            "type": "scatter3d"
           }
          ],
          "scattercarpet": [
           {
            "marker": {
             "colorbar": {
              "outlinewidth": 0,
              "ticks": ""
             }
            },
            "type": "scattercarpet"
           }
          ],
          "scattergeo": [
           {
            "marker": {
             "colorbar": {
              "outlinewidth": 0,
              "ticks": ""
             }
            },
            "type": "scattergeo"
           }
          ],
          "scattergl": [
           {
            "marker": {
             "colorbar": {
              "outlinewidth": 0,
              "ticks": ""
             }
            },
            "type": "scattergl"
           }
          ],
          "scattermapbox": [
           {
            "marker": {
             "colorbar": {
              "outlinewidth": 0,
              "ticks": ""
             }
            },
            "type": "scattermapbox"
           }
          ],
          "scatterpolar": [
           {
            "marker": {
             "colorbar": {
              "outlinewidth": 0,
              "ticks": ""
             }
            },
            "type": "scatterpolar"
           }
          ],
          "scatterpolargl": [
           {
            "marker": {
             "colorbar": {
              "outlinewidth": 0,
              "ticks": ""
             }
            },
            "type": "scatterpolargl"
           }
          ],
          "scatterternary": [
           {
            "marker": {
             "colorbar": {
              "outlinewidth": 0,
              "ticks": ""
             }
            },
            "type": "scatterternary"
           }
          ],
          "surface": [
           {
            "colorbar": {
             "outlinewidth": 0,
             "ticks": ""
            },
            "colorscale": [
             [
              0,
              "#0d0887"
             ],
             [
              0.1111111111111111,
              "#46039f"
             ],
             [
              0.2222222222222222,
              "#7201a8"
             ],
             [
              0.3333333333333333,
              "#9c179e"
             ],
             [
              0.4444444444444444,
              "#bd3786"
             ],
             [
              0.5555555555555556,
              "#d8576b"
             ],
             [
              0.6666666666666666,
              "#ed7953"
             ],
             [
              0.7777777777777778,
              "#fb9f3a"
             ],
             [
              0.8888888888888888,
              "#fdca26"
             ],
             [
              1,
              "#f0f921"
             ]
            ],
            "type": "surface"
           }
          ],
          "table": [
           {
            "cells": {
             "fill": {
              "color": "#EBF0F8"
             },
             "line": {
              "color": "white"
             }
            },
            "header": {
             "fill": {
              "color": "#C8D4E3"
             },
             "line": {
              "color": "white"
             }
            },
            "type": "table"
           }
          ]
         },
         "layout": {
          "annotationdefaults": {
           "arrowcolor": "#2a3f5f",
           "arrowhead": 0,
           "arrowwidth": 1
          },
          "autotypenumbers": "strict",
          "coloraxis": {
           "colorbar": {
            "outlinewidth": 0,
            "ticks": ""
           }
          },
          "colorscale": {
           "diverging": [
            [
             0,
             "#8e0152"
            ],
            [
             0.1,
             "#c51b7d"
            ],
            [
             0.2,
             "#de77ae"
            ],
            [
             0.3,
             "#f1b6da"
            ],
            [
             0.4,
             "#fde0ef"
            ],
            [
             0.5,
             "#f7f7f7"
            ],
            [
             0.6,
             "#e6f5d0"
            ],
            [
             0.7,
             "#b8e186"
            ],
            [
             0.8,
             "#7fbc41"
            ],
            [
             0.9,
             "#4d9221"
            ],
            [
             1,
             "#276419"
            ]
           ],
           "sequential": [
            [
             0,
             "#0d0887"
            ],
            [
             0.1111111111111111,
             "#46039f"
            ],
            [
             0.2222222222222222,
             "#7201a8"
            ],
            [
             0.3333333333333333,
             "#9c179e"
            ],
            [
             0.4444444444444444,
             "#bd3786"
            ],
            [
             0.5555555555555556,
             "#d8576b"
            ],
            [
             0.6666666666666666,
             "#ed7953"
            ],
            [
             0.7777777777777778,
             "#fb9f3a"
            ],
            [
             0.8888888888888888,
             "#fdca26"
            ],
            [
             1,
             "#f0f921"
            ]
           ],
           "sequentialminus": [
            [
             0,
             "#0d0887"
            ],
            [
             0.1111111111111111,
             "#46039f"
            ],
            [
             0.2222222222222222,
             "#7201a8"
            ],
            [
             0.3333333333333333,
             "#9c179e"
            ],
            [
             0.4444444444444444,
             "#bd3786"
            ],
            [
             0.5555555555555556,
             "#d8576b"
            ],
            [
             0.6666666666666666,
             "#ed7953"
            ],
            [
             0.7777777777777778,
             "#fb9f3a"
            ],
            [
             0.8888888888888888,
             "#fdca26"
            ],
            [
             1,
             "#f0f921"
            ]
           ]
          },
          "colorway": [
           "#636efa",
           "#EF553B",
           "#00cc96",
           "#ab63fa",
           "#FFA15A",
           "#19d3f3",
           "#FF6692",
           "#B6E880",
           "#FF97FF",
           "#FECB52"
          ],
          "font": {
           "color": "#2a3f5f"
          },
          "geo": {
           "bgcolor": "white",
           "lakecolor": "white",
           "landcolor": "#E5ECF6",
           "showlakes": true,
           "showland": true,
           "subunitcolor": "white"
          },
          "hoverlabel": {
           "align": "left"
          },
          "hovermode": "closest",
          "mapbox": {
           "style": "light"
          },
          "paper_bgcolor": "white",
          "plot_bgcolor": "#E5ECF6",
          "polar": {
           "angularaxis": {
            "gridcolor": "white",
            "linecolor": "white",
            "ticks": ""
           },
           "bgcolor": "#E5ECF6",
           "radialaxis": {
            "gridcolor": "white",
            "linecolor": "white",
            "ticks": ""
           }
          },
          "scene": {
           "xaxis": {
            "backgroundcolor": "#E5ECF6",
            "gridcolor": "white",
            "gridwidth": 2,
            "linecolor": "white",
            "showbackground": true,
            "ticks": "",
            "zerolinecolor": "white"
           },
           "yaxis": {
            "backgroundcolor": "#E5ECF6",
            "gridcolor": "white",
            "gridwidth": 2,
            "linecolor": "white",
            "showbackground": true,
            "ticks": "",
            "zerolinecolor": "white"
           },
           "zaxis": {
            "backgroundcolor": "#E5ECF6",
            "gridcolor": "white",
            "gridwidth": 2,
            "linecolor": "white",
            "showbackground": true,
            "ticks": "",
            "zerolinecolor": "white"
           }
          },
          "shapedefaults": {
           "line": {
            "color": "#2a3f5f"
           }
          },
          "ternary": {
           "aaxis": {
            "gridcolor": "white",
            "linecolor": "white",
            "ticks": ""
           },
           "baxis": {
            "gridcolor": "white",
            "linecolor": "white",
            "ticks": ""
           },
           "bgcolor": "#E5ECF6",
           "caxis": {
            "gridcolor": "white",
            "linecolor": "white",
            "ticks": ""
           }
          },
          "title": {
           "x": 0.05
          },
          "xaxis": {
           "automargin": true,
           "gridcolor": "white",
           "linecolor": "white",
           "ticks": "",
           "title": {
            "standoff": 15
           },
           "zerolinecolor": "white",
           "zerolinewidth": 2
          },
          "yaxis": {
           "automargin": true,
           "gridcolor": "white",
           "linecolor": "white",
           "ticks": "",
           "title": {
            "standoff": 15
           },
           "zerolinecolor": "white",
           "zerolinewidth": 2
          }
         }
        },
        "title": {
         "text": "Median Time at Anchor at Principal Ports"
        },
        "width": 1000,
        "xaxis": {
         "anchor": "y",
         "domain": [
          0,
          1
         ],
         "title": {
          "text": "month"
         }
        },
        "yaxis": {
         "anchor": "x",
         "domain": [
          0,
          1
         ],
         "title": {
          "text": "time_at_anchor_avg"
         }
        }
       }
      }
     },
     "metadata": {},
     "output_type": "display_data"
    }
   ],
   "source": [
    "px.line(\n",
    "    monthly_df\n",
    "    #restrict to top 5 ports\n",
    "    .filter(pl.col('port_name').is_in(top5ports))\n",
    "    #month in dt format\n",
    "    .with_columns(pl.col('month').str.strptime(pl.Date, format='%Y%m'))\n",
    "    .sort(by='month'), \n",
    "    #plot specs\n",
    "    x='month', y='time_at_anchor_avg', color='port_name',\n",
    "    title='Median Time at Anchor at Principal Ports',\n",
    "    width=1000,\n",
    "    height=500 \n",
    ")"
   ]
  },
  {
   "cell_type": "code",
   "execution_count": 15,
   "metadata": {},
   "outputs": [
    {
     "data": {
      "application/vnd.plotly.v1+json": {
       "config": {
        "plotlyServerURL": "https://plot.ly"
       },
       "data": [
        {
         "hovertemplate": "port_name=South Louisiana, LA, Port of<br>month=%{x}<br>time_at_berth_avg=%{y}<extra></extra>",
         "legendgroup": "South Louisiana, LA, Port of",
         "line": {
          "color": "#636efa",
          "dash": "solid"
         },
         "marker": {
          "symbol": "circle"
         },
         "mode": "lines",
         "name": "South Louisiana, LA, Port of",
         "orientation": "v",
         "showlegend": true,
         "type": "scatter",
         "x": [
          "2018-02-01T00:00:00",
          "2018-03-01T00:00:00",
          "2018-04-01T00:00:00",
          "2018-05-01T00:00:00",
          "2018-06-01T00:00:00",
          "2018-07-01T00:00:00",
          "2018-08-01T00:00:00",
          "2018-09-01T00:00:00",
          "2018-10-01T00:00:00",
          "2019-01-01T00:00:00",
          "2019-02-01T00:00:00",
          "2019-03-01T00:00:00",
          "2019-04-01T00:00:00",
          "2019-05-01T00:00:00",
          "2019-06-01T00:00:00",
          "2019-08-01T00:00:00",
          "2019-09-01T00:00:00",
          "2019-10-01T00:00:00",
          "2019-11-01T00:00:00",
          "2019-12-01T00:00:00",
          "2020-01-01T00:00:00",
          "2020-02-01T00:00:00",
          "2020-03-01T00:00:00",
          "2020-04-01T00:00:00",
          "2020-05-01T00:00:00",
          "2020-06-01T00:00:00",
          "2020-07-01T00:00:00",
          "2020-08-01T00:00:00",
          "2020-09-01T00:00:00",
          "2020-10-01T00:00:00",
          "2020-11-01T00:00:00",
          "2020-12-01T00:00:00",
          "2021-01-01T00:00:00",
          "2021-02-01T00:00:00",
          "2021-04-01T00:00:00",
          "2021-05-01T00:00:00",
          "2021-06-01T00:00:00",
          "2021-08-01T00:00:00",
          "2021-09-01T00:00:00",
          "2021-10-01T00:00:00",
          "2021-11-01T00:00:00",
          "2021-12-01T00:00:00",
          "2022-01-01T00:00:00",
          "2022-02-01T00:00:00",
          "2022-03-01T00:00:00",
          "2022-04-01T00:00:00",
          "2022-05-01T00:00:00",
          "2022-06-01T00:00:00",
          "2022-07-01T00:00:00",
          "2022-08-01T00:00:00",
          "2022-09-01T00:00:00",
          "2022-10-01T00:00:00",
          "2022-11-01T00:00:00",
          "2022-12-01T00:00:00",
          "2023-01-01T00:00:00",
          "2023-02-01T00:00:00",
          "2023-03-01T00:00:00",
          "2023-04-01T00:00:00",
          "2023-05-01T00:00:00",
          "2023-06-01T00:00:00",
          "2023-07-01T00:00:00",
          "2023-08-01T00:00:00",
          "2023-09-01T00:00:00",
          "2023-10-01T00:00:00",
          "2023-11-01T00:00:00",
          "2023-12-01T00:00:00"
         ],
         "xaxis": "x",
         "y": [
          41.358333333333334,
          43.166666666666664,
          42.68333333333333,
          43.05,
          38.425,
          39.858333333333334,
          38.583333333333336,
          39.28333333333333,
          30.766666666666666,
          46.43333333333333,
          48.06666666666666,
          44.016666666666666,
          46.21666666666667,
          43.96666666666667,
          41.21666666666667,
          30.8,
          31,
          36.208333333333336,
          37.31666666666666,
          44.80833333333333,
          45.733333333333334,
          43.75,
          42.38333333333333,
          36.61666666666667,
          0.36666666666666664,
          21.141666666666666,
          26.833333333333332,
          24.416666666666668,
          23.25,
          20.6,
          24.566666666666666,
          42.4,
          42.96666666666667,
          41.733333333333334,
          46.88333333333333,
          38.483333333333334,
          39.166666666666664,
          38.43333333333333,
          39.50833333333333,
          40.583333333333336,
          39.85,
          42.083333333333336,
          41.666666666666664,
          40.38333333333333,
          43.3,
          38.24166666666667,
          38.425,
          36.766666666666666,
          40.666666666666664,
          39.791666666666664,
          39.65833333333333,
          41.75,
          40.93333333333333,
          46.7,
          39.05,
          41.34166666666667,
          40.15,
          263.43333333333334,
          45.041666666666664,
          45,
          40.09166666666667,
          28.816666666666666,
          40.11666666666667,
          40.31666666666666,
          39.95,
          40.55
         ],
         "yaxis": "y"
        },
        {
         "hovertemplate": "port_name=Port of Long Beach, CA<br>month=%{x}<br>time_at_berth_avg=%{y}<extra></extra>",
         "legendgroup": "Port of Long Beach, CA",
         "line": {
          "color": "#EF553B",
          "dash": "solid"
         },
         "marker": {
          "symbol": "circle"
         },
         "mode": "lines",
         "name": "Port of Long Beach, CA",
         "orientation": "v",
         "showlegend": true,
         "type": "scatter",
         "x": [
          "2018-02-01T00:00:00",
          "2018-03-01T00:00:00",
          "2018-04-01T00:00:00",
          "2018-05-01T00:00:00",
          "2018-06-01T00:00:00",
          "2018-07-01T00:00:00",
          "2018-08-01T00:00:00",
          "2018-09-01T00:00:00",
          "2018-10-01T00:00:00",
          "2019-01-01T00:00:00",
          "2019-02-01T00:00:00",
          "2019-03-01T00:00:00",
          "2019-04-01T00:00:00",
          "2019-05-01T00:00:00",
          "2019-06-01T00:00:00",
          "2019-08-01T00:00:00",
          "2019-09-01T00:00:00",
          "2019-10-01T00:00:00",
          "2019-11-01T00:00:00",
          "2019-12-01T00:00:00",
          "2020-01-01T00:00:00",
          "2020-02-01T00:00:00",
          "2020-03-01T00:00:00",
          "2020-04-01T00:00:00",
          "2020-05-01T00:00:00",
          "2020-06-01T00:00:00",
          "2020-07-01T00:00:00",
          "2020-08-01T00:00:00",
          "2020-09-01T00:00:00",
          "2020-10-01T00:00:00",
          "2020-11-01T00:00:00",
          "2020-12-01T00:00:00",
          "2021-01-01T00:00:00",
          "2021-02-01T00:00:00",
          "2021-04-01T00:00:00",
          "2021-05-01T00:00:00",
          "2021-06-01T00:00:00",
          "2021-08-01T00:00:00",
          "2021-09-01T00:00:00",
          "2021-10-01T00:00:00",
          "2021-11-01T00:00:00",
          "2021-12-01T00:00:00",
          "2022-01-01T00:00:00",
          "2022-02-01T00:00:00",
          "2022-03-01T00:00:00",
          "2022-04-01T00:00:00",
          "2022-05-01T00:00:00",
          "2022-06-01T00:00:00",
          "2022-07-01T00:00:00",
          "2022-08-01T00:00:00",
          "2022-09-01T00:00:00",
          "2022-10-01T00:00:00",
          "2022-11-01T00:00:00",
          "2022-12-01T00:00:00",
          "2023-01-01T00:00:00",
          "2023-02-01T00:00:00",
          "2023-03-01T00:00:00",
          "2023-04-01T00:00:00",
          "2023-05-01T00:00:00",
          "2023-06-01T00:00:00",
          "2023-07-01T00:00:00",
          "2023-08-01T00:00:00",
          "2023-09-01T00:00:00",
          "2023-10-01T00:00:00",
          "2023-11-01T00:00:00",
          "2023-12-01T00:00:00"
         ],
         "xaxis": "x",
         "y": [
          27.9,
          35.625,
          36.208333333333336,
          43.166666666666664,
          39.608333333333334,
          34.916666666666664,
          33.516666666666666,
          34.325,
          0.016666666666666666,
          34.6,
          30.849999999999998,
          31.858333333333334,
          26.95,
          28.099999999999998,
          35.61666666666667,
          38.93333333333333,
          28.216666666666665,
          32.81666666666666,
          34.46666666666667,
          25.816666666666666,
          35.38333333333333,
          33.96666666666667,
          34.766666666666666,
          34.833333333333336,
          19.15833333333333,
          12.666666666666666,
          1.2333333333333334,
          0.5,
          0.65,
          17.78333333333333,
          6.5249999999999995,
          0.3833333333333333,
          11.383333333333333,
          0.8166666666666667,
          14.683333333333334,
          1.35,
          0.43333333333333335,
          18.641666666666666,
          0.7,
          2.175,
          0.8833333333333333,
          1.0333333333333332,
          0.31666666666666665,
          0.6333333333333333,
          1,
          3.25,
          2.375,
          4.883333333333333,
          2.183333333333333,
          0.9249999999999999,
          0.9333333333333333,
          0.4583333333333333,
          0.6833333333333333,
          0.8083333333333333,
          0.6666666666666666,
          0.48333333333333334,
          1.9666666666666666,
          1.4083333333333332,
          19.083333333333332,
          11.883333333333333,
          5.35,
          29.558333333333334,
          1.15,
          22.558333333333334,
          25.416666666666668,
          33.525
         ],
         "yaxis": "y"
        },
        {
         "hovertemplate": "port_name=New York, NY & NJ<br>month=%{x}<br>time_at_berth_avg=%{y}<extra></extra>",
         "legendgroup": "New York, NY & NJ",
         "line": {
          "color": "#00cc96",
          "dash": "solid"
         },
         "marker": {
          "symbol": "circle"
         },
         "mode": "lines",
         "name": "New York, NY & NJ",
         "orientation": "v",
         "showlegend": true,
         "type": "scatter",
         "x": [
          "2018-02-01T00:00:00",
          "2018-03-01T00:00:00",
          "2018-04-01T00:00:00",
          "2018-05-01T00:00:00",
          "2018-06-01T00:00:00",
          "2018-07-01T00:00:00",
          "2018-08-01T00:00:00",
          "2018-09-01T00:00:00",
          "2018-10-01T00:00:00",
          "2019-01-01T00:00:00",
          "2019-02-01T00:00:00",
          "2019-03-01T00:00:00",
          "2019-04-01T00:00:00",
          "2019-05-01T00:00:00",
          "2019-06-01T00:00:00",
          "2019-08-01T00:00:00",
          "2019-09-01T00:00:00",
          "2019-10-01T00:00:00",
          "2019-11-01T00:00:00",
          "2019-12-01T00:00:00",
          "2020-01-01T00:00:00",
          "2020-02-01T00:00:00",
          "2020-03-01T00:00:00",
          "2020-04-01T00:00:00",
          "2020-05-01T00:00:00",
          "2020-06-01T00:00:00",
          "2020-07-01T00:00:00",
          "2020-08-01T00:00:00",
          "2020-09-01T00:00:00",
          "2020-10-01T00:00:00",
          "2020-11-01T00:00:00",
          "2020-12-01T00:00:00",
          "2021-01-01T00:00:00",
          "2021-02-01T00:00:00",
          "2021-04-01T00:00:00",
          "2021-05-01T00:00:00",
          "2021-06-01T00:00:00",
          "2021-08-01T00:00:00",
          "2021-09-01T00:00:00",
          "2021-10-01T00:00:00",
          "2021-11-01T00:00:00",
          "2021-12-01T00:00:00",
          "2022-01-01T00:00:00",
          "2022-02-01T00:00:00",
          "2022-03-01T00:00:00",
          "2022-04-01T00:00:00",
          "2022-05-01T00:00:00",
          "2022-06-01T00:00:00",
          "2022-07-01T00:00:00",
          "2022-08-01T00:00:00",
          "2022-09-01T00:00:00",
          "2022-10-01T00:00:00",
          "2022-11-01T00:00:00",
          "2022-12-01T00:00:00",
          "2023-01-01T00:00:00",
          "2023-02-01T00:00:00",
          "2023-03-01T00:00:00",
          "2023-04-01T00:00:00",
          "2023-05-01T00:00:00",
          "2023-06-01T00:00:00",
          "2023-07-01T00:00:00",
          "2023-08-01T00:00:00",
          "2023-09-01T00:00:00",
          "2023-10-01T00:00:00",
          "2023-11-01T00:00:00",
          "2023-12-01T00:00:00"
         ],
         "xaxis": "x",
         "y": [
          24.166666666666668,
          26.95,
          24.883333333333333,
          24.366666666666667,
          24.491666666666667,
          26.28333333333333,
          27.808333333333334,
          24.616666666666667,
          25.841666666666665,
          27.55,
          29.025,
          25.35,
          25.2,
          24.7,
          26.55,
          25.366666666666667,
          0.1,
          0.11666666666666667,
          2.5416666666666665,
          25.166666666666668,
          24.025,
          24.866666666666667,
          23.6,
          24.766666666666666,
          23.816666666666666,
          23.55,
          23.916666666666668,
          25.391666666666666,
          16.216666666666665,
          23.666666666666668,
          22.933333333333334,
          29.416666666666668,
          29.166666666666668,
          31.333333333333332,
          9.116666666666667,
          26.883333333333333,
          24.166666666666668,
          27.091666666666665,
          22.508333333333333,
          26.05,
          24.558333333333334,
          30.066666666666666,
          31.066666666666666,
          30.849999999999998,
          29,
          26.275,
          27.599999999999998,
          29.016666666666666,
          23.025,
          25.641666666666666,
          25.316666666666666,
          25.1,
          26.508333333333333,
          28.108333333333334,
          23.8,
          23.15,
          21.433333333333334,
          146.16666666666666,
          24.925,
          23.216666666666665,
          21,
          24.183333333333334,
          27.05,
          18.975,
          22.066666666666666,
          20.3
         ],
         "yaxis": "y"
        },
        {
         "hovertemplate": "port_name=Houston Port Authority, TX<br>month=%{x}<br>time_at_berth_avg=%{y}<extra></extra>",
         "legendgroup": "Houston Port Authority, TX",
         "line": {
          "color": "#ab63fa",
          "dash": "solid"
         },
         "marker": {
          "symbol": "circle"
         },
         "mode": "lines",
         "name": "Houston Port Authority, TX",
         "orientation": "v",
         "showlegend": true,
         "type": "scatter",
         "x": [
          "2018-02-01T00:00:00",
          "2018-03-01T00:00:00",
          "2018-04-01T00:00:00",
          "2018-05-01T00:00:00",
          "2018-06-01T00:00:00",
          "2018-07-01T00:00:00",
          "2018-08-01T00:00:00",
          "2018-09-01T00:00:00",
          "2018-10-01T00:00:00",
          "2019-01-01T00:00:00",
          "2019-02-01T00:00:00",
          "2019-03-01T00:00:00",
          "2019-04-01T00:00:00",
          "2019-05-01T00:00:00",
          "2019-06-01T00:00:00",
          "2019-08-01T00:00:00",
          "2019-09-01T00:00:00",
          "2019-10-01T00:00:00",
          "2019-11-01T00:00:00",
          "2019-12-01T00:00:00",
          "2020-01-01T00:00:00",
          "2020-02-01T00:00:00",
          "2020-03-01T00:00:00",
          "2020-04-01T00:00:00",
          "2020-05-01T00:00:00",
          "2020-06-01T00:00:00",
          "2020-07-01T00:00:00",
          "2020-08-01T00:00:00",
          "2020-09-01T00:00:00",
          "2020-10-01T00:00:00",
          "2020-11-01T00:00:00",
          "2020-12-01T00:00:00",
          "2021-01-01T00:00:00",
          "2021-02-01T00:00:00",
          "2021-04-01T00:00:00",
          "2021-05-01T00:00:00",
          "2021-06-01T00:00:00",
          "2021-08-01T00:00:00",
          "2021-09-01T00:00:00",
          "2021-10-01T00:00:00",
          "2021-11-01T00:00:00",
          "2021-12-01T00:00:00",
          "2022-01-01T00:00:00",
          "2022-02-01T00:00:00",
          "2022-03-01T00:00:00",
          "2022-04-01T00:00:00",
          "2022-05-01T00:00:00",
          "2022-06-01T00:00:00",
          "2022-07-01T00:00:00",
          "2022-08-01T00:00:00",
          "2022-09-01T00:00:00",
          "2022-10-01T00:00:00",
          "2022-11-01T00:00:00",
          "2022-12-01T00:00:00",
          "2023-01-01T00:00:00",
          "2023-02-01T00:00:00",
          "2023-03-01T00:00:00",
          "2023-04-01T00:00:00",
          "2023-05-01T00:00:00",
          "2023-06-01T00:00:00",
          "2023-07-01T00:00:00",
          "2023-08-01T00:00:00",
          "2023-09-01T00:00:00",
          "2023-10-01T00:00:00",
          "2023-11-01T00:00:00",
          "2023-12-01T00:00:00"
         ],
         "xaxis": "x",
         "y": [
          45.733333333333334,
          39.833333333333336,
          40.833333333333336,
          37.35,
          39.141666666666666,
          38.03333333333333,
          38.56666666666666,
          37.65,
          37.30833333333333,
          37.35,
          43.25,
          47.3,
          38.1,
          1.3,
          36.68333333333333,
          36.666666666666664,
          37.81666666666666,
          37.233333333333334,
          38.15833333333333,
          34.61666666666667,
          35.25,
          40.80833333333333,
          36.541666666666664,
          35.391666666666666,
          32.266666666666666,
          37.43333333333333,
          46.075,
          40.891666666666666,
          35.94166666666666,
          37.05,
          34.25,
          37.266666666666666,
          36.891666666666666,
          41.983333333333334,
          37.416666666666664,
          38.083333333333336,
          37.083333333333336,
          37.925,
          40.125,
          37.775,
          36.78333333333333,
          38.63333333333333,
          24.916666666666668,
          32.608333333333334,
          40.583333333333336,
          39.63333333333333,
          39.766666666666666,
          30.599999999999998,
          44.233333333333334,
          23.9,
          35.983333333333334,
          39.15833333333333,
          40.65,
          42.34166666666667,
          38.63333333333333,
          41.233333333333334,
          40.11666666666667,
          167.9,
          30.5,
          35.86666666666667,
          39.025,
          40,
          41.175,
          16.03333333333333,
          21.65,
          37.916666666666664
         ],
         "yaxis": "y"
        },
        {
         "hovertemplate": "port_name=Corpus Christi, TX<br>month=%{x}<br>time_at_berth_avg=%{y}<extra></extra>",
         "legendgroup": "Corpus Christi, TX",
         "line": {
          "color": "#FFA15A",
          "dash": "solid"
         },
         "marker": {
          "symbol": "circle"
         },
         "mode": "lines",
         "name": "Corpus Christi, TX",
         "orientation": "v",
         "showlegend": true,
         "type": "scatter",
         "x": [
          "2018-02-01T00:00:00",
          "2018-03-01T00:00:00",
          "2018-04-01T00:00:00",
          "2018-05-01T00:00:00",
          "2018-06-01T00:00:00",
          "2018-07-01T00:00:00",
          "2018-08-01T00:00:00",
          "2018-09-01T00:00:00",
          "2018-10-01T00:00:00",
          "2019-01-01T00:00:00",
          "2019-02-01T00:00:00",
          "2019-03-01T00:00:00",
          "2019-04-01T00:00:00",
          "2019-05-01T00:00:00",
          "2019-06-01T00:00:00",
          "2019-08-01T00:00:00",
          "2019-09-01T00:00:00",
          "2019-10-01T00:00:00",
          "2019-11-01T00:00:00",
          "2019-12-01T00:00:00",
          "2020-01-01T00:00:00",
          "2020-02-01T00:00:00",
          "2020-03-01T00:00:00",
          "2020-04-01T00:00:00",
          "2020-05-01T00:00:00",
          "2020-06-01T00:00:00",
          "2020-07-01T00:00:00",
          "2020-08-01T00:00:00",
          "2020-09-01T00:00:00",
          "2020-10-01T00:00:00",
          "2020-11-01T00:00:00",
          "2020-12-01T00:00:00",
          "2021-01-01T00:00:00",
          "2021-02-01T00:00:00",
          "2021-04-01T00:00:00",
          "2021-05-01T00:00:00",
          "2021-06-01T00:00:00",
          "2021-08-01T00:00:00",
          "2021-09-01T00:00:00",
          "2021-10-01T00:00:00",
          "2021-11-01T00:00:00",
          "2021-12-01T00:00:00",
          "2022-01-01T00:00:00",
          "2022-02-01T00:00:00",
          "2022-03-01T00:00:00",
          "2022-04-01T00:00:00",
          "2022-05-01T00:00:00",
          "2022-06-01T00:00:00",
          "2022-07-01T00:00:00",
          "2022-08-01T00:00:00",
          "2022-09-01T00:00:00",
          "2022-10-01T00:00:00",
          "2022-11-01T00:00:00",
          "2022-12-01T00:00:00",
          "2023-01-01T00:00:00",
          "2023-02-01T00:00:00",
          "2023-03-01T00:00:00",
          "2023-04-01T00:00:00",
          "2023-05-01T00:00:00",
          "2023-06-01T00:00:00",
          "2023-07-01T00:00:00",
          "2023-08-01T00:00:00",
          "2023-09-01T00:00:00",
          "2023-10-01T00:00:00",
          "2023-11-01T00:00:00",
          "2023-12-01T00:00:00"
         ],
         "xaxis": "x",
         "y": [
          17.05,
          35.38333333333333,
          32.583333333333336,
          35.45,
          34.36666666666667,
          40.1,
          34.61666666666667,
          39.35,
          37.21666666666667,
          37.68333333333333,
          41.50833333333333,
          40.86666666666667,
          33.43333333333333,
          33.18333333333333,
          33.99166666666667,
          41.25,
          35.38333333333333,
          40.19166666666666,
          39.18333333333333,
          39.225,
          39.15,
          34.86666666666667,
          35.641666666666666,
          35.56666666666666,
          33.21666666666667,
          33.03333333333333,
          45.975,
          41.84166666666667,
          39.925,
          33.391666666666666,
          32.5,
          35.1,
          41.7,
          39.916666666666664,
          32.7,
          24,
          33.5,
          35.11666666666667,
          37.325,
          37,
          35.35,
          37.71666666666667,
          41.5,
          40.46666666666667,
          37.833333333333336,
          33.475,
          38.09166666666667,
          36.18333333333333,
          39.5,
          37.541666666666664,
          39.75,
          37.666666666666664,
          43.266666666666666,
          44.68333333333333,
          41.7,
          42.11666666666667,
          42.21666666666667,
          225.71666666666667,
          45.19166666666666,
          41.55,
          37.916666666666664,
          29.816666666666666,
          41.49166666666667,
          41.041666666666664,
          14.65,
          0.7
         ],
         "yaxis": "y"
        }
       ],
       "layout": {
        "height": 500,
        "legend": {
         "title": {
          "text": "port_name"
         },
         "tracegroupgap": 0
        },
        "template": {
         "data": {
          "bar": [
           {
            "error_x": {
             "color": "#2a3f5f"
            },
            "error_y": {
             "color": "#2a3f5f"
            },
            "marker": {
             "line": {
              "color": "#E5ECF6",
              "width": 0.5
             },
             "pattern": {
              "fillmode": "overlay",
              "size": 10,
              "solidity": 0.2
             }
            },
            "type": "bar"
           }
          ],
          "barpolar": [
           {
            "marker": {
             "line": {
              "color": "#E5ECF6",
              "width": 0.5
             },
             "pattern": {
              "fillmode": "overlay",
              "size": 10,
              "solidity": 0.2
             }
            },
            "type": "barpolar"
           }
          ],
          "carpet": [
           {
            "aaxis": {
             "endlinecolor": "#2a3f5f",
             "gridcolor": "white",
             "linecolor": "white",
             "minorgridcolor": "white",
             "startlinecolor": "#2a3f5f"
            },
            "baxis": {
             "endlinecolor": "#2a3f5f",
             "gridcolor": "white",
             "linecolor": "white",
             "minorgridcolor": "white",
             "startlinecolor": "#2a3f5f"
            },
            "type": "carpet"
           }
          ],
          "choropleth": [
           {
            "colorbar": {
             "outlinewidth": 0,
             "ticks": ""
            },
            "type": "choropleth"
           }
          ],
          "contour": [
           {
            "colorbar": {
             "outlinewidth": 0,
             "ticks": ""
            },
            "colorscale": [
             [
              0,
              "#0d0887"
             ],
             [
              0.1111111111111111,
              "#46039f"
             ],
             [
              0.2222222222222222,
              "#7201a8"
             ],
             [
              0.3333333333333333,
              "#9c179e"
             ],
             [
              0.4444444444444444,
              "#bd3786"
             ],
             [
              0.5555555555555556,
              "#d8576b"
             ],
             [
              0.6666666666666666,
              "#ed7953"
             ],
             [
              0.7777777777777778,
              "#fb9f3a"
             ],
             [
              0.8888888888888888,
              "#fdca26"
             ],
             [
              1,
              "#f0f921"
             ]
            ],
            "type": "contour"
           }
          ],
          "contourcarpet": [
           {
            "colorbar": {
             "outlinewidth": 0,
             "ticks": ""
            },
            "type": "contourcarpet"
           }
          ],
          "heatmap": [
           {
            "colorbar": {
             "outlinewidth": 0,
             "ticks": ""
            },
            "colorscale": [
             [
              0,
              "#0d0887"
             ],
             [
              0.1111111111111111,
              "#46039f"
             ],
             [
              0.2222222222222222,
              "#7201a8"
             ],
             [
              0.3333333333333333,
              "#9c179e"
             ],
             [
              0.4444444444444444,
              "#bd3786"
             ],
             [
              0.5555555555555556,
              "#d8576b"
             ],
             [
              0.6666666666666666,
              "#ed7953"
             ],
             [
              0.7777777777777778,
              "#fb9f3a"
             ],
             [
              0.8888888888888888,
              "#fdca26"
             ],
             [
              1,
              "#f0f921"
             ]
            ],
            "type": "heatmap"
           }
          ],
          "heatmapgl": [
           {
            "colorbar": {
             "outlinewidth": 0,
             "ticks": ""
            },
            "colorscale": [
             [
              0,
              "#0d0887"
             ],
             [
              0.1111111111111111,
              "#46039f"
             ],
             [
              0.2222222222222222,
              "#7201a8"
             ],
             [
              0.3333333333333333,
              "#9c179e"
             ],
             [
              0.4444444444444444,
              "#bd3786"
             ],
             [
              0.5555555555555556,
              "#d8576b"
             ],
             [
              0.6666666666666666,
              "#ed7953"
             ],
             [
              0.7777777777777778,
              "#fb9f3a"
             ],
             [
              0.8888888888888888,
              "#fdca26"
             ],
             [
              1,
              "#f0f921"
             ]
            ],
            "type": "heatmapgl"
           }
          ],
          "histogram": [
           {
            "marker": {
             "pattern": {
              "fillmode": "overlay",
              "size": 10,
              "solidity": 0.2
             }
            },
            "type": "histogram"
           }
          ],
          "histogram2d": [
           {
            "colorbar": {
             "outlinewidth": 0,
             "ticks": ""
            },
            "colorscale": [
             [
              0,
              "#0d0887"
             ],
             [
              0.1111111111111111,
              "#46039f"
             ],
             [
              0.2222222222222222,
              "#7201a8"
             ],
             [
              0.3333333333333333,
              "#9c179e"
             ],
             [
              0.4444444444444444,
              "#bd3786"
             ],
             [
              0.5555555555555556,
              "#d8576b"
             ],
             [
              0.6666666666666666,
              "#ed7953"
             ],
             [
              0.7777777777777778,
              "#fb9f3a"
             ],
             [
              0.8888888888888888,
              "#fdca26"
             ],
             [
              1,
              "#f0f921"
             ]
            ],
            "type": "histogram2d"
           }
          ],
          "histogram2dcontour": [
           {
            "colorbar": {
             "outlinewidth": 0,
             "ticks": ""
            },
            "colorscale": [
             [
              0,
              "#0d0887"
             ],
             [
              0.1111111111111111,
              "#46039f"
             ],
             [
              0.2222222222222222,
              "#7201a8"
             ],
             [
              0.3333333333333333,
              "#9c179e"
             ],
             [
              0.4444444444444444,
              "#bd3786"
             ],
             [
              0.5555555555555556,
              "#d8576b"
             ],
             [
              0.6666666666666666,
              "#ed7953"
             ],
             [
              0.7777777777777778,
              "#fb9f3a"
             ],
             [
              0.8888888888888888,
              "#fdca26"
             ],
             [
              1,
              "#f0f921"
             ]
            ],
            "type": "histogram2dcontour"
           }
          ],
          "mesh3d": [
           {
            "colorbar": {
             "outlinewidth": 0,
             "ticks": ""
            },
            "type": "mesh3d"
           }
          ],
          "parcoords": [
           {
            "line": {
             "colorbar": {
              "outlinewidth": 0,
              "ticks": ""
             }
            },
            "type": "parcoords"
           }
          ],
          "pie": [
           {
            "automargin": true,
            "type": "pie"
           }
          ],
          "scatter": [
           {
            "fillpattern": {
             "fillmode": "overlay",
             "size": 10,
             "solidity": 0.2
            },
            "type": "scatter"
           }
          ],
          "scatter3d": [
           {
            "line": {
             "colorbar": {
              "outlinewidth": 0,
              "ticks": ""
             }
            },
            "marker": {
             "colorbar": {
              "outlinewidth": 0,
              "ticks": ""
             }
            },
            "type": "scatter3d"
           }
          ],
          "scattercarpet": [
           {
            "marker": {
             "colorbar": {
              "outlinewidth": 0,
              "ticks": ""
             }
            },
            "type": "scattercarpet"
           }
          ],
          "scattergeo": [
           {
            "marker": {
             "colorbar": {
              "outlinewidth": 0,
              "ticks": ""
             }
            },
            "type": "scattergeo"
           }
          ],
          "scattergl": [
           {
            "marker": {
             "colorbar": {
              "outlinewidth": 0,
              "ticks": ""
             }
            },
            "type": "scattergl"
           }
          ],
          "scattermapbox": [
           {
            "marker": {
             "colorbar": {
              "outlinewidth": 0,
              "ticks": ""
             }
            },
            "type": "scattermapbox"
           }
          ],
          "scatterpolar": [
           {
            "marker": {
             "colorbar": {
              "outlinewidth": 0,
              "ticks": ""
             }
            },
            "type": "scatterpolar"
           }
          ],
          "scatterpolargl": [
           {
            "marker": {
             "colorbar": {
              "outlinewidth": 0,
              "ticks": ""
             }
            },
            "type": "scatterpolargl"
           }
          ],
          "scatterternary": [
           {
            "marker": {
             "colorbar": {
              "outlinewidth": 0,
              "ticks": ""
             }
            },
            "type": "scatterternary"
           }
          ],
          "surface": [
           {
            "colorbar": {
             "outlinewidth": 0,
             "ticks": ""
            },
            "colorscale": [
             [
              0,
              "#0d0887"
             ],
             [
              0.1111111111111111,
              "#46039f"
             ],
             [
              0.2222222222222222,
              "#7201a8"
             ],
             [
              0.3333333333333333,
              "#9c179e"
             ],
             [
              0.4444444444444444,
              "#bd3786"
             ],
             [
              0.5555555555555556,
              "#d8576b"
             ],
             [
              0.6666666666666666,
              "#ed7953"
             ],
             [
              0.7777777777777778,
              "#fb9f3a"
             ],
             [
              0.8888888888888888,
              "#fdca26"
             ],
             [
              1,
              "#f0f921"
             ]
            ],
            "type": "surface"
           }
          ],
          "table": [
           {
            "cells": {
             "fill": {
              "color": "#EBF0F8"
             },
             "line": {
              "color": "white"
             }
            },
            "header": {
             "fill": {
              "color": "#C8D4E3"
             },
             "line": {
              "color": "white"
             }
            },
            "type": "table"
           }
          ]
         },
         "layout": {
          "annotationdefaults": {
           "arrowcolor": "#2a3f5f",
           "arrowhead": 0,
           "arrowwidth": 1
          },
          "autotypenumbers": "strict",
          "coloraxis": {
           "colorbar": {
            "outlinewidth": 0,
            "ticks": ""
           }
          },
          "colorscale": {
           "diverging": [
            [
             0,
             "#8e0152"
            ],
            [
             0.1,
             "#c51b7d"
            ],
            [
             0.2,
             "#de77ae"
            ],
            [
             0.3,
             "#f1b6da"
            ],
            [
             0.4,
             "#fde0ef"
            ],
            [
             0.5,
             "#f7f7f7"
            ],
            [
             0.6,
             "#e6f5d0"
            ],
            [
             0.7,
             "#b8e186"
            ],
            [
             0.8,
             "#7fbc41"
            ],
            [
             0.9,
             "#4d9221"
            ],
            [
             1,
             "#276419"
            ]
           ],
           "sequential": [
            [
             0,
             "#0d0887"
            ],
            [
             0.1111111111111111,
             "#46039f"
            ],
            [
             0.2222222222222222,
             "#7201a8"
            ],
            [
             0.3333333333333333,
             "#9c179e"
            ],
            [
             0.4444444444444444,
             "#bd3786"
            ],
            [
             0.5555555555555556,
             "#d8576b"
            ],
            [
             0.6666666666666666,
             "#ed7953"
            ],
            [
             0.7777777777777778,
             "#fb9f3a"
            ],
            [
             0.8888888888888888,
             "#fdca26"
            ],
            [
             1,
             "#f0f921"
            ]
           ],
           "sequentialminus": [
            [
             0,
             "#0d0887"
            ],
            [
             0.1111111111111111,
             "#46039f"
            ],
            [
             0.2222222222222222,
             "#7201a8"
            ],
            [
             0.3333333333333333,
             "#9c179e"
            ],
            [
             0.4444444444444444,
             "#bd3786"
            ],
            [
             0.5555555555555556,
             "#d8576b"
            ],
            [
             0.6666666666666666,
             "#ed7953"
            ],
            [
             0.7777777777777778,
             "#fb9f3a"
            ],
            [
             0.8888888888888888,
             "#fdca26"
            ],
            [
             1,
             "#f0f921"
            ]
           ]
          },
          "colorway": [
           "#636efa",
           "#EF553B",
           "#00cc96",
           "#ab63fa",
           "#FFA15A",
           "#19d3f3",
           "#FF6692",
           "#B6E880",
           "#FF97FF",
           "#FECB52"
          ],
          "font": {
           "color": "#2a3f5f"
          },
          "geo": {
           "bgcolor": "white",
           "lakecolor": "white",
           "landcolor": "#E5ECF6",
           "showlakes": true,
           "showland": true,
           "subunitcolor": "white"
          },
          "hoverlabel": {
           "align": "left"
          },
          "hovermode": "closest",
          "mapbox": {
           "style": "light"
          },
          "paper_bgcolor": "white",
          "plot_bgcolor": "#E5ECF6",
          "polar": {
           "angularaxis": {
            "gridcolor": "white",
            "linecolor": "white",
            "ticks": ""
           },
           "bgcolor": "#E5ECF6",
           "radialaxis": {
            "gridcolor": "white",
            "linecolor": "white",
            "ticks": ""
           }
          },
          "scene": {
           "xaxis": {
            "backgroundcolor": "#E5ECF6",
            "gridcolor": "white",
            "gridwidth": 2,
            "linecolor": "white",
            "showbackground": true,
            "ticks": "",
            "zerolinecolor": "white"
           },
           "yaxis": {
            "backgroundcolor": "#E5ECF6",
            "gridcolor": "white",
            "gridwidth": 2,
            "linecolor": "white",
            "showbackground": true,
            "ticks": "",
            "zerolinecolor": "white"
           },
           "zaxis": {
            "backgroundcolor": "#E5ECF6",
            "gridcolor": "white",
            "gridwidth": 2,
            "linecolor": "white",
            "showbackground": true,
            "ticks": "",
            "zerolinecolor": "white"
           }
          },
          "shapedefaults": {
           "line": {
            "color": "#2a3f5f"
           }
          },
          "ternary": {
           "aaxis": {
            "gridcolor": "white",
            "linecolor": "white",
            "ticks": ""
           },
           "baxis": {
            "gridcolor": "white",
            "linecolor": "white",
            "ticks": ""
           },
           "bgcolor": "#E5ECF6",
           "caxis": {
            "gridcolor": "white",
            "linecolor": "white",
            "ticks": ""
           }
          },
          "title": {
           "x": 0.05
          },
          "xaxis": {
           "automargin": true,
           "gridcolor": "white",
           "linecolor": "white",
           "ticks": "",
           "title": {
            "standoff": 15
           },
           "zerolinecolor": "white",
           "zerolinewidth": 2
          },
          "yaxis": {
           "automargin": true,
           "gridcolor": "white",
           "linecolor": "white",
           "ticks": "",
           "title": {
            "standoff": 15
           },
           "zerolinecolor": "white",
           "zerolinewidth": 2
          }
         }
        },
        "title": {
         "text": "Median Time at Berth at Principal Ports"
        },
        "width": 1000,
        "xaxis": {
         "anchor": "y",
         "domain": [
          0,
          1
         ],
         "title": {
          "text": "month"
         }
        },
        "yaxis": {
         "anchor": "x",
         "domain": [
          0,
          1
         ],
         "title": {
          "text": "time_at_berth_avg"
         }
        }
       }
      }
     },
     "metadata": {},
     "output_type": "display_data"
    }
   ],
   "source": [
    "px.line(\n",
    "    #data with month in dt format\n",
    "    monthly_df\n",
    "    #restrict to top 5 ports\n",
    "    .filter(pl.col('port_name').is_in(top5ports))\n",
    "    #month in dt format\n",
    "    .with_columns(pl.col('month').str.strptime(pl.Date, format='%Y%m'))\n",
    "    .sort(by='month'), \n",
    "    #plot specs\n",
    "    x='month', y='time_at_berth_avg', color='port_name',\n",
    "    title='Median Time at Berth at Principal Ports',\n",
    "    width=1000,\n",
    "    height=500 \n",
    ")"
   ]
  },
  {
   "cell_type": "code",
   "execution_count": null,
   "metadata": {},
   "outputs": [],
   "source": []
  }
 ],
 "metadata": {
  "kernelspec": {
   "display_name": "wsu",
   "language": "python",
   "name": "python3"
  },
  "language_info": {
   "codemirror_mode": {
    "name": "ipython",
    "version": 3
   },
   "file_extension": ".py",
   "mimetype": "text/x-python",
   "name": "python",
   "nbconvert_exporter": "python",
   "pygments_lexer": "ipython3",
   "version": "3.12.0"
  }
 },
 "nbformat": 4,
 "nbformat_minor": 2
}
