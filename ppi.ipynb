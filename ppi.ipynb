{
 "cells": [
  {
   "cell_type": "markdown",
   "metadata": {},
   "source": [
    "# Port Performance Index Project - Main Notebook\n",
    "\n",
    "This notebook presents the primary data analysis related to the PPI Project; see the README and other files in the [repo](https://github.com/epistemetrica/Port-Performance-Project) for full details. \n",
    "\n",
    "## Data Processing\n",
    "\n",
    "AIS data is ingested from the Marine Cadastre database via the scripts found in the vessel data folder. Here, we combine the AIS data with port-level data and prepare for analysis. "
   ]
  },
  {
   "cell_type": "code",
   "execution_count": 5,
   "metadata": {},
   "outputs": [],
   "source": [
    "#prelims\n",
    "import polars as pl\n",
    "import pandas as pd\n",
    "\n",
    "#enable string cache for polars categoricals\n",
    "pl.enable_string_cache()\n",
    "#display settings\n",
    "pd.set_option('display.max_columns', None)\n",
    "pd.set_option('display.max_rows', None)\n",
    "pl.Config(tbl_rows=200);"
   ]
  },
  {
   "cell_type": "markdown",
   "metadata": {},
   "source": [
    "### AIS Data\n",
    "\n",
    "The vessel locations and status (e.g., \"under way\", \"anchored\", \"moored\") data include all AIS messages; for the purposes of the PPI, we only need to know when a vessel *changes* status, so all other observations are dropped. \n",
    "\n",
    "We also limit the data for the PPI to vessels over 100m in length. "
   ]
  },
  {
   "cell_type": "code",
   "execution_count": 12,
   "metadata": {},
   "outputs": [],
   "source": [
    "ais_lf = (\n",
    "    #read into lazyframe\n",
    "    pl.scan_parquet('AIS data ingestion/data/ais_clean/*.parquet')\n",
    "    #drop smaller vessels\n",
    "    .filter(pl.col('length')>100)\n",
    "    #sort by vessel and time\n",
    "    .sort(['mmsi', 'time'])\n",
    "    #indicate whether status is the same as previous row (Fill value needed to avoid status 0 evaluating as equal to false)\n",
    "    .with_columns(\n",
    "        status_change = (\n",
    "            pl.col('status').ne(pl.col('status').shift(fill_value=20))\n",
    "            .over('mmsi')\n",
    "        )\n",
    "    )\n",
    "    #keep only new status pings\n",
    "    .filter(pl.col('status_change')==True)\n",
    "    #drop change col\n",
    "    .drop('status_change')\n",
    ")"
   ]
  },
  {
   "cell_type": "markdown",
   "metadata": {},
   "source": [
    "### Port and Dock Data\n",
    "\n",
    "Locations and descriptions for each dock and port come from the BTS and USACE online databases. "
   ]
  },
  {
   "cell_type": "code",
   "execution_count": 8,
   "metadata": {},
   "outputs": [],
   "source": [
    "#load port data\n",
    "ports_df = (\n",
    "    #read csv\n",
    "    pl.read_csv('port data/Principal_Ports.csv')\n",
    "    #select cols of interest\n",
    "    .select('X','Y','FID','PORT','TYPE','PORT_NAME','RANK','TOTAL')\n",
    ")\n",
    "#load docks and anchorages\n",
    "docks_df = (\n",
    "    #read csv\n",
    "    pl.read_csv('port data/docks.csv', null_values=' ', infer_schema_length=0)\n",
    "    #select cols of interest\n",
    "    .select('FID','LONGITUDE','LATITUDE','NAV_UNIT_I','UNLOCODE','NAV_UNIT_N',\n",
    "            'FACILITY_T','CITY_OR_TO','STATE_POST','WTWY_NAME','PORT_NAME',\n",
    "            'LOCATION','DOCK')\n",
    ")"
   ]
  }
 ],
 "metadata": {
  "kernelspec": {
   "display_name": "wsu",
   "language": "python",
   "name": "python3"
  },
  "language_info": {
   "codemirror_mode": {
    "name": "ipython",
    "version": 3
   },
   "file_extension": ".py",
   "mimetype": "text/x-python",
   "name": "python",
   "nbconvert_exporter": "python",
   "pygments_lexer": "ipython3",
   "version": "3.12.0"
  }
 },
 "nbformat": 4,
 "nbformat_minor": 2
}
