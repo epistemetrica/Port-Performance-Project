{
 "cells": [
  {
   "cell_type": "markdown",
   "metadata": {},
   "source": [
    "# Port Performance Dashboard App\n",
    "\n",
    "This notebook developes the visulizations and Dash App for the [Port Performance Project](https://github.com/epistemetrica/Port-Performance-Project). \n",
    "\n",
    "Basic draft of app:\n",
    "- National-level visualizations are displayed by default\n",
    "    - users can select the date range via sliders\n",
    "- Users may select a given port\n",
    "    - drop down selection to start\n",
    "    - hopefully clicking on a port from the national map could serve the same UI function\n",
    "- For a selected port:\n",
    "    - default visualizations are presented\n",
    "    - users have option to generate custom visualizations based on their selection of date range, metric (hrs at berth, vessel size, etc), stat (mean, median, etc), and other options to be developed. "
   ]
  },
  {
   "cell_type": "code",
   "execution_count": 100,
   "metadata": {},
   "outputs": [],
   "source": [
    "#prelims\n",
    "import numpy as np\n",
    "import pandas as pd\n",
    "import geopandas as gpd\n",
    "import polars as pl\n",
    "import plotly.express as px\n",
    "import datetime as dt\n",
    "from dateutil.relativedelta import relativedelta\n",
    "import dash\n",
    "from dash import dcc, html\n",
    "from dash.dependencies import Input, Output\n",
    "\n",
    "#display settings\n",
    "pd.set_option('display.max_columns', None)\n",
    "pd.set_option('display.max_rows', None)\n",
    "pl.Config(tbl_rows=100);"
   ]
  },
  {
   "cell_type": "markdown",
   "metadata": {},
   "source": [
    "## Load Data\n",
    "\n",
    "The data used in the app is a dataframe with reach row corresponding to a port call, including data such as port, dock, and vessel info, time of arrival, hours at berth and at anchor, time in port waters, etc. \n",
    "\n",
    "NOTE this data is currently processed in the geodata_prep notebook followed by the port_stats notebook; final versions of this project may distill that down to a single data preparation step. "
   ]
  },
  {
   "cell_type": "code",
   "execution_count": 101,
   "metadata": {},
   "outputs": [
    {
     "data": {
      "text/html": [
       "<div><style>\n",
       ".dataframe > thead > tr,\n",
       ".dataframe > tbody > tr {\n",
       "  text-align: right;\n",
       "  white-space: pre-wrap;\n",
       "}\n",
       "</style>\n",
       "<small>shape: (9, 21)</small><table border=\"1\" class=\"dataframe\"><thead><tr><th>statistic</th><th>call_id</th><th>port_name</th><th>port_lat</th><th>port_lon</th><th>dock_name</th><th>dock_id</th><th>facility_type</th><th>dock_lat</th><th>dock_lon</th><th>imo</th><th>vessel_size</th><th>time_port_entry</th><th>time_arrival</th><th>time_departure</th><th>time_port_exit</th><th>hrs_at_berth</th><th>hrs_at_anchor</th><th>hrs_to_dock</th><th>hrs_in_port_after_dock</th><th>hrs_in_port_waters</th></tr><tr><td>str</td><td>str</td><td>str</td><td>f64</td><td>f64</td><td>str</td><td>str</td><td>str</td><td>f64</td><td>f64</td><td>f64</td><td>f64</td><td>str</td><td>str</td><td>str</td><td>str</td><td>f64</td><td>f64</td><td>f64</td><td>f64</td><td>f64</td></tr></thead><tbody><tr><td>&quot;count&quot;</td><td>&quot;146488&quot;</td><td>&quot;146488&quot;</td><td>146488.0</td><td>146488.0</td><td>&quot;146488&quot;</td><td>&quot;146488&quot;</td><td>&quot;146133&quot;</td><td>146488.0</td><td>146488.0</td><td>146488.0</td><td>146488.0</td><td>&quot;146488&quot;</td><td>&quot;146488&quot;</td><td>&quot;146488&quot;</td><td>&quot;146488&quot;</td><td>146488.0</td><td>146488.0</td><td>146488.0</td><td>146488.0</td><td>146488.0</td></tr><tr><td>&quot;null_count&quot;</td><td>&quot;0&quot;</td><td>&quot;0&quot;</td><td>0.0</td><td>0.0</td><td>&quot;0&quot;</td><td>&quot;0&quot;</td><td>&quot;355&quot;</td><td>0.0</td><td>0.0</td><td>0.0</td><td>0.0</td><td>&quot;0&quot;</td><td>&quot;0&quot;</td><td>&quot;0&quot;</td><td>&quot;0&quot;</td><td>0.0</td><td>0.0</td><td>0.0</td><td>0.0</td><td>0.0</td></tr><tr><td>&quot;mean&quot;</td><td>null</td><td>null</td><td>32.32609</td><td>-94.609283</td><td>null</td><td>null</td><td>null</td><td>32.326194</td><td>-94.608303</td><td>1.0145e7</td><td>207.268527</td><td>&quot;2021-06-07 05:30:12.034630&quot;</td><td>&quot;2021-06-07 17:03:22.014062&quot;</td><td>&quot;2021-06-09 21:58:21.931659&quot;</td><td>&quot;2021-06-10 03:12:20.055758&quot;</td><td>47.831807</td><td>8.354447</td><td>11.544853</td><td>5.225082</td><td>69.694045</td></tr><tr><td>&quot;std&quot;</td><td>null</td><td>null</td><td>6.918495</td><td>20.728085</td><td>null</td><td>null</td><td>null</td><td>6.918757</td><td>20.728437</td><td>2.6607e7</td><td>58.810358</td><td>null</td><td>null</td><td>null</td><td>null</td><td>62.675238</td><td>28.97474</td><td>36.133365</td><td>41.271337</td><td>95.772879</td></tr><tr><td>&quot;min&quot;</td><td>&quot;0_Corpus Christi, TX_2020-04-0…</td><td>&quot;Albany Port District, NY&quot;</td><td>17.938939</td><td>-166.549916</td><td>&quot;ADM Corpus Christi Grain Eleva…</td><td>&quot;00XE&quot;</td><td>&quot;Anchorage&quot;</td><td>17.936081</td><td>-166.53444</td><td>0.0</td><td>101.0</td><td>&quot;2018-01-01 00:35:19&quot;</td><td>&quot;2018-01-01 00:35:19&quot;</td><td>&quot;2018-01-01 04:23:54&quot;</td><td>&quot;2018-01-01 09:15:57&quot;</td><td>0.083333</td><td>0.0</td><td>0.0</td><td>0.0</td><td>0.133333</td></tr><tr><td>&quot;25%&quot;</td><td>null</td><td>null</td><td>28.629389</td><td>-118.2095</td><td>null</td><td>null</td><td>null</td><td>28.645767</td><td>-118.21083</td><td>9.295397e6</td><td>176.0</td><td>&quot;2019-08-27 09:40:39&quot;</td><td>&quot;2019-08-27 17:30:51&quot;</td><td>&quot;2019-08-29 21:19:05&quot;</td><td>&quot;2019-08-30 01:38:50&quot;</td><td>16.55</td><td>0.0</td><td>2.666667</td><td>2.15</td><td>25.8</td></tr><tr><td>&quot;50%&quot;</td><td>null</td><td>null</td><td>30.69123</td><td>-90.085256</td><td>null</td><td>null</td><td>null</td><td>30.707675</td><td>-90.105844</td><td>9.401128e6</td><td>190.0</td><td>&quot;2021-07-19 00:59:38&quot;</td><td>&quot;2021-07-19 14:22:59&quot;</td><td>&quot;2021-07-22 01:57:56&quot;</td><td>&quot;2021-07-22 07:16:28&quot;</td><td>30.966667</td><td>0.0</td><td>3.516667</td><td>2.783333</td><td>43.766667</td></tr><tr><td>&quot;75%&quot;</td><td>null</td><td>null</td><td>36.86642</td><td>-80.117801</td><td>null</td><td>null</td><td>null</td><td>36.875896</td><td>-80.114322</td><td>9.612882e6</td><td>230.0</td><td>&quot;2023-02-27 09:23:38&quot;</td><td>&quot;2023-02-27 17:39:00&quot;</td><td>&quot;2023-03-02 01:31:11&quot;</td><td>&quot;2023-03-02 06:10:50&quot;</td><td>57.016667</td><td>0.0</td><td>5.366667</td><td>3.533333</td><td>80.7</td></tr><tr><td>&quot;max&quot;</td><td>&quot;9992268_Morehead City, NC_2024…</td><td>&quot;Wilmington, NC&quot;</td><td>61.23778</td><td>-66.096678</td><td>&quot;YUSEN TERMINALS BERTHS 212-221&quot;</td><td>&quot;1JHK&quot;</td><td>&quot;Open Water&quot;</td><td>61.24306</td><td>-66.086926</td><td>9.800025e8</td><td>667.0</td><td>&quot;2024-09-30 12:54:53&quot;</td><td>&quot;2024-09-30 16:32:15&quot;</td><td>&quot;2024-09-30 21:54:12&quot;</td><td>&quot;2024-09-30 22:57:53&quot;</td><td>1365.033333</td><td>246.2</td><td>2152.533333</td><td>3560.95</td><td>4453.8</td></tr></tbody></table></div>"
      ],
      "text/plain": [
       "shape: (9, 21)\n",
       "┌───────────┬───────────┬───────────┬───────────┬───┬───────────┬───────────┬───────────┬──────────┐\n",
       "│ statistic ┆ call_id   ┆ port_name ┆ port_lat  ┆ … ┆ hrs_at_an ┆ hrs_to_do ┆ hrs_in_po ┆ hrs_in_p │\n",
       "│ ---       ┆ ---       ┆ ---       ┆ ---       ┆   ┆ chor      ┆ ck        ┆ rt_after_ ┆ ort_wate │\n",
       "│ str       ┆ str       ┆ str       ┆ f64       ┆   ┆ ---       ┆ ---       ┆ dock      ┆ rs       │\n",
       "│           ┆           ┆           ┆           ┆   ┆ f64       ┆ f64       ┆ ---       ┆ ---      │\n",
       "│           ┆           ┆           ┆           ┆   ┆           ┆           ┆ f64       ┆ f64      │\n",
       "╞═══════════╪═══════════╪═══════════╪═══════════╪═══╪═══════════╪═══════════╪═══════════╪══════════╡\n",
       "│ count     ┆ 146488    ┆ 146488    ┆ 146488.0  ┆ … ┆ 146488.0  ┆ 146488.0  ┆ 146488.0  ┆ 146488.0 │\n",
       "│ null_coun ┆ 0         ┆ 0         ┆ 0.0       ┆ … ┆ 0.0       ┆ 0.0       ┆ 0.0       ┆ 0.0      │\n",
       "│ t         ┆           ┆           ┆           ┆   ┆           ┆           ┆           ┆          │\n",
       "│ mean      ┆ null      ┆ null      ┆ 32.32609  ┆ … ┆ 8.354447  ┆ 11.544853 ┆ 5.225082  ┆ 69.69404 │\n",
       "│           ┆           ┆           ┆           ┆   ┆           ┆           ┆           ┆ 5        │\n",
       "│ std       ┆ null      ┆ null      ┆ 6.918495  ┆ … ┆ 28.97474  ┆ 36.133365 ┆ 41.271337 ┆ 95.77287 │\n",
       "│           ┆           ┆           ┆           ┆   ┆           ┆           ┆           ┆ 9        │\n",
       "│ min       ┆ 0_Corpus  ┆ Albany    ┆ 17.938939 ┆ … ┆ 0.0       ┆ 0.0       ┆ 0.0       ┆ 0.133333 │\n",
       "│           ┆ Christi,  ┆ Port      ┆           ┆   ┆           ┆           ┆           ┆          │\n",
       "│           ┆ TX_2020-0 ┆ District, ┆           ┆   ┆           ┆           ┆           ┆          │\n",
       "│           ┆ 4-0…      ┆ NY        ┆           ┆   ┆           ┆           ┆           ┆          │\n",
       "│ 25%       ┆ null      ┆ null      ┆ 28.629389 ┆ … ┆ 0.0       ┆ 2.666667  ┆ 2.15      ┆ 25.8     │\n",
       "│ 50%       ┆ null      ┆ null      ┆ 30.69123  ┆ … ┆ 0.0       ┆ 3.516667  ┆ 2.783333  ┆ 43.76666 │\n",
       "│           ┆           ┆           ┆           ┆   ┆           ┆           ┆           ┆ 7        │\n",
       "│ 75%       ┆ null      ┆ null      ┆ 36.86642  ┆ … ┆ 0.0       ┆ 5.366667  ┆ 3.533333  ┆ 80.7     │\n",
       "│ max       ┆ 9992268_M ┆ Wilmingto ┆ 61.23778  ┆ … ┆ 246.2     ┆ 2152.5333 ┆ 3560.95   ┆ 4453.8   │\n",
       "│           ┆ orehead   ┆ n, NC     ┆           ┆   ┆           ┆ 33        ┆           ┆          │\n",
       "│           ┆ City,     ┆           ┆           ┆   ┆           ┆           ┆           ┆          │\n",
       "│           ┆ NC_2024…  ┆           ┆           ┆   ┆           ┆           ┆           ┆          │\n",
       "└───────────┴───────────┴───────────┴───────────┴───┴───────────┴───────────┴───────────┴──────────┘"
      ]
     },
     "execution_count": 101,
     "metadata": {},
     "output_type": "execute_result"
    }
   ],
   "source": [
    "#load calls data\n",
    "calls_df = pl.read_parquet('calls.parquet')\n",
    "#inspect data\n",
    "calls_df.describe()"
   ]
  },
  {
   "cell_type": "markdown",
   "metadata": {},
   "source": [
    "#### Init variables"
   ]
  },
  {
   "cell_type": "code",
   "execution_count": 102,
   "metadata": {},
   "outputs": [],
   "source": [
    "#get date bounds\n",
    "earliest_date = calls_df['time_arrival'].min().date()\n",
    "latest_date = calls_df['time_arrival'].max().date()"
   ]
  },
  {
   "cell_type": "markdown",
   "metadata": {},
   "source": [
    "## Define DataFrame-generating functions\n",
    "\n",
    "From the main calls dataframe, we generate various statistics such as average visits per month, maximum vessel size per dock, etc. Based on user inputs or defaults, we use these resulting dataframes to generate visualizations. "
   ]
  },
  {
   "cell_type": "code",
   "execution_count": 103,
   "metadata": {},
   "outputs": [],
   "source": [
    "def port_stats(ports=None, time_group='month',\n",
    "                        start_date=earliest_date, end_date=latest_date):\n",
    "    #NOTE need to combine all time with these time_group stats\n",
    "    #set df\n",
    "    df = calls_df\n",
    "    #filter by ports if specified\n",
    "    if ports:\n",
    "        df = df.filter(pl.col('port_name').is_in(ports))\n",
    "    #create monthly stats\n",
    "    df = (\n",
    "        calls_df\n",
    "        #filter by date\n",
    "        .filter((pl.col('time_arrival') >= start_date) & \n",
    "                (pl.col('time_arrival') <= end_date))\n",
    "        #get month from docking time\n",
    "        .with_columns(\n",
    "            #extract month from docking time\n",
    "            month = pl.col('time_arrival').dt.strftime('%Y%m')\n",
    "        )\n",
    "        #group by port and month\n",
    "        .group_by(['port_name', 'port_lat', 'port_lon',  \n",
    "                time_group])\n",
    "        .agg(\n",
    "            vessel_ft_sum = pl.sum('vessel_size')*3.28,\n",
    "            hrs_at_berth_sum = pl.sum('hrs_at_berth'),\n",
    "        )\n",
    "        #group by port\n",
    "        .group_by(['port_name', 'port_lat', 'port_lon'])\n",
    "        .agg(\n",
    "            #average vessel-ft per month\n",
    "            pl.mean('vessel_ft_sum').alias(f'vessel_ft_mean_{time_group}'),\n",
    "            #average hrs at berth per month\n",
    "            pl.mean('hrs_at_berth_sum').alias(f'hrs_at_berth_mean_{time_group}'),\n",
    "        )\n",
    "    )\n",
    "    return df"
   ]
  },
  {
   "cell_type": "code",
   "execution_count": 143,
   "metadata": {},
   "outputs": [],
   "source": [
    "def dock_stats(ports=None, time_group='month',\n",
    "                        start_date=earliest_date, end_date=latest_date):\n",
    "    #NOTE need to combine all time with these time_group stats\n",
    "    #set df\n",
    "    df = calls_df\n",
    "    #filter by ports if specified\n",
    "    if ports is not None:\n",
    "        df = df.filter(pl.col('port_name').is_in(ports))\n",
    "    #create monthly stats\n",
    "    df = (\n",
    "        df\n",
    "        #filter by date\n",
    "        .filter((pl.col('time_arrival') >= start_date) & \n",
    "                (pl.col('time_arrival') <= end_date))\n",
    "        #get month from docking time\n",
    "        .with_columns(\n",
    "            #extract month from docking time\n",
    "            month = pl.col('time_arrival').dt.strftime('%Y%m')\n",
    "        )\n",
    "        #group by port and month\n",
    "        .group_by(['dock_name', 'dock_lat', 'dock_lon',  \n",
    "                time_group])\n",
    "        .agg(\n",
    "            vessel_ft_sum = pl.sum('vessel_size')*3.28,\n",
    "            hrs_at_berth_sum = pl.sum('hrs_at_berth'),\n",
    "        )\n",
    "        #group by port\n",
    "        .group_by(['dock_name', 'dock_lat', 'dock_lon'])\n",
    "        .agg(\n",
    "            #average vessel-ft per month\n",
    "            pl.mean('vessel_ft_sum').alias(f'vessel_ft_mean_{time_group}'),\n",
    "            #average hrs at berth per month\n",
    "            pl.mean('hrs_at_berth_sum').alias(f'hrs_at_berth_mean_{time_group}'),\n",
    "        )\n",
    "    )\n",
    "    return df"
   ]
  },
  {
   "cell_type": "code",
   "execution_count": 132,
   "metadata": {},
   "outputs": [],
   "source": [
    "def port_time_stats(time_group='month', earliest_date=earliest_date,\n",
    "                    latest_date=latest_date):\n",
    "    '''\n",
    "    Function to calculate port stats for each time group\n",
    "    Args:\n",
    "        time_group (str): time group to use for stats. Options are 'month' or 'year'\n",
    "    Returns:\n",
    "        df (polars.DataFrame): DataFrame with port time stats\n",
    "    '''\n",
    "    df = (\n",
    "        calls_df\n",
    "        #filter by date\n",
    "        .filter((pl.col('time_arrival') >= earliest_date) & \n",
    "                (pl.col('time_arrival') <= latest_date))\n",
    "        #get month from docking time\n",
    "        .with_columns(\n",
    "            #extract month and year from docking time\n",
    "            month = pl.col('time_arrival').dt.date().dt.month_start(),\n",
    "            year = pl.col('time_arrival').dt.year(),\n",
    "        )\n",
    "        #group by port and month\n",
    "        .group_by(['port_name', 'port_lat', 'port_lon', time_group])\n",
    "        .agg(\n",
    "            #count number of vessels\n",
    "            vessels = pl.n_unique('imo'),\n",
    "            #mean vessel size\n",
    "            vessel_size_mean = pl.mean('vessel_size'),\n",
    "            #count number of vessel calls\n",
    "            calls = pl.n_unique('call_id'),\n",
    "            #time at dock stats for each vessel in hours\n",
    "            hrs_occupied = pl.sum('hrs_at_berth'),\n",
    "            hrs_at_berth_median = pl.median('hrs_at_berth'),\n",
    "            hrs_at_berth_mean = pl.mean('hrs_at_berth'),\n",
    "            #time at anchor stats for each vessel visit in hours\n",
    "            hrs_at_anchor_median = pl.median('hrs_at_anchor'),\n",
    "            hrs_at_anchor_mean = pl.mean('hrs_at_anchor'),\n",
    "            #time in port waters \n",
    "            hrs_in_port_waters_total = pl.sum('hrs_in_port_waters'),\n",
    "            hrs_in_port_waters_mean = pl.mean('hrs_in_port_waters'),\n",
    "            hrs_in_port_waters_median = pl.median('hrs_in_port_waters')\n",
    "        )\n",
    "        #sort by port name and time group\n",
    "        .sort(['port_name', time_group])\n",
    "    )\n",
    "    return df"
   ]
  },
  {
   "cell_type": "code",
   "execution_count": 106,
   "metadata": {},
   "outputs": [],
   "source": [
    "def port_dock_time_stats(ports=None):\n",
    "    #NOTE refactor to allow user defined groupings and filter by port\n",
    "    df = (\n",
    "        calls_df\n",
    "        #get month from docking time\n",
    "        .with_columns(\n",
    "            #extract month from docking time\n",
    "            month = pl.col('time_arrival').dt.strftime('%Y%m')\n",
    "        )\n",
    "        #group by port dock and month\n",
    "        .group_by(['port_name', 'port_lat', 'port_lon', \n",
    "                'dock_id', 'dock_name', 'dock_lat', 'dock_lon', \n",
    "                'month'])\n",
    "        .agg(\n",
    "            #count number of vessels\n",
    "            vessels = pl.n_unique('imo'),\n",
    "            #mean vessel size\n",
    "            vessel_size_mean = pl.mean('vessel_size'),\n",
    "            #count number of vessel calls\n",
    "            calls = pl.n_unique('call_id'),\n",
    "            #time at dock stats for each vessel in hours\n",
    "            hrs_occupied = pl.sum('hrs_at_berth'),\n",
    "            hrs_at_berth_median = pl.median('hrs_at_berth'),\n",
    "            hrs_at_berth_mean = pl.mean('hrs_at_berth'),\n",
    "            #time at anchor stats for each vessel visit in hours\n",
    "            hrs_at_anchor_median = pl.median('hrs_at_anchor'),\n",
    "            hrs_at_anchor_mean = pl.mean('hrs_at_anchor'),\n",
    "            #time in port waters \n",
    "            hrs_in_port_waters_total = pl.sum('hrs_in_port_waters'),\n",
    "            hrs_in_port_waters_mean = pl.mean('hrs_in_port_waters'),\n",
    "            hrs_in_port_waters_median = pl.median('hrs_in_port_waters')\n",
    "        )\n",
    "    )\n",
    "    return df"
   ]
  },
  {
   "cell_type": "markdown",
   "metadata": {},
   "source": [
    "## Visualization Functions"
   ]
  },
  {
   "cell_type": "code",
   "execution_count": 107,
   "metadata": {},
   "outputs": [],
   "source": [
    "def mapbox_zoom_finder(lons, lats, lon_pad=0, lat_pad=0):\n",
    "    \"\"\"\n",
    "    Calculates the optimal zoom level for a Plotly Mapbox plot.\n",
    "    Args:\n",
    "        lons (list): List of longitudes.\n",
    "        lats (list): List of latitudes.\n",
    "        lon_pad (float, optional): Padding to add to the longitude range. Defaults to 0.\n",
    "        lat_pad (float, optional): Padding to add to the latitude range. Defaults to 0.\n",
    "    Returns:\n",
    "        zoom (int): the calculated zoom level\n",
    "    \"\"\"\n",
    "    # Check if the lengths of lons and lats are equal and not empty\n",
    "    if len(lons) != len(lats) or len(lons) == 0:\n",
    "        return 10\n",
    "    # Calculate the maximum and minimum longitude and latitude\n",
    "    max_lon, min_lon = max(lons), min(lons)\n",
    "    max_lat, min_lat = max(lats), min(lats)\n",
    "    # Calculate the longitude and latitude ranges\n",
    "    lon_range = max_lon - min_lon\n",
    "    lat_range = max_lat - min_lat\n",
    "    # Calculate the zoom level based on the ranges\n",
    "    zoom = 7 - np.log2(max(lon_range + lon_pad, lat_range + lat_pad))\n",
    "    return zoom"
   ]
  },
  {
   "cell_type": "code",
   "execution_count": 108,
   "metadata": {},
   "outputs": [],
   "source": [
    "def plot_mapbox(df, lat_col, lon_col, size_col, color_col, title, zoom=None,\n",
    "                width=800, height=600, size_max=30, hover_name=None, range_color=None,\n",
    "                hover_data=None, mapbox_style='carto-positron', labels=None, \n",
    "                color_continuous_scale=None, color_outlier_z=None, center=None,\n",
    "                annotation=None):\n",
    "    \"\"\"\n",
    "    Plots a Mapbox scatter plot using Plotly.\n",
    "    Args:\n",
    "        df (pd.DataFrame): DataFrame containing the data to plot.\n",
    "        lat_col (str): Column name for latitude.\n",
    "        lon_col (str): Column name for longitude.\n",
    "        size_col (str): Column name for size.\n",
    "        color_col (str): Column name for color.\n",
    "        title (str): Title of the plot.\n",
    "        zoom (float, optional): Zoom level for the map. Defaults to None.\n",
    "        width (int, optional): Width of the plot. Defaults to 800.\n",
    "        height (int, optional): Height of the plot. Defaults to 600.\n",
    "        size_max (int, optional): Maximum size of the markers. Defaults to 30.\n",
    "        hover_name (str, optional): Column name for hover text. Defaults to None.\n",
    "        range_color (list, optional): Range for color scale. Defaults to None.\n",
    "        hover_data (list, optional): Additional data to show on hover. Defaults to None.\n",
    "        mapbox_style (str, optional): Mapbox style. Defaults to 'carto-positron'.\n",
    "        labels (dict, optional): Labels for the axes. Defaults to None.\n",
    "        color_continuous_scale (list, optional): Color scale for the plot. Defaults to None.\n",
    "        color_outlier_z (float, optional): Z-score threshold for outlier detection. Defaults to None.\n",
    "        center (dict, optional): Center of the map. Defaults to center of lat/lon columns when None.\n",
    "        annotation (dict, optional): Annotation for the plot. Defaults to None.\n",
    "    Returns:\n",
    "        None\n",
    "    \"\"\"\n",
    "    #Set default color scale if not provided\n",
    "    if not color_continuous_scale:\n",
    "        color_continuous_scale = px.colors.sequential.Viridis\n",
    "\n",
    "    # Set the zoom level automatically if not provided\n",
    "    if not zoom:\n",
    "        zoom = mapbox_zoom_finder(df[lon_col], df[lat_col])\n",
    "\n",
    "    #Set the center of the map if not provided\n",
    "    if not center:\n",
    "        center = {\n",
    "            'lat': ((df[lat_col].max() - df[lat_col].min()) / 2),\n",
    "            'lon': ((df[lon_col].max() - df[lon_col].min()) / 2)\n",
    "        }\n",
    "\n",
    "    #drop outliers if specified\n",
    "    if color_outlier_z:\n",
    "        #get color_col upper and lower limits based on z score\n",
    "        color_col_mean, color_col_std = df[color_col].mean(), df[color_col].std()\n",
    "        color_col_upper = color_col_mean + (color_col_std * color_outlier_z)\n",
    "        color_col_lower = color_col_mean - (color_col_std * color_outlier_z)\n",
    "        #set range color\n",
    "        range_color = [color_col_lower, color_col_upper]\n",
    "\n",
    "    # Create a scatter mapbox figure\n",
    "    fig = px.scatter_mapbox(\n",
    "        #data\n",
    "        df, lat=lat_col, lon=lon_col,\n",
    "        #categories\n",
    "        size=size_col, color=color_col,\n",
    "        #hover info\n",
    "        hover_name=hover_name, hover_data=hover_data,\n",
    "        #display settings\n",
    "        range_color=range_color, size_max=size_max,\n",
    "        color_continuous_scale=color_continuous_scale, mapbox_style=mapbox_style,\n",
    "        width=width, height=height,\n",
    "        #title and labals\n",
    "        title=title, labels=labels\n",
    "    )\n",
    "    # Set the zoom level\n",
    "    fig.update_layout(mapbox_zoom=zoom)\n",
    "\n",
    "    #NOTE Add annotation if specified\n",
    "\n",
    "    # Show the figure\n",
    "    fig.show()"
   ]
  },
  {
   "cell_type": "code",
   "execution_count": 75,
   "metadata": {},
   "outputs": [],
   "source": [
    "def plot_line(df, x_col, y_col, title, width=800, height=600,\n",
    "             color_col=None, hover_name=None, hover_data=None,\n",
    "             labels=None, color_continuous_scale=None):\n",
    "    \"\"\"\n",
    "    Plots a line chart using Plotly Express.\n",
    "    Args:\n",
    "        df (pd.DataFrame): DataFrame containing the data to plot.\n",
    "        x_col (str): Column name for x-axis.\n",
    "        y_col (str): Column name for y-axis.\n",
    "        title (str): Title of the plot.\n",
    "        width (int, optional): Width of the plot. Defaults to 800.\n",
    "        height (int, optional): Height of the plot. Defaults to 600.\n",
    "        color_col (str, optional): Column name for color. Defaults to None.\n",
    "        hover_name (str, optional): Column name for hover text. Defaults to None.\n",
    "        hover_data (list, optional): Additional data to show on hover. Defaults to None.\n",
    "        labels (dict, optional): Labels for the axes. Defaults to None.\n",
    "        color_continuous_scale (list, optional): Color scale for the plot. Defaults to None.\n",
    "    Returns:\n",
    "        None\n",
    "    \"\"\"\n",
    "    # Set default color scale if not provided\n",
    "    if not color_continuous_scale:\n",
    "        color_continuous_scale = px.colors.sequential.Viridis\n",
    "\n",
    "    # Create a line figure\n",
    "    fig = px.line(\n",
    "        df,\n",
    "        x=x_col,\n",
    "        y=y_col,\n",
    "        color=color_col,\n",
    "        title=title,\n",
    "        labels=labels,\n",
    "        hover_name=hover_name,\n",
    "        hover_data=hover_data,\n",
    "    )\n",
    "    # Set the width and height of the figure\n",
    "    fig.update_layout(width=width, height=height)\n",
    "\n",
    "    # Show the figure\n",
    "    fig.show()"
   ]
  },
  {
   "cell_type": "markdown",
   "metadata": {},
   "source": [
    "## Static Visualizations"
   ]
  },
  {
   "cell_type": "code",
   "execution_count": 125,
   "metadata": {},
   "outputs": [
    {
     "data": {
      "application/vnd.plotly.v1+json": {
       "config": {
        "plotlyServerURL": "https://plot.ly"
       },
       "data": [
        {
         "customdata": [
          [
           13630.546172839506,
           1471.45596707819,
           27.633680999999985,
           -82.56414299999996
          ],
          [
           2407.396999999999,
           370.28624999999994,
           42.64271000000003,
           -73.74816000000003
          ],
          [
           25580.639012345677,
           1168.396502057613,
           47.58771099999997,
           -122.35921800000041
          ],
          [
           59801.32444444446,
           4926.660288065844,
           30.69123000000003,
           -88.03583399999998
          ],
          [
           64579.96049382716,
           4418.082510288063,
           39.25082699999997,
           -76.56163999999995
          ],
          [
           32403.524938271607,
           2938.5335390946498,
           27.812769999999972,
           -97.39789000000025
          ],
          [
           33769.82716049382,
           2237.491975308641,
           29.36306800000003,
           -94.91809099999998
          ],
          [
           28282.063209876545,
           1213.8726337448559,
           34.22736499999998,
           -77.95049600000002
          ],
          [
           836.0467692307692,
           199.10717948717945,
           30.34801999999999,
           -88.55879000000003
          ],
          [
           25011.174320987648,
           1910.7277777777783,
           29.31048999999998,
           -94.81269999999991
          ],
          [
           974.5098666666663,
           181.07199999999997,
           30.106406000000028,
           -93.28683900000004
          ],
          [
           1168.0193103448278,
           116.43247126436779,
           30.133998000000016,
           -85.63376199999999
          ],
          [
           12808.399999999996,
           1217.5781893004114,
           39.715889999999966,
           -75.50696999999997
          ],
          [
           47542.34469135801,
           3409.5253086419752,
           29.914139999999975,
           -90.08525600000007
          ],
          [
           8480.986666666662,
           847.0335390946503,
           25.952201000000002,
           -97.3981380000001
          ],
          [
           1178.5742857142855,
           91.25119047619046,
           39.91882,
           -75.20219099999998
          ],
          [
           13529.074871794874,
           361.22735042735036,
           61.23778000000001,
           -149.8949999999996
          ],
          [
           1303.416170212766,
           28.03333333333333,
           41.172,
           -73.17886000000004
          ],
          [
           53553.20790123456,
           2215.294032921811,
           37.82152,
           -122.30810000000015
          ],
          [
           3013.1861728395065,
           457.7469135802468,
           21.323066000000015,
           -158.1136830000002
          ],
          [
           16754.48296296296,
           913.085802469136,
           28.96133000000003,
           -95.3707000000004
          ],
          [
           38877.47555555553,
           1293.4775720164607,
           25.78286200000004,
           -80.18164200000001
          ],
          [
           23651.31061728395,
           1236.212757201646,
           21.311110000000035,
           -157.87169999999958
          ],
          [
           11912.06913580247,
           865.5701646090537,
           26.76903999999999,
           -80.05267000000002
          ],
          [
           10641.008395061728,
           828.3843621399174,
           28.414089999999984,
           -80.60814999999997
          ],
          [
           4637.474567901233,
           359.2660493827163,
           47.98476000000001,
           -122.22940000000042
          ],
          [
           33882.521481481475,
           2813.458230452675,
           29.83141999999998,
           -93.9606899999997
          ],
          [
           26613.11012345679,
           1095.3693415637858,
           31.132425999999985,
           -81.53666000000001
          ],
          [
           21613.620740740746,
           1749.2808641975305,
           30.033449999999988,
           -90.61793999999985
          ],
          [
           10815.091358024692,
           833.6386831275721,
           39.846444999999974,
           -75.261085
          ],
          [
           8395.504197530863,
           654.5716049382717,
           41.29883000000003,
           -72.90473000000003
          ],
          [
           554.0676923076923,
           428.7833333333332,
           30.32275700000004,
           -81.66512500000005
          ],
          [
           70192.04049382717,
           3796.2502057613174,
           26.09339200000001,
           -80.11780099999996
          ],
          [
           12310.852345679012,
           1254.7448559670786,
           45.622440000000005,
           -122.68060000000018
          ],
          [
           11547.462716049382,
           330.86213991769546,
           42.34246800000003,
           -71.032029
          ],
          [
           92873.40246913584,
           6354.19794238683,
           33.73957000000002,
           -118.20950000000023
          ],
          [
           862.64,
           39.84444444444444,
           61.124730000000014,
           -146.3463999999997
          ],
          [
           2614.119506172839,
           183.1820987654321,
           44.45285,
           -68.92497000000002
          ],
          [
           6872.936296296291,
           485.41378600823043,
           28.62938900000002,
           -96.59232400000002
          ],
          [
           880.8706976744188,
           194.91240310077515,
           43.36350999999997,
           -124.20949999999986
          ],
          [
           7543.554567901234,
           295.5930041152264,
           30.35962100000001,
           -89.092568
          ],
          [
           5235.082469135802,
           668.8189300411519,
           34.71692999999996,
           -76.72421000000001
          ],
          [
           4130.20839506173,
           444.4419753086421,
           32.708209999999994,
           -117.17839999999974
          ],
          [
           6164.1449999999995,
           240.34218749999997,
           53.89418500000001,
           -166.5499160000001
          ],
          [
           11457.809382716054,
           485.6325102880658,
           32.78878099999997,
           -79.92159500000001
          ],
          [
           2991.2779999999993,
           587.4543749999997,
           38.56132299999998,
           -121.54154100000014
          ],
          [
           41158.452345679005,
           1423.8164609053497,
           18.432782999999972,
           -66.09667800000001
          ],
          [
           9843.360987654321,
           679.2333333333333,
           48.49594299999999,
           -122.59960999999971
          ],
          [
           21684.84938271605,
           1697.3072016460906,
           37.92423699999999,
           -122.37423299999986
          ],
          [
           30307.32148148149,
           2068.829835390946,
           32.08471099999998,
           -81.09538199999996
          ],
          [
           9270.049382716048,
           964.968106995885,
           18.43022100000003,
           -66.11114099999999
          ],
          [
           8843.163456790127,
           799.94670781893,
           30.422920000000016,
           -91.19933999999976
          ],
          [
           7728.003950617284,
           649.1930041152264,
           46.02659599999997,
           -122.86685999999972
          ],
          [
           7747.845925925923,
           455.3125514403294,
           43.64950999999999,
           -70.25133999999998
          ],
          [
           2260.986,
           185.0033333333333,
           43.073979999999985,
           -70.73805999999996
          ],
          [
           10326.533333333336,
           743.7347736625516,
           47.28966000000003,
           -122.45149999999964
          ],
          [
           14147.692839506175,
           1567.7524691358026,
           30.084871999999983,
           -94.09498499999985
          ],
          [
           20283.641481481478,
           1249.140534979424,
           40.67394899999999,
           -74.03835699999998
          ],
          [
           3815.611851851852,
           239.30349794238668,
           37.50535999999999,
           -122.21401199999977
          ],
          [
           30199.121975308633,
           5375.756172839506,
           29.74702299999999,
           -95.29367900000028
          ],
          [
           40781.25234567902,
           1488.5485596707822,
           36.86641999999996,
           -76.31174000000001
          ],
          [
           768.1163636363631,
           21.079292929292933,
           21.95248399999999,
           -159.35231900000005
          ],
          [
           20504.29234567901,
           868.0366255144038,
           34.14824399999996,
           -119.20847500000015
          ],
          [
           1641.64,
           31.449145299145286,
           20.898610000000005,
           -156.4727999999997
          ],
          [
           716.0239999999999,
           875.475,
           30.095369999999946,
           -93.7235599999998
          ],
          [
           9155.775802469132,
           1399.7286008230453,
           37.95270000000001,
           -121.31560000000034
          ],
          [
           68033.07160493825,
           5965.8170781892995,
           33.726635000000016,
           -118.26809900000029
          ],
          [
           8748.083950617282,
           883.606172839506,
           41.81177999999999,
           -71.39844000000004
          ],
          [
           1960.4236619718308,
           84.10821596244134,
           17.938939000000016,
           -66.15600200000002
          ],
          [
           1398.0999999999997,
           441.96927083333327,
           29.121944999999982,
           -90.20527900000023
          ]
         ],
         "hovertemplate": "<b>%{hovertext}</b><br><br>Vessel-Feet per Month=%{customdata[0]}<br>Dock Hours per Month=%{marker.color}<extra></extra>",
         "hovertext": [
          "Manatee County Port, FL",
          "Albany Port District, NY",
          "Seattle, WA",
          "Mobile, AL",
          "Baltimore, MD",
          "Corpus Christi, TX",
          "Texas City, TX",
          "Wilmington, NC",
          "Port of Pascagoula, MS",
          "Galveston, TX",
          "Lake Charles Harbor District, LA",
          "Panama City Port Authority, FL",
          "Wilmington, DE",
          "New Orleans, LA",
          "Brownsville, TX",
          "Philadelphia Regional Port, PA",
          "Port of Alaska, AK",
          "Bridgeport, CT",
          "Port of Oakland, CA",
          "Kalaeloa Barbers Point, HI",
          "Port Freeport, TX",
          "PortMiami, FL",
          "Honolulu, O'ahu, HI",
          "Port of Palm Beach District, FL",
          "Canaveral Port District, FL",
          "Port of Everett, WA",
          "Port Arthur, TX",
          "Port of Brunswick, GA",
          "South Louisiana, LA, Port of",
          "South Jersey Port Corp, NJ",
          "New Haven, CT",
          "Jacksonville, FL",
          "Port Everglades, FL",
          "Port of Vancouver USA, WA",
          "Boston, MA",
          "Port of Long Beach, CA",
          "Valdez, AK",
          "Searsport, ME",
          "Calhoun Port Authority, TX",
          "Coos Bay OR, Port of",
          "Port of Gulfport, MS",
          "Morehead City, NC",
          "San Diego Unified Port, CA",
          "Unalaska Island, AK",
          "Port of Charleston, SC",
          "Sacramento-Yolo Port, CA",
          "San Juan, PR",
          "Anacortes, WA",
          "Richmond, CA",
          "Port of Savannah, GA",
          "Guaynabo, PR",
          "Port of Greater Baton Rouge, LA",
          "Port of Kalama, WA",
          "Portland, ME",
          "Portsmouth, NH",
          "Tacoma, WA",
          "Beaumont, TX",
          "New York, NY & NJ",
          "Redwood City, CA",
          "Houston Port Authority, TX",
          "Virginia, VA, Port of",
          "Nawiliwili, Kaua'i, HI",
          "Oxnard Harbor District, CA",
          "Kahului, Maui, HI",
          "Orange County Nav District, TX",
          "Stockton, CA",
          "Port of Los Angeles, CA",
          "Port of Providence, RI",
          "Guayama, PR",
          "Greater Lafourche Port, LA"
         ],
         "lat": [
          27.633680999999985,
          42.64271000000003,
          47.58771099999997,
          30.69123000000003,
          39.25082699999997,
          27.812769999999972,
          29.36306800000003,
          34.22736499999998,
          30.34801999999999,
          29.31048999999998,
          30.106406000000028,
          30.133998000000016,
          39.715889999999966,
          29.914139999999975,
          25.952201000000002,
          39.91882,
          61.23778000000001,
          41.172,
          37.82152,
          21.323066000000015,
          28.96133000000003,
          25.78286200000004,
          21.311110000000035,
          26.76903999999999,
          28.414089999999984,
          47.98476000000001,
          29.83141999999998,
          31.132425999999985,
          30.033449999999988,
          39.846444999999974,
          41.29883000000003,
          30.32275700000004,
          26.09339200000001,
          45.622440000000005,
          42.34246800000003,
          33.73957000000002,
          61.124730000000014,
          44.45285,
          28.62938900000002,
          43.36350999999997,
          30.35962100000001,
          34.71692999999996,
          32.708209999999994,
          53.89418500000001,
          32.78878099999997,
          38.56132299999998,
          18.432782999999972,
          48.49594299999999,
          37.92423699999999,
          32.08471099999998,
          18.43022100000003,
          30.422920000000016,
          46.02659599999997,
          43.64950999999999,
          43.073979999999985,
          47.28966000000003,
          30.084871999999983,
          40.67394899999999,
          37.50535999999999,
          29.74702299999999,
          36.86641999999996,
          21.95248399999999,
          34.14824399999996,
          20.898610000000005,
          30.095369999999946,
          37.95270000000001,
          33.726635000000016,
          41.81177999999999,
          17.938939000000016,
          29.121944999999982
         ],
         "legendgroup": "",
         "lon": [
          -82.56414299999996,
          -73.74816000000003,
          -122.35921800000041,
          -88.03583399999998,
          -76.56163999999995,
          -97.39789000000025,
          -94.91809099999998,
          -77.95049600000002,
          -88.55879000000003,
          -94.81269999999991,
          -93.28683900000004,
          -85.63376199999999,
          -75.50696999999997,
          -90.08525600000007,
          -97.3981380000001,
          -75.20219099999998,
          -149.8949999999996,
          -73.17886000000004,
          -122.30810000000015,
          -158.1136830000002,
          -95.3707000000004,
          -80.18164200000001,
          -157.87169999999958,
          -80.05267000000002,
          -80.60814999999997,
          -122.22940000000042,
          -93.9606899999997,
          -81.53666000000001,
          -90.61793999999985,
          -75.261085,
          -72.90473000000003,
          -81.66512500000005,
          -80.11780099999996,
          -122.68060000000018,
          -71.032029,
          -118.20950000000023,
          -146.3463999999997,
          -68.92497000000002,
          -96.59232400000002,
          -124.20949999999986,
          -89.092568,
          -76.72421000000001,
          -117.17839999999974,
          -166.5499160000001,
          -79.92159500000001,
          -121.54154100000014,
          -66.09667800000001,
          -122.59960999999971,
          -122.37423299999986,
          -81.09538199999996,
          -66.11114099999999,
          -91.19933999999976,
          -122.86685999999972,
          -70.25133999999998,
          -70.73805999999996,
          -122.45149999999964,
          -94.09498499999985,
          -74.03835699999998,
          -122.21401199999977,
          -95.29367900000028,
          -76.31174000000001,
          -159.35231900000005,
          -119.20847500000015,
          -156.4727999999997,
          -93.7235599999998,
          -121.31560000000034,
          -118.26809900000029,
          -71.39844000000004,
          -66.15600200000002,
          -90.20527900000023
         ],
         "marker": {
          "color": [
           1471.45596707819,
           370.28624999999994,
           1168.396502057613,
           4926.660288065844,
           4418.082510288063,
           2938.5335390946498,
           2237.491975308641,
           1213.8726337448559,
           199.10717948717945,
           1910.7277777777783,
           181.07199999999997,
           116.43247126436779,
           1217.5781893004114,
           3409.5253086419752,
           847.0335390946503,
           91.25119047619046,
           361.22735042735036,
           28.03333333333333,
           2215.294032921811,
           457.7469135802468,
           913.085802469136,
           1293.4775720164607,
           1236.212757201646,
           865.5701646090537,
           828.3843621399174,
           359.2660493827163,
           2813.458230452675,
           1095.3693415637858,
           1749.2808641975305,
           833.6386831275721,
           654.5716049382717,
           428.7833333333332,
           3796.2502057613174,
           1254.7448559670786,
           330.86213991769546,
           6354.19794238683,
           39.84444444444444,
           183.1820987654321,
           485.41378600823043,
           194.91240310077515,
           295.5930041152264,
           668.8189300411519,
           444.4419753086421,
           240.34218749999997,
           485.6325102880658,
           587.4543749999997,
           1423.8164609053497,
           679.2333333333333,
           1697.3072016460906,
           2068.829835390946,
           964.968106995885,
           799.94670781893,
           649.1930041152264,
           455.3125514403294,
           185.0033333333333,
           743.7347736625516,
           1567.7524691358026,
           1249.140534979424,
           239.30349794238668,
           5375.756172839506,
           1488.5485596707822,
           21.079292929292933,
           868.0366255144038,
           31.449145299145286,
           875.475,
           1399.7286008230453,
           5965.8170781892995,
           883.606172839506,
           84.10821596244134,
           441.96927083333327
          ],
          "coloraxis": "coloraxis",
          "size": [
           13630.546172839506,
           2407.396999999999,
           25580.639012345677,
           59801.32444444446,
           64579.96049382716,
           32403.524938271607,
           33769.82716049382,
           28282.063209876545,
           836.0467692307692,
           25011.174320987648,
           974.5098666666663,
           1168.0193103448278,
           12808.399999999996,
           47542.34469135801,
           8480.986666666662,
           1178.5742857142855,
           13529.074871794874,
           1303.416170212766,
           53553.20790123456,
           3013.1861728395065,
           16754.48296296296,
           38877.47555555553,
           23651.31061728395,
           11912.06913580247,
           10641.008395061728,
           4637.474567901233,
           33882.521481481475,
           26613.11012345679,
           21613.620740740746,
           10815.091358024692,
           8395.504197530863,
           554.0676923076923,
           70192.04049382717,
           12310.852345679012,
           11547.462716049382,
           92873.40246913584,
           862.64,
           2614.119506172839,
           6872.936296296291,
           880.8706976744188,
           7543.554567901234,
           5235.082469135802,
           4130.20839506173,
           6164.1449999999995,
           11457.809382716054,
           2991.2779999999993,
           41158.452345679005,
           9843.360987654321,
           21684.84938271605,
           30307.32148148149,
           9270.049382716048,
           8843.163456790127,
           7728.003950617284,
           7747.845925925923,
           2260.986,
           10326.533333333336,
           14147.692839506175,
           20283.641481481478,
           3815.611851851852,
           30199.121975308633,
           40781.25234567902,
           768.1163636363631,
           20504.29234567901,
           1641.64,
           716.0239999999999,
           9155.775802469132,
           68033.07160493825,
           8748.083950617282,
           1960.4236619718308,
           1398.0999999999997
          ],
          "sizemode": "area",
          "sizeref": 103.19266941015093
         },
         "mode": "markers",
         "name": "",
         "showlegend": false,
         "subplot": "mapbox",
         "type": "scattermapbox"
        }
       ],
       "layout": {
        "coloraxis": {
         "colorbar": {
          "title": {
           "text": "Dock Hours per Month"
          }
         },
         "colorscale": [
          [
           0,
           "#440154"
          ],
          [
           0.1111111111111111,
           "#482878"
          ],
          [
           0.2222222222222222,
           "#3e4989"
          ],
          [
           0.3333333333333333,
           "#31688e"
          ],
          [
           0.4444444444444444,
           "#26828e"
          ],
          [
           0.5555555555555556,
           "#1f9e89"
          ],
          [
           0.6666666666666666,
           "#35b779"
          ],
          [
           0.7777777777777778,
           "#6ece58"
          ],
          [
           0.8888888888888888,
           "#b5de2b"
          ],
          [
           1,
           "#fde725"
          ]
         ]
        },
        "height": 500,
        "legend": {
         "itemsizing": "constant",
         "tracegroupgap": 0
        },
        "mapbox": {
         "center": {
          "lat": 34.78006434285714,
          "lon": -98.61050139999998
         },
         "domain": {
          "x": [
           0,
           1
          ],
          "y": [
           0,
           1
          ]
         },
         "style": "carto-positron",
         "zoom": 2.2
        },
        "template": {
         "data": {
          "bar": [
           {
            "error_x": {
             "color": "#2a3f5f"
            },
            "error_y": {
             "color": "#2a3f5f"
            },
            "marker": {
             "line": {
              "color": "#E5ECF6",
              "width": 0.5
             },
             "pattern": {
              "fillmode": "overlay",
              "size": 10,
              "solidity": 0.2
             }
            },
            "type": "bar"
           }
          ],
          "barpolar": [
           {
            "marker": {
             "line": {
              "color": "#E5ECF6",
              "width": 0.5
             },
             "pattern": {
              "fillmode": "overlay",
              "size": 10,
              "solidity": 0.2
             }
            },
            "type": "barpolar"
           }
          ],
          "carpet": [
           {
            "aaxis": {
             "endlinecolor": "#2a3f5f",
             "gridcolor": "white",
             "linecolor": "white",
             "minorgridcolor": "white",
             "startlinecolor": "#2a3f5f"
            },
            "baxis": {
             "endlinecolor": "#2a3f5f",
             "gridcolor": "white",
             "linecolor": "white",
             "minorgridcolor": "white",
             "startlinecolor": "#2a3f5f"
            },
            "type": "carpet"
           }
          ],
          "choropleth": [
           {
            "colorbar": {
             "outlinewidth": 0,
             "ticks": ""
            },
            "type": "choropleth"
           }
          ],
          "contour": [
           {
            "colorbar": {
             "outlinewidth": 0,
             "ticks": ""
            },
            "colorscale": [
             [
              0,
              "#0d0887"
             ],
             [
              0.1111111111111111,
              "#46039f"
             ],
             [
              0.2222222222222222,
              "#7201a8"
             ],
             [
              0.3333333333333333,
              "#9c179e"
             ],
             [
              0.4444444444444444,
              "#bd3786"
             ],
             [
              0.5555555555555556,
              "#d8576b"
             ],
             [
              0.6666666666666666,
              "#ed7953"
             ],
             [
              0.7777777777777778,
              "#fb9f3a"
             ],
             [
              0.8888888888888888,
              "#fdca26"
             ],
             [
              1,
              "#f0f921"
             ]
            ],
            "type": "contour"
           }
          ],
          "contourcarpet": [
           {
            "colorbar": {
             "outlinewidth": 0,
             "ticks": ""
            },
            "type": "contourcarpet"
           }
          ],
          "heatmap": [
           {
            "colorbar": {
             "outlinewidth": 0,
             "ticks": ""
            },
            "colorscale": [
             [
              0,
              "#0d0887"
             ],
             [
              0.1111111111111111,
              "#46039f"
             ],
             [
              0.2222222222222222,
              "#7201a8"
             ],
             [
              0.3333333333333333,
              "#9c179e"
             ],
             [
              0.4444444444444444,
              "#bd3786"
             ],
             [
              0.5555555555555556,
              "#d8576b"
             ],
             [
              0.6666666666666666,
              "#ed7953"
             ],
             [
              0.7777777777777778,
              "#fb9f3a"
             ],
             [
              0.8888888888888888,
              "#fdca26"
             ],
             [
              1,
              "#f0f921"
             ]
            ],
            "type": "heatmap"
           }
          ],
          "heatmapgl": [
           {
            "colorbar": {
             "outlinewidth": 0,
             "ticks": ""
            },
            "colorscale": [
             [
              0,
              "#0d0887"
             ],
             [
              0.1111111111111111,
              "#46039f"
             ],
             [
              0.2222222222222222,
              "#7201a8"
             ],
             [
              0.3333333333333333,
              "#9c179e"
             ],
             [
              0.4444444444444444,
              "#bd3786"
             ],
             [
              0.5555555555555556,
              "#d8576b"
             ],
             [
              0.6666666666666666,
              "#ed7953"
             ],
             [
              0.7777777777777778,
              "#fb9f3a"
             ],
             [
              0.8888888888888888,
              "#fdca26"
             ],
             [
              1,
              "#f0f921"
             ]
            ],
            "type": "heatmapgl"
           }
          ],
          "histogram": [
           {
            "marker": {
             "pattern": {
              "fillmode": "overlay",
              "size": 10,
              "solidity": 0.2
             }
            },
            "type": "histogram"
           }
          ],
          "histogram2d": [
           {
            "colorbar": {
             "outlinewidth": 0,
             "ticks": ""
            },
            "colorscale": [
             [
              0,
              "#0d0887"
             ],
             [
              0.1111111111111111,
              "#46039f"
             ],
             [
              0.2222222222222222,
              "#7201a8"
             ],
             [
              0.3333333333333333,
              "#9c179e"
             ],
             [
              0.4444444444444444,
              "#bd3786"
             ],
             [
              0.5555555555555556,
              "#d8576b"
             ],
             [
              0.6666666666666666,
              "#ed7953"
             ],
             [
              0.7777777777777778,
              "#fb9f3a"
             ],
             [
              0.8888888888888888,
              "#fdca26"
             ],
             [
              1,
              "#f0f921"
             ]
            ],
            "type": "histogram2d"
           }
          ],
          "histogram2dcontour": [
           {
            "colorbar": {
             "outlinewidth": 0,
             "ticks": ""
            },
            "colorscale": [
             [
              0,
              "#0d0887"
             ],
             [
              0.1111111111111111,
              "#46039f"
             ],
             [
              0.2222222222222222,
              "#7201a8"
             ],
             [
              0.3333333333333333,
              "#9c179e"
             ],
             [
              0.4444444444444444,
              "#bd3786"
             ],
             [
              0.5555555555555556,
              "#d8576b"
             ],
             [
              0.6666666666666666,
              "#ed7953"
             ],
             [
              0.7777777777777778,
              "#fb9f3a"
             ],
             [
              0.8888888888888888,
              "#fdca26"
             ],
             [
              1,
              "#f0f921"
             ]
            ],
            "type": "histogram2dcontour"
           }
          ],
          "mesh3d": [
           {
            "colorbar": {
             "outlinewidth": 0,
             "ticks": ""
            },
            "type": "mesh3d"
           }
          ],
          "parcoords": [
           {
            "line": {
             "colorbar": {
              "outlinewidth": 0,
              "ticks": ""
             }
            },
            "type": "parcoords"
           }
          ],
          "pie": [
           {
            "automargin": true,
            "type": "pie"
           }
          ],
          "scatter": [
           {
            "fillpattern": {
             "fillmode": "overlay",
             "size": 10,
             "solidity": 0.2
            },
            "type": "scatter"
           }
          ],
          "scatter3d": [
           {
            "line": {
             "colorbar": {
              "outlinewidth": 0,
              "ticks": ""
             }
            },
            "marker": {
             "colorbar": {
              "outlinewidth": 0,
              "ticks": ""
             }
            },
            "type": "scatter3d"
           }
          ],
          "scattercarpet": [
           {
            "marker": {
             "colorbar": {
              "outlinewidth": 0,
              "ticks": ""
             }
            },
            "type": "scattercarpet"
           }
          ],
          "scattergeo": [
           {
            "marker": {
             "colorbar": {
              "outlinewidth": 0,
              "ticks": ""
             }
            },
            "type": "scattergeo"
           }
          ],
          "scattergl": [
           {
            "marker": {
             "colorbar": {
              "outlinewidth": 0,
              "ticks": ""
             }
            },
            "type": "scattergl"
           }
          ],
          "scattermapbox": [
           {
            "marker": {
             "colorbar": {
              "outlinewidth": 0,
              "ticks": ""
             }
            },
            "type": "scattermapbox"
           }
          ],
          "scatterpolar": [
           {
            "marker": {
             "colorbar": {
              "outlinewidth": 0,
              "ticks": ""
             }
            },
            "type": "scatterpolar"
           }
          ],
          "scatterpolargl": [
           {
            "marker": {
             "colorbar": {
              "outlinewidth": 0,
              "ticks": ""
             }
            },
            "type": "scatterpolargl"
           }
          ],
          "scatterternary": [
           {
            "marker": {
             "colorbar": {
              "outlinewidth": 0,
              "ticks": ""
             }
            },
            "type": "scatterternary"
           }
          ],
          "surface": [
           {
            "colorbar": {
             "outlinewidth": 0,
             "ticks": ""
            },
            "colorscale": [
             [
              0,
              "#0d0887"
             ],
             [
              0.1111111111111111,
              "#46039f"
             ],
             [
              0.2222222222222222,
              "#7201a8"
             ],
             [
              0.3333333333333333,
              "#9c179e"
             ],
             [
              0.4444444444444444,
              "#bd3786"
             ],
             [
              0.5555555555555556,
              "#d8576b"
             ],
             [
              0.6666666666666666,
              "#ed7953"
             ],
             [
              0.7777777777777778,
              "#fb9f3a"
             ],
             [
              0.8888888888888888,
              "#fdca26"
             ],
             [
              1,
              "#f0f921"
             ]
            ],
            "type": "surface"
           }
          ],
          "table": [
           {
            "cells": {
             "fill": {
              "color": "#EBF0F8"
             },
             "line": {
              "color": "white"
             }
            },
            "header": {
             "fill": {
              "color": "#C8D4E3"
             },
             "line": {
              "color": "white"
             }
            },
            "type": "table"
           }
          ]
         },
         "layout": {
          "annotationdefaults": {
           "arrowcolor": "#2a3f5f",
           "arrowhead": 0,
           "arrowwidth": 1
          },
          "autotypenumbers": "strict",
          "coloraxis": {
           "colorbar": {
            "outlinewidth": 0,
            "ticks": ""
           }
          },
          "colorscale": {
           "diverging": [
            [
             0,
             "#8e0152"
            ],
            [
             0.1,
             "#c51b7d"
            ],
            [
             0.2,
             "#de77ae"
            ],
            [
             0.3,
             "#f1b6da"
            ],
            [
             0.4,
             "#fde0ef"
            ],
            [
             0.5,
             "#f7f7f7"
            ],
            [
             0.6,
             "#e6f5d0"
            ],
            [
             0.7,
             "#b8e186"
            ],
            [
             0.8,
             "#7fbc41"
            ],
            [
             0.9,
             "#4d9221"
            ],
            [
             1,
             "#276419"
            ]
           ],
           "sequential": [
            [
             0,
             "#0d0887"
            ],
            [
             0.1111111111111111,
             "#46039f"
            ],
            [
             0.2222222222222222,
             "#7201a8"
            ],
            [
             0.3333333333333333,
             "#9c179e"
            ],
            [
             0.4444444444444444,
             "#bd3786"
            ],
            [
             0.5555555555555556,
             "#d8576b"
            ],
            [
             0.6666666666666666,
             "#ed7953"
            ],
            [
             0.7777777777777778,
             "#fb9f3a"
            ],
            [
             0.8888888888888888,
             "#fdca26"
            ],
            [
             1,
             "#f0f921"
            ]
           ],
           "sequentialminus": [
            [
             0,
             "#0d0887"
            ],
            [
             0.1111111111111111,
             "#46039f"
            ],
            [
             0.2222222222222222,
             "#7201a8"
            ],
            [
             0.3333333333333333,
             "#9c179e"
            ],
            [
             0.4444444444444444,
             "#bd3786"
            ],
            [
             0.5555555555555556,
             "#d8576b"
            ],
            [
             0.6666666666666666,
             "#ed7953"
            ],
            [
             0.7777777777777778,
             "#fb9f3a"
            ],
            [
             0.8888888888888888,
             "#fdca26"
            ],
            [
             1,
             "#f0f921"
            ]
           ]
          },
          "colorway": [
           "#636efa",
           "#EF553B",
           "#00cc96",
           "#ab63fa",
           "#FFA15A",
           "#19d3f3",
           "#FF6692",
           "#B6E880",
           "#FF97FF",
           "#FECB52"
          ],
          "font": {
           "color": "#2a3f5f"
          },
          "geo": {
           "bgcolor": "white",
           "lakecolor": "white",
           "landcolor": "#E5ECF6",
           "showlakes": true,
           "showland": true,
           "subunitcolor": "white"
          },
          "hoverlabel": {
           "align": "left"
          },
          "hovermode": "closest",
          "mapbox": {
           "style": "light"
          },
          "paper_bgcolor": "white",
          "plot_bgcolor": "#E5ECF6",
          "polar": {
           "angularaxis": {
            "gridcolor": "white",
            "linecolor": "white",
            "ticks": ""
           },
           "bgcolor": "#E5ECF6",
           "radialaxis": {
            "gridcolor": "white",
            "linecolor": "white",
            "ticks": ""
           }
          },
          "scene": {
           "xaxis": {
            "backgroundcolor": "#E5ECF6",
            "gridcolor": "white",
            "gridwidth": 2,
            "linecolor": "white",
            "showbackground": true,
            "ticks": "",
            "zerolinecolor": "white"
           },
           "yaxis": {
            "backgroundcolor": "#E5ECF6",
            "gridcolor": "white",
            "gridwidth": 2,
            "linecolor": "white",
            "showbackground": true,
            "ticks": "",
            "zerolinecolor": "white"
           },
           "zaxis": {
            "backgroundcolor": "#E5ECF6",
            "gridcolor": "white",
            "gridwidth": 2,
            "linecolor": "white",
            "showbackground": true,
            "ticks": "",
            "zerolinecolor": "white"
           }
          },
          "shapedefaults": {
           "line": {
            "color": "#2a3f5f"
           }
          },
          "ternary": {
           "aaxis": {
            "gridcolor": "white",
            "linecolor": "white",
            "ticks": ""
           },
           "baxis": {
            "gridcolor": "white",
            "linecolor": "white",
            "ticks": ""
           },
           "bgcolor": "#E5ECF6",
           "caxis": {
            "gridcolor": "white",
            "linecolor": "white",
            "ticks": ""
           }
          },
          "title": {
           "x": 0.05
          },
          "xaxis": {
           "automargin": true,
           "gridcolor": "white",
           "linecolor": "white",
           "ticks": "",
           "title": {
            "standoff": 15
           },
           "zerolinecolor": "white",
           "zerolinewidth": 2
          },
          "yaxis": {
           "automargin": true,
           "gridcolor": "white",
           "linecolor": "white",
           "ticks": "",
           "title": {
            "standoff": 15
           },
           "zerolinecolor": "white",
           "zerolinewidth": 2
          }
         }
        },
        "title": {
         "text": "Average Vessel Throughput at Principal Ports"
        },
        "width": 800
       }
      }
     },
     "metadata": {},
     "output_type": "display_data"
    }
   ],
   "source": [
    "plot_mapbox(\n",
    "    df = port_stats(),\n",
    "    lat_col = 'port_lat', lon_col = 'port_lon',\n",
    "    size_col = 'vessel_ft_mean_month', color_col = 'hrs_at_berth_mean_month',\n",
    "    title = 'Average Vessel Throughput at Principal Ports',\n",
    "    hover_name = 'port_name',\n",
    "    hover_data = {'vessel_ft_mean_month':True, 'hrs_at_berth_mean_month':True,\n",
    "                  'port_lat':False, 'port_lon':False},\n",
    "    labels={\n",
    "        'vessel_ft_mean_month': 'Vessel-Feet per Month',\n",
    "        'hrs_at_berth_mean_month': 'Dock Hours per Month',\n",
    "        'port_name': 'Port Name'\n",
    "    },\n",
    "    width=800, height=500,\n",
    "    zoom=2.2\n",
    ")"
   ]
  },
  {
   "cell_type": "code",
   "execution_count": null,
   "metadata": {},
   "outputs": [
    {
     "data": {
      "application/vnd.plotly.v1+json": {
       "config": {
        "plotlyServerURL": "https://plot.ly"
       },
       "data": [
        {
         "customdata": [
          [
           870.512,
           57.89333333333333,
           47.58944400000007,
           -122.34304999999992
          ],
          [
           3491.720784313726,
           166.18496732026142,
           47.57694400000004,
           -122.36137999999956
          ],
          [
           521.52,
           188.39166666666665,
           47.565000000000026,
           -122.3488799999997
          ],
          [
           847.9407407407409,
           34.10802469135802,
           47.57611099999999,
           -122.34582999999986
          ],
          [
           8050.132345679015,
           387.9510288065844,
           47.58355700000003,
           -122.34612900000035
          ],
          [
           518.24,
           97.81666666666666,
           47.59000000000004,
           -122.34972
          ],
          [
           824.92,
           18.95,
           47.57957300000006,
           -122.3416989999996
          ],
          [
           745.6533333333333,
           127.55000000000001,
           47.57555600000006,
           -122.34304999999992
          ],
          [
           521.8480000000001,
           64.89666666666666,
           47.574757000000055,
           -122.34607699999965
          ],
          [
           4990.864197530864,
           262.1347736625515,
           47.587536000000064,
           -122.34255300000014
          ],
          [
           600.24,
           18.133333333333333,
           47.5825,
           -122.35832999999973
          ],
          [
           2081.8017391304347,
           86.56376811594203,
           47.59666700000011,
           -122.34111000000027
          ],
          [
           1589.9054545454544,
           74.27878787878787,
           47.583046000000095,
           -122.36105000000013
          ],
          [
           7931.566419753087,
           271.3796296296296,
           47.58294300000004,
           -122.34292999999988
          ],
          [
           652.7199999999999,
           16.049999999999997,
           47.59370500000003,
           -122.3525560000001
          ],
          [
           4055.623529411764,
           190.3156862745098,
           47.59222200000002,
           -122.34250000000027
          ],
          [
           859.3599999999999,
           20.1,
           47.57388900000004,
           -122.3588800000003
          ],
          [
           554.7573333333332,
           125.41444444444444,
           47.56277800000002,
           -122.34860999999982
          ],
          [
           518.24,
           70.45,
           47.573056000000044,
           -122.3438800000003
          ],
          [
           744.56,
           44.4,
           47.58703100000008,
           -122.356476
          ]
         ],
         "hovertemplate": "<b>%{hovertext}</b><br><br>Vessel-Feet per Month=%{customdata[0]}<br>Dock Hours per Month=%{marker.color}<extra></extra>",
         "hovertext": [
          "U. S. COAST GUARD, PIER 35",
          "TERMINAL 5 SEATTLE, SSA MARINE",
          "BIRMINGHAM STEEL CORP., TERMINAL 105, BERTH NO. 1",
          "SSA TERMINALS, TERMINAL 18, BERTH 7",
          "S S A TERMINALS, TERMINAL 18, BERTHS 2-6",
          "CROWLEY MARINE SERVICES, PIER 17",
          "CROWLEY MARITIME, TERMINAL 28 WHARF",
          "SSA TERMINALS, TERMINAL 25 WHARF",
          "CRANE DOCK PIER 20",
          "PIER 34",
          "B P OIL CO., SEATTLE TERMINAL, PIER NO. 11",
          "TOTAL TERMINALS, TERMINAL 46 WHARF",
          "OPEN WATER-BUOYS & DOLPHINS",
          "TRANS PACIFIC CONTAINER SERVICE CORP., TERMINAL 30 WHARF",
          "ELLIOTT BAY GENERAL ANCHORAGE",
          "SSA TERMINALS, TERMINAL 37 WHARF",
          "PACIFIC TERMINALS LTD., WHARVES",
          "Birmingham Steel Corp., Terminal 105, Berth No. 2.",
          "RAINER COLD STORAGE & ICE, TERMINAL 25 SOUTH WHARF",
          "TODD PACIFIC SHIPYARDS CORP., BERTHS F-K, PIERS NO. 4-6"
         ],
         "lat": [
          47.58944400000007,
          47.57694400000004,
          47.565000000000026,
          47.57611099999999,
          47.58355700000003,
          47.59000000000004,
          47.57957300000006,
          47.57555600000006,
          47.574757000000055,
          47.587536000000064,
          47.5825,
          47.59666700000011,
          47.583046000000095,
          47.58294300000004,
          47.59370500000003,
          47.59222200000002,
          47.57388900000004,
          47.56277800000002,
          47.573056000000044,
          47.58703100000008
         ],
         "legendgroup": "",
         "lon": [
          -122.34304999999992,
          -122.36137999999956,
          -122.3488799999997,
          -122.34582999999986,
          -122.34612900000035,
          -122.34972,
          -122.3416989999996,
          -122.34304999999992,
          -122.34607699999965,
          -122.34255300000014,
          -122.35832999999973,
          -122.34111000000027,
          -122.36105000000013,
          -122.34292999999988,
          -122.3525560000001,
          -122.34250000000027,
          -122.3588800000003,
          -122.34860999999982,
          -122.3438800000003,
          -122.356476
         ],
         "marker": {
          "color": [
           57.89333333333333,
           166.18496732026142,
           188.39166666666665,
           34.10802469135802,
           387.9510288065844,
           97.81666666666666,
           18.95,
           127.55000000000001,
           64.89666666666666,
           262.1347736625515,
           18.133333333333333,
           86.56376811594203,
           74.27878787878787,
           271.3796296296296,
           16.049999999999997,
           190.3156862745098,
           20.1,
           125.41444444444444,
           70.45,
           44.4
          ],
          "coloraxis": "coloraxis",
          "size": [
           870.512,
           3491.720784313726,
           521.52,
           847.9407407407409,
           8050.132345679015,
           518.24,
           824.92,
           745.6533333333333,
           521.8480000000001,
           4990.864197530864,
           600.24,
           2081.8017391304347,
           1589.9054545454544,
           7931.566419753087,
           652.7199999999999,
           4055.623529411764,
           859.3599999999999,
           554.7573333333332,
           518.24,
           744.56
          ],
          "sizemode": "area",
          "sizeref": 8.944591495198905
         },
         "mode": "markers",
         "name": "",
         "showlegend": false,
         "subplot": "mapbox",
         "type": "scattermapbox"
        }
       ],
       "layout": {
        "coloraxis": {
         "colorbar": {
          "title": {
           "text": "Dock Hours per Month"
          }
         },
         "colorscale": [
          [
           0,
           "#440154"
          ],
          [
           0.1111111111111111,
           "#482878"
          ],
          [
           0.2222222222222222,
           "#3e4989"
          ],
          [
           0.3333333333333333,
           "#31688e"
          ],
          [
           0.4444444444444444,
           "#26828e"
          ],
          [
           0.5555555555555556,
           "#1f9e89"
          ],
          [
           0.6666666666666666,
           "#35b779"
          ],
          [
           0.7777777777777778,
           "#6ece58"
          ],
          [
           0.8888888888888888,
           "#b5de2b"
          ],
          [
           1,
           "#fde725"
          ]
         ]
        },
        "height": 600,
        "legend": {
         "itemsizing": "constant",
         "tracegroupgap": 0
        },
        "mapbox": {
         "center": {
          "lat": 47.581315750000044,
          "lon": -122.34873449999998
         },
         "domain": {
          "x": [
           0,
           1
          ],
          "y": [
           0,
           1
          ]
         },
         "style": "carto-positron",
         "zoom": 11.883039123510514
        },
        "template": {
         "data": {
          "bar": [
           {
            "error_x": {
             "color": "#2a3f5f"
            },
            "error_y": {
             "color": "#2a3f5f"
            },
            "marker": {
             "line": {
              "color": "#E5ECF6",
              "width": 0.5
             },
             "pattern": {
              "fillmode": "overlay",
              "size": 10,
              "solidity": 0.2
             }
            },
            "type": "bar"
           }
          ],
          "barpolar": [
           {
            "marker": {
             "line": {
              "color": "#E5ECF6",
              "width": 0.5
             },
             "pattern": {
              "fillmode": "overlay",
              "size": 10,
              "solidity": 0.2
             }
            },
            "type": "barpolar"
           }
          ],
          "carpet": [
           {
            "aaxis": {
             "endlinecolor": "#2a3f5f",
             "gridcolor": "white",
             "linecolor": "white",
             "minorgridcolor": "white",
             "startlinecolor": "#2a3f5f"
            },
            "baxis": {
             "endlinecolor": "#2a3f5f",
             "gridcolor": "white",
             "linecolor": "white",
             "minorgridcolor": "white",
             "startlinecolor": "#2a3f5f"
            },
            "type": "carpet"
           }
          ],
          "choropleth": [
           {
            "colorbar": {
             "outlinewidth": 0,
             "ticks": ""
            },
            "type": "choropleth"
           }
          ],
          "contour": [
           {
            "colorbar": {
             "outlinewidth": 0,
             "ticks": ""
            },
            "colorscale": [
             [
              0,
              "#0d0887"
             ],
             [
              0.1111111111111111,
              "#46039f"
             ],
             [
              0.2222222222222222,
              "#7201a8"
             ],
             [
              0.3333333333333333,
              "#9c179e"
             ],
             [
              0.4444444444444444,
              "#bd3786"
             ],
             [
              0.5555555555555556,
              "#d8576b"
             ],
             [
              0.6666666666666666,
              "#ed7953"
             ],
             [
              0.7777777777777778,
              "#fb9f3a"
             ],
             [
              0.8888888888888888,
              "#fdca26"
             ],
             [
              1,
              "#f0f921"
             ]
            ],
            "type": "contour"
           }
          ],
          "contourcarpet": [
           {
            "colorbar": {
             "outlinewidth": 0,
             "ticks": ""
            },
            "type": "contourcarpet"
           }
          ],
          "heatmap": [
           {
            "colorbar": {
             "outlinewidth": 0,
             "ticks": ""
            },
            "colorscale": [
             [
              0,
              "#0d0887"
             ],
             [
              0.1111111111111111,
              "#46039f"
             ],
             [
              0.2222222222222222,
              "#7201a8"
             ],
             [
              0.3333333333333333,
              "#9c179e"
             ],
             [
              0.4444444444444444,
              "#bd3786"
             ],
             [
              0.5555555555555556,
              "#d8576b"
             ],
             [
              0.6666666666666666,
              "#ed7953"
             ],
             [
              0.7777777777777778,
              "#fb9f3a"
             ],
             [
              0.8888888888888888,
              "#fdca26"
             ],
             [
              1,
              "#f0f921"
             ]
            ],
            "type": "heatmap"
           }
          ],
          "heatmapgl": [
           {
            "colorbar": {
             "outlinewidth": 0,
             "ticks": ""
            },
            "colorscale": [
             [
              0,
              "#0d0887"
             ],
             [
              0.1111111111111111,
              "#46039f"
             ],
             [
              0.2222222222222222,
              "#7201a8"
             ],
             [
              0.3333333333333333,
              "#9c179e"
             ],
             [
              0.4444444444444444,
              "#bd3786"
             ],
             [
              0.5555555555555556,
              "#d8576b"
             ],
             [
              0.6666666666666666,
              "#ed7953"
             ],
             [
              0.7777777777777778,
              "#fb9f3a"
             ],
             [
              0.8888888888888888,
              "#fdca26"
             ],
             [
              1,
              "#f0f921"
             ]
            ],
            "type": "heatmapgl"
           }
          ],
          "histogram": [
           {
            "marker": {
             "pattern": {
              "fillmode": "overlay",
              "size": 10,
              "solidity": 0.2
             }
            },
            "type": "histogram"
           }
          ],
          "histogram2d": [
           {
            "colorbar": {
             "outlinewidth": 0,
             "ticks": ""
            },
            "colorscale": [
             [
              0,
              "#0d0887"
             ],
             [
              0.1111111111111111,
              "#46039f"
             ],
             [
              0.2222222222222222,
              "#7201a8"
             ],
             [
              0.3333333333333333,
              "#9c179e"
             ],
             [
              0.4444444444444444,
              "#bd3786"
             ],
             [
              0.5555555555555556,
              "#d8576b"
             ],
             [
              0.6666666666666666,
              "#ed7953"
             ],
             [
              0.7777777777777778,
              "#fb9f3a"
             ],
             [
              0.8888888888888888,
              "#fdca26"
             ],
             [
              1,
              "#f0f921"
             ]
            ],
            "type": "histogram2d"
           }
          ],
          "histogram2dcontour": [
           {
            "colorbar": {
             "outlinewidth": 0,
             "ticks": ""
            },
            "colorscale": [
             [
              0,
              "#0d0887"
             ],
             [
              0.1111111111111111,
              "#46039f"
             ],
             [
              0.2222222222222222,
              "#7201a8"
             ],
             [
              0.3333333333333333,
              "#9c179e"
             ],
             [
              0.4444444444444444,
              "#bd3786"
             ],
             [
              0.5555555555555556,
              "#d8576b"
             ],
             [
              0.6666666666666666,
              "#ed7953"
             ],
             [
              0.7777777777777778,
              "#fb9f3a"
             ],
             [
              0.8888888888888888,
              "#fdca26"
             ],
             [
              1,
              "#f0f921"
             ]
            ],
            "type": "histogram2dcontour"
           }
          ],
          "mesh3d": [
           {
            "colorbar": {
             "outlinewidth": 0,
             "ticks": ""
            },
            "type": "mesh3d"
           }
          ],
          "parcoords": [
           {
            "line": {
             "colorbar": {
              "outlinewidth": 0,
              "ticks": ""
             }
            },
            "type": "parcoords"
           }
          ],
          "pie": [
           {
            "automargin": true,
            "type": "pie"
           }
          ],
          "scatter": [
           {
            "fillpattern": {
             "fillmode": "overlay",
             "size": 10,
             "solidity": 0.2
            },
            "type": "scatter"
           }
          ],
          "scatter3d": [
           {
            "line": {
             "colorbar": {
              "outlinewidth": 0,
              "ticks": ""
             }
            },
            "marker": {
             "colorbar": {
              "outlinewidth": 0,
              "ticks": ""
             }
            },
            "type": "scatter3d"
           }
          ],
          "scattercarpet": [
           {
            "marker": {
             "colorbar": {
              "outlinewidth": 0,
              "ticks": ""
             }
            },
            "type": "scattercarpet"
           }
          ],
          "scattergeo": [
           {
            "marker": {
             "colorbar": {
              "outlinewidth": 0,
              "ticks": ""
             }
            },
            "type": "scattergeo"
           }
          ],
          "scattergl": [
           {
            "marker": {
             "colorbar": {
              "outlinewidth": 0,
              "ticks": ""
             }
            },
            "type": "scattergl"
           }
          ],
          "scattermapbox": [
           {
            "marker": {
             "colorbar": {
              "outlinewidth": 0,
              "ticks": ""
             }
            },
            "type": "scattermapbox"
           }
          ],
          "scatterpolar": [
           {
            "marker": {
             "colorbar": {
              "outlinewidth": 0,
              "ticks": ""
             }
            },
            "type": "scatterpolar"
           }
          ],
          "scatterpolargl": [
           {
            "marker": {
             "colorbar": {
              "outlinewidth": 0,
              "ticks": ""
             }
            },
            "type": "scatterpolargl"
           }
          ],
          "scatterternary": [
           {
            "marker": {
             "colorbar": {
              "outlinewidth": 0,
              "ticks": ""
             }
            },
            "type": "scatterternary"
           }
          ],
          "surface": [
           {
            "colorbar": {
             "outlinewidth": 0,
             "ticks": ""
            },
            "colorscale": [
             [
              0,
              "#0d0887"
             ],
             [
              0.1111111111111111,
              "#46039f"
             ],
             [
              0.2222222222222222,
              "#7201a8"
             ],
             [
              0.3333333333333333,
              "#9c179e"
             ],
             [
              0.4444444444444444,
              "#bd3786"
             ],
             [
              0.5555555555555556,
              "#d8576b"
             ],
             [
              0.6666666666666666,
              "#ed7953"
             ],
             [
              0.7777777777777778,
              "#fb9f3a"
             ],
             [
              0.8888888888888888,
              "#fdca26"
             ],
             [
              1,
              "#f0f921"
             ]
            ],
            "type": "surface"
           }
          ],
          "table": [
           {
            "cells": {
             "fill": {
              "color": "#EBF0F8"
             },
             "line": {
              "color": "white"
             }
            },
            "header": {
             "fill": {
              "color": "#C8D4E3"
             },
             "line": {
              "color": "white"
             }
            },
            "type": "table"
           }
          ]
         },
         "layout": {
          "annotationdefaults": {
           "arrowcolor": "#2a3f5f",
           "arrowhead": 0,
           "arrowwidth": 1
          },
          "autotypenumbers": "strict",
          "coloraxis": {
           "colorbar": {
            "outlinewidth": 0,
            "ticks": ""
           }
          },
          "colorscale": {
           "diverging": [
            [
             0,
             "#8e0152"
            ],
            [
             0.1,
             "#c51b7d"
            ],
            [
             0.2,
             "#de77ae"
            ],
            [
             0.3,
             "#f1b6da"
            ],
            [
             0.4,
             "#fde0ef"
            ],
            [
             0.5,
             "#f7f7f7"
            ],
            [
             0.6,
             "#e6f5d0"
            ],
            [
             0.7,
             "#b8e186"
            ],
            [
             0.8,
             "#7fbc41"
            ],
            [
             0.9,
             "#4d9221"
            ],
            [
             1,
             "#276419"
            ]
           ],
           "sequential": [
            [
             0,
             "#0d0887"
            ],
            [
             0.1111111111111111,
             "#46039f"
            ],
            [
             0.2222222222222222,
             "#7201a8"
            ],
            [
             0.3333333333333333,
             "#9c179e"
            ],
            [
             0.4444444444444444,
             "#bd3786"
            ],
            [
             0.5555555555555556,
             "#d8576b"
            ],
            [
             0.6666666666666666,
             "#ed7953"
            ],
            [
             0.7777777777777778,
             "#fb9f3a"
            ],
            [
             0.8888888888888888,
             "#fdca26"
            ],
            [
             1,
             "#f0f921"
            ]
           ],
           "sequentialminus": [
            [
             0,
             "#0d0887"
            ],
            [
             0.1111111111111111,
             "#46039f"
            ],
            [
             0.2222222222222222,
             "#7201a8"
            ],
            [
             0.3333333333333333,
             "#9c179e"
            ],
            [
             0.4444444444444444,
             "#bd3786"
            ],
            [
             0.5555555555555556,
             "#d8576b"
            ],
            [
             0.6666666666666666,
             "#ed7953"
            ],
            [
             0.7777777777777778,
             "#fb9f3a"
            ],
            [
             0.8888888888888888,
             "#fdca26"
            ],
            [
             1,
             "#f0f921"
            ]
           ]
          },
          "colorway": [
           "#636efa",
           "#EF553B",
           "#00cc96",
           "#ab63fa",
           "#FFA15A",
           "#19d3f3",
           "#FF6692",
           "#B6E880",
           "#FF97FF",
           "#FECB52"
          ],
          "font": {
           "color": "#2a3f5f"
          },
          "geo": {
           "bgcolor": "white",
           "lakecolor": "white",
           "landcolor": "#E5ECF6",
           "showlakes": true,
           "showland": true,
           "subunitcolor": "white"
          },
          "hoverlabel": {
           "align": "left"
          },
          "hovermode": "closest",
          "mapbox": {
           "style": "light"
          },
          "paper_bgcolor": "white",
          "plot_bgcolor": "#E5ECF6",
          "polar": {
           "angularaxis": {
            "gridcolor": "white",
            "linecolor": "white",
            "ticks": ""
           },
           "bgcolor": "#E5ECF6",
           "radialaxis": {
            "gridcolor": "white",
            "linecolor": "white",
            "ticks": ""
           }
          },
          "scene": {
           "xaxis": {
            "backgroundcolor": "#E5ECF6",
            "gridcolor": "white",
            "gridwidth": 2,
            "linecolor": "white",
            "showbackground": true,
            "ticks": "",
            "zerolinecolor": "white"
           },
           "yaxis": {
            "backgroundcolor": "#E5ECF6",
            "gridcolor": "white",
            "gridwidth": 2,
            "linecolor": "white",
            "showbackground": true,
            "ticks": "",
            "zerolinecolor": "white"
           },
           "zaxis": {
            "backgroundcolor": "#E5ECF6",
            "gridcolor": "white",
            "gridwidth": 2,
            "linecolor": "white",
            "showbackground": true,
            "ticks": "",
            "zerolinecolor": "white"
           }
          },
          "shapedefaults": {
           "line": {
            "color": "#2a3f5f"
           }
          },
          "ternary": {
           "aaxis": {
            "gridcolor": "white",
            "linecolor": "white",
            "ticks": ""
           },
           "baxis": {
            "gridcolor": "white",
            "linecolor": "white",
            "ticks": ""
           },
           "bgcolor": "#E5ECF6",
           "caxis": {
            "gridcolor": "white",
            "linecolor": "white",
            "ticks": ""
           }
          },
          "title": {
           "x": 0.05
          },
          "xaxis": {
           "automargin": true,
           "gridcolor": "white",
           "linecolor": "white",
           "ticks": "",
           "title": {
            "standoff": 15
           },
           "zerolinecolor": "white",
           "zerolinewidth": 2
          },
          "yaxis": {
           "automargin": true,
           "gridcolor": "white",
           "linecolor": "white",
           "ticks": "",
           "title": {
            "standoff": 15
           },
           "zerolinecolor": "white",
           "zerolinewidth": 2
          }
         }
        },
        "title": {
         "text": "Average Vessel Throughput at Seattle Docks"
        },
        "width": 800
       }
      }
     },
     "metadata": {},
     "output_type": "display_data"
    }
   ],
   "source": [
    "for size, color in \n",
    "    plot_mapbox(\n",
    "        lat_col = 'dock_lat', lon_col = 'dock_lon',\n",
    "        size_col = 'vessel_ft_mean_month', color_col = 'hrs_at_berth_mean_month',\n",
    "        filters= \n",
    "        group_vars=\n",
    "        title = 'Average Vessel Throughput at Seattle Docks',\n",
    "        hover_name = 'dock_name',\n",
    "        hover_data = {'vessel_ft_mean_month':True, 'hrs_at_berth_mean_month':True,\n",
    "                    'dock_lat':False, 'dock_lon':False},\n",
    "        labels={\n",
    "            'vessel_ft_mean_month': 'Vessel-Feet per Month',\n",
    "            'hrs_at_berth_mean_month': 'Dock Hours per Month',\n",
    "            'dock_name': 'Port Name'\n",
    "        }\n",
    "    )"
   ]
  },
  {
   "cell_type": "code",
   "execution_count": 134,
   "metadata": {},
   "outputs": [
    {
     "data": {
      "application/vnd.plotly.v1+json": {
       "config": {
        "plotlyServerURL": "https://plot.ly"
       },
       "data": [
        {
         "hovertemplate": "<b>%{hovertext}</b><br><br>port_name=Baltimore, MD<br>month=%{x}<br>calls=%{y}<extra></extra>",
         "hovertext": [
          "Baltimore, MD",
          "Baltimore, MD",
          "Baltimore, MD",
          "Baltimore, MD",
          "Baltimore, MD",
          "Baltimore, MD",
          "Baltimore, MD",
          "Baltimore, MD",
          "Baltimore, MD",
          "Baltimore, MD",
          "Baltimore, MD",
          "Baltimore, MD",
          "Baltimore, MD",
          "Baltimore, MD",
          "Baltimore, MD",
          "Baltimore, MD",
          "Baltimore, MD",
          "Baltimore, MD",
          "Baltimore, MD",
          "Baltimore, MD",
          "Baltimore, MD",
          "Baltimore, MD",
          "Baltimore, MD",
          "Baltimore, MD",
          "Baltimore, MD",
          "Baltimore, MD",
          "Baltimore, MD",
          "Baltimore, MD",
          "Baltimore, MD",
          "Baltimore, MD",
          "Baltimore, MD",
          "Baltimore, MD",
          "Baltimore, MD",
          "Baltimore, MD",
          "Baltimore, MD",
          "Baltimore, MD",
          "Baltimore, MD",
          "Baltimore, MD",
          "Baltimore, MD",
          "Baltimore, MD",
          "Baltimore, MD",
          "Baltimore, MD",
          "Baltimore, MD",
          "Baltimore, MD",
          "Baltimore, MD",
          "Baltimore, MD",
          "Baltimore, MD",
          "Baltimore, MD",
          "Baltimore, MD",
          "Baltimore, MD",
          "Baltimore, MD",
          "Baltimore, MD",
          "Baltimore, MD",
          "Baltimore, MD",
          "Baltimore, MD",
          "Baltimore, MD",
          "Baltimore, MD",
          "Baltimore, MD",
          "Baltimore, MD",
          "Baltimore, MD",
          "Baltimore, MD",
          "Baltimore, MD",
          "Baltimore, MD",
          "Baltimore, MD",
          "Baltimore, MD",
          "Baltimore, MD",
          "Baltimore, MD",
          "Baltimore, MD",
          "Baltimore, MD",
          "Baltimore, MD",
          "Baltimore, MD",
          "Baltimore, MD",
          "Baltimore, MD",
          "Baltimore, MD",
          "Baltimore, MD",
          "Baltimore, MD",
          "Baltimore, MD",
          "Baltimore, MD",
          "Baltimore, MD",
          "Baltimore, MD",
          "Baltimore, MD"
         ],
         "legendgroup": "Baltimore, MD",
         "line": {
          "color": "#636efa",
          "dash": "solid"
         },
         "marker": {
          "symbol": "circle"
         },
         "mode": "lines",
         "name": "Baltimore, MD",
         "orientation": "v",
         "showlegend": true,
         "type": "scatter",
         "x": [
          "2018-01-01T00:00:00",
          "2018-02-01T00:00:00",
          "2018-03-01T00:00:00",
          "2018-04-01T00:00:00",
          "2018-05-01T00:00:00",
          "2018-06-01T00:00:00",
          "2018-07-01T00:00:00",
          "2018-08-01T00:00:00",
          "2018-09-01T00:00:00",
          "2018-10-01T00:00:00",
          "2018-11-01T00:00:00",
          "2018-12-01T00:00:00",
          "2019-01-01T00:00:00",
          "2019-02-01T00:00:00",
          "2019-03-01T00:00:00",
          "2019-04-01T00:00:00",
          "2019-05-01T00:00:00",
          "2019-06-01T00:00:00",
          "2019-07-01T00:00:00",
          "2019-08-01T00:00:00",
          "2019-09-01T00:00:00",
          "2019-10-01T00:00:00",
          "2019-11-01T00:00:00",
          "2019-12-01T00:00:00",
          "2020-01-01T00:00:00",
          "2020-02-01T00:00:00",
          "2020-03-01T00:00:00",
          "2020-04-01T00:00:00",
          "2020-05-01T00:00:00",
          "2020-06-01T00:00:00",
          "2020-07-01T00:00:00",
          "2020-08-01T00:00:00",
          "2020-09-01T00:00:00",
          "2020-10-01T00:00:00",
          "2020-11-01T00:00:00",
          "2020-12-01T00:00:00",
          "2021-01-01T00:00:00",
          "2021-02-01T00:00:00",
          "2021-03-01T00:00:00",
          "2021-04-01T00:00:00",
          "2021-05-01T00:00:00",
          "2021-06-01T00:00:00",
          "2021-07-01T00:00:00",
          "2021-08-01T00:00:00",
          "2021-09-01T00:00:00",
          "2021-10-01T00:00:00",
          "2021-11-01T00:00:00",
          "2021-12-01T00:00:00",
          "2022-01-01T00:00:00",
          "2022-02-01T00:00:00",
          "2022-03-01T00:00:00",
          "2022-04-01T00:00:00",
          "2022-05-01T00:00:00",
          "2022-06-01T00:00:00",
          "2022-07-01T00:00:00",
          "2022-08-01T00:00:00",
          "2022-09-01T00:00:00",
          "2022-10-01T00:00:00",
          "2022-11-01T00:00:00",
          "2022-12-01T00:00:00",
          "2023-01-01T00:00:00",
          "2023-02-01T00:00:00",
          "2023-03-01T00:00:00",
          "2023-04-01T00:00:00",
          "2023-05-01T00:00:00",
          "2023-06-01T00:00:00",
          "2023-07-01T00:00:00",
          "2023-08-01T00:00:00",
          "2023-09-01T00:00:00",
          "2023-10-01T00:00:00",
          "2023-11-01T00:00:00",
          "2023-12-01T00:00:00",
          "2024-01-01T00:00:00",
          "2024-02-01T00:00:00",
          "2024-03-01T00:00:00",
          "2024-04-01T00:00:00",
          "2024-05-01T00:00:00",
          "2024-06-01T00:00:00",
          "2024-07-01T00:00:00",
          "2024-08-01T00:00:00",
          "2024-09-01T00:00:00"
         ],
         "xaxis": "x",
         "y": [
          89,
          96,
          105,
          107,
          101,
          109,
          92,
          111,
          90,
          94,
          101,
          98,
          98,
          83,
          101,
          96,
          94,
          89,
          94,
          97,
          97,
          87,
          89,
          91,
          86,
          85,
          84,
          68,
          56,
          62,
          66,
          79,
          82,
          83,
          82,
          94,
          86,
          67,
          92,
          117,
          109,
          109,
          88,
          99,
          93,
          87,
          109,
          101,
          94,
          97,
          106,
          101,
          91,
          113,
          101,
          102,
          92,
          101,
          77,
          93,
          99,
          98,
          88,
          106,
          97,
          100,
          100,
          100,
          106,
          104,
          93,
          85,
          103,
          92,
          92,
          2,
          54,
          88,
          105,
          109,
          84
         ],
         "yaxis": "y"
        },
        {
         "hovertemplate": "<b>%{hovertext}</b><br><br>port_name=Mobile, AL<br>month=%{x}<br>calls=%{y}<extra></extra>",
         "hovertext": [
          "Mobile, AL",
          "Mobile, AL",
          "Mobile, AL",
          "Mobile, AL",
          "Mobile, AL",
          "Mobile, AL",
          "Mobile, AL",
          "Mobile, AL",
          "Mobile, AL",
          "Mobile, AL",
          "Mobile, AL",
          "Mobile, AL",
          "Mobile, AL",
          "Mobile, AL",
          "Mobile, AL",
          "Mobile, AL",
          "Mobile, AL",
          "Mobile, AL",
          "Mobile, AL",
          "Mobile, AL",
          "Mobile, AL",
          "Mobile, AL",
          "Mobile, AL",
          "Mobile, AL",
          "Mobile, AL",
          "Mobile, AL",
          "Mobile, AL",
          "Mobile, AL",
          "Mobile, AL",
          "Mobile, AL",
          "Mobile, AL",
          "Mobile, AL",
          "Mobile, AL",
          "Mobile, AL",
          "Mobile, AL",
          "Mobile, AL",
          "Mobile, AL",
          "Mobile, AL",
          "Mobile, AL",
          "Mobile, AL",
          "Mobile, AL",
          "Mobile, AL",
          "Mobile, AL",
          "Mobile, AL",
          "Mobile, AL",
          "Mobile, AL",
          "Mobile, AL",
          "Mobile, AL",
          "Mobile, AL",
          "Mobile, AL",
          "Mobile, AL",
          "Mobile, AL",
          "Mobile, AL",
          "Mobile, AL",
          "Mobile, AL",
          "Mobile, AL",
          "Mobile, AL",
          "Mobile, AL",
          "Mobile, AL",
          "Mobile, AL",
          "Mobile, AL",
          "Mobile, AL",
          "Mobile, AL",
          "Mobile, AL",
          "Mobile, AL",
          "Mobile, AL",
          "Mobile, AL",
          "Mobile, AL",
          "Mobile, AL",
          "Mobile, AL",
          "Mobile, AL",
          "Mobile, AL",
          "Mobile, AL",
          "Mobile, AL",
          "Mobile, AL",
          "Mobile, AL",
          "Mobile, AL",
          "Mobile, AL",
          "Mobile, AL",
          "Mobile, AL",
          "Mobile, AL"
         ],
         "legendgroup": "Mobile, AL",
         "line": {
          "color": "#EF553B",
          "dash": "solid"
         },
         "marker": {
          "symbol": "circle"
         },
         "mode": "lines",
         "name": "Mobile, AL",
         "orientation": "v",
         "showlegend": true,
         "type": "scatter",
         "x": [
          "2018-01-01T00:00:00",
          "2018-02-01T00:00:00",
          "2018-03-01T00:00:00",
          "2018-04-01T00:00:00",
          "2018-05-01T00:00:00",
          "2018-06-01T00:00:00",
          "2018-07-01T00:00:00",
          "2018-08-01T00:00:00",
          "2018-09-01T00:00:00",
          "2018-10-01T00:00:00",
          "2018-11-01T00:00:00",
          "2018-12-01T00:00:00",
          "2019-01-01T00:00:00",
          "2019-02-01T00:00:00",
          "2019-03-01T00:00:00",
          "2019-04-01T00:00:00",
          "2019-05-01T00:00:00",
          "2019-06-01T00:00:00",
          "2019-07-01T00:00:00",
          "2019-08-01T00:00:00",
          "2019-09-01T00:00:00",
          "2019-10-01T00:00:00",
          "2019-11-01T00:00:00",
          "2019-12-01T00:00:00",
          "2020-01-01T00:00:00",
          "2020-02-01T00:00:00",
          "2020-03-01T00:00:00",
          "2020-04-01T00:00:00",
          "2020-05-01T00:00:00",
          "2020-06-01T00:00:00",
          "2020-07-01T00:00:00",
          "2020-08-01T00:00:00",
          "2020-09-01T00:00:00",
          "2020-10-01T00:00:00",
          "2020-11-01T00:00:00",
          "2020-12-01T00:00:00",
          "2021-01-01T00:00:00",
          "2021-02-01T00:00:00",
          "2021-03-01T00:00:00",
          "2021-04-01T00:00:00",
          "2021-05-01T00:00:00",
          "2021-06-01T00:00:00",
          "2021-07-01T00:00:00",
          "2021-08-01T00:00:00",
          "2021-09-01T00:00:00",
          "2021-10-01T00:00:00",
          "2021-11-01T00:00:00",
          "2021-12-01T00:00:00",
          "2022-01-01T00:00:00",
          "2022-02-01T00:00:00",
          "2022-03-01T00:00:00",
          "2022-04-01T00:00:00",
          "2022-05-01T00:00:00",
          "2022-06-01T00:00:00",
          "2022-07-01T00:00:00",
          "2022-08-01T00:00:00",
          "2022-09-01T00:00:00",
          "2022-10-01T00:00:00",
          "2022-11-01T00:00:00",
          "2022-12-01T00:00:00",
          "2023-01-01T00:00:00",
          "2023-02-01T00:00:00",
          "2023-03-01T00:00:00",
          "2023-04-01T00:00:00",
          "2023-05-01T00:00:00",
          "2023-06-01T00:00:00",
          "2023-07-01T00:00:00",
          "2023-08-01T00:00:00",
          "2023-09-01T00:00:00",
          "2023-10-01T00:00:00",
          "2023-11-01T00:00:00",
          "2023-12-01T00:00:00",
          "2024-01-01T00:00:00",
          "2024-02-01T00:00:00",
          "2024-03-01T00:00:00",
          "2024-04-01T00:00:00",
          "2024-05-01T00:00:00",
          "2024-06-01T00:00:00",
          "2024-07-01T00:00:00",
          "2024-08-01T00:00:00",
          "2024-09-01T00:00:00"
         ],
         "xaxis": "x",
         "y": [
          79,
          83,
          81,
          80,
          85,
          85,
          86,
          77,
          82,
          89,
          81,
          73,
          93,
          76,
          88,
          77,
          83,
          88,
          86,
          88,
          83,
          78,
          60,
          76,
          80,
          70,
          72,
          67,
          70,
          64,
          68,
          67,
          67,
          61,
          68,
          80,
          70,
          63,
          88,
          81,
          80,
          100,
          91,
          82,
          91,
          89,
          89,
          85,
          92,
          89,
          91,
          90,
          99,
          93,
          96,
          89,
          93,
          101,
          85,
          91,
          96,
          94,
          90,
          87,
          98,
          102,
          109,
          100,
          104,
          94,
          75,
          92,
          92,
          93,
          91,
          93,
          103,
          108,
          84,
          97,
          85
         ],
         "yaxis": "y"
        },
        {
         "hovertemplate": "<b>%{hovertext}</b><br><br>port_name=New Orleans, LA<br>month=%{x}<br>calls=%{y}<extra></extra>",
         "hovertext": [
          "New Orleans, LA",
          "New Orleans, LA",
          "New Orleans, LA",
          "New Orleans, LA",
          "New Orleans, LA",
          "New Orleans, LA",
          "New Orleans, LA",
          "New Orleans, LA",
          "New Orleans, LA",
          "New Orleans, LA",
          "New Orleans, LA",
          "New Orleans, LA",
          "New Orleans, LA",
          "New Orleans, LA",
          "New Orleans, LA",
          "New Orleans, LA",
          "New Orleans, LA",
          "New Orleans, LA",
          "New Orleans, LA",
          "New Orleans, LA",
          "New Orleans, LA",
          "New Orleans, LA",
          "New Orleans, LA",
          "New Orleans, LA",
          "New Orleans, LA",
          "New Orleans, LA",
          "New Orleans, LA",
          "New Orleans, LA",
          "New Orleans, LA",
          "New Orleans, LA",
          "New Orleans, LA",
          "New Orleans, LA",
          "New Orleans, LA",
          "New Orleans, LA",
          "New Orleans, LA",
          "New Orleans, LA",
          "New Orleans, LA",
          "New Orleans, LA",
          "New Orleans, LA",
          "New Orleans, LA",
          "New Orleans, LA",
          "New Orleans, LA",
          "New Orleans, LA",
          "New Orleans, LA",
          "New Orleans, LA",
          "New Orleans, LA",
          "New Orleans, LA",
          "New Orleans, LA",
          "New Orleans, LA",
          "New Orleans, LA",
          "New Orleans, LA",
          "New Orleans, LA",
          "New Orleans, LA",
          "New Orleans, LA",
          "New Orleans, LA",
          "New Orleans, LA",
          "New Orleans, LA",
          "New Orleans, LA",
          "New Orleans, LA",
          "New Orleans, LA",
          "New Orleans, LA",
          "New Orleans, LA",
          "New Orleans, LA",
          "New Orleans, LA",
          "New Orleans, LA",
          "New Orleans, LA",
          "New Orleans, LA",
          "New Orleans, LA",
          "New Orleans, LA",
          "New Orleans, LA",
          "New Orleans, LA",
          "New Orleans, LA",
          "New Orleans, LA",
          "New Orleans, LA",
          "New Orleans, LA",
          "New Orleans, LA",
          "New Orleans, LA",
          "New Orleans, LA",
          "New Orleans, LA",
          "New Orleans, LA",
          "New Orleans, LA"
         ],
         "legendgroup": "New Orleans, LA",
         "line": {
          "color": "#00cc96",
          "dash": "solid"
         },
         "marker": {
          "symbol": "circle"
         },
         "mode": "lines",
         "name": "New Orleans, LA",
         "orientation": "v",
         "showlegend": true,
         "type": "scatter",
         "x": [
          "2018-01-01T00:00:00",
          "2018-02-01T00:00:00",
          "2018-03-01T00:00:00",
          "2018-04-01T00:00:00",
          "2018-05-01T00:00:00",
          "2018-06-01T00:00:00",
          "2018-07-01T00:00:00",
          "2018-08-01T00:00:00",
          "2018-09-01T00:00:00",
          "2018-10-01T00:00:00",
          "2018-11-01T00:00:00",
          "2018-12-01T00:00:00",
          "2019-01-01T00:00:00",
          "2019-02-01T00:00:00",
          "2019-03-01T00:00:00",
          "2019-04-01T00:00:00",
          "2019-05-01T00:00:00",
          "2019-06-01T00:00:00",
          "2019-07-01T00:00:00",
          "2019-08-01T00:00:00",
          "2019-09-01T00:00:00",
          "2019-10-01T00:00:00",
          "2019-11-01T00:00:00",
          "2019-12-01T00:00:00",
          "2020-01-01T00:00:00",
          "2020-02-01T00:00:00",
          "2020-03-01T00:00:00",
          "2020-04-01T00:00:00",
          "2020-05-01T00:00:00",
          "2020-06-01T00:00:00",
          "2020-07-01T00:00:00",
          "2020-08-01T00:00:00",
          "2020-09-01T00:00:00",
          "2020-10-01T00:00:00",
          "2020-11-01T00:00:00",
          "2020-12-01T00:00:00",
          "2021-01-01T00:00:00",
          "2021-02-01T00:00:00",
          "2021-03-01T00:00:00",
          "2021-04-01T00:00:00",
          "2021-05-01T00:00:00",
          "2021-06-01T00:00:00",
          "2021-07-01T00:00:00",
          "2021-08-01T00:00:00",
          "2021-09-01T00:00:00",
          "2021-10-01T00:00:00",
          "2021-11-01T00:00:00",
          "2021-12-01T00:00:00",
          "2022-01-01T00:00:00",
          "2022-02-01T00:00:00",
          "2022-03-01T00:00:00",
          "2022-04-01T00:00:00",
          "2022-05-01T00:00:00",
          "2022-06-01T00:00:00",
          "2022-07-01T00:00:00",
          "2022-08-01T00:00:00",
          "2022-09-01T00:00:00",
          "2022-10-01T00:00:00",
          "2022-11-01T00:00:00",
          "2022-12-01T00:00:00",
          "2023-01-01T00:00:00",
          "2023-02-01T00:00:00",
          "2023-03-01T00:00:00",
          "2023-04-01T00:00:00",
          "2023-05-01T00:00:00",
          "2023-06-01T00:00:00",
          "2023-07-01T00:00:00",
          "2023-08-01T00:00:00",
          "2023-09-01T00:00:00",
          "2023-10-01T00:00:00",
          "2023-11-01T00:00:00",
          "2023-12-01T00:00:00",
          "2024-01-01T00:00:00",
          "2024-02-01T00:00:00",
          "2024-03-01T00:00:00",
          "2024-04-01T00:00:00",
          "2024-05-01T00:00:00",
          "2024-06-01T00:00:00",
          "2024-07-01T00:00:00",
          "2024-08-01T00:00:00",
          "2024-09-01T00:00:00"
         ],
         "xaxis": "x",
         "y": [
          74,
          69,
          82,
          62,
          81,
          73,
          75,
          82,
          73,
          73,
          64,
          68,
          88,
          65,
          86,
          62,
          73,
          65,
          71,
          73,
          62,
          64,
          67,
          66,
          75,
          58,
          61,
          66,
          74,
          65,
          62,
          51,
          56,
          52,
          57,
          57,
          58,
          50,
          61,
          60,
          74,
          66,
          72,
          58,
          58,
          71,
          70,
          61,
          70,
          67,
          65,
          73,
          69,
          63,
          64,
          67,
          64,
          65,
          61,
          51,
          62,
          65,
          63,
          77,
          62,
          71,
          64,
          66,
          57,
          71,
          53,
          63,
          67,
          62,
          68,
          61,
          72,
          69,
          58,
          64,
          58
         ],
         "yaxis": "y"
        },
        {
         "hovertemplate": "<b>%{hovertext}</b><br><br>port_name=Port Everglades, FL<br>month=%{x}<br>calls=%{y}<extra></extra>",
         "hovertext": [
          "Port Everglades, FL",
          "Port Everglades, FL",
          "Port Everglades, FL",
          "Port Everglades, FL",
          "Port Everglades, FL",
          "Port Everglades, FL",
          "Port Everglades, FL",
          "Port Everglades, FL",
          "Port Everglades, FL",
          "Port Everglades, FL",
          "Port Everglades, FL",
          "Port Everglades, FL",
          "Port Everglades, FL",
          "Port Everglades, FL",
          "Port Everglades, FL",
          "Port Everglades, FL",
          "Port Everglades, FL",
          "Port Everglades, FL",
          "Port Everglades, FL",
          "Port Everglades, FL",
          "Port Everglades, FL",
          "Port Everglades, FL",
          "Port Everglades, FL",
          "Port Everglades, FL",
          "Port Everglades, FL",
          "Port Everglades, FL",
          "Port Everglades, FL",
          "Port Everglades, FL",
          "Port Everglades, FL",
          "Port Everglades, FL",
          "Port Everglades, FL",
          "Port Everglades, FL",
          "Port Everglades, FL",
          "Port Everglades, FL",
          "Port Everglades, FL",
          "Port Everglades, FL",
          "Port Everglades, FL",
          "Port Everglades, FL",
          "Port Everglades, FL",
          "Port Everglades, FL",
          "Port Everglades, FL",
          "Port Everglades, FL",
          "Port Everglades, FL",
          "Port Everglades, FL",
          "Port Everglades, FL",
          "Port Everglades, FL",
          "Port Everglades, FL",
          "Port Everglades, FL",
          "Port Everglades, FL",
          "Port Everglades, FL",
          "Port Everglades, FL",
          "Port Everglades, FL",
          "Port Everglades, FL",
          "Port Everglades, FL",
          "Port Everglades, FL",
          "Port Everglades, FL",
          "Port Everglades, FL",
          "Port Everglades, FL",
          "Port Everglades, FL",
          "Port Everglades, FL",
          "Port Everglades, FL",
          "Port Everglades, FL",
          "Port Everglades, FL",
          "Port Everglades, FL",
          "Port Everglades, FL",
          "Port Everglades, FL",
          "Port Everglades, FL",
          "Port Everglades, FL",
          "Port Everglades, FL",
          "Port Everglades, FL",
          "Port Everglades, FL",
          "Port Everglades, FL",
          "Port Everglades, FL",
          "Port Everglades, FL",
          "Port Everglades, FL",
          "Port Everglades, FL",
          "Port Everglades, FL",
          "Port Everglades, FL",
          "Port Everglades, FL",
          "Port Everglades, FL",
          "Port Everglades, FL"
         ],
         "legendgroup": "Port Everglades, FL",
         "line": {
          "color": "#ab63fa",
          "dash": "solid"
         },
         "marker": {
          "symbol": "circle"
         },
         "mode": "lines",
         "name": "Port Everglades, FL",
         "orientation": "v",
         "showlegend": true,
         "type": "scatter",
         "x": [
          "2018-01-01T00:00:00",
          "2018-02-01T00:00:00",
          "2018-03-01T00:00:00",
          "2018-04-01T00:00:00",
          "2018-05-01T00:00:00",
          "2018-06-01T00:00:00",
          "2018-07-01T00:00:00",
          "2018-08-01T00:00:00",
          "2018-09-01T00:00:00",
          "2018-10-01T00:00:00",
          "2018-11-01T00:00:00",
          "2018-12-01T00:00:00",
          "2019-01-01T00:00:00",
          "2019-02-01T00:00:00",
          "2019-03-01T00:00:00",
          "2019-04-01T00:00:00",
          "2019-05-01T00:00:00",
          "2019-06-01T00:00:00",
          "2019-07-01T00:00:00",
          "2019-08-01T00:00:00",
          "2019-09-01T00:00:00",
          "2019-10-01T00:00:00",
          "2019-11-01T00:00:00",
          "2019-12-01T00:00:00",
          "2020-01-01T00:00:00",
          "2020-02-01T00:00:00",
          "2020-03-01T00:00:00",
          "2020-04-01T00:00:00",
          "2020-05-01T00:00:00",
          "2020-06-01T00:00:00",
          "2020-07-01T00:00:00",
          "2020-08-01T00:00:00",
          "2020-09-01T00:00:00",
          "2020-10-01T00:00:00",
          "2020-11-01T00:00:00",
          "2020-12-01T00:00:00",
          "2021-01-01T00:00:00",
          "2021-02-01T00:00:00",
          "2021-03-01T00:00:00",
          "2021-04-01T00:00:00",
          "2021-05-01T00:00:00",
          "2021-06-01T00:00:00",
          "2021-07-01T00:00:00",
          "2021-08-01T00:00:00",
          "2021-09-01T00:00:00",
          "2021-10-01T00:00:00",
          "2021-11-01T00:00:00",
          "2021-12-01T00:00:00",
          "2022-01-01T00:00:00",
          "2022-02-01T00:00:00",
          "2022-03-01T00:00:00",
          "2022-04-01T00:00:00",
          "2022-05-01T00:00:00",
          "2022-06-01T00:00:00",
          "2022-07-01T00:00:00",
          "2022-08-01T00:00:00",
          "2022-09-01T00:00:00",
          "2022-10-01T00:00:00",
          "2022-11-01T00:00:00",
          "2022-12-01T00:00:00",
          "2023-01-01T00:00:00",
          "2023-02-01T00:00:00",
          "2023-03-01T00:00:00",
          "2023-04-01T00:00:00",
          "2023-05-01T00:00:00",
          "2023-06-01T00:00:00",
          "2023-07-01T00:00:00",
          "2023-08-01T00:00:00",
          "2023-09-01T00:00:00",
          "2023-10-01T00:00:00",
          "2023-11-01T00:00:00",
          "2023-12-01T00:00:00",
          "2024-01-01T00:00:00",
          "2024-02-01T00:00:00",
          "2024-03-01T00:00:00",
          "2024-04-01T00:00:00",
          "2024-05-01T00:00:00",
          "2024-06-01T00:00:00",
          "2024-07-01T00:00:00",
          "2024-08-01T00:00:00",
          "2024-09-01T00:00:00"
         ],
         "xaxis": "x",
         "y": [
          129,
          129,
          131,
          125,
          130,
          111,
          120,
          123,
          114,
          133,
          121,
          124,
          133,
          109,
          136,
          130,
          146,
          132,
          130,
          115,
          125,
          140,
          130,
          128,
          130,
          125,
          130,
          98,
          102,
          101,
          110,
          106,
          102,
          102,
          97,
          100,
          102,
          95,
          100,
          127,
          132,
          136,
          119,
          128,
          128,
          120,
          121,
          126,
          122,
          133,
          119,
          125,
          127,
          117,
          119,
          113,
          100,
          126,
          113,
          122,
          142,
          127,
          131,
          130,
          131,
          117,
          110,
          115,
          117,
          117,
          102,
          127,
          136,
          124,
          129,
          126,
          126,
          126,
          119,
          113,
          115
         ],
         "yaxis": "y"
        },
        {
         "hovertemplate": "<b>%{hovertext}</b><br><br>port_name=Port of Long Beach, CA<br>month=%{x}<br>calls=%{y}<extra></extra>",
         "hovertext": [
          "Port of Long Beach, CA",
          "Port of Long Beach, CA",
          "Port of Long Beach, CA",
          "Port of Long Beach, CA",
          "Port of Long Beach, CA",
          "Port of Long Beach, CA",
          "Port of Long Beach, CA",
          "Port of Long Beach, CA",
          "Port of Long Beach, CA",
          "Port of Long Beach, CA",
          "Port of Long Beach, CA",
          "Port of Long Beach, CA",
          "Port of Long Beach, CA",
          "Port of Long Beach, CA",
          "Port of Long Beach, CA",
          "Port of Long Beach, CA",
          "Port of Long Beach, CA",
          "Port of Long Beach, CA",
          "Port of Long Beach, CA",
          "Port of Long Beach, CA",
          "Port of Long Beach, CA",
          "Port of Long Beach, CA",
          "Port of Long Beach, CA",
          "Port of Long Beach, CA",
          "Port of Long Beach, CA",
          "Port of Long Beach, CA",
          "Port of Long Beach, CA",
          "Port of Long Beach, CA",
          "Port of Long Beach, CA",
          "Port of Long Beach, CA",
          "Port of Long Beach, CA",
          "Port of Long Beach, CA",
          "Port of Long Beach, CA",
          "Port of Long Beach, CA",
          "Port of Long Beach, CA",
          "Port of Long Beach, CA",
          "Port of Long Beach, CA",
          "Port of Long Beach, CA",
          "Port of Long Beach, CA",
          "Port of Long Beach, CA",
          "Port of Long Beach, CA",
          "Port of Long Beach, CA",
          "Port of Long Beach, CA",
          "Port of Long Beach, CA",
          "Port of Long Beach, CA",
          "Port of Long Beach, CA",
          "Port of Long Beach, CA",
          "Port of Long Beach, CA",
          "Port of Long Beach, CA",
          "Port of Long Beach, CA",
          "Port of Long Beach, CA",
          "Port of Long Beach, CA",
          "Port of Long Beach, CA",
          "Port of Long Beach, CA",
          "Port of Long Beach, CA",
          "Port of Long Beach, CA",
          "Port of Long Beach, CA",
          "Port of Long Beach, CA",
          "Port of Long Beach, CA",
          "Port of Long Beach, CA",
          "Port of Long Beach, CA",
          "Port of Long Beach, CA",
          "Port of Long Beach, CA",
          "Port of Long Beach, CA",
          "Port of Long Beach, CA",
          "Port of Long Beach, CA",
          "Port of Long Beach, CA",
          "Port of Long Beach, CA",
          "Port of Long Beach, CA",
          "Port of Long Beach, CA",
          "Port of Long Beach, CA",
          "Port of Long Beach, CA",
          "Port of Long Beach, CA",
          "Port of Long Beach, CA",
          "Port of Long Beach, CA",
          "Port of Long Beach, CA",
          "Port of Long Beach, CA",
          "Port of Long Beach, CA",
          "Port of Long Beach, CA",
          "Port of Long Beach, CA",
          "Port of Long Beach, CA"
         ],
         "legendgroup": "Port of Long Beach, CA",
         "line": {
          "color": "#FFA15A",
          "dash": "solid"
         },
         "marker": {
          "symbol": "circle"
         },
         "mode": "lines",
         "name": "Port of Long Beach, CA",
         "orientation": "v",
         "showlegend": true,
         "type": "scatter",
         "x": [
          "2018-01-01T00:00:00",
          "2018-02-01T00:00:00",
          "2018-03-01T00:00:00",
          "2018-04-01T00:00:00",
          "2018-05-01T00:00:00",
          "2018-06-01T00:00:00",
          "2018-07-01T00:00:00",
          "2018-08-01T00:00:00",
          "2018-09-01T00:00:00",
          "2018-10-01T00:00:00",
          "2018-11-01T00:00:00",
          "2018-12-01T00:00:00",
          "2019-01-01T00:00:00",
          "2019-02-01T00:00:00",
          "2019-03-01T00:00:00",
          "2019-04-01T00:00:00",
          "2019-05-01T00:00:00",
          "2019-06-01T00:00:00",
          "2019-07-01T00:00:00",
          "2019-08-01T00:00:00",
          "2019-09-01T00:00:00",
          "2019-10-01T00:00:00",
          "2019-11-01T00:00:00",
          "2019-12-01T00:00:00",
          "2020-01-01T00:00:00",
          "2020-02-01T00:00:00",
          "2020-03-01T00:00:00",
          "2020-04-01T00:00:00",
          "2020-05-01T00:00:00",
          "2020-06-01T00:00:00",
          "2020-07-01T00:00:00",
          "2020-08-01T00:00:00",
          "2020-09-01T00:00:00",
          "2020-10-01T00:00:00",
          "2020-11-01T00:00:00",
          "2020-12-01T00:00:00",
          "2021-01-01T00:00:00",
          "2021-02-01T00:00:00",
          "2021-03-01T00:00:00",
          "2021-04-01T00:00:00",
          "2021-05-01T00:00:00",
          "2021-06-01T00:00:00",
          "2021-07-01T00:00:00",
          "2021-08-01T00:00:00",
          "2021-09-01T00:00:00",
          "2021-10-01T00:00:00",
          "2021-11-01T00:00:00",
          "2021-12-01T00:00:00",
          "2022-01-01T00:00:00",
          "2022-02-01T00:00:00",
          "2022-03-01T00:00:00",
          "2022-04-01T00:00:00",
          "2022-05-01T00:00:00",
          "2022-06-01T00:00:00",
          "2022-07-01T00:00:00",
          "2022-08-01T00:00:00",
          "2022-09-01T00:00:00",
          "2022-10-01T00:00:00",
          "2022-11-01T00:00:00",
          "2022-12-01T00:00:00",
          "2023-01-01T00:00:00",
          "2023-02-01T00:00:00",
          "2023-03-01T00:00:00",
          "2023-04-01T00:00:00",
          "2023-05-01T00:00:00",
          "2023-06-01T00:00:00",
          "2023-07-01T00:00:00",
          "2023-08-01T00:00:00",
          "2023-09-01T00:00:00",
          "2023-10-01T00:00:00",
          "2023-11-01T00:00:00",
          "2023-12-01T00:00:00",
          "2024-01-01T00:00:00",
          "2024-02-01T00:00:00",
          "2024-03-01T00:00:00",
          "2024-04-01T00:00:00",
          "2024-05-01T00:00:00",
          "2024-06-01T00:00:00",
          "2024-07-01T00:00:00",
          "2024-08-01T00:00:00",
          "2024-09-01T00:00:00"
         ],
         "xaxis": "x",
         "y": [
          127,
          114,
          122,
          130,
          110,
          123,
          108,
          115,
          109,
          119,
          110,
          100,
          112,
          90,
          100,
          102,
          103,
          111,
          112,
          105,
          107,
          106,
          105,
          113,
          95,
          89,
          96,
          93,
          75,
          79,
          93,
          83,
          100,
          109,
          101,
          97,
          83,
          85,
          92,
          120,
          121,
          131,
          130,
          112,
          118,
          117,
          107,
          131,
          140,
          139,
          155,
          169,
          148,
          148,
          125,
          129,
          123,
          123,
          120,
          111,
          107,
          96,
          117,
          118,
          126,
          124,
          113,
          122,
          102,
          110,
          109,
          102,
          122,
          112,
          120,
          117,
          123,
          116,
          130,
          129,
          127
         ],
         "yaxis": "y"
        },
        {
         "hovertemplate": "<b>%{hovertext}</b><br><br>port_name=Port of Los Angeles, CA<br>month=%{x}<br>calls=%{y}<extra></extra>",
         "hovertext": [
          "Port of Los Angeles, CA",
          "Port of Los Angeles, CA",
          "Port of Los Angeles, CA",
          "Port of Los Angeles, CA",
          "Port of Los Angeles, CA",
          "Port of Los Angeles, CA",
          "Port of Los Angeles, CA",
          "Port of Los Angeles, CA",
          "Port of Los Angeles, CA",
          "Port of Los Angeles, CA",
          "Port of Los Angeles, CA",
          "Port of Los Angeles, CA",
          "Port of Los Angeles, CA",
          "Port of Los Angeles, CA",
          "Port of Los Angeles, CA",
          "Port of Los Angeles, CA",
          "Port of Los Angeles, CA",
          "Port of Los Angeles, CA",
          "Port of Los Angeles, CA",
          "Port of Los Angeles, CA",
          "Port of Los Angeles, CA",
          "Port of Los Angeles, CA",
          "Port of Los Angeles, CA",
          "Port of Los Angeles, CA",
          "Port of Los Angeles, CA",
          "Port of Los Angeles, CA",
          "Port of Los Angeles, CA",
          "Port of Los Angeles, CA",
          "Port of Los Angeles, CA",
          "Port of Los Angeles, CA",
          "Port of Los Angeles, CA",
          "Port of Los Angeles, CA",
          "Port of Los Angeles, CA",
          "Port of Los Angeles, CA",
          "Port of Los Angeles, CA",
          "Port of Los Angeles, CA",
          "Port of Los Angeles, CA",
          "Port of Los Angeles, CA",
          "Port of Los Angeles, CA",
          "Port of Los Angeles, CA",
          "Port of Los Angeles, CA",
          "Port of Los Angeles, CA",
          "Port of Los Angeles, CA",
          "Port of Los Angeles, CA",
          "Port of Los Angeles, CA",
          "Port of Los Angeles, CA",
          "Port of Los Angeles, CA",
          "Port of Los Angeles, CA",
          "Port of Los Angeles, CA",
          "Port of Los Angeles, CA",
          "Port of Los Angeles, CA",
          "Port of Los Angeles, CA",
          "Port of Los Angeles, CA",
          "Port of Los Angeles, CA",
          "Port of Los Angeles, CA",
          "Port of Los Angeles, CA",
          "Port of Los Angeles, CA",
          "Port of Los Angeles, CA",
          "Port of Los Angeles, CA",
          "Port of Los Angeles, CA",
          "Port of Los Angeles, CA",
          "Port of Los Angeles, CA",
          "Port of Los Angeles, CA",
          "Port of Los Angeles, CA",
          "Port of Los Angeles, CA",
          "Port of Los Angeles, CA",
          "Port of Los Angeles, CA",
          "Port of Los Angeles, CA",
          "Port of Los Angeles, CA",
          "Port of Los Angeles, CA",
          "Port of Los Angeles, CA",
          "Port of Los Angeles, CA",
          "Port of Los Angeles, CA",
          "Port of Los Angeles, CA",
          "Port of Los Angeles, CA",
          "Port of Los Angeles, CA",
          "Port of Los Angeles, CA",
          "Port of Los Angeles, CA",
          "Port of Los Angeles, CA",
          "Port of Los Angeles, CA",
          "Port of Los Angeles, CA"
         ],
         "legendgroup": "Port of Los Angeles, CA",
         "line": {
          "color": "#19d3f3",
          "dash": "solid"
         },
         "marker": {
          "symbol": "circle"
         },
         "mode": "lines",
         "name": "Port of Los Angeles, CA",
         "orientation": "v",
         "showlegend": true,
         "type": "scatter",
         "x": [
          "2018-01-01T00:00:00",
          "2018-02-01T00:00:00",
          "2018-03-01T00:00:00",
          "2018-04-01T00:00:00",
          "2018-05-01T00:00:00",
          "2018-06-01T00:00:00",
          "2018-07-01T00:00:00",
          "2018-08-01T00:00:00",
          "2018-09-01T00:00:00",
          "2018-10-01T00:00:00",
          "2018-11-01T00:00:00",
          "2018-12-01T00:00:00",
          "2019-01-01T00:00:00",
          "2019-02-01T00:00:00",
          "2019-03-01T00:00:00",
          "2019-04-01T00:00:00",
          "2019-05-01T00:00:00",
          "2019-06-01T00:00:00",
          "2019-07-01T00:00:00",
          "2019-08-01T00:00:00",
          "2019-09-01T00:00:00",
          "2019-10-01T00:00:00",
          "2019-11-01T00:00:00",
          "2019-12-01T00:00:00",
          "2020-01-01T00:00:00",
          "2020-02-01T00:00:00",
          "2020-03-01T00:00:00",
          "2020-04-01T00:00:00",
          "2020-05-01T00:00:00",
          "2020-06-01T00:00:00",
          "2020-07-01T00:00:00",
          "2020-08-01T00:00:00",
          "2020-09-01T00:00:00",
          "2020-10-01T00:00:00",
          "2020-11-01T00:00:00",
          "2020-12-01T00:00:00",
          "2021-01-01T00:00:00",
          "2021-02-01T00:00:00",
          "2021-03-01T00:00:00",
          "2021-04-01T00:00:00",
          "2021-05-01T00:00:00",
          "2021-06-01T00:00:00",
          "2021-07-01T00:00:00",
          "2021-08-01T00:00:00",
          "2021-09-01T00:00:00",
          "2021-10-01T00:00:00",
          "2021-11-01T00:00:00",
          "2021-12-01T00:00:00",
          "2022-01-01T00:00:00",
          "2022-02-01T00:00:00",
          "2022-03-01T00:00:00",
          "2022-04-01T00:00:00",
          "2022-05-01T00:00:00",
          "2022-06-01T00:00:00",
          "2022-07-01T00:00:00",
          "2022-08-01T00:00:00",
          "2022-09-01T00:00:00",
          "2022-10-01T00:00:00",
          "2022-11-01T00:00:00",
          "2022-12-01T00:00:00",
          "2023-01-01T00:00:00",
          "2023-02-01T00:00:00",
          "2023-03-01T00:00:00",
          "2023-04-01T00:00:00",
          "2023-05-01T00:00:00",
          "2023-06-01T00:00:00",
          "2023-07-01T00:00:00",
          "2023-08-01T00:00:00",
          "2023-09-01T00:00:00",
          "2023-10-01T00:00:00",
          "2023-11-01T00:00:00",
          "2023-12-01T00:00:00",
          "2024-01-01T00:00:00",
          "2024-02-01T00:00:00",
          "2024-03-01T00:00:00",
          "2024-04-01T00:00:00",
          "2024-05-01T00:00:00",
          "2024-06-01T00:00:00",
          "2024-07-01T00:00:00",
          "2024-08-01T00:00:00",
          "2024-09-01T00:00:00"
         ],
         "xaxis": "x",
         "y": [
          50,
          65,
          77,
          82,
          90,
          88,
          96,
          97,
          83,
          88,
          80,
          88,
          95,
          84,
          86,
          91,
          88,
          77,
          81,
          78,
          77,
          81,
          72,
          76,
          76,
          57,
          72,
          63,
          46,
          60,
          72,
          74,
          77,
          75,
          63,
          66,
          54,
          58,
          59,
          78,
          88,
          92,
          77,
          79,
          72,
          58,
          64,
          63,
          104,
          93,
          106,
          90,
          89,
          83,
          66,
          68,
          61,
          57,
          66,
          73,
          66,
          57,
          81,
          80,
          78,
          76,
          72,
          72,
          69,
          66,
          66,
          72,
          81,
          64,
          80,
          73,
          77,
          73,
          74,
          83,
          66
         ],
         "yaxis": "y"
        },
        {
         "hovertemplate": "<b>%{hovertext}</b><br><br>port_name=Port of Oakland, CA<br>month=%{x}<br>calls=%{y}<extra></extra>",
         "hovertext": [
          "Port of Oakland, CA",
          "Port of Oakland, CA",
          "Port of Oakland, CA",
          "Port of Oakland, CA",
          "Port of Oakland, CA",
          "Port of Oakland, CA",
          "Port of Oakland, CA",
          "Port of Oakland, CA",
          "Port of Oakland, CA",
          "Port of Oakland, CA",
          "Port of Oakland, CA",
          "Port of Oakland, CA",
          "Port of Oakland, CA",
          "Port of Oakland, CA",
          "Port of Oakland, CA",
          "Port of Oakland, CA",
          "Port of Oakland, CA",
          "Port of Oakland, CA",
          "Port of Oakland, CA",
          "Port of Oakland, CA",
          "Port of Oakland, CA",
          "Port of Oakland, CA",
          "Port of Oakland, CA",
          "Port of Oakland, CA",
          "Port of Oakland, CA",
          "Port of Oakland, CA",
          "Port of Oakland, CA",
          "Port of Oakland, CA",
          "Port of Oakland, CA",
          "Port of Oakland, CA",
          "Port of Oakland, CA",
          "Port of Oakland, CA",
          "Port of Oakland, CA",
          "Port of Oakland, CA",
          "Port of Oakland, CA",
          "Port of Oakland, CA",
          "Port of Oakland, CA",
          "Port of Oakland, CA",
          "Port of Oakland, CA",
          "Port of Oakland, CA",
          "Port of Oakland, CA",
          "Port of Oakland, CA",
          "Port of Oakland, CA",
          "Port of Oakland, CA",
          "Port of Oakland, CA",
          "Port of Oakland, CA",
          "Port of Oakland, CA",
          "Port of Oakland, CA",
          "Port of Oakland, CA",
          "Port of Oakland, CA",
          "Port of Oakland, CA",
          "Port of Oakland, CA",
          "Port of Oakland, CA",
          "Port of Oakland, CA",
          "Port of Oakland, CA",
          "Port of Oakland, CA",
          "Port of Oakland, CA",
          "Port of Oakland, CA",
          "Port of Oakland, CA",
          "Port of Oakland, CA",
          "Port of Oakland, CA",
          "Port of Oakland, CA",
          "Port of Oakland, CA",
          "Port of Oakland, CA",
          "Port of Oakland, CA",
          "Port of Oakland, CA",
          "Port of Oakland, CA",
          "Port of Oakland, CA",
          "Port of Oakland, CA",
          "Port of Oakland, CA",
          "Port of Oakland, CA",
          "Port of Oakland, CA",
          "Port of Oakland, CA",
          "Port of Oakland, CA",
          "Port of Oakland, CA",
          "Port of Oakland, CA",
          "Port of Oakland, CA",
          "Port of Oakland, CA",
          "Port of Oakland, CA",
          "Port of Oakland, CA",
          "Port of Oakland, CA"
         ],
         "legendgroup": "Port of Oakland, CA",
         "line": {
          "color": "#FF6692",
          "dash": "solid"
         },
         "marker": {
          "symbol": "circle"
         },
         "mode": "lines",
         "name": "Port of Oakland, CA",
         "orientation": "v",
         "showlegend": true,
         "type": "scatter",
         "x": [
          "2018-01-01T00:00:00",
          "2018-02-01T00:00:00",
          "2018-03-01T00:00:00",
          "2018-04-01T00:00:00",
          "2018-05-01T00:00:00",
          "2018-06-01T00:00:00",
          "2018-07-01T00:00:00",
          "2018-08-01T00:00:00",
          "2018-09-01T00:00:00",
          "2018-10-01T00:00:00",
          "2018-11-01T00:00:00",
          "2018-12-01T00:00:00",
          "2019-01-01T00:00:00",
          "2019-02-01T00:00:00",
          "2019-03-01T00:00:00",
          "2019-04-01T00:00:00",
          "2019-05-01T00:00:00",
          "2019-06-01T00:00:00",
          "2019-07-01T00:00:00",
          "2019-08-01T00:00:00",
          "2019-09-01T00:00:00",
          "2019-10-01T00:00:00",
          "2019-11-01T00:00:00",
          "2019-12-01T00:00:00",
          "2020-01-01T00:00:00",
          "2020-02-01T00:00:00",
          "2020-03-01T00:00:00",
          "2020-04-01T00:00:00",
          "2020-05-01T00:00:00",
          "2020-06-01T00:00:00",
          "2020-07-01T00:00:00",
          "2020-08-01T00:00:00",
          "2020-09-01T00:00:00",
          "2020-10-01T00:00:00",
          "2020-11-01T00:00:00",
          "2020-12-01T00:00:00",
          "2021-01-01T00:00:00",
          "2021-02-01T00:00:00",
          "2021-03-01T00:00:00",
          "2021-04-01T00:00:00",
          "2021-05-01T00:00:00",
          "2021-06-01T00:00:00",
          "2021-07-01T00:00:00",
          "2021-08-01T00:00:00",
          "2021-09-01T00:00:00",
          "2021-10-01T00:00:00",
          "2021-11-01T00:00:00",
          "2021-12-01T00:00:00",
          "2022-01-01T00:00:00",
          "2022-02-01T00:00:00",
          "2022-03-01T00:00:00",
          "2022-04-01T00:00:00",
          "2022-05-01T00:00:00",
          "2022-06-01T00:00:00",
          "2022-07-01T00:00:00",
          "2022-08-01T00:00:00",
          "2022-09-01T00:00:00",
          "2022-10-01T00:00:00",
          "2022-11-01T00:00:00",
          "2022-12-01T00:00:00",
          "2023-01-01T00:00:00",
          "2023-02-01T00:00:00",
          "2023-03-01T00:00:00",
          "2023-04-01T00:00:00",
          "2023-05-01T00:00:00",
          "2023-06-01T00:00:00",
          "2023-07-01T00:00:00",
          "2023-08-01T00:00:00",
          "2023-09-01T00:00:00",
          "2023-10-01T00:00:00",
          "2023-11-01T00:00:00",
          "2023-12-01T00:00:00",
          "2024-01-01T00:00:00",
          "2024-02-01T00:00:00",
          "2024-03-01T00:00:00",
          "2024-04-01T00:00:00",
          "2024-05-01T00:00:00",
          "2024-06-01T00:00:00",
          "2024-07-01T00:00:00",
          "2024-08-01T00:00:00",
          "2024-09-01T00:00:00"
         ],
         "xaxis": "x",
         "y": [
          90,
          75,
          74,
          84,
          87,
          84,
          82,
          83,
          78,
          76,
          71,
          66,
          71,
          61,
          61,
          64,
          60,
          60,
          63,
          70,
          60,
          67,
          58,
          63,
          64,
          46,
          54,
          52,
          53,
          49,
          68,
          59,
          57,
          62,
          53,
          45,
          37,
          34,
          43,
          50,
          46,
          42,
          42,
          40,
          30,
          30,
          39,
          29,
          38,
          45,
          62,
          48,
          46,
          63,
          41,
          41,
          36,
          43,
          41,
          40,
          48,
          40,
          46,
          49,
          52,
          53,
          65,
          66,
          57,
          61,
          58,
          58,
          61,
          58,
          62,
          57,
          56,
          55,
          51,
          54,
          67
         ],
         "yaxis": "y"
        },
        {
         "hovertemplate": "<b>%{hovertext}</b><br><br>port_name=PortMiami, FL<br>month=%{x}<br>calls=%{y}<extra></extra>",
         "hovertext": [
          "PortMiami, FL",
          "PortMiami, FL",
          "PortMiami, FL",
          "PortMiami, FL",
          "PortMiami, FL",
          "PortMiami, FL",
          "PortMiami, FL",
          "PortMiami, FL",
          "PortMiami, FL",
          "PortMiami, FL",
          "PortMiami, FL",
          "PortMiami, FL",
          "PortMiami, FL",
          "PortMiami, FL",
          "PortMiami, FL",
          "PortMiami, FL",
          "PortMiami, FL",
          "PortMiami, FL",
          "PortMiami, FL",
          "PortMiami, FL",
          "PortMiami, FL",
          "PortMiami, FL",
          "PortMiami, FL",
          "PortMiami, FL",
          "PortMiami, FL",
          "PortMiami, FL",
          "PortMiami, FL",
          "PortMiami, FL",
          "PortMiami, FL",
          "PortMiami, FL",
          "PortMiami, FL",
          "PortMiami, FL",
          "PortMiami, FL",
          "PortMiami, FL",
          "PortMiami, FL",
          "PortMiami, FL",
          "PortMiami, FL",
          "PortMiami, FL",
          "PortMiami, FL",
          "PortMiami, FL",
          "PortMiami, FL",
          "PortMiami, FL",
          "PortMiami, FL",
          "PortMiami, FL",
          "PortMiami, FL",
          "PortMiami, FL",
          "PortMiami, FL",
          "PortMiami, FL",
          "PortMiami, FL",
          "PortMiami, FL",
          "PortMiami, FL",
          "PortMiami, FL",
          "PortMiami, FL",
          "PortMiami, FL",
          "PortMiami, FL",
          "PortMiami, FL",
          "PortMiami, FL",
          "PortMiami, FL",
          "PortMiami, FL",
          "PortMiami, FL",
          "PortMiami, FL",
          "PortMiami, FL",
          "PortMiami, FL",
          "PortMiami, FL",
          "PortMiami, FL",
          "PortMiami, FL",
          "PortMiami, FL",
          "PortMiami, FL",
          "PortMiami, FL",
          "PortMiami, FL",
          "PortMiami, FL",
          "PortMiami, FL",
          "PortMiami, FL",
          "PortMiami, FL",
          "PortMiami, FL",
          "PortMiami, FL",
          "PortMiami, FL",
          "PortMiami, FL",
          "PortMiami, FL",
          "PortMiami, FL",
          "PortMiami, FL"
         ],
         "legendgroup": "PortMiami, FL",
         "line": {
          "color": "#B6E880",
          "dash": "solid"
         },
         "marker": {
          "symbol": "circle"
         },
         "mode": "lines",
         "name": "PortMiami, FL",
         "orientation": "v",
         "showlegend": true,
         "type": "scatter",
         "x": [
          "2018-01-01T00:00:00",
          "2018-02-01T00:00:00",
          "2018-03-01T00:00:00",
          "2018-04-01T00:00:00",
          "2018-05-01T00:00:00",
          "2018-06-01T00:00:00",
          "2018-07-01T00:00:00",
          "2018-08-01T00:00:00",
          "2018-09-01T00:00:00",
          "2018-10-01T00:00:00",
          "2018-11-01T00:00:00",
          "2018-12-01T00:00:00",
          "2019-01-01T00:00:00",
          "2019-02-01T00:00:00",
          "2019-03-01T00:00:00",
          "2019-04-01T00:00:00",
          "2019-05-01T00:00:00",
          "2019-06-01T00:00:00",
          "2019-07-01T00:00:00",
          "2019-08-01T00:00:00",
          "2019-09-01T00:00:00",
          "2019-10-01T00:00:00",
          "2019-11-01T00:00:00",
          "2019-12-01T00:00:00",
          "2020-01-01T00:00:00",
          "2020-02-01T00:00:00",
          "2020-03-01T00:00:00",
          "2020-04-01T00:00:00",
          "2020-05-01T00:00:00",
          "2020-06-01T00:00:00",
          "2020-07-01T00:00:00",
          "2020-08-01T00:00:00",
          "2020-09-01T00:00:00",
          "2020-10-01T00:00:00",
          "2020-11-01T00:00:00",
          "2020-12-01T00:00:00",
          "2021-01-01T00:00:00",
          "2021-02-01T00:00:00",
          "2021-03-01T00:00:00",
          "2021-04-01T00:00:00",
          "2021-05-01T00:00:00",
          "2021-06-01T00:00:00",
          "2021-07-01T00:00:00",
          "2021-08-01T00:00:00",
          "2021-09-01T00:00:00",
          "2021-10-01T00:00:00",
          "2021-11-01T00:00:00",
          "2021-12-01T00:00:00",
          "2022-01-01T00:00:00",
          "2022-02-01T00:00:00",
          "2022-03-01T00:00:00",
          "2022-04-01T00:00:00",
          "2022-05-01T00:00:00",
          "2022-06-01T00:00:00",
          "2022-07-01T00:00:00",
          "2022-08-01T00:00:00",
          "2022-09-01T00:00:00",
          "2022-10-01T00:00:00",
          "2022-11-01T00:00:00",
          "2022-12-01T00:00:00",
          "2023-01-01T00:00:00",
          "2023-02-01T00:00:00",
          "2023-03-01T00:00:00",
          "2023-04-01T00:00:00",
          "2023-05-01T00:00:00",
          "2023-06-01T00:00:00",
          "2023-07-01T00:00:00",
          "2023-08-01T00:00:00",
          "2023-09-01T00:00:00",
          "2023-10-01T00:00:00",
          "2023-11-01T00:00:00",
          "2023-12-01T00:00:00",
          "2024-01-01T00:00:00",
          "2024-02-01T00:00:00",
          "2024-03-01T00:00:00",
          "2024-04-01T00:00:00",
          "2024-05-01T00:00:00",
          "2024-06-01T00:00:00",
          "2024-07-01T00:00:00",
          "2024-08-01T00:00:00",
          "2024-09-01T00:00:00"
         ],
         "xaxis": "x",
         "y": [
          54,
          53,
          64,
          57,
          69,
          64,
          70,
          72,
          45,
          62,
          55,
          48,
          62,
          59,
          53,
          54,
          64,
          55,
          53,
          60,
          66,
          58,
          57,
          54,
          63,
          59,
          62,
          47,
          42,
          43,
          43,
          59,
          57,
          62,
          52,
          54,
          60,
          40,
          60,
          65,
          62,
          61,
          60,
          74,
          67,
          63,
          55,
          57,
          57,
          51,
          50,
          53,
          46,
          51,
          49,
          38,
          48,
          48,
          44,
          54,
          56,
          47,
          63,
          49,
          58,
          57,
          55,
          61,
          57,
          61,
          60,
          59,
          68,
          67,
          71,
          68,
          65,
          60,
          53,
          55,
          47
         ],
         "yaxis": "y"
        },
        {
         "hovertemplate": "<b>%{hovertext}</b><br><br>port_name=San Juan, PR<br>month=%{x}<br>calls=%{y}<extra></extra>",
         "hovertext": [
          "San Juan, PR",
          "San Juan, PR",
          "San Juan, PR",
          "San Juan, PR",
          "San Juan, PR",
          "San Juan, PR",
          "San Juan, PR",
          "San Juan, PR",
          "San Juan, PR",
          "San Juan, PR",
          "San Juan, PR",
          "San Juan, PR",
          "San Juan, PR",
          "San Juan, PR",
          "San Juan, PR",
          "San Juan, PR",
          "San Juan, PR",
          "San Juan, PR",
          "San Juan, PR",
          "San Juan, PR",
          "San Juan, PR",
          "San Juan, PR",
          "San Juan, PR",
          "San Juan, PR",
          "San Juan, PR",
          "San Juan, PR",
          "San Juan, PR",
          "San Juan, PR",
          "San Juan, PR",
          "San Juan, PR",
          "San Juan, PR",
          "San Juan, PR",
          "San Juan, PR",
          "San Juan, PR",
          "San Juan, PR",
          "San Juan, PR",
          "San Juan, PR",
          "San Juan, PR",
          "San Juan, PR",
          "San Juan, PR",
          "San Juan, PR",
          "San Juan, PR",
          "San Juan, PR",
          "San Juan, PR",
          "San Juan, PR",
          "San Juan, PR",
          "San Juan, PR",
          "San Juan, PR",
          "San Juan, PR",
          "San Juan, PR",
          "San Juan, PR",
          "San Juan, PR",
          "San Juan, PR",
          "San Juan, PR",
          "San Juan, PR",
          "San Juan, PR",
          "San Juan, PR",
          "San Juan, PR",
          "San Juan, PR",
          "San Juan, PR",
          "San Juan, PR",
          "San Juan, PR",
          "San Juan, PR",
          "San Juan, PR",
          "San Juan, PR",
          "San Juan, PR",
          "San Juan, PR",
          "San Juan, PR",
          "San Juan, PR",
          "San Juan, PR",
          "San Juan, PR",
          "San Juan, PR",
          "San Juan, PR",
          "San Juan, PR",
          "San Juan, PR",
          "San Juan, PR",
          "San Juan, PR",
          "San Juan, PR",
          "San Juan, PR",
          "San Juan, PR",
          "San Juan, PR"
         ],
         "legendgroup": "San Juan, PR",
         "line": {
          "color": "#FF97FF",
          "dash": "solid"
         },
         "marker": {
          "symbol": "circle"
         },
         "mode": "lines",
         "name": "San Juan, PR",
         "orientation": "v",
         "showlegend": true,
         "type": "scatter",
         "x": [
          "2018-01-01T00:00:00",
          "2018-02-01T00:00:00",
          "2018-03-01T00:00:00",
          "2018-04-01T00:00:00",
          "2018-05-01T00:00:00",
          "2018-06-01T00:00:00",
          "2018-07-01T00:00:00",
          "2018-08-01T00:00:00",
          "2018-09-01T00:00:00",
          "2018-10-01T00:00:00",
          "2018-11-01T00:00:00",
          "2018-12-01T00:00:00",
          "2019-01-01T00:00:00",
          "2019-02-01T00:00:00",
          "2019-03-01T00:00:00",
          "2019-04-01T00:00:00",
          "2019-05-01T00:00:00",
          "2019-06-01T00:00:00",
          "2019-07-01T00:00:00",
          "2019-08-01T00:00:00",
          "2019-09-01T00:00:00",
          "2019-10-01T00:00:00",
          "2019-11-01T00:00:00",
          "2019-12-01T00:00:00",
          "2020-01-01T00:00:00",
          "2020-02-01T00:00:00",
          "2020-03-01T00:00:00",
          "2020-04-01T00:00:00",
          "2020-05-01T00:00:00",
          "2020-06-01T00:00:00",
          "2020-07-01T00:00:00",
          "2020-08-01T00:00:00",
          "2020-09-01T00:00:00",
          "2020-10-01T00:00:00",
          "2020-11-01T00:00:00",
          "2020-12-01T00:00:00",
          "2021-01-01T00:00:00",
          "2021-02-01T00:00:00",
          "2021-03-01T00:00:00",
          "2021-04-01T00:00:00",
          "2021-05-01T00:00:00",
          "2021-06-01T00:00:00",
          "2021-07-01T00:00:00",
          "2021-08-01T00:00:00",
          "2021-09-01T00:00:00",
          "2021-10-01T00:00:00",
          "2021-11-01T00:00:00",
          "2021-12-01T00:00:00",
          "2022-01-01T00:00:00",
          "2022-02-01T00:00:00",
          "2022-03-01T00:00:00",
          "2022-04-01T00:00:00",
          "2022-05-01T00:00:00",
          "2022-06-01T00:00:00",
          "2022-07-01T00:00:00",
          "2022-08-01T00:00:00",
          "2022-09-01T00:00:00",
          "2022-10-01T00:00:00",
          "2022-11-01T00:00:00",
          "2022-12-01T00:00:00",
          "2023-01-01T00:00:00",
          "2023-02-01T00:00:00",
          "2023-03-01T00:00:00",
          "2023-04-01T00:00:00",
          "2023-05-01T00:00:00",
          "2023-06-01T00:00:00",
          "2023-07-01T00:00:00",
          "2023-08-01T00:00:00",
          "2023-09-01T00:00:00",
          "2023-10-01T00:00:00",
          "2023-11-01T00:00:00",
          "2023-12-01T00:00:00",
          "2024-01-01T00:00:00",
          "2024-02-01T00:00:00",
          "2024-03-01T00:00:00",
          "2024-04-01T00:00:00",
          "2024-05-01T00:00:00",
          "2024-06-01T00:00:00",
          "2024-07-01T00:00:00",
          "2024-08-01T00:00:00",
          "2024-09-01T00:00:00"
         ],
         "xaxis": "x",
         "y": [
          59,
          64,
          67,
          73,
          81,
          70,
          79,
          72,
          65,
          78,
          78,
          67,
          77,
          75,
          84,
          76,
          74,
          71,
          72,
          66,
          61,
          50,
          55,
          63,
          63,
          53,
          67,
          58,
          48,
          49,
          54,
          55,
          64,
          62,
          56,
          54,
          55,
          48,
          57,
          78,
          83,
          82,
          79,
          76,
          74,
          94,
          80,
          73,
          72,
          69,
          85,
          82,
          85,
          84,
          73,
          82,
          74,
          86,
          81,
          76,
          87,
          77,
          86,
          90,
          93,
          93,
          92,
          89,
          86,
          92,
          81,
          75,
          86,
          90,
          78,
          85,
          82,
          84,
          88,
          86,
          64
         ],
         "yaxis": "y"
        },
        {
         "hovertemplate": "<b>%{hovertext}</b><br><br>port_name=Texas City, TX<br>month=%{x}<br>calls=%{y}<extra></extra>",
         "hovertext": [
          "Texas City, TX",
          "Texas City, TX",
          "Texas City, TX",
          "Texas City, TX",
          "Texas City, TX",
          "Texas City, TX",
          "Texas City, TX",
          "Texas City, TX",
          "Texas City, TX",
          "Texas City, TX",
          "Texas City, TX",
          "Texas City, TX",
          "Texas City, TX",
          "Texas City, TX",
          "Texas City, TX",
          "Texas City, TX",
          "Texas City, TX",
          "Texas City, TX",
          "Texas City, TX",
          "Texas City, TX",
          "Texas City, TX",
          "Texas City, TX",
          "Texas City, TX",
          "Texas City, TX",
          "Texas City, TX",
          "Texas City, TX",
          "Texas City, TX",
          "Texas City, TX",
          "Texas City, TX",
          "Texas City, TX",
          "Texas City, TX",
          "Texas City, TX",
          "Texas City, TX",
          "Texas City, TX",
          "Texas City, TX",
          "Texas City, TX",
          "Texas City, TX",
          "Texas City, TX",
          "Texas City, TX",
          "Texas City, TX",
          "Texas City, TX",
          "Texas City, TX",
          "Texas City, TX",
          "Texas City, TX",
          "Texas City, TX",
          "Texas City, TX",
          "Texas City, TX",
          "Texas City, TX",
          "Texas City, TX",
          "Texas City, TX",
          "Texas City, TX",
          "Texas City, TX",
          "Texas City, TX",
          "Texas City, TX",
          "Texas City, TX",
          "Texas City, TX",
          "Texas City, TX",
          "Texas City, TX",
          "Texas City, TX",
          "Texas City, TX",
          "Texas City, TX",
          "Texas City, TX",
          "Texas City, TX",
          "Texas City, TX",
          "Texas City, TX",
          "Texas City, TX",
          "Texas City, TX",
          "Texas City, TX",
          "Texas City, TX",
          "Texas City, TX",
          "Texas City, TX",
          "Texas City, TX",
          "Texas City, TX",
          "Texas City, TX",
          "Texas City, TX",
          "Texas City, TX",
          "Texas City, TX",
          "Texas City, TX",
          "Texas City, TX",
          "Texas City, TX",
          "Texas City, TX"
         ],
         "legendgroup": "Texas City, TX",
         "line": {
          "color": "#FECB52",
          "dash": "solid"
         },
         "marker": {
          "symbol": "circle"
         },
         "mode": "lines",
         "name": "Texas City, TX",
         "orientation": "v",
         "showlegend": true,
         "type": "scatter",
         "x": [
          "2018-01-01T00:00:00",
          "2018-02-01T00:00:00",
          "2018-03-01T00:00:00",
          "2018-04-01T00:00:00",
          "2018-05-01T00:00:00",
          "2018-06-01T00:00:00",
          "2018-07-01T00:00:00",
          "2018-08-01T00:00:00",
          "2018-09-01T00:00:00",
          "2018-10-01T00:00:00",
          "2018-11-01T00:00:00",
          "2018-12-01T00:00:00",
          "2019-01-01T00:00:00",
          "2019-02-01T00:00:00",
          "2019-03-01T00:00:00",
          "2019-04-01T00:00:00",
          "2019-05-01T00:00:00",
          "2019-06-01T00:00:00",
          "2019-07-01T00:00:00",
          "2019-08-01T00:00:00",
          "2019-09-01T00:00:00",
          "2019-10-01T00:00:00",
          "2019-11-01T00:00:00",
          "2019-12-01T00:00:00",
          "2020-01-01T00:00:00",
          "2020-02-01T00:00:00",
          "2020-03-01T00:00:00",
          "2020-04-01T00:00:00",
          "2020-05-01T00:00:00",
          "2020-06-01T00:00:00",
          "2020-07-01T00:00:00",
          "2020-08-01T00:00:00",
          "2020-09-01T00:00:00",
          "2020-10-01T00:00:00",
          "2020-11-01T00:00:00",
          "2020-12-01T00:00:00",
          "2021-01-01T00:00:00",
          "2021-02-01T00:00:00",
          "2021-03-01T00:00:00",
          "2021-04-01T00:00:00",
          "2021-05-01T00:00:00",
          "2021-06-01T00:00:00",
          "2021-07-01T00:00:00",
          "2021-08-01T00:00:00",
          "2021-09-01T00:00:00",
          "2021-10-01T00:00:00",
          "2021-11-01T00:00:00",
          "2021-12-01T00:00:00",
          "2022-01-01T00:00:00",
          "2022-02-01T00:00:00",
          "2022-03-01T00:00:00",
          "2022-04-01T00:00:00",
          "2022-05-01T00:00:00",
          "2022-06-01T00:00:00",
          "2022-07-01T00:00:00",
          "2022-08-01T00:00:00",
          "2022-09-01T00:00:00",
          "2022-10-01T00:00:00",
          "2022-11-01T00:00:00",
          "2022-12-01T00:00:00",
          "2023-01-01T00:00:00",
          "2023-02-01T00:00:00",
          "2023-03-01T00:00:00",
          "2023-04-01T00:00:00",
          "2023-05-01T00:00:00",
          "2023-06-01T00:00:00",
          "2023-07-01T00:00:00",
          "2023-08-01T00:00:00",
          "2023-09-01T00:00:00",
          "2023-10-01T00:00:00",
          "2023-11-01T00:00:00",
          "2023-12-01T00:00:00",
          "2024-01-01T00:00:00",
          "2024-02-01T00:00:00",
          "2024-03-01T00:00:00",
          "2024-04-01T00:00:00",
          "2024-05-01T00:00:00",
          "2024-06-01T00:00:00",
          "2024-07-01T00:00:00",
          "2024-08-01T00:00:00",
          "2024-09-01T00:00:00"
         ],
         "xaxis": "x",
         "y": [
          54,
          54,
          73,
          70,
          58,
          53,
          58,
          73,
          61,
          60,
          57,
          55,
          58,
          51,
          60,
          65,
          63,
          61,
          49,
          47,
          59,
          46,
          53,
          55,
          51,
          72,
          51,
          46,
          40,
          36,
          48,
          46,
          46,
          47,
          51,
          44,
          51,
          32,
          37,
          41,
          54,
          63,
          53,
          58,
          55,
          67,
          63,
          64,
          55,
          45,
          72,
          76,
          59,
          60,
          69,
          53,
          53,
          52,
          60,
          56,
          49,
          41,
          73,
          55,
          52,
          60,
          62,
          66,
          67,
          60,
          61,
          67,
          61,
          56,
          63,
          61,
          68,
          71,
          61,
          68,
          51
         ],
         "yaxis": "y"
        }
       ],
       "layout": {
        "height": 600,
        "legend": {
         "title": {
          "text": "port_name"
         },
         "tracegroupgap": 0
        },
        "template": {
         "data": {
          "bar": [
           {
            "error_x": {
             "color": "#2a3f5f"
            },
            "error_y": {
             "color": "#2a3f5f"
            },
            "marker": {
             "line": {
              "color": "#E5ECF6",
              "width": 0.5
             },
             "pattern": {
              "fillmode": "overlay",
              "size": 10,
              "solidity": 0.2
             }
            },
            "type": "bar"
           }
          ],
          "barpolar": [
           {
            "marker": {
             "line": {
              "color": "#E5ECF6",
              "width": 0.5
             },
             "pattern": {
              "fillmode": "overlay",
              "size": 10,
              "solidity": 0.2
             }
            },
            "type": "barpolar"
           }
          ],
          "carpet": [
           {
            "aaxis": {
             "endlinecolor": "#2a3f5f",
             "gridcolor": "white",
             "linecolor": "white",
             "minorgridcolor": "white",
             "startlinecolor": "#2a3f5f"
            },
            "baxis": {
             "endlinecolor": "#2a3f5f",
             "gridcolor": "white",
             "linecolor": "white",
             "minorgridcolor": "white",
             "startlinecolor": "#2a3f5f"
            },
            "type": "carpet"
           }
          ],
          "choropleth": [
           {
            "colorbar": {
             "outlinewidth": 0,
             "ticks": ""
            },
            "type": "choropleth"
           }
          ],
          "contour": [
           {
            "colorbar": {
             "outlinewidth": 0,
             "ticks": ""
            },
            "colorscale": [
             [
              0,
              "#0d0887"
             ],
             [
              0.1111111111111111,
              "#46039f"
             ],
             [
              0.2222222222222222,
              "#7201a8"
             ],
             [
              0.3333333333333333,
              "#9c179e"
             ],
             [
              0.4444444444444444,
              "#bd3786"
             ],
             [
              0.5555555555555556,
              "#d8576b"
             ],
             [
              0.6666666666666666,
              "#ed7953"
             ],
             [
              0.7777777777777778,
              "#fb9f3a"
             ],
             [
              0.8888888888888888,
              "#fdca26"
             ],
             [
              1,
              "#f0f921"
             ]
            ],
            "type": "contour"
           }
          ],
          "contourcarpet": [
           {
            "colorbar": {
             "outlinewidth": 0,
             "ticks": ""
            },
            "type": "contourcarpet"
           }
          ],
          "heatmap": [
           {
            "colorbar": {
             "outlinewidth": 0,
             "ticks": ""
            },
            "colorscale": [
             [
              0,
              "#0d0887"
             ],
             [
              0.1111111111111111,
              "#46039f"
             ],
             [
              0.2222222222222222,
              "#7201a8"
             ],
             [
              0.3333333333333333,
              "#9c179e"
             ],
             [
              0.4444444444444444,
              "#bd3786"
             ],
             [
              0.5555555555555556,
              "#d8576b"
             ],
             [
              0.6666666666666666,
              "#ed7953"
             ],
             [
              0.7777777777777778,
              "#fb9f3a"
             ],
             [
              0.8888888888888888,
              "#fdca26"
             ],
             [
              1,
              "#f0f921"
             ]
            ],
            "type": "heatmap"
           }
          ],
          "heatmapgl": [
           {
            "colorbar": {
             "outlinewidth": 0,
             "ticks": ""
            },
            "colorscale": [
             [
              0,
              "#0d0887"
             ],
             [
              0.1111111111111111,
              "#46039f"
             ],
             [
              0.2222222222222222,
              "#7201a8"
             ],
             [
              0.3333333333333333,
              "#9c179e"
             ],
             [
              0.4444444444444444,
              "#bd3786"
             ],
             [
              0.5555555555555556,
              "#d8576b"
             ],
             [
              0.6666666666666666,
              "#ed7953"
             ],
             [
              0.7777777777777778,
              "#fb9f3a"
             ],
             [
              0.8888888888888888,
              "#fdca26"
             ],
             [
              1,
              "#f0f921"
             ]
            ],
            "type": "heatmapgl"
           }
          ],
          "histogram": [
           {
            "marker": {
             "pattern": {
              "fillmode": "overlay",
              "size": 10,
              "solidity": 0.2
             }
            },
            "type": "histogram"
           }
          ],
          "histogram2d": [
           {
            "colorbar": {
             "outlinewidth": 0,
             "ticks": ""
            },
            "colorscale": [
             [
              0,
              "#0d0887"
             ],
             [
              0.1111111111111111,
              "#46039f"
             ],
             [
              0.2222222222222222,
              "#7201a8"
             ],
             [
              0.3333333333333333,
              "#9c179e"
             ],
             [
              0.4444444444444444,
              "#bd3786"
             ],
             [
              0.5555555555555556,
              "#d8576b"
             ],
             [
              0.6666666666666666,
              "#ed7953"
             ],
             [
              0.7777777777777778,
              "#fb9f3a"
             ],
             [
              0.8888888888888888,
              "#fdca26"
             ],
             [
              1,
              "#f0f921"
             ]
            ],
            "type": "histogram2d"
           }
          ],
          "histogram2dcontour": [
           {
            "colorbar": {
             "outlinewidth": 0,
             "ticks": ""
            },
            "colorscale": [
             [
              0,
              "#0d0887"
             ],
             [
              0.1111111111111111,
              "#46039f"
             ],
             [
              0.2222222222222222,
              "#7201a8"
             ],
             [
              0.3333333333333333,
              "#9c179e"
             ],
             [
              0.4444444444444444,
              "#bd3786"
             ],
             [
              0.5555555555555556,
              "#d8576b"
             ],
             [
              0.6666666666666666,
              "#ed7953"
             ],
             [
              0.7777777777777778,
              "#fb9f3a"
             ],
             [
              0.8888888888888888,
              "#fdca26"
             ],
             [
              1,
              "#f0f921"
             ]
            ],
            "type": "histogram2dcontour"
           }
          ],
          "mesh3d": [
           {
            "colorbar": {
             "outlinewidth": 0,
             "ticks": ""
            },
            "type": "mesh3d"
           }
          ],
          "parcoords": [
           {
            "line": {
             "colorbar": {
              "outlinewidth": 0,
              "ticks": ""
             }
            },
            "type": "parcoords"
           }
          ],
          "pie": [
           {
            "automargin": true,
            "type": "pie"
           }
          ],
          "scatter": [
           {
            "fillpattern": {
             "fillmode": "overlay",
             "size": 10,
             "solidity": 0.2
            },
            "type": "scatter"
           }
          ],
          "scatter3d": [
           {
            "line": {
             "colorbar": {
              "outlinewidth": 0,
              "ticks": ""
             }
            },
            "marker": {
             "colorbar": {
              "outlinewidth": 0,
              "ticks": ""
             }
            },
            "type": "scatter3d"
           }
          ],
          "scattercarpet": [
           {
            "marker": {
             "colorbar": {
              "outlinewidth": 0,
              "ticks": ""
             }
            },
            "type": "scattercarpet"
           }
          ],
          "scattergeo": [
           {
            "marker": {
             "colorbar": {
              "outlinewidth": 0,
              "ticks": ""
             }
            },
            "type": "scattergeo"
           }
          ],
          "scattergl": [
           {
            "marker": {
             "colorbar": {
              "outlinewidth": 0,
              "ticks": ""
             }
            },
            "type": "scattergl"
           }
          ],
          "scattermapbox": [
           {
            "marker": {
             "colorbar": {
              "outlinewidth": 0,
              "ticks": ""
             }
            },
            "type": "scattermapbox"
           }
          ],
          "scatterpolar": [
           {
            "marker": {
             "colorbar": {
              "outlinewidth": 0,
              "ticks": ""
             }
            },
            "type": "scatterpolar"
           }
          ],
          "scatterpolargl": [
           {
            "marker": {
             "colorbar": {
              "outlinewidth": 0,
              "ticks": ""
             }
            },
            "type": "scatterpolargl"
           }
          ],
          "scatterternary": [
           {
            "marker": {
             "colorbar": {
              "outlinewidth": 0,
              "ticks": ""
             }
            },
            "type": "scatterternary"
           }
          ],
          "surface": [
           {
            "colorbar": {
             "outlinewidth": 0,
             "ticks": ""
            },
            "colorscale": [
             [
              0,
              "#0d0887"
             ],
             [
              0.1111111111111111,
              "#46039f"
             ],
             [
              0.2222222222222222,
              "#7201a8"
             ],
             [
              0.3333333333333333,
              "#9c179e"
             ],
             [
              0.4444444444444444,
              "#bd3786"
             ],
             [
              0.5555555555555556,
              "#d8576b"
             ],
             [
              0.6666666666666666,
              "#ed7953"
             ],
             [
              0.7777777777777778,
              "#fb9f3a"
             ],
             [
              0.8888888888888888,
              "#fdca26"
             ],
             [
              1,
              "#f0f921"
             ]
            ],
            "type": "surface"
           }
          ],
          "table": [
           {
            "cells": {
             "fill": {
              "color": "#EBF0F8"
             },
             "line": {
              "color": "white"
             }
            },
            "header": {
             "fill": {
              "color": "#C8D4E3"
             },
             "line": {
              "color": "white"
             }
            },
            "type": "table"
           }
          ]
         },
         "layout": {
          "annotationdefaults": {
           "arrowcolor": "#2a3f5f",
           "arrowhead": 0,
           "arrowwidth": 1
          },
          "autotypenumbers": "strict",
          "coloraxis": {
           "colorbar": {
            "outlinewidth": 0,
            "ticks": ""
           }
          },
          "colorscale": {
           "diverging": [
            [
             0,
             "#8e0152"
            ],
            [
             0.1,
             "#c51b7d"
            ],
            [
             0.2,
             "#de77ae"
            ],
            [
             0.3,
             "#f1b6da"
            ],
            [
             0.4,
             "#fde0ef"
            ],
            [
             0.5,
             "#f7f7f7"
            ],
            [
             0.6,
             "#e6f5d0"
            ],
            [
             0.7,
             "#b8e186"
            ],
            [
             0.8,
             "#7fbc41"
            ],
            [
             0.9,
             "#4d9221"
            ],
            [
             1,
             "#276419"
            ]
           ],
           "sequential": [
            [
             0,
             "#0d0887"
            ],
            [
             0.1111111111111111,
             "#46039f"
            ],
            [
             0.2222222222222222,
             "#7201a8"
            ],
            [
             0.3333333333333333,
             "#9c179e"
            ],
            [
             0.4444444444444444,
             "#bd3786"
            ],
            [
             0.5555555555555556,
             "#d8576b"
            ],
            [
             0.6666666666666666,
             "#ed7953"
            ],
            [
             0.7777777777777778,
             "#fb9f3a"
            ],
            [
             0.8888888888888888,
             "#fdca26"
            ],
            [
             1,
             "#f0f921"
            ]
           ],
           "sequentialminus": [
            [
             0,
             "#0d0887"
            ],
            [
             0.1111111111111111,
             "#46039f"
            ],
            [
             0.2222222222222222,
             "#7201a8"
            ],
            [
             0.3333333333333333,
             "#9c179e"
            ],
            [
             0.4444444444444444,
             "#bd3786"
            ],
            [
             0.5555555555555556,
             "#d8576b"
            ],
            [
             0.6666666666666666,
             "#ed7953"
            ],
            [
             0.7777777777777778,
             "#fb9f3a"
            ],
            [
             0.8888888888888888,
             "#fdca26"
            ],
            [
             1,
             "#f0f921"
            ]
           ]
          },
          "colorway": [
           "#636efa",
           "#EF553B",
           "#00cc96",
           "#ab63fa",
           "#FFA15A",
           "#19d3f3",
           "#FF6692",
           "#B6E880",
           "#FF97FF",
           "#FECB52"
          ],
          "font": {
           "color": "#2a3f5f"
          },
          "geo": {
           "bgcolor": "white",
           "lakecolor": "white",
           "landcolor": "#E5ECF6",
           "showlakes": true,
           "showland": true,
           "subunitcolor": "white"
          },
          "hoverlabel": {
           "align": "left"
          },
          "hovermode": "closest",
          "mapbox": {
           "style": "light"
          },
          "paper_bgcolor": "white",
          "plot_bgcolor": "#E5ECF6",
          "polar": {
           "angularaxis": {
            "gridcolor": "white",
            "linecolor": "white",
            "ticks": ""
           },
           "bgcolor": "#E5ECF6",
           "radialaxis": {
            "gridcolor": "white",
            "linecolor": "white",
            "ticks": ""
           }
          },
          "scene": {
           "xaxis": {
            "backgroundcolor": "#E5ECF6",
            "gridcolor": "white",
            "gridwidth": 2,
            "linecolor": "white",
            "showbackground": true,
            "ticks": "",
            "zerolinecolor": "white"
           },
           "yaxis": {
            "backgroundcolor": "#E5ECF6",
            "gridcolor": "white",
            "gridwidth": 2,
            "linecolor": "white",
            "showbackground": true,
            "ticks": "",
            "zerolinecolor": "white"
           },
           "zaxis": {
            "backgroundcolor": "#E5ECF6",
            "gridcolor": "white",
            "gridwidth": 2,
            "linecolor": "white",
            "showbackground": true,
            "ticks": "",
            "zerolinecolor": "white"
           }
          },
          "shapedefaults": {
           "line": {
            "color": "#2a3f5f"
           }
          },
          "ternary": {
           "aaxis": {
            "gridcolor": "white",
            "linecolor": "white",
            "ticks": ""
           },
           "baxis": {
            "gridcolor": "white",
            "linecolor": "white",
            "ticks": ""
           },
           "bgcolor": "#E5ECF6",
           "caxis": {
            "gridcolor": "white",
            "linecolor": "white",
            "ticks": ""
           }
          },
          "title": {
           "x": 0.05
          },
          "xaxis": {
           "automargin": true,
           "gridcolor": "white",
           "linecolor": "white",
           "ticks": "",
           "title": {
            "standoff": 15
           },
           "zerolinecolor": "white",
           "zerolinewidth": 2
          },
          "yaxis": {
           "automargin": true,
           "gridcolor": "white",
           "linecolor": "white",
           "ticks": "",
           "title": {
            "standoff": 15
           },
           "zerolinecolor": "white",
           "zerolinewidth": 2
          }
         }
        },
        "title": {
         "text": "Vessel Calls per Month"
        },
        "width": 800,
        "xaxis": {
         "anchor": "y",
         "domain": [
          0,
          1
         ],
         "title": {
          "text": "month"
         }
        },
        "yaxis": {
         "anchor": "x",
         "domain": [
          0,
          1
         ],
         "title": {
          "text": "calls"
         }
        }
       }
      }
     },
     "metadata": {},
     "output_type": "display_data"
    }
   ],
   "source": [
    "#limit to top 10 ports - NOTE incorporate into function\n",
    "top_ports = (\n",
    "    port_time_stats()\n",
    "    .group_by('port_name')\n",
    "    .agg(pl.sum('calls'))\n",
    "    .sort('calls', descending=True)\n",
    "    .limit(10)\n",
    "    .select('port_name')\n",
    "    .to_series()\n",
    ")\n",
    "\n",
    "plot_line(\n",
    "    df=port_time_stats().filter(pl.col('port_name').is_in(top_ports)), x_col='month', y_col='calls',\n",
    "    color_col='port_name', hover_name='port_name',\n",
    "    title='Vessel Calls per Month',\n",
    ")"
   ]
  },
  {
   "cell_type": "markdown",
   "metadata": {},
   "source": [
    "## Run App"
   ]
  },
  {
   "cell_type": "code",
   "execution_count": 6,
   "metadata": {},
   "outputs": [
    {
     "name": "stdout",
     "output_type": "stream",
     "text": [
      "skip\n"
     ]
    }
   ],
   "source": [
    "%%script echo skip\n",
    "#run\n",
    "if __name__ == '__main__':\n",
    "    app.run()"
   ]
  }
 ],
 "metadata": {
  "kernelspec": {
   "display_name": "wsu",
   "language": "python",
   "name": "python3"
  },
  "language_info": {
   "codemirror_mode": {
    "name": "ipython",
    "version": 3
   },
   "file_extension": ".py",
   "mimetype": "text/x-python",
   "name": "python",
   "nbconvert_exporter": "python",
   "pygments_lexer": "ipython3",
   "version": "3.12.0"
  }
 },
 "nbformat": 4,
 "nbformat_minor": 2
}
