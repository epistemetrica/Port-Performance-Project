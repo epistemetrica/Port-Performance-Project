{
 "cells": [
  {
   "cell_type": "markdown",
   "metadata": {},
   "source": [
    "# Port Performance Dashboard App\n",
    "\n",
    "This notebook developes the visulizations and Dash App for the [Port Performance Project](https://github.com/epistemetrica/Port-Performance-Project). \n",
    "\n",
    "Basic draft of app:\n",
    "- National-level visualizations are displayed by default\n",
    "    - users can select the date range via sliders\n",
    "- Users may select a given port\n",
    "    - drop down selection to start\n",
    "    - hopefully clicking on a port from the national map could serve the same UI function\n",
    "- For a selected port:\n",
    "    - default visualizations are presented\n",
    "    - users have option to generate custom visualizations based on their selection of date range, metric (hrs at berth, vessel size, etc), stat (mean, median, etc), and other options to be developed. "
   ]
  },
  {
   "cell_type": "code",
   "execution_count": 2,
   "metadata": {},
   "outputs": [],
   "source": [
    "#prelims\n",
    "import numpy as np\n",
    "import pandas as pd\n",
    "import geopandas as gpd\n",
    "import polars as pl\n",
    "import plotly.express as px\n",
    "import datetime as dt\n",
    "from dateutil.relativedelta import relativedelta\n",
    "import dash\n",
    "from dash import dcc, html\n",
    "from dash.dependencies import Input, Output\n",
    "\n",
    "#display settings\n",
    "pd.set_option('display.max_columns', None)\n",
    "pd.set_option('display.max_rows', None)\n",
    "pl.Config(tbl_rows=100);"
   ]
  },
  {
   "cell_type": "markdown",
   "metadata": {},
   "source": [
    "## Load Data\n",
    "\n",
    "The data used in the app is a dataframe with reach row corresponding to a port call, including data such as port, dock, and vessel info, time of arrival, hours at berth and at anchor, time in port waters, etc. \n",
    "\n",
    "NOTE this data is currently processed in the geodata_prep notebook followed by the port_stats notebook; final versions of this project may distill that down to a single data preparation step. "
   ]
  },
  {
   "cell_type": "code",
   "execution_count": 3,
   "metadata": {},
   "outputs": [
    {
     "data": {
      "text/html": [
       "<div><style>\n",
       ".dataframe > thead > tr,\n",
       ".dataframe > tbody > tr {\n",
       "  text-align: right;\n",
       "  white-space: pre-wrap;\n",
       "}\n",
       "</style>\n",
       "<small>shape: (9, 24)</small><table border=\"1\" class=\"dataframe\"><thead><tr><th>statistic</th><th>call_id</th><th>port_name</th><th>port_lat</th><th>port_lon</th><th>dock_name</th><th>dock_id</th><th>facility_type</th><th>dock_lat</th><th>dock_lon</th><th>imo</th><th>vessel_size</th><th>time_port_entry</th><th>time_arrival</th><th>time_departure</th><th>time_port_exit</th><th>hrs_at_berth</th><th>hrs_at_anchor</th><th>hrs_to_dock</th><th>hrs_in_port_after_dock</th><th>hrs_in_port_waters</th><th>year</th><th>month</th><th>date</th></tr><tr><td>str</td><td>str</td><td>str</td><td>f64</td><td>f64</td><td>str</td><td>str</td><td>str</td><td>f64</td><td>f64</td><td>f64</td><td>f64</td><td>str</td><td>str</td><td>str</td><td>str</td><td>f64</td><td>f64</td><td>f64</td><td>f64</td><td>f64</td><td>f64</td><td>str</td><td>str</td></tr></thead><tbody><tr><td>&quot;count&quot;</td><td>&quot;152339&quot;</td><td>&quot;152339&quot;</td><td>152339.0</td><td>152339.0</td><td>&quot;152339&quot;</td><td>&quot;152339&quot;</td><td>&quot;151966&quot;</td><td>152339.0</td><td>152339.0</td><td>152339.0</td><td>152339.0</td><td>&quot;152339&quot;</td><td>&quot;152339&quot;</td><td>&quot;152339&quot;</td><td>&quot;152339&quot;</td><td>152339.0</td><td>152339.0</td><td>152339.0</td><td>152339.0</td><td>152339.0</td><td>152339.0</td><td>&quot;152339&quot;</td><td>&quot;152339&quot;</td></tr><tr><td>&quot;null_count&quot;</td><td>&quot;0&quot;</td><td>&quot;0&quot;</td><td>0.0</td><td>0.0</td><td>&quot;0&quot;</td><td>&quot;0&quot;</td><td>&quot;373&quot;</td><td>0.0</td><td>0.0</td><td>0.0</td><td>0.0</td><td>&quot;0&quot;</td><td>&quot;0&quot;</td><td>&quot;0&quot;</td><td>&quot;0&quot;</td><td>0.0</td><td>0.0</td><td>0.0</td><td>0.0</td><td>0.0</td><td>0.0</td><td>&quot;0&quot;</td><td>&quot;0&quot;</td></tr><tr><td>&quot;mean&quot;</td><td>null</td><td>null</td><td>32.314243</td><td>-94.595966</td><td>null</td><td>null</td><td>null</td><td>32.314355</td><td>-94.594993</td><td>1.0138e7</td><td>207.282114</td><td>&quot;2021-07-25 12:09:45.520457&quot;</td><td>&quot;2021-07-25 23:42:49.418494&quot;</td><td>&quot;2021-07-28 04:42:50.440307&quot;</td><td>&quot;2021-07-28 09:58:48.028312&quot;</td><td>47.902378</td><td>8.398775</td><td>11.543167</td><td>5.258262</td><td>69.809185</td><td>2021.068459</td><td>&quot;2021-07-10 17:16:44.551000&quot;</td><td>&quot;2021-07-25 11:11:14.325000&quot;</td></tr><tr><td>&quot;std&quot;</td><td>null</td><td>null</td><td>6.905596</td><td>20.709946</td><td>null</td><td>null</td><td>null</td><td>6.905846</td><td>20.710309</td><td>2.6423e7</td><td>58.862874</td><td>null</td><td>null</td><td>null</td><td>null</td><td>62.483046</td><td>28.999441</td><td>35.440416</td><td>41.451654</td><td>96.098973</td><td>2.030807</td><td>null</td><td>null</td></tr><tr><td>&quot;min&quot;</td><td>&quot;0_Corpus Christi, TX_2020-04-0…</td><td>&quot;Albany Port District, NY&quot;</td><td>17.938939</td><td>-166.549916</td><td>&quot;ADM Corpus Christi Grain Eleva…</td><td>&quot;00XE&quot;</td><td>&quot;Anchorage&quot;</td><td>17.936081</td><td>-166.53444</td><td>0.0</td><td>101.0</td><td>&quot;2018-01-01 00:35:19&quot;</td><td>&quot;2018-01-01 00:35:19&quot;</td><td>&quot;2018-01-01 04:23:54&quot;</td><td>&quot;2018-01-01 09:15:57&quot;</td><td>0.083333</td><td>0.0</td><td>0.0</td><td>0.0</td><td>0.133333</td><td>2018.0</td><td>&quot;2018-01-01&quot;</td><td>&quot;2018-01-01&quot;</td></tr><tr><td>&quot;25%&quot;</td><td>null</td><td>null</td><td>28.629389</td><td>-118.2095</td><td>null</td><td>null</td><td>null</td><td>28.645767</td><td>-118.21083</td><td>9.298636e6</td><td>176.0</td><td>&quot;2019-09-23 05:36:19&quot;</td><td>&quot;2019-09-23 14:53:58&quot;</td><td>&quot;2019-09-25 11:07:36&quot;</td><td>&quot;2019-09-25 15:04:34&quot;</td><td>16.616667</td><td>0.0</td><td>2.666667</td><td>2.15</td><td>25.866667</td><td>2019.0</td><td>&quot;2019-09-01&quot;</td><td>&quot;2019-09-23&quot;</td></tr><tr><td>&quot;50%&quot;</td><td>null</td><td>null</td><td>30.69123</td><td>-90.085256</td><td>null</td><td>null</td><td>null</td><td>30.706768</td><td>-90.112537</td><td>9.403451e6</td><td>190.0</td><td>&quot;2021-09-06 01:03:18&quot;</td><td>&quot;2021-09-06 20:50:23&quot;</td><td>&quot;2021-09-09 01:06:40&quot;</td><td>&quot;2021-09-09 05:20:12&quot;</td><td>31.116667</td><td>0.0</td><td>3.516667</td><td>2.783333</td><td>43.933333</td><td>2021.0</td><td>&quot;2021-09-01&quot;</td><td>&quot;2021-09-06&quot;</td></tr><tr><td>&quot;75%&quot;</td><td>null</td><td>null</td><td>36.86642</td><td>-80.05267</td><td>null</td><td>null</td><td>null</td><td>36.875896</td><td>-80.053495</td><td>9.619426e6</td><td>230.0</td><td>&quot;2023-05-07 10:13:53&quot;</td><td>&quot;2023-05-07 22:10:37&quot;</td><td>&quot;2023-05-10 09:57:31&quot;</td><td>&quot;2023-05-10 13:19:05&quot;</td><td>57.183333</td><td>0.0</td><td>5.383333</td><td>3.533333</td><td>80.966667</td><td>2023.0</td><td>&quot;2023-05-01&quot;</td><td>&quot;2023-05-07&quot;</td></tr><tr><td>&quot;max&quot;</td><td>&quot;9993808_Honolulu, O&#x27;ahu, HI_20…</td><td>&quot;Wilmington, NC&quot;</td><td>61.23778</td><td>-66.096678</td><td>&quot;YUSEN TERMINALS BERTHS 212-221&quot;</td><td>&quot;1JHK&quot;</td><td>&quot;Tie Off&quot;</td><td>61.24306</td><td>-66.086926</td><td>9.800025e8</td><td>667.0</td><td>&quot;2024-12-31 18:55:48&quot;</td><td>&quot;2024-12-31 22:30:59&quot;</td><td>&quot;2024-12-31 23:37:00&quot;</td><td>&quot;2024-12-31 23:37:00&quot;</td><td>1398.416667</td><td>244.45</td><td>2152.533333</td><td>3653.166667</td><td>4453.8</td><td>2024.0</td><td>&quot;2024-12-01&quot;</td><td>&quot;2024-12-31&quot;</td></tr></tbody></table></div>"
      ],
      "text/plain": [
       "shape: (9, 24)\n",
       "┌───────────┬───────────┬───────────┬───────────┬───┬───────────┬───────────┬───────────┬──────────┐\n",
       "│ statistic ┆ call_id   ┆ port_name ┆ port_lat  ┆ … ┆ hrs_in_po ┆ year      ┆ month     ┆ date     │\n",
       "│ ---       ┆ ---       ┆ ---       ┆ ---       ┆   ┆ rt_waters ┆ ---       ┆ ---       ┆ ---      │\n",
       "│ str       ┆ str       ┆ str       ┆ f64       ┆   ┆ ---       ┆ f64       ┆ str       ┆ str      │\n",
       "│           ┆           ┆           ┆           ┆   ┆ f64       ┆           ┆           ┆          │\n",
       "╞═══════════╪═══════════╪═══════════╪═══════════╪═══╪═══════════╪═══════════╪═══════════╪══════════╡\n",
       "│ count     ┆ 152339    ┆ 152339    ┆ 152339.0  ┆ … ┆ 152339.0  ┆ 152339.0  ┆ 152339    ┆ 152339   │\n",
       "│ null_coun ┆ 0         ┆ 0         ┆ 0.0       ┆ … ┆ 0.0       ┆ 0.0       ┆ 0         ┆ 0        │\n",
       "│ t         ┆           ┆           ┆           ┆   ┆           ┆           ┆           ┆          │\n",
       "│ mean      ┆ null      ┆ null      ┆ 32.314243 ┆ … ┆ 69.809185 ┆ 2021.0684 ┆ 2021-07-1 ┆ 2021-07- │\n",
       "│           ┆           ┆           ┆           ┆   ┆           ┆ 59        ┆ 0 17:16:4 ┆ 25 11:11 │\n",
       "│           ┆           ┆           ┆           ┆   ┆           ┆           ┆ 4.551000  ┆ :14.3250 │\n",
       "│           ┆           ┆           ┆           ┆   ┆           ┆           ┆           ┆ 00       │\n",
       "│ std       ┆ null      ┆ null      ┆ 6.905596  ┆ … ┆ 96.098973 ┆ 2.030807  ┆ null      ┆ null     │\n",
       "│ min       ┆ 0_Corpus  ┆ Albany    ┆ 17.938939 ┆ … ┆ 0.133333  ┆ 2018.0    ┆ 2018-01-0 ┆ 2018-01- │\n",
       "│           ┆ Christi,  ┆ Port      ┆           ┆   ┆           ┆           ┆ 1         ┆ 01       │\n",
       "│           ┆ TX_2020-0 ┆ District, ┆           ┆   ┆           ┆           ┆           ┆          │\n",
       "│           ┆ 4-0…      ┆ NY        ┆           ┆   ┆           ┆           ┆           ┆          │\n",
       "│ 25%       ┆ null      ┆ null      ┆ 28.629389 ┆ … ┆ 25.866667 ┆ 2019.0    ┆ 2019-09-0 ┆ 2019-09- │\n",
       "│           ┆           ┆           ┆           ┆   ┆           ┆           ┆ 1         ┆ 23       │\n",
       "│ 50%       ┆ null      ┆ null      ┆ 30.69123  ┆ … ┆ 43.933333 ┆ 2021.0    ┆ 2021-09-0 ┆ 2021-09- │\n",
       "│           ┆           ┆           ┆           ┆   ┆           ┆           ┆ 1         ┆ 06       │\n",
       "│ 75%       ┆ null      ┆ null      ┆ 36.86642  ┆ … ┆ 80.966667 ┆ 2023.0    ┆ 2023-05-0 ┆ 2023-05- │\n",
       "│           ┆           ┆           ┆           ┆   ┆           ┆           ┆ 1         ┆ 07       │\n",
       "│ max       ┆ 9993808_H ┆ Wilmingto ┆ 61.23778  ┆ … ┆ 4453.8    ┆ 2024.0    ┆ 2024-12-0 ┆ 2024-12- │\n",
       "│           ┆ onolulu,  ┆ n, NC     ┆           ┆   ┆           ┆           ┆ 1         ┆ 31       │\n",
       "│           ┆ O'ahu,    ┆           ┆           ┆   ┆           ┆           ┆           ┆          │\n",
       "│           ┆ HI_20…    ┆           ┆           ┆   ┆           ┆           ┆           ┆          │\n",
       "└───────────┴───────────┴───────────┴───────────┴───┴───────────┴───────────┴───────────┴──────────┘"
      ]
     },
     "execution_count": 3,
     "metadata": {},
     "output_type": "execute_result"
    }
   ],
   "source": [
    "#create main dataframe\n",
    "calls_df = (\n",
    "    #read in data\n",
    "    pl.read_parquet('calls.parquet')\n",
    "    #get year month and date from arrival time\n",
    "    .with_columns(\n",
    "        pl.col('time_arrival').dt.year().alias('year'),\n",
    "        pl.col('time_arrival').dt.date().dt.month_start().alias('month'),\n",
    "        pl.col('time_arrival').dt.date().alias('date')\n",
    "    )\n",
    ")\n",
    "#inspect data\n",
    "calls_df.describe()"
   ]
  },
  {
   "cell_type": "markdown",
   "metadata": {},
   "source": [
    "#### Init variables"
   ]
  },
  {
   "cell_type": "code",
   "execution_count": 4,
   "metadata": {},
   "outputs": [],
   "source": [
    "#get date bounds\n",
    "earliest_date = calls_df['time_arrival'].min().date()\n",
    "latest_date = calls_df['time_arrival'].max().date()"
   ]
  },
  {
   "cell_type": "markdown",
   "metadata": {},
   "source": [
    "## Visualization Functions\n",
    "\n",
    "For the dashboard, we define a handful of visualization types (e.g. scatter map, line plot, bar chart, etc) and code to allow both default visualizations as well as custom user-generated visualizations. "
   ]
  },
  {
   "cell_type": "code",
   "execution_count": 5,
   "metadata": {},
   "outputs": [],
   "source": [
    "#define zoom level function for plotly express scatter_mapbox\n",
    "def mapbox_zoom_finder(lons, lats, lon_pad=0, lat_pad=0):\n",
    "    \"\"\"\n",
    "    Calculates the optimal zoom level for a Plotly Mapbox plot.\n",
    "    Args:\n",
    "        lons (list): List of longitudes.\n",
    "        lats (list): List of latitudes.\n",
    "        lon_pad (float, optional): Padding to add to the longitude range. Defaults to 0.\n",
    "        lat_pad (float, optional): Padding to add to the latitude range. Defaults to 0.\n",
    "    Returns:\n",
    "        zoom (int): the calculated zoom level\n",
    "    \"\"\"\n",
    "    # Check if the lengths of lons and lats are equal and not empty\n",
    "    if len(lons) != len(lats) or len(lons) == 0:\n",
    "        return 10\n",
    "    # Calculate the maximum and minimum longitude and latitude\n",
    "    max_lon, min_lon = max(lons), min(lons)\n",
    "    max_lat, min_lat = max(lats), min(lats)\n",
    "    # Calculate the longitude and latitude ranges\n",
    "    lon_range = max_lon - min_lon\n",
    "    lat_range = max_lat - min_lat\n",
    "    # Calculate the zoom level based on the ranges\n",
    "    zoom = 7 - np.log2(max(lon_range + lon_pad, lat_range + lat_pad))\n",
    "    return zoom"
   ]
  },
  {
   "cell_type": "code",
   "execution_count": 6,
   "metadata": {},
   "outputs": [],
   "source": [
    "def plot_mapbox(df, cat_group,  lat_col, lon_col, \n",
    "                size_col, size_col_alias, color_col, color_col_alias, \n",
    "                title, filter_col=None, filter=None, time_col='date', \n",
    "                time_range=[earliest_date, latest_date], \n",
    "                zoom=None, center=None, width=800, height=600, \n",
    "                size_max=30, range_color=None, hover_name=None, hover_data=None, \n",
    "                mapbox_style='carto-positron', labels=None, \n",
    "                color_continuous_scale=None, color_outlier_z=None):\n",
    "    \"\"\"\n",
    "    Plots a Mapbox scatter plot using Plotly.\n",
    "    \"\"\"\n",
    "    #init df\n",
    "    df = df\n",
    "    #filter if specified\n",
    "    if filter_col:\n",
    "        df = df.filter(pl.col(filter_col).is_in(filter))\n",
    "    #generate df\n",
    "    df = (\n",
    "        df\n",
    "        #filter by time range\n",
    "        .filter(pl.col(time_col).is_between(time_range[0], time_range[1]))\n",
    "        .group_by(cat_group)\n",
    "        .agg(\n",
    "            #get the lat and lon columns\n",
    "            pl.col(lat_col).first().alias(lat_col),\n",
    "            pl.col(lon_col).first().alias(lon_col),\n",
    "            #get hover name\n",
    "            #may be different or same as cat_group\n",
    "            #get stats\n",
    "            pl.col(size_col).mean().alias(size_col_alias),\n",
    "            pl.col(color_col).mean().alias(color_col_alias),\n",
    "        )\n",
    "    )\n",
    "\n",
    "    #Set default color scale if not provided\n",
    "    if not color_continuous_scale:\n",
    "        color_continuous_scale = px.colors.sequential.Viridis\n",
    "\n",
    "    # Set the zoom level automatically if not provided\n",
    "    if not zoom:\n",
    "        zoom = mapbox_zoom_finder(df[lon_col], df[lat_col])\n",
    "\n",
    "    #Set the center of the map if not provided\n",
    "    if not center:\n",
    "        center = {\n",
    "            'lat': ((df[lat_col].max() - df[lat_col].min()) / 2),\n",
    "            'lon': ((df[lon_col].max() - df[lon_col].min()) / 2)\n",
    "        }\n",
    "\n",
    "    #drop outliers if specified\n",
    "    if color_outlier_z:\n",
    "        #get color_col upper and lower limits based on z score\n",
    "        color_col_mean, color_col_std = df[color_col_alias].mean(), df[color_col_alias].std()\n",
    "        color_col_upper = color_col_mean + (color_col_std * color_outlier_z)\n",
    "        color_col_lower = color_col_mean - (color_col_std * color_outlier_z)\n",
    "        #set range color\n",
    "        range_color = [color_col_lower, color_col_upper]\n",
    "\n",
    "    # Create a scatter mapbox figure\n",
    "    fig = px.scatter_mapbox(\n",
    "        #data\n",
    "        df, lat=lat_col, lon=lon_col,\n",
    "        #categories\n",
    "        size=size_col_alias, color=color_col_alias,\n",
    "        #hover info\n",
    "        hover_name=hover_name, hover_data=hover_data,\n",
    "        #display settings\n",
    "        range_color=range_color, size_max=size_max,\n",
    "        color_continuous_scale=color_continuous_scale, mapbox_style=mapbox_style,\n",
    "        width=width, height=height,\n",
    "        #title and labals\n",
    "        title=title, labels=labels\n",
    "    )\n",
    "    # Set the zoom level\n",
    "    fig.update_layout(mapbox_zoom=zoom)\n",
    "\n",
    "    #NOTE Add annotation if specified\n",
    "\n",
    "    return fig"
   ]
  },
  {
   "cell_type": "code",
   "execution_count": 7,
   "metadata": {},
   "outputs": [],
   "source": [
    "def plot_line(df, cat_group, time_col, y_col, y_col_alias, title,\n",
    "              filter_col=None, filter=None, cat_limit=None, cat_limit_col=None, \n",
    "              time_range=[earliest_date, latest_date], \n",
    "              width=800, height=600, hover_name=None, \n",
    "              hover_data=None, labels=None, color_continuous_scale=None, \n",
    "              highlight=None, highlight_color=None):\n",
    "    \"\"\"\n",
    "    Plots a line chart using Plotly Express.\n",
    "    \"\"\"\n",
    "    #initialize df\n",
    "    df = (\n",
    "        df\n",
    "        #filter by time range\n",
    "        .filter(pl.col(time_col).is_between(time_range[0], time_range[1]))\n",
    "    )\n",
    "    #filter if specified\n",
    "    if filter_col:\n",
    "        df = df.filter(pl.col(filter_col).is_in(filter))\n",
    "    #limit categories if specified\n",
    "    if cat_limit:\n",
    "        #get the top n categories\n",
    "        top_cats = (\n",
    "            df.group_by(cat_group)\n",
    "            .agg(pl.col(cat_limit_col).sum())\n",
    "            .sort(pl.col(cat_limit_col), descending=True)\n",
    "            .limit(cat_limit)\n",
    "            .to_series()\n",
    "        )\n",
    "        #filter to only top n categories or highlight category\n",
    "        df = df.filter(pl.col(cat_group)\n",
    "                       .is_in(top_cats.append(pl.Series([highlight]))))\n",
    "    #generate df\n",
    "    df = (\n",
    "        df\n",
    "        .group_by(cat_group, time_col)\n",
    "        .agg(\n",
    "            #compute y col mean\n",
    "            pl.col(y_col).mean().alias(y_col_alias)\n",
    "        )\n",
    "        .sort(time_col)\n",
    "    )\n",
    "\n",
    "    # Set default color scale if not provided\n",
    "    if not color_continuous_scale:\n",
    "        color_continuous_scale = px.colors.sequential.Viridis\n",
    "\n",
    "    # Create a line figure\n",
    "    fig = px.line(\n",
    "        df,\n",
    "        x=time_col,\n",
    "        y=y_col_alias,\n",
    "        color=cat_group,\n",
    "        title=title,\n",
    "        labels=labels,\n",
    "        hover_name=hover_name,\n",
    "        hover_data=hover_data,\n",
    "    )\n",
    "    # Set the width and height of the figure\n",
    "    fig.update_layout(width=width, height=height)\n",
    "\n",
    "    #highlight given lines if specified\n",
    "    if highlight:\n",
    "        fig.update_traces(line_color='lightgray')\n",
    "        fig.update_traces(patch={'line': {'color': highlight_color}}, \n",
    "                          selector=dict(name=highlight))\n",
    "\n",
    "    return fig"
   ]
  },
  {
   "cell_type": "code",
   "execution_count": 8,
   "metadata": {},
   "outputs": [],
   "source": [
    "def bar_ranking(df, cat_group, stat_col, stat_alias, title, limit=20, \n",
    "                filter_col=None, filter=None, \n",
    "                time_col='month', time_range=[earliest_date, latest_date],\n",
    "                labels=None, width=800, height=600, \n",
    "                highlight=None):\n",
    "    '''\n",
    "    '''\n",
    "    #initialize df\n",
    "    df = (\n",
    "        df\n",
    "        #filter by time range\n",
    "        .filter(pl.col(time_col).is_between(time_range[0], time_range[1]))\n",
    "    )\n",
    "    #filter if specified\n",
    "    if filter_col:\n",
    "        df = df.filter(pl.col(filter_col).is_in(filter))\n",
    "    #get top n categories\n",
    "    top_cats = (\n",
    "        df\n",
    "        .group_by(cat_group)\n",
    "        .agg(pl.col(stat_col).mean().alias(stat_alias))\n",
    "        .sort(pl.col(stat_alias), descending=True)\n",
    "        .limit(limit)\n",
    "        .to_series()\n",
    "    )\n",
    "    #create df\n",
    "    df = (\n",
    "        df\n",
    "        .filter(pl.col(cat_group).is_in(top_cats.append(pl.Series([highlight]))))\n",
    "        .group_by(cat_group)\n",
    "        .agg(pl.col(stat_col).mean().alias(stat_alias))\n",
    "        .sort(pl.col(stat_alias))\n",
    "    )\n",
    "    # Create a bar figure\n",
    "    fig = px.bar(\n",
    "        df,\n",
    "        x=stat_alias, y=cat_group,\n",
    "        title=title, labels=labels,\n",
    "        width=width, height=height,\n",
    "    )\n",
    "\n",
    "    #set highlight if specified\n",
    "    if highlight:\n",
    "        fig[\"data\"][0][\"marker\"][\"color\"] = (\n",
    "            [fig[\"data\"][0][\"marker\"]['color'] if c == highlight \n",
    "             else \"lightgrey\" for c in fig[\"data\"][0][\"y\"]]\n",
    "        )\n",
    "    \n",
    "    return fig\n"
   ]
  },
  {
   "cell_type": "markdown",
   "metadata": {},
   "source": [
    "## Static Visualizations"
   ]
  },
  {
   "cell_type": "code",
   "execution_count": 9,
   "metadata": {},
   "outputs": [
    {
     "name": "stderr",
     "output_type": "stream",
     "text": [
      "/var/folders/dc/sgfd2dls28n4y4v4_jw03ly40000gp/T/ipykernel_4162/674434613.py:60: DeprecationWarning: *scatter_mapbox* is deprecated! Use *scatter_map* instead. Learn more at: https://plotly.com/python/mapbox-to-maplibre/\n",
      "  fig = px.scatter_mapbox(\n"
     ]
    },
    {
     "data": {
      "application/vnd.plotly.v1+json": {
       "config": {
        "plotlyServerURL": "https://plot.ly"
       },
       "data": [
        {
         "hovertemplate": "<b>%{hovertext}</b><br><br>Mean Vessel Size=%{marker.size}<br>port_lat=%{lat}<br>port_lon=%{lon}<br>Mean Hours at Berth=%{marker.color}<extra></extra>",
         "hovertext": [
          "Port of Brunswick, GA",
          "Coos Bay OR, Port of",
          "South Jersey Port Corp, NJ",
          "Galveston, TX",
          "Kalaeloa Barbers Point, HI",
          "Panama City Port Authority, FL",
          "Oxnard Harbor District, CA",
          "Portland, ME",
          "Port of Greater Baton Rouge, LA",
          "Virginia, VA, Port of",
          "San Juan, PR",
          "Boston, MA",
          "Houston Port Authority, TX",
          "Port of Oakland, CA",
          "Portsmouth, NH",
          "Baltimore, MD",
          "Jacksonville, FL",
          "Canaveral Port District, FL",
          "Port of Alaska, AK",
          "Port Freeport, TX",
          "Port of Los Angeles, CA",
          "Philadelphia Regional Port, PA",
          "PortMiami, FL",
          "Port of Long Beach, CA",
          "Anacortes, WA",
          "Port of Charleston, SC",
          "Redwood City, CA",
          "New Orleans, LA",
          "Corpus Christi, TX",
          "San Diego Unified Port, CA",
          "Texas City, TX",
          "Nawiliwili, Kaua'i, HI",
          "Seattle, WA",
          "Morehead City, NC",
          "Richmond, CA",
          "Manatee County Port, FL",
          "Albany Port District, NY",
          "Lake Charles Harbor District, LA",
          "Bridgeport, CT",
          "Port of Palm Beach District, FL",
          "Mobile, AL",
          "Port of Pascagoula, MS",
          "South Louisiana, LA, Port of",
          "Stockton, CA",
          "Port of Providence, RI",
          "Wilmington, NC",
          "New Haven, CT",
          "Orange County Nav District, TX",
          "Unalaska Island, AK",
          "Port Everglades, FL",
          "Port of Kalama, WA",
          "Searsport, ME",
          "Kahului, Maui, HI",
          "Guayama, PR",
          "Port of Gulfport, MS",
          "Tacoma, WA",
          "Greater Lafourche Port, LA",
          "New York, NY & NJ",
          "Port of Everett, WA",
          "Port Arthur, TX",
          "Honolulu, O'ahu, HI",
          "Wilmington, DE",
          "Calhoun Port Authority, TX",
          "Port of Vancouver USA, WA",
          "Brownsville, TX",
          "Port of Savannah, GA",
          "Guaynabo, PR",
          "Valdez, AK",
          "Sacramento-Yolo Port, CA",
          "Beaumont, TX"
         ],
         "lat": {
          "bdata": "2SObq+YhP0Bp4uR+h65FQGpuTE9Y7ENAJrzLRXxPPUAZcxB0tFI1QL+6Y7FNIj5A/unNqPkSQUBkNsgkI9NFQAvTMHxEbD5A0ky+2eZuQkDAQ9/dym4yQJ32zf3VK0VAGlw65jy/PUBFgT6RJ+lCQG1HOC14iUVAEvpgGRugQ0AkjuczoFI+QL+ZX80BajxAS9I1k2+eTkDvqQ65GfY8QISQLGAC3UBAknTN5Jv1Q0AFSN+kacg5QCmN0Tqq3kBADddqD3s/SEBgWpvG9mRAQG9a8KKvwEJAIPc7FAXqPUB4K9mxEdA7QJ5ZEqCmWkBAaTlCBvJcPUCW9s391fM1QOo/Mh06y0dAtMK7XMRbQUBmYORlTfZCQLUYA+s4ojtA+Wc/UkRSRUAqGXJsPRs+QLx0kxgElkRA2FAxzt/EOkCjAwRz9LA+QJhattYXWT5AGA3gLZAIPkAac9cS8vlCQP/FM2jo50RAoqDbSxodQUAriLoPQKZEQPAEFytqGD5Acslxp3TySkBEtcGJ6Bc6QCYaa39nA0dALv8h/fY5RkDM2xFOC+Y0QGPwaU5e8DFAcvQxHxBcPkDRejGUE6VHQCDpmsk3Hz1AABb59UNWREBaNJ2dDP5HQIA97fDX1D1AbnWr56RPNUBDxJRIottDQFV2M6MfoTxAc9wpHazPRkDwN9pxw/M5QEFOX8/XCkBAdA2l9iJuMkBCahMn949OQAu/m27ZR0NAlljgK7oVPkA=",
          "dtype": "f8"
         },
         "legendgroup": "",
         "lon": {
          "bdata": "kkQvo1hiVMC7ILByaA1fwHke3J210FLAXV3cRgO0V8CW44dKo8NjwKTcfY6PaFXAMcKGp1fNXcBNC170FZBRwCcyj/zBzFbAujZUjPMTU8CJD+z4L4ZQwILhXMMMwlHAfCEBo8vSV8B9+Q/pt5NewBSfAmA8r1HABAjm6PEjU8AksHJokWpUwPxD+u3rJlTAYz0K16O8YsBAKH6MuddXwNxFtYgokV3A6SKFsvDMUsAgZcQFoAtUwNUgsHJojV3AnRafAmCmXsAPSphp+/pTwNY8Y1+yjV7AcPKU1XSFVsAEWp4Hd1lYwL1m1edqS13AHvDAAMK6V8BP2H4yRutjwLmIfm39ll7A61vmdFkuU8BWBfhu85dewBnRPesapFTAOwt72uFvUsDsDfeRW1JXwASkNnFyS1LAv9798V4DVMBthbAaSwJWwD/VITfDI1bA77g2VIynVsCfp1fKMlRewMdafAqA2VHApr4s7dR8U8B0bagY5zlSwFgsms5OblfAhnFw6ZjRZMDmmzQNigdUwGaNXaJ6t17A//FetTI7UcCFMXctIY9jwBUH0O/7iVDA/ilVouxFVsAeiUFg5ZxewJ/jh0ojjVbApSTrcHSCUsASbVZ9ro5ewPPl6PF7fVfAfP1l9+S7Y8Bkg0wycuBSwLQo7KLoJVjAI2pN846rXsDmUs4Xe1lYwB+oGr0aRlTAqQ8k7xyHUMCp6nO1FUtiwGYclZuoYl7ACSf3OxSGV8A=",
          "dtype": "f8"
         },
         "marker": {
          "color": {
           "bdata": "q5fFWS8fO0BDpjJkKldiQO6Rai9XEEtACJn3mWBmRkCktLqfAIFUQGP1xH9BNk9AY124/ft9O0AFRPWdL2hAQNZ42qb8B09AZpvp9x9QQUBRksJw0jozQNj1YfknADxAAMfaeyutWEB+ZolB1bNDQKv6aL9gBUlALrr8AsjyR0BswRZswc51QExIh/aJzEZAEgYvdB/tM0AvP0cyz1BBQIqYWKS/1lNAD9nRvxJCQkBSVK6mVNc2QKR1o+sXQUxA3AE3Dr+tSECTR6+M7Yc7QER4hEd4REZAu0Lp+wzFSUAv3lOgKwZOQIpaQoT7XVBAbfVVAZ7PQ0BjCA2G0CArQNJYlvJ8PEVAJ366+OmCUUCNFX/DOzFJQOBPY27ibU5A5E3sWf5EVEB68/mbboBWQKR/dBtTcC1ABydvSwALQUDcrhsnh9ZMQJUj0dnzKVxAuSeQp+NTSUAY3GqxYBdXQFq5tSzWnU1ANg0Sxe3/PEA8h4MQI4JHQGD91V/9SYdAOpHydj8+PUA3tJtXRU0/QEBsYbm97UxAR7s+aFr0REBlfhbFOGUlQPs3Qhm9vT5AkfWiWC86NkDQzWG752RLQNOIrG92l15AZZJr0OOYSEB4cgl5cilGQCFoejFS5UlARjCTR/BbQkAVZ13NLhBOQE67WTfdykJATxf4dIEhUEAX8sSXanVPQNNeCTP/zURAPIf1yMbiTUDBFmzBFuxDQPws/ob69FxAOemTPmm+UEA=",
           "dtype": "f8"
          },
          "coloraxis": "coloraxis",
          "size": {
           "bdata": "ewai0pHtaECttdZaa91oQJcMwTra/GpAhXR5uqNdZkC8isSrSNxkQPTK2H5Hr2dAoj5Um1ewaECCUN+a4jllQDLIrzxn9GlAeIKg9KxackD4q5Mop0plQPslbr/EbXJAXNbLTUcdZUDjc7zDNC5yQENJEe0gSGdA7cElr9auakDHcRzHcdxiQC9jytdhPWZAvibHHvlwbECBsM4Z8EJoQHtZtkeEOXFAINEKmwMJYkBy/CF5RyFqQF8JtVdCPW9AfUFf0BdUa0DRMbw4D41oQF5OwcspOGtACvDzbalya0DNKEvusSppQIUVcLI2MmdAqblpEKOrZkCjiy666KJiQMkswyS3onFAoJqBagYaZUBzeJa7h7poQJZVDAcEYGVAvp3sYpS+Y0BUOrJnIHpiQN/0pje9wWlA4sH32okCYkBfxxil+MZqQB5bETScJGJA6hN0NfS8Z0As8sv/wgNnQPblPh3JJmZAEU4WdLOuaUD7t6HvXhlnQBQ7sRM70WZA0U9izSuVbEBG3bcgOBlmQJ2iJ/K8WGpAUm25Shp1ZkB0rJEIiC9lQPYoXI/CpWtAEUIIIYSQZUDvqRu3KddsQHedtSSKKV1Am2yyySa1bkBMJK5LJA5mQOTz2azYw2dAYliQEnn1akAw564JkE5oQGG5pxGWG2RAfwL2J2BLaEAEmzHIXpVnQMg8kA+ZB2dAB6sQVHAkZUAAAAAAAHBwQD1stkQjTmZAp2mapmnmZkA=",
           "dtype": "f8"
          },
          "sizemode": "area",
          "sizeref": 0.3276228156940323
         },
         "mode": "markers",
         "name": "",
         "showlegend": false,
         "subplot": "mapbox",
         "type": "scattermapbox"
        }
       ],
       "layout": {
        "coloraxis": {
         "cmax": 159.4334323681706,
         "cmin": -27.339303217873848,
         "colorbar": {
          "title": {
           "text": "Mean Hours at Berth"
          }
         },
         "colorscale": [
          [
           0,
           "#440154"
          ],
          [
           0.1111111111111111,
           "#482878"
          ],
          [
           0.2222222222222222,
           "#3e4989"
          ],
          [
           0.3333333333333333,
           "#31688e"
          ],
          [
           0.4444444444444444,
           "#26828e"
          ],
          [
           0.5555555555555556,
           "#1f9e89"
          ],
          [
           0.6666666666666666,
           "#35b779"
          ],
          [
           0.7777777777777778,
           "#6ece58"
          ],
          [
           0.8888888888888888,
           "#b5de2b"
          ],
          [
           1,
           "#fde725"
          ]
         ]
        },
        "height": 600,
        "legend": {
         "itemsizing": "constant",
         "tracegroupgap": 0
        },
        "mapbox": {
         "center": {
          "lat": 34.780064342857145,
          "lon": -98.6105014
         },
         "domain": {
          "x": [
           0,
           1
          ],
          "y": [
           0,
           1
          ]
         },
         "style": "carto-positron",
         "zoom": 2.1
        },
        "template": {
         "data": {
          "bar": [
           {
            "error_x": {
             "color": "#2a3f5f"
            },
            "error_y": {
             "color": "#2a3f5f"
            },
            "marker": {
             "line": {
              "color": "#E5ECF6",
              "width": 0.5
             },
             "pattern": {
              "fillmode": "overlay",
              "size": 10,
              "solidity": 0.2
             }
            },
            "type": "bar"
           }
          ],
          "barpolar": [
           {
            "marker": {
             "line": {
              "color": "#E5ECF6",
              "width": 0.5
             },
             "pattern": {
              "fillmode": "overlay",
              "size": 10,
              "solidity": 0.2
             }
            },
            "type": "barpolar"
           }
          ],
          "carpet": [
           {
            "aaxis": {
             "endlinecolor": "#2a3f5f",
             "gridcolor": "white",
             "linecolor": "white",
             "minorgridcolor": "white",
             "startlinecolor": "#2a3f5f"
            },
            "baxis": {
             "endlinecolor": "#2a3f5f",
             "gridcolor": "white",
             "linecolor": "white",
             "minorgridcolor": "white",
             "startlinecolor": "#2a3f5f"
            },
            "type": "carpet"
           }
          ],
          "choropleth": [
           {
            "colorbar": {
             "outlinewidth": 0,
             "ticks": ""
            },
            "type": "choropleth"
           }
          ],
          "contour": [
           {
            "colorbar": {
             "outlinewidth": 0,
             "ticks": ""
            },
            "colorscale": [
             [
              0,
              "#0d0887"
             ],
             [
              0.1111111111111111,
              "#46039f"
             ],
             [
              0.2222222222222222,
              "#7201a8"
             ],
             [
              0.3333333333333333,
              "#9c179e"
             ],
             [
              0.4444444444444444,
              "#bd3786"
             ],
             [
              0.5555555555555556,
              "#d8576b"
             ],
             [
              0.6666666666666666,
              "#ed7953"
             ],
             [
              0.7777777777777778,
              "#fb9f3a"
             ],
             [
              0.8888888888888888,
              "#fdca26"
             ],
             [
              1,
              "#f0f921"
             ]
            ],
            "type": "contour"
           }
          ],
          "contourcarpet": [
           {
            "colorbar": {
             "outlinewidth": 0,
             "ticks": ""
            },
            "type": "contourcarpet"
           }
          ],
          "heatmap": [
           {
            "colorbar": {
             "outlinewidth": 0,
             "ticks": ""
            },
            "colorscale": [
             [
              0,
              "#0d0887"
             ],
             [
              0.1111111111111111,
              "#46039f"
             ],
             [
              0.2222222222222222,
              "#7201a8"
             ],
             [
              0.3333333333333333,
              "#9c179e"
             ],
             [
              0.4444444444444444,
              "#bd3786"
             ],
             [
              0.5555555555555556,
              "#d8576b"
             ],
             [
              0.6666666666666666,
              "#ed7953"
             ],
             [
              0.7777777777777778,
              "#fb9f3a"
             ],
             [
              0.8888888888888888,
              "#fdca26"
             ],
             [
              1,
              "#f0f921"
             ]
            ],
            "type": "heatmap"
           }
          ],
          "histogram": [
           {
            "marker": {
             "pattern": {
              "fillmode": "overlay",
              "size": 10,
              "solidity": 0.2
             }
            },
            "type": "histogram"
           }
          ],
          "histogram2d": [
           {
            "colorbar": {
             "outlinewidth": 0,
             "ticks": ""
            },
            "colorscale": [
             [
              0,
              "#0d0887"
             ],
             [
              0.1111111111111111,
              "#46039f"
             ],
             [
              0.2222222222222222,
              "#7201a8"
             ],
             [
              0.3333333333333333,
              "#9c179e"
             ],
             [
              0.4444444444444444,
              "#bd3786"
             ],
             [
              0.5555555555555556,
              "#d8576b"
             ],
             [
              0.6666666666666666,
              "#ed7953"
             ],
             [
              0.7777777777777778,
              "#fb9f3a"
             ],
             [
              0.8888888888888888,
              "#fdca26"
             ],
             [
              1,
              "#f0f921"
             ]
            ],
            "type": "histogram2d"
           }
          ],
          "histogram2dcontour": [
           {
            "colorbar": {
             "outlinewidth": 0,
             "ticks": ""
            },
            "colorscale": [
             [
              0,
              "#0d0887"
             ],
             [
              0.1111111111111111,
              "#46039f"
             ],
             [
              0.2222222222222222,
              "#7201a8"
             ],
             [
              0.3333333333333333,
              "#9c179e"
             ],
             [
              0.4444444444444444,
              "#bd3786"
             ],
             [
              0.5555555555555556,
              "#d8576b"
             ],
             [
              0.6666666666666666,
              "#ed7953"
             ],
             [
              0.7777777777777778,
              "#fb9f3a"
             ],
             [
              0.8888888888888888,
              "#fdca26"
             ],
             [
              1,
              "#f0f921"
             ]
            ],
            "type": "histogram2dcontour"
           }
          ],
          "mesh3d": [
           {
            "colorbar": {
             "outlinewidth": 0,
             "ticks": ""
            },
            "type": "mesh3d"
           }
          ],
          "parcoords": [
           {
            "line": {
             "colorbar": {
              "outlinewidth": 0,
              "ticks": ""
             }
            },
            "type": "parcoords"
           }
          ],
          "pie": [
           {
            "automargin": true,
            "type": "pie"
           }
          ],
          "scatter": [
           {
            "fillpattern": {
             "fillmode": "overlay",
             "size": 10,
             "solidity": 0.2
            },
            "type": "scatter"
           }
          ],
          "scatter3d": [
           {
            "line": {
             "colorbar": {
              "outlinewidth": 0,
              "ticks": ""
             }
            },
            "marker": {
             "colorbar": {
              "outlinewidth": 0,
              "ticks": ""
             }
            },
            "type": "scatter3d"
           }
          ],
          "scattercarpet": [
           {
            "marker": {
             "colorbar": {
              "outlinewidth": 0,
              "ticks": ""
             }
            },
            "type": "scattercarpet"
           }
          ],
          "scattergeo": [
           {
            "marker": {
             "colorbar": {
              "outlinewidth": 0,
              "ticks": ""
             }
            },
            "type": "scattergeo"
           }
          ],
          "scattergl": [
           {
            "marker": {
             "colorbar": {
              "outlinewidth": 0,
              "ticks": ""
             }
            },
            "type": "scattergl"
           }
          ],
          "scattermap": [
           {
            "marker": {
             "colorbar": {
              "outlinewidth": 0,
              "ticks": ""
             }
            },
            "type": "scattermap"
           }
          ],
          "scattermapbox": [
           {
            "marker": {
             "colorbar": {
              "outlinewidth": 0,
              "ticks": ""
             }
            },
            "type": "scattermapbox"
           }
          ],
          "scatterpolar": [
           {
            "marker": {
             "colorbar": {
              "outlinewidth": 0,
              "ticks": ""
             }
            },
            "type": "scatterpolar"
           }
          ],
          "scatterpolargl": [
           {
            "marker": {
             "colorbar": {
              "outlinewidth": 0,
              "ticks": ""
             }
            },
            "type": "scatterpolargl"
           }
          ],
          "scatterternary": [
           {
            "marker": {
             "colorbar": {
              "outlinewidth": 0,
              "ticks": ""
             }
            },
            "type": "scatterternary"
           }
          ],
          "surface": [
           {
            "colorbar": {
             "outlinewidth": 0,
             "ticks": ""
            },
            "colorscale": [
             [
              0,
              "#0d0887"
             ],
             [
              0.1111111111111111,
              "#46039f"
             ],
             [
              0.2222222222222222,
              "#7201a8"
             ],
             [
              0.3333333333333333,
              "#9c179e"
             ],
             [
              0.4444444444444444,
              "#bd3786"
             ],
             [
              0.5555555555555556,
              "#d8576b"
             ],
             [
              0.6666666666666666,
              "#ed7953"
             ],
             [
              0.7777777777777778,
              "#fb9f3a"
             ],
             [
              0.8888888888888888,
              "#fdca26"
             ],
             [
              1,
              "#f0f921"
             ]
            ],
            "type": "surface"
           }
          ],
          "table": [
           {
            "cells": {
             "fill": {
              "color": "#EBF0F8"
             },
             "line": {
              "color": "white"
             }
            },
            "header": {
             "fill": {
              "color": "#C8D4E3"
             },
             "line": {
              "color": "white"
             }
            },
            "type": "table"
           }
          ]
         },
         "layout": {
          "annotationdefaults": {
           "arrowcolor": "#2a3f5f",
           "arrowhead": 0,
           "arrowwidth": 1
          },
          "autotypenumbers": "strict",
          "coloraxis": {
           "colorbar": {
            "outlinewidth": 0,
            "ticks": ""
           }
          },
          "colorscale": {
           "diverging": [
            [
             0,
             "#8e0152"
            ],
            [
             0.1,
             "#c51b7d"
            ],
            [
             0.2,
             "#de77ae"
            ],
            [
             0.3,
             "#f1b6da"
            ],
            [
             0.4,
             "#fde0ef"
            ],
            [
             0.5,
             "#f7f7f7"
            ],
            [
             0.6,
             "#e6f5d0"
            ],
            [
             0.7,
             "#b8e186"
            ],
            [
             0.8,
             "#7fbc41"
            ],
            [
             0.9,
             "#4d9221"
            ],
            [
             1,
             "#276419"
            ]
           ],
           "sequential": [
            [
             0,
             "#0d0887"
            ],
            [
             0.1111111111111111,
             "#46039f"
            ],
            [
             0.2222222222222222,
             "#7201a8"
            ],
            [
             0.3333333333333333,
             "#9c179e"
            ],
            [
             0.4444444444444444,
             "#bd3786"
            ],
            [
             0.5555555555555556,
             "#d8576b"
            ],
            [
             0.6666666666666666,
             "#ed7953"
            ],
            [
             0.7777777777777778,
             "#fb9f3a"
            ],
            [
             0.8888888888888888,
             "#fdca26"
            ],
            [
             1,
             "#f0f921"
            ]
           ],
           "sequentialminus": [
            [
             0,
             "#0d0887"
            ],
            [
             0.1111111111111111,
             "#46039f"
            ],
            [
             0.2222222222222222,
             "#7201a8"
            ],
            [
             0.3333333333333333,
             "#9c179e"
            ],
            [
             0.4444444444444444,
             "#bd3786"
            ],
            [
             0.5555555555555556,
             "#d8576b"
            ],
            [
             0.6666666666666666,
             "#ed7953"
            ],
            [
             0.7777777777777778,
             "#fb9f3a"
            ],
            [
             0.8888888888888888,
             "#fdca26"
            ],
            [
             1,
             "#f0f921"
            ]
           ]
          },
          "colorway": [
           "#636efa",
           "#EF553B",
           "#00cc96",
           "#ab63fa",
           "#FFA15A",
           "#19d3f3",
           "#FF6692",
           "#B6E880",
           "#FF97FF",
           "#FECB52"
          ],
          "font": {
           "color": "#2a3f5f"
          },
          "geo": {
           "bgcolor": "white",
           "lakecolor": "white",
           "landcolor": "#E5ECF6",
           "showlakes": true,
           "showland": true,
           "subunitcolor": "white"
          },
          "hoverlabel": {
           "align": "left"
          },
          "hovermode": "closest",
          "mapbox": {
           "style": "light"
          },
          "paper_bgcolor": "white",
          "plot_bgcolor": "#E5ECF6",
          "polar": {
           "angularaxis": {
            "gridcolor": "white",
            "linecolor": "white",
            "ticks": ""
           },
           "bgcolor": "#E5ECF6",
           "radialaxis": {
            "gridcolor": "white",
            "linecolor": "white",
            "ticks": ""
           }
          },
          "scene": {
           "xaxis": {
            "backgroundcolor": "#E5ECF6",
            "gridcolor": "white",
            "gridwidth": 2,
            "linecolor": "white",
            "showbackground": true,
            "ticks": "",
            "zerolinecolor": "white"
           },
           "yaxis": {
            "backgroundcolor": "#E5ECF6",
            "gridcolor": "white",
            "gridwidth": 2,
            "linecolor": "white",
            "showbackground": true,
            "ticks": "",
            "zerolinecolor": "white"
           },
           "zaxis": {
            "backgroundcolor": "#E5ECF6",
            "gridcolor": "white",
            "gridwidth": 2,
            "linecolor": "white",
            "showbackground": true,
            "ticks": "",
            "zerolinecolor": "white"
           }
          },
          "shapedefaults": {
           "line": {
            "color": "#2a3f5f"
           }
          },
          "ternary": {
           "aaxis": {
            "gridcolor": "white",
            "linecolor": "white",
            "ticks": ""
           },
           "baxis": {
            "gridcolor": "white",
            "linecolor": "white",
            "ticks": ""
           },
           "bgcolor": "#E5ECF6",
           "caxis": {
            "gridcolor": "white",
            "linecolor": "white",
            "ticks": ""
           }
          },
          "title": {
           "x": 0.05
          },
          "xaxis": {
           "automargin": true,
           "gridcolor": "white",
           "linecolor": "white",
           "ticks": "",
           "title": {
            "standoff": 15
           },
           "zerolinecolor": "white",
           "zerolinewidth": 2
          },
          "yaxis": {
           "automargin": true,
           "gridcolor": "white",
           "linecolor": "white",
           "ticks": "",
           "title": {
            "standoff": 15
           },
           "zerolinecolor": "white",
           "zerolinewidth": 2
          }
         }
        },
        "title": {
         "text": "Vessel Size vs. Hours at Berth at Principal Ports"
        },
        "width": 800
       }
      }
     },
     "metadata": {},
     "output_type": "display_data"
    }
   ],
   "source": [
    "plot_mapbox(df=calls_df, cat_group='port_name', lat_col='port_lat', \n",
    "            lon_col='port_lon', size_col='vessel_size', size_col_alias='Mean Vessel Size',\n",
    "            color_col='hrs_at_berth', color_col_alias='Mean Hours at Berth',\n",
    "            zoom=2.1, color_outlier_z=1, #size_max=15,\n",
    "            title='Vessel Size vs. Hours at Berth at Principal Ports', hover_name='port_name')"
   ]
  },
  {
   "cell_type": "code",
   "execution_count": 10,
   "metadata": {},
   "outputs": [
    {
     "name": "stderr",
     "output_type": "stream",
     "text": [
      "/var/folders/dc/sgfd2dls28n4y4v4_jw03ly40000gp/T/ipykernel_4162/674434613.py:60: DeprecationWarning:\n",
      "\n",
      "*scatter_mapbox* is deprecated! Use *scatter_map* instead. Learn more at: https://plotly.com/python/mapbox-to-maplibre/\n",
      "\n"
     ]
    },
    {
     "data": {
      "application/vnd.plotly.v1+json": {
       "config": {
        "plotlyServerURL": "https://plot.ly"
       },
       "data": [
        {
         "hovertemplate": "<b>%{hovertext}</b><br><br>Mean Hours at Berth=%{marker.size}<br>dock_lat=%{lat}<br>dock_lon=%{lon}<br>Mean Hours at Anchor=%{marker.color}<extra></extra>",
         "hovertext": [
          "S S A TERMINALS, TERMINAL 18, BERTHS 2-6",
          "Birmingham Steel Corp., Terminal 105, Berth No. 2.",
          "CROWLEY MARINE SERVICES, PIER 17",
          "PIER 34",
          "U. S. COAST GUARD, PIER 35",
          "CROWLEY MARITIME, TERMINAL 28 WHARF",
          "TERMINAL 5 SEATTLE, SSA MARINE",
          "TRANS PACIFIC CONTAINER SERVICE CORP., TERMINAL 30 WHARF",
          "SSA TERMINALS, TERMINAL 18, BERTH 7",
          "BIRMINGHAM STEEL CORP., TERMINAL 105, BERTH NO. 1",
          "TOTAL TERMINALS, TERMINAL 46 WHARF",
          "ELLIOTT BAY GENERAL ANCHORAGE",
          "RAINER COLD STORAGE & ICE, TERMINAL 25 SOUTH WHARF",
          "OPEN WATER-BUOYS & DOLPHINS",
          "SSA TERMINALS, TERMINAL 37 WHARF",
          "TODD PACIFIC SHIPYARDS CORP., BERTHS F-K, PIERS NO. 4-6",
          "SSA TERMINALS, TERMINAL 25 WHARF",
          "PACIFIC TERMINALS LTD., WHARVES",
          "CRANE DOCK PIER 20",
          "B P OIL CO., SEATTLE TERMINAL, PIER NO. 11"
         ],
         "lat": {
          "bdata": "Di3r/rHKR0BGdAgcCchHQPFRuB6Fy0dAiZwwYTTLR0BwaafmcstHQItStHIvykdA0s8NTdnJR0BWN1DgncpHQNPuVwG+yUdAvB6F61HIR0AszZGVX8xHQGQ8g4b+y0dAbWMl5lnJR0AyCFdAocpHQGT8NO7Ny0dAiF7x1CPLR0AogqrRq8lHQGRE2zF1yUdA2xIro5HJR0DD9Shcj8pHQA==",
          "dtype": "f8"
         },
         "legendgroup": "",
         "lon": {
          "bdata": "t8w/+iaWXsCzQ1GgT5ZewHWw/s9hll7AbQlrY+yVXsAeufyH9JVewL+Ee2XelV7ATVuU2SCXXsBGtKuQ8pVewGj+JhQill7Aio7HDFSWXsC+lQm/1JVewJSACkeQll7A/G9CIQKWXsArjnVxG5dewGW4HoXrlV7AxXO2gNCWXsAeufyH9JVewCXM0eP3ll7AXTklICaWXsAry/Pg7pZewA==",
          "dtype": "f8"
         },
         "marker": {
          "color": {
           "bdata": "YVj6qGQaI0AfhetRuJ4tQAAAAAAAAAAAJKiesYt3FkApXI/C9WgwQAAAAAAAAAAAJDdyIzfiF0C+fwsG9rYTQAjrFtW34xFAZmZmZmYmPkB/WKQMPN0TQHh3d3d3tzxAAAAAAAAAAABXHpCscwU1QABkYNeAqAdAAAAAAAAAAAAAAAAAAAAAAAAAAAAAAAAAAAAAAAAAAAAiIiIiIqIGQA==",
           "dtype": "f8"
          },
          "coloraxis": "coloraxis",
          "size": {
           "bdata": "azYt9cp0SEB0uf1BhlpfQEREREREdFhAMWr42xQJSUCjcD0K17NHQDMzMzMz8zJA1Uqt1Ep9RkA5Qp7M1Kw9QPM8z/M8DztAiIiIiIiMZ0DOlQck6xxDQMzMzMzMDDBAzczMzMycUUAk61x5QLJGQNWsyRHGyEZAMzMzMzMzRkA0MzMzM+NfQJqZmZmZGTRAyi+W/GI5UEAiIiIiIiIyQA==",
           "dtype": "f8"
          },
          "sizemode": "area",
          "sizeref": 0.4709791666666666
         },
         "mode": "markers",
         "name": "",
         "showlegend": false,
         "subplot": "mapbox",
         "type": "scattermapbox"
        }
       ],
       "layout": {
        "coloraxis": {
         "cmax": 26.798020246231513,
         "cmin": -11.557948610759343,
         "colorbar": {
          "title": {
           "text": "Mean Hours at Anchor"
          }
         },
         "colorscale": [
          [
           0,
           "#440154"
          ],
          [
           0.1111111111111111,
           "#482878"
          ],
          [
           0.2222222222222222,
           "#3e4989"
          ],
          [
           0.3333333333333333,
           "#31688e"
          ],
          [
           0.4444444444444444,
           "#26828e"
          ],
          [
           0.5555555555555556,
           "#1f9e89"
          ],
          [
           0.6666666666666666,
           "#35b779"
          ],
          [
           0.7777777777777778,
           "#6ece58"
          ],
          [
           0.8888888888888888,
           "#b5de2b"
          ],
          [
           1,
           "#fde725"
          ]
         ]
        },
        "height": 600,
        "legend": {
         "itemsizing": "constant",
         "tracegroupgap": 0
        },
        "mapbox": {
         "center": {
          "lat": 47.581315750000044,
          "lon": -122.34873449999995
         },
         "domain": {
          "x": [
           0,
           1
          ],
          "y": [
           0,
           1
          ]
         },
         "style": "carto-positron",
         "zoom": 11.883039123510514
        },
        "template": {
         "data": {
          "bar": [
           {
            "error_x": {
             "color": "#2a3f5f"
            },
            "error_y": {
             "color": "#2a3f5f"
            },
            "marker": {
             "line": {
              "color": "#E5ECF6",
              "width": 0.5
             },
             "pattern": {
              "fillmode": "overlay",
              "size": 10,
              "solidity": 0.2
             }
            },
            "type": "bar"
           }
          ],
          "barpolar": [
           {
            "marker": {
             "line": {
              "color": "#E5ECF6",
              "width": 0.5
             },
             "pattern": {
              "fillmode": "overlay",
              "size": 10,
              "solidity": 0.2
             }
            },
            "type": "barpolar"
           }
          ],
          "carpet": [
           {
            "aaxis": {
             "endlinecolor": "#2a3f5f",
             "gridcolor": "white",
             "linecolor": "white",
             "minorgridcolor": "white",
             "startlinecolor": "#2a3f5f"
            },
            "baxis": {
             "endlinecolor": "#2a3f5f",
             "gridcolor": "white",
             "linecolor": "white",
             "minorgridcolor": "white",
             "startlinecolor": "#2a3f5f"
            },
            "type": "carpet"
           }
          ],
          "choropleth": [
           {
            "colorbar": {
             "outlinewidth": 0,
             "ticks": ""
            },
            "type": "choropleth"
           }
          ],
          "contour": [
           {
            "colorbar": {
             "outlinewidth": 0,
             "ticks": ""
            },
            "colorscale": [
             [
              0,
              "#0d0887"
             ],
             [
              0.1111111111111111,
              "#46039f"
             ],
             [
              0.2222222222222222,
              "#7201a8"
             ],
             [
              0.3333333333333333,
              "#9c179e"
             ],
             [
              0.4444444444444444,
              "#bd3786"
             ],
             [
              0.5555555555555556,
              "#d8576b"
             ],
             [
              0.6666666666666666,
              "#ed7953"
             ],
             [
              0.7777777777777778,
              "#fb9f3a"
             ],
             [
              0.8888888888888888,
              "#fdca26"
             ],
             [
              1,
              "#f0f921"
             ]
            ],
            "type": "contour"
           }
          ],
          "contourcarpet": [
           {
            "colorbar": {
             "outlinewidth": 0,
             "ticks": ""
            },
            "type": "contourcarpet"
           }
          ],
          "heatmap": [
           {
            "colorbar": {
             "outlinewidth": 0,
             "ticks": ""
            },
            "colorscale": [
             [
              0,
              "#0d0887"
             ],
             [
              0.1111111111111111,
              "#46039f"
             ],
             [
              0.2222222222222222,
              "#7201a8"
             ],
             [
              0.3333333333333333,
              "#9c179e"
             ],
             [
              0.4444444444444444,
              "#bd3786"
             ],
             [
              0.5555555555555556,
              "#d8576b"
             ],
             [
              0.6666666666666666,
              "#ed7953"
             ],
             [
              0.7777777777777778,
              "#fb9f3a"
             ],
             [
              0.8888888888888888,
              "#fdca26"
             ],
             [
              1,
              "#f0f921"
             ]
            ],
            "type": "heatmap"
           }
          ],
          "histogram": [
           {
            "marker": {
             "pattern": {
              "fillmode": "overlay",
              "size": 10,
              "solidity": 0.2
             }
            },
            "type": "histogram"
           }
          ],
          "histogram2d": [
           {
            "colorbar": {
             "outlinewidth": 0,
             "ticks": ""
            },
            "colorscale": [
             [
              0,
              "#0d0887"
             ],
             [
              0.1111111111111111,
              "#46039f"
             ],
             [
              0.2222222222222222,
              "#7201a8"
             ],
             [
              0.3333333333333333,
              "#9c179e"
             ],
             [
              0.4444444444444444,
              "#bd3786"
             ],
             [
              0.5555555555555556,
              "#d8576b"
             ],
             [
              0.6666666666666666,
              "#ed7953"
             ],
             [
              0.7777777777777778,
              "#fb9f3a"
             ],
             [
              0.8888888888888888,
              "#fdca26"
             ],
             [
              1,
              "#f0f921"
             ]
            ],
            "type": "histogram2d"
           }
          ],
          "histogram2dcontour": [
           {
            "colorbar": {
             "outlinewidth": 0,
             "ticks": ""
            },
            "colorscale": [
             [
              0,
              "#0d0887"
             ],
             [
              0.1111111111111111,
              "#46039f"
             ],
             [
              0.2222222222222222,
              "#7201a8"
             ],
             [
              0.3333333333333333,
              "#9c179e"
             ],
             [
              0.4444444444444444,
              "#bd3786"
             ],
             [
              0.5555555555555556,
              "#d8576b"
             ],
             [
              0.6666666666666666,
              "#ed7953"
             ],
             [
              0.7777777777777778,
              "#fb9f3a"
             ],
             [
              0.8888888888888888,
              "#fdca26"
             ],
             [
              1,
              "#f0f921"
             ]
            ],
            "type": "histogram2dcontour"
           }
          ],
          "mesh3d": [
           {
            "colorbar": {
             "outlinewidth": 0,
             "ticks": ""
            },
            "type": "mesh3d"
           }
          ],
          "parcoords": [
           {
            "line": {
             "colorbar": {
              "outlinewidth": 0,
              "ticks": ""
             }
            },
            "type": "parcoords"
           }
          ],
          "pie": [
           {
            "automargin": true,
            "type": "pie"
           }
          ],
          "scatter": [
           {
            "fillpattern": {
             "fillmode": "overlay",
             "size": 10,
             "solidity": 0.2
            },
            "type": "scatter"
           }
          ],
          "scatter3d": [
           {
            "line": {
             "colorbar": {
              "outlinewidth": 0,
              "ticks": ""
             }
            },
            "marker": {
             "colorbar": {
              "outlinewidth": 0,
              "ticks": ""
             }
            },
            "type": "scatter3d"
           }
          ],
          "scattercarpet": [
           {
            "marker": {
             "colorbar": {
              "outlinewidth": 0,
              "ticks": ""
             }
            },
            "type": "scattercarpet"
           }
          ],
          "scattergeo": [
           {
            "marker": {
             "colorbar": {
              "outlinewidth": 0,
              "ticks": ""
             }
            },
            "type": "scattergeo"
           }
          ],
          "scattergl": [
           {
            "marker": {
             "colorbar": {
              "outlinewidth": 0,
              "ticks": ""
             }
            },
            "type": "scattergl"
           }
          ],
          "scattermap": [
           {
            "marker": {
             "colorbar": {
              "outlinewidth": 0,
              "ticks": ""
             }
            },
            "type": "scattermap"
           }
          ],
          "scattermapbox": [
           {
            "marker": {
             "colorbar": {
              "outlinewidth": 0,
              "ticks": ""
             }
            },
            "type": "scattermapbox"
           }
          ],
          "scatterpolar": [
           {
            "marker": {
             "colorbar": {
              "outlinewidth": 0,
              "ticks": ""
             }
            },
            "type": "scatterpolar"
           }
          ],
          "scatterpolargl": [
           {
            "marker": {
             "colorbar": {
              "outlinewidth": 0,
              "ticks": ""
             }
            },
            "type": "scatterpolargl"
           }
          ],
          "scatterternary": [
           {
            "marker": {
             "colorbar": {
              "outlinewidth": 0,
              "ticks": ""
             }
            },
            "type": "scatterternary"
           }
          ],
          "surface": [
           {
            "colorbar": {
             "outlinewidth": 0,
             "ticks": ""
            },
            "colorscale": [
             [
              0,
              "#0d0887"
             ],
             [
              0.1111111111111111,
              "#46039f"
             ],
             [
              0.2222222222222222,
              "#7201a8"
             ],
             [
              0.3333333333333333,
              "#9c179e"
             ],
             [
              0.4444444444444444,
              "#bd3786"
             ],
             [
              0.5555555555555556,
              "#d8576b"
             ],
             [
              0.6666666666666666,
              "#ed7953"
             ],
             [
              0.7777777777777778,
              "#fb9f3a"
             ],
             [
              0.8888888888888888,
              "#fdca26"
             ],
             [
              1,
              "#f0f921"
             ]
            ],
            "type": "surface"
           }
          ],
          "table": [
           {
            "cells": {
             "fill": {
              "color": "#EBF0F8"
             },
             "line": {
              "color": "white"
             }
            },
            "header": {
             "fill": {
              "color": "#C8D4E3"
             },
             "line": {
              "color": "white"
             }
            },
            "type": "table"
           }
          ]
         },
         "layout": {
          "annotationdefaults": {
           "arrowcolor": "#2a3f5f",
           "arrowhead": 0,
           "arrowwidth": 1
          },
          "autotypenumbers": "strict",
          "coloraxis": {
           "colorbar": {
            "outlinewidth": 0,
            "ticks": ""
           }
          },
          "colorscale": {
           "diverging": [
            [
             0,
             "#8e0152"
            ],
            [
             0.1,
             "#c51b7d"
            ],
            [
             0.2,
             "#de77ae"
            ],
            [
             0.3,
             "#f1b6da"
            ],
            [
             0.4,
             "#fde0ef"
            ],
            [
             0.5,
             "#f7f7f7"
            ],
            [
             0.6,
             "#e6f5d0"
            ],
            [
             0.7,
             "#b8e186"
            ],
            [
             0.8,
             "#7fbc41"
            ],
            [
             0.9,
             "#4d9221"
            ],
            [
             1,
             "#276419"
            ]
           ],
           "sequential": [
            [
             0,
             "#0d0887"
            ],
            [
             0.1111111111111111,
             "#46039f"
            ],
            [
             0.2222222222222222,
             "#7201a8"
            ],
            [
             0.3333333333333333,
             "#9c179e"
            ],
            [
             0.4444444444444444,
             "#bd3786"
            ],
            [
             0.5555555555555556,
             "#d8576b"
            ],
            [
             0.6666666666666666,
             "#ed7953"
            ],
            [
             0.7777777777777778,
             "#fb9f3a"
            ],
            [
             0.8888888888888888,
             "#fdca26"
            ],
            [
             1,
             "#f0f921"
            ]
           ],
           "sequentialminus": [
            [
             0,
             "#0d0887"
            ],
            [
             0.1111111111111111,
             "#46039f"
            ],
            [
             0.2222222222222222,
             "#7201a8"
            ],
            [
             0.3333333333333333,
             "#9c179e"
            ],
            [
             0.4444444444444444,
             "#bd3786"
            ],
            [
             0.5555555555555556,
             "#d8576b"
            ],
            [
             0.6666666666666666,
             "#ed7953"
            ],
            [
             0.7777777777777778,
             "#fb9f3a"
            ],
            [
             0.8888888888888888,
             "#fdca26"
            ],
            [
             1,
             "#f0f921"
            ]
           ]
          },
          "colorway": [
           "#636efa",
           "#EF553B",
           "#00cc96",
           "#ab63fa",
           "#FFA15A",
           "#19d3f3",
           "#FF6692",
           "#B6E880",
           "#FF97FF",
           "#FECB52"
          ],
          "font": {
           "color": "#2a3f5f"
          },
          "geo": {
           "bgcolor": "white",
           "lakecolor": "white",
           "landcolor": "#E5ECF6",
           "showlakes": true,
           "showland": true,
           "subunitcolor": "white"
          },
          "hoverlabel": {
           "align": "left"
          },
          "hovermode": "closest",
          "mapbox": {
           "style": "light"
          },
          "paper_bgcolor": "white",
          "plot_bgcolor": "#E5ECF6",
          "polar": {
           "angularaxis": {
            "gridcolor": "white",
            "linecolor": "white",
            "ticks": ""
           },
           "bgcolor": "#E5ECF6",
           "radialaxis": {
            "gridcolor": "white",
            "linecolor": "white",
            "ticks": ""
           }
          },
          "scene": {
           "xaxis": {
            "backgroundcolor": "#E5ECF6",
            "gridcolor": "white",
            "gridwidth": 2,
            "linecolor": "white",
            "showbackground": true,
            "ticks": "",
            "zerolinecolor": "white"
           },
           "yaxis": {
            "backgroundcolor": "#E5ECF6",
            "gridcolor": "white",
            "gridwidth": 2,
            "linecolor": "white",
            "showbackground": true,
            "ticks": "",
            "zerolinecolor": "white"
           },
           "zaxis": {
            "backgroundcolor": "#E5ECF6",
            "gridcolor": "white",
            "gridwidth": 2,
            "linecolor": "white",
            "showbackground": true,
            "ticks": "",
            "zerolinecolor": "white"
           }
          },
          "shapedefaults": {
           "line": {
            "color": "#2a3f5f"
           }
          },
          "ternary": {
           "aaxis": {
            "gridcolor": "white",
            "linecolor": "white",
            "ticks": ""
           },
           "baxis": {
            "gridcolor": "white",
            "linecolor": "white",
            "ticks": ""
           },
           "bgcolor": "#E5ECF6",
           "caxis": {
            "gridcolor": "white",
            "linecolor": "white",
            "ticks": ""
           }
          },
          "title": {
           "x": 0.05
          },
          "xaxis": {
           "automargin": true,
           "gridcolor": "white",
           "linecolor": "white",
           "ticks": "",
           "title": {
            "standoff": 15
           },
           "zerolinecolor": "white",
           "zerolinewidth": 2
          },
          "yaxis": {
           "automargin": true,
           "gridcolor": "white",
           "linecolor": "white",
           "ticks": "",
           "title": {
            "standoff": 15
           },
           "zerolinecolor": "white",
           "zerolinewidth": 2
          }
         }
        },
        "title": {
         "text": "Hours at Berth vs. Hours at Anchor"
        },
        "width": 800
       }
      }
     },
     "metadata": {},
     "output_type": "display_data"
    }
   ],
   "source": [
    "plot_mapbox(df=calls_df, cat_group='dock_name', filter_col='port_name', \n",
    "            filter=['Seattle, WA'],\n",
    "            lat_col='dock_lat', lon_col='dock_lon', size_col='hrs_at_berth', size_col_alias='Mean Hours at Berth',\n",
    "            color_col='hrs_at_anchor', color_col_alias='Mean Hours at Anchor',\n",
    "            size_max=20, color_outlier_z=2,\n",
    "            title='Hours at Berth vs. Hours at Anchor', hover_name='dock_name')"
   ]
  },
  {
   "cell_type": "code",
   "execution_count": 11,
   "metadata": {},
   "outputs": [
    {
     "data": {
      "application/vnd.plotly.v1+json": {
       "config": {
        "plotlyServerURL": "https://plot.ly"
       },
       "data": [
        {
         "hovertemplate": "Port=Seattle, WA<br>=%{x}<br>Visits per Month=%{y}<extra></extra>",
         "legendgroup": "Seattle, WA",
         "line": {
          "color": "blue",
          "dash": "solid"
         },
         "marker": {
          "symbol": "circle"
         },
         "mode": "lines",
         "name": "Seattle, WA",
         "orientation": "v",
         "showlegend": true,
         "type": "scatter",
         "x": [
          "2018-01-01",
          "2018-02-01",
          "2018-03-01",
          "2018-04-01",
          "2018-05-01",
          "2018-06-01",
          "2018-07-01",
          "2018-08-01",
          "2018-09-01",
          "2018-10-01",
          "2018-11-01",
          "2018-12-01",
          "2019-01-01",
          "2019-02-01",
          "2019-03-01",
          "2019-04-01",
          "2019-05-01",
          "2019-06-01",
          "2019-07-01",
          "2019-08-01",
          "2019-09-01",
          "2019-10-01",
          "2019-11-01",
          "2019-12-01",
          "2020-01-01",
          "2020-02-01",
          "2020-03-01",
          "2020-04-01",
          "2020-05-01",
          "2020-06-01",
          "2020-07-01",
          "2020-08-01",
          "2020-09-01",
          "2020-10-01",
          "2020-11-01",
          "2020-12-01",
          "2021-01-01",
          "2021-02-01",
          "2021-03-01",
          "2021-04-01",
          "2021-05-01",
          "2021-06-01",
          "2021-07-01",
          "2021-08-01",
          "2021-09-01",
          "2021-10-01",
          "2021-11-01",
          "2021-12-01",
          "2022-01-01",
          "2022-02-01",
          "2022-03-01",
          "2022-04-01",
          "2022-05-01",
          "2022-06-01",
          "2022-07-01",
          "2022-08-01",
          "2022-09-01",
          "2022-10-01",
          "2022-11-01",
          "2022-12-01",
          "2023-01-01",
          "2023-02-01",
          "2023-03-01",
          "2023-04-01",
          "2023-05-01",
          "2023-06-01",
          "2023-07-01",
          "2023-08-01",
          "2023-09-01",
          "2023-10-01",
          "2023-11-01",
          "2023-12-01",
          "2024-01-01",
          "2024-02-01",
          "2024-03-01",
          "2024-04-01",
          "2024-05-01",
          "2024-06-01",
          "2024-07-01",
          "2024-08-01",
          "2024-09-01",
          "2024-10-01",
          "2024-11-01",
          "2024-12-01"
         ],
         "xaxis": "x",
         "y": [
          null,
          null,
          null,
          null,
          null,
          null,
          null,
          null,
          null,
          null,
          null,
          null,
          null,
          null,
          null,
          null,
          null,
          null,
          null,
          null,
          null,
          null,
          null,
          null,
          null,
          null,
          null,
          null,
          null,
          null,
          null,
          null,
          null,
          null,
          null,
          null,
          null,
          null,
          null,
          null,
          null,
          null,
          null,
          null,
          null,
          null,
          null,
          null,
          null,
          null,
          null,
          null,
          null,
          null,
          null,
          null,
          null,
          null,
          null,
          null,
          null,
          null,
          null,
          null,
          null,
          null,
          null,
          null,
          null,
          null,
          null,
          null,
          null,
          null,
          null,
          null,
          null,
          null,
          null,
          null,
          null,
          null,
          null,
          null
         ],
         "yaxis": "y"
        },
        {
         "hovertemplate": "Port=Port Everglades, FL<br>=%{x}<br>Visits per Month=%{y}<extra></extra>",
         "legendgroup": "Port Everglades, FL",
         "line": {
          "color": "lightgray",
          "dash": "solid"
         },
         "marker": {
          "symbol": "circle"
         },
         "mode": "lines",
         "name": "Port Everglades, FL",
         "orientation": "v",
         "showlegend": true,
         "type": "scatter",
         "x": [
          "2018-01-01",
          "2018-02-01",
          "2018-03-01",
          "2018-04-01",
          "2018-05-01",
          "2018-06-01",
          "2018-07-01",
          "2018-08-01",
          "2018-09-01",
          "2018-10-01",
          "2018-11-01",
          "2018-12-01",
          "2019-01-01",
          "2019-02-01",
          "2019-03-01",
          "2019-04-01",
          "2019-05-01",
          "2019-06-01",
          "2019-07-01",
          "2019-08-01",
          "2019-09-01",
          "2019-10-01",
          "2019-11-01",
          "2019-12-01",
          "2020-01-01",
          "2020-02-01",
          "2020-03-01",
          "2020-04-01",
          "2020-05-01",
          "2020-06-01",
          "2020-07-01",
          "2020-08-01",
          "2020-09-01",
          "2020-10-01",
          "2020-11-01",
          "2020-12-01",
          "2021-01-01",
          "2021-02-01",
          "2021-03-01",
          "2021-04-01",
          "2021-05-01",
          "2021-06-01",
          "2021-07-01",
          "2021-08-01",
          "2021-09-01",
          "2021-10-01",
          "2021-11-01",
          "2021-12-01",
          "2022-01-01",
          "2022-02-01",
          "2022-03-01",
          "2022-04-01",
          "2022-05-01",
          "2022-06-01",
          "2022-07-01",
          "2022-08-01",
          "2022-09-01",
          "2022-10-01",
          "2022-11-01",
          "2022-12-01",
          "2023-01-01",
          "2023-02-01",
          "2023-03-01",
          "2023-04-01",
          "2023-05-01",
          "2023-06-01",
          "2023-07-01",
          "2023-08-01",
          "2023-09-01",
          "2023-10-01",
          "2023-11-01",
          "2023-12-01",
          "2024-01-01",
          "2024-02-01",
          "2024-03-01",
          "2024-04-01",
          "2024-05-01",
          "2024-06-01",
          "2024-07-01",
          "2024-08-01",
          "2024-09-01",
          "2024-10-01",
          "2024-11-01",
          "2024-12-01"
         ],
         "xaxis": "x",
         "y": [
          null,
          null,
          null,
          null,
          null,
          null,
          null,
          null,
          null,
          null,
          null,
          null,
          null,
          null,
          null,
          null,
          null,
          null,
          null,
          null,
          null,
          null,
          null,
          null,
          null,
          null,
          null,
          null,
          null,
          null,
          null,
          null,
          null,
          null,
          null,
          null,
          null,
          null,
          null,
          null,
          null,
          null,
          null,
          null,
          null,
          null,
          null,
          null,
          null,
          null,
          null,
          null,
          null,
          null,
          null,
          null,
          null,
          null,
          null,
          null,
          null,
          null,
          null,
          null,
          null,
          null,
          null,
          null,
          null,
          null,
          null,
          null,
          null,
          null,
          null,
          null,
          null,
          null,
          null,
          null,
          null,
          null,
          null,
          null
         ],
         "yaxis": "y"
        },
        {
         "hovertemplate": "Port=Port of Los Angeles, CA<br>=%{x}<br>Visits per Month=%{y}<extra></extra>",
         "legendgroup": "Port of Los Angeles, CA",
         "line": {
          "color": "lightgray",
          "dash": "solid"
         },
         "marker": {
          "symbol": "circle"
         },
         "mode": "lines",
         "name": "Port of Los Angeles, CA",
         "orientation": "v",
         "showlegend": true,
         "type": "scatter",
         "x": [
          "2018-01-01",
          "2018-02-01",
          "2018-03-01",
          "2018-04-01",
          "2018-05-01",
          "2018-06-01",
          "2018-07-01",
          "2018-08-01",
          "2018-09-01",
          "2018-10-01",
          "2018-11-01",
          "2018-12-01",
          "2019-01-01",
          "2019-02-01",
          "2019-03-01",
          "2019-04-01",
          "2019-05-01",
          "2019-06-01",
          "2019-07-01",
          "2019-08-01",
          "2019-09-01",
          "2019-10-01",
          "2019-11-01",
          "2019-12-01",
          "2020-01-01",
          "2020-02-01",
          "2020-03-01",
          "2020-04-01",
          "2020-05-01",
          "2020-06-01",
          "2020-07-01",
          "2020-08-01",
          "2020-09-01",
          "2020-10-01",
          "2020-11-01",
          "2020-12-01",
          "2021-01-01",
          "2021-02-01",
          "2021-03-01",
          "2021-04-01",
          "2021-05-01",
          "2021-06-01",
          "2021-07-01",
          "2021-08-01",
          "2021-09-01",
          "2021-10-01",
          "2021-11-01",
          "2021-12-01",
          "2022-01-01",
          "2022-02-01",
          "2022-03-01",
          "2022-04-01",
          "2022-05-01",
          "2022-06-01",
          "2022-07-01",
          "2022-08-01",
          "2022-09-01",
          "2022-10-01",
          "2022-11-01",
          "2022-12-01",
          "2023-01-01",
          "2023-02-01",
          "2023-03-01",
          "2023-04-01",
          "2023-05-01",
          "2023-06-01",
          "2023-07-01",
          "2023-08-01",
          "2023-09-01",
          "2023-10-01",
          "2023-11-01",
          "2023-12-01",
          "2024-01-01",
          "2024-02-01",
          "2024-03-01",
          "2024-04-01",
          "2024-05-01",
          "2024-06-01",
          "2024-07-01",
          "2024-08-01",
          "2024-09-01",
          "2024-10-01",
          "2024-11-01",
          "2024-12-01"
         ],
         "xaxis": "x",
         "y": [
          null,
          null,
          null,
          null,
          null,
          null,
          null,
          null,
          null,
          null,
          null,
          null,
          null,
          null,
          null,
          null,
          null,
          null,
          null,
          null,
          null,
          null,
          null,
          null,
          null,
          null,
          null,
          null,
          null,
          null,
          null,
          null,
          null,
          null,
          null,
          null,
          null,
          null,
          null,
          null,
          null,
          null,
          null,
          null,
          null,
          null,
          null,
          null,
          null,
          null,
          null,
          null,
          null,
          null,
          null,
          null,
          null,
          null,
          null,
          null,
          null,
          null,
          null,
          null,
          null,
          null,
          null,
          null,
          null,
          null,
          null,
          null,
          null,
          null,
          null,
          null,
          null,
          null,
          null,
          null,
          null,
          null,
          null,
          null
         ],
         "yaxis": "y"
        },
        {
         "hovertemplate": "Port=Corpus Christi, TX<br>=%{x}<br>Visits per Month=%{y}<extra></extra>",
         "legendgroup": "Corpus Christi, TX",
         "line": {
          "color": "lightgray",
          "dash": "solid"
         },
         "marker": {
          "symbol": "circle"
         },
         "mode": "lines",
         "name": "Corpus Christi, TX",
         "orientation": "v",
         "showlegend": true,
         "type": "scatter",
         "x": [
          "2018-01-01",
          "2018-02-01",
          "2018-03-01",
          "2018-04-01",
          "2018-05-01",
          "2018-06-01",
          "2018-07-01",
          "2018-08-01",
          "2018-09-01",
          "2018-10-01",
          "2018-11-01",
          "2018-12-01",
          "2019-01-01",
          "2019-02-01",
          "2019-03-01",
          "2019-04-01",
          "2019-05-01",
          "2019-06-01",
          "2019-07-01",
          "2019-08-01",
          "2019-09-01",
          "2019-10-01",
          "2019-11-01",
          "2019-12-01",
          "2020-01-01",
          "2020-02-01",
          "2020-03-01",
          "2020-04-01",
          "2020-05-01",
          "2020-06-01",
          "2020-07-01",
          "2020-08-01",
          "2020-09-01",
          "2020-10-01",
          "2020-11-01",
          "2020-12-01",
          "2021-01-01",
          "2021-02-01",
          "2021-03-01",
          "2021-04-01",
          "2021-05-01",
          "2021-06-01",
          "2021-07-01",
          "2021-08-01",
          "2021-09-01",
          "2021-10-01",
          "2021-11-01",
          "2021-12-01",
          "2022-01-01",
          "2022-02-01",
          "2022-03-01",
          "2022-04-01",
          "2022-05-01",
          "2022-06-01",
          "2022-07-01",
          "2022-08-01",
          "2022-09-01",
          "2022-10-01",
          "2022-11-01",
          "2022-12-01",
          "2023-01-01",
          "2023-02-01",
          "2023-03-01",
          "2023-04-01",
          "2023-05-01",
          "2023-06-01",
          "2023-07-01",
          "2023-08-01",
          "2023-09-01",
          "2023-10-01",
          "2023-11-01",
          "2023-12-01",
          "2024-01-01",
          "2024-02-01",
          "2024-03-01",
          "2024-04-01",
          "2024-05-01",
          "2024-06-01",
          "2024-07-01",
          "2024-08-01",
          "2024-09-01",
          "2024-10-01",
          "2024-11-01",
          "2024-12-01"
         ],
         "xaxis": "x",
         "y": [
          null,
          null,
          null,
          null,
          null,
          null,
          null,
          null,
          null,
          null,
          null,
          null,
          null,
          null,
          null,
          null,
          null,
          null,
          null,
          null,
          null,
          null,
          null,
          null,
          null,
          null,
          null,
          null,
          null,
          null,
          null,
          null,
          null,
          null,
          null,
          null,
          null,
          null,
          null,
          null,
          null,
          null,
          null,
          null,
          null,
          null,
          null,
          null,
          null,
          null,
          null,
          null,
          null,
          null,
          null,
          null,
          null,
          null,
          null,
          null,
          null,
          null,
          null,
          null,
          null,
          null,
          null,
          null,
          null,
          null,
          null,
          null,
          null,
          null,
          null,
          null,
          null,
          null,
          null,
          null,
          null,
          null,
          null,
          null
         ],
         "yaxis": "y"
        },
        {
         "hovertemplate": "Port=Baltimore, MD<br>=%{x}<br>Visits per Month=%{y}<extra></extra>",
         "legendgroup": "Baltimore, MD",
         "line": {
          "color": "lightgray",
          "dash": "solid"
         },
         "marker": {
          "symbol": "circle"
         },
         "mode": "lines",
         "name": "Baltimore, MD",
         "orientation": "v",
         "showlegend": true,
         "type": "scatter",
         "x": [
          "2018-01-01",
          "2018-02-01",
          "2018-03-01",
          "2018-04-01",
          "2018-05-01",
          "2018-06-01",
          "2018-07-01",
          "2018-08-01",
          "2018-09-01",
          "2018-10-01",
          "2018-11-01",
          "2018-12-01",
          "2019-01-01",
          "2019-02-01",
          "2019-03-01",
          "2019-04-01",
          "2019-05-01",
          "2019-06-01",
          "2019-07-01",
          "2019-08-01",
          "2019-09-01",
          "2019-10-01",
          "2019-11-01",
          "2019-12-01",
          "2020-01-01",
          "2020-02-01",
          "2020-03-01",
          "2020-04-01",
          "2020-05-01",
          "2020-06-01",
          "2020-07-01",
          "2020-08-01",
          "2020-09-01",
          "2020-10-01",
          "2020-11-01",
          "2020-12-01",
          "2021-01-01",
          "2021-02-01",
          "2021-03-01",
          "2021-04-01",
          "2021-05-01",
          "2021-06-01",
          "2021-07-01",
          "2021-08-01",
          "2021-09-01",
          "2021-10-01",
          "2021-11-01",
          "2021-12-01",
          "2022-01-01",
          "2022-02-01",
          "2022-03-01",
          "2022-04-01",
          "2022-05-01",
          "2022-06-01",
          "2022-07-01",
          "2022-08-01",
          "2022-09-01",
          "2022-10-01",
          "2022-11-01",
          "2022-12-01",
          "2023-01-01",
          "2023-02-01",
          "2023-03-01",
          "2023-04-01",
          "2023-05-01",
          "2023-06-01",
          "2023-07-01",
          "2023-08-01",
          "2023-09-01",
          "2023-10-01",
          "2023-11-01",
          "2023-12-01",
          "2024-01-01",
          "2024-02-01",
          "2024-03-01",
          "2024-04-01",
          "2024-05-01",
          "2024-06-01",
          "2024-07-01",
          "2024-08-01",
          "2024-09-01",
          "2024-10-01",
          "2024-11-01",
          "2024-12-01"
         ],
         "xaxis": "x",
         "y": [
          null,
          null,
          null,
          null,
          null,
          null,
          null,
          null,
          null,
          null,
          null,
          null,
          null,
          null,
          null,
          null,
          null,
          null,
          null,
          null,
          null,
          null,
          null,
          null,
          null,
          null,
          null,
          null,
          null,
          null,
          null,
          null,
          null,
          null,
          null,
          null,
          null,
          null,
          null,
          null,
          null,
          null,
          null,
          null,
          null,
          null,
          null,
          null,
          null,
          null,
          null,
          null,
          null,
          null,
          null,
          null,
          null,
          null,
          null,
          null,
          null,
          null,
          null,
          null,
          null,
          null,
          null,
          null,
          null,
          null,
          null,
          null,
          null,
          null,
          null,
          null,
          null,
          null,
          null,
          null,
          null,
          null,
          null,
          null
         ],
         "yaxis": "y"
        },
        {
         "hovertemplate": "Port=New Orleans, LA<br>=%{x}<br>Visits per Month=%{y}<extra></extra>",
         "legendgroup": "New Orleans, LA",
         "line": {
          "color": "lightgray",
          "dash": "solid"
         },
         "marker": {
          "symbol": "circle"
         },
         "mode": "lines",
         "name": "New Orleans, LA",
         "orientation": "v",
         "showlegend": true,
         "type": "scatter",
         "x": [
          "2018-01-01",
          "2018-02-01",
          "2018-03-01",
          "2018-04-01",
          "2018-05-01",
          "2018-06-01",
          "2018-07-01",
          "2018-08-01",
          "2018-09-01",
          "2018-10-01",
          "2018-11-01",
          "2018-12-01",
          "2019-01-01",
          "2019-02-01",
          "2019-03-01",
          "2019-04-01",
          "2019-05-01",
          "2019-06-01",
          "2019-07-01",
          "2019-08-01",
          "2019-09-01",
          "2019-10-01",
          "2019-11-01",
          "2019-12-01",
          "2020-01-01",
          "2020-02-01",
          "2020-03-01",
          "2020-04-01",
          "2020-05-01",
          "2020-06-01",
          "2020-07-01",
          "2020-08-01",
          "2020-09-01",
          "2020-10-01",
          "2020-11-01",
          "2020-12-01",
          "2021-01-01",
          "2021-02-01",
          "2021-03-01",
          "2021-04-01",
          "2021-05-01",
          "2021-06-01",
          "2021-07-01",
          "2021-08-01",
          "2021-09-01",
          "2021-10-01",
          "2021-11-01",
          "2021-12-01",
          "2022-01-01",
          "2022-02-01",
          "2022-03-01",
          "2022-04-01",
          "2022-05-01",
          "2022-06-01",
          "2022-07-01",
          "2022-08-01",
          "2022-09-01",
          "2022-10-01",
          "2022-11-01",
          "2022-12-01",
          "2023-01-01",
          "2023-02-01",
          "2023-03-01",
          "2023-04-01",
          "2023-05-01",
          "2023-06-01",
          "2023-07-01",
          "2023-08-01",
          "2023-09-01",
          "2023-10-01",
          "2023-11-01",
          "2023-12-01",
          "2024-01-01",
          "2024-02-01",
          "2024-03-01",
          "2024-04-01",
          "2024-05-01",
          "2024-06-01",
          "2024-07-01",
          "2024-08-01",
          "2024-09-01",
          "2024-10-01",
          "2024-11-01",
          "2024-12-01"
         ],
         "xaxis": "x",
         "y": [
          null,
          null,
          null,
          null,
          null,
          null,
          null,
          null,
          null,
          null,
          null,
          null,
          null,
          null,
          null,
          null,
          null,
          null,
          null,
          null,
          null,
          null,
          null,
          null,
          null,
          null,
          null,
          null,
          null,
          null,
          null,
          null,
          null,
          null,
          null,
          null,
          null,
          null,
          null,
          null,
          null,
          null,
          null,
          null,
          null,
          null,
          null,
          null,
          null,
          null,
          null,
          null,
          null,
          null,
          null,
          null,
          null,
          null,
          null,
          null,
          null,
          null,
          null,
          null,
          null,
          null,
          null,
          null,
          null,
          null,
          null,
          null,
          null,
          null,
          null,
          null,
          null,
          null,
          null,
          null,
          null,
          null,
          null,
          null
         ],
         "yaxis": "y"
        },
        {
         "hovertemplate": "Port=Houston Port Authority, TX<br>=%{x}<br>Visits per Month=%{y}<extra></extra>",
         "legendgroup": "Houston Port Authority, TX",
         "line": {
          "color": "lightgray",
          "dash": "solid"
         },
         "marker": {
          "symbol": "circle"
         },
         "mode": "lines",
         "name": "Houston Port Authority, TX",
         "orientation": "v",
         "showlegend": true,
         "type": "scatter",
         "x": [
          "2018-01-01",
          "2018-02-01",
          "2018-03-01",
          "2018-04-01",
          "2018-05-01",
          "2018-06-01",
          "2018-07-01",
          "2018-08-01",
          "2018-09-01",
          "2018-10-01",
          "2018-11-01",
          "2018-12-01",
          "2019-01-01",
          "2019-02-01",
          "2019-03-01",
          "2019-04-01",
          "2019-05-01",
          "2019-06-01",
          "2019-07-01",
          "2019-08-01",
          "2019-09-01",
          "2019-10-01",
          "2019-11-01",
          "2019-12-01",
          "2020-01-01",
          "2020-02-01",
          "2020-03-01",
          "2020-04-01",
          "2020-05-01",
          "2020-06-01",
          "2020-07-01",
          "2020-08-01",
          "2020-09-01",
          "2020-10-01",
          "2020-11-01",
          "2020-12-01",
          "2021-01-01",
          "2021-02-01",
          "2021-03-01",
          "2021-04-01",
          "2021-05-01",
          "2021-06-01",
          "2021-07-01",
          "2021-08-01",
          "2021-09-01",
          "2021-10-01",
          "2021-11-01",
          "2021-12-01",
          "2022-01-01",
          "2022-02-01",
          "2022-03-01",
          "2022-04-01",
          "2022-05-01",
          "2022-06-01",
          "2022-07-01",
          "2022-08-01",
          "2022-09-01",
          "2022-10-01",
          "2022-11-01",
          "2022-12-01",
          "2023-01-01",
          "2023-02-01",
          "2023-03-01",
          "2023-04-01",
          "2023-05-01",
          "2023-06-01",
          "2023-07-01",
          "2023-08-01",
          "2023-09-01",
          "2023-10-01",
          "2023-11-01",
          "2023-12-01",
          "2024-01-01",
          "2024-02-01",
          "2024-03-01",
          "2024-04-01",
          "2024-05-01",
          "2024-06-01",
          "2024-07-01",
          "2024-08-01",
          "2024-09-01",
          "2024-10-01",
          "2024-11-01",
          "2024-12-01"
         ],
         "xaxis": "x",
         "y": [
          null,
          null,
          null,
          null,
          null,
          null,
          null,
          null,
          null,
          null,
          null,
          null,
          null,
          null,
          null,
          null,
          null,
          null,
          null,
          null,
          null,
          null,
          null,
          null,
          null,
          null,
          null,
          null,
          null,
          null,
          null,
          null,
          null,
          null,
          null,
          null,
          null,
          null,
          null,
          null,
          null,
          null,
          null,
          null,
          null,
          null,
          null,
          null,
          null,
          null,
          null,
          null,
          null,
          null,
          null,
          null,
          null,
          null,
          null,
          null,
          null,
          null,
          null,
          null,
          null,
          null,
          null,
          null,
          null,
          null,
          null,
          null,
          null,
          null,
          null,
          null,
          null,
          null,
          null,
          null,
          null,
          null,
          null,
          null
         ],
         "yaxis": "y"
        },
        {
         "hovertemplate": "Port=Port of Long Beach, CA<br>=%{x}<br>Visits per Month=%{y}<extra></extra>",
         "legendgroup": "Port of Long Beach, CA",
         "line": {
          "color": "lightgray",
          "dash": "solid"
         },
         "marker": {
          "symbol": "circle"
         },
         "mode": "lines",
         "name": "Port of Long Beach, CA",
         "orientation": "v",
         "showlegend": true,
         "type": "scatter",
         "x": [
          "2018-01-01",
          "2018-02-01",
          "2018-03-01",
          "2018-04-01",
          "2018-05-01",
          "2018-06-01",
          "2018-07-01",
          "2018-08-01",
          "2018-09-01",
          "2018-10-01",
          "2018-11-01",
          "2018-12-01",
          "2019-01-01",
          "2019-02-01",
          "2019-03-01",
          "2019-04-01",
          "2019-05-01",
          "2019-06-01",
          "2019-07-01",
          "2019-08-01",
          "2019-09-01",
          "2019-10-01",
          "2019-11-01",
          "2019-12-01",
          "2020-01-01",
          "2020-02-01",
          "2020-03-01",
          "2020-04-01",
          "2020-05-01",
          "2020-06-01",
          "2020-07-01",
          "2020-08-01",
          "2020-09-01",
          "2020-10-01",
          "2020-11-01",
          "2020-12-01",
          "2021-01-01",
          "2021-02-01",
          "2021-03-01",
          "2021-04-01",
          "2021-05-01",
          "2021-06-01",
          "2021-07-01",
          "2021-08-01",
          "2021-09-01",
          "2021-10-01",
          "2021-11-01",
          "2021-12-01",
          "2022-01-01",
          "2022-02-01",
          "2022-03-01",
          "2022-04-01",
          "2022-05-01",
          "2022-06-01",
          "2022-07-01",
          "2022-08-01",
          "2022-09-01",
          "2022-10-01",
          "2022-11-01",
          "2022-12-01",
          "2023-01-01",
          "2023-02-01",
          "2023-03-01",
          "2023-04-01",
          "2023-05-01",
          "2023-06-01",
          "2023-07-01",
          "2023-08-01",
          "2023-09-01",
          "2023-10-01",
          "2023-11-01",
          "2023-12-01",
          "2024-01-01",
          "2024-02-01",
          "2024-03-01",
          "2024-04-01",
          "2024-05-01",
          "2024-06-01",
          "2024-07-01",
          "2024-08-01",
          "2024-09-01",
          "2024-10-01",
          "2024-11-01",
          "2024-12-01"
         ],
         "xaxis": "x",
         "y": [
          null,
          null,
          null,
          null,
          null,
          null,
          null,
          null,
          null,
          null,
          null,
          null,
          null,
          null,
          null,
          null,
          null,
          null,
          null,
          null,
          null,
          null,
          null,
          null,
          null,
          null,
          null,
          null,
          null,
          null,
          null,
          null,
          null,
          null,
          null,
          null,
          null,
          null,
          null,
          null,
          null,
          null,
          null,
          null,
          null,
          null,
          null,
          null,
          null,
          null,
          null,
          null,
          null,
          null,
          null,
          null,
          null,
          null,
          null,
          null,
          null,
          null,
          null,
          null,
          null,
          null,
          null,
          null,
          null,
          null,
          null,
          null,
          null,
          null,
          null,
          null,
          null,
          null,
          null,
          null,
          null,
          null,
          null,
          null
         ],
         "yaxis": "y"
        },
        {
         "hovertemplate": "Port=Port Arthur, TX<br>=%{x}<br>Visits per Month=%{y}<extra></extra>",
         "legendgroup": "Port Arthur, TX",
         "line": {
          "color": "lightgray",
          "dash": "solid"
         },
         "marker": {
          "symbol": "circle"
         },
         "mode": "lines",
         "name": "Port Arthur, TX",
         "orientation": "v",
         "showlegend": true,
         "type": "scatter",
         "x": [
          "2018-01-01",
          "2018-02-01",
          "2018-03-01",
          "2018-04-01",
          "2018-05-01",
          "2018-06-01",
          "2018-07-01",
          "2018-08-01",
          "2018-09-01",
          "2018-10-01",
          "2018-11-01",
          "2018-12-01",
          "2019-01-01",
          "2019-02-01",
          "2019-03-01",
          "2019-04-01",
          "2019-05-01",
          "2019-06-01",
          "2019-07-01",
          "2019-08-01",
          "2019-09-01",
          "2019-10-01",
          "2019-11-01",
          "2019-12-01",
          "2020-01-01",
          "2020-02-01",
          "2020-03-01",
          "2020-04-01",
          "2020-05-01",
          "2020-06-01",
          "2020-07-01",
          "2020-08-01",
          "2020-09-01",
          "2020-10-01",
          "2020-11-01",
          "2020-12-01",
          "2021-01-01",
          "2021-02-01",
          "2021-03-01",
          "2021-04-01",
          "2021-05-01",
          "2021-06-01",
          "2021-07-01",
          "2021-08-01",
          "2021-09-01",
          "2021-10-01",
          "2021-11-01",
          "2021-12-01",
          "2022-01-01",
          "2022-02-01",
          "2022-03-01",
          "2022-04-01",
          "2022-05-01",
          "2022-06-01",
          "2022-07-01",
          "2022-08-01",
          "2022-09-01",
          "2022-10-01",
          "2022-11-01",
          "2022-12-01",
          "2023-01-01",
          "2023-02-01",
          "2023-03-01",
          "2023-04-01",
          "2023-05-01",
          "2023-06-01",
          "2023-07-01",
          "2023-08-01",
          "2023-09-01",
          "2023-10-01",
          "2023-11-01",
          "2023-12-01",
          "2024-01-01",
          "2024-02-01",
          "2024-03-01",
          "2024-04-01",
          "2024-05-01",
          "2024-06-01",
          "2024-07-01",
          "2024-08-01",
          "2024-09-01",
          "2024-10-01",
          "2024-11-01",
          "2024-12-01"
         ],
         "xaxis": "x",
         "y": [
          null,
          null,
          null,
          null,
          null,
          null,
          null,
          null,
          null,
          null,
          null,
          null,
          null,
          null,
          null,
          null,
          null,
          null,
          null,
          null,
          null,
          null,
          null,
          null,
          null,
          null,
          null,
          null,
          null,
          null,
          null,
          null,
          null,
          null,
          null,
          null,
          null,
          null,
          null,
          null,
          null,
          null,
          null,
          null,
          null,
          null,
          null,
          null,
          null,
          null,
          null,
          null,
          null,
          null,
          null,
          null,
          null,
          null,
          null,
          null,
          null,
          null,
          null,
          null,
          null,
          null,
          null,
          null,
          null,
          null,
          null,
          null,
          null,
          null,
          null,
          null,
          null,
          null,
          null,
          null,
          null,
          null,
          null,
          null
         ],
         "yaxis": "y"
        },
        {
         "hovertemplate": "Port=Texas City, TX<br>=%{x}<br>Visits per Month=%{y}<extra></extra>",
         "legendgroup": "Texas City, TX",
         "line": {
          "color": "lightgray",
          "dash": "solid"
         },
         "marker": {
          "symbol": "circle"
         },
         "mode": "lines",
         "name": "Texas City, TX",
         "orientation": "v",
         "showlegend": true,
         "type": "scatter",
         "x": [
          "2018-01-01",
          "2018-02-01",
          "2018-03-01",
          "2018-04-01",
          "2018-05-01",
          "2018-06-01",
          "2018-07-01",
          "2018-08-01",
          "2018-09-01",
          "2018-10-01",
          "2018-11-01",
          "2018-12-01",
          "2019-01-01",
          "2019-02-01",
          "2019-03-01",
          "2019-04-01",
          "2019-05-01",
          "2019-06-01",
          "2019-07-01",
          "2019-08-01",
          "2019-09-01",
          "2019-10-01",
          "2019-11-01",
          "2019-12-01",
          "2020-01-01",
          "2020-02-01",
          "2020-03-01",
          "2020-04-01",
          "2020-05-01",
          "2020-06-01",
          "2020-07-01",
          "2020-08-01",
          "2020-09-01",
          "2020-10-01",
          "2020-11-01",
          "2020-12-01",
          "2021-01-01",
          "2021-02-01",
          "2021-03-01",
          "2021-04-01",
          "2021-05-01",
          "2021-06-01",
          "2021-07-01",
          "2021-08-01",
          "2021-09-01",
          "2021-10-01",
          "2021-11-01",
          "2021-12-01",
          "2022-01-01",
          "2022-02-01",
          "2022-03-01",
          "2022-04-01",
          "2022-05-01",
          "2022-06-01",
          "2022-07-01",
          "2022-08-01",
          "2022-09-01",
          "2022-10-01",
          "2022-11-01",
          "2022-12-01",
          "2023-01-01",
          "2023-02-01",
          "2023-03-01",
          "2023-04-01",
          "2023-05-01",
          "2023-06-01",
          "2023-07-01",
          "2023-08-01",
          "2023-09-01",
          "2023-10-01",
          "2023-11-01",
          "2023-12-01",
          "2024-01-01",
          "2024-02-01",
          "2024-03-01",
          "2024-04-01",
          "2024-05-01",
          "2024-06-01",
          "2024-07-01",
          "2024-08-01",
          "2024-09-01",
          "2024-10-01",
          "2024-11-01",
          "2024-12-01"
         ],
         "xaxis": "x",
         "y": [
          null,
          null,
          null,
          null,
          null,
          null,
          null,
          null,
          null,
          null,
          null,
          null,
          null,
          null,
          null,
          null,
          null,
          null,
          null,
          null,
          null,
          null,
          null,
          null,
          null,
          null,
          null,
          null,
          null,
          null,
          null,
          null,
          null,
          null,
          null,
          null,
          null,
          null,
          null,
          null,
          null,
          null,
          null,
          null,
          null,
          null,
          null,
          null,
          null,
          null,
          null,
          null,
          null,
          null,
          null,
          null,
          null,
          null,
          null,
          null,
          null,
          null,
          null,
          null,
          null,
          null,
          null,
          null,
          null,
          null,
          null,
          null,
          null,
          null,
          null,
          null,
          null,
          null,
          null,
          null,
          null,
          null,
          null,
          null
         ],
         "yaxis": "y"
        },
        {
         "hovertemplate": "Port=Mobile, AL<br>=%{x}<br>Visits per Month=%{y}<extra></extra>",
         "legendgroup": "Mobile, AL",
         "line": {
          "color": "lightgray",
          "dash": "solid"
         },
         "marker": {
          "symbol": "circle"
         },
         "mode": "lines",
         "name": "Mobile, AL",
         "orientation": "v",
         "showlegend": true,
         "type": "scatter",
         "x": [
          "2018-01-01",
          "2018-02-01",
          "2018-03-01",
          "2018-04-01",
          "2018-05-01",
          "2018-06-01",
          "2018-07-01",
          "2018-08-01",
          "2018-09-01",
          "2018-10-01",
          "2018-11-01",
          "2018-12-01",
          "2019-01-01",
          "2019-02-01",
          "2019-03-01",
          "2019-04-01",
          "2019-05-01",
          "2019-06-01",
          "2019-07-01",
          "2019-08-01",
          "2019-09-01",
          "2019-10-01",
          "2019-11-01",
          "2019-12-01",
          "2020-01-01",
          "2020-02-01",
          "2020-03-01",
          "2020-04-01",
          "2020-05-01",
          "2020-06-01",
          "2020-07-01",
          "2020-08-01",
          "2020-09-01",
          "2020-10-01",
          "2020-11-01",
          "2020-12-01",
          "2021-01-01",
          "2021-02-01",
          "2021-03-01",
          "2021-04-01",
          "2021-05-01",
          "2021-06-01",
          "2021-07-01",
          "2021-08-01",
          "2021-09-01",
          "2021-10-01",
          "2021-11-01",
          "2021-12-01",
          "2022-01-01",
          "2022-02-01",
          "2022-03-01",
          "2022-04-01",
          "2022-05-01",
          "2022-06-01",
          "2022-07-01",
          "2022-08-01",
          "2022-09-01",
          "2022-10-01",
          "2022-11-01",
          "2022-12-01",
          "2023-01-01",
          "2023-02-01",
          "2023-03-01",
          "2023-04-01",
          "2023-05-01",
          "2023-06-01",
          "2023-07-01",
          "2023-08-01",
          "2023-09-01",
          "2023-10-01",
          "2023-11-01",
          "2023-12-01",
          "2024-01-01",
          "2024-02-01",
          "2024-03-01",
          "2024-04-01",
          "2024-05-01",
          "2024-06-01",
          "2024-07-01",
          "2024-08-01",
          "2024-09-01",
          "2024-10-01",
          "2024-11-01",
          "2024-12-01"
         ],
         "xaxis": "x",
         "y": [
          null,
          null,
          null,
          null,
          null,
          null,
          null,
          null,
          null,
          null,
          null,
          null,
          null,
          null,
          null,
          null,
          null,
          null,
          null,
          null,
          null,
          null,
          null,
          null,
          null,
          null,
          null,
          null,
          null,
          null,
          null,
          null,
          null,
          null,
          null,
          null,
          null,
          null,
          null,
          null,
          null,
          null,
          null,
          null,
          null,
          null,
          null,
          null,
          null,
          null,
          null,
          null,
          null,
          null,
          null,
          null,
          null,
          null,
          null,
          null,
          null,
          null,
          null,
          null,
          null,
          null,
          null,
          null,
          null,
          null,
          null,
          null,
          null,
          null,
          null,
          null,
          null,
          null,
          null,
          null,
          null,
          null,
          null,
          null
         ],
         "yaxis": "y"
        }
       ],
       "layout": {
        "height": 600,
        "legend": {
         "title": {
          "text": "Port"
         },
         "tracegroupgap": 0
        },
        "template": {
         "data": {
          "bar": [
           {
            "error_x": {
             "color": "#2a3f5f"
            },
            "error_y": {
             "color": "#2a3f5f"
            },
            "marker": {
             "line": {
              "color": "#E5ECF6",
              "width": 0.5
             },
             "pattern": {
              "fillmode": "overlay",
              "size": 10,
              "solidity": 0.2
             }
            },
            "type": "bar"
           }
          ],
          "barpolar": [
           {
            "marker": {
             "line": {
              "color": "#E5ECF6",
              "width": 0.5
             },
             "pattern": {
              "fillmode": "overlay",
              "size": 10,
              "solidity": 0.2
             }
            },
            "type": "barpolar"
           }
          ],
          "carpet": [
           {
            "aaxis": {
             "endlinecolor": "#2a3f5f",
             "gridcolor": "white",
             "linecolor": "white",
             "minorgridcolor": "white",
             "startlinecolor": "#2a3f5f"
            },
            "baxis": {
             "endlinecolor": "#2a3f5f",
             "gridcolor": "white",
             "linecolor": "white",
             "minorgridcolor": "white",
             "startlinecolor": "#2a3f5f"
            },
            "type": "carpet"
           }
          ],
          "choropleth": [
           {
            "colorbar": {
             "outlinewidth": 0,
             "ticks": ""
            },
            "type": "choropleth"
           }
          ],
          "contour": [
           {
            "colorbar": {
             "outlinewidth": 0,
             "ticks": ""
            },
            "colorscale": [
             [
              0,
              "#0d0887"
             ],
             [
              0.1111111111111111,
              "#46039f"
             ],
             [
              0.2222222222222222,
              "#7201a8"
             ],
             [
              0.3333333333333333,
              "#9c179e"
             ],
             [
              0.4444444444444444,
              "#bd3786"
             ],
             [
              0.5555555555555556,
              "#d8576b"
             ],
             [
              0.6666666666666666,
              "#ed7953"
             ],
             [
              0.7777777777777778,
              "#fb9f3a"
             ],
             [
              0.8888888888888888,
              "#fdca26"
             ],
             [
              1,
              "#f0f921"
             ]
            ],
            "type": "contour"
           }
          ],
          "contourcarpet": [
           {
            "colorbar": {
             "outlinewidth": 0,
             "ticks": ""
            },
            "type": "contourcarpet"
           }
          ],
          "heatmap": [
           {
            "colorbar": {
             "outlinewidth": 0,
             "ticks": ""
            },
            "colorscale": [
             [
              0,
              "#0d0887"
             ],
             [
              0.1111111111111111,
              "#46039f"
             ],
             [
              0.2222222222222222,
              "#7201a8"
             ],
             [
              0.3333333333333333,
              "#9c179e"
             ],
             [
              0.4444444444444444,
              "#bd3786"
             ],
             [
              0.5555555555555556,
              "#d8576b"
             ],
             [
              0.6666666666666666,
              "#ed7953"
             ],
             [
              0.7777777777777778,
              "#fb9f3a"
             ],
             [
              0.8888888888888888,
              "#fdca26"
             ],
             [
              1,
              "#f0f921"
             ]
            ],
            "type": "heatmap"
           }
          ],
          "histogram": [
           {
            "marker": {
             "pattern": {
              "fillmode": "overlay",
              "size": 10,
              "solidity": 0.2
             }
            },
            "type": "histogram"
           }
          ],
          "histogram2d": [
           {
            "colorbar": {
             "outlinewidth": 0,
             "ticks": ""
            },
            "colorscale": [
             [
              0,
              "#0d0887"
             ],
             [
              0.1111111111111111,
              "#46039f"
             ],
             [
              0.2222222222222222,
              "#7201a8"
             ],
             [
              0.3333333333333333,
              "#9c179e"
             ],
             [
              0.4444444444444444,
              "#bd3786"
             ],
             [
              0.5555555555555556,
              "#d8576b"
             ],
             [
              0.6666666666666666,
              "#ed7953"
             ],
             [
              0.7777777777777778,
              "#fb9f3a"
             ],
             [
              0.8888888888888888,
              "#fdca26"
             ],
             [
              1,
              "#f0f921"
             ]
            ],
            "type": "histogram2d"
           }
          ],
          "histogram2dcontour": [
           {
            "colorbar": {
             "outlinewidth": 0,
             "ticks": ""
            },
            "colorscale": [
             [
              0,
              "#0d0887"
             ],
             [
              0.1111111111111111,
              "#46039f"
             ],
             [
              0.2222222222222222,
              "#7201a8"
             ],
             [
              0.3333333333333333,
              "#9c179e"
             ],
             [
              0.4444444444444444,
              "#bd3786"
             ],
             [
              0.5555555555555556,
              "#d8576b"
             ],
             [
              0.6666666666666666,
              "#ed7953"
             ],
             [
              0.7777777777777778,
              "#fb9f3a"
             ],
             [
              0.8888888888888888,
              "#fdca26"
             ],
             [
              1,
              "#f0f921"
             ]
            ],
            "type": "histogram2dcontour"
           }
          ],
          "mesh3d": [
           {
            "colorbar": {
             "outlinewidth": 0,
             "ticks": ""
            },
            "type": "mesh3d"
           }
          ],
          "parcoords": [
           {
            "line": {
             "colorbar": {
              "outlinewidth": 0,
              "ticks": ""
             }
            },
            "type": "parcoords"
           }
          ],
          "pie": [
           {
            "automargin": true,
            "type": "pie"
           }
          ],
          "scatter": [
           {
            "fillpattern": {
             "fillmode": "overlay",
             "size": 10,
             "solidity": 0.2
            },
            "type": "scatter"
           }
          ],
          "scatter3d": [
           {
            "line": {
             "colorbar": {
              "outlinewidth": 0,
              "ticks": ""
             }
            },
            "marker": {
             "colorbar": {
              "outlinewidth": 0,
              "ticks": ""
             }
            },
            "type": "scatter3d"
           }
          ],
          "scattercarpet": [
           {
            "marker": {
             "colorbar": {
              "outlinewidth": 0,
              "ticks": ""
             }
            },
            "type": "scattercarpet"
           }
          ],
          "scattergeo": [
           {
            "marker": {
             "colorbar": {
              "outlinewidth": 0,
              "ticks": ""
             }
            },
            "type": "scattergeo"
           }
          ],
          "scattergl": [
           {
            "marker": {
             "colorbar": {
              "outlinewidth": 0,
              "ticks": ""
             }
            },
            "type": "scattergl"
           }
          ],
          "scattermap": [
           {
            "marker": {
             "colorbar": {
              "outlinewidth": 0,
              "ticks": ""
             }
            },
            "type": "scattermap"
           }
          ],
          "scattermapbox": [
           {
            "marker": {
             "colorbar": {
              "outlinewidth": 0,
              "ticks": ""
             }
            },
            "type": "scattermapbox"
           }
          ],
          "scatterpolar": [
           {
            "marker": {
             "colorbar": {
              "outlinewidth": 0,
              "ticks": ""
             }
            },
            "type": "scatterpolar"
           }
          ],
          "scatterpolargl": [
           {
            "marker": {
             "colorbar": {
              "outlinewidth": 0,
              "ticks": ""
             }
            },
            "type": "scatterpolargl"
           }
          ],
          "scatterternary": [
           {
            "marker": {
             "colorbar": {
              "outlinewidth": 0,
              "ticks": ""
             }
            },
            "type": "scatterternary"
           }
          ],
          "surface": [
           {
            "colorbar": {
             "outlinewidth": 0,
             "ticks": ""
            },
            "colorscale": [
             [
              0,
              "#0d0887"
             ],
             [
              0.1111111111111111,
              "#46039f"
             ],
             [
              0.2222222222222222,
              "#7201a8"
             ],
             [
              0.3333333333333333,
              "#9c179e"
             ],
             [
              0.4444444444444444,
              "#bd3786"
             ],
             [
              0.5555555555555556,
              "#d8576b"
             ],
             [
              0.6666666666666666,
              "#ed7953"
             ],
             [
              0.7777777777777778,
              "#fb9f3a"
             ],
             [
              0.8888888888888888,
              "#fdca26"
             ],
             [
              1,
              "#f0f921"
             ]
            ],
            "type": "surface"
           }
          ],
          "table": [
           {
            "cells": {
             "fill": {
              "color": "#EBF0F8"
             },
             "line": {
              "color": "white"
             }
            },
            "header": {
             "fill": {
              "color": "#C8D4E3"
             },
             "line": {
              "color": "white"
             }
            },
            "type": "table"
           }
          ]
         },
         "layout": {
          "annotationdefaults": {
           "arrowcolor": "#2a3f5f",
           "arrowhead": 0,
           "arrowwidth": 1
          },
          "autotypenumbers": "strict",
          "coloraxis": {
           "colorbar": {
            "outlinewidth": 0,
            "ticks": ""
           }
          },
          "colorscale": {
           "diverging": [
            [
             0,
             "#8e0152"
            ],
            [
             0.1,
             "#c51b7d"
            ],
            [
             0.2,
             "#de77ae"
            ],
            [
             0.3,
             "#f1b6da"
            ],
            [
             0.4,
             "#fde0ef"
            ],
            [
             0.5,
             "#f7f7f7"
            ],
            [
             0.6,
             "#e6f5d0"
            ],
            [
             0.7,
             "#b8e186"
            ],
            [
             0.8,
             "#7fbc41"
            ],
            [
             0.9,
             "#4d9221"
            ],
            [
             1,
             "#276419"
            ]
           ],
           "sequential": [
            [
             0,
             "#0d0887"
            ],
            [
             0.1111111111111111,
             "#46039f"
            ],
            [
             0.2222222222222222,
             "#7201a8"
            ],
            [
             0.3333333333333333,
             "#9c179e"
            ],
            [
             0.4444444444444444,
             "#bd3786"
            ],
            [
             0.5555555555555556,
             "#d8576b"
            ],
            [
             0.6666666666666666,
             "#ed7953"
            ],
            [
             0.7777777777777778,
             "#fb9f3a"
            ],
            [
             0.8888888888888888,
             "#fdca26"
            ],
            [
             1,
             "#f0f921"
            ]
           ],
           "sequentialminus": [
            [
             0,
             "#0d0887"
            ],
            [
             0.1111111111111111,
             "#46039f"
            ],
            [
             0.2222222222222222,
             "#7201a8"
            ],
            [
             0.3333333333333333,
             "#9c179e"
            ],
            [
             0.4444444444444444,
             "#bd3786"
            ],
            [
             0.5555555555555556,
             "#d8576b"
            ],
            [
             0.6666666666666666,
             "#ed7953"
            ],
            [
             0.7777777777777778,
             "#fb9f3a"
            ],
            [
             0.8888888888888888,
             "#fdca26"
            ],
            [
             1,
             "#f0f921"
            ]
           ]
          },
          "colorway": [
           "#636efa",
           "#EF553B",
           "#00cc96",
           "#ab63fa",
           "#FFA15A",
           "#19d3f3",
           "#FF6692",
           "#B6E880",
           "#FF97FF",
           "#FECB52"
          ],
          "font": {
           "color": "#2a3f5f"
          },
          "geo": {
           "bgcolor": "white",
           "lakecolor": "white",
           "landcolor": "#E5ECF6",
           "showlakes": true,
           "showland": true,
           "subunitcolor": "white"
          },
          "hoverlabel": {
           "align": "left"
          },
          "hovermode": "closest",
          "mapbox": {
           "style": "light"
          },
          "paper_bgcolor": "white",
          "plot_bgcolor": "#E5ECF6",
          "polar": {
           "angularaxis": {
            "gridcolor": "white",
            "linecolor": "white",
            "ticks": ""
           },
           "bgcolor": "#E5ECF6",
           "radialaxis": {
            "gridcolor": "white",
            "linecolor": "white",
            "ticks": ""
           }
          },
          "scene": {
           "xaxis": {
            "backgroundcolor": "#E5ECF6",
            "gridcolor": "white",
            "gridwidth": 2,
            "linecolor": "white",
            "showbackground": true,
            "ticks": "",
            "zerolinecolor": "white"
           },
           "yaxis": {
            "backgroundcolor": "#E5ECF6",
            "gridcolor": "white",
            "gridwidth": 2,
            "linecolor": "white",
            "showbackground": true,
            "ticks": "",
            "zerolinecolor": "white"
           },
           "zaxis": {
            "backgroundcolor": "#E5ECF6",
            "gridcolor": "white",
            "gridwidth": 2,
            "linecolor": "white",
            "showbackground": true,
            "ticks": "",
            "zerolinecolor": "white"
           }
          },
          "shapedefaults": {
           "line": {
            "color": "#2a3f5f"
           }
          },
          "ternary": {
           "aaxis": {
            "gridcolor": "white",
            "linecolor": "white",
            "ticks": ""
           },
           "baxis": {
            "gridcolor": "white",
            "linecolor": "white",
            "ticks": ""
           },
           "bgcolor": "#E5ECF6",
           "caxis": {
            "gridcolor": "white",
            "linecolor": "white",
            "ticks": ""
           }
          },
          "title": {
           "x": 0.05
          },
          "xaxis": {
           "automargin": true,
           "gridcolor": "white",
           "linecolor": "white",
           "ticks": "",
           "title": {
            "standoff": 15
           },
           "zerolinecolor": "white",
           "zerolinewidth": 2
          },
          "yaxis": {
           "automargin": true,
           "gridcolor": "white",
           "linecolor": "white",
           "ticks": "",
           "title": {
            "standoff": 15
           },
           "zerolinecolor": "white",
           "zerolinewidth": 2
          }
         }
        },
        "title": {
         "text": "Call volume at Principal Ports"
        },
        "width": 1200,
        "xaxis": {
         "anchor": "y",
         "domain": [
          0,
          1
         ],
         "title": {
          "text": ""
         }
        },
        "yaxis": {
         "anchor": "x",
         "domain": [
          0,
          1
         ],
         "title": {
          "text": "Visits per Month"
         }
        }
       }
      }
     },
     "metadata": {},
     "output_type": "display_data"
    }
   ],
   "source": [
    "plot_line(df=calls_df, cat_group='port_name', time_col='month',\n",
    "          y_col='call_id', y_col_alias='Visits per Month',\n",
    "          title='Call volume at Principal Ports', width=1200, height=600,\n",
    "          labels={'port_name':'Port', 'month':''},\n",
    "          cat_limit=10, cat_limit_col='hrs_at_berth', \n",
    "          highlight='Seattle, WA', highlight_color='blue')"
   ]
  },
  {
   "cell_type": "code",
   "execution_count": 12,
   "metadata": {},
   "outputs": [
    {
     "data": {
      "application/vnd.plotly.v1+json": {
       "config": {
        "plotlyServerURL": "https://plot.ly"
       },
       "data": [
        {
         "hovertemplate": "Dock=EXXON MOBIL CORP., BERTHS 238, 239, 240A, 240B, & 240C<br>=%{x}<br>Mean Vessel Length (m)=%{y}<extra></extra>",
         "legendgroup": "EXXON MOBIL CORP., BERTHS 238, 239, 240A, 240B, & 240C",
         "line": {
          "color": "#636efa",
          "dash": "solid"
         },
         "marker": {
          "symbol": "circle"
         },
         "mode": "lines",
         "name": "EXXON MOBIL CORP., BERTHS 238, 239, 240A, 240B, & 240C",
         "showlegend": true,
         "type": "scattergl",
         "x": [
          "2018-01-01",
          "2018-02-01",
          "2018-03-01",
          "2018-04-01",
          "2018-05-01",
          "2018-06-01",
          "2018-07-01",
          "2018-09-01",
          "2018-10-01",
          "2018-11-01",
          "2018-12-01",
          "2019-06-01",
          "2019-07-01",
          "2019-09-01",
          "2019-10-01",
          "2019-11-01",
          "2020-01-01",
          "2020-02-01",
          "2020-04-01",
          "2021-02-01",
          "2021-04-01",
          "2021-05-01",
          "2021-06-01",
          "2021-08-01",
          "2021-09-01",
          "2021-10-01",
          "2021-11-01",
          "2022-02-01",
          "2022-03-01",
          "2022-04-01",
          "2022-05-01",
          "2022-06-01",
          "2022-08-01",
          "2022-09-01",
          "2022-10-01",
          "2022-11-01",
          "2023-02-01",
          "2023-03-01",
          "2023-04-01",
          "2023-06-01",
          "2023-07-01",
          "2023-09-01",
          "2023-10-01",
          "2024-01-01",
          "2024-02-01",
          "2024-04-01",
          "2024-06-01",
          "2024-10-01"
         ],
         "xaxis": "x",
         "y": {
          "bdata": "VVVVVVV1bEAAAAAAAIBsQAAAAAAAgGxAAAAAAACAbEAAAAAAAHBpQAAAAAAA4GtAAAAAAACAbEAAAAAAAIBsQAAAAAAAcGxAAAAAAADgZkAAAAAAAOBmQAAAAAAAoGxAAAAAAACAbEAAAAAAAIBsQAAAAAAAgGxAAAAAAAAgZ0CrqqqqqspqQAAAAAAAgGxAAAAAAABwZkAAAAAAALBpQAAAAAAAYGxAq6qqqqqKbEAAAAAAAGBsQAAAAAAAgGxAAAAAAABgbEAAAAAAAIBsQAAAAAAA4GtAAAAAAACAbEAAAAAAAIBsQAAAAAAAYGxAq6qqqqrKaEAAAAAAAIBsQAAAAAAAgGxAAAAAAABgbEAAAAAAAIBsQAAAAAAAYGJAAAAAAABwbEBVVVVVVfVmQAAAAAAAgGxAAAAAAADAaUAAAAAAAKBqQAAAAAAA4GZAAAAAAADgZkAAAAAAAABnQAAAAAAAgGxAAAAAAADwZkAAAAAAAKBqQAAAAAAAAGdA",
          "dtype": "f8"
         },
         "yaxis": "y"
        },
        {
         "hovertemplate": "Dock=RIO DOCE PASHA TERM BERTHS 142 & 143<br>=%{x}<br>Mean Vessel Length (m)=%{y}<extra></extra>",
         "legendgroup": "RIO DOCE PASHA TERM BERTHS 142 & 143",
         "line": {
          "color": "#EF553B",
          "dash": "solid"
         },
         "marker": {
          "symbol": "circle"
         },
         "mode": "lines",
         "name": "RIO DOCE PASHA TERM BERTHS 142 & 143",
         "showlegend": true,
         "type": "scattergl",
         "x": [
          "2018-01-01",
          "2018-02-01",
          "2018-03-01",
          "2018-04-01",
          "2018-05-01",
          "2018-06-01",
          "2018-07-01",
          "2018-08-01",
          "2018-09-01",
          "2018-10-01",
          "2018-11-01",
          "2018-12-01",
          "2019-01-01",
          "2019-02-01",
          "2019-03-01",
          "2019-04-01",
          "2019-05-01",
          "2019-06-01",
          "2019-07-01",
          "2019-08-01",
          "2019-09-01",
          "2019-10-01",
          "2019-11-01",
          "2019-12-01",
          "2020-01-01",
          "2020-02-01",
          "2020-03-01",
          "2020-04-01",
          "2020-05-01",
          "2020-06-01",
          "2020-07-01",
          "2020-08-01",
          "2020-09-01",
          "2020-10-01",
          "2020-11-01",
          "2020-12-01",
          "2021-01-01",
          "2021-02-01",
          "2021-03-01",
          "2021-04-01",
          "2021-05-01",
          "2021-06-01",
          "2021-07-01",
          "2021-08-01",
          "2021-09-01",
          "2021-10-01",
          "2021-12-01",
          "2022-01-01",
          "2022-02-01",
          "2022-03-01",
          "2022-04-01",
          "2022-05-01",
          "2022-06-01",
          "2022-07-01",
          "2022-08-01",
          "2022-09-01",
          "2022-10-01",
          "2022-11-01",
          "2022-12-01",
          "2023-01-01",
          "2023-02-01",
          "2023-03-01",
          "2023-04-01",
          "2023-05-01",
          "2023-06-01",
          "2023-07-01",
          "2023-08-01",
          "2023-09-01",
          "2023-10-01",
          "2023-11-01",
          "2023-12-01",
          "2024-01-01",
          "2024-02-01",
          "2024-03-01",
          "2024-04-01",
          "2024-05-01",
          "2024-06-01",
          "2024-07-01",
          "2024-08-01",
          "2024-09-01",
          "2024-10-01",
          "2024-11-01",
          "2024-12-01"
         ],
         "xaxis": "x",
         "y": {
          "bdata": "AAAAAAAQdUAAAAAAAAR1QAAAAAAACHVA27Zt27bNc0CamZmZmelyQAAAAAAAkHJAAAAAAADockAAAAAAADBzQAAAAAAA2HRAzczMzMwMdEBVVVVVVeV0QKuqqqqqKnRAJUmSJElSdECrqqqqqtp0QAAAAAAA+HRAq6qqqqrqdECrqqqqqtp0QKuqqqqq2nRAzczMzMzcdEDNzMzMzFxzQAAAAAAAjHRAAAAAAADgdEAAAAAAAOB0QAAAAAAAsHJAzczMzMysckCrqqqqqsp0QFVVVVVVNXRAAAAAAACgdEAAAAAAAPB0QKuqqqqq+nRAmpmZmZlpdECamZmZmWl0QKuqqqqq6nRAAAAAAADYc0AAAAAAAFR0QAAAAAAAwHNAAAAAAACcc0BVVVVVVVVzQAAAAAAACHRAVVVVVVWVc0AAAAAAAFx0QAAAAAAAjHVAAAAAAAAgdUAAAAAAAMx0QAAAAAAAXHJAAAAAAAC4dECrqqqqqvpxQCVJkiRJUnRAq6qqqqpqdUAAAAAAAMh0QAAAAAAAuHRAAAAAAAAMdUAAAAAAAFB1QAAAAAAA0HRAAAAAAADQdUAAAAAAALh0QAAAAAAAkHNAAAAAAABAc0Crqqqqqsp0QAAAAAAAwHRAAAAAAADQdEAAAAAAACB1QAAAAAAA0HRAq6qqqqqqbUAAAAAAAOB2QKuqqqqq6nZAq6qqqqrqdkAAAAAAAOB2QAAAAAAAwHZAAAAAAADgdkBVVVVVVfV2QAAAAAAA8HZAAAAAAADwdkCrqqqqqup2QAAAAAAAwHJAAAAAAAAAd0AAAAAAANB0QGZmZmZm1nRAMzMzMzPTc0AAAAAAANB0QAAAAAAAlHRAJUmSJEkidEAAAAAAADR0QA==",
          "dtype": "f8"
         },
         "yaxis": "y"
        },
        {
         "hovertemplate": "Dock=KINDER MORGAN ENERGY PARNERS, BERTHS 118 - 119<br>=%{x}<br>Mean Vessel Length (m)=%{y}<extra></extra>",
         "legendgroup": "KINDER MORGAN ENERGY PARNERS, BERTHS 118 - 119",
         "line": {
          "color": "#00cc96",
          "dash": "solid"
         },
         "marker": {
          "symbol": "circle"
         },
         "mode": "lines",
         "name": "KINDER MORGAN ENERGY PARNERS, BERTHS 118 - 119",
         "showlegend": true,
         "type": "scattergl",
         "x": [
          "2018-01-01",
          "2018-02-01",
          "2018-03-01",
          "2018-04-01",
          "2018-05-01",
          "2018-06-01",
          "2018-07-01",
          "2018-09-01",
          "2018-10-01",
          "2018-11-01",
          "2018-12-01",
          "2019-01-01",
          "2019-02-01",
          "2019-03-01",
          "2019-04-01",
          "2019-05-01",
          "2019-06-01",
          "2019-07-01",
          "2019-08-01",
          "2019-09-01",
          "2019-10-01",
          "2019-11-01",
          "2019-12-01",
          "2020-01-01",
          "2020-02-01",
          "2020-03-01",
          "2020-04-01",
          "2020-05-01",
          "2020-06-01",
          "2020-07-01",
          "2020-08-01",
          "2020-09-01",
          "2020-10-01",
          "2020-11-01",
          "2020-12-01",
          "2021-01-01",
          "2021-02-01",
          "2021-03-01",
          "2021-04-01",
          "2021-05-01",
          "2021-06-01",
          "2021-07-01",
          "2021-08-01",
          "2021-09-01",
          "2021-11-01",
          "2021-12-01",
          "2022-01-01",
          "2022-02-01",
          "2022-03-01",
          "2022-04-01",
          "2022-05-01",
          "2022-07-01",
          "2022-08-01",
          "2022-09-01",
          "2022-10-01",
          "2022-11-01",
          "2022-12-01",
          "2023-03-01",
          "2023-04-01",
          "2023-05-01",
          "2023-07-01",
          "2023-09-01",
          "2023-12-01",
          "2024-02-01",
          "2024-03-01",
          "2024-04-01",
          "2024-05-01",
          "2024-07-01",
          "2024-08-01",
          "2024-09-01",
          "2024-10-01",
          "2024-11-01",
          "2024-12-01"
         ],
         "xaxis": "x",
         "y": {
          "bdata": "AAAAAADgZkBVVVVVVXVoQAAAAAAA4GZAAAAAAADgZkAAAAAAAOBmQAAAAAAA4GZAAAAAAADgZkAAAAAAAOBmQAAAAAAA4GZAAAAAAADgZkAAAAAAAOBmQAAAAAAAwGZAAAAAAADgZkAAAAAAAOBmQAAAAAAA4GZAVVVVVVW1ZkAAAAAAAOBmQAAAAAAA4GZAAAAAAADgZkAAAAAAAOBmQAAAAAAA4GZAAAAAAADgZkAAAAAAAOBmQAAAAAAA4GZAAAAAAADQZkAAAAAAAChwQAAAAAAA4GZAAAAAAADgZkBVVVVVVfVmQAAAAAAAAGdAAAAAAADAZkBVVVVVVdVmQAAAAAAA4GZAAAAAAADgZkAAAAAAAOBmQAAAAAAA4GZAAAAAAAAAZ0AAAAAAAOBmQAAAAAAA4GZAAAAAAADgZkAAAAAAAOBmQAAAAAAA4GZAAAAAAACgZkAAAAAAAOBmQAAAAAAAAGdAAAAAAADgZkAAAAAAAOBmQAAAAAAA4GZAAAAAAADgZkAAAAAAAOBmQAAAAAAA4GZAAAAAAADgZkAAAAAAADBnQAAAAAAA4GZAAAAAAADAZkAAAAAAAEBnQAAAAAAA+GZAAAAAAADgZkAAAAAAAABnQAAAAAAA4GZAAAAAAADgZkAAAAAAAOBmQAAAAAAA4GZAAAAAAABAZ0AAAAAAAKBnQAAAAAAA4GZAAAAAAABgZ0AAAAAAAOBmQAAAAAAA4GZAAAAAAADwZkAAAAAAAOBmQAAAAAAAQGdAAAAAAADgZkA=",
          "dtype": "f8"
         },
         "yaxis": "y"
        },
        {
         "hovertemplate": "Dock=OPEN WATER HIGH SEAS<br>=%{x}<br>Mean Vessel Length (m)=%{y}<extra></extra>",
         "legendgroup": "OPEN WATER HIGH SEAS",
         "line": {
          "color": "#ab63fa",
          "dash": "solid"
         },
         "marker": {
          "symbol": "circle"
         },
         "mode": "lines",
         "name": "OPEN WATER HIGH SEAS",
         "showlegend": true,
         "type": "scattergl",
         "x": [
          "2018-01-01",
          "2018-02-01",
          "2018-03-01",
          "2018-04-01",
          "2018-05-01",
          "2018-06-01",
          "2018-07-01",
          "2018-08-01",
          "2018-09-01",
          "2018-10-01",
          "2018-11-01",
          "2019-01-01",
          "2019-02-01",
          "2019-03-01",
          "2019-04-01",
          "2019-05-01",
          "2019-06-01",
          "2019-07-01",
          "2019-08-01",
          "2020-01-01",
          "2020-02-01",
          "2020-03-01",
          "2020-04-01",
          "2020-05-01",
          "2020-06-01",
          "2020-07-01",
          "2020-08-01",
          "2020-09-01",
          "2021-08-01",
          "2021-09-01",
          "2021-10-01",
          "2021-11-01",
          "2022-01-01",
          "2022-04-01",
          "2022-05-01",
          "2022-07-01",
          "2022-08-01",
          "2022-10-01",
          "2022-11-01",
          "2022-12-01",
          "2023-02-01",
          "2023-03-01",
          "2023-04-01",
          "2023-05-01",
          "2023-06-01",
          "2023-07-01",
          "2023-09-01",
          "2023-10-01",
          "2023-11-01",
          "2024-04-01",
          "2024-08-01",
          "2024-11-01"
         ],
         "xaxis": "x",
         "y": {
          "bdata": "AAAAAADQc0AAAAAAAHBzQAAAAAAAVHRAVVVVVVUldEAAAAAAAAB0QAAAAAAAIHNAAAAAAADgdECrqqqqqmpzQAAAAAAA4HRAAAAAAADIc0AAAAAAAOB0QAAAAAAAsHJAAAAAAADIc0AAAAAAAOB0QFVVVVVVJXRAMzMzMzMDdEAzMzMzM5NzQCVJkiRJ8nNASZIkSZL0c0Crqqqqqip0QAAAAAAAkHNAAAAAAABYdEAAAAAAANBzQAAAAAAAyHNAAAAAAADIc0AAAAAAAHBzQAAAAAAAcHRAq6qqqqp6c0AAAAAAAMBiQAAAAAAAWHNAAAAAAABgcUAAAAAAAMBmQFVVVVVVtXFAAAAAAADgdEAAAAAAAOB0QAAAAAAA8HRAAAAAAADgdEAAAAAAAOB0QAAAAAAA4HRAAAAAAADgdEAAAAAAAOB0QAAAAAAA4HRAAAAAAADgdEAAAAAAAOB0QAAAAAAA4HRAAAAAAADgdEAAAAAAAOB0QAAAAAAA4HRAAAAAAAAAdUAAAAAAAPB0QAAAAAAA8HRAAAAAAADgdEA=",
          "dtype": "f8"
         },
         "yaxis": "y"
        },
        {
         "hovertemplate": "Dock=BERTH 406, (CUT) CALIFORNIA UNITED CONTAINER TERMINAL<br>=%{x}<br>Mean Vessel Length (m)=%{y}<extra></extra>",
         "legendgroup": "BERTH 406, (CUT) CALIFORNIA UNITED CONTAINER TERMINAL",
         "line": {
          "color": "#FFA15A",
          "dash": "solid"
         },
         "marker": {
          "symbol": "circle"
         },
         "mode": "lines",
         "name": "BERTH 406, (CUT) CALIFORNIA UNITED CONTAINER TERMINAL",
         "showlegend": true,
         "type": "scattergl",
         "x": [
          "2018-01-01",
          "2018-02-01",
          "2018-04-01",
          "2018-05-01",
          "2018-06-01",
          "2018-07-01",
          "2018-08-01",
          "2018-09-01",
          "2018-10-01",
          "2018-11-01",
          "2018-12-01",
          "2019-01-01",
          "2019-02-01",
          "2019-03-01",
          "2019-04-01",
          "2019-05-01",
          "2019-06-01",
          "2019-07-01",
          "2019-08-01",
          "2019-09-01",
          "2019-10-01",
          "2019-11-01",
          "2019-12-01",
          "2020-01-01",
          "2020-02-01",
          "2020-03-01",
          "2020-05-01",
          "2020-06-01",
          "2020-07-01",
          "2020-08-01",
          "2020-09-01",
          "2020-10-01",
          "2020-11-01",
          "2020-12-01",
          "2021-01-01",
          "2021-02-01",
          "2021-03-01",
          "2021-04-01",
          "2021-05-01",
          "2021-06-01",
          "2021-07-01",
          "2021-08-01",
          "2021-09-01",
          "2021-10-01",
          "2021-11-01",
          "2021-12-01",
          "2022-01-01",
          "2022-02-01",
          "2022-03-01",
          "2022-04-01",
          "2022-05-01",
          "2022-06-01",
          "2022-07-01",
          "2022-08-01",
          "2022-09-01",
          "2022-10-01",
          "2022-12-01",
          "2023-02-01",
          "2023-03-01",
          "2023-04-01",
          "2023-05-01",
          "2023-06-01",
          "2023-07-01",
          "2023-08-01",
          "2023-09-01",
          "2023-10-01",
          "2023-11-01",
          "2023-12-01",
          "2024-01-01",
          "2024-02-01",
          "2024-03-01",
          "2024-04-01",
          "2024-05-01",
          "2024-06-01",
          "2024-07-01",
          "2024-08-01",
          "2024-09-01",
          "2024-10-01",
          "2024-11-01",
          "2024-12-01"
         ],
         "xaxis": "x",
         "y": {
          "bdata": "AAAAAADAZ0AAAAAAAKBnQAAAAAAA4HZAAAAAAADgdkAAAAAAAOB2QAAAAAAA4HZAAAAAAABgdkBVVVVVVVV2QFVVVVVV5XNAVVVVVVVFdkAAAAAAAPh1QAAAAAAANHVAq6qqqqr6dkAAAAAAAOB2QAAAAAAA8HJAZmZmZmaGckBVVVVVVZVzQFVVVVVVtXVAVVVVVVVddEAzMzMzMwN0QAAAAAAAFnRAAAAAAACQckAAAAAAAJxyQAAAAAAAeHVAZmZmZmbWcEAAAAAAAFRwQKuqqqqqmnNAAAAAAACgckAAAAAAAGhzQAAAAAAAtHJAAAAAAADQdkBVVVVVVSVuQAAAAAAA7HNAq6qqqqpqb0AAAAAAAOB1QDMzMzMzQ3VAAAAAAADgdUCrqqqqquJ1QAAAAAAAKHNAZmZmZmamdUAAAAAAAJh0QAAAAAAAAHJAAAAAAACgdEAAAAAAAOB2QFVVVVVVZXNAVVVVVVXVdkAAAAAAAOB2QDMzMzMzI3VAAAAAAABAdUAAAAAAAGB1QAAAAAAAvHRAkiRJkiRpdUAAAAAAAGB2QFVVVVVV1XZAq6qqqqpadUAAAAAAAOB0QAAAAAAAIG9AAAAAAADAb0AAAAAAAHxwQAAAAAAAgnBAZmZmZmZmc0BVVVVVVfVyQAAAAAAAIHFAOY7jOI6jckAAAAAAANB0QAAAAAAAsGVAmpmZmZnpdEAAAAAAANRzQAAAAAAAEHVAAAAAAADUc0BmZmZmZoZzQAAAAAAAAHRAmpmZmZk5ckAAAAAAAAR0QJIkSZIkCXNAAAAAAADIdEAzMzMzMzN2QAAAAAAAeHRAVVVVVVVVdkAAAAAAAPB2QA==",
          "dtype": "f8"
         },
         "yaxis": "y"
        },
        {
         "hovertemplate": "Dock=AMERICAN PRESIDENT LINES BERTHS 121-126<br>=%{x}<br>Mean Vessel Length (m)=%{y}<extra></extra>",
         "legendgroup": "AMERICAN PRESIDENT LINES BERTHS 121-126",
         "line": {
          "color": "#19d3f3",
          "dash": "solid"
         },
         "marker": {
          "symbol": "circle"
         },
         "mode": "lines",
         "name": "AMERICAN PRESIDENT LINES BERTHS 121-126",
         "showlegend": true,
         "type": "scattergl",
         "x": [
          "2018-01-01",
          "2018-02-01",
          "2018-03-01",
          "2018-04-01",
          "2018-05-01",
          "2018-06-01",
          "2018-07-01",
          "2018-08-01",
          "2018-09-01",
          "2018-10-01",
          "2018-11-01",
          "2018-12-01",
          "2019-01-01",
          "2019-02-01",
          "2019-03-01",
          "2019-04-01",
          "2019-05-01",
          "2019-06-01",
          "2019-07-01",
          "2019-08-01",
          "2019-09-01",
          "2019-10-01",
          "2019-11-01",
          "2019-12-01",
          "2020-01-01",
          "2020-02-01",
          "2020-03-01",
          "2020-04-01",
          "2020-05-01",
          "2020-07-01",
          "2020-08-01",
          "2020-09-01",
          "2020-10-01",
          "2020-11-01",
          "2020-12-01",
          "2021-01-01",
          "2021-02-01",
          "2021-03-01",
          "2021-04-01",
          "2021-05-01",
          "2021-06-01",
          "2021-07-01",
          "2021-08-01",
          "2021-09-01",
          "2021-10-01",
          "2021-11-01",
          "2021-12-01",
          "2022-01-01",
          "2022-02-01",
          "2022-03-01",
          "2022-04-01",
          "2022-05-01",
          "2022-06-01",
          "2022-07-01",
          "2022-08-01",
          "2022-09-01",
          "2022-10-01",
          "2022-11-01",
          "2022-12-01",
          "2023-01-01",
          "2023-02-01",
          "2023-03-01",
          "2023-06-01",
          "2023-08-01",
          "2023-09-01",
          "2023-12-01",
          "2024-01-01",
          "2024-02-01",
          "2024-04-01",
          "2024-05-01",
          "2024-06-01",
          "2024-07-01",
          "2024-08-01",
          "2024-09-01",
          "2024-10-01",
          "2024-11-01",
          "2024-12-01"
         ],
         "xaxis": "x",
         "y": {
          "bdata": "mpmZmZlJb0AXXXTRRTdvQHIcx3Ecx25AzczMzMysb0AzMzMzM1NwQB4eHh4evnBAvLu7u7tbcEBu27Zt25ZwQGZmZmZmZnBAAAAAAADQcECe2Imd2DlwQDuxEzuxc3BApqWlpaXVcEBVVVVVVY1wQAAAAAAAMHBAHh4eHh6+cEAUO7ETO6FwQAAAAAAAwG9Auuiiiy4acECamZmZmSlvQFVVVVVVLXBAHMdxHMcxb0CMLrrooqtvQLrooosuGnBAAAAAAAAMcEC66KKLLhpwQFVVVVVVdXBAJUmSJEnyb0AAAAAAAABxQKuqqqqqWnBAAAAAAABUcEDNzMzMzLxwQGZmZmZmJnFA27Zt27atcEBVVVVVVfVwQM3MzMzMrHBAq6qqqqqqcECamZmZmRlxQI7jOI7jeG5AMzMzMzNzcEAAAAAAAPBwQAAAAAAAuHBASZIkSZJEcEBVVVVVVWVwQAAAAAAAiHFAAAAAAABEcEC3bdu2bStxQAAAAAAAEG9AzczMzMyMbkA5juM4jkNwQAAAAAAAhnBASZIkSZI0cUCrqqqqqhpxQGZmZmZmFnFAAAAAAABscEAAAAAAAGxwQFVVVVVV9XBAAAAAAADYcECamZmZmblwQFVVVVVV9XBAAAAAAACQcEAAAAAAAEBwQAAAAAAAYHJAAAAAAABgckAAAAAAAGByQAAAAAAAkHBAAAAAAACEcEAAAAAAADBwQFVVVVVVFW5AVVVVVVW1a0AAAAAAAJhqQAAAAAAAGGhAMzMzMzOTZ0AAAAAAAOBpQFVVVVVV9WhAJUmSJEkybECrqqqqqhpoQA==",
          "dtype": "f8"
         },
         "yaxis": "y"
        },
        {
         "hovertemplate": "Dock=CONOCO PHILLIPS, BERTHS 148 & 149<br>=%{x}<br>Mean Vessel Length (m)=%{y}<extra></extra>",
         "legendgroup": "CONOCO PHILLIPS, BERTHS 148 & 149",
         "line": {
          "color": "#FF6692",
          "dash": "solid"
         },
         "marker": {
          "symbol": "circle"
         },
         "mode": "lines",
         "name": "CONOCO PHILLIPS, BERTHS 148 & 149",
         "showlegend": true,
         "type": "scattergl",
         "x": [
          "2018-01-01",
          "2018-02-01",
          "2018-03-01",
          "2018-04-01",
          "2018-05-01",
          "2018-06-01",
          "2018-07-01",
          "2018-08-01",
          "2018-09-01",
          "2018-10-01",
          "2018-11-01",
          "2018-12-01",
          "2019-02-01",
          "2019-04-01",
          "2019-05-01",
          "2019-07-01",
          "2019-09-01",
          "2019-11-01",
          "2019-12-01",
          "2020-02-01",
          "2020-04-01",
          "2020-10-01",
          "2020-12-01",
          "2021-01-01",
          "2021-02-01",
          "2021-06-01",
          "2021-09-01",
          "2021-11-01",
          "2022-01-01",
          "2022-02-01",
          "2022-03-01",
          "2022-04-01",
          "2022-05-01",
          "2022-06-01",
          "2022-07-01",
          "2022-10-01",
          "2022-12-01",
          "2023-03-01",
          "2023-04-01",
          "2023-05-01",
          "2023-08-01",
          "2023-11-01",
          "2024-01-01",
          "2024-03-01",
          "2024-04-01",
          "2024-05-01",
          "2024-06-01",
          "2024-07-01",
          "2024-08-01",
          "2024-09-01",
          "2024-11-01",
          "2024-12-01"
         ],
         "xaxis": "x",
         "y": {
          "bdata": "AAAAAADgZkAAAAAAAOBmQAAAAAAAoGlAAAAAAACwaUAAAAAAAGBlQAAAAAAAwGVAAAAAAAA4ZkAAAAAAAOBmQAAAAAAA4GZAAAAAAADgZkAAAAAAAOBmQAAAAAAA4GZAVVVVVVV1aECrqqqqqpppQM3MzMzMrGlAAAAAAADAZkAAAAAAAEBoQAAAAAAAwGhAAAAAAADgZkAAAAAAAOBmQAAAAAAA4GZAAAAAAADAZkAAAAAAAOBjQAAAAAAAYGJAAAAAAABQZkAAAAAAAMBlQAAAAAAAgGZAAAAAAADgZUAAAAAAAKBmQAAAAAAA4GZAAAAAAADgZkAAAAAAAOBmQAAAAAAAIGdAAAAAAADgZkAAAAAAAGBlQAAAAAAA4GZAAAAAAADgZkAAAAAAAOBmQAAAAAAA4GZAAAAAAABgZkAAAAAAAMBmQAAAAAAA4GZAAAAAAADgZkAAAAAAAOBmQAAAAAAA4GZAVVVVVVXVZkAAAAAAAOBmQAAAAAAA4GZAAAAAAADgZkAAAAAAAOBmQAAAAAAA4GZAAAAAAACgZkA=",
          "dtype": "f8"
         },
         "yaxis": "y"
        },
        {
         "hovertemplate": "Dock=Catalina Express, Berth No. 95, Gates 4 and 3.<br>=%{x}<br>Mean Vessel Length (m)=%{y}<extra></extra>",
         "legendgroup": "Catalina Express, Berth No. 95, Gates 4 and 3.",
         "line": {
          "color": "#B6E880",
          "dash": "solid"
         },
         "marker": {
          "symbol": "circle"
         },
         "mode": "lines",
         "name": "Catalina Express, Berth No. 95, Gates 4 and 3.",
         "showlegend": true,
         "type": "scattergl",
         "x": [
          "2018-01-01",
          "2018-02-01",
          "2018-03-01",
          "2018-04-01",
          "2018-05-01",
          "2018-06-01",
          "2018-07-01",
          "2018-08-01",
          "2018-09-01",
          "2018-10-01",
          "2018-11-01",
          "2018-12-01",
          "2019-01-01",
          "2019-02-01",
          "2019-03-01",
          "2019-04-01",
          "2019-05-01",
          "2019-06-01",
          "2019-07-01",
          "2019-08-01",
          "2019-09-01",
          "2019-10-01",
          "2019-11-01",
          "2019-12-01",
          "2020-02-01",
          "2020-03-01",
          "2020-04-01",
          "2020-06-01",
          "2020-07-01",
          "2020-08-01",
          "2020-09-01",
          "2020-10-01",
          "2020-11-01",
          "2020-12-01",
          "2021-02-01",
          "2021-03-01",
          "2021-04-01",
          "2021-05-01",
          "2021-06-01",
          "2021-07-01",
          "2021-08-01",
          "2021-09-01",
          "2021-10-01",
          "2021-11-01",
          "2021-12-01",
          "2022-01-01",
          "2022-02-01",
          "2022-03-01",
          "2022-04-01",
          "2022-05-01",
          "2022-06-01",
          "2022-07-01",
          "2022-08-01",
          "2022-09-01",
          "2022-10-01",
          "2022-11-01",
          "2022-12-01",
          "2023-01-01",
          "2023-04-01",
          "2023-05-01",
          "2023-06-01",
          "2023-07-01",
          "2023-08-01",
          "2023-09-01",
          "2023-10-01",
          "2023-11-01",
          "2023-12-01",
          "2024-02-01",
          "2024-03-01",
          "2024-04-01",
          "2024-05-01",
          "2024-06-01",
          "2024-07-01",
          "2024-08-01",
          "2024-09-01",
          "2024-10-01",
          "2024-11-01",
          "2024-12-01"
         ],
         "xaxis": "x",
         "y": {
          "bdata": "AAAAAADQdECrqqqqqjpyQFVVVVVVdXJAAAAAAABYdEAAAAAAANBxQGZmZmZmNnNAAAAAAAAYdEAAAAAAANRzQAAAAAAA6HJAVVVVVVUVdECamZmZmQl0QFVVVVVVVXNAAAAAAABAc0AAAAAAABhzQAAAAAAAoHNAAAAAAADwdEAAAAAAAEh0QDMzMzMzM3RAmpmZmZnpdEBVVVVVVZ1zQAAAAAAAYHJAAAAAAABgckAAAAAAAGByQAAAAAAAYHJAAAAAAABgckAAAAAAAPB0QKuqqqqqCnRAAAAAAADAdEAAAAAAAPhzQFVVVVVV1XRAAAAAAAAgc0AAAAAAAPBzQAAAAAAA8HRAAAAAAAAQdEAAAAAAAEB0QAAAAAAA6HRAq6qqqqoic0AAAAAAAOB0QKuqqqqqSnRAVVVVVVUVckCrqqqqqopyQKuqqqqqmnNAAAAAAADgdEAAAAAAAPB0QAAAAAAA1HNAAAAAAADgc0CrqqqqqjpzQAAAAAAATHRAVVVVVVXldECrqqqqqopzQAAAAAAA6HRAq6qqqqrqdEAAAAAAANB0QAAAAAAA4HRAAAAAAADwdEAAAAAAAOh0QAAAAAAA8HRAAAAAAABwdEAAAAAAACB0QGZmZmZmJnNAMzMzMzNDdEBmZmZmZrZzQAAAAAAAwHJAAAAAAADAckCamZmZmblyQAAAAAAAwHJAAAAAAADAc0AAAAAAAMByQFVVVVVVxXNAAAAAAABwc0CamZmZmSlzQAAAAAAAGHNAbtu2bdv2ckAAAAAAAMhyQKuqqqqqGnJAAAAAAACgcEAAAAAAAGBtQKuqqqqqanNA",
          "dtype": "f8"
         },
         "yaxis": "y"
        },
        {
         "hovertemplate": "Dock=AMERICAN PRESIDENT LINE BERTH 302-305<br>=%{x}<br>Mean Vessel Length (m)=%{y}<extra></extra>",
         "legendgroup": "AMERICAN PRESIDENT LINE BERTH 302-305",
         "line": {
          "color": "#FF97FF",
          "dash": "solid"
         },
         "marker": {
          "symbol": "circle"
         },
         "mode": "lines",
         "name": "AMERICAN PRESIDENT LINE BERTH 302-305",
         "showlegend": true,
         "type": "scattergl",
         "x": [
          "2018-01-01",
          "2018-02-01",
          "2018-03-01",
          "2018-04-01",
          "2018-05-01",
          "2018-06-01",
          "2018-07-01",
          "2018-08-01",
          "2018-09-01",
          "2018-10-01",
          "2018-11-01",
          "2018-12-01",
          "2019-01-01",
          "2019-02-01",
          "2019-03-01",
          "2019-04-01",
          "2019-05-01",
          "2019-06-01",
          "2019-07-01",
          "2019-08-01",
          "2019-09-01",
          "2019-10-01",
          "2019-11-01",
          "2019-12-01",
          "2020-01-01",
          "2020-02-01",
          "2020-03-01",
          "2020-04-01",
          "2020-05-01",
          "2020-06-01",
          "2020-07-01",
          "2020-08-01",
          "2020-09-01",
          "2020-10-01",
          "2020-11-01",
          "2020-12-01",
          "2021-01-01",
          "2021-03-01",
          "2021-04-01",
          "2021-05-01",
          "2021-06-01",
          "2021-07-01",
          "2021-08-01",
          "2021-09-01",
          "2021-10-01",
          "2021-11-01",
          "2021-12-01",
          "2022-01-01",
          "2022-02-01",
          "2022-03-01",
          "2022-04-01",
          "2022-05-01",
          "2022-06-01",
          "2022-07-01",
          "2022-08-01",
          "2022-09-01",
          "2022-10-01",
          "2022-11-01",
          "2022-12-01",
          "2023-01-01",
          "2023-02-01",
          "2023-03-01",
          "2023-04-01",
          "2023-05-01",
          "2023-06-01",
          "2023-07-01",
          "2023-08-01",
          "2023-09-01",
          "2023-10-01",
          "2023-11-01",
          "2023-12-01",
          "2024-01-01",
          "2024-02-01",
          "2024-03-01",
          "2024-04-01",
          "2024-05-01",
          "2024-06-01",
          "2024-07-01",
          "2024-08-01",
          "2024-09-01",
          "2024-10-01",
          "2024-11-01",
          "2024-12-01"
         ],
         "xaxis": "x",
         "y": {
          "bdata": "AAAAAAAYb0DkOI7jOO5wQM3MzMzMXHFAzczMzMyccUAAAAAAABB0QKuqqqqq2nFAVVVVVVXVcUAAAAAAAMxxQKuqqqqqOnFAAAAAAADYcUBu27Zt2+ZxQAAAAAAAdHJAHMdxHMeRckDRRRdddJFyQOmiiy66qHNAAAAAAADgcUAAAAAAAPxzQAAAAAAAaHVAAAAAAACQdEAzMzMzM+N0QNu2bdu2fXVAZmZmZmZWc0AAAAAAAGx2QG7btm3bJnJAzczMzMw8dUBmZmZmZvZyQGZmZmZmpnVAzczMzMz8dEBu27Zt2wZyQI7jOI7jCHNAVVVVVVVVdEAAAAAAAPx0QAAAAAAA8HNAAAAAAAC4dEBVVVVVVUV0QAAAAAAAGHVAVVVVVVWFckBmZmZmZkZ1QFVVVVVVGXNAAAAAAACadECO4ziO44hxQAAAAAAA4HVAOY7jOI7DdEBmZmZmZjZ0QAAAAAAAcnRAAAAAAAD4c0AAAAAAAEB2QLdt27Ztu3RAq6qqqqradUDNzMzMzEx2QAAAAAAAzHZAAAAAAABMdUCamZmZmel0QAAAAAAACHRAXXTRRRfddEBu27Zt2+Z0QAAAAAAACHRAuuiiiy7qc0Dbtm3btp11QOmiiy66OHRA27Zt27b9dEAAAAAAAFJzQFVVVVVVNXVAAAAAAABXdEAvuuiii352QGZmZmZmbnRAZmZmZmaec0DZiZ3YiU1zQNmJndiJDXVA5DiO4zgec0BVVVVVVfVzQAAAAAAAgnVAAAAAAACsdUCO4ziO4xh1QGZmZmZmdnRAq6qqqqruc0A5juM4jjN0QKuqqqqqmnRA0UUXXXShdEAAAAAAANhzQDmO4ziOY3JAAAAAAABydEAAAAAAAFh1QA==",
          "dtype": "f8"
         },
         "yaxis": "y"
        },
        {
         "hovertemplate": "Dock=GATX TERMINALS CORP BERTHS 171, 172 & 173<br>=%{x}<br>Mean Vessel Length (m)=%{y}<extra></extra>",
         "legendgroup": "GATX TERMINALS CORP BERTHS 171, 172 & 173",
         "line": {
          "color": "#FECB52",
          "dash": "solid"
         },
         "marker": {
          "symbol": "circle"
         },
         "mode": "lines",
         "name": "GATX TERMINALS CORP BERTHS 171, 172 & 173",
         "showlegend": true,
         "type": "scattergl",
         "x": [
          "2018-01-01",
          "2018-02-01",
          "2018-03-01",
          "2018-04-01",
          "2018-05-01",
          "2018-06-01",
          "2018-07-01",
          "2018-08-01",
          "2018-09-01",
          "2018-10-01",
          "2018-11-01",
          "2018-12-01",
          "2019-01-01",
          "2019-02-01",
          "2019-03-01",
          "2019-04-01",
          "2019-05-01",
          "2019-06-01",
          "2019-07-01",
          "2019-08-01",
          "2019-09-01",
          "2019-10-01",
          "2019-11-01",
          "2019-12-01",
          "2020-01-01",
          "2020-03-01",
          "2020-04-01",
          "2020-05-01",
          "2020-06-01",
          "2020-07-01",
          "2020-08-01",
          "2020-09-01",
          "2020-10-01",
          "2020-11-01",
          "2020-12-01",
          "2021-01-01",
          "2021-02-01",
          "2021-03-01",
          "2021-04-01",
          "2021-05-01",
          "2021-06-01",
          "2021-07-01",
          "2021-08-01",
          "2021-09-01",
          "2021-10-01",
          "2021-11-01",
          "2021-12-01",
          "2022-01-01",
          "2022-02-01",
          "2022-03-01",
          "2022-04-01",
          "2022-05-01",
          "2022-06-01",
          "2022-07-01",
          "2022-08-01",
          "2022-09-01",
          "2022-10-01",
          "2022-11-01",
          "2022-12-01",
          "2023-01-01",
          "2023-02-01",
          "2023-03-01",
          "2023-04-01",
          "2023-05-01",
          "2023-06-01",
          "2023-07-01",
          "2023-08-01",
          "2023-09-01",
          "2023-10-01",
          "2023-11-01",
          "2023-12-01",
          "2024-01-01",
          "2024-02-01",
          "2024-03-01",
          "2024-04-01",
          "2024-05-01",
          "2024-06-01",
          "2024-07-01",
          "2024-08-01",
          "2024-09-01",
          "2024-10-01",
          "2024-11-01",
          "2024-12-01"
         ],
         "xaxis": "x",
         "y": {
          "bdata": "AAAAAADAbEAAAAAAANRzQAAAAAAAgHFAAAAAAADYc0Crqqqqqpp0QAAAAAAAVHRAZmZmZmZmc0AAAAAAADhzQM3MzMzM/HRAmpmZmZlpc0AAAAAAAAB1QFVVVVVVRXNAAAAAAAAIc0CamZmZmYl0QAAAAAAAqHJAq6qqqqo6dECrqqqqqkp1QM3MzMzMfHVAAAAAAABsdUBmZmZmZlZ1QJqZmZmZuXNAAAAAAADAc0BmZmZmZhZ1QAAAAAAAIHVAAAAAAAAIdUAAAAAAAGByQAAAAAAAAGpAAAAAAABQckBmZmZmZnZyQGZmZmZmlnNAVVVVVVVVdEAAAAAAAAh0QKuqqqqqGnJAVVVVVVVVc0AAAAAAANRyQAAAAAAAQHVAAAAAAACQdEAAAAAAAEB1QAAAAAAAiHBAAAAAAAAgcUCamZmZmZlyQFVVVVVVhXJAAAAAAACockBVVVVVVbVyQAAAAAAAUHJAAAAAAADMckCrqqqqqopyQFVVVVVVVXBAdNFFF12UcECSJEmSJNlwQKuqqqqqym1AVVVVVVWVckCO4ziO42hwQAAAAAAAKHFASZIkSZLEcUAlSZIkSSJyQAAAAAAAiHRAAAAAAAAwc0CamZmZmRlzQGZmZmZmdnJAmpmZmZn5ckAlSZIkSaJwQJqZmZmZ6XNAzczMzMwcdEAAAAAAAFR0QM3MzMzMrHNAmpmZmZnJckAAAAAAAPBzQAAAAAAATHRAVVVVVVX9c0CamZmZmWl0QAAAAAAAAHNAAAAAAADQdEAAAAAAAAB0QFVVVVVVhXRAq6qqqqrKdECrqqqqqlpzQGZmZmZmJnNAAAAAAABcdEAAAAAAAER0QGZmZmZmlnRAAAAAAAAAdUAAAAAAABB1QA==",
          "dtype": "f8"
         },
         "yaxis": "y"
        },
        {
         "hovertemplate": "Dock=STEVEDORING SERVICE OF AMERICA BERTHS 54 & 55<br>=%{x}<br>Mean Vessel Length (m)=%{y}<extra></extra>",
         "legendgroup": "STEVEDORING SERVICE OF AMERICA BERTHS 54 & 55",
         "line": {
          "color": "#636efa",
          "dash": "solid"
         },
         "marker": {
          "symbol": "circle"
         },
         "mode": "lines",
         "name": "STEVEDORING SERVICE OF AMERICA BERTHS 54 & 55",
         "showlegend": true,
         "type": "scattergl",
         "x": [
          "2018-01-01",
          "2018-03-01",
          "2019-01-01",
          "2019-02-01",
          "2019-03-01",
          "2020-01-01",
          "2020-02-01",
          "2020-03-01",
          "2020-04-01",
          "2021-01-01",
          "2021-02-01",
          "2021-03-01",
          "2021-04-01",
          "2022-01-01",
          "2022-02-01",
          "2022-03-01",
          "2022-04-01",
          "2022-05-01",
          "2022-06-01",
          "2022-08-01",
          "2023-01-01",
          "2023-04-01",
          "2023-05-01",
          "2023-06-01",
          "2024-05-01",
          "2024-07-01"
         ],
         "xaxis": "x",
         "y": {
          "bdata": "AAAAAACgYkAAAAAAACBkQKuqqqqqqmNAAAAAAADAY0CrqqqqqqpjQAAAAAAAAGJAAAAAAADAYUAAAAAAAIBkQAAAAAAAYGNAAAAAAAAAYkCrqqqqqqpjQAAAAAAAQGRAAAAAAACgZEAAAAAAACBiQAAAAAAAEGNAq6qqqqoKY0CrqqqqqipkQAAAAAAAAGNAAAAAAAAAY0AAAAAAAABjQAAAAAAAgGRAAAAAAADwYUAAAAAAAMBiQAAAAAAAwGJAAAAAAADAYkAAAAAAAMBiQA==",
          "dtype": "f8"
         },
         "yaxis": "y"
        },
        {
         "hovertemplate": "Dock=YUSEN TERMINALS BERTHS 212-221<br>=%{x}<br>Mean Vessel Length (m)=%{y}<extra></extra>",
         "legendgroup": "YUSEN TERMINALS BERTHS 212-221",
         "line": {
          "color": "#EF553B",
          "dash": "solid"
         },
         "marker": {
          "symbol": "circle"
         },
         "mode": "lines",
         "name": "YUSEN TERMINALS BERTHS 212-221",
         "showlegend": true,
         "type": "scattergl",
         "x": [
          "2018-01-01",
          "2018-02-01",
          "2018-03-01",
          "2018-04-01",
          "2018-05-01",
          "2018-06-01",
          "2018-07-01",
          "2018-08-01",
          "2018-09-01",
          "2018-10-01",
          "2018-11-01",
          "2018-12-01",
          "2019-01-01",
          "2019-02-01",
          "2019-03-01",
          "2019-04-01",
          "2019-05-01",
          "2019-06-01",
          "2019-07-01",
          "2019-08-01",
          "2019-09-01",
          "2019-10-01",
          "2019-11-01",
          "2019-12-01",
          "2020-01-01",
          "2020-02-01",
          "2020-03-01",
          "2020-04-01",
          "2020-05-01",
          "2020-06-01",
          "2020-07-01",
          "2020-08-01",
          "2020-09-01",
          "2020-10-01",
          "2020-11-01",
          "2020-12-01",
          "2021-01-01",
          "2021-02-01",
          "2021-03-01",
          "2021-04-01",
          "2021-05-01",
          "2021-06-01",
          "2021-07-01",
          "2021-08-01",
          "2021-09-01",
          "2021-10-01",
          "2021-11-01",
          "2021-12-01",
          "2022-01-01",
          "2022-02-01",
          "2022-03-01",
          "2022-04-01",
          "2022-05-01",
          "2022-06-01",
          "2022-07-01",
          "2022-08-01",
          "2022-09-01",
          "2022-10-01",
          "2022-11-01",
          "2022-12-01",
          "2023-01-01",
          "2023-02-01",
          "2023-03-01",
          "2023-04-01",
          "2023-05-01",
          "2023-06-01",
          "2023-07-01",
          "2023-08-01",
          "2023-09-01",
          "2023-10-01",
          "2023-11-01",
          "2023-12-01",
          "2024-01-01",
          "2024-02-01",
          "2024-03-01",
          "2024-04-01",
          "2024-05-01",
          "2024-06-01",
          "2024-07-01",
          "2024-08-01",
          "2024-09-01",
          "2024-10-01",
          "2024-11-01",
          "2024-12-01"
         ],
         "xaxis": "x",
         "y": {
          "bdata": "AAAAAAAwbkAAAAAAAJxyQAAAAAAASHNASZIkSZIUckAAAAAAAOpxQJIkSZIkOXJAAAAAAACwckAAAAAAAGpyQAAAAAAAoHJAkiRJkiSZckC3bdu2bYtyQFVVVVVVRW5AAAAAAACwckAAAAAAADBrQAAAAAAAwGtAAAAAAACkbUAAAAAAADxxQFVVVVVVFXVAq6qqqqqqc0BVVVVVVWVyQFVVVVVVFXVAAAAAAAAAc0AAAAAAAJBzQAAAAAAA9HJAJUmSJEnCckAAAAAAAFByQKuqqqqq0nFAAAAAAAAwc0BmZmZmZmZzQAAAAAAAUHJAAAAAAACqc0AAAAAAAHBzQAAAAAAACnFAq6qqqqpKc0AAAAAAAOx0QAAAAAAA9HRAAAAAAADwdEAAAAAAADBxQAAAAAAAAG9AAAAAAAD4dECamZmZmWl0QAAAAAAAAHVAAAAAAADwdEBu27Zt2yZ0QKuqqqqq+nRAVVVVVVU1ckAAAAAAAOhyQAAAAAAAMHNA27Zt27Zdc0BVVVVVVY1wQLdt27Ztq3JAAAAAAAA0b0AAAAAAAFh0QKuqqqqqunJAAAAAAAAAdUCrqqqqqgp1QAAAAAAAUHFAAAAAAADwc0AAAAAAAFB0QCVJkiRJMnRAAAAAAAB4dEAAAAAAAPByQFVVVVVVtXNAq6qqqqrqcUBVVVVVVc1yQKuqqqqqKnNAkiRJkiQpc0AAAAAAAGBzQGZmZmZmdnNAmpmZmZlZc0AAAAAAAAh1QKuqqqqqMnNAq6qqqqoadEAAAAAAAGxyQAAAAAAA4HFAmpmZmZn5dEBVVVVVVa1zQAAAAAAAAHVAq6qqqqr6cUAAAAAAAAR1QAAAAAAAUHRAMzMzMzMDdUAAAAAAAHx0QAAAAAAAfHRA",
          "dtype": "f8"
         },
         "yaxis": "y"
        },
        {
         "hovertemplate": "Dock=S. A. RECYCLING, BERTHS 210 & 211<br>=%{x}<br>Mean Vessel Length (m)=%{y}<extra></extra>",
         "legendgroup": "S. A. RECYCLING, BERTHS 210 & 211",
         "line": {
          "color": "#00cc96",
          "dash": "solid"
         },
         "marker": {
          "symbol": "circle"
         },
         "mode": "lines",
         "name": "S. A. RECYCLING, BERTHS 210 & 211",
         "showlegend": true,
         "type": "scattergl",
         "x": [
          "2018-01-01",
          "2018-02-01",
          "2018-03-01",
          "2018-04-01",
          "2018-05-01",
          "2018-06-01",
          "2018-08-01",
          "2018-09-01",
          "2018-10-01",
          "2018-11-01",
          "2018-12-01",
          "2019-01-01",
          "2019-02-01",
          "2019-03-01",
          "2019-04-01",
          "2019-05-01",
          "2019-06-01",
          "2019-08-01",
          "2019-09-01",
          "2019-10-01",
          "2019-12-01",
          "2020-03-01",
          "2020-04-01",
          "2020-06-01",
          "2020-07-01",
          "2020-08-01",
          "2020-09-01",
          "2020-10-01",
          "2020-11-01",
          "2020-12-01",
          "2021-02-01",
          "2021-03-01",
          "2021-04-01",
          "2021-05-01",
          "2021-06-01",
          "2021-07-01",
          "2021-08-01",
          "2021-09-01",
          "2021-10-01",
          "2021-11-01",
          "2021-12-01",
          "2022-01-01",
          "2022-02-01",
          "2022-03-01",
          "2022-05-01",
          "2022-06-01",
          "2022-08-01",
          "2022-09-01",
          "2022-10-01",
          "2022-11-01",
          "2022-12-01",
          "2023-01-01",
          "2023-02-01",
          "2023-03-01",
          "2023-04-01",
          "2023-05-01",
          "2023-06-01",
          "2023-08-01",
          "2023-09-01",
          "2023-10-01",
          "2023-11-01",
          "2023-12-01",
          "2024-01-01",
          "2024-02-01",
          "2024-03-01",
          "2024-04-01",
          "2024-05-01",
          "2024-06-01",
          "2024-07-01",
          "2024-09-01",
          "2024-10-01"
         ],
         "xaxis": "x",
         "y": {
          "bdata": "AAAAAACgZ0AAAAAAADBmQAAAAAAAwGVAAAAAAACAZkAAAAAAAGBmQAAAAAAAgGZAAAAAAACgZ0CrqqqqqgpoQAAAAAAAIGJAAAAAAACQZkAAAAAAAMBnQAAAAAAAoGdAAAAAAACgZ0AAAAAAAKBnQAAAAAAAwGdAAAAAAABQaEAAAAAAAFBmQAAAAAAA4GVAAAAAAADgZUAAAAAAAHBmQAAAAAAAoGdAVVVVVVU1ZkBVVVVVVTVnQAAAAAAAoGdAAAAAAACAZkBVVVVVVTVnQAAAAAAAoG1AAAAAAAB4cEAAAAAAAGBmQAAAAAAAoGdAAAAAAAAQbEAAAAAAACBmQAAAAAAAEGdAAAAAAACgZ0AAAAAAAKBnQAAAAAAAYGZAAAAAAACwZ0AAAAAAALBnQFVVVVVVVWdAAAAAAABgZkAAAAAAAOBoQM3MzMzMrGdAAAAAAABAZkAAAAAAAHhmQAAAAAAA4GZAAAAAAABQZkBVVVVVVTVtQAAAAAAAAGtAAAAAAABgZkAAAAAAABBnQAAAAAAA4GFAAAAAAACAZECrqqqqqspkQAAAAAAA7GRAAAAAAACIZkAAAAAAAMBnQAAAAAAAAGdAAAAAAADQZkAAAAAAAMBmQAAAAAAAgGZAAAAAAACAZkAAAAAAAIBmQAAAAAAAsGRAAAAAAADYZEAAAAAAAABmQAAAAAAAgGRAAAAAAACQZkAAAAAAAIBmQAAAAAAAYGZAAAAAAADwZkAAAAAAAABpQA==",
          "dtype": "f8"
         },
         "yaxis": "y"
        },
        {
         "hovertemplate": "Dock=U S BORAX BERTHS 165 & 166<br>=%{x}<br>Mean Vessel Length (m)=%{y}<extra></extra>",
         "legendgroup": "U S BORAX BERTHS 165 & 166",
         "line": {
          "color": "#ab63fa",
          "dash": "solid"
         },
         "marker": {
          "symbol": "circle"
         },
         "mode": "lines",
         "name": "U S BORAX BERTHS 165 & 166",
         "showlegend": true,
         "type": "scattergl",
         "x": [
          "2018-01-01",
          "2018-03-01",
          "2018-07-01",
          "2018-09-01",
          "2018-10-01",
          "2019-01-01",
          "2019-03-01",
          "2019-05-01",
          "2019-06-01",
          "2019-07-01",
          "2019-09-01",
          "2019-10-01",
          "2019-12-01",
          "2020-01-01",
          "2020-05-01",
          "2020-06-01",
          "2020-08-01",
          "2020-10-01",
          "2020-12-01",
          "2021-02-01",
          "2021-04-01",
          "2021-06-01",
          "2021-08-01",
          "2021-11-01",
          "2022-01-01",
          "2022-03-01",
          "2022-05-01",
          "2022-09-01",
          "2022-10-01",
          "2022-11-01",
          "2022-12-01",
          "2023-01-01",
          "2023-02-01",
          "2023-04-01",
          "2023-06-01",
          "2023-07-01",
          "2023-08-01",
          "2023-10-01",
          "2023-12-01",
          "2024-03-01",
          "2024-04-01",
          "2024-05-01",
          "2024-07-01",
          "2024-11-01",
          "2024-12-01"
         ],
         "xaxis": "x",
         "y": {
          "bdata": "AAAAAADgaEAAAAAAAOBoQAAAAAAAYGtAAAAAAADgaEAAAAAAAOBoQAAAAAAAgGdAAAAAAADgaEAAAAAAAOBoQAAAAAAAQGVAAAAAAADgaEAAAAAAAOBoQAAAAAAAwGVAAAAAAADgaEAAAAAAAGBmQAAAAAAA4GhAAAAAAADgaEAAAAAAAABnQAAAAAAA4GhAAAAAAADgaEAAAAAAAGBnQAAAAAAA4GhAAAAAAABgZ0AAAAAAAOBoQAAAAAAAgGdAAAAAAADgaEAAAAAAAOBoQAAAAAAAsGdAAAAAAABgZkAAAAAAAOBoQAAAAAAAIGZAAAAAAADgZUAAAAAAAOBoQAAAAAAAYGdAAAAAAABAZUAAAAAAAOBoQAAAAAAAgGZAAAAAAADgaEAAAAAAAOBoQAAAAAAA4GhAAAAAAADgaEAAAAAAAIBmQAAAAAAA4GhAAAAAAADgaEAAAAAAAOBoQAAAAAAA4GZA",
          "dtype": "f8"
         },
         "yaxis": "y"
        },
        {
         "hovertemplate": "Dock=RIO DOCE PASHA TERM BERTHS 177, 178 & 179<br>=%{x}<br>Mean Vessel Length (m)=%{y}<extra></extra>",
         "legendgroup": "RIO DOCE PASHA TERM BERTHS 177, 178 & 179",
         "line": {
          "color": "#FFA15A",
          "dash": "solid"
         },
         "marker": {
          "symbol": "circle"
         },
         "mode": "lines",
         "name": "RIO DOCE PASHA TERM BERTHS 177, 178 & 179",
         "showlegend": true,
         "type": "scattergl",
         "x": [
          "2018-01-01",
          "2018-02-01",
          "2018-03-01",
          "2018-04-01",
          "2018-05-01",
          "2018-06-01",
          "2018-07-01",
          "2018-08-01",
          "2018-09-01",
          "2018-10-01",
          "2018-11-01",
          "2018-12-01",
          "2019-01-01",
          "2019-02-01",
          "2019-03-01",
          "2019-04-01",
          "2019-05-01",
          "2019-06-01",
          "2019-07-01",
          "2019-08-01",
          "2019-09-01",
          "2019-10-01",
          "2019-11-01",
          "2019-12-01",
          "2020-01-01",
          "2020-02-01",
          "2020-03-01",
          "2020-04-01",
          "2020-05-01",
          "2020-06-01",
          "2020-07-01",
          "2020-08-01",
          "2020-09-01",
          "2020-10-01",
          "2020-11-01",
          "2020-12-01",
          "2021-01-01",
          "2021-02-01",
          "2021-03-01",
          "2021-04-01",
          "2021-05-01",
          "2021-06-01",
          "2021-08-01",
          "2021-09-01",
          "2021-10-01",
          "2021-11-01",
          "2021-12-01",
          "2022-01-01",
          "2022-02-01",
          "2022-03-01",
          "2022-04-01",
          "2022-05-01",
          "2022-06-01",
          "2022-07-01",
          "2022-08-01",
          "2022-09-01",
          "2022-10-01",
          "2022-11-01",
          "2022-12-01",
          "2023-01-01",
          "2023-02-01",
          "2023-03-01",
          "2023-04-01",
          "2023-05-01",
          "2023-06-01",
          "2023-07-01",
          "2023-08-01",
          "2023-09-01",
          "2023-10-01",
          "2023-11-01",
          "2023-12-01",
          "2024-01-01",
          "2024-02-01",
          "2024-03-01",
          "2024-04-01",
          "2024-05-01",
          "2024-06-01",
          "2024-07-01",
          "2024-08-01",
          "2024-09-01",
          "2024-10-01",
          "2024-11-01",
          "2024-12-01"
         ],
         "xaxis": "x",
         "y": {
          "bdata": "MzMzMzPTaUAAAAAAAFBsQKuqqqqqqmlAAAAAAACQaEBVVVVVVZVqQKuqqqqq2mlAAAAAAABga0AAAAAAAGRqQKuqqqqqOmtAAAAAAACgaUAAAAAAAAhrQKuqqqqqmmpAAAAAAACAbEAAAAAAACBpQAAAAAAAsGlAMzMzMzNTa0AAAAAAACBoQAAAAAAAUGlAAAAAAACoaUAAAAAAAEBpQLdt27Zte2hAmpmZmZk5akAAAAAAAMBoQAAAAAAA4GZAAAAAAADAaEAAAAAAAOBmQAAAAAAAwGhAAAAAAADgZkAAAAAAAOBmQAAAAAAAsGlAAAAAAADgZkAAAAAAANBnQAAAAAAAcGdAAAAAAADgZkAAAAAAAOBmQFVVVVVVlWhAAAAAAADgZkBVVVVVVdVmQJqZmZmZ+WdAVVVVVVXVZkAAAAAAAABoQJqZmZmZeWlAzczMzMwMZkAAAAAAAOhnQKuqqqqqampAAAAAAACgbUBVVVVVVdVmQAAAAAAAUGVAAAAAAADYZkCrqqqqqrpoQAAAAAAA4GZAzczMzMwMaEAAAAAAAGBoQAAAAAAAsGlAAAAAAADQZkAAAAAAAMBoQAAAAAAASGhAAAAAAADgaEAAAAAAALBpQAAAAAAAsGlAAAAAAACAbEAAAAAAAIBsQAAAAAAAgGxAAAAAAACAbEAAAAAAAIBsQAAAAAAAsGlAAAAAAADAaEAAAAAAAIBsQAAAAAAAOGhAAAAAAABgaECrqqqqqupnQKuqqqqqymZAAAAAAAAAaEDNzMzMzAxnQFVVVVVVVWhAAAAAAABIaEAAAAAAAKBnQCVJkiRJkmdAAAAAAAAYaEAAAAAAACBpQGZmZmZm5mhAZmZmZmbGZ0AAAAAAALBpQA==",
          "dtype": "f8"
         },
         "yaxis": "y"
        },
        {
         "hovertemplate": "Dock=PORT OF LOS ANGELES BERTH 267A<br>=%{x}<br>Mean Vessel Length (m)=%{y}<extra></extra>",
         "legendgroup": "PORT OF LOS ANGELES BERTH 267A",
         "line": {
          "color": "#19d3f3",
          "dash": "solid"
         },
         "marker": {
          "symbol": "circle"
         },
         "mode": "lines",
         "name": "PORT OF LOS ANGELES BERTH 267A",
         "showlegend": true,
         "type": "scattergl",
         "x": [
          "2018-01-01",
          "2018-02-01",
          "2018-03-01",
          "2018-04-01",
          "2018-05-01",
          "2018-06-01",
          "2018-07-01",
          "2018-08-01",
          "2018-09-01",
          "2018-10-01",
          "2018-11-01",
          "2018-12-01",
          "2019-01-01",
          "2019-04-01",
          "2019-05-01",
          "2019-06-01",
          "2019-07-01",
          "2019-08-01",
          "2019-09-01",
          "2019-10-01",
          "2019-12-01",
          "2020-01-01",
          "2020-02-01",
          "2020-03-01",
          "2020-04-01",
          "2020-05-01",
          "2020-06-01",
          "2020-07-01",
          "2020-08-01",
          "2020-09-01",
          "2020-10-01",
          "2020-11-01",
          "2020-12-01",
          "2021-01-01",
          "2021-02-01",
          "2021-03-01",
          "2021-04-01",
          "2021-05-01",
          "2021-06-01",
          "2021-07-01",
          "2021-08-01",
          "2021-09-01",
          "2021-10-01",
          "2021-11-01",
          "2021-12-01",
          "2022-01-01",
          "2022-02-01",
          "2022-03-01",
          "2022-04-01",
          "2022-05-01",
          "2022-06-01",
          "2022-07-01",
          "2022-08-01",
          "2022-09-01",
          "2022-10-01",
          "2022-11-01",
          "2022-12-01",
          "2023-01-01",
          "2023-02-01",
          "2023-03-01",
          "2023-04-01",
          "2023-05-01",
          "2023-06-01",
          "2023-07-01",
          "2023-08-01",
          "2023-09-01",
          "2023-10-01",
          "2023-11-01",
          "2023-12-01",
          "2024-01-01",
          "2024-02-01",
          "2024-03-01",
          "2024-04-01",
          "2024-05-01",
          "2024-06-01",
          "2024-07-01",
          "2024-08-01",
          "2024-09-01",
          "2024-10-01",
          "2024-11-01",
          "2024-12-01"
         ],
         "xaxis": "x",
         "y": {
          "bdata": "AAAAAABAcUAAAAAAAEBxQAAAAAAAIGtAAAAAAABAcUAAAAAAAERxQAAAAAAAoG9AAAAAAABAcUAAAAAAAGBmQAAAAAAABHJAAAAAAACocUAAAAAAAMBuQFVVVVVVZXJAAAAAAAAIckAAAAAAAAByQFVVVVVVZXJAAAAAAADwckAAAAAAADhyQAAAAAAAwHJAVVVVVVVlckAAAAAAAPByQFVVVVVVZXJAq6qqqqpackAAAAAAALByQAAAAAAAYHJAAAAAAAD4cUAAAAAAAOhyQAAAAAAA6HJAVVVVVVU1ckAAAAAAAEByQAAAAAAAMHBAAAAAAABQcEAAAAAAAFBxQAAAAAAAnHJAAAAAAAAIcUCrqqqqqppyQAAAAAAAqHJAAAAAAABgckByHMdxHHdyQBzHcRzHwXJAAAAAAACgckBVVVVVVV1yQAAAAAAASHJA27Zt27YtckAAAAAAAGxyQLdt27ZtS3JAAAAAAABucUBVVVVVVWVwQMdxHMdxPHJA6aKLLrpob0AAAAAAAGRyQAAAAAAAbnJAq6qqqqqycECSJEmSJBlyQAAAAAAAqHJAAAAAAABMckDNzMzMzJxyQGZmZmZmhnJAJUmSJElickCamZmZmZlyQAAAAAAAMHJAq6qqqqpqc0DNzMzMzDxyQKuqqqqqQnJAzczMzMw8ckAAAAAAAOhxQAAAAAAAnHJAAAAAAACIcUAzMzMzM1NyQGZmZmZmdnJAAAAAAACgckBVVVVVVZVyQKuqqqqqYnJAkiRJkiSZckAAAAAAAGRyQAAAAAAAYHJAAAAAAABwckBVVVVVVVVyQCVJkiRJgnFAq6qqqqpyckAAAAAAAIByQAAAAAAAYHJA",
          "dtype": "f8"
         },
         "yaxis": "y"
        },
        {
         "hovertemplate": "Dock=EVERPORT TERMINAL SERVICES CONTAINER PORT BERTHS 227-236<br>=%{x}<br>Mean Vessel Length (m)=%{y}<extra></extra>",
         "legendgroup": "EVERPORT TERMINAL SERVICES CONTAINER PORT BERTHS 227-236",
         "line": {
          "color": "#FF6692",
          "dash": "solid"
         },
         "marker": {
          "symbol": "circle"
         },
         "mode": "lines",
         "name": "EVERPORT TERMINAL SERVICES CONTAINER PORT BERTHS 227-236",
         "showlegend": true,
         "type": "scattergl",
         "x": [
          "2018-01-01",
          "2018-02-01",
          "2018-03-01",
          "2018-04-01",
          "2018-05-01",
          "2018-06-01",
          "2018-07-01",
          "2018-08-01",
          "2018-09-01",
          "2018-10-01",
          "2018-11-01",
          "2018-12-01",
          "2019-01-01",
          "2019-04-01",
          "2019-09-01",
          "2019-10-01",
          "2019-11-01",
          "2019-12-01",
          "2020-01-01",
          "2020-07-01",
          "2020-09-01",
          "2020-10-01",
          "2020-11-01",
          "2020-12-01",
          "2021-01-01",
          "2021-02-01",
          "2021-03-01",
          "2021-04-01",
          "2021-05-01",
          "2021-06-01",
          "2021-07-01",
          "2021-08-01",
          "2021-09-01",
          "2021-10-01",
          "2021-11-01",
          "2021-12-01",
          "2022-01-01",
          "2022-02-01",
          "2022-03-01",
          "2022-04-01",
          "2022-05-01",
          "2022-06-01",
          "2022-07-01",
          "2022-08-01",
          "2022-09-01",
          "2022-10-01",
          "2022-11-01",
          "2022-12-01",
          "2023-01-01",
          "2023-02-01",
          "2023-03-01",
          "2023-04-01",
          "2023-05-01",
          "2023-06-01",
          "2023-07-01",
          "2023-08-01",
          "2023-09-01",
          "2023-10-01",
          "2023-11-01",
          "2023-12-01",
          "2024-01-01",
          "2024-02-01",
          "2024-03-01",
          "2024-04-01",
          "2024-05-01",
          "2024-06-01",
          "2024-07-01",
          "2024-08-01",
          "2024-09-01",
          "2024-10-01",
          "2024-11-01",
          "2024-12-01"
         ],
         "xaxis": "x",
         "y": {
          "bdata": "AAAAAADIdECrqqqqqmpzQAAAAAAAAHNAAAAAAABgc0AAAAAAAGByQFVVVVVVJXRAAAAAAADOc0AAAAAAAERzQFVVVVVVtXJAAAAAAADQc0AAAAAAADxzQDMzMzMzI3NAAAAAAAA8c0AAAAAAAGByQEmSJEmSpHNAchzHcRznc0AAAAAAABJ0QBzHcRzHkXNAAAAAAAAAdEAAAAAAAABlQAAAAAAA4HRAchzHcRw3c0AAAAAAAD5zQEmSJEmSpHNAAAAAAABwdECrqqqqqmpzQKuqqqqqKnRAAAAAAADIc0AAAAAAAOB0QFVVVVVV1XNAzczMzMz8c0AAAAAAAPBzQJqZmZmZ6XBAVVVVVVXdcEAAAAAAAJBxQAAAAAAA5HRAAAAAAAAgdECrqqqqqip0QKuqqqqqgnRAAAAAAABcdEAAAAAAAEB0QAAAAAAA4HRAAAAAAADgdEAAAAAAAOB0QAAAAAAA4HRAAAAAAADgdEAAAAAAAMByQAAAAAAAkHNAAAAAAABYdEAAAAAAAHBzQAAAAAAAWHRAAAAAAABgdEAAAAAAAOB0QKuqqqqq6nRAAAAAAADgdEAAAAAAAMhzQAAAAAAAyHNAVVVVVVUldEAAAAAAANh1QAAAAAAA4HRAAAAAAADodEBVVVVVVd10QAAAAAAA5HRAAAAAAADgdEAAAAAAANh0QAAAAAAAgHVAAAAAAADcdUAAAAAAAOB1QAAAAAAA4HZAAAAAAABcdkAAAAAAAOB2QAAAAAAAYHZA",
          "dtype": "f8"
         },
         "yaxis": "y"
        },
        {
         "hovertemplate": "Dock=PORT OF LOS ANGELES BERTHS 268 PIERS A & B<br>=%{x}<br>Mean Vessel Length (m)=%{y}<extra></extra>",
         "legendgroup": "PORT OF LOS ANGELES BERTHS 268 PIERS A & B",
         "line": {
          "color": "#B6E880",
          "dash": "solid"
         },
         "marker": {
          "symbol": "circle"
         },
         "mode": "lines",
         "name": "PORT OF LOS ANGELES BERTHS 268 PIERS A & B",
         "showlegend": true,
         "type": "scattergl",
         "x": [
          "2018-01-01",
          "2018-02-01",
          "2018-03-01",
          "2018-04-01",
          "2018-05-01",
          "2018-06-01",
          "2018-07-01",
          "2018-08-01",
          "2018-09-01",
          "2018-10-01",
          "2018-11-01",
          "2018-12-01",
          "2019-01-01",
          "2019-02-01",
          "2019-03-01",
          "2019-04-01",
          "2019-05-01",
          "2019-06-01",
          "2019-07-01",
          "2019-08-01",
          "2019-09-01",
          "2019-10-01",
          "2019-11-01",
          "2019-12-01",
          "2020-01-01",
          "2020-03-01",
          "2020-04-01",
          "2020-05-01",
          "2020-06-01",
          "2020-07-01",
          "2020-08-01",
          "2020-09-01",
          "2020-10-01",
          "2020-11-01",
          "2020-12-01",
          "2021-01-01",
          "2021-02-01",
          "2021-03-01",
          "2021-06-01",
          "2021-07-01",
          "2021-09-01",
          "2021-11-01",
          "2021-12-01",
          "2022-01-01",
          "2022-02-01",
          "2022-04-01",
          "2022-07-01",
          "2022-09-01",
          "2022-12-01",
          "2023-01-01",
          "2023-04-01",
          "2023-07-01",
          "2023-08-01",
          "2023-10-01",
          "2023-11-01",
          "2024-01-01",
          "2024-02-01",
          "2024-03-01",
          "2024-04-01",
          "2024-05-01",
          "2024-06-01",
          "2024-08-01",
          "2024-09-01",
          "2024-10-01",
          "2024-11-01",
          "2024-12-01"
         ],
         "xaxis": "x",
         "y": {
          "bdata": "AAAAAABgZUAAAAAAAKBtQAAAAAAAQHFAzczMzMxccECrqqqqqnJzQAAAAAAAmHNAAAAAAABgcUAAAAAAAAByQAAAAAAA4HVAVVVVVVXVc0CamZmZmclyQFVVVVVVdXBAAAAAAAC4cEBVVVVVVWVyQAAAAAAA0HJAq6qqqqo6ckBVVVVVVfV0QGZmZmZmBnRAAAAAAADQdEAAAAAAABx0QFVVVVVVZXVAAAAAAAC0dEBVVVVVVY10QAAAAAAAMHZAAAAAAADIdUCrqqqqqrp0QAAAAAAAMHZAVVVVVVVldEAAAAAAAFBxQAAAAAAAsHVAAAAAAAAwdEAAAAAAADB2QAAAAAAA4G5AAAAAAADYbEAAAAAAAABqQKuqqqqqCmpAAAAAAAAQakAAAAAAADBsQAAAAAAAOHZAAAAAAABgckAAAAAAAKRzQAAAAAAAIHBAAAAAAACwdkCrqqqqqqpxQAAAAAAAsHZAAAAAAABgckAAAAAAAGByQAAAAAAAcHJAAAAAAACwdkAAAAAAAGByQAAAAAAAsHZAAAAAAABQcUAAAAAAAAB1QAAAAAAAsHJAAAAAAADgbEAAAAAAAKRxQAAAAAAAwHJAAAAAAAB4c0AAAAAAAPBzQAAAAAAAwHJAq6qqqqoKckAAAAAAACBrQAAAAAAAwHRAAAAAAACIbkAAAAAAAGByQAAAAAAApHNA",
          "dtype": "f8"
         },
         "yaxis": "y"
        },
        {
         "hovertemplate": "Dock=SHELL OIL PRODUCTS CO BERTHS 167-169<br>=%{x}<br>Mean Vessel Length (m)=%{y}<extra></extra>",
         "legendgroup": "SHELL OIL PRODUCTS CO BERTHS 167-169",
         "line": {
          "color": "#FF97FF",
          "dash": "solid"
         },
         "marker": {
          "symbol": "circle"
         },
         "mode": "lines",
         "name": "SHELL OIL PRODUCTS CO BERTHS 167-169",
         "showlegend": true,
         "type": "scattergl",
         "x": [
          "2018-01-01",
          "2018-02-01",
          "2018-04-01",
          "2018-05-01",
          "2018-06-01",
          "2018-07-01",
          "2018-08-01",
          "2018-09-01",
          "2018-10-01",
          "2018-11-01",
          "2018-12-01",
          "2019-01-01",
          "2019-02-01",
          "2019-03-01",
          "2019-04-01",
          "2019-05-01",
          "2019-06-01",
          "2019-07-01",
          "2019-08-01",
          "2019-09-01",
          "2019-10-01",
          "2019-11-01",
          "2019-12-01",
          "2020-01-01",
          "2020-02-01",
          "2020-03-01",
          "2020-04-01",
          "2020-05-01",
          "2020-07-01",
          "2020-08-01",
          "2020-09-01",
          "2020-10-01",
          "2020-11-01",
          "2021-01-01",
          "2021-02-01",
          "2021-03-01",
          "2021-04-01",
          "2021-05-01",
          "2021-06-01",
          "2021-07-01",
          "2021-08-01",
          "2021-09-01",
          "2021-10-01",
          "2021-11-01",
          "2021-12-01",
          "2022-01-01",
          "2022-02-01",
          "2022-03-01",
          "2022-04-01",
          "2022-05-01",
          "2022-06-01",
          "2022-07-01",
          "2022-08-01",
          "2022-09-01",
          "2022-10-01",
          "2023-02-01",
          "2023-03-01",
          "2023-04-01",
          "2023-05-01",
          "2023-06-01",
          "2023-07-01",
          "2023-08-01",
          "2023-09-01",
          "2023-10-01",
          "2023-11-01",
          "2023-12-01",
          "2024-01-01",
          "2024-02-01",
          "2024-03-01",
          "2024-04-01",
          "2024-05-01",
          "2024-06-01",
          "2024-07-01",
          "2024-08-01",
          "2024-09-01",
          "2024-10-01",
          "2024-11-01",
          "2024-12-01"
         ],
         "xaxis": "x",
         "y": {
          "bdata": "AAAAAAAAZ0AAAAAAAOBjQAAAAAAAsGlAAAAAAADgZkAAAAAAAOBmQAAAAAAA4GZAAAAAAABAZEAAAAAAAMBmQAAAAAAA4GZAAAAAAABgZkAAAAAAAOBmQAAAAAAA4GZAAAAAAADgZkDNzMzMzMxmQFVVVVVVlWZAAAAAAAC0ZkAAAAAAANBmQAAAAAAA4GZAq6qqqqrqZkAAAAAAAOBmQAAAAAAA2GZAAAAAAADgZkAAAAAAAOBmQAAAAAAA4GZAAAAAAADAZkAAAAAAAMBmQAAAAAAA4GZAAAAAAADgZkAAAAAAAJhmQAAAAAAA0GZAAAAAAADgZkAAAAAAAOBmQAAAAAAA4GZAVVVVVVXVZkCrqqqqqqpmQAAAAAAAAGdAAAAAAADgZkCrqqqqqqpoQKuqqqqqqmlAzczMzMzMZkCamZmZmdlmQAAAAAAA4GZAq6qqqqqqZkAAAAAAAOBmQAAAAAAAAGdAAAAAAADgZkAAAAAAAOBmQAAAAAAA4GZAAAAAAADgZ0AAAAAAAOBmQAAAAAAA4GZAVVVVVVXVZkAAAAAAAOBmQAAAAAAA4GZAAAAAAADgZkAAAAAAAABnQFVVVVVVlWdAAAAAAADgZkAAAAAAAOBmQAAAAAAAEGdAAAAAAAAQZ0AAAAAAAOBmQAAAAAAA4GZAAAAAAADgZkAAAAAAAOBmQAAAAAAA4GZAAAAAAADgZkAAAAAAAOBmQM3MzMzM7GZAAAAAAABAZ0AAAAAAAOBmQAAAAAAA4GZAAAAAAAAgaUAAAAAAAOBmQAAAAAAA4GZAAAAAAACAZEAAAAAAABBnQAAAAAAA4GZA",
          "dtype": "f8"
         },
         "yaxis": "y"
        },
        {
         "hovertemplate": "Dock=BERTH 163 NUSTAR ENERGY<br>=%{x}<br>Mean Vessel Length (m)=%{y}<extra></extra>",
         "legendgroup": "BERTH 163 NUSTAR ENERGY",
         "line": {
          "color": "#FECB52",
          "dash": "solid"
         },
         "marker": {
          "symbol": "circle"
         },
         "mode": "lines",
         "name": "BERTH 163 NUSTAR ENERGY",
         "showlegend": true,
         "type": "scattergl",
         "x": [
          "2018-01-01",
          "2018-02-01",
          "2018-03-01",
          "2018-04-01",
          "2018-05-01",
          "2018-06-01",
          "2018-07-01",
          "2018-08-01",
          "2018-09-01",
          "2018-10-01",
          "2018-11-01",
          "2018-12-01",
          "2019-01-01",
          "2019-02-01",
          "2019-03-01",
          "2019-04-01",
          "2019-05-01",
          "2019-06-01",
          "2019-07-01",
          "2019-09-01",
          "2019-10-01",
          "2019-11-01",
          "2019-12-01",
          "2020-01-01",
          "2020-02-01",
          "2020-03-01",
          "2020-04-01",
          "2020-05-01",
          "2020-06-01",
          "2020-07-01",
          "2020-08-01",
          "2020-09-01",
          "2020-10-01",
          "2020-11-01",
          "2020-12-01",
          "2021-01-01",
          "2021-02-01",
          "2021-03-01",
          "2021-04-01",
          "2021-05-01",
          "2021-06-01",
          "2021-07-01",
          "2021-08-01",
          "2021-09-01",
          "2021-10-01",
          "2021-11-01",
          "2021-12-01",
          "2022-01-01",
          "2022-02-01",
          "2022-03-01",
          "2022-04-01",
          "2022-05-01",
          "2022-06-01",
          "2022-07-01",
          "2022-08-01",
          "2022-09-01",
          "2022-10-01",
          "2022-11-01",
          "2022-12-01",
          "2023-01-01",
          "2023-02-01",
          "2023-03-01",
          "2023-04-01",
          "2023-05-01",
          "2023-06-01",
          "2023-07-01",
          "2023-08-01",
          "2023-09-01",
          "2023-10-01",
          "2023-11-01",
          "2023-12-01",
          "2024-01-01",
          "2024-02-01",
          "2024-03-01",
          "2024-04-01",
          "2024-05-01",
          "2024-06-01",
          "2024-07-01",
          "2024-08-01",
          "2024-09-01",
          "2024-10-01",
          "2024-11-01",
          "2024-12-01"
         ],
         "xaxis": "x",
         "y": {
          "bdata": "AAAAAACAbEAAAAAAAKBqQAAAAAAAgGxAVVVVVVUVakAAAAAAAIBsQAAAAAAAcGxAAAAAAACAbEAAAAAAAHBsQAAAAAAAeGxAAAAAAADQaEBVVVVVVbVpQAAAAAAAYGxAAAAAAABQaUAAAAAAAKBqQM3MzMzM7GhAAAAAAACAbEAAAAAAAKhpQAAAAAAAwGlAAAAAAAAAZkBVVVVVVTVoQM3MzMzM7GlAq6qqqqrKaEDNzMzMzMxnQAAAAAAAgGVAAAAAAABQZkAAAAAAAFBlQFVVVVVV9WVAAAAAAABgZkAAAAAAAMBpQKuqqqqqSmhAVVVVVVXVaEAAAAAAAMBmQAAAAAAAwGVAAAAAAAAwZEAAAAAAAIBmQAAAAAAA4GZAAAAAAABgZkAAAAAAAOBmQJqZmZmZGWlAAAAAAABQZkAAAAAAAFBoQAAAAAAAQGhAAAAAAADgZkCrqqqqqupmQAAAAAAAQGdAAAAAAADgZkAAAAAAAOBmQAAAAAAAKHBAAAAAAADgZkAAAAAAAOBmQAAAAAAAwGlAAAAAAADAZkAAAAAAAMBoQAAAAAAAIGhAq6qqqqqKaEAAAAAAAMBmQAAAAAAA4GZAAAAAAABAaEAAAAAAANBmQKuqqqqqymhAAAAAAAAgaUBmZmZmZgZnQAAAAAAAQGhAq6qqqqrKZkAAAAAAAABoQAAAAAAASGhAAAAAAADgZkAAAAAAAOBmQAAAAAAAQGZAAAAAAACAbEAAAAAAAGBoQAAAAAAAQGdAAAAAAABAZ0AAAAAAACBnQAAAAAAAEGdAAAAAAAAQZ0AAAAAAAEBnQAAAAAAAIGdAAAAAAABAZ0AAAAAAAEBnQAAAAAAAQGdAAAAAAABAZ0AAAAAAAEBnQA==",
          "dtype": "f8"
         },
         "yaxis": "y"
        },
        {
         "hovertemplate": "Dock=S. S. LANE VICTORY BERTH 94<br>=%{x}<br>Mean Vessel Length (m)=%{y}<extra></extra>",
         "legendgroup": "S. S. LANE VICTORY BERTH 94",
         "line": {
          "color": "#636efa",
          "dash": "solid"
         },
         "marker": {
          "symbol": "circle"
         },
         "mode": "lines",
         "name": "S. S. LANE VICTORY BERTH 94",
         "showlegend": true,
         "type": "scattergl",
         "x": [
          "2018-02-01",
          "2018-04-01",
          "2018-05-01",
          "2019-03-01",
          "2019-04-01",
          "2019-06-01",
          "2019-07-01",
          "2019-08-01",
          "2019-09-01",
          "2020-02-01",
          "2020-03-01",
          "2020-05-01",
          "2020-08-01",
          "2020-09-01",
          "2022-11-01"
         ],
         "xaxis": "x",
         "y": {
          "bdata": "AAAAAACwckCrqqqqqrpyQAAAAAAAuHJAAAAAAADAckAAAAAAALhyQAAAAAAAuHJAAAAAAADAckAAAAAAALByQAAAAAAAwHJAAAAAAADAckAAAAAAALhyQAAAAAAAwHJAAAAAAAC4ckAAAAAAANBzQAAAAAAAwHJA",
          "dtype": "f8"
         },
         "yaxis": "y"
        },
        {
         "hovertemplate": "Dock=RIO DOCE PASHA TERM BERTHS 174, 175 & 176<br>=%{x}<br>Mean Vessel Length (m)=%{y}<extra></extra>",
         "legendgroup": "RIO DOCE PASHA TERM BERTHS 174, 175 & 176",
         "line": {
          "color": "#EF553B",
          "dash": "solid"
         },
         "marker": {
          "symbol": "circle"
         },
         "mode": "lines",
         "name": "RIO DOCE PASHA TERM BERTHS 174, 175 & 176",
         "showlegend": true,
         "type": "scattergl",
         "x": [
          "2018-02-01",
          "2018-03-01",
          "2018-04-01",
          "2018-05-01",
          "2018-07-01",
          "2018-08-01",
          "2018-09-01",
          "2018-10-01",
          "2018-12-01",
          "2019-01-01",
          "2019-02-01",
          "2019-03-01",
          "2019-04-01",
          "2019-05-01",
          "2019-06-01",
          "2019-07-01",
          "2019-09-01",
          "2019-10-01",
          "2019-11-01",
          "2019-12-01",
          "2020-01-01",
          "2020-02-01",
          "2020-03-01",
          "2020-05-01",
          "2020-07-01",
          "2020-09-01",
          "2020-10-01",
          "2020-11-01",
          "2020-12-01",
          "2021-01-01",
          "2021-02-01",
          "2021-03-01",
          "2021-04-01",
          "2021-05-01",
          "2021-06-01",
          "2021-07-01",
          "2021-08-01",
          "2021-09-01",
          "2021-10-01",
          "2021-11-01",
          "2021-12-01",
          "2022-02-01",
          "2022-03-01",
          "2022-04-01",
          "2022-05-01",
          "2022-06-01",
          "2022-07-01",
          "2022-08-01",
          "2022-09-01",
          "2022-10-01",
          "2022-11-01",
          "2022-12-01",
          "2023-01-01",
          "2023-02-01",
          "2023-03-01",
          "2023-04-01",
          "2023-05-01",
          "2023-06-01",
          "2023-07-01",
          "2023-08-01",
          "2023-09-01",
          "2023-10-01",
          "2023-11-01",
          "2023-12-01",
          "2024-01-01",
          "2024-02-01",
          "2024-03-01",
          "2024-04-01",
          "2024-05-01",
          "2024-06-01",
          "2024-07-01",
          "2024-08-01",
          "2024-09-01",
          "2024-10-01",
          "2024-11-01",
          "2024-12-01"
         ],
         "xaxis": "x",
         "y": {
          "bdata": "AAAAAABAaEAAAAAAAEBoQAAAAAAAkGhAAAAAAABAZUAAAAAAAEBoQM3MzMzMrGdAVVVVVVVVaEAAAAAAAIhoQAAAAAAAQGZAAAAAAAAAZ0CamZmZmZlnQAAAAAAAAGdAAAAAAABQaEAAAAAAAKBnQAAAAAAAAGdAAAAAAACgZkAAAAAAAABmQFVVVVVVdWhAVVVVVVWVZ0CrqqqqqmpoQAAAAAAAoGdAAAAAAABgZkAAAAAAAOBoQAAAAAAAQGhAAAAAAADAaEAAAAAAAEhpQAAAAAAA4GhAAAAAAADgaEAAAAAAAKBnQAAAAAAAAGdAAAAAAAAAaEAAAAAAAABoQAAAAAAA4GhAAAAAAABwZ0DNzMzMzMxmQM3MzMzMbGZAAAAAAAAgZ0CrqqqqqvpnQAAAAAAA4GhAAAAAAACgZ0AAAAAAAPBoQAAAAAAAEGlAt23btm0baEAAAAAAAPBoQAAAAAAAQGhAAAAAAADwZ0AAAAAAAEhoQKuqqqqq2mZAMzMzMzOTaEAAAAAAALBnQKuqqqqq6mZAbtu2bdvWZkAAAAAAAFhmQKuqqqqqimdAAAAAAACgZ0CrqqqqqqpnQAAAAAAA+GdAVVVVVVU1aEAAAAAAALhnQFVVVVVVlWhAVVVVVVW1Z0BVVVVVVRVmQKuqqqqqqmlAVVVVVVX1ZkAAAAAAAOBoQAAAAAAACGhAAAAAAADIZ0AAAAAAAFBoQAAAAAAAIGlAAAAAAADgZ0CrqqqqqkpnQFVVVVVV1WdAAAAAAAAIaEAAAAAAABBnQKuqqqqqymZAAAAAAAAwbUA=",
          "dtype": "f8"
         },
         "yaxis": "y"
        },
        {
         "hovertemplate": "Dock=CHINA SHIPPING CONTANER TERMINAL (WBCT) 101-102<br>=%{x}<br>Mean Vessel Length (m)=%{y}<extra></extra>",
         "legendgroup": "CHINA SHIPPING CONTANER TERMINAL (WBCT) 101-102",
         "line": {
          "color": "#00cc96",
          "dash": "solid"
         },
         "marker": {
          "symbol": "circle"
         },
         "mode": "lines",
         "name": "CHINA SHIPPING CONTANER TERMINAL (WBCT) 101-102",
         "showlegend": true,
         "type": "scattergl",
         "x": [
          "2018-02-01",
          "2018-03-01",
          "2018-04-01",
          "2018-05-01",
          "2018-06-01",
          "2018-07-01",
          "2018-08-01",
          "2018-09-01",
          "2018-10-01",
          "2018-11-01",
          "2018-12-01",
          "2019-01-01",
          "2019-02-01",
          "2019-03-01",
          "2019-04-01",
          "2019-05-01",
          "2019-06-01",
          "2019-07-01",
          "2019-08-01",
          "2019-09-01",
          "2019-10-01",
          "2019-11-01",
          "2019-12-01",
          "2020-01-01",
          "2020-02-01",
          "2020-03-01",
          "2020-04-01",
          "2020-05-01",
          "2020-06-01",
          "2020-07-01",
          "2020-08-01",
          "2020-09-01",
          "2020-10-01",
          "2020-11-01",
          "2020-12-01",
          "2021-01-01",
          "2021-02-01",
          "2021-03-01",
          "2021-04-01",
          "2021-05-01",
          "2021-06-01",
          "2021-07-01",
          "2021-08-01",
          "2021-09-01",
          "2021-10-01",
          "2021-12-01",
          "2022-01-01",
          "2022-02-01",
          "2022-03-01",
          "2022-04-01",
          "2022-05-01",
          "2022-06-01",
          "2022-07-01",
          "2022-08-01",
          "2022-09-01",
          "2022-10-01",
          "2022-11-01",
          "2022-12-01",
          "2023-01-01",
          "2023-02-01",
          "2023-03-01",
          "2023-04-01",
          "2023-05-01",
          "2023-06-01",
          "2023-07-01",
          "2023-08-01",
          "2023-09-01",
          "2023-10-01",
          "2023-11-01",
          "2023-12-01",
          "2024-01-01",
          "2024-02-01",
          "2024-03-01",
          "2024-04-01",
          "2024-05-01",
          "2024-06-01",
          "2024-07-01",
          "2024-08-01",
          "2024-09-01",
          "2024-10-01",
          "2024-11-01",
          "2024-12-01"
         ],
         "xaxis": "x",
         "y": {
          "bdata": "AAAAAADwckCrqqqqqtpxQKuqqqqq2nJAMzMzMzPjc0AAAAAAAKxzQEmSJEmSVHNAVVVVVVWNckAAAAAAAERzQG7btm3b5nJAVVVVVVWVckCrqqqqqtJyQAAAAAAA8HJAAAAAAADMckB00UUXXTRzQAAAAAAA4HNASZIkSZIEdEAAAAAAAGBzQAAAAAAAYHNAJUmSJEnCc0AAAAAAAPhyQAAAAAAA4HJAAAAAAADwckBmZmZmZsZyQAAAAAAA+HJAAAAAAADgckAAAAAAAJhyQEmSJEmSBHNAAAAAAAAQc0DNzMzMzBxyQAAAAAAAEHVAAAAAAABQdECrqqqqqrJ0QAAAAAAAYHRAq6qqqqr6ckAAAAAAAGh0QFVVVVVVhXNAAAAAAABAdEAAAAAAANhzQAAAAAAAQHNAJUmSJElCdEDNzMzMzCxxQEmSJEmSJHFAAAAAAABAc0BVVVVVVcVxQAAAAAAAiHFAAAAAAACoc0Bu27Zt2yZ0QAAAAAAAEHRAAAAAAAAgdEBVVVVVVdV0QGZmZmZm1nRAq6qqqqoqdUBmZmZmZqZyQAAAAAAA0HRAAAAAAAAwdEBmZmZmZpZzQAAAAAAASHRAAAAAAABgdEAAAAAAAGBzQAAAAAAATHVAAAAAAADQdEAAAAAAAMByQJqZmZmZSXRAAAAAAACCc0AAAAAAAPBzQHIcx3Ecp3RAJUmSJEnic0AAAAAAAIh0QKuqqqqqenNA0UUXXXSBc0Cjiy666LJzQGZmZmZmZnRAq6qqqqrac0BVVVVVVcVzQEmSJEmSdHJAVVVVVVUddEAAAAAAAPBzQDMzMzMze3NAmpmZmZnZcUAAAAAAAL5yQAAAAAAA5nJAbtu2bdtGcUA=",
          "dtype": "f8"
         },
         "yaxis": "y"
        },
        {
         "hovertemplate": "Dock=SAN PEDRO BOAT WORKS BERTH 57<br>=%{x}<br>Mean Vessel Length (m)=%{y}<extra></extra>",
         "legendgroup": "SAN PEDRO BOAT WORKS BERTH 57",
         "line": {
          "color": "#ab63fa",
          "dash": "solid"
         },
         "marker": {
          "symbol": "circle"
         },
         "mode": "lines",
         "name": "SAN PEDRO BOAT WORKS BERTH 57",
         "showlegend": true,
         "type": "scattergl",
         "x": [
          "2018-03-01",
          "2019-04-01",
          "2020-01-01",
          "2020-03-01",
          "2022-01-01",
          "2023-01-01",
          "2024-04-01"
         ],
         "xaxis": "x",
         "y": {
          "bdata": "AAAAAABgY0AAAAAAAIBkQAAAAAAAAGJAAAAAAAAAY0AAAAAAAKBiQAAAAAAAgGRAAAAAAADAYkA=",
          "dtype": "f8"
         },
         "yaxis": "y"
        },
        {
         "hovertemplate": "Dock=BERTH 164 VALERO ENERGY<br>=%{x}<br>Mean Vessel Length (m)=%{y}<extra></extra>",
         "legendgroup": "BERTH 164 VALERO ENERGY",
         "line": {
          "color": "#FFA15A",
          "dash": "solid"
         },
         "marker": {
          "symbol": "circle"
         },
         "mode": "lines",
         "name": "BERTH 164 VALERO ENERGY",
         "showlegend": true,
         "type": "scattergl",
         "x": [
          "2018-03-01",
          "2018-04-01",
          "2018-05-01",
          "2018-06-01",
          "2019-02-01",
          "2019-07-01",
          "2019-11-01",
          "2021-05-01",
          "2021-10-01",
          "2021-11-01",
          "2021-12-01",
          "2023-04-01",
          "2023-05-01",
          "2023-09-01",
          "2023-10-01",
          "2024-03-01",
          "2024-04-01",
          "2024-05-01",
          "2024-06-01",
          "2024-10-01"
         ],
         "xaxis": "x",
         "y": {
          "bdata": "AAAAAADgZkAAAAAAAOBmQAAAAAAA4GhAAAAAAADgZkAAAAAAAOBmQAAAAAAAAGZAAAAAAADgZkAAAAAAAOBmQAAAAAAAQGdAAAAAAABAZ0AAAAAAAEBnQAAAAAAA4GhAAAAAAADgZkAAAAAAAOBmQAAAAAAAgGdAAAAAAAAAZ0AAAAAAAABnQAAAAAAAAGdAAAAAAACgZ0AAAAAAAABnQA==",
          "dtype": "f8"
         },
         "yaxis": "y"
        },
        {
         "hovertemplate": "Dock=CATALINA EXPRESS GATES 3 & 4, BERTH 95<br>=%{x}<br>Mean Vessel Length (m)=%{y}<extra></extra>",
         "legendgroup": "CATALINA EXPRESS GATES 3 & 4, BERTH 95",
         "line": {
          "color": "#19d3f3",
          "dash": "solid"
         },
         "marker": {
          "symbol": "circle"
         },
         "mode": "lines",
         "name": "CATALINA EXPRESS GATES 3 & 4, BERTH 95",
         "showlegend": true,
         "type": "scattergl",
         "x": [
          "2018-03-01",
          "2018-05-01",
          "2018-08-01",
          "2018-09-01",
          "2018-10-01",
          "2018-11-01",
          "2018-12-01",
          "2019-02-01",
          "2019-03-01",
          "2019-04-01",
          "2019-05-01",
          "2019-08-01",
          "2019-09-01",
          "2019-10-01",
          "2019-11-01",
          "2019-12-01",
          "2020-01-01",
          "2020-02-01",
          "2020-04-01",
          "2020-06-01",
          "2020-07-01",
          "2020-09-01",
          "2020-10-01",
          "2020-11-01",
          "2020-12-01",
          "2021-01-01",
          "2021-03-01",
          "2021-04-01",
          "2021-05-01",
          "2021-06-01",
          "2021-07-01",
          "2021-08-01",
          "2021-10-01",
          "2021-11-01",
          "2022-03-01",
          "2022-04-01",
          "2022-05-01",
          "2022-06-01",
          "2022-07-01",
          "2022-08-01",
          "2022-09-01",
          "2022-11-01",
          "2022-12-01",
          "2023-01-01",
          "2023-02-01",
          "2023-03-01",
          "2023-04-01",
          "2023-05-01",
          "2023-06-01",
          "2023-07-01",
          "2023-08-01",
          "2023-09-01",
          "2023-11-01",
          "2023-12-01",
          "2024-01-01",
          "2024-02-01",
          "2024-03-01",
          "2024-04-01",
          "2024-05-01",
          "2024-06-01",
          "2024-07-01",
          "2024-08-01",
          "2024-09-01",
          "2024-10-01",
          "2024-11-01",
          "2024-12-01"
         ],
         "xaxis": "x",
         "y": {
          "bdata": "AAAAAACwckAAAAAAAOhyQAAAAAAA8HRAAAAAAACwckAAAAAAAPB0QAAAAAAAYHJAAAAAAADwdEAAAAAAAPB0QAAAAAAA8HRAAAAAAABodUAAAAAAAOB0QKuqqqqqmnVAAAAAAADgdkAAAAAAAOB2QAAAAAAA4HZAAAAAAADgdkAAAAAAAOB2QAAAAAAAYHVAAAAAAADIdEAAAAAAANB0QAAAAAAAoGdAAAAAAACgZ0AAAAAAADB0QAAAAAAAdHZAAAAAAADQcUAAAAAAAOB2QAAAAAAA0HZAq6qqqqradkAAAAAAANB2QAAAAAAAqHFAAAAAAABYdUAAAAAAAOB0QAAAAAAA4HVAAAAAAACQc0AAAAAAANB0QFVVVVVVJXNAAAAAAADQdkAAAAAAANB1QAAAAAAA0HRAq6qqqqo6dkAAAAAAAMh0QAAAAAAAsHNAzczMzMx8dUAAAAAAALh0QAAAAAAAgHRAAAAAAACkdEAAAAAAAOB0QDMzMzMzI3RAAAAAAADQdEAAAAAAAEB0QAAAAAAAtHNAAAAAAADAckAzMzMzM/N0QKuqqqqqenVAMzMzMzMDdkAAAAAAANB0QAAAAAAAZHRAq6qqqqqqdEAAAAAAAHBzQAAAAAAAwHJAAAAAAACodECrqqqqqnpzQKuqqqqqqnRAAAAAAACYc0AAAAAAALh0QAAAAAAAyHNA",
          "dtype": "f8"
         },
         "yaxis": "y"
        },
        {
         "hovertemplate": "Dock=RIO DOCE PASHA TERMINAL BERTH 144, 145 & 146<br>=%{x}<br>Mean Vessel Length (m)=%{y}<extra></extra>",
         "legendgroup": "RIO DOCE PASHA TERMINAL BERTH 144, 145 & 146",
         "line": {
          "color": "#FF6692",
          "dash": "solid"
         },
         "marker": {
          "symbol": "circle"
         },
         "mode": "lines",
         "name": "RIO DOCE PASHA TERMINAL BERTH 144, 145 & 146",
         "showlegend": true,
         "type": "scattergl",
         "x": [
          "2018-04-01",
          "2018-05-01",
          "2018-06-01",
          "2018-07-01",
          "2018-08-01",
          "2018-09-01",
          "2018-10-01",
          "2018-11-01",
          "2018-12-01",
          "2019-01-01",
          "2019-02-01",
          "2019-03-01",
          "2019-04-01",
          "2020-02-01",
          "2020-04-01",
          "2020-05-01",
          "2020-06-01",
          "2020-07-01",
          "2020-08-01",
          "2020-09-01",
          "2020-10-01",
          "2020-11-01",
          "2020-12-01",
          "2021-01-01",
          "2021-02-01",
          "2021-03-01",
          "2021-04-01",
          "2021-05-01",
          "2021-06-01",
          "2021-07-01",
          "2021-08-01",
          "2021-09-01",
          "2021-10-01",
          "2021-11-01",
          "2021-12-01",
          "2022-01-01",
          "2022-02-01",
          "2022-03-01",
          "2022-04-01",
          "2022-05-01",
          "2022-06-01",
          "2022-07-01",
          "2022-08-01",
          "2022-09-01",
          "2022-10-01",
          "2022-11-01",
          "2022-12-01",
          "2023-01-01",
          "2023-02-01",
          "2023-03-01",
          "2023-04-01",
          "2024-03-01",
          "2024-04-01",
          "2024-06-01",
          "2024-08-01",
          "2024-09-01",
          "2024-10-01",
          "2024-11-01",
          "2024-12-01"
         ],
         "xaxis": "x",
         "y": {
          "bdata": "AAAAAADAcUAAAAAAALxyQAAAAAAAIHNAzczMzMzMckAAAAAAANByQKuqqqqq2nJAAAAAAADgckAzMzMzM0NzQAAAAAAAGHNAzczMzMwsc0CrqqqqqlpzQAAAAAAA8HRAVVVVVVU1dEAAAAAAANB0QAAAAAAAUHJAAAAAAABgckAAAAAAAGByQAAAAAAAYHJAZmZmZmbWckAAAAAAAK5yQAAAAAAAKHRAq6qqqqrqc0AAAAAAAFh0QFVVVVVV5XRAq6qqqqqKdECrqqqqqnp0QGZmZmZmhnRAZmZmZmbWckBVVVVVVYVzQAAAAAAAcHRAMzMzMzNzckBVVVVVVTVxQAAAAAAA1HNAAAAAAADAc0BVVVVVVYV0QFVVVVVVdXRAq6qqqqoadEAAAAAAAEh0QAAAAAAA4HRAzczMzMwsdEAAAAAAAMBzQKuqqqqqynRAVVVVVVWFdEAAAAAAAMBzQKuqqqqqGnRAAAAAAACIc0AAAAAAANB0QAAAAAAACHRAAAAAAADQdEAAAAAAAOBzQAAAAAAASHRAAAAAAABgckAAAAAAAGByQAAAAAAAgHRAq6qqqqoKdEAAAAAAACRzQAAAAAAAwHNAAAAAAABYckAAAAAAABBzQA==",
          "dtype": "f8"
         },
         "yaxis": "y"
        },
        {
         "hovertemplate": "Dock=CONOCO PHILLIPS, BERTHS 150 & 151<br>=%{x}<br>Mean Vessel Length (m)=%{y}<extra></extra>",
         "legendgroup": "CONOCO PHILLIPS, BERTHS 150 & 151",
         "line": {
          "color": "#B6E880",
          "dash": "solid"
         },
         "marker": {
          "symbol": "circle"
         },
         "mode": "lines",
         "name": "CONOCO PHILLIPS, BERTHS 150 & 151",
         "showlegend": true,
         "type": "scattergl",
         "x": [
          "2018-04-01",
          "2019-02-01"
         ],
         "xaxis": "x",
         "y": {
          "bdata": "AAAAAACgZ0AAAAAAACBmQA==",
          "dtype": "f8"
         },
         "yaxis": "y"
        },
        {
         "hovertemplate": "Dock=PORT OF LOS ANGELES BERTHS 153, 154 & 155<br>=%{x}<br>Mean Vessel Length (m)=%{y}<extra></extra>",
         "legendgroup": "PORT OF LOS ANGELES BERTHS 153, 154 & 155",
         "line": {
          "color": "#FF97FF",
          "dash": "solid"
         },
         "marker": {
          "symbol": "circle"
         },
         "mode": "lines",
         "name": "PORT OF LOS ANGELES BERTHS 153, 154 & 155",
         "showlegend": true,
         "type": "scattergl",
         "x": [
          "2018-05-01",
          "2018-11-01",
          "2022-01-01",
          "2022-02-01",
          "2022-03-01"
         ],
         "xaxis": "x",
         "y": {
          "bdata": "AAAAAABAZUAAAAAAAABmQAAAAAAAwGdAAAAAAAAgZ0AAAAAAAIBmQA==",
          "dtype": "f8"
         },
         "yaxis": "y"
        },
        {
         "hovertemplate": "Dock=PORT OF LOS ANGELES BERTH 147<br>=%{x}<br>Mean Vessel Length (m)=%{y}<extra></extra>",
         "legendgroup": "PORT OF LOS ANGELES BERTH 147",
         "line": {
          "color": "#FECB52",
          "dash": "solid"
         },
         "marker": {
          "symbol": "circle"
         },
         "mode": "lines",
         "name": "PORT OF LOS ANGELES BERTH 147",
         "showlegend": true,
         "type": "scattergl",
         "x": [
          "2018-10-01",
          "2020-11-01",
          "2021-01-01",
          "2021-03-01"
         ],
         "xaxis": "x",
         "y": {
          "bdata": "AAAAAADgbkAAAAAAAAB1QAAAAAAAAHVAAAAAAAAAdUA=",
          "dtype": "f8"
         },
         "yaxis": "y"
        },
        {
         "hovertemplate": "Dock=PORT OF LOS ANGELES BERTH 45 - 47<br>=%{x}<br>Mean Vessel Length (m)=%{y}<extra></extra>",
         "legendgroup": "PORT OF LOS ANGELES BERTH 45 - 47",
         "line": {
          "color": "#636efa",
          "dash": "solid"
         },
         "marker": {
          "symbol": "circle"
         },
         "mode": "lines",
         "name": "PORT OF LOS ANGELES BERTH 45 - 47",
         "showlegend": true,
         "type": "scattergl",
         "x": [
          "2018-12-01",
          "2021-06-01",
          "2021-07-01",
          "2021-12-01"
         ],
         "xaxis": "x",
         "y": {
          "bdata": "AAAAAAAgb0AAAAAAAOBuQAAAAAAAsHJAAAAAAABgckA=",
          "dtype": "f8"
         },
         "yaxis": "y"
        },
        {
         "hovertemplate": "Dock=Port of Los Angeles, Berths 270 and 271<br>=%{x}<br>Mean Vessel Length (m)=%{y}<extra></extra>",
         "legendgroup": "Port of Los Angeles, Berths 270 and 271",
         "line": {
          "color": "#EF553B",
          "dash": "solid"
         },
         "marker": {
          "symbol": "circle"
         },
         "mode": "lines",
         "name": "Port of Los Angeles, Berths 270 and 271",
         "showlegend": true,
         "type": "scattergl",
         "x": [
          "2024-01-01",
          "2024-09-01",
          "2024-11-01"
         ],
         "xaxis": "x",
         "y": {
          "bdata": "AAAAAADAbEAAAAAAAMBjQAAAAAAAwGNA",
          "dtype": "f8"
         },
         "yaxis": "y"
        },
        {
         "hovertemplate": "Dock=KAISER INTERNATIONAL CORP BERTHS 49 & 50<br>=%{x}<br>Mean Vessel Length (m)=%{y}<extra></extra>",
         "legendgroup": "KAISER INTERNATIONAL CORP BERTHS 49 & 50",
         "line": {
          "color": "#00cc96",
          "dash": "solid"
         },
         "marker": {
          "symbol": "circle"
         },
         "mode": "lines",
         "name": "KAISER INTERNATIONAL CORP BERTHS 49 & 50",
         "showlegend": true,
         "type": "scattergl",
         "x": [
          "2024-08-01"
         ],
         "xaxis": "x",
         "y": {
          "bdata": "AAAAAAAgckA=",
          "dtype": "f8"
         },
         "yaxis": "y"
        },
        {
         "hovertemplate": "Dock=MUNICIPAL FISH MARKETS WHARF BERTH 72<br>=%{x}<br>Mean Vessel Length (m)=%{y}<extra></extra>",
         "legendgroup": "MUNICIPAL FISH MARKETS WHARF BERTH 72",
         "line": {
          "color": "#ab63fa",
          "dash": "solid"
         },
         "marker": {
          "symbol": "circle"
         },
         "mode": "lines",
         "name": "MUNICIPAL FISH MARKETS WHARF BERTH 72",
         "showlegend": true,
         "type": "scattergl",
         "x": [
          "2024-10-01"
         ],
         "xaxis": "x",
         "y": {
          "bdata": "AAAAAADAY0A=",
          "dtype": "f8"
         },
         "yaxis": "y"
        }
       ],
       "layout": {
        "height": 600,
        "legend": {
         "title": {
          "text": "Dock"
         },
         "tracegroupgap": 0
        },
        "template": {
         "data": {
          "bar": [
           {
            "error_x": {
             "color": "#2a3f5f"
            },
            "error_y": {
             "color": "#2a3f5f"
            },
            "marker": {
             "line": {
              "color": "#E5ECF6",
              "width": 0.5
             },
             "pattern": {
              "fillmode": "overlay",
              "size": 10,
              "solidity": 0.2
             }
            },
            "type": "bar"
           }
          ],
          "barpolar": [
           {
            "marker": {
             "line": {
              "color": "#E5ECF6",
              "width": 0.5
             },
             "pattern": {
              "fillmode": "overlay",
              "size": 10,
              "solidity": 0.2
             }
            },
            "type": "barpolar"
           }
          ],
          "carpet": [
           {
            "aaxis": {
             "endlinecolor": "#2a3f5f",
             "gridcolor": "white",
             "linecolor": "white",
             "minorgridcolor": "white",
             "startlinecolor": "#2a3f5f"
            },
            "baxis": {
             "endlinecolor": "#2a3f5f",
             "gridcolor": "white",
             "linecolor": "white",
             "minorgridcolor": "white",
             "startlinecolor": "#2a3f5f"
            },
            "type": "carpet"
           }
          ],
          "choropleth": [
           {
            "colorbar": {
             "outlinewidth": 0,
             "ticks": ""
            },
            "type": "choropleth"
           }
          ],
          "contour": [
           {
            "colorbar": {
             "outlinewidth": 0,
             "ticks": ""
            },
            "colorscale": [
             [
              0,
              "#0d0887"
             ],
             [
              0.1111111111111111,
              "#46039f"
             ],
             [
              0.2222222222222222,
              "#7201a8"
             ],
             [
              0.3333333333333333,
              "#9c179e"
             ],
             [
              0.4444444444444444,
              "#bd3786"
             ],
             [
              0.5555555555555556,
              "#d8576b"
             ],
             [
              0.6666666666666666,
              "#ed7953"
             ],
             [
              0.7777777777777778,
              "#fb9f3a"
             ],
             [
              0.8888888888888888,
              "#fdca26"
             ],
             [
              1,
              "#f0f921"
             ]
            ],
            "type": "contour"
           }
          ],
          "contourcarpet": [
           {
            "colorbar": {
             "outlinewidth": 0,
             "ticks": ""
            },
            "type": "contourcarpet"
           }
          ],
          "heatmap": [
           {
            "colorbar": {
             "outlinewidth": 0,
             "ticks": ""
            },
            "colorscale": [
             [
              0,
              "#0d0887"
             ],
             [
              0.1111111111111111,
              "#46039f"
             ],
             [
              0.2222222222222222,
              "#7201a8"
             ],
             [
              0.3333333333333333,
              "#9c179e"
             ],
             [
              0.4444444444444444,
              "#bd3786"
             ],
             [
              0.5555555555555556,
              "#d8576b"
             ],
             [
              0.6666666666666666,
              "#ed7953"
             ],
             [
              0.7777777777777778,
              "#fb9f3a"
             ],
             [
              0.8888888888888888,
              "#fdca26"
             ],
             [
              1,
              "#f0f921"
             ]
            ],
            "type": "heatmap"
           }
          ],
          "histogram": [
           {
            "marker": {
             "pattern": {
              "fillmode": "overlay",
              "size": 10,
              "solidity": 0.2
             }
            },
            "type": "histogram"
           }
          ],
          "histogram2d": [
           {
            "colorbar": {
             "outlinewidth": 0,
             "ticks": ""
            },
            "colorscale": [
             [
              0,
              "#0d0887"
             ],
             [
              0.1111111111111111,
              "#46039f"
             ],
             [
              0.2222222222222222,
              "#7201a8"
             ],
             [
              0.3333333333333333,
              "#9c179e"
             ],
             [
              0.4444444444444444,
              "#bd3786"
             ],
             [
              0.5555555555555556,
              "#d8576b"
             ],
             [
              0.6666666666666666,
              "#ed7953"
             ],
             [
              0.7777777777777778,
              "#fb9f3a"
             ],
             [
              0.8888888888888888,
              "#fdca26"
             ],
             [
              1,
              "#f0f921"
             ]
            ],
            "type": "histogram2d"
           }
          ],
          "histogram2dcontour": [
           {
            "colorbar": {
             "outlinewidth": 0,
             "ticks": ""
            },
            "colorscale": [
             [
              0,
              "#0d0887"
             ],
             [
              0.1111111111111111,
              "#46039f"
             ],
             [
              0.2222222222222222,
              "#7201a8"
             ],
             [
              0.3333333333333333,
              "#9c179e"
             ],
             [
              0.4444444444444444,
              "#bd3786"
             ],
             [
              0.5555555555555556,
              "#d8576b"
             ],
             [
              0.6666666666666666,
              "#ed7953"
             ],
             [
              0.7777777777777778,
              "#fb9f3a"
             ],
             [
              0.8888888888888888,
              "#fdca26"
             ],
             [
              1,
              "#f0f921"
             ]
            ],
            "type": "histogram2dcontour"
           }
          ],
          "mesh3d": [
           {
            "colorbar": {
             "outlinewidth": 0,
             "ticks": ""
            },
            "type": "mesh3d"
           }
          ],
          "parcoords": [
           {
            "line": {
             "colorbar": {
              "outlinewidth": 0,
              "ticks": ""
             }
            },
            "type": "parcoords"
           }
          ],
          "pie": [
           {
            "automargin": true,
            "type": "pie"
           }
          ],
          "scatter": [
           {
            "fillpattern": {
             "fillmode": "overlay",
             "size": 10,
             "solidity": 0.2
            },
            "type": "scatter"
           }
          ],
          "scatter3d": [
           {
            "line": {
             "colorbar": {
              "outlinewidth": 0,
              "ticks": ""
             }
            },
            "marker": {
             "colorbar": {
              "outlinewidth": 0,
              "ticks": ""
             }
            },
            "type": "scatter3d"
           }
          ],
          "scattercarpet": [
           {
            "marker": {
             "colorbar": {
              "outlinewidth": 0,
              "ticks": ""
             }
            },
            "type": "scattercarpet"
           }
          ],
          "scattergeo": [
           {
            "marker": {
             "colorbar": {
              "outlinewidth": 0,
              "ticks": ""
             }
            },
            "type": "scattergeo"
           }
          ],
          "scattergl": [
           {
            "marker": {
             "colorbar": {
              "outlinewidth": 0,
              "ticks": ""
             }
            },
            "type": "scattergl"
           }
          ],
          "scattermap": [
           {
            "marker": {
             "colorbar": {
              "outlinewidth": 0,
              "ticks": ""
             }
            },
            "type": "scattermap"
           }
          ],
          "scattermapbox": [
           {
            "marker": {
             "colorbar": {
              "outlinewidth": 0,
              "ticks": ""
             }
            },
            "type": "scattermapbox"
           }
          ],
          "scatterpolar": [
           {
            "marker": {
             "colorbar": {
              "outlinewidth": 0,
              "ticks": ""
             }
            },
            "type": "scatterpolar"
           }
          ],
          "scatterpolargl": [
           {
            "marker": {
             "colorbar": {
              "outlinewidth": 0,
              "ticks": ""
             }
            },
            "type": "scatterpolargl"
           }
          ],
          "scatterternary": [
           {
            "marker": {
             "colorbar": {
              "outlinewidth": 0,
              "ticks": ""
             }
            },
            "type": "scatterternary"
           }
          ],
          "surface": [
           {
            "colorbar": {
             "outlinewidth": 0,
             "ticks": ""
            },
            "colorscale": [
             [
              0,
              "#0d0887"
             ],
             [
              0.1111111111111111,
              "#46039f"
             ],
             [
              0.2222222222222222,
              "#7201a8"
             ],
             [
              0.3333333333333333,
              "#9c179e"
             ],
             [
              0.4444444444444444,
              "#bd3786"
             ],
             [
              0.5555555555555556,
              "#d8576b"
             ],
             [
              0.6666666666666666,
              "#ed7953"
             ],
             [
              0.7777777777777778,
              "#fb9f3a"
             ],
             [
              0.8888888888888888,
              "#fdca26"
             ],
             [
              1,
              "#f0f921"
             ]
            ],
            "type": "surface"
           }
          ],
          "table": [
           {
            "cells": {
             "fill": {
              "color": "#EBF0F8"
             },
             "line": {
              "color": "white"
             }
            },
            "header": {
             "fill": {
              "color": "#C8D4E3"
             },
             "line": {
              "color": "white"
             }
            },
            "type": "table"
           }
          ]
         },
         "layout": {
          "annotationdefaults": {
           "arrowcolor": "#2a3f5f",
           "arrowhead": 0,
           "arrowwidth": 1
          },
          "autotypenumbers": "strict",
          "coloraxis": {
           "colorbar": {
            "outlinewidth": 0,
            "ticks": ""
           }
          },
          "colorscale": {
           "diverging": [
            [
             0,
             "#8e0152"
            ],
            [
             0.1,
             "#c51b7d"
            ],
            [
             0.2,
             "#de77ae"
            ],
            [
             0.3,
             "#f1b6da"
            ],
            [
             0.4,
             "#fde0ef"
            ],
            [
             0.5,
             "#f7f7f7"
            ],
            [
             0.6,
             "#e6f5d0"
            ],
            [
             0.7,
             "#b8e186"
            ],
            [
             0.8,
             "#7fbc41"
            ],
            [
             0.9,
             "#4d9221"
            ],
            [
             1,
             "#276419"
            ]
           ],
           "sequential": [
            [
             0,
             "#0d0887"
            ],
            [
             0.1111111111111111,
             "#46039f"
            ],
            [
             0.2222222222222222,
             "#7201a8"
            ],
            [
             0.3333333333333333,
             "#9c179e"
            ],
            [
             0.4444444444444444,
             "#bd3786"
            ],
            [
             0.5555555555555556,
             "#d8576b"
            ],
            [
             0.6666666666666666,
             "#ed7953"
            ],
            [
             0.7777777777777778,
             "#fb9f3a"
            ],
            [
             0.8888888888888888,
             "#fdca26"
            ],
            [
             1,
             "#f0f921"
            ]
           ],
           "sequentialminus": [
            [
             0,
             "#0d0887"
            ],
            [
             0.1111111111111111,
             "#46039f"
            ],
            [
             0.2222222222222222,
             "#7201a8"
            ],
            [
             0.3333333333333333,
             "#9c179e"
            ],
            [
             0.4444444444444444,
             "#bd3786"
            ],
            [
             0.5555555555555556,
             "#d8576b"
            ],
            [
             0.6666666666666666,
             "#ed7953"
            ],
            [
             0.7777777777777778,
             "#fb9f3a"
            ],
            [
             0.8888888888888888,
             "#fdca26"
            ],
            [
             1,
             "#f0f921"
            ]
           ]
          },
          "colorway": [
           "#636efa",
           "#EF553B",
           "#00cc96",
           "#ab63fa",
           "#FFA15A",
           "#19d3f3",
           "#FF6692",
           "#B6E880",
           "#FF97FF",
           "#FECB52"
          ],
          "font": {
           "color": "#2a3f5f"
          },
          "geo": {
           "bgcolor": "white",
           "lakecolor": "white",
           "landcolor": "#E5ECF6",
           "showlakes": true,
           "showland": true,
           "subunitcolor": "white"
          },
          "hoverlabel": {
           "align": "left"
          },
          "hovermode": "closest",
          "mapbox": {
           "style": "light"
          },
          "paper_bgcolor": "white",
          "plot_bgcolor": "#E5ECF6",
          "polar": {
           "angularaxis": {
            "gridcolor": "white",
            "linecolor": "white",
            "ticks": ""
           },
           "bgcolor": "#E5ECF6",
           "radialaxis": {
            "gridcolor": "white",
            "linecolor": "white",
            "ticks": ""
           }
          },
          "scene": {
           "xaxis": {
            "backgroundcolor": "#E5ECF6",
            "gridcolor": "white",
            "gridwidth": 2,
            "linecolor": "white",
            "showbackground": true,
            "ticks": "",
            "zerolinecolor": "white"
           },
           "yaxis": {
            "backgroundcolor": "#E5ECF6",
            "gridcolor": "white",
            "gridwidth": 2,
            "linecolor": "white",
            "showbackground": true,
            "ticks": "",
            "zerolinecolor": "white"
           },
           "zaxis": {
            "backgroundcolor": "#E5ECF6",
            "gridcolor": "white",
            "gridwidth": 2,
            "linecolor": "white",
            "showbackground": true,
            "ticks": "",
            "zerolinecolor": "white"
           }
          },
          "shapedefaults": {
           "line": {
            "color": "#2a3f5f"
           }
          },
          "ternary": {
           "aaxis": {
            "gridcolor": "white",
            "linecolor": "white",
            "ticks": ""
           },
           "baxis": {
            "gridcolor": "white",
            "linecolor": "white",
            "ticks": ""
           },
           "bgcolor": "#E5ECF6",
           "caxis": {
            "gridcolor": "white",
            "linecolor": "white",
            "ticks": ""
           }
          },
          "title": {
           "x": 0.05
          },
          "xaxis": {
           "automargin": true,
           "gridcolor": "white",
           "linecolor": "white",
           "ticks": "",
           "title": {
            "standoff": 15
           },
           "zerolinecolor": "white",
           "zerolinewidth": 2
          },
          "yaxis": {
           "automargin": true,
           "gridcolor": "white",
           "linecolor": "white",
           "ticks": "",
           "title": {
            "standoff": 15
           },
           "zerolinecolor": "white",
           "zerolinewidth": 2
          }
         }
        },
        "title": {
         "text": "Mean Vessel Size"
        },
        "width": 1200,
        "xaxis": {
         "anchor": "y",
         "domain": [
          0,
          1
         ],
         "title": {
          "text": ""
         }
        },
        "yaxis": {
         "anchor": "x",
         "domain": [
          0,
          1
         ],
         "title": {
          "text": "Mean Vessel Length (m)"
         }
        }
       }
      }
     },
     "metadata": {},
     "output_type": "display_data"
    }
   ],
   "source": [
    "plot_line(df=calls_df, filter_col='port_name', filter=['Port of Los Angeles, CA'], cat_group='dock_name', time_col='month',\n",
    "          y_col='vessel_size', y_col_alias='Mean Vessel Length (m)',\n",
    "          title='Mean Vessel Size', width=1200, height=600,\n",
    "          labels={'dock_name':'Dock', 'month':''})"
   ]
  },
  {
   "cell_type": "code",
   "execution_count": 13,
   "metadata": {},
   "outputs": [
    {
     "data": {
      "application/vnd.plotly.v1+json": {
       "config": {
        "plotlyServerURL": "https://plot.ly"
       },
       "data": [
        {
         "hovertemplate": "Mean Hours at Berth=%{x}<br>dock_name=%{y}<extra></extra>",
         "legendgroup": "",
         "marker": {
          "color": "#636efa",
          "pattern": {
           "shape": ""
          }
         },
         "name": "",
         "orientation": "h",
         "showlegend": false,
         "textposition": "auto",
         "type": "bar",
         "x": {
          "bdata": "TXHDHK3oW0Druq7ruh5dQCzOWHhRSl1AC6P/QI1TXkDu7u7urtVgQFuF8LpVoGFAIiIiIiLmZUC8u7u7uzNtQL27u7u763VAiYiIiIhGd0A=",
          "dtype": "f8"
         },
         "xaxis": "x",
         "y": [
          "AMERICAN PRESIDENT LINE BERTH 302-305",
          "LONG BEACH CONTAINER TERMINAL, BERTHS F- 10, 9, 8, 7, 6, 5 & 4",
          "BERTH 406, (CUT) CALIFORNIA UNITED CONTAINER TERMINAL",
          "RIO DOCE PASHA TERMINAL BERTH 144, 145 & 146",
          "MORTON SALT CO BERTH F-210",
          "RIO DOCE PASHA TERM BERTHS 142 & 143",
          "PORT OF LOS ANGELES BERTH 147",
          "KAISER INTERNATIONAL CORP BERTHS 49 & 50",
          "KOCH CARBON SOUTHERN CALIF TERM BERTH F-211",
          "PORT OF LOS ANGELES BERTH 45 - 47"
         ],
         "yaxis": "y"
        }
       ],
       "layout": {
        "barmode": "relative",
        "height": 500,
        "legend": {
         "tracegroupgap": 0
        },
        "template": {
         "data": {
          "bar": [
           {
            "error_x": {
             "color": "#2a3f5f"
            },
            "error_y": {
             "color": "#2a3f5f"
            },
            "marker": {
             "line": {
              "color": "#E5ECF6",
              "width": 0.5
             },
             "pattern": {
              "fillmode": "overlay",
              "size": 10,
              "solidity": 0.2
             }
            },
            "type": "bar"
           }
          ],
          "barpolar": [
           {
            "marker": {
             "line": {
              "color": "#E5ECF6",
              "width": 0.5
             },
             "pattern": {
              "fillmode": "overlay",
              "size": 10,
              "solidity": 0.2
             }
            },
            "type": "barpolar"
           }
          ],
          "carpet": [
           {
            "aaxis": {
             "endlinecolor": "#2a3f5f",
             "gridcolor": "white",
             "linecolor": "white",
             "minorgridcolor": "white",
             "startlinecolor": "#2a3f5f"
            },
            "baxis": {
             "endlinecolor": "#2a3f5f",
             "gridcolor": "white",
             "linecolor": "white",
             "minorgridcolor": "white",
             "startlinecolor": "#2a3f5f"
            },
            "type": "carpet"
           }
          ],
          "choropleth": [
           {
            "colorbar": {
             "outlinewidth": 0,
             "ticks": ""
            },
            "type": "choropleth"
           }
          ],
          "contour": [
           {
            "colorbar": {
             "outlinewidth": 0,
             "ticks": ""
            },
            "colorscale": [
             [
              0,
              "#0d0887"
             ],
             [
              0.1111111111111111,
              "#46039f"
             ],
             [
              0.2222222222222222,
              "#7201a8"
             ],
             [
              0.3333333333333333,
              "#9c179e"
             ],
             [
              0.4444444444444444,
              "#bd3786"
             ],
             [
              0.5555555555555556,
              "#d8576b"
             ],
             [
              0.6666666666666666,
              "#ed7953"
             ],
             [
              0.7777777777777778,
              "#fb9f3a"
             ],
             [
              0.8888888888888888,
              "#fdca26"
             ],
             [
              1,
              "#f0f921"
             ]
            ],
            "type": "contour"
           }
          ],
          "contourcarpet": [
           {
            "colorbar": {
             "outlinewidth": 0,
             "ticks": ""
            },
            "type": "contourcarpet"
           }
          ],
          "heatmap": [
           {
            "colorbar": {
             "outlinewidth": 0,
             "ticks": ""
            },
            "colorscale": [
             [
              0,
              "#0d0887"
             ],
             [
              0.1111111111111111,
              "#46039f"
             ],
             [
              0.2222222222222222,
              "#7201a8"
             ],
             [
              0.3333333333333333,
              "#9c179e"
             ],
             [
              0.4444444444444444,
              "#bd3786"
             ],
             [
              0.5555555555555556,
              "#d8576b"
             ],
             [
              0.6666666666666666,
              "#ed7953"
             ],
             [
              0.7777777777777778,
              "#fb9f3a"
             ],
             [
              0.8888888888888888,
              "#fdca26"
             ],
             [
              1,
              "#f0f921"
             ]
            ],
            "type": "heatmap"
           }
          ],
          "histogram": [
           {
            "marker": {
             "pattern": {
              "fillmode": "overlay",
              "size": 10,
              "solidity": 0.2
             }
            },
            "type": "histogram"
           }
          ],
          "histogram2d": [
           {
            "colorbar": {
             "outlinewidth": 0,
             "ticks": ""
            },
            "colorscale": [
             [
              0,
              "#0d0887"
             ],
             [
              0.1111111111111111,
              "#46039f"
             ],
             [
              0.2222222222222222,
              "#7201a8"
             ],
             [
              0.3333333333333333,
              "#9c179e"
             ],
             [
              0.4444444444444444,
              "#bd3786"
             ],
             [
              0.5555555555555556,
              "#d8576b"
             ],
             [
              0.6666666666666666,
              "#ed7953"
             ],
             [
              0.7777777777777778,
              "#fb9f3a"
             ],
             [
              0.8888888888888888,
              "#fdca26"
             ],
             [
              1,
              "#f0f921"
             ]
            ],
            "type": "histogram2d"
           }
          ],
          "histogram2dcontour": [
           {
            "colorbar": {
             "outlinewidth": 0,
             "ticks": ""
            },
            "colorscale": [
             [
              0,
              "#0d0887"
             ],
             [
              0.1111111111111111,
              "#46039f"
             ],
             [
              0.2222222222222222,
              "#7201a8"
             ],
             [
              0.3333333333333333,
              "#9c179e"
             ],
             [
              0.4444444444444444,
              "#bd3786"
             ],
             [
              0.5555555555555556,
              "#d8576b"
             ],
             [
              0.6666666666666666,
              "#ed7953"
             ],
             [
              0.7777777777777778,
              "#fb9f3a"
             ],
             [
              0.8888888888888888,
              "#fdca26"
             ],
             [
              1,
              "#f0f921"
             ]
            ],
            "type": "histogram2dcontour"
           }
          ],
          "mesh3d": [
           {
            "colorbar": {
             "outlinewidth": 0,
             "ticks": ""
            },
            "type": "mesh3d"
           }
          ],
          "parcoords": [
           {
            "line": {
             "colorbar": {
              "outlinewidth": 0,
              "ticks": ""
             }
            },
            "type": "parcoords"
           }
          ],
          "pie": [
           {
            "automargin": true,
            "type": "pie"
           }
          ],
          "scatter": [
           {
            "fillpattern": {
             "fillmode": "overlay",
             "size": 10,
             "solidity": 0.2
            },
            "type": "scatter"
           }
          ],
          "scatter3d": [
           {
            "line": {
             "colorbar": {
              "outlinewidth": 0,
              "ticks": ""
             }
            },
            "marker": {
             "colorbar": {
              "outlinewidth": 0,
              "ticks": ""
             }
            },
            "type": "scatter3d"
           }
          ],
          "scattercarpet": [
           {
            "marker": {
             "colorbar": {
              "outlinewidth": 0,
              "ticks": ""
             }
            },
            "type": "scattercarpet"
           }
          ],
          "scattergeo": [
           {
            "marker": {
             "colorbar": {
              "outlinewidth": 0,
              "ticks": ""
             }
            },
            "type": "scattergeo"
           }
          ],
          "scattergl": [
           {
            "marker": {
             "colorbar": {
              "outlinewidth": 0,
              "ticks": ""
             }
            },
            "type": "scattergl"
           }
          ],
          "scattermap": [
           {
            "marker": {
             "colorbar": {
              "outlinewidth": 0,
              "ticks": ""
             }
            },
            "type": "scattermap"
           }
          ],
          "scattermapbox": [
           {
            "marker": {
             "colorbar": {
              "outlinewidth": 0,
              "ticks": ""
             }
            },
            "type": "scattermapbox"
           }
          ],
          "scatterpolar": [
           {
            "marker": {
             "colorbar": {
              "outlinewidth": 0,
              "ticks": ""
             }
            },
            "type": "scatterpolar"
           }
          ],
          "scatterpolargl": [
           {
            "marker": {
             "colorbar": {
              "outlinewidth": 0,
              "ticks": ""
             }
            },
            "type": "scatterpolargl"
           }
          ],
          "scatterternary": [
           {
            "marker": {
             "colorbar": {
              "outlinewidth": 0,
              "ticks": ""
             }
            },
            "type": "scatterternary"
           }
          ],
          "surface": [
           {
            "colorbar": {
             "outlinewidth": 0,
             "ticks": ""
            },
            "colorscale": [
             [
              0,
              "#0d0887"
             ],
             [
              0.1111111111111111,
              "#46039f"
             ],
             [
              0.2222222222222222,
              "#7201a8"
             ],
             [
              0.3333333333333333,
              "#9c179e"
             ],
             [
              0.4444444444444444,
              "#bd3786"
             ],
             [
              0.5555555555555556,
              "#d8576b"
             ],
             [
              0.6666666666666666,
              "#ed7953"
             ],
             [
              0.7777777777777778,
              "#fb9f3a"
             ],
             [
              0.8888888888888888,
              "#fdca26"
             ],
             [
              1,
              "#f0f921"
             ]
            ],
            "type": "surface"
           }
          ],
          "table": [
           {
            "cells": {
             "fill": {
              "color": "#EBF0F8"
             },
             "line": {
              "color": "white"
             }
            },
            "header": {
             "fill": {
              "color": "#C8D4E3"
             },
             "line": {
              "color": "white"
             }
            },
            "type": "table"
           }
          ]
         },
         "layout": {
          "annotationdefaults": {
           "arrowcolor": "#2a3f5f",
           "arrowhead": 0,
           "arrowwidth": 1
          },
          "autotypenumbers": "strict",
          "coloraxis": {
           "colorbar": {
            "outlinewidth": 0,
            "ticks": ""
           }
          },
          "colorscale": {
           "diverging": [
            [
             0,
             "#8e0152"
            ],
            [
             0.1,
             "#c51b7d"
            ],
            [
             0.2,
             "#de77ae"
            ],
            [
             0.3,
             "#f1b6da"
            ],
            [
             0.4,
             "#fde0ef"
            ],
            [
             0.5,
             "#f7f7f7"
            ],
            [
             0.6,
             "#e6f5d0"
            ],
            [
             0.7,
             "#b8e186"
            ],
            [
             0.8,
             "#7fbc41"
            ],
            [
             0.9,
             "#4d9221"
            ],
            [
             1,
             "#276419"
            ]
           ],
           "sequential": [
            [
             0,
             "#0d0887"
            ],
            [
             0.1111111111111111,
             "#46039f"
            ],
            [
             0.2222222222222222,
             "#7201a8"
            ],
            [
             0.3333333333333333,
             "#9c179e"
            ],
            [
             0.4444444444444444,
             "#bd3786"
            ],
            [
             0.5555555555555556,
             "#d8576b"
            ],
            [
             0.6666666666666666,
             "#ed7953"
            ],
            [
             0.7777777777777778,
             "#fb9f3a"
            ],
            [
             0.8888888888888888,
             "#fdca26"
            ],
            [
             1,
             "#f0f921"
            ]
           ],
           "sequentialminus": [
            [
             0,
             "#0d0887"
            ],
            [
             0.1111111111111111,
             "#46039f"
            ],
            [
             0.2222222222222222,
             "#7201a8"
            ],
            [
             0.3333333333333333,
             "#9c179e"
            ],
            [
             0.4444444444444444,
             "#bd3786"
            ],
            [
             0.5555555555555556,
             "#d8576b"
            ],
            [
             0.6666666666666666,
             "#ed7953"
            ],
            [
             0.7777777777777778,
             "#fb9f3a"
            ],
            [
             0.8888888888888888,
             "#fdca26"
            ],
            [
             1,
             "#f0f921"
            ]
           ]
          },
          "colorway": [
           "#636efa",
           "#EF553B",
           "#00cc96",
           "#ab63fa",
           "#FFA15A",
           "#19d3f3",
           "#FF6692",
           "#B6E880",
           "#FF97FF",
           "#FECB52"
          ],
          "font": {
           "color": "#2a3f5f"
          },
          "geo": {
           "bgcolor": "white",
           "lakecolor": "white",
           "landcolor": "#E5ECF6",
           "showlakes": true,
           "showland": true,
           "subunitcolor": "white"
          },
          "hoverlabel": {
           "align": "left"
          },
          "hovermode": "closest",
          "mapbox": {
           "style": "light"
          },
          "paper_bgcolor": "white",
          "plot_bgcolor": "#E5ECF6",
          "polar": {
           "angularaxis": {
            "gridcolor": "white",
            "linecolor": "white",
            "ticks": ""
           },
           "bgcolor": "#E5ECF6",
           "radialaxis": {
            "gridcolor": "white",
            "linecolor": "white",
            "ticks": ""
           }
          },
          "scene": {
           "xaxis": {
            "backgroundcolor": "#E5ECF6",
            "gridcolor": "white",
            "gridwidth": 2,
            "linecolor": "white",
            "showbackground": true,
            "ticks": "",
            "zerolinecolor": "white"
           },
           "yaxis": {
            "backgroundcolor": "#E5ECF6",
            "gridcolor": "white",
            "gridwidth": 2,
            "linecolor": "white",
            "showbackground": true,
            "ticks": "",
            "zerolinecolor": "white"
           },
           "zaxis": {
            "backgroundcolor": "#E5ECF6",
            "gridcolor": "white",
            "gridwidth": 2,
            "linecolor": "white",
            "showbackground": true,
            "ticks": "",
            "zerolinecolor": "white"
           }
          },
          "shapedefaults": {
           "line": {
            "color": "#2a3f5f"
           }
          },
          "ternary": {
           "aaxis": {
            "gridcolor": "white",
            "linecolor": "white",
            "ticks": ""
           },
           "baxis": {
            "gridcolor": "white",
            "linecolor": "white",
            "ticks": ""
           },
           "bgcolor": "#E5ECF6",
           "caxis": {
            "gridcolor": "white",
            "linecolor": "white",
            "ticks": ""
           }
          },
          "title": {
           "x": 0.05
          },
          "xaxis": {
           "automargin": true,
           "gridcolor": "white",
           "linecolor": "white",
           "ticks": "",
           "title": {
            "standoff": 15
           },
           "zerolinecolor": "white",
           "zerolinewidth": 2
          },
          "yaxis": {
           "automargin": true,
           "gridcolor": "white",
           "linecolor": "white",
           "ticks": "",
           "title": {
            "standoff": 15
           },
           "zerolinecolor": "white",
           "zerolinewidth": 2
          }
         }
        },
        "title": {
         "text": "Mean Hours at Berth for Top 10 San Pedro Bay Docks"
        },
        "width": 800,
        "xaxis": {
         "anchor": "y",
         "domain": [
          0,
          1
         ],
         "title": {
          "text": "Mean Hours at Berth"
         }
        },
        "yaxis": {
         "anchor": "x",
         "domain": [
          0,
          1
         ],
         "title": {
          "text": "dock_name"
         }
        }
       }
      }
     },
     "metadata": {},
     "output_type": "display_data"
    }
   ],
   "source": [
    "bar_ranking(df=calls_df, cat_group='dock_name', filter_col='port_name', filter=['Port of Los Angeles, CA', 'Port of Long Beach, CA'], \n",
    "            stat_col='hrs_at_berth',\n",
    "           stat_alias='Mean Hours at Berth', title='Mean Hours at Berth for Top 10 San Pedro Bay Docks', \n",
    "           limit=10, width=800, height=500)"
   ]
  },
  {
   "cell_type": "code",
   "execution_count": 14,
   "metadata": {},
   "outputs": [
    {
     "data": {
      "application/vnd.plotly.v1+json": {
       "config": {
        "plotlyServerURL": "https://plot.ly"
       },
       "data": [
        {
         "hovertemplate": "Hrs in Port Waters=%{x}<br>port_name=%{y}<extra></extra>",
         "legendgroup": "",
         "marker": {
          "color": [
           "#636efa",
           "lightgrey",
           "lightgrey",
           "lightgrey",
           "lightgrey",
           "lightgrey",
           "lightgrey",
           "lightgrey",
           "lightgrey",
           "lightgrey",
           "lightgrey",
           "lightgrey",
           "lightgrey",
           "lightgrey",
           "lightgrey",
           "lightgrey",
           "lightgrey",
           "lightgrey",
           "lightgrey",
           "lightgrey",
           "lightgrey"
          ],
          "pattern": {
           "shape": ""
          }
         },
         "name": "",
         "orientation": "h",
         "showlegend": false,
         "textposition": "auto",
         "type": "bar",
         "x": {
          "bdata": "Hfa9aetNTECz4h8r/s9WQFLZo1Pb9lZACHVQB3UAV0DBo0+X+R9XQPZeW/Mqx1hAmkiPx+AdWUDTkT0DUdFZQMig8U+T/FpAooFhuw2fW0AoOVWSU/VbQGfyHs2hplxA4Ct3wg3tXkCJgV1sUF1fQMdAD7iKaWBA8KOcuKJ+YEA3QFqokt1iQNbrPhnI+2NAztf4fI0DZUAwob2E9iJ6QA/8wA/8nodA",
          "dtype": "f8"
         },
         "xaxis": "x",
         "y": [
          "Seattle, WA",
          "Port of Vancouver USA, WA",
          "Albany Port District, NY",
          "Beaumont, TX",
          "Galveston, TX",
          "San Diego Unified Port, CA",
          "Port of Long Beach, CA",
          "Lake Charles Harbor District, LA",
          "Morehead City, NC",
          "Stockton, CA",
          "Kalaeloa Barbers Point, HI",
          "Houston Port Authority, TX",
          "Brownsville, TX",
          "Port of Los Angeles, CA",
          "Port of Greater Baton Rouge, LA",
          "Sacramento-Yolo Port, CA",
          "Port of Pascagoula, MS",
          "Greater Lafourche Port, LA",
          "Coos Bay OR, Port of",
          "Jacksonville, FL",
          "Orange County Nav District, TX"
         ],
         "yaxis": "y"
        }
       ],
       "layout": {
        "barmode": "relative",
        "height": 500,
        "legend": {
         "tracegroupgap": 0
        },
        "template": {
         "data": {
          "bar": [
           {
            "error_x": {
             "color": "#2a3f5f"
            },
            "error_y": {
             "color": "#2a3f5f"
            },
            "marker": {
             "line": {
              "color": "#E5ECF6",
              "width": 0.5
             },
             "pattern": {
              "fillmode": "overlay",
              "size": 10,
              "solidity": 0.2
             }
            },
            "type": "bar"
           }
          ],
          "barpolar": [
           {
            "marker": {
             "line": {
              "color": "#E5ECF6",
              "width": 0.5
             },
             "pattern": {
              "fillmode": "overlay",
              "size": 10,
              "solidity": 0.2
             }
            },
            "type": "barpolar"
           }
          ],
          "carpet": [
           {
            "aaxis": {
             "endlinecolor": "#2a3f5f",
             "gridcolor": "white",
             "linecolor": "white",
             "minorgridcolor": "white",
             "startlinecolor": "#2a3f5f"
            },
            "baxis": {
             "endlinecolor": "#2a3f5f",
             "gridcolor": "white",
             "linecolor": "white",
             "minorgridcolor": "white",
             "startlinecolor": "#2a3f5f"
            },
            "type": "carpet"
           }
          ],
          "choropleth": [
           {
            "colorbar": {
             "outlinewidth": 0,
             "ticks": ""
            },
            "type": "choropleth"
           }
          ],
          "contour": [
           {
            "colorbar": {
             "outlinewidth": 0,
             "ticks": ""
            },
            "colorscale": [
             [
              0,
              "#0d0887"
             ],
             [
              0.1111111111111111,
              "#46039f"
             ],
             [
              0.2222222222222222,
              "#7201a8"
             ],
             [
              0.3333333333333333,
              "#9c179e"
             ],
             [
              0.4444444444444444,
              "#bd3786"
             ],
             [
              0.5555555555555556,
              "#d8576b"
             ],
             [
              0.6666666666666666,
              "#ed7953"
             ],
             [
              0.7777777777777778,
              "#fb9f3a"
             ],
             [
              0.8888888888888888,
              "#fdca26"
             ],
             [
              1,
              "#f0f921"
             ]
            ],
            "type": "contour"
           }
          ],
          "contourcarpet": [
           {
            "colorbar": {
             "outlinewidth": 0,
             "ticks": ""
            },
            "type": "contourcarpet"
           }
          ],
          "heatmap": [
           {
            "colorbar": {
             "outlinewidth": 0,
             "ticks": ""
            },
            "colorscale": [
             [
              0,
              "#0d0887"
             ],
             [
              0.1111111111111111,
              "#46039f"
             ],
             [
              0.2222222222222222,
              "#7201a8"
             ],
             [
              0.3333333333333333,
              "#9c179e"
             ],
             [
              0.4444444444444444,
              "#bd3786"
             ],
             [
              0.5555555555555556,
              "#d8576b"
             ],
             [
              0.6666666666666666,
              "#ed7953"
             ],
             [
              0.7777777777777778,
              "#fb9f3a"
             ],
             [
              0.8888888888888888,
              "#fdca26"
             ],
             [
              1,
              "#f0f921"
             ]
            ],
            "type": "heatmap"
           }
          ],
          "histogram": [
           {
            "marker": {
             "pattern": {
              "fillmode": "overlay",
              "size": 10,
              "solidity": 0.2
             }
            },
            "type": "histogram"
           }
          ],
          "histogram2d": [
           {
            "colorbar": {
             "outlinewidth": 0,
             "ticks": ""
            },
            "colorscale": [
             [
              0,
              "#0d0887"
             ],
             [
              0.1111111111111111,
              "#46039f"
             ],
             [
              0.2222222222222222,
              "#7201a8"
             ],
             [
              0.3333333333333333,
              "#9c179e"
             ],
             [
              0.4444444444444444,
              "#bd3786"
             ],
             [
              0.5555555555555556,
              "#d8576b"
             ],
             [
              0.6666666666666666,
              "#ed7953"
             ],
             [
              0.7777777777777778,
              "#fb9f3a"
             ],
             [
              0.8888888888888888,
              "#fdca26"
             ],
             [
              1,
              "#f0f921"
             ]
            ],
            "type": "histogram2d"
           }
          ],
          "histogram2dcontour": [
           {
            "colorbar": {
             "outlinewidth": 0,
             "ticks": ""
            },
            "colorscale": [
             [
              0,
              "#0d0887"
             ],
             [
              0.1111111111111111,
              "#46039f"
             ],
             [
              0.2222222222222222,
              "#7201a8"
             ],
             [
              0.3333333333333333,
              "#9c179e"
             ],
             [
              0.4444444444444444,
              "#bd3786"
             ],
             [
              0.5555555555555556,
              "#d8576b"
             ],
             [
              0.6666666666666666,
              "#ed7953"
             ],
             [
              0.7777777777777778,
              "#fb9f3a"
             ],
             [
              0.8888888888888888,
              "#fdca26"
             ],
             [
              1,
              "#f0f921"
             ]
            ],
            "type": "histogram2dcontour"
           }
          ],
          "mesh3d": [
           {
            "colorbar": {
             "outlinewidth": 0,
             "ticks": ""
            },
            "type": "mesh3d"
           }
          ],
          "parcoords": [
           {
            "line": {
             "colorbar": {
              "outlinewidth": 0,
              "ticks": ""
             }
            },
            "type": "parcoords"
           }
          ],
          "pie": [
           {
            "automargin": true,
            "type": "pie"
           }
          ],
          "scatter": [
           {
            "fillpattern": {
             "fillmode": "overlay",
             "size": 10,
             "solidity": 0.2
            },
            "type": "scatter"
           }
          ],
          "scatter3d": [
           {
            "line": {
             "colorbar": {
              "outlinewidth": 0,
              "ticks": ""
             }
            },
            "marker": {
             "colorbar": {
              "outlinewidth": 0,
              "ticks": ""
             }
            },
            "type": "scatter3d"
           }
          ],
          "scattercarpet": [
           {
            "marker": {
             "colorbar": {
              "outlinewidth": 0,
              "ticks": ""
             }
            },
            "type": "scattercarpet"
           }
          ],
          "scattergeo": [
           {
            "marker": {
             "colorbar": {
              "outlinewidth": 0,
              "ticks": ""
             }
            },
            "type": "scattergeo"
           }
          ],
          "scattergl": [
           {
            "marker": {
             "colorbar": {
              "outlinewidth": 0,
              "ticks": ""
             }
            },
            "type": "scattergl"
           }
          ],
          "scattermap": [
           {
            "marker": {
             "colorbar": {
              "outlinewidth": 0,
              "ticks": ""
             }
            },
            "type": "scattermap"
           }
          ],
          "scattermapbox": [
           {
            "marker": {
             "colorbar": {
              "outlinewidth": 0,
              "ticks": ""
             }
            },
            "type": "scattermapbox"
           }
          ],
          "scatterpolar": [
           {
            "marker": {
             "colorbar": {
              "outlinewidth": 0,
              "ticks": ""
             }
            },
            "type": "scatterpolar"
           }
          ],
          "scatterpolargl": [
           {
            "marker": {
             "colorbar": {
              "outlinewidth": 0,
              "ticks": ""
             }
            },
            "type": "scatterpolargl"
           }
          ],
          "scatterternary": [
           {
            "marker": {
             "colorbar": {
              "outlinewidth": 0,
              "ticks": ""
             }
            },
            "type": "scatterternary"
           }
          ],
          "surface": [
           {
            "colorbar": {
             "outlinewidth": 0,
             "ticks": ""
            },
            "colorscale": [
             [
              0,
              "#0d0887"
             ],
             [
              0.1111111111111111,
              "#46039f"
             ],
             [
              0.2222222222222222,
              "#7201a8"
             ],
             [
              0.3333333333333333,
              "#9c179e"
             ],
             [
              0.4444444444444444,
              "#bd3786"
             ],
             [
              0.5555555555555556,
              "#d8576b"
             ],
             [
              0.6666666666666666,
              "#ed7953"
             ],
             [
              0.7777777777777778,
              "#fb9f3a"
             ],
             [
              0.8888888888888888,
              "#fdca26"
             ],
             [
              1,
              "#f0f921"
             ]
            ],
            "type": "surface"
           }
          ],
          "table": [
           {
            "cells": {
             "fill": {
              "color": "#EBF0F8"
             },
             "line": {
              "color": "white"
             }
            },
            "header": {
             "fill": {
              "color": "#C8D4E3"
             },
             "line": {
              "color": "white"
             }
            },
            "type": "table"
           }
          ]
         },
         "layout": {
          "annotationdefaults": {
           "arrowcolor": "#2a3f5f",
           "arrowhead": 0,
           "arrowwidth": 1
          },
          "autotypenumbers": "strict",
          "coloraxis": {
           "colorbar": {
            "outlinewidth": 0,
            "ticks": ""
           }
          },
          "colorscale": {
           "diverging": [
            [
             0,
             "#8e0152"
            ],
            [
             0.1,
             "#c51b7d"
            ],
            [
             0.2,
             "#de77ae"
            ],
            [
             0.3,
             "#f1b6da"
            ],
            [
             0.4,
             "#fde0ef"
            ],
            [
             0.5,
             "#f7f7f7"
            ],
            [
             0.6,
             "#e6f5d0"
            ],
            [
             0.7,
             "#b8e186"
            ],
            [
             0.8,
             "#7fbc41"
            ],
            [
             0.9,
             "#4d9221"
            ],
            [
             1,
             "#276419"
            ]
           ],
           "sequential": [
            [
             0,
             "#0d0887"
            ],
            [
             0.1111111111111111,
             "#46039f"
            ],
            [
             0.2222222222222222,
             "#7201a8"
            ],
            [
             0.3333333333333333,
             "#9c179e"
            ],
            [
             0.4444444444444444,
             "#bd3786"
            ],
            [
             0.5555555555555556,
             "#d8576b"
            ],
            [
             0.6666666666666666,
             "#ed7953"
            ],
            [
             0.7777777777777778,
             "#fb9f3a"
            ],
            [
             0.8888888888888888,
             "#fdca26"
            ],
            [
             1,
             "#f0f921"
            ]
           ],
           "sequentialminus": [
            [
             0,
             "#0d0887"
            ],
            [
             0.1111111111111111,
             "#46039f"
            ],
            [
             0.2222222222222222,
             "#7201a8"
            ],
            [
             0.3333333333333333,
             "#9c179e"
            ],
            [
             0.4444444444444444,
             "#bd3786"
            ],
            [
             0.5555555555555556,
             "#d8576b"
            ],
            [
             0.6666666666666666,
             "#ed7953"
            ],
            [
             0.7777777777777778,
             "#fb9f3a"
            ],
            [
             0.8888888888888888,
             "#fdca26"
            ],
            [
             1,
             "#f0f921"
            ]
           ]
          },
          "colorway": [
           "#636efa",
           "#EF553B",
           "#00cc96",
           "#ab63fa",
           "#FFA15A",
           "#19d3f3",
           "#FF6692",
           "#B6E880",
           "#FF97FF",
           "#FECB52"
          ],
          "font": {
           "color": "#2a3f5f"
          },
          "geo": {
           "bgcolor": "white",
           "lakecolor": "white",
           "landcolor": "#E5ECF6",
           "showlakes": true,
           "showland": true,
           "subunitcolor": "white"
          },
          "hoverlabel": {
           "align": "left"
          },
          "hovermode": "closest",
          "mapbox": {
           "style": "light"
          },
          "paper_bgcolor": "white",
          "plot_bgcolor": "#E5ECF6",
          "polar": {
           "angularaxis": {
            "gridcolor": "white",
            "linecolor": "white",
            "ticks": ""
           },
           "bgcolor": "#E5ECF6",
           "radialaxis": {
            "gridcolor": "white",
            "linecolor": "white",
            "ticks": ""
           }
          },
          "scene": {
           "xaxis": {
            "backgroundcolor": "#E5ECF6",
            "gridcolor": "white",
            "gridwidth": 2,
            "linecolor": "white",
            "showbackground": true,
            "ticks": "",
            "zerolinecolor": "white"
           },
           "yaxis": {
            "backgroundcolor": "#E5ECF6",
            "gridcolor": "white",
            "gridwidth": 2,
            "linecolor": "white",
            "showbackground": true,
            "ticks": "",
            "zerolinecolor": "white"
           },
           "zaxis": {
            "backgroundcolor": "#E5ECF6",
            "gridcolor": "white",
            "gridwidth": 2,
            "linecolor": "white",
            "showbackground": true,
            "ticks": "",
            "zerolinecolor": "white"
           }
          },
          "shapedefaults": {
           "line": {
            "color": "#2a3f5f"
           }
          },
          "ternary": {
           "aaxis": {
            "gridcolor": "white",
            "linecolor": "white",
            "ticks": ""
           },
           "baxis": {
            "gridcolor": "white",
            "linecolor": "white",
            "ticks": ""
           },
           "bgcolor": "#E5ECF6",
           "caxis": {
            "gridcolor": "white",
            "linecolor": "white",
            "ticks": ""
           }
          },
          "title": {
           "x": 0.05
          },
          "xaxis": {
           "automargin": true,
           "gridcolor": "white",
           "linecolor": "white",
           "ticks": "",
           "title": {
            "standoff": 15
           },
           "zerolinecolor": "white",
           "zerolinewidth": 2
          },
          "yaxis": {
           "automargin": true,
           "gridcolor": "white",
           "linecolor": "white",
           "ticks": "",
           "title": {
            "standoff": 15
           },
           "zerolinecolor": "white",
           "zerolinewidth": 2
          }
         }
        },
        "title": {
         "text": "Average Time in Port Waters"
        },
        "width": 800,
        "xaxis": {
         "anchor": "y",
         "domain": [
          0,
          1
         ],
         "title": {
          "text": "Hrs in Port Waters"
         }
        },
        "yaxis": {
         "anchor": "x",
         "domain": [
          0,
          1
         ],
         "title": {
          "text": "port_name"
         }
        }
       }
      }
     },
     "metadata": {},
     "output_type": "display_data"
    }
   ],
   "source": [
    "bar_ranking(df=calls_df, cat_group='port_name', stat_col='hrs_in_port_waters',\n",
    "           stat_alias='Hrs in Port Waters', title='Average Time in Port Waters', \n",
    "           labels={'dock_name':'Dock'}, highlight='Seattle, WA',\n",
    "           width=800, height=500)"
   ]
  },
  {
   "cell_type": "code",
   "execution_count": 15,
   "metadata": {},
   "outputs": [
    {
     "data": {
      "application/vnd.plotly.v1+json": {
       "config": {
        "plotlyServerURL": "https://plot.ly"
       },
       "data": [
        {
         "hovertemplate": "Efficiency Score=%{x}<br>Port=%{y}<extra></extra>",
         "legendgroup": "",
         "marker": {
          "color": [
           "lightgrey",
           "lightgrey",
           "lightgrey",
           "lightgrey",
           "lightgrey",
           "lightgrey",
           "lightgrey",
           "lightgrey",
           "lightgrey",
           "lightgrey",
           "lightgrey",
           "lightgrey",
           "lightgrey",
           "#636efa",
           "lightgrey",
           "lightgrey",
           "lightgrey",
           "lightgrey",
           "lightgrey",
           "lightgrey"
          ],
          "pattern": {
           "shape": ""
          }
         },
         "name": "",
         "orientation": "h",
         "showlegend": false,
         "textposition": "auto",
         "type": "bar",
         "x": {
          "bdata": "Dt9v8MVmL0AntUvm7CEwQPzrecW3ljBARprfuSbjMEC+TNMlMO8wQEeKy+JlgjFAH0UIBtCGMUCaPZ8pXJ0xQPRnNWu+PTJAPFjYVlHEMkC2JjmHUuYyQP052GLifDNATjaUyubNM0CHS1lqqEI1QOkl8/0y/DVAWq2/2vwNN0BWUWqVn6o6QDU4ujGCAjtAzrAZcIFdQEAKlUHuBoZDQA==",
          "dtype": "f8"
         },
         "xaxis": "x",
         "y": [
          "New Orleans, LA",
          "Port of Everett, WA",
          "Honolulu, O'ahu, HI",
          "Port of Alaska, AK",
          "Oxnard Harbor District, CA",
          "Seattle, WA",
          "PortMiami, FL",
          "Portsmouth, NH",
          "San Juan, PR",
          "Port of Brunswick, GA",
          "Port of Charleston, SC",
          "Port of Gulfport, MS",
          "Port of Oakland, CA",
          "Wilmington, NC",
          "Virginia, VA, Port of",
          "Boston, MA",
          "Bridgeport, CT",
          "Unalaska Island, AK",
          "Nawiliwili, Kaua'i, HI",
          "Kahului, Maui, HI"
         ],
         "yaxis": "y"
        }
       ],
       "layout": {
        "annotations": [
         {
          "align": "center",
          "font": {
           "size": 12
          },
          "showarrow": false,
          "text": "Vessel-Feet per Hour at Berth",
          "x": 0.5,
          "xref": "paper",
          "y": -0.15,
          "yref": "paper"
         }
        ],
        "barmode": "relative",
        "height": 600,
        "legend": {
         "tracegroupgap": 0
        },
        "template": {
         "data": {
          "bar": [
           {
            "error_x": {
             "color": "#2a3f5f"
            },
            "error_y": {
             "color": "#2a3f5f"
            },
            "marker": {
             "line": {
              "color": "#E5ECF6",
              "width": 0.5
             },
             "pattern": {
              "fillmode": "overlay",
              "size": 10,
              "solidity": 0.2
             }
            },
            "type": "bar"
           }
          ],
          "barpolar": [
           {
            "marker": {
             "line": {
              "color": "#E5ECF6",
              "width": 0.5
             },
             "pattern": {
              "fillmode": "overlay",
              "size": 10,
              "solidity": 0.2
             }
            },
            "type": "barpolar"
           }
          ],
          "carpet": [
           {
            "aaxis": {
             "endlinecolor": "#2a3f5f",
             "gridcolor": "white",
             "linecolor": "white",
             "minorgridcolor": "white",
             "startlinecolor": "#2a3f5f"
            },
            "baxis": {
             "endlinecolor": "#2a3f5f",
             "gridcolor": "white",
             "linecolor": "white",
             "minorgridcolor": "white",
             "startlinecolor": "#2a3f5f"
            },
            "type": "carpet"
           }
          ],
          "choropleth": [
           {
            "colorbar": {
             "outlinewidth": 0,
             "ticks": ""
            },
            "type": "choropleth"
           }
          ],
          "contour": [
           {
            "colorbar": {
             "outlinewidth": 0,
             "ticks": ""
            },
            "colorscale": [
             [
              0,
              "#0d0887"
             ],
             [
              0.1111111111111111,
              "#46039f"
             ],
             [
              0.2222222222222222,
              "#7201a8"
             ],
             [
              0.3333333333333333,
              "#9c179e"
             ],
             [
              0.4444444444444444,
              "#bd3786"
             ],
             [
              0.5555555555555556,
              "#d8576b"
             ],
             [
              0.6666666666666666,
              "#ed7953"
             ],
             [
              0.7777777777777778,
              "#fb9f3a"
             ],
             [
              0.8888888888888888,
              "#fdca26"
             ],
             [
              1,
              "#f0f921"
             ]
            ],
            "type": "contour"
           }
          ],
          "contourcarpet": [
           {
            "colorbar": {
             "outlinewidth": 0,
             "ticks": ""
            },
            "type": "contourcarpet"
           }
          ],
          "heatmap": [
           {
            "colorbar": {
             "outlinewidth": 0,
             "ticks": ""
            },
            "colorscale": [
             [
              0,
              "#0d0887"
             ],
             [
              0.1111111111111111,
              "#46039f"
             ],
             [
              0.2222222222222222,
              "#7201a8"
             ],
             [
              0.3333333333333333,
              "#9c179e"
             ],
             [
              0.4444444444444444,
              "#bd3786"
             ],
             [
              0.5555555555555556,
              "#d8576b"
             ],
             [
              0.6666666666666666,
              "#ed7953"
             ],
             [
              0.7777777777777778,
              "#fb9f3a"
             ],
             [
              0.8888888888888888,
              "#fdca26"
             ],
             [
              1,
              "#f0f921"
             ]
            ],
            "type": "heatmap"
           }
          ],
          "histogram": [
           {
            "marker": {
             "pattern": {
              "fillmode": "overlay",
              "size": 10,
              "solidity": 0.2
             }
            },
            "type": "histogram"
           }
          ],
          "histogram2d": [
           {
            "colorbar": {
             "outlinewidth": 0,
             "ticks": ""
            },
            "colorscale": [
             [
              0,
              "#0d0887"
             ],
             [
              0.1111111111111111,
              "#46039f"
             ],
             [
              0.2222222222222222,
              "#7201a8"
             ],
             [
              0.3333333333333333,
              "#9c179e"
             ],
             [
              0.4444444444444444,
              "#bd3786"
             ],
             [
              0.5555555555555556,
              "#d8576b"
             ],
             [
              0.6666666666666666,
              "#ed7953"
             ],
             [
              0.7777777777777778,
              "#fb9f3a"
             ],
             [
              0.8888888888888888,
              "#fdca26"
             ],
             [
              1,
              "#f0f921"
             ]
            ],
            "type": "histogram2d"
           }
          ],
          "histogram2dcontour": [
           {
            "colorbar": {
             "outlinewidth": 0,
             "ticks": ""
            },
            "colorscale": [
             [
              0,
              "#0d0887"
             ],
             [
              0.1111111111111111,
              "#46039f"
             ],
             [
              0.2222222222222222,
              "#7201a8"
             ],
             [
              0.3333333333333333,
              "#9c179e"
             ],
             [
              0.4444444444444444,
              "#bd3786"
             ],
             [
              0.5555555555555556,
              "#d8576b"
             ],
             [
              0.6666666666666666,
              "#ed7953"
             ],
             [
              0.7777777777777778,
              "#fb9f3a"
             ],
             [
              0.8888888888888888,
              "#fdca26"
             ],
             [
              1,
              "#f0f921"
             ]
            ],
            "type": "histogram2dcontour"
           }
          ],
          "mesh3d": [
           {
            "colorbar": {
             "outlinewidth": 0,
             "ticks": ""
            },
            "type": "mesh3d"
           }
          ],
          "parcoords": [
           {
            "line": {
             "colorbar": {
              "outlinewidth": 0,
              "ticks": ""
             }
            },
            "type": "parcoords"
           }
          ],
          "pie": [
           {
            "automargin": true,
            "type": "pie"
           }
          ],
          "scatter": [
           {
            "fillpattern": {
             "fillmode": "overlay",
             "size": 10,
             "solidity": 0.2
            },
            "type": "scatter"
           }
          ],
          "scatter3d": [
           {
            "line": {
             "colorbar": {
              "outlinewidth": 0,
              "ticks": ""
             }
            },
            "marker": {
             "colorbar": {
              "outlinewidth": 0,
              "ticks": ""
             }
            },
            "type": "scatter3d"
           }
          ],
          "scattercarpet": [
           {
            "marker": {
             "colorbar": {
              "outlinewidth": 0,
              "ticks": ""
             }
            },
            "type": "scattercarpet"
           }
          ],
          "scattergeo": [
           {
            "marker": {
             "colorbar": {
              "outlinewidth": 0,
              "ticks": ""
             }
            },
            "type": "scattergeo"
           }
          ],
          "scattergl": [
           {
            "marker": {
             "colorbar": {
              "outlinewidth": 0,
              "ticks": ""
             }
            },
            "type": "scattergl"
           }
          ],
          "scattermap": [
           {
            "marker": {
             "colorbar": {
              "outlinewidth": 0,
              "ticks": ""
             }
            },
            "type": "scattermap"
           }
          ],
          "scattermapbox": [
           {
            "marker": {
             "colorbar": {
              "outlinewidth": 0,
              "ticks": ""
             }
            },
            "type": "scattermapbox"
           }
          ],
          "scatterpolar": [
           {
            "marker": {
             "colorbar": {
              "outlinewidth": 0,
              "ticks": ""
             }
            },
            "type": "scatterpolar"
           }
          ],
          "scatterpolargl": [
           {
            "marker": {
             "colorbar": {
              "outlinewidth": 0,
              "ticks": ""
             }
            },
            "type": "scatterpolargl"
           }
          ],
          "scatterternary": [
           {
            "marker": {
             "colorbar": {
              "outlinewidth": 0,
              "ticks": ""
             }
            },
            "type": "scatterternary"
           }
          ],
          "surface": [
           {
            "colorbar": {
             "outlinewidth": 0,
             "ticks": ""
            },
            "colorscale": [
             [
              0,
              "#0d0887"
             ],
             [
              0.1111111111111111,
              "#46039f"
             ],
             [
              0.2222222222222222,
              "#7201a8"
             ],
             [
              0.3333333333333333,
              "#9c179e"
             ],
             [
              0.4444444444444444,
              "#bd3786"
             ],
             [
              0.5555555555555556,
              "#d8576b"
             ],
             [
              0.6666666666666666,
              "#ed7953"
             ],
             [
              0.7777777777777778,
              "#fb9f3a"
             ],
             [
              0.8888888888888888,
              "#fdca26"
             ],
             [
              1,
              "#f0f921"
             ]
            ],
            "type": "surface"
           }
          ],
          "table": [
           {
            "cells": {
             "fill": {
              "color": "#EBF0F8"
             },
             "line": {
              "color": "white"
             }
            },
            "header": {
             "fill": {
              "color": "#C8D4E3"
             },
             "line": {
              "color": "white"
             }
            },
            "type": "table"
           }
          ]
         },
         "layout": {
          "annotationdefaults": {
           "arrowcolor": "#2a3f5f",
           "arrowhead": 0,
           "arrowwidth": 1
          },
          "autotypenumbers": "strict",
          "coloraxis": {
           "colorbar": {
            "outlinewidth": 0,
            "ticks": ""
           }
          },
          "colorscale": {
           "diverging": [
            [
             0,
             "#8e0152"
            ],
            [
             0.1,
             "#c51b7d"
            ],
            [
             0.2,
             "#de77ae"
            ],
            [
             0.3,
             "#f1b6da"
            ],
            [
             0.4,
             "#fde0ef"
            ],
            [
             0.5,
             "#f7f7f7"
            ],
            [
             0.6,
             "#e6f5d0"
            ],
            [
             0.7,
             "#b8e186"
            ],
            [
             0.8,
             "#7fbc41"
            ],
            [
             0.9,
             "#4d9221"
            ],
            [
             1,
             "#276419"
            ]
           ],
           "sequential": [
            [
             0,
             "#0d0887"
            ],
            [
             0.1111111111111111,
             "#46039f"
            ],
            [
             0.2222222222222222,
             "#7201a8"
            ],
            [
             0.3333333333333333,
             "#9c179e"
            ],
            [
             0.4444444444444444,
             "#bd3786"
            ],
            [
             0.5555555555555556,
             "#d8576b"
            ],
            [
             0.6666666666666666,
             "#ed7953"
            ],
            [
             0.7777777777777778,
             "#fb9f3a"
            ],
            [
             0.8888888888888888,
             "#fdca26"
            ],
            [
             1,
             "#f0f921"
            ]
           ],
           "sequentialminus": [
            [
             0,
             "#0d0887"
            ],
            [
             0.1111111111111111,
             "#46039f"
            ],
            [
             0.2222222222222222,
             "#7201a8"
            ],
            [
             0.3333333333333333,
             "#9c179e"
            ],
            [
             0.4444444444444444,
             "#bd3786"
            ],
            [
             0.5555555555555556,
             "#d8576b"
            ],
            [
             0.6666666666666666,
             "#ed7953"
            ],
            [
             0.7777777777777778,
             "#fb9f3a"
            ],
            [
             0.8888888888888888,
             "#fdca26"
            ],
            [
             1,
             "#f0f921"
            ]
           ]
          },
          "colorway": [
           "#636efa",
           "#EF553B",
           "#00cc96",
           "#ab63fa",
           "#FFA15A",
           "#19d3f3",
           "#FF6692",
           "#B6E880",
           "#FF97FF",
           "#FECB52"
          ],
          "font": {
           "color": "#2a3f5f"
          },
          "geo": {
           "bgcolor": "white",
           "lakecolor": "white",
           "landcolor": "#E5ECF6",
           "showlakes": true,
           "showland": true,
           "subunitcolor": "white"
          },
          "hoverlabel": {
           "align": "left"
          },
          "hovermode": "closest",
          "mapbox": {
           "style": "light"
          },
          "paper_bgcolor": "white",
          "plot_bgcolor": "#E5ECF6",
          "polar": {
           "angularaxis": {
            "gridcolor": "white",
            "linecolor": "white",
            "ticks": ""
           },
           "bgcolor": "#E5ECF6",
           "radialaxis": {
            "gridcolor": "white",
            "linecolor": "white",
            "ticks": ""
           }
          },
          "scene": {
           "xaxis": {
            "backgroundcolor": "#E5ECF6",
            "gridcolor": "white",
            "gridwidth": 2,
            "linecolor": "white",
            "showbackground": true,
            "ticks": "",
            "zerolinecolor": "white"
           },
           "yaxis": {
            "backgroundcolor": "#E5ECF6",
            "gridcolor": "white",
            "gridwidth": 2,
            "linecolor": "white",
            "showbackground": true,
            "ticks": "",
            "zerolinecolor": "white"
           },
           "zaxis": {
            "backgroundcolor": "#E5ECF6",
            "gridcolor": "white",
            "gridwidth": 2,
            "linecolor": "white",
            "showbackground": true,
            "ticks": "",
            "zerolinecolor": "white"
           }
          },
          "shapedefaults": {
           "line": {
            "color": "#2a3f5f"
           }
          },
          "ternary": {
           "aaxis": {
            "gridcolor": "white",
            "linecolor": "white",
            "ticks": ""
           },
           "baxis": {
            "gridcolor": "white",
            "linecolor": "white",
            "ticks": ""
           },
           "bgcolor": "#E5ECF6",
           "caxis": {
            "gridcolor": "white",
            "linecolor": "white",
            "ticks": ""
           }
          },
          "title": {
           "x": 0.05
          },
          "xaxis": {
           "automargin": true,
           "gridcolor": "white",
           "linecolor": "white",
           "ticks": "",
           "title": {
            "standoff": 15
           },
           "zerolinecolor": "white",
           "zerolinewidth": 2
          },
          "yaxis": {
           "automargin": true,
           "gridcolor": "white",
           "linecolor": "white",
           "ticks": "",
           "title": {
            "standoff": 15
           },
           "zerolinecolor": "white",
           "zerolinewidth": 2
          }
         }
        },
        "title": {
         "text": "Efficiency Rankings"
        },
        "width": 800,
        "xaxis": {
         "anchor": "y",
         "domain": [
          0,
          1
         ],
         "title": {
          "text": "Efficiency Score"
         }
        },
        "yaxis": {
         "anchor": "x",
         "domain": [
          0,
          1
         ],
         "title": {
          "text": "Port"
         }
        }
       }
      }
     },
     "metadata": {},
     "output_type": "display_data"
    }
   ],
   "source": [
    "#get top ports\n",
    "top_ports = (\n",
    "    calls_df\n",
    "    .group_by('port_name')\n",
    "    .agg(\n",
    "        (pl.col('vessel_size')/pl.col('hrs_at_berth')).mean().alias('Efficiency Score')\n",
    "    )\n",
    "    .sort(pl.col('Efficiency Score'), descending=True)\n",
    "    .limit(20)\n",
    "    .to_series()\n",
    ")\n",
    "\n",
    "#define bar chart function\n",
    "fig = px.bar(\n",
    "    data_frame=(\n",
    "        calls_df\n",
    "        .filter(pl.col('port_name').is_in(top_ports))\n",
    "        .group_by('port_name')\n",
    "        .agg(\n",
    "            (pl.col('vessel_size')/pl.col('hrs_at_berth')).mean().alias('Efficiency Score')\n",
    "        )\n",
    "        .sort(pl.col('Efficiency Score'))\n",
    "    ),\n",
    "    labels={'port_name':'Port'},\n",
    "    x='Efficiency Score', y='port_name', title='Efficiency Rankings',\n",
    "    width=800, height=600,\n",
    ")\n",
    "\n",
    "#annotate\n",
    "fig.add_annotation(\n",
    "    text=\"Vessel-Feet per Hour at Berth\",\n",
    "    xref=\"paper\", yref=\"paper\",\n",
    "    x=0.5, y=-0.15,\n",
    "    showarrow=False,\n",
    "    font=dict(size=12),\n",
    "    align=\"center\"\n",
    ")\n",
    "\n",
    "fig[\"data\"][0][\"marker\"][\"color\"] = [fig[\"data\"][0][\"marker\"]['color'] if \n",
    "                                     c == 'Wilmington, NC' else \n",
    "                                     \"lightgrey\" for c in fig[\"data\"][0][\"y\"]]\n",
    "\n",
    "fig.show()\n"
   ]
  },
  {
   "cell_type": "markdown",
   "metadata": {},
   "source": [
    "## Dash App"
   ]
  },
  {
   "cell_type": "code",
   "execution_count": 16,
   "metadata": {},
   "outputs": [
    {
     "data": {
      "text/plain": [
       "'Vessel Size'"
      ]
     },
     "execution_count": 16,
     "metadata": {},
     "output_type": "execute_result"
    }
   ],
   "source": [
    "#metric dropdown options\n",
    "metric_options = [\n",
    "    {'label': 'Hours at Berth', 'value': 'hrs_at_berth'},\n",
    "    {'label': 'Hours at Anchor', 'value': 'hrs_at_anchor'},\n",
    "    {'label': 'Hours in Port Waters', 'value': 'hrs_in_port_waters'},\n",
    "    {'label': 'Vessel Size', 'value': 'vessel_size'}\n",
    "]\n",
    "\n",
    "[option['label'] for option in metric_options if \n",
    "                           option['value'] == 'vessel_size'][0]"
   ]
  },
  {
   "cell_type": "code",
   "execution_count": 17,
   "metadata": {},
   "outputs": [
    {
     "name": "stdout",
     "output_type": "stream",
     "text": [
      "Dash app running on http://127.0.0.1:8050/\n"
     ]
    },
    {
     "name": "stderr",
     "output_type": "stream",
     "text": [
      "/var/folders/dc/sgfd2dls28n4y4v4_jw03ly40000gp/T/ipykernel_4162/674434613.py:60: DeprecationWarning:\n",
      "\n",
      "*scatter_mapbox* is deprecated! Use *scatter_map* instead. Learn more at: https://plotly.com/python/mapbox-to-maplibre/\n",
      "\n",
      "/var/folders/dc/sgfd2dls28n4y4v4_jw03ly40000gp/T/ipykernel_4162/674434613.py:60: DeprecationWarning:\n",
      "\n",
      "*scatter_mapbox* is deprecated! Use *scatter_map* instead. Learn more at: https://plotly.com/python/mapbox-to-maplibre/\n",
      "\n",
      "[2025-05-08 09:40:37,451] ERROR in app: Exception on /_dash-update-component [POST]\n",
      "Traceback (most recent call last):\n",
      "  File \"/Users/adamwilson/miniconda3/envs/port_performance/lib/python3.13/site-packages/flask/app.py\", line 1473, in wsgi_app\n",
      "    response = self.full_dispatch_request()\n",
      "  File \"/Users/adamwilson/miniconda3/envs/port_performance/lib/python3.13/site-packages/flask/app.py\", line 882, in full_dispatch_request\n",
      "    rv = self.handle_user_exception(e)\n",
      "  File \"/Users/adamwilson/miniconda3/envs/port_performance/lib/python3.13/site-packages/flask/app.py\", line 880, in full_dispatch_request\n",
      "    rv = self.dispatch_request()\n",
      "  File \"/Users/adamwilson/miniconda3/envs/port_performance/lib/python3.13/site-packages/flask/app.py\", line 865, in dispatch_request\n",
      "    return self.ensure_sync(self.view_functions[rule.endpoint])(**view_args)  # type: ignore[no-any-return]\n",
      "           ~~~~~~~~~~~~~~~~~~~~~~~~~~~~~~~~~~~~~~~~~~~~~~~~~~~~^^^^^^^^^^^^^\n",
      "  File \"/Users/adamwilson/miniconda3/envs/port_performance/lib/python3.13/site-packages/dash/dash.py\", line 1310, in dispatch\n",
      "    ctx.run(\n",
      "    ~~~~~~~^\n",
      "        functools.partial(\n",
      "        ^^^^^^^^^^^^^^^^^^\n",
      "    ...<5 lines>...\n",
      "        )\n",
      "        ^\n",
      "    )\n",
      "    ^\n",
      "  File \"/Users/adamwilson/miniconda3/envs/port_performance/lib/python3.13/site-packages/dash/_callback.py\", line 442, in add_context\n",
      "    output_value = func(*func_args, **func_kwargs)  # %% callback invoked %%\n",
      "  File \"/var/folders/dc/sgfd2dls28n4y4v4_jw03ly40000gp/T/ipykernel_4162/3923092510.py\", line 95, in update_graphs\n",
      "    mapbox_national = plot_mapbox(\n",
      "        df=calls_df, cat_group='port_name', lat_col='port_lat', lon_col='port_lon',\n",
      "    ...<7 lines>...\n",
      "        time_range=[start_date, end_date]\n",
      "    )\n",
      "  File \"/var/folders/dc/sgfd2dls28n4y4v4_jw03ly40000gp/T/ipykernel_4162/674434613.py\", line 23, in plot_mapbox\n",
      "    .agg(\n",
      "     ~~~^\n",
      "        #get the lat and lon columns\n",
      "        ^^^^^^^^^^^^^^^^^^^^^^^^^^^^\n",
      "    ...<6 lines>...\n",
      "        pl.col(color_col).mean().alias(color_col_alias),\n",
      "        ^^^^^^^^^^^^^^^^^^^^^^^^^^^^^^^^^^^^^^^^^^^^^^^^\n",
      "    )\n",
      "    ^\n",
      "  File \"/Users/adamwilson/miniconda3/envs/port_performance/lib/python3.13/site-packages/polars/dataframe/group_by.py\", line 232, in agg\n",
      "    .collect(no_optimization=True)\n",
      "     ~~~~~~~^^^^^^^^^^^^^^^^^^^^^^\n",
      "  File \"/Users/adamwilson/miniconda3/envs/port_performance/lib/python3.13/site-packages/polars/_utils/deprecation.py\", line 93, in wrapper\n",
      "    return function(*args, **kwargs)\n",
      "  File \"/Users/adamwilson/miniconda3/envs/port_performance/lib/python3.13/site-packages/polars/lazyframe/frame.py\", line 2206, in collect\n",
      "    return wrap_df(ldf.collect(engine, callback))\n",
      "                   ~~~~~~~~~~~^^^^^^^^^^^^^^^^^^\n",
      "polars.exceptions.DuplicateError: column with name 'Vessel Size' has more than one occurrence\n",
      "\n",
      "Resolved plan until failure:\n",
      "\n",
      "\t---> FAILED HERE RESOLVING 'sink' <---\n",
      "DF [\"call_id\", \"port_name\", \"port_lat\", \"port_lon\", ...]; PROJECT */23 COLUMNS\n",
      "/var/folders/dc/sgfd2dls28n4y4v4_jw03ly40000gp/T/ipykernel_4162/674434613.py:60: DeprecationWarning:\n",
      "\n",
      "*scatter_mapbox* is deprecated! Use *scatter_map* instead. Learn more at: https://plotly.com/python/mapbox-to-maplibre/\n",
      "\n",
      "/var/folders/dc/sgfd2dls28n4y4v4_jw03ly40000gp/T/ipykernel_4162/674434613.py:60: DeprecationWarning:\n",
      "\n",
      "*scatter_mapbox* is deprecated! Use *scatter_map* instead. Learn more at: https://plotly.com/python/mapbox-to-maplibre/\n",
      "\n",
      "/var/folders/dc/sgfd2dls28n4y4v4_jw03ly40000gp/T/ipykernel_4162/674434613.py:60: DeprecationWarning:\n",
      "\n",
      "*scatter_mapbox* is deprecated! Use *scatter_map* instead. Learn more at: https://plotly.com/python/mapbox-to-maplibre/\n",
      "\n",
      "[2025-05-08 09:42:05,386] ERROR in app: Exception on /_dash-update-component [POST]\n",
      "Traceback (most recent call last):\n",
      "  File \"/Users/adamwilson/miniconda3/envs/port_performance/lib/python3.13/site-packages/flask/app.py\", line 1473, in wsgi_app\n",
      "    response = self.full_dispatch_request()\n",
      "  File \"/Users/adamwilson/miniconda3/envs/port_performance/lib/python3.13/site-packages/flask/app.py\", line 882, in full_dispatch_request\n",
      "    rv = self.handle_user_exception(e)\n",
      "  File \"/Users/adamwilson/miniconda3/envs/port_performance/lib/python3.13/site-packages/flask/app.py\", line 880, in full_dispatch_request\n",
      "    rv = self.dispatch_request()\n",
      "  File \"/Users/adamwilson/miniconda3/envs/port_performance/lib/python3.13/site-packages/flask/app.py\", line 865, in dispatch_request\n",
      "    return self.ensure_sync(self.view_functions[rule.endpoint])(**view_args)  # type: ignore[no-any-return]\n",
      "           ~~~~~~~~~~~~~~~~~~~~~~~~~~~~~~~~~~~~~~~~~~~~~~~~~~~~^^^^^^^^^^^^^\n",
      "  File \"/Users/adamwilson/miniconda3/envs/port_performance/lib/python3.13/site-packages/dash/dash.py\", line 1310, in dispatch\n",
      "    ctx.run(\n",
      "    ~~~~~~~^\n",
      "        functools.partial(\n",
      "        ^^^^^^^^^^^^^^^^^^\n",
      "    ...<5 lines>...\n",
      "        )\n",
      "        ^\n",
      "    )\n",
      "    ^\n",
      "  File \"/Users/adamwilson/miniconda3/envs/port_performance/lib/python3.13/site-packages/dash/_callback.py\", line 442, in add_context\n",
      "    output_value = func(*func_args, **func_kwargs)  # %% callback invoked %%\n",
      "  File \"/var/folders/dc/sgfd2dls28n4y4v4_jw03ly40000gp/T/ipykernel_4162/3923092510.py\", line 107, in update_graphs\n",
      "    mapbox_port = plot_mapbox(\n",
      "        df=calls_df, cat_group='dock_name', filter_col='port_name', filter=selected_ports,\n",
      "    ...<4 lines>...\n",
      "        time_range=[start_date, end_date]\n",
      "    )\n",
      "  File \"/var/folders/dc/sgfd2dls28n4y4v4_jw03ly40000gp/T/ipykernel_4162/674434613.py\", line 46, in plot_mapbox\n",
      "    'lat': ((df[lat_col].max() - df[lat_col].min()) / 2),\n",
      "             ~~~~~~~~~~~~~~~~~~^~~~~~~~~~~~~~~~~~~\n",
      "TypeError: unsupported operand type(s) for -: 'NoneType' and 'NoneType'\n",
      "/var/folders/dc/sgfd2dls28n4y4v4_jw03ly40000gp/T/ipykernel_4162/674434613.py:60: DeprecationWarning:\n",
      "\n",
      "*scatter_mapbox* is deprecated! Use *scatter_map* instead. Learn more at: https://plotly.com/python/mapbox-to-maplibre/\n",
      "\n",
      "/var/folders/dc/sgfd2dls28n4y4v4_jw03ly40000gp/T/ipykernel_4162/674434613.py:60: DeprecationWarning:\n",
      "\n",
      "*scatter_mapbox* is deprecated! Use *scatter_map* instead. Learn more at: https://plotly.com/python/mapbox-to-maplibre/\n",
      "\n"
     ]
    }
   ],
   "source": [
    "#init app\n",
    "app = dash.Dash(__name__)\n",
    "\n",
    "#metric dropdown options\n",
    "metric_options = [\n",
    "    {'label': 'Hours at Berth', 'value': 'hrs_at_berth'},\n",
    "    {'label': 'Hours at Anchor', 'value': 'hrs_at_anchor'},\n",
    "    {'label': 'Hours in Port Waters', 'value': 'hrs_in_port_waters'},\n",
    "    {'label': 'Vessel Size', 'value': 'vessel_size'}\n",
    "]\n",
    "\n",
    "#layout\n",
    "app.layout = (\n",
    "    html.Div([\n",
    "        html.H1('Port Performance Dashboard v0.2'),\n",
    "        html.H2('https://github.com/epistemetrica/Port-Performance-Project'),\n",
    "        html.Div([    \n",
    "            #NOTE prefer date slider but need to dev slider with date strings\n",
    "            dcc.DatePickerRange(\n",
    "                id='date-picker-range',\n",
    "                #allowed dates\n",
    "                min_date_allowed=earliest_date, max_date_allowed=latest_date,\n",
    "                #initial start and end dates\n",
    "                start_date=earliest_date, end_date=latest_date,\n",
    "                #display setting\n",
    "                display_format='YYYY-MM-DD'\n",
    "            )\n",
    "        ]),\n",
    "        html.Div([\n",
    "            #dropdown for port selection\n",
    "            dcc.Dropdown(\n",
    "                id='port-dropdown',\n",
    "                options=[{'label': port, 'value': port} for \n",
    "                         port in calls_df['port_name'].unique()],\n",
    "                value=['Seattle, WA'], #default to view Seattle \n",
    "                multi=True,\n",
    "                placeholder='Select Ports',\n",
    "                style={'display':'inline-block','width':'50%'}\n",
    "            ),\n",
    "            #dropdown for primary metric selection\n",
    "            dcc.Dropdown(\n",
    "                id='metric-dropdown-primary',\n",
    "                options=metric_options,\n",
    "                value='hrs_at_berth',\n",
    "                placeholder='Select Primary Metric',\n",
    "                style={'display':'inline-block','width':'25%'}\n",
    "            ),\n",
    "            #dropdown for secondary metric selection\n",
    "            dcc.Dropdown(\n",
    "                id='metric-dropdown-secondary',\n",
    "                options=metric_options,\n",
    "                value='vessel_size', \n",
    "                placeholder='Select Secondary Metric',\n",
    "                style={'display':'inline-block','width':'25%'}\n",
    "            ),\n",
    "        ]),\n",
    "        html.Div([\n",
    "            dcc.Graph(id='mapbox-graph_national', \n",
    "                      style={'display':'inline-block', 'width':'50%'}),\n",
    "            dcc.Graph(id='mapbox-graph_port', \n",
    "                      style={'display':'inline-block', 'width':'50%'})\n",
    "        ]),\n",
    "        html.Div([\n",
    "            dcc.Graph(id='line-graph', \n",
    "                      style={'display':'inline-block', 'width':'50%'}),\n",
    "            dcc.Graph(id='bar-graph', \n",
    "                      style={'display':'inline-block', 'width':'50%'})\n",
    "        ])\n",
    "    ])\n",
    ")\n",
    "#decorators\n",
    "@app.callback(\n",
    "    Output('mapbox-graph_national', 'figure'),\n",
    "    Output('mapbox-graph_port', 'figure'),\n",
    "    Output('line-graph', 'figure'),\n",
    "    Output('bar-graph', 'figure'),\n",
    "    Input('date-picker-range', 'start_date'),\n",
    "    Input('date-picker-range', 'end_date'),\n",
    "    Input('port-dropdown', 'value'),\n",
    "    Input('metric-dropdown-primary', 'value'),\n",
    "    Input('metric-dropdown-secondary', 'value')\n",
    ")\n",
    "def update_graphs(start_date, end_date, selected_ports, \n",
    "                  primary_metric, secondary_metric):\n",
    "    #convert to datetime\n",
    "    start_date = dt.datetime.strptime(start_date, '%Y-%m-%d').date()\n",
    "    end_date = dt.datetime.strptime(end_date, '%Y-%m-%d').date()\n",
    "    #get metric labels\n",
    "    primary_alias = [option['label'] for option in metric_options if \n",
    "                           option['value'] == primary_metric][0]\n",
    "    secondary_alias = [option['label'] for option in metric_options if \n",
    "                           option['value'] == secondary_metric][0]\n",
    "    #\n",
    "    #make national ports map\n",
    "    mapbox_national = plot_mapbox(\n",
    "        df=calls_df, cat_group='port_name', lat_col='port_lat', lon_col='port_lon',\n",
    "        size_col=secondary_metric, \n",
    "        size_col_alias=secondary_alias,\n",
    "        color_col=primary_metric, \n",
    "        color_col_alias=primary_alias,\n",
    "        color_outlier_z=1, width=None, height=None, size_max=20,\n",
    "        title=f'{primary_alias} vs. {secondary_alias} at Principal Ports', \n",
    "        hover_name='port_name',\n",
    "        time_range=[start_date, end_date]\n",
    "    )\n",
    "    #make port map\n",
    "    mapbox_port = plot_mapbox(\n",
    "        df=calls_df, cat_group='dock_name', filter_col='port_name', filter=selected_ports,\n",
    "        lat_col='dock_lat', lon_col='dock_lon', size_col='hrs_at_berth', size_col_alias='Mean Hours at Berth',\n",
    "        color_col='hrs_at_anchor', color_col_alias='Mean Hours at Anchor',\n",
    "        size_max=20, color_outlier_z=3, width=None, height=None,\n",
    "        title='Hours at Berth vs. Hours at Anchor', hover_name='dock_name',\n",
    "        time_range=[start_date, end_date]\n",
    "    )\n",
    "    #line graph with chosen metric\n",
    "    line_graph = plot_line(\n",
    "        df=calls_df, cat_group='port_name', time_col='month',\n",
    "        y_col='hrs_at_berth', y_col_alias='Average Hours at Berth',\n",
    "        title='Hours at Berth per call at Principal Ports', width=None, height=None,\n",
    "        labels={'port_name':'Port', 'month':''},\n",
    "        cat_limit=10, cat_limit_col='hrs_at_berth',\n",
    "        highlight=selected_ports[0], highlight_color='blue',\n",
    "        time_range=[start_date, end_date]\n",
    "    )\n",
    "    #bar graph with chosen metric\n",
    "    bar_graph = bar_ranking(\n",
    "        df=calls_df, cat_group='dock_name', filter_col='port_name', filter=selected_ports,\n",
    "        stat_col='hrs_at_berth', stat_alias='Mean Hours at Berth', \n",
    "        title=f'Mean Hours at Berth for {selected_ports[0]} Docks',\n",
    "        limit=10, width=None, height=None,\n",
    "        time_range=[start_date, end_date]\n",
    "    )\n",
    "    #return figures\n",
    "    return mapbox_national, mapbox_port, line_graph, bar_graph\n",
    "\n",
    "\n",
    "#run - NOTE dev only; delete for production\n",
    "if __name__ == '__main__':\n",
    "    app.run_server(jupyter_mode='external')"
   ]
  },
  {
   "cell_type": "markdown",
   "metadata": {},
   "source": [
    "## Run App"
   ]
  },
  {
   "cell_type": "code",
   "execution_count": null,
   "metadata": {},
   "outputs": [
    {
     "name": "stdout",
     "output_type": "stream",
     "text": [
      "skip\n"
     ]
    }
   ],
   "source": [
    "%%script echo skip\n",
    "\n",
    "#run\n",
    "if __name__ == '__main__':\n",
    "    app.run_server()"
   ]
  }
 ],
 "metadata": {
  "kernelspec": {
   "display_name": "port_performance",
   "language": "python",
   "name": "python3"
  },
  "language_info": {
   "codemirror_mode": {
    "name": "ipython",
    "version": 3
   },
   "file_extension": ".py",
   "mimetype": "text/x-python",
   "name": "python",
   "nbconvert_exporter": "python",
   "pygments_lexer": "ipython3",
   "version": "3.13.2"
  }
 },
 "nbformat": 4,
 "nbformat_minor": 2
}
