{
 "cells": [
  {
   "cell_type": "code",
   "execution_count": 30,
   "metadata": {},
   "outputs": [],
   "source": [
    "import pandas as pd\n",
    "import polars as pl\n",
    "import os"
   ]
  },
  {
   "cell_type": "code",
   "execution_count": 31,
   "metadata": {},
   "outputs": [],
   "source": [
    "os.chdir('/Users/adamwilson/Downloads/')\n",
    "\n",
    "def bad_lines(line):\n",
    "    line = line[1:]\n",
    "    return line"
   ]
  },
  {
   "cell_type": "code",
   "execution_count": 32,
   "metadata": {},
   "outputs": [],
   "source": [
    "df = pd.read_csv('AIS_2023_05_09.csv', engine='python', on_bad_lines=bad_lines)"
   ]
  },
  {
   "cell_type": "code",
   "execution_count": 33,
   "metadata": {},
   "outputs": [
    {
     "name": "stdout",
     "output_type": "stream",
     "text": [
      "<class 'pandas.core.frame.DataFrame'>\n",
      "RangeIndex: 7838913 entries, 0 to 7838912\n",
      "Data columns (total 17 columns):\n",
      " #   Column            Dtype  \n",
      "---  ------            -----  \n",
      " 0   MMSI              int64  \n",
      " 1   BaseDateTime      object \n",
      " 2   LAT               float64\n",
      " 3   LON               float64\n",
      " 4   SOG               float64\n",
      " 5   COG               float64\n",
      " 6   Heading           float64\n",
      " 7   VesselName        object \n",
      " 8   IMO               object \n",
      " 9   CallSign          object \n",
      " 10  VesselType        float64\n",
      " 11  Status            float64\n",
      " 12  Length            float64\n",
      " 13  Width             float64\n",
      " 14  Draft             float64\n",
      " 15  Cargo             float64\n",
      " 16  TransceiverClass  object \n",
      "dtypes: float64(11), int64(1), object(5)\n",
      "memory usage: 1016.7+ MB\n"
     ]
    }
   ],
   "source": [
    "df.info()"
   ]
  },
  {
   "cell_type": "code",
   "execution_count": 27,
   "metadata": {},
   "outputs": [
    {
     "ename": "ParserError",
     "evalue": "Error tokenizing data. C error: Expected 17 fields in line 8557561, saw 18\n",
     "output_type": "error",
     "traceback": [
      "\u001b[0;31m---------------------------------------------------------------------------\u001b[0m",
      "\u001b[0;31mParserError\u001b[0m                               Traceback (most recent call last)",
      "Cell \u001b[0;32mIn[27], line 1\u001b[0m\n\u001b[0;32m----> 1\u001b[0m \u001b[43mpd\u001b[49m\u001b[38;5;241;43m.\u001b[39;49m\u001b[43mread_csv\u001b[49m\u001b[43m(\u001b[49m\u001b[38;5;124;43m'\u001b[39;49m\u001b[38;5;124;43mAIS_2023_05_25.csv\u001b[39;49m\u001b[38;5;124;43m'\u001b[39;49m\u001b[43m)\u001b[49m\n",
      "File \u001b[0;32m~/miniconda3/envs/wsu/lib/python3.12/site-packages/pandas/io/parsers/readers.py:948\u001b[0m, in \u001b[0;36mread_csv\u001b[0;34m(filepath_or_buffer, sep, delimiter, header, names, index_col, usecols, dtype, engine, converters, true_values, false_values, skipinitialspace, skiprows, skipfooter, nrows, na_values, keep_default_na, na_filter, verbose, skip_blank_lines, parse_dates, infer_datetime_format, keep_date_col, date_parser, date_format, dayfirst, cache_dates, iterator, chunksize, compression, thousands, decimal, lineterminator, quotechar, quoting, doublequote, escapechar, comment, encoding, encoding_errors, dialect, on_bad_lines, delim_whitespace, low_memory, memory_map, float_precision, storage_options, dtype_backend)\u001b[0m\n\u001b[1;32m    935\u001b[0m kwds_defaults \u001b[38;5;241m=\u001b[39m _refine_defaults_read(\n\u001b[1;32m    936\u001b[0m     dialect,\n\u001b[1;32m    937\u001b[0m     delimiter,\n\u001b[0;32m   (...)\u001b[0m\n\u001b[1;32m    944\u001b[0m     dtype_backend\u001b[38;5;241m=\u001b[39mdtype_backend,\n\u001b[1;32m    945\u001b[0m )\n\u001b[1;32m    946\u001b[0m kwds\u001b[38;5;241m.\u001b[39mupdate(kwds_defaults)\n\u001b[0;32m--> 948\u001b[0m \u001b[38;5;28;01mreturn\u001b[39;00m \u001b[43m_read\u001b[49m\u001b[43m(\u001b[49m\u001b[43mfilepath_or_buffer\u001b[49m\u001b[43m,\u001b[49m\u001b[43m \u001b[49m\u001b[43mkwds\u001b[49m\u001b[43m)\u001b[49m\n",
      "File \u001b[0;32m~/miniconda3/envs/wsu/lib/python3.12/site-packages/pandas/io/parsers/readers.py:617\u001b[0m, in \u001b[0;36m_read\u001b[0;34m(filepath_or_buffer, kwds)\u001b[0m\n\u001b[1;32m    614\u001b[0m     \u001b[38;5;28;01mreturn\u001b[39;00m parser\n\u001b[1;32m    616\u001b[0m \u001b[38;5;28;01mwith\u001b[39;00m parser:\n\u001b[0;32m--> 617\u001b[0m     \u001b[38;5;28;01mreturn\u001b[39;00m \u001b[43mparser\u001b[49m\u001b[38;5;241;43m.\u001b[39;49m\u001b[43mread\u001b[49m\u001b[43m(\u001b[49m\u001b[43mnrows\u001b[49m\u001b[43m)\u001b[49m\n",
      "File \u001b[0;32m~/miniconda3/envs/wsu/lib/python3.12/site-packages/pandas/io/parsers/readers.py:1748\u001b[0m, in \u001b[0;36mTextFileReader.read\u001b[0;34m(self, nrows)\u001b[0m\n\u001b[1;32m   1741\u001b[0m nrows \u001b[38;5;241m=\u001b[39m validate_integer(\u001b[38;5;124m\"\u001b[39m\u001b[38;5;124mnrows\u001b[39m\u001b[38;5;124m\"\u001b[39m, nrows)\n\u001b[1;32m   1742\u001b[0m \u001b[38;5;28;01mtry\u001b[39;00m:\n\u001b[1;32m   1743\u001b[0m     \u001b[38;5;66;03m# error: \"ParserBase\" has no attribute \"read\"\u001b[39;00m\n\u001b[1;32m   1744\u001b[0m     (\n\u001b[1;32m   1745\u001b[0m         index,\n\u001b[1;32m   1746\u001b[0m         columns,\n\u001b[1;32m   1747\u001b[0m         col_dict,\n\u001b[0;32m-> 1748\u001b[0m     ) \u001b[38;5;241m=\u001b[39m \u001b[38;5;28;43mself\u001b[39;49m\u001b[38;5;241;43m.\u001b[39;49m\u001b[43m_engine\u001b[49m\u001b[38;5;241;43m.\u001b[39;49m\u001b[43mread\u001b[49m\u001b[43m(\u001b[49m\u001b[43m  \u001b[49m\u001b[38;5;66;43;03m# type: ignore[attr-defined]\u001b[39;49;00m\n\u001b[1;32m   1749\u001b[0m \u001b[43m        \u001b[49m\u001b[43mnrows\u001b[49m\n\u001b[1;32m   1750\u001b[0m \u001b[43m    \u001b[49m\u001b[43m)\u001b[49m\n\u001b[1;32m   1751\u001b[0m \u001b[38;5;28;01mexcept\u001b[39;00m \u001b[38;5;167;01mException\u001b[39;00m:\n\u001b[1;32m   1752\u001b[0m     \u001b[38;5;28mself\u001b[39m\u001b[38;5;241m.\u001b[39mclose()\n",
      "File \u001b[0;32m~/miniconda3/envs/wsu/lib/python3.12/site-packages/pandas/io/parsers/c_parser_wrapper.py:234\u001b[0m, in \u001b[0;36mCParserWrapper.read\u001b[0;34m(self, nrows)\u001b[0m\n\u001b[1;32m    232\u001b[0m \u001b[38;5;28;01mtry\u001b[39;00m:\n\u001b[1;32m    233\u001b[0m     \u001b[38;5;28;01mif\u001b[39;00m \u001b[38;5;28mself\u001b[39m\u001b[38;5;241m.\u001b[39mlow_memory:\n\u001b[0;32m--> 234\u001b[0m         chunks \u001b[38;5;241m=\u001b[39m \u001b[38;5;28;43mself\u001b[39;49m\u001b[38;5;241;43m.\u001b[39;49m\u001b[43m_reader\u001b[49m\u001b[38;5;241;43m.\u001b[39;49m\u001b[43mread_low_memory\u001b[49m\u001b[43m(\u001b[49m\u001b[43mnrows\u001b[49m\u001b[43m)\u001b[49m\n\u001b[1;32m    235\u001b[0m         \u001b[38;5;66;03m# destructive to chunks\u001b[39;00m\n\u001b[1;32m    236\u001b[0m         data \u001b[38;5;241m=\u001b[39m _concatenate_chunks(chunks)\n",
      "File \u001b[0;32mparsers.pyx:843\u001b[0m, in \u001b[0;36mpandas._libs.parsers.TextReader.read_low_memory\u001b[0;34m()\u001b[0m\n",
      "File \u001b[0;32mparsers.pyx:904\u001b[0m, in \u001b[0;36mpandas._libs.parsers.TextReader._read_rows\u001b[0;34m()\u001b[0m\n",
      "File \u001b[0;32mparsers.pyx:879\u001b[0m, in \u001b[0;36mpandas._libs.parsers.TextReader._tokenize_rows\u001b[0;34m()\u001b[0m\n",
      "File \u001b[0;32mparsers.pyx:890\u001b[0m, in \u001b[0;36mpandas._libs.parsers.TextReader._check_tokenize_status\u001b[0;34m()\u001b[0m\n",
      "File \u001b[0;32mparsers.pyx:2058\u001b[0m, in \u001b[0;36mpandas._libs.parsers.raise_parser_error\u001b[0;34m()\u001b[0m\n",
      "\u001b[0;31mParserError\u001b[0m: Error tokenizing data. C error: Expected 17 fields in line 8557561, saw 18\n"
     ]
    }
   ],
   "source": [
    "pd.read_csv('AIS_2023_05_25.csv')"
   ]
  },
  {
   "cell_type": "code",
   "execution_count": 8,
   "metadata": {},
   "outputs": [],
   "source": [
    "pf = pl.read_csv('AIS_2023_05_09.csv', truncate_ragged_lines=True, infer_schema_length=0)"
   ]
  },
  {
   "cell_type": "code",
   "execution_count": 9,
   "metadata": {},
   "outputs": [
    {
     "data": {
      "text/html": [
       "<div><style>\n",
       ".dataframe > thead > tr,\n",
       ".dataframe > tbody > tr {\n",
       "  text-align: right;\n",
       "  white-space: pre-wrap;\n",
       "}\n",
       "</style>\n",
       "<small>shape: (9, 18)</small><table border=\"1\" class=\"dataframe\"><thead><tr><th>statistic</th><th>MMSI</th><th>BaseDateTime</th><th>LAT</th><th>LON</th><th>SOG</th><th>COG</th><th>Heading</th><th>VesselName</th><th>IMO</th><th>CallSign</th><th>VesselType</th><th>Status</th><th>Length</th><th>Width</th><th>Draft</th><th>Cargo</th><th>TransceiverClass</th></tr><tr><td>str</td><td>str</td><td>str</td><td>str</td><td>str</td><td>str</td><td>str</td><td>str</td><td>str</td><td>str</td><td>str</td><td>str</td><td>str</td><td>str</td><td>str</td><td>str</td><td>str</td><td>str</td></tr></thead><tbody><tr><td>&quot;count&quot;</td><td>&quot;7838912&quot;</td><td>&quot;7838913&quot;</td><td>&quot;7838913&quot;</td><td>&quot;7838913&quot;</td><td>&quot;7838913&quot;</td><td>&quot;7838913&quot;</td><td>&quot;7838913&quot;</td><td>&quot;7820817&quot;</td><td>&quot;4491588&quot;</td><td>&quot;6642868&quot;</td><td>&quot;7823830&quot;</td><td>&quot;5458928&quot;</td><td>&quot;7368939&quot;</td><td>&quot;6647100&quot;</td><td>&quot;2888826&quot;</td><td>&quot;5465817&quot;</td><td>&quot;7838913&quot;</td></tr><tr><td>&quot;null_count&quot;</td><td>&quot;1&quot;</td><td>&quot;0&quot;</td><td>&quot;0&quot;</td><td>&quot;0&quot;</td><td>&quot;0&quot;</td><td>&quot;0&quot;</td><td>&quot;0&quot;</td><td>&quot;18096&quot;</td><td>&quot;3347325&quot;</td><td>&quot;1196045&quot;</td><td>&quot;15083&quot;</td><td>&quot;2379985&quot;</td><td>&quot;469974&quot;</td><td>&quot;1191813&quot;</td><td>&quot;4950087&quot;</td><td>&quot;2373096&quot;</td><td>&quot;0&quot;</td></tr><tr><td>&quot;mean&quot;</td><td>null</td><td>null</td><td>null</td><td>null</td><td>null</td><td>null</td><td>null</td><td>null</td><td>null</td><td>null</td><td>null</td><td>null</td><td>null</td><td>null</td><td>null</td><td>null</td><td>null</td></tr><tr><td>&quot;std&quot;</td><td>null</td><td>null</td><td>null</td><td>null</td><td>null</td><td>null</td><td>null</td><td>null</td><td>null</td><td>null</td><td>null</td><td>null</td><td>null</td><td>null</td><td>null</td><td>null</td><td>null</td></tr><tr><td>&quot;min&quot;</td><td>&quot;0&quot;</td><td>&quot;2023-05-09T00:00:00&quot;</td><td>&quot;10&quot;</td><td>&quot;-101&quot;</td><td>&quot;0&quot;</td><td>&quot;0&quot;</td><td>&quot;0&quot;</td><td>&quot;############&quot;</td><td>&quot;IMO0000000&quot;</td><td>&quot;-------&quot;</td><td>&quot;0&quot;</td><td>&quot;0&quot;</td><td>&quot;0&quot;</td><td>&quot;0&quot;</td><td>&quot;0&quot;</td><td>&quot;0&quot;</td><td>&quot;0&quot;</td></tr><tr><td>&quot;25%&quot;</td><td>null</td><td>null</td><td>null</td><td>null</td><td>null</td><td>null</td><td>null</td><td>null</td><td>null</td><td>null</td><td>null</td><td>null</td><td>null</td><td>null</td><td>null</td><td>null</td><td>null</td></tr><tr><td>&quot;50%&quot;</td><td>null</td><td>null</td><td>null</td><td>null</td><td>null</td><td>null</td><td>null</td><td>null</td><td>null</td><td>null</td><td>null</td><td>null</td><td>null</td><td>null</td><td>null</td><td>null</td><td>null</td></tr><tr><td>&quot;75%&quot;</td><td>null</td><td>null</td><td>null</td><td>null</td><td>null</td><td>null</td><td>null</td><td>null</td><td>null</td><td>null</td><td>null</td><td>null</td><td>null</td><td>null</td><td>null</td><td>null</td><td>null</td></tr><tr><td>&quot;max&quot;</td><td>&quot;999999999&quot;</td><td>&quot;368278840&quot;</td><td>&quot;85&quot;</td><td>&quot;144&quot;</td><td>&quot;94&quot;</td><td>&quot;99&quot;</td><td>&quot;99&quot;</td><td>&quot;ZYANA K&quot;</td><td>&quot;MAGAS&quot;</td><td>&quot;ZYCY2&quot;</td><td>&quot;WDN4197&quot;</td><td>&quot;9&quot;</td><td>&quot;99&quot;</td><td>&quot;95&quot;</td><td>&quot;9&quot;</td><td>&quot;99&quot;</td><td>&quot;B&quot;</td></tr></tbody></table></div>"
      ],
      "text/plain": [
       "shape: (9, 18)\n",
       "┌────────────┬───────────┬──────────────┬─────────┬───┬─────────┬─────────┬─────────┬──────────────┐\n",
       "│ statistic  ┆ MMSI      ┆ BaseDateTime ┆ LAT     ┆ … ┆ Width   ┆ Draft   ┆ Cargo   ┆ TransceiverC │\n",
       "│ ---        ┆ ---       ┆ ---          ┆ ---     ┆   ┆ ---     ┆ ---     ┆ ---     ┆ lass         │\n",
       "│ str        ┆ str       ┆ str          ┆ str     ┆   ┆ str     ┆ str     ┆ str     ┆ ---          │\n",
       "│            ┆           ┆              ┆         ┆   ┆         ┆         ┆         ┆ str          │\n",
       "╞════════════╪═══════════╪══════════════╪═════════╪═══╪═════════╪═════════╪═════════╪══════════════╡\n",
       "│ count      ┆ 7838912   ┆ 7838913      ┆ 7838913 ┆ … ┆ 6647100 ┆ 2888826 ┆ 5465817 ┆ 7838913      │\n",
       "│ null_count ┆ 1         ┆ 0            ┆ 0       ┆ … ┆ 1191813 ┆ 4950087 ┆ 2373096 ┆ 0            │\n",
       "│ mean       ┆ null      ┆ null         ┆ null    ┆ … ┆ null    ┆ null    ┆ null    ┆ null         │\n",
       "│ std        ┆ null      ┆ null         ┆ null    ┆ … ┆ null    ┆ null    ┆ null    ┆ null         │\n",
       "│ min        ┆ 0         ┆ 2023-05-09T0 ┆ 10      ┆ … ┆ 0       ┆ 0       ┆ 0       ┆ 0            │\n",
       "│            ┆           ┆ 0:00:00      ┆         ┆   ┆         ┆         ┆         ┆              │\n",
       "│ 25%        ┆ null      ┆ null         ┆ null    ┆ … ┆ null    ┆ null    ┆ null    ┆ null         │\n",
       "│ 50%        ┆ null      ┆ null         ┆ null    ┆ … ┆ null    ┆ null    ┆ null    ┆ null         │\n",
       "│ 75%        ┆ null      ┆ null         ┆ null    ┆ … ┆ null    ┆ null    ┆ null    ┆ null         │\n",
       "│ max        ┆ 999999999 ┆ 368278840    ┆ 85      ┆ … ┆ 95      ┆ 9       ┆ 99      ┆ B            │\n",
       "└────────────┴───────────┴──────────────┴─────────┴───┴─────────┴─────────┴─────────┴──────────────┘"
      ]
     },
     "execution_count": 9,
     "metadata": {},
     "output_type": "execute_result"
    }
   ],
   "source": [
    "pf.describe()"
   ]
  },
  {
   "cell_type": "code",
   "execution_count": 3,
   "metadata": {},
   "outputs": [],
   "source": [
    "polars_lf = (\n",
    "    #load from parquet file - NOTE scan_ tells polars to be in lazy mode\n",
    "    pl.scan_parquet('ais data/data/ais_clean/ais_2023_12.parquet')\n",
    "    #sort by vessel and time\n",
    "    .sort(['mmsi', 'time'])\n",
    "    #drop smaller vessels\n",
    "    .filter(pl.col('length')>100)\n",
    "    #keep necessary columns\n",
    "    .select(['mmsi','time', 'status'])\n",
    ")"
   ]
  },
  {
   "cell_type": "code",
   "execution_count": 4,
   "metadata": {},
   "outputs": [
    {
     "data": {
      "image/svg+xml": [
       "<svg xmlns=\"http://www.w3.org/2000/svg\" xmlns:xlink=\"http://www.w3.org/1999/xlink\" width=\"356pt\" height=\"265pt\" viewBox=\"0.00 0.00 356.25 265.00\">\n",
       "<g id=\"graph0\" class=\"graph\" transform=\"scale(1 1) rotate(0) translate(4 261)\">\n",
       "<title>polars_query</title>\n",
       "<polygon fill=\"white\" stroke=\"none\" points=\"-4,4 -4,-261 352.25,-261 352.25,4 -4,4\"/>\n",
       "<!-- p1 -->\n",
       "<g id=\"node1\" class=\"node\">\n",
       "<title>p1</title>\n",
       "<polygon fill=\"none\" stroke=\"black\" points=\"201.12,-257 147.12,-257 147.12,-221 201.12,-221 201.12,-257\"/>\n",
       "<text text-anchor=\"middle\" x=\"174.12\" y=\"-233.95\" font-family=\"Times,serif\" font-size=\"14.00\">π 3/3</text>\n",
       "</g>\n",
       "<!-- p2 -->\n",
       "<g id=\"node2\" class=\"node\">\n",
       "<title>p2</title>\n",
       "<polygon fill=\"none\" stroke=\"black\" points=\"290.12,-185 58.12,-185 58.12,-149 290.12,-149 290.12,-185\"/>\n",
       "<text text-anchor=\"middle\" x=\"174.12\" y=\"-161.95\" font-family=\"Times,serif\" font-size=\"14.00\">FILTER BY [(col(&quot;length&quot;)) &gt; (100.0)]</text>\n",
       "</g>\n",
       "<!-- p1&#45;&#45;p2 -->\n",
       "<g id=\"edge1\" class=\"edge\">\n",
       "<title>p1--p2</title>\n",
       "<path fill=\"none\" stroke=\"black\" d=\"M174.12,-220.7C174.12,-209.85 174.12,-195.92 174.12,-185.1\"/>\n",
       "</g>\n",
       "<!-- p3 -->\n",
       "<g id=\"node3\" class=\"node\">\n",
       "<title>p3</title>\n",
       "<polygon fill=\"none\" stroke=\"black\" points=\"285.62,-113 62.62,-113 62.62,-77 285.62,-77 285.62,-113\"/>\n",
       "<text text-anchor=\"middle\" x=\"174.12\" y=\"-89.95\" font-family=\"Times,serif\" font-size=\"14.00\">SORT BY [col(&quot;mmsi&quot;), col(&quot;time&quot;)]</text>\n",
       "</g>\n",
       "<!-- p2&#45;&#45;p3 -->\n",
       "<g id=\"edge2\" class=\"edge\">\n",
       "<title>p2--p3</title>\n",
       "<path fill=\"none\" stroke=\"black\" d=\"M174.12,-148.7C174.12,-137.85 174.12,-123.92 174.12,-113.1\"/>\n",
       "</g>\n",
       "<!-- p4 -->\n",
       "<g id=\"node4\" class=\"node\">\n",
       "<title>p4</title>\n",
       "<polygon fill=\"none\" stroke=\"black\" points=\"348.25,-41 0,-41 0,0 348.25,0 348.25,-41\"/>\n",
       "<text text-anchor=\"middle\" x=\"174.12\" y=\"-23.7\" font-family=\"Times,serif\" font-size=\"14.00\">Parquet SCAN [ais data/data/ais_clean/ais_2023_12.parquet]</text>\n",
       "<text text-anchor=\"middle\" x=\"174.12\" y=\"-7.2\" font-family=\"Times,serif\" font-size=\"14.00\">π */15;</text>\n",
       "</g>\n",
       "<!-- p3&#45;&#45;p4 -->\n",
       "<g id=\"edge3\" class=\"edge\">\n",
       "<title>p3--p4</title>\n",
       "<path fill=\"none\" stroke=\"black\" d=\"M174.12,-76.82C174.12,-66.18 174.12,-52.49 174.12,-41.38\"/>\n",
       "</g>\n",
       "</g>\n",
       "</svg>"
      ],
      "text/plain": [
       "<IPython.core.display.SVG object>"
      ]
     },
     "metadata": {},
     "output_type": "display_data"
    }
   ],
   "source": [
    "polars_lf.show_graph(optimized=False)"
   ]
  },
  {
   "cell_type": "code",
   "execution_count": 6,
   "metadata": {},
   "outputs": [
    {
     "data": {
      "text/html": [
       "<div><style>\n",
       ".dataframe > thead > tr,\n",
       ".dataframe > tbody > tr {\n",
       "  text-align: right;\n",
       "  white-space: pre-wrap;\n",
       "}\n",
       "</style>\n",
       "<small>shape: (5, 15)</small><table border=\"1\" class=\"dataframe\"><thead><tr><th>mmsi</th><th>time</th><th>lat</th><th>lon</th><th>speed</th><th>course</th><th>heading</th><th>status</th><th>vessel_name</th><th>vessel_type</th><th>imo</th><th>length</th><th>width</th><th>draft</th><th>cargo</th></tr><tr><td>i64</td><td>datetime[μs]</td><td>f64</td><td>f64</td><td>f64</td><td>f64</td><td>f64</td><td>f64</td><td>cat</td><td>f64</td><td>i64</td><td>f64</td><td>f64</td><td>f64</td><td>f64</td></tr></thead><tbody><tr><td>240830000</td><td>2015-03-08 11:56:04</td><td>38.95852</td><td>-75.18625</td><td>0.1</td><td>269.2</td><td>182.0</td><td>1.0</td><td>&quot;TOSKA&quot;</td><td>80.0</td><td>9408073</td><td>275.0</td><td>46.0</td><td>-10.6</td><td>80.0</td></tr><tr><td>304010862</td><td>2015-03-10 21:35:48</td><td>17.08013</td><td>-66.29147</td><td>7.9</td><td>91.6</td><td>89.0</td><td>0.0</td><td>&quot;MALTE B&quot;</td><td>70.0</td><td>9194854</td><td>86.0</td><td>13.0</td><td>5.6</td><td>70.0</td></tr><tr><td>353704000</td><td>2015-03-17 15:14:26</td><td>31.81082</td><td>-79.9755</td><td>2.6</td><td>129.0</td><td>150.0</td><td>0.0</td><td>&quot;SUEZ CANAL BRIDGE&quot;</td><td>70.0</td><td>9230311</td><td>285.0</td><td>40.0</td><td>12.2</td><td>70.0</td></tr><tr><td>538090207</td><td>2015-03-01 07:27:56</td><td>46.27267</td><td>-123.48717</td><td>11.0</td><td>269.0</td><td>270.0</td><td>0.0</td><td>&quot;SANTA FE&quot;</td><td>79.0</td><td>9233387</td><td>190.0</td><td>32.0</td><td>6.7</td><td>79.0</td></tr><tr><td>352253000</td><td>2015-03-14 11:06:51</td><td>48.64993</td><td>-125.57692</td><td>9.1</td><td>230.4</td><td>221.0</td><td>3.0</td><td>&quot;DELPHINUS LEADER&quot;</td><td>70.0</td><td>9174282</td><td>200.0</td><td>32.0</td><td>9.3</td><td>70.0</td></tr></tbody></table></div>"
      ],
      "text/plain": [
       "shape: (5, 15)\n",
       "┌───────────┬─────────────────────┬──────────┬────────────┬───┬────────┬───────┬───────┬───────┐\n",
       "│ mmsi      ┆ time                ┆ lat      ┆ lon        ┆ … ┆ length ┆ width ┆ draft ┆ cargo │\n",
       "│ ---       ┆ ---                 ┆ ---      ┆ ---        ┆   ┆ ---    ┆ ---   ┆ ---   ┆ ---   │\n",
       "│ i64       ┆ datetime[μs]        ┆ f64      ┆ f64        ┆   ┆ f64    ┆ f64   ┆ f64   ┆ f64   │\n",
       "╞═══════════╪═════════════════════╪══════════╪════════════╪═══╪════════╪═══════╪═══════╪═══════╡\n",
       "│ 240830000 ┆ 2015-03-08 11:56:04 ┆ 38.95852 ┆ -75.18625  ┆ … ┆ 275.0  ┆ 46.0  ┆ -10.6 ┆ 80.0  │\n",
       "│ 304010862 ┆ 2015-03-10 21:35:48 ┆ 17.08013 ┆ -66.29147  ┆ … ┆ 86.0   ┆ 13.0  ┆ 5.6   ┆ 70.0  │\n",
       "│ 353704000 ┆ 2015-03-17 15:14:26 ┆ 31.81082 ┆ -79.9755   ┆ … ┆ 285.0  ┆ 40.0  ┆ 12.2  ┆ 70.0  │\n",
       "│ 538090207 ┆ 2015-03-01 07:27:56 ┆ 46.27267 ┆ -123.48717 ┆ … ┆ 190.0  ┆ 32.0  ┆ 6.7   ┆ 79.0  │\n",
       "│ 352253000 ┆ 2015-03-14 11:06:51 ┆ 48.64993 ┆ -125.57692 ┆ … ┆ 200.0  ┆ 32.0  ┆ 9.3   ┆ 70.0  │\n",
       "└───────────┴─────────────────────┴──────────┴────────────┴───┴────────┴───────┴───────┴───────┘"
      ]
     },
     "execution_count": 6,
     "metadata": {},
     "output_type": "execute_result"
    }
   ],
   "source": [
    "os.chdir('/Users/adamwilson/Library/CloudStorage/OneDrive-WashingtonStateUniversity(email.wsu.edu)/Port Performance/data/AIS/')\n",
    "\n",
    "pl.read_parquet('2015_3.parquet').head()"
   ]
  },
  {
   "cell_type": "code",
   "execution_count": 5,
   "metadata": {},
   "outputs": [
    {
     "name": "stdout",
     "output_type": "stream",
     "text": [
      "827 ms ± 20.7 ms per loop (mean ± std. dev. of 7 runs, 1 loop each)\n"
     ]
    }
   ],
   "source": [
    "%timeit polars_lf.collect()"
   ]
  },
  {
   "cell_type": "code",
   "execution_count": 6,
   "metadata": {},
   "outputs": [],
   "source": [
    "pl.read_parquet('ais data/data/ais_clean/ais_2023_12.parquet').to_pandas().to_parquet('ais data/data/file.parquet')"
   ]
  },
  {
   "cell_type": "code",
   "execution_count": 7,
   "metadata": {},
   "outputs": [
    {
     "name": "stdout",
     "output_type": "stream",
     "text": [
      "9.64 s ± 61 ms per loop (mean ± std. dev. of 7 runs, 1 loop each)\n"
     ]
    }
   ],
   "source": [
    "%%timeit\n",
    "\n",
    "#read parquet\n",
    "df = pd.read_parquet('ais data/data/file.parquet', engine='pyarroe')\n",
    "#sort by mmsi and time\n",
    "df = df.sort_values(by=['mmsi', 'time'])\n",
    "#filter by vessel length\n",
    "df = df[df.length>100]\n",
    "#drop unused columns\n",
    "df = df[['mmsi', 'time', 'status']]"
   ]
  },
  {
   "cell_type": "code",
   "execution_count": 47,
   "metadata": {},
   "outputs": [
    {
     "name": "stdout",
     "output_type": "stream",
     "text": [
      "8.63 s ± 78.8 ms per loop (mean ± std. dev. of 7 runs, 1 loop each)\n"
     ]
    }
   ],
   "source": [
    "%%timeit\n",
    "\n",
    "#read parquet\n",
    "df = pd.read_parquet('ais data/data/file.parquet')[['mmsi','time', 'status', 'length']]\n",
    "#sort by mmsi and time\n",
    "df = df.sort_values(by=['mmsi', 'time'])\n",
    "#drop unused column\n",
    "df.drop('length', axis=1)"
   ]
  },
  {
   "cell_type": "code",
   "execution_count": 46,
   "metadata": {},
   "outputs": [
    {
     "data": {
      "text/html": [
       "<div>\n",
       "<style scoped>\n",
       "    .dataframe tbody tr th:only-of-type {\n",
       "        vertical-align: middle;\n",
       "    }\n",
       "\n",
       "    .dataframe tbody tr th {\n",
       "        vertical-align: top;\n",
       "    }\n",
       "\n",
       "    .dataframe thead th {\n",
       "        text-align: right;\n",
       "    }\n",
       "</style>\n",
       "<table border=\"1\" class=\"dataframe\">\n",
       "  <thead>\n",
       "    <tr style=\"text-align: right;\">\n",
       "      <th></th>\n",
       "      <th>mmsi</th>\n",
       "      <th>time</th>\n",
       "      <th>status</th>\n",
       "      <th>length</th>\n",
       "    </tr>\n",
       "  </thead>\n",
       "  <tbody>\n",
       "    <tr>\n",
       "      <th>4395068</th>\n",
       "      <td>3791472</td>\n",
       "      <td>2023-12-03 05:00:02</td>\n",
       "      <td>15.0</td>\n",
       "      <td>0.0</td>\n",
       "    </tr>\n",
       "    <tr>\n",
       "      <th>25290687</th>\n",
       "      <td>3791472</td>\n",
       "      <td>2023-12-03 05:01:13</td>\n",
       "      <td>15.0</td>\n",
       "      <td>0.0</td>\n",
       "    </tr>\n",
       "    <tr>\n",
       "      <th>17291722</th>\n",
       "      <td>3791472</td>\n",
       "      <td>2023-12-03 05:02:23</td>\n",
       "      <td>15.0</td>\n",
       "      <td>0.0</td>\n",
       "    </tr>\n",
       "    <tr>\n",
       "      <th>3687814</th>\n",
       "      <td>3791472</td>\n",
       "      <td>2023-12-03 05:03:33</td>\n",
       "      <td>15.0</td>\n",
       "      <td>0.0</td>\n",
       "    </tr>\n",
       "    <tr>\n",
       "      <th>12929563</th>\n",
       "      <td>3791472</td>\n",
       "      <td>2023-12-03 05:04:43</td>\n",
       "      <td>15.0</td>\n",
       "      <td>0.0</td>\n",
       "    </tr>\n",
       "  </tbody>\n",
       "</table>\n",
       "</div>"
      ],
      "text/plain": [
       "             mmsi                time  status  length\n",
       "4395068   3791472 2023-12-03 05:00:02    15.0     0.0\n",
       "25290687  3791472 2023-12-03 05:01:13    15.0     0.0\n",
       "17291722  3791472 2023-12-03 05:02:23    15.0     0.0\n",
       "3687814   3791472 2023-12-03 05:03:33    15.0     0.0\n",
       "12929563  3791472 2023-12-03 05:04:43    15.0     0.0"
      ]
     },
     "execution_count": 46,
     "metadata": {},
     "output_type": "execute_result"
    }
   ],
   "source": [
    "df.head()"
   ]
  },
  {
   "cell_type": "code",
   "execution_count": 12,
   "metadata": {},
   "outputs": [
    {
     "data": {
      "text/html": [
       "<div><style>\n",
       ".dataframe > thead > tr,\n",
       ".dataframe > tbody > tr {\n",
       "  text-align: right;\n",
       "  white-space: pre-wrap;\n",
       "}\n",
       "</style>\n",
       "<small>shape: (9, 16)</small><table border=\"1\" class=\"dataframe\"><thead><tr><th>statistic</th><th>mmsi</th><th>time</th><th>lat</th><th>lon</th><th>speed</th><th>course</th><th>heading</th><th>status</th><th>vessel_name</th><th>vessel_type</th><th>imo</th><th>length</th><th>width</th><th>draft</th><th>cargo</th></tr><tr><td>str</td><td>f64</td><td>str</td><td>f64</td><td>f64</td><td>f64</td><td>f64</td><td>f64</td><td>f64</td><td>str</td><td>f64</td><td>f64</td><td>f64</td><td>f64</td><td>f64</td><td>f64</td></tr></thead><tbody><tr><td>&quot;count&quot;</td><td>2.612445e7</td><td>&quot;26124450&quot;</td><td>2.612445e7</td><td>2.612445e7</td><td>2.612445e7</td><td>2.5866797e7</td><td>2.5051266e7</td><td>2.6004886e7</td><td>&quot;26124430&quot;</td><td>2.612445e7</td><td>2.5612927e7</td><td>2.5262121e7</td><td>2.4205856e7</td><td>2.3767489e7</td><td>2.6012383e7</td></tr><tr><td>&quot;null_count&quot;</td><td>0.0</td><td>&quot;0&quot;</td><td>0.0</td><td>0.0</td><td>0.0</td><td>257653.0</td><td>1.073184e6</td><td>119564.0</td><td>&quot;20&quot;</td><td>0.0</td><td>511523.0</td><td>862329.0</td><td>1.918594e6</td><td>2.356961e6</td><td>112067.0</td></tr><tr><td>&quot;mean&quot;</td><td>4.2100e8</td><td>&quot;2023-12-16 11:42:47.758299&quot;</td><td>34.309201</td><td>-93.473259</td><td>5.841383</td><td>185.17192</td><td>179.456878</td><td>1.472441</td><td>null</td><td>74.058694</td><td>1.0934e7</td><td>206.659162</td><td>31.475104</td><td>10.102698</td><td>73.473201</td></tr><tr><td>&quot;std&quot;</td><td>1.3524e8</td><td>null</td><td>7.996176</td><td>22.291143</td><td>6.60804</td><td>103.076999</td><td>105.663971</td><td>2.388082</td><td>null</td><td>5.254893</td><td>3.8703e7</td><td>71.472257</td><td>10.397438</td><td>3.374768</td><td>11.141608</td></tr><tr><td>&quot;min&quot;</td><td>3.791472e6</td><td>&quot;2023-12-01 00:00:00&quot;</td><td>0.56667</td><td>-176.18215</td><td>0.0</td><td>0.0</td><td>0.0</td><td>0.0</td><td>null</td><td>70.0</td><td>0.0</td><td>0.0</td><td>0.0</td><td>0.0</td><td>0.0</td></tr><tr><td>&quot;25%&quot;</td><td>3.1600491e8</td><td>&quot;2023-12-08 19:10:14&quot;</td><td>29.13888</td><td>-117.00366</td><td>0.0</td><td>101.8</td><td>90.0</td><td>0.0</td><td>null</td><td>70.0</td><td>9.3146e6</td><td>179.0</td><td>24.0</td><td>8.0</td><td>70.0</td></tr><tr><td>&quot;50%&quot;</td><td>3.6827039e8</td><td>&quot;2023-12-16 09:53:03&quot;</td><td>32.33787</td><td>-90.0516</td><td>2.1</td><td>184.5</td><td>176.0</td><td>0.0</td><td>null</td><td>70.0</td><td>9.508823e6</td><td>199.0</td><td>32.0</td><td>9.9</td><td>71.0</td></tr><tr><td>&quot;75%&quot;</td><td>5.38009058e8</td><td>&quot;2023-12-24 07:52:31&quot;</td><td>40.59638</td><td>-79.66628</td><td>11.7</td><td>272.8</td><td>272.0</td><td>3.0</td><td>null</td><td>80.0</td><td>9.730232e6</td><td>243.0</td><td>36.0</td><td>12.4</td><td>80.0</td></tr><tr><td>&quot;max&quot;</td><td>7.6000398e8</td><td>&quot;2023-12-31 23:59:59&quot;</td><td>85.15893</td><td>146.61942</td><td>102.3</td><td>404.0</td><td>456.0</td><td>15.0</td><td>null</td><td>89.0</td><td>9.901843e8</td><td>667.0</td><td>78.0</td><td>25.5</td><td>118.0</td></tr></tbody></table></div>"
      ],
      "text/plain": [
       "shape: (9, 16)\n",
       "┌───────────┬───────────┬───────────┬───────────┬───┬───────────┬───────────┬───────────┬──────────┐\n",
       "│ statistic ┆ mmsi      ┆ time      ┆ lat       ┆ … ┆ length    ┆ width     ┆ draft     ┆ cargo    │\n",
       "│ ---       ┆ ---       ┆ ---       ┆ ---       ┆   ┆ ---       ┆ ---       ┆ ---       ┆ ---      │\n",
       "│ str       ┆ f64       ┆ str       ┆ f64       ┆   ┆ f64       ┆ f64       ┆ f64       ┆ f64      │\n",
       "╞═══════════╪═══════════╪═══════════╪═══════════╪═══╪═══════════╪═══════════╪═══════════╪══════════╡\n",
       "│ count     ┆ 2.612445e ┆ 26124450  ┆ 2.612445e ┆ … ┆ 2.5262121 ┆ 2.4205856 ┆ 2.3767489 ┆ 2.601238 │\n",
       "│           ┆ 7         ┆           ┆ 7         ┆   ┆ e7        ┆ e7        ┆ e7        ┆ 3e7      │\n",
       "│ null_coun ┆ 0.0       ┆ 0         ┆ 0.0       ┆ … ┆ 862329.0  ┆ 1.918594e ┆ 2.356961e ┆ 112067.0 │\n",
       "│ t         ┆           ┆           ┆           ┆   ┆           ┆ 6         ┆ 6         ┆          │\n",
       "│ mean      ┆ 4.2100e8  ┆ 2023-12-1 ┆ 34.309201 ┆ … ┆ 206.65916 ┆ 31.475104 ┆ 10.102698 ┆ 73.47320 │\n",
       "│           ┆           ┆ 6 11:42:4 ┆           ┆   ┆ 2         ┆           ┆           ┆ 1        │\n",
       "│           ┆           ┆ 7.758299  ┆           ┆   ┆           ┆           ┆           ┆          │\n",
       "│ std       ┆ 1.3524e8  ┆ null      ┆ 7.996176  ┆ … ┆ 71.472257 ┆ 10.397438 ┆ 3.374768  ┆ 11.14160 │\n",
       "│           ┆           ┆           ┆           ┆   ┆           ┆           ┆           ┆ 8        │\n",
       "│ min       ┆ 3.791472e ┆ 2023-12-0 ┆ 0.56667   ┆ … ┆ 0.0       ┆ 0.0       ┆ 0.0       ┆ 0.0      │\n",
       "│           ┆ 6         ┆ 1         ┆           ┆   ┆           ┆           ┆           ┆          │\n",
       "│           ┆           ┆ 00:00:00  ┆           ┆   ┆           ┆           ┆           ┆          │\n",
       "│ 25%       ┆ 3.1600491 ┆ 2023-12-0 ┆ 29.13888  ┆ … ┆ 179.0     ┆ 24.0      ┆ 8.0       ┆ 70.0     │\n",
       "│           ┆ e8        ┆ 8         ┆           ┆   ┆           ┆           ┆           ┆          │\n",
       "│           ┆           ┆ 19:10:14  ┆           ┆   ┆           ┆           ┆           ┆          │\n",
       "│ 50%       ┆ 3.6827039 ┆ 2023-12-1 ┆ 32.33787  ┆ … ┆ 199.0     ┆ 32.0      ┆ 9.9       ┆ 71.0     │\n",
       "│           ┆ e8        ┆ 6         ┆           ┆   ┆           ┆           ┆           ┆          │\n",
       "│           ┆           ┆ 09:53:03  ┆           ┆   ┆           ┆           ┆           ┆          │\n",
       "│ 75%       ┆ 5.3800905 ┆ 2023-12-2 ┆ 40.59638  ┆ … ┆ 243.0     ┆ 36.0      ┆ 12.4      ┆ 80.0     │\n",
       "│           ┆ 8e8       ┆ 4         ┆           ┆   ┆           ┆           ┆           ┆          │\n",
       "│           ┆           ┆ 07:52:31  ┆           ┆   ┆           ┆           ┆           ┆          │\n",
       "│ max       ┆ 7.6000398 ┆ 2023-12-3 ┆ 85.15893  ┆ … ┆ 667.0     ┆ 78.0      ┆ 25.5      ┆ 118.0    │\n",
       "│           ┆ e8        ┆ 1         ┆           ┆   ┆           ┆           ┆           ┆          │\n",
       "│           ┆           ┆ 23:59:59  ┆           ┆   ┆           ┆           ┆           ┆          │\n",
       "└───────────┴───────────┴───────────┴───────────┴───┴───────────┴───────────┴───────────┴──────────┘"
      ]
     },
     "execution_count": 12,
     "metadata": {},
     "output_type": "execute_result"
    }
   ],
   "source": [
    "polars_lf.collect().describe()"
   ]
  },
  {
   "cell_type": "code",
   "execution_count": 8,
   "metadata": {},
   "outputs": [
    {
     "name": "stdout",
     "output_type": "stream",
     "text": [
      "ais_2021_08.parquet\n",
      "ais_2022_04.parquet\n",
      "ais_2023_02.parquet\n",
      "ais_2018_04.parquet\n",
      "ais_2021_11.parquet\n",
      "ais_2021_01.parquet\n",
      "ais_2020_07.parquet\n",
      "ais_2019_12.parquet\n",
      "ais_2019_02.parquet\n",
      "ais_2021_10.parquet\n",
      ".DS_Store\n",
      "ais_2018_05.parquet\n",
      "ais_2019_03.parquet\n",
      "ais_2020_06.parquet\n",
      "ais_2021_09.parquet\n",
      "ais_2022_05.parquet\n",
      "ais_2023_03.parquet\n",
      "ais_2021_12.parquet\n",
      "ais_2021_02.parquet\n",
      "ais_2018_07.parquet\n",
      "ais_2019_11.parquet\n",
      "ais_2019_01.parquet\n",
      "ais_2020_04.parquet\n",
      "ais_2022_07.parquet\n",
      "ais_2019_08.parquet\n",
      "ais_2023_01.parquet\n",
      "ais_2022_06.parquet\n",
      "ais_2019_09.parquet\n",
      "ais_2018_06.parquet\n",
      "ais_2020_05.parquet\n",
      "ais_2019_10.parquet\n",
      "ais_2020_10.parquet\n",
      "ais_2019_05.parquet\n",
      "ais_2018_03.parquet\n",
      "ais_2021_06.parquet\n",
      "ais_2020_09.parquet\n",
      "ais_2022_03.parquet\n",
      "ais_2020_08.parquet\n",
      "ais_2023_04.parquet\n",
      "ais_2022_12.parquet\n",
      "ais_2022_02.parquet\n",
      "ais_2019_04.parquet\n",
      "ais_2020_01.parquet\n",
      "ais_2020_11.parquet\n",
      "ais_2021_07.parquet\n",
      "ais_2018_02.parquet\n",
      "ais_2018_12.parquet\n",
      "ais_2022_10.parquet\n",
      "ais_2018_09.parquet\n",
      "ais_2019_06.parquet\n",
      "ais_2020_03.parquet\n",
      "ais_2022_09.parquet\n",
      "ais_2021_05.parquet\n",
      "ais_2018_10.parquet\n",
      "ais_2020_02.parquet\n",
      "ais_2020_12.parquet\n",
      "ais_2018_01.parquet\n",
      "ais_2018_11.parquet\n",
      "ais_2022_08.parquet\n",
      "ais_2021_04.parquet\n",
      "ais_2018_08.parquet\n",
      "ais_2022_11.parquet\n",
      "ais_2022_01.parquet\n"
     ]
    }
   ],
   "source": [
    "df = pl.DataFrame()\n",
    "for file in [f for f in os.listdir('ais data/data/ais_clean/') if not f.startswith('.')]:\n",
    "    file_df = pl.read_parquet()"
   ]
  },
  {
   "cell_type": "code",
   "execution_count": 4,
   "metadata": {},
   "outputs": [],
   "source": [
    "df = (\n",
    "    #read into lazyframe\n",
    "    pl.scan_parquet('ais data/data/ais_clean/*.parquet'))"
   ]
  },
  {
   "cell_type": "code",
   "execution_count": 5,
   "metadata": {},
   "outputs": [
    {
     "ename": "ComputeError",
     "evalue": "parquet: File out of specification: The file must end with PAR1",
     "output_type": "error",
     "traceback": [
      "\u001b[0;31m---------------------------------------------------------------------------\u001b[0m",
      "\u001b[0;31mComputeError\u001b[0m                              Traceback (most recent call last)",
      "Cell \u001b[0;32mIn[5], line 1\u001b[0m\n\u001b[0;32m----> 1\u001b[0m \u001b[43mdf\u001b[49m\u001b[38;5;241;43m.\u001b[39;49m\u001b[43mcollect_schema\u001b[49m\u001b[43m(\u001b[49m\u001b[43m)\u001b[49m\n",
      "File \u001b[0;32m~/miniconda3/envs/wsu/lib/python3.12/site-packages/polars/lazyframe/frame.py:2146\u001b[0m, in \u001b[0;36mLazyFrame.collect_schema\u001b[0;34m(self)\u001b[0m\n\u001b[1;32m   2116\u001b[0m \u001b[38;5;28;01mdef\u001b[39;00m \u001b[38;5;21mcollect_schema\u001b[39m(\u001b[38;5;28mself\u001b[39m) \u001b[38;5;241m-\u001b[39m\u001b[38;5;241m>\u001b[39m Schema:\n\u001b[1;32m   2117\u001b[0m \u001b[38;5;250m    \u001b[39m\u001b[38;5;124;03m\"\"\"\u001b[39;00m\n\u001b[1;32m   2118\u001b[0m \u001b[38;5;124;03m    Resolve the schema of this LazyFrame.\u001b[39;00m\n\u001b[1;32m   2119\u001b[0m \n\u001b[0;32m   (...)\u001b[0m\n\u001b[1;32m   2144\u001b[0m \u001b[38;5;124;03m    3\u001b[39;00m\n\u001b[1;32m   2145\u001b[0m \u001b[38;5;124;03m    \"\"\"\u001b[39;00m\n\u001b[0;32m-> 2146\u001b[0m     \u001b[38;5;28;01mreturn\u001b[39;00m Schema(\u001b[38;5;28;43mself\u001b[39;49m\u001b[38;5;241;43m.\u001b[39;49m\u001b[43m_ldf\u001b[49m\u001b[38;5;241;43m.\u001b[39;49m\u001b[43mcollect_schema\u001b[49m\u001b[43m(\u001b[49m\u001b[43m)\u001b[49m)\n",
      "\u001b[0;31mComputeError\u001b[0m: parquet: File out of specification: The file must end with PAR1"
     ]
    }
   ],
   "source": [
    "df.collect_schema()"
   ]
  },
  {
   "cell_type": "code",
   "execution_count": 3,
   "metadata": {},
   "outputs": [],
   "source": [
    "import contextily as ctx\n",
    "import matplotlib.pyplot as plt\n",
    "\n",
    "#load dock data\n",
    "docks_gdf = (\n",
    "    #read in shape file downloaded from USACE\n",
    "    gpd.read_file('port data/Dock/Dock.shp')\n",
    "    #drop unneeded columns\n",
    "    .drop([\n",
    "        'FID', #randomly assigned table id\n",
    "        'LONGITUDE', 'LATITUDE', #already coded in 'geometry' \n",
    "        'LOCATION_D', #text description of dock location\n",
    "        'STREET_ADD','ZIPCODE', #street address details\n",
    "        'PSA_NAME', #statistical area name, rarely used\n",
    "        'COUNTY_NAM', 'COUNTY_FIP', 'CONGRESS', 'CONGRESS_F', #county and congress info\n",
    "        'MILE', 'BANK', 'LATITUDE1', 'LONGITUDE1', #redundant locaation data\n",
    "        'OPERATORS', 'OWNERS', #owner info\n",
    "        'PURPOSE', #long-form text description of dock uses\n",
    "        'DOCK', #unknown number (not unique to each row/dock)\n",
    "        'HIGHWAY_NO', 'RAILWAY_NO', 'LOCATION', #redundant location info\n",
    "        'COMMODITIE', 'CONSTRUCTI','MECHANICAL', 'REMARKS', 'VERTICAL_D', \n",
    "        'DEPTH_MIN', 'DEPTH_MAX','BERTHING_L', 'BERTHING_T', 'DECK_HEIGH', \n",
    "        'DECK_HEI_1', #these are rarely used stats on construction\n",
    "        'SERVICE_IN','SERVICE_TE', #rarely used indicators of data entry date \n",
    "    ], axis=1)\n",
    "    #set coordinate reference system to WGS84 lat/long\n",
    "    .to_crs('EPSG:4326')\n",
    "    #rename cols for clarity\n",
    "    .rename(columns={\n",
    "        'NAV_UNIT_I':'nav_unit_id',\n",
    "        'NAV_UNIT_N':'nav_unit_name',\n",
    "        'FACILITY_T':'facility_type',\n",
    "        'CITY_OR_TO':'city',\n",
    "        'STATE_POST':'state'\n",
    "    })\n",
    ")\n",
    "#set col names to pythonic lowercase\n",
    "docks_gdf.columns = docks_gdf.columns.str.lower()"
   ]
  },
  {
   "cell_type": "code",
   "execution_count": 4,
   "metadata": {},
   "outputs": [
    {
     "ename": "NameError",
     "evalue": "name 'gdf' is not defined",
     "output_type": "error",
     "traceback": [
      "\u001b[0;31m---------------------------------------------------------------------------\u001b[0m",
      "\u001b[0;31mNameError\u001b[0m                                 Traceback (most recent call last)",
      "Cell \u001b[0;32mIn[4], line 1\u001b[0m\n\u001b[0;32m----> 1\u001b[0m \u001b[43mgdf\u001b[49m\u001b[38;5;241m.\u001b[39mgeometry\u001b[38;5;241m.\u001b[39my\n",
      "\u001b[0;31mNameError\u001b[0m: name 'gdf' is not defined"
     ]
    }
   ],
   "source": [
    "gdf.geometry.y"
   ]
  },
  {
   "cell_type": "code",
   "execution_count": 5,
   "metadata": {},
   "outputs": [
    {
     "name": "stdout",
     "output_type": "stream",
     "text": [
      "[[0.5488135  0.71518937]\n",
      " [0.60276338 0.54488318]\n",
      " [0.4236548  0.64589411]\n",
      " [0.43758721 0.891773  ]\n",
      " [0.96366276 0.38344152]]\n",
      "[0.14306129 0.1786471  0.14306129 0.20869372 0.39536284]\n",
      "[2 0 0 0 1]\n"
     ]
    }
   ],
   "source": [
    "import numpy as np\n",
    "from sklearn.neighbors import KDTree\n",
    "np.random.seed(0)\n",
    "X = np.random.random((5, 2))  # 5 points in 2 dimensions\n",
    "tree = KDTree(X)\n",
    "nearest_dist, nearest_ind = tree.query(X, k=2)  # k=2 nearest neighbors where k1 = identity\n",
    "print(X)\n",
    "print(nearest_dist[:, 1])    # drop id; assumes sorted -> see args!\n",
    "print(nearest_ind[:, 1])     # drop id "
   ]
  },
  {
   "cell_type": "code",
   "execution_count": 9,
   "metadata": {},
   "outputs": [
    {
     "data": {
      "text/html": [
       "<div>\n",
       "<style scoped>\n",
       "    .dataframe tbody tr th:only-of-type {\n",
       "        vertical-align: middle;\n",
       "    }\n",
       "\n",
       "    .dataframe tbody tr th {\n",
       "        vertical-align: top;\n",
       "    }\n",
       "\n",
       "    .dataframe thead th {\n",
       "        text-align: right;\n",
       "    }\n",
       "</style>\n",
       "<table border=\"1\" class=\"dataframe\">\n",
       "  <thead>\n",
       "    <tr style=\"text-align: right;\">\n",
       "      <th></th>\n",
       "      <th>0</th>\n",
       "      <th>1</th>\n",
       "    </tr>\n",
       "  </thead>\n",
       "  <tbody>\n",
       "    <tr>\n",
       "      <th>0</th>\n",
       "      <td>0.548814</td>\n",
       "      <td>0.715189</td>\n",
       "    </tr>\n",
       "    <tr>\n",
       "      <th>1</th>\n",
       "      <td>0.602763</td>\n",
       "      <td>0.544883</td>\n",
       "    </tr>\n",
       "    <tr>\n",
       "      <th>2</th>\n",
       "      <td>0.423655</td>\n",
       "      <td>0.645894</td>\n",
       "    </tr>\n",
       "    <tr>\n",
       "      <th>3</th>\n",
       "      <td>0.437587</td>\n",
       "      <td>0.891773</td>\n",
       "    </tr>\n",
       "    <tr>\n",
       "      <th>4</th>\n",
       "      <td>0.963663</td>\n",
       "      <td>0.383442</td>\n",
       "    </tr>\n",
       "  </tbody>\n",
       "</table>\n",
       "</div>"
      ],
      "text/plain": [
       "          0         1\n",
       "0  0.548814  0.715189\n",
       "1  0.602763  0.544883\n",
       "2  0.423655  0.645894\n",
       "3  0.437587  0.891773\n",
       "4  0.963663  0.383442"
      ]
     },
     "execution_count": 9,
     "metadata": {},
     "output_type": "execute_result"
    }
   ],
   "source": [
    "pd.DataFrame(X)"
   ]
  },
  {
   "cell_type": "code",
   "execution_count": 10,
   "metadata": {},
   "outputs": [
    {
     "name": "stdout",
     "output_type": "stream",
     "text": [
      "   A    B\n",
      "0  1  4.0\n",
      "1  2  NaN\n",
      "2  3  6.0\n"
     ]
    }
   ],
   "source": [
    "df = pd.DataFrame({'A': [1, 2, 3], 'B': [4, 5, 6]})\n",
    "\n",
    "# Set column 'B' to None where column 'A' is equal to 2\n",
    "df.loc[df['A'] == 2, 'B'] = None\n",
    "\n",
    "print(df)"
   ]
  }
 ],
 "metadata": {
  "kernelspec": {
   "display_name": "wsu",
   "language": "python",
   "name": "python3"
  },
  "language_info": {
   "codemirror_mode": {
    "name": "ipython",
    "version": 3
   },
   "file_extension": ".py",
   "mimetype": "text/x-python",
   "name": "python",
   "nbconvert_exporter": "python",
   "pygments_lexer": "ipython3",
   "version": "3.12.0"
  }
 },
 "nbformat": 4,
 "nbformat_minor": 2
}
