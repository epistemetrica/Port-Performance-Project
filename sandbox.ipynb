{
 "cells": [
  {
   "cell_type": "code",
   "execution_count": 1,
   "metadata": {},
   "outputs": [],
   "source": [
    "#prelims\n",
    "import polars as pl\n",
    "import pandas as pd\n",
    "import geopandas as gpd\n",
    "import time\n",
    "import plotly.express as px\n",
    "import matplotlib.pyplot as plt\n",
    "import contextily as cx\n",
    "import numpy as np\n",
    "import glob\n",
    "\n",
    "#enable string cache for polars categoricals\n",
    "pl.enable_string_cache()\n",
    "#display settings\n",
    "pd.set_option('display.max_columns', None)\n",
    "pd.set_option('display.max_rows', None)\n",
    "pl.Config(tbl_rows=50);"
   ]
  },
  {
   "cell_type": "code",
   "execution_count": 5,
   "metadata": {},
   "outputs": [
    {
     "data": {
      "application/vnd.plotly.v1+json": {
       "config": {
        "plotlyServerURL": "https://plot.ly"
       },
       "data": [
        {
         "geo": "geo",
         "hovertemplate": "<b>%{hovertext}</b><br><br>visits_avg=%{marker.size}<br>port_lat=%{lat}<br>port_lon=%{lon}<br>Median Hours at Berth=%{marker.color}<extra></extra>",
         "hovertext": [
          "Detroit-Wayne County Port, MI",
          "Port of Savannah, GA",
          "Port of Vancouver USA, WA",
          "South Louisiana, LA, Port of",
          "San Francisco Port, CA",
          "Marquette, MI",
          "Unalaska Island, AK",
          "South Jersey Port Corp, NJ",
          "Bridgeport, CT",
          "Brownsville, TX",
          "Orange County Nav District, TX",
          "Marine City, MI",
          "Sacramento-Yolo Port, CA",
          "Seattle, WA",
          "Port of Providence, RI",
          "Green Bay, WI",
          "Richmond, CA",
          "Rogers City, MI",
          "San Diego Unified Port, CA",
          "Kalaeloa Barbers Point, HI",
          "Virgin Islands - St. Croix, VI",
          "Portland, ME",
          "Houston Port Authority, TX",
          "Plaquemines Port District, LA",
          "Albany Port District, NY",
          "San Juan, PR",
          "Tampa Port Authority, FL",
          "Northern Indiana District, IN",
          "Tacoma, WA",
          "Wilmington, NC",
          "Oxnard Harbor District, CA",
          "Baltimore, MD",
          "Port of Greater Baton Rouge, LA",
          "Port of Charleston, SC",
          "Sandusky, OH",
          "Presque Isle Township, MI",
          "Port Freeport, TX",
          "Port of Gulfport, MS",
          "Alpena, MI",
          "Port of Alaska, AK",
          "Morehead City, NC",
          "Beaumont, TX",
          "Panama City Port Authority, FL",
          "Lake Charles Harbor District, LA",
          "Duluth-Superior, MN and WI",
          "Texas City, TX",
          "Jacksonville, FL",
          "Port Arthur, TX",
          "Two Harbors, MN",
          "Port of Kalama, WA",
          "Calhoun Port Authority, TX",
          "Mueller Township, MI",
          "Searsport, ME",
          "New Haven, CT",
          "Port Everglades, FL",
          "Portsmouth, NH",
          "Hilo, Hawai'i, HI",
          "Ashtabula Port Authority, OH",
          "Port of Everett, WA",
          "Kahului, Maui, HI",
          "Muskegon, MI",
          "Corpus Christi, TX",
          "New Orleans, LA",
          "Marblehead, OH",
          "Wilmington, DE",
          "Redwood City, CA",
          "Valdez, AK",
          "Toledo-Lucas County Port, OH",
          "Monroe, MI",
          "Port of Oakland, CA",
          "Port of Brunswick, GA",
          "Cleveland-Cuyahoga Port, OH",
          "Guaynabo, PR",
          "Boston, MA",
          "Conneaut, OH",
          "Port of Los Angeles, CA",
          "Port of Palm Beach District, FL",
          "Nawiliwili, Kaua'i, HI",
          "Silver Bay, MN",
          "Port of Longview, WA",
          "Port of Pascagoula, MS",
          "Coos Bay OR, Port of",
          "New York, NY & NJ",
          "PortMiami, FL",
          "Anacortes, WA",
          "Port of Long Beach, CA",
          "Greater Lafourche Port, LA",
          "Galveston, TX",
          "Canaveral Port District, FL",
          "Milwaukee, WI",
          "Philadelphia Regional Port, PA",
          "Clark Township, MI",
          "Yabucoa, PR",
          "Stockton, CA",
          "Mobile, AL",
          "Honolulu, O'ahu, HI",
          "Port of Portland, OR",
          "Manatee County Port, FL",
          "Guayama, PR",
          "Virginia, VA, Port of"
         ],
         "lat": [
          42.26909400000002,
          32.08471099999998,
          45.622440000000005,
          30.033449999999988,
          37.80666500000003,
          46.577291999999964,
          53.89418500000001,
          39.846444999999974,
          41.172,
          25.952201000000002,
          30.095369999999946,
          42.71544999999999,
          38.56132299999998,
          47.58771099999997,
          41.81177999999999,
          44.516215,
          37.92423699999999,
          45.42229799999998,
          32.708209999999994,
          21.323066000000015,
          17.752709999999958,
          43.64950999999999,
          29.74702299999999,
          29.480004000000008,
          42.64271000000003,
          18.432782999999972,
          27.785339999999987,
          41.62504700000002,
          47.28966000000003,
          34.22736499999998,
          34.14824399999996,
          39.25082699999997,
          30.422920000000016,
          32.78878099999997,
          41.470220000000026,
          45.29794,
          28.96133000000003,
          30.35962100000001,
          45.061966999999974,
          61.23778000000001,
          34.71692999999996,
          30.084871999999983,
          30.133998000000016,
          30.106406000000028,
          46.77836199999998,
          29.36306800000003,
          30.32275700000004,
          29.83141999999998,
          47.014550999999976,
          46.02659599999997,
          28.62938900000002,
          45.96942399999999,
          44.45285,
          41.29883000000003,
          26.09339200000001,
          43.073979999999985,
          19.730615999999998,
          41.90368500000001,
          47.98476000000001,
          20.898610000000005,
          43.22708300000002,
          27.812769999999972,
          29.914139999999975,
          41.52961999999998,
          39.715889999999966,
          37.50535999999999,
          61.124730000000014,
          41.66293999999997,
          41.91513400000002,
          37.82152,
          31.132425999999985,
          41.47851999999999,
          18.43022100000003,
          42.34246800000003,
          41.96671,
          33.726635000000016,
          26.76903999999999,
          21.95248399999999,
          47.29420800000001,
          46.14222000000002,
          30.34801999999999,
          43.36350999999997,
          40.67394899999999,
          25.78286200000004,
          48.49594299999999,
          33.73957000000002,
          29.121944999999982,
          29.31048999999998,
          28.414089999999984,
          42.98823999999999,
          39.91882,
          45.99138999999998,
          18.05174300000002,
          37.95270000000001,
          30.69123000000003,
          21.311110000000035,
          45.47881000000001,
          27.633680999999985,
          17.938939000000016,
          36.86641999999996
         ],
         "legendgroup": "",
         "lon": [
          -83.10958600000001,
          -81.09538199999996,
          -122.68060000000018,
          -90.61793999999985,
          -122.39904199999995,
          -87.384821,
          -166.5499160000001,
          -75.261085,
          -73.17886000000004,
          -97.3981380000001,
          -93.7235599999998,
          -82.50235000000005,
          -121.54154100000014,
          -122.35921800000041,
          -71.39844000000004,
          -88.01811800000002,
          -122.37423299999986,
          -83.81197199999998,
          -117.17839999999974,
          -158.1136830000002,
          -64.73242,
          -70.25133999999998,
          -95.29367900000028,
          -89.68744699999998,
          -73.74816000000003,
          -66.09667800000001,
          -82.52235,
          -87.20250699999995,
          -122.45149999999964,
          -77.95049600000002,
          -119.20847500000015,
          -76.56163999999995,
          -91.19933999999976,
          -79.92159500000001,
          -82.71227000000002,
          -83.42138200000002,
          -95.3707000000004,
          -89.092568,
          -83.42173300000003,
          -149.8949999999996,
          -76.72421000000001,
          -94.09498499999985,
          -85.63376199999999,
          -93.28683900000004,
          -92.0964080000003,
          -94.91809099999998,
          -81.66512500000005,
          -93.9606899999997,
          -91.67068500000016,
          -122.86685999999972,
          -96.59232400000002,
          -85.872972,
          -68.92497000000002,
          -72.90473000000003,
          -80.11780099999996,
          -70.73805999999996,
          -155.0547780000002,
          -80.79397599999994,
          -122.22940000000042,
          -156.4727999999997,
          -86.34316000000001,
          -97.39789000000025,
          -90.08525600000007,
          -82.70905999999998,
          -75.50696999999997,
          -122.21401199999977,
          -146.3463999999997,
          -83.50750999999998,
          -83.39060899999993,
          -122.30810000000015,
          -81.53666000000001,
          -81.67191000000001,
          -66.11114099999999,
          -71.032029,
          -80.54860000000004,
          -118.26809900000029,
          -80.05267000000002,
          -159.35231900000005,
          -91.25638799999999,
          -122.91399999999975,
          -88.55879000000003,
          -124.20949999999986,
          -74.03835699999998,
          -80.18164200000001,
          -122.59960999999971,
          -118.20950000000023,
          -90.20527900000023,
          -94.81269999999991,
          -80.60814999999997,
          -87.89967000000003,
          -75.20219099999998,
          -84.31280999999997,
          -65.83622600000001,
          -121.31560000000034,
          -88.03583399999998,
          -157.87169999999958,
          -122.66529999999963,
          -82.56414299999996,
          -66.15600200000002,
          -76.31174000000001
         ],
         "marker": {
          "color": [
           10.85,
           23.616666666666667,
           44.108333333333334,
           48.016666666666666,
           36.15833333333333,
           8.108333333333333,
           27.183333333333334,
           23.416666666666668,
           14.883333333333333,
           54.766666666666666,
           1077.7416666666666,
           9.05,
           105.68333333333334,
           29.641666666666666,
           31.166666666666668,
           19.016666666666666,
           29.525,
           14.433333333333334,
           15.5,
           46.25,
           11.758333333333333,
           16.958333333333332,
           55.75833333333333,
           0.10833333333333334,
           58.15,
           13.35,
           0.11666666666666667,
           29.716666666666665,
           23.75,
           17.483333333333334,
           18.016666666666666,
           23.866666666666667,
           47.68333333333333,
           19.716666666666665,
           15.283333333333333,
           12.016666666666666,
           30.15833333333333,
           13.733333333333333,
           9.566666666666666,
           15.716666666666667,
           59.475,
           42.233333333333334,
           53.208333333333336,
           37.96666666666667,
           18.266666666666666,
           33.81666666666666,
           21.241666666666667,
           41.59166666666667,
           12.1,
           51.56666666666666,
           27.116666666666667,
           9.983333333333333,
           25.78333333333333,
           29.583333333333332,
           14.883333333333333,
           24.2,
           1.7666666666666666,
           25.833333333333332,
           10.608333333333333,
           9.2,
           6.8,
           42.3,
           30.7,
           15.033333333333333,
           38.93333333333333,
           24.316666666666666,
           18.05,
           22.616666666666667,
           10.891666666666666,
           29.116666666666667,
           16.733333333333334,
           14.816666666666666,
           44.825,
           21.166666666666668,
           17.116666666666667,
           44.5,
           25.883333333333333,
           16,
           18.291666666666668,
           69.93333333333334,
           40.13333333333333,
           173.68333333333334,
           30.583333333333332,
           16.816666666666666,
           28.758333333333333,
           30.766666666666666,
           32.608333333333334,
           24.816666666666666,
           35.8,
           25.808333333333334,
           17.891666666666666,
           10.908333333333333,
           38.825,
           65.83333333333333,
           35.233333333333334,
           30.866666666666667,
           171.45,
           26.3,
           22.416666666666668,
           20.933333333333334
          ],
          "coloraxis": "coloraxis",
          "size": [
           47.51243177683445,
           247.2804066665203,
           53.55288577638252,
           87.16632841744465,
           6.667509481668774,
           13.215112736136502,
           26.279242174629324,
           49.91055900621118,
           2.548262548262548,
           27.68059638807224,
           1.7575757575757576,
           7.171069182389937,
           8.533231474407945,
           76.30468956990197,
           30.104266309546585,
           5.7571942446043165,
           66.33230727135918,
           11.246178600160901,
           41.668491228070174,
           19.266428106701365,
           58.58499887716147,
           28.210056390977442,
           212.06795204548263,
           1.4705882352941178,
           8.982603479304139,
           103.25726785210274,
           8.80952380952381,
           17.755792400370712,
           108.85508168894548,
           62.756027383669014,
           55.063548478817175,
           221.05203490040756,
           56.21532682193839,
           119.57395418326693,
           7.23915592028136,
           7.53688989784336,
           121.03632547626735,
           19.67562452687358,
           2.378698224852071,
           22.908274534958306,
           18.121708185053382,
           88.78353350544393,
           2.9297658862876252,
           55.974245827984596,
           31.313585069444443,
           83.55654230416526,
           53.66390152528766,
           92.68300546703425,
           11.091145833333334,
           43.389703210175654,
           24.408453338320555,
           12.683244070390206,
           8.119967132292523,
           24.968283153298092,
           237.4997388459741,
           7.782543265613243,
           1,
           5.874115983026874,
           52.42880523731588,
           4.373333333333333,
           1.6666666666666667,
           117.01395766056692,
           121.69088529573183,
           3.7056737588652484,
           43.5286683107275,
           7.0203007518797,
           16.105639396346305,
           22.07250341997264,
           5.03,
           109.04418766383138,
           56.69213775178687,
           29.787898717527128,
           30.812702527543745,
           55.355587959587545,
           5.562015503875969,
           233.65089873878645,
           34.18648018648019,
           2.778270509977827,
           4.904651162790698,
           38.1251547029703,
           68.5078817347659,
           4.151219512195122,
           95.36544426199599,
           96.85491687169164,
           24.556840077071293,
           291.61565255251986,
           11.801075268817204,
           75.45068746694871,
           32.75546558704453,
           7.26096256684492,
           128.43788414974856,
           7.314685314685315,
           14.214953271028037,
           34.847442031652555,
           139.43461972284885,
           53.260662802793874,
           7.651515151515151,
           40.709542815674894,
           4.117782909930716,
           214.37795545704031
          ],
          "sizemode": "area",
          "sizeref": 0.7290391313812996,
          "symbol": "circle"
         },
         "mode": "markers",
         "name": "",
         "showlegend": false,
         "type": "scattergeo"
        }
       ],
       "layout": {
        "annotations": [
         {
          "align": "left",
          "font": {
           "color": "black",
           "size": 14
          },
          "showarrow": false,
          "text": "Note: Circle size corresponds to average vessel visits per month",
          "x": 0,
          "xref": "paper",
          "y": -0.05,
          "yref": "paper"
         }
        ],
        "coloraxis": {
         "cmax": 50,
         "cmin": 0,
         "colorbar": {
          "title": {
           "text": "Median Hours at Berth"
          }
         },
         "colorscale": [
          [
           0,
           "#440154"
          ],
          [
           0.1111111111111111,
           "#482878"
          ],
          [
           0.2222222222222222,
           "#3e4989"
          ],
          [
           0.3333333333333333,
           "#31688e"
          ],
          [
           0.4444444444444444,
           "#26828e"
          ],
          [
           0.5555555555555556,
           "#1f9e89"
          ],
          [
           0.6666666666666666,
           "#35b779"
          ],
          [
           0.7777777777777778,
           "#6ece58"
          ],
          [
           0.8888888888888888,
           "#b5de2b"
          ],
          [
           1,
           "#fde725"
          ]
         ]
        },
        "geo": {
         "center": {},
         "domain": {
          "x": [
           0,
           1
          ],
          "y": [
           0,
           1
          ]
         },
         "fitbounds": "locations"
        },
        "height": 600,
        "legend": {
         "itemsizing": "constant",
         "tracegroupgap": 0
        },
        "template": {
         "data": {
          "bar": [
           {
            "error_x": {
             "color": "#2a3f5f"
            },
            "error_y": {
             "color": "#2a3f5f"
            },
            "marker": {
             "line": {
              "color": "#E5ECF6",
              "width": 0.5
             },
             "pattern": {
              "fillmode": "overlay",
              "size": 10,
              "solidity": 0.2
             }
            },
            "type": "bar"
           }
          ],
          "barpolar": [
           {
            "marker": {
             "line": {
              "color": "#E5ECF6",
              "width": 0.5
             },
             "pattern": {
              "fillmode": "overlay",
              "size": 10,
              "solidity": 0.2
             }
            },
            "type": "barpolar"
           }
          ],
          "carpet": [
           {
            "aaxis": {
             "endlinecolor": "#2a3f5f",
             "gridcolor": "white",
             "linecolor": "white",
             "minorgridcolor": "white",
             "startlinecolor": "#2a3f5f"
            },
            "baxis": {
             "endlinecolor": "#2a3f5f",
             "gridcolor": "white",
             "linecolor": "white",
             "minorgridcolor": "white",
             "startlinecolor": "#2a3f5f"
            },
            "type": "carpet"
           }
          ],
          "choropleth": [
           {
            "colorbar": {
             "outlinewidth": 0,
             "ticks": ""
            },
            "type": "choropleth"
           }
          ],
          "contour": [
           {
            "colorbar": {
             "outlinewidth": 0,
             "ticks": ""
            },
            "colorscale": [
             [
              0,
              "#0d0887"
             ],
             [
              0.1111111111111111,
              "#46039f"
             ],
             [
              0.2222222222222222,
              "#7201a8"
             ],
             [
              0.3333333333333333,
              "#9c179e"
             ],
             [
              0.4444444444444444,
              "#bd3786"
             ],
             [
              0.5555555555555556,
              "#d8576b"
             ],
             [
              0.6666666666666666,
              "#ed7953"
             ],
             [
              0.7777777777777778,
              "#fb9f3a"
             ],
             [
              0.8888888888888888,
              "#fdca26"
             ],
             [
              1,
              "#f0f921"
             ]
            ],
            "type": "contour"
           }
          ],
          "contourcarpet": [
           {
            "colorbar": {
             "outlinewidth": 0,
             "ticks": ""
            },
            "type": "contourcarpet"
           }
          ],
          "heatmap": [
           {
            "colorbar": {
             "outlinewidth": 0,
             "ticks": ""
            },
            "colorscale": [
             [
              0,
              "#0d0887"
             ],
             [
              0.1111111111111111,
              "#46039f"
             ],
             [
              0.2222222222222222,
              "#7201a8"
             ],
             [
              0.3333333333333333,
              "#9c179e"
             ],
             [
              0.4444444444444444,
              "#bd3786"
             ],
             [
              0.5555555555555556,
              "#d8576b"
             ],
             [
              0.6666666666666666,
              "#ed7953"
             ],
             [
              0.7777777777777778,
              "#fb9f3a"
             ],
             [
              0.8888888888888888,
              "#fdca26"
             ],
             [
              1,
              "#f0f921"
             ]
            ],
            "type": "heatmap"
           }
          ],
          "heatmapgl": [
           {
            "colorbar": {
             "outlinewidth": 0,
             "ticks": ""
            },
            "colorscale": [
             [
              0,
              "#0d0887"
             ],
             [
              0.1111111111111111,
              "#46039f"
             ],
             [
              0.2222222222222222,
              "#7201a8"
             ],
             [
              0.3333333333333333,
              "#9c179e"
             ],
             [
              0.4444444444444444,
              "#bd3786"
             ],
             [
              0.5555555555555556,
              "#d8576b"
             ],
             [
              0.6666666666666666,
              "#ed7953"
             ],
             [
              0.7777777777777778,
              "#fb9f3a"
             ],
             [
              0.8888888888888888,
              "#fdca26"
             ],
             [
              1,
              "#f0f921"
             ]
            ],
            "type": "heatmapgl"
           }
          ],
          "histogram": [
           {
            "marker": {
             "pattern": {
              "fillmode": "overlay",
              "size": 10,
              "solidity": 0.2
             }
            },
            "type": "histogram"
           }
          ],
          "histogram2d": [
           {
            "colorbar": {
             "outlinewidth": 0,
             "ticks": ""
            },
            "colorscale": [
             [
              0,
              "#0d0887"
             ],
             [
              0.1111111111111111,
              "#46039f"
             ],
             [
              0.2222222222222222,
              "#7201a8"
             ],
             [
              0.3333333333333333,
              "#9c179e"
             ],
             [
              0.4444444444444444,
              "#bd3786"
             ],
             [
              0.5555555555555556,
              "#d8576b"
             ],
             [
              0.6666666666666666,
              "#ed7953"
             ],
             [
              0.7777777777777778,
              "#fb9f3a"
             ],
             [
              0.8888888888888888,
              "#fdca26"
             ],
             [
              1,
              "#f0f921"
             ]
            ],
            "type": "histogram2d"
           }
          ],
          "histogram2dcontour": [
           {
            "colorbar": {
             "outlinewidth": 0,
             "ticks": ""
            },
            "colorscale": [
             [
              0,
              "#0d0887"
             ],
             [
              0.1111111111111111,
              "#46039f"
             ],
             [
              0.2222222222222222,
              "#7201a8"
             ],
             [
              0.3333333333333333,
              "#9c179e"
             ],
             [
              0.4444444444444444,
              "#bd3786"
             ],
             [
              0.5555555555555556,
              "#d8576b"
             ],
             [
              0.6666666666666666,
              "#ed7953"
             ],
             [
              0.7777777777777778,
              "#fb9f3a"
             ],
             [
              0.8888888888888888,
              "#fdca26"
             ],
             [
              1,
              "#f0f921"
             ]
            ],
            "type": "histogram2dcontour"
           }
          ],
          "mesh3d": [
           {
            "colorbar": {
             "outlinewidth": 0,
             "ticks": ""
            },
            "type": "mesh3d"
           }
          ],
          "parcoords": [
           {
            "line": {
             "colorbar": {
              "outlinewidth": 0,
              "ticks": ""
             }
            },
            "type": "parcoords"
           }
          ],
          "pie": [
           {
            "automargin": true,
            "type": "pie"
           }
          ],
          "scatter": [
           {
            "fillpattern": {
             "fillmode": "overlay",
             "size": 10,
             "solidity": 0.2
            },
            "type": "scatter"
           }
          ],
          "scatter3d": [
           {
            "line": {
             "colorbar": {
              "outlinewidth": 0,
              "ticks": ""
             }
            },
            "marker": {
             "colorbar": {
              "outlinewidth": 0,
              "ticks": ""
             }
            },
            "type": "scatter3d"
           }
          ],
          "scattercarpet": [
           {
            "marker": {
             "colorbar": {
              "outlinewidth": 0,
              "ticks": ""
             }
            },
            "type": "scattercarpet"
           }
          ],
          "scattergeo": [
           {
            "marker": {
             "colorbar": {
              "outlinewidth": 0,
              "ticks": ""
             }
            },
            "type": "scattergeo"
           }
          ],
          "scattergl": [
           {
            "marker": {
             "colorbar": {
              "outlinewidth": 0,
              "ticks": ""
             }
            },
            "type": "scattergl"
           }
          ],
          "scattermapbox": [
           {
            "marker": {
             "colorbar": {
              "outlinewidth": 0,
              "ticks": ""
             }
            },
            "type": "scattermapbox"
           }
          ],
          "scatterpolar": [
           {
            "marker": {
             "colorbar": {
              "outlinewidth": 0,
              "ticks": ""
             }
            },
            "type": "scatterpolar"
           }
          ],
          "scatterpolargl": [
           {
            "marker": {
             "colorbar": {
              "outlinewidth": 0,
              "ticks": ""
             }
            },
            "type": "scatterpolargl"
           }
          ],
          "scatterternary": [
           {
            "marker": {
             "colorbar": {
              "outlinewidth": 0,
              "ticks": ""
             }
            },
            "type": "scatterternary"
           }
          ],
          "surface": [
           {
            "colorbar": {
             "outlinewidth": 0,
             "ticks": ""
            },
            "colorscale": [
             [
              0,
              "#0d0887"
             ],
             [
              0.1111111111111111,
              "#46039f"
             ],
             [
              0.2222222222222222,
              "#7201a8"
             ],
             [
              0.3333333333333333,
              "#9c179e"
             ],
             [
              0.4444444444444444,
              "#bd3786"
             ],
             [
              0.5555555555555556,
              "#d8576b"
             ],
             [
              0.6666666666666666,
              "#ed7953"
             ],
             [
              0.7777777777777778,
              "#fb9f3a"
             ],
             [
              0.8888888888888888,
              "#fdca26"
             ],
             [
              1,
              "#f0f921"
             ]
            ],
            "type": "surface"
           }
          ],
          "table": [
           {
            "cells": {
             "fill": {
              "color": "#EBF0F8"
             },
             "line": {
              "color": "white"
             }
            },
            "header": {
             "fill": {
              "color": "#C8D4E3"
             },
             "line": {
              "color": "white"
             }
            },
            "type": "table"
           }
          ]
         },
         "layout": {
          "annotationdefaults": {
           "arrowcolor": "#2a3f5f",
           "arrowhead": 0,
           "arrowwidth": 1
          },
          "autotypenumbers": "strict",
          "coloraxis": {
           "colorbar": {
            "outlinewidth": 0,
            "ticks": ""
           }
          },
          "colorscale": {
           "diverging": [
            [
             0,
             "#8e0152"
            ],
            [
             0.1,
             "#c51b7d"
            ],
            [
             0.2,
             "#de77ae"
            ],
            [
             0.3,
             "#f1b6da"
            ],
            [
             0.4,
             "#fde0ef"
            ],
            [
             0.5,
             "#f7f7f7"
            ],
            [
             0.6,
             "#e6f5d0"
            ],
            [
             0.7,
             "#b8e186"
            ],
            [
             0.8,
             "#7fbc41"
            ],
            [
             0.9,
             "#4d9221"
            ],
            [
             1,
             "#276419"
            ]
           ],
           "sequential": [
            [
             0,
             "#0d0887"
            ],
            [
             0.1111111111111111,
             "#46039f"
            ],
            [
             0.2222222222222222,
             "#7201a8"
            ],
            [
             0.3333333333333333,
             "#9c179e"
            ],
            [
             0.4444444444444444,
             "#bd3786"
            ],
            [
             0.5555555555555556,
             "#d8576b"
            ],
            [
             0.6666666666666666,
             "#ed7953"
            ],
            [
             0.7777777777777778,
             "#fb9f3a"
            ],
            [
             0.8888888888888888,
             "#fdca26"
            ],
            [
             1,
             "#f0f921"
            ]
           ],
           "sequentialminus": [
            [
             0,
             "#0d0887"
            ],
            [
             0.1111111111111111,
             "#46039f"
            ],
            [
             0.2222222222222222,
             "#7201a8"
            ],
            [
             0.3333333333333333,
             "#9c179e"
            ],
            [
             0.4444444444444444,
             "#bd3786"
            ],
            [
             0.5555555555555556,
             "#d8576b"
            ],
            [
             0.6666666666666666,
             "#ed7953"
            ],
            [
             0.7777777777777778,
             "#fb9f3a"
            ],
            [
             0.8888888888888888,
             "#fdca26"
            ],
            [
             1,
             "#f0f921"
            ]
           ]
          },
          "colorway": [
           "#636efa",
           "#EF553B",
           "#00cc96",
           "#ab63fa",
           "#FFA15A",
           "#19d3f3",
           "#FF6692",
           "#B6E880",
           "#FF97FF",
           "#FECB52"
          ],
          "font": {
           "color": "#2a3f5f"
          },
          "geo": {
           "bgcolor": "white",
           "lakecolor": "white",
           "landcolor": "#E5ECF6",
           "showlakes": true,
           "showland": true,
           "subunitcolor": "white"
          },
          "hoverlabel": {
           "align": "left"
          },
          "hovermode": "closest",
          "mapbox": {
           "style": "light"
          },
          "paper_bgcolor": "white",
          "plot_bgcolor": "#E5ECF6",
          "polar": {
           "angularaxis": {
            "gridcolor": "white",
            "linecolor": "white",
            "ticks": ""
           },
           "bgcolor": "#E5ECF6",
           "radialaxis": {
            "gridcolor": "white",
            "linecolor": "white",
            "ticks": ""
           }
          },
          "scene": {
           "xaxis": {
            "backgroundcolor": "#E5ECF6",
            "gridcolor": "white",
            "gridwidth": 2,
            "linecolor": "white",
            "showbackground": true,
            "ticks": "",
            "zerolinecolor": "white"
           },
           "yaxis": {
            "backgroundcolor": "#E5ECF6",
            "gridcolor": "white",
            "gridwidth": 2,
            "linecolor": "white",
            "showbackground": true,
            "ticks": "",
            "zerolinecolor": "white"
           },
           "zaxis": {
            "backgroundcolor": "#E5ECF6",
            "gridcolor": "white",
            "gridwidth": 2,
            "linecolor": "white",
            "showbackground": true,
            "ticks": "",
            "zerolinecolor": "white"
           }
          },
          "shapedefaults": {
           "line": {
            "color": "#2a3f5f"
           }
          },
          "ternary": {
           "aaxis": {
            "gridcolor": "white",
            "linecolor": "white",
            "ticks": ""
           },
           "baxis": {
            "gridcolor": "white",
            "linecolor": "white",
            "ticks": ""
           },
           "bgcolor": "#E5ECF6",
           "caxis": {
            "gridcolor": "white",
            "linecolor": "white",
            "ticks": ""
           }
          },
          "title": {
           "x": 0.05
          },
          "xaxis": {
           "automargin": true,
           "gridcolor": "white",
           "linecolor": "white",
           "ticks": "",
           "title": {
            "standoff": 15
           },
           "zerolinecolor": "white",
           "zerolinewidth": 2
          },
          "yaxis": {
           "automargin": true,
           "gridcolor": "white",
           "linecolor": "white",
           "ticks": "",
           "title": {
            "standoff": 15
           },
           "zerolinecolor": "white",
           "zerolinewidth": 2
          }
         }
        },
        "title": {
         "text": "Average visits per month & Median Hours at Berth (previous 12 months)"
        },
        "width": 1000
       }
      }
     },
     "metadata": {},
     "output_type": "display_data"
    }
   ],
   "source": [
    "#load data\n",
    "df = pl.read_parquet('port data/dashboard/main.parquet')\n",
    "#init handy variables\n",
    "earliest_date = df['time'].min()\n",
    "latest_date = df['time'].max()\n",
    "\n",
    "#define port stats function\n",
    "def port_stats(df, start_date=earliest_date, end_date=latest_date):\n",
    "    #create ports stats for most recent 12 months\n",
    "    portstats_df = (\n",
    "        #convert main gdf to polars\n",
    "        df\n",
    "        #filter to most recent 12 months\n",
    "        .filter(pl.col('time').is_between(start_date, end_date))\n",
    "        #ensure sorting\n",
    "        .sort(['mmsi', 'time'])\n",
    "        #create row index (for identifying docking events)\n",
    "        .with_row_index('docking_id')\n",
    "        .with_columns(\n",
    "            #create docking event id - NOTE may need to ensure this captures all relevant messages\n",
    "            docking_id = (\n",
    "                #keep only docking ids associated with docking messages\n",
    "                pl.when(pl.col('status')==5)\n",
    "                .then(pl.col('docking_id'))\n",
    "                .otherwise(pl.lit(None))\n",
    "                #backfill over vessel\n",
    "                .backward_fill().over('mmsi')\n",
    "            )\n",
    "        )\n",
    "        #drop messages not associated with a docking event\n",
    "        .drop_nulls(subset='docking_id')\n",
    "        .with_columns(\n",
    "            #sum anchorage time for each docking event\n",
    "            time_at_anchor = (\n",
    "                pl.when(pl.col('status')==1)\n",
    "                .then(pl.col('status_duration'))\n",
    "                .otherwise(pl.lit(None))\n",
    "                .sum().over('docking_id')\n",
    "            ),\n",
    "            #get monthly vessels and visits\n",
    "            vessels = pl.col('mmsi').n_unique().over('port_name', 'month'),\n",
    "            visits = pl.col('docking_id').n_unique().over('port_name', 'month')\n",
    "        )\n",
    "        #aggregate to ports\n",
    "        .group_by('port_name')\n",
    "        .agg(\n",
    "            #keep lat and long\n",
    "            port_lat = pl.col('port_lat').first(),\n",
    "            port_lon = pl.col('port_lon').first(),\n",
    "            #get monthly average of unique vessels seen at each port\n",
    "            vessels_avg = pl.col('vessels').mean(),\n",
    "            #get monthly average of vessel visits at each port\n",
    "            visits_avg = pl.col('visits').mean(),\n",
    "            #get median time at berth in hours\n",
    "            time_at_berth_median = (\n",
    "                pl.when(pl.col('status')==5)\n",
    "                .then(pl.col('status_duration'))\n",
    "                .otherwise(pl.lit(None))\n",
    "            ).median()/60,\n",
    "            #get median time at anchor in hours\n",
    "            time_at_anchor_median = pl.col('time_at_anchor').median()/60,\n",
    "            #get mean time at anchor in hours\n",
    "            time_at_anchor_mean = pl.col('time_at_anchor').mean()/60\n",
    "        )\n",
    "        #convert to pandas to that geopandas is happy\n",
    "        .to_pandas()\n",
    "    )\n",
    "    #convert back to geodataframe\n",
    "    portstats_gdf = (\n",
    "        gpd.GeoDataFrame(\n",
    "            portstats_df, \n",
    "            geometry=gpd.points_from_xy(portstats_df.port_lon, \n",
    "                                        portstats_df.port_lat),\n",
    "            crs=3857\n",
    "        )\n",
    "    )\n",
    "    return portstats_gdf\n",
    "\n",
    "\n",
    "def update_map(start_date, end_date):\n",
    "    #ensure function doesn't change main df\n",
    "    data = df.clone()\n",
    "    if start_date and end_date:\n",
    "        data = port_stats(data, start_date, end_date)\n",
    "    elif start_date:\n",
    "        data = port_stats(data, start_date)\n",
    "    elif end_date:\n",
    "        data = port_stats(data, end_date=end_date)\n",
    "    else:\n",
    "        data = port_stats(data)\n",
    "    #create map figure\n",
    "    fig = px.scatter_geo(\n",
    "        data,\n",
    "        lon='port_lon',\n",
    "        lat='port_lat',\n",
    "        size='visits_avg',\n",
    "        color='time_at_berth_median',\n",
    "        range_color=[0,50],\n",
    "        hover_name='port_name',\n",
    "        size_max=20,\n",
    "        title='Average visits per month & Median Hours at Berth (previous 12 months)',\n",
    "        color_continuous_scale=px.colors.sequential.Viridis,\n",
    "        width=1000,\n",
    "        height=600,\n",
    "        labels={\n",
    "            'time_at_berth_median':'Median Hours at Berth'\n",
    "        }\n",
    "    )\n",
    "\n",
    "    # Fit the view to ports\n",
    "    fig.update_geos(fitbounds=\"locations\")\n",
    "\n",
    "    # Add footnote using add_annotation\n",
    "    fig.add_annotation(\n",
    "        text=\"Note: Circle size corresponds to average vessel visits per month\",  # Footnote text\n",
    "        xref=\"paper\", yref=\"paper\",  # Position relative to the plot area\n",
    "        x=0, y=0-0.05,  # Adjust to footnote position\n",
    "        showarrow=False,  # No arrow, just text\n",
    "        font=dict(size=14, color=\"black\"),  # Customize the font style\n",
    "        align=\"left\"\n",
    "    )\n",
    "    return fig\n",
    "\n",
    "update_map(earliest_date, latest_date)"
   ]
  },
  {
   "cell_type": "code",
   "execution_count": 2,
   "metadata": {},
   "outputs": [],
   "source": [
    "#init list of lazyframes\n",
    "lfs = []\n",
    "#process each parquet file individually into lazyframes\n",
    "for file in glob.glob('ais data/data/ais_clean/*.parquet'):\n",
    "    try:\n",
    "        #check file integrity \n",
    "        pl.scan_parquet(file).collect_schema()\n",
    "        #read file\n",
    "        lf = (\n",
    "            pl.scan_parquet(file)\n",
    "            #drop smaller vessels\n",
    "            .filter(pl.col('length')>100)\n",
    "            #sort by vessel and time\n",
    "            .sort(['mmsi', 'time'])\n",
    "            #indicate whether status is the same as previous row (Fill value needed to avoid status 0 evaluating as equal to false)\n",
    "            #.with_columns(\n",
    "            #    status_change = (\n",
    "            #        pl.col('status').ne(pl.col('status').shift(fill_value=20))\n",
    "            #        .over('mmsi')\n",
    "            #    ),\n",
    "            #    status_previous = pl.col('status').shift().over('mmsi')\n",
    "            #)\n",
    "            #keep only new status pings\n",
    "            #.filter(pl.col('status_change')==True)\n",
    "            #drop change col\n",
    "            #.drop('status_change')\n",
    "        )\n",
    "        #append to list of lazyframes\n",
    "        lfs.append(lf)\n",
    "    except:\n",
    "        print(f'{file} failed')\n"
   ]
  },
  {
   "cell_type": "code",
   "execution_count": 3,
   "metadata": {},
   "outputs": [
    {
     "data": {
      "text/plain": [
       "1769422121"
      ]
     },
     "execution_count": 3,
     "metadata": {},
     "output_type": "execute_result"
    }
   ],
   "source": [
    "lf = pl.concat(lfs, how='diagonal_relaxed')\n",
    "lf.select(pl.len()).collect().item()"
   ]
  },
  {
   "cell_type": "code",
   "execution_count": null,
   "metadata": {},
   "outputs": [],
   "source": [
    "lf.select(pl.len()).collect().item() - lf.unique(subset=['mmsi', 'time']).select(pl.len()).collect().item()"
   ]
  },
  {
   "cell_type": "code",
   "execution_count": null,
   "metadata": {},
   "outputs": [],
   "source": [
    "os.chdir('/Users/adamwilson/Downloads/')\n",
    "\n",
    "def bad_lines(line):\n",
    "    line = line[1:]\n",
    "    return line"
   ]
  },
  {
   "cell_type": "code",
   "execution_count": null,
   "metadata": {},
   "outputs": [],
   "source": [
    "df = pd.read_csv('AIS_2023_05_09.csv', engine='python', on_bad_lines=bad_lines)"
   ]
  },
  {
   "cell_type": "code",
   "execution_count": null,
   "metadata": {},
   "outputs": [],
   "source": [
    "df.info()"
   ]
  },
  {
   "cell_type": "markdown",
   "metadata": {},
   "source": [
    "### What's happening in April 2023??"
   ]
  },
  {
   "cell_type": "code",
   "execution_count": null,
   "metadata": {},
   "outputs": [],
   "source": [
    "px.bar(\n",
    "    monthly_df\n",
    "    .group_by('month').agg(pl.col('vessels_avg').sum())\n",
    "    .sort('month'),\n",
    "    y='vessels_avg', x='month',\n",
    "    title='Vessels per month',\n",
    "    labels={'vessels_avg':'Vessel Count'}\n",
    ")\n",
    "\n",
    "daily_df = (\n",
    "    #convert to polars\n",
    "    pl.DataFrame(main_gdf.drop(['geometry', 'geometry_port'], axis=1))\n",
    "    #create day column\n",
    "    .with_columns(day = pl.col('time').dt.strftime('%Y%m%d'))\n",
    "    #agg over ports and days\n",
    "    .group_by('port_name', 'day')\n",
    "    .agg(\n",
    "        #keep lat and long\n",
    "        lat = pl.col('lat').first(),\n",
    "        lon = pl.col('lon').first(),\n",
    "        #get monthly avg vessels\n",
    "        vessels_avg = pl.col('mmsi').n_unique(),\n",
    "        #get average time at berth\n",
    "        time_at_berth_avg = (\n",
    "            pl.when(pl.col('status')==5)\n",
    "            .then(pl.col('status_duration'))\n",
    "            .otherwise(pl.lit(None))\n",
    "        ).median()/60,\n",
    "        #get average time at anchor\n",
    "        time_at_anchor_avg = (\n",
    "            pl.when(pl.col('status')==1)\n",
    "            .then(pl.col('status_duration'))\n",
    "            .otherwise(pl.lit(None))\n",
    "        ).median()/60\n",
    "    )\n",
    ")\n",
    "\n",
    "px.bar(\n",
    "    daily_df\n",
    "    .filter(\n",
    "        pl.col('day').str.starts_with('202302') | \n",
    "        pl.col('day').str.starts_with('202303') | \n",
    "        pl.col('day').str.starts_with('202304') |\n",
    "        pl.col('day').str.starts_with('202305') |\n",
    "        pl.col('day').str.starts_with('202306')\n",
    "    )\n",
    "    .group_by('day').agg(pl.col('vessels_avg').sum())\n",
    "    .sort('day'),\n",
    "    y='vessels_avg', x='day',\n",
    "    title='Vessels per day',\n",
    "    labels={'vessels_avg':'Vessel Count'}\n",
    ")\n",
    "\n",
    "#### checking raw AIS data\n",
    "#init list of lazyframes\n",
    "lfs = []\n",
    "#process each parquet file individually into lazyframes\n",
    "for file in glob.glob('ais data/data/ais_clean/*.parquet'):\n",
    "    try:\n",
    "        #check file integrity \n",
    "        pl.scan_parquet(file).collect_schema()\n",
    "        #read file\n",
    "        lf = (\n",
    "            pl.scan_parquet(file)\n",
    "            #keep only observations near 2023 03\n",
    "            .filter(pl.col('time').is_between(pl.datetime(2023,1,1), \n",
    "                                              pl.datetime(2023,12,31))\n",
    "            )\n",
    "            #drop smaller vessels\n",
    "            .filter(pl.col('length')>100)\n",
    "        )\n",
    "        #append to list of lazyframes\n",
    "        lfs.append(lf)\n",
    "    except:\n",
    "        print(f'{file} failed')\n",
    "\n",
    "#collect all lazyframes\n",
    "dfs = pl.collect_all(lfs)\n",
    "\n",
    "#create single dataframe\n",
    "ais_df = (\n",
    "    #concat dfs\n",
    "    pl.concat(dfs, how='diagonal_relaxed')\n",
    "    .sort(['mmsi', 'time'])\n",
    "    #add time since last ping\n",
    "    .with_columns(\n",
    "        time_since_last = (pl.col('time')-pl.col('time').shift()).over('mmsi')\n",
    "        .dt.total_seconds()\n",
    "    )\n",
    ")\n",
    "\n",
    "px.histogram(ais_df\n",
    "             #limit to keep plotly from losing its mind\n",
    "             .limit(10000000)\n",
    "             #filter to pings less than 2hr apart\n",
    "             .filter((pl.col('time_since_last')/60<=120) & (pl.col('status')==5)), \n",
    "             x='time_since_last', nbins=100)\n",
    "\n",
    "px.bar(\n",
    "    ais_df\n",
    "    .filter(pl.col('time_since_last')<45)\n",
    "    .with_columns(\n",
    "        #split by coast\n",
    "        coast = (\n",
    "            pl.when(pl.col('lon')>103)\n",
    "            .then(pl.lit('west'))\n",
    "            .otherwise(pl.lit('east'))\n",
    "        ),\n",
    "        #cast day to dt\n",
    "        day = pl.col('time').dt.strftime('%Y%m%d')\n",
    "    )\n",
    "    .group_by(['coast','day']).agg(\n",
    "        messages = pl.col('mmsi').count(),\n",
    "        avg_time_since_last = pl.col('time_since_last').mean()\n",
    "    )\n",
    "    .with_columns(pl.col('day').str.to_date('%Y%m%d'))\n",
    "    .sort('day'), \n",
    "    y='messages', x='day',\n",
    "    #color='coast'\n",
    "    )"
   ]
  },
  {
   "cell_type": "code",
   "execution_count": null,
   "metadata": {},
   "outputs": [],
   "source": [
    "pd.read_csv('AIS_2023_05_25.csv')"
   ]
  },
  {
   "cell_type": "code",
   "execution_count": null,
   "metadata": {},
   "outputs": [],
   "source": [
    "pf = pl.read_csv('AIS_2023_05_09.csv', truncate_ragged_lines=True, infer_schema_length=0)"
   ]
  },
  {
   "cell_type": "code",
   "execution_count": null,
   "metadata": {},
   "outputs": [],
   "source": [
    "pf.describe()"
   ]
  },
  {
   "cell_type": "code",
   "execution_count": null,
   "metadata": {},
   "outputs": [],
   "source": [
    "polars_lf = (\n",
    "    #load from parquet file - NOTE scan_ tells polars to be in lazy mode\n",
    "    pl.scan_parquet('ais data/data/ais_clean/ais_2023_12.parquet')\n",
    "    #sort by vessel and time\n",
    "    .sort(['mmsi', 'time'])\n",
    "    #drop smaller vessels\n",
    "    .filter(pl.col('length')>100)\n",
    "    #keep necessary columns\n",
    "    .select(['mmsi','time', 'status'])\n",
    ")"
   ]
  },
  {
   "cell_type": "code",
   "execution_count": null,
   "metadata": {},
   "outputs": [],
   "source": [
    "polars_lf.show_graph(optimized=False)"
   ]
  },
  {
   "cell_type": "code",
   "execution_count": null,
   "metadata": {},
   "outputs": [],
   "source": [
    "os.chdir('/Users/adamwilson/Library/CloudStorage/OneDrive-WashingtonStateUniversity(email.wsu.edu)/Port Performance/data/AIS/')\n",
    "\n",
    "pl.read_parquet('2015_3.parquet').head()"
   ]
  },
  {
   "cell_type": "code",
   "execution_count": null,
   "metadata": {},
   "outputs": [],
   "source": [
    "%timeit polars_lf.collect()"
   ]
  },
  {
   "cell_type": "code",
   "execution_count": null,
   "metadata": {},
   "outputs": [],
   "source": [
    "pl.read_parquet('ais data/data/ais_clean/ais_2023_12.parquet').to_pandas().to_parquet('ais data/data/file.parquet')"
   ]
  },
  {
   "cell_type": "code",
   "execution_count": null,
   "metadata": {},
   "outputs": [],
   "source": [
    "%%timeit\n",
    "\n",
    "#read parquet\n",
    "df = pd.read_parquet('ais data/data/file.parquet', engine='pyarroe')\n",
    "#sort by mmsi and time\n",
    "df = df.sort_values(by=['mmsi', 'time'])\n",
    "#filter by vessel length\n",
    "df = df[df.length>100]\n",
    "#drop unused columns\n",
    "df = df[['mmsi', 'time', 'status']]"
   ]
  },
  {
   "cell_type": "code",
   "execution_count": null,
   "metadata": {},
   "outputs": [],
   "source": [
    "%%timeit\n",
    "\n",
    "#read parquet\n",
    "df = pd.read_parquet('ais data/data/file.parquet')[['mmsi','time', 'status', 'length']]\n",
    "#sort by mmsi and time\n",
    "df = df.sort_values(by=['mmsi', 'time'])\n",
    "#drop unused column\n",
    "df.drop('length', axis=1)"
   ]
  },
  {
   "cell_type": "code",
   "execution_count": null,
   "metadata": {},
   "outputs": [],
   "source": [
    "df.head()"
   ]
  },
  {
   "cell_type": "code",
   "execution_count": null,
   "metadata": {},
   "outputs": [],
   "source": [
    "polars_lf.collect().describe()"
   ]
  },
  {
   "cell_type": "code",
   "execution_count": null,
   "metadata": {},
   "outputs": [],
   "source": [
    "df = pl.DataFrame()\n",
    "for file in [f for f in os.listdir('ais data/data/ais_clean/') if not f.startswith('.')]:\n",
    "    file_df = pl.read_parquet()"
   ]
  },
  {
   "cell_type": "code",
   "execution_count": null,
   "metadata": {},
   "outputs": [],
   "source": [
    "df = (\n",
    "    #read into lazyframe\n",
    "    pl.scan_parquet('ais data/data/ais_clean/*.parquet'))"
   ]
  },
  {
   "cell_type": "code",
   "execution_count": null,
   "metadata": {},
   "outputs": [],
   "source": [
    "df.collect_schema()"
   ]
  },
  {
   "cell_type": "code",
   "execution_count": null,
   "metadata": {},
   "outputs": [],
   "source": [
    "import contextily as ctx\n",
    "import matplotlib.pyplot as plt\n",
    "\n",
    "#load dock data\n",
    "docks_gdf = (\n",
    "    #read in shape file downloaded from USACE\n",
    "    gpd.read_file('port data/Dock/Dock.shp')\n",
    "    #drop unneeded columns\n",
    "    .drop([\n",
    "        'FID', #randomly assigned table id\n",
    "        'LONGITUDE', 'LATITUDE', #already coded in 'geometry' \n",
    "        'LOCATION_D', #text description of dock location\n",
    "        'STREET_ADD','ZIPCODE', #street address details\n",
    "        'PSA_NAME', #statistical area name, rarely used\n",
    "        'COUNTY_NAM', 'COUNTY_FIP', 'CONGRESS', 'CONGRESS_F', #county and congress info\n",
    "        'MILE', 'BANK', 'LATITUDE1', 'LONGITUDE1', #redundant locaation data\n",
    "        'OPERATORS', 'OWNERS', #owner info\n",
    "        'PURPOSE', #long-form text description of dock uses\n",
    "        'DOCK', #unknown number (not unique to each row/dock)\n",
    "        'HIGHWAY_NO', 'RAILWAY_NO', 'LOCATION', #redundant location info\n",
    "        'COMMODITIE', 'CONSTRUCTI','MECHANICAL', 'REMARKS', 'VERTICAL_D', \n",
    "        'DEPTH_MIN', 'DEPTH_MAX','BERTHING_L', 'BERTHING_T', 'DECK_HEIGH', \n",
    "        'DECK_HEI_1', #these are rarely used stats on construction\n",
    "        'SERVICE_IN','SERVICE_TE', #rarely used indicators of data entry date \n",
    "    ], axis=1)\n",
    "    #set coordinate reference system to WGS84 lat/long\n",
    "    .to_crs('EPSG:4326')\n",
    "    #rename cols for clarity\n",
    "    .rename(columns={\n",
    "        'NAV_UNIT_I':'nav_unit_id',\n",
    "        'NAV_UNIT_N':'nav_unit_name',\n",
    "        'FACILITY_T':'facility_type',\n",
    "        'CITY_OR_TO':'city',\n",
    "        'STATE_POST':'state'\n",
    "    })\n",
    ")\n",
    "#set col names to pythonic lowercase\n",
    "docks_gdf.columns = docks_gdf.columns.str.lower()"
   ]
  },
  {
   "cell_type": "code",
   "execution_count": null,
   "metadata": {},
   "outputs": [],
   "source": [
    "gdf.geometry.y"
   ]
  },
  {
   "cell_type": "code",
   "execution_count": null,
   "metadata": {},
   "outputs": [],
   "source": [
    "import numpy as np\n",
    "from sklearn.neighbors import KDTree\n",
    "np.random.seed(0)\n",
    "X = np.random.random((5, 2))  # 5 points in 2 dimensions\n",
    "tree = KDTree(X)\n",
    "nearest_dist, nearest_ind = tree.query(X, k=2)  # k=2 nearest neighbors where k1 = identity\n",
    "print(X)\n",
    "print(nearest_dist[:, 1])    # drop id; assumes sorted -> see args!\n",
    "print(nearest_ind[:, 1])     # drop id "
   ]
  },
  {
   "cell_type": "code",
   "execution_count": null,
   "metadata": {},
   "outputs": [],
   "source": [
    "pd.DataFrame(X)"
   ]
  },
  {
   "cell_type": "code",
   "execution_count": null,
   "metadata": {},
   "outputs": [],
   "source": [
    "df = pd.DataFrame({'A': [1, 2, 3], 'B': [4, 5, 6]})\n",
    "\n",
    "# Set column 'B' to None where column 'A' is equal to 2\n",
    "df.loc[df['A'] == 2, 'B'] = None\n",
    "\n",
    "print(df)"
   ]
  }
 ],
 "metadata": {
  "kernelspec": {
   "display_name": "wsu",
   "language": "python",
   "name": "python3"
  },
  "language_info": {
   "codemirror_mode": {
    "name": "ipython",
    "version": 3
   },
   "file_extension": ".py",
   "mimetype": "text/x-python",
   "name": "python",
   "nbconvert_exporter": "python",
   "pygments_lexer": "ipython3",
   "version": "3.12.0"
  }
 },
 "nbformat": 4,
 "nbformat_minor": 2
}
