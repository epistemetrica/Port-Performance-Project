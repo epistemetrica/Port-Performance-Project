{
 "cells": [
  {
   "cell_type": "code",
   "execution_count": 43,
   "metadata": {},
   "outputs": [],
   "source": [
    "import polars as pl\n",
    "import pandas as pd"
   ]
  },
  {
   "cell_type": "code",
   "execution_count": 44,
   "metadata": {},
   "outputs": [],
   "source": [
    "lf = pl.scan_csv('data/*.csv').unique()"
   ]
  },
  {
   "cell_type": "code",
   "execution_count": 45,
   "metadata": {},
   "outputs": [
    {
     "data": {
      "text/html": [
       "<div><style>\n",
       ".dataframe > thead > tr,\n",
       ".dataframe > tbody > tr {\n",
       "  text-align: right;\n",
       "  white-space: pre-wrap;\n",
       "}\n",
       "</style>\n",
       "<small>shape: (9, 18)</small><table border=\"1\" class=\"dataframe\"><thead><tr><th>statistic</th><th>MMSI</th><th>BaseDateTime</th><th>LAT</th><th>LON</th><th>SOG</th><th>COG</th><th>Heading</th><th>VesselName</th><th>IMO</th><th>CallSign</th><th>VesselType</th><th>Status</th><th>Length</th><th>Width</th><th>Draft</th><th>Cargo</th><th>TransceiverClass</th></tr><tr><td>str</td><td>f64</td><td>str</td><td>f64</td><td>f64</td><td>f64</td><td>f64</td><td>f64</td><td>str</td><td>str</td><td>str</td><td>f64</td><td>f64</td><td>f64</td><td>f64</td><td>f64</td><td>f64</td><td>str</td></tr></thead><tbody><tr><td>&quot;count&quot;</td><td>2.24540248e8</td><td>&quot;224540248&quot;</td><td>2.24540248e8</td><td>2.24540248e8</td><td>2.24540248e8</td><td>2.24540248e8</td><td>2.24540248e8</td><td>&quot;224233051&quot;</td><td>&quot;140493135&quot;</td><td>&quot;198922593&quot;</td><td>2.24457614e8</td><td>1.67524696e8</td><td>2.19333602e8</td><td>2.10119258e8</td><td>1.33935471e8</td><td>1.67664022e8</td><td>&quot;224540248&quot;</td></tr><tr><td>&quot;null_count&quot;</td><td>0.0</td><td>&quot;0&quot;</td><td>0.0</td><td>0.0</td><td>0.0</td><td>0.0</td><td>0.0</td><td>&quot;307197&quot;</td><td>&quot;84047113&quot;</td><td>&quot;25617655&quot;</td><td>82634.0</td><td>5.7015552e7</td><td>5.206646e6</td><td>1.442099e7</td><td>9.0604777e7</td><td>5.6876226e7</td><td>&quot;0&quot;</td></tr><tr><td>&quot;mean&quot;</td><td>3.6811e8</td><td>null</td><td>34.440335</td><td>-94.969732</td><td>2.096187</td><td>217.17261</td><td>352.327606</td><td>null</td><td>null</td><td>null</td><td>45.929119</td><td>4.298639</td><td>59.502913</td><td>12.508982</td><td>4.014037</td><td>51.807152</td><td>null</td></tr><tr><td>&quot;std&quot;</td><td>5.8429e7</td><td>null</td><td>7.672206</td><td>20.314681</td><td>6.374898</td><td>113.995473</td><td>179.60788</td><td>null</td><td>null</td><td>null</td><td>18.388324</td><td>5.501845</td><td>77.498178</td><td>11.006032</td><td>3.620624</td><td>20.799927</td><td>null</td></tr><tr><td>&quot;min&quot;</td><td>0.0</td><td>&quot;2023-01-19T00:00:00&quot;</td><td>-22.08184</td><td>-179.05592</td><td>0.0</td><td>0.0</td><td>0.0</td><td>&quot;############&quot;</td><td>&quot;IMO0000000&quot;</td><td>&quot;-&quot;</td><td>0.0</td><td>0.0</td><td>0.0</td><td>0.0</td><td>0.0</td><td>0.0</td><td>&quot;A&quot;</td></tr><tr><td>&quot;25%&quot;</td><td>3.6684328e8</td><td>null</td><td>29.55506</td><td>-117.22839</td><td>0.0</td><td>125.9</td><td>191.0</td><td>null</td><td>null</td><td>null</td><td>31.0</td><td>0.0</td><td>17.0</td><td>6.0</td><td>2.0</td><td>33.0</td><td>null</td></tr><tr><td>&quot;50%&quot;</td><td>3.6746036e8</td><td>null</td><td>30.71743</td><td>-90.6055</td><td>0.0</td><td>236.6</td><td>511.0</td><td>null</td><td>null</td><td>null</td><td>37.0</td><td>0.0</td><td>25.0</td><td>8.0</td><td>3.0</td><td>52.0</td><td>null</td></tr><tr><td>&quot;75%&quot;</td><td>3.6806394e8</td><td>null</td><td>40.06814</td><td>-80.46134</td><td>0.5</td><td>319.1</td><td>511.0</td><td>null</td><td>null</td><td>null</td><td>57.0</td><td>11.0</td><td>53.0</td><td>14.0</td><td>5.1</td><td>60.0</td><td>null</td></tr><tr><td>&quot;max&quot;</td><td>1.0723e9</td><td>&quot;2024-01-22T23:59:59&quot;</td><td>86.67657</td><td>178.5857</td><td>102.3</td><td>409.5</td><td>511.0</td><td>&quot;ZYANA K&quot;</td><td>&quot;IMO999999999&quot;</td><td>&quot;\\&quot;</td><td>255.0</td><td>15.0</td><td>894.0</td><td>126.0</td><td>28.2</td><td>255.0</td><td>&quot;B&quot;</td></tr></tbody></table></div>"
      ],
      "text/plain": [
       "shape: (9, 18)\n",
       "┌───────────┬───────────┬───────────┬───────────┬───┬───────────┬───────────┬───────────┬──────────┐\n",
       "│ statistic ┆ MMSI      ┆ BaseDateT ┆ LAT       ┆ … ┆ Width     ┆ Draft     ┆ Cargo     ┆ Transcei │\n",
       "│ ---       ┆ ---       ┆ ime       ┆ ---       ┆   ┆ ---       ┆ ---       ┆ ---       ┆ verClass │\n",
       "│ str       ┆ f64       ┆ ---       ┆ f64       ┆   ┆ f64       ┆ f64       ┆ f64       ┆ ---      │\n",
       "│           ┆           ┆ str       ┆           ┆   ┆           ┆           ┆           ┆ str      │\n",
       "╞═══════════╪═══════════╪═══════════╪═══════════╪═══╪═══════════╪═══════════╪═══════════╪══════════╡\n",
       "│ count     ┆ 2.2454024 ┆ 224540248 ┆ 2.2454024 ┆ … ┆ 2.1011925 ┆ 1.3393547 ┆ 1.6766402 ┆ 22454024 │\n",
       "│           ┆ 8e8       ┆           ┆ 8e8       ┆   ┆ 8e8       ┆ 1e8       ┆ 2e8       ┆ 8        │\n",
       "│ null_coun ┆ 0.0       ┆ 0         ┆ 0.0       ┆ … ┆ 1.442099e ┆ 9.0604777 ┆ 5.6876226 ┆ 0        │\n",
       "│ t         ┆           ┆           ┆           ┆   ┆ 7         ┆ e7        ┆ e7        ┆          │\n",
       "│ mean      ┆ 3.6811e8  ┆ null      ┆ 34.440335 ┆ … ┆ 12.508982 ┆ 4.014037  ┆ 51.807152 ┆ null     │\n",
       "│ std       ┆ 5.8429e7  ┆ null      ┆ 7.672206  ┆ … ┆ 11.006032 ┆ 3.620624  ┆ 20.799927 ┆ null     │\n",
       "│ min       ┆ 0.0       ┆ 2023-01-1 ┆ -22.08184 ┆ … ┆ 0.0       ┆ 0.0       ┆ 0.0       ┆ A        │\n",
       "│           ┆           ┆ 9T00:00:0 ┆           ┆   ┆           ┆           ┆           ┆          │\n",
       "│           ┆           ┆ 0         ┆           ┆   ┆           ┆           ┆           ┆          │\n",
       "│ 25%       ┆ 3.6684328 ┆ null      ┆ 29.55506  ┆ … ┆ 6.0       ┆ 2.0       ┆ 33.0      ┆ null     │\n",
       "│           ┆ e8        ┆           ┆           ┆   ┆           ┆           ┆           ┆          │\n",
       "│ 50%       ┆ 3.6746036 ┆ null      ┆ 30.71743  ┆ … ┆ 8.0       ┆ 3.0       ┆ 52.0      ┆ null     │\n",
       "│           ┆ e8        ┆           ┆           ┆   ┆           ┆           ┆           ┆          │\n",
       "│ 75%       ┆ 3.6806394 ┆ null      ┆ 40.06814  ┆ … ┆ 14.0      ┆ 5.1       ┆ 60.0      ┆ null     │\n",
       "│           ┆ e8        ┆           ┆           ┆   ┆           ┆           ┆           ┆          │\n",
       "│ max       ┆ 1.0723e9  ┆ 2024-01-2 ┆ 86.67657  ┆ … ┆ 126.0     ┆ 28.2      ┆ 255.0     ┆ B        │\n",
       "│           ┆           ┆ 2T23:59:5 ┆           ┆   ┆           ┆           ┆           ┆          │\n",
       "│           ┆           ┆ 9         ┆           ┆   ┆           ┆           ┆           ┆          │\n",
       "└───────────┴───────────┴───────────┴───────────┴───┴───────────┴───────────┴───────────┴──────────┘"
      ]
     },
     "execution_count": 45,
     "metadata": {},
     "output_type": "execute_result"
    }
   ],
   "source": [
    "lf.describe()"
   ]
  },
  {
   "cell_type": "code",
   "execution_count": 46,
   "metadata": {},
   "outputs": [
    {
     "name": "stderr",
     "output_type": "stream",
     "text": [
      "/var/folders/dc/sgfd2dls28n4y4v4_jw03ly40000gp/T/ipykernel_98105/1769415228.py:35: CategoricalRemappingWarning: Local categoricals have different encodings, expensive re-encoding is done to perform this merge operation. Consider using a StringCache or an Enum type if the categories are known in advance\n",
      "  .collect()\n"
     ]
    },
    {
     "data": {
      "text/html": [
       "<div><style>\n",
       ".dataframe > thead > tr,\n",
       ".dataframe > tbody > tr {\n",
       "  text-align: right;\n",
       "  white-space: pre-wrap;\n",
       "}\n",
       "</style>\n",
       "<small>shape: (9, 10)</small><table border=\"1\" class=\"dataframe\"><thead><tr><th>statistic</th><th>mmsi</th><th>time</th><th>lat</th><th>lon</th><th>speed</th><th>course</th><th>heading</th><th>vessel_name</th><th>imo</th></tr><tr><td>str</td><td>f64</td><td>str</td><td>f64</td><td>f64</td><td>f64</td><td>f64</td><td>f64</td><td>str</td><td>f64</td></tr></thead><tbody><tr><td>&quot;count&quot;</td><td>1.485288e7</td><td>&quot;14852880&quot;</td><td>1.485288e7</td><td>1.485288e7</td><td>1.485288e7</td><td>1.4489186e7</td><td>1.3483563e7</td><td>&quot;14852880&quot;</td><td>1.4316802e7</td></tr><tr><td>&quot;null_count&quot;</td><td>0.0</td><td>&quot;0&quot;</td><td>0.0</td><td>0.0</td><td>0.0</td><td>363694.0</td><td>1.369317e6</td><td>&quot;0&quot;</td><td>536078.0</td></tr><tr><td>&quot;mean&quot;</td><td>4.1057e8</td><td>&quot;2023-08-22 18:36:29.728394&quot;</td><td>34.829989</td><td>-93.07851</td><td>4.799632</td><td>184.594675</td><td>184.427295</td><td>null</td><td>1.2472e7</td></tr><tr><td>&quot;std&quot;</td><td>1.2133e8</td><td>null</td><td>8.134211</td><td>24.667199</td><td>6.567469</td><td>103.814063</td><td>105.769955</td><td>null</td><td>5.3808e7</td></tr><tr><td>&quot;min&quot;</td><td>2.05087e8</td><td>&quot;2023-01-19 00:00:00&quot;</td><td>5.47742</td><td>-179.05592</td><td>0.0</td><td>0.0</td><td>0.0</td><td>null</td><td>0.0</td></tr><tr><td>&quot;25%&quot;</td><td>3.38196e8</td><td>&quot;2023-01-27 04:39:02&quot;</td><td>29.29495</td><td>-118.168</td><td>0.0</td><td>98.6</td><td>93.0</td><td>null</td><td>9.271195e6</td></tr><tr><td>&quot;50%&quot;</td><td>3.6769128e8</td><td>&quot;2024-01-04 01:23:44&quot;</td><td>32.83382</td><td>-89.90983</td><td>0.1</td><td>186.8</td><td>181.0</td><td>null</td><td>9.516478e6</td></tr><tr><td>&quot;75%&quot;</td><td>5.38005482e8</td><td>&quot;2024-01-11 20:38:19&quot;</td><td>40.72742</td><td>-79.67974</td><td>10.5</td><td>272.0</td><td>278.0</td><td>null</td><td>9.710505e6</td></tr><tr><td>&quot;max&quot;</td><td>7.50237e8</td><td>&quot;2024-01-22 23:59:59&quot;</td><td>50.21838</td><td>147.34451</td><td>102.3</td><td>359.9</td><td>360.0</td><td>null</td><td>1.0000e9</td></tr></tbody></table></div>"
      ],
      "text/plain": [
       "shape: (9, 10)\n",
       "┌───────────┬───────────┬───────────┬───────────┬───┬───────────┬───────────┬───────────┬──────────┐\n",
       "│ statistic ┆ mmsi      ┆ time      ┆ lat       ┆ … ┆ course    ┆ heading   ┆ vessel_na ┆ imo      │\n",
       "│ ---       ┆ ---       ┆ ---       ┆ ---       ┆   ┆ ---       ┆ ---       ┆ me        ┆ ---      │\n",
       "│ str       ┆ f64       ┆ str       ┆ f64       ┆   ┆ f64       ┆ f64       ┆ ---       ┆ f64      │\n",
       "│           ┆           ┆           ┆           ┆   ┆           ┆           ┆ str       ┆          │\n",
       "╞═══════════╪═══════════╪═══════════╪═══════════╪═══╪═══════════╪═══════════╪═══════════╪══════════╡\n",
       "│ count     ┆ 1.485288e ┆ 14852880  ┆ 1.485288e ┆ … ┆ 1.4489186 ┆ 1.3483563 ┆ 14852880  ┆ 1.431680 │\n",
       "│           ┆ 7         ┆           ┆ 7         ┆   ┆ e7        ┆ e7        ┆           ┆ 2e7      │\n",
       "│ null_coun ┆ 0.0       ┆ 0         ┆ 0.0       ┆ … ┆ 363694.0  ┆ 1.369317e ┆ 0         ┆ 536078.0 │\n",
       "│ t         ┆           ┆           ┆           ┆   ┆           ┆ 6         ┆           ┆          │\n",
       "│ mean      ┆ 4.1057e8  ┆ 2023-08-2 ┆ 34.829989 ┆ … ┆ 184.59467 ┆ 184.42729 ┆ null      ┆ 1.2472e7 │\n",
       "│           ┆           ┆ 2 18:36:2 ┆           ┆   ┆ 5         ┆ 5         ┆           ┆          │\n",
       "│           ┆           ┆ 9.728394  ┆           ┆   ┆           ┆           ┆           ┆          │\n",
       "│ std       ┆ 1.2133e8  ┆ null      ┆ 8.134211  ┆ … ┆ 103.81406 ┆ 105.76995 ┆ null      ┆ 5.3808e7 │\n",
       "│           ┆           ┆           ┆           ┆   ┆ 3         ┆ 5         ┆           ┆          │\n",
       "│ min       ┆ 2.05087e8 ┆ 2023-01-1 ┆ 5.47742   ┆ … ┆ 0.0       ┆ 0.0       ┆ null      ┆ 0.0      │\n",
       "│           ┆           ┆ 9         ┆           ┆   ┆           ┆           ┆           ┆          │\n",
       "│           ┆           ┆ 00:00:00  ┆           ┆   ┆           ┆           ┆           ┆          │\n",
       "│ 25%       ┆ 3.38196e8 ┆ 2023-01-2 ┆ 29.29495  ┆ … ┆ 98.6      ┆ 93.0      ┆ null      ┆ 9.271195 │\n",
       "│           ┆           ┆ 7         ┆           ┆   ┆           ┆           ┆           ┆ e6       │\n",
       "│           ┆           ┆ 04:39:02  ┆           ┆   ┆           ┆           ┆           ┆          │\n",
       "│ 50%       ┆ 3.6769128 ┆ 2024-01-0 ┆ 32.83382  ┆ … ┆ 186.8     ┆ 181.0     ┆ null      ┆ 9.516478 │\n",
       "│           ┆ e8        ┆ 4         ┆           ┆   ┆           ┆           ┆           ┆ e6       │\n",
       "│           ┆           ┆ 01:23:44  ┆           ┆   ┆           ┆           ┆           ┆          │\n",
       "│ 75%       ┆ 5.3800548 ┆ 2024-01-1 ┆ 40.72742  ┆ … ┆ 272.0     ┆ 278.0     ┆ null      ┆ 9.710505 │\n",
       "│           ┆ 2e8       ┆ 1         ┆           ┆   ┆           ┆           ┆           ┆ e6       │\n",
       "│           ┆           ┆ 20:38:19  ┆           ┆   ┆           ┆           ┆           ┆          │\n",
       "│ max       ┆ 7.50237e8 ┆ 2024-01-2 ┆ 50.21838  ┆ … ┆ 359.9     ┆ 360.0     ┆ null      ┆ 1.0000e9 │\n",
       "│           ┆           ┆ 2         ┆           ┆   ┆           ┆           ┆           ┆          │\n",
       "│           ┆           ┆ 23:59:59  ┆           ┆   ┆           ┆           ┆           ┆          │\n",
       "└───────────┴───────────┴───────────┴───────────┴───┴───────────┴───────────┴───────────┴──────────┘"
      ]
     },
     "execution_count": 46,
     "metadata": {},
     "output_type": "execute_result"
    }
   ],
   "source": [
    "df = (\n",
    "    #keep only cargo ships (NOTE this may need to be expanded)\n",
    "    lf.filter(pl.col('VesselType')==70)\n",
    "    #keep cols of interest\n",
    "    .select('MMSI', 'BaseDateTime','LAT', 'LON', 'SOG', 'COG', 'Heading',\n",
    "            'VesselName', 'IMO')\n",
    "    #give pythonic names\n",
    "    .rename({\n",
    "        'MMSI':'mmsi',\n",
    "        'BaseDateTime':'time',\n",
    "        'LAT':'lat',\n",
    "        'LON':'lon',\n",
    "        'SOG':'speed',\n",
    "        'COG':'course',\n",
    "        'Heading':'heading',\n",
    "        'VesselName':'vessel_name',\n",
    "        'IMO':'imo'\n",
    "    })\n",
    "    #clean cols\n",
    "    .with_columns(\n",
    "        #strip IMO prefix and cast to int\n",
    "        imo = pl.col('imo').str.strip_prefix('IMO').cast(pl.Int64),\n",
    "        #clean course and heading \n",
    "        course = pl.col('course').replace(360.0,None),\n",
    "        heading = pl.col('heading').replace(511.0,None)\n",
    "    )\n",
    "    #cast\n",
    "    .cast({\n",
    "        #'mmsi':pl.Categorical,\n",
    "        'time':pl.Datetime,\n",
    "        'vessel_name':pl.Categorical,\n",
    "        #'imo':pl.Categorical\n",
    "    })\n",
    "    #collect\n",
    "    .collect()\n",
    ")\n",
    "df.describe()"
   ]
  },
  {
   "cell_type": "code",
   "execution_count": 47,
   "metadata": {},
   "outputs": [
    {
     "data": {
      "text/html": [
       "<div><style>\n",
       ".dataframe > thead > tr,\n",
       ".dataframe > tbody > tr {\n",
       "  text-align: right;\n",
       "  white-space: pre-wrap;\n",
       "}\n",
       "</style>\n",
       "<small>shape: (5, 9)</small><table border=\"1\" class=\"dataframe\"><thead><tr><th>mmsi</th><th>time</th><th>lat</th><th>lon</th><th>speed</th><th>course</th><th>heading</th><th>vessel_name</th><th>imo</th></tr><tr><td>i64</td><td>datetime[μs]</td><td>f64</td><td>f64</td><td>f64</td><td>f64</td><td>f64</td><td>cat</td><td>i64</td></tr></thead><tbody><tr><td>538004675</td><td>2024-01-08 16:01:10</td><td>48.35749</td><td>-124.17153</td><td>8.2</td><td>292.6</td><td>289.0</td><td>&quot;MELIA&quot;</td><td>9286968</td></tr><tr><td>229340000</td><td>2023-01-29 04:54:42</td><td>40.09908</td><td>-73.40117</td><td>9.9</td><td>137.2</td><td>139.0</td><td>&quot;CMA CGM MALTA&quot;</td><td>9301433</td></tr><tr><td>366698000</td><td>2023-01-20 18:32:08</td><td>32.85027</td><td>-79.94021</td><td>0.0</td><td>0.0</td><td>55.0</td><td>&quot;CAPE DECISION&quot;</td><td>7310911</td></tr><tr><td>367348000</td><td>2024-01-10 08:49:36</td><td>40.45479</td><td>-74.05381</td><td>0.0</td><td>205.2</td><td>28.0</td><td>&quot;USNS 1ST LT B. LOPEZ&quot;</td><td>8302442</td></tr><tr><td>229671000</td><td>2023-01-21 04:05:26</td><td>18.03215</td><td>-63.09965</td><td>0.5</td><td>319.6</td><td>null</td><td>&quot;AQUAMARIN&quot;</td><td>9551674</td></tr></tbody></table></div>"
      ],
      "text/plain": [
       "shape: (5, 9)\n",
       "┌───────────┬──────────────┬──────────┬────────────┬───┬────────┬─────────┬──────────────┬─────────┐\n",
       "│ mmsi      ┆ time         ┆ lat      ┆ lon        ┆ … ┆ course ┆ heading ┆ vessel_name  ┆ imo     │\n",
       "│ ---       ┆ ---          ┆ ---      ┆ ---        ┆   ┆ ---    ┆ ---     ┆ ---          ┆ ---     │\n",
       "│ i64       ┆ datetime[μs] ┆ f64      ┆ f64        ┆   ┆ f64    ┆ f64     ┆ cat          ┆ i64     │\n",
       "╞═══════════╪══════════════╪══════════╪════════════╪═══╪════════╪═════════╪══════════════╪═════════╡\n",
       "│ 538004675 ┆ 2024-01-08   ┆ 48.35749 ┆ -124.17153 ┆ … ┆ 292.6  ┆ 289.0   ┆ MELIA        ┆ 9286968 │\n",
       "│           ┆ 16:01:10     ┆          ┆            ┆   ┆        ┆         ┆              ┆         │\n",
       "│ 229340000 ┆ 2023-01-29   ┆ 40.09908 ┆ -73.40117  ┆ … ┆ 137.2  ┆ 139.0   ┆ CMA CGM      ┆ 9301433 │\n",
       "│           ┆ 04:54:42     ┆          ┆            ┆   ┆        ┆         ┆ MALTA        ┆         │\n",
       "│ 366698000 ┆ 2023-01-20   ┆ 32.85027 ┆ -79.94021  ┆ … ┆ 0.0    ┆ 55.0    ┆ CAPE         ┆ 7310911 │\n",
       "│           ┆ 18:32:08     ┆          ┆            ┆   ┆        ┆         ┆ DECISION     ┆         │\n",
       "│ 367348000 ┆ 2024-01-10   ┆ 40.45479 ┆ -74.05381  ┆ … ┆ 205.2  ┆ 28.0    ┆ USNS 1ST LT  ┆ 8302442 │\n",
       "│           ┆ 08:49:36     ┆          ┆            ┆   ┆        ┆         ┆ B. LOPEZ     ┆         │\n",
       "│ 229671000 ┆ 2023-01-21   ┆ 18.03215 ┆ -63.09965  ┆ … ┆ 319.6  ┆ null    ┆ AQUAMARIN    ┆ 9551674 │\n",
       "│           ┆ 04:05:26     ┆          ┆            ┆   ┆        ┆         ┆              ┆         │\n",
       "└───────────┴──────────────┴──────────┴────────────┴───┴────────┴─────────┴──────────────┴─────────┘"
      ]
     },
     "execution_count": 47,
     "metadata": {},
     "output_type": "execute_result"
    }
   ],
   "source": [
    "df.head()"
   ]
  },
  {
   "cell_type": "code",
   "execution_count": 48,
   "metadata": {},
   "outputs": [],
   "source": [
    "df.write_parquet('data/2024_01.parquet')"
   ]
  },
  {
   "cell_type": "code",
   "execution_count": 49,
   "metadata": {},
   "outputs": [
    {
     "data": {
      "text/html": [
       "<div><style>\n",
       ".dataframe > thead > tr,\n",
       ".dataframe > tbody > tr {\n",
       "  text-align: right;\n",
       "  white-space: pre-wrap;\n",
       "}\n",
       "</style>\n",
       "<small>shape: (9, 3)</small><table border=\"1\" class=\"dataframe\"><thead><tr><th>statistic</th><th>day</th><th>mmsi</th></tr><tr><td>str</td><td>f64</td><td>f64</td></tr></thead><tbody><tr><td>&quot;count&quot;</td><td>31.0</td><td>31.0</td></tr><tr><td>&quot;null_count&quot;</td><td>0.0</td><td>0.0</td></tr><tr><td>&quot;mean&quot;</td><td>16.0</td><td>956.483871</td></tr><tr><td>&quot;std&quot;</td><td>9.092121</td><td>41.857593</td></tr><tr><td>&quot;min&quot;</td><td>1.0</td><td>877.0</td></tr><tr><td>&quot;25%&quot;</td><td>9.0</td><td>931.0</td></tr><tr><td>&quot;50%&quot;</td><td>16.0</td><td>947.0</td></tr><tr><td>&quot;75%&quot;</td><td>24.0</td><td>995.0</td></tr><tr><td>&quot;max&quot;</td><td>31.0</td><td>1038.0</td></tr></tbody></table></div>"
      ],
      "text/plain": [
       "shape: (9, 3)\n",
       "┌────────────┬──────────┬────────────┐\n",
       "│ statistic  ┆ day      ┆ mmsi       │\n",
       "│ ---        ┆ ---      ┆ ---        │\n",
       "│ str        ┆ f64      ┆ f64        │\n",
       "╞════════════╪══════════╪════════════╡\n",
       "│ count      ┆ 31.0     ┆ 31.0       │\n",
       "│ null_count ┆ 0.0      ┆ 0.0        │\n",
       "│ mean       ┆ 16.0     ┆ 956.483871 │\n",
       "│ std        ┆ 9.092121 ┆ 41.857593  │\n",
       "│ min        ┆ 1.0      ┆ 877.0      │\n",
       "│ 25%        ┆ 9.0      ┆ 931.0      │\n",
       "│ 50%        ┆ 16.0     ┆ 947.0      │\n",
       "│ 75%        ┆ 24.0     ┆ 995.0      │\n",
       "│ max        ┆ 31.0     ┆ 1038.0     │\n",
       "└────────────┴──────────┴────────────┘"
      ]
     },
     "execution_count": 49,
     "metadata": {},
     "output_type": "execute_result"
    }
   ],
   "source": [
    "df2 = (\n",
    "    df\n",
    "    .with_columns(pl.col('time').dt.day().alias('day'))\n",
    "    .group_by('day')\n",
    "    .agg(\n",
    "        pl.col('mmsi').n_unique()\n",
    "    )\n",
    ")\n",
    "df2.describe()"
   ]
  },
  {
   "cell_type": "code",
   "execution_count": 50,
   "metadata": {},
   "outputs": [
    {
     "data": {
      "text/html": [
       "<div><style>\n",
       ".dataframe > thead > tr,\n",
       ".dataframe > tbody > tr {\n",
       "  text-align: right;\n",
       "  white-space: pre-wrap;\n",
       "}\n",
       "</style>\n",
       "<small>shape: (9, 3)</small><table border=\"1\" class=\"dataframe\"><thead><tr><th>statistic</th><th>mmsi</th><th>time</th></tr><tr><td>str</td><td>f64</td><td>f64</td></tr></thead><tbody><tr><td>&quot;count&quot;</td><td>3425.0</td><td>3425.0</td></tr><tr><td>&quot;null_count&quot;</td><td>0.0</td><td>0.0</td></tr><tr><td>&quot;mean&quot;</td><td>4.2029e8</td><td>4336.607299</td></tr><tr><td>&quot;std&quot;</td><td>1.3031e8</td><td>4505.311034</td></tr><tr><td>&quot;min&quot;</td><td>2.05087e8</td><td>1.0</td></tr><tr><td>&quot;25%&quot;</td><td>3.16035905e8</td><td>998.0</td></tr><tr><td>&quot;50%&quot;</td><td>3.71059e8</td><td>3363.0</td></tr><tr><td>&quot;75%&quot;</td><td>5.38008317e8</td><td>6109.0</td></tr><tr><td>&quot;max&quot;</td><td>7.50237e8</td><td>37249.0</td></tr></tbody></table></div>"
      ],
      "text/plain": [
       "shape: (9, 3)\n",
       "┌────────────┬──────────────┬─────────────┐\n",
       "│ statistic  ┆ mmsi         ┆ time        │\n",
       "│ ---        ┆ ---          ┆ ---         │\n",
       "│ str        ┆ f64          ┆ f64         │\n",
       "╞════════════╪══════════════╪═════════════╡\n",
       "│ count      ┆ 3425.0       ┆ 3425.0      │\n",
       "│ null_count ┆ 0.0          ┆ 0.0         │\n",
       "│ mean       ┆ 4.2029e8     ┆ 4336.607299 │\n",
       "│ std        ┆ 1.3031e8     ┆ 4505.311034 │\n",
       "│ min        ┆ 2.05087e8    ┆ 1.0         │\n",
       "│ 25%        ┆ 3.16035905e8 ┆ 998.0       │\n",
       "│ 50%        ┆ 3.71059e8    ┆ 3363.0      │\n",
       "│ 75%        ┆ 5.38008317e8 ┆ 6109.0      │\n",
       "│ max        ┆ 7.50237e8    ┆ 37249.0     │\n",
       "└────────────┴──────────────┴─────────────┘"
      ]
     },
     "execution_count": 50,
     "metadata": {},
     "output_type": "execute_result"
    }
   ],
   "source": [
    "df3 = (\n",
    "    df.group_by('mmsi').agg(pl.col('time').count())\n",
    ")\n",
    "df3.describe()"
   ]
  },
  {
   "cell_type": "code",
   "execution_count": null,
   "metadata": {},
   "outputs": [],
   "source": [
    "https://coast.noaa.gov/htdata/CMSP/AISDataHandler/2024/AIS_2024_02_09.zip"
   ]
  }
 ],
 "metadata": {
  "kernelspec": {
   "display_name": "wsu",
   "language": "python",
   "name": "python3"
  },
  "language_info": {
   "codemirror_mode": {
    "name": "ipython",
    "version": 3
   },
   "file_extension": ".py",
   "mimetype": "text/x-python",
   "name": "python",
   "nbconvert_exporter": "python",
   "pygments_lexer": "ipython3",
   "version": "3.12.0"
  }
 },
 "nbformat": 4,
 "nbformat_minor": 2
}
