{
 "cells": [
  {
   "cell_type": "code",
   "execution_count": 4,
   "metadata": {},
   "outputs": [],
   "source": [
    "import polars as pl\n",
    "import pandas as pd\n",
    "\n",
    "#enable string cache for polars categoricals\n",
    "pl.enable_string_cache()\n",
    "#display settings\n",
    "pd.set_option('display.max_columns', None)"
   ]
  },
  {
   "cell_type": "code",
   "execution_count": 5,
   "metadata": {},
   "outputs": [],
   "source": [
    "lf = pl.scan_csv('/data/*.csv')"
   ]
  },
  {
   "cell_type": "code",
   "execution_count": 6,
   "metadata": {},
   "outputs": [
    {
     "data": {
      "text/html": [
       "<div><style>\n",
       ".dataframe > thead > tr,\n",
       ".dataframe > tbody > tr {\n",
       "  text-align: right;\n",
       "  white-space: pre-wrap;\n",
       "}\n",
       "</style>\n",
       "<small>shape: (9, 10)</small><table border=\"1\" class=\"dataframe\"><thead><tr><th>statistic</th><th>mmsi</th><th>time</th><th>lat</th><th>lon</th><th>speed</th><th>course</th><th>heading</th><th>vessel_name</th><th>imo</th></tr><tr><td>str</td><td>f64</td><td>str</td><td>f64</td><td>f64</td><td>f64</td><td>f64</td><td>f64</td><td>str</td><td>f64</td></tr></thead><tbody><tr><td>&quot;count&quot;</td><td>4.50860784e8</td><td>&quot;450860784&quot;</td><td>4.50860784e8</td><td>4.50860784e8</td><td>4.50860784e8</td><td>4.48550133e8</td><td>3.3731571e8</td><td>&quot;450826196&quot;</td><td>4.18743515e8</td></tr><tr><td>&quot;null_count&quot;</td><td>0.0</td><td>&quot;0&quot;</td><td>0.0</td><td>0.0</td><td>0.0</td><td>2.310651e6</td><td>1.13545074e8</td><td>&quot;34588&quot;</td><td>3.2117269e7</td></tr><tr><td>&quot;mean&quot;</td><td>3.7987e8</td><td>&quot;2015-07-13 05:43:54.063985&quot;</td><td>33.752925</td><td>-93.346497</td><td>5.190558</td><td>183.806022</td><td>183.107138</td><td>null</td><td>2.4358e7</td></tr><tr><td>&quot;std&quot;</td><td>1.2985e8</td><td>null</td><td>10.348719</td><td>26.183735</td><td>6.738095</td><td>104.837372</td><td>103.898169</td><td>null</td><td>9.5470e7</td></tr><tr><td>&quot;min&quot;</td><td>99510.0</td><td>&quot;2015-01-01 00:00:00&quot;</td><td>9.95039</td><td>-179.99931</td><td>0.0</td><td>0.0</td><td>0.0</td><td>null</td><td>1.0</td></tr><tr><td>&quot;25%&quot;</td><td>3.38564e8</td><td>&quot;2015-03-13 19:10:38&quot;</td><td>28.45999</td><td>-116.83153</td><td>0.0</td><td>99.2</td><td>95.0</td><td>null</td><td>8.428583e6</td></tr><tr><td>&quot;50%&quot;</td><td>3.6701871e8</td><td>&quot;2015-06-11 03:34:38&quot;</td><td>30.37519</td><td>-89.03003</td><td>0.2</td><td>188.3</td><td>184.0</td><td>null</td><td>9.217888e6</td></tr><tr><td>&quot;75%&quot;</td><td>3.72081e8</td><td>&quot;2015-10-07 03:00:25&quot;</td><td>40.63648</td><td>-76.97082</td><td>11.0</td><td>272.5</td><td>273.0</td><td>null</td><td>9.350379e6</td></tr><tr><td>&quot;max&quot;</td><td>8.6675523e8</td><td>&quot;2016-10-31 23:59:59&quot;</td><td>89.4922</td><td>148.32682</td><td>102.3</td><td>359.9</td><td>510.0</td><td>null</td><td>9.264776e8</td></tr></tbody></table></div>"
      ],
      "text/plain": [
       "shape: (9, 10)\n",
       "┌───────────┬───────────┬───────────┬───────────┬───┬───────────┬───────────┬───────────┬──────────┐\n",
       "│ statistic ┆ mmsi      ┆ time      ┆ lat       ┆ … ┆ course    ┆ heading   ┆ vessel_na ┆ imo      │\n",
       "│ ---       ┆ ---       ┆ ---       ┆ ---       ┆   ┆ ---       ┆ ---       ┆ me        ┆ ---      │\n",
       "│ str       ┆ f64       ┆ str       ┆ f64       ┆   ┆ f64       ┆ f64       ┆ ---       ┆ f64      │\n",
       "│           ┆           ┆           ┆           ┆   ┆           ┆           ┆ str       ┆          │\n",
       "╞═══════════╪═══════════╪═══════════╪═══════════╪═══╪═══════════╪═══════════╪═══════════╪══════════╡\n",
       "│ count     ┆ 4.5086078 ┆ 450860784 ┆ 4.5086078 ┆ … ┆ 4.4855013 ┆ 3.3731571 ┆ 450826196 ┆ 4.187435 │\n",
       "│           ┆ 4e8       ┆           ┆ 4e8       ┆   ┆ 3e8       ┆ e8        ┆           ┆ 15e8     │\n",
       "│ null_coun ┆ 0.0       ┆ 0         ┆ 0.0       ┆ … ┆ 2.310651e ┆ 1.1354507 ┆ 34588     ┆ 3.211726 │\n",
       "│ t         ┆           ┆           ┆           ┆   ┆ 6         ┆ 4e8       ┆           ┆ 9e7      │\n",
       "│ mean      ┆ 3.7987e8  ┆ 2015-07-1 ┆ 33.752925 ┆ … ┆ 183.80602 ┆ 183.10713 ┆ null      ┆ 2.4358e7 │\n",
       "│           ┆           ┆ 3 05:43:5 ┆           ┆   ┆ 2         ┆ 8         ┆           ┆          │\n",
       "│           ┆           ┆ 4.063985  ┆           ┆   ┆           ┆           ┆           ┆          │\n",
       "│ std       ┆ 1.2985e8  ┆ null      ┆ 10.348719 ┆ … ┆ 104.83737 ┆ 103.89816 ┆ null      ┆ 9.5470e7 │\n",
       "│           ┆           ┆           ┆           ┆   ┆ 2         ┆ 9         ┆           ┆          │\n",
       "│ min       ┆ 99510.0   ┆ 2015-01-0 ┆ 9.95039   ┆ … ┆ 0.0       ┆ 0.0       ┆ null      ┆ 1.0      │\n",
       "│           ┆           ┆ 1         ┆           ┆   ┆           ┆           ┆           ┆          │\n",
       "│           ┆           ┆ 00:00:00  ┆           ┆   ┆           ┆           ┆           ┆          │\n",
       "│ 25%       ┆ 3.38564e8 ┆ 2015-03-1 ┆ 28.45999  ┆ … ┆ 99.2      ┆ 95.0      ┆ null      ┆ 8.428583 │\n",
       "│           ┆           ┆ 3         ┆           ┆   ┆           ┆           ┆           ┆ e6       │\n",
       "│           ┆           ┆ 19:10:38  ┆           ┆   ┆           ┆           ┆           ┆          │\n",
       "│ 50%       ┆ 3.6701871 ┆ 2015-06-1 ┆ 30.37519  ┆ … ┆ 188.3     ┆ 184.0     ┆ null      ┆ 9.217888 │\n",
       "│           ┆ e8        ┆ 1         ┆           ┆   ┆           ┆           ┆           ┆ e6       │\n",
       "│           ┆           ┆ 03:34:38  ┆           ┆   ┆           ┆           ┆           ┆          │\n",
       "│ 75%       ┆ 3.72081e8 ┆ 2015-10-0 ┆ 40.63648  ┆ … ┆ 272.5     ┆ 273.0     ┆ null      ┆ 9.350379 │\n",
       "│           ┆           ┆ 7         ┆           ┆   ┆           ┆           ┆           ┆ e6       │\n",
       "│           ┆           ┆ 03:00:25  ┆           ┆   ┆           ┆           ┆           ┆          │\n",
       "│ max       ┆ 8.6675523 ┆ 2016-10-3 ┆ 89.4922   ┆ … ┆ 359.9     ┆ 510.0     ┆ null      ┆ 9.264776 │\n",
       "│           ┆ e8        ┆ 1         ┆           ┆   ┆           ┆           ┆           ┆ e8       │\n",
       "│           ┆           ┆ 23:59:59  ┆           ┆   ┆           ┆           ┆           ┆          │\n",
       "└───────────┴───────────┴───────────┴───────────┴───┴───────────┴───────────┴───────────┴──────────┘"
      ]
     },
     "execution_count": 6,
     "metadata": {},
     "output_type": "execute_result"
    }
   ],
   "source": [
    "lf.describe()"
   ]
  },
  {
   "cell_type": "code",
   "execution_count": 12,
   "metadata": {},
   "outputs": [
    {
     "data": {
      "text/html": [
       "<div><style>\n",
       ".dataframe > thead > tr,\n",
       ".dataframe > tbody > tr {\n",
       "  text-align: right;\n",
       "  white-space: pre-wrap;\n",
       "}\n",
       "</style>\n",
       "<small>shape: (10, 4)</small><table border=\"1\" class=\"dataframe\"><thead><tr><th>month</th><th>imo_count</th><th>vessel_count</th><th>pings_per_vessel</th></tr><tr><td>date</td><td>u32</td><td>u32</td><td>f64</td></tr></thead><tbody><tr><td>2015-01-01</td><td>356</td><td>367</td><td>134487.678474</td></tr><tr><td>2015-02-01</td><td>321</td><td>330</td><td>127603.190909</td></tr><tr><td>2015-03-01</td><td>335</td><td>347</td><td>138855.389049</td></tr><tr><td>2015-04-01</td><td>324</td><td>335</td><td>116121.023881</td></tr><tr><td>2015-05-01</td><td>341</td><td>352</td><td>104569.721591</td></tr><tr><td>2015-06-01</td><td>291</td><td>302</td><td>108484.430464</td></tr><tr><td>2015-07-01</td><td>297</td><td>311</td><td>105644.758842</td></tr><tr><td>2015-08-01</td><td>290</td><td>303</td><td>98590.940594</td></tr><tr><td>2015-09-01</td><td>277</td><td>288</td><td>76900.006944</td></tr><tr><td>2015-10-01</td><td>273</td><td>284</td><td>75017.78169</td></tr></tbody></table></div>"
      ],
      "text/plain": [
       "shape: (10, 4)\n",
       "┌────────────┬───────────┬──────────────┬──────────────────┐\n",
       "│ month      ┆ imo_count ┆ vessel_count ┆ pings_per_vessel │\n",
       "│ ---        ┆ ---       ┆ ---          ┆ ---              │\n",
       "│ date       ┆ u32       ┆ u32          ┆ f64              │\n",
       "╞════════════╪═══════════╪══════════════╪══════════════════╡\n",
       "│ 2015-01-01 ┆ 356       ┆ 367          ┆ 134487.678474    │\n",
       "│ 2015-02-01 ┆ 321       ┆ 330          ┆ 127603.190909    │\n",
       "│ 2015-03-01 ┆ 335       ┆ 347          ┆ 138855.389049    │\n",
       "│ 2015-04-01 ┆ 324       ┆ 335          ┆ 116121.023881    │\n",
       "│ 2015-05-01 ┆ 341       ┆ 352          ┆ 104569.721591    │\n",
       "│ 2015-06-01 ┆ 291       ┆ 302          ┆ 108484.430464    │\n",
       "│ 2015-07-01 ┆ 297       ┆ 311          ┆ 105644.758842    │\n",
       "│ 2015-08-01 ┆ 290       ┆ 303          ┆ 98590.940594     │\n",
       "│ 2015-09-01 ┆ 277       ┆ 288          ┆ 76900.006944     │\n",
       "│ 2015-10-01 ┆ 273       ┆ 284          ┆ 75017.78169      │\n",
       "└────────────┴───────────┴──────────────┴──────────────────┘"
      ]
     },
     "execution_count": 12,
     "metadata": {},
     "output_type": "execute_result"
    }
   ],
   "source": [
    "monthly_df = (\n",
    "    lf\n",
    "    .with_columns(\n",
    "        month = pl.col('time').dt.month_start().dt.date()\n",
    "    )\n",
    "    .group_by('month')\n",
    "    .agg(\n",
    "        imo_count = pl.col('imo').n_unique(),\n",
    "        vessel_count = pl.col('mmsi').n_unique(),\n",
    "        pings_per_vessel = pl.col('mmsi').count()/pl.col('mmsi').n_unique(),\n",
    "\n",
    "    )\n",
    "    .sort('month')\n",
    "    .collect()\n",
    ")\n",
    "\n",
    "monthly_df.head(10)"
   ]
  },
  {
   "cell_type": "code",
   "execution_count": 13,
   "metadata": {},
   "outputs": [
    {
     "data": {
      "text/html": [
       "<div><style>\n",
       ".dataframe > thead > tr,\n",
       ".dataframe > tbody > tr {\n",
       "  text-align: right;\n",
       "  white-space: pre-wrap;\n",
       "}\n",
       "</style>\n",
       "<small>shape: (9, 5)</small><table border=\"1\" class=\"dataframe\"><thead><tr><th>statistic</th><th>month</th><th>imo_count</th><th>vessel_count</th><th>pings_per_vessel</th></tr><tr><td>str</td><td>str</td><td>f64</td><td>f64</td><td>f64</td></tr></thead><tbody><tr><td>&quot;count&quot;</td><td>&quot;22&quot;</td><td>22.0</td><td>22.0</td><td>22.0</td></tr><tr><td>&quot;null_count&quot;</td><td>&quot;0&quot;</td><td>0.0</td><td>0.0</td><td>0.0</td></tr><tr><td>&quot;mean&quot;</td><td>&quot;2015-11-15 21:49:05.454000&quot;</td><td>237.409091</td><td>246.818182</td><td>71902.541558</td></tr><tr><td>&quot;std&quot;</td><td>null</td><td>73.487063</td><td>75.187788</td><td>39790.523814</td></tr><tr><td>&quot;min&quot;</td><td>&quot;2015-01-01&quot;</td><td>140.0</td><td>148.0</td><td>7512.459459</td></tr><tr><td>&quot;25%&quot;</td><td>&quot;2015-06-01&quot;</td><td>168.0</td><td>175.0</td><td>39634.404255</td></tr><tr><td>&quot;50%&quot;</td><td>&quot;2015-12-01&quot;</td><td>235.0</td><td>243.0</td><td>69020.938272</td></tr><tr><td>&quot;75%&quot;</td><td>&quot;2016-05-01&quot;</td><td>297.0</td><td>311.0</td><td>105644.758842</td></tr><tr><td>&quot;max&quot;</td><td>&quot;2016-10-01&quot;</td><td>356.0</td><td>367.0</td><td>138855.389049</td></tr></tbody></table></div>"
      ],
      "text/plain": [
       "shape: (9, 5)\n",
       "┌────────────┬────────────────────────────┬────────────┬──────────────┬──────────────────┐\n",
       "│ statistic  ┆ month                      ┆ imo_count  ┆ vessel_count ┆ pings_per_vessel │\n",
       "│ ---        ┆ ---                        ┆ ---        ┆ ---          ┆ ---              │\n",
       "│ str        ┆ str                        ┆ f64        ┆ f64          ┆ f64              │\n",
       "╞════════════╪════════════════════════════╪════════════╪══════════════╪══════════════════╡\n",
       "│ count      ┆ 22                         ┆ 22.0       ┆ 22.0         ┆ 22.0             │\n",
       "│ null_count ┆ 0                          ┆ 0.0        ┆ 0.0          ┆ 0.0              │\n",
       "│ mean       ┆ 2015-11-15 21:49:05.454000 ┆ 237.409091 ┆ 246.818182   ┆ 71902.541558     │\n",
       "│ std        ┆ null                       ┆ 73.487063  ┆ 75.187788    ┆ 39790.523814     │\n",
       "│ min        ┆ 2015-01-01                 ┆ 140.0      ┆ 148.0        ┆ 7512.459459      │\n",
       "│ 25%        ┆ 2015-06-01                 ┆ 168.0      ┆ 175.0        ┆ 39634.404255     │\n",
       "│ 50%        ┆ 2015-12-01                 ┆ 235.0      ┆ 243.0        ┆ 69020.938272     │\n",
       "│ 75%        ┆ 2016-05-01                 ┆ 297.0      ┆ 311.0        ┆ 105644.758842    │\n",
       "│ max        ┆ 2016-10-01                 ┆ 356.0      ┆ 367.0        ┆ 138855.389049    │\n",
       "└────────────┴────────────────────────────┴────────────┴──────────────┴──────────────────┘"
      ]
     },
     "execution_count": 13,
     "metadata": {},
     "output_type": "execute_result"
    }
   ],
   "source": [
    "monthly_df.describe()"
   ]
  }
 ],
 "metadata": {
  "kernelspec": {
   "display_name": "wsu",
   "language": "python",
   "name": "python3"
  },
  "language_info": {
   "codemirror_mode": {
    "name": "ipython",
    "version": 3
   },
   "file_extension": ".py",
   "mimetype": "text/x-python",
   "name": "python",
   "nbconvert_exporter": "python",
   "pygments_lexer": "ipython3",
   "version": "3.12.0"
  }
 },
 "nbformat": 4,
 "nbformat_minor": 2
}
