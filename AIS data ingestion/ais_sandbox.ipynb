{
 "cells": [
  {
   "cell_type": "code",
   "execution_count": 4,
   "metadata": {},
   "outputs": [],
   "source": [
    "import polars as pl\n",
    "import pandas as pd\n",
    "\n",
    "#enable string cache for polars categoricals\n",
    "pl.enable_string_cache()\n",
    "#display settings\n",
    "pd.set_option('display.max_columns', None)"
   ]
  },
  {
   "cell_type": "code",
   "execution_count": 9,
   "metadata": {},
   "outputs": [],
   "source": [
    "lf = pl.scan_csv('data/AIS_2024_01_22.csv')"
   ]
  },
  {
   "cell_type": "code",
   "execution_count": 10,
   "metadata": {},
   "outputs": [
    {
     "data": {
      "text/html": [
       "<div><style>\n",
       ".dataframe > thead > tr,\n",
       ".dataframe > tbody > tr {\n",
       "  text-align: right;\n",
       "  white-space: pre-wrap;\n",
       "}\n",
       "</style>\n",
       "<small>shape: (9, 18)</small><table border=\"1\" class=\"dataframe\"><thead><tr><th>statistic</th><th>MMSI</th><th>BaseDateTime</th><th>LAT</th><th>LON</th><th>SOG</th><th>COG</th><th>Heading</th><th>VesselName</th><th>IMO</th><th>CallSign</th><th>VesselType</th><th>Status</th><th>Length</th><th>Width</th><th>Draft</th><th>Cargo</th><th>TransceiverClass</th></tr><tr><td>str</td><td>f64</td><td>str</td><td>f64</td><td>f64</td><td>f64</td><td>f64</td><td>f64</td><td>str</td><td>str</td><td>str</td><td>f64</td><td>f64</td><td>f64</td><td>f64</td><td>f64</td><td>f64</td><td>str</td></tr></thead><tbody><tr><td>&quot;count&quot;</td><td>6.961234e6</td><td>&quot;6961234&quot;</td><td>6.961234e6</td><td>6.961234e6</td><td>6.961234e6</td><td>6.961234e6</td><td>6.961234e6</td><td>&quot;6953098&quot;</td><td>&quot;4765942&quot;</td><td>&quot;6226946&quot;</td><td>6.957314e6</td><td>5.199224e6</td><td>6.957308e6</td><td>6.957161e6</td><td>5.20222e6</td><td>5.20222e6</td><td>&quot;6961234&quot;</td></tr><tr><td>&quot;null_count&quot;</td><td>0.0</td><td>&quot;0&quot;</td><td>0.0</td><td>0.0</td><td>0.0</td><td>0.0</td><td>0.0</td><td>&quot;8136&quot;</td><td>&quot;2195292&quot;</td><td>&quot;734288&quot;</td><td>3920.0</td><td>1.76201e6</td><td>3926.0</td><td>4073.0</td><td>1.759014e6</td><td>1.759014e6</td><td>&quot;0&quot;</td></tr><tr><td>&quot;mean&quot;</td><td>3.6810e8</td><td>null</td><td>34.386534</td><td>-94.892806</td><td>1.932612</td><td>218.478542</td><td>350.515317</td><td>null</td><td>null</td><td>null</td><td>46.299905</td><td>4.260237</td><td>63.854184</td><td>13.065313</td><td>3.595301</td><td>51.931545</td><td>null</td></tr><tr><td>&quot;std&quot;</td><td>5.8437e7</td><td>null</td><td>7.717545</td><td>20.974581</td><td>6.215467</td><td>114.33321</td><td>180.505113</td><td>null</td><td>null</td><td>null</td><td>17.233521</td><td>5.449509</td><td>80.610755</td><td>11.441894</td><td>3.272131</td><td>20.868262</td><td>null</td></tr><tr><td>&quot;min&quot;</td><td>0.0</td><td>&quot;2024-01-22T00:00:00&quot;</td><td>0.00508</td><td>-170.83832</td><td>0.0</td><td>0.0</td><td>0.0</td><td>&quot;&amp; YACHT SCARLET&quot;</td><td>&quot;IMO0000000&quot;</td><td>&quot;-&quot;</td><td>0.0</td><td>0.0</td><td>0.0</td><td>0.0</td><td>0.0</td><td>0.0</td><td>&quot;A&quot;</td></tr><tr><td>&quot;25%&quot;</td><td>3.6684268e8</td><td>null</td><td>29.58101</td><td>-117.22941</td><td>0.0</td><td>126.9</td><td>186.0</td><td>null</td><td>null</td><td>null</td><td>31.0</td><td>0.0</td><td>17.0</td><td>6.0</td><td>2.0</td><td>35.0</td><td>null</td></tr><tr><td>&quot;50%&quot;</td><td>3.6746861e8</td><td>null</td><td>30.55486</td><td>-90.76288</td><td>0.0</td><td>238.4</td><td>511.0</td><td>null</td><td>null</td><td>null</td><td>37.0</td><td>0.0</td><td>26.0</td><td>9.0</td><td>3.0</td><td>52.0</td><td>null</td></tr><tr><td>&quot;75%&quot;</td><td>3.6807851e8</td><td>null</td><td>39.97988</td><td>-80.59406</td><td>0.3</td><td>321.7</td><td>511.0</td><td>null</td><td>null</td><td>null</td><td>55.0</td><td>11.0</td><td>74.0</td><td>16.0</td><td>4.5</td><td>60.0</td><td>null</td></tr><tr><td>&quot;max&quot;</td><td>1.0722e9</td><td>&quot;2024-01-22T23:59:59&quot;</td><td>85.8703</td><td>149.60309</td><td>102.3</td><td>360.0</td><td>511.0</td><td>&quot;ZYANA K&quot;</td><td>&quot;IMO999999999&quot;</td><td>&quot;ZZZZZ&quot;</td><td>255.0</td><td>15.0</td><td>489.0</td><td>126.0</td><td>25.5</td><td>255.0</td><td>&quot;B&quot;</td></tr></tbody></table></div>"
      ],
      "text/plain": [
       "shape: (9, 18)\n",
       "┌───────────┬───────────┬───────────┬───────────┬───┬───────────┬───────────┬───────────┬──────────┐\n",
       "│ statistic ┆ MMSI      ┆ BaseDateT ┆ LAT       ┆ … ┆ Width     ┆ Draft     ┆ Cargo     ┆ Transcei │\n",
       "│ ---       ┆ ---       ┆ ime       ┆ ---       ┆   ┆ ---       ┆ ---       ┆ ---       ┆ verClass │\n",
       "│ str       ┆ f64       ┆ ---       ┆ f64       ┆   ┆ f64       ┆ f64       ┆ f64       ┆ ---      │\n",
       "│           ┆           ┆ str       ┆           ┆   ┆           ┆           ┆           ┆ str      │\n",
       "╞═══════════╪═══════════╪═══════════╪═══════════╪═══╪═══════════╪═══════════╪═══════════╪══════════╡\n",
       "│ count     ┆ 6.961234e ┆ 6961234   ┆ 6.961234e ┆ … ┆ 6.957161e ┆ 5.20222e6 ┆ 5.20222e6 ┆ 6961234  │\n",
       "│           ┆ 6         ┆           ┆ 6         ┆   ┆ 6         ┆           ┆           ┆          │\n",
       "│ null_coun ┆ 0.0       ┆ 0         ┆ 0.0       ┆ … ┆ 4073.0    ┆ 1.759014e ┆ 1.759014e ┆ 0        │\n",
       "│ t         ┆           ┆           ┆           ┆   ┆           ┆ 6         ┆ 6         ┆          │\n",
       "│ mean      ┆ 3.6810e8  ┆ null      ┆ 34.386534 ┆ … ┆ 13.065313 ┆ 3.595301  ┆ 51.931545 ┆ null     │\n",
       "│ std       ┆ 5.8437e7  ┆ null      ┆ 7.717545  ┆ … ┆ 11.441894 ┆ 3.272131  ┆ 20.868262 ┆ null     │\n",
       "│ min       ┆ 0.0       ┆ 2024-01-2 ┆ 0.00508   ┆ … ┆ 0.0       ┆ 0.0       ┆ 0.0       ┆ A        │\n",
       "│           ┆           ┆ 2T00:00:0 ┆           ┆   ┆           ┆           ┆           ┆          │\n",
       "│           ┆           ┆ 0         ┆           ┆   ┆           ┆           ┆           ┆          │\n",
       "│ 25%       ┆ 3.6684268 ┆ null      ┆ 29.58101  ┆ … ┆ 6.0       ┆ 2.0       ┆ 35.0      ┆ null     │\n",
       "│           ┆ e8        ┆           ┆           ┆   ┆           ┆           ┆           ┆          │\n",
       "│ 50%       ┆ 3.6746861 ┆ null      ┆ 30.55486  ┆ … ┆ 9.0       ┆ 3.0       ┆ 52.0      ┆ null     │\n",
       "│           ┆ e8        ┆           ┆           ┆   ┆           ┆           ┆           ┆          │\n",
       "│ 75%       ┆ 3.6807851 ┆ null      ┆ 39.97988  ┆ … ┆ 16.0      ┆ 4.5       ┆ 60.0      ┆ null     │\n",
       "│           ┆ e8        ┆           ┆           ┆   ┆           ┆           ┆           ┆          │\n",
       "│ max       ┆ 1.0722e9  ┆ 2024-01-2 ┆ 85.8703   ┆ … ┆ 126.0     ┆ 25.5      ┆ 255.0     ┆ B        │\n",
       "│           ┆           ┆ 2T23:59:5 ┆           ┆   ┆           ┆           ┆           ┆          │\n",
       "│           ┆           ┆ 9         ┆           ┆   ┆           ┆           ┆           ┆          │\n",
       "└───────────┴───────────┴───────────┴───────────┴───┴───────────┴───────────┴───────────┴──────────┘"
      ]
     },
     "execution_count": 10,
     "metadata": {},
     "output_type": "execute_result"
    }
   ],
   "source": [
    "lf.describe()"
   ]
  },
  {
   "cell_type": "code",
   "execution_count": 14,
   "metadata": {},
   "outputs": [
    {
     "name": "stderr",
     "output_type": "stream",
     "text": [
      "/var/folders/dc/sgfd2dls28n4y4v4_jw03ly40000gp/T/ipykernel_24677/3701027225.py:1: PerformanceWarning: Determining the column names of a LazyFrame requires resolving its schema, which is a potentially expensive operation. Use `LazyFrame.collect_schema().names()` to get the column names without this warning.\n",
      "  lf.columns\n"
     ]
    },
    {
     "data": {
      "text/plain": [
       "['MMSI',\n",
       " 'BaseDateTime',\n",
       " 'LAT',\n",
       " 'LON',\n",
       " 'SOG',\n",
       " 'COG',\n",
       " 'Heading',\n",
       " 'VesselName',\n",
       " 'IMO',\n",
       " 'CallSign',\n",
       " 'VesselType',\n",
       " 'Status',\n",
       " 'Length',\n",
       " 'Width',\n",
       " 'Draft',\n",
       " 'Cargo',\n",
       " 'TransceiverClass']"
      ]
     },
     "execution_count": 14,
     "metadata": {},
     "output_type": "execute_result"
    }
   ],
   "source": [
    "lf.columns"
   ]
  },
  {
   "cell_type": "code",
   "execution_count": 13,
   "metadata": {},
   "outputs": [
    {
     "data": {
      "text/html": [
       "<div><style>\n",
       ".dataframe > thead > tr,\n",
       ".dataframe > tbody > tr {\n",
       "  text-align: right;\n",
       "  white-space: pre-wrap;\n",
       "}\n",
       "</style>\n",
       "<small>shape: (9, 17)</small><table border=\"1\" class=\"dataframe\"><thead><tr><th>statistic</th><th>MMSI</th><th>BaseDateTime</th><th>LAT</th><th>LON</th><th>SOG</th><th>COG</th><th>Heading</th><th>VesselName</th><th>IMO</th><th>CallSign</th><th>VesselType</th><th>Status</th><th>Length</th><th>Width</th><th>Draft</th><th>Cargo</th></tr><tr><td>str</td><td>f64</td><td>str</td><td>f64</td><td>f64</td><td>f64</td><td>f64</td><td>f64</td><td>str</td><td>str</td><td>str</td><td>f64</td><td>f64</td><td>f64</td><td>f64</td><td>f64</td><td>f64</td></tr></thead><tbody><tr><td>&quot;count&quot;</td><td>6.855298e6</td><td>&quot;6855298&quot;</td><td>6.855298e6</td><td>6.855298e6</td><td>6.855298e6</td><td>6.855298e6</td><td>6.855298e6</td><td>&quot;6586463&quot;</td><td>&quot;3071459&quot;</td><td>&quot;6122722&quot;</td><td>6.588754e6</td><td>5.687991e6</td><td>6.179552e6</td><td>5.217615e6</td><td>2.341583e6</td><td>3.19224e6</td></tr><tr><td>&quot;null_count&quot;</td><td>0.0</td><td>&quot;0&quot;</td><td>0.0</td><td>0.0</td><td>0.0</td><td>0.0</td><td>0.0</td><td>&quot;268835&quot;</td><td>&quot;3783839&quot;</td><td>&quot;732576&quot;</td><td>266544.0</td><td>1.167307e6</td><td>675746.0</td><td>1.637683e6</td><td>4.513715e6</td><td>3.663058e6</td></tr><tr><td>&quot;mean&quot;</td><td>3.6692e8</td><td>null</td><td>34.892218</td><td>-95.352095</td><td>2.265536</td><td>199.895983</td><td>375.027847</td><td>null</td><td>null</td><td>null</td><td>964.944136</td><td>3.519811</td><td>54.602288</td><td>12.61029</td><td>6.235207</td><td>46.84285</td></tr><tr><td>&quot;std&quot;</td><td>6.0799e7</td><td>null</td><td>8.56799</td><td>22.167637</td><td>5.672033</td><td>108.253716</td><td>174.578308</td><td>null</td><td>null</td><td>null</td><td>219.73536</td><td>5.584189</td><td>68.824887</td><td>9.623365</td><td>4.272336</td><td>23.198886</td></tr><tr><td>&quot;min&quot;</td><td>0.0</td><td>&quot;2016-11-21T00:00:00&quot;</td><td>0.5095</td><td>-178.03955</td><td>0.0</td><td>0.0</td><td>0.0</td><td>&quot;+BRAVA&quot;</td><td>&quot;IMO0000001&quot;</td><td>&quot;0&quot;</td><td>0.0</td><td>0.0</td><td>0.0</td><td>0.0</td><td>-12.6</td><td>0.0</td></tr><tr><td>&quot;25%&quot;</td><td>3.6687468e8</td><td>null</td><td>29.4209</td><td>-97.21233</td><td>0.0</td><td>113.0</td><td>231.0</td><td>null</td><td>null</td><td>null</td><td>1005.0</td><td>0.0</td><td>19.78</td><td>7.3</td><td>3.2</td><td>31.0</td></tr><tr><td>&quot;50%&quot;</td><td>3.6718263e8</td><td>null</td><td>30.3701</td><td>-90.40528</td><td>0.0</td><td>224.9</td><td>511.0</td><td>null</td><td>null</td><td>null</td><td>1019.0</td><td>0.0</td><td>26.0</td><td>9.1</td><td>4.6</td><td>52.0</td></tr><tr><td>&quot;75%&quot;</td><td>3.6758587e8</td><td>null</td><td>40.66295</td><td>-80.54091</td><td>1.7</td><td>284.3</td><td>511.0</td><td>null</td><td>null</td><td>null</td><td>1025.0</td><td>5.0</td><td>44.2</td><td>12.8</td><td>9.5</td><td>60.0</td></tr><tr><td>&quot;max&quot;</td><td>1.0641e9</td><td>&quot;2016-11-21T23:59:59&quot;</td><td>61.24482</td><td>146.19216</td><td>102.3</td><td>409.5</td><td>511.0</td><td>&quot;ZYANA K&quot;</td><td>&quot;IMO987654321&quot;</td><td>&quot;ZR9181&quot;</td><td>1025.0</td><td>15.0</td><td>608.0</td><td>126.0</td><td>25.0</td><td>152.0</td></tr></tbody></table></div>"
      ],
      "text/plain": [
       "shape: (9, 17)\n",
       "┌───────────┬───────────┬───────────┬───────────┬───┬───────────┬───────────┬───────────┬──────────┐\n",
       "│ statistic ┆ MMSI      ┆ BaseDateT ┆ LAT       ┆ … ┆ Length    ┆ Width     ┆ Draft     ┆ Cargo    │\n",
       "│ ---       ┆ ---       ┆ ime       ┆ ---       ┆   ┆ ---       ┆ ---       ┆ ---       ┆ ---      │\n",
       "│ str       ┆ f64       ┆ ---       ┆ f64       ┆   ┆ f64       ┆ f64       ┆ f64       ┆ f64      │\n",
       "│           ┆           ┆ str       ┆           ┆   ┆           ┆           ┆           ┆          │\n",
       "╞═══════════╪═══════════╪═══════════╪═══════════╪═══╪═══════════╪═══════════╪═══════════╪══════════╡\n",
       "│ count     ┆ 6.855298e ┆ 6855298   ┆ 6.855298e ┆ … ┆ 6.179552e ┆ 5.217615e ┆ 2.341583e ┆ 3.19224e │\n",
       "│           ┆ 6         ┆           ┆ 6         ┆   ┆ 6         ┆ 6         ┆ 6         ┆ 6        │\n",
       "│ null_coun ┆ 0.0       ┆ 0         ┆ 0.0       ┆ … ┆ 675746.0  ┆ 1.637683e ┆ 4.513715e ┆ 3.663058 │\n",
       "│ t         ┆           ┆           ┆           ┆   ┆           ┆ 6         ┆ 6         ┆ e6       │\n",
       "│ mean      ┆ 3.6692e8  ┆ null      ┆ 34.892218 ┆ … ┆ 54.602288 ┆ 12.61029  ┆ 6.235207  ┆ 46.84285 │\n",
       "│ std       ┆ 6.0799e7  ┆ null      ┆ 8.56799   ┆ … ┆ 68.824887 ┆ 9.623365  ┆ 4.272336  ┆ 23.19888 │\n",
       "│           ┆           ┆           ┆           ┆   ┆           ┆           ┆           ┆ 6        │\n",
       "│ min       ┆ 0.0       ┆ 2016-11-2 ┆ 0.5095    ┆ … ┆ 0.0       ┆ 0.0       ┆ -12.6     ┆ 0.0      │\n",
       "│           ┆           ┆ 1T00:00:0 ┆           ┆   ┆           ┆           ┆           ┆          │\n",
       "│           ┆           ┆ 0         ┆           ┆   ┆           ┆           ┆           ┆          │\n",
       "│ 25%       ┆ 3.6687468 ┆ null      ┆ 29.4209   ┆ … ┆ 19.78     ┆ 7.3       ┆ 3.2       ┆ 31.0     │\n",
       "│           ┆ e8        ┆           ┆           ┆   ┆           ┆           ┆           ┆          │\n",
       "│ 50%       ┆ 3.6718263 ┆ null      ┆ 30.3701   ┆ … ┆ 26.0      ┆ 9.1       ┆ 4.6       ┆ 52.0     │\n",
       "│           ┆ e8        ┆           ┆           ┆   ┆           ┆           ┆           ┆          │\n",
       "│ 75%       ┆ 3.6758587 ┆ null      ┆ 40.66295  ┆ … ┆ 44.2      ┆ 12.8      ┆ 9.5       ┆ 60.0     │\n",
       "│           ┆ e8        ┆           ┆           ┆   ┆           ┆           ┆           ┆          │\n",
       "│ max       ┆ 1.0641e9  ┆ 2016-11-2 ┆ 61.24482  ┆ … ┆ 608.0     ┆ 126.0     ┆ 25.0      ┆ 152.0    │\n",
       "│           ┆           ┆ 1T23:59:5 ┆           ┆   ┆           ┆           ┆           ┆          │\n",
       "│           ┆           ┆ 9         ┆           ┆   ┆           ┆           ┆           ┆          │\n",
       "└───────────┴───────────┴───────────┴───────────┴───┴───────────┴───────────┴───────────┴──────────┘"
      ]
     },
     "metadata": {},
     "output_type": "display_data"
    },
    {
     "data": {
      "text/plain": [
       "Schema([('MMSI', Int64),\n",
       "        ('BaseDateTime', String),\n",
       "        ('LAT', Float64),\n",
       "        ('LON', Float64),\n",
       "        ('SOG', Float64),\n",
       "        ('COG', Float64),\n",
       "        ('Heading', Float64),\n",
       "        ('VesselName', String),\n",
       "        ('IMO', String),\n",
       "        ('CallSign', String),\n",
       "        ('VesselType', Int64),\n",
       "        ('Status', Int64),\n",
       "        ('Length', Float64),\n",
       "        ('Width', Float64),\n",
       "        ('Draft', Float64),\n",
       "        ('Cargo', Int64)])"
      ]
     },
     "execution_count": 13,
     "metadata": {},
     "output_type": "execute_result"
    }
   ],
   "source": [
    "lf2 = pl.scan_csv('data/AIS_2016_11_21.csv')\n",
    "display(lf2.describe())\n",
    "lf2.collect_schema()"
   ]
  },
  {
   "cell_type": "code",
   "execution_count": 12,
   "metadata": {},
   "outputs": [
    {
     "data": {
      "text/html": [
       "<div><style>\n",
       ".dataframe > thead > tr,\n",
       ".dataframe > tbody > tr {\n",
       "  text-align: right;\n",
       "  white-space: pre-wrap;\n",
       "}\n",
       "</style>\n",
       "<small>shape: (10, 4)</small><table border=\"1\" class=\"dataframe\"><thead><tr><th>month</th><th>imo_count</th><th>vessel_count</th><th>pings_per_vessel</th></tr><tr><td>date</td><td>u32</td><td>u32</td><td>f64</td></tr></thead><tbody><tr><td>2015-01-01</td><td>356</td><td>367</td><td>134487.678474</td></tr><tr><td>2015-02-01</td><td>321</td><td>330</td><td>127603.190909</td></tr><tr><td>2015-03-01</td><td>335</td><td>347</td><td>138855.389049</td></tr><tr><td>2015-04-01</td><td>324</td><td>335</td><td>116121.023881</td></tr><tr><td>2015-05-01</td><td>341</td><td>352</td><td>104569.721591</td></tr><tr><td>2015-06-01</td><td>291</td><td>302</td><td>108484.430464</td></tr><tr><td>2015-07-01</td><td>297</td><td>311</td><td>105644.758842</td></tr><tr><td>2015-08-01</td><td>290</td><td>303</td><td>98590.940594</td></tr><tr><td>2015-09-01</td><td>277</td><td>288</td><td>76900.006944</td></tr><tr><td>2015-10-01</td><td>273</td><td>284</td><td>75017.78169</td></tr></tbody></table></div>"
      ],
      "text/plain": [
       "shape: (10, 4)\n",
       "┌────────────┬───────────┬──────────────┬──────────────────┐\n",
       "│ month      ┆ imo_count ┆ vessel_count ┆ pings_per_vessel │\n",
       "│ ---        ┆ ---       ┆ ---          ┆ ---              │\n",
       "│ date       ┆ u32       ┆ u32          ┆ f64              │\n",
       "╞════════════╪═══════════╪══════════════╪══════════════════╡\n",
       "│ 2015-01-01 ┆ 356       ┆ 367          ┆ 134487.678474    │\n",
       "│ 2015-02-01 ┆ 321       ┆ 330          ┆ 127603.190909    │\n",
       "│ 2015-03-01 ┆ 335       ┆ 347          ┆ 138855.389049    │\n",
       "│ 2015-04-01 ┆ 324       ┆ 335          ┆ 116121.023881    │\n",
       "│ 2015-05-01 ┆ 341       ┆ 352          ┆ 104569.721591    │\n",
       "│ 2015-06-01 ┆ 291       ┆ 302          ┆ 108484.430464    │\n",
       "│ 2015-07-01 ┆ 297       ┆ 311          ┆ 105644.758842    │\n",
       "│ 2015-08-01 ┆ 290       ┆ 303          ┆ 98590.940594     │\n",
       "│ 2015-09-01 ┆ 277       ┆ 288          ┆ 76900.006944     │\n",
       "│ 2015-10-01 ┆ 273       ┆ 284          ┆ 75017.78169      │\n",
       "└────────────┴───────────┴──────────────┴──────────────────┘"
      ]
     },
     "execution_count": 12,
     "metadata": {},
     "output_type": "execute_result"
    }
   ],
   "source": [
    "monthly_df = (\n",
    "    lf\n",
    "    .with_columns(\n",
    "        month = pl.col('time').dt.month_start().dt.date()\n",
    "    )\n",
    "    .group_by('month')\n",
    "    .agg(\n",
    "        imo_count = pl.col('imo').n_unique(),\n",
    "        vessel_count = pl.col('mmsi').n_unique(),\n",
    "        pings_per_vessel = pl.col('mmsi').count()/pl.col('mmsi').n_unique(),\n",
    "\n",
    "    )\n",
    "    .sort('month')\n",
    "    .collect()\n",
    ")\n",
    "\n",
    "monthly_df.head(10)"
   ]
  },
  {
   "cell_type": "code",
   "execution_count": 13,
   "metadata": {},
   "outputs": [
    {
     "data": {
      "text/html": [
       "<div><style>\n",
       ".dataframe > thead > tr,\n",
       ".dataframe > tbody > tr {\n",
       "  text-align: right;\n",
       "  white-space: pre-wrap;\n",
       "}\n",
       "</style>\n",
       "<small>shape: (9, 5)</small><table border=\"1\" class=\"dataframe\"><thead><tr><th>statistic</th><th>month</th><th>imo_count</th><th>vessel_count</th><th>pings_per_vessel</th></tr><tr><td>str</td><td>str</td><td>f64</td><td>f64</td><td>f64</td></tr></thead><tbody><tr><td>&quot;count&quot;</td><td>&quot;22&quot;</td><td>22.0</td><td>22.0</td><td>22.0</td></tr><tr><td>&quot;null_count&quot;</td><td>&quot;0&quot;</td><td>0.0</td><td>0.0</td><td>0.0</td></tr><tr><td>&quot;mean&quot;</td><td>&quot;2015-11-15 21:49:05.454000&quot;</td><td>237.409091</td><td>246.818182</td><td>71902.541558</td></tr><tr><td>&quot;std&quot;</td><td>null</td><td>73.487063</td><td>75.187788</td><td>39790.523814</td></tr><tr><td>&quot;min&quot;</td><td>&quot;2015-01-01&quot;</td><td>140.0</td><td>148.0</td><td>7512.459459</td></tr><tr><td>&quot;25%&quot;</td><td>&quot;2015-06-01&quot;</td><td>168.0</td><td>175.0</td><td>39634.404255</td></tr><tr><td>&quot;50%&quot;</td><td>&quot;2015-12-01&quot;</td><td>235.0</td><td>243.0</td><td>69020.938272</td></tr><tr><td>&quot;75%&quot;</td><td>&quot;2016-05-01&quot;</td><td>297.0</td><td>311.0</td><td>105644.758842</td></tr><tr><td>&quot;max&quot;</td><td>&quot;2016-10-01&quot;</td><td>356.0</td><td>367.0</td><td>138855.389049</td></tr></tbody></table></div>"
      ],
      "text/plain": [
       "shape: (9, 5)\n",
       "┌────────────┬────────────────────────────┬────────────┬──────────────┬──────────────────┐\n",
       "│ statistic  ┆ month                      ┆ imo_count  ┆ vessel_count ┆ pings_per_vessel │\n",
       "│ ---        ┆ ---                        ┆ ---        ┆ ---          ┆ ---              │\n",
       "│ str        ┆ str                        ┆ f64        ┆ f64          ┆ f64              │\n",
       "╞════════════╪════════════════════════════╪════════════╪══════════════╪══════════════════╡\n",
       "│ count      ┆ 22                         ┆ 22.0       ┆ 22.0         ┆ 22.0             │\n",
       "│ null_count ┆ 0                          ┆ 0.0        ┆ 0.0          ┆ 0.0              │\n",
       "│ mean       ┆ 2015-11-15 21:49:05.454000 ┆ 237.409091 ┆ 246.818182   ┆ 71902.541558     │\n",
       "│ std        ┆ null                       ┆ 73.487063  ┆ 75.187788    ┆ 39790.523814     │\n",
       "│ min        ┆ 2015-01-01                 ┆ 140.0      ┆ 148.0        ┆ 7512.459459      │\n",
       "│ 25%        ┆ 2015-06-01                 ┆ 168.0      ┆ 175.0        ┆ 39634.404255     │\n",
       "│ 50%        ┆ 2015-12-01                 ┆ 235.0      ┆ 243.0        ┆ 69020.938272     │\n",
       "│ 75%        ┆ 2016-05-01                 ┆ 297.0      ┆ 311.0        ┆ 105644.758842    │\n",
       "│ max        ┆ 2016-10-01                 ┆ 356.0      ┆ 367.0        ┆ 138855.389049    │\n",
       "└────────────┴────────────────────────────┴────────────┴──────────────┴──────────────────┘"
      ]
     },
     "execution_count": 13,
     "metadata": {},
     "output_type": "execute_result"
    }
   ],
   "source": [
    "monthly_df.describe()"
   ]
  }
 ],
 "metadata": {
  "kernelspec": {
   "display_name": "wsu",
   "language": "python",
   "name": "python3"
  },
  "language_info": {
   "codemirror_mode": {
    "name": "ipython",
    "version": 3
   },
   "file_extension": ".py",
   "mimetype": "text/x-python",
   "name": "python",
   "nbconvert_exporter": "python",
   "pygments_lexer": "ipython3",
   "version": "3.12.0"
  }
 },
 "nbformat": 4,
 "nbformat_minor": 2
}
