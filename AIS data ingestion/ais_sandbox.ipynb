{
 "cells": [
  {
   "cell_type": "code",
   "execution_count": 76,
   "metadata": {},
   "outputs": [
    {
     "data": {
      "text/plain": [
       "<polars.config.Config at 0x31fb5ee70>"
      ]
     },
     "execution_count": 76,
     "metadata": {},
     "output_type": "execute_result"
    }
   ],
   "source": [
    "import polars as pl\n",
    "import pandas as pd\n",
    "\n",
    "#enable string cache for polars categoricals\n",
    "pl.enable_string_cache()\n",
    "#display settings\n",
    "pd.set_option('display.max_columns', None)\n",
    "pd.set_option('display.max_rows', None)\n",
    "pl.Config(tbl_rows=200)"
   ]
  },
  {
   "cell_type": "code",
   "execution_count": 77,
   "metadata": {},
   "outputs": [],
   "source": [
    "#AIS keys\n",
    "\n",
    "#status codes - from Spire maritime docs\n",
    "status_dict = ({\n",
    "    0:'Under way using its engine',\n",
    "    1:'Anchored',\n",
    "    2:'Not under command',\n",
    "    3:'Has restricted maneuverability',\n",
    "    4:'Ship draught is limiting its movement',\n",
    "    5:'Moored (tied to another object to limit free movement)',\n",
    "    6:'Aground',\n",
    "    7:'Engaged in fishing',\n",
    "    8:'Under way sailing',\n",
    "    9:'(Number reserved for modifying reported status of ships carrying dangerous goods/harmful substances/marine pollutants)',\n",
    "    10:'(Number reserved for modifying reported status of ships carrying dangerous goods/harmful substances/marine pollutants)',\n",
    "    11:'Power-driven vessel towing astern',\n",
    "    12:'Power-driven vessel pushing ahead/towing alongside',\n",
    "    13:'(Reserved for future use)',\n",
    "    14:'Any of the following are active: AIS-SART (Search and Rescue Transmitter), AIS-MOB (Man Overboard), AIS-EPIRB (Emergency Position Indicating Radio Beacon)',\n",
    "    15:'Undefined (default)'\n",
    "})"
   ]
  },
  {
   "cell_type": "code",
   "execution_count": 78,
   "metadata": {},
   "outputs": [
    {
     "data": {
      "text/html": [
       "<div><style>\n",
       ".dataframe > thead > tr,\n",
       ".dataframe > tbody > tr {\n",
       "  text-align: right;\n",
       "  white-space: pre-wrap;\n",
       "}\n",
       "</style>\n",
       "<small>shape: (9, 16)</small><table border=\"1\" class=\"dataframe\"><thead><tr><th>statistic</th><th>mmsi</th><th>time</th><th>lat</th><th>lon</th><th>speed</th><th>course</th><th>heading</th><th>status</th><th>vessel_name</th><th>vessel_type</th><th>imo</th><th>length</th><th>width</th><th>draft</th><th>cargo</th></tr><tr><td>str</td><td>f64</td><td>str</td><td>f64</td><td>f64</td><td>f64</td><td>f64</td><td>f64</td><td>f64</td><td>str</td><td>f64</td><td>f64</td><td>f64</td><td>f64</td><td>f64</td><td>f64</td></tr></thead><tbody><tr><td>&quot;count&quot;</td><td>1.26162658e8</td><td>&quot;126162658&quot;</td><td>1.26162658e8</td><td>1.26162658e8</td><td>1.26162658e8</td><td>1.2585838e8</td><td>1.02435467e8</td><td>1.26159218e8</td><td>&quot;126162658&quot;</td><td>1.26162658e8</td><td>1.19975288e8</td><td>1.26162658e8</td><td>1.26162658e8</td><td>1.26162658e8</td><td>1.26162658e8</td></tr><tr><td>&quot;null_count&quot;</td><td>0.0</td><td>&quot;0&quot;</td><td>0.0</td><td>0.0</td><td>0.0</td><td>304278.0</td><td>2.3727191e7</td><td>3440.0</td><td>&quot;0&quot;</td><td>0.0</td><td>6.18737e6</td><td>0.0</td><td>0.0</td><td>0.0</td><td>0.0</td></tr><tr><td>&quot;mean&quot;</td><td>3.8836e8</td><td>&quot;2015-04-02 08:39:02.192253&quot;</td><td>32.946635</td><td>-93.192081</td><td>5.055873</td><td>183.664976</td><td>181.837463</td><td>1.471392</td><td>null</td><td>74.324693</td><td>1.9909e7</td><td>164.390266</td><td>25.078355</td><td>5.817973</td><td>73.966959</td></tr><tr><td>&quot;std&quot;</td><td>1.3923e8</td><td>null</td><td>9.322893</td><td>24.746577</td><td>6.568342</td><td>103.833621</td><td>104.555711</td><td>2.694564</td><td>null</td><td>5.739697</td><td>7.8016e7</td><td>96.866701</td><td>12.827492</td><td>5.441894</td><td>7.176486</td></tr><tr><td>&quot;min&quot;</td><td>102810.0</td><td>&quot;2015-01-01 00:00:00&quot;</td><td>9.95039</td><td>-179.99931</td><td>0.0</td><td>0.0</td><td>0.0</td><td>0.0</td><td>null</td><td>70.0</td><td>1.0</td><td>0.0</td><td>0.0</td><td>-12.8</td><td>0.0</td></tr><tr><td>&quot;25%&quot;</td><td>3.1600377e8</td><td>&quot;2015-02-06 10:22:34&quot;</td><td>28.60272</td><td>-96.55374</td><td>0.0</td><td>101.0</td><td>91.0</td><td>0.0</td><td>null</td><td>70.0</td><td>9.063665e6</td><td>66.0</td><td>14.0</td><td>3.4</td><td>70.0</td></tr><tr><td>&quot;50%&quot;</td><td>3.6701871e8</td><td>&quot;2015-03-20 22:56:52&quot;</td><td>29.89593</td><td>-90.13038</td><td>0.2</td><td>185.1</td><td>182.0</td><td>0.0</td><td>null</td><td>70.0</td><td>9.266231e6</td><td>178.0</td><td>27.0</td><td>7.0</td><td>70.0</td></tr><tr><td>&quot;75%&quot;</td><td>4.772612e8</td><td>&quot;2015-05-17 10:15:14&quot;</td><td>38.90618</td><td>-79.02804</td><td>11.0</td><td>271.8</td><td>271.0</td><td>1.0</td><td>null</td><td>79.0</td><td>9.36395e6</td><td>228.0</td><td>32.0</td><td>9.3</td><td>79.0</td></tr><tr><td>&quot;max&quot;</td><td>9.42316566e8</td><td>&quot;2015-09-30 23:59:59&quot;</td><td>89.4922</td><td>148.35282</td><td>102.3</td><td>399.0</td><td>510.0</td><td>15.0</td><td>null</td><td>89.0</td><td>9.99000111e8</td><td>655.0</td><td>60.0</td><td>12.7</td><td>89.0</td></tr></tbody></table></div>"
      ],
      "text/plain": [
       "shape: (9, 16)\n",
       "┌───────────┬───────────┬───────────┬───────────┬───┬───────────┬───────────┬───────────┬──────────┐\n",
       "│ statistic ┆ mmsi      ┆ time      ┆ lat       ┆ … ┆ length    ┆ width     ┆ draft     ┆ cargo    │\n",
       "│ ---       ┆ ---       ┆ ---       ┆ ---       ┆   ┆ ---       ┆ ---       ┆ ---       ┆ ---      │\n",
       "│ str       ┆ f64       ┆ str       ┆ f64       ┆   ┆ f64       ┆ f64       ┆ f64       ┆ f64      │\n",
       "╞═══════════╪═══════════╪═══════════╪═══════════╪═══╪═══════════╪═══════════╪═══════════╪══════════╡\n",
       "│ count     ┆ 1.2616265 ┆ 126162658 ┆ 1.2616265 ┆ … ┆ 1.2616265 ┆ 1.2616265 ┆ 1.2616265 ┆ 1.261626 │\n",
       "│           ┆ 8e8       ┆           ┆ 8e8       ┆   ┆ 8e8       ┆ 8e8       ┆ 8e8       ┆ 58e8     │\n",
       "│ null_coun ┆ 0.0       ┆ 0         ┆ 0.0       ┆ … ┆ 0.0       ┆ 0.0       ┆ 0.0       ┆ 0.0      │\n",
       "│ t         ┆           ┆           ┆           ┆   ┆           ┆           ┆           ┆          │\n",
       "│ mean      ┆ 3.8836e8  ┆ 2015-04-0 ┆ 32.946635 ┆ … ┆ 164.39026 ┆ 25.078355 ┆ 5.817973  ┆ 73.96695 │\n",
       "│           ┆           ┆ 2 08:39:0 ┆           ┆   ┆ 6         ┆           ┆           ┆ 9        │\n",
       "│           ┆           ┆ 2.192253  ┆           ┆   ┆           ┆           ┆           ┆          │\n",
       "│ std       ┆ 1.3923e8  ┆ null      ┆ 9.322893  ┆ … ┆ 96.866701 ┆ 12.827492 ┆ 5.441894  ┆ 7.176486 │\n",
       "│ min       ┆ 102810.0  ┆ 2015-01-0 ┆ 9.95039   ┆ … ┆ 0.0       ┆ 0.0       ┆ -12.8     ┆ 0.0      │\n",
       "│           ┆           ┆ 1         ┆           ┆   ┆           ┆           ┆           ┆          │\n",
       "│           ┆           ┆ 00:00:00  ┆           ┆   ┆           ┆           ┆           ┆          │\n",
       "│ 25%       ┆ 3.1600377 ┆ 2015-02-0 ┆ 28.60272  ┆ … ┆ 66.0      ┆ 14.0      ┆ 3.4       ┆ 70.0     │\n",
       "│           ┆ e8        ┆ 6         ┆           ┆   ┆           ┆           ┆           ┆          │\n",
       "│           ┆           ┆ 10:22:34  ┆           ┆   ┆           ┆           ┆           ┆          │\n",
       "│ 50%       ┆ 3.6701871 ┆ 2015-03-2 ┆ 29.89593  ┆ … ┆ 178.0     ┆ 27.0      ┆ 7.0       ┆ 70.0     │\n",
       "│           ┆ e8        ┆ 0         ┆           ┆   ┆           ┆           ┆           ┆          │\n",
       "│           ┆           ┆ 22:56:52  ┆           ┆   ┆           ┆           ┆           ┆          │\n",
       "│ 75%       ┆ 4.772612e ┆ 2015-05-1 ┆ 38.90618  ┆ … ┆ 228.0     ┆ 32.0      ┆ 9.3       ┆ 79.0     │\n",
       "│           ┆ 8         ┆ 7         ┆           ┆   ┆           ┆           ┆           ┆          │\n",
       "│           ┆           ┆ 10:15:14  ┆           ┆   ┆           ┆           ┆           ┆          │\n",
       "│ max       ┆ 9.4231656 ┆ 2015-09-3 ┆ 89.4922   ┆ … ┆ 655.0     ┆ 60.0      ┆ 12.7      ┆ 89.0     │\n",
       "│           ┆ 6e8       ┆ 0         ┆           ┆   ┆           ┆           ┆           ┆          │\n",
       "│           ┆           ┆ 23:59:59  ┆           ┆   ┆           ┆           ┆           ┆          │\n",
       "└───────────┴───────────┴───────────┴───────────┴───┴───────────┴───────────┴───────────┴──────────┘"
      ]
     },
     "execution_count": 78,
     "metadata": {},
     "output_type": "execute_result"
    }
   ],
   "source": [
    "lf = pl.scan_parquet('data/ais_clean/*.parquet')\n",
    "lf.describe()"
   ]
  },
  {
   "cell_type": "code",
   "execution_count": 79,
   "metadata": {},
   "outputs": [
    {
     "data": {
      "text/html": [
       "<div><style>\n",
       ".dataframe > thead > tr,\n",
       ".dataframe > tbody > tr {\n",
       "  text-align: right;\n",
       "  white-space: pre-wrap;\n",
       "}\n",
       "</style>\n",
       "<small>shape: (15, 3)</small><table border=\"1\" class=\"dataframe\"><thead><tr><th>status</th><th>count</th><th>percent</th></tr><tr><td>f64</td><td>u32</td><td>f64</td></tr></thead><tbody><tr><td>null</td><td>0</td><td>0.0</td></tr><tr><td>0.0</td><td>79621301</td><td>0.6311</td></tr><tr><td>1.0</td><td>16428126</td><td>0.130214</td></tr><tr><td>2.0</td><td>1167625</td><td>0.009255</td></tr><tr><td>3.0</td><td>1040813</td><td>0.00825</td></tr><tr><td>4.0</td><td>36066</td><td>0.000286</td></tr><tr><td>5.0</td><td>24395710</td><td>0.193367</td></tr><tr><td>6.0</td><td>17522</td><td>0.000139</td></tr><tr><td>7.0</td><td>869680</td><td>0.006893</td></tr><tr><td>8.0</td><td>471820</td><td>0.00374</td></tr><tr><td>9.0</td><td>60</td><td>4.7558e-7</td></tr><tr><td>10.0</td><td>861</td><td>0.000007</td></tr><tr><td>12.0</td><td>7</td><td>5.5484e-8</td></tr><tr><td>14.0</td><td>1</td><td>7.9263e-9</td></tr><tr><td>15.0</td><td>2109626</td><td>0.016721</td></tr></tbody></table></div>"
      ],
      "text/plain": [
       "shape: (15, 3)\n",
       "┌────────┬──────────┬───────────┐\n",
       "│ status ┆ count    ┆ percent   │\n",
       "│ ---    ┆ ---      ┆ ---       │\n",
       "│ f64    ┆ u32      ┆ f64       │\n",
       "╞════════╪══════════╪═══════════╡\n",
       "│ null   ┆ 0        ┆ 0.0       │\n",
       "│ 0.0    ┆ 79621301 ┆ 0.6311    │\n",
       "│ 1.0    ┆ 16428126 ┆ 0.130214  │\n",
       "│ 2.0    ┆ 1167625  ┆ 0.009255  │\n",
       "│ 3.0    ┆ 1040813  ┆ 0.00825   │\n",
       "│ 4.0    ┆ 36066    ┆ 0.000286  │\n",
       "│ 5.0    ┆ 24395710 ┆ 0.193367  │\n",
       "│ 6.0    ┆ 17522    ┆ 0.000139  │\n",
       "│ 7.0    ┆ 869680   ┆ 0.006893  │\n",
       "│ 8.0    ┆ 471820   ┆ 0.00374   │\n",
       "│ 9.0    ┆ 60       ┆ 4.7558e-7 │\n",
       "│ 10.0   ┆ 861      ┆ 0.000007  │\n",
       "│ 12.0   ┆ 7        ┆ 5.5484e-8 │\n",
       "│ 14.0   ┆ 1        ┆ 7.9263e-9 │\n",
       "│ 15.0   ┆ 2109626  ┆ 0.016721  │\n",
       "└────────┴──────────┴───────────┘"
      ]
     },
     "execution_count": 79,
     "metadata": {},
     "output_type": "execute_result"
    }
   ],
   "source": [
    "status = (\n",
    "    lf.group_by('status')\n",
    "    .agg(\n",
    "        count = pl.col('status').count(),\n",
    "        percent = pl.col('status').count()/lf.select(pl.len()).collect().item()\n",
    "    )\n",
    "    .collect()\n",
    ")\n",
    "status.sort('status')"
   ]
  },
  {
   "cell_type": "code",
   "execution_count": 81,
   "metadata": {},
   "outputs": [
    {
     "data": {
      "text/html": [
       "<div><style>\n",
       ".dataframe > thead > tr,\n",
       ".dataframe > tbody > tr {\n",
       "  text-align: right;\n",
       "  white-space: pre-wrap;\n",
       "}\n",
       "</style>\n",
       "<small>shape: (9, 5)</small><table border=\"1\" class=\"dataframe\"><thead><tr><th>month</th><th>imo_count</th><th>vessel_count</th><th>pings_count</th><th>pings_per_vessel</th></tr><tr><td>date</td><td>u32</td><td>u32</td><td>u32</td><td>f64</td></tr></thead><tbody><tr><td>2015-01-01</td><td>500</td><td>511</td><td>27377631</td><td>53576.577299</td></tr><tr><td>2015-02-01</td><td>451</td><td>460</td><td>21271144</td><td>46241.617391</td></tr><tr><td>2015-03-01</td><td>460</td><td>473</td><td>22283009</td><td>47109.955603</td></tr><tr><td>2015-04-01</td><td>442</td><td>454</td><td>16347708</td><td>36008.167401</td></tr><tr><td>2015-05-01</td><td>455</td><td>467</td><td>13633050</td><td>29192.826552</td></tr><tr><td>2015-06-01</td><td>399</td><td>411</td><td>10285592</td><td>25025.77129</td></tr><tr><td>2015-07-01</td><td>401</td><td>416</td><td>7796229</td><td>18740.935096</td></tr><tr><td>2015-08-01</td><td>380</td><td>394</td><td>5098984</td><td>12941.583756</td></tr><tr><td>2015-09-01</td><td>369</td><td>381</td><td>2069311</td><td>5431.262467</td></tr></tbody></table></div>"
      ],
      "text/plain": [
       "shape: (9, 5)\n",
       "┌────────────┬───────────┬──────────────┬─────────────┬──────────────────┐\n",
       "│ month      ┆ imo_count ┆ vessel_count ┆ pings_count ┆ pings_per_vessel │\n",
       "│ ---        ┆ ---       ┆ ---          ┆ ---         ┆ ---              │\n",
       "│ date       ┆ u32       ┆ u32          ┆ u32         ┆ f64              │\n",
       "╞════════════╪═══════════╪══════════════╪═════════════╪══════════════════╡\n",
       "│ 2015-01-01 ┆ 500       ┆ 511          ┆ 27377631    ┆ 53576.577299     │\n",
       "│ 2015-02-01 ┆ 451       ┆ 460          ┆ 21271144    ┆ 46241.617391     │\n",
       "│ 2015-03-01 ┆ 460       ┆ 473          ┆ 22283009    ┆ 47109.955603     │\n",
       "│ 2015-04-01 ┆ 442       ┆ 454          ┆ 16347708    ┆ 36008.167401     │\n",
       "│ 2015-05-01 ┆ 455       ┆ 467          ┆ 13633050    ┆ 29192.826552     │\n",
       "│ 2015-06-01 ┆ 399       ┆ 411          ┆ 10285592    ┆ 25025.77129      │\n",
       "│ 2015-07-01 ┆ 401       ┆ 416          ┆ 7796229     ┆ 18740.935096     │\n",
       "│ 2015-08-01 ┆ 380       ┆ 394          ┆ 5098984     ┆ 12941.583756     │\n",
       "│ 2015-09-01 ┆ 369       ┆ 381          ┆ 2069311     ┆ 5431.262467      │\n",
       "└────────────┴───────────┴──────────────┴─────────────┴──────────────────┘"
      ]
     },
     "execution_count": 81,
     "metadata": {},
     "output_type": "execute_result"
    }
   ],
   "source": [
    "monthly_df = (\n",
    "    lf\n",
    "    .with_columns(\n",
    "        month = pl.col('time').dt.month_start().dt.date()\n",
    "    )\n",
    "    .group_by('month')\n",
    "    .agg(\n",
    "        imo_count = pl.col('imo').n_unique(),\n",
    "        vessel_count = pl.col('mmsi').n_unique(),\n",
    "        pings_count = pl.col('mmsi').count()\n",
    "    )\n",
    "    .with_columns(\n",
    "        pings_per_vessel = pl.col('pings_count')/pl.col('vessel_count')\n",
    "    )\n",
    "    .sort('month')\n",
    "    .collect()\n",
    ")\n",
    "\n",
    "monthly_df.head(10)"
   ]
  },
  {
   "cell_type": "code",
   "execution_count": 82,
   "metadata": {},
   "outputs": [
    {
     "data": {
      "text/html": [
       "<div><style>\n",
       ".dataframe > thead > tr,\n",
       ".dataframe > tbody > tr {\n",
       "  text-align: right;\n",
       "  white-space: pre-wrap;\n",
       "}\n",
       "</style>\n",
       "<small>shape: (9, 6)</small><table border=\"1\" class=\"dataframe\"><thead><tr><th>statistic</th><th>month</th><th>imo_count</th><th>vessel_count</th><th>pings_count</th><th>pings_per_vessel</th></tr><tr><td>str</td><td>str</td><td>f64</td><td>f64</td><td>f64</td><td>f64</td></tr></thead><tbody><tr><td>&quot;count&quot;</td><td>&quot;9&quot;</td><td>9.0</td><td>9.0</td><td>9.0</td><td>9.0</td></tr><tr><td>&quot;null_count&quot;</td><td>&quot;0&quot;</td><td>0.0</td><td>0.0</td><td>0.0</td><td>0.0</td></tr><tr><td>&quot;mean&quot;</td><td>&quot;2015-05-01 18:40:00&quot;</td><td>428.555556</td><td>440.777778</td><td>1.4018e7</td><td>30474.299651</td></tr><tr><td>&quot;std&quot;</td><td>null</td><td>43.321793</td><td>42.51993</td><td>8.5142e6</td><td>16557.636452</td></tr><tr><td>&quot;min&quot;</td><td>&quot;2015-01-01&quot;</td><td>369.0</td><td>381.0</td><td>2.069311e6</td><td>5431.262467</td></tr><tr><td>&quot;25%&quot;</td><td>&quot;2015-03-01&quot;</td><td>399.0</td><td>411.0</td><td>7.796229e6</td><td>18740.935096</td></tr><tr><td>&quot;50%&quot;</td><td>&quot;2015-05-01&quot;</td><td>442.0</td><td>454.0</td><td>1.363305e7</td><td>29192.826552</td></tr><tr><td>&quot;75%&quot;</td><td>&quot;2015-07-01&quot;</td><td>455.0</td><td>467.0</td><td>2.1271144e7</td><td>46241.617391</td></tr><tr><td>&quot;max&quot;</td><td>&quot;2015-09-01&quot;</td><td>500.0</td><td>511.0</td><td>2.7377631e7</td><td>53576.577299</td></tr></tbody></table></div>"
      ],
      "text/plain": [
       "shape: (9, 6)\n",
       "┌────────────┬─────────────────────┬────────────┬──────────────┬─────────────┬──────────────────┐\n",
       "│ statistic  ┆ month               ┆ imo_count  ┆ vessel_count ┆ pings_count ┆ pings_per_vessel │\n",
       "│ ---        ┆ ---                 ┆ ---        ┆ ---          ┆ ---         ┆ ---              │\n",
       "│ str        ┆ str                 ┆ f64        ┆ f64          ┆ f64         ┆ f64              │\n",
       "╞════════════╪═════════════════════╪════════════╪══════════════╪═════════════╪══════════════════╡\n",
       "│ count      ┆ 9                   ┆ 9.0        ┆ 9.0          ┆ 9.0         ┆ 9.0              │\n",
       "│ null_count ┆ 0                   ┆ 0.0        ┆ 0.0          ┆ 0.0         ┆ 0.0              │\n",
       "│ mean       ┆ 2015-05-01 18:40:00 ┆ 428.555556 ┆ 440.777778   ┆ 1.4018e7    ┆ 30474.299651     │\n",
       "│ std        ┆ null                ┆ 43.321793  ┆ 42.51993     ┆ 8.5142e6    ┆ 16557.636452     │\n",
       "│ min        ┆ 2015-01-01          ┆ 369.0      ┆ 381.0        ┆ 2.069311e6  ┆ 5431.262467      │\n",
       "│ 25%        ┆ 2015-03-01          ┆ 399.0      ┆ 411.0        ┆ 7.796229e6  ┆ 18740.935096     │\n",
       "│ 50%        ┆ 2015-05-01          ┆ 442.0      ┆ 454.0        ┆ 1.363305e7  ┆ 29192.826552     │\n",
       "│ 75%        ┆ 2015-07-01          ┆ 455.0      ┆ 467.0        ┆ 2.1271144e7 ┆ 46241.617391     │\n",
       "│ max        ┆ 2015-09-01          ┆ 500.0      ┆ 511.0        ┆ 2.7377631e7 ┆ 53576.577299     │\n",
       "└────────────┴─────────────────────┴────────────┴──────────────┴─────────────┴──────────────────┘"
      ]
     },
     "execution_count": 82,
     "metadata": {},
     "output_type": "execute_result"
    }
   ],
   "source": [
    "monthly_df.describe()"
   ]
  },
  {
   "cell_type": "markdown",
   "metadata": {},
   "source": [
    "Identify changes in status for each vessel and drop other observations"
   ]
  },
  {
   "cell_type": "code",
   "execution_count": 92,
   "metadata": {},
   "outputs": [],
   "source": [
    "status_df = (\n",
    "    lf\n",
    "    #drop smaller vessels\n",
    "    .filter(pl.col('length')>100)\n",
    "    #select cols of interest\n",
    "    .select('mmsi', 'imo', 'time', 'status')\n",
    "    #sort by vessel and time\n",
    "    .sort(['mmsi', 'time'])\n",
    "    #indicate whether status is the same as previous row (Fill value needed to avoid status 0 evaluating as equal to false)\n",
    "    .with_columns(\n",
    "        status_change = (\n",
    "            pl.col('status').ne(pl.col('status').shift(fill_value=20))\n",
    "            .over('mmsi')\n",
    "        )\n",
    "    )\n",
    "    #keep only new status pings\n",
    "    .filter(pl.col('status_change')==True)\n",
    "    #drop change col\n",
    "    .drop('status_change')\n",
    "    .collect()\n",
    ")"
   ]
  },
  {
   "cell_type": "code",
   "execution_count": 93,
   "metadata": {},
   "outputs": [
    {
     "data": {
      "text/html": [
       "<div><style>\n",
       ".dataframe > thead > tr,\n",
       ".dataframe > tbody > tr {\n",
       "  text-align: right;\n",
       "  white-space: pre-wrap;\n",
       "}\n",
       "</style>\n",
       "<small>shape: (100, 4)</small><table border=\"1\" class=\"dataframe\"><thead><tr><th>mmsi</th><th>imo</th><th>time</th><th>status</th></tr><tr><td>i64</td><td>i64</td><td>datetime[μs]</td><td>f64</td></tr></thead><tbody><tr><td>102810</td><td>4711</td><td>2015-07-26 02:13:42</td><td>0.0</td></tr><tr><td>30474600</td><td>9291975</td><td>2015-02-15 19:28:50</td><td>0.0</td></tr><tr><td>30474600</td><td>9291975</td><td>2015-02-16 13:10:16</td><td>1.0</td></tr><tr><td>30474600</td><td>9291975</td><td>2015-02-16 21:44:44</td><td>0.0</td></tr><tr><td>30474600</td><td>9291975</td><td>2015-02-17 05:18:24</td><td>5.0</td></tr><tr><td>30474600</td><td>9291975</td><td>2015-02-19 06:55:37</td><td>0.0</td></tr><tr><td>30474600</td><td>9291975</td><td>2015-02-20 02:21:10</td><td>5.0</td></tr><tr><td>30474600</td><td>9291975</td><td>2015-02-22 05:55:04</td><td>0.0</td></tr><tr><td>30474600</td><td>9291975</td><td>2015-02-24 02:43:45</td><td>1.0</td></tr><tr><td>30474600</td><td>9291975</td><td>2015-02-25 00:33:36</td><td>0.0</td></tr><tr><td>30474600</td><td>9291975</td><td>2015-02-25 04:49:05</td><td>5.0</td></tr><tr><td>30474600</td><td>9291975</td><td>2015-03-01 21:26:07</td><td>1.0</td></tr><tr><td>31600169</td><td>682199</td><td>2015-01-03 01:48:41</td><td>5.0</td></tr><tr><td>31600169</td><td>682199</td><td>2015-01-03 13:34:46</td><td>0.0</td></tr><tr><td>63609091</td><td>9215828</td><td>2015-01-20 14:19:54</td><td>0.0</td></tr><tr><td>205567000</td><td>9317559</td><td>2015-05-04 15:08:07</td><td>0.0</td></tr><tr><td>205567000</td><td>9317559</td><td>2015-05-08 18:12:42</td><td>5.0</td></tr><tr><td>205567000</td><td>9317559</td><td>2015-05-14 22:32:14</td><td>0.0</td></tr><tr><td>205567000</td><td>9317559</td><td>2015-06-02 13:47:54</td><td>5.0</td></tr><tr><td>205567000</td><td>9317559</td><td>2015-06-04 14:51:33</td><td>0.0</td></tr><tr><td>205567000</td><td>9317559</td><td>2015-06-25 03:44:05</td><td>5.0</td></tr><tr><td>205567000</td><td>9317559</td><td>2015-06-27 16:46:12</td><td>0.0</td></tr><tr><td>205567000</td><td>9317559</td><td>2015-07-26 05:28:36</td><td>1.0</td></tr><tr><td>205567000</td><td>9317559</td><td>2015-07-29 06:35:41</td><td>5.0</td></tr><tr><td>205567000</td><td>9317559</td><td>2015-08-01 21:22:56</td><td>0.0</td></tr><tr><td>205571000</td><td>9196656</td><td>2015-06-24 23:03:23</td><td>0.0</td></tr><tr><td>205571000</td><td>9196656</td><td>2015-09-04 11:26:54</td><td>5.0</td></tr><tr><td>205571000</td><td>9196656</td><td>2015-09-05 21:17:10</td><td>0.0</td></tr><tr><td>205571000</td><td>9196656</td><td>2015-09-17 15:41:44</td><td>5.0</td></tr><tr><td>205571000</td><td>9196656</td><td>2015-09-21 02:10:04</td><td>0.0</td></tr><tr><td>205571000</td><td>9196656</td><td>2015-09-22 02:44:20</td><td>1.0</td></tr><tr><td>205571000</td><td>9196656</td><td>2015-09-23 10:58:22</td><td>0.0</td></tr><tr><td>205571000</td><td>9196656</td><td>2015-09-26 00:00:09</td><td>5.0</td></tr><tr><td>205571000</td><td>9196656</td><td>2015-09-27 02:08:05</td><td>0.0</td></tr><tr><td>209188000</td><td>9432115</td><td>2015-04-30 02:15:50</td><td>0.0</td></tr><tr><td>209188000</td><td>9432115</td><td>2015-04-30 20:35:09</td><td>5.0</td></tr><tr><td>209188000</td><td>9432115</td><td>2015-05-04 07:02:35</td><td>0.0</td></tr><tr><td>209188000</td><td>9432115</td><td>2015-05-05 16:03:41</td><td>1.0</td></tr><tr><td>209188000</td><td>9432115</td><td>2015-05-05 17:57:48</td><td>0.0</td></tr><tr><td>209188000</td><td>9432115</td><td>2015-05-06 05:58:29</td><td>5.0</td></tr><tr><td>209188000</td><td>9432115</td><td>2015-05-07 18:47:36</td><td>0.0</td></tr><tr><td>209188000</td><td>9432115</td><td>2015-05-13 19:11:25</td><td>5.0</td></tr><tr><td>209188000</td><td>9432115</td><td>2015-05-17 16:49:46</td><td>0.0</td></tr><tr><td>209188000</td><td>9432115</td><td>2015-06-10 19:18:53</td><td>5.0</td></tr><tr><td>209188000</td><td>9432115</td><td>2015-09-25 00:32:52</td><td>0.0</td></tr><tr><td>209486000</td><td>9272228</td><td>2015-02-24 17:33:46</td><td>0.0</td></tr><tr><td>209486000</td><td>9272228</td><td>2015-02-25 22:47:50</td><td>5.0</td></tr><tr><td>209486000</td><td>9272228</td><td>2015-02-27 23:03:12</td><td>0.0</td></tr><tr><td>209486000</td><td>9272228</td><td>2015-04-02 03:22:25</td><td>1.0</td></tr><tr><td>209486000</td><td>9272228</td><td>2015-04-02 08:15:52</td><td>0.0</td></tr><tr><td>209486000</td><td>9272228</td><td>2015-04-02 10:06:24</td><td>5.0</td></tr><tr><td>209486000</td><td>9272228</td><td>2015-04-02 23:53:08</td><td>0.0</td></tr><tr><td>209486000</td><td>9272228</td><td>2015-04-03 02:00:15</td><td>5.0</td></tr><tr><td>209486000</td><td>9272228</td><td>2015-04-05 01:36:50</td><td>0.0</td></tr><tr><td>209486000</td><td>9272228</td><td>2015-04-05 20:56:41</td><td>1.0</td></tr><tr><td>209486000</td><td>9272228</td><td>2015-04-06 22:09:24</td><td>0.0</td></tr><tr><td>209486000</td><td>9272228</td><td>2015-04-07 07:33:29</td><td>5.0</td></tr><tr><td>209486000</td><td>9272228</td><td>2015-04-09 19:27:04</td><td>0.0</td></tr><tr><td>209486000</td><td>9272228</td><td>2015-08-08 19:56:24</td><td>1.0</td></tr><tr><td>209486000</td><td>9272228</td><td>2015-08-14 00:19:02</td><td>5.0</td></tr><tr><td>209486000</td><td>9272228</td><td>2015-08-15 15:24:37</td><td>0.0</td></tr><tr><td>209486000</td><td>9272228</td><td>2015-08-18 04:15:28</td><td>5.0</td></tr><tr><td>209486000</td><td>9272228</td><td>2015-08-18 05:06:09</td><td>0.0</td></tr><tr><td>209486000</td><td>9272228</td><td>2015-08-18 06:01:10</td><td>5.0</td></tr><tr><td>209486000</td><td>9272228</td><td>2015-08-20 02:09:45</td><td>0.0</td></tr><tr><td>209486000</td><td>9272228</td><td>2015-08-25 15:08:22</td><td>5.0</td></tr><tr><td>209486000</td><td>9272228</td><td>2015-09-01 21:23:50</td><td>0.0</td></tr><tr><td>209486000</td><td>9272228</td><td>2015-09-02 04:09:28</td><td>1.0</td></tr><tr><td>209486000</td><td>9272228</td><td>2015-09-02 11:41:28</td><td>0.0</td></tr><tr><td>209486000</td><td>9272228</td><td>2015-09-02 14:10:38</td><td>5.0</td></tr><tr><td>209486000</td><td>9272228</td><td>2015-09-02 23:04:57</td><td>0.0</td></tr><tr><td>209486000</td><td>9272228</td><td>2015-09-02 23:29:08</td><td>5.0</td></tr><tr><td>209486000</td><td>9272228</td><td>2015-09-04 20:56:37</td><td>0.0</td></tr><tr><td>209747000</td><td>9421166</td><td>2015-02-09 21:31:20</td><td>0.0</td></tr><tr><td>209747000</td><td>9421166</td><td>2015-02-28 19:52:16</td><td>1.0</td></tr><tr><td>209747000</td><td>9421166</td><td>2015-03-02 18:57:03</td><td>0.0</td></tr><tr><td>209747000</td><td>9421166</td><td>2015-03-03 00:22:05</td><td>5.0</td></tr><tr><td>209747000</td><td>9421166</td><td>2015-03-06 17:34:08</td><td>0.0</td></tr><tr><td>209747000</td><td>9421166</td><td>2015-03-26 17:54:14</td><td>5.0</td></tr><tr><td>209747000</td><td>9421166</td><td>2015-03-30 21:27:38</td><td>0.0</td></tr><tr><td>209747000</td><td>9421166</td><td>2015-03-30 21:47:00</td><td>5.0</td></tr><tr><td>209747000</td><td>9421166</td><td>2015-04-01 20:25:58</td><td>0.0</td></tr><tr><td>209747000</td><td>9421166</td><td>2015-05-05 03:17:43</td><td>5.0</td></tr><tr><td>209747000</td><td>9421166</td><td>2015-05-08 06:28:19</td><td>0.0</td></tr><tr><td>209747000</td><td>9421166</td><td>2015-05-08 06:29:29</td><td>5.0</td></tr><tr><td>209747000</td><td>9421166</td><td>2015-05-08 07:10:01</td><td>0.0</td></tr><tr><td>209747000</td><td>9421166</td><td>2015-05-23 21:59:41</td><td>1.0</td></tr><tr><td>209747000</td><td>9421166</td><td>2015-05-26 06:32:23</td><td>0.0</td></tr><tr><td>209747000</td><td>9421166</td><td>2015-05-26 07:33:03</td><td>5.0</td></tr><tr><td>209747000</td><td>9421166</td><td>2015-05-28 15:40:16</td><td>0.0</td></tr><tr><td>209747000</td><td>9421166</td><td>2015-06-08 00:00:08</td><td>5.0</td></tr><tr><td>209747000</td><td>9421166</td><td>2015-06-08 02:25:53</td><td>0.0</td></tr><tr><td>209747000</td><td>9421166</td><td>2015-06-12 12:38:57</td><td>1.0</td></tr><tr><td>209747000</td><td>9421166</td><td>2015-06-14 00:01:13</td><td>0.0</td></tr><tr><td>209747000</td><td>9421166</td><td>2015-06-22 07:11:28</td><td>1.0</td></tr><tr><td>209747000</td><td>9421166</td><td>2015-06-23 15:22:35</td><td>0.0</td></tr><tr><td>209747000</td><td>9421166</td><td>2015-06-23 16:32:35</td><td>5.0</td></tr><tr><td>209747000</td><td>9421166</td><td>2015-06-26 16:55:39</td><td>0.0</td></tr><tr><td>209747000</td><td>9421166</td><td>2015-07-17 02:38:29</td><td>10.0</td></tr><tr><td>209747000</td><td>9421166</td><td>2015-07-17 02:41:09</td><td>5.0</td></tr></tbody></table></div>"
      ],
      "text/plain": [
       "shape: (100, 4)\n",
       "┌───────────┬─────────┬─────────────────────┬────────┐\n",
       "│ mmsi      ┆ imo     ┆ time                ┆ status │\n",
       "│ ---       ┆ ---     ┆ ---                 ┆ ---    │\n",
       "│ i64       ┆ i64     ┆ datetime[μs]        ┆ f64    │\n",
       "╞═══════════╪═════════╪═════════════════════╪════════╡\n",
       "│ 102810    ┆ 4711    ┆ 2015-07-26 02:13:42 ┆ 0.0    │\n",
       "│ 30474600  ┆ 9291975 ┆ 2015-02-15 19:28:50 ┆ 0.0    │\n",
       "│ 30474600  ┆ 9291975 ┆ 2015-02-16 13:10:16 ┆ 1.0    │\n",
       "│ 30474600  ┆ 9291975 ┆ 2015-02-16 21:44:44 ┆ 0.0    │\n",
       "│ 30474600  ┆ 9291975 ┆ 2015-02-17 05:18:24 ┆ 5.0    │\n",
       "│ 30474600  ┆ 9291975 ┆ 2015-02-19 06:55:37 ┆ 0.0    │\n",
       "│ 30474600  ┆ 9291975 ┆ 2015-02-20 02:21:10 ┆ 5.0    │\n",
       "│ 30474600  ┆ 9291975 ┆ 2015-02-22 05:55:04 ┆ 0.0    │\n",
       "│ 30474600  ┆ 9291975 ┆ 2015-02-24 02:43:45 ┆ 1.0    │\n",
       "│ 30474600  ┆ 9291975 ┆ 2015-02-25 00:33:36 ┆ 0.0    │\n",
       "│ 30474600  ┆ 9291975 ┆ 2015-02-25 04:49:05 ┆ 5.0    │\n",
       "│ 30474600  ┆ 9291975 ┆ 2015-03-01 21:26:07 ┆ 1.0    │\n",
       "│ 31600169  ┆ 682199  ┆ 2015-01-03 01:48:41 ┆ 5.0    │\n",
       "│ 31600169  ┆ 682199  ┆ 2015-01-03 13:34:46 ┆ 0.0    │\n",
       "│ 63609091  ┆ 9215828 ┆ 2015-01-20 14:19:54 ┆ 0.0    │\n",
       "│ 205567000 ┆ 9317559 ┆ 2015-05-04 15:08:07 ┆ 0.0    │\n",
       "│ 205567000 ┆ 9317559 ┆ 2015-05-08 18:12:42 ┆ 5.0    │\n",
       "│ 205567000 ┆ 9317559 ┆ 2015-05-14 22:32:14 ┆ 0.0    │\n",
       "│ 205567000 ┆ 9317559 ┆ 2015-06-02 13:47:54 ┆ 5.0    │\n",
       "│ 205567000 ┆ 9317559 ┆ 2015-06-04 14:51:33 ┆ 0.0    │\n",
       "│ 205567000 ┆ 9317559 ┆ 2015-06-25 03:44:05 ┆ 5.0    │\n",
       "│ 205567000 ┆ 9317559 ┆ 2015-06-27 16:46:12 ┆ 0.0    │\n",
       "│ 205567000 ┆ 9317559 ┆ 2015-07-26 05:28:36 ┆ 1.0    │\n",
       "│ 205567000 ┆ 9317559 ┆ 2015-07-29 06:35:41 ┆ 5.0    │\n",
       "│ 205567000 ┆ 9317559 ┆ 2015-08-01 21:22:56 ┆ 0.0    │\n",
       "│ 205571000 ┆ 9196656 ┆ 2015-06-24 23:03:23 ┆ 0.0    │\n",
       "│ 205571000 ┆ 9196656 ┆ 2015-09-04 11:26:54 ┆ 5.0    │\n",
       "│ 205571000 ┆ 9196656 ┆ 2015-09-05 21:17:10 ┆ 0.0    │\n",
       "│ 205571000 ┆ 9196656 ┆ 2015-09-17 15:41:44 ┆ 5.0    │\n",
       "│ 205571000 ┆ 9196656 ┆ 2015-09-21 02:10:04 ┆ 0.0    │\n",
       "│ 205571000 ┆ 9196656 ┆ 2015-09-22 02:44:20 ┆ 1.0    │\n",
       "│ 205571000 ┆ 9196656 ┆ 2015-09-23 10:58:22 ┆ 0.0    │\n",
       "│ 205571000 ┆ 9196656 ┆ 2015-09-26 00:00:09 ┆ 5.0    │\n",
       "│ 205571000 ┆ 9196656 ┆ 2015-09-27 02:08:05 ┆ 0.0    │\n",
       "│ 209188000 ┆ 9432115 ┆ 2015-04-30 02:15:50 ┆ 0.0    │\n",
       "│ 209188000 ┆ 9432115 ┆ 2015-04-30 20:35:09 ┆ 5.0    │\n",
       "│ 209188000 ┆ 9432115 ┆ 2015-05-04 07:02:35 ┆ 0.0    │\n",
       "│ 209188000 ┆ 9432115 ┆ 2015-05-05 16:03:41 ┆ 1.0    │\n",
       "│ 209188000 ┆ 9432115 ┆ 2015-05-05 17:57:48 ┆ 0.0    │\n",
       "│ 209188000 ┆ 9432115 ┆ 2015-05-06 05:58:29 ┆ 5.0    │\n",
       "│ 209188000 ┆ 9432115 ┆ 2015-05-07 18:47:36 ┆ 0.0    │\n",
       "│ 209188000 ┆ 9432115 ┆ 2015-05-13 19:11:25 ┆ 5.0    │\n",
       "│ 209188000 ┆ 9432115 ┆ 2015-05-17 16:49:46 ┆ 0.0    │\n",
       "│ 209188000 ┆ 9432115 ┆ 2015-06-10 19:18:53 ┆ 5.0    │\n",
       "│ 209188000 ┆ 9432115 ┆ 2015-09-25 00:32:52 ┆ 0.0    │\n",
       "│ 209486000 ┆ 9272228 ┆ 2015-02-24 17:33:46 ┆ 0.0    │\n",
       "│ 209486000 ┆ 9272228 ┆ 2015-02-25 22:47:50 ┆ 5.0    │\n",
       "│ 209486000 ┆ 9272228 ┆ 2015-02-27 23:03:12 ┆ 0.0    │\n",
       "│ 209486000 ┆ 9272228 ┆ 2015-04-02 03:22:25 ┆ 1.0    │\n",
       "│ 209486000 ┆ 9272228 ┆ 2015-04-02 08:15:52 ┆ 0.0    │\n",
       "│ 209486000 ┆ 9272228 ┆ 2015-04-02 10:06:24 ┆ 5.0    │\n",
       "│ 209486000 ┆ 9272228 ┆ 2015-04-02 23:53:08 ┆ 0.0    │\n",
       "│ 209486000 ┆ 9272228 ┆ 2015-04-03 02:00:15 ┆ 5.0    │\n",
       "│ 209486000 ┆ 9272228 ┆ 2015-04-05 01:36:50 ┆ 0.0    │\n",
       "│ 209486000 ┆ 9272228 ┆ 2015-04-05 20:56:41 ┆ 1.0    │\n",
       "│ 209486000 ┆ 9272228 ┆ 2015-04-06 22:09:24 ┆ 0.0    │\n",
       "│ 209486000 ┆ 9272228 ┆ 2015-04-07 07:33:29 ┆ 5.0    │\n",
       "│ 209486000 ┆ 9272228 ┆ 2015-04-09 19:27:04 ┆ 0.0    │\n",
       "│ 209486000 ┆ 9272228 ┆ 2015-08-08 19:56:24 ┆ 1.0    │\n",
       "│ 209486000 ┆ 9272228 ┆ 2015-08-14 00:19:02 ┆ 5.0    │\n",
       "│ 209486000 ┆ 9272228 ┆ 2015-08-15 15:24:37 ┆ 0.0    │\n",
       "│ 209486000 ┆ 9272228 ┆ 2015-08-18 04:15:28 ┆ 5.0    │\n",
       "│ 209486000 ┆ 9272228 ┆ 2015-08-18 05:06:09 ┆ 0.0    │\n",
       "│ 209486000 ┆ 9272228 ┆ 2015-08-18 06:01:10 ┆ 5.0    │\n",
       "│ 209486000 ┆ 9272228 ┆ 2015-08-20 02:09:45 ┆ 0.0    │\n",
       "│ 209486000 ┆ 9272228 ┆ 2015-08-25 15:08:22 ┆ 5.0    │\n",
       "│ 209486000 ┆ 9272228 ┆ 2015-09-01 21:23:50 ┆ 0.0    │\n",
       "│ 209486000 ┆ 9272228 ┆ 2015-09-02 04:09:28 ┆ 1.0    │\n",
       "│ 209486000 ┆ 9272228 ┆ 2015-09-02 11:41:28 ┆ 0.0    │\n",
       "│ 209486000 ┆ 9272228 ┆ 2015-09-02 14:10:38 ┆ 5.0    │\n",
       "│ 209486000 ┆ 9272228 ┆ 2015-09-02 23:04:57 ┆ 0.0    │\n",
       "│ 209486000 ┆ 9272228 ┆ 2015-09-02 23:29:08 ┆ 5.0    │\n",
       "│ 209486000 ┆ 9272228 ┆ 2015-09-04 20:56:37 ┆ 0.0    │\n",
       "│ 209747000 ┆ 9421166 ┆ 2015-02-09 21:31:20 ┆ 0.0    │\n",
       "│ 209747000 ┆ 9421166 ┆ 2015-02-28 19:52:16 ┆ 1.0    │\n",
       "│ 209747000 ┆ 9421166 ┆ 2015-03-02 18:57:03 ┆ 0.0    │\n",
       "│ 209747000 ┆ 9421166 ┆ 2015-03-03 00:22:05 ┆ 5.0    │\n",
       "│ 209747000 ┆ 9421166 ┆ 2015-03-06 17:34:08 ┆ 0.0    │\n",
       "│ 209747000 ┆ 9421166 ┆ 2015-03-26 17:54:14 ┆ 5.0    │\n",
       "│ 209747000 ┆ 9421166 ┆ 2015-03-30 21:27:38 ┆ 0.0    │\n",
       "│ 209747000 ┆ 9421166 ┆ 2015-03-30 21:47:00 ┆ 5.0    │\n",
       "│ 209747000 ┆ 9421166 ┆ 2015-04-01 20:25:58 ┆ 0.0    │\n",
       "│ 209747000 ┆ 9421166 ┆ 2015-05-05 03:17:43 ┆ 5.0    │\n",
       "│ 209747000 ┆ 9421166 ┆ 2015-05-08 06:28:19 ┆ 0.0    │\n",
       "│ 209747000 ┆ 9421166 ┆ 2015-05-08 06:29:29 ┆ 5.0    │\n",
       "│ 209747000 ┆ 9421166 ┆ 2015-05-08 07:10:01 ┆ 0.0    │\n",
       "│ 209747000 ┆ 9421166 ┆ 2015-05-23 21:59:41 ┆ 1.0    │\n",
       "│ 209747000 ┆ 9421166 ┆ 2015-05-26 06:32:23 ┆ 0.0    │\n",
       "│ 209747000 ┆ 9421166 ┆ 2015-05-26 07:33:03 ┆ 5.0    │\n",
       "│ 209747000 ┆ 9421166 ┆ 2015-05-28 15:40:16 ┆ 0.0    │\n",
       "│ 209747000 ┆ 9421166 ┆ 2015-06-08 00:00:08 ┆ 5.0    │\n",
       "│ 209747000 ┆ 9421166 ┆ 2015-06-08 02:25:53 ┆ 0.0    │\n",
       "│ 209747000 ┆ 9421166 ┆ 2015-06-12 12:38:57 ┆ 1.0    │\n",
       "│ 209747000 ┆ 9421166 ┆ 2015-06-14 00:01:13 ┆ 0.0    │\n",
       "│ 209747000 ┆ 9421166 ┆ 2015-06-22 07:11:28 ┆ 1.0    │\n",
       "│ 209747000 ┆ 9421166 ┆ 2015-06-23 15:22:35 ┆ 0.0    │\n",
       "│ 209747000 ┆ 9421166 ┆ 2015-06-23 16:32:35 ┆ 5.0    │\n",
       "│ 209747000 ┆ 9421166 ┆ 2015-06-26 16:55:39 ┆ 0.0    │\n",
       "│ 209747000 ┆ 9421166 ┆ 2015-07-17 02:38:29 ┆ 10.0   │\n",
       "│ 209747000 ┆ 9421166 ┆ 2015-07-17 02:41:09 ┆ 5.0    │\n",
       "└───────────┴─────────┴─────────────────────┴────────┘"
      ]
     },
     "execution_count": 93,
     "metadata": {},
     "output_type": "execute_result"
    }
   ],
   "source": [
    "status_df.head(100)"
   ]
  },
  {
   "cell_type": "code",
   "execution_count": 51,
   "metadata": {},
   "outputs": [
    {
     "data": {
      "text/html": [
       "<div><style>\n",
       ".dataframe > thead > tr,\n",
       ".dataframe > tbody > tr {\n",
       "  text-align: right;\n",
       "  white-space: pre-wrap;\n",
       "}\n",
       "</style>\n",
       "<small>shape: (4, 2)</small><table border=\"1\" class=\"dataframe\"><thead><tr><th>a</th><th>b</th></tr><tr><td>str</td><td>i64</td></tr></thead><tbody><tr><td>&quot;a&quot;</td><td>5</td></tr><tr><td>&quot;a&quot;</td><td>6</td></tr><tr><td>&quot;b&quot;</td><td>7</td></tr><tr><td>&quot;b&quot;</td><td>8</td></tr></tbody></table></div>"
      ],
      "text/plain": [
       "shape: (4, 2)\n",
       "┌─────┬─────┐\n",
       "│ a   ┆ b   │\n",
       "│ --- ┆ --- │\n",
       "│ str ┆ i64 │\n",
       "╞═════╪═════╡\n",
       "│ a   ┆ 5   │\n",
       "│ a   ┆ 6   │\n",
       "│ b   ┆ 7   │\n",
       "│ b   ┆ 8   │\n",
       "└─────┴─────┘"
      ]
     },
     "execution_count": 51,
     "metadata": {},
     "output_type": "execute_result"
    }
   ],
   "source": [
    "df = pl.DataFrame(\n",
    "    {\n",
    "        \"a\": ['a', 'a', 'b', 'b'],\n",
    "        \"b\": [5, 6, 7, 8],\n",
    "    }\n",
    ")\n",
    "df"
   ]
  },
  {
   "cell_type": "code",
   "execution_count": 54,
   "metadata": {},
   "outputs": [
    {
     "data": {
      "text/html": [
       "<div><style>\n",
       ".dataframe > thead > tr,\n",
       ".dataframe > tbody > tr {\n",
       "  text-align: right;\n",
       "  white-space: pre-wrap;\n",
       "}\n",
       "</style>\n",
       "<small>shape: (4, 3)</small><table border=\"1\" class=\"dataframe\"><thead><tr><th>a</th><th>b</th><th>change</th></tr><tr><td>str</td><td>i64</td><td>bool</td></tr></thead><tbody><tr><td>&quot;a&quot;</td><td>5</td><td>null</td></tr><tr><td>&quot;a&quot;</td><td>6</td><td>false</td></tr><tr><td>&quot;b&quot;</td><td>7</td><td>true</td></tr><tr><td>&quot;b&quot;</td><td>8</td><td>false</td></tr></tbody></table></div>"
      ],
      "text/plain": [
       "shape: (4, 3)\n",
       "┌─────┬─────┬────────┐\n",
       "│ a   ┆ b   ┆ change │\n",
       "│ --- ┆ --- ┆ ---    │\n",
       "│ str ┆ i64 ┆ bool   │\n",
       "╞═════╪═════╪════════╡\n",
       "│ a   ┆ 5   ┆ null   │\n",
       "│ a   ┆ 6   ┆ false  │\n",
       "│ b   ┆ 7   ┆ true   │\n",
       "│ b   ┆ 8   ┆ false  │\n",
       "└─────┴─────┴────────┘"
      ]
     },
     "execution_count": 54,
     "metadata": {},
     "output_type": "execute_result"
    }
   ],
   "source": [
    "df2 = (\n",
    "    df\n",
    "    .with_columns(\n",
    "        change = pl.col('a').ne(pl.col('a').shift())\n",
    "    )\n",
    ")\n",
    "df2"
   ]
  }
 ],
 "metadata": {
  "kernelspec": {
   "display_name": "wsu",
   "language": "python",
   "name": "python3"
  },
  "language_info": {
   "codemirror_mode": {
    "name": "ipython",
    "version": 3
   },
   "file_extension": ".py",
   "mimetype": "text/x-python",
   "name": "python",
   "nbconvert_exporter": "python",
   "pygments_lexer": "ipython3",
   "version": "3.12.0"
  }
 },
 "nbformat": 4,
 "nbformat_minor": 2
}
