{
 "cells": [
  {
   "cell_type": "markdown",
   "metadata": {},
   "source": [
    "# Port Performance Index Project - Metrics Development Workbook\n",
    "\n",
    "This workbook develops port performance metrics using the AIS data processed in 'ais_ingest.ipynb' in the 'ais data' folderm, along with port and dock data from the BTS and USACE. "
   ]
  },
  {
   "cell_type": "code",
   "execution_count": 1,
   "metadata": {},
   "outputs": [],
   "source": [
    "#prelims\n",
    "import polars as pl\n",
    "import pandas as pd\n",
    "import geopandas as gpd\n",
    "import time\n",
    "import plotly.express as px\n",
    "import matplotlib.pyplot as plt\n",
    "import contextily as cx\n",
    "import numpy as np\n",
    "import glob\n",
    "\n",
    "#enable string cache for polars categoricals\n",
    "pl.enable_string_cache()\n",
    "#display settings\n",
    "pd.set_option('display.max_columns', None)\n",
    "pd.set_option('display.max_rows', None)\n",
    "pl.Config(tbl_rows=50);"
   ]
  },
  {
   "cell_type": "markdown",
   "metadata": {},
   "source": [
    "\n",
    "## Load and Pre-process Data \n",
    "\n",
    "### AIS Data\n",
    "\n",
    "The vessel locations and status (e.g., \"under way\", \"anchored\", \"moored\") data include all AIS messages; for the purposes of the PPI, we only need to know when a vessel *changes* status, so all other observations are dropped. \n",
    "\n",
    "Early exploratory analysis identified that vessel AIS statuses often change for very short periods of time, likely due to single AIS pings of errant or missing status. For example, a ship at berth for 4 hours may occaisionally ping \"under power\" even though the vessel remained at berth. To correct for this, we drop very short duration statuses where the previous and next statuses match.  "
   ]
  },
  {
   "cell_type": "code",
   "execution_count": 2,
   "metadata": {},
   "outputs": [],
   "source": [
    "#set minimum meaningful status duration (minutes)\n",
    "min_duration = 10"
   ]
  },
  {
   "cell_type": "code",
   "execution_count": 3,
   "metadata": {},
   "outputs": [],
   "source": [
    "#init list of lazyframes\n",
    "lfs = []\n",
    "#process each parquet file individually into lazyframes\n",
    "for file in glob.glob('ais data/data/ais_clean/*.parquet'):\n",
    "    try:\n",
    "        #check file integrity \n",
    "        pl.scan_parquet(file).collect_schema()\n",
    "        #read file\n",
    "        lf = (\n",
    "            pl.scan_parquet(file)\n",
    "            #drop smaller vessels\n",
    "            .filter(pl.col('length')>100)\n",
    "            #sort by vessel and time\n",
    "            .sort(['mmsi', 'time'])\n",
    "            #drop messages from the same vessel with same timestamp\n",
    "            .unique(subset=['mmsi', 'time'])\n",
    "            #indicate whether status is the same as previous row (Fill value needed to avoid status 0 evaluating as equal to false)\n",
    "            .with_columns(\n",
    "                status_change = (\n",
    "                    pl.col('status').ne(pl.col('status').shift(fill_value=20))\n",
    "                    .over('mmsi')\n",
    "                ),\n",
    "                status_previous = pl.col('status').shift().over('mmsi')\n",
    "            )\n",
    "            #keep only new status pings\n",
    "            .filter(pl.col('status_change')==True)\n",
    "            #drop change col\n",
    "            .drop('status_change')\n",
    "        )\n",
    "        #append to list of lazyframes\n",
    "        lfs.append(lf)\n",
    "    except:\n",
    "        print(f'{file} failed')\n",
    "\n",
    "#collect all lazyframes\n",
    "dfs = pl.collect_all(lfs)"
   ]
  },
  {
   "cell_type": "code",
   "execution_count": 4,
   "metadata": {},
   "outputs": [],
   "source": [
    "#create single pandas dataframe\n",
    "ais_gdf = (\n",
    "    #concat dfs\n",
    "    pl.concat(dfs, how='diagonal_relaxed')\n",
    "    #sort by vessel and time\n",
    "    .sort(['mmsi', 'time'])\n",
    "    #create duration column\n",
    "    .with_columns(\n",
    "        status_duration = (pl.col('time').shift(-1) - pl.col('time'))\n",
    "        .over('mmsi').dt.total_minutes()\n",
    "    )\n",
    "    #drop short changes in status between equal statuses\n",
    "    .with_columns(\n",
    "        short = ((pl.col('status').shift()==pl.col('status').shift(-1)) & \n",
    "                (pl.col('status_duration')<min_duration)).over('mmsi')\n",
    "    )\n",
    "    .filter(pl.col('short')!=True)\n",
    "    #drop repeated same-status messsages\n",
    "    .with_columns(\n",
    "        repeat = (pl.col('status')==pl.col('status').shift()).over('mmsi')\n",
    "    )\n",
    "    .filter(pl.col('repeat')!=True)\n",
    "    .drop('repeat')\n",
    "    #recalculate duration column\n",
    "    .with_columns(\n",
    "        status_duration = (pl.col('time').shift(-1) - pl.col('time'))\n",
    "        .over('mmsi').dt.total_minutes()\n",
    "    )\n",
    "    #convert to pandas\n",
    "    .to_pandas()\n",
    ")\n",
    "\n",
    "#convert to geopandas dataframe\n",
    "ais_gdf = (\n",
    "    #convert to geodataframe\n",
    "    gpd.GeoDataFrame(\n",
    "        ais_gdf,\n",
    "        geometry=gpd.points_from_xy(ais_gdf.lon, ais_gdf.lat, crs='EPSG:4326')\n",
    "    )\n",
    "    #convert to WGS84 pseudo-mercator\n",
    "    .to_crs(3857)\n",
    "    #drop old lat lon cols\n",
    "    .drop(['lat', 'lon'], axis=1)\n",
    ")"
   ]
  },
  {
   "cell_type": "markdown",
   "metadata": {},
   "source": [
    "### Port and Dock Data\n",
    "\n",
    "Locations and descriptions for each dock and port come from the BTS and USACE online databases. "
   ]
  },
  {
   "cell_type": "code",
   "execution_count": 16,
   "metadata": {},
   "outputs": [],
   "source": [
    "#load port data\n",
    "ports_gdf = (\n",
    "    #read in shape file downloaded from BTS\n",
    "    gpd.read_file('port data/Principal_Ports/Principal_Ports.shp')\n",
    "    #drop unneeded columns\n",
    "    .drop([\n",
    "        'FID', #randomly assigned table id\n",
    "        'PORT', #unknown numeric ID - not CBP or UN code\n",
    "        'FOREIGN_','EXPORTS', 'IMPORTS', 'DOMESTIC' #breadown of total vol (tons)\n",
    "    ], axis=1)\n",
    ")\n",
    "#set col names to pythonic lowercase\n",
    "ports_gdf.columns = ports_gdf.columns.str.lower()\n",
    "\n",
    "#load dock data\n",
    "docks_gdf = (\n",
    "    #read in shape file downloaded from USACE\n",
    "    gpd.read_file('port data/Dock/Dock.shp')\n",
    "    #drop unneeded columns\n",
    "    .drop([\n",
    "        'FID', #randomly assigned table id\n",
    "        'LONGITUDE', 'LATITUDE', #already coded in 'geometry' \n",
    "        'LOCATION_D', #text description of dock location\n",
    "        'STREET_ADD','ZIPCODE', #street address details\n",
    "        'PSA_NAME', #statistical area name, rarely used\n",
    "        'COUNTY_NAM', 'COUNTY_FIP', 'CONGRESS', 'CONGRESS_F', #county and congress info\n",
    "        'MILE', 'BANK', 'LATITUDE1', 'LONGITUDE1', #redundant locaation data\n",
    "        'OPERATORS', 'OWNERS', #owner info\n",
    "        'PURPOSE', #long-form text description of dock uses\n",
    "        'DOCK', #unknown number (not unique to each row/dock)\n",
    "        'HIGHWAY_NO', 'RAILWAY_NO', 'LOCATION', #redundant location info\n",
    "        'COMMODITIE', 'CONSTRUCTI','MECHANICAL', 'REMARKS', 'VERTICAL_D', \n",
    "        'DEPTH_MIN', 'DEPTH_MAX','BERTHING_L', 'BERTHING_T', 'DECK_HEIGH', \n",
    "        'DECK_HEI_1', #these are rarely used stats on construction\n",
    "        'SERVICE_IN','SERVICE_TE', #rarely used indicators of data entry date \n",
    "    ], axis=1)\n",
    "    #drop duplicates with matching geometries, keeping most common data\n",
    "    .groupby('geometry').agg(pd.Series.mode).reset_index()\n",
    "    #rename cols for clarity\n",
    "    .rename(columns={\n",
    "        'NAV_UNIT_I':'nav_unit_id',\n",
    "        'NAV_UNIT_N':'nav_unit_name',\n",
    "        'FACILITY_T':'facility_type',\n",
    "        'CITY_OR_TO':'city',\n",
    "        'STATE_POST':'state'\n",
    "    })\n",
    ")\n",
    "#set col names to pythonic lowercase\n",
    "docks_gdf.columns = docks_gdf.columns.str.lower()\n",
    "\n",
    "#coerse back to gdf - groupby appears to have kicked it back to pandas core\n",
    "docks_gdf = gpd.GeoDataFrame(docks_gdf, geometry='geometry', crs=3857)"
   ]
  },
  {
   "cell_type": "markdown",
   "metadata": {},
   "source": [
    "### Matching Port and Dock data with AIS Messages\n",
    "\n",
    "First, we match each of the moored (aka \"docked\" aka \"at berth\") AIS messages with the nearest port, then backfill the preceeding AIS status changes with the relevant port info. This allows us to observe which port the vessel was headed towards at any give time. \n",
    "\n",
    "A similar operation is performed with each dock. "
   ]
  },
  {
   "cell_type": "code",
   "execution_count": 17,
   "metadata": {},
   "outputs": [
    {
     "name": "stdout",
     "output_type": "stream",
     "text": [
      "Spatial Join time on 525804 AIS messages took 1.704331874847412 seconds\n"
     ]
    }
   ],
   "source": [
    "start = time.time()\n",
    "stops_gdf = (\n",
    "    #filter to only moorings\n",
    "    ais_gdf[ais_gdf.status == 5]\n",
    "    #join in nearest port to each ais message\n",
    "    .sjoin_nearest(ports_gdf, how='left', exclusive=True)\n",
    "    #drop unneeded cols\n",
    "    .drop(['index_right', 'total'], axis=1)\n",
    "    #rename cols for clarity\n",
    "    .rename({'rank':'port_rank', 'type':'port_type'}, axis=1)\n",
    ")\n",
    "print(f'Spatial Join time on {len(stops_gdf)} AIS messages took {time.time()-start} seconds')\n",
    "\n",
    "#create main df\n",
    "main_gdf = (\n",
    "    #merge stops back into AIS data\n",
    "    ais_gdf.merge(stops_gdf, how='left')\n",
    "    #sort by vessel then time of message\n",
    "    .sort_values(by=['mmsi', 'time'])\n",
    ")\n",
    "#backfill port info across vessels, except geometry (normal pandas syntax not supported for gpd geometry)\n",
    "main_gdf[['port_type','port_name','port_rank']] = (\n",
    "    main_gdf[['mmsi', 'port_type','port_name','port_rank']].groupby('mmsi').bfill()\n",
    ")\n",
    "#merge port geometries into main (NOTE backfill not supported for gpd geometry, hence the separate merge step)\n",
    "main_gdf = main_gdf.merge(ports_gdf[['port_name', 'geometry']], \n",
    "                          on='port_name', how='left', suffixes=[None, '_port'])\n",
    "#compute distance from message loc to port loc\n",
    "main_gdf['port_dist'] = main_gdf['geometry'].distance(main_gdf['geometry_port'])\n",
    "\n",
    "#create year and month cols for convenience\n",
    "main_gdf['year'] = main_gdf['time'].dt.year\n",
    "main_gdf['month'] = main_gdf['time'].dt.strftime('%Y%m')"
   ]
  },
  {
   "cell_type": "code",
   "execution_count": 18,
   "metadata": {},
   "outputs": [
    {
     "name": "stdout",
     "output_type": "stream",
     "text": [
      "Spatial Join time on 525804 AIS messages took 2.3586196899414062 seconds\n"
     ]
    }
   ],
   "source": [
    "start = time.time()\n",
    "dockstops_gdf = (\n",
    "    #filter to only moorings\n",
    "    main_gdf[main_gdf.status == 5]\n",
    "    #join in nearest dock to each ais message\n",
    "    .sjoin_nearest(\n",
    "        #keep only dock id\n",
    "        docks_gdf[['nav_unit_id', 'geometry']], \n",
    "        how='left')\n",
    "    #drop unneeded cols\n",
    "    .drop(['index_right'], axis=1)\n",
    ")\n",
    "print(f'Spatial Join time on {len(dockstops_gdf)} AIS messages took {time.time()-start} seconds')\n",
    "\n",
    "#merge docks match back into main gdf\n",
    "main_gdf = (\n",
    "    #merge stops back into AIS data\n",
    "    main_gdf.merge(dockstops_gdf, how='left')\n",
    "    #sort by vessel then time of message\n",
    "    .sort_values(by=['mmsi', 'time'])\n",
    ")\n"
   ]
  },
  {
   "cell_type": "code",
   "execution_count": 23,
   "metadata": {},
   "outputs": [
    {
     "name": "stdout",
     "output_type": "stream",
     "text": [
      "[<class 'str'>]\n",
      "[<class 'str'> <class 'numpy.ndarray'>]\n"
     ]
    }
   ],
   "source": [
    "print(main_gdf['nav_unit_id'].apply(type).unique())  # Check types in main_gdf\n",
    "print(docks_gdf['nav_unit_id'].apply(type).unique()) "
   ]
  },
  {
   "cell_type": "code",
   "execution_count": 24,
   "metadata": {},
   "outputs": [],
   "source": [
    "\n",
    "#backfill dock info across vessels, except geometry (normal pandas syntax not supported for gpd geometry)\n",
    "main_gdf[['nav_unit_id']] = (\n",
    "    main_gdf[['mmsi', 'nav_unit_id']].groupby('mmsi').bfill()\n",
    ")\n",
    "#coerse nav_unit_ids to string for merge \n",
    "main_gdf['nav_unit_id'] = main_gdf['nav_unit_id'].astype(str)\n",
    "docks_gdf['nav_unit_id'] = docks_gdf['nav_unit_id'].astype(str)\n",
    "#merge dock geometries into main (NOTE backfill not supported for gpd geometry, hence the separate merge step)\n",
    "main_gdf = main_gdf.merge(docks_gdf[['nav_unit_id', 'geometry']], \n",
    "                          on='nav_unit_id', how='left', suffixes=[None, '_dock'])\n",
    "#compute distance from message loc to dock loc\n",
    "main_gdf['dock_dist'] = main_gdf['geometry'].distance(main_gdf['geometry_dock'])\n",
    "\n",
    "#rename nav_unit_id to dock_id\n",
    "main_gdf.rename({'nav_unit_id':'dock_id'}, axis=1, inplace=True)"
   ]
  },
  {
   "cell_type": "markdown",
   "metadata": {},
   "source": [
    "## Performance Metrics and Exploratory Analysis\n",
    "\n",
    "### Stats for most recent 12 months\n",
    "\n",
    "The eventual dashboard will present some statistics and visualizations based on data from the most recently available 12 months. "
   ]
  },
  {
   "cell_type": "code",
   "execution_count": 25,
   "metadata": {},
   "outputs": [],
   "source": [
    "#get most recent twelve month window that appears in the data\n",
    "latest_date = main_gdf.time.max()\n",
    "year_before = latest_date - pd.DateOffset(months=12)\n",
    "\n",
    "#get port and dock lat and long to preserve geometries in polars df\n",
    "main_gdf['port_lat'] = main_gdf.set_geometry('geometry_port').to_crs(\"EPSG:4326\").geometry_port.y\n",
    "main_gdf['port_lon'] = main_gdf.set_geometry('geometry_port').to_crs(\"EPSG:4326\").geometry_port.x\n",
    "main_gdf['dock_lat'] = main_gdf.set_geometry('geometry_dock').to_crs(\"EPSG:4326\").geometry_port.y\n",
    "main_gdf['dock_lon'] = main_gdf.set_geometry('geometry_dock').to_crs(\"EPSG:4326\").geometry_port.x\n",
    "\n",
    "#create ports stats for most recent 12 months\n",
    "portstats_last12months_gdf = (\n",
    "    #convert main gdf to polars\n",
    "    pl.DataFrame(\n",
    "        main_gdf.drop(['geometry', 'geometry_port', 'geometry_dock'], axis=1))\n",
    "    #filter to most recent 12 months\n",
    "    .filter(pl.col('time')>= year_before)\n",
    "    .with_columns(\n",
    "        #get monthly count of vessels\n",
    "        vessels = pl.col('mmsi').n_unique().over('port_name', 'month'),\n",
    "        #get monthly count of vessel docking events - NOTE this may need revision \n",
    "        visits = (\n",
    "            pl.when(pl.col('status')==5)\n",
    "            .then(pl.col('time'))\n",
    "            .otherwise(pl.lit(None))\n",
    "            .n_unique().over('port_name', 'month')\n",
    "        )\n",
    "    )\n",
    "    #aggregate\n",
    "    .group_by('port_name')\n",
    "    .agg(\n",
    "        #keep lat and long\n",
    "        port_lat = pl.col('port_lat').first(),\n",
    "        port_lon = pl.col('port_lon').first(),\n",
    "        #get avg vessels and visits per month\n",
    "        vessels_avg = pl.col('vessels').mean(),\n",
    "        visits_avg = pl.col('visits').mean(),\n",
    "        #get median time at berth in hours\n",
    "        time_at_berth_avg = (\n",
    "            pl.when(pl.col('status')==5)\n",
    "            .then(pl.col('status_duration'))\n",
    "            .otherwise(pl.lit(None))\n",
    "        ).median()/60,\n",
    "        #get median time at anchor in hours\n",
    "        time_at_anchor_avg = (\n",
    "            pl.when(pl.col('status')==1)\n",
    "            .then(pl.col('status_duration'))\n",
    "            .otherwise(pl.lit(None))\n",
    "        ).median()/60\n",
    "    )\n",
    "    #convert to pandas to that geopandas is happy\n",
    "    .to_pandas()\n",
    ")\n",
    "\n",
    "#convert back to geodataframe\n",
    "portstats_last12months_gdf = (\n",
    "    gpd.GeoDataFrame(\n",
    "        portstats_last12months_gdf, \n",
    "        geometry=gpd.points_from_xy(portstats_last12months_gdf.port_lon, \n",
    "                                    portstats_last12months_gdf.port_lat),\n",
    "        crs=3857\n",
    "    )\n",
    ")"
   ]
  },
  {
   "cell_type": "code",
   "execution_count": 39,
   "metadata": {},
   "outputs": [
    {
     "data": {
      "text/html": [
       "<div><style>\n",
       ".dataframe > thead > tr,\n",
       ".dataframe > tbody > tr {\n",
       "  text-align: right;\n",
       "  white-space: pre-wrap;\n",
       "}\n",
       "</style>\n",
       "<small>shape: (5, 32)</small><table border=\"1\" class=\"dataframe\"><thead><tr><th>docking_id</th><th>mmsi</th><th>time</th><th>speed</th><th>course</th><th>heading</th><th>status</th><th>vessel_name</th><th>vessel_type</th><th>imo</th><th>length</th><th>width</th><th>draft</th><th>cargo</th><th>status_previous</th><th>status_duration</th><th>short</th><th>port_type</th><th>port_name</th><th>port_rank</th><th>port_dist</th><th>year</th><th>month</th><th>dock_id</th><th>dock_dist</th><th>port_lat</th><th>port_lon</th><th>dock_lat</th><th>dock_lon</th><th>vessels</th><th>visits</th><th>time_at_anchor</th></tr><tr><td>u32</td><td>str</td><td>datetime[μs]</td><td>f64</td><td>f64</td><td>f64</td><td>f64</td><td>cat</td><td>f64</td><td>f64</td><td>f64</td><td>f64</td><td>f64</td><td>f64</td><td>f64</td><td>f64</td><td>bool</td><td>str</td><td>str</td><td>f64</td><td>f64</td><td>i32</td><td>str</td><td>str</td><td>f64</td><td>f64</td><td>f64</td><td>f64</td><td>f64</td><td>u32</td><td>u32</td><td>f64</td></tr></thead><tbody><tr><td>null</td><td>&quot;205086000&quot;</td><td>2023-08-02 12:38:06</td><td>0.2</td><td>262.1</td><td>173.0</td><td>1.0</td><td>&quot;DORIS&quot;</td><td>80.0</td><td>9.877781e6</td><td>336.0</td><td>60.0</td><td>20.0</td><td>80.0</td><td>0.0</td><td>750.0</td><td>false</td><td>null</td><td>null</td><td>null</td><td>null</td><td>2023</td><td>&quot;202308&quot;</td><td>&quot;nan&quot;</td><td>null</td><td>null</td><td>null</td><td>null</td><td>null</td><td>425</td><td>1</td><td>1.0880998e7</td></tr><tr><td>null</td><td>&quot;205086000&quot;</td><td>2023-08-03 01:08:16</td><td>10.9</td><td>269.1</td><td>267.0</td><td>0.0</td><td>&quot;DORIS&quot;</td><td>80.0</td><td>9.877781e6</td><td>336.0</td><td>60.0</td><td>20.0</td><td>80.0</td><td>1.0</td><td>4226.0</td><td>false</td><td>null</td><td>null</td><td>null</td><td>null</td><td>2023</td><td>&quot;202308&quot;</td><td>&quot;nan&quot;</td><td>null</td><td>null</td><td>null</td><td>null</td><td>null</td><td>425</td><td>1</td><td>1.0880998e7</td></tr><tr><td>null</td><td>&quot;205086000&quot;</td><td>2023-08-05 23:34:18</td><td>2.8</td><td>115.0</td><td>87.0</td><td>3.0</td><td>&quot;DORIS&quot;</td><td>80.0</td><td>9.877781e6</td><td>336.0</td><td>60.0</td><td>20.0</td><td>80.0</td><td>0.0</td><td>1609.0</td><td>false</td><td>null</td><td>null</td><td>null</td><td>null</td><td>2023</td><td>&quot;202308&quot;</td><td>&quot;nan&quot;</td><td>null</td><td>null</td><td>null</td><td>null</td><td>null</td><td>425</td><td>1</td><td>1.0880998e7</td></tr><tr><td>null</td><td>&quot;205086000&quot;</td><td>2023-08-07 02:23:48</td><td>9.6</td><td>327.1</td><td>325.0</td><td>0.0</td><td>&quot;DORIS&quot;</td><td>80.0</td><td>9.877781e6</td><td>336.0</td><td>60.0</td><td>20.0</td><td>80.0</td><td>3.0</td><td>1885.0</td><td>false</td><td>null</td><td>null</td><td>null</td><td>null</td><td>2023</td><td>&quot;202308&quot;</td><td>&quot;nan&quot;</td><td>null</td><td>null</td><td>null</td><td>null</td><td>null</td><td>425</td><td>1</td><td>1.0880998e7</td></tr><tr><td>null</td><td>&quot;205086000&quot;</td><td>2023-08-08 09:49:07</td><td>1.4</td><td>109.5</td><td>129.0</td><td>3.0</td><td>&quot;DORIS&quot;</td><td>80.0</td><td>9.877781e6</td><td>336.0</td><td>60.0</td><td>20.0</td><td>80.0</td><td>0.0</td><td>1722.0</td><td>false</td><td>null</td><td>null</td><td>null</td><td>null</td><td>2023</td><td>&quot;202308&quot;</td><td>&quot;nan&quot;</td><td>null</td><td>null</td><td>null</td><td>null</td><td>null</td><td>425</td><td>1</td><td>1.0880998e7</td></tr></tbody></table></div>"
      ],
      "text/plain": [
       "shape: (5, 32)\n",
       "┌────────────┬───────────┬───────────────┬───────┬───┬──────────┬─────────┬────────┬───────────────┐\n",
       "│ docking_id ┆ mmsi      ┆ time          ┆ speed ┆ … ┆ dock_lon ┆ vessels ┆ visits ┆ time_at_ancho │\n",
       "│ ---        ┆ ---       ┆ ---           ┆ ---   ┆   ┆ ---      ┆ ---     ┆ ---    ┆ r             │\n",
       "│ u32        ┆ str       ┆ datetime[μs]  ┆ f64   ┆   ┆ f64      ┆ u32     ┆ u32    ┆ ---           │\n",
       "│            ┆           ┆               ┆       ┆   ┆          ┆         ┆        ┆ f64           │\n",
       "╞════════════╪═══════════╪═══════════════╪═══════╪═══╪══════════╪═════════╪════════╪═══════════════╡\n",
       "│ null       ┆ 205086000 ┆ 2023-08-02    ┆ 0.2   ┆ … ┆ null     ┆ 425     ┆ 1      ┆ 1.0880998e7   │\n",
       "│            ┆           ┆ 12:38:06      ┆       ┆   ┆          ┆         ┆        ┆               │\n",
       "│ null       ┆ 205086000 ┆ 2023-08-03    ┆ 10.9  ┆ … ┆ null     ┆ 425     ┆ 1      ┆ 1.0880998e7   │\n",
       "│            ┆           ┆ 01:08:16      ┆       ┆   ┆          ┆         ┆        ┆               │\n",
       "│ null       ┆ 205086000 ┆ 2023-08-05    ┆ 2.8   ┆ … ┆ null     ┆ 425     ┆ 1      ┆ 1.0880998e7   │\n",
       "│            ┆           ┆ 23:34:18      ┆       ┆   ┆          ┆         ┆        ┆               │\n",
       "│ null       ┆ 205086000 ┆ 2023-08-07    ┆ 9.6   ┆ … ┆ null     ┆ 425     ┆ 1      ┆ 1.0880998e7   │\n",
       "│            ┆           ┆ 02:23:48      ┆       ┆   ┆          ┆         ┆        ┆               │\n",
       "│ null       ┆ 205086000 ┆ 2023-08-08    ┆ 1.4   ┆ … ┆ null     ┆ 425     ┆ 1      ┆ 1.0880998e7   │\n",
       "│            ┆           ┆ 09:49:07      ┆       ┆   ┆          ┆         ┆        ┆               │\n",
       "└────────────┴───────────┴───────────────┴───────┴───┴──────────┴─────────┴────────┴───────────────┘"
      ]
     },
     "metadata": {},
     "output_type": "display_data"
    },
    {
     "data": {
      "text/html": [
       "<div><style>\n",
       ".dataframe > thead > tr,\n",
       ".dataframe > tbody > tr {\n",
       "  text-align: right;\n",
       "  white-space: pre-wrap;\n",
       "}\n",
       "</style>\n",
       "<small>shape: (9, 33)</small><table border=\"1\" class=\"dataframe\"><thead><tr><th>statistic</th><th>docking_id</th><th>mmsi</th><th>time</th><th>speed</th><th>course</th><th>heading</th><th>status</th><th>vessel_name</th><th>vessel_type</th><th>imo</th><th>length</th><th>width</th><th>draft</th><th>cargo</th><th>status_previous</th><th>status_duration</th><th>short</th><th>port_type</th><th>port_name</th><th>port_rank</th><th>port_dist</th><th>year</th><th>month</th><th>dock_id</th><th>dock_dist</th><th>port_lat</th><th>port_lon</th><th>dock_lat</th><th>dock_lon</th><th>vessels</th><th>visits</th><th>time_at_anchor</th></tr><tr><td>str</td><td>f64</td><td>str</td><td>str</td><td>f64</td><td>f64</td><td>f64</td><td>f64</td><td>str</td><td>f64</td><td>f64</td><td>f64</td><td>f64</td><td>f64</td><td>f64</td><td>f64</td><td>f64</td><td>f64</td><td>str</td><td>str</td><td>f64</td><td>f64</td><td>f64</td><td>str</td><td>str</td><td>f64</td><td>f64</td><td>f64</td><td>f64</td><td>f64</td><td>f64</td><td>f64</td><td>f64</td></tr></thead><tbody><tr><td>&quot;count&quot;</td><td>292497.0</td><td>&quot;311118&quot;</td><td>&quot;311118&quot;</td><td>311118.0</td><td>310261.0</td><td>310131.0</td><td>311118.0</td><td>&quot;311118&quot;</td><td>311118.0</td><td>311104.0</td><td>311118.0</td><td>302625.0</td><td>302437.0</td><td>311067.0</td><td>298255.0</td><td>299702.0</td><td>311118.0</td><td>&quot;292497&quot;</td><td>&quot;292497&quot;</td><td>292497.0</td><td>292497.0</td><td>311118.0</td><td>&quot;311118&quot;</td><td>&quot;311118&quot;</td><td>292497.0</td><td>292497.0</td><td>292497.0</td><td>292497.0</td><td>292497.0</td><td>311118.0</td><td>311118.0</td><td>311118.0</td></tr><tr><td>&quot;null_count&quot;</td><td>18621.0</td><td>&quot;0&quot;</td><td>&quot;0&quot;</td><td>0.0</td><td>857.0</td><td>987.0</td><td>0.0</td><td>&quot;0&quot;</td><td>0.0</td><td>14.0</td><td>0.0</td><td>8493.0</td><td>8681.0</td><td>51.0</td><td>12863.0</td><td>11416.0</td><td>0.0</td><td>&quot;18621&quot;</td><td>&quot;18621&quot;</td><td>18621.0</td><td>18621.0</td><td>0.0</td><td>&quot;0&quot;</td><td>&quot;0&quot;</td><td>18621.0</td><td>18621.0</td><td>18621.0</td><td>18621.0</td><td>18621.0</td><td>0.0</td><td>0.0</td><td>0.0</td></tr><tr><td>&quot;mean&quot;</td><td>154898.949104</td><td>null</td><td>&quot;2024-01-04 16:56:16.954464&quot;</td><td>1.795767</td><td>180.902676</td><td>174.19761</td><td>2.001459</td><td>null</td><td>75.610701</td><td>1.0178e7</td><td>209.385973</td><td>32.751458</td><td>9.711414</td><td>75.533859</td><td>2.179494</td><td>7941.782054</td><td>0.0</td><td>null</td><td>null</td><td>29.81046</td><td>414979.062805</td><td>2023.518597</td><td>null</td><td>null</td><td>356602.188539</td><td>33.657797</td><td>-93.130807</td><td>4.0297e6</td><td>-1.0367e7</td><td>115.888155</td><td>40.016817</td><td>654940.318281</td></tr><tr><td>&quot;std&quot;</td><td>89639.440344</td><td>null</td><td>null</td><td>3.999991</td><td>101.590723</td><td>103.099982</td><td>2.73351</td><td>null</td><td>5.664257</td><td>2.5474e7</td><td>58.325371</td><td>8.871549</td><td>2.904507</td><td>8.294064</td><td>2.74215</td><td>28446.165338</td><td>null</td><td>null</td><td>null</td><td>33.25763</td><td>1.4065e6</td><td>0.499655</td><td>null</td><td>null</td><td>1.0487e6</td><td>7.432899</td><td>16.874669</td><td>1.0311e6</td><td>1.8785e6</td><td>432.7568</td><td>93.269317</td><td>2.5802e6</td></tr><tr><td>&quot;min&quot;</td><td>38.0</td><td>&quot;205086000&quot;</td><td>&quot;2023-06-30 23:58:31&quot;</td><td>0.0</td><td>0.0</td><td>0.0</td><td>0.0</td><td>null</td><td>70.0</td><td>1.013705e6</td><td>101.0</td><td>0.0</td><td>0.0</td><td>0.0</td><td>0.0</td><td>0.0</td><td>0.0</td><td>&quot;C&quot;</td><td>&quot;Albany Port District, NY&quot;</td><td>1.0</td><td>25.133558</td><td>2023.0</td><td>&quot;202306&quot;</td><td>&quot;003E&quot;</td><td>1.119362</td><td>17.75271</td><td>-159.352319</td><td>2.0086e6</td><td>-1.7739e7</td><td>1.0</td><td>1.0</td><td>0.0</td></tr><tr><td>&quot;25%&quot;</td><td>77802.0</td><td>null</td><td>&quot;2023-10-05 02:13:03&quot;</td><td>0.0</td><td>95.9</td><td>88.0</td><td>0.0</td><td>null</td><td>70.0</td><td>9.357896e6</td><td>178.0</td><td>27.0</td><td>7.7</td><td>70.0</td><td>0.0</td><td>289.0</td><td>null</td><td>null</td><td>null</td><td>6.0</td><td>12526.08754</td><td>2023.0</td><td>null</td><td>null</td><td>334.971346</td><td>29.363068</td><td>-97.39789</td><td>3.4219e6</td><td>-1.0842e7</td><td>6.0</td><td>6.0</td><td>0.0</td></tr><tr><td>&quot;50%&quot;</td><td>153603.0</td><td>null</td><td>&quot;2024-01-08 05:12:15&quot;</td><td>0.1</td><td>181.9</td><td>170.0</td><td>1.0</td><td>null</td><td>79.0</td><td>9.525869e6</td><td>190.0</td><td>32.0</td><td>9.4</td><td>79.0</td><td>1.0</td><td>1215.0</td><td>null</td><td>null</td><td>null</td><td>17.0</td><td>70616.341134</td><td>2024.0</td><td>null</td><td>null</td><td>55922.040025</td><td>30.106406</td><td>-93.286839</td><td>3.5172e6</td><td>-1.0385e7</td><td>12.0</td><td>11.0</td><td>1012.0</td></tr><tr><td>&quot;75%&quot;</td><td>232593.0</td><td>null</td><td>&quot;2024-04-05 07:25:33&quot;</td><td>1.0</td><td>267.1</td><td>264.0</td><td>5.0</td><td>null</td><td>80.0</td><td>9.746231e6</td><td>243.0</td><td>36.0</td><td>11.6</td><td>80.0</td><td>5.0</td><td>3384.0</td><td>null</td><td>null</td><td>null</td><td>41.0</td><td>285595.990628</td><td>2024.0</td><td>null</td><td>null</td><td>224632.581673</td><td>39.71589</td><td>-80.181642</td><td>4.8247e6</td><td>-8.9258e6</td><td>31.0</td><td>27.0</td><td>5255.0</td></tr><tr><td>&quot;max&quot;</td><td>311117.0</td><td>&quot;775345000&quot;</td><td>&quot;2024-06-30 23:58:29&quot;</td><td>102.3</td><td>404.0</td><td>459.0</td><td>15.0</td><td>null</td><td>89.0</td><td>9.901843e8</td><td>667.0</td><td>86.0</td><td>25.5</td><td>159.0</td><td>15.0</td><td>517238.0</td><td>0.0</td><td>&quot;L&quot;</td><td>&quot;Yabucoa, PR&quot;</td><td>150.0</td><td>3.3700e7</td><td>2024.0</td><td>&quot;202406&quot;</td><td>&quot;nan&quot;</td><td>3.3738e7</td><td>48.495943</td><td>-64.73242</td><td>6.1898e6</td><td>-7.2060e6</td><td>3122.0</td><td>508.0</td><td>1.0880998e7</td></tr></tbody></table></div>"
      ],
      "text/plain": [
       "shape: (9, 33)\n",
       "┌───────────┬───────────┬───────────┬───────────┬───┬───────────┬───────────┬───────────┬──────────┐\n",
       "│ statistic ┆ docking_i ┆ mmsi      ┆ time      ┆ … ┆ dock_lon  ┆ vessels   ┆ visits    ┆ time_at_ │\n",
       "│ ---       ┆ d         ┆ ---       ┆ ---       ┆   ┆ ---       ┆ ---       ┆ ---       ┆ anchor   │\n",
       "│ str       ┆ ---       ┆ str       ┆ str       ┆   ┆ f64       ┆ f64       ┆ f64       ┆ ---      │\n",
       "│           ┆ f64       ┆           ┆           ┆   ┆           ┆           ┆           ┆ f64      │\n",
       "╞═══════════╪═══════════╪═══════════╪═══════════╪═══╪═══════════╪═══════════╪═══════════╪══════════╡\n",
       "│ count     ┆ 292497.0  ┆ 311118    ┆ 311118    ┆ … ┆ 292497.0  ┆ 311118.0  ┆ 311118.0  ┆ 311118.0 │\n",
       "│ null_coun ┆ 18621.0   ┆ 0         ┆ 0         ┆ … ┆ 18621.0   ┆ 0.0       ┆ 0.0       ┆ 0.0      │\n",
       "│ t         ┆           ┆           ┆           ┆   ┆           ┆           ┆           ┆          │\n",
       "│ mean      ┆ 154898.94 ┆ null      ┆ 2024-01-0 ┆ … ┆ -1.0367e7 ┆ 115.88815 ┆ 40.016817 ┆ 654940.3 │\n",
       "│           ┆ 9104      ┆           ┆ 4 16:56:1 ┆   ┆           ┆ 5         ┆           ┆ 18281    │\n",
       "│           ┆           ┆           ┆ 6.954464  ┆   ┆           ┆           ┆           ┆          │\n",
       "│ std       ┆ 89639.440 ┆ null      ┆ null      ┆ … ┆ 1.8785e6  ┆ 432.7568  ┆ 93.269317 ┆ 2.5802e6 │\n",
       "│           ┆ 344       ┆           ┆           ┆   ┆           ┆           ┆           ┆          │\n",
       "│ min       ┆ 38.0      ┆ 205086000 ┆ 2023-06-3 ┆ … ┆ -1.7739e7 ┆ 1.0       ┆ 1.0       ┆ 0.0      │\n",
       "│           ┆           ┆           ┆ 0         ┆   ┆           ┆           ┆           ┆          │\n",
       "│           ┆           ┆           ┆ 23:58:31  ┆   ┆           ┆           ┆           ┆          │\n",
       "│ 25%       ┆ 77802.0   ┆ null      ┆ 2023-10-0 ┆ … ┆ -1.0842e7 ┆ 6.0       ┆ 6.0       ┆ 0.0      │\n",
       "│           ┆           ┆           ┆ 5         ┆   ┆           ┆           ┆           ┆          │\n",
       "│           ┆           ┆           ┆ 02:13:03  ┆   ┆           ┆           ┆           ┆          │\n",
       "│ 50%       ┆ 153603.0  ┆ null      ┆ 2024-01-0 ┆ … ┆ -1.0385e7 ┆ 12.0      ┆ 11.0      ┆ 1012.0   │\n",
       "│           ┆           ┆           ┆ 8         ┆   ┆           ┆           ┆           ┆          │\n",
       "│           ┆           ┆           ┆ 05:12:15  ┆   ┆           ┆           ┆           ┆          │\n",
       "│ 75%       ┆ 232593.0  ┆ null      ┆ 2024-04-0 ┆ … ┆ -8.9258e6 ┆ 31.0      ┆ 27.0      ┆ 5255.0   │\n",
       "│           ┆           ┆           ┆ 5         ┆   ┆           ┆           ┆           ┆          │\n",
       "│           ┆           ┆           ┆ 07:25:33  ┆   ┆           ┆           ┆           ┆          │\n",
       "│ max       ┆ 311117.0  ┆ 775345000 ┆ 2024-06-3 ┆ … ┆ -7.2060e6 ┆ 3122.0    ┆ 508.0     ┆ 1.088099 │\n",
       "│           ┆           ┆           ┆ 0         ┆   ┆           ┆           ┆           ┆ 8e7      │\n",
       "│           ┆           ┆           ┆ 23:58:29  ┆   ┆           ┆           ┆           ┆          │\n",
       "└───────────┴───────────┴───────────┴───────────┴───┴───────────┴───────────┴───────────┴──────────┘"
      ]
     },
     "execution_count": 39,
     "metadata": {},
     "output_type": "execute_result"
    }
   ],
   "source": [
    "df = (\n",
    "    #convert main gdf to polars\n",
    "    pl.DataFrame(\n",
    "        main_gdf.drop(['geometry', 'geometry_port', 'geometry_dock'], axis=1))\n",
    "    #filter to most recent 12 months\n",
    "    .filter(pl.col('time')>= year_before)\n",
    "    #ensure sorting\n",
    "    .sort(['mmsi', 'time'])\n",
    "    #create row index (for identifying docking events)\n",
    "    .with_row_index('docking_id')\n",
    "    .with_columns(\n",
    "        #get monthly count of vessels\n",
    "        vessels = pl.col('mmsi').n_unique().over('dock_id', 'month'),\n",
    "        #get monthly count of vessel docking events - NOTE this may need revision \n",
    "        visits = (\n",
    "            pl.when(pl.col('status')==5)\n",
    "            .then(pl.col('time'))\n",
    "            .otherwise(pl.lit(None))\n",
    "            .n_unique().over('dock_id', 'month')\n",
    "        ),\n",
    "        #create docking event id\n",
    "        docking_id = (\n",
    "            pl.when(pl.col('status')==5)\n",
    "            .then(pl.col('docking_id'))\n",
    "            .otherwise(pl.lit(None))\n",
    "            .backward_fill().over('mmsi')\n",
    "        )\n",
    "    )\n",
    "    .with_columns(\n",
    "        #sum anchorage time for each docking event\n",
    "        time_at_anchor = (\n",
    "            pl.when(pl.col('status')==1)\n",
    "            .then(pl.col('status_duration'))\n",
    "            .otherwise(pl.lit(None))\n",
    "            .sum().over('docking_id')\n",
    "        )\n",
    "    )\n",
    ")\n",
    "\n",
    "display(df.head())\n",
    "df.describe()"
   ]
  },
  {
   "cell_type": "code",
   "execution_count": 27,
   "metadata": {},
   "outputs": [
    {
     "data": {
      "text/html": [
       "<div>\n",
       "<style scoped>\n",
       "    .dataframe tbody tr th:only-of-type {\n",
       "        vertical-align: middle;\n",
       "    }\n",
       "\n",
       "    .dataframe tbody tr th {\n",
       "        vertical-align: top;\n",
       "    }\n",
       "\n",
       "    .dataframe thead th {\n",
       "        text-align: right;\n",
       "    }\n",
       "</style>\n",
       "<table border=\"1\" class=\"dataframe\">\n",
       "  <thead>\n",
       "    <tr style=\"text-align: right;\">\n",
       "      <th></th>\n",
       "      <th>dock_id</th>\n",
       "      <th>dock_lat</th>\n",
       "      <th>dock_lon</th>\n",
       "      <th>port_name</th>\n",
       "      <th>vessels_avg</th>\n",
       "      <th>visits_avg</th>\n",
       "      <th>time_at_berth_avg</th>\n",
       "      <th>time_at_anchor_avg</th>\n",
       "      <th>geometry</th>\n",
       "    </tr>\n",
       "  </thead>\n",
       "  <tbody>\n",
       "    <tr>\n",
       "      <th>0</th>\n",
       "      <td>0RZK</td>\n",
       "      <td>3.221937e+06</td>\n",
       "      <td>-9.186346e+06</td>\n",
       "      <td>Tampa Port Authority, FL</td>\n",
       "      <td>2.481481</td>\n",
       "      <td>3.111111</td>\n",
       "      <td>133.325000</td>\n",
       "      <td>20.200000</td>\n",
       "      <td>POINT (-9186345.981 3221936.932)</td>\n",
       "    </tr>\n",
       "    <tr>\n",
       "      <th>1</th>\n",
       "      <td>['0SN5' '0SN6']</td>\n",
       "      <td>3.517235e+06</td>\n",
       "      <td>-1.038464e+07</td>\n",
       "      <td>Lake Charles Harbor District, LA</td>\n",
       "      <td>2.071625</td>\n",
       "      <td>43.239669</td>\n",
       "      <td>0.733333</td>\n",
       "      <td>0.850000</td>\n",
       "      <td>POINT (-10384643.415 3517234.688)</td>\n",
       "    </tr>\n",
       "    <tr>\n",
       "      <th>2</th>\n",
       "      <td>0SBB</td>\n",
       "      <td>3.592714e+06</td>\n",
       "      <td>-9.800104e+06</td>\n",
       "      <td>Mobile, AL</td>\n",
       "      <td>3.793651</td>\n",
       "      <td>3.079365</td>\n",
       "      <td>104.283333</td>\n",
       "      <td>73.633333</td>\n",
       "      <td>POINT (-9800104.212 3592714.071)</td>\n",
       "    </tr>\n",
       "    <tr>\n",
       "      <th>3</th>\n",
       "      <td>0RGE</td>\n",
       "      <td>3.992155e+06</td>\n",
       "      <td>-1.316554e+07</td>\n",
       "      <td>Port of Los Angeles, CA</td>\n",
       "      <td>4.662162</td>\n",
       "      <td>4.675676</td>\n",
       "      <td>110.425000</td>\n",
       "      <td>20.500000</td>\n",
       "      <td>POINT (-13165544.558 3992154.584)</td>\n",
       "    </tr>\n",
       "    <tr>\n",
       "      <th>4</th>\n",
       "      <td>0YGY</td>\n",
       "      <td>3.225389e+06</td>\n",
       "      <td>-1.084228e+07</td>\n",
       "      <td>Corpus Christi, TX</td>\n",
       "      <td>4.735294</td>\n",
       "      <td>4.970588</td>\n",
       "      <td>68.583333</td>\n",
       "      <td>46.791667</td>\n",
       "      <td>POINT (-10842283.519 3225388.812)</td>\n",
       "    </tr>\n",
       "  </tbody>\n",
       "</table>\n",
       "</div>"
      ],
      "text/plain": [
       "           dock_id      dock_lat      dock_lon  \\\n",
       "0             0RZK  3.221937e+06 -9.186346e+06   \n",
       "1  ['0SN5' '0SN6']  3.517235e+06 -1.038464e+07   \n",
       "2             0SBB  3.592714e+06 -9.800104e+06   \n",
       "3             0RGE  3.992155e+06 -1.316554e+07   \n",
       "4             0YGY  3.225389e+06 -1.084228e+07   \n",
       "\n",
       "                          port_name  vessels_avg  visits_avg  \\\n",
       "0          Tampa Port Authority, FL     2.481481    3.111111   \n",
       "1  Lake Charles Harbor District, LA     2.071625   43.239669   \n",
       "2                        Mobile, AL     3.793651    3.079365   \n",
       "3           Port of Los Angeles, CA     4.662162    4.675676   \n",
       "4                Corpus Christi, TX     4.735294    4.970588   \n",
       "\n",
       "   time_at_berth_avg  time_at_anchor_avg                           geometry  \n",
       "0         133.325000           20.200000   POINT (-9186345.981 3221936.932)  \n",
       "1           0.733333            0.850000  POINT (-10384643.415 3517234.688)  \n",
       "2         104.283333           73.633333   POINT (-9800104.212 3592714.071)  \n",
       "3         110.425000           20.500000  POINT (-13165544.558 3992154.584)  \n",
       "4          68.583333           46.791667  POINT (-10842283.519 3225388.812)  "
      ]
     },
     "execution_count": 27,
     "metadata": {},
     "output_type": "execute_result"
    }
   ],
   "source": [
    "#create docks stats for most recent 12 months\n",
    "dockstats_last12months_gdf = (\n",
    "    #convert main gdf to polars\n",
    "    pl.DataFrame(\n",
    "        main_gdf.drop(['geometry', 'geometry_port', 'geometry_dock'], axis=1))\n",
    "    #filter to most recent 12 months\n",
    "    .filter(pl.col('time')>= year_before)\n",
    "    #ensure sorting\n",
    "    .sort(['mmsi', 'time'])\n",
    "    #create row index (for identifying docking events)\n",
    "    .with_row_index('docking_id')\n",
    "    .with_columns(\n",
    "        #get monthly count of vessels\n",
    "        vessels = pl.col('mmsi').n_unique().over('dock_id', 'month'),\n",
    "        #get monthly count of vessel docking events - NOTE this may need revision \n",
    "        visits = (\n",
    "            pl.when(pl.col('status')==5)\n",
    "            .then(pl.col('time'))\n",
    "            .otherwise(pl.lit(None))\n",
    "            .n_unique().over('dock_id', 'month')\n",
    "        ),\n",
    "        #create docking event id\n",
    "        docking_id = (\n",
    "            pl.when(pl.col('status')==5)\n",
    "            .then(pl.col('docking_id'))\n",
    "            .otherwise(pl.lit(None))\n",
    "            .backward_fill().over('mmsi', 'dock_id')\n",
    "        )\n",
    "    )\n",
    "    .with_columns(\n",
    "        #sum anchorage time for each docking event\n",
    "        time_at_anchor = (\n",
    "            pl.when(pl.col('status')==1)\n",
    "            .then(pl.col('status_duration'))\n",
    "            .otherwise(pl.lit(None))\n",
    "            .sum().over('mmsi', 'docking_id')\n",
    "        )\n",
    "    )\n",
    "    #aggregate\n",
    "    .group_by('dock_id')\n",
    "    .agg(\n",
    "        #keep port name, dock lat and long\n",
    "        dock_lat = pl.col('dock_lat').first(),\n",
    "        dock_lon = pl.col('dock_lon').first(),\n",
    "        port_name = pl.col('port_name').mode().first(),\n",
    "        #get avg vessels and visits per month\n",
    "        vessels_avg = pl.col('vessels').mean(),\n",
    "        visits_avg = pl.col('visits').mean(),\n",
    "        #get median time at berth in hours\n",
    "        time_at_berth_avg = (\n",
    "            pl.when(pl.col('status')==5)\n",
    "            .then(pl.col('status_duration'))\n",
    "            .otherwise(pl.lit(None))\n",
    "        ).median()/60,\n",
    "        #get median time at anchor in hours\n",
    "        time_at_anchor_avg = (\n",
    "            pl.when(pl.col('status')==1)\n",
    "            .then(pl.col('status_duration'))\n",
    "            .otherwise(pl.lit(None))\n",
    "        ).median()/60\n",
    "    )\n",
    "    #convert to pandas to that geopandas is happy\n",
    "    .to_pandas()\n",
    ")\n",
    "\n",
    "#convert back to geodataframe\n",
    "dockstats_last12months_gdf = (\n",
    "    gpd.GeoDataFrame(\n",
    "        dockstats_last12months_gdf, \n",
    "        geometry=gpd.points_from_xy(dockstats_last12months_gdf.dock_lon, \n",
    "                                    dockstats_last12months_gdf.dock_lat),\n",
    "        crs=3857\n",
    "    )\n",
    ")\n",
    "\n",
    "dockstats_last12months_gdf.head()"
   ]
  },
  {
   "cell_type": "markdown",
   "metadata": {},
   "source": [
    "### Monthly Stats"
   ]
  },
  {
   "cell_type": "code",
   "execution_count": 30,
   "metadata": {},
   "outputs": [
    {
     "name": "stdout",
     "output_type": "stream",
     "text": [
      "<class 'geopandas.geodataframe.GeoDataFrame'>\n",
      "RangeIndex: 1782198 entries, 0 to 1782197\n",
      "Data columns (total 31 columns):\n",
      " #   Column           Dtype         \n",
      "---  ------           -----         \n",
      " 0   mmsi             object        \n",
      " 1   time             datetime64[us]\n",
      " 2   speed            float64       \n",
      " 3   course           float64       \n",
      " 4   heading          float64       \n",
      " 5   status           float64       \n",
      " 6   vessel_name      category      \n",
      " 7   vessel_type      float64       \n",
      " 8   imo              float64       \n",
      " 9   length           float64       \n",
      " 10  width            float64       \n",
      " 11  draft            float64       \n",
      " 12  cargo            float64       \n",
      " 13  status_previous  float64       \n",
      " 14  status_duration  float64       \n",
      " 15  short            bool          \n",
      " 16  geometry         geometry      \n",
      " 17  port_type        object        \n",
      " 18  port_name        object        \n",
      " 19  port_rank        float64       \n",
      " 20  geometry_port    geometry      \n",
      " 21  port_dist        float64       \n",
      " 22  year             int32         \n",
      " 23  month            object        \n",
      " 24  dock_id          object        \n",
      " 25  geometry_dock    geometry      \n",
      " 26  dock_dist        float64       \n",
      " 27  port_lat         float64       \n",
      " 28  port_lon         float64       \n",
      " 29  dock_lat         float64       \n",
      " 30  dock_lon         float64       \n",
      "dtypes: bool(1), category(1), datetime64[us](1), float64(19), geometry(3), int32(1), object(5)\n",
      "memory usage: 393.3+ MB\n"
     ]
    }
   ],
   "source": [
    "main_gdf.info()"
   ]
  },
  {
   "cell_type": "code",
   "execution_count": 35,
   "metadata": {},
   "outputs": [],
   "source": [
    "monthly_df = (\n",
    "    #convert to polars\n",
    "    pl.DataFrame(main_gdf.drop(['geometry', 'geometry_port', 'geometry_dock'], axis=1))\n",
    "    #agg over ports and months\n",
    "    .group_by('port_name', 'month')\n",
    "    .agg(\n",
    "        #keep lat and long\n",
    "        lat = pl.col('port_lat').first(),\n",
    "        lon = pl.col('port_lon').first(),\n",
    "        #get monthly avg vessels\n",
    "        vessels_avg = pl.col('mmsi').n_unique(),\n",
    "        #get average time at berth\n",
    "        time_at_berth_avg = (\n",
    "            pl.when(pl.col('status')==5)\n",
    "            .then(pl.col('status_duration'))\n",
    "            .otherwise(pl.lit(None))\n",
    "        ).median()/60,\n",
    "        #get average time at anchor\n",
    "        time_at_anchor_avg = (\n",
    "            pl.when(pl.col('status')==1)\n",
    "            .then(pl.col('status_duration'))\n",
    "            .otherwise(pl.lit(None))\n",
    "        ).median()/60\n",
    "    )\n",
    ")"
   ]
  },
  {
   "cell_type": "markdown",
   "metadata": {},
   "source": [
    "## Visualizations"
   ]
  },
  {
   "cell_type": "code",
   "execution_count": 38,
   "metadata": {},
   "outputs": [
    {
     "data": {
      "application/vnd.plotly.v1+json": {
       "config": {
        "plotlyServerURL": "https://plot.ly"
       },
       "data": [
        {
         "geo": "geo",
         "hovertemplate": "<b>%{hovertext}</b><br><br>vessels_avg=%{marker.size}<br>port_lat=%{lat}<br>port_lon=%{lon}<br>Hours at Berth=%{marker.color}<extra></extra>",
         "hovertext": [
          "Conneaut, OH",
          "Muskegon, MI",
          "Houston Port Authority, TX",
          "Alpena, MI",
          "Tacoma, WA",
          "New York, NY & NJ",
          "Illinois International Port, IL",
          "Wilmington, NC",
          "Albany Port District, NY",
          "Marquette, MI",
          "Greater Lafourche Port, LA",
          "San Juan, PR",
          "Port Arthur, TX",
          "Manatee County Port, FL",
          "Morehead City, NC",
          "Jacksonville, FL",
          "Port of Longview, WA",
          "Grays Harbor Port District, WA",
          "Kalaeloa Barbers Point, HI",
          "New Haven, CT",
          "Wilmington, DE",
          "Texas City, TX",
          "Sacramento-Yolo Port, CA",
          "Toledo-Lucas County Port, OH",
          "Guayama, PR",
          "Marblehead, OH",
          null,
          "Corpus Christi, TX",
          "Galveston, TX",
          "Presque Isle Township, MI",
          "Sandusky, OH",
          "Marine City, MI",
          "Detroit-Wayne County Port, MI",
          "Port Jefferson, NY",
          "Port of Everett, WA",
          "Baltimore, MD",
          "Port of Palm Beach District, FL",
          "Canaveral Port District, FL",
          "Kahului, Maui, HI",
          "Terrebonne Parish Port, LA",
          "Honolulu, O'ahu, HI",
          "Ashtabula Port Authority, OH",
          "Port of Vancouver USA, WA",
          "Port Everglades, FL",
          "Northern Indiana District, IN",
          "South Jersey Port Corp, NJ",
          "Coos Bay OR, Port of",
          "Green Bay, WI",
          "New Orleans, LA",
          "Searsport, ME",
          "Port of Kalama, WA",
          "Virgin Islands - St. Croix, VI",
          "Tampa Port Authority, FL",
          "Port of Portland, OR",
          "Victoria, TX",
          "Port of Long Beach, CA",
          "Clark Township, MI",
          "Portsmouth, NH",
          "Beaumont, TX",
          "Port of Savannah, GA",
          "Stockton, CA",
          "Port of Pascagoula, MS",
          "Port of Oakland, CA",
          "Mueller Township, MI",
          "San Diego Unified Port, CA",
          "Yabucoa, PR",
          "Anacortes, WA",
          "Port of Providence, RI",
          "Brownsville, TX",
          "Guaynabo, PR",
          "Port of Los Angeles, CA",
          "Milwaukee, WI",
          "Calhoun Port Authority, TX",
          "PortMiami, FL",
          "Richmond, CA",
          "Philadelphia Regional Port, PA",
          "Panama City Port Authority, FL",
          "South Louisiana, LA, Port of",
          "Two Harbors, MN",
          "Cleveland-Cuyahoga Port, OH",
          "San Francisco Port, CA",
          "Portland, ME",
          "Orange County Nav District, TX",
          "Virginia, VA, Port of",
          "Oxnard Harbor District, CA",
          "Mobile, AL",
          "Port of Greater Baton Rouge, LA",
          "Seattle, WA",
          "Plaquemines Port District, LA",
          "Rogers City, MI",
          "Monroe, MI",
          "Port of Charleston, SC",
          "Nawiliwili, Kaua'i, HI",
          "Port of Brunswick, GA",
          "Port of Gulfport, MS",
          "Bridgeport, CT",
          "Redwood City, CA",
          "Port Freeport, TX",
          "Boston, MA",
          "West St. Mary Parish Port, LA",
          "Silver Bay, MN",
          "Duluth-Superior, MN and WI",
          "Lake Charles Harbor District, LA"
         ],
         "lat": [
          41.96671,
          43.22708300000002,
          29.74702299999999,
          45.061966999999974,
          47.28966000000003,
          40.67394899999999,
          41.886620000000015,
          34.22736499999998,
          42.64271000000003,
          46.577291999999964,
          29.121944999999982,
          18.432782999999972,
          29.83141999999998,
          27.633680999999985,
          34.71692999999996,
          30.32275700000004,
          46.14222000000002,
          46.904156000000036,
          21.323066000000015,
          41.29883000000003,
          39.715889999999966,
          29.36306800000003,
          38.56132299999998,
          41.66293999999997,
          17.938939000000016,
          41.52961999999998,
          null,
          27.812769999999972,
          29.31048999999998,
          45.29794,
          41.470220000000026,
          42.71544999999999,
          42.26909400000002,
          40.94880999999998,
          47.98476000000001,
          39.25082699999997,
          26.76903999999999,
          28.414089999999984,
          20.898610000000005,
          29.579070000000016,
          21.311110000000035,
          41.90368500000001,
          45.622440000000005,
          26.09339200000001,
          41.62504700000002,
          39.846444999999974,
          43.36350999999997,
          44.516215,
          29.914139999999975,
          44.45285,
          46.02659599999997,
          17.752709999999958,
          27.785339999999987,
          45.47881000000001,
          28.69130999999998,
          33.73957000000002,
          45.99138999999998,
          43.073979999999985,
          30.084871999999983,
          32.08471099999998,
          37.95270000000001,
          30.34801999999999,
          37.82152,
          45.96942399999999,
          32.708209999999994,
          18.05174300000002,
          48.49594299999999,
          41.81177999999999,
          25.952201000000002,
          18.43022100000003,
          33.726635000000016,
          42.98823999999999,
          28.62938900000002,
          25.78286200000004,
          37.92423699999999,
          39.91882,
          30.133998000000016,
          30.033449999999988,
          47.014550999999976,
          41.47851999999999,
          37.80666500000003,
          43.64950999999999,
          30.095369999999946,
          36.86641999999996,
          34.14824399999996,
          30.69123000000003,
          30.422920000000016,
          47.58771099999997,
          29.480004000000008,
          45.42229799999998,
          41.91513400000002,
          32.78878099999997,
          21.95248399999999,
          31.132425999999985,
          30.35962100000001,
          41.172,
          37.50535999999999,
          28.96133000000003,
          42.34246800000003,
          29.81967300000001,
          47.29420800000001,
          46.77836199999998,
          30.106406000000028
         ],
         "legendgroup": "",
         "lon": [
          -80.54860000000004,
          -86.34316000000001,
          -95.29367900000028,
          -83.42173300000003,
          -122.45149999999964,
          -74.03835699999998,
          -87.63798999999999,
          -77.95049600000002,
          -73.74816000000003,
          -87.384821,
          -90.20527900000023,
          -66.09667800000001,
          -93.9606899999997,
          -82.56414299999996,
          -76.72421000000001,
          -81.66512500000005,
          -122.91399999999975,
          -124.17614600000005,
          -158.1136830000002,
          -72.90473000000003,
          -75.50696999999997,
          -94.91809099999998,
          -121.54154100000014,
          -83.50750999999998,
          -66.15600200000002,
          -82.70905999999998,
          null,
          -97.39789000000025,
          -94.81269999999991,
          -83.42138200000002,
          -82.71227000000002,
          -82.50235000000005,
          -83.10958600000001,
          -73.07215999999997,
          -122.22940000000042,
          -76.56163999999995,
          -80.05267000000002,
          -80.60814999999997,
          -156.4727999999997,
          -90.65905099999983,
          -157.87169999999958,
          -80.79397599999994,
          -122.68060000000018,
          -80.11780099999996,
          -87.20250699999995,
          -75.261085,
          -124.20949999999986,
          -88.01811800000002,
          -90.08525600000007,
          -68.92497000000002,
          -122.86685999999972,
          -64.73242,
          -82.52235,
          -122.66529999999963,
          -96.97247,
          -118.20950000000023,
          -84.31280999999997,
          -70.73805999999996,
          -94.09498499999985,
          -81.09538199999996,
          -121.31560000000034,
          -88.55879000000003,
          -122.30810000000015,
          -85.872972,
          -117.17839999999974,
          -65.83622600000001,
          -122.59960999999971,
          -71.39844000000004,
          -97.3981380000001,
          -66.11114099999999,
          -118.26809900000029,
          -87.89967000000003,
          -96.59232400000002,
          -80.18164200000001,
          -122.37423299999986,
          -75.20219099999998,
          -85.63376199999999,
          -90.61793999999985,
          -91.67068500000016,
          -81.67191000000001,
          -122.39904199999995,
          -70.25133999999998,
          -93.7235599999998,
          -76.31174000000001,
          -119.20847500000015,
          -88.03583399999998,
          -91.19933999999976,
          -122.35921800000041,
          -89.68744699999998,
          -83.81197199999998,
          -83.39060899999993,
          -79.92159500000001,
          -159.35231900000005,
          -81.53666000000001,
          -89.092568,
          -73.17886000000004,
          -122.21401199999977,
          -95.3707000000004,
          -71.032029,
          -91.51389600000005,
          -91.25638799999999,
          -92.0964080000003,
          -93.28683900000004
         ],
         "marker": {
          "color": [
           25.716666666666665,
           6.491666666666666,
           40,
           11.533333333333333,
           23.466666666666665,
           25.841666666666665,
           14.483333333333333,
           17.616666666666667,
           31.066666666666666,
           9.441666666666666,
           30.575,
           14.275,
           39.15,
           22.766666666666666,
           51.28333333333333,
           21.55,
           80.65,
           62.69166666666666,
           47.575,
           23.958333333333332,
           27.775,
           33.34166666666667,
           116.43333333333334,
           15.166666666666666,
           30.4,
           15.15,
           null,
           40.81666666666666,
           14.466666666666667,
           12.466666666666667,
           13.283333333333333,
           21.691666666666666,
           11.258333333333333,
           32.15,
           32.5,
           22.883333333333333,
           26.433333333333334,
           30.95,
           9.533333333333333,
           207.41666666666666,
           32.583333333333336,
           18.266666666666666,
           39.3,
           14.316666666666666,
           15.791666666666666,
           28.25,
           80.3,
           18.53333333333333,
           41.2,
           24.65,
           54.583333333333336,
           13.875,
           17.333333333333332,
           241.68333333333334,
           78.43333333333334,
           36.65,
           10.933333333333334,
           26.833333333333332,
           37.766666666666666,
           26.066666666666666,
           50.05833333333333,
           43.391666666666666,
           34.958333333333336,
           9.641666666666666,
           21.458333333333332,
           42.666666666666664,
           11.133333333333333,
           17.53333333333333,
           45.233333333333334,
           44.11666666666667,
           42.2,
           16.816666666666666,
           25.53333333333333,
           16.441666666666666,
           31.458333333333332,
           18.358333333333334,
           61.46666666666667,
           42.63333333333333,
           14.958333333333334,
           11.533333333333333,
           25.308333333333334,
           16.78333333333333,
           2132.3166666666666,
           22.675,
           15.816666666666666,
           39.608333333333334,
           31.008333333333333,
           39.983333333333334,
           59.09166666666667,
           13.975,
           10.208333333333334,
           20.55,
           20.716666666666665,
           20.116666666666667,
           10.616666666666667,
           11.85,
           23.233333333333334,
           29.341666666666665,
           21.183333333333334,
           22.475,
           33.983333333333334,
           16.05,
           32.391666666666666
          ],
          "coloraxis": "coloraxis",
          "size": [
           77.35693829731841,
           6.7360406091370555,
           568.398219191058,
           2.156862745098039,
           79.78119215105517,
           353.8892043274764,
           7.905882352941177,
           59.57583682008368,
           40.16152019002375,
           5.873655913978495,
           37.692890442890445,
           48.2573402417962,
           148.5584704313028,
           24.12866015971606,
           17.25855513307985,
           102.1923076923077,
           29.191323692992214,
           11.927492447129909,
           14.755693581780537,
           23.735605170387778,
           73.68881381381381,
           170.38717201166182,
           7.401041666666667,
           14.048543689320388,
           120.86257102272727,
           3.2739726027397262,
           1492.6785349873799,
           225.40178213052903,
           76.75194949870034,
           10.678466076696164,
           5.758823529411765,
           30.19498170412964,
           29.73286713286713,
           1.3333333333333333,
           10.147286821705427,
           178.16061933062247,
           83.69607843137256,
           25.49562363238512,
           4,
           1,
           33.791808873720136,
           7.191304347826087,
           89.26599845797995,
           112.59524530587522,
           18.47735618115055,
           39.23410404624278,
           6.23489932885906,
           6.755,
           257.22105358600055,
           34.03687315634218,
           34.40281442392261,
           91.95433487756452,
           71.80296610169492,
           6.055900621118012,
           1,
           172.6073987668722,
           17.72488408037094,
           9.57258064516129,
           142.76059628434754,
           217.20601640838652,
           25.368622448979593,
           37.90394600207684,
           89.19017320607989,
           8.606349206349206,
           76.26818181818182,
           5.011764705882353,
           319.5401664684899,
           43.35257603972688,
           241.90664528772493,
           27.01142857142857,
           151.55020080321285,
           6.3881278538812785,
           22.818438381937913,
           90.46037735849056,
           101.52464195450716,
           117.92429577464789,
           15.015915119363395,
           201.96131882340265,
           6.161616161616162,
           16.96271637816245,
           5.082474226804123,
           13.796269727403157,
           1,
           253.71296703296704,
           39.025216706067766,
           119.35674631909245,
           77.44763324636601,
           50.01163636363636,
           24.612538540596095,
           8.74721189591078,
           3.735042735042735,
           156.7466611018364,
           1.9295774647887325,
           56.672764227642276,
           6.531400966183575,
           1.411764705882353,
           6.2406015037593985,
           111.62114181964898,
           48.39103554868625,
           1,
           39.32507082152974,
           27.939495798319328,
           106.01293103448276
          ],
          "sizemode": "area",
          "sizeref": 1.6585317055415332,
          "symbol": "circle"
         },
         "mode": "markers",
         "name": "",
         "showlegend": false,
         "type": "scattergeo"
        }
       ],
       "layout": {
        "annotations": [
         {
          "align": "left",
          "font": {
           "color": "black",
           "size": 14
          },
          "showarrow": false,
          "text": "Note: Circle size corresponds to averages vessels per month",
          "x": 0,
          "xref": "paper",
          "y": -0.05,
          "yref": "paper"
         }
        ],
        "coloraxis": {
         "cmax": 50,
         "cmin": 0,
         "colorbar": {
          "title": {
           "text": "Hours at Berth"
          }
         },
         "colorscale": [
          [
           0,
           "#440154"
          ],
          [
           0.1111111111111111,
           "#482878"
          ],
          [
           0.2222222222222222,
           "#3e4989"
          ],
          [
           0.3333333333333333,
           "#31688e"
          ],
          [
           0.4444444444444444,
           "#26828e"
          ],
          [
           0.5555555555555556,
           "#1f9e89"
          ],
          [
           0.6666666666666666,
           "#35b779"
          ],
          [
           0.7777777777777778,
           "#6ece58"
          ],
          [
           0.8888888888888888,
           "#b5de2b"
          ],
          [
           1,
           "#fde725"
          ]
         ]
        },
        "geo": {
         "center": {},
         "domain": {
          "x": [
           0,
           1
          ],
          "y": [
           0,
           1
          ]
         },
         "fitbounds": "locations"
        },
        "height": 600,
        "legend": {
         "itemsizing": "constant",
         "tracegroupgap": 0
        },
        "template": {
         "data": {
          "bar": [
           {
            "error_x": {
             "color": "#2a3f5f"
            },
            "error_y": {
             "color": "#2a3f5f"
            },
            "marker": {
             "line": {
              "color": "#E5ECF6",
              "width": 0.5
             },
             "pattern": {
              "fillmode": "overlay",
              "size": 10,
              "solidity": 0.2
             }
            },
            "type": "bar"
           }
          ],
          "barpolar": [
           {
            "marker": {
             "line": {
              "color": "#E5ECF6",
              "width": 0.5
             },
             "pattern": {
              "fillmode": "overlay",
              "size": 10,
              "solidity": 0.2
             }
            },
            "type": "barpolar"
           }
          ],
          "carpet": [
           {
            "aaxis": {
             "endlinecolor": "#2a3f5f",
             "gridcolor": "white",
             "linecolor": "white",
             "minorgridcolor": "white",
             "startlinecolor": "#2a3f5f"
            },
            "baxis": {
             "endlinecolor": "#2a3f5f",
             "gridcolor": "white",
             "linecolor": "white",
             "minorgridcolor": "white",
             "startlinecolor": "#2a3f5f"
            },
            "type": "carpet"
           }
          ],
          "choropleth": [
           {
            "colorbar": {
             "outlinewidth": 0,
             "ticks": ""
            },
            "type": "choropleth"
           }
          ],
          "contour": [
           {
            "colorbar": {
             "outlinewidth": 0,
             "ticks": ""
            },
            "colorscale": [
             [
              0,
              "#0d0887"
             ],
             [
              0.1111111111111111,
              "#46039f"
             ],
             [
              0.2222222222222222,
              "#7201a8"
             ],
             [
              0.3333333333333333,
              "#9c179e"
             ],
             [
              0.4444444444444444,
              "#bd3786"
             ],
             [
              0.5555555555555556,
              "#d8576b"
             ],
             [
              0.6666666666666666,
              "#ed7953"
             ],
             [
              0.7777777777777778,
              "#fb9f3a"
             ],
             [
              0.8888888888888888,
              "#fdca26"
             ],
             [
              1,
              "#f0f921"
             ]
            ],
            "type": "contour"
           }
          ],
          "contourcarpet": [
           {
            "colorbar": {
             "outlinewidth": 0,
             "ticks": ""
            },
            "type": "contourcarpet"
           }
          ],
          "heatmap": [
           {
            "colorbar": {
             "outlinewidth": 0,
             "ticks": ""
            },
            "colorscale": [
             [
              0,
              "#0d0887"
             ],
             [
              0.1111111111111111,
              "#46039f"
             ],
             [
              0.2222222222222222,
              "#7201a8"
             ],
             [
              0.3333333333333333,
              "#9c179e"
             ],
             [
              0.4444444444444444,
              "#bd3786"
             ],
             [
              0.5555555555555556,
              "#d8576b"
             ],
             [
              0.6666666666666666,
              "#ed7953"
             ],
             [
              0.7777777777777778,
              "#fb9f3a"
             ],
             [
              0.8888888888888888,
              "#fdca26"
             ],
             [
              1,
              "#f0f921"
             ]
            ],
            "type": "heatmap"
           }
          ],
          "heatmapgl": [
           {
            "colorbar": {
             "outlinewidth": 0,
             "ticks": ""
            },
            "colorscale": [
             [
              0,
              "#0d0887"
             ],
             [
              0.1111111111111111,
              "#46039f"
             ],
             [
              0.2222222222222222,
              "#7201a8"
             ],
             [
              0.3333333333333333,
              "#9c179e"
             ],
             [
              0.4444444444444444,
              "#bd3786"
             ],
             [
              0.5555555555555556,
              "#d8576b"
             ],
             [
              0.6666666666666666,
              "#ed7953"
             ],
             [
              0.7777777777777778,
              "#fb9f3a"
             ],
             [
              0.8888888888888888,
              "#fdca26"
             ],
             [
              1,
              "#f0f921"
             ]
            ],
            "type": "heatmapgl"
           }
          ],
          "histogram": [
           {
            "marker": {
             "pattern": {
              "fillmode": "overlay",
              "size": 10,
              "solidity": 0.2
             }
            },
            "type": "histogram"
           }
          ],
          "histogram2d": [
           {
            "colorbar": {
             "outlinewidth": 0,
             "ticks": ""
            },
            "colorscale": [
             [
              0,
              "#0d0887"
             ],
             [
              0.1111111111111111,
              "#46039f"
             ],
             [
              0.2222222222222222,
              "#7201a8"
             ],
             [
              0.3333333333333333,
              "#9c179e"
             ],
             [
              0.4444444444444444,
              "#bd3786"
             ],
             [
              0.5555555555555556,
              "#d8576b"
             ],
             [
              0.6666666666666666,
              "#ed7953"
             ],
             [
              0.7777777777777778,
              "#fb9f3a"
             ],
             [
              0.8888888888888888,
              "#fdca26"
             ],
             [
              1,
              "#f0f921"
             ]
            ],
            "type": "histogram2d"
           }
          ],
          "histogram2dcontour": [
           {
            "colorbar": {
             "outlinewidth": 0,
             "ticks": ""
            },
            "colorscale": [
             [
              0,
              "#0d0887"
             ],
             [
              0.1111111111111111,
              "#46039f"
             ],
             [
              0.2222222222222222,
              "#7201a8"
             ],
             [
              0.3333333333333333,
              "#9c179e"
             ],
             [
              0.4444444444444444,
              "#bd3786"
             ],
             [
              0.5555555555555556,
              "#d8576b"
             ],
             [
              0.6666666666666666,
              "#ed7953"
             ],
             [
              0.7777777777777778,
              "#fb9f3a"
             ],
             [
              0.8888888888888888,
              "#fdca26"
             ],
             [
              1,
              "#f0f921"
             ]
            ],
            "type": "histogram2dcontour"
           }
          ],
          "mesh3d": [
           {
            "colorbar": {
             "outlinewidth": 0,
             "ticks": ""
            },
            "type": "mesh3d"
           }
          ],
          "parcoords": [
           {
            "line": {
             "colorbar": {
              "outlinewidth": 0,
              "ticks": ""
             }
            },
            "type": "parcoords"
           }
          ],
          "pie": [
           {
            "automargin": true,
            "type": "pie"
           }
          ],
          "scatter": [
           {
            "fillpattern": {
             "fillmode": "overlay",
             "size": 10,
             "solidity": 0.2
            },
            "type": "scatter"
           }
          ],
          "scatter3d": [
           {
            "line": {
             "colorbar": {
              "outlinewidth": 0,
              "ticks": ""
             }
            },
            "marker": {
             "colorbar": {
              "outlinewidth": 0,
              "ticks": ""
             }
            },
            "type": "scatter3d"
           }
          ],
          "scattercarpet": [
           {
            "marker": {
             "colorbar": {
              "outlinewidth": 0,
              "ticks": ""
             }
            },
            "type": "scattercarpet"
           }
          ],
          "scattergeo": [
           {
            "marker": {
             "colorbar": {
              "outlinewidth": 0,
              "ticks": ""
             }
            },
            "type": "scattergeo"
           }
          ],
          "scattergl": [
           {
            "marker": {
             "colorbar": {
              "outlinewidth": 0,
              "ticks": ""
             }
            },
            "type": "scattergl"
           }
          ],
          "scattermapbox": [
           {
            "marker": {
             "colorbar": {
              "outlinewidth": 0,
              "ticks": ""
             }
            },
            "type": "scattermapbox"
           }
          ],
          "scatterpolar": [
           {
            "marker": {
             "colorbar": {
              "outlinewidth": 0,
              "ticks": ""
             }
            },
            "type": "scatterpolar"
           }
          ],
          "scatterpolargl": [
           {
            "marker": {
             "colorbar": {
              "outlinewidth": 0,
              "ticks": ""
             }
            },
            "type": "scatterpolargl"
           }
          ],
          "scatterternary": [
           {
            "marker": {
             "colorbar": {
              "outlinewidth": 0,
              "ticks": ""
             }
            },
            "type": "scatterternary"
           }
          ],
          "surface": [
           {
            "colorbar": {
             "outlinewidth": 0,
             "ticks": ""
            },
            "colorscale": [
             [
              0,
              "#0d0887"
             ],
             [
              0.1111111111111111,
              "#46039f"
             ],
             [
              0.2222222222222222,
              "#7201a8"
             ],
             [
              0.3333333333333333,
              "#9c179e"
             ],
             [
              0.4444444444444444,
              "#bd3786"
             ],
             [
              0.5555555555555556,
              "#d8576b"
             ],
             [
              0.6666666666666666,
              "#ed7953"
             ],
             [
              0.7777777777777778,
              "#fb9f3a"
             ],
             [
              0.8888888888888888,
              "#fdca26"
             ],
             [
              1,
              "#f0f921"
             ]
            ],
            "type": "surface"
           }
          ],
          "table": [
           {
            "cells": {
             "fill": {
              "color": "#EBF0F8"
             },
             "line": {
              "color": "white"
             }
            },
            "header": {
             "fill": {
              "color": "#C8D4E3"
             },
             "line": {
              "color": "white"
             }
            },
            "type": "table"
           }
          ]
         },
         "layout": {
          "annotationdefaults": {
           "arrowcolor": "#2a3f5f",
           "arrowhead": 0,
           "arrowwidth": 1
          },
          "autotypenumbers": "strict",
          "coloraxis": {
           "colorbar": {
            "outlinewidth": 0,
            "ticks": ""
           }
          },
          "colorscale": {
           "diverging": [
            [
             0,
             "#8e0152"
            ],
            [
             0.1,
             "#c51b7d"
            ],
            [
             0.2,
             "#de77ae"
            ],
            [
             0.3,
             "#f1b6da"
            ],
            [
             0.4,
             "#fde0ef"
            ],
            [
             0.5,
             "#f7f7f7"
            ],
            [
             0.6,
             "#e6f5d0"
            ],
            [
             0.7,
             "#b8e186"
            ],
            [
             0.8,
             "#7fbc41"
            ],
            [
             0.9,
             "#4d9221"
            ],
            [
             1,
             "#276419"
            ]
           ],
           "sequential": [
            [
             0,
             "#0d0887"
            ],
            [
             0.1111111111111111,
             "#46039f"
            ],
            [
             0.2222222222222222,
             "#7201a8"
            ],
            [
             0.3333333333333333,
             "#9c179e"
            ],
            [
             0.4444444444444444,
             "#bd3786"
            ],
            [
             0.5555555555555556,
             "#d8576b"
            ],
            [
             0.6666666666666666,
             "#ed7953"
            ],
            [
             0.7777777777777778,
             "#fb9f3a"
            ],
            [
             0.8888888888888888,
             "#fdca26"
            ],
            [
             1,
             "#f0f921"
            ]
           ],
           "sequentialminus": [
            [
             0,
             "#0d0887"
            ],
            [
             0.1111111111111111,
             "#46039f"
            ],
            [
             0.2222222222222222,
             "#7201a8"
            ],
            [
             0.3333333333333333,
             "#9c179e"
            ],
            [
             0.4444444444444444,
             "#bd3786"
            ],
            [
             0.5555555555555556,
             "#d8576b"
            ],
            [
             0.6666666666666666,
             "#ed7953"
            ],
            [
             0.7777777777777778,
             "#fb9f3a"
            ],
            [
             0.8888888888888888,
             "#fdca26"
            ],
            [
             1,
             "#f0f921"
            ]
           ]
          },
          "colorway": [
           "#636efa",
           "#EF553B",
           "#00cc96",
           "#ab63fa",
           "#FFA15A",
           "#19d3f3",
           "#FF6692",
           "#B6E880",
           "#FF97FF",
           "#FECB52"
          ],
          "font": {
           "color": "#2a3f5f"
          },
          "geo": {
           "bgcolor": "white",
           "lakecolor": "white",
           "landcolor": "#E5ECF6",
           "showlakes": true,
           "showland": true,
           "subunitcolor": "white"
          },
          "hoverlabel": {
           "align": "left"
          },
          "hovermode": "closest",
          "mapbox": {
           "style": "light"
          },
          "paper_bgcolor": "white",
          "plot_bgcolor": "#E5ECF6",
          "polar": {
           "angularaxis": {
            "gridcolor": "white",
            "linecolor": "white",
            "ticks": ""
           },
           "bgcolor": "#E5ECF6",
           "radialaxis": {
            "gridcolor": "white",
            "linecolor": "white",
            "ticks": ""
           }
          },
          "scene": {
           "xaxis": {
            "backgroundcolor": "#E5ECF6",
            "gridcolor": "white",
            "gridwidth": 2,
            "linecolor": "white",
            "showbackground": true,
            "ticks": "",
            "zerolinecolor": "white"
           },
           "yaxis": {
            "backgroundcolor": "#E5ECF6",
            "gridcolor": "white",
            "gridwidth": 2,
            "linecolor": "white",
            "showbackground": true,
            "ticks": "",
            "zerolinecolor": "white"
           },
           "zaxis": {
            "backgroundcolor": "#E5ECF6",
            "gridcolor": "white",
            "gridwidth": 2,
            "linecolor": "white",
            "showbackground": true,
            "ticks": "",
            "zerolinecolor": "white"
           }
          },
          "shapedefaults": {
           "line": {
            "color": "#2a3f5f"
           }
          },
          "ternary": {
           "aaxis": {
            "gridcolor": "white",
            "linecolor": "white",
            "ticks": ""
           },
           "baxis": {
            "gridcolor": "white",
            "linecolor": "white",
            "ticks": ""
           },
           "bgcolor": "#E5ECF6",
           "caxis": {
            "gridcolor": "white",
            "linecolor": "white",
            "ticks": ""
           }
          },
          "title": {
           "x": 0.05
          },
          "xaxis": {
           "automargin": true,
           "gridcolor": "white",
           "linecolor": "white",
           "ticks": "",
           "title": {
            "standoff": 15
           },
           "zerolinecolor": "white",
           "zerolinewidth": 2
          },
          "yaxis": {
           "automargin": true,
           "gridcolor": "white",
           "linecolor": "white",
           "ticks": "",
           "title": {
            "standoff": 15
           },
           "zerolinecolor": "white",
           "zerolinewidth": 2
          }
         }
        },
        "title": {
         "text": "Avg Vessels per month & Median Hours at Berth (previous 12 months)"
        },
        "width": 1000
       }
      }
     },
     "metadata": {},
     "output_type": "display_data"
    }
   ],
   "source": [
    "#scatterplot\n",
    "fig = px.scatter_geo(\n",
    "    portstats_last12months_gdf,\n",
    "    lon='port_lon',\n",
    "    lat='port_lat',\n",
    "    size='vessels_avg',\n",
    "    color='time_at_berth_avg',\n",
    "    range_color=[0,50],\n",
    "    hover_name='port_name',\n",
    "    size_max=30,\n",
    "    title='Avg Vessels per month & Median Hours at Berth (previous 12 months)',\n",
    "    color_continuous_scale=px.colors.sequential.Viridis,\n",
    "    width=1000,\n",
    "    height=600,\n",
    "    labels={\n",
    "        'time_at_berth_avg':'Hours at Berth'\n",
    "    }\n",
    ")\n",
    "\n",
    "# Fit the view to ports\n",
    "fig.update_geos(fitbounds=\"locations\")\n",
    "\n",
    "# Add footnote using add_annotation\n",
    "fig.add_annotation(\n",
    "    text=\"Note: Circle size corresponds to averages vessels per month\",  # Footnote text\n",
    "    xref=\"paper\", yref=\"paper\",  # Position relative to the plot area\n",
    "    x=0, y=0-0.05,  # Adjust to footnote position\n",
    "    showarrow=False,  # No arrow, just text\n",
    "    font=dict(size=14, color=\"black\"),  # Customize the font style\n",
    "    align=\"left\"\n",
    ")\n",
    "\n",
    "# Show the figure\n",
    "fig.show()"
   ]
  },
  {
   "cell_type": "code",
   "execution_count": 37,
   "metadata": {},
   "outputs": [
    {
     "data": {
      "application/vnd.plotly.v1+json": {
       "config": {
        "plotlyServerURL": "https://plot.ly"
       },
       "data": [
        {
         "geo": "geo",
         "hovertemplate": "<b>%{hovertext}</b><br><br>vessels_avg=%{marker.size}<br>port_lat=%{lat}<br>port_lon=%{lon}<br>Hours at Anchor=%{marker.color}<extra></extra>",
         "hovertext": [
          "Conneaut, OH",
          "Muskegon, MI",
          "Houston Port Authority, TX",
          "Alpena, MI",
          "Tacoma, WA",
          "New York, NY & NJ",
          "Illinois International Port, IL",
          "Wilmington, NC",
          "Albany Port District, NY",
          "Marquette, MI",
          "Greater Lafourche Port, LA",
          "San Juan, PR",
          "Port Arthur, TX",
          "Manatee County Port, FL",
          "Morehead City, NC",
          "Jacksonville, FL",
          "Port of Longview, WA",
          "Grays Harbor Port District, WA",
          "Kalaeloa Barbers Point, HI",
          "New Haven, CT",
          "Wilmington, DE",
          "Texas City, TX",
          "Sacramento-Yolo Port, CA",
          "Toledo-Lucas County Port, OH",
          "Guayama, PR",
          "Marblehead, OH",
          null,
          "Corpus Christi, TX",
          "Galveston, TX",
          "Presque Isle Township, MI",
          "Sandusky, OH",
          "Marine City, MI",
          "Detroit-Wayne County Port, MI",
          "Port Jefferson, NY",
          "Port of Everett, WA",
          "Baltimore, MD",
          "Port of Palm Beach District, FL",
          "Canaveral Port District, FL",
          "Kahului, Maui, HI",
          "Terrebonne Parish Port, LA",
          "Honolulu, O'ahu, HI",
          "Ashtabula Port Authority, OH",
          "Port of Vancouver USA, WA",
          "Port Everglades, FL",
          "Northern Indiana District, IN",
          "South Jersey Port Corp, NJ",
          "Coos Bay OR, Port of",
          "Green Bay, WI",
          "New Orleans, LA",
          "Searsport, ME",
          "Port of Kalama, WA",
          "Virgin Islands - St. Croix, VI",
          "Tampa Port Authority, FL",
          "Port of Portland, OR",
          "Victoria, TX",
          "Port of Long Beach, CA",
          "Clark Township, MI",
          "Portsmouth, NH",
          "Beaumont, TX",
          "Port of Savannah, GA",
          "Stockton, CA",
          "Port of Pascagoula, MS",
          "Port of Oakland, CA",
          "Mueller Township, MI",
          "San Diego Unified Port, CA",
          "Yabucoa, PR",
          "Anacortes, WA",
          "Port of Providence, RI",
          "Brownsville, TX",
          "Guaynabo, PR",
          "Port of Los Angeles, CA",
          "Milwaukee, WI",
          "Calhoun Port Authority, TX",
          "PortMiami, FL",
          "Richmond, CA",
          "Philadelphia Regional Port, PA",
          "Panama City Port Authority, FL",
          "South Louisiana, LA, Port of",
          "Two Harbors, MN",
          "Cleveland-Cuyahoga Port, OH",
          "San Francisco Port, CA",
          "Portland, ME",
          "Orange County Nav District, TX",
          "Virginia, VA, Port of",
          "Oxnard Harbor District, CA",
          "Mobile, AL",
          "Port of Greater Baton Rouge, LA",
          "Seattle, WA",
          "Plaquemines Port District, LA",
          "Rogers City, MI",
          "Monroe, MI",
          "Port of Charleston, SC",
          "Nawiliwili, Kaua'i, HI",
          "Port of Brunswick, GA",
          "Port of Gulfport, MS",
          "Bridgeport, CT",
          "Redwood City, CA",
          "Port Freeport, TX",
          "Boston, MA",
          "West St. Mary Parish Port, LA",
          "Silver Bay, MN",
          "Duluth-Superior, MN and WI",
          "Lake Charles Harbor District, LA"
         ],
         "lat": [
          41.96671,
          43.22708300000002,
          29.74702299999999,
          45.061966999999974,
          47.28966000000003,
          40.67394899999999,
          41.886620000000015,
          34.22736499999998,
          42.64271000000003,
          46.577291999999964,
          29.121944999999982,
          18.432782999999972,
          29.83141999999998,
          27.633680999999985,
          34.71692999999996,
          30.32275700000004,
          46.14222000000002,
          46.904156000000036,
          21.323066000000015,
          41.29883000000003,
          39.715889999999966,
          29.36306800000003,
          38.56132299999998,
          41.66293999999997,
          17.938939000000016,
          41.52961999999998,
          null,
          27.812769999999972,
          29.31048999999998,
          45.29794,
          41.470220000000026,
          42.71544999999999,
          42.26909400000002,
          40.94880999999998,
          47.98476000000001,
          39.25082699999997,
          26.76903999999999,
          28.414089999999984,
          20.898610000000005,
          29.579070000000016,
          21.311110000000035,
          41.90368500000001,
          45.622440000000005,
          26.09339200000001,
          41.62504700000002,
          39.846444999999974,
          43.36350999999997,
          44.516215,
          29.914139999999975,
          44.45285,
          46.02659599999997,
          17.752709999999958,
          27.785339999999987,
          45.47881000000001,
          28.69130999999998,
          33.73957000000002,
          45.99138999999998,
          43.073979999999985,
          30.084871999999983,
          32.08471099999998,
          37.95270000000001,
          30.34801999999999,
          37.82152,
          45.96942399999999,
          32.708209999999994,
          18.05174300000002,
          48.49594299999999,
          41.81177999999999,
          25.952201000000002,
          18.43022100000003,
          33.726635000000016,
          42.98823999999999,
          28.62938900000002,
          25.78286200000004,
          37.92423699999999,
          39.91882,
          30.133998000000016,
          30.033449999999988,
          47.014550999999976,
          41.47851999999999,
          37.80666500000003,
          43.64950999999999,
          30.095369999999946,
          36.86641999999996,
          34.14824399999996,
          30.69123000000003,
          30.422920000000016,
          47.58771099999997,
          29.480004000000008,
          45.42229799999998,
          41.91513400000002,
          32.78878099999997,
          21.95248399999999,
          31.132425999999985,
          30.35962100000001,
          41.172,
          37.50535999999999,
          28.96133000000003,
          42.34246800000003,
          29.81967300000001,
          47.29420800000001,
          46.77836199999998,
          30.106406000000028
         ],
         "legendgroup": "",
         "lon": [
          -80.54860000000004,
          -86.34316000000001,
          -95.29367900000028,
          -83.42173300000003,
          -122.45149999999964,
          -74.03835699999998,
          -87.63798999999999,
          -77.95049600000002,
          -73.74816000000003,
          -87.384821,
          -90.20527900000023,
          -66.09667800000001,
          -93.9606899999997,
          -82.56414299999996,
          -76.72421000000001,
          -81.66512500000005,
          -122.91399999999975,
          -124.17614600000005,
          -158.1136830000002,
          -72.90473000000003,
          -75.50696999999997,
          -94.91809099999998,
          -121.54154100000014,
          -83.50750999999998,
          -66.15600200000002,
          -82.70905999999998,
          null,
          -97.39789000000025,
          -94.81269999999991,
          -83.42138200000002,
          -82.71227000000002,
          -82.50235000000005,
          -83.10958600000001,
          -73.07215999999997,
          -122.22940000000042,
          -76.56163999999995,
          -80.05267000000002,
          -80.60814999999997,
          -156.4727999999997,
          -90.65905099999983,
          -157.87169999999958,
          -80.79397599999994,
          -122.68060000000018,
          -80.11780099999996,
          -87.20250699999995,
          -75.261085,
          -124.20949999999986,
          -88.01811800000002,
          -90.08525600000007,
          -68.92497000000002,
          -122.86685999999972,
          -64.73242,
          -82.52235,
          -122.66529999999963,
          -96.97247,
          -118.20950000000023,
          -84.31280999999997,
          -70.73805999999996,
          -94.09498499999985,
          -81.09538199999996,
          -121.31560000000034,
          -88.55879000000003,
          -122.30810000000015,
          -85.872972,
          -117.17839999999974,
          -65.83622600000001,
          -122.59960999999971,
          -71.39844000000004,
          -97.3981380000001,
          -66.11114099999999,
          -118.26809900000029,
          -87.89967000000003,
          -96.59232400000002,
          -80.18164200000001,
          -122.37423299999986,
          -75.20219099999998,
          -85.63376199999999,
          -90.61793999999985,
          -91.67068500000016,
          -81.67191000000001,
          -122.39904199999995,
          -70.25133999999998,
          -93.7235599999998,
          -76.31174000000001,
          -119.20847500000015,
          -88.03583399999998,
          -91.19933999999976,
          -122.35921800000041,
          -89.68744699999998,
          -83.81197199999998,
          -83.39060899999993,
          -79.92159500000001,
          -159.35231900000005,
          -81.53666000000001,
          -89.092568,
          -73.17886000000004,
          -122.21401199999977,
          -95.3707000000004,
          -71.032029,
          -91.51389600000005,
          -91.25638799999999,
          -92.0964080000003,
          -93.28683900000004
         ],
         "marker": {
          "color": [
           17.683333333333334,
           9.9,
           26.275,
           30.28333333333333,
           53.93333333333333,
           15.016666666666666,
           9.9,
           14.041666666666666,
           15.041666666666666,
           9.85,
           36.233333333333334,
           9.916666666666666,
           26.2,
           15.916666666666666,
           43.375,
           22.066666666666666,
           85.74166666666666,
           85.075,
           44.475,
           12.283333333333333,
           22.416666666666668,
           26.224999999999998,
           26.691666666666666,
           14.508333333333333,
           32.46666666666667,
           6.666666666666667,
           17.416666666666668,
           26.25,
           16.85,
           7.55,
           8.533333333333333,
           16.775,
           11.816666666666666,
           17.733333333333334,
           27.675,
           20.75,
           26.15,
           16.833333333333332,
           41.24166666666667,
           null,
           25.8,
           14.216666666666667,
           40.483333333333334,
           22.983333333333334,
           10.675,
           25.53333333333333,
           71.65833333333333,
           10.766666666666666,
           33.583333333333336,
           25.7,
           70.23333333333333,
           14.85,
           17.45,
           41.81666666666666,
           null,
           37.40833333333333,
           13.833333333333334,
           16.15833333333333,
           22.28333333333333,
           35.775,
           15.733333333333333,
           32.53333333333333,
           50.291666666666664,
           7.258333333333333,
           30.666666666666668,
           14.433333333333334,
           49.09166666666667,
           22.916666666666668,
           46.38333333333333,
           8.766666666666666,
           20.333333333333332,
           12,
           18.141666666666666,
           78.96666666666667,
           28.525,
           14.616666666666667,
           31.15,
           29.541666666666668,
           18.991666666666667,
           9.133333333333333,
           87.08333333333333,
           15.266666666666666,
           4.033333333333333,
           39.45,
           19.433333333333334,
           28.583333333333332,
           18.233333333333334,
           39.6,
           39.916666666666664,
           5.6,
           5.441666666666666,
           22.383333333333333,
           159.6,
           23.333333333333332,
           15.45,
           2.7583333333333333,
           29.9,
           27.216666666666665,
           18.15,
           null,
           23.508333333333333,
           15.083333333333334,
           23.2
          ],
          "coloraxis": "coloraxis",
          "size": [
           77.35693829731841,
           6.7360406091370555,
           568.398219191058,
           2.156862745098039,
           79.78119215105517,
           353.8892043274764,
           7.905882352941177,
           59.57583682008368,
           40.16152019002375,
           5.873655913978495,
           37.692890442890445,
           48.2573402417962,
           148.5584704313028,
           24.12866015971606,
           17.25855513307985,
           102.1923076923077,
           29.191323692992214,
           11.927492447129909,
           14.755693581780537,
           23.735605170387778,
           73.68881381381381,
           170.38717201166182,
           7.401041666666667,
           14.048543689320388,
           120.86257102272727,
           3.2739726027397262,
           1492.6785349873799,
           225.40178213052903,
           76.75194949870034,
           10.678466076696164,
           5.758823529411765,
           30.19498170412964,
           29.73286713286713,
           1.3333333333333333,
           10.147286821705427,
           178.16061933062247,
           83.69607843137256,
           25.49562363238512,
           4,
           1,
           33.791808873720136,
           7.191304347826087,
           89.26599845797995,
           112.59524530587522,
           18.47735618115055,
           39.23410404624278,
           6.23489932885906,
           6.755,
           257.22105358600055,
           34.03687315634218,
           34.40281442392261,
           91.95433487756452,
           71.80296610169492,
           6.055900621118012,
           1,
           172.6073987668722,
           17.72488408037094,
           9.57258064516129,
           142.76059628434754,
           217.20601640838652,
           25.368622448979593,
           37.90394600207684,
           89.19017320607989,
           8.606349206349206,
           76.26818181818182,
           5.011764705882353,
           319.5401664684899,
           43.35257603972688,
           241.90664528772493,
           27.01142857142857,
           151.55020080321285,
           6.3881278538812785,
           22.818438381937913,
           90.46037735849056,
           101.52464195450716,
           117.92429577464789,
           15.015915119363395,
           201.96131882340265,
           6.161616161616162,
           16.96271637816245,
           5.082474226804123,
           13.796269727403157,
           1,
           253.71296703296704,
           39.025216706067766,
           119.35674631909245,
           77.44763324636601,
           50.01163636363636,
           24.612538540596095,
           8.74721189591078,
           3.735042735042735,
           156.7466611018364,
           1.9295774647887325,
           56.672764227642276,
           6.531400966183575,
           1.411764705882353,
           6.2406015037593985,
           111.62114181964898,
           48.39103554868625,
           1,
           39.32507082152974,
           27.939495798319328,
           106.01293103448276
          ],
          "sizemode": "area",
          "sizeref": 1.6585317055415332,
          "symbol": "circle"
         },
         "mode": "markers",
         "name": "",
         "showlegend": false,
         "type": "scattergeo"
        }
       ],
       "layout": {
        "annotations": [
         {
          "align": "left",
          "font": {
           "color": "black",
           "size": 14
          },
          "showarrow": false,
          "text": "Note: Circle size corresponds to averages vessels per month",
          "x": 0,
          "xref": "paper",
          "y": -0.05,
          "yref": "paper"
         }
        ],
        "coloraxis": {
         "cmax": 50,
         "cmin": 0,
         "colorbar": {
          "title": {
           "text": "Hours at Anchor"
          }
         },
         "colorscale": [
          [
           0,
           "#440154"
          ],
          [
           0.1111111111111111,
           "#482878"
          ],
          [
           0.2222222222222222,
           "#3e4989"
          ],
          [
           0.3333333333333333,
           "#31688e"
          ],
          [
           0.4444444444444444,
           "#26828e"
          ],
          [
           0.5555555555555556,
           "#1f9e89"
          ],
          [
           0.6666666666666666,
           "#35b779"
          ],
          [
           0.7777777777777778,
           "#6ece58"
          ],
          [
           0.8888888888888888,
           "#b5de2b"
          ],
          [
           1,
           "#fde725"
          ]
         ]
        },
        "geo": {
         "center": {},
         "domain": {
          "x": [
           0,
           1
          ],
          "y": [
           0,
           1
          ]
         },
         "fitbounds": "locations"
        },
        "height": 600,
        "legend": {
         "itemsizing": "constant",
         "tracegroupgap": 0
        },
        "template": {
         "data": {
          "bar": [
           {
            "error_x": {
             "color": "#2a3f5f"
            },
            "error_y": {
             "color": "#2a3f5f"
            },
            "marker": {
             "line": {
              "color": "#E5ECF6",
              "width": 0.5
             },
             "pattern": {
              "fillmode": "overlay",
              "size": 10,
              "solidity": 0.2
             }
            },
            "type": "bar"
           }
          ],
          "barpolar": [
           {
            "marker": {
             "line": {
              "color": "#E5ECF6",
              "width": 0.5
             },
             "pattern": {
              "fillmode": "overlay",
              "size": 10,
              "solidity": 0.2
             }
            },
            "type": "barpolar"
           }
          ],
          "carpet": [
           {
            "aaxis": {
             "endlinecolor": "#2a3f5f",
             "gridcolor": "white",
             "linecolor": "white",
             "minorgridcolor": "white",
             "startlinecolor": "#2a3f5f"
            },
            "baxis": {
             "endlinecolor": "#2a3f5f",
             "gridcolor": "white",
             "linecolor": "white",
             "minorgridcolor": "white",
             "startlinecolor": "#2a3f5f"
            },
            "type": "carpet"
           }
          ],
          "choropleth": [
           {
            "colorbar": {
             "outlinewidth": 0,
             "ticks": ""
            },
            "type": "choropleth"
           }
          ],
          "contour": [
           {
            "colorbar": {
             "outlinewidth": 0,
             "ticks": ""
            },
            "colorscale": [
             [
              0,
              "#0d0887"
             ],
             [
              0.1111111111111111,
              "#46039f"
             ],
             [
              0.2222222222222222,
              "#7201a8"
             ],
             [
              0.3333333333333333,
              "#9c179e"
             ],
             [
              0.4444444444444444,
              "#bd3786"
             ],
             [
              0.5555555555555556,
              "#d8576b"
             ],
             [
              0.6666666666666666,
              "#ed7953"
             ],
             [
              0.7777777777777778,
              "#fb9f3a"
             ],
             [
              0.8888888888888888,
              "#fdca26"
             ],
             [
              1,
              "#f0f921"
             ]
            ],
            "type": "contour"
           }
          ],
          "contourcarpet": [
           {
            "colorbar": {
             "outlinewidth": 0,
             "ticks": ""
            },
            "type": "contourcarpet"
           }
          ],
          "heatmap": [
           {
            "colorbar": {
             "outlinewidth": 0,
             "ticks": ""
            },
            "colorscale": [
             [
              0,
              "#0d0887"
             ],
             [
              0.1111111111111111,
              "#46039f"
             ],
             [
              0.2222222222222222,
              "#7201a8"
             ],
             [
              0.3333333333333333,
              "#9c179e"
             ],
             [
              0.4444444444444444,
              "#bd3786"
             ],
             [
              0.5555555555555556,
              "#d8576b"
             ],
             [
              0.6666666666666666,
              "#ed7953"
             ],
             [
              0.7777777777777778,
              "#fb9f3a"
             ],
             [
              0.8888888888888888,
              "#fdca26"
             ],
             [
              1,
              "#f0f921"
             ]
            ],
            "type": "heatmap"
           }
          ],
          "heatmapgl": [
           {
            "colorbar": {
             "outlinewidth": 0,
             "ticks": ""
            },
            "colorscale": [
             [
              0,
              "#0d0887"
             ],
             [
              0.1111111111111111,
              "#46039f"
             ],
             [
              0.2222222222222222,
              "#7201a8"
             ],
             [
              0.3333333333333333,
              "#9c179e"
             ],
             [
              0.4444444444444444,
              "#bd3786"
             ],
             [
              0.5555555555555556,
              "#d8576b"
             ],
             [
              0.6666666666666666,
              "#ed7953"
             ],
             [
              0.7777777777777778,
              "#fb9f3a"
             ],
             [
              0.8888888888888888,
              "#fdca26"
             ],
             [
              1,
              "#f0f921"
             ]
            ],
            "type": "heatmapgl"
           }
          ],
          "histogram": [
           {
            "marker": {
             "pattern": {
              "fillmode": "overlay",
              "size": 10,
              "solidity": 0.2
             }
            },
            "type": "histogram"
           }
          ],
          "histogram2d": [
           {
            "colorbar": {
             "outlinewidth": 0,
             "ticks": ""
            },
            "colorscale": [
             [
              0,
              "#0d0887"
             ],
             [
              0.1111111111111111,
              "#46039f"
             ],
             [
              0.2222222222222222,
              "#7201a8"
             ],
             [
              0.3333333333333333,
              "#9c179e"
             ],
             [
              0.4444444444444444,
              "#bd3786"
             ],
             [
              0.5555555555555556,
              "#d8576b"
             ],
             [
              0.6666666666666666,
              "#ed7953"
             ],
             [
              0.7777777777777778,
              "#fb9f3a"
             ],
             [
              0.8888888888888888,
              "#fdca26"
             ],
             [
              1,
              "#f0f921"
             ]
            ],
            "type": "histogram2d"
           }
          ],
          "histogram2dcontour": [
           {
            "colorbar": {
             "outlinewidth": 0,
             "ticks": ""
            },
            "colorscale": [
             [
              0,
              "#0d0887"
             ],
             [
              0.1111111111111111,
              "#46039f"
             ],
             [
              0.2222222222222222,
              "#7201a8"
             ],
             [
              0.3333333333333333,
              "#9c179e"
             ],
             [
              0.4444444444444444,
              "#bd3786"
             ],
             [
              0.5555555555555556,
              "#d8576b"
             ],
             [
              0.6666666666666666,
              "#ed7953"
             ],
             [
              0.7777777777777778,
              "#fb9f3a"
             ],
             [
              0.8888888888888888,
              "#fdca26"
             ],
             [
              1,
              "#f0f921"
             ]
            ],
            "type": "histogram2dcontour"
           }
          ],
          "mesh3d": [
           {
            "colorbar": {
             "outlinewidth": 0,
             "ticks": ""
            },
            "type": "mesh3d"
           }
          ],
          "parcoords": [
           {
            "line": {
             "colorbar": {
              "outlinewidth": 0,
              "ticks": ""
             }
            },
            "type": "parcoords"
           }
          ],
          "pie": [
           {
            "automargin": true,
            "type": "pie"
           }
          ],
          "scatter": [
           {
            "fillpattern": {
             "fillmode": "overlay",
             "size": 10,
             "solidity": 0.2
            },
            "type": "scatter"
           }
          ],
          "scatter3d": [
           {
            "line": {
             "colorbar": {
              "outlinewidth": 0,
              "ticks": ""
             }
            },
            "marker": {
             "colorbar": {
              "outlinewidth": 0,
              "ticks": ""
             }
            },
            "type": "scatter3d"
           }
          ],
          "scattercarpet": [
           {
            "marker": {
             "colorbar": {
              "outlinewidth": 0,
              "ticks": ""
             }
            },
            "type": "scattercarpet"
           }
          ],
          "scattergeo": [
           {
            "marker": {
             "colorbar": {
              "outlinewidth": 0,
              "ticks": ""
             }
            },
            "type": "scattergeo"
           }
          ],
          "scattergl": [
           {
            "marker": {
             "colorbar": {
              "outlinewidth": 0,
              "ticks": ""
             }
            },
            "type": "scattergl"
           }
          ],
          "scattermapbox": [
           {
            "marker": {
             "colorbar": {
              "outlinewidth": 0,
              "ticks": ""
             }
            },
            "type": "scattermapbox"
           }
          ],
          "scatterpolar": [
           {
            "marker": {
             "colorbar": {
              "outlinewidth": 0,
              "ticks": ""
             }
            },
            "type": "scatterpolar"
           }
          ],
          "scatterpolargl": [
           {
            "marker": {
             "colorbar": {
              "outlinewidth": 0,
              "ticks": ""
             }
            },
            "type": "scatterpolargl"
           }
          ],
          "scatterternary": [
           {
            "marker": {
             "colorbar": {
              "outlinewidth": 0,
              "ticks": ""
             }
            },
            "type": "scatterternary"
           }
          ],
          "surface": [
           {
            "colorbar": {
             "outlinewidth": 0,
             "ticks": ""
            },
            "colorscale": [
             [
              0,
              "#0d0887"
             ],
             [
              0.1111111111111111,
              "#46039f"
             ],
             [
              0.2222222222222222,
              "#7201a8"
             ],
             [
              0.3333333333333333,
              "#9c179e"
             ],
             [
              0.4444444444444444,
              "#bd3786"
             ],
             [
              0.5555555555555556,
              "#d8576b"
             ],
             [
              0.6666666666666666,
              "#ed7953"
             ],
             [
              0.7777777777777778,
              "#fb9f3a"
             ],
             [
              0.8888888888888888,
              "#fdca26"
             ],
             [
              1,
              "#f0f921"
             ]
            ],
            "type": "surface"
           }
          ],
          "table": [
           {
            "cells": {
             "fill": {
              "color": "#EBF0F8"
             },
             "line": {
              "color": "white"
             }
            },
            "header": {
             "fill": {
              "color": "#C8D4E3"
             },
             "line": {
              "color": "white"
             }
            },
            "type": "table"
           }
          ]
         },
         "layout": {
          "annotationdefaults": {
           "arrowcolor": "#2a3f5f",
           "arrowhead": 0,
           "arrowwidth": 1
          },
          "autotypenumbers": "strict",
          "coloraxis": {
           "colorbar": {
            "outlinewidth": 0,
            "ticks": ""
           }
          },
          "colorscale": {
           "diverging": [
            [
             0,
             "#8e0152"
            ],
            [
             0.1,
             "#c51b7d"
            ],
            [
             0.2,
             "#de77ae"
            ],
            [
             0.3,
             "#f1b6da"
            ],
            [
             0.4,
             "#fde0ef"
            ],
            [
             0.5,
             "#f7f7f7"
            ],
            [
             0.6,
             "#e6f5d0"
            ],
            [
             0.7,
             "#b8e186"
            ],
            [
             0.8,
             "#7fbc41"
            ],
            [
             0.9,
             "#4d9221"
            ],
            [
             1,
             "#276419"
            ]
           ],
           "sequential": [
            [
             0,
             "#0d0887"
            ],
            [
             0.1111111111111111,
             "#46039f"
            ],
            [
             0.2222222222222222,
             "#7201a8"
            ],
            [
             0.3333333333333333,
             "#9c179e"
            ],
            [
             0.4444444444444444,
             "#bd3786"
            ],
            [
             0.5555555555555556,
             "#d8576b"
            ],
            [
             0.6666666666666666,
             "#ed7953"
            ],
            [
             0.7777777777777778,
             "#fb9f3a"
            ],
            [
             0.8888888888888888,
             "#fdca26"
            ],
            [
             1,
             "#f0f921"
            ]
           ],
           "sequentialminus": [
            [
             0,
             "#0d0887"
            ],
            [
             0.1111111111111111,
             "#46039f"
            ],
            [
             0.2222222222222222,
             "#7201a8"
            ],
            [
             0.3333333333333333,
             "#9c179e"
            ],
            [
             0.4444444444444444,
             "#bd3786"
            ],
            [
             0.5555555555555556,
             "#d8576b"
            ],
            [
             0.6666666666666666,
             "#ed7953"
            ],
            [
             0.7777777777777778,
             "#fb9f3a"
            ],
            [
             0.8888888888888888,
             "#fdca26"
            ],
            [
             1,
             "#f0f921"
            ]
           ]
          },
          "colorway": [
           "#636efa",
           "#EF553B",
           "#00cc96",
           "#ab63fa",
           "#FFA15A",
           "#19d3f3",
           "#FF6692",
           "#B6E880",
           "#FF97FF",
           "#FECB52"
          ],
          "font": {
           "color": "#2a3f5f"
          },
          "geo": {
           "bgcolor": "white",
           "lakecolor": "white",
           "landcolor": "#E5ECF6",
           "showlakes": true,
           "showland": true,
           "subunitcolor": "white"
          },
          "hoverlabel": {
           "align": "left"
          },
          "hovermode": "closest",
          "mapbox": {
           "style": "light"
          },
          "paper_bgcolor": "white",
          "plot_bgcolor": "#E5ECF6",
          "polar": {
           "angularaxis": {
            "gridcolor": "white",
            "linecolor": "white",
            "ticks": ""
           },
           "bgcolor": "#E5ECF6",
           "radialaxis": {
            "gridcolor": "white",
            "linecolor": "white",
            "ticks": ""
           }
          },
          "scene": {
           "xaxis": {
            "backgroundcolor": "#E5ECF6",
            "gridcolor": "white",
            "gridwidth": 2,
            "linecolor": "white",
            "showbackground": true,
            "ticks": "",
            "zerolinecolor": "white"
           },
           "yaxis": {
            "backgroundcolor": "#E5ECF6",
            "gridcolor": "white",
            "gridwidth": 2,
            "linecolor": "white",
            "showbackground": true,
            "ticks": "",
            "zerolinecolor": "white"
           },
           "zaxis": {
            "backgroundcolor": "#E5ECF6",
            "gridcolor": "white",
            "gridwidth": 2,
            "linecolor": "white",
            "showbackground": true,
            "ticks": "",
            "zerolinecolor": "white"
           }
          },
          "shapedefaults": {
           "line": {
            "color": "#2a3f5f"
           }
          },
          "ternary": {
           "aaxis": {
            "gridcolor": "white",
            "linecolor": "white",
            "ticks": ""
           },
           "baxis": {
            "gridcolor": "white",
            "linecolor": "white",
            "ticks": ""
           },
           "bgcolor": "#E5ECF6",
           "caxis": {
            "gridcolor": "white",
            "linecolor": "white",
            "ticks": ""
           }
          },
          "title": {
           "x": 0.05
          },
          "xaxis": {
           "automargin": true,
           "gridcolor": "white",
           "linecolor": "white",
           "ticks": "",
           "title": {
            "standoff": 15
           },
           "zerolinecolor": "white",
           "zerolinewidth": 2
          },
          "yaxis": {
           "automargin": true,
           "gridcolor": "white",
           "linecolor": "white",
           "ticks": "",
           "title": {
            "standoff": 15
           },
           "zerolinecolor": "white",
           "zerolinewidth": 2
          }
         }
        },
        "title": {
         "text": "Avg Vessels per month & Median Hours at Anchor (previous 12 months)"
        },
        "width": 1000
       }
      }
     },
     "metadata": {},
     "output_type": "display_data"
    }
   ],
   "source": [
    "#scatterplot\n",
    "fig = px.scatter_geo(\n",
    "    portstats_last12months_gdf,\n",
    "    lon='port_lon',\n",
    "    lat='port_lat',\n",
    "    size='vessels_avg',\n",
    "    color='time_at_anchor_avg',\n",
    "    range_color=[0,50],\n",
    "    hover_name='port_name',\n",
    "    size_max=30,\n",
    "    title='Avg Vessels per month & Median Hours at Anchor (previous 12 months)',\n",
    "    color_continuous_scale=px.colors.sequential.Viridis,\n",
    "    width=1000,\n",
    "    height=600,\n",
    "    labels={\n",
    "        'time_at_anchor_avg':'Hours at Anchor'\n",
    "    }\n",
    ")\n",
    "\n",
    "# Fit the view to ports\n",
    "fig.update_geos(fitbounds=\"locations\")\n",
    "\n",
    "# Add footnote using add_annotation\n",
    "fig.add_annotation(\n",
    "    text=\"Note: Circle size corresponds to averages vessels per month\",  # Footnote text\n",
    "    xref=\"paper\", yref=\"paper\",  # Position relative to the plot area\n",
    "    x=0, y=0-0.05,  # Adjust to footnote position\n",
    "    showarrow=False,  # No arrow, just text\n",
    "    font=dict(size=14, color=\"black\"),  # Customize the font style\n",
    "    align=\"left\"\n",
    ")\n",
    "\n",
    "# Show the figure\n",
    "fig.show()"
   ]
  },
  {
   "cell_type": "code",
   "execution_count": null,
   "metadata": {},
   "outputs": [],
   "source": [
    "#get top 5 ports\n",
    "top5ports = pl.Series(ports_gdf.sort_values('rank').head().port_name)\n",
    "\n",
    "#get top 10 ports\n",
    "top10ports = pl.Series(ports_gdf.sort_values('rank').head(10).port_name)"
   ]
  },
  {
   "cell_type": "code",
   "execution_count": null,
   "metadata": {},
   "outputs": [],
   "source": [
    "px.line(\n",
    "    monthly_df\n",
    "    #restrict to top 5 ports\n",
    "    .filter(pl.col('port_name').is_in(top5ports))\n",
    "    #month in dt format\n",
    "    .with_columns(pl.col('month').str.strptime(pl.Date, format='%Y%m'))\n",
    "    .sort(by='month'), \n",
    "    #plot specs\n",
    "    x='month', y='vessels_avg', color='port_name',\n",
    "    title='Vessels per month at Principal Ports',\n",
    "    labels={'vessels_avg':'Unique Vessels'},\n",
    "    width=1000,\n",
    "    height=500 \n",
    ")"
   ]
  },
  {
   "cell_type": "code",
   "execution_count": null,
   "metadata": {},
   "outputs": [],
   "source": [
    "px.line(\n",
    "    monthly_df\n",
    "    #restrict to top 10 ports\n",
    "    .filter(pl.col('port_name').is_in(top10ports))\n",
    "    #month in dt format\n",
    "    .with_columns(pl.col('month').str.strptime(pl.Date, format='%Y%m'))\n",
    "    .sort(by='month'), \n",
    "    #plot specs\n",
    "    x='month', y='time_at_anchor_avg', color='port_name',\n",
    "    title='Median Time at Anchor at Principal Ports',\n",
    "    width=1000,\n",
    "    height=500 \n",
    ")"
   ]
  },
  {
   "cell_type": "code",
   "execution_count": null,
   "metadata": {},
   "outputs": [],
   "source": [
    "px.line(\n",
    "    monthly_df\n",
    "    #restrict to top 5 ports\n",
    "    .filter(pl.col('port_name').is_in(top5ports))\n",
    "    #month in dt format\n",
    "    .with_columns(pl.col('month').str.strptime(pl.Date, format='%Y%m'))\n",
    "    .sort(by='month'), \n",
    "    #plot specs\n",
    "    x='month', y='vessels_avg', color='port_name',\n",
    "    title='Unique vessels at Anchor at Principal Ports',\n",
    "    width=1000,\n",
    "    height=500 \n",
    ")"
   ]
  },
  {
   "cell_type": "code",
   "execution_count": null,
   "metadata": {},
   "outputs": [],
   "source": [
    "px.line(\n",
    "    #data with month in dt format\n",
    "    monthly_df\n",
    "    #restrict to top 5 ports\n",
    "    .filter(pl.col('port_name').is_in(top5ports))\n",
    "    #month in dt format\n",
    "    .with_columns(pl.col('month').str.strptime(pl.Date, format='%Y%m'))\n",
    "    .sort(by='month'), \n",
    "    #plot specs\n",
    "    x='month', y='time_at_berth_avg', color='port_name',\n",
    "    title='Median Time at Berth at Principal Ports',\n",
    "    width=1000,\n",
    "    height=500 \n",
    ")"
   ]
  }
 ],
 "metadata": {
  "kernelspec": {
   "display_name": "wsu",
   "language": "python",
   "name": "python3"
  },
  "language_info": {
   "codemirror_mode": {
    "name": "ipython",
    "version": 3
   },
   "file_extension": ".py",
   "mimetype": "text/x-python",
   "name": "python",
   "nbconvert_exporter": "python",
   "pygments_lexer": "ipython3",
   "version": "3.12.0"
  }
 },
 "nbformat": 4,
 "nbformat_minor": 2
}
