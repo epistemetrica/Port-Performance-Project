{
 "cells": [
  {
   "cell_type": "markdown",
   "metadata": {},
   "source": [
    "# Port Performance Index Project - Metrics Development Workbook\n",
    "\n",
    "This workbook develops port performance metrics using the AIS data processed in 'ais_ingest.ipynb' in the 'ais data' folderm, along with port and dock data from the BTS and USACE. "
   ]
  },
  {
   "cell_type": "code",
   "execution_count": 3,
   "metadata": {},
   "outputs": [],
   "source": [
    "#prelims\n",
    "import polars as pl\n",
    "import pandas as pd\n",
    "import geopandas as gpd\n",
    "import time\n",
    "import plotly.express as px\n",
    "import matplotlib.pyplot as plt\n",
    "import contextily as cx\n",
    "import numpy as np\n",
    "import glob\n",
    "\n",
    "#enable string cache for polars categoricals\n",
    "pl.enable_string_cache()\n",
    "#display settings\n",
    "pd.set_option('display.max_columns', None)\n",
    "pd.set_option('display.max_rows', None)\n",
    "pl.Config(tbl_rows=50);"
   ]
  },
  {
   "cell_type": "markdown",
   "metadata": {},
   "source": [
    "\n",
    "## Load and Pre-process Data \n",
    "\n",
    "### AIS Data\n",
    "\n",
    "The vessel locations and status (e.g., \"under way\", \"anchored\", \"moored\") data include all AIS messages; for the purposes of the PPI, we only need to know when a vessel *changes* status, so all other observations are dropped. \n",
    "\n",
    "Early exploratory analysis identified that vessel AIS statuses often change for very short periods of time, likely due to single AIS pings of errant or missing status. For example, a ship at berth for 4 hours may occaisionally ping \"under power\" even though the vessel remained at berth. To correct for this, we drop very short duration statuses where the previous and next statuses match.  "
   ]
  },
  {
   "cell_type": "code",
   "execution_count": 4,
   "metadata": {},
   "outputs": [],
   "source": [
    "#set minimum meaningful status duration (minutes)\n",
    "min_duration = 10"
   ]
  },
  {
   "cell_type": "code",
   "execution_count": 5,
   "metadata": {},
   "outputs": [],
   "source": [
    "#init list of lazyframes\n",
    "lfs = []\n",
    "#process each parquet file individually into lazyframes\n",
    "for file in glob.glob('ais data/data/ais_clean/*.parquet'):\n",
    "    try:\n",
    "        #check file integrity \n",
    "        pl.scan_parquet(file).collect_schema()\n",
    "        #read file\n",
    "        lf = (\n",
    "            pl.scan_parquet(file)\n",
    "            #drop smaller vessels\n",
    "            .filter(pl.col('length')>100)\n",
    "            #sort by vessel and time\n",
    "            .sort(['mmsi', 'time'])\n",
    "            #drop messages from the same vessel with same timestamp\n",
    "            .unique(subset=['mmsi', 'time'])\n",
    "            #indicate whether status is the same as previous row (Fill value needed to avoid status 0 evaluating as equal to false)\n",
    "            .with_columns(\n",
    "                status_change = (\n",
    "                    pl.col('status').ne(pl.col('status').shift(fill_value=20))\n",
    "                    .over('mmsi')\n",
    "                ),\n",
    "                status_previous = pl.col('status').shift().over('mmsi')\n",
    "            )\n",
    "            #keep only new status pings\n",
    "            .filter(pl.col('status_change')==True)\n",
    "            #drop change col\n",
    "            .drop('status_change')\n",
    "        )\n",
    "        #append to list of lazyframes\n",
    "        lfs.append(lf)\n",
    "    except:\n",
    "        print(f'{file} failed')\n",
    "\n",
    "#collect all lazyframes\n",
    "dfs = pl.collect_all(lfs)"
   ]
  },
  {
   "cell_type": "code",
   "execution_count": 6,
   "metadata": {},
   "outputs": [],
   "source": [
    "#create single pandas dataframe\n",
    "ais_gdf = (\n",
    "    #concat dfs\n",
    "    pl.concat(dfs, how='diagonal_relaxed')\n",
    "    #sort by vessel and time\n",
    "    .sort(['mmsi', 'time'])\n",
    "    #create duration column\n",
    "    .with_columns(\n",
    "        status_duration = (pl.col('time').shift(-1) - pl.col('time'))\n",
    "        .over('mmsi').dt.total_minutes()\n",
    "    )\n",
    "    #drop short changes in status between equal statuses\n",
    "    .with_columns(\n",
    "        short = ((pl.col('status').shift()==pl.col('status').shift(-1)) & \n",
    "                (pl.col('status_duration')<min_duration)).over('mmsi')\n",
    "    )\n",
    "    .filter(pl.col('short')!=True)\n",
    "    #drop repeated same-status messsages\n",
    "    .with_columns(\n",
    "        repeat = (pl.col('status')==pl.col('status').shift()).over('mmsi')\n",
    "    )\n",
    "    .filter(pl.col('repeat')!=True)\n",
    "    .drop('repeat')\n",
    "    #recalculate duration column\n",
    "    .with_columns(\n",
    "        status_duration = (pl.col('time').shift(-1) - pl.col('time'))\n",
    "        .over('mmsi').dt.total_minutes()\n",
    "    )\n",
    "    #convert to pandas\n",
    "    .to_pandas()\n",
    ")\n",
    "\n",
    "#convert to geopandas dataframe\n",
    "ais_gdf = (\n",
    "    #convert to geodataframe\n",
    "    gpd.GeoDataFrame(\n",
    "        ais_gdf,\n",
    "        geometry=gpd.points_from_xy(ais_gdf.lon, ais_gdf.lat, crs='EPSG:4326')\n",
    "    )\n",
    "    #convert to WGS84 pseudo-mercator\n",
    "    .to_crs(3857)\n",
    "    #drop old lat lon cols\n",
    "    .drop(['lat', 'lon'], axis=1)\n",
    ")"
   ]
  },
  {
   "cell_type": "markdown",
   "metadata": {},
   "source": [
    "### Port and Dock Data\n",
    "\n",
    "Locations and descriptions for each dock and port come from the BTS and USACE online databases. "
   ]
  },
  {
   "cell_type": "code",
   "execution_count": 7,
   "metadata": {},
   "outputs": [],
   "source": [
    "#load port data\n",
    "ports_gdf = (\n",
    "    #read in shape file downloaded from BTS\n",
    "    gpd.read_file('port data/Principal_Ports/Principal_Ports.shp')\n",
    "    #drop unneeded columns\n",
    "    .drop([\n",
    "        'FID', #randomly assigned table id\n",
    "        'PORT', #unknown numeric ID - not CBP or UN code\n",
    "        'FOREIGN_','EXPORTS', 'IMPORTS', 'DOMESTIC' #breadown of total vol (tons)\n",
    "    ], axis=1)\n",
    ")\n",
    "#set col names to pythonic lowercase\n",
    "ports_gdf.columns = ports_gdf.columns.str.lower()\n",
    "\n",
    "#load dock data\n",
    "docks_gdf = (\n",
    "    #read in shape file downloaded from USACE\n",
    "    gpd.read_file('port data/Dock/Dock.shp')\n",
    "    #drop unneeded columns\n",
    "    .drop([\n",
    "        'FID', #randomly assigned table id\n",
    "        'LONGITUDE', 'LATITUDE', #already coded in 'geometry' \n",
    "        'LOCATION_D', #text description of dock location\n",
    "        'STREET_ADD','ZIPCODE', #street address details\n",
    "        'PSA_NAME', #statistical area name, rarely used\n",
    "        'COUNTY_NAM', 'COUNTY_FIP', 'CONGRESS', 'CONGRESS_F', #county and congress info\n",
    "        'MILE', 'BANK', 'LATITUDE1', 'LONGITUDE1', #redundant locaation data\n",
    "        'OPERATORS', 'OWNERS', #owner info\n",
    "        'PURPOSE', #long-form text description of dock uses\n",
    "        'DOCK', #unknown number (not unique to each row/dock)\n",
    "        'HIGHWAY_NO', 'RAILWAY_NO', 'LOCATION', #redundant location info\n",
    "        'COMMODITIE', 'CONSTRUCTI','MECHANICAL', 'REMARKS', 'VERTICAL_D', \n",
    "        'DEPTH_MIN', 'DEPTH_MAX','BERTHING_L', 'BERTHING_T', 'DECK_HEIGH', \n",
    "        'DECK_HEI_1', #these are rarely used stats on construction\n",
    "        'SERVICE_IN','SERVICE_TE', #rarely used indicators of data entry date \n",
    "    ], axis=1)\n",
    "    #drop duplicates with matching geometries, keeping most common data\n",
    "    .groupby('geometry').agg(pd.Series.mode).reset_index()\n",
    "    #rename cols for clarity\n",
    "    .rename(columns={\n",
    "        'NAV_UNIT_I':'nav_unit_id',\n",
    "        'NAV_UNIT_N':'nav_unit_name',\n",
    "        'FACILITY_T':'facility_type',\n",
    "        'CITY_OR_TO':'city',\n",
    "        'STATE_POST':'state'\n",
    "    })\n",
    ")\n",
    "#set col names to pythonic lowercase\n",
    "docks_gdf.columns = docks_gdf.columns.str.lower()\n",
    "\n",
    "#coerse back to gdf - groupby appears to have kicked it back to pandas core\n",
    "docks_gdf = gpd.GeoDataFrame(docks_gdf, geometry='geometry', crs=3857)"
   ]
  },
  {
   "cell_type": "markdown",
   "metadata": {},
   "source": [
    "### Matching Port and Dock data with AIS Messages\n",
    "\n",
    "First, we match each of the moored (aka \"docked\" aka \"at berth\") AIS messages with the nearest port, then backfill the preceeding AIS status changes with the relevant port info. This allows us to observe which port the vessel was headed towards at any give time. \n",
    "\n",
    "A similar operation is performed with each dock. "
   ]
  },
  {
   "cell_type": "code",
   "execution_count": 8,
   "metadata": {},
   "outputs": [],
   "source": [
    "start = time.time()\n",
    "stops_gdf = (\n",
    "    #filter to only moorings\n",
    "    ais_gdf[ais_gdf.status == 5]\n",
    "    #join in nearest port to each ais message\n",
    "    .sjoin_nearest(ports_gdf, how='left', exclusive=True,\n",
    "                   #set max distance to 10km\n",
    "                   max_distance = 10000\n",
    "                   )\n",
    "    #drop unneeded cols\n",
    "    .drop(['index_right', 'total'], axis=1)\n",
    "    #rename cols for clarity\n",
    "    .rename({'rank':'port_rank', 'type':'port_type'}, axis=1)\n",
    ")\n",
    "\n",
    "#create main df\n",
    "main_gdf = (\n",
    "    #merge stops back into AIS data\n",
    "    ais_gdf.merge(stops_gdf, how='left')\n",
    "    #sort by vessel then time of message\n",
    "    .sort_values(by=['mmsi', 'time'])\n",
    ")\n",
    "#mark port name to unknown for docking messages not matched within max distance\n",
    "main_gdf.loc[(main_gdf.status==5) & main_gdf.port_name.isnull(), 'port_name'] = 'unknown'\n",
    "#backfill port info across vessels, except geometry (normal pandas syntax not supported for gpd geometry)\n",
    "main_gdf[['port_type','port_name','port_rank']] = (\n",
    "    main_gdf[['mmsi', 'port_type','port_name','port_rank']].groupby('mmsi').bfill()\n",
    ")\n",
    "#drop messages with missing or unknown port info (these vessels did not dock near a US port)\n",
    "main_gdf = main_gdf[main_gdf['port_name'].notnull() & (main_gdf['port_name']!='unknown')]\n",
    "#merge port geometries into main (NOTE backfill not supported for gpd geometry, hence the separate merge step)\n",
    "main_gdf = main_gdf.merge(ports_gdf[['port_name', 'geometry']], \n",
    "                          on='port_name', how='left', suffixes=[None, '_port'])\n",
    "#compute distance from message loc to port loc\n",
    "main_gdf['port_dist'] = main_gdf['geometry'].distance(main_gdf['geometry_port'])\n",
    "#create year and month cols for convenience\n",
    "main_gdf['year'] = main_gdf['time'].dt.year\n",
    "main_gdf['month'] = main_gdf['time'].dt.strftime('%Y%m')"
   ]
  },
  {
   "cell_type": "code",
   "execution_count": 9,
   "metadata": {},
   "outputs": [],
   "source": [
    "#add dock info to main df\n",
    "dockstops_gdf = (\n",
    "    #filter to only moorings\n",
    "    main_gdf[main_gdf.status == 5]\n",
    "    #join in nearest dock to each ais message\n",
    "    .sjoin_nearest(\n",
    "        #keep only dock id\n",
    "        docks_gdf[['nav_unit_id', 'geometry']],\n",
    "        #max distanance 1km\n",
    "        max_distance = 1000, \n",
    "        how='left')\n",
    "    #drop unneeded cols\n",
    "    .drop(['index_right'], axis=1)\n",
    ")\n",
    "\n",
    "#merge docks match back into main gdf\n",
    "main_gdf = (\n",
    "    #merge stops back into AIS data\n",
    "    main_gdf.merge(dockstops_gdf, how='left')\n",
    "    #sort by vessel then time of message\n",
    "    .sort_values(by=['mmsi', 'time'])\n",
    ")\n",
    "#backfill dock info across vessels, except geometry (normal pandas syntax not supported for gpd geometry)\n",
    "main_gdf[['nav_unit_id']] = (\n",
    "    main_gdf[['mmsi', 'nav_unit_id']].groupby('mmsi').bfill()\n",
    ")\n",
    "#coerse nav_unit_ids to string for merge \n",
    "main_gdf['nav_unit_id'] = main_gdf['nav_unit_id'].astype(str)\n",
    "docks_gdf['nav_unit_id'] = docks_gdf['nav_unit_id'].astype(str)\n",
    "#merge dock geometries into main (NOTE backfill not supported for gpd geometry, hence the separate merge step)\n",
    "main_gdf = main_gdf.merge(docks_gdf[['nav_unit_id', 'geometry']], \n",
    "                          on='nav_unit_id', how='left', suffixes=[None, '_dock'])\n",
    "#compute distance from message loc to dock loc\n",
    "main_gdf['dock_dist'] = main_gdf['geometry'].distance(main_gdf['geometry_dock'])\n",
    "#rename nav_unit_id to dock_id\n",
    "main_gdf.rename({'nav_unit_id':'dock_id'}, axis=1, inplace=True)\n",
    "\n",
    "#add port and dock lat and long to preserve geometries in polars and pandas dfs\n",
    "main_gdf['port_lat'] = main_gdf.set_geometry('geometry_port').to_crs(\"EPSG:4326\").geometry_port.y\n",
    "main_gdf['port_lon'] = main_gdf.set_geometry('geometry_port').to_crs(\"EPSG:4326\").geometry_port.x\n",
    "main_gdf['dock_lat'] = main_gdf.set_geometry('geometry_dock').to_crs(\"EPSG:4326\").geometry_port.y\n",
    "main_gdf['dock_lon'] = main_gdf.set_geometry('geometry_dock').to_crs(\"EPSG:4326\").geometry_port.x"
   ]
  },
  {
   "cell_type": "code",
   "execution_count": 10,
   "metadata": {},
   "outputs": [
    {
     "data": {
      "text/plain": [
       "(867394, 31)"
      ]
     },
     "metadata": {},
     "output_type": "display_data"
    },
    {
     "data": {
      "text/html": [
       "<div>\n",
       "<style scoped>\n",
       "    .dataframe tbody tr th:only-of-type {\n",
       "        vertical-align: middle;\n",
       "    }\n",
       "\n",
       "    .dataframe tbody tr th {\n",
       "        vertical-align: top;\n",
       "    }\n",
       "\n",
       "    .dataframe thead th {\n",
       "        text-align: right;\n",
       "    }\n",
       "</style>\n",
       "<table border=\"1\" class=\"dataframe\">\n",
       "  <thead>\n",
       "    <tr style=\"text-align: right;\">\n",
       "      <th></th>\n",
       "      <th>mmsi</th>\n",
       "      <th>time</th>\n",
       "      <th>speed</th>\n",
       "      <th>course</th>\n",
       "      <th>heading</th>\n",
       "      <th>status</th>\n",
       "      <th>vessel_name</th>\n",
       "      <th>vessel_type</th>\n",
       "      <th>imo</th>\n",
       "      <th>length</th>\n",
       "      <th>width</th>\n",
       "      <th>draft</th>\n",
       "      <th>cargo</th>\n",
       "      <th>status_previous</th>\n",
       "      <th>status_duration</th>\n",
       "      <th>short</th>\n",
       "      <th>geometry</th>\n",
       "      <th>port_type</th>\n",
       "      <th>port_name</th>\n",
       "      <th>port_rank</th>\n",
       "      <th>geometry_port</th>\n",
       "      <th>port_dist</th>\n",
       "      <th>year</th>\n",
       "      <th>month</th>\n",
       "      <th>dock_id</th>\n",
       "      <th>geometry_dock</th>\n",
       "      <th>dock_dist</th>\n",
       "      <th>port_lat</th>\n",
       "      <th>port_lon</th>\n",
       "      <th>dock_lat</th>\n",
       "      <th>dock_lon</th>\n",
       "    </tr>\n",
       "  </thead>\n",
       "  <tbody>\n",
       "    <tr>\n",
       "      <th>0</th>\n",
       "      <td>205042000</td>\n",
       "      <td>2021-11-27 18:01:51</td>\n",
       "      <td>1.4</td>\n",
       "      <td>135.6</td>\n",
       "      <td>95.0</td>\n",
       "      <td>0.0</td>\n",
       "      <td>DELOS</td>\n",
       "      <td>80.0</td>\n",
       "      <td>9877767.0</td>\n",
       "      <td>336.0</td>\n",
       "      <td>60.0</td>\n",
       "      <td>13.1</td>\n",
       "      <td>80.0</td>\n",
       "      <td>5.0</td>\n",
       "      <td>180.0</td>\n",
       "      <td>False</td>\n",
       "      <td>POINT (-10789383.384 3220133.945)</td>\n",
       "      <td>C</td>\n",
       "      <td>Port of Long Beach, CA</td>\n",
       "      <td>5.0</td>\n",
       "      <td>POINT (-13159021.347 3993886.017)</td>\n",
       "      <td>2.492765e+06</td>\n",
       "      <td>2021</td>\n",
       "      <td>202111</td>\n",
       "      <td>0V0U</td>\n",
       "      <td>POINT (-13160065.524 3996249.272)</td>\n",
       "      <td>2.494492e+06</td>\n",
       "      <td>33.73957</td>\n",
       "      <td>-118.2095</td>\n",
       "      <td>3.993886e+06</td>\n",
       "      <td>-1.315902e+07</td>\n",
       "    </tr>\n",
       "    <tr>\n",
       "      <th>1</th>\n",
       "      <td>205042000</td>\n",
       "      <td>2021-11-27 21:02:31</td>\n",
       "      <td>2.1</td>\n",
       "      <td>150.7</td>\n",
       "      <td>119.0</td>\n",
       "      <td>3.0</td>\n",
       "      <td>DELOS</td>\n",
       "      <td>80.0</td>\n",
       "      <td>9877767.0</td>\n",
       "      <td>336.0</td>\n",
       "      <td>60.0</td>\n",
       "      <td>13.1</td>\n",
       "      <td>80.0</td>\n",
       "      <td>5.0</td>\n",
       "      <td>1880.0</td>\n",
       "      <td>False</td>\n",
       "      <td>POINT (-10745670.446 3209846.487)</td>\n",
       "      <td>C</td>\n",
       "      <td>Port of Long Beach, CA</td>\n",
       "      <td>5.0</td>\n",
       "      <td>POINT (-13159021.347 3993886.017)</td>\n",
       "      <td>2.537515e+06</td>\n",
       "      <td>2021</td>\n",
       "      <td>202111</td>\n",
       "      <td>0V0U</td>\n",
       "      <td>POINT (-13160065.524 3996249.272)</td>\n",
       "      <td>2.539239e+06</td>\n",
       "      <td>33.73957</td>\n",
       "      <td>-118.2095</td>\n",
       "      <td>3.993886e+06</td>\n",
       "      <td>-1.315902e+07</td>\n",
       "    </tr>\n",
       "    <tr>\n",
       "      <th>2</th>\n",
       "      <td>205042000</td>\n",
       "      <td>2021-11-29 04:22:45</td>\n",
       "      <td>3.6</td>\n",
       "      <td>121.9</td>\n",
       "      <td>109.0</td>\n",
       "      <td>0.0</td>\n",
       "      <td>DELOS</td>\n",
       "      <td>80.0</td>\n",
       "      <td>9877767.0</td>\n",
       "      <td>336.0</td>\n",
       "      <td>60.0</td>\n",
       "      <td>20.1</td>\n",
       "      <td>80.0</td>\n",
       "      <td>3.0</td>\n",
       "      <td>534745.0</td>\n",
       "      <td>False</td>\n",
       "      <td>POINT (-10768169.229 3064348.133)</td>\n",
       "      <td>C</td>\n",
       "      <td>Port of Long Beach, CA</td>\n",
       "      <td>5.0</td>\n",
       "      <td>POINT (-13159021.347 3993886.017)</td>\n",
       "      <td>2.565193e+06</td>\n",
       "      <td>2021</td>\n",
       "      <td>202111</td>\n",
       "      <td>0V0U</td>\n",
       "      <td>POINT (-13160065.524 3996249.272)</td>\n",
       "      <td>2.567023e+06</td>\n",
       "      <td>33.73957</td>\n",
       "      <td>-118.2095</td>\n",
       "      <td>3.993886e+06</td>\n",
       "      <td>-1.315902e+07</td>\n",
       "    </tr>\n",
       "    <tr>\n",
       "      <th>3</th>\n",
       "      <td>205042000</td>\n",
       "      <td>2022-12-05 12:48:11</td>\n",
       "      <td>0.7</td>\n",
       "      <td>161.7</td>\n",
       "      <td>0.0</td>\n",
       "      <td>1.0</td>\n",
       "      <td>DELOS</td>\n",
       "      <td>80.0</td>\n",
       "      <td>9877767.0</td>\n",
       "      <td>336.0</td>\n",
       "      <td>60.0</td>\n",
       "      <td>20.3</td>\n",
       "      <td>80.0</td>\n",
       "      <td>0.0</td>\n",
       "      <td>742.0</td>\n",
       "      <td>False</td>\n",
       "      <td>POINT (-13144130.139 3978148.735)</td>\n",
       "      <td>C</td>\n",
       "      <td>Port of Long Beach, CA</td>\n",
       "      <td>5.0</td>\n",
       "      <td>POINT (-13159021.347 3993886.017)</td>\n",
       "      <td>2.166587e+04</td>\n",
       "      <td>2022</td>\n",
       "      <td>202212</td>\n",
       "      <td>0V0U</td>\n",
       "      <td>POINT (-13160065.524 3996249.272)</td>\n",
       "      <td>2.411568e+04</td>\n",
       "      <td>33.73957</td>\n",
       "      <td>-118.2095</td>\n",
       "      <td>3.993886e+06</td>\n",
       "      <td>-1.315902e+07</td>\n",
       "    </tr>\n",
       "    <tr>\n",
       "      <th>4</th>\n",
       "      <td>205042000</td>\n",
       "      <td>2022-12-06 01:10:28</td>\n",
       "      <td>3.1</td>\n",
       "      <td>201.6</td>\n",
       "      <td>205.0</td>\n",
       "      <td>0.0</td>\n",
       "      <td>DELOS</td>\n",
       "      <td>80.0</td>\n",
       "      <td>9877767.0</td>\n",
       "      <td>336.0</td>\n",
       "      <td>60.0</td>\n",
       "      <td>20.3</td>\n",
       "      <td>80.0</td>\n",
       "      <td>3.0</td>\n",
       "      <td>750.0</td>\n",
       "      <td>False</td>\n",
       "      <td>POINT (-13144426.248 3978187.503)</td>\n",
       "      <td>C</td>\n",
       "      <td>Port of Long Beach, CA</td>\n",
       "      <td>5.0</td>\n",
       "      <td>POINT (-13159021.347 3993886.017)</td>\n",
       "      <td>2.143502e+04</td>\n",
       "      <td>2022</td>\n",
       "      <td>202212</td>\n",
       "      <td>0V0U</td>\n",
       "      <td>POINT (-13160065.524 3996249.272)</td>\n",
       "      <td>2.389172e+04</td>\n",
       "      <td>33.73957</td>\n",
       "      <td>-118.2095</td>\n",
       "      <td>3.993886e+06</td>\n",
       "      <td>-1.315902e+07</td>\n",
       "    </tr>\n",
       "  </tbody>\n",
       "</table>\n",
       "</div>"
      ],
      "text/plain": [
       "        mmsi                time  speed  course  heading  status vessel_name  \\\n",
       "0  205042000 2021-11-27 18:01:51    1.4   135.6     95.0     0.0       DELOS   \n",
       "1  205042000 2021-11-27 21:02:31    2.1   150.7    119.0     3.0       DELOS   \n",
       "2  205042000 2021-11-29 04:22:45    3.6   121.9    109.0     0.0       DELOS   \n",
       "3  205042000 2022-12-05 12:48:11    0.7   161.7      0.0     1.0       DELOS   \n",
       "4  205042000 2022-12-06 01:10:28    3.1   201.6    205.0     0.0       DELOS   \n",
       "\n",
       "   vessel_type        imo  length  width  draft  cargo  status_previous  \\\n",
       "0         80.0  9877767.0   336.0   60.0   13.1   80.0              5.0   \n",
       "1         80.0  9877767.0   336.0   60.0   13.1   80.0              5.0   \n",
       "2         80.0  9877767.0   336.0   60.0   20.1   80.0              3.0   \n",
       "3         80.0  9877767.0   336.0   60.0   20.3   80.0              0.0   \n",
       "4         80.0  9877767.0   336.0   60.0   20.3   80.0              3.0   \n",
       "\n",
       "   status_duration  short                           geometry port_type  \\\n",
       "0            180.0  False  POINT (-10789383.384 3220133.945)         C   \n",
       "1           1880.0  False  POINT (-10745670.446 3209846.487)         C   \n",
       "2         534745.0  False  POINT (-10768169.229 3064348.133)         C   \n",
       "3            742.0  False  POINT (-13144130.139 3978148.735)         C   \n",
       "4            750.0  False  POINT (-13144426.248 3978187.503)         C   \n",
       "\n",
       "                port_name  port_rank                      geometry_port  \\\n",
       "0  Port of Long Beach, CA        5.0  POINT (-13159021.347 3993886.017)   \n",
       "1  Port of Long Beach, CA        5.0  POINT (-13159021.347 3993886.017)   \n",
       "2  Port of Long Beach, CA        5.0  POINT (-13159021.347 3993886.017)   \n",
       "3  Port of Long Beach, CA        5.0  POINT (-13159021.347 3993886.017)   \n",
       "4  Port of Long Beach, CA        5.0  POINT (-13159021.347 3993886.017)   \n",
       "\n",
       "      port_dist  year   month dock_id                      geometry_dock  \\\n",
       "0  2.492765e+06  2021  202111    0V0U  POINT (-13160065.524 3996249.272)   \n",
       "1  2.537515e+06  2021  202111    0V0U  POINT (-13160065.524 3996249.272)   \n",
       "2  2.565193e+06  2021  202111    0V0U  POINT (-13160065.524 3996249.272)   \n",
       "3  2.166587e+04  2022  202212    0V0U  POINT (-13160065.524 3996249.272)   \n",
       "4  2.143502e+04  2022  202212    0V0U  POINT (-13160065.524 3996249.272)   \n",
       "\n",
       "      dock_dist  port_lat  port_lon      dock_lat      dock_lon  \n",
       "0  2.494492e+06  33.73957 -118.2095  3.993886e+06 -1.315902e+07  \n",
       "1  2.539239e+06  33.73957 -118.2095  3.993886e+06 -1.315902e+07  \n",
       "2  2.567023e+06  33.73957 -118.2095  3.993886e+06 -1.315902e+07  \n",
       "3  2.411568e+04  33.73957 -118.2095  3.993886e+06 -1.315902e+07  \n",
       "4  2.389172e+04  33.73957 -118.2095  3.993886e+06 -1.315902e+07  "
      ]
     },
     "execution_count": 10,
     "metadata": {},
     "output_type": "execute_result"
    }
   ],
   "source": [
    "display(main_gdf.shape)\n",
    "main_gdf.head()"
   ]
  },
  {
   "cell_type": "markdown",
   "metadata": {},
   "source": [
    "## Save data for presentation in dash app"
   ]
  },
  {
   "cell_type": "code",
   "execution_count": 11,
   "metadata": {},
   "outputs": [],
   "source": [
    "#%%script echo skipping\n",
    "#convert to polars\n",
    "main_df = pl.DataFrame(\n",
    "    main_gdf.drop(['geometry', 'geometry_port', 'geometry_dock'], axis=1)\n",
    "    )\n",
    "\n",
    "#save to parquet\n",
    "main_df.write_parquet('port data/dashboard/main.parquet')"
   ]
  },
  {
   "cell_type": "markdown",
   "metadata": {},
   "source": [
    "## Performance Metrics and Exploratory Analysis\n",
    "\n",
    "### Stats for most recent 12 months\n",
    "\n",
    "The eventual dashboard will present some statistics and visualizations based on data from the most recently available 12 months. "
   ]
  },
  {
   "cell_type": "code",
   "execution_count": 12,
   "metadata": {},
   "outputs": [],
   "source": [
    "#get most recent twelve month window that appears in the data\n",
    "latest_date = main_gdf.time.max()\n",
    "year_before = latest_date - pd.DateOffset(months=12)\n",
    "\n",
    "#create ports stats for most recent 12 months\n",
    "portstats_last12months_gdf = (\n",
    "    #convert main gdf to polars\n",
    "    pl.DataFrame(\n",
    "        main_gdf.drop(['geometry', 'geometry_port', 'geometry_dock'], axis=1)\n",
    "    )\n",
    "    #filter to most recent 12 months\n",
    "    .filter(pl.col('time')>= year_before)\n",
    "    #ensure sorting\n",
    "    .sort(['mmsi', 'time'])\n",
    "    #create row index (for identifying docking events)\n",
    "    .with_row_index('docking_id')\n",
    "    .with_columns(\n",
    "        #create docking event id - NOTE may need to ensure this captures all relevant messages\n",
    "        docking_id = (\n",
    "            #keep only docking ids associated with docking messages\n",
    "            pl.when(pl.col('status')==5)\n",
    "            .then(pl.col('docking_id'))\n",
    "            .otherwise(pl.lit(None))\n",
    "            #backfill over vessel\n",
    "            .backward_fill().over('mmsi')\n",
    "        )\n",
    "    )\n",
    "    #drop messages not associated with a docking event\n",
    "    .drop_nulls(subset='docking_id')\n",
    "    .with_columns(\n",
    "        #sum anchorage time for each docking event\n",
    "        time_at_anchor = (\n",
    "            pl.when(pl.col('status')==1)\n",
    "            .then(pl.col('status_duration'))\n",
    "            .otherwise(pl.lit(None))\n",
    "            .sum().over('docking_id')\n",
    "        ),\n",
    "        #get monthly vessels and visits\n",
    "        vessels = pl.col('mmsi').n_unique().over('port_name', 'month'),\n",
    "        visits = pl.col('docking_id').n_unique().over('port_name', 'month')\n",
    "    )\n",
    "    #aggregate to ports\n",
    "    .group_by('port_name')\n",
    "    .agg(\n",
    "        #keep lat and long\n",
    "        port_lat = pl.col('port_lat').first(),\n",
    "        port_lon = pl.col('port_lon').first(),\n",
    "        #get monthly average of unique vessels seen at each port\n",
    "        vessels_avg = pl.col('vessels').mean(),\n",
    "        #get monthly average of vessel visits at each port\n",
    "        visits_avg = pl.col('visits').mean(),\n",
    "        #get median time at berth in hours\n",
    "        time_at_berth_median = (\n",
    "            pl.when(pl.col('status')==5)\n",
    "            .then(pl.col('status_duration'))\n",
    "            .otherwise(pl.lit(None))\n",
    "        ).median()/60,\n",
    "        #get median time at anchor in hours\n",
    "        time_at_anchor_median = pl.col('time_at_anchor').median()/60,\n",
    "        #get mean time at anchor in hours\n",
    "        time_at_anchor_mean = pl.col('time_at_anchor').mean()/60\n",
    "    )\n",
    "    #convert to pandas to that geopandas is happy\n",
    "    .to_pandas()\n",
    ")\n",
    "#convert back to geodataframe\n",
    "portstats_last12months_gdf = (\n",
    "    gpd.GeoDataFrame(\n",
    "        portstats_last12months_gdf, \n",
    "        geometry=gpd.points_from_xy(portstats_last12months_gdf.port_lon, \n",
    "                                    portstats_last12months_gdf.port_lat),\n",
    "        crs=3857\n",
    "    )\n",
    ")"
   ]
  },
  {
   "cell_type": "code",
   "execution_count": 107,
   "metadata": {},
   "outputs": [],
   "source": [
    "#create docks stats for most recent 12 months\n",
    "dockstats_last12months_gdf = (\n",
    "    #convert main gdf to polars\n",
    "    pl.DataFrame(\n",
    "        main_gdf.drop(['geometry', 'geometry_port', 'geometry_dock'], axis=1))\n",
    "    #filter to most recent 12 months\n",
    "    .filter(pl.col('time')>= year_before)\n",
    "    #ensure sorting\n",
    "    .sort(['mmsi', 'time'])\n",
    "    #create row index (for identifying docking events)\n",
    "    .with_row_index('docking_id')\n",
    "    .with_columns(\n",
    "        #get monthly count of vessels\n",
    "        vessels = pl.col('mmsi').n_unique().over('dock_id', 'month'),\n",
    "        #get monthly count of vessel docking events - NOTE this may need revision \n",
    "        visits = (\n",
    "            pl.when(pl.col('status')==5)\n",
    "            .then(pl.col('time'))\n",
    "            .otherwise(pl.lit(None))\n",
    "            .n_unique().over('dock_id', 'month')\n",
    "        ),\n",
    "        #create docking event id\n",
    "        docking_id = (\n",
    "            pl.when(pl.col('status')==5)\n",
    "            .then(pl.col('docking_id'))\n",
    "            .otherwise(pl.lit(None))\n",
    "            .backward_fill().over('mmsi', 'dock_id')\n",
    "        )\n",
    "    )\n",
    "    .with_columns(\n",
    "        #sum anchorage time for each docking event\n",
    "        time_at_anchor = (\n",
    "            pl.when(pl.col('status')==1)\n",
    "            .then(pl.col('status_duration'))\n",
    "            .otherwise(pl.lit(None))\n",
    "            .sum().over('mmsi', 'docking_id')\n",
    "        )\n",
    "    )\n",
    "    #aggregate\n",
    "    .group_by('dock_id')\n",
    "    .agg(\n",
    "        #keep port name, dock lat and long\n",
    "        dock_lat = pl.col('dock_lat').first(),\n",
    "        dock_lon = pl.col('dock_lon').first(),\n",
    "        port_name = pl.col('port_name').mode().first(),\n",
    "        #get avg vessels and visits per month\n",
    "        vessels_avg = pl.col('vessels').mean(),\n",
    "        visits_avg = pl.col('visits').mean(),\n",
    "        #get median time at berth in hours\n",
    "        time_at_berth_avg = (\n",
    "            pl.when(pl.col('status')==5)\n",
    "            .then(pl.col('status_duration'))\n",
    "            .otherwise(pl.lit(None))\n",
    "        ).median()/60,\n",
    "        #get median time at anchor in hours\n",
    "        time_at_anchor_avg = (\n",
    "            pl.when(pl.col('status')==1)\n",
    "            .then(pl.col('status_duration'))\n",
    "            .otherwise(pl.lit(None))\n",
    "        ).median()/60\n",
    "    )\n",
    "    #convert to pandas to that geopandas is happy\n",
    "    .to_pandas()\n",
    ")\n",
    "\n",
    "#convert back to geodataframe\n",
    "dockstats_last12months_gdf = (\n",
    "    gpd.GeoDataFrame(\n",
    "        dockstats_last12months_gdf, \n",
    "        geometry=gpd.points_from_xy(dockstats_last12months_gdf.dock_lon, \n",
    "                                    dockstats_last12months_gdf.dock_lat),\n",
    "        crs=3857\n",
    "    )\n",
    ")"
   ]
  },
  {
   "cell_type": "markdown",
   "metadata": {},
   "source": [
    "### Monthly Stats"
   ]
  },
  {
   "cell_type": "code",
   "execution_count": 126,
   "metadata": {},
   "outputs": [],
   "source": [
    "monthly_df = (\n",
    "    #convert to polars\n",
    "    pl.DataFrame(main_gdf.drop(['geometry', 'geometry_port', 'geometry_dock'], axis=1))\n",
    "    #agg over ports and months\n",
    "    .group_by('port_name', 'month')\n",
    "    .agg(\n",
    "        #keep lat and long\n",
    "        lat = pl.col('port_lat').first(),\n",
    "        lon = pl.col('port_lon').first(),\n",
    "        #get monthly avg vessels\n",
    "        vessels_avg = pl.col('mmsi').n_unique(),\n",
    "        #get average time at berth\n",
    "        time_at_berth_avg = (\n",
    "            pl.when(pl.col('status')==5)\n",
    "            .then(pl.col('status_duration'))\n",
    "            .otherwise(pl.lit(None))\n",
    "        ).median()/60,\n",
    "        #get average time at anchor\n",
    "        time_at_anchor_avg = (\n",
    "            pl.when(pl.col('status')==1)\n",
    "            .then(pl.col('status_duration'))\n",
    "            .otherwise(pl.lit(None))\n",
    "        ).median()/60\n",
    "    )\n",
    ")"
   ]
  },
  {
   "cell_type": "markdown",
   "metadata": {},
   "source": [
    "## Visualizations"
   ]
  },
  {
   "cell_type": "code",
   "execution_count": 119,
   "metadata": {},
   "outputs": [
    {
     "data": {
      "application/vnd.plotly.v1+json": {
       "config": {
        "plotlyServerURL": "https://plot.ly"
       },
       "data": [
        {
         "geo": "geo",
         "hovertemplate": "<b>%{hovertext}</b><br><br>visits_avg=%{marker.size}<br>port_lat=%{lat}<br>port_lon=%{lon}<br>Median Hours at Berth=%{marker.color}<extra></extra>",
         "hovertext": [
          "Port of Greater Baton Rouge, LA",
          "South Jersey Port Corp, NJ",
          "Port of Savannah, GA",
          "Baltimore, MD",
          "Anacortes, WA",
          "Jacksonville, FL",
          "Orange County Nav District, TX",
          "Port of Brunswick, GA",
          "Houston Port Authority, TX",
          "New Haven, CT",
          "Kahului, Maui, HI",
          "Marblehead, OH",
          "San Francisco Port, CA",
          "Texas City, TX",
          "Seattle, WA",
          "Guayama, PR",
          "Richmond, CA",
          "Port of Los Angeles, CA",
          "Port of Gulfport, MS",
          "Plaquemines Port District, LA",
          "Philadelphia Regional Port, PA",
          "Clark Township, MI",
          "Honolulu, O'ahu, HI",
          "Marine City, MI",
          "Guaynabo, PR",
          "Sandusky, OH",
          "Calhoun Port Authority, TX",
          "Tacoma, WA",
          "Albany Port District, NY",
          "Port Arthur, TX",
          "Duluth-Superior, MN and WI",
          "Canaveral Port District, FL",
          "Coos Bay OR, Port of",
          "Port Freeport, TX",
          "Conneaut, OH",
          "Redwood City, CA",
          "Presque Isle Township, MI",
          "Port of Everett, WA",
          "Wilmington, DE",
          "Ashtabula Port Authority, OH",
          "Bridgeport, CT",
          "Sacramento-Yolo Port, CA",
          "Marquette, MI",
          "Cleveland-Cuyahoga Port, OH",
          "Corpus Christi, TX",
          "Port of Kalama, WA",
          "Wilmington, NC",
          "Detroit-Wayne County Port, MI",
          "Mueller Township, MI",
          "Mobile, AL",
          "Virginia, VA, Port of",
          "Kalaeloa Barbers Point, HI",
          "Green Bay, WI",
          "South Louisiana, LA, Port of",
          "Beaumont, TX",
          "Lake Charles Harbor District, LA",
          "Milwaukee, WI",
          "Yabucoa, PR",
          "Port of Palm Beach District, FL",
          "Two Harbors, MN",
          "Greater Lafourche Port, LA",
          "Silver Bay, MN",
          "New York, NY & NJ",
          "Toledo-Lucas County Port, OH",
          "Oxnard Harbor District, CA",
          "Northern Indiana District, IN",
          "Boston, MA",
          "Port of Oakland, CA",
          "Brownsville, TX",
          "PortMiami, FL",
          "San Diego Unified Port, CA",
          "Rogers City, MI",
          "Alpena, MI",
          "Port of Pascagoula, MS",
          "Port of Providence, RI",
          "Port of Vancouver USA, WA",
          "Manatee County Port, FL",
          "Galveston, TX",
          "Port of Longview, WA",
          "Port of Charleston, SC",
          "Port of Portland, OR",
          "Searsport, ME",
          "Nawiliwili, Kaua'i, HI",
          "Port Everglades, FL",
          "Portland, ME",
          "Portsmouth, NH",
          "Port of Long Beach, CA",
          "Virgin Islands - St. Croix, VI",
          "San Juan, PR",
          "Stockton, CA",
          "Monroe, MI",
          "New Orleans, LA",
          "Panama City Port Authority, FL",
          "Morehead City, NC",
          "Muskegon, MI"
         ],
         "lat": [
          30.422920000000016,
          39.846444999999974,
          32.08471099999998,
          39.25082699999997,
          48.49594299999999,
          30.32275700000004,
          30.095369999999946,
          31.132425999999985,
          29.74702299999999,
          41.29883000000003,
          20.898610000000005,
          41.52961999999998,
          37.80666500000003,
          29.36306800000003,
          47.58771099999997,
          17.938939000000016,
          37.92423699999999,
          33.726635000000016,
          30.35962100000001,
          29.480004000000008,
          39.91882,
          45.99138999999998,
          21.311110000000035,
          42.71544999999999,
          18.43022100000003,
          41.470220000000026,
          28.62938900000002,
          47.28966000000003,
          42.64271000000003,
          29.83141999999998,
          46.77836199999998,
          28.414089999999984,
          43.36350999999997,
          28.96133000000003,
          41.96671,
          37.50535999999999,
          45.29794,
          47.98476000000001,
          39.715889999999966,
          41.90368500000001,
          41.172,
          38.56132299999998,
          46.577291999999964,
          41.47851999999999,
          27.812769999999972,
          46.02659599999997,
          34.22736499999998,
          42.26909400000002,
          45.96942399999999,
          30.69123000000003,
          36.86641999999996,
          21.323066000000015,
          44.516215,
          30.033449999999988,
          30.084871999999983,
          30.106406000000028,
          42.98823999999999,
          18.05174300000002,
          26.76903999999999,
          47.014550999999976,
          29.121944999999982,
          47.29420800000001,
          40.67394899999999,
          41.66293999999997,
          34.14824399999996,
          41.62504700000002,
          42.34246800000003,
          37.82152,
          25.952201000000002,
          25.78286200000004,
          32.708209999999994,
          45.42229799999998,
          45.061966999999974,
          30.34801999999999,
          41.81177999999999,
          45.622440000000005,
          27.633680999999985,
          29.31048999999998,
          46.14222000000002,
          32.78878099999997,
          45.47881000000001,
          44.45285,
          21.95248399999999,
          26.09339200000001,
          43.64950999999999,
          43.073979999999985,
          33.73957000000002,
          17.752709999999958,
          18.432782999999972,
          37.95270000000001,
          41.91513400000002,
          29.914139999999975,
          30.133998000000016,
          34.71692999999996,
          43.22708300000002
         ],
         "legendgroup": "",
         "lon": [
          -91.19933999999976,
          -75.261085,
          -81.09538199999996,
          -76.56163999999995,
          -122.59960999999971,
          -81.66512500000005,
          -93.7235599999998,
          -81.53666000000001,
          -95.29367900000028,
          -72.90473000000003,
          -156.4727999999997,
          -82.70905999999998,
          -122.39904199999995,
          -94.91809099999998,
          -122.35921800000041,
          -66.15600200000002,
          -122.37423299999986,
          -118.26809900000029,
          -89.092568,
          -89.68744699999998,
          -75.20219099999998,
          -84.31280999999997,
          -157.87169999999958,
          -82.50235000000005,
          -66.11114099999999,
          -82.71227000000002,
          -96.59232400000002,
          -122.45149999999964,
          -73.74816000000003,
          -93.9606899999997,
          -92.0964080000003,
          -80.60814999999997,
          -124.20949999999986,
          -95.3707000000004,
          -80.54860000000004,
          -122.21401199999977,
          -83.42138200000002,
          -122.22940000000042,
          -75.50696999999997,
          -80.79397599999994,
          -73.17886000000004,
          -121.54154100000014,
          -87.384821,
          -81.67191000000001,
          -97.39789000000025,
          -122.86685999999972,
          -77.95049600000002,
          -83.10958600000001,
          -85.872972,
          -88.03583399999998,
          -76.31174000000001,
          -158.1136830000002,
          -88.01811800000002,
          -90.61793999999985,
          -94.09498499999985,
          -93.28683900000004,
          -87.89967000000003,
          -65.83622600000001,
          -80.05267000000002,
          -91.67068500000016,
          -90.20527900000023,
          -91.25638799999999,
          -74.03835699999998,
          -83.50750999999998,
          -119.20847500000015,
          -87.20250699999995,
          -71.032029,
          -122.30810000000015,
          -97.3981380000001,
          -80.18164200000001,
          -117.17839999999974,
          -83.81197199999998,
          -83.42173300000003,
          -88.55879000000003,
          -71.39844000000004,
          -122.68060000000018,
          -82.56414299999996,
          -94.81269999999991,
          -122.91399999999975,
          -79.92159500000001,
          -122.66529999999963,
          -68.92497000000002,
          -159.35231900000005,
          -80.11780099999996,
          -70.25133999999998,
          -70.73805999999996,
          -118.20950000000023,
          -64.73242,
          -66.09667800000001,
          -121.31560000000034,
          -83.39060899999993,
          -90.08525600000007,
          -85.63376199999999,
          -76.72421000000001,
          -86.34316000000001
         ],
         "marker": {
          "color": [
           1.4,
           25.141666666666666,
           26.116666666666667,
           22.983333333333334,
           29.325,
           22.1,
           2132.3166666666666,
           20.116666666666667,
           57.61666666666667,
           24.483333333333334,
           9.633333333333333,
           15.433333333333334,
           32.9,
           34.766666666666666,
           39.9,
           23.333333333333332,
           31.099999999999998,
           48.541666666666664,
           10.916666666666666,
           0.3416666666666667,
           16.28333333333333,
           10.8,
           31.466666666666665,
           8.366666666666667,
           44.81666666666666,
           13.283333333333333,
           32.63333333333333,
           22.691666666666666,
           46.666666666666664,
           42.05,
           17.35,
           31.716666666666665,
           128.81666666666666,
           32.25,
           16.383333333333333,
           27.016666666666666,
           11.933333333333334,
           32.083333333333336,
           40.05,
           42.96666666666667,
           11.825,
           116.63333333333333,
           9.525,
           12.15,
           45.541666666666664,
           54.71666666666667,
           17.091666666666665,
           11.341666666666667,
           9.041666666666666,
           38.56666666666666,
           19.608333333333334,
           47.575,
           18.116666666666667,
           47.275,
           20.075,
           32.36666666666667,
           16.358333333333334,
           42.56666666666666,
           28.15,
           14.549999999999999,
           36.35,
           23.016666666666666,
           30.9,
           15.166666666666666,
           20.491666666666667,
           25.466666666666665,
           19.666666666666668,
           34.766666666666666,
           65.21666666666667,
           14.65,
           21.833333333333332,
           14.516666666666666,
           10.166666666666666,
           44.166666666666664,
           25.849999999999998,
           35.266666666666666,
           22.28333333333333,
           24.708333333333332,
           88.68333333333334,
           21.666666666666668,
           226.79166666666666,
           26.016666666666666,
           20.833333333333332,
           14.4,
           16.633333333333333,
           23.708333333333332,
           36.43333333333333,
           12.233333333333333,
           14.25,
           51.06666666666666,
           10.225,
           27.55,
           61.50833333333333,
           51.11666666666667,
           8.058333333333334
          ],
          "coloraxis": "coloraxis",
          "size": [
           90.67605633802818,
           50.07741027445461,
           251.10786666666667,
           226.83756985758066,
           29.12857142857143,
           55.13985448666128,
           1,
           68.99728445349626,
           213.08386075949366,
           25.96981627296588,
           5.938775510204081,
           5.253521126760563,
           4.225,
           91.655879803525,
           60.24498886414254,
           3.634920634920635,
           70.30703624733475,
           181.5377030162413,
           26.71,
           2,
           114.55053935277667,
           8.274074074074074,
           49.43909626719057,
           6.107438016528926,
           37.846315789473685,
           7.552941176470588,
           23.165458937198068,
           116.71191135734072,
           10.602240896358543,
           101.02499349127831,
           31.53727506426735,
           34.60178970917226,
           3.6333333333333333,
           134.50303171641792,
           2.238095238095238,
           7.071065989847716,
           8.644970414201184,
           13.84959349593496,
           37.441347270615566,
           4.73,
           2.0588235294117645,
           7.953125,
           15.058659217877095,
           33.76144244105409,
           115.85108794197643,
           36.710387323943664,
           72.20617420066152,
           60.23615977575333,
           14.572033898305085,
           142.50764525993884,
           247.2756749035852,
           19,
           6.940740740740741,
           80.87228766274023,
           147.4508067689886,
           69.85541648683643,
           8.928888888888888,
           5.3882352941176475,
           33.36588380716935,
           8.5,
           16.01818181818182,
           4.114285714285714,
           88.27455529775716,
           17.96359223300971,
           51.52602739726027,
           20.927007299270073,
           59.683734939759034,
           101.55672345052555,
           27.696542893725994,
           109.86084005091217,
           35.47289504036909,
           14.178030303030303,
           3.2790697674418605,
           54.645754461871284,
           28.165730337078653,
           53.363939899833056,
           51.5998256320837,
           80.59295093296475,
           31.01387283236994,
           122.13459158415841,
           5.102739726027397,
           6.9,
           2.563380281690141,
           254.521407892732,
           29.49626307922272,
           8.570815450643776,
           241.98452836466478,
           66.44160104986877,
           108.43793402777777,
           30.658503401360544,
           6.6239316239316235,
           104.73690891780387,
           3.0652173913043477,
           17.895238095238096,
           1
          ],
          "sizemode": "area",
          "sizeref": 0.63630351973183,
          "symbol": "circle"
         },
         "mode": "markers",
         "name": "",
         "showlegend": false,
         "type": "scattergeo"
        }
       ],
       "layout": {
        "annotations": [
         {
          "align": "left",
          "font": {
           "color": "black",
           "size": 14
          },
          "showarrow": false,
          "text": "Note: Circle size corresponds to average vessel visits per month",
          "x": 0,
          "xref": "paper",
          "y": -0.05,
          "yref": "paper"
         }
        ],
        "coloraxis": {
         "cmax": 50,
         "cmin": 0,
         "colorbar": {
          "title": {
           "text": "Median Hours at Berth"
          }
         },
         "colorscale": [
          [
           0,
           "#440154"
          ],
          [
           0.1111111111111111,
           "#482878"
          ],
          [
           0.2222222222222222,
           "#3e4989"
          ],
          [
           0.3333333333333333,
           "#31688e"
          ],
          [
           0.4444444444444444,
           "#26828e"
          ],
          [
           0.5555555555555556,
           "#1f9e89"
          ],
          [
           0.6666666666666666,
           "#35b779"
          ],
          [
           0.7777777777777778,
           "#6ece58"
          ],
          [
           0.8888888888888888,
           "#b5de2b"
          ],
          [
           1,
           "#fde725"
          ]
         ]
        },
        "geo": {
         "center": {},
         "domain": {
          "x": [
           0,
           1
          ],
          "y": [
           0,
           1
          ]
         },
         "fitbounds": "locations"
        },
        "height": 600,
        "legend": {
         "itemsizing": "constant",
         "tracegroupgap": 0
        },
        "template": {
         "data": {
          "bar": [
           {
            "error_x": {
             "color": "#2a3f5f"
            },
            "error_y": {
             "color": "#2a3f5f"
            },
            "marker": {
             "line": {
              "color": "#E5ECF6",
              "width": 0.5
             },
             "pattern": {
              "fillmode": "overlay",
              "size": 10,
              "solidity": 0.2
             }
            },
            "type": "bar"
           }
          ],
          "barpolar": [
           {
            "marker": {
             "line": {
              "color": "#E5ECF6",
              "width": 0.5
             },
             "pattern": {
              "fillmode": "overlay",
              "size": 10,
              "solidity": 0.2
             }
            },
            "type": "barpolar"
           }
          ],
          "carpet": [
           {
            "aaxis": {
             "endlinecolor": "#2a3f5f",
             "gridcolor": "white",
             "linecolor": "white",
             "minorgridcolor": "white",
             "startlinecolor": "#2a3f5f"
            },
            "baxis": {
             "endlinecolor": "#2a3f5f",
             "gridcolor": "white",
             "linecolor": "white",
             "minorgridcolor": "white",
             "startlinecolor": "#2a3f5f"
            },
            "type": "carpet"
           }
          ],
          "choropleth": [
           {
            "colorbar": {
             "outlinewidth": 0,
             "ticks": ""
            },
            "type": "choropleth"
           }
          ],
          "contour": [
           {
            "colorbar": {
             "outlinewidth": 0,
             "ticks": ""
            },
            "colorscale": [
             [
              0,
              "#0d0887"
             ],
             [
              0.1111111111111111,
              "#46039f"
             ],
             [
              0.2222222222222222,
              "#7201a8"
             ],
             [
              0.3333333333333333,
              "#9c179e"
             ],
             [
              0.4444444444444444,
              "#bd3786"
             ],
             [
              0.5555555555555556,
              "#d8576b"
             ],
             [
              0.6666666666666666,
              "#ed7953"
             ],
             [
              0.7777777777777778,
              "#fb9f3a"
             ],
             [
              0.8888888888888888,
              "#fdca26"
             ],
             [
              1,
              "#f0f921"
             ]
            ],
            "type": "contour"
           }
          ],
          "contourcarpet": [
           {
            "colorbar": {
             "outlinewidth": 0,
             "ticks": ""
            },
            "type": "contourcarpet"
           }
          ],
          "heatmap": [
           {
            "colorbar": {
             "outlinewidth": 0,
             "ticks": ""
            },
            "colorscale": [
             [
              0,
              "#0d0887"
             ],
             [
              0.1111111111111111,
              "#46039f"
             ],
             [
              0.2222222222222222,
              "#7201a8"
             ],
             [
              0.3333333333333333,
              "#9c179e"
             ],
             [
              0.4444444444444444,
              "#bd3786"
             ],
             [
              0.5555555555555556,
              "#d8576b"
             ],
             [
              0.6666666666666666,
              "#ed7953"
             ],
             [
              0.7777777777777778,
              "#fb9f3a"
             ],
             [
              0.8888888888888888,
              "#fdca26"
             ],
             [
              1,
              "#f0f921"
             ]
            ],
            "type": "heatmap"
           }
          ],
          "heatmapgl": [
           {
            "colorbar": {
             "outlinewidth": 0,
             "ticks": ""
            },
            "colorscale": [
             [
              0,
              "#0d0887"
             ],
             [
              0.1111111111111111,
              "#46039f"
             ],
             [
              0.2222222222222222,
              "#7201a8"
             ],
             [
              0.3333333333333333,
              "#9c179e"
             ],
             [
              0.4444444444444444,
              "#bd3786"
             ],
             [
              0.5555555555555556,
              "#d8576b"
             ],
             [
              0.6666666666666666,
              "#ed7953"
             ],
             [
              0.7777777777777778,
              "#fb9f3a"
             ],
             [
              0.8888888888888888,
              "#fdca26"
             ],
             [
              1,
              "#f0f921"
             ]
            ],
            "type": "heatmapgl"
           }
          ],
          "histogram": [
           {
            "marker": {
             "pattern": {
              "fillmode": "overlay",
              "size": 10,
              "solidity": 0.2
             }
            },
            "type": "histogram"
           }
          ],
          "histogram2d": [
           {
            "colorbar": {
             "outlinewidth": 0,
             "ticks": ""
            },
            "colorscale": [
             [
              0,
              "#0d0887"
             ],
             [
              0.1111111111111111,
              "#46039f"
             ],
             [
              0.2222222222222222,
              "#7201a8"
             ],
             [
              0.3333333333333333,
              "#9c179e"
             ],
             [
              0.4444444444444444,
              "#bd3786"
             ],
             [
              0.5555555555555556,
              "#d8576b"
             ],
             [
              0.6666666666666666,
              "#ed7953"
             ],
             [
              0.7777777777777778,
              "#fb9f3a"
             ],
             [
              0.8888888888888888,
              "#fdca26"
             ],
             [
              1,
              "#f0f921"
             ]
            ],
            "type": "histogram2d"
           }
          ],
          "histogram2dcontour": [
           {
            "colorbar": {
             "outlinewidth": 0,
             "ticks": ""
            },
            "colorscale": [
             [
              0,
              "#0d0887"
             ],
             [
              0.1111111111111111,
              "#46039f"
             ],
             [
              0.2222222222222222,
              "#7201a8"
             ],
             [
              0.3333333333333333,
              "#9c179e"
             ],
             [
              0.4444444444444444,
              "#bd3786"
             ],
             [
              0.5555555555555556,
              "#d8576b"
             ],
             [
              0.6666666666666666,
              "#ed7953"
             ],
             [
              0.7777777777777778,
              "#fb9f3a"
             ],
             [
              0.8888888888888888,
              "#fdca26"
             ],
             [
              1,
              "#f0f921"
             ]
            ],
            "type": "histogram2dcontour"
           }
          ],
          "mesh3d": [
           {
            "colorbar": {
             "outlinewidth": 0,
             "ticks": ""
            },
            "type": "mesh3d"
           }
          ],
          "parcoords": [
           {
            "line": {
             "colorbar": {
              "outlinewidth": 0,
              "ticks": ""
             }
            },
            "type": "parcoords"
           }
          ],
          "pie": [
           {
            "automargin": true,
            "type": "pie"
           }
          ],
          "scatter": [
           {
            "fillpattern": {
             "fillmode": "overlay",
             "size": 10,
             "solidity": 0.2
            },
            "type": "scatter"
           }
          ],
          "scatter3d": [
           {
            "line": {
             "colorbar": {
              "outlinewidth": 0,
              "ticks": ""
             }
            },
            "marker": {
             "colorbar": {
              "outlinewidth": 0,
              "ticks": ""
             }
            },
            "type": "scatter3d"
           }
          ],
          "scattercarpet": [
           {
            "marker": {
             "colorbar": {
              "outlinewidth": 0,
              "ticks": ""
             }
            },
            "type": "scattercarpet"
           }
          ],
          "scattergeo": [
           {
            "marker": {
             "colorbar": {
              "outlinewidth": 0,
              "ticks": ""
             }
            },
            "type": "scattergeo"
           }
          ],
          "scattergl": [
           {
            "marker": {
             "colorbar": {
              "outlinewidth": 0,
              "ticks": ""
             }
            },
            "type": "scattergl"
           }
          ],
          "scattermapbox": [
           {
            "marker": {
             "colorbar": {
              "outlinewidth": 0,
              "ticks": ""
             }
            },
            "type": "scattermapbox"
           }
          ],
          "scatterpolar": [
           {
            "marker": {
             "colorbar": {
              "outlinewidth": 0,
              "ticks": ""
             }
            },
            "type": "scatterpolar"
           }
          ],
          "scatterpolargl": [
           {
            "marker": {
             "colorbar": {
              "outlinewidth": 0,
              "ticks": ""
             }
            },
            "type": "scatterpolargl"
           }
          ],
          "scatterternary": [
           {
            "marker": {
             "colorbar": {
              "outlinewidth": 0,
              "ticks": ""
             }
            },
            "type": "scatterternary"
           }
          ],
          "surface": [
           {
            "colorbar": {
             "outlinewidth": 0,
             "ticks": ""
            },
            "colorscale": [
             [
              0,
              "#0d0887"
             ],
             [
              0.1111111111111111,
              "#46039f"
             ],
             [
              0.2222222222222222,
              "#7201a8"
             ],
             [
              0.3333333333333333,
              "#9c179e"
             ],
             [
              0.4444444444444444,
              "#bd3786"
             ],
             [
              0.5555555555555556,
              "#d8576b"
             ],
             [
              0.6666666666666666,
              "#ed7953"
             ],
             [
              0.7777777777777778,
              "#fb9f3a"
             ],
             [
              0.8888888888888888,
              "#fdca26"
             ],
             [
              1,
              "#f0f921"
             ]
            ],
            "type": "surface"
           }
          ],
          "table": [
           {
            "cells": {
             "fill": {
              "color": "#EBF0F8"
             },
             "line": {
              "color": "white"
             }
            },
            "header": {
             "fill": {
              "color": "#C8D4E3"
             },
             "line": {
              "color": "white"
             }
            },
            "type": "table"
           }
          ]
         },
         "layout": {
          "annotationdefaults": {
           "arrowcolor": "#2a3f5f",
           "arrowhead": 0,
           "arrowwidth": 1
          },
          "autotypenumbers": "strict",
          "coloraxis": {
           "colorbar": {
            "outlinewidth": 0,
            "ticks": ""
           }
          },
          "colorscale": {
           "diverging": [
            [
             0,
             "#8e0152"
            ],
            [
             0.1,
             "#c51b7d"
            ],
            [
             0.2,
             "#de77ae"
            ],
            [
             0.3,
             "#f1b6da"
            ],
            [
             0.4,
             "#fde0ef"
            ],
            [
             0.5,
             "#f7f7f7"
            ],
            [
             0.6,
             "#e6f5d0"
            ],
            [
             0.7,
             "#b8e186"
            ],
            [
             0.8,
             "#7fbc41"
            ],
            [
             0.9,
             "#4d9221"
            ],
            [
             1,
             "#276419"
            ]
           ],
           "sequential": [
            [
             0,
             "#0d0887"
            ],
            [
             0.1111111111111111,
             "#46039f"
            ],
            [
             0.2222222222222222,
             "#7201a8"
            ],
            [
             0.3333333333333333,
             "#9c179e"
            ],
            [
             0.4444444444444444,
             "#bd3786"
            ],
            [
             0.5555555555555556,
             "#d8576b"
            ],
            [
             0.6666666666666666,
             "#ed7953"
            ],
            [
             0.7777777777777778,
             "#fb9f3a"
            ],
            [
             0.8888888888888888,
             "#fdca26"
            ],
            [
             1,
             "#f0f921"
            ]
           ],
           "sequentialminus": [
            [
             0,
             "#0d0887"
            ],
            [
             0.1111111111111111,
             "#46039f"
            ],
            [
             0.2222222222222222,
             "#7201a8"
            ],
            [
             0.3333333333333333,
             "#9c179e"
            ],
            [
             0.4444444444444444,
             "#bd3786"
            ],
            [
             0.5555555555555556,
             "#d8576b"
            ],
            [
             0.6666666666666666,
             "#ed7953"
            ],
            [
             0.7777777777777778,
             "#fb9f3a"
            ],
            [
             0.8888888888888888,
             "#fdca26"
            ],
            [
             1,
             "#f0f921"
            ]
           ]
          },
          "colorway": [
           "#636efa",
           "#EF553B",
           "#00cc96",
           "#ab63fa",
           "#FFA15A",
           "#19d3f3",
           "#FF6692",
           "#B6E880",
           "#FF97FF",
           "#FECB52"
          ],
          "font": {
           "color": "#2a3f5f"
          },
          "geo": {
           "bgcolor": "white",
           "lakecolor": "white",
           "landcolor": "#E5ECF6",
           "showlakes": true,
           "showland": true,
           "subunitcolor": "white"
          },
          "hoverlabel": {
           "align": "left"
          },
          "hovermode": "closest",
          "mapbox": {
           "style": "light"
          },
          "paper_bgcolor": "white",
          "plot_bgcolor": "#E5ECF6",
          "polar": {
           "angularaxis": {
            "gridcolor": "white",
            "linecolor": "white",
            "ticks": ""
           },
           "bgcolor": "#E5ECF6",
           "radialaxis": {
            "gridcolor": "white",
            "linecolor": "white",
            "ticks": ""
           }
          },
          "scene": {
           "xaxis": {
            "backgroundcolor": "#E5ECF6",
            "gridcolor": "white",
            "gridwidth": 2,
            "linecolor": "white",
            "showbackground": true,
            "ticks": "",
            "zerolinecolor": "white"
           },
           "yaxis": {
            "backgroundcolor": "#E5ECF6",
            "gridcolor": "white",
            "gridwidth": 2,
            "linecolor": "white",
            "showbackground": true,
            "ticks": "",
            "zerolinecolor": "white"
           },
           "zaxis": {
            "backgroundcolor": "#E5ECF6",
            "gridcolor": "white",
            "gridwidth": 2,
            "linecolor": "white",
            "showbackground": true,
            "ticks": "",
            "zerolinecolor": "white"
           }
          },
          "shapedefaults": {
           "line": {
            "color": "#2a3f5f"
           }
          },
          "ternary": {
           "aaxis": {
            "gridcolor": "white",
            "linecolor": "white",
            "ticks": ""
           },
           "baxis": {
            "gridcolor": "white",
            "linecolor": "white",
            "ticks": ""
           },
           "bgcolor": "#E5ECF6",
           "caxis": {
            "gridcolor": "white",
            "linecolor": "white",
            "ticks": ""
           }
          },
          "title": {
           "x": 0.05
          },
          "xaxis": {
           "automargin": true,
           "gridcolor": "white",
           "linecolor": "white",
           "ticks": "",
           "title": {
            "standoff": 15
           },
           "zerolinecolor": "white",
           "zerolinewidth": 2
          },
          "yaxis": {
           "automargin": true,
           "gridcolor": "white",
           "linecolor": "white",
           "ticks": "",
           "title": {
            "standoff": 15
           },
           "zerolinecolor": "white",
           "zerolinewidth": 2
          }
         }
        },
        "title": {
         "text": "Average visits per month & Median Hours at Berth (previous 12 months)"
        },
        "width": 1000
       }
      }
     },
     "metadata": {},
     "output_type": "display_data"
    }
   ],
   "source": [
    "#scatterplot\n",
    "fig = px.scatter_geo(\n",
    "    portstats_last12months_gdf,\n",
    "    lon='port_lon',\n",
    "    lat='port_lat',\n",
    "    size='visits_avg',\n",
    "    color='time_at_berth_median',\n",
    "    range_color=[0,50],\n",
    "    hover_name='port_name',\n",
    "    size_max=20,\n",
    "    title='Average visits per month & Median Hours at Berth (previous 12 months)',\n",
    "    color_continuous_scale=px.colors.sequential.Viridis,\n",
    "    width=1000,\n",
    "    height=600,\n",
    "    labels={\n",
    "        'time_at_berth_median':'Median Hours at Berth'\n",
    "    }\n",
    ")\n",
    "\n",
    "# Fit the view to ports\n",
    "fig.update_geos(fitbounds=\"locations\")\n",
    "\n",
    "# Add footnote using add_annotation\n",
    "fig.add_annotation(\n",
    "    text=\"Note: Circle size corresponds to average vessel visits per month\",  # Footnote text\n",
    "    xref=\"paper\", yref=\"paper\",  # Position relative to the plot area\n",
    "    x=0, y=0-0.05,  # Adjust to footnote position\n",
    "    showarrow=False,  # No arrow, just text\n",
    "    font=dict(size=14, color=\"black\"),  # Customize the font style\n",
    "    align=\"left\"\n",
    ")\n",
    "\n",
    "# Show the figure\n",
    "fig.show()"
   ]
  },
  {
   "cell_type": "code",
   "execution_count": 131,
   "metadata": {},
   "outputs": [
    {
     "data": {
      "application/vnd.plotly.v1+json": {
       "config": {
        "plotlyServerURL": "https://plot.ly"
       },
       "data": [
        {
         "geo": "geo",
         "hovertemplate": "<b>%{hovertext}</b><br><br>vessels_avg=%{marker.size}<br>port_lat=%{lat}<br>port_lon=%{lon}<br>time_at_anchor_median=%{marker.color}<extra></extra>",
         "hovertext": [
          "Port of Greater Baton Rouge, LA",
          "South Jersey Port Corp, NJ",
          "Port of Savannah, GA",
          "Baltimore, MD",
          "Anacortes, WA",
          "Jacksonville, FL",
          "Orange County Nav District, TX",
          "Port of Brunswick, GA",
          "Houston Port Authority, TX",
          "New Haven, CT",
          "Kahului, Maui, HI",
          "Marblehead, OH",
          "San Francisco Port, CA",
          "Texas City, TX",
          "Seattle, WA",
          "Guayama, PR",
          "Richmond, CA",
          "Port of Los Angeles, CA",
          "Port of Gulfport, MS",
          "Plaquemines Port District, LA",
          "Philadelphia Regional Port, PA",
          "Clark Township, MI",
          "Honolulu, O'ahu, HI",
          "Marine City, MI",
          "Guaynabo, PR",
          "Sandusky, OH",
          "Calhoun Port Authority, TX",
          "Tacoma, WA",
          "Albany Port District, NY",
          "Port Arthur, TX",
          "Duluth-Superior, MN and WI",
          "Canaveral Port District, FL",
          "Coos Bay OR, Port of",
          "Port Freeport, TX",
          "Conneaut, OH",
          "Redwood City, CA",
          "Presque Isle Township, MI",
          "Port of Everett, WA",
          "Wilmington, DE",
          "Ashtabula Port Authority, OH",
          "Bridgeport, CT",
          "Sacramento-Yolo Port, CA",
          "Marquette, MI",
          "Cleveland-Cuyahoga Port, OH",
          "Corpus Christi, TX",
          "Port of Kalama, WA",
          "Wilmington, NC",
          "Detroit-Wayne County Port, MI",
          "Mueller Township, MI",
          "Mobile, AL",
          "Virginia, VA, Port of",
          "Kalaeloa Barbers Point, HI",
          "Green Bay, WI",
          "South Louisiana, LA, Port of",
          "Beaumont, TX",
          "Lake Charles Harbor District, LA",
          "Milwaukee, WI",
          "Yabucoa, PR",
          "Port of Palm Beach District, FL",
          "Two Harbors, MN",
          "Greater Lafourche Port, LA",
          "Silver Bay, MN",
          "New York, NY & NJ",
          "Toledo-Lucas County Port, OH",
          "Oxnard Harbor District, CA",
          "Northern Indiana District, IN",
          "Boston, MA",
          "Port of Oakland, CA",
          "Brownsville, TX",
          "PortMiami, FL",
          "San Diego Unified Port, CA",
          "Rogers City, MI",
          "Alpena, MI",
          "Port of Pascagoula, MS",
          "Port of Providence, RI",
          "Port of Vancouver USA, WA",
          "Manatee County Port, FL",
          "Galveston, TX",
          "Port of Longview, WA",
          "Port of Charleston, SC",
          "Port of Portland, OR",
          "Searsport, ME",
          "Nawiliwili, Kaua'i, HI",
          "Port Everglades, FL",
          "Portland, ME",
          "Portsmouth, NH",
          "Port of Long Beach, CA",
          "Virgin Islands - St. Croix, VI",
          "San Juan, PR",
          "Stockton, CA",
          "Monroe, MI",
          "New Orleans, LA",
          "Panama City Port Authority, FL",
          "Morehead City, NC",
          "Muskegon, MI"
         ],
         "lat": [
          30.422920000000016,
          39.846444999999974,
          32.08471099999998,
          39.25082699999997,
          48.49594299999999,
          30.32275700000004,
          30.095369999999946,
          31.132425999999985,
          29.74702299999999,
          41.29883000000003,
          20.898610000000005,
          41.52961999999998,
          37.80666500000003,
          29.36306800000003,
          47.58771099999997,
          17.938939000000016,
          37.92423699999999,
          33.726635000000016,
          30.35962100000001,
          29.480004000000008,
          39.91882,
          45.99138999999998,
          21.311110000000035,
          42.71544999999999,
          18.43022100000003,
          41.470220000000026,
          28.62938900000002,
          47.28966000000003,
          42.64271000000003,
          29.83141999999998,
          46.77836199999998,
          28.414089999999984,
          43.36350999999997,
          28.96133000000003,
          41.96671,
          37.50535999999999,
          45.29794,
          47.98476000000001,
          39.715889999999966,
          41.90368500000001,
          41.172,
          38.56132299999998,
          46.577291999999964,
          41.47851999999999,
          27.812769999999972,
          46.02659599999997,
          34.22736499999998,
          42.26909400000002,
          45.96942399999999,
          30.69123000000003,
          36.86641999999996,
          21.323066000000015,
          44.516215,
          30.033449999999988,
          30.084871999999983,
          30.106406000000028,
          42.98823999999999,
          18.05174300000002,
          26.76903999999999,
          47.014550999999976,
          29.121944999999982,
          47.29420800000001,
          40.67394899999999,
          41.66293999999997,
          34.14824399999996,
          41.62504700000002,
          42.34246800000003,
          37.82152,
          25.952201000000002,
          25.78286200000004,
          32.708209999999994,
          45.42229799999998,
          45.061966999999974,
          30.34801999999999,
          41.81177999999999,
          45.622440000000005,
          27.633680999999985,
          29.31048999999998,
          46.14222000000002,
          32.78878099999997,
          45.47881000000001,
          44.45285,
          21.95248399999999,
          26.09339200000001,
          43.64950999999999,
          43.073979999999985,
          33.73957000000002,
          17.752709999999958,
          18.432782999999972,
          37.95270000000001,
          41.91513400000002,
          29.914139999999975,
          30.133998000000016,
          34.71692999999996,
          43.22708300000002
         ],
         "legendgroup": "",
         "lon": [
          -91.19933999999976,
          -75.261085,
          -81.09538199999996,
          -76.56163999999995,
          -122.59960999999971,
          -81.66512500000005,
          -93.7235599999998,
          -81.53666000000001,
          -95.29367900000028,
          -72.90473000000003,
          -156.4727999999997,
          -82.70905999999998,
          -122.39904199999995,
          -94.91809099999998,
          -122.35921800000041,
          -66.15600200000002,
          -122.37423299999986,
          -118.26809900000029,
          -89.092568,
          -89.68744699999998,
          -75.20219099999998,
          -84.31280999999997,
          -157.87169999999958,
          -82.50235000000005,
          -66.11114099999999,
          -82.71227000000002,
          -96.59232400000002,
          -122.45149999999964,
          -73.74816000000003,
          -93.9606899999997,
          -92.0964080000003,
          -80.60814999999997,
          -124.20949999999986,
          -95.3707000000004,
          -80.54860000000004,
          -122.21401199999977,
          -83.42138200000002,
          -122.22940000000042,
          -75.50696999999997,
          -80.79397599999994,
          -73.17886000000004,
          -121.54154100000014,
          -87.384821,
          -81.67191000000001,
          -97.39789000000025,
          -122.86685999999972,
          -77.95049600000002,
          -83.10958600000001,
          -85.872972,
          -88.03583399999998,
          -76.31174000000001,
          -158.1136830000002,
          -88.01811800000002,
          -90.61793999999985,
          -94.09498499999985,
          -93.28683900000004,
          -87.89967000000003,
          -65.83622600000001,
          -80.05267000000002,
          -91.67068500000016,
          -90.20527900000023,
          -91.25638799999999,
          -74.03835699999998,
          -83.50750999999998,
          -119.20847500000015,
          -87.20250699999995,
          -71.032029,
          -122.30810000000015,
          -97.3981380000001,
          -80.18164200000001,
          -117.17839999999974,
          -83.81197199999998,
          -83.42173300000003,
          -88.55879000000003,
          -71.39844000000004,
          -122.68060000000018,
          -82.56414299999996,
          -94.81269999999991,
          -122.91399999999975,
          -79.92159500000001,
          -122.66529999999963,
          -68.92497000000002,
          -159.35231900000005,
          -80.11780099999996,
          -70.25133999999998,
          -70.73805999999996,
          -118.20950000000023,
          -64.73242,
          -66.09667800000001,
          -121.31560000000034,
          -83.39060899999993,
          -90.08525600000007,
          -85.63376199999999,
          -76.72421000000001,
          -86.34316000000001
         ],
         "marker": {
          "color": [
           12.733333333333333,
           13.966666666666667,
           21.008333333333333,
           0,
           13.916666666666666,
           0,
           4.033333333333333,
           0,
           29.483333333333334,
           10.566666666666666,
           0,
           0,
           0,
           25.6,
           0,
           0,
           19.2,
           0,
           0,
           0,
           0,
           0,
           0,
           0,
           0,
           0,
           23.883333333333333,
           0,
           25.166666666666668,
           47.416666666666664,
           0,
           10.516666666666666,
           0,
           40.333333333333336,
           0,
           0,
           0,
           0,
           0,
           25.083333333333332,
           1.9333333333333333,
           22.1,
           0,
           0,
           49.93333333333333,
           118.45,
           0,
           0,
           0,
           10.1,
           6.716666666666667,
           26.366666666666667,
           0,
           68.6,
           17.7,
           14.049999999999999,
           0,
           0,
           0,
           0,
           0,
           0,
           17.316666666666666,
           0,
           0,
           0,
           13.433333333333334,
           0,
           31.016666666666666,
           0,
           0,
           0,
           0,
           35.416666666666664,
           4.033333333333333,
           0,
           0,
           31.208333333333332,
           94.95,
           0,
           0,
           0,
           0,
           0,
           0,
           6.8,
           14.933333333333334,
           0,
           0,
           9.483333333333333,
           0,
           10.866666666666667,
           0,
           48.25,
           12.25
          ],
          "coloraxis": "coloraxis",
          "size": [
           34.11512553582364,
           33.340605207600284,
           212.49706666666665,
           154.8384712457184,
           16.913095238095238,
           36.25626515763945,
           1,
           56.60692464358452,
           179.0387658227848,
           22.52755905511811,
           4,
           3.3098591549295775,
           4.125,
           73.60271597804103,
           48.77728285077951,
           1.3333333333333333,
           46.18678038379531,
           137.25406032482599,
           6.53,
           1,
           90.75789053136236,
           5.17037037037037,
           30.7524557956778,
           3.28099173553719,
           24.182105263157894,
           5.758823529411765,
           20.694444444444443,
           73.99287692916502,
           10.215686274509803,
           80.97656860192659,
           20.03727506426735,
           25.278523489932887,
           2.9,
           104.93633395522389,
           2.238095238095238,
           4.888324873096447,
           5.804733727810651,
           9.878048780487806,
           23.874564459930312,
           4.73,
           1.411764705882353,
           7.401041666666667,
           5.377094972067039,
           16.57004160887656,
           93.73844061650045,
           34.379401408450704,
           56.25192943770673,
           29.652417659425367,
           6.508474576271187,
           111.98929663608563,
           201.06013426653334,
           14.755693581780537,
           4.562962962962963,
           68.20365778053316,
           64.28197560015742,
           45.21493310315063,
           6.404444444444445,
           5.011764705882353,
           16.18912237330037,
           6.161616161616162,
           5.254545454545455,
           3.0714285714285716,
           70.19296210363495,
           14.048543689320388,
           37.733333333333334,
           12.250608272506083,
           46.09277108433735,
           87.37984777093149,
           25.61203585147247,
           52.31650403054731,
           26.257208765859286,
           8.5,
           1.8604651162790697,
           36.91779340183883,
           20.195224719101123,
           49.1661101836394,
           24.25021795989538,
           63.794056668970285,
           28.454335260115606,
           106.90408415841584,
           5.082191780821918,
           6.046153846153846,
           1.9295774647887325,
           112.27030321499315,
           12.318385650224215,
           6.84549356223176,
           172.5654633172517,
           35.08727034120735,
           48.040798611111114,
           24.002721088435376,
           3.735042735042735,
           90.95461758172009,
           3.0652173913043477,
           17.268571428571427,
           1
          ],
          "sizemode": "area",
          "sizeref": 0.5312426666666666,
          "symbol": "circle"
         },
         "mode": "markers",
         "name": "",
         "showlegend": false,
         "type": "scattergeo"
        }
       ],
       "layout": {
        "annotations": [
         {
          "align": "left",
          "font": {
           "color": "black",
           "size": 14
          },
          "showarrow": false,
          "text": "Note: Circle size corresponds to averages vessels per month",
          "x": 0,
          "xref": "paper",
          "y": -0.05,
          "yref": "paper"
         }
        ],
        "coloraxis": {
         "cmax": 50,
         "cmin": 0,
         "colorbar": {
          "title": {
           "text": "time_at_anchor_median"
          }
         },
         "colorscale": [
          [
           0,
           "#440154"
          ],
          [
           0.1111111111111111,
           "#482878"
          ],
          [
           0.2222222222222222,
           "#3e4989"
          ],
          [
           0.3333333333333333,
           "#31688e"
          ],
          [
           0.4444444444444444,
           "#26828e"
          ],
          [
           0.5555555555555556,
           "#1f9e89"
          ],
          [
           0.6666666666666666,
           "#35b779"
          ],
          [
           0.7777777777777778,
           "#6ece58"
          ],
          [
           0.8888888888888888,
           "#b5de2b"
          ],
          [
           1,
           "#fde725"
          ]
         ]
        },
        "geo": {
         "center": {},
         "domain": {
          "x": [
           0,
           1
          ],
          "y": [
           0,
           1
          ]
         },
         "fitbounds": "locations"
        },
        "height": 600,
        "legend": {
         "itemsizing": "constant",
         "tracegroupgap": 0
        },
        "template": {
         "data": {
          "bar": [
           {
            "error_x": {
             "color": "#2a3f5f"
            },
            "error_y": {
             "color": "#2a3f5f"
            },
            "marker": {
             "line": {
              "color": "#E5ECF6",
              "width": 0.5
             },
             "pattern": {
              "fillmode": "overlay",
              "size": 10,
              "solidity": 0.2
             }
            },
            "type": "bar"
           }
          ],
          "barpolar": [
           {
            "marker": {
             "line": {
              "color": "#E5ECF6",
              "width": 0.5
             },
             "pattern": {
              "fillmode": "overlay",
              "size": 10,
              "solidity": 0.2
             }
            },
            "type": "barpolar"
           }
          ],
          "carpet": [
           {
            "aaxis": {
             "endlinecolor": "#2a3f5f",
             "gridcolor": "white",
             "linecolor": "white",
             "minorgridcolor": "white",
             "startlinecolor": "#2a3f5f"
            },
            "baxis": {
             "endlinecolor": "#2a3f5f",
             "gridcolor": "white",
             "linecolor": "white",
             "minorgridcolor": "white",
             "startlinecolor": "#2a3f5f"
            },
            "type": "carpet"
           }
          ],
          "choropleth": [
           {
            "colorbar": {
             "outlinewidth": 0,
             "ticks": ""
            },
            "type": "choropleth"
           }
          ],
          "contour": [
           {
            "colorbar": {
             "outlinewidth": 0,
             "ticks": ""
            },
            "colorscale": [
             [
              0,
              "#0d0887"
             ],
             [
              0.1111111111111111,
              "#46039f"
             ],
             [
              0.2222222222222222,
              "#7201a8"
             ],
             [
              0.3333333333333333,
              "#9c179e"
             ],
             [
              0.4444444444444444,
              "#bd3786"
             ],
             [
              0.5555555555555556,
              "#d8576b"
             ],
             [
              0.6666666666666666,
              "#ed7953"
             ],
             [
              0.7777777777777778,
              "#fb9f3a"
             ],
             [
              0.8888888888888888,
              "#fdca26"
             ],
             [
              1,
              "#f0f921"
             ]
            ],
            "type": "contour"
           }
          ],
          "contourcarpet": [
           {
            "colorbar": {
             "outlinewidth": 0,
             "ticks": ""
            },
            "type": "contourcarpet"
           }
          ],
          "heatmap": [
           {
            "colorbar": {
             "outlinewidth": 0,
             "ticks": ""
            },
            "colorscale": [
             [
              0,
              "#0d0887"
             ],
             [
              0.1111111111111111,
              "#46039f"
             ],
             [
              0.2222222222222222,
              "#7201a8"
             ],
             [
              0.3333333333333333,
              "#9c179e"
             ],
             [
              0.4444444444444444,
              "#bd3786"
             ],
             [
              0.5555555555555556,
              "#d8576b"
             ],
             [
              0.6666666666666666,
              "#ed7953"
             ],
             [
              0.7777777777777778,
              "#fb9f3a"
             ],
             [
              0.8888888888888888,
              "#fdca26"
             ],
             [
              1,
              "#f0f921"
             ]
            ],
            "type": "heatmap"
           }
          ],
          "heatmapgl": [
           {
            "colorbar": {
             "outlinewidth": 0,
             "ticks": ""
            },
            "colorscale": [
             [
              0,
              "#0d0887"
             ],
             [
              0.1111111111111111,
              "#46039f"
             ],
             [
              0.2222222222222222,
              "#7201a8"
             ],
             [
              0.3333333333333333,
              "#9c179e"
             ],
             [
              0.4444444444444444,
              "#bd3786"
             ],
             [
              0.5555555555555556,
              "#d8576b"
             ],
             [
              0.6666666666666666,
              "#ed7953"
             ],
             [
              0.7777777777777778,
              "#fb9f3a"
             ],
             [
              0.8888888888888888,
              "#fdca26"
             ],
             [
              1,
              "#f0f921"
             ]
            ],
            "type": "heatmapgl"
           }
          ],
          "histogram": [
           {
            "marker": {
             "pattern": {
              "fillmode": "overlay",
              "size": 10,
              "solidity": 0.2
             }
            },
            "type": "histogram"
           }
          ],
          "histogram2d": [
           {
            "colorbar": {
             "outlinewidth": 0,
             "ticks": ""
            },
            "colorscale": [
             [
              0,
              "#0d0887"
             ],
             [
              0.1111111111111111,
              "#46039f"
             ],
             [
              0.2222222222222222,
              "#7201a8"
             ],
             [
              0.3333333333333333,
              "#9c179e"
             ],
             [
              0.4444444444444444,
              "#bd3786"
             ],
             [
              0.5555555555555556,
              "#d8576b"
             ],
             [
              0.6666666666666666,
              "#ed7953"
             ],
             [
              0.7777777777777778,
              "#fb9f3a"
             ],
             [
              0.8888888888888888,
              "#fdca26"
             ],
             [
              1,
              "#f0f921"
             ]
            ],
            "type": "histogram2d"
           }
          ],
          "histogram2dcontour": [
           {
            "colorbar": {
             "outlinewidth": 0,
             "ticks": ""
            },
            "colorscale": [
             [
              0,
              "#0d0887"
             ],
             [
              0.1111111111111111,
              "#46039f"
             ],
             [
              0.2222222222222222,
              "#7201a8"
             ],
             [
              0.3333333333333333,
              "#9c179e"
             ],
             [
              0.4444444444444444,
              "#bd3786"
             ],
             [
              0.5555555555555556,
              "#d8576b"
             ],
             [
              0.6666666666666666,
              "#ed7953"
             ],
             [
              0.7777777777777778,
              "#fb9f3a"
             ],
             [
              0.8888888888888888,
              "#fdca26"
             ],
             [
              1,
              "#f0f921"
             ]
            ],
            "type": "histogram2dcontour"
           }
          ],
          "mesh3d": [
           {
            "colorbar": {
             "outlinewidth": 0,
             "ticks": ""
            },
            "type": "mesh3d"
           }
          ],
          "parcoords": [
           {
            "line": {
             "colorbar": {
              "outlinewidth": 0,
              "ticks": ""
             }
            },
            "type": "parcoords"
           }
          ],
          "pie": [
           {
            "automargin": true,
            "type": "pie"
           }
          ],
          "scatter": [
           {
            "fillpattern": {
             "fillmode": "overlay",
             "size": 10,
             "solidity": 0.2
            },
            "type": "scatter"
           }
          ],
          "scatter3d": [
           {
            "line": {
             "colorbar": {
              "outlinewidth": 0,
              "ticks": ""
             }
            },
            "marker": {
             "colorbar": {
              "outlinewidth": 0,
              "ticks": ""
             }
            },
            "type": "scatter3d"
           }
          ],
          "scattercarpet": [
           {
            "marker": {
             "colorbar": {
              "outlinewidth": 0,
              "ticks": ""
             }
            },
            "type": "scattercarpet"
           }
          ],
          "scattergeo": [
           {
            "marker": {
             "colorbar": {
              "outlinewidth": 0,
              "ticks": ""
             }
            },
            "type": "scattergeo"
           }
          ],
          "scattergl": [
           {
            "marker": {
             "colorbar": {
              "outlinewidth": 0,
              "ticks": ""
             }
            },
            "type": "scattergl"
           }
          ],
          "scattermapbox": [
           {
            "marker": {
             "colorbar": {
              "outlinewidth": 0,
              "ticks": ""
             }
            },
            "type": "scattermapbox"
           }
          ],
          "scatterpolar": [
           {
            "marker": {
             "colorbar": {
              "outlinewidth": 0,
              "ticks": ""
             }
            },
            "type": "scatterpolar"
           }
          ],
          "scatterpolargl": [
           {
            "marker": {
             "colorbar": {
              "outlinewidth": 0,
              "ticks": ""
             }
            },
            "type": "scatterpolargl"
           }
          ],
          "scatterternary": [
           {
            "marker": {
             "colorbar": {
              "outlinewidth": 0,
              "ticks": ""
             }
            },
            "type": "scatterternary"
           }
          ],
          "surface": [
           {
            "colorbar": {
             "outlinewidth": 0,
             "ticks": ""
            },
            "colorscale": [
             [
              0,
              "#0d0887"
             ],
             [
              0.1111111111111111,
              "#46039f"
             ],
             [
              0.2222222222222222,
              "#7201a8"
             ],
             [
              0.3333333333333333,
              "#9c179e"
             ],
             [
              0.4444444444444444,
              "#bd3786"
             ],
             [
              0.5555555555555556,
              "#d8576b"
             ],
             [
              0.6666666666666666,
              "#ed7953"
             ],
             [
              0.7777777777777778,
              "#fb9f3a"
             ],
             [
              0.8888888888888888,
              "#fdca26"
             ],
             [
              1,
              "#f0f921"
             ]
            ],
            "type": "surface"
           }
          ],
          "table": [
           {
            "cells": {
             "fill": {
              "color": "#EBF0F8"
             },
             "line": {
              "color": "white"
             }
            },
            "header": {
             "fill": {
              "color": "#C8D4E3"
             },
             "line": {
              "color": "white"
             }
            },
            "type": "table"
           }
          ]
         },
         "layout": {
          "annotationdefaults": {
           "arrowcolor": "#2a3f5f",
           "arrowhead": 0,
           "arrowwidth": 1
          },
          "autotypenumbers": "strict",
          "coloraxis": {
           "colorbar": {
            "outlinewidth": 0,
            "ticks": ""
           }
          },
          "colorscale": {
           "diverging": [
            [
             0,
             "#8e0152"
            ],
            [
             0.1,
             "#c51b7d"
            ],
            [
             0.2,
             "#de77ae"
            ],
            [
             0.3,
             "#f1b6da"
            ],
            [
             0.4,
             "#fde0ef"
            ],
            [
             0.5,
             "#f7f7f7"
            ],
            [
             0.6,
             "#e6f5d0"
            ],
            [
             0.7,
             "#b8e186"
            ],
            [
             0.8,
             "#7fbc41"
            ],
            [
             0.9,
             "#4d9221"
            ],
            [
             1,
             "#276419"
            ]
           ],
           "sequential": [
            [
             0,
             "#0d0887"
            ],
            [
             0.1111111111111111,
             "#46039f"
            ],
            [
             0.2222222222222222,
             "#7201a8"
            ],
            [
             0.3333333333333333,
             "#9c179e"
            ],
            [
             0.4444444444444444,
             "#bd3786"
            ],
            [
             0.5555555555555556,
             "#d8576b"
            ],
            [
             0.6666666666666666,
             "#ed7953"
            ],
            [
             0.7777777777777778,
             "#fb9f3a"
            ],
            [
             0.8888888888888888,
             "#fdca26"
            ],
            [
             1,
             "#f0f921"
            ]
           ],
           "sequentialminus": [
            [
             0,
             "#0d0887"
            ],
            [
             0.1111111111111111,
             "#46039f"
            ],
            [
             0.2222222222222222,
             "#7201a8"
            ],
            [
             0.3333333333333333,
             "#9c179e"
            ],
            [
             0.4444444444444444,
             "#bd3786"
            ],
            [
             0.5555555555555556,
             "#d8576b"
            ],
            [
             0.6666666666666666,
             "#ed7953"
            ],
            [
             0.7777777777777778,
             "#fb9f3a"
            ],
            [
             0.8888888888888888,
             "#fdca26"
            ],
            [
             1,
             "#f0f921"
            ]
           ]
          },
          "colorway": [
           "#636efa",
           "#EF553B",
           "#00cc96",
           "#ab63fa",
           "#FFA15A",
           "#19d3f3",
           "#FF6692",
           "#B6E880",
           "#FF97FF",
           "#FECB52"
          ],
          "font": {
           "color": "#2a3f5f"
          },
          "geo": {
           "bgcolor": "white",
           "lakecolor": "white",
           "landcolor": "#E5ECF6",
           "showlakes": true,
           "showland": true,
           "subunitcolor": "white"
          },
          "hoverlabel": {
           "align": "left"
          },
          "hovermode": "closest",
          "mapbox": {
           "style": "light"
          },
          "paper_bgcolor": "white",
          "plot_bgcolor": "#E5ECF6",
          "polar": {
           "angularaxis": {
            "gridcolor": "white",
            "linecolor": "white",
            "ticks": ""
           },
           "bgcolor": "#E5ECF6",
           "radialaxis": {
            "gridcolor": "white",
            "linecolor": "white",
            "ticks": ""
           }
          },
          "scene": {
           "xaxis": {
            "backgroundcolor": "#E5ECF6",
            "gridcolor": "white",
            "gridwidth": 2,
            "linecolor": "white",
            "showbackground": true,
            "ticks": "",
            "zerolinecolor": "white"
           },
           "yaxis": {
            "backgroundcolor": "#E5ECF6",
            "gridcolor": "white",
            "gridwidth": 2,
            "linecolor": "white",
            "showbackground": true,
            "ticks": "",
            "zerolinecolor": "white"
           },
           "zaxis": {
            "backgroundcolor": "#E5ECF6",
            "gridcolor": "white",
            "gridwidth": 2,
            "linecolor": "white",
            "showbackground": true,
            "ticks": "",
            "zerolinecolor": "white"
           }
          },
          "shapedefaults": {
           "line": {
            "color": "#2a3f5f"
           }
          },
          "ternary": {
           "aaxis": {
            "gridcolor": "white",
            "linecolor": "white",
            "ticks": ""
           },
           "baxis": {
            "gridcolor": "white",
            "linecolor": "white",
            "ticks": ""
           },
           "bgcolor": "#E5ECF6",
           "caxis": {
            "gridcolor": "white",
            "linecolor": "white",
            "ticks": ""
           }
          },
          "title": {
           "x": 0.05
          },
          "xaxis": {
           "automargin": true,
           "gridcolor": "white",
           "linecolor": "white",
           "ticks": "",
           "title": {
            "standoff": 15
           },
           "zerolinecolor": "white",
           "zerolinewidth": 2
          },
          "yaxis": {
           "automargin": true,
           "gridcolor": "white",
           "linecolor": "white",
           "ticks": "",
           "title": {
            "standoff": 15
           },
           "zerolinecolor": "white",
           "zerolinewidth": 2
          }
         }
        },
        "title": {
         "text": "Avg Vessels per month & Median Hours at Anchor (previous 12 months)"
        },
        "width": 1000
       }
      }
     },
     "metadata": {},
     "output_type": "display_data"
    }
   ],
   "source": [
    "#scatterplot\n",
    "#scatterplot\n",
    "fig = px.scatter_geo(\n",
    "    portstats_last12months_gdf,\n",
    "    lon='port_lon',\n",
    "    lat='port_lat',\n",
    "    size='visits_avg',\n",
    "    color='time_at_berth_median',\n",
    "    range_color=[0,50],\n",
    "    hover_name='port_name',\n",
    "    size_max=20,\n",
    "    title='Average visits per month & Median Hours at Berth (previous 12 months)',\n",
    "    color_continuous_scale=px.colors.sequential.Viridis,\n",
    "    width=1000,\n",
    "    height=600,\n",
    "    labels={\n",
    "        'time_at_berth_median':'Median Hours at Berth'\n",
    "    }\n",
    ")\n",
    "\n",
    "# Fit the view to ports\n",
    "fig.update_geos(fitbounds=\"locations\")\n",
    "\n",
    "# Add footnote using add_annotation\n",
    "fig.add_annotation(\n",
    "    text=\"Note: Circle size corresponds to average vessel visits per month\",  # Footnote text\n",
    "    xref=\"paper\", yref=\"paper\",  # Position relative to the plot area\n",
    "    x=0, y=0-0.05,  # Adjust to footnote position\n",
    "    showarrow=False,  # No arrow, just text\n",
    "    font=dict(size=14, color=\"black\"),  # Customize the font style\n",
    "    align=\"left\"\n",
    ")\n",
    "\n",
    "# Show the figure\n",
    "fig.show()"
   ]
  },
  {
   "cell_type": "code",
   "execution_count": 128,
   "metadata": {},
   "outputs": [],
   "source": [
    "#get top 5 ports\n",
    "top5ports = pl.Series(ports_gdf.sort_values('rank').head().port_name)\n",
    "\n",
    "#get top 10 ports\n",
    "top10ports = pl.Series(ports_gdf.sort_values('rank').head(10).port_name)"
   ]
  },
  {
   "cell_type": "code",
   "execution_count": 127,
   "metadata": {},
   "outputs": [
    {
     "data": {
      "application/vnd.plotly.v1+json": {
       "config": {
        "plotlyServerURL": "https://plot.ly"
       },
       "data": [
        {
         "hovertemplate": "port_name=South Louisiana, LA, Port of<br>month=%{x}<br>Unique Vessels=%{y}<extra></extra>",
         "legendgroup": "South Louisiana, LA, Port of",
         "line": {
          "color": "#636efa",
          "dash": "solid"
         },
         "marker": {
          "symbol": "circle"
         },
         "mode": "lines",
         "name": "South Louisiana, LA, Port of",
         "orientation": "v",
         "showlegend": true,
         "type": "scatter",
         "x": [
          "2018-01-01T00:00:00",
          "2018-02-01T00:00:00",
          "2018-03-01T00:00:00",
          "2018-04-01T00:00:00",
          "2018-05-01T00:00:00",
          "2018-06-01T00:00:00",
          "2018-07-01T00:00:00",
          "2018-08-01T00:00:00",
          "2018-09-01T00:00:00",
          "2018-10-01T00:00:00",
          "2018-11-01T00:00:00",
          "2018-12-01T00:00:00",
          "2019-01-01T00:00:00",
          "2019-02-01T00:00:00",
          "2019-03-01T00:00:00",
          "2019-04-01T00:00:00",
          "2019-05-01T00:00:00",
          "2019-06-01T00:00:00",
          "2019-07-01T00:00:00",
          "2019-08-01T00:00:00",
          "2019-09-01T00:00:00",
          "2019-10-01T00:00:00",
          "2019-11-01T00:00:00",
          "2019-12-01T00:00:00",
          "2020-01-01T00:00:00",
          "2020-02-01T00:00:00",
          "2020-03-01T00:00:00",
          "2020-04-01T00:00:00",
          "2020-05-01T00:00:00",
          "2020-06-01T00:00:00",
          "2020-07-01T00:00:00",
          "2020-08-01T00:00:00",
          "2020-09-01T00:00:00",
          "2020-10-01T00:00:00",
          "2020-11-01T00:00:00",
          "2020-12-01T00:00:00",
          "2021-01-01T00:00:00",
          "2021-02-01T00:00:00",
          "2021-03-01T00:00:00",
          "2021-04-01T00:00:00",
          "2021-05-01T00:00:00",
          "2021-06-01T00:00:00",
          "2021-07-01T00:00:00",
          "2021-08-01T00:00:00",
          "2021-09-01T00:00:00",
          "2021-10-01T00:00:00",
          "2021-11-01T00:00:00",
          "2021-12-01T00:00:00",
          "2022-01-01T00:00:00",
          "2022-02-01T00:00:00",
          "2022-03-01T00:00:00",
          "2022-04-01T00:00:00",
          "2022-05-01T00:00:00",
          "2022-06-01T00:00:00",
          "2022-07-01T00:00:00",
          "2022-08-01T00:00:00",
          "2022-09-01T00:00:00",
          "2022-10-01T00:00:00",
          "2022-11-01T00:00:00",
          "2022-12-01T00:00:00",
          "2023-01-01T00:00:00",
          "2023-02-01T00:00:00",
          "2023-03-01T00:00:00",
          "2023-04-01T00:00:00",
          "2023-05-01T00:00:00",
          "2023-06-01T00:00:00",
          "2023-07-01T00:00:00",
          "2023-08-01T00:00:00",
          "2023-09-01T00:00:00",
          "2023-10-01T00:00:00",
          "2023-11-01T00:00:00",
          "2023-12-01T00:00:00",
          "2024-01-01T00:00:00",
          "2024-02-01T00:00:00",
          "2024-03-01T00:00:00",
          "2024-04-01T00:00:00",
          "2024-05-01T00:00:00",
          "2024-06-01T00:00:00"
         ],
         "xaxis": "x",
         "y": [
          109,
          96,
          95,
          95,
          97,
          78,
          83,
          86,
          94,
          92,
          81,
          89,
          84,
          86,
          80,
          82,
          68,
          59,
          58,
          70,
          55,
          62,
          59,
          60,
          63,
          62,
          67,
          62,
          52,
          53,
          65,
          75,
          71,
          71,
          62,
          68,
          80,
          64,
          70,
          67,
          60,
          62,
          70,
          63,
          55,
          94,
          80,
          86,
          96,
          81,
          80,
          76,
          69,
          74,
          63,
          74,
          69,
          64,
          77,
          76,
          75,
          64,
          64,
          70,
          48,
          41,
          48,
          72,
          69,
          77,
          73,
          71,
          76,
          72,
          72,
          57,
          62,
          56
         ],
         "yaxis": "y"
        },
        {
         "hovertemplate": "port_name=New York, NY & NJ<br>month=%{x}<br>Unique Vessels=%{y}<extra></extra>",
         "legendgroup": "New York, NY & NJ",
         "line": {
          "color": "#EF553B",
          "dash": "solid"
         },
         "marker": {
          "symbol": "circle"
         },
         "mode": "lines",
         "name": "New York, NY & NJ",
         "orientation": "v",
         "showlegend": true,
         "type": "scatter",
         "x": [
          "2018-01-01T00:00:00",
          "2018-02-01T00:00:00",
          "2018-03-01T00:00:00",
          "2018-04-01T00:00:00",
          "2018-05-01T00:00:00",
          "2018-06-01T00:00:00",
          "2018-07-01T00:00:00",
          "2018-08-01T00:00:00",
          "2018-09-01T00:00:00",
          "2018-10-01T00:00:00",
          "2018-11-01T00:00:00",
          "2018-12-01T00:00:00",
          "2019-01-01T00:00:00",
          "2019-02-01T00:00:00",
          "2019-03-01T00:00:00",
          "2019-04-01T00:00:00",
          "2019-05-01T00:00:00",
          "2019-06-01T00:00:00",
          "2019-07-01T00:00:00",
          "2019-08-01T00:00:00",
          "2019-09-01T00:00:00",
          "2019-10-01T00:00:00",
          "2019-11-01T00:00:00",
          "2019-12-01T00:00:00",
          "2020-01-01T00:00:00",
          "2020-02-01T00:00:00",
          "2020-03-01T00:00:00",
          "2020-04-01T00:00:00",
          "2020-05-01T00:00:00",
          "2020-06-01T00:00:00",
          "2020-07-01T00:00:00",
          "2020-08-01T00:00:00",
          "2020-09-01T00:00:00",
          "2020-10-01T00:00:00",
          "2020-11-01T00:00:00",
          "2020-12-01T00:00:00",
          "2021-01-01T00:00:00",
          "2021-02-01T00:00:00",
          "2021-03-01T00:00:00",
          "2021-04-01T00:00:00",
          "2021-05-01T00:00:00",
          "2021-06-01T00:00:00",
          "2021-07-01T00:00:00",
          "2021-08-01T00:00:00",
          "2021-09-01T00:00:00",
          "2021-10-01T00:00:00",
          "2021-11-01T00:00:00",
          "2021-12-01T00:00:00",
          "2022-01-01T00:00:00",
          "2022-02-01T00:00:00",
          "2022-03-01T00:00:00",
          "2022-04-01T00:00:00",
          "2022-05-01T00:00:00",
          "2022-06-01T00:00:00",
          "2022-07-01T00:00:00",
          "2022-08-01T00:00:00",
          "2022-09-01T00:00:00",
          "2022-10-01T00:00:00",
          "2022-11-01T00:00:00",
          "2022-12-01T00:00:00",
          "2023-01-01T00:00:00",
          "2023-02-01T00:00:00",
          "2023-03-01T00:00:00",
          "2023-04-01T00:00:00",
          "2023-05-01T00:00:00",
          "2023-06-01T00:00:00",
          "2023-07-01T00:00:00",
          "2023-08-01T00:00:00",
          "2023-09-01T00:00:00",
          "2023-10-01T00:00:00",
          "2023-11-01T00:00:00",
          "2023-12-01T00:00:00",
          "2024-01-01T00:00:00",
          "2024-02-01T00:00:00",
          "2024-03-01T00:00:00",
          "2024-04-01T00:00:00",
          "2024-05-01T00:00:00",
          "2024-06-01T00:00:00"
         ],
         "xaxis": "x",
         "y": [
          98,
          78,
          88,
          93,
          72,
          74,
          90,
          76,
          77,
          74,
          75,
          87,
          76,
          72,
          78,
          68,
          81,
          86,
          82,
          75,
          71,
          69,
          63,
          71,
          56,
          54,
          65,
          59,
          57,
          57,
          58,
          64,
          61,
          64,
          68,
          58,
          60,
          55,
          80,
          83,
          102,
          85,
          71,
          95,
          85,
          83,
          84,
          81,
          79,
          85,
          87,
          88,
          89,
          87,
          84,
          88,
          82,
          80,
          84,
          76,
          72,
          75,
          77,
          75,
          83,
          81,
          75,
          80,
          75,
          80,
          56,
          74,
          69,
          72,
          74,
          62,
          59,
          53
         ],
         "yaxis": "y"
        },
        {
         "hovertemplate": "port_name=Corpus Christi, TX<br>month=%{x}<br>Unique Vessels=%{y}<extra></extra>",
         "legendgroup": "Corpus Christi, TX",
         "line": {
          "color": "#00cc96",
          "dash": "solid"
         },
         "marker": {
          "symbol": "circle"
         },
         "mode": "lines",
         "name": "Corpus Christi, TX",
         "orientation": "v",
         "showlegend": true,
         "type": "scatter",
         "x": [
          "2018-01-01T00:00:00",
          "2018-02-01T00:00:00",
          "2018-03-01T00:00:00",
          "2018-04-01T00:00:00",
          "2018-05-01T00:00:00",
          "2018-06-01T00:00:00",
          "2018-07-01T00:00:00",
          "2018-08-01T00:00:00",
          "2018-09-01T00:00:00",
          "2018-10-01T00:00:00",
          "2018-11-01T00:00:00",
          "2018-12-01T00:00:00",
          "2019-01-01T00:00:00",
          "2019-02-01T00:00:00",
          "2019-03-01T00:00:00",
          "2019-04-01T00:00:00",
          "2019-05-01T00:00:00",
          "2019-06-01T00:00:00",
          "2019-07-01T00:00:00",
          "2019-08-01T00:00:00",
          "2019-09-01T00:00:00",
          "2019-10-01T00:00:00",
          "2019-11-01T00:00:00",
          "2019-12-01T00:00:00",
          "2020-01-01T00:00:00",
          "2020-02-01T00:00:00",
          "2020-03-01T00:00:00",
          "2020-04-01T00:00:00",
          "2020-05-01T00:00:00",
          "2020-06-01T00:00:00",
          "2020-07-01T00:00:00",
          "2020-08-01T00:00:00",
          "2020-09-01T00:00:00",
          "2020-10-01T00:00:00",
          "2020-11-01T00:00:00",
          "2020-12-01T00:00:00",
          "2021-01-01T00:00:00",
          "2021-02-01T00:00:00",
          "2021-03-01T00:00:00",
          "2021-04-01T00:00:00",
          "2021-05-01T00:00:00",
          "2021-06-01T00:00:00",
          "2021-07-01T00:00:00",
          "2021-08-01T00:00:00",
          "2021-09-01T00:00:00",
          "2021-10-01T00:00:00",
          "2021-11-01T00:00:00",
          "2021-12-01T00:00:00",
          "2022-01-01T00:00:00",
          "2022-02-01T00:00:00",
          "2022-03-01T00:00:00",
          "2022-04-01T00:00:00",
          "2022-05-01T00:00:00",
          "2022-06-01T00:00:00",
          "2022-07-01T00:00:00",
          "2022-08-01T00:00:00",
          "2022-09-01T00:00:00",
          "2022-10-01T00:00:00",
          "2022-11-01T00:00:00",
          "2022-12-01T00:00:00",
          "2023-01-01T00:00:00",
          "2023-02-01T00:00:00",
          "2023-03-01T00:00:00",
          "2023-04-01T00:00:00",
          "2023-05-01T00:00:00",
          "2023-06-01T00:00:00",
          "2023-07-01T00:00:00",
          "2023-08-01T00:00:00",
          "2023-09-01T00:00:00",
          "2023-10-01T00:00:00",
          "2023-11-01T00:00:00",
          "2023-12-01T00:00:00",
          "2024-01-01T00:00:00",
          "2024-02-01T00:00:00",
          "2024-03-01T00:00:00",
          "2024-04-01T00:00:00",
          "2024-05-01T00:00:00",
          "2024-06-01T00:00:00"
         ],
         "xaxis": "x",
         "y": [
          93,
          81,
          99,
          94,
          89,
          77,
          92,
          91,
          89,
          108,
          101,
          99,
          96,
          76,
          78,
          89,
          99,
          80,
          78,
          81,
          80,
          90,
          99,
          101,
          89,
          87,
          95,
          91,
          79,
          72,
          100,
          86,
          69,
          64,
          74,
          78,
          69,
          57,
          77,
          107,
          94,
          92,
          91,
          97,
          91,
          97,
          112,
          125,
          105,
          94,
          112,
          104,
          110,
          106,
          103,
          114,
          97,
          106,
          100,
          99,
          115,
          96,
          108,
          109,
          90,
          90,
          96,
          108,
          96,
          101,
          91,
          96,
          94,
          89,
          97,
          98,
          86,
          61
         ],
         "yaxis": "y"
        },
        {
         "hovertemplate": "port_name=Port of Long Beach, CA<br>month=%{x}<br>Unique Vessels=%{y}<extra></extra>",
         "legendgroup": "Port of Long Beach, CA",
         "line": {
          "color": "#ab63fa",
          "dash": "solid"
         },
         "marker": {
          "symbol": "circle"
         },
         "mode": "lines",
         "name": "Port of Long Beach, CA",
         "orientation": "v",
         "showlegend": true,
         "type": "scatter",
         "x": [
          "2018-01-01T00:00:00",
          "2018-02-01T00:00:00",
          "2018-03-01T00:00:00",
          "2018-04-01T00:00:00",
          "2018-05-01T00:00:00",
          "2018-06-01T00:00:00",
          "2018-07-01T00:00:00",
          "2018-08-01T00:00:00",
          "2018-09-01T00:00:00",
          "2018-10-01T00:00:00",
          "2018-11-01T00:00:00",
          "2018-12-01T00:00:00",
          "2019-01-01T00:00:00",
          "2019-02-01T00:00:00",
          "2019-03-01T00:00:00",
          "2019-04-01T00:00:00",
          "2019-05-01T00:00:00",
          "2019-06-01T00:00:00",
          "2019-07-01T00:00:00",
          "2019-08-01T00:00:00",
          "2019-09-01T00:00:00",
          "2019-10-01T00:00:00",
          "2019-11-01T00:00:00",
          "2019-12-01T00:00:00",
          "2020-01-01T00:00:00",
          "2020-02-01T00:00:00",
          "2020-03-01T00:00:00",
          "2020-04-01T00:00:00",
          "2020-05-01T00:00:00",
          "2020-06-01T00:00:00",
          "2020-07-01T00:00:00",
          "2020-08-01T00:00:00",
          "2020-09-01T00:00:00",
          "2020-10-01T00:00:00",
          "2020-11-01T00:00:00",
          "2020-12-01T00:00:00",
          "2021-01-01T00:00:00",
          "2021-02-01T00:00:00",
          "2021-03-01T00:00:00",
          "2021-04-01T00:00:00",
          "2021-05-01T00:00:00",
          "2021-06-01T00:00:00",
          "2021-07-01T00:00:00",
          "2021-08-01T00:00:00",
          "2021-09-01T00:00:00",
          "2021-10-01T00:00:00",
          "2021-11-01T00:00:00",
          "2021-12-01T00:00:00",
          "2022-01-01T00:00:00",
          "2022-02-01T00:00:00",
          "2022-03-01T00:00:00",
          "2022-04-01T00:00:00",
          "2022-05-01T00:00:00",
          "2022-06-01T00:00:00",
          "2022-07-01T00:00:00",
          "2022-08-01T00:00:00",
          "2022-09-01T00:00:00",
          "2022-10-01T00:00:00",
          "2022-11-01T00:00:00",
          "2022-12-01T00:00:00",
          "2023-01-01T00:00:00",
          "2023-02-01T00:00:00",
          "2023-03-01T00:00:00",
          "2023-04-01T00:00:00",
          "2023-05-01T00:00:00",
          "2023-06-01T00:00:00",
          "2023-07-01T00:00:00",
          "2023-08-01T00:00:00",
          "2023-09-01T00:00:00",
          "2023-10-01T00:00:00",
          "2023-11-01T00:00:00",
          "2023-12-01T00:00:00",
          "2024-01-01T00:00:00",
          "2024-02-01T00:00:00",
          "2024-03-01T00:00:00",
          "2024-04-01T00:00:00",
          "2024-05-01T00:00:00",
          "2024-06-01T00:00:00"
         ],
         "xaxis": "x",
         "y": [
          184,
          179,
          197,
          206,
          195,
          197,
          184,
          175,
          175,
          180,
          163,
          166,
          155,
          155,
          166,
          166,
          161,
          174,
          176,
          160,
          163,
          188,
          165,
          167,
          151,
          147,
          169,
          149,
          127,
          123,
          182,
          146,
          164,
          147,
          149,
          162,
          154,
          151,
          175,
          219,
          213,
          228,
          230,
          224,
          221,
          226,
          210,
          225,
          223,
          208,
          219,
          225,
          229,
          223,
          232,
          212,
          197,
          198,
          193,
          188,
          177,
          173,
          191,
          213,
          182,
          185,
          181,
          187,
          174,
          170,
          163,
          172,
          184,
          172,
          173,
          168,
          172,
          150
         ],
         "yaxis": "y"
        },
        {
         "hovertemplate": "port_name=Houston Port Authority, TX<br>month=%{x}<br>Unique Vessels=%{y}<extra></extra>",
         "legendgroup": "Houston Port Authority, TX",
         "line": {
          "color": "#FFA15A",
          "dash": "solid"
         },
         "marker": {
          "symbol": "circle"
         },
         "mode": "lines",
         "name": "Houston Port Authority, TX",
         "orientation": "v",
         "showlegend": true,
         "type": "scatter",
         "x": [
          "2018-01-01T00:00:00",
          "2018-02-01T00:00:00",
          "2018-03-01T00:00:00",
          "2018-04-01T00:00:00",
          "2018-05-01T00:00:00",
          "2018-06-01T00:00:00",
          "2018-07-01T00:00:00",
          "2018-08-01T00:00:00",
          "2018-09-01T00:00:00",
          "2018-10-01T00:00:00",
          "2018-11-01T00:00:00",
          "2018-12-01T00:00:00",
          "2019-01-01T00:00:00",
          "2019-02-01T00:00:00",
          "2019-03-01T00:00:00",
          "2019-04-01T00:00:00",
          "2019-05-01T00:00:00",
          "2019-06-01T00:00:00",
          "2019-07-01T00:00:00",
          "2019-08-01T00:00:00",
          "2019-09-01T00:00:00",
          "2019-10-01T00:00:00",
          "2019-11-01T00:00:00",
          "2019-12-01T00:00:00",
          "2020-01-01T00:00:00",
          "2020-02-01T00:00:00",
          "2020-03-01T00:00:00",
          "2020-04-01T00:00:00",
          "2020-05-01T00:00:00",
          "2020-06-01T00:00:00",
          "2020-07-01T00:00:00",
          "2020-08-01T00:00:00",
          "2020-09-01T00:00:00",
          "2020-10-01T00:00:00",
          "2020-11-01T00:00:00",
          "2020-12-01T00:00:00",
          "2021-01-01T00:00:00",
          "2021-02-01T00:00:00",
          "2021-03-01T00:00:00",
          "2021-04-01T00:00:00",
          "2021-05-01T00:00:00",
          "2021-06-01T00:00:00",
          "2021-07-01T00:00:00",
          "2021-08-01T00:00:00",
          "2021-09-01T00:00:00",
          "2021-10-01T00:00:00",
          "2021-11-01T00:00:00",
          "2021-12-01T00:00:00",
          "2022-01-01T00:00:00",
          "2022-02-01T00:00:00",
          "2022-03-01T00:00:00",
          "2022-04-01T00:00:00",
          "2022-05-01T00:00:00",
          "2022-06-01T00:00:00",
          "2022-07-01T00:00:00",
          "2022-08-01T00:00:00",
          "2022-09-01T00:00:00",
          "2022-10-01T00:00:00",
          "2022-11-01T00:00:00",
          "2022-12-01T00:00:00",
          "2023-01-01T00:00:00",
          "2023-02-01T00:00:00",
          "2023-03-01T00:00:00",
          "2023-04-01T00:00:00",
          "2023-05-01T00:00:00",
          "2023-06-01T00:00:00",
          "2023-07-01T00:00:00",
          "2023-08-01T00:00:00",
          "2023-09-01T00:00:00",
          "2023-10-01T00:00:00",
          "2023-11-01T00:00:00",
          "2023-12-01T00:00:00",
          "2024-01-01T00:00:00",
          "2024-02-01T00:00:00",
          "2024-03-01T00:00:00",
          "2024-04-01T00:00:00",
          "2024-05-01T00:00:00",
          "2024-06-01T00:00:00"
         ],
         "xaxis": "x",
         "y": [
          173,
          158,
          217,
          193,
          179,
          166,
          180,
          170,
          169,
          169,
          162,
          152,
          172,
          146,
          172,
          192,
          184,
          167,
          168,
          160,
          151,
          176,
          150,
          152,
          136,
          142,
          160,
          145,
          139,
          131,
          163,
          143,
          135,
          129,
          121,
          130,
          123,
          108,
          134,
          195,
          206,
          184,
          204,
          202,
          202,
          189,
          196,
          220,
          212,
          179,
          199,
          209,
          205,
          182,
          193,
          210,
          180,
          193,
          166,
          188,
          179,
          164,
          192,
          221,
          198,
          178,
          196,
          191,
          182,
          201,
          175,
          178,
          196,
          174,
          178,
          167,
          160,
          142
         ],
         "yaxis": "y"
        }
       ],
       "layout": {
        "height": 500,
        "legend": {
         "title": {
          "text": "port_name"
         },
         "tracegroupgap": 0
        },
        "template": {
         "data": {
          "bar": [
           {
            "error_x": {
             "color": "#2a3f5f"
            },
            "error_y": {
             "color": "#2a3f5f"
            },
            "marker": {
             "line": {
              "color": "#E5ECF6",
              "width": 0.5
             },
             "pattern": {
              "fillmode": "overlay",
              "size": 10,
              "solidity": 0.2
             }
            },
            "type": "bar"
           }
          ],
          "barpolar": [
           {
            "marker": {
             "line": {
              "color": "#E5ECF6",
              "width": 0.5
             },
             "pattern": {
              "fillmode": "overlay",
              "size": 10,
              "solidity": 0.2
             }
            },
            "type": "barpolar"
           }
          ],
          "carpet": [
           {
            "aaxis": {
             "endlinecolor": "#2a3f5f",
             "gridcolor": "white",
             "linecolor": "white",
             "minorgridcolor": "white",
             "startlinecolor": "#2a3f5f"
            },
            "baxis": {
             "endlinecolor": "#2a3f5f",
             "gridcolor": "white",
             "linecolor": "white",
             "minorgridcolor": "white",
             "startlinecolor": "#2a3f5f"
            },
            "type": "carpet"
           }
          ],
          "choropleth": [
           {
            "colorbar": {
             "outlinewidth": 0,
             "ticks": ""
            },
            "type": "choropleth"
           }
          ],
          "contour": [
           {
            "colorbar": {
             "outlinewidth": 0,
             "ticks": ""
            },
            "colorscale": [
             [
              0,
              "#0d0887"
             ],
             [
              0.1111111111111111,
              "#46039f"
             ],
             [
              0.2222222222222222,
              "#7201a8"
             ],
             [
              0.3333333333333333,
              "#9c179e"
             ],
             [
              0.4444444444444444,
              "#bd3786"
             ],
             [
              0.5555555555555556,
              "#d8576b"
             ],
             [
              0.6666666666666666,
              "#ed7953"
             ],
             [
              0.7777777777777778,
              "#fb9f3a"
             ],
             [
              0.8888888888888888,
              "#fdca26"
             ],
             [
              1,
              "#f0f921"
             ]
            ],
            "type": "contour"
           }
          ],
          "contourcarpet": [
           {
            "colorbar": {
             "outlinewidth": 0,
             "ticks": ""
            },
            "type": "contourcarpet"
           }
          ],
          "heatmap": [
           {
            "colorbar": {
             "outlinewidth": 0,
             "ticks": ""
            },
            "colorscale": [
             [
              0,
              "#0d0887"
             ],
             [
              0.1111111111111111,
              "#46039f"
             ],
             [
              0.2222222222222222,
              "#7201a8"
             ],
             [
              0.3333333333333333,
              "#9c179e"
             ],
             [
              0.4444444444444444,
              "#bd3786"
             ],
             [
              0.5555555555555556,
              "#d8576b"
             ],
             [
              0.6666666666666666,
              "#ed7953"
             ],
             [
              0.7777777777777778,
              "#fb9f3a"
             ],
             [
              0.8888888888888888,
              "#fdca26"
             ],
             [
              1,
              "#f0f921"
             ]
            ],
            "type": "heatmap"
           }
          ],
          "heatmapgl": [
           {
            "colorbar": {
             "outlinewidth": 0,
             "ticks": ""
            },
            "colorscale": [
             [
              0,
              "#0d0887"
             ],
             [
              0.1111111111111111,
              "#46039f"
             ],
             [
              0.2222222222222222,
              "#7201a8"
             ],
             [
              0.3333333333333333,
              "#9c179e"
             ],
             [
              0.4444444444444444,
              "#bd3786"
             ],
             [
              0.5555555555555556,
              "#d8576b"
             ],
             [
              0.6666666666666666,
              "#ed7953"
             ],
             [
              0.7777777777777778,
              "#fb9f3a"
             ],
             [
              0.8888888888888888,
              "#fdca26"
             ],
             [
              1,
              "#f0f921"
             ]
            ],
            "type": "heatmapgl"
           }
          ],
          "histogram": [
           {
            "marker": {
             "pattern": {
              "fillmode": "overlay",
              "size": 10,
              "solidity": 0.2
             }
            },
            "type": "histogram"
           }
          ],
          "histogram2d": [
           {
            "colorbar": {
             "outlinewidth": 0,
             "ticks": ""
            },
            "colorscale": [
             [
              0,
              "#0d0887"
             ],
             [
              0.1111111111111111,
              "#46039f"
             ],
             [
              0.2222222222222222,
              "#7201a8"
             ],
             [
              0.3333333333333333,
              "#9c179e"
             ],
             [
              0.4444444444444444,
              "#bd3786"
             ],
             [
              0.5555555555555556,
              "#d8576b"
             ],
             [
              0.6666666666666666,
              "#ed7953"
             ],
             [
              0.7777777777777778,
              "#fb9f3a"
             ],
             [
              0.8888888888888888,
              "#fdca26"
             ],
             [
              1,
              "#f0f921"
             ]
            ],
            "type": "histogram2d"
           }
          ],
          "histogram2dcontour": [
           {
            "colorbar": {
             "outlinewidth": 0,
             "ticks": ""
            },
            "colorscale": [
             [
              0,
              "#0d0887"
             ],
             [
              0.1111111111111111,
              "#46039f"
             ],
             [
              0.2222222222222222,
              "#7201a8"
             ],
             [
              0.3333333333333333,
              "#9c179e"
             ],
             [
              0.4444444444444444,
              "#bd3786"
             ],
             [
              0.5555555555555556,
              "#d8576b"
             ],
             [
              0.6666666666666666,
              "#ed7953"
             ],
             [
              0.7777777777777778,
              "#fb9f3a"
             ],
             [
              0.8888888888888888,
              "#fdca26"
             ],
             [
              1,
              "#f0f921"
             ]
            ],
            "type": "histogram2dcontour"
           }
          ],
          "mesh3d": [
           {
            "colorbar": {
             "outlinewidth": 0,
             "ticks": ""
            },
            "type": "mesh3d"
           }
          ],
          "parcoords": [
           {
            "line": {
             "colorbar": {
              "outlinewidth": 0,
              "ticks": ""
             }
            },
            "type": "parcoords"
           }
          ],
          "pie": [
           {
            "automargin": true,
            "type": "pie"
           }
          ],
          "scatter": [
           {
            "fillpattern": {
             "fillmode": "overlay",
             "size": 10,
             "solidity": 0.2
            },
            "type": "scatter"
           }
          ],
          "scatter3d": [
           {
            "line": {
             "colorbar": {
              "outlinewidth": 0,
              "ticks": ""
             }
            },
            "marker": {
             "colorbar": {
              "outlinewidth": 0,
              "ticks": ""
             }
            },
            "type": "scatter3d"
           }
          ],
          "scattercarpet": [
           {
            "marker": {
             "colorbar": {
              "outlinewidth": 0,
              "ticks": ""
             }
            },
            "type": "scattercarpet"
           }
          ],
          "scattergeo": [
           {
            "marker": {
             "colorbar": {
              "outlinewidth": 0,
              "ticks": ""
             }
            },
            "type": "scattergeo"
           }
          ],
          "scattergl": [
           {
            "marker": {
             "colorbar": {
              "outlinewidth": 0,
              "ticks": ""
             }
            },
            "type": "scattergl"
           }
          ],
          "scattermapbox": [
           {
            "marker": {
             "colorbar": {
              "outlinewidth": 0,
              "ticks": ""
             }
            },
            "type": "scattermapbox"
           }
          ],
          "scatterpolar": [
           {
            "marker": {
             "colorbar": {
              "outlinewidth": 0,
              "ticks": ""
             }
            },
            "type": "scatterpolar"
           }
          ],
          "scatterpolargl": [
           {
            "marker": {
             "colorbar": {
              "outlinewidth": 0,
              "ticks": ""
             }
            },
            "type": "scatterpolargl"
           }
          ],
          "scatterternary": [
           {
            "marker": {
             "colorbar": {
              "outlinewidth": 0,
              "ticks": ""
             }
            },
            "type": "scatterternary"
           }
          ],
          "surface": [
           {
            "colorbar": {
             "outlinewidth": 0,
             "ticks": ""
            },
            "colorscale": [
             [
              0,
              "#0d0887"
             ],
             [
              0.1111111111111111,
              "#46039f"
             ],
             [
              0.2222222222222222,
              "#7201a8"
             ],
             [
              0.3333333333333333,
              "#9c179e"
             ],
             [
              0.4444444444444444,
              "#bd3786"
             ],
             [
              0.5555555555555556,
              "#d8576b"
             ],
             [
              0.6666666666666666,
              "#ed7953"
             ],
             [
              0.7777777777777778,
              "#fb9f3a"
             ],
             [
              0.8888888888888888,
              "#fdca26"
             ],
             [
              1,
              "#f0f921"
             ]
            ],
            "type": "surface"
           }
          ],
          "table": [
           {
            "cells": {
             "fill": {
              "color": "#EBF0F8"
             },
             "line": {
              "color": "white"
             }
            },
            "header": {
             "fill": {
              "color": "#C8D4E3"
             },
             "line": {
              "color": "white"
             }
            },
            "type": "table"
           }
          ]
         },
         "layout": {
          "annotationdefaults": {
           "arrowcolor": "#2a3f5f",
           "arrowhead": 0,
           "arrowwidth": 1
          },
          "autotypenumbers": "strict",
          "coloraxis": {
           "colorbar": {
            "outlinewidth": 0,
            "ticks": ""
           }
          },
          "colorscale": {
           "diverging": [
            [
             0,
             "#8e0152"
            ],
            [
             0.1,
             "#c51b7d"
            ],
            [
             0.2,
             "#de77ae"
            ],
            [
             0.3,
             "#f1b6da"
            ],
            [
             0.4,
             "#fde0ef"
            ],
            [
             0.5,
             "#f7f7f7"
            ],
            [
             0.6,
             "#e6f5d0"
            ],
            [
             0.7,
             "#b8e186"
            ],
            [
             0.8,
             "#7fbc41"
            ],
            [
             0.9,
             "#4d9221"
            ],
            [
             1,
             "#276419"
            ]
           ],
           "sequential": [
            [
             0,
             "#0d0887"
            ],
            [
             0.1111111111111111,
             "#46039f"
            ],
            [
             0.2222222222222222,
             "#7201a8"
            ],
            [
             0.3333333333333333,
             "#9c179e"
            ],
            [
             0.4444444444444444,
             "#bd3786"
            ],
            [
             0.5555555555555556,
             "#d8576b"
            ],
            [
             0.6666666666666666,
             "#ed7953"
            ],
            [
             0.7777777777777778,
             "#fb9f3a"
            ],
            [
             0.8888888888888888,
             "#fdca26"
            ],
            [
             1,
             "#f0f921"
            ]
           ],
           "sequentialminus": [
            [
             0,
             "#0d0887"
            ],
            [
             0.1111111111111111,
             "#46039f"
            ],
            [
             0.2222222222222222,
             "#7201a8"
            ],
            [
             0.3333333333333333,
             "#9c179e"
            ],
            [
             0.4444444444444444,
             "#bd3786"
            ],
            [
             0.5555555555555556,
             "#d8576b"
            ],
            [
             0.6666666666666666,
             "#ed7953"
            ],
            [
             0.7777777777777778,
             "#fb9f3a"
            ],
            [
             0.8888888888888888,
             "#fdca26"
            ],
            [
             1,
             "#f0f921"
            ]
           ]
          },
          "colorway": [
           "#636efa",
           "#EF553B",
           "#00cc96",
           "#ab63fa",
           "#FFA15A",
           "#19d3f3",
           "#FF6692",
           "#B6E880",
           "#FF97FF",
           "#FECB52"
          ],
          "font": {
           "color": "#2a3f5f"
          },
          "geo": {
           "bgcolor": "white",
           "lakecolor": "white",
           "landcolor": "#E5ECF6",
           "showlakes": true,
           "showland": true,
           "subunitcolor": "white"
          },
          "hoverlabel": {
           "align": "left"
          },
          "hovermode": "closest",
          "mapbox": {
           "style": "light"
          },
          "paper_bgcolor": "white",
          "plot_bgcolor": "#E5ECF6",
          "polar": {
           "angularaxis": {
            "gridcolor": "white",
            "linecolor": "white",
            "ticks": ""
           },
           "bgcolor": "#E5ECF6",
           "radialaxis": {
            "gridcolor": "white",
            "linecolor": "white",
            "ticks": ""
           }
          },
          "scene": {
           "xaxis": {
            "backgroundcolor": "#E5ECF6",
            "gridcolor": "white",
            "gridwidth": 2,
            "linecolor": "white",
            "showbackground": true,
            "ticks": "",
            "zerolinecolor": "white"
           },
           "yaxis": {
            "backgroundcolor": "#E5ECF6",
            "gridcolor": "white",
            "gridwidth": 2,
            "linecolor": "white",
            "showbackground": true,
            "ticks": "",
            "zerolinecolor": "white"
           },
           "zaxis": {
            "backgroundcolor": "#E5ECF6",
            "gridcolor": "white",
            "gridwidth": 2,
            "linecolor": "white",
            "showbackground": true,
            "ticks": "",
            "zerolinecolor": "white"
           }
          },
          "shapedefaults": {
           "line": {
            "color": "#2a3f5f"
           }
          },
          "ternary": {
           "aaxis": {
            "gridcolor": "white",
            "linecolor": "white",
            "ticks": ""
           },
           "baxis": {
            "gridcolor": "white",
            "linecolor": "white",
            "ticks": ""
           },
           "bgcolor": "#E5ECF6",
           "caxis": {
            "gridcolor": "white",
            "linecolor": "white",
            "ticks": ""
           }
          },
          "title": {
           "x": 0.05
          },
          "xaxis": {
           "automargin": true,
           "gridcolor": "white",
           "linecolor": "white",
           "ticks": "",
           "title": {
            "standoff": 15
           },
           "zerolinecolor": "white",
           "zerolinewidth": 2
          },
          "yaxis": {
           "automargin": true,
           "gridcolor": "white",
           "linecolor": "white",
           "ticks": "",
           "title": {
            "standoff": 15
           },
           "zerolinecolor": "white",
           "zerolinewidth": 2
          }
         }
        },
        "title": {
         "text": "Vessels per month at Principal Ports"
        },
        "width": 1000,
        "xaxis": {
         "anchor": "y",
         "domain": [
          0,
          1
         ],
         "title": {
          "text": "month"
         }
        },
        "yaxis": {
         "anchor": "x",
         "domain": [
          0,
          1
         ],
         "title": {
          "text": "Unique Vessels"
         }
        }
       }
      }
     },
     "metadata": {},
     "output_type": "display_data"
    }
   ],
   "source": [
    "px.line(\n",
    "    monthly_df\n",
    "    #restrict to top 5 ports\n",
    "    .filter(pl.col('port_name').is_in(top5ports))\n",
    "    #month in dt format\n",
    "    .with_columns(pl.col('month').str.strptime(pl.Date, format='%Y%m'))\n",
    "    .sort(by='month'), \n",
    "    #plot specs\n",
    "    x='month', y='vessels_avg', color='port_name',\n",
    "    title='Vessels per month at Principal Ports',\n",
    "    labels={'vessels_avg':'Unique Vessels'},\n",
    "    width=1000,\n",
    "    height=500 \n",
    ")"
   ]
  },
  {
   "cell_type": "code",
   "execution_count": 129,
   "metadata": {},
   "outputs": [
    {
     "data": {
      "application/vnd.plotly.v1+json": {
       "config": {
        "plotlyServerURL": "https://plot.ly"
       },
       "data": [
        {
         "hovertemplate": "port_name=South Louisiana, LA, Port of<br>month=%{x}<br>time_at_anchor_avg=%{y}<extra></extra>",
         "legendgroup": "South Louisiana, LA, Port of",
         "line": {
          "color": "#636efa",
          "dash": "solid"
         },
         "marker": {
          "symbol": "circle"
         },
         "mode": "lines",
         "name": "South Louisiana, LA, Port of",
         "orientation": "v",
         "showlegend": true,
         "type": "scatter",
         "x": [
          "2018-01-01T00:00:00",
          "2018-02-01T00:00:00",
          "2018-03-01T00:00:00",
          "2018-04-01T00:00:00",
          "2018-05-01T00:00:00",
          "2018-06-01T00:00:00",
          "2018-07-01T00:00:00",
          "2018-08-01T00:00:00",
          "2018-09-01T00:00:00",
          "2018-10-01T00:00:00",
          "2018-11-01T00:00:00",
          "2018-12-01T00:00:00",
          "2019-01-01T00:00:00",
          "2019-02-01T00:00:00",
          "2019-03-01T00:00:00",
          "2019-04-01T00:00:00",
          "2019-05-01T00:00:00",
          "2019-06-01T00:00:00",
          "2019-07-01T00:00:00",
          "2019-08-01T00:00:00",
          "2019-09-01T00:00:00",
          "2019-10-01T00:00:00",
          "2019-11-01T00:00:00",
          "2019-12-01T00:00:00",
          "2020-01-01T00:00:00",
          "2020-02-01T00:00:00",
          "2020-03-01T00:00:00",
          "2020-04-01T00:00:00",
          "2020-05-01T00:00:00",
          "2020-06-01T00:00:00",
          "2020-07-01T00:00:00",
          "2020-08-01T00:00:00",
          "2020-09-01T00:00:00",
          "2020-10-01T00:00:00",
          "2020-11-01T00:00:00",
          "2020-12-01T00:00:00",
          "2021-01-01T00:00:00",
          "2021-02-01T00:00:00",
          "2021-03-01T00:00:00",
          "2021-04-01T00:00:00",
          "2021-05-01T00:00:00",
          "2021-06-01T00:00:00",
          "2021-07-01T00:00:00",
          "2021-08-01T00:00:00",
          "2021-09-01T00:00:00",
          "2021-10-01T00:00:00",
          "2021-11-01T00:00:00",
          "2021-12-01T00:00:00",
          "2022-01-01T00:00:00",
          "2022-02-01T00:00:00",
          "2022-03-01T00:00:00",
          "2022-04-01T00:00:00",
          "2022-05-01T00:00:00",
          "2022-06-01T00:00:00",
          "2022-07-01T00:00:00",
          "2022-08-01T00:00:00",
          "2022-09-01T00:00:00",
          "2022-10-01T00:00:00",
          "2022-11-01T00:00:00",
          "2022-12-01T00:00:00",
          "2023-01-01T00:00:00",
          "2023-02-01T00:00:00",
          "2023-03-01T00:00:00",
          "2023-04-01T00:00:00",
          "2023-05-01T00:00:00",
          "2023-06-01T00:00:00",
          "2023-07-01T00:00:00",
          "2023-08-01T00:00:00",
          "2023-09-01T00:00:00",
          "2023-10-01T00:00:00",
          "2023-11-01T00:00:00",
          "2023-12-01T00:00:00",
          "2024-01-01T00:00:00",
          "2024-02-01T00:00:00",
          "2024-03-01T00:00:00",
          "2024-04-01T00:00:00",
          "2024-05-01T00:00:00",
          "2024-06-01T00:00:00"
         ],
         "xaxis": "x",
         "y": [
          41.475,
          45.96666666666667,
          29.516666666666666,
          32.88333333333333,
          46.05833333333333,
          35.583333333333336,
          36.24166666666667,
          30.066666666666666,
          43.95,
          41.275,
          33.06666666666666,
          35.625,
          28.508333333333333,
          56.766666666666666,
          48.7,
          35.95,
          38.516666666666666,
          37.68333333333333,
          49,
          21.491666666666667,
          32.93333333333333,
          36.19166666666666,
          28.733333333333334,
          31.933333333333334,
          25.65833333333333,
          26.3,
          18.058333333333334,
          23.775,
          28.091666666666665,
          43.63333333333333,
          17.991666666666667,
          19.566666666666666,
          33.74166666666667,
          27.291666666666668,
          27.65833333333333,
          36.05,
          34.3,
          26.983333333333334,
          27.366666666666667,
          29.683333333333334,
          27.333333333333332,
          18.716666666666665,
          52.324999999999996,
          35.833333333333336,
          36.35,
          34.50833333333333,
          47.208333333333336,
          23.966666666666665,
          39.84166666666667,
          43.95,
          32.175,
          28.666666666666668,
          31.666666666666668,
          36.6,
          24.65,
          28.224999999999998,
          65.725,
          54.483333333333334,
          52.891666666666666,
          38.175,
          40.11666666666667,
          35.458333333333336,
          29.099999999999998,
          22.316666666666666,
          22.716666666666665,
          30.108333333333334,
          40.266666666666666,
          44.775,
          42.63333333333333,
          53.71666666666667,
          34.733333333333334,
          29.683333333333334,
          26.724999999999998,
          47.15,
          36.24166666666667,
          22.508333333333333,
          39.525,
          24.53333333333333
         ],
         "yaxis": "y"
        },
        {
         "hovertemplate": "port_name=New York, NY & NJ<br>month=%{x}<br>time_at_anchor_avg=%{y}<extra></extra>",
         "legendgroup": "New York, NY & NJ",
         "line": {
          "color": "#EF553B",
          "dash": "solid"
         },
         "marker": {
          "symbol": "circle"
         },
         "mode": "lines",
         "name": "New York, NY & NJ",
         "orientation": "v",
         "showlegend": true,
         "type": "scatter",
         "x": [
          "2018-01-01T00:00:00",
          "2018-02-01T00:00:00",
          "2018-03-01T00:00:00",
          "2018-04-01T00:00:00",
          "2018-05-01T00:00:00",
          "2018-06-01T00:00:00",
          "2018-07-01T00:00:00",
          "2018-08-01T00:00:00",
          "2018-09-01T00:00:00",
          "2018-10-01T00:00:00",
          "2018-11-01T00:00:00",
          "2018-12-01T00:00:00",
          "2019-01-01T00:00:00",
          "2019-02-01T00:00:00",
          "2019-03-01T00:00:00",
          "2019-04-01T00:00:00",
          "2019-05-01T00:00:00",
          "2019-06-01T00:00:00",
          "2019-07-01T00:00:00",
          "2019-08-01T00:00:00",
          "2019-09-01T00:00:00",
          "2019-10-01T00:00:00",
          "2019-11-01T00:00:00",
          "2019-12-01T00:00:00",
          "2020-01-01T00:00:00",
          "2020-02-01T00:00:00",
          "2020-03-01T00:00:00",
          "2020-04-01T00:00:00",
          "2020-05-01T00:00:00",
          "2020-06-01T00:00:00",
          "2020-07-01T00:00:00",
          "2020-08-01T00:00:00",
          "2020-09-01T00:00:00",
          "2020-10-01T00:00:00",
          "2020-11-01T00:00:00",
          "2020-12-01T00:00:00",
          "2021-01-01T00:00:00",
          "2021-02-01T00:00:00",
          "2021-03-01T00:00:00",
          "2021-04-01T00:00:00",
          "2021-05-01T00:00:00",
          "2021-06-01T00:00:00",
          "2021-07-01T00:00:00",
          "2021-08-01T00:00:00",
          "2021-09-01T00:00:00",
          "2021-10-01T00:00:00",
          "2021-11-01T00:00:00",
          "2021-12-01T00:00:00",
          "2022-01-01T00:00:00",
          "2022-02-01T00:00:00",
          "2022-03-01T00:00:00",
          "2022-04-01T00:00:00",
          "2022-05-01T00:00:00",
          "2022-06-01T00:00:00",
          "2022-07-01T00:00:00",
          "2022-08-01T00:00:00",
          "2022-09-01T00:00:00",
          "2022-10-01T00:00:00",
          "2022-11-01T00:00:00",
          "2022-12-01T00:00:00",
          "2023-01-01T00:00:00",
          "2023-02-01T00:00:00",
          "2023-03-01T00:00:00",
          "2023-04-01T00:00:00",
          "2023-05-01T00:00:00",
          "2023-06-01T00:00:00",
          "2023-07-01T00:00:00",
          "2023-08-01T00:00:00",
          "2023-09-01T00:00:00",
          "2023-10-01T00:00:00",
          "2023-11-01T00:00:00",
          "2023-12-01T00:00:00",
          "2024-01-01T00:00:00",
          "2024-02-01T00:00:00",
          "2024-03-01T00:00:00",
          "2024-04-01T00:00:00",
          "2024-05-01T00:00:00",
          "2024-06-01T00:00:00"
         ],
         "xaxis": "x",
         "y": [
          22.833333333333332,
          22.541666666666668,
          17.316666666666666,
          13.566666666666666,
          13.708333333333334,
          13.083333333333334,
          20.616666666666667,
          19.1,
          30.849999999999998,
          13.825,
          12.65,
          13.833333333333334,
          18.333333333333332,
          18.441666666666666,
          14.316666666666666,
          12.466666666666667,
          17.05,
          11.566666666666666,
          19.183333333333334,
          12.433333333333334,
          16.916666666666668,
          15.65,
          12.9,
          22.066666666666666,
          14.7,
          19.941666666666666,
          11.516666666666666,
          20.40833333333333,
          22.566666666666666,
          13.708333333333334,
          9.05,
          11.833333333333334,
          10.316666666666666,
          21.883333333333333,
          11.866666666666667,
          9.4,
          16.125,
          11.5,
          13.966666666666667,
          16.258333333333333,
          15.25,
          21.425,
          19.466666666666665,
          14.083333333333334,
          21.5,
          22.391666666666666,
          11.916666666666666,
          17.733333333333334,
          14.933333333333334,
          20,
          20.1,
          17.475,
          21.841666666666665,
          30.491666666666667,
          20.241666666666667,
          20.3,
          28.7,
          24.733333333333334,
          12.975,
          12.233333333333333,
          14.158333333333333,
          12.15,
          13.666666666666666,
          11.483333333333333,
          16.616666666666667,
          10.108333333333333,
          17.066666666666666,
          22.333333333333332,
          18.916666666666668,
          18.766666666666666,
          22.05,
          19.05,
          16.125,
          15.216666666666667,
          15.2,
          24.641666666666666,
          19.141666666666666,
          19.2
         ],
         "yaxis": "y"
        },
        {
         "hovertemplate": "port_name=New Orleans, LA<br>month=%{x}<br>time_at_anchor_avg=%{y}<extra></extra>",
         "legendgroup": "New Orleans, LA",
         "line": {
          "color": "#00cc96",
          "dash": "solid"
         },
         "marker": {
          "symbol": "circle"
         },
         "mode": "lines",
         "name": "New Orleans, LA",
         "orientation": "v",
         "showlegend": true,
         "type": "scatter",
         "x": [
          "2018-01-01T00:00:00",
          "2018-02-01T00:00:00",
          "2018-03-01T00:00:00",
          "2018-04-01T00:00:00",
          "2018-05-01T00:00:00",
          "2018-06-01T00:00:00",
          "2018-07-01T00:00:00",
          "2018-08-01T00:00:00",
          "2018-09-01T00:00:00",
          "2018-10-01T00:00:00",
          "2018-11-01T00:00:00",
          "2018-12-01T00:00:00",
          "2019-01-01T00:00:00",
          "2019-02-01T00:00:00",
          "2019-03-01T00:00:00",
          "2019-04-01T00:00:00",
          "2019-05-01T00:00:00",
          "2019-06-01T00:00:00",
          "2019-07-01T00:00:00",
          "2019-08-01T00:00:00",
          "2019-09-01T00:00:00",
          "2019-10-01T00:00:00",
          "2019-11-01T00:00:00",
          "2019-12-01T00:00:00",
          "2020-01-01T00:00:00",
          "2020-02-01T00:00:00",
          "2020-03-01T00:00:00",
          "2020-04-01T00:00:00",
          "2020-05-01T00:00:00",
          "2020-06-01T00:00:00",
          "2020-07-01T00:00:00",
          "2020-08-01T00:00:00",
          "2020-09-01T00:00:00",
          "2020-10-01T00:00:00",
          "2020-11-01T00:00:00",
          "2020-12-01T00:00:00",
          "2021-01-01T00:00:00",
          "2021-02-01T00:00:00",
          "2021-03-01T00:00:00",
          "2021-04-01T00:00:00",
          "2021-05-01T00:00:00",
          "2021-06-01T00:00:00",
          "2021-07-01T00:00:00",
          "2021-08-01T00:00:00",
          "2021-09-01T00:00:00",
          "2021-10-01T00:00:00",
          "2021-11-01T00:00:00",
          "2021-12-01T00:00:00",
          "2022-01-01T00:00:00",
          "2022-02-01T00:00:00",
          "2022-03-01T00:00:00",
          "2022-04-01T00:00:00",
          "2022-05-01T00:00:00",
          "2022-06-01T00:00:00",
          "2022-07-01T00:00:00",
          "2022-08-01T00:00:00",
          "2022-09-01T00:00:00",
          "2022-10-01T00:00:00",
          "2022-11-01T00:00:00",
          "2022-12-01T00:00:00",
          "2023-01-01T00:00:00",
          "2023-02-01T00:00:00",
          "2023-03-01T00:00:00",
          "2023-04-01T00:00:00",
          "2023-05-01T00:00:00",
          "2023-06-01T00:00:00",
          "2023-07-01T00:00:00",
          "2023-08-01T00:00:00",
          "2023-09-01T00:00:00",
          "2023-10-01T00:00:00",
          "2023-11-01T00:00:00",
          "2023-12-01T00:00:00",
          "2024-01-01T00:00:00",
          "2024-02-01T00:00:00",
          "2024-03-01T00:00:00",
          "2024-04-01T00:00:00",
          "2024-05-01T00:00:00",
          "2024-06-01T00:00:00"
         ],
         "xaxis": "x",
         "y": [
          25.133333333333333,
          24.1,
          30.65833333333333,
          30.7,
          26.416666666666668,
          20.916666666666668,
          22.45,
          30.433333333333334,
          32.666666666666664,
          29.8,
          25.375,
          30.15833333333333,
          27.03333333333333,
          22.608333333333334,
          34.9,
          38.516666666666666,
          76.4,
          32.5,
          37.733333333333334,
          33.3,
          21.266666666666666,
          25.433333333333334,
          18.725,
          20.025,
          14.25,
          19.3,
          15.6,
          21.166666666666668,
          17.691666666666666,
          26.9,
          13.316666666666666,
          39.53333333333333,
          24.825,
          14.658333333333333,
          17.516666666666666,
          22.03333333333333,
          21.333333333333332,
          22.466666666666665,
          22.333333333333332,
          25.675,
          23.133333333333333,
          24.925,
          19.966666666666665,
          31.683333333333334,
          29.175,
          35.925,
          38.78333333333333,
          21.78333333333333,
          52.56666666666666,
          28.566666666666666,
          29.45,
          25.216666666666665,
          36.05,
          22.466666666666665,
          31.375,
          26.083333333333332,
          27.266666666666666,
          29.433333333333334,
          20.28333333333333,
          40.96666666666667,
          33.725,
          20.65,
          27.066666666666666,
          27.25,
          16.258333333333333,
          36.3,
          30.25,
          35.18333333333333,
          31.883333333333333,
          34.525,
          40.81666666666666,
          31.733333333333334,
          16.2,
          24.633333333333333,
          27.066666666666666,
          33.266666666666666,
          29.116666666666667,
          15.908333333333333
         ],
         "yaxis": "y"
        },
        {
         "hovertemplate": "port_name=Corpus Christi, TX<br>month=%{x}<br>time_at_anchor_avg=%{y}<extra></extra>",
         "legendgroup": "Corpus Christi, TX",
         "line": {
          "color": "#ab63fa",
          "dash": "solid"
         },
         "marker": {
          "symbol": "circle"
         },
         "mode": "lines",
         "name": "Corpus Christi, TX",
         "orientation": "v",
         "showlegend": true,
         "type": "scatter",
         "x": [
          "2018-01-01T00:00:00",
          "2018-02-01T00:00:00",
          "2018-03-01T00:00:00",
          "2018-04-01T00:00:00",
          "2018-05-01T00:00:00",
          "2018-06-01T00:00:00",
          "2018-07-01T00:00:00",
          "2018-08-01T00:00:00",
          "2018-09-01T00:00:00",
          "2018-10-01T00:00:00",
          "2018-11-01T00:00:00",
          "2018-12-01T00:00:00",
          "2019-01-01T00:00:00",
          "2019-02-01T00:00:00",
          "2019-03-01T00:00:00",
          "2019-04-01T00:00:00",
          "2019-05-01T00:00:00",
          "2019-06-01T00:00:00",
          "2019-07-01T00:00:00",
          "2019-08-01T00:00:00",
          "2019-09-01T00:00:00",
          "2019-10-01T00:00:00",
          "2019-11-01T00:00:00",
          "2019-12-01T00:00:00",
          "2020-01-01T00:00:00",
          "2020-02-01T00:00:00",
          "2020-03-01T00:00:00",
          "2020-04-01T00:00:00",
          "2020-05-01T00:00:00",
          "2020-06-01T00:00:00",
          "2020-07-01T00:00:00",
          "2020-08-01T00:00:00",
          "2020-09-01T00:00:00",
          "2020-10-01T00:00:00",
          "2020-11-01T00:00:00",
          "2020-12-01T00:00:00",
          "2021-01-01T00:00:00",
          "2021-02-01T00:00:00",
          "2021-03-01T00:00:00",
          "2021-04-01T00:00:00",
          "2021-05-01T00:00:00",
          "2021-06-01T00:00:00",
          "2021-07-01T00:00:00",
          "2021-08-01T00:00:00",
          "2021-09-01T00:00:00",
          "2021-10-01T00:00:00",
          "2021-11-01T00:00:00",
          "2021-12-01T00:00:00",
          "2022-01-01T00:00:00",
          "2022-02-01T00:00:00",
          "2022-03-01T00:00:00",
          "2022-04-01T00:00:00",
          "2022-05-01T00:00:00",
          "2022-06-01T00:00:00",
          "2022-07-01T00:00:00",
          "2022-08-01T00:00:00",
          "2022-09-01T00:00:00",
          "2022-10-01T00:00:00",
          "2022-11-01T00:00:00",
          "2022-12-01T00:00:00",
          "2023-01-01T00:00:00",
          "2023-02-01T00:00:00",
          "2023-03-01T00:00:00",
          "2023-04-01T00:00:00",
          "2023-05-01T00:00:00",
          "2023-06-01T00:00:00",
          "2023-07-01T00:00:00",
          "2023-08-01T00:00:00",
          "2023-09-01T00:00:00",
          "2023-10-01T00:00:00",
          "2023-11-01T00:00:00",
          "2023-12-01T00:00:00",
          "2024-01-01T00:00:00",
          "2024-02-01T00:00:00",
          "2024-03-01T00:00:00",
          "2024-04-01T00:00:00",
          "2024-05-01T00:00:00",
          "2024-06-01T00:00:00"
         ],
         "xaxis": "x",
         "y": [
          51.68333333333333,
          54.05,
          52.28333333333333,
          40.38333333333333,
          31.833333333333332,
          29.2,
          45.71666666666667,
          22.816666666666666,
          24.916666666666668,
          25.53333333333333,
          29.816666666666666,
          41.96666666666667,
          26.016666666666666,
          18.933333333333334,
          34.8,
          43.166666666666664,
          23.466666666666665,
          26.933333333333334,
          30.091666666666665,
          21.566666666666666,
          26.28333333333333,
          24.483333333333334,
          28.741666666666667,
          32.608333333333334,
          32.21666666666667,
          42.78333333333333,
          41.325,
          29.358333333333334,
          28.866666666666667,
          25.591666666666665,
          27.616666666666667,
          28.816666666666666,
          32.166666666666664,
          17.875,
          18.716666666666665,
          29.224999999999998,
          21.441666666666666,
          27.183333333333334,
          21.016666666666666,
          29.241666666666667,
          26.458333333333332,
          23.766666666666666,
          26.966666666666665,
          31.108333333333334,
          17.616666666666667,
          22.683333333333334,
          27.599999999999998,
          23.508333333333333,
          26.525,
          27.3,
          22.616666666666667,
          25.4,
          30.2,
          33.8,
          33.65833333333333,
          25.7,
          27.716666666666665,
          26.65833333333333,
          27.216666666666665,
          25.958333333333332,
          36.358333333333334,
          30.05,
          43.65,
          32.141666666666666,
          23.983333333333334,
          38.75,
          24.883333333333333,
          28.966666666666665,
          27.191666666666666,
          31.666666666666668,
          33.916666666666664,
          31.516666666666666,
          26.466666666666665,
          33.36666666666667,
          32.25,
          31.358333333333334,
          22.666666666666668,
          23.5
         ],
         "yaxis": "y"
        },
        {
         "hovertemplate": "port_name=Virginia, VA, Port of<br>month=%{x}<br>time_at_anchor_avg=%{y}<extra></extra>",
         "legendgroup": "Virginia, VA, Port of",
         "line": {
          "color": "#FFA15A",
          "dash": "solid"
         },
         "marker": {
          "symbol": "circle"
         },
         "mode": "lines",
         "name": "Virginia, VA, Port of",
         "orientation": "v",
         "showlegend": true,
         "type": "scatter",
         "x": [
          "2018-01-01T00:00:00",
          "2018-02-01T00:00:00",
          "2018-03-01T00:00:00",
          "2018-04-01T00:00:00",
          "2018-05-01T00:00:00",
          "2018-06-01T00:00:00",
          "2018-07-01T00:00:00",
          "2018-08-01T00:00:00",
          "2018-09-01T00:00:00",
          "2018-10-01T00:00:00",
          "2018-11-01T00:00:00",
          "2018-12-01T00:00:00",
          "2019-01-01T00:00:00",
          "2019-02-01T00:00:00",
          "2019-03-01T00:00:00",
          "2019-04-01T00:00:00",
          "2019-05-01T00:00:00",
          "2019-06-01T00:00:00",
          "2019-07-01T00:00:00",
          "2019-08-01T00:00:00",
          "2019-09-01T00:00:00",
          "2019-10-01T00:00:00",
          "2019-11-01T00:00:00",
          "2019-12-01T00:00:00",
          "2020-01-01T00:00:00",
          "2020-02-01T00:00:00",
          "2020-03-01T00:00:00",
          "2020-04-01T00:00:00",
          "2020-05-01T00:00:00",
          "2020-06-01T00:00:00",
          "2020-07-01T00:00:00",
          "2020-08-01T00:00:00",
          "2020-09-01T00:00:00",
          "2020-10-01T00:00:00",
          "2020-11-01T00:00:00",
          "2020-12-01T00:00:00",
          "2021-01-01T00:00:00",
          "2021-02-01T00:00:00",
          "2021-03-01T00:00:00",
          "2021-04-01T00:00:00",
          "2021-05-01T00:00:00",
          "2021-06-01T00:00:00",
          "2021-07-01T00:00:00",
          "2021-08-01T00:00:00",
          "2021-09-01T00:00:00",
          "2021-10-01T00:00:00",
          "2021-11-01T00:00:00",
          "2021-12-01T00:00:00",
          "2022-01-01T00:00:00",
          "2022-02-01T00:00:00",
          "2022-03-01T00:00:00",
          "2022-04-01T00:00:00",
          "2022-05-01T00:00:00",
          "2022-06-01T00:00:00",
          "2022-07-01T00:00:00",
          "2022-08-01T00:00:00",
          "2022-09-01T00:00:00",
          "2022-10-01T00:00:00",
          "2022-11-01T00:00:00",
          "2022-12-01T00:00:00",
          "2023-01-01T00:00:00",
          "2023-02-01T00:00:00",
          "2023-03-01T00:00:00",
          "2023-04-01T00:00:00",
          "2023-05-01T00:00:00",
          "2023-06-01T00:00:00",
          "2023-07-01T00:00:00",
          "2023-08-01T00:00:00",
          "2023-09-01T00:00:00",
          "2023-10-01T00:00:00",
          "2023-11-01T00:00:00",
          "2023-12-01T00:00:00",
          "2024-01-01T00:00:00",
          "2024-02-01T00:00:00",
          "2024-03-01T00:00:00",
          "2024-04-01T00:00:00",
          "2024-05-01T00:00:00",
          "2024-06-01T00:00:00"
         ],
         "xaxis": "x",
         "y": [
          39.68333333333333,
          37.44166666666666,
          53.99166666666667,
          30.216666666666665,
          33,
          103.14999999999999,
          29.15,
          31.308333333333334,
          31.099999999999998,
          29.825,
          29.4,
          39.15833333333333,
          42.9,
          38.11666666666667,
          38.56666666666666,
          30.15,
          23.966666666666665,
          18.475,
          19.483333333333334,
          16.716666666666665,
          20.041666666666668,
          23.983333333333334,
          13.375,
          22.966666666666665,
          17.866666666666667,
          19,
          12.725,
          18.45,
          17.28333333333333,
          25.666666666666668,
          29.875,
          26.716666666666665,
          27.95,
          23,
          21.5,
          45.983333333333334,
          46.416666666666664,
          30.40833333333333,
          23.866666666666667,
          30.733333333333334,
          21.15,
          30.53333333333333,
          24.05,
          24.8,
          27.95,
          32.016666666666666,
          29.883333333333333,
          36.95,
          44.108333333333334,
          66.03333333333333,
          63.56666666666666,
          70.875,
          51.791666666666664,
          25.791666666666668,
          38.583333333333336,
          17.433333333333334,
          36.31666666666666,
          37.15,
          40.43333333333333,
          46.6,
          42.291666666666664,
          30.933333333333334,
          27.091666666666665,
          11.866666666666667,
          40.25,
          30.266666666666666,
          32.65,
          23.491666666666667,
          40.6,
          22.425,
          37.81666666666666,
          39.583333333333336,
          35.05833333333333,
          33.15833333333333,
          39.65833333333333,
          31.916666666666668,
          39.88333333333333,
          22.666666666666668
         ],
         "yaxis": "y"
        },
        {
         "hovertemplate": "port_name=Port of Long Beach, CA<br>month=%{x}<br>time_at_anchor_avg=%{y}<extra></extra>",
         "legendgroup": "Port of Long Beach, CA",
         "line": {
          "color": "#19d3f3",
          "dash": "solid"
         },
         "marker": {
          "symbol": "circle"
         },
         "mode": "lines",
         "name": "Port of Long Beach, CA",
         "orientation": "v",
         "showlegend": true,
         "type": "scatter",
         "x": [
          "2018-01-01T00:00:00",
          "2018-02-01T00:00:00",
          "2018-03-01T00:00:00",
          "2018-04-01T00:00:00",
          "2018-05-01T00:00:00",
          "2018-06-01T00:00:00",
          "2018-07-01T00:00:00",
          "2018-08-01T00:00:00",
          "2018-09-01T00:00:00",
          "2018-10-01T00:00:00",
          "2018-11-01T00:00:00",
          "2018-12-01T00:00:00",
          "2019-01-01T00:00:00",
          "2019-02-01T00:00:00",
          "2019-03-01T00:00:00",
          "2019-04-01T00:00:00",
          "2019-05-01T00:00:00",
          "2019-06-01T00:00:00",
          "2019-07-01T00:00:00",
          "2019-08-01T00:00:00",
          "2019-09-01T00:00:00",
          "2019-10-01T00:00:00",
          "2019-11-01T00:00:00",
          "2019-12-01T00:00:00",
          "2020-01-01T00:00:00",
          "2020-02-01T00:00:00",
          "2020-03-01T00:00:00",
          "2020-04-01T00:00:00",
          "2020-05-01T00:00:00",
          "2020-06-01T00:00:00",
          "2020-07-01T00:00:00",
          "2020-08-01T00:00:00",
          "2020-09-01T00:00:00",
          "2020-10-01T00:00:00",
          "2020-11-01T00:00:00",
          "2020-12-01T00:00:00",
          "2021-01-01T00:00:00",
          "2021-02-01T00:00:00",
          "2021-03-01T00:00:00",
          "2021-04-01T00:00:00",
          "2021-05-01T00:00:00",
          "2021-06-01T00:00:00",
          "2021-07-01T00:00:00",
          "2021-08-01T00:00:00",
          "2021-09-01T00:00:00",
          "2021-10-01T00:00:00",
          "2021-11-01T00:00:00",
          "2021-12-01T00:00:00",
          "2022-01-01T00:00:00",
          "2022-02-01T00:00:00",
          "2022-03-01T00:00:00",
          "2022-04-01T00:00:00",
          "2022-05-01T00:00:00",
          "2022-06-01T00:00:00",
          "2022-07-01T00:00:00",
          "2022-08-01T00:00:00",
          "2022-09-01T00:00:00",
          "2022-10-01T00:00:00",
          "2022-11-01T00:00:00",
          "2022-12-01T00:00:00",
          "2023-01-01T00:00:00",
          "2023-02-01T00:00:00",
          "2023-03-01T00:00:00",
          "2023-04-01T00:00:00",
          "2023-05-01T00:00:00",
          "2023-06-01T00:00:00",
          "2023-07-01T00:00:00",
          "2023-08-01T00:00:00",
          "2023-09-01T00:00:00",
          "2023-10-01T00:00:00",
          "2023-11-01T00:00:00",
          "2023-12-01T00:00:00",
          "2024-01-01T00:00:00",
          "2024-02-01T00:00:00",
          "2024-03-01T00:00:00",
          "2024-04-01T00:00:00",
          "2024-05-01T00:00:00",
          "2024-06-01T00:00:00"
         ],
         "xaxis": "x",
         "y": [
          22.466666666666665,
          37.18333333333333,
          27.099999999999998,
          50,
          34.28333333333333,
          32.03333333333333,
          33.666666666666664,
          24.15,
          26.633333333333333,
          22.266666666666666,
          24.3,
          29.791666666666668,
          44.458333333333336,
          28.608333333333334,
          26.083333333333332,
          28.05,
          39.56666666666666,
          32.50833333333333,
          37.06666666666666,
          22.666666666666668,
          33.325,
          42.916666666666664,
          24.03333333333333,
          32.208333333333336,
          54.083333333333336,
          29.566666666666666,
          39.358333333333334,
          89.575,
          27.483333333333334,
          24.4,
          19.833333333333332,
          21.125,
          19.133333333333333,
          28.25,
          22.35,
          47.71666666666667,
          49.675,
          36.55,
          51.44166666666666,
          46.85,
          31.166666666666668,
          20.116666666666667,
          43.833333333333336,
          41.6,
          52.416666666666664,
          37.95,
          21.633333333333333,
          15.666666666666666,
          10.141666666666666,
          12.05,
          11.758333333333333,
          17.016666666666666,
          19.8,
          17.683333333333334,
          26.133333333333333,
          24.2,
          30.8,
          25.266666666666666,
          24.016666666666666,
          30.041666666666668,
          20.516666666666666,
          32.733333333333334,
          44.25833333333333,
          28.875,
          22.866666666666667,
          26.716666666666665,
          34.4,
          30.25,
          23.05,
          30.366666666666667,
          37.541666666666664,
          54.78333333333333,
          38.63333333333333,
          49.125,
          45.31666666666666,
          33.733333333333334,
          44.016666666666666,
          40.21666666666667
         ],
         "yaxis": "y"
        },
        {
         "hovertemplate": "port_name=Lake Charles Harbor District, LA<br>month=%{x}<br>time_at_anchor_avg=%{y}<extra></extra>",
         "legendgroup": "Lake Charles Harbor District, LA",
         "line": {
          "color": "#FF6692",
          "dash": "solid"
         },
         "marker": {
          "symbol": "circle"
         },
         "mode": "lines",
         "name": "Lake Charles Harbor District, LA",
         "orientation": "v",
         "showlegend": true,
         "type": "scatter",
         "x": [
          "2018-01-01T00:00:00",
          "2018-02-01T00:00:00",
          "2018-03-01T00:00:00",
          "2018-04-01T00:00:00",
          "2018-05-01T00:00:00",
          "2018-06-01T00:00:00",
          "2018-07-01T00:00:00",
          "2018-08-01T00:00:00",
          "2018-09-01T00:00:00",
          "2018-10-01T00:00:00",
          "2018-11-01T00:00:00",
          "2018-12-01T00:00:00",
          "2019-01-01T00:00:00",
          "2019-02-01T00:00:00",
          "2019-03-01T00:00:00",
          "2019-04-01T00:00:00",
          "2019-05-01T00:00:00",
          "2019-06-01T00:00:00",
          "2019-07-01T00:00:00",
          "2019-08-01T00:00:00",
          "2019-09-01T00:00:00",
          "2019-10-01T00:00:00",
          "2019-11-01T00:00:00",
          "2019-12-01T00:00:00",
          "2020-01-01T00:00:00",
          "2020-02-01T00:00:00",
          "2020-03-01T00:00:00",
          "2020-04-01T00:00:00",
          "2020-05-01T00:00:00",
          "2020-06-01T00:00:00",
          "2020-07-01T00:00:00",
          "2020-08-01T00:00:00",
          "2020-09-01T00:00:00",
          "2020-10-01T00:00:00",
          "2020-11-01T00:00:00",
          "2020-12-01T00:00:00",
          "2021-01-01T00:00:00",
          "2021-02-01T00:00:00",
          "2021-03-01T00:00:00",
          "2021-04-01T00:00:00",
          "2021-05-01T00:00:00",
          "2021-06-01T00:00:00",
          "2021-07-01T00:00:00",
          "2021-08-01T00:00:00",
          "2021-09-01T00:00:00",
          "2021-10-01T00:00:00",
          "2021-11-01T00:00:00",
          "2021-12-01T00:00:00",
          "2022-01-01T00:00:00",
          "2022-02-01T00:00:00",
          "2022-03-01T00:00:00",
          "2022-04-01T00:00:00",
          "2022-05-01T00:00:00",
          "2022-06-01T00:00:00",
          "2022-07-01T00:00:00",
          "2022-08-01T00:00:00",
          "2022-09-01T00:00:00",
          "2022-10-01T00:00:00",
          "2022-11-01T00:00:00",
          "2022-12-01T00:00:00",
          "2023-01-01T00:00:00",
          "2023-02-01T00:00:00",
          "2023-03-01T00:00:00",
          "2023-04-01T00:00:00",
          "2023-05-01T00:00:00",
          "2023-06-01T00:00:00",
          "2023-07-01T00:00:00",
          "2023-08-01T00:00:00",
          "2023-09-01T00:00:00",
          "2023-10-01T00:00:00",
          "2023-11-01T00:00:00",
          "2023-12-01T00:00:00",
          "2024-01-01T00:00:00",
          "2024-02-01T00:00:00",
          "2024-03-01T00:00:00",
          "2024-04-01T00:00:00",
          "2024-05-01T00:00:00",
          "2024-06-01T00:00:00"
         ],
         "xaxis": "x",
         "y": [
          22.566666666666666,
          36.11666666666667,
          26.008333333333333,
          31.366666666666667,
          34.125,
          28.358333333333334,
          22.05,
          30.833333333333332,
          44.46666666666667,
          27.341666666666665,
          26.983333333333334,
          33.46666666666667,
          42.108333333333334,
          28.95,
          20.483333333333334,
          43.583333333333336,
          33.075,
          28.2,
          23.133333333333333,
          42.7,
          27.5,
          32.88333333333333,
          27.291666666666668,
          21.458333333333332,
          18.566666666666666,
          26.766666666666666,
          21.691666666666666,
          32.68333333333333,
          41.791666666666664,
          13.975,
          22.891666666666666,
          16.216666666666665,
          55.708333333333336,
          68.5,
          19.466666666666665,
          23.816666666666666,
          16.216666666666665,
          25.583333333333332,
          12.25,
          17.966666666666665,
          28.433333333333334,
          32.03333333333333,
          25.816666666666666,
          25.3,
          19.35,
          24.441666666666666,
          24.6,
          26.90833333333333,
          20.366666666666667,
          24.78333333333333,
          25.191666666666666,
          18.491666666666667,
          16.983333333333334,
          29.075,
          17.7,
          25.266666666666666,
          24.28333333333333,
          19.166666666666668,
          29.349999999999998,
          23.05,
          26.066666666666666,
          26.733333333333334,
          23.466666666666665,
          18.35,
          19.716666666666665,
          16.766666666666666,
          20.191666666666666,
          28.45,
          15.866666666666667,
          19.2,
          17.483333333333334,
          27.8,
          22.7,
          42.1,
          26.599999999999998,
          11.233333333333333,
          26.016666666666666,
          22.733333333333334
         ],
         "yaxis": "y"
        },
        {
         "hovertemplate": "port_name=Houston Port Authority, TX<br>month=%{x}<br>time_at_anchor_avg=%{y}<extra></extra>",
         "legendgroup": "Houston Port Authority, TX",
         "line": {
          "color": "#B6E880",
          "dash": "solid"
         },
         "marker": {
          "symbol": "circle"
         },
         "mode": "lines",
         "name": "Houston Port Authority, TX",
         "orientation": "v",
         "showlegend": true,
         "type": "scatter",
         "x": [
          "2018-01-01T00:00:00",
          "2018-02-01T00:00:00",
          "2018-03-01T00:00:00",
          "2018-04-01T00:00:00",
          "2018-05-01T00:00:00",
          "2018-06-01T00:00:00",
          "2018-07-01T00:00:00",
          "2018-08-01T00:00:00",
          "2018-09-01T00:00:00",
          "2018-10-01T00:00:00",
          "2018-11-01T00:00:00",
          "2018-12-01T00:00:00",
          "2019-01-01T00:00:00",
          "2019-02-01T00:00:00",
          "2019-03-01T00:00:00",
          "2019-04-01T00:00:00",
          "2019-05-01T00:00:00",
          "2019-06-01T00:00:00",
          "2019-07-01T00:00:00",
          "2019-08-01T00:00:00",
          "2019-09-01T00:00:00",
          "2019-10-01T00:00:00",
          "2019-11-01T00:00:00",
          "2019-12-01T00:00:00",
          "2020-01-01T00:00:00",
          "2020-02-01T00:00:00",
          "2020-03-01T00:00:00",
          "2020-04-01T00:00:00",
          "2020-05-01T00:00:00",
          "2020-06-01T00:00:00",
          "2020-07-01T00:00:00",
          "2020-08-01T00:00:00",
          "2020-09-01T00:00:00",
          "2020-10-01T00:00:00",
          "2020-11-01T00:00:00",
          "2020-12-01T00:00:00",
          "2021-01-01T00:00:00",
          "2021-02-01T00:00:00",
          "2021-03-01T00:00:00",
          "2021-04-01T00:00:00",
          "2021-05-01T00:00:00",
          "2021-06-01T00:00:00",
          "2021-07-01T00:00:00",
          "2021-08-01T00:00:00",
          "2021-09-01T00:00:00",
          "2021-10-01T00:00:00",
          "2021-11-01T00:00:00",
          "2021-12-01T00:00:00",
          "2022-01-01T00:00:00",
          "2022-02-01T00:00:00",
          "2022-03-01T00:00:00",
          "2022-04-01T00:00:00",
          "2022-05-01T00:00:00",
          "2022-06-01T00:00:00",
          "2022-07-01T00:00:00",
          "2022-08-01T00:00:00",
          "2022-09-01T00:00:00",
          "2022-10-01T00:00:00",
          "2022-11-01T00:00:00",
          "2022-12-01T00:00:00",
          "2023-01-01T00:00:00",
          "2023-02-01T00:00:00",
          "2023-03-01T00:00:00",
          "2023-04-01T00:00:00",
          "2023-05-01T00:00:00",
          "2023-06-01T00:00:00",
          "2023-07-01T00:00:00",
          "2023-08-01T00:00:00",
          "2023-09-01T00:00:00",
          "2023-10-01T00:00:00",
          "2023-11-01T00:00:00",
          "2023-12-01T00:00:00",
          "2024-01-01T00:00:00",
          "2024-02-01T00:00:00",
          "2024-03-01T00:00:00",
          "2024-04-01T00:00:00",
          "2024-05-01T00:00:00",
          "2024-06-01T00:00:00"
         ],
         "xaxis": "x",
         "y": [
          35.516666666666666,
          44.13333333333333,
          39.99166666666667,
          32.68333333333333,
          29.95,
          32.1,
          31.708333333333332,
          36.233333333333334,
          26.233333333333334,
          22.716666666666665,
          25.708333333333332,
          14.216666666666667,
          18.78333333333333,
          48.916666666666664,
          56.13333333333333,
          51.675,
          20.45,
          44.641666666666666,
          20.933333333333334,
          34.55,
          32.86666666666667,
          40.8,
          31.941666666666666,
          25.5,
          37.35,
          46.7,
          31.433333333333334,
          40.09166666666667,
          36.24166666666667,
          21.383333333333333,
          34.483333333333334,
          25.866666666666667,
          36.53333333333333,
          26.7,
          21.05,
          32.2,
          28.4,
          40.78333333333333,
          27.7,
          36.958333333333336,
          42.49166666666667,
          34.88333333333333,
          37.45,
          41.983333333333334,
          31.5,
          29.65,
          33.1,
          34.99166666666667,
          31.366666666666667,
          35.43333333333333,
          36.96666666666667,
          30.441666666666666,
          34.21666666666667,
          28.233333333333334,
          50.11666666666667,
          25.016666666666666,
          30.433333333333334,
          29.741666666666667,
          28.733333333333334,
          43.68333333333333,
          26.916666666666668,
          31.358333333333334,
          31.866666666666667,
          25.966666666666665,
          43.68333333333333,
          34.18333333333333,
          23.641666666666666,
          36.916666666666664,
          49.11666666666667,
          32.13333333333333,
          35.95,
          34.18333333333333,
          27.166666666666668,
          26.466666666666665,
          33.71666666666667,
          40.05,
          44.9,
          48.28333333333333
         ],
         "yaxis": "y"
        },
        {
         "hovertemplate": "port_name=Beaumont, TX<br>month=%{x}<br>time_at_anchor_avg=%{y}<extra></extra>",
         "legendgroup": "Beaumont, TX",
         "line": {
          "color": "#FF97FF",
          "dash": "solid"
         },
         "marker": {
          "symbol": "circle"
         },
         "mode": "lines",
         "name": "Beaumont, TX",
         "orientation": "v",
         "showlegend": true,
         "type": "scatter",
         "x": [
          "2018-01-01T00:00:00",
          "2018-02-01T00:00:00",
          "2018-03-01T00:00:00",
          "2018-04-01T00:00:00",
          "2018-05-01T00:00:00",
          "2018-06-01T00:00:00",
          "2018-07-01T00:00:00",
          "2018-08-01T00:00:00",
          "2018-09-01T00:00:00",
          "2018-10-01T00:00:00",
          "2018-11-01T00:00:00",
          "2018-12-01T00:00:00",
          "2019-01-01T00:00:00",
          "2019-02-01T00:00:00",
          "2019-03-01T00:00:00",
          "2019-04-01T00:00:00",
          "2019-05-01T00:00:00",
          "2019-06-01T00:00:00",
          "2019-07-01T00:00:00",
          "2019-08-01T00:00:00",
          "2019-09-01T00:00:00",
          "2019-10-01T00:00:00",
          "2019-11-01T00:00:00",
          "2019-12-01T00:00:00",
          "2020-01-01T00:00:00",
          "2020-02-01T00:00:00",
          "2020-03-01T00:00:00",
          "2020-04-01T00:00:00",
          "2020-05-01T00:00:00",
          "2020-06-01T00:00:00",
          "2020-07-01T00:00:00",
          "2020-08-01T00:00:00",
          "2020-09-01T00:00:00",
          "2020-10-01T00:00:00",
          "2020-11-01T00:00:00",
          "2020-12-01T00:00:00",
          "2021-01-01T00:00:00",
          "2021-02-01T00:00:00",
          "2021-03-01T00:00:00",
          "2021-04-01T00:00:00",
          "2021-05-01T00:00:00",
          "2021-06-01T00:00:00",
          "2021-07-01T00:00:00",
          "2021-08-01T00:00:00",
          "2021-09-01T00:00:00",
          "2021-10-01T00:00:00",
          "2021-11-01T00:00:00",
          "2021-12-01T00:00:00",
          "2022-01-01T00:00:00",
          "2022-02-01T00:00:00",
          "2022-03-01T00:00:00",
          "2022-04-01T00:00:00",
          "2022-05-01T00:00:00",
          "2022-06-01T00:00:00",
          "2022-07-01T00:00:00",
          "2022-08-01T00:00:00",
          "2022-09-01T00:00:00",
          "2022-10-01T00:00:00",
          "2022-11-01T00:00:00",
          "2022-12-01T00:00:00",
          "2023-01-01T00:00:00",
          "2023-02-01T00:00:00",
          "2023-03-01T00:00:00",
          "2023-04-01T00:00:00",
          "2023-05-01T00:00:00",
          "2023-06-01T00:00:00",
          "2023-07-01T00:00:00",
          "2023-08-01T00:00:00",
          "2023-09-01T00:00:00",
          "2023-10-01T00:00:00",
          "2023-11-01T00:00:00",
          "2023-12-01T00:00:00",
          "2024-01-01T00:00:00",
          "2024-02-01T00:00:00",
          "2024-03-01T00:00:00",
          "2024-04-01T00:00:00",
          "2024-05-01T00:00:00",
          "2024-06-01T00:00:00"
         ],
         "xaxis": "x",
         "y": [
          19.441666666666666,
          31.375,
          27.9,
          20.7,
          17.016666666666666,
          24.516666666666666,
          20.2,
          13.808333333333334,
          28.016666666666666,
          23.65,
          31.916666666666668,
          26.616666666666667,
          19.65,
          56.71666666666667,
          38.125,
          24.691666666666666,
          24.85,
          20.466666666666665,
          23.608333333333334,
          24.1,
          15.533333333333333,
          28.316666666666666,
          11.45,
          24.175,
          33.36666666666667,
          16.266666666666666,
          33.225,
          26.15,
          30.983333333333334,
          23.391666666666666,
          27.466666666666665,
          33,
          19.566666666666666,
          17.333333333333332,
          15.466666666666667,
          9.9,
          23.883333333333333,
          32.775,
          21.416666666666668,
          18.133333333333333,
          18.78333333333333,
          19.75,
          8.508333333333333,
          12.2,
          20.383333333333333,
          10.383333333333333,
          21.25,
          24.983333333333334,
          14.983333333333333,
          24.683333333333334,
          19.45,
          22.891666666666666,
          17.966666666666665,
          14.683333333333334,
          13.299999999999999,
          22.266666666666666,
          19.566666666666666,
          24.2,
          18.45,
          37.15833333333333,
          23.716666666666665,
          20.883333333333333,
          38.766666666666666,
          29.716666666666665,
          20.78333333333333,
          19.233333333333334,
          20.566666666666666,
          22.416666666666668,
          17.333333333333332,
          22.53333333333333,
          10.191666666666666,
          8.483333333333333,
          25.28333333333333,
          6.516666666666667,
          24.2,
          21.95,
          20.366666666666667,
          14.266666666666666
         ],
         "yaxis": "y"
        },
        {
         "hovertemplate": "port_name=Port of Greater Baton Rouge, LA<br>month=%{x}<br>time_at_anchor_avg=%{y}<extra></extra>",
         "legendgroup": "Port of Greater Baton Rouge, LA",
         "line": {
          "color": "#FECB52",
          "dash": "solid"
         },
         "marker": {
          "symbol": "circle"
         },
         "mode": "lines",
         "name": "Port of Greater Baton Rouge, LA",
         "orientation": "v",
         "showlegend": true,
         "type": "scatter",
         "x": [
          "2018-01-01T00:00:00",
          "2018-02-01T00:00:00",
          "2018-03-01T00:00:00",
          "2018-04-01T00:00:00",
          "2018-05-01T00:00:00",
          "2018-06-01T00:00:00",
          "2018-07-01T00:00:00",
          "2018-08-01T00:00:00",
          "2018-09-01T00:00:00",
          "2018-10-01T00:00:00",
          "2018-11-01T00:00:00",
          "2018-12-01T00:00:00",
          "2019-01-01T00:00:00",
          "2019-02-01T00:00:00",
          "2019-03-01T00:00:00",
          "2019-04-01T00:00:00",
          "2019-05-01T00:00:00",
          "2019-06-01T00:00:00",
          "2019-07-01T00:00:00",
          "2019-08-01T00:00:00",
          "2019-09-01T00:00:00",
          "2019-10-01T00:00:00",
          "2019-11-01T00:00:00",
          "2019-12-01T00:00:00",
          "2020-01-01T00:00:00",
          "2020-02-01T00:00:00",
          "2020-03-01T00:00:00",
          "2020-04-01T00:00:00",
          "2020-05-01T00:00:00",
          "2020-06-01T00:00:00",
          "2020-07-01T00:00:00",
          "2020-08-01T00:00:00",
          "2020-09-01T00:00:00",
          "2020-10-01T00:00:00",
          "2020-11-01T00:00:00",
          "2020-12-01T00:00:00",
          "2021-01-01T00:00:00",
          "2021-02-01T00:00:00",
          "2021-03-01T00:00:00",
          "2021-04-01T00:00:00",
          "2021-05-01T00:00:00",
          "2021-06-01T00:00:00",
          "2021-07-01T00:00:00",
          "2021-08-01T00:00:00",
          "2021-09-01T00:00:00",
          "2021-10-01T00:00:00",
          "2021-11-01T00:00:00",
          "2021-12-01T00:00:00",
          "2022-01-01T00:00:00",
          "2022-02-01T00:00:00",
          "2022-03-01T00:00:00",
          "2022-04-01T00:00:00",
          "2022-05-01T00:00:00",
          "2022-06-01T00:00:00",
          "2022-07-01T00:00:00",
          "2022-08-01T00:00:00",
          "2022-09-01T00:00:00",
          "2022-10-01T00:00:00",
          "2022-11-01T00:00:00",
          "2022-12-01T00:00:00",
          "2023-01-01T00:00:00",
          "2023-02-01T00:00:00",
          "2023-03-01T00:00:00",
          "2023-04-01T00:00:00",
          "2023-05-01T00:00:00",
          "2023-06-01T00:00:00",
          "2023-07-01T00:00:00",
          "2023-08-01T00:00:00",
          "2023-09-01T00:00:00",
          "2023-10-01T00:00:00",
          "2023-11-01T00:00:00",
          "2023-12-01T00:00:00",
          "2024-01-01T00:00:00",
          "2024-02-01T00:00:00",
          "2024-03-01T00:00:00",
          "2024-04-01T00:00:00",
          "2024-05-01T00:00:00",
          "2024-06-01T00:00:00"
         ],
         "xaxis": "x",
         "y": [
          18.275,
          17.541666666666668,
          27.966666666666665,
          20.666666666666668,
          26.03333333333333,
          29.7,
          21.708333333333332,
          28.333333333333332,
          35.81666666666666,
          20.975,
          16.475,
          14.633333333333333,
          25.716666666666665,
          29.858333333333334,
          24.733333333333334,
          16.858333333333334,
          14.799999999999999,
          16.075,
          34.6,
          23.016666666666666,
          24.35,
          23.45,
          23.516666666666666,
          20.933333333333334,
          22.933333333333334,
          14.549999999999999,
          13.033333333333333,
          14.208333333333334,
          26.833333333333332,
          21.40833333333333,
          33.95,
          37.166666666666664,
          35.016666666666666,
          29.808333333333334,
          20.991666666666667,
          27.516666666666666,
          28.991666666666667,
          13.666666666666666,
          14.525,
          17.183333333333334,
          16.708333333333332,
          22.433333333333334,
          21.191666666666666,
          30.683333333333334,
          22.633333333333333,
          26.566666666666666,
          28.516666666666666,
          16.25,
          32.108333333333334,
          16.216666666666665,
          24.066666666666666,
          20.108333333333334,
          19.566666666666666,
          18.833333333333332,
          25.53333333333333,
          15.6,
          17.683333333333334,
          23.475,
          24.383333333333333,
          17.458333333333332,
          22.75,
          17.866666666666667,
          15.391666666666666,
          19.491666666666667,
          25.55,
          16.966666666666665,
          29.916666666666668,
          11.225,
          15.45,
          11.341666666666667,
          9.15,
          20.516666666666666,
          23.016666666666666,
          14.516666666666666,
          14.066666666666666,
          16.28333333333333,
          19.866666666666667,
          16.258333333333333
         ],
         "yaxis": "y"
        }
       ],
       "layout": {
        "height": 500,
        "legend": {
         "title": {
          "text": "port_name"
         },
         "tracegroupgap": 0
        },
        "template": {
         "data": {
          "bar": [
           {
            "error_x": {
             "color": "#2a3f5f"
            },
            "error_y": {
             "color": "#2a3f5f"
            },
            "marker": {
             "line": {
              "color": "#E5ECF6",
              "width": 0.5
             },
             "pattern": {
              "fillmode": "overlay",
              "size": 10,
              "solidity": 0.2
             }
            },
            "type": "bar"
           }
          ],
          "barpolar": [
           {
            "marker": {
             "line": {
              "color": "#E5ECF6",
              "width": 0.5
             },
             "pattern": {
              "fillmode": "overlay",
              "size": 10,
              "solidity": 0.2
             }
            },
            "type": "barpolar"
           }
          ],
          "carpet": [
           {
            "aaxis": {
             "endlinecolor": "#2a3f5f",
             "gridcolor": "white",
             "linecolor": "white",
             "minorgridcolor": "white",
             "startlinecolor": "#2a3f5f"
            },
            "baxis": {
             "endlinecolor": "#2a3f5f",
             "gridcolor": "white",
             "linecolor": "white",
             "minorgridcolor": "white",
             "startlinecolor": "#2a3f5f"
            },
            "type": "carpet"
           }
          ],
          "choropleth": [
           {
            "colorbar": {
             "outlinewidth": 0,
             "ticks": ""
            },
            "type": "choropleth"
           }
          ],
          "contour": [
           {
            "colorbar": {
             "outlinewidth": 0,
             "ticks": ""
            },
            "colorscale": [
             [
              0,
              "#0d0887"
             ],
             [
              0.1111111111111111,
              "#46039f"
             ],
             [
              0.2222222222222222,
              "#7201a8"
             ],
             [
              0.3333333333333333,
              "#9c179e"
             ],
             [
              0.4444444444444444,
              "#bd3786"
             ],
             [
              0.5555555555555556,
              "#d8576b"
             ],
             [
              0.6666666666666666,
              "#ed7953"
             ],
             [
              0.7777777777777778,
              "#fb9f3a"
             ],
             [
              0.8888888888888888,
              "#fdca26"
             ],
             [
              1,
              "#f0f921"
             ]
            ],
            "type": "contour"
           }
          ],
          "contourcarpet": [
           {
            "colorbar": {
             "outlinewidth": 0,
             "ticks": ""
            },
            "type": "contourcarpet"
           }
          ],
          "heatmap": [
           {
            "colorbar": {
             "outlinewidth": 0,
             "ticks": ""
            },
            "colorscale": [
             [
              0,
              "#0d0887"
             ],
             [
              0.1111111111111111,
              "#46039f"
             ],
             [
              0.2222222222222222,
              "#7201a8"
             ],
             [
              0.3333333333333333,
              "#9c179e"
             ],
             [
              0.4444444444444444,
              "#bd3786"
             ],
             [
              0.5555555555555556,
              "#d8576b"
             ],
             [
              0.6666666666666666,
              "#ed7953"
             ],
             [
              0.7777777777777778,
              "#fb9f3a"
             ],
             [
              0.8888888888888888,
              "#fdca26"
             ],
             [
              1,
              "#f0f921"
             ]
            ],
            "type": "heatmap"
           }
          ],
          "heatmapgl": [
           {
            "colorbar": {
             "outlinewidth": 0,
             "ticks": ""
            },
            "colorscale": [
             [
              0,
              "#0d0887"
             ],
             [
              0.1111111111111111,
              "#46039f"
             ],
             [
              0.2222222222222222,
              "#7201a8"
             ],
             [
              0.3333333333333333,
              "#9c179e"
             ],
             [
              0.4444444444444444,
              "#bd3786"
             ],
             [
              0.5555555555555556,
              "#d8576b"
             ],
             [
              0.6666666666666666,
              "#ed7953"
             ],
             [
              0.7777777777777778,
              "#fb9f3a"
             ],
             [
              0.8888888888888888,
              "#fdca26"
             ],
             [
              1,
              "#f0f921"
             ]
            ],
            "type": "heatmapgl"
           }
          ],
          "histogram": [
           {
            "marker": {
             "pattern": {
              "fillmode": "overlay",
              "size": 10,
              "solidity": 0.2
             }
            },
            "type": "histogram"
           }
          ],
          "histogram2d": [
           {
            "colorbar": {
             "outlinewidth": 0,
             "ticks": ""
            },
            "colorscale": [
             [
              0,
              "#0d0887"
             ],
             [
              0.1111111111111111,
              "#46039f"
             ],
             [
              0.2222222222222222,
              "#7201a8"
             ],
             [
              0.3333333333333333,
              "#9c179e"
             ],
             [
              0.4444444444444444,
              "#bd3786"
             ],
             [
              0.5555555555555556,
              "#d8576b"
             ],
             [
              0.6666666666666666,
              "#ed7953"
             ],
             [
              0.7777777777777778,
              "#fb9f3a"
             ],
             [
              0.8888888888888888,
              "#fdca26"
             ],
             [
              1,
              "#f0f921"
             ]
            ],
            "type": "histogram2d"
           }
          ],
          "histogram2dcontour": [
           {
            "colorbar": {
             "outlinewidth": 0,
             "ticks": ""
            },
            "colorscale": [
             [
              0,
              "#0d0887"
             ],
             [
              0.1111111111111111,
              "#46039f"
             ],
             [
              0.2222222222222222,
              "#7201a8"
             ],
             [
              0.3333333333333333,
              "#9c179e"
             ],
             [
              0.4444444444444444,
              "#bd3786"
             ],
             [
              0.5555555555555556,
              "#d8576b"
             ],
             [
              0.6666666666666666,
              "#ed7953"
             ],
             [
              0.7777777777777778,
              "#fb9f3a"
             ],
             [
              0.8888888888888888,
              "#fdca26"
             ],
             [
              1,
              "#f0f921"
             ]
            ],
            "type": "histogram2dcontour"
           }
          ],
          "mesh3d": [
           {
            "colorbar": {
             "outlinewidth": 0,
             "ticks": ""
            },
            "type": "mesh3d"
           }
          ],
          "parcoords": [
           {
            "line": {
             "colorbar": {
              "outlinewidth": 0,
              "ticks": ""
             }
            },
            "type": "parcoords"
           }
          ],
          "pie": [
           {
            "automargin": true,
            "type": "pie"
           }
          ],
          "scatter": [
           {
            "fillpattern": {
             "fillmode": "overlay",
             "size": 10,
             "solidity": 0.2
            },
            "type": "scatter"
           }
          ],
          "scatter3d": [
           {
            "line": {
             "colorbar": {
              "outlinewidth": 0,
              "ticks": ""
             }
            },
            "marker": {
             "colorbar": {
              "outlinewidth": 0,
              "ticks": ""
             }
            },
            "type": "scatter3d"
           }
          ],
          "scattercarpet": [
           {
            "marker": {
             "colorbar": {
              "outlinewidth": 0,
              "ticks": ""
             }
            },
            "type": "scattercarpet"
           }
          ],
          "scattergeo": [
           {
            "marker": {
             "colorbar": {
              "outlinewidth": 0,
              "ticks": ""
             }
            },
            "type": "scattergeo"
           }
          ],
          "scattergl": [
           {
            "marker": {
             "colorbar": {
              "outlinewidth": 0,
              "ticks": ""
             }
            },
            "type": "scattergl"
           }
          ],
          "scattermapbox": [
           {
            "marker": {
             "colorbar": {
              "outlinewidth": 0,
              "ticks": ""
             }
            },
            "type": "scattermapbox"
           }
          ],
          "scatterpolar": [
           {
            "marker": {
             "colorbar": {
              "outlinewidth": 0,
              "ticks": ""
             }
            },
            "type": "scatterpolar"
           }
          ],
          "scatterpolargl": [
           {
            "marker": {
             "colorbar": {
              "outlinewidth": 0,
              "ticks": ""
             }
            },
            "type": "scatterpolargl"
           }
          ],
          "scatterternary": [
           {
            "marker": {
             "colorbar": {
              "outlinewidth": 0,
              "ticks": ""
             }
            },
            "type": "scatterternary"
           }
          ],
          "surface": [
           {
            "colorbar": {
             "outlinewidth": 0,
             "ticks": ""
            },
            "colorscale": [
             [
              0,
              "#0d0887"
             ],
             [
              0.1111111111111111,
              "#46039f"
             ],
             [
              0.2222222222222222,
              "#7201a8"
             ],
             [
              0.3333333333333333,
              "#9c179e"
             ],
             [
              0.4444444444444444,
              "#bd3786"
             ],
             [
              0.5555555555555556,
              "#d8576b"
             ],
             [
              0.6666666666666666,
              "#ed7953"
             ],
             [
              0.7777777777777778,
              "#fb9f3a"
             ],
             [
              0.8888888888888888,
              "#fdca26"
             ],
             [
              1,
              "#f0f921"
             ]
            ],
            "type": "surface"
           }
          ],
          "table": [
           {
            "cells": {
             "fill": {
              "color": "#EBF0F8"
             },
             "line": {
              "color": "white"
             }
            },
            "header": {
             "fill": {
              "color": "#C8D4E3"
             },
             "line": {
              "color": "white"
             }
            },
            "type": "table"
           }
          ]
         },
         "layout": {
          "annotationdefaults": {
           "arrowcolor": "#2a3f5f",
           "arrowhead": 0,
           "arrowwidth": 1
          },
          "autotypenumbers": "strict",
          "coloraxis": {
           "colorbar": {
            "outlinewidth": 0,
            "ticks": ""
           }
          },
          "colorscale": {
           "diverging": [
            [
             0,
             "#8e0152"
            ],
            [
             0.1,
             "#c51b7d"
            ],
            [
             0.2,
             "#de77ae"
            ],
            [
             0.3,
             "#f1b6da"
            ],
            [
             0.4,
             "#fde0ef"
            ],
            [
             0.5,
             "#f7f7f7"
            ],
            [
             0.6,
             "#e6f5d0"
            ],
            [
             0.7,
             "#b8e186"
            ],
            [
             0.8,
             "#7fbc41"
            ],
            [
             0.9,
             "#4d9221"
            ],
            [
             1,
             "#276419"
            ]
           ],
           "sequential": [
            [
             0,
             "#0d0887"
            ],
            [
             0.1111111111111111,
             "#46039f"
            ],
            [
             0.2222222222222222,
             "#7201a8"
            ],
            [
             0.3333333333333333,
             "#9c179e"
            ],
            [
             0.4444444444444444,
             "#bd3786"
            ],
            [
             0.5555555555555556,
             "#d8576b"
            ],
            [
             0.6666666666666666,
             "#ed7953"
            ],
            [
             0.7777777777777778,
             "#fb9f3a"
            ],
            [
             0.8888888888888888,
             "#fdca26"
            ],
            [
             1,
             "#f0f921"
            ]
           ],
           "sequentialminus": [
            [
             0,
             "#0d0887"
            ],
            [
             0.1111111111111111,
             "#46039f"
            ],
            [
             0.2222222222222222,
             "#7201a8"
            ],
            [
             0.3333333333333333,
             "#9c179e"
            ],
            [
             0.4444444444444444,
             "#bd3786"
            ],
            [
             0.5555555555555556,
             "#d8576b"
            ],
            [
             0.6666666666666666,
             "#ed7953"
            ],
            [
             0.7777777777777778,
             "#fb9f3a"
            ],
            [
             0.8888888888888888,
             "#fdca26"
            ],
            [
             1,
             "#f0f921"
            ]
           ]
          },
          "colorway": [
           "#636efa",
           "#EF553B",
           "#00cc96",
           "#ab63fa",
           "#FFA15A",
           "#19d3f3",
           "#FF6692",
           "#B6E880",
           "#FF97FF",
           "#FECB52"
          ],
          "font": {
           "color": "#2a3f5f"
          },
          "geo": {
           "bgcolor": "white",
           "lakecolor": "white",
           "landcolor": "#E5ECF6",
           "showlakes": true,
           "showland": true,
           "subunitcolor": "white"
          },
          "hoverlabel": {
           "align": "left"
          },
          "hovermode": "closest",
          "mapbox": {
           "style": "light"
          },
          "paper_bgcolor": "white",
          "plot_bgcolor": "#E5ECF6",
          "polar": {
           "angularaxis": {
            "gridcolor": "white",
            "linecolor": "white",
            "ticks": ""
           },
           "bgcolor": "#E5ECF6",
           "radialaxis": {
            "gridcolor": "white",
            "linecolor": "white",
            "ticks": ""
           }
          },
          "scene": {
           "xaxis": {
            "backgroundcolor": "#E5ECF6",
            "gridcolor": "white",
            "gridwidth": 2,
            "linecolor": "white",
            "showbackground": true,
            "ticks": "",
            "zerolinecolor": "white"
           },
           "yaxis": {
            "backgroundcolor": "#E5ECF6",
            "gridcolor": "white",
            "gridwidth": 2,
            "linecolor": "white",
            "showbackground": true,
            "ticks": "",
            "zerolinecolor": "white"
           },
           "zaxis": {
            "backgroundcolor": "#E5ECF6",
            "gridcolor": "white",
            "gridwidth": 2,
            "linecolor": "white",
            "showbackground": true,
            "ticks": "",
            "zerolinecolor": "white"
           }
          },
          "shapedefaults": {
           "line": {
            "color": "#2a3f5f"
           }
          },
          "ternary": {
           "aaxis": {
            "gridcolor": "white",
            "linecolor": "white",
            "ticks": ""
           },
           "baxis": {
            "gridcolor": "white",
            "linecolor": "white",
            "ticks": ""
           },
           "bgcolor": "#E5ECF6",
           "caxis": {
            "gridcolor": "white",
            "linecolor": "white",
            "ticks": ""
           }
          },
          "title": {
           "x": 0.05
          },
          "xaxis": {
           "automargin": true,
           "gridcolor": "white",
           "linecolor": "white",
           "ticks": "",
           "title": {
            "standoff": 15
           },
           "zerolinecolor": "white",
           "zerolinewidth": 2
          },
          "yaxis": {
           "automargin": true,
           "gridcolor": "white",
           "linecolor": "white",
           "ticks": "",
           "title": {
            "standoff": 15
           },
           "zerolinecolor": "white",
           "zerolinewidth": 2
          }
         }
        },
        "title": {
         "text": "Median Time at Anchor at Principal Ports"
        },
        "width": 1000,
        "xaxis": {
         "anchor": "y",
         "domain": [
          0,
          1
         ],
         "title": {
          "text": "month"
         }
        },
        "yaxis": {
         "anchor": "x",
         "domain": [
          0,
          1
         ],
         "title": {
          "text": "time_at_anchor_avg"
         }
        }
       }
      }
     },
     "metadata": {},
     "output_type": "display_data"
    }
   ],
   "source": [
    "px.line(\n",
    "    monthly_df\n",
    "    #restrict to top 10 ports\n",
    "    .filter(pl.col('port_name').is_in(top10ports))\n",
    "    #month in dt format\n",
    "    .with_columns(pl.col('month').str.strptime(pl.Date, format='%Y%m'))\n",
    "    .sort(by='month'), \n",
    "    #plot specs\n",
    "    x='month', y='time_at_anchor_avg', color='port_name',\n",
    "    title='Median Time at Anchor at Principal Ports',\n",
    "    width=1000,\n",
    "    height=500 \n",
    ")"
   ]
  },
  {
   "cell_type": "code",
   "execution_count": 130,
   "metadata": {},
   "outputs": [
    {
     "data": {
      "application/vnd.plotly.v1+json": {
       "config": {
        "plotlyServerURL": "https://plot.ly"
       },
       "data": [
        {
         "hovertemplate": "port_name=South Louisiana, LA, Port of<br>month=%{x}<br>vessels_avg=%{y}<extra></extra>",
         "legendgroup": "South Louisiana, LA, Port of",
         "line": {
          "color": "#636efa",
          "dash": "solid"
         },
         "marker": {
          "symbol": "circle"
         },
         "mode": "lines",
         "name": "South Louisiana, LA, Port of",
         "orientation": "v",
         "showlegend": true,
         "type": "scatter",
         "x": [
          "2018-01-01T00:00:00",
          "2018-02-01T00:00:00",
          "2018-03-01T00:00:00",
          "2018-04-01T00:00:00",
          "2018-05-01T00:00:00",
          "2018-06-01T00:00:00",
          "2018-07-01T00:00:00",
          "2018-08-01T00:00:00",
          "2018-09-01T00:00:00",
          "2018-10-01T00:00:00",
          "2018-11-01T00:00:00",
          "2018-12-01T00:00:00",
          "2019-01-01T00:00:00",
          "2019-02-01T00:00:00",
          "2019-03-01T00:00:00",
          "2019-04-01T00:00:00",
          "2019-05-01T00:00:00",
          "2019-06-01T00:00:00",
          "2019-07-01T00:00:00",
          "2019-08-01T00:00:00",
          "2019-09-01T00:00:00",
          "2019-10-01T00:00:00",
          "2019-11-01T00:00:00",
          "2019-12-01T00:00:00",
          "2020-01-01T00:00:00",
          "2020-02-01T00:00:00",
          "2020-03-01T00:00:00",
          "2020-04-01T00:00:00",
          "2020-05-01T00:00:00",
          "2020-06-01T00:00:00",
          "2020-07-01T00:00:00",
          "2020-08-01T00:00:00",
          "2020-09-01T00:00:00",
          "2020-10-01T00:00:00",
          "2020-11-01T00:00:00",
          "2020-12-01T00:00:00",
          "2021-01-01T00:00:00",
          "2021-02-01T00:00:00",
          "2021-03-01T00:00:00",
          "2021-04-01T00:00:00",
          "2021-05-01T00:00:00",
          "2021-06-01T00:00:00",
          "2021-07-01T00:00:00",
          "2021-08-01T00:00:00",
          "2021-09-01T00:00:00",
          "2021-10-01T00:00:00",
          "2021-11-01T00:00:00",
          "2021-12-01T00:00:00",
          "2022-01-01T00:00:00",
          "2022-02-01T00:00:00",
          "2022-03-01T00:00:00",
          "2022-04-01T00:00:00",
          "2022-05-01T00:00:00",
          "2022-06-01T00:00:00",
          "2022-07-01T00:00:00",
          "2022-08-01T00:00:00",
          "2022-09-01T00:00:00",
          "2022-10-01T00:00:00",
          "2022-11-01T00:00:00",
          "2022-12-01T00:00:00",
          "2023-01-01T00:00:00",
          "2023-02-01T00:00:00",
          "2023-03-01T00:00:00",
          "2023-04-01T00:00:00",
          "2023-05-01T00:00:00",
          "2023-06-01T00:00:00",
          "2023-07-01T00:00:00",
          "2023-08-01T00:00:00",
          "2023-09-01T00:00:00",
          "2023-10-01T00:00:00",
          "2023-11-01T00:00:00",
          "2023-12-01T00:00:00",
          "2024-01-01T00:00:00",
          "2024-02-01T00:00:00",
          "2024-03-01T00:00:00",
          "2024-04-01T00:00:00",
          "2024-05-01T00:00:00",
          "2024-06-01T00:00:00"
         ],
         "xaxis": "x",
         "y": [
          109,
          96,
          95,
          95,
          97,
          78,
          83,
          86,
          94,
          92,
          81,
          89,
          84,
          86,
          80,
          82,
          68,
          59,
          58,
          70,
          55,
          62,
          59,
          60,
          63,
          62,
          67,
          62,
          52,
          53,
          65,
          75,
          71,
          71,
          62,
          68,
          80,
          64,
          70,
          67,
          60,
          62,
          70,
          63,
          55,
          94,
          80,
          86,
          96,
          81,
          80,
          76,
          69,
          74,
          63,
          74,
          69,
          64,
          77,
          76,
          75,
          64,
          64,
          70,
          48,
          41,
          48,
          72,
          69,
          77,
          73,
          71,
          76,
          72,
          72,
          57,
          62,
          56
         ],
         "yaxis": "y"
        },
        {
         "hovertemplate": "port_name=New York, NY & NJ<br>month=%{x}<br>vessels_avg=%{y}<extra></extra>",
         "legendgroup": "New York, NY & NJ",
         "line": {
          "color": "#EF553B",
          "dash": "solid"
         },
         "marker": {
          "symbol": "circle"
         },
         "mode": "lines",
         "name": "New York, NY & NJ",
         "orientation": "v",
         "showlegend": true,
         "type": "scatter",
         "x": [
          "2018-01-01T00:00:00",
          "2018-02-01T00:00:00",
          "2018-03-01T00:00:00",
          "2018-04-01T00:00:00",
          "2018-05-01T00:00:00",
          "2018-06-01T00:00:00",
          "2018-07-01T00:00:00",
          "2018-08-01T00:00:00",
          "2018-09-01T00:00:00",
          "2018-10-01T00:00:00",
          "2018-11-01T00:00:00",
          "2018-12-01T00:00:00",
          "2019-01-01T00:00:00",
          "2019-02-01T00:00:00",
          "2019-03-01T00:00:00",
          "2019-04-01T00:00:00",
          "2019-05-01T00:00:00",
          "2019-06-01T00:00:00",
          "2019-07-01T00:00:00",
          "2019-08-01T00:00:00",
          "2019-09-01T00:00:00",
          "2019-10-01T00:00:00",
          "2019-11-01T00:00:00",
          "2019-12-01T00:00:00",
          "2020-01-01T00:00:00",
          "2020-02-01T00:00:00",
          "2020-03-01T00:00:00",
          "2020-04-01T00:00:00",
          "2020-05-01T00:00:00",
          "2020-06-01T00:00:00",
          "2020-07-01T00:00:00",
          "2020-08-01T00:00:00",
          "2020-09-01T00:00:00",
          "2020-10-01T00:00:00",
          "2020-11-01T00:00:00",
          "2020-12-01T00:00:00",
          "2021-01-01T00:00:00",
          "2021-02-01T00:00:00",
          "2021-03-01T00:00:00",
          "2021-04-01T00:00:00",
          "2021-05-01T00:00:00",
          "2021-06-01T00:00:00",
          "2021-07-01T00:00:00",
          "2021-08-01T00:00:00",
          "2021-09-01T00:00:00",
          "2021-10-01T00:00:00",
          "2021-11-01T00:00:00",
          "2021-12-01T00:00:00",
          "2022-01-01T00:00:00",
          "2022-02-01T00:00:00",
          "2022-03-01T00:00:00",
          "2022-04-01T00:00:00",
          "2022-05-01T00:00:00",
          "2022-06-01T00:00:00",
          "2022-07-01T00:00:00",
          "2022-08-01T00:00:00",
          "2022-09-01T00:00:00",
          "2022-10-01T00:00:00",
          "2022-11-01T00:00:00",
          "2022-12-01T00:00:00",
          "2023-01-01T00:00:00",
          "2023-02-01T00:00:00",
          "2023-03-01T00:00:00",
          "2023-04-01T00:00:00",
          "2023-05-01T00:00:00",
          "2023-06-01T00:00:00",
          "2023-07-01T00:00:00",
          "2023-08-01T00:00:00",
          "2023-09-01T00:00:00",
          "2023-10-01T00:00:00",
          "2023-11-01T00:00:00",
          "2023-12-01T00:00:00",
          "2024-01-01T00:00:00",
          "2024-02-01T00:00:00",
          "2024-03-01T00:00:00",
          "2024-04-01T00:00:00",
          "2024-05-01T00:00:00",
          "2024-06-01T00:00:00"
         ],
         "xaxis": "x",
         "y": [
          98,
          78,
          88,
          93,
          72,
          74,
          90,
          76,
          77,
          74,
          75,
          87,
          76,
          72,
          78,
          68,
          81,
          86,
          82,
          75,
          71,
          69,
          63,
          71,
          56,
          54,
          65,
          59,
          57,
          57,
          58,
          64,
          61,
          64,
          68,
          58,
          60,
          55,
          80,
          83,
          102,
          85,
          71,
          95,
          85,
          83,
          84,
          81,
          79,
          85,
          87,
          88,
          89,
          87,
          84,
          88,
          82,
          80,
          84,
          76,
          72,
          75,
          77,
          75,
          83,
          81,
          75,
          80,
          75,
          80,
          56,
          74,
          69,
          72,
          74,
          62,
          59,
          53
         ],
         "yaxis": "y"
        },
        {
         "hovertemplate": "port_name=Corpus Christi, TX<br>month=%{x}<br>vessels_avg=%{y}<extra></extra>",
         "legendgroup": "Corpus Christi, TX",
         "line": {
          "color": "#00cc96",
          "dash": "solid"
         },
         "marker": {
          "symbol": "circle"
         },
         "mode": "lines",
         "name": "Corpus Christi, TX",
         "orientation": "v",
         "showlegend": true,
         "type": "scatter",
         "x": [
          "2018-01-01T00:00:00",
          "2018-02-01T00:00:00",
          "2018-03-01T00:00:00",
          "2018-04-01T00:00:00",
          "2018-05-01T00:00:00",
          "2018-06-01T00:00:00",
          "2018-07-01T00:00:00",
          "2018-08-01T00:00:00",
          "2018-09-01T00:00:00",
          "2018-10-01T00:00:00",
          "2018-11-01T00:00:00",
          "2018-12-01T00:00:00",
          "2019-01-01T00:00:00",
          "2019-02-01T00:00:00",
          "2019-03-01T00:00:00",
          "2019-04-01T00:00:00",
          "2019-05-01T00:00:00",
          "2019-06-01T00:00:00",
          "2019-07-01T00:00:00",
          "2019-08-01T00:00:00",
          "2019-09-01T00:00:00",
          "2019-10-01T00:00:00",
          "2019-11-01T00:00:00",
          "2019-12-01T00:00:00",
          "2020-01-01T00:00:00",
          "2020-02-01T00:00:00",
          "2020-03-01T00:00:00",
          "2020-04-01T00:00:00",
          "2020-05-01T00:00:00",
          "2020-06-01T00:00:00",
          "2020-07-01T00:00:00",
          "2020-08-01T00:00:00",
          "2020-09-01T00:00:00",
          "2020-10-01T00:00:00",
          "2020-11-01T00:00:00",
          "2020-12-01T00:00:00",
          "2021-01-01T00:00:00",
          "2021-02-01T00:00:00",
          "2021-03-01T00:00:00",
          "2021-04-01T00:00:00",
          "2021-05-01T00:00:00",
          "2021-06-01T00:00:00",
          "2021-07-01T00:00:00",
          "2021-08-01T00:00:00",
          "2021-09-01T00:00:00",
          "2021-10-01T00:00:00",
          "2021-11-01T00:00:00",
          "2021-12-01T00:00:00",
          "2022-01-01T00:00:00",
          "2022-02-01T00:00:00",
          "2022-03-01T00:00:00",
          "2022-04-01T00:00:00",
          "2022-05-01T00:00:00",
          "2022-06-01T00:00:00",
          "2022-07-01T00:00:00",
          "2022-08-01T00:00:00",
          "2022-09-01T00:00:00",
          "2022-10-01T00:00:00",
          "2022-11-01T00:00:00",
          "2022-12-01T00:00:00",
          "2023-01-01T00:00:00",
          "2023-02-01T00:00:00",
          "2023-03-01T00:00:00",
          "2023-04-01T00:00:00",
          "2023-05-01T00:00:00",
          "2023-06-01T00:00:00",
          "2023-07-01T00:00:00",
          "2023-08-01T00:00:00",
          "2023-09-01T00:00:00",
          "2023-10-01T00:00:00",
          "2023-11-01T00:00:00",
          "2023-12-01T00:00:00",
          "2024-01-01T00:00:00",
          "2024-02-01T00:00:00",
          "2024-03-01T00:00:00",
          "2024-04-01T00:00:00",
          "2024-05-01T00:00:00",
          "2024-06-01T00:00:00"
         ],
         "xaxis": "x",
         "y": [
          93,
          81,
          99,
          94,
          89,
          77,
          92,
          91,
          89,
          108,
          101,
          99,
          96,
          76,
          78,
          89,
          99,
          80,
          78,
          81,
          80,
          90,
          99,
          101,
          89,
          87,
          95,
          91,
          79,
          72,
          100,
          86,
          69,
          64,
          74,
          78,
          69,
          57,
          77,
          107,
          94,
          92,
          91,
          97,
          91,
          97,
          112,
          125,
          105,
          94,
          112,
          104,
          110,
          106,
          103,
          114,
          97,
          106,
          100,
          99,
          115,
          96,
          108,
          109,
          90,
          90,
          96,
          108,
          96,
          101,
          91,
          96,
          94,
          89,
          97,
          98,
          86,
          61
         ],
         "yaxis": "y"
        },
        {
         "hovertemplate": "port_name=Port of Long Beach, CA<br>month=%{x}<br>vessels_avg=%{y}<extra></extra>",
         "legendgroup": "Port of Long Beach, CA",
         "line": {
          "color": "#ab63fa",
          "dash": "solid"
         },
         "marker": {
          "symbol": "circle"
         },
         "mode": "lines",
         "name": "Port of Long Beach, CA",
         "orientation": "v",
         "showlegend": true,
         "type": "scatter",
         "x": [
          "2018-01-01T00:00:00",
          "2018-02-01T00:00:00",
          "2018-03-01T00:00:00",
          "2018-04-01T00:00:00",
          "2018-05-01T00:00:00",
          "2018-06-01T00:00:00",
          "2018-07-01T00:00:00",
          "2018-08-01T00:00:00",
          "2018-09-01T00:00:00",
          "2018-10-01T00:00:00",
          "2018-11-01T00:00:00",
          "2018-12-01T00:00:00",
          "2019-01-01T00:00:00",
          "2019-02-01T00:00:00",
          "2019-03-01T00:00:00",
          "2019-04-01T00:00:00",
          "2019-05-01T00:00:00",
          "2019-06-01T00:00:00",
          "2019-07-01T00:00:00",
          "2019-08-01T00:00:00",
          "2019-09-01T00:00:00",
          "2019-10-01T00:00:00",
          "2019-11-01T00:00:00",
          "2019-12-01T00:00:00",
          "2020-01-01T00:00:00",
          "2020-02-01T00:00:00",
          "2020-03-01T00:00:00",
          "2020-04-01T00:00:00",
          "2020-05-01T00:00:00",
          "2020-06-01T00:00:00",
          "2020-07-01T00:00:00",
          "2020-08-01T00:00:00",
          "2020-09-01T00:00:00",
          "2020-10-01T00:00:00",
          "2020-11-01T00:00:00",
          "2020-12-01T00:00:00",
          "2021-01-01T00:00:00",
          "2021-02-01T00:00:00",
          "2021-03-01T00:00:00",
          "2021-04-01T00:00:00",
          "2021-05-01T00:00:00",
          "2021-06-01T00:00:00",
          "2021-07-01T00:00:00",
          "2021-08-01T00:00:00",
          "2021-09-01T00:00:00",
          "2021-10-01T00:00:00",
          "2021-11-01T00:00:00",
          "2021-12-01T00:00:00",
          "2022-01-01T00:00:00",
          "2022-02-01T00:00:00",
          "2022-03-01T00:00:00",
          "2022-04-01T00:00:00",
          "2022-05-01T00:00:00",
          "2022-06-01T00:00:00",
          "2022-07-01T00:00:00",
          "2022-08-01T00:00:00",
          "2022-09-01T00:00:00",
          "2022-10-01T00:00:00",
          "2022-11-01T00:00:00",
          "2022-12-01T00:00:00",
          "2023-01-01T00:00:00",
          "2023-02-01T00:00:00",
          "2023-03-01T00:00:00",
          "2023-04-01T00:00:00",
          "2023-05-01T00:00:00",
          "2023-06-01T00:00:00",
          "2023-07-01T00:00:00",
          "2023-08-01T00:00:00",
          "2023-09-01T00:00:00",
          "2023-10-01T00:00:00",
          "2023-11-01T00:00:00",
          "2023-12-01T00:00:00",
          "2024-01-01T00:00:00",
          "2024-02-01T00:00:00",
          "2024-03-01T00:00:00",
          "2024-04-01T00:00:00",
          "2024-05-01T00:00:00",
          "2024-06-01T00:00:00"
         ],
         "xaxis": "x",
         "y": [
          184,
          179,
          197,
          206,
          195,
          197,
          184,
          175,
          175,
          180,
          163,
          166,
          155,
          155,
          166,
          166,
          161,
          174,
          176,
          160,
          163,
          188,
          165,
          167,
          151,
          147,
          169,
          149,
          127,
          123,
          182,
          146,
          164,
          147,
          149,
          162,
          154,
          151,
          175,
          219,
          213,
          228,
          230,
          224,
          221,
          226,
          210,
          225,
          223,
          208,
          219,
          225,
          229,
          223,
          232,
          212,
          197,
          198,
          193,
          188,
          177,
          173,
          191,
          213,
          182,
          185,
          181,
          187,
          174,
          170,
          163,
          172,
          184,
          172,
          173,
          168,
          172,
          150
         ],
         "yaxis": "y"
        },
        {
         "hovertemplate": "port_name=Houston Port Authority, TX<br>month=%{x}<br>vessels_avg=%{y}<extra></extra>",
         "legendgroup": "Houston Port Authority, TX",
         "line": {
          "color": "#FFA15A",
          "dash": "solid"
         },
         "marker": {
          "symbol": "circle"
         },
         "mode": "lines",
         "name": "Houston Port Authority, TX",
         "orientation": "v",
         "showlegend": true,
         "type": "scatter",
         "x": [
          "2018-01-01T00:00:00",
          "2018-02-01T00:00:00",
          "2018-03-01T00:00:00",
          "2018-04-01T00:00:00",
          "2018-05-01T00:00:00",
          "2018-06-01T00:00:00",
          "2018-07-01T00:00:00",
          "2018-08-01T00:00:00",
          "2018-09-01T00:00:00",
          "2018-10-01T00:00:00",
          "2018-11-01T00:00:00",
          "2018-12-01T00:00:00",
          "2019-01-01T00:00:00",
          "2019-02-01T00:00:00",
          "2019-03-01T00:00:00",
          "2019-04-01T00:00:00",
          "2019-05-01T00:00:00",
          "2019-06-01T00:00:00",
          "2019-07-01T00:00:00",
          "2019-08-01T00:00:00",
          "2019-09-01T00:00:00",
          "2019-10-01T00:00:00",
          "2019-11-01T00:00:00",
          "2019-12-01T00:00:00",
          "2020-01-01T00:00:00",
          "2020-02-01T00:00:00",
          "2020-03-01T00:00:00",
          "2020-04-01T00:00:00",
          "2020-05-01T00:00:00",
          "2020-06-01T00:00:00",
          "2020-07-01T00:00:00",
          "2020-08-01T00:00:00",
          "2020-09-01T00:00:00",
          "2020-10-01T00:00:00",
          "2020-11-01T00:00:00",
          "2020-12-01T00:00:00",
          "2021-01-01T00:00:00",
          "2021-02-01T00:00:00",
          "2021-03-01T00:00:00",
          "2021-04-01T00:00:00",
          "2021-05-01T00:00:00",
          "2021-06-01T00:00:00",
          "2021-07-01T00:00:00",
          "2021-08-01T00:00:00",
          "2021-09-01T00:00:00",
          "2021-10-01T00:00:00",
          "2021-11-01T00:00:00",
          "2021-12-01T00:00:00",
          "2022-01-01T00:00:00",
          "2022-02-01T00:00:00",
          "2022-03-01T00:00:00",
          "2022-04-01T00:00:00",
          "2022-05-01T00:00:00",
          "2022-06-01T00:00:00",
          "2022-07-01T00:00:00",
          "2022-08-01T00:00:00",
          "2022-09-01T00:00:00",
          "2022-10-01T00:00:00",
          "2022-11-01T00:00:00",
          "2022-12-01T00:00:00",
          "2023-01-01T00:00:00",
          "2023-02-01T00:00:00",
          "2023-03-01T00:00:00",
          "2023-04-01T00:00:00",
          "2023-05-01T00:00:00",
          "2023-06-01T00:00:00",
          "2023-07-01T00:00:00",
          "2023-08-01T00:00:00",
          "2023-09-01T00:00:00",
          "2023-10-01T00:00:00",
          "2023-11-01T00:00:00",
          "2023-12-01T00:00:00",
          "2024-01-01T00:00:00",
          "2024-02-01T00:00:00",
          "2024-03-01T00:00:00",
          "2024-04-01T00:00:00",
          "2024-05-01T00:00:00",
          "2024-06-01T00:00:00"
         ],
         "xaxis": "x",
         "y": [
          173,
          158,
          217,
          193,
          179,
          166,
          180,
          170,
          169,
          169,
          162,
          152,
          172,
          146,
          172,
          192,
          184,
          167,
          168,
          160,
          151,
          176,
          150,
          152,
          136,
          142,
          160,
          145,
          139,
          131,
          163,
          143,
          135,
          129,
          121,
          130,
          123,
          108,
          134,
          195,
          206,
          184,
          204,
          202,
          202,
          189,
          196,
          220,
          212,
          179,
          199,
          209,
          205,
          182,
          193,
          210,
          180,
          193,
          166,
          188,
          179,
          164,
          192,
          221,
          198,
          178,
          196,
          191,
          182,
          201,
          175,
          178,
          196,
          174,
          178,
          167,
          160,
          142
         ],
         "yaxis": "y"
        }
       ],
       "layout": {
        "height": 500,
        "legend": {
         "title": {
          "text": "port_name"
         },
         "tracegroupgap": 0
        },
        "template": {
         "data": {
          "bar": [
           {
            "error_x": {
             "color": "#2a3f5f"
            },
            "error_y": {
             "color": "#2a3f5f"
            },
            "marker": {
             "line": {
              "color": "#E5ECF6",
              "width": 0.5
             },
             "pattern": {
              "fillmode": "overlay",
              "size": 10,
              "solidity": 0.2
             }
            },
            "type": "bar"
           }
          ],
          "barpolar": [
           {
            "marker": {
             "line": {
              "color": "#E5ECF6",
              "width": 0.5
             },
             "pattern": {
              "fillmode": "overlay",
              "size": 10,
              "solidity": 0.2
             }
            },
            "type": "barpolar"
           }
          ],
          "carpet": [
           {
            "aaxis": {
             "endlinecolor": "#2a3f5f",
             "gridcolor": "white",
             "linecolor": "white",
             "minorgridcolor": "white",
             "startlinecolor": "#2a3f5f"
            },
            "baxis": {
             "endlinecolor": "#2a3f5f",
             "gridcolor": "white",
             "linecolor": "white",
             "minorgridcolor": "white",
             "startlinecolor": "#2a3f5f"
            },
            "type": "carpet"
           }
          ],
          "choropleth": [
           {
            "colorbar": {
             "outlinewidth": 0,
             "ticks": ""
            },
            "type": "choropleth"
           }
          ],
          "contour": [
           {
            "colorbar": {
             "outlinewidth": 0,
             "ticks": ""
            },
            "colorscale": [
             [
              0,
              "#0d0887"
             ],
             [
              0.1111111111111111,
              "#46039f"
             ],
             [
              0.2222222222222222,
              "#7201a8"
             ],
             [
              0.3333333333333333,
              "#9c179e"
             ],
             [
              0.4444444444444444,
              "#bd3786"
             ],
             [
              0.5555555555555556,
              "#d8576b"
             ],
             [
              0.6666666666666666,
              "#ed7953"
             ],
             [
              0.7777777777777778,
              "#fb9f3a"
             ],
             [
              0.8888888888888888,
              "#fdca26"
             ],
             [
              1,
              "#f0f921"
             ]
            ],
            "type": "contour"
           }
          ],
          "contourcarpet": [
           {
            "colorbar": {
             "outlinewidth": 0,
             "ticks": ""
            },
            "type": "contourcarpet"
           }
          ],
          "heatmap": [
           {
            "colorbar": {
             "outlinewidth": 0,
             "ticks": ""
            },
            "colorscale": [
             [
              0,
              "#0d0887"
             ],
             [
              0.1111111111111111,
              "#46039f"
             ],
             [
              0.2222222222222222,
              "#7201a8"
             ],
             [
              0.3333333333333333,
              "#9c179e"
             ],
             [
              0.4444444444444444,
              "#bd3786"
             ],
             [
              0.5555555555555556,
              "#d8576b"
             ],
             [
              0.6666666666666666,
              "#ed7953"
             ],
             [
              0.7777777777777778,
              "#fb9f3a"
             ],
             [
              0.8888888888888888,
              "#fdca26"
             ],
             [
              1,
              "#f0f921"
             ]
            ],
            "type": "heatmap"
           }
          ],
          "heatmapgl": [
           {
            "colorbar": {
             "outlinewidth": 0,
             "ticks": ""
            },
            "colorscale": [
             [
              0,
              "#0d0887"
             ],
             [
              0.1111111111111111,
              "#46039f"
             ],
             [
              0.2222222222222222,
              "#7201a8"
             ],
             [
              0.3333333333333333,
              "#9c179e"
             ],
             [
              0.4444444444444444,
              "#bd3786"
             ],
             [
              0.5555555555555556,
              "#d8576b"
             ],
             [
              0.6666666666666666,
              "#ed7953"
             ],
             [
              0.7777777777777778,
              "#fb9f3a"
             ],
             [
              0.8888888888888888,
              "#fdca26"
             ],
             [
              1,
              "#f0f921"
             ]
            ],
            "type": "heatmapgl"
           }
          ],
          "histogram": [
           {
            "marker": {
             "pattern": {
              "fillmode": "overlay",
              "size": 10,
              "solidity": 0.2
             }
            },
            "type": "histogram"
           }
          ],
          "histogram2d": [
           {
            "colorbar": {
             "outlinewidth": 0,
             "ticks": ""
            },
            "colorscale": [
             [
              0,
              "#0d0887"
             ],
             [
              0.1111111111111111,
              "#46039f"
             ],
             [
              0.2222222222222222,
              "#7201a8"
             ],
             [
              0.3333333333333333,
              "#9c179e"
             ],
             [
              0.4444444444444444,
              "#bd3786"
             ],
             [
              0.5555555555555556,
              "#d8576b"
             ],
             [
              0.6666666666666666,
              "#ed7953"
             ],
             [
              0.7777777777777778,
              "#fb9f3a"
             ],
             [
              0.8888888888888888,
              "#fdca26"
             ],
             [
              1,
              "#f0f921"
             ]
            ],
            "type": "histogram2d"
           }
          ],
          "histogram2dcontour": [
           {
            "colorbar": {
             "outlinewidth": 0,
             "ticks": ""
            },
            "colorscale": [
             [
              0,
              "#0d0887"
             ],
             [
              0.1111111111111111,
              "#46039f"
             ],
             [
              0.2222222222222222,
              "#7201a8"
             ],
             [
              0.3333333333333333,
              "#9c179e"
             ],
             [
              0.4444444444444444,
              "#bd3786"
             ],
             [
              0.5555555555555556,
              "#d8576b"
             ],
             [
              0.6666666666666666,
              "#ed7953"
             ],
             [
              0.7777777777777778,
              "#fb9f3a"
             ],
             [
              0.8888888888888888,
              "#fdca26"
             ],
             [
              1,
              "#f0f921"
             ]
            ],
            "type": "histogram2dcontour"
           }
          ],
          "mesh3d": [
           {
            "colorbar": {
             "outlinewidth": 0,
             "ticks": ""
            },
            "type": "mesh3d"
           }
          ],
          "parcoords": [
           {
            "line": {
             "colorbar": {
              "outlinewidth": 0,
              "ticks": ""
             }
            },
            "type": "parcoords"
           }
          ],
          "pie": [
           {
            "automargin": true,
            "type": "pie"
           }
          ],
          "scatter": [
           {
            "fillpattern": {
             "fillmode": "overlay",
             "size": 10,
             "solidity": 0.2
            },
            "type": "scatter"
           }
          ],
          "scatter3d": [
           {
            "line": {
             "colorbar": {
              "outlinewidth": 0,
              "ticks": ""
             }
            },
            "marker": {
             "colorbar": {
              "outlinewidth": 0,
              "ticks": ""
             }
            },
            "type": "scatter3d"
           }
          ],
          "scattercarpet": [
           {
            "marker": {
             "colorbar": {
              "outlinewidth": 0,
              "ticks": ""
             }
            },
            "type": "scattercarpet"
           }
          ],
          "scattergeo": [
           {
            "marker": {
             "colorbar": {
              "outlinewidth": 0,
              "ticks": ""
             }
            },
            "type": "scattergeo"
           }
          ],
          "scattergl": [
           {
            "marker": {
             "colorbar": {
              "outlinewidth": 0,
              "ticks": ""
             }
            },
            "type": "scattergl"
           }
          ],
          "scattermapbox": [
           {
            "marker": {
             "colorbar": {
              "outlinewidth": 0,
              "ticks": ""
             }
            },
            "type": "scattermapbox"
           }
          ],
          "scatterpolar": [
           {
            "marker": {
             "colorbar": {
              "outlinewidth": 0,
              "ticks": ""
             }
            },
            "type": "scatterpolar"
           }
          ],
          "scatterpolargl": [
           {
            "marker": {
             "colorbar": {
              "outlinewidth": 0,
              "ticks": ""
             }
            },
            "type": "scatterpolargl"
           }
          ],
          "scatterternary": [
           {
            "marker": {
             "colorbar": {
              "outlinewidth": 0,
              "ticks": ""
             }
            },
            "type": "scatterternary"
           }
          ],
          "surface": [
           {
            "colorbar": {
             "outlinewidth": 0,
             "ticks": ""
            },
            "colorscale": [
             [
              0,
              "#0d0887"
             ],
             [
              0.1111111111111111,
              "#46039f"
             ],
             [
              0.2222222222222222,
              "#7201a8"
             ],
             [
              0.3333333333333333,
              "#9c179e"
             ],
             [
              0.4444444444444444,
              "#bd3786"
             ],
             [
              0.5555555555555556,
              "#d8576b"
             ],
             [
              0.6666666666666666,
              "#ed7953"
             ],
             [
              0.7777777777777778,
              "#fb9f3a"
             ],
             [
              0.8888888888888888,
              "#fdca26"
             ],
             [
              1,
              "#f0f921"
             ]
            ],
            "type": "surface"
           }
          ],
          "table": [
           {
            "cells": {
             "fill": {
              "color": "#EBF0F8"
             },
             "line": {
              "color": "white"
             }
            },
            "header": {
             "fill": {
              "color": "#C8D4E3"
             },
             "line": {
              "color": "white"
             }
            },
            "type": "table"
           }
          ]
         },
         "layout": {
          "annotationdefaults": {
           "arrowcolor": "#2a3f5f",
           "arrowhead": 0,
           "arrowwidth": 1
          },
          "autotypenumbers": "strict",
          "coloraxis": {
           "colorbar": {
            "outlinewidth": 0,
            "ticks": ""
           }
          },
          "colorscale": {
           "diverging": [
            [
             0,
             "#8e0152"
            ],
            [
             0.1,
             "#c51b7d"
            ],
            [
             0.2,
             "#de77ae"
            ],
            [
             0.3,
             "#f1b6da"
            ],
            [
             0.4,
             "#fde0ef"
            ],
            [
             0.5,
             "#f7f7f7"
            ],
            [
             0.6,
             "#e6f5d0"
            ],
            [
             0.7,
             "#b8e186"
            ],
            [
             0.8,
             "#7fbc41"
            ],
            [
             0.9,
             "#4d9221"
            ],
            [
             1,
             "#276419"
            ]
           ],
           "sequential": [
            [
             0,
             "#0d0887"
            ],
            [
             0.1111111111111111,
             "#46039f"
            ],
            [
             0.2222222222222222,
             "#7201a8"
            ],
            [
             0.3333333333333333,
             "#9c179e"
            ],
            [
             0.4444444444444444,
             "#bd3786"
            ],
            [
             0.5555555555555556,
             "#d8576b"
            ],
            [
             0.6666666666666666,
             "#ed7953"
            ],
            [
             0.7777777777777778,
             "#fb9f3a"
            ],
            [
             0.8888888888888888,
             "#fdca26"
            ],
            [
             1,
             "#f0f921"
            ]
           ],
           "sequentialminus": [
            [
             0,
             "#0d0887"
            ],
            [
             0.1111111111111111,
             "#46039f"
            ],
            [
             0.2222222222222222,
             "#7201a8"
            ],
            [
             0.3333333333333333,
             "#9c179e"
            ],
            [
             0.4444444444444444,
             "#bd3786"
            ],
            [
             0.5555555555555556,
             "#d8576b"
            ],
            [
             0.6666666666666666,
             "#ed7953"
            ],
            [
             0.7777777777777778,
             "#fb9f3a"
            ],
            [
             0.8888888888888888,
             "#fdca26"
            ],
            [
             1,
             "#f0f921"
            ]
           ]
          },
          "colorway": [
           "#636efa",
           "#EF553B",
           "#00cc96",
           "#ab63fa",
           "#FFA15A",
           "#19d3f3",
           "#FF6692",
           "#B6E880",
           "#FF97FF",
           "#FECB52"
          ],
          "font": {
           "color": "#2a3f5f"
          },
          "geo": {
           "bgcolor": "white",
           "lakecolor": "white",
           "landcolor": "#E5ECF6",
           "showlakes": true,
           "showland": true,
           "subunitcolor": "white"
          },
          "hoverlabel": {
           "align": "left"
          },
          "hovermode": "closest",
          "mapbox": {
           "style": "light"
          },
          "paper_bgcolor": "white",
          "plot_bgcolor": "#E5ECF6",
          "polar": {
           "angularaxis": {
            "gridcolor": "white",
            "linecolor": "white",
            "ticks": ""
           },
           "bgcolor": "#E5ECF6",
           "radialaxis": {
            "gridcolor": "white",
            "linecolor": "white",
            "ticks": ""
           }
          },
          "scene": {
           "xaxis": {
            "backgroundcolor": "#E5ECF6",
            "gridcolor": "white",
            "gridwidth": 2,
            "linecolor": "white",
            "showbackground": true,
            "ticks": "",
            "zerolinecolor": "white"
           },
           "yaxis": {
            "backgroundcolor": "#E5ECF6",
            "gridcolor": "white",
            "gridwidth": 2,
            "linecolor": "white",
            "showbackground": true,
            "ticks": "",
            "zerolinecolor": "white"
           },
           "zaxis": {
            "backgroundcolor": "#E5ECF6",
            "gridcolor": "white",
            "gridwidth": 2,
            "linecolor": "white",
            "showbackground": true,
            "ticks": "",
            "zerolinecolor": "white"
           }
          },
          "shapedefaults": {
           "line": {
            "color": "#2a3f5f"
           }
          },
          "ternary": {
           "aaxis": {
            "gridcolor": "white",
            "linecolor": "white",
            "ticks": ""
           },
           "baxis": {
            "gridcolor": "white",
            "linecolor": "white",
            "ticks": ""
           },
           "bgcolor": "#E5ECF6",
           "caxis": {
            "gridcolor": "white",
            "linecolor": "white",
            "ticks": ""
           }
          },
          "title": {
           "x": 0.05
          },
          "xaxis": {
           "automargin": true,
           "gridcolor": "white",
           "linecolor": "white",
           "ticks": "",
           "title": {
            "standoff": 15
           },
           "zerolinecolor": "white",
           "zerolinewidth": 2
          },
          "yaxis": {
           "automargin": true,
           "gridcolor": "white",
           "linecolor": "white",
           "ticks": "",
           "title": {
            "standoff": 15
           },
           "zerolinecolor": "white",
           "zerolinewidth": 2
          }
         }
        },
        "title": {
         "text": "Unique vessels at Anchor at Principal Ports"
        },
        "width": 1000,
        "xaxis": {
         "anchor": "y",
         "domain": [
          0,
          1
         ],
         "title": {
          "text": "month"
         }
        },
        "yaxis": {
         "anchor": "x",
         "domain": [
          0,
          1
         ],
         "title": {
          "text": "vessels_avg"
         }
        }
       }
      }
     },
     "metadata": {},
     "output_type": "display_data"
    }
   ],
   "source": [
    "px.line(\n",
    "    monthly_df\n",
    "    #restrict to top 5 ports\n",
    "    .filter(pl.col('port_name').is_in(top5ports))\n",
    "    #month in dt format\n",
    "    .with_columns(pl.col('month').str.strptime(pl.Date, format='%Y%m'))\n",
    "    .sort(by='month'), \n",
    "    #plot specs\n",
    "    x='month', y='vessels_avg', color='port_name',\n",
    "    title='Unique vessels at Anchor at Principal Ports',\n",
    "    width=1000,\n",
    "    height=500 \n",
    ")"
   ]
  },
  {
   "cell_type": "code",
   "execution_count": null,
   "metadata": {},
   "outputs": [],
   "source": [
    "px.line(\n",
    "    #data with month in dt format\n",
    "    monthly_df\n",
    "    #restrict to top 5 ports\n",
    "    .filter(pl.col('port_name').is_in(top5ports))\n",
    "    #month in dt format\n",
    "    .with_columns(pl.col('month').str.strptime(pl.Date, format='%Y%m'))\n",
    "    .sort(by='month'), \n",
    "    #plot specs\n",
    "    x='month', y='time_at_berth_avg', color='port_name',\n",
    "    title='Median Time at Berth at Principal Ports',\n",
    "    width=1000,\n",
    "    height=500 \n",
    ")"
   ]
  }
 ],
 "metadata": {
  "kernelspec": {
   "display_name": "wsu",
   "language": "python",
   "name": "python3"
  },
  "language_info": {
   "codemirror_mode": {
    "name": "ipython",
    "version": 3
   },
   "file_extension": ".py",
   "mimetype": "text/x-python",
   "name": "python",
   "nbconvert_exporter": "python",
   "pygments_lexer": "ipython3",
   "version": "3.12.0"
  }
 },
 "nbformat": 4,
 "nbformat_minor": 2
}
