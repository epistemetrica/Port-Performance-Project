{
 "cells": [
  {
   "cell_type": "markdown",
   "metadata": {},
   "source": [
    "# Northwest Port Alliance Report for CARB RFP\n",
    "\n",
    "This notebook provides a static report for the Seattle and Tacoma port system to support TRG's submission for the CARB RFP. The data and the majority of the code base comes from the [Port Performance Project](https://github.com/epistemetrica/Port-Performance-Project) represents the data work related to the [WSU TRG's](https://ses.wsu.edu/trg/). "
   ]
  },
  {
   "cell_type": "code",
   "execution_count": 1,
   "metadata": {},
   "outputs": [],
   "source": [
    "#prelims\n",
    "import polars as pl\n",
    "import pandas as pd\n",
    "import geopandas as gpd\n",
    "import time\n",
    "import plotly.express as px\n",
    "import matplotlib.pyplot as plt\n",
    "from plotly.subplots import make_subplots\n",
    "import plotly.graph_objects as go\n",
    "import contextily as cx\n",
    "import numpy as np\n",
    "import glob\n",
    "\n",
    "#enable string cache for polars categoricals\n",
    "pl.enable_string_cache()\n",
    "#display settings\n",
    "pd.set_option('display.max_columns', None)\n",
    "pd.set_option('display.max_rows', None)\n",
    "pl.Config(tbl_rows=50);"
   ]
  },
  {
   "cell_type": "markdown",
   "metadata": {},
   "source": [
    "## Load and Inspect Data"
   ]
  },
  {
   "cell_type": "code",
   "execution_count": 2,
   "metadata": {},
   "outputs": [
    {
     "data": {
      "text/html": [
       "<div><style>\n",
       ".dataframe > thead > tr,\n",
       ".dataframe > tbody > tr {\n",
       "  text-align: right;\n",
       "  white-space: pre-wrap;\n",
       "}\n",
       "</style>\n",
       "<small>shape: (9, 30)</small><table border=\"1\" class=\"dataframe\"><thead><tr><th>statistic</th><th>docking_id</th><th>mmsi</th><th>time</th><th>speed</th><th>course</th><th>heading</th><th>status</th><th>vessel_name</th><th>vessel_type</th><th>imo</th><th>length</th><th>width</th><th>draft</th><th>cargo</th><th>status_previous</th><th>status_duration</th><th>short</th><th>port_type</th><th>port_name</th><th>port_rank</th><th>port_dist</th><th>year</th><th>month</th><th>dock_id</th><th>dock_dist</th><th>port_lat</th><th>port_lon</th><th>dock_lat</th><th>dock_lon</th></tr><tr><td>str</td><td>f64</td><td>str</td><td>str</td><td>f64</td><td>f64</td><td>f64</td><td>f64</td><td>str</td><td>f64</td><td>f64</td><td>f64</td><td>f64</td><td>f64</td><td>f64</td><td>f64</td><td>f64</td><td>f64</td><td>str</td><td>str</td><td>f64</td><td>f64</td><td>f64</td><td>str</td><td>str</td><td>f64</td><td>f64</td><td>f64</td><td>f64</td><td>f64</td></tr></thead><tbody><tr><td>&quot;count&quot;</td><td>26440.0</td><td>&quot;26440&quot;</td><td>&quot;26440&quot;</td><td>26440.0</td><td>26407.0</td><td>26404.0</td><td>26440.0</td><td>&quot;26440&quot;</td><td>26440.0</td><td>26438.0</td><td>26440.0</td><td>25915.0</td><td>25930.0</td><td>20318.0</td><td>25692.0</td><td>26396.0</td><td>26440.0</td><td>&quot;26440&quot;</td><td>&quot;26440&quot;</td><td>26440.0</td><td>26440.0</td><td>26440.0</td><td>&quot;26440&quot;</td><td>&quot;26440&quot;</td><td>26369.0</td><td>26440.0</td><td>26440.0</td><td>26369.0</td><td>26369.0</td></tr><tr><td>&quot;null_count&quot;</td><td>0.0</td><td>&quot;0&quot;</td><td>&quot;0&quot;</td><td>0.0</td><td>33.0</td><td>36.0</td><td>0.0</td><td>&quot;0&quot;</td><td>0.0</td><td>2.0</td><td>0.0</td><td>525.0</td><td>510.0</td><td>6122.0</td><td>748.0</td><td>44.0</td><td>0.0</td><td>&quot;0&quot;</td><td>&quot;0&quot;</td><td>0.0</td><td>0.0</td><td>0.0</td><td>&quot;0&quot;</td><td>&quot;0&quot;</td><td>71.0</td><td>0.0</td><td>0.0</td><td>71.0</td><td>71.0</td></tr><tr><td>&quot;mean&quot;</td><td>922891.387141</td><td>null</td><td>&quot;2021-06-30 12:25:42.641301&quot;</td><td>2.031623</td><td>181.334283</td><td>189.478867</td><td>2.183585</td><td>null</td><td>70.608623</td><td>9.8956e6</td><td>246.99236</td><td>34.268532</td><td>11.366537</td><td>71.251304</td><td>2.23085</td><td>23235.131687</td><td>0.0</td><td>null</td><td>null</td><td>31.44497</td><td>587906.551713</td><td>2021.009871</td><td>null</td><td>null</td><td>587362.205844</td><td>47.422284</td><td>-122.410437</td><td>47.40879</td><td>-122.378918</td></tr><tr><td>&quot;std&quot;</td><td>517281.269378</td><td>null</td><td>null</td><td>4.644211</td><td>101.208465</td><td>100.338901</td><td>2.442724</td><td>null</td><td>2.114414</td><td>2.3051e7</td><td>53.345669</td><td>6.484736</td><td>2.887599</td><td>6.053708</td><td>2.407398</td><td>109073.806092</td><td>null</td><td>null</td><td>null</td><td>0.496972</td><td>1.5952e6</td><td>1.898144</td><td>null</td><td>null</td><td>1.5973e6</td><td>0.148123</td><td>0.045862</td><td>0.159534</td><td>0.031979</td></tr><tr><td>&quot;min&quot;</td><td>620.0</td><td>&quot;205221000&quot;</td><td>&quot;2018-01-01 01:23:57&quot;</td><td>0.0</td><td>0.0</td><td>0.0</td><td>0.0</td><td>null</td><td>70.0</td><td>6.413924e6</td><td>104.0</td><td>15.0</td><td>-12.8</td><td>0.0</td><td>0.0</td><td>0.0</td><td>0.0</td><td>&quot;C&quot;</td><td>&quot;Seattle, WA&quot;</td><td>31.0</td><td>259.542763</td><td>2018.0</td><td>&quot;201801&quot;</td><td>&quot;016F&quot;</td><td>0.164943</td><td>47.28966</td><td>-122.4515</td><td>47.253889</td><td>-122.44305</td></tr><tr><td>&quot;25%&quot;</td><td>527083.0</td><td>null</td><td>&quot;2019-11-26 23:35:31&quot;</td><td>0.0</td><td>106.4</td><td>126.0</td><td>0.0</td><td>null</td><td>70.0</td><td>9.23228e6</td><td>200.0</td><td>32.0</td><td>9.7</td><td>70.0</td><td>0.0</td><td>500.0</td><td>null</td><td>null</td><td>null</td><td>31.0</td><td>4880.921804</td><td>2019.0</td><td>null</td><td>null</td><td>200.420219</td><td>47.28966</td><td>-122.4515</td><td>47.266389</td><td>-122.405</td></tr><tr><td>&quot;50%&quot;</td><td>927800.0</td><td>null</td><td>&quot;2021-07-29 10:26:37&quot;</td><td>0.1</td><td>180.0</td><td>180.0</td><td>1.0</td><td>null</td><td>70.0</td><td>9.347566e6</td><td>229.0</td><td>32.0</td><td>11.5</td><td>70.0</td><td>1.0</td><td>1577.0</td><td>null</td><td>null</td><td>null</td><td>31.0</td><td>9007.294693</td><td>2021.0</td><td>null</td><td>null</td><td>3667.666482</td><td>47.28966</td><td>-122.4515</td><td>47.274444</td><td>-122.38333</td></tr><tr><td>&quot;75%&quot;</td><td>1.276985e6</td><td>null</td><td>&quot;2023-01-22 00:45:42&quot;</td><td>0.7</td><td>267.6</td><td>296.0</td><td>5.0</td><td>null</td><td>70.0</td><td>9.542295e6</td><td>294.0</td><td>40.0</td><td>13.6</td><td>71.0</td><td>5.0</td><td>5652.0</td><td>null</td><td>null</td><td>null</td><td>32.0</td><td>298665.572736</td><td>2023.0</td><td>null</td><td>null</td><td>302277.859243</td><td>47.587711</td><td>-122.359218</td><td>47.582943</td><td>-122.34305</td></tr><tr><td>&quot;max&quot;</td><td>1.862019e6</td><td>&quot;636093294&quot;</td><td>&quot;2024-09-30 21:57:37&quot;</td><td>102.3</td><td>359.9</td><td>359.0</td><td>15.0</td><td>null</td><td>89.0</td><td>9.464704e8</td><td>366.0</td><td>58.0</td><td>22.5</td><td>159.0</td><td>15.0</td><td>3.357536e6</td><td>0.0</td><td>&quot;C&quot;</td><td>&quot;Tacoma, WA&quot;</td><td>32.0</td><td>3.1725e7</td><td>2024.0</td><td>&quot;202409&quot;</td><td>&quot;nan&quot;</td><td>3.1723e7</td><td>47.587711</td><td>-122.359218</td><td>47.626389</td><td>-122.34</td></tr></tbody></table></div>"
      ],
      "text/plain": [
       "shape: (9, 30)\n",
       "┌───────────┬───────────┬───────────┬───────────┬───┬───────────┬───────────┬───────────┬──────────┐\n",
       "│ statistic ┆ docking_i ┆ mmsi      ┆ time      ┆ … ┆ port_lat  ┆ port_lon  ┆ dock_lat  ┆ dock_lon │\n",
       "│ ---       ┆ d         ┆ ---       ┆ ---       ┆   ┆ ---       ┆ ---       ┆ ---       ┆ ---      │\n",
       "│ str       ┆ ---       ┆ str       ┆ str       ┆   ┆ f64       ┆ f64       ┆ f64       ┆ f64      │\n",
       "│           ┆ f64       ┆           ┆           ┆   ┆           ┆           ┆           ┆          │\n",
       "╞═══════════╪═══════════╪═══════════╪═══════════╪═══╪═══════════╪═══════════╪═══════════╪══════════╡\n",
       "│ count     ┆ 26440.0   ┆ 26440     ┆ 26440     ┆ … ┆ 26440.0   ┆ 26440.0   ┆ 26369.0   ┆ 26369.0  │\n",
       "│ null_coun ┆ 0.0       ┆ 0         ┆ 0         ┆ … ┆ 0.0       ┆ 0.0       ┆ 71.0      ┆ 71.0     │\n",
       "│ t         ┆           ┆           ┆           ┆   ┆           ┆           ┆           ┆          │\n",
       "│ mean      ┆ 922891.38 ┆ null      ┆ 2021-06-3 ┆ … ┆ 47.422284 ┆ -122.4104 ┆ 47.40879  ┆ -122.378 │\n",
       "│           ┆ 7141      ┆           ┆ 0 12:25:4 ┆   ┆           ┆ 37        ┆           ┆ 918      │\n",
       "│           ┆           ┆           ┆ 2.641301  ┆   ┆           ┆           ┆           ┆          │\n",
       "│ std       ┆ 517281.26 ┆ null      ┆ null      ┆ … ┆ 0.148123  ┆ 0.045862  ┆ 0.159534  ┆ 0.031979 │\n",
       "│           ┆ 9378      ┆           ┆           ┆   ┆           ┆           ┆           ┆          │\n",
       "│ min       ┆ 620.0     ┆ 205221000 ┆ 2018-01-0 ┆ … ┆ 47.28966  ┆ -122.4515 ┆ 47.253889 ┆ -122.443 │\n",
       "│           ┆           ┆           ┆ 1         ┆   ┆           ┆           ┆           ┆ 05       │\n",
       "│           ┆           ┆           ┆ 01:23:57  ┆   ┆           ┆           ┆           ┆          │\n",
       "│ 25%       ┆ 527083.0  ┆ null      ┆ 2019-11-2 ┆ … ┆ 47.28966  ┆ -122.4515 ┆ 47.266389 ┆ -122.405 │\n",
       "│           ┆           ┆           ┆ 6         ┆   ┆           ┆           ┆           ┆          │\n",
       "│           ┆           ┆           ┆ 23:35:31  ┆   ┆           ┆           ┆           ┆          │\n",
       "│ 50%       ┆ 927800.0  ┆ null      ┆ 2021-07-2 ┆ … ┆ 47.28966  ┆ -122.4515 ┆ 47.274444 ┆ -122.383 │\n",
       "│           ┆           ┆           ┆ 9         ┆   ┆           ┆           ┆           ┆ 33       │\n",
       "│           ┆           ┆           ┆ 10:26:37  ┆   ┆           ┆           ┆           ┆          │\n",
       "│ 75%       ┆ 1.276985e ┆ null      ┆ 2023-01-2 ┆ … ┆ 47.587711 ┆ -122.3592 ┆ 47.582943 ┆ -122.343 │\n",
       "│           ┆ 6         ┆           ┆ 2         ┆   ┆           ┆ 18        ┆           ┆ 05       │\n",
       "│           ┆           ┆           ┆ 00:45:42  ┆   ┆           ┆           ┆           ┆          │\n",
       "│ max       ┆ 1.862019e ┆ 636093294 ┆ 2024-09-3 ┆ … ┆ 47.587711 ┆ -122.3592 ┆ 47.626389 ┆ -122.34  │\n",
       "│           ┆ 6         ┆           ┆ 0         ┆   ┆           ┆ 18        ┆           ┆          │\n",
       "│           ┆           ┆           ┆ 21:57:37  ┆   ┆           ┆           ┆           ┆          │\n",
       "└───────────┴───────────┴───────────┴───────────┴───┴───────────┴───────────┴───────────┴──────────┘"
      ]
     },
     "metadata": {},
     "output_type": "display_data"
    },
    {
     "data": {
      "text/html": [
       "<div><style>\n",
       ".dataframe > thead > tr,\n",
       ".dataframe > tbody > tr {\n",
       "  text-align: right;\n",
       "  white-space: pre-wrap;\n",
       "}\n",
       "</style>\n",
       "<small>shape: (5, 29)</small><table border=\"1\" class=\"dataframe\"><thead><tr><th>docking_id</th><th>mmsi</th><th>time</th><th>speed</th><th>course</th><th>heading</th><th>status</th><th>vessel_name</th><th>vessel_type</th><th>imo</th><th>length</th><th>width</th><th>draft</th><th>cargo</th><th>status_previous</th><th>status_duration</th><th>short</th><th>port_type</th><th>port_name</th><th>port_rank</th><th>port_dist</th><th>year</th><th>month</th><th>dock_id</th><th>dock_dist</th><th>port_lat</th><th>port_lon</th><th>dock_lat</th><th>dock_lon</th></tr><tr><td>f64</td><td>str</td><td>datetime[μs]</td><td>f64</td><td>f64</td><td>f64</td><td>f64</td><td>cat</td><td>f64</td><td>f64</td><td>f64</td><td>f64</td><td>f64</td><td>f64</td><td>f64</td><td>f64</td><td>bool</td><td>str</td><td>str</td><td>f64</td><td>f64</td><td>i32</td><td>str</td><td>str</td><td>f64</td><td>f64</td><td>f64</td><td>f64</td><td>f64</td></tr></thead><tbody><tr><td>620.0</td><td>&quot;205221000&quot;</td><td>2024-09-10 21:20:44</td><td>0.2</td><td>222.1</td><td>129.0</td><td>0.0</td><td>&quot;LOWLANDS PELIKAAN&quot;</td><td>70.0</td><td>9.700005e6</td><td>180.0</td><td>30.0</td><td>6.8</td><td>70.0</td><td>5.0</td><td>548.0</td><td>false</td><td>&quot;C&quot;</td><td>&quot;Tacoma, WA&quot;</td><td>31.0</td><td>1.3339e6</td><td>2024</td><td>&quot;202409&quot;</td><td>&quot;0ZF3&quot;</td><td>1.3297e6</td><td>47.28966</td><td>-122.4515</td><td>47.268056</td><td>-122.36888</td></tr><tr><td>620.0</td><td>&quot;205221000&quot;</td><td>2024-09-11 06:29:24</td><td>0.3</td><td>116.9</td><td>186.0</td><td>1.0</td><td>&quot;LOWLANDS PELIKAAN&quot;</td><td>70.0</td><td>9.700005e6</td><td>180.0</td><td>30.0</td><td>6.8</td><td>70.0</td><td>0.0</td><td>566.0</td><td>false</td><td>&quot;C&quot;</td><td>&quot;Tacoma, WA&quot;</td><td>31.0</td><td>1.4494e6</td><td>2024</td><td>&quot;202409&quot;</td><td>&quot;0ZF3&quot;</td><td>1.4458e6</td><td>47.28966</td><td>-122.4515</td><td>47.268056</td><td>-122.36888</td></tr><tr><td>620.0</td><td>&quot;205221000&quot;</td><td>2024-09-11 15:55:54</td><td>7.6</td><td>249.3</td><td>248.0</td><td>0.0</td><td>&quot;LOWLANDS PELIKAAN&quot;</td><td>70.0</td><td>9.700005e6</td><td>180.0</td><td>30.0</td><td>6.8</td><td>70.0</td><td>1.0</td><td>18.0</td><td>false</td><td>&quot;C&quot;</td><td>&quot;Tacoma, WA&quot;</td><td>31.0</td><td>1.4033e6</td><td>2024</td><td>&quot;202409&quot;</td><td>&quot;0ZF3&quot;</td><td>1.3995e6</td><td>47.28966</td><td>-122.4515</td><td>47.268056</td><td>-122.36888</td></tr><tr><td>620.0</td><td>&quot;205221000&quot;</td><td>2024-09-11 16:14:30</td><td>0.1</td><td>336.0</td><td>234.0</td><td>1.0</td><td>&quot;LOWLANDS PELIKAAN&quot;</td><td>70.0</td><td>9.700005e6</td><td>180.0</td><td>30.0</td><td>6.8</td><td>70.0</td><td>0.0</td><td>9415.0</td><td>false</td><td>&quot;C&quot;</td><td>&quot;Tacoma, WA&quot;</td><td>31.0</td><td>1.4495e6</td><td>2024</td><td>&quot;202409&quot;</td><td>&quot;0ZF3&quot;</td><td>1.4459e6</td><td>47.28966</td><td>-122.4515</td><td>47.268056</td><td>-122.36888</td></tr><tr><td>620.0</td><td>&quot;205221000&quot;</td><td>2024-09-18 05:09:36</td><td>8.9</td><td>336.5</td><td>330.0</td><td>0.0</td><td>&quot;LOWLANDS PELIKAAN&quot;</td><td>70.0</td><td>9.700005e6</td><td>180.0</td><td>30.0</td><td>6.8</td><td>70.0</td><td>1.0</td><td>5414.0</td><td>false</td><td>&quot;C&quot;</td><td>&quot;Tacoma, WA&quot;</td><td>31.0</td><td>1.4472e6</td><td>2024</td><td>&quot;202409&quot;</td><td>&quot;0ZF3&quot;</td><td>1.4436e6</td><td>47.28966</td><td>-122.4515</td><td>47.268056</td><td>-122.36888</td></tr></tbody></table></div>"
      ],
      "text/plain": [
       "shape: (5, 29)\n",
       "┌────────────┬───────────┬─────────────┬───────┬───┬──────────┬───────────┬───────────┬────────────┐\n",
       "│ docking_id ┆ mmsi      ┆ time        ┆ speed ┆ … ┆ port_lat ┆ port_lon  ┆ dock_lat  ┆ dock_lon   │\n",
       "│ ---        ┆ ---       ┆ ---         ┆ ---   ┆   ┆ ---      ┆ ---       ┆ ---       ┆ ---        │\n",
       "│ f64        ┆ str       ┆ datetime[μs ┆ f64   ┆   ┆ f64      ┆ f64       ┆ f64       ┆ f64        │\n",
       "│            ┆           ┆ ]           ┆       ┆   ┆          ┆           ┆           ┆            │\n",
       "╞════════════╪═══════════╪═════════════╪═══════╪═══╪══════════╪═══════════╪═══════════╪════════════╡\n",
       "│ 620.0      ┆ 205221000 ┆ 2024-09-10  ┆ 0.2   ┆ … ┆ 47.28966 ┆ -122.4515 ┆ 47.268056 ┆ -122.36888 │\n",
       "│            ┆           ┆ 21:20:44    ┆       ┆   ┆          ┆           ┆           ┆            │\n",
       "│ 620.0      ┆ 205221000 ┆ 2024-09-11  ┆ 0.3   ┆ … ┆ 47.28966 ┆ -122.4515 ┆ 47.268056 ┆ -122.36888 │\n",
       "│            ┆           ┆ 06:29:24    ┆       ┆   ┆          ┆           ┆           ┆            │\n",
       "│ 620.0      ┆ 205221000 ┆ 2024-09-11  ┆ 7.6   ┆ … ┆ 47.28966 ┆ -122.4515 ┆ 47.268056 ┆ -122.36888 │\n",
       "│            ┆           ┆ 15:55:54    ┆       ┆   ┆          ┆           ┆           ┆            │\n",
       "│ 620.0      ┆ 205221000 ┆ 2024-09-11  ┆ 0.1   ┆ … ┆ 47.28966 ┆ -122.4515 ┆ 47.268056 ┆ -122.36888 │\n",
       "│            ┆           ┆ 16:14:30    ┆       ┆   ┆          ┆           ┆           ┆            │\n",
       "│ 620.0      ┆ 205221000 ┆ 2024-09-18  ┆ 8.9   ┆ … ┆ 47.28966 ┆ -122.4515 ┆ 47.268056 ┆ -122.36888 │\n",
       "│            ┆           ┆ 05:09:36    ┆       ┆   ┆          ┆           ┆           ┆            │\n",
       "└────────────┴───────────┴─────────────┴───────┴───┴──────────┴───────────┴───────────┴────────────┘"
      ]
     },
     "execution_count": 2,
     "metadata": {},
     "output_type": "execute_result"
    }
   ],
   "source": [
    "main_df = (\n",
    "    #read\n",
    "    pl.read_parquet('port data/dashboard/main.parquet')\n",
    "    #limit to only Northwest Seaport Alliance\n",
    "    .filter(pl.col('port_name').is_in(['Seattle, WA', 'Tacoma, WA']))\n",
    ")\n",
    "display(main_df.describe())\n",
    "main_df.head()"
   ]
  },
  {
   "cell_type": "markdown",
   "metadata": {},
   "source": [
    "## Generate stats"
   ]
  },
  {
   "cell_type": "code",
   "execution_count": 3,
   "metadata": {},
   "outputs": [],
   "source": [
    "#init handy variables\n",
    "earliest_date = main_df['time'].min().date()\n",
    "latest_date = main_df['time'].max().date()\n",
    "\n",
    "#define port stats function\n",
    "def port_stats(df, start_date=earliest_date, end_date=latest_date):\n",
    "    #create ports stats\n",
    "    portstats_df = (\n",
    "        #convert main gdf to polars\n",
    "        df\n",
    "        #filter to given date\n",
    "        .filter(pl.col('time').is_between(start_date, end_date))\n",
    "        #ensure sorting\n",
    "        .sort(['mmsi', 'time'])\n",
    "        #drop messages not associated with a docking event\n",
    "        .drop_nulls(subset='docking_id')\n",
    "        .with_columns(\n",
    "            #sum anchorage time for each docking event\n",
    "            time_at_anchor = (\n",
    "                pl.when(pl.col('status')==1)\n",
    "                .then(pl.col('status_duration'))\n",
    "                .otherwise(pl.lit(None))\n",
    "                .sum().over('docking_id')\n",
    "            ),\n",
    "            #get monthly vessels and visits\n",
    "            vessels = pl.col('mmsi').n_unique().over('port_name', 'month'),\n",
    "            visits = pl.col('docking_id').n_unique().over('port_name', 'month')\n",
    "        )\n",
    "        #aggregate to ports\n",
    "        .group_by('port_name')\n",
    "        .agg(\n",
    "            #keep lat and long\n",
    "            port_lat = pl.col('port_lat').first(),\n",
    "            port_lon = pl.col('port_lon').first(),\n",
    "            #get monthly average of unique vessels seen at each port\n",
    "            vessels_avg = pl.col('vessels').mean(),\n",
    "            #get monthly average of vessel visits at each port\n",
    "            visits_avg = pl.col('visits').mean(),\n",
    "            #get median time at berth in hours\n",
    "            time_at_berth_median = (\n",
    "                pl.when(pl.col('status')==5)\n",
    "                .then(pl.col('status_duration'))\n",
    "                .otherwise(pl.lit(None))\n",
    "            ).median()/60,\n",
    "            #get median time at anchor in hours\n",
    "            time_at_anchor_median = pl.col('time_at_anchor').median()/60,\n",
    "            #get mean time at anchor in hours\n",
    "            time_at_anchor_mean = pl.col('time_at_anchor').mean()/60\n",
    "        )\n",
    "        #convert to pandas to that geopandas is happy\n",
    "        .to_pandas()\n",
    "    )\n",
    "    #convert back to geodataframe\n",
    "    portstats_gdf = (\n",
    "        gpd.GeoDataFrame(\n",
    "            portstats_df, \n",
    "            geometry=gpd.points_from_xy(portstats_df.port_lon, \n",
    "                                        portstats_df.port_lat),\n",
    "            crs=3857\n",
    "        )\n",
    "    )\n",
    "    return portstats_gdf\n",
    "\n",
    "#define dock stats function\n",
    "def dock_stats(df, start_date=earliest_date, end_date=latest_date):\n",
    "    #create dock stats\n",
    "    dockstats_df = (\n",
    "        #convert main gdf to polars\n",
    "        df\n",
    "        #filter to given date\n",
    "        .filter(pl.col('time').is_between(start_date, end_date))\n",
    "        #ensure sorting\n",
    "        .sort(['mmsi', 'time'])\n",
    "        #drop messages not associated with a docking event\n",
    "        .drop_nulls(subset='docking_id')\n",
    "        .with_columns(\n",
    "            #sum anchorage time for each docking event\n",
    "            time_at_anchor = (\n",
    "                pl.when(pl.col('status')==1)\n",
    "                .then(pl.col('status_duration'))\n",
    "                .otherwise(pl.lit(None))\n",
    "                .sum().over('docking_id')\n",
    "            ),\n",
    "            #get monthly vessels and visits\n",
    "            vessels = pl.col('mmsi').n_unique().over('dock_id', 'month'),\n",
    "            visits = pl.col('docking_id').n_unique().over('dock_id', 'month')\n",
    "        )\n",
    "        #aggregate to ports\n",
    "        .group_by('dock_id', 'port_name')\n",
    "        .agg(\n",
    "            #keep lat and long\n",
    "            dock_lat = pl.col('dock_lat').first(),\n",
    "            dock_lon = pl.col('dock_lon').first(),\n",
    "            #get monthly average of unique vessels seen at each port\n",
    "            vessels_avg = pl.col('vessels').mean(),\n",
    "            #get monthly average of vessel visits at each port\n",
    "            visits_avg = pl.col('visits').mean(),\n",
    "            #get median time at berth in hours\n",
    "            time_at_berth_median = (\n",
    "                pl.when(pl.col('status')==5)\n",
    "                .then(pl.col('status_duration'))\n",
    "                .otherwise(pl.lit(None))\n",
    "            ).median()/60,\n",
    "            #get median time at anchor in hours\n",
    "            time_at_anchor_median = pl.col('time_at_anchor').median()/60,\n",
    "            #get mean time at anchor in hours\n",
    "            time_at_anchor_mean = pl.col('time_at_anchor').mean()/60\n",
    "        )\n",
    "        #convert to pandas to that geopandas is happy\n",
    "        .to_pandas()\n",
    "    )\n",
    "    #convert back to geodataframe\n",
    "    dockstats_gdf = (\n",
    "        gpd.GeoDataFrame(\n",
    "            dockstats_df, \n",
    "            geometry=gpd.points_from_xy(dockstats_df.dock_lon, \n",
    "                                        dockstats_df.dock_lat),\n",
    "            crs=3857\n",
    "        )\n",
    "    )\n",
    "    return dockstats_gdf"
   ]
  },
  {
   "cell_type": "code",
   "execution_count": 4,
   "metadata": {},
   "outputs": [
    {
     "data": {
      "text/html": [
       "<div>\n",
       "<style scoped>\n",
       "    .dataframe tbody tr th:only-of-type {\n",
       "        vertical-align: middle;\n",
       "    }\n",
       "\n",
       "    .dataframe tbody tr th {\n",
       "        vertical-align: top;\n",
       "    }\n",
       "\n",
       "    .dataframe thead th {\n",
       "        text-align: right;\n",
       "    }\n",
       "</style>\n",
       "<table border=\"1\" class=\"dataframe\">\n",
       "  <thead>\n",
       "    <tr style=\"text-align: right;\">\n",
       "      <th></th>\n",
       "      <th>port_name</th>\n",
       "      <th>port_lat</th>\n",
       "      <th>port_lon</th>\n",
       "      <th>vessels_avg</th>\n",
       "      <th>visits_avg</th>\n",
       "      <th>time_at_berth_median</th>\n",
       "      <th>time_at_anchor_median</th>\n",
       "      <th>time_at_anchor_mean</th>\n",
       "      <th>geometry</th>\n",
       "    </tr>\n",
       "  </thead>\n",
       "  <tbody>\n",
       "    <tr>\n",
       "      <th>0</th>\n",
       "      <td>Tacoma, WA</td>\n",
       "      <td>47.289660</td>\n",
       "      <td>-122.451500</td>\n",
       "      <td>71.517925</td>\n",
       "      <td>108.658261</td>\n",
       "      <td>23.858333</td>\n",
       "      <td>0.0</td>\n",
       "      <td>37.994551</td>\n",
       "      <td>POINT (-122.451 47.290)</td>\n",
       "    </tr>\n",
       "    <tr>\n",
       "      <th>1</th>\n",
       "      <td>Seattle, WA</td>\n",
       "      <td>47.587711</td>\n",
       "      <td>-122.359218</td>\n",
       "      <td>55.795885</td>\n",
       "      <td>76.343365</td>\n",
       "      <td>29.316667</td>\n",
       "      <td>0.0</td>\n",
       "      <td>65.377577</td>\n",
       "      <td>POINT (-122.359 47.588)</td>\n",
       "    </tr>\n",
       "  </tbody>\n",
       "</table>\n",
       "</div>"
      ],
      "text/plain": [
       "     port_name   port_lat    port_lon  vessels_avg  visits_avg  \\\n",
       "0   Tacoma, WA  47.289660 -122.451500    71.517925  108.658261   \n",
       "1  Seattle, WA  47.587711 -122.359218    55.795885   76.343365   \n",
       "\n",
       "   time_at_berth_median  time_at_anchor_median  time_at_anchor_mean  \\\n",
       "0             23.858333                    0.0            37.994551   \n",
       "1             29.316667                    0.0            65.377577   \n",
       "\n",
       "                  geometry  \n",
       "0  POINT (-122.451 47.290)  \n",
       "1  POINT (-122.359 47.588)  "
      ]
     },
     "execution_count": 4,
     "metadata": {},
     "output_type": "execute_result"
    }
   ],
   "source": [
    "#generate stats for each member port\n",
    "portstats_df = port_stats(main_df)\n",
    "#inspect\n",
    "portstats_df"
   ]
  },
  {
   "cell_type": "code",
   "execution_count": 5,
   "metadata": {},
   "outputs": [
    {
     "data": {
      "text/html": [
       "<div>\n",
       "<style scoped>\n",
       "    .dataframe tbody tr th:only-of-type {\n",
       "        vertical-align: middle;\n",
       "    }\n",
       "\n",
       "    .dataframe tbody tr th {\n",
       "        vertical-align: top;\n",
       "    }\n",
       "\n",
       "    .dataframe thead th {\n",
       "        text-align: right;\n",
       "    }\n",
       "</style>\n",
       "<table border=\"1\" class=\"dataframe\">\n",
       "  <thead>\n",
       "    <tr style=\"text-align: right;\">\n",
       "      <th></th>\n",
       "      <th>port_name</th>\n",
       "      <th>vessels_avg</th>\n",
       "      <th>visits_avg</th>\n",
       "      <th>time_at_berth_median</th>\n",
       "      <th>time_at_anchor_median</th>\n",
       "      <th>time_at_anchor_mean</th>\n",
       "    </tr>\n",
       "  </thead>\n",
       "  <tbody>\n",
       "    <tr>\n",
       "      <th>0</th>\n",
       "      <td>NW Seaport Alliance</td>\n",
       "      <td>124.875809</td>\n",
       "      <td>181.221373</td>\n",
       "      <td>25.583333</td>\n",
       "      <td>0.0</td>\n",
       "      <td>50.179402</td>\n",
       "    </tr>\n",
       "  </tbody>\n",
       "</table>\n",
       "</div>"
      ],
      "text/plain": [
       "             port_name  vessels_avg  visits_avg  time_at_berth_median  \\\n",
       "0  NW Seaport Alliance   124.875809  181.221373             25.583333   \n",
       "\n",
       "   time_at_anchor_median  time_at_anchor_mean  \n",
       "0                    0.0            50.179402  "
      ]
     },
     "execution_count": 5,
     "metadata": {},
     "output_type": "execute_result"
    }
   ],
   "source": [
    "#get combined stats for NW Port Alliance\n",
    "nwpa_stats = (\n",
    "    #drop port name\n",
    "    main_df.drop('port_name')\n",
    "    #create new port name\n",
    "    .with_columns(port_name = pl.lit('NW Seaport Alliance'))\n",
    ")\n",
    "#get stats\n",
    "nwpa_stats = port_stats(nwpa_stats).drop(['port_lat', 'port_lon', 'geometry'], axis=1)\n",
    "#inspect\n",
    "nwpa_stats"
   ]
  },
  {
   "cell_type": "code",
   "execution_count": 6,
   "metadata": {},
   "outputs": [],
   "source": [
    "dockstats_df = dock_stats(main_df)"
   ]
  },
  {
   "cell_type": "code",
   "execution_count": 7,
   "metadata": {},
   "outputs": [
    {
     "name": "stdout",
     "output_type": "stream",
     "text": [
      "  dock_id    port_name   dock_lat    dock_lon  vessels_avg  visits_avg  \\\n",
      "0    0TD0  Seattle, WA  47.589167 -122.356660     1.000000    1.000000   \n",
      "1    0ZPT  Seattle, WA  47.552222 -122.342500     1.000000    1.000000   \n",
      "2    0Z63   Tacoma, WA  47.262500 -122.389720     9.008170   16.365196   \n",
      "3    0UFJ   Tacoma, WA  47.259722 -122.384440    11.995355   14.086264   \n",
      "4    01CX   Tacoma, WA  47.277566 -122.430666     1.000000    1.000000   \n",
      "\n",
      "   time_at_berth_median  time_at_anchor_median  time_at_anchor_mean  \\\n",
      "0             47.500000                    0.0             0.000000   \n",
      "1             92.633333                    0.0             0.000000   \n",
      "2             49.300000                    0.0             9.372331   \n",
      "3             15.216667                    0.0            26.589084   \n",
      "4             49.066667                    0.0             0.000000   \n",
      "\n",
      "                  geometry  \n",
      "0  POINT (-122.357 47.589)  \n",
      "1  POINT (-122.343 47.552)  \n",
      "2  POINT (-122.390 47.263)  \n",
      "3  POINT (-122.384 47.260)  \n",
      "4  POINT (-122.431 47.278)  \n"
     ]
    }
   ],
   "source": [
    "print(dockstats_df.head())"
   ]
  },
  {
   "cell_type": "code",
   "execution_count": 8,
   "metadata": {},
   "outputs": [
    {
     "data": {
      "application/vnd.plotly.v1+json": {
       "config": {
        "plotlyServerURL": "https://plot.ly"
       },
       "data": [
        {
         "hovertemplate": "<b>%{hovertext}</b><br><br>visits_avg=%{marker.size}<br>dock_lat=%{lat}<br>dock_lon=%{lon}<br>Median Hours at Berth=%{marker.color}<extra></extra>",
         "hovertext": [
          "0TD0",
          "0ZPT",
          "016R",
          "0UNV",
          "0UMV",
          "0THA",
          "016L",
          "0ZPU",
          "016S",
          "0UNT",
          "0UPD",
          "0T1T",
          "0UMW",
          "0170",
          "0T6H",
          "0UN9",
          "0UEJ",
          "0T1S",
          "016F",
          "0ZQD",
          "0UNU",
          "0R54",
          "0UMS",
          "0R5T",
          "0UN8",
          "0UNA",
          "016P",
          "0UPK",
          "0UP1",
          "nan",
          "0TJG",
          "0T1U",
          "0UPC"
         ],
         "lat": [
          47.58916700000002,
          47.55222200000004,
          47.59927000000006,
          47.58944400000007,
          47.623333000000066,
          47.584444000000076,
          47.574757000000055,
          47.54833300000005,
          47.59370500000003,
          47.57555600000006,
          47.59666700000011,
          47.56277800000002,
          47.626389000000046,
          47.583046000000095,
          47.55388900000005,
          47.58355700000003,
          47.57694400000004,
          47.555278000000065,
          47.625111000000054,
          47.573056000000044,
          47.58294300000004,
          47.57957300000006,
          47.5825,
          47.58703100000008,
          47.59000000000004,
          47.57611099999999,
          47.587536000000064,
          47.54888900000003,
          47.57388900000004,
          null,
          47.58777800000005,
          47.565000000000026,
          47.59222200000002
         ],
         "legendgroup": "",
         "lon": [
          -122.35665999999995,
          -122.34250000000027,
          -122.35740000000007,
          -122.34304999999992,
          -122.3700000000001,
          -122.35832999999973,
          -122.34607699999965,
          -122.3400000000001,
          -122.3525560000001,
          -122.34304999999992,
          -122.34111000000027,
          -122.34860999999982,
          -122.37999999999981,
          -122.36105000000013,
          -122.34304999999992,
          -122.34612900000035,
          -122.36137999999956,
          -122.34500000000041,
          -122.37067699999952,
          -122.3438800000003,
          -122.34292999999988,
          -122.3416989999996,
          -122.35832999999973,
          -122.356476,
          -122.34972,
          -122.34582999999986,
          -122.34255300000014,
          -122.34026999999998,
          -122.3588800000003,
          null,
          -122.35137999999984,
          -122.3488799999997,
          -122.34250000000027
         ],
         "marker": {
          "color": [
           47.5,
           92.63333333333333,
           4.4,
           33.11666666666667,
           90.93333333333334,
           23.433333333333334,
           69.675,
           245.66666666666666,
           5.958333333333333,
           167.625,
           48.541666666666664,
           94.675,
           83.9,
           38.93333333333333,
           59.30833333333333,
           33.63333333333333,
           34.983333333333334,
           52.225,
           87.85,
           65.46666666666667,
           21.275,
           20.4,
           30.45,
           289.9,
           33.766666666666666,
           1.45,
           33.358333333333334,
           319.7833333333333,
           21.083333333333332,
           1.5083333333333333,
           9.133333333333333,
           158.28333333333333,
           48.2
          ],
          "coloraxis": "coloraxis",
          "size": [
           1,
           1,
           1,
           1.4931506849315068,
           7.3997785160575855,
           1,
           1.3125,
           3.350974930362117,
           1,
           1,
           4.041095890410959,
           1.146341463414634,
           1.25,
           4.567669172932331,
           3.389423076923077,
           17.471927162367223,
           6.333973128598848,
           1,
           7.181551976573939,
           1,
           25.371381981247453,
           17.490435706695006,
           1.0714285714285714,
           1,
           1,
           18.69774011299435,
           10.448736998514116,
           1,
           1,
           3.2857142857142856,
           1,
           1,
           4.8121212121212125
          ],
          "sizemode": "area",
          "sizeref": 0.06342845495311863
         },
         "mode": "markers",
         "name": "",
         "showlegend": false,
         "subplot": "mapbox",
         "type": "scattermapbox"
        }
       ],
       "layout": {
        "annotations": [
         {
          "align": "left",
          "font": {
           "color": "black",
           "size": 14
          },
          "showarrow": false,
          "text": "Note: Circle size corresponds to average vessel visits per month since 2018",
          "x": 0,
          "xref": "paper",
          "y": -0.05,
          "yref": "paper"
         }
        ],
        "coloraxis": {
         "cmax": 50,
         "cmin": 0,
         "colorbar": {
          "title": {
           "text": "Median Hours at Berth"
          }
         },
         "colorscale": [
          [
           0,
           "#440154"
          ],
          [
           0.1111111111111111,
           "#482878"
          ],
          [
           0.2222222222222222,
           "#3e4989"
          ],
          [
           0.3333333333333333,
           "#31688e"
          ],
          [
           0.4444444444444444,
           "#26828e"
          ],
          [
           0.5555555555555556,
           "#1f9e89"
          ],
          [
           0.6666666666666666,
           "#35b779"
          ],
          [
           0.7777777777777778,
           "#6ece58"
          ],
          [
           0.8888888888888888,
           "#b5de2b"
          ],
          [
           1,
           "#fde725"
          ]
         ]
        },
        "height": 500,
        "legend": {
         "itemsizing": "constant",
         "tracegroupgap": 0
        },
        "mapbox": {
         "center": {
          "lat": 47.58188806250005,
          "lon": -122.35093615624997
         },
         "domain": {
          "x": [
           0,
           1
          ],
          "y": [
           0,
           1
          ]
         },
         "style": "carto-positron",
         "zoom": 10.5
        },
        "template": {
         "data": {
          "bar": [
           {
            "error_x": {
             "color": "#2a3f5f"
            },
            "error_y": {
             "color": "#2a3f5f"
            },
            "marker": {
             "line": {
              "color": "#E5ECF6",
              "width": 0.5
             },
             "pattern": {
              "fillmode": "overlay",
              "size": 10,
              "solidity": 0.2
             }
            },
            "type": "bar"
           }
          ],
          "barpolar": [
           {
            "marker": {
             "line": {
              "color": "#E5ECF6",
              "width": 0.5
             },
             "pattern": {
              "fillmode": "overlay",
              "size": 10,
              "solidity": 0.2
             }
            },
            "type": "barpolar"
           }
          ],
          "carpet": [
           {
            "aaxis": {
             "endlinecolor": "#2a3f5f",
             "gridcolor": "white",
             "linecolor": "white",
             "minorgridcolor": "white",
             "startlinecolor": "#2a3f5f"
            },
            "baxis": {
             "endlinecolor": "#2a3f5f",
             "gridcolor": "white",
             "linecolor": "white",
             "minorgridcolor": "white",
             "startlinecolor": "#2a3f5f"
            },
            "type": "carpet"
           }
          ],
          "choropleth": [
           {
            "colorbar": {
             "outlinewidth": 0,
             "ticks": ""
            },
            "type": "choropleth"
           }
          ],
          "contour": [
           {
            "colorbar": {
             "outlinewidth": 0,
             "ticks": ""
            },
            "colorscale": [
             [
              0,
              "#0d0887"
             ],
             [
              0.1111111111111111,
              "#46039f"
             ],
             [
              0.2222222222222222,
              "#7201a8"
             ],
             [
              0.3333333333333333,
              "#9c179e"
             ],
             [
              0.4444444444444444,
              "#bd3786"
             ],
             [
              0.5555555555555556,
              "#d8576b"
             ],
             [
              0.6666666666666666,
              "#ed7953"
             ],
             [
              0.7777777777777778,
              "#fb9f3a"
             ],
             [
              0.8888888888888888,
              "#fdca26"
             ],
             [
              1,
              "#f0f921"
             ]
            ],
            "type": "contour"
           }
          ],
          "contourcarpet": [
           {
            "colorbar": {
             "outlinewidth": 0,
             "ticks": ""
            },
            "type": "contourcarpet"
           }
          ],
          "heatmap": [
           {
            "colorbar": {
             "outlinewidth": 0,
             "ticks": ""
            },
            "colorscale": [
             [
              0,
              "#0d0887"
             ],
             [
              0.1111111111111111,
              "#46039f"
             ],
             [
              0.2222222222222222,
              "#7201a8"
             ],
             [
              0.3333333333333333,
              "#9c179e"
             ],
             [
              0.4444444444444444,
              "#bd3786"
             ],
             [
              0.5555555555555556,
              "#d8576b"
             ],
             [
              0.6666666666666666,
              "#ed7953"
             ],
             [
              0.7777777777777778,
              "#fb9f3a"
             ],
             [
              0.8888888888888888,
              "#fdca26"
             ],
             [
              1,
              "#f0f921"
             ]
            ],
            "type": "heatmap"
           }
          ],
          "heatmapgl": [
           {
            "colorbar": {
             "outlinewidth": 0,
             "ticks": ""
            },
            "colorscale": [
             [
              0,
              "#0d0887"
             ],
             [
              0.1111111111111111,
              "#46039f"
             ],
             [
              0.2222222222222222,
              "#7201a8"
             ],
             [
              0.3333333333333333,
              "#9c179e"
             ],
             [
              0.4444444444444444,
              "#bd3786"
             ],
             [
              0.5555555555555556,
              "#d8576b"
             ],
             [
              0.6666666666666666,
              "#ed7953"
             ],
             [
              0.7777777777777778,
              "#fb9f3a"
             ],
             [
              0.8888888888888888,
              "#fdca26"
             ],
             [
              1,
              "#f0f921"
             ]
            ],
            "type": "heatmapgl"
           }
          ],
          "histogram": [
           {
            "marker": {
             "pattern": {
              "fillmode": "overlay",
              "size": 10,
              "solidity": 0.2
             }
            },
            "type": "histogram"
           }
          ],
          "histogram2d": [
           {
            "colorbar": {
             "outlinewidth": 0,
             "ticks": ""
            },
            "colorscale": [
             [
              0,
              "#0d0887"
             ],
             [
              0.1111111111111111,
              "#46039f"
             ],
             [
              0.2222222222222222,
              "#7201a8"
             ],
             [
              0.3333333333333333,
              "#9c179e"
             ],
             [
              0.4444444444444444,
              "#bd3786"
             ],
             [
              0.5555555555555556,
              "#d8576b"
             ],
             [
              0.6666666666666666,
              "#ed7953"
             ],
             [
              0.7777777777777778,
              "#fb9f3a"
             ],
             [
              0.8888888888888888,
              "#fdca26"
             ],
             [
              1,
              "#f0f921"
             ]
            ],
            "type": "histogram2d"
           }
          ],
          "histogram2dcontour": [
           {
            "colorbar": {
             "outlinewidth": 0,
             "ticks": ""
            },
            "colorscale": [
             [
              0,
              "#0d0887"
             ],
             [
              0.1111111111111111,
              "#46039f"
             ],
             [
              0.2222222222222222,
              "#7201a8"
             ],
             [
              0.3333333333333333,
              "#9c179e"
             ],
             [
              0.4444444444444444,
              "#bd3786"
             ],
             [
              0.5555555555555556,
              "#d8576b"
             ],
             [
              0.6666666666666666,
              "#ed7953"
             ],
             [
              0.7777777777777778,
              "#fb9f3a"
             ],
             [
              0.8888888888888888,
              "#fdca26"
             ],
             [
              1,
              "#f0f921"
             ]
            ],
            "type": "histogram2dcontour"
           }
          ],
          "mesh3d": [
           {
            "colorbar": {
             "outlinewidth": 0,
             "ticks": ""
            },
            "type": "mesh3d"
           }
          ],
          "parcoords": [
           {
            "line": {
             "colorbar": {
              "outlinewidth": 0,
              "ticks": ""
             }
            },
            "type": "parcoords"
           }
          ],
          "pie": [
           {
            "automargin": true,
            "type": "pie"
           }
          ],
          "scatter": [
           {
            "fillpattern": {
             "fillmode": "overlay",
             "size": 10,
             "solidity": 0.2
            },
            "type": "scatter"
           }
          ],
          "scatter3d": [
           {
            "line": {
             "colorbar": {
              "outlinewidth": 0,
              "ticks": ""
             }
            },
            "marker": {
             "colorbar": {
              "outlinewidth": 0,
              "ticks": ""
             }
            },
            "type": "scatter3d"
           }
          ],
          "scattercarpet": [
           {
            "marker": {
             "colorbar": {
              "outlinewidth": 0,
              "ticks": ""
             }
            },
            "type": "scattercarpet"
           }
          ],
          "scattergeo": [
           {
            "marker": {
             "colorbar": {
              "outlinewidth": 0,
              "ticks": ""
             }
            },
            "type": "scattergeo"
           }
          ],
          "scattergl": [
           {
            "marker": {
             "colorbar": {
              "outlinewidth": 0,
              "ticks": ""
             }
            },
            "type": "scattergl"
           }
          ],
          "scattermapbox": [
           {
            "marker": {
             "colorbar": {
              "outlinewidth": 0,
              "ticks": ""
             }
            },
            "type": "scattermapbox"
           }
          ],
          "scatterpolar": [
           {
            "marker": {
             "colorbar": {
              "outlinewidth": 0,
              "ticks": ""
             }
            },
            "type": "scatterpolar"
           }
          ],
          "scatterpolargl": [
           {
            "marker": {
             "colorbar": {
              "outlinewidth": 0,
              "ticks": ""
             }
            },
            "type": "scatterpolargl"
           }
          ],
          "scatterternary": [
           {
            "marker": {
             "colorbar": {
              "outlinewidth": 0,
              "ticks": ""
             }
            },
            "type": "scatterternary"
           }
          ],
          "surface": [
           {
            "colorbar": {
             "outlinewidth": 0,
             "ticks": ""
            },
            "colorscale": [
             [
              0,
              "#0d0887"
             ],
             [
              0.1111111111111111,
              "#46039f"
             ],
             [
              0.2222222222222222,
              "#7201a8"
             ],
             [
              0.3333333333333333,
              "#9c179e"
             ],
             [
              0.4444444444444444,
              "#bd3786"
             ],
             [
              0.5555555555555556,
              "#d8576b"
             ],
             [
              0.6666666666666666,
              "#ed7953"
             ],
             [
              0.7777777777777778,
              "#fb9f3a"
             ],
             [
              0.8888888888888888,
              "#fdca26"
             ],
             [
              1,
              "#f0f921"
             ]
            ],
            "type": "surface"
           }
          ],
          "table": [
           {
            "cells": {
             "fill": {
              "color": "#EBF0F8"
             },
             "line": {
              "color": "white"
             }
            },
            "header": {
             "fill": {
              "color": "#C8D4E3"
             },
             "line": {
              "color": "white"
             }
            },
            "type": "table"
           }
          ]
         },
         "layout": {
          "annotationdefaults": {
           "arrowcolor": "#2a3f5f",
           "arrowhead": 0,
           "arrowwidth": 1
          },
          "autotypenumbers": "strict",
          "coloraxis": {
           "colorbar": {
            "outlinewidth": 0,
            "ticks": ""
           }
          },
          "colorscale": {
           "diverging": [
            [
             0,
             "#8e0152"
            ],
            [
             0.1,
             "#c51b7d"
            ],
            [
             0.2,
             "#de77ae"
            ],
            [
             0.3,
             "#f1b6da"
            ],
            [
             0.4,
             "#fde0ef"
            ],
            [
             0.5,
             "#f7f7f7"
            ],
            [
             0.6,
             "#e6f5d0"
            ],
            [
             0.7,
             "#b8e186"
            ],
            [
             0.8,
             "#7fbc41"
            ],
            [
             0.9,
             "#4d9221"
            ],
            [
             1,
             "#276419"
            ]
           ],
           "sequential": [
            [
             0,
             "#0d0887"
            ],
            [
             0.1111111111111111,
             "#46039f"
            ],
            [
             0.2222222222222222,
             "#7201a8"
            ],
            [
             0.3333333333333333,
             "#9c179e"
            ],
            [
             0.4444444444444444,
             "#bd3786"
            ],
            [
             0.5555555555555556,
             "#d8576b"
            ],
            [
             0.6666666666666666,
             "#ed7953"
            ],
            [
             0.7777777777777778,
             "#fb9f3a"
            ],
            [
             0.8888888888888888,
             "#fdca26"
            ],
            [
             1,
             "#f0f921"
            ]
           ],
           "sequentialminus": [
            [
             0,
             "#0d0887"
            ],
            [
             0.1111111111111111,
             "#46039f"
            ],
            [
             0.2222222222222222,
             "#7201a8"
            ],
            [
             0.3333333333333333,
             "#9c179e"
            ],
            [
             0.4444444444444444,
             "#bd3786"
            ],
            [
             0.5555555555555556,
             "#d8576b"
            ],
            [
             0.6666666666666666,
             "#ed7953"
            ],
            [
             0.7777777777777778,
             "#fb9f3a"
            ],
            [
             0.8888888888888888,
             "#fdca26"
            ],
            [
             1,
             "#f0f921"
            ]
           ]
          },
          "colorway": [
           "#636efa",
           "#EF553B",
           "#00cc96",
           "#ab63fa",
           "#FFA15A",
           "#19d3f3",
           "#FF6692",
           "#B6E880",
           "#FF97FF",
           "#FECB52"
          ],
          "font": {
           "color": "#2a3f5f"
          },
          "geo": {
           "bgcolor": "white",
           "lakecolor": "white",
           "landcolor": "#E5ECF6",
           "showlakes": true,
           "showland": true,
           "subunitcolor": "white"
          },
          "hoverlabel": {
           "align": "left"
          },
          "hovermode": "closest",
          "mapbox": {
           "style": "light"
          },
          "paper_bgcolor": "white",
          "plot_bgcolor": "#E5ECF6",
          "polar": {
           "angularaxis": {
            "gridcolor": "white",
            "linecolor": "white",
            "ticks": ""
           },
           "bgcolor": "#E5ECF6",
           "radialaxis": {
            "gridcolor": "white",
            "linecolor": "white",
            "ticks": ""
           }
          },
          "scene": {
           "xaxis": {
            "backgroundcolor": "#E5ECF6",
            "gridcolor": "white",
            "gridwidth": 2,
            "linecolor": "white",
            "showbackground": true,
            "ticks": "",
            "zerolinecolor": "white"
           },
           "yaxis": {
            "backgroundcolor": "#E5ECF6",
            "gridcolor": "white",
            "gridwidth": 2,
            "linecolor": "white",
            "showbackground": true,
            "ticks": "",
            "zerolinecolor": "white"
           },
           "zaxis": {
            "backgroundcolor": "#E5ECF6",
            "gridcolor": "white",
            "gridwidth": 2,
            "linecolor": "white",
            "showbackground": true,
            "ticks": "",
            "zerolinecolor": "white"
           }
          },
          "shapedefaults": {
           "line": {
            "color": "#2a3f5f"
           }
          },
          "ternary": {
           "aaxis": {
            "gridcolor": "white",
            "linecolor": "white",
            "ticks": ""
           },
           "baxis": {
            "gridcolor": "white",
            "linecolor": "white",
            "ticks": ""
           },
           "bgcolor": "#E5ECF6",
           "caxis": {
            "gridcolor": "white",
            "linecolor": "white",
            "ticks": ""
           }
          },
          "title": {
           "x": 0.05
          },
          "xaxis": {
           "automargin": true,
           "gridcolor": "white",
           "linecolor": "white",
           "ticks": "",
           "title": {
            "standoff": 15
           },
           "zerolinecolor": "white",
           "zerolinewidth": 2
          },
          "yaxis": {
           "automargin": true,
           "gridcolor": "white",
           "linecolor": "white",
           "ticks": "",
           "title": {
            "standoff": 15
           },
           "zerolinecolor": "white",
           "zerolinewidth": 2
          }
         }
        },
        "title": {
         "text": "Average Visits per Month & Mean Hours at Berth"
        },
        "width": 800
       }
      }
     },
     "metadata": {},
     "output_type": "display_data"
    }
   ],
   "source": [
    "seattle_df = dockstats_df[dockstats_df.port_name == 'Seattle, WA']\n",
    "\n",
    "# seattle mapbox\n",
    "fig_seattle = px.scatter_mapbox(\n",
    "    seattle_df,\n",
    "    lon='dock_lon',\n",
    "    lat='dock_lat',\n",
    "    size='visits_avg',\n",
    "    color='time_at_berth_median',\n",
    "    range_color=[0, 50],\n",
    "    hover_name='dock_id',\n",
    "    size_max=20,\n",
    "    title='Average Visits per Month & Mean Hours at Berth',\n",
    "    color_continuous_scale=px.colors.sequential.Viridis,\n",
    "    labels={'time_at_berth_median': 'Median Hours at Berth'},\n",
    "    height=500, width=800\n",
    ")\n",
    "\n",
    "# Set Mapbox style\n",
    "fig_seattle.update_layout(\n",
    "    mapbox_style=\"carto-positron\", \n",
    "    mapbox_zoom=10.5, \n",
    "    mapbox_center={\"lat\": seattle_df['dock_lat'].mean(), \n",
    "                   \"lon\": seattle_df['dock_lon'].mean()},\n",
    ")\n",
    "\n",
    "# Add footnote using add_annotation\n",
    "fig_seattle.add_annotation(\n",
    "    text=\"Note: Circle size corresponds to average vessel visits per month since 2018\",\n",
    "    xref=\"paper\", yref=\"paper\",\n",
    "    x=0, y=-0.05,\n",
    "    showarrow=False,\n",
    "    font=dict(size=14, color=\"black\"),\n",
    "    align=\"left\"\n",
    ")\n",
    "\n",
    "fig_seattle.show()"
   ]
  },
  {
   "cell_type": "code",
   "execution_count": 9,
   "metadata": {},
   "outputs": [
    {
     "data": {
      "application/vnd.plotly.v1+json": {
       "config": {
        "plotlyServerURL": "https://plot.ly"
       },
       "data": [
        {
         "hovertemplate": "<b>%{hovertext}</b><br><br>visits_avg=%{marker.size}<br>dock_lat=%{lat}<br>dock_lon=%{lon}<br>Median Hours at Berth=%{marker.color}<extra></extra>",
         "hovertext": [
          "0Z63",
          "0UFJ",
          "01CX",
          "0UGZ",
          "0UGH",
          "0UF1",
          "0T7U",
          "0UH0",
          "0ZF3",
          "0T5L",
          "0YLX",
          "0YVY",
          "0UFK",
          "0TG1",
          "0T7T",
          "0UT9",
          "nan",
          "0R9U",
          "0UGC",
          "0UFM",
          "0YZL",
          "0UFH",
          "0UFL"
         ],
         "lat": [
          47.26250000000002,
          47.259722000000096,
          47.277566000000064,
          47.26777800000007,
          47.25833300000004,
          47.276667000000046,
          47.27638900000006,
          47.269444000000064,
          47.26805600000005,
          47.26638900000007,
          47.280556000000054,
          47.27444400000006,
          47.256944000000004,
          47.280556000000054,
          47.27250000000007,
          47.26638900000007,
          null,
          47.27639000000003,
          47.26861100000011,
          47.26194400000006,
          47.267500000000034,
          47.271111000000076,
          47.25388900000006
         ],
         "legendgroup": "",
         "lon": [
          -122.38971999999973,
          -122.38443999999961,
          -122.43066599999955,
          -122.41388000000005,
          -122.43416000000013,
          -122.38611000000029,
          -122.41276999999985,
          -122.41611000000032,
          -122.36887999999999,
          -122.39722000000017,
          -122.41361000000015,
          -122.40499999999953,
          -122.38333000000034,
          -122.40304999999996,
          -122.40582999999992,
          -122.44304999999966,
          null,
          -122.41277999999978,
          -122.3958300000002,
          -122.38472000000031,
          -122.41611000000032,
          -122.41832999999976,
          -122.37833000000003
         ],
         "marker": {
          "color": [
           49.3,
           15.216666666666667,
           49.06666666666666,
           25.53333333333333,
           2.683333333333333,
           47.95,
           60.81666666666666,
           21.366666666666667,
           125.35833333333333,
           65.88333333333333,
           802.1666666666666,
           9.7,
           15.933333333333334,
           0.43333333333333335,
           72.03333333333333,
           78.7,
           178.13333333333333,
           74.80833333333334,
           23.266666666666666,
           16,
           23.866666666666667,
           20.616666666666667,
           39.666666666666664
          ],
          "coloraxis": "coloraxis",
          "size": [
           16.36519607843137,
           14.08626410086264,
           1,
           3.331034482758621,
           3,
           1.6008771929824561,
           7.795061728395062,
           7.70353982300885,
           2.5907859078590785,
           2.0728744939271255,
           1.75,
           11.840645161290322,
           8.366982124079916,
           1,
           10.012429378531074,
           13.365340909090909,
           2.36,
           1.434782608695652,
           1.708994708994709,
           11.319281811085089,
           10.672926447574335,
           11.948257655755016,
           6.647163120567376
          ],
          "sizemode": "area",
          "sizeref": 0.04091299019607843
         },
         "mode": "markers",
         "name": "",
         "showlegend": false,
         "subplot": "mapbox",
         "type": "scattermapbox"
        }
       ],
       "layout": {
        "annotations": [
         {
          "align": "left",
          "font": {
           "color": "black",
           "size": 14
          },
          "showarrow": false,
          "text": "Note: Circle size corresponds to average vessel visits per month since 2018",
          "x": 0,
          "xref": "paper",
          "y": -0.05,
          "yref": "paper"
         }
        ],
        "coloraxis": {
         "cmax": 50,
         "cmin": 0,
         "colorbar": {
          "title": {
           "text": "Median Hours at Berth"
          }
         },
         "colorscale": [
          [
           0,
           "#440154"
          ],
          [
           0.1111111111111111,
           "#482878"
          ],
          [
           0.2222222222222222,
           "#3e4989"
          ],
          [
           0.3333333333333333,
           "#31688e"
          ],
          [
           0.4444444444444444,
           "#26828e"
          ],
          [
           0.5555555555555556,
           "#1f9e89"
          ],
          [
           0.6666666666666666,
           "#35b779"
          ],
          [
           0.7777777777777778,
           "#6ece58"
          ],
          [
           0.8888888888888888,
           "#b5de2b"
          ],
          [
           1,
           "#fde725"
          ]
         ]
        },
        "height": 500,
        "legend": {
         "itemsizing": "constant",
         "tracegroupgap": 0
        },
        "mapbox": {
         "center": {
          "lat": 47.2688035454546,
          "lon": -122.40426936363635
         },
         "domain": {
          "x": [
           0,
           1
          ],
          "y": [
           0,
           1
          ]
         },
         "style": "carto-positron",
         "zoom": 11
        },
        "template": {
         "data": {
          "bar": [
           {
            "error_x": {
             "color": "#2a3f5f"
            },
            "error_y": {
             "color": "#2a3f5f"
            },
            "marker": {
             "line": {
              "color": "#E5ECF6",
              "width": 0.5
             },
             "pattern": {
              "fillmode": "overlay",
              "size": 10,
              "solidity": 0.2
             }
            },
            "type": "bar"
           }
          ],
          "barpolar": [
           {
            "marker": {
             "line": {
              "color": "#E5ECF6",
              "width": 0.5
             },
             "pattern": {
              "fillmode": "overlay",
              "size": 10,
              "solidity": 0.2
             }
            },
            "type": "barpolar"
           }
          ],
          "carpet": [
           {
            "aaxis": {
             "endlinecolor": "#2a3f5f",
             "gridcolor": "white",
             "linecolor": "white",
             "minorgridcolor": "white",
             "startlinecolor": "#2a3f5f"
            },
            "baxis": {
             "endlinecolor": "#2a3f5f",
             "gridcolor": "white",
             "linecolor": "white",
             "minorgridcolor": "white",
             "startlinecolor": "#2a3f5f"
            },
            "type": "carpet"
           }
          ],
          "choropleth": [
           {
            "colorbar": {
             "outlinewidth": 0,
             "ticks": ""
            },
            "type": "choropleth"
           }
          ],
          "contour": [
           {
            "colorbar": {
             "outlinewidth": 0,
             "ticks": ""
            },
            "colorscale": [
             [
              0,
              "#0d0887"
             ],
             [
              0.1111111111111111,
              "#46039f"
             ],
             [
              0.2222222222222222,
              "#7201a8"
             ],
             [
              0.3333333333333333,
              "#9c179e"
             ],
             [
              0.4444444444444444,
              "#bd3786"
             ],
             [
              0.5555555555555556,
              "#d8576b"
             ],
             [
              0.6666666666666666,
              "#ed7953"
             ],
             [
              0.7777777777777778,
              "#fb9f3a"
             ],
             [
              0.8888888888888888,
              "#fdca26"
             ],
             [
              1,
              "#f0f921"
             ]
            ],
            "type": "contour"
           }
          ],
          "contourcarpet": [
           {
            "colorbar": {
             "outlinewidth": 0,
             "ticks": ""
            },
            "type": "contourcarpet"
           }
          ],
          "heatmap": [
           {
            "colorbar": {
             "outlinewidth": 0,
             "ticks": ""
            },
            "colorscale": [
             [
              0,
              "#0d0887"
             ],
             [
              0.1111111111111111,
              "#46039f"
             ],
             [
              0.2222222222222222,
              "#7201a8"
             ],
             [
              0.3333333333333333,
              "#9c179e"
             ],
             [
              0.4444444444444444,
              "#bd3786"
             ],
             [
              0.5555555555555556,
              "#d8576b"
             ],
             [
              0.6666666666666666,
              "#ed7953"
             ],
             [
              0.7777777777777778,
              "#fb9f3a"
             ],
             [
              0.8888888888888888,
              "#fdca26"
             ],
             [
              1,
              "#f0f921"
             ]
            ],
            "type": "heatmap"
           }
          ],
          "heatmapgl": [
           {
            "colorbar": {
             "outlinewidth": 0,
             "ticks": ""
            },
            "colorscale": [
             [
              0,
              "#0d0887"
             ],
             [
              0.1111111111111111,
              "#46039f"
             ],
             [
              0.2222222222222222,
              "#7201a8"
             ],
             [
              0.3333333333333333,
              "#9c179e"
             ],
             [
              0.4444444444444444,
              "#bd3786"
             ],
             [
              0.5555555555555556,
              "#d8576b"
             ],
             [
              0.6666666666666666,
              "#ed7953"
             ],
             [
              0.7777777777777778,
              "#fb9f3a"
             ],
             [
              0.8888888888888888,
              "#fdca26"
             ],
             [
              1,
              "#f0f921"
             ]
            ],
            "type": "heatmapgl"
           }
          ],
          "histogram": [
           {
            "marker": {
             "pattern": {
              "fillmode": "overlay",
              "size": 10,
              "solidity": 0.2
             }
            },
            "type": "histogram"
           }
          ],
          "histogram2d": [
           {
            "colorbar": {
             "outlinewidth": 0,
             "ticks": ""
            },
            "colorscale": [
             [
              0,
              "#0d0887"
             ],
             [
              0.1111111111111111,
              "#46039f"
             ],
             [
              0.2222222222222222,
              "#7201a8"
             ],
             [
              0.3333333333333333,
              "#9c179e"
             ],
             [
              0.4444444444444444,
              "#bd3786"
             ],
             [
              0.5555555555555556,
              "#d8576b"
             ],
             [
              0.6666666666666666,
              "#ed7953"
             ],
             [
              0.7777777777777778,
              "#fb9f3a"
             ],
             [
              0.8888888888888888,
              "#fdca26"
             ],
             [
              1,
              "#f0f921"
             ]
            ],
            "type": "histogram2d"
           }
          ],
          "histogram2dcontour": [
           {
            "colorbar": {
             "outlinewidth": 0,
             "ticks": ""
            },
            "colorscale": [
             [
              0,
              "#0d0887"
             ],
             [
              0.1111111111111111,
              "#46039f"
             ],
             [
              0.2222222222222222,
              "#7201a8"
             ],
             [
              0.3333333333333333,
              "#9c179e"
             ],
             [
              0.4444444444444444,
              "#bd3786"
             ],
             [
              0.5555555555555556,
              "#d8576b"
             ],
             [
              0.6666666666666666,
              "#ed7953"
             ],
             [
              0.7777777777777778,
              "#fb9f3a"
             ],
             [
              0.8888888888888888,
              "#fdca26"
             ],
             [
              1,
              "#f0f921"
             ]
            ],
            "type": "histogram2dcontour"
           }
          ],
          "mesh3d": [
           {
            "colorbar": {
             "outlinewidth": 0,
             "ticks": ""
            },
            "type": "mesh3d"
           }
          ],
          "parcoords": [
           {
            "line": {
             "colorbar": {
              "outlinewidth": 0,
              "ticks": ""
             }
            },
            "type": "parcoords"
           }
          ],
          "pie": [
           {
            "automargin": true,
            "type": "pie"
           }
          ],
          "scatter": [
           {
            "fillpattern": {
             "fillmode": "overlay",
             "size": 10,
             "solidity": 0.2
            },
            "type": "scatter"
           }
          ],
          "scatter3d": [
           {
            "line": {
             "colorbar": {
              "outlinewidth": 0,
              "ticks": ""
             }
            },
            "marker": {
             "colorbar": {
              "outlinewidth": 0,
              "ticks": ""
             }
            },
            "type": "scatter3d"
           }
          ],
          "scattercarpet": [
           {
            "marker": {
             "colorbar": {
              "outlinewidth": 0,
              "ticks": ""
             }
            },
            "type": "scattercarpet"
           }
          ],
          "scattergeo": [
           {
            "marker": {
             "colorbar": {
              "outlinewidth": 0,
              "ticks": ""
             }
            },
            "type": "scattergeo"
           }
          ],
          "scattergl": [
           {
            "marker": {
             "colorbar": {
              "outlinewidth": 0,
              "ticks": ""
             }
            },
            "type": "scattergl"
           }
          ],
          "scattermapbox": [
           {
            "marker": {
             "colorbar": {
              "outlinewidth": 0,
              "ticks": ""
             }
            },
            "type": "scattermapbox"
           }
          ],
          "scatterpolar": [
           {
            "marker": {
             "colorbar": {
              "outlinewidth": 0,
              "ticks": ""
             }
            },
            "type": "scatterpolar"
           }
          ],
          "scatterpolargl": [
           {
            "marker": {
             "colorbar": {
              "outlinewidth": 0,
              "ticks": ""
             }
            },
            "type": "scatterpolargl"
           }
          ],
          "scatterternary": [
           {
            "marker": {
             "colorbar": {
              "outlinewidth": 0,
              "ticks": ""
             }
            },
            "type": "scatterternary"
           }
          ],
          "surface": [
           {
            "colorbar": {
             "outlinewidth": 0,
             "ticks": ""
            },
            "colorscale": [
             [
              0,
              "#0d0887"
             ],
             [
              0.1111111111111111,
              "#46039f"
             ],
             [
              0.2222222222222222,
              "#7201a8"
             ],
             [
              0.3333333333333333,
              "#9c179e"
             ],
             [
              0.4444444444444444,
              "#bd3786"
             ],
             [
              0.5555555555555556,
              "#d8576b"
             ],
             [
              0.6666666666666666,
              "#ed7953"
             ],
             [
              0.7777777777777778,
              "#fb9f3a"
             ],
             [
              0.8888888888888888,
              "#fdca26"
             ],
             [
              1,
              "#f0f921"
             ]
            ],
            "type": "surface"
           }
          ],
          "table": [
           {
            "cells": {
             "fill": {
              "color": "#EBF0F8"
             },
             "line": {
              "color": "white"
             }
            },
            "header": {
             "fill": {
              "color": "#C8D4E3"
             },
             "line": {
              "color": "white"
             }
            },
            "type": "table"
           }
          ]
         },
         "layout": {
          "annotationdefaults": {
           "arrowcolor": "#2a3f5f",
           "arrowhead": 0,
           "arrowwidth": 1
          },
          "autotypenumbers": "strict",
          "coloraxis": {
           "colorbar": {
            "outlinewidth": 0,
            "ticks": ""
           }
          },
          "colorscale": {
           "diverging": [
            [
             0,
             "#8e0152"
            ],
            [
             0.1,
             "#c51b7d"
            ],
            [
             0.2,
             "#de77ae"
            ],
            [
             0.3,
             "#f1b6da"
            ],
            [
             0.4,
             "#fde0ef"
            ],
            [
             0.5,
             "#f7f7f7"
            ],
            [
             0.6,
             "#e6f5d0"
            ],
            [
             0.7,
             "#b8e186"
            ],
            [
             0.8,
             "#7fbc41"
            ],
            [
             0.9,
             "#4d9221"
            ],
            [
             1,
             "#276419"
            ]
           ],
           "sequential": [
            [
             0,
             "#0d0887"
            ],
            [
             0.1111111111111111,
             "#46039f"
            ],
            [
             0.2222222222222222,
             "#7201a8"
            ],
            [
             0.3333333333333333,
             "#9c179e"
            ],
            [
             0.4444444444444444,
             "#bd3786"
            ],
            [
             0.5555555555555556,
             "#d8576b"
            ],
            [
             0.6666666666666666,
             "#ed7953"
            ],
            [
             0.7777777777777778,
             "#fb9f3a"
            ],
            [
             0.8888888888888888,
             "#fdca26"
            ],
            [
             1,
             "#f0f921"
            ]
           ],
           "sequentialminus": [
            [
             0,
             "#0d0887"
            ],
            [
             0.1111111111111111,
             "#46039f"
            ],
            [
             0.2222222222222222,
             "#7201a8"
            ],
            [
             0.3333333333333333,
             "#9c179e"
            ],
            [
             0.4444444444444444,
             "#bd3786"
            ],
            [
             0.5555555555555556,
             "#d8576b"
            ],
            [
             0.6666666666666666,
             "#ed7953"
            ],
            [
             0.7777777777777778,
             "#fb9f3a"
            ],
            [
             0.8888888888888888,
             "#fdca26"
            ],
            [
             1,
             "#f0f921"
            ]
           ]
          },
          "colorway": [
           "#636efa",
           "#EF553B",
           "#00cc96",
           "#ab63fa",
           "#FFA15A",
           "#19d3f3",
           "#FF6692",
           "#B6E880",
           "#FF97FF",
           "#FECB52"
          ],
          "font": {
           "color": "#2a3f5f"
          },
          "geo": {
           "bgcolor": "white",
           "lakecolor": "white",
           "landcolor": "#E5ECF6",
           "showlakes": true,
           "showland": true,
           "subunitcolor": "white"
          },
          "hoverlabel": {
           "align": "left"
          },
          "hovermode": "closest",
          "mapbox": {
           "style": "light"
          },
          "paper_bgcolor": "white",
          "plot_bgcolor": "#E5ECF6",
          "polar": {
           "angularaxis": {
            "gridcolor": "white",
            "linecolor": "white",
            "ticks": ""
           },
           "bgcolor": "#E5ECF6",
           "radialaxis": {
            "gridcolor": "white",
            "linecolor": "white",
            "ticks": ""
           }
          },
          "scene": {
           "xaxis": {
            "backgroundcolor": "#E5ECF6",
            "gridcolor": "white",
            "gridwidth": 2,
            "linecolor": "white",
            "showbackground": true,
            "ticks": "",
            "zerolinecolor": "white"
           },
           "yaxis": {
            "backgroundcolor": "#E5ECF6",
            "gridcolor": "white",
            "gridwidth": 2,
            "linecolor": "white",
            "showbackground": true,
            "ticks": "",
            "zerolinecolor": "white"
           },
           "zaxis": {
            "backgroundcolor": "#E5ECF6",
            "gridcolor": "white",
            "gridwidth": 2,
            "linecolor": "white",
            "showbackground": true,
            "ticks": "",
            "zerolinecolor": "white"
           }
          },
          "shapedefaults": {
           "line": {
            "color": "#2a3f5f"
           }
          },
          "ternary": {
           "aaxis": {
            "gridcolor": "white",
            "linecolor": "white",
            "ticks": ""
           },
           "baxis": {
            "gridcolor": "white",
            "linecolor": "white",
            "ticks": ""
           },
           "bgcolor": "#E5ECF6",
           "caxis": {
            "gridcolor": "white",
            "linecolor": "white",
            "ticks": ""
           }
          },
          "title": {
           "x": 0.05
          },
          "xaxis": {
           "automargin": true,
           "gridcolor": "white",
           "linecolor": "white",
           "ticks": "",
           "title": {
            "standoff": 15
           },
           "zerolinecolor": "white",
           "zerolinewidth": 2
          },
          "yaxis": {
           "automargin": true,
           "gridcolor": "white",
           "linecolor": "white",
           "ticks": "",
           "title": {
            "standoff": 15
           },
           "zerolinecolor": "white",
           "zerolinewidth": 2
          }
         }
        },
        "title": {
         "text": "Average Visits per Month & Mean Hours at Berth"
        },
        "width": 800
       }
      }
     },
     "metadata": {},
     "output_type": "display_data"
    }
   ],
   "source": [
    "tacoma_df = dockstats_df[dockstats_df.port_name == 'Tacoma, WA']\n",
    "\n",
    "# Example: Mapbox version of your scatter_geo map\n",
    "fig_seattle = px.scatter_mapbox(\n",
    "    tacoma_df,\n",
    "    lon='dock_lon',\n",
    "    lat='dock_lat',\n",
    "    size='visits_avg',\n",
    "    color='time_at_berth_median',\n",
    "    range_color=[0, 50],\n",
    "    hover_name='dock_id',\n",
    "    size_max=20,\n",
    "    title='Average Visits per Month & Mean Hours at Berth',\n",
    "    color_continuous_scale=px.colors.sequential.Viridis,\n",
    "    labels={'time_at_berth_median': 'Median Hours at Berth'},\n",
    "    height=500, width=800\n",
    ")\n",
    "\n",
    "# Set Mapbox style\n",
    "fig_seattle.update_layout(\n",
    "    mapbox_style=\"carto-positron\", \n",
    "    mapbox_zoom=11, \n",
    "    mapbox_center={\"lat\": tacoma_df['dock_lat'].mean(), \n",
    "                   \"lon\": tacoma_df['dock_lon'].mean()},\n",
    ")\n",
    "\n",
    "# Add footnote using add_annotation\n",
    "fig_seattle.add_annotation(\n",
    "    text=\"Note: Circle size corresponds to average vessel visits per month since 2018\",\n",
    "    xref=\"paper\", yref=\"paper\",\n",
    "    x=0, y=-0.05,\n",
    "    showarrow=False,\n",
    "    font=dict(size=14, color=\"black\"),\n",
    "    align=\"left\"\n",
    ")\n",
    "\n",
    "fig_seattle.show()"
   ]
  },
  {
   "cell_type": "code",
   "execution_count": 10,
   "metadata": {},
   "outputs": [
    {
     "data": {
      "application/vnd.plotly.v1+json": {
       "config": {
        "plotlyServerURL": "https://plot.ly"
       },
       "data": [
        {
         "hovertemplate": "<b>%{hovertext}</b><br><br>visits_avg=%{marker.size}<br>dock_lat=%{lat}<br>dock_lon=%{lon}<br>Mean Hours at Anchor=%{marker.color}<extra></extra>",
         "hovertext": [
          "0TD0",
          "0ZPT",
          "0Z63",
          "0UFJ",
          "01CX",
          "016R",
          "0UNV",
          "0UMV",
          "0UGZ",
          "0THA",
          "0UGH",
          "016L",
          "0UF1",
          "0ZPU",
          "016S",
          "0UNT",
          "0T7U",
          "0UPD",
          "0T1T",
          "0UMW",
          "0170",
          "0T6H",
          "0UH0",
          "0ZF3",
          "0T5L",
          "0UN9",
          "0YLX",
          "0UEJ",
          "0T1S",
          "0YVY",
          "0UFK",
          "016F",
          "0ZQD",
          "0UNU",
          "0TG1",
          "0T7T",
          "0UT9",
          "nan",
          "0R9U",
          "0R54",
          "0UGC",
          "0UMS",
          "0R5T",
          "0UN8",
          "0UNA",
          "0UFM",
          "016P",
          "0YZL",
          "0UPK",
          "0UP1",
          "0UFH",
          "nan",
          "0UFL",
          "0TJG",
          "0T1U",
          "0UPC"
         ],
         "lat": [
          47.58916700000002,
          47.55222200000004,
          47.26250000000002,
          47.259722000000096,
          47.277566000000064,
          47.59927000000006,
          47.58944400000007,
          47.623333000000066,
          47.26777800000007,
          47.584444000000076,
          47.25833300000004,
          47.574757000000055,
          47.276667000000046,
          47.54833300000005,
          47.59370500000003,
          47.57555600000006,
          47.27638900000006,
          47.59666700000011,
          47.56277800000002,
          47.626389000000046,
          47.583046000000095,
          47.55388900000005,
          47.269444000000064,
          47.26805600000005,
          47.26638900000007,
          47.58355700000003,
          47.280556000000054,
          47.57694400000004,
          47.555278000000065,
          47.27444400000006,
          47.256944000000004,
          47.625111000000054,
          47.573056000000044,
          47.58294300000004,
          47.280556000000054,
          47.27250000000007,
          47.26638900000007,
          null,
          47.27639000000003,
          47.57957300000006,
          47.26861100000011,
          47.5825,
          47.58703100000008,
          47.59000000000004,
          47.57611099999999,
          47.26194400000006,
          47.587536000000064,
          47.267500000000034,
          47.54888900000003,
          47.57388900000004,
          47.271111000000076,
          null,
          47.25388900000006,
          47.58777800000005,
          47.565000000000026,
          47.59222200000002
         ],
         "legendgroup": "",
         "lon": [
          -122.35665999999995,
          -122.34250000000027,
          -122.38971999999973,
          -122.38443999999961,
          -122.43066599999955,
          -122.35740000000007,
          -122.34304999999992,
          -122.3700000000001,
          -122.41388000000005,
          -122.35832999999973,
          -122.43416000000013,
          -122.34607699999965,
          -122.38611000000029,
          -122.3400000000001,
          -122.3525560000001,
          -122.34304999999992,
          -122.41276999999985,
          -122.34111000000027,
          -122.34860999999982,
          -122.37999999999981,
          -122.36105000000013,
          -122.34304999999992,
          -122.41611000000032,
          -122.36887999999999,
          -122.39722000000017,
          -122.34612900000035,
          -122.41361000000015,
          -122.36137999999956,
          -122.34500000000041,
          -122.40499999999953,
          -122.38333000000034,
          -122.37067699999952,
          -122.3438800000003,
          -122.34292999999988,
          -122.40304999999996,
          -122.40582999999992,
          -122.44304999999966,
          null,
          -122.41277999999978,
          -122.3416989999996,
          -122.3958300000002,
          -122.35832999999973,
          -122.356476,
          -122.34972,
          -122.34582999999986,
          -122.38472000000031,
          -122.34255300000014,
          -122.41611000000032,
          -122.34026999999998,
          -122.3588800000003,
          -122.41832999999976,
          null,
          -122.37833000000003,
          -122.35137999999984,
          -122.3488799999997,
          -122.34250000000027
         ],
         "marker": {
          "color": [
           0,
           0,
           9.372331154684096,
           26.589084273390842,
           0,
           0,
           12.552511415525114,
           237.71998892580288,
           22.251954022988507,
           0,
           0,
           6.55,
           41.983333333333334,
           246.92084493964717,
           50.583333333333336,
           0,
           12.974691358024693,
           36.20662100456621,
           3.321951219512195,
           389.4635416666667,
           15.346992481203008,
           39.867748397435896,
           3.76773598820059,
           65.82113821138212,
           16.631983805668018,
           31.55569887034227,
           0,
           11.74849648112604,
           94.75952380952381,
           3.8559032258064514,
           19.109971959341046,
           302.96861883845776,
           34.5,
           10.253852425601305,
           0,
           21.69574387947269,
           207.9619696969697,
           47.147333333333336,
           4.672463768115942,
           35.41242472546936,
           15.261287477954145,
           12.826190476190476,
           34.9125,
           15.914285714285715,
           5.210357815442562,
           22.430366900858704,
           42.422734026745914,
           0.2738523735002608,
           155.5111111111111,
           0,
           7.204945441745864,
           21.07063492063492,
           3.923404255319149,
           26.366666666666667,
           6.62,
           13.178989898989899
          ],
          "coloraxis": "coloraxis",
          "size": [
           1,
           1,
           16.36519607843137,
           14.08626410086264,
           1,
           1,
           1.4931506849315068,
           7.3997785160575855,
           3.331034482758621,
           1,
           3,
           1.3125,
           1.6008771929824561,
           3.350974930362117,
           1,
           1,
           7.795061728395062,
           4.041095890410959,
           1.146341463414634,
           1.25,
           4.567669172932331,
           3.389423076923077,
           7.70353982300885,
           2.5907859078590785,
           2.0728744939271255,
           17.471927162367223,
           1.75,
           6.333973128598848,
           1,
           11.840645161290322,
           8.366982124079916,
           7.181551976573939,
           1,
           25.371381981247453,
           1,
           10.012429378531074,
           13.365340909090909,
           2.36,
           1.434782608695652,
           17.490435706695006,
           1.708994708994709,
           1.0714285714285714,
           1,
           1,
           18.69774011299435,
           11.319281811085089,
           10.448736998514116,
           10.672926447574335,
           1,
           1,
           11.948257655755016,
           3.2857142857142856,
           6.647163120567376,
           1,
           1,
           4.8121212121212125
          ],
          "sizemode": "area",
          "sizeref": 0.06342845495311863
         },
         "mode": "markers",
         "name": "",
         "showlegend": false,
         "subplot": "mapbox",
         "type": "scattermapbox"
        }
       ],
       "layout": {
        "annotations": [
         {
          "align": "left",
          "font": {
           "color": "black",
           "size": 14
          },
          "showarrow": false,
          "text": "Note: Circle size corresponds to average vessel visits per month",
          "x": 0,
          "xref": "paper",
          "y": -0.05,
          "yref": "paper"
         }
        ],
        "coloraxis": {
         "cmax": 50,
         "cmin": 0,
         "colorbar": {
          "title": {
           "text": "Mean Hours at Anchor"
          }
         },
         "colorscale": [
          [
           0,
           "#440154"
          ],
          [
           0.1111111111111111,
           "#482878"
          ],
          [
           0.2222222222222222,
           "#3e4989"
          ],
          [
           0.3333333333333333,
           "#31688e"
          ],
          [
           0.4444444444444444,
           "#26828e"
          ],
          [
           0.5555555555555556,
           "#1f9e89"
          ],
          [
           0.6666666666666666,
           "#35b779"
          ],
          [
           0.7777777777777778,
           "#6ece58"
          ],
          [
           0.8888888888888888,
           "#b5de2b"
          ],
          [
           1,
           "#fde725"
          ]
         ]
        },
        "height": 1000,
        "legend": {
         "itemsizing": "constant",
         "tracegroupgap": 0
        },
        "mapbox": {
         "center": {
          "lat": 47.45433511111117,
          "lon": -122.37266449999997
         },
         "domain": {
          "x": [
           0,
           1
          ],
          "y": [
           0,
           1
          ]
         },
         "style": "carto-positron",
         "zoom": 9.5
        },
        "template": {
         "data": {
          "bar": [
           {
            "error_x": {
             "color": "#2a3f5f"
            },
            "error_y": {
             "color": "#2a3f5f"
            },
            "marker": {
             "line": {
              "color": "#E5ECF6",
              "width": 0.5
             },
             "pattern": {
              "fillmode": "overlay",
              "size": 10,
              "solidity": 0.2
             }
            },
            "type": "bar"
           }
          ],
          "barpolar": [
           {
            "marker": {
             "line": {
              "color": "#E5ECF6",
              "width": 0.5
             },
             "pattern": {
              "fillmode": "overlay",
              "size": 10,
              "solidity": 0.2
             }
            },
            "type": "barpolar"
           }
          ],
          "carpet": [
           {
            "aaxis": {
             "endlinecolor": "#2a3f5f",
             "gridcolor": "white",
             "linecolor": "white",
             "minorgridcolor": "white",
             "startlinecolor": "#2a3f5f"
            },
            "baxis": {
             "endlinecolor": "#2a3f5f",
             "gridcolor": "white",
             "linecolor": "white",
             "minorgridcolor": "white",
             "startlinecolor": "#2a3f5f"
            },
            "type": "carpet"
           }
          ],
          "choropleth": [
           {
            "colorbar": {
             "outlinewidth": 0,
             "ticks": ""
            },
            "type": "choropleth"
           }
          ],
          "contour": [
           {
            "colorbar": {
             "outlinewidth": 0,
             "ticks": ""
            },
            "colorscale": [
             [
              0,
              "#0d0887"
             ],
             [
              0.1111111111111111,
              "#46039f"
             ],
             [
              0.2222222222222222,
              "#7201a8"
             ],
             [
              0.3333333333333333,
              "#9c179e"
             ],
             [
              0.4444444444444444,
              "#bd3786"
             ],
             [
              0.5555555555555556,
              "#d8576b"
             ],
             [
              0.6666666666666666,
              "#ed7953"
             ],
             [
              0.7777777777777778,
              "#fb9f3a"
             ],
             [
              0.8888888888888888,
              "#fdca26"
             ],
             [
              1,
              "#f0f921"
             ]
            ],
            "type": "contour"
           }
          ],
          "contourcarpet": [
           {
            "colorbar": {
             "outlinewidth": 0,
             "ticks": ""
            },
            "type": "contourcarpet"
           }
          ],
          "heatmap": [
           {
            "colorbar": {
             "outlinewidth": 0,
             "ticks": ""
            },
            "colorscale": [
             [
              0,
              "#0d0887"
             ],
             [
              0.1111111111111111,
              "#46039f"
             ],
             [
              0.2222222222222222,
              "#7201a8"
             ],
             [
              0.3333333333333333,
              "#9c179e"
             ],
             [
              0.4444444444444444,
              "#bd3786"
             ],
             [
              0.5555555555555556,
              "#d8576b"
             ],
             [
              0.6666666666666666,
              "#ed7953"
             ],
             [
              0.7777777777777778,
              "#fb9f3a"
             ],
             [
              0.8888888888888888,
              "#fdca26"
             ],
             [
              1,
              "#f0f921"
             ]
            ],
            "type": "heatmap"
           }
          ],
          "heatmapgl": [
           {
            "colorbar": {
             "outlinewidth": 0,
             "ticks": ""
            },
            "colorscale": [
             [
              0,
              "#0d0887"
             ],
             [
              0.1111111111111111,
              "#46039f"
             ],
             [
              0.2222222222222222,
              "#7201a8"
             ],
             [
              0.3333333333333333,
              "#9c179e"
             ],
             [
              0.4444444444444444,
              "#bd3786"
             ],
             [
              0.5555555555555556,
              "#d8576b"
             ],
             [
              0.6666666666666666,
              "#ed7953"
             ],
             [
              0.7777777777777778,
              "#fb9f3a"
             ],
             [
              0.8888888888888888,
              "#fdca26"
             ],
             [
              1,
              "#f0f921"
             ]
            ],
            "type": "heatmapgl"
           }
          ],
          "histogram": [
           {
            "marker": {
             "pattern": {
              "fillmode": "overlay",
              "size": 10,
              "solidity": 0.2
             }
            },
            "type": "histogram"
           }
          ],
          "histogram2d": [
           {
            "colorbar": {
             "outlinewidth": 0,
             "ticks": ""
            },
            "colorscale": [
             [
              0,
              "#0d0887"
             ],
             [
              0.1111111111111111,
              "#46039f"
             ],
             [
              0.2222222222222222,
              "#7201a8"
             ],
             [
              0.3333333333333333,
              "#9c179e"
             ],
             [
              0.4444444444444444,
              "#bd3786"
             ],
             [
              0.5555555555555556,
              "#d8576b"
             ],
             [
              0.6666666666666666,
              "#ed7953"
             ],
             [
              0.7777777777777778,
              "#fb9f3a"
             ],
             [
              0.8888888888888888,
              "#fdca26"
             ],
             [
              1,
              "#f0f921"
             ]
            ],
            "type": "histogram2d"
           }
          ],
          "histogram2dcontour": [
           {
            "colorbar": {
             "outlinewidth": 0,
             "ticks": ""
            },
            "colorscale": [
             [
              0,
              "#0d0887"
             ],
             [
              0.1111111111111111,
              "#46039f"
             ],
             [
              0.2222222222222222,
              "#7201a8"
             ],
             [
              0.3333333333333333,
              "#9c179e"
             ],
             [
              0.4444444444444444,
              "#bd3786"
             ],
             [
              0.5555555555555556,
              "#d8576b"
             ],
             [
              0.6666666666666666,
              "#ed7953"
             ],
             [
              0.7777777777777778,
              "#fb9f3a"
             ],
             [
              0.8888888888888888,
              "#fdca26"
             ],
             [
              1,
              "#f0f921"
             ]
            ],
            "type": "histogram2dcontour"
           }
          ],
          "mesh3d": [
           {
            "colorbar": {
             "outlinewidth": 0,
             "ticks": ""
            },
            "type": "mesh3d"
           }
          ],
          "parcoords": [
           {
            "line": {
             "colorbar": {
              "outlinewidth": 0,
              "ticks": ""
             }
            },
            "type": "parcoords"
           }
          ],
          "pie": [
           {
            "automargin": true,
            "type": "pie"
           }
          ],
          "scatter": [
           {
            "fillpattern": {
             "fillmode": "overlay",
             "size": 10,
             "solidity": 0.2
            },
            "type": "scatter"
           }
          ],
          "scatter3d": [
           {
            "line": {
             "colorbar": {
              "outlinewidth": 0,
              "ticks": ""
             }
            },
            "marker": {
             "colorbar": {
              "outlinewidth": 0,
              "ticks": ""
             }
            },
            "type": "scatter3d"
           }
          ],
          "scattercarpet": [
           {
            "marker": {
             "colorbar": {
              "outlinewidth": 0,
              "ticks": ""
             }
            },
            "type": "scattercarpet"
           }
          ],
          "scattergeo": [
           {
            "marker": {
             "colorbar": {
              "outlinewidth": 0,
              "ticks": ""
             }
            },
            "type": "scattergeo"
           }
          ],
          "scattergl": [
           {
            "marker": {
             "colorbar": {
              "outlinewidth": 0,
              "ticks": ""
             }
            },
            "type": "scattergl"
           }
          ],
          "scattermapbox": [
           {
            "marker": {
             "colorbar": {
              "outlinewidth": 0,
              "ticks": ""
             }
            },
            "type": "scattermapbox"
           }
          ],
          "scatterpolar": [
           {
            "marker": {
             "colorbar": {
              "outlinewidth": 0,
              "ticks": ""
             }
            },
            "type": "scatterpolar"
           }
          ],
          "scatterpolargl": [
           {
            "marker": {
             "colorbar": {
              "outlinewidth": 0,
              "ticks": ""
             }
            },
            "type": "scatterpolargl"
           }
          ],
          "scatterternary": [
           {
            "marker": {
             "colorbar": {
              "outlinewidth": 0,
              "ticks": ""
             }
            },
            "type": "scatterternary"
           }
          ],
          "surface": [
           {
            "colorbar": {
             "outlinewidth": 0,
             "ticks": ""
            },
            "colorscale": [
             [
              0,
              "#0d0887"
             ],
             [
              0.1111111111111111,
              "#46039f"
             ],
             [
              0.2222222222222222,
              "#7201a8"
             ],
             [
              0.3333333333333333,
              "#9c179e"
             ],
             [
              0.4444444444444444,
              "#bd3786"
             ],
             [
              0.5555555555555556,
              "#d8576b"
             ],
             [
              0.6666666666666666,
              "#ed7953"
             ],
             [
              0.7777777777777778,
              "#fb9f3a"
             ],
             [
              0.8888888888888888,
              "#fdca26"
             ],
             [
              1,
              "#f0f921"
             ]
            ],
            "type": "surface"
           }
          ],
          "table": [
           {
            "cells": {
             "fill": {
              "color": "#EBF0F8"
             },
             "line": {
              "color": "white"
             }
            },
            "header": {
             "fill": {
              "color": "#C8D4E3"
             },
             "line": {
              "color": "white"
             }
            },
            "type": "table"
           }
          ]
         },
         "layout": {
          "annotationdefaults": {
           "arrowcolor": "#2a3f5f",
           "arrowhead": 0,
           "arrowwidth": 1
          },
          "autotypenumbers": "strict",
          "coloraxis": {
           "colorbar": {
            "outlinewidth": 0,
            "ticks": ""
           }
          },
          "colorscale": {
           "diverging": [
            [
             0,
             "#8e0152"
            ],
            [
             0.1,
             "#c51b7d"
            ],
            [
             0.2,
             "#de77ae"
            ],
            [
             0.3,
             "#f1b6da"
            ],
            [
             0.4,
             "#fde0ef"
            ],
            [
             0.5,
             "#f7f7f7"
            ],
            [
             0.6,
             "#e6f5d0"
            ],
            [
             0.7,
             "#b8e186"
            ],
            [
             0.8,
             "#7fbc41"
            ],
            [
             0.9,
             "#4d9221"
            ],
            [
             1,
             "#276419"
            ]
           ],
           "sequential": [
            [
             0,
             "#0d0887"
            ],
            [
             0.1111111111111111,
             "#46039f"
            ],
            [
             0.2222222222222222,
             "#7201a8"
            ],
            [
             0.3333333333333333,
             "#9c179e"
            ],
            [
             0.4444444444444444,
             "#bd3786"
            ],
            [
             0.5555555555555556,
             "#d8576b"
            ],
            [
             0.6666666666666666,
             "#ed7953"
            ],
            [
             0.7777777777777778,
             "#fb9f3a"
            ],
            [
             0.8888888888888888,
             "#fdca26"
            ],
            [
             1,
             "#f0f921"
            ]
           ],
           "sequentialminus": [
            [
             0,
             "#0d0887"
            ],
            [
             0.1111111111111111,
             "#46039f"
            ],
            [
             0.2222222222222222,
             "#7201a8"
            ],
            [
             0.3333333333333333,
             "#9c179e"
            ],
            [
             0.4444444444444444,
             "#bd3786"
            ],
            [
             0.5555555555555556,
             "#d8576b"
            ],
            [
             0.6666666666666666,
             "#ed7953"
            ],
            [
             0.7777777777777778,
             "#fb9f3a"
            ],
            [
             0.8888888888888888,
             "#fdca26"
            ],
            [
             1,
             "#f0f921"
            ]
           ]
          },
          "colorway": [
           "#636efa",
           "#EF553B",
           "#00cc96",
           "#ab63fa",
           "#FFA15A",
           "#19d3f3",
           "#FF6692",
           "#B6E880",
           "#FF97FF",
           "#FECB52"
          ],
          "font": {
           "color": "#2a3f5f"
          },
          "geo": {
           "bgcolor": "white",
           "lakecolor": "white",
           "landcolor": "#E5ECF6",
           "showlakes": true,
           "showland": true,
           "subunitcolor": "white"
          },
          "hoverlabel": {
           "align": "left"
          },
          "hovermode": "closest",
          "mapbox": {
           "style": "light"
          },
          "paper_bgcolor": "white",
          "plot_bgcolor": "#E5ECF6",
          "polar": {
           "angularaxis": {
            "gridcolor": "white",
            "linecolor": "white",
            "ticks": ""
           },
           "bgcolor": "#E5ECF6",
           "radialaxis": {
            "gridcolor": "white",
            "linecolor": "white",
            "ticks": ""
           }
          },
          "scene": {
           "xaxis": {
            "backgroundcolor": "#E5ECF6",
            "gridcolor": "white",
            "gridwidth": 2,
            "linecolor": "white",
            "showbackground": true,
            "ticks": "",
            "zerolinecolor": "white"
           },
           "yaxis": {
            "backgroundcolor": "#E5ECF6",
            "gridcolor": "white",
            "gridwidth": 2,
            "linecolor": "white",
            "showbackground": true,
            "ticks": "",
            "zerolinecolor": "white"
           },
           "zaxis": {
            "backgroundcolor": "#E5ECF6",
            "gridcolor": "white",
            "gridwidth": 2,
            "linecolor": "white",
            "showbackground": true,
            "ticks": "",
            "zerolinecolor": "white"
           }
          },
          "shapedefaults": {
           "line": {
            "color": "#2a3f5f"
           }
          },
          "ternary": {
           "aaxis": {
            "gridcolor": "white",
            "linecolor": "white",
            "ticks": ""
           },
           "baxis": {
            "gridcolor": "white",
            "linecolor": "white",
            "ticks": ""
           },
           "bgcolor": "#E5ECF6",
           "caxis": {
            "gridcolor": "white",
            "linecolor": "white",
            "ticks": ""
           }
          },
          "title": {
           "x": 0.05
          },
          "xaxis": {
           "automargin": true,
           "gridcolor": "white",
           "linecolor": "white",
           "ticks": "",
           "title": {
            "standoff": 15
           },
           "zerolinecolor": "white",
           "zerolinewidth": 2
          },
          "yaxis": {
           "automargin": true,
           "gridcolor": "white",
           "linecolor": "white",
           "ticks": "",
           "title": {
            "standoff": 15
           },
           "zerolinecolor": "white",
           "zerolinewidth": 2
          }
         }
        },
        "title": {
         "text": "Average Visits per Month & Mean Hours at Anchor"
        },
        "width": 800
       }
      }
     },
     "metadata": {},
     "output_type": "display_data"
    }
   ],
   "source": [
    "# Example: Mapbox version of your scatter_geo map\n",
    "fig2 = px.scatter_mapbox(\n",
    "    dockstats_df,\n",
    "    lon='dock_lon',\n",
    "    lat='dock_lat',\n",
    "    size='visits_avg',\n",
    "    color='time_at_anchor_mean',\n",
    "    range_color=[0, 50],\n",
    "    hover_name='dock_id',\n",
    "    size_max=20,\n",
    "    title='Average Visits per Month & Mean Hours at Anchor',\n",
    "    color_continuous_scale=px.colors.sequential.Viridis,\n",
    "    labels={'time_at_anchor_mean': 'Mean Hours at Anchor'},\n",
    "    height=1000, width=800\n",
    ")\n",
    "\n",
    "# Set Mapbox style (e.g., 'carto-positron', 'stamen-terrain', 'open-street-map')\n",
    "fig2.update_layout(\n",
    "    mapbox_style=\"carto-positron\",  # Choose a style\n",
    "    mapbox_zoom=9.5,  # Adjust zoom level\n",
    "    mapbox_center={\"lat\": dockstats_df['dock_lat'].mean(), \"lon\": dockstats_df['dock_lon'].mean()},  # Center map\n",
    ")\n",
    "\n",
    "# Add footnote using add_annotation\n",
    "fig2.add_annotation(\n",
    "    text=\"Note: Circle size corresponds to average vessel visits per month\",\n",
    "    xref=\"paper\", yref=\"paper\",\n",
    "    x=0, y=-0.05,\n",
    "    showarrow=False,\n",
    "    font=dict(size=14, color=\"black\"),\n",
    "    align=\"left\"\n",
    ")\n",
    "\n",
    "fig2.show()"
   ]
  },
  {
   "cell_type": "code",
   "execution_count": 11,
   "metadata": {},
   "outputs": [
    {
     "data": {
      "application/vnd.plotly.v1+json": {
       "config": {
        "plotlyServerURL": "https://plot.ly"
       },
       "data": [
        {
         "geo": "geo",
         "hovertemplate": "<b>%{hovertext}</b><br><br>visits_avg=%{marker.size}<br>port_lat=%{lat}<br>port_lon=%{lon}<br>Median Hours at Anchor=%{marker.color}<extra></extra>",
         "hovertext": [
          "Tacoma, WA",
          "Seattle, WA"
         ],
         "lat": [
          47.28966000000003,
          47.58771099999997
         ],
         "legendgroup": "",
         "lon": [
          -122.45149999999964,
          -122.35921800000041
         ],
         "marker": {
          "color": [
           0,
           0
          ],
          "coloraxis": "coloraxis",
          "size": [
           108.65826063249727,
           76.34336478789425
          ],
          "sizemode": "area",
          "sizeref": 0.2716456515812432,
          "symbol": "circle"
         },
         "mode": "markers",
         "name": "",
         "showlegend": false,
         "type": "scattergeo"
        }
       ],
       "layout": {
        "annotations": [
         {
          "align": "left",
          "font": {
           "color": "black",
           "size": 14
          },
          "showarrow": false,
          "text": "Note: Circle size corresponds to average vessel visits per month",
          "x": 0,
          "xref": "paper",
          "y": -0.05,
          "yref": "paper"
         }
        ],
        "coloraxis": {
         "cmax": 50,
         "cmin": 0,
         "colorbar": {
          "title": {
           "text": "Median Hours at Anchor"
          }
         },
         "colorscale": [
          [
           0,
           "#440154"
          ],
          [
           0.1111111111111111,
           "#482878"
          ],
          [
           0.2222222222222222,
           "#3e4989"
          ],
          [
           0.3333333333333333,
           "#31688e"
          ],
          [
           0.4444444444444444,
           "#26828e"
          ],
          [
           0.5555555555555556,
           "#1f9e89"
          ],
          [
           0.6666666666666666,
           "#35b779"
          ],
          [
           0.7777777777777778,
           "#6ece58"
          ],
          [
           0.8888888888888888,
           "#b5de2b"
          ],
          [
           1,
           "#fde725"
          ]
         ]
        },
        "geo": {
         "center": {},
         "domain": {
          "x": [
           0,
           1
          ],
          "y": [
           0,
           1
          ]
         },
         "fitbounds": "locations"
        },
        "legend": {
         "itemsizing": "constant",
         "tracegroupgap": 0
        },
        "template": {
         "data": {
          "bar": [
           {
            "error_x": {
             "color": "#2a3f5f"
            },
            "error_y": {
             "color": "#2a3f5f"
            },
            "marker": {
             "line": {
              "color": "#E5ECF6",
              "width": 0.5
             },
             "pattern": {
              "fillmode": "overlay",
              "size": 10,
              "solidity": 0.2
             }
            },
            "type": "bar"
           }
          ],
          "barpolar": [
           {
            "marker": {
             "line": {
              "color": "#E5ECF6",
              "width": 0.5
             },
             "pattern": {
              "fillmode": "overlay",
              "size": 10,
              "solidity": 0.2
             }
            },
            "type": "barpolar"
           }
          ],
          "carpet": [
           {
            "aaxis": {
             "endlinecolor": "#2a3f5f",
             "gridcolor": "white",
             "linecolor": "white",
             "minorgridcolor": "white",
             "startlinecolor": "#2a3f5f"
            },
            "baxis": {
             "endlinecolor": "#2a3f5f",
             "gridcolor": "white",
             "linecolor": "white",
             "minorgridcolor": "white",
             "startlinecolor": "#2a3f5f"
            },
            "type": "carpet"
           }
          ],
          "choropleth": [
           {
            "colorbar": {
             "outlinewidth": 0,
             "ticks": ""
            },
            "type": "choropleth"
           }
          ],
          "contour": [
           {
            "colorbar": {
             "outlinewidth": 0,
             "ticks": ""
            },
            "colorscale": [
             [
              0,
              "#0d0887"
             ],
             [
              0.1111111111111111,
              "#46039f"
             ],
             [
              0.2222222222222222,
              "#7201a8"
             ],
             [
              0.3333333333333333,
              "#9c179e"
             ],
             [
              0.4444444444444444,
              "#bd3786"
             ],
             [
              0.5555555555555556,
              "#d8576b"
             ],
             [
              0.6666666666666666,
              "#ed7953"
             ],
             [
              0.7777777777777778,
              "#fb9f3a"
             ],
             [
              0.8888888888888888,
              "#fdca26"
             ],
             [
              1,
              "#f0f921"
             ]
            ],
            "type": "contour"
           }
          ],
          "contourcarpet": [
           {
            "colorbar": {
             "outlinewidth": 0,
             "ticks": ""
            },
            "type": "contourcarpet"
           }
          ],
          "heatmap": [
           {
            "colorbar": {
             "outlinewidth": 0,
             "ticks": ""
            },
            "colorscale": [
             [
              0,
              "#0d0887"
             ],
             [
              0.1111111111111111,
              "#46039f"
             ],
             [
              0.2222222222222222,
              "#7201a8"
             ],
             [
              0.3333333333333333,
              "#9c179e"
             ],
             [
              0.4444444444444444,
              "#bd3786"
             ],
             [
              0.5555555555555556,
              "#d8576b"
             ],
             [
              0.6666666666666666,
              "#ed7953"
             ],
             [
              0.7777777777777778,
              "#fb9f3a"
             ],
             [
              0.8888888888888888,
              "#fdca26"
             ],
             [
              1,
              "#f0f921"
             ]
            ],
            "type": "heatmap"
           }
          ],
          "heatmapgl": [
           {
            "colorbar": {
             "outlinewidth": 0,
             "ticks": ""
            },
            "colorscale": [
             [
              0,
              "#0d0887"
             ],
             [
              0.1111111111111111,
              "#46039f"
             ],
             [
              0.2222222222222222,
              "#7201a8"
             ],
             [
              0.3333333333333333,
              "#9c179e"
             ],
             [
              0.4444444444444444,
              "#bd3786"
             ],
             [
              0.5555555555555556,
              "#d8576b"
             ],
             [
              0.6666666666666666,
              "#ed7953"
             ],
             [
              0.7777777777777778,
              "#fb9f3a"
             ],
             [
              0.8888888888888888,
              "#fdca26"
             ],
             [
              1,
              "#f0f921"
             ]
            ],
            "type": "heatmapgl"
           }
          ],
          "histogram": [
           {
            "marker": {
             "pattern": {
              "fillmode": "overlay",
              "size": 10,
              "solidity": 0.2
             }
            },
            "type": "histogram"
           }
          ],
          "histogram2d": [
           {
            "colorbar": {
             "outlinewidth": 0,
             "ticks": ""
            },
            "colorscale": [
             [
              0,
              "#0d0887"
             ],
             [
              0.1111111111111111,
              "#46039f"
             ],
             [
              0.2222222222222222,
              "#7201a8"
             ],
             [
              0.3333333333333333,
              "#9c179e"
             ],
             [
              0.4444444444444444,
              "#bd3786"
             ],
             [
              0.5555555555555556,
              "#d8576b"
             ],
             [
              0.6666666666666666,
              "#ed7953"
             ],
             [
              0.7777777777777778,
              "#fb9f3a"
             ],
             [
              0.8888888888888888,
              "#fdca26"
             ],
             [
              1,
              "#f0f921"
             ]
            ],
            "type": "histogram2d"
           }
          ],
          "histogram2dcontour": [
           {
            "colorbar": {
             "outlinewidth": 0,
             "ticks": ""
            },
            "colorscale": [
             [
              0,
              "#0d0887"
             ],
             [
              0.1111111111111111,
              "#46039f"
             ],
             [
              0.2222222222222222,
              "#7201a8"
             ],
             [
              0.3333333333333333,
              "#9c179e"
             ],
             [
              0.4444444444444444,
              "#bd3786"
             ],
             [
              0.5555555555555556,
              "#d8576b"
             ],
             [
              0.6666666666666666,
              "#ed7953"
             ],
             [
              0.7777777777777778,
              "#fb9f3a"
             ],
             [
              0.8888888888888888,
              "#fdca26"
             ],
             [
              1,
              "#f0f921"
             ]
            ],
            "type": "histogram2dcontour"
           }
          ],
          "mesh3d": [
           {
            "colorbar": {
             "outlinewidth": 0,
             "ticks": ""
            },
            "type": "mesh3d"
           }
          ],
          "parcoords": [
           {
            "line": {
             "colorbar": {
              "outlinewidth": 0,
              "ticks": ""
             }
            },
            "type": "parcoords"
           }
          ],
          "pie": [
           {
            "automargin": true,
            "type": "pie"
           }
          ],
          "scatter": [
           {
            "fillpattern": {
             "fillmode": "overlay",
             "size": 10,
             "solidity": 0.2
            },
            "type": "scatter"
           }
          ],
          "scatter3d": [
           {
            "line": {
             "colorbar": {
              "outlinewidth": 0,
              "ticks": ""
             }
            },
            "marker": {
             "colorbar": {
              "outlinewidth": 0,
              "ticks": ""
             }
            },
            "type": "scatter3d"
           }
          ],
          "scattercarpet": [
           {
            "marker": {
             "colorbar": {
              "outlinewidth": 0,
              "ticks": ""
             }
            },
            "type": "scattercarpet"
           }
          ],
          "scattergeo": [
           {
            "marker": {
             "colorbar": {
              "outlinewidth": 0,
              "ticks": ""
             }
            },
            "type": "scattergeo"
           }
          ],
          "scattergl": [
           {
            "marker": {
             "colorbar": {
              "outlinewidth": 0,
              "ticks": ""
             }
            },
            "type": "scattergl"
           }
          ],
          "scattermapbox": [
           {
            "marker": {
             "colorbar": {
              "outlinewidth": 0,
              "ticks": ""
             }
            },
            "type": "scattermapbox"
           }
          ],
          "scatterpolar": [
           {
            "marker": {
             "colorbar": {
              "outlinewidth": 0,
              "ticks": ""
             }
            },
            "type": "scatterpolar"
           }
          ],
          "scatterpolargl": [
           {
            "marker": {
             "colorbar": {
              "outlinewidth": 0,
              "ticks": ""
             }
            },
            "type": "scatterpolargl"
           }
          ],
          "scatterternary": [
           {
            "marker": {
             "colorbar": {
              "outlinewidth": 0,
              "ticks": ""
             }
            },
            "type": "scatterternary"
           }
          ],
          "surface": [
           {
            "colorbar": {
             "outlinewidth": 0,
             "ticks": ""
            },
            "colorscale": [
             [
              0,
              "#0d0887"
             ],
             [
              0.1111111111111111,
              "#46039f"
             ],
             [
              0.2222222222222222,
              "#7201a8"
             ],
             [
              0.3333333333333333,
              "#9c179e"
             ],
             [
              0.4444444444444444,
              "#bd3786"
             ],
             [
              0.5555555555555556,
              "#d8576b"
             ],
             [
              0.6666666666666666,
              "#ed7953"
             ],
             [
              0.7777777777777778,
              "#fb9f3a"
             ],
             [
              0.8888888888888888,
              "#fdca26"
             ],
             [
              1,
              "#f0f921"
             ]
            ],
            "type": "surface"
           }
          ],
          "table": [
           {
            "cells": {
             "fill": {
              "color": "#EBF0F8"
             },
             "line": {
              "color": "white"
             }
            },
            "header": {
             "fill": {
              "color": "#C8D4E3"
             },
             "line": {
              "color": "white"
             }
            },
            "type": "table"
           }
          ]
         },
         "layout": {
          "annotationdefaults": {
           "arrowcolor": "#2a3f5f",
           "arrowhead": 0,
           "arrowwidth": 1
          },
          "autotypenumbers": "strict",
          "coloraxis": {
           "colorbar": {
            "outlinewidth": 0,
            "ticks": ""
           }
          },
          "colorscale": {
           "diverging": [
            [
             0,
             "#8e0152"
            ],
            [
             0.1,
             "#c51b7d"
            ],
            [
             0.2,
             "#de77ae"
            ],
            [
             0.3,
             "#f1b6da"
            ],
            [
             0.4,
             "#fde0ef"
            ],
            [
             0.5,
             "#f7f7f7"
            ],
            [
             0.6,
             "#e6f5d0"
            ],
            [
             0.7,
             "#b8e186"
            ],
            [
             0.8,
             "#7fbc41"
            ],
            [
             0.9,
             "#4d9221"
            ],
            [
             1,
             "#276419"
            ]
           ],
           "sequential": [
            [
             0,
             "#0d0887"
            ],
            [
             0.1111111111111111,
             "#46039f"
            ],
            [
             0.2222222222222222,
             "#7201a8"
            ],
            [
             0.3333333333333333,
             "#9c179e"
            ],
            [
             0.4444444444444444,
             "#bd3786"
            ],
            [
             0.5555555555555556,
             "#d8576b"
            ],
            [
             0.6666666666666666,
             "#ed7953"
            ],
            [
             0.7777777777777778,
             "#fb9f3a"
            ],
            [
             0.8888888888888888,
             "#fdca26"
            ],
            [
             1,
             "#f0f921"
            ]
           ],
           "sequentialminus": [
            [
             0,
             "#0d0887"
            ],
            [
             0.1111111111111111,
             "#46039f"
            ],
            [
             0.2222222222222222,
             "#7201a8"
            ],
            [
             0.3333333333333333,
             "#9c179e"
            ],
            [
             0.4444444444444444,
             "#bd3786"
            ],
            [
             0.5555555555555556,
             "#d8576b"
            ],
            [
             0.6666666666666666,
             "#ed7953"
            ],
            [
             0.7777777777777778,
             "#fb9f3a"
            ],
            [
             0.8888888888888888,
             "#fdca26"
            ],
            [
             1,
             "#f0f921"
            ]
           ]
          },
          "colorway": [
           "#636efa",
           "#EF553B",
           "#00cc96",
           "#ab63fa",
           "#FFA15A",
           "#19d3f3",
           "#FF6692",
           "#B6E880",
           "#FF97FF",
           "#FECB52"
          ],
          "font": {
           "color": "#2a3f5f"
          },
          "geo": {
           "bgcolor": "white",
           "lakecolor": "white",
           "landcolor": "#E5ECF6",
           "showlakes": true,
           "showland": true,
           "subunitcolor": "white"
          },
          "hoverlabel": {
           "align": "left"
          },
          "hovermode": "closest",
          "mapbox": {
           "style": "light"
          },
          "paper_bgcolor": "white",
          "plot_bgcolor": "#E5ECF6",
          "polar": {
           "angularaxis": {
            "gridcolor": "white",
            "linecolor": "white",
            "ticks": ""
           },
           "bgcolor": "#E5ECF6",
           "radialaxis": {
            "gridcolor": "white",
            "linecolor": "white",
            "ticks": ""
           }
          },
          "scene": {
           "xaxis": {
            "backgroundcolor": "#E5ECF6",
            "gridcolor": "white",
            "gridwidth": 2,
            "linecolor": "white",
            "showbackground": true,
            "ticks": "",
            "zerolinecolor": "white"
           },
           "yaxis": {
            "backgroundcolor": "#E5ECF6",
            "gridcolor": "white",
            "gridwidth": 2,
            "linecolor": "white",
            "showbackground": true,
            "ticks": "",
            "zerolinecolor": "white"
           },
           "zaxis": {
            "backgroundcolor": "#E5ECF6",
            "gridcolor": "white",
            "gridwidth": 2,
            "linecolor": "white",
            "showbackground": true,
            "ticks": "",
            "zerolinecolor": "white"
           }
          },
          "shapedefaults": {
           "line": {
            "color": "#2a3f5f"
           }
          },
          "ternary": {
           "aaxis": {
            "gridcolor": "white",
            "linecolor": "white",
            "ticks": ""
           },
           "baxis": {
            "gridcolor": "white",
            "linecolor": "white",
            "ticks": ""
           },
           "bgcolor": "#E5ECF6",
           "caxis": {
            "gridcolor": "white",
            "linecolor": "white",
            "ticks": ""
           }
          },
          "title": {
           "x": 0.05
          },
          "xaxis": {
           "automargin": true,
           "gridcolor": "white",
           "linecolor": "white",
           "ticks": "",
           "title": {
            "standoff": 15
           },
           "zerolinecolor": "white",
           "zerolinewidth": 2
          },
          "yaxis": {
           "automargin": true,
           "gridcolor": "white",
           "linecolor": "white",
           "ticks": "",
           "title": {
            "standoff": 15
           },
           "zerolinecolor": "white",
           "zerolinewidth": 2
          }
         }
        },
        "title": {
         "text": "Average Visits per Month & Median Hours at Anchor"
        }
       }
      }
     },
     "metadata": {},
     "output_type": "display_data"
    }
   ],
   "source": [
    "#create map figure for ports\n",
    "fig = px.scatter_geo(\n",
    "    portstats_df,\n",
    "    lon='port_lon',\n",
    "    lat='port_lat',\n",
    "    size='visits_avg',\n",
    "    color='time_at_anchor_median',\n",
    "    range_color=[0,50],\n",
    "    hover_name='port_name',\n",
    "    size_max=20,\n",
    "    title='Average Visits per Month & Median Hours at Anchor',\n",
    "    color_continuous_scale=px.colors.sequential.Viridis,\n",
    "    labels={\n",
    "        'time_at_anchor_median':'Median Hours at Anchor'\n",
    "    }\n",
    ")\n",
    "# Fit the view to ports\n",
    "fig.update_geos(fitbounds=\"locations\")\n",
    "# Add footnote using add_annotation\n",
    "fig.add_annotation(\n",
    "    text=\"Note: Circle size corresponds to average vessel visits per month\",  # Footnote text\n",
    "    xref=\"paper\", yref=\"paper\",  # Position relative to the plot area\n",
    "    x=0, y=0-0.05,  # Adjust to footnote position\n",
    "    showarrow=False,  # No arrow, just text\n",
    "    font=dict(size=14, color=\"black\"),  # Customize the font style\n",
    "    align=\"left\"\n",
    ")\n",
    "\n",
    "fig.show()"
   ]
  }
 ],
 "metadata": {
  "kernelspec": {
   "display_name": "wsu",
   "language": "python",
   "name": "python3"
  },
  "language_info": {
   "codemirror_mode": {
    "name": "ipython",
    "version": 3
   },
   "file_extension": ".py",
   "mimetype": "text/x-python",
   "name": "python",
   "nbconvert_exporter": "python",
   "pygments_lexer": "ipython3",
   "version": "3.12.0"
  }
 },
 "nbformat": 4,
 "nbformat_minor": 2
}
