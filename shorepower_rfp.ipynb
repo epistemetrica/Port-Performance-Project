{
 "cells": [
  {
   "cell_type": "markdown",
   "metadata": {},
   "source": [
    "# Northwest Port Alliance Report for CARB RFP\n",
    "\n",
    "This notebook provides a static report for the Seattle and Tacoma port system to support TRG's submission for the CARB RFP. The data and the majority of the code base comes from the [Port Performance Project](https://github.com/epistemetrica/Port-Performance-Project) represents the data work related to the [WSU TRG's](https://ses.wsu.edu/trg/). "
   ]
  },
  {
   "cell_type": "code",
   "execution_count": 2,
   "metadata": {},
   "outputs": [],
   "source": [
    "#prelims\n",
    "import polars as pl\n",
    "import pandas as pd\n",
    "import geopandas as gpd\n",
    "import time\n",
    "import plotly.express as px\n",
    "import matplotlib.pyplot as plt\n",
    "import contextily as cx\n",
    "import numpy as np\n",
    "import glob\n",
    "\n",
    "#enable string cache for polars categoricals\n",
    "pl.enable_string_cache()\n",
    "#display settings\n",
    "pd.set_option('display.max_columns', None)\n",
    "pd.set_option('display.max_rows', None)\n",
    "pl.Config(tbl_rows=50);"
   ]
  },
  {
   "cell_type": "markdown",
   "metadata": {},
   "source": [
    "## Load and Inspect Data"
   ]
  },
  {
   "cell_type": "code",
   "execution_count": 3,
   "metadata": {},
   "outputs": [
    {
     "data": {
      "text/html": [
       "<div><style>\n",
       ".dataframe > thead > tr,\n",
       ".dataframe > tbody > tr {\n",
       "  text-align: right;\n",
       "  white-space: pre-wrap;\n",
       "}\n",
       "</style>\n",
       "<small>shape: (9, 30)</small><table border=\"1\" class=\"dataframe\"><thead><tr><th>statistic</th><th>docking_id</th><th>mmsi</th><th>time</th><th>speed</th><th>course</th><th>heading</th><th>status</th><th>vessel_name</th><th>vessel_type</th><th>imo</th><th>length</th><th>width</th><th>draft</th><th>cargo</th><th>status_previous</th><th>status_duration</th><th>short</th><th>port_type</th><th>port_name</th><th>port_rank</th><th>port_dist</th><th>year</th><th>month</th><th>dock_id</th><th>dock_dist</th><th>port_lat</th><th>port_lon</th><th>dock_lat</th><th>dock_lon</th></tr><tr><td>str</td><td>f64</td><td>str</td><td>str</td><td>f64</td><td>f64</td><td>f64</td><td>f64</td><td>str</td><td>f64</td><td>f64</td><td>f64</td><td>f64</td><td>f64</td><td>f64</td><td>f64</td><td>f64</td><td>f64</td><td>str</td><td>str</td><td>f64</td><td>f64</td><td>f64</td><td>str</td><td>str</td><td>f64</td><td>f64</td><td>f64</td><td>f64</td><td>f64</td></tr></thead><tbody><tr><td>&quot;count&quot;</td><td>25415.0</td><td>&quot;25415&quot;</td><td>&quot;25415&quot;</td><td>25415.0</td><td>25379.0</td><td>25380.0</td><td>25415.0</td><td>&quot;25415&quot;</td><td>25415.0</td><td>25415.0</td><td>25415.0</td><td>24901.0</td><td>24908.0</td><td>19299.0</td><td>24688.0</td><td>25371.0</td><td>25415.0</td><td>&quot;25415&quot;</td><td>&quot;25415&quot;</td><td>25415.0</td><td>25415.0</td><td>25415.0</td><td>&quot;25415&quot;</td><td>&quot;25415&quot;</td><td>25345.0</td><td>25415.0</td><td>25415.0</td><td>25345.0</td><td>25345.0</td></tr><tr><td>&quot;null_count&quot;</td><td>0.0</td><td>&quot;0&quot;</td><td>&quot;0&quot;</td><td>0.0</td><td>36.0</td><td>35.0</td><td>0.0</td><td>&quot;0&quot;</td><td>0.0</td><td>0.0</td><td>0.0</td><td>514.0</td><td>507.0</td><td>6116.0</td><td>727.0</td><td>44.0</td><td>0.0</td><td>&quot;0&quot;</td><td>&quot;0&quot;</td><td>0.0</td><td>0.0</td><td>0.0</td><td>&quot;0&quot;</td><td>&quot;0&quot;</td><td>70.0</td><td>0.0</td><td>0.0</td><td>70.0</td><td>70.0</td></tr><tr><td>&quot;mean&quot;</td><td>878478.695849</td><td>null</td><td>&quot;2021-05-17 00:19:43.182884&quot;</td><td>2.033287</td><td>181.024374</td><td>188.942711</td><td>2.189022</td><td>null</td><td>70.58375</td><td>9.9153e6</td><td>247.226598</td><td>34.240593</td><td>11.412374</td><td>71.282294</td><td>2.242182</td><td>23053.583028</td><td>0.0</td><td>null</td><td>null</td><td>31.445367</td><td>596237.285973</td><td>2020.892741</td><td>null</td><td>null</td><td>595719.829008</td><td>47.422402</td><td>-122.410401</td><td>47.40896</td><td>-122.379048</td></tr><tr><td>&quot;std&quot;</td><td>493301.089577</td><td>null</td><td>null</td><td>4.731636</td><td>101.50017</td><td>100.532552</td><td>2.447175</td><td>null</td><td>2.087255</td><td>2.3510e7</td><td>53.193671</td><td>6.453565</td><td>2.906082</td><td>6.04698</td><td>2.416935</td><td>105832.308527</td><td>null</td><td>null</td><td>null</td><td>0.497016</td><td>1.6129e6</td><td>1.836575</td><td>null</td><td>null</td><td>1.6151e6</td><td>0.148136</td><td>0.045866</td><td>0.15958</td><td>0.032165</td></tr><tr><td>&quot;min&quot;</td><td>3249.0</td><td>&quot;205717000&quot;</td><td>&quot;2018-01-01 01:23:57&quot;</td><td>0.0</td><td>0.0</td><td>0.0</td><td>0.0</td><td>null</td><td>70.0</td><td>6.413924e6</td><td>104.0</td><td>15.0</td><td>-12.8</td><td>0.0</td><td>0.0</td><td>0.0</td><td>0.0</td><td>&quot;C&quot;</td><td>&quot;Seattle, WA&quot;</td><td>31.0</td><td>132.600895</td><td>2018.0</td><td>&quot;201801&quot;</td><td>&quot;016F&quot;</td><td>1.640486</td><td>47.28966</td><td>-122.4515</td><td>47.253889</td><td>-122.502587</td></tr><tr><td>&quot;25%&quot;</td><td>505146.0</td><td>null</td><td>&quot;2019-11-04 13:58:57&quot;</td><td>0.0</td><td>105.0</td><td>125.0</td><td>0.0</td><td>null</td><td>70.0</td><td>9.23228e6</td><td>200.0</td><td>32.0</td><td>9.8</td><td>70.0</td><td>0.0</td><td>496.0</td><td>null</td><td>null</td><td>null</td><td>31.0</td><td>4841.719471</td><td>2019.0</td><td>null</td><td>null</td><td>200.286598</td><td>47.28966</td><td>-122.4515</td><td>47.266389</td><td>-122.405</td></tr><tr><td>&quot;50%&quot;</td><td>887209.0</td><td>null</td><td>&quot;2021-06-27 12:31:16&quot;</td><td>0.1</td><td>180.0</td><td>180.0</td><td>1.0</td><td>null</td><td>70.0</td><td>9.347554e6</td><td>229.0</td><td>32.0</td><td>11.5</td><td>70.0</td><td>1.0</td><td>1566.0</td><td>null</td><td>null</td><td>null</td><td>31.0</td><td>9005.271394</td><td>2021.0</td><td>null</td><td>null</td><td>3599.989453</td><td>47.28966</td><td>-122.4515</td><td>47.274444</td><td>-122.38333</td></tr><tr><td>&quot;75%&quot;</td><td>1.215511e6</td><td>null</td><td>&quot;2022-11-20 23:36:22&quot;</td><td>0.8</td><td>267.3</td><td>296.0</td><td>5.0</td><td>null</td><td>70.0</td><td>9.532197e6</td><td>294.0</td><td>40.0</td><td>13.8</td><td>71.0</td><td>5.0</td><td>5596.0</td><td>null</td><td>null</td><td>null</td><td>32.0</td><td>298755.347558</td><td>2022.0</td><td>null</td><td>null</td><td>302727.151039</td><td>47.587711</td><td>-122.359218</td><td>47.582943</td><td>-122.34305</td></tr><tr><td>&quot;max&quot;</td><td>1.779092e6</td><td>&quot;636093158&quot;</td><td>&quot;2024-06-30 23:45:34&quot;</td><td>102.3</td><td>359.9</td><td>359.0</td><td>15.0</td><td>null</td><td>89.0</td><td>9.464704e8</td><td>366.0</td><td>58.0</td><td>22.5</td><td>159.0</td><td>15.0</td><td>3.357503e6</td><td>0.0</td><td>&quot;C&quot;</td><td>&quot;Tacoma, WA&quot;</td><td>32.0</td><td>3.1611e7</td><td>2024.0</td><td>&quot;202406&quot;</td><td>&quot;nan&quot;</td><td>3.1609e7</td><td>47.587711</td><td>-122.359218</td><td>47.626389</td><td>-122.34</td></tr></tbody></table></div>"
      ],
      "text/plain": [
       "shape: (9, 30)\n",
       "┌───────────┬───────────┬───────────┬───────────┬───┬───────────┬───────────┬───────────┬──────────┐\n",
       "│ statistic ┆ docking_i ┆ mmsi      ┆ time      ┆ … ┆ port_lat  ┆ port_lon  ┆ dock_lat  ┆ dock_lon │\n",
       "│ ---       ┆ d         ┆ ---       ┆ ---       ┆   ┆ ---       ┆ ---       ┆ ---       ┆ ---      │\n",
       "│ str       ┆ ---       ┆ str       ┆ str       ┆   ┆ f64       ┆ f64       ┆ f64       ┆ f64      │\n",
       "│           ┆ f64       ┆           ┆           ┆   ┆           ┆           ┆           ┆          │\n",
       "╞═══════════╪═══════════╪═══════════╪═══════════╪═══╪═══════════╪═══════════╪═══════════╪══════════╡\n",
       "│ count     ┆ 25415.0   ┆ 25415     ┆ 25415     ┆ … ┆ 25415.0   ┆ 25415.0   ┆ 25345.0   ┆ 25345.0  │\n",
       "│ null_coun ┆ 0.0       ┆ 0         ┆ 0         ┆ … ┆ 0.0       ┆ 0.0       ┆ 70.0      ┆ 70.0     │\n",
       "│ t         ┆           ┆           ┆           ┆   ┆           ┆           ┆           ┆          │\n",
       "│ mean      ┆ 878478.69 ┆ null      ┆ 2021-05-1 ┆ … ┆ 47.422402 ┆ -122.4104 ┆ 47.40896  ┆ -122.379 │\n",
       "│           ┆ 5849      ┆           ┆ 7 00:19:4 ┆   ┆           ┆ 01        ┆           ┆ 048      │\n",
       "│           ┆           ┆           ┆ 3.182884  ┆   ┆           ┆           ┆           ┆          │\n",
       "│ std       ┆ 493301.08 ┆ null      ┆ null      ┆ … ┆ 0.148136  ┆ 0.045866  ┆ 0.15958   ┆ 0.032165 │\n",
       "│           ┆ 9577      ┆           ┆           ┆   ┆           ┆           ┆           ┆          │\n",
       "│ min       ┆ 3249.0    ┆ 205717000 ┆ 2018-01-0 ┆ … ┆ 47.28966  ┆ -122.4515 ┆ 47.253889 ┆ -122.502 │\n",
       "│           ┆           ┆           ┆ 1         ┆   ┆           ┆           ┆           ┆ 587      │\n",
       "│           ┆           ┆           ┆ 01:23:57  ┆   ┆           ┆           ┆           ┆          │\n",
       "│ 25%       ┆ 505146.0  ┆ null      ┆ 2019-11-0 ┆ … ┆ 47.28966  ┆ -122.4515 ┆ 47.266389 ┆ -122.405 │\n",
       "│           ┆           ┆           ┆ 4         ┆   ┆           ┆           ┆           ┆          │\n",
       "│           ┆           ┆           ┆ 13:58:57  ┆   ┆           ┆           ┆           ┆          │\n",
       "│ 50%       ┆ 887209.0  ┆ null      ┆ 2021-06-2 ┆ … ┆ 47.28966  ┆ -122.4515 ┆ 47.274444 ┆ -122.383 │\n",
       "│           ┆           ┆           ┆ 7         ┆   ┆           ┆           ┆           ┆ 33       │\n",
       "│           ┆           ┆           ┆ 12:31:16  ┆   ┆           ┆           ┆           ┆          │\n",
       "│ 75%       ┆ 1.215511e ┆ null      ┆ 2022-11-2 ┆ … ┆ 47.587711 ┆ -122.3592 ┆ 47.582943 ┆ -122.343 │\n",
       "│           ┆ 6         ┆           ┆ 0         ┆   ┆           ┆ 18        ┆           ┆ 05       │\n",
       "│           ┆           ┆           ┆ 23:36:22  ┆   ┆           ┆           ┆           ┆          │\n",
       "│ max       ┆ 1.779092e ┆ 636093158 ┆ 2024-06-3 ┆ … ┆ 47.587711 ┆ -122.3592 ┆ 47.626389 ┆ -122.34  │\n",
       "│           ┆ 6         ┆           ┆ 0         ┆   ┆           ┆ 18        ┆           ┆          │\n",
       "│           ┆           ┆           ┆ 23:45:34  ┆   ┆           ┆           ┆           ┆          │\n",
       "└───────────┴───────────┴───────────┴───────────┴───┴───────────┴───────────┴───────────┴──────────┘"
      ]
     },
     "metadata": {},
     "output_type": "display_data"
    },
    {
     "data": {
      "text/html": [
       "<div><style>\n",
       ".dataframe > thead > tr,\n",
       ".dataframe > tbody > tr {\n",
       "  text-align: right;\n",
       "  white-space: pre-wrap;\n",
       "}\n",
       "</style>\n",
       "<small>shape: (5, 29)</small><table border=\"1\" class=\"dataframe\"><thead><tr><th>docking_id</th><th>mmsi</th><th>time</th><th>speed</th><th>course</th><th>heading</th><th>status</th><th>vessel_name</th><th>vessel_type</th><th>imo</th><th>length</th><th>width</th><th>draft</th><th>cargo</th><th>status_previous</th><th>status_duration</th><th>short</th><th>port_type</th><th>port_name</th><th>port_rank</th><th>port_dist</th><th>year</th><th>month</th><th>dock_id</th><th>dock_dist</th><th>port_lat</th><th>port_lon</th><th>dock_lat</th><th>dock_lon</th></tr><tr><td>f64</td><td>str</td><td>datetime[μs]</td><td>f64</td><td>f64</td><td>f64</td><td>f64</td><td>cat</td><td>f64</td><td>f64</td><td>f64</td><td>f64</td><td>f64</td><td>f64</td><td>f64</td><td>f64</td><td>bool</td><td>str</td><td>str</td><td>f64</td><td>f64</td><td>i32</td><td>str</td><td>str</td><td>f64</td><td>f64</td><td>f64</td><td>f64</td><td>f64</td></tr></thead><tbody><tr><td>3249.0</td><td>&quot;205717000&quot;</td><td>2019-01-11 04:03:17</td><td>0.5</td><td>113.8</td><td>142.0</td><td>0.0</td><td>&quot;LA TONDA&quot;</td><td>70.0</td><td>9.748485e6</td><td>199.0</td><td>null</td><td>null</td><td>null</td><td>5.0</td><td>11.0</td><td>false</td><td>&quot;C&quot;</td><td>&quot;Seattle, WA&quot;</td><td>32.0</td><td>260345.939838</td><td>2019</td><td>&quot;201901&quot;</td><td>&quot;0UMV&quot;</td><td>265830.127742</td><td>47.587711</td><td>-122.359218</td><td>47.623333</td><td>-122.37</td></tr><tr><td>3249.0</td><td>&quot;205717000&quot;</td><td>2019-01-11 04:15:16</td><td>0.1</td><td>252.9</td><td>154.0</td><td>1.0</td><td>&quot;LA TONDA&quot;</td><td>70.0</td><td>9.748485e6</td><td>199.0</td><td>null</td><td>null</td><td>null</td><td>0.0</td><td>53.0</td><td>false</td><td>&quot;C&quot;</td><td>&quot;Seattle, WA&quot;</td><td>32.0</td><td>260151.124906</td><td>2019</td><td>&quot;201901&quot;</td><td>&quot;0UMV&quot;</td><td>265633.735792</td><td>47.587711</td><td>-122.359218</td><td>47.623333</td><td>-122.37</td></tr><tr><td>3249.0</td><td>&quot;205717000&quot;</td><td>2019-01-11 05:08:59</td><td>9.2</td><td>356.4</td><td>357.0</td><td>0.0</td><td>&quot;LA TONDA&quot;</td><td>70.0</td><td>9.748485e6</td><td>199.0</td><td>null</td><td>null</td><td>null</td><td>5.0</td><td>145609.0</td><td>false</td><td>&quot;C&quot;</td><td>&quot;Seattle, WA&quot;</td><td>32.0</td><td>257937.991121</td><td>2019</td><td>&quot;201901&quot;</td><td>&quot;0UMV&quot;</td><td>263410.67524</td><td>47.587711</td><td>-122.359218</td><td>47.623333</td><td>-122.37</td></tr><tr><td>3249.0</td><td>&quot;205717000&quot;</td><td>2019-04-22 07:58:55</td><td>0.1</td><td>167.8</td><td>67.0</td><td>1.0</td><td>&quot;LA TONDA&quot;</td><td>70.0</td><td>9.748485e6</td><td>199.0</td><td>null</td><td>null</td><td>null</td><td>0.0</td><td>2116.0</td><td>false</td><td>&quot;C&quot;</td><td>&quot;Seattle, WA&quot;</td><td>32.0</td><td>6803.927572</td><td>2019</td><td>&quot;201904&quot;</td><td>&quot;0UMV&quot;</td><td>3174.702145</td><td>47.587711</td><td>-122.359218</td><td>47.623333</td><td>-122.37</td></tr><tr><td>3249.0</td><td>&quot;205717000&quot;</td><td>2019-04-23 19:15:35</td><td>0.4</td><td>161.6</td><td>111.0</td><td>0.0</td><td>&quot;LA TONDA&quot;</td><td>70.0</td><td>9.748485e6</td><td>199.0</td><td>null</td><td>null</td><td>null</td><td>1.0</td><td>53.0</td><td>false</td><td>&quot;C&quot;</td><td>&quot;Seattle, WA&quot;</td><td>32.0</td><td>6787.748447</td><td>2019</td><td>&quot;201904&quot;</td><td>&quot;0UMV&quot;</td><td>2807.10319</td><td>47.587711</td><td>-122.359218</td><td>47.623333</td><td>-122.37</td></tr></tbody></table></div>"
      ],
      "text/plain": [
       "shape: (5, 29)\n",
       "┌────────────┬───────────┬─────────────┬───────┬───┬───────────┬────────────┬───────────┬──────────┐\n",
       "│ docking_id ┆ mmsi      ┆ time        ┆ speed ┆ … ┆ port_lat  ┆ port_lon   ┆ dock_lat  ┆ dock_lon │\n",
       "│ ---        ┆ ---       ┆ ---         ┆ ---   ┆   ┆ ---       ┆ ---        ┆ ---       ┆ ---      │\n",
       "│ f64        ┆ str       ┆ datetime[μs ┆ f64   ┆   ┆ f64       ┆ f64        ┆ f64       ┆ f64      │\n",
       "│            ┆           ┆ ]           ┆       ┆   ┆           ┆            ┆           ┆          │\n",
       "╞════════════╪═══════════╪═════════════╪═══════╪═══╪═══════════╪════════════╪═══════════╪══════════╡\n",
       "│ 3249.0     ┆ 205717000 ┆ 2019-01-11  ┆ 0.5   ┆ … ┆ 47.587711 ┆ -122.35921 ┆ 47.623333 ┆ -122.37  │\n",
       "│            ┆           ┆ 04:03:17    ┆       ┆   ┆           ┆ 8          ┆           ┆          │\n",
       "│ 3249.0     ┆ 205717000 ┆ 2019-01-11  ┆ 0.1   ┆ … ┆ 47.587711 ┆ -122.35921 ┆ 47.623333 ┆ -122.37  │\n",
       "│            ┆           ┆ 04:15:16    ┆       ┆   ┆           ┆ 8          ┆           ┆          │\n",
       "│ 3249.0     ┆ 205717000 ┆ 2019-01-11  ┆ 9.2   ┆ … ┆ 47.587711 ┆ -122.35921 ┆ 47.623333 ┆ -122.37  │\n",
       "│            ┆           ┆ 05:08:59    ┆       ┆   ┆           ┆ 8          ┆           ┆          │\n",
       "│ 3249.0     ┆ 205717000 ┆ 2019-04-22  ┆ 0.1   ┆ … ┆ 47.587711 ┆ -122.35921 ┆ 47.623333 ┆ -122.37  │\n",
       "│            ┆           ┆ 07:58:55    ┆       ┆   ┆           ┆ 8          ┆           ┆          │\n",
       "│ 3249.0     ┆ 205717000 ┆ 2019-04-23  ┆ 0.4   ┆ … ┆ 47.587711 ┆ -122.35921 ┆ 47.623333 ┆ -122.37  │\n",
       "│            ┆           ┆ 19:15:35    ┆       ┆   ┆           ┆ 8          ┆           ┆          │\n",
       "└────────────┴───────────┴─────────────┴───────┴───┴───────────┴────────────┴───────────┴──────────┘"
      ]
     },
     "execution_count": 3,
     "metadata": {},
     "output_type": "execute_result"
    }
   ],
   "source": [
    "main_df = (\n",
    "    #read\n",
    "    pl.read_parquet('port data/dashboard/main.parquet')\n",
    "    #limit to only Northwest Seaport Alliance\n",
    "    .filter(pl.col('port_name').is_in(['Seattle, WA', 'Tacoma, WA']))\n",
    ")\n",
    "display(main_df.describe())\n",
    "main_df.head()"
   ]
  },
  {
   "cell_type": "markdown",
   "metadata": {},
   "source": [
    "## Generate stats"
   ]
  },
  {
   "cell_type": "code",
   "execution_count": 4,
   "metadata": {},
   "outputs": [],
   "source": [
    "#init handy variables\n",
    "earliest_date = main_df['time'].min().date()\n",
    "latest_date = main_df['time'].max().date()\n",
    "\n",
    "#define port stats function\n",
    "def port_stats(df, start_date=earliest_date, end_date=latest_date):\n",
    "    #create ports stats\n",
    "    portstats_df = (\n",
    "        #convert main gdf to polars\n",
    "        df\n",
    "        #filter to given date\n",
    "        .filter(pl.col('time').is_between(start_date, end_date))\n",
    "        #ensure sorting\n",
    "        .sort(['mmsi', 'time'])\n",
    "        #drop messages not associated with a docking event\n",
    "        .drop_nulls(subset='docking_id')\n",
    "        .with_columns(\n",
    "            #sum anchorage time for each docking event\n",
    "            time_at_anchor = (\n",
    "                pl.when(pl.col('status')==1)\n",
    "                .then(pl.col('status_duration'))\n",
    "                .otherwise(pl.lit(None))\n",
    "                .sum().over('docking_id')\n",
    "            ),\n",
    "            #get monthly vessels and visits\n",
    "            vessels = pl.col('mmsi').n_unique().over('port_name', 'month'),\n",
    "            visits = pl.col('docking_id').n_unique().over('port_name', 'month')\n",
    "        )\n",
    "        #aggregate to ports\n",
    "        .group_by('port_name')\n",
    "        .agg(\n",
    "            #keep lat and long\n",
    "            port_lat = pl.col('port_lat').first(),\n",
    "            port_lon = pl.col('port_lon').first(),\n",
    "            #get monthly average of unique vessels seen at each port\n",
    "            vessels_avg = pl.col('vessels').mean(),\n",
    "            #get monthly average of vessel visits at each port\n",
    "            visits_avg = pl.col('visits').mean(),\n",
    "            #get median time at berth in hours\n",
    "            time_at_berth_median = (\n",
    "                pl.when(pl.col('status')==5)\n",
    "                .then(pl.col('status_duration'))\n",
    "                .otherwise(pl.lit(None))\n",
    "            ).median()/60,\n",
    "            #get median time at anchor in hours\n",
    "            time_at_anchor_median = pl.col('time_at_anchor').median()/60,\n",
    "            #get mean time at anchor in hours\n",
    "            time_at_anchor_mean = pl.col('time_at_anchor').mean()/60\n",
    "        )\n",
    "        #convert to pandas to that geopandas is happy\n",
    "        .to_pandas()\n",
    "    )\n",
    "    #convert back to geodataframe\n",
    "    portstats_gdf = (\n",
    "        gpd.GeoDataFrame(\n",
    "            portstats_df, \n",
    "            geometry=gpd.points_from_xy(portstats_df.port_lon, \n",
    "                                        portstats_df.port_lat),\n",
    "            crs=3857\n",
    "        )\n",
    "    )\n",
    "    return portstats_gdf\n",
    "\n",
    "#define dock stats function\n",
    "def dock_stats(df, start_date=earliest_date, end_date=latest_date):\n",
    "    #create dock stats\n",
    "    dockstats_df = (\n",
    "        #convert main gdf to polars\n",
    "        df\n",
    "        #filter to given date\n",
    "        .filter(pl.col('time').is_between(start_date, end_date))\n",
    "        #ensure sorting\n",
    "        .sort(['mmsi', 'time'])\n",
    "        #drop messages not associated with a docking event\n",
    "        .drop_nulls(subset='docking_id')\n",
    "        .with_columns(\n",
    "            #sum anchorage time for each docking event\n",
    "            time_at_anchor = (\n",
    "                pl.when(pl.col('status')==1)\n",
    "                .then(pl.col('status_duration'))\n",
    "                .otherwise(pl.lit(None))\n",
    "                .sum().over('docking_id')\n",
    "            ),\n",
    "            #get monthly vessels and visits\n",
    "            vessels = pl.col('mmsi').n_unique().over('dock_id', 'month'),\n",
    "            visits = pl.col('docking_id').n_unique().over('dock_id', 'month')\n",
    "        )\n",
    "        #aggregate to ports\n",
    "        .group_by('dock_id')\n",
    "        .agg(\n",
    "            #keep lat and long\n",
    "            dock_lat = pl.col('dock_lat').first(),\n",
    "            dock_lon = pl.col('dock_lon').first(),\n",
    "            #get monthly average of unique vessels seen at each port\n",
    "            vessels_avg = pl.col('vessels').mean(),\n",
    "            #get monthly average of vessel visits at each port\n",
    "            visits_avg = pl.col('visits').mean(),\n",
    "            #get median time at berth in hours\n",
    "            time_at_berth_median = (\n",
    "                pl.when(pl.col('status')==5)\n",
    "                .then(pl.col('status_duration'))\n",
    "                .otherwise(pl.lit(None))\n",
    "            ).median()/60,\n",
    "            #get median time at anchor in hours\n",
    "            time_at_anchor_median = pl.col('time_at_anchor').median()/60,\n",
    "            #get mean time at anchor in hours\n",
    "            time_at_anchor_mean = pl.col('time_at_anchor').mean()/60\n",
    "        )\n",
    "        #convert to pandas to that geopandas is happy\n",
    "        .to_pandas()\n",
    "    )\n",
    "    #convert back to geodataframe\n",
    "    dockstats_gdf = (\n",
    "        gpd.GeoDataFrame(\n",
    "            dockstats_df, \n",
    "            geometry=gpd.points_from_xy(dockstats_df.dock_lon, \n",
    "                                        dockstats_df.dock_lat),\n",
    "            crs=3857\n",
    "        )\n",
    "    )\n",
    "    return dockstats_gdf"
   ]
  },
  {
   "cell_type": "code",
   "execution_count": 5,
   "metadata": {},
   "outputs": [
    {
     "data": {
      "text/html": [
       "<div>\n",
       "<style scoped>\n",
       "    .dataframe tbody tr th:only-of-type {\n",
       "        vertical-align: middle;\n",
       "    }\n",
       "\n",
       "    .dataframe tbody tr th {\n",
       "        vertical-align: top;\n",
       "    }\n",
       "\n",
       "    .dataframe thead th {\n",
       "        text-align: right;\n",
       "    }\n",
       "</style>\n",
       "<table border=\"1\" class=\"dataframe\">\n",
       "  <thead>\n",
       "    <tr style=\"text-align: right;\">\n",
       "      <th></th>\n",
       "      <th>port_name</th>\n",
       "      <th>port_lat</th>\n",
       "      <th>port_lon</th>\n",
       "      <th>vessels_avg</th>\n",
       "      <th>visits_avg</th>\n",
       "      <th>time_at_berth_median</th>\n",
       "      <th>time_at_anchor_median</th>\n",
       "      <th>time_at_anchor_mean</th>\n",
       "      <th>geometry</th>\n",
       "    </tr>\n",
       "  </thead>\n",
       "  <tbody>\n",
       "    <tr>\n",
       "      <th>0</th>\n",
       "      <td>Tacoma, WA</td>\n",
       "      <td>47.289660</td>\n",
       "      <td>-122.451500</td>\n",
       "      <td>71.683721</td>\n",
       "      <td>108.749645</td>\n",
       "      <td>23.883333</td>\n",
       "      <td>0.0</td>\n",
       "      <td>37.257579</td>\n",
       "      <td>POINT (-122.451 47.290)</td>\n",
       "    </tr>\n",
       "    <tr>\n",
       "      <th>1</th>\n",
       "      <td>Seattle, WA</td>\n",
       "      <td>47.587711</td>\n",
       "      <td>-122.359218</td>\n",
       "      <td>55.838046</td>\n",
       "      <td>76.483831</td>\n",
       "      <td>28.991667</td>\n",
       "      <td>0.0</td>\n",
       "      <td>56.510983</td>\n",
       "      <td>POINT (-122.359 47.588)</td>\n",
       "    </tr>\n",
       "  </tbody>\n",
       "</table>\n",
       "</div>"
      ],
      "text/plain": [
       "     port_name   port_lat    port_lon  vessels_avg  visits_avg  \\\n",
       "0   Tacoma, WA  47.289660 -122.451500    71.683721  108.749645   \n",
       "1  Seattle, WA  47.587711 -122.359218    55.838046   76.483831   \n",
       "\n",
       "   time_at_berth_median  time_at_anchor_median  time_at_anchor_mean  \\\n",
       "0             23.883333                    0.0            37.257579   \n",
       "1             28.991667                    0.0            56.510983   \n",
       "\n",
       "                  geometry  \n",
       "0  POINT (-122.451 47.290)  \n",
       "1  POINT (-122.359 47.588)  "
      ]
     },
     "execution_count": 5,
     "metadata": {},
     "output_type": "execute_result"
    }
   ],
   "source": [
    "#generate stats for each member port\n",
    "portstats_df = port_stats(main_df)\n",
    "#inspect\n",
    "portstats_df"
   ]
  },
  {
   "cell_type": "code",
   "execution_count": 6,
   "metadata": {},
   "outputs": [
    {
     "data": {
      "text/html": [
       "<div>\n",
       "<style scoped>\n",
       "    .dataframe tbody tr th:only-of-type {\n",
       "        vertical-align: middle;\n",
       "    }\n",
       "\n",
       "    .dataframe tbody tr th {\n",
       "        vertical-align: top;\n",
       "    }\n",
       "\n",
       "    .dataframe thead th {\n",
       "        text-align: right;\n",
       "    }\n",
       "</style>\n",
       "<table border=\"1\" class=\"dataframe\">\n",
       "  <thead>\n",
       "    <tr style=\"text-align: right;\">\n",
       "      <th></th>\n",
       "      <th>port_name</th>\n",
       "      <th>vessels_avg</th>\n",
       "      <th>visits_avg</th>\n",
       "      <th>time_at_berth_median</th>\n",
       "      <th>time_at_anchor_median</th>\n",
       "      <th>time_at_anchor_mean</th>\n",
       "    </tr>\n",
       "  </thead>\n",
       "  <tbody>\n",
       "    <tr>\n",
       "      <th>0</th>\n",
       "      <td>NW Seaport Alliance</td>\n",
       "      <td>125.124321</td>\n",
       "      <td>181.365329</td>\n",
       "      <td>25.516667</td>\n",
       "      <td>0.0</td>\n",
       "      <td>45.833337</td>\n",
       "    </tr>\n",
       "  </tbody>\n",
       "</table>\n",
       "</div>"
      ],
      "text/plain": [
       "             port_name  vessels_avg  visits_avg  time_at_berth_median  \\\n",
       "0  NW Seaport Alliance   125.124321  181.365329             25.516667   \n",
       "\n",
       "   time_at_anchor_median  time_at_anchor_mean  \n",
       "0                    0.0            45.833337  "
      ]
     },
     "execution_count": 6,
     "metadata": {},
     "output_type": "execute_result"
    }
   ],
   "source": [
    "#get combined stats for NW Port Alliance\n",
    "nwpa_stats = (\n",
    "    #drop port name\n",
    "    main_df.drop('port_name')\n",
    "    #create new port name\n",
    "    .with_columns(port_name = pl.lit('NW Seaport Alliance'))\n",
    ")\n",
    "#get stats\n",
    "nwpa_stats = port_stats(nwpa_stats).drop(['port_lat', 'port_lon', 'geometry'], axis=1)\n",
    "#inspect\n",
    "nwpa_stats"
   ]
  },
  {
   "cell_type": "code",
   "execution_count": 7,
   "metadata": {},
   "outputs": [],
   "source": [
    "dockstats_df = dock_stats(main_df)"
   ]
  },
  {
   "cell_type": "code",
   "execution_count": 19,
   "metadata": {},
   "outputs": [
    {
     "data": {
      "application/vnd.plotly.v1+json": {
       "config": {
        "plotlyServerURL": "https://plot.ly"
       },
       "data": [
        {
         "hovertemplate": "<b>%{hovertext}</b><br><br>visits_avg=%{marker.size}<br>dock_lat=%{lat}<br>dock_lon=%{lon}<br>Median Hours at Berth=%{marker.color}<extra></extra>",
         "hovertext": [
          "0Z63",
          "0R54",
          "0T1T",
          "0THA",
          "0TJG",
          "0UNU",
          "01CX",
          "0UP1",
          "0R5T",
          "0UT9",
          "0ZQD",
          "0UN8",
          "0YVY",
          "0UNW",
          "0R9U",
          "0UMW",
          "0ZF3",
          "016F",
          "0UNV",
          "0UFK",
          "0YLX",
          "0UMV",
          "0UFM",
          "0UPC",
          "0T7T",
          "0UPK",
          "0T1S",
          "0UMS",
          "01RK",
          "0UFJ",
          "0UGZ",
          "0UNA",
          "016R",
          "016L",
          "0UNT",
          "016P",
          "nan",
          "0UH0",
          "0UPD",
          "0T5L",
          "0UGU",
          "0ZPU",
          "0170",
          "0UF1",
          "0UGF",
          "0TH8",
          "0UGC",
          "0UFH",
          "0T7U",
          "0UFL",
          "0UGH",
          "0T6H",
          "0UN9",
          "0ZPT",
          "0T1U",
          "0UEJ",
          "0YZL",
          "016S"
         ],
         "lat": [
          47.26250000000002,
          47.57957300000006,
          47.56277800000002,
          47.584444000000076,
          47.58777800000005,
          47.58294300000004,
          47.277566000000064,
          47.57388900000004,
          47.58703100000008,
          47.26638900000007,
          47.573056000000044,
          47.59000000000004,
          47.27444400000006,
          47.59000000000004,
          47.27639000000003,
          47.626389000000046,
          47.26805600000005,
          47.625111000000054,
          47.58944400000007,
          47.256944000000004,
          47.280556000000054,
          47.623333000000066,
          47.26194400000006,
          47.59222200000002,
          47.27250000000007,
          47.54888900000003,
          47.555278000000065,
          47.5825,
          47.299341000000034,
          47.259722000000096,
          47.26777800000007,
          47.57611099999999,
          47.59927000000006,
          47.574757000000055,
          47.57555600000006,
          47.587536000000064,
          null,
          47.269444000000064,
          47.59666700000011,
          47.26638900000007,
          47.27777800000005,
          47.54833300000005,
          47.583046000000095,
          47.276667000000046,
          47.27166700000004,
          47.58666700000006,
          47.26861100000011,
          47.271111000000076,
          47.27638900000006,
          47.25388900000006,
          47.25833300000004,
          47.55388900000005,
          47.58355700000003,
          47.55222200000004,
          47.565000000000026,
          47.57694400000004,
          47.267500000000034,
          47.59370500000003
         ],
         "legendgroup": "",
         "lon": [
          -122.38971999999973,
          -122.3416989999996,
          -122.34860999999982,
          -122.35832999999973,
          -122.35137999999984,
          -122.34292999999988,
          -122.43066599999955,
          -122.3588800000003,
          -122.356476,
          -122.44304999999966,
          -122.3438800000003,
          -122.34972,
          -122.40499999999953,
          -122.34193999999975,
          -122.41277999999978,
          -122.37999999999981,
          -122.36887999999999,
          -122.37067699999952,
          -122.34304999999992,
          -122.38333000000034,
          -122.41361000000015,
          -122.3700000000001,
          -122.38472000000031,
          -122.34250000000027,
          -122.40582999999992,
          -122.34026999999998,
          -122.34500000000041,
          -122.35832999999973,
          -122.50258700000003,
          -122.38443999999961,
          -122.41388000000005,
          -122.34582999999986,
          -122.35740000000007,
          -122.34607699999965,
          -122.34304999999992,
          -122.34255300000014,
          null,
          -122.41611000000032,
          -122.34111000000027,
          -122.39722000000017,
          -122.39861000000015,
          -122.3400000000001,
          -122.36105000000013,
          -122.38611000000029,
          -122.4005499999998,
          -122.35832999999973,
          -122.3958300000002,
          -122.41832999999976,
          -122.41276999999985,
          -122.37833000000003,
          -122.43416000000013,
          -122.34304999999992,
          -122.34612900000035,
          -122.34250000000027,
          -122.3488799999997,
          -122.36137999999956,
          -122.41611000000032,
          -122.3525560000001
         ],
         "marker": {
          "color": [
           49.1,
           19.95,
           91.01666666666667,
           23.433333333333334,
           9.316666666666666,
           20.891666666666666,
           37.416666666666664,
           21.075,
           289.84166666666664,
           77.825,
           66.55833333333334,
           20.358333333333334,
           9.666666666666666,
           50.86666666666667,
           67.96666666666667,
           83.93333333333334,
           125.58333333333333,
           84.36666666666666,
           35.75,
           15.5,
           801.75,
           91.03333333333333,
           16.28333333333333,
           47.958333333333336,
           71.15833333333333,
           319.89166666666665,
           8.633333333333333,
           16.7,
           0.06666666666666667,
           15.016666666666666,
           23.541666666666668,
           1.025,
           246.25,
           69.68333333333334,
           146.43333333333334,
           35.666666666666664,
           22.9,
           21.8,
           49.75,
           58.84166666666667,
           0.6833333333333333,
           244.15,
           39.083333333333336,
           50.25,
           32.766666666666666,
           47.2,
           23.266666666666666,
           20.333333333333332,
           60.75,
           40.825,
           2.55,
           59.166666666666664,
           35.49166666666667,
           93.4,
           120.85,
           30.275,
           23.85,
           1.3
          ],
          "coloraxis": "coloraxis",
          "size": [
           16.296296296296298,
           17.646932185145317,
           1.2857142857142858,
           1,
           1,
           25.73177842565598,
           1,
           1,
           1,
           13.509948834565094,
           1,
           1,
           12.105573770491803,
           1,
           1.4761904761904763,
           1.25,
           2.556851311953353,
           6.673534072900159,
           1.4761904761904763,
           8.342465753424657,
           1.75,
           7.532311062431544,
           11.732244897959184,
           4.766467065868263,
           10.223826714801444,
           1,
           1,
           1.0714285714285714,
           1,
           14.202898550724637,
           3.193798449612403,
           22.27298050139276,
           1,
           1.3333333333333333,
           1,
           9.730133752950433,
           2.7142857142857144,
           7.700934579439252,
           3.8114754098360657,
           2.0539419087136928,
           1,
           3.3491124260355027,
           4.890625,
           1.5135135135135136,
           1,
           1,
           1.7028571428571428,
           11.714285714285714,
           7.496021220159151,
           6.577060931899641,
           3,
           3.128,
           16.668639053254438,
           1,
           1,
           6.331958762886598,
           10.67536704730832,
           1
          ],
          "sizemode": "area",
          "sizeref": 0.06432944606413994
         },
         "mode": "markers",
         "name": "",
         "showlegend": false,
         "subplot": "mapbox",
         "type": "scattermapbox"
        }
       ],
       "layout": {
        "annotations": [
         {
          "align": "left",
          "font": {
           "color": "black",
           "size": 14
          },
          "showarrow": false,
          "text": "Note: Circle size corresponds to average vessel visits per month since 2018",
          "x": 0,
          "xref": "paper",
          "y": -0.05,
          "yref": "paper"
         }
        ],
        "coloraxis": {
         "cmax": 50,
         "cmin": 0,
         "colorbar": {
          "title": {
           "text": "Median Hours at Berth"
          }
         },
         "colorscale": [
          [
           0,
           "#440154"
          ],
          [
           0.1111111111111111,
           "#482878"
          ],
          [
           0.2222222222222222,
           "#3e4989"
          ],
          [
           0.3333333333333333,
           "#31688e"
          ],
          [
           0.4444444444444444,
           "#26828e"
          ],
          [
           0.5555555555555556,
           "#1f9e89"
          ],
          [
           0.6666666666666666,
           "#35b779"
          ],
          [
           0.7777777777777778,
           "#6ece58"
          ],
          [
           0.8888888888888888,
           "#b5de2b"
          ],
          [
           1,
           "#fde725"
          ]
         ]
        },
        "height": 1000,
        "legend": {
         "itemsizing": "constant",
         "tracegroupgap": 0
        },
        "mapbox": {
         "center": {
          "lat": 47.45069870175443,
          "lon": -122.37484543859647
         },
         "domain": {
          "x": [
           0,
           1
          ],
          "y": [
           0,
           1
          ]
         },
         "style": "carto-positron",
         "zoom": 9.7
        },
        "template": {
         "data": {
          "bar": [
           {
            "error_x": {
             "color": "#2a3f5f"
            },
            "error_y": {
             "color": "#2a3f5f"
            },
            "marker": {
             "line": {
              "color": "#E5ECF6",
              "width": 0.5
             },
             "pattern": {
              "fillmode": "overlay",
              "size": 10,
              "solidity": 0.2
             }
            },
            "type": "bar"
           }
          ],
          "barpolar": [
           {
            "marker": {
             "line": {
              "color": "#E5ECF6",
              "width": 0.5
             },
             "pattern": {
              "fillmode": "overlay",
              "size": 10,
              "solidity": 0.2
             }
            },
            "type": "barpolar"
           }
          ],
          "carpet": [
           {
            "aaxis": {
             "endlinecolor": "#2a3f5f",
             "gridcolor": "white",
             "linecolor": "white",
             "minorgridcolor": "white",
             "startlinecolor": "#2a3f5f"
            },
            "baxis": {
             "endlinecolor": "#2a3f5f",
             "gridcolor": "white",
             "linecolor": "white",
             "minorgridcolor": "white",
             "startlinecolor": "#2a3f5f"
            },
            "type": "carpet"
           }
          ],
          "choropleth": [
           {
            "colorbar": {
             "outlinewidth": 0,
             "ticks": ""
            },
            "type": "choropleth"
           }
          ],
          "contour": [
           {
            "colorbar": {
             "outlinewidth": 0,
             "ticks": ""
            },
            "colorscale": [
             [
              0,
              "#0d0887"
             ],
             [
              0.1111111111111111,
              "#46039f"
             ],
             [
              0.2222222222222222,
              "#7201a8"
             ],
             [
              0.3333333333333333,
              "#9c179e"
             ],
             [
              0.4444444444444444,
              "#bd3786"
             ],
             [
              0.5555555555555556,
              "#d8576b"
             ],
             [
              0.6666666666666666,
              "#ed7953"
             ],
             [
              0.7777777777777778,
              "#fb9f3a"
             ],
             [
              0.8888888888888888,
              "#fdca26"
             ],
             [
              1,
              "#f0f921"
             ]
            ],
            "type": "contour"
           }
          ],
          "contourcarpet": [
           {
            "colorbar": {
             "outlinewidth": 0,
             "ticks": ""
            },
            "type": "contourcarpet"
           }
          ],
          "heatmap": [
           {
            "colorbar": {
             "outlinewidth": 0,
             "ticks": ""
            },
            "colorscale": [
             [
              0,
              "#0d0887"
             ],
             [
              0.1111111111111111,
              "#46039f"
             ],
             [
              0.2222222222222222,
              "#7201a8"
             ],
             [
              0.3333333333333333,
              "#9c179e"
             ],
             [
              0.4444444444444444,
              "#bd3786"
             ],
             [
              0.5555555555555556,
              "#d8576b"
             ],
             [
              0.6666666666666666,
              "#ed7953"
             ],
             [
              0.7777777777777778,
              "#fb9f3a"
             ],
             [
              0.8888888888888888,
              "#fdca26"
             ],
             [
              1,
              "#f0f921"
             ]
            ],
            "type": "heatmap"
           }
          ],
          "heatmapgl": [
           {
            "colorbar": {
             "outlinewidth": 0,
             "ticks": ""
            },
            "colorscale": [
             [
              0,
              "#0d0887"
             ],
             [
              0.1111111111111111,
              "#46039f"
             ],
             [
              0.2222222222222222,
              "#7201a8"
             ],
             [
              0.3333333333333333,
              "#9c179e"
             ],
             [
              0.4444444444444444,
              "#bd3786"
             ],
             [
              0.5555555555555556,
              "#d8576b"
             ],
             [
              0.6666666666666666,
              "#ed7953"
             ],
             [
              0.7777777777777778,
              "#fb9f3a"
             ],
             [
              0.8888888888888888,
              "#fdca26"
             ],
             [
              1,
              "#f0f921"
             ]
            ],
            "type": "heatmapgl"
           }
          ],
          "histogram": [
           {
            "marker": {
             "pattern": {
              "fillmode": "overlay",
              "size": 10,
              "solidity": 0.2
             }
            },
            "type": "histogram"
           }
          ],
          "histogram2d": [
           {
            "colorbar": {
             "outlinewidth": 0,
             "ticks": ""
            },
            "colorscale": [
             [
              0,
              "#0d0887"
             ],
             [
              0.1111111111111111,
              "#46039f"
             ],
             [
              0.2222222222222222,
              "#7201a8"
             ],
             [
              0.3333333333333333,
              "#9c179e"
             ],
             [
              0.4444444444444444,
              "#bd3786"
             ],
             [
              0.5555555555555556,
              "#d8576b"
             ],
             [
              0.6666666666666666,
              "#ed7953"
             ],
             [
              0.7777777777777778,
              "#fb9f3a"
             ],
             [
              0.8888888888888888,
              "#fdca26"
             ],
             [
              1,
              "#f0f921"
             ]
            ],
            "type": "histogram2d"
           }
          ],
          "histogram2dcontour": [
           {
            "colorbar": {
             "outlinewidth": 0,
             "ticks": ""
            },
            "colorscale": [
             [
              0,
              "#0d0887"
             ],
             [
              0.1111111111111111,
              "#46039f"
             ],
             [
              0.2222222222222222,
              "#7201a8"
             ],
             [
              0.3333333333333333,
              "#9c179e"
             ],
             [
              0.4444444444444444,
              "#bd3786"
             ],
             [
              0.5555555555555556,
              "#d8576b"
             ],
             [
              0.6666666666666666,
              "#ed7953"
             ],
             [
              0.7777777777777778,
              "#fb9f3a"
             ],
             [
              0.8888888888888888,
              "#fdca26"
             ],
             [
              1,
              "#f0f921"
             ]
            ],
            "type": "histogram2dcontour"
           }
          ],
          "mesh3d": [
           {
            "colorbar": {
             "outlinewidth": 0,
             "ticks": ""
            },
            "type": "mesh3d"
           }
          ],
          "parcoords": [
           {
            "line": {
             "colorbar": {
              "outlinewidth": 0,
              "ticks": ""
             }
            },
            "type": "parcoords"
           }
          ],
          "pie": [
           {
            "automargin": true,
            "type": "pie"
           }
          ],
          "scatter": [
           {
            "fillpattern": {
             "fillmode": "overlay",
             "size": 10,
             "solidity": 0.2
            },
            "type": "scatter"
           }
          ],
          "scatter3d": [
           {
            "line": {
             "colorbar": {
              "outlinewidth": 0,
              "ticks": ""
             }
            },
            "marker": {
             "colorbar": {
              "outlinewidth": 0,
              "ticks": ""
             }
            },
            "type": "scatter3d"
           }
          ],
          "scattercarpet": [
           {
            "marker": {
             "colorbar": {
              "outlinewidth": 0,
              "ticks": ""
             }
            },
            "type": "scattercarpet"
           }
          ],
          "scattergeo": [
           {
            "marker": {
             "colorbar": {
              "outlinewidth": 0,
              "ticks": ""
             }
            },
            "type": "scattergeo"
           }
          ],
          "scattergl": [
           {
            "marker": {
             "colorbar": {
              "outlinewidth": 0,
              "ticks": ""
             }
            },
            "type": "scattergl"
           }
          ],
          "scattermapbox": [
           {
            "marker": {
             "colorbar": {
              "outlinewidth": 0,
              "ticks": ""
             }
            },
            "type": "scattermapbox"
           }
          ],
          "scatterpolar": [
           {
            "marker": {
             "colorbar": {
              "outlinewidth": 0,
              "ticks": ""
             }
            },
            "type": "scatterpolar"
           }
          ],
          "scatterpolargl": [
           {
            "marker": {
             "colorbar": {
              "outlinewidth": 0,
              "ticks": ""
             }
            },
            "type": "scatterpolargl"
           }
          ],
          "scatterternary": [
           {
            "marker": {
             "colorbar": {
              "outlinewidth": 0,
              "ticks": ""
             }
            },
            "type": "scatterternary"
           }
          ],
          "surface": [
           {
            "colorbar": {
             "outlinewidth": 0,
             "ticks": ""
            },
            "colorscale": [
             [
              0,
              "#0d0887"
             ],
             [
              0.1111111111111111,
              "#46039f"
             ],
             [
              0.2222222222222222,
              "#7201a8"
             ],
             [
              0.3333333333333333,
              "#9c179e"
             ],
             [
              0.4444444444444444,
              "#bd3786"
             ],
             [
              0.5555555555555556,
              "#d8576b"
             ],
             [
              0.6666666666666666,
              "#ed7953"
             ],
             [
              0.7777777777777778,
              "#fb9f3a"
             ],
             [
              0.8888888888888888,
              "#fdca26"
             ],
             [
              1,
              "#f0f921"
             ]
            ],
            "type": "surface"
           }
          ],
          "table": [
           {
            "cells": {
             "fill": {
              "color": "#EBF0F8"
             },
             "line": {
              "color": "white"
             }
            },
            "header": {
             "fill": {
              "color": "#C8D4E3"
             },
             "line": {
              "color": "white"
             }
            },
            "type": "table"
           }
          ]
         },
         "layout": {
          "annotationdefaults": {
           "arrowcolor": "#2a3f5f",
           "arrowhead": 0,
           "arrowwidth": 1
          },
          "autotypenumbers": "strict",
          "coloraxis": {
           "colorbar": {
            "outlinewidth": 0,
            "ticks": ""
           }
          },
          "colorscale": {
           "diverging": [
            [
             0,
             "#8e0152"
            ],
            [
             0.1,
             "#c51b7d"
            ],
            [
             0.2,
             "#de77ae"
            ],
            [
             0.3,
             "#f1b6da"
            ],
            [
             0.4,
             "#fde0ef"
            ],
            [
             0.5,
             "#f7f7f7"
            ],
            [
             0.6,
             "#e6f5d0"
            ],
            [
             0.7,
             "#b8e186"
            ],
            [
             0.8,
             "#7fbc41"
            ],
            [
             0.9,
             "#4d9221"
            ],
            [
             1,
             "#276419"
            ]
           ],
           "sequential": [
            [
             0,
             "#0d0887"
            ],
            [
             0.1111111111111111,
             "#46039f"
            ],
            [
             0.2222222222222222,
             "#7201a8"
            ],
            [
             0.3333333333333333,
             "#9c179e"
            ],
            [
             0.4444444444444444,
             "#bd3786"
            ],
            [
             0.5555555555555556,
             "#d8576b"
            ],
            [
             0.6666666666666666,
             "#ed7953"
            ],
            [
             0.7777777777777778,
             "#fb9f3a"
            ],
            [
             0.8888888888888888,
             "#fdca26"
            ],
            [
             1,
             "#f0f921"
            ]
           ],
           "sequentialminus": [
            [
             0,
             "#0d0887"
            ],
            [
             0.1111111111111111,
             "#46039f"
            ],
            [
             0.2222222222222222,
             "#7201a8"
            ],
            [
             0.3333333333333333,
             "#9c179e"
            ],
            [
             0.4444444444444444,
             "#bd3786"
            ],
            [
             0.5555555555555556,
             "#d8576b"
            ],
            [
             0.6666666666666666,
             "#ed7953"
            ],
            [
             0.7777777777777778,
             "#fb9f3a"
            ],
            [
             0.8888888888888888,
             "#fdca26"
            ],
            [
             1,
             "#f0f921"
            ]
           ]
          },
          "colorway": [
           "#636efa",
           "#EF553B",
           "#00cc96",
           "#ab63fa",
           "#FFA15A",
           "#19d3f3",
           "#FF6692",
           "#B6E880",
           "#FF97FF",
           "#FECB52"
          ],
          "font": {
           "color": "#2a3f5f"
          },
          "geo": {
           "bgcolor": "white",
           "lakecolor": "white",
           "landcolor": "#E5ECF6",
           "showlakes": true,
           "showland": true,
           "subunitcolor": "white"
          },
          "hoverlabel": {
           "align": "left"
          },
          "hovermode": "closest",
          "mapbox": {
           "style": "light"
          },
          "paper_bgcolor": "white",
          "plot_bgcolor": "#E5ECF6",
          "polar": {
           "angularaxis": {
            "gridcolor": "white",
            "linecolor": "white",
            "ticks": ""
           },
           "bgcolor": "#E5ECF6",
           "radialaxis": {
            "gridcolor": "white",
            "linecolor": "white",
            "ticks": ""
           }
          },
          "scene": {
           "xaxis": {
            "backgroundcolor": "#E5ECF6",
            "gridcolor": "white",
            "gridwidth": 2,
            "linecolor": "white",
            "showbackground": true,
            "ticks": "",
            "zerolinecolor": "white"
           },
           "yaxis": {
            "backgroundcolor": "#E5ECF6",
            "gridcolor": "white",
            "gridwidth": 2,
            "linecolor": "white",
            "showbackground": true,
            "ticks": "",
            "zerolinecolor": "white"
           },
           "zaxis": {
            "backgroundcolor": "#E5ECF6",
            "gridcolor": "white",
            "gridwidth": 2,
            "linecolor": "white",
            "showbackground": true,
            "ticks": "",
            "zerolinecolor": "white"
           }
          },
          "shapedefaults": {
           "line": {
            "color": "#2a3f5f"
           }
          },
          "ternary": {
           "aaxis": {
            "gridcolor": "white",
            "linecolor": "white",
            "ticks": ""
           },
           "baxis": {
            "gridcolor": "white",
            "linecolor": "white",
            "ticks": ""
           },
           "bgcolor": "#E5ECF6",
           "caxis": {
            "gridcolor": "white",
            "linecolor": "white",
            "ticks": ""
           }
          },
          "title": {
           "x": 0.05
          },
          "xaxis": {
           "automargin": true,
           "gridcolor": "white",
           "linecolor": "white",
           "ticks": "",
           "title": {
            "standoff": 15
           },
           "zerolinecolor": "white",
           "zerolinewidth": 2
          },
          "yaxis": {
           "automargin": true,
           "gridcolor": "white",
           "linecolor": "white",
           "ticks": "",
           "title": {
            "standoff": 15
           },
           "zerolinecolor": "white",
           "zerolinewidth": 2
          }
         }
        },
        "title": {
         "text": "Average Visits per Month & Mean Hours at Berth"
        },
        "width": 800
       }
      }
     },
     "metadata": {},
     "output_type": "display_data"
    }
   ],
   "source": [
    "# Example: Mapbox version of your scatter_geo map\n",
    "fig2 = px.scatter_mapbox(\n",
    "    dockstats_df,\n",
    "    lon='dock_lon',\n",
    "    lat='dock_lat',\n",
    "    size='visits_avg',\n",
    "    color='time_at_berth_median',\n",
    "    range_color=[0, 50],\n",
    "    hover_name='dock_id',\n",
    "    size_max=20,\n",
    "    title='Average Visits per Month & Mean Hours at Berth',\n",
    "    color_continuous_scale=px.colors.sequential.Viridis,\n",
    "    labels={'time_at_berth_median': 'Median Hours at Berth'},\n",
    "    height=1000, width=800\n",
    ")\n",
    "\n",
    "# Set Mapbox style\n",
    "fig2.update_layout(\n",
    "    mapbox_style=\"carto-positron\", \n",
    "    mapbox_zoom=9.7, \n",
    "    mapbox_center={\"lat\": dockstats_df['dock_lat'].mean(), \n",
    "                   \"lon\": dockstats_df['dock_lon'].mean()},\n",
    ")\n",
    "\n",
    "# Add footnote using add_annotation\n",
    "fig2.add_annotation(\n",
    "    text=\"Note: Circle size corresponds to average vessel visits per month since 2018\",\n",
    "    xref=\"paper\", yref=\"paper\",\n",
    "    x=0, y=-0.05,\n",
    "    showarrow=False,\n",
    "    font=dict(size=14, color=\"black\"),\n",
    "    align=\"left\"\n",
    ")\n",
    "\n",
    "fig2.show()"
   ]
  },
  {
   "cell_type": "code",
   "execution_count": 65,
   "metadata": {},
   "outputs": [
    {
     "data": {
      "application/vnd.plotly.v1+json": {
       "config": {
        "plotlyServerURL": "https://plot.ly"
       },
       "data": [
        {
         "hovertemplate": "<b>%{hovertext}</b><br><br>visits_avg=%{marker.size}<br>dock_lat=%{lat}<br>dock_lon=%{lon}<br>Mean Hours at Anchor=%{marker.color}<extra></extra>",
         "hovertext": [
          "0UFL",
          "0TH8",
          "0UP1",
          "0UH0",
          "0YZL",
          "0ZF3",
          "0UT9",
          "0UNV",
          "0UN8",
          "0UFJ",
          "0T7U",
          "0UMV",
          "016P",
          "01CX",
          "0UPK",
          "016F",
          "0T1T",
          "nan",
          "0ZPU",
          "0UEJ",
          "0UFK",
          "0ZPT",
          "0UNA",
          "0TJG",
          "0ZQD",
          "0UNW",
          "0T6H",
          "016S",
          "0UGU",
          "0UFH",
          "0UMW",
          "0R5T",
          "0R54",
          "0T1U",
          "0UNU",
          "0UGF",
          "0UGH",
          "0T5L",
          "0UN9",
          "0UPC",
          "0THA",
          "0Z63",
          "016L",
          "0UMS",
          "0T1S",
          "0UNT",
          "0YVY",
          "0UGZ",
          "0YLX",
          "0170",
          "0UFM",
          "0UGC",
          "0UPD",
          "0UF1",
          "016R",
          "0T7T",
          "01RK",
          "0R9U"
         ],
         "lat": [
          47.25388900000006,
          47.58666700000006,
          47.57388900000004,
          47.269444000000064,
          47.267500000000034,
          47.26805600000005,
          47.26638900000007,
          47.58944400000007,
          47.59000000000004,
          47.259722000000096,
          47.27638900000006,
          47.623333000000066,
          47.587536000000064,
          47.277566000000064,
          47.54888900000003,
          47.625111000000054,
          47.56277800000002,
          null,
          47.54833300000005,
          47.57694400000004,
          47.256944000000004,
          47.55222200000004,
          47.57611099999999,
          47.58777800000005,
          47.573056000000044,
          47.59000000000004,
          47.55388900000005,
          47.59370500000003,
          47.27777800000005,
          47.271111000000076,
          47.626389000000046,
          47.58703100000008,
          47.57957300000006,
          47.565000000000026,
          47.58294300000004,
          47.27166700000004,
          47.25833300000004,
          47.26638900000007,
          47.58355700000003,
          47.59222200000002,
          47.584444000000076,
          47.26250000000002,
          47.574757000000055,
          47.5825,
          47.555278000000065,
          47.57555600000006,
          47.27444400000006,
          47.26777800000007,
          47.280556000000054,
          47.583046000000095,
          47.26194400000006,
          47.26861100000011,
          47.59666700000011,
          47.276667000000046,
          47.59927000000006,
          47.27250000000007,
          47.299341000000034,
          47.27639000000003
         ],
         "legendgroup": "",
         "lon": [
          -122.37833000000003,
          -122.35832999999973,
          -122.3588800000003,
          -122.41611000000032,
          -122.41611000000032,
          -122.36887999999999,
          -122.44304999999966,
          -122.34304999999992,
          -122.34972,
          -122.38443999999961,
          -122.41276999999985,
          -122.3700000000001,
          -122.34255300000014,
          -122.43066599999955,
          -122.34026999999998,
          -122.37067699999952,
          -122.34860999999982,
          null,
          -122.3400000000001,
          -122.36137999999956,
          -122.38333000000034,
          -122.34250000000027,
          -122.34582999999986,
          -122.35137999999984,
          -122.3438800000003,
          -122.34193999999975,
          -122.34304999999992,
          -122.3525560000001,
          -122.39861000000015,
          -122.41832999999976,
          -122.37999999999981,
          -122.356476,
          -122.3416989999996,
          -122.3488799999997,
          -122.34292999999988,
          -122.4005499999998,
          -122.43416000000013,
          -122.39722000000017,
          -122.34612900000035,
          -122.34250000000027,
          -122.35832999999973,
          -122.38971999999973,
          -122.34607699999965,
          -122.35832999999973,
          -122.34500000000041,
          -122.34304999999992,
          -122.40499999999953,
          -122.41388000000005,
          -122.41361000000015,
          -122.36105000000013,
          -122.38472000000031,
          -122.3958300000002,
          -122.34111000000027,
          -122.38611000000029,
          -122.35740000000007,
          -122.40582999999992,
          -122.50258700000003,
          -122.41277999999978
         ],
         "marker": {
          "color": [
           4.10221027479092,
           0,
           0,
           4.101947040498442,
           0.1813757476889614,
           65.00651117589892,
           208.21173962478682,
           13.587037037037035,
           22.279999999999998,
           23.99980446284794,
           13.928647214854111,
           239.32898868200073,
           45.116404405979544,
           0,
           145.1111111111111,
           130.33761225567883,
           3.2412698412698413,
           39.985238095238095,
           252.59679487179486,
           12.474604810996563,
           11.652054794520549,
           0,
           4.516434540389972,
           29.866666666666667,
           34.55555555555556,
           0,
           41.55524444444444,
           50.675,
           0,
           7.434641948382406,
           389.465625,
           34.975,
           35.33556691783279,
           5.525,
           10.201665972511453,
           0,
           0,
           17.128215767634856,
           32.81443428366505,
           13.01576846307385,
           0,
           8.347817973011772,
           5.8533333333333335,
           12.78452380952381,
           76.2574074074074,
           0,
           4.240546448087431,
           12.110981912144702,
           0,
           15.858203125,
           16.337714285714284,
           12.744095238095237,
           34.95874316939891,
           43.17605105105105,
           0,
           18.55573606097072,
           58.666666666666664,
           5.152380952380953
          ],
          "coloraxis": "coloraxis",
          "size": [
           6.577060931899641,
           1,
           1,
           7.700934579439252,
           10.67536704730832,
           2.556851311953353,
           13.509948834565094,
           1.4761904761904763,
           1,
           14.202898550724637,
           7.496021220159151,
           7.532311062431544,
           9.730133752950433,
           1,
           1,
           6.673534072900159,
           1.2857142857142858,
           2.7142857142857144,
           3.3491124260355027,
           6.331958762886598,
           8.342465753424657,
           1,
           22.27298050139276,
           1,
           1,
           1,
           3.128,
           1,
           1,
           11.714285714285714,
           1.25,
           1,
           17.646932185145317,
           1,
           25.73177842565598,
           1,
           3,
           2.0539419087136928,
           16.668639053254438,
           4.766467065868263,
           1,
           16.296296296296298,
           1.3333333333333333,
           1.0714285714285714,
           1,
           1,
           12.105573770491803,
           3.193798449612403,
           1.75,
           4.890625,
           11.732244897959184,
           1.7028571428571428,
           3.8114754098360657,
           1.5135135135135136,
           1,
           10.223826714801444,
           1,
           1.4761904761904763
          ],
          "sizemode": "area",
          "sizeref": 0.06432944606413994
         },
         "mode": "markers",
         "name": "",
         "showlegend": false,
         "subplot": "mapbox",
         "type": "scattermapbox"
        }
       ],
       "layout": {
        "annotations": [
         {
          "align": "left",
          "font": {
           "color": "black",
           "size": 14
          },
          "showarrow": false,
          "text": "Note: Circle size corresponds to average vessel visits per month",
          "x": 0,
          "xref": "paper",
          "y": -0.05,
          "yref": "paper"
         }
        ],
        "coloraxis": {
         "cmax": 50,
         "cmin": 0,
         "colorbar": {
          "title": {
           "text": "Mean Hours at Anchor"
          }
         },
         "colorscale": [
          [
           0,
           "#440154"
          ],
          [
           0.1111111111111111,
           "#482878"
          ],
          [
           0.2222222222222222,
           "#3e4989"
          ],
          [
           0.3333333333333333,
           "#31688e"
          ],
          [
           0.4444444444444444,
           "#26828e"
          ],
          [
           0.5555555555555556,
           "#1f9e89"
          ],
          [
           0.6666666666666666,
           "#35b779"
          ],
          [
           0.7777777777777778,
           "#6ece58"
          ],
          [
           0.8888888888888888,
           "#b5de2b"
          ],
          [
           1,
           "#fde725"
          ]
         ]
        },
        "height": 1000,
        "legend": {
         "itemsizing": "constant",
         "tracegroupgap": 0
        },
        "mapbox": {
         "center": {
          "lat": 47.45069870175443,
          "lon": -122.37484543859645
         },
         "domain": {
          "x": [
           0,
           1
          ],
          "y": [
           0,
           1
          ]
         },
         "style": "carto-positron",
         "zoom": 3
        },
        "template": {
         "data": {
          "bar": [
           {
            "error_x": {
             "color": "#2a3f5f"
            },
            "error_y": {
             "color": "#2a3f5f"
            },
            "marker": {
             "line": {
              "color": "#E5ECF6",
              "width": 0.5
             },
             "pattern": {
              "fillmode": "overlay",
              "size": 10,
              "solidity": 0.2
             }
            },
            "type": "bar"
           }
          ],
          "barpolar": [
           {
            "marker": {
             "line": {
              "color": "#E5ECF6",
              "width": 0.5
             },
             "pattern": {
              "fillmode": "overlay",
              "size": 10,
              "solidity": 0.2
             }
            },
            "type": "barpolar"
           }
          ],
          "carpet": [
           {
            "aaxis": {
             "endlinecolor": "#2a3f5f",
             "gridcolor": "white",
             "linecolor": "white",
             "minorgridcolor": "white",
             "startlinecolor": "#2a3f5f"
            },
            "baxis": {
             "endlinecolor": "#2a3f5f",
             "gridcolor": "white",
             "linecolor": "white",
             "minorgridcolor": "white",
             "startlinecolor": "#2a3f5f"
            },
            "type": "carpet"
           }
          ],
          "choropleth": [
           {
            "colorbar": {
             "outlinewidth": 0,
             "ticks": ""
            },
            "type": "choropleth"
           }
          ],
          "contour": [
           {
            "colorbar": {
             "outlinewidth": 0,
             "ticks": ""
            },
            "colorscale": [
             [
              0,
              "#0d0887"
             ],
             [
              0.1111111111111111,
              "#46039f"
             ],
             [
              0.2222222222222222,
              "#7201a8"
             ],
             [
              0.3333333333333333,
              "#9c179e"
             ],
             [
              0.4444444444444444,
              "#bd3786"
             ],
             [
              0.5555555555555556,
              "#d8576b"
             ],
             [
              0.6666666666666666,
              "#ed7953"
             ],
             [
              0.7777777777777778,
              "#fb9f3a"
             ],
             [
              0.8888888888888888,
              "#fdca26"
             ],
             [
              1,
              "#f0f921"
             ]
            ],
            "type": "contour"
           }
          ],
          "contourcarpet": [
           {
            "colorbar": {
             "outlinewidth": 0,
             "ticks": ""
            },
            "type": "contourcarpet"
           }
          ],
          "heatmap": [
           {
            "colorbar": {
             "outlinewidth": 0,
             "ticks": ""
            },
            "colorscale": [
             [
              0,
              "#0d0887"
             ],
             [
              0.1111111111111111,
              "#46039f"
             ],
             [
              0.2222222222222222,
              "#7201a8"
             ],
             [
              0.3333333333333333,
              "#9c179e"
             ],
             [
              0.4444444444444444,
              "#bd3786"
             ],
             [
              0.5555555555555556,
              "#d8576b"
             ],
             [
              0.6666666666666666,
              "#ed7953"
             ],
             [
              0.7777777777777778,
              "#fb9f3a"
             ],
             [
              0.8888888888888888,
              "#fdca26"
             ],
             [
              1,
              "#f0f921"
             ]
            ],
            "type": "heatmap"
           }
          ],
          "heatmapgl": [
           {
            "colorbar": {
             "outlinewidth": 0,
             "ticks": ""
            },
            "colorscale": [
             [
              0,
              "#0d0887"
             ],
             [
              0.1111111111111111,
              "#46039f"
             ],
             [
              0.2222222222222222,
              "#7201a8"
             ],
             [
              0.3333333333333333,
              "#9c179e"
             ],
             [
              0.4444444444444444,
              "#bd3786"
             ],
             [
              0.5555555555555556,
              "#d8576b"
             ],
             [
              0.6666666666666666,
              "#ed7953"
             ],
             [
              0.7777777777777778,
              "#fb9f3a"
             ],
             [
              0.8888888888888888,
              "#fdca26"
             ],
             [
              1,
              "#f0f921"
             ]
            ],
            "type": "heatmapgl"
           }
          ],
          "histogram": [
           {
            "marker": {
             "pattern": {
              "fillmode": "overlay",
              "size": 10,
              "solidity": 0.2
             }
            },
            "type": "histogram"
           }
          ],
          "histogram2d": [
           {
            "colorbar": {
             "outlinewidth": 0,
             "ticks": ""
            },
            "colorscale": [
             [
              0,
              "#0d0887"
             ],
             [
              0.1111111111111111,
              "#46039f"
             ],
             [
              0.2222222222222222,
              "#7201a8"
             ],
             [
              0.3333333333333333,
              "#9c179e"
             ],
             [
              0.4444444444444444,
              "#bd3786"
             ],
             [
              0.5555555555555556,
              "#d8576b"
             ],
             [
              0.6666666666666666,
              "#ed7953"
             ],
             [
              0.7777777777777778,
              "#fb9f3a"
             ],
             [
              0.8888888888888888,
              "#fdca26"
             ],
             [
              1,
              "#f0f921"
             ]
            ],
            "type": "histogram2d"
           }
          ],
          "histogram2dcontour": [
           {
            "colorbar": {
             "outlinewidth": 0,
             "ticks": ""
            },
            "colorscale": [
             [
              0,
              "#0d0887"
             ],
             [
              0.1111111111111111,
              "#46039f"
             ],
             [
              0.2222222222222222,
              "#7201a8"
             ],
             [
              0.3333333333333333,
              "#9c179e"
             ],
             [
              0.4444444444444444,
              "#bd3786"
             ],
             [
              0.5555555555555556,
              "#d8576b"
             ],
             [
              0.6666666666666666,
              "#ed7953"
             ],
             [
              0.7777777777777778,
              "#fb9f3a"
             ],
             [
              0.8888888888888888,
              "#fdca26"
             ],
             [
              1,
              "#f0f921"
             ]
            ],
            "type": "histogram2dcontour"
           }
          ],
          "mesh3d": [
           {
            "colorbar": {
             "outlinewidth": 0,
             "ticks": ""
            },
            "type": "mesh3d"
           }
          ],
          "parcoords": [
           {
            "line": {
             "colorbar": {
              "outlinewidth": 0,
              "ticks": ""
             }
            },
            "type": "parcoords"
           }
          ],
          "pie": [
           {
            "automargin": true,
            "type": "pie"
           }
          ],
          "scatter": [
           {
            "fillpattern": {
             "fillmode": "overlay",
             "size": 10,
             "solidity": 0.2
            },
            "type": "scatter"
           }
          ],
          "scatter3d": [
           {
            "line": {
             "colorbar": {
              "outlinewidth": 0,
              "ticks": ""
             }
            },
            "marker": {
             "colorbar": {
              "outlinewidth": 0,
              "ticks": ""
             }
            },
            "type": "scatter3d"
           }
          ],
          "scattercarpet": [
           {
            "marker": {
             "colorbar": {
              "outlinewidth": 0,
              "ticks": ""
             }
            },
            "type": "scattercarpet"
           }
          ],
          "scattergeo": [
           {
            "marker": {
             "colorbar": {
              "outlinewidth": 0,
              "ticks": ""
             }
            },
            "type": "scattergeo"
           }
          ],
          "scattergl": [
           {
            "marker": {
             "colorbar": {
              "outlinewidth": 0,
              "ticks": ""
             }
            },
            "type": "scattergl"
           }
          ],
          "scattermapbox": [
           {
            "marker": {
             "colorbar": {
              "outlinewidth": 0,
              "ticks": ""
             }
            },
            "type": "scattermapbox"
           }
          ],
          "scatterpolar": [
           {
            "marker": {
             "colorbar": {
              "outlinewidth": 0,
              "ticks": ""
             }
            },
            "type": "scatterpolar"
           }
          ],
          "scatterpolargl": [
           {
            "marker": {
             "colorbar": {
              "outlinewidth": 0,
              "ticks": ""
             }
            },
            "type": "scatterpolargl"
           }
          ],
          "scatterternary": [
           {
            "marker": {
             "colorbar": {
              "outlinewidth": 0,
              "ticks": ""
             }
            },
            "type": "scatterternary"
           }
          ],
          "surface": [
           {
            "colorbar": {
             "outlinewidth": 0,
             "ticks": ""
            },
            "colorscale": [
             [
              0,
              "#0d0887"
             ],
             [
              0.1111111111111111,
              "#46039f"
             ],
             [
              0.2222222222222222,
              "#7201a8"
             ],
             [
              0.3333333333333333,
              "#9c179e"
             ],
             [
              0.4444444444444444,
              "#bd3786"
             ],
             [
              0.5555555555555556,
              "#d8576b"
             ],
             [
              0.6666666666666666,
              "#ed7953"
             ],
             [
              0.7777777777777778,
              "#fb9f3a"
             ],
             [
              0.8888888888888888,
              "#fdca26"
             ],
             [
              1,
              "#f0f921"
             ]
            ],
            "type": "surface"
           }
          ],
          "table": [
           {
            "cells": {
             "fill": {
              "color": "#EBF0F8"
             },
             "line": {
              "color": "white"
             }
            },
            "header": {
             "fill": {
              "color": "#C8D4E3"
             },
             "line": {
              "color": "white"
             }
            },
            "type": "table"
           }
          ]
         },
         "layout": {
          "annotationdefaults": {
           "arrowcolor": "#2a3f5f",
           "arrowhead": 0,
           "arrowwidth": 1
          },
          "autotypenumbers": "strict",
          "coloraxis": {
           "colorbar": {
            "outlinewidth": 0,
            "ticks": ""
           }
          },
          "colorscale": {
           "diverging": [
            [
             0,
             "#8e0152"
            ],
            [
             0.1,
             "#c51b7d"
            ],
            [
             0.2,
             "#de77ae"
            ],
            [
             0.3,
             "#f1b6da"
            ],
            [
             0.4,
             "#fde0ef"
            ],
            [
             0.5,
             "#f7f7f7"
            ],
            [
             0.6,
             "#e6f5d0"
            ],
            [
             0.7,
             "#b8e186"
            ],
            [
             0.8,
             "#7fbc41"
            ],
            [
             0.9,
             "#4d9221"
            ],
            [
             1,
             "#276419"
            ]
           ],
           "sequential": [
            [
             0,
             "#0d0887"
            ],
            [
             0.1111111111111111,
             "#46039f"
            ],
            [
             0.2222222222222222,
             "#7201a8"
            ],
            [
             0.3333333333333333,
             "#9c179e"
            ],
            [
             0.4444444444444444,
             "#bd3786"
            ],
            [
             0.5555555555555556,
             "#d8576b"
            ],
            [
             0.6666666666666666,
             "#ed7953"
            ],
            [
             0.7777777777777778,
             "#fb9f3a"
            ],
            [
             0.8888888888888888,
             "#fdca26"
            ],
            [
             1,
             "#f0f921"
            ]
           ],
           "sequentialminus": [
            [
             0,
             "#0d0887"
            ],
            [
             0.1111111111111111,
             "#46039f"
            ],
            [
             0.2222222222222222,
             "#7201a8"
            ],
            [
             0.3333333333333333,
             "#9c179e"
            ],
            [
             0.4444444444444444,
             "#bd3786"
            ],
            [
             0.5555555555555556,
             "#d8576b"
            ],
            [
             0.6666666666666666,
             "#ed7953"
            ],
            [
             0.7777777777777778,
             "#fb9f3a"
            ],
            [
             0.8888888888888888,
             "#fdca26"
            ],
            [
             1,
             "#f0f921"
            ]
           ]
          },
          "colorway": [
           "#636efa",
           "#EF553B",
           "#00cc96",
           "#ab63fa",
           "#FFA15A",
           "#19d3f3",
           "#FF6692",
           "#B6E880",
           "#FF97FF",
           "#FECB52"
          ],
          "font": {
           "color": "#2a3f5f"
          },
          "geo": {
           "bgcolor": "white",
           "lakecolor": "white",
           "landcolor": "#E5ECF6",
           "showlakes": true,
           "showland": true,
           "subunitcolor": "white"
          },
          "hoverlabel": {
           "align": "left"
          },
          "hovermode": "closest",
          "mapbox": {
           "style": "light"
          },
          "paper_bgcolor": "white",
          "plot_bgcolor": "#E5ECF6",
          "polar": {
           "angularaxis": {
            "gridcolor": "white",
            "linecolor": "white",
            "ticks": ""
           },
           "bgcolor": "#E5ECF6",
           "radialaxis": {
            "gridcolor": "white",
            "linecolor": "white",
            "ticks": ""
           }
          },
          "scene": {
           "xaxis": {
            "backgroundcolor": "#E5ECF6",
            "gridcolor": "white",
            "gridwidth": 2,
            "linecolor": "white",
            "showbackground": true,
            "ticks": "",
            "zerolinecolor": "white"
           },
           "yaxis": {
            "backgroundcolor": "#E5ECF6",
            "gridcolor": "white",
            "gridwidth": 2,
            "linecolor": "white",
            "showbackground": true,
            "ticks": "",
            "zerolinecolor": "white"
           },
           "zaxis": {
            "backgroundcolor": "#E5ECF6",
            "gridcolor": "white",
            "gridwidth": 2,
            "linecolor": "white",
            "showbackground": true,
            "ticks": "",
            "zerolinecolor": "white"
           }
          },
          "shapedefaults": {
           "line": {
            "color": "#2a3f5f"
           }
          },
          "ternary": {
           "aaxis": {
            "gridcolor": "white",
            "linecolor": "white",
            "ticks": ""
           },
           "baxis": {
            "gridcolor": "white",
            "linecolor": "white",
            "ticks": ""
           },
           "bgcolor": "#E5ECF6",
           "caxis": {
            "gridcolor": "white",
            "linecolor": "white",
            "ticks": ""
           }
          },
          "title": {
           "x": 0.05
          },
          "xaxis": {
           "automargin": true,
           "gridcolor": "white",
           "linecolor": "white",
           "ticks": "",
           "title": {
            "standoff": 15
           },
           "zerolinecolor": "white",
           "zerolinewidth": 2
          },
          "yaxis": {
           "automargin": true,
           "gridcolor": "white",
           "linecolor": "white",
           "ticks": "",
           "title": {
            "standoff": 15
           },
           "zerolinecolor": "white",
           "zerolinewidth": 2
          }
         }
        },
        "title": {
         "text": "Average Visits per Month & Mean Hours at Anchor"
        },
        "width": 800
       }
      }
     },
     "metadata": {},
     "output_type": "display_data"
    }
   ],
   "source": [
    "# Example: Mapbox version of your scatter_geo map\n",
    "fig2 = px.scatter_mapbox(\n",
    "    dockstats_df,\n",
    "    lon='dock_lon',\n",
    "    lat='dock_lat',\n",
    "    size='visits_avg',\n",
    "    color='time_at_anchor_mean',\n",
    "    range_color=[0, 50],\n",
    "    hover_name='dock_id',\n",
    "    size_max=20,\n",
    "    title='Average Visits per Month & Mean Hours at Anchor',\n",
    "    color_continuous_scale=px.colors.sequential.Viridis,\n",
    "    labels={'time_at_anchor_mean': 'Mean Hours at Anchor'},\n",
    "    height=1000, width=800\n",
    ")\n",
    "\n",
    "# Set Mapbox style (e.g., 'carto-positron', 'stamen-terrain', 'open-street-map')\n",
    "fig2.update_layout(\n",
    "    mapbox_style=\"carto-positron\",  # Choose a style\n",
    "    mapbox_zoom=3,  # Adjust zoom level\n",
    "    mapbox_center={\"lat\": dockstats_df['dock_lat'].mean(), \"lon\": dockstats_df['dock_lon'].mean()},  # Center map\n",
    ")\n",
    "\n",
    "# Add footnote using add_annotation\n",
    "fig2.add_annotation(\n",
    "    text=\"Note: Circle size corresponds to average vessel visits per month\",\n",
    "    xref=\"paper\", yref=\"paper\",\n",
    "    x=0, y=-0.05,\n",
    "    showarrow=False,\n",
    "    font=dict(size=14, color=\"black\"),\n",
    "    align=\"left\"\n",
    ")\n",
    "\n",
    "fig2.show()"
   ]
  },
  {
   "cell_type": "code",
   "execution_count": 30,
   "metadata": {},
   "outputs": [
    {
     "data": {
      "application/vnd.plotly.v1+json": {
       "config": {
        "plotlyServerURL": "https://plot.ly"
       },
       "data": [
        {
         "geo": "geo",
         "hovertemplate": "<b>%{hovertext}</b><br><br>visits_avg=%{marker.size}<br>port_lat=%{lat}<br>port_lon=%{lon}<br>Median Hours at Anchor=%{marker.color}<extra></extra>",
         "hovertext": [
          "Tacoma, WA",
          "Seattle, WA"
         ],
         "lat": [
          47.28966000000003,
          47.58771099999997
         ],
         "legendgroup": "",
         "lon": [
          -122.45149999999964,
          -122.35921800000041
         ],
         "marker": {
          "color": [
           0,
           0
          ],
          "coloraxis": "coloraxis",
          "size": [
           108.83122213572996,
           76.28681211907076
          ],
          "sizemode": "area",
          "sizeref": 0.2720780553393249,
          "symbol": "circle"
         },
         "mode": "markers",
         "name": "",
         "showlegend": false,
         "type": "scattergeo"
        }
       ],
       "layout": {
        "annotations": [
         {
          "align": "left",
          "font": {
           "color": "black",
           "size": 14
          },
          "showarrow": false,
          "text": "Note: Circle size corresponds to average vessel visits per month",
          "x": 0,
          "xref": "paper",
          "y": -0.05,
          "yref": "paper"
         }
        ],
        "coloraxis": {
         "cmax": 50,
         "cmin": 0,
         "colorbar": {
          "title": {
           "text": "Median Hours at Anchor"
          }
         },
         "colorscale": [
          [
           0,
           "#440154"
          ],
          [
           0.1111111111111111,
           "#482878"
          ],
          [
           0.2222222222222222,
           "#3e4989"
          ],
          [
           0.3333333333333333,
           "#31688e"
          ],
          [
           0.4444444444444444,
           "#26828e"
          ],
          [
           0.5555555555555556,
           "#1f9e89"
          ],
          [
           0.6666666666666666,
           "#35b779"
          ],
          [
           0.7777777777777778,
           "#6ece58"
          ],
          [
           0.8888888888888888,
           "#b5de2b"
          ],
          [
           1,
           "#fde725"
          ]
         ]
        },
        "geo": {
         "center": {},
         "domain": {
          "x": [
           0,
           1
          ],
          "y": [
           0,
           1
          ]
         },
         "fitbounds": "locations"
        },
        "legend": {
         "itemsizing": "constant",
         "tracegroupgap": 0
        },
        "template": {
         "data": {
          "bar": [
           {
            "error_x": {
             "color": "#2a3f5f"
            },
            "error_y": {
             "color": "#2a3f5f"
            },
            "marker": {
             "line": {
              "color": "#E5ECF6",
              "width": 0.5
             },
             "pattern": {
              "fillmode": "overlay",
              "size": 10,
              "solidity": 0.2
             }
            },
            "type": "bar"
           }
          ],
          "barpolar": [
           {
            "marker": {
             "line": {
              "color": "#E5ECF6",
              "width": 0.5
             },
             "pattern": {
              "fillmode": "overlay",
              "size": 10,
              "solidity": 0.2
             }
            },
            "type": "barpolar"
           }
          ],
          "carpet": [
           {
            "aaxis": {
             "endlinecolor": "#2a3f5f",
             "gridcolor": "white",
             "linecolor": "white",
             "minorgridcolor": "white",
             "startlinecolor": "#2a3f5f"
            },
            "baxis": {
             "endlinecolor": "#2a3f5f",
             "gridcolor": "white",
             "linecolor": "white",
             "minorgridcolor": "white",
             "startlinecolor": "#2a3f5f"
            },
            "type": "carpet"
           }
          ],
          "choropleth": [
           {
            "colorbar": {
             "outlinewidth": 0,
             "ticks": ""
            },
            "type": "choropleth"
           }
          ],
          "contour": [
           {
            "colorbar": {
             "outlinewidth": 0,
             "ticks": ""
            },
            "colorscale": [
             [
              0,
              "#0d0887"
             ],
             [
              0.1111111111111111,
              "#46039f"
             ],
             [
              0.2222222222222222,
              "#7201a8"
             ],
             [
              0.3333333333333333,
              "#9c179e"
             ],
             [
              0.4444444444444444,
              "#bd3786"
             ],
             [
              0.5555555555555556,
              "#d8576b"
             ],
             [
              0.6666666666666666,
              "#ed7953"
             ],
             [
              0.7777777777777778,
              "#fb9f3a"
             ],
             [
              0.8888888888888888,
              "#fdca26"
             ],
             [
              1,
              "#f0f921"
             ]
            ],
            "type": "contour"
           }
          ],
          "contourcarpet": [
           {
            "colorbar": {
             "outlinewidth": 0,
             "ticks": ""
            },
            "type": "contourcarpet"
           }
          ],
          "heatmap": [
           {
            "colorbar": {
             "outlinewidth": 0,
             "ticks": ""
            },
            "colorscale": [
             [
              0,
              "#0d0887"
             ],
             [
              0.1111111111111111,
              "#46039f"
             ],
             [
              0.2222222222222222,
              "#7201a8"
             ],
             [
              0.3333333333333333,
              "#9c179e"
             ],
             [
              0.4444444444444444,
              "#bd3786"
             ],
             [
              0.5555555555555556,
              "#d8576b"
             ],
             [
              0.6666666666666666,
              "#ed7953"
             ],
             [
              0.7777777777777778,
              "#fb9f3a"
             ],
             [
              0.8888888888888888,
              "#fdca26"
             ],
             [
              1,
              "#f0f921"
             ]
            ],
            "type": "heatmap"
           }
          ],
          "heatmapgl": [
           {
            "colorbar": {
             "outlinewidth": 0,
             "ticks": ""
            },
            "colorscale": [
             [
              0,
              "#0d0887"
             ],
             [
              0.1111111111111111,
              "#46039f"
             ],
             [
              0.2222222222222222,
              "#7201a8"
             ],
             [
              0.3333333333333333,
              "#9c179e"
             ],
             [
              0.4444444444444444,
              "#bd3786"
             ],
             [
              0.5555555555555556,
              "#d8576b"
             ],
             [
              0.6666666666666666,
              "#ed7953"
             ],
             [
              0.7777777777777778,
              "#fb9f3a"
             ],
             [
              0.8888888888888888,
              "#fdca26"
             ],
             [
              1,
              "#f0f921"
             ]
            ],
            "type": "heatmapgl"
           }
          ],
          "histogram": [
           {
            "marker": {
             "pattern": {
              "fillmode": "overlay",
              "size": 10,
              "solidity": 0.2
             }
            },
            "type": "histogram"
           }
          ],
          "histogram2d": [
           {
            "colorbar": {
             "outlinewidth": 0,
             "ticks": ""
            },
            "colorscale": [
             [
              0,
              "#0d0887"
             ],
             [
              0.1111111111111111,
              "#46039f"
             ],
             [
              0.2222222222222222,
              "#7201a8"
             ],
             [
              0.3333333333333333,
              "#9c179e"
             ],
             [
              0.4444444444444444,
              "#bd3786"
             ],
             [
              0.5555555555555556,
              "#d8576b"
             ],
             [
              0.6666666666666666,
              "#ed7953"
             ],
             [
              0.7777777777777778,
              "#fb9f3a"
             ],
             [
              0.8888888888888888,
              "#fdca26"
             ],
             [
              1,
              "#f0f921"
             ]
            ],
            "type": "histogram2d"
           }
          ],
          "histogram2dcontour": [
           {
            "colorbar": {
             "outlinewidth": 0,
             "ticks": ""
            },
            "colorscale": [
             [
              0,
              "#0d0887"
             ],
             [
              0.1111111111111111,
              "#46039f"
             ],
             [
              0.2222222222222222,
              "#7201a8"
             ],
             [
              0.3333333333333333,
              "#9c179e"
             ],
             [
              0.4444444444444444,
              "#bd3786"
             ],
             [
              0.5555555555555556,
              "#d8576b"
             ],
             [
              0.6666666666666666,
              "#ed7953"
             ],
             [
              0.7777777777777778,
              "#fb9f3a"
             ],
             [
              0.8888888888888888,
              "#fdca26"
             ],
             [
              1,
              "#f0f921"
             ]
            ],
            "type": "histogram2dcontour"
           }
          ],
          "mesh3d": [
           {
            "colorbar": {
             "outlinewidth": 0,
             "ticks": ""
            },
            "type": "mesh3d"
           }
          ],
          "parcoords": [
           {
            "line": {
             "colorbar": {
              "outlinewidth": 0,
              "ticks": ""
             }
            },
            "type": "parcoords"
           }
          ],
          "pie": [
           {
            "automargin": true,
            "type": "pie"
           }
          ],
          "scatter": [
           {
            "fillpattern": {
             "fillmode": "overlay",
             "size": 10,
             "solidity": 0.2
            },
            "type": "scatter"
           }
          ],
          "scatter3d": [
           {
            "line": {
             "colorbar": {
              "outlinewidth": 0,
              "ticks": ""
             }
            },
            "marker": {
             "colorbar": {
              "outlinewidth": 0,
              "ticks": ""
             }
            },
            "type": "scatter3d"
           }
          ],
          "scattercarpet": [
           {
            "marker": {
             "colorbar": {
              "outlinewidth": 0,
              "ticks": ""
             }
            },
            "type": "scattercarpet"
           }
          ],
          "scattergeo": [
           {
            "marker": {
             "colorbar": {
              "outlinewidth": 0,
              "ticks": ""
             }
            },
            "type": "scattergeo"
           }
          ],
          "scattergl": [
           {
            "marker": {
             "colorbar": {
              "outlinewidth": 0,
              "ticks": ""
             }
            },
            "type": "scattergl"
           }
          ],
          "scattermapbox": [
           {
            "marker": {
             "colorbar": {
              "outlinewidth": 0,
              "ticks": ""
             }
            },
            "type": "scattermapbox"
           }
          ],
          "scatterpolar": [
           {
            "marker": {
             "colorbar": {
              "outlinewidth": 0,
              "ticks": ""
             }
            },
            "type": "scatterpolar"
           }
          ],
          "scatterpolargl": [
           {
            "marker": {
             "colorbar": {
              "outlinewidth": 0,
              "ticks": ""
             }
            },
            "type": "scatterpolargl"
           }
          ],
          "scatterternary": [
           {
            "marker": {
             "colorbar": {
              "outlinewidth": 0,
              "ticks": ""
             }
            },
            "type": "scatterternary"
           }
          ],
          "surface": [
           {
            "colorbar": {
             "outlinewidth": 0,
             "ticks": ""
            },
            "colorscale": [
             [
              0,
              "#0d0887"
             ],
             [
              0.1111111111111111,
              "#46039f"
             ],
             [
              0.2222222222222222,
              "#7201a8"
             ],
             [
              0.3333333333333333,
              "#9c179e"
             ],
             [
              0.4444444444444444,
              "#bd3786"
             ],
             [
              0.5555555555555556,
              "#d8576b"
             ],
             [
              0.6666666666666666,
              "#ed7953"
             ],
             [
              0.7777777777777778,
              "#fb9f3a"
             ],
             [
              0.8888888888888888,
              "#fdca26"
             ],
             [
              1,
              "#f0f921"
             ]
            ],
            "type": "surface"
           }
          ],
          "table": [
           {
            "cells": {
             "fill": {
              "color": "#EBF0F8"
             },
             "line": {
              "color": "white"
             }
            },
            "header": {
             "fill": {
              "color": "#C8D4E3"
             },
             "line": {
              "color": "white"
             }
            },
            "type": "table"
           }
          ]
         },
         "layout": {
          "annotationdefaults": {
           "arrowcolor": "#2a3f5f",
           "arrowhead": 0,
           "arrowwidth": 1
          },
          "autotypenumbers": "strict",
          "coloraxis": {
           "colorbar": {
            "outlinewidth": 0,
            "ticks": ""
           }
          },
          "colorscale": {
           "diverging": [
            [
             0,
             "#8e0152"
            ],
            [
             0.1,
             "#c51b7d"
            ],
            [
             0.2,
             "#de77ae"
            ],
            [
             0.3,
             "#f1b6da"
            ],
            [
             0.4,
             "#fde0ef"
            ],
            [
             0.5,
             "#f7f7f7"
            ],
            [
             0.6,
             "#e6f5d0"
            ],
            [
             0.7,
             "#b8e186"
            ],
            [
             0.8,
             "#7fbc41"
            ],
            [
             0.9,
             "#4d9221"
            ],
            [
             1,
             "#276419"
            ]
           ],
           "sequential": [
            [
             0,
             "#0d0887"
            ],
            [
             0.1111111111111111,
             "#46039f"
            ],
            [
             0.2222222222222222,
             "#7201a8"
            ],
            [
             0.3333333333333333,
             "#9c179e"
            ],
            [
             0.4444444444444444,
             "#bd3786"
            ],
            [
             0.5555555555555556,
             "#d8576b"
            ],
            [
             0.6666666666666666,
             "#ed7953"
            ],
            [
             0.7777777777777778,
             "#fb9f3a"
            ],
            [
             0.8888888888888888,
             "#fdca26"
            ],
            [
             1,
             "#f0f921"
            ]
           ],
           "sequentialminus": [
            [
             0,
             "#0d0887"
            ],
            [
             0.1111111111111111,
             "#46039f"
            ],
            [
             0.2222222222222222,
             "#7201a8"
            ],
            [
             0.3333333333333333,
             "#9c179e"
            ],
            [
             0.4444444444444444,
             "#bd3786"
            ],
            [
             0.5555555555555556,
             "#d8576b"
            ],
            [
             0.6666666666666666,
             "#ed7953"
            ],
            [
             0.7777777777777778,
             "#fb9f3a"
            ],
            [
             0.8888888888888888,
             "#fdca26"
            ],
            [
             1,
             "#f0f921"
            ]
           ]
          },
          "colorway": [
           "#636efa",
           "#EF553B",
           "#00cc96",
           "#ab63fa",
           "#FFA15A",
           "#19d3f3",
           "#FF6692",
           "#B6E880",
           "#FF97FF",
           "#FECB52"
          ],
          "font": {
           "color": "#2a3f5f"
          },
          "geo": {
           "bgcolor": "white",
           "lakecolor": "white",
           "landcolor": "#E5ECF6",
           "showlakes": true,
           "showland": true,
           "subunitcolor": "white"
          },
          "hoverlabel": {
           "align": "left"
          },
          "hovermode": "closest",
          "mapbox": {
           "style": "light"
          },
          "paper_bgcolor": "white",
          "plot_bgcolor": "#E5ECF6",
          "polar": {
           "angularaxis": {
            "gridcolor": "white",
            "linecolor": "white",
            "ticks": ""
           },
           "bgcolor": "#E5ECF6",
           "radialaxis": {
            "gridcolor": "white",
            "linecolor": "white",
            "ticks": ""
           }
          },
          "scene": {
           "xaxis": {
            "backgroundcolor": "#E5ECF6",
            "gridcolor": "white",
            "gridwidth": 2,
            "linecolor": "white",
            "showbackground": true,
            "ticks": "",
            "zerolinecolor": "white"
           },
           "yaxis": {
            "backgroundcolor": "#E5ECF6",
            "gridcolor": "white",
            "gridwidth": 2,
            "linecolor": "white",
            "showbackground": true,
            "ticks": "",
            "zerolinecolor": "white"
           },
           "zaxis": {
            "backgroundcolor": "#E5ECF6",
            "gridcolor": "white",
            "gridwidth": 2,
            "linecolor": "white",
            "showbackground": true,
            "ticks": "",
            "zerolinecolor": "white"
           }
          },
          "shapedefaults": {
           "line": {
            "color": "#2a3f5f"
           }
          },
          "ternary": {
           "aaxis": {
            "gridcolor": "white",
            "linecolor": "white",
            "ticks": ""
           },
           "baxis": {
            "gridcolor": "white",
            "linecolor": "white",
            "ticks": ""
           },
           "bgcolor": "#E5ECF6",
           "caxis": {
            "gridcolor": "white",
            "linecolor": "white",
            "ticks": ""
           }
          },
          "title": {
           "x": 0.05
          },
          "xaxis": {
           "automargin": true,
           "gridcolor": "white",
           "linecolor": "white",
           "ticks": "",
           "title": {
            "standoff": 15
           },
           "zerolinecolor": "white",
           "zerolinewidth": 2
          },
          "yaxis": {
           "automargin": true,
           "gridcolor": "white",
           "linecolor": "white",
           "ticks": "",
           "title": {
            "standoff": 15
           },
           "zerolinecolor": "white",
           "zerolinewidth": 2
          }
         }
        },
        "title": {
         "text": "Average Visits per Month & Median Hours at Anchor"
        }
       }
      }
     },
     "metadata": {},
     "output_type": "display_data"
    }
   ],
   "source": [
    "#create map figure for ports\n",
    "fig = px.scatter_geo(\n",
    "    portstats_df,\n",
    "    lon='port_lon',\n",
    "    lat='port_lat',\n",
    "    size='visits_avg',\n",
    "    color='time_at_anchor_median',\n",
    "    range_color=[0,50],\n",
    "    hover_name='port_name',\n",
    "    size_max=20,\n",
    "    title='Average Visits per Month & Median Hours at Anchor',\n",
    "    color_continuous_scale=px.colors.sequential.Viridis,\n",
    "    labels={\n",
    "        'time_at_anchor_median':'Median Hours at Anchor'\n",
    "    }\n",
    ")\n",
    "# Fit the view to ports\n",
    "fig.update_geos(fitbounds=\"locations\")\n",
    "# Add footnote using add_annotation\n",
    "fig.add_annotation(\n",
    "    text=\"Note: Circle size corresponds to average vessel visits per month\",  # Footnote text\n",
    "    xref=\"paper\", yref=\"paper\",  # Position relative to the plot area\n",
    "    x=0, y=0-0.05,  # Adjust to footnote position\n",
    "    showarrow=False,  # No arrow, just text\n",
    "    font=dict(size=14, color=\"black\"),  # Customize the font style\n",
    "    align=\"left\"\n",
    ")\n",
    "\n",
    "fig.show()"
   ]
  }
 ],
 "metadata": {
  "kernelspec": {
   "display_name": "wsu",
   "language": "python",
   "name": "python3"
  },
  "language_info": {
   "codemirror_mode": {
    "name": "ipython",
    "version": 3
   },
   "file_extension": ".py",
   "mimetype": "text/x-python",
   "name": "python",
   "nbconvert_exporter": "python",
   "pygments_lexer": "ipython3",
   "version": "3.12.0"
  }
 },
 "nbformat": 4,
 "nbformat_minor": 2
}
