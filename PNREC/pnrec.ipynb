{
 "cells": [
  {
   "cell_type": "markdown",
   "id": "78926613",
   "metadata": {},
   "source": [
    "# PNREC Presentation Prep\n",
    "\n"
   ]
  },
  {
   "cell_type": "code",
   "execution_count": 89,
   "id": "cef0a6fa",
   "metadata": {},
   "outputs": [],
   "source": [
    "#prelims\n",
    "import numpy as np\n",
    "import pandas as pd\n",
    "import geopandas as gpd\n",
    "import polars as pl\n",
    "import plotly.express as px\n",
    "import datetime as dt\n",
    "from dateutil.relativedelta import relativedelta\n",
    "import dash\n",
    "from dash import dcc, html\n",
    "from dash.dependencies import Input, Output\n",
    "\n",
    "#display settings\n",
    "pd.set_option('display.max_columns', None)\n",
    "pd.set_option('display.max_rows', None)\n",
    "pl.Config(tbl_rows=100);"
   ]
  },
  {
   "cell_type": "markdown",
   "id": "dac90d12",
   "metadata": {},
   "source": [
    "## Load Data and initial prep\n",
    "\n",
    "Data used here is processed in the geodata_prep and port_stats notebooks in the main directory. \n",
    "\n",
    "The data used in the app is a dataframe with reach row corresponding to a port call, including data such as port, dock, and vessel info, time of arrival, hours at berth and at anchor, time in port waters, etc. "
   ]
  },
  {
   "cell_type": "code",
   "execution_count": 90,
   "id": "63983bb7",
   "metadata": {},
   "outputs": [
    {
     "data": {
      "text/html": [
       "<div><style>\n",
       ".dataframe > thead > tr,\n",
       ".dataframe > tbody > tr {\n",
       "  text-align: right;\n",
       "  white-space: pre-wrap;\n",
       "}\n",
       "</style>\n",
       "<small>shape: (9, 25)</small><table border=\"1\" class=\"dataframe\"><thead><tr><th>statistic</th><th>call_id</th><th>port_name</th><th>port_lat</th><th>port_lon</th><th>dock_name</th><th>dock_id</th><th>facility_type</th><th>dock_lat</th><th>dock_lon</th><th>imo</th><th>vessel_size</th><th>time_port_entry</th><th>time_arrival</th><th>time_departure</th><th>time_port_exit</th><th>hrs_at_berth</th><th>hrs_at_anchor</th><th>hrs_to_dock</th><th>hrs_in_port_after_dock</th><th>hrs_in_port_waters</th><th>year</th><th>month</th><th>date</th><th>port_group</th></tr><tr><td>str</td><td>str</td><td>str</td><td>f64</td><td>f64</td><td>str</td><td>str</td><td>str</td><td>f64</td><td>f64</td><td>f64</td><td>f64</td><td>str</td><td>str</td><td>str</td><td>str</td><td>f64</td><td>f64</td><td>f64</td><td>f64</td><td>f64</td><td>f64</td><td>str</td><td>str</td><td>str</td></tr></thead><tbody><tr><td>&quot;count&quot;</td><td>&quot;152339&quot;</td><td>&quot;152339&quot;</td><td>152339.0</td><td>152339.0</td><td>&quot;152339&quot;</td><td>&quot;152339&quot;</td><td>&quot;151966&quot;</td><td>152339.0</td><td>152339.0</td><td>152339.0</td><td>152339.0</td><td>&quot;152339&quot;</td><td>&quot;152339&quot;</td><td>&quot;152339&quot;</td><td>&quot;152339&quot;</td><td>152339.0</td><td>152339.0</td><td>152339.0</td><td>152339.0</td><td>152339.0</td><td>152339.0</td><td>&quot;152339&quot;</td><td>&quot;152339&quot;</td><td>&quot;152339&quot;</td></tr><tr><td>&quot;null_count&quot;</td><td>&quot;0&quot;</td><td>&quot;0&quot;</td><td>0.0</td><td>0.0</td><td>&quot;0&quot;</td><td>&quot;0&quot;</td><td>&quot;373&quot;</td><td>0.0</td><td>0.0</td><td>0.0</td><td>0.0</td><td>&quot;0&quot;</td><td>&quot;0&quot;</td><td>&quot;0&quot;</td><td>&quot;0&quot;</td><td>0.0</td><td>0.0</td><td>0.0</td><td>0.0</td><td>0.0</td><td>0.0</td><td>&quot;0&quot;</td><td>&quot;0&quot;</td><td>&quot;0&quot;</td></tr><tr><td>&quot;mean&quot;</td><td>null</td><td>null</td><td>32.314243</td><td>-94.595966</td><td>null</td><td>null</td><td>null</td><td>32.314355</td><td>-94.594993</td><td>1.0138e7</td><td>207.282114</td><td>&quot;2021-07-25 12:09:45.520457&quot;</td><td>&quot;2021-07-25 23:42:49.418494&quot;</td><td>&quot;2021-07-28 04:42:50.440307&quot;</td><td>&quot;2021-07-28 09:58:48.028312&quot;</td><td>47.902378</td><td>8.398775</td><td>11.543167</td><td>5.258262</td><td>69.809185</td><td>2021.068459</td><td>&quot;2021-07-10 17:16:44.551000&quot;</td><td>&quot;2021-07-25 11:11:14.325000&quot;</td><td>null</td></tr><tr><td>&quot;std&quot;</td><td>null</td><td>null</td><td>6.905596</td><td>20.709946</td><td>null</td><td>null</td><td>null</td><td>6.905846</td><td>20.710309</td><td>2.6423e7</td><td>58.862874</td><td>null</td><td>null</td><td>null</td><td>null</td><td>62.483046</td><td>28.999441</td><td>35.440416</td><td>41.451654</td><td>96.098973</td><td>2.030807</td><td>null</td><td>null</td><td>null</td></tr><tr><td>&quot;min&quot;</td><td>&quot;0_Corpus Christi, TX_2020-04-0…</td><td>&quot;Albany Port District, NY&quot;</td><td>17.938939</td><td>-166.549916</td><td>&quot;ADM Corpus Christi Grain Eleva…</td><td>&quot;00XE&quot;</td><td>&quot;Anchorage&quot;</td><td>17.936081</td><td>-166.53444</td><td>0.0</td><td>101.0</td><td>&quot;2018-01-01 00:35:19&quot;</td><td>&quot;2018-01-01 00:35:19&quot;</td><td>&quot;2018-01-01 04:23:54&quot;</td><td>&quot;2018-01-01 09:15:57&quot;</td><td>0.083333</td><td>0.0</td><td>0.0</td><td>0.0</td><td>0.133333</td><td>2018.0</td><td>&quot;2018-01-01&quot;</td><td>&quot;2018-01-01&quot;</td><td>&quot;Albany Port District, NY&quot;</td></tr><tr><td>&quot;25%&quot;</td><td>null</td><td>null</td><td>28.629389</td><td>-118.2095</td><td>null</td><td>null</td><td>null</td><td>28.645767</td><td>-118.21083</td><td>9.298636e6</td><td>176.0</td><td>&quot;2019-09-23 05:36:19&quot;</td><td>&quot;2019-09-23 14:53:58&quot;</td><td>&quot;2019-09-25 11:07:36&quot;</td><td>&quot;2019-09-25 15:04:34&quot;</td><td>16.616667</td><td>0.0</td><td>2.666667</td><td>2.15</td><td>25.866667</td><td>2019.0</td><td>&quot;2019-09-01&quot;</td><td>&quot;2019-09-23&quot;</td><td>null</td></tr><tr><td>&quot;50%&quot;</td><td>null</td><td>null</td><td>30.69123</td><td>-90.085256</td><td>null</td><td>null</td><td>null</td><td>30.706768</td><td>-90.112537</td><td>9.403451e6</td><td>190.0</td><td>&quot;2021-09-06 01:03:18&quot;</td><td>&quot;2021-09-06 20:50:23&quot;</td><td>&quot;2021-09-09 01:06:40&quot;</td><td>&quot;2021-09-09 05:20:12&quot;</td><td>31.116667</td><td>0.0</td><td>3.516667</td><td>2.783333</td><td>43.933333</td><td>2021.0</td><td>&quot;2021-09-01&quot;</td><td>&quot;2021-09-06&quot;</td><td>null</td></tr><tr><td>&quot;75%&quot;</td><td>null</td><td>null</td><td>36.86642</td><td>-80.05267</td><td>null</td><td>null</td><td>null</td><td>36.875896</td><td>-80.053495</td><td>9.619426e6</td><td>230.0</td><td>&quot;2023-05-07 10:13:53&quot;</td><td>&quot;2023-05-07 22:10:37&quot;</td><td>&quot;2023-05-10 09:57:31&quot;</td><td>&quot;2023-05-10 13:19:05&quot;</td><td>57.183333</td><td>0.0</td><td>5.383333</td><td>3.533333</td><td>80.966667</td><td>2023.0</td><td>&quot;2023-05-01&quot;</td><td>&quot;2023-05-07&quot;</td><td>null</td></tr><tr><td>&quot;max&quot;</td><td>&quot;9993808_Honolulu, O&#x27;ahu, HI_20…</td><td>&quot;Wilmington, NC&quot;</td><td>61.23778</td><td>-66.096678</td><td>&quot;YUSEN TERMINALS BERTHS 212-221&quot;</td><td>&quot;1JHK&quot;</td><td>&quot;Tie Off&quot;</td><td>61.24306</td><td>-66.086926</td><td>9.800025e8</td><td>667.0</td><td>&quot;2024-12-31 18:55:48&quot;</td><td>&quot;2024-12-31 22:30:59&quot;</td><td>&quot;2024-12-31 23:37:00&quot;</td><td>&quot;2024-12-31 23:37:00&quot;</td><td>1398.416667</td><td>244.45</td><td>2152.533333</td><td>3653.166667</td><td>4453.8</td><td>2024.0</td><td>&quot;2024-12-01&quot;</td><td>&quot;2024-12-31&quot;</td><td>&quot;Wilmington, NC&quot;</td></tr></tbody></table></div>"
      ],
      "text/plain": [
       "shape: (9, 25)\n",
       "┌───────────┬───────────┬───────────┬───────────┬───┬───────────┬───────────┬───────────┬──────────┐\n",
       "│ statistic ┆ call_id   ┆ port_name ┆ port_lat  ┆ … ┆ year      ┆ month     ┆ date      ┆ port_gro │\n",
       "│ ---       ┆ ---       ┆ ---       ┆ ---       ┆   ┆ ---       ┆ ---       ┆ ---       ┆ up       │\n",
       "│ str       ┆ str       ┆ str       ┆ f64       ┆   ┆ f64       ┆ str       ┆ str       ┆ ---      │\n",
       "│           ┆           ┆           ┆           ┆   ┆           ┆           ┆           ┆ str      │\n",
       "╞═══════════╪═══════════╪═══════════╪═══════════╪═══╪═══════════╪═══════════╪═══════════╪══════════╡\n",
       "│ count     ┆ 152339    ┆ 152339    ┆ 152339.0  ┆ … ┆ 152339.0  ┆ 152339    ┆ 152339    ┆ 152339   │\n",
       "│ null_coun ┆ 0         ┆ 0         ┆ 0.0       ┆ … ┆ 0.0       ┆ 0         ┆ 0         ┆ 0        │\n",
       "│ t         ┆           ┆           ┆           ┆   ┆           ┆           ┆           ┆          │\n",
       "│ mean      ┆ null      ┆ null      ┆ 32.314243 ┆ … ┆ 2021.0684 ┆ 2021-07-1 ┆ 2021-07-2 ┆ null     │\n",
       "│           ┆           ┆           ┆           ┆   ┆ 59        ┆ 0 17:16:4 ┆ 5 11:11:1 ┆          │\n",
       "│           ┆           ┆           ┆           ┆   ┆           ┆ 4.551000  ┆ 4.325000  ┆          │\n",
       "│ std       ┆ null      ┆ null      ┆ 6.905596  ┆ … ┆ 2.030807  ┆ null      ┆ null      ┆ null     │\n",
       "│ min       ┆ 0_Corpus  ┆ Albany    ┆ 17.938939 ┆ … ┆ 2018.0    ┆ 2018-01-0 ┆ 2018-01-0 ┆ Albany   │\n",
       "│           ┆ Christi,  ┆ Port      ┆           ┆   ┆           ┆ 1         ┆ 1         ┆ Port Dis │\n",
       "│           ┆ TX_2020-0 ┆ District, ┆           ┆   ┆           ┆           ┆           ┆ trict,   │\n",
       "│           ┆ 4-0…      ┆ NY        ┆           ┆   ┆           ┆           ┆           ┆ NY       │\n",
       "│ 25%       ┆ null      ┆ null      ┆ 28.629389 ┆ … ┆ 2019.0    ┆ 2019-09-0 ┆ 2019-09-2 ┆ null     │\n",
       "│           ┆           ┆           ┆           ┆   ┆           ┆ 1         ┆ 3         ┆          │\n",
       "│ 50%       ┆ null      ┆ null      ┆ 30.69123  ┆ … ┆ 2021.0    ┆ 2021-09-0 ┆ 2021-09-0 ┆ null     │\n",
       "│           ┆           ┆           ┆           ┆   ┆           ┆ 1         ┆ 6         ┆          │\n",
       "│ 75%       ┆ null      ┆ null      ┆ 36.86642  ┆ … ┆ 2023.0    ┆ 2023-05-0 ┆ 2023-05-0 ┆ null     │\n",
       "│           ┆           ┆           ┆           ┆   ┆           ┆ 1         ┆ 7         ┆          │\n",
       "│ max       ┆ 9993808_H ┆ Wilmingto ┆ 61.23778  ┆ … ┆ 2024.0    ┆ 2024-12-0 ┆ 2024-12-3 ┆ Wilmingt │\n",
       "│           ┆ onolulu,  ┆ n, NC     ┆           ┆   ┆           ┆ 1         ┆ 1         ┆ on, NC   │\n",
       "│           ┆ O'ahu,    ┆           ┆           ┆   ┆           ┆           ┆           ┆          │\n",
       "│           ┆ HI_20…    ┆           ┆           ┆   ┆           ┆           ┆           ┆          │\n",
       "└───────────┴───────────┴───────────┴───────────┴───┴───────────┴───────────┴───────────┴──────────┘"
      ]
     },
     "execution_count": 90,
     "metadata": {},
     "output_type": "execute_result"
    }
   ],
   "source": [
    "#create main dataframe\n",
    "calls_df = (\n",
    "    #read in data\n",
    "    pl.read_parquet('../dashboard/calls.parquet')\n",
    "    #get year month and date from arrival time\n",
    "    .with_columns(\n",
    "        pl.col('time_arrival').dt.year().alias('year'),\n",
    "        pl.col('time_arrival').dt.date().dt.month_start().alias('month'),\n",
    "        pl.col('time_arrival').dt.date().alias('date')\n",
    "    )\n",
    "    #add port group for NWSPA and San Pedro Ports\n",
    "    .with_columns(\n",
    "        pl.when(pl.col('port_name').is_in(['Seattle, WA', 'Tacoma, WA']))\n",
    "        .then(pl.lit('NW Seaport Alliance'))\n",
    "        .when(pl.col('port_name').is_in(['Port of Los Angeles, CA',\n",
    "                                         'Port of Long Beach, CA']))\n",
    "        .then(pl.lit('San Pedro Ports'))\n",
    "        .otherwise(pl.col('port_name'))\n",
    "        .alias('port_group')\n",
    "    )\n",
    ")\n",
    "#get date bounds\n",
    "earliest_date = calls_df['time_arrival'].min().date()\n",
    "latest_date = calls_df['time_arrival'].max().date()\n",
    "\n",
    "#inspect data\n",
    "calls_df.describe()"
   ]
  },
  {
   "cell_type": "markdown",
   "id": "492c5e46",
   "metadata": {},
   "source": [
    "#### Volume Data from Hanouf"
   ]
  },
  {
   "cell_type": "code",
   "execution_count": 108,
   "id": "436defea",
   "metadata": {},
   "outputs": [
    {
     "data": {
      "text/html": [
       "<div><style>\n",
       ".dataframe > thead > tr,\n",
       ".dataframe > tbody > tr {\n",
       "  text-align: right;\n",
       "  white-space: pre-wrap;\n",
       "}\n",
       "</style>\n",
       "<small>shape: (5, 15)</small><table border=\"1\" class=\"dataframe\"><thead><tr><th>PORT</th><th>PORT_NAME</th><th>CTY_CODE</th><th>CTY_NAME</th><th>I_COMMODITY</th><th>GEN_VAL_MO</th><th>CNT_VAL_MO</th><th>CNT_WGT_MO</th><th>VES_VAL_MO</th><th>VES_WGT_MO</th><th>YEAR</th><th>MONTH</th><th>COMM_LVL</th><th>date</th><th>COMMODITY_NAME</th></tr><tr><td>str</td><td>str</td><td>str</td><td>str</td><td>str</td><td>str</td><td>str</td><td>str</td><td>str</td><td>str</td><td>str</td><td>str</td><td>str</td><td>str</td><td>str</td></tr></thead><tbody><tr><td>&quot;-&quot;</td><td>&quot;TOTAL FOR ALL PORTS&quot;</td><td>&quot;-&quot;</td><td>null</td><td>&quot;1&quot;</td><td>&quot;215797758&quot;</td><td>&quot;392018&quot;</td><td>&quot;120408&quot;</td><td>&quot;392018&quot;</td><td>&quot;120408&quot;</td><td>&quot;2018&quot;</td><td>&quot;1&quot;</td><td>&quot;HS2&quot;</td><td>&quot;1/1/2018&quot;</td><td>&quot;Live Animals&quot;</td></tr><tr><td>&quot;-&quot;</td><td>&quot;TOTAL FOR ALL PORTS&quot;</td><td>&quot;0003&quot;</td><td>null</td><td>&quot;1&quot;</td><td>&quot;56261689&quot;</td><td>&quot;134532&quot;</td><td>&quot;21000&quot;</td><td>&quot;134532&quot;</td><td>&quot;21000&quot;</td><td>&quot;2018&quot;</td><td>&quot;1&quot;</td><td>&quot;HS2&quot;</td><td>&quot;1/1/2018&quot;</td><td>&quot;Live Animals&quot;</td></tr><tr><td>&quot;-&quot;</td><td>&quot;TOTAL FOR ALL PORTS&quot;</td><td>&quot;0014&quot;</td><td>null</td><td>&quot;1&quot;</td><td>&quot;3595903&quot;</td><td>&quot;257486&quot;</td><td>&quot;99408&quot;</td><td>&quot;257486&quot;</td><td>&quot;99408&quot;</td><td>&quot;2018&quot;</td><td>&quot;1&quot;</td><td>&quot;HS2&quot;</td><td>&quot;1/1/2018&quot;</td><td>&quot;Live Animals&quot;</td></tr><tr><td>&quot;-&quot;</td><td>&quot;TOTAL FOR ALL PORTS&quot;</td><td>&quot;0022&quot;</td><td>null</td><td>&quot;1&quot;</td><td>&quot;206506476&quot;</td><td>&quot;134532&quot;</td><td>&quot;21000&quot;</td><td>&quot;134532&quot;</td><td>&quot;21000&quot;</td><td>&quot;2018&quot;</td><td>&quot;1&quot;</td><td>&quot;HS2&quot;</td><td>&quot;1/1/2018&quot;</td><td>&quot;Live Animals&quot;</td></tr><tr><td>&quot;-&quot;</td><td>&quot;TOTAL FOR ALL PORTS&quot;</td><td>&quot;0023&quot;</td><td>null</td><td>&quot;1&quot;</td><td>&quot;155670763&quot;</td><td>&quot;134532&quot;</td><td>&quot;21000&quot;</td><td>&quot;134532&quot;</td><td>&quot;21000&quot;</td><td>&quot;2018&quot;</td><td>&quot;1&quot;</td><td>&quot;HS2&quot;</td><td>&quot;1/1/2018&quot;</td><td>&quot;Live Animals&quot;</td></tr></tbody></table></div>"
      ],
      "text/plain": [
       "shape: (5, 15)\n",
       "┌──────┬───────────────┬──────────┬──────────┬───┬───────┬──────────┬──────────┬────────────────┐\n",
       "│ PORT ┆ PORT_NAME     ┆ CTY_CODE ┆ CTY_NAME ┆ … ┆ MONTH ┆ COMM_LVL ┆ date     ┆ COMMODITY_NAME │\n",
       "│ ---  ┆ ---           ┆ ---      ┆ ---      ┆   ┆ ---   ┆ ---      ┆ ---      ┆ ---            │\n",
       "│ str  ┆ str           ┆ str      ┆ str      ┆   ┆ str   ┆ str      ┆ str      ┆ str            │\n",
       "╞══════╪═══════════════╪══════════╪══════════╪═══╪═══════╪══════════╪══════════╪════════════════╡\n",
       "│ -    ┆ TOTAL FOR ALL ┆ -        ┆ null     ┆ … ┆ 1     ┆ HS2      ┆ 1/1/2018 ┆ Live Animals   │\n",
       "│      ┆ PORTS         ┆          ┆          ┆   ┆       ┆          ┆          ┆                │\n",
       "│ -    ┆ TOTAL FOR ALL ┆ 0003     ┆ null     ┆ … ┆ 1     ┆ HS2      ┆ 1/1/2018 ┆ Live Animals   │\n",
       "│      ┆ PORTS         ┆          ┆          ┆   ┆       ┆          ┆          ┆                │\n",
       "│ -    ┆ TOTAL FOR ALL ┆ 0014     ┆ null     ┆ … ┆ 1     ┆ HS2      ┆ 1/1/2018 ┆ Live Animals   │\n",
       "│      ┆ PORTS         ┆          ┆          ┆   ┆       ┆          ┆          ┆                │\n",
       "│ -    ┆ TOTAL FOR ALL ┆ 0022     ┆ null     ┆ … ┆ 1     ┆ HS2      ┆ 1/1/2018 ┆ Live Animals   │\n",
       "│      ┆ PORTS         ┆          ┆          ┆   ┆       ┆          ┆          ┆                │\n",
       "│ -    ┆ TOTAL FOR ALL ┆ 0023     ┆ null     ┆ … ┆ 1     ┆ HS2      ┆ 1/1/2018 ┆ Live Animals   │\n",
       "│      ┆ PORTS         ┆          ┆          ┆   ┆       ┆          ┆          ┆                │\n",
       "└──────┴───────────────┴──────────┴──────────┴───┴───────┴──────────┴──────────┴────────────────┘"
      ]
     },
     "execution_count": 108,
     "metadata": {},
     "output_type": "execute_result"
    }
   ],
   "source": [
    "importvol_df = pl.read_csv('../port data/volumes/portimports.csv', infer_schema_length=0)\n",
    "importvol_df.head()"
   ]
  },
  {
   "cell_type": "code",
   "execution_count": 107,
   "id": "17026fe9",
   "metadata": {},
   "outputs": [
    {
     "data": {
      "text/html": [
       "<div><style>\n",
       ".dataframe > thead > tr,\n",
       ".dataframe > tbody > tr {\n",
       "  text-align: right;\n",
       "  white-space: pre-wrap;\n",
       "}\n",
       "</style>\n",
       "<small>shape: (5, 15)</small><table border=\"1\" class=\"dataframe\"><thead><tr><th>PORT</th><th>PORT_NAME</th><th>CTY_CODE</th><th>CTY_NAME</th><th>E_COMMODITY</th><th>ALL_VAL_MO</th><th>CNT_VAL_MO</th><th>CNT_WGT_MO</th><th>VES_VAL_MO</th><th>VES_WGT_MO</th><th>YEAR</th><th>MONTH</th><th>COMM_LVL</th><th>date</th><th>COMMODITY_NAME</th></tr><tr><td>str</td><td>str</td><td>str</td><td>str</td><td>str</td><td>str</td><td>str</td><td>str</td><td>str</td><td>str</td><td>str</td><td>str</td><td>str</td><td>str</td><td>str</td></tr></thead><tbody><tr><td>&quot;1003&quot;</td><td>&quot;NEWARK, NJ&quot;</td><td>&quot;5180&quot;</td><td>&quot;Qatar&quot;</td><td>&quot;9&quot;</td><td>&quot;36780&quot;</td><td>&quot;36780&quot;</td><td>&quot;2796&quot;</td><td>&quot;36780&quot;</td><td>&quot;2796&quot;</td><td>&quot;2018&quot;</td><td>&quot;8&quot;</td><td>&quot;HS2&quot;</td><td>&quot;2018-08-01&quot;</td><td>&quot;Coffee, Tea, Maté, and Spices&quot;</td></tr><tr><td>&quot;1003&quot;</td><td>&quot;NEWARK, NJ&quot;</td><td>&quot;5180&quot;</td><td>&quot;Qatar&quot;</td><td>&quot;4&quot;</td><td>&quot;40800&quot;</td><td>&quot;40800&quot;</td><td>&quot;15000&quot;</td><td>&quot;40800&quot;</td><td>&quot;15000&quot;</td><td>&quot;2023&quot;</td><td>&quot;8&quot;</td><td>&quot;HS2&quot;</td><td>&quot;2023-08-01&quot;</td><td>&quot;Dairy Produce; Birds&#x27; Eggs; Na…</td></tr><tr><td>&quot;1003&quot;</td><td>&quot;NEWARK, NJ&quot;</td><td>&quot;5180&quot;</td><td>&quot;Qatar&quot;</td><td>&quot;8&quot;</td><td>&quot;26965&quot;</td><td>&quot;26965&quot;</td><td>&quot;5300&quot;</td><td>&quot;26965&quot;</td><td>&quot;5300&quot;</td><td>&quot;2022&quot;</td><td>&quot;1&quot;</td><td>&quot;HS2&quot;</td><td>&quot;2022-01-01&quot;</td><td>&quot;Edible Fruit and Nuts; Peel of…</td></tr><tr><td>&quot;1003&quot;</td><td>&quot;NEWARK, NJ&quot;</td><td>&quot;5180&quot;</td><td>&quot;Qatar&quot;</td><td>&quot;9&quot;</td><td>&quot;168541&quot;</td><td>&quot;168541&quot;</td><td>&quot;19904&quot;</td><td>&quot;168541&quot;</td><td>&quot;19904&quot;</td><td>&quot;2018&quot;</td><td>&quot;11&quot;</td><td>&quot;HS2&quot;</td><td>&quot;2018-11-01&quot;</td><td>&quot;Coffee, Tea, Maté, and Spices&quot;</td></tr><tr><td>&quot;1003&quot;</td><td>&quot;NEWARK, NJ&quot;</td><td>&quot;5180&quot;</td><td>&quot;Qatar&quot;</td><td>&quot;9&quot;</td><td>&quot;54349&quot;</td><td>&quot;54349&quot;</td><td>&quot;5856&quot;</td><td>&quot;54349&quot;</td><td>&quot;5856&quot;</td><td>&quot;2023&quot;</td><td>&quot;6&quot;</td><td>&quot;HS2&quot;</td><td>&quot;2023-06-01&quot;</td><td>&quot;Coffee, Tea, Maté, and Spices&quot;</td></tr></tbody></table></div>"
      ],
      "text/plain": [
       "shape: (5, 15)\n",
       "┌──────┬────────────┬──────────┬──────────┬───┬───────┬──────────┬────────────┬────────────────────┐\n",
       "│ PORT ┆ PORT_NAME  ┆ CTY_CODE ┆ CTY_NAME ┆ … ┆ MONTH ┆ COMM_LVL ┆ date       ┆ COMMODITY_NAME     │\n",
       "│ ---  ┆ ---        ┆ ---      ┆ ---      ┆   ┆ ---   ┆ ---      ┆ ---        ┆ ---                │\n",
       "│ str  ┆ str        ┆ str      ┆ str      ┆   ┆ str   ┆ str      ┆ str        ┆ str                │\n",
       "╞══════╪════════════╪══════════╪══════════╪═══╪═══════╪══════════╪════════════╪════════════════════╡\n",
       "│ 1003 ┆ NEWARK, NJ ┆ 5180     ┆ Qatar    ┆ … ┆ 8     ┆ HS2      ┆ 2018-08-01 ┆ Coffee, Tea, Maté, │\n",
       "│      ┆            ┆          ┆          ┆   ┆       ┆          ┆            ┆ and Spices         │\n",
       "│ 1003 ┆ NEWARK, NJ ┆ 5180     ┆ Qatar    ┆ … ┆ 8     ┆ HS2      ┆ 2023-08-01 ┆ Dairy Produce;     │\n",
       "│      ┆            ┆          ┆          ┆   ┆       ┆          ┆            ┆ Birds' Eggs; Na…   │\n",
       "│ 1003 ┆ NEWARK, NJ ┆ 5180     ┆ Qatar    ┆ … ┆ 1     ┆ HS2      ┆ 2022-01-01 ┆ Edible Fruit and   │\n",
       "│      ┆            ┆          ┆          ┆   ┆       ┆          ┆            ┆ Nuts; Peel of…     │\n",
       "│ 1003 ┆ NEWARK, NJ ┆ 5180     ┆ Qatar    ┆ … ┆ 11    ┆ HS2      ┆ 2018-11-01 ┆ Coffee, Tea, Maté, │\n",
       "│      ┆            ┆          ┆          ┆   ┆       ┆          ┆            ┆ and Spices         │\n",
       "│ 1003 ┆ NEWARK, NJ ┆ 5180     ┆ Qatar    ┆ … ┆ 6     ┆ HS2      ┆ 2023-06-01 ┆ Coffee, Tea, Maté, │\n",
       "│      ┆            ┆          ┆          ┆   ┆       ┆          ┆            ┆ and Spices         │\n",
       "└──────┴────────────┴──────────┴──────────┴───┴───────┴──────────┴────────────┴────────────────────┘"
      ]
     },
     "execution_count": 107,
     "metadata": {},
     "output_type": "execute_result"
    }
   ],
   "source": [
    "exportvol_df = pl.read_csv('../port data/volumes/portexports.csv', infer_schema_length=0)\n",
    "exportvol_df.head()"
   ]
  },
  {
   "cell_type": "markdown",
   "id": "db42b8c3",
   "metadata": {},
   "source": [
    "## Visualization Functions\n",
    "\n",
    "For the dashboard and PNREC presentation, we define a handful of visualization types (e.g. scatter map, line plot, bar chart, etc) and code to allow both default visualizations as well as custom user-generated visualizations. "
   ]
  },
  {
   "cell_type": "code",
   "execution_count": 91,
   "id": "1ff244ab",
   "metadata": {},
   "outputs": [],
   "source": [
    "#define zoom level function for plotly express scatter_mapbox\n",
    "def mapbox_zoom_finder(lons, lats, lon_pad=0, lat_pad=0):\n",
    "    \"\"\"\n",
    "    Calculates the optimal zoom level for a Plotly Mapbox plot.\n",
    "    Args:\n",
    "        lons (list): List of longitudes.\n",
    "        lats (list): List of latitudes.\n",
    "        lon_pad (float, optional): Padding to add to the longitude range. Defaults to 0.\n",
    "        lat_pad (float, optional): Padding to add to the latitude range. Defaults to 0.\n",
    "    Returns:\n",
    "        zoom (int): the calculated zoom level\n",
    "    \"\"\"\n",
    "    # Check if the lengths of lons and lats are equal and not empty\n",
    "    if len(lons) != len(lats) or len(lons) == 0:\n",
    "        return 10\n",
    "    # Calculate the maximum and minimum longitude and latitude\n",
    "    max_lon, min_lon = max(lons), min(lons)\n",
    "    max_lat, min_lat = max(lats), min(lats)\n",
    "    # Calculate the longitude and latitude ranges\n",
    "    lon_range = max_lon - min_lon\n",
    "    lat_range = max_lat - min_lat\n",
    "    # Calculate the zoom level based on the ranges\n",
    "    zoom = 7 - np.log2(max(lon_range + lon_pad, lat_range + lat_pad))\n",
    "    return zoom\n",
    "\n",
    "def plot_mapbox(df, cat_group,  lat_col, lon_col, \n",
    "                size_col, size_col_alias, color_col, color_col_alias, \n",
    "                title, filter_col=None, filter=None, time_col='date', \n",
    "                time_range=[earliest_date, latest_date], \n",
    "                zoom=None, center=None, width=800, height=600, \n",
    "                size_max=30, range_color=None, hover_name=None, hover_data=None, \n",
    "                mapbox_style='carto-positron', labels=None, \n",
    "                color_continuous_scale=None, color_outlier_z=None):\n",
    "    \"\"\"\n",
    "    Plots a Mapbox scatter plot using Plotly.\n",
    "    \"\"\"\n",
    "    #init df\n",
    "    df = df\n",
    "    #filter if specified\n",
    "    if filter_col:\n",
    "        df = df.filter(pl.col(filter_col).is_in(filter))\n",
    "    #generate df\n",
    "    df = (\n",
    "        df\n",
    "        #filter by time range\n",
    "        .filter(pl.col(time_col).is_between(time_range[0], time_range[1]))\n",
    "        .group_by(cat_group)\n",
    "        .agg(\n",
    "            #get the lat and lon columns\n",
    "            pl.col(lat_col).first().alias(lat_col),\n",
    "            pl.col(lon_col).first().alias(lon_col),\n",
    "            #get hover name\n",
    "            #may be different or same as cat_group\n",
    "            #get stats\n",
    "            pl.col(size_col).mean().alias(size_col_alias),\n",
    "            pl.col(color_col).mean().alias(color_col_alias),\n",
    "        )\n",
    "    )\n",
    "\n",
    "    #Set default color scale if not provided\n",
    "    if not color_continuous_scale:\n",
    "        color_continuous_scale = px.colors.sequential.Viridis\n",
    "\n",
    "    # Set the zoom level automatically if not provided\n",
    "    if not zoom:\n",
    "        zoom = mapbox_zoom_finder(df[lon_col], df[lat_col])\n",
    "\n",
    "    #Set the center of the map if not provided\n",
    "    if not center:\n",
    "        center = {\n",
    "            'lat': ((df[lat_col].max() - df[lat_col].min()) / 2),\n",
    "            'lon': ((df[lon_col].max() - df[lon_col].min()) / 2)\n",
    "        }\n",
    "\n",
    "    #drop outliers if specified\n",
    "    if color_outlier_z:\n",
    "        #get color_col upper and lower limits based on z score\n",
    "        color_col_mean, color_col_std = df[color_col_alias].mean(), df[color_col_alias].std()\n",
    "        color_col_upper = color_col_mean + (color_col_std * color_outlier_z)\n",
    "        color_col_lower = color_col_mean - (color_col_std * color_outlier_z)\n",
    "        #set range color\n",
    "        range_color = [color_col_lower, color_col_upper]\n",
    "\n",
    "    # Create a scatter mapbox figure\n",
    "    fig = px.scatter_mapbox(\n",
    "        #data\n",
    "        df, lat=lat_col, lon=lon_col,\n",
    "        #categories\n",
    "        size=size_col_alias, color=color_col_alias,\n",
    "        #hover info\n",
    "        hover_name=hover_name, hover_data=hover_data,\n",
    "        #display settings\n",
    "        range_color=range_color, size_max=size_max,\n",
    "        color_continuous_scale=color_continuous_scale, mapbox_style=mapbox_style,\n",
    "        width=width, height=height,\n",
    "        #title and labals\n",
    "        title=title, labels=labels\n",
    "    )\n",
    "    # Set the zoom level\n",
    "    fig.update_layout(mapbox_zoom=zoom)\n",
    "\n",
    "    #NOTE Add annotation if specified\n",
    "\n",
    "    return fig\n",
    "\n",
    "def plot_line(df, cat_group, time_col, y_col, y_col_alias, title,\n",
    "              filter_col=None, filter=None, cat_limit=None, cat_limit_col=None, \n",
    "              time_range=[earliest_date, latest_date], \n",
    "              width=800, height=600, hover_name=None, \n",
    "              hover_data=None, labels=None, color_continuous_scale=None, \n",
    "              highlight=None, highlight_color=None):\n",
    "    \"\"\"\n",
    "    Plots a line chart using Plotly Express.\n",
    "    \"\"\"\n",
    "    #initialize df\n",
    "    df = (\n",
    "        df\n",
    "        #filter by time range\n",
    "        .filter(pl.col(time_col).is_between(time_range[0], time_range[1]))\n",
    "    )\n",
    "    #filter if specified\n",
    "    if filter_col:\n",
    "        df = df.filter(pl.col(filter_col).is_in(filter))\n",
    "    #limit categories if specified\n",
    "    if cat_limit:\n",
    "        #get the top n categories\n",
    "        top_cats = (\n",
    "            df.group_by(cat_group)\n",
    "            .agg(pl.col(cat_limit_col).sum())\n",
    "            .sort(pl.col(cat_limit_col), descending=True)\n",
    "            .limit(cat_limit)\n",
    "            .to_series()\n",
    "        )\n",
    "        #filter to only top n categories or highlight category\n",
    "        df = df.filter(pl.col(cat_group)\n",
    "                       .is_in(top_cats.append(pl.Series([highlight]))))\n",
    "    #generate df\n",
    "    df = (\n",
    "        df\n",
    "        .group_by(cat_group, time_col)\n",
    "        .agg(\n",
    "            #compute y col mean\n",
    "            pl.col(y_col).mean().alias(y_col_alias)\n",
    "        )\n",
    "        .sort(time_col)\n",
    "    )\n",
    "\n",
    "    # Set default color scale if not provided\n",
    "    if not color_continuous_scale:\n",
    "        color_continuous_scale = px.colors.sequential.Viridis\n",
    "\n",
    "    # Create a line figure\n",
    "    fig = px.line(\n",
    "        df,\n",
    "        x=time_col,\n",
    "        y=y_col_alias,\n",
    "        color=cat_group,\n",
    "        title=title,\n",
    "        labels=labels,\n",
    "        hover_name=hover_name,\n",
    "        hover_data=hover_data,\n",
    "    )\n",
    "    # Set the width and height of the figure\n",
    "    fig.update_layout(width=width, height=height)\n",
    "\n",
    "    #highlight given lines if specified\n",
    "    if highlight:\n",
    "        fig.update_traces(line_color='lightgray')\n",
    "        fig.update_traces(patch={'line': {'color': highlight_color}}, \n",
    "                          selector=dict(name=highlight))\n",
    "\n",
    "    return fig\n",
    "\n",
    "#the above takes the mean of y_col; this takes the count (e.g., number of calls)\n",
    "def plot_line_count(df, cat_group, time_col, y_col, y_col_alias, title,\n",
    "              filter_col=None, filter=None, cat_limit=None, cat_limit_col=None, \n",
    "              time_range=[earliest_date, latest_date], \n",
    "              width=800, height=600, hover_name=None, \n",
    "              hover_data=None, labels=None, color_continuous_scale=None, \n",
    "              highlight=None, highlight_color=None):\n",
    "    \"\"\"\n",
    "    Plots a line chart using Plotly Express.\n",
    "    \"\"\"\n",
    "    #initialize df\n",
    "    df = (\n",
    "        df\n",
    "        #filter by time range\n",
    "        .filter(pl.col(time_col).is_between(time_range[0], time_range[1]))\n",
    "    )\n",
    "    #filter if specified\n",
    "    if filter_col:\n",
    "        df = df.filter(pl.col(filter_col).is_in(filter))\n",
    "    #limit categories if specified\n",
    "    if cat_limit:\n",
    "        #get the top n categories\n",
    "        top_cats = (\n",
    "            df.group_by(cat_group)\n",
    "            .agg(pl.col(cat_limit_col).count())\n",
    "            .sort(pl.col(cat_limit_col), descending=True)\n",
    "            .limit(cat_limit)\n",
    "            .to_series()\n",
    "        )\n",
    "        #filter to only top n categories or highlight category\n",
    "        df = df.filter(pl.col(cat_group)\n",
    "                       .is_in(top_cats.append(pl.Series([highlight]))))\n",
    "    #generate df\n",
    "    df = (\n",
    "        df\n",
    "        .group_by(cat_group, time_col)\n",
    "        .agg(\n",
    "            #compute y col mean\n",
    "            pl.col(y_col).count().alias(y_col_alias)\n",
    "        )\n",
    "        .sort(time_col)\n",
    "    )\n",
    "\n",
    "    # Set default color scale if not provided\n",
    "    if not color_continuous_scale:\n",
    "        color_continuous_scale = px.colors.sequential.Viridis\n",
    "\n",
    "    # Create a line figure\n",
    "    fig = px.line(\n",
    "        df,\n",
    "        x=time_col,\n",
    "        y=y_col_alias,\n",
    "        color=cat_group,\n",
    "        title=title,\n",
    "        labels=labels,\n",
    "        hover_name=hover_name,\n",
    "        hover_data=hover_data,\n",
    "    )\n",
    "    # Set the width and height of the figure\n",
    "    fig.update_layout(width=width, height=height)\n",
    "\n",
    "    #highlight given lines if specified\n",
    "    if highlight:\n",
    "        fig.update_traces(line_color='lightgray')\n",
    "        fig.update_traces(patch={'line': {'color': highlight_color}}, \n",
    "                          selector=dict(name=highlight))\n",
    "\n",
    "    return fig\n",
    "\n",
    "\n",
    "def bar_ranking(df, cat_group, stat_col, stat_alias, title, limit=20, \n",
    "                filter_col=None, filter=None, \n",
    "                time_col='month', time_range=[earliest_date, latest_date],\n",
    "                labels=None, width=800, height=600, \n",
    "                highlight=None):\n",
    "    '''\n",
    "    '''\n",
    "    #initialize df\n",
    "    df = (\n",
    "        df\n",
    "        #filter by time range\n",
    "        .filter(pl.col(time_col).is_between(time_range[0], time_range[1]))\n",
    "    )\n",
    "    #filter if specified\n",
    "    if filter_col:\n",
    "        df = df.filter(pl.col(filter_col).is_in(filter))\n",
    "    #get top n categories\n",
    "    top_cats = (\n",
    "        df\n",
    "        .group_by(cat_group)\n",
    "        .agg(pl.col(stat_col).mean().alias(stat_alias))\n",
    "        .sort(pl.col(stat_alias), descending=True)\n",
    "        .limit(limit)\n",
    "        .to_series()\n",
    "    )\n",
    "    #create df\n",
    "    df = (\n",
    "        df\n",
    "        .filter(pl.col(cat_group).is_in(top_cats.append(pl.Series([highlight]))))\n",
    "        .group_by(cat_group)\n",
    "        .agg(pl.col(stat_col).mean().alias(stat_alias))\n",
    "        .sort(pl.col(stat_alias))\n",
    "    )\n",
    "    # Create a bar figure\n",
    "    fig = px.bar(\n",
    "        df,\n",
    "        x=stat_alias, y=cat_group,\n",
    "        title=title, labels=labels,\n",
    "        width=width, height=height,\n",
    "    )\n",
    "\n",
    "    #set highlight if specified\n",
    "    if highlight:\n",
    "        fig[\"data\"][0][\"marker\"][\"color\"] = (\n",
    "            [fig[\"data\"][0][\"marker\"]['color'] if c == highlight \n",
    "             else \"lightgrey\" for c in fig[\"data\"][0][\"y\"]]\n",
    "        )\n",
    "    \n",
    "    return fig\n"
   ]
  },
  {
   "cell_type": "markdown",
   "id": "738b6e44",
   "metadata": {},
   "source": [
    "## PNREC Visualizations\n",
    "\n",
    "### National Context\n",
    "\n",
    "To put the Northwest Seaport Alliance in context, we present various KPIs and associated trends\n",
    "\n",
    "#### Efficiency Rankings "
   ]
  },
  {
   "cell_type": "code",
   "execution_count": 92,
   "id": "e43978b2",
   "metadata": {},
   "outputs": [
    {
     "data": {
      "application/vnd.plotly.v1+json": {
       "config": {
        "plotlyServerURL": "https://plot.ly"
       },
       "data": [
        {
         "hovertemplate": "Vessel Size (m) per Hour at Berth=%{x}<br>Port=%{y}<extra></extra>",
         "legendgroup": "",
         "marker": {
          "color": [
           "lightgrey",
           "lightgrey",
           "lightgrey",
           "lightgrey",
           "lightgrey",
           "lightgrey",
           "lightgrey",
           "lightgrey",
           "#636efa",
           "lightgrey",
           "lightgrey",
           "lightgrey",
           "lightgrey",
           "lightgrey",
           "lightgrey",
           "lightgrey",
           "lightgrey",
           "lightgrey",
           "lightgrey",
           "lightgrey",
           "lightgrey",
           "lightgrey",
           "lightgrey",
           "lightgrey",
           "lightgrey",
           "lightgrey",
           "lightgrey",
           "lightgrey",
           "lightgrey",
           "lightgrey"
          ],
          "pattern": {
           "shape": ""
          }
         },
         "name": "",
         "orientation": "h",
         "showlegend": false,
         "textposition": "auto",
         "type": "bar",
         "x": {
          "bdata": "ldyRzH+dJkCverOyh24nQNU3zbTo9SdA5bxfzd0lKEDx7afk+o8qQOS3Qk3CSStA8v0XgYw6LEBSqYJhoFosQNW9Q4tiOC9Ayztam9A4L0AGZGBhSVwvQA/fb/DFZi9AJbVL5uwhMED963nFt5YwQESa37km4zBAvkzTJTDvMEAeRQgG0IYxQJo9nylcnTFA82c1a749MkA7WNhWUcQyQLYmOYdS5jJA/TnYYuJ8M0BNNpTK5s0zQIZLWWqoQjVA5yXz/TL8NUBcrb/a/A03QFlRapWfqjpANji6MYICO0DNsBlwgV1AQAqVQe4GhkNA",
          "dtype": "f8"
         },
         "xaxis": "x",
         "y": [
          "Baltimore, MD",
          "New Haven, CT",
          "Panama City Port Authority, FL",
          "Port of Savannah, GA",
          "Port Freeport, TX",
          "Searsport, ME",
          "San Pedro Ports",
          "Guayama, PR",
          "NW Seaport Alliance",
          "Port Everglades, FL",
          "New York, NY & NJ",
          "New Orleans, LA",
          "Port of Everett, WA",
          "Honolulu, O'ahu, HI",
          "Port of Alaska, AK",
          "Oxnard Harbor District, CA",
          "PortMiami, FL",
          "Portsmouth, NH",
          "San Juan, PR",
          "Port of Brunswick, GA",
          "Port of Charleston, SC",
          "Port of Gulfport, MS",
          "Port of Oakland, CA",
          "Wilmington, NC",
          "Virginia, VA, Port of",
          "Boston, MA",
          "Bridgeport, CT",
          "Unalaska Island, AK",
          "Nawiliwili, Kaua'i, HI",
          "Kahului, Maui, HI"
         ],
         "yaxis": "y"
        }
       ],
       "layout": {
        "barmode": "relative",
        "height": 600,
        "legend": {
         "tracegroupgap": 0
        },
        "template": {
         "data": {
          "bar": [
           {
            "error_x": {
             "color": "#2a3f5f"
            },
            "error_y": {
             "color": "#2a3f5f"
            },
            "marker": {
             "line": {
              "color": "#E5ECF6",
              "width": 0.5
             },
             "pattern": {
              "fillmode": "overlay",
              "size": 10,
              "solidity": 0.2
             }
            },
            "type": "bar"
           }
          ],
          "barpolar": [
           {
            "marker": {
             "line": {
              "color": "#E5ECF6",
              "width": 0.5
             },
             "pattern": {
              "fillmode": "overlay",
              "size": 10,
              "solidity": 0.2
             }
            },
            "type": "barpolar"
           }
          ],
          "carpet": [
           {
            "aaxis": {
             "endlinecolor": "#2a3f5f",
             "gridcolor": "white",
             "linecolor": "white",
             "minorgridcolor": "white",
             "startlinecolor": "#2a3f5f"
            },
            "baxis": {
             "endlinecolor": "#2a3f5f",
             "gridcolor": "white",
             "linecolor": "white",
             "minorgridcolor": "white",
             "startlinecolor": "#2a3f5f"
            },
            "type": "carpet"
           }
          ],
          "choropleth": [
           {
            "colorbar": {
             "outlinewidth": 0,
             "ticks": ""
            },
            "type": "choropleth"
           }
          ],
          "contour": [
           {
            "colorbar": {
             "outlinewidth": 0,
             "ticks": ""
            },
            "colorscale": [
             [
              0,
              "#0d0887"
             ],
             [
              0.1111111111111111,
              "#46039f"
             ],
             [
              0.2222222222222222,
              "#7201a8"
             ],
             [
              0.3333333333333333,
              "#9c179e"
             ],
             [
              0.4444444444444444,
              "#bd3786"
             ],
             [
              0.5555555555555556,
              "#d8576b"
             ],
             [
              0.6666666666666666,
              "#ed7953"
             ],
             [
              0.7777777777777778,
              "#fb9f3a"
             ],
             [
              0.8888888888888888,
              "#fdca26"
             ],
             [
              1,
              "#f0f921"
             ]
            ],
            "type": "contour"
           }
          ],
          "contourcarpet": [
           {
            "colorbar": {
             "outlinewidth": 0,
             "ticks": ""
            },
            "type": "contourcarpet"
           }
          ],
          "heatmap": [
           {
            "colorbar": {
             "outlinewidth": 0,
             "ticks": ""
            },
            "colorscale": [
             [
              0,
              "#0d0887"
             ],
             [
              0.1111111111111111,
              "#46039f"
             ],
             [
              0.2222222222222222,
              "#7201a8"
             ],
             [
              0.3333333333333333,
              "#9c179e"
             ],
             [
              0.4444444444444444,
              "#bd3786"
             ],
             [
              0.5555555555555556,
              "#d8576b"
             ],
             [
              0.6666666666666666,
              "#ed7953"
             ],
             [
              0.7777777777777778,
              "#fb9f3a"
             ],
             [
              0.8888888888888888,
              "#fdca26"
             ],
             [
              1,
              "#f0f921"
             ]
            ],
            "type": "heatmap"
           }
          ],
          "histogram": [
           {
            "marker": {
             "pattern": {
              "fillmode": "overlay",
              "size": 10,
              "solidity": 0.2
             }
            },
            "type": "histogram"
           }
          ],
          "histogram2d": [
           {
            "colorbar": {
             "outlinewidth": 0,
             "ticks": ""
            },
            "colorscale": [
             [
              0,
              "#0d0887"
             ],
             [
              0.1111111111111111,
              "#46039f"
             ],
             [
              0.2222222222222222,
              "#7201a8"
             ],
             [
              0.3333333333333333,
              "#9c179e"
             ],
             [
              0.4444444444444444,
              "#bd3786"
             ],
             [
              0.5555555555555556,
              "#d8576b"
             ],
             [
              0.6666666666666666,
              "#ed7953"
             ],
             [
              0.7777777777777778,
              "#fb9f3a"
             ],
             [
              0.8888888888888888,
              "#fdca26"
             ],
             [
              1,
              "#f0f921"
             ]
            ],
            "type": "histogram2d"
           }
          ],
          "histogram2dcontour": [
           {
            "colorbar": {
             "outlinewidth": 0,
             "ticks": ""
            },
            "colorscale": [
             [
              0,
              "#0d0887"
             ],
             [
              0.1111111111111111,
              "#46039f"
             ],
             [
              0.2222222222222222,
              "#7201a8"
             ],
             [
              0.3333333333333333,
              "#9c179e"
             ],
             [
              0.4444444444444444,
              "#bd3786"
             ],
             [
              0.5555555555555556,
              "#d8576b"
             ],
             [
              0.6666666666666666,
              "#ed7953"
             ],
             [
              0.7777777777777778,
              "#fb9f3a"
             ],
             [
              0.8888888888888888,
              "#fdca26"
             ],
             [
              1,
              "#f0f921"
             ]
            ],
            "type": "histogram2dcontour"
           }
          ],
          "mesh3d": [
           {
            "colorbar": {
             "outlinewidth": 0,
             "ticks": ""
            },
            "type": "mesh3d"
           }
          ],
          "parcoords": [
           {
            "line": {
             "colorbar": {
              "outlinewidth": 0,
              "ticks": ""
             }
            },
            "type": "parcoords"
           }
          ],
          "pie": [
           {
            "automargin": true,
            "type": "pie"
           }
          ],
          "scatter": [
           {
            "fillpattern": {
             "fillmode": "overlay",
             "size": 10,
             "solidity": 0.2
            },
            "type": "scatter"
           }
          ],
          "scatter3d": [
           {
            "line": {
             "colorbar": {
              "outlinewidth": 0,
              "ticks": ""
             }
            },
            "marker": {
             "colorbar": {
              "outlinewidth": 0,
              "ticks": ""
             }
            },
            "type": "scatter3d"
           }
          ],
          "scattercarpet": [
           {
            "marker": {
             "colorbar": {
              "outlinewidth": 0,
              "ticks": ""
             }
            },
            "type": "scattercarpet"
           }
          ],
          "scattergeo": [
           {
            "marker": {
             "colorbar": {
              "outlinewidth": 0,
              "ticks": ""
             }
            },
            "type": "scattergeo"
           }
          ],
          "scattergl": [
           {
            "marker": {
             "colorbar": {
              "outlinewidth": 0,
              "ticks": ""
             }
            },
            "type": "scattergl"
           }
          ],
          "scattermap": [
           {
            "marker": {
             "colorbar": {
              "outlinewidth": 0,
              "ticks": ""
             }
            },
            "type": "scattermap"
           }
          ],
          "scattermapbox": [
           {
            "marker": {
             "colorbar": {
              "outlinewidth": 0,
              "ticks": ""
             }
            },
            "type": "scattermapbox"
           }
          ],
          "scatterpolar": [
           {
            "marker": {
             "colorbar": {
              "outlinewidth": 0,
              "ticks": ""
             }
            },
            "type": "scatterpolar"
           }
          ],
          "scatterpolargl": [
           {
            "marker": {
             "colorbar": {
              "outlinewidth": 0,
              "ticks": ""
             }
            },
            "type": "scatterpolargl"
           }
          ],
          "scatterternary": [
           {
            "marker": {
             "colorbar": {
              "outlinewidth": 0,
              "ticks": ""
             }
            },
            "type": "scatterternary"
           }
          ],
          "surface": [
           {
            "colorbar": {
             "outlinewidth": 0,
             "ticks": ""
            },
            "colorscale": [
             [
              0,
              "#0d0887"
             ],
             [
              0.1111111111111111,
              "#46039f"
             ],
             [
              0.2222222222222222,
              "#7201a8"
             ],
             [
              0.3333333333333333,
              "#9c179e"
             ],
             [
              0.4444444444444444,
              "#bd3786"
             ],
             [
              0.5555555555555556,
              "#d8576b"
             ],
             [
              0.6666666666666666,
              "#ed7953"
             ],
             [
              0.7777777777777778,
              "#fb9f3a"
             ],
             [
              0.8888888888888888,
              "#fdca26"
             ],
             [
              1,
              "#f0f921"
             ]
            ],
            "type": "surface"
           }
          ],
          "table": [
           {
            "cells": {
             "fill": {
              "color": "#EBF0F8"
             },
             "line": {
              "color": "white"
             }
            },
            "header": {
             "fill": {
              "color": "#C8D4E3"
             },
             "line": {
              "color": "white"
             }
            },
            "type": "table"
           }
          ]
         },
         "layout": {
          "annotationdefaults": {
           "arrowcolor": "#2a3f5f",
           "arrowhead": 0,
           "arrowwidth": 1
          },
          "autotypenumbers": "strict",
          "coloraxis": {
           "colorbar": {
            "outlinewidth": 0,
            "ticks": ""
           }
          },
          "colorscale": {
           "diverging": [
            [
             0,
             "#8e0152"
            ],
            [
             0.1,
             "#c51b7d"
            ],
            [
             0.2,
             "#de77ae"
            ],
            [
             0.3,
             "#f1b6da"
            ],
            [
             0.4,
             "#fde0ef"
            ],
            [
             0.5,
             "#f7f7f7"
            ],
            [
             0.6,
             "#e6f5d0"
            ],
            [
             0.7,
             "#b8e186"
            ],
            [
             0.8,
             "#7fbc41"
            ],
            [
             0.9,
             "#4d9221"
            ],
            [
             1,
             "#276419"
            ]
           ],
           "sequential": [
            [
             0,
             "#0d0887"
            ],
            [
             0.1111111111111111,
             "#46039f"
            ],
            [
             0.2222222222222222,
             "#7201a8"
            ],
            [
             0.3333333333333333,
             "#9c179e"
            ],
            [
             0.4444444444444444,
             "#bd3786"
            ],
            [
             0.5555555555555556,
             "#d8576b"
            ],
            [
             0.6666666666666666,
             "#ed7953"
            ],
            [
             0.7777777777777778,
             "#fb9f3a"
            ],
            [
             0.8888888888888888,
             "#fdca26"
            ],
            [
             1,
             "#f0f921"
            ]
           ],
           "sequentialminus": [
            [
             0,
             "#0d0887"
            ],
            [
             0.1111111111111111,
             "#46039f"
            ],
            [
             0.2222222222222222,
             "#7201a8"
            ],
            [
             0.3333333333333333,
             "#9c179e"
            ],
            [
             0.4444444444444444,
             "#bd3786"
            ],
            [
             0.5555555555555556,
             "#d8576b"
            ],
            [
             0.6666666666666666,
             "#ed7953"
            ],
            [
             0.7777777777777778,
             "#fb9f3a"
            ],
            [
             0.8888888888888888,
             "#fdca26"
            ],
            [
             1,
             "#f0f921"
            ]
           ]
          },
          "colorway": [
           "#636efa",
           "#EF553B",
           "#00cc96",
           "#ab63fa",
           "#FFA15A",
           "#19d3f3",
           "#FF6692",
           "#B6E880",
           "#FF97FF",
           "#FECB52"
          ],
          "font": {
           "color": "#2a3f5f"
          },
          "geo": {
           "bgcolor": "white",
           "lakecolor": "white",
           "landcolor": "#E5ECF6",
           "showlakes": true,
           "showland": true,
           "subunitcolor": "white"
          },
          "hoverlabel": {
           "align": "left"
          },
          "hovermode": "closest",
          "mapbox": {
           "style": "light"
          },
          "paper_bgcolor": "white",
          "plot_bgcolor": "#E5ECF6",
          "polar": {
           "angularaxis": {
            "gridcolor": "white",
            "linecolor": "white",
            "ticks": ""
           },
           "bgcolor": "#E5ECF6",
           "radialaxis": {
            "gridcolor": "white",
            "linecolor": "white",
            "ticks": ""
           }
          },
          "scene": {
           "xaxis": {
            "backgroundcolor": "#E5ECF6",
            "gridcolor": "white",
            "gridwidth": 2,
            "linecolor": "white",
            "showbackground": true,
            "ticks": "",
            "zerolinecolor": "white"
           },
           "yaxis": {
            "backgroundcolor": "#E5ECF6",
            "gridcolor": "white",
            "gridwidth": 2,
            "linecolor": "white",
            "showbackground": true,
            "ticks": "",
            "zerolinecolor": "white"
           },
           "zaxis": {
            "backgroundcolor": "#E5ECF6",
            "gridcolor": "white",
            "gridwidth": 2,
            "linecolor": "white",
            "showbackground": true,
            "ticks": "",
            "zerolinecolor": "white"
           }
          },
          "shapedefaults": {
           "line": {
            "color": "#2a3f5f"
           }
          },
          "ternary": {
           "aaxis": {
            "gridcolor": "white",
            "linecolor": "white",
            "ticks": ""
           },
           "baxis": {
            "gridcolor": "white",
            "linecolor": "white",
            "ticks": ""
           },
           "bgcolor": "#E5ECF6",
           "caxis": {
            "gridcolor": "white",
            "linecolor": "white",
            "ticks": ""
           }
          },
          "title": {
           "x": 0.05
          },
          "xaxis": {
           "automargin": true,
           "gridcolor": "white",
           "linecolor": "white",
           "ticks": "",
           "title": {
            "standoff": 15
           },
           "zerolinecolor": "white",
           "zerolinewidth": 2
          },
          "yaxis": {
           "automargin": true,
           "gridcolor": "white",
           "linecolor": "white",
           "ticks": "",
           "title": {
            "standoff": 15
           },
           "zerolinecolor": "white",
           "zerolinewidth": 2
          }
         }
        },
        "title": {
         "text": "Port Efficiency: Vessel Size per Hour at Berth"
        },
        "width": 800,
        "xaxis": {
         "anchor": "y",
         "domain": [
          0,
          1
         ],
         "title": {
          "text": "Vessel Size (m) per Hour at Berth"
         }
        },
        "yaxis": {
         "anchor": "x",
         "domain": [
          0,
          1
         ],
         "title": {
          "text": "Port"
         }
        }
       }
      }
     },
     "metadata": {},
     "output_type": "display_data"
    }
   ],
   "source": [
    "#group and define efficiency metrict\n",
    "df = (\n",
    "    calls_df\n",
    "    .with_columns(\n",
    "        (pl.col('vessel_size')/pl.col('hrs_at_berth')).alias('Efficiency Score')\n",
    "    )\n",
    ")\n",
    "\n",
    "bar_ranking(\n",
    "    df,\n",
    "    cat_group='port_group',\n",
    "    stat_col='Efficiency Score',\n",
    "    stat_alias='Vessel Size (m) per Hour at Berth',\n",
    "    title='Port Efficiency: Vessel Size per Hour at Berth',\n",
    "    limit=30,\n",
    "    labels={'port_group':'Port'},\n",
    "    highlight='NW Seaport Alliance',\n",
    "    width=800,\n",
    "    height=600,\n",
    ")"
   ]
  },
  {
   "cell_type": "markdown",
   "id": "84986214",
   "metadata": {},
   "source": [
    "better: total volume per hour at berth"
   ]
  },
  {
   "cell_type": "code",
   "execution_count": 93,
   "id": "5c6687bf",
   "metadata": {},
   "outputs": [
    {
     "data": {
      "application/vnd.plotly.v1+json": {
       "config": {
        "plotlyServerURL": "https://plot.ly"
       },
       "data": [
        {
         "hovertemplate": "Time in Port Waters (hrs)=%{x}<br>=%{y}<extra></extra>",
         "legendgroup": "",
         "marker": {
          "color": [
           "lightgrey",
           "lightgrey",
           "lightgrey",
           "lightgrey",
           "lightgrey",
           "lightgrey",
           "lightgrey",
           "lightgrey",
           "lightgrey",
           "lightgrey",
           "lightgrey",
           "#636efa",
           "lightgrey",
           "lightgrey",
           "lightgrey",
           "lightgrey",
           "lightgrey",
           "lightgrey",
           "lightgrey",
           "lightgrey"
          ],
          "pattern": {
           "shape": ""
          }
         },
         "name": "",
         "orientation": "h",
         "showlegend": false,
         "textposition": "auto",
         "type": "bar",
         "x": {
          "bdata": "RFDXoB/cPUDjbYqY8gpAQBfPMmQuV0JAmpwOSEH8Q0DMtVkJUoVGQPahrvOzF0pA2J8znshFSkB8P6n5kZxKQCt6Ub3NN0tAORLT8wbOTkCg/hGjatBOQOXO4cHXAlBAyGzRvR4eUEB3mZt9IbtRQLP3QIl8GVJAmXoxzMfoU0DxigvGcHlUQMKjT5f5H1dAYZvddo+bW0Bn8h7NoaZcQA==",
          "dtype": "f8"
         },
         "xaxis": "x",
         "y": [
          "San Juan, PR",
          "PortMiami, FL",
          "Wilmington, NC",
          "Port of Brunswick, GA",
          "Texas City, TX",
          "Port Everglades, FL",
          "Virginia, VA, Port of",
          "Honolulu, O'ahu, HI",
          "Port of Savannah, GA",
          "South Louisiana, LA, Port of",
          "Port of Oakland, CA",
          "NW Seaport Alliance",
          "Port Arthur, TX",
          "Mobile, AL",
          "Baltimore, MD",
          "Corpus Christi, TX",
          "New Orleans, LA",
          "Galveston, TX",
          "San Pedro Ports",
          "Houston Port Authority, TX"
         ],
         "yaxis": "y"
        }
       ],
       "layout": {
        "barmode": "relative",
        "height": 500,
        "legend": {
         "tracegroupgap": 0
        },
        "template": {
         "data": {
          "bar": [
           {
            "error_x": {
             "color": "#2a3f5f"
            },
            "error_y": {
             "color": "#2a3f5f"
            },
            "marker": {
             "line": {
              "color": "#E5ECF6",
              "width": 0.5
             },
             "pattern": {
              "fillmode": "overlay",
              "size": 10,
              "solidity": 0.2
             }
            },
            "type": "bar"
           }
          ],
          "barpolar": [
           {
            "marker": {
             "line": {
              "color": "#E5ECF6",
              "width": 0.5
             },
             "pattern": {
              "fillmode": "overlay",
              "size": 10,
              "solidity": 0.2
             }
            },
            "type": "barpolar"
           }
          ],
          "carpet": [
           {
            "aaxis": {
             "endlinecolor": "#2a3f5f",
             "gridcolor": "white",
             "linecolor": "white",
             "minorgridcolor": "white",
             "startlinecolor": "#2a3f5f"
            },
            "baxis": {
             "endlinecolor": "#2a3f5f",
             "gridcolor": "white",
             "linecolor": "white",
             "minorgridcolor": "white",
             "startlinecolor": "#2a3f5f"
            },
            "type": "carpet"
           }
          ],
          "choropleth": [
           {
            "colorbar": {
             "outlinewidth": 0,
             "ticks": ""
            },
            "type": "choropleth"
           }
          ],
          "contour": [
           {
            "colorbar": {
             "outlinewidth": 0,
             "ticks": ""
            },
            "colorscale": [
             [
              0,
              "#0d0887"
             ],
             [
              0.1111111111111111,
              "#46039f"
             ],
             [
              0.2222222222222222,
              "#7201a8"
             ],
             [
              0.3333333333333333,
              "#9c179e"
             ],
             [
              0.4444444444444444,
              "#bd3786"
             ],
             [
              0.5555555555555556,
              "#d8576b"
             ],
             [
              0.6666666666666666,
              "#ed7953"
             ],
             [
              0.7777777777777778,
              "#fb9f3a"
             ],
             [
              0.8888888888888888,
              "#fdca26"
             ],
             [
              1,
              "#f0f921"
             ]
            ],
            "type": "contour"
           }
          ],
          "contourcarpet": [
           {
            "colorbar": {
             "outlinewidth": 0,
             "ticks": ""
            },
            "type": "contourcarpet"
           }
          ],
          "heatmap": [
           {
            "colorbar": {
             "outlinewidth": 0,
             "ticks": ""
            },
            "colorscale": [
             [
              0,
              "#0d0887"
             ],
             [
              0.1111111111111111,
              "#46039f"
             ],
             [
              0.2222222222222222,
              "#7201a8"
             ],
             [
              0.3333333333333333,
              "#9c179e"
             ],
             [
              0.4444444444444444,
              "#bd3786"
             ],
             [
              0.5555555555555556,
              "#d8576b"
             ],
             [
              0.6666666666666666,
              "#ed7953"
             ],
             [
              0.7777777777777778,
              "#fb9f3a"
             ],
             [
              0.8888888888888888,
              "#fdca26"
             ],
             [
              1,
              "#f0f921"
             ]
            ],
            "type": "heatmap"
           }
          ],
          "histogram": [
           {
            "marker": {
             "pattern": {
              "fillmode": "overlay",
              "size": 10,
              "solidity": 0.2
             }
            },
            "type": "histogram"
           }
          ],
          "histogram2d": [
           {
            "colorbar": {
             "outlinewidth": 0,
             "ticks": ""
            },
            "colorscale": [
             [
              0,
              "#0d0887"
             ],
             [
              0.1111111111111111,
              "#46039f"
             ],
             [
              0.2222222222222222,
              "#7201a8"
             ],
             [
              0.3333333333333333,
              "#9c179e"
             ],
             [
              0.4444444444444444,
              "#bd3786"
             ],
             [
              0.5555555555555556,
              "#d8576b"
             ],
             [
              0.6666666666666666,
              "#ed7953"
             ],
             [
              0.7777777777777778,
              "#fb9f3a"
             ],
             [
              0.8888888888888888,
              "#fdca26"
             ],
             [
              1,
              "#f0f921"
             ]
            ],
            "type": "histogram2d"
           }
          ],
          "histogram2dcontour": [
           {
            "colorbar": {
             "outlinewidth": 0,
             "ticks": ""
            },
            "colorscale": [
             [
              0,
              "#0d0887"
             ],
             [
              0.1111111111111111,
              "#46039f"
             ],
             [
              0.2222222222222222,
              "#7201a8"
             ],
             [
              0.3333333333333333,
              "#9c179e"
             ],
             [
              0.4444444444444444,
              "#bd3786"
             ],
             [
              0.5555555555555556,
              "#d8576b"
             ],
             [
              0.6666666666666666,
              "#ed7953"
             ],
             [
              0.7777777777777778,
              "#fb9f3a"
             ],
             [
              0.8888888888888888,
              "#fdca26"
             ],
             [
              1,
              "#f0f921"
             ]
            ],
            "type": "histogram2dcontour"
           }
          ],
          "mesh3d": [
           {
            "colorbar": {
             "outlinewidth": 0,
             "ticks": ""
            },
            "type": "mesh3d"
           }
          ],
          "parcoords": [
           {
            "line": {
             "colorbar": {
              "outlinewidth": 0,
              "ticks": ""
             }
            },
            "type": "parcoords"
           }
          ],
          "pie": [
           {
            "automargin": true,
            "type": "pie"
           }
          ],
          "scatter": [
           {
            "fillpattern": {
             "fillmode": "overlay",
             "size": 10,
             "solidity": 0.2
            },
            "type": "scatter"
           }
          ],
          "scatter3d": [
           {
            "line": {
             "colorbar": {
              "outlinewidth": 0,
              "ticks": ""
             }
            },
            "marker": {
             "colorbar": {
              "outlinewidth": 0,
              "ticks": ""
             }
            },
            "type": "scatter3d"
           }
          ],
          "scattercarpet": [
           {
            "marker": {
             "colorbar": {
              "outlinewidth": 0,
              "ticks": ""
             }
            },
            "type": "scattercarpet"
           }
          ],
          "scattergeo": [
           {
            "marker": {
             "colorbar": {
              "outlinewidth": 0,
              "ticks": ""
             }
            },
            "type": "scattergeo"
           }
          ],
          "scattergl": [
           {
            "marker": {
             "colorbar": {
              "outlinewidth": 0,
              "ticks": ""
             }
            },
            "type": "scattergl"
           }
          ],
          "scattermap": [
           {
            "marker": {
             "colorbar": {
              "outlinewidth": 0,
              "ticks": ""
             }
            },
            "type": "scattermap"
           }
          ],
          "scattermapbox": [
           {
            "marker": {
             "colorbar": {
              "outlinewidth": 0,
              "ticks": ""
             }
            },
            "type": "scattermapbox"
           }
          ],
          "scatterpolar": [
           {
            "marker": {
             "colorbar": {
              "outlinewidth": 0,
              "ticks": ""
             }
            },
            "type": "scatterpolar"
           }
          ],
          "scatterpolargl": [
           {
            "marker": {
             "colorbar": {
              "outlinewidth": 0,
              "ticks": ""
             }
            },
            "type": "scatterpolargl"
           }
          ],
          "scatterternary": [
           {
            "marker": {
             "colorbar": {
              "outlinewidth": 0,
              "ticks": ""
             }
            },
            "type": "scatterternary"
           }
          ],
          "surface": [
           {
            "colorbar": {
             "outlinewidth": 0,
             "ticks": ""
            },
            "colorscale": [
             [
              0,
              "#0d0887"
             ],
             [
              0.1111111111111111,
              "#46039f"
             ],
             [
              0.2222222222222222,
              "#7201a8"
             ],
             [
              0.3333333333333333,
              "#9c179e"
             ],
             [
              0.4444444444444444,
              "#bd3786"
             ],
             [
              0.5555555555555556,
              "#d8576b"
             ],
             [
              0.6666666666666666,
              "#ed7953"
             ],
             [
              0.7777777777777778,
              "#fb9f3a"
             ],
             [
              0.8888888888888888,
              "#fdca26"
             ],
             [
              1,
              "#f0f921"
             ]
            ],
            "type": "surface"
           }
          ],
          "table": [
           {
            "cells": {
             "fill": {
              "color": "#EBF0F8"
             },
             "line": {
              "color": "white"
             }
            },
            "header": {
             "fill": {
              "color": "#C8D4E3"
             },
             "line": {
              "color": "white"
             }
            },
            "type": "table"
           }
          ]
         },
         "layout": {
          "annotationdefaults": {
           "arrowcolor": "#2a3f5f",
           "arrowhead": 0,
           "arrowwidth": 1
          },
          "autotypenumbers": "strict",
          "coloraxis": {
           "colorbar": {
            "outlinewidth": 0,
            "ticks": ""
           }
          },
          "colorscale": {
           "diverging": [
            [
             0,
             "#8e0152"
            ],
            [
             0.1,
             "#c51b7d"
            ],
            [
             0.2,
             "#de77ae"
            ],
            [
             0.3,
             "#f1b6da"
            ],
            [
             0.4,
             "#fde0ef"
            ],
            [
             0.5,
             "#f7f7f7"
            ],
            [
             0.6,
             "#e6f5d0"
            ],
            [
             0.7,
             "#b8e186"
            ],
            [
             0.8,
             "#7fbc41"
            ],
            [
             0.9,
             "#4d9221"
            ],
            [
             1,
             "#276419"
            ]
           ],
           "sequential": [
            [
             0,
             "#0d0887"
            ],
            [
             0.1111111111111111,
             "#46039f"
            ],
            [
             0.2222222222222222,
             "#7201a8"
            ],
            [
             0.3333333333333333,
             "#9c179e"
            ],
            [
             0.4444444444444444,
             "#bd3786"
            ],
            [
             0.5555555555555556,
             "#d8576b"
            ],
            [
             0.6666666666666666,
             "#ed7953"
            ],
            [
             0.7777777777777778,
             "#fb9f3a"
            ],
            [
             0.8888888888888888,
             "#fdca26"
            ],
            [
             1,
             "#f0f921"
            ]
           ],
           "sequentialminus": [
            [
             0,
             "#0d0887"
            ],
            [
             0.1111111111111111,
             "#46039f"
            ],
            [
             0.2222222222222222,
             "#7201a8"
            ],
            [
             0.3333333333333333,
             "#9c179e"
            ],
            [
             0.4444444444444444,
             "#bd3786"
            ],
            [
             0.5555555555555556,
             "#d8576b"
            ],
            [
             0.6666666666666666,
             "#ed7953"
            ],
            [
             0.7777777777777778,
             "#fb9f3a"
            ],
            [
             0.8888888888888888,
             "#fdca26"
            ],
            [
             1,
             "#f0f921"
            ]
           ]
          },
          "colorway": [
           "#636efa",
           "#EF553B",
           "#00cc96",
           "#ab63fa",
           "#FFA15A",
           "#19d3f3",
           "#FF6692",
           "#B6E880",
           "#FF97FF",
           "#FECB52"
          ],
          "font": {
           "color": "#2a3f5f"
          },
          "geo": {
           "bgcolor": "white",
           "lakecolor": "white",
           "landcolor": "#E5ECF6",
           "showlakes": true,
           "showland": true,
           "subunitcolor": "white"
          },
          "hoverlabel": {
           "align": "left"
          },
          "hovermode": "closest",
          "mapbox": {
           "style": "light"
          },
          "paper_bgcolor": "white",
          "plot_bgcolor": "#E5ECF6",
          "polar": {
           "angularaxis": {
            "gridcolor": "white",
            "linecolor": "white",
            "ticks": ""
           },
           "bgcolor": "#E5ECF6",
           "radialaxis": {
            "gridcolor": "white",
            "linecolor": "white",
            "ticks": ""
           }
          },
          "scene": {
           "xaxis": {
            "backgroundcolor": "#E5ECF6",
            "gridcolor": "white",
            "gridwidth": 2,
            "linecolor": "white",
            "showbackground": true,
            "ticks": "",
            "zerolinecolor": "white"
           },
           "yaxis": {
            "backgroundcolor": "#E5ECF6",
            "gridcolor": "white",
            "gridwidth": 2,
            "linecolor": "white",
            "showbackground": true,
            "ticks": "",
            "zerolinecolor": "white"
           },
           "zaxis": {
            "backgroundcolor": "#E5ECF6",
            "gridcolor": "white",
            "gridwidth": 2,
            "linecolor": "white",
            "showbackground": true,
            "ticks": "",
            "zerolinecolor": "white"
           }
          },
          "shapedefaults": {
           "line": {
            "color": "#2a3f5f"
           }
          },
          "ternary": {
           "aaxis": {
            "gridcolor": "white",
            "linecolor": "white",
            "ticks": ""
           },
           "baxis": {
            "gridcolor": "white",
            "linecolor": "white",
            "ticks": ""
           },
           "bgcolor": "#E5ECF6",
           "caxis": {
            "gridcolor": "white",
            "linecolor": "white",
            "ticks": ""
           }
          },
          "title": {
           "x": 0.05
          },
          "xaxis": {
           "automargin": true,
           "gridcolor": "white",
           "linecolor": "white",
           "ticks": "",
           "title": {
            "standoff": 15
           },
           "zerolinecolor": "white",
           "zerolinewidth": 2
          },
          "yaxis": {
           "automargin": true,
           "gridcolor": "white",
           "linecolor": "white",
           "ticks": "",
           "title": {
            "standoff": 15
           },
           "zerolinecolor": "white",
           "zerolinewidth": 2
          }
         }
        },
        "title": {
         "text": "Average Time in Port Waters (Top 20 ports by total calls)"
        },
        "width": 800,
        "xaxis": {
         "anchor": "y",
         "domain": [
          0,
          1
         ],
         "title": {
          "text": "Time in Port Waters (hrs)"
         }
        },
        "yaxis": {
         "anchor": "x",
         "domain": [
          0,
          1
         ],
         "title": {
          "text": ""
         }
        }
       }
      }
     },
     "metadata": {},
     "output_type": "display_data"
    }
   ],
   "source": [
    "#get top 20 ports by calls\n",
    "top_groups_calls = (\n",
    "    calls_df\n",
    "    .group_by('port_group')\n",
    "    .agg(pl.col('call_id').count().alias('total_calls'))\n",
    "    .sort(pl.col('total_calls'), descending=True)\n",
    "    .limit(20)\n",
    ")\n",
    "\n",
    "#plot\n",
    "bar_ranking(df=calls_df, cat_group='port_group', stat_col='hrs_in_port_waters',\n",
    "            filter_col='port_group', filter=top_groups_calls['port_group'],\n",
    "            stat_alias='Time in Port Waters (hrs)', \n",
    "            title='Average Time in Port Waters (Top 20 ports by total calls)',\n",
    "            labels={'port_group':''}, highlight='NW Seaport Alliance',\n",
    "            limit=50, width=800, height=500)"
   ]
  },
  {
   "cell_type": "markdown",
   "id": "1b58951a",
   "metadata": {},
   "source": [
    "Better to filter by volume"
   ]
  },
  {
   "cell_type": "code",
   "execution_count": 94,
   "id": "e5e7b866",
   "metadata": {},
   "outputs": [
    {
     "data": {
      "application/vnd.plotly.v1+json": {
       "config": {
        "plotlyServerURL": "https://plot.ly"
       },
       "data": [
        {
         "hovertemplate": "Port=Baltimore, MD<br>=%{x}<br>Average Hours at Berth=%{y}<extra></extra>",
         "legendgroup": "Baltimore, MD",
         "line": {
          "color": "lightgray",
          "dash": "solid"
         },
         "marker": {
          "symbol": "circle"
         },
         "mode": "lines",
         "name": "Baltimore, MD",
         "orientation": "v",
         "showlegend": true,
         "type": "scatter",
         "x": [
          "2018-01-01",
          "2018-02-01",
          "2018-03-01",
          "2018-04-01",
          "2018-05-01",
          "2018-06-01",
          "2018-07-01",
          "2018-08-01",
          "2018-09-01",
          "2018-10-01",
          "2018-11-01",
          "2018-12-01",
          "2019-01-01",
          "2019-02-01",
          "2019-03-01",
          "2019-04-01",
          "2019-05-01",
          "2019-06-01",
          "2019-07-01",
          "2019-08-01",
          "2019-09-01",
          "2019-10-01",
          "2019-11-01",
          "2019-12-01",
          "2020-01-01",
          "2020-02-01",
          "2020-03-01",
          "2020-04-01",
          "2020-05-01",
          "2020-06-01",
          "2020-07-01",
          "2020-08-01",
          "2020-09-01",
          "2020-10-01",
          "2020-11-01",
          "2020-12-01",
          "2021-01-01",
          "2021-02-01",
          "2021-03-01",
          "2021-04-01",
          "2021-05-01",
          "2021-06-01",
          "2021-07-01",
          "2021-08-01",
          "2021-09-01",
          "2021-10-01",
          "2021-11-01",
          "2021-12-01",
          "2022-01-01",
          "2022-02-01",
          "2022-03-01",
          "2022-04-01",
          "2022-05-01",
          "2022-06-01",
          "2022-07-01",
          "2022-08-01",
          "2022-09-01",
          "2022-10-01",
          "2022-11-01",
          "2022-12-01",
          "2023-01-01",
          "2023-02-01",
          "2023-03-01",
          "2023-04-01",
          "2023-05-01",
          "2023-06-01",
          "2023-07-01",
          "2023-08-01",
          "2023-09-01",
          "2023-10-01",
          "2023-11-01",
          "2023-12-01",
          "2024-01-01",
          "2024-02-01",
          "2024-03-01",
          "2024-04-01",
          "2024-05-01",
          "2024-06-01",
          "2024-07-01",
          "2024-08-01",
          "2024-09-01",
          "2024-10-01",
          "2024-11-01",
          "2024-12-01"
         ],
         "xaxis": "x",
         "y": {
          "bdata": "rTqi3sFbQ0BzHMdxHHpHQHp3d3d3d0xAShvR7ck2RUDboNh6O6A+QCiJXNuN8kBAUZ0Mh1r2Q0D0wgwtW09FQDXxrGgk4EFAypfeW8OGRUDcAZ85QXpBQKnJ484SNkRAmjS3TqKSQUDF4S7MK8dFQE3BmGh/ikFAwxZswRbHRECZ1vHmhDJBQLy2cUkHtkNAW78xN2ixQ0Bs+wWC8whBQIHgPDrbnkVAAgrVEqDwQUBWY9ZuMs9BQOyXfumXnkNAioYJyGiYQkDUbQehOnRDQGaN1miNFkRAYGFhYWGhREANwzAMw9RDQC677LLL7kJAiMS8nSFxQUAzXsyOixpCQFYDSDWAZEpAUtg0i5drREBTXy311TJIQHiDFkLKo0lAGKdfg3FaRECLiIiIiMhEQNhTJ8OhtkVA3yM+4iN+RkDVyV2DM51KQAzJ1Nus0ElApF5H6nWwRkDXKF84nfBMQExPcPQEx0tAOtlkk01iTUB1oyRybZdIQHjllslFaU9AdP3G3KAlSkBmoit4O/JJQM1Hc26LXUhAffgMuwJUTkBriqZoigZOQKi0LChK21NAoJoHuetnTkBtwhdtwudLQIYVm8crNVBAILQC0FOQTUBBH1GGNs5LQFuKOvv9SE5AtI3yhdMpR0BlnKHQd5hIQOZWKG6F8khAFKXxkQnUSkAhOI/Otr9MQF/l0CLbwUlAJb9Y8ot1S0DEBA/miRpGQEb4x+keEEhAMcqiLMpCR0A0qYLof51IQFY6yYGlw0tAzD6ds6RORUCO2gOpPRBIQIqfUeJnhFpAq6qqqqpaTUBr+NsUowZIQK2qqqqqVkpAZI5ML1sZR0COXbz+eSNIQHox8vcltkhAj/fPPtU8RUCq33NLnHpHQJ/iQRIq/kxA",
          "dtype": "f8"
         },
         "yaxis": "y"
        },
        {
         "hovertemplate": "Port=Houston Port Authority, TX<br>=%{x}<br>Average Hours at Berth=%{y}<extra></extra>",
         "legendgroup": "Houston Port Authority, TX",
         "line": {
          "color": "lightgray",
          "dash": "solid"
         },
         "marker": {
          "symbol": "circle"
         },
         "mode": "lines",
         "name": "Houston Port Authority, TX",
         "orientation": "v",
         "showlegend": true,
         "type": "scatter",
         "x": [
          "2018-01-01",
          "2018-02-01",
          "2018-03-01",
          "2018-04-01",
          "2018-05-01",
          "2018-06-01",
          "2018-07-01",
          "2018-08-01",
          "2018-09-01",
          "2018-10-01",
          "2018-11-01",
          "2018-12-01",
          "2019-01-01",
          "2019-02-01",
          "2019-03-01",
          "2019-04-01",
          "2019-05-01",
          "2019-06-01",
          "2019-07-01",
          "2019-08-01",
          "2019-09-01",
          "2019-10-01",
          "2019-11-01",
          "2019-12-01",
          "2020-01-01",
          "2020-02-01",
          "2020-03-01",
          "2020-04-01",
          "2020-05-01",
          "2020-06-01",
          "2020-07-01",
          "2020-08-01",
          "2020-09-01",
          "2020-10-01",
          "2020-11-01",
          "2020-12-01",
          "2021-01-01",
          "2021-02-01",
          "2021-03-01",
          "2021-04-01",
          "2021-05-01",
          "2021-06-01",
          "2021-07-01",
          "2021-08-01",
          "2021-09-01",
          "2021-10-01",
          "2021-11-01",
          "2021-12-01",
          "2022-01-01",
          "2022-02-01",
          "2022-03-01",
          "2022-04-01",
          "2022-05-01",
          "2022-06-01",
          "2022-07-01",
          "2022-08-01",
          "2022-09-01",
          "2022-10-01",
          "2022-11-01",
          "2022-12-01",
          "2023-01-01",
          "2023-02-01",
          "2023-03-01",
          "2023-04-01",
          "2023-05-01",
          "2023-06-01",
          "2023-07-01",
          "2023-08-01",
          "2023-09-01",
          "2023-10-01",
          "2023-11-01",
          "2023-12-01",
          "2024-01-01",
          "2024-02-01",
          "2024-03-01",
          "2024-04-01",
          "2024-05-01",
          "2024-06-01",
          "2024-07-01",
          "2024-08-01",
          "2024-09-01",
          "2024-10-01",
          "2024-11-01",
          "2024-12-01"
         ],
         "xaxis": "x",
         "y": {
          "bdata": "v4LMqUEZVECLt7LPIfVXQOlEIaafLVRAjmrLVdJoVkDiJC1O0tJNQBdaCpnP/lRAIv414l/jTkCf76fGS9dUQAHfvJp4NlNAMLI4zIZWTUC4t7e3t0dQQMZjPMZjFFNAM++/y4hZU0BQKXrYGx1UQFfjmk0dF2BAmZmZmRktUUAv0o4VCGNRQC0qR5msKFBAMzMzMzMLVUAysRi8en5TQFhiJVZi1VNApi63P8gAVkAaQKoBpOpUQEigaKvBm1VAxhSE/tF9T0AmcAIncPJSQMAP/MAPxFRAo4suuujSVEBYg+cIFJ1NQClfOJ0wflJAicb60FhfUUCKiIiIiEhRQGU41LKnzlBA8Af8AX/QUUD5eq/3ep9RQPfQU4FZjFVAJFnnygNSWkDs0G+2Dh1dQIfrUbgeRVNAbw3wgqRcVECWOPV7bqlVQC/lUi7lQldAZ6wPjfUxWUBZDF+KP5JdQAbm2oG5ll5AncAJnMCnX0BZflBU6cxWQBvotIFOc2BAUDA4tpb+ZEAYMI0B09hgQNMQKulGoV9A/Gbr0G/uX0D3EtpLaIFdQPnDAY8/pGRAAaSFKhkVY0CF00QOH8teQMbbrghVpGVAhcxnX4n3XkBgGgOmMSBgQFdfKmj1NWJAf7+CzKkBYUCR8RiP8ZxbQAKORfjHuVxAoBov3SRmVkCLUcPfpmhXQF3KpVzKO1tACDFyECOnVkAO0iAN0hRbQF3RSMA3/1pA7+7u7u4YXEA8sRM7sddWQG3xphZv2lZAzczMzAxdV0AFW7AFW6NVQOToJxgci1dAx2V4XIZXWUBhdjofKhRgQAPj2lg4cFpA1890xL7zX0CXtTomePhWQFuXcS5+j1lAkh7X+uihW0CDdbR5nxJXQGu0Rmu09lRA",
          "dtype": "f8"
         },
         "yaxis": "y"
        },
        {
         "hovertemplate": "Port=San Pedro Ports<br>=%{x}<br>Average Hours at Berth=%{y}<extra></extra>",
         "legendgroup": "San Pedro Ports",
         "line": {
          "color": "lightgray",
          "dash": "solid"
         },
         "marker": {
          "symbol": "circle"
         },
         "mode": "lines",
         "name": "San Pedro Ports",
         "orientation": "v",
         "showlegend": true,
         "type": "scatter",
         "x": [
          "2018-01-01",
          "2018-02-01",
          "2018-03-01",
          "2018-04-01",
          "2018-05-01",
          "2018-06-01",
          "2018-07-01",
          "2018-08-01",
          "2018-09-01",
          "2018-10-01",
          "2018-11-01",
          "2018-12-01",
          "2019-01-01",
          "2019-02-01",
          "2019-03-01",
          "2019-04-01",
          "2019-05-01",
          "2019-06-01",
          "2019-07-01",
          "2019-08-01",
          "2019-09-01",
          "2019-10-01",
          "2019-11-01",
          "2019-12-01",
          "2020-01-01",
          "2020-02-01",
          "2020-03-01",
          "2020-04-01",
          "2020-05-01",
          "2020-06-01",
          "2020-07-01",
          "2020-08-01",
          "2020-09-01",
          "2020-10-01",
          "2020-11-01",
          "2020-12-01",
          "2021-01-01",
          "2021-02-01",
          "2021-03-01",
          "2021-04-01",
          "2021-05-01",
          "2021-06-01",
          "2021-07-01",
          "2021-08-01",
          "2021-09-01",
          "2021-10-01",
          "2021-11-01",
          "2021-12-01",
          "2022-01-01",
          "2022-02-01",
          "2022-03-01",
          "2022-04-01",
          "2022-05-01",
          "2022-06-01",
          "2022-07-01",
          "2022-08-01",
          "2022-09-01",
          "2022-10-01",
          "2022-11-01",
          "2022-12-01",
          "2023-01-01",
          "2023-02-01",
          "2023-03-01",
          "2023-04-01",
          "2023-05-01",
          "2023-06-01",
          "2023-07-01",
          "2023-08-01",
          "2023-09-01",
          "2023-10-01",
          "2023-11-01",
          "2023-12-01",
          "2024-01-01",
          "2024-02-01",
          "2024-03-01",
          "2024-04-01",
          "2024-05-01",
          "2024-06-01",
          "2024-07-01",
          "2024-08-01",
          "2024-09-01",
          "2024-10-01",
          "2024-11-01",
          "2024-12-01"
         ],
         "xaxis": "x",
         "y": {
          "bdata": "vr/JbKf0R0BfpdIyf+FIQJfL79XDuFBAiuejObdFSUDmtIFOG+BLQLqyzyE1cUtA3JC8Dcl7S0D1HRk2iKNJQMvMzMxMJEtAWXGBHs48S0D8gBKJNUZLQFcQkyuIsU9AwLu7u7t5T0ASd8mFxixKQJfxZTd99ElADLZgC7bISUBYWvlUNxxJQKf31rBZsUhAIUbprtr5SEAbPpbdePBKQLF5vNKEYUhALxW4Q3LMSEBBao6llfBJQFN/Sv0p1UhAISMgJhqSSUD/dmVC/K9FQEzgBE7gCElALIuyKIsKSkAX+IckC1dLQIKYrgo1MEhAb4iLMWODSEBMLlLERvdJQDD4TlNgR0xAILbXL3eSTUAyeGLYfKtRQP7repLt/1RA2dra2to2VUCjvasBMj1TQCQptDZ83VRAt72WHOJaVEB0mAsOrFtZQFhVVVXVx1RAcTIcatkTV0B/ipIYfehUQHC+HGDZJlRABK2+VNDaV0BskEXbr7ZTQLr6QUcFzllA3CG9tN6sVkDN9Xy6QpdSQGMVi3OrFlBAThLSPBl1UECuePzaleVSQJbOWwzpxE9AsSZ/QZOQVUDn8C/p+V5UQGiU+BklMlJA+WmULlaaUEBv6diWjg1PQH3qZDjUAFBApie6axQLUkBKoPVKoOVQQIozKVVaHFBAkVyDHou9UUA4x41z3DhQQF5ImlJxVlJACPVgo/M5UUDYRX1I3ERRQA6ucOv10FBAPMFUDz+eUUAgbWHZizZSQEoaikBPjFBAfCfSfCdmUEBrMivAKWFSQMrLXq16jlBAyJo6jQx3UEDeM3sDcUtPQPlI9xc+mVBA4qzvBbhYUECGzpNwW0BQQI8xx5CklFFAgMiFEtdhUEBDwCjV5C1QQJRd2ZVdEVBA",
          "dtype": "f8"
         },
         "yaxis": "y"
        },
        {
         "hovertemplate": "Port=Corpus Christi, TX<br>=%{x}<br>Average Hours at Berth=%{y}<extra></extra>",
         "legendgroup": "Corpus Christi, TX",
         "line": {
          "color": "lightgray",
          "dash": "solid"
         },
         "marker": {
          "symbol": "circle"
         },
         "mode": "lines",
         "name": "Corpus Christi, TX",
         "orientation": "v",
         "showlegend": true,
         "type": "scatter",
         "x": [
          "2018-01-01",
          "2018-02-01",
          "2018-03-01",
          "2018-04-01",
          "2018-05-01",
          "2018-06-01",
          "2018-07-01",
          "2018-08-01",
          "2018-09-01",
          "2018-10-01",
          "2018-11-01",
          "2018-12-01",
          "2019-01-01",
          "2019-02-01",
          "2019-03-01",
          "2019-04-01",
          "2019-05-01",
          "2019-06-01",
          "2019-07-01",
          "2019-08-01",
          "2019-09-01",
          "2019-10-01",
          "2019-11-01",
          "2019-12-01",
          "2020-01-01",
          "2020-02-01",
          "2020-03-01",
          "2020-04-01",
          "2020-05-01",
          "2020-06-01",
          "2020-07-01",
          "2020-08-01",
          "2020-09-01",
          "2020-10-01",
          "2020-11-01",
          "2020-12-01",
          "2021-01-01",
          "2021-02-01",
          "2021-03-01",
          "2021-04-01",
          "2021-05-01",
          "2021-06-01",
          "2021-07-01",
          "2021-08-01",
          "2021-09-01",
          "2021-10-01",
          "2021-11-01",
          "2021-12-01",
          "2022-01-01",
          "2022-02-01",
          "2022-03-01",
          "2022-04-01",
          "2022-05-01",
          "2022-06-01",
          "2022-07-01",
          "2022-08-01",
          "2022-09-01",
          "2022-10-01",
          "2022-11-01",
          "2022-12-01",
          "2023-01-01",
          "2023-02-01",
          "2023-03-01",
          "2023-04-01",
          "2023-05-01",
          "2023-06-01",
          "2023-07-01",
          "2023-08-01",
          "2023-09-01",
          "2023-10-01",
          "2023-11-01",
          "2023-12-01",
          "2024-01-01",
          "2024-02-01",
          "2024-03-01",
          "2024-04-01",
          "2024-05-01",
          "2024-06-01",
          "2024-07-01",
          "2024-08-01",
          "2024-09-01",
          "2024-10-01",
          "2024-11-01",
          "2024-12-01"
         ],
         "xaxis": "x",
         "y": {
          "bdata": "eqEXeqGLUUABFoJDWhZRQBzHcRzHL0VAGIZhGIY5R0DiEsxO56NHQNQnfdInxUdAlVqplVqhSEBUjBr+NkVKQIps5/upkUpADSaoHdKLSkA0xajhbzNNQC+U7YPpgktA61qzrjXrSUDddyrRfTdQQMvQAbs91kdAmdcL4mlwSUBGF1100UVNQG3Cis3jtUxApPJh3K+rT0A2XrpJDHJNQPwWAkaphkhA4W9TjBq+TUAd1EEd1MVMQCMB37yaWEtAleUvWf7yTUDuCpB7zXVOQBzHcRzHQUdAIeXJ1DZpTkAapEEapDFRQBzotIFOO0lAtmALtmC7RkCu6Zqu6WpJQG25ShrV9kdA0ySDxj9NSkDTIA3SIE1DQFU7tVM7pUZAgLHkF0tOSUD1KwVq/dpTQBMTExMTE0lA400t3tRCSkD8jBI/o3ROQHwBLpKzXkdAg1OaF3/CTkDGU4I8JdBLQNdDPdRD/UpAZLsQZrtAUECRobLD1PVOQNQnfdInCVFAlNHbslZ/VUDFV3zFV6xQQMZ+7Md+sExAwPfee+89SkA6AkVbDf5RQB5SE4y3kk5Ag9gtg9idWEBgGIZhGP5OQFKBWdwJok5AdTiHczjHSkCampqamrpRQJf8Yskv1lBAAeUOUO7gUEBOZCC9P8dSQL/jJtdl3FRAzEixXW3aT0DORn1nox5PQLrooosuuk5AsOQXS34RUEAQEREREaVQQJMHJOtcOU5AF5NWMWkVT0AmeDBP1HdRQFuz/2aY9UxAxwtkUrwQT0B+y7d8yxdQQGVmZmZmAVBA3befMMsLT0Anm2yyyWpSQBiekKt10VBAjPo3QhmtT0AY4CI566NQQN0Sp37PLVFA0uS+CnMiUEDr6enp6SlPQAvDMAzDvExA",
          "dtype": "f8"
         },
         "yaxis": "y"
        },
        {
         "hovertemplate": "Port=NW Seaport Alliance<br>=%{x}<br>Average Hours at Berth=%{y}<extra></extra>",
         "legendgroup": "NW Seaport Alliance",
         "line": {
          "color": "blue",
          "dash": "solid"
         },
         "marker": {
          "symbol": "circle"
         },
         "mode": "lines",
         "name": "NW Seaport Alliance",
         "orientation": "v",
         "showlegend": true,
         "type": "scatter",
         "x": [
          "2018-01-01",
          "2018-02-01",
          "2018-03-01",
          "2018-04-01",
          "2018-05-01",
          "2018-06-01",
          "2018-07-01",
          "2018-08-01",
          "2018-09-01",
          "2018-10-01",
          "2018-11-01",
          "2018-12-01",
          "2019-01-01",
          "2019-02-01",
          "2019-03-01",
          "2019-04-01",
          "2019-05-01",
          "2019-06-01",
          "2019-07-01",
          "2019-08-01",
          "2019-09-01",
          "2019-10-01",
          "2019-11-01",
          "2019-12-01",
          "2020-01-01",
          "2020-02-01",
          "2020-03-01",
          "2020-04-01",
          "2020-05-01",
          "2020-06-01",
          "2020-07-01",
          "2020-08-01",
          "2020-09-01",
          "2020-10-01",
          "2020-11-01",
          "2020-12-01",
          "2021-01-01",
          "2021-02-01",
          "2021-03-01",
          "2021-04-01",
          "2021-05-01",
          "2021-06-01",
          "2021-07-01",
          "2021-08-01",
          "2021-09-01",
          "2021-10-01",
          "2021-11-01",
          "2021-12-01",
          "2022-01-01",
          "2022-02-01",
          "2022-03-01",
          "2022-04-01",
          "2022-05-01",
          "2022-06-01",
          "2022-07-01",
          "2022-08-01",
          "2022-09-01",
          "2022-10-01",
          "2022-11-01",
          "2022-12-01",
          "2023-01-01",
          "2023-02-01",
          "2023-03-01",
          "2023-04-01",
          "2023-05-01",
          "2023-06-01",
          "2023-07-01",
          "2023-08-01",
          "2023-09-01",
          "2023-10-01",
          "2023-11-01",
          "2023-12-01",
          "2024-01-01",
          "2024-02-01",
          "2024-03-01",
          "2024-04-01",
          "2024-05-01",
          "2024-06-01",
          "2024-07-01",
          "2024-08-01",
          "2024-09-01",
          "2024-10-01",
          "2024-11-01",
          "2024-12-01"
         ],
         "xaxis": "x",
         "y": {
          "bdata": "vbu7uzuiSUAFTuAETrxNQJ5uzQ+LhEVAZS2JYkr7TEBjpUNWOiRDQIa1b1j7ZkRApl5H6nXERUDMzMzMzGxEQA3MtQNzvUdApFzKpVzKSUAXjlJw4QhGQHQjN3IjV0xAJqnWrjE/SECDUAiFUMhGQFAknNK8uEhAKgj9o9uYREDmKUGeElxFQFG+cDph3EJAc0uc+j3HQUAKDAwMDExAQG2g0wY6zUVAE9pLaC/hQEDsG9a+Yd0+QD/3cz/3E0FAYH8C9ieAQ0CXnc6HCiM9QNajcD0KO0dA/rlW2XCkQEB1uf1BhspBQL2E9hLaE0FAajLNfyaTP0DgBE7gBK5AQJoLSVMqfkFAc2DpJAe2QUBN9HeyWv5EQKMdKxBGmkdArHPlAckCSECWWqmVWslOQPVVmBMd6kZAXxOCsvc1TECg+C/I6mlQQG5TjBr+Fk9AVaHRr3oZTkCP4ziO42xFQCtuheJWiElAD93QDd0QS0BnDJjGgMFPQHz/Dk1F5lJA1vtlvV9WSUBR9LA3KkVUQHyOBcrnOENAzCPGPGIMUEBGWw2eIzBIQFuwBVuwGUVAYRoDpjEIR0AYnpCrdTFAQALJOlceMEJAe9Ale9BlSEAzmeY/k+lHQBEREREREUNAr6+vr6/fSUBJSkpKSipEQKZcyqVcSjxA7HsBLpLzQUCMdn3QtGhEQAnQNxV24E5Ab5X/VvmvR0B/kKGyw2REQI7C9Shct0tAlTVlTVnTSUBWVVVVVT1SQBZswRZs4UhAxsXFxcUFUEAyMzMzMztGQBnziDGP+ERAjBr+NsU4SkCWVD6M+wVFQKUj9h2bbUhAdeUByTqHRkArRg1/m4JEQKSuqCvqCklAVqB8jgUqSEDKzkuN7HxQQKbQdQpd50tA",
          "dtype": "f8"
         },
         "yaxis": "y"
        },
        {
         "hovertemplate": "Port=Port Everglades, FL<br>=%{x}<br>Average Hours at Berth=%{y}<extra></extra>",
         "legendgroup": "Port Everglades, FL",
         "line": {
          "color": "lightgray",
          "dash": "solid"
         },
         "marker": {
          "symbol": "circle"
         },
         "mode": "lines",
         "name": "Port Everglades, FL",
         "orientation": "v",
         "showlegend": true,
         "type": "scatter",
         "x": [
          "2018-01-01",
          "2018-02-01",
          "2018-03-01",
          "2018-04-01",
          "2018-05-01",
          "2018-06-01",
          "2018-07-01",
          "2018-08-01",
          "2018-09-01",
          "2018-10-01",
          "2018-11-01",
          "2018-12-01",
          "2019-01-01",
          "2019-02-01",
          "2019-03-01",
          "2019-04-01",
          "2019-05-01",
          "2019-06-01",
          "2019-07-01",
          "2019-08-01",
          "2019-09-01",
          "2019-10-01",
          "2019-11-01",
          "2019-12-01",
          "2020-01-01",
          "2020-02-01",
          "2020-03-01",
          "2020-04-01",
          "2020-05-01",
          "2020-06-01",
          "2020-07-01",
          "2020-08-01",
          "2020-09-01",
          "2020-10-01",
          "2020-11-01",
          "2020-12-01",
          "2021-01-01",
          "2021-02-01",
          "2021-03-01",
          "2021-04-01",
          "2021-05-01",
          "2021-06-01",
          "2021-07-01",
          "2021-08-01",
          "2021-09-01",
          "2021-10-01",
          "2021-11-01",
          "2021-12-01",
          "2022-01-01",
          "2022-02-01",
          "2022-03-01",
          "2022-04-01",
          "2022-05-01",
          "2022-06-01",
          "2022-07-01",
          "2022-08-01",
          "2022-09-01",
          "2022-10-01",
          "2022-11-01",
          "2022-12-01",
          "2023-01-01",
          "2023-02-01",
          "2023-03-01",
          "2023-04-01",
          "2023-05-01",
          "2023-06-01",
          "2023-07-01",
          "2023-08-01",
          "2023-09-01",
          "2023-10-01",
          "2023-11-01",
          "2023-12-01",
          "2024-01-01",
          "2024-02-01",
          "2024-03-01",
          "2024-04-01",
          "2024-05-01",
          "2024-06-01",
          "2024-07-01",
          "2024-08-01",
          "2024-09-01",
          "2024-10-01",
          "2024-11-01",
          "2024-12-01"
         ],
         "xaxis": "x",
         "y": {
          "bdata": "veRRm/bIO0CZKmJGVM04QLp62p+p8kFAdoMvTKbqQkDMnalmN+M7QFk7fkuVdTtAe1Y0EvAVPkBy2X1BiII8QMdxHMdxfDhAzTvKiMK8PkAYDzPa0y44QO/5Gp+voTdA1wNmD5h9PkB16S9aQFc7QJiWlpaW7j1ACaiACqhQQEBYFI+Eb0U5QDpwSa5B50BAfP9dRswqPUBsckFTexU4QE9iEFg5tD1AMNHfyWqJOUD1Az/wAz84QNnd3d1dLDxALPnFkl+MPEBGs8VICZQ6QPLu7u7uDj9AHlhdjDPUO0CKiYmJiak+QNSpeZC7vjpAlvNnOX+GSUABVWj0q74+QOyZRO+ZJD5AOIzhNoxRQkDx+xguJsk8QMXZh8+w2zxAj46Ojo6uPkBcxIuWGkxCQCxA7jUXYj5A8iQ9SU/SPkBtWPuGtc87QLe1tbW11T9AiESyjURyPECbmZmZGco4QDIzMzMzpkBAnlcTz4oOPUDHrVDcCqVBQBc1/G2KcUFAUafuiYHLQkAbVgPypoFEQO+Ape6ApUJAS1ZYgwqBQkAK4k6FIC5CQJti1PC3SUFAm3UsmnXMTEAhliIFYulCQJB7zYWk0UNApzLV/YeqQkA5NseHY7NEQBZh50dlgkBAfgzsGhDVPUDlPuxC7sM8QGsNHcVT8UBAxXiMx3jsQUCpQShXT1tDQF391V/9VTtAKYl2kmjXQUDpa92cy7Q5QOR9M40oHjtANO6NiUMjQEAhz3kkzxk6QNfgZysNPj1AmJiYmJiYOkDFSVqcpA1BQAzf9urwrT9Ai16T4LPIP0Ds8XOUnH48QFobCwfGVT5A6Xme53neP0BtL3rJ9iI5QHsyoHsyAEFAGwYEt5XFPkCup9IzoPY8QBcdL9yMhjhA",
          "dtype": "f8"
         },
         "yaxis": "y"
        },
        {
         "hovertemplate": "Port=Port Arthur, TX<br>=%{x}<br>Average Hours at Berth=%{y}<extra></extra>",
         "legendgroup": "Port Arthur, TX",
         "line": {
          "color": "lightgray",
          "dash": "solid"
         },
         "marker": {
          "symbol": "circle"
         },
         "mode": "lines",
         "name": "Port Arthur, TX",
         "orientation": "v",
         "showlegend": true,
         "type": "scatter",
         "x": [
          "2018-01-01",
          "2018-02-01",
          "2018-03-01",
          "2018-04-01",
          "2018-05-01",
          "2018-06-01",
          "2018-07-01",
          "2018-08-01",
          "2018-09-01",
          "2018-10-01",
          "2018-11-01",
          "2018-12-01",
          "2019-01-01",
          "2019-02-01",
          "2019-03-01",
          "2019-04-01",
          "2019-05-01",
          "2019-06-01",
          "2019-07-01",
          "2019-08-01",
          "2019-09-01",
          "2019-10-01",
          "2019-11-01",
          "2019-12-01",
          "2020-01-01",
          "2020-02-01",
          "2020-03-01",
          "2020-04-01",
          "2020-05-01",
          "2020-06-01",
          "2020-07-01",
          "2020-08-01",
          "2020-09-01",
          "2020-10-01",
          "2020-11-01",
          "2020-12-01",
          "2021-01-01",
          "2021-02-01",
          "2021-03-01",
          "2021-04-01",
          "2021-05-01",
          "2021-06-01",
          "2021-07-01",
          "2021-08-01",
          "2021-09-01",
          "2021-10-01",
          "2021-11-01",
          "2021-12-01",
          "2022-01-01",
          "2022-02-01",
          "2022-03-01",
          "2022-04-01",
          "2022-05-01",
          "2022-06-01",
          "2022-07-01",
          "2022-08-01",
          "2022-09-01",
          "2022-10-01",
          "2022-11-01",
          "2022-12-01",
          "2023-01-01",
          "2023-02-01",
          "2023-03-01",
          "2023-04-01",
          "2023-05-01",
          "2023-06-01",
          "2023-07-01",
          "2023-08-01",
          "2023-09-01",
          "2023-10-01",
          "2023-11-01",
          "2023-12-01",
          "2024-01-01",
          "2024-02-01",
          "2024-03-01",
          "2024-04-01",
          "2024-05-01",
          "2024-06-01",
          "2024-07-01",
          "2024-08-01",
          "2024-09-01",
          "2024-10-01",
          "2024-11-01",
          "2024-12-01"
         ],
         "xaxis": "x",
         "y": {
          "bdata": "8v3UeOm2S0Ae9kal6DFKQHk18axoZFJAoYIzKjgjSkDWxLOikSBFQC4cpeDCMUtAr3Joke0sT0CBPCXIU/JMQCIt40NPJUtANtlkk02mS0Ddt58wy8tMQEdEREREwklAcshKh6wUS0AKtmALtoxVQC6W/GLJb0tAvS1rdUzwRkAI+Wt21MJGQBo2K8lWkUdAe6u3eqv3SEAu5VIu5ZJDQGAYhmEYJkhAda48IFnfSEDJwaAcDOpFQI3jOI7jmEtAHpCsc+UhR0C4YAu2YCtNQAopdQbW0EpAX+PzNT5fSkBMMWr420xGQFggjLRjpUdAyB0uwezUQ0CgSc0HsFNEQI488sgjr1RAPRC/A/G7S0AQe6NS9MBHQPrhM+wKAEZAr0fhehSqR0Ac6LSBTutSQFTqDKwhBUhAHTkh1lfmREAFdsi/pZdLQKhP+qRPSkRAEALEy+rWRUBOe+f1GZRHQBARERERhUdA5RdLfrFUR0BxJ6FAIxZKQL+7u7u7G0lAPje+c+ObR0BivSjWiwJKQOfg0rZ+zklAS0xMTEwkSUBQ7dRO7VRHQCmVbiGHEkhA07EtHduiUEBijkwvW8lIQMD/omc3wEtAKRLNe2eiSkCyvILet19LQMHeqBQ9rE9AUAnylCAvT0BoL6G9hBZKQERERERE0kxAbLLJJptsSkDKDZOdsrxHQHlxHjqG50hAp4AKqICqSEA4ODg4OAhEQMszuJ08s0VAvkQSlNhjREBq4lnRSBhHQN5/lxGzSktAIl5F4lV0T0BpLiRNqShMQGkY7TflOVBA293d3d39S0BY3ewqI5RJQOEHfuAHfklA305/xAKOTEBa7DlwSS5KQHuHRBUhvkdAz79rnS6tS0CdKw9I1rFJQFVVVVXVIUhA",
          "dtype": "f8"
         },
         "yaxis": "y"
        },
        {
         "hovertemplate": "Port=Port of Oakland, CA<br>=%{x}<br>Average Hours at Berth=%{y}<extra></extra>",
         "legendgroup": "Port of Oakland, CA",
         "line": {
          "color": "lightgray",
          "dash": "solid"
         },
         "marker": {
          "symbol": "circle"
         },
         "mode": "lines",
         "name": "Port of Oakland, CA",
         "orientation": "v",
         "showlegend": true,
         "type": "scatter",
         "x": [
          "2018-01-01",
          "2018-02-01",
          "2018-03-01",
          "2018-04-01",
          "2018-05-01",
          "2018-06-01",
          "2018-07-01",
          "2018-08-01",
          "2018-09-01",
          "2018-10-01",
          "2018-11-01",
          "2018-12-01",
          "2019-01-01",
          "2019-02-01",
          "2019-03-01",
          "2019-04-01",
          "2019-05-01",
          "2019-06-01",
          "2019-07-01",
          "2019-08-01",
          "2019-09-01",
          "2019-10-01",
          "2019-11-01",
          "2019-12-01",
          "2020-01-01",
          "2020-02-01",
          "2020-03-01",
          "2020-04-01",
          "2020-05-01",
          "2020-06-01",
          "2020-07-01",
          "2020-08-01",
          "2020-09-01",
          "2020-10-01",
          "2020-11-01",
          "2020-12-01",
          "2021-01-01",
          "2021-02-01",
          "2021-03-01",
          "2021-04-01",
          "2021-05-01",
          "2021-06-01",
          "2021-07-01",
          "2021-08-01",
          "2021-09-01",
          "2021-10-01",
          "2021-11-01",
          "2021-12-01",
          "2022-01-01",
          "2022-02-01",
          "2022-03-01",
          "2022-04-01",
          "2022-05-01",
          "2022-06-01",
          "2022-07-01",
          "2022-08-01",
          "2022-09-01",
          "2022-10-01",
          "2022-11-01",
          "2022-12-01",
          "2023-01-01",
          "2023-02-01",
          "2023-03-01",
          "2023-04-01",
          "2023-05-01",
          "2023-06-01",
          "2023-07-01",
          "2023-08-01",
          "2023-09-01",
          "2023-10-01",
          "2023-11-01",
          "2023-12-01",
          "2024-01-01",
          "2024-02-01",
          "2024-03-01",
          "2024-04-01",
          "2024-05-01",
          "2024-06-01",
          "2024-07-01",
          "2024-08-01",
          "2024-09-01",
          "2024-10-01",
          "2024-11-01",
          "2024-12-01"
         ],
         "xaxis": "x",
         "y": {
          "bdata": "v9z+IEPlNkAwkVqKIF03QL4mBGXvCzhABU7gBE7gOUCr0zFS5Yc4QKqqqqqqOjhA7FSsTsXqN0AGNF9lr6c6QI7ACIzAKDVAKORqXXgiOkCsDguCK1M7QABazp/l3DlAb/vaCf+jOECQLxKlxr5AQFl248FpYkBAV1VVVVVMPEAREREREaE7QMVxHMdxzD1A0XjifCMNOkD9nayWN4Y6QHO5/UGGqjtARMsquEH2OEDRg2A0PUg9QDKEmN0uAzlAvLu7uzvwR0ArCP2j2xg7QLdgC7Zga0JAG6RBGqTRNkCRKKa0Xac7QGbiSvcGlDtA09LS0tIiOECJqxNM9TA5QJv6PbfEKT1AAgsssMCiQEAiD4PLGIlDQNUyPvRUQE1AginyWTfYTUC4uLi4uChNQEZ4hEd4JEdAic+wK0A+VUAFuEjO+r5RQNEADdAAlVhAvvzLv/zLWkBoA5020DNRQDTxrGgkmFFAGio7TF3uUECiF3qhF+pQQFfuaYTl/lFAsWzz5QC7TkCvMV83uqdOQDsjwDMCPEJAtWALtmCvTEDALql8GDdTQNoUo4a/TUNAzhnunOHOTkD3dIFPFzhRQN+mGDX8kVFAS9qStqTdVkBD/A7E72BMQJ7TBjptYExAnfRJn/RhSkDotIFOGwBJQBfgIjnr+0RA21nCbn6rRECJcziHc4hKQLBUe5MCSEdAxU7sxE4MQUD44IMPPkhCQKxAGGnHKkJA/teU5FV/Q0BPLQEK1WJEQDllXJFTdkJA2MoJz/S3RkCkeIFMijdGQP30008/nUJAPb24wa/zQUAjSZIkSb5CQM2o4IwKrkFAAaxWAawWP0BabUeT+6pCQMqfrnow9D1AR6aXrQxuQEDziyW/WNpEQFRVVVXVykRA",
          "dtype": "f8"
         },
         "yaxis": "y"
        },
        {
         "hovertemplate": "Port=Mobile, AL<br>=%{x}<br>Average Hours at Berth=%{y}<extra></extra>",
         "legendgroup": "Mobile, AL",
         "line": {
          "color": "lightgray",
          "dash": "solid"
         },
         "marker": {
          "symbol": "circle"
         },
         "mode": "lines",
         "name": "Mobile, AL",
         "orientation": "v",
         "showlegend": true,
         "type": "scatter",
         "x": [
          "2018-01-01",
          "2018-02-01",
          "2018-03-01",
          "2018-04-01",
          "2018-05-01",
          "2018-06-01",
          "2018-07-01",
          "2018-08-01",
          "2018-09-01",
          "2018-10-01",
          "2018-11-01",
          "2018-12-01",
          "2019-01-01",
          "2019-02-01",
          "2019-03-01",
          "2019-04-01",
          "2019-05-01",
          "2019-06-01",
          "2019-07-01",
          "2019-08-01",
          "2019-09-01",
          "2019-10-01",
          "2019-11-01",
          "2019-12-01",
          "2020-01-01",
          "2020-02-01",
          "2020-03-01",
          "2020-04-01",
          "2020-05-01",
          "2020-06-01",
          "2020-07-01",
          "2020-08-01",
          "2020-09-01",
          "2020-10-01",
          "2020-11-01",
          "2020-12-01",
          "2021-01-01",
          "2021-02-01",
          "2021-03-01",
          "2021-04-01",
          "2021-05-01",
          "2021-06-01",
          "2021-07-01",
          "2021-08-01",
          "2021-09-01",
          "2021-10-01",
          "2021-11-01",
          "2021-12-01",
          "2022-01-01",
          "2022-02-01",
          "2022-03-01",
          "2022-04-01",
          "2022-05-01",
          "2022-06-01",
          "2022-07-01",
          "2022-08-01",
          "2022-09-01",
          "2022-10-01",
          "2022-11-01",
          "2022-12-01",
          "2023-01-01",
          "2023-02-01",
          "2023-03-01",
          "2023-04-01",
          "2023-05-01",
          "2023-06-01",
          "2023-07-01",
          "2023-08-01",
          "2023-09-01",
          "2023-10-01",
          "2023-11-01",
          "2023-12-01",
          "2024-01-01",
          "2024-02-01",
          "2024-03-01",
          "2024-04-01",
          "2024-05-01",
          "2024-06-01",
          "2024-07-01",
          "2024-08-01",
          "2024-09-01",
          "2024-10-01",
          "2024-11-01",
          "2024-12-01"
         ],
         "xaxis": "x",
         "y": {
          "bdata": "RhGwMdpuS0DI2rghDKlLQB3HcRzHEUlARURERESUSkB3RhPgrLlOQCcmJiYmxktAxenXYJxeR0B7RpYe0oRDQKUQaAqB5klAdvUAXT0ASkAQTCnE4zlKQDixppFnc05AQ6YyZCoDTUDb5ssBlk1QQJPzZzl/dkhA4i+4a15SSEC77mPizzFGQFyhuBWKN0pAFtv4abHdSUAREREREZlIQEdaXYI+EEdA4jEe4zEuRkCkT/qkT6JEQOiWOPV79lJAGq5H4XoiSkCWI9PLVqZPQBj+NsWo3UhAC2Evnn9XSkARTPR3slpFQLq7u7u7WENAQEBAQEBARUBuP0PYi6dDQNAew8r0O0dARqLU2MOsS0A1MjIyMqJLQJb8YskvjVFAgZ1xs9A0TEBJQb+elmRQQJB6HanXfU5AMW5L5gV8UEBSuB6F62tLQJrEILBy+FBABD/wAz/QUUA7EL8D8RtMQGEMxmAMhlBAb2UJKSbPTkCZDY+a9mZRQHKj1gk9QFNAQNFWg+cQTUCdGxC006BQQJjbuZ3b2U9AlShnUOTCTkAVgH3IScRMQD0u7OPCflBAdXd3d3cJUkBbS8Fw7ClSQN8FoAir1E5AHKY7HTn6UEBPUVFRUeFSQIhkSIZkGFJASERERERWT0DhnFCigQtQQFmLtViL1U5A7ksFrb60T0B83FnCbv5NQJruQ5nuA0xAD//BA/iQTkBb1uqY4FlIQLJSK7VSt0tAzI90f+HTR0DRaQOdNjBJQByYawfm8ktAGPfrkspXUECEJKOdh+9OQABjyS+WDE1AMoO3iM3ATkCQELxJ69RHQPvzBuEs7UxAZlmWZVkmTEAc+cdY8ShMQFmd1VmdlUtA8Rd2liksS0BDjTtcgtlLQA5DdqncT0xA",
          "dtype": "f8"
         },
         "yaxis": "y"
        },
        {
         "hovertemplate": "Port=New Orleans, LA<br>=%{x}<br>Average Hours at Berth=%{y}<extra></extra>",
         "legendgroup": "New Orleans, LA",
         "line": {
          "color": "lightgray",
          "dash": "solid"
         },
         "marker": {
          "symbol": "circle"
         },
         "mode": "lines",
         "name": "New Orleans, LA",
         "orientation": "v",
         "showlegend": true,
         "type": "scatter",
         "x": [
          "2018-01-01",
          "2018-02-01",
          "2018-03-01",
          "2018-04-01",
          "2018-05-01",
          "2018-06-01",
          "2018-07-01",
          "2018-08-01",
          "2018-09-01",
          "2018-10-01",
          "2018-11-01",
          "2018-12-01",
          "2019-01-01",
          "2019-02-01",
          "2019-03-01",
          "2019-04-01",
          "2019-05-01",
          "2019-06-01",
          "2019-07-01",
          "2019-08-01",
          "2019-09-01",
          "2019-10-01",
          "2019-11-01",
          "2019-12-01",
          "2020-01-01",
          "2020-02-01",
          "2020-03-01",
          "2020-04-01",
          "2020-05-01",
          "2020-06-01",
          "2020-07-01",
          "2020-08-01",
          "2020-09-01",
          "2020-10-01",
          "2020-11-01",
          "2020-12-01",
          "2021-01-01",
          "2021-02-01",
          "2021-03-01",
          "2021-04-01",
          "2021-05-01",
          "2021-06-01",
          "2021-07-01",
          "2021-08-01",
          "2021-09-01",
          "2021-10-01",
          "2021-11-01",
          "2021-12-01",
          "2022-01-01",
          "2022-02-01",
          "2022-03-01",
          "2022-04-01",
          "2022-05-01",
          "2022-06-01",
          "2022-07-01",
          "2022-08-01",
          "2022-09-01",
          "2022-10-01",
          "2022-11-01",
          "2022-12-01",
          "2023-01-01",
          "2023-02-01",
          "2023-03-01",
          "2023-04-01",
          "2023-05-01",
          "2023-06-01",
          "2023-07-01",
          "2023-08-01",
          "2023-09-01",
          "2023-10-01",
          "2023-11-01",
          "2023-12-01",
          "2024-01-01",
          "2024-02-01",
          "2024-03-01",
          "2024-04-01",
          "2024-05-01",
          "2024-06-01",
          "2024-07-01",
          "2024-08-01",
          "2024-09-01",
          "2024-10-01",
          "2024-11-01",
          "2024-12-01"
         ],
         "xaxis": "x",
         "y": {
          "bdata": "Sw4jHMlUSUDT4a1jZ/pFQJmjcTkav1FASIuTtDgpSECMVRbqlzFFQEou9oWlpD5AScXZh8/wQ0CPdNhIh91DQMu6l1HFbEVAMFCPDQqjRUC8u7u7OyVKQNjX19fXx0xA0xgwjQHfRkBBFSHernpOQAHn8uxvPk5A+umnn36KRECv8n6XyEpMQObOVLOboU5An76PmjVZSEAVaxp5NlFLQM7X+HyNf0RAy8zMzEwuQEC//+TR6EZEQIm1b1j7NkJAm547ckLsRkB1Wfg+l+VFQCd51QcMV0pAEvN2hsTsREAOpshn3eBDQCPue1ghj0VALygHg3LQQkCvWAOuWENBQCFJkiRJQkVA9IEf+IG3SEBs9t8Ms8ZFQIfASzViyEFAVuSUcUWuSEAtsp3vp/ZHQITMZ1+JF0VA3d3d3d2NQkCCpkW7PshFQFDcCsWtUEhAjFHD36bAT0CG+UhsmC9PQNjsvxlmfVFALdBu+9rJT0BEWLeovj1NQGJMtajnbFFAHw8lhHWbUUBwTRDAhttRQJ8HrQNuc1FAWBSPhG+FUkA3SYgr8L9TQBejhr9NEU5ArKqqqiqVWkDE8oOiSodTQN/d3d3dJU9AlxGzykR2UkA6bnJdxvlKQJlF8JpF0ElA+/TTTz8dTUANSjo+fS1GQCSNJ8438kpAv13zkqPKTUBBORiUgxFLQCfEUDBflEdAiYiIiIiQQkBUvnA6YdxHQLA0MDknS0VATT0Zv13KSUDgHM7hHAZHQHMpl3Ipt0JApKk+8k2GSECpAW0a0DZGQEZFRUVFJUhA1jZUwZ9HRkDqygOSda5FQB6Yawfm+kZANLidPIN7TEBWVVVV1b5HQGpDFfx55EtAAQAAAABwR0Cs2DxeaSJIQF/PNNQXQkdA",
          "dtype": "f8"
         },
         "yaxis": "y"
        },
        {
         "hovertemplate": "Port=Texas City, TX<br>=%{x}<br>Average Hours at Berth=%{y}<extra></extra>",
         "legendgroup": "Texas City, TX",
         "line": {
          "color": "lightgray",
          "dash": "solid"
         },
         "marker": {
          "symbol": "circle"
         },
         "mode": "lines",
         "name": "Texas City, TX",
         "orientation": "v",
         "showlegend": true,
         "type": "scatter",
         "x": [
          "2018-01-01",
          "2018-02-01",
          "2018-03-01",
          "2018-04-01",
          "2018-05-01",
          "2018-06-01",
          "2018-07-01",
          "2018-08-01",
          "2018-09-01",
          "2018-10-01",
          "2018-11-01",
          "2018-12-01",
          "2019-01-01",
          "2019-02-01",
          "2019-03-01",
          "2019-04-01",
          "2019-05-01",
          "2019-06-01",
          "2019-07-01",
          "2019-08-01",
          "2019-09-01",
          "2019-10-01",
          "2019-11-01",
          "2019-12-01",
          "2020-01-01",
          "2020-02-01",
          "2020-03-01",
          "2020-04-01",
          "2020-05-01",
          "2020-06-01",
          "2020-07-01",
          "2020-08-01",
          "2020-09-01",
          "2020-10-01",
          "2020-11-01",
          "2020-12-01",
          "2021-01-01",
          "2021-02-01",
          "2021-03-01",
          "2021-04-01",
          "2021-05-01",
          "2021-06-01",
          "2021-07-01",
          "2021-08-01",
          "2021-09-01",
          "2021-10-01",
          "2021-11-01",
          "2021-12-01",
          "2022-01-01",
          "2022-02-01",
          "2022-03-01",
          "2022-04-01",
          "2022-05-01",
          "2022-06-01",
          "2022-07-01",
          "2022-08-01",
          "2022-09-01",
          "2022-10-01",
          "2022-11-01",
          "2022-12-01",
          "2023-01-01",
          "2023-02-01",
          "2023-03-01",
          "2023-04-01",
          "2023-05-01",
          "2023-06-01",
          "2023-07-01",
          "2023-08-01",
          "2023-09-01",
          "2023-10-01",
          "2023-11-01",
          "2023-12-01",
          "2024-01-01",
          "2024-02-01",
          "2024-03-01",
          "2024-04-01",
          "2024-05-01",
          "2024-06-01",
          "2024-07-01",
          "2024-08-01",
          "2024-09-01",
          "2024-10-01",
          "2024-11-01",
          "2024-12-01"
         ],
         "xaxis": "x",
         "y": {
          "bdata": "ajua3FfxQkBHGXi6NT9FQCZq9g5AokNAp1zKpVyKSkANePzhgHdBQLsa12zqeEFAn7cY0nmLQUA1jTybWNNAQJkF5ItE6UNADHTaQKctQ0CrSQaNf5pDQCa2XWLbhURAdEVOGVfERUDHjdzIjXRGQJeZmZmZcUFA7gM/8AM/REAZhmEYhmFEQLpdKyc8U0ZAVA+sLsYZQkB8rGXogP1CQCMiIiIigkVAMNcOzLUDRUBXVVVVVRVFQIpbobgV6kVAbcQZb8Q5Q0B/m2LU8BdHQLCurq6ujkVAANJtTEFIQkBJ4XoUrt9AQLSX0F5Ca0FAwBZswRY+REAukrO+F/BAQLPsqZPhAEJASrq/8KmsQkCgoKCgoCBBQN3d3d3dNUFA/Pv7+/tbQkDNzMzMzNpDQGpUW66SBjlAdtNcN811QEBC9YxdvD4/QCJzh8wd8j1A2EasS4+ZQkAWvs9l4ZtAQL9z4zs33kFAL+E8NQtkQEDE36YYNbxAQN3d3d1dOEFAa8261qzrQ0CG4JCW8QFEQCEiIiIiXkVAeznAss03SkDjO02BHbJCQKNwPQrXe0VATCofxv06QUAfBpcxkm5GQGay4sCL6kJATtd0TddcQ0DjOI7jOH5DQO/HfuzH6kdATv89ckhQQ0CxOhWrUzFDQM7MzMzMjEdAfufGd258QkCCH/iBH8BDQBBTl9sfhEJA5P5h7h9mREAv2IIt2DJEQMVEeqByFkRAF2zBFmyRREBFbK9f7mRFQLuFX42JtEJAfTOYoHboR0DneZ7neZpFQJ8BGqABOkRA0O1aOeG5RUChoaGhoQFGQA/A+Yny90NAfSy78eDUQkBsampqajJEQLhsBNUztkZA//////+cRUDKiKO2n+FEQEzehwnH6kRA",
          "dtype": "f8"
         },
         "yaxis": "y"
        }
       ],
       "layout": {
        "legend": {
         "title": {
          "text": "Port"
         },
         "tracegroupgap": 0
        },
        "template": {
         "data": {
          "bar": [
           {
            "error_x": {
             "color": "#2a3f5f"
            },
            "error_y": {
             "color": "#2a3f5f"
            },
            "marker": {
             "line": {
              "color": "#E5ECF6",
              "width": 0.5
             },
             "pattern": {
              "fillmode": "overlay",
              "size": 10,
              "solidity": 0.2
             }
            },
            "type": "bar"
           }
          ],
          "barpolar": [
           {
            "marker": {
             "line": {
              "color": "#E5ECF6",
              "width": 0.5
             },
             "pattern": {
              "fillmode": "overlay",
              "size": 10,
              "solidity": 0.2
             }
            },
            "type": "barpolar"
           }
          ],
          "carpet": [
           {
            "aaxis": {
             "endlinecolor": "#2a3f5f",
             "gridcolor": "white",
             "linecolor": "white",
             "minorgridcolor": "white",
             "startlinecolor": "#2a3f5f"
            },
            "baxis": {
             "endlinecolor": "#2a3f5f",
             "gridcolor": "white",
             "linecolor": "white",
             "minorgridcolor": "white",
             "startlinecolor": "#2a3f5f"
            },
            "type": "carpet"
           }
          ],
          "choropleth": [
           {
            "colorbar": {
             "outlinewidth": 0,
             "ticks": ""
            },
            "type": "choropleth"
           }
          ],
          "contour": [
           {
            "colorbar": {
             "outlinewidth": 0,
             "ticks": ""
            },
            "colorscale": [
             [
              0,
              "#0d0887"
             ],
             [
              0.1111111111111111,
              "#46039f"
             ],
             [
              0.2222222222222222,
              "#7201a8"
             ],
             [
              0.3333333333333333,
              "#9c179e"
             ],
             [
              0.4444444444444444,
              "#bd3786"
             ],
             [
              0.5555555555555556,
              "#d8576b"
             ],
             [
              0.6666666666666666,
              "#ed7953"
             ],
             [
              0.7777777777777778,
              "#fb9f3a"
             ],
             [
              0.8888888888888888,
              "#fdca26"
             ],
             [
              1,
              "#f0f921"
             ]
            ],
            "type": "contour"
           }
          ],
          "contourcarpet": [
           {
            "colorbar": {
             "outlinewidth": 0,
             "ticks": ""
            },
            "type": "contourcarpet"
           }
          ],
          "heatmap": [
           {
            "colorbar": {
             "outlinewidth": 0,
             "ticks": ""
            },
            "colorscale": [
             [
              0,
              "#0d0887"
             ],
             [
              0.1111111111111111,
              "#46039f"
             ],
             [
              0.2222222222222222,
              "#7201a8"
             ],
             [
              0.3333333333333333,
              "#9c179e"
             ],
             [
              0.4444444444444444,
              "#bd3786"
             ],
             [
              0.5555555555555556,
              "#d8576b"
             ],
             [
              0.6666666666666666,
              "#ed7953"
             ],
             [
              0.7777777777777778,
              "#fb9f3a"
             ],
             [
              0.8888888888888888,
              "#fdca26"
             ],
             [
              1,
              "#f0f921"
             ]
            ],
            "type": "heatmap"
           }
          ],
          "histogram": [
           {
            "marker": {
             "pattern": {
              "fillmode": "overlay",
              "size": 10,
              "solidity": 0.2
             }
            },
            "type": "histogram"
           }
          ],
          "histogram2d": [
           {
            "colorbar": {
             "outlinewidth": 0,
             "ticks": ""
            },
            "colorscale": [
             [
              0,
              "#0d0887"
             ],
             [
              0.1111111111111111,
              "#46039f"
             ],
             [
              0.2222222222222222,
              "#7201a8"
             ],
             [
              0.3333333333333333,
              "#9c179e"
             ],
             [
              0.4444444444444444,
              "#bd3786"
             ],
             [
              0.5555555555555556,
              "#d8576b"
             ],
             [
              0.6666666666666666,
              "#ed7953"
             ],
             [
              0.7777777777777778,
              "#fb9f3a"
             ],
             [
              0.8888888888888888,
              "#fdca26"
             ],
             [
              1,
              "#f0f921"
             ]
            ],
            "type": "histogram2d"
           }
          ],
          "histogram2dcontour": [
           {
            "colorbar": {
             "outlinewidth": 0,
             "ticks": ""
            },
            "colorscale": [
             [
              0,
              "#0d0887"
             ],
             [
              0.1111111111111111,
              "#46039f"
             ],
             [
              0.2222222222222222,
              "#7201a8"
             ],
             [
              0.3333333333333333,
              "#9c179e"
             ],
             [
              0.4444444444444444,
              "#bd3786"
             ],
             [
              0.5555555555555556,
              "#d8576b"
             ],
             [
              0.6666666666666666,
              "#ed7953"
             ],
             [
              0.7777777777777778,
              "#fb9f3a"
             ],
             [
              0.8888888888888888,
              "#fdca26"
             ],
             [
              1,
              "#f0f921"
             ]
            ],
            "type": "histogram2dcontour"
           }
          ],
          "mesh3d": [
           {
            "colorbar": {
             "outlinewidth": 0,
             "ticks": ""
            },
            "type": "mesh3d"
           }
          ],
          "parcoords": [
           {
            "line": {
             "colorbar": {
              "outlinewidth": 0,
              "ticks": ""
             }
            },
            "type": "parcoords"
           }
          ],
          "pie": [
           {
            "automargin": true,
            "type": "pie"
           }
          ],
          "scatter": [
           {
            "fillpattern": {
             "fillmode": "overlay",
             "size": 10,
             "solidity": 0.2
            },
            "type": "scatter"
           }
          ],
          "scatter3d": [
           {
            "line": {
             "colorbar": {
              "outlinewidth": 0,
              "ticks": ""
             }
            },
            "marker": {
             "colorbar": {
              "outlinewidth": 0,
              "ticks": ""
             }
            },
            "type": "scatter3d"
           }
          ],
          "scattercarpet": [
           {
            "marker": {
             "colorbar": {
              "outlinewidth": 0,
              "ticks": ""
             }
            },
            "type": "scattercarpet"
           }
          ],
          "scattergeo": [
           {
            "marker": {
             "colorbar": {
              "outlinewidth": 0,
              "ticks": ""
             }
            },
            "type": "scattergeo"
           }
          ],
          "scattergl": [
           {
            "marker": {
             "colorbar": {
              "outlinewidth": 0,
              "ticks": ""
             }
            },
            "type": "scattergl"
           }
          ],
          "scattermap": [
           {
            "marker": {
             "colorbar": {
              "outlinewidth": 0,
              "ticks": ""
             }
            },
            "type": "scattermap"
           }
          ],
          "scattermapbox": [
           {
            "marker": {
             "colorbar": {
              "outlinewidth": 0,
              "ticks": ""
             }
            },
            "type": "scattermapbox"
           }
          ],
          "scatterpolar": [
           {
            "marker": {
             "colorbar": {
              "outlinewidth": 0,
              "ticks": ""
             }
            },
            "type": "scatterpolar"
           }
          ],
          "scatterpolargl": [
           {
            "marker": {
             "colorbar": {
              "outlinewidth": 0,
              "ticks": ""
             }
            },
            "type": "scatterpolargl"
           }
          ],
          "scatterternary": [
           {
            "marker": {
             "colorbar": {
              "outlinewidth": 0,
              "ticks": ""
             }
            },
            "type": "scatterternary"
           }
          ],
          "surface": [
           {
            "colorbar": {
             "outlinewidth": 0,
             "ticks": ""
            },
            "colorscale": [
             [
              0,
              "#0d0887"
             ],
             [
              0.1111111111111111,
              "#46039f"
             ],
             [
              0.2222222222222222,
              "#7201a8"
             ],
             [
              0.3333333333333333,
              "#9c179e"
             ],
             [
              0.4444444444444444,
              "#bd3786"
             ],
             [
              0.5555555555555556,
              "#d8576b"
             ],
             [
              0.6666666666666666,
              "#ed7953"
             ],
             [
              0.7777777777777778,
              "#fb9f3a"
             ],
             [
              0.8888888888888888,
              "#fdca26"
             ],
             [
              1,
              "#f0f921"
             ]
            ],
            "type": "surface"
           }
          ],
          "table": [
           {
            "cells": {
             "fill": {
              "color": "#EBF0F8"
             },
             "line": {
              "color": "white"
             }
            },
            "header": {
             "fill": {
              "color": "#C8D4E3"
             },
             "line": {
              "color": "white"
             }
            },
            "type": "table"
           }
          ]
         },
         "layout": {
          "annotationdefaults": {
           "arrowcolor": "#2a3f5f",
           "arrowhead": 0,
           "arrowwidth": 1
          },
          "autotypenumbers": "strict",
          "coloraxis": {
           "colorbar": {
            "outlinewidth": 0,
            "ticks": ""
           }
          },
          "colorscale": {
           "diverging": [
            [
             0,
             "#8e0152"
            ],
            [
             0.1,
             "#c51b7d"
            ],
            [
             0.2,
             "#de77ae"
            ],
            [
             0.3,
             "#f1b6da"
            ],
            [
             0.4,
             "#fde0ef"
            ],
            [
             0.5,
             "#f7f7f7"
            ],
            [
             0.6,
             "#e6f5d0"
            ],
            [
             0.7,
             "#b8e186"
            ],
            [
             0.8,
             "#7fbc41"
            ],
            [
             0.9,
             "#4d9221"
            ],
            [
             1,
             "#276419"
            ]
           ],
           "sequential": [
            [
             0,
             "#0d0887"
            ],
            [
             0.1111111111111111,
             "#46039f"
            ],
            [
             0.2222222222222222,
             "#7201a8"
            ],
            [
             0.3333333333333333,
             "#9c179e"
            ],
            [
             0.4444444444444444,
             "#bd3786"
            ],
            [
             0.5555555555555556,
             "#d8576b"
            ],
            [
             0.6666666666666666,
             "#ed7953"
            ],
            [
             0.7777777777777778,
             "#fb9f3a"
            ],
            [
             0.8888888888888888,
             "#fdca26"
            ],
            [
             1,
             "#f0f921"
            ]
           ],
           "sequentialminus": [
            [
             0,
             "#0d0887"
            ],
            [
             0.1111111111111111,
             "#46039f"
            ],
            [
             0.2222222222222222,
             "#7201a8"
            ],
            [
             0.3333333333333333,
             "#9c179e"
            ],
            [
             0.4444444444444444,
             "#bd3786"
            ],
            [
             0.5555555555555556,
             "#d8576b"
            ],
            [
             0.6666666666666666,
             "#ed7953"
            ],
            [
             0.7777777777777778,
             "#fb9f3a"
            ],
            [
             0.8888888888888888,
             "#fdca26"
            ],
            [
             1,
             "#f0f921"
            ]
           ]
          },
          "colorway": [
           "#636efa",
           "#EF553B",
           "#00cc96",
           "#ab63fa",
           "#FFA15A",
           "#19d3f3",
           "#FF6692",
           "#B6E880",
           "#FF97FF",
           "#FECB52"
          ],
          "font": {
           "color": "#2a3f5f"
          },
          "geo": {
           "bgcolor": "white",
           "lakecolor": "white",
           "landcolor": "#E5ECF6",
           "showlakes": true,
           "showland": true,
           "subunitcolor": "white"
          },
          "hoverlabel": {
           "align": "left"
          },
          "hovermode": "closest",
          "mapbox": {
           "style": "light"
          },
          "paper_bgcolor": "white",
          "plot_bgcolor": "#E5ECF6",
          "polar": {
           "angularaxis": {
            "gridcolor": "white",
            "linecolor": "white",
            "ticks": ""
           },
           "bgcolor": "#E5ECF6",
           "radialaxis": {
            "gridcolor": "white",
            "linecolor": "white",
            "ticks": ""
           }
          },
          "scene": {
           "xaxis": {
            "backgroundcolor": "#E5ECF6",
            "gridcolor": "white",
            "gridwidth": 2,
            "linecolor": "white",
            "showbackground": true,
            "ticks": "",
            "zerolinecolor": "white"
           },
           "yaxis": {
            "backgroundcolor": "#E5ECF6",
            "gridcolor": "white",
            "gridwidth": 2,
            "linecolor": "white",
            "showbackground": true,
            "ticks": "",
            "zerolinecolor": "white"
           },
           "zaxis": {
            "backgroundcolor": "#E5ECF6",
            "gridcolor": "white",
            "gridwidth": 2,
            "linecolor": "white",
            "showbackground": true,
            "ticks": "",
            "zerolinecolor": "white"
           }
          },
          "shapedefaults": {
           "line": {
            "color": "#2a3f5f"
           }
          },
          "ternary": {
           "aaxis": {
            "gridcolor": "white",
            "linecolor": "white",
            "ticks": ""
           },
           "baxis": {
            "gridcolor": "white",
            "linecolor": "white",
            "ticks": ""
           },
           "bgcolor": "#E5ECF6",
           "caxis": {
            "gridcolor": "white",
            "linecolor": "white",
            "ticks": ""
           }
          },
          "title": {
           "x": 0.05
          },
          "xaxis": {
           "automargin": true,
           "gridcolor": "white",
           "linecolor": "white",
           "ticks": "",
           "title": {
            "standoff": 15
           },
           "zerolinecolor": "white",
           "zerolinewidth": 2
          },
          "yaxis": {
           "automargin": true,
           "gridcolor": "white",
           "linecolor": "white",
           "ticks": "",
           "title": {
            "standoff": 15
           },
           "zerolinecolor": "white",
           "zerolinewidth": 2
          }
         }
        },
        "title": {
         "text": "Hours at Berth per call at Principal Ports"
        },
        "xaxis": {
         "anchor": "y",
         "domain": [
          0,
          1
         ],
         "title": {
          "text": ""
         }
        },
        "yaxis": {
         "anchor": "x",
         "domain": [
          0,
          1
         ],
         "title": {
          "text": "Average Hours at Berth"
         }
        }
       }
      }
     },
     "metadata": {},
     "output_type": "display_data"
    }
   ],
   "source": [
    "plot_line(\n",
    "        df=calls_df, cat_group='port_group', time_col='month',\n",
    "        y_col='hrs_at_berth', y_col_alias='Average Hours at Berth',\n",
    "        title='Hours at Berth per call at Principal Ports', width=None, height=None,\n",
    "        labels={'port_group':'Port', 'month':''},\n",
    "        cat_limit=10, cat_limit_col='hrs_at_berth',\n",
    "        highlight='NW Seaport Alliance', highlight_color='blue'\n",
    "    )"
   ]
  },
  {
   "cell_type": "code",
   "execution_count": 103,
   "id": "c949f9d8",
   "metadata": {},
   "outputs": [
    {
     "data": {
      "application/vnd.plotly.v1+json": {
       "config": {
        "plotlyServerURL": "https://plot.ly"
       },
       "data": [
        {
         "hovertemplate": "Port=NW Seaport Alliance<br>=%{x}<br>Average Hours at Berth=%{y}<extra></extra>",
         "legendgroup": "NW Seaport Alliance",
         "line": {
          "color": "#636efa",
          "dash": "solid"
         },
         "marker": {
          "symbol": "circle"
         },
         "mode": "lines",
         "name": "NW Seaport Alliance",
         "orientation": "v",
         "showlegend": true,
         "type": "scatter",
         "x": [
          "2018-01-01",
          "2018-02-01",
          "2018-03-01",
          "2018-04-01",
          "2018-05-01",
          "2018-06-01",
          "2018-07-01",
          "2018-08-01",
          "2018-09-01",
          "2018-10-01",
          "2018-11-01",
          "2018-12-01",
          "2019-01-01",
          "2019-02-01",
          "2019-03-01",
          "2019-04-01",
          "2019-05-01",
          "2019-06-01",
          "2019-07-01",
          "2019-08-01",
          "2019-09-01",
          "2019-10-01",
          "2019-11-01",
          "2019-12-01",
          "2020-01-01",
          "2020-02-01",
          "2020-03-01",
          "2020-04-01",
          "2020-05-01",
          "2020-06-01",
          "2020-07-01",
          "2020-08-01",
          "2020-09-01",
          "2020-10-01",
          "2020-11-01",
          "2020-12-01",
          "2021-01-01",
          "2021-02-01",
          "2021-03-01",
          "2021-04-01",
          "2021-05-01",
          "2021-06-01",
          "2021-07-01",
          "2021-08-01",
          "2021-09-01",
          "2021-10-01",
          "2021-11-01",
          "2021-12-01",
          "2022-01-01",
          "2022-02-01",
          "2022-03-01",
          "2022-04-01",
          "2022-05-01",
          "2022-06-01",
          "2022-07-01",
          "2022-08-01",
          "2022-09-01",
          "2022-10-01",
          "2022-11-01",
          "2022-12-01",
          "2023-01-01",
          "2023-02-01",
          "2023-03-01",
          "2023-04-01",
          "2023-05-01",
          "2023-06-01",
          "2023-07-01",
          "2023-08-01",
          "2023-09-01",
          "2023-10-01",
          "2023-11-01",
          "2023-12-01",
          "2024-01-01",
          "2024-02-01",
          "2024-03-01",
          "2024-04-01",
          "2024-05-01",
          "2024-06-01",
          "2024-07-01",
          "2024-08-01",
          "2024-09-01",
          "2024-10-01",
          "2024-11-01",
          "2024-12-01"
         ],
         "xaxis": "x",
         "y": {
          "bdata": "vbu7uzuiSUAFTuAETrxNQJ5uzQ+LhEVAZS2JYkr7TEBjpUNWOiRDQIa1b1j7ZkRApl5H6nXERUDMzMzMzGxEQA3MtQNzvUdApFzKpVzKSUAXjlJw4QhGQHQjN3IjV0xAJqnWrjE/SECDUAiFUMhGQFAknNK8uEhAKgj9o9uYREDmKUGeElxFQFG+cDph3EJAc0uc+j3HQUAKDAwMDExAQG2g0wY6zUVAE9pLaC/hQEDsG9a+Yd0+QD/3cz/3E0FAYH8C9ieAQ0CXnc6HCiM9QNajcD0KO0dA/rlW2XCkQEB1uf1BhspBQL2E9hLaE0FAajLNfyaTP0DgBE7gBK5AQJoLSVMqfkFAc2DpJAe2QUBN9HeyWv5EQKMdKxBGmkdArHPlAckCSECWWqmVWslOQPVVmBMd6kZAXxOCsvc1TECg+C/I6mlQQG5TjBr+Fk9AVaHRr3oZTkCP4ziO42xFQCtuheJWiElAD93QDd0QS0BnDJjGgMFPQHz/Dk1F5lJA1vtlvV9WSUBR9LA3KkVUQHyOBcrnOENAzCPGPGIMUEBGWw2eIzBIQFuwBVuwGUVAYRoDpjEIR0AYnpCrdTFAQALJOlceMEJAe9Ale9BlSEAzmeY/k+lHQBEREREREUNAr6+vr6/fSUBJSkpKSipEQKZcyqVcSjxA7HsBLpLzQUCMdn3QtGhEQAnQNxV24E5Ab5X/VvmvR0B/kKGyw2REQI7C9Shct0tAlTVlTVnTSUBWVVVVVT1SQBZswRZs4UhAxsXFxcUFUEAyMzMzMztGQBnziDGP+ERAjBr+NsU4SkCWVD6M+wVFQKUj9h2bbUhAdeUByTqHRkArRg1/m4JEQKSuqCvqCklAVqB8jgUqSEDKzkuN7HxQQKbQdQpd50tA",
          "dtype": "f8"
         },
         "yaxis": "y"
        },
        {
         "hovertemplate": "Port=San Pedro Ports<br>=%{x}<br>Average Hours at Berth=%{y}<extra></extra>",
         "legendgroup": "San Pedro Ports",
         "line": {
          "color": "#EF553B",
          "dash": "solid"
         },
         "marker": {
          "symbol": "circle"
         },
         "mode": "lines",
         "name": "San Pedro Ports",
         "orientation": "v",
         "showlegend": true,
         "type": "scatter",
         "x": [
          "2018-01-01",
          "2018-02-01",
          "2018-03-01",
          "2018-04-01",
          "2018-05-01",
          "2018-06-01",
          "2018-07-01",
          "2018-08-01",
          "2018-09-01",
          "2018-10-01",
          "2018-11-01",
          "2018-12-01",
          "2019-01-01",
          "2019-02-01",
          "2019-03-01",
          "2019-04-01",
          "2019-05-01",
          "2019-06-01",
          "2019-07-01",
          "2019-08-01",
          "2019-09-01",
          "2019-10-01",
          "2019-11-01",
          "2019-12-01",
          "2020-01-01",
          "2020-02-01",
          "2020-03-01",
          "2020-04-01",
          "2020-05-01",
          "2020-06-01",
          "2020-07-01",
          "2020-08-01",
          "2020-09-01",
          "2020-10-01",
          "2020-11-01",
          "2020-12-01",
          "2021-01-01",
          "2021-02-01",
          "2021-03-01",
          "2021-04-01",
          "2021-05-01",
          "2021-06-01",
          "2021-07-01",
          "2021-08-01",
          "2021-09-01",
          "2021-10-01",
          "2021-11-01",
          "2021-12-01",
          "2022-01-01",
          "2022-02-01",
          "2022-03-01",
          "2022-04-01",
          "2022-05-01",
          "2022-06-01",
          "2022-07-01",
          "2022-08-01",
          "2022-09-01",
          "2022-10-01",
          "2022-11-01",
          "2022-12-01",
          "2023-01-01",
          "2023-02-01",
          "2023-03-01",
          "2023-04-01",
          "2023-05-01",
          "2023-06-01",
          "2023-07-01",
          "2023-08-01",
          "2023-09-01",
          "2023-10-01",
          "2023-11-01",
          "2023-12-01",
          "2024-01-01",
          "2024-02-01",
          "2024-03-01",
          "2024-04-01",
          "2024-05-01",
          "2024-06-01",
          "2024-07-01",
          "2024-08-01",
          "2024-09-01",
          "2024-10-01",
          "2024-11-01",
          "2024-12-01"
         ],
         "xaxis": "x",
         "y": {
          "bdata": "vr/JbKf0R0BfpdIyf+FIQJfL79XDuFBAiuejObdFSUDmtIFOG+BLQLqyzyE1cUtA3JC8Dcl7S0D1HRk2iKNJQMvMzMxMJEtAWXGBHs48S0D8gBKJNUZLQFcQkyuIsU9AwLu7u7t5T0ASd8mFxixKQJfxZTd99ElADLZgC7bISUBYWvlUNxxJQKf31rBZsUhAIUbprtr5SEAbPpbdePBKQLF5vNKEYUhALxW4Q3LMSEBBao6llfBJQFN/Sv0p1UhAISMgJhqSSUD/dmVC/K9FQEzgBE7gCElALIuyKIsKSkAX+IckC1dLQIKYrgo1MEhAb4iLMWODSEBMLlLERvdJQDD4TlNgR0xAILbXL3eSTUAyeGLYfKtRQP7repLt/1RA2dra2to2VUCjvasBMj1TQCQptDZ83VRAt72WHOJaVEB0mAsOrFtZQFhVVVXVx1RAcTIcatkTV0B/ipIYfehUQHC+HGDZJlRABK2+VNDaV0BskEXbr7ZTQLr6QUcFzllA3CG9tN6sVkDN9Xy6QpdSQGMVi3OrFlBAThLSPBl1UECuePzaleVSQJbOWwzpxE9AsSZ/QZOQVUDn8C/p+V5UQGiU+BklMlJA+WmULlaaUEBv6diWjg1PQH3qZDjUAFBApie6axQLUkBKoPVKoOVQQIozKVVaHFBAkVyDHou9UUA4x41z3DhQQF5ImlJxVlJACPVgo/M5UUDYRX1I3ERRQA6ucOv10FBAPMFUDz+eUUAgbWHZizZSQEoaikBPjFBAfCfSfCdmUEBrMivAKWFSQMrLXq16jlBAyJo6jQx3UEDeM3sDcUtPQPlI9xc+mVBA4qzvBbhYUECGzpNwW0BQQI8xx5CklFFAgMiFEtdhUEBDwCjV5C1QQJRd2ZVdEVBA",
          "dtype": "f8"
         },
         "yaxis": "y"
        }
       ],
       "layout": {
        "legend": {
         "title": {
          "text": "Port"
         },
         "tracegroupgap": 0
        },
        "template": {
         "data": {
          "bar": [
           {
            "error_x": {
             "color": "#2a3f5f"
            },
            "error_y": {
             "color": "#2a3f5f"
            },
            "marker": {
             "line": {
              "color": "#E5ECF6",
              "width": 0.5
             },
             "pattern": {
              "fillmode": "overlay",
              "size": 10,
              "solidity": 0.2
             }
            },
            "type": "bar"
           }
          ],
          "barpolar": [
           {
            "marker": {
             "line": {
              "color": "#E5ECF6",
              "width": 0.5
             },
             "pattern": {
              "fillmode": "overlay",
              "size": 10,
              "solidity": 0.2
             }
            },
            "type": "barpolar"
           }
          ],
          "carpet": [
           {
            "aaxis": {
             "endlinecolor": "#2a3f5f",
             "gridcolor": "white",
             "linecolor": "white",
             "minorgridcolor": "white",
             "startlinecolor": "#2a3f5f"
            },
            "baxis": {
             "endlinecolor": "#2a3f5f",
             "gridcolor": "white",
             "linecolor": "white",
             "minorgridcolor": "white",
             "startlinecolor": "#2a3f5f"
            },
            "type": "carpet"
           }
          ],
          "choropleth": [
           {
            "colorbar": {
             "outlinewidth": 0,
             "ticks": ""
            },
            "type": "choropleth"
           }
          ],
          "contour": [
           {
            "colorbar": {
             "outlinewidth": 0,
             "ticks": ""
            },
            "colorscale": [
             [
              0,
              "#0d0887"
             ],
             [
              0.1111111111111111,
              "#46039f"
             ],
             [
              0.2222222222222222,
              "#7201a8"
             ],
             [
              0.3333333333333333,
              "#9c179e"
             ],
             [
              0.4444444444444444,
              "#bd3786"
             ],
             [
              0.5555555555555556,
              "#d8576b"
             ],
             [
              0.6666666666666666,
              "#ed7953"
             ],
             [
              0.7777777777777778,
              "#fb9f3a"
             ],
             [
              0.8888888888888888,
              "#fdca26"
             ],
             [
              1,
              "#f0f921"
             ]
            ],
            "type": "contour"
           }
          ],
          "contourcarpet": [
           {
            "colorbar": {
             "outlinewidth": 0,
             "ticks": ""
            },
            "type": "contourcarpet"
           }
          ],
          "heatmap": [
           {
            "colorbar": {
             "outlinewidth": 0,
             "ticks": ""
            },
            "colorscale": [
             [
              0,
              "#0d0887"
             ],
             [
              0.1111111111111111,
              "#46039f"
             ],
             [
              0.2222222222222222,
              "#7201a8"
             ],
             [
              0.3333333333333333,
              "#9c179e"
             ],
             [
              0.4444444444444444,
              "#bd3786"
             ],
             [
              0.5555555555555556,
              "#d8576b"
             ],
             [
              0.6666666666666666,
              "#ed7953"
             ],
             [
              0.7777777777777778,
              "#fb9f3a"
             ],
             [
              0.8888888888888888,
              "#fdca26"
             ],
             [
              1,
              "#f0f921"
             ]
            ],
            "type": "heatmap"
           }
          ],
          "histogram": [
           {
            "marker": {
             "pattern": {
              "fillmode": "overlay",
              "size": 10,
              "solidity": 0.2
             }
            },
            "type": "histogram"
           }
          ],
          "histogram2d": [
           {
            "colorbar": {
             "outlinewidth": 0,
             "ticks": ""
            },
            "colorscale": [
             [
              0,
              "#0d0887"
             ],
             [
              0.1111111111111111,
              "#46039f"
             ],
             [
              0.2222222222222222,
              "#7201a8"
             ],
             [
              0.3333333333333333,
              "#9c179e"
             ],
             [
              0.4444444444444444,
              "#bd3786"
             ],
             [
              0.5555555555555556,
              "#d8576b"
             ],
             [
              0.6666666666666666,
              "#ed7953"
             ],
             [
              0.7777777777777778,
              "#fb9f3a"
             ],
             [
              0.8888888888888888,
              "#fdca26"
             ],
             [
              1,
              "#f0f921"
             ]
            ],
            "type": "histogram2d"
           }
          ],
          "histogram2dcontour": [
           {
            "colorbar": {
             "outlinewidth": 0,
             "ticks": ""
            },
            "colorscale": [
             [
              0,
              "#0d0887"
             ],
             [
              0.1111111111111111,
              "#46039f"
             ],
             [
              0.2222222222222222,
              "#7201a8"
             ],
             [
              0.3333333333333333,
              "#9c179e"
             ],
             [
              0.4444444444444444,
              "#bd3786"
             ],
             [
              0.5555555555555556,
              "#d8576b"
             ],
             [
              0.6666666666666666,
              "#ed7953"
             ],
             [
              0.7777777777777778,
              "#fb9f3a"
             ],
             [
              0.8888888888888888,
              "#fdca26"
             ],
             [
              1,
              "#f0f921"
             ]
            ],
            "type": "histogram2dcontour"
           }
          ],
          "mesh3d": [
           {
            "colorbar": {
             "outlinewidth": 0,
             "ticks": ""
            },
            "type": "mesh3d"
           }
          ],
          "parcoords": [
           {
            "line": {
             "colorbar": {
              "outlinewidth": 0,
              "ticks": ""
             }
            },
            "type": "parcoords"
           }
          ],
          "pie": [
           {
            "automargin": true,
            "type": "pie"
           }
          ],
          "scatter": [
           {
            "fillpattern": {
             "fillmode": "overlay",
             "size": 10,
             "solidity": 0.2
            },
            "type": "scatter"
           }
          ],
          "scatter3d": [
           {
            "line": {
             "colorbar": {
              "outlinewidth": 0,
              "ticks": ""
             }
            },
            "marker": {
             "colorbar": {
              "outlinewidth": 0,
              "ticks": ""
             }
            },
            "type": "scatter3d"
           }
          ],
          "scattercarpet": [
           {
            "marker": {
             "colorbar": {
              "outlinewidth": 0,
              "ticks": ""
             }
            },
            "type": "scattercarpet"
           }
          ],
          "scattergeo": [
           {
            "marker": {
             "colorbar": {
              "outlinewidth": 0,
              "ticks": ""
             }
            },
            "type": "scattergeo"
           }
          ],
          "scattergl": [
           {
            "marker": {
             "colorbar": {
              "outlinewidth": 0,
              "ticks": ""
             }
            },
            "type": "scattergl"
           }
          ],
          "scattermap": [
           {
            "marker": {
             "colorbar": {
              "outlinewidth": 0,
              "ticks": ""
             }
            },
            "type": "scattermap"
           }
          ],
          "scattermapbox": [
           {
            "marker": {
             "colorbar": {
              "outlinewidth": 0,
              "ticks": ""
             }
            },
            "type": "scattermapbox"
           }
          ],
          "scatterpolar": [
           {
            "marker": {
             "colorbar": {
              "outlinewidth": 0,
              "ticks": ""
             }
            },
            "type": "scatterpolar"
           }
          ],
          "scatterpolargl": [
           {
            "marker": {
             "colorbar": {
              "outlinewidth": 0,
              "ticks": ""
             }
            },
            "type": "scatterpolargl"
           }
          ],
          "scatterternary": [
           {
            "marker": {
             "colorbar": {
              "outlinewidth": 0,
              "ticks": ""
             }
            },
            "type": "scatterternary"
           }
          ],
          "surface": [
           {
            "colorbar": {
             "outlinewidth": 0,
             "ticks": ""
            },
            "colorscale": [
             [
              0,
              "#0d0887"
             ],
             [
              0.1111111111111111,
              "#46039f"
             ],
             [
              0.2222222222222222,
              "#7201a8"
             ],
             [
              0.3333333333333333,
              "#9c179e"
             ],
             [
              0.4444444444444444,
              "#bd3786"
             ],
             [
              0.5555555555555556,
              "#d8576b"
             ],
             [
              0.6666666666666666,
              "#ed7953"
             ],
             [
              0.7777777777777778,
              "#fb9f3a"
             ],
             [
              0.8888888888888888,
              "#fdca26"
             ],
             [
              1,
              "#f0f921"
             ]
            ],
            "type": "surface"
           }
          ],
          "table": [
           {
            "cells": {
             "fill": {
              "color": "#EBF0F8"
             },
             "line": {
              "color": "white"
             }
            },
            "header": {
             "fill": {
              "color": "#C8D4E3"
             },
             "line": {
              "color": "white"
             }
            },
            "type": "table"
           }
          ]
         },
         "layout": {
          "annotationdefaults": {
           "arrowcolor": "#2a3f5f",
           "arrowhead": 0,
           "arrowwidth": 1
          },
          "autotypenumbers": "strict",
          "coloraxis": {
           "colorbar": {
            "outlinewidth": 0,
            "ticks": ""
           }
          },
          "colorscale": {
           "diverging": [
            [
             0,
             "#8e0152"
            ],
            [
             0.1,
             "#c51b7d"
            ],
            [
             0.2,
             "#de77ae"
            ],
            [
             0.3,
             "#f1b6da"
            ],
            [
             0.4,
             "#fde0ef"
            ],
            [
             0.5,
             "#f7f7f7"
            ],
            [
             0.6,
             "#e6f5d0"
            ],
            [
             0.7,
             "#b8e186"
            ],
            [
             0.8,
             "#7fbc41"
            ],
            [
             0.9,
             "#4d9221"
            ],
            [
             1,
             "#276419"
            ]
           ],
           "sequential": [
            [
             0,
             "#0d0887"
            ],
            [
             0.1111111111111111,
             "#46039f"
            ],
            [
             0.2222222222222222,
             "#7201a8"
            ],
            [
             0.3333333333333333,
             "#9c179e"
            ],
            [
             0.4444444444444444,
             "#bd3786"
            ],
            [
             0.5555555555555556,
             "#d8576b"
            ],
            [
             0.6666666666666666,
             "#ed7953"
            ],
            [
             0.7777777777777778,
             "#fb9f3a"
            ],
            [
             0.8888888888888888,
             "#fdca26"
            ],
            [
             1,
             "#f0f921"
            ]
           ],
           "sequentialminus": [
            [
             0,
             "#0d0887"
            ],
            [
             0.1111111111111111,
             "#46039f"
            ],
            [
             0.2222222222222222,
             "#7201a8"
            ],
            [
             0.3333333333333333,
             "#9c179e"
            ],
            [
             0.4444444444444444,
             "#bd3786"
            ],
            [
             0.5555555555555556,
             "#d8576b"
            ],
            [
             0.6666666666666666,
             "#ed7953"
            ],
            [
             0.7777777777777778,
             "#fb9f3a"
            ],
            [
             0.8888888888888888,
             "#fdca26"
            ],
            [
             1,
             "#f0f921"
            ]
           ]
          },
          "colorway": [
           "#636efa",
           "#EF553B",
           "#00cc96",
           "#ab63fa",
           "#FFA15A",
           "#19d3f3",
           "#FF6692",
           "#B6E880",
           "#FF97FF",
           "#FECB52"
          ],
          "font": {
           "color": "#2a3f5f"
          },
          "geo": {
           "bgcolor": "white",
           "lakecolor": "white",
           "landcolor": "#E5ECF6",
           "showlakes": true,
           "showland": true,
           "subunitcolor": "white"
          },
          "hoverlabel": {
           "align": "left"
          },
          "hovermode": "closest",
          "mapbox": {
           "style": "light"
          },
          "paper_bgcolor": "white",
          "plot_bgcolor": "#E5ECF6",
          "polar": {
           "angularaxis": {
            "gridcolor": "white",
            "linecolor": "white",
            "ticks": ""
           },
           "bgcolor": "#E5ECF6",
           "radialaxis": {
            "gridcolor": "white",
            "linecolor": "white",
            "ticks": ""
           }
          },
          "scene": {
           "xaxis": {
            "backgroundcolor": "#E5ECF6",
            "gridcolor": "white",
            "gridwidth": 2,
            "linecolor": "white",
            "showbackground": true,
            "ticks": "",
            "zerolinecolor": "white"
           },
           "yaxis": {
            "backgroundcolor": "#E5ECF6",
            "gridcolor": "white",
            "gridwidth": 2,
            "linecolor": "white",
            "showbackground": true,
            "ticks": "",
            "zerolinecolor": "white"
           },
           "zaxis": {
            "backgroundcolor": "#E5ECF6",
            "gridcolor": "white",
            "gridwidth": 2,
            "linecolor": "white",
            "showbackground": true,
            "ticks": "",
            "zerolinecolor": "white"
           }
          },
          "shapedefaults": {
           "line": {
            "color": "#2a3f5f"
           }
          },
          "ternary": {
           "aaxis": {
            "gridcolor": "white",
            "linecolor": "white",
            "ticks": ""
           },
           "baxis": {
            "gridcolor": "white",
            "linecolor": "white",
            "ticks": ""
           },
           "bgcolor": "#E5ECF6",
           "caxis": {
            "gridcolor": "white",
            "linecolor": "white",
            "ticks": ""
           }
          },
          "title": {
           "x": 0.05
          },
          "xaxis": {
           "automargin": true,
           "gridcolor": "white",
           "linecolor": "white",
           "ticks": "",
           "title": {
            "standoff": 15
           },
           "zerolinecolor": "white",
           "zerolinewidth": 2
          },
          "yaxis": {
           "automargin": true,
           "gridcolor": "white",
           "linecolor": "white",
           "ticks": "",
           "title": {
            "standoff": 15
           },
           "zerolinecolor": "white",
           "zerolinewidth": 2
          }
         }
        },
        "title": {
         "text": "Hours at Berth per call - San Pedro vs NWSPA"
        },
        "xaxis": {
         "anchor": "y",
         "domain": [
          0,
          1
         ],
         "title": {
          "text": ""
         }
        },
        "yaxis": {
         "anchor": "x",
         "domain": [
          0,
          1
         ],
         "title": {
          "text": "Average Hours at Berth"
         }
        }
       }
      }
     },
     "metadata": {},
     "output_type": "display_data"
    }
   ],
   "source": [
    "plot_line(\n",
    "        df=calls_df, cat_group='port_group', time_col='month',\n",
    "        filter_col='port_group', filter=['NW Seaport Alliance', 'San Pedro Ports'],\n",
    "        y_col='hrs_at_berth', y_col_alias='Average Hours at Berth',\n",
    "        title='Hours at Berth per call - San Pedro vs NWSPA', width=None, height=None,\n",
    "        labels={'port_group':'Port', 'month':''},\n",
    "        cat_limit=10, cat_limit_col='hrs_at_berth',\n",
    "        #highlight='NW Seaport Alliance', highlight_color='blue'\n",
    "    )"
   ]
  },
  {
   "cell_type": "markdown",
   "id": "ebbd33c4",
   "metadata": {},
   "source": [
    "Much more interesting: total hours at berth per unit volume in each month"
   ]
  },
  {
   "cell_type": "code",
   "execution_count": 96,
   "id": "81a26204",
   "metadata": {},
   "outputs": [
    {
     "data": {
      "application/vnd.plotly.v1+json": {
       "config": {
        "plotlyServerURL": "https://plot.ly"
       },
       "data": [
        {
         "hovertemplate": "Port=NW Seaport Alliance<br>=%{x}<br>Mean Vessel Length (m)=%{y}<extra></extra>",
         "legendgroup": "NW Seaport Alliance",
         "line": {
          "color": "blue",
          "dash": "solid"
         },
         "marker": {
          "symbol": "circle"
         },
         "mode": "lines",
         "name": "NW Seaport Alliance",
         "orientation": "v",
         "showlegend": true,
         "type": "scatter",
         "x": [
          "2018-01-01",
          "2018-02-01",
          "2018-03-01",
          "2018-04-01",
          "2018-05-01",
          "2018-06-01",
          "2018-07-01",
          "2018-08-01",
          "2018-09-01",
          "2018-10-01",
          "2018-11-01",
          "2018-12-01",
          "2019-01-01",
          "2019-02-01",
          "2019-03-01",
          "2019-04-01",
          "2019-05-01",
          "2019-06-01",
          "2019-07-01",
          "2019-08-01",
          "2019-09-01",
          "2019-10-01",
          "2019-11-01",
          "2019-12-01",
          "2020-01-01",
          "2020-02-01",
          "2020-03-01",
          "2020-04-01",
          "2020-05-01",
          "2020-06-01",
          "2020-07-01",
          "2020-08-01",
          "2020-09-01",
          "2020-10-01",
          "2020-11-01",
          "2020-12-01",
          "2021-01-01",
          "2021-02-01",
          "2021-03-01",
          "2021-04-01",
          "2021-05-01",
          "2021-06-01",
          "2021-07-01",
          "2021-08-01",
          "2021-09-01",
          "2021-10-01",
          "2021-11-01",
          "2021-12-01",
          "2022-01-01",
          "2022-02-01",
          "2022-03-01",
          "2022-04-01",
          "2022-05-01",
          "2022-06-01",
          "2022-07-01",
          "2022-08-01",
          "2022-09-01",
          "2022-10-01",
          "2022-11-01",
          "2022-12-01",
          "2023-01-01",
          "2023-02-01",
          "2023-03-01",
          "2023-04-01",
          "2023-05-01",
          "2023-06-01",
          "2023-07-01",
          "2023-08-01",
          "2023-09-01",
          "2023-10-01",
          "2023-11-01",
          "2023-12-01",
          "2024-01-01",
          "2024-02-01",
          "2024-03-01",
          "2024-04-01",
          "2024-05-01",
          "2024-06-01",
          "2024-07-01",
          "2024-08-01",
          "2024-09-01",
          "2024-10-01",
          "2024-11-01",
          "2024-12-01"
         ],
         "xaxis": "x",
         "y": {
          "bdata": "AAAAAIC0cEAlSZIkSRxxQC+hvYT24nBAjLeyzyFlcUC2b1j7hpVxQGLtG9a+MXFAHNa+Ye1bcUClT/qkT8pxQGQhC1nIOnFA4yu+4iv+cEBH3BF3xA1xQIqd2Imd1HBAsAVbsAVrcUBcvuVbvpVwQAticgUxaXFA3/SmN70ZcUDRRRdddCFxQMomm2yy2XFAymsor6GEcUDx8PDw8MhxQDMzMzMz23FAVVVVVVUhcUBddNFFFyVxQDVIgzRI83BA7UrUrkR9cUCp72zUd3ZwQAAAAAAACHFAt23btm1LcUBbsAVbsDVxQOQ4juM4ZnFAX9AX9AWtcUCIxvrQWE9xQGZmZmZmdnFAiTvijrhzcUDFV3zFV0xxQF5DeQ3lZXFAq6qqqqrycEDsxE7sxDZxQNFeQnsJzXBAyWfdYIoscUDyWTeYIv9wQFVVVVVVTW9ACsZb2efwb0AAAAAAAJhuQHzwwQcfvGxAwzAMwzAMbkAvuuiiixZuQKOLLrroYm9ARe1K1K7kbEDlNZTXUI5vQHFH3BF3xG5AfQzOx+Bcb0BDFrKQhVxuQKuqqqqqEm9A6aKLLrpMcEDlNZTXUKZwQAAAAAAAJHBACgoKCgqKcEBf0Bf0BT1vQFFeQ3kN9W9AS0tLS0urb0DEw8PDwyNvQFAHdVAHFXBApze96U0vcECtG0yRz7puQGjdYIp8NnBA1K5E7UpUcEAiIiIiIgpxQAAAAAAA7HBAs6asKWvacEAAAAAAAEhwQPDBBx988G5ADw8PDw9ncEDkOI7jOEZtQD4G52NwDnBAx3Ecx3GUcEAWspCFLARvQBERERERMW9AAAAAAACYcEClT/qkT5pvQO6IO+KOeG9Am7KmrCmLb0DoC/qCviBwQJ1zzjnnnHBA",
          "dtype": "f8"
         },
         "yaxis": "y"
        },
        {
         "hovertemplate": "Port=San Pedro Ports<br>=%{x}<br>Mean Vessel Length (m)=%{y}<extra></extra>",
         "legendgroup": "San Pedro Ports",
         "line": {
          "color": "lightgray",
          "dash": "solid"
         },
         "marker": {
          "symbol": "circle"
         },
         "mode": "lines",
         "name": "San Pedro Ports",
         "orientation": "v",
         "showlegend": true,
         "type": "scatter",
         "x": [
          "2018-01-01",
          "2018-02-01",
          "2018-03-01",
          "2018-04-01",
          "2018-05-01",
          "2018-06-01",
          "2018-07-01",
          "2018-08-01",
          "2018-09-01",
          "2018-10-01",
          "2018-11-01",
          "2018-12-01",
          "2019-01-01",
          "2019-02-01",
          "2019-03-01",
          "2019-04-01",
          "2019-05-01",
          "2019-06-01",
          "2019-07-01",
          "2019-08-01",
          "2019-09-01",
          "2019-10-01",
          "2019-11-01",
          "2019-12-01",
          "2020-01-01",
          "2020-02-01",
          "2020-03-01",
          "2020-04-01",
          "2020-05-01",
          "2020-06-01",
          "2020-07-01",
          "2020-08-01",
          "2020-09-01",
          "2020-10-01",
          "2020-11-01",
          "2020-12-01",
          "2021-01-01",
          "2021-02-01",
          "2021-03-01",
          "2021-04-01",
          "2021-05-01",
          "2021-06-01",
          "2021-07-01",
          "2021-08-01",
          "2021-09-01",
          "2021-10-01",
          "2021-11-01",
          "2021-12-01",
          "2022-01-01",
          "2022-02-01",
          "2022-03-01",
          "2022-04-01",
          "2022-05-01",
          "2022-06-01",
          "2022-07-01",
          "2022-08-01",
          "2022-09-01",
          "2022-10-01",
          "2022-11-01",
          "2022-12-01",
          "2023-01-01",
          "2023-02-01",
          "2023-03-01",
          "2023-04-01",
          "2023-05-01",
          "2023-06-01",
          "2023-07-01",
          "2023-08-01",
          "2023-09-01",
          "2023-10-01",
          "2023-11-01",
          "2023-12-01",
          "2024-01-01",
          "2024-02-01",
          "2024-03-01",
          "2024-04-01",
          "2024-05-01",
          "2024-06-01",
          "2024-07-01",
          "2024-08-01",
          "2024-09-01",
          "2024-10-01",
          "2024-11-01",
          "2024-12-01"
         ],
         "xaxis": "x",
         "y": {
          "bdata": "hVGdJgfZb0A9oRYwJiFwQGdIzNsZsm9AdEhNMN5ScEBxPQrXo5ZwQKkJxlvZE3BAp2J1Kla3cEAnGG9ln2NwQKuqqqqqlHBA8gRE56trcEB0S5z6PVdwQF1BTK4gXnBAdmIndmKFcECQSfECmQRwQJR8H6vZ029AVVVVVVWjb0DYUF5DeW1vQJlcQUyufHBAXvlEzOZScECh27VywvNwQPWmN73pQ3BAVrMn+T5mcEDqvjy2IlhwQK2AtQLWGnBAB/EdxHdwcEDZsmXLlu1vQGIYhmEYZm9AB2mQBmk8cEAAAAAAAOBvQIFuzNNHi3BAa9+w9g27cEB5rlkdRolwQAdrlhifgnBASZQae5iFcEBERERERFRwQGNL8G3+WnBALS0tLS1PcEDj7+YRqg9vQAAAAAAAAHBAkF1YjIRScED3VmmKX7JwQEmSJEmS2m9AU7NhfxeTcEAFBEOyRURwQP2eW+LUn29A9JutQ7/5b0BRXkN5DcVvQGrYbpYneXBAkyFYR5t7cECzVeJithpwQBKWexphiXBAgynyWTdYb0C/q8VNmJ9wQAAAAAAAUnBACUf193kbcEB9aeIwVktwQKc3velNW3BARfOEWsA4cEAhhBBCCJFvQBaykIUs/G9AwhFEWi+AcEA+k+g9kxhwQBdddNFFJ29AhsS8nSEZcEA5GpejcVlwQIXrUbgeXXBAZe9rQlBGcEBU4IurH1RwQEV2E9lN5HBAvzy2Img4cEDgyWp5Y4RwQKuqqqqqmnBAHh4eHh5ecEAMeL2N/pBwQESBSafm4W9AK2CtgLVScEB0/fEyGBVwQAticgUxbXBAklYmT0A0cEACm/aTJSBwQDmO4ziOI3BAr9DcTuVBcECsD431oaFwQLdt27ZtA3BA",
          "dtype": "f8"
         },
         "yaxis": "y"
        },
        {
         "hovertemplate": "Port=Baltimore, MD<br>=%{x}<br>Mean Vessel Length (m)=%{y}<extra></extra>",
         "legendgroup": "Baltimore, MD",
         "line": {
          "color": "lightgray",
          "dash": "solid"
         },
         "marker": {
          "symbol": "circle"
         },
         "mode": "lines",
         "name": "Baltimore, MD",
         "orientation": "v",
         "showlegend": true,
         "type": "scatter",
         "x": [
          "2018-01-01",
          "2018-02-01",
          "2018-03-01",
          "2018-04-01",
          "2018-05-01",
          "2018-06-01",
          "2018-07-01",
          "2018-08-01",
          "2018-09-01",
          "2018-10-01",
          "2018-11-01",
          "2018-12-01",
          "2019-01-01",
          "2019-02-01",
          "2019-03-01",
          "2019-04-01",
          "2019-05-01",
          "2019-06-01",
          "2019-07-01",
          "2019-08-01",
          "2019-09-01",
          "2019-10-01",
          "2019-11-01",
          "2019-12-01",
          "2020-01-01",
          "2020-02-01",
          "2020-03-01",
          "2020-04-01",
          "2020-05-01",
          "2020-06-01",
          "2020-07-01",
          "2020-08-01",
          "2020-09-01",
          "2020-10-01",
          "2020-11-01",
          "2020-12-01",
          "2021-01-01",
          "2021-02-01",
          "2021-03-01",
          "2021-04-01",
          "2021-05-01",
          "2021-06-01",
          "2021-07-01",
          "2021-08-01",
          "2021-09-01",
          "2021-10-01",
          "2021-11-01",
          "2021-12-01",
          "2022-01-01",
          "2022-02-01",
          "2022-03-01",
          "2022-04-01",
          "2022-05-01",
          "2022-06-01",
          "2022-07-01",
          "2022-08-01",
          "2022-09-01",
          "2022-10-01",
          "2022-11-01",
          "2022-12-01",
          "2023-01-01",
          "2023-02-01",
          "2023-03-01",
          "2023-04-01",
          "2023-05-01",
          "2023-06-01",
          "2023-07-01",
          "2023-08-01",
          "2023-09-01",
          "2023-10-01",
          "2023-11-01",
          "2023-12-01",
          "2024-01-01",
          "2024-02-01",
          "2024-03-01",
          "2024-04-01",
          "2024-05-01",
          "2024-06-01",
          "2024-07-01",
          "2024-08-01",
          "2024-09-01",
          "2024-10-01",
          "2024-11-01",
          "2024-12-01"
         ],
         "xaxis": "x",
         "y": {
          "bdata": "SD/60Y9ea0BVVVVVVURrQOh5nud53mpA36lrObjZakC8frZYGT5rQFydkYq5tWpAetOb3vT2akDG9jt6ZYxqQOQ4juM4jmpAUt/ZqO/sakB/tlgZvlFqQE7Byyl4uWpA9qGxPjQWa0ByWTFQwvtqQGNl+EYU2GpAq6qqqqoea0BMriAmVzBrQMEFLnCBK2tAeDbqOxt1akCeRKZhu/lpQOsHHRX4ImtAcLYO/WYLa0ArWclKVhJrQCIcwiEcAmtAHnFH3BG3akAJCQkJCclqQEmSJEmSbGtALS0tLS31akAAAAAAAMxpQEIIIYQQgmtA8MEHH3zQakAGotKRPaNqQGRwPgbnA2tAaer82kPuakDtStSuRC1rQNR3Nuo7m2pAj7gj7ohLakDxqzGRHkhrQNOb3vSmT2pA3c/93M9dakCUJbBpPzlrQO0nS2DTHmtA6aKLLrrkakDcGRLzduZqQNxwww03/GpAdNFFF13gakCGg+jxXZhqQKp5kLt+FmtAXUFMriDmaUA1bDfLkwhrQILxVvY5pGtA16NwPQr3aUCEQziEQ1hrQEtPLaz0tGpA/WyxMnxDakB9fX19fb1qQDi96U1vempAcESBSadGakBkamDvmBpqQM4555xzDmpAchzHcRxnakA5BS+n4MVpQC+66KKL9mpAs1+IFaURakA/6KjAF1dqQLgehetRIGpAcT0K16PwakBmZmZmZo5qQLPPITXBaGtA7MRO7MQOa0BYYIEFFnhqQFPWlDVl/WpAAqnkvCxiakDkkUceeYRqQAAAAAAA8GlAAAAAAABwY0AJ7SW0l0BqQEYXXXTRCWpAmpmZmZm5aUBoL6G9hOZpQJva1KY21WpAkWnYbpZHakAtprOYzjJqQEFf0Bf01WlA",
          "dtype": "f8"
         },
         "yaxis": "y"
        },
        {
         "hovertemplate": "Port=New Orleans, LA<br>=%{x}<br>Mean Vessel Length (m)=%{y}<extra></extra>",
         "legendgroup": "New Orleans, LA",
         "line": {
          "color": "lightgray",
          "dash": "solid"
         },
         "marker": {
          "symbol": "circle"
         },
         "mode": "lines",
         "name": "New Orleans, LA",
         "orientation": "v",
         "showlegend": true,
         "type": "scatter",
         "x": [
          "2018-01-01",
          "2018-02-01",
          "2018-03-01",
          "2018-04-01",
          "2018-05-01",
          "2018-06-01",
          "2018-07-01",
          "2018-08-01",
          "2018-09-01",
          "2018-10-01",
          "2018-11-01",
          "2018-12-01",
          "2019-01-01",
          "2019-02-01",
          "2019-03-01",
          "2019-04-01",
          "2019-05-01",
          "2019-06-01",
          "2019-07-01",
          "2019-08-01",
          "2019-09-01",
          "2019-10-01",
          "2019-11-01",
          "2019-12-01",
          "2020-01-01",
          "2020-02-01",
          "2020-03-01",
          "2020-04-01",
          "2020-05-01",
          "2020-06-01",
          "2020-07-01",
          "2020-08-01",
          "2020-09-01",
          "2020-10-01",
          "2020-11-01",
          "2020-12-01",
          "2021-01-01",
          "2021-02-01",
          "2021-03-01",
          "2021-04-01",
          "2021-05-01",
          "2021-06-01",
          "2021-07-01",
          "2021-08-01",
          "2021-09-01",
          "2021-10-01",
          "2021-11-01",
          "2021-12-01",
          "2022-01-01",
          "2022-02-01",
          "2022-03-01",
          "2022-04-01",
          "2022-05-01",
          "2022-06-01",
          "2022-07-01",
          "2022-08-01",
          "2022-09-01",
          "2022-10-01",
          "2022-11-01",
          "2022-12-01",
          "2023-01-01",
          "2023-02-01",
          "2023-03-01",
          "2023-04-01",
          "2023-05-01",
          "2023-06-01",
          "2023-07-01",
          "2023-08-01",
          "2023-09-01",
          "2023-10-01",
          "2023-11-01",
          "2023-12-01",
          "2024-01-01",
          "2024-02-01",
          "2024-03-01",
          "2024-04-01",
          "2024-05-01",
          "2024-06-01",
          "2024-07-01",
          "2024-08-01",
          "2024-09-01",
          "2024-10-01",
          "2024-11-01",
          "2024-12-01"
         ],
         "xaxis": "x",
         "y": {
          "bdata": "inzWDaYIa0A7MNcOzJVrQCxRuxK1e2tAIYQQQgiha0DKwNOt+eFrQPz48ePHT2xA+cWSXyzZbECWqF2J2gVsQEaMGDFiZGxA8uPHjx9/a0AAAAAAAApsQIiHh4eHt2tAuuiiiy5ybEBu5EZu5MZqQNaUNWVNiWpAQgghhBACbEDBgQMHDpxrQH7gB37gp2tAINEKmwNpbEDZsmXLlu1rQCGEEEIIwWxAAAAAAADmbECkBypntzBrQCebbLLJ1mxAmpmZmZmZa0ASlnsaYUlsQBGso837lGtAwgcffPCRa0BFPusGU8RrQKmVWqmVOmxASimllFKKakDs6+vr6yttQNu2bdu2HWxAYid2Yid2bEDuI7iP4D5tQK+hvIbyempAGmG5pxF2bECamZmZmdlrQMkQrKPNW2xAMzMzMzNzbECKfNYNplhrQOGDDz74sGtAchzHcRyrakDuaYTlnhZtQGwor6G8ZmtAJFphcyCxa0Dbtm3btu1pQOd9ikuGIGtALL7iK74Ca0AElbNb+NVpQDMzMzMzE2pAe/Xq1au3aUD1pje96c1oQF3XdV3XdWlAAAAAAAC6akBnt/CrMdFpQAAAAACAVmpAEPzAD/yAakBHm/cpLllqQPv6+vr62mpAdM4555xTa0Bu5EZu5OZrQC3LsizLEmtAEWflJ8SZa0CEEEIIIdRrQOO3Sz0Zv2tAAAAAAABYbUCbbLLJJitsQHUW01lMB2xA+e1ST8ava0CxEzuxE3NsQLdt27Zte2tARXqgcnara0CEEEIIIQRsQAAAAAAA4GpAxSVDsI42a0CrqqqqqhJrQI0SP6PEz2pAIyz3NMKSaUAAAAAAgCBqQC4ZgnW0mWlAsRM7sRMjakAaJX5GiT9rQDDeyj6HFGtA",
          "dtype": "f8"
         },
         "yaxis": "y"
        },
        {
         "hovertemplate": "Port=Mobile, AL<br>=%{x}<br>Mean Vessel Length (m)=%{y}<extra></extra>",
         "legendgroup": "Mobile, AL",
         "line": {
          "color": "lightgray",
          "dash": "solid"
         },
         "marker": {
          "symbol": "circle"
         },
         "mode": "lines",
         "name": "Mobile, AL",
         "orientation": "v",
         "showlegend": true,
         "type": "scatter",
         "x": [
          "2018-01-01",
          "2018-02-01",
          "2018-03-01",
          "2018-04-01",
          "2018-05-01",
          "2018-06-01",
          "2018-07-01",
          "2018-08-01",
          "2018-09-01",
          "2018-10-01",
          "2018-11-01",
          "2018-12-01",
          "2019-01-01",
          "2019-02-01",
          "2019-03-01",
          "2019-04-01",
          "2019-05-01",
          "2019-06-01",
          "2019-07-01",
          "2019-08-01",
          "2019-09-01",
          "2019-10-01",
          "2019-11-01",
          "2019-12-01",
          "2020-01-01",
          "2020-02-01",
          "2020-03-01",
          "2020-04-01",
          "2020-05-01",
          "2020-06-01",
          "2020-07-01",
          "2020-08-01",
          "2020-09-01",
          "2020-10-01",
          "2020-11-01",
          "2020-12-01",
          "2021-01-01",
          "2021-02-01",
          "2021-03-01",
          "2021-04-01",
          "2021-05-01",
          "2021-06-01",
          "2021-07-01",
          "2021-08-01",
          "2021-09-01",
          "2021-10-01",
          "2021-11-01",
          "2021-12-01",
          "2022-01-01",
          "2022-02-01",
          "2022-03-01",
          "2022-04-01",
          "2022-05-01",
          "2022-06-01",
          "2022-07-01",
          "2022-08-01",
          "2022-09-01",
          "2022-10-01",
          "2022-11-01",
          "2022-12-01",
          "2023-01-01",
          "2023-02-01",
          "2023-03-01",
          "2023-04-01",
          "2023-05-01",
          "2023-06-01",
          "2023-07-01",
          "2023-08-01",
          "2023-09-01",
          "2023-10-01",
          "2023-11-01",
          "2023-12-01",
          "2024-01-01",
          "2024-02-01",
          "2024-03-01",
          "2024-04-01",
          "2024-05-01",
          "2024-06-01",
          "2024-07-01",
          "2024-08-01",
          "2024-09-01",
          "2024-10-01",
          "2024-11-01",
          "2024-12-01"
         ],
         "xaxis": "x",
         "y": {
          "bdata": "Kh3ZMxDVaUCwPeSyYqBqQIhFysDTTWpAMzMzMzMZakCFhISEhORpQL69vb29HWtA6Av6gr5QakBg75ga2DtrQPoYnI/BuWlAIxShCEVIakBSBp5uzY9pQE2aNGnSZGpAxhhjjDGmakAN5TWU10BqQF100UUXGWtAOSs/Ic7KakAGSnijqTNrQF100UUXBWpAypqypqypaUCjiy666BJqQL/2kMuKIWtAAAAAAABga0DNzMzMzIxrQEN5DeU17GtAMzMzMzM9a0Cogzqog2pqQHIcx3Ec42pAfjUm0gO1aUAP6qAO6gBsQAAAAACAp2tAHh4eHh4ubEBUzm7hV6NtQOFXYyI9MGxAafM+xSUDbUDx8PDw8LBsQGZmZmZmsGtA6qAO6qCea0Acx3Ecx1FqQIwuuuii22pA3ZofFikDakAAAAAAAFZpQB+F61G4DmpABlqgBVrgaUCcj8H5GBxqQAu0QAu04GlAoQhFKELRaUCe8YxnPANrQFpaWlpaWmpA05ve9KanakBTm9rUplZqQGIndmIn9mlA3t3d3d1takCTTTbZZDNqQFA//fTTT2lAAAAAAADXaUDyjGc845lqQHnkkUcemWpA188WK8OXaUBmZmZmZoZqQIdwCIdwSGpAVVVVVVUCa0ByBTG5gkhrQL/0S7/0K2tArkO/2Tq0akAQjfWhsS5qQBkZGRkZaWpAm/aTJbCJa0C4HoXrUWhrQDuxEzuxo2tA+85GfWeja0BjyS+W/EJsQC1kIQtZiGtA9aY3vemFa0Con3766SdsQMdxHMdxvGpAEUIIIYTQakC6g/1WG4NrQKG9hPYSsmpAYhiGYRjeakA7Q2LezlBqQA7hEA7hMGtAVVVVVVU1a0DqOxv1nX1rQAMDAwMDw2pA",
          "dtype": "f8"
         },
         "yaxis": "y"
        },
        {
         "hovertemplate": "Port=PortMiami, FL<br>=%{x}<br>Mean Vessel Length (m)=%{y}<extra></extra>",
         "legendgroup": "PortMiami, FL",
         "line": {
          "color": "lightgray",
          "dash": "solid"
         },
         "marker": {
          "symbol": "circle"
         },
         "mode": "lines",
         "name": "PortMiami, FL",
         "orientation": "v",
         "showlegend": true,
         "type": "scatter",
         "x": [
          "2018-01-01",
          "2018-02-01",
          "2018-03-01",
          "2018-04-01",
          "2018-05-01",
          "2018-06-01",
          "2018-07-01",
          "2018-08-01",
          "2018-09-01",
          "2018-10-01",
          "2018-11-01",
          "2018-12-01",
          "2019-01-01",
          "2019-02-01",
          "2019-03-01",
          "2019-04-01",
          "2019-05-01",
          "2019-06-01",
          "2019-07-01",
          "2019-08-01",
          "2019-09-01",
          "2019-10-01",
          "2019-11-01",
          "2019-12-01",
          "2020-01-01",
          "2020-02-01",
          "2020-03-01",
          "2020-04-01",
          "2020-05-01",
          "2020-06-01",
          "2020-07-01",
          "2020-08-01",
          "2020-09-01",
          "2020-10-01",
          "2020-11-01",
          "2020-12-01",
          "2021-01-01",
          "2021-02-01",
          "2021-03-01",
          "2021-04-01",
          "2021-05-01",
          "2021-06-01",
          "2021-07-01",
          "2021-08-01",
          "2021-09-01",
          "2021-10-01",
          "2021-11-01",
          "2021-12-01",
          "2022-01-01",
          "2022-02-01",
          "2022-03-01",
          "2022-04-01",
          "2022-05-01",
          "2022-06-01",
          "2022-07-01",
          "2022-08-01",
          "2022-09-01",
          "2022-10-01",
          "2022-11-01",
          "2022-12-01",
          "2023-01-01",
          "2023-02-01",
          "2023-03-01",
          "2023-04-01",
          "2023-05-01",
          "2023-06-01",
          "2023-07-01",
          "2023-08-01",
          "2023-09-01",
          "2023-10-01",
          "2023-11-01",
          "2023-12-01",
          "2024-01-01",
          "2024-02-01",
          "2024-03-01",
          "2024-04-01",
          "2024-05-01",
          "2024-06-01",
          "2024-07-01",
          "2024-08-01",
          "2024-09-01",
          "2024-10-01",
          "2024-11-01",
          "2024-12-01"
         ],
         "xaxis": "x",
         "y": {
          "bdata": "qAR5SpCHakBc2eeQmqBoQAAAAAAAbWpAi+ksprN4akBdOzDXDqxqQAAAAAAAwmtA27Zt27Zta0BVVVVVVWlrQC7Ygi3YgmlAY4wxxhhza0AOa9+w9k1pQFVVVVVVkWlAjDHGGGNca0BkK4KGk/ppQERqgvFW9mhAjuM4juOIa0AAAAAAAOVpQNFFF1100WhAE4y3ss9BakDVfXlsRTBqQJNNNtlkM2pAeQ3lNZT3aUCZzmI6i0lqQGgvob2ERmpA5DiO4ziOaUDMYyuChvNoQFNKKaWUcmlAg5hcQUxOa0CSJEmSJNlrQFPWlDVlbWxAypqypqwpa0CChpO6L49sQIL7CO4jGGtA33vvvfdea0CxEzuxE0NqQNFeQnsJ3WpAzczMzMxUaUCamZmZmTVrQN7d3d3dVWlA+OCDDz6IaUC21lprrTVrQFwyBOtoU2pAiYiIiIhoaUCKfNYNpohpQBd+NSbSo2hAFEVRFEXxaEDtG9a+YY1pQM9iOovpjGlAh/IaymvIaEBaWlpaWrpnQFyPwvUoPGlAyz6H1ARjaEBDFrKQhfxoQOzr6+vrq2lAL6fg5RS8aUAAAAAAAABqQKuqqqqqaGlAVVVVVVWHa0DpoosuuqBpQKG9hPYSWmpAt23btm0XakCejfrORl1nQBzHcRzHMWpAx/rQWB8aakBqhOWeRuhpQJ9GWO5pxGpAo4suuuiiakDjkiFYR5tqQEN5DeU1dGtAAAAAAACAa0CJiIiIiMBpQAAAAAAAmGpAeHh4eHhgakBaWlpaWpJqQMZvl3oyfmlAeHh4eHhoakDBD/zAD9xoQLlkCNbRZmpAbtu2bdvyaUAiIiIiIsJpQAiCIAiCwGlAERERERGRa0CkQRqkQVppQM3MzMzMFGlA",
          "dtype": "f8"
         },
         "yaxis": "y"
        },
        {
         "hovertemplate": "Port=Port of Oakland, CA<br>=%{x}<br>Mean Vessel Length (m)=%{y}<extra></extra>",
         "legendgroup": "Port of Oakland, CA",
         "line": {
          "color": "lightgray",
          "dash": "solid"
         },
         "marker": {
          "symbol": "circle"
         },
         "mode": "lines",
         "name": "Port of Oakland, CA",
         "orientation": "v",
         "showlegend": true,
         "type": "scatter",
         "x": [
          "2018-01-01",
          "2018-02-01",
          "2018-03-01",
          "2018-04-01",
          "2018-05-01",
          "2018-06-01",
          "2018-07-01",
          "2018-08-01",
          "2018-09-01",
          "2018-10-01",
          "2018-11-01",
          "2018-12-01",
          "2019-01-01",
          "2019-02-01",
          "2019-03-01",
          "2019-04-01",
          "2019-05-01",
          "2019-06-01",
          "2019-07-01",
          "2019-08-01",
          "2019-09-01",
          "2019-10-01",
          "2019-11-01",
          "2019-12-01",
          "2020-01-01",
          "2020-02-01",
          "2020-03-01",
          "2020-04-01",
          "2020-05-01",
          "2020-06-01",
          "2020-07-01",
          "2020-08-01",
          "2020-09-01",
          "2020-10-01",
          "2020-11-01",
          "2020-12-01",
          "2021-01-01",
          "2021-02-01",
          "2021-03-01",
          "2021-04-01",
          "2021-05-01",
          "2021-06-01",
          "2021-07-01",
          "2021-08-01",
          "2021-09-01",
          "2021-10-01",
          "2021-11-01",
          "2021-12-01",
          "2022-01-01",
          "2022-02-01",
          "2022-03-01",
          "2022-04-01",
          "2022-05-01",
          "2022-06-01",
          "2022-07-01",
          "2022-08-01",
          "2022-09-01",
          "2022-10-01",
          "2022-11-01",
          "2022-12-01",
          "2023-01-01",
          "2023-02-01",
          "2023-03-01",
          "2023-04-01",
          "2023-05-01",
          "2023-06-01",
          "2023-07-01",
          "2023-08-01",
          "2023-09-01",
          "2023-10-01",
          "2023-11-01",
          "2023-12-01",
          "2024-01-01",
          "2024-02-01",
          "2024-03-01",
          "2024-04-01",
          "2024-05-01",
          "2024-06-01",
          "2024-07-01",
          "2024-08-01",
          "2024-09-01",
          "2024-10-01",
          "2024-11-01",
          "2024-12-01"
         ],
         "xaxis": "x",
         "y": {
          "bdata": "RERERET8cUBERERERKRxQJ91gynyKXJAPc/zPM8bckDIpHiBTCpyQOh5nud5FnJAlqhdidoFckDFQAlvNPVxQNIgDdIgVXJAQ3kN5TXwcUC4Sz0Zvz1yQCebbLLJznJAtMLmQKKFckDW0eZ9igtyQFRcMgTriHJAAAAAAABfckDe3d3d3VlyQBERERER4XJAx3Ecx3FMckCamZmZmYFyQJqZmZmZcXJAfjUm0gOFckCfRljuaWRyQD3P8zzPg3JAAAAAAIBnckB605ve9FZyQC+hvYT2gnJAntiJndh1ckC4ss8hNRFyQCp4OQUvd3JAAAAAAAA8ckBK3ZfHVpRyQL2G8hrKm3JASimllFJqckB5K/scUtNxQGzBFmzBVnJADqbIZ90wc0DT0tLS0ipyQJIkSZIkSXJAUrgehetxckA4velNb3JyQG7btm3bNnJASZIkSZLUckAzMzMzM+VxQJqZmZmZyXJAmpmZmZkxcUDLt3zLt4xxQHwaYbmnoXFAlNdQXkOJcEBbsAVbsHVxQNdaa621nnFAVVVVVVXlcEBkIQtZyNpwQPy+7/u+j3FAtStRuxK1cEA+BudjcM5xQAAAAAAASHJAZU1ZU9Y0ckA4H4PzMThyQGZmZmZm4nFAAAAAAACQcUDNzMzMzCpyQIYsZCELkXJAL6fg5RQsckDZiZ3YiZlxQDDeyj6H1HJArdRKrdQ6ckCjiy666DJyQFpMZzGddXJAZQjW0eYtckAAAAAAAPBxQFjuaYTlfnJACNbR5n36cUAs9zTCco9yQHTOOeecO3JAmc5iOotJckDbtm3btjlyQEqQpwR5anJA9vX19fUlckCF9hLaS8hxQPyMEj+jJHJAfMVXfMVfckC8u7u7u5NyQAAAAADAj3JA",
          "dtype": "f8"
         },
         "yaxis": "y"
        },
        {
         "hovertemplate": "Port=Virginia, VA, Port of<br>=%{x}<br>Mean Vessel Length (m)=%{y}<extra></extra>",
         "legendgroup": "Virginia, VA, Port of",
         "line": {
          "color": "lightgray",
          "dash": "solid"
         },
         "marker": {
          "symbol": "circle"
         },
         "mode": "lines",
         "name": "Virginia, VA, Port of",
         "orientation": "v",
         "showlegend": true,
         "type": "scatter",
         "x": [
          "2018-01-01",
          "2018-02-01",
          "2018-03-01",
          "2018-04-01",
          "2018-05-01",
          "2018-06-01",
          "2018-07-01",
          "2018-08-01",
          "2018-09-01",
          "2018-10-01",
          "2018-11-01",
          "2018-12-01",
          "2019-01-01",
          "2019-02-01",
          "2019-03-01",
          "2019-04-01",
          "2019-05-01",
          "2019-06-01",
          "2019-07-01",
          "2019-08-01",
          "2019-09-01",
          "2019-10-01",
          "2019-11-01",
          "2019-12-01",
          "2020-01-01",
          "2020-02-01",
          "2020-03-01",
          "2020-04-01",
          "2020-05-01",
          "2020-06-01",
          "2020-07-01",
          "2020-08-01",
          "2020-09-01",
          "2020-10-01",
          "2020-11-01",
          "2020-12-01",
          "2021-01-01",
          "2021-02-01",
          "2021-03-01",
          "2021-04-01",
          "2021-05-01",
          "2021-06-01",
          "2021-07-01",
          "2021-08-01",
          "2021-09-01",
          "2021-10-01",
          "2021-11-01",
          "2021-12-01",
          "2022-01-01",
          "2022-02-01",
          "2022-03-01",
          "2022-04-01",
          "2022-05-01",
          "2022-06-01",
          "2022-07-01",
          "2022-08-01",
          "2022-09-01",
          "2022-10-01",
          "2022-11-01",
          "2022-12-01",
          "2023-01-01",
          "2023-02-01",
          "2023-03-01",
          "2023-04-01",
          "2023-05-01",
          "2023-06-01",
          "2023-07-01",
          "2023-08-01",
          "2023-09-01",
          "2023-10-01",
          "2023-11-01",
          "2023-12-01",
          "2024-01-01",
          "2024-02-01",
          "2024-03-01",
          "2024-04-01",
          "2024-05-01",
          "2024-06-01",
          "2024-07-01",
          "2024-08-01",
          "2024-09-01",
          "2024-10-01",
          "2024-11-01",
          "2024-12-01"
         ],
         "xaxis": "x",
         "y": {
          "bdata": "8RVf8RWfcUAAAAAAgOBxQKTN+xSXDHFAq6qqqqrucEDDr8ZEesBwQAAAAAAACHFAvLu7u7ufcEANwTravG9xQBPaS2gvIXFAEREREREJcUA655xzzvlwQAntJbSXcHBA2zesfcP6b0AQkyuIyXVwQJGaYLyVbXBAz/M8z/MkcUAtLS0tLS1xQKG9hPYS8nBAkiRJkiStcEBVVVVVVV9wQPQxOB+D03BAxMPDw8P7cEAWX/EVX6FwQOsGU+SzLnBAkiRJkiQpcUAAAAAAAIFxQIMp8lk3KHFAD+qgDurwcEA7sRM7sZNxQGIndmInNnNAAAAAAAA4cUBMaC+hvZRyQAAAAAAADHJA7FG4HoXbc0AAAAAAAChzQLETO7ETE3NASZIkSZIkckBGF1100V1zQOxRuB6F63JAHh4eHh42dEDf8i3f8l1zQJeWlpaWbnRAAAAAAAAdc0B5DeU1lAdzQCVJkiRJFnVA1EEd1EGtckC9hvIaysNyQDLGGGOMkXNAAAAAAAD0ckDi4eHh4YFyQAAAAACACHNAWO5phOVuc0AY9AV9Qd9yQM4555xzTnRAOY7jOI6Lc0AzMzMzM0VzQJ7neZ7nYXJAeQ3lNZSPc0B3d3d3d/dzQOgL+oK+YHRAH4PzMTjvc0D0BX1BX4BzQIYsZCELCXNAL7rooouudEA/NNaHxmpzQBdddNFFT3NAntiJndgxdEAlSZIkSapzQD7rBlPkk3NA6Hme53k+dECJ2pWoXYlzQEU+6wZThHNAuuiiiy6+c0DE5ApicoVzQIOCgoKConJAnYKXU/BCc0A3Nzc3N6dzQMZb2eeQ2nJAntiJndjxckAAAAAAAEBzQG9ln0Nq8nJA6Hme53muc0Cx3NMIy+VyQAZbsAVbsHJA",
          "dtype": "f8"
         },
         "yaxis": "y"
        },
        {
         "hovertemplate": "Port=Port Everglades, FL<br>=%{x}<br>Mean Vessel Length (m)=%{y}<extra></extra>",
         "legendgroup": "Port Everglades, FL",
         "line": {
          "color": "lightgray",
          "dash": "solid"
         },
         "marker": {
          "symbol": "circle"
         },
         "mode": "lines",
         "name": "Port Everglades, FL",
         "orientation": "v",
         "showlegend": true,
         "type": "scatter",
         "x": [
          "2018-01-01",
          "2018-02-01",
          "2018-03-01",
          "2018-04-01",
          "2018-05-01",
          "2018-06-01",
          "2018-07-01",
          "2018-08-01",
          "2018-09-01",
          "2018-10-01",
          "2018-11-01",
          "2018-12-01",
          "2019-01-01",
          "2019-02-01",
          "2019-03-01",
          "2019-04-01",
          "2019-05-01",
          "2019-06-01",
          "2019-07-01",
          "2019-08-01",
          "2019-09-01",
          "2019-10-01",
          "2019-11-01",
          "2019-12-01",
          "2020-01-01",
          "2020-02-01",
          "2020-03-01",
          "2020-04-01",
          "2020-05-01",
          "2020-06-01",
          "2020-07-01",
          "2020-08-01",
          "2020-09-01",
          "2020-10-01",
          "2020-11-01",
          "2020-12-01",
          "2021-01-01",
          "2021-02-01",
          "2021-03-01",
          "2021-04-01",
          "2021-05-01",
          "2021-06-01",
          "2021-07-01",
          "2021-08-01",
          "2021-09-01",
          "2021-10-01",
          "2021-11-01",
          "2021-12-01",
          "2022-01-01",
          "2022-02-01",
          "2022-03-01",
          "2022-04-01",
          "2022-05-01",
          "2022-06-01",
          "2022-07-01",
          "2022-08-01",
          "2022-09-01",
          "2022-10-01",
          "2022-11-01",
          "2022-12-01",
          "2023-01-01",
          "2023-02-01",
          "2023-03-01",
          "2023-04-01",
          "2023-05-01",
          "2023-06-01",
          "2023-07-01",
          "2023-08-01",
          "2023-09-01",
          "2023-10-01",
          "2023-11-01",
          "2023-12-01",
          "2024-01-01",
          "2024-02-01",
          "2024-03-01",
          "2024-04-01",
          "2024-05-01",
          "2024-06-01",
          "2024-07-01",
          "2024-08-01",
          "2024-09-01",
          "2024-10-01",
          "2024-11-01",
          "2024-12-01"
         ],
         "xaxis": "x",
         "y": {
          "bdata": "aUvakrYkZkDIG/KGvKFlQJU8y4g+AGZAj8L1KFxPZkDJjdzIjSxmQB69Mrbf0WVARERERERkZUAXT27x5NZlQGcxncV01mVADDIuyLjgZUCOZVAqTBxmQHzvvffem2VAaMKfCX9GZUDmVmekYm5lQLW0tLS0VGVAFDuxEzsRZUALFSpUqIBlQG2yySabLGVAkhu5kRtJZkCl8mHcr0tmQFTjpZvEQGZAi6/4iq/wZUC5kRu5kTtmQAAAAACAuGVA3ciN3MgdZkBt5/up8fJlQGIndmIn9mVAg5dT8HKKZkBzc3Nzc5NlQPhGFJh0ymVASpCnBHk6ZkAr+xxSEyxmQJybm5ubC2ZA9vX19fUVZkADX1z9oONlQOxRuB6FS2VARkZGRkYmZkDV77klTt1lQK5H4XoU3mVAGo1Go9FoZkDCBx988PllQKalpaWlYWZAGPOpF/OpZkAAAAAAADRmQAAAAADAgGZAVVVVVVW5ZkBKhYn3I4dmQCmKoiiKkmZAMgTraPPeZkCU11BeQ5llQBqs0BmsUGZA30+Nl24yZkCRSCQSicRmQJu1WZu12WZAqF7Mp16sZkBo8mWDJp9mQClcj8L16GZAx3Ecx3G8ZkCx0lMLKx1mQIpLhmAdrWZAPRm/Xer5ZUBPp9PpdDpmQOvYWxum2WVAJ3ZiJ3aSZkAlzzKiD4hmQLh8y7d8S2ZAKkGeEuTpZkBr8ByBok1nQHIcx3Ec52ZAtlmbtVl7ZkCmpaWlpUVmQBAIBAKBoGZAHh4eHh7CZkARQgghhMhmQKkr6oq6gmVAjuM4juMYZkD4fd/3fV9lQI7jOI7j6GVA10Qg10RgZUCjONcxilNlQAnkmgjkemVAaAqBphAoZUCH+OPW5V1mQCRaYXMggWVA",
          "dtype": "f8"
         },
         "yaxis": "y"
        },
        {
         "hovertemplate": "Port=San Juan, PR<br>=%{x}<br>Mean Vessel Length (m)=%{y}<extra></extra>",
         "legendgroup": "San Juan, PR",
         "line": {
          "color": "lightgray",
          "dash": "solid"
         },
         "marker": {
          "symbol": "circle"
         },
         "mode": "lines",
         "name": "San Juan, PR",
         "orientation": "v",
         "showlegend": true,
         "type": "scatter",
         "x": [
          "2018-01-01",
          "2018-02-01",
          "2018-03-01",
          "2018-04-01",
          "2018-05-01",
          "2018-06-01",
          "2018-07-01",
          "2018-08-01",
          "2018-09-01",
          "2018-10-01",
          "2018-11-01",
          "2018-12-01",
          "2019-01-01",
          "2019-02-01",
          "2019-03-01",
          "2019-04-01",
          "2019-05-01",
          "2019-06-01",
          "2019-07-01",
          "2019-08-01",
          "2019-09-01",
          "2019-10-01",
          "2019-11-01",
          "2019-12-01",
          "2020-01-01",
          "2020-02-01",
          "2020-03-01",
          "2020-04-01",
          "2020-05-01",
          "2020-06-01",
          "2020-07-01",
          "2020-08-01",
          "2020-09-01",
          "2020-10-01",
          "2020-11-01",
          "2020-12-01",
          "2021-01-01",
          "2021-02-01",
          "2021-03-01",
          "2021-04-01",
          "2021-05-01",
          "2021-06-01",
          "2021-07-01",
          "2021-08-01",
          "2021-09-01",
          "2021-10-01",
          "2021-11-01",
          "2021-12-01",
          "2022-01-01",
          "2022-02-01",
          "2022-03-01",
          "2022-04-01",
          "2022-05-01",
          "2022-06-01",
          "2022-07-01",
          "2022-08-01",
          "2022-09-01",
          "2022-10-01",
          "2022-11-01",
          "2022-12-01",
          "2023-01-01",
          "2023-02-01",
          "2023-03-01",
          "2023-04-01",
          "2023-05-01",
          "2023-06-01",
          "2023-07-01",
          "2023-08-01",
          "2023-09-01",
          "2023-10-01",
          "2023-11-01",
          "2023-12-01",
          "2024-01-01",
          "2024-02-01",
          "2024-03-01",
          "2024-04-01",
          "2024-05-01",
          "2024-06-01",
          "2024-07-01",
          "2024-08-01",
          "2024-09-01",
          "2024-10-01",
          "2024-11-01",
          "2024-12-01"
         ],
         "xaxis": "x",
         "y": {
          "bdata": "TGcxncV0ZUCe2Imd2ElkQKOLLrro0mRAVVVVVVUVZEAAAAAAAHBkQJqZmZmZ2WNAE+Z3tbgJZEDHcRzHccBjQIwuuuiiy2NAVVVVVVU1ZEBw+ZZv+YZjQPjggw8+SGNAFOKs/IR4Y0CJiIiIiKhjQD3P8zzPk2NAXkN5DeV1Y0BMkc+6wfRjQAubA4lWmGNAx3Ecx3GYY0BtsskmmyxkQB1t3qe4RGVAexSuR+E6ZUBGF1100UVlQPy+7/u+j2VAQRAEQRCEZUBvZZ9DaiJlQKic3cKvpmVA5p5GWO4pZkAAAAAAAA5mQPahsT40FmZAewntJbTnZUBGF1100WVmQAAAAACAJGZAdM4555xTZkDbtm3btn1nQHsJ7SW0p2ZAo4suuujCZkBVVVVVVQNnQCS4j+A+YmZALt/yLd9yZUDCG02dX/tlQD4G52NwDmVAYid2Yif2ZUCvobyG8rplQH3WDabIN2VA9Z2N+s6GZUDNzMzMzLhlQHTnzp07V2VAx3Ecx3EAZUDQKPEzShxlQNzb29vbG2VAE7UrUbuyZUDBwMDAwMBlQG7btm3bNmVAadKkSZNmZUAsUbsStWtlQAdT5LNugGVA8fDw8PDwZEA5juM4jmNlQBvKayivQWVAqBGWexqhZED5CXFWfqJlQPSbrUO/eWVA5DiO4ziuZUAyxhhjjNFlQG644YYbjmVAvelNb3rjZUBqU5va1EZmQH1BX9AXJGZAkYUsZCGzZUApA0+35gdmQNpApw10emZAdug3W4eeZUBhC7ZgC5ZlQOZ3tbgJE2ZAWlpaWlqaZUDn1x5yWfFlQFVVVVVV7WVAaDzjGc94ZUARilCEIhRmQDEMwzAMO2VA52qu5mquZUCjqfNrD/llQEXQcFL3xWVA",
          "dtype": "f8"
         },
         "yaxis": "y"
        }
       ],
       "layout": {
        "legend": {
         "title": {
          "text": "Port"
         },
         "tracegroupgap": 0
        },
        "template": {
         "data": {
          "bar": [
           {
            "error_x": {
             "color": "#2a3f5f"
            },
            "error_y": {
             "color": "#2a3f5f"
            },
            "marker": {
             "line": {
              "color": "#E5ECF6",
              "width": 0.5
             },
             "pattern": {
              "fillmode": "overlay",
              "size": 10,
              "solidity": 0.2
             }
            },
            "type": "bar"
           }
          ],
          "barpolar": [
           {
            "marker": {
             "line": {
              "color": "#E5ECF6",
              "width": 0.5
             },
             "pattern": {
              "fillmode": "overlay",
              "size": 10,
              "solidity": 0.2
             }
            },
            "type": "barpolar"
           }
          ],
          "carpet": [
           {
            "aaxis": {
             "endlinecolor": "#2a3f5f",
             "gridcolor": "white",
             "linecolor": "white",
             "minorgridcolor": "white",
             "startlinecolor": "#2a3f5f"
            },
            "baxis": {
             "endlinecolor": "#2a3f5f",
             "gridcolor": "white",
             "linecolor": "white",
             "minorgridcolor": "white",
             "startlinecolor": "#2a3f5f"
            },
            "type": "carpet"
           }
          ],
          "choropleth": [
           {
            "colorbar": {
             "outlinewidth": 0,
             "ticks": ""
            },
            "type": "choropleth"
           }
          ],
          "contour": [
           {
            "colorbar": {
             "outlinewidth": 0,
             "ticks": ""
            },
            "colorscale": [
             [
              0,
              "#0d0887"
             ],
             [
              0.1111111111111111,
              "#46039f"
             ],
             [
              0.2222222222222222,
              "#7201a8"
             ],
             [
              0.3333333333333333,
              "#9c179e"
             ],
             [
              0.4444444444444444,
              "#bd3786"
             ],
             [
              0.5555555555555556,
              "#d8576b"
             ],
             [
              0.6666666666666666,
              "#ed7953"
             ],
             [
              0.7777777777777778,
              "#fb9f3a"
             ],
             [
              0.8888888888888888,
              "#fdca26"
             ],
             [
              1,
              "#f0f921"
             ]
            ],
            "type": "contour"
           }
          ],
          "contourcarpet": [
           {
            "colorbar": {
             "outlinewidth": 0,
             "ticks": ""
            },
            "type": "contourcarpet"
           }
          ],
          "heatmap": [
           {
            "colorbar": {
             "outlinewidth": 0,
             "ticks": ""
            },
            "colorscale": [
             [
              0,
              "#0d0887"
             ],
             [
              0.1111111111111111,
              "#46039f"
             ],
             [
              0.2222222222222222,
              "#7201a8"
             ],
             [
              0.3333333333333333,
              "#9c179e"
             ],
             [
              0.4444444444444444,
              "#bd3786"
             ],
             [
              0.5555555555555556,
              "#d8576b"
             ],
             [
              0.6666666666666666,
              "#ed7953"
             ],
             [
              0.7777777777777778,
              "#fb9f3a"
             ],
             [
              0.8888888888888888,
              "#fdca26"
             ],
             [
              1,
              "#f0f921"
             ]
            ],
            "type": "heatmap"
           }
          ],
          "histogram": [
           {
            "marker": {
             "pattern": {
              "fillmode": "overlay",
              "size": 10,
              "solidity": 0.2
             }
            },
            "type": "histogram"
           }
          ],
          "histogram2d": [
           {
            "colorbar": {
             "outlinewidth": 0,
             "ticks": ""
            },
            "colorscale": [
             [
              0,
              "#0d0887"
             ],
             [
              0.1111111111111111,
              "#46039f"
             ],
             [
              0.2222222222222222,
              "#7201a8"
             ],
             [
              0.3333333333333333,
              "#9c179e"
             ],
             [
              0.4444444444444444,
              "#bd3786"
             ],
             [
              0.5555555555555556,
              "#d8576b"
             ],
             [
              0.6666666666666666,
              "#ed7953"
             ],
             [
              0.7777777777777778,
              "#fb9f3a"
             ],
             [
              0.8888888888888888,
              "#fdca26"
             ],
             [
              1,
              "#f0f921"
             ]
            ],
            "type": "histogram2d"
           }
          ],
          "histogram2dcontour": [
           {
            "colorbar": {
             "outlinewidth": 0,
             "ticks": ""
            },
            "colorscale": [
             [
              0,
              "#0d0887"
             ],
             [
              0.1111111111111111,
              "#46039f"
             ],
             [
              0.2222222222222222,
              "#7201a8"
             ],
             [
              0.3333333333333333,
              "#9c179e"
             ],
             [
              0.4444444444444444,
              "#bd3786"
             ],
             [
              0.5555555555555556,
              "#d8576b"
             ],
             [
              0.6666666666666666,
              "#ed7953"
             ],
             [
              0.7777777777777778,
              "#fb9f3a"
             ],
             [
              0.8888888888888888,
              "#fdca26"
             ],
             [
              1,
              "#f0f921"
             ]
            ],
            "type": "histogram2dcontour"
           }
          ],
          "mesh3d": [
           {
            "colorbar": {
             "outlinewidth": 0,
             "ticks": ""
            },
            "type": "mesh3d"
           }
          ],
          "parcoords": [
           {
            "line": {
             "colorbar": {
              "outlinewidth": 0,
              "ticks": ""
             }
            },
            "type": "parcoords"
           }
          ],
          "pie": [
           {
            "automargin": true,
            "type": "pie"
           }
          ],
          "scatter": [
           {
            "fillpattern": {
             "fillmode": "overlay",
             "size": 10,
             "solidity": 0.2
            },
            "type": "scatter"
           }
          ],
          "scatter3d": [
           {
            "line": {
             "colorbar": {
              "outlinewidth": 0,
              "ticks": ""
             }
            },
            "marker": {
             "colorbar": {
              "outlinewidth": 0,
              "ticks": ""
             }
            },
            "type": "scatter3d"
           }
          ],
          "scattercarpet": [
           {
            "marker": {
             "colorbar": {
              "outlinewidth": 0,
              "ticks": ""
             }
            },
            "type": "scattercarpet"
           }
          ],
          "scattergeo": [
           {
            "marker": {
             "colorbar": {
              "outlinewidth": 0,
              "ticks": ""
             }
            },
            "type": "scattergeo"
           }
          ],
          "scattergl": [
           {
            "marker": {
             "colorbar": {
              "outlinewidth": 0,
              "ticks": ""
             }
            },
            "type": "scattergl"
           }
          ],
          "scattermap": [
           {
            "marker": {
             "colorbar": {
              "outlinewidth": 0,
              "ticks": ""
             }
            },
            "type": "scattermap"
           }
          ],
          "scattermapbox": [
           {
            "marker": {
             "colorbar": {
              "outlinewidth": 0,
              "ticks": ""
             }
            },
            "type": "scattermapbox"
           }
          ],
          "scatterpolar": [
           {
            "marker": {
             "colorbar": {
              "outlinewidth": 0,
              "ticks": ""
             }
            },
            "type": "scatterpolar"
           }
          ],
          "scatterpolargl": [
           {
            "marker": {
             "colorbar": {
              "outlinewidth": 0,
              "ticks": ""
             }
            },
            "type": "scatterpolargl"
           }
          ],
          "scatterternary": [
           {
            "marker": {
             "colorbar": {
              "outlinewidth": 0,
              "ticks": ""
             }
            },
            "type": "scatterternary"
           }
          ],
          "surface": [
           {
            "colorbar": {
             "outlinewidth": 0,
             "ticks": ""
            },
            "colorscale": [
             [
              0,
              "#0d0887"
             ],
             [
              0.1111111111111111,
              "#46039f"
             ],
             [
              0.2222222222222222,
              "#7201a8"
             ],
             [
              0.3333333333333333,
              "#9c179e"
             ],
             [
              0.4444444444444444,
              "#bd3786"
             ],
             [
              0.5555555555555556,
              "#d8576b"
             ],
             [
              0.6666666666666666,
              "#ed7953"
             ],
             [
              0.7777777777777778,
              "#fb9f3a"
             ],
             [
              0.8888888888888888,
              "#fdca26"
             ],
             [
              1,
              "#f0f921"
             ]
            ],
            "type": "surface"
           }
          ],
          "table": [
           {
            "cells": {
             "fill": {
              "color": "#EBF0F8"
             },
             "line": {
              "color": "white"
             }
            },
            "header": {
             "fill": {
              "color": "#C8D4E3"
             },
             "line": {
              "color": "white"
             }
            },
            "type": "table"
           }
          ]
         },
         "layout": {
          "annotationdefaults": {
           "arrowcolor": "#2a3f5f",
           "arrowhead": 0,
           "arrowwidth": 1
          },
          "autotypenumbers": "strict",
          "coloraxis": {
           "colorbar": {
            "outlinewidth": 0,
            "ticks": ""
           }
          },
          "colorscale": {
           "diverging": [
            [
             0,
             "#8e0152"
            ],
            [
             0.1,
             "#c51b7d"
            ],
            [
             0.2,
             "#de77ae"
            ],
            [
             0.3,
             "#f1b6da"
            ],
            [
             0.4,
             "#fde0ef"
            ],
            [
             0.5,
             "#f7f7f7"
            ],
            [
             0.6,
             "#e6f5d0"
            ],
            [
             0.7,
             "#b8e186"
            ],
            [
             0.8,
             "#7fbc41"
            ],
            [
             0.9,
             "#4d9221"
            ],
            [
             1,
             "#276419"
            ]
           ],
           "sequential": [
            [
             0,
             "#0d0887"
            ],
            [
             0.1111111111111111,
             "#46039f"
            ],
            [
             0.2222222222222222,
             "#7201a8"
            ],
            [
             0.3333333333333333,
             "#9c179e"
            ],
            [
             0.4444444444444444,
             "#bd3786"
            ],
            [
             0.5555555555555556,
             "#d8576b"
            ],
            [
             0.6666666666666666,
             "#ed7953"
            ],
            [
             0.7777777777777778,
             "#fb9f3a"
            ],
            [
             0.8888888888888888,
             "#fdca26"
            ],
            [
             1,
             "#f0f921"
            ]
           ],
           "sequentialminus": [
            [
             0,
             "#0d0887"
            ],
            [
             0.1111111111111111,
             "#46039f"
            ],
            [
             0.2222222222222222,
             "#7201a8"
            ],
            [
             0.3333333333333333,
             "#9c179e"
            ],
            [
             0.4444444444444444,
             "#bd3786"
            ],
            [
             0.5555555555555556,
             "#d8576b"
            ],
            [
             0.6666666666666666,
             "#ed7953"
            ],
            [
             0.7777777777777778,
             "#fb9f3a"
            ],
            [
             0.8888888888888888,
             "#fdca26"
            ],
            [
             1,
             "#f0f921"
            ]
           ]
          },
          "colorway": [
           "#636efa",
           "#EF553B",
           "#00cc96",
           "#ab63fa",
           "#FFA15A",
           "#19d3f3",
           "#FF6692",
           "#B6E880",
           "#FF97FF",
           "#FECB52"
          ],
          "font": {
           "color": "#2a3f5f"
          },
          "geo": {
           "bgcolor": "white",
           "lakecolor": "white",
           "landcolor": "#E5ECF6",
           "showlakes": true,
           "showland": true,
           "subunitcolor": "white"
          },
          "hoverlabel": {
           "align": "left"
          },
          "hovermode": "closest",
          "mapbox": {
           "style": "light"
          },
          "paper_bgcolor": "white",
          "plot_bgcolor": "#E5ECF6",
          "polar": {
           "angularaxis": {
            "gridcolor": "white",
            "linecolor": "white",
            "ticks": ""
           },
           "bgcolor": "#E5ECF6",
           "radialaxis": {
            "gridcolor": "white",
            "linecolor": "white",
            "ticks": ""
           }
          },
          "scene": {
           "xaxis": {
            "backgroundcolor": "#E5ECF6",
            "gridcolor": "white",
            "gridwidth": 2,
            "linecolor": "white",
            "showbackground": true,
            "ticks": "",
            "zerolinecolor": "white"
           },
           "yaxis": {
            "backgroundcolor": "#E5ECF6",
            "gridcolor": "white",
            "gridwidth": 2,
            "linecolor": "white",
            "showbackground": true,
            "ticks": "",
            "zerolinecolor": "white"
           },
           "zaxis": {
            "backgroundcolor": "#E5ECF6",
            "gridcolor": "white",
            "gridwidth": 2,
            "linecolor": "white",
            "showbackground": true,
            "ticks": "",
            "zerolinecolor": "white"
           }
          },
          "shapedefaults": {
           "line": {
            "color": "#2a3f5f"
           }
          },
          "ternary": {
           "aaxis": {
            "gridcolor": "white",
            "linecolor": "white",
            "ticks": ""
           },
           "baxis": {
            "gridcolor": "white",
            "linecolor": "white",
            "ticks": ""
           },
           "bgcolor": "#E5ECF6",
           "caxis": {
            "gridcolor": "white",
            "linecolor": "white",
            "ticks": ""
           }
          },
          "title": {
           "x": 0.05
          },
          "xaxis": {
           "automargin": true,
           "gridcolor": "white",
           "linecolor": "white",
           "ticks": "",
           "title": {
            "standoff": 15
           },
           "zerolinecolor": "white",
           "zerolinewidth": 2
          },
          "yaxis": {
           "automargin": true,
           "gridcolor": "white",
           "linecolor": "white",
           "ticks": "",
           "title": {
            "standoff": 15
           },
           "zerolinecolor": "white",
           "zerolinewidth": 2
          }
         }
        },
        "title": {
         "text": "Vessel Size at Top Ports"
        },
        "xaxis": {
         "anchor": "y",
         "domain": [
          0,
          1
         ],
         "title": {
          "text": ""
         }
        },
        "yaxis": {
         "anchor": "x",
         "domain": [
          0,
          1
         ],
         "title": {
          "text": "Mean Vessel Length (m)"
         }
        }
       }
      }
     },
     "metadata": {},
     "output_type": "display_data"
    }
   ],
   "source": [
    "plot_line(\n",
    "        df=calls_df, cat_group='port_group', time_col='month',\n",
    "        y_col='vessel_size', y_col_alias='Mean Vessel Length (m)',\n",
    "        title='Vessel Size at Top Ports', width=None, height=None,\n",
    "        labels={'port_group':'Port', 'month':''},\n",
    "        cat_limit=10, cat_limit_col='vessel_size',\n",
    "        highlight='NW Seaport Alliance', highlight_color='blue'\n",
    "    )"
   ]
  },
  {
   "cell_type": "code",
   "execution_count": 97,
   "id": "64598f72",
   "metadata": {},
   "outputs": [
    {
     "data": {
      "application/vnd.plotly.v1+json": {
       "config": {
        "plotlyServerURL": "https://plot.ly"
       },
       "data": [
        {
         "hovertemplate": "Port=Virginia, VA, Port of<br>=%{x}<br>Mean Vessel Length (m)=%{y}<extra></extra>",
         "legendgroup": "Virginia, VA, Port of",
         "line": {
          "color": "#636efa",
          "dash": "solid"
         },
         "marker": {
          "symbol": "circle"
         },
         "mode": "lines",
         "name": "Virginia, VA, Port of",
         "orientation": "v",
         "showlegend": true,
         "type": "scatter",
         "x": [
          "2018-01-01",
          "2018-02-01",
          "2018-03-01",
          "2018-04-01",
          "2018-05-01",
          "2018-06-01",
          "2018-07-01",
          "2018-08-01",
          "2018-09-01",
          "2018-10-01",
          "2018-11-01",
          "2018-12-01",
          "2019-01-01",
          "2019-02-01",
          "2019-03-01",
          "2019-04-01",
          "2019-05-01",
          "2019-06-01",
          "2019-07-01",
          "2019-08-01",
          "2019-09-01",
          "2019-10-01",
          "2019-11-01",
          "2019-12-01",
          "2020-01-01",
          "2020-02-01",
          "2020-03-01",
          "2020-04-01",
          "2020-05-01",
          "2020-06-01",
          "2020-07-01",
          "2020-08-01",
          "2020-09-01",
          "2020-10-01",
          "2020-11-01",
          "2020-12-01",
          "2021-01-01",
          "2021-02-01",
          "2021-03-01",
          "2021-04-01",
          "2021-05-01",
          "2021-06-01",
          "2021-07-01",
          "2021-08-01",
          "2021-09-01",
          "2021-10-01",
          "2021-11-01",
          "2021-12-01",
          "2022-01-01",
          "2022-02-01",
          "2022-03-01",
          "2022-04-01",
          "2022-05-01",
          "2022-06-01",
          "2022-07-01",
          "2022-08-01",
          "2022-09-01",
          "2022-10-01",
          "2022-11-01",
          "2022-12-01",
          "2023-01-01",
          "2023-02-01",
          "2023-03-01",
          "2023-04-01",
          "2023-05-01",
          "2023-06-01",
          "2023-07-01",
          "2023-08-01",
          "2023-09-01",
          "2023-10-01",
          "2023-11-01",
          "2023-12-01",
          "2024-01-01",
          "2024-02-01",
          "2024-03-01",
          "2024-04-01",
          "2024-05-01",
          "2024-06-01",
          "2024-07-01",
          "2024-08-01",
          "2024-09-01",
          "2024-10-01",
          "2024-11-01",
          "2024-12-01"
         ],
         "xaxis": "x",
         "y": {
          "bdata": "8RVf8RWfcUAAAAAAgOBxQKTN+xSXDHFAq6qqqqrucEDDr8ZEesBwQAAAAAAACHFAvLu7u7ufcEANwTravG9xQBPaS2gvIXFAEREREREJcUA655xzzvlwQAntJbSXcHBA2zesfcP6b0AQkyuIyXVwQJGaYLyVbXBAz/M8z/MkcUAtLS0tLS1xQKG9hPYS8nBAkiRJkiStcEBVVVVVVV9wQPQxOB+D03BAxMPDw8P7cEAWX/EVX6FwQOsGU+SzLnBAkiRJkiQpcUAAAAAAAIFxQIMp8lk3KHFAD+qgDurwcEA7sRM7sZNxQGIndmInNnNAAAAAAAA4cUBMaC+hvZRyQAAAAAAADHJA7FG4HoXbc0AAAAAAAChzQLETO7ETE3NASZIkSZIkckBGF1100V1zQOxRuB6F63JAHh4eHh42dEDf8i3f8l1zQJeWlpaWbnRAAAAAAAAdc0B5DeU1lAdzQCVJkiRJFnVA1EEd1EGtckC9hvIaysNyQDLGGGOMkXNAAAAAAAD0ckDi4eHh4YFyQAAAAACACHNAWO5phOVuc0AY9AV9Qd9yQM4555xzTnRAOY7jOI6Lc0AzMzMzM0VzQJ7neZ7nYXJAeQ3lNZSPc0B3d3d3d/dzQOgL+oK+YHRAH4PzMTjvc0D0BX1BX4BzQIYsZCELCXNAL7rooouudEA/NNaHxmpzQBdddNFFT3NAntiJndgxdEAlSZIkSapzQD7rBlPkk3NA6Hme53k+dECJ2pWoXYlzQEU+6wZThHNAuuiiiy6+c0DE5ApicoVzQIOCgoKConJAnYKXU/BCc0A3Nzc3N6dzQMZb2eeQ2nJAntiJndjxckAAAAAAAEBzQG9ln0Nq8nJA6Hme53muc0Cx3NMIy+VyQAZbsAVbsHJA",
          "dtype": "f8"
         },
         "yaxis": "y"
        },
        {
         "hovertemplate": "Port=NW Seaport Alliance<br>=%{x}<br>Mean Vessel Length (m)=%{y}<extra></extra>",
         "legendgroup": "NW Seaport Alliance",
         "line": {
          "color": "#EF553B",
          "dash": "solid"
         },
         "marker": {
          "symbol": "circle"
         },
         "mode": "lines",
         "name": "NW Seaport Alliance",
         "orientation": "v",
         "showlegend": true,
         "type": "scatter",
         "x": [
          "2018-01-01",
          "2018-02-01",
          "2018-03-01",
          "2018-04-01",
          "2018-05-01",
          "2018-06-01",
          "2018-07-01",
          "2018-08-01",
          "2018-09-01",
          "2018-10-01",
          "2018-11-01",
          "2018-12-01",
          "2019-01-01",
          "2019-02-01",
          "2019-03-01",
          "2019-04-01",
          "2019-05-01",
          "2019-06-01",
          "2019-07-01",
          "2019-08-01",
          "2019-09-01",
          "2019-10-01",
          "2019-11-01",
          "2019-12-01",
          "2020-01-01",
          "2020-02-01",
          "2020-03-01",
          "2020-04-01",
          "2020-05-01",
          "2020-06-01",
          "2020-07-01",
          "2020-08-01",
          "2020-09-01",
          "2020-10-01",
          "2020-11-01",
          "2020-12-01",
          "2021-01-01",
          "2021-02-01",
          "2021-03-01",
          "2021-04-01",
          "2021-05-01",
          "2021-06-01",
          "2021-07-01",
          "2021-08-01",
          "2021-09-01",
          "2021-10-01",
          "2021-11-01",
          "2021-12-01",
          "2022-01-01",
          "2022-02-01",
          "2022-03-01",
          "2022-04-01",
          "2022-05-01",
          "2022-06-01",
          "2022-07-01",
          "2022-08-01",
          "2022-09-01",
          "2022-10-01",
          "2022-11-01",
          "2022-12-01",
          "2023-01-01",
          "2023-02-01",
          "2023-03-01",
          "2023-04-01",
          "2023-05-01",
          "2023-06-01",
          "2023-07-01",
          "2023-08-01",
          "2023-09-01",
          "2023-10-01",
          "2023-11-01",
          "2023-12-01",
          "2024-01-01",
          "2024-02-01",
          "2024-03-01",
          "2024-04-01",
          "2024-05-01",
          "2024-06-01",
          "2024-07-01",
          "2024-08-01",
          "2024-09-01",
          "2024-10-01",
          "2024-11-01",
          "2024-12-01"
         ],
         "xaxis": "x",
         "y": {
          "bdata": "AAAAAIC0cEAlSZIkSRxxQC+hvYT24nBAjLeyzyFlcUC2b1j7hpVxQGLtG9a+MXFAHNa+Ye1bcUClT/qkT8pxQGQhC1nIOnFA4yu+4iv+cEBH3BF3xA1xQIqd2Imd1HBAsAVbsAVrcUBcvuVbvpVwQAticgUxaXFA3/SmN70ZcUDRRRdddCFxQMomm2yy2XFAymsor6GEcUDx8PDw8MhxQDMzMzMz23FAVVVVVVUhcUBddNFFFyVxQDVIgzRI83BA7UrUrkR9cUCp72zUd3ZwQAAAAAAACHFAt23btm1LcUBbsAVbsDVxQOQ4juM4ZnFAX9AX9AWtcUCIxvrQWE9xQGZmZmZmdnFAiTvijrhzcUDFV3zFV0xxQF5DeQ3lZXFAq6qqqqrycEDsxE7sxDZxQNFeQnsJzXBAyWfdYIoscUDyWTeYIv9wQFVVVVVVTW9ACsZb2efwb0AAAAAAAJhuQHzwwQcfvGxAwzAMwzAMbkAvuuiiixZuQKOLLrroYm9ARe1K1K7kbEDlNZTXUI5vQHFH3BF3xG5AfQzOx+Bcb0BDFrKQhVxuQKuqqqqqEm9A6aKLLrpMcEDlNZTXUKZwQAAAAAAAJHBACgoKCgqKcEBf0Bf0BT1vQFFeQ3kN9W9AS0tLS0urb0DEw8PDwyNvQFAHdVAHFXBApze96U0vcECtG0yRz7puQGjdYIp8NnBA1K5E7UpUcEAiIiIiIgpxQAAAAAAA7HBAs6asKWvacEAAAAAAAEhwQPDBBx988G5ADw8PDw9ncEDkOI7jOEZtQD4G52NwDnBAx3Ecx3GUcEAWspCFLARvQBERERERMW9AAAAAAACYcEClT/qkT5pvQO6IO+KOeG9Am7KmrCmLb0DoC/qCviBwQJ1zzjnnnHBA",
          "dtype": "f8"
         },
         "yaxis": "y"
        }
       ],
       "layout": {
        "legend": {
         "title": {
          "text": "Port"
         },
         "tracegroupgap": 0
        },
        "template": {
         "data": {
          "bar": [
           {
            "error_x": {
             "color": "#2a3f5f"
            },
            "error_y": {
             "color": "#2a3f5f"
            },
            "marker": {
             "line": {
              "color": "#E5ECF6",
              "width": 0.5
             },
             "pattern": {
              "fillmode": "overlay",
              "size": 10,
              "solidity": 0.2
             }
            },
            "type": "bar"
           }
          ],
          "barpolar": [
           {
            "marker": {
             "line": {
              "color": "#E5ECF6",
              "width": 0.5
             },
             "pattern": {
              "fillmode": "overlay",
              "size": 10,
              "solidity": 0.2
             }
            },
            "type": "barpolar"
           }
          ],
          "carpet": [
           {
            "aaxis": {
             "endlinecolor": "#2a3f5f",
             "gridcolor": "white",
             "linecolor": "white",
             "minorgridcolor": "white",
             "startlinecolor": "#2a3f5f"
            },
            "baxis": {
             "endlinecolor": "#2a3f5f",
             "gridcolor": "white",
             "linecolor": "white",
             "minorgridcolor": "white",
             "startlinecolor": "#2a3f5f"
            },
            "type": "carpet"
           }
          ],
          "choropleth": [
           {
            "colorbar": {
             "outlinewidth": 0,
             "ticks": ""
            },
            "type": "choropleth"
           }
          ],
          "contour": [
           {
            "colorbar": {
             "outlinewidth": 0,
             "ticks": ""
            },
            "colorscale": [
             [
              0,
              "#0d0887"
             ],
             [
              0.1111111111111111,
              "#46039f"
             ],
             [
              0.2222222222222222,
              "#7201a8"
             ],
             [
              0.3333333333333333,
              "#9c179e"
             ],
             [
              0.4444444444444444,
              "#bd3786"
             ],
             [
              0.5555555555555556,
              "#d8576b"
             ],
             [
              0.6666666666666666,
              "#ed7953"
             ],
             [
              0.7777777777777778,
              "#fb9f3a"
             ],
             [
              0.8888888888888888,
              "#fdca26"
             ],
             [
              1,
              "#f0f921"
             ]
            ],
            "type": "contour"
           }
          ],
          "contourcarpet": [
           {
            "colorbar": {
             "outlinewidth": 0,
             "ticks": ""
            },
            "type": "contourcarpet"
           }
          ],
          "heatmap": [
           {
            "colorbar": {
             "outlinewidth": 0,
             "ticks": ""
            },
            "colorscale": [
             [
              0,
              "#0d0887"
             ],
             [
              0.1111111111111111,
              "#46039f"
             ],
             [
              0.2222222222222222,
              "#7201a8"
             ],
             [
              0.3333333333333333,
              "#9c179e"
             ],
             [
              0.4444444444444444,
              "#bd3786"
             ],
             [
              0.5555555555555556,
              "#d8576b"
             ],
             [
              0.6666666666666666,
              "#ed7953"
             ],
             [
              0.7777777777777778,
              "#fb9f3a"
             ],
             [
              0.8888888888888888,
              "#fdca26"
             ],
             [
              1,
              "#f0f921"
             ]
            ],
            "type": "heatmap"
           }
          ],
          "histogram": [
           {
            "marker": {
             "pattern": {
              "fillmode": "overlay",
              "size": 10,
              "solidity": 0.2
             }
            },
            "type": "histogram"
           }
          ],
          "histogram2d": [
           {
            "colorbar": {
             "outlinewidth": 0,
             "ticks": ""
            },
            "colorscale": [
             [
              0,
              "#0d0887"
             ],
             [
              0.1111111111111111,
              "#46039f"
             ],
             [
              0.2222222222222222,
              "#7201a8"
             ],
             [
              0.3333333333333333,
              "#9c179e"
             ],
             [
              0.4444444444444444,
              "#bd3786"
             ],
             [
              0.5555555555555556,
              "#d8576b"
             ],
             [
              0.6666666666666666,
              "#ed7953"
             ],
             [
              0.7777777777777778,
              "#fb9f3a"
             ],
             [
              0.8888888888888888,
              "#fdca26"
             ],
             [
              1,
              "#f0f921"
             ]
            ],
            "type": "histogram2d"
           }
          ],
          "histogram2dcontour": [
           {
            "colorbar": {
             "outlinewidth": 0,
             "ticks": ""
            },
            "colorscale": [
             [
              0,
              "#0d0887"
             ],
             [
              0.1111111111111111,
              "#46039f"
             ],
             [
              0.2222222222222222,
              "#7201a8"
             ],
             [
              0.3333333333333333,
              "#9c179e"
             ],
             [
              0.4444444444444444,
              "#bd3786"
             ],
             [
              0.5555555555555556,
              "#d8576b"
             ],
             [
              0.6666666666666666,
              "#ed7953"
             ],
             [
              0.7777777777777778,
              "#fb9f3a"
             ],
             [
              0.8888888888888888,
              "#fdca26"
             ],
             [
              1,
              "#f0f921"
             ]
            ],
            "type": "histogram2dcontour"
           }
          ],
          "mesh3d": [
           {
            "colorbar": {
             "outlinewidth": 0,
             "ticks": ""
            },
            "type": "mesh3d"
           }
          ],
          "parcoords": [
           {
            "line": {
             "colorbar": {
              "outlinewidth": 0,
              "ticks": ""
             }
            },
            "type": "parcoords"
           }
          ],
          "pie": [
           {
            "automargin": true,
            "type": "pie"
           }
          ],
          "scatter": [
           {
            "fillpattern": {
             "fillmode": "overlay",
             "size": 10,
             "solidity": 0.2
            },
            "type": "scatter"
           }
          ],
          "scatter3d": [
           {
            "line": {
             "colorbar": {
              "outlinewidth": 0,
              "ticks": ""
             }
            },
            "marker": {
             "colorbar": {
              "outlinewidth": 0,
              "ticks": ""
             }
            },
            "type": "scatter3d"
           }
          ],
          "scattercarpet": [
           {
            "marker": {
             "colorbar": {
              "outlinewidth": 0,
              "ticks": ""
             }
            },
            "type": "scattercarpet"
           }
          ],
          "scattergeo": [
           {
            "marker": {
             "colorbar": {
              "outlinewidth": 0,
              "ticks": ""
             }
            },
            "type": "scattergeo"
           }
          ],
          "scattergl": [
           {
            "marker": {
             "colorbar": {
              "outlinewidth": 0,
              "ticks": ""
             }
            },
            "type": "scattergl"
           }
          ],
          "scattermap": [
           {
            "marker": {
             "colorbar": {
              "outlinewidth": 0,
              "ticks": ""
             }
            },
            "type": "scattermap"
           }
          ],
          "scattermapbox": [
           {
            "marker": {
             "colorbar": {
              "outlinewidth": 0,
              "ticks": ""
             }
            },
            "type": "scattermapbox"
           }
          ],
          "scatterpolar": [
           {
            "marker": {
             "colorbar": {
              "outlinewidth": 0,
              "ticks": ""
             }
            },
            "type": "scatterpolar"
           }
          ],
          "scatterpolargl": [
           {
            "marker": {
             "colorbar": {
              "outlinewidth": 0,
              "ticks": ""
             }
            },
            "type": "scatterpolargl"
           }
          ],
          "scatterternary": [
           {
            "marker": {
             "colorbar": {
              "outlinewidth": 0,
              "ticks": ""
             }
            },
            "type": "scatterternary"
           }
          ],
          "surface": [
           {
            "colorbar": {
             "outlinewidth": 0,
             "ticks": ""
            },
            "colorscale": [
             [
              0,
              "#0d0887"
             ],
             [
              0.1111111111111111,
              "#46039f"
             ],
             [
              0.2222222222222222,
              "#7201a8"
             ],
             [
              0.3333333333333333,
              "#9c179e"
             ],
             [
              0.4444444444444444,
              "#bd3786"
             ],
             [
              0.5555555555555556,
              "#d8576b"
             ],
             [
              0.6666666666666666,
              "#ed7953"
             ],
             [
              0.7777777777777778,
              "#fb9f3a"
             ],
             [
              0.8888888888888888,
              "#fdca26"
             ],
             [
              1,
              "#f0f921"
             ]
            ],
            "type": "surface"
           }
          ],
          "table": [
           {
            "cells": {
             "fill": {
              "color": "#EBF0F8"
             },
             "line": {
              "color": "white"
             }
            },
            "header": {
             "fill": {
              "color": "#C8D4E3"
             },
             "line": {
              "color": "white"
             }
            },
            "type": "table"
           }
          ]
         },
         "layout": {
          "annotationdefaults": {
           "arrowcolor": "#2a3f5f",
           "arrowhead": 0,
           "arrowwidth": 1
          },
          "autotypenumbers": "strict",
          "coloraxis": {
           "colorbar": {
            "outlinewidth": 0,
            "ticks": ""
           }
          },
          "colorscale": {
           "diverging": [
            [
             0,
             "#8e0152"
            ],
            [
             0.1,
             "#c51b7d"
            ],
            [
             0.2,
             "#de77ae"
            ],
            [
             0.3,
             "#f1b6da"
            ],
            [
             0.4,
             "#fde0ef"
            ],
            [
             0.5,
             "#f7f7f7"
            ],
            [
             0.6,
             "#e6f5d0"
            ],
            [
             0.7,
             "#b8e186"
            ],
            [
             0.8,
             "#7fbc41"
            ],
            [
             0.9,
             "#4d9221"
            ],
            [
             1,
             "#276419"
            ]
           ],
           "sequential": [
            [
             0,
             "#0d0887"
            ],
            [
             0.1111111111111111,
             "#46039f"
            ],
            [
             0.2222222222222222,
             "#7201a8"
            ],
            [
             0.3333333333333333,
             "#9c179e"
            ],
            [
             0.4444444444444444,
             "#bd3786"
            ],
            [
             0.5555555555555556,
             "#d8576b"
            ],
            [
             0.6666666666666666,
             "#ed7953"
            ],
            [
             0.7777777777777778,
             "#fb9f3a"
            ],
            [
             0.8888888888888888,
             "#fdca26"
            ],
            [
             1,
             "#f0f921"
            ]
           ],
           "sequentialminus": [
            [
             0,
             "#0d0887"
            ],
            [
             0.1111111111111111,
             "#46039f"
            ],
            [
             0.2222222222222222,
             "#7201a8"
            ],
            [
             0.3333333333333333,
             "#9c179e"
            ],
            [
             0.4444444444444444,
             "#bd3786"
            ],
            [
             0.5555555555555556,
             "#d8576b"
            ],
            [
             0.6666666666666666,
             "#ed7953"
            ],
            [
             0.7777777777777778,
             "#fb9f3a"
            ],
            [
             0.8888888888888888,
             "#fdca26"
            ],
            [
             1,
             "#f0f921"
            ]
           ]
          },
          "colorway": [
           "#636efa",
           "#EF553B",
           "#00cc96",
           "#ab63fa",
           "#FFA15A",
           "#19d3f3",
           "#FF6692",
           "#B6E880",
           "#FF97FF",
           "#FECB52"
          ],
          "font": {
           "color": "#2a3f5f"
          },
          "geo": {
           "bgcolor": "white",
           "lakecolor": "white",
           "landcolor": "#E5ECF6",
           "showlakes": true,
           "showland": true,
           "subunitcolor": "white"
          },
          "hoverlabel": {
           "align": "left"
          },
          "hovermode": "closest",
          "mapbox": {
           "style": "light"
          },
          "paper_bgcolor": "white",
          "plot_bgcolor": "#E5ECF6",
          "polar": {
           "angularaxis": {
            "gridcolor": "white",
            "linecolor": "white",
            "ticks": ""
           },
           "bgcolor": "#E5ECF6",
           "radialaxis": {
            "gridcolor": "white",
            "linecolor": "white",
            "ticks": ""
           }
          },
          "scene": {
           "xaxis": {
            "backgroundcolor": "#E5ECF6",
            "gridcolor": "white",
            "gridwidth": 2,
            "linecolor": "white",
            "showbackground": true,
            "ticks": "",
            "zerolinecolor": "white"
           },
           "yaxis": {
            "backgroundcolor": "#E5ECF6",
            "gridcolor": "white",
            "gridwidth": 2,
            "linecolor": "white",
            "showbackground": true,
            "ticks": "",
            "zerolinecolor": "white"
           },
           "zaxis": {
            "backgroundcolor": "#E5ECF6",
            "gridcolor": "white",
            "gridwidth": 2,
            "linecolor": "white",
            "showbackground": true,
            "ticks": "",
            "zerolinecolor": "white"
           }
          },
          "shapedefaults": {
           "line": {
            "color": "#2a3f5f"
           }
          },
          "ternary": {
           "aaxis": {
            "gridcolor": "white",
            "linecolor": "white",
            "ticks": ""
           },
           "baxis": {
            "gridcolor": "white",
            "linecolor": "white",
            "ticks": ""
           },
           "bgcolor": "#E5ECF6",
           "caxis": {
            "gridcolor": "white",
            "linecolor": "white",
            "ticks": ""
           }
          },
          "title": {
           "x": 0.05
          },
          "xaxis": {
           "automargin": true,
           "gridcolor": "white",
           "linecolor": "white",
           "ticks": "",
           "title": {
            "standoff": 15
           },
           "zerolinecolor": "white",
           "zerolinewidth": 2
          },
          "yaxis": {
           "automargin": true,
           "gridcolor": "white",
           "linecolor": "white",
           "ticks": "",
           "title": {
            "standoff": 15
           },
           "zerolinecolor": "white",
           "zerolinewidth": 2
          }
         }
        },
        "title": {
         "text": "Vessel Size - Diverging Trends"
        },
        "xaxis": {
         "anchor": "y",
         "domain": [
          0,
          1
         ],
         "title": {
          "text": ""
         }
        },
        "yaxis": {
         "anchor": "x",
         "domain": [
          0,
          1
         ],
         "title": {
          "text": "Mean Vessel Length (m)"
         }
        }
       }
      }
     },
     "metadata": {},
     "output_type": "display_data"
    }
   ],
   "source": [
    "plot_line(\n",
    "        df=calls_df.filter(pl.col('port_group').is_in(['NW Seaport Alliance', 'Virginia, VA, Port of'])),\n",
    "        cat_group='port_group', time_col='month',\n",
    "        y_col='vessel_size', y_col_alias='Mean Vessel Length (m)',\n",
    "        title='Vessel Size - Diverging Trends', width=None, height=None,\n",
    "        labels={'port_group':'Port', 'month':''},\n",
    "        cat_limit=10, cat_limit_col='vessel_size',\n",
    "    )"
   ]
  },
  {
   "cell_type": "markdown",
   "id": "26068953",
   "metadata": {},
   "source": [
    "Note filtering on vessel size - consider swap to total volume"
   ]
  },
  {
   "cell_type": "code",
   "execution_count": 98,
   "id": "714a01f0",
   "metadata": {},
   "outputs": [
    {
     "data": {
      "application/vnd.plotly.v1+json": {
       "config": {
        "plotlyServerURL": "https://plot.ly"
       },
       "data": [
        {
         "hovertemplate": "Port=Mobile, AL<br>=%{x}<br>Number of Calls per Month=%{y}<extra></extra>",
         "legendgroup": "Mobile, AL",
         "line": {
          "color": "lightgray",
          "dash": "solid"
         },
         "marker": {
          "symbol": "circle"
         },
         "mode": "lines",
         "name": "Mobile, AL",
         "orientation": "v",
         "showlegend": true,
         "type": "scatter",
         "x": [
          "2018-01-01",
          "2018-02-01",
          "2018-03-01",
          "2018-04-01",
          "2018-05-01",
          "2018-06-01",
          "2018-07-01",
          "2018-08-01",
          "2018-09-01",
          "2018-10-01",
          "2018-11-01",
          "2018-12-01",
          "2019-01-01",
          "2019-02-01",
          "2019-03-01",
          "2019-04-01",
          "2019-05-01",
          "2019-06-01",
          "2019-07-01",
          "2019-08-01",
          "2019-09-01",
          "2019-10-01",
          "2019-11-01",
          "2019-12-01",
          "2020-01-01",
          "2020-02-01",
          "2020-03-01",
          "2020-04-01",
          "2020-05-01",
          "2020-06-01",
          "2020-07-01",
          "2020-08-01",
          "2020-09-01",
          "2020-10-01",
          "2020-11-01",
          "2020-12-01",
          "2021-01-01",
          "2021-02-01",
          "2021-03-01",
          "2021-04-01",
          "2021-05-01",
          "2021-06-01",
          "2021-07-01",
          "2021-08-01",
          "2021-09-01",
          "2021-10-01",
          "2021-11-01",
          "2021-12-01",
          "2022-01-01",
          "2022-02-01",
          "2022-03-01",
          "2022-04-01",
          "2022-05-01",
          "2022-06-01",
          "2022-07-01",
          "2022-08-01",
          "2022-09-01",
          "2022-10-01",
          "2022-11-01",
          "2022-12-01",
          "2023-01-01",
          "2023-02-01",
          "2023-03-01",
          "2023-04-01",
          "2023-05-01",
          "2023-06-01",
          "2023-07-01",
          "2023-08-01",
          "2023-09-01",
          "2023-10-01",
          "2023-11-01",
          "2023-12-01",
          "2024-01-01",
          "2024-02-01",
          "2024-03-01",
          "2024-04-01",
          "2024-05-01",
          "2024-06-01",
          "2024-07-01",
          "2024-08-01",
          "2024-09-01",
          "2024-10-01",
          "2024-11-01",
          "2024-12-01"
         ],
         "xaxis": "x",
         "y": {
          "bdata": "TwAAAFMAAABRAAAAUAAAAFUAAABVAAAAVgAAAE0AAABSAAAAWQAAAFEAAABJAAAAXQAAAEwAAABYAAAATQAAAFMAAABYAAAAVgAAAFgAAABTAAAATgAAADwAAABMAAAAUAAAAEYAAABIAAAAQwAAAEYAAABAAAAARAAAAEMAAABDAAAAPQAAAEQAAABQAAAARgAAAD8AAABYAAAAUQAAAFAAAABkAAAAWwAAAFIAAABbAAAAWQAAAFkAAABVAAAAXAAAAFkAAABbAAAAWgAAAGMAAABdAAAAYAAAAFkAAABdAAAAZQAAAFUAAABbAAAAYAAAAF4AAABbAAAAVwAAAGIAAABmAAAAbQAAAGQAAABoAAAAXgAAAEsAAABcAAAAXAAAAF0AAABaAAAAXQAAAGcAAABsAAAAVAAAAGMAAABbAAAAVwAAAF4AAABVAAAA",
          "dtype": "u4"
         },
         "yaxis": "y"
        },
        {
         "hovertemplate": "Port=San Juan, PR<br>=%{x}<br>Number of Calls per Month=%{y}<extra></extra>",
         "legendgroup": "San Juan, PR",
         "line": {
          "color": "lightgray",
          "dash": "solid"
         },
         "marker": {
          "symbol": "circle"
         },
         "mode": "lines",
         "name": "San Juan, PR",
         "orientation": "v",
         "showlegend": true,
         "type": "scatter",
         "x": [
          "2018-01-01",
          "2018-02-01",
          "2018-03-01",
          "2018-04-01",
          "2018-05-01",
          "2018-06-01",
          "2018-07-01",
          "2018-08-01",
          "2018-09-01",
          "2018-10-01",
          "2018-11-01",
          "2018-12-01",
          "2019-01-01",
          "2019-02-01",
          "2019-03-01",
          "2019-04-01",
          "2019-05-01",
          "2019-06-01",
          "2019-07-01",
          "2019-08-01",
          "2019-09-01",
          "2019-10-01",
          "2019-11-01",
          "2019-12-01",
          "2020-01-01",
          "2020-02-01",
          "2020-03-01",
          "2020-04-01",
          "2020-05-01",
          "2020-06-01",
          "2020-07-01",
          "2020-08-01",
          "2020-09-01",
          "2020-10-01",
          "2020-11-01",
          "2020-12-01",
          "2021-01-01",
          "2021-02-01",
          "2021-03-01",
          "2021-04-01",
          "2021-05-01",
          "2021-06-01",
          "2021-07-01",
          "2021-08-01",
          "2021-09-01",
          "2021-10-01",
          "2021-11-01",
          "2021-12-01",
          "2022-01-01",
          "2022-02-01",
          "2022-03-01",
          "2022-04-01",
          "2022-05-01",
          "2022-06-01",
          "2022-07-01",
          "2022-08-01",
          "2022-09-01",
          "2022-10-01",
          "2022-11-01",
          "2022-12-01",
          "2023-01-01",
          "2023-02-01",
          "2023-03-01",
          "2023-04-01",
          "2023-05-01",
          "2023-06-01",
          "2023-07-01",
          "2023-08-01",
          "2023-09-01",
          "2023-10-01",
          "2023-11-01",
          "2023-12-01",
          "2024-01-01",
          "2024-02-01",
          "2024-03-01",
          "2024-04-01",
          "2024-05-01",
          "2024-06-01",
          "2024-07-01",
          "2024-08-01",
          "2024-09-01",
          "2024-10-01",
          "2024-11-01",
          "2024-12-01"
         ],
         "xaxis": "x",
         "y": {
          "bdata": "OQAAAEEAAABCAAAASAAAAFAAAABGAAAATwAAAEgAAABCAAAATgAAAE4AAABCAAAATQAAAEsAAABUAAAATAAAAEoAAABHAAAASAAAAEIAAAA9AAAAMgAAADcAAAA/AAAAPwAAADUAAABDAAAAOgAAADAAAAAxAAAANgAAADcAAABAAAAAPgAAADgAAAA2AAAANwAAADAAAAA5AAAATgAAAFMAAABSAAAATgAAAEwAAABKAAAAXgAAAFAAAABJAAAASAAAAEUAAABVAAAAUgAAAFUAAABUAAAASQAAAFIAAABKAAAAVQAAAFEAAABMAAAAVwAAAE0AAABXAAAAWgAAAF0AAABdAAAAXAAAAFkAAABWAAAAXAAAAFEAAABLAAAAVwAAAFoAAABPAAAAVQAAAFMAAABUAAAAWQAAAFkAAABUAAAAWwAAAFMAAAA7AAAA",
          "dtype": "u4"
         },
         "yaxis": "y"
        },
        {
         "hovertemplate": "Port=Port of Oakland, CA<br>=%{x}<br>Number of Calls per Month=%{y}<extra></extra>",
         "legendgroup": "Port of Oakland, CA",
         "line": {
          "color": "lightgray",
          "dash": "solid"
         },
         "marker": {
          "symbol": "circle"
         },
         "mode": "lines",
         "name": "Port of Oakland, CA",
         "orientation": "v",
         "showlegend": true,
         "type": "scatter",
         "x": [
          "2018-01-01",
          "2018-02-01",
          "2018-03-01",
          "2018-04-01",
          "2018-05-01",
          "2018-06-01",
          "2018-07-01",
          "2018-08-01",
          "2018-09-01",
          "2018-10-01",
          "2018-11-01",
          "2018-12-01",
          "2019-01-01",
          "2019-02-01",
          "2019-03-01",
          "2019-04-01",
          "2019-05-01",
          "2019-06-01",
          "2019-07-01",
          "2019-08-01",
          "2019-09-01",
          "2019-10-01",
          "2019-11-01",
          "2019-12-01",
          "2020-01-01",
          "2020-02-01",
          "2020-03-01",
          "2020-04-01",
          "2020-05-01",
          "2020-06-01",
          "2020-07-01",
          "2020-08-01",
          "2020-09-01",
          "2020-10-01",
          "2020-11-01",
          "2020-12-01",
          "2021-01-01",
          "2021-02-01",
          "2021-03-01",
          "2021-04-01",
          "2021-05-01",
          "2021-06-01",
          "2021-07-01",
          "2021-08-01",
          "2021-09-01",
          "2021-10-01",
          "2021-11-01",
          "2021-12-01",
          "2022-01-01",
          "2022-02-01",
          "2022-03-01",
          "2022-04-01",
          "2022-05-01",
          "2022-06-01",
          "2022-07-01",
          "2022-08-01",
          "2022-09-01",
          "2022-10-01",
          "2022-11-01",
          "2022-12-01",
          "2023-01-01",
          "2023-02-01",
          "2023-03-01",
          "2023-04-01",
          "2023-05-01",
          "2023-06-01",
          "2023-07-01",
          "2023-08-01",
          "2023-09-01",
          "2023-10-01",
          "2023-11-01",
          "2023-12-01",
          "2024-01-01",
          "2024-02-01",
          "2024-03-01",
          "2024-04-01",
          "2024-05-01",
          "2024-06-01",
          "2024-07-01",
          "2024-08-01",
          "2024-09-01",
          "2024-10-01",
          "2024-11-01",
          "2024-12-01"
         ],
         "xaxis": "x",
         "y": {
          "bdata": "WgAAAEsAAABKAAAAVAAAAFcAAABUAAAAUgAAAFMAAABOAAAATAAAAEcAAABCAAAARwAAAD0AAAA9AAAAQAAAADwAAAA8AAAAPwAAAEYAAAA8AAAAQwAAADoAAAA/AAAAQAAAAC4AAAA2AAAANAAAADUAAAAxAAAARAAAADsAAAA5AAAAPgAAADUAAAAtAAAAJQAAACIAAAAqAAAAMgAAAC4AAAAqAAAAKgAAACgAAAAeAAAAHgAAACcAAAAdAAAAJgAAAC0AAAA+AAAAMAAAAC4AAAA/AAAAKQAAACkAAAAkAAAAKwAAACkAAAAoAAAAMAAAACgAAAAuAAAAMQAAADQAAAA1AAAAQQAAAEIAAAA5AAAAPQAAADoAAAA6AAAAPQAAADoAAAA+AAAAOQAAADgAAAA3AAAAMwAAADYAAABFAAAARgAAADwAAABAAAAA",
          "dtype": "u4"
         },
         "yaxis": "y"
        },
        {
         "hovertemplate": "Port=New Orleans, LA<br>=%{x}<br>Number of Calls per Month=%{y}<extra></extra>",
         "legendgroup": "New Orleans, LA",
         "line": {
          "color": "lightgray",
          "dash": "solid"
         },
         "marker": {
          "symbol": "circle"
         },
         "mode": "lines",
         "name": "New Orleans, LA",
         "orientation": "v",
         "showlegend": true,
         "type": "scatter",
         "x": [
          "2018-01-01",
          "2018-02-01",
          "2018-03-01",
          "2018-04-01",
          "2018-05-01",
          "2018-06-01",
          "2018-07-01",
          "2018-08-01",
          "2018-09-01",
          "2018-10-01",
          "2018-11-01",
          "2018-12-01",
          "2019-01-01",
          "2019-02-01",
          "2019-03-01",
          "2019-04-01",
          "2019-05-01",
          "2019-06-01",
          "2019-07-01",
          "2019-08-01",
          "2019-09-01",
          "2019-10-01",
          "2019-11-01",
          "2019-12-01",
          "2020-01-01",
          "2020-02-01",
          "2020-03-01",
          "2020-04-01",
          "2020-05-01",
          "2020-06-01",
          "2020-07-01",
          "2020-08-01",
          "2020-09-01",
          "2020-10-01",
          "2020-11-01",
          "2020-12-01",
          "2021-01-01",
          "2021-02-01",
          "2021-03-01",
          "2021-04-01",
          "2021-05-01",
          "2021-06-01",
          "2021-07-01",
          "2021-08-01",
          "2021-09-01",
          "2021-10-01",
          "2021-11-01",
          "2021-12-01",
          "2022-01-01",
          "2022-02-01",
          "2022-03-01",
          "2022-04-01",
          "2022-05-01",
          "2022-06-01",
          "2022-07-01",
          "2022-08-01",
          "2022-09-01",
          "2022-10-01",
          "2022-11-01",
          "2022-12-01",
          "2023-01-01",
          "2023-02-01",
          "2023-03-01",
          "2023-04-01",
          "2023-05-01",
          "2023-06-01",
          "2023-07-01",
          "2023-08-01",
          "2023-09-01",
          "2023-10-01",
          "2023-11-01",
          "2023-12-01",
          "2024-01-01",
          "2024-02-01",
          "2024-03-01",
          "2024-04-01",
          "2024-05-01",
          "2024-06-01",
          "2024-07-01",
          "2024-08-01",
          "2024-09-01",
          "2024-10-01",
          "2024-11-01",
          "2024-12-01"
         ],
         "xaxis": "x",
         "y": {
          "bdata": "SgAAAEUAAABSAAAAPgAAAFEAAABJAAAASwAAAFIAAABJAAAASQAAAEAAAABEAAAAWAAAAEEAAABWAAAAPgAAAEkAAABBAAAARwAAAEkAAAA+AAAAQAAAAEMAAABCAAAASwAAADoAAAA9AAAAQgAAAEoAAABBAAAAPgAAADMAAAA4AAAANAAAADkAAAA5AAAAOgAAADIAAAA9AAAAPAAAAEoAAABCAAAASAAAADoAAAA5AAAARwAAAEYAAAA9AAAARgAAAEMAAABBAAAASQAAAEUAAAA/AAAAQAAAAEMAAABAAAAAQQAAAD0AAAAzAAAAPgAAAEEAAAA/AAAATQAAAD4AAABHAAAAQAAAAEIAAAA5AAAARwAAADQAAAA/AAAAQwAAAD4AAABEAAAAPQAAAEgAAABFAAAAOgAAAEAAAAA9AAAANAAAAEUAAAA1AAAA",
          "dtype": "u4"
         },
         "yaxis": "y"
        },
        {
         "hovertemplate": "Port=Texas City, TX<br>=%{x}<br>Number of Calls per Month=%{y}<extra></extra>",
         "legendgroup": "Texas City, TX",
         "line": {
          "color": "lightgray",
          "dash": "solid"
         },
         "marker": {
          "symbol": "circle"
         },
         "mode": "lines",
         "name": "Texas City, TX",
         "orientation": "v",
         "showlegend": true,
         "type": "scatter",
         "x": [
          "2018-01-01",
          "2018-02-01",
          "2018-03-01",
          "2018-04-01",
          "2018-05-01",
          "2018-06-01",
          "2018-07-01",
          "2018-08-01",
          "2018-09-01",
          "2018-10-01",
          "2018-11-01",
          "2018-12-01",
          "2019-01-01",
          "2019-02-01",
          "2019-03-01",
          "2019-04-01",
          "2019-05-01",
          "2019-06-01",
          "2019-07-01",
          "2019-08-01",
          "2019-09-01",
          "2019-10-01",
          "2019-11-01",
          "2019-12-01",
          "2020-01-01",
          "2020-02-01",
          "2020-03-01",
          "2020-04-01",
          "2020-05-01",
          "2020-06-01",
          "2020-07-01",
          "2020-08-01",
          "2020-09-01",
          "2020-10-01",
          "2020-11-01",
          "2020-12-01",
          "2021-01-01",
          "2021-02-01",
          "2021-03-01",
          "2021-04-01",
          "2021-05-01",
          "2021-06-01",
          "2021-07-01",
          "2021-08-01",
          "2021-09-01",
          "2021-10-01",
          "2021-11-01",
          "2021-12-01",
          "2022-01-01",
          "2022-02-01",
          "2022-03-01",
          "2022-04-01",
          "2022-05-01",
          "2022-06-01",
          "2022-07-01",
          "2022-08-01",
          "2022-09-01",
          "2022-10-01",
          "2022-11-01",
          "2022-12-01",
          "2023-01-01",
          "2023-02-01",
          "2023-03-01",
          "2023-04-01",
          "2023-05-01",
          "2023-06-01",
          "2023-07-01",
          "2023-08-01",
          "2023-09-01",
          "2023-10-01",
          "2023-11-01",
          "2023-12-01",
          "2024-01-01",
          "2024-02-01",
          "2024-03-01",
          "2024-04-01",
          "2024-05-01",
          "2024-06-01",
          "2024-07-01",
          "2024-08-01",
          "2024-09-01",
          "2024-10-01",
          "2024-11-01",
          "2024-12-01"
         ],
         "xaxis": "x",
         "y": {
          "bdata": "NgAAADYAAABJAAAARgAAADoAAAA1AAAAOgAAAEkAAAA9AAAAPAAAADkAAAA3AAAAOgAAADQAAAA8AAAAQQAAAD8AAAA9AAAAMQAAAC8AAAA7AAAALgAAADUAAAA3AAAAMwAAAEgAAAAzAAAALgAAACgAAAAkAAAAMAAAAC4AAAAuAAAALwAAADMAAAAsAAAAMwAAACAAAAAlAAAAKQAAADYAAAA/AAAANQAAADoAAAA3AAAAQwAAAD8AAABAAAAANwAAAC0AAABIAAAATAAAADsAAAA8AAAARQAAADUAAAA1AAAANAAAADwAAAA4AAAAMQAAACkAAABJAAAANwAAADQAAAA8AAAAPgAAAEIAAABDAAAAPAAAAD0AAABDAAAAPQAAADgAAAA/AAAAPQAAAEQAAABHAAAAPQAAAEQAAAA2AAAAQAAAAEMAAABNAAAA",
          "dtype": "u4"
         },
         "yaxis": "y"
        },
        {
         "hovertemplate": "Port=Baltimore, MD<br>=%{x}<br>Number of Calls per Month=%{y}<extra></extra>",
         "legendgroup": "Baltimore, MD",
         "line": {
          "color": "lightgray",
          "dash": "solid"
         },
         "marker": {
          "symbol": "circle"
         },
         "mode": "lines",
         "name": "Baltimore, MD",
         "orientation": "v",
         "showlegend": true,
         "type": "scatter",
         "x": [
          "2018-01-01",
          "2018-02-01",
          "2018-03-01",
          "2018-04-01",
          "2018-05-01",
          "2018-06-01",
          "2018-07-01",
          "2018-08-01",
          "2018-09-01",
          "2018-10-01",
          "2018-11-01",
          "2018-12-01",
          "2019-01-01",
          "2019-02-01",
          "2019-03-01",
          "2019-04-01",
          "2019-05-01",
          "2019-06-01",
          "2019-07-01",
          "2019-08-01",
          "2019-09-01",
          "2019-10-01",
          "2019-11-01",
          "2019-12-01",
          "2020-01-01",
          "2020-02-01",
          "2020-03-01",
          "2020-04-01",
          "2020-05-01",
          "2020-06-01",
          "2020-07-01",
          "2020-08-01",
          "2020-09-01",
          "2020-10-01",
          "2020-11-01",
          "2020-12-01",
          "2021-01-01",
          "2021-02-01",
          "2021-03-01",
          "2021-04-01",
          "2021-05-01",
          "2021-06-01",
          "2021-07-01",
          "2021-08-01",
          "2021-09-01",
          "2021-10-01",
          "2021-11-01",
          "2021-12-01",
          "2022-01-01",
          "2022-02-01",
          "2022-03-01",
          "2022-04-01",
          "2022-05-01",
          "2022-06-01",
          "2022-07-01",
          "2022-08-01",
          "2022-09-01",
          "2022-10-01",
          "2022-11-01",
          "2022-12-01",
          "2023-01-01",
          "2023-02-01",
          "2023-03-01",
          "2023-04-01",
          "2023-05-01",
          "2023-06-01",
          "2023-07-01",
          "2023-08-01",
          "2023-09-01",
          "2023-10-01",
          "2023-11-01",
          "2023-12-01",
          "2024-01-01",
          "2024-02-01",
          "2024-03-01",
          "2024-04-01",
          "2024-05-01",
          "2024-06-01",
          "2024-07-01",
          "2024-08-01",
          "2024-09-01",
          "2024-10-01",
          "2024-11-01",
          "2024-12-01"
         ],
         "xaxis": "x",
         "y": {
          "bdata": "WQAAAGAAAABpAAAAawAAAGUAAABtAAAAXAAAAG8AAABaAAAAXgAAAGUAAABiAAAAYgAAAFMAAABlAAAAYAAAAF4AAABZAAAAXgAAAGEAAABhAAAAVwAAAFkAAABbAAAAVgAAAFUAAABUAAAARAAAADgAAAA+AAAAQgAAAE8AAABSAAAAUwAAAFIAAABeAAAAVgAAAEMAAABcAAAAdQAAAG0AAABtAAAAWAAAAGMAAABdAAAAWAAAAG0AAABlAAAAXgAAAGEAAABqAAAAZAAAAFsAAABxAAAAZQAAAGYAAABcAAAAZQAAAE0AAABdAAAAYwAAAGIAAABYAAAAawAAAGEAAABkAAAAZAAAAGQAAABqAAAAaAAAAF0AAABWAAAAZwAAAF0AAABcAAAAAgAAADYAAABYAAAAaQAAAGwAAABZAAAAYQAAAHIAAABWAAAA",
          "dtype": "u4"
         },
         "yaxis": "y"
        },
        {
         "hovertemplate": "Port=Port Arthur, TX<br>=%{x}<br>Number of Calls per Month=%{y}<extra></extra>",
         "legendgroup": "Port Arthur, TX",
         "line": {
          "color": "lightgray",
          "dash": "solid"
         },
         "marker": {
          "symbol": "circle"
         },
         "mode": "lines",
         "name": "Port Arthur, TX",
         "orientation": "v",
         "showlegend": true,
         "type": "scatter",
         "x": [
          "2018-01-01",
          "2018-02-01",
          "2018-03-01",
          "2018-04-01",
          "2018-05-01",
          "2018-06-01",
          "2018-07-01",
          "2018-08-01",
          "2018-09-01",
          "2018-10-01",
          "2018-11-01",
          "2018-12-01",
          "2019-01-01",
          "2019-02-01",
          "2019-03-01",
          "2019-04-01",
          "2019-05-01",
          "2019-06-01",
          "2019-07-01",
          "2019-08-01",
          "2019-09-01",
          "2019-10-01",
          "2019-11-01",
          "2019-12-01",
          "2020-01-01",
          "2020-02-01",
          "2020-03-01",
          "2020-04-01",
          "2020-05-01",
          "2020-06-01",
          "2020-07-01",
          "2020-08-01",
          "2020-09-01",
          "2020-10-01",
          "2020-11-01",
          "2020-12-01",
          "2021-01-01",
          "2021-02-01",
          "2021-03-01",
          "2021-04-01",
          "2021-05-01",
          "2021-06-01",
          "2021-07-01",
          "2021-08-01",
          "2021-09-01",
          "2021-10-01",
          "2021-11-01",
          "2021-12-01",
          "2022-01-01",
          "2022-02-01",
          "2022-03-01",
          "2022-04-01",
          "2022-05-01",
          "2022-06-01",
          "2022-07-01",
          "2022-08-01",
          "2022-09-01",
          "2022-10-01",
          "2022-11-01",
          "2022-12-01",
          "2023-01-01",
          "2023-02-01",
          "2023-03-01",
          "2023-04-01",
          "2023-05-01",
          "2023-06-01",
          "2023-07-01",
          "2023-08-01",
          "2023-09-01",
          "2023-10-01",
          "2023-11-01",
          "2023-12-01",
          "2024-01-01",
          "2024-02-01",
          "2024-03-01",
          "2024-04-01",
          "2024-05-01",
          "2024-06-01",
          "2024-07-01",
          "2024-08-01",
          "2024-09-01",
          "2024-10-01",
          "2024-11-01",
          "2024-12-01"
         ],
         "xaxis": "x",
         "y": {
          "bdata": "MgAAACYAAAAtAAAANwAAADwAAAArAAAAMgAAACwAAAAtAAAALAAAADUAAAAwAAAANwAAACQAAAAtAAAAMgAAADEAAAAvAAAAKgAAADEAAAAcAAAAJAAAAB8AAAAtAAAALQAAACcAAAAlAAAAHwAAACQAAAAmAAAALwAAACMAAAAfAAAAKQAAACYAAAAyAAAAKAAAAB4AAAAlAAAASwAAADsAAABCAAAAQgAAAEcAAABAAAAARgAAAD0AAABFAAAANwAAAD4AAABJAAAARAAAAD8AAABJAAAAPgAAAEYAAABFAAAAPwAAADUAAAA5AAAAQgAAAD8AAABAAAAAQgAAAEkAAABKAAAAQQAAAEQAAAA6AAAARwAAADwAAABBAAAAPgAAADIAAABBAAAARAAAAEIAAABBAAAASgAAAEIAAABBAAAAQwAAAEgAAABAAAAA",
          "dtype": "u4"
         },
         "yaxis": "y"
        },
        {
         "hovertemplate": "Port=Port Everglades, FL<br>=%{x}<br>Number of Calls per Month=%{y}<extra></extra>",
         "legendgroup": "Port Everglades, FL",
         "line": {
          "color": "lightgray",
          "dash": "solid"
         },
         "marker": {
          "symbol": "circle"
         },
         "mode": "lines",
         "name": "Port Everglades, FL",
         "orientation": "v",
         "showlegend": true,
         "type": "scatter",
         "x": [
          "2018-01-01",
          "2018-02-01",
          "2018-03-01",
          "2018-04-01",
          "2018-05-01",
          "2018-06-01",
          "2018-07-01",
          "2018-08-01",
          "2018-09-01",
          "2018-10-01",
          "2018-11-01",
          "2018-12-01",
          "2019-01-01",
          "2019-02-01",
          "2019-03-01",
          "2019-04-01",
          "2019-05-01",
          "2019-06-01",
          "2019-07-01",
          "2019-08-01",
          "2019-09-01",
          "2019-10-01",
          "2019-11-01",
          "2019-12-01",
          "2020-01-01",
          "2020-02-01",
          "2020-03-01",
          "2020-04-01",
          "2020-05-01",
          "2020-06-01",
          "2020-07-01",
          "2020-08-01",
          "2020-09-01",
          "2020-10-01",
          "2020-11-01",
          "2020-12-01",
          "2021-01-01",
          "2021-02-01",
          "2021-03-01",
          "2021-04-01",
          "2021-05-01",
          "2021-06-01",
          "2021-07-01",
          "2021-08-01",
          "2021-09-01",
          "2021-10-01",
          "2021-11-01",
          "2021-12-01",
          "2022-01-01",
          "2022-02-01",
          "2022-03-01",
          "2022-04-01",
          "2022-05-01",
          "2022-06-01",
          "2022-07-01",
          "2022-08-01",
          "2022-09-01",
          "2022-10-01",
          "2022-11-01",
          "2022-12-01",
          "2023-01-01",
          "2023-02-01",
          "2023-03-01",
          "2023-04-01",
          "2023-05-01",
          "2023-06-01",
          "2023-07-01",
          "2023-08-01",
          "2023-09-01",
          "2023-10-01",
          "2023-11-01",
          "2023-12-01",
          "2024-01-01",
          "2024-02-01",
          "2024-03-01",
          "2024-04-01",
          "2024-05-01",
          "2024-06-01",
          "2024-07-01",
          "2024-08-01",
          "2024-09-01",
          "2024-10-01",
          "2024-11-01",
          "2024-12-01"
         ],
         "xaxis": "x",
         "y": {
          "bdata": "gQAAAIEAAACDAAAAfQAAAIIAAABvAAAAeAAAAHsAAAByAAAAhQAAAHkAAAB8AAAAhQAAAG0AAACIAAAAggAAAJIAAACEAAAAggAAAHMAAAB9AAAAjAAAAIIAAACAAAAAggAAAH0AAACCAAAAYgAAAGYAAABlAAAAbgAAAGoAAABmAAAAZgAAAGEAAABkAAAAZgAAAF8AAABkAAAAfwAAAIQAAACIAAAAdwAAAIAAAACAAAAAeAAAAHkAAAB+AAAAegAAAIUAAAB3AAAAfQAAAH8AAAB1AAAAdwAAAHEAAABkAAAAfgAAAHEAAAB6AAAAjgAAAH8AAACDAAAAggAAAIMAAAB1AAAAbgAAAHMAAAB1AAAAdQAAAGYAAAB/AAAAiAAAAHwAAACBAAAAfgAAAH4AAAB+AAAAdwAAAHEAAAB3AAAAewAAAIkAAACOAAAA",
          "dtype": "u4"
         },
         "yaxis": "y"
        },
        {
         "hovertemplate": "Port=PortMiami, FL<br>=%{x}<br>Number of Calls per Month=%{y}<extra></extra>",
         "legendgroup": "PortMiami, FL",
         "line": {
          "color": "lightgray",
          "dash": "solid"
         },
         "marker": {
          "symbol": "circle"
         },
         "mode": "lines",
         "name": "PortMiami, FL",
         "orientation": "v",
         "showlegend": true,
         "type": "scatter",
         "x": [
          "2018-01-01",
          "2018-02-01",
          "2018-03-01",
          "2018-04-01",
          "2018-05-01",
          "2018-06-01",
          "2018-07-01",
          "2018-08-01",
          "2018-09-01",
          "2018-10-01",
          "2018-11-01",
          "2018-12-01",
          "2019-01-01",
          "2019-02-01",
          "2019-03-01",
          "2019-04-01",
          "2019-05-01",
          "2019-06-01",
          "2019-07-01",
          "2019-08-01",
          "2019-09-01",
          "2019-10-01",
          "2019-11-01",
          "2019-12-01",
          "2020-01-01",
          "2020-02-01",
          "2020-03-01",
          "2020-04-01",
          "2020-05-01",
          "2020-06-01",
          "2020-07-01",
          "2020-08-01",
          "2020-09-01",
          "2020-10-01",
          "2020-11-01",
          "2020-12-01",
          "2021-01-01",
          "2021-02-01",
          "2021-03-01",
          "2021-04-01",
          "2021-05-01",
          "2021-06-01",
          "2021-07-01",
          "2021-08-01",
          "2021-09-01",
          "2021-10-01",
          "2021-11-01",
          "2021-12-01",
          "2022-01-01",
          "2022-02-01",
          "2022-03-01",
          "2022-04-01",
          "2022-05-01",
          "2022-06-01",
          "2022-07-01",
          "2022-08-01",
          "2022-09-01",
          "2022-10-01",
          "2022-11-01",
          "2022-12-01",
          "2023-01-01",
          "2023-02-01",
          "2023-03-01",
          "2023-04-01",
          "2023-05-01",
          "2023-06-01",
          "2023-07-01",
          "2023-08-01",
          "2023-09-01",
          "2023-10-01",
          "2023-11-01",
          "2023-12-01",
          "2024-01-01",
          "2024-02-01",
          "2024-03-01",
          "2024-04-01",
          "2024-05-01",
          "2024-06-01",
          "2024-07-01",
          "2024-08-01",
          "2024-09-01",
          "2024-10-01",
          "2024-11-01",
          "2024-12-01"
         ],
         "xaxis": "x",
         "y": {
          "bdata": "NwAAADUAAABAAAAAOQAAAEUAAABAAAAARgAAAEgAAAAtAAAAPgAAADcAAAAwAAAAPgAAADsAAAA1AAAANgAAAEAAAAA3AAAANQAAADsAAABCAAAAOQAAADkAAAA2AAAAPwAAADsAAAA+AAAALwAAACoAAAArAAAAKwAAADsAAAA5AAAAPgAAADQAAAA2AAAAPAAAACgAAAA8AAAAQgAAAD4AAAA9AAAAPAAAAEoAAABDAAAAPwAAADcAAAA5AAAAOQAAADMAAAAyAAAANQAAAC4AAAAzAAAAMQAAACYAAAAwAAAAMAAAACwAAAA2AAAAOAAAAC8AAAA/AAAAMQAAADoAAAA6AAAANwAAAD0AAAA5AAAAPQAAADwAAAA8AAAARAAAAEQAAABHAAAARAAAAEEAAAA9AAAAOAAAADwAAAA/AAAALQAAACcAAAAoAAAA",
          "dtype": "u4"
         },
         "yaxis": "y"
        },
        {
         "hovertemplate": "Port=San Pedro Ports<br>=%{x}<br>Number of Calls per Month=%{y}<extra></extra>",
         "legendgroup": "San Pedro Ports",
         "line": {
          "color": "lightgray",
          "dash": "solid"
         },
         "marker": {
          "symbol": "circle"
         },
         "mode": "lines",
         "name": "San Pedro Ports",
         "orientation": "v",
         "showlegend": true,
         "type": "scatter",
         "x": [
          "2018-01-01",
          "2018-02-01",
          "2018-03-01",
          "2018-04-01",
          "2018-05-01",
          "2018-06-01",
          "2018-07-01",
          "2018-08-01",
          "2018-09-01",
          "2018-10-01",
          "2018-11-01",
          "2018-12-01",
          "2019-01-01",
          "2019-02-01",
          "2019-03-01",
          "2019-04-01",
          "2019-05-01",
          "2019-06-01",
          "2019-07-01",
          "2019-08-01",
          "2019-09-01",
          "2019-10-01",
          "2019-11-01",
          "2019-12-01",
          "2020-01-01",
          "2020-02-01",
          "2020-03-01",
          "2020-04-01",
          "2020-05-01",
          "2020-06-01",
          "2020-07-01",
          "2020-08-01",
          "2020-09-01",
          "2020-10-01",
          "2020-11-01",
          "2020-12-01",
          "2021-01-01",
          "2021-02-01",
          "2021-03-01",
          "2021-04-01",
          "2021-05-01",
          "2021-06-01",
          "2021-07-01",
          "2021-08-01",
          "2021-09-01",
          "2021-10-01",
          "2021-11-01",
          "2021-12-01",
          "2022-01-01",
          "2022-02-01",
          "2022-03-01",
          "2022-04-01",
          "2022-05-01",
          "2022-06-01",
          "2022-07-01",
          "2022-08-01",
          "2022-09-01",
          "2022-10-01",
          "2022-11-01",
          "2022-12-01",
          "2023-01-01",
          "2023-02-01",
          "2023-03-01",
          "2023-04-01",
          "2023-05-01",
          "2023-06-01",
          "2023-07-01",
          "2023-08-01",
          "2023-09-01",
          "2023-10-01",
          "2023-11-01",
          "2023-12-01",
          "2024-01-01",
          "2024-02-01",
          "2024-03-01",
          "2024-04-01",
          "2024-05-01",
          "2024-06-01",
          "2024-07-01",
          "2024-08-01",
          "2024-09-01",
          "2024-10-01",
          "2024-11-01",
          "2024-12-01"
         ],
         "xaxis": "x",
         "y": {
          "bdata": "swAAALUAAADGAAAA1AAAAMgAAADUAAAAzQAAANQAAADAAAAAzwAAAL4AAAC8AAAA0AAAAK4AAAC7AAAAwAAAAL4AAAC8AAAAwQAAALcAAAC4AAAAuwAAALEAAAC9AAAAqwAAAJIAAACoAAAAnAAAAHkAAACLAAAApQAAAJ0AAACxAAAAtwAAAKUAAACjAAAAiAAAAI8AAACXAAAAxQAAANEAAADgAAAAzwAAAL8AAAC+AAAArgAAAKsAAADCAAAA9AAAAOkAAAAFAQAAAwEAAO0AAADoAAAAvwAAAMcAAAC4AAAAtQAAALoAAAC4AAAArQAAAJkAAADGAAAAxgAAAM0AAADIAAAAuQAAAMIAAACrAAAAsQAAAK8AAACuAAAAzAAAALEAAADKAAAAvQAAAMkAAAC8AAAAzwAAANoAAADPAAAA0wAAAMQAAAC2AAAA",
          "dtype": "u4"
         },
         "yaxis": "y"
        },
        {
         "hovertemplate": "Port=NW Seaport Alliance<br>=%{x}<br>Number of Calls per Month=%{y}<extra></extra>",
         "legendgroup": "NW Seaport Alliance",
         "line": {
          "color": "blue",
          "dash": "solid"
         },
         "marker": {
          "symbol": "circle"
         },
         "mode": "lines",
         "name": "NW Seaport Alliance",
         "orientation": "v",
         "showlegend": true,
         "type": "scatter",
         "x": [
          "2018-01-01",
          "2018-02-01",
          "2018-03-01",
          "2018-04-01",
          "2018-05-01",
          "2018-06-01",
          "2018-07-01",
          "2018-08-01",
          "2018-09-01",
          "2018-10-01",
          "2018-11-01",
          "2018-12-01",
          "2019-01-01",
          "2019-02-01",
          "2019-03-01",
          "2019-04-01",
          "2019-05-01",
          "2019-06-01",
          "2019-07-01",
          "2019-08-01",
          "2019-09-01",
          "2019-10-01",
          "2019-11-01",
          "2019-12-01",
          "2020-01-01",
          "2020-02-01",
          "2020-03-01",
          "2020-04-01",
          "2020-05-01",
          "2020-06-01",
          "2020-07-01",
          "2020-08-01",
          "2020-09-01",
          "2020-10-01",
          "2020-11-01",
          "2020-12-01",
          "2021-01-01",
          "2021-02-01",
          "2021-03-01",
          "2021-04-01",
          "2021-05-01",
          "2021-06-01",
          "2021-07-01",
          "2021-08-01",
          "2021-09-01",
          "2021-10-01",
          "2021-11-01",
          "2021-12-01",
          "2022-01-01",
          "2022-02-01",
          "2022-03-01",
          "2022-04-01",
          "2022-05-01",
          "2022-06-01",
          "2022-07-01",
          "2022-08-01",
          "2022-09-01",
          "2022-10-01",
          "2022-11-01",
          "2022-12-01",
          "2023-01-01",
          "2023-02-01",
          "2023-03-01",
          "2023-04-01",
          "2023-05-01",
          "2023-06-01",
          "2023-07-01",
          "2023-08-01",
          "2023-09-01",
          "2023-10-01",
          "2023-11-01",
          "2023-12-01",
          "2024-01-01",
          "2024-02-01",
          "2024-03-01",
          "2024-04-01",
          "2024-05-01",
          "2024-06-01",
          "2024-07-01",
          "2024-08-01",
          "2024-09-01",
          "2024-10-01",
          "2024-11-01",
          "2024-12-01"
         ],
         "xaxis": "x",
         "y": {
          "bdata": "QAAAADgAAAA2AAAANQAAADcAAAA3AAAANwAAAC0AAAAuAAAAIwAAACsAAAA0AAAALQAAACcAAAAvAAAALgAAACwAAAAhAAAAJgAAACIAAAAeAAAAJAAAACwAAAAnAAAAKQAAAC8AAAAoAAAAMQAAAC0AAAAkAAAAKwAAADEAAAAyAAAAKwAAACMAAAAmAAAAJAAAABoAAAAbAAAAJQAAACUAAAAkAAAANQAAABgAAAAhAAAAKgAAACwAAAAhAAAAKQAAACYAAAArAAAAKQAAAC4AAAAwAAAALAAAACYAAAAkAAAAMwAAACsAAAAmAAAAIgAAACIAAAAjAAAALgAAACUAAAAlAAAAKQAAAB4AAAAoAAAAKwAAACQAAAAhAAAAIgAAACQAAAApAAAAJAAAAC4AAAAtAAAAJAAAAC0AAAArAAAAKwAAACsAAAAfAAAA",
          "dtype": "u4"
         },
         "yaxis": "y"
        }
       ],
       "layout": {
        "legend": {
         "title": {
          "text": "Port"
         },
         "tracegroupgap": 0
        },
        "template": {
         "data": {
          "bar": [
           {
            "error_x": {
             "color": "#2a3f5f"
            },
            "error_y": {
             "color": "#2a3f5f"
            },
            "marker": {
             "line": {
              "color": "#E5ECF6",
              "width": 0.5
             },
             "pattern": {
              "fillmode": "overlay",
              "size": 10,
              "solidity": 0.2
             }
            },
            "type": "bar"
           }
          ],
          "barpolar": [
           {
            "marker": {
             "line": {
              "color": "#E5ECF6",
              "width": 0.5
             },
             "pattern": {
              "fillmode": "overlay",
              "size": 10,
              "solidity": 0.2
             }
            },
            "type": "barpolar"
           }
          ],
          "carpet": [
           {
            "aaxis": {
             "endlinecolor": "#2a3f5f",
             "gridcolor": "white",
             "linecolor": "white",
             "minorgridcolor": "white",
             "startlinecolor": "#2a3f5f"
            },
            "baxis": {
             "endlinecolor": "#2a3f5f",
             "gridcolor": "white",
             "linecolor": "white",
             "minorgridcolor": "white",
             "startlinecolor": "#2a3f5f"
            },
            "type": "carpet"
           }
          ],
          "choropleth": [
           {
            "colorbar": {
             "outlinewidth": 0,
             "ticks": ""
            },
            "type": "choropleth"
           }
          ],
          "contour": [
           {
            "colorbar": {
             "outlinewidth": 0,
             "ticks": ""
            },
            "colorscale": [
             [
              0,
              "#0d0887"
             ],
             [
              0.1111111111111111,
              "#46039f"
             ],
             [
              0.2222222222222222,
              "#7201a8"
             ],
             [
              0.3333333333333333,
              "#9c179e"
             ],
             [
              0.4444444444444444,
              "#bd3786"
             ],
             [
              0.5555555555555556,
              "#d8576b"
             ],
             [
              0.6666666666666666,
              "#ed7953"
             ],
             [
              0.7777777777777778,
              "#fb9f3a"
             ],
             [
              0.8888888888888888,
              "#fdca26"
             ],
             [
              1,
              "#f0f921"
             ]
            ],
            "type": "contour"
           }
          ],
          "contourcarpet": [
           {
            "colorbar": {
             "outlinewidth": 0,
             "ticks": ""
            },
            "type": "contourcarpet"
           }
          ],
          "heatmap": [
           {
            "colorbar": {
             "outlinewidth": 0,
             "ticks": ""
            },
            "colorscale": [
             [
              0,
              "#0d0887"
             ],
             [
              0.1111111111111111,
              "#46039f"
             ],
             [
              0.2222222222222222,
              "#7201a8"
             ],
             [
              0.3333333333333333,
              "#9c179e"
             ],
             [
              0.4444444444444444,
              "#bd3786"
             ],
             [
              0.5555555555555556,
              "#d8576b"
             ],
             [
              0.6666666666666666,
              "#ed7953"
             ],
             [
              0.7777777777777778,
              "#fb9f3a"
             ],
             [
              0.8888888888888888,
              "#fdca26"
             ],
             [
              1,
              "#f0f921"
             ]
            ],
            "type": "heatmap"
           }
          ],
          "histogram": [
           {
            "marker": {
             "pattern": {
              "fillmode": "overlay",
              "size": 10,
              "solidity": 0.2
             }
            },
            "type": "histogram"
           }
          ],
          "histogram2d": [
           {
            "colorbar": {
             "outlinewidth": 0,
             "ticks": ""
            },
            "colorscale": [
             [
              0,
              "#0d0887"
             ],
             [
              0.1111111111111111,
              "#46039f"
             ],
             [
              0.2222222222222222,
              "#7201a8"
             ],
             [
              0.3333333333333333,
              "#9c179e"
             ],
             [
              0.4444444444444444,
              "#bd3786"
             ],
             [
              0.5555555555555556,
              "#d8576b"
             ],
             [
              0.6666666666666666,
              "#ed7953"
             ],
             [
              0.7777777777777778,
              "#fb9f3a"
             ],
             [
              0.8888888888888888,
              "#fdca26"
             ],
             [
              1,
              "#f0f921"
             ]
            ],
            "type": "histogram2d"
           }
          ],
          "histogram2dcontour": [
           {
            "colorbar": {
             "outlinewidth": 0,
             "ticks": ""
            },
            "colorscale": [
             [
              0,
              "#0d0887"
             ],
             [
              0.1111111111111111,
              "#46039f"
             ],
             [
              0.2222222222222222,
              "#7201a8"
             ],
             [
              0.3333333333333333,
              "#9c179e"
             ],
             [
              0.4444444444444444,
              "#bd3786"
             ],
             [
              0.5555555555555556,
              "#d8576b"
             ],
             [
              0.6666666666666666,
              "#ed7953"
             ],
             [
              0.7777777777777778,
              "#fb9f3a"
             ],
             [
              0.8888888888888888,
              "#fdca26"
             ],
             [
              1,
              "#f0f921"
             ]
            ],
            "type": "histogram2dcontour"
           }
          ],
          "mesh3d": [
           {
            "colorbar": {
             "outlinewidth": 0,
             "ticks": ""
            },
            "type": "mesh3d"
           }
          ],
          "parcoords": [
           {
            "line": {
             "colorbar": {
              "outlinewidth": 0,
              "ticks": ""
             }
            },
            "type": "parcoords"
           }
          ],
          "pie": [
           {
            "automargin": true,
            "type": "pie"
           }
          ],
          "scatter": [
           {
            "fillpattern": {
             "fillmode": "overlay",
             "size": 10,
             "solidity": 0.2
            },
            "type": "scatter"
           }
          ],
          "scatter3d": [
           {
            "line": {
             "colorbar": {
              "outlinewidth": 0,
              "ticks": ""
             }
            },
            "marker": {
             "colorbar": {
              "outlinewidth": 0,
              "ticks": ""
             }
            },
            "type": "scatter3d"
           }
          ],
          "scattercarpet": [
           {
            "marker": {
             "colorbar": {
              "outlinewidth": 0,
              "ticks": ""
             }
            },
            "type": "scattercarpet"
           }
          ],
          "scattergeo": [
           {
            "marker": {
             "colorbar": {
              "outlinewidth": 0,
              "ticks": ""
             }
            },
            "type": "scattergeo"
           }
          ],
          "scattergl": [
           {
            "marker": {
             "colorbar": {
              "outlinewidth": 0,
              "ticks": ""
             }
            },
            "type": "scattergl"
           }
          ],
          "scattermap": [
           {
            "marker": {
             "colorbar": {
              "outlinewidth": 0,
              "ticks": ""
             }
            },
            "type": "scattermap"
           }
          ],
          "scattermapbox": [
           {
            "marker": {
             "colorbar": {
              "outlinewidth": 0,
              "ticks": ""
             }
            },
            "type": "scattermapbox"
           }
          ],
          "scatterpolar": [
           {
            "marker": {
             "colorbar": {
              "outlinewidth": 0,
              "ticks": ""
             }
            },
            "type": "scatterpolar"
           }
          ],
          "scatterpolargl": [
           {
            "marker": {
             "colorbar": {
              "outlinewidth": 0,
              "ticks": ""
             }
            },
            "type": "scatterpolargl"
           }
          ],
          "scatterternary": [
           {
            "marker": {
             "colorbar": {
              "outlinewidth": 0,
              "ticks": ""
             }
            },
            "type": "scatterternary"
           }
          ],
          "surface": [
           {
            "colorbar": {
             "outlinewidth": 0,
             "ticks": ""
            },
            "colorscale": [
             [
              0,
              "#0d0887"
             ],
             [
              0.1111111111111111,
              "#46039f"
             ],
             [
              0.2222222222222222,
              "#7201a8"
             ],
             [
              0.3333333333333333,
              "#9c179e"
             ],
             [
              0.4444444444444444,
              "#bd3786"
             ],
             [
              0.5555555555555556,
              "#d8576b"
             ],
             [
              0.6666666666666666,
              "#ed7953"
             ],
             [
              0.7777777777777778,
              "#fb9f3a"
             ],
             [
              0.8888888888888888,
              "#fdca26"
             ],
             [
              1,
              "#f0f921"
             ]
            ],
            "type": "surface"
           }
          ],
          "table": [
           {
            "cells": {
             "fill": {
              "color": "#EBF0F8"
             },
             "line": {
              "color": "white"
             }
            },
            "header": {
             "fill": {
              "color": "#C8D4E3"
             },
             "line": {
              "color": "white"
             }
            },
            "type": "table"
           }
          ]
         },
         "layout": {
          "annotationdefaults": {
           "arrowcolor": "#2a3f5f",
           "arrowhead": 0,
           "arrowwidth": 1
          },
          "autotypenumbers": "strict",
          "coloraxis": {
           "colorbar": {
            "outlinewidth": 0,
            "ticks": ""
           }
          },
          "colorscale": {
           "diverging": [
            [
             0,
             "#8e0152"
            ],
            [
             0.1,
             "#c51b7d"
            ],
            [
             0.2,
             "#de77ae"
            ],
            [
             0.3,
             "#f1b6da"
            ],
            [
             0.4,
             "#fde0ef"
            ],
            [
             0.5,
             "#f7f7f7"
            ],
            [
             0.6,
             "#e6f5d0"
            ],
            [
             0.7,
             "#b8e186"
            ],
            [
             0.8,
             "#7fbc41"
            ],
            [
             0.9,
             "#4d9221"
            ],
            [
             1,
             "#276419"
            ]
           ],
           "sequential": [
            [
             0,
             "#0d0887"
            ],
            [
             0.1111111111111111,
             "#46039f"
            ],
            [
             0.2222222222222222,
             "#7201a8"
            ],
            [
             0.3333333333333333,
             "#9c179e"
            ],
            [
             0.4444444444444444,
             "#bd3786"
            ],
            [
             0.5555555555555556,
             "#d8576b"
            ],
            [
             0.6666666666666666,
             "#ed7953"
            ],
            [
             0.7777777777777778,
             "#fb9f3a"
            ],
            [
             0.8888888888888888,
             "#fdca26"
            ],
            [
             1,
             "#f0f921"
            ]
           ],
           "sequentialminus": [
            [
             0,
             "#0d0887"
            ],
            [
             0.1111111111111111,
             "#46039f"
            ],
            [
             0.2222222222222222,
             "#7201a8"
            ],
            [
             0.3333333333333333,
             "#9c179e"
            ],
            [
             0.4444444444444444,
             "#bd3786"
            ],
            [
             0.5555555555555556,
             "#d8576b"
            ],
            [
             0.6666666666666666,
             "#ed7953"
            ],
            [
             0.7777777777777778,
             "#fb9f3a"
            ],
            [
             0.8888888888888888,
             "#fdca26"
            ],
            [
             1,
             "#f0f921"
            ]
           ]
          },
          "colorway": [
           "#636efa",
           "#EF553B",
           "#00cc96",
           "#ab63fa",
           "#FFA15A",
           "#19d3f3",
           "#FF6692",
           "#B6E880",
           "#FF97FF",
           "#FECB52"
          ],
          "font": {
           "color": "#2a3f5f"
          },
          "geo": {
           "bgcolor": "white",
           "lakecolor": "white",
           "landcolor": "#E5ECF6",
           "showlakes": true,
           "showland": true,
           "subunitcolor": "white"
          },
          "hoverlabel": {
           "align": "left"
          },
          "hovermode": "closest",
          "mapbox": {
           "style": "light"
          },
          "paper_bgcolor": "white",
          "plot_bgcolor": "#E5ECF6",
          "polar": {
           "angularaxis": {
            "gridcolor": "white",
            "linecolor": "white",
            "ticks": ""
           },
           "bgcolor": "#E5ECF6",
           "radialaxis": {
            "gridcolor": "white",
            "linecolor": "white",
            "ticks": ""
           }
          },
          "scene": {
           "xaxis": {
            "backgroundcolor": "#E5ECF6",
            "gridcolor": "white",
            "gridwidth": 2,
            "linecolor": "white",
            "showbackground": true,
            "ticks": "",
            "zerolinecolor": "white"
           },
           "yaxis": {
            "backgroundcolor": "#E5ECF6",
            "gridcolor": "white",
            "gridwidth": 2,
            "linecolor": "white",
            "showbackground": true,
            "ticks": "",
            "zerolinecolor": "white"
           },
           "zaxis": {
            "backgroundcolor": "#E5ECF6",
            "gridcolor": "white",
            "gridwidth": 2,
            "linecolor": "white",
            "showbackground": true,
            "ticks": "",
            "zerolinecolor": "white"
           }
          },
          "shapedefaults": {
           "line": {
            "color": "#2a3f5f"
           }
          },
          "ternary": {
           "aaxis": {
            "gridcolor": "white",
            "linecolor": "white",
            "ticks": ""
           },
           "baxis": {
            "gridcolor": "white",
            "linecolor": "white",
            "ticks": ""
           },
           "bgcolor": "#E5ECF6",
           "caxis": {
            "gridcolor": "white",
            "linecolor": "white",
            "ticks": ""
           }
          },
          "title": {
           "x": 0.05
          },
          "xaxis": {
           "automargin": true,
           "gridcolor": "white",
           "linecolor": "white",
           "ticks": "",
           "title": {
            "standoff": 15
           },
           "zerolinecolor": "white",
           "zerolinewidth": 2
          },
          "yaxis": {
           "automargin": true,
           "gridcolor": "white",
           "linecolor": "white",
           "ticks": "",
           "title": {
            "standoff": 15
           },
           "zerolinecolor": "white",
           "zerolinewidth": 2
          }
         }
        },
        "title": {
         "text": "Total Calls at Principal Ports"
        },
        "xaxis": {
         "anchor": "y",
         "domain": [
          0,
          1
         ],
         "title": {
          "text": ""
         }
        },
        "yaxis": {
         "anchor": "x",
         "domain": [
          0,
          1
         ],
         "title": {
          "text": "Number of Calls per Month"
         }
        }
       }
      }
     },
     "metadata": {},
     "output_type": "display_data"
    }
   ],
   "source": [
    "plot_line_count(\n",
    "        df=calls_df, cat_group='port_group', time_col='month',\n",
    "        y_col='hrs_at_berth', y_col_alias='Number of Calls per Month',\n",
    "        title='Total Calls at Principal Ports', width=None, height=None,\n",
    "        labels={'port_group':'Port', 'month':''},\n",
    "        cat_limit=10, cat_limit_col='hrs_at_berth',\n",
    "        highlight='NW Seaport Alliance', highlight_color='blue'\n",
    "    )"
   ]
  },
  {
   "cell_type": "markdown",
   "id": "162b1ad0",
   "metadata": {},
   "source": [
    "Reality check here?"
   ]
  },
  {
   "cell_type": "markdown",
   "id": "2d8724cd",
   "metadata": {},
   "source": [
    "### Dock-level Visualizations"
   ]
  },
  {
   "cell_type": "code",
   "execution_count": 99,
   "id": "835ce6a5",
   "metadata": {},
   "outputs": [
    {
     "name": "stderr",
     "output_type": "stream",
     "text": [
      "/var/folders/dc/sgfd2dls28n4y4v4_jw03ly40000gp/T/ipykernel_2732/2422213061.py:85: DeprecationWarning:\n",
      "\n",
      "*scatter_mapbox* is deprecated! Use *scatter_map* instead. Learn more at: https://plotly.com/python/mapbox-to-maplibre/\n",
      "\n"
     ]
    },
    {
     "data": {
      "application/vnd.plotly.v1+json": {
       "config": {
        "plotlyServerURL": "https://plot.ly"
       },
       "data": [
        {
         "hovertemplate": "<b>%{hovertext}</b><br><br>Mean Hours at Berth=%{marker.size}<br>dock_lat=%{lat}<br>dock_lon=%{lon}<br>Mean Hours at Anchor=%{marker.color}<extra></extra>",
         "hovertext": [
          "TERMINAL 5 SEATTLE, SSA MARINE",
          "OPEN WATER-BUOYS & DOLPHINS",
          "B P OIL CO., SEATTLE TERMINAL, PIER NO. 11",
          "PIER 34",
          "PACIFIC TERMINALS LTD., WHARVES",
          "SSA TERMINALS, TERMINAL 25 WHARF",
          "BIRMINGHAM STEEL CORP., TERMINAL 105, BERTH NO. 1",
          "U. S. COAST GUARD, PIER 35",
          "SSA TERMINALS, TERMINAL 18, BERTH 7",
          "TRANS PACIFIC CONTAINER SERVICE CORP., TERMINAL 30 WHARF",
          "CROWLEY MARINE SERVICES, PIER 17",
          "S S A TERMINALS, TERMINAL 18, BERTHS 2-6",
          "Birmingham Steel Corp., Terminal 105, Berth No. 2.",
          "TOTAL TERMINALS, TERMINAL 46 WHARF",
          "SSA TERMINALS, TERMINAL 37 WHARF",
          "ELLIOTT BAY GENERAL ANCHORAGE",
          "CRANE DOCK PIER 20",
          "CROWLEY MARITIME, TERMINAL 28 WHARF",
          "RAINER COLD STORAGE & ICE, TERMINAL 25 SOUTH WHARF",
          "TODD PACIFIC SHIPYARDS CORP., BERTHS F-K, PIERS NO. 4-6"
         ],
         "lat": {
          "bdata": "0s8NTdnJR0AyCFdAocpHQMP1KFyPykdAiZwwYTTLR0BkRNsxdclHQCiCqtGryUdAvB6F61HIR0BwaafmcstHQNPuVwG+yUdAVjdQ4J3KR0DxUbgehctHQA4t6/6xykdARnQIHAnIR0AszZGVX8xHQGT8NO7Ny0dAZDyDhv7LR0DbEiujkclHQItStHIvykdAbWMl5lnJR0CIXvHUI8tHQA==",
          "dtype": "f8"
         },
         "legendgroup": "",
         "lon": {
          "bdata": "TVuU2SCXXsArjnVxG5dewCvL8+Dull7AbQlrY+yVXsAlzNHj95ZewB65/If0lV7Aio7HDFSWXsAeufyH9JVewGj+JhQill7ARrSrkPKVXsB1sP7PYZZewLfMP/omll7As0NRoE+WXsC+lQm/1JVewGW4HoXrlV7AlIAKR5CWXsBdOSUgJpZewL+Ee2XelV7A/G9CIQKWXsDFc7aA0JZewA==",
          "dtype": "f8"
         },
         "marker": {
          "color": {
           "bdata": "JDdyIzfiF0BXHpCscwU1QCIiIiIiogZAJaiesYt3FkAAAAAAAAAAAAAAAAAAAAAAZmZmZmYmPkAqXI/C9WgwQAjrFtW34xFAvn8LBva2E0AAAAAAAAAAAGFY+qhkGiNAH4XrUbieLUB/WKQMPN0TQP9jYNeAqAdAeHd3d3e3PEAAAAAAAAAAAAAAAAAAAAAAAAAAAAAAAAAAAAAAAAAAAA==",
           "dtype": "f8"
          },
          "coloraxis": "coloraxis",
          "size": {
           "bdata": "1Uqt1Ep9RkAk61x5QLJGQCIiIiIiIjJAM2r42xQJSUCamZmZmRk0QDQzMzMz419AiIiIiIiMZ0CjcD0K17NHQPM8z/M8DztAOUKezNSsPUBERERERHRYQGw2LfXKdEhAdbn9QYZaX0DOlQck6xxDQNWsyRHGyEZAzMzMzMwMMEDKL5b8YjlQQDMzMzMz8zJAzczMzMycUUAzMzMzMzNGQA==",
           "dtype": "f8"
          },
          "sizemode": "area",
          "sizeref": 0.4709791666666666
         },
         "mode": "markers",
         "name": "",
         "showlegend": false,
         "subplot": "mapbox",
         "type": "scattermapbox"
        }
       ],
       "layout": {
        "coloraxis": {
         "cmax": 26.798020246231513,
         "cmin": -11.557948610759343,
         "colorbar": {
          "title": {
           "text": "Mean Hours at Anchor"
          }
         },
         "colorscale": [
          [
           0,
           "#440154"
          ],
          [
           0.1111111111111111,
           "#482878"
          ],
          [
           0.2222222222222222,
           "#3e4989"
          ],
          [
           0.3333333333333333,
           "#31688e"
          ],
          [
           0.4444444444444444,
           "#26828e"
          ],
          [
           0.5555555555555556,
           "#1f9e89"
          ],
          [
           0.6666666666666666,
           "#35b779"
          ],
          [
           0.7777777777777778,
           "#6ece58"
          ],
          [
           0.8888888888888888,
           "#b5de2b"
          ],
          [
           1,
           "#fde725"
          ]
         ]
        },
        "height": 600,
        "legend": {
         "itemsizing": "constant",
         "tracegroupgap": 0
        },
        "mapbox": {
         "center": {
          "lat": 47.58131575000006,
          "lon": -122.34873449999995
         },
         "domain": {
          "x": [
           0,
           1
          ],
          "y": [
           0,
           1
          ]
         },
         "style": "carto-positron",
         "zoom": 11.883039123510514
        },
        "template": {
         "data": {
          "bar": [
           {
            "error_x": {
             "color": "#2a3f5f"
            },
            "error_y": {
             "color": "#2a3f5f"
            },
            "marker": {
             "line": {
              "color": "#E5ECF6",
              "width": 0.5
             },
             "pattern": {
              "fillmode": "overlay",
              "size": 10,
              "solidity": 0.2
             }
            },
            "type": "bar"
           }
          ],
          "barpolar": [
           {
            "marker": {
             "line": {
              "color": "#E5ECF6",
              "width": 0.5
             },
             "pattern": {
              "fillmode": "overlay",
              "size": 10,
              "solidity": 0.2
             }
            },
            "type": "barpolar"
           }
          ],
          "carpet": [
           {
            "aaxis": {
             "endlinecolor": "#2a3f5f",
             "gridcolor": "white",
             "linecolor": "white",
             "minorgridcolor": "white",
             "startlinecolor": "#2a3f5f"
            },
            "baxis": {
             "endlinecolor": "#2a3f5f",
             "gridcolor": "white",
             "linecolor": "white",
             "minorgridcolor": "white",
             "startlinecolor": "#2a3f5f"
            },
            "type": "carpet"
           }
          ],
          "choropleth": [
           {
            "colorbar": {
             "outlinewidth": 0,
             "ticks": ""
            },
            "type": "choropleth"
           }
          ],
          "contour": [
           {
            "colorbar": {
             "outlinewidth": 0,
             "ticks": ""
            },
            "colorscale": [
             [
              0,
              "#0d0887"
             ],
             [
              0.1111111111111111,
              "#46039f"
             ],
             [
              0.2222222222222222,
              "#7201a8"
             ],
             [
              0.3333333333333333,
              "#9c179e"
             ],
             [
              0.4444444444444444,
              "#bd3786"
             ],
             [
              0.5555555555555556,
              "#d8576b"
             ],
             [
              0.6666666666666666,
              "#ed7953"
             ],
             [
              0.7777777777777778,
              "#fb9f3a"
             ],
             [
              0.8888888888888888,
              "#fdca26"
             ],
             [
              1,
              "#f0f921"
             ]
            ],
            "type": "contour"
           }
          ],
          "contourcarpet": [
           {
            "colorbar": {
             "outlinewidth": 0,
             "ticks": ""
            },
            "type": "contourcarpet"
           }
          ],
          "heatmap": [
           {
            "colorbar": {
             "outlinewidth": 0,
             "ticks": ""
            },
            "colorscale": [
             [
              0,
              "#0d0887"
             ],
             [
              0.1111111111111111,
              "#46039f"
             ],
             [
              0.2222222222222222,
              "#7201a8"
             ],
             [
              0.3333333333333333,
              "#9c179e"
             ],
             [
              0.4444444444444444,
              "#bd3786"
             ],
             [
              0.5555555555555556,
              "#d8576b"
             ],
             [
              0.6666666666666666,
              "#ed7953"
             ],
             [
              0.7777777777777778,
              "#fb9f3a"
             ],
             [
              0.8888888888888888,
              "#fdca26"
             ],
             [
              1,
              "#f0f921"
             ]
            ],
            "type": "heatmap"
           }
          ],
          "histogram": [
           {
            "marker": {
             "pattern": {
              "fillmode": "overlay",
              "size": 10,
              "solidity": 0.2
             }
            },
            "type": "histogram"
           }
          ],
          "histogram2d": [
           {
            "colorbar": {
             "outlinewidth": 0,
             "ticks": ""
            },
            "colorscale": [
             [
              0,
              "#0d0887"
             ],
             [
              0.1111111111111111,
              "#46039f"
             ],
             [
              0.2222222222222222,
              "#7201a8"
             ],
             [
              0.3333333333333333,
              "#9c179e"
             ],
             [
              0.4444444444444444,
              "#bd3786"
             ],
             [
              0.5555555555555556,
              "#d8576b"
             ],
             [
              0.6666666666666666,
              "#ed7953"
             ],
             [
              0.7777777777777778,
              "#fb9f3a"
             ],
             [
              0.8888888888888888,
              "#fdca26"
             ],
             [
              1,
              "#f0f921"
             ]
            ],
            "type": "histogram2d"
           }
          ],
          "histogram2dcontour": [
           {
            "colorbar": {
             "outlinewidth": 0,
             "ticks": ""
            },
            "colorscale": [
             [
              0,
              "#0d0887"
             ],
             [
              0.1111111111111111,
              "#46039f"
             ],
             [
              0.2222222222222222,
              "#7201a8"
             ],
             [
              0.3333333333333333,
              "#9c179e"
             ],
             [
              0.4444444444444444,
              "#bd3786"
             ],
             [
              0.5555555555555556,
              "#d8576b"
             ],
             [
              0.6666666666666666,
              "#ed7953"
             ],
             [
              0.7777777777777778,
              "#fb9f3a"
             ],
             [
              0.8888888888888888,
              "#fdca26"
             ],
             [
              1,
              "#f0f921"
             ]
            ],
            "type": "histogram2dcontour"
           }
          ],
          "mesh3d": [
           {
            "colorbar": {
             "outlinewidth": 0,
             "ticks": ""
            },
            "type": "mesh3d"
           }
          ],
          "parcoords": [
           {
            "line": {
             "colorbar": {
              "outlinewidth": 0,
              "ticks": ""
             }
            },
            "type": "parcoords"
           }
          ],
          "pie": [
           {
            "automargin": true,
            "type": "pie"
           }
          ],
          "scatter": [
           {
            "fillpattern": {
             "fillmode": "overlay",
             "size": 10,
             "solidity": 0.2
            },
            "type": "scatter"
           }
          ],
          "scatter3d": [
           {
            "line": {
             "colorbar": {
              "outlinewidth": 0,
              "ticks": ""
             }
            },
            "marker": {
             "colorbar": {
              "outlinewidth": 0,
              "ticks": ""
             }
            },
            "type": "scatter3d"
           }
          ],
          "scattercarpet": [
           {
            "marker": {
             "colorbar": {
              "outlinewidth": 0,
              "ticks": ""
             }
            },
            "type": "scattercarpet"
           }
          ],
          "scattergeo": [
           {
            "marker": {
             "colorbar": {
              "outlinewidth": 0,
              "ticks": ""
             }
            },
            "type": "scattergeo"
           }
          ],
          "scattergl": [
           {
            "marker": {
             "colorbar": {
              "outlinewidth": 0,
              "ticks": ""
             }
            },
            "type": "scattergl"
           }
          ],
          "scattermap": [
           {
            "marker": {
             "colorbar": {
              "outlinewidth": 0,
              "ticks": ""
             }
            },
            "type": "scattermap"
           }
          ],
          "scattermapbox": [
           {
            "marker": {
             "colorbar": {
              "outlinewidth": 0,
              "ticks": ""
             }
            },
            "type": "scattermapbox"
           }
          ],
          "scatterpolar": [
           {
            "marker": {
             "colorbar": {
              "outlinewidth": 0,
              "ticks": ""
             }
            },
            "type": "scatterpolar"
           }
          ],
          "scatterpolargl": [
           {
            "marker": {
             "colorbar": {
              "outlinewidth": 0,
              "ticks": ""
             }
            },
            "type": "scatterpolargl"
           }
          ],
          "scatterternary": [
           {
            "marker": {
             "colorbar": {
              "outlinewidth": 0,
              "ticks": ""
             }
            },
            "type": "scatterternary"
           }
          ],
          "surface": [
           {
            "colorbar": {
             "outlinewidth": 0,
             "ticks": ""
            },
            "colorscale": [
             [
              0,
              "#0d0887"
             ],
             [
              0.1111111111111111,
              "#46039f"
             ],
             [
              0.2222222222222222,
              "#7201a8"
             ],
             [
              0.3333333333333333,
              "#9c179e"
             ],
             [
              0.4444444444444444,
              "#bd3786"
             ],
             [
              0.5555555555555556,
              "#d8576b"
             ],
             [
              0.6666666666666666,
              "#ed7953"
             ],
             [
              0.7777777777777778,
              "#fb9f3a"
             ],
             [
              0.8888888888888888,
              "#fdca26"
             ],
             [
              1,
              "#f0f921"
             ]
            ],
            "type": "surface"
           }
          ],
          "table": [
           {
            "cells": {
             "fill": {
              "color": "#EBF0F8"
             },
             "line": {
              "color": "white"
             }
            },
            "header": {
             "fill": {
              "color": "#C8D4E3"
             },
             "line": {
              "color": "white"
             }
            },
            "type": "table"
           }
          ]
         },
         "layout": {
          "annotationdefaults": {
           "arrowcolor": "#2a3f5f",
           "arrowhead": 0,
           "arrowwidth": 1
          },
          "autotypenumbers": "strict",
          "coloraxis": {
           "colorbar": {
            "outlinewidth": 0,
            "ticks": ""
           }
          },
          "colorscale": {
           "diverging": [
            [
             0,
             "#8e0152"
            ],
            [
             0.1,
             "#c51b7d"
            ],
            [
             0.2,
             "#de77ae"
            ],
            [
             0.3,
             "#f1b6da"
            ],
            [
             0.4,
             "#fde0ef"
            ],
            [
             0.5,
             "#f7f7f7"
            ],
            [
             0.6,
             "#e6f5d0"
            ],
            [
             0.7,
             "#b8e186"
            ],
            [
             0.8,
             "#7fbc41"
            ],
            [
             0.9,
             "#4d9221"
            ],
            [
             1,
             "#276419"
            ]
           ],
           "sequential": [
            [
             0,
             "#0d0887"
            ],
            [
             0.1111111111111111,
             "#46039f"
            ],
            [
             0.2222222222222222,
             "#7201a8"
            ],
            [
             0.3333333333333333,
             "#9c179e"
            ],
            [
             0.4444444444444444,
             "#bd3786"
            ],
            [
             0.5555555555555556,
             "#d8576b"
            ],
            [
             0.6666666666666666,
             "#ed7953"
            ],
            [
             0.7777777777777778,
             "#fb9f3a"
            ],
            [
             0.8888888888888888,
             "#fdca26"
            ],
            [
             1,
             "#f0f921"
            ]
           ],
           "sequentialminus": [
            [
             0,
             "#0d0887"
            ],
            [
             0.1111111111111111,
             "#46039f"
            ],
            [
             0.2222222222222222,
             "#7201a8"
            ],
            [
             0.3333333333333333,
             "#9c179e"
            ],
            [
             0.4444444444444444,
             "#bd3786"
            ],
            [
             0.5555555555555556,
             "#d8576b"
            ],
            [
             0.6666666666666666,
             "#ed7953"
            ],
            [
             0.7777777777777778,
             "#fb9f3a"
            ],
            [
             0.8888888888888888,
             "#fdca26"
            ],
            [
             1,
             "#f0f921"
            ]
           ]
          },
          "colorway": [
           "#636efa",
           "#EF553B",
           "#00cc96",
           "#ab63fa",
           "#FFA15A",
           "#19d3f3",
           "#FF6692",
           "#B6E880",
           "#FF97FF",
           "#FECB52"
          ],
          "font": {
           "color": "#2a3f5f"
          },
          "geo": {
           "bgcolor": "white",
           "lakecolor": "white",
           "landcolor": "#E5ECF6",
           "showlakes": true,
           "showland": true,
           "subunitcolor": "white"
          },
          "hoverlabel": {
           "align": "left"
          },
          "hovermode": "closest",
          "mapbox": {
           "style": "light"
          },
          "paper_bgcolor": "white",
          "plot_bgcolor": "#E5ECF6",
          "polar": {
           "angularaxis": {
            "gridcolor": "white",
            "linecolor": "white",
            "ticks": ""
           },
           "bgcolor": "#E5ECF6",
           "radialaxis": {
            "gridcolor": "white",
            "linecolor": "white",
            "ticks": ""
           }
          },
          "scene": {
           "xaxis": {
            "backgroundcolor": "#E5ECF6",
            "gridcolor": "white",
            "gridwidth": 2,
            "linecolor": "white",
            "showbackground": true,
            "ticks": "",
            "zerolinecolor": "white"
           },
           "yaxis": {
            "backgroundcolor": "#E5ECF6",
            "gridcolor": "white",
            "gridwidth": 2,
            "linecolor": "white",
            "showbackground": true,
            "ticks": "",
            "zerolinecolor": "white"
           },
           "zaxis": {
            "backgroundcolor": "#E5ECF6",
            "gridcolor": "white",
            "gridwidth": 2,
            "linecolor": "white",
            "showbackground": true,
            "ticks": "",
            "zerolinecolor": "white"
           }
          },
          "shapedefaults": {
           "line": {
            "color": "#2a3f5f"
           }
          },
          "ternary": {
           "aaxis": {
            "gridcolor": "white",
            "linecolor": "white",
            "ticks": ""
           },
           "baxis": {
            "gridcolor": "white",
            "linecolor": "white",
            "ticks": ""
           },
           "bgcolor": "#E5ECF6",
           "caxis": {
            "gridcolor": "white",
            "linecolor": "white",
            "ticks": ""
           }
          },
          "title": {
           "x": 0.05
          },
          "xaxis": {
           "automargin": true,
           "gridcolor": "white",
           "linecolor": "white",
           "ticks": "",
           "title": {
            "standoff": 15
           },
           "zerolinecolor": "white",
           "zerolinewidth": 2
          },
          "yaxis": {
           "automargin": true,
           "gridcolor": "white",
           "linecolor": "white",
           "ticks": "",
           "title": {
            "standoff": 15
           },
           "zerolinecolor": "white",
           "zerolinewidth": 2
          }
         }
        },
        "title": {
         "text": "Hours at Berth vs. Hours at Anchor - Seattle"
        },
        "width": 800
       }
      }
     },
     "metadata": {},
     "output_type": "display_data"
    }
   ],
   "source": [
    "plot_mapbox(df=calls_df, cat_group='dock_name', filter_col='port_name', \n",
    "            filter=['Seattle, WA'],\n",
    "            lat_col='dock_lat', lon_col='dock_lon', size_col='hrs_at_berth', size_col_alias='Mean Hours at Berth',\n",
    "            color_col='hrs_at_anchor', color_col_alias='Mean Hours at Anchor',\n",
    "            size_max=20, color_outlier_z=2,\n",
    "            title='Hours at Berth vs. Hours at Anchor - Seattle', hover_name='dock_name')"
   ]
  },
  {
   "cell_type": "markdown",
   "id": "de8ab8e0",
   "metadata": {},
   "source": [
    "Note current issue with Tacoma Docks not showing up - will fix and re-run. "
   ]
  },
  {
   "cell_type": "code",
   "execution_count": 100,
   "id": "88773b02",
   "metadata": {},
   "outputs": [
    {
     "name": "stderr",
     "output_type": "stream",
     "text": [
      "/var/folders/dc/sgfd2dls28n4y4v4_jw03ly40000gp/T/ipykernel_2732/2422213061.py:85: DeprecationWarning:\n",
      "\n",
      "*scatter_mapbox* is deprecated! Use *scatter_map* instead. Learn more at: https://plotly.com/python/mapbox-to-maplibre/\n",
      "\n"
     ]
    },
    {
     "data": {
      "application/vnd.plotly.v1+json": {
       "config": {
        "plotlyServerURL": "https://plot.ly"
       },
       "data": [
        {
         "hovertemplate": "<b>%{hovertext}</b><br><br>Mean Hours at Berth=%{marker.size}<br>dock_lat=%{lat}<br>dock_lon=%{lon}<br>Mean Hours at Anchor=%{marker.color}<extra></extra>",
         "hovertext": [
          "MORTON SALT CO BERTH F-210",
          "METROPOLITAN STEVEDORE BERTHS G-215, 214, 213&212",
          "Catalina Express, Berth No. 95, Gates 4 and 3.",
          "MUNICIPAL FISH MARKETS WHARF BERTH 72",
          "CHEMOIL TERM CORP BERTH F-209",
          "STEVEDORING SVCS OF AMERICA BERTHS F-207 & 206",
          "RIO DOCE PASHA TERM BERTHS 177, 178 & 179",
          "PORT OF LOS ANGELES BERTH 147",
          "SHELL OIL PRODUCTS CO BERTHS 167-169",
          "EXXON MOBIL CORP., BERTHS 238, 239, 240A, 240B, & 240C",
          "BERTH 406, (CUT) CALIFORNIA UNITED CONTAINER TERMINAL",
          "RIO DOCE PASHA TERM BERTHS 142 & 143",
          "SAN PEDRO BOAT WORKS BERTH 57",
          "RIO DOCE PASHA TERM BERTHS 174, 175 & 176",
          "KOCH CARBON SOUTHERN CALIF TERM BERTH F-211",
          "LONG BEACH CONTAINER TERMINAL, BERTHS F- 10, 9, 8, 7, 6, 5 & 4",
          "MATSON TERMINALS, BERTH C-60, C-61, AND C-62",
          "CEMEX, BERTHS D - 32 &33",
          "HANJIN SHIPPING CO. (LONG BEACH LOGISTICS), BERTHS 132 - 140",
          "INTERNATIONAL TRANSPORTATION SERVICES, PIER G",
          "HIUKA AMERICA CORP BERTHS T-118 & 119",
          "RIO DOCE PASHA TERMINAL BERTH 144, 145 & 146",
          "KAISER INTERNATIONAL CORP BERTHS 49 & 50",
          "WESTWAY TRADING CORP LONG BEACH TERM BERTH J-242",
          "AMERICAN PRESIDENT LINE BERTH 302-305",
          "OPEN WATER HIGH SEAS",
          "CHEMOIL TERM CORP BERTH F-211A",
          "COOPER/T SMITH STEVEDORING CO INC BERTHS F-205&204",
          "TOYOTA VEHICLE PROCESSORS BERTHS B-82 & 83",
          "CATALINA EXPRESS GATES 3 & 4, BERTH 95",
          "CALIFORNIA UNITED TERM BERTHS E-24, 25 & 26",
          "BP TERMINAL SERVICES CORP., BERTHS B 78, 79 & 80",
          "YUSEN TERMINALS BERTHS 212-221",
          "AMERICAN PRESIDENT LINES BERTHS 121-126",
          "S. S. LANE VICTORY BERTH 94",
          "SEA-LAND SVC PAC DIV BERTHS G-230, 229, 228 & 227",
          "BP TERMINAL SERVICES CORP., BERTH B - 77",
          "STEVEDORING SERVICE OF AMERICA BERTHS 54 & 55",
          "GATX TERMINALS CORP BERTHS 171, 172 & 173",
          "U S BORAX BERTHS 165 & 166",
          "PORT OF LOS ANGELES BERTHS 268 PIERS A & B",
          "THUMS Long Beach Co., Berth No. G-216 West Pier.",
          "PACIFIC CONTAINER TERMINAL, BERTHS J-247, 246, 245, 244, 243, & 242",
          "KINDER MORGAN ENERGY PARNERS, BERTHS 118 - 119",
          "S. A. RECYCLING, BERTHS 210 & 211",
          "ANDEAVOR LOGISTICS LP",
          "PACIFIC CONTAINER TERMINAL, BERTHS J - 266, 268 & 270",
          "PORT OF LOS ANGELES BERTH 45 - 47",
          "CALIFORNIA UNITED TERM BERTH D-31A",
          "PORT OF LOS ANGELES BERTH 267A",
          "CITY OF LONG BEACH HARBOR DEPT BERTHS E-14,15 & 16",
          "PORT OF LOS ANGELES BERTHS 153, 154 & 155",
          "EVERPORT TERMINAL SERVICES CONTAINER PORT BERTHS 227-236",
          "BERTH 164 VALERO ENERGY",
          "ARCO WESTERN PIPELINE CO BERTH T-121",
          "SSA TERMINALS (ZIM CONTAINER LINE), BERTHS A - 88, 90, 92 7& 94",
          "MITSUBISHI CEMENT TERMINAL, BERTH F - 208",
          "BERTH 163 NUSTAR ENERGY",
          "VOPAK TERMINAL LONG BEACH, BERTH S - 101",
          "MANSON CONST & ENGINEERING CO BERTHS D-42N & 43",
          "THUMS LONG BEACH CO BERTH G-216",
          "Port of Los Angeles, Berths 270 and 271",
          "CALIFORNIA UNITED TERM BERTH D-33 & 34",
          "AQUARIUM OF THE PACIFIC",
          "CONOCO PHILLIPS, BERTHS 148 & 149",
          "CONOCO PHILLIPS, BERTHS 150 & 151",
          "CHINA SHIPPING CONTANER TERMINAL (WBCT) 101-102"
         ],
         "lat": {
          "bdata": "gBfvx+3fQEAObXL4pN9AQJPoEDgS4EBATndJnBXdQECNNjl80t9AQNw2/kRl30BAH9DSFWzhQEBu0Jfe/uBAQDbJAbua4EBAwmYrL/ndQEA6wTdNn91AQJR6T+W04UBAFEHV6NXcQECzRKD6B+FAQJPoEDgS4EBA8lT5npHgQEDK9Shcj+JAQCs9RQ4R4UBAfvusMlPgQEDcyYtMwN9AQHVjJeZZ4UBAdWMl5lnhQEBl/DTuzdtAQHNMFvcf30BAO51kq8vdQECCUbtfBeBAQJPoEDgS4EBAXLtfBfjeQED73XTLDuNAQNbXnlkS4EBArwYMkj7hQEA0MzMzM+NAQKtzforj4EBAdWMl5lnhQECNNjl80t9AQFHhehSu30BAMxTpfk7jQEBM5LuUutxAQDbJAbua4EBAbtCX3v7gQEA0X9BCAt5AQBXa5PBJ30BA/T6O5sjeQECtksg+yOBAQKq4401+4UBAzsTm49riQEArEaj+Qd5AQK/drwJ820BA8+eGpuzgQEC8R+F6FN5AQPcG0VrR4EBAq3N+iuPgQEAIxvoGJt9AQOOSjnIw4UBA8+eGpuzgQECMoGr0auJAQJNVgzC330BAeYjxmlfhQEBcuB6F6+FAQAq4WbxY4kBA0OpWz0nfQEB7QEtXsN1AQNYwfERM4UBAgSPzyB/gQECtksg+yOBAQHxcVIuI4EBAjc7drpfgQEA=",
          "dtype": "f8"
         },
         "legendgroup": "",
         "lon": {
          "bdata": "Sp4Hd2eNXcAbo3VUNY1dwNp3YtaLkV3AtsH6P4eRXcDvwBw9fo1dwNN2hNOCjV3A9fQtc7qQXcDad2LWi5FdwGc2yCQjkV3A4HaE04KRXcB0SMDo8o9dwFeeB3dnkV3AXeQPBp6RXcDDzMzMzJBdwOl6FK5HjV3A03aE04KNXcCZlufB3Y1dwJmW58HdjV3AmxtEa0WPXcBrh6JAn4xdwGhIv30djl3AGAu1pnmRXcD8wBw9fpFdwBgJwhVQjF3Aa9XKhF+QXcC3dmnDYZFdwP9Y3eo5jV3ACwu1pnmNXcDeb0IhAo5dwObiUwCMkV3AEFG9NbCNXcC3c9L7xo1dwFU+6NmskF3AgJp3nKKRXcC9LcpskJFdwOf0LXO6jF3Acpp3nKKNXcBGBkfJq5FdwACnBS/6kF3AZzbIJCORXcCYtyOcFpBdwFo2yCQjjV3AeYV3uYiMXcANufyH9JFdwCGQoPgxkF3AF3b7rDKOXcBZj8L1KIxdwICad5yikV3A2Ck6ksuNXcC5AN4CCZBdwJDkDwaejV3AzcWKGkyRXcAFVTGVfpFdwCdlNsgkkV3A3m9CIQKOXcBGXyS05Y5dwLeZmZmZjV3AWpNRZRiRXcBDeTvCaY9dwB0DlfHvjV3Au3+CixWNXcCEOXr83pBdwLwn1qnyjV3AqT5XW7GNXcDgdoTTgpFdwI4yOEpekV3A+MnDQq2RXcA=",
          "dtype": "f8"
         },
         "marker": {
          "color": {
           "bdata": "bMEWbIF+UkAYq1TWk4dQQJR1a73YITRA7+7u7u4eWEAGy/UsQFVFQKEdtvTChBlAZHkdxkg9SEDe3d3d3SVEQDEpXiCTIkZACZ/wCZ9wNkBBmbZuOAovQFizFwpaxA9AplzKpVzKFEAgTwnylHBDQJmZmZmZWUpA6Hme53meGkD0n+yKC/TQP0Q3dEM3tCFA7NWq568NLkBqIwWMp1U+QMw4F7933DhA8KksxSGDIEAAAAAAAAAAAEIbV/0DuixAXZ2QoIzlLEA3/ffIIUETQJnMwgAjSk9AeZ7neZ7nLECKnDKuyCkPQFjnygOSNSdAbEoJvDbOC0DZRRCrXeQ9QGpDCriSUilAxOwHhd5nI0AAAAAAAAAAAAAAAAAAAAAAWefKA5K1MUDUCiqtoFIjQKEwUI8NiilA6+UCVWg0U0B1Uj6dlK8xQCJ6mqECGBVAFI+Eb0VRJUAzJl5X8y9BQIE+ogxtnDdAxAeCnRlZSECaX/NOi0QzQO/u7u7uLlVAMzqjMzqj+j+VfvxJUpwrQC2hL2V3eBFAG63RGq2RSkBxME2thq02QBQluzZREkZAtSQzWK0IT0A9f8MHTHAuQHzSJ33S5z9ACbh3sMmtSkAfYWPSEfY6QAJgaM3Yefo/IsuWhJTGF0CwBVuwBXtdQCjGIQTZyClAzpkkpriWA0Ar2IIt2Ig9QLy7u7u7ez5A3gLz6S1QL0A=",
           "dtype": "f8"
          },
          "coloraxis": "coloraxis",
          "size": {
           "bdata": "7u7u7q7VYEBoChuCZ+tRQNOb3vSmt1BAZmZmZmZm1j+6xu1iwgBGQJHNDV7CPzdA5zrLbXjqSEAiIiIiIuZlQBjmI7FhXkNAFz7hEz7hREAtzlh4UUpdQF2F8LpVoGFAghM4gRPoUEAaA6YxYBpMQL27u7u763VA67qu67oeXUBxFvCgYLxIQFIHdVAHLUZA4Sc81Ej7WEBCfnA5XbxQQMXHshsPbllADKP/QI1TXkC8u7u7uzNtQIyr/gF9QFFAP3HDHK3oW0BfxQw6fFpKQACm0wdomVJA0hqt0RrNSkD445dsM3syQNwUo4a/1VRAM46A4aGTVUDclDVlTblPQC77W9JFDFVAV22tPYIMUUAdmGsH5vpDQF2PwvUo3ElAB+EslcSJVUCN0L0I3ctVQHb+qp0cNFdA+NqIdenRVUDdVh1R75hTQPZLVUpmBTxACJ7EEayYV0AM4rAbg1hEQN4ETuAETlJAonBX0FiDTED4UWzmNnNWQImIiIiIRndAYyAGYiCyWUC6/7SaxW5RQNs0HHWYqVNAq6qqqqrqSECv7tpos6RSQAnVEqBQLUdA2R1nPFuWPUCKZUMh/4xCQJQ+6ZM+aTpAMCeWjuB9QkDPrwzU/Eo8QE2aJ443iUBAdMlgPFwgVkD7pE/6pM8lQPiuEhjaIk5A8FxsJdL6V0Adx3Ecx5JGQLy7u7u781hAYD69BebfUUA=",
           "dtype": "f8"
          },
          "sizemode": "area",
          "sizeref": 0.9310208333333334
         },
         "mode": "markers",
         "name": "",
         "showlegend": false,
         "subplot": "mapbox",
         "type": "scattermapbox"
        }
       ],
       "layout": {
        "coloraxis": {
         "cmax": 77.27574633027855,
         "cmin": -24.715965025567357,
         "colorbar": {
          "title": {
           "text": "Mean Hours at Anchor"
          }
         },
         "colorscale": [
          [
           0,
           "#440154"
          ],
          [
           0.1111111111111111,
           "#482878"
          ],
          [
           0.2222222222222222,
           "#3e4989"
          ],
          [
           0.3333333333333333,
           "#31688e"
          ],
          [
           0.4444444444444444,
           "#26828e"
          ],
          [
           0.5555555555555556,
           "#1f9e89"
          ],
          [
           0.6666666666666666,
           "#35b779"
          ],
          [
           0.7777777777777778,
           "#6ece58"
          ],
          [
           0.8888888888888888,
           "#b5de2b"
          ],
          [
           1,
           "#fde725"
          ]
         ]
        },
        "height": 600,
        "legend": {
         "itemsizing": "constant",
         "tracegroupgap": 0
        },
        "mapbox": {
         "center": {
          "lat": 33.75103759701498,
          "lon": -118.240925402985
         },
         "domain": {
          "x": [
           0,
           1
          ],
          "y": [
           0,
           1
          ]
         },
         "style": "carto-positron",
         "zoom": 11.5
        },
        "template": {
         "data": {
          "bar": [
           {
            "error_x": {
             "color": "#2a3f5f"
            },
            "error_y": {
             "color": "#2a3f5f"
            },
            "marker": {
             "line": {
              "color": "#E5ECF6",
              "width": 0.5
             },
             "pattern": {
              "fillmode": "overlay",
              "size": 10,
              "solidity": 0.2
             }
            },
            "type": "bar"
           }
          ],
          "barpolar": [
           {
            "marker": {
             "line": {
              "color": "#E5ECF6",
              "width": 0.5
             },
             "pattern": {
              "fillmode": "overlay",
              "size": 10,
              "solidity": 0.2
             }
            },
            "type": "barpolar"
           }
          ],
          "carpet": [
           {
            "aaxis": {
             "endlinecolor": "#2a3f5f",
             "gridcolor": "white",
             "linecolor": "white",
             "minorgridcolor": "white",
             "startlinecolor": "#2a3f5f"
            },
            "baxis": {
             "endlinecolor": "#2a3f5f",
             "gridcolor": "white",
             "linecolor": "white",
             "minorgridcolor": "white",
             "startlinecolor": "#2a3f5f"
            },
            "type": "carpet"
           }
          ],
          "choropleth": [
           {
            "colorbar": {
             "outlinewidth": 0,
             "ticks": ""
            },
            "type": "choropleth"
           }
          ],
          "contour": [
           {
            "colorbar": {
             "outlinewidth": 0,
             "ticks": ""
            },
            "colorscale": [
             [
              0,
              "#0d0887"
             ],
             [
              0.1111111111111111,
              "#46039f"
             ],
             [
              0.2222222222222222,
              "#7201a8"
             ],
             [
              0.3333333333333333,
              "#9c179e"
             ],
             [
              0.4444444444444444,
              "#bd3786"
             ],
             [
              0.5555555555555556,
              "#d8576b"
             ],
             [
              0.6666666666666666,
              "#ed7953"
             ],
             [
              0.7777777777777778,
              "#fb9f3a"
             ],
             [
              0.8888888888888888,
              "#fdca26"
             ],
             [
              1,
              "#f0f921"
             ]
            ],
            "type": "contour"
           }
          ],
          "contourcarpet": [
           {
            "colorbar": {
             "outlinewidth": 0,
             "ticks": ""
            },
            "type": "contourcarpet"
           }
          ],
          "heatmap": [
           {
            "colorbar": {
             "outlinewidth": 0,
             "ticks": ""
            },
            "colorscale": [
             [
              0,
              "#0d0887"
             ],
             [
              0.1111111111111111,
              "#46039f"
             ],
             [
              0.2222222222222222,
              "#7201a8"
             ],
             [
              0.3333333333333333,
              "#9c179e"
             ],
             [
              0.4444444444444444,
              "#bd3786"
             ],
             [
              0.5555555555555556,
              "#d8576b"
             ],
             [
              0.6666666666666666,
              "#ed7953"
             ],
             [
              0.7777777777777778,
              "#fb9f3a"
             ],
             [
              0.8888888888888888,
              "#fdca26"
             ],
             [
              1,
              "#f0f921"
             ]
            ],
            "type": "heatmap"
           }
          ],
          "histogram": [
           {
            "marker": {
             "pattern": {
              "fillmode": "overlay",
              "size": 10,
              "solidity": 0.2
             }
            },
            "type": "histogram"
           }
          ],
          "histogram2d": [
           {
            "colorbar": {
             "outlinewidth": 0,
             "ticks": ""
            },
            "colorscale": [
             [
              0,
              "#0d0887"
             ],
             [
              0.1111111111111111,
              "#46039f"
             ],
             [
              0.2222222222222222,
              "#7201a8"
             ],
             [
              0.3333333333333333,
              "#9c179e"
             ],
             [
              0.4444444444444444,
              "#bd3786"
             ],
             [
              0.5555555555555556,
              "#d8576b"
             ],
             [
              0.6666666666666666,
              "#ed7953"
             ],
             [
              0.7777777777777778,
              "#fb9f3a"
             ],
             [
              0.8888888888888888,
              "#fdca26"
             ],
             [
              1,
              "#f0f921"
             ]
            ],
            "type": "histogram2d"
           }
          ],
          "histogram2dcontour": [
           {
            "colorbar": {
             "outlinewidth": 0,
             "ticks": ""
            },
            "colorscale": [
             [
              0,
              "#0d0887"
             ],
             [
              0.1111111111111111,
              "#46039f"
             ],
             [
              0.2222222222222222,
              "#7201a8"
             ],
             [
              0.3333333333333333,
              "#9c179e"
             ],
             [
              0.4444444444444444,
              "#bd3786"
             ],
             [
              0.5555555555555556,
              "#d8576b"
             ],
             [
              0.6666666666666666,
              "#ed7953"
             ],
             [
              0.7777777777777778,
              "#fb9f3a"
             ],
             [
              0.8888888888888888,
              "#fdca26"
             ],
             [
              1,
              "#f0f921"
             ]
            ],
            "type": "histogram2dcontour"
           }
          ],
          "mesh3d": [
           {
            "colorbar": {
             "outlinewidth": 0,
             "ticks": ""
            },
            "type": "mesh3d"
           }
          ],
          "parcoords": [
           {
            "line": {
             "colorbar": {
              "outlinewidth": 0,
              "ticks": ""
             }
            },
            "type": "parcoords"
           }
          ],
          "pie": [
           {
            "automargin": true,
            "type": "pie"
           }
          ],
          "scatter": [
           {
            "fillpattern": {
             "fillmode": "overlay",
             "size": 10,
             "solidity": 0.2
            },
            "type": "scatter"
           }
          ],
          "scatter3d": [
           {
            "line": {
             "colorbar": {
              "outlinewidth": 0,
              "ticks": ""
             }
            },
            "marker": {
             "colorbar": {
              "outlinewidth": 0,
              "ticks": ""
             }
            },
            "type": "scatter3d"
           }
          ],
          "scattercarpet": [
           {
            "marker": {
             "colorbar": {
              "outlinewidth": 0,
              "ticks": ""
             }
            },
            "type": "scattercarpet"
           }
          ],
          "scattergeo": [
           {
            "marker": {
             "colorbar": {
              "outlinewidth": 0,
              "ticks": ""
             }
            },
            "type": "scattergeo"
           }
          ],
          "scattergl": [
           {
            "marker": {
             "colorbar": {
              "outlinewidth": 0,
              "ticks": ""
             }
            },
            "type": "scattergl"
           }
          ],
          "scattermap": [
           {
            "marker": {
             "colorbar": {
              "outlinewidth": 0,
              "ticks": ""
             }
            },
            "type": "scattermap"
           }
          ],
          "scattermapbox": [
           {
            "marker": {
             "colorbar": {
              "outlinewidth": 0,
              "ticks": ""
             }
            },
            "type": "scattermapbox"
           }
          ],
          "scatterpolar": [
           {
            "marker": {
             "colorbar": {
              "outlinewidth": 0,
              "ticks": ""
             }
            },
            "type": "scatterpolar"
           }
          ],
          "scatterpolargl": [
           {
            "marker": {
             "colorbar": {
              "outlinewidth": 0,
              "ticks": ""
             }
            },
            "type": "scatterpolargl"
           }
          ],
          "scatterternary": [
           {
            "marker": {
             "colorbar": {
              "outlinewidth": 0,
              "ticks": ""
             }
            },
            "type": "scatterternary"
           }
          ],
          "surface": [
           {
            "colorbar": {
             "outlinewidth": 0,
             "ticks": ""
            },
            "colorscale": [
             [
              0,
              "#0d0887"
             ],
             [
              0.1111111111111111,
              "#46039f"
             ],
             [
              0.2222222222222222,
              "#7201a8"
             ],
             [
              0.3333333333333333,
              "#9c179e"
             ],
             [
              0.4444444444444444,
              "#bd3786"
             ],
             [
              0.5555555555555556,
              "#d8576b"
             ],
             [
              0.6666666666666666,
              "#ed7953"
             ],
             [
              0.7777777777777778,
              "#fb9f3a"
             ],
             [
              0.8888888888888888,
              "#fdca26"
             ],
             [
              1,
              "#f0f921"
             ]
            ],
            "type": "surface"
           }
          ],
          "table": [
           {
            "cells": {
             "fill": {
              "color": "#EBF0F8"
             },
             "line": {
              "color": "white"
             }
            },
            "header": {
             "fill": {
              "color": "#C8D4E3"
             },
             "line": {
              "color": "white"
             }
            },
            "type": "table"
           }
          ]
         },
         "layout": {
          "annotationdefaults": {
           "arrowcolor": "#2a3f5f",
           "arrowhead": 0,
           "arrowwidth": 1
          },
          "autotypenumbers": "strict",
          "coloraxis": {
           "colorbar": {
            "outlinewidth": 0,
            "ticks": ""
           }
          },
          "colorscale": {
           "diverging": [
            [
             0,
             "#8e0152"
            ],
            [
             0.1,
             "#c51b7d"
            ],
            [
             0.2,
             "#de77ae"
            ],
            [
             0.3,
             "#f1b6da"
            ],
            [
             0.4,
             "#fde0ef"
            ],
            [
             0.5,
             "#f7f7f7"
            ],
            [
             0.6,
             "#e6f5d0"
            ],
            [
             0.7,
             "#b8e186"
            ],
            [
             0.8,
             "#7fbc41"
            ],
            [
             0.9,
             "#4d9221"
            ],
            [
             1,
             "#276419"
            ]
           ],
           "sequential": [
            [
             0,
             "#0d0887"
            ],
            [
             0.1111111111111111,
             "#46039f"
            ],
            [
             0.2222222222222222,
             "#7201a8"
            ],
            [
             0.3333333333333333,
             "#9c179e"
            ],
            [
             0.4444444444444444,
             "#bd3786"
            ],
            [
             0.5555555555555556,
             "#d8576b"
            ],
            [
             0.6666666666666666,
             "#ed7953"
            ],
            [
             0.7777777777777778,
             "#fb9f3a"
            ],
            [
             0.8888888888888888,
             "#fdca26"
            ],
            [
             1,
             "#f0f921"
            ]
           ],
           "sequentialminus": [
            [
             0,
             "#0d0887"
            ],
            [
             0.1111111111111111,
             "#46039f"
            ],
            [
             0.2222222222222222,
             "#7201a8"
            ],
            [
             0.3333333333333333,
             "#9c179e"
            ],
            [
             0.4444444444444444,
             "#bd3786"
            ],
            [
             0.5555555555555556,
             "#d8576b"
            ],
            [
             0.6666666666666666,
             "#ed7953"
            ],
            [
             0.7777777777777778,
             "#fb9f3a"
            ],
            [
             0.8888888888888888,
             "#fdca26"
            ],
            [
             1,
             "#f0f921"
            ]
           ]
          },
          "colorway": [
           "#636efa",
           "#EF553B",
           "#00cc96",
           "#ab63fa",
           "#FFA15A",
           "#19d3f3",
           "#FF6692",
           "#B6E880",
           "#FF97FF",
           "#FECB52"
          ],
          "font": {
           "color": "#2a3f5f"
          },
          "geo": {
           "bgcolor": "white",
           "lakecolor": "white",
           "landcolor": "#E5ECF6",
           "showlakes": true,
           "showland": true,
           "subunitcolor": "white"
          },
          "hoverlabel": {
           "align": "left"
          },
          "hovermode": "closest",
          "mapbox": {
           "style": "light"
          },
          "paper_bgcolor": "white",
          "plot_bgcolor": "#E5ECF6",
          "polar": {
           "angularaxis": {
            "gridcolor": "white",
            "linecolor": "white",
            "ticks": ""
           },
           "bgcolor": "#E5ECF6",
           "radialaxis": {
            "gridcolor": "white",
            "linecolor": "white",
            "ticks": ""
           }
          },
          "scene": {
           "xaxis": {
            "backgroundcolor": "#E5ECF6",
            "gridcolor": "white",
            "gridwidth": 2,
            "linecolor": "white",
            "showbackground": true,
            "ticks": "",
            "zerolinecolor": "white"
           },
           "yaxis": {
            "backgroundcolor": "#E5ECF6",
            "gridcolor": "white",
            "gridwidth": 2,
            "linecolor": "white",
            "showbackground": true,
            "ticks": "",
            "zerolinecolor": "white"
           },
           "zaxis": {
            "backgroundcolor": "#E5ECF6",
            "gridcolor": "white",
            "gridwidth": 2,
            "linecolor": "white",
            "showbackground": true,
            "ticks": "",
            "zerolinecolor": "white"
           }
          },
          "shapedefaults": {
           "line": {
            "color": "#2a3f5f"
           }
          },
          "ternary": {
           "aaxis": {
            "gridcolor": "white",
            "linecolor": "white",
            "ticks": ""
           },
           "baxis": {
            "gridcolor": "white",
            "linecolor": "white",
            "ticks": ""
           },
           "bgcolor": "#E5ECF6",
           "caxis": {
            "gridcolor": "white",
            "linecolor": "white",
            "ticks": ""
           }
          },
          "title": {
           "x": 0.05
          },
          "xaxis": {
           "automargin": true,
           "gridcolor": "white",
           "linecolor": "white",
           "ticks": "",
           "title": {
            "standoff": 15
           },
           "zerolinecolor": "white",
           "zerolinewidth": 2
          },
          "yaxis": {
           "automargin": true,
           "gridcolor": "white",
           "linecolor": "white",
           "ticks": "",
           "title": {
            "standoff": 15
           },
           "zerolinecolor": "white",
           "zerolinewidth": 2
          }
         }
        },
        "title": {
         "text": "Hours at Berth vs. Hours at Anchor - San Pedro Ports"
        },
        "width": 800
       }
      }
     },
     "metadata": {},
     "output_type": "display_data"
    }
   ],
   "source": [
    "plot_mapbox(df=calls_df, cat_group='dock_name', filter_col='port_group', \n",
    "            filter=['San Pedro Ports'],\n",
    "            lat_col='dock_lat', lon_col='dock_lon', size_col='hrs_at_berth', size_col_alias='Mean Hours at Berth',\n",
    "            color_col='hrs_at_anchor', color_col_alias='Mean Hours at Anchor',\n",
    "            size_max=20, color_outlier_z=2, zoom=11.5,\n",
    "            title='Hours at Berth vs. Hours at Anchor - San Pedro Ports', hover_name='dock_name')"
   ]
  },
  {
   "cell_type": "code",
   "execution_count": 101,
   "id": "650a9330",
   "metadata": {},
   "outputs": [
    {
     "data": {
      "application/vnd.plotly.v1+json": {
       "config": {
        "plotlyServerURL": "https://plot.ly"
       },
       "data": [
        {
         "hovertemplate": "Vessel Size (m) per Hour at Berth=%{x}<br>=%{y}<extra></extra>",
         "legendgroup": "",
         "marker": {
          "color": "#636efa",
          "pattern": {
           "shape": ""
          }
         },
         "name": "",
         "orientation": "h",
         "showlegend": false,
         "textposition": "auto",
         "type": "bar",
         "x": {
          "bdata": "Va1G+xnxAUDyGN4vkVIIQK3/qNTMFA1AirwiTowTGkDFtq0MjKgaQLN0qFD3HyNAFup7DkUAJECe3K1JfXIkQJvZE9rt6yVACXZseCnMKEC5Y7UUiN0pQBX3TrLUESpAsU9B0q+EKkCwyW0DmgYrQCf/YwJBOS1A5oj64z26LkA/MhXV/JkxQFRqwDhePDNAIMg/fX3/QUBqcxS2QtlGQA==",
          "dtype": "f8"
         },
         "xaxis": "x",
         "y": [
          "RAINER COLD STORAGE & ICE, TERMINAL 25 SOUTH WHARF",
          "CRANE DOCK PIER 20",
          "PORT OF TACOMA, HUSKY TERMINAL, TERMINAL 4",
          "U. S. COAST GUARD, PIER 35",
          "TACOMA EXPORT MARKETING CO., TACOMA ELEVATOR WHARF",
          "OPEN WATER-BUOYS & DOLPHINS",
          "SSA TERMINALS, TERMINAL 37 WHARF",
          "B P OIL CO., SEATTLE TERMINAL, PIER NO. 11",
          "TODD PACIFIC SHIPYARDS CORP., BERTHS F-K, PIERS NO. 4-6",
          "ELLIOTT BAY GENERAL ANCHORAGE",
          "Marine Terminals Corp., Terminal 3, Tacoma Wharf.",
          "PACIFIC TERMINALS LTD., WHARVES",
          "CROWLEY MARITIME, TERMINAL 28 WHARF",
          "TERMINAL 5 SEATTLE, SSA MARINE",
          "PORT OF TACOMA, HUSKY TERMINAL, TERMINAL 4 WHARF",
          "PIER 34",
          "TRANS PACIFIC CONTAINER SERVICE CORP., TERMINAL 30 WHARF",
          "S S A TERMINALS, TERMINAL 18, BERTHS 2-6",
          "TOTAL TERMINALS, TERMINAL 46 WHARF",
          "SSA TERMINALS, TERMINAL 18, BERTH 7"
         ],
         "yaxis": "y"
        }
       ],
       "layout": {
        "barmode": "relative",
        "height": 500,
        "legend": {
         "tracegroupgap": 0
        },
        "template": {
         "data": {
          "bar": [
           {
            "error_x": {
             "color": "#2a3f5f"
            },
            "error_y": {
             "color": "#2a3f5f"
            },
            "marker": {
             "line": {
              "color": "#E5ECF6",
              "width": 0.5
             },
             "pattern": {
              "fillmode": "overlay",
              "size": 10,
              "solidity": 0.2
             }
            },
            "type": "bar"
           }
          ],
          "barpolar": [
           {
            "marker": {
             "line": {
              "color": "#E5ECF6",
              "width": 0.5
             },
             "pattern": {
              "fillmode": "overlay",
              "size": 10,
              "solidity": 0.2
             }
            },
            "type": "barpolar"
           }
          ],
          "carpet": [
           {
            "aaxis": {
             "endlinecolor": "#2a3f5f",
             "gridcolor": "white",
             "linecolor": "white",
             "minorgridcolor": "white",
             "startlinecolor": "#2a3f5f"
            },
            "baxis": {
             "endlinecolor": "#2a3f5f",
             "gridcolor": "white",
             "linecolor": "white",
             "minorgridcolor": "white",
             "startlinecolor": "#2a3f5f"
            },
            "type": "carpet"
           }
          ],
          "choropleth": [
           {
            "colorbar": {
             "outlinewidth": 0,
             "ticks": ""
            },
            "type": "choropleth"
           }
          ],
          "contour": [
           {
            "colorbar": {
             "outlinewidth": 0,
             "ticks": ""
            },
            "colorscale": [
             [
              0,
              "#0d0887"
             ],
             [
              0.1111111111111111,
              "#46039f"
             ],
             [
              0.2222222222222222,
              "#7201a8"
             ],
             [
              0.3333333333333333,
              "#9c179e"
             ],
             [
              0.4444444444444444,
              "#bd3786"
             ],
             [
              0.5555555555555556,
              "#d8576b"
             ],
             [
              0.6666666666666666,
              "#ed7953"
             ],
             [
              0.7777777777777778,
              "#fb9f3a"
             ],
             [
              0.8888888888888888,
              "#fdca26"
             ],
             [
              1,
              "#f0f921"
             ]
            ],
            "type": "contour"
           }
          ],
          "contourcarpet": [
           {
            "colorbar": {
             "outlinewidth": 0,
             "ticks": ""
            },
            "type": "contourcarpet"
           }
          ],
          "heatmap": [
           {
            "colorbar": {
             "outlinewidth": 0,
             "ticks": ""
            },
            "colorscale": [
             [
              0,
              "#0d0887"
             ],
             [
              0.1111111111111111,
              "#46039f"
             ],
             [
              0.2222222222222222,
              "#7201a8"
             ],
             [
              0.3333333333333333,
              "#9c179e"
             ],
             [
              0.4444444444444444,
              "#bd3786"
             ],
             [
              0.5555555555555556,
              "#d8576b"
             ],
             [
              0.6666666666666666,
              "#ed7953"
             ],
             [
              0.7777777777777778,
              "#fb9f3a"
             ],
             [
              0.8888888888888888,
              "#fdca26"
             ],
             [
              1,
              "#f0f921"
             ]
            ],
            "type": "heatmap"
           }
          ],
          "histogram": [
           {
            "marker": {
             "pattern": {
              "fillmode": "overlay",
              "size": 10,
              "solidity": 0.2
             }
            },
            "type": "histogram"
           }
          ],
          "histogram2d": [
           {
            "colorbar": {
             "outlinewidth": 0,
             "ticks": ""
            },
            "colorscale": [
             [
              0,
              "#0d0887"
             ],
             [
              0.1111111111111111,
              "#46039f"
             ],
             [
              0.2222222222222222,
              "#7201a8"
             ],
             [
              0.3333333333333333,
              "#9c179e"
             ],
             [
              0.4444444444444444,
              "#bd3786"
             ],
             [
              0.5555555555555556,
              "#d8576b"
             ],
             [
              0.6666666666666666,
              "#ed7953"
             ],
             [
              0.7777777777777778,
              "#fb9f3a"
             ],
             [
              0.8888888888888888,
              "#fdca26"
             ],
             [
              1,
              "#f0f921"
             ]
            ],
            "type": "histogram2d"
           }
          ],
          "histogram2dcontour": [
           {
            "colorbar": {
             "outlinewidth": 0,
             "ticks": ""
            },
            "colorscale": [
             [
              0,
              "#0d0887"
             ],
             [
              0.1111111111111111,
              "#46039f"
             ],
             [
              0.2222222222222222,
              "#7201a8"
             ],
             [
              0.3333333333333333,
              "#9c179e"
             ],
             [
              0.4444444444444444,
              "#bd3786"
             ],
             [
              0.5555555555555556,
              "#d8576b"
             ],
             [
              0.6666666666666666,
              "#ed7953"
             ],
             [
              0.7777777777777778,
              "#fb9f3a"
             ],
             [
              0.8888888888888888,
              "#fdca26"
             ],
             [
              1,
              "#f0f921"
             ]
            ],
            "type": "histogram2dcontour"
           }
          ],
          "mesh3d": [
           {
            "colorbar": {
             "outlinewidth": 0,
             "ticks": ""
            },
            "type": "mesh3d"
           }
          ],
          "parcoords": [
           {
            "line": {
             "colorbar": {
              "outlinewidth": 0,
              "ticks": ""
             }
            },
            "type": "parcoords"
           }
          ],
          "pie": [
           {
            "automargin": true,
            "type": "pie"
           }
          ],
          "scatter": [
           {
            "fillpattern": {
             "fillmode": "overlay",
             "size": 10,
             "solidity": 0.2
            },
            "type": "scatter"
           }
          ],
          "scatter3d": [
           {
            "line": {
             "colorbar": {
              "outlinewidth": 0,
              "ticks": ""
             }
            },
            "marker": {
             "colorbar": {
              "outlinewidth": 0,
              "ticks": ""
             }
            },
            "type": "scatter3d"
           }
          ],
          "scattercarpet": [
           {
            "marker": {
             "colorbar": {
              "outlinewidth": 0,
              "ticks": ""
             }
            },
            "type": "scattercarpet"
           }
          ],
          "scattergeo": [
           {
            "marker": {
             "colorbar": {
              "outlinewidth": 0,
              "ticks": ""
             }
            },
            "type": "scattergeo"
           }
          ],
          "scattergl": [
           {
            "marker": {
             "colorbar": {
              "outlinewidth": 0,
              "ticks": ""
             }
            },
            "type": "scattergl"
           }
          ],
          "scattermap": [
           {
            "marker": {
             "colorbar": {
              "outlinewidth": 0,
              "ticks": ""
             }
            },
            "type": "scattermap"
           }
          ],
          "scattermapbox": [
           {
            "marker": {
             "colorbar": {
              "outlinewidth": 0,
              "ticks": ""
             }
            },
            "type": "scattermapbox"
           }
          ],
          "scatterpolar": [
           {
            "marker": {
             "colorbar": {
              "outlinewidth": 0,
              "ticks": ""
             }
            },
            "type": "scatterpolar"
           }
          ],
          "scatterpolargl": [
           {
            "marker": {
             "colorbar": {
              "outlinewidth": 0,
              "ticks": ""
             }
            },
            "type": "scatterpolargl"
           }
          ],
          "scatterternary": [
           {
            "marker": {
             "colorbar": {
              "outlinewidth": 0,
              "ticks": ""
             }
            },
            "type": "scatterternary"
           }
          ],
          "surface": [
           {
            "colorbar": {
             "outlinewidth": 0,
             "ticks": ""
            },
            "colorscale": [
             [
              0,
              "#0d0887"
             ],
             [
              0.1111111111111111,
              "#46039f"
             ],
             [
              0.2222222222222222,
              "#7201a8"
             ],
             [
              0.3333333333333333,
              "#9c179e"
             ],
             [
              0.4444444444444444,
              "#bd3786"
             ],
             [
              0.5555555555555556,
              "#d8576b"
             ],
             [
              0.6666666666666666,
              "#ed7953"
             ],
             [
              0.7777777777777778,
              "#fb9f3a"
             ],
             [
              0.8888888888888888,
              "#fdca26"
             ],
             [
              1,
              "#f0f921"
             ]
            ],
            "type": "surface"
           }
          ],
          "table": [
           {
            "cells": {
             "fill": {
              "color": "#EBF0F8"
             },
             "line": {
              "color": "white"
             }
            },
            "header": {
             "fill": {
              "color": "#C8D4E3"
             },
             "line": {
              "color": "white"
             }
            },
            "type": "table"
           }
          ]
         },
         "layout": {
          "annotationdefaults": {
           "arrowcolor": "#2a3f5f",
           "arrowhead": 0,
           "arrowwidth": 1
          },
          "autotypenumbers": "strict",
          "coloraxis": {
           "colorbar": {
            "outlinewidth": 0,
            "ticks": ""
           }
          },
          "colorscale": {
           "diverging": [
            [
             0,
             "#8e0152"
            ],
            [
             0.1,
             "#c51b7d"
            ],
            [
             0.2,
             "#de77ae"
            ],
            [
             0.3,
             "#f1b6da"
            ],
            [
             0.4,
             "#fde0ef"
            ],
            [
             0.5,
             "#f7f7f7"
            ],
            [
             0.6,
             "#e6f5d0"
            ],
            [
             0.7,
             "#b8e186"
            ],
            [
             0.8,
             "#7fbc41"
            ],
            [
             0.9,
             "#4d9221"
            ],
            [
             1,
             "#276419"
            ]
           ],
           "sequential": [
            [
             0,
             "#0d0887"
            ],
            [
             0.1111111111111111,
             "#46039f"
            ],
            [
             0.2222222222222222,
             "#7201a8"
            ],
            [
             0.3333333333333333,
             "#9c179e"
            ],
            [
             0.4444444444444444,
             "#bd3786"
            ],
            [
             0.5555555555555556,
             "#d8576b"
            ],
            [
             0.6666666666666666,
             "#ed7953"
            ],
            [
             0.7777777777777778,
             "#fb9f3a"
            ],
            [
             0.8888888888888888,
             "#fdca26"
            ],
            [
             1,
             "#f0f921"
            ]
           ],
           "sequentialminus": [
            [
             0,
             "#0d0887"
            ],
            [
             0.1111111111111111,
             "#46039f"
            ],
            [
             0.2222222222222222,
             "#7201a8"
            ],
            [
             0.3333333333333333,
             "#9c179e"
            ],
            [
             0.4444444444444444,
             "#bd3786"
            ],
            [
             0.5555555555555556,
             "#d8576b"
            ],
            [
             0.6666666666666666,
             "#ed7953"
            ],
            [
             0.7777777777777778,
             "#fb9f3a"
            ],
            [
             0.8888888888888888,
             "#fdca26"
            ],
            [
             1,
             "#f0f921"
            ]
           ]
          },
          "colorway": [
           "#636efa",
           "#EF553B",
           "#00cc96",
           "#ab63fa",
           "#FFA15A",
           "#19d3f3",
           "#FF6692",
           "#B6E880",
           "#FF97FF",
           "#FECB52"
          ],
          "font": {
           "color": "#2a3f5f"
          },
          "geo": {
           "bgcolor": "white",
           "lakecolor": "white",
           "landcolor": "#E5ECF6",
           "showlakes": true,
           "showland": true,
           "subunitcolor": "white"
          },
          "hoverlabel": {
           "align": "left"
          },
          "hovermode": "closest",
          "mapbox": {
           "style": "light"
          },
          "paper_bgcolor": "white",
          "plot_bgcolor": "#E5ECF6",
          "polar": {
           "angularaxis": {
            "gridcolor": "white",
            "linecolor": "white",
            "ticks": ""
           },
           "bgcolor": "#E5ECF6",
           "radialaxis": {
            "gridcolor": "white",
            "linecolor": "white",
            "ticks": ""
           }
          },
          "scene": {
           "xaxis": {
            "backgroundcolor": "#E5ECF6",
            "gridcolor": "white",
            "gridwidth": 2,
            "linecolor": "white",
            "showbackground": true,
            "ticks": "",
            "zerolinecolor": "white"
           },
           "yaxis": {
            "backgroundcolor": "#E5ECF6",
            "gridcolor": "white",
            "gridwidth": 2,
            "linecolor": "white",
            "showbackground": true,
            "ticks": "",
            "zerolinecolor": "white"
           },
           "zaxis": {
            "backgroundcolor": "#E5ECF6",
            "gridcolor": "white",
            "gridwidth": 2,
            "linecolor": "white",
            "showbackground": true,
            "ticks": "",
            "zerolinecolor": "white"
           }
          },
          "shapedefaults": {
           "line": {
            "color": "#2a3f5f"
           }
          },
          "ternary": {
           "aaxis": {
            "gridcolor": "white",
            "linecolor": "white",
            "ticks": ""
           },
           "baxis": {
            "gridcolor": "white",
            "linecolor": "white",
            "ticks": ""
           },
           "bgcolor": "#E5ECF6",
           "caxis": {
            "gridcolor": "white",
            "linecolor": "white",
            "ticks": ""
           }
          },
          "title": {
           "x": 0.05
          },
          "xaxis": {
           "automargin": true,
           "gridcolor": "white",
           "linecolor": "white",
           "ticks": "",
           "title": {
            "standoff": 15
           },
           "zerolinecolor": "white",
           "zerolinewidth": 2
          },
          "yaxis": {
           "automargin": true,
           "gridcolor": "white",
           "linecolor": "white",
           "ticks": "",
           "title": {
            "standoff": 15
           },
           "zerolinecolor": "white",
           "zerolinewidth": 2
          }
         }
        },
        "title": {
         "text": "Top Performing Docks - NW Seaport Alliance"
        },
        "width": 800,
        "xaxis": {
         "anchor": "y",
         "domain": [
          0,
          1
         ],
         "title": {
          "text": "Vessel Size (m) per Hour at Berth"
         }
        },
        "yaxis": {
         "anchor": "x",
         "domain": [
          0,
          1
         ],
         "title": {
          "text": ""
         }
        }
       }
      }
     },
     "metadata": {},
     "output_type": "display_data"
    }
   ],
   "source": [
    "#group and define efficiency metrict\n",
    "df = (\n",
    "    calls_df.filter(pl.col('port_group')=='NW Seaport Alliance')\n",
    "    .with_columns(\n",
    "        (pl.col('vessel_size')/pl.col('hrs_at_berth')).alias('Efficiency Score')\n",
    "    )\n",
    ")\n",
    "\n",
    "bar_ranking(df,\n",
    "            cat_group='dock_name', stat_col='Efficiency Score',\n",
    "            stat_alias='Vessel Size (m) per Hour at Berth', \n",
    "            title='Top Performing Docks - NW Seaport Alliance',\n",
    "            labels={'dock_name':''},\n",
    "            limit=20, width=800, height=500)"
   ]
  }
 ],
 "metadata": {
  "kernelspec": {
   "display_name": "port_performance",
   "language": "python",
   "name": "python3"
  },
  "language_info": {
   "codemirror_mode": {
    "name": "ipython",
    "version": 3
   },
   "file_extension": ".py",
   "mimetype": "text/x-python",
   "name": "python",
   "nbconvert_exporter": "python",
   "pygments_lexer": "ipython3",
   "version": "3.13.2"
  }
 },
 "nbformat": 4,
 "nbformat_minor": 5
}
