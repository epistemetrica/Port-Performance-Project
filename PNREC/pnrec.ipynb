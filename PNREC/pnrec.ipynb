{
 "cells": [
  {
   "cell_type": "markdown",
   "id": "78926613",
   "metadata": {},
   "source": [
    "# PNREC Presentation Prep\n",
    "\n"
   ]
  },
  {
   "cell_type": "code",
   "execution_count": 1,
   "id": "cef0a6fa",
   "metadata": {},
   "outputs": [],
   "source": [
    "#prelims\n",
    "import numpy as np\n",
    "import pandas as pd\n",
    "import geopandas as gpd\n",
    "import polars as pl\n",
    "import plotly.express as px\n",
    "import datetime as dt\n",
    "from dateutil.relativedelta import relativedelta\n",
    "import dash\n",
    "from dash import dcc, html\n",
    "from dash.dependencies import Input, Output\n",
    "\n",
    "#display settings\n",
    "pd.set_option('display.max_columns', None)\n",
    "pd.set_option('display.max_rows', None)\n",
    "pl.Config(tbl_rows=100);"
   ]
  },
  {
   "cell_type": "markdown",
   "id": "dac90d12",
   "metadata": {},
   "source": [
    "## Load Data and initial prep\n",
    "\n",
    "Data used here is processed in the geodata_prep and port_stats notebooks in the main directory. \n",
    "\n",
    "The data used in the app is a dataframe with reach row corresponding to a port call, including data such as port, dock, and vessel info, time of arrival, hours at berth and at anchor, time in port waters, etc. "
   ]
  },
  {
   "cell_type": "code",
   "execution_count": 2,
   "id": "63983bb7",
   "metadata": {},
   "outputs": [
    {
     "data": {
      "text/html": [
       "<div><style>\n",
       ".dataframe > thead > tr,\n",
       ".dataframe > tbody > tr {\n",
       "  text-align: right;\n",
       "  white-space: pre-wrap;\n",
       "}\n",
       "</style>\n",
       "<small>shape: (9, 25)</small><table border=\"1\" class=\"dataframe\"><thead><tr><th>statistic</th><th>call_id</th><th>port_name</th><th>port_lat</th><th>port_lon</th><th>dock_name</th><th>dock_id</th><th>facility_type</th><th>dock_lat</th><th>dock_lon</th><th>imo</th><th>vessel_size</th><th>time_port_entry</th><th>time_arrival</th><th>time_departure</th><th>time_port_exit</th><th>hrs_at_berth</th><th>hrs_at_anchor</th><th>hrs_to_dock</th><th>hrs_in_port_after_dock</th><th>hrs_in_port_waters</th><th>year</th><th>month</th><th>date</th><th>port_group</th></tr><tr><td>str</td><td>str</td><td>str</td><td>f64</td><td>f64</td><td>str</td><td>str</td><td>str</td><td>f64</td><td>f64</td><td>f64</td><td>f64</td><td>str</td><td>str</td><td>str</td><td>str</td><td>f64</td><td>f64</td><td>f64</td><td>f64</td><td>f64</td><td>f64</td><td>str</td><td>str</td><td>str</td></tr></thead><tbody><tr><td>&quot;count&quot;</td><td>&quot;156205&quot;</td><td>&quot;156205&quot;</td><td>156205.0</td><td>156205.0</td><td>&quot;156205&quot;</td><td>&quot;156205&quot;</td><td>&quot;155832&quot;</td><td>156205.0</td><td>156205.0</td><td>156205.0</td><td>156205.0</td><td>&quot;156205&quot;</td><td>&quot;156205&quot;</td><td>&quot;156205&quot;</td><td>&quot;156205&quot;</td><td>156205.0</td><td>156205.0</td><td>156205.0</td><td>156205.0</td><td>156205.0</td><td>156205.0</td><td>&quot;156205&quot;</td><td>&quot;156205&quot;</td><td>&quot;156205&quot;</td></tr><tr><td>&quot;null_count&quot;</td><td>&quot;0&quot;</td><td>&quot;0&quot;</td><td>0.0</td><td>0.0</td><td>&quot;0&quot;</td><td>&quot;0&quot;</td><td>&quot;373&quot;</td><td>0.0</td><td>0.0</td><td>0.0</td><td>0.0</td><td>&quot;0&quot;</td><td>&quot;0&quot;</td><td>&quot;0&quot;</td><td>&quot;0&quot;</td><td>0.0</td><td>0.0</td><td>0.0</td><td>0.0</td><td>0.0</td><td>0.0</td><td>&quot;0&quot;</td><td>&quot;0&quot;</td><td>&quot;0&quot;</td></tr><tr><td>&quot;mean&quot;</td><td>null</td><td>null</td><td>32.686926</td><td>-95.288618</td><td>null</td><td>null</td><td>null</td><td>32.686999</td><td>-95.287408</td><td>1.0116e7</td><td>208.089351</td><td>&quot;2021-07-26 08:52:21.130284&quot;</td><td>&quot;2021-07-26 20:08:02.973278&quot;</td><td>&quot;2021-07-29 00:46:41.506270&quot;</td><td>&quot;2021-07-29 05:56:08.875797&quot;</td><td>47.656672</td><td>8.141756</td><td>11.253709</td><td>5.149874</td><td>69.055084</td><td>2021.070702</td><td>&quot;2021-07-11 13:41:40.076000&quot;</td><td>&quot;2021-07-26 07:35:18.562000&quot;</td><td>null</td></tr><tr><td>&quot;std&quot;</td><td>null</td><td>null</td><td>7.207185</td><td>20.905249</td><td>null</td><td>null</td><td>null</td><td>7.207342</td><td>20.905297</td><td>2.6094e7</td><td>58.853774</td><td>null</td><td>null</td><td>null</td><td>null</td><td>62.115883</td><td>28.449073</td><td>34.912037</td><td>40.933445</td><td>95.135948</td><td>2.030186</td><td>null</td><td>null</td><td>null</td></tr><tr><td>&quot;min&quot;</td><td>&quot;0_Corpus Christi, TX_2020-04-0…</td><td>&quot;Albany Port District, NY&quot;</td><td>17.938939</td><td>-166.549916</td><td>&quot;ADM Corpus Christi Grain Eleva…</td><td>&quot;00XE&quot;</td><td>&quot;Anchorage&quot;</td><td>17.936081</td><td>-166.53444</td><td>0.0</td><td>101.0</td><td>&quot;2018-01-01 00:35:19&quot;</td><td>&quot;2018-01-01 00:35:19&quot;</td><td>&quot;2018-01-01 04:23:54&quot;</td><td>&quot;2018-01-01 09:15:57&quot;</td><td>0.083333</td><td>0.0</td><td>0.0</td><td>0.0</td><td>0.083333</td><td>2018.0</td><td>&quot;2018-01-01&quot;</td><td>&quot;2018-01-01&quot;</td><td>&quot;Albany Port District, NY&quot;</td></tr><tr><td>&quot;25%&quot;</td><td>null</td><td>null</td><td>28.96133</td><td>-118.2095</td><td>null</td><td>null</td><td>null</td><td>28.936819</td><td>-118.217936</td><td>9.294977e6</td><td>177.0</td><td>&quot;2019-09-24 13:52:02&quot;</td><td>&quot;2019-09-24 21:12:08&quot;</td><td>&quot;2019-09-26 17:14:26&quot;</td><td>&quot;2019-09-26 20:53:34&quot;</td><td>16.45</td><td>0.0</td><td>2.583333</td><td>2.083333</td><td>25.516667</td><td>2019.0</td><td>&quot;2019-09-01&quot;</td><td>&quot;2019-09-24&quot;</td><td>null</td></tr><tr><td>&quot;50%&quot;</td><td>null</td><td>null</td><td>30.69123</td><td>-90.085256</td><td>null</td><td>null</td><td>null</td><td>30.723889</td><td>-90.12417</td><td>9.401491e6</td><td>190.0</td><td>&quot;2021-09-06 09:40:43&quot;</td><td>&quot;2021-09-07 02:34:37&quot;</td><td>&quot;2021-09-09 04:35:42&quot;</td><td>&quot;2021-09-09 11:20:56&quot;</td><td>30.85</td><td>0.0</td><td>3.483333</td><td>2.75</td><td>43.466667</td><td>2021.0</td><td>&quot;2021-09-01&quot;</td><td>&quot;2021-09-07&quot;</td><td>null</td></tr><tr><td>&quot;75%&quot;</td><td>null</td><td>null</td><td>37.82152</td><td>-80.117801</td><td>null</td><td>null</td><td>null</td><td>37.797222</td><td>-80.115556</td><td>9.615042e6</td><td>231.0</td><td>&quot;2023-05-08 10:41:45&quot;</td><td>&quot;2023-05-08 22:48:08&quot;</td><td>&quot;2023-05-11 09:53:50&quot;</td><td>&quot;2023-05-11 13:02:31&quot;</td><td>56.983333</td><td>0.0</td><td>5.3</td><td>3.5</td><td>80.233333</td><td>2023.0</td><td>&quot;2023-05-01&quot;</td><td>&quot;2023-05-08&quot;</td><td>null</td></tr><tr><td>&quot;max&quot;</td><td>&quot;9993808_Honolulu, O&#x27;ahu, HI_20…</td><td>&quot;Wilmington, NC&quot;</td><td>61.23778</td><td>-66.096678</td><td>&quot;YUSEN TERMINALS BERTHS 212-221&quot;</td><td>&quot;1JHK&quot;</td><td>&quot;Tie Off&quot;</td><td>61.24306</td><td>-66.086926</td><td>9.800025e8</td><td>667.0</td><td>&quot;2024-12-31 18:55:48&quot;</td><td>&quot;2024-12-31 22:30:59&quot;</td><td>&quot;2024-12-31 23:37:00&quot;</td><td>&quot;2024-12-31 23:37:00&quot;</td><td>1398.416667</td><td>241.483333</td><td>2152.533333</td><td>3653.166667</td><td>4453.8</td><td>2024.0</td><td>&quot;2024-12-01&quot;</td><td>&quot;2024-12-31&quot;</td><td>&quot;Wilmington, NC&quot;</td></tr></tbody></table></div>"
      ],
      "text/plain": [
       "shape: (9, 25)\n",
       "┌───────────┬───────────┬───────────┬───────────┬───┬───────────┬───────────┬───────────┬──────────┐\n",
       "│ statistic ┆ call_id   ┆ port_name ┆ port_lat  ┆ … ┆ year      ┆ month     ┆ date      ┆ port_gro │\n",
       "│ ---       ┆ ---       ┆ ---       ┆ ---       ┆   ┆ ---       ┆ ---       ┆ ---       ┆ up       │\n",
       "│ str       ┆ str       ┆ str       ┆ f64       ┆   ┆ f64       ┆ str       ┆ str       ┆ ---      │\n",
       "│           ┆           ┆           ┆           ┆   ┆           ┆           ┆           ┆ str      │\n",
       "╞═══════════╪═══════════╪═══════════╪═══════════╪═══╪═══════════╪═══════════╪═══════════╪══════════╡\n",
       "│ count     ┆ 156205    ┆ 156205    ┆ 156205.0  ┆ … ┆ 156205.0  ┆ 156205    ┆ 156205    ┆ 156205   │\n",
       "│ null_coun ┆ 0         ┆ 0         ┆ 0.0       ┆ … ┆ 0.0       ┆ 0         ┆ 0         ┆ 0        │\n",
       "│ t         ┆           ┆           ┆           ┆   ┆           ┆           ┆           ┆          │\n",
       "│ mean      ┆ null      ┆ null      ┆ 32.686926 ┆ … ┆ 2021.0707 ┆ 2021-07-1 ┆ 2021-07-2 ┆ null     │\n",
       "│           ┆           ┆           ┆           ┆   ┆ 02        ┆ 1 13:41:4 ┆ 6 07:35:1 ┆          │\n",
       "│           ┆           ┆           ┆           ┆   ┆           ┆ 0.076000  ┆ 8.562000  ┆          │\n",
       "│ std       ┆ null      ┆ null      ┆ 7.207185  ┆ … ┆ 2.030186  ┆ null      ┆ null      ┆ null     │\n",
       "│ min       ┆ 0_Corpus  ┆ Albany    ┆ 17.938939 ┆ … ┆ 2018.0    ┆ 2018-01-0 ┆ 2018-01-0 ┆ Albany   │\n",
       "│           ┆ Christi,  ┆ Port      ┆           ┆   ┆           ┆ 1         ┆ 1         ┆ Port Dis │\n",
       "│           ┆ TX_2020-0 ┆ District, ┆           ┆   ┆           ┆           ┆           ┆ trict,   │\n",
       "│           ┆ 4-0…      ┆ NY        ┆           ┆   ┆           ┆           ┆           ┆ NY       │\n",
       "│ 25%       ┆ null      ┆ null      ┆ 28.96133  ┆ … ┆ 2019.0    ┆ 2019-09-0 ┆ 2019-09-2 ┆ null     │\n",
       "│           ┆           ┆           ┆           ┆   ┆           ┆ 1         ┆ 4         ┆          │\n",
       "│ 50%       ┆ null      ┆ null      ┆ 30.69123  ┆ … ┆ 2021.0    ┆ 2021-09-0 ┆ 2021-09-0 ┆ null     │\n",
       "│           ┆           ┆           ┆           ┆   ┆           ┆ 1         ┆ 7         ┆          │\n",
       "│ 75%       ┆ null      ┆ null      ┆ 37.82152  ┆ … ┆ 2023.0    ┆ 2023-05-0 ┆ 2023-05-0 ┆ null     │\n",
       "│           ┆           ┆           ┆           ┆   ┆           ┆ 1         ┆ 8         ┆          │\n",
       "│ max       ┆ 9993808_H ┆ Wilmingto ┆ 61.23778  ┆ … ┆ 2024.0    ┆ 2024-12-0 ┆ 2024-12-3 ┆ Wilmingt │\n",
       "│           ┆ onolulu,  ┆ n, NC     ┆           ┆   ┆           ┆ 1         ┆ 1         ┆ on, NC   │\n",
       "│           ┆ O'ahu,    ┆           ┆           ┆   ┆           ┆           ┆           ┆          │\n",
       "│           ┆ HI_20…    ┆           ┆           ┆   ┆           ┆           ┆           ┆          │\n",
       "└───────────┴───────────┴───────────┴───────────┴───┴───────────┴───────────┴───────────┴──────────┘"
      ]
     },
     "execution_count": 2,
     "metadata": {},
     "output_type": "execute_result"
    }
   ],
   "source": [
    "#create main dataframe\n",
    "calls_df = (\n",
    "    #read in data\n",
    "    pl.read_parquet('../dashboard/calls.parquet')\n",
    "    #get year month and date from arrival time\n",
    "    .with_columns(\n",
    "        pl.col('time_arrival').dt.year().alias('year'),\n",
    "        pl.col('time_arrival').dt.date().dt.month_start().alias('month'),\n",
    "        pl.col('time_arrival').dt.date().alias('date')\n",
    "    )\n",
    "    #add port group for NWSPA and San Pedro Ports\n",
    "    .with_columns(\n",
    "        pl.when(pl.col('port_name').is_in(['Seattle, WA', 'Tacoma, WA']))\n",
    "        .then(pl.lit('NW Seaport Alliance'))\n",
    "        .when(pl.col('port_name').is_in(['Port of Los Angeles, CA',\n",
    "                                         'Port of Long Beach, CA']))\n",
    "        .then(pl.lit('San Pedro Ports'))\n",
    "        .otherwise(pl.col('port_name'))\n",
    "        .alias('port_group')\n",
    "    )\n",
    ")\n",
    "#get date bounds\n",
    "earliest_date = calls_df['time_arrival'].min().date()\n",
    "latest_date = calls_df['time_arrival'].max().date()\n",
    "\n",
    "#inspect data\n",
    "calls_df.describe()"
   ]
  },
  {
   "cell_type": "markdown",
   "id": "492c5e46",
   "metadata": {},
   "source": [
    "#### Volume Data from Hanouf"
   ]
  },
  {
   "cell_type": "code",
   "execution_count": 3,
   "id": "436defea",
   "metadata": {},
   "outputs": [
    {
     "data": {
      "text/html": [
       "<div><style>\n",
       ".dataframe > thead > tr,\n",
       ".dataframe > tbody > tr {\n",
       "  text-align: right;\n",
       "  white-space: pre-wrap;\n",
       "}\n",
       "</style>\n",
       "<small>shape: (5, 15)</small><table border=\"1\" class=\"dataframe\"><thead><tr><th>PORT</th><th>PORT_NAME</th><th>CTY_CODE</th><th>CTY_NAME</th><th>I_COMMODITY</th><th>GEN_VAL_MO</th><th>CNT_VAL_MO</th><th>CNT_WGT_MO</th><th>VES_VAL_MO</th><th>VES_WGT_MO</th><th>YEAR</th><th>MONTH</th><th>COMM_LVL</th><th>date</th><th>COMMODITY_NAME</th></tr><tr><td>str</td><td>str</td><td>str</td><td>str</td><td>str</td><td>str</td><td>str</td><td>str</td><td>str</td><td>str</td><td>str</td><td>str</td><td>str</td><td>str</td><td>str</td></tr></thead><tbody><tr><td>&quot;-&quot;</td><td>&quot;TOTAL FOR ALL PORTS&quot;</td><td>&quot;-&quot;</td><td>null</td><td>&quot;1&quot;</td><td>&quot;215797758&quot;</td><td>&quot;392018&quot;</td><td>&quot;120408&quot;</td><td>&quot;392018&quot;</td><td>&quot;120408&quot;</td><td>&quot;2018&quot;</td><td>&quot;1&quot;</td><td>&quot;HS2&quot;</td><td>&quot;1/1/2018&quot;</td><td>&quot;Live Animals&quot;</td></tr><tr><td>&quot;-&quot;</td><td>&quot;TOTAL FOR ALL PORTS&quot;</td><td>&quot;0003&quot;</td><td>null</td><td>&quot;1&quot;</td><td>&quot;56261689&quot;</td><td>&quot;134532&quot;</td><td>&quot;21000&quot;</td><td>&quot;134532&quot;</td><td>&quot;21000&quot;</td><td>&quot;2018&quot;</td><td>&quot;1&quot;</td><td>&quot;HS2&quot;</td><td>&quot;1/1/2018&quot;</td><td>&quot;Live Animals&quot;</td></tr><tr><td>&quot;-&quot;</td><td>&quot;TOTAL FOR ALL PORTS&quot;</td><td>&quot;0014&quot;</td><td>null</td><td>&quot;1&quot;</td><td>&quot;3595903&quot;</td><td>&quot;257486&quot;</td><td>&quot;99408&quot;</td><td>&quot;257486&quot;</td><td>&quot;99408&quot;</td><td>&quot;2018&quot;</td><td>&quot;1&quot;</td><td>&quot;HS2&quot;</td><td>&quot;1/1/2018&quot;</td><td>&quot;Live Animals&quot;</td></tr><tr><td>&quot;-&quot;</td><td>&quot;TOTAL FOR ALL PORTS&quot;</td><td>&quot;0022&quot;</td><td>null</td><td>&quot;1&quot;</td><td>&quot;206506476&quot;</td><td>&quot;134532&quot;</td><td>&quot;21000&quot;</td><td>&quot;134532&quot;</td><td>&quot;21000&quot;</td><td>&quot;2018&quot;</td><td>&quot;1&quot;</td><td>&quot;HS2&quot;</td><td>&quot;1/1/2018&quot;</td><td>&quot;Live Animals&quot;</td></tr><tr><td>&quot;-&quot;</td><td>&quot;TOTAL FOR ALL PORTS&quot;</td><td>&quot;0023&quot;</td><td>null</td><td>&quot;1&quot;</td><td>&quot;155670763&quot;</td><td>&quot;134532&quot;</td><td>&quot;21000&quot;</td><td>&quot;134532&quot;</td><td>&quot;21000&quot;</td><td>&quot;2018&quot;</td><td>&quot;1&quot;</td><td>&quot;HS2&quot;</td><td>&quot;1/1/2018&quot;</td><td>&quot;Live Animals&quot;</td></tr></tbody></table></div>"
      ],
      "text/plain": [
       "shape: (5, 15)\n",
       "┌──────┬───────────────┬──────────┬──────────┬───┬───────┬──────────┬──────────┬────────────────┐\n",
       "│ PORT ┆ PORT_NAME     ┆ CTY_CODE ┆ CTY_NAME ┆ … ┆ MONTH ┆ COMM_LVL ┆ date     ┆ COMMODITY_NAME │\n",
       "│ ---  ┆ ---           ┆ ---      ┆ ---      ┆   ┆ ---   ┆ ---      ┆ ---      ┆ ---            │\n",
       "│ str  ┆ str           ┆ str      ┆ str      ┆   ┆ str   ┆ str      ┆ str      ┆ str            │\n",
       "╞══════╪═══════════════╪══════════╪══════════╪═══╪═══════╪══════════╪══════════╪════════════════╡\n",
       "│ -    ┆ TOTAL FOR ALL ┆ -        ┆ null     ┆ … ┆ 1     ┆ HS2      ┆ 1/1/2018 ┆ Live Animals   │\n",
       "│      ┆ PORTS         ┆          ┆          ┆   ┆       ┆          ┆          ┆                │\n",
       "│ -    ┆ TOTAL FOR ALL ┆ 0003     ┆ null     ┆ … ┆ 1     ┆ HS2      ┆ 1/1/2018 ┆ Live Animals   │\n",
       "│      ┆ PORTS         ┆          ┆          ┆   ┆       ┆          ┆          ┆                │\n",
       "│ -    ┆ TOTAL FOR ALL ┆ 0014     ┆ null     ┆ … ┆ 1     ┆ HS2      ┆ 1/1/2018 ┆ Live Animals   │\n",
       "│      ┆ PORTS         ┆          ┆          ┆   ┆       ┆          ┆          ┆                │\n",
       "│ -    ┆ TOTAL FOR ALL ┆ 0022     ┆ null     ┆ … ┆ 1     ┆ HS2      ┆ 1/1/2018 ┆ Live Animals   │\n",
       "│      ┆ PORTS         ┆          ┆          ┆   ┆       ┆          ┆          ┆                │\n",
       "│ -    ┆ TOTAL FOR ALL ┆ 0023     ┆ null     ┆ … ┆ 1     ┆ HS2      ┆ 1/1/2018 ┆ Live Animals   │\n",
       "│      ┆ PORTS         ┆          ┆          ┆   ┆       ┆          ┆          ┆                │\n",
       "└──────┴───────────────┴──────────┴──────────┴───┴───────┴──────────┴──────────┴────────────────┘"
      ]
     },
     "execution_count": 3,
     "metadata": {},
     "output_type": "execute_result"
    }
   ],
   "source": [
    "importvol_df = pl.read_csv('../port data/volumes/portimports.csv', infer_schema_length=0)\n",
    "importvol_df.head()"
   ]
  },
  {
   "cell_type": "code",
   "execution_count": 4,
   "id": "17026fe9",
   "metadata": {},
   "outputs": [
    {
     "data": {
      "text/html": [
       "<div><style>\n",
       ".dataframe > thead > tr,\n",
       ".dataframe > tbody > tr {\n",
       "  text-align: right;\n",
       "  white-space: pre-wrap;\n",
       "}\n",
       "</style>\n",
       "<small>shape: (5, 15)</small><table border=\"1\" class=\"dataframe\"><thead><tr><th>PORT</th><th>PORT_NAME</th><th>CTY_CODE</th><th>CTY_NAME</th><th>E_COMMODITY</th><th>ALL_VAL_MO</th><th>CNT_VAL_MO</th><th>CNT_WGT_MO</th><th>VES_VAL_MO</th><th>VES_WGT_MO</th><th>YEAR</th><th>MONTH</th><th>COMM_LVL</th><th>date</th><th>COMMODITY_NAME</th></tr><tr><td>str</td><td>str</td><td>str</td><td>str</td><td>str</td><td>str</td><td>str</td><td>str</td><td>str</td><td>str</td><td>str</td><td>str</td><td>str</td><td>str</td><td>str</td></tr></thead><tbody><tr><td>&quot;1003&quot;</td><td>&quot;NEWARK, NJ&quot;</td><td>&quot;5180&quot;</td><td>&quot;Qatar&quot;</td><td>&quot;9&quot;</td><td>&quot;36780&quot;</td><td>&quot;36780&quot;</td><td>&quot;2796&quot;</td><td>&quot;36780&quot;</td><td>&quot;2796&quot;</td><td>&quot;2018&quot;</td><td>&quot;8&quot;</td><td>&quot;HS2&quot;</td><td>&quot;2018-08-01&quot;</td><td>&quot;Coffee, Tea, Maté, and Spices&quot;</td></tr><tr><td>&quot;1003&quot;</td><td>&quot;NEWARK, NJ&quot;</td><td>&quot;5180&quot;</td><td>&quot;Qatar&quot;</td><td>&quot;4&quot;</td><td>&quot;40800&quot;</td><td>&quot;40800&quot;</td><td>&quot;15000&quot;</td><td>&quot;40800&quot;</td><td>&quot;15000&quot;</td><td>&quot;2023&quot;</td><td>&quot;8&quot;</td><td>&quot;HS2&quot;</td><td>&quot;2023-08-01&quot;</td><td>&quot;Dairy Produce; Birds&#x27; Eggs; Na…</td></tr><tr><td>&quot;1003&quot;</td><td>&quot;NEWARK, NJ&quot;</td><td>&quot;5180&quot;</td><td>&quot;Qatar&quot;</td><td>&quot;8&quot;</td><td>&quot;26965&quot;</td><td>&quot;26965&quot;</td><td>&quot;5300&quot;</td><td>&quot;26965&quot;</td><td>&quot;5300&quot;</td><td>&quot;2022&quot;</td><td>&quot;1&quot;</td><td>&quot;HS2&quot;</td><td>&quot;2022-01-01&quot;</td><td>&quot;Edible Fruit and Nuts; Peel of…</td></tr><tr><td>&quot;1003&quot;</td><td>&quot;NEWARK, NJ&quot;</td><td>&quot;5180&quot;</td><td>&quot;Qatar&quot;</td><td>&quot;9&quot;</td><td>&quot;168541&quot;</td><td>&quot;168541&quot;</td><td>&quot;19904&quot;</td><td>&quot;168541&quot;</td><td>&quot;19904&quot;</td><td>&quot;2018&quot;</td><td>&quot;11&quot;</td><td>&quot;HS2&quot;</td><td>&quot;2018-11-01&quot;</td><td>&quot;Coffee, Tea, Maté, and Spices&quot;</td></tr><tr><td>&quot;1003&quot;</td><td>&quot;NEWARK, NJ&quot;</td><td>&quot;5180&quot;</td><td>&quot;Qatar&quot;</td><td>&quot;9&quot;</td><td>&quot;54349&quot;</td><td>&quot;54349&quot;</td><td>&quot;5856&quot;</td><td>&quot;54349&quot;</td><td>&quot;5856&quot;</td><td>&quot;2023&quot;</td><td>&quot;6&quot;</td><td>&quot;HS2&quot;</td><td>&quot;2023-06-01&quot;</td><td>&quot;Coffee, Tea, Maté, and Spices&quot;</td></tr></tbody></table></div>"
      ],
      "text/plain": [
       "shape: (5, 15)\n",
       "┌──────┬────────────┬──────────┬──────────┬───┬───────┬──────────┬────────────┬────────────────────┐\n",
       "│ PORT ┆ PORT_NAME  ┆ CTY_CODE ┆ CTY_NAME ┆ … ┆ MONTH ┆ COMM_LVL ┆ date       ┆ COMMODITY_NAME     │\n",
       "│ ---  ┆ ---        ┆ ---      ┆ ---      ┆   ┆ ---   ┆ ---      ┆ ---        ┆ ---                │\n",
       "│ str  ┆ str        ┆ str      ┆ str      ┆   ┆ str   ┆ str      ┆ str        ┆ str                │\n",
       "╞══════╪════════════╪══════════╪══════════╪═══╪═══════╪══════════╪════════════╪════════════════════╡\n",
       "│ 1003 ┆ NEWARK, NJ ┆ 5180     ┆ Qatar    ┆ … ┆ 8     ┆ HS2      ┆ 2018-08-01 ┆ Coffee, Tea, Maté, │\n",
       "│      ┆            ┆          ┆          ┆   ┆       ┆          ┆            ┆ and Spices         │\n",
       "│ 1003 ┆ NEWARK, NJ ┆ 5180     ┆ Qatar    ┆ … ┆ 8     ┆ HS2      ┆ 2023-08-01 ┆ Dairy Produce;     │\n",
       "│      ┆            ┆          ┆          ┆   ┆       ┆          ┆            ┆ Birds' Eggs; Na…   │\n",
       "│ 1003 ┆ NEWARK, NJ ┆ 5180     ┆ Qatar    ┆ … ┆ 1     ┆ HS2      ┆ 2022-01-01 ┆ Edible Fruit and   │\n",
       "│      ┆            ┆          ┆          ┆   ┆       ┆          ┆            ┆ Nuts; Peel of…     │\n",
       "│ 1003 ┆ NEWARK, NJ ┆ 5180     ┆ Qatar    ┆ … ┆ 11    ┆ HS2      ┆ 2018-11-01 ┆ Coffee, Tea, Maté, │\n",
       "│      ┆            ┆          ┆          ┆   ┆       ┆          ┆            ┆ and Spices         │\n",
       "│ 1003 ┆ NEWARK, NJ ┆ 5180     ┆ Qatar    ┆ … ┆ 6     ┆ HS2      ┆ 2023-06-01 ┆ Coffee, Tea, Maté, │\n",
       "│      ┆            ┆          ┆          ┆   ┆       ┆          ┆            ┆ and Spices         │\n",
       "└──────┴────────────┴──────────┴──────────┴───┴───────┴──────────┴────────────┴────────────────────┘"
      ]
     },
     "execution_count": 4,
     "metadata": {},
     "output_type": "execute_result"
    }
   ],
   "source": [
    "exportvol_df = pl.read_csv('../port data/volumes/portexports.csv', infer_schema_length=0)\n",
    "exportvol_df.head()"
   ]
  },
  {
   "cell_type": "markdown",
   "id": "db42b8c3",
   "metadata": {},
   "source": [
    "## Visualization Functions\n",
    "\n",
    "For the dashboard and PNREC presentation, we define a handful of visualization types (e.g. scatter map, line plot, bar chart, etc) and code to allow both default visualizations as well as custom user-generated visualizations. "
   ]
  },
  {
   "cell_type": "code",
   "execution_count": 5,
   "id": "1ff244ab",
   "metadata": {},
   "outputs": [],
   "source": [
    "#define zoom level function for plotly express scatter_mapbox\n",
    "def mapbox_zoom_finder(lons, lats, lon_pad=0, lat_pad=0):\n",
    "    \"\"\"\n",
    "    Calculates the optimal zoom level for a Plotly Mapbox plot.\n",
    "    Args:\n",
    "        lons (list): List of longitudes.\n",
    "        lats (list): List of latitudes.\n",
    "        lon_pad (float, optional): Padding to add to the longitude range. Defaults to 0.\n",
    "        lat_pad (float, optional): Padding to add to the latitude range. Defaults to 0.\n",
    "    Returns:\n",
    "        zoom (int): the calculated zoom level\n",
    "    \"\"\"\n",
    "    # Check if the lengths of lons and lats are equal and not empty\n",
    "    if len(lons) != len(lats) or len(lons) == 0:\n",
    "        return 10\n",
    "    # Calculate the maximum and minimum longitude and latitude\n",
    "    max_lon, min_lon = max(lons), min(lons)\n",
    "    max_lat, min_lat = max(lats), min(lats)\n",
    "    # Calculate the longitude and latitude ranges\n",
    "    lon_range = max_lon - min_lon\n",
    "    lat_range = max_lat - min_lat\n",
    "    # Calculate the zoom level based on the ranges\n",
    "    zoom = 7 - np.log2(max(lon_range + lon_pad, lat_range + lat_pad))\n",
    "    return zoom\n",
    "\n",
    "def plot_mapbox(df, cat_group,  lat_col, lon_col, \n",
    "                size_col, size_col_alias, color_col, color_col_alias, \n",
    "                title, filter_col=None, filter=None, time_col='date', \n",
    "                time_range=[earliest_date, latest_date], \n",
    "                zoom=None, center=None, width=800, height=600, \n",
    "                size_max=30, range_color=None, hover_name=None, hover_data=None, \n",
    "                mapbox_style='carto-positron', labels=None, \n",
    "                color_continuous_scale=None, color_outlier_z=None):\n",
    "    \"\"\"\n",
    "    Plots a Mapbox scatter plot using Plotly.\n",
    "    \"\"\"\n",
    "    #init df\n",
    "    df = df\n",
    "    #filter if specified\n",
    "    if filter_col:\n",
    "        df = df.filter(pl.col(filter_col).is_in(filter))\n",
    "    #generate df\n",
    "    df = (\n",
    "        df\n",
    "        #filter by time range\n",
    "        .filter(pl.col(time_col).is_between(time_range[0], time_range[1]))\n",
    "        .group_by(cat_group)\n",
    "        .agg(\n",
    "            #get the lat and lon columns\n",
    "            pl.col(lat_col).first().alias(lat_col),\n",
    "            pl.col(lon_col).first().alias(lon_col),\n",
    "            #get hover name\n",
    "            #may be different or same as cat_group\n",
    "            #get stats\n",
    "            pl.col(size_col).mean().alias(size_col_alias),\n",
    "            pl.col(color_col).mean().alias(color_col_alias),\n",
    "        )\n",
    "    )\n",
    "\n",
    "    #Set default color scale if not provided\n",
    "    if not color_continuous_scale:\n",
    "        color_continuous_scale = px.colors.sequential.Viridis\n",
    "\n",
    "    # Set the zoom level automatically if not provided\n",
    "    if not zoom:\n",
    "        zoom = mapbox_zoom_finder(df[lon_col], df[lat_col])\n",
    "\n",
    "    #Set the center of the map if not provided\n",
    "    if not center:\n",
    "        center = {\n",
    "            'lat': ((df[lat_col].max() - df[lat_col].min()) / 2),\n",
    "            'lon': ((df[lon_col].max() - df[lon_col].min()) / 2)\n",
    "        }\n",
    "\n",
    "    #drop outliers if specified\n",
    "    if color_outlier_z:\n",
    "        #get color_col upper and lower limits based on z score\n",
    "        color_col_mean, color_col_std = df[color_col_alias].mean(), df[color_col_alias].std()\n",
    "        color_col_upper = color_col_mean + (color_col_std * color_outlier_z)\n",
    "        color_col_lower = color_col_mean - (color_col_std * color_outlier_z)\n",
    "        #set range color\n",
    "        range_color = [color_col_lower, color_col_upper]\n",
    "\n",
    "    # Create a scatter mapbox figure\n",
    "    fig = px.scatter_mapbox(\n",
    "        #data\n",
    "        df, lat=lat_col, lon=lon_col,\n",
    "        #categories\n",
    "        size=size_col_alias, color=color_col_alias,\n",
    "        #hover info\n",
    "        hover_name=hover_name, hover_data=hover_data,\n",
    "        #display settings\n",
    "        range_color=range_color, size_max=size_max,\n",
    "        color_continuous_scale=color_continuous_scale, mapbox_style=mapbox_style,\n",
    "        width=width, height=height,\n",
    "        #title and labals\n",
    "        title=title, labels=labels\n",
    "    )\n",
    "    # Set the zoom level\n",
    "    fig.update_layout(mapbox_zoom=zoom)\n",
    "\n",
    "    #NOTE Add annotation if specified\n",
    "\n",
    "    return fig\n",
    "\n",
    "def plot_line(df, cat_group, time_col, y_col, y_col_alias, title,\n",
    "              filter_col=None, filter=None, cat_limit=None, cat_limit_col=None, \n",
    "              time_range=[earliest_date, latest_date], \n",
    "              width=800, height=600, hover_name=None, \n",
    "              hover_data=None, labels=None, color_continuous_scale=None, \n",
    "              highlight=None, highlight_color=None):\n",
    "    \"\"\"\n",
    "    Plots a line chart using Plotly Express.\n",
    "    \"\"\"\n",
    "    #initialize df\n",
    "    df = (\n",
    "        df\n",
    "        #filter by time range\n",
    "        .filter(pl.col(time_col).is_between(time_range[0], time_range[1]))\n",
    "    )\n",
    "    #filter if specified\n",
    "    if filter_col:\n",
    "        df = df.filter(pl.col(filter_col).is_in(filter))\n",
    "    #limit categories if specified\n",
    "    if cat_limit:\n",
    "        #get the top n categories\n",
    "        top_cats = (\n",
    "            df.group_by(cat_group)\n",
    "            .agg(pl.col(cat_limit_col).sum())\n",
    "            .sort(pl.col(cat_limit_col), descending=True)\n",
    "            .limit(cat_limit)\n",
    "            .to_series()\n",
    "        )\n",
    "        #filter to only top n categories or highlight category\n",
    "        df = df.filter(pl.col(cat_group)\n",
    "                       .is_in(top_cats.append(pl.Series([highlight]))))\n",
    "    #generate df\n",
    "    df = (\n",
    "        df\n",
    "        .group_by(cat_group, time_col)\n",
    "        .agg(\n",
    "            #compute y col mean\n",
    "            pl.col(y_col).mean().alias(y_col_alias)\n",
    "        )\n",
    "        .sort(time_col)\n",
    "    )\n",
    "\n",
    "    # Set default color scale if not provided\n",
    "    if not color_continuous_scale:\n",
    "        color_continuous_scale = px.colors.sequential.Viridis\n",
    "\n",
    "    # Create a line figure\n",
    "    fig = px.line(\n",
    "        df,\n",
    "        x=time_col,\n",
    "        y=y_col_alias,\n",
    "        color=cat_group,\n",
    "        title=title,\n",
    "        labels=labels,\n",
    "        hover_name=hover_name,\n",
    "        hover_data=hover_data,\n",
    "    )\n",
    "    # Set the width and height of the figure\n",
    "    fig.update_layout(width=width, height=height)\n",
    "\n",
    "    #highlight given lines if specified\n",
    "    if highlight:\n",
    "        fig.update_traces(line_color='lightgray')\n",
    "        fig.update_traces(patch={'line': {'color': highlight_color}}, \n",
    "                          selector=dict(name=highlight))\n",
    "\n",
    "    return fig\n",
    "\n",
    "#the above takes the mean of y_col; this takes the count (e.g., number of calls)\n",
    "def plot_line_count(df, cat_group, time_col, y_col, y_col_alias, title,\n",
    "              filter_col=None, filter=None, cat_limit=None, cat_limit_col=None, \n",
    "              time_range=[earliest_date, latest_date], \n",
    "              width=800, height=600, hover_name=None, \n",
    "              hover_data=None, labels=None, color_continuous_scale=None, \n",
    "              highlight=None, highlight_color=None):\n",
    "    \"\"\"\n",
    "    Plots a line chart using Plotly Express.\n",
    "    \"\"\"\n",
    "    #initialize df\n",
    "    df = (\n",
    "        df\n",
    "        #filter by time range\n",
    "        .filter(pl.col(time_col).is_between(time_range[0], time_range[1]))\n",
    "    )\n",
    "    #filter if specified\n",
    "    if filter_col:\n",
    "        df = df.filter(pl.col(filter_col).is_in(filter))\n",
    "    #limit categories if specified\n",
    "    if cat_limit:\n",
    "        #get the top n categories\n",
    "        top_cats = (\n",
    "            df.group_by(cat_group)\n",
    "            .agg(pl.col(cat_limit_col).count())\n",
    "            .sort(pl.col(cat_limit_col), descending=True)\n",
    "            .limit(cat_limit)\n",
    "            .to_series()\n",
    "        )\n",
    "        #filter to only top n categories or highlight category\n",
    "        df = df.filter(pl.col(cat_group)\n",
    "                       .is_in(top_cats.append(pl.Series([highlight]))))\n",
    "    #generate df\n",
    "    df = (\n",
    "        df\n",
    "        .group_by(cat_group, time_col)\n",
    "        .agg(\n",
    "            #compute y col mean\n",
    "            pl.col(y_col).count().alias(y_col_alias)\n",
    "        )\n",
    "        .sort(time_col)\n",
    "    )\n",
    "\n",
    "    # Set default color scale if not provided\n",
    "    if not color_continuous_scale:\n",
    "        color_continuous_scale = px.colors.sequential.Viridis\n",
    "\n",
    "    # Create a line figure\n",
    "    fig = px.line(\n",
    "        df,\n",
    "        x=time_col,\n",
    "        y=y_col_alias,\n",
    "        color=cat_group,\n",
    "        title=title,\n",
    "        labels=labels,\n",
    "        hover_name=hover_name,\n",
    "        hover_data=hover_data,\n",
    "    )\n",
    "    # Set the width and height of the figure\n",
    "    fig.update_layout(width=width, height=height)\n",
    "\n",
    "    #highlight given lines if specified\n",
    "    if highlight:\n",
    "        fig.update_traces(line_color='lightgray')\n",
    "        fig.update_traces(patch={'line': {'color': highlight_color}}, \n",
    "                          selector=dict(name=highlight))\n",
    "\n",
    "    return fig\n",
    "\n",
    "\n",
    "def bar_ranking(df, cat_group, stat_col, stat_alias, title, limit=20, \n",
    "                filter_col=None, filter=None, \n",
    "                time_col='month', time_range=[earliest_date, latest_date],\n",
    "                labels=None, width=800, height=600, \n",
    "                highlight=None):\n",
    "    '''\n",
    "    '''\n",
    "    #initialize df\n",
    "    df = (\n",
    "        df\n",
    "        #filter by time range\n",
    "        .filter(pl.col(time_col).is_between(time_range[0], time_range[1]))\n",
    "    )\n",
    "    #filter if specified\n",
    "    if filter_col:\n",
    "        df = df.filter(pl.col(filter_col).is_in(filter))\n",
    "    #get top n categories\n",
    "    top_cats = (\n",
    "        df\n",
    "        .group_by(cat_group)\n",
    "        .agg(pl.col(stat_col).mean().alias(stat_alias))\n",
    "        .sort(pl.col(stat_alias), descending=True)\n",
    "        .limit(limit)\n",
    "        .to_series()\n",
    "    )\n",
    "    #create df\n",
    "    df = (\n",
    "        df\n",
    "        .filter(pl.col(cat_group).is_in(top_cats.append(pl.Series([highlight]))))\n",
    "        .group_by(cat_group)\n",
    "        .agg(pl.col(stat_col).mean().alias(stat_alias))\n",
    "        .sort(pl.col(stat_alias))\n",
    "    )\n",
    "    # Create a bar figure\n",
    "    fig = px.bar(\n",
    "        df,\n",
    "        x=stat_alias, y=cat_group,\n",
    "        title=title, labels=labels,\n",
    "        width=width, height=height,\n",
    "    )\n",
    "\n",
    "    #set highlight if specified\n",
    "    if highlight:\n",
    "        fig[\"data\"][0][\"marker\"][\"color\"] = (\n",
    "            [fig[\"data\"][0][\"marker\"]['color'] if c == highlight \n",
    "             else \"lightgrey\" for c in fig[\"data\"][0][\"y\"]]\n",
    "        )\n",
    "    \n",
    "    return fig\n"
   ]
  },
  {
   "cell_type": "markdown",
   "id": "738b6e44",
   "metadata": {},
   "source": [
    "## PNREC Visualizations\n",
    "\n",
    "### National Context\n",
    "\n",
    "To put the Northwest Seaport Alliance in context, we present various KPIs and associated trends\n",
    "\n",
    "#### Efficiency Rankings "
   ]
  },
  {
   "cell_type": "code",
   "execution_count": 6,
   "id": "e43978b2",
   "metadata": {},
   "outputs": [
    {
     "data": {
      "application/vnd.plotly.v1+json": {
       "config": {
        "plotlyServerURL": "https://plot.ly"
       },
       "data": [
        {
         "hovertemplate": "Vessel Size (m) per Hour at Berth=%{x}<br>Port=%{y}<extra></extra>",
         "legendgroup": "",
         "marker": {
          "color": [
           "lightgrey",
           "lightgrey",
           "lightgrey",
           "lightgrey",
           "lightgrey",
           "lightgrey",
           "lightgrey",
           "lightgrey",
           "lightgrey",
           "lightgrey",
           "lightgrey",
           "lightgrey",
           "#636efa",
           "lightgrey",
           "lightgrey",
           "lightgrey",
           "lightgrey",
           "lightgrey",
           "lightgrey",
           "lightgrey",
           "lightgrey",
           "lightgrey",
           "lightgrey",
           "lightgrey",
           "lightgrey",
           "lightgrey",
           "lightgrey",
           "lightgrey",
           "lightgrey",
           "lightgrey"
          ],
          "pattern": {
           "shape": ""
          }
         },
         "name": "",
         "orientation": "h",
         "showlegend": false,
         "textposition": "auto",
         "type": "bar",
         "x": {
          "bdata": "1AbhcLafJkCterOyh24nQNU3zbTo9SdAP62+p9ImKED67afk+o8qQOe3Qk3CSStA8ah3Hus+LEBPqYJhoFosQAs8WpvQOC9AQJDhN+FfL0BpmWge9GgvQCO1S+bsITBAaU6ZOak0MED/63nFt5YwQE6a37km4zBAx0zTJTDvMEATRQgG0IYxQJk9nylcnTFA9Gc1a749MkA+WNhWUcQyQLEmOYdS5jJA/DnYYuJ8M0B4bepRTs4zQI5LWWqoQjVA2tbmABD9NUBSrb/a/A03QFVRapWfqjpAMji6MYICO0DOsBlwgV1AQAeVQe4GhkNA",
          "dtype": "f8"
         },
         "xaxis": "x",
         "y": [
          "Baltimore, MD",
          "New Haven, CT",
          "Panama City Port Authority, FL",
          "Port of Savannah, GA",
          "Port Freeport, TX",
          "Searsport, ME",
          "San Pedro Ports",
          "Guayama, PR",
          "Port Everglades, FL",
          "New York, NY & NJ",
          "New Orleans, LA",
          "Port of Everett, WA",
          "NW Seaport Alliance",
          "Honolulu, O'ahu, HI",
          "Port of Alaska, AK",
          "Oxnard Harbor District, CA",
          "PortMiami, FL",
          "Portsmouth, NH",
          "San Juan, PR",
          "Port of Brunswick, GA",
          "Port of Charleston, SC",
          "Port of Gulfport, MS",
          "Port of Oakland, CA",
          "Wilmington, NC",
          "Virginia, VA, Port of",
          "Boston, MA",
          "Bridgeport, CT",
          "Unalaska Island, AK",
          "Nawiliwili, Kaua'i, HI",
          "Kahului, Maui, HI"
         ],
         "yaxis": "y"
        }
       ],
       "layout": {
        "barmode": "relative",
        "height": 600,
        "legend": {
         "tracegroupgap": 0
        },
        "template": {
         "data": {
          "bar": [
           {
            "error_x": {
             "color": "#2a3f5f"
            },
            "error_y": {
             "color": "#2a3f5f"
            },
            "marker": {
             "line": {
              "color": "#E5ECF6",
              "width": 0.5
             },
             "pattern": {
              "fillmode": "overlay",
              "size": 10,
              "solidity": 0.2
             }
            },
            "type": "bar"
           }
          ],
          "barpolar": [
           {
            "marker": {
             "line": {
              "color": "#E5ECF6",
              "width": 0.5
             },
             "pattern": {
              "fillmode": "overlay",
              "size": 10,
              "solidity": 0.2
             }
            },
            "type": "barpolar"
           }
          ],
          "carpet": [
           {
            "aaxis": {
             "endlinecolor": "#2a3f5f",
             "gridcolor": "white",
             "linecolor": "white",
             "minorgridcolor": "white",
             "startlinecolor": "#2a3f5f"
            },
            "baxis": {
             "endlinecolor": "#2a3f5f",
             "gridcolor": "white",
             "linecolor": "white",
             "minorgridcolor": "white",
             "startlinecolor": "#2a3f5f"
            },
            "type": "carpet"
           }
          ],
          "choropleth": [
           {
            "colorbar": {
             "outlinewidth": 0,
             "ticks": ""
            },
            "type": "choropleth"
           }
          ],
          "contour": [
           {
            "colorbar": {
             "outlinewidth": 0,
             "ticks": ""
            },
            "colorscale": [
             [
              0,
              "#0d0887"
             ],
             [
              0.1111111111111111,
              "#46039f"
             ],
             [
              0.2222222222222222,
              "#7201a8"
             ],
             [
              0.3333333333333333,
              "#9c179e"
             ],
             [
              0.4444444444444444,
              "#bd3786"
             ],
             [
              0.5555555555555556,
              "#d8576b"
             ],
             [
              0.6666666666666666,
              "#ed7953"
             ],
             [
              0.7777777777777778,
              "#fb9f3a"
             ],
             [
              0.8888888888888888,
              "#fdca26"
             ],
             [
              1,
              "#f0f921"
             ]
            ],
            "type": "contour"
           }
          ],
          "contourcarpet": [
           {
            "colorbar": {
             "outlinewidth": 0,
             "ticks": ""
            },
            "type": "contourcarpet"
           }
          ],
          "heatmap": [
           {
            "colorbar": {
             "outlinewidth": 0,
             "ticks": ""
            },
            "colorscale": [
             [
              0,
              "#0d0887"
             ],
             [
              0.1111111111111111,
              "#46039f"
             ],
             [
              0.2222222222222222,
              "#7201a8"
             ],
             [
              0.3333333333333333,
              "#9c179e"
             ],
             [
              0.4444444444444444,
              "#bd3786"
             ],
             [
              0.5555555555555556,
              "#d8576b"
             ],
             [
              0.6666666666666666,
              "#ed7953"
             ],
             [
              0.7777777777777778,
              "#fb9f3a"
             ],
             [
              0.8888888888888888,
              "#fdca26"
             ],
             [
              1,
              "#f0f921"
             ]
            ],
            "type": "heatmap"
           }
          ],
          "histogram": [
           {
            "marker": {
             "pattern": {
              "fillmode": "overlay",
              "size": 10,
              "solidity": 0.2
             }
            },
            "type": "histogram"
           }
          ],
          "histogram2d": [
           {
            "colorbar": {
             "outlinewidth": 0,
             "ticks": ""
            },
            "colorscale": [
             [
              0,
              "#0d0887"
             ],
             [
              0.1111111111111111,
              "#46039f"
             ],
             [
              0.2222222222222222,
              "#7201a8"
             ],
             [
              0.3333333333333333,
              "#9c179e"
             ],
             [
              0.4444444444444444,
              "#bd3786"
             ],
             [
              0.5555555555555556,
              "#d8576b"
             ],
             [
              0.6666666666666666,
              "#ed7953"
             ],
             [
              0.7777777777777778,
              "#fb9f3a"
             ],
             [
              0.8888888888888888,
              "#fdca26"
             ],
             [
              1,
              "#f0f921"
             ]
            ],
            "type": "histogram2d"
           }
          ],
          "histogram2dcontour": [
           {
            "colorbar": {
             "outlinewidth": 0,
             "ticks": ""
            },
            "colorscale": [
             [
              0,
              "#0d0887"
             ],
             [
              0.1111111111111111,
              "#46039f"
             ],
             [
              0.2222222222222222,
              "#7201a8"
             ],
             [
              0.3333333333333333,
              "#9c179e"
             ],
             [
              0.4444444444444444,
              "#bd3786"
             ],
             [
              0.5555555555555556,
              "#d8576b"
             ],
             [
              0.6666666666666666,
              "#ed7953"
             ],
             [
              0.7777777777777778,
              "#fb9f3a"
             ],
             [
              0.8888888888888888,
              "#fdca26"
             ],
             [
              1,
              "#f0f921"
             ]
            ],
            "type": "histogram2dcontour"
           }
          ],
          "mesh3d": [
           {
            "colorbar": {
             "outlinewidth": 0,
             "ticks": ""
            },
            "type": "mesh3d"
           }
          ],
          "parcoords": [
           {
            "line": {
             "colorbar": {
              "outlinewidth": 0,
              "ticks": ""
             }
            },
            "type": "parcoords"
           }
          ],
          "pie": [
           {
            "automargin": true,
            "type": "pie"
           }
          ],
          "scatter": [
           {
            "fillpattern": {
             "fillmode": "overlay",
             "size": 10,
             "solidity": 0.2
            },
            "type": "scatter"
           }
          ],
          "scatter3d": [
           {
            "line": {
             "colorbar": {
              "outlinewidth": 0,
              "ticks": ""
             }
            },
            "marker": {
             "colorbar": {
              "outlinewidth": 0,
              "ticks": ""
             }
            },
            "type": "scatter3d"
           }
          ],
          "scattercarpet": [
           {
            "marker": {
             "colorbar": {
              "outlinewidth": 0,
              "ticks": ""
             }
            },
            "type": "scattercarpet"
           }
          ],
          "scattergeo": [
           {
            "marker": {
             "colorbar": {
              "outlinewidth": 0,
              "ticks": ""
             }
            },
            "type": "scattergeo"
           }
          ],
          "scattergl": [
           {
            "marker": {
             "colorbar": {
              "outlinewidth": 0,
              "ticks": ""
             }
            },
            "type": "scattergl"
           }
          ],
          "scattermap": [
           {
            "marker": {
             "colorbar": {
              "outlinewidth": 0,
              "ticks": ""
             }
            },
            "type": "scattermap"
           }
          ],
          "scattermapbox": [
           {
            "marker": {
             "colorbar": {
              "outlinewidth": 0,
              "ticks": ""
             }
            },
            "type": "scattermapbox"
           }
          ],
          "scatterpolar": [
           {
            "marker": {
             "colorbar": {
              "outlinewidth": 0,
              "ticks": ""
             }
            },
            "type": "scatterpolar"
           }
          ],
          "scatterpolargl": [
           {
            "marker": {
             "colorbar": {
              "outlinewidth": 0,
              "ticks": ""
             }
            },
            "type": "scatterpolargl"
           }
          ],
          "scatterternary": [
           {
            "marker": {
             "colorbar": {
              "outlinewidth": 0,
              "ticks": ""
             }
            },
            "type": "scatterternary"
           }
          ],
          "surface": [
           {
            "colorbar": {
             "outlinewidth": 0,
             "ticks": ""
            },
            "colorscale": [
             [
              0,
              "#0d0887"
             ],
             [
              0.1111111111111111,
              "#46039f"
             ],
             [
              0.2222222222222222,
              "#7201a8"
             ],
             [
              0.3333333333333333,
              "#9c179e"
             ],
             [
              0.4444444444444444,
              "#bd3786"
             ],
             [
              0.5555555555555556,
              "#d8576b"
             ],
             [
              0.6666666666666666,
              "#ed7953"
             ],
             [
              0.7777777777777778,
              "#fb9f3a"
             ],
             [
              0.8888888888888888,
              "#fdca26"
             ],
             [
              1,
              "#f0f921"
             ]
            ],
            "type": "surface"
           }
          ],
          "table": [
           {
            "cells": {
             "fill": {
              "color": "#EBF0F8"
             },
             "line": {
              "color": "white"
             }
            },
            "header": {
             "fill": {
              "color": "#C8D4E3"
             },
             "line": {
              "color": "white"
             }
            },
            "type": "table"
           }
          ]
         },
         "layout": {
          "annotationdefaults": {
           "arrowcolor": "#2a3f5f",
           "arrowhead": 0,
           "arrowwidth": 1
          },
          "autotypenumbers": "strict",
          "coloraxis": {
           "colorbar": {
            "outlinewidth": 0,
            "ticks": ""
           }
          },
          "colorscale": {
           "diverging": [
            [
             0,
             "#8e0152"
            ],
            [
             0.1,
             "#c51b7d"
            ],
            [
             0.2,
             "#de77ae"
            ],
            [
             0.3,
             "#f1b6da"
            ],
            [
             0.4,
             "#fde0ef"
            ],
            [
             0.5,
             "#f7f7f7"
            ],
            [
             0.6,
             "#e6f5d0"
            ],
            [
             0.7,
             "#b8e186"
            ],
            [
             0.8,
             "#7fbc41"
            ],
            [
             0.9,
             "#4d9221"
            ],
            [
             1,
             "#276419"
            ]
           ],
           "sequential": [
            [
             0,
             "#0d0887"
            ],
            [
             0.1111111111111111,
             "#46039f"
            ],
            [
             0.2222222222222222,
             "#7201a8"
            ],
            [
             0.3333333333333333,
             "#9c179e"
            ],
            [
             0.4444444444444444,
             "#bd3786"
            ],
            [
             0.5555555555555556,
             "#d8576b"
            ],
            [
             0.6666666666666666,
             "#ed7953"
            ],
            [
             0.7777777777777778,
             "#fb9f3a"
            ],
            [
             0.8888888888888888,
             "#fdca26"
            ],
            [
             1,
             "#f0f921"
            ]
           ],
           "sequentialminus": [
            [
             0,
             "#0d0887"
            ],
            [
             0.1111111111111111,
             "#46039f"
            ],
            [
             0.2222222222222222,
             "#7201a8"
            ],
            [
             0.3333333333333333,
             "#9c179e"
            ],
            [
             0.4444444444444444,
             "#bd3786"
            ],
            [
             0.5555555555555556,
             "#d8576b"
            ],
            [
             0.6666666666666666,
             "#ed7953"
            ],
            [
             0.7777777777777778,
             "#fb9f3a"
            ],
            [
             0.8888888888888888,
             "#fdca26"
            ],
            [
             1,
             "#f0f921"
            ]
           ]
          },
          "colorway": [
           "#636efa",
           "#EF553B",
           "#00cc96",
           "#ab63fa",
           "#FFA15A",
           "#19d3f3",
           "#FF6692",
           "#B6E880",
           "#FF97FF",
           "#FECB52"
          ],
          "font": {
           "color": "#2a3f5f"
          },
          "geo": {
           "bgcolor": "white",
           "lakecolor": "white",
           "landcolor": "#E5ECF6",
           "showlakes": true,
           "showland": true,
           "subunitcolor": "white"
          },
          "hoverlabel": {
           "align": "left"
          },
          "hovermode": "closest",
          "mapbox": {
           "style": "light"
          },
          "paper_bgcolor": "white",
          "plot_bgcolor": "#E5ECF6",
          "polar": {
           "angularaxis": {
            "gridcolor": "white",
            "linecolor": "white",
            "ticks": ""
           },
           "bgcolor": "#E5ECF6",
           "radialaxis": {
            "gridcolor": "white",
            "linecolor": "white",
            "ticks": ""
           }
          },
          "scene": {
           "xaxis": {
            "backgroundcolor": "#E5ECF6",
            "gridcolor": "white",
            "gridwidth": 2,
            "linecolor": "white",
            "showbackground": true,
            "ticks": "",
            "zerolinecolor": "white"
           },
           "yaxis": {
            "backgroundcolor": "#E5ECF6",
            "gridcolor": "white",
            "gridwidth": 2,
            "linecolor": "white",
            "showbackground": true,
            "ticks": "",
            "zerolinecolor": "white"
           },
           "zaxis": {
            "backgroundcolor": "#E5ECF6",
            "gridcolor": "white",
            "gridwidth": 2,
            "linecolor": "white",
            "showbackground": true,
            "ticks": "",
            "zerolinecolor": "white"
           }
          },
          "shapedefaults": {
           "line": {
            "color": "#2a3f5f"
           }
          },
          "ternary": {
           "aaxis": {
            "gridcolor": "white",
            "linecolor": "white",
            "ticks": ""
           },
           "baxis": {
            "gridcolor": "white",
            "linecolor": "white",
            "ticks": ""
           },
           "bgcolor": "#E5ECF6",
           "caxis": {
            "gridcolor": "white",
            "linecolor": "white",
            "ticks": ""
           }
          },
          "title": {
           "x": 0.05
          },
          "xaxis": {
           "automargin": true,
           "gridcolor": "white",
           "linecolor": "white",
           "ticks": "",
           "title": {
            "standoff": 15
           },
           "zerolinecolor": "white",
           "zerolinewidth": 2
          },
          "yaxis": {
           "automargin": true,
           "gridcolor": "white",
           "linecolor": "white",
           "ticks": "",
           "title": {
            "standoff": 15
           },
           "zerolinecolor": "white",
           "zerolinewidth": 2
          }
         }
        },
        "title": {
         "text": "Port Efficiency: Vessel Size per Hour at Berth"
        },
        "width": 800,
        "xaxis": {
         "anchor": "y",
         "domain": [
          0,
          1
         ],
         "title": {
          "text": "Vessel Size (m) per Hour at Berth"
         }
        },
        "yaxis": {
         "anchor": "x",
         "domain": [
          0,
          1
         ],
         "title": {
          "text": "Port"
         }
        }
       }
      }
     },
     "metadata": {},
     "output_type": "display_data"
    }
   ],
   "source": [
    "#group and define efficiency metrict\n",
    "df = (\n",
    "    calls_df\n",
    "    .with_columns(\n",
    "        (pl.col('vessel_size')/pl.col('hrs_at_berth')).alias('Efficiency Score')\n",
    "    )\n",
    ")\n",
    "\n",
    "bar_ranking(\n",
    "    df,\n",
    "    cat_group='port_group',\n",
    "    stat_col='Efficiency Score',\n",
    "    stat_alias='Vessel Size (m) per Hour at Berth',\n",
    "    title='Port Efficiency: Vessel Size per Hour at Berth',\n",
    "    limit=30,\n",
    "    labels={'port_group':'Port'},\n",
    "    highlight='NW Seaport Alliance',\n",
    "    width=800,\n",
    "    height=600,\n",
    ")"
   ]
  },
  {
   "cell_type": "markdown",
   "id": "84986214",
   "metadata": {},
   "source": [
    "better: total volume per hour at berth"
   ]
  },
  {
   "cell_type": "code",
   "execution_count": 7,
   "id": "5c6687bf",
   "metadata": {},
   "outputs": [
    {
     "data": {
      "application/vnd.plotly.v1+json": {
       "config": {
        "plotlyServerURL": "https://plot.ly"
       },
       "data": [
        {
         "hovertemplate": "Time in Port Waters (hrs)=%{x}<br>=%{y}<extra></extra>",
         "legendgroup": "",
         "marker": {
          "color": [
           "lightgrey",
           "lightgrey",
           "lightgrey",
           "lightgrey",
           "lightgrey",
           "lightgrey",
           "lightgrey",
           "#636efa",
           "lightgrey",
           "lightgrey",
           "lightgrey",
           "lightgrey",
           "lightgrey",
           "lightgrey",
           "lightgrey",
           "lightgrey",
           "lightgrey",
           "lightgrey",
           "lightgrey",
           "lightgrey"
          ],
          "pattern": {
           "shape": ""
          }
         },
         "name": "",
         "orientation": "h",
         "showlegend": false,
         "textposition": "auto",
         "type": "bar",
         "x": {
          "bdata": "RFDXoB/cPUAL0xdrAQtAQBjPMmQuV0JAmpwOSEH8Q0DLtVkJUoVGQPehrvOzF0pANm2YUlo8SkBoFKVL9FBKQHs/qfmRnEpA/mkVOdMwS0Dqna9WxMpOQDYS0/MGzk5AyGzRvR4eUEB2mZt9IbtRQFsbe30zDFJAmXoxzMfoU0A2ssUCoHNUQAWEqwc0FldAhiNyIXqNW0Bn8h7NoaZcQA==",
          "dtype": "f8"
         },
         "xaxis": "x",
         "y": [
          "San Juan, PR",
          "PortMiami, FL",
          "Wilmington, NC",
          "Port of Brunswick, GA",
          "Texas City, TX",
          "Port Everglades, FL",
          "Virginia, VA, Port of",
          "NW Seaport Alliance",
          "Honolulu, O'ahu, HI",
          "Port of Savannah, GA",
          "Port of Oakland, CA",
          "South Louisiana, LA, Port of",
          "Port Arthur, TX",
          "Mobile, AL",
          "Baltimore, MD",
          "Corpus Christi, TX",
          "New Orleans, LA",
          "Galveston, TX",
          "San Pedro Ports",
          "Houston Port Authority, TX"
         ],
         "yaxis": "y"
        }
       ],
       "layout": {
        "barmode": "relative",
        "height": 500,
        "legend": {
         "tracegroupgap": 0
        },
        "template": {
         "data": {
          "bar": [
           {
            "error_x": {
             "color": "#2a3f5f"
            },
            "error_y": {
             "color": "#2a3f5f"
            },
            "marker": {
             "line": {
              "color": "#E5ECF6",
              "width": 0.5
             },
             "pattern": {
              "fillmode": "overlay",
              "size": 10,
              "solidity": 0.2
             }
            },
            "type": "bar"
           }
          ],
          "barpolar": [
           {
            "marker": {
             "line": {
              "color": "#E5ECF6",
              "width": 0.5
             },
             "pattern": {
              "fillmode": "overlay",
              "size": 10,
              "solidity": 0.2
             }
            },
            "type": "barpolar"
           }
          ],
          "carpet": [
           {
            "aaxis": {
             "endlinecolor": "#2a3f5f",
             "gridcolor": "white",
             "linecolor": "white",
             "minorgridcolor": "white",
             "startlinecolor": "#2a3f5f"
            },
            "baxis": {
             "endlinecolor": "#2a3f5f",
             "gridcolor": "white",
             "linecolor": "white",
             "minorgridcolor": "white",
             "startlinecolor": "#2a3f5f"
            },
            "type": "carpet"
           }
          ],
          "choropleth": [
           {
            "colorbar": {
             "outlinewidth": 0,
             "ticks": ""
            },
            "type": "choropleth"
           }
          ],
          "contour": [
           {
            "colorbar": {
             "outlinewidth": 0,
             "ticks": ""
            },
            "colorscale": [
             [
              0,
              "#0d0887"
             ],
             [
              0.1111111111111111,
              "#46039f"
             ],
             [
              0.2222222222222222,
              "#7201a8"
             ],
             [
              0.3333333333333333,
              "#9c179e"
             ],
             [
              0.4444444444444444,
              "#bd3786"
             ],
             [
              0.5555555555555556,
              "#d8576b"
             ],
             [
              0.6666666666666666,
              "#ed7953"
             ],
             [
              0.7777777777777778,
              "#fb9f3a"
             ],
             [
              0.8888888888888888,
              "#fdca26"
             ],
             [
              1,
              "#f0f921"
             ]
            ],
            "type": "contour"
           }
          ],
          "contourcarpet": [
           {
            "colorbar": {
             "outlinewidth": 0,
             "ticks": ""
            },
            "type": "contourcarpet"
           }
          ],
          "heatmap": [
           {
            "colorbar": {
             "outlinewidth": 0,
             "ticks": ""
            },
            "colorscale": [
             [
              0,
              "#0d0887"
             ],
             [
              0.1111111111111111,
              "#46039f"
             ],
             [
              0.2222222222222222,
              "#7201a8"
             ],
             [
              0.3333333333333333,
              "#9c179e"
             ],
             [
              0.4444444444444444,
              "#bd3786"
             ],
             [
              0.5555555555555556,
              "#d8576b"
             ],
             [
              0.6666666666666666,
              "#ed7953"
             ],
             [
              0.7777777777777778,
              "#fb9f3a"
             ],
             [
              0.8888888888888888,
              "#fdca26"
             ],
             [
              1,
              "#f0f921"
             ]
            ],
            "type": "heatmap"
           }
          ],
          "histogram": [
           {
            "marker": {
             "pattern": {
              "fillmode": "overlay",
              "size": 10,
              "solidity": 0.2
             }
            },
            "type": "histogram"
           }
          ],
          "histogram2d": [
           {
            "colorbar": {
             "outlinewidth": 0,
             "ticks": ""
            },
            "colorscale": [
             [
              0,
              "#0d0887"
             ],
             [
              0.1111111111111111,
              "#46039f"
             ],
             [
              0.2222222222222222,
              "#7201a8"
             ],
             [
              0.3333333333333333,
              "#9c179e"
             ],
             [
              0.4444444444444444,
              "#bd3786"
             ],
             [
              0.5555555555555556,
              "#d8576b"
             ],
             [
              0.6666666666666666,
              "#ed7953"
             ],
             [
              0.7777777777777778,
              "#fb9f3a"
             ],
             [
              0.8888888888888888,
              "#fdca26"
             ],
             [
              1,
              "#f0f921"
             ]
            ],
            "type": "histogram2d"
           }
          ],
          "histogram2dcontour": [
           {
            "colorbar": {
             "outlinewidth": 0,
             "ticks": ""
            },
            "colorscale": [
             [
              0,
              "#0d0887"
             ],
             [
              0.1111111111111111,
              "#46039f"
             ],
             [
              0.2222222222222222,
              "#7201a8"
             ],
             [
              0.3333333333333333,
              "#9c179e"
             ],
             [
              0.4444444444444444,
              "#bd3786"
             ],
             [
              0.5555555555555556,
              "#d8576b"
             ],
             [
              0.6666666666666666,
              "#ed7953"
             ],
             [
              0.7777777777777778,
              "#fb9f3a"
             ],
             [
              0.8888888888888888,
              "#fdca26"
             ],
             [
              1,
              "#f0f921"
             ]
            ],
            "type": "histogram2dcontour"
           }
          ],
          "mesh3d": [
           {
            "colorbar": {
             "outlinewidth": 0,
             "ticks": ""
            },
            "type": "mesh3d"
           }
          ],
          "parcoords": [
           {
            "line": {
             "colorbar": {
              "outlinewidth": 0,
              "ticks": ""
             }
            },
            "type": "parcoords"
           }
          ],
          "pie": [
           {
            "automargin": true,
            "type": "pie"
           }
          ],
          "scatter": [
           {
            "fillpattern": {
             "fillmode": "overlay",
             "size": 10,
             "solidity": 0.2
            },
            "type": "scatter"
           }
          ],
          "scatter3d": [
           {
            "line": {
             "colorbar": {
              "outlinewidth": 0,
              "ticks": ""
             }
            },
            "marker": {
             "colorbar": {
              "outlinewidth": 0,
              "ticks": ""
             }
            },
            "type": "scatter3d"
           }
          ],
          "scattercarpet": [
           {
            "marker": {
             "colorbar": {
              "outlinewidth": 0,
              "ticks": ""
             }
            },
            "type": "scattercarpet"
           }
          ],
          "scattergeo": [
           {
            "marker": {
             "colorbar": {
              "outlinewidth": 0,
              "ticks": ""
             }
            },
            "type": "scattergeo"
           }
          ],
          "scattergl": [
           {
            "marker": {
             "colorbar": {
              "outlinewidth": 0,
              "ticks": ""
             }
            },
            "type": "scattergl"
           }
          ],
          "scattermap": [
           {
            "marker": {
             "colorbar": {
              "outlinewidth": 0,
              "ticks": ""
             }
            },
            "type": "scattermap"
           }
          ],
          "scattermapbox": [
           {
            "marker": {
             "colorbar": {
              "outlinewidth": 0,
              "ticks": ""
             }
            },
            "type": "scattermapbox"
           }
          ],
          "scatterpolar": [
           {
            "marker": {
             "colorbar": {
              "outlinewidth": 0,
              "ticks": ""
             }
            },
            "type": "scatterpolar"
           }
          ],
          "scatterpolargl": [
           {
            "marker": {
             "colorbar": {
              "outlinewidth": 0,
              "ticks": ""
             }
            },
            "type": "scatterpolargl"
           }
          ],
          "scatterternary": [
           {
            "marker": {
             "colorbar": {
              "outlinewidth": 0,
              "ticks": ""
             }
            },
            "type": "scatterternary"
           }
          ],
          "surface": [
           {
            "colorbar": {
             "outlinewidth": 0,
             "ticks": ""
            },
            "colorscale": [
             [
              0,
              "#0d0887"
             ],
             [
              0.1111111111111111,
              "#46039f"
             ],
             [
              0.2222222222222222,
              "#7201a8"
             ],
             [
              0.3333333333333333,
              "#9c179e"
             ],
             [
              0.4444444444444444,
              "#bd3786"
             ],
             [
              0.5555555555555556,
              "#d8576b"
             ],
             [
              0.6666666666666666,
              "#ed7953"
             ],
             [
              0.7777777777777778,
              "#fb9f3a"
             ],
             [
              0.8888888888888888,
              "#fdca26"
             ],
             [
              1,
              "#f0f921"
             ]
            ],
            "type": "surface"
           }
          ],
          "table": [
           {
            "cells": {
             "fill": {
              "color": "#EBF0F8"
             },
             "line": {
              "color": "white"
             }
            },
            "header": {
             "fill": {
              "color": "#C8D4E3"
             },
             "line": {
              "color": "white"
             }
            },
            "type": "table"
           }
          ]
         },
         "layout": {
          "annotationdefaults": {
           "arrowcolor": "#2a3f5f",
           "arrowhead": 0,
           "arrowwidth": 1
          },
          "autotypenumbers": "strict",
          "coloraxis": {
           "colorbar": {
            "outlinewidth": 0,
            "ticks": ""
           }
          },
          "colorscale": {
           "diverging": [
            [
             0,
             "#8e0152"
            ],
            [
             0.1,
             "#c51b7d"
            ],
            [
             0.2,
             "#de77ae"
            ],
            [
             0.3,
             "#f1b6da"
            ],
            [
             0.4,
             "#fde0ef"
            ],
            [
             0.5,
             "#f7f7f7"
            ],
            [
             0.6,
             "#e6f5d0"
            ],
            [
             0.7,
             "#b8e186"
            ],
            [
             0.8,
             "#7fbc41"
            ],
            [
             0.9,
             "#4d9221"
            ],
            [
             1,
             "#276419"
            ]
           ],
           "sequential": [
            [
             0,
             "#0d0887"
            ],
            [
             0.1111111111111111,
             "#46039f"
            ],
            [
             0.2222222222222222,
             "#7201a8"
            ],
            [
             0.3333333333333333,
             "#9c179e"
            ],
            [
             0.4444444444444444,
             "#bd3786"
            ],
            [
             0.5555555555555556,
             "#d8576b"
            ],
            [
             0.6666666666666666,
             "#ed7953"
            ],
            [
             0.7777777777777778,
             "#fb9f3a"
            ],
            [
             0.8888888888888888,
             "#fdca26"
            ],
            [
             1,
             "#f0f921"
            ]
           ],
           "sequentialminus": [
            [
             0,
             "#0d0887"
            ],
            [
             0.1111111111111111,
             "#46039f"
            ],
            [
             0.2222222222222222,
             "#7201a8"
            ],
            [
             0.3333333333333333,
             "#9c179e"
            ],
            [
             0.4444444444444444,
             "#bd3786"
            ],
            [
             0.5555555555555556,
             "#d8576b"
            ],
            [
             0.6666666666666666,
             "#ed7953"
            ],
            [
             0.7777777777777778,
             "#fb9f3a"
            ],
            [
             0.8888888888888888,
             "#fdca26"
            ],
            [
             1,
             "#f0f921"
            ]
           ]
          },
          "colorway": [
           "#636efa",
           "#EF553B",
           "#00cc96",
           "#ab63fa",
           "#FFA15A",
           "#19d3f3",
           "#FF6692",
           "#B6E880",
           "#FF97FF",
           "#FECB52"
          ],
          "font": {
           "color": "#2a3f5f"
          },
          "geo": {
           "bgcolor": "white",
           "lakecolor": "white",
           "landcolor": "#E5ECF6",
           "showlakes": true,
           "showland": true,
           "subunitcolor": "white"
          },
          "hoverlabel": {
           "align": "left"
          },
          "hovermode": "closest",
          "mapbox": {
           "style": "light"
          },
          "paper_bgcolor": "white",
          "plot_bgcolor": "#E5ECF6",
          "polar": {
           "angularaxis": {
            "gridcolor": "white",
            "linecolor": "white",
            "ticks": ""
           },
           "bgcolor": "#E5ECF6",
           "radialaxis": {
            "gridcolor": "white",
            "linecolor": "white",
            "ticks": ""
           }
          },
          "scene": {
           "xaxis": {
            "backgroundcolor": "#E5ECF6",
            "gridcolor": "white",
            "gridwidth": 2,
            "linecolor": "white",
            "showbackground": true,
            "ticks": "",
            "zerolinecolor": "white"
           },
           "yaxis": {
            "backgroundcolor": "#E5ECF6",
            "gridcolor": "white",
            "gridwidth": 2,
            "linecolor": "white",
            "showbackground": true,
            "ticks": "",
            "zerolinecolor": "white"
           },
           "zaxis": {
            "backgroundcolor": "#E5ECF6",
            "gridcolor": "white",
            "gridwidth": 2,
            "linecolor": "white",
            "showbackground": true,
            "ticks": "",
            "zerolinecolor": "white"
           }
          },
          "shapedefaults": {
           "line": {
            "color": "#2a3f5f"
           }
          },
          "ternary": {
           "aaxis": {
            "gridcolor": "white",
            "linecolor": "white",
            "ticks": ""
           },
           "baxis": {
            "gridcolor": "white",
            "linecolor": "white",
            "ticks": ""
           },
           "bgcolor": "#E5ECF6",
           "caxis": {
            "gridcolor": "white",
            "linecolor": "white",
            "ticks": ""
           }
          },
          "title": {
           "x": 0.05
          },
          "xaxis": {
           "automargin": true,
           "gridcolor": "white",
           "linecolor": "white",
           "ticks": "",
           "title": {
            "standoff": 15
           },
           "zerolinecolor": "white",
           "zerolinewidth": 2
          },
          "yaxis": {
           "automargin": true,
           "gridcolor": "white",
           "linecolor": "white",
           "ticks": "",
           "title": {
            "standoff": 15
           },
           "zerolinecolor": "white",
           "zerolinewidth": 2
          }
         }
        },
        "title": {
         "text": "Average Time in Port Waters (Top 20 ports by total calls)"
        },
        "width": 800,
        "xaxis": {
         "anchor": "y",
         "domain": [
          0,
          1
         ],
         "title": {
          "text": "Time in Port Waters (hrs)"
         }
        },
        "yaxis": {
         "anchor": "x",
         "domain": [
          0,
          1
         ],
         "title": {
          "text": ""
         }
        }
       }
      }
     },
     "metadata": {},
     "output_type": "display_data"
    }
   ],
   "source": [
    "#get top 20 ports by calls\n",
    "top_groups_calls = (\n",
    "    calls_df\n",
    "    .group_by('port_group')\n",
    "    .agg(pl.col('call_id').count().alias('total_calls'))\n",
    "    .sort(pl.col('total_calls'), descending=True)\n",
    "    .limit(20)\n",
    ")\n",
    "\n",
    "#plot\n",
    "bar_ranking(df=calls_df, cat_group='port_group', stat_col='hrs_in_port_waters',\n",
    "            filter_col='port_group', filter=top_groups_calls['port_group'],\n",
    "            stat_alias='Time in Port Waters (hrs)', \n",
    "            title='Average Time in Port Waters (Top 20 ports by total calls)',\n",
    "            labels={'port_group':''}, highlight='NW Seaport Alliance',\n",
    "            limit=50, width=800, height=500)"
   ]
  },
  {
   "cell_type": "markdown",
   "id": "1b58951a",
   "metadata": {},
   "source": [
    "Better to filter by volume"
   ]
  },
  {
   "cell_type": "code",
   "execution_count": 8,
   "id": "e5e7b866",
   "metadata": {},
   "outputs": [
    {
     "data": {
      "application/vnd.plotly.v1+json": {
       "config": {
        "plotlyServerURL": "https://plot.ly"
       },
       "data": [
        {
         "hovertemplate": "Port=Port Arthur, TX<br>=%{x}<br>Average Hours at Berth=%{y}<extra></extra>",
         "legendgroup": "Port Arthur, TX",
         "line": {
          "color": "lightgray",
          "dash": "solid"
         },
         "marker": {
          "symbol": "circle"
         },
         "mode": "lines",
         "name": "Port Arthur, TX",
         "orientation": "v",
         "showlegend": true,
         "type": "scatter",
         "x": [
          "2018-01-01",
          "2018-02-01",
          "2018-03-01",
          "2018-04-01",
          "2018-05-01",
          "2018-06-01",
          "2018-07-01",
          "2018-08-01",
          "2018-09-01",
          "2018-10-01",
          "2018-11-01",
          "2018-12-01",
          "2019-01-01",
          "2019-02-01",
          "2019-03-01",
          "2019-04-01",
          "2019-05-01",
          "2019-06-01",
          "2019-07-01",
          "2019-08-01",
          "2019-09-01",
          "2019-10-01",
          "2019-11-01",
          "2019-12-01",
          "2020-01-01",
          "2020-02-01",
          "2020-03-01",
          "2020-04-01",
          "2020-05-01",
          "2020-06-01",
          "2020-07-01",
          "2020-08-01",
          "2020-09-01",
          "2020-10-01",
          "2020-11-01",
          "2020-12-01",
          "2021-01-01",
          "2021-02-01",
          "2021-03-01",
          "2021-04-01",
          "2021-05-01",
          "2021-06-01",
          "2021-07-01",
          "2021-08-01",
          "2021-09-01",
          "2021-10-01",
          "2021-11-01",
          "2021-12-01",
          "2022-01-01",
          "2022-02-01",
          "2022-03-01",
          "2022-04-01",
          "2022-05-01",
          "2022-06-01",
          "2022-07-01",
          "2022-08-01",
          "2022-09-01",
          "2022-10-01",
          "2022-11-01",
          "2022-12-01",
          "2023-01-01",
          "2023-02-01",
          "2023-03-01",
          "2023-04-01",
          "2023-05-01",
          "2023-06-01",
          "2023-07-01",
          "2023-08-01",
          "2023-09-01",
          "2023-10-01",
          "2023-11-01",
          "2023-12-01",
          "2024-01-01",
          "2024-02-01",
          "2024-03-01",
          "2024-04-01",
          "2024-05-01",
          "2024-06-01",
          "2024-07-01",
          "2024-08-01",
          "2024-09-01",
          "2024-10-01",
          "2024-11-01",
          "2024-12-01"
         ],
         "xaxis": "x",
         "y": {
          "bdata": "9v3UeOm2S0Ad9kal6DFKQHo18axoZFJAn4IzKjgjSkDVxLOikSBFQC4cpeDCMUtAsXJoke0sT0CBPCXIU/JMQCIt40NPJUtANtlkk02mS0Dft58wy8tMQEVEREREwklAdMhKh6wUS0AJtmALtoxVQDCW/GLJb0tAvy1rdUzwRkAH+Wt21MJGQBc2K8lWkUdAe6u3eqv3SEAs5VIu5ZJDQGIYhmEYJkhAd648IFnfSEDLwaAcDOpFQI7jOI7jmEtAHJCsc+UhR0C1YAu2YCtNQA0pdQbW0EpAX+PzNT5fSkBMMWr420xGQFYgjLRjpUdAxx0uwezUQ0ChSc0HsFNEQI088sgjr1RAOxC/A/G7S0ASe6NS9MBHQPfhM+wKAEZArkfhehSqR0Ac6LSBTutSQFHqDKwhBUhAHzkh1lfmREAFdsi/pZdLQKVP+qRPSkRADQLEy+rWRUBSe+f1GZRHQBARERERhUdA4xdLfrFUR0BzJ6FAIxZKQLq7u7u7G0lAPje+c+ObR0BivSjWiwJKQOfg0rZ+zklASkxMTEwkSUBQ7dRO7VRHQCaVbiGHEkhA0rEtHduiUEBkjkwvW8lIQMP/omc3wEtAKBLNe2eiSkCyvILet19LQMPeqBQ9rE9AUQnylCAvT0BqL6G9hBZKQERERERE0kxAbrLJJptsSkDMDZOdsrxHQHZxHjqG50hAqIAKqICqSEA4ODg4OAhEQMgzuJ08s0VAvkQSlNhjREBs4lnRSBhHQOF/lxGzSktAJF5F4lV0T0BqLiRNqShMQGsY7TflOVBA4d3d3d39S0BW3ewqI5RJQOEHfuAHfklA3U5/xAKOTEBZ7DlwSS5KQH+HRBUhvkdAz79rnS6tS0CcKw9I1rFJQFVVVVXVIUhA",
          "dtype": "f8"
         },
         "yaxis": "y"
        },
        {
         "hovertemplate": "Port=Texas City, TX<br>=%{x}<br>Average Hours at Berth=%{y}<extra></extra>",
         "legendgroup": "Texas City, TX",
         "line": {
          "color": "lightgray",
          "dash": "solid"
         },
         "marker": {
          "symbol": "circle"
         },
         "mode": "lines",
         "name": "Texas City, TX",
         "orientation": "v",
         "showlegend": true,
         "type": "scatter",
         "x": [
          "2018-01-01",
          "2018-02-01",
          "2018-03-01",
          "2018-04-01",
          "2018-05-01",
          "2018-06-01",
          "2018-07-01",
          "2018-08-01",
          "2018-09-01",
          "2018-10-01",
          "2018-11-01",
          "2018-12-01",
          "2019-01-01",
          "2019-02-01",
          "2019-03-01",
          "2019-04-01",
          "2019-05-01",
          "2019-06-01",
          "2019-07-01",
          "2019-08-01",
          "2019-09-01",
          "2019-10-01",
          "2019-11-01",
          "2019-12-01",
          "2020-01-01",
          "2020-02-01",
          "2020-03-01",
          "2020-04-01",
          "2020-05-01",
          "2020-06-01",
          "2020-07-01",
          "2020-08-01",
          "2020-09-01",
          "2020-10-01",
          "2020-11-01",
          "2020-12-01",
          "2021-01-01",
          "2021-02-01",
          "2021-03-01",
          "2021-04-01",
          "2021-05-01",
          "2021-06-01",
          "2021-07-01",
          "2021-08-01",
          "2021-09-01",
          "2021-10-01",
          "2021-11-01",
          "2021-12-01",
          "2022-01-01",
          "2022-02-01",
          "2022-03-01",
          "2022-04-01",
          "2022-05-01",
          "2022-06-01",
          "2022-07-01",
          "2022-08-01",
          "2022-09-01",
          "2022-10-01",
          "2022-11-01",
          "2022-12-01",
          "2023-01-01",
          "2023-02-01",
          "2023-03-01",
          "2023-04-01",
          "2023-05-01",
          "2023-06-01",
          "2023-07-01",
          "2023-08-01",
          "2023-09-01",
          "2023-10-01",
          "2023-11-01",
          "2023-12-01",
          "2024-01-01",
          "2024-02-01",
          "2024-03-01",
          "2024-04-01",
          "2024-05-01",
          "2024-06-01",
          "2024-07-01",
          "2024-08-01",
          "2024-09-01",
          "2024-10-01",
          "2024-11-01",
          "2024-12-01"
         ],
         "xaxis": "x",
         "y": {
          "bdata": "azua3FfxQkBHGXi6NT9FQCNq9g5AokNAqVzKpVyKSkAOePzhgHdBQLka12zqeEFAnbcY0nmLQUA1jTybWNNAQJcF5ItE6UNAEHTaQKctQ0CoSQaNf5pDQCW2XWLbhURAcUVOGVfERUDHjdzIjXRGQJqZmZmZcUFA8AM/8AM/REAXhmEYhmFEQLpdKyc8U0ZAVA+sLsYZQkB7rGXogP1CQCMiIiIigkVAL9cOzLUDRUBVVVVVVRVFQIlbobgV6kVAbsQZb8Q5Q0CAm2LU8BdHQLGurq6ujkVA/tFtTEFIQkBI4XoUrt9AQLOX0F5Ca0FAwRZswRY+REAtkrO+F/BAQLXsqZPhAEJASLq/8KmsQkChoKCgoCBBQN/d3d3dNUFA/Pv7+/tbQkDNzMzMzNpDQGpUW66SBjlAdtNcN811QEBF9YxdvD4/QCRzh8wd8j1A2EasS4+ZQkAWvs9l4ZtAQL9z4zs33kFALuE8NQtkQEDC36YYNbxAQNvd3d1dOEFAa8261qzrQ0CE4JCW8QFEQCEiIiIiXkVAfDnAss03SkDeO02BHbJCQKNwPQrXe0VATCofxv06QUAeBpcxkm5GQGWy4sCL6kJATNd0TddcQ0DjOI7jOH5DQO/HfuzH6kdATv89ckhQQ0CxOhWrUzFDQMzMzMzMjEdAe+fGd258QkCAH/iBH8BDQA5Tl9sfhEJA5/5h7h9mREAu2IIt2DJEQMhEeqByFkRAF2zBFmyRREBHbK9f7mRFQLuFX42JtEJAezOYoHboR0DoeZ7neZpFQJ0BGqABOkRA0+1aOeG5RUCgoaGhoQFGQA3A+Yny90NAfCy78eDUQkBoampqajJEQLhsBNUztkZA//////+cRUDJiKO2n+FEQE7ehwnH6kRA",
          "dtype": "f8"
         },
         "yaxis": "y"
        },
        {
         "hovertemplate": "Port=Houston Port Authority, TX<br>=%{x}<br>Average Hours at Berth=%{y}<extra></extra>",
         "legendgroup": "Houston Port Authority, TX",
         "line": {
          "color": "lightgray",
          "dash": "solid"
         },
         "marker": {
          "symbol": "circle"
         },
         "mode": "lines",
         "name": "Houston Port Authority, TX",
         "orientation": "v",
         "showlegend": true,
         "type": "scatter",
         "x": [
          "2018-01-01",
          "2018-02-01",
          "2018-03-01",
          "2018-04-01",
          "2018-05-01",
          "2018-06-01",
          "2018-07-01",
          "2018-08-01",
          "2018-09-01",
          "2018-10-01",
          "2018-11-01",
          "2018-12-01",
          "2019-01-01",
          "2019-02-01",
          "2019-03-01",
          "2019-04-01",
          "2019-05-01",
          "2019-06-01",
          "2019-07-01",
          "2019-08-01",
          "2019-09-01",
          "2019-10-01",
          "2019-11-01",
          "2019-12-01",
          "2020-01-01",
          "2020-02-01",
          "2020-03-01",
          "2020-04-01",
          "2020-05-01",
          "2020-06-01",
          "2020-07-01",
          "2020-08-01",
          "2020-09-01",
          "2020-10-01",
          "2020-11-01",
          "2020-12-01",
          "2021-01-01",
          "2021-02-01",
          "2021-03-01",
          "2021-04-01",
          "2021-05-01",
          "2021-06-01",
          "2021-07-01",
          "2021-08-01",
          "2021-09-01",
          "2021-10-01",
          "2021-11-01",
          "2021-12-01",
          "2022-01-01",
          "2022-02-01",
          "2022-03-01",
          "2022-04-01",
          "2022-05-01",
          "2022-06-01",
          "2022-07-01",
          "2022-08-01",
          "2022-09-01",
          "2022-10-01",
          "2022-11-01",
          "2022-12-01",
          "2023-01-01",
          "2023-02-01",
          "2023-03-01",
          "2023-04-01",
          "2023-05-01",
          "2023-06-01",
          "2023-07-01",
          "2023-08-01",
          "2023-09-01",
          "2023-10-01",
          "2023-11-01",
          "2023-12-01",
          "2024-01-01",
          "2024-02-01",
          "2024-03-01",
          "2024-04-01",
          "2024-05-01",
          "2024-06-01",
          "2024-07-01",
          "2024-08-01",
          "2024-09-01",
          "2024-10-01",
          "2024-11-01",
          "2024-12-01"
         ],
         "xaxis": "x",
         "y": {
          "bdata": "vYLMqUEZVECMt7LPIfVXQOtEIaafLVRAjmrLVdJoVkDiJC1O0tJNQBhaCpnP/lRAI/414l/jTkCf76fGS9dUQAPfvJp4NlNAMrI4zIZWTUC4t7e3t0dQQMZjPMZjFFNAMe+/y4hZU0BQKXrYGx1UQFfjmk0dF2BAmpmZmRktUUAw0o4VCGNRQC4qR5msKFBAMzMzMzMLVUA0sRi8en5TQFdiJVZi1VNApC63P8gAVkAbQKoBpOpUQEigaKvBm1VAxhSE/tF9T0AmcAIncPJSQMAP/MAPxFRApIsuuujSVEBWg+cIFJ1NQClfOJ0wflJAisb60FhfUUCKiIiIiEhRQGQ41LKnzlBA8Qf8AX/QUUD4eq/3ep9RQPnQU4FZjFVAIlnnygNSWkDr0G+2Dh1dQIbrUbgeRVNAbg3wgqRcVECWOPV7bqlVQC7lUi7lQldAZqwPjfUxWUBaDF+KP5JdQAbm2oG5ll5AnsAJnMCnX0BYflBU6cxWQBrotIFOc2BATzA4tpb+ZEAXMI0B09hgQNMQKulGoV9A+mbr0G/uX0D1EtpLaIFdQPrDAY8/pGRAA6SFKhkVY0CD00QOH8teQMbbrghVpGVAg8xnX4n3XkBfGgOmMSBgQFZfKmj1NWJAfr+CzKkBYUCQ8RiP8ZxbQAGORfjHuVxAoBov3SRmVkCJUcPfpmhXQF7KpVzKO1tABzFyECOnVkAP0iAN0hRbQFvRSMA3/1pA7u7u7u4YXEA6sRM7sddWQGvxphZv2lZAy8zMzAxdV0AEW7AFW6NVQOXoJxgci1dAxmV4XIZXWUBhdjofKhRgQALj2lg4cFpA1890xL7zX0CWtTomePhWQFyXcS5+j1lAkB7X+uihW0CBdbR5nxJXQGq0Rmu09lRA",
          "dtype": "f8"
         },
         "yaxis": "y"
        },
        {
         "hovertemplate": "Port=Corpus Christi, TX<br>=%{x}<br>Average Hours at Berth=%{y}<extra></extra>",
         "legendgroup": "Corpus Christi, TX",
         "line": {
          "color": "lightgray",
          "dash": "solid"
         },
         "marker": {
          "symbol": "circle"
         },
         "mode": "lines",
         "name": "Corpus Christi, TX",
         "orientation": "v",
         "showlegend": true,
         "type": "scatter",
         "x": [
          "2018-01-01",
          "2018-02-01",
          "2018-03-01",
          "2018-04-01",
          "2018-05-01",
          "2018-06-01",
          "2018-07-01",
          "2018-08-01",
          "2018-09-01",
          "2018-10-01",
          "2018-11-01",
          "2018-12-01",
          "2019-01-01",
          "2019-02-01",
          "2019-03-01",
          "2019-04-01",
          "2019-05-01",
          "2019-06-01",
          "2019-07-01",
          "2019-08-01",
          "2019-09-01",
          "2019-10-01",
          "2019-11-01",
          "2019-12-01",
          "2020-01-01",
          "2020-02-01",
          "2020-03-01",
          "2020-04-01",
          "2020-05-01",
          "2020-06-01",
          "2020-07-01",
          "2020-08-01",
          "2020-09-01",
          "2020-10-01",
          "2020-11-01",
          "2020-12-01",
          "2021-01-01",
          "2021-02-01",
          "2021-03-01",
          "2021-04-01",
          "2021-05-01",
          "2021-06-01",
          "2021-07-01",
          "2021-08-01",
          "2021-09-01",
          "2021-10-01",
          "2021-11-01",
          "2021-12-01",
          "2022-01-01",
          "2022-02-01",
          "2022-03-01",
          "2022-04-01",
          "2022-05-01",
          "2022-06-01",
          "2022-07-01",
          "2022-08-01",
          "2022-09-01",
          "2022-10-01",
          "2022-11-01",
          "2022-12-01",
          "2023-01-01",
          "2023-02-01",
          "2023-03-01",
          "2023-04-01",
          "2023-05-01",
          "2023-06-01",
          "2023-07-01",
          "2023-08-01",
          "2023-09-01",
          "2023-10-01",
          "2023-11-01",
          "2023-12-01",
          "2024-01-01",
          "2024-02-01",
          "2024-03-01",
          "2024-04-01",
          "2024-05-01",
          "2024-06-01",
          "2024-07-01",
          "2024-08-01",
          "2024-09-01",
          "2024-10-01",
          "2024-11-01",
          "2024-12-01"
         ],
         "xaxis": "x",
         "y": {
          "bdata": "eqEXeqGLUUD/FYJDWhZRQBvHcRzHL0VAFoZhGIY5R0DhEsxO56NHQNMnfdInxUdAlVqplVqhSEBUjBr+NkVKQI1s5/upkUpADCaoHdKLSkA0xajhbzNNQC2U7YPpgktA7FqzrjXrSUDcdyrRfTdQQMrQAbs91kdAltcL4mlwSUBGF1100UVNQGrCis3jtUxAo/Jh3K+rT0A2XrpJDHJNQP8WAkaphkhA329TjBq+TUAb1EEd1MVMQCQB37yaWEtAlOUvWf7yTUDtCpB7zXVOQBzHcRzHQUdAH+XJ1DZpTkAapEEapDFRQB3otIFOO0lAtWALtmC7RkCu6Zqu6WpJQGy5ShrV9kdA0iSDxj9NSkDTIA3SIE1DQFM7tVM7pUZAf7HkF0tOSUD1KwVq/dpTQBQTExMTE0lA5E0t3tRCSkAAjRI/o3ROQH8BLpKzXkdAg1OaF3/CTkDHU4I8JdBLQNRDPdRD/UpAZ7sQZrtAUECQobLD1PVOQNQnfdInCVFAktHbslZ/VUDHV3zFV6xQQMh+7Md+sExAv/fee+89SkA6AkVbDf5RQB1SE4y3kk5Ag9gtg9idWEBgGIZhGP5OQFKBWdwJok5AdTiHczjHSkCampqamrpRQJT8Yskv1lBAAeUOUO7gUEBQZCC9P8dSQL7jJtdl3FRAzEixXW3aT0DLRn1nox5PQL/ooosuuk5AseQXS34RUEAQEREREaVQQJgHJOtcOU5AFpNWMWkVT0ApeDBP1HdRQFiz/2aY9UxAyQtkUrwQT0B9y7d8yxdQQGVmZmZmAVBA3LefMMsLT0Anm2yyyWpSQBiekKt10VBAivo3QhmtT0AY4CI566NQQN0Sp37PLVFA0eS+CnMiUEDo6enp6SlPQA7DMAzDvExA",
          "dtype": "f8"
         },
         "yaxis": "y"
        },
        {
         "hovertemplate": "Port=New Orleans, LA<br>=%{x}<br>Average Hours at Berth=%{y}<extra></extra>",
         "legendgroup": "New Orleans, LA",
         "line": {
          "color": "lightgray",
          "dash": "solid"
         },
         "marker": {
          "symbol": "circle"
         },
         "mode": "lines",
         "name": "New Orleans, LA",
         "orientation": "v",
         "showlegend": true,
         "type": "scatter",
         "x": [
          "2018-01-01",
          "2018-02-01",
          "2018-03-01",
          "2018-04-01",
          "2018-05-01",
          "2018-06-01",
          "2018-07-01",
          "2018-08-01",
          "2018-09-01",
          "2018-10-01",
          "2018-11-01",
          "2018-12-01",
          "2019-01-01",
          "2019-02-01",
          "2019-03-01",
          "2019-04-01",
          "2019-05-01",
          "2019-06-01",
          "2019-07-01",
          "2019-08-01",
          "2019-09-01",
          "2019-10-01",
          "2019-11-01",
          "2019-12-01",
          "2020-01-01",
          "2020-02-01",
          "2020-03-01",
          "2020-04-01",
          "2020-05-01",
          "2020-06-01",
          "2020-07-01",
          "2020-08-01",
          "2020-09-01",
          "2020-10-01",
          "2020-11-01",
          "2020-12-01",
          "2021-01-01",
          "2021-02-01",
          "2021-03-01",
          "2021-04-01",
          "2021-05-01",
          "2021-06-01",
          "2021-07-01",
          "2021-08-01",
          "2021-09-01",
          "2021-10-01",
          "2021-11-01",
          "2021-12-01",
          "2022-01-01",
          "2022-02-01",
          "2022-03-01",
          "2022-04-01",
          "2022-05-01",
          "2022-06-01",
          "2022-07-01",
          "2022-08-01",
          "2022-09-01",
          "2022-10-01",
          "2022-11-01",
          "2022-12-01",
          "2023-01-01",
          "2023-02-01",
          "2023-03-01",
          "2023-04-01",
          "2023-05-01",
          "2023-06-01",
          "2023-07-01",
          "2023-08-01",
          "2023-09-01",
          "2023-10-01",
          "2023-11-01",
          "2023-12-01",
          "2024-01-01",
          "2024-02-01",
          "2024-03-01",
          "2024-04-01",
          "2024-05-01",
          "2024-06-01",
          "2024-07-01",
          "2024-08-01",
          "2024-09-01",
          "2024-10-01",
          "2024-11-01",
          "2024-12-01"
         ],
         "xaxis": "x",
         "y": {
          "bdata": "TQ4jHMlUSUDS4a1jZ/pFQJijcTkav1FASYuTtDgpSEDdQKcNdPpEQEou9oWlpD5ATMXZh8/wQ0CQdNhIh91DQMu6l1HFbEVAL1CPDQqjRUC8u7u7OyVKQNjX19fXx0xA0xgwjQHfRkBCFSHernpOQP3m8uxvPk5A++mnn36KRECu8n6XyEpMQOXOVLOboU5An76PmjVZSEAUaxp5NlFLQM/X+HyNf0RAzczMzEwuQEC+/+TR6EZEQIe1b1j7NkJAmp47ckLsRkBzWfg+l+VFQCh51QcMV0pAEvN2hsTsREAQpshn3eBDQCLue1ghj0VALygHg3LQQkCuWAOuWENBQCJJkiRJQkVA+YEf+IG3SEBs9t8Ms8ZFQIfASzViyEFAWOSUcUWuSEAusp3vp/ZHQITMZ1+JF0VA3d3d3d2NQkCDpkW7PshFQFHcCsWtUEhAjlHD36bAT0CG+UhsmC9PQNbsvxlmfVFALdBu+9rJT0BFWLeovj1NQGFMtajnbFFAHQ8lhHWbUUBvTRDAhttRQK2qqqqql1FAWBSPhG+FUkA6SYgr8L9TQBSjhr9NEU5AqKqqqiqVWkDC8oOiSodTQN/d3d3dJU9AlxGzykR2UkA8bnJdxvlKQJxF8JpF0ElA/PTTTz8dTUALSjo+fS1GQCKNJ8438kpAwV3zkqPKTUBBORiUgxFLQCbEUDBflEdAiYiIiIiQQkBTvnA6YdxHQK80MDknS0VATD0Zv13KSUDkHM7hHAZHQHQpl3Ipt0JApqk+8k2GSECoAW0a0DZGQEdFRUVFJUhA1jZUwZ9HRkDmygOSda5FQBuYawfm+kZAMridPIN7TEBWVVVV1b5HQG9DFfx55EtAAAAAAABwR0Ct2DxeaSJIQGPPNNQXQkdA",
          "dtype": "f8"
         },
         "yaxis": "y"
        },
        {
         "hovertemplate": "Port=Port Everglades, FL<br>=%{x}<br>Average Hours at Berth=%{y}<extra></extra>",
         "legendgroup": "Port Everglades, FL",
         "line": {
          "color": "lightgray",
          "dash": "solid"
         },
         "marker": {
          "symbol": "circle"
         },
         "mode": "lines",
         "name": "Port Everglades, FL",
         "orientation": "v",
         "showlegend": true,
         "type": "scatter",
         "x": [
          "2018-01-01",
          "2018-02-01",
          "2018-03-01",
          "2018-04-01",
          "2018-05-01",
          "2018-06-01",
          "2018-07-01",
          "2018-08-01",
          "2018-09-01",
          "2018-10-01",
          "2018-11-01",
          "2018-12-01",
          "2019-01-01",
          "2019-02-01",
          "2019-03-01",
          "2019-04-01",
          "2019-05-01",
          "2019-06-01",
          "2019-07-01",
          "2019-08-01",
          "2019-09-01",
          "2019-10-01",
          "2019-11-01",
          "2019-12-01",
          "2020-01-01",
          "2020-02-01",
          "2020-03-01",
          "2020-04-01",
          "2020-05-01",
          "2020-06-01",
          "2020-07-01",
          "2020-08-01",
          "2020-09-01",
          "2020-10-01",
          "2020-11-01",
          "2020-12-01",
          "2021-01-01",
          "2021-02-01",
          "2021-03-01",
          "2021-04-01",
          "2021-05-01",
          "2021-06-01",
          "2021-07-01",
          "2021-08-01",
          "2021-09-01",
          "2021-10-01",
          "2021-11-01",
          "2021-12-01",
          "2022-01-01",
          "2022-02-01",
          "2022-03-01",
          "2022-04-01",
          "2022-05-01",
          "2022-06-01",
          "2022-07-01",
          "2022-08-01",
          "2022-09-01",
          "2022-10-01",
          "2022-11-01",
          "2022-12-01",
          "2023-01-01",
          "2023-02-01",
          "2023-03-01",
          "2023-04-01",
          "2023-05-01",
          "2023-06-01",
          "2023-07-01",
          "2023-08-01",
          "2023-09-01",
          "2023-10-01",
          "2023-11-01",
          "2023-12-01",
          "2024-01-01",
          "2024-02-01",
          "2024-03-01",
          "2024-04-01",
          "2024-05-01",
          "2024-06-01",
          "2024-07-01",
          "2024-08-01",
          "2024-09-01",
          "2024-10-01",
          "2024-11-01",
          "2024-12-01"
         ],
         "xaxis": "x",
         "y": {
          "bdata": "wORRm/bIO0CYKmJGVM04QLh62p+p8kFAfYMvTKbqQkDMnalmN+M7QFo7fkuVdTtAe1Y0EvAVPkBu2X1BiII8QMtxHMdxfDhAyzvKiMK8PkAYDzPa0y44QPL5Gp+voTdA2QNmD5h9PkB06S9aQFc7QJeWlpaW7j1ACaiACqhQQEBXFI+Eb0U5QDlwSa5B50BAev9dRswqPUBpckFTexU4QExiEFg5tD1AMdHfyWqJOUDzAz/wAz84QNvd3d1dLDxALvnFkl+MPEBIs8VICZQ6QPPu7u7uDj9AHlhdjDPUO0CKiYmJiak+QNCpeZC7vjpAmvNnOX+GSUAEVWj0q74+QOyZRO+ZJD5AN4zhNoxRQkDz+xguJsk8QMTZh8+w2zxAkI6Ojo6uPkBcxIuWGkxCQC1A7jUXYj5A8iQ9SU/SPkBwWPuGtc87QLW1tbW11T9Aj0SyjURyPECamZmZGco4QDEzMzMzpkBAnFcTz4oOPUDErVDcCqVBQBk1/G2KcUFAUKfuiYHLQkAZVgPypoFEQPGApe6ApUJATVZYgwqBQkAK4k6FIC5CQJpi1PC3SUFAm3UsmnXMTEAgliIFYulCQJF7zYWk0UNAqjLV/YeqQkA4NseHY7NEQBZh50dlgkBAfAzsGhDVPUDjPuxC7sM8QG0NHcVT8UBAx3iMx3jsQUCpQShXT1tDQGD91V/9VTtAKYl2kmjXQUDoa92cy7Q5QOh9M40oHjtANe6NiUMjQEApz3kkzxk6QNbgZysNPj1Am5iYmJiYOkDFSVqcpA1BQA/f9urwrT9Ai16T4LPIP0Dq8XOUnH48QFsbCwfGVT5A6Hme53neP0BuL3rJ9iI5QHoyoHsyAEFAHQYEt5XFPkCyp9IzoPY8QBcdL9yMhjhA",
          "dtype": "f8"
         },
         "yaxis": "y"
        },
        {
         "hovertemplate": "Port=Mobile, AL<br>=%{x}<br>Average Hours at Berth=%{y}<extra></extra>",
         "legendgroup": "Mobile, AL",
         "line": {
          "color": "lightgray",
          "dash": "solid"
         },
         "marker": {
          "symbol": "circle"
         },
         "mode": "lines",
         "name": "Mobile, AL",
         "orientation": "v",
         "showlegend": true,
         "type": "scatter",
         "x": [
          "2018-01-01",
          "2018-02-01",
          "2018-03-01",
          "2018-04-01",
          "2018-05-01",
          "2018-06-01",
          "2018-07-01",
          "2018-08-01",
          "2018-09-01",
          "2018-10-01",
          "2018-11-01",
          "2018-12-01",
          "2019-01-01",
          "2019-02-01",
          "2019-03-01",
          "2019-04-01",
          "2019-05-01",
          "2019-06-01",
          "2019-07-01",
          "2019-08-01",
          "2019-09-01",
          "2019-10-01",
          "2019-11-01",
          "2019-12-01",
          "2020-01-01",
          "2020-02-01",
          "2020-03-01",
          "2020-04-01",
          "2020-05-01",
          "2020-06-01",
          "2020-07-01",
          "2020-08-01",
          "2020-09-01",
          "2020-10-01",
          "2020-11-01",
          "2020-12-01",
          "2021-01-01",
          "2021-02-01",
          "2021-03-01",
          "2021-04-01",
          "2021-05-01",
          "2021-06-01",
          "2021-07-01",
          "2021-08-01",
          "2021-09-01",
          "2021-10-01",
          "2021-11-01",
          "2021-12-01",
          "2022-01-01",
          "2022-02-01",
          "2022-03-01",
          "2022-04-01",
          "2022-05-01",
          "2022-06-01",
          "2022-07-01",
          "2022-08-01",
          "2022-09-01",
          "2022-10-01",
          "2022-11-01",
          "2022-12-01",
          "2023-01-01",
          "2023-02-01",
          "2023-03-01",
          "2023-04-01",
          "2023-05-01",
          "2023-06-01",
          "2023-07-01",
          "2023-08-01",
          "2023-09-01",
          "2023-10-01",
          "2023-11-01",
          "2023-12-01",
          "2024-01-01",
          "2024-02-01",
          "2024-03-01",
          "2024-04-01",
          "2024-05-01",
          "2024-06-01",
          "2024-07-01",
          "2024-08-01",
          "2024-09-01",
          "2024-10-01",
          "2024-11-01",
          "2024-12-01"
         ],
         "xaxis": "x",
         "y": {
          "bdata": "SRGwMdpuS0DH2rghDKlLQBzHcRzHEUlAQ0RERESUSkB1RhPgrLlOQCYmJiYmxktAx+nXYJxeR0B9RpYe0oRDQKUQaAqB5klAd/UAXT0ASkAOTCnE4zlKQDaxppFnc05ASaYyZCoDTUDb5ssBlk1QQJbzZzl/dkhA4y+4a15SSEC67mPizzFGQFqhuBWKN0pAGNv4abHdSUAPEREREZlIQENaXYI+EEdA4jEe4zEuRkCkT/qkT6JEQOiWOPV79lJAFq5H4XoiSkCUI9PLVqZPQBr+NsWo3UhADGEvnn9XSkAUTPR3slpFQLq7u7u7WENAPUBAQEBARUBwP0PYi6dDQNQew8r0O0dARqLU2MOsS0AyMjIyMqJLQJX8YskvjVFAf51xs9A0TEBJQb+elmRQQJR6HanXfU5AM25L5gV8UEBQuB6F62tLQJvEILBy+FBABD/wAz/QUUA+EL8D8RtMQGEMxmAMhlBAbWUJKSbPTkCdDY+a9mZRQHSj1gk9QFNAQdFWg+cQTUCeGxC006BQQJ7buZ3b2U9AlChnUOTCTkAVgH3IScRMQD4u7OPCflBAeHd3d3cJUkBcS8Fw7ClSQN8FoAir1E5AG6Y7HTn6UEBRUVFRUeFSQIVkSIZkGFJARERERERWT0DfnFCigQtQQFmLtViL1U5A7UsFrb60T0B53FnCbv5NQJruQ5nuA0xAEP/BA/iQTkBY1uqY4FlIQLVSK7VSt0tAy490f+HTR0DQaQOdNjBJQCCYawfm8ktAGffrkspXUECGJKOdh+9OQPpiyS+WDE1AM4O3iM3ATkCQELxJ69RHQPvzBuEs7UxAZlmWZVkmTEAa+cdY8ShMQFqd1VmdlUtA7hd2liksS0BAjTtcgtlLQAxDdqncT0xA",
          "dtype": "f8"
         },
         "yaxis": "y"
        },
        {
         "hovertemplate": "Port=NW Seaport Alliance<br>=%{x}<br>Average Hours at Berth=%{y}<extra></extra>",
         "legendgroup": "NW Seaport Alliance",
         "line": {
          "color": "blue",
          "dash": "solid"
         },
         "marker": {
          "symbol": "circle"
         },
         "mode": "lines",
         "name": "NW Seaport Alliance",
         "orientation": "v",
         "showlegend": true,
         "type": "scatter",
         "x": [
          "2018-01-01",
          "2018-02-01",
          "2018-03-01",
          "2018-04-01",
          "2018-05-01",
          "2018-06-01",
          "2018-07-01",
          "2018-08-01",
          "2018-09-01",
          "2018-10-01",
          "2018-11-01",
          "2018-12-01",
          "2019-01-01",
          "2019-02-01",
          "2019-03-01",
          "2019-04-01",
          "2019-05-01",
          "2019-06-01",
          "2019-07-01",
          "2019-08-01",
          "2019-09-01",
          "2019-10-01",
          "2019-11-01",
          "2019-12-01",
          "2020-01-01",
          "2020-02-01",
          "2020-03-01",
          "2020-04-01",
          "2020-05-01",
          "2020-06-01",
          "2020-07-01",
          "2020-08-01",
          "2020-09-01",
          "2020-10-01",
          "2020-11-01",
          "2020-12-01",
          "2021-01-01",
          "2021-02-01",
          "2021-03-01",
          "2021-04-01",
          "2021-05-01",
          "2021-06-01",
          "2021-07-01",
          "2021-08-01",
          "2021-09-01",
          "2021-10-01",
          "2021-11-01",
          "2021-12-01",
          "2022-01-01",
          "2022-02-01",
          "2022-03-01",
          "2022-04-01",
          "2022-05-01",
          "2022-06-01",
          "2022-07-01",
          "2022-08-01",
          "2022-09-01",
          "2022-10-01",
          "2022-11-01",
          "2022-12-01",
          "2023-01-01",
          "2023-02-01",
          "2023-03-01",
          "2023-04-01",
          "2023-05-01",
          "2023-06-01",
          "2023-07-01",
          "2023-08-01",
          "2023-09-01",
          "2023-10-01",
          "2023-11-01",
          "2023-12-01",
          "2024-01-01",
          "2024-02-01",
          "2024-03-01",
          "2024-04-01",
          "2024-05-01",
          "2024-06-01",
          "2024-07-01",
          "2024-08-01",
          "2024-09-01",
          "2024-10-01",
          "2024-11-01",
          "2024-12-01"
         ],
         "xaxis": "x",
         "y": {
          "bdata": "lD7pkz43RkAvYBoDpiVIQOtceUCyLkFA4YMPPvjsRkD8J+bI9HI/QDucwzmcZ0BAAGqSQeP/QUBgCZZgCTZAQMakeIFMCkJAwgWiN9cHRED+/////59BQEbFv6lR8UhAMB+JDfPRRkDWWI3VWH1BQFy01GAV+UJApKSkpKTEQUCZU/ByCv5BQOjCXX2T/D5ArLVrzNftPEDrtm7rtn5CQNbmywGWfT9ARkREREQYO0AZ/Qdq3ME8QGz20GYPTUBAiyW/WPILQ0D89shY18s7QMJia7DYekFAaI3WaI2WPUDOzMzMzC5BQGhmZmZm3j5AS+eAGrTNP0CFVEiFVAhAQLMru7IrW0FAtEzmfxmzQEB62BuVopdBQFMTCptm8UhAE3K1LjzBR0D/////f7FHQA8b5iOxIURAaaiGaqjmR0Daqq3aqs1JQCTrXHlAwkdAssArC7ySS0DbZnib4U1HQFhxFVdxtUdAYgmWYAkWSUDkEIJsZCFJQPpygGWbu1BAXnlAss4FS0C4VUqUM4BQQCM+JFXcVUZA1BQCTSGgTUC4uLi4uNhGQKuf6Yh9p0VA6PLsby6/REDII3qGGutCQFK4HoXrP0RAG7mRG7mdR0A0VEM1VONHQFQEZweMQ0RAH3nP228ASkDh12YQko9EQAFSDSDVYEBAa9+w9g07RUAbjlJw4ahFQH91UmUMy0hAp9auMV9XRkDnVBcUw/lCQN/d3d3ddEZAp0/6pE/uSEChuBWKW2VNQO0eUoW4q0VAgWkMmMaUR0CUTTbZZDdFQOlni5XhW0VAyLCohZgfRUAcs9pr1Y1FQJ/sDKI+FkZAbsgb8oZsSkDtG9a+YQ1GQPNzo1HQAEdAYR8X9nFhRUCjT/qkT1ZMQM3AGlLqTElA",
          "dtype": "f8"
         },
         "yaxis": "y"
        },
        {
         "hovertemplate": "Port=Baltimore, MD<br>=%{x}<br>Average Hours at Berth=%{y}<extra></extra>",
         "legendgroup": "Baltimore, MD",
         "line": {
          "color": "lightgray",
          "dash": "solid"
         },
         "marker": {
          "symbol": "circle"
         },
         "mode": "lines",
         "name": "Baltimore, MD",
         "orientation": "v",
         "showlegend": true,
         "type": "scatter",
         "x": [
          "2018-01-01",
          "2018-02-01",
          "2018-03-01",
          "2018-04-01",
          "2018-05-01",
          "2018-06-01",
          "2018-07-01",
          "2018-08-01",
          "2018-09-01",
          "2018-10-01",
          "2018-11-01",
          "2018-12-01",
          "2019-01-01",
          "2019-02-01",
          "2019-03-01",
          "2019-04-01",
          "2019-05-01",
          "2019-06-01",
          "2019-07-01",
          "2019-08-01",
          "2019-09-01",
          "2019-10-01",
          "2019-11-01",
          "2019-12-01",
          "2020-01-01",
          "2020-02-01",
          "2020-03-01",
          "2020-04-01",
          "2020-05-01",
          "2020-06-01",
          "2020-07-01",
          "2020-08-01",
          "2020-09-01",
          "2020-10-01",
          "2020-11-01",
          "2020-12-01",
          "2021-01-01",
          "2021-02-01",
          "2021-03-01",
          "2021-04-01",
          "2021-05-01",
          "2021-06-01",
          "2021-07-01",
          "2021-08-01",
          "2021-09-01",
          "2021-10-01",
          "2021-11-01",
          "2021-12-01",
          "2022-01-01",
          "2022-02-01",
          "2022-03-01",
          "2022-04-01",
          "2022-05-01",
          "2022-06-01",
          "2022-07-01",
          "2022-08-01",
          "2022-09-01",
          "2022-10-01",
          "2022-11-01",
          "2022-12-01",
          "2023-01-01",
          "2023-02-01",
          "2023-03-01",
          "2023-04-01",
          "2023-05-01",
          "2023-06-01",
          "2023-07-01",
          "2023-08-01",
          "2023-09-01",
          "2023-10-01",
          "2023-11-01",
          "2023-12-01",
          "2024-01-01",
          "2024-02-01",
          "2024-03-01",
          "2024-04-01",
          "2024-05-01",
          "2024-06-01",
          "2024-07-01",
          "2024-08-01",
          "2024-09-01",
          "2024-10-01",
          "2024-11-01",
          "2024-12-01"
         ],
         "xaxis": "x",
         "y": {
          "bdata": "rTqi3sFbQ0BxHMdxHHpHQHd3d3d3d0xASBvR7ck2RUDgoNh6O6A+QCiJXNuN8kBAT50Mh1r2Q0DaW5i9hVlFQDfxrGgk4EFAx5feW8OGRUCijN6WtVJBQKjJ484SNkRAmDS3TqKSQUDF4S7MK8dFQE3BmGh/ikFAwRZswRbHRECb1vHmhDJBQL62cUkHtkNAXL8xN2ixQ0Bt+wWC8whBQIHgPDrbnkVAAQrVEqDwQUBUY9ZuMs9BQOyXfumXnkNAjYYJyGiYQkDTbQehOnRDQGmN1miNFkRAX2FhYWGhREAOwzAMw9RDQC677LLL7kJAhMS8nSFxQUAyXsyOixpCQFYDSDWAZEpAUdg0i5drREBQXy311TJIQHSDFkLKo0lAGadfg3FaRECIiIiIiMhEQNhTJ8OhtkVA3SM+4iN+RkDXyV2DM51KQAfJ1Nus0ElApF5H6nWwRkDeKF84nfBMQEhPcPQEx0tAN9lkk01iTUB4oyRybZdIQHzllslFaU9Adv3G3KAlSkBooit4O/JJQM1Hc26LXUhAffgMuwJUTkBniqZoigZOQOHd3d3d81NAnpoHuetnTkBswhdtwudLQIcVm8crNVBAJbQC0FOQTUA/H1GGNs5LQGKKOvv9SE5AtY3yhdMpR0BinKHQd5hIQOFWKG6F8khAF6XxkQnUSkAhOI/Otr9MQFzl0CLbwUlAKL9Y8ot1S0DIBA/miRpGQMgjPMIjHEhAN0+SZYNPR0AyqYLof51IQFY6yYGlw0tAzj6ds6RORUCS2gOpPRBIQIqfUeJnhFpAq6qqqqpaTUBn+NsUowZIQKaqqqqqVkpAY45ML1sZR0CSXbz+eSNIQHox8vcltkhAkPfPPtU8RUCm33NLnHpHQL/vIlaJnEtA",
          "dtype": "f8"
         },
         "yaxis": "y"
        },
        {
         "hovertemplate": "Port=San Pedro Ports<br>=%{x}<br>Average Hours at Berth=%{y}<extra></extra>",
         "legendgroup": "San Pedro Ports",
         "line": {
          "color": "lightgray",
          "dash": "solid"
         },
         "marker": {
          "symbol": "circle"
         },
         "mode": "lines",
         "name": "San Pedro Ports",
         "orientation": "v",
         "showlegend": true,
         "type": "scatter",
         "x": [
          "2018-01-01",
          "2018-02-01",
          "2018-03-01",
          "2018-04-01",
          "2018-05-01",
          "2018-06-01",
          "2018-07-01",
          "2018-08-01",
          "2018-09-01",
          "2018-10-01",
          "2018-11-01",
          "2018-12-01",
          "2019-01-01",
          "2019-02-01",
          "2019-03-01",
          "2019-04-01",
          "2019-05-01",
          "2019-06-01",
          "2019-07-01",
          "2019-08-01",
          "2019-09-01",
          "2019-10-01",
          "2019-11-01",
          "2019-12-01",
          "2020-01-01",
          "2020-02-01",
          "2020-03-01",
          "2020-04-01",
          "2020-05-01",
          "2020-06-01",
          "2020-07-01",
          "2020-08-01",
          "2020-09-01",
          "2020-10-01",
          "2020-11-01",
          "2020-12-01",
          "2021-01-01",
          "2021-02-01",
          "2021-03-01",
          "2021-04-01",
          "2021-05-01",
          "2021-06-01",
          "2021-07-01",
          "2021-08-01",
          "2021-09-01",
          "2021-10-01",
          "2021-11-01",
          "2021-12-01",
          "2022-01-01",
          "2022-02-01",
          "2022-03-01",
          "2022-04-01",
          "2022-05-01",
          "2022-06-01",
          "2022-07-01",
          "2022-08-01",
          "2022-09-01",
          "2022-10-01",
          "2022-11-01",
          "2022-12-01",
          "2023-01-01",
          "2023-02-01",
          "2023-03-01",
          "2023-04-01",
          "2023-05-01",
          "2023-06-01",
          "2023-07-01",
          "2023-08-01",
          "2023-09-01",
          "2023-10-01",
          "2023-11-01",
          "2023-12-01",
          "2024-01-01",
          "2024-02-01",
          "2024-03-01",
          "2024-04-01",
          "2024-05-01",
          "2024-06-01",
          "2024-07-01",
          "2024-08-01",
          "2024-09-01",
          "2024-10-01",
          "2024-11-01",
          "2024-12-01"
         ],
         "xaxis": "x",
         "y": {
          "bdata": "vb/JbKf0R0BipdIyf+FIQJXL79XDuFBAhOejObdFSUDptIFOG+BLQLqyzyE1cUtA2ZC8Dcl7S0DyHRk2iKNJQM/MzMxMJEtAXnGBHs48S0D7gBKJNUZLQFcQkyuIsU9AwLu7u7t5T0Aad8mFxixKQJfxZTd99ElAEbZgC7bISUBcWvlUNxxJQKX31rBZsUhAH0bprtr5SEAcPpbdePBKQLJ5vNKEYUhALRW4Q3LMSEA6ao6llfBJQFV/Sv0p1UhAIiMgJhqSSUABd2VC/K9FQEzgBE7gCElAKYuyKIsKSkAX+IckC1dLQH6Yrgo1MEhAc4iLMWODSEDhkiIuKQJKQBqp15F6UUxAJrbXL3eSTUA1eGLYfKtRQADsepLt/1RA29ra2to2VUDkU+tlmCZTQCIptDZ83VRAEnbzWwhkVEB2mAsOrFtZQFdVVVXVx1RAs/ofB20OV0CO8d9wKv5UQAerPs4cC1RABK2+VNDaV0BokEXbr7ZTQJVMAjqQv1lA3iG9tN6sVkDQ9Xy6QpdSQGIVi3OrFlBAHiSh4kGCUECuePzaleVSQJTOWwzpxE9AsSZ/QZOQVUDk8C/p+V5UQGuU+BklMlJA/GmULlaaUEBn6diWjg1PQOeRHumRnk9Apie6axQLUkBJoPVKoOVQQIgzKVVaHFBAkFyDHou9UUA0x41z3DhQQF1ImlJxVlJAOjDXDswzUUDWRX1I3ERRQA6ucOv10FBAP8FUDz+eUUAibWHZizZSQEoaikBPjFBAfSfSfCdmUEBuMivAKWFSQMvLXq16jlBAxpo6jQx3UEDbM3sDcUtPQP1I9xc+mVBA46zvBbhYUECFzpNwW0BQQI8xx5CklFFAf8iFEtdhUEBEwCjV5C1QQJZd2ZVdEVBA",
          "dtype": "f8"
         },
         "yaxis": "y"
        }
       ],
       "layout": {
        "legend": {
         "title": {
          "text": "Port"
         },
         "tracegroupgap": 0
        },
        "template": {
         "data": {
          "bar": [
           {
            "error_x": {
             "color": "#2a3f5f"
            },
            "error_y": {
             "color": "#2a3f5f"
            },
            "marker": {
             "line": {
              "color": "#E5ECF6",
              "width": 0.5
             },
             "pattern": {
              "fillmode": "overlay",
              "size": 10,
              "solidity": 0.2
             }
            },
            "type": "bar"
           }
          ],
          "barpolar": [
           {
            "marker": {
             "line": {
              "color": "#E5ECF6",
              "width": 0.5
             },
             "pattern": {
              "fillmode": "overlay",
              "size": 10,
              "solidity": 0.2
             }
            },
            "type": "barpolar"
           }
          ],
          "carpet": [
           {
            "aaxis": {
             "endlinecolor": "#2a3f5f",
             "gridcolor": "white",
             "linecolor": "white",
             "minorgridcolor": "white",
             "startlinecolor": "#2a3f5f"
            },
            "baxis": {
             "endlinecolor": "#2a3f5f",
             "gridcolor": "white",
             "linecolor": "white",
             "minorgridcolor": "white",
             "startlinecolor": "#2a3f5f"
            },
            "type": "carpet"
           }
          ],
          "choropleth": [
           {
            "colorbar": {
             "outlinewidth": 0,
             "ticks": ""
            },
            "type": "choropleth"
           }
          ],
          "contour": [
           {
            "colorbar": {
             "outlinewidth": 0,
             "ticks": ""
            },
            "colorscale": [
             [
              0,
              "#0d0887"
             ],
             [
              0.1111111111111111,
              "#46039f"
             ],
             [
              0.2222222222222222,
              "#7201a8"
             ],
             [
              0.3333333333333333,
              "#9c179e"
             ],
             [
              0.4444444444444444,
              "#bd3786"
             ],
             [
              0.5555555555555556,
              "#d8576b"
             ],
             [
              0.6666666666666666,
              "#ed7953"
             ],
             [
              0.7777777777777778,
              "#fb9f3a"
             ],
             [
              0.8888888888888888,
              "#fdca26"
             ],
             [
              1,
              "#f0f921"
             ]
            ],
            "type": "contour"
           }
          ],
          "contourcarpet": [
           {
            "colorbar": {
             "outlinewidth": 0,
             "ticks": ""
            },
            "type": "contourcarpet"
           }
          ],
          "heatmap": [
           {
            "colorbar": {
             "outlinewidth": 0,
             "ticks": ""
            },
            "colorscale": [
             [
              0,
              "#0d0887"
             ],
             [
              0.1111111111111111,
              "#46039f"
             ],
             [
              0.2222222222222222,
              "#7201a8"
             ],
             [
              0.3333333333333333,
              "#9c179e"
             ],
             [
              0.4444444444444444,
              "#bd3786"
             ],
             [
              0.5555555555555556,
              "#d8576b"
             ],
             [
              0.6666666666666666,
              "#ed7953"
             ],
             [
              0.7777777777777778,
              "#fb9f3a"
             ],
             [
              0.8888888888888888,
              "#fdca26"
             ],
             [
              1,
              "#f0f921"
             ]
            ],
            "type": "heatmap"
           }
          ],
          "histogram": [
           {
            "marker": {
             "pattern": {
              "fillmode": "overlay",
              "size": 10,
              "solidity": 0.2
             }
            },
            "type": "histogram"
           }
          ],
          "histogram2d": [
           {
            "colorbar": {
             "outlinewidth": 0,
             "ticks": ""
            },
            "colorscale": [
             [
              0,
              "#0d0887"
             ],
             [
              0.1111111111111111,
              "#46039f"
             ],
             [
              0.2222222222222222,
              "#7201a8"
             ],
             [
              0.3333333333333333,
              "#9c179e"
             ],
             [
              0.4444444444444444,
              "#bd3786"
             ],
             [
              0.5555555555555556,
              "#d8576b"
             ],
             [
              0.6666666666666666,
              "#ed7953"
             ],
             [
              0.7777777777777778,
              "#fb9f3a"
             ],
             [
              0.8888888888888888,
              "#fdca26"
             ],
             [
              1,
              "#f0f921"
             ]
            ],
            "type": "histogram2d"
           }
          ],
          "histogram2dcontour": [
           {
            "colorbar": {
             "outlinewidth": 0,
             "ticks": ""
            },
            "colorscale": [
             [
              0,
              "#0d0887"
             ],
             [
              0.1111111111111111,
              "#46039f"
             ],
             [
              0.2222222222222222,
              "#7201a8"
             ],
             [
              0.3333333333333333,
              "#9c179e"
             ],
             [
              0.4444444444444444,
              "#bd3786"
             ],
             [
              0.5555555555555556,
              "#d8576b"
             ],
             [
              0.6666666666666666,
              "#ed7953"
             ],
             [
              0.7777777777777778,
              "#fb9f3a"
             ],
             [
              0.8888888888888888,
              "#fdca26"
             ],
             [
              1,
              "#f0f921"
             ]
            ],
            "type": "histogram2dcontour"
           }
          ],
          "mesh3d": [
           {
            "colorbar": {
             "outlinewidth": 0,
             "ticks": ""
            },
            "type": "mesh3d"
           }
          ],
          "parcoords": [
           {
            "line": {
             "colorbar": {
              "outlinewidth": 0,
              "ticks": ""
             }
            },
            "type": "parcoords"
           }
          ],
          "pie": [
           {
            "automargin": true,
            "type": "pie"
           }
          ],
          "scatter": [
           {
            "fillpattern": {
             "fillmode": "overlay",
             "size": 10,
             "solidity": 0.2
            },
            "type": "scatter"
           }
          ],
          "scatter3d": [
           {
            "line": {
             "colorbar": {
              "outlinewidth": 0,
              "ticks": ""
             }
            },
            "marker": {
             "colorbar": {
              "outlinewidth": 0,
              "ticks": ""
             }
            },
            "type": "scatter3d"
           }
          ],
          "scattercarpet": [
           {
            "marker": {
             "colorbar": {
              "outlinewidth": 0,
              "ticks": ""
             }
            },
            "type": "scattercarpet"
           }
          ],
          "scattergeo": [
           {
            "marker": {
             "colorbar": {
              "outlinewidth": 0,
              "ticks": ""
             }
            },
            "type": "scattergeo"
           }
          ],
          "scattergl": [
           {
            "marker": {
             "colorbar": {
              "outlinewidth": 0,
              "ticks": ""
             }
            },
            "type": "scattergl"
           }
          ],
          "scattermap": [
           {
            "marker": {
             "colorbar": {
              "outlinewidth": 0,
              "ticks": ""
             }
            },
            "type": "scattermap"
           }
          ],
          "scattermapbox": [
           {
            "marker": {
             "colorbar": {
              "outlinewidth": 0,
              "ticks": ""
             }
            },
            "type": "scattermapbox"
           }
          ],
          "scatterpolar": [
           {
            "marker": {
             "colorbar": {
              "outlinewidth": 0,
              "ticks": ""
             }
            },
            "type": "scatterpolar"
           }
          ],
          "scatterpolargl": [
           {
            "marker": {
             "colorbar": {
              "outlinewidth": 0,
              "ticks": ""
             }
            },
            "type": "scatterpolargl"
           }
          ],
          "scatterternary": [
           {
            "marker": {
             "colorbar": {
              "outlinewidth": 0,
              "ticks": ""
             }
            },
            "type": "scatterternary"
           }
          ],
          "surface": [
           {
            "colorbar": {
             "outlinewidth": 0,
             "ticks": ""
            },
            "colorscale": [
             [
              0,
              "#0d0887"
             ],
             [
              0.1111111111111111,
              "#46039f"
             ],
             [
              0.2222222222222222,
              "#7201a8"
             ],
             [
              0.3333333333333333,
              "#9c179e"
             ],
             [
              0.4444444444444444,
              "#bd3786"
             ],
             [
              0.5555555555555556,
              "#d8576b"
             ],
             [
              0.6666666666666666,
              "#ed7953"
             ],
             [
              0.7777777777777778,
              "#fb9f3a"
             ],
             [
              0.8888888888888888,
              "#fdca26"
             ],
             [
              1,
              "#f0f921"
             ]
            ],
            "type": "surface"
           }
          ],
          "table": [
           {
            "cells": {
             "fill": {
              "color": "#EBF0F8"
             },
             "line": {
              "color": "white"
             }
            },
            "header": {
             "fill": {
              "color": "#C8D4E3"
             },
             "line": {
              "color": "white"
             }
            },
            "type": "table"
           }
          ]
         },
         "layout": {
          "annotationdefaults": {
           "arrowcolor": "#2a3f5f",
           "arrowhead": 0,
           "arrowwidth": 1
          },
          "autotypenumbers": "strict",
          "coloraxis": {
           "colorbar": {
            "outlinewidth": 0,
            "ticks": ""
           }
          },
          "colorscale": {
           "diverging": [
            [
             0,
             "#8e0152"
            ],
            [
             0.1,
             "#c51b7d"
            ],
            [
             0.2,
             "#de77ae"
            ],
            [
             0.3,
             "#f1b6da"
            ],
            [
             0.4,
             "#fde0ef"
            ],
            [
             0.5,
             "#f7f7f7"
            ],
            [
             0.6,
             "#e6f5d0"
            ],
            [
             0.7,
             "#b8e186"
            ],
            [
             0.8,
             "#7fbc41"
            ],
            [
             0.9,
             "#4d9221"
            ],
            [
             1,
             "#276419"
            ]
           ],
           "sequential": [
            [
             0,
             "#0d0887"
            ],
            [
             0.1111111111111111,
             "#46039f"
            ],
            [
             0.2222222222222222,
             "#7201a8"
            ],
            [
             0.3333333333333333,
             "#9c179e"
            ],
            [
             0.4444444444444444,
             "#bd3786"
            ],
            [
             0.5555555555555556,
             "#d8576b"
            ],
            [
             0.6666666666666666,
             "#ed7953"
            ],
            [
             0.7777777777777778,
             "#fb9f3a"
            ],
            [
             0.8888888888888888,
             "#fdca26"
            ],
            [
             1,
             "#f0f921"
            ]
           ],
           "sequentialminus": [
            [
             0,
             "#0d0887"
            ],
            [
             0.1111111111111111,
             "#46039f"
            ],
            [
             0.2222222222222222,
             "#7201a8"
            ],
            [
             0.3333333333333333,
             "#9c179e"
            ],
            [
             0.4444444444444444,
             "#bd3786"
            ],
            [
             0.5555555555555556,
             "#d8576b"
            ],
            [
             0.6666666666666666,
             "#ed7953"
            ],
            [
             0.7777777777777778,
             "#fb9f3a"
            ],
            [
             0.8888888888888888,
             "#fdca26"
            ],
            [
             1,
             "#f0f921"
            ]
           ]
          },
          "colorway": [
           "#636efa",
           "#EF553B",
           "#00cc96",
           "#ab63fa",
           "#FFA15A",
           "#19d3f3",
           "#FF6692",
           "#B6E880",
           "#FF97FF",
           "#FECB52"
          ],
          "font": {
           "color": "#2a3f5f"
          },
          "geo": {
           "bgcolor": "white",
           "lakecolor": "white",
           "landcolor": "#E5ECF6",
           "showlakes": true,
           "showland": true,
           "subunitcolor": "white"
          },
          "hoverlabel": {
           "align": "left"
          },
          "hovermode": "closest",
          "mapbox": {
           "style": "light"
          },
          "paper_bgcolor": "white",
          "plot_bgcolor": "#E5ECF6",
          "polar": {
           "angularaxis": {
            "gridcolor": "white",
            "linecolor": "white",
            "ticks": ""
           },
           "bgcolor": "#E5ECF6",
           "radialaxis": {
            "gridcolor": "white",
            "linecolor": "white",
            "ticks": ""
           }
          },
          "scene": {
           "xaxis": {
            "backgroundcolor": "#E5ECF6",
            "gridcolor": "white",
            "gridwidth": 2,
            "linecolor": "white",
            "showbackground": true,
            "ticks": "",
            "zerolinecolor": "white"
           },
           "yaxis": {
            "backgroundcolor": "#E5ECF6",
            "gridcolor": "white",
            "gridwidth": 2,
            "linecolor": "white",
            "showbackground": true,
            "ticks": "",
            "zerolinecolor": "white"
           },
           "zaxis": {
            "backgroundcolor": "#E5ECF6",
            "gridcolor": "white",
            "gridwidth": 2,
            "linecolor": "white",
            "showbackground": true,
            "ticks": "",
            "zerolinecolor": "white"
           }
          },
          "shapedefaults": {
           "line": {
            "color": "#2a3f5f"
           }
          },
          "ternary": {
           "aaxis": {
            "gridcolor": "white",
            "linecolor": "white",
            "ticks": ""
           },
           "baxis": {
            "gridcolor": "white",
            "linecolor": "white",
            "ticks": ""
           },
           "bgcolor": "#E5ECF6",
           "caxis": {
            "gridcolor": "white",
            "linecolor": "white",
            "ticks": ""
           }
          },
          "title": {
           "x": 0.05
          },
          "xaxis": {
           "automargin": true,
           "gridcolor": "white",
           "linecolor": "white",
           "ticks": "",
           "title": {
            "standoff": 15
           },
           "zerolinecolor": "white",
           "zerolinewidth": 2
          },
          "yaxis": {
           "automargin": true,
           "gridcolor": "white",
           "linecolor": "white",
           "ticks": "",
           "title": {
            "standoff": 15
           },
           "zerolinecolor": "white",
           "zerolinewidth": 2
          }
         }
        },
        "title": {
         "text": "Hours at Berth per call at Principal Ports"
        },
        "xaxis": {
         "anchor": "y",
         "domain": [
          0,
          1
         ],
         "title": {
          "text": ""
         }
        },
        "yaxis": {
         "anchor": "x",
         "domain": [
          0,
          1
         ],
         "title": {
          "text": "Average Hours at Berth"
         }
        }
       }
      }
     },
     "metadata": {},
     "output_type": "display_data"
    }
   ],
   "source": [
    "plot_line(\n",
    "        df=calls_df, cat_group='port_group', time_col='month',\n",
    "        y_col='hrs_at_berth', y_col_alias='Average Hours at Berth',\n",
    "        title='Hours at Berth per call at Principal Ports', width=None, height=None,\n",
    "        labels={'port_group':'Port', 'month':''},\n",
    "        cat_limit=10, cat_limit_col='hrs_at_berth',\n",
    "        highlight='NW Seaport Alliance', highlight_color='blue'\n",
    "    )"
   ]
  },
  {
   "cell_type": "code",
   "execution_count": 9,
   "id": "c949f9d8",
   "metadata": {},
   "outputs": [
    {
     "data": {
      "application/vnd.plotly.v1+json": {
       "config": {
        "plotlyServerURL": "https://plot.ly"
       },
       "data": [
        {
         "hovertemplate": "Port=NW Seaport Alliance<br>=%{x}<br>Average Hours at Berth=%{y}<extra></extra>",
         "legendgroup": "NW Seaport Alliance",
         "line": {
          "color": "#636efa",
          "dash": "solid"
         },
         "marker": {
          "symbol": "circle"
         },
         "mode": "lines",
         "name": "NW Seaport Alliance",
         "orientation": "v",
         "showlegend": true,
         "type": "scatter",
         "x": [
          "2018-01-01",
          "2018-02-01",
          "2018-03-01",
          "2018-04-01",
          "2018-05-01",
          "2018-06-01",
          "2018-07-01",
          "2018-08-01",
          "2018-09-01",
          "2018-10-01",
          "2018-11-01",
          "2018-12-01",
          "2019-01-01",
          "2019-02-01",
          "2019-03-01",
          "2019-04-01",
          "2019-05-01",
          "2019-06-01",
          "2019-07-01",
          "2019-08-01",
          "2019-09-01",
          "2019-10-01",
          "2019-11-01",
          "2019-12-01",
          "2020-01-01",
          "2020-02-01",
          "2020-03-01",
          "2020-04-01",
          "2020-05-01",
          "2020-06-01",
          "2020-07-01",
          "2020-08-01",
          "2020-09-01",
          "2020-10-01",
          "2020-11-01",
          "2020-12-01",
          "2021-01-01",
          "2021-02-01",
          "2021-03-01",
          "2021-04-01",
          "2021-05-01",
          "2021-06-01",
          "2021-07-01",
          "2021-08-01",
          "2021-09-01",
          "2021-10-01",
          "2021-11-01",
          "2021-12-01",
          "2022-01-01",
          "2022-02-01",
          "2022-03-01",
          "2022-04-01",
          "2022-05-01",
          "2022-06-01",
          "2022-07-01",
          "2022-08-01",
          "2022-09-01",
          "2022-10-01",
          "2022-11-01",
          "2022-12-01",
          "2023-01-01",
          "2023-02-01",
          "2023-03-01",
          "2023-04-01",
          "2023-05-01",
          "2023-06-01",
          "2023-07-01",
          "2023-08-01",
          "2023-09-01",
          "2023-10-01",
          "2023-11-01",
          "2023-12-01",
          "2024-01-01",
          "2024-02-01",
          "2024-03-01",
          "2024-04-01",
          "2024-05-01",
          "2024-06-01",
          "2024-07-01",
          "2024-08-01",
          "2024-09-01",
          "2024-10-01",
          "2024-11-01",
          "2024-12-01"
         ],
         "xaxis": "x",
         "y": {
          "bdata": "lD7pkz43RkAvYBoDpiVIQOtceUCyLkFA4YMPPvjsRkD8J+bI9HI/QDucwzmcZ0BAAGqSQeP/QUBgCZZgCTZAQMakeIFMCkJAwgWiN9cHRED+/////59BQEbFv6lR8UhAMB+JDfPRRkDWWI3VWH1BQFy01GAV+UJApKSkpKTEQUCZU/ByCv5BQOjCXX2T/D5ArLVrzNftPEDrtm7rtn5CQNbmywGWfT9ARkREREQYO0AZ/Qdq3ME8QGz20GYPTUBAiyW/WPILQ0D89shY18s7QMJia7DYekFAaI3WaI2WPUDOzMzMzC5BQGhmZmZm3j5AS+eAGrTNP0CFVEiFVAhAQLMru7IrW0FAtEzmfxmzQEB62BuVopdBQFMTCptm8UhAE3K1LjzBR0D/////f7FHQA8b5iOxIURAaaiGaqjmR0Daqq3aqs1JQCTrXHlAwkdAssArC7ySS0DbZnib4U1HQFhxFVdxtUdAYgmWYAkWSUDkEIJsZCFJQPpygGWbu1BAXnlAss4FS0C4VUqUM4BQQCM+JFXcVUZA1BQCTSGgTUC4uLi4uNhGQKuf6Yh9p0VA6PLsby6/REDII3qGGutCQFK4HoXrP0RAG7mRG7mdR0A0VEM1VONHQFQEZweMQ0RAH3nP228ASkDh12YQko9EQAFSDSDVYEBAa9+w9g07RUAbjlJw4ahFQH91UmUMy0hAp9auMV9XRkDnVBcUw/lCQN/d3d3ddEZAp0/6pE/uSEChuBWKW2VNQO0eUoW4q0VAgWkMmMaUR0CUTTbZZDdFQOlni5XhW0VAyLCohZgfRUAcs9pr1Y1FQJ/sDKI+FkZAbsgb8oZsSkDtG9a+YQ1GQPNzo1HQAEdAYR8X9nFhRUCjT/qkT1ZMQM3AGlLqTElA",
          "dtype": "f8"
         },
         "yaxis": "y"
        },
        {
         "hovertemplate": "Port=San Pedro Ports<br>=%{x}<br>Average Hours at Berth=%{y}<extra></extra>",
         "legendgroup": "San Pedro Ports",
         "line": {
          "color": "#EF553B",
          "dash": "solid"
         },
         "marker": {
          "symbol": "circle"
         },
         "mode": "lines",
         "name": "San Pedro Ports",
         "orientation": "v",
         "showlegend": true,
         "type": "scatter",
         "x": [
          "2018-01-01",
          "2018-02-01",
          "2018-03-01",
          "2018-04-01",
          "2018-05-01",
          "2018-06-01",
          "2018-07-01",
          "2018-08-01",
          "2018-09-01",
          "2018-10-01",
          "2018-11-01",
          "2018-12-01",
          "2019-01-01",
          "2019-02-01",
          "2019-03-01",
          "2019-04-01",
          "2019-05-01",
          "2019-06-01",
          "2019-07-01",
          "2019-08-01",
          "2019-09-01",
          "2019-10-01",
          "2019-11-01",
          "2019-12-01",
          "2020-01-01",
          "2020-02-01",
          "2020-03-01",
          "2020-04-01",
          "2020-05-01",
          "2020-06-01",
          "2020-07-01",
          "2020-08-01",
          "2020-09-01",
          "2020-10-01",
          "2020-11-01",
          "2020-12-01",
          "2021-01-01",
          "2021-02-01",
          "2021-03-01",
          "2021-04-01",
          "2021-05-01",
          "2021-06-01",
          "2021-07-01",
          "2021-08-01",
          "2021-09-01",
          "2021-10-01",
          "2021-11-01",
          "2021-12-01",
          "2022-01-01",
          "2022-02-01",
          "2022-03-01",
          "2022-04-01",
          "2022-05-01",
          "2022-06-01",
          "2022-07-01",
          "2022-08-01",
          "2022-09-01",
          "2022-10-01",
          "2022-11-01",
          "2022-12-01",
          "2023-01-01",
          "2023-02-01",
          "2023-03-01",
          "2023-04-01",
          "2023-05-01",
          "2023-06-01",
          "2023-07-01",
          "2023-08-01",
          "2023-09-01",
          "2023-10-01",
          "2023-11-01",
          "2023-12-01",
          "2024-01-01",
          "2024-02-01",
          "2024-03-01",
          "2024-04-01",
          "2024-05-01",
          "2024-06-01",
          "2024-07-01",
          "2024-08-01",
          "2024-09-01",
          "2024-10-01",
          "2024-11-01",
          "2024-12-01"
         ],
         "xaxis": "x",
         "y": {
          "bdata": "vb/JbKf0R0BipdIyf+FIQJXL79XDuFBAhOejObdFSUDptIFOG+BLQLqyzyE1cUtA2ZC8Dcl7S0DyHRk2iKNJQM/MzMxMJEtAXnGBHs48S0D7gBKJNUZLQFcQkyuIsU9AwLu7u7t5T0Aad8mFxixKQJfxZTd99ElAEbZgC7bISUBcWvlUNxxJQKX31rBZsUhAH0bprtr5SEAcPpbdePBKQLJ5vNKEYUhALRW4Q3LMSEA6ao6llfBJQFV/Sv0p1UhAIiMgJhqSSUABd2VC/K9FQEzgBE7gCElAKYuyKIsKSkAX+IckC1dLQH6Yrgo1MEhAc4iLMWODSEDhkiIuKQJKQBqp15F6UUxAJrbXL3eSTUA1eGLYfKtRQADsepLt/1RA29ra2to2VUDkU+tlmCZTQCIptDZ83VRAEnbzWwhkVEB2mAsOrFtZQFdVVVXVx1RAs/ofB20OV0CO8d9wKv5UQAerPs4cC1RABK2+VNDaV0BokEXbr7ZTQJVMAjqQv1lA3iG9tN6sVkDQ9Xy6QpdSQGIVi3OrFlBAHiSh4kGCUECuePzaleVSQJTOWwzpxE9AsSZ/QZOQVUDk8C/p+V5UQGuU+BklMlJA/GmULlaaUEBn6diWjg1PQOeRHumRnk9Apie6axQLUkBJoPVKoOVQQIgzKVVaHFBAkFyDHou9UUA0x41z3DhQQF1ImlJxVlJAOjDXDswzUUDWRX1I3ERRQA6ucOv10FBAP8FUDz+eUUAibWHZizZSQEoaikBPjFBAfSfSfCdmUEBuMivAKWFSQMvLXq16jlBAxpo6jQx3UEDbM3sDcUtPQP1I9xc+mVBA46zvBbhYUECFzpNwW0BQQI8xx5CklFFAf8iFEtdhUEBEwCjV5C1QQJZd2ZVdEVBA",
          "dtype": "f8"
         },
         "yaxis": "y"
        }
       ],
       "layout": {
        "legend": {
         "title": {
          "text": "Port"
         },
         "tracegroupgap": 0
        },
        "template": {
         "data": {
          "bar": [
           {
            "error_x": {
             "color": "#2a3f5f"
            },
            "error_y": {
             "color": "#2a3f5f"
            },
            "marker": {
             "line": {
              "color": "#E5ECF6",
              "width": 0.5
             },
             "pattern": {
              "fillmode": "overlay",
              "size": 10,
              "solidity": 0.2
             }
            },
            "type": "bar"
           }
          ],
          "barpolar": [
           {
            "marker": {
             "line": {
              "color": "#E5ECF6",
              "width": 0.5
             },
             "pattern": {
              "fillmode": "overlay",
              "size": 10,
              "solidity": 0.2
             }
            },
            "type": "barpolar"
           }
          ],
          "carpet": [
           {
            "aaxis": {
             "endlinecolor": "#2a3f5f",
             "gridcolor": "white",
             "linecolor": "white",
             "minorgridcolor": "white",
             "startlinecolor": "#2a3f5f"
            },
            "baxis": {
             "endlinecolor": "#2a3f5f",
             "gridcolor": "white",
             "linecolor": "white",
             "minorgridcolor": "white",
             "startlinecolor": "#2a3f5f"
            },
            "type": "carpet"
           }
          ],
          "choropleth": [
           {
            "colorbar": {
             "outlinewidth": 0,
             "ticks": ""
            },
            "type": "choropleth"
           }
          ],
          "contour": [
           {
            "colorbar": {
             "outlinewidth": 0,
             "ticks": ""
            },
            "colorscale": [
             [
              0,
              "#0d0887"
             ],
             [
              0.1111111111111111,
              "#46039f"
             ],
             [
              0.2222222222222222,
              "#7201a8"
             ],
             [
              0.3333333333333333,
              "#9c179e"
             ],
             [
              0.4444444444444444,
              "#bd3786"
             ],
             [
              0.5555555555555556,
              "#d8576b"
             ],
             [
              0.6666666666666666,
              "#ed7953"
             ],
             [
              0.7777777777777778,
              "#fb9f3a"
             ],
             [
              0.8888888888888888,
              "#fdca26"
             ],
             [
              1,
              "#f0f921"
             ]
            ],
            "type": "contour"
           }
          ],
          "contourcarpet": [
           {
            "colorbar": {
             "outlinewidth": 0,
             "ticks": ""
            },
            "type": "contourcarpet"
           }
          ],
          "heatmap": [
           {
            "colorbar": {
             "outlinewidth": 0,
             "ticks": ""
            },
            "colorscale": [
             [
              0,
              "#0d0887"
             ],
             [
              0.1111111111111111,
              "#46039f"
             ],
             [
              0.2222222222222222,
              "#7201a8"
             ],
             [
              0.3333333333333333,
              "#9c179e"
             ],
             [
              0.4444444444444444,
              "#bd3786"
             ],
             [
              0.5555555555555556,
              "#d8576b"
             ],
             [
              0.6666666666666666,
              "#ed7953"
             ],
             [
              0.7777777777777778,
              "#fb9f3a"
             ],
             [
              0.8888888888888888,
              "#fdca26"
             ],
             [
              1,
              "#f0f921"
             ]
            ],
            "type": "heatmap"
           }
          ],
          "histogram": [
           {
            "marker": {
             "pattern": {
              "fillmode": "overlay",
              "size": 10,
              "solidity": 0.2
             }
            },
            "type": "histogram"
           }
          ],
          "histogram2d": [
           {
            "colorbar": {
             "outlinewidth": 0,
             "ticks": ""
            },
            "colorscale": [
             [
              0,
              "#0d0887"
             ],
             [
              0.1111111111111111,
              "#46039f"
             ],
             [
              0.2222222222222222,
              "#7201a8"
             ],
             [
              0.3333333333333333,
              "#9c179e"
             ],
             [
              0.4444444444444444,
              "#bd3786"
             ],
             [
              0.5555555555555556,
              "#d8576b"
             ],
             [
              0.6666666666666666,
              "#ed7953"
             ],
             [
              0.7777777777777778,
              "#fb9f3a"
             ],
             [
              0.8888888888888888,
              "#fdca26"
             ],
             [
              1,
              "#f0f921"
             ]
            ],
            "type": "histogram2d"
           }
          ],
          "histogram2dcontour": [
           {
            "colorbar": {
             "outlinewidth": 0,
             "ticks": ""
            },
            "colorscale": [
             [
              0,
              "#0d0887"
             ],
             [
              0.1111111111111111,
              "#46039f"
             ],
             [
              0.2222222222222222,
              "#7201a8"
             ],
             [
              0.3333333333333333,
              "#9c179e"
             ],
             [
              0.4444444444444444,
              "#bd3786"
             ],
             [
              0.5555555555555556,
              "#d8576b"
             ],
             [
              0.6666666666666666,
              "#ed7953"
             ],
             [
              0.7777777777777778,
              "#fb9f3a"
             ],
             [
              0.8888888888888888,
              "#fdca26"
             ],
             [
              1,
              "#f0f921"
             ]
            ],
            "type": "histogram2dcontour"
           }
          ],
          "mesh3d": [
           {
            "colorbar": {
             "outlinewidth": 0,
             "ticks": ""
            },
            "type": "mesh3d"
           }
          ],
          "parcoords": [
           {
            "line": {
             "colorbar": {
              "outlinewidth": 0,
              "ticks": ""
             }
            },
            "type": "parcoords"
           }
          ],
          "pie": [
           {
            "automargin": true,
            "type": "pie"
           }
          ],
          "scatter": [
           {
            "fillpattern": {
             "fillmode": "overlay",
             "size": 10,
             "solidity": 0.2
            },
            "type": "scatter"
           }
          ],
          "scatter3d": [
           {
            "line": {
             "colorbar": {
              "outlinewidth": 0,
              "ticks": ""
             }
            },
            "marker": {
             "colorbar": {
              "outlinewidth": 0,
              "ticks": ""
             }
            },
            "type": "scatter3d"
           }
          ],
          "scattercarpet": [
           {
            "marker": {
             "colorbar": {
              "outlinewidth": 0,
              "ticks": ""
             }
            },
            "type": "scattercarpet"
           }
          ],
          "scattergeo": [
           {
            "marker": {
             "colorbar": {
              "outlinewidth": 0,
              "ticks": ""
             }
            },
            "type": "scattergeo"
           }
          ],
          "scattergl": [
           {
            "marker": {
             "colorbar": {
              "outlinewidth": 0,
              "ticks": ""
             }
            },
            "type": "scattergl"
           }
          ],
          "scattermap": [
           {
            "marker": {
             "colorbar": {
              "outlinewidth": 0,
              "ticks": ""
             }
            },
            "type": "scattermap"
           }
          ],
          "scattermapbox": [
           {
            "marker": {
             "colorbar": {
              "outlinewidth": 0,
              "ticks": ""
             }
            },
            "type": "scattermapbox"
           }
          ],
          "scatterpolar": [
           {
            "marker": {
             "colorbar": {
              "outlinewidth": 0,
              "ticks": ""
             }
            },
            "type": "scatterpolar"
           }
          ],
          "scatterpolargl": [
           {
            "marker": {
             "colorbar": {
              "outlinewidth": 0,
              "ticks": ""
             }
            },
            "type": "scatterpolargl"
           }
          ],
          "scatterternary": [
           {
            "marker": {
             "colorbar": {
              "outlinewidth": 0,
              "ticks": ""
             }
            },
            "type": "scatterternary"
           }
          ],
          "surface": [
           {
            "colorbar": {
             "outlinewidth": 0,
             "ticks": ""
            },
            "colorscale": [
             [
              0,
              "#0d0887"
             ],
             [
              0.1111111111111111,
              "#46039f"
             ],
             [
              0.2222222222222222,
              "#7201a8"
             ],
             [
              0.3333333333333333,
              "#9c179e"
             ],
             [
              0.4444444444444444,
              "#bd3786"
             ],
             [
              0.5555555555555556,
              "#d8576b"
             ],
             [
              0.6666666666666666,
              "#ed7953"
             ],
             [
              0.7777777777777778,
              "#fb9f3a"
             ],
             [
              0.8888888888888888,
              "#fdca26"
             ],
             [
              1,
              "#f0f921"
             ]
            ],
            "type": "surface"
           }
          ],
          "table": [
           {
            "cells": {
             "fill": {
              "color": "#EBF0F8"
             },
             "line": {
              "color": "white"
             }
            },
            "header": {
             "fill": {
              "color": "#C8D4E3"
             },
             "line": {
              "color": "white"
             }
            },
            "type": "table"
           }
          ]
         },
         "layout": {
          "annotationdefaults": {
           "arrowcolor": "#2a3f5f",
           "arrowhead": 0,
           "arrowwidth": 1
          },
          "autotypenumbers": "strict",
          "coloraxis": {
           "colorbar": {
            "outlinewidth": 0,
            "ticks": ""
           }
          },
          "colorscale": {
           "diverging": [
            [
             0,
             "#8e0152"
            ],
            [
             0.1,
             "#c51b7d"
            ],
            [
             0.2,
             "#de77ae"
            ],
            [
             0.3,
             "#f1b6da"
            ],
            [
             0.4,
             "#fde0ef"
            ],
            [
             0.5,
             "#f7f7f7"
            ],
            [
             0.6,
             "#e6f5d0"
            ],
            [
             0.7,
             "#b8e186"
            ],
            [
             0.8,
             "#7fbc41"
            ],
            [
             0.9,
             "#4d9221"
            ],
            [
             1,
             "#276419"
            ]
           ],
           "sequential": [
            [
             0,
             "#0d0887"
            ],
            [
             0.1111111111111111,
             "#46039f"
            ],
            [
             0.2222222222222222,
             "#7201a8"
            ],
            [
             0.3333333333333333,
             "#9c179e"
            ],
            [
             0.4444444444444444,
             "#bd3786"
            ],
            [
             0.5555555555555556,
             "#d8576b"
            ],
            [
             0.6666666666666666,
             "#ed7953"
            ],
            [
             0.7777777777777778,
             "#fb9f3a"
            ],
            [
             0.8888888888888888,
             "#fdca26"
            ],
            [
             1,
             "#f0f921"
            ]
           ],
           "sequentialminus": [
            [
             0,
             "#0d0887"
            ],
            [
             0.1111111111111111,
             "#46039f"
            ],
            [
             0.2222222222222222,
             "#7201a8"
            ],
            [
             0.3333333333333333,
             "#9c179e"
            ],
            [
             0.4444444444444444,
             "#bd3786"
            ],
            [
             0.5555555555555556,
             "#d8576b"
            ],
            [
             0.6666666666666666,
             "#ed7953"
            ],
            [
             0.7777777777777778,
             "#fb9f3a"
            ],
            [
             0.8888888888888888,
             "#fdca26"
            ],
            [
             1,
             "#f0f921"
            ]
           ]
          },
          "colorway": [
           "#636efa",
           "#EF553B",
           "#00cc96",
           "#ab63fa",
           "#FFA15A",
           "#19d3f3",
           "#FF6692",
           "#B6E880",
           "#FF97FF",
           "#FECB52"
          ],
          "font": {
           "color": "#2a3f5f"
          },
          "geo": {
           "bgcolor": "white",
           "lakecolor": "white",
           "landcolor": "#E5ECF6",
           "showlakes": true,
           "showland": true,
           "subunitcolor": "white"
          },
          "hoverlabel": {
           "align": "left"
          },
          "hovermode": "closest",
          "mapbox": {
           "style": "light"
          },
          "paper_bgcolor": "white",
          "plot_bgcolor": "#E5ECF6",
          "polar": {
           "angularaxis": {
            "gridcolor": "white",
            "linecolor": "white",
            "ticks": ""
           },
           "bgcolor": "#E5ECF6",
           "radialaxis": {
            "gridcolor": "white",
            "linecolor": "white",
            "ticks": ""
           }
          },
          "scene": {
           "xaxis": {
            "backgroundcolor": "#E5ECF6",
            "gridcolor": "white",
            "gridwidth": 2,
            "linecolor": "white",
            "showbackground": true,
            "ticks": "",
            "zerolinecolor": "white"
           },
           "yaxis": {
            "backgroundcolor": "#E5ECF6",
            "gridcolor": "white",
            "gridwidth": 2,
            "linecolor": "white",
            "showbackground": true,
            "ticks": "",
            "zerolinecolor": "white"
           },
           "zaxis": {
            "backgroundcolor": "#E5ECF6",
            "gridcolor": "white",
            "gridwidth": 2,
            "linecolor": "white",
            "showbackground": true,
            "ticks": "",
            "zerolinecolor": "white"
           }
          },
          "shapedefaults": {
           "line": {
            "color": "#2a3f5f"
           }
          },
          "ternary": {
           "aaxis": {
            "gridcolor": "white",
            "linecolor": "white",
            "ticks": ""
           },
           "baxis": {
            "gridcolor": "white",
            "linecolor": "white",
            "ticks": ""
           },
           "bgcolor": "#E5ECF6",
           "caxis": {
            "gridcolor": "white",
            "linecolor": "white",
            "ticks": ""
           }
          },
          "title": {
           "x": 0.05
          },
          "xaxis": {
           "automargin": true,
           "gridcolor": "white",
           "linecolor": "white",
           "ticks": "",
           "title": {
            "standoff": 15
           },
           "zerolinecolor": "white",
           "zerolinewidth": 2
          },
          "yaxis": {
           "automargin": true,
           "gridcolor": "white",
           "linecolor": "white",
           "ticks": "",
           "title": {
            "standoff": 15
           },
           "zerolinecolor": "white",
           "zerolinewidth": 2
          }
         }
        },
        "title": {
         "text": "Hours at Berth per call - San Pedro vs NWSPA"
        },
        "xaxis": {
         "anchor": "y",
         "domain": [
          0,
          1
         ],
         "title": {
          "text": ""
         }
        },
        "yaxis": {
         "anchor": "x",
         "domain": [
          0,
          1
         ],
         "title": {
          "text": "Average Hours at Berth"
         }
        }
       }
      }
     },
     "metadata": {},
     "output_type": "display_data"
    }
   ],
   "source": [
    "plot_line(\n",
    "        df=calls_df, cat_group='port_group', time_col='month',\n",
    "        filter_col='port_group', filter=['NW Seaport Alliance', 'San Pedro Ports'],\n",
    "        y_col='hrs_at_berth', y_col_alias='Average Hours at Berth',\n",
    "        title='Hours at Berth per call - San Pedro vs NWSPA', width=None, height=None,\n",
    "        labels={'port_group':'Port', 'month':''},\n",
    "        cat_limit=10, cat_limit_col='hrs_at_berth',\n",
    "        #highlight='NW Seaport Alliance', highlight_color='blue'\n",
    "    )"
   ]
  },
  {
   "cell_type": "markdown",
   "id": "ebbd33c4",
   "metadata": {},
   "source": [
    "Much more interesting: total hours at berth per unit volume in each month"
   ]
  },
  {
   "cell_type": "code",
   "execution_count": 10,
   "id": "81a26204",
   "metadata": {},
   "outputs": [
    {
     "data": {
      "application/vnd.plotly.v1+json": {
       "config": {
        "plotlyServerURL": "https://plot.ly"
       },
       "data": [
        {
         "hovertemplate": "Port=New Orleans, LA<br>=%{x}<br>Mean Vessel Length (m)=%{y}<extra></extra>",
         "legendgroup": "New Orleans, LA",
         "line": {
          "color": "lightgray",
          "dash": "solid"
         },
         "marker": {
          "symbol": "circle"
         },
         "mode": "lines",
         "name": "New Orleans, LA",
         "orientation": "v",
         "showlegend": true,
         "type": "scatter",
         "x": [
          "2018-01-01",
          "2018-02-01",
          "2018-03-01",
          "2018-04-01",
          "2018-05-01",
          "2018-06-01",
          "2018-07-01",
          "2018-08-01",
          "2018-09-01",
          "2018-10-01",
          "2018-11-01",
          "2018-12-01",
          "2019-01-01",
          "2019-02-01",
          "2019-03-01",
          "2019-04-01",
          "2019-05-01",
          "2019-06-01",
          "2019-07-01",
          "2019-08-01",
          "2019-09-01",
          "2019-10-01",
          "2019-11-01",
          "2019-12-01",
          "2020-01-01",
          "2020-02-01",
          "2020-03-01",
          "2020-04-01",
          "2020-05-01",
          "2020-06-01",
          "2020-07-01",
          "2020-08-01",
          "2020-09-01",
          "2020-10-01",
          "2020-11-01",
          "2020-12-01",
          "2021-01-01",
          "2021-02-01",
          "2021-03-01",
          "2021-04-01",
          "2021-05-01",
          "2021-06-01",
          "2021-07-01",
          "2021-08-01",
          "2021-09-01",
          "2021-10-01",
          "2021-11-01",
          "2021-12-01",
          "2022-01-01",
          "2022-02-01",
          "2022-03-01",
          "2022-04-01",
          "2022-05-01",
          "2022-06-01",
          "2022-07-01",
          "2022-08-01",
          "2022-09-01",
          "2022-10-01",
          "2022-11-01",
          "2022-12-01",
          "2023-01-01",
          "2023-02-01",
          "2023-03-01",
          "2023-04-01",
          "2023-05-01",
          "2023-06-01",
          "2023-07-01",
          "2023-08-01",
          "2023-09-01",
          "2023-10-01",
          "2023-11-01",
          "2023-12-01",
          "2024-01-01",
          "2024-02-01",
          "2024-03-01",
          "2024-04-01",
          "2024-05-01",
          "2024-06-01",
          "2024-07-01",
          "2024-08-01",
          "2024-09-01",
          "2024-10-01",
          "2024-11-01",
          "2024-12-01"
         ],
         "xaxis": "x",
         "y": {
          "bdata": "inzWDaYIa0A7MNcOzJVrQCxRuxK1e2tAIYQQQgiha0CamZmZme9rQPz48ePHT2xA+cWSXyzZbECWqF2J2gVsQEaMGDFiZGxA8uPHjx9/a0AAAAAAAApsQIiHh4eHt2tAuuiiiy5ybEBu5EZu5MZqQNaUNWVNiWpAQgghhBACbEDBgQMHDpxrQH7gB37gp2tAINEKmwNpbEDZsmXLlu1rQCGEEEIIwWxAAAAAAADmbECkBypntzBrQCebbLLJ1mxAmpmZmZmZa0ASlnsaYUlsQBGso837lGtAwgcffPCRa0BFPusGU8RrQKmVWqmVOmxASimllFKKakDs6+vr6yttQNu2bdu2HWxAYid2Yid2bEDuI7iP4D5tQK+hvIbyempAGmG5pxF2bECamZmZmdlrQMkQrKPNW2xAMzMzMzNzbECKfNYNplhrQOGDDz74sGtAchzHcRyrakDuaYTlnhZtQGwor6G8ZmtAJFphcyCxa0Dbtm3btu1pQOd9ikuGIGtALL7iK74Ca0AElbNb+NVpQAAAAAAAIGpAe/Xq1au3aUD1pje96c1oQF3XdV3XdWlAAAAAAAC6akBnt/CrMdFpQAAAAACAVmpAEPzAD/yAakBHm/cpLllqQPv6+vr62mpAdM4555xTa0Bu5EZu5OZrQC3LsizLEmtAEWflJ8SZa0CEEEIIIdRrQOO3Sz0Zv2tAAAAAAABYbUCbbLLJJitsQHUW01lMB2xA+e1ST8ava0CxEzuxE3NsQLdt27Zte2tARXqgcnara0CEEEIIIQRsQAAAAAAA4GpAxSVDsI42a0CrqqqqqhJrQI0SP6PEz2pAIyz3NMKSaUAAAAAAgCBqQC4ZgnW0mWlAsRM7sRMjakAaJX5GiT9rQDDeyj6HFGtA",
          "dtype": "f8"
         },
         "yaxis": "y"
        },
        {
         "hovertemplate": "Port=Virginia, VA, Port of<br>=%{x}<br>Mean Vessel Length (m)=%{y}<extra></extra>",
         "legendgroup": "Virginia, VA, Port of",
         "line": {
          "color": "lightgray",
          "dash": "solid"
         },
         "marker": {
          "symbol": "circle"
         },
         "mode": "lines",
         "name": "Virginia, VA, Port of",
         "orientation": "v",
         "showlegend": true,
         "type": "scatter",
         "x": [
          "2018-01-01",
          "2018-02-01",
          "2018-03-01",
          "2018-04-01",
          "2018-05-01",
          "2018-06-01",
          "2018-07-01",
          "2018-08-01",
          "2018-09-01",
          "2018-10-01",
          "2018-11-01",
          "2018-12-01",
          "2019-01-01",
          "2019-02-01",
          "2019-03-01",
          "2019-04-01",
          "2019-05-01",
          "2019-06-01",
          "2019-07-01",
          "2019-08-01",
          "2019-09-01",
          "2019-10-01",
          "2019-11-01",
          "2019-12-01",
          "2020-01-01",
          "2020-02-01",
          "2020-03-01",
          "2020-04-01",
          "2020-05-01",
          "2020-06-01",
          "2020-07-01",
          "2020-08-01",
          "2020-09-01",
          "2020-10-01",
          "2020-11-01",
          "2020-12-01",
          "2021-01-01",
          "2021-02-01",
          "2021-03-01",
          "2021-04-01",
          "2021-05-01",
          "2021-06-01",
          "2021-07-01",
          "2021-08-01",
          "2021-09-01",
          "2021-10-01",
          "2021-11-01",
          "2021-12-01",
          "2022-01-01",
          "2022-02-01",
          "2022-03-01",
          "2022-04-01",
          "2022-05-01",
          "2022-06-01",
          "2022-07-01",
          "2022-08-01",
          "2022-09-01",
          "2022-10-01",
          "2022-11-01",
          "2022-12-01",
          "2023-01-01",
          "2023-02-01",
          "2023-03-01",
          "2023-04-01",
          "2023-05-01",
          "2023-06-01",
          "2023-07-01",
          "2023-08-01",
          "2023-09-01",
          "2023-10-01",
          "2023-11-01",
          "2023-12-01",
          "2024-01-01",
          "2024-02-01",
          "2024-03-01",
          "2024-04-01",
          "2024-05-01",
          "2024-06-01",
          "2024-07-01",
          "2024-08-01",
          "2024-09-01",
          "2024-10-01",
          "2024-11-01",
          "2024-12-01"
         ],
         "xaxis": "x",
         "y": {
          "bdata": "8RVf8RWfcUAAAAAAgOBxQKTN+xSXDHFAq6qqqqrucEDDr8ZEesBwQAAAAAAACHFAvLu7u7ufcEANwTravG9xQBPaS2gvIXFAEREREREJcUA655xzzvlwQAntJbSXcHBA2zesfcP6b0AQkyuIyXVwQJGaYLyVbXBAz/M8z/MkcUAtLS0tLS1xQKG9hPYS8nBAkiRJkiStcEBVVVVVVV9wQPQxOB+D03BAxMPDw8P7cEAWX/EVX6FwQOsGU+SzLnBAkiRJkiQpcUAAAAAAAIFxQIMp8lk3KHFAD+qgDurwcEC4HoXrUbhxQGIndmInNnNAAAAAAAA4cUBMaC+hvZRyQAAAAAAADHJA7FG4HoXbc0AAAAAAAChzQLETO7ETE3NASZIkSZIkckBGF1100V1zQOxRuB6F63JAHh4eHh42dEDf8i3f8l1zQJeWlpaWbnRAAAAAAAAdc0B5DeU1lAdzQCVJkiRJFnVA1EEd1EGtckC9hvIaysNyQDLGGGOMkXNAAAAAAAD0ckDi4eHh4YFyQAAAAACACHNAWO5phOVuc0AY9AV9Qd9yQM4555xzTnRAOY7jOI6Lc0AzMzMzM0VzQJ7neZ7nYXJAeQ3lNZSPc0B3d3d3d/dzQOgL+oK+YHRAH4PzMTjvc0D0BX1BX4BzQIYsZCELCXNAL7rooouudEA/NNaHxmpzQBdddNFFT3NAntiJndgxdEAlSZIkSapzQD7rBlPkk3NA6Hme53k+dECJ2pWoXYlzQEU+6wZThHNAuuiiiy6+c0DE5ApicoVzQIOCgoKConJAnYKXU/BCc0A3Nzc3N6dzQMZb2eeQ2nJAntiJndjxckAAAAAAAEBzQG9ln0Nq8nJA6Hme53muc0Cx3NMIy+VyQAZbsAVbsHJA",
          "dtype": "f8"
         },
         "yaxis": "y"
        },
        {
         "hovertemplate": "Port=PortMiami, FL<br>=%{x}<br>Mean Vessel Length (m)=%{y}<extra></extra>",
         "legendgroup": "PortMiami, FL",
         "line": {
          "color": "lightgray",
          "dash": "solid"
         },
         "marker": {
          "symbol": "circle"
         },
         "mode": "lines",
         "name": "PortMiami, FL",
         "orientation": "v",
         "showlegend": true,
         "type": "scatter",
         "x": [
          "2018-01-01",
          "2018-02-01",
          "2018-03-01",
          "2018-04-01",
          "2018-05-01",
          "2018-06-01",
          "2018-07-01",
          "2018-08-01",
          "2018-09-01",
          "2018-10-01",
          "2018-11-01",
          "2018-12-01",
          "2019-01-01",
          "2019-02-01",
          "2019-03-01",
          "2019-04-01",
          "2019-05-01",
          "2019-06-01",
          "2019-07-01",
          "2019-08-01",
          "2019-09-01",
          "2019-10-01",
          "2019-11-01",
          "2019-12-01",
          "2020-01-01",
          "2020-02-01",
          "2020-03-01",
          "2020-04-01",
          "2020-05-01",
          "2020-06-01",
          "2020-07-01",
          "2020-08-01",
          "2020-09-01",
          "2020-10-01",
          "2020-11-01",
          "2020-12-01",
          "2021-01-01",
          "2021-02-01",
          "2021-03-01",
          "2021-04-01",
          "2021-05-01",
          "2021-06-01",
          "2021-07-01",
          "2021-08-01",
          "2021-09-01",
          "2021-10-01",
          "2021-11-01",
          "2021-12-01",
          "2022-01-01",
          "2022-02-01",
          "2022-03-01",
          "2022-04-01",
          "2022-05-01",
          "2022-06-01",
          "2022-07-01",
          "2022-08-01",
          "2022-09-01",
          "2022-10-01",
          "2022-11-01",
          "2022-12-01",
          "2023-01-01",
          "2023-02-01",
          "2023-03-01",
          "2023-04-01",
          "2023-05-01",
          "2023-06-01",
          "2023-07-01",
          "2023-08-01",
          "2023-09-01",
          "2023-10-01",
          "2023-11-01",
          "2023-12-01",
          "2024-01-01",
          "2024-02-01",
          "2024-03-01",
          "2024-04-01",
          "2024-05-01",
          "2024-06-01",
          "2024-07-01",
          "2024-08-01",
          "2024-09-01",
          "2024-10-01",
          "2024-11-01",
          "2024-12-01"
         ],
         "xaxis": "x",
         "y": {
          "bdata": "qAR5SpCHakBc2eeQmqBoQAAAAAAAbWpAi+ksprN4akBdOzDXDqxqQAAAAAAAwmtA27Zt27Zta0BVVVVVVWlrQC7Ygi3YgmlAY4wxxhhza0AOa9+w9k1pQFVVVVVVkWlAjDHGGGNca0BkK4KGk/ppQERqgvFW9mhAjuM4juOIa0AAAAAAAOVpQNFFF1100WhAE4y3ss9BakDVfXlsRTBqQJNNNtlkM2pAeQ3lNZT3aUCZzmI6i0lqQGgvob2ERmpA5DiO4ziOaUDMYyuChvNoQFNKKaWUcmlAg5hcQUxOa0CSJEmSJNlrQFPWlDVlbWxAypqypqwpa0CChpO6L49sQIL7CO4jGGtA33vvvfdea0CxEzuxE0NqQNFeQnsJ3WpAzczMzMxUaUCamZmZmTVrQN7d3d3dVWlA+OCDDz6IaUC21lprrTVrQFwyBOtoU2pAiYiIiIhoaUCKfNYNpohpQBd+NSbSo2hAFEVRFEXxaEDtG9a+YY1pQM9iOovpjGlAh/IaymvIaEBaWlpaWrpnQFyPwvUoPGlAyz6H1ARjaEBDFrKQhfxoQOzr6+vrq2lAL6fg5RS8aUAAAAAAAABqQKuqqqqqaGlAVVVVVVWHa0DpoosuuqBpQKG9hPYSWmpAt23btm0XakCejfrORl1nQBzHcRzHMWpAx/rQWB8aakBqhOWeRuhpQJ9GWO5pxGpAo4suuuiiakDjkiFYR5tqQEN5DeU1dGtAAAAAAACAa0CJiIiIiMBpQAAAAAAAmGpAeHh4eHhgakBaWlpaWpJqQMZvl3oyfmlAeHh4eHhoakDBD/zAD9xoQLlkCNbRZmpAbtu2bdvyaUAiIiIiIsJpQAiCIAiCwGlAERERERGRa0CkQRqkQVppQM3MzMzMFGlA",
          "dtype": "f8"
         },
         "yaxis": "y"
        },
        {
         "hovertemplate": "Port=Baltimore, MD<br>=%{x}<br>Mean Vessel Length (m)=%{y}<extra></extra>",
         "legendgroup": "Baltimore, MD",
         "line": {
          "color": "lightgray",
          "dash": "solid"
         },
         "marker": {
          "symbol": "circle"
         },
         "mode": "lines",
         "name": "Baltimore, MD",
         "orientation": "v",
         "showlegend": true,
         "type": "scatter",
         "x": [
          "2018-01-01",
          "2018-02-01",
          "2018-03-01",
          "2018-04-01",
          "2018-05-01",
          "2018-06-01",
          "2018-07-01",
          "2018-08-01",
          "2018-09-01",
          "2018-10-01",
          "2018-11-01",
          "2018-12-01",
          "2019-01-01",
          "2019-02-01",
          "2019-03-01",
          "2019-04-01",
          "2019-05-01",
          "2019-06-01",
          "2019-07-01",
          "2019-08-01",
          "2019-09-01",
          "2019-10-01",
          "2019-11-01",
          "2019-12-01",
          "2020-01-01",
          "2020-02-01",
          "2020-03-01",
          "2020-04-01",
          "2020-05-01",
          "2020-06-01",
          "2020-07-01",
          "2020-08-01",
          "2020-09-01",
          "2020-10-01",
          "2020-11-01",
          "2020-12-01",
          "2021-01-01",
          "2021-02-01",
          "2021-03-01",
          "2021-04-01",
          "2021-05-01",
          "2021-06-01",
          "2021-07-01",
          "2021-08-01",
          "2021-09-01",
          "2021-10-01",
          "2021-11-01",
          "2021-12-01",
          "2022-01-01",
          "2022-02-01",
          "2022-03-01",
          "2022-04-01",
          "2022-05-01",
          "2022-06-01",
          "2022-07-01",
          "2022-08-01",
          "2022-09-01",
          "2022-10-01",
          "2022-11-01",
          "2022-12-01",
          "2023-01-01",
          "2023-02-01",
          "2023-03-01",
          "2023-04-01",
          "2023-05-01",
          "2023-06-01",
          "2023-07-01",
          "2023-08-01",
          "2023-09-01",
          "2023-10-01",
          "2023-11-01",
          "2023-12-01",
          "2024-01-01",
          "2024-02-01",
          "2024-03-01",
          "2024-04-01",
          "2024-05-01",
          "2024-06-01",
          "2024-07-01",
          "2024-08-01",
          "2024-09-01",
          "2024-10-01",
          "2024-11-01",
          "2024-12-01"
         ],
         "xaxis": "x",
         "y": {
          "bdata": "SD/60Y9ea0BVVVVVVURrQOh5nud53mpA36lrObjZakC8frZYGT5rQFydkYq5tWpAetOb3vT2akCjiy666IJqQOQ4juM4jmpAUt/ZqO/sakBI4XoUrjdqQE7Byyl4uWpA9qGxPjQWa0ByWTFQwvtqQGNl+EYU2GpAq6qqqqoea0BMriAmVzBrQMEFLnCBK2tAeDbqOxt1akCeRKZhu/lpQOsHHRX4ImtAcLYO/WYLa0ArWclKVhJrQCIcwiEcAmtAHnFH3BG3akAJCQkJCclqQEmSJEmSbGtALS0tLS31akAAAAAAAMxpQEIIIYQQgmtA8MEHH3zQakAGotKRPaNqQGRwPgbnA2tAaer82kPuakDtStSuRC1rQNR3Nuo7m2pAj7gj7ohLakDxqzGRHkhrQNOb3vSmT2pA3c/93M9dakCUJbBpPzlrQO0nS2DTHmtA6aKLLrrkakDcGRLzduZqQNxwww03/GpAdNFFF13gakCGg+jxXZhqQKp5kLt+FmtAXUFMriDmaUA1bDfLkwhrQILxVvY5pGtA16NwPQr3aUCEQziEQ1hrQEmSJEmSnmpA/WyxMnxDakB9fX19fb1qQDi96U1vempAcESBSadGakBkamDvmBpqQM4555xzDmpAchzHcRxnakA5BS+n4MVpQC+66KKL9mpAs1+IFaURakA/6KjAF1dqQLgehetRIGpAcT0K16PwakBmZmZmZo5qQCmXcimXUmtAn0AqOS8La0BYYIEFFnhqQFPWlDVl/WpAAqnkvCxiakDkkUceeYRqQAAAAAAA8GlAAAAAAABwY0AJ7SW0l0BqQEYXXXTRCWpAmpmZmZm5aUBoL6G9hOZpQJva1KY21WpAkWnYbpZHakAtprOYzjJqQHh4eHh42GlA",
          "dtype": "f8"
         },
         "yaxis": "y"
        },
        {
         "hovertemplate": "Port=Mobile, AL<br>=%{x}<br>Mean Vessel Length (m)=%{y}<extra></extra>",
         "legendgroup": "Mobile, AL",
         "line": {
          "color": "lightgray",
          "dash": "solid"
         },
         "marker": {
          "symbol": "circle"
         },
         "mode": "lines",
         "name": "Mobile, AL",
         "orientation": "v",
         "showlegend": true,
         "type": "scatter",
         "x": [
          "2018-01-01",
          "2018-02-01",
          "2018-03-01",
          "2018-04-01",
          "2018-05-01",
          "2018-06-01",
          "2018-07-01",
          "2018-08-01",
          "2018-09-01",
          "2018-10-01",
          "2018-11-01",
          "2018-12-01",
          "2019-01-01",
          "2019-02-01",
          "2019-03-01",
          "2019-04-01",
          "2019-05-01",
          "2019-06-01",
          "2019-07-01",
          "2019-08-01",
          "2019-09-01",
          "2019-10-01",
          "2019-11-01",
          "2019-12-01",
          "2020-01-01",
          "2020-02-01",
          "2020-03-01",
          "2020-04-01",
          "2020-05-01",
          "2020-06-01",
          "2020-07-01",
          "2020-08-01",
          "2020-09-01",
          "2020-10-01",
          "2020-11-01",
          "2020-12-01",
          "2021-01-01",
          "2021-02-01",
          "2021-03-01",
          "2021-04-01",
          "2021-05-01",
          "2021-06-01",
          "2021-07-01",
          "2021-08-01",
          "2021-09-01",
          "2021-10-01",
          "2021-11-01",
          "2021-12-01",
          "2022-01-01",
          "2022-02-01",
          "2022-03-01",
          "2022-04-01",
          "2022-05-01",
          "2022-06-01",
          "2022-07-01",
          "2022-08-01",
          "2022-09-01",
          "2022-10-01",
          "2022-11-01",
          "2022-12-01",
          "2023-01-01",
          "2023-02-01",
          "2023-03-01",
          "2023-04-01",
          "2023-05-01",
          "2023-06-01",
          "2023-07-01",
          "2023-08-01",
          "2023-09-01",
          "2023-10-01",
          "2023-11-01",
          "2023-12-01",
          "2024-01-01",
          "2024-02-01",
          "2024-03-01",
          "2024-04-01",
          "2024-05-01",
          "2024-06-01",
          "2024-07-01",
          "2024-08-01",
          "2024-09-01",
          "2024-10-01",
          "2024-11-01",
          "2024-12-01"
         ],
         "xaxis": "x",
         "y": {
          "bdata": "Kh3ZMxDVaUCwPeSyYqBqQIhFysDTTWpAMzMzMzMZakCFhISEhORpQL69vb29HWtA6Av6gr5QakBg75ga2DtrQPoYnI/BuWlAIxShCEVIakBSBp5uzY9pQE2aNGnSZGpAxhhjjDGmakAN5TWU10BqQF100UUXGWtAOSs/Ic7KakAGSnijqTNrQF100UUXBWpAypqypqypaUCjiy666BJqQL/2kMuKIWtAAAAAAABga0DNzMzMzIxrQEN5DeU17GtAMzMzMzM9a0Cogzqog2pqQHIcx3Ec42pAfjUm0gO1aUAP6qAO6gBsQAAAAACAp2tAHh4eHh4ubEBUzm7hV6NtQOFXYyI9MGxAafM+xSUDbUDx8PDw8LBsQGZmZmZmsGtA6qAO6qCea0Acx3Ecx1FqQIwuuuii22pA3ZofFikDakAAAAAAAFZpQB+F61G4DmpABlqgBVrgaUCcj8H5GBxqQAu0QAu04GlAoQhFKELRaUCe8YxnPANrQFpaWlpaWmpA05ve9KanakBTm9rUplZqQGIndmIn9mlA3t3d3d1takCTTTbZZDNqQFA//fTTT2lAAAAAAADXaUDyjGc845lqQHnkkUcemWpA188WK8OXaUBmZmZmZoZqQIdwCIdwSGpAVVVVVVUCa0ByBTG5gkhrQL/0S7/0K2tArkO/2Tq0akAQjfWhsS5qQBkZGRkZaWpAm/aTJbCJa0C4HoXrUWhrQDuxEzuxo2tA+85GfWeja0BjyS+W/EJsQC1kIQtZiGtA9aY3vemFa0Con3766SdsQMdxHMdxvGpAEUIIIYTQakC6g/1WG4NrQKG9hPYSsmpAYhiGYRjeakA7Q2LezlBqQA7hEA7hMGtAVVVVVVU1a0DqOxv1nX1rQAMDAwMDw2pA",
          "dtype": "f8"
         },
         "yaxis": "y"
        },
        {
         "hovertemplate": "Port=Port of Oakland, CA<br>=%{x}<br>Mean Vessel Length (m)=%{y}<extra></extra>",
         "legendgroup": "Port of Oakland, CA",
         "line": {
          "color": "lightgray",
          "dash": "solid"
         },
         "marker": {
          "symbol": "circle"
         },
         "mode": "lines",
         "name": "Port of Oakland, CA",
         "orientation": "v",
         "showlegend": true,
         "type": "scatter",
         "x": [
          "2018-01-01",
          "2018-02-01",
          "2018-03-01",
          "2018-04-01",
          "2018-05-01",
          "2018-06-01",
          "2018-07-01",
          "2018-08-01",
          "2018-09-01",
          "2018-10-01",
          "2018-11-01",
          "2018-12-01",
          "2019-01-01",
          "2019-02-01",
          "2019-03-01",
          "2019-04-01",
          "2019-05-01",
          "2019-06-01",
          "2019-07-01",
          "2019-08-01",
          "2019-09-01",
          "2019-10-01",
          "2019-11-01",
          "2019-12-01",
          "2020-01-01",
          "2020-02-01",
          "2020-03-01",
          "2020-04-01",
          "2020-05-01",
          "2020-06-01",
          "2020-07-01",
          "2020-08-01",
          "2020-09-01",
          "2020-10-01",
          "2020-11-01",
          "2020-12-01",
          "2021-01-01",
          "2021-02-01",
          "2021-03-01",
          "2021-04-01",
          "2021-05-01",
          "2021-06-01",
          "2021-07-01",
          "2021-08-01",
          "2021-09-01",
          "2021-10-01",
          "2021-11-01",
          "2021-12-01",
          "2022-01-01",
          "2022-02-01",
          "2022-03-01",
          "2022-04-01",
          "2022-05-01",
          "2022-06-01",
          "2022-07-01",
          "2022-08-01",
          "2022-09-01",
          "2022-10-01",
          "2022-11-01",
          "2022-12-01",
          "2023-01-01",
          "2023-02-01",
          "2023-03-01",
          "2023-04-01",
          "2023-05-01",
          "2023-06-01",
          "2023-07-01",
          "2023-08-01",
          "2023-09-01",
          "2023-10-01",
          "2023-11-01",
          "2023-12-01",
          "2024-01-01",
          "2024-02-01",
          "2024-03-01",
          "2024-04-01",
          "2024-05-01",
          "2024-06-01",
          "2024-07-01",
          "2024-08-01",
          "2024-09-01",
          "2024-10-01",
          "2024-11-01",
          "2024-12-01"
         ],
         "xaxis": "x",
         "y": {
          "bdata": "RERERET8cUBERERERKRxQJ91gynyKXJAPc/zPM8bckDIpHiBTCpyQOh5nud5FnJAlqhdidoFckDFQAlvNPVxQNIgDdIgVXJAQ3kN5TXwcUC4Sz0Zvz1yQCebbLLJznJAtMLmQKKFckDW0eZ9igtyQFRcMgTriHJAAAAAAABfckDe3d3d3VlyQBERERER4XJAx3Ecx3FMckCamZmZmYFyQJqZmZmZcXJAfjUm0gOFckCfRljuaWRyQD3P8zzPg3JAAAAAAIBnckB605ve9FZyQC+hvYT2gnJAntiJndh1ckC4ss8hNRFyQCp4OQUvd3JAAAAAAAA8ckBK3ZfHVpRyQL2G8hrKm3JASimllFJqckB5K/scUtNxQGzBFmzBVnJADqbIZ90wc0DT0tLS0ipyQLUrUbsSVXJAUrgehetxckA4velNb3JyQG7btm3bNnJASZIkSZLUckAzMzMzM+VxQJqZmZmZyXJAmpmZmZkxcUDLt3zLt4xxQHwaYbmnoXFAlNdQXkOJcEBbsAVbsHVxQNdaa621nnFAVVVVVVXlcEBkIQtZyNpwQPy+7/u+j3FAtStRuxK1cEA+BudjcM5xQAAAAAAASHJAZU1ZU9Y0ckA4H4PzMThyQGZmZmZm4nFAAAAAAACQcUDNzMzMzCpyQIYsZCELkXJAL6fg5RQsckDZiZ3YiZlxQDDeyj6H1HJArdRKrdQ6ckCjiy666DJyQFpMZzGddXJAZQjW0eYtckAAAAAAAPBxQFjuaYTlfnJACNbR5n36cUAs9zTCco9yQHTOOeecO3JAmc5iOotJckDbtm3btjlyQEqQpwR5anJA9vX19fUlckCF9hLaS8hxQPyMEj+jJHJAfMVXfMVfckC8u7u7u5NyQAAAAADAj3JA",
          "dtype": "f8"
         },
         "yaxis": "y"
        },
        {
         "hovertemplate": "Port=San Juan, PR<br>=%{x}<br>Mean Vessel Length (m)=%{y}<extra></extra>",
         "legendgroup": "San Juan, PR",
         "line": {
          "color": "lightgray",
          "dash": "solid"
         },
         "marker": {
          "symbol": "circle"
         },
         "mode": "lines",
         "name": "San Juan, PR",
         "orientation": "v",
         "showlegend": true,
         "type": "scatter",
         "x": [
          "2018-01-01",
          "2018-02-01",
          "2018-03-01",
          "2018-04-01",
          "2018-05-01",
          "2018-06-01",
          "2018-07-01",
          "2018-08-01",
          "2018-09-01",
          "2018-10-01",
          "2018-11-01",
          "2018-12-01",
          "2019-01-01",
          "2019-02-01",
          "2019-03-01",
          "2019-04-01",
          "2019-05-01",
          "2019-06-01",
          "2019-07-01",
          "2019-08-01",
          "2019-09-01",
          "2019-10-01",
          "2019-11-01",
          "2019-12-01",
          "2020-01-01",
          "2020-02-01",
          "2020-03-01",
          "2020-04-01",
          "2020-05-01",
          "2020-06-01",
          "2020-07-01",
          "2020-08-01",
          "2020-09-01",
          "2020-10-01",
          "2020-11-01",
          "2020-12-01",
          "2021-01-01",
          "2021-02-01",
          "2021-03-01",
          "2021-04-01",
          "2021-05-01",
          "2021-06-01",
          "2021-07-01",
          "2021-08-01",
          "2021-09-01",
          "2021-10-01",
          "2021-11-01",
          "2021-12-01",
          "2022-01-01",
          "2022-02-01",
          "2022-03-01",
          "2022-04-01",
          "2022-05-01",
          "2022-06-01",
          "2022-07-01",
          "2022-08-01",
          "2022-09-01",
          "2022-10-01",
          "2022-11-01",
          "2022-12-01",
          "2023-01-01",
          "2023-02-01",
          "2023-03-01",
          "2023-04-01",
          "2023-05-01",
          "2023-06-01",
          "2023-07-01",
          "2023-08-01",
          "2023-09-01",
          "2023-10-01",
          "2023-11-01",
          "2023-12-01",
          "2024-01-01",
          "2024-02-01",
          "2024-03-01",
          "2024-04-01",
          "2024-05-01",
          "2024-06-01",
          "2024-07-01",
          "2024-08-01",
          "2024-09-01",
          "2024-10-01",
          "2024-11-01",
          "2024-12-01"
         ],
         "xaxis": "x",
         "y": {
          "bdata": "TGcxncV0ZUCe2Imd2ElkQKOLLrro0mRAVVVVVVUVZEAAAAAAAHBkQJqZmZmZ2WNAE+Z3tbgJZEDHcRzHccBjQIwuuuiiy2NAVVVVVVU1ZEBw+ZZv+YZjQPjggw8+SGNAFOKs/IR4Y0CJiIiIiKhjQD3P8zzPk2NAXkN5DeV1Y0BMkc+6wfRjQAubA4lWmGNAx3Ecx3GYY0BtsskmmyxkQB1t3qe4RGVAexSuR+E6ZUBGF1100UVlQPy+7/u+j2VAQRAEQRCEZUBvZZ9DaiJlQKic3cKvpmVA5p5GWO4pZkAAAAAAAA5mQPahsT40FmZAewntJbTnZUBGF1100WVmQAAAAACAJGZAdM4555xTZkDbtm3btn1nQHsJ7SW0p2ZAo4suuujCZkBVVVVVVQNnQCS4j+A+YmZALt/yLd9yZUDCG02dX/tlQD4G52NwDmVAYid2Yif2ZUCvobyG8rplQH3WDabIN2VA9Z2N+s6GZUDNzMzMzLhlQHTnzp07V2VAx3Ecx3EAZUDQKPEzShxlQNzb29vbG2VAE7UrUbuyZUDBwMDAwMBlQG7btm3bNmVAadKkSZNmZUAsUbsStWtlQAdT5LNugGVA8fDw8PDwZEA5juM4jmNlQBvKayivQWVAqBGWexqhZED5CXFWfqJlQPSbrUO/eWVA5DiO4ziuZUAyxhhjjNFlQG644YYbjmVAvelNb3rjZUBqU5va1EZmQH1BX9AXJGZAkYUsZCGzZUApA0+35gdmQNpApw10emZAdug3W4eeZUBhC7ZgC5ZlQOZ3tbgJE2ZAWlpaWlqaZUDn1x5yWfFlQFVVVVVV7WVAaDzjGc94ZUARilCEIhRmQDEMwzAMO2VA52qu5mquZUCjqfNrD/llQEXQcFL3xWVA",
          "dtype": "f8"
         },
         "yaxis": "y"
        },
        {
         "hovertemplate": "Port=Port Everglades, FL<br>=%{x}<br>Mean Vessel Length (m)=%{y}<extra></extra>",
         "legendgroup": "Port Everglades, FL",
         "line": {
          "color": "lightgray",
          "dash": "solid"
         },
         "marker": {
          "symbol": "circle"
         },
         "mode": "lines",
         "name": "Port Everglades, FL",
         "orientation": "v",
         "showlegend": true,
         "type": "scatter",
         "x": [
          "2018-01-01",
          "2018-02-01",
          "2018-03-01",
          "2018-04-01",
          "2018-05-01",
          "2018-06-01",
          "2018-07-01",
          "2018-08-01",
          "2018-09-01",
          "2018-10-01",
          "2018-11-01",
          "2018-12-01",
          "2019-01-01",
          "2019-02-01",
          "2019-03-01",
          "2019-04-01",
          "2019-05-01",
          "2019-06-01",
          "2019-07-01",
          "2019-08-01",
          "2019-09-01",
          "2019-10-01",
          "2019-11-01",
          "2019-12-01",
          "2020-01-01",
          "2020-02-01",
          "2020-03-01",
          "2020-04-01",
          "2020-05-01",
          "2020-06-01",
          "2020-07-01",
          "2020-08-01",
          "2020-09-01",
          "2020-10-01",
          "2020-11-01",
          "2020-12-01",
          "2021-01-01",
          "2021-02-01",
          "2021-03-01",
          "2021-04-01",
          "2021-05-01",
          "2021-06-01",
          "2021-07-01",
          "2021-08-01",
          "2021-09-01",
          "2021-10-01",
          "2021-11-01",
          "2021-12-01",
          "2022-01-01",
          "2022-02-01",
          "2022-03-01",
          "2022-04-01",
          "2022-05-01",
          "2022-06-01",
          "2022-07-01",
          "2022-08-01",
          "2022-09-01",
          "2022-10-01",
          "2022-11-01",
          "2022-12-01",
          "2023-01-01",
          "2023-02-01",
          "2023-03-01",
          "2023-04-01",
          "2023-05-01",
          "2023-06-01",
          "2023-07-01",
          "2023-08-01",
          "2023-09-01",
          "2023-10-01",
          "2023-11-01",
          "2023-12-01",
          "2024-01-01",
          "2024-02-01",
          "2024-03-01",
          "2024-04-01",
          "2024-05-01",
          "2024-06-01",
          "2024-07-01",
          "2024-08-01",
          "2024-09-01",
          "2024-10-01",
          "2024-11-01",
          "2024-12-01"
         ],
         "xaxis": "x",
         "y": {
          "bdata": "aUvakrYkZkDIG/KGvKFlQJU8y4g+AGZAj8L1KFxPZkDJjdzIjSxmQB69Mrbf0WVARERERERkZUAXT27x5NZlQGcxncV01mVADDIuyLjgZUCOZVAqTBxmQHzvvffem2VAaMKfCX9GZUDmVmekYm5lQLW0tLS0VGVAFDuxEzsRZUALFSpUqIBlQG2yySabLGVAkhu5kRtJZkCl8mHcr0tmQFTjpZvEQGZAi6/4iq/wZUC5kRu5kTtmQAAAAACAuGVA3ciN3MgdZkBt5/up8fJlQGIndmIn9mVAg5dT8HKKZkBzc3Nzc5NlQPhGFJh0ymVASpCnBHk6ZkAr+xxSEyxmQJybm5ubC2ZA9vX19fUVZkADX1z9oONlQOxRuB6FS2VARkZGRkYmZkDV77klTt1lQK5H4XoU3mVAGo1Go9FoZkDCBx988PllQKalpaWlYWZAGPOpF/OpZkAAAAAAADRmQAAAAADAgGZAVVVVVVW5ZkBKhYn3I4dmQCmKoiiKkmZAMgTraPPeZkCU11BeQ5llQBqs0BmsUGZA30+Nl24yZkCRSCQSicRmQJu1WZu12WZAqF7Mp16sZkBo8mWDJp9mQClcj8L16GZAx3Ecx3G8ZkCx0lMLKx1mQIpLhmAdrWZAPRm/Xer5ZUBPp9PpdDpmQOvYWxum2WVAJ3ZiJ3aSZkAlzzKiD4hmQLh8y7d8S2ZAKkGeEuTpZkBr8ByBok1nQHIcx3Ec52ZAtlmbtVl7ZkCmpaWlpUVmQBAIBAKBoGZAHh4eHh7CZkARQgghhMhmQKkr6oq6gmVAjuM4juMYZkD4fd/3fV9lQI7jOI7j6GVA10Qg10RgZUCjONcxilNlQAnkmgjkemVAaAqBphAoZUCH+OPW5V1mQCRaYXMggWVA",
          "dtype": "f8"
         },
         "yaxis": "y"
        },
        {
         "hovertemplate": "Port=NW Seaport Alliance<br>=%{x}<br>Mean Vessel Length (m)=%{y}<extra></extra>",
         "legendgroup": "NW Seaport Alliance",
         "line": {
          "color": "blue",
          "dash": "solid"
         },
         "marker": {
          "symbol": "circle"
         },
         "mode": "lines",
         "name": "NW Seaport Alliance",
         "orientation": "v",
         "showlegend": true,
         "type": "scatter",
         "x": [
          "2018-01-01",
          "2018-02-01",
          "2018-03-01",
          "2018-04-01",
          "2018-05-01",
          "2018-06-01",
          "2018-07-01",
          "2018-08-01",
          "2018-09-01",
          "2018-10-01",
          "2018-11-01",
          "2018-12-01",
          "2019-01-01",
          "2019-02-01",
          "2019-03-01",
          "2019-04-01",
          "2019-05-01",
          "2019-06-01",
          "2019-07-01",
          "2019-08-01",
          "2019-09-01",
          "2019-10-01",
          "2019-11-01",
          "2019-12-01",
          "2020-01-01",
          "2020-02-01",
          "2020-03-01",
          "2020-04-01",
          "2020-05-01",
          "2020-06-01",
          "2020-07-01",
          "2020-08-01",
          "2020-09-01",
          "2020-10-01",
          "2020-11-01",
          "2020-12-01",
          "2021-01-01",
          "2021-02-01",
          "2021-03-01",
          "2021-04-01",
          "2021-05-01",
          "2021-06-01",
          "2021-07-01",
          "2021-08-01",
          "2021-09-01",
          "2021-10-01",
          "2021-11-01",
          "2021-12-01",
          "2022-01-01",
          "2022-02-01",
          "2022-03-01",
          "2022-04-01",
          "2022-05-01",
          "2022-06-01",
          "2022-07-01",
          "2022-08-01",
          "2022-09-01",
          "2022-10-01",
          "2022-11-01",
          "2022-12-01",
          "2023-01-01",
          "2023-02-01",
          "2023-03-01",
          "2023-04-01",
          "2023-05-01",
          "2023-06-01",
          "2023-07-01",
          "2023-08-01",
          "2023-09-01",
          "2023-10-01",
          "2023-11-01",
          "2023-12-01",
          "2024-01-01",
          "2024-02-01",
          "2024-03-01",
          "2024-04-01",
          "2024-05-01",
          "2024-06-01",
          "2024-07-01",
          "2024-08-01",
          "2024-09-01",
          "2024-10-01",
          "2024-11-01",
          "2024-12-01"
         ],
         "xaxis": "x",
         "y": {
          "bdata": "q6qqqioOcEAvuuiiizBwQBdswRZs8W9Ao4suuuhIcEAHdVAHdXBwQCd2Yid25m9ApB0rEEZqcEC8x3u8x1twQM7Wod9s/W9AKz8hzsoPcEBpkAZpkPZvQKB++umnH3BALPc0wnIvcEA7sRM7sXNvQDn1e26J829Av76+vr4ecEAQjfWhsWZwQIX2EtpLaHBAwRZswRbsb0AapEEapKFvQL2G8hrKI3BAAAAAAACyb0BicgUxucJvQPQxOB+DM29AiIeHh4dncEB2r3vd695vQKQf/ehHD3BAAAAAAAC0cEAzMzMzM3xwQAAAAAAAuHBA2djY2Ni4cEDP8zzP81hwQOmXfumXXnBA/fz8/PxccEC9hvIaygdwQBPeaOr8GnBAr6G8hvKib0AAAAAAANtuQHmBTIoXqG9AUhmVURlVcECHcAiHcChwQJ/0SZ/0+W5A1r5h7RvmbkBixIgRIyZvQBQ7sRM7QW1A5D3e4z1+bkDwuSVO/d5tQJTXUF5DOW9AjuM4juOYbUCO4ziO4+htQOYwhznMYW5A1K5E7UqUbkAnJycnJ0duQBzHcRzH0W5Ad8QdcUfMbkAlvNHU+dVvQJqZmZmZyW5AAAAAAABMb0Ce2Imd2MluQG80dX7toW5A/dpDLisGbkDvmBrYOwZuQM7H4HwMzm5AjC666KJDb0BT1pQ1ZY1uQAAAAAAAoG5A+qRP+qRPb0A0EJWO7LluQAAAAAAAv29Aq6qqqqqTb0AvuuiiixJvQFRUVFRU1G1ARhdddNGxbkB00UUXXThtQOdB7vrZYm5AoryG8hrKbkCx3SxPItNuQLjaGJrugG5APOKOuCMeb0BYCtT6leJuQCB0VOCLS25AlVJKKaVUbkCrqqqqqtpuQLRuMEU+W29A",
          "dtype": "f8"
         },
         "yaxis": "y"
        },
        {
         "hovertemplate": "Port=San Pedro Ports<br>=%{x}<br>Mean Vessel Length (m)=%{y}<extra></extra>",
         "legendgroup": "San Pedro Ports",
         "line": {
          "color": "lightgray",
          "dash": "solid"
         },
         "marker": {
          "symbol": "circle"
         },
         "mode": "lines",
         "name": "San Pedro Ports",
         "orientation": "v",
         "showlegend": true,
         "type": "scatter",
         "x": [
          "2018-01-01",
          "2018-02-01",
          "2018-03-01",
          "2018-04-01",
          "2018-05-01",
          "2018-06-01",
          "2018-07-01",
          "2018-08-01",
          "2018-09-01",
          "2018-10-01",
          "2018-11-01",
          "2018-12-01",
          "2019-01-01",
          "2019-02-01",
          "2019-03-01",
          "2019-04-01",
          "2019-05-01",
          "2019-06-01",
          "2019-07-01",
          "2019-08-01",
          "2019-09-01",
          "2019-10-01",
          "2019-11-01",
          "2019-12-01",
          "2020-01-01",
          "2020-02-01",
          "2020-03-01",
          "2020-04-01",
          "2020-05-01",
          "2020-06-01",
          "2020-07-01",
          "2020-08-01",
          "2020-09-01",
          "2020-10-01",
          "2020-11-01",
          "2020-12-01",
          "2021-01-01",
          "2021-02-01",
          "2021-03-01",
          "2021-04-01",
          "2021-05-01",
          "2021-06-01",
          "2021-07-01",
          "2021-08-01",
          "2021-09-01",
          "2021-10-01",
          "2021-11-01",
          "2021-12-01",
          "2022-01-01",
          "2022-02-01",
          "2022-03-01",
          "2022-04-01",
          "2022-05-01",
          "2022-06-01",
          "2022-07-01",
          "2022-08-01",
          "2022-09-01",
          "2022-10-01",
          "2022-11-01",
          "2022-12-01",
          "2023-01-01",
          "2023-02-01",
          "2023-03-01",
          "2023-04-01",
          "2023-05-01",
          "2023-06-01",
          "2023-07-01",
          "2023-08-01",
          "2023-09-01",
          "2023-10-01",
          "2023-11-01",
          "2023-12-01",
          "2024-01-01",
          "2024-02-01",
          "2024-03-01",
          "2024-04-01",
          "2024-05-01",
          "2024-06-01",
          "2024-07-01",
          "2024-08-01",
          "2024-09-01",
          "2024-10-01",
          "2024-11-01",
          "2024-12-01"
         ],
         "xaxis": "x",
         "y": {
          "bdata": "hVGdJgfZb0A9oRYwJiFwQGdIzNsZsm9AdEhNMN5ScEBxPQrXo5ZwQKkJxlvZE3BAp2J1Kla3cEAnGG9ln2NwQKuqqqqqlHBA8gRE56trcEB0S5z6PVdwQF1BTK4gXnBAdmIndmKFcECQSfECmQRwQJR8H6vZ029AVVVVVVWjb0DYUF5DeW1vQJlcQUyufHBAXvlEzOZScECh27VywvNwQPWmN73pQ3BAVrMn+T5mcEDqvjy2IlhwQK2AtQLWGnBAB/EdxHdwcEDZsmXLlu1vQGIYhmEYZm9AB2mQBmk8cEAAAAAAAOBvQIFuzNNHi3BAa9+w9g27cEC0aUCbBpRwQOmiiy66gXBASZQae5iFcEBERERERFRwQGNL8G3+WnBALS0tLS1PcEB3qSfjt/tuQAAAAAAAAHBAt23btm1PcED3VmmKX7JwQEmSJEmS2m9AMjTdwX6TcEAbXGxwsVFwQO0ltJfQnm9A9JutQ7/5b0BRXkN5DcVvQNfeWP2BfnBAkyFYR5t7cECzVeJithpwQBKWexphiXBABP6AP+Bfb0C/q8VNmJ9wQAAAAAAAUnBACUf193kbcEB9aeIwVktwQKc3velNW3BARfOEWsA4cEAhhBBCCJFvQFdzNVdzBXBAwhFEWi+AcEA+k+g9kxhwQBdddNFFJ29AhsS8nSEZcEA5GpejcVlwQIXrUbgeXXBAyEIWspBLcEBU4IurH1RwQEV2E9lN5HBAvzy2Img4cEDgyWp5Y4RwQKuqqqqqmnBAHh4eHh5ecEAMeL2N/pBwQESBSafm4W9AK2CtgLVScEB0/fEyGBVwQAticgUxbXBAklYmT0A0cEACm/aTJSBwQDmO4ziOI3BAr9DcTuVBcECsD431oaFwQLdt27ZtA3BA",
          "dtype": "f8"
         },
         "yaxis": "y"
        }
       ],
       "layout": {
        "legend": {
         "title": {
          "text": "Port"
         },
         "tracegroupgap": 0
        },
        "template": {
         "data": {
          "bar": [
           {
            "error_x": {
             "color": "#2a3f5f"
            },
            "error_y": {
             "color": "#2a3f5f"
            },
            "marker": {
             "line": {
              "color": "#E5ECF6",
              "width": 0.5
             },
             "pattern": {
              "fillmode": "overlay",
              "size": 10,
              "solidity": 0.2
             }
            },
            "type": "bar"
           }
          ],
          "barpolar": [
           {
            "marker": {
             "line": {
              "color": "#E5ECF6",
              "width": 0.5
             },
             "pattern": {
              "fillmode": "overlay",
              "size": 10,
              "solidity": 0.2
             }
            },
            "type": "barpolar"
           }
          ],
          "carpet": [
           {
            "aaxis": {
             "endlinecolor": "#2a3f5f",
             "gridcolor": "white",
             "linecolor": "white",
             "minorgridcolor": "white",
             "startlinecolor": "#2a3f5f"
            },
            "baxis": {
             "endlinecolor": "#2a3f5f",
             "gridcolor": "white",
             "linecolor": "white",
             "minorgridcolor": "white",
             "startlinecolor": "#2a3f5f"
            },
            "type": "carpet"
           }
          ],
          "choropleth": [
           {
            "colorbar": {
             "outlinewidth": 0,
             "ticks": ""
            },
            "type": "choropleth"
           }
          ],
          "contour": [
           {
            "colorbar": {
             "outlinewidth": 0,
             "ticks": ""
            },
            "colorscale": [
             [
              0,
              "#0d0887"
             ],
             [
              0.1111111111111111,
              "#46039f"
             ],
             [
              0.2222222222222222,
              "#7201a8"
             ],
             [
              0.3333333333333333,
              "#9c179e"
             ],
             [
              0.4444444444444444,
              "#bd3786"
             ],
             [
              0.5555555555555556,
              "#d8576b"
             ],
             [
              0.6666666666666666,
              "#ed7953"
             ],
             [
              0.7777777777777778,
              "#fb9f3a"
             ],
             [
              0.8888888888888888,
              "#fdca26"
             ],
             [
              1,
              "#f0f921"
             ]
            ],
            "type": "contour"
           }
          ],
          "contourcarpet": [
           {
            "colorbar": {
             "outlinewidth": 0,
             "ticks": ""
            },
            "type": "contourcarpet"
           }
          ],
          "heatmap": [
           {
            "colorbar": {
             "outlinewidth": 0,
             "ticks": ""
            },
            "colorscale": [
             [
              0,
              "#0d0887"
             ],
             [
              0.1111111111111111,
              "#46039f"
             ],
             [
              0.2222222222222222,
              "#7201a8"
             ],
             [
              0.3333333333333333,
              "#9c179e"
             ],
             [
              0.4444444444444444,
              "#bd3786"
             ],
             [
              0.5555555555555556,
              "#d8576b"
             ],
             [
              0.6666666666666666,
              "#ed7953"
             ],
             [
              0.7777777777777778,
              "#fb9f3a"
             ],
             [
              0.8888888888888888,
              "#fdca26"
             ],
             [
              1,
              "#f0f921"
             ]
            ],
            "type": "heatmap"
           }
          ],
          "histogram": [
           {
            "marker": {
             "pattern": {
              "fillmode": "overlay",
              "size": 10,
              "solidity": 0.2
             }
            },
            "type": "histogram"
           }
          ],
          "histogram2d": [
           {
            "colorbar": {
             "outlinewidth": 0,
             "ticks": ""
            },
            "colorscale": [
             [
              0,
              "#0d0887"
             ],
             [
              0.1111111111111111,
              "#46039f"
             ],
             [
              0.2222222222222222,
              "#7201a8"
             ],
             [
              0.3333333333333333,
              "#9c179e"
             ],
             [
              0.4444444444444444,
              "#bd3786"
             ],
             [
              0.5555555555555556,
              "#d8576b"
             ],
             [
              0.6666666666666666,
              "#ed7953"
             ],
             [
              0.7777777777777778,
              "#fb9f3a"
             ],
             [
              0.8888888888888888,
              "#fdca26"
             ],
             [
              1,
              "#f0f921"
             ]
            ],
            "type": "histogram2d"
           }
          ],
          "histogram2dcontour": [
           {
            "colorbar": {
             "outlinewidth": 0,
             "ticks": ""
            },
            "colorscale": [
             [
              0,
              "#0d0887"
             ],
             [
              0.1111111111111111,
              "#46039f"
             ],
             [
              0.2222222222222222,
              "#7201a8"
             ],
             [
              0.3333333333333333,
              "#9c179e"
             ],
             [
              0.4444444444444444,
              "#bd3786"
             ],
             [
              0.5555555555555556,
              "#d8576b"
             ],
             [
              0.6666666666666666,
              "#ed7953"
             ],
             [
              0.7777777777777778,
              "#fb9f3a"
             ],
             [
              0.8888888888888888,
              "#fdca26"
             ],
             [
              1,
              "#f0f921"
             ]
            ],
            "type": "histogram2dcontour"
           }
          ],
          "mesh3d": [
           {
            "colorbar": {
             "outlinewidth": 0,
             "ticks": ""
            },
            "type": "mesh3d"
           }
          ],
          "parcoords": [
           {
            "line": {
             "colorbar": {
              "outlinewidth": 0,
              "ticks": ""
             }
            },
            "type": "parcoords"
           }
          ],
          "pie": [
           {
            "automargin": true,
            "type": "pie"
           }
          ],
          "scatter": [
           {
            "fillpattern": {
             "fillmode": "overlay",
             "size": 10,
             "solidity": 0.2
            },
            "type": "scatter"
           }
          ],
          "scatter3d": [
           {
            "line": {
             "colorbar": {
              "outlinewidth": 0,
              "ticks": ""
             }
            },
            "marker": {
             "colorbar": {
              "outlinewidth": 0,
              "ticks": ""
             }
            },
            "type": "scatter3d"
           }
          ],
          "scattercarpet": [
           {
            "marker": {
             "colorbar": {
              "outlinewidth": 0,
              "ticks": ""
             }
            },
            "type": "scattercarpet"
           }
          ],
          "scattergeo": [
           {
            "marker": {
             "colorbar": {
              "outlinewidth": 0,
              "ticks": ""
             }
            },
            "type": "scattergeo"
           }
          ],
          "scattergl": [
           {
            "marker": {
             "colorbar": {
              "outlinewidth": 0,
              "ticks": ""
             }
            },
            "type": "scattergl"
           }
          ],
          "scattermap": [
           {
            "marker": {
             "colorbar": {
              "outlinewidth": 0,
              "ticks": ""
             }
            },
            "type": "scattermap"
           }
          ],
          "scattermapbox": [
           {
            "marker": {
             "colorbar": {
              "outlinewidth": 0,
              "ticks": ""
             }
            },
            "type": "scattermapbox"
           }
          ],
          "scatterpolar": [
           {
            "marker": {
             "colorbar": {
              "outlinewidth": 0,
              "ticks": ""
             }
            },
            "type": "scatterpolar"
           }
          ],
          "scatterpolargl": [
           {
            "marker": {
             "colorbar": {
              "outlinewidth": 0,
              "ticks": ""
             }
            },
            "type": "scatterpolargl"
           }
          ],
          "scatterternary": [
           {
            "marker": {
             "colorbar": {
              "outlinewidth": 0,
              "ticks": ""
             }
            },
            "type": "scatterternary"
           }
          ],
          "surface": [
           {
            "colorbar": {
             "outlinewidth": 0,
             "ticks": ""
            },
            "colorscale": [
             [
              0,
              "#0d0887"
             ],
             [
              0.1111111111111111,
              "#46039f"
             ],
             [
              0.2222222222222222,
              "#7201a8"
             ],
             [
              0.3333333333333333,
              "#9c179e"
             ],
             [
              0.4444444444444444,
              "#bd3786"
             ],
             [
              0.5555555555555556,
              "#d8576b"
             ],
             [
              0.6666666666666666,
              "#ed7953"
             ],
             [
              0.7777777777777778,
              "#fb9f3a"
             ],
             [
              0.8888888888888888,
              "#fdca26"
             ],
             [
              1,
              "#f0f921"
             ]
            ],
            "type": "surface"
           }
          ],
          "table": [
           {
            "cells": {
             "fill": {
              "color": "#EBF0F8"
             },
             "line": {
              "color": "white"
             }
            },
            "header": {
             "fill": {
              "color": "#C8D4E3"
             },
             "line": {
              "color": "white"
             }
            },
            "type": "table"
           }
          ]
         },
         "layout": {
          "annotationdefaults": {
           "arrowcolor": "#2a3f5f",
           "arrowhead": 0,
           "arrowwidth": 1
          },
          "autotypenumbers": "strict",
          "coloraxis": {
           "colorbar": {
            "outlinewidth": 0,
            "ticks": ""
           }
          },
          "colorscale": {
           "diverging": [
            [
             0,
             "#8e0152"
            ],
            [
             0.1,
             "#c51b7d"
            ],
            [
             0.2,
             "#de77ae"
            ],
            [
             0.3,
             "#f1b6da"
            ],
            [
             0.4,
             "#fde0ef"
            ],
            [
             0.5,
             "#f7f7f7"
            ],
            [
             0.6,
             "#e6f5d0"
            ],
            [
             0.7,
             "#b8e186"
            ],
            [
             0.8,
             "#7fbc41"
            ],
            [
             0.9,
             "#4d9221"
            ],
            [
             1,
             "#276419"
            ]
           ],
           "sequential": [
            [
             0,
             "#0d0887"
            ],
            [
             0.1111111111111111,
             "#46039f"
            ],
            [
             0.2222222222222222,
             "#7201a8"
            ],
            [
             0.3333333333333333,
             "#9c179e"
            ],
            [
             0.4444444444444444,
             "#bd3786"
            ],
            [
             0.5555555555555556,
             "#d8576b"
            ],
            [
             0.6666666666666666,
             "#ed7953"
            ],
            [
             0.7777777777777778,
             "#fb9f3a"
            ],
            [
             0.8888888888888888,
             "#fdca26"
            ],
            [
             1,
             "#f0f921"
            ]
           ],
           "sequentialminus": [
            [
             0,
             "#0d0887"
            ],
            [
             0.1111111111111111,
             "#46039f"
            ],
            [
             0.2222222222222222,
             "#7201a8"
            ],
            [
             0.3333333333333333,
             "#9c179e"
            ],
            [
             0.4444444444444444,
             "#bd3786"
            ],
            [
             0.5555555555555556,
             "#d8576b"
            ],
            [
             0.6666666666666666,
             "#ed7953"
            ],
            [
             0.7777777777777778,
             "#fb9f3a"
            ],
            [
             0.8888888888888888,
             "#fdca26"
            ],
            [
             1,
             "#f0f921"
            ]
           ]
          },
          "colorway": [
           "#636efa",
           "#EF553B",
           "#00cc96",
           "#ab63fa",
           "#FFA15A",
           "#19d3f3",
           "#FF6692",
           "#B6E880",
           "#FF97FF",
           "#FECB52"
          ],
          "font": {
           "color": "#2a3f5f"
          },
          "geo": {
           "bgcolor": "white",
           "lakecolor": "white",
           "landcolor": "#E5ECF6",
           "showlakes": true,
           "showland": true,
           "subunitcolor": "white"
          },
          "hoverlabel": {
           "align": "left"
          },
          "hovermode": "closest",
          "mapbox": {
           "style": "light"
          },
          "paper_bgcolor": "white",
          "plot_bgcolor": "#E5ECF6",
          "polar": {
           "angularaxis": {
            "gridcolor": "white",
            "linecolor": "white",
            "ticks": ""
           },
           "bgcolor": "#E5ECF6",
           "radialaxis": {
            "gridcolor": "white",
            "linecolor": "white",
            "ticks": ""
           }
          },
          "scene": {
           "xaxis": {
            "backgroundcolor": "#E5ECF6",
            "gridcolor": "white",
            "gridwidth": 2,
            "linecolor": "white",
            "showbackground": true,
            "ticks": "",
            "zerolinecolor": "white"
           },
           "yaxis": {
            "backgroundcolor": "#E5ECF6",
            "gridcolor": "white",
            "gridwidth": 2,
            "linecolor": "white",
            "showbackground": true,
            "ticks": "",
            "zerolinecolor": "white"
           },
           "zaxis": {
            "backgroundcolor": "#E5ECF6",
            "gridcolor": "white",
            "gridwidth": 2,
            "linecolor": "white",
            "showbackground": true,
            "ticks": "",
            "zerolinecolor": "white"
           }
          },
          "shapedefaults": {
           "line": {
            "color": "#2a3f5f"
           }
          },
          "ternary": {
           "aaxis": {
            "gridcolor": "white",
            "linecolor": "white",
            "ticks": ""
           },
           "baxis": {
            "gridcolor": "white",
            "linecolor": "white",
            "ticks": ""
           },
           "bgcolor": "#E5ECF6",
           "caxis": {
            "gridcolor": "white",
            "linecolor": "white",
            "ticks": ""
           }
          },
          "title": {
           "x": 0.05
          },
          "xaxis": {
           "automargin": true,
           "gridcolor": "white",
           "linecolor": "white",
           "ticks": "",
           "title": {
            "standoff": 15
           },
           "zerolinecolor": "white",
           "zerolinewidth": 2
          },
          "yaxis": {
           "automargin": true,
           "gridcolor": "white",
           "linecolor": "white",
           "ticks": "",
           "title": {
            "standoff": 15
           },
           "zerolinecolor": "white",
           "zerolinewidth": 2
          }
         }
        },
        "title": {
         "text": "Vessel Size at Top Ports"
        },
        "xaxis": {
         "anchor": "y",
         "domain": [
          0,
          1
         ],
         "title": {
          "text": ""
         }
        },
        "yaxis": {
         "anchor": "x",
         "domain": [
          0,
          1
         ],
         "title": {
          "text": "Mean Vessel Length (m)"
         }
        }
       }
      }
     },
     "metadata": {},
     "output_type": "display_data"
    }
   ],
   "source": [
    "plot_line(\n",
    "        df=calls_df, cat_group='port_group', time_col='month',\n",
    "        y_col='vessel_size', y_col_alias='Mean Vessel Length (m)',\n",
    "        title='Vessel Size at Top Ports', width=None, height=None,\n",
    "        labels={'port_group':'Port', 'month':''},\n",
    "        cat_limit=10, cat_limit_col='vessel_size',\n",
    "        highlight='NW Seaport Alliance', highlight_color='blue'\n",
    "    )"
   ]
  },
  {
   "cell_type": "code",
   "execution_count": 11,
   "id": "64598f72",
   "metadata": {},
   "outputs": [
    {
     "data": {
      "application/vnd.plotly.v1+json": {
       "config": {
        "plotlyServerURL": "https://plot.ly"
       },
       "data": [
        {
         "hovertemplate": "Port=NW Seaport Alliance<br>=%{x}<br>Mean Vessel Length (m)=%{y}<extra></extra>",
         "legendgroup": "NW Seaport Alliance",
         "line": {
          "color": "#636efa",
          "dash": "solid"
         },
         "marker": {
          "symbol": "circle"
         },
         "mode": "lines",
         "name": "NW Seaport Alliance",
         "orientation": "v",
         "showlegend": true,
         "type": "scatter",
         "x": [
          "2018-01-01",
          "2018-02-01",
          "2018-03-01",
          "2018-04-01",
          "2018-05-01",
          "2018-06-01",
          "2018-07-01",
          "2018-08-01",
          "2018-09-01",
          "2018-10-01",
          "2018-11-01",
          "2018-12-01",
          "2019-01-01",
          "2019-02-01",
          "2019-03-01",
          "2019-04-01",
          "2019-05-01",
          "2019-06-01",
          "2019-07-01",
          "2019-08-01",
          "2019-09-01",
          "2019-10-01",
          "2019-11-01",
          "2019-12-01",
          "2020-01-01",
          "2020-02-01",
          "2020-03-01",
          "2020-04-01",
          "2020-05-01",
          "2020-06-01",
          "2020-07-01",
          "2020-08-01",
          "2020-09-01",
          "2020-10-01",
          "2020-11-01",
          "2020-12-01",
          "2021-01-01",
          "2021-02-01",
          "2021-03-01",
          "2021-04-01",
          "2021-05-01",
          "2021-06-01",
          "2021-07-01",
          "2021-08-01",
          "2021-09-01",
          "2021-10-01",
          "2021-11-01",
          "2021-12-01",
          "2022-01-01",
          "2022-02-01",
          "2022-03-01",
          "2022-04-01",
          "2022-05-01",
          "2022-06-01",
          "2022-07-01",
          "2022-08-01",
          "2022-09-01",
          "2022-10-01",
          "2022-11-01",
          "2022-12-01",
          "2023-01-01",
          "2023-02-01",
          "2023-03-01",
          "2023-04-01",
          "2023-05-01",
          "2023-06-01",
          "2023-07-01",
          "2023-08-01",
          "2023-09-01",
          "2023-10-01",
          "2023-11-01",
          "2023-12-01",
          "2024-01-01",
          "2024-02-01",
          "2024-03-01",
          "2024-04-01",
          "2024-05-01",
          "2024-06-01",
          "2024-07-01",
          "2024-08-01",
          "2024-09-01",
          "2024-10-01",
          "2024-11-01",
          "2024-12-01"
         ],
         "xaxis": "x",
         "y": {
          "bdata": "q6qqqioOcEAvuuiiizBwQBdswRZs8W9Ao4suuuhIcEAHdVAHdXBwQCd2Yid25m9ApB0rEEZqcEC8x3u8x1twQM7Wod9s/W9AKz8hzsoPcEBpkAZpkPZvQKB++umnH3BALPc0wnIvcEA7sRM7sXNvQDn1e26J829Av76+vr4ecEAQjfWhsWZwQIX2EtpLaHBAwRZswRbsb0AapEEapKFvQL2G8hrKI3BAAAAAAACyb0BicgUxucJvQPQxOB+DM29AiIeHh4dncEB2r3vd695vQKQf/ehHD3BAAAAAAAC0cEAzMzMzM3xwQAAAAAAAuHBA2djY2Ni4cEDP8zzP81hwQOmXfumXXnBA/fz8/PxccEC9hvIaygdwQBPeaOr8GnBAr6G8hvKib0AAAAAAANtuQHmBTIoXqG9AUhmVURlVcECHcAiHcChwQJ/0SZ/0+W5A1r5h7RvmbkBixIgRIyZvQBQ7sRM7QW1A5D3e4z1+bkDwuSVO/d5tQJTXUF5DOW9AjuM4juOYbUCO4ziO4+htQOYwhznMYW5A1K5E7UqUbkAnJycnJ0duQBzHcRzH0W5Ad8QdcUfMbkAlvNHU+dVvQJqZmZmZyW5AAAAAAABMb0Ce2Imd2MluQG80dX7toW5A/dpDLisGbkDvmBrYOwZuQM7H4HwMzm5AjC666KJDb0BT1pQ1ZY1uQAAAAAAAoG5A+qRP+qRPb0A0EJWO7LluQAAAAAAAv29Aq6qqqqqTb0AvuuiiixJvQFRUVFRU1G1ARhdddNGxbkB00UUXXThtQOdB7vrZYm5AoryG8hrKbkCx3SxPItNuQLjaGJrugG5APOKOuCMeb0BYCtT6leJuQCB0VOCLS25AlVJKKaVUbkCrqqqqqtpuQLRuMEU+W29A",
          "dtype": "f8"
         },
         "yaxis": "y"
        },
        {
         "hovertemplate": "Port=Virginia, VA, Port of<br>=%{x}<br>Mean Vessel Length (m)=%{y}<extra></extra>",
         "legendgroup": "Virginia, VA, Port of",
         "line": {
          "color": "#EF553B",
          "dash": "solid"
         },
         "marker": {
          "symbol": "circle"
         },
         "mode": "lines",
         "name": "Virginia, VA, Port of",
         "orientation": "v",
         "showlegend": true,
         "type": "scatter",
         "x": [
          "2018-01-01",
          "2018-02-01",
          "2018-03-01",
          "2018-04-01",
          "2018-05-01",
          "2018-06-01",
          "2018-07-01",
          "2018-08-01",
          "2018-09-01",
          "2018-10-01",
          "2018-11-01",
          "2018-12-01",
          "2019-01-01",
          "2019-02-01",
          "2019-03-01",
          "2019-04-01",
          "2019-05-01",
          "2019-06-01",
          "2019-07-01",
          "2019-08-01",
          "2019-09-01",
          "2019-10-01",
          "2019-11-01",
          "2019-12-01",
          "2020-01-01",
          "2020-02-01",
          "2020-03-01",
          "2020-04-01",
          "2020-05-01",
          "2020-06-01",
          "2020-07-01",
          "2020-08-01",
          "2020-09-01",
          "2020-10-01",
          "2020-11-01",
          "2020-12-01",
          "2021-01-01",
          "2021-02-01",
          "2021-03-01",
          "2021-04-01",
          "2021-05-01",
          "2021-06-01",
          "2021-07-01",
          "2021-08-01",
          "2021-09-01",
          "2021-10-01",
          "2021-11-01",
          "2021-12-01",
          "2022-01-01",
          "2022-02-01",
          "2022-03-01",
          "2022-04-01",
          "2022-05-01",
          "2022-06-01",
          "2022-07-01",
          "2022-08-01",
          "2022-09-01",
          "2022-10-01",
          "2022-11-01",
          "2022-12-01",
          "2023-01-01",
          "2023-02-01",
          "2023-03-01",
          "2023-04-01",
          "2023-05-01",
          "2023-06-01",
          "2023-07-01",
          "2023-08-01",
          "2023-09-01",
          "2023-10-01",
          "2023-11-01",
          "2023-12-01",
          "2024-01-01",
          "2024-02-01",
          "2024-03-01",
          "2024-04-01",
          "2024-05-01",
          "2024-06-01",
          "2024-07-01",
          "2024-08-01",
          "2024-09-01",
          "2024-10-01",
          "2024-11-01",
          "2024-12-01"
         ],
         "xaxis": "x",
         "y": {
          "bdata": "8RVf8RWfcUAAAAAAgOBxQKTN+xSXDHFAq6qqqqrucEDDr8ZEesBwQAAAAAAACHFAvLu7u7ufcEANwTravG9xQBPaS2gvIXFAEREREREJcUA655xzzvlwQAntJbSXcHBA2zesfcP6b0AQkyuIyXVwQJGaYLyVbXBAz/M8z/MkcUAtLS0tLS1xQKG9hPYS8nBAkiRJkiStcEBVVVVVVV9wQPQxOB+D03BAxMPDw8P7cEAWX/EVX6FwQOsGU+SzLnBAkiRJkiQpcUAAAAAAAIFxQIMp8lk3KHFAD+qgDurwcEC4HoXrUbhxQGIndmInNnNAAAAAAAA4cUBMaC+hvZRyQAAAAAAADHJA7FG4HoXbc0AAAAAAAChzQLETO7ETE3NASZIkSZIkckBGF1100V1zQOxRuB6F63JAHh4eHh42dEDf8i3f8l1zQJeWlpaWbnRAAAAAAAAdc0B5DeU1lAdzQCVJkiRJFnVA1EEd1EGtckC9hvIaysNyQDLGGGOMkXNAAAAAAAD0ckDi4eHh4YFyQAAAAACACHNAWO5phOVuc0AY9AV9Qd9yQM4555xzTnRAOY7jOI6Lc0AzMzMzM0VzQJ7neZ7nYXJAeQ3lNZSPc0B3d3d3d/dzQOgL+oK+YHRAH4PzMTjvc0D0BX1BX4BzQIYsZCELCXNAL7rooouudEA/NNaHxmpzQBdddNFFT3NAntiJndgxdEAlSZIkSapzQD7rBlPkk3NA6Hme53k+dECJ2pWoXYlzQEU+6wZThHNAuuiiiy6+c0DE5ApicoVzQIOCgoKConJAnYKXU/BCc0A3Nzc3N6dzQMZb2eeQ2nJAntiJndjxckAAAAAAAEBzQG9ln0Nq8nJA6Hme53muc0Cx3NMIy+VyQAZbsAVbsHJA",
          "dtype": "f8"
         },
         "yaxis": "y"
        }
       ],
       "layout": {
        "legend": {
         "title": {
          "text": "Port"
         },
         "tracegroupgap": 0
        },
        "template": {
         "data": {
          "bar": [
           {
            "error_x": {
             "color": "#2a3f5f"
            },
            "error_y": {
             "color": "#2a3f5f"
            },
            "marker": {
             "line": {
              "color": "#E5ECF6",
              "width": 0.5
             },
             "pattern": {
              "fillmode": "overlay",
              "size": 10,
              "solidity": 0.2
             }
            },
            "type": "bar"
           }
          ],
          "barpolar": [
           {
            "marker": {
             "line": {
              "color": "#E5ECF6",
              "width": 0.5
             },
             "pattern": {
              "fillmode": "overlay",
              "size": 10,
              "solidity": 0.2
             }
            },
            "type": "barpolar"
           }
          ],
          "carpet": [
           {
            "aaxis": {
             "endlinecolor": "#2a3f5f",
             "gridcolor": "white",
             "linecolor": "white",
             "minorgridcolor": "white",
             "startlinecolor": "#2a3f5f"
            },
            "baxis": {
             "endlinecolor": "#2a3f5f",
             "gridcolor": "white",
             "linecolor": "white",
             "minorgridcolor": "white",
             "startlinecolor": "#2a3f5f"
            },
            "type": "carpet"
           }
          ],
          "choropleth": [
           {
            "colorbar": {
             "outlinewidth": 0,
             "ticks": ""
            },
            "type": "choropleth"
           }
          ],
          "contour": [
           {
            "colorbar": {
             "outlinewidth": 0,
             "ticks": ""
            },
            "colorscale": [
             [
              0,
              "#0d0887"
             ],
             [
              0.1111111111111111,
              "#46039f"
             ],
             [
              0.2222222222222222,
              "#7201a8"
             ],
             [
              0.3333333333333333,
              "#9c179e"
             ],
             [
              0.4444444444444444,
              "#bd3786"
             ],
             [
              0.5555555555555556,
              "#d8576b"
             ],
             [
              0.6666666666666666,
              "#ed7953"
             ],
             [
              0.7777777777777778,
              "#fb9f3a"
             ],
             [
              0.8888888888888888,
              "#fdca26"
             ],
             [
              1,
              "#f0f921"
             ]
            ],
            "type": "contour"
           }
          ],
          "contourcarpet": [
           {
            "colorbar": {
             "outlinewidth": 0,
             "ticks": ""
            },
            "type": "contourcarpet"
           }
          ],
          "heatmap": [
           {
            "colorbar": {
             "outlinewidth": 0,
             "ticks": ""
            },
            "colorscale": [
             [
              0,
              "#0d0887"
             ],
             [
              0.1111111111111111,
              "#46039f"
             ],
             [
              0.2222222222222222,
              "#7201a8"
             ],
             [
              0.3333333333333333,
              "#9c179e"
             ],
             [
              0.4444444444444444,
              "#bd3786"
             ],
             [
              0.5555555555555556,
              "#d8576b"
             ],
             [
              0.6666666666666666,
              "#ed7953"
             ],
             [
              0.7777777777777778,
              "#fb9f3a"
             ],
             [
              0.8888888888888888,
              "#fdca26"
             ],
             [
              1,
              "#f0f921"
             ]
            ],
            "type": "heatmap"
           }
          ],
          "histogram": [
           {
            "marker": {
             "pattern": {
              "fillmode": "overlay",
              "size": 10,
              "solidity": 0.2
             }
            },
            "type": "histogram"
           }
          ],
          "histogram2d": [
           {
            "colorbar": {
             "outlinewidth": 0,
             "ticks": ""
            },
            "colorscale": [
             [
              0,
              "#0d0887"
             ],
             [
              0.1111111111111111,
              "#46039f"
             ],
             [
              0.2222222222222222,
              "#7201a8"
             ],
             [
              0.3333333333333333,
              "#9c179e"
             ],
             [
              0.4444444444444444,
              "#bd3786"
             ],
             [
              0.5555555555555556,
              "#d8576b"
             ],
             [
              0.6666666666666666,
              "#ed7953"
             ],
             [
              0.7777777777777778,
              "#fb9f3a"
             ],
             [
              0.8888888888888888,
              "#fdca26"
             ],
             [
              1,
              "#f0f921"
             ]
            ],
            "type": "histogram2d"
           }
          ],
          "histogram2dcontour": [
           {
            "colorbar": {
             "outlinewidth": 0,
             "ticks": ""
            },
            "colorscale": [
             [
              0,
              "#0d0887"
             ],
             [
              0.1111111111111111,
              "#46039f"
             ],
             [
              0.2222222222222222,
              "#7201a8"
             ],
             [
              0.3333333333333333,
              "#9c179e"
             ],
             [
              0.4444444444444444,
              "#bd3786"
             ],
             [
              0.5555555555555556,
              "#d8576b"
             ],
             [
              0.6666666666666666,
              "#ed7953"
             ],
             [
              0.7777777777777778,
              "#fb9f3a"
             ],
             [
              0.8888888888888888,
              "#fdca26"
             ],
             [
              1,
              "#f0f921"
             ]
            ],
            "type": "histogram2dcontour"
           }
          ],
          "mesh3d": [
           {
            "colorbar": {
             "outlinewidth": 0,
             "ticks": ""
            },
            "type": "mesh3d"
           }
          ],
          "parcoords": [
           {
            "line": {
             "colorbar": {
              "outlinewidth": 0,
              "ticks": ""
             }
            },
            "type": "parcoords"
           }
          ],
          "pie": [
           {
            "automargin": true,
            "type": "pie"
           }
          ],
          "scatter": [
           {
            "fillpattern": {
             "fillmode": "overlay",
             "size": 10,
             "solidity": 0.2
            },
            "type": "scatter"
           }
          ],
          "scatter3d": [
           {
            "line": {
             "colorbar": {
              "outlinewidth": 0,
              "ticks": ""
             }
            },
            "marker": {
             "colorbar": {
              "outlinewidth": 0,
              "ticks": ""
             }
            },
            "type": "scatter3d"
           }
          ],
          "scattercarpet": [
           {
            "marker": {
             "colorbar": {
              "outlinewidth": 0,
              "ticks": ""
             }
            },
            "type": "scattercarpet"
           }
          ],
          "scattergeo": [
           {
            "marker": {
             "colorbar": {
              "outlinewidth": 0,
              "ticks": ""
             }
            },
            "type": "scattergeo"
           }
          ],
          "scattergl": [
           {
            "marker": {
             "colorbar": {
              "outlinewidth": 0,
              "ticks": ""
             }
            },
            "type": "scattergl"
           }
          ],
          "scattermap": [
           {
            "marker": {
             "colorbar": {
              "outlinewidth": 0,
              "ticks": ""
             }
            },
            "type": "scattermap"
           }
          ],
          "scattermapbox": [
           {
            "marker": {
             "colorbar": {
              "outlinewidth": 0,
              "ticks": ""
             }
            },
            "type": "scattermapbox"
           }
          ],
          "scatterpolar": [
           {
            "marker": {
             "colorbar": {
              "outlinewidth": 0,
              "ticks": ""
             }
            },
            "type": "scatterpolar"
           }
          ],
          "scatterpolargl": [
           {
            "marker": {
             "colorbar": {
              "outlinewidth": 0,
              "ticks": ""
             }
            },
            "type": "scatterpolargl"
           }
          ],
          "scatterternary": [
           {
            "marker": {
             "colorbar": {
              "outlinewidth": 0,
              "ticks": ""
             }
            },
            "type": "scatterternary"
           }
          ],
          "surface": [
           {
            "colorbar": {
             "outlinewidth": 0,
             "ticks": ""
            },
            "colorscale": [
             [
              0,
              "#0d0887"
             ],
             [
              0.1111111111111111,
              "#46039f"
             ],
             [
              0.2222222222222222,
              "#7201a8"
             ],
             [
              0.3333333333333333,
              "#9c179e"
             ],
             [
              0.4444444444444444,
              "#bd3786"
             ],
             [
              0.5555555555555556,
              "#d8576b"
             ],
             [
              0.6666666666666666,
              "#ed7953"
             ],
             [
              0.7777777777777778,
              "#fb9f3a"
             ],
             [
              0.8888888888888888,
              "#fdca26"
             ],
             [
              1,
              "#f0f921"
             ]
            ],
            "type": "surface"
           }
          ],
          "table": [
           {
            "cells": {
             "fill": {
              "color": "#EBF0F8"
             },
             "line": {
              "color": "white"
             }
            },
            "header": {
             "fill": {
              "color": "#C8D4E3"
             },
             "line": {
              "color": "white"
             }
            },
            "type": "table"
           }
          ]
         },
         "layout": {
          "annotationdefaults": {
           "arrowcolor": "#2a3f5f",
           "arrowhead": 0,
           "arrowwidth": 1
          },
          "autotypenumbers": "strict",
          "coloraxis": {
           "colorbar": {
            "outlinewidth": 0,
            "ticks": ""
           }
          },
          "colorscale": {
           "diverging": [
            [
             0,
             "#8e0152"
            ],
            [
             0.1,
             "#c51b7d"
            ],
            [
             0.2,
             "#de77ae"
            ],
            [
             0.3,
             "#f1b6da"
            ],
            [
             0.4,
             "#fde0ef"
            ],
            [
             0.5,
             "#f7f7f7"
            ],
            [
             0.6,
             "#e6f5d0"
            ],
            [
             0.7,
             "#b8e186"
            ],
            [
             0.8,
             "#7fbc41"
            ],
            [
             0.9,
             "#4d9221"
            ],
            [
             1,
             "#276419"
            ]
           ],
           "sequential": [
            [
             0,
             "#0d0887"
            ],
            [
             0.1111111111111111,
             "#46039f"
            ],
            [
             0.2222222222222222,
             "#7201a8"
            ],
            [
             0.3333333333333333,
             "#9c179e"
            ],
            [
             0.4444444444444444,
             "#bd3786"
            ],
            [
             0.5555555555555556,
             "#d8576b"
            ],
            [
             0.6666666666666666,
             "#ed7953"
            ],
            [
             0.7777777777777778,
             "#fb9f3a"
            ],
            [
             0.8888888888888888,
             "#fdca26"
            ],
            [
             1,
             "#f0f921"
            ]
           ],
           "sequentialminus": [
            [
             0,
             "#0d0887"
            ],
            [
             0.1111111111111111,
             "#46039f"
            ],
            [
             0.2222222222222222,
             "#7201a8"
            ],
            [
             0.3333333333333333,
             "#9c179e"
            ],
            [
             0.4444444444444444,
             "#bd3786"
            ],
            [
             0.5555555555555556,
             "#d8576b"
            ],
            [
             0.6666666666666666,
             "#ed7953"
            ],
            [
             0.7777777777777778,
             "#fb9f3a"
            ],
            [
             0.8888888888888888,
             "#fdca26"
            ],
            [
             1,
             "#f0f921"
            ]
           ]
          },
          "colorway": [
           "#636efa",
           "#EF553B",
           "#00cc96",
           "#ab63fa",
           "#FFA15A",
           "#19d3f3",
           "#FF6692",
           "#B6E880",
           "#FF97FF",
           "#FECB52"
          ],
          "font": {
           "color": "#2a3f5f"
          },
          "geo": {
           "bgcolor": "white",
           "lakecolor": "white",
           "landcolor": "#E5ECF6",
           "showlakes": true,
           "showland": true,
           "subunitcolor": "white"
          },
          "hoverlabel": {
           "align": "left"
          },
          "hovermode": "closest",
          "mapbox": {
           "style": "light"
          },
          "paper_bgcolor": "white",
          "plot_bgcolor": "#E5ECF6",
          "polar": {
           "angularaxis": {
            "gridcolor": "white",
            "linecolor": "white",
            "ticks": ""
           },
           "bgcolor": "#E5ECF6",
           "radialaxis": {
            "gridcolor": "white",
            "linecolor": "white",
            "ticks": ""
           }
          },
          "scene": {
           "xaxis": {
            "backgroundcolor": "#E5ECF6",
            "gridcolor": "white",
            "gridwidth": 2,
            "linecolor": "white",
            "showbackground": true,
            "ticks": "",
            "zerolinecolor": "white"
           },
           "yaxis": {
            "backgroundcolor": "#E5ECF6",
            "gridcolor": "white",
            "gridwidth": 2,
            "linecolor": "white",
            "showbackground": true,
            "ticks": "",
            "zerolinecolor": "white"
           },
           "zaxis": {
            "backgroundcolor": "#E5ECF6",
            "gridcolor": "white",
            "gridwidth": 2,
            "linecolor": "white",
            "showbackground": true,
            "ticks": "",
            "zerolinecolor": "white"
           }
          },
          "shapedefaults": {
           "line": {
            "color": "#2a3f5f"
           }
          },
          "ternary": {
           "aaxis": {
            "gridcolor": "white",
            "linecolor": "white",
            "ticks": ""
           },
           "baxis": {
            "gridcolor": "white",
            "linecolor": "white",
            "ticks": ""
           },
           "bgcolor": "#E5ECF6",
           "caxis": {
            "gridcolor": "white",
            "linecolor": "white",
            "ticks": ""
           }
          },
          "title": {
           "x": 0.05
          },
          "xaxis": {
           "automargin": true,
           "gridcolor": "white",
           "linecolor": "white",
           "ticks": "",
           "title": {
            "standoff": 15
           },
           "zerolinecolor": "white",
           "zerolinewidth": 2
          },
          "yaxis": {
           "automargin": true,
           "gridcolor": "white",
           "linecolor": "white",
           "ticks": "",
           "title": {
            "standoff": 15
           },
           "zerolinecolor": "white",
           "zerolinewidth": 2
          }
         }
        },
        "title": {
         "text": "Vessel Size - Diverging Trends"
        },
        "xaxis": {
         "anchor": "y",
         "domain": [
          0,
          1
         ],
         "title": {
          "text": ""
         }
        },
        "yaxis": {
         "anchor": "x",
         "domain": [
          0,
          1
         ],
         "title": {
          "text": "Mean Vessel Length (m)"
         }
        }
       }
      }
     },
     "metadata": {},
     "output_type": "display_data"
    }
   ],
   "source": [
    "plot_line(\n",
    "        df=calls_df.filter(pl.col('port_group').is_in(['NW Seaport Alliance', 'Virginia, VA, Port of'])),\n",
    "        cat_group='port_group', time_col='month',\n",
    "        y_col='vessel_size', y_col_alias='Mean Vessel Length (m)',\n",
    "        title='Vessel Size - Diverging Trends', width=None, height=None,\n",
    "        labels={'port_group':'Port', 'month':''},\n",
    "        cat_limit=10, cat_limit_col='vessel_size',\n",
    "    )"
   ]
  },
  {
   "cell_type": "markdown",
   "id": "26068953",
   "metadata": {},
   "source": [
    "Note filtering on vessel size - consider swap to total volume"
   ]
  },
  {
   "cell_type": "code",
   "execution_count": 12,
   "id": "714a01f0",
   "metadata": {},
   "outputs": [
    {
     "data": {
      "application/vnd.plotly.v1+json": {
       "config": {
        "plotlyServerURL": "https://plot.ly"
       },
       "data": [
        {
         "hovertemplate": "Port=Texas City, TX<br>=%{x}<br>Number of Calls per Month=%{y}<extra></extra>",
         "legendgroup": "Texas City, TX",
         "line": {
          "color": "lightgray",
          "dash": "solid"
         },
         "marker": {
          "symbol": "circle"
         },
         "mode": "lines",
         "name": "Texas City, TX",
         "orientation": "v",
         "showlegend": true,
         "type": "scatter",
         "x": [
          "2018-01-01",
          "2018-02-01",
          "2018-03-01",
          "2018-04-01",
          "2018-05-01",
          "2018-06-01",
          "2018-07-01",
          "2018-08-01",
          "2018-09-01",
          "2018-10-01",
          "2018-11-01",
          "2018-12-01",
          "2019-01-01",
          "2019-02-01",
          "2019-03-01",
          "2019-04-01",
          "2019-05-01",
          "2019-06-01",
          "2019-07-01",
          "2019-08-01",
          "2019-09-01",
          "2019-10-01",
          "2019-11-01",
          "2019-12-01",
          "2020-01-01",
          "2020-02-01",
          "2020-03-01",
          "2020-04-01",
          "2020-05-01",
          "2020-06-01",
          "2020-07-01",
          "2020-08-01",
          "2020-09-01",
          "2020-10-01",
          "2020-11-01",
          "2020-12-01",
          "2021-01-01",
          "2021-02-01",
          "2021-03-01",
          "2021-04-01",
          "2021-05-01",
          "2021-06-01",
          "2021-07-01",
          "2021-08-01",
          "2021-09-01",
          "2021-10-01",
          "2021-11-01",
          "2021-12-01",
          "2022-01-01",
          "2022-02-01",
          "2022-03-01",
          "2022-04-01",
          "2022-05-01",
          "2022-06-01",
          "2022-07-01",
          "2022-08-01",
          "2022-09-01",
          "2022-10-01",
          "2022-11-01",
          "2022-12-01",
          "2023-01-01",
          "2023-02-01",
          "2023-03-01",
          "2023-04-01",
          "2023-05-01",
          "2023-06-01",
          "2023-07-01",
          "2023-08-01",
          "2023-09-01",
          "2023-10-01",
          "2023-11-01",
          "2023-12-01",
          "2024-01-01",
          "2024-02-01",
          "2024-03-01",
          "2024-04-01",
          "2024-05-01",
          "2024-06-01",
          "2024-07-01",
          "2024-08-01",
          "2024-09-01",
          "2024-10-01",
          "2024-11-01",
          "2024-12-01"
         ],
         "xaxis": "x",
         "y": {
          "bdata": "NgAAADYAAABJAAAARgAAADoAAAA1AAAAOgAAAEkAAAA9AAAAPAAAADkAAAA3AAAAOgAAADQAAAA8AAAAQQAAAD8AAAA9AAAAMQAAAC8AAAA7AAAALgAAADUAAAA3AAAAMwAAAEgAAAAzAAAALgAAACgAAAAkAAAAMAAAAC4AAAAuAAAALwAAADMAAAAsAAAAMwAAACAAAAAlAAAAKQAAADYAAAA/AAAANQAAADoAAAA3AAAAQwAAAD8AAABAAAAANwAAAC0AAABIAAAATAAAADsAAAA8AAAARQAAADUAAAA1AAAANAAAADwAAAA4AAAAMQAAACkAAABJAAAANwAAADQAAAA8AAAAPgAAAEIAAABDAAAAPAAAAD0AAABDAAAAPQAAADgAAAA/AAAAPQAAAEQAAABHAAAAPQAAAEQAAAA2AAAAQAAAAEMAAABNAAAA",
          "dtype": "u4"
         },
         "yaxis": "y"
        },
        {
         "hovertemplate": "Port=San Pedro Ports<br>=%{x}<br>Number of Calls per Month=%{y}<extra></extra>",
         "legendgroup": "San Pedro Ports",
         "line": {
          "color": "lightgray",
          "dash": "solid"
         },
         "marker": {
          "symbol": "circle"
         },
         "mode": "lines",
         "name": "San Pedro Ports",
         "orientation": "v",
         "showlegend": true,
         "type": "scatter",
         "x": [
          "2018-01-01",
          "2018-02-01",
          "2018-03-01",
          "2018-04-01",
          "2018-05-01",
          "2018-06-01",
          "2018-07-01",
          "2018-08-01",
          "2018-09-01",
          "2018-10-01",
          "2018-11-01",
          "2018-12-01",
          "2019-01-01",
          "2019-02-01",
          "2019-03-01",
          "2019-04-01",
          "2019-05-01",
          "2019-06-01",
          "2019-07-01",
          "2019-08-01",
          "2019-09-01",
          "2019-10-01",
          "2019-11-01",
          "2019-12-01",
          "2020-01-01",
          "2020-02-01",
          "2020-03-01",
          "2020-04-01",
          "2020-05-01",
          "2020-06-01",
          "2020-07-01",
          "2020-08-01",
          "2020-09-01",
          "2020-10-01",
          "2020-11-01",
          "2020-12-01",
          "2021-01-01",
          "2021-02-01",
          "2021-03-01",
          "2021-04-01",
          "2021-05-01",
          "2021-06-01",
          "2021-07-01",
          "2021-08-01",
          "2021-09-01",
          "2021-10-01",
          "2021-11-01",
          "2021-12-01",
          "2022-01-01",
          "2022-02-01",
          "2022-03-01",
          "2022-04-01",
          "2022-05-01",
          "2022-06-01",
          "2022-07-01",
          "2022-08-01",
          "2022-09-01",
          "2022-10-01",
          "2022-11-01",
          "2022-12-01",
          "2023-01-01",
          "2023-02-01",
          "2023-03-01",
          "2023-04-01",
          "2023-05-01",
          "2023-06-01",
          "2023-07-01",
          "2023-08-01",
          "2023-09-01",
          "2023-10-01",
          "2023-11-01",
          "2023-12-01",
          "2024-01-01",
          "2024-02-01",
          "2024-03-01",
          "2024-04-01",
          "2024-05-01",
          "2024-06-01",
          "2024-07-01",
          "2024-08-01",
          "2024-09-01",
          "2024-10-01",
          "2024-11-01",
          "2024-12-01"
         ],
         "xaxis": "x",
         "y": {
          "bdata": "swAAALUAAADGAAAA1AAAAMgAAADUAAAAzQAAANQAAADAAAAAzwAAAL4AAAC8AAAA0AAAAK4AAAC7AAAAwAAAAL4AAAC8AAAAwQAAALcAAAC4AAAAuwAAALEAAAC9AAAAqwAAAJIAAACoAAAAnAAAAHkAAACLAAAApQAAAJsAAACwAAAAtwAAAKUAAACjAAAAiAAAAI4AAACXAAAAxAAAANEAAADgAAAAzgAAAL0AAAC9AAAArgAAAKsAAADBAAAA9AAAAOkAAAAFAQAAAgEAAO0AAADoAAAAvwAAAMcAAAC4AAAAtQAAALoAAAC2AAAArQAAAJkAAADGAAAAxgAAAM0AAADIAAAAuAAAAMIAAACrAAAAsQAAAK8AAACuAAAAzAAAALEAAADKAAAAvQAAAMkAAAC8AAAAzwAAANoAAADPAAAA0wAAAMQAAAC2AAAA",
          "dtype": "u4"
         },
         "yaxis": "y"
        },
        {
         "hovertemplate": "Port=Port Everglades, FL<br>=%{x}<br>Number of Calls per Month=%{y}<extra></extra>",
         "legendgroup": "Port Everglades, FL",
         "line": {
          "color": "lightgray",
          "dash": "solid"
         },
         "marker": {
          "symbol": "circle"
         },
         "mode": "lines",
         "name": "Port Everglades, FL",
         "orientation": "v",
         "showlegend": true,
         "type": "scatter",
         "x": [
          "2018-01-01",
          "2018-02-01",
          "2018-03-01",
          "2018-04-01",
          "2018-05-01",
          "2018-06-01",
          "2018-07-01",
          "2018-08-01",
          "2018-09-01",
          "2018-10-01",
          "2018-11-01",
          "2018-12-01",
          "2019-01-01",
          "2019-02-01",
          "2019-03-01",
          "2019-04-01",
          "2019-05-01",
          "2019-06-01",
          "2019-07-01",
          "2019-08-01",
          "2019-09-01",
          "2019-10-01",
          "2019-11-01",
          "2019-12-01",
          "2020-01-01",
          "2020-02-01",
          "2020-03-01",
          "2020-04-01",
          "2020-05-01",
          "2020-06-01",
          "2020-07-01",
          "2020-08-01",
          "2020-09-01",
          "2020-10-01",
          "2020-11-01",
          "2020-12-01",
          "2021-01-01",
          "2021-02-01",
          "2021-03-01",
          "2021-04-01",
          "2021-05-01",
          "2021-06-01",
          "2021-07-01",
          "2021-08-01",
          "2021-09-01",
          "2021-10-01",
          "2021-11-01",
          "2021-12-01",
          "2022-01-01",
          "2022-02-01",
          "2022-03-01",
          "2022-04-01",
          "2022-05-01",
          "2022-06-01",
          "2022-07-01",
          "2022-08-01",
          "2022-09-01",
          "2022-10-01",
          "2022-11-01",
          "2022-12-01",
          "2023-01-01",
          "2023-02-01",
          "2023-03-01",
          "2023-04-01",
          "2023-05-01",
          "2023-06-01",
          "2023-07-01",
          "2023-08-01",
          "2023-09-01",
          "2023-10-01",
          "2023-11-01",
          "2023-12-01",
          "2024-01-01",
          "2024-02-01",
          "2024-03-01",
          "2024-04-01",
          "2024-05-01",
          "2024-06-01",
          "2024-07-01",
          "2024-08-01",
          "2024-09-01",
          "2024-10-01",
          "2024-11-01",
          "2024-12-01"
         ],
         "xaxis": "x",
         "y": {
          "bdata": "gQAAAIEAAACDAAAAfQAAAIIAAABvAAAAeAAAAHsAAAByAAAAhQAAAHkAAAB8AAAAhQAAAG0AAACIAAAAggAAAJIAAACEAAAAggAAAHMAAAB9AAAAjAAAAIIAAACAAAAAggAAAH0AAACCAAAAYgAAAGYAAABlAAAAbgAAAGoAAABmAAAAZgAAAGEAAABkAAAAZgAAAF8AAABkAAAAfwAAAIQAAACIAAAAdwAAAIAAAACAAAAAeAAAAHkAAAB+AAAAegAAAIUAAAB3AAAAfQAAAH8AAAB1AAAAdwAAAHEAAABkAAAAfgAAAHEAAAB6AAAAjgAAAH8AAACDAAAAggAAAIMAAAB1AAAAbgAAAHMAAAB1AAAAdQAAAGYAAAB/AAAAiAAAAHwAAACBAAAAfgAAAH4AAAB+AAAAdwAAAHEAAAB3AAAAewAAAIkAAACOAAAA",
          "dtype": "u4"
         },
         "yaxis": "y"
        },
        {
         "hovertemplate": "Port=PortMiami, FL<br>=%{x}<br>Number of Calls per Month=%{y}<extra></extra>",
         "legendgroup": "PortMiami, FL",
         "line": {
          "color": "lightgray",
          "dash": "solid"
         },
         "marker": {
          "symbol": "circle"
         },
         "mode": "lines",
         "name": "PortMiami, FL",
         "orientation": "v",
         "showlegend": true,
         "type": "scatter",
         "x": [
          "2018-01-01",
          "2018-02-01",
          "2018-03-01",
          "2018-04-01",
          "2018-05-01",
          "2018-06-01",
          "2018-07-01",
          "2018-08-01",
          "2018-09-01",
          "2018-10-01",
          "2018-11-01",
          "2018-12-01",
          "2019-01-01",
          "2019-02-01",
          "2019-03-01",
          "2019-04-01",
          "2019-05-01",
          "2019-06-01",
          "2019-07-01",
          "2019-08-01",
          "2019-09-01",
          "2019-10-01",
          "2019-11-01",
          "2019-12-01",
          "2020-01-01",
          "2020-02-01",
          "2020-03-01",
          "2020-04-01",
          "2020-05-01",
          "2020-06-01",
          "2020-07-01",
          "2020-08-01",
          "2020-09-01",
          "2020-10-01",
          "2020-11-01",
          "2020-12-01",
          "2021-01-01",
          "2021-02-01",
          "2021-03-01",
          "2021-04-01",
          "2021-05-01",
          "2021-06-01",
          "2021-07-01",
          "2021-08-01",
          "2021-09-01",
          "2021-10-01",
          "2021-11-01",
          "2021-12-01",
          "2022-01-01",
          "2022-02-01",
          "2022-03-01",
          "2022-04-01",
          "2022-05-01",
          "2022-06-01",
          "2022-07-01",
          "2022-08-01",
          "2022-09-01",
          "2022-10-01",
          "2022-11-01",
          "2022-12-01",
          "2023-01-01",
          "2023-02-01",
          "2023-03-01",
          "2023-04-01",
          "2023-05-01",
          "2023-06-01",
          "2023-07-01",
          "2023-08-01",
          "2023-09-01",
          "2023-10-01",
          "2023-11-01",
          "2023-12-01",
          "2024-01-01",
          "2024-02-01",
          "2024-03-01",
          "2024-04-01",
          "2024-05-01",
          "2024-06-01",
          "2024-07-01",
          "2024-08-01",
          "2024-09-01",
          "2024-10-01",
          "2024-11-01",
          "2024-12-01"
         ],
         "xaxis": "x",
         "y": {
          "bdata": "NwAAADUAAABAAAAAOQAAAEUAAABAAAAARgAAAEgAAAAtAAAAPgAAADcAAAAwAAAAPgAAADsAAAA1AAAANgAAAEAAAAA3AAAANQAAADsAAABCAAAAOQAAADkAAAA2AAAAPwAAADsAAAA+AAAALwAAACoAAAArAAAAKwAAADsAAAA5AAAAPgAAADQAAAA2AAAAPAAAACgAAAA8AAAAQgAAAD4AAAA9AAAAPAAAAEoAAABDAAAAPwAAADcAAAA5AAAAOQAAADMAAAAyAAAANQAAAC4AAAAzAAAAMQAAACYAAAAwAAAAMAAAACwAAAA2AAAAOAAAAC8AAAA/AAAAMQAAADoAAAA6AAAANwAAAD0AAAA5AAAAPQAAADwAAAA8AAAARAAAAEQAAABHAAAARAAAAEEAAAA9AAAAOAAAADwAAAA/AAAALQAAACcAAAAoAAAA",
          "dtype": "u4"
         },
         "yaxis": "y"
        },
        {
         "hovertemplate": "Port=Port of Oakland, CA<br>=%{x}<br>Number of Calls per Month=%{y}<extra></extra>",
         "legendgroup": "Port of Oakland, CA",
         "line": {
          "color": "lightgray",
          "dash": "solid"
         },
         "marker": {
          "symbol": "circle"
         },
         "mode": "lines",
         "name": "Port of Oakland, CA",
         "orientation": "v",
         "showlegend": true,
         "type": "scatter",
         "x": [
          "2018-01-01",
          "2018-02-01",
          "2018-03-01",
          "2018-04-01",
          "2018-05-01",
          "2018-06-01",
          "2018-07-01",
          "2018-08-01",
          "2018-09-01",
          "2018-10-01",
          "2018-11-01",
          "2018-12-01",
          "2019-01-01",
          "2019-02-01",
          "2019-03-01",
          "2019-04-01",
          "2019-05-01",
          "2019-06-01",
          "2019-07-01",
          "2019-08-01",
          "2019-09-01",
          "2019-10-01",
          "2019-11-01",
          "2019-12-01",
          "2020-01-01",
          "2020-02-01",
          "2020-03-01",
          "2020-04-01",
          "2020-05-01",
          "2020-06-01",
          "2020-07-01",
          "2020-08-01",
          "2020-09-01",
          "2020-10-01",
          "2020-11-01",
          "2020-12-01",
          "2021-01-01",
          "2021-02-01",
          "2021-03-01",
          "2021-04-01",
          "2021-05-01",
          "2021-06-01",
          "2021-07-01",
          "2021-08-01",
          "2021-09-01",
          "2021-10-01",
          "2021-11-01",
          "2021-12-01",
          "2022-01-01",
          "2022-02-01",
          "2022-03-01",
          "2022-04-01",
          "2022-05-01",
          "2022-06-01",
          "2022-07-01",
          "2022-08-01",
          "2022-09-01",
          "2022-10-01",
          "2022-11-01",
          "2022-12-01",
          "2023-01-01",
          "2023-02-01",
          "2023-03-01",
          "2023-04-01",
          "2023-05-01",
          "2023-06-01",
          "2023-07-01",
          "2023-08-01",
          "2023-09-01",
          "2023-10-01",
          "2023-11-01",
          "2023-12-01",
          "2024-01-01",
          "2024-02-01",
          "2024-03-01",
          "2024-04-01",
          "2024-05-01",
          "2024-06-01",
          "2024-07-01",
          "2024-08-01",
          "2024-09-01",
          "2024-10-01",
          "2024-11-01",
          "2024-12-01"
         ],
         "xaxis": "x",
         "y": {
          "bdata": "WgAAAEsAAABKAAAAVAAAAFcAAABUAAAAUgAAAFMAAABOAAAATAAAAEcAAABCAAAARwAAAD0AAAA9AAAAQAAAADwAAAA8AAAAPwAAAEYAAAA8AAAAQwAAADoAAAA/AAAAQAAAAC4AAAA2AAAANAAAADUAAAAxAAAARAAAADsAAAA5AAAAPgAAADUAAAAtAAAAJQAAACIAAAApAAAAMgAAAC4AAAAqAAAAKgAAACgAAAAeAAAAHgAAACcAAAAdAAAAJgAAAC0AAAA+AAAAMAAAAC4AAAA/AAAAKQAAACkAAAAkAAAAKwAAACkAAAAoAAAAMAAAACgAAAAuAAAAMQAAADQAAAA1AAAAQQAAAEIAAAA5AAAAPQAAADoAAAA6AAAAPQAAADoAAAA+AAAAOQAAADgAAAA3AAAAMwAAADYAAABFAAAARgAAADwAAABAAAAA",
          "dtype": "u4"
         },
         "yaxis": "y"
        },
        {
         "hovertemplate": "Port=NW Seaport Alliance<br>=%{x}<br>Number of Calls per Month=%{y}<extra></extra>",
         "legendgroup": "NW Seaport Alliance",
         "line": {
          "color": "blue",
          "dash": "solid"
         },
         "marker": {
          "symbol": "circle"
         },
         "mode": "lines",
         "name": "NW Seaport Alliance",
         "orientation": "v",
         "showlegend": true,
         "type": "scatter",
         "x": [
          "2018-01-01",
          "2018-02-01",
          "2018-03-01",
          "2018-04-01",
          "2018-05-01",
          "2018-06-01",
          "2018-07-01",
          "2018-08-01",
          "2018-09-01",
          "2018-10-01",
          "2018-11-01",
          "2018-12-01",
          "2019-01-01",
          "2019-02-01",
          "2019-03-01",
          "2019-04-01",
          "2019-05-01",
          "2019-06-01",
          "2019-07-01",
          "2019-08-01",
          "2019-09-01",
          "2019-10-01",
          "2019-11-01",
          "2019-12-01",
          "2020-01-01",
          "2020-02-01",
          "2020-03-01",
          "2020-04-01",
          "2020-05-01",
          "2020-06-01",
          "2020-07-01",
          "2020-08-01",
          "2020-09-01",
          "2020-10-01",
          "2020-11-01",
          "2020-12-01",
          "2021-01-01",
          "2021-02-01",
          "2021-03-01",
          "2021-04-01",
          "2021-05-01",
          "2021-06-01",
          "2021-07-01",
          "2021-08-01",
          "2021-09-01",
          "2021-10-01",
          "2021-11-01",
          "2021-12-01",
          "2022-01-01",
          "2022-02-01",
          "2022-03-01",
          "2022-04-01",
          "2022-05-01",
          "2022-06-01",
          "2022-07-01",
          "2022-08-01",
          "2022-09-01",
          "2022-10-01",
          "2022-11-01",
          "2022-12-01",
          "2023-01-01",
          "2023-02-01",
          "2023-03-01",
          "2023-04-01",
          "2023-05-01",
          "2023-06-01",
          "2023-07-01",
          "2023-08-01",
          "2023-09-01",
          "2023-10-01",
          "2023-11-01",
          "2023-12-01",
          "2024-01-01",
          "2024-02-01",
          "2024-03-01",
          "2024-04-01",
          "2024-05-01",
          "2024-06-01",
          "2024-07-01",
          "2024-08-01",
          "2024-09-01",
          "2024-10-01",
          "2024-11-01",
          "2024-12-01"
         ],
         "xaxis": "x",
         "y": {
          "bdata": "YAAAAFgAAABaAAAAWAAAAGkAAABoAAAAXwAAAFsAAABXAAAATQAAAE4AAABdAAAAVwAAAE4AAABfAAAAZgAAAGIAAABRAAAAWgAAAE4AAABMAAAAUAAAAF4AAABSAAAAVQAAAFkAAABZAAAAVAAAAFAAAABAAAAAVQAAAFQAAABbAAAAVQAAAEwAAABTAAAATAAAAEAAAABXAAAAWwAAAFsAAABaAAAAbgAAAEkAAABOAAAAWwAAAF8AAABMAAAAWgAAAFoAAABZAAAAUgAAAFUAAABaAAAAVgAAAFMAAABQAAAAaAAAAFsAAABTAAAAUwAAAE0AAABSAAAAWAAAAFYAAABfAAAAWgAAAE8AAABgAAAAYAAAAFgAAABVAAAAWAAAAFgAAABlAAAAXwAAAGEAAABnAAAAVgAAAGMAAABhAAAAXQAAAGAAAABKAAAA",
          "dtype": "u4"
         },
         "yaxis": "y"
        },
        {
         "hovertemplate": "Port=New Orleans, LA<br>=%{x}<br>Number of Calls per Month=%{y}<extra></extra>",
         "legendgroup": "New Orleans, LA",
         "line": {
          "color": "lightgray",
          "dash": "solid"
         },
         "marker": {
          "symbol": "circle"
         },
         "mode": "lines",
         "name": "New Orleans, LA",
         "orientation": "v",
         "showlegend": true,
         "type": "scatter",
         "x": [
          "2018-01-01",
          "2018-02-01",
          "2018-03-01",
          "2018-04-01",
          "2018-05-01",
          "2018-06-01",
          "2018-07-01",
          "2018-08-01",
          "2018-09-01",
          "2018-10-01",
          "2018-11-01",
          "2018-12-01",
          "2019-01-01",
          "2019-02-01",
          "2019-03-01",
          "2019-04-01",
          "2019-05-01",
          "2019-06-01",
          "2019-07-01",
          "2019-08-01",
          "2019-09-01",
          "2019-10-01",
          "2019-11-01",
          "2019-12-01",
          "2020-01-01",
          "2020-02-01",
          "2020-03-01",
          "2020-04-01",
          "2020-05-01",
          "2020-06-01",
          "2020-07-01",
          "2020-08-01",
          "2020-09-01",
          "2020-10-01",
          "2020-11-01",
          "2020-12-01",
          "2021-01-01",
          "2021-02-01",
          "2021-03-01",
          "2021-04-01",
          "2021-05-01",
          "2021-06-01",
          "2021-07-01",
          "2021-08-01",
          "2021-09-01",
          "2021-10-01",
          "2021-11-01",
          "2021-12-01",
          "2022-01-01",
          "2022-02-01",
          "2022-03-01",
          "2022-04-01",
          "2022-05-01",
          "2022-06-01",
          "2022-07-01",
          "2022-08-01",
          "2022-09-01",
          "2022-10-01",
          "2022-11-01",
          "2022-12-01",
          "2023-01-01",
          "2023-02-01",
          "2023-03-01",
          "2023-04-01",
          "2023-05-01",
          "2023-06-01",
          "2023-07-01",
          "2023-08-01",
          "2023-09-01",
          "2023-10-01",
          "2023-11-01",
          "2023-12-01",
          "2024-01-01",
          "2024-02-01",
          "2024-03-01",
          "2024-04-01",
          "2024-05-01",
          "2024-06-01",
          "2024-07-01",
          "2024-08-01",
          "2024-09-01",
          "2024-10-01",
          "2024-11-01",
          "2024-12-01"
         ],
         "xaxis": "x",
         "y": {
          "bdata": "SgAAAEUAAABSAAAAPgAAAFAAAABJAAAASwAAAFIAAABJAAAASQAAAEAAAABEAAAAWAAAAEEAAABWAAAAPgAAAEkAAABBAAAARwAAAEkAAAA+AAAAQAAAAEMAAABCAAAASwAAADoAAAA9AAAAQgAAAEoAAABBAAAAPgAAADMAAAA4AAAANAAAADkAAAA5AAAAOgAAADIAAAA9AAAAPAAAAEoAAABCAAAASAAAADoAAAA5AAAARwAAAEYAAAA9AAAARgAAAEMAAABAAAAASQAAAEUAAAA/AAAAQAAAAEMAAABAAAAAQQAAAD0AAAAzAAAAPgAAAEEAAAA/AAAATQAAAD4AAABHAAAAQAAAAEIAAAA5AAAARwAAADQAAAA/AAAAQwAAAD4AAABEAAAAPQAAAEgAAABFAAAAOgAAAEAAAAA9AAAANAAAAEUAAAA1AAAA",
          "dtype": "u4"
         },
         "yaxis": "y"
        },
        {
         "hovertemplate": "Port=San Juan, PR<br>=%{x}<br>Number of Calls per Month=%{y}<extra></extra>",
         "legendgroup": "San Juan, PR",
         "line": {
          "color": "lightgray",
          "dash": "solid"
         },
         "marker": {
          "symbol": "circle"
         },
         "mode": "lines",
         "name": "San Juan, PR",
         "orientation": "v",
         "showlegend": true,
         "type": "scatter",
         "x": [
          "2018-01-01",
          "2018-02-01",
          "2018-03-01",
          "2018-04-01",
          "2018-05-01",
          "2018-06-01",
          "2018-07-01",
          "2018-08-01",
          "2018-09-01",
          "2018-10-01",
          "2018-11-01",
          "2018-12-01",
          "2019-01-01",
          "2019-02-01",
          "2019-03-01",
          "2019-04-01",
          "2019-05-01",
          "2019-06-01",
          "2019-07-01",
          "2019-08-01",
          "2019-09-01",
          "2019-10-01",
          "2019-11-01",
          "2019-12-01",
          "2020-01-01",
          "2020-02-01",
          "2020-03-01",
          "2020-04-01",
          "2020-05-01",
          "2020-06-01",
          "2020-07-01",
          "2020-08-01",
          "2020-09-01",
          "2020-10-01",
          "2020-11-01",
          "2020-12-01",
          "2021-01-01",
          "2021-02-01",
          "2021-03-01",
          "2021-04-01",
          "2021-05-01",
          "2021-06-01",
          "2021-07-01",
          "2021-08-01",
          "2021-09-01",
          "2021-10-01",
          "2021-11-01",
          "2021-12-01",
          "2022-01-01",
          "2022-02-01",
          "2022-03-01",
          "2022-04-01",
          "2022-05-01",
          "2022-06-01",
          "2022-07-01",
          "2022-08-01",
          "2022-09-01",
          "2022-10-01",
          "2022-11-01",
          "2022-12-01",
          "2023-01-01",
          "2023-02-01",
          "2023-03-01",
          "2023-04-01",
          "2023-05-01",
          "2023-06-01",
          "2023-07-01",
          "2023-08-01",
          "2023-09-01",
          "2023-10-01",
          "2023-11-01",
          "2023-12-01",
          "2024-01-01",
          "2024-02-01",
          "2024-03-01",
          "2024-04-01",
          "2024-05-01",
          "2024-06-01",
          "2024-07-01",
          "2024-08-01",
          "2024-09-01",
          "2024-10-01",
          "2024-11-01",
          "2024-12-01"
         ],
         "xaxis": "x",
         "y": {
          "bdata": "OQAAAEEAAABCAAAASAAAAFAAAABGAAAATwAAAEgAAABCAAAATgAAAE4AAABCAAAATQAAAEsAAABUAAAATAAAAEoAAABHAAAASAAAAEIAAAA9AAAAMgAAADcAAAA/AAAAPwAAADUAAABDAAAAOgAAADAAAAAxAAAANgAAADcAAABAAAAAPgAAADgAAAA2AAAANwAAADAAAAA5AAAATgAAAFMAAABSAAAATgAAAEwAAABKAAAAXgAAAFAAAABJAAAASAAAAEUAAABVAAAAUgAAAFUAAABUAAAASQAAAFIAAABKAAAAVQAAAFEAAABMAAAAVwAAAE0AAABXAAAAWgAAAF0AAABdAAAAXAAAAFkAAABWAAAAXAAAAFEAAABLAAAAVwAAAFoAAABPAAAAVQAAAFMAAABUAAAAWQAAAFkAAABUAAAAWwAAAFMAAAA7AAAA",
          "dtype": "u4"
         },
         "yaxis": "y"
        },
        {
         "hovertemplate": "Port=Mobile, AL<br>=%{x}<br>Number of Calls per Month=%{y}<extra></extra>",
         "legendgroup": "Mobile, AL",
         "line": {
          "color": "lightgray",
          "dash": "solid"
         },
         "marker": {
          "symbol": "circle"
         },
         "mode": "lines",
         "name": "Mobile, AL",
         "orientation": "v",
         "showlegend": true,
         "type": "scatter",
         "x": [
          "2018-01-01",
          "2018-02-01",
          "2018-03-01",
          "2018-04-01",
          "2018-05-01",
          "2018-06-01",
          "2018-07-01",
          "2018-08-01",
          "2018-09-01",
          "2018-10-01",
          "2018-11-01",
          "2018-12-01",
          "2019-01-01",
          "2019-02-01",
          "2019-03-01",
          "2019-04-01",
          "2019-05-01",
          "2019-06-01",
          "2019-07-01",
          "2019-08-01",
          "2019-09-01",
          "2019-10-01",
          "2019-11-01",
          "2019-12-01",
          "2020-01-01",
          "2020-02-01",
          "2020-03-01",
          "2020-04-01",
          "2020-05-01",
          "2020-06-01",
          "2020-07-01",
          "2020-08-01",
          "2020-09-01",
          "2020-10-01",
          "2020-11-01",
          "2020-12-01",
          "2021-01-01",
          "2021-02-01",
          "2021-03-01",
          "2021-04-01",
          "2021-05-01",
          "2021-06-01",
          "2021-07-01",
          "2021-08-01",
          "2021-09-01",
          "2021-10-01",
          "2021-11-01",
          "2021-12-01",
          "2022-01-01",
          "2022-02-01",
          "2022-03-01",
          "2022-04-01",
          "2022-05-01",
          "2022-06-01",
          "2022-07-01",
          "2022-08-01",
          "2022-09-01",
          "2022-10-01",
          "2022-11-01",
          "2022-12-01",
          "2023-01-01",
          "2023-02-01",
          "2023-03-01",
          "2023-04-01",
          "2023-05-01",
          "2023-06-01",
          "2023-07-01",
          "2023-08-01",
          "2023-09-01",
          "2023-10-01",
          "2023-11-01",
          "2023-12-01",
          "2024-01-01",
          "2024-02-01",
          "2024-03-01",
          "2024-04-01",
          "2024-05-01",
          "2024-06-01",
          "2024-07-01",
          "2024-08-01",
          "2024-09-01",
          "2024-10-01",
          "2024-11-01",
          "2024-12-01"
         ],
         "xaxis": "x",
         "y": {
          "bdata": "TwAAAFMAAABRAAAAUAAAAFUAAABVAAAAVgAAAE0AAABSAAAAWQAAAFEAAABJAAAAXQAAAEwAAABYAAAATQAAAFMAAABYAAAAVgAAAFgAAABTAAAATgAAADwAAABMAAAAUAAAAEYAAABIAAAAQwAAAEYAAABAAAAARAAAAEMAAABDAAAAPQAAAEQAAABQAAAARgAAAD8AAABYAAAAUQAAAFAAAABkAAAAWwAAAFIAAABbAAAAWQAAAFkAAABVAAAAXAAAAFkAAABbAAAAWgAAAGMAAABdAAAAYAAAAFkAAABdAAAAZQAAAFUAAABbAAAAYAAAAF4AAABbAAAAVwAAAGIAAABmAAAAbQAAAGQAAABoAAAAXgAAAEsAAABcAAAAXAAAAF0AAABaAAAAXQAAAGcAAABsAAAAVAAAAGMAAABbAAAAVwAAAF4AAABVAAAA",
          "dtype": "u4"
         },
         "yaxis": "y"
        },
        {
         "hovertemplate": "Port=Baltimore, MD<br>=%{x}<br>Number of Calls per Month=%{y}<extra></extra>",
         "legendgroup": "Baltimore, MD",
         "line": {
          "color": "lightgray",
          "dash": "solid"
         },
         "marker": {
          "symbol": "circle"
         },
         "mode": "lines",
         "name": "Baltimore, MD",
         "orientation": "v",
         "showlegend": true,
         "type": "scatter",
         "x": [
          "2018-01-01",
          "2018-02-01",
          "2018-03-01",
          "2018-04-01",
          "2018-05-01",
          "2018-06-01",
          "2018-07-01",
          "2018-08-01",
          "2018-09-01",
          "2018-10-01",
          "2018-11-01",
          "2018-12-01",
          "2019-01-01",
          "2019-02-01",
          "2019-03-01",
          "2019-04-01",
          "2019-05-01",
          "2019-06-01",
          "2019-07-01",
          "2019-08-01",
          "2019-09-01",
          "2019-10-01",
          "2019-11-01",
          "2019-12-01",
          "2020-01-01",
          "2020-02-01",
          "2020-03-01",
          "2020-04-01",
          "2020-05-01",
          "2020-06-01",
          "2020-07-01",
          "2020-08-01",
          "2020-09-01",
          "2020-10-01",
          "2020-11-01",
          "2020-12-01",
          "2021-01-01",
          "2021-02-01",
          "2021-03-01",
          "2021-04-01",
          "2021-05-01",
          "2021-06-01",
          "2021-07-01",
          "2021-08-01",
          "2021-09-01",
          "2021-10-01",
          "2021-11-01",
          "2021-12-01",
          "2022-01-01",
          "2022-02-01",
          "2022-03-01",
          "2022-04-01",
          "2022-05-01",
          "2022-06-01",
          "2022-07-01",
          "2022-08-01",
          "2022-09-01",
          "2022-10-01",
          "2022-11-01",
          "2022-12-01",
          "2023-01-01",
          "2023-02-01",
          "2023-03-01",
          "2023-04-01",
          "2023-05-01",
          "2023-06-01",
          "2023-07-01",
          "2023-08-01",
          "2023-09-01",
          "2023-10-01",
          "2023-11-01",
          "2023-12-01",
          "2024-01-01",
          "2024-02-01",
          "2024-03-01",
          "2024-04-01",
          "2024-05-01",
          "2024-06-01",
          "2024-07-01",
          "2024-08-01",
          "2024-09-01",
          "2024-10-01",
          "2024-11-01",
          "2024-12-01"
         ],
         "xaxis": "x",
         "y": {
          "bdata": "WQAAAGAAAABpAAAAawAAAGUAAABtAAAAXAAAAG4AAABaAAAAXgAAAGQAAABiAAAAYgAAAFMAAABlAAAAYAAAAF4AAABZAAAAXgAAAGEAAABhAAAAVwAAAFkAAABbAAAAVgAAAFUAAABUAAAARAAAADgAAAA+AAAAQgAAAE8AAABSAAAAUwAAAFIAAABeAAAAVgAAAEMAAABcAAAAdQAAAG0AAABtAAAAWAAAAGMAAABdAAAAWAAAAG0AAABlAAAAXgAAAGEAAABqAAAAZAAAAFsAAABwAAAAZQAAAGYAAABcAAAAZQAAAE0AAABdAAAAYwAAAGIAAABYAAAAawAAAGEAAABkAAAAZAAAAGQAAABpAAAAZwAAAF0AAABWAAAAZwAAAF0AAABcAAAAAgAAADYAAABYAAAAaQAAAGwAAABZAAAAYQAAAHIAAABVAAAA",
          "dtype": "u4"
         },
         "yaxis": "y"
        }
       ],
       "layout": {
        "legend": {
         "title": {
          "text": "Port"
         },
         "tracegroupgap": 0
        },
        "template": {
         "data": {
          "bar": [
           {
            "error_x": {
             "color": "#2a3f5f"
            },
            "error_y": {
             "color": "#2a3f5f"
            },
            "marker": {
             "line": {
              "color": "#E5ECF6",
              "width": 0.5
             },
             "pattern": {
              "fillmode": "overlay",
              "size": 10,
              "solidity": 0.2
             }
            },
            "type": "bar"
           }
          ],
          "barpolar": [
           {
            "marker": {
             "line": {
              "color": "#E5ECF6",
              "width": 0.5
             },
             "pattern": {
              "fillmode": "overlay",
              "size": 10,
              "solidity": 0.2
             }
            },
            "type": "barpolar"
           }
          ],
          "carpet": [
           {
            "aaxis": {
             "endlinecolor": "#2a3f5f",
             "gridcolor": "white",
             "linecolor": "white",
             "minorgridcolor": "white",
             "startlinecolor": "#2a3f5f"
            },
            "baxis": {
             "endlinecolor": "#2a3f5f",
             "gridcolor": "white",
             "linecolor": "white",
             "minorgridcolor": "white",
             "startlinecolor": "#2a3f5f"
            },
            "type": "carpet"
           }
          ],
          "choropleth": [
           {
            "colorbar": {
             "outlinewidth": 0,
             "ticks": ""
            },
            "type": "choropleth"
           }
          ],
          "contour": [
           {
            "colorbar": {
             "outlinewidth": 0,
             "ticks": ""
            },
            "colorscale": [
             [
              0,
              "#0d0887"
             ],
             [
              0.1111111111111111,
              "#46039f"
             ],
             [
              0.2222222222222222,
              "#7201a8"
             ],
             [
              0.3333333333333333,
              "#9c179e"
             ],
             [
              0.4444444444444444,
              "#bd3786"
             ],
             [
              0.5555555555555556,
              "#d8576b"
             ],
             [
              0.6666666666666666,
              "#ed7953"
             ],
             [
              0.7777777777777778,
              "#fb9f3a"
             ],
             [
              0.8888888888888888,
              "#fdca26"
             ],
             [
              1,
              "#f0f921"
             ]
            ],
            "type": "contour"
           }
          ],
          "contourcarpet": [
           {
            "colorbar": {
             "outlinewidth": 0,
             "ticks": ""
            },
            "type": "contourcarpet"
           }
          ],
          "heatmap": [
           {
            "colorbar": {
             "outlinewidth": 0,
             "ticks": ""
            },
            "colorscale": [
             [
              0,
              "#0d0887"
             ],
             [
              0.1111111111111111,
              "#46039f"
             ],
             [
              0.2222222222222222,
              "#7201a8"
             ],
             [
              0.3333333333333333,
              "#9c179e"
             ],
             [
              0.4444444444444444,
              "#bd3786"
             ],
             [
              0.5555555555555556,
              "#d8576b"
             ],
             [
              0.6666666666666666,
              "#ed7953"
             ],
             [
              0.7777777777777778,
              "#fb9f3a"
             ],
             [
              0.8888888888888888,
              "#fdca26"
             ],
             [
              1,
              "#f0f921"
             ]
            ],
            "type": "heatmap"
           }
          ],
          "histogram": [
           {
            "marker": {
             "pattern": {
              "fillmode": "overlay",
              "size": 10,
              "solidity": 0.2
             }
            },
            "type": "histogram"
           }
          ],
          "histogram2d": [
           {
            "colorbar": {
             "outlinewidth": 0,
             "ticks": ""
            },
            "colorscale": [
             [
              0,
              "#0d0887"
             ],
             [
              0.1111111111111111,
              "#46039f"
             ],
             [
              0.2222222222222222,
              "#7201a8"
             ],
             [
              0.3333333333333333,
              "#9c179e"
             ],
             [
              0.4444444444444444,
              "#bd3786"
             ],
             [
              0.5555555555555556,
              "#d8576b"
             ],
             [
              0.6666666666666666,
              "#ed7953"
             ],
             [
              0.7777777777777778,
              "#fb9f3a"
             ],
             [
              0.8888888888888888,
              "#fdca26"
             ],
             [
              1,
              "#f0f921"
             ]
            ],
            "type": "histogram2d"
           }
          ],
          "histogram2dcontour": [
           {
            "colorbar": {
             "outlinewidth": 0,
             "ticks": ""
            },
            "colorscale": [
             [
              0,
              "#0d0887"
             ],
             [
              0.1111111111111111,
              "#46039f"
             ],
             [
              0.2222222222222222,
              "#7201a8"
             ],
             [
              0.3333333333333333,
              "#9c179e"
             ],
             [
              0.4444444444444444,
              "#bd3786"
             ],
             [
              0.5555555555555556,
              "#d8576b"
             ],
             [
              0.6666666666666666,
              "#ed7953"
             ],
             [
              0.7777777777777778,
              "#fb9f3a"
             ],
             [
              0.8888888888888888,
              "#fdca26"
             ],
             [
              1,
              "#f0f921"
             ]
            ],
            "type": "histogram2dcontour"
           }
          ],
          "mesh3d": [
           {
            "colorbar": {
             "outlinewidth": 0,
             "ticks": ""
            },
            "type": "mesh3d"
           }
          ],
          "parcoords": [
           {
            "line": {
             "colorbar": {
              "outlinewidth": 0,
              "ticks": ""
             }
            },
            "type": "parcoords"
           }
          ],
          "pie": [
           {
            "automargin": true,
            "type": "pie"
           }
          ],
          "scatter": [
           {
            "fillpattern": {
             "fillmode": "overlay",
             "size": 10,
             "solidity": 0.2
            },
            "type": "scatter"
           }
          ],
          "scatter3d": [
           {
            "line": {
             "colorbar": {
              "outlinewidth": 0,
              "ticks": ""
             }
            },
            "marker": {
             "colorbar": {
              "outlinewidth": 0,
              "ticks": ""
             }
            },
            "type": "scatter3d"
           }
          ],
          "scattercarpet": [
           {
            "marker": {
             "colorbar": {
              "outlinewidth": 0,
              "ticks": ""
             }
            },
            "type": "scattercarpet"
           }
          ],
          "scattergeo": [
           {
            "marker": {
             "colorbar": {
              "outlinewidth": 0,
              "ticks": ""
             }
            },
            "type": "scattergeo"
           }
          ],
          "scattergl": [
           {
            "marker": {
             "colorbar": {
              "outlinewidth": 0,
              "ticks": ""
             }
            },
            "type": "scattergl"
           }
          ],
          "scattermap": [
           {
            "marker": {
             "colorbar": {
              "outlinewidth": 0,
              "ticks": ""
             }
            },
            "type": "scattermap"
           }
          ],
          "scattermapbox": [
           {
            "marker": {
             "colorbar": {
              "outlinewidth": 0,
              "ticks": ""
             }
            },
            "type": "scattermapbox"
           }
          ],
          "scatterpolar": [
           {
            "marker": {
             "colorbar": {
              "outlinewidth": 0,
              "ticks": ""
             }
            },
            "type": "scatterpolar"
           }
          ],
          "scatterpolargl": [
           {
            "marker": {
             "colorbar": {
              "outlinewidth": 0,
              "ticks": ""
             }
            },
            "type": "scatterpolargl"
           }
          ],
          "scatterternary": [
           {
            "marker": {
             "colorbar": {
              "outlinewidth": 0,
              "ticks": ""
             }
            },
            "type": "scatterternary"
           }
          ],
          "surface": [
           {
            "colorbar": {
             "outlinewidth": 0,
             "ticks": ""
            },
            "colorscale": [
             [
              0,
              "#0d0887"
             ],
             [
              0.1111111111111111,
              "#46039f"
             ],
             [
              0.2222222222222222,
              "#7201a8"
             ],
             [
              0.3333333333333333,
              "#9c179e"
             ],
             [
              0.4444444444444444,
              "#bd3786"
             ],
             [
              0.5555555555555556,
              "#d8576b"
             ],
             [
              0.6666666666666666,
              "#ed7953"
             ],
             [
              0.7777777777777778,
              "#fb9f3a"
             ],
             [
              0.8888888888888888,
              "#fdca26"
             ],
             [
              1,
              "#f0f921"
             ]
            ],
            "type": "surface"
           }
          ],
          "table": [
           {
            "cells": {
             "fill": {
              "color": "#EBF0F8"
             },
             "line": {
              "color": "white"
             }
            },
            "header": {
             "fill": {
              "color": "#C8D4E3"
             },
             "line": {
              "color": "white"
             }
            },
            "type": "table"
           }
          ]
         },
         "layout": {
          "annotationdefaults": {
           "arrowcolor": "#2a3f5f",
           "arrowhead": 0,
           "arrowwidth": 1
          },
          "autotypenumbers": "strict",
          "coloraxis": {
           "colorbar": {
            "outlinewidth": 0,
            "ticks": ""
           }
          },
          "colorscale": {
           "diverging": [
            [
             0,
             "#8e0152"
            ],
            [
             0.1,
             "#c51b7d"
            ],
            [
             0.2,
             "#de77ae"
            ],
            [
             0.3,
             "#f1b6da"
            ],
            [
             0.4,
             "#fde0ef"
            ],
            [
             0.5,
             "#f7f7f7"
            ],
            [
             0.6,
             "#e6f5d0"
            ],
            [
             0.7,
             "#b8e186"
            ],
            [
             0.8,
             "#7fbc41"
            ],
            [
             0.9,
             "#4d9221"
            ],
            [
             1,
             "#276419"
            ]
           ],
           "sequential": [
            [
             0,
             "#0d0887"
            ],
            [
             0.1111111111111111,
             "#46039f"
            ],
            [
             0.2222222222222222,
             "#7201a8"
            ],
            [
             0.3333333333333333,
             "#9c179e"
            ],
            [
             0.4444444444444444,
             "#bd3786"
            ],
            [
             0.5555555555555556,
             "#d8576b"
            ],
            [
             0.6666666666666666,
             "#ed7953"
            ],
            [
             0.7777777777777778,
             "#fb9f3a"
            ],
            [
             0.8888888888888888,
             "#fdca26"
            ],
            [
             1,
             "#f0f921"
            ]
           ],
           "sequentialminus": [
            [
             0,
             "#0d0887"
            ],
            [
             0.1111111111111111,
             "#46039f"
            ],
            [
             0.2222222222222222,
             "#7201a8"
            ],
            [
             0.3333333333333333,
             "#9c179e"
            ],
            [
             0.4444444444444444,
             "#bd3786"
            ],
            [
             0.5555555555555556,
             "#d8576b"
            ],
            [
             0.6666666666666666,
             "#ed7953"
            ],
            [
             0.7777777777777778,
             "#fb9f3a"
            ],
            [
             0.8888888888888888,
             "#fdca26"
            ],
            [
             1,
             "#f0f921"
            ]
           ]
          },
          "colorway": [
           "#636efa",
           "#EF553B",
           "#00cc96",
           "#ab63fa",
           "#FFA15A",
           "#19d3f3",
           "#FF6692",
           "#B6E880",
           "#FF97FF",
           "#FECB52"
          ],
          "font": {
           "color": "#2a3f5f"
          },
          "geo": {
           "bgcolor": "white",
           "lakecolor": "white",
           "landcolor": "#E5ECF6",
           "showlakes": true,
           "showland": true,
           "subunitcolor": "white"
          },
          "hoverlabel": {
           "align": "left"
          },
          "hovermode": "closest",
          "mapbox": {
           "style": "light"
          },
          "paper_bgcolor": "white",
          "plot_bgcolor": "#E5ECF6",
          "polar": {
           "angularaxis": {
            "gridcolor": "white",
            "linecolor": "white",
            "ticks": ""
           },
           "bgcolor": "#E5ECF6",
           "radialaxis": {
            "gridcolor": "white",
            "linecolor": "white",
            "ticks": ""
           }
          },
          "scene": {
           "xaxis": {
            "backgroundcolor": "#E5ECF6",
            "gridcolor": "white",
            "gridwidth": 2,
            "linecolor": "white",
            "showbackground": true,
            "ticks": "",
            "zerolinecolor": "white"
           },
           "yaxis": {
            "backgroundcolor": "#E5ECF6",
            "gridcolor": "white",
            "gridwidth": 2,
            "linecolor": "white",
            "showbackground": true,
            "ticks": "",
            "zerolinecolor": "white"
           },
           "zaxis": {
            "backgroundcolor": "#E5ECF6",
            "gridcolor": "white",
            "gridwidth": 2,
            "linecolor": "white",
            "showbackground": true,
            "ticks": "",
            "zerolinecolor": "white"
           }
          },
          "shapedefaults": {
           "line": {
            "color": "#2a3f5f"
           }
          },
          "ternary": {
           "aaxis": {
            "gridcolor": "white",
            "linecolor": "white",
            "ticks": ""
           },
           "baxis": {
            "gridcolor": "white",
            "linecolor": "white",
            "ticks": ""
           },
           "bgcolor": "#E5ECF6",
           "caxis": {
            "gridcolor": "white",
            "linecolor": "white",
            "ticks": ""
           }
          },
          "title": {
           "x": 0.05
          },
          "xaxis": {
           "automargin": true,
           "gridcolor": "white",
           "linecolor": "white",
           "ticks": "",
           "title": {
            "standoff": 15
           },
           "zerolinecolor": "white",
           "zerolinewidth": 2
          },
          "yaxis": {
           "automargin": true,
           "gridcolor": "white",
           "linecolor": "white",
           "ticks": "",
           "title": {
            "standoff": 15
           },
           "zerolinecolor": "white",
           "zerolinewidth": 2
          }
         }
        },
        "title": {
         "text": "Total Calls at Principal Ports"
        },
        "xaxis": {
         "anchor": "y",
         "domain": [
          0,
          1
         ],
         "title": {
          "text": ""
         }
        },
        "yaxis": {
         "anchor": "x",
         "domain": [
          0,
          1
         ],
         "title": {
          "text": "Number of Calls per Month"
         }
        }
       }
      }
     },
     "metadata": {},
     "output_type": "display_data"
    }
   ],
   "source": [
    "plot_line_count(\n",
    "        df=calls_df, cat_group='port_group', time_col='month',\n",
    "        y_col='hrs_at_berth', y_col_alias='Number of Calls per Month',\n",
    "        title='Total Calls at Principal Ports', width=None, height=None,\n",
    "        labels={'port_group':'Port', 'month':''},\n",
    "        cat_limit=10, cat_limit_col='hrs_at_berth',\n",
    "        highlight='NW Seaport Alliance', highlight_color='blue'\n",
    "    )"
   ]
  },
  {
   "cell_type": "markdown",
   "id": "162b1ad0",
   "metadata": {},
   "source": [
    "Reality check here?"
   ]
  },
  {
   "cell_type": "markdown",
   "id": "2d8724cd",
   "metadata": {},
   "source": [
    "### Dock-level Visualizations"
   ]
  },
  {
   "cell_type": "code",
   "execution_count": 16,
   "id": "c91730f2",
   "metadata": {},
   "outputs": [
    {
     "name": "stderr",
     "output_type": "stream",
     "text": [
      "/var/folders/dc/sgfd2dls28n4y4v4_jw03ly40000gp/T/ipykernel_9013/2422213061.py:85: DeprecationWarning:\n",
      "\n",
      "*scatter_mapbox* is deprecated! Use *scatter_map* instead. Learn more at: https://plotly.com/python/mapbox-to-maplibre/\n",
      "\n"
     ]
    },
    {
     "data": {
      "application/vnd.plotly.v1+json": {
       "config": {
        "plotlyServerURL": "https://plot.ly"
       },
       "data": [
        {
         "hovertemplate": "<b>%{hovertext}</b><br><br>Mean Hours at Berth=%{marker.size}<br>dock_lat=%{lat}<br>dock_lon=%{lon}<br>Mean Hours at Anchor=%{marker.color}<extra></extra>",
         "hovertext": [
          "U.S. Oil & Refining Co., Tacoma Terminal, Dock No. 1.",
          "PORT OF TACOMA, HUSKY TERMINAL, TERMINAL 4",
          "Marine Terminals Corp., Terminal 3, Tacoma Wharf.",
          "PORT OF TACOMA, BLAIR WATERWAY BARGE SLIP",
          "PORT OF TACOMA, BLAIR WATERWAY TERMINAL WHARF.",
          "PORT OF TACOMA, TERMINAL 7A AND 7 B.",
          "WASHINGTON UNITED TERMINALS, TACOMA WHARF (WUT)",
          "WEYERHAEUSER PAPER CO., PUGET SOUND CHIP CENTER WHARF",
          "GEORGIA-PACIFIC GYPSUM CORP., TACOMA PLANT WHARF",
          "CONOCOPHILLIPS PIPELINE CO, TACOMA TERMINAL",
          "TACOMA EXPORT MARKETING CO., TACOMA ELEVATOR WHARF",
          "SEAPORT SOUND TERMINAL TACOMA",
          "PORT OF TACOMA, HUSKY TERMINAL, TERMINAL 4 WHARF",
          "TOTEM OCEAN TRAILER EXPRESS, TACOMA TERMINAL WHARF",
          "Marine Terminals Corp., Terminal 4, Evergreen Terminal Wharf.",
          "PORT OF TACOMA,TERMNAL 7 C/D, OLYMPIC CONTAINER TERMINAL",
          "WEST SITCUM TERMINAL, TACOMA"
         ],
         "lat": {
          "bdata": "2YHlCBmiR0CFeF2/YKNHQLn8+bZgo0dApHN+iuOgR0CsBgySPqFHQFdLrIxGokdAnJmZmZmhR0AcsYhhh6FHQFQsYthhokdAJz1FDhGhR0DZgeUIGaJHQPpwAtNpo0dACEvnw7OiR0C2SiL7IKNHQIUUrkfhokdARg0YJH2iR0AP16NwPaJHQA==",
          "dtype": "f8"
         },
         "legendgroup": "",
         "lon": {
          "bdata": "WFRvDWyZXsBJHM78appewDyx3NJqml7A8GSNeoiYXsBy0TqqmphewP8digJ9ml7AJKYnLPGYXsCVh6JAn5hewLMxWkdVmV7A2E4GR8mbXsByH2PuWpxewDqqtwa2mF7A0Tsx68WaXsAxuB6F65lewBBvZB75mV7AjmLWi6GaXsCOYtaLoZpewA==",
          "dtype": "f8"
         },
         "marker": {
          "color": {
           "bdata": "CYVNs3i5AEAAAAAAAAAAAIGk/0O3je4/+nyvWzKO3j9nHapcz23qPwAAAAAAAAAAD8OBeuswjD/JaHMAf1ToPwAAAAAAAAAAAAAAAAAAAACXPFxZQgpNQAyYxoBpDO4/GpM/Ay1Lxj/03ho2K8m2P+qgDuqgDsA/UBc/Xfx04T8eQxDTwbWDPw==",
           "dtype": "f8"
          },
          "coloraxis": "coloraxis",
          "size": {
           "bdata": "VWtuk08hVUAofdInfbJXQIsfz5Klk1BAgiTzJ5Y2NUBr1kBNqA5CQC7oZh12T0FAiJlilX64UUCfHSzV3lRAQL9h7RvW/jhAMzMzMzNjUUAK8SGp4rJVQEYXXXTRbUxApabg30JjQEBEzZ3y7cMsQPiKr/iKjlNAeSIavZvnPUCc7b/s2HdAQA==",
           "dtype": "f8"
          },
          "sizemode": "area",
          "sizeref": 0.23697222222222222
         },
         "mode": "markers",
         "name": "",
         "showlegend": false,
         "subplot": "mapbox",
         "type": "scattermapbox"
        }
       ],
       "layout": {
        "coloraxis": {
         "cmax": 31.811255211496654,
         "cmin": -24.154112044539378,
         "colorbar": {
          "title": {
           "text": "Mean Hours at Anchor"
          }
         },
         "colorscale": [
          [
           0,
           "#440154"
          ],
          [
           0.1111111111111111,
           "#482878"
          ],
          [
           0.2222222222222222,
           "#3e4989"
          ],
          [
           0.3333333333333333,
           "#31688e"
          ],
          [
           0.4444444444444444,
           "#26828e"
          ],
          [
           0.5555555555555556,
           "#1f9e89"
          ],
          [
           0.6666666666666666,
           "#35b779"
          ],
          [
           0.7777777777777778,
           "#6ece58"
          ],
          [
           0.8888888888888888,
           "#b5de2b"
          ],
          [
           1,
           "#fde725"
          ]
         ]
        },
        "height": 600,
        "legend": {
         "itemsizing": "constant",
         "tracegroupgap": 0
        },
        "mapbox": {
         "center": {
          "lat": 47.267826764705944,
          "lon": -122.40584647058824
         },
         "domain": {
          "x": [
           0,
           1
          ],
          "y": [
           0,
           1
          ]
         },
         "style": "carto-positron",
         "zoom": 11.06564202431878
        },
        "template": {
         "data": {
          "bar": [
           {
            "error_x": {
             "color": "#2a3f5f"
            },
            "error_y": {
             "color": "#2a3f5f"
            },
            "marker": {
             "line": {
              "color": "#E5ECF6",
              "width": 0.5
             },
             "pattern": {
              "fillmode": "overlay",
              "size": 10,
              "solidity": 0.2
             }
            },
            "type": "bar"
           }
          ],
          "barpolar": [
           {
            "marker": {
             "line": {
              "color": "#E5ECF6",
              "width": 0.5
             },
             "pattern": {
              "fillmode": "overlay",
              "size": 10,
              "solidity": 0.2
             }
            },
            "type": "barpolar"
           }
          ],
          "carpet": [
           {
            "aaxis": {
             "endlinecolor": "#2a3f5f",
             "gridcolor": "white",
             "linecolor": "white",
             "minorgridcolor": "white",
             "startlinecolor": "#2a3f5f"
            },
            "baxis": {
             "endlinecolor": "#2a3f5f",
             "gridcolor": "white",
             "linecolor": "white",
             "minorgridcolor": "white",
             "startlinecolor": "#2a3f5f"
            },
            "type": "carpet"
           }
          ],
          "choropleth": [
           {
            "colorbar": {
             "outlinewidth": 0,
             "ticks": ""
            },
            "type": "choropleth"
           }
          ],
          "contour": [
           {
            "colorbar": {
             "outlinewidth": 0,
             "ticks": ""
            },
            "colorscale": [
             [
              0,
              "#0d0887"
             ],
             [
              0.1111111111111111,
              "#46039f"
             ],
             [
              0.2222222222222222,
              "#7201a8"
             ],
             [
              0.3333333333333333,
              "#9c179e"
             ],
             [
              0.4444444444444444,
              "#bd3786"
             ],
             [
              0.5555555555555556,
              "#d8576b"
             ],
             [
              0.6666666666666666,
              "#ed7953"
             ],
             [
              0.7777777777777778,
              "#fb9f3a"
             ],
             [
              0.8888888888888888,
              "#fdca26"
             ],
             [
              1,
              "#f0f921"
             ]
            ],
            "type": "contour"
           }
          ],
          "contourcarpet": [
           {
            "colorbar": {
             "outlinewidth": 0,
             "ticks": ""
            },
            "type": "contourcarpet"
           }
          ],
          "heatmap": [
           {
            "colorbar": {
             "outlinewidth": 0,
             "ticks": ""
            },
            "colorscale": [
             [
              0,
              "#0d0887"
             ],
             [
              0.1111111111111111,
              "#46039f"
             ],
             [
              0.2222222222222222,
              "#7201a8"
             ],
             [
              0.3333333333333333,
              "#9c179e"
             ],
             [
              0.4444444444444444,
              "#bd3786"
             ],
             [
              0.5555555555555556,
              "#d8576b"
             ],
             [
              0.6666666666666666,
              "#ed7953"
             ],
             [
              0.7777777777777778,
              "#fb9f3a"
             ],
             [
              0.8888888888888888,
              "#fdca26"
             ],
             [
              1,
              "#f0f921"
             ]
            ],
            "type": "heatmap"
           }
          ],
          "histogram": [
           {
            "marker": {
             "pattern": {
              "fillmode": "overlay",
              "size": 10,
              "solidity": 0.2
             }
            },
            "type": "histogram"
           }
          ],
          "histogram2d": [
           {
            "colorbar": {
             "outlinewidth": 0,
             "ticks": ""
            },
            "colorscale": [
             [
              0,
              "#0d0887"
             ],
             [
              0.1111111111111111,
              "#46039f"
             ],
             [
              0.2222222222222222,
              "#7201a8"
             ],
             [
              0.3333333333333333,
              "#9c179e"
             ],
             [
              0.4444444444444444,
              "#bd3786"
             ],
             [
              0.5555555555555556,
              "#d8576b"
             ],
             [
              0.6666666666666666,
              "#ed7953"
             ],
             [
              0.7777777777777778,
              "#fb9f3a"
             ],
             [
              0.8888888888888888,
              "#fdca26"
             ],
             [
              1,
              "#f0f921"
             ]
            ],
            "type": "histogram2d"
           }
          ],
          "histogram2dcontour": [
           {
            "colorbar": {
             "outlinewidth": 0,
             "ticks": ""
            },
            "colorscale": [
             [
              0,
              "#0d0887"
             ],
             [
              0.1111111111111111,
              "#46039f"
             ],
             [
              0.2222222222222222,
              "#7201a8"
             ],
             [
              0.3333333333333333,
              "#9c179e"
             ],
             [
              0.4444444444444444,
              "#bd3786"
             ],
             [
              0.5555555555555556,
              "#d8576b"
             ],
             [
              0.6666666666666666,
              "#ed7953"
             ],
             [
              0.7777777777777778,
              "#fb9f3a"
             ],
             [
              0.8888888888888888,
              "#fdca26"
             ],
             [
              1,
              "#f0f921"
             ]
            ],
            "type": "histogram2dcontour"
           }
          ],
          "mesh3d": [
           {
            "colorbar": {
             "outlinewidth": 0,
             "ticks": ""
            },
            "type": "mesh3d"
           }
          ],
          "parcoords": [
           {
            "line": {
             "colorbar": {
              "outlinewidth": 0,
              "ticks": ""
             }
            },
            "type": "parcoords"
           }
          ],
          "pie": [
           {
            "automargin": true,
            "type": "pie"
           }
          ],
          "scatter": [
           {
            "fillpattern": {
             "fillmode": "overlay",
             "size": 10,
             "solidity": 0.2
            },
            "type": "scatter"
           }
          ],
          "scatter3d": [
           {
            "line": {
             "colorbar": {
              "outlinewidth": 0,
              "ticks": ""
             }
            },
            "marker": {
             "colorbar": {
              "outlinewidth": 0,
              "ticks": ""
             }
            },
            "type": "scatter3d"
           }
          ],
          "scattercarpet": [
           {
            "marker": {
             "colorbar": {
              "outlinewidth": 0,
              "ticks": ""
             }
            },
            "type": "scattercarpet"
           }
          ],
          "scattergeo": [
           {
            "marker": {
             "colorbar": {
              "outlinewidth": 0,
              "ticks": ""
             }
            },
            "type": "scattergeo"
           }
          ],
          "scattergl": [
           {
            "marker": {
             "colorbar": {
              "outlinewidth": 0,
              "ticks": ""
             }
            },
            "type": "scattergl"
           }
          ],
          "scattermap": [
           {
            "marker": {
             "colorbar": {
              "outlinewidth": 0,
              "ticks": ""
             }
            },
            "type": "scattermap"
           }
          ],
          "scattermapbox": [
           {
            "marker": {
             "colorbar": {
              "outlinewidth": 0,
              "ticks": ""
             }
            },
            "type": "scattermapbox"
           }
          ],
          "scatterpolar": [
           {
            "marker": {
             "colorbar": {
              "outlinewidth": 0,
              "ticks": ""
             }
            },
            "type": "scatterpolar"
           }
          ],
          "scatterpolargl": [
           {
            "marker": {
             "colorbar": {
              "outlinewidth": 0,
              "ticks": ""
             }
            },
            "type": "scatterpolargl"
           }
          ],
          "scatterternary": [
           {
            "marker": {
             "colorbar": {
              "outlinewidth": 0,
              "ticks": ""
             }
            },
            "type": "scatterternary"
           }
          ],
          "surface": [
           {
            "colorbar": {
             "outlinewidth": 0,
             "ticks": ""
            },
            "colorscale": [
             [
              0,
              "#0d0887"
             ],
             [
              0.1111111111111111,
              "#46039f"
             ],
             [
              0.2222222222222222,
              "#7201a8"
             ],
             [
              0.3333333333333333,
              "#9c179e"
             ],
             [
              0.4444444444444444,
              "#bd3786"
             ],
             [
              0.5555555555555556,
              "#d8576b"
             ],
             [
              0.6666666666666666,
              "#ed7953"
             ],
             [
              0.7777777777777778,
              "#fb9f3a"
             ],
             [
              0.8888888888888888,
              "#fdca26"
             ],
             [
              1,
              "#f0f921"
             ]
            ],
            "type": "surface"
           }
          ],
          "table": [
           {
            "cells": {
             "fill": {
              "color": "#EBF0F8"
             },
             "line": {
              "color": "white"
             }
            },
            "header": {
             "fill": {
              "color": "#C8D4E3"
             },
             "line": {
              "color": "white"
             }
            },
            "type": "table"
           }
          ]
         },
         "layout": {
          "annotationdefaults": {
           "arrowcolor": "#2a3f5f",
           "arrowhead": 0,
           "arrowwidth": 1
          },
          "autotypenumbers": "strict",
          "coloraxis": {
           "colorbar": {
            "outlinewidth": 0,
            "ticks": ""
           }
          },
          "colorscale": {
           "diverging": [
            [
             0,
             "#8e0152"
            ],
            [
             0.1,
             "#c51b7d"
            ],
            [
             0.2,
             "#de77ae"
            ],
            [
             0.3,
             "#f1b6da"
            ],
            [
             0.4,
             "#fde0ef"
            ],
            [
             0.5,
             "#f7f7f7"
            ],
            [
             0.6,
             "#e6f5d0"
            ],
            [
             0.7,
             "#b8e186"
            ],
            [
             0.8,
             "#7fbc41"
            ],
            [
             0.9,
             "#4d9221"
            ],
            [
             1,
             "#276419"
            ]
           ],
           "sequential": [
            [
             0,
             "#0d0887"
            ],
            [
             0.1111111111111111,
             "#46039f"
            ],
            [
             0.2222222222222222,
             "#7201a8"
            ],
            [
             0.3333333333333333,
             "#9c179e"
            ],
            [
             0.4444444444444444,
             "#bd3786"
            ],
            [
             0.5555555555555556,
             "#d8576b"
            ],
            [
             0.6666666666666666,
             "#ed7953"
            ],
            [
             0.7777777777777778,
             "#fb9f3a"
            ],
            [
             0.8888888888888888,
             "#fdca26"
            ],
            [
             1,
             "#f0f921"
            ]
           ],
           "sequentialminus": [
            [
             0,
             "#0d0887"
            ],
            [
             0.1111111111111111,
             "#46039f"
            ],
            [
             0.2222222222222222,
             "#7201a8"
            ],
            [
             0.3333333333333333,
             "#9c179e"
            ],
            [
             0.4444444444444444,
             "#bd3786"
            ],
            [
             0.5555555555555556,
             "#d8576b"
            ],
            [
             0.6666666666666666,
             "#ed7953"
            ],
            [
             0.7777777777777778,
             "#fb9f3a"
            ],
            [
             0.8888888888888888,
             "#fdca26"
            ],
            [
             1,
             "#f0f921"
            ]
           ]
          },
          "colorway": [
           "#636efa",
           "#EF553B",
           "#00cc96",
           "#ab63fa",
           "#FFA15A",
           "#19d3f3",
           "#FF6692",
           "#B6E880",
           "#FF97FF",
           "#FECB52"
          ],
          "font": {
           "color": "#2a3f5f"
          },
          "geo": {
           "bgcolor": "white",
           "lakecolor": "white",
           "landcolor": "#E5ECF6",
           "showlakes": true,
           "showland": true,
           "subunitcolor": "white"
          },
          "hoverlabel": {
           "align": "left"
          },
          "hovermode": "closest",
          "mapbox": {
           "style": "light"
          },
          "paper_bgcolor": "white",
          "plot_bgcolor": "#E5ECF6",
          "polar": {
           "angularaxis": {
            "gridcolor": "white",
            "linecolor": "white",
            "ticks": ""
           },
           "bgcolor": "#E5ECF6",
           "radialaxis": {
            "gridcolor": "white",
            "linecolor": "white",
            "ticks": ""
           }
          },
          "scene": {
           "xaxis": {
            "backgroundcolor": "#E5ECF6",
            "gridcolor": "white",
            "gridwidth": 2,
            "linecolor": "white",
            "showbackground": true,
            "ticks": "",
            "zerolinecolor": "white"
           },
           "yaxis": {
            "backgroundcolor": "#E5ECF6",
            "gridcolor": "white",
            "gridwidth": 2,
            "linecolor": "white",
            "showbackground": true,
            "ticks": "",
            "zerolinecolor": "white"
           },
           "zaxis": {
            "backgroundcolor": "#E5ECF6",
            "gridcolor": "white",
            "gridwidth": 2,
            "linecolor": "white",
            "showbackground": true,
            "ticks": "",
            "zerolinecolor": "white"
           }
          },
          "shapedefaults": {
           "line": {
            "color": "#2a3f5f"
           }
          },
          "ternary": {
           "aaxis": {
            "gridcolor": "white",
            "linecolor": "white",
            "ticks": ""
           },
           "baxis": {
            "gridcolor": "white",
            "linecolor": "white",
            "ticks": ""
           },
           "bgcolor": "#E5ECF6",
           "caxis": {
            "gridcolor": "white",
            "linecolor": "white",
            "ticks": ""
           }
          },
          "title": {
           "x": 0.05
          },
          "xaxis": {
           "automargin": true,
           "gridcolor": "white",
           "linecolor": "white",
           "ticks": "",
           "title": {
            "standoff": 15
           },
           "zerolinecolor": "white",
           "zerolinewidth": 2
          },
          "yaxis": {
           "automargin": true,
           "gridcolor": "white",
           "linecolor": "white",
           "ticks": "",
           "title": {
            "standoff": 15
           },
           "zerolinecolor": "white",
           "zerolinewidth": 2
          }
         }
        },
        "title": {
         "text": "Hours at Berth vs. Hours at Anchor - Seattle"
        },
        "width": 800
       }
      }
     },
     "metadata": {},
     "output_type": "display_data"
    }
   ],
   "source": [
    "plot_mapbox(df=calls_df, cat_group='dock_name', filter_col='port_name', \n",
    "            filter=['Tacoma, WA'],\n",
    "            lat_col='dock_lat', lon_col='dock_lon', size_col='hrs_at_berth', size_col_alias='Mean Hours at Berth',\n",
    "            color_col='hrs_at_anchor', color_col_alias='Mean Hours at Anchor',\n",
    "            size_max=20, color_outlier_z=2,\n",
    "            title='Hours at Berth vs. Hours at Anchor - Seattle', hover_name='dock_name')"
   ]
  },
  {
   "cell_type": "code",
   "execution_count": 13,
   "id": "835ce6a5",
   "metadata": {},
   "outputs": [
    {
     "name": "stderr",
     "output_type": "stream",
     "text": [
      "/var/folders/dc/sgfd2dls28n4y4v4_jw03ly40000gp/T/ipykernel_9013/2422213061.py:85: DeprecationWarning:\n",
      "\n",
      "*scatter_mapbox* is deprecated! Use *scatter_map* instead. Learn more at: https://plotly.com/python/mapbox-to-maplibre/\n",
      "\n"
     ]
    },
    {
     "data": {
      "application/vnd.plotly.v1+json": {
       "config": {
        "plotlyServerURL": "https://plot.ly"
       },
       "data": [
        {
         "hovertemplate": "<b>%{hovertext}</b><br><br>Mean Hours at Berth=%{marker.size}<br>dock_lat=%{lat}<br>dock_lon=%{lon}<br>Mean Hours at Anchor=%{marker.color}<extra></extra>",
         "hovertext": [
          "Birmingham Steel Corp., Terminal 105, Berth No. 2.",
          "CRANE DOCK PIER 20",
          "CROWLEY MARINE SERVICES, PIER 17",
          "TRANS PACIFIC CONTAINER SERVICE CORP., TERMINAL 30 WHARF",
          "BIRMINGHAM STEEL CORP., TERMINAL 105, BERTH NO. 1",
          "SSA TERMINALS, TERMINAL 37 WHARF",
          "OPEN WATER-BUOYS & DOLPHINS",
          "SSA TERMINALS, TERMINAL 25 WHARF",
          "SSA TERMINALS, TERMINAL 18, BERTH 7",
          "RAINER COLD STORAGE & ICE, TERMINAL 25 SOUTH WHARF",
          "TERMINAL 5 SEATTLE, SSA MARINE",
          "TODD PACIFIC SHIPYARDS CORP., BERTHS F-K, PIERS NO. 4-6",
          "PIER 34",
          "TOTAL TERMINALS, TERMINAL 46 WHARF",
          "U. S. COAST GUARD, PIER 35",
          "CROWLEY MARITIME, TERMINAL 28 WHARF",
          "ELLIOTT BAY GENERAL ANCHORAGE",
          "PACIFIC TERMINALS LTD., WHARVES",
          "B P OIL CO., SEATTLE TERMINAL, PIER NO. 11",
          "S S A TERMINALS, TERMINAL 18, BERTHS 2-6"
         ],
         "lat": {
          "bdata": "RnQIHAnIR0DbEiujkclHQPFRuB6Fy0dAVjdQ4J3KR0C8HoXrUchHQGT8NO7Ny0dAMghXQKHKR0AogqrRq8lHQNPuVwG+yUdAbWMl5lnJR0DSzw1N2clHQIhe8dQjy0dAiZwwYTTLR0AszZGVX8xHQHBpp+Zyy0dAi1K0ci/KR0BkPIOG/stHQGRE2zF1yUdAw/UoXI/KR0AOLev+scpHQA==",
          "dtype": "f8"
         },
         "legendgroup": "",
         "lon": {
          "bdata": "s0NRoE+WXsBdOSUgJpZewHWw/s9hll7ARrSrkPKVXsCKjscMVJZewGW4HoXrlV7AK451cRuXXsAeufyH9JVewGj+JhQill7A/G9CIQKWXsBNW5TZIJdewMVztoDQll7AbQlrY+yVXsC+lQm/1JVewB65/If0lV7Av4R7Zd6VXsCUgApHkJZewCXM0eP3ll7AK8vz4O6WXsC3zD/6JpZewA==",
          "dtype": "f8"
         },
         "marker": {
          "color": {
           "bdata": "oNMGOm2gLUAAAAAAAAAAAAAAAAAAAAAAJO4R65i3E0BmZmZmZiY+QP9jYNeAqAdAVx6QrHMFNUAAAAAAAAAAAAjrFtW34xFAAAAAAAAAAABmKbv09cQXQAAAAAAAAAAASJP7Ksx5FkB+WKQMPN0TQClcj8L1aDBAAAAAAAAAAAB3d3d3d7c8QAAAAAAAAAAAd3d3d3d3BkALb9w1axojQA==",
           "dtype": "f8"
          },
          "coloraxis": "coloraxis",
          "size": {
           "bdata": "dLn9QYZaX0CPwvUoXDdQQEREREREdFhA0uxL8y6uPUCIiIiIiIxnQGFBcGXKxkZAJOtceUCyRkA0MzMzM+NfQFZVVVVVFTtAzczMzMycUUCkUvSwN6pGQDMzMzMzM0ZAAL1BOEsJSUCM1z9vEB5DQKJwPQrXs0dAMzMzMzPzMkDMzMzMzAwwQJqZmZmZGTRAIiIiIiIiMkAloU7DM3VIQA==",
           "dtype": "f8"
          },
          "sizemode": "area",
          "sizeref": 0.4709791666666666
         },
         "mode": "markers",
         "name": "",
         "showlegend": false,
         "subplot": "mapbox",
         "type": "scattermapbox"
        }
       ],
       "layout": {
        "coloraxis": {
         "cmax": 26.79767695986036,
         "cmin": -11.561925176502887,
         "colorbar": {
          "title": {
           "text": "Mean Hours at Anchor"
          }
         },
         "colorscale": [
          [
           0,
           "#440154"
          ],
          [
           0.1111111111111111,
           "#482878"
          ],
          [
           0.2222222222222222,
           "#3e4989"
          ],
          [
           0.3333333333333333,
           "#31688e"
          ],
          [
           0.4444444444444444,
           "#26828e"
          ],
          [
           0.5555555555555556,
           "#1f9e89"
          ],
          [
           0.6666666666666666,
           "#35b779"
          ],
          [
           0.7777777777777778,
           "#6ece58"
          ],
          [
           0.8888888888888888,
           "#b5de2b"
          ],
          [
           1,
           "#fde725"
          ]
         ]
        },
        "height": 600,
        "legend": {
         "itemsizing": "constant",
         "tracegroupgap": 0
        },
        "mapbox": {
         "center": {
          "lat": 47.58131575000005,
          "lon": -122.34873449999998
         },
         "domain": {
          "x": [
           0,
           1
          ],
          "y": [
           0,
           1
          ]
         },
         "style": "carto-positron",
         "zoom": 11.883039123510514
        },
        "template": {
         "data": {
          "bar": [
           {
            "error_x": {
             "color": "#2a3f5f"
            },
            "error_y": {
             "color": "#2a3f5f"
            },
            "marker": {
             "line": {
              "color": "#E5ECF6",
              "width": 0.5
             },
             "pattern": {
              "fillmode": "overlay",
              "size": 10,
              "solidity": 0.2
             }
            },
            "type": "bar"
           }
          ],
          "barpolar": [
           {
            "marker": {
             "line": {
              "color": "#E5ECF6",
              "width": 0.5
             },
             "pattern": {
              "fillmode": "overlay",
              "size": 10,
              "solidity": 0.2
             }
            },
            "type": "barpolar"
           }
          ],
          "carpet": [
           {
            "aaxis": {
             "endlinecolor": "#2a3f5f",
             "gridcolor": "white",
             "linecolor": "white",
             "minorgridcolor": "white",
             "startlinecolor": "#2a3f5f"
            },
            "baxis": {
             "endlinecolor": "#2a3f5f",
             "gridcolor": "white",
             "linecolor": "white",
             "minorgridcolor": "white",
             "startlinecolor": "#2a3f5f"
            },
            "type": "carpet"
           }
          ],
          "choropleth": [
           {
            "colorbar": {
             "outlinewidth": 0,
             "ticks": ""
            },
            "type": "choropleth"
           }
          ],
          "contour": [
           {
            "colorbar": {
             "outlinewidth": 0,
             "ticks": ""
            },
            "colorscale": [
             [
              0,
              "#0d0887"
             ],
             [
              0.1111111111111111,
              "#46039f"
             ],
             [
              0.2222222222222222,
              "#7201a8"
             ],
             [
              0.3333333333333333,
              "#9c179e"
             ],
             [
              0.4444444444444444,
              "#bd3786"
             ],
             [
              0.5555555555555556,
              "#d8576b"
             ],
             [
              0.6666666666666666,
              "#ed7953"
             ],
             [
              0.7777777777777778,
              "#fb9f3a"
             ],
             [
              0.8888888888888888,
              "#fdca26"
             ],
             [
              1,
              "#f0f921"
             ]
            ],
            "type": "contour"
           }
          ],
          "contourcarpet": [
           {
            "colorbar": {
             "outlinewidth": 0,
             "ticks": ""
            },
            "type": "contourcarpet"
           }
          ],
          "heatmap": [
           {
            "colorbar": {
             "outlinewidth": 0,
             "ticks": ""
            },
            "colorscale": [
             [
              0,
              "#0d0887"
             ],
             [
              0.1111111111111111,
              "#46039f"
             ],
             [
              0.2222222222222222,
              "#7201a8"
             ],
             [
              0.3333333333333333,
              "#9c179e"
             ],
             [
              0.4444444444444444,
              "#bd3786"
             ],
             [
              0.5555555555555556,
              "#d8576b"
             ],
             [
              0.6666666666666666,
              "#ed7953"
             ],
             [
              0.7777777777777778,
              "#fb9f3a"
             ],
             [
              0.8888888888888888,
              "#fdca26"
             ],
             [
              1,
              "#f0f921"
             ]
            ],
            "type": "heatmap"
           }
          ],
          "histogram": [
           {
            "marker": {
             "pattern": {
              "fillmode": "overlay",
              "size": 10,
              "solidity": 0.2
             }
            },
            "type": "histogram"
           }
          ],
          "histogram2d": [
           {
            "colorbar": {
             "outlinewidth": 0,
             "ticks": ""
            },
            "colorscale": [
             [
              0,
              "#0d0887"
             ],
             [
              0.1111111111111111,
              "#46039f"
             ],
             [
              0.2222222222222222,
              "#7201a8"
             ],
             [
              0.3333333333333333,
              "#9c179e"
             ],
             [
              0.4444444444444444,
              "#bd3786"
             ],
             [
              0.5555555555555556,
              "#d8576b"
             ],
             [
              0.6666666666666666,
              "#ed7953"
             ],
             [
              0.7777777777777778,
              "#fb9f3a"
             ],
             [
              0.8888888888888888,
              "#fdca26"
             ],
             [
              1,
              "#f0f921"
             ]
            ],
            "type": "histogram2d"
           }
          ],
          "histogram2dcontour": [
           {
            "colorbar": {
             "outlinewidth": 0,
             "ticks": ""
            },
            "colorscale": [
             [
              0,
              "#0d0887"
             ],
             [
              0.1111111111111111,
              "#46039f"
             ],
             [
              0.2222222222222222,
              "#7201a8"
             ],
             [
              0.3333333333333333,
              "#9c179e"
             ],
             [
              0.4444444444444444,
              "#bd3786"
             ],
             [
              0.5555555555555556,
              "#d8576b"
             ],
             [
              0.6666666666666666,
              "#ed7953"
             ],
             [
              0.7777777777777778,
              "#fb9f3a"
             ],
             [
              0.8888888888888888,
              "#fdca26"
             ],
             [
              1,
              "#f0f921"
             ]
            ],
            "type": "histogram2dcontour"
           }
          ],
          "mesh3d": [
           {
            "colorbar": {
             "outlinewidth": 0,
             "ticks": ""
            },
            "type": "mesh3d"
           }
          ],
          "parcoords": [
           {
            "line": {
             "colorbar": {
              "outlinewidth": 0,
              "ticks": ""
             }
            },
            "type": "parcoords"
           }
          ],
          "pie": [
           {
            "automargin": true,
            "type": "pie"
           }
          ],
          "scatter": [
           {
            "fillpattern": {
             "fillmode": "overlay",
             "size": 10,
             "solidity": 0.2
            },
            "type": "scatter"
           }
          ],
          "scatter3d": [
           {
            "line": {
             "colorbar": {
              "outlinewidth": 0,
              "ticks": ""
             }
            },
            "marker": {
             "colorbar": {
              "outlinewidth": 0,
              "ticks": ""
             }
            },
            "type": "scatter3d"
           }
          ],
          "scattercarpet": [
           {
            "marker": {
             "colorbar": {
              "outlinewidth": 0,
              "ticks": ""
             }
            },
            "type": "scattercarpet"
           }
          ],
          "scattergeo": [
           {
            "marker": {
             "colorbar": {
              "outlinewidth": 0,
              "ticks": ""
             }
            },
            "type": "scattergeo"
           }
          ],
          "scattergl": [
           {
            "marker": {
             "colorbar": {
              "outlinewidth": 0,
              "ticks": ""
             }
            },
            "type": "scattergl"
           }
          ],
          "scattermap": [
           {
            "marker": {
             "colorbar": {
              "outlinewidth": 0,
              "ticks": ""
             }
            },
            "type": "scattermap"
           }
          ],
          "scattermapbox": [
           {
            "marker": {
             "colorbar": {
              "outlinewidth": 0,
              "ticks": ""
             }
            },
            "type": "scattermapbox"
           }
          ],
          "scatterpolar": [
           {
            "marker": {
             "colorbar": {
              "outlinewidth": 0,
              "ticks": ""
             }
            },
            "type": "scatterpolar"
           }
          ],
          "scatterpolargl": [
           {
            "marker": {
             "colorbar": {
              "outlinewidth": 0,
              "ticks": ""
             }
            },
            "type": "scatterpolargl"
           }
          ],
          "scatterternary": [
           {
            "marker": {
             "colorbar": {
              "outlinewidth": 0,
              "ticks": ""
             }
            },
            "type": "scatterternary"
           }
          ],
          "surface": [
           {
            "colorbar": {
             "outlinewidth": 0,
             "ticks": ""
            },
            "colorscale": [
             [
              0,
              "#0d0887"
             ],
             [
              0.1111111111111111,
              "#46039f"
             ],
             [
              0.2222222222222222,
              "#7201a8"
             ],
             [
              0.3333333333333333,
              "#9c179e"
             ],
             [
              0.4444444444444444,
              "#bd3786"
             ],
             [
              0.5555555555555556,
              "#d8576b"
             ],
             [
              0.6666666666666666,
              "#ed7953"
             ],
             [
              0.7777777777777778,
              "#fb9f3a"
             ],
             [
              0.8888888888888888,
              "#fdca26"
             ],
             [
              1,
              "#f0f921"
             ]
            ],
            "type": "surface"
           }
          ],
          "table": [
           {
            "cells": {
             "fill": {
              "color": "#EBF0F8"
             },
             "line": {
              "color": "white"
             }
            },
            "header": {
             "fill": {
              "color": "#C8D4E3"
             },
             "line": {
              "color": "white"
             }
            },
            "type": "table"
           }
          ]
         },
         "layout": {
          "annotationdefaults": {
           "arrowcolor": "#2a3f5f",
           "arrowhead": 0,
           "arrowwidth": 1
          },
          "autotypenumbers": "strict",
          "coloraxis": {
           "colorbar": {
            "outlinewidth": 0,
            "ticks": ""
           }
          },
          "colorscale": {
           "diverging": [
            [
             0,
             "#8e0152"
            ],
            [
             0.1,
             "#c51b7d"
            ],
            [
             0.2,
             "#de77ae"
            ],
            [
             0.3,
             "#f1b6da"
            ],
            [
             0.4,
             "#fde0ef"
            ],
            [
             0.5,
             "#f7f7f7"
            ],
            [
             0.6,
             "#e6f5d0"
            ],
            [
             0.7,
             "#b8e186"
            ],
            [
             0.8,
             "#7fbc41"
            ],
            [
             0.9,
             "#4d9221"
            ],
            [
             1,
             "#276419"
            ]
           ],
           "sequential": [
            [
             0,
             "#0d0887"
            ],
            [
             0.1111111111111111,
             "#46039f"
            ],
            [
             0.2222222222222222,
             "#7201a8"
            ],
            [
             0.3333333333333333,
             "#9c179e"
            ],
            [
             0.4444444444444444,
             "#bd3786"
            ],
            [
             0.5555555555555556,
             "#d8576b"
            ],
            [
             0.6666666666666666,
             "#ed7953"
            ],
            [
             0.7777777777777778,
             "#fb9f3a"
            ],
            [
             0.8888888888888888,
             "#fdca26"
            ],
            [
             1,
             "#f0f921"
            ]
           ],
           "sequentialminus": [
            [
             0,
             "#0d0887"
            ],
            [
             0.1111111111111111,
             "#46039f"
            ],
            [
             0.2222222222222222,
             "#7201a8"
            ],
            [
             0.3333333333333333,
             "#9c179e"
            ],
            [
             0.4444444444444444,
             "#bd3786"
            ],
            [
             0.5555555555555556,
             "#d8576b"
            ],
            [
             0.6666666666666666,
             "#ed7953"
            ],
            [
             0.7777777777777778,
             "#fb9f3a"
            ],
            [
             0.8888888888888888,
             "#fdca26"
            ],
            [
             1,
             "#f0f921"
            ]
           ]
          },
          "colorway": [
           "#636efa",
           "#EF553B",
           "#00cc96",
           "#ab63fa",
           "#FFA15A",
           "#19d3f3",
           "#FF6692",
           "#B6E880",
           "#FF97FF",
           "#FECB52"
          ],
          "font": {
           "color": "#2a3f5f"
          },
          "geo": {
           "bgcolor": "white",
           "lakecolor": "white",
           "landcolor": "#E5ECF6",
           "showlakes": true,
           "showland": true,
           "subunitcolor": "white"
          },
          "hoverlabel": {
           "align": "left"
          },
          "hovermode": "closest",
          "mapbox": {
           "style": "light"
          },
          "paper_bgcolor": "white",
          "plot_bgcolor": "#E5ECF6",
          "polar": {
           "angularaxis": {
            "gridcolor": "white",
            "linecolor": "white",
            "ticks": ""
           },
           "bgcolor": "#E5ECF6",
           "radialaxis": {
            "gridcolor": "white",
            "linecolor": "white",
            "ticks": ""
           }
          },
          "scene": {
           "xaxis": {
            "backgroundcolor": "#E5ECF6",
            "gridcolor": "white",
            "gridwidth": 2,
            "linecolor": "white",
            "showbackground": true,
            "ticks": "",
            "zerolinecolor": "white"
           },
           "yaxis": {
            "backgroundcolor": "#E5ECF6",
            "gridcolor": "white",
            "gridwidth": 2,
            "linecolor": "white",
            "showbackground": true,
            "ticks": "",
            "zerolinecolor": "white"
           },
           "zaxis": {
            "backgroundcolor": "#E5ECF6",
            "gridcolor": "white",
            "gridwidth": 2,
            "linecolor": "white",
            "showbackground": true,
            "ticks": "",
            "zerolinecolor": "white"
           }
          },
          "shapedefaults": {
           "line": {
            "color": "#2a3f5f"
           }
          },
          "ternary": {
           "aaxis": {
            "gridcolor": "white",
            "linecolor": "white",
            "ticks": ""
           },
           "baxis": {
            "gridcolor": "white",
            "linecolor": "white",
            "ticks": ""
           },
           "bgcolor": "#E5ECF6",
           "caxis": {
            "gridcolor": "white",
            "linecolor": "white",
            "ticks": ""
           }
          },
          "title": {
           "x": 0.05
          },
          "xaxis": {
           "automargin": true,
           "gridcolor": "white",
           "linecolor": "white",
           "ticks": "",
           "title": {
            "standoff": 15
           },
           "zerolinecolor": "white",
           "zerolinewidth": 2
          },
          "yaxis": {
           "automargin": true,
           "gridcolor": "white",
           "linecolor": "white",
           "ticks": "",
           "title": {
            "standoff": 15
           },
           "zerolinecolor": "white",
           "zerolinewidth": 2
          }
         }
        },
        "title": {
         "text": "Hours at Berth vs. Hours at Anchor - Seattle"
        },
        "width": 800
       }
      }
     },
     "metadata": {},
     "output_type": "display_data"
    }
   ],
   "source": [
    "plot_mapbox(df=calls_df, cat_group='dock_name', filter_col='port_name', \n",
    "            filter=['Seattle, WA'],\n",
    "            lat_col='dock_lat', lon_col='dock_lon', size_col='hrs_at_berth', size_col_alias='Mean Hours at Berth',\n",
    "            color_col='hrs_at_anchor', color_col_alias='Mean Hours at Anchor',\n",
    "            size_max=20, color_outlier_z=2,\n",
    "            title='Hours at Berth vs. Hours at Anchor - Seattle', hover_name='dock_name')"
   ]
  },
  {
   "cell_type": "markdown",
   "id": "de8ab8e0",
   "metadata": {},
   "source": [
    "Note current issue with Tacoma Docks not showing up - will fix and re-run. "
   ]
  },
  {
   "cell_type": "code",
   "execution_count": 14,
   "id": "88773b02",
   "metadata": {},
   "outputs": [
    {
     "name": "stderr",
     "output_type": "stream",
     "text": [
      "/var/folders/dc/sgfd2dls28n4y4v4_jw03ly40000gp/T/ipykernel_9013/2422213061.py:85: DeprecationWarning:\n",
      "\n",
      "*scatter_mapbox* is deprecated! Use *scatter_map* instead. Learn more at: https://plotly.com/python/mapbox-to-maplibre/\n",
      "\n"
     ]
    },
    {
     "data": {
      "application/vnd.plotly.v1+json": {
       "config": {
        "plotlyServerURL": "https://plot.ly"
       },
       "data": [
        {
         "hovertemplate": "<b>%{hovertext}</b><br><br>Mean Hours at Berth=%{marker.size}<br>dock_lat=%{lat}<br>dock_lon=%{lon}<br>Mean Hours at Anchor=%{marker.color}<extra></extra>",
         "hovertext": [
          "SSA TERMINALS (ZIM CONTAINER LINE), BERTHS A - 88, 90, 92 7& 94",
          "MITSUBISHI CEMENT TERMINAL, BERTH F - 208",
          "CITY OF LONG BEACH HARBOR DEPT BERTHS E-14,15 & 16",
          "THUMS LONG BEACH CO BERTH G-216",
          "U S BORAX BERTHS 165 & 166",
          "TOYOTA VEHICLE PROCESSORS BERTHS B-82 & 83",
          "Port of Los Angeles, Berths 270 and 271",
          "KOCH CARBON SOUTHERN CALIF TERM BERTH F-211",
          "YUSEN TERMINALS BERTHS 212-221",
          "KAISER INTERNATIONAL CORP BERTHS 49 & 50",
          "EXXON MOBIL CORP., BERTHS 238, 239, 240A, 240B, & 240C",
          "MATSON TERMINALS, BERTH C-60, C-61, AND C-62",
          "STEVEDORING SVCS OF AMERICA BERTHS F-207 & 206",
          "PACIFIC CONTAINER TERMINAL, BERTHS J-247, 246, 245, 244, 243, & 242",
          "CALIFORNIA UNITED TERM BERTH D-33 & 34",
          "RIO DOCE PASHA TERMINAL BERTH 144, 145 & 146",
          "Catalina Express, Berth No. 95, Gates 4 and 3.",
          "BP TERMINAL SERVICES CORP., BERTHS B 78, 79 & 80",
          "BERTH 163 NUSTAR ENERGY",
          "CONOCO PHILLIPS, BERTHS 148 & 149",
          "CHEMOIL TERM CORP BERTH F-209",
          "CONOCO PHILLIPS, BERTHS 150 & 151",
          "BERTH 164 VALERO ENERGY",
          "PORT OF LOS ANGELES BERTH 45 - 47",
          "COOPER/T SMITH STEVEDORING CO INC BERTHS F-205&204",
          "INTERNATIONAL TRANSPORTATION SERVICES, PIER G",
          "ARCO WESTERN PIPELINE CO BERTH T-121",
          "ANDEAVOR LOGISTICS LP",
          "HANJIN SHIPPING CO. (LONG BEACH LOGISTICS), BERTHS 132 - 140",
          "PORT OF LOS ANGELES BERTH 267A",
          "PACIFIC CONTAINER TERMINAL, BERTHS J - 266, 268 & 270",
          "METROPOLITAN STEVEDORE BERTHS G-215, 214, 213&212",
          "MORTON SALT CO BERTH F-210",
          "CHINA SHIPPING CONTANER TERMINAL (WBCT) 101-102",
          "VOPAK TERMINAL LONG BEACH, BERTH S - 101",
          "BP TERMINAL SERVICES CORP., BERTH B - 77",
          "THUMS Long Beach Co., Berth No. G-216 West Pier.",
          "S. S. LANE VICTORY BERTH 94",
          "RIO DOCE PASHA TERM BERTHS 177, 178 & 179",
          "CALIFORNIA UNITED TERM BERTHS E-24, 25 & 26",
          "WESTWAY TRADING CORP LONG BEACH TERM BERTH J-242",
          "RIO DOCE PASHA TERM BERTHS 142 & 143",
          "HIUKA AMERICA CORP BERTHS T-118 & 119",
          "BERTH 406, (CUT) CALIFORNIA UNITED CONTAINER TERMINAL",
          "SEA-LAND SVC PAC DIV BERTHS G-230, 229, 228 & 227",
          "GATX TERMINALS CORP BERTHS 171, 172 & 173",
          "LONG BEACH CONTAINER TERMINAL, BERTHS F- 10, 9, 8, 7, 6, 5 & 4",
          "MANSON CONST & ENGINEERING CO BERTHS D-42N & 43",
          "S. A. RECYCLING, BERTHS 210 & 211",
          "MUNICIPAL FISH MARKETS WHARF BERTH 72",
          "EVERPORT TERMINAL SERVICES CONTAINER PORT BERTHS 227-236",
          "AMERICAN PRESIDENT LINES BERTHS 121-126",
          "SAN PEDRO BOAT WORKS BERTH 57",
          "CEMEX, BERTHS D - 32 &33",
          "CHEMOIL TERM CORP BERTH F-211A",
          "SHELL OIL PRODUCTS CO BERTHS 167-169",
          "PORT OF LOS ANGELES BERTHS 268 PIERS A & B",
          "CALIFORNIA UNITED TERM BERTH D-31A",
          "STEVEDORING SERVICE OF AMERICA BERTHS 54 & 55",
          "OPEN WATER HIGH SEAS",
          "PORT OF LOS ANGELES BERTH 147",
          "CATALINA EXPRESS GATES 3 & 4, BERTH 95",
          "KINDER MORGAN ENERGY PARNERS, BERTHS 118 - 119",
          "RIO DOCE PASHA TERM BERTHS 174, 175 & 176",
          "PORT OF LOS ANGELES BERTHS 153, 154 & 155",
          "AMERICAN PRESIDENT LINE BERTH 302-305",
          "AQUARIUM OF THE PACIFIC"
         ],
         "lat": {
          "bdata": "jKBq9GriQECTVYMwt99AQPcG0VrR4EBA0OpWz0nfQEBu0Jfe/uBAQPvddMsO40BAe0BLV7DdQECT6BA4EuBAQKtzforj4EBAZfw07s3bQEDCZisv+d1AQMr1KFyP4kBA3Db+RGXfQED9Po7myN5AQNYwfERM4UBAdWMl5lnhQECT6BA4EuBAQDQzMzMz40BAeYjxmlfhQECtksg+yOBAQI02OXzS30BAfFxUi4jgQEDjko5yMOFAQK/drwJ820BAXLtfBfjeQEDcyYtMwN9AQPPnhqbs4EBAzsTm49riQEB++6wyU+BAQLxH4XoU3kBAKxGo/kHeQEAObXL4pN9AQIAX78ft30BAjc7drpfgQEBcuB6F6+FAQDMU6X5O40BAFdrk8EnfQECNNjl80t9AQB/Q0hVs4UBArwYMkj7hQEBzTBb3H99AQJR6T+W04UBAdWMl5lnhQEA6wTdNn91AQFHhehSu30BANskBu5rgQEDyVPmekeBAQAq4WbxY4kBAqrjjTX7hQEBOd0mcFd1AQAjG+gYm30BAdWMl5lnhQEAUQdXo1dxAQCs9RQ4R4UBAk+gQOBLgQEA2yQG7muBAQDRf0EIC3kBA8+eGpuzgQEBM5LuUutxAQIJRu18F4EBAbtCX3v7gQEDW155ZEuBAQK2SyD7I4EBAs0Sg+gfhQECrc36K4+BAQDudZKvL3UBAgSPzyB/gQEA=",
          "dtype": "f8"
         },
         "legendgroup": "",
         "lon": {
          "bdata": "Rl8ktOWOXcC3mZmZmY1dwJDkDwaejV3Au3+CixWNXcBnNsgkI5FdwN5vQiECjl3AhDl6/N6QXcDpehSuR41dwFU+6NmskF3A/MAcPX6RXcDgdoTTgpFdwJmW58HdjV3A03aE04KNXcB5hXe5iIxdwLwn1qnyjV3AGAu1pnmRXcDad2LWi5FdwLdz0vvGjV3AWpNRZRiRXcDgdoTTgpFdwO/AHD1+jV3AjjI4Sl6RXcAnZTbIJJFdwICad5yikV3ACwu1pnmNXcBrh6JAn4xdwN5vQiECjl3AF3b7rDKOXcCbG0RrRY9dwLkA3gIJkF3AWY/C9SiMXcAbo3VUNY1dwEqeB3dnjV3A+MnDQq2RXcBDeTvCaY9dwHKad5yijV3AWjbIJCONXcC9LcpskJFdwPX0LXO6kF3AEFG9NbCNXcAYCcIVUIxdwFeeB3dnkV3AaEi/fR2OXcB0SMDo8o9dwOf0LXO6jF3AAKcFL/qQXcDTdoTTgo1dwB0DlfHvjV3AIZCg+DGQXcC2wfo/h5FdwAVVMZV+kV3AgJp3nKKRXcBd5A8GnpFdwJmW58HdjV3A/1jd6jmNXcBnNsgkI5FdwJi3I5wWkF3A2Ck6ksuNXcBGBkfJq5FdwLd2acNhkV3A2ndi1ouRXcDm4lMAjJFdwA25/If0kV3Aw8zMzMyQXcDNxYoaTJFdwGvVyoRfkF3AqT5XW7GNXcA=",
          "dtype": "f8"
         },
         "marker": {
          "color": {
           "bdata": "On/DB0xwLkB80id90uc/QCuhL2V3eBFAIcuWhJTGF0Dr5QJVaDRTQIicMq7IKQ9AsAVbsAV7XUCZmZmZmVlKQGdDCriSUilAAAAAAAAAAAAIn/AJn3A2QPSf7IoL9NA/oB229MKEGUAXj4RvRVElQCjGIQTZyClA8aksxSGDIECVdWu92CE0QN9FEKtd5D1ACbh3sMmtSkAv2IIt2Ig9QA+elpvtFkVAvLu7u7t7PkAUJbs2URJGQO7u7u7uLlVAeZ7neZ7nLEBqIwWMp1U+QCR7rEpp1U5AwQeCnRlZSEDaOBsZ4kstQJF+/ElSnCtAmV/zTotEM0Dl9nNi+WJQQH2q4Jhx0lFA3gLz6S1QL0AdYWPSEfY6QFnnygOStTFAjGCWjVUQE0AAAAAAAAAAAGR5HcZIPUhAb0oJvDbOC0BHG1f9A7osQFizFwpaxA9AzDgXv3fcOEBEmbZuOAovQAAAAAAAAAAAozBQjw2KKUDoeZ7neZ4aQAVgaM3Yefo/gz6iDG2cN0Dv7u7u7h5YQGBUubUs5jVAMvHqEBjIIUCmXMqlXMoUQEQ3dEM3tCFAF1dxFVe1TkAwKV4gkyJGQHZSPp2UrzFAMzqjMzqj+j/TCiqtoFIjQDj998ghQRNA3t3d3d0lREBZ58oDkjUnQDUmXlfzL0FAIE8J8pRwQ0AbrdEarZFKQF2dkKCM5SxAz5kkpriWA0A=",
           "dtype": "f8"
          },
          "coloraxis": "coloraxis",
          "size": {
           "bdata": "j2VDIf+MQkCUPumTPmk6QNg0HHWYqVNAdslgPFwgVkD22oh16dFVQPfjl2wzezJA+6RP+qTPJUC9u7u7u+t1QDD7W9JFDFVAvLu7u7szbUAWPuETPuFEQG8W8KBgvEhAlM0NXsI/N0AHnsQRrJhXQPyuEhjaIk5ADqP/QI1TXkDWm970prdQQNaUNWVNuU9ALyeWjuB9QkAbx3Ecx5JGQLlM6YDG+kVAvLu7u7vzWEAJ1RKgUC1HQImIiIiIRndA0Rqt0RrNSkBBfnA5XbxQQHVIbwABkz1AqXBX0FiDTEBhA1jwaPhYQL7/tJrFblFA9VFs5jZzVkA1m/goS+hRQLjmh0XK0GBAYD69BebfUUDQrwzU/Eo8QAbhLJXEiVVAqPZoQcUNPEAdmGsH5vpDQOQ6y2146khAN46A4aGTVUCLq/4BfUBRQF+F8LpVoGFAwseyGw9uWUAmzlh4UUpdQF2PwvUo3ElAd/6qnRw0V0Dsuq7ruh5dQE2aJ443iUBA4wRO4AROUkBmZmZmZmbWP07+ruh4qVJAdfVVnlT9UECBEziBE+hQQFIHdVAHLUZACHdwB3emUkAb5iOxYV5DQNpWHVHvmFNAXyAGYiCyWUCM0L0I3ctVQF7FDDp8WkpAIiIiIiLmZUDdFKOGv9VUQAvisBuDWERAHgOmMWAaTECqqqqqqupIQFFxwxyt6FtA9FxsJdL6V0A=",
           "dtype": "f8"
          },
          "sizemode": "area",
          "sizeref": 0.9310208333333334
         },
         "mode": "markers",
         "name": "",
         "showlegend": false,
         "subplot": "mapbox",
         "type": "scattermapbox"
        }
       ],
       "layout": {
        "coloraxis": {
         "cmax": 76.94597890873897,
         "cmin": -24.618647517598607,
         "colorbar": {
          "title": {
           "text": "Mean Hours at Anchor"
          }
         },
         "colorscale": [
          [
           0,
           "#440154"
          ],
          [
           0.1111111111111111,
           "#482878"
          ],
          [
           0.2222222222222222,
           "#3e4989"
          ],
          [
           0.3333333333333333,
           "#31688e"
          ],
          [
           0.4444444444444444,
           "#26828e"
          ],
          [
           0.5555555555555556,
           "#1f9e89"
          ],
          [
           0.6666666666666666,
           "#35b779"
          ],
          [
           0.7777777777777778,
           "#6ece58"
          ],
          [
           0.8888888888888888,
           "#b5de2b"
          ],
          [
           1,
           "#fde725"
          ]
         ]
        },
        "height": 600,
        "legend": {
         "itemsizing": "constant",
         "tracegroupgap": 0
        },
        "mapbox": {
         "center": {
          "lat": 33.75103759701499,
          "lon": -118.24092540298501
         },
         "domain": {
          "x": [
           0,
           1
          ],
          "y": [
           0,
           1
          ]
         },
         "style": "carto-positron",
         "zoom": 11.5
        },
        "template": {
         "data": {
          "bar": [
           {
            "error_x": {
             "color": "#2a3f5f"
            },
            "error_y": {
             "color": "#2a3f5f"
            },
            "marker": {
             "line": {
              "color": "#E5ECF6",
              "width": 0.5
             },
             "pattern": {
              "fillmode": "overlay",
              "size": 10,
              "solidity": 0.2
             }
            },
            "type": "bar"
           }
          ],
          "barpolar": [
           {
            "marker": {
             "line": {
              "color": "#E5ECF6",
              "width": 0.5
             },
             "pattern": {
              "fillmode": "overlay",
              "size": 10,
              "solidity": 0.2
             }
            },
            "type": "barpolar"
           }
          ],
          "carpet": [
           {
            "aaxis": {
             "endlinecolor": "#2a3f5f",
             "gridcolor": "white",
             "linecolor": "white",
             "minorgridcolor": "white",
             "startlinecolor": "#2a3f5f"
            },
            "baxis": {
             "endlinecolor": "#2a3f5f",
             "gridcolor": "white",
             "linecolor": "white",
             "minorgridcolor": "white",
             "startlinecolor": "#2a3f5f"
            },
            "type": "carpet"
           }
          ],
          "choropleth": [
           {
            "colorbar": {
             "outlinewidth": 0,
             "ticks": ""
            },
            "type": "choropleth"
           }
          ],
          "contour": [
           {
            "colorbar": {
             "outlinewidth": 0,
             "ticks": ""
            },
            "colorscale": [
             [
              0,
              "#0d0887"
             ],
             [
              0.1111111111111111,
              "#46039f"
             ],
             [
              0.2222222222222222,
              "#7201a8"
             ],
             [
              0.3333333333333333,
              "#9c179e"
             ],
             [
              0.4444444444444444,
              "#bd3786"
             ],
             [
              0.5555555555555556,
              "#d8576b"
             ],
             [
              0.6666666666666666,
              "#ed7953"
             ],
             [
              0.7777777777777778,
              "#fb9f3a"
             ],
             [
              0.8888888888888888,
              "#fdca26"
             ],
             [
              1,
              "#f0f921"
             ]
            ],
            "type": "contour"
           }
          ],
          "contourcarpet": [
           {
            "colorbar": {
             "outlinewidth": 0,
             "ticks": ""
            },
            "type": "contourcarpet"
           }
          ],
          "heatmap": [
           {
            "colorbar": {
             "outlinewidth": 0,
             "ticks": ""
            },
            "colorscale": [
             [
              0,
              "#0d0887"
             ],
             [
              0.1111111111111111,
              "#46039f"
             ],
             [
              0.2222222222222222,
              "#7201a8"
             ],
             [
              0.3333333333333333,
              "#9c179e"
             ],
             [
              0.4444444444444444,
              "#bd3786"
             ],
             [
              0.5555555555555556,
              "#d8576b"
             ],
             [
              0.6666666666666666,
              "#ed7953"
             ],
             [
              0.7777777777777778,
              "#fb9f3a"
             ],
             [
              0.8888888888888888,
              "#fdca26"
             ],
             [
              1,
              "#f0f921"
             ]
            ],
            "type": "heatmap"
           }
          ],
          "histogram": [
           {
            "marker": {
             "pattern": {
              "fillmode": "overlay",
              "size": 10,
              "solidity": 0.2
             }
            },
            "type": "histogram"
           }
          ],
          "histogram2d": [
           {
            "colorbar": {
             "outlinewidth": 0,
             "ticks": ""
            },
            "colorscale": [
             [
              0,
              "#0d0887"
             ],
             [
              0.1111111111111111,
              "#46039f"
             ],
             [
              0.2222222222222222,
              "#7201a8"
             ],
             [
              0.3333333333333333,
              "#9c179e"
             ],
             [
              0.4444444444444444,
              "#bd3786"
             ],
             [
              0.5555555555555556,
              "#d8576b"
             ],
             [
              0.6666666666666666,
              "#ed7953"
             ],
             [
              0.7777777777777778,
              "#fb9f3a"
             ],
             [
              0.8888888888888888,
              "#fdca26"
             ],
             [
              1,
              "#f0f921"
             ]
            ],
            "type": "histogram2d"
           }
          ],
          "histogram2dcontour": [
           {
            "colorbar": {
             "outlinewidth": 0,
             "ticks": ""
            },
            "colorscale": [
             [
              0,
              "#0d0887"
             ],
             [
              0.1111111111111111,
              "#46039f"
             ],
             [
              0.2222222222222222,
              "#7201a8"
             ],
             [
              0.3333333333333333,
              "#9c179e"
             ],
             [
              0.4444444444444444,
              "#bd3786"
             ],
             [
              0.5555555555555556,
              "#d8576b"
             ],
             [
              0.6666666666666666,
              "#ed7953"
             ],
             [
              0.7777777777777778,
              "#fb9f3a"
             ],
             [
              0.8888888888888888,
              "#fdca26"
             ],
             [
              1,
              "#f0f921"
             ]
            ],
            "type": "histogram2dcontour"
           }
          ],
          "mesh3d": [
           {
            "colorbar": {
             "outlinewidth": 0,
             "ticks": ""
            },
            "type": "mesh3d"
           }
          ],
          "parcoords": [
           {
            "line": {
             "colorbar": {
              "outlinewidth": 0,
              "ticks": ""
             }
            },
            "type": "parcoords"
           }
          ],
          "pie": [
           {
            "automargin": true,
            "type": "pie"
           }
          ],
          "scatter": [
           {
            "fillpattern": {
             "fillmode": "overlay",
             "size": 10,
             "solidity": 0.2
            },
            "type": "scatter"
           }
          ],
          "scatter3d": [
           {
            "line": {
             "colorbar": {
              "outlinewidth": 0,
              "ticks": ""
             }
            },
            "marker": {
             "colorbar": {
              "outlinewidth": 0,
              "ticks": ""
             }
            },
            "type": "scatter3d"
           }
          ],
          "scattercarpet": [
           {
            "marker": {
             "colorbar": {
              "outlinewidth": 0,
              "ticks": ""
             }
            },
            "type": "scattercarpet"
           }
          ],
          "scattergeo": [
           {
            "marker": {
             "colorbar": {
              "outlinewidth": 0,
              "ticks": ""
             }
            },
            "type": "scattergeo"
           }
          ],
          "scattergl": [
           {
            "marker": {
             "colorbar": {
              "outlinewidth": 0,
              "ticks": ""
             }
            },
            "type": "scattergl"
           }
          ],
          "scattermap": [
           {
            "marker": {
             "colorbar": {
              "outlinewidth": 0,
              "ticks": ""
             }
            },
            "type": "scattermap"
           }
          ],
          "scattermapbox": [
           {
            "marker": {
             "colorbar": {
              "outlinewidth": 0,
              "ticks": ""
             }
            },
            "type": "scattermapbox"
           }
          ],
          "scatterpolar": [
           {
            "marker": {
             "colorbar": {
              "outlinewidth": 0,
              "ticks": ""
             }
            },
            "type": "scatterpolar"
           }
          ],
          "scatterpolargl": [
           {
            "marker": {
             "colorbar": {
              "outlinewidth": 0,
              "ticks": ""
             }
            },
            "type": "scatterpolargl"
           }
          ],
          "scatterternary": [
           {
            "marker": {
             "colorbar": {
              "outlinewidth": 0,
              "ticks": ""
             }
            },
            "type": "scatterternary"
           }
          ],
          "surface": [
           {
            "colorbar": {
             "outlinewidth": 0,
             "ticks": ""
            },
            "colorscale": [
             [
              0,
              "#0d0887"
             ],
             [
              0.1111111111111111,
              "#46039f"
             ],
             [
              0.2222222222222222,
              "#7201a8"
             ],
             [
              0.3333333333333333,
              "#9c179e"
             ],
             [
              0.4444444444444444,
              "#bd3786"
             ],
             [
              0.5555555555555556,
              "#d8576b"
             ],
             [
              0.6666666666666666,
              "#ed7953"
             ],
             [
              0.7777777777777778,
              "#fb9f3a"
             ],
             [
              0.8888888888888888,
              "#fdca26"
             ],
             [
              1,
              "#f0f921"
             ]
            ],
            "type": "surface"
           }
          ],
          "table": [
           {
            "cells": {
             "fill": {
              "color": "#EBF0F8"
             },
             "line": {
              "color": "white"
             }
            },
            "header": {
             "fill": {
              "color": "#C8D4E3"
             },
             "line": {
              "color": "white"
             }
            },
            "type": "table"
           }
          ]
         },
         "layout": {
          "annotationdefaults": {
           "arrowcolor": "#2a3f5f",
           "arrowhead": 0,
           "arrowwidth": 1
          },
          "autotypenumbers": "strict",
          "coloraxis": {
           "colorbar": {
            "outlinewidth": 0,
            "ticks": ""
           }
          },
          "colorscale": {
           "diverging": [
            [
             0,
             "#8e0152"
            ],
            [
             0.1,
             "#c51b7d"
            ],
            [
             0.2,
             "#de77ae"
            ],
            [
             0.3,
             "#f1b6da"
            ],
            [
             0.4,
             "#fde0ef"
            ],
            [
             0.5,
             "#f7f7f7"
            ],
            [
             0.6,
             "#e6f5d0"
            ],
            [
             0.7,
             "#b8e186"
            ],
            [
             0.8,
             "#7fbc41"
            ],
            [
             0.9,
             "#4d9221"
            ],
            [
             1,
             "#276419"
            ]
           ],
           "sequential": [
            [
             0,
             "#0d0887"
            ],
            [
             0.1111111111111111,
             "#46039f"
            ],
            [
             0.2222222222222222,
             "#7201a8"
            ],
            [
             0.3333333333333333,
             "#9c179e"
            ],
            [
             0.4444444444444444,
             "#bd3786"
            ],
            [
             0.5555555555555556,
             "#d8576b"
            ],
            [
             0.6666666666666666,
             "#ed7953"
            ],
            [
             0.7777777777777778,
             "#fb9f3a"
            ],
            [
             0.8888888888888888,
             "#fdca26"
            ],
            [
             1,
             "#f0f921"
            ]
           ],
           "sequentialminus": [
            [
             0,
             "#0d0887"
            ],
            [
             0.1111111111111111,
             "#46039f"
            ],
            [
             0.2222222222222222,
             "#7201a8"
            ],
            [
             0.3333333333333333,
             "#9c179e"
            ],
            [
             0.4444444444444444,
             "#bd3786"
            ],
            [
             0.5555555555555556,
             "#d8576b"
            ],
            [
             0.6666666666666666,
             "#ed7953"
            ],
            [
             0.7777777777777778,
             "#fb9f3a"
            ],
            [
             0.8888888888888888,
             "#fdca26"
            ],
            [
             1,
             "#f0f921"
            ]
           ]
          },
          "colorway": [
           "#636efa",
           "#EF553B",
           "#00cc96",
           "#ab63fa",
           "#FFA15A",
           "#19d3f3",
           "#FF6692",
           "#B6E880",
           "#FF97FF",
           "#FECB52"
          ],
          "font": {
           "color": "#2a3f5f"
          },
          "geo": {
           "bgcolor": "white",
           "lakecolor": "white",
           "landcolor": "#E5ECF6",
           "showlakes": true,
           "showland": true,
           "subunitcolor": "white"
          },
          "hoverlabel": {
           "align": "left"
          },
          "hovermode": "closest",
          "mapbox": {
           "style": "light"
          },
          "paper_bgcolor": "white",
          "plot_bgcolor": "#E5ECF6",
          "polar": {
           "angularaxis": {
            "gridcolor": "white",
            "linecolor": "white",
            "ticks": ""
           },
           "bgcolor": "#E5ECF6",
           "radialaxis": {
            "gridcolor": "white",
            "linecolor": "white",
            "ticks": ""
           }
          },
          "scene": {
           "xaxis": {
            "backgroundcolor": "#E5ECF6",
            "gridcolor": "white",
            "gridwidth": 2,
            "linecolor": "white",
            "showbackground": true,
            "ticks": "",
            "zerolinecolor": "white"
           },
           "yaxis": {
            "backgroundcolor": "#E5ECF6",
            "gridcolor": "white",
            "gridwidth": 2,
            "linecolor": "white",
            "showbackground": true,
            "ticks": "",
            "zerolinecolor": "white"
           },
           "zaxis": {
            "backgroundcolor": "#E5ECF6",
            "gridcolor": "white",
            "gridwidth": 2,
            "linecolor": "white",
            "showbackground": true,
            "ticks": "",
            "zerolinecolor": "white"
           }
          },
          "shapedefaults": {
           "line": {
            "color": "#2a3f5f"
           }
          },
          "ternary": {
           "aaxis": {
            "gridcolor": "white",
            "linecolor": "white",
            "ticks": ""
           },
           "baxis": {
            "gridcolor": "white",
            "linecolor": "white",
            "ticks": ""
           },
           "bgcolor": "#E5ECF6",
           "caxis": {
            "gridcolor": "white",
            "linecolor": "white",
            "ticks": ""
           }
          },
          "title": {
           "x": 0.05
          },
          "xaxis": {
           "automargin": true,
           "gridcolor": "white",
           "linecolor": "white",
           "ticks": "",
           "title": {
            "standoff": 15
           },
           "zerolinecolor": "white",
           "zerolinewidth": 2
          },
          "yaxis": {
           "automargin": true,
           "gridcolor": "white",
           "linecolor": "white",
           "ticks": "",
           "title": {
            "standoff": 15
           },
           "zerolinecolor": "white",
           "zerolinewidth": 2
          }
         }
        },
        "title": {
         "text": "Hours at Berth vs. Hours at Anchor - San Pedro Ports"
        },
        "width": 800
       }
      }
     },
     "metadata": {},
     "output_type": "display_data"
    }
   ],
   "source": [
    "plot_mapbox(df=calls_df, cat_group='dock_name', filter_col='port_group', \n",
    "            filter=['San Pedro Ports'],\n",
    "            lat_col='dock_lat', lon_col='dock_lon', size_col='hrs_at_berth', size_col_alias='Mean Hours at Berth',\n",
    "            color_col='hrs_at_anchor', color_col_alias='Mean Hours at Anchor',\n",
    "            size_max=20, color_outlier_z=2, zoom=11.5,\n",
    "            title='Hours at Berth vs. Hours at Anchor - San Pedro Ports', hover_name='dock_name')"
   ]
  },
  {
   "cell_type": "code",
   "execution_count": 15,
   "id": "650a9330",
   "metadata": {},
   "outputs": [
    {
     "data": {
      "application/vnd.plotly.v1+json": {
       "config": {
        "plotlyServerURL": "https://plot.ly"
       },
       "data": [
        {
         "hovertemplate": "Vessel Size (m) per Hour at Berth=%{x}<br>=%{y}<extra></extra>",
         "legendgroup": "",
         "marker": {
          "color": "#636efa",
          "pattern": {
           "shape": ""
          }
         },
         "name": "",
         "orientation": "h",
         "showlegend": false,
         "textposition": "auto",
         "type": "bar",
         "x": {
          "bdata": "6H9ugJJSJkAJdmx4KcwoQND47pbXzihAjsc24AWcKUBYFVUk4/UpQBX3TrLUESpAsU9B0q+EKkD2YmxsT+sqQGw93+EQ/CpAtbIugyg5LEDTEgXrsLkuQGoRI7al1y5AeeNVIVFfMEBsHn+FCcIwQC6YMmwzkzFAd4eJTUc8M0CylLstSQ01QPzkJkgUHUFAv2QDt2//QUCeYmzg6thGQA==",
          "dtype": "f8"
         },
         "xaxis": "x",
         "y": [
          "WASHINGTON UNITED TERMINALS, TACOMA WHARF (WUT)",
          "ELLIOTT BAY GENERAL ANCHORAGE",
          "PORT OF TACOMA,TERMNAL 7 C/D, OLYMPIC CONTAINER TERMINAL",
          "PORT OF TACOMA, TERMINAL 7A AND 7 B.",
          "Marine Terminals Corp., Terminal 3, Tacoma Wharf.",
          "PACIFIC TERMINALS LTD., WHARVES",
          "CROWLEY MARITIME, TERMINAL 28 WHARF",
          "TERMINAL 5 SEATTLE, SSA MARINE",
          "WEYERHAEUSER PAPER CO., PUGET SOUND CHIP CENTER WHARF",
          "PORT OF TACOMA, BLAIR WATERWAY TERMINAL WHARF.",
          "PIER 34",
          "WEST SITCUM TERMINAL, TACOMA",
          "PORT OF TACOMA, BLAIR WATERWAY BARGE SLIP",
          "PORT OF TACOMA, HUSKY TERMINAL, TERMINAL 4 WHARF",
          "TRANS PACIFIC CONTAINER SERVICE CORP., TERMINAL 30 WHARF",
          "S S A TERMINALS, TERMINAL 18, BERTHS 2-6",
          "GEORGIA-PACIFIC GYPSUM CORP., TACOMA PLANT WHARF",
          "TOTEM OCEAN TRAILER EXPRESS, TACOMA TERMINAL WHARF",
          "TOTAL TERMINALS, TERMINAL 46 WHARF",
          "SSA TERMINALS, TERMINAL 18, BERTH 7"
         ],
         "yaxis": "y"
        }
       ],
       "layout": {
        "barmode": "relative",
        "height": 500,
        "legend": {
         "tracegroupgap": 0
        },
        "template": {
         "data": {
          "bar": [
           {
            "error_x": {
             "color": "#2a3f5f"
            },
            "error_y": {
             "color": "#2a3f5f"
            },
            "marker": {
             "line": {
              "color": "#E5ECF6",
              "width": 0.5
             },
             "pattern": {
              "fillmode": "overlay",
              "size": 10,
              "solidity": 0.2
             }
            },
            "type": "bar"
           }
          ],
          "barpolar": [
           {
            "marker": {
             "line": {
              "color": "#E5ECF6",
              "width": 0.5
             },
             "pattern": {
              "fillmode": "overlay",
              "size": 10,
              "solidity": 0.2
             }
            },
            "type": "barpolar"
           }
          ],
          "carpet": [
           {
            "aaxis": {
             "endlinecolor": "#2a3f5f",
             "gridcolor": "white",
             "linecolor": "white",
             "minorgridcolor": "white",
             "startlinecolor": "#2a3f5f"
            },
            "baxis": {
             "endlinecolor": "#2a3f5f",
             "gridcolor": "white",
             "linecolor": "white",
             "minorgridcolor": "white",
             "startlinecolor": "#2a3f5f"
            },
            "type": "carpet"
           }
          ],
          "choropleth": [
           {
            "colorbar": {
             "outlinewidth": 0,
             "ticks": ""
            },
            "type": "choropleth"
           }
          ],
          "contour": [
           {
            "colorbar": {
             "outlinewidth": 0,
             "ticks": ""
            },
            "colorscale": [
             [
              0,
              "#0d0887"
             ],
             [
              0.1111111111111111,
              "#46039f"
             ],
             [
              0.2222222222222222,
              "#7201a8"
             ],
             [
              0.3333333333333333,
              "#9c179e"
             ],
             [
              0.4444444444444444,
              "#bd3786"
             ],
             [
              0.5555555555555556,
              "#d8576b"
             ],
             [
              0.6666666666666666,
              "#ed7953"
             ],
             [
              0.7777777777777778,
              "#fb9f3a"
             ],
             [
              0.8888888888888888,
              "#fdca26"
             ],
             [
              1,
              "#f0f921"
             ]
            ],
            "type": "contour"
           }
          ],
          "contourcarpet": [
           {
            "colorbar": {
             "outlinewidth": 0,
             "ticks": ""
            },
            "type": "contourcarpet"
           }
          ],
          "heatmap": [
           {
            "colorbar": {
             "outlinewidth": 0,
             "ticks": ""
            },
            "colorscale": [
             [
              0,
              "#0d0887"
             ],
             [
              0.1111111111111111,
              "#46039f"
             ],
             [
              0.2222222222222222,
              "#7201a8"
             ],
             [
              0.3333333333333333,
              "#9c179e"
             ],
             [
              0.4444444444444444,
              "#bd3786"
             ],
             [
              0.5555555555555556,
              "#d8576b"
             ],
             [
              0.6666666666666666,
              "#ed7953"
             ],
             [
              0.7777777777777778,
              "#fb9f3a"
             ],
             [
              0.8888888888888888,
              "#fdca26"
             ],
             [
              1,
              "#f0f921"
             ]
            ],
            "type": "heatmap"
           }
          ],
          "histogram": [
           {
            "marker": {
             "pattern": {
              "fillmode": "overlay",
              "size": 10,
              "solidity": 0.2
             }
            },
            "type": "histogram"
           }
          ],
          "histogram2d": [
           {
            "colorbar": {
             "outlinewidth": 0,
             "ticks": ""
            },
            "colorscale": [
             [
              0,
              "#0d0887"
             ],
             [
              0.1111111111111111,
              "#46039f"
             ],
             [
              0.2222222222222222,
              "#7201a8"
             ],
             [
              0.3333333333333333,
              "#9c179e"
             ],
             [
              0.4444444444444444,
              "#bd3786"
             ],
             [
              0.5555555555555556,
              "#d8576b"
             ],
             [
              0.6666666666666666,
              "#ed7953"
             ],
             [
              0.7777777777777778,
              "#fb9f3a"
             ],
             [
              0.8888888888888888,
              "#fdca26"
             ],
             [
              1,
              "#f0f921"
             ]
            ],
            "type": "histogram2d"
           }
          ],
          "histogram2dcontour": [
           {
            "colorbar": {
             "outlinewidth": 0,
             "ticks": ""
            },
            "colorscale": [
             [
              0,
              "#0d0887"
             ],
             [
              0.1111111111111111,
              "#46039f"
             ],
             [
              0.2222222222222222,
              "#7201a8"
             ],
             [
              0.3333333333333333,
              "#9c179e"
             ],
             [
              0.4444444444444444,
              "#bd3786"
             ],
             [
              0.5555555555555556,
              "#d8576b"
             ],
             [
              0.6666666666666666,
              "#ed7953"
             ],
             [
              0.7777777777777778,
              "#fb9f3a"
             ],
             [
              0.8888888888888888,
              "#fdca26"
             ],
             [
              1,
              "#f0f921"
             ]
            ],
            "type": "histogram2dcontour"
           }
          ],
          "mesh3d": [
           {
            "colorbar": {
             "outlinewidth": 0,
             "ticks": ""
            },
            "type": "mesh3d"
           }
          ],
          "parcoords": [
           {
            "line": {
             "colorbar": {
              "outlinewidth": 0,
              "ticks": ""
             }
            },
            "type": "parcoords"
           }
          ],
          "pie": [
           {
            "automargin": true,
            "type": "pie"
           }
          ],
          "scatter": [
           {
            "fillpattern": {
             "fillmode": "overlay",
             "size": 10,
             "solidity": 0.2
            },
            "type": "scatter"
           }
          ],
          "scatter3d": [
           {
            "line": {
             "colorbar": {
              "outlinewidth": 0,
              "ticks": ""
             }
            },
            "marker": {
             "colorbar": {
              "outlinewidth": 0,
              "ticks": ""
             }
            },
            "type": "scatter3d"
           }
          ],
          "scattercarpet": [
           {
            "marker": {
             "colorbar": {
              "outlinewidth": 0,
              "ticks": ""
             }
            },
            "type": "scattercarpet"
           }
          ],
          "scattergeo": [
           {
            "marker": {
             "colorbar": {
              "outlinewidth": 0,
              "ticks": ""
             }
            },
            "type": "scattergeo"
           }
          ],
          "scattergl": [
           {
            "marker": {
             "colorbar": {
              "outlinewidth": 0,
              "ticks": ""
             }
            },
            "type": "scattergl"
           }
          ],
          "scattermap": [
           {
            "marker": {
             "colorbar": {
              "outlinewidth": 0,
              "ticks": ""
             }
            },
            "type": "scattermap"
           }
          ],
          "scattermapbox": [
           {
            "marker": {
             "colorbar": {
              "outlinewidth": 0,
              "ticks": ""
             }
            },
            "type": "scattermapbox"
           }
          ],
          "scatterpolar": [
           {
            "marker": {
             "colorbar": {
              "outlinewidth": 0,
              "ticks": ""
             }
            },
            "type": "scatterpolar"
           }
          ],
          "scatterpolargl": [
           {
            "marker": {
             "colorbar": {
              "outlinewidth": 0,
              "ticks": ""
             }
            },
            "type": "scatterpolargl"
           }
          ],
          "scatterternary": [
           {
            "marker": {
             "colorbar": {
              "outlinewidth": 0,
              "ticks": ""
             }
            },
            "type": "scatterternary"
           }
          ],
          "surface": [
           {
            "colorbar": {
             "outlinewidth": 0,
             "ticks": ""
            },
            "colorscale": [
             [
              0,
              "#0d0887"
             ],
             [
              0.1111111111111111,
              "#46039f"
             ],
             [
              0.2222222222222222,
              "#7201a8"
             ],
             [
              0.3333333333333333,
              "#9c179e"
             ],
             [
              0.4444444444444444,
              "#bd3786"
             ],
             [
              0.5555555555555556,
              "#d8576b"
             ],
             [
              0.6666666666666666,
              "#ed7953"
             ],
             [
              0.7777777777777778,
              "#fb9f3a"
             ],
             [
              0.8888888888888888,
              "#fdca26"
             ],
             [
              1,
              "#f0f921"
             ]
            ],
            "type": "surface"
           }
          ],
          "table": [
           {
            "cells": {
             "fill": {
              "color": "#EBF0F8"
             },
             "line": {
              "color": "white"
             }
            },
            "header": {
             "fill": {
              "color": "#C8D4E3"
             },
             "line": {
              "color": "white"
             }
            },
            "type": "table"
           }
          ]
         },
         "layout": {
          "annotationdefaults": {
           "arrowcolor": "#2a3f5f",
           "arrowhead": 0,
           "arrowwidth": 1
          },
          "autotypenumbers": "strict",
          "coloraxis": {
           "colorbar": {
            "outlinewidth": 0,
            "ticks": ""
           }
          },
          "colorscale": {
           "diverging": [
            [
             0,
             "#8e0152"
            ],
            [
             0.1,
             "#c51b7d"
            ],
            [
             0.2,
             "#de77ae"
            ],
            [
             0.3,
             "#f1b6da"
            ],
            [
             0.4,
             "#fde0ef"
            ],
            [
             0.5,
             "#f7f7f7"
            ],
            [
             0.6,
             "#e6f5d0"
            ],
            [
             0.7,
             "#b8e186"
            ],
            [
             0.8,
             "#7fbc41"
            ],
            [
             0.9,
             "#4d9221"
            ],
            [
             1,
             "#276419"
            ]
           ],
           "sequential": [
            [
             0,
             "#0d0887"
            ],
            [
             0.1111111111111111,
             "#46039f"
            ],
            [
             0.2222222222222222,
             "#7201a8"
            ],
            [
             0.3333333333333333,
             "#9c179e"
            ],
            [
             0.4444444444444444,
             "#bd3786"
            ],
            [
             0.5555555555555556,
             "#d8576b"
            ],
            [
             0.6666666666666666,
             "#ed7953"
            ],
            [
             0.7777777777777778,
             "#fb9f3a"
            ],
            [
             0.8888888888888888,
             "#fdca26"
            ],
            [
             1,
             "#f0f921"
            ]
           ],
           "sequentialminus": [
            [
             0,
             "#0d0887"
            ],
            [
             0.1111111111111111,
             "#46039f"
            ],
            [
             0.2222222222222222,
             "#7201a8"
            ],
            [
             0.3333333333333333,
             "#9c179e"
            ],
            [
             0.4444444444444444,
             "#bd3786"
            ],
            [
             0.5555555555555556,
             "#d8576b"
            ],
            [
             0.6666666666666666,
             "#ed7953"
            ],
            [
             0.7777777777777778,
             "#fb9f3a"
            ],
            [
             0.8888888888888888,
             "#fdca26"
            ],
            [
             1,
             "#f0f921"
            ]
           ]
          },
          "colorway": [
           "#636efa",
           "#EF553B",
           "#00cc96",
           "#ab63fa",
           "#FFA15A",
           "#19d3f3",
           "#FF6692",
           "#B6E880",
           "#FF97FF",
           "#FECB52"
          ],
          "font": {
           "color": "#2a3f5f"
          },
          "geo": {
           "bgcolor": "white",
           "lakecolor": "white",
           "landcolor": "#E5ECF6",
           "showlakes": true,
           "showland": true,
           "subunitcolor": "white"
          },
          "hoverlabel": {
           "align": "left"
          },
          "hovermode": "closest",
          "mapbox": {
           "style": "light"
          },
          "paper_bgcolor": "white",
          "plot_bgcolor": "#E5ECF6",
          "polar": {
           "angularaxis": {
            "gridcolor": "white",
            "linecolor": "white",
            "ticks": ""
           },
           "bgcolor": "#E5ECF6",
           "radialaxis": {
            "gridcolor": "white",
            "linecolor": "white",
            "ticks": ""
           }
          },
          "scene": {
           "xaxis": {
            "backgroundcolor": "#E5ECF6",
            "gridcolor": "white",
            "gridwidth": 2,
            "linecolor": "white",
            "showbackground": true,
            "ticks": "",
            "zerolinecolor": "white"
           },
           "yaxis": {
            "backgroundcolor": "#E5ECF6",
            "gridcolor": "white",
            "gridwidth": 2,
            "linecolor": "white",
            "showbackground": true,
            "ticks": "",
            "zerolinecolor": "white"
           },
           "zaxis": {
            "backgroundcolor": "#E5ECF6",
            "gridcolor": "white",
            "gridwidth": 2,
            "linecolor": "white",
            "showbackground": true,
            "ticks": "",
            "zerolinecolor": "white"
           }
          },
          "shapedefaults": {
           "line": {
            "color": "#2a3f5f"
           }
          },
          "ternary": {
           "aaxis": {
            "gridcolor": "white",
            "linecolor": "white",
            "ticks": ""
           },
           "baxis": {
            "gridcolor": "white",
            "linecolor": "white",
            "ticks": ""
           },
           "bgcolor": "#E5ECF6",
           "caxis": {
            "gridcolor": "white",
            "linecolor": "white",
            "ticks": ""
           }
          },
          "title": {
           "x": 0.05
          },
          "xaxis": {
           "automargin": true,
           "gridcolor": "white",
           "linecolor": "white",
           "ticks": "",
           "title": {
            "standoff": 15
           },
           "zerolinecolor": "white",
           "zerolinewidth": 2
          },
          "yaxis": {
           "automargin": true,
           "gridcolor": "white",
           "linecolor": "white",
           "ticks": "",
           "title": {
            "standoff": 15
           },
           "zerolinecolor": "white",
           "zerolinewidth": 2
          }
         }
        },
        "title": {
         "text": "Top Performing Docks - NW Seaport Alliance"
        },
        "width": 800,
        "xaxis": {
         "anchor": "y",
         "domain": [
          0,
          1
         ],
         "title": {
          "text": "Vessel Size (m) per Hour at Berth"
         }
        },
        "yaxis": {
         "anchor": "x",
         "domain": [
          0,
          1
         ],
         "title": {
          "text": ""
         }
        }
       }
      }
     },
     "metadata": {},
     "output_type": "display_data"
    }
   ],
   "source": [
    "#group and define efficiency metrict\n",
    "df = (\n",
    "    calls_df.filter(pl.col('port_group')=='NW Seaport Alliance')\n",
    "    .with_columns(\n",
    "        (pl.col('vessel_size')/pl.col('hrs_at_berth')).alias('Efficiency Score')\n",
    "    )\n",
    ")\n",
    "\n",
    "bar_ranking(df,\n",
    "            cat_group='dock_name', stat_col='Efficiency Score',\n",
    "            stat_alias='Vessel Size (m) per Hour at Berth', \n",
    "            title='Top Performing Docks - NW Seaport Alliance',\n",
    "            labels={'dock_name':''},\n",
    "            limit=20, width=800, height=500)"
   ]
  }
 ],
 "metadata": {
  "kernelspec": {
   "display_name": "port_performance",
   "language": "python",
   "name": "python3"
  },
  "language_info": {
   "codemirror_mode": {
    "name": "ipython",
    "version": 3
   },
   "file_extension": ".py",
   "mimetype": "text/x-python",
   "name": "python",
   "nbconvert_exporter": "python",
   "pygments_lexer": "ipython3",
   "version": "3.13.2"
  }
 },
 "nbformat": 4,
 "nbformat_minor": 5
}
